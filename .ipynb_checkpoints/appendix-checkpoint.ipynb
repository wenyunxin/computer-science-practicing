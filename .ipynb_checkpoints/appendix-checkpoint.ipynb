{
 "cells": [
  {
   "cell_type": "markdown",
   "id": "b9198ba6",
   "metadata": {},
   "source": [
    "# Appendix {#tut-appendix}\n",
    "\n",
    "## Interactive Mode {#tut-interac}\n",
    "\n",
    "### Error Handling {#tut-error}\n",
    "\n",
    "When an error occurs, the interpreter prints an error message and a\n",
    "stack trace. In interactive mode, it then returns to the primary prompt;\n",
    "when input came from a file, it exits with a nonzero exit status after\n",
    "printing the stack trace. (Exceptions handled by an\n",
    "`except`{.interpreted-text role=\"keyword\"} clause in a\n",
    "`try`{.interpreted-text role=\"keyword\"} statement are not errors in this\n",
    "context.) Some errors are unconditionally fatal and cause an exit with a\n",
    "nonzero exit; this applies to internal inconsistencies and some cases of\n",
    "running out of memory. All error messages are written to the standard\n",
    "error stream; normal output from executed commands is written to\n",
    "standard output.\n",
    "\n",
    "Typing the interrupt character (usually `Control-C`{.interpreted-text\n",
    "role=\"kbd\"} or `Delete`{.interpreted-text role=\"kbd\"}) to the primary or\n",
    "secondary prompt cancels the input and returns to the primary\n",
    "prompt.[^1] Typing an interrupt while a command is executing raises the\n",
    "`KeyboardInterrupt`{.interpreted-text role=\"exc\"} exception, which may\n",
    "be handled by a `try`{.interpreted-text role=\"keyword\"} statement.\n",
    "\n",
    "### Executable Python Scripts {#tut-scripts}\n",
    "\n",
    "On BSD\\'ish Unix systems, Python scripts can be made directly\n",
    "executable, like shell scripts, by putting the line :"
   ]
  },
  {
   "cell_type": "code",
   "execution_count": null,
   "id": "ae4b2aa5",
   "metadata": {},
   "outputs": [],
   "source": [
    "#!/usr/bin/env python3.5"
   ]
  },
  {
   "cell_type": "markdown",
   "id": "b3c722ce",
   "metadata": {},
   "source": [
    "(assuming that the interpreter is on the user\\'s\n",
    "`PATH`{.interpreted-text role=\"envvar\"}) at the beginning of the script\n",
    "and giving the file an executable mode. The `#!` must be the first two\n",
    "characters of the file. On some platforms, this first line must end with\n",
    "a Unix-style line ending (`'\\n'`), not a Windows (`'\\r\\n'`) line ending.\n",
    "Note that the hash, or pound, character, `'#'`, is used to start a\n",
    "comment in Python.\n",
    "\n",
    "The script can be given an executable mode, or permission, using the\n",
    "`chmod`{.interpreted-text role=\"program\"} command."
   ]
  },
  {
   "cell_type": "code",
   "execution_count": null,
   "id": "1b46fc37",
   "metadata": {
    "attributes": {
     "classes": [
      "shell-session"
     ],
     "id": ""
    }
   },
   "outputs": [],
   "source": [
    "$ chmod +x myscript.py"
   ]
  },
  {
   "cell_type": "markdown",
   "id": "6717d4fa",
   "metadata": {},
   "source": [
    "On Windows systems, there is no notion of an \\\"executable mode\\\". The\n",
    "Python installer automatically associates `.py` files with `python.exe`\n",
    "so that a double-click on a Python file will run it as a script. The\n",
    "extension can also be `.pyw`, in that case, the console window that\n",
    "normally appears is suppressed.\n",
    "\n",
    "### The Interactive Startup File {#tut-startup}\n",
    "\n",
    "When you use Python interactively, it is frequently handy to have some\n",
    "standard commands executed every time the interpreter is started. You\n",
    "can do this by setting an environment variable named\n",
    "`PYTHONSTARTUP`{.interpreted-text role=\"envvar\"} to the name of a file\n",
    "containing your start-up commands. This is similar to the\n",
    "`.profile`{.interpreted-text role=\"file\"} feature of the Unix shells.\n",
    "\n",
    "This file is only read in interactive sessions, not when Python reads\n",
    "commands from a script, and not when `/dev/tty`{.interpreted-text\n",
    "role=\"file\"} is given as the explicit source of commands (which\n",
    "otherwise behaves like an interactive session). It is executed in the\n",
    "same namespace where interactive commands are executed, so that objects\n",
    "that it defines or imports can be used without qualification in the\n",
    "interactive session. You can also change the prompts `sys.ps1` and\n",
    "`sys.ps2` in this file.\n",
    "\n",
    "If you want to read an additional start-up file from the current\n",
    "directory, you can program this in the global start-up file using code\n",
    "like\n",
    "`if os.path.isfile('.pythonrc.py'): exec(open('.pythonrc.py').read())`.\n",
    "If you want to use the startup file in a script, you must do this\n",
    "explicitly in the script:"
   ]
  },
  {
   "cell_type": "code",
   "execution_count": null,
   "id": "478cd649",
   "metadata": {},
   "outputs": [],
   "source": [
    "import os\n",
    "filename = os.environ.get('PYTHONSTARTUP')\n",
    "if filename and os.path.isfile(filename):\n",
    "    with open(filename) as fobj:\n",
    "        startup_file = fobj.read()\n",
    "    exec(startup_file)"
   ]
  },
  {
   "cell_type": "markdown",
   "id": "dd23b0cf",
   "metadata": {},
   "source": [
    "### The Customization Modules {#tut-customize}\n",
    "\n",
    "Python provides two hooks to let you customize it:\n",
    "`sitecustomize`{.interpreted-text role=\"mod\"} and\n",
    "`usercustomize`{.interpreted-text role=\"mod\"}. To see how it works, you\n",
    "need first to find the location of your user site-packages directory.\n",
    "Start Python and run this code:"
   ]
  },
  {
   "cell_type": "code",
   "execution_count": null,
   "id": "72a3913b",
   "metadata": {},
   "outputs": [],
   "source": [
    ">>> import site\n",
    ">>> site.getusersitepackages()\n",
    "'/home/user/.local/lib/python3.5/site-packages'"
   ]
  },
  {
   "cell_type": "markdown",
   "id": "9ca75bdf",
   "metadata": {},
   "source": [
    "Now you can create a file named `usercustomize.py`{.interpreted-text\n",
    "role=\"file\"} in that directory and put anything you want in it. It will\n",
    "affect every invocation of Python, unless it is started with the\n",
    "`-s`{.interpreted-text role=\"option\"} option to disable the automatic\n",
    "import.\n",
    "\n",
    "`sitecustomize`{.interpreted-text role=\"mod\"} works in the same way, but\n",
    "is typically created by an administrator of the computer in the global\n",
    "site-packages directory, and is imported before\n",
    "`usercustomize`{.interpreted-text role=\"mod\"}. See the documentation of\n",
    "the `site`{.interpreted-text role=\"mod\"} module for more details.\n",
    "\n",
    "**Footnotes**\n",
    "\n",
    "[^1]: A problem with the GNU Readline package may prevent this."
   ]
  }
 ],
 "metadata": {},
 "nbformat": 4,
 "nbformat_minor": 5
}
