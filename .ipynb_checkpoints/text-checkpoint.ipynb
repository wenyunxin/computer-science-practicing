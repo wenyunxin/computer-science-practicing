{
 "cells": [
  {
   "cell_type": "code",
   "execution_count": 1,
   "id": "5706e328-6fe6-48ed-9733-ece22e5f7ebd",
   "metadata": {},
   "outputs": [],
   "source": [
    "from IPython.core.interactiveshell import InteractiveShell\n",
    "InteractiveShell.ast_node_interactivity = \"all\""
   ]
  },
  {
   "cell_type": "code",
   "execution_count": 2,
   "id": "586fc57a-8a5f-4f88-8a71-8589a5f9b6ca",
   "metadata": {
    "tags": []
   },
   "outputs": [],
   "source": [
    "from write_subtitle import write_subtitle, write_subtitle_txt"
   ]
  },
  {
   "cell_type": "code",
   "execution_count": 2,
   "id": "3dd9e863-75ed-44a0-a9e5-88b9db1a0528",
   "metadata": {},
   "outputs": [],
   "source": [
    "# write_subtitle('original.txt')"
   ]
  },
  {
   "cell_type": "code",
   "execution_count": 10,
   "id": "3f91fae9-e1bd-491f-8421-12e42d5e6db1",
   "metadata": {
    "tags": []
   },
   "outputs": [],
   "source": [
    "# with open('china_growth.txt', 'r+', encoding=\"utf-8\") as f:\n",
    "#     read_string = f.read()\n",
    "    \n",
    "    \n",
    "# read_string"
   ]
  },
  {
   "cell_type": "code",
   "execution_count": 3,
   "id": "f9cabc11-8cb7-4694-bd46-0946203dde68",
   "metadata": {},
   "outputs": [
    {
     "data": {
      "text/plain": [
       "True"
      ]
     },
     "execution_count": 3,
     "metadata": {},
     "output_type": "execute_result"
    }
   ],
   "source": [
    "# write_subtitle_txt('[English] What REALLY is Data Science_ Told by a Data Scientist [DownSub.com].txt')"
   ]
  }
 ],
 "metadata": {
  "kernelspec": {
   "display_name": "Python 3 (ipykernel)",
   "language": "python",
   "name": "python3"
  },
  "language_info": {
   "codemirror_mode": {
    "name": "ipython",
    "version": 3
   },
   "file_extension": ".py",
   "mimetype": "text/x-python",
   "name": "python",
   "nbconvert_exporter": "python",
   "pygments_lexer": "ipython3",
   "version": "3.10.4"
  }
 },
 "nbformat": 4,
 "nbformat_minor": 5
}
