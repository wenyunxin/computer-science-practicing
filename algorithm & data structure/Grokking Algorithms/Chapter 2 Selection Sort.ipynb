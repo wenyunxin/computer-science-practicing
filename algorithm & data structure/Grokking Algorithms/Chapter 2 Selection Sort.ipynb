{
 "cells": [
  {
   "cell_type": "code",
   "execution_count": 1,
   "id": "f2d6f5e2-1936-429e-abd4-b60eb01c0dc3",
   "metadata": {},
   "outputs": [],
   "source": [
    "from IPython.core.interactiveshell import InteractiveShell\n",
    "InteractiveShell.ast_node_interactivity = \"all\""
   ]
  },
  {
   "cell_type": "markdown",
   "id": "ee26d73f-0f6b-4825-9e10-69c43cc3c7f6",
   "metadata": {},
   "source": [
    "**In this chapter**\n",
    "\n",
    "- You learn about arrays and linked lists—two of the most basic data structures. They’re used absolutely everywhere. You already used arrays in [chapter 1](ms-local-stream://EpubReader_AC72D530066DA71DBA289EF8C2FE2E4D915D872E9F520716C4ECA9F5D94B14/Content/OEBPS/kindle_split_007.xhtml#ch01), and you’ll use them in almost every chapter in this book. Arrays are a crucial topic, so pay attention! But sometimes it’s            better to use a linked list instead of an array. This chapter explains the pros and cons of both so you can decide which one is right for your algorithm.                     \n",
    "- You learn your first sorting algorithm. A lot of algorithms only work if your data is sorted. Remember binary search? You can run binary search only on a sorted list of elements. This chapter teaches you selection sort. Most languages have a sorting algorithm built in, so you’ll rarely need to write your own version from scratch. But selection sort is a stepping stone to quicksort, which I’ll cover in the next chapter. Quicksort is an important algorithm, and it will be easier to understand if you know one sorting algorithm already.\n",
    "\n",
    "> **在本章中**\n",
    ">\n",
    "> - 你学习了数组和链表--两种最基本的数据结构。它们绝对无处不在。你已经在[第1章](ms-local-stream://EpubReader_AC72D530066DA71DBA289EF8C2FE2E4D915D872E9F520716C4ECA9F5D94B14/Content/OEBPS/kindle_split_007.xhtml#ch01)中使用了数组，而且你将在本书的几乎所有章节中使用它们。数组是一个至关重要的话题，所以要注意！在本书中，你会发现，你在使用数组的过程中，会遇到很多问题。但有时使用一个链表而不是数组会更好。本章解释了两者的优点和缺点，这样你就可以决定哪一种适合你的算法了。                    \n",
    "> - 你学会了你的第一个排序算法。很多算法只有在你的数据被排序后才能工作。还记得二分查找吗？你只能在一个排序的元素列表上运行二分查找。本章将教你选择排序。大多数语言都有一个内置的排序算法，所以你很少需要从头开始编写自己的版本。但选择排序是通向quicksort的垫脚石，我将在下一章介绍。Quicksort是一种重要的算法，如果你已经知道一种排序算法，就会更容易理解它。"
   ]
  },
  {
   "cell_type": "markdown",
   "id": "206b1a68-9d67-4939-abe3-296fb6c138de",
   "metadata": {},
   "source": [
    "**What you need to know**                  \n",
    "\n",
    "To understand the performance analysis bits in this chapter, you need to know Big O notation and logarithms. If you don’t know those, I suggest you go back and read [chapter 1](ms-local-stream://EpubReader_AC72D530066DA71DBA289EF8C2FE2E4D915D872E9F520716C4ECA9F5D94B14/Content/OEBPS/kindle_split_007.xhtml#ch01). Big O notation will be used throughout the rest of the book.\n",
    "\n",
    "> **你需要知道的 **              \n",
    ">\n",
    "> 为了理解本章的性能分析位，你需要知道大O符号和对数。如果你不知道这些，我建议你回去阅读[第1章](ms-local-stream://EpubReader_AC72D530066DA71DBA289EF8C2FE2E4D915D872E9F520716C4ECA9F5D94B14/Content/OEBPS/kindle_split_007.xhtml#ch01) 。大O符号将在本书的其余部分使用。"
   ]
  },
  {
   "cell_type": "markdown",
   "id": "0f587fb8-4988-4a4b-b4cb-d3384fb2d176",
   "metadata": {
    "tags": []
   },
   "source": [
    "## How memory works"
   ]
  },
  {
   "cell_type": "markdown",
   "id": "63dac8cc-3f8a-499c-833d-b8e86996472c",
   "metadata": {},
   "source": [
    "Imagine you go to a show and need to check your things. A chest of drawers is available. Each drawer can hold one element. You want to store two things, so you ask for two drawers. You store your two things here. And you’re ready for the show! This is basically how your computer’s memory works. Your computer looks like a giant set of drawers, and each drawer has an address.\n",
    "\n",
    "> 想象一下，你去参加一个展会，需要检查你的东西。有一个抽屉的箱子。每个抽屉可以容纳一个元素。你想储存两样东西，所以你要求有两个抽屉。你把你的两样东西放在这里。然后你就可以开始表演了! 这基本上就是你的电脑内存的工作方式。你的电脑看起来像一组巨大的抽屉，每个抽屉都有一个地址。\n",
    "\n",
    "Each time you want to store an item in memory, you ask the computer for some space, and it gives you an address where you can store your item. If you want to store multiple items, there are two basic ways to do so: arrays and lists. I’ll talk about arrays and lists next, as well as the pros and cons of each. There isn’t one right way to store items for every use case, so it’s important to know the differences.\n",
    "\n",
    "> 每次你想在内存中存储一个项目时，你都会向计算机要一些空间，它就会给你一个可以存储项目的地址。如果你想存储多个项目，有两种基本方法：数组和列表。接下来我将讨论数组和列表，以及它们各自的优点和缺点。对于每一种用例来说，并没有一种正确的方法来存储项目，所以了解其中的区别很重要。"
   ]
  },
  {
   "cell_type": "markdown",
   "id": "6866a0eb-11d4-418f-8273-f34725df0d35",
   "metadata": {},
   "source": [
    "## Arrays and linked list"
   ]
  },
  {
   "cell_type": "markdown",
   "id": "7770c87f-d787-47dc-b9c0-62aa98caac69",
   "metadata": {},
   "source": [
    "Sometimes you need to store a list of elements in memory. Suppose you’re writing an app to manage your todos. You’ll want to store the todos as a list in memory.\n",
    "\n",
    "Should you use an array, or a linked list? Let’s store the todos in an array first, because it’s easier to grasp. Using an array means all your tasks are stored contiguously (right next to each other) in memory.\n",
    "\n",
    "> 有时你需要在内存中存储一个元素的列表。假设你正在写一个应用程序来管理你的todos。你会想把todos作为一个列表存储在内存中。\n",
    ">\n",
    "> 你应该使用一个数组，还是一个链表？让我们先把todos存储在一个数组中，因为它更容易掌握。使用数组意味着你所有的任务都被连续地存储在内存中（彼此紧挨着）。"
   ]
  },
  {
   "cell_type": "markdown",
   "id": "a014c8d5-fdf6-4fe6-b15b-bfa818a69892",
   "metadata": {},
   "source": [
    "It’s like going to a movie with your friends and finding a place to sit—but another friend joins you, and there’s no place for them. You have to move to a new spot where you all fit. In this case, you need to ask your computer for a different chunk of memory that can fit four tasks. Then you need to move all your tasks there.   \n",
    "\n",
    "If another friend comes by, you’re out of room again—and you all have to move a second time! What a pain. Similarly, adding new items to an array can be a big pain. If you’re out of space and need to move to a new spot in memory every time, adding a new item will be really slow. One easy fix is to “hold seats”: even if you have only 3 items in your task list, you can ask the computer for 10 slots, just in case. Then you can add 10 items to your task list without having to move. This is a good workaround, but you should be aware of a couple of downsides:  \n",
    "\n",
    "- You may not need the extra slots that you asked for, and then that memory will be wasted. You aren’t using it, but no one else can use it either.                     \n",
    "- You may add more than 10 items to your task list and have to move anyway.                            \n",
    "\n",
    "So it’s a good workaround, but it’s not a perfect solution. Linked lists solve this problem of adding items.\n",
    "\n",
    "> 这就像和你的朋友一起去看电影，找到一个地方坐下，但另一个朋友加入你，没有地方给他们。你必须移动到一个新的位置，让你们都能坐下。在这种情况下，你需要要求你的电脑提供一个不同的内存块，可以容纳四个任务。然后你需要把你的所有任务移到那里。  \n",
    ">\n",
    "> 如果另一个朋友来了，你的空间又不够了--你必须第二次移动！这是多么痛苦的事情。多么痛苦啊。同样，向一个数组添加新的项目也是一个很大的痛苦。如果你没有空间了，而且每次都需要移动到内存中的一个新位置，那么添加一个新项目就会非常慢。一个简单的解决办法是 \"保留席位\"：即使你的任务列表中只有3个项目，你也可以向计算机要10个插槽，以备不时之需。然后你就可以在你的任务列表中增加10个项目而不必移动。这是一个很好的解决方法，但你应该注意到一些缺点。 \n",
    ">\n",
    "> - 你可能不需要你要求的额外插槽，那么这些内存就被浪费了。你没有使用它，但其他人也不能使用它。                    \n",
    "> - 你可能会在你的任务列表中添加超过10个项目，无论如何都要移动。                           \n",
    ">\n",
    "> 所以，这是一个很好的变通办法，但它不是一个完美的解决方案。链表解决了这个添加项目的问题。"
   ]
  },
  {
   "cell_type": "markdown",
   "id": "d360bc64-6722-47df-9a84-b1eb6ed0b773",
   "metadata": {},
   "source": [
    "### linked lists"
   ]
  },
  {
   "cell_type": "markdown",
   "id": "45c30732-fe27-4536-b728-6f70257dbeca",
   "metadata": {},
   "source": [
    "With linked lists, your items can be anywhere in memory. Each item stores the address of the next item in the list. A bunch of random memory addresses are linked together.\n",
    "\n",
    "It’s like a treasure hunt. You go to the first address, and it says, “The next item can be found at address 123.” So you go to address 123, and it says, “The next item can be found at address 847,” and so on. Adding an item to a linked list is easy: you stick it anywhere in memory and store the address with the previous item.\n",
    "\n",
    "With linked lists, you never have to move your items. You also avoid another problem. Let’s say you go to a popular movie with five of your friends. The six of you are trying to find a place to sit, but the theater is packed. There aren’t six seats together. Well, sometimes this happens with arrays. Let’s say you’re trying to find 10,000 slots for an array. Your memory has 10,000 slots, but it doesn’t have 10,000 slots together. You can’t get space for your array! A linked list is like saying, “Let’s split up and watch the movie.” If there’s space in memory, you have space for your linked list.\n",
    "\n",
    "If linked lists are so much better at inserts, what are arrays good for?\n",
    "\n",
    "> 使用链接列表，你的项目可以在内存的任何地方。每个项目都存储着列表中下一个项目的地址（也称为指针pointer）。一堆随机的内存地址被链接在一起。\n",
    ">\n",
    "> 这就像一个寻宝游戏。你走到第一个地址，它说：\"下一个项目可以在地址123找到。\" 所以你去找地址123，它说，\"下一个项目可以在地址847处找到\"，以此类推。在一个链表中添加一个项目是很容易的：你把它贴在内存的任何地方，并把地址与前一个项目一起存储。\n",
    ">\n",
    "> 有了链表，你永远不必移动你的项目。你还可以避免另一个问题。比方说，你和你的五个朋友去看一部流行的电影。你们六个人想找一个地方坐下，但影院里已经挤满了人。没有六个座位在一起。好吧，有时候阵列也会出现这种情况。假设你想为一个数组找到10,000个槽位。你的内存有10,000个插槽，但它没有10,000个插槽在一起。你无法为你的数组获得空间！这就是所谓的链表。一个链表就像说：\"让我们分开坐着看电影\"。如果内存中有空间，你就有空间给你的链表。\n",
    ">\n",
    "> 如果链表在插入方面有这么大的优势，那么数组有什么用呢？"
   ]
  },
  {
   "cell_type": "markdown",
   "id": "558c0a98-e013-4e43-ad41-406a8647f142",
   "metadata": {},
   "source": [
    "### Arrays"
   ]
  },
  {
   "cell_type": "markdown",
   "id": "311377c5-1a8f-4157-9449-30583da7ffe2",
   "metadata": {},
   "source": [
    "Websites with top-10 lists use a scummy tactic to get more page views. Instead of showing you the list on one page, they put one item on each page and make you click Next to get to the next item in the list. For example, Top 10 Best TV Villains won’t show you the entire list on one page. Instead, you start at #10 (Newman), and you have to click Next on each page to reach #1 (Gustavo Fring). This technique gives the websites 10 whole pages on which to show you ads, but it’s boring to click Next 9 times to get to #1. It would be much better if the whole list was on one page and you could click each person’s name for more info.\n",
    "\n",
    "Linked lists have a similar problem. Suppose you want to read the last item in a linked list. You can’t just read it, because you don’t know what address it’s at. Instead, you have to go to item #1 to get the address for item #2. Then you have to go to item #2 to get the address for item #3. And so on, until you get to the last item. Linked lists are great if you’re going to read all the items one at a time: you can read one item, follow the address to the next item, and so on. But if you’re going to keep jumping around, linked lists are terrible. \n",
    "\n",
    "Arrays are different. You know the address for every item in your array. For example, suppose your array contains five items, and you know it starts at address 00. What is the address of item #5?\n",
    "\n",
    "Simple math tells you: it’s 04. **Arrays are great if you want to read random elements**, because you can look up any element in your array instantly. With a linked list, the elements aren’t next to each other, so you can’t instantly calculate the position of the fifth element in memory—you have to go to the first element to get the address to the second element, then go to the second element to get the address of the third element, and so on until you get to the fifth element.\n",
    "\n",
    "> 拥有前十名名单的网站使用一种卑鄙的策略来获得更多的页面浏览量。他们不是在一个页面上向你展示名单，而是在每个页面上放一个项目，让你点击 \"下一步 \"以进入名单的下一个项目。例如，\"十大最佳电视恶棍 \"不会在一个页面上向你展示整个名单。相反，你从第10位（纽曼）开始，你必须在每一页上点击下一步才能到达第1位（古斯塔夫-福林）。这种技术给网站提供了10个整页来向你展示广告，但要点击9次 \"下一步 \"才能到达第1位，这很无聊。如果整个名单在一个页面上，你可以点击每个人的名字获得更多信息，那会好得多。\n",
    ">\n",
    "> 链表也有一个类似的问题。假设你想读取一个链表中的最后一个项目。你不能直接读它，因为你不知道它在什么地址。相反，你必须转到第1项以获得第2项的地址。然后你必须去找第2项，以得到第3项的地址。以此类推，直到你到达最后一个项目。如果你要一个一个地读所有的项目，链表是很好的：你可以读一个项目，跟着地址到下一个项目，以此类推。但是如果你要不断地跳来跳去，链表就很糟糕了。\n",
    ">\n",
    "> 数组则不同。你知道数组中每个项目的地址。例如，假设你的数组包含五个项目，你知道它从地址00开始。5号项的地址是什么？\n",
    ">\n",
    "> 简单的数学告诉你：它是04。如果你想**读取随机元素，数组是很好的选择**，因为你可以立即查询数组中的任何元素。对于一个链表，这些元素不是彼此相邻的，所以你不能立即计算出第五个元素在内存中的位置--你必须去第一个元素那里获得第二个元素的地址，然后去第二个元素那里获得第三个元素的地址，以此类推直到你得到第五个元素。"
   ]
  },
  {
   "cell_type": "markdown",
   "id": "b71f77b6-ea89-4bf0-b4df-ed045ae14eaf",
   "metadata": {},
   "source": [
    "### Terminology"
   ]
  },
  {
   "cell_type": "markdown",
   "id": "60a92b26-805a-419a-8898-1168846ee854",
   "metadata": {},
   "source": [
    "The elements in an array are numbered. This numbering starts from 0, not 1. For example, in this array, 20 is at position 1.\n",
    "\n",
    "And 10 is at position 0. This usually throws new programmers for a spin. Starting at 0 makes all kinds of array-based code easier to write, so programmers have stuck with it. Almost every programming language you use will number array elements starting at 0. You’ll soon get used to it.\n",
    "\n",
    "The position of an element is called its *index.* So instead of saying, “20 is at *position* 1,” the correct terminology is, “20 is at *index* 1.” I’ll use *index* to mean *position* throughout this book.      \n",
    "\n",
    "> 数组中的元素是有编号的。这种编号从0开始，而不是从1开始。例如，在这个数组中，20的位置是1，10的位置是0。\n",
    ">\n",
    "> 这通常会让新的程序员感到困惑。从0开始使各种基于数组的代码更容易编写，所以程序员们坚持使用它。几乎所有你使用的编程语言都会从0开始给数组元素编号，你很快就会习惯的。\n",
    ">\n",
    "> 一个元素的位置被称为它的*index。*所以不要说 \"20在*位置*1\"，正确的术语是：\"20在*index*1\"。在本书中，我将使用*index*来表示*位置*。"
   ]
  },
  {
   "cell_type": "markdown",
   "id": "2e33e7be-5b1a-469d-8699-968ae066a1ca",
   "metadata": {},
   "source": [
    "Here are the run times for common operations on arrays and lists.\n",
    "\n",
    "> 以下是对数组和列表进行常见操作的运行时间。"
   ]
  },
  {
   "cell_type": "markdown",
   "id": "a7d8d1cb-b07a-4cbe-97a1-d200283fc68c",
   "metadata": {},
   "source": [
    "Question: Why does it take O(*n*) time to insert an element into an array? Suppose you wanted to insert an element at the beginning of an array. How would you do it? How long would it take? Find the answers to these questions in the next section!\n",
    "\n",
    "> 问题。为什么在一个数组中插入一个元素需要O(*n*)时间？假设你想在一个数组的开头插入一个元素。你会怎么做？要花多长时间？请在下一节找到这些问题的答案!"
   ]
  },
  {
   "cell_type": "markdown",
   "id": "6752bcc3-dac9-4fba-a87f-c6fa51bd8435",
   "metadata": {},
   "source": [
    "### Exercise"
   ]
  },
  {
   "cell_type": "markdown",
   "id": "50b749a8-4d02-4a1e-a267-2cc63b30c03e",
   "metadata": {},
   "source": [
    "**2.1** \n",
    "\n",
    "Suppose you’re building an app to keep track of your finances.\n",
    "\n",
    "Every day, you write down everything you spent money on. At the end of the month, you review your expenses and sum up how much you spent. So, you have lots of inserts and a few reads. Should you use an array or a list?\n",
    "\n",
    "> **2.1** \n",
    ">\n",
    "> 假设你正在建立一个应用程序来记录你的财务状况。\n",
    ">\n",
    "> 每天，你写下所有你花钱的地方。在月末，你回顾你的支出，并总结你花了多少钱。所以，你有很多插入物和一些读取物。你应该使用一个数组还是一个列表？"
   ]
  },
  {
   "cell_type": "raw",
   "id": "cdf06ae7-3493-4044-93a6-b0a71a6a25e9",
   "metadata": {},
   "source": [
    "list"
   ]
  },
  {
   "cell_type": "markdown",
   "id": "2f8e235e-fddb-4ed4-bb75-4db22f2ef79d",
   "metadata": {},
   "source": [
    "### Inserting into the middle of a list"
   ]
  },
  {
   "cell_type": "markdown",
   "id": "f01005fe-cdd5-4c93-a853-5fe8e84449c7",
   "metadata": {},
   "source": [
    "Suppose you want your todo list to work more like a calendar. Earlier, you were adding things to the end of the list. Now you want to add them in the order in which they should be done. What’s better if you want to insert elements in the middle: arrays or lists? With lists, it’s as easy as changing what the previous element points to. But for arrays, you have to shift all the rest of the elements down.\n",
    "\n",
    "And if there’s no space, you might have to copy everything to a new location! Lists are better if you want to insert elements into the middle.\n",
    "\n",
    "> 假设你想让你的待办事项列表更像一个日历。早些时候，你把事情添加到列表的最后。现在你想按照它们应该完成的顺序来添加它们。如果你想在中间插入元素，哪个更好：数组还是列表？对于列表，这就像改变前一个元素所指向的内容一样简单。但是对于数组来说，你必须把所有剩下的元素往下移。\n",
    ">\n",
    "> 如果没有空间，你可能要把所有的东西都复制到一个新的位置! 如果你想在中间插入元素，列表会更好。"
   ]
  },
  {
   "cell_type": "markdown",
   "id": "6419a32b-5c48-4c14-af44-35b3e79f82e4",
   "metadata": {},
   "source": [
    "### Deletions"
   ]
  },
  {
   "cell_type": "markdown",
   "id": "71390268-8f9b-485b-be03-241832a748d5",
   "metadata": {},
   "source": [
    "What if you want to delete an element? Again, lists are better, because you just need to change what the previous element points to. With arrays, everything needs to be moved up when you delete an element.\n",
    "\n",
    "Unlike insertions, deletions will always work. Insertions can fail sometimes when there’s no space left in memory. But you can always delete an element.\n",
    "\n",
    "Here are the run times for common operations on arrays and linked lists.\n",
    "\n",
    "> 如果你想删除一个元素怎么办？同样，列表是更好的，因为你只需要改变前一个元素所指向的内容。对于数组，当你删除一个元素时，所有的东西都需要被移上去。\n",
    ">\n",
    "> 与插入不同，删除总是有效的。当内存中没有剩余空间时，插入有时会失败。但你总是可以删除一个元素。\n",
    ">\n",
    "> 下面是数组和链表上常见操作的运行时间。\n",
    "\n",
    "|           | Arrays | Lists |\n",
    "| --------- | ------ | ----- |\n",
    "| Reading   | O(1)   | O(n)  |\n",
    "| Insertion | O(n)   | O(1)  |\n",
    "| Deletion  | O(n)   | O(1)  |\n",
    "\n"
   ]
  },
  {
   "cell_type": "markdown",
   "id": "0eecdeeb-25b6-4c62-8348-5aa2382ee111",
   "metadata": {},
   "source": [
    "It’s worth mentioning that insertions and deletions are O(1) time only if you can instantly access the element to be deleted. It’s a common practice to keep track of the first and last items in a linked list, so it would take only O(1) time to delete those.\n",
    "\n",
    "Which are used more: arrays or lists? Obviously, it depends on the use case. But arrays see a lot of use because they allow random access. There are two different types of access: *random access* and *sequential access*. Sequential access means reading the elements one by one, starting at the first element. Linked lists can *only* do sequential access. If you want to read the 10th element of a linked list, you have to read the first 9 elements and follow the links to the 10th element. Random access means you can jump directly to the 10th element. You’ll frequently hear me say that arrays are faster at reads. This is because they provide random access. A lot of use cases require random access, so arrays are used a lot. Arrays and lists are used to implement other data structures, too (coming up later in the book).\n",
    "\n",
    "> 值得一提的是，只有当你能即时访问要删除的元素时，插入和删除才是O(1)时间。通常的做法是跟踪链表中的第一个和最后一个项目，所以删除这些项目只需要O(1)时间。\n",
    ">\n",
    "> 哪些是用得比较多的：数组和列表？很明显，这取决于使用情况。但是数组有很多用途，因为它们允许随机访问。有两种不同类型的访问。*随机访问*和*顺序访问*。顺序访问是指从第一个元素开始，一个一个地读取元素。链表*只能*进行顺序访问。如果你想读取一个链表的第10个元素，你必须先读取前9个元素，然后沿着链接到第10个元素。随机访问意味着你可以直接跳到第10个元素。你会经常听到我说，数组的读取速度比较快。这是因为它们提供了随机访问。很多用例都需要随机访问，所以数组被大量使用。数组和列表也被用来实现其他数据结构（本书后面会提到）。"
   ]
  },
  {
   "cell_type": "markdown",
   "id": "e88aeae0-17fe-4aab-8721-c0042f57f829",
   "metadata": {},
   "source": [
    "### **Exercises**"
   ]
  },
  {
   "cell_type": "markdown",
   "id": "9ae75743-3df8-4a27-86fd-6ce51c28bfb6",
   "metadata": {},
   "source": [
    "**2.2** \n",
    "\n",
    "Suppose you’re building an app for restaurants to take customer orders. Your app needs to store a list of orders. Servers  keep adding orders to this list, and chefs take orders off the list and make them. It’s an order queue: servers add orders to the back of the queue, and the chef takes the first order off the queue and cooks it.\n",
    "\n",
    "Would you use an array or a linked list to implement this queue? (Hint: Linked lists are good for inserts/deletes, and arrays are good for random access. Which one are you going to be doing here?)  \n",
    "\n",
    "**2.3** \n",
    "\n",
    "Let’s run a thought experiment. Suppose Facebook keeps a list of usernames. When someone tries to log in to Facebook, a search is done for their username. If their name is in the list of usernames, they can log in. People log in to Facebook pretty often, so there are a lot of searches through this list of usernames. Suppose Facebook uses binary search to search the list. Binary search needs random access—you need to be able to get to the middle of the list of usernames instantly. Knowing this, would you implement the list as an array or a linked list?\n",
    "\n",
    "**2.4** \n",
    "\n",
    "People sign up for Facebook pretty often, too. Suppose you decided to use an array to store the list of users. What are the downsides of an array for inserts? In particular, suppose you’re using binary search to search for logins. What happens when you add new users to an array?\n",
    "\n",
    "**2.5** \n",
    "\n",
    "In reality, Facebook uses neither an array nor a linked list to store user information. Let’s consider a hybrid data structure: an array of linked lists. You have an array with 26 slots. Each slot points to a linked list. For example, the first slot in the array points to a linked list containing all the usernames starting with a. The second slot points to a linked list               containing all the usernames starting with b, and so on.\n",
    "\n",
    "Suppose Adit B signs up for Facebook, and you want to add them to the list. You go to slot 1 in the array, go to the linked list for slot 1, and add Adit B at the end. Now, suppose you want to search for Zakhir H. You go to slot 26, which points to a linked list of all the Z names. Then you search through that list to find Zakhir H.\n",
    "\n",
    "Compare this hybrid data structure to arrays and linked lists. Is it slower or faster than each for searching and inserting? You don’t have to give Big O run times, just whether the new data structure would be faster or slower.\n",
    "\n",
    "> **2.2** \n",
    ">\n",
    "> 假设你正在为餐馆建立一个接受顾客订单的应用程序。你的应用程序需要存储一个订单的列表。服务员不断向这个列表添加订单，厨师从列表中取出订单并制作。这是一个订单队列：服务员将订单添加到队列的后面，厨师从队列中取出第一份订单并进行烹饪。\n",
    ">\n",
    "> 你会用一个数组还是一个链表来实现这个队列？(提示：链表适合插入/删除，而数组适合随机访问。你打算在这里做哪一个？)  \n",
    ">\n",
    "> **2.3** \n",
    ">\n",
    "> 让我们做一个思想实验。假设Facebook保留了一个用户名的列表。当有人试图登录Facebook时，会对他们的用户名进行搜索。如果他们的名字出现在用户名列表中，他们就可以登录了。人们经常登录Facebook，所以有大量的搜索通过这个用户名列表。假设Facebook使用二分查找来搜索这个列表。二分查找需要随机访问--你需要能够立即进入到用户名列表的中间位置。知道了这一点，你会把这个列表实现为一个数组还是一个链表？\n",
    ">\n",
    "> **2.4** \n",
    ">\n",
    "> 人们注册Facebook的频率也很高。假设你决定使用一个数组来存储用户列表。数组在插入时有什么缺点？特别是，假设你使用二分查找来搜索登录信息。当你向数组添加新的用户时会发生什么？\n",
    ">\n",
    "> **2.5** \n",
    ">\n",
    "> 在现实中，Facebook既没有使用数组，也没有使用链表来存储用户信息。让我们考虑一个混合的数据结构：一个链表的数组。你有一个有26个槽的数组。每个槽都指向一个链表。例如，数组中的第一个槽指向一个包含所有以a开头的用户名的链表，第二个槽指向一个包含所有以b开头的用户名的链表，依此类推。\n",
    ">\n",
    "> 假设Adit B注册了Facebook，你想把他们加入到列表中。你去数组中的槽1，转到槽1的链表，并在最后添加Adit B。现在，假设你想搜索Zakhir H，你去槽26，它指向一个所有Z名字的链表。然后你在这个列表中搜索，找到Zakhir H。\n",
    ">\n",
    "> 将这种混合数据结构与数组和链表进行比较。在搜索和插入方面，它是比各自的速度慢还是快？你不必给出大O的运行时间，只需说明新的数据结构是快还是慢。"
   ]
  },
  {
   "cell_type": "raw",
   "id": "432b8900-a5f0-4597-910c-2288d306c6fd",
   "metadata": {},
   "source": [
    "2.2 linked list\n",
    "2.3 array\n",
    "2.4 slow, can't find the new user\n",
    "2.4 fast"
   ]
  },
  {
   "cell_type": "markdown",
   "id": "27a94d2c-7e50-4730-b182-708ce4223dcb",
   "metadata": {},
   "source": [
    "## Selection sort"
   ]
  },
  {
   "cell_type": "markdown",
   "id": "e18262af-abf6-4837-b180-68af8294aa1a",
   "metadata": {},
   "source": [
    "Let’s put it all together to learn your second algorithm: **selection sort**. To follow this section, you need to understand arrays and lists, as well as Big O notation.\n",
    "\n",
    "Suppose you have a bunch of music on your computer. For each artist, you have a play count.\n",
    "\n",
    "> 让我们把这一切放在一起，学习你的第二种算法。**选择排序**。要学习这一部分，你需要了解数组和列表，以及大O符号。\n",
    ">\n",
    "> 假设你的电脑上有一堆音乐。对于每个艺术家，你有一个播放次数。\n",
    "\n",
    "| Artist             | Play Count |\n",
    "| ------------------ | ---------- |\n",
    "| Radiohead          | 156        |\n",
    "| Kishore Kumar      | 141        |\n",
    "| The black keys     | 35         |\n",
    "| Neutral milk hotel | 94         |\n",
    "| Beck               | 88         |\n",
    "| The strokes        | 61         |\n",
    "| Wilco              | 111        |\n",
    "\n"
   ]
  },
  {
   "cell_type": "markdown",
   "id": "b0dbb20e-462e-4c5e-8b4f-88fa69a8c7a5",
   "metadata": {},
   "source": [
    "You want to sort this list from most to least played, so that you can rank your favorite artists. How can you do it? One way is to go through the list and find the most-played artist. Add that artist to a new list. Do it again to find the next-most-played artist. Keep doing this, and you’ll end up with a sorted list.\n",
    "\n",
    "Let’s put on our computer science hats and see how long this will take to run. Remember that O(*n*) time means you touch every element in a list once. For example, running simple search over the list of artists means looking at each artist once.\n",
    "\n",
    "To find the artist with the highest play count, you have to check each item in the list. This takes O(*n*) time, as you just saw. So you have an operation that takes O(*n*) time, and you have to do that *n* times:\n",
    "\n",
    "This takes O(*n* × *n*) time or O(*n*^2^) time.\n",
    "\n",
    "> 你想把这个列表从最多到最少的播放量进行排序，这样你就可以对你最喜欢的艺术家进行排名。你如何做到这一点呢？一种方法是浏览列表，找到播放次数最多的艺术家。将该艺术家添加到一个新的列表中。再做一次，找到下一个播放量最高的艺术家。继续这样做，最后你会得到一个分类的列表。\n",
    ">\n",
    "> 让我们戴上计算机科学的帽子，看看这需要多长时间来运行。记住，O(*n*)时间意味着你要对列表中的每个元素进行一次操作。例如，在艺术家列表上运行简单搜索意味着对每个艺术家看一次。\n",
    ">\n",
    "> 为了找到播放次数最多的艺术家，你必须检查列表中的每一项。这需要O(*n*)时间，正如你刚才看到的。所以你有一个需要O(*n*)时间的操作，而你必须做*n*次。\n",
    ">\n",
    "> 这需要O(*n* × *n*)时间或者O(*n*^2^)时间。"
   ]
  },
  {
   "cell_type": "markdown",
   "id": "61a284d3-395a-4a0d-aacd-b845507b6d84",
   "metadata": {},
   "source": [
    "Sorting algorithms are very useful. Now you can sort\n",
    "\n",
    "- Names in a phone book                     \n",
    "- Travel dates                     \n",
    "- Emails (newest to oldest)\n",
    "\n",
    "> 排序算法是非常有用的。现在你可以对\n",
    ">\n",
    "> - 电话簿中的名字                     \n",
    "> - 旅行日期                     \n",
    "> - 电子邮件（从最新的到最旧的）"
   ]
  },
  {
   "cell_type": "markdown",
   "id": "5e602f7a-66a0-4c8c-9e06-44f32fe8495a",
   "metadata": {},
   "source": [
    "**Checking fewer elements each time**\n",
    "\n",
    "Maybe you’re wondering: as you go through the operations, the number of elements you have to check keeps decreasing. Eventually, you’re down to having to check just one element. So how can the run time still be O(*n*2)? That’s a good question, and the answer has to do with constants in Big O notation. I’ll get into this more in [chapter 4](ms-local-stream://EpubReader_AC72D530066DA71DBA289EF8C2FE2E4D915D872E9F520716C4ECA9F5D94B14/Content/OEBPS/kindle_split_010.xhtml#ch04), but here’s the gist.         \n",
    "\n",
    "You’re right that you don’t have to check a list of *n* elements each time. You check *n* elements, then *n* – 1, *n* - 2 ... 2, 1. On average, you check a list that has ½ *n* elements. The runtime is O(*n* × ½ *n*). But constants like ½ are ignored in Big O notation (again, see [chapter 4](ms-local-stream://EpubReader_AC72D530066DA71DBA289EF8C2FE2E4D915D872E9F520716C4ECA9F5D94B14/Content/OEBPS/kindle_split_010.xhtml#ch04) for the full discussion), so you just write O(*n* × *n*) or O(*n*^2^).\n",
    "\n",
    "> 也许你想知道：当你通过操作时，你必须检查的元素的数量不断减少。最终，你将只需要检查一个元素。那么，运行时间怎么可能仍然是O(*n*2)？这是个好问题，答案与大O符号中的常数有关。我会在[第四章](ms-local-stream://EpubReader_AC72D530066DA71DBA289EF8C2FE2E4D915D872E9F520716C4ECA9F5D94B14/Content/OEBPS/kindle_split_010.xhtml#ch04)中详细介绍，但要点在此。        \n",
    ">\n",
    "> 你是对的，你不需要每次都检查*n*个元素的列表。你检查了*n*个元素，然后是*n*-1，*n*-2......2，1。 平均来说，你检查的列表有½*n*个元素。运行时间是O（*n* × ½ *n*）。但是像½这样的常数在大O符号中被忽略了（同样，见第四章的完整讨论），所以你只需写O(*n* × *n*)或O(*n*^2^)。"
   ]
  },
  {
   "cell_type": "markdown",
   "id": "7d93d8ef-7994-43c0-beb8-68b28ac620fa",
   "metadata": {},
   "source": [
    "Selection sort is a neat algorithm, but it’s not very fast. Quicksort is a faster sorting algorithm that only takes O(*n* log *n*) time. It’s coming up in the next chapter!\n",
    "\n",
    "> 选择排序是一种整洁的算法，但它不是非常快。Quicksort是一种更快的排序算法，只需要O(*n* log *n*)时间。它将在下一章中出现!"
   ]
  },
  {
   "cell_type": "markdown",
   "id": "7b208c5d-67d4-48d4-8cc7-5c306b8364e0",
   "metadata": {},
   "source": [
    "### Example Code Listing"
   ]
  },
  {
   "cell_type": "markdown",
   "id": "40b4c392-a553-461a-b2d2-a2998554bfa4",
   "metadata": {},
   "source": [
    "We didn’t show you the code to sort the music list, but following is some code that will do something very similar: sort an array from smallest to largest. Let’s write a function to find the smallest element in an array:\n",
    "\n",
    "> 我们没有向你展示对音乐列表进行排序的代码，但下面的一些代码将做一些非常类似的事情：对一个数组从最小到最大进行排序。让我们写一个函数来寻找数组中最小的元素："
   ]
  },
  {
   "cell_type": "code",
   "execution_count": 2,
   "id": "7f2bc6cc-38cb-4b57-9032-1c63f2bb2d82",
   "metadata": {},
   "outputs": [],
   "source": [
    "def findSmallest(arr):\n",
    "    smallest = arr[0]    # stores the smallest value\n",
    "    smallest_index = 0    # stores the index of the smallest value\n",
    "    for i in range(1, len(arr)):\n",
    "        if arr[i] < smallest:\n",
    "            smallest = arr[i]\n",
    "            smallest_index = i\n",
    "    return smallest_index"
   ]
  },
  {
   "cell_type": "markdown",
   "id": "cd3e0a21-eb16-4b1e-8f23-88ac86bc630c",
   "metadata": {},
   "source": [
    "Now you can use this function to write selection sort:\n",
    "\n",
    "> 现在你可以用这个函数来写选择排序："
   ]
  },
  {
   "cell_type": "code",
   "execution_count": 3,
   "id": "7d9f1fe3-b0f6-41a5-bbfc-bf4da363b8eb",
   "metadata": {},
   "outputs": [],
   "source": [
    "def selectionSort(arr):\n",
    "    newArr = []\n",
    "    for i in range(len(arr)):\n",
    "        smallest = findSmallest(arr)    # finds the smallest element in the array, and adds it to the new array\n",
    "        newArr.append(arr.pop(smallest))\n",
    "    return newArr"
   ]
  },
  {
   "cell_type": "code",
   "execution_count": 4,
   "id": "77a4770d-1c1c-4556-a1ef-9a2eab53c114",
   "metadata": {},
   "outputs": [
    {
     "name": "stdout",
     "output_type": "stream",
     "text": [
      "[2, 3, 5, 6, 10]\n"
     ]
    }
   ],
   "source": [
    "print(selectionSort([5, 3, 6, 2, 10]))"
   ]
  },
  {
   "cell_type": "markdown",
   "id": "beaddba2-839d-432e-9e94-59e91a4d266b",
   "metadata": {},
   "source": [
    "## recap"
   ]
  },
  {
   "cell_type": "markdown",
   "id": "3b3d5bc7-1464-415a-b189-353c693cc9d1",
   "metadata": {},
   "source": [
    "## recap\n",
    "\n",
    "- Your computer’s memory is like a giant set of drawers.                     \n",
    "- When you want to store multiple elements, use an array or a list.                     \n",
    "- With an array, all your elements are stored right next to each other.                     \n",
    "- With a list, elements are strewn all over, and one element stores the address of the next one.                     \n",
    "- Arrays allow fast reads.                     \n",
    "- Linked lists allow fast inserts and deletes.\n",
    "- All elements in the array should be the same type (all ints, all doubles, and so on).\n",
    "\n",
    "> - 你的计算机的内存就像一组巨大的抽屉。                    \n",
    "> - 当你想存储多个元素时，使用数组或列表。                    \n",
    "> - 使用数组，所有的元素都紧挨着存储。                    \n",
    "> - 在列表中，元素散落在各处，一个元素存储下一个元素的地址。                    \n",
    "> - 数组允许快速读取。                    \n",
    "> - 链表允许快速插入和删除。\n",
    "> - 数组中的所有元素应该是相同的类型（所有都是ints，所有都是double，等等）。\n",
    "\n",
    "array allow fast reads, but not fast manipulate; linked list allow fast manipulate, but not fast reads."
   ]
  }
 ],
 "metadata": {
  "kernelspec": {
   "display_name": "Python 3 (ipykernel)",
   "language": "python",
   "name": "python3"
  },
  "language_info": {
   "codemirror_mode": {
    "name": "ipython",
    "version": 3
   },
   "file_extension": ".py",
   "mimetype": "text/x-python",
   "name": "python",
   "nbconvert_exporter": "python",
   "pygments_lexer": "ipython3",
   "version": "3.10.4"
  }
 },
 "nbformat": 4,
 "nbformat_minor": 5
}
