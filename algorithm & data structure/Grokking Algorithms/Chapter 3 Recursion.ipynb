{
 "cells": [
  {
   "cell_type": "code",
   "execution_count": 2,
   "id": "4201a464-4101-43f3-a321-b8197f14dc71",
   "metadata": {},
   "outputs": [],
   "source": [
    "from IPython.core.interactiveshell import InteractiveShell\n",
    "InteractiveShell.ast_node_interactivity = \"all\""
   ]
  },
  {
   "cell_type": "markdown",
   "id": "ae733f98-4d3b-4f12-8ec3-6ac800e96274",
   "metadata": {},
   "source": [
    "**In this chapter**\n",
    "\n",
    "- You learn about recursion. Recursion is a coding technique used in many algorithms. It’s a building block for understanding later chapters in this book.                     \n",
    "- You learn how to break a problem down into a base case and a recursive case. The divide-and-conquer strategy ([chapter 4](ms-local-stream://EpubReader_AC72D530066DA71DBA289EF8C2FE2E4D915D872E9F520716C4ECA9F5D94B14/Content/OEBPS/kindle_split_010.xhtml#ch04)) uses this simple concept to solve hard problems.\n",
    "\n",
    "> **在本章中**\n",
    ">\n",
    "> - 你学习了递归的知识。递归是许多算法中使用的一种编码技术。它是理解本书后面各章的基础。                    \n",
    "> - 你要学习如何将一个问题分解成一个基本案例和一个递归案例。分割与征服策略（[第4章](ms-local-stream://EpubReader_AC72D530066DA71DBA289EF8C2FE2E4D915D872E9F520716C4ECA9F5D94B14/Content/OEBPS/kindle_split_010.xhtml#ch04)）使用这一简单概念来解决困难问题。"
   ]
  },
  {
   "cell_type": "markdown",
   "id": "64b9259f-9723-4864-94d5-cc01bf6b0205",
   "metadata": {},
   "source": [
    "I’m excited about this chapter because it covers *recursion*, an elegant way to solve problems. Recursion is one of my favorite topics, but it’s divisive. People either love it or hate it, or hate it until they learn to love it a few years later. I personally was in that third camp. To make things easier for you, I have some advice:\n",
    "\n",
    "- This chapter has a lot of code examples. Run the code for yourself to see how it works.                     \n",
    "- I’ll talk about recursive functions. At least once, step through a recursive function with pen and paper: something like, “Let’s see, I pass 5 into factorial, and then I return 5 times passing 4 into factorial, which is ...,” and so on. Walking through a function like this will teach you how a recursive function works.\n",
    "\n",
    "This chapter also includes a lot of pseudocode. *Pseudocode* is a high-level description of the problem you’re trying to solve, in code. It’s written like code, but it’s meant to be closer to human speech.\n",
    "\n",
    "> 我对这一章感到兴奋，因为它涵盖了*递归*，一种解决问题的优雅方式。递归是我最喜欢的话题之一，但它是有分歧的。人们要么喜欢它，要么讨厌它，或者讨厌它，直到几年后学会喜欢它。我个人属于第三种阵营。为了让你更轻松，我有一些建议：\n",
    ">\n",
    "> - 这一章有很多的代码例子。自己运行代码，看看它是如何工作的。                    \n",
    "> - 我将谈论递归函数。至少有一次，用**纸笔把一个递归函数走一遍**：比如 \"让我看看，我把5传入阶乘，然后我返回5次，把4传入阶乘，这就是......\"，等等。通过这样的一个函数，你会学到递归函数是如何工作的。\n",
    ">\n",
    "> 本章还包括大量的伪代码。*伪代码*是对你要用代码解决的问题的高层次描述。它写得像代码，但它是为了更接近人类的语言。"
   ]
  },
  {
   "cell_type": "markdown",
   "id": "7aef50ec-5a7b-44f8-8562-bef1d4ea6300",
   "metadata": {},
   "source": [
    "Here’s one approach.\n",
    "\n",
    "1. Make a pile of boxes to look through.                     \n",
    "2. Grab a box, and look through it.                     \n",
    "3. If you find a box, add it to the pile to look through later.                     \n",
    "4. If you find a key, you’re done!                     \n",
    "5. Repeat.\n",
    "\n",
    "> 这里有一个方法。\n",
    ">\n",
    "> 1. 做一堆箱子来翻看。                    \n",
    "> 2. 拿起一个盒子，翻看一下。                    \n",
    "> 3. 如果你找到了一个箱子，就把它加到这堆箱子里，以后再看。                    \n",
    "> 4. 如果你找到一把钥匙，你就完成了!                     \n",
    "> 5. 重复进行。"
   ]
  },
  {
   "cell_type": "markdown",
   "id": "1582e05e-b8d9-4b90-8f64-c8bb1195fb02",
   "metadata": {},
   "source": [
    "Here’s an alternate approach.\n",
    "\n",
    "1. Look through the box.                     \n",
    "2. If you find a box, go to step 1.                     \n",
    "3. If you find a key, you’re done!\n",
    "\n",
    "> 这里有一个替代的方法。\n",
    ">\n",
    "> 1. 透过盒子看。                    \n",
    "> 2. 如果你找到一个盒子，就进入步骤1。                    \n",
    "> 3. 如果你找到一把钥匙，你就完成了!"
   ]
  },
  {
   "cell_type": "markdown",
   "id": "ced1325e-f69b-48de-b720-cce7780106f5",
   "metadata": {},
   "source": [
    "Which approach seems easier to you? The first approach uses a while loop. While the pile isn’t empty, grab a box and look through it:\n",
    "\n",
    "> 哪种方法在你看来更容易？第一种方法使用一个while循环。趁着这堆东西还没空，抓起一个盒子，翻看一下："
   ]
  },
  {
   "cell_type": "code",
   "execution_count": 2,
   "id": "2ba7a42d-6a8d-4944-afe4-4d4b2508d2ff",
   "metadata": {},
   "outputs": [],
   "source": [
    "def look_for_key(main_book):\n",
    "    pile = main_book.make_a_pile_to_look_through()\n",
    "    while pile is not empty:\n",
    "        box = pile.grab_a_box()\n",
    "        for item in box:\n",
    "            if item.is_a_box():\n",
    "                pile.append(item)\n",
    "            elif item.is_a_key():\n",
    "                print(\"found the key!\")"
   ]
  },
  {
   "cell_type": "markdown",
   "id": "b3f2c5ab-cf86-4c3d-9dd4-bbd0972edb2f",
   "metadata": {},
   "source": [
    "The second way uses recursion. *Recursion* is where a function calls itself. Here’s the second way in pseudocode:\n",
    "\n",
    "> 第二种方式使用递归。*递归*是指一个函数调用自己。下面是第二种方法的伪代码。"
   ]
  },
  {
   "cell_type": "code",
   "execution_count": 3,
   "id": "67ea6867-b307-427f-8f5a-99bf6b797e3a",
   "metadata": {},
   "outputs": [],
   "source": [
    "def look_for_key(box):\n",
    "    for item in box:\n",
    "        if item.is_a_box():\n",
    "            look_for_key(item)\n",
    "        elif item.is_a_key():\n",
    "            print(\"found the key!\")"
   ]
  },
  {
   "cell_type": "markdown",
   "id": "48c3a3d5-ae20-4aba-91ea-4eea568915fc",
   "metadata": {},
   "source": [
    "Many important algorithms use recursion, so it’s important to understand the concept.\n",
    "\n",
    "> 许多重要的算法都使用递归，所以理解这个概念很重要。"
   ]
  },
  {
   "cell_type": "markdown",
   "id": "419c82a6-7c4d-43e5-81f0-8f91b736fb38",
   "metadata": {},
   "source": [
    "## Base case and recursive case"
   ]
  },
  {
   "cell_type": "markdown",
   "id": "a543ab24-f2c9-4fd1-85dc-3121d4d7fed6",
   "metadata": {},
   "source": [
    "Because a recursive function calls itself, it’s easy to write a function incorrectly that ends up in an infinite loop. For example, suppose you want to write a function that prints a countdown, like this:\n",
    "\n",
    "> 因为递归函数会自己调用自己，所以很容易错误地编写一个函数，最后陷入无限循环。例如，假设你想写一个打印倒计时的函数，像这样："
   ]
  },
  {
   "cell_type": "raw",
   "id": "a6438d89-ee79-4e4e-9d68-0c880cc246f4",
   "metadata": {},
   "source": [
    "> 3...2...1"
   ]
  },
  {
   "cell_type": "markdown",
   "id": "d85c681c-c4f3-47c4-bbc2-eda23ea7f2d3",
   "metadata": {},
   "source": [
    "You can write it recursively, like so:\n",
    "\n",
    "> 你可以递归地写它，像这样："
   ]
  },
  {
   "cell_type": "code",
   "execution_count": 5,
   "id": "ee87086d-92d5-4c58-abb1-703ee78f6468",
   "metadata": {},
   "outputs": [],
   "source": [
    "def countdown(i):\n",
    "    print(i)\n",
    "    countdown(i-1)"
   ]
  },
  {
   "cell_type": "markdown",
   "id": "2c66ed54-5a9b-4ab0-b748-49d784007c3a",
   "metadata": {},
   "source": [
    "Write out this code and run it. You’ll notice a problem: this function will run forever! Infinite loop\n",
    "\n",
    "> 写出这段代码并运行它。你会注意到一个问题：这个函数会永远运行下去! 无限循环"
   ]
  },
  {
   "cell_type": "raw",
   "id": "bac8b78e-da94-47de-a1ab-e5dd0fc87a43",
   "metadata": {},
   "source": [
    "> 3...2...1...0...-1...-2..."
   ]
  },
  {
   "cell_type": "markdown",
   "id": "a86eebf5-9389-4d29-b380-8e231074285b",
   "metadata": {},
   "source": [
    "(Press Ctrl-C to kill your script.)"
   ]
  },
  {
   "cell_type": "markdown",
   "id": "f40131a1-e48c-43e0-9909-340201a43b05",
   "metadata": {},
   "source": [
    "When you write a recursive function, you have to tell it when to stop recursing. That’s why *every recursive function has two parts: the base case, and the recursive case.* The recursive case is when the function calls itself. The base case is when the function doesn’t call itself again ... so it doesn’t go into an infinite loop. Let’s add a base case to the countdown function:\n",
    "\n",
    "> 当你写一个递归函数时，你必须告诉它何时停止递归。这就是为什么*每个递归函数都有两个部分：基本情况和递归情况。*递归情况是指函数自己调用自己。基本情况是当函数不再调用自己时......所以它不会进入一个无限循环。让我们给倒计时函数添加一个基本情况："
   ]
  },
  {
   "cell_type": "code",
   "execution_count": 7,
   "id": "2456da34-37d0-49cb-a2a7-6375160f32f3",
   "metadata": {},
   "outputs": [],
   "source": [
    "def countdown(i):\n",
    "    print(i)\n",
    "    if i <= 0:    # base case\n",
    "        return\n",
    "    else:         # recursive case\n",
    "        countdown(i-1)"
   ]
  },
  {
   "cell_type": "code",
   "execution_count": 8,
   "id": "948936b1-13c0-4cc5-842e-ebef1ecee81d",
   "metadata": {},
   "outputs": [
    {
     "name": "stdout",
     "output_type": "stream",
     "text": [
      "5\n",
      "4\n",
      "3\n",
      "2\n",
      "1\n",
      "0\n"
     ]
    }
   ],
   "source": [
    "countdown(5)"
   ]
  },
  {
   "cell_type": "markdown",
   "id": "df4b61a3-d7c0-4202-8aee-77e893704f34",
   "metadata": {},
   "source": [
    "Now the function works as expected. It goes something like this.\n",
    "\n",
    "> 现在，该函数按预期工作。它的内容是这样的"
   ]
  },
  {
   "cell_type": "markdown",
   "id": "93a439e3-5133-47f3-9c4a-d2864dcb0f94",
   "metadata": {},
   "source": [
    "## The stack"
   ]
  },
  {
   "cell_type": "markdown",
   "id": "b5fb829a-2b80-40a5-b0ad-a672b6d0735e",
   "metadata": {},
   "source": [
    "This section covers the *call stack*. It’s an important concept in programming. The call stack is an important concept in general programming, and it’s also important to understand when using recursion.\n",
    "\n",
    "Suppose you’re throwing a barbecue. You keep a todo list for the barbecue, in the form of a stack of sticky notes.\n",
    "\n",
    "> 本节涉及*调用堆栈*。它是编程中的一个重要概念。调用堆栈是一般编程中的一个重要概念，在使用递归时，理解它也很重要。\n",
    ">\n",
    "> 假设你正在举办烧烤活动。你为烤肉保留了一个待办事项清单，以便签纸堆的形式。"
   ]
  },
  {
   "cell_type": "markdown",
   "id": "b25668f6-5389-4666-942c-1351dc34b5cd",
   "metadata": {},
   "source": [
    "Remember back when we talked about arrays and lists, and you had a todo list? You could add todo items anywhere to the list or delete random items. The stack of sticky notes is much simpler. When you insert an item, it gets added to the top of the list. When you read an item, you only read the topmost item, and it’s taken off the list. So your todo list has only two actions:         *push* (insert) and *pop* (remove and read).\n",
    "\n",
    "This data structure is called a *stack*. The stack is a simple data structure. You’ve been using a stack this whole time without realizing it!\n",
    "\n",
    "> 还记得我们谈论数组和列表时，你有一个待办事项列表吗？你可以在列表的任何地方添加待办事项或删除随机项目。便条纸的堆叠就简单多了。当你插入一个项目时，它被添加到列表的顶部。当你读一个项目时，你只读最上面的项目，然后它就被从列表中拿掉。所以你的待办事项列表只有两个动作：*push*（插入）和*pop*（删除和读取）。\n",
    ">\n",
    "> 这个数据结构被称为*栈*。栈是一个简单的数据结构。你一直都在使用堆栈而没有意识到！"
   ]
  },
  {
   "cell_type": "markdown",
   "id": "d93d771e-d2b1-4b8f-b269-bebf5c2ac88e",
   "metadata": {},
   "source": [
    "### The call stack"
   ]
  },
  {
   "cell_type": "markdown",
   "id": "7dcd7a61-65d2-421d-a0d3-3172173e3a87",
   "metadata": {},
   "source": [
    "Your computer uses a stack internally called the *call stack.* Let’s see it in action. Here’s a simple function:\n",
    "\n",
    "> 你的计算机在内部使用一个称为*调用堆栈*的堆栈，让我们看看它的作用。这里有一个简单的函数："
   ]
  },
  {
   "cell_type": "code",
   "execution_count": 3,
   "id": "4f2a425f-86e4-49ca-a670-7ba29e71620d",
   "metadata": {},
   "outputs": [],
   "source": [
    "def greet(name):\n",
    "    print(\"hello, \" + name + \"!\")\n",
    "    greet2(name)\n",
    "    print(\"getting ready to say bye...\")\n",
    "    bye()"
   ]
  },
  {
   "cell_type": "markdown",
   "id": "212c7b44-f135-4ced-a119-0c8765657266",
   "metadata": {},
   "source": [
    "This function greets you and then calls two other functions. Here are those two functions:\n",
    "\n",
    "> 这个函数向你打招呼，然后调用另外两个函数。下面是这两个函数："
   ]
  },
  {
   "cell_type": "code",
   "execution_count": 6,
   "id": "134f7727-1b86-40ff-8d53-4ac27f5e256d",
   "metadata": {},
   "outputs": [],
   "source": [
    "def greet2(name):\n",
    "    print(\"how are you, \" + name + \"?\")\n",
    "    \n",
    "    \n",
    "def bye():\n",
    "    print(\"ok bye!\")"
   ]
  },
  {
   "cell_type": "code",
   "execution_count": 7,
   "id": "3921e58b-e21f-46ed-8916-46e1758fa601",
   "metadata": {},
   "outputs": [
    {
     "name": "stdout",
     "output_type": "stream",
     "text": [
      "hello, maggie!\n",
      "how are you, maggie?\n",
      "getting ready to say bye...\n",
      "ok bye!\n"
     ]
    }
   ],
   "source": [
    "greet(\"maggie\")"
   ]
  },
  {
   "cell_type": "markdown",
   "id": "42c7352a-c222-4bb6-9fba-3b9e71dcddfe",
   "metadata": {},
   "source": [
    "Let’s walk through what happens when you call a function. print is a function in Python, but to make things easier for this example, we’re pretending it isn’t. Just play along. Suppose you call greet(\"maggie\"). First, your computer allocates a box of memory for that function call. \n",
    "\n",
    "Now let’s use the memory. The variable name is set to “maggie”. That needs to be saved in memory. Every time you make a function call, your computer saves the values for all the variables for that call in memory like this. Next, you print hello, maggie! Then you call greet2(\"maggie\"). Again, your computer allocates a box of memory for this function call.\n",
    "\n",
    "Your computer is using a stack for these boxes. The second box is added on top of the first one. You print how are you, maggie? Then you return from the function call. When this happens, the box on top of the stack gets popped off.\n",
    "\n",
    "> 让我们来看看当你调用一个函数时会发生什么。 print 在 Python 中是一个函数，但为了使这个例子更容易，我们假装它不是。就这样玩吧。假设你调用 greet(\"Maggie\")。首先，你的计算机为这个函数调用分配了一箱内存。\n",
    ">\n",
    "> 现在让我们来使用这些内存。变量名称被设置为 \"maggie\"。这需要被保存在内存中。每次你进行函数调用时，你的计算机都会像这样将该调用的所有变量的值保存在内存中。接下来，你打印出hello, maggie! 然后你调用greet2(\"maggie\")。同样，你的电脑为这个函数调用分配了一箱内存。\n",
    ">\n",
    "> 你的计算机为这些盒子使用了一个堆栈。第二个盒子被加在第一个盒子的上面。你打印出你好吗，Maggie？然后你从函数调用中返回。当这种情况发生时，堆栈顶部的盒子被弹出。"
   ]
  },
  {
   "cell_type": "markdown",
   "id": "7b8b996f-e8f8-4aae-9f82-86e4aec3443d",
   "metadata": {},
   "source": [
    "Now the topmost box on the stack is for the greet function, which means you returned back to the greet function. When you called the greet2 function, the greet function was *partially completed.* This is the big idea behind this section: *when you call a function from another function, the calling function is paused in a partially completed state.* All the values of the variables for that function are still stored in memory. Now that you’re done with the greet2 function, you’re back to the greet function, and you pick up where you left off. First you print getting ready to say bye.... You call the bye function.\n",
    "\n",
    "> 现在，堆栈中最上面的盒子是为greet函数准备的，这意味着你返回到了greet函数。当你调用greet2函数时，greet函数是*部分完成的。*这就是本节背后的大概念。*当你从另一个函数中调用一个函数时，调用函数在部分完成的状态下被暂停*。现在你已经完成了greet2函数，你又回到了greet函数，并从你离开的地方继续。首先你打印准备说拜拜.... 你调用bye函数。"
   ]
  },
  {
   "cell_type": "markdown",
   "id": "8f3e19a2-0d05-41fe-8f76-4a9ad6b8fda0",
   "metadata": {},
   "source": [
    "A box for that function is added to the top of the stack. Then you print ok bye! and return from the function call.\n",
    "\n",
    "And you’re back to the greet function. There’s nothing else to be done, so you return from the greet function too. This stack, used to save the variables for multiple functions, is called the *call stack*.\n",
    "\n",
    "> 该函数的一个盒子被添加到堆栈的顶部。然后你打印ok bye！并从函数调用中返回。\n",
    ">\n",
    "> 然后你又回到了greet函数。没有其他事情要做，所以你也从greet函数中返回。这个用于保存多个函数的变量的堆栈，被称为*调用堆栈*。"
   ]
  },
  {
   "cell_type": "markdown",
   "id": "5f675bee-1a07-424c-a926-ec8e5bf9a747",
   "metadata": {},
   "source": [
    "### Exercise"
   ]
  },
  {
   "cell_type": "markdown",
   "id": "08f74a1a-6152-471a-8602-e0fdeda0002c",
   "metadata": {},
   "source": [
    "**3.1** \n",
    "\n",
    "Suppose I show you a call stack like this.\n",
    "\n",
    "What information can you give me, just based on this call stack?\n",
    "\n",
    "```Python\n",
    "def greet(name):\n",
    "    print(\"hello, \" + name + \"!\")\n",
    "    greet2(name)\n",
    "```"
   ]
  },
  {
   "cell_type": "markdown",
   "id": "f631589e-4766-4068-bd35-24608efc9921",
   "metadata": {},
   "source": [
    "### The call stack with recursion"
   ]
  },
  {
   "cell_type": "markdown",
   "id": "b2bc6076-31d2-410d-84a8-212d72de7e46",
   "metadata": {},
   "source": [
    "Recursive functions use the call stack too! Let’s look at this in action with the factorial function. factorial(5) is written as 5!, and it’s defined like this: 5! = 5 * 4 * 3 * 2 * 1. Similarly, factorial(3) is 3 * 2 * 1. Here’s a recursive function to calculate the factorial of a number:\n",
    "\n",
    "> 递归函数也使用调用堆栈! 让我们用阶乘函数来看看这一点。 阶乘(5)被写成5！，它的定义是这样的。5! = 5 * 4 * 3 * 2 * 1。同样，阶乘(3)是3 * 2 * 1。 这里有一个递归函数来计算一个数字的阶乘："
   ]
  },
  {
   "cell_type": "code",
   "execution_count": 8,
   "id": "9a206ecf-29fe-47a5-9052-e0909d1cb9e5",
   "metadata": {},
   "outputs": [],
   "source": [
    "def fact(x):\n",
    "    if x == 1:\n",
    "        return 1\n",
    "    else:\n",
    "        return x * fact(x - 1)"
   ]
  },
  {
   "cell_type": "markdown",
   "id": "8bab3396-4203-423a-9599-4293eda1da57",
   "metadata": {},
   "source": [
    "Now you call fact(3). Let’s step through this call line by line and see how the stack changes. Remember, the topmost box in the stack tells you what call to fact you’re currently on.\n",
    "\n",
    "> 现在你调用 fact(3)。让我们逐行浏览这个调用，看看堆栈如何变化。记住，堆栈中最上面的方框告诉你目前对fact的调用。"
   ]
  },
  {
   "cell_type": "markdown",
   "id": "6726a712-d338-40c7-9d9e-1f25fbe3c857",
   "metadata": {},
   "source": [
    "Notice that each call to fact has its own copy of x. You can’t access a different function’s copy of x. \n",
    "\n",
    "The stack plays a big part in recursion. In the opening example, there were two approaches to find the key. Here’s the first way again.\n",
    "\n",
    "> 注意，对fact的每次调用都有它自己的x的副本，你不能访问不同函数的x的副本。\n",
    ">\n",
    "> 堆栈在递归中起着重要作用。在开头的例子中，有两种方法可以找到钥匙。这里又是第一种方法。"
   ]
  },
  {
   "cell_type": "markdown",
   "id": "4131eec3-9981-48f6-9db4-1afb67174491",
   "metadata": {},
   "source": [
    "This way, you make a pile of boxes to search through, so you always know what boxes you still need to search. But in the recursive approach, there’s no pile.\n",
    "\n",
    "> 这样一来，你就有了一堆要搜索的盒子，所以你总是知道你还需要搜索哪些盒子。但在递归方法中，没有这堆箱子。"
   ]
  },
  {
   "cell_type": "markdown",
   "id": "93da392f-c425-41c8-a3d1-c59f37f33d51",
   "metadata": {},
   "source": [
    "If there’s no pile, how does your algorithm know what boxes you still have to look through? Here’s an example.\n",
    "\n",
    "> 如果没有堆积，你的算法怎么知道你还有哪些箱子需要查看？这里有一个例子。"
   ]
  },
  {
   "cell_type": "markdown",
   "id": "47550417-4f65-456c-bf30-7eee15202dc9",
   "metadata": {},
   "source": [
    "At this point, the call stack looks like this.\n",
    "\n",
    "> 在这一点上，调用栈看起来像这样。"
   ]
  },
  {
   "cell_type": "markdown",
   "id": "89aafe09-10aa-4b45-ad00-b592978e40d6",
   "metadata": {},
   "source": [
    "The “pile of boxes” is saved on the stack! This is a stack of half-completed function calls, each with its own half-complete list of boxes to look through. Using the stack is convenient because you don’t have to keep track of a pile of boxes yourself—the stack does it for you.\n",
    "\n",
    "> 这 \"一堆箱子 \"被保存在堆栈中！这就是为什么我们要把这些箱子放在堆栈中。这是一个半完成的函数调用的堆栈，每个函数都有自己的半完成的盒子列表可以查看。使用堆栈是很方便的，因为你不必自己去跟踪一堆盒子--堆栈为你做了这个。"
   ]
  },
  {
   "cell_type": "markdown",
   "id": "c587334f-bf93-42f4-8409-3b63c3a87ead",
   "metadata": {},
   "source": [
    "Using the stack is convenient, but there’s a cost: saving all that info can take up a lot of memory. Each of those function calls takes up some memory, and when your stack is too tall, that means your computer is saving information for many function calls. At that point, you have two options:\n",
    "\n",
    "- You can rewrite your code to use a loop instead.\n",
    "- You can use something called *tail recursion*. That’s an advanced recursion topic that is out of the scope of this book. It’s also only supported by some languages, not all.\n",
    "\n",
    "> 使用堆栈是很方便的，但有一个代价：保存所有这些信息会占用大量的内存。每个函数调用都会占用一些内存，当你的堆栈太高时，这意味着你的计算机正在为许多函数调用保存信息。在这一点上，你有两个选择。\n",
    ">\n",
    "> - 你可以重写你的代码，用一个循环来代替。\n",
    "> - 你可以使用一种叫做 \"尾部递归 \"的东西。这是一个高级的递归主题，不在本书的讨论范围之内。它也只被一些语言支持，而不是所有语言。"
   ]
  },
  {
   "cell_type": "markdown",
   "id": "48227eab-483d-4901-8290-fa237bd1f8d8",
   "metadata": {},
   "source": [
    "### Exercise"
   ]
  },
  {
   "cell_type": "markdown",
   "id": "827f7882-2c58-47a9-b843-1275ee331568",
   "metadata": {},
   "source": [
    "**3.2** \n",
    "\n",
    "Suppose you accidentally write a recursive function that runs forever. As you saw, your computer allocates memory on the stack for each function call. What happens to the stack when your recursive function runs forever?\n",
    "\n",
    "> **3.2** \n",
    ">\n",
    "> 假设你不小心写了一个永远运行的递归函数。正如你所看到的，你的计算机为每个函数调用在堆栈中分配内存。当你的递归函数永远运行时，堆栈会发生什么？"
   ]
  },
  {
   "cell_type": "markdown",
   "id": "9ad24de2-71d7-4676-8be4-10ce5d67fa78",
   "metadata": {},
   "source": [
    "the memory will be exhausted that the computer will be crash"
   ]
  },
  {
   "cell_type": "markdown",
   "id": "ce3fa096-c303-4802-8205-4849656e6132",
   "metadata": {},
   "source": [
    "## Recap"
   ]
  },
  {
   "cell_type": "markdown",
   "id": "6ea6d900-5315-4d1c-b2d4-4e4c6e558af2",
   "metadata": {},
   "source": [
    "- Recursion is when a function calls itself.                     \n",
    "- Every recursive function has two cases: the base case and the recursive case.                     \n",
    "- A stack has two operations: push and pop.                     \n",
    "- All function calls go onto the call stack.                     \n",
    "- The call stack can get very large, which takes up a lot of memory.\n",
    "\n",
    "> - 递归是指一个函数调用自己。                    \n",
    "> - 每个递归函数都有两种情况：基本情况和递归情况。                    \n",
    "> - 栈有两个操作：推和弹。                    \n",
    "> - 所有的函数调用都会进入调用栈。                    \n",
    "> - 调用堆栈可以变得非常大，这占用了大量的内存。"
   ]
  }
 ],
 "metadata": {
  "kernelspec": {
   "display_name": "Python 3 (ipykernel)",
   "language": "python",
   "name": "python3"
  },
  "language_info": {
   "codemirror_mode": {
    "name": "ipython",
    "version": 3
   },
   "file_extension": ".py",
   "mimetype": "text/x-python",
   "name": "python",
   "nbconvert_exporter": "python",
   "pygments_lexer": "ipython3",
   "version": "3.10.4"
  }
 },
 "nbformat": 4,
 "nbformat_minor": 5
}
