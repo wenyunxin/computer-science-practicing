{
 "cells": [
  {
   "cell_type": "code",
   "execution_count": 39,
   "id": "16ded702-dc91-43f2-adb7-031a406a16d9",
   "metadata": {},
   "outputs": [],
   "source": [
    "from IPython.core.interactiveshell import InteractiveShell\n",
    "InteractiveShell.ast_node_interactivity = \"all\""
   ]
  },
  {
   "cell_type": "markdown",
   "id": "5c74c54e-8a3d-4701-b0fd-bdd09633daaa",
   "metadata": {},
   "source": [
    "**In this chapter**\n",
    "\n",
    "- You get a foundation for the rest of the book.                     \n",
    "- You write your first search algorithm (binary search).                     \n",
    "- You learn how to talk about the running time of an algorithm (Big O notation).                     \n",
    "- You’re introduced to a common technique for designing algorithms (recursion).\n",
    "\n",
    "> **在本章中**\n",
    ">\n",
    "> - 你为本书的其余部分打下了基础。                    \n",
    "> - 你编写了你的第一个搜索算法（二进制搜索）。                    \n",
    "> - 你学会了如何谈论一个算法的运行时间（Big O符号）。                    \n",
    "> - 你将了解到设计算法的一种常用技术（递归）。"
   ]
  },
  {
   "cell_type": "markdown",
   "id": "890bbcd0-827c-4c53-82ad-c7d12a1990fe",
   "metadata": {},
   "source": [
    "## **Introduction**"
   ]
  },
  {
   "cell_type": "markdown",
   "id": "c1f66c02-e53b-4fe4-b102-5db8e9fe80ac",
   "metadata": {},
   "source": [
    "An *algorithm* is a set of instructions for accomplishing a task. Every piece of code could be called an algorithm, but this book covers the more interesting bits. I chose the algorithms in this book for inclusion because they’re fast, or they solve interesting problems, or both. Here are some highlights:      \n",
    "\n",
    "- [Chapter 1](ms-local-stream://EpubReader_AC72D530066DA71DBA289EF8C2FE2E4D915D872E9F520716C4ECA9F5D94B14/Content/OEBPS/kindle_split_007.xhtml#ch01) talks about binary search and shows how an algorithm can speed up your code. In one example, the number of steps needed goes from 4 billion down to 32!                     \n",
    "- A GPS device uses graph algorithms (as you’ll learn in [chapters 6](ms-local-stream://EpubReader_AC72D530066DA71DBA289EF8C2FE2E4D915D872E9F520716C4ECA9F5D94B14/Content/OEBPS/kindle_split_012.xhtml#ch06), [7](ms-local-stream://EpubReader_AC72D530066DA71DBA289EF8C2FE2E4D915D872E9F520716C4ECA9F5D94B14/Content/OEBPS/kindle_split_013.xhtml#ch07), and [8](ms-local-stream://EpubReader_AC72D530066DA71DBA289EF8C2FE2E4D915D872E9F520716C4ECA9F5D94B14/Content/OEBPS/kindle_split_014.xhtml#ch08)) to calculate the shortest route to your destination.                     \n",
    "- You can use dynamic programming (discussed in [chapter 9](ms-local-stream://EpubReader_AC72D530066DA71DBA289EF8C2FE2E4D915D872E9F520716C4ECA9F5D94B14/Content/OEBPS/kindle_split_015.xhtml#ch09)) to write an AI algorithm that plays checkers.    \n",
    "\n",
    "In each case, I’ll describe the algorithm and give you an example. Then I’ll talk about the running time of the algorithm in Big O notation. Finally, I’ll explore what other types of problems could be solved by the same algorithm.\n",
    "\n",
    "> *算法*是完成一项任务的一组指令。每一段代码都可以被称为算法，但本书涵盖了更有趣的部分。我选择本书中的算法是因为它们速度快，或者它们能解决有趣的问题，或者两者都是。这里有一些亮点。     \n",
    ">\n",
    "> - 第1章谈论了二元查找，并展示了一个算法如何加速你的代码。在一个例子中，所需的步骤数从40亿降到了32个              \n",
    "> - 一个GPS设备使用图算法（正如你将在[第6章](ms-local-stream://EpubReader_AC72D530066DA71DBA289EF8C2FE2E4D915D872E9F520716C4ECA9F5D94B14/Content/OEBPS/kindle_split_012. xhtml#ch06), 7和8来计算到目的地的最短路线。                    \n",
    "> - 你可以使用动态编程（在[第9章](ms-local-stream://EpubReader_AC72D530066DA71DBA289EF8C2FE2E4D915D872E9F520716C4ECA9F5D94B14/Content/OEBPS/kindle_split_015.xhtml#ch09)中讨论）来编写一个玩跳棋的AI算法。   \n",
    ">\n",
    "> 在每一种情况下，我都会描述该算法并给你一个例子。然后，我将用大O符号谈论算法的运行时间。最后，我将探讨同一算法可以解决哪些其他类型的问题。"
   ]
  },
  {
   "cell_type": "markdown",
   "id": "9f871169-0bac-4e35-a968-898e5e68aad3",
   "metadata": {},
   "source": [
    "### What you’ll learn about performance"
   ]
  },
  {
   "cell_type": "markdown",
   "id": "ab41f5c4-a5b2-4e66-a2e8-9c3ff0c96247",
   "metadata": {},
   "source": [
    "The good news is, an implementation of every algorithm in this book is probably available in your favorite language, so you don’t have to write each algorithm yourself! But those implementations are useless if you don’t understand the trade-offs. In this book, you’ll learn to compare trade-offs between different algorithms: Should you use merge sort or quicksort? Should you use an array or a list? Just using a different data structure can make a big difference.\n",
    "\n",
    "> 好消息是，本书中每一种算法的实现可能在你最喜欢的语言中都有，所以你不必自己去写每一种算法！但是，如果你不明白如何取舍，这些实现就没有用。但是，如果你不了解权衡，这些实现是没有用的。在本书中，你将学会比较不同算法之间的取舍。你应该使用合并排序还是quicksort？你应该使用数组还是列表？只要使用不同的数据结构，就能产生很大的不同。"
   ]
  },
  {
   "cell_type": "markdown",
   "id": "e050486e-faf3-4e4b-9658-4847f034b112",
   "metadata": {},
   "source": [
    "### What you’ll learn about solving problems"
   ]
  },
  {
   "cell_type": "markdown",
   "id": "6508292b-b43b-4309-91f8-a1eaaed62e25",
   "metadata": {},
   "source": [
    "You’ll learn techniques for solving problems that might have been out of your grasp until now. For example:\n",
    "\n",
    "- If you like making video games, you can write an AI system that follows the user around using graph algorithms.                     \n",
    "- You’ll learn to make a recommendations system using k-nearest neighbors.                     \n",
    "- Some problems aren’t solvable in a timely manner! The part of this book that talks about NP-complete problems shows you how to identify those problems and come up with an algorithm that gives you an approximate answer.                    \n",
    "\n",
    "More generally, by the end of this book, you’ll know some of the most widely applicable algorithms. You can then use your new knowledge to learn about more specific algorithms for AI, databases, and so on. Or you can take on bigger challenges at work.\n",
    "\n",
    "> 你会学到解决那些在此之前可能无法掌握的问题的技巧。比如说：\n",
    ">\n",
    "> - 如果你喜欢制作视频游戏，你可以编写一个人工智能系统，使用图算法跟随用户走动。                    \n",
    "> - 你将学会使用k-nearest neighbors制作一个推荐系统。                    \n",
    "> - 有些问题是无法及时解决的! 本书中关于NP-complete问题的部分向你展示了如何识别这些问题，并想出一个能给你一个近似答案的算法。                   \n",
    ">\n",
    "> 更广泛地说，在本书结束时，你会知道一些最广泛适用的算法。然后，你可以利用你的新知识来学习人工智能、数据库等方面的更具体的算法。或者你可以在工作中接受更大的挑战。"
   ]
  },
  {
   "cell_type": "markdown",
   "id": "03fee293-3552-4aac-bdf5-a040a55a9f56",
   "metadata": {},
   "source": [
    "**What you need to know**"
   ]
  },
  {
   "cell_type": "markdown",
   "id": "4b553806-7dae-4a55-9dae-1cd56a3260a5",
   "metadata": {},
   "source": [
    "You’ll need to know basic algebra before starting this book. In particular, take this function: f(*x*) = *x* × 2. What is f(5)? If you answered 10, you’re set.\n",
    "\n",
    "Additionally, this chapter (and this book) will be easier to follow if you’re familiar with one programming language. All the examples in this book are in Python. If you don’t know any programming languages and want to learn one, choose Python—it’s great for beginners. If you know another language, like Ruby, you’ll be fine.\n",
    "\n",
    "> 在开始阅读这本书之前，你需要了解基本的代数知识。特别是拿这个函数来说：f(*x*)=*x*×2。f(5)是多少？如果你回答是10，你就可以了。\n",
    ">\n",
    "> 此外，如果你熟悉一种编程语言，本章（以及本书）将更容易理解。本书中的所有例子都是用Python语言。如果你不懂任何编程语言，又想学习一种，请选择Python，它很适合初学者。如果你知道另一种语言，如Ruby，你就会很好。"
   ]
  },
  {
   "cell_type": "markdown",
   "id": "e7943d5e-cc15-4f02-8fc7-fd0be6cb8cb2",
   "metadata": {},
   "source": [
    "## **Binary search**"
   ]
  },
  {
   "cell_type": "markdown",
   "id": "a59ecbba-ad4d-4c93-8b39-51b981b9d8c5",
   "metadata": {},
   "source": [
    "Suppose you’re searching for a person in the phone book (what an old-fashioned sentence!). Their name starts with *K*. You could start at the beginning and keep flipping pages until you get to the *K*s. But you’re more likely to start at a page in the middle, because you know the *K*s are going to be near the middle of the phone book.\n",
    "\n",
    "> 假设你在电话簿中搜索一个人（多么老式的句子！）。他们的名字以*K*开头。你可以从头开始翻，一直翻到*K*。但你更有可能从中间的一页开始，因为你知道*K*的名字会在电话簿的中间附近。"
   ]
  },
  {
   "cell_type": "markdown",
   "id": "2883441f-f576-4ec0-b11a-1ab74dad8bff",
   "metadata": {},
   "source": [
    "Or suppose you’re searching for a word in a dictionary, and it starts with *O*. Again, you’ll start near the middle.\n",
    "\n",
    "Now suppose you log on to Facebook. When you do, Facebook has to verify that you have an account on the site. So, it needs to search for your username in its database. Suppose your username is karlmageddon. Facebook could start from the *A*s and search for your name—but it makes more sense for it to begin somewhere in the middle.  \n",
    "\n",
    "This is a search problem. And all these cases use the same algorithm to solve the problem: *binary search.*\n",
    "\n",
    "> 或者假设你在字典中搜索一个词，它以*O*开头。同样，你会从靠近中间的位置开始。\n",
    ">\n",
    "> 现在，假设你登录到Facebook。当你这样做时，Facebook必须验证你在该网站上有一个账户。因此，它需要在其数据库中搜索你的用户名。假设你的用户名是karlmageddon。Facebook可以从*A*开始搜索你的名字--但它从中间的某个地方开始搜索更有意义。 \n",
    ">\n",
    "> 这就是一个搜索问题。而所有这些情况都使用相同的算法来解决这个问题。*二分查找*。"
   ]
  },
  {
   "cell_type": "markdown",
   "id": "a38981a7-8d2b-4403-8dfe-7eb6cf528afa",
   "metadata": {},
   "source": [
    "Binary search is an algorithm; its input is a sorted list of elements (I’ll explain later why it needs to be sorted). If an element you’re looking for is in that list, binary search returns the position where it’s located. Otherwise, binary search returns null.\n",
    "\n",
    "For example:\n",
    "\n",
    "> 二进制搜索是一种算法；它的输入是一个经过排序的元素列表（我将在后面解释为什么它需要排序）。如果你要找的元素在这个列表中，二进制搜索会返回它所在的位置。否则，二进制搜索返回空。\n",
    ">\n",
    "> 比如说"
   ]
  },
  {
   "cell_type": "markdown",
   "id": "fc85db34-0526-41dc-b420-7d5e3d1be43b",
   "metadata": {},
   "source": [
    "Looking for companies in a phone book with binary search\n",
    "\n",
    "Here’s an example of how binary search works. I’m thinking of a number between 1 and 100.\n",
    "\n",
    "> 用二分查找在电话簿中寻找公司\n",
    ">\n",
    "> 这里有一个二分查找工作的例子。我想的是一个1到100之间的数字。"
   ]
  },
  {
   "cell_type": "markdown",
   "id": "8ed4d09e-797f-4937-a785-afaf2ea0a7c9",
   "metadata": {},
   "source": [
    "You have to try to guess my number in the fewest tries possible. With every guess, I’ll tell you if your guess is too low, too high, or correct.       \n",
    "\n",
    "Suppose you start guessing like this: 1, 2, 3, 4 .... Here’s how it would go.\n",
    "\n",
    "> 你必须在尽可能少的尝试中猜出我的号码。每一次猜测，我都会告诉你，你的猜测是太低，太高，还是正确。      \n",
    ">\n",
    "> 假设你像这样开始猜。1, 2, 3, 4 .... 事情会是这样的。"
   ]
  },
  {
   "cell_type": "markdown",
   "id": "50bd69f5-bf7f-4f92-8ee7-2844f0e946ba",
   "metadata": {},
   "source": [
    "A bad approach to number guessing    \n",
    "\n",
    "This is *simple search* (maybe *stupid search* would be a better term). With each guess, you’re eliminating only one number. If my number was 99, it could take you 99 guesses to get there!\n",
    "\n",
    "> 猜测数字的糟糕方法    \n",
    ">\n",
    "> 这是*简单的搜索*（也许*愚蠢的搜索*是一个更好的术语）。每一次猜测，你都只排除了一个数字。如果我的数字是99，你可能要花99次猜测才能达到目的!"
   ]
  },
  {
   "cell_type": "markdown",
   "id": "2d624d23-72d0-443d-bc19-3084efc47eaf",
   "metadata": {},
   "source": [
    "### A better way to search"
   ]
  },
  {
   "cell_type": "markdown",
   "id": "d32f6bf4-8294-45d0-8018-d4078c08e8ac",
   "metadata": {},
   "source": [
    "Here’s a better technique. Start with 50.\n",
    "\n",
    "Too low, but you just eliminated *half* the numbers! Now you know that 1–50 are all too low. Next guess: 75.\n",
    "\n",
    "Too high, but again you cut down half the remaining numbers! *With binary search, you guess the middle number and eliminate half the remaining numbers every time*. Next is 63 (halfway between 50 and 75).\n",
    "\n",
    "This is binary search. You just learned your first algorithm! Here’s how many numbers you can eliminate every time.\n",
    "\n",
    "Eliminate half the numbers every time with binary search.\n",
    "\n",
    "Whatever number I’m thinking of, you can guess in a maximum of seven guesses—because you eliminate so many numbers with every guess!\n",
    "\n",
    "> 这里有一个更好的技巧。从50开始。\n",
    ">\n",
    "> 太低了，但你刚刚排除了*一半的*数字！现在你知道1-50都太低了。现在你知道，1-50都是太低了。下一个猜测：75。\n",
    ">\n",
    "> 太高了，但是你又一次把剩下的数字减掉了一半！*通过二分查找，你每次都能猜到中间的数字，并消除一半的剩余数字*。接下来是63（50和75之间的一半）。\n",
    ">\n",
    "> 这就是二分查找。你刚刚学会了你的第一个算法! 下面是你每次能消除多少个数字。\n",
    ">\n",
    "> 每次用二分查找消除一半的数字。\n",
    ">\n",
    "> 无论我想的是什么数字，你最多只需猜测七次--因为你每次猜测都能消除这么多的数字!"
   ]
  },
  {
   "cell_type": "markdown",
   "id": "92536de5-9285-4f61-881f-09880ea9dffd",
   "metadata": {},
   "source": [
    "Suppose you’re looking for a word in the dictionary. The dictionary has 240,000 words. *In the worst case*, how many steps do you think each search will take?\n",
    "\n",
    "Simple search could take 240,000 steps if the word you’re looking for is the very last one in the book. With each step of binary search, you cut the number of words in half until you’re left with only one word.\n",
    "\n",
    "So binary search will take 18 steps—a big difference! In general, for any list of *n*, binary search will take log2 *n* steps to run in the worst case, whereas simple search will take *n* steps.\n",
    "\n",
    "> 假设你要在字典里找一个词。字典中有24万个词。*在最坏的情况下*，你认为每次搜索要花多少步？\n",
    ">\n",
    "> 如果你要找的词是书中的最后一个，简单的搜索可能需要24万步。每走一步二进制搜索，你就把字数减半，直到你只剩下一个字。\n",
    ">\n",
    "> 因此，二进制搜索需要18个步骤--这是一个很大的区别! 一般来说，对于任何*n*的列表，二进制搜索在最坏的情况下需要log<sub>2</sub>^n^步，而简单搜索则需要*n*步。"
   ]
  },
  {
   "cell_type": "markdown",
   "id": "b111e7fe-b424-44ff-8ad2-36b1f3456dda",
   "metadata": {},
   "source": [
    "**Logarithms**"
   ]
  },
  {
   "cell_type": "markdown",
   "id": "e8274907-e705-4d01-907f-ad37f6d27157",
   "metadata": {},
   "source": [
    "You may not remember what logarithms are, but you probably know what exponentials are. log10 100 is like asking, “How many 10s do we multiply together to get 100?” The answer is 2: 10 × 10. So log10 100 = 2. Logs are the flip of exponentials.\n",
    "\n",
    "> 你可能不记得什么是对数，但你可能知道什么是指数。\"log10 100 \"就像问：\"我们把多少个10相乘得到100？\" 答案是2：10×10。所以log10 100=2。对数是指数的翻转。"
   ]
  },
  {
   "cell_type": "markdown",
   "id": "09d98896-e685-4e6b-92ce-42e8636be36b",
   "metadata": {},
   "source": [
    "In this book, when I talk about running time in Big O notation (explained a little later), log always means log2. When you search for an element using simple search, in the worst case you might have to look at every single element. So for a list of 8 numbers, you’d have to check 8 numbers at most. For binary search, you have to check log *n* elements in the worst case. For a list of 8 elements, log 8 == 3, because 23 == 8. So for a list of 8 numbers, you would have to check 3 numbers at most. For a list of 1,024 elements, log 1,024 = 10, because 210 == 1,024. So for a list of 1,024 numbers, you’d have to check 10 numbers at most.\n",
    "\n",
    "> 在本书中，当我用大O符号（稍后解释）谈论运行时间时，log总是指log2。当你使用简单搜索来搜索一个元素时，在最坏的情况下，你可能不得不查看每一个元素。所以对于一个有8个数字的列表，你最多要检查8个数字。对于二进制搜索，在最坏的情况下，你必须检查log *n*元素。对于一个8个元素的列表，对数8==3，因为23==8，所以对于一个8个数字的列表，你最多只能检查3个数字。对于一个1,024个元素的列表，对数1,024=10，因为210==1,024。所以对于一个1,024个数字的列表，你最多需要检查10个数字。"
   ]
  },
  {
   "cell_type": "markdown",
   "id": "af85c85f-db91-4f29-a2a8-68b4e8d5f643",
   "metadata": {},
   "source": [
    "Let’s see how to write binary search in Python. The code sample here uses arrays. If you don’t know how arrays work, don’t worry; they’re covered in the next chapter. You just need to know that you can store a sequence of elements in a row of consecutive buckets called an array. The buckets are numbered starting with 0: the first bucket is at position #0, the second is #1, the         third is #2, and so on.\n",
    "\n",
    "The binary_search function takes a sorted array and an item. If the item is in the array, the function returns its position. You’ll keep track of what part of the array you have to search through. At the beginning, this is the entire array:\n",
    "\n",
    "> 让我们看看如何用Python写二进制搜索。这里的代码样本使用了数组。如果你不知道数组是如何工作的，不用担心；它们在下一章中会涉及。你只需要知道你可以把一连串的元素存储在一排连续的桶中，称为数组。这些桶的编号从0开始：第一个桶的位置是#0，第二个是#1，第三个是#2，以此类推。\n",
    ">\n",
    "> binary_search函数接收一个排序的数组和一个项目。如果项目在数组中，函数会返回其位置。你将跟踪你要搜索的数组的哪一部分。在开始的时候，这就是整个数组。"
   ]
  },
  {
   "cell_type": "raw",
   "id": "4ddc0382-e75e-42ef-9830-1a8eefea6b84",
   "metadata": {},
   "source": [
    "low = 0\n",
    "high = len(a) - 1"
   ]
  },
  {
   "cell_type": "markdown",
   "id": "f6d2102f-c9a6-4b3d-acdd-1f952a0415c5",
   "metadata": {},
   "source": [
    "Each time, you check the middle element:\n",
    "\n",
    "> 每一次，你都要检查中间的元素："
   ]
  },
  {
   "cell_type": "raw",
   "id": "f9167909-3135-41c0-b899-a95c090d6347",
   "metadata": {},
   "source": [
    "mid = round((low + high) / 2)\n",
    "guess = a[mid]    # round the float\n",
    "guess"
   ]
  },
  {
   "cell_type": "markdown",
   "id": "835df480-1ed3-4771-b9f2-7fb5ebc29cea",
   "metadata": {},
   "source": [
    "If the guess is too low, you update low accordingly:\n",
    "\n",
    "> 如果猜测太低，你就相应地更新低："
   ]
  },
  {
   "cell_type": "raw",
   "id": "2d405d0c-6fc8-4615-965b-bbce6adf499d",
   "metadata": {},
   "source": [
    "if guess < item:\n",
    "    low = mid + 1"
   ]
  },
  {
   "cell_type": "markdown",
   "id": "1a7d4c57-c33a-481f-8f28-e243a62ba7d4",
   "metadata": {},
   "source": [
    "And if the guess is too high, you update high. Here’s the full code:\n",
    "\n",
    "> 而如果猜测太高，你就更新高。下面是完整的代码："
   ]
  },
  {
   "cell_type": "code",
   "execution_count": 32,
   "id": "08f36bb7-0d84-4fa6-ad2d-dac209de41f3",
   "metadata": {},
   "outputs": [],
   "source": [
    "def binary_search(container, item):\n",
    "    low = 0\n",
    "    high = len(container) - 1\n",
    "    while low <= high:\n",
    "        mid = round((low + high) / 2)\n",
    "        guess = container[mid]\n",
    "        if guess == item:\n",
    "            return mid\n",
    "        if guess > item:\n",
    "            high = mid - 1\n",
    "        else:\n",
    "            low = mid + 1\n",
    "    return None"
   ]
  },
  {
   "cell_type": "code",
   "execution_count": 34,
   "id": "5d4187b3-a920-4a25-a2e3-e0cfb9311139",
   "metadata": {},
   "outputs": [
    {
     "name": "stdout",
     "output_type": "stream",
     "text": [
      "1\n",
      "4\n"
     ]
    }
   ],
   "source": [
    "my_list = [1, 3, 5, 7, 9]\n",
    "\n",
    "print(binary_search(my_list, 3))\n",
    "print(binary_search(my_list, 9))"
   ]
  },
  {
   "cell_type": "markdown",
   "id": "7a50b587-56fd-4c89-905e-3317208b3953",
   "metadata": {},
   "source": [
    "**Exercises**"
   ]
  },
  {
   "cell_type": "markdown",
   "id": "1ca83da7-ff1d-421b-adda-3f72a4cef41b",
   "metadata": {},
   "source": [
    "**1.1** \n",
    "\n",
    "Suppose you have a sorted list of 128 names, and you’re searching through it using binary search. What’s the maximum number of steps it would take?\n",
    "\n",
    "**1.2** \n",
    "\n",
    "Suppose you double the size of the list. What’s the maximum number of steps now?\n",
    "\n",
    "> **1.1** \n",
    ">\n",
    "> 假设你有一个128个名字的排序列表，你要用二进制搜索来搜索它。它最多需要多少步？\n",
    ">\n",
    "> **1.2** \n",
    ">\n",
    "> 假设你把列表的大小增加一倍。现在的最大步数是多少？"
   ]
  },
  {
   "cell_type": "code",
   "execution_count": 40,
   "id": "04a1a5bc-a30c-43c8-8f56-4596a0db19d8",
   "metadata": {},
   "outputs": [
    {
     "data": {
      "text/plain": [
       "7.0"
      ]
     },
     "execution_count": 40,
     "metadata": {},
     "output_type": "execute_result"
    },
    {
     "data": {
      "text/plain": [
       "8.0"
      ]
     },
     "execution_count": 40,
     "metadata": {},
     "output_type": "execute_result"
    }
   ],
   "source": [
    "import math\n",
    "math.log(128, 2)\n",
    "math.log(256, 2)"
   ]
  },
  {
   "cell_type": "markdown",
   "id": "c66a9894-0d86-44a3-9bec-c8036d52aad8",
   "metadata": {},
   "source": [
    "### Running time"
   ]
  },
  {
   "cell_type": "markdown",
   "id": "163beb53-621c-4e3b-8779-355d42bf8344",
   "metadata": {},
   "source": [
    "Any time I talk about an algorithm, I’ll discuss its running time. Generally you want to choose the most efficient algorithm—whether you’re trying to optimize for time or space.\n",
    "\n",
    "Back to binary search. How much time do you save by using it? Well, the first approach was to check each number, one by one. If this is a list of 100 numbers, it takes up to 100 guesses. If it’s a list of 4 billion numbers, it takes up to 4 billion guesses. So the maximum number of guesses is the same as the size of the list. This is called *linear time*.\n",
    "\n",
    "Binary search is different. If the list is 100 items long, it takes at most 7 guesses. If the list is 4 billion items, it takes at most 32 guesses. Powerful, eh? Binary search runs in *logarithmic time* (or *log time*, as the natives call it). Here’s a table summarizing our findings today.\n",
    "\n",
    "> 任何时候，当我谈论一种算法时，我都会讨论它的运行时间。一般来说，你想选择最有效的算法--无论你是想对时间还是空间进行优化。\n",
    ">\n",
    "> 回到二分查找。使用它能节省多少时间？好吧，第一个方法是逐一检查每个数字。如果这是一个由100个数字组成的列表，它需要多达100次的猜测。如果这是一个由40亿个数字组成的列表，它最多需要40亿次猜测。因此，最大的猜测次数与列表的大小是一样的。这被称为*线性时间*。\n",
    ">\n",
    "> 二分查找则不同。如果列表有100个项目，它最多需要7次猜测。如果列表是40亿个项目，它最多需要32次猜测。很强大，是吗？二分查找在*对数时间*（或*对数时间*，当地人称之为*log time*）内运行。这里有一个表格，总结了我们今天的发现。"
   ]
  },
  {
   "cell_type": "markdown",
   "id": "46fd7368-cf71-4e8f-ba2f-0957e4633f82",
   "metadata": {},
   "source": [
    "## **Big O notation**"
   ]
  },
  {
   "cell_type": "markdown",
   "id": "d0ede4c7-751c-4699-a56e-a81114237427",
   "metadata": {},
   "source": [
    "*Big O* notation is special notation that tells you how fast an algorithm is. Who cares? Well, it turns out that you’ll use other people’s algorithms often—and when you do, it’s nice to understand how fast or slow they are. In this section, I’ll explain what Big O notation is and give you a list of the most common running times for algorithms using it.\n",
    "\n",
    "> *大O*符号是特殊符号，告诉你一个算法有多快。谁在乎呢？事实证明，你会经常使用其他人的算法--当你使用时，了解他们的速度有多快或多慢是件好事。在本节中，我将解释什么是大O符号，并给你一个使用它的算法的最常见的运行时间列表。"
   ]
  },
  {
   "cell_type": "markdown",
   "id": "8b07c9e1-7e8c-4f5e-8820-89e953415c9a",
   "metadata": {},
   "source": [
    "### Algorithm running times grow at different rates"
   ]
  },
  {
   "cell_type": "markdown",
   "id": "de6296ee-2492-472c-9023-71c9203aa3b6",
   "metadata": {},
   "source": [
    "Bob is writing a search algorithm for NASA. His algorithm will kick in when a rocket is about to land on the Moon, and it will help calculate where to land.\n",
    "\n",
    "This is an example of how the run time of two algorithms can grow at different rates. Bob is trying to decide between simple search and binary search. The algorithm needs to be both fast and correct. On one hand, binary search is faster. And Bob has only *10 seconds* to figure out where to land—otherwise, the rocket will be off course. On the other hand, simple search is easier to write, and there is less chance of bugs being introduced. And Bob *really* doesn’t want bugs in the code to land a rocket! To be extra careful, Bob decides to time both algorithms with a list of 100 elements.      \n",
    "\n",
    "Let’s assume it takes 1 millisecond to check one element. With simple search, Bob has to check 100 elements, so the search takes 100 ms to run. On the other hand, he only has to check 7 elements with binary search (log2 100 is roughly 7), so that search takes 7 ms to run. But realistically, the list will have more like a billion elements. If it does, how long will simple search take? How long will binary search take? Make sure you have an answer for each question         before reading on.\n",
    "\n",
    "Bob runs binary search with 1 billion elements, and it takes 30 ms (log2 1,000,000,000 is roughly 30). “32 ms!” he thinks. “Binary search is about 15 times faster than simple search, because simple search took 100 ms with 100 elements, and binary search took 7 ms. So simple search will take 30 × 15 = 450 ms, right? Way under my threshold of 10 seconds.” Bob decides to go with simple search. Is that the right choice?           \n",
    "\n",
    "No. Turns out, Bob is wrong. Dead wrong. The run time for simple search with 1 billion items will be 1 billion ms, which is 11 days! The problem is, the run times for binary search and simple search *don’t grow at the same rate*.\n",
    "\n",
    "> 鲍勃正在为美国宇航局编写一个搜索算法。他的算法将在火箭即将登陆月球时启动，它将帮助计算在哪里登陆。\n",
    ">\n",
    "> 这是一个说明两种算法的运行时间如何以不同速度增长的例子。鲍勃正试图在简单搜索和二进制搜索之间做出决定。该算法需要既快又正确。一方面，二进制搜索更快。而且鲍勃只有*10秒的时间来确定降落地点--否则，火箭就会偏离航线。另一方面，简单搜索更容易编写，而且引入错误的机会更少。而鲍勃*真的不希望在代码中出现bug来让火箭着陆! 为了格外小心，鲍勃决定用一个有100个元素的列表对两种算法进行计时。     \n",
    ">\n",
    "> 让我们假设检查一个元素需要1毫秒。通过简单的搜索，鲍勃必须检查100个元素，所以搜索需要100毫秒的时间来运行。另一方面，用二进制搜索，他只需要检查7个元素（log2 100大约是7），所以搜索需要7毫秒运行。但现实中，这个列表会有十亿个元素。如果是这样，简单搜索需要多长时间？二进制搜索需要多长时间？在继续阅读之前，请确保你对每个问题都有一个答案。\n",
    ">\n",
    "> 鲍勃用10亿个元素运行二进制搜索，需要30毫秒（log2 1,000,000,000大约是30）。\"32毫秒！\"他想。\"二进制搜索比简单搜索快15倍左右，因为简单搜索用100个元素花了100毫秒，而二进制搜索花了7毫秒。所以简单搜索将花费30×15=450毫秒，对吗？远远低于我的阈值10秒。\" 鲍勃决定采用简单搜索。这是个正确的选择吗？          \n",
    ">\n",
    "> 不，事实证明，鲍勃是错的。大错特错。有10亿个项目的简单搜索的运行时间将是10亿毫秒，也就是11天! 问题是，二进制搜索和简单搜索的运行时间*不会以同样的速度增长*。\n",
    "Run times grow at very different speeds!"
   ]
  },
  {
   "cell_type": "markdown",
   "id": "fe19a758-e3d2-463f-aa20-76b61d810db3",
   "metadata": {},
   "source": [
    "That is, as the number of items increases, binary search takes a little more time to run. But simple search takes a *lot* more time to run. So as the list of numbers gets bigger, binary search suddenly becomes a *lot* faster than simple search. Bob thought binary search was 15 times faster than simple search, but that’s not correct. If the list has 1 billion items, it’s more like 33 million times faster. That’s why it’s not enough to know how long an algorithm takes to run—you need to know how the running time increases as the list size increases. That’s where Big O notation comes in.\n",
    "\n",
    "Big O notation tells you how fast an algorithm is. For example, suppose you have a list of size *n*. Simple search needs to check each element, so it will take *n* operations. The run time in Big O notation is O(*n*). Where are the seconds? There are none—Big O doesn’t tell you the speed in seconds. *Big O notation lets you compare the number of operations.* It tells you how fast the algorithm grows.\n",
    "\n",
    "> 也就是说，随着项目数量的增加，二进制搜索需要更多的时间来运行。但是简单搜索需要*多的时间来运行。因此，随着数字列表越来越大，二进制搜索突然变得比简单搜索快了*多。鲍勃认为二进制搜索比简单搜索快15倍，但这并不正确。如果列表中有10亿个项目，它就会快3300万倍。这就是为什么仅仅知道一个算法的运行时间是不够的，你需要知道随着列表大小的增加，运行时间是如何增加的。这就是大O记号的作用。\n",
    ">\n",
    "> 大O符号告诉你一个算法有多快。例如，假设你有一个大小为*n*的列表。简单搜索需要检查每个元素，所以需要*n*次操作。大O记法的运行时间是O(*n*)。秒在哪里？没有--大O并没有告诉你速度是多少秒。*大O符号让你比较操作的数量。*它告诉你算法的增长速度。"
   ]
  },
  {
   "cell_type": "markdown",
   "id": "73b031a1-936b-4cf0-a0b4-f1b5f60621eb",
   "metadata": {},
   "source": [
    "Here’s another example. Binary search needs log *n* operations to check a list of size *n*. What’s the running time in Big O notation? It’s O(log *n*). In general, Big O notation is written as follows.\n",
    "\n",
    "> 这里有另一个例子。二进制搜索需要记录*n*次操作来检查一个大小为*n*的列表。用大O表示的运行时间是多少？是O(log *n*)。一般来说，大O记数法的写法是这样的。"
   ]
  },
  {
   "cell_type": "raw",
   "id": "64d51e18-bc9b-4bce-a447-ebafbda9d2c9",
   "metadata": {},
   "source": [
    "O(n)    # O stands for \"Big O\", n stands for number of operations"
   ]
  },
  {
   "cell_type": "markdown",
   "id": "391360c1-b440-4662-b391-a71e0f6adacf",
   "metadata": {},
   "source": [
    "This tells you the number of operations an algorithm will make. It’s called Big O notation because you put a “big O” in front of the number of operations (it sounds like a joke, but it’s true!). \n",
    "\n",
    "Now let’s look at some examples. See if you can figure out the run time for these algorithms.\n",
    "\n",
    "> 这告诉你一个算法将进行多少次运算。它被称为 \"大O \"符号，因为你在操作数前面加了一个 \"大O\"（这听起来像个笑话，但这是真的！）。\n",
    ">\n",
    "> 现在让我们看看一些例子。看看你是否能计算出这些算法的运行时间。"
   ]
  },
  {
   "cell_type": "markdown",
   "id": "a45d9258-1347-4f46-80c2-0a27cb247ee3",
   "metadata": {},
   "source": [
    "### Visualizing different Big O run times"
   ]
  },
  {
   "cell_type": "markdown",
   "id": "4997ea0f-2520-4ad0-8b8b-90003acd1d1d",
   "metadata": {},
   "source": [
    "Here’s a practical example you can follow at home with a few pieces of paper and a pencil. Suppose you have to draw a grid of 16 boxes.\n",
    "\n",
    "What’s a good algorithm to draw this grid?\n",
    "\n",
    "> 这里有一个实际的例子，你可以在家里用几张纸和一支铅笔来做。假设你要画一个由16个盒子组成的网格。\n",
    ">\n",
    "> 画这个网格的好算法是什么？"
   ]
  },
  {
   "cell_type": "markdown",
   "id": "7c32264e-d491-42d1-b39d-0ed3b7b7c774",
   "metadata": {},
   "source": [
    "**Algorithm 1**\n",
    "\n",
    "One way to do it is to draw 16 boxes, one at a time. Remember, Big O notation counts the number of operations. In this example, drawing one box is one operation. You have to draw 16 boxes. How many operations will it take, drawing one box at a time?\n",
    "\n",
    "It takes 16 steps to draw 16 boxes. What’s the running time for this algorithm?\n",
    "\n",
    "> **算法1**\n",
    ">\n",
    "> 一种方法是画16个盒子，一次一个。记住，大O符号计算的是操作的数量。在这个例子中，画一个盒子就是一个操作。你必须要画16个盒子。每次画一个盒子需要多少次操作？\n",
    ">\n",
    "> 绘制16个盒子需要16个步骤。这个算法的运行时间是多少？"
   ]
  },
  {
   "cell_type": "markdown",
   "id": "26b72402-5173-4453-9b55-a843a90b9ec1",
   "metadata": {},
   "source": [
    "**Algorithm 2**    \n",
    "\n",
    "Try this algorithm instead. Fold the paper.\n",
    "\n",
    "In this example, folding the paper once is an operation. You just made two boxes with that operation!      \n",
    "\n",
    "Fold the paper again, and again, and again.\n",
    "\n",
    "Unfold it after four folds, and you’ll have a beautiful grid! Every fold doubles the number of boxes. You made 16 boxes with 4 operations!\n",
    "\n",
    "You can “draw” twice as many boxes with every fold, so you can draw 16 boxes in 4 steps. What’s the running time for this algorithm? Come up with running times for both algorithms before moving on.\n",
    "\n",
    "> **算法2**    \n",
    ">\n",
    "> 试试这个算法吧。折叠纸张。\n",
    ">\n",
    "> 在这个例子中，把纸折一次是一个操作。你刚刚用这个操作做了两个盒子      \n",
    ">\n",
    "> 再折一次，再折一次，再折一次。\n",
    ">\n",
    "> 折叠四次后再展开，你就会有一个漂亮的网格了 每折一次，盒子的数量就增加一倍。你用4次操作做了16个盒子!\n",
    ">\n",
    "> 你每折一次就可以 \"画 \"出两倍的盒子，所以你可以用4步画出16个盒子。这个算法的运行时间是多少？在继续之前，请提出两种算法的运行时间。"
   ]
  },
  {
   "cell_type": "markdown",
   "id": "14d02b00-57b2-40e1-80b0-bd53d81400db",
   "metadata": {},
   "source": [
    "*Answers:* Algorithm 1 takes O(*n*) time, and algorithm 2 takes O(log *n*) time."
   ]
  },
  {
   "cell_type": "markdown",
   "id": "c6a033f2-87d5-40fd-a705-1a4d581f45b5",
   "metadata": {},
   "source": [
    "### Big O establishes a worst-case run time"
   ]
  },
  {
   "cell_type": "markdown",
   "id": "bfcd7941-91ab-4648-a944-fc3cb1b1fbcd",
   "metadata": {},
   "source": [
    "Suppose you’re using simple search to look for a person in the phone book. You know that simple search takes O(*n*) time to run, which means in the worst case, you’ll have to look through every single entry in your phone book. In this case, you’re looking for Adit. This guy is the first entry in your phone book. So you didn’t have to look at every entry—you found it on the first try. Did this algorithm take O(*n*) time? Or did it take O(1) time because you found the person on the first try?\n",
    "\n",
    "Simple search still takes O(*n*) time. In this case, you found what you were looking for instantly. That’s the best-case scenario. But Big O notation is about the *worst-case* scenario. So you can say that, in the *worst case*, you’ll have to look at every entry in the phone book once. That’s O(*n*) time. It’s a reassurance—you know that simple search will never be slower than O(*n*) time.\n",
    "\n",
    "> 假设你正在使用简单搜索在电话簿中寻找一个人。你知道简单搜索需要O(*n*)时间来运行，这意味着在最坏的情况下，你必须翻看电话簿中的每一个条目。在这种情况下，你要找的是Adit。这个人是你电话簿中的第一个条目。所以你不必看每一个条目--你第一次就找到了它。这个算法花了O(*n*)时间吗？还是因为你第一次就找到了这个人而花费了O(1)时间？\n",
    ">\n",
    "> 简单的搜索仍然需要O(*n*)时间。在这种情况下，你立刻就找到了你要找的东西。这就是最好的情况。但大O符号是关于*糟糕的情况*的场景的。所以你可以说，在*糟糕的情况下*，你必须看一次电话簿中的每一个条目。这就是O(*n*)时间。这是一个保证--你知道简单的搜索永远不会慢于O(*n*)时间。"
   ]
  },
  {
   "cell_type": "markdown",
   "id": "aba93289-b078-4130-a9a6-5dc76abd0f25",
   "metadata": {},
   "source": [
    "Along with the worst-case run time, it’s also important to look at the average-case run time. Worst case versus average case is discussed in [chapter 4](ms-local-stream://EpubReader_AC72D530066DA71DBA289EF8C2FE2E4D915D872E9F520716C4ECA9F5D94B14/Content/OEBPS/kindle_split_010.xhtml#ch04).\n",
    "\n",
    "> 除了最坏情况下的运行时间外，看一下平均情况下的运行时间也很重要。最坏情况与平均情况的对比在第4章中讨论。"
   ]
  },
  {
   "cell_type": "markdown",
   "id": "c6b944cd-1e43-441e-9a78-bfb6b3900094",
   "metadata": {},
   "source": [
    "### Some common Big O run times"
   ]
  },
  {
   "cell_type": "markdown",
   "id": "b1d8b524-3913-409d-8bd5-82896d2001e0",
   "metadata": {},
   "source": [
    "Here are five Big O run times that you’ll encounter a lot, sorted from fastest to slowest:\n",
    "\n",
    "- O(log *n*), also known as *log time.* Example: Binary search.                     \n",
    "- O(*n*), also known as *linear time*. Example: Simple search.                     \n",
    "- O(*n* * log *n*). Example: A fast sorting algorithm, like quicksort (coming up in [chapter 4](ms-local-stream://EpubReader_AC72D530066DA71DBA289EF8C2FE2E4D915D872E9F520716C4ECA9F5D94B14/Content/OEBPS/kindle_split_010.xhtml#ch04)).                     \n",
    "- O(*n*2). Example: A slow sorting algorithm, like selection sort (coming up in [chapter 2](ms-local-stream://EpubReader_AC72D530066DA71DBA289EF8C2FE2E4D915D872E9F520716C4ECA9F5D94B14/Content/OEBPS/kindle_split_008.xhtml#ch02)).                     \n",
    "- O(*n*!). Example: A really slow algorithm, like the traveling salesperson (coming up next!).\n",
    "\n",
    "> 下面是你会经常遇到的五个大O运行时间，从最快到最慢排序：\n",
    ">\n",
    "> - O(log *n*)，也被称为*log时间*。例如：二分查找。                    \n",
    "> - O(*n*)，也被称为*线性时间*。例子：简单搜索。                    \n",
    "> - O(*n* * log *n*)。例子。快速排序算法，如quicksort（即将在[第四章](ms-local-stream://EpubReader_AC72D530066DA71DBA289EF8C2FE2E4D915D872E9F520716C4ECA9F5D94B14/Content/OEBPS/kindle_split_010.xhtml#ch04)）。                    \n",
    "> - O(*n*^2^)。例子：一个缓慢的排序算法，如选择排序（即将在第二章）。                    \n",
    "> - O(*n*!)。例子：一个非常慢的算法，比如旅行推销员（接下来会出现！）。"
   ]
  },
  {
   "cell_type": "markdown",
   "id": "2f222ee8-7b9c-4285-9883-b4c3f55d53e9",
   "metadata": {},
   "source": [
    "Suppose you’re drawing a grid of 16 boxes again, and you can choose from 5 different algorithms to do so. If you use the first algorithm, it will take you O(log *n*) time to draw the grid. You can do 10 operations per second. With O(log *n*) time, it will take you 4 operations to draw a grid of 16 boxes (log 16 is 4). So it will take you 0.4 seconds to draw the grid. What if you have to draw 1,024 boxes? It will take you log 1,024 = 10 operations, or 1 second to draw a grid of 1,024 boxes. These numbers are using the first algorithm.\n",
    "\n",
    "The second algorithm is slower: it takes O(*n*) time. It will take 16 operations to draw 16 boxes, and it will take 1,024 operations to draw 1,024 boxes. How much time is that in seconds?\n",
    "\n",
    "Here’s how long it would take to draw a grid for the rest of the algorithms, from fastest to slowest:\n",
    "\n",
    "> 假设你又要画一个由16个盒子组成的网格，你可以从5种不同的算法中进行选择。如果你使用第一种算法，你将花费O(log *n*)时间来绘制网格。你每秒钟可以做10次操作。用O(log *n*)的时间，你将需要4次操作来绘制16个盒子的网格（log 16是4）。所以你需要0.4秒来绘制网格。如果你要画1,024个盒子呢？你将需要对数1,024=10次操作，或1秒来绘制1,024个盒子的网格。这些数字使用的是第一种算法。\n",
    ">\n",
    "> 第二种算法更慢：它需要O(*n*)时间。画16个盒子需要16次操作，而画1024个盒子需要1,024次操作。那是多少时间，以秒为单位？\n",
    ">\n",
    "> 下面是其余算法绘制一个网格所需的时间，从最快到最慢："
   ]
  },
  {
   "cell_type": "markdown",
   "id": "faef86ec-24d4-4c7b-b4fb-b6df39791224",
   "metadata": {},
   "source": [
    "**Exercises**\n",
    "\n",
    "Give the run time for each of these scenarios in terms of Big O. \n",
    "\n",
    "**1.3** \n",
    "\n",
    "You have a name, and you want to find the person’s phone number in the phone book.\n",
    "\n",
    "**1.4** \n",
    "\n",
    "You have a phone number, and you want to find the person’s name in the phone book. (Hint: You’ll have to search through the whole book!)\n",
    "\n",
    "**1.5** \n",
    "\n",
    "You want to read the numbers of every person in the phone book.\n",
    "\n",
    "**1.6** \n",
    "\n",
    "You want to read the numbers of just the *A*s. (This is a tricky one! It involves concepts that are covered more in [chapter 4](ms-local-stream://EpubReader_AC72D530066DA71DBA289EF8C2FE2E4D915D872E9F520716C4ECA9F5D94B14/Content/OEBPS/kindle_split_010.xhtml#ch04). Read the answer—you may be surprised!)\n",
    "\n",
    "> **练习**\n",
    ">\n",
    "> 以大O为单位给出每个场景的运行时间：\n",
    ">\n",
    "> **1.3** \n",
    ">\n",
    "> 你有一个名字，你想在电话簿中找到这个人的电话号码。\n",
    ">\n",
    "> **1.4** \n",
    ">\n",
    "> 你有一个电话号码，而你想在电话簿中找到这个人的名字。(提示：你必须把整本书都找一遍！)\n",
    ">\n",
    "> **1.5** \n",
    ">\n",
    "> 你想读取电话簿中每个人的号码。\n",
    ">\n",
    "> **1.6** \n",
    ">\n",
    "> 你要读的只是*A*的数字。(这是个棘手的问题! 它涉及的概念在[第4章](ms-local-stream://EpubReader_AC72D530066DA71DBA289EF8C2FE2E4D915D872E9F520716C4ECA9F5D94B14/Content/OEBPS/kindle_split_010.xhtml#ch04)中涉及较多。阅读答案-你可能会感到惊讶！)"
   ]
  },
  {
   "cell_type": "raw",
   "id": "6dfc42a0-cea4-455c-876c-4b69eeee2c23",
   "metadata": {},
   "source": [
    "O(log n)\n",
    "O(n)\n",
    "O(n)\n",
    "O(n) # it is a surprising answer"
   ]
  },
  {
   "cell_type": "markdown",
   "id": "d5d71778-3f7d-49e5-8db2-b9a5ea91ae6e",
   "metadata": {},
   "source": [
    "### The traveling salesperson"
   ]
  },
  {
   "cell_type": "markdown",
   "id": "da058f52-4c42-4fbc-98ff-d31e5ad124b5",
   "metadata": {},
   "source": [
    "You might have read that last section and thought, “There’s no way I’ll ever run into an algorithm that takes O(*n*!) time.” Well, let me try to prove you wrong! Here’s an example of an algorithm with a really bad running time. This is a famous problem in computer science, because its growth is appalling and some very smart people think it can’t be improved. It’s called the *traveling salesperson* problem.\n",
    "\n",
    "You have a salesperson. The salesperson has to go to five cities.\n",
    "\n",
    "This salesperson, whom I’ll call Opus, wants to hit all five cities while traveling the minimum distance. Here’s one way to do that: look at every possible order in which he could travel to the cities.\n",
    "\n",
    "> 你可能读了最后一节后想，\"我不可能遇到一个需要O(*n*!)时间的算法\"。好吧，让我试着证明你是错的! 这里有一个运行时间非常糟糕的算法的例子。这是计算机科学中一个著名的问题，因为它的增长速度令人震惊，而且一些非常聪明的人认为它不能被改进。这就是所谓的*旅行中的销售人员*问题。\n",
    ">\n",
    "> 你有一个销售人员。这个销售员必须去五个城市。\n",
    ">\n",
    "> 这个销售员，我叫他Opus，想在最短的距离内到达所有五个城市。这里有一个方法：看看他去这些城市的所有可能的顺序。"
   ]
  },
  {
   "cell_type": "markdown",
   "id": "f01cc958-1e55-4d52-92ff-1f76b67223ab",
   "metadata": {},
   "source": [
    "He adds up the total distance and then picks the path with the lowest distance. There are 120 permutations with 5 cities, so it will take 120 operations to solve the problem for 5 cities. For 6 cities, it will take 720 operations (there are 720 permutations). For 7 cities, it will take 5,040 operations!\n",
    "\n",
    "> 他把总距离加起来，然后选取距离最小的路径。5个城市有120种排列组合，所以5个城市的问题需要120次运算才能解决。对于6个城市，它将需要720次操作（有720个排列组合）。对于7个城市，将需要5,040次操作!"
   ]
  },
  {
   "cell_type": "markdown",
   "id": "28a3173c-e7b0-4e6a-a7b5-33ae6e647694",
   "metadata": {},
   "source": [
    "The number of operations increases drastically.\n",
    "\n",
    "In general, for *n* items, it will take *n*! (*n* factorial) operations to compute the result. So this is O(*n*!) time, or *factorial time*. It takes a lot of operations for everything except the smallest numbers. Once you’re dealing with 100+ cities, it’s impossible to calculate the answer in time—the Sun will collapse first.\n",
    "\n",
    "This is a terrible algorithm! Opus should use a different one, right? But he can’t. This is one of the unsolved problems in computer science. There’s no fast known algorithm for it, and smart people think it’s *impossible* to have a smart algorithm for this problem. The best we can do is come up with an approximate solution; see [chapter 10](ms-local-stream://EpubReader_AC72D530066DA71DBA289EF8C2FE2E4D915D872E9F520716C4ECA9F5D94B14/Content/OEBPS/kindle_split_016.xhtml#ch10) for more.\n",
    "\n",
    "> 操作的数量急剧增加。\n",
    ">\n",
    "> 一般来说，对于*n*项，将需要*n*! (*n*阶乘)操作来计算结果。所以这就是O(*n*!)时间，或者说是*因子阶乘*时间。除了最小的数字，其他的都需要大量的操作。一旦你要处理100个以上的城市，就不可能在时间内计算出答案--太阳会首先崩溃。\n",
    ">\n",
    "> 这是个糟糕的算法! 奥普斯应该使用一个不同的算法，对吗？但他不能。这是计算机科学中的一个未解决的问题。没有快速的已知算法，而且聪明人认为*不可能*有一个聪明的算法来解决这个问题。我们能做的最好的事情就是想出一个近似的解决方案；更多内容请参见第10章。"
   ]
  },
  {
   "cell_type": "markdown",
   "id": "4e9aa644-4860-4da2-b937-86e5c3dda26a",
   "metadata": {},
   "source": [
    "One final note: if you’re an advanced reader, check out binary search trees! There’s a brief description of them in the last chapter.\n",
    "\n",
    "> 最后一点：如果你是一个高级读者，可以看看二分查找树！在最后一章中有对它们的简要描述。"
   ]
  },
  {
   "cell_type": "markdown",
   "id": "3307b900-5adc-4565-acdb-cf510a0a64a7",
   "metadata": {},
   "source": [
    "## **Recap**"
   ]
  },
  {
   "cell_type": "markdown",
   "id": "4c88f6e0-f9ea-49b1-8a94-d0f353a9b425",
   "metadata": {},
   "source": [
    "- Binary search is a lot faster than simple search.                     \n",
    "- O(log *n*) is faster than O(*n*), but it gets a lot faster once the list of items you’re searching through grows.                     \n",
    "- Algorithm speed isn’t measured in seconds.                     \n",
    "- Algorithm times are measured in terms of *growth* of an algorithm.                     \n",
    "- Algorithm times are written in Big O notation.\n",
    "\n",
    "> - 二分查找比简单搜索快得多。                    \n",
    "> - O(log *n*)比O(*n*)快，但一旦你要搜索的项目列表增加，它就会变得快很多。                    \n",
    "> - 算法速度不是以秒来衡量的。                    \n",
    "> - 算法时间是以算法的*增长*来衡量的。                    \n",
    "> - 算法时间是用大O符号写的。"
   ]
  }
 ],
 "metadata": {
  "kernelspec": {
   "display_name": "Python 3 (ipykernel)",
   "language": "python",
   "name": "python3"
  },
  "language_info": {
   "codemirror_mode": {
    "name": "ipython",
    "version": 3
   },
   "file_extension": ".py",
   "mimetype": "text/x-python",
   "name": "python",
   "nbconvert_exporter": "python",
   "pygments_lexer": "ipython3",
   "version": "3.10.4"
  }
 },
 "nbformat": 4,
 "nbformat_minor": 5
}
