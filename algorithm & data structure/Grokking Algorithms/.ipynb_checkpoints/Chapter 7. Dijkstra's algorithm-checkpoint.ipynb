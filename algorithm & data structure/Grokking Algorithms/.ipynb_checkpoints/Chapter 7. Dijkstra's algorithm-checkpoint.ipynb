{
 "cells": [
  {
   "cell_type": "code",
   "execution_count": 3,
   "id": "644aaeb7-055b-4f5e-9c33-7d7d608027b7",
   "metadata": {},
   "outputs": [],
   "source": [
    "from IPython.core.interactiveshell import InteractiveShell\n",
    "InteractiveShell.ast_node_interactivity = \"all\""
   ]
  },
  {
   "cell_type": "markdown",
   "id": "0c515b59-c335-466e-85fd-b2099cad6691",
   "metadata": {},
   "source": [
    "**In this chapter**\n",
    "\n",
    "- We continue the discussion of graphs, and you learn about weighted graphs: a way to assign more or less weight to some edges.                     \n",
    "- You learn [Dijkstra’s algorithm](https://en.wikipedia.org/wiki/Dijkstra%27s_algorithm), which lets you answer “What’s the shortest path to X?” for weighted graphs.                     \n",
    "- You learn about cycles in graphs, where Dijkstra’s algorithm doesn’t work.\n",
    "\n",
    "> **在本章中**\n",
    ">\n",
    "> - 我们继续讨论图的问题，你将学习加权图：一种给某些边分配更多或更少权重的方法。                    \n",
    "> - 你学习了[Dijkstra算法](https://en.wikipedia.org/wiki/Dijkstra%27s_algorithm)，它可以让你回答 \"到X的最短路径是什么？\"对于加权图来说。                    \n",
    "> - 你要学习图中的循环，在这种情况下，Dijkstra的算法不起作用。"
   ]
  },
  {
   "cell_type": "markdown",
   "id": "4bb668cb-678d-4dad-ace0-5c21814debe6",
   "metadata": {},
   "source": [
    "In the last chapter, you figured out a way to get from point A to point B. It’s not necessarily the fastest path. It’s the shortest path, because it has the least number of segments (three segments). But suppose you add travel times to those segments. Now you see that there’s a faster path.\n",
    "<img src=\"../pic/breadth first.png\">\n",
    "\n",
    "> 在上一章中，你想出了一个从A点到B点的方法，这不一定是最快的路径。它是最短的路径，因为它的段数最少（三段）。但是，假设你把旅行时间加到这些段上。现在你会发现有一条更快的路径。"
   ]
  },
  {
   "cell_type": "markdown",
   "id": "fbb69c66-ff05-456c-880c-d4bbf4728706",
   "metadata": {},
   "source": [
    "<img src=\"../pic/add time.png\">"
   ]
  },
  {
   "cell_type": "markdown",
   "id": "6924e407-b7fa-425c-b463-99256cdd483b",
   "metadata": {},
   "source": [
    "## Working with Dijkstra’s algorithm"
   ]
  },
  {
   "cell_type": "markdown",
   "id": "ebd8bf96-04ac-4cb2-a72b-0c799c6a69c7",
   "metadata": {},
   "source": [
    "Let’s see how it works with this graph."
   ]
  },
  {
   "cell_type": "markdown",
   "id": "9a66ac5b-9709-479d-ba58-4c438b8ddf34",
   "metadata": {},
   "source": [
    "<img src=\"../pic/how it works.png\">"
   ]
  },
  {
   "cell_type": "markdown",
   "id": "55186ac1-07f3-4078-af96-80842c1df8b0",
   "metadata": {},
   "source": [
    "Each segment has a travel time in minutes. You’ll use Dijkstra’s algorithm to go from start to finish in the shortest possible time.      \n",
    "\n",
    "If you ran breadth-first search on this graph, you’d get this shortest path.\n",
    "\n",
    "<img src=\"../pic/shortest path.png\">"
   ]
  },
  {
   "cell_type": "markdown",
   "id": "17212735-ee07-4775-aac2-3d2b289ff661",
   "metadata": {},
   "source": [
    "But that path takes 7 minutes. Let’s see if you can find a path that takes less time! There are four steps to Dijkstra’s algorithm:\n",
    "\n",
    "**1**. Find the “cheapest” node. This is the node you can get to in the least amount of time.                     \n",
    "\n",
    "**2**. Update the costs of the neighbors of this node. I’ll explain what I mean by this shortly.                     \n",
    "\n",
    "**3**. Repeat until you’ve done this for every node in the graph.           \n",
    "\n",
    "**4**. Calculate the final path.\n",
    "\n",
    "> 但这条路需要7分钟。让我们看看你能不能找到一条用时更少的路径！\"。Dijkstra的算法有四个步骤：\n",
    ">\n",
    "> **1**. 找到 \"最便宜\"的节点。这是你能用最少的时间到达的节点。                    \n",
    ">\n",
    "> **2**. 更新这个节点的邻居的成本。我很快会解释我的意思。                    \n",
    ">\n",
    "> **3**. 重复这个过程，直到你对图中的每一个节点都做了这个动作。          \n",
    ">\n",
    "> **4**. 计算最后的路径。"
   ]
  },
  {
   "cell_type": "markdown",
   "id": "9695117c-af3e-4050-acf8-743e51847941",
   "metadata": {},
   "source": [
    "**Step 1:** Find the cheapest node. You’re standing at the start, wondering if you should go to node A or node B. How long does it take to get to each node?\n",
    "\n",
    "<img src=\"../pic/step one.png\">"
   ]
  },
  {
   "cell_type": "markdown",
   "id": "801ee7d6-e98c-4ecc-8882-103c38d0a01a",
   "metadata": {},
   "source": [
    "It takes 6 minutes to get to node A and 2 minutes to get to node B. The rest of the nodes, you don’t know yet.\n",
    "\n",
    "Because you don’t know how long it takes to get to the finish yet, you put down infinity (you’ll see why soon). Node B is the closest node ... it’s 2 minutes away.\n",
    "\n",
    "> 到节点A需要6分钟，到节点B需要2分钟，其余的节点，你还不知道。\n",
    ">\n",
    "> 因为你还不知道到达终点需要多长时间，所以你就写上了无穷大（你很快就会知道为什么）。节点B是最近的节点......距离2分钟。\n",
    "\n",
    "<img src=\"../pic/2 minutes away.png\">"
   ]
  },
  {
   "cell_type": "markdown",
   "id": "dfc05b08-ddde-47c7-a47e-fa8e320d8fa5",
   "metadata": {},
   "source": [
    "**Step 2:** Calculate how long it takes to get to all of node B’s neighbors *by following an edge from B*\n",
    "\n",
    "<img src=\"../pic/short path to A.png\">\n",
    "\n",
    "Hey, you just found a shorter path to node A! It used to take 6 minutes to get to node A. But if you go through node B, there’s a path that only takes 5 minutes! When you find a shorter path for a neighbor of B, update its cost. In this case, you found\n",
    "\n",
    "- A shorter path to A (down from 6 minutes to 5 minutes)                     \n",
    "- A shorter path to the finish (down from infinity to 7 minutes)"
   ]
  },
  {
   "cell_type": "markdown",
   "id": "12999e2e-2e57-44f8-a798-1f4bd3c0d13f",
   "metadata": {},
   "source": [
    "**Step 3**: Repeat! "
   ]
  },
  {
   "cell_type": "markdown",
   "id": "6bb6f174-59b0-48ea-a949-afe8f3b31e6b",
   "metadata": {},
   "source": [
    "**Step 1 again:** Find the node that takes the least amount of time to get to. You’re done with node B, so node A has the next smallest time estimate.\n",
    "\n",
    "<img src=\"../pic/repeat.png\">\n",
    "\n",
    "**Step 2 again:** Update the costs for node A’s neighbors.\n",
    "\n",
    "<img src=\"../pic/update node A.png\">\n",
    "\n",
    "Woo, it takes 6 minutes to get to the finish now!"
   ]
  },
  {
   "cell_type": "markdown",
   "id": "0d1fb0a6-08db-4869-8141-fbb2a393c6b3",
   "metadata": {},
   "source": [
    "You’ve run Dijkstra’s algorithm for every node (you don’t need to run it for the finish node). At this point, you know\n",
    "\n",
    "- It takes 2 minutes to get to node B.                     \n",
    "- It takes 5 minutes to get to node A.                     \n",
    "- It takes 6 minutes to get to the finish.\n",
    "\n",
    "<img src=\"../pic/node time.png\">\n",
    "\n",
    "I’ll save the last step, calculating the final path, for the next section. For now, I’ll just show you what the final path is.\n",
    "\n",
    "<img src=\"../pic/final path.png\">"
   ]
  },
  {
   "cell_type": "markdown",
   "id": "73e594f1-a10e-40a0-8632-15ec27d4c522",
   "metadata": {},
   "source": [
    "Breadth-first search wouldn’t have found this as the shortest path, because it has three segments. And there’s a way to get from the start to the finish in two segments.\n",
    "\n",
    "<img src=\"../pic/shortest path with breadth first search.png\">\n",
    "\n",
    "In the last chapter, you used breadth-first search to find the shortest path between two points. Back then, “shortest path” meant the path with the fewest segments. But in Dijkstra’s algorithm, you assign a number or weight to each segment. Then Dijkstra’s algorithm finds the path with the smallest total weight.\n",
    "\n",
    "<img src=\"../pic/total weight.png\">"
   ]
  },
  {
   "cell_type": "markdown",
   "id": "9e8ad3e0-83ee-48cb-874e-f9a509b19bf0",
   "metadata": {},
   "source": [
    "To recap, Dijkstra’s algorithm has four steps:\n",
    "\n",
    "> **1**. Find the cheapest node. This is the node you can get to in the least amount of time.                     \n",
    "\n",
    "> **2**. Check whether there’s a cheaper path to the neighbors of this node. If so, update their costs.                     \n",
    "\n",
    "> **3**. Repeat until you’ve done this for every node in the graph.                     \n",
    "\n",
    "> **4**. Calculate the final path. (Coming up in the next section!)"
   ]
  },
  {
   "cell_type": "markdown",
   "id": "13c8a1b2-6acc-4c24-8b17-d9c9204c35b4",
   "metadata": {},
   "source": [
    "## Terminology"
   ]
  },
  {
   "cell_type": "markdown",
   "id": "a2d45de6-ea0f-4780-85d7-dee5720d4aab",
   "metadata": {},
   "source": [
    "I want to show you some more examples of Dijkstra’s algorithm in action. But first let me clarify some terminology.\n",
    "\n",
    "When you work with Dijkstra’s algorithm, each edge in the graph has a number associated with it. These are called *weights.*\n",
    "\n",
    "> 我想再给你看一些Dijkstra算法的实际例子。但首先让我澄清一些术语。\n",
    ">\n",
    "> 当你使用Dijkstra算法时，图中的每条边都有一个与之相关的数字。这些数字被称为*权重*。\n",
    "\n",
    "<img src=\"../pic/weights.png\">"
   ]
  },
  {
   "cell_type": "markdown",
   "id": "7315f918-fd54-4c9b-b354-61bc57822c5c",
   "metadata": {},
   "source": [
    "A graph with weights is called a *weighted graph*. A graph without weights is called an *unweighted graph*.\n",
    "\n",
    "To calculate the shortest path in an unweighted graph, use *breadth-first search*. To calculate the shortest path in a weighted graph, use *Dijkstra’s algorithm*. Graphs can also have *cycles*. A cycle looks like this.\n",
    "\n",
    "> 一个有权重的图被称为*加权图*。没有权重的图被称为*非加权图*。\n",
    ">\n",
    "> 要计算非加权图中的最短路径，请使用*广度优先搜索*。要计算加权图中的最短路径，请使用*Dijkstra算法*。图也可以有*圆环*。一个圆环看起来像这样。\n",
    "\n",
    "<img src=\"../pic/cycle.png\">"
   ]
  },
  {
   "cell_type": "markdown",
   "id": "bc9df374-c073-4458-a499-931c2913e522",
   "metadata": {},
   "source": [
    "It means you can start at a node, travel around, and end up at the same node. Suppose you’re trying to find the shortest path in this graph that has a cycle.\n",
    "\n",
    "<img src=\"../pic/graph has a cycle.png\">\n",
    "\n",
    "Would it make sense to follow the cycle? Well, you can use the path that avoids the cycle.\n",
    "\n",
    "<img src=\"../pic/avoids the cycle.png\">\n",
    "\n",
    "Or you can follow the cycle.\n",
    "\n",
    "<img src=\"../pic/follow the cycle.png\">\n",
    "\n",
    "You end up at node A either way, but the cycle adds more weight. You could even follow the cycle twice if you wanted. But every time you follow the cycle, you’re just adding 8 to the total weight. So following the cycle will never give you the shortest path."
   ]
  },
  {
   "cell_type": "markdown",
   "id": "fd6db19b-c5f0-4466-bd2e-a9ef86a2e641",
   "metadata": {},
   "source": [
    "Finally, remember our conversation about directed versus undirected graphs from chapter 6?\n",
    "\n",
    "<img src=\"../pic/directed graph vs undirected graph.png\">\n",
    "\n",
    "An undirected graph means that both nodes point to each other. That’s a cycle!\n",
    "\n",
    "<img src=\"../pic/that's a cycle.png\">\n",
    "\n",
    "With an undirected graph, each edge adds another cycle. Dijkstra’s algorithm only works with *directed acyclic graphs*, called DAGs for short."
   ]
  },
  {
   "cell_type": "markdown",
   "id": "6899c099-d4d7-49ed-b372-bf20a3f6b963",
   "metadata": {},
   "source": [
    "## Trading for a piano"
   ]
  },
  {
   "cell_type": "markdown",
   "id": "6569d752-ce24-4e94-841c-94cbcc0ab29a",
   "metadata": {},
   "source": [
    "Enough terminology, let’s look at another example! Let's suppose Rama is trying to trade a music book for a piano. “I’ll give you this poster for your book,” says Alex. “It’s a poster of my favorite band, Destroyer. Or I’ll give you this rare LP of Rick Astley for your book and $5 more.” “Ooh, I’ve heard that LP has a really great song,” says Amy. “I’ll trade you my guitar or drum set for the poster or the LP.”\n",
    "\n",
    "> 术语说得够多了，让我们再看看另一个例子! 我们假设拉玛想用一本音乐书换一架钢琴。\"我用这张海报换你的书，\"亚历克斯说。\"这是我最喜欢的乐队《毁灭者》的海报。或者我用这张稀有的里克-阿斯特利的唱片换你的书，再加5美元。\" \"哦，我听说那张唱片有一首非常棒的歌，\"艾米说。\"我可以用我的吉他或架子鼓来换取海报或唱片。\"\n",
    "\n",
    "“I’ve been meaning to get into guitar!” exclaims Beethoven. “Hey, I’ll trade you my piano for either of Amy’s things.”\n",
    "\n",
    "Perfect! With a little bit of money, Rama can trade his way from a piano book to a real piano. Now he just needs to figure out how to spend the least amount of money to make those trades. Let’s graph out what he’s been offered.\n",
    "\n",
    "> \"我一直想接触一下吉他！\"贝多芬感叹道。\"嘿，我可以用我的钢琴和你交换艾米的任何一件东西。\"\n",
    ">\n",
    "> 很好! 只要有一点钱，拉玛就可以从一本钢琴书换到一架真正的钢琴。现在他只需要想出如何花最少的钱来进行这些交易。让我们把他所得到的报价画出来。\n",
    "\n",
    "<img src=\"../pic/trade for piano.png\">"
   ]
  },
  {
   "cell_type": "markdown",
   "id": "e67a4ae7-aa25-46ab-a386-08aae928b986",
   "metadata": {},
   "source": [
    "In this graph, the nodes are all the items Rama can trade for. The weights on the edges are the amount of money he would have to pay to make the trade. So he can trade the poster for the guitar for \\$30, or trade the LP for the guitar for $15. How is Rama going to figure out the path from the book to the piano where he spends the least dough? Dijkstra’s algorithm to the         rescue! Remember, Dijkstra’s algorithm has four steps. In this example, you’ll do all four steps, so you’ll calculate the final path at the end, too.\n",
    "\n",
    "> 在这个图中，节点是拉玛可以交易的所有物品。边上的权重是他为进行交易所需支付的金额。所以他可以用海报换取吉他，价格为30美元，或者用LP换取吉他，价格为15美元。Rama如何计算出从书到钢琴的路径，使他花的钱最少？Dijkstra的算法来救场了。记住，Dijkstra的算法有四个步骤。在这个例子中，你要做所有四个步骤，所以你也要在最后计算出最后的路径。"
   ]
  },
  {
   "cell_type": "markdown",
   "id": "6b618b81-c76b-4475-ad86-aa6a1b825805",
   "metadata": {},
   "source": [
    "<img src=\"../pic/start up.png\">\n",
    "\n",
    "Before you start, you need some setup. Make a table of the cost for each node. The cost of a node is how expensive it is to get to.\n",
    "\n",
    "You’ll keep updating this table as the algorithm goes on. To calculate the final path, you also need a *parent* column on this table.\n",
    "\n",
    "> 在你开始之前，你需要一些设置。制作一个每个节点的成本表。一个节点的成本是指它要到达的成本有多高。\n",
    ">\n",
    "> 随着算法的进行，你会不断地更新这个表。为了计算出最终的路径，你还需要在这个表格上有一个*父*列。\n",
    "\n",
    "<img src=\"../pic/parameter column.png\">\n",
    "\n",
    "I’ll show you how this column works soon. Let’s start the algorithm."
   ]
  },
  {
   "cell_type": "markdown",
   "id": "a83afee0-aa77-4c8d-967f-a3ca633c406a",
   "metadata": {},
   "source": [
    "**Step 1:** Find the cheapest node. In this case, the poster is the cheapest trade, at \\$0. Is there a cheaper way to trade for the poster? This is a really important point, so think about it. Can you see a series of trades that will get Rama the poster for less than $0? Read on when you’re ready. Answer: No. *Because the poster is the cheapest node Rama can get to, there’s no way to make it any cheaper.* Here’s a different way to look at it. Suppose you’re traveling from home to work.\n",
    "\n",
    "> **第1步：**找到最便宜的节点。在这种情况下，海报是最便宜的交易，价格为0美元。有什么更便宜的方法来换取海报吗？这是非常重要的一点，所以要考虑一下。你能看到一系列的交易能让拉玛以低于0美元的价格得到海报吗？当你准备好了，请继续阅读。答案。不能。*因为海报是拉玛能到达的最便宜的节点，所以没有办法让它变得更便宜。*这里有一个不同的方式来看。假设你从家里去上班。\n",
    "\n",
    "<img src=\"../pic/poster.png\">"
   ]
  },
  {
   "cell_type": "markdown",
   "id": "a3242b15-44f3-4cc4-af6a-a34619f0e853",
   "metadata": {},
   "source": [
    "If you take the path toward the school, that takes 2 minutes. If you take the path toward the park, that takes 6 minutes. Is there any way you can take the path toward the park, and end up at the school, in less than 2 minutes? It’s impossible, because it takes longer than 2 minutes just to get to the park. On the other hand, can you find a faster path to the park? Yup.\n",
    "\n",
    "> 如果你走学校方向的路，需要2分钟。如果你走小路去公园，那需要6分钟。有什么办法能让你在不到2分钟的时间内走到公园，并最终到达学校？这是不可能的，因为光是到公园就需要2分钟以上的时间。另一方面，你能找到一条更快的路去公园吗？是的。\n",
    "\n",
    "<img src=\"../pic/short path to parks.png\">\n",
    "\n",
    "This is the key idea behind Dijkstra’s algorithm: *Look at the cheapest node on your graph. There is no cheaper way to get to this node!*\n",
    "\n",
    "Back to the music example. The poster is the cheapest trade.\n",
    "\n",
    "> 这就是Dijkstra算法的关键思想。*看一下你图上最便宜的节点。没有比这更便宜的方法可以到达这个节点了！*。\n",
    ">\n",
    "> 回到音乐的例子上。海报是最便宜的交易。"
   ]
  },
  {
   "cell_type": "markdown",
   "id": "902ff3df-9ea1-49a0-ad72-e7f7541731cf",
   "metadata": {},
   "source": [
    "**Step 2:** Figure out how long it takes to get to its neighbors (the cost).\n",
    "\n",
    "> **第2步：**算出它到邻居家所需的时间（成本）。\n",
    "\n",
    "<img src=\"../pic/cost to neigbor.png\">\n",
    "\n",
    "You have prices for the bass guitar and the drum set in the table. Their value was set when you went through the poster, so the poster gets set as their parent. That means, to get to the bass guitar, you follow the edge from the poster, and the same for the drums.\n",
    "\n",
    "> 你在表中有低音吉他和鼓组的价格。它们的价值是在你通过海报时设置的，所以海报被设置为它们的父本。这意味着，要找到贝斯吉他，你要沿着海报的边走，鼓也一样。\n",
    "\n",
    "<img src=\"../pic/update the cost.png\">"
   ]
  },
  {
   "cell_type": "markdown",
   "id": "aacff465-639b-42cc-9e8e-a2e038ccaa02",
   "metadata": {},
   "source": [
    "**Step 1 again:** The LP is the next cheapest node at $5. \n",
    "\n",
    "**Step 2 again:** Update the values of all of its neighbors.\n",
    "\n",
    "> **第1步再次：** LP是下一个最便宜的节点，价格为5美元。\n",
    ">\n",
    "> **第2步：**更新其所有邻居的价值。\n",
    "\n",
    "<img src=\"../pic/update neighbors again.png\">\n",
    "\n",
    "Hey, you updated the price of both the drums and the guitar! That means it’s cheaper to get to the drums and guitar by following the edge from the LP. So you set the LP as the new parent for both instruments.   \n",
    "\n",
    "The bass guitar is the next cheapest item. Update its neighbors.\n",
    "\n",
    "> 嘿，你把鼓和吉他的价格都更新了! 这意味着沿着LP的边缘去找鼓和吉他会更便宜。所以你把LP设为这两种乐器的新父本。  \n",
    ">\n",
    "> 贝斯吉他是下一个最便宜的物品。更新它的邻居。\n",
    "\n",
    "<img src=\"../pic/update bass neighbors.png\">\n",
    "\n",
    "Ok, you finally have a price for the piano, by trading the guitar for the piano. So you set the guitar as the parent. Finally, the last node, the drum set.\n",
    "\n",
    "> 好了，你终于有了一个钢琴的价格，通过用吉他换钢琴。所以你把吉他设为父节点。最后，最后一个节点，鼓组。\n",
    "\n",
    "<img src=\"../pic/drum set.png\">\n",
    "\n",
    "Rama can get the piano even cheaper by trading the drum set for the piano instead. *So the cheapest set of trades will cost Rama $35*.\n",
    "\n",
    "Now, as I promised, you need to figure out the path. So far, you know that the shortest path costs $35, but how do you figure out the path? To start with, look at the parent for *piano*.\n",
    "\n",
    "> 拉玛可以通过用架子鼓来换取钢琴，这样可以更便宜地得到钢琴。*所以最便宜的一套交易将花费拉玛35美元*。\n",
    ">\n",
    "> 现在，正如我所承诺的，你需要计算出路径。到目前为止，你知道最短的路径要花35美元，但你如何算出路径呢？首先，看一下*piano*的父本。\n",
    "\n",
    "<img src=\"../pic/parent for piano.png\">\n",
    "\n",
    "The piano has drums as its parent. That means Rama trades the drums for the piano. So you follow this edge.\n",
    "\n",
    "Let’s see how you’d follow the edges. *Piano* has *drums* as its parent.\n",
    "\n",
    "> 钢琴以鼓为母体。这意味着拉玛用鼓来换钢琴。所以你要遵循这条边。\n",
    ">\n",
    "> 让我们看看你是如何遵循这些边的。*钢琴*有*鼓*作为其父本。\n",
    "\n",
    "<img src=\"../pic/drum as parent.png\">\n",
    "\n",
    "And *drums* has the LP as its parent.\n",
    "\n",
    "> 而*鼓*以LP为其父本。\n",
    "\n",
    "<img src=\"../pic/LP as parent.png\">\n",
    "\n",
    "So Rama will trade the LP for the drums. And of course, he’ll trade the book for the LP. By following the parents backward, you now have the complete path.\n",
    "\n",
    "> 所以拉玛会用LP来换鼓。当然，他也会用书来换LP。顺着父节点的思路往后走，你现在就有了完整的道路。\n",
    "\n",
    "<img src=\"../pic/full path.png\">\n",
    "\n",
    "Here’s the series of trades Rama needs to make.\n",
    "\n",
    "> 这里是拉玛需要做的一系列交易。\n",
    "\n",
    "<img src=\"../pic/trade make.png\">\n",
    "\n",
    "So far, I’ve been using the term *shortest path* pretty literally: calculating the shortest path between two locations or between two people. I hope this example showed you         that the shortest path doesn’t have to be about physical distance. It can be about minimizing something. In this case, Rama wanted to minimize the amount of money he spent. Thanks, Dijkstra!\n",
    "\n",
    "> 到目前为止，我一直在使用*最短路径*这个词的字面意思：计算两个地点之间或两个人之间的最短路径。我希望这个例子告诉你，最短路径不一定是指物理距离。它可以是关于最小化的东西。在这个例子中，Rama想要最小化他所花的钱。谢谢你，Dijkstra!"
   ]
  },
  {
   "cell_type": "markdown",
   "id": "62a0b207-f397-45ce-bde5-56f4d88013d8",
   "metadata": {},
   "source": [
    "## Negative-weight edges"
   ]
  },
  {
   "cell_type": "markdown",
   "id": "16fcb285-b663-4c76-9bfc-b6b8610f11f5",
   "metadata": {},
   "source": [
    "In the trading example, Alex offered to trade the book for two items.\n",
    "\n",
    "> 在交易的例子中，亚历克斯提出用这本书来换取两件物品。\n",
    "\n",
    "<img src=\"../pic/book for two items.png\">\n",
    "\n",
    "Suppose Sarah offers to trade the LP for the poster, and *she’ll give Rama an additional $7.* It doesn’t cost Rama anything to make this trade; instead, he gets $7 back. How would you show this on the graph?\n",
    "\n",
    "> 假设莎拉提出用LP来换取海报，*她会给拉玛额外的7美元*。你将如何在图上显示这一点？\n",
    "\n",
    "<img src=\"../pic/7 for book.png\">\n",
    "\n",
    "The edge from the LP to the poster has a negative weight! Rama gets $7 back if he makes that trade. Now Rama has two ways to get to the poster.\n",
    "\n",
    "> 从LP到海报的边缘有一个负的重量! 如果Rama做这个交易，他可以得到7美元的回报。现在Rama有两条路可以到达海报处。\n",
    "\n",
    "<img src=\"../pic/two way for poster.png\">\n",
    "\n",
    "So it makes sense to do the second trade—Rama gets $2 back that way! Now, if you remember, Rama can trade the poster for the drums. There are two paths he could take.\n",
    "\n",
    "> 因此，做第二笔交易是有意义的--拉玛通过这种方式得到了2美元的回报! 现在，如果你记得，拉玛可以用海报来换鼓。他有两条路可以走。\n",
    "\n",
    "<img src=\"../pic/two ways for drum.png\">\n",
    "\n",
    "The second path costs him $2 less, so he should take that path, right? Well, guess what? If you run Dijkstra’s algorithm on this graph, Rama will take the wrong path. He’ll take the longer path. *You can’t use Dijkstra’s algorithm if you have negative-weight edges.* Negative-weight edges break the algorithm. Let’s see what happens when you run Dijkstra’s algorithm on this. First, make         the table of costs.\n",
    "\n",
    "> 第二条路的费用比他少2美元，所以他应该走这条路，对吗？好吧，你猜怎么着？如果你在这个图上运行Dijkstra的算法，Rama会走错路。他将采取更长的路径。*如果你有负重的边，你就不能使用Dijkstra的算法。让我们来看看当你在这上面运行Dijkstra算法时会发生什么。首先，制作成本表。\n",
    "\n",
    "<img src=\"../pic/cost table for LP.png\">\n",
    "\n",
    "Next, find the lowest-cost node, and update the costs for its neighbors. In this case, the poster is the lowest-cost node. So, according to Dijkstra’s algorithm, *there is no cheaper way to get to the poster than paying $0* (you know that’s wrong!). Anyway, let’s update the costs for its neighbors.\n",
    "\n",
    "> 接下来，找到成本最低的节点，并更新其邻居的成本。在这种情况下，海报是成本最低的节点。因此，根据Dijkstra的算法，*没有比支付0美元*更便宜的方法来到达海报（你知道这是错的！）。无论如何，让我们更新一下它的邻居的成本。\n",
    "\n",
    "<img src=\"../pic/update poster neighbors.png\">\n",
    "\n",
    "Ok, the drums have a cost of $35 now. Let’s get the next-cheapest node that hasn’t already been processed.\n",
    "\n",
    "<img src=\"../pic/next node.png\">\n",
    "\n",
    "Update the costs for its neighbors.\n",
    "\n",
    "<img src=\"../pic/update LP neighbors costs.png\">\n",
    "\n",
    "You already processed the poster node, but you’re updating the cost for it. This is a big red flag. Once you process a node, it means there’s no cheaper way to get to that node. But you just found a cheaper way to the poster! Drums doesn’t have any neighbors, so that’s the end of the algorithm. Here are the final costs.\n",
    "\n",
    "> 你已经处理了海报节点，但你正在为它更新成本。这是一个很大的红旗。一旦你处理了一个节点，就意味着没有更便宜的方法可以到达该节点。但是你刚刚找到了一条通往海报的更便宜的路 Drums没有任何邻居，所以这个算法就结束了。下面是最后的成本。\n",
    "\n",
    "<img src=\"../pic/final cost.png\">\n",
    "\n",
    "It costs \\$35 to get to the drums. You know that there’s a path that costs only $33, but Dijkstra’s algorithm didn’t find it. Dijkstra’s algorithm assumed that because you were processing the poster node, there was no faster way to get to that node. That assumption only works if you have no negative-weight edges. So you *can’t use negative-weight edges with Dijkstra’s algorithm.* If you want to find the shortest path in a graph that has negative-weight edges, there’s an algorithm for that! It’s called the *[Bellman-Ford algorithm](https://en.wikipedia.org/wiki/Bellman%E2%80%93Ford_algorithm)*. Bellman-Ford is out of the scope of this book, but you can find some great explanations online.\n",
    "\n",
    "> 去鼓要花35美元。你知道有一条路径只需要33美元，但Dijkstra的算法并没有找到它。Dijkstra的算法假设，因为你正在处理海报节点，所以没有更快的方法可以到达该节点。这个假设只有在你没有负重边的情况下才有效。所以你*不能用Dijkstra的算法使用负重边。*如果你想在一个有负重边的图中找到最短路径，有一种算法可以做到！它被称为*[Bell]。这就是所谓的*[Bellman-Ford算法](https://en.wikipedia.org/wiki/Bellman%E2%80%93Ford_algorithm)*。Bellman-Ford超出了本书的范围，但你可以在网上找到一些很好的解释。"
   ]
  },
  {
   "cell_type": "markdown",
   "id": "e0c276f9-5194-478b-b43f-79261a1237e2",
   "metadata": {},
   "source": [
    "## Implementation"
   ]
  },
  {
   "cell_type": "markdown",
   "id": "b9a16bef-b8e8-4cbd-a268-052bd00c243c",
   "metadata": {},
   "source": [
    "Let’s see how to implement Dijkstra’s algorithm in code. Here’s the graph I’ll use for the example.\n",
    "\n",
    "<img src=\"../pic/example use.png\">\n",
    "\n",
    "To code this example, you’ll need three hash tables.\n",
    "\n",
    "<img src=\"../pic/three hash tables.png\">\n",
    "\n",
    "You’ll update the costs and parents hash tables as the algorithm progresses. First, you need to implement the graph. You’ll use a hash table like you did in chapter 6:\n",
    "\n",
    "> 随着算法的进展，你将更新成本和父母哈希表。首先，你需要实现图。你将使用一个哈希表，就像你在第6章做的那样。"
   ]
  },
  {
   "cell_type": "code",
   "execution_count": 4,
   "id": "c6dcca2c-4b3e-4b1b-8679-c003a5a20ce5",
   "metadata": {},
   "outputs": [],
   "source": [
    "graph = {}"
   ]
  },
  {
   "cell_type": "markdown",
   "id": "a0e17e73-42dc-424f-aba8-042debb6385a",
   "metadata": {},
   "source": [
    "In the last chapter, you stored all the neighbors of a node in the hash table, like this:"
   ]
  },
  {
   "cell_type": "code",
   "execution_count": 5,
   "id": "6f7e4127-35c1-4ede-bdf6-57c00c730c6e",
   "metadata": {},
   "outputs": [
    {
     "data": {
      "text/plain": [
       "{}"
      ]
     },
     "execution_count": 5,
     "metadata": {},
     "output_type": "execute_result"
    }
   ],
   "source": [
    "graph[\"you\"] = [\"alice\", \"bob\", \"claire\"]\n",
    "del graph[\"you\"]\n",
    "graph"
   ]
  },
  {
   "cell_type": "markdown",
   "id": "0347ca3e-584d-40bc-bab3-7054e5d5893a",
   "metadata": {},
   "source": [
    "But this time, you need to store the neighbors *and* the cost for getting to that neighbor. For example, Start has two neighbors, A and B.\n",
    "\n",
    "<img src=\"../pic/a and b.png\">\n",
    "\n",
    "How do you represent the weights of those edges? Why not just use another hash table?\n",
    "\n",
    "> 你如何表示这些边的权重？为什么不直接使用另一个哈希表？"
   ]
  },
  {
   "cell_type": "code",
   "execution_count": 6,
   "id": "4a437373-2649-4b00-a2aa-7cbaedf0d41e",
   "metadata": {},
   "outputs": [
    {
     "data": {
      "text/plain": [
       "{'start': {'a': 6, 'b': 2}}"
      ]
     },
     "execution_count": 6,
     "metadata": {},
     "output_type": "execute_result"
    }
   ],
   "source": [
    "graph[\"start\"] = {}\n",
    "graph[\"start\"][\"a\"] = 6\n",
    "graph[\"start\"][\"b\"] = 2\n",
    "graph"
   ]
  },
  {
   "cell_type": "markdown",
   "id": "5ee6c297-a358-46fd-9c06-316492ab498a",
   "metadata": {},
   "source": [
    "<img src=\"../pic/more hash table inside.png\">\n",
    "\n",
    "So graph[\"start\"] is a hash table. You can get all the neighbors for Start like this:\n",
    "\n",
    "> 所以graph[\"start\"]是一个哈希表。你可以像这样得到Start的所有邻居："
   ]
  },
  {
   "cell_type": "code",
   "execution_count": 7,
   "id": "c991f19f-7ee8-4ce7-a672-908b63ee4286",
   "metadata": {},
   "outputs": [
    {
     "name": "stdout",
     "output_type": "stream",
     "text": [
      "dict_keys(['a', 'b'])\n"
     ]
    }
   ],
   "source": [
    "print(graph[\"start\"].keys())"
   ]
  },
  {
   "cell_type": "markdown",
   "id": "a85034c0-ebc9-45e8-aa39-02ae3d4f6f90",
   "metadata": {},
   "source": [
    "There’s an edge from Start to A and an edge from Start to B. What if you want to find the weights of those edges?\n",
    "\n",
    "> 有一条从Start到A的边和一条从Start到B的边，如果你想找到这些边的权重怎么办？"
   ]
  },
  {
   "cell_type": "code",
   "execution_count": 8,
   "id": "6497abc1-e91c-46e4-afe8-e7bf985e4f14",
   "metadata": {},
   "outputs": [
    {
     "name": "stdout",
     "output_type": "stream",
     "text": [
      "6\n",
      "2\n"
     ]
    }
   ],
   "source": [
    "print(graph[\"start\"][\"a\"])\n",
    "print(graph[\"start\"][\"b\"])"
   ]
  },
  {
   "cell_type": "markdown",
   "id": "d094a90b-cf08-4d25-9b5d-d5d51d5884db",
   "metadata": {},
   "source": [
    "Let’s add the rest of the nodes and their neighbors to the graph:\n",
    "\n",
    "> 让我们把其余的节点和它们的邻居添加到图中："
   ]
  },
  {
   "cell_type": "code",
   "execution_count": 9,
   "id": "1cc6cc05-bfaf-4432-8b2c-eb599e8d0923",
   "metadata": {},
   "outputs": [
    {
     "data": {
      "text/plain": [
       "{'start': {'a': 6, 'b': 2},\n",
       " 'a': {'fin': 1},\n",
       " 'b': {'a': 3, 'fin': 5},\n",
       " 'fin': {}}"
      ]
     },
     "execution_count": 9,
     "metadata": {},
     "output_type": "execute_result"
    }
   ],
   "source": [
    "graph[\"a\"] = {}\n",
    "graph[\"a\"][\"fin\"] = 1\n",
    "\n",
    "graph[\"b\"] = {}\n",
    "graph[\"b\"][\"a\"] = 3\n",
    "graph[\"b\"][\"fin\"] = 5\n",
    "\n",
    "graph[\"fin\"] = {}    # the finish node doesn't have any neighbors\n",
    "graph"
   ]
  },
  {
   "cell_type": "markdown",
   "id": "eb2ce939-83a3-45c2-ad10-9573b7615d1a",
   "metadata": {},
   "source": [
    "The full graph hash table looks like this.\n",
    "\n",
    "<img src=\"../pic/full graph hash table.png\">\n",
    "\n",
    "Next you need a hash table to store the costs for each node."
   ]
  },
  {
   "cell_type": "markdown",
   "id": "a201f2a8-dc49-4ed7-bd4f-7119631d1cd3",
   "metadata": {},
   "source": [
    "The *cost* of a node is how long it takes to get to that node from the start. You know it takes 2 minutes from Start to node B. You know it takes 6 minutes to get to node A (although you may find a path that takes less time). You don’t know how long it takes to get to the finish. If you don’t know the cost yet, you put down infinity. Can you represent *infinity* in Python? Turns out, you can:\n",
    "\n",
    "> 一个节点的*成本*是指从起点到该节点需要多长时间。你知道从起点到节点B需要2分钟，你知道到达节点A需要6分钟（尽管你可能找到一条用时更少的路径）。你不知道到达终点需要多长时间。如果你还不知道费用，你就写上无穷大。你能用Python表示*无穷大*吗？事实证明，你可以。"
   ]
  },
  {
   "cell_type": "code",
   "execution_count": 10,
   "id": "5d70b012-7da3-4670-88b7-7c11fd4697c5",
   "metadata": {},
   "outputs": [],
   "source": [
    "infinity = float(\"inf\")"
   ]
  },
  {
   "cell_type": "markdown",
   "id": "8bfe01ea-103d-461f-966b-537bb5b18ebf",
   "metadata": {},
   "source": [
    "Here’s the code to make the costs table:"
   ]
  },
  {
   "cell_type": "code",
   "execution_count": 12,
   "id": "6c303815-8279-4c96-a955-4ba104dbeba1",
   "metadata": {},
   "outputs": [],
   "source": [
    "infinity = float(\"inf\")\n",
    "costs = {}\n",
    "costs[\"a\"] = 6\n",
    "costs[\"b\"] = 2\n",
    "costs[\"fin\"] = infinity"
   ]
  },
  {
   "cell_type": "markdown",
   "id": "44209c08-8e28-45c5-97d2-36eed4fac499",
   "metadata": {},
   "source": [
    "You also need another hash table for the parents:\n",
    "\n",
    "<img src=\"../pic/hash table for parents.png\">"
   ]
  },
  {
   "cell_type": "markdown",
   "id": "b8e88fbf-3b7d-43e8-9b61-9e08e4644c82",
   "metadata": {},
   "source": [
    "Here’s the code to make the hash table for the parents: "
   ]
  },
  {
   "cell_type": "code",
   "execution_count": 13,
   "id": "5d9ce4bd-b069-482e-9088-c87223b01afa",
   "metadata": {},
   "outputs": [],
   "source": [
    "parents = {}\n",
    "parents[\"a\"] = \"start\"\n",
    "parents[\"b\"] = \"start\"\n",
    "parents[\"fin\"] = None"
   ]
  },
  {
   "cell_type": "markdown",
   "id": "8527c7ad-1ec0-413d-bb85-59a4ae4063bb",
   "metadata": {},
   "source": [
    "Finally, you need an array to keep track of all the nodes you’ve already processed, because you don’t need to process a node more than once:\n",
    "\n",
    "> 最后，你需要一个数组来记录你已经处理过的所有节点，因为你不需要对一个节点进行多次处理。"
   ]
  },
  {
   "cell_type": "code",
   "execution_count": 14,
   "id": "ce4d69c2-f6af-4b9c-8c0a-313d5588d9da",
   "metadata": {},
   "outputs": [],
   "source": [
    "processed = []"
   ]
  },
  {
   "cell_type": "markdown",
   "id": "bd2d993a-2044-4257-9c6d-c3bd754770bd",
   "metadata": {},
   "source": [
    "That’s all the setup. Now let’s look at the algorithm."
   ]
  },
  {
   "cell_type": "markdown",
   "id": "b7f781d0-795d-4b49-a1ad-68fe71fb5c83",
   "metadata": {},
   "source": [
    "<img src=\"../pic/algorithm.png\">"
   ]
  },
  {
   "cell_type": "markdown",
   "id": "eedc0e80-be57-4494-b7ce-38443517c74b",
   "metadata": {},
   "source": [
    "I’ll show you the code first and then walk through it. Here’s the code:"
   ]
  },
  {
   "cell_type": "code",
   "execution_count": 23,
   "id": "337b179b-f5e4-4189-ab77-751722f7422f",
   "metadata": {},
   "outputs": [
    {
     "ename": "NameError",
     "evalue": "name 'neighbors' is not defined",
     "output_type": "error",
     "traceback": [
      "\u001b[1;31m---------------------------------------------------------------------------\u001b[0m",
      "\u001b[1;31mNameError\u001b[0m                                 Traceback (most recent call last)",
      "Input \u001b[1;32mIn [23]\u001b[0m, in \u001b[0;36m<cell line: 2>\u001b[1;34m()\u001b[0m\n\u001b[0;32m      2\u001b[0m \u001b[38;5;28;01mwhile\u001b[39;00m node \u001b[38;5;129;01mis\u001b[39;00m \u001b[38;5;129;01mnot\u001b[39;00m \u001b[38;5;28;01mNone\u001b[39;00m:    \u001b[38;5;66;03m# if you've processed all the nodes, this loop is done\u001b[39;00m\n\u001b[0;32m      3\u001b[0m     cost \u001b[38;5;241m=\u001b[39m costs[node]\n\u001b[1;32m----> 4\u001b[0m     \u001b[38;5;28;01mfor\u001b[39;00m n \u001b[38;5;129;01min\u001b[39;00m \u001b[43mneighbors\u001b[49m\u001b[38;5;241m.\u001b[39mkeys():    \u001b[38;5;66;03m# go through all neighbors of this node\u001b[39;00m\n\u001b[0;32m      5\u001b[0m         new_cost \u001b[38;5;241m=\u001b[39m cost \u001b[38;5;241m+\u001b[39m neighbors[n]\n\u001b[0;32m      6\u001b[0m         \u001b[38;5;28;01mif\u001b[39;00m costs[n] \u001b[38;5;241m>\u001b[39m new_cost:   \u001b[38;5;66;03m# if it's cheaper to get to this neighbor by going through this node \u001b[39;00m\n",
      "\u001b[1;31mNameError\u001b[0m: name 'neighbors' is not defined"
     ]
    }
   ],
   "source": [
    "node = find_lowest_cost_node(costs)    # fintd the lowest-cost node that you haven't process yet \n",
    "while node is not None:    # if you've processed all the nodes, this loop is done\n",
    "    cost = costs[node]\n",
    "    for n in neighbors.keys():    # go through all neighbors of this node\n",
    "        new_cost = cost + neighbors[n]\n",
    "        if costs[n] > new_cost:   # if it's cheaper to get to this neighbor by going through this node \n",
    "            costs[n] = new_cost    # update the cost for this node\n",
    "            parents[n] = node    # this node becomes the new parent for this neighbor\n",
    "    processed.append(node)    # mark the node as processed\n",
    "    node = find_lowest_cost_node(costs)    # find the next node to process, and loop"
   ]
  },
  {
   "cell_type": "markdown",
   "id": "54460c79-4cb4-4447-8578-b498b407180e",
   "metadata": {},
   "source": [
    "That’s Dijkstra’s algorithm in Python! I’ll show you the code for the function later. First, let’s see this find_lowest_cost_node algorithm code in action.\n",
    "\n",
    "> 这就是Python中的Dijkstra算法! 稍后我将向你展示该函数的代码。首先，让我们看看这个 find_lowest_cost_node 算法代码的实际应用。"
   ]
  },
  {
   "cell_type": "markdown",
   "id": "705c9233-5379-4ebf-be76-2f66a694b27a",
   "metadata": {},
   "source": [
    "Find the node with the lowest cost.\n",
    "\n",
    "<img src=\"../pic/find the lowest cost node.png\">\n",
    "\n",
    "Get the cost and neighbors of that node.\n",
    "\n",
    "<img src=\"../pic/the cost and neighbors of that node.png\">\n",
    "\n",
    "Loop through the neighbors.\n",
    "\n",
    "<img src=\"../pic/loop through.png\">\n",
    "\n",
    "Each node has a cost. The cost is how long it takes to get to that node from the start. Here, you’re calculating how long it would take to get to node A if you went Start > node B > node A, instead of Start > node A.\n",
    "\n",
    "> 每个节点都有一个成本。成本是指从起点到该节点需要多长时间。在这里，你要计算的是，如果你走起点>节点B>节点A，而不是起点>节点A，需要多长时间才能到达节点A。\n",
    "\n",
    "<img src=\"../pic/start to a to b.png\">\n",
    "\n",
    "Let’s compare those costs.\n",
    "\n",
    "<img src=\"../pic/compare costs.png\">\n",
    "\n",
    "You found a shorter path to node A! Update the cost.\n",
    "\n",
    "<img src=\"../pic/update costs table.png\">\n",
    "\n",
    "The new path goes through node B, so set B as the new parent.\n",
    "\n",
    "<img src=\"../pic/b as new parent.png\">\n",
    "\n",
    "Ok, you’re back at the top of the loop. The next neighbor for is the Finish node.\n",
    "\n",
    "<img src=\"../pic/finish node.png\">\n",
    "\n",
    "How long does it take to get to the finish if you go through node B?\n",
    "\n",
    "<img src=\"../pic/go through node b.png\">\n",
    "\n",
    "It takes 7 minutes. The previous cost was infinity minutes, and 7 minutes is less than that.\n",
    "\n",
    "<img src=\"../pic/7 minutes.png\">\n",
    "\n",
    "Set the new cost and the new parent for the Finish node.\n",
    "\n",
    "<img src=\"../pic/new parent for finish.png\">\n",
    "\n",
    "Ok, you updated the costs for all the neighbors of node B. Mark it as processed.\n",
    "\n",
    "<img src=\"../pic/mark it as processed.png\">\n",
    "\n",
    "Find the next node to process.\n",
    "\n",
    "<img src=\"../pic/next node to process.png\">\n",
    "\n",
    "Get the cost and neighbors for node A.\n",
    "\n",
    "<img src=\"../pic/cost and neighbors for a.png\">\n",
    "\n",
    "Node A only has one neighbor: the Finish node.\n",
    "\n",
    "<img src=\"../pic/a has only neighbor.png\">\n",
    "\n",
    "Currently it takes 7 minutes to get to the Finish node. How long would it take to get there if you went through node A?\n",
    "\n",
    "<img src=\"../pic/go through node a.png\">\n",
    "\n",
    "It’s faster to get to Finish from node A! Let’s update the cost and parent.\n",
    "\n",
    "<img src=\"../pic/a as finish parent.png\">\n",
    "\n",
    "Once you’ve processed all the nodes, the algorithm is over. I hope the walkthrough helped you understand the algorithm a little better. Finding the lowest-cost node is pretty easy with the find_lowest_cost_node function. Here it is in code:\n",
    "\n",
    "> 一旦你处理完所有的节点，算法就结束了。我希望这个演练能帮助你更好地理解这个算法。使用 find_lowest_cost_node 函数找到成本最低的节点是非常容易的。下面是它的代码。"
   ]
  },
  {
   "cell_type": "code",
   "execution_count": 21,
   "id": "a6339fae-6a23-4c4b-a4e9-3b54744aa2e5",
   "metadata": {},
   "outputs": [],
   "source": [
    "def find_lowest_cost_node(costs):\n",
    "    lowest_cost = float(\"inf\")\n",
    "    lowest_cost_node = None\n",
    "    for node in costs:    # go through each node\n",
    "        cost = costs[node]\n",
    "        if cost < lowest_cost and node not in processed:    # if it's the lowest node and hasn't been processed yet\n",
    "            lowest_cost = cost    # set it as the new lowest_cost_node\n",
    "            lowest_cost_node = node\n",
    "    return lowest_cost_node"
   ]
  },
  {
   "cell_type": "markdown",
   "id": "02b32085-9c74-4d23-b1b7-07929d2437f7",
   "metadata": {},
   "source": [
    "### Exercise"
   ]
  },
  {
   "cell_type": "markdown",
   "id": "9429fe86-a561-4ae8-9aa9-7cc57ffc0a6e",
   "metadata": {},
   "source": [
    "**7.1** \n",
    "\n",
    "In each of these graphs, what is the weight of the shortest path from start to finish?\n",
    "\n",
    "<img src=\"../pic/shortest path from.png\">"
   ]
  },
  {
   "cell_type": "code",
   "execution_count": 25,
   "id": "e65ca9c6-6b2d-4513-88ad-f5655bed57c5",
   "metadata": {},
   "outputs": [],
   "source": [
    "# 8 60 4"
   ]
  },
  {
   "cell_type": "code",
   "execution_count": 24,
   "id": "f12bb699-77b1-497a-b542-59cb5f7c4dd8",
   "metadata": {},
   "outputs": [
    {
     "ename": "NameError",
     "evalue": "name 'neighbors' is not defined",
     "output_type": "error",
     "traceback": [
      "\u001b[1;31m---------------------------------------------------------------------------\u001b[0m",
      "\u001b[1;31mNameError\u001b[0m                                 Traceback (most recent call last)",
      "Input \u001b[1;32mIn [24]\u001b[0m, in \u001b[0;36m<cell line: 12>\u001b[1;34m()\u001b[0m\n\u001b[0;32m     12\u001b[0m \u001b[38;5;28;01mwhile\u001b[39;00m node \u001b[38;5;129;01mis\u001b[39;00m \u001b[38;5;129;01mnot\u001b[39;00m \u001b[38;5;28;01mNone\u001b[39;00m:    \u001b[38;5;66;03m# if you've processed all the nodes, this loop is done\u001b[39;00m\n\u001b[0;32m     13\u001b[0m     cost \u001b[38;5;241m=\u001b[39m costs[node]\n\u001b[1;32m---> 14\u001b[0m     \u001b[38;5;28;01mfor\u001b[39;00m n \u001b[38;5;129;01min\u001b[39;00m \u001b[43mneighbors\u001b[49m\u001b[38;5;241m.\u001b[39mkeys():    \u001b[38;5;66;03m# go through all neighbors of this node\u001b[39;00m\n\u001b[0;32m     15\u001b[0m         new_cost \u001b[38;5;241m=\u001b[39m cost \u001b[38;5;241m+\u001b[39m neighbors[n]\n\u001b[0;32m     16\u001b[0m         \u001b[38;5;28;01mif\u001b[39;00m costs[n] \u001b[38;5;241m>\u001b[39m new_cost:   \u001b[38;5;66;03m# if it's cheaper to get to this neighbor by going through this node \u001b[39;00m\n",
      "\u001b[1;31mNameError\u001b[0m: name 'neighbors' is not defined"
     ]
    }
   ],
   "source": [
    "def find_lowest_cost_node(costs):\n",
    "    lowest_cost = float(\"inf\")\n",
    "    lowest_cost_node = None\n",
    "    for node in costs:    # go through each node\n",
    "        cost = costs[node]\n",
    "        if cost < lowest_cost and node not in processed:    # if it's the lowest node and hasn't been processed yet\n",
    "            lowest_cost = cost    # set it as the new lowest_cost_node\n",
    "            lowest_cost_node = node\n",
    "    return lowest_cost_node\n",
    "\n",
    "node = find_lowest_cost_node(costs)    # fintd the lowest-cost node that you haven't process yet \n",
    "while node is not None:    # if you've processed all the nodes, this loop is done\n",
    "    cost = costs[node]\n",
    "    for n in neighbors.keys():    # go through all neighbors of this node\n",
    "        new_cost = cost + neighbors[n]\n",
    "        if costs[n] > new_cost:   # if it's cheaper to get to this neighbor by going through this node \n",
    "            costs[n] = new_cost    # update the cost for this node\n",
    "            parents[n] = node    # this node becomes the new parent for this neighbor\n",
    "    processed.append(node)    # mark the node as processed\n",
    "    node = find_lowest_cost_node(costs)    # find the next node to process, and loop"
   ]
  },
  {
   "cell_type": "markdown",
   "id": "5a9e5d52-2d9b-49c9-9414-16737cffb05f",
   "metadata": {},
   "source": [
    "### Recap"
   ]
  },
  {
   "cell_type": "markdown",
   "id": "a66fb633-bb5e-4691-a6cf-e5f4b28d7f7d",
   "metadata": {},
   "source": [
    "- Breadth-first search is used to calculate the shortest path for an unweighted graph.                     \n",
    "- Dijkstra’s algorithm is used to calculate the shortest path for a weighted graph.\n",
    "- Dijkstra’s algorithm works when all the weights are positive.                     \n",
    "- If you have negative weights, use the Bellman-Ford algorithm."
   ]
  }
 ],
 "metadata": {
  "kernelspec": {
   "display_name": "Python 3 (ipykernel)",
   "language": "python",
   "name": "python3"
  },
  "language_info": {
   "codemirror_mode": {
    "name": "ipython",
    "version": 3
   },
   "file_extension": ".py",
   "mimetype": "text/x-python",
   "name": "python",
   "nbconvert_exporter": "python",
   "pygments_lexer": "ipython3",
   "version": "3.10.4"
  }
 },
 "nbformat": 4,
 "nbformat_minor": 5
}
