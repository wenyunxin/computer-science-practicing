{
 "cells": [
  {
   "cell_type": "code",
   "execution_count": 1,
   "id": "ed8d10a7-56b5-47b5-b401-29eaa57ff545",
   "metadata": {},
   "outputs": [],
   "source": [
    "from IPython.core.interactiveshell import InteractiveShell\n",
    "InteractiveShell.ast_node_interactivity = \"all\""
   ]
  },
  {
   "cell_type": "markdown",
   "id": "1311a8a0-e824-4941-a477-8dd6f728528f",
   "metadata": {},
   "source": [
    "I first got into programming as a hobby. *Visual Basic 6 for Dummies* taught me the basics, and I kept reading books to learn more. But the subject of algorithms was impenetrable for me. I remember savoring the table of contents of my first algorithms book, thinking “I’m finally going to understand these topics!” But it was dense stuff, and I gave up after a few weeks. It wasn’t until I had my first good algorithms professor that I realized how simple and elegant these ideas were.\n",
    "\n",
    "> 我第一次接触编程是作为一种爱好。*Visual Basic 6 for Dummies*教会了我一些基础知识，我不断地阅读书籍以了解更多。但是，算法的主题对我来说是难以捉摸的。我记得我仔细阅读了第一本算法书的目录，认为 \"我终于可以理解这些主题了！\"。但这是很密集的东西，几周后我就放弃了。直到我有了第一个好的算法教授，我才意识到这些想法是多么简单和优雅。\n",
    "\n",
    "A few years ago, I wrote my first illustrated blog post. I’m a visual learner, and I really liked the illustrated style. Since then, I’ve written a few illustrated posts on functional programming, Git, machine learning, and concurrency. By the way: I was a mediocre writer when I started out. Explaining technical concepts is hard. Coming up with good examples takes time, and explaining a difficult concept takes time. So it’s easiest to gloss over the hard stuff. I thought I was doing a pretty good job, until after one of my posts got popular, a coworker came up to me and said, “I read your post and I still don’t understand this.” I still had a lot to learn about writing.      \n",
    "\n",
    "> 几年前，我写了我的第一篇插图博客文章。我是一个视觉学习者，我非常喜欢这种插图风格。从那时起，我写了几篇关于函数式编程、Git、机器学习和并发性的图解文章。顺便说一下。我刚开始的时候是个平庸的作家。解释技术概念是很难的。想出好的例子需要时间，解释一个困难的概念也需要时间。因此，最简单的做法是掩盖困难的东西。我认为我做得很好，直到我的一篇文章受到欢迎后，一位同事走过来对我说：\"我看了你的文章，我还是不明白。\" 关于写作，我还有很多东西要学。\n",
    "\n",
    "Somewhere in the middle of writing these blog posts, Manning reached out to me and asked if I wanted to write an illustrated book. Well, it turns out that Manning editors know a lot about explaining technical concepts, and they taught me how to teach. I wrote this book to scratch a particular itch: I wanted to write a book that explained hard technical topics well, and I wanted an easy-to-read algorithms book. My writing has come a long way since that first blog post, and I hope you find this book an easy and informative read.\n",
    "\n",
    "> 在写这些博客文章的中间某个地方，曼宁公司联系了我，问我是否想写一本插图书。好吧，事实证明，曼宁公司的编辑在解释技术概念方面了解很多，他们也教我如何教学。我写这本书是为了挠一个特别的痒处。我想写一本能很好地解释难懂的技术话题的书，而且我想写一本容易阅读的算法书。自第一篇博文以来，我的写作已经有了长足的进步，我希望你能发现这本书是一本轻松而有内容的读物。"
   ]
  },
  {
   "cell_type": "markdown",
   "id": "e0e73e64-d522-49f8-a1c2-a083d1fb4f3b",
   "metadata": {},
   "source": [
    "## About this book"
   ]
  },
  {
   "cell_type": "markdown",
   "id": "26e15090-33c5-4d2f-8118-6dac36d1a596",
   "metadata": {},
   "source": [
    "This book is designed to be easy to follow. I avoid big leaps of thought. Any time a new concept is introduced, I explain it right away or tell you when I’ll explain it. Core concepts are reinforced with exercises and multiple explanations so that you can check your assumptions and make sure you’re following along.      \n",
    "\n",
    "> 这本书的设计是为了让人容易理解。我避免大的思维跳跃。任何时候引入一个新的概念，我都会马上解释，或者告诉你我什么时候会解释它。核心概念通过练习和多种解释得到加强，这样你就可以检查你的假设，确保你能跟上。     \n",
    "\n",
    "I lead with examples. Instead of writing symbol soup, my goal is to make it easy for you to visualize these concepts. I also think we learn best by being able to recall something we already know, and examples make recall easier. So when you’re trying to remember the difference between arrays and linked lists (explained in [chapter 2](ms-local-stream://EpubReader_AC72D530066DA71DBA289EF8C2FE2E4D915D872E9F520716C4ECA9F5D94B14/Content/OEBPS/kindle_split_008.xhtml#ch02)), you can just think about getting seated for a movie. Also, at the risk of stating the obvious, I’m a visual learner. This book is chock-full of images. \n",
    "\n",
    "> 我用例子来引导。我的目标是让你轻松地将这些概念可视化，而不是写符号汤。我还认为，我们学习的最好方式是能够回忆起我们已经知道的东西，而例子使回忆更容易。因此，当你试图记住数组和链表之间的区别（在[第二章](ms-local-stream://EpubReader_AC72D530066DA71DBA289EF8C2FE2E4D915D872E9F520716C4ECA9F5D94B14/Content/OEBPS/kindle_split_008.xhtml#ch02)中解释过），你可以只想着入座看电影。另外，冒昧地说一句，我是一个视觉学习者。这本书中充满了图片。\n",
    "\n",
    "The contents of the book are carefully curated. There’s no need to write a book that covers every sorting algorithm—that’s why we have Wikipedia and Khan Academy. All the algorithms I’ve included are practical. I’ve found them useful in my job as a software engineer, and they provide a good foundation for more complex topics. Happy reading!\n",
    "\n",
    "> 这本书的内容是经过精心策划的。没有必要写一本涵盖所有排序算法的书--这就是为什么我们有维基百科和可汗学院。我所包含的所有算法都是实用的。我发现它们在我作为软件工程师的工作中很有用，而且它们为更复杂的主题提供了良好的基础。阅读愉快！"
   ]
  },
  {
   "cell_type": "markdown",
   "id": "203452a7-e7ba-4873-a728-382f1a60635c",
   "metadata": {},
   "source": [
    "### Roadmap"
   ]
  },
  {
   "cell_type": "markdown",
   "id": "88e1b6a8-85ff-42c6-8792-578ef97a721f",
   "metadata": {},
   "source": [
    "The first three chapters of this book lay the foundations:\n",
    "\n",
    "- **[Chapter 1](ms-local-stream://EpubReader_AC72D530066DA71DBA289EF8C2FE2E4D915D872E9F520716C4ECA9F5D94B14/Content/OEBPS/kindle_split_007.xhtml#ch01)** —You’ll learn your first practical algorithm: binary search. You also learn to analyze the speed of an algorithm using Big O notation. Big O notation is used throughout the book to analyze how slow or fast an algorithm is.                     \n",
    "- **[Chapter 2](ms-local-stream://EpubReader_AC72D530066DA71DBA289EF8C2FE2E4D915D872E9F520716C4ECA9F5D94B14/Content/OEBPS/kindle_split_008.xhtml#ch02)** —You’ll learn about two fundamental data structures: arrays and linked lists. These data structures are used throughout the book, and they’re used to make more advanced data structures like hash tables ([chapter 5](ms-local-stream://EpubReader_AC72D530066DA71DBA289EF8C2FE2E4D915D872E9F520716C4ECA9F5D94B14/Content/OEBPS/kindle_split_011.xhtml#ch05)).                     \n",
    "- **[Chapter 3](ms-local-stream://EpubReader_AC72D530066DA71DBA289EF8C2FE2E4D915D872E9F520716C4ECA9F5D94B14/Content/OEBPS/kindle_split_009.xhtml#ch03)** —You’ll learn about recursion, a handy technique used by many algorithms (such as quicksort, covered in [chapter 4](ms-local-stream://EpubReader_AC72D530066DA71DBA289EF8C2FE2E4D915D872E9F520716C4ECA9F5D94B14/Content/OEBPS/kindle_split_010.xhtml#ch04)).                   \n",
    "\n",
    "In my experience, Big O notation and recursion are challenging topics for beginners. So I’ve slowed down and spent extra time on these sections.\n",
    "\n",
    "> 本书的前三章奠定了基础。\n",
    ">\n",
    "> - **[第1章](ms-local-stream://EpubReader_AC72D530066DA71DBA289EF8C2FE2E4D915D872E9F520716C4ECA9F5D94B14/Content/OEBPS/kindle_split_007.xhtml#ch01)** -你将学习第一个实用算法：二分查找。你还将学习使用大O符号来分析算法的速度。大O符号在全书中被用来分析一个算法的慢与快。                    \n",
    "> - **[第2章](ms-local-stream://EpubReader_AC72D530066DA71DBA289EF8C2FE2E4D915D872E9F520716C4ECA9F5D94B14/Content/OEBPS/kindle_split_008.xhtml#ch02)** -你将学习两个基本数据结构：数组和链表。这些数据结构贯穿全书，它们被用来制作更高级的数据结构，如哈希表（[第五章](ms-local-stream://EpubReader_AC72D530066DA71DBA289EF8C2FE2E4D915D872E9F520716C4ECA9F5D94B14/Content/OEBPS/kindle_split_011.xhtml#ch05)）。                    \n",
    "> - **[Chapter 3](ms-local-stream://EpubReader_AC72D530066DA71DBA289EF8C2FE2E4D915D872E9F520716C4ECA9F5D94B14/Content/OEBPS/kindle_split_009.xhtml#ch03)** -你将学习递归，这是许多算法使用的一种方便的技术（例如quicksort，在[第四章](ms-local-stream://EpubReader_AC72D530066DA71DBA289EF8C2FE2E4D915D872E9F520716C4ECA9F5D94B14/Content/OEBPS/kindle_split_010.xhtml#ch04)中涉及）。                  \n",
    ">\n",
    "> 根据我的经验，**大O符号和递归**对初学者来说是具有挑战性的话题。所以我放慢了速度，在这些部分花了额外的时间。"
   ]
  },
  {
   "cell_type": "markdown",
   "id": "abc82fb9-79b8-40a1-9c1c-3a3ae069a51d",
   "metadata": {},
   "source": [
    "The rest of the book presents algorithms with broad applications:\n",
    "\n",
    "- **Problem-solving techniques—** Covered in [chapters 4](ms-local-stream://EpubReader_AC72D530066DA71DBA289EF8C2FE2E4D915D872E9F520716C4ECA9F5D94B14/Content/OEBPS/kindle_split_010.xhtml#ch04), [8](ms-local-stream://EpubReader_AC72D530066DA71DBA289EF8C2FE2E4D915D872E9F520716C4ECA9F5D94B14/Content/OEBPS/kindle_split_014.xhtml#ch08), and [9](ms-local-stream://EpubReader_AC72D530066DA71DBA289EF8C2FE2E4D915D872E9F520716C4ECA9F5D94B14/Content/OEBPS/kindle_split_015.xhtml#ch09). If you come across a problem and aren’t sure how to solve it efficiently, try divide and conquer ([chapter 4](ms-local-stream://EpubReader_AC72D530066DA71DBA289EF8C2FE2E4D915D872E9F520716C4ECA9F5D94B14/Content/OEBPS/kindle_split_010.xhtml#ch04)) or dynamic programming ([chapter 9](ms-local-stream://EpubReader_AC72D530066DA71DBA289EF8C2FE2E4D915D872E9F520716C4ECA9F5D94B14/Content/OEBPS/kindle_split_015.xhtml#ch09)). Or you may realize there’s no efficient solution, and get an approximate answer using a greedy algorithm instead ([chapter 8](ms-local-stream://EpubReader_AC72D530066DA71DBA289EF8C2FE2E4D915D872E9F520716C4ECA9F5D94B14/Content/OEBPS/kindle_split_014.xhtml#ch08)).                     \n",
    "- **Hash tables—** Covered in [chapter 5](ms-local-stream://EpubReader_AC72D530066DA71DBA289EF8C2FE2E4D915D872E9F520716C4ECA9F5D94B14/Content/OEBPS/kindle_split_011.xhtml#ch05). A hash table is a very useful data structure. It contains sets of key and value pairs, like a person’s name and their email address, or a username and the associated password. It’s hard to overstate hash tables’ usefulness. When I want to solve a problem, the two plans of attack I start with are “Can I use a hash table?” and “Can I model this as a graph?”                     \n",
    "- **Graph algorithms—** Covered in [chapters 6](ms-local-stream://EpubReader_AC72D530066DA71DBA289EF8C2FE2E4D915D872E9F520716C4ECA9F5D94B14/Content/OEBPS/kindle_split_012.xhtml#ch06) and [7](ms-local-stream://EpubReader_AC72D530066DA71DBA289EF8C2FE2E4D915D872E9F520716C4ECA9F5D94B14/Content/OEBPS/kindle_split_013.xhtml#ch07). Graphs are a way to model a network: a social network, or a network of roads, or neurons, or any other set of connections.            Breadth-first search ([chapter 6](ms-local-stream://EpubReader_AC72D530066DA71DBA289EF8C2FE2E4D915D872E9F520716C4ECA9F5D94B14/Content/OEBPS/kindle_split_012.xhtml#ch06)) and Dijkstra’s algorithm ([chapter 7](ms-local-stream://EpubReader_AC72D530066DA71DBA289EF8C2FE2E4D915D872E9F520716C4ECA9F5D94B14/Content/OEBPS/kindle_split_013.xhtml#ch07)) are ways to find the shortest distance between two points in a network: you can use this approach to calculate the degrees of separation between two people or the shortest route to a destination.                     \n",
    "- **K-nearest neighbors (KNN)—** Covered in [chapter 10](ms-local-stream://EpubReader_AC72D530066DA71DBA289EF8C2FE2E4D915D872E9F520716C4ECA9F5D94B14/Content/OEBPS/kindle_split_016.xhtml#ch10). This is a simple machine-learning algorithm. You can use KNN to build a recommendations system, an OCR engine, a system to predict stock values—anything that involves predicting a value (“We think Adit will rate this movie 4 stars”) or classifying an object (“That letter is a Q”).                     \n",
    "- **Next steps—** [Chapter 11](ms-local-stream://EpubReader_AC72D530066DA71DBA289EF8C2FE2E4D915D872E9F520716C4ECA9F5D94B14/Content/OEBPS/kindle_split_017.xhtml#ch11) goes over 10 algorithms that would make good further reading.\n",
    "\n",
    "> 本书的其余部分介绍了具有广泛用途的算法：\n",
    ">\n",
    "> - **Problem-solving techniques—** Covered in [chapters 4](ms-local-stream://EpubReader_AC72D530066DA71DBA289EF8C2FE2E4D915D872E9F520716C4ECA9F5D94B14/Content/OEBPS/kindle_split_010. xhtml#ch04), [8](ms-local-stream://EpubReader_AC72D530066DA71DBA289EF8C2FE2E4D915D872E9F520716C4ECA9F5D94B14/Content/OEBPS/kindle_split_014. xhtml#ch08), and [9](ms-local-stream://EpubReader_AC72D530066DA71DBA289EF8C2FE2E4D915D872E9F520716C4ECA9F5D94B14/Content/OEBPS/kindle_split_015.xhtml#ch09). 如果你遇到一个问题，但不确定如何有效地解决它，可以尝试分而治之（[第四章](ms-local-stream://EpubReader_AC72D530066DA71DBA289EF8C2FE2E4D915D872E9F520716C4ECA9F5D94B14/Content/OEBPS/kindle_split_010. xhtml#ch04)) or dynamic programming ([chapter 9](ms-local-stream://EpubReader_AC72D530066DA71DBA289EF8C2FE2E4D915D872E9F520716C4ECA9F5D94B14/Content/OEBPS/kindle_split_015.xhtml#ch09)). 或者你可能意识到没有有效的解决方案，而使用贪婪算法得到一个近似的答案（[第8章](ms-local-stream://EpubReader_AC72D530066DA71DBA289EF8C2FE2E4D915D872E9F520716C4ECA9F5D94B14/Content/OEBPS/kindle_split_014.xhtml#ch08) ）。                    \n",
    "> - **哈希表-** 涵盖在[第五章](ms-local-stream://EpubReader_AC72D530066DA71DBA289EF8C2FE2E4D915D872E9F520716C4ECA9F5D94B14/Content/OEBPS/kindle_split_011.xhtml#ch05)。哈希表是一个非常有用的数据结构。它包含键和值对的集合，如一个人的名字和他们的电子邮件地址，或一个用户名和相关密码。很难夸大哈希表的作用。当我想解决一个问题时，我的两个解决计划是：\"我可以使用哈希表吗？\"和 \"我可以把这个问题建模为一个图吗？\"                     \n",
    "> - **图算法-** 涵盖在[第6章](ms-local-stream://EpubReader_AC72D530066DA71DBA289EF8C2FE2E4D915D872E9F520716C4ECA9F5D94B14/Content/OEBPS/kindle_split_012. xhtml#ch06) and [7](ms-local-stream://EpubReader_AC72D530066DA71DBA289EF8C2FE2E4D915D872E9F520716C4ECA9F5D94B14/Content/OEBPS/kindle_split_013.xhtml#ch07). 图是对网络进行建模的一种方式：社会网络，或道路网络，或神经元，或任何其他连接的集合。Breadth-first search ([chapter 6](ms-local-stream://EpubReader_AC72D530066DA71DBA289EF8C2FE2E4D915D872E9F520716C4ECA9F5D94B14/Content/OEBPS/kindle_split_012. xhtml#ch06)) and Dijkstra’s algorithm (chapter 7）都是寻找网络中两点之间最短距离的方法：你可以用这种方法来计算两个人之间的分离程度，或者计算到目的地的最短路线。                    \n",
    "> - **K-最近的邻居（KNN）-** 涵盖在第10章。这是一个简单的机器学习算法。你可以用KNN建立一个推荐系统、一个OCR引擎、一个预测股票价值的系统--任何涉及预测价值（\"我们认为Adit会给这部电影打4星\"）或对物体进行分类（\"这个字母是Q\"）的东西。                    \n",
    "> - **下一步-**  [第11章](ms-local-stream://EpubReader_AC72D530066DA71DBA289EF8C2FE2E4D915D872E9F520716C4ECA9F5D94B14/Content/OEBPS/kindle_split_017.xhtml#ch11)讲述了10种算法，这些算法将成为很好的进一步阅读。"
   ]
  },
  {
   "cell_type": "markdown",
   "id": "e0e9c2de-11d5-43c5-af6e-5991c854803b",
   "metadata": {},
   "source": [
    "### How to use this book"
   ]
  },
  {
   "cell_type": "markdown",
   "id": "3cff5d7c-44c1-45bb-b6f2-8881a891dfe9",
   "metadata": {},
   "source": [
    "The order and contents of this book have been carefully designed. If you’re interested in a topic, feel free to jump ahead. Otherwise, read the chapters in order—they build on each other.      \n",
    "\n",
    "I strongly recommend executing the code for the examples yourself. I can’t stress this part enough. Just type out my code samples verbatim (or download them from [www.manning.com/books/grokking-algorithms](http://www.manning.com/books/grokking-algorithms) or https://github.com/egonschiele/grokking_algorithms), and execute them. You’ll retain a lot more if you do.          \n",
    "\n",
    "I also recommend doing the exercises in this book. The exercises are short—usually just a minute or two, sometimes 5 to 10 minutes. They will help you check your thinking, so you’ll know when you’re off track before you’ve gone too far.\n",
    "\n",
    "> 本书的顺序和内容都是精心设计的。如果你对某一主题感兴趣，可以随意跳到前面。否则，请按顺序阅读各章--它们是相互关联的。     \n",
    ">\n",
    "> 我强烈建议你自己执行例子的代码。我怎么强调这一部分都不为过。只要逐字逐句地打出我的代码样本（或者从[www.manning.com/books/grokking-algorithms](http://www.manning.com/books/grokking-algorithms)或https://github.com/egonschiele/grokking_algorithms) 下载它们，然后执行它们。如果你这样做，你会保留更多的东西。         \n",
    ">\n",
    "> 我还建议你做这本书中的练习。这些练习很短，通常只有一两分钟，有时是5到10分钟。它们会帮助你检查你的思维，所以你会在你走得太远之前知道你何时偏离了轨道。"
   ]
  },
  {
   "cell_type": "markdown",
   "id": "3a9ed1a4-e873-41dc-8103-87f1c618f983",
   "metadata": {},
   "source": [
    "### Who should read this book"
   ]
  },
  {
   "cell_type": "markdown",
   "id": "501ec1b9-085a-4796-b9e4-78915fd12e38",
   "metadata": {},
   "source": [
    "This book is aimed at anyone who knows the basics of coding and wants to understand algorithms. Maybe you already have a coding problem and are trying to find an algorithmic solution. Or maybe you want to understand what algorithms are useful for. Here’s a short, incomplete list of people who will probably find this book useful:      \n",
    "\n",
    "- Hobbyist coders                     \n",
    "- Coding boot camp students                     \n",
    "- Computer science grads looking for a refresher                     \n",
    "- Physics/math/other grads who are interested in programming\n",
    "\n",
    "> 本书针对的是任何了解编码基础知识并想了解算法的人。也许你已经有了一个编码问题，正试图找到一个算法解决方案。或者你想了解算法有什么用处。下面是一个简短的、不完整的名单，可能会发现这本书有用的人。     \n",
    ">\n",
    "> - 爱好者编码者                     \n",
    "> - 编码训练营的学生                     \n",
    "> - 寻求复习的计算机科学毕业生                     \n",
    "> - 对编程感兴趣的物理/数学/其他专业的学生"
   ]
  },
  {
   "cell_type": "markdown",
   "id": "07cdcf99-1211-4342-bbcd-2e248743b12f",
   "metadata": {},
   "source": [
    "All the code examples in this book use Python 2.7. All code in the book is presented in a fixed-width font like this to separate it from ordinary text. Code annotations accompany some of the listings, highlighting important concepts.\n",
    "\n",
    "You can download the code for the examples in the book from the publisher’s website at [www.manning.com/books/grokking-algorithms](http://www.manning.com/books/grokking-algorithms) or from https://github.com/egonschiele/grokking_algorithms.       \n",
    "\n",
    "I believe you learn best when you really enjoy learning—so have fun, and run the code samples!\n",
    "\n",
    "> 本书中的所有代码实例都使用Python 2.7。书中所有的代码都以固定宽度的字体呈现，像这样将其与普通文本分开。代码注释伴随着一些列表，强调了重要的概念。\n",
    ">\n",
    "> 你可以从出版商的网站[www.manning.com/books/grokking-algorithms](http://www.manning.com/books/grokking-algorithms)上下载书中实例的代码，或者从https://github.com/egonschiele/grokking_algorithms。      \n",
    ">\n",
    "> 我相信，当你真正享受到学习的乐趣时，你的学习效果是最好的--所以请尽情享受，并运行这些代码样本吧!"
   ]
  },
  {
   "cell_type": "markdown",
   "id": "d632c917-12a3-4452-b85d-69758cd9040c",
   "metadata": {},
   "source": [
    "**About the author**\n",
    "\n",
    "*Aditya Bhargava* is a software engineer at Etsy, an online marketplace for handmade goods. He has a master’s degree in computer science from the University of Chicago. He also runs a popular illustrated tech blog at adit.io.      \n",
    "\n",
    "> *Aditya Bhargava*是Etsy的一名软件工程师，Etsy是一个手工制品的在线市场。他拥有芝加哥大学的计算机科学硕士学位。他还在adit.io经营一个受欢迎的图文并茂的科技博客。   \n",
    "\n",
    "**Author Online**\n",
    "\n",
    "Purchase of *Grokking Algorithms* includes free access to a private web forum run by Manning Publications where you can make comments about the book, ask technical         questions, and receive help from the author and from other users. To access the forum and subscribe to it, point your web browser to [www.manning.com/books/grokking-algorithms](http://www.manning.com/books/grokking-algorithms). This page provides information on how to get on the forum once you are registered, what kind of help is available, and the rules of conduct on the forum.    \n",
    "\n",
    "Manning’s commitment to our readers is to provide a venue where a meaningful dialog between individual readers and between readers and the author can take place. It isn’t a commitment to any specific amount of participation on the part of the author, whose contribution to Author Online remains voluntary (and unpaid). We suggest you try asking the author some challenging questions lest his interest stray! The Author Online forum and the archives of previous discussions will be accessible from the publisher’s website as long as the book is in print.\n",
    "\n",
    "> 购买*Grokking Algorithms*包括免费访问由Manning Publications管理的私人网络论坛，在这里你可以对该书发表评论，提出技术问题，并从作者和其他用户那里获得帮助。要访问该论坛并订阅它，请将您的网络浏览器指向[www.manning.com/books/grokking-algorithms](http://www.manning.com/books/grokking-algorithms)。本页提供了关于注册后如何进入论坛的信息，有哪些帮助，以及论坛的行为规则。   \n",
    ">\n",
    "> 曼宁对读者的承诺是提供一个场所，让个别读者之间以及读者与作者之间可以进行有意义的对话。这不是对作者的任何具体参与量的承诺，作者对作者在线的贡献仍然是自愿的（和无偿的）。我们建议你试着向作者提出一些有挑战性的问题，以免他的兴趣偏离了！\"。只要这本书还在印刷，作者在线论坛和以前的讨论档案就可以从出版商的网站上访问。"
   ]
  }
 ],
 "metadata": {
  "kernelspec": {
   "display_name": "Python 3 (ipykernel)",
   "language": "python",
   "name": "python3"
  },
  "language_info": {
   "codemirror_mode": {
    "name": "ipython",
    "version": 3
   },
   "file_extension": ".py",
   "mimetype": "text/x-python",
   "name": "python",
   "nbconvert_exporter": "python",
   "pygments_lexer": "ipython3",
   "version": "3.10.4"
  }
 },
 "nbformat": 4,
 "nbformat_minor": 5
}
