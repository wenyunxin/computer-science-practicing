{
 "cells": [
  {
   "cell_type": "code",
   "execution_count": 1,
   "id": "9490bf03-8811-4447-80c7-f81e05c9fb4a",
   "metadata": {},
   "outputs": [],
   "source": [
    "from IPython.core.interactiveshell import InteractiveShell\n",
    "InteractiveShell.ast_node_interactivity = \"all\""
   ]
  },
  {
   "cell_type": "markdown",
   "id": "876717a5-e707-4887-9af8-0fa8c928b407",
   "metadata": {},
   "source": [
    "**In this chapter**\n",
    "\n",
    "- You learn how to tackle the impossible: problems that have no fast algorithmic solution (NP-complete problems).                     \n",
    "- You learn how to identify such problems when you see them, so you don’t waste time trying to find a fast algorithm for them.                     \n",
    "- You learn about approximation algorithms, which you can use to find an approximate solution to an NP-complete problem quickly.                     \n",
    "- You learn about the greedy strategy, a very simple problem-solving strategy.\n",
    "\n",
    "> **在本章中**\n",
    ">\n",
    "> - 你要学习如何解决不可能的问题：没有快速算法解决方案的问题（NP-complete问题）。                    \n",
    "> - 你要学习如何在看到这些问题时识别它们，这样你就不会浪费时间为它们寻找快速算法了。                    \n",
    "> - 你要学习近似算法，你可以用它来快速找到一个NP-complete问题的近似解。                    \n",
    "> - 你要学习贪婪策略，这是一种非常简单的问题解决策略。"
   ]
  },
  {
   "cell_type": "markdown",
   "id": "ed09ad1a-e776-4289-8e86-8dd72b9adde8",
   "metadata": {},
   "source": [
    "## The classroom scheduling problem"
   ]
  },
  {
   "cell_type": "markdown",
   "id": "8acb55e9-8d40-48aa-bf89-93a8c86d059f",
   "metadata": {},
   "source": [
    "Suppose you have a classroom and want to hold as many classes here as possible. You get a list of classes.\n",
    "\n",
    "<img src=\"../pic/classes list.png\">\n",
    "\n",
    "You can’t hold *all* of these classes in there, because some of them overlap.\n",
    "\n",
    "<img src=\"../pic/class overlap.png\">\n",
    "\n",
    "You want to hold as many classes as possible in this classroom. How do you pick what set of classes to hold, so that you get the biggest set of classes possible?\n",
    "\n",
    "> 你想在这个教室里举行尽可能多的课程。你如何选择举办哪一组课程，以便获得尽可能多的课程？"
   ]
  },
  {
   "cell_type": "markdown",
   "id": "b0050d35-12b9-4757-917e-2a0fae651017",
   "metadata": {},
   "source": [
    "Sounds like a hard problem, right? Actually, the algorithm is so easy, it might surprise you. Here’s how it works:\n",
    "\n",
    "1. Pick the class that ends the soonest. This is the first class you’ll hold in this classroom.                     \n",
    "2. Now, you have to pick a class that starts after the first class. Again, pick the class that ends the soonest. This is the second class you’ll hold.\n",
    "\n",
    "Keep doing this, and you’ll end up with the answer! Let’s try it out. Art ends the soonest, at 10:00 a.m., so that’s one of the classes you pick. Now you need the next class that starts after 10:00 a.m. and ends the soonest. English is out because it conflicts with Art, but Math works. Finally, CS conflicts with Math, but Music works. So these are the three classes you’ll hold in this classroom.\n",
    "\n",
    "<img src=\"../pic/three classes.png\">"
   ]
  },
  {
   "cell_type": "markdown",
   "id": "af582b5a-2cf3-4f1d-9a2b-ab4b48246347",
   "metadata": {},
   "source": [
    "A lot of people tell me that this algorithm seems easy. It’s too obvious, so it must be wrong. But that’s the beauty of greedy algorithms: they’re easy! A greedy algorithm is simple: at each step, pick the optimal move. In this case, each time you pick a class, you pick the class that ends the soonest. In technical terms: *at each step you pick the locally optimal solution*, and in the end you’re left with the globally optimal solution. \n",
    "\n",
    "Believe it or not, this simple algorithm finds the optimal solution to this scheduling problem!      \n",
    "\n",
    "Obviously, greedy algorithms don’t always work. But they’re simple to write! Let’s look at another example."
   ]
  },
  {
   "cell_type": "markdown",
   "id": "de859f2d-42fe-4ab0-98b3-d4e9770ca555",
   "metadata": {},
   "source": [
    "## The knapsack problem"
   ]
  },
  {
   "cell_type": "markdown",
   "id": "f98d2c28-556a-47c1-9fd9-2dc74983ff3f",
   "metadata": {},
   "source": [
    "Suppose you’re a greedy thief. You’re in a store with a knapsack, and there are all these items you can steal. But you can only take what you can fit in your knapsack. The knapsack can hold 35 pounds. You’re trying to maximize the value of the items you put in your knapsack. What algorithm do you use?\n",
    "\n",
    "Again, the greedy strategy is pretty simple:\n",
    "\n",
    "1. Pick the most expensive thing that will fit in your knapsack.                     \n",
    "2. Pick the next most expensive thing that will fit in your knapsack. And so on."
   ]
  },
  {
   "cell_type": "markdown",
   "id": "f7bb67cc-f112-4374-b06a-3764af7a2a22",
   "metadata": {},
   "source": [
    "Except this time, it doesn’t work! For example, suppose there are three items you can steal.\n",
    "\n",
    "<img src=\"../pic/three items.png\">\n",
    "\n",
    "Your knapsack can hold 35 pounds of items. The stereo system is the most expensive, so you steal that. Now you don’t have space for anything else.\n",
    "\n",
    "<img src=\"../pic/space for stereo.png\">\n",
    "\n",
    "You got \\$3,000 worth of goods. But wait! If you’d picked the laptop and the guitar instead, you could have had $3,500 worth of loot!\n",
    "\n",
    "<img src=\"../pic/laptop and guitar.png\">\n",
    "\n",
    "Clearly, the greedy strategy doesn’t give you the optimal solution here. But it gets you pretty close. In the next chapter, I’ll explain how to calculate the correct solution. But if you’re a thief in a shopping center, you don’t care about perfect. “Pretty good” is good enough.\n",
    "\n",
    "Here’s the takeaway from this second example: sometimes, perfect is the enemy of good. Sometimes all you need is an algorithm that solves the problem pretty well. And that’s where greedy algorithms shine, because they’re simple to write and usually get pretty close."
   ]
  },
  {
   "cell_type": "markdown",
   "id": "375b2c94-c79b-4735-91c3-b62c44fa8580",
   "metadata": {},
   "source": [
    "### **Exercises**"
   ]
  },
  {
   "cell_type": "markdown",
   "id": "1a53e0c4-74e5-4cb2-9b36-aefb61a76e80",
   "metadata": {},
   "source": [
    "**8.1** \n",
    "\n",
    "You work for a furniture company, and you have to ship furniture all over the country. You need to pack your truck with boxes. All the boxes are of different sizes, and you’re trying to maximize the space you use in each truck. How would you pick boxes to maximize space? Come up with a greedy strategy. Will that give you the optimal solution?            \n",
    "\n",
    "**8.2** \n",
    "\n",
    "You’re going to Europe, and you have seven days to see everything you can. You assign a point value to each item (how much you want to see it) and estimate how long it takes. How can you maximize the point total (seeing all the things you really want to see) during your stay? Come up with a greedy strategy. Will that give you the optimal solution?\n",
    "\n",
    "Let’s look at one last example. This is an example where greedy algorithms are absolutely necessary."
   ]
  },
  {
   "cell_type": "markdown",
   "id": "baa6328e-1cc4-4701-b8fe-483b9fd07757",
   "metadata": {},
   "source": [
    "8.1 按照箱子的形状和货箱的形状来进行贪婪算法\n",
    "8.2 结合上一章的地图算法来计算"
   ]
  },
  {
   "cell_type": "markdown",
   "id": "486c9e10-6a22-4af0-8992-2b47464e50b5",
   "metadata": {},
   "source": [
    "## The set-covering problem"
   ]
  },
  {
   "cell_type": "markdown",
   "id": "ffd98303-f5bd-4806-b395-727bffdb7453",
   "metadata": {},
   "source": [
    "Suppose you’re starting a radio show. You want to reach listeners in all 50 states. You have to decide what stations to play on to reach all those listeners. It costs money to be on each station, so you’re trying to minimize the number of stations you play on. You have a list of stations.\n",
    "\n",
    "<img src=\"../pic/a list of station.png\">\n",
    "\n",
    "Each station covers a region, and there’s overlap.\n",
    "\n",
    "<img src=\"../pic/station overlap.png\">\n",
    "\n",
    "How do you figure out the smallest set of stations you can play on to cover all 50 states? Sounds easy, doesn’t it? Turns out it’s extremely hard. Here’s how to do it:\n",
    "\n",
    "1. List every possible subset of stations. This is called the *power set*. There are 2^*n* possible subsets.\n",
    "\n",
    "<img src=\"../pic/subset station.png\">\n",
    "\n",
    "2. From these, pick the set with the smallest number of stations that covers all 50 states.\n",
    "\n",
    "The problem is, it takes a long time to calculate every possible subset of stations. It takes O(2^*n*) time, because there are 2^*n* stations. It’s possible to do if you have a small set of 5 to 10 stations. But with all the examples here, think about what will happen if you have a lot of items. It takes much longer if you have more stations. Suppose you can calculate 10 subsets per second.\n",
    "\n",
    "There’s *no algorithm that solves it fast enough!* What can you do?\n",
    "\n",
    "<img src=\"../pic/time to calculate.png\">"
   ]
  },
  {
   "cell_type": "markdown",
   "id": "bf356dd2-a28a-4da5-93d5-2d2de4da028e",
   "metadata": {},
   "source": [
    "## Approximation algorithms"
   ]
  },
  {
   "cell_type": "markdown",
   "id": "c37b9732-20aa-496b-afb5-1aee1358ddc9",
   "metadata": {},
   "source": [
    "Greedy algorithms to the rescue! Here’s a greedy algorithm that comes pretty close:\n",
    "\n",
    "1. Pick the station that covers the most states that haven’t been covered yet. It’s OK if the station covers some states that have been covered already.                     \n",
    "2. Repeat until all the states are covered.                     \n",
    "\n",
    "This is called an *approximation algorithm.* When calculating the exact solution will take too much time, an approximation algorithm will work. Approximation algorithms are judged by      \n",
    "\n",
    "- How fast they are                     \n",
    "- How close they are to the optimal solution\n",
    "\n",
    "Greedy algorithms are a good choice because not only are they simple to come up with, but that simplicity means they usually run fast, too. In this case, the greedy algorithm runs in O(*n*^2) time, where *n* is the number of radio stations.\n",
    "\n",
    "> 贪婪算法来拯救! 这里有一个相当接近的贪婪算法。\n",
    ">\n",
    "> 1. 挑选覆盖最多尚未覆盖的州的车站。如果该站覆盖了一些已经被覆盖的州，那也没关系。                    \n",
    "> 2. 重复进行，直到覆盖所有的州。                    \n",
    ">\n",
    "> 这就是所谓的*近似算法。*当计算精确解需要花费太多时间时，近似算法就能发挥作用。判断近似算法的标准是      \n",
    ">\n",
    "> - 它们的速度有多快                     \n",
    "> - 它们与最优解的接近程度\n",
    ">\n",
    "> 贪婪算法是一个很好的选择，因为它们不仅简单易行，而且这种简单性意味着它们通常也能快速运行。在这种情况下，贪婪算法在O(*n*^2)时间内运行，其中*n*是电台的数量。"
   ]
  },
  {
   "cell_type": "markdown",
   "id": "6d7a69be-693d-4aba-99b6-29787aa7eb6e",
   "metadata": {},
   "source": [
    "Let’s see how this problem looks in code.      \n",
    "\n",
    "**Code for setup**         \n",
    "\n",
    "For this example, I’m going to use a subset of the states and the stations to keep things simple.\n",
    "\n",
    "First, make a list of the states you want to cover:\n",
    "\n",
    "> 让我们看看这个问题在代码中是怎样的。     \n",
    ">\n",
    "> **设置的代码**         \n",
    ">\n",
    "> 在这个例子中，我将使用一个州和站的子集，以使事情简单。\n",
    ">\n",
    "> 首先，列一个你想覆盖的州的清单："
   ]
  },
  {
   "cell_type": "code",
   "execution_count": 2,
   "id": "593a10cc-fd1e-453c-8371-7eed9b792e3b",
   "metadata": {},
   "outputs": [],
   "source": [
    "states_needed = set([\"mt\", \"wa\", \"or\", \"id\", \"nv\", \"ut\", \"ca\", \"az\"])\n",
    "# you pass an array in ,and it gets converted to a set"
   ]
  },
  {
   "cell_type": "markdown",
   "id": "af9dda4a-20b9-4aea-9787-c440f72368cc",
   "metadata": {},
   "source": [
    "I used a set for this. A set is like a list, except that each item can show up only once in a set. *Sets can’t have duplicates.* \n",
    "\n",
    "You also need the list of stations that you’re choosing from. I chose to use a hash for this:\n",
    "\n",
    "> 我为此使用了一个集合。一个集合就像一个列表，只是每个项目在一个集合中只能出现一次。*集合不能有重复的内容*。\n",
    ">\n",
    "> 你还需要有你要选择的站的列表。我选择使用哈希值来做这个："
   ]
  },
  {
   "cell_type": "code",
   "execution_count": 3,
   "id": "a97eaf70-dde9-4205-b9a8-2e2645c5eda3",
   "metadata": {},
   "outputs": [],
   "source": [
    "stations = {}\n",
    "stations[\"kone\"] = set([\"id\", \"nv\", \"ut\"])\n",
    "stations[\"ktwo\"] = set([\"wa\", \"id\", \"mt\"])\n",
    "stations[\"kthree\"] = set([\"or\", \"nv\", \"ca\"])\n",
    "stations[\"kfour\"] = set([\"nv\", \"ut\"])\n",
    "stations[\"kfive\"] = set([\"ca\", \"az\"])"
   ]
  },
  {
   "cell_type": "markdown",
   "id": "5fa7b323-2eed-40c4-bc71-17e5e3755eda",
   "metadata": {},
   "source": [
    "The keys are station names, and the values are the states they cover. So in this example, the kone station covers Idaho, Nevada, and Utah. All the values are sets, too. Making everything a set will make your life easier, as you’ll see soon.\n",
    "\n",
    "Finally, you need something to hold the final set of stations you’ll use:\n",
    "\n",
    "> 键是站名，值是它们覆盖的州。所以在这个例子中，kone站覆盖爱达荷州、内华达州和犹他州。所有的值也都是集合。使所有的东西都成为一个集合将使你的生活更容易，正如你很快就会看到的。\n",
    ">\n",
    "> 最后，你需要一些东西来保存你要使用的最后一组站："
   ]
  },
  {
   "cell_type": "code",
   "execution_count": 4,
   "id": "5dd5178a-907e-4be2-8c5d-1f44716f7be3",
   "metadata": {},
   "outputs": [],
   "source": [
    "final_stations = set()"
   ]
  },
  {
   "cell_type": "markdown",
   "id": "527502dd-325a-40dd-9080-0216d42e7ccb",
   "metadata": {},
   "source": [
    "**Calculating the answer**      \n",
    "\n",
    "Now you need to calculate what stations you’ll use. Take a look at the image at right, and see if you can predict what stations you should use.\n",
    "\n",
    "<img src=\"../pic/station image.png\">\n",
    "\n",
    "There can be more than one correct solution. You need to go through every station and pick the one that covers the most uncovered states. I’ll call this best_station:\n",
    "\n",
    "> 可以有不止一个正确的解决方案。你需要遍历每一个车站，并挑选出覆盖最多未被覆盖的州。我把这称为best_station："
   ]
  },
  {
   "cell_type": "raw",
   "id": "7cabbeb2-30cd-4be5-9af4-43ef2a5dec24",
   "metadata": {},
   "source": [
    "best_station = None\n",
    "states_covered = set()\n",
    "for station, states_for_station in stations.items():"
   ]
  },
  {
   "cell_type": "markdown",
   "id": "c0eac32b-9cbb-49b8-8809-3e7f51ec9d3b",
   "metadata": {},
   "source": [
    "states_covered is a set of all the states this station covers that haven’t been covered yet. The for loop allows you to loop over every station to see which one is the best station. Let’s look at the body of the for loop:\n",
    "\n",
    "> states_covered是该站覆盖的所有尚未被覆盖的州的集合。for 循环允许你在每一个站点上进行循环，看看哪一个是最好的站点。让我们看一下for循环的主体："
   ]
  },
  {
   "cell_type": "code",
   "execution_count": 5,
   "id": "b9775be0-ea92-44d5-b2d8-7bebb44b7c8b",
   "metadata": {},
   "outputs": [],
   "source": [
    "best_station = None\n",
    "states_covered = set()\n",
    "for station, states_for_station in stations.items():\n",
    "    covered = states_needed & states_for_station\n",
    "    if len(covered) > len(states_covered):    # this is called set intersection\n",
    "        best_station = station\n",
    "        states_covered = covered"
   ]
  },
  {
   "cell_type": "markdown",
   "id": "8852e397-d741-4fb9-b0ce-75b31b990dc2",
   "metadata": {},
   "source": [
    "There’s a funny-looking line here:\n",
    "\n",
    "> covered = states_needed & states_for_station"
   ]
  },
  {
   "cell_type": "markdown",
   "id": "1e0f79dd-1125-485c-bb47-dd7144b43c49",
   "metadata": {},
   "source": [
    "What’s going on?"
   ]
  },
  {
   "cell_type": "markdown",
   "id": "d21ce3cd-a77f-4bcb-ac59-d08311386fff",
   "metadata": {},
   "source": [
    "**Sets**\n",
    "\n",
    "Suppose you have a set of fruits.\n",
    "\n",
    "<img src=\"../pic/a set of fruit.png\">\n",
    "\n",
    "You also have a set of vegetables.\n",
    "\n",
    "<img src=\"../pic/a set of vegetables.png\">\n",
    "\n",
    "When you have two sets, you can do some fun things with them. Here are some things you can do with sets.\n",
    "\n",
    "<img src=\"../pic/funny things about set.png\">\n",
    "\n",
    "- A set **union** means “combine both sets.”                     \n",
    "- A set **intersection** means “find the items that show up in both sets” (in this case, just the tomato).                     \n",
    "- A set **difference** means “subtract the items in one set from the items in the other set.”\n",
    "\n",
    "> - 集合**并集**意味着 \"合并两个集合\"。                    \n",
    "> - 集合**交集**是指 \"找到在两个集合中都出现的项目\"（在本例中，只有番茄）。                    \n",
    "> - 集合**差**意味着 \"用一个集合中的项目减去另一个集合中的项目\"。\n",
    "\n",
    "For example:"
   ]
  },
  {
   "cell_type": "code",
   "execution_count": 6,
   "id": "74bc3d15-c201-4d6d-be9f-3c451bf3e9d4",
   "metadata": {},
   "outputs": [
    {
     "data": {
      "text/plain": [
       "{'avocado', 'banana', 'beets', 'carrots', 'tomato'}"
      ]
     },
     "execution_count": 6,
     "metadata": {},
     "output_type": "execute_result"
    },
    {
     "data": {
      "text/plain": [
       "{'tomato'}"
      ]
     },
     "execution_count": 6,
     "metadata": {},
     "output_type": "execute_result"
    },
    {
     "data": {
      "text/plain": [
       "{'avocado', 'banana'}"
      ]
     },
     "execution_count": 6,
     "metadata": {},
     "output_type": "execute_result"
    },
    {
     "data": {
      "text/plain": [
       "{'beets', 'carrots'}"
      ]
     },
     "execution_count": 6,
     "metadata": {},
     "output_type": "execute_result"
    }
   ],
   "source": [
    "fruit = set([\"avocado\", \"tomato\", \"banana\"])\n",
    "vegetables = set([\"beets\", \"carrots\", \"tomato\"])\n",
    "fruit | vegetables    # this is a set union\n",
    "fruit & vegetables    # this is a set intersection\n",
    "fruit - vegetables    # this is a set difference\n",
    "vegetables - fruit    # this is also a set difference"
   ]
  },
  {
   "cell_type": "markdown",
   "id": "5a0d17e0-82de-4500-9640-220bb08813e3",
   "metadata": {},
   "source": [
    "To recap:    \n",
    "\n",
    "- Sets are like lists, except sets can’t have duplicates.                     \n",
    "- You can do some interesting operations on sets, like union, intersection, and difference."
   ]
  },
  {
   "cell_type": "markdown",
   "id": "f03c24a1-e307-46e0-943c-58d90edd044d",
   "metadata": {},
   "source": []
  }
 ],
 "metadata": {
  "kernelspec": {
   "display_name": "Python 3 (ipykernel)",
   "language": "python",
   "name": "python3"
  },
  "language_info": {
   "codemirror_mode": {
    "name": "ipython",
    "version": 3
   },
   "file_extension": ".py",
   "mimetype": "text/x-python",
   "name": "python",
   "nbconvert_exporter": "python",
   "pygments_lexer": "ipython3",
   "version": "3.10.4"
  }
 },
 "nbformat": 4,
 "nbformat_minor": 5
}
