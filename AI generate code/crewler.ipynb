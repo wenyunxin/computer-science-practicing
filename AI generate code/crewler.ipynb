{
 "cells": [
  {
   "cell_type": "code",
   "execution_count": 22,
   "id": "e2886ad5-3055-429b-9c26-6400c4d1ea48",
   "metadata": {},
   "outputs": [],
   "source": [
    "import requests\n",
    "from bs4 import BeautifulSoup\n",
    "import time\n",
    "import pandas as pd"
   ]
  },
  {
   "cell_type": "code",
   "execution_count": 29,
   "id": "1ad1ce5c-1a46-4b07-ba78-66d80782d131",
   "metadata": {},
   "outputs": [],
   "source": [
    "urls ='https://movie.douban.com/top250'\n",
    "\n",
    "_250 = requests.get(url).text\n",
    "time.sleep(2)\n",
    "soup = BeautifulSoup(_250, 'lxml')\n"
   ]
  },
  {
   "cell_type": "code",
   "execution_count": 30,
   "id": "badf5d2e-884b-4de7-ac13-b91f4669b4b9",
   "metadata": {},
   "outputs": [
    {
     "data": {
      "text/plain": []
     },
     "execution_count": 30,
     "metadata": {},
     "output_type": "execute_result"
    }
   ],
   "source": [
    "soup"
   ]
  },
  {
   "cell_type": "code",
   "execution_count": null,
   "id": "7895c8a0-0e08-487f-9fbf-e9d3aba61bb0",
   "metadata": {},
   "outputs": [],
   "source": []
  },
  {
   "cell_type": "code",
   "execution_count": null,
   "id": "16b1a64a-f747-4462-b3f8-f2b03bd1e3f9",
   "metadata": {},
   "outputs": [],
   "source": []
  }
 ],
 "metadata": {
  "kernelspec": {
   "display_name": "Python 3 (ipykernel)",
   "language": "python",
   "name": "python3"
  },
  "language_info": {
   "codemirror_mode": {
    "name": "ipython",
    "version": 3
   },
   "file_extension": ".py",
   "mimetype": "text/x-python",
   "name": "python",
   "nbconvert_exporter": "python",
   "pygments_lexer": "ipython3",
   "version": "3.9.6"
  }
 },
 "nbformat": 4,
 "nbformat_minor": 5
}
