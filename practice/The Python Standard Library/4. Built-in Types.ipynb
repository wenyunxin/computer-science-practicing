{
 "cells": [
  {
   "cell_type": "code",
   "execution_count": 1,
   "id": "43a66c61-e115-4ffd-a542-168019926dca",
   "metadata": {},
   "outputs": [],
   "source": [
    "from IPython.core.interactiveshell import InteractiveShell\n",
    "InteractiveShell.ast_node_interactivity = \"all\""
   ]
  },
  {
   "cell_type": "markdown",
   "id": "b0ccfb84-172c-4360-befd-1e4b25bb1889",
   "metadata": {},
   "source": [
    "The following sections describe the standard types that are built into the interpreter.\n",
    "\n",
    "The principal built-in types are numerics, sequences, mappings, classes, instances and exceptions.\n",
    "\n",
    "Some collection classes are mutable. The methods that add, subtract, or rearrange their members in place, and don’t return a specific item, never return the collection instance itself but `None`.\n",
    "\n",
    "Some operations are supported by several object types; in particular, practically all objects can be compared for equality, tested for truth value, and converted to a string (with the [`repr()`](https://docs.python.org/3/library/functions.html#repr) function or the slightly different [`str()`](https://docs.python.org/3/library/stdtypes.html#str) function). The latter function is implicitly used when an object is written by the [`print()`](https://docs.python.org/3/library/functions.html#print) function.\n",
    "\n",
    "> 下面几节描述了解释器中内置的标准类型。\n",
    ">\n",
    "> 主要的内置类型是数字、序列、映射、类、实例和异常。\n",
    ">\n",
    "> 一些集类是可变的。在原地添加、减去或重新排列其成员的方法，并且不返回特定的项目，永远不会返回集实例本身，而是返回 `None`。\n",
    ">\n",
    "> 一些操作被几种对象类型所支持；特别是，几乎所有的对象都可以进行相等性比较，测试真值，并转换为字符串（使用 [`repr()`](https://docs.python.org/3/library/functions.html#repr) 函数或略有不同的 [`str()`](https://docs.python.org/3/library/stdtypes.html#str) 函数）。当用 [`print()`](https://docs.python.org/3/library/functions.html#print) 函数写入一个对象时，隐含地使用了后者的函数。"
   ]
  },
  {
   "cell_type": "code",
   "execution_count": 3,
   "id": "9b95e415-4ef3-4e50-87d1-8f413d0be58f",
   "metadata": {},
   "outputs": [
    {
     "data": {
      "text/plain": [
       "[0, 1, 2, 3, 4, 5, 6, 7, 8, 9]"
      ]
     },
     "execution_count": 3,
     "metadata": {},
     "output_type": "execute_result"
    },
    {
     "data": {
      "text/plain": [
       "(0, 3, 6, 9, 12, 15, 18, 21, 24, 27)"
      ]
     },
     "execution_count": 3,
     "metadata": {},
     "output_type": "execute_result"
    },
    {
     "data": {
      "text/plain": [
       "{0, 2, 4, 6, 8}"
      ]
     },
     "execution_count": 3,
     "metadata": {},
     "output_type": "execute_result"
    },
    {
     "data": {
      "text/plain": [
       "3"
      ]
     },
     "execution_count": 3,
     "metadata": {},
     "output_type": "execute_result"
    },
    {
     "data": {
      "text/plain": [
       "9"
      ]
     },
     "execution_count": 3,
     "metadata": {},
     "output_type": "execute_result"
    }
   ],
   "source": [
    "a = [x for x in range(10)]\n",
    "a\n",
    "\n",
    "b = tuple(x*3 for x in range(10))\n",
    "b\n",
    "\n",
    "c = {x*2 for x in range(5)}\n",
    "c\n",
    "\n",
    "a[3]\n",
    "b[3]"
   ]
  },
  {
   "cell_type": "code",
   "execution_count": 4,
   "id": "37499846-f7ef-46a1-9857-423e6af67e4d",
   "metadata": {},
   "outputs": [
    {
     "name": "stdout",
     "output_type": "stream",
     "text": [
      "{0, 2, 4, 6, 8}\n"
     ]
    }
   ],
   "source": [
    "print(c)"
   ]
  },
  {
   "cell_type": "markdown",
   "id": "7a61de81-391b-4dbb-a460-088d67216365",
   "metadata": {},
   "source": [
    "## Truth Value Testing"
   ]
  },
  {
   "cell_type": "markdown",
   "id": "9aa3d91a-481b-4c0a-87fb-572a9e5d007d",
   "metadata": {},
   "source": [
    "Any object can be tested for truth value, for use in an [`if`](https://docs.python.org/3/reference/compound_stmts.html#if) or [`while`](https://docs.python.org/3/reference/compound_stmts.html#while) condition or as operand of the Boolean operations below.\n",
    "\n",
    "> 任何对象都可以测试真值，用于 [`if`](https://docs.python.org/3/reference/compound_stmts.html#if) 或 [`while`](https://docs.python.org/3/reference/compound_stmts.html#while) 条件中，或作为以下布尔运算的操作数。"
   ]
  },
  {
   "cell_type": "markdown",
   "id": "3b5555d1-6651-476c-aed8-540351978e25",
   "metadata": {},
   "source": [
    "By default, an object is considered true unless its class defines either a `__bool__()` method that returns `False` or a `__len__()` method that returns zero, when called with the object. [^1] Here are most of the built-in objects considered false:\n",
    "\n",
    "- constants defined to be false: `None` and `False`.\n",
    "- zero of any numeric type: `0`, `0.0`, `0j`, `Decimal(0)`, `Fraction(0, 1)`\n",
    "- empty sequences and collections: `''`, `()`, `[]`, `{}`, `set()`, `range(0)`\n",
    "\n",
    "> 默认情况下，一个对象被认为是真的，除非它的类定义了一个 `__bool__()` 方法，返回 `False`，或者一个`__len__()` 方法，返回零，当与该对象一起调用时。[1] 下面是大多数被认为是false的内置对象：\n",
    ">\n",
    "> - 定义为false的常量：`None` 和 `False`。\n",
    "> - 任何数字类型的零： `0`, `0.0`, `0j`, `Decimal(0)`, `Fraction(0, 1)`。\n",
    "> - 空序列和集合。`''`,  `()`,  `[]`,  `{}`,  `set()`,  `range(0)`。"
   ]
  },
  {
   "cell_type": "markdown",
   "id": "03d47c63-b830-479c-819d-b4824176bf0d",
   "metadata": {},
   "source": [
    "Operations and built-in functions that have a Boolean result always return `0` or `False` for false and `1` or `True` for true, unless otherwise stated. (Important exception: the Boolean operations `or` and `and` always return one of their operands.)\n",
    "\n",
    "> 除非另有说明，有布尔结果的操作和内置函数总是返回 `0` 或 `False` 表示false，`1` 或 `True` 表示true。(重要的例外：布尔运算 `or` 和 `and` 总是返回其操作数中的一个）。"
   ]
  },
  {
   "cell_type": "markdown",
   "id": "39d11603-a98f-40ae-92d2-2e5d23b1b722",
   "metadata": {},
   "source": [
    "## Boolean Operations — `and`, `or`, `not`"
   ]
  },
  {
   "cell_type": "markdown",
   "id": "2b6f58a2-e329-4e01-8c56-8e494ec79b1a",
   "metadata": {},
   "source": [
    "These are the Boolean operations, ordered by ascending priority:\n",
    "\n",
    "> 这些是布尔运算，按优先级升序排列："
   ]
  },
  {
   "cell_type": "markdown",
   "id": "bb52c50e-94f8-4416-bc6b-489122e19880",
   "metadata": {},
   "source": [
    "> \n",
    "\n",
    "| Operation | Result                                     | Notes |\n",
    "| :-------- | :----------------------------------------- | :---- |\n",
    "| `x or y`  | if *x* is false, then *y*, else *x*        | (1)   |\n",
    "| `x and y` | if *x* is false, then *x*, else *y*        | (2)   |\n",
    "| `not x`   | if *x* is false, then `True`, else `False` | (3)   |\n",
    "\n"
   ]
  },
  {
   "cell_type": "markdown",
   "id": "a3b3cbb2-7075-44a7-9634-6b3edc49f782",
   "metadata": {},
   "source": [
    "Notes:\n",
    "\n",
    "1. This is a short-circuit operator, so it only evaluates the second argument if the first one is false.\n",
    "2. This is a short-circuit operator, so it only evaluates the second argument if the first one is true.\n",
    "3. `not` has a lower priority than non-Boolean operators, so `not a == b` is interpreted as `not (a == b)`, and `a == not b` is a syntax error.\n",
    "\n",
    "> 注意事项：\n",
    ">\n",
    "> 1. 这是一个短路运算符，所以它只在第一个参数为false时运算求值第二个参数。\n",
    "> 2. 这是一个短路运算符，所以它只在第一个参数为true时运算求值第二个参数。\n",
    "> 3. `not` 比非布尔运算符的优先级低，所以 `not a == b` 被解释为 `not (a == b)`，而 `a == not b` 是一个语法错误。"
   ]
  },
  {
   "cell_type": "markdown",
   "id": "8a401005-f374-4c0d-872c-219e89885876",
   "metadata": {},
   "source": [
    "## Comparisons"
   ]
  },
  {
   "cell_type": "markdown",
   "id": "0fe3fe64-c57f-4879-89e3-4fd6b339ccfe",
   "metadata": {},
   "source": [
    "There are eight comparison operations in Python. They all have the same priority (which is higher than that of the Boolean operations). Comparisons can be chained arbitrarily; for example, `x < y <= z` is equivalent to `x < y and y <= z`, except that *y* is evaluated only once (but in both cases *z* is not evaluated at all when `x < y` is found to be false).\n",
    "\n",
    "This table summarizes the comparison operations:\n",
    "\n",
    "> 在Python中有八个比较操作。它们都有相同的优先级 (比布尔运算的优先级高)。比较可以任意连锁；例如，`x < y <= z `等同于 `x < y and y <= z`，只是*y*只被运算求值一次 (但在这两种情况下，当 `x < y` 被发现为false时，*z*根本不被运算求值)。\n",
    ">\n",
    "> 这个表格总结了比较操作："
   ]
  },
  {
   "cell_type": "markdown",
   "id": "d2928917-6024-4777-9718-4d8b89b61412",
   "metadata": {},
   "source": [
    "| Operation | Meaning                 |\n",
    "| :-------- | :---------------------- |\n",
    "| `<`       | strictly less than      |\n",
    "| `<=`      | less than or equal      |\n",
    "| `>`       | strictly greater than   |\n",
    "| `>=`      | greater than or equal   |\n",
    "| `==`      | equal                   |\n",
    "| `!=`      | not equal               |\n",
    "| `is`      | object identity         |\n",
    "| `is not`  | negated object identity |\n",
    "\n"
   ]
  },
  {
   "cell_type": "markdown",
   "id": "f55c0b39-54a2-4195-958e-ce022897137f",
   "metadata": {},
   "source": [
    "Objects of different types, except different numeric types, never compare equal. The `==` operator is always defined but for some object types (for example, class objects) is equivalent to [`is`](https://docs.python.org/3/reference/expressions.html#is). The `<`, `<=`, `>` and `>=` operators are only defined where they make sense; for example, they raise a [`TypeError`](https://docs.python.org/3/library/exceptions.html#TypeError) exception when one of the arguments is a complex number.\n",
    "\n",
    "Non-identical instances of a class normally compare as non-equal unless the class defines the [`__eq__()`](https://docs.python.org/3/reference/datamodel.html#object.__eq__) method.\n",
    "\n",
    "Instances of a class cannot be ordered with respect to other instances of the same class, or other types of object, unless the class defines enough of the methods [`__lt__()`](https://docs.python.org/3/reference/datamodel.html#object.__lt__), [`__le__()`](https://docs.python.org/3/reference/datamodel.html#object.__le__), [`__gt__()`](https://docs.python.org/3/reference/datamodel.html#object.__gt__), and [`__ge__()`](https://docs.python.org/3/reference/datamodel.html#object.__ge__) (in general, [`__lt__()`](https://docs.python.org/3/reference/datamodel.html#object.__lt__) and [`__eq__()`](https://docs.python.org/3/reference/datamodel.html#object.__eq__) are sufficient, if you want the conventional meanings of the comparison operators).\n",
    "\n",
    "The behavior of the [`is`](https://docs.python.org/3/reference/expressions.html#is) and [`is not`](https://docs.python.org/3/reference/expressions.html#is-not) operators cannot be customized; also they can be applied to any two objects and never raise an exception.\n",
    "\n",
    "Two more operations with the same syntactic priority, [`in`](https://docs.python.org/3/reference/expressions.html#in) and [`not in`](https://docs.python.org/3/reference/expressions.html#not-in), are supported by types that are [iterable](https://docs.python.org/3/glossary.html#term-iterable) or implement the `__contains__()` method.\n",
    "\n",
    "> 不同类型的对象，除了不同的数字类型，永远不会比较相等。`== ` 运算符总是被定义的，但是对于某些对象类型（例如，类对象）来说，它等同于 [`is`](https://docs.python.org/3/reference/expressions.html#is)。`<`, `<=`, `>` 和 `>=` 操作符只在有意义的地方被定义；例如，当其中一个参数是复数时，它们会引发 [`TypeError`](https://docs.python.org/3/library/exceptions.html#TypeError) 异常。\n",
    ">\n",
    "> 除非类定义了 [`__eq__()`](https://docs.python.org/3/reference/datamodel.html#object.__eq__) 方法，否则一个类的非相同实例通常会比较为不相等。\n",
    ">\n",
    "> 一个类的实例不能相对于同一类的其他实例或其他类型的对象排序，除非该类定义了足够多的方法[`__lt__()`](https://docs.python.org/3/reference/datamodel.html#object.__lt__), [`__le__()`](https://docs.python.org/3/reference/datamodel.html#object.__le__), [`__gt__()`](https://docs.python.org/3/reference/datamodel.html#object)，以及 [`__ge__()`](https://docs.python.org/3/reference/datamodel.html#object )（一般来说，如果你想要比较运算符的常规含义，[`__lt__()`](https://docs.python.org/3/reference/datamodel.html#object.__lt__) 和 [`__eq__()`](https://docs.python.org/3/reference/datamodel.html#object.__eq__) 就足够了）。\n",
    ">\n",
    "> [`is`](https://docs.python.org/3/reference/expressions.html#is) 和 [`is not`](https://docs.python.org/3/reference/expressions.html#is-not) 运算符的行为不能被定制；同时它们可以被应用于任何两个对象，并且永远不会引发异常。\n",
    ">\n",
    "> 还有两个具有相同语法优先级的操作，[`in`](https://docs.python.org/3/reference/expressions.html#in) 和 [`not in`](https://docs.python.org/3/reference/expressions.html#not-in)，由 [iterable](https://docs.python.org/3/glossary.html#term-iterable) 或实现 `__contains__()` 方法的类型支持。"
   ]
  },
  {
   "cell_type": "markdown",
   "id": "80e5db99-4295-4346-9070-fcb5356a3fa4",
   "metadata": {},
   "source": [
    "## Numeric Types — [`int`](https://docs.python.org/3/library/functions.html#int), [`float`](https://docs.python.org/3/library/functions.html#float), [`complex`](https://docs.python.org/3/library/functions.html#complex)"
   ]
  },
  {
   "cell_type": "markdown",
   "id": "93cf1619-6df2-40dc-9086-47a62b410444",
   "metadata": {},
   "source": [
    "There are three distinct numeric types: *integers*, *floating point numbers*, and *complex numbers*. In addition, Booleans are a subtype of integers. Integers have unlimited precision. Floating point numbers are usually implemented using double in C; information about the precision and internal representation of floating point numbers for the machine on which your program is running is available in [`sys.float_info`](https://docs.python.org/3/library/sys.html#sys.float_info). Complex numbers have a real and imaginary part, which are each a floating point number. To extract these parts from a complex number *z*, use `z.real` and `z.imag`. (The standard library includes the additional numeric types [`fractions.Fraction`](https://docs.python.org/3/library/fractions.html#fractions.Fraction), for rationals, and [`decimal.Decimal`](https://docs.python.org/3/library/decimal.html#decimal.Decimal), for floating-point numbers with user-definable precision.)\n",
    "\n",
    "Numbers are created by numeric literals or as the result of built-in functions and operators. Unadorned integer literals (including hex, octal and binary numbers) yield integers. Numeric literals containing a decimal point or an exponent sign yield floating point numbers. Appending `'j'` or `'J'` to a numeric literal yields an imaginary number (a complex number with a zero real part) which you can add to an integer or float to get a complex number with real and imaginary parts.\n",
    "\n",
    "Python fully supports mixed arithmetic: when a binary arithmetic operator has operands of different numeric types, the operand with the “narrower” type is widened to that of the other, where integer is narrower than floating point, which is narrower than complex. A comparison between numbers of different types behaves as though the exact values of those numbers were being compared. [2](https://docs.python.org/3/library/stdtypes.html#id13)\n",
    "\n",
    "The constructors [`int()`](https://docs.python.org/3/library/functions.html#int), [`float()`](https://docs.python.org/3/library/functions.html#float), and [`complex()`](https://docs.python.org/3/library/functions.html#complex) can be used to produce numbers of a specific type.\n",
    "\n",
    "All numeric types (except complex) support the following operations (for priorities of the operations, see [Operator precedence](https://docs.python.org/3/reference/expressions.html#operator-summary)):\n",
    "\n",
    "> 有三种不同的数字类型。*整数*，浮点数*，和复数*。此外，布尔运算是整数的一个子类型。整数具有无限的精度。浮点数通常在C语言中使用double来实现；关于你的程序所运行的机器的精度和浮点数的内部表示，可以在 [`sys.float_info`](https://docs.python.org/3/library/sys.html#sys.float_info) 中找到。复数有一个实部和虚部，它们都是一个浮点数。要从复数*z*中提取这些部分，请使用 `z.real` 和 `z.imag`。(标准库包括额外的数字类型 [`fractions.Fraction`](https://docs.python.org/3/library/fractions.html#fractions.Fraction)，用于有理数，以及[`decimal.Decimal`](https://docs.python.org/3/library/decimal.html#decimal.Decimal)，用于用户可定义精度的浮点数。)\n",
    ">\n",
    "> 数字是由数字字面量或内置函数和运算符的结果创建的。未经修饰的整数字面（包括十六进制、八进制和二进制数字）产生整数。含有小数点或指数符号的数字字头产生浮点数字。将 `'j'` 或 `'J'` 附加到一个数字字面，产生一个虚数(一个实部为零的复数)，你可以将它加到一个整数或浮点数上，得到一个具有实部和虚部的复合数。\n",
    ">\n",
    "> Python完全支持混合算术：当一个二进制算术运算符有不同数字类型的操作数时，具有 \"较窄\" 类型的操作数被扩大到另一个类型，其中整数比浮点窄，浮点比复数窄。不同类型的数字之间的比较就像这些数字的精确值被比较一样。[2]\n",
    ">\n",
    "> 构造函数 [`int()`](https://docs.python.org/3/library/functions.html#int), [`float()`](https://docs.python.org/3/library/functions.html#float), 和 [`complex()` ](https://docs.python.org/3/library/functions.html#complex)可以用来产生特定类型的数字。\n",
    ">\n",
    "> 所有的数字类型（除了复数）都支持以下操作（关于操作的优先级，见[运算符优先级](https://docs.python.org/3/reference/expressions.html#operator-summary)）："
   ]
  },
  {
   "cell_type": "markdown",
   "id": "bebebf3b-eab4-4f2f-99be-0275d5a7f914",
   "metadata": {},
   "source": [
    "|                   |                                                              |        |                                                              |\n",
    "| :---------------- | :----------------------------------------------------------- | :----- | :----------------------------------------------------------- |\n",
    "| Operation         | Result                                                       | Notes  | Full documentation                                           |\n",
    "| `x + y`           | sum of *x* and *y*                                           |        |                                                              |\n",
    "| `x - y`           | difference of *x* and *y*                                    |        |                                                              |\n",
    "| `x * y`           | product of *x* and *y*                                       |        |                                                              |\n",
    "| `x / y`           | quotient of *x* and *y*                                      |        |                                                              |\n",
    "| `x // y`          | floored quotient of *x* and *y*                              | (1)    |                                                              |\n",
    "| `x % y`           | remainder of `x / y`                                         | (2)    |                                                              |\n",
    "| `-x`              | *x* negated                                                  |        |                                                              |\n",
    "| `+x`              | *x* unchanged                                                |        |                                                              |\n",
    "| `abs(x)`          | absolute value or magnitude of *x*                           |        | [`abs()`](https://docs.python.org/3/library/functions.html#abs) |\n",
    "| `int(x)`          | *x* converted to integer                                     | (3)(6) | [`int()`](https://docs.python.org/3/library/functions.html#int) |\n",
    "| `float(x)`        | *x* converted to floating point                              | (4)(6) | [`float()`](https://docs.python.org/3/library/functions.html#float) |\n",
    "| `complex(re, im)` | a complex number with real part *re*, imaginary part *im*. *im* defaults to zero. | (6)    | [`complex()`](https://docs.python.org/3/library/functions.html#complex) |\n",
    "| `c.conjugate()`   | conjugate of the complex number *c*                          |        |                                                              |\n",
    "| `divmod(x, y)`    | the pair `(x // y, x % y)`                                   | (2)    | [`divmod()`](https://docs.python.org/3/library/functions.html#divmod) |\n",
    "| `pow(x, y)`       | *x* to the power *y*                                         | (5)    | [`pow()`](https://docs.python.org/3/library/functions.html#pow) |\n",
    "| `x ** y`          | *x* to the power *y*                                         | (5)    |                                                              |"
   ]
  },
  {
   "cell_type": "markdown",
   "id": "103c8ab5-9b79-4e2e-951e-c26d13123c2b",
   "metadata": {},
   "source": [
    "Notes:\n",
    "\n",
    "1. Also referred to as integer division. The resultant value is a whole integer, though the result’s type is not necessarily int. The result is always rounded towards minus infinity: `1//2` is `0`, `(-1)//2` is `-1`, `1//(-2)` is `-1`, and `(-1)//(-2)` is `0`.\n",
    "\n",
    "2. Not for complex numbers. Instead convert to floats using [`abs()`](https://docs.python.org/3/library/functions.html#abs) if appropriate.\n",
    "\n",
    "3. Conversion from floating point to integer may round or truncate as in C; see functions [`math.floor()`](https://docs.python.org/3/library/math.html#math.floor) and [`math.ceil()`](https://docs.python.org/3/library/math.html#math.ceil) for well-defined conversions.\n",
    "\n",
    "4. float also accepts the strings “nan” and “inf” with an optional prefix “+” or “-” for Not a Number (NaN) and positive or negative infinity.\n",
    "\n",
    "5. Python defines `pow(0, 0)` and `0 ** 0` to be `1`, as is common for programming languages.\n",
    "\n",
    "6. The numeric literals accepted include the digits `0` to `9` or any Unicode equivalent (code points with the `Nd` property).\n",
    "\n",
    "   See https://www.unicode.org/Public/13.0.0/ucd/extracted/DerivedNumericType.txt for a complete list of code points with the `Nd` property.\n",
    "\n",
    "> 注意事项：\n",
    ">\n",
    "> 1. 也被称为整数除法。结果值是一个整数，尽管结果的类型不一定是int。结果总是四舍五入到负无穷大：`1/2` 是 `0`，`(-1)/2`是`1`，`1/(-2) `是 `1`，而 `(-1)//(-2)` 是 `0`。\n",
    ">\n",
    "> 2. 不用于复数。如果合适的话，可以使用 [`abs()`](https://docs.python.org/3/library/functions.html#abs) 转换为浮点数。\n",
    ">\n",
    "> 3. 从浮点到整数的转换可能会像C语言一样进行四舍五入或截断；参见函数 [`math.floor()`](https://docs.python.org/3/library/math.html#math.floor) 和[`math.ceil()`](https://docs.python.org/3/library/math.html#math.ceil)以获得明确的转换。\n",
    ">\n",
    "> 4.float也接受字符串 \"nan\" 和 \"inf\"，可选择前缀 \"+\" 或 \"-\" 表示不是一个数字（NaN）和正负无穷大。\n",
    ">\n",
    "> 5. Python定义 `pow(0, 0)` 和 `0 ** 0` 为 `1`，这是编程语言的通病。\n",
    ">\n",
    "> 6. 接受的数字字元包括数字 `0` 到 `9` 或任何Unicode等价物（具有 `Nd` 属性的代码点）。\n",
    ">\n",
    ">    关于具有 `Nd` 属性的代码点的完整列表，见https://www.unicode.org/Public/13.0.0/ucd/extracted/DerivedNumericType.txt。"
   ]
  },
  {
   "cell_type": "code",
   "execution_count": 5,
   "id": "24d0a5c3-2dd9-46d0-bf0f-82516f83b8dc",
   "metadata": {},
   "outputs": [
    {
     "data": {
      "text/plain": [
       "2.86"
      ]
     },
     "execution_count": 5,
     "metadata": {},
     "output_type": "execute_result"
    },
    {
     "data": {
      "text/plain": [
       "0.0"
      ]
     },
     "execution_count": 5,
     "metadata": {},
     "output_type": "execute_result"
    },
    {
     "data": {
      "text/plain": [
       "2.86"
      ]
     },
     "execution_count": 5,
     "metadata": {},
     "output_type": "execute_result"
    }
   ],
   "source": [
    "c = complex(3, 0.14j)\n",
    "c.real\n",
    "c.imag\n",
    "abs(c)"
   ]
  },
  {
   "cell_type": "code",
   "execution_count": 6,
   "id": "c35cf07c-4b8f-443f-aa1c-b719d9d387d1",
   "metadata": {},
   "outputs": [
    {
     "data": {
      "text/plain": [
       "-1"
      ]
     },
     "execution_count": 6,
     "metadata": {},
     "output_type": "execute_result"
    }
   ],
   "source": [
    "(-1)//2"
   ]
  },
  {
   "cell_type": "code",
   "execution_count": 7,
   "id": "72f1930f-1013-4024-90b6-6a76b418a939",
   "metadata": {},
   "outputs": [
    {
     "data": {
      "text/plain": [
       "3"
      ]
     },
     "execution_count": 7,
     "metadata": {},
     "output_type": "execute_result"
    },
    {
     "data": {
      "text/plain": [
       "3"
      ]
     },
     "execution_count": 7,
     "metadata": {},
     "output_type": "execute_result"
    },
    {
     "data": {
      "text/plain": [
       "4"
      ]
     },
     "execution_count": 7,
     "metadata": {},
     "output_type": "execute_result"
    }
   ],
   "source": [
    "import math\n",
    "int(3.14)\n",
    "math.floor(3.14)\n",
    "math.ceil(3.14)"
   ]
  },
  {
   "cell_type": "code",
   "execution_count": 8,
   "id": "7153100b-719d-41fe-90f9-de3895da13e8",
   "metadata": {},
   "outputs": [
    {
     "data": {
      "text/plain": [
       "1"
      ]
     },
     "execution_count": 8,
     "metadata": {},
     "output_type": "execute_result"
    },
    {
     "data": {
      "text/plain": [
       "1"
      ]
     },
     "execution_count": 8,
     "metadata": {},
     "output_type": "execute_result"
    }
   ],
   "source": [
    "pow(0,0)\n",
    "0**0"
   ]
  },
  {
   "cell_type": "markdown",
   "id": "893ebb30-0fed-44eb-87ab-49dc8692a0ef",
   "metadata": {},
   "source": [
    "All [`numbers.Real`](https://docs.python.org/3/library/numbers.html#numbers.Real) types ([`int`](https://docs.python.org/3/library/functions.html#int) and [`float`](https://docs.python.org/3/library/functions.html#float)) also include the following operations:\n",
    "\n",
    "> 所有 [`numbers.Real`](https://docs.python.org/3/library/numbers.html#numbers.Real) 类型（[`int`](https://docs.python.org/3/library/functions.html#int)和[`float`](https://docs.python.org/3/library/functions.html#float)）也包括以下操作："
   ]
  },
  {
   "cell_type": "markdown",
   "id": "6b2fea74-c614-40b7-ae92-147da9ad32c1",
   "metadata": {},
   "source": [
    "| Operation                                                    | Result                                                       |\n",
    "| :----------------------------------------------------------- | :----------------------------------------------------------- |\n",
    "| [`math.trunc(x)`](https://docs.python.org/3/library/math.html#math.trunc) | *x* truncated to [`Integral`](https://docs.python.org/3/library/numbers.html#numbers.Integral) |\n",
    "| [`round(x[, n\\])`](https://docs.python.org/3/library/functions.html#round) | *x* rounded to *n* digits, rounding half to even. If *n* is omitted, it defaults to 0. |\n",
    "| [`math.floor(x)`](https://docs.python.org/3/library/math.html#math.floor) | the greatest [`Integral`](https://docs.python.org/3/library/numbers.html#numbers.Integral) <= *x* |\n",
    "| [`math.ceil(x)`](https://docs.python.org/3/library/math.html#math.ceil) | the least [`Integral`](https://docs.python.org/3/library/numbers.html#numbers.Integral) >= *x* |\n",
    "\n"
   ]
  },
  {
   "cell_type": "code",
   "execution_count": 9,
   "id": "031e3b13-fd39-4b63-b07a-810b95335da1",
   "metadata": {},
   "outputs": [
    {
     "data": {
      "text/plain": [
       "3"
      ]
     },
     "execution_count": 9,
     "metadata": {},
     "output_type": "execute_result"
    },
    {
     "data": {
      "text/plain": [
       "5"
      ]
     },
     "execution_count": 9,
     "metadata": {},
     "output_type": "execute_result"
    }
   ],
   "source": [
    "math.trunc(3.14)\n",
    "math.trunc(5.9)"
   ]
  },
  {
   "cell_type": "code",
   "execution_count": 10,
   "id": "8c77710c-eca0-4bad-9b35-4b4cd0eafbc1",
   "metadata": {},
   "outputs": [
    {
     "data": {
      "text/plain": [
       "3.14159"
      ]
     },
     "execution_count": 10,
     "metadata": {},
     "output_type": "execute_result"
    }
   ],
   "source": [
    "round(math.pi, 5)"
   ]
  },
  {
   "cell_type": "markdown",
   "id": "3074216c-a665-4057-a2ab-715f53079290",
   "metadata": {},
   "source": [
    "For additional numeric operations see the [`math`](https://docs.python.org/3/library/math.html#module-math) and [`cmath`](https://docs.python.org/3/library/cmath.html#module-cmath) modules.\n",
    "\n",
    "> 关于其他数字运算，请参见[`math`](https://docs.python.org/3/library/math.html#module-math) 和 [`cmath`](https://docs.python.org/3/library/cmath.html#module-cmath) 模块。"
   ]
  },
  {
   "cell_type": "markdown",
   "id": "d2528c02-e4fe-4d1c-847f-2e0e7a51f157",
   "metadata": {},
   "source": [
    "### Bitwise Operations on Integer Types"
   ]
  },
  {
   "cell_type": "markdown",
   "id": "2c745bfc-c72b-4f5f-aab2-c8ccae58b401",
   "metadata": {},
   "source": [
    "Bitwise operations only make sense for integers. The result of bitwise operations is calculated as though carried out in two’s complement with an infinite number of sign bits.\n",
    "\n",
    "The priorities of the binary bitwise operations are all lower than the numeric operations and higher than the comparisons; the unary operation `~` has the same priority as the other unary numeric operations (`+` and `-`).\n",
    "\n",
    "This table lists the bitwise operations sorted in ascending priority:\n",
    "\n",
    "> 位操作只对整数有意义。位操作运算的结果就像在二进制补码中进行计算一样，有无限多的符号位。\n",
    ">\n",
    "> 二进制位操作的优先级都低于数字操作，高于比较操作；单数操作 `~` 的优先级与其他单数操作（`+ `和 `-`）相同。\n",
    ">\n",
    "> 本表列出了按优先级升序排列的位操作："
   ]
  },
  {
   "attachments": {
    "13b023a7-6069-431d-9a39-733fe70fd1e6.png": {
     "image/png": "[encoded data removed]"
    }
   },
   "cell_type": "markdown",
   "id": "5bfa4fa7-3760-4e36-8049-3a986cba50b3",
   "metadata": {},
   "source": [
    "![image.png](attachment:13b023a7-6069-431d-9a39-733fe70fd1e6.png)"
   ]
  },
  {
   "cell_type": "markdown",
   "id": "7662ff6c-4f67-4c60-96b1-8231dd716793",
   "metadata": {},
   "source": [
    "Notes:\n",
    "\n",
    "1. Negative shift counts are illegal and cause a [`ValueError`](https://docs.python.org/3/library/exceptions.html#ValueError) to be raised.\n",
    "2. A left shift by *n* bits is equivalent to multiplication by `pow(2, n)`.\n",
    "3. A right shift by *n* bits is equivalent to floor division by `pow(2, n)`.\n",
    "4. Performing these calculations with at least one extra sign extension bit in a finite two’s complement representation (a working bit-width of `1 + max(x.bit_length(), y.bit_length())` or more) is sufficient to get the same result as if there were an infinite number of sign bits.\n",
    "\n",
    "> 注意事项。\n",
    ">\n",
    "> 1. 负的移位数是非法的，会引起 [`ValueError`](https://docs.python.org/3/library/exceptions.html#ValueError) 的发生。\n",
    "> 2. 左移*n*位相当于乘以 `pow(2, n)`。\n",
    "> 3. 右移*n*位相当于地板除以（向下取商） `pow(2, n)`。\n",
    "> 4. 在有限二补表示中至少有一个额外的符号扩展位（工作位宽为 `1+max(x.bit_length(), y.bit_length()` 或更多）来进行这些计算，足以得到与无限多符号位相同的结果。"
   ]
  },
  {
   "cell_type": "markdown",
   "id": "4112a7b6-bcc6-4afc-a4aa-0fff1e55f272",
   "metadata": {},
   "source": [
    "### Additional Methods on Integer Types"
   ]
  },
  {
   "cell_type": "markdown",
   "id": "6c8df51d-4bbc-4bd7-987a-aef4d228e6ec",
   "metadata": {},
   "source": [
    "The int type implements the [`numbers.Integral`](https://docs.python.org/3/library/numbers.html#numbers.Integral) [abstract base class](https://docs.python.org/3/glossary.html#term-abstract-base-class). In addition, it provides a few more methods:\n",
    "\n",
    "> int类型实现了 [`numbers.Integral`](https://docs.python.org/3/library/numbers.html#numbers.Integral) [抽象基类](https://docs.python.org/3/glossary.html#term-abstract-base-class)。此外，它还提供了一些方法："
   ]
  },
  {
   "cell_type": "markdown",
   "id": "f0e9db20-e576-4ad3-ae60-e8a1a0e12923",
   "metadata": {},
   "source": [
    "`int.bit_length`()\n",
    "\n",
    "Return the number of bits necessary to represent an integer in binary, excluding the sign and leading zeros:\n",
    "\n",
    "> 返回用二进制表示一个整数所需的比特数，不包括符号和前导零："
   ]
  },
  {
   "cell_type": "code",
   "execution_count": 11,
   "id": "681c4038-83dd-4abe-8a8a-0d37c9cad048",
   "metadata": {},
   "outputs": [
    {
     "data": {
      "text/plain": [
       "'-0b100101'"
      ]
     },
     "execution_count": 11,
     "metadata": {},
     "output_type": "execute_result"
    },
    {
     "data": {
      "text/plain": [
       "6"
      ]
     },
     "execution_count": 11,
     "metadata": {},
     "output_type": "execute_result"
    },
    {
     "data": {
      "text/plain": [
       "3"
      ]
     },
     "execution_count": 11,
     "metadata": {},
     "output_type": "execute_result"
    }
   ],
   "source": [
    "# 并不能直接用一个整数常量来调用这个方法,直接调用会引发 SyntaxError: invalid decimal literal\n",
    "# 需要将整数常量赋值给一个变量，然后才能调用该方法\n",
    "n = -37\n",
    "bin(n)\n",
    "n.bit_length()\n",
    "\n",
    "m = 4\n",
    "m.bit_length()"
   ]
  },
  {
   "cell_type": "markdown",
   "id": "0cf3e006-2261-4db4-96ea-a6d7970a30ec",
   "metadata": {},
   "source": [
    "More precisely, if `x` is nonzero, then `x.bit_length()` is the unique positive integer `k` such that `2**(k-1) <= abs(x) < 2**k`. Equivalently, when `abs(x)` is small enough to have a correctly rounded logarithm, then `k = 1 + int(log(abs(x), 2))`. If `x` is zero, then `x.bit_length()` returns `0`.\n",
    "\n",
    "Equivalent to:\n",
    "\n",
    "> 更确切地说，如果 `x` 是非零，那么 `x.bit_length()` 是唯一的正整数 `k`，使得 `2**(k-1)<= abs(x)< 2**k`。等价地，当 `abs(x)` 小到足以有一个正确的四舍五入的对数时，那么 `k = 1 + int(log(abs(x), 2))`。如果 `x` 是零，那么 `x.bit_length()` 返回`0`。\n",
    ">\n",
    "> 相当于:"
   ]
  },
  {
   "cell_type": "code",
   "execution_count": 12,
   "id": "62f90de4-63f2-4385-99b5-c00adf8801ae",
   "metadata": {},
   "outputs": [],
   "source": [
    "def bit_length(self):\n",
    "    s = bin(self)       # binary representation:  bin(-37) --> '-0b100101'\n",
    "    s = s.lstrip('-0b') # remove leading zeros and minus sign\n",
    "    return len(s)       # len('100101') --> 6"
   ]
  },
  {
   "cell_type": "markdown",
   "id": "c85b2fb5-692e-400c-9db9-cbd5d06dd752",
   "metadata": {},
   "source": [
    "*New in version 3.1.*"
   ]
  },
  {
   "cell_type": "markdown",
   "id": "ac242404-44d6-4188-afac-6bad9e2e2baa",
   "metadata": {},
   "source": [
    "`int.bit_count`()\n",
    "\n",
    "Return the number of ones in the binary representation of the absolute value of the integer. This is also known as the population count. Example:\n",
    "\n",
    "> `int.bit_count`()\n",
    ">\n",
    "> 返回整数绝对值的二进制表示法中的1的数量。这也被称为总数。例子："
   ]
  },
  {
   "cell_type": "code",
   "execution_count": 13,
   "id": "6fbd9773-0e89-4c36-a7cf-49d2783935e6",
   "metadata": {},
   "outputs": [
    {
     "data": {
      "text/plain": [
       "'0b10011'"
      ]
     },
     "execution_count": 13,
     "metadata": {},
     "output_type": "execute_result"
    },
    {
     "data": {
      "text/plain": [
       "3"
      ]
     },
     "execution_count": 13,
     "metadata": {},
     "output_type": "execute_result"
    },
    {
     "data": {
      "text/plain": [
       "3"
      ]
     },
     "execution_count": 13,
     "metadata": {},
     "output_type": "execute_result"
    }
   ],
   "source": [
    "n = 19\n",
    "bin(n)\n",
    "\n",
    "n.bit_count()    # 返回该变量整数二进制表示法中1的数量\n",
    "(-n).bit_count()"
   ]
  },
  {
   "cell_type": "markdown",
   "id": "1879fc0b-b30a-489f-8bde-901347e65a42",
   "metadata": {},
   "source": [
    "Equivalent to:"
   ]
  },
  {
   "cell_type": "code",
   "execution_count": 14,
   "id": "ad73fac4-e9fe-43a3-bc8f-210d076ca979",
   "metadata": {},
   "outputs": [],
   "source": [
    "def bit_count(self):\n",
    "    return bin(self).count(\"1\")"
   ]
  },
  {
   "cell_type": "markdown",
   "id": "c04b7444-21b1-46ee-a8ec-86c0af46c61e",
   "metadata": {},
   "source": [
    "*New in version 3.10.*"
   ]
  },
  {
   "cell_type": "markdown",
   "id": "c6bc0e91-8876-4d5e-99a1-c0d1b9dbefd3",
   "metadata": {},
   "source": [
    "`int.to_bytes`(*length*, *byteorder*, _*_, *signed=False*)\n",
    "\n",
    "Return an array of bytes representing an integer.\n",
    "\n",
    "> `int.to_bytes`(*length*, *byteorder*, _*_, *signed=False*)\n",
    ">\n",
    "> 返回一个代表整数的字节数组："
   ]
  },
  {
   "cell_type": "code",
   "execution_count": 15,
   "id": "163952e2-3fb9-44c2-9f2c-54e6401732ff",
   "metadata": {},
   "outputs": [
    {
     "data": {
      "text/plain": [
       "b'\\x04\\x00'"
      ]
     },
     "execution_count": 15,
     "metadata": {},
     "output_type": "execute_result"
    },
    {
     "data": {
      "text/plain": [
       "b'\\x00\\x00\\x00\\x00\\x00\\x00\\x00\\x00\\x04\\x00'"
      ]
     },
     "execution_count": 15,
     "metadata": {},
     "output_type": "execute_result"
    },
    {
     "data": {
      "text/plain": [
       "b'\\xff\\xff\\xff\\xff\\xff\\xff\\xff\\xff\\xfc\\x00'"
      ]
     },
     "execution_count": 15,
     "metadata": {},
     "output_type": "execute_result"
    },
    {
     "data": {
      "text/plain": [
       "b'\\xe8\\x03'"
      ]
     },
     "execution_count": 15,
     "metadata": {},
     "output_type": "execute_result"
    }
   ],
   "source": [
    "(1024).to_bytes(2, byteorder='big')\n",
    "(1024).to_bytes(10, byteorder='big')\n",
    "(-1024).to_bytes(10, byteorder='big', signed=True)\n",
    "\n",
    "x = 1000\n",
    "x.to_bytes((x.bit_length() + 7)  // 8, byteorder='little') "
   ]
  },
  {
   "cell_type": "markdown",
   "id": "bbf96d72-7d9f-4416-a1e2-7b79ec2a2b61",
   "metadata": {},
   "source": [
    "*classmethod* `int.from_bytes`(*bytes*, *byteorder*, _*_, *signed=False*)\n",
    "\n",
    "Return the integer represented by the given array of bytes.\n",
    "\n",
    "> *classmethod* `int.from_bytes`(*bytes*, *byteorder*, _*_, *signed=False*)\n",
    ">\n",
    "> 返回由给定字节数组代表的整数。"
   ]
  },
  {
   "cell_type": "code",
   "execution_count": 16,
   "id": "0c0e4021-7522-4884-921a-6be4b3b89769",
   "metadata": {},
   "outputs": [
    {
     "data": {
      "text/plain": [
       "16"
      ]
     },
     "execution_count": 16,
     "metadata": {},
     "output_type": "execute_result"
    },
    {
     "data": {
      "text/plain": [
       "4096"
      ]
     },
     "execution_count": 16,
     "metadata": {},
     "output_type": "execute_result"
    },
    {
     "data": {
      "text/plain": [
       "-1024"
      ]
     },
     "execution_count": 16,
     "metadata": {},
     "output_type": "execute_result"
    },
    {
     "data": {
      "text/plain": [
       "64512"
      ]
     },
     "execution_count": 16,
     "metadata": {},
     "output_type": "execute_result"
    },
    {
     "data": {
      "text/plain": [
       "16711680"
      ]
     },
     "execution_count": 16,
     "metadata": {},
     "output_type": "execute_result"
    }
   ],
   "source": [
    "int.from_bytes(b'\\x00\\x10', byteorder='big')\n",
    "int.from_bytes(b'\\x00\\x10', byteorder='little')\n",
    "\n",
    "int.from_bytes(b'\\xfc\\x00', byteorder='big', signed=True)\n",
    "int.from_bytes(b'\\xfc\\x00', byteorder='big', signed=False)\n",
    "\n",
    "int.from_bytes([255, 0, 0], byteorder='big')"
   ]
  },
  {
   "cell_type": "markdown",
   "id": "b73b2e13-efb8-4a88-b3d7-49a45fb4493d",
   "metadata": {},
   "source": [
    "The argument *bytes* must either be a [bytes-like object](https://docs.python.org/3/glossary.html#term-bytes-like-object) or an iterable producing bytes.\n",
    "\n",
    "The *byteorder* argument determines the byte order used to represent the integer. If *byteorder* is `\"big\"`, the most significant byte is at the beginning of the byte array. If *byteorder* is `\"little\"`, the most significant byte is at the end of the byte array. To request the native byte order of the host system, use [`sys.byteorder`](https://docs.python.org/3/library/sys.html#sys.byteorder) as the byte order value.\n",
    "\n",
    "The *signed* argument indicates whether two’s complement is used to represent the integer.\n",
    "\n",
    "*New in version 3.2.*\n",
    "\n",
    "> 参数*bytes*必须是一个[类字节对象](https://docs.python.org/3/glossary.html#term-bytes-like-object)或者是一个产生字节的可迭代对象。\n",
    ">\n",
    "> 参数*byteorder*决定了用来表示整数的字节顺序。如果*byteorder*是 `\"big\"`，最重要的字节就在字节数组的开头。如果*byteorder*是 `\"little\"`，最重要的字节在字节数组的末尾。要请求主机系统的本地字节序，使用 [`sys.byteorder`](https://docs.python.org/3/library/sys.html#sys.byteorder) 作为字节序值。\n",
    ">\n",
    "> 参数*signed*表示是否使用二进制补码来表示整数。\n",
    ">\n",
    "> *在3.2.版本中新增*"
   ]
  },
  {
   "cell_type": "markdown",
   "id": "eefb0b4e-9c11-46aa-8fde-1b8195959e1f",
   "metadata": {},
   "source": [
    "`int.as_integer_ratio`()\n",
    "\n",
    "Return a pair of integers whose ratio is exactly equal to the original integer and with a positive denominator. The integer ratio of integers (whole numbers) is always the integer as the numerator and `1` as the denominator.\n",
    "\n",
    "*New in version 3.8.*\n",
    "\n",
    "> `int.as_integer_ratio`()\n",
    ">\n",
    "> 返回一对整数，其比值正好等于原始整数，且分母为正。整数（整个数字）的整数比总是以整数为分子，以 `1` 为分母。\n",
    ">\n",
    "> *在3.8.版本中新增*"
   ]
  },
  {
   "cell_type": "markdown",
   "id": "0c74d472-b8b7-4ed4-8ad8-b7d2d5ee1575",
   "metadata": {},
   "source": [
    "### Additional Methods on Float"
   ]
  },
  {
   "cell_type": "markdown",
   "id": "0719ba35-268f-4fb0-93df-c729901121ad",
   "metadata": {},
   "source": [
    "The float type implements the [`numbers.Real`](https://docs.python.org/3/library/numbers.html#numbers.Real) [abstract base class](https://docs.python.org/3/glossary.html#term-abstract-base-class). float also has the following additional methods.\n",
    "\n",
    "> float类型实现了 [`numbers.Real`](https://docs.python.org/3/library/numbers.html#numbers.Real) [抽象基类](https://docs.python.org/3/glossary.html#term-abstract-base-class)。float还具有以下额外的方法："
   ]
  },
  {
   "cell_type": "markdown",
   "id": "1bc5eed9-65c0-410c-a77d-8e63a8b874dd",
   "metadata": {},
   "source": [
    "`float.as_integer_ratio`()\n",
    "\n",
    "Return a pair of integers whose ratio is exactly equal to the original float and with a positive denominator. Raises [`OverflowError`](https://docs.python.org/3/library/exceptions.html#OverflowError) on infinities and a [`ValueError`](https://docs.python.org/3/library/exceptions.html#ValueError) on NaNs.\n",
    "\n",
    "> `float.as_integer_ratio`()\n",
    ">\n",
    "> 返回一对整数，其比率正好等于原始浮点数，且分母为正。在无穷大的情况下会产生[`OverflowError`](https://docs.python.org/3/library/exceptions.html#OverflowError)，在NaN的情况下会产生 [`ValueError`](https://docs.python.org/3/library/exceptions.html#ValueError) 。"
   ]
  },
  {
   "cell_type": "code",
   "execution_count": 17,
   "id": "20c7b380-ebd2-4c2f-a6bd-8b6cd16da6f9",
   "metadata": {},
   "outputs": [
    {
     "data": {
      "text/plain": [
       "(7093169413108531, 2251799813685248)"
      ]
     },
     "execution_count": 17,
     "metadata": {},
     "output_type": "execute_result"
    }
   ],
   "source": [
    "f = 3.15\n",
    "f.as_integer_ratio()"
   ]
  },
  {
   "cell_type": "markdown",
   "id": "f2f8cf92-fe53-44ac-8c2d-3b6469f9e7b8",
   "metadata": {},
   "source": [
    "`float.is_integer`()\n",
    "\n",
    "Return `True` if the float instance is finite with integral value, and `False` otherwise:\n",
    "\n",
    "> `float.is_integer`()\n",
    ">\n",
    "> 如果float实例是有限的构成值，返回 `True`，否则返回 `False`。"
   ]
  },
  {
   "cell_type": "code",
   "execution_count": 18,
   "id": "1dcd3884-c2ab-47b9-9d4e-263969d936ee",
   "metadata": {},
   "outputs": [
    {
     "data": {
      "text/plain": [
       "True"
      ]
     },
     "execution_count": 18,
     "metadata": {},
     "output_type": "execute_result"
    },
    {
     "data": {
      "text/plain": [
       "False"
      ]
     },
     "execution_count": 18,
     "metadata": {},
     "output_type": "execute_result"
    }
   ],
   "source": [
    "(-2.0).is_integer()\n",
    "(3.2).is_integer()"
   ]
  },
  {
   "cell_type": "markdown",
   "id": "843eda1b-687c-488c-80a6-2ec7f3b8fefe",
   "metadata": {},
   "source": [
    "Two methods support conversion to and from hexadecimal strings. Since Python’s floats are stored internally as binary numbers, converting a float to or from a *decimal* string usually involves a small rounding error. In contrast, hexadecimal strings allow exact representation and specification of floating-point numbers. This can be useful when debugging, and in numerical work.\n",
    "\n",
    "> 有两种方法支持与**十六进制**字符串的转换。由于Python的浮点数在内部是作为二进制数存储的，将浮点数转换为*十进制*字符串或从*十进制*字符串中转换，通常会有一个小的舍入误差。相比之下，十六进制字符串允许精确表示和指定浮点数。这在调试和数字工作中很有用。"
   ]
  },
  {
   "cell_type": "markdown",
   "id": "b6207964-5f71-428f-8967-b7f62671347e",
   "metadata": {},
   "source": [
    "`float.hex`()\n",
    "\n",
    "Return a representation of a floating-point number as a hexadecimal string. For finite floating-point numbers, this representation will always include a leading `0x` and a trailing `p` and exponent.\n",
    "\n",
    "> `float.hex`()\n",
    ">\n",
    "> 返回一个浮点数的十六进制字符串的表示。对于有限的浮点数，这个表示法总是包括一个前导数`0x `和一个尾数 `p` 及指数。"
   ]
  },
  {
   "cell_type": "markdown",
   "id": "54552b65-ff18-4455-9c87-3788afe46697",
   "metadata": {},
   "source": [
    "*classmethod* `float.fromhex`(*s*)\n",
    "\n",
    "Class method to return the float represented by a hexadecimal string *s*. The string *s* may have leading and trailing whitespace.\n",
    "\n",
    "> *classmethod* `float.fromhex`(*s*)\n",
    ">\n",
    "> 类方法，返回由十六进制字符串*s*表示的浮点数。字符串*s*可以有前导和尾部的空白。"
   ]
  },
  {
   "cell_type": "markdown",
   "id": "ee1ea35f-edea-4c68-9b25-bf361ee89aa3",
   "metadata": {},
   "source": [
    "Note that [`float.hex()`](https://docs.python.org/3/library/stdtypes.html#float.hex) is an instance method, while [`float.fromhex()`](https://docs.python.org/3/library/stdtypes.html#float.fromhex) is a class method.\n",
    "\n",
    "A hexadecimal string takes the form:\n",
    "\n",
    "> 注意，[`float.hex()` ](https://docs.python.org/3/library/stdtypes.html#float.hex)是一个实例方法，而 [`float.fromhex()`](https://docs.python.org/3/library/stdtypes.html#float.fromhex) 是一个类方法。\n",
    ">\n",
    "> 十六进制的字符串的形式是："
   ]
  },
  {
   "cell_type": "raw",
   "id": "8f84920b-967f-4e39-9529-f8ec40b26d10",
   "metadata": {},
   "source": [
    "[sign] ['0x'] integer ['.' fraction] ['p' exponent]"
   ]
  },
  {
   "cell_type": "markdown",
   "id": "b468c65e-b8ae-4630-8bce-e54663dbd71e",
   "metadata": {},
   "source": [
    "where the optional `sign` may by either `+` or `-`, `integer` and `fraction` are strings of hexadecimal digits, and `exponent` is a decimal integer with an optional leading sign. Case is not significant, and there must be at least one hexadecimal digit in either the integer or the fraction. This syntax is similar to the syntax specified in section 6.4.4.2 of the C99 standard, and also to the syntax used in Java 1.5 onwards. In particular, the output of [`float.hex()`](https://docs.python.org/3/library/stdtypes.html#float.hex) is usable as a hexadecimal floating-point literal in C or Java code, and hexadecimal strings produced by C’s `%a` format character or Java’s `Double.toHexString` are accepted by [`float.fromhex()`](https://docs.python.org/3/library/stdtypes.html#float.fromhex).\n",
    "\n",
    "Note that the exponent is written in decimal rather than hexadecimal, and that it gives the power of 2 by which to multiply the coefficient. For example, the hexadecimal string `0x3.a7p10` represents the floating-point number `(3 + 10./16 + 7./16**2) * 2.0**10`, or `3740.0`:\n",
    "\n",
    "> 其中可选的 `sign` 可以是 `+` 或 `-`，`integer` 和 `fraction` 是十六进制的数字串，`exponent` 是一个十进制的整数，有一个可选的前导符号。大小写不重要，整数或分数中必须至少有一个十六进制数字。这种语法类似于C99标准第6.4.4.2节中规定的语法，也类似于Java 1.5以上版本中使用的语法。特别是，[`float.hex()`](https://docs.python.org/3/library/stdtypes.html#float.hex) 的输出可以作为C或Java代码中的十六进制浮点符号使用，C的 `%a` 格式字符或Java的 `Double.toHexString` 产生的十六进制字符串可以被 [`float.fromhex()`](https://docs.python.org/3/library/stdtypes.html#float.fromhex) 所接受。\n",
    ">\n",
    "> 请注意，指数是用十进制写的，而不是十六进制，它给出了系数所乘的2的幂。例如，十六进制字符串 `0x3.a7p10` 表示浮点数 `（3+10./16+7./16**2）*2.0**10`，或者 `3740.0`。"
   ]
  },
  {
   "cell_type": "code",
   "execution_count": 19,
   "id": "3573ca91-686e-4a16-905a-75d726bd358e",
   "metadata": {},
   "outputs": [
    {
     "data": {
      "text/plain": [
       "3740.0"
      ]
     },
     "execution_count": 19,
     "metadata": {},
     "output_type": "execute_result"
    }
   ],
   "source": [
    "float.fromhex('0x3.a7p10')"
   ]
  },
  {
   "cell_type": "markdown",
   "id": "bbd5099f-e2f8-422c-8c6b-b973122f45a1",
   "metadata": {},
   "source": [
    "Applying the reverse conversion to `3740.0` gives a different hexadecimal string representing the same number:\n",
    "\n",
    "> 对 `3740.0` 进行反向转换，可以得到代表同一数字的不同十六进制字符串："
   ]
  },
  {
   "cell_type": "code",
   "execution_count": 20,
   "id": "9344f62b-aa5c-463c-9cdf-da025bbbca48",
   "metadata": {},
   "outputs": [
    {
     "data": {
      "text/plain": [
       "'0x1.d380000000000p+11'"
      ]
     },
     "execution_count": 20,
     "metadata": {},
     "output_type": "execute_result"
    }
   ],
   "source": [
    "float.hex(3740.0)"
   ]
  },
  {
   "cell_type": "markdown",
   "id": "734855ec-162a-45bb-991d-fe997b792b32",
   "metadata": {},
   "source": [
    "### Hashing of numeric types"
   ]
  },
  {
   "cell_type": "markdown",
   "id": "b0eefbd8-486e-48b5-923e-86998caeacb2",
   "metadata": {},
   "source": [
    "For numbers `x` and `y`, possibly of different types, it’s a requirement that `hash(x) == hash(y)` whenever `x == y` (see the [`__hash__()`](https://docs.python.org/3/reference/datamodel.html#object.__hash__) method documentation for more details). For ease of implementation and efficiency across a variety of numeric types (including [`int`](https://docs.python.org/3/library/functions.html#int), [`float`](https://docs.python.org/3/library/functions.html#float), [`decimal.Decimal`](https://docs.python.org/3/library/decimal.html#decimal.Decimal) and [`fractions.Fraction`](https://docs.python.org/3/library/fractions.html#fractions.Fraction)) Python’s hash for numeric types is based on a single mathematical function that’s defined for any rational number, and hence applies to all instances of [`int`](https://docs.python.org/3/library/functions.html#int) and [`fractions.Fraction`](https://docs.python.org/3/library/fractions.html#fractions.Fraction), and all finite instances of [`float`](https://docs.python.org/3/library/functions.html#float) and [`decimal.Decimal`](https://docs.python.org/3/library/decimal.html#decimal.Decimal). Essentially, this function is given by reduction modulo `P` for a fixed prime `P`. The value of `P` is made available to Python as the `modulus` attribute of [`sys.hash_info`](https://docs.python.org/3/library/sys.html#sys.hash_info).\n",
    "\n",
    "**CPython implementation detail:** Currently, the prime used is `P = 2**31 - 1` on machines with 32-bit C longs and `P = 2**61 - 1` on machines with 64-bit C longs.\n",
    "\n",
    "> 对于可能是不同类型的数字 `x` 和 `y`，只要 `x == y`，就要求 `hash(x) == hash(y)`（更多细节见 [`__hash__()`](https://docs.python.org/3/reference/datamodel.html#object.__hash__) 方法文档）。为了便于实现和提高各种数字类型的效率 (包括 [`int`](https://docs.python.org/3/library/functions.html#int), [`float`](https://docs.python.org/3/library/functions.html#float), [`decimal.Decimal`](https://docs.python.org/3/library/decimal.html#decimal.Decimal) 和 [`fractionions.Fraction`](https://docs.python.org/3/library/fractions.html#fractions.Fraction) Python 对数字类型的散列是基于一个为任何有理数定义的数学函数，因此适用于 [`int`](https://docs.python.org/3/library/functions.html#int) 和 [`fractions.Fraction`](https://docs.python.org/3/library/fractions.html#fractions.Fraction) 的所有实例，以及 [`float`](https://docs.python.org/3/library/functions.html#float) 和 [`decimal.Decimal`](https://docs.python.org/3/library/decimal.html#decimal.Decimal) 的所有有限实例。本质上，这个函数是由固定素数 `P` 的还原模子给出的。`P` 的值作为 [`sys.hash_info`](https://docs.python.org/3/library/sys.html#sys.hash_info) 的 `modulus` 属性提供给Python使用。\n",
    ">\n",
    "> **CPython的实现细节：**目前，在32位C语言的机器上使用的素数是 `P = 2**31 - 1`，在64位C语言的机器上是 `P = 2**61 - 1`。"
   ]
  },
  {
   "cell_type": "markdown",
   "id": "7b70d68c-f056-4be2-a337-a5d02a1e7dab",
   "metadata": {},
   "source": [
    "Here are the rules in detail:\n",
    "\n",
    "- If `x = m / n` is a nonnegative rational number and `n` is not divisible by `P`, define `hash(x)` as `m * invmod(n, P) % P`, where `invmod(n, P)` gives the inverse of `n` modulo `P`.\n",
    "- If `x = m / n` is a nonnegative rational number and `n` is divisible by `P` (but `m` is not) then `n` has no inverse modulo `P` and the rule above doesn’t apply; in this case define `hash(x)` to be the constant value `sys.hash_info.inf`.\n",
    "- If `x = m / n` is a negative rational number define `hash(x)` as `-hash(-x)`. If the resulting hash is `-1`, replace it with `-2`.\n",
    "- The particular values `sys.hash_info.inf` and `-sys.hash_info.inf` are used as hash values for positive infinity or negative infinity (respectively).\n",
    "- For a [`complex`](https://docs.python.org/3/library/functions.html#complex) number `z`, the hash values of the real and imaginary parts are combined by computing `hash(z.real) + sys.hash_info.imag * hash(z.imag)`, reduced modulo `2**sys.hash_info.width` so that it lies in `range(-2**(sys.hash_info.width - 1), 2**(sys.hash_info.width - 1))`. Again, if the result is `-1`, it’s replaced with `-2`.\n",
    "\n",
    "> 下面是详细的规则：\n",
    ">\n",
    "> - 如果 `x = m / n` 是一个非负的有理数，并且 `n` 不能被 `P` 整除，将 `hash(x)` 定义为 `m * invmod(n, P) % P`，其中 `invmod(n, P)` 给出了 `n` 的反数 `P`。\n",
    "> - 如果 `x = m / n` 是一个非负的有理数，并且 `n` 能被 `P` 整除（但 `m` 不能），那么 `n` 没有对`P` 的逆运算，上面的规则就不适用；在这种情况下，定义 `hash(x)` 为常数`sys.hash_info.inf`。\n",
    "> - 如果 `x = m / n` 是一个负的有理数，定义 `hash(x)` 为 `hash(-x)`。如果得到的哈希值是 `-1`，则用 `-2` 代替。\n",
    "> - 特定的值 `sys.hash_info.inf`和`sys.hash_info.inf` 被用来作为正无穷大或负无穷大的哈希值（分别）。\n",
    "> - 对于一个[复数 ](https://docs.python.org/3/library/functions.html#complex)`z`，实部和虚部的哈希值通过计算 `hash(z.real)+ sys.hash_info.imag * hash(z.imag)`来组合，并以 `2**sys.hash_info.width`为模数，使其位于`range(-2**(sys.hash_info.width - 1), 2**(sys.hash_info.width - 1)`。同样，如果结果是`-1'，它将被替换为`-2'。"
   ]
  },
  {
   "cell_type": "markdown",
   "id": "ea8ccfa5-5575-4e09-b156-a16de4af99a2",
   "metadata": {},
   "source": [
    "To clarify the above rules, here’s some example Python code, equivalent to the built-in hash, for computing the hash of a rational number, [`float`](https://docs.python.org/3/library/functions.html#float), or [`complex`](https://docs.python.org/3/library/functions.html#complex):\n",
    "\n",
    "> 为了说明上述规则，这里有一些Python代码的例子，相当于内置的哈希，用于计算一个有理数的哈希，[`float`](https://docs.python.org/3/library/functions.html#float)，或[`complex`](https://docs.python.org/3/library/functions.html#complex)："
   ]
  },
  {
   "cell_type": "code",
   "execution_count": 21,
   "id": "b4825426-b0ff-48b1-a3a0-8e348c385b8e",
   "metadata": {},
   "outputs": [],
   "source": [
    "import sys, math\n",
    "\n",
    "def hash_fraction(m, n):\n",
    "    \"\"\"Compute the hash of a rational number m / n.\n",
    "\n",
    "    Assumes m and n are integers, with n positive.\n",
    "    Equivalent to hash(fractions.Fraction(m, n)).\n",
    "\n",
    "    \"\"\"\n",
    "    P = sys.hash_info.modulus\n",
    "    # Remove common factors of P.  (Unnecessary if m and n already coprime.)\n",
    "    while m % P == n % P == 0:\n",
    "        m, n = m // P, n // P\n",
    "\n",
    "    if n % P == 0:\n",
    "        hash_value = sys.hash_info.inf\n",
    "    else:\n",
    "        # Fermat's Little Theorem: pow(n, P-1, P) is 1, so\n",
    "        # pow(n, P-2, P) gives the inverse of n modulo P.\n",
    "        hash_value = (abs(m) % P) * pow(n, P - 2, P) % P\n",
    "    if m < 0:\n",
    "        hash_value = -hash_value\n",
    "    if hash_value == -1:\n",
    "        hash_value = -2\n",
    "    return hash_value"
   ]
  },
  {
   "cell_type": "code",
   "execution_count": 22,
   "id": "42cf9441-bcbd-4050-8324-c0a405b56ab0",
   "metadata": {},
   "outputs": [],
   "source": [
    "def hash_float(x):\n",
    "    \"\"\"Compute the hash of a float x.\"\"\"\n",
    "\n",
    "    if math.isnan(x):\n",
    "        return object.__hash__(x)\n",
    "    elif math.isinf(x):\n",
    "        return sys.hash_info.inf if x > 0 else -sys.hash_info.inf\n",
    "    else:\n",
    "        return hash_fraction(*x.as_integer_ratio())\n",
    "\n",
    "def hash_complex(z):\n",
    "    \"\"\"Compute the hash of a complex number z.\"\"\"\n",
    "\n",
    "    hash_value = hash_float(z.real) + sys.hash_info.imag * hash_float(z.imag)\n",
    "    # do a signed reduction modulo 2**sys.hash_info.width\n",
    "    M = 2**(sys.hash_info.width - 1)\n",
    "    hash_value = (hash_value & (M - 1)) - (hash_value & M)\n",
    "    if hash_value == -1:\n",
    "        hash_value = -2\n",
    "    return hash_value"
   ]
  },
  {
   "cell_type": "markdown",
   "id": "df3bd662-d814-4038-bf8c-8152a9f526ff",
   "metadata": {},
   "source": [
    "## Iterator Types"
   ]
  },
  {
   "cell_type": "markdown",
   "id": "ece3c761-b5ce-4840-973a-cb685222ebaa",
   "metadata": {},
   "source": [
    "Python supports a concept of iteration over containers. This is implemented using two distinct methods; these are used to allow user-defined classes to support iteration. Sequences, described below in more detail, always support the iteration methods.\n",
    "\n",
    "One method needs to be defined for container objects to provide [iterable](https://docs.python.org/3/glossary.html#term-iterable) support:\n",
    "\n",
    "> Python 支持对容器进行迭代的概念。这是用两种不同的方法实现的；这些方法被用来允许用户定义的类支持迭代。下面详细描述的序列，总是支持迭代方法。\n",
    ">\n",
    "> 需要为容器对象定义一个方法来提供 [iterable](https://docs.python.org/3/glossary.html#term-iterable) 支持："
   ]
  },
  {
   "cell_type": "markdown",
   "id": "12a49439-b12d-4073-a9e9-e0c6f1305e9b",
   "metadata": {},
   "source": [
    "`container.__iter__`()\n",
    "\n",
    "Return an [iterator](https://docs.python.org/3/glossary.html#term-iterator) object. The object is required to support the iterator protocol described below. If a container supports different types of iteration, additional methods can be provided to specifically request iterators for those iteration types. (An example of an object supporting multiple forms of iteration would be a tree structure which supports both breadth-first and depth-first traversal.) This method corresponds to the [`tp_iter`](https://docs.python.org/3/c-api/typeobj.html#c.PyTypeObject.tp_iter) slot of the type structure for Python objects in the Python/C API.\n",
    "\n",
    "> `container.__iter__`()\n",
    ">\n",
    "> 返回一个[iterator](https://docs.python.org/3/glossary.html#term-iterator)对象。该对象需要支持下面描述的迭代器协议。如果一个容器支持不同类型的迭代，可以提供额外的方法来专门请求这些迭代类型的迭代器。(一个支持多种形式迭代的对象的例子是一个同时支持广度优先和深度优先遍历的树结构）。这个方法对应于 Python/C API 中 Python 对象类型结构的 [`tp_iter`](https://docs.python.org/3/c-api/typeobj.html#c.PyTypeObject.tp_iter) 槽。"
   ]
  },
  {
   "cell_type": "markdown",
   "id": "a4010076-cfe0-4b1f-8ea5-419a521772aa",
   "metadata": {},
   "source": [
    "The iterator objects themselves are required to support the following two methods, which together form the *iterator protocol*:\n",
    "\n",
    "- `iterator.__iter__`()\n",
    "\n",
    "  Return the [iterator](https://docs.python.org/3/glossary.html#term-iterator) object itself. This is required to allow both containers and iterators to be used with the [`for`](https://docs.python.org/3/reference/compound_stmts.html#for) and [`in`](https://docs.python.org/3/reference/expressions.html#in) statements. This method corresponds to the [`tp_iter`](https://docs.python.org/3/c-api/typeobj.html#c.PyTypeObject.tp_iter) slot of the type structure for Python objects in the Python/C API.\n",
    "\n",
    "- `iterator.__next__`()\n",
    "\n",
    "  Return the next item from the [iterator](https://docs.python.org/3/glossary.html#term-iterator). If there are no further items, raise the [`StopIteration`](https://docs.python.org/3/library/exceptions.html#StopIteration) exception. This method corresponds to the [`tp_iternext`](https://docs.python.org/3/c-api/typeobj.html#c.PyTypeObject.tp_iternext) slot of the type structure for Python objects in the Python/C API.\n",
    "\n",
    "> 迭代器对象本身需要支持以下两个方法，它们共同构成了*迭代器协议*：\n",
    ">\n",
    "> - `iterator.__iter__`()\n",
    ">\n",
    ">   返回 [iterator](https://docs.python.org/3/glossary.html#term-iterator) 对象本身。这是允许容器和迭代器与 [`for`](https://docs.python.org/3/reference/compound_stmts.html#for) 和 [`in`](https://docs.python.org/3/reference/expressions.html#in) 语句一起使用的要求。这个方法对应于 Python/C API 中 Python 对象类型结构的 [`tp_iter`](https://docs.python.org/3/c-api/typeobj.html#c.PyTypeObject.tp_iter) 槽。\n",
    ">\n",
    "> - `iterator.__next__`()\n",
    ">\n",
    ">   返回[iterator](https://docs.python.org/3/glossary.html#term-iterator)中的下一个项目。如果没有进一步的项目，引发 [`StopIteration`](https://docs.python.org/3/library/exceptions.html#StopIteration) 异常。这个方法对应于 Python/C API 中 Python 对象类型结构的 [`tp_iternext`](https://docs.python.org/3/c-api/typeobj.html#c.PyTypeObject.tp_iternext) 槽。"
   ]
  },
  {
   "cell_type": "code",
   "execution_count": 23,
   "id": "4cba4410-8ee4-4cad-ad76-2eb39092a79a",
   "metadata": {},
   "outputs": [
    {
     "data": {
      "text/plain": [
       "1"
      ]
     },
     "execution_count": 23,
     "metadata": {},
     "output_type": "execute_result"
    },
    {
     "data": {
      "text/plain": [
       "3"
      ]
     },
     "execution_count": 23,
     "metadata": {},
     "output_type": "execute_result"
    },
    {
     "data": {
      "text/plain": [
       "5"
      ]
     },
     "execution_count": 23,
     "metadata": {},
     "output_type": "execute_result"
    },
    {
     "data": {
      "text/plain": [
       "7"
      ]
     },
     "execution_count": 23,
     "metadata": {},
     "output_type": "execute_result"
    },
    {
     "data": {
      "text/plain": [
       "8"
      ]
     },
     "execution_count": 23,
     "metadata": {},
     "output_type": "execute_result"
    }
   ],
   "source": [
    "num = [1, 3, 5, 7, 8]\n",
    "n = num.__iter__()\n",
    "n.__next__()\n",
    "n.__next__()\n",
    "n.__next__()\n",
    "n.__next__()\n",
    "n.__next__()\n"
   ]
  },
  {
   "cell_type": "markdown",
   "id": "65efe613-cc8f-4cf6-8112-f1a1c59290e5",
   "metadata": {},
   "source": [
    "Python defines several iterator objects to support iteration over general and specific sequence types, dictionaries, and other more specialized forms. The specific types are not important beyond their implementation of the iterator protocol.\n",
    "\n",
    "Once an iterator’s [`__next__()`](https://docs.python.org/3/library/stdtypes.html#iterator.__next__) method raises [`StopIteration`](https://docs.python.org/3/library/exceptions.html#StopIteration), it must continue to do so on subsequent calls. Implementations that do not obey this property are deemed broken.\n",
    "\n",
    "> Python 定义了几个迭代器对象，以支持对一般和特定的序列类型、字典和其它更专门的形式进行迭代。除了对迭代器协议的实现之外，具体的类型并不重要。\n",
    ">\n",
    "> 一旦一个迭代器的 [`__next__()`](https://docs.python.org/3/library/stdtypes.html#iterator.__next__) 方法引发 [`StopIteration`](https://docs.python.org/3/library/exceptions.html#StopIteration)，它在随后的调用中必须继续这样做。不遵守这个属性的实现被认为是错误的。"
   ]
  },
  {
   "cell_type": "markdown",
   "id": "09e13403-bec6-438b-b15f-2453b89b3828",
   "metadata": {},
   "source": [
    "### Generator Types"
   ]
  },
  {
   "cell_type": "markdown",
   "id": "1be60ad0-5cae-4367-9b71-713f6de32d53",
   "metadata": {},
   "source": [
    "Python’s [generator](https://docs.python.org/3/glossary.html#term-generator)s provide a convenient way to implement the iterator protocol. If a container object’s `__iter__()` method is implemented as a generator, it will automatically return an iterator object (technically, a generator object) supplying the `__iter__()` and [`__next__()`](https://docs.python.org/3/reference/expressions.html#generator.__next__) methods. More information about generators can be found in [the documentation for the yield expression](https://docs.python.org/3/reference/expressions.html#yieldexpr).\n",
    "\n",
    "> Python的[generator](https://docs.python.org/3/glossary.html#term-generator)提供了一种实现迭代器协议的方便方法。如果一个容器对象的 `__iter__()` 方法被实现为一个生成器，它将自动返回一个迭代器对象 (严格来说，是一个生成器对象)，提供 `__iter__()` 和 [`__next__()`](https://docs.python.org/3/reference/expressions.html#generator.__next__) 方法。关于生成器的更多信息可以在[yield表达式的文档](https://docs.python.org/3/reference/expressions.html#yieldexpr)中找到。"
   ]
  },
  {
   "cell_type": "markdown",
   "id": "65173950-127b-4be4-92d9-bfa2f92a7dc3",
   "metadata": {},
   "source": [
    "## Sequence Types — [`list`](https://docs.python.org/3/library/stdtypes.html#list), [`tuple`](https://docs.python.org/3/library/stdtypes.html#tuple), [`range`](https://docs.python.org/3/library/stdtypes.html#range)"
   ]
  },
  {
   "cell_type": "markdown",
   "id": "2e3c8e62-00fc-464d-aec9-6c22923777cb",
   "metadata": {},
   "source": [
    "There are three basic sequence types: lists, tuples, and range objects. Additional sequence types tailored for processing of [binary data](https://docs.python.org/3/library/stdtypes.html#binaryseq) and [text strings](https://docs.python.org/3/library/stdtypes.html#textseq) are described in dedicated sections.\n",
    "\n",
    "> 有三种基本的序列类型：列表、元组和range对象。为处理[二进制数据](https://docs.python.org/3/library/stdtypes.html#binaryseq)和[文本字符串](https://docs.python.org/3/library/stdtypes.html#textseq)而定制的其他序列类型在专门的章节中描述。"
   ]
  },
  {
   "cell_type": "markdown",
   "id": "f2a28a88-7e5b-40d7-8e8d-4d466f716aca",
   "metadata": {},
   "source": [
    "### Common Sequence Operations"
   ]
  },
  {
   "cell_type": "markdown",
   "id": "0c36c454-e522-42b8-8aac-7db6500ff247",
   "metadata": {},
   "source": [
    "The operations in the following table are supported by most sequence types, both mutable and immutable. The [`collections.abc.Sequence`](https://docs.python.org/3/library/collections.abc.html#collections.abc.Sequence) ABC is provided to make it easier to correctly implement these operations on custom sequence types.\n",
    "\n",
    "This table lists the sequence operations sorted in ascending priority. In the table, *s* and *t* are sequences of the same type, *n*, *i*, *j* and *k* are integers and *x* is an arbitrary object that meets any type and value restrictions imposed by *s*.\n",
    "\n",
    "The `in` and `not in` operations have the same priorities as the comparison operations. The `+` (concatenation) and `*` (repetition) operations have the same priority as the corresponding numeric operations. [3]\n",
    "\n",
    "> 下表中的操作被大多数序列类型所支持，包括可变的和不可变的。提供[`collections.abc.Sequence` ](https://docs.python.org/3/library/collections.abc.html#collections.abc.Sequence) ABC是为了方便在自定义序列类型上正确实现这些操作。\n",
    ">\n",
    "> 该表列出了按优先级升序排列的序列操作。在表中，*s*和*t*是相同类型的序列，*n*、*i*、*j*和*k*是整数，*x*是一个任意对象，满足*s*施加的任何类型和值限制。\n",
    ">\n",
    "> `in` 和 `not in` 操作的优先级与比较操作相同。`+`（连接）和 `*`（重复）操作的优先级与相应的数字操作相同。[3]"
   ]
  },
  {
   "cell_type": "markdown",
   "id": "85c16386-5e09-4306-af19-78fe8eeca11c",
   "metadata": {},
   "source": [
    "| Operation              | Result                                                       | Notes  |\n",
    "| :--------------------- | :----------------------------------------------------------- | :----- |\n",
    "| `x in s`               | `True` if an item of *s* is equal to *x*, else `False`       | (1)    |\n",
    "| `x not in s`           | `False` if an item of *s* is equal to *x*, else `True`       | (1)    |\n",
    "| `s + t`                | the concatenation of *s* and *t*                             | (6)(7) |\n",
    "| `s * n` or `n * s`     | equivalent to adding *s* to itself *n* times                 | (2)(7) |\n",
    "| `s[i]`                 | *i*th item of *s*, origin 0                                  | (3)    |\n",
    "| `s[i:j]`               | slice of *s* from *i* to *j*                                 | (3)(4) |\n",
    "| `s[i:j:k]`             | slice of *s* from *i* to *j* with step *k*                   | (3)(5) |\n",
    "| `len(s)`               | length of *s*                                                |        |\n",
    "| `min(s)`               | smallest item of *s*                                         |        |\n",
    "| `max(s)`               | largest item of *s*                                          |        |\n",
    "| `s.index(x[, i[, j]])` | index of the first occurrence of *x* in *s* (at or after index *i* and before index *j*) | (8)    |\n",
    "| `s.count(x)`           | total number of occurrences of *x* in *s*                    |        |"
   ]
  },
  {
   "cell_type": "markdown",
   "id": "71df1ca7-b00f-4f17-9326-c559c1d2237c",
   "metadata": {},
   "source": [
    "Sequences of the same type also support comparisons. In particular, tuples and lists are compared lexicographically by comparing corresponding elements. This means that to compare equal, every element must compare equal and the two sequences must be of the same type and have the same length. (For full details see [Comparisons](https://docs.python.org/3/reference/expressions.html#comparisons) in the language reference.)\n",
    "\n",
    "Forward and reversed iterators over mutable sequences access values using an index. That index will continue to march forward (or backward) even if the underlying sequence is mutated. The iterator terminates only when an [`IndexError`](https://docs.python.org/3/library/exceptions.html#IndexError) or a [`StopIteration`](https://docs.python.org/3/library/exceptions.html#StopIteration) is encountered (or when the index drops below zero).\n",
    "\n",
    "> 同一类型的序列也支持比较。特别是，元组和列表是通过比较相应的元素来进行词法比较的。这意味着要进行等价比较，每个元素都必须等价比较，而且两个序列必须是相同的类型，并且具有相同的长度。(完整的细节见语言参考中的[比较](https://docs.python.org/3/reference/expressions.html#comparisons)。)\n",
    ">\n",
    "> 在可变序列上的正向和反向迭代器使用一个索引访问值。该索引将继续向前（或向后）行进，即使底层序列发生了变化。迭代器只有在遇到 [`IndexError`](https://docs.python.org/3/library/exceptions.html#IndexError) 或 [`StopIteration`](https://docs.python.org/3/library/exceptions.html#StopIteration) 时（或当索引降到零以下时）才会终止。"
   ]
  },
  {
   "cell_type": "markdown",
   "id": "0f5c7570-e5f0-4a21-8e84-90ba5ad2765a",
   "metadata": {},
   "source": [
    "Notes:\n",
    "\n",
    "1. While the `in` and `not in` operations are used only for simple containment testing in the general case, some specialised sequences (such as [`str`](https://docs.python.org/3/library/stdtypes.html#str), [`bytes`](https://docs.python.org/3/library/stdtypes.html#bytes) and [`bytearray`](https://docs.python.org/3/library/stdtypes.html#bytearray)) also use them for subsequence testing:\n",
    "\n",
    "> 注意事项：\n",
    ">\n",
    "> 1. 虽然在一般情况下，`in` 和 `not in` 操作只用于简单的包含测试，但一些特殊的序列（如[`str`](https://docs.python.org/3/library/stdtypes.html#str), [`bytes`](https://docs.python.org/3/library/stdtypes.html#bytes) 和 [`bytearray`](https://docs.python.org/3/library/stdtypes.html#bytearray)）也使用它们进行子序列测试。"
   ]
  },
  {
   "cell_type": "code",
   "execution_count": 24,
   "id": "f70c26a5-15f1-4678-8463-3ff9c92cabc8",
   "metadata": {},
   "outputs": [
    {
     "data": {
      "text/plain": [
       "True"
      ]
     },
     "execution_count": 24,
     "metadata": {},
     "output_type": "execute_result"
    }
   ],
   "source": [
    "\"gg\" in \"egg\""
   ]
  },
  {
   "cell_type": "markdown",
   "id": "1838169b-dd7f-4447-96f4-296931104317",
   "metadata": {},
   "source": [
    "2. Values of *n* less than `0` are treated as `0` (which yields an empty sequence of the same type as *s*). Note that items in the sequence *s* are not copied; they are referenced multiple times. This often haunts new Python programmers; consider:\n",
    "\n",
    "> 2. 小于 `0` 的*n*值被视为 `0`（产生一个与*s*相同类型的空序列）。注意，序列*s*中的项目不是复制的；它们被多次引用。这常常困扰着新的Python程序员；考虑一下："
   ]
  },
  {
   "cell_type": "code",
   "execution_count": 25,
   "id": "4df1e04a-26fd-4a17-9f9e-656839091d94",
   "metadata": {},
   "outputs": [
    {
     "data": {
      "text/plain": [
       "[[], [], []]"
      ]
     },
     "execution_count": 25,
     "metadata": {},
     "output_type": "execute_result"
    },
    {
     "data": {
      "text/plain": [
       "[[3], [3], [3]]"
      ]
     },
     "execution_count": 25,
     "metadata": {},
     "output_type": "execute_result"
    },
    {
     "data": {
      "text/plain": [
       "[[], [], []]"
      ]
     },
     "execution_count": 25,
     "metadata": {},
     "output_type": "execute_result"
    },
    {
     "data": {
      "text/plain": [
       "[[3], [], []]"
      ]
     },
     "execution_count": 25,
     "metadata": {},
     "output_type": "execute_result"
    }
   ],
   "source": [
    "lists = [[]] * 3\n",
    "lists\n",
    "\n",
    "lists[0].append(3)\n",
    "lists\n",
    "\n",
    "list1 = [[], [], []]\n",
    "list1\n",
    "list1[0].append(3)\n",
    "list1"
   ]
  },
  {
   "cell_type": "markdown",
   "id": "eca37014-f7fa-40c9-9e8f-fba1f87d3a00",
   "metadata": {},
   "source": [
    "What has happened is that `[[]]` is a one-element list containing an empty list, so all three elements of `[[]] * 3` are references to this single empty list. Modifying any of the elements of `lists` modifies this single list. You can create a list of different lists this way:\n",
    "\n",
    "> 发生的情况是，`[[]]` 是一个包含空列表的单元素列表，所以 `[[]] * 3` 的所有三个元素是对这个单一的空列表的引用。修改 `lists` 的任何元素都会修改这个单一的列表。你可以用这种方式创建一个不同的列表："
   ]
  },
  {
   "cell_type": "code",
   "execution_count": 26,
   "id": "2c435ddb-85aa-4881-b5d8-59276981da67",
   "metadata": {},
   "outputs": [
    {
     "data": {
      "text/plain": [
       "[[3], [5], [7]]"
      ]
     },
     "execution_count": 26,
     "metadata": {},
     "output_type": "execute_result"
    }
   ],
   "source": [
    "lists = [[] for i in range(3)]\n",
    "lists[0].append(3)\n",
    "lists[1].append(5)\n",
    "lists[2].append(7)\n",
    "lists"
   ]
  },
  {
   "cell_type": "markdown",
   "id": "759dfda7-5582-476c-aab5-bd5a5121560f",
   "metadata": {},
   "source": [
    "Further explanation is available in the FAQ entry [How do I create a multidimensional list?](https://docs.python.org/3/faq/programming.html#faq-multidimensional-list).\n",
    "\n",
    "> 进一步的解释见FAQ条目 [如何创建一个多维列表？](https://docs.python.org/3/faq/programming.html#faq-multidimensional-list)。"
   ]
  },
  {
   "cell_type": "markdown",
   "id": "c40c5395-4560-4f1c-9f72-f0ed08f4255a",
   "metadata": {},
   "source": [
    "3. If *i* or *j* is negative, the index is relative to the end of sequence *s*: `len(s) + i` or `len(s) + j` is substituted. But note that `-0` is still `0`.\n",
    "\n",
    "4. The slice of *s* from *i* to *j* is defined as the sequence of items with index *k* such that `i <= k < j`. If *i* or *j* is greater than `len(s)`, use `len(s)`. If *i* is omitted or `None`, use `0`. If *j* is omitted or `None`, use `len(s)`. If *i* is greater than or equal to *j*, the slice is empty.\n",
    "\n",
    "5. The slice of *s* from *i* to *j* with step *k* is defined as the sequence of items with index `x = i + n*k` such that `0 <= n < (j-i)/k`. In other words, the indices are `i`, `i+k`, `i+2*k`, `i+3*k` and so on, stopping when *j* is reached (but never including *j*). When *k* is positive, *i* and *j* are reduced to `len(s)` if they are greater. When *k* is negative, *i* and *j* are reduced to `len(s) - 1` if they are greater. If *i* or *j* are omitted or `None`, they become “end” values (which end depends on the sign of *k*). Note, *k* cannot be zero. If *k* is `None`, it is treated like `1`.\n",
    "\n",
    "6. Concatenating immutable sequences always results in a new object. This means that building up a sequence by repeated concatenation will have a quadratic runtime cost in the total sequence length. To get a linear runtime cost, you must switch to one of the alternatives below:\n",
    "\n",
    "- if concatenating [`str`](https://docs.python.org/3/library/stdtypes.html#str) objects, you can build a list and use [`str.join()`](https://docs.python.org/3/library/stdtypes.html#str.join) at the end or else write to an [`io.StringIO`](https://docs.python.org/3/library/io.html#io.StringIO) instance and retrieve its value when complete\n",
    "- if concatenating [`bytes`](https://docs.python.org/3/library/stdtypes.html#bytes) objects, you can similarly use [`bytes.join()`](https://docs.python.org/3/library/stdtypes.html#bytes.join) or [`io.BytesIO`](https://docs.python.org/3/library/io.html#io.BytesIO), or you can do in-place concatenation with a [`bytearray`](https://docs.python.org/3/library/stdtypes.html#bytearray) object. [`bytearray`](https://docs.python.org/3/library/stdtypes.html#bytearray) objects are mutable and have an efficient overallocation mechanism\n",
    "- if concatenating [`tuple`](https://docs.python.org/3/library/stdtypes.html#tuple) objects, extend a [`list`](https://docs.python.org/3/library/stdtypes.html#list) instead\n",
    "- for other types, investigate the relevant class documentation\n",
    "\n",
    "7. Some sequence types (such as [`range`](https://docs.python.org/3/library/stdtypes.html#range)) only support item sequences that follow specific patterns, and hence don’t support sequence concatenation or repetition.\n",
    "\n",
    "8. `index` raises [`ValueError`](https://docs.python.org/3/library/exceptions.html#ValueError) when *x* is not found in *s*. Not all implementations support passing the additional arguments *i* and *j*. These arguments allow efficient searching of subsections of the sequence. Passing the extra arguments is roughly equivalent to using `s[i:j].index(x)`, only without copying any data and with the returned index being relative to the start of the sequence rather than the start of the slice.\n",
    "\n",
    "> 3. 如果*i*或*j*为负数，则索引是相对于序列*s*的结束。`len(s) + i` 或 `len(s) + j` 被替换。但是请注意，`-0` 仍然是`0`。\n",
    ">\n",
    "> 4. 从*i*到*j*的*s*切片被定义为索引为*k*的项目序列，使得 `i <= k < j`。如果*i*或*j*大于 `len(s)`，使用 `len(s)`。如果*i*被省略或 `None`，使用 `0`。如果*j*被省略或 `None`，则使用 `len(s)`。如果*i*大于或等于*j*，则该片为空。\n",
    ">\n",
    "> 5. 从*i*到*j*，步长为*k*的*s*片被定义为索引为 `x = i + n*k` 的项目序列，使得 `0 <= n < (j-i)/k`。换句话说，索引是 `i`，`i+k`，`i+2*k`，`i+3*k `等等，当达到*j*时停止（但绝不包括*j*）。当*k*为正数时，如果*i*和*j*较大，则被减少为`len(s)`。当*k*为负数时，如果*i*和*j*较大，则减少到`len(s)-1'。如果*i*或*j*被省略或`None`，它们将成为 \"结束 \"值（哪个结束取决于*k*的符号）。注意，*k*不能是零。如果*k*是 \"无\"，它将被当作 \"1 \"处理。\n",
    ">\n",
    "> 6. 连接不可变的序列总是会产生一个新的对象。这意味着通过重复串联建立一个序列，在序列总长度中会有一个二次运行时间成本。为了获得线性的运行时间成本，你必须切换到下面的一个选项。\n",
    ">\n",
    "> - 如果连接 [`str`](https://docs.python.org/3/library/stdtypes.html#str) 对象，你可以建立一个列表并在最后使用 [`str.join()`](https://docs.python.org/3/library/stdtypes.html#str.join)，或者写到一个[`io.StringIO`](https://docs.python.org/3/library/io.html#io.StringIO)实例，完成后检索其值\n",
    "> - 如果连接[`bytes`](https://docs.python.org/3/library/stdtypes.html#bytes)对象，同样可以使用[`bytes.join()`](https://docs.python.org/3/library/stdtypes.html#bytes.join)或[`io.BytesIO`](https://docs.python.org/3/library/io.html#io.BytesIO)，或者可以使用[`bytearray`](https://docs.python.org/3/library/stdtypes.html#bytearray)对象进行原地连接。[`bytearray`](https://docs.python.org/3/library/stdtypes.html#bytearray)对象是可变的，并且有一个有效的整体分配机制\n",
    "> - 如果连接[`tuple`](https://docs.python.org/3/library/stdtypes.html#tuple)对象，请扩展一个[`list`](https://docs.python.org/3/library/stdtypes.html#list)代替。\n",
    "> - 对于其他类型，请研究相关的类文件\n",
    ">\n",
    "> 7. 一些序列类型（如[`range`](https://docs.python.org/3/library/stdtypes.html#range)）只支持遵循特定模式的项目序列，因此不支持序列连接或重复。\n",
    ">\n",
    "> 8. 当*x*在*s*中没有找到时，`index `会引发 [`ValueError`](https://docs.python.org/3/library/exceptions.html#ValueError)。不是所有的实现都支持传递额外的参数*i*和*j*。这些参数允许有效地搜索序列的子段。传递额外的参数大致相当于使用`s[i:j].index(x)`，只是没有复制任何数据，并且返回的索引是相对于序列的开始而不是切片的开始"
   ]
  },
  {
   "cell_type": "markdown",
   "id": "567caf2e-b10a-4b91-a721-742e6785045e",
   "metadata": {},
   "source": [
    "### Immutable Sequence Types"
   ]
  },
  {
   "cell_type": "markdown",
   "id": "5394eaff-c077-4998-9e97-e590457e04ee",
   "metadata": {},
   "source": [
    "The only operation that immutable sequence types generally implement that is not also implemented by mutable sequence types is support for the [`hash()`](https://docs.python.org/3/library/functions.html#hash) built-in.\n",
    "\n",
    "This support allows immutable sequences, such as [`tuple`](https://docs.python.org/3/library/stdtypes.html#tuple) instances, to be used as [`dict`](https://docs.python.org/3/library/stdtypes.html#dict) keys and stored in [`set`](https://docs.python.org/3/library/stdtypes.html#set) and [`frozenset`](https://docs.python.org/3/library/stdtypes.html#frozenset) instances.\n",
    "\n",
    "Attempting to hash an immutable sequence that contains unhashable values will result in [`TypeError`](https://docs.python.org/3/library/exceptions.html#TypeError).\n",
    "\n",
    "> 不可变的序列类型通常实现的唯一操作是对 [`hash()`](https://docs.python.org/3/library/functions.html#hash) 内置的支持，而这些操作并没有被可变的序列类型实现。\n",
    ">\n",
    "> 这种支持允许不可变的序列，如 [`tuple`](https://docs.python.org/3/library/stdtypes.html#tuple) 实例，被用作 [`dict`](https://docs.python.org/3/library/stdtypes.html#dict) 的键并存储在 [`set`](https://docs.python.org/3/library/stdtypes.html#set) 和 [`frozenset`](https://docs.python.org/3/library/stdtypes.html#frozenset) 实例中。\n",
    ">\n",
    "> 试图hash一个包含不可unhashable值的不可改变的序列将导致 [`TypeError`](https://docs.python.org/3/library/exceptions.html#TypeError)。"
   ]
  },
  {
   "cell_type": "markdown",
   "id": "868e09af-2784-4b58-bb58-75e5137d850b",
   "metadata": {},
   "source": [
    "### Mutable Sequence Types"
   ]
  },
  {
   "cell_type": "markdown",
   "id": "94f6a367-8a8b-48cd-bd72-9a73b7ae4c1f",
   "metadata": {},
   "source": [
    "The operations in the following table are defined on mutable sequence types. The [`collections.abc.MutableSequence`](https://docs.python.org/3/library/collections.abc.html#collections.abc.MutableSequence) ABC is provided to make it easier to correctly implement these operations on custom sequence types.\n",
    "\n",
    "In the table *s* is an instance of a mutable sequence type, *t* is any iterable object and *x* is an arbitrary object that meets any type and value restrictions imposed by *s* (for example, [`bytearray`](https://docs.python.org/3/library/stdtypes.html#bytearray) only accepts integers that meet the value restriction `0 <= x <= 255`).\n",
    "\n",
    "> 下表中的操作是在可变序列类型上定义的。提供 [`collections.abc.MutableSequence`](https://docs.python.org/3/library/collections.abc.html#collections.abc.MutableSequence) ABC是为了更容易在自定义序列类型上正确实现这些操作。\n",
    ">\n",
    "> 在表中*s*是一个可变序列类型的实例，*t*是任何可迭代的对象，*x*是一个任意的对象，满足*s*施加的任何类型和值限制（例如，[`bytearray`](https://docs.python.org/3/library/stdtypes.html#bytearray) 只接受满足值限制 `0 <= x <= 255` 的整数）。"
   ]
  },
  {
   "cell_type": "markdown",
   "id": "fba4ff84-812d-43b0-a9da-3f1d7df7f47f",
   "metadata": {},
   "source": [
    "| Operation                 | Result                                                       | Notes |\n",
    "| :------------------------ | :----------------------------------------------------------- | :---- |\n",
    "| `s[i] = x`                | item *i* of *s* is replaced by *x*                           |       |\n",
    "| `s[i:j] = t`              | slice of *s* from *i* to *j* is replaced by the contents of the iterable *t* |       |\n",
    "| `del s[i:j]`              | same as `s[i:j] = []`                                        |       |\n",
    "| `s[i:j:k] = t`            | the elements of `s[i:j:k]` are replaced by those of *t*      | (1)   |\n",
    "| `del s[i:j:k]`            | removes the elements of `s[i:j:k]` from the list             |       |\n",
    "| `s.append(x)`             | appends *x* to the end of the sequence (same as `s[len(s):len(s)] = [x]`) |       |\n",
    "| `s.clear()`               | removes all items from *s* (same as `del s[:]`)              | (5)   |\n",
    "| `s.copy()`                | creates a shallow copy of *s* (same as `s[:]`)               | (5)   |\n",
    "| `s.extend(t)` or `s += t` | extends *s* with the contents of *t* (for the most part the same as `s[len(s):len(s)] = t`) |       |\n",
    "| `s *= n`                  | updates *s* with its contents repeated *n* times             | (6)   |\n",
    "| `s.insert(i, x)`          | inserts *x* into *s* at the index given by *i* (same as `s[i:i] = [x]`) |       |\n",
    "| `s.pop()` or `s.pop(i)`   | retrieves the item at *i* and also removes it from *s*       | (2)   |\n",
    "| `s.remove(x)`             | remove the first item from *s* where `s[i]` is equal to *x*  | (3)   |\n",
    "| `s.reverse()`             | reverses the items of *s* in place                           | (4)   |"
   ]
  },
  {
   "cell_type": "markdown",
   "id": "e538e7ea-4cd7-4316-9da4-cb59b6abcd81",
   "metadata": {},
   "source": [
    "### Lists"
   ]
  },
  {
   "cell_type": "markdown",
   "id": "36e8383a-23f6-4267-9776-5df6351fdd14",
   "metadata": {},
   "source": [
    "Lists are mutable sequences, typically used to store collections of homogeneous items (where the precise degree of similarity will vary by application).\n",
    "\n",
    "> 列表是可变的序列，通常用于存储**同质**项目的集合（其中精确的相似程度将因应用而异）。"
   ]
  },
  {
   "cell_type": "markdown",
   "id": "9e95c194-eb41-4ebe-b1d0-ae7464ff126b",
   "metadata": {},
   "source": [
    "*class* `list`([*iterable*])\n",
    "\n",
    "Lists may be constructed in several ways:\n",
    "\n",
    "- Using a pair of square brackets to denote the empty list: `[]`\n",
    "- Using square brackets, separating items with commas: `[a]`, `[a, b, c]`\n",
    "- Using a list comprehension: `[x for x in iterable]`\n",
    "- Using the type constructor: `list()` or `list(iterable)`\n",
    "\n",
    "The constructor builds a list whose items are the same and in the same order as *iterable*’s items. *iterable* may be either a sequence, a container that supports iteration, or an iterator object. If *iterable* is already a list, a copy is made and returned, similar to `iterable[:]`. For example, `list('abc')` returns `['a', 'b', 'c']` and `list( (1, 2, 3) )` returns `[1, 2, 3]`. If no argument is given, the constructor creates a new empty list, `[]`.\n",
    "\n",
    "Many other operations also produce lists, including the [`sorted()`](https://docs.python.org/3/library/functions.html#sorted) built-in.\n",
    "\n",
    "Lists implement all of the [common](https://docs.python.org/3/library/stdtypes.html#typesseq-common) and [mutable](https://docs.python.org/3/library/stdtypes.html#typesseq-mutable) sequence operations. Lists also provide the following additional method:\n",
    "\n",
    "- `sort`(_*_, *key=None*, *reverse=False*)\n",
    "\n",
    "  This method sorts the list in place, using only `<` comparisons between items. Exceptions are not suppressed - if any comparison operations fail, the entire sort operation will fail (and the list will likely be left in a partially modified state).[`sort()`](https://docs.python.org/3/library/stdtypes.html#list.sort) accepts two arguments that can only be passed by keyword ([keyword-only arguments](https://docs.python.org/3/glossary.html#keyword-only-parameter)):*key* specifies a function of one argument that is used to extract a comparison key from each list element (for example, `key=str.lower`). The key corresponding to each item in the list is calculated once and then used for the entire sorting process. The default value of `None` means that list items are sorted directly without calculating a separate key value.The [`functools.cmp_to_key()`](https://docs.python.org/3/library/functools.html#functools.cmp_to_key) utility is available to convert a 2.x style *cmp* function to a *key* function.*reverse* is a boolean value. If set to `True`, then the list elements are sorted as if each comparison were reversed.This method modifies the sequence in place for economy of space when sorting a large sequence. To remind users that it operates by side effect, it does not return the sorted sequence (use [`sorted()`](https://docs.python.org/3/library/functions.html#sorted) to explicitly request a new sorted list instance).The [`sort()`](https://docs.python.org/3/library/stdtypes.html#list.sort) method is guaranteed to be stable. A sort is stable if it guarantees not to change the relative order of elements that compare equal — this is helpful for sorting in multiple passes (for example, sort by department, then by salary grade).For sorting examples and a brief sorting tutorial, see [Sorting HOW TO](https://docs.python.org/3/howto/sorting.html#sortinghowto).**CPython implementation detail:** While a list is being sorted, the effect of attempting to mutate, or even inspect, the list is undefined. The C implementation of Python makes the list appear empty for the duration, and raises [`ValueError`](https://docs.python.org/3/library/exceptions.html#ValueError) if it can detect that the list has been mutated during a sort.\n",
    "\n",
    "> *class* `list`([*iterable*])\n",
    ">\n",
    "> 列表可以用几种方式构造。\n",
    ">\n",
    "> - 使用一对方括号来表示空列表：`[]`\n",
    "> - 使用方括号，用逗号分隔项目：`[a]`,  `[a, b, c]`。\n",
    "> - 使用列表解析式：`[x for x in iterable]`。\n",
    "> - 使用类型构造函数：`list()` 或 `list(iterable)`。\n",
    ">\n",
    "> 构造函数建立一个列表，其项目与*iterable*的项目相同且顺序一致。*iterable*可以是一个序列，一个支持迭代的容器，或者一个迭代器对象。如果*iterable*已经是一个列表，那么会复制并返回，类似于 `iterable[:]`。例如，`list('abc')` 返回 `['a', 'b', 'c']`，`list((1, 2, 3) )`返回 `[1, 2, 3]`。如果没有给出参数，构造函数会创建一个新的空列表，`[]`。\n",
    ">\n",
    "> 许多其他操作也会产生列表，包括 [`sorted()`](https://docs.python.org/3/library/functions.html#sorted) 内置。\n",
    ">\n",
    "> Lists 实现了所有的 [common](https://docs.python.org/3/library/stdtypes.html#typesseq-common) 和 [mutable](https://docs.python.org/3/library/stdtypes.html#typesseq-mutable) 序列操作。Lists还提供了以下额外的方法：\n",
    ">\n",
    "> - `sort`(_*_, *key=None*, *reverse=False*)\n",
    ">\n",
    ">   这个方法对列表进行**原地**排序，只使用项目之间的 `<` 比较。异常不会被抑制--如果有任何比较操作失败，整个排序操作就会失败（而且列表很可能会留下部分修改的状态）。[`sort()`](https://docs.python.org/3/library/stdtypes.html#list.sort) 接受两个只能通过关键字传递的参数（[keyword-only arguments](https://docs.python.org/3/glossary.html#keyword-only-parameter)）：*key*指定一个参数的函数，用于从每个列表元素提取一个比较键（例如，`key=str.lower`）。列表中每个项目对应的键被计算一次，然后用于整个排序过程。默认值 `None` 意味着直接对列表项进行排序，而不计算单独的键值。[`functools.cmp_to_key()`](https://docs.python.org/3/library/functools.html#functools.cmp_to_key) 工具可以将2.x风格的*cmp*函数转换成*key*函数。*reverse*是一个布尔值。如果设置为 `True`，那么列表中的元素就会被排序，就像每个比较都是反向的一样。当对一个大的序列进行排序时，这个方法会在原地修改序列以节省空间。为了提醒用户，它的操作是有副作用的，它不返回排序的序列（使用 [`sorted()`](https://docs.python.org/3/library/functions.html#sorted) 明确请求一个新的排序列表实例）。[`sort()`](https://docs.python.org/3/library/stdtypes.html#list.sort) 方法被保证是稳定的。一个排序是稳定的，如果它保证不改变比较相等的元素的相对顺序--这对多次排序很有帮助（例如，按部门排序，然后按工资等级排序）。关于排序的例子和简短的排序教程，见 [Sorting HOW TO](https://docs.python.org/3/howto/sorting.html#sortinghowto)。**CPython 实现细节：**当一个列表被排序时，试图改变，甚至检查，列表的效果是未定义的。Python 的 C 实现使列表在整个过程中显示为空，如果它能检测到列表在排序过程中被改变，则会引发 [`ValueError`](https://docs.python.org/3/library/exceptions.html#ValueError) "
   ]
  },
  {
   "cell_type": "code",
   "execution_count": 27,
   "id": "a0d5ca39-0e5d-4e11-bec8-5eaa3c4ff89f",
   "metadata": {},
   "outputs": [
    {
     "data": {
      "text/plain": [
       "[]"
      ]
     },
     "execution_count": 27,
     "metadata": {},
     "output_type": "execute_result"
    },
    {
     "data": {
      "text/plain": [
       "[1]"
      ]
     },
     "execution_count": 27,
     "metadata": {},
     "output_type": "execute_result"
    },
    {
     "data": {
      "text/plain": [
       "[1, 2, 4]"
      ]
     },
     "execution_count": 27,
     "metadata": {},
     "output_type": "execute_result"
    },
    {
     "data": {
      "text/plain": [
       "[0, 1, 2, 3, 4, 5, 6, 7, 8, 9]"
      ]
     },
     "execution_count": 27,
     "metadata": {},
     "output_type": "execute_result"
    },
    {
     "data": {
      "text/plain": [
       "[]"
      ]
     },
     "execution_count": 27,
     "metadata": {},
     "output_type": "execute_result"
    },
    {
     "data": {
      "text/plain": [
       "[1, 2, 3]"
      ]
     },
     "execution_count": 27,
     "metadata": {},
     "output_type": "execute_result"
    }
   ],
   "source": [
    "[]\n",
    "\n",
    "[1]\n",
    "\n",
    "[1, 2, 4]\n",
    "\n",
    "[x for x in range(10)]\n",
    "\n",
    "list()\n",
    "\n",
    "list((1, 2, 3))"
   ]
  },
  {
   "cell_type": "markdown",
   "id": "69eb2346-392e-4487-a8bc-448b043f95fd",
   "metadata": {},
   "source": [
    "### Tuples"
   ]
  },
  {
   "cell_type": "markdown",
   "id": "5bb85347-4b12-424b-ac20-24aadb870706",
   "metadata": {},
   "source": [
    "Tuples are immutable sequences, typically used to store collections of heterogeneous data (such as the 2-tuples produced by the [`enumerate()`](https://docs.python.org/3/library/functions.html#enumerate) built-in). Tuples are also used for cases where an immutable sequence of homogeneous data is needed (such as allowing storage in a [`set`](https://docs.python.org/3/library/stdtypes.html#set) or [`dict`](https://docs.python.org/3/library/stdtypes.html#dict) instance).\n",
    "\n",
    "> 元组是不可变的序列，通常用于存储**异质**数据的集合（例如由 [`enumerate()`](https://docs.python.org/3/library/functions.html#enumerate) 内置产生的2元组）。元组也用于需要同质数据的不可变序列的情况（如允许存储在 [`set`](https://docs.python.org/3/library/stdtypes.html#set) 或 [`dict`](https://docs.python.org/3/library/stdtypes.html#dict) 实例中）。"
   ]
  },
  {
   "cell_type": "markdown",
   "id": "4be914b0-4986-4b1c-a099-34275a5b06c2",
   "metadata": {},
   "source": [
    "*class* `tuple`([*iterable*])\n",
    "\n",
    "Tuples may be constructed in a number of ways:\n",
    "\n",
    "- Using a pair of parentheses to denote the empty tuple: `()`\n",
    "- Using a trailing comma for a singleton tuple: `a,` or `(a,)`\n",
    "- Separating items with commas: `a, b, c` or `(a, b, c)`\n",
    "- Using the [`tuple()`](https://docs.python.org/3/library/stdtypes.html#tuple) built-in: `tuple()` or `tuple(iterable)`\n",
    "\n",
    "The constructor builds a tuple whose items are the same and in the same order as *iterable*’s items. *iterable* may be either a sequence, a container that supports iteration, or an iterator object. If *iterable* is already a tuple, it is returned unchanged. For example, `tuple('abc')` returns `('a', 'b', 'c')` and `tuple( [1, 2, 3] )` returns `(1, 2, 3)`. If no argument is given, the constructor creates a new empty tuple, `()`.\n",
    "\n",
    "Note that it is actually the comma which makes a tuple, not the parentheses. The parentheses are optional, except in the empty tuple case, or when they are needed to avoid syntactic ambiguity. For example, `f(a, b, c)` is a function call with three arguments, while `f((a, b, c))` is a function call with a 3-tuple as the sole argument.\n",
    "\n",
    "Tuples implement all of the [common](https://docs.python.org/3/library/stdtypes.html#typesseq-common) sequence operations.\n",
    "\n",
    "> *class* `tuple`([*iterable*])\n",
    ">\n",
    "> 元组可以用多种方式构造。\n",
    ">\n",
    "> - 使用一对小括号来表示空元组：`()`\n",
    "> - 使用尾部的逗号表示一个单子元组：`a,` 或 `(a,)`。\n",
    "> - 用逗号分隔项目：`a, b, c` 或 `(a, b, c)`。\n",
    "> - 使用 [`tuple()`](https://docs.python.org/3/library/stdtypes.html#tuple) 内置：`tuple()` 或 `tuple(iterable)`。\n",
    ">\n",
    "> 构造函数建立一个元组，其项目与*iterable*的项目相同且顺序一致。*iterable*可以是一个序列，一个支持迭代的容器，或者一个迭代器对象。如果*iterable*已经是一个元组，它将被原样返回。例如，`tuple('abc')` 返回 `('a', 'b', 'c')`，`tuple([1, 2, 3] )` 返回 `(1, 2, 3)`。如果没有给出参数，构造函数会创建一个新的空元组，`()`。\n",
    ">\n",
    "> 注意，实际上是逗号构成了一个元组，而不是括号。小括号是可选的，除了在空元组的情况下，或者需要它们来避免语法上的歧义。例如，`f(a, b, c)` 是一个有三个参数的函数调用，而`f((a, b, c)` 是一个有3元组作为唯一参数的函数调用。\n",
    ">\n",
    "> 元组实现了所有的[通用](https://docs.python.org/3/library/stdtypes.html#typesseq-common)序列操作。"
   ]
  },
  {
   "cell_type": "code",
   "execution_count": 28,
   "id": "5ed27e0c-d500-4f52-9904-587d7ee28715",
   "metadata": {},
   "outputs": [
    {
     "data": {
      "text/plain": [
       "()"
      ]
     },
     "execution_count": 28,
     "metadata": {},
     "output_type": "execute_result"
    },
    {
     "data": {
      "text/plain": [
       "tuple"
      ]
     },
     "execution_count": 28,
     "metadata": {},
     "output_type": "execute_result"
    },
    {
     "data": {
      "text/plain": [
       "('s',)"
      ]
     },
     "execution_count": 28,
     "metadata": {},
     "output_type": "execute_result"
    },
    {
     "data": {
      "text/plain": [
       "tuple"
      ]
     },
     "execution_count": 28,
     "metadata": {},
     "output_type": "execute_result"
    },
    {
     "data": {
      "text/plain": [
       "('s',)"
      ]
     },
     "execution_count": 28,
     "metadata": {},
     "output_type": "execute_result"
    },
    {
     "data": {
      "text/plain": [
       "tuple"
      ]
     },
     "execution_count": 28,
     "metadata": {},
     "output_type": "execute_result"
    },
    {
     "data": {
      "text/plain": [
       "(1, 2, 3)"
      ]
     },
     "execution_count": 28,
     "metadata": {},
     "output_type": "execute_result"
    },
    {
     "data": {
      "text/plain": [
       "tuple"
      ]
     },
     "execution_count": 28,
     "metadata": {},
     "output_type": "execute_result"
    },
    {
     "data": {
      "text/plain": [
       "(1, 2, 3)"
      ]
     },
     "execution_count": 28,
     "metadata": {},
     "output_type": "execute_result"
    },
    {
     "data": {
      "text/plain": [
       "tuple"
      ]
     },
     "execution_count": 28,
     "metadata": {},
     "output_type": "execute_result"
    },
    {
     "data": {
      "text/plain": [
       "()"
      ]
     },
     "execution_count": 28,
     "metadata": {},
     "output_type": "execute_result"
    },
    {
     "data": {
      "text/plain": [
       "tuple"
      ]
     },
     "execution_count": 28,
     "metadata": {},
     "output_type": "execute_result"
    },
    {
     "data": {
      "text/plain": [
       "(1, 2, 3)"
      ]
     },
     "execution_count": 28,
     "metadata": {},
     "output_type": "execute_result"
    },
    {
     "data": {
      "text/plain": [
       "('s', 't', 'r', 'i', 'n', 'g')"
      ]
     },
     "execution_count": 28,
     "metadata": {},
     "output_type": "execute_result"
    },
    {
     "data": {
      "text/plain": [
       "tuple"
      ]
     },
     "execution_count": 28,
     "metadata": {},
     "output_type": "execute_result"
    }
   ],
   "source": [
    "a = ()\n",
    "a\n",
    "type(a)\n",
    "\n",
    "b = 's',\n",
    "b\n",
    "type(b)\n",
    "\n",
    "c = ('s',)\n",
    "c\n",
    "type(c)\n",
    "\n",
    "d = 1,2,3\n",
    "d\n",
    "type(d)\n",
    "\n",
    "e = (1,2,3)\n",
    "e\n",
    "type(e)\n",
    "\n",
    "f = tuple()\n",
    "f\n",
    "type(f)\n",
    "\n",
    "g = tuple([1,2,3])\n",
    "g\n",
    "\n",
    "h = tuple('string')\n",
    "h\n",
    "type(h)"
   ]
  },
  {
   "cell_type": "markdown",
   "id": "c3c2fe4b-3577-4ede-8d96-4b313c29f0a5",
   "metadata": {},
   "source": [
    "For heterogeneous collections of data where access by name is clearer than access by index, [`collections.namedtuple()`](https://docs.python.org/3/library/collections.html#collections.namedtuple) may be a more appropriate choice than a simple tuple object.\n",
    "\n",
    "> 对于**异质的**数据集合，按名称访问比按索引访问更清楚，[`collections.namedtuple()`](https://docs.python.org/3/library/collections.html#collections.namedtuple) 可能是一个比简单元组对象更合适的选择。"
   ]
  },
  {
   "cell_type": "markdown",
   "id": "4200fe4c-210d-4719-abd8-2475f2c07187",
   "metadata": {},
   "source": [
    "### Ranges"
   ]
  },
  {
   "cell_type": "markdown",
   "id": "ab2102f2-c25b-4ca9-965b-af69e6fd3087",
   "metadata": {},
   "source": [
    "The [`range`](https://docs.python.org/3/library/stdtypes.html#range) type represents an immutable sequence of numbers and is commonly used for looping a specific number of times in [`for`](https://docs.python.org/3/reference/compound_stmts.html#for) loops.\n",
    "\n",
    "> [`range`](https://docs.python.org/3/library/stdtypes.html#range) 类型表示一个不可改变的数字序列，通常用于在 [`for`](https://docs.python.org/3/reference/compound_stmts.html#for) 循环中循环特定次数。"
   ]
  },
  {
   "cell_type": "markdown",
   "id": "17d8999b-3dfe-4a31-81f7-8312c6e90bb0",
   "metadata": {},
   "source": [
    "*class* `range`(*stop*)\n",
    "\n",
    "*class* `range`(*start*, *stop*[, *step*])\n",
    "\n",
    "The arguments to the range constructor must be integers (either built-in [`int`](https://docs.python.org/3/library/functions.html#int) or any object that implements the [`__index__()`](https://docs.python.org/3/reference/datamodel.html#object.__index__) special method). If the *step* argument is omitted, it defaults to `1`. If the *start* argument is omitted, it defaults to `0`. If *step* is zero, [`ValueError`](https://docs.python.org/3/library/exceptions.html#ValueError) is raised.\n",
    "\n",
    "For a positive *step*, the contents of a range `r` are determined by the formula `r[i] = start + step*i` where `i >= 0` and `r[i] < stop`.\n",
    "\n",
    "For a negative *step*, the contents of the range are still determined by the formula `r[i] = start + step*i`, but the constraints are `i >= 0` and `r[i] > stop`.\n",
    "\n",
    "A range object will be empty if `r[0]` does not meet the value constraint. Ranges do support negative indices, but these are interpreted as indexing from the end of the sequence determined by the positive indices.\n",
    "\n",
    "Ranges containing absolute values larger than [`sys.maxsize`](https://docs.python.org/3/library/sys.html#sys.maxsize) are permitted but some features (such as [`len()`](https://docs.python.org/3/library/functions.html#len)) may raise [`OverflowError`](https://docs.python.org/3/library/exceptions.html#OverflowError).\n",
    "\n",
    "Range examples:\n",
    "\n",
    "> *class* `range`(*stop*)\n",
    ">\n",
    "> *class* `range`(*start*, *stop*[, *step*])\n",
    ">\n",
    "> range构造函数的参数必须是整数（可以是内置的 [`int`](https://docs.python.org/3/library/functions.html#int) 或任何实现 [`__index__()`](https://docs.python.org/3/reference/datamodel.html#object.__index__) 特殊方法的对象）。如果省略了*step*参数，则默认为 `1`。如果省略了*start*参数，则默认为 `0`。如果*step*为零，则会引发 [`ValueError`](https://docs.python.org/3/library/exceptions.html#ValueError)。\n",
    ">\n",
    "> 对于正的*step*，范围 `r` 的内容由公式 `r[i] = start + step*i`决定，其中 `i >= 0` 和 `r[i] < stop`。\n",
    ">\n",
    "> 对于一个负的*step*，范围的内容仍然由公式 `r[i] = start + step*i` 决定，但是约束条件是 `i >= 0` 和 `r[i] > stop`。\n",
    ">\n",
    "> 如果 `r[0]` 不符合数值约束，range对象将为空。range支持负的索引，但是这些索引被解释为从正的索引所决定的序列的末端开始索引。\n",
    ">\n",
    "> 允许包含绝对值大于 [`sys.maxsize`](https://docs.python.org/3/library/sys.html#sys.maxsize) 的range，但是一些特性（如 [`len()`](https://docs.python.org/3/library/functions.html#len)）可能会引发[`OverflowError`](https://docs.python.org/3/library/exceptions.html#OverflowError)。\n",
    ">\n",
    "> range的例子："
   ]
  },
  {
   "cell_type": "code",
   "execution_count": 29,
   "id": "b373bc22-2c74-423d-a6b5-ec682217c9cd",
   "metadata": {},
   "outputs": [
    {
     "data": {
      "text/plain": [
       "[0, 1, 2, 3, 4, 5, 6, 7, 8, 9]"
      ]
     },
     "execution_count": 29,
     "metadata": {},
     "output_type": "execute_result"
    },
    {
     "data": {
      "text/plain": [
       "[1, 2, 3, 4, 5, 6, 7, 8, 9, 10]"
      ]
     },
     "execution_count": 29,
     "metadata": {},
     "output_type": "execute_result"
    },
    {
     "data": {
      "text/plain": [
       "[0, 5, 10, 15, 20, 25]"
      ]
     },
     "execution_count": 29,
     "metadata": {},
     "output_type": "execute_result"
    },
    {
     "data": {
      "text/plain": [
       "[0, 3, 6, 9]"
      ]
     },
     "execution_count": 29,
     "metadata": {},
     "output_type": "execute_result"
    },
    {
     "data": {
      "text/plain": [
       "[0, -1, -2, -3, -4, -5, -6, -7, -8, -9]"
      ]
     },
     "execution_count": 29,
     "metadata": {},
     "output_type": "execute_result"
    },
    {
     "data": {
      "text/plain": [
       "[]"
      ]
     },
     "execution_count": 29,
     "metadata": {},
     "output_type": "execute_result"
    },
    {
     "data": {
      "text/plain": [
       "[]"
      ]
     },
     "execution_count": 29,
     "metadata": {},
     "output_type": "execute_result"
    }
   ],
   "source": [
    "list(range(10))\n",
    "list(range(1, 11))\n",
    "list(range(0, 30, 5))\n",
    "list(range(0, 10, 3))\n",
    "list(range(0, -10, -1))\n",
    "list(range(0))\n",
    "list(range(1, 0))"
   ]
  },
  {
   "cell_type": "markdown",
   "id": "d84c4794-9c9f-46fb-93b9-af0344e69a41",
   "metadata": {},
   "source": [
    "Ranges implement all of the [common](https://docs.python.org/3/library/stdtypes.html#typesseq-common) sequence operations except concatenation and repetition (due to the fact that range objects can only represent sequences that follow a strict pattern and repetition and concatenation will usually violate that pattern).\n",
    "\n",
    "> range实现了所有的[通用](https://docs.python.org/3/library/stdtypes.html#typesseq-common)序列操作，除了连接和重复（由于range对象只能表示遵循严格模式的序列，重复和连接通常会违反该模式）。"
   ]
  },
  {
   "cell_type": "markdown",
   "id": "2cf4b288-1784-4869-8633-9181ff4183a1",
   "metadata": {},
   "source": [
    "- `start`\n",
    "\n",
    "  The value of the *start* parameter (or `0` if the parameter was not supplied)\n",
    "\n",
    "- `stop`\n",
    "\n",
    "  The value of the *stop* parameter\n",
    "\n",
    "- `step`\n",
    "\n",
    "  The value of the *step* parameter (or `1` if the parameter was not supplied)\n",
    "\n",
    "> - `start`(开始)\n",
    ">\n",
    ">   *开始*参数的值（如果没有提供该参数，则为 `0`）。\n",
    ">\n",
    "> - `stop`\n",
    ">\n",
    ">   *停止*参数的值\n",
    ">\n",
    "> - `step`\n",
    ">\n",
    ">   *step*参数的值（或者如果没有提供该参数，则为`1`）。"
   ]
  },
  {
   "cell_type": "markdown",
   "id": "4502700f-d364-45ab-946a-56771d334e98",
   "metadata": {},
   "source": [
    "The advantage of the [`range`](https://docs.python.org/3/library/stdtypes.html#range) type over a regular [`list`](https://docs.python.org/3/library/stdtypes.html#list) or [`tuple`](https://docs.python.org/3/library/stdtypes.html#tuple) is that a [`range`](https://docs.python.org/3/library/stdtypes.html#range) object will always take the same (small) amount of memory, no matter the size of the range it represents (as it only stores the `start`, `stop` and `step` values, calculating individual items and subranges as needed).\n",
    "\n",
    "Range objects implement the [`collections.abc.Sequence`](https://docs.python.org/3/library/collections.abc.html#collections.abc.Sequence) ABC, and provide features such as containment tests, element index lookup, slicing and support for negative indices (see [Sequence Types — list, tuple, range](https://docs.python.org/3/library/stdtypes.html#typesseq)):\n",
    "\n",
    "> 与普通的 [`list`](https://docs.python.org/3/library/stdtypes.html#list) 或 [`tuple`](https://docs.python.org/3/library/stdtypes.html#tuple) 相比，[`range`](https://docs.python.org/3/library/stdtypes.html#range) 类型的优势在于，无论它所代表的range有多大，[`range`](https://docs.python.org/3/library/stdtypes.html#range) 对象都会占用相同（少量）的内存（因为它只存储 `start`、`stop `和 `step` 值，根据需要计算各个项目和子ranges）。\n",
    ">\n",
    "> Range对象实现了 [`collections.abc.Sequence`](https://docs.python.org/3/library/collections.abc.html#collections.abc.Sequence) ABC，并提供了一些功能，如包含性测试、元素索引查询、切片和对负指数的支持（见[Sequence Types - list, tuple, range](https://docs.python.org/3/library/stdtypes.html#typesseq)）。"
   ]
  },
  {
   "cell_type": "code",
   "execution_count": 30,
   "id": "55a0cd5e-7568-4a65-82a3-53fcb3e95ea6",
   "metadata": {},
   "outputs": [
    {
     "data": {
      "text/plain": [
       "range(0, 20, 2)"
      ]
     },
     "execution_count": 30,
     "metadata": {},
     "output_type": "execute_result"
    },
    {
     "data": {
      "text/plain": [
       "False"
      ]
     },
     "execution_count": 30,
     "metadata": {},
     "output_type": "execute_result"
    },
    {
     "data": {
      "text/plain": [
       "True"
      ]
     },
     "execution_count": 30,
     "metadata": {},
     "output_type": "execute_result"
    },
    {
     "data": {
      "text/plain": [
       "5"
      ]
     },
     "execution_count": 30,
     "metadata": {},
     "output_type": "execute_result"
    },
    {
     "data": {
      "text/plain": [
       "10"
      ]
     },
     "execution_count": 30,
     "metadata": {},
     "output_type": "execute_result"
    },
    {
     "data": {
      "text/plain": [
       "range(0, 10, 2)"
      ]
     },
     "execution_count": 30,
     "metadata": {},
     "output_type": "execute_result"
    },
    {
     "data": {
      "text/plain": [
       "18"
      ]
     },
     "execution_count": 30,
     "metadata": {},
     "output_type": "execute_result"
    }
   ],
   "source": [
    "r = range(0, 20, 2)\n",
    "r\n",
    "\n",
    "11 in r\n",
    "10 in r\n",
    "\n",
    "r.index(10)\n",
    "r[5]\n",
    "r[:5]\n",
    "r[-1]"
   ]
  },
  {
   "cell_type": "markdown",
   "id": "140712f3-a474-4c8f-b900-7334c3baf3cf",
   "metadata": {},
   "source": [
    "Testing range objects for equality with `==` and `!=` compares them as sequences. That is, two range objects are considered equal if they represent the same sequence of values. (Note that two range objects that compare equal might have different [`start`](https://docs.python.org/3/library/stdtypes.html#range.start), [`stop`](https://docs.python.org/3/library/stdtypes.html#range.stop) and [`step`](https://docs.python.org/3/library/stdtypes.html#range.step) attributes, for example `range(0) == range(2, 1, 3)` or `range(0, 3, 2) == range(0, 4, 2)`.)\n",
    "\n",
    "*Changed in version 3.2:* Implement the Sequence ABC. Support slicing and negative indices. Test [`int`](https://docs.python.org/3/library/functions.html#int) objects for membership in constant time instead of iterating through all items.\n",
    "\n",
    "*Changed in version 3.3:* Define ‘==’ and ‘!=’ to compare range objects based on the sequence of values they define (instead of comparing based on object identity).\n",
    "\n",
    "*New in version 3.3:* The [`start`](https://docs.python.org/3/library/stdtypes.html#range.start), [`stop`](https://docs.python.org/3/library/stdtypes.html#range.stop) and [`step`](https://docs.python.org/3/library/stdtypes.html#range.step) attributes.\n",
    "\n",
    "> 用 `==` 和 `!=` 测试range对象是否相等，将它们作为序列进行比较。也就是说，如果两个range对象代表相同的数值序列，则认为它们是相等的。(注意，两个比较相等的range对象可能有不同的 [`start`](https://docs.python.org/3/library/stdtypes.html#range.start), [`stop`](https://docs.python.org/3/library/stdtypes.html#range.stop) 和 [`step`](https://docs.python.org/3/library/stdtypes.html#range.step) 属性，例如 `range(0) == range(2, 1, 3)`  或 `range(0, 3, 2) == range(0, 4, 2)`。)\n",
    ">\n",
    "> *在3.2版本中有所改变：*实现序列ABC。支持分片和负指数。在恒定时间内测试 [`int`](https://docs.python.org/3/library/functions.html#int) 对象的成员资格，而不是在所有项目中进行迭代。\n",
    ">\n",
    "> *在3.3版本中改变了：*定义 `==`和 `!=`，根据它们定义的值的序列来比较range对象（而不是根据对象身份进行比较）。\n",
    ">\n",
    "> *在3.3版本中新增：* [`start`](https://docs.python.org/3/library/stdtypes.html#range.start), [`stop`](https://docs.python.org/3/library/stdtypes.html#range.stop) 和 [`step`](https://docs.python.org/3/library/stdtypes.html#range.step)属性。"
   ]
  },
  {
   "cell_type": "markdown",
   "id": "53dbb444-5fcb-4a44-962b-58c6f944e4cc",
   "metadata": {},
   "source": [
    "**See also**:\n",
    "\n",
    "- The [linspace recipe](http://code.activestate.com/recipes/579000/) shows how to implement a lazy version of range suitable for floating point applications.\n",
    "\n",
    "> **也见**。\n",
    ">\n",
    "> - [linspace recipe](http://code.activestate.com/recipes/579000/)展示了如何实现适合于浮点应用的懒惰版本的range。"
   ]
  },
  {
   "cell_type": "markdown",
   "id": "aed3d824-a9d3-41c5-bdf6-ff5b33279f92",
   "metadata": {},
   "source": [
    "## Text Sequence Type — [`str`](https://docs.python.org/3/library/stdtypes.html#str)"
   ]
  },
  {
   "cell_type": "markdown",
   "id": "c2ea6f0e-bc74-4837-ac96-7cd6626ab022",
   "metadata": {},
   "source": [
    "Triple quoted strings may span multiple lines - all associated whitespace will be included in the string literal.\n",
    "\n",
    "String literals that are part of a single expression and have only whitespace between them will be implicitly converted to a single string literal. That is, `(\"spam \" \"eggs\") == \"spam eggs\"`.\n",
    "\n",
    "See [String and Bytes literals](https://docs.python.org/3/reference/lexical_analysis.html#strings) for more about the various forms of string literal, including supported escape sequences, and the `r` (“raw”) prefix that disables most escape sequence processing.\n",
    "\n",
    "Strings may also be created from other objects using the [`str`](https://docs.python.org/3/library/stdtypes.html#str) constructor.\n",
    "\n",
    "Since there is no separate “character” type, indexing a string produces strings of length 1. That is, for a non-empty string *s*, `s[0] == s[0:1]`.\n",
    "\n",
    "There is also no mutable string type, but [`str.join()`](https://docs.python.org/3/library/stdtypes.html#str.join) or [`io.StringIO`](https://docs.python.org/3/library/io.html#io.StringIO) can be used to efficiently construct strings from multiple fragments.\n",
    "\n",
    "*Changed in version 3.3:* For backwards compatibility with the Python 2 series, the `u` prefix is once again permitted on string literals. It has no effect on the meaning of string literals and cannot be combined with the `r` prefix.\n",
    "\n",
    "> 三重引号的字符串可以**跨越**多行--所有相关的空白将被包括在字符串字面中。\n",
    ">\n",
    "> 作为单个表达式的一部分，并且它们之间只有空白的字符串字面将被隐含地转换为单个字符串字面。也就是说，`(\"spam \" \"eggs\") == \"spam eggs\"`。\n",
    ">\n",
    "> 参见[字符串和字节字面](https://docs.python.org/3/reference/lexical_analysis.html#strings)以了解更多关于字符串字面的各种形式，包括支持的转义序列，以及禁用大多数转义序列处理的 `r`（\"raw\"）前缀。\n",
    ">\n",
    "> 字符串也可以使用 [`str`](https://docs.python.org/3/library/stdtypes.html#str) 构造函数从其他对象创建。\n",
    ">\n",
    "> 由于没有单独的 \"character\" 类型，索引字符串产生长度为1的字符串。 也就是说，对于一个非空的字符串*s*，`s[0] == s[0:1]`。\n",
    ">\n",
    "> 也没有可变的字符串类型，但是 [`str.join()`](https://docs.python.org/3/library/stdtypes.html#str.join) 或 [`io.StringIO`](https://docs.python.org/3/library/io.html#io.StringIO) 可以用来有效地从多个片段构建字符串。\n",
    ">\n",
    "> *在3.3版本中改变了：*为了向后兼容Python 2系列，`u` 前缀再次被允许出现在字符串字面上。它对字符串字头的意义没有影响，并且不能与 `r` 前缀结合。"
   ]
  },
  {
   "cell_type": "code",
   "execution_count": 31,
   "id": "a7def744-763a-45c2-8aae-29d89098c3fd",
   "metadata": {},
   "outputs": [
    {
     "data": {
      "text/plain": [
       "'allows embedded \"double\" quotes'"
      ]
     },
     "execution_count": 31,
     "metadata": {},
     "output_type": "execute_result"
    },
    {
     "data": {
      "text/plain": [
       "\"allows embedded 'single' quotes\""
      ]
     },
     "execution_count": 31,
     "metadata": {},
     "output_type": "execute_result"
    },
    {
     "data": {
      "text/plain": [
       "'Three single quotes'"
      ]
     },
     "execution_count": 31,
     "metadata": {},
     "output_type": "execute_result"
    },
    {
     "data": {
      "text/plain": [
       "'Three double quotes'"
      ]
     },
     "execution_count": 31,
     "metadata": {},
     "output_type": "execute_result"
    }
   ],
   "source": [
    "'allows embedded \"double\" quotes'\n",
    "\"allows embedded 'single' quotes\"\n",
    "\n",
    "a = '''Three single quotes'''\n",
    "a \n",
    "\n",
    "\"\"\"Three double quotes\"\"\""
   ]
  },
  {
   "cell_type": "code",
   "execution_count": 32,
   "id": "6f0c6cf9-a0fa-46d2-9b80-12fd9034ef44",
   "metadata": {},
   "outputs": [
    {
     "data": {
      "text/plain": [
       "'riple quoted strings may span multiple lines - \\nall associated whitespace will be included in the string literal.'"
      ]
     },
     "execution_count": 32,
     "metadata": {},
     "output_type": "execute_result"
    }
   ],
   "source": [
    "\"\"\"riple quoted strings may span multiple lines - \n",
    "all associated whitespace will be included in the string literal.\"\"\""
   ]
  },
  {
   "cell_type": "code",
   "execution_count": 33,
   "id": "075e1175-eb47-4d61-bd68-bb2564080658",
   "metadata": {},
   "outputs": [
    {
     "data": {
      "text/plain": [
       "True"
      ]
     },
     "execution_count": 33,
     "metadata": {},
     "output_type": "execute_result"
    }
   ],
   "source": [
    "(\"spam \" \"eggs\") == \"spam eggs\""
   ]
  },
  {
   "cell_type": "code",
   "execution_count": 34,
   "id": "831f57d1-33f1-4c37-bf40-303f5ac2f83d",
   "metadata": {},
   "outputs": [
    {
     "data": {
      "text/plain": [
       "'12345'"
      ]
     },
     "execution_count": 34,
     "metadata": {},
     "output_type": "execute_result"
    }
   ],
   "source": [
    "s = str(12345)\n",
    "s"
   ]
  },
  {
   "cell_type": "code",
   "execution_count": 35,
   "id": "98272a0b-0fed-41a5-9c13-4365395cbb91",
   "metadata": {},
   "outputs": [
    {
     "data": {
      "text/plain": [
       "True"
      ]
     },
     "execution_count": 35,
     "metadata": {},
     "output_type": "execute_result"
    }
   ],
   "source": [
    "s[0] == s[0:1]"
   ]
  },
  {
   "cell_type": "code",
   "execution_count": 36,
   "id": "4d545b79-1119-4d1c-8ecd-99bdb611ee00",
   "metadata": {},
   "outputs": [
    {
     "data": {
      "text/plain": [
       "'s12345t12345r12345i12345n12345g'"
      ]
     },
     "execution_count": 36,
     "metadata": {},
     "output_type": "execute_result"
    }
   ],
   "source": [
    "s.join('string')"
   ]
  },
  {
   "cell_type": "markdown",
   "id": "8384987c-0361-4c0e-9325-eb811299a705",
   "metadata": {},
   "source": [
    "*class* `str`(*object=''*)\n",
    "\n",
    "*class* `str`(*object=b''*, *encoding='utf-8'*, *errors='strict'*)\n",
    "\n",
    "Return a [string](https://docs.python.org/3/library/stdtypes.html#textseq) version of *object*. If *object* is not provided, returns the empty string. Otherwise, the behavior of `str()` depends on whether *encoding* or *errors* is given, as follows.\n",
    "\n",
    "If neither *encoding* nor *errors* is given, `str(object)` returns [`type(object).__str__(object)`](https://docs.python.org/3/reference/datamodel.html#object.__str__), which is the “informal” or nicely printable string representation of *object*. For string objects, this is the string itself. If *object* does not have a [`__str__()`](https://docs.python.org/3/reference/datamodel.html#object.__str__) method, then [`str()`](https://docs.python.org/3/library/stdtypes.html#str) falls back to returning [`repr(object)`](https://docs.python.org/3/library/functions.html#repr).\n",
    "\n",
    "If at least one of *encoding* or *errors* is given, *object* should be a [bytes-like object](https://docs.python.org/3/glossary.html#term-bytes-like-object) (e.g. [`bytes`](https://docs.python.org/3/library/stdtypes.html#bytes) or [`bytearray`](https://docs.python.org/3/library/stdtypes.html#bytearray)). In this case, if *object* is a [`bytes`](https://docs.python.org/3/library/stdtypes.html#bytes) (or [`bytearray`](https://docs.python.org/3/library/stdtypes.html#bytearray)) object, then `str(bytes, encoding, errors)` is equivalent to [`bytes.decode(encoding, errors)`](https://docs.python.org/3/library/stdtypes.html#bytes.decode). Otherwise, the bytes object underlying the buffer object is obtained before calling [`bytes.decode()`](https://docs.python.org/3/library/stdtypes.html#bytes.decode). See [Binary Sequence Types — bytes, bytearray, memoryview](https://docs.python.org/3/library/stdtypes.html#binaryseq) and [Buffer Protocol](https://docs.python.org/3/c-api/buffer.html#bufferobjects) for information on buffer objects.\n",
    "\n",
    "Passing a [`bytes`](https://docs.python.org/3/library/stdtypes.html#bytes) object to [`str()`](https://docs.python.org/3/library/stdtypes.html#str) without the *encoding* or *errors* arguments falls under the first case of returning the informal string representation (see also the [`-b`](https://docs.python.org/3/using/cmdline.html#cmdoption-b) command-line option to Python). For example:\n",
    "\n",
    "> *class* `str`(*object=''*)\n",
    ">\n",
    "> *class* `str`(*object=b''*, *encoding='utf-8'*, *errors='strict *)\n",
    ">\n",
    "> 返回*object*的[string](https://docs.python.org/3/library/stdtypes.html#textseq)版本。如果没有提供*object*，则返回空字符串。否则，`str()` 的行为取决于是否给出了*encoding*或*errors*，如下所示。\n",
    ">\n",
    "> 如果没有给出*encoding*或*errors*，`str(object) `返回[`type(object).__str__(object)`](https://docs.python.org/3/reference/datamodel.html#object.__str__)，这是*object*的 \"非正式\"或可打印的字符串表示。对于字符串对象，这就是字符串本身。如果*object*没有[`__str__()`](https://docs.python.org/3/reference/datamodel.html#object.__str__)方法，那么[`str()`](https://docs.python.org/3/library/stdtypes.html#str)就会退回到返回[`repr(object)`](https://docs.python.org/3/library/functions.html#repr)。\n",
    ">\n",
    "> 如果至少给出了*encoding*或*errors*中的一个，*object*应该是一个[byte-like object](https://docs.python.org/3/glossary.html#term-bytes-like-object)（例如，[`bytes`](https://docs.python.org/3/library/stdtypes.html#bytes)或[`bytearray`](https://docs.python.org/3/library/stdtypes.html#bytearray)）。在这种情况下，如果*object*是一个[`bytes`](https://docs.python.org/3/library/stdtypes.html#bytes)（或[`bytearray`](https://docs.python.org/3/library/stdtypes.html#bytearray)）对象，那么`str(bytes, encoding, errors)`就相当于[`bytes.decode(encoding, errors)`](https://docs.python.org/3/library/stdtypes.html#bytes.decode)。否则，在调用[`bytes.decode()`](https://docs.python.org/3/library/stdtypes.html#bytes.decode)之前获得缓冲区对象的底层字节对象。关于缓冲区对象的信息，请参见[二进制序列类型--bytes、bytearray、memoryview](https://docs.python.org/3/library/stdtypes.html#binaryseq)和[缓冲区协议](https://docs.python.org/3/c-api/buffer.html#bufferobjects)。\n",
    ">\n",
    "> 将 [`bytes`](https://docs.python.org/3/library/stdtypes.html#bytes) 对象传递给 [`str()`](https://docs.python.org/3/library/stdtypes.html#str) 而没有 *encoding* 或 *errors* 参数，属于返回非正式字符串表示法的第一种情况 (也见 Python 的 [`-b`](https://docs.python.org/3/using/cmdline.html#cmdoption-b) 命令行选项)。比如说："
   ]
  },
  {
   "cell_type": "code",
   "execution_count": 37,
   "id": "6a3f4d3f-c7de-4f7c-a298-1ff9479fef70",
   "metadata": {},
   "outputs": [
    {
     "data": {
      "text/plain": [
       "\"b'Zoot!'\""
      ]
     },
     "execution_count": 37,
     "metadata": {},
     "output_type": "execute_result"
    }
   ],
   "source": [
    "str(b'Zoot!')"
   ]
  },
  {
   "cell_type": "markdown",
   "id": "98ac6194-570d-46ce-89ad-8e815c169253",
   "metadata": {},
   "source": [
    "For more information on the `str` class and its methods, see [Text Sequence Type — str](https://docs.python.org/3/library/stdtypes.html#textseq) and the [String Methods](https://docs.python.org/3/library/stdtypes.html#string-methods) section below. To output formatted strings, see the [Formatted string literals](https://docs.python.org/3/reference/lexical_analysis.html#f-strings) and [Format String Syntax](https://docs.python.org/3/library/string.html#formatstrings) sections. In addition, see the [Text Processing Services](https://docs.python.org/3/library/text.html#stringservices) section.\n",
    "\n",
    "> 关于`str`类及其方法的更多信息，请参见下面的[文本序列类型-str](https://docs.python.org/3/library/stdtypes.html#textseq)和[字符串方法](https://docs.python.org/3/library/stdtypes.html#string-methods)部分。要输出格式化的字符串，请参见[格式化字符串字面](https://docs.python.org/3/reference/lexical_analysis.html#f-strings)和[格式化字符串语法](https://docs.python.org/3/library/string.html#formatstrings)部分。此外，请参见[文本处理服务](https://docs.python.org/3/library/text.html#stringservices)部分。"
   ]
  },
  {
   "cell_type": "markdown",
   "id": "8095a9e9-58be-4632-b18b-393600fbd54e",
   "metadata": {},
   "source": [
    "### String Methods"
   ]
  },
  {
   "cell_type": "markdown",
   "id": "d3c017d5-2b34-4988-b4bb-82146ce526e6",
   "metadata": {},
   "source": [
    "Strings implement all of the [common](https://docs.python.org/3/library/stdtypes.html#typesseq-common) sequence operations, along with the additional methods described below.\n",
    "\n",
    "Strings also support two styles of string formatting, one providing a large degree of flexibility and customization (see [`str.format()`](https://docs.python.org/3/library/stdtypes.html#str.format), [Format String Syntax](https://docs.python.org/3/library/string.html#formatstrings) and [Custom String Formatting](https://docs.python.org/3/library/string.html#string-formatting)) and the other based on C `printf` style formatting that handles a narrower range of types and is slightly harder to use correctly, but is often faster for the cases it can handle ([printf-style String Formatting](https://docs.python.org/3/library/stdtypes.html#old-string-formatting)).\n",
    "\n",
    "The [Text Processing Services](https://docs.python.org/3/library/text.html#textservices) section of the standard library covers a number of other modules that provide various text related utilities (including regular expression support in the [`re`](https://docs.python.org/3/library/re.html#module-re) module).\n",
    "\n",
    "> 字符串实现了所有的[common](https://docs.python.org/3/library/stdtypes.html#typesseq-common)序列操作，以及下面描述的其他方法。\n",
    ">\n",
    "> 字符串还支持两种风格的字符串格式化，一种提供了很大程度的灵活性和自定义（参见[`str.format()`](https://docs.python.org/3/library/stdtypes.html#str.format), [Format String Syntax](https://docs.python.org/3/library/string.html#formatstrings) 和 [Custom String Formatting](https://docs.python.org/3/library/string.html#string-formatting)），另一种是基于C的`printf`风格格式化，处理的类型范围较窄，正确使用稍显困难，但对于它能处理的情况来说通常比较快（[printf风格字符串格式化](https://docs.python.org/3/library/stdtypes.html#old-string-formatting) ）。\n",
    ">\n",
    "> 标准库的[文本处理服务](https://docs.python.org/3/library/text.html#textservices)部分涵盖了其他一些提供各种文本相关工具的模块（包括[`re`](https://docs.python.org/3/library/re.html#module-re)模块中的正则表达式支持）。"
   ]
  },
  {
   "cell_type": "markdown",
   "id": "d059a098-a2eb-4d06-8c3c-e02e84c32cd5",
   "metadata": {},
   "source": [
    "`str.capitalize`()\n",
    "\n",
    "Return a copy of the string with its first character capitalized and the rest lowercased.\n",
    "\n",
    "*Changed in version 3.8:* The first character is now put into titlecase rather than uppercase. This means that characters like digraphs will only have their first letter capitalized, instead of the full character.\n",
    "\n",
    "> `str.capitalize`()\n",
    ">\n",
    "> 返回一个字符串的副本，其第一个字符大写，其余的小写。\n",
    ">\n",
    "> *在3.8版本中改变了：* 第一个字符现在被放到标题大写而不是字母大写。这意味着像二维码这样的字符将只有其第一个字母被大写，而不是整个字符。"
   ]
  },
  {
   "cell_type": "code",
   "execution_count": 38,
   "id": "908e55fc-ccde-4d00-8755-ce98479b0762",
   "metadata": {},
   "outputs": [
    {
     "data": {
      "text/plain": [
       "'String'"
      ]
     },
     "execution_count": 38,
     "metadata": {},
     "output_type": "execute_result"
    }
   ],
   "source": [
    "s = 'string'\n",
    "s.capitalize()"
   ]
  },
  {
   "cell_type": "markdown",
   "id": "553b2ff0-a333-4dc6-bbc9-3f0e399dccb7",
   "metadata": {},
   "source": [
    "`str.casefold`()\n",
    "\n",
    "Return a casefolded copy of the string. Casefolded strings may be used for caseless matching.\n",
    "\n",
    "Casefolding is similar to lowercasing but more aggressive because it is intended to remove all case distinctions in a string. For example, the German lowercase letter `'ß'` is equivalent to `\"ss\"`. Since it is already lowercase, [`lower()`](https://docs.python.org/3/library/stdtypes.html#str.lower) would do nothing to `'ß'`; [`casefold()`](https://docs.python.org/3/library/stdtypes.html#str.casefold) converts it to `\"ss\"`.\n",
    "\n",
    "The casefolding algorithm is described in section 3.13 of the Unicode Standard.\n",
    "\n",
    "*New in version 3.3.*\n",
    "\n",
    "> `str.casefold`()\n",
    ">\n",
    "> 返回该字符串的小写折叠副本。小写折叠后的字符串可用于无大写匹配。\n",
    ">\n",
    "> 小写折叠类似于小写，但更激进，因为它的目的是去除字符串中的所有大小写区别。例如，德语小写字母 `'ß'` 等同于 `\"ss\"`。由于它已经是小写字母，[`lower()` ](https://docs.python.org/3/library/stdtypes.html#str.lower)不会对 `'ß'` 做任何处理；[`casefold()`](https://docs.python.org/3/library/stdtypes.html#str.casefold)将其转换为 `\"ss\"`。\n",
    ">\n",
    "> 小写折叠算法在Unicode标准的3.13节中有描述。\n",
    ">\n",
    "> *3.3.版本中的新内容*"
   ]
  },
  {
   "cell_type": "code",
   "execution_count": 39,
   "id": "a08a5496-2d2c-48a7-b577-d1e5f1ccdb16",
   "metadata": {},
   "outputs": [
    {
     "data": {
      "text/plain": [
       "'string'"
      ]
     },
     "execution_count": 39,
     "metadata": {},
     "output_type": "execute_result"
    },
    {
     "data": {
      "text/plain": [
       "'laababbccddeefeffgghijk'"
      ]
     },
     "execution_count": 39,
     "metadata": {},
     "output_type": "execute_result"
    }
   ],
   "source": [
    "a = s.capitalize()\n",
    "\n",
    "a.casefold()\n",
    "\n",
    "'LaAbAbBcCdDEeFeFfGgHIJK'.casefold()"
   ]
  },
  {
   "cell_type": "markdown",
   "id": "caaa2228-de51-423d-b182-3c836cb9f9c8",
   "metadata": {},
   "source": [
    "`str.center`(*width*[, *fillchar*])\n",
    "\n",
    "Return centered in a string of length *width*. Padding is done using the specified *fillchar* (default is an ASCII space). The original string is returned if *width* is less than or equal to `len(s)`.\n",
    "\n",
    "> `str.center`(*width*[, *fillchar*])\n",
    ">\n",
    "> 返回长度为*width*的字符串中的居中。使用指定的*fillchar*进行填充（默认为ASCII空格）。如果*width*小于或等于 `len(s)`，则返回原始字符串。"
   ]
  },
  {
   "cell_type": "code",
   "execution_count": 40,
   "id": "2a6b938c-bb29-44ff-95a6-39e85bcee4e1",
   "metadata": {},
   "outputs": [
    {
     "data": {
      "text/plain": [
       "' string'"
      ]
     },
     "execution_count": 40,
     "metadata": {},
     "output_type": "execute_result"
    },
    {
     "data": {
      "text/plain": [
       "'Sstring'"
      ]
     },
     "execution_count": 40,
     "metadata": {},
     "output_type": "execute_result"
    }
   ],
   "source": [
    "s.center(7)\n",
    "s.center(7, 'S')"
   ]
  },
  {
   "cell_type": "markdown",
   "id": "887484d4-84c7-4ada-aabf-245bbfe65e3c",
   "metadata": {},
   "source": [
    "`str.count`(*sub*[, *start*[, *end*]])\n",
    "\n",
    "Return the number of non-overlapping occurrences of substring *sub* in the range [*start*, *end*]. Optional arguments *start* and *end* are interpreted as in slice notation.\n",
    "\n",
    "> `str.count`(*sub*[, *start*[, *end*]])\n",
    ">\n",
    "> 返回子串*sub*在[*start*, *end*]范围内不重叠出现的次数。可选的参数*start*和*end*被解释为切片符号。"
   ]
  },
  {
   "cell_type": "code",
   "execution_count": 41,
   "id": "e3bc4e9c-a7cf-494a-a872-83831140b40f",
   "metadata": {},
   "outputs": [
    {
     "data": {
      "text/plain": [
       "1"
      ]
     },
     "execution_count": 41,
     "metadata": {},
     "output_type": "execute_result"
    }
   ],
   "source": [
    "s.count('s')"
   ]
  },
  {
   "cell_type": "markdown",
   "id": "35f32a0f-9309-44d4-afd0-2abd162ccb4c",
   "metadata": {},
   "source": [
    "`str.encode`(*encoding='utf-8'*, *errors='strict'*)\n",
    "\n",
    "Return an encoded version of the string as a bytes object. Default encoding is `'utf-8'`. *errors* may be given to set a different error handling scheme. The default for *errors* is `'strict'`, meaning that encoding errors raise a [`UnicodeError`](https://docs.python.org/3/library/exceptions.html#UnicodeError). Other possible values are `'ignore'`, `'replace'`, `'xmlcharrefreplace'`, `'backslashreplace'` and any other name registered via [`codecs.register_error()`](https://docs.python.org/3/library/codecs.html#codecs.register_error), see section [Error Handlers](https://docs.python.org/3/library/codecs.html#error-handlers). For a list of possible encodings, see section [Standard Encodings](https://docs.python.org/3/library/codecs.html#standard-encodings).\n",
    "\n",
    "By default, the *errors* argument is not checked for best performances, but only used at the first encoding error. Enable the [Python Development Mode](https://docs.python.org/3/library/devmode.html#devmode), or use a [debug build](https://docs.python.org/3/using/configure.html#debug-build) to check *errors*.\n",
    "\n",
    "*Changed in version 3.1:* Support for keyword arguments added.\n",
    "\n",
    "*Changed in version 3.9:* The *errors* is now checked in development mode and in [debug mode](https://docs.python.org/3/using/configure.html#debug-build).\n",
    "\n",
    "> `str.encode`(*encoding='utf-8'*, *errors='strict'*)\n",
    ">\n",
    "> 返回字符串的编码版本，即字节对象。默认的编码是`'utf-8'`。可以给出*errors*来设置不同的错误处理方案。默认的*errors*是`'strict'`，意味着编码错误会引发[`UnicodeError`](https://docs.python.org/3/library/exceptions.html#UnicodeError)。其他可能的值是`'ignore'`，`'replace'`，`'xmlcharrefreplace'`，`'backslashreplace'`和任何其他通过[`codecs.register_error()`](https://docs.python.org/3/library/codecs.html#codecs.register_error)注册的名称，见[错误处理程序](https://docs.python.org/3/library/codecs.html#error-handlers)一节。关于可能的编码列表，见[标准编码](https://docs.python.org/3/library/codecs.html#standard-encodings)一节。\n",
    ">\n",
    "> 默认情况下，为了获得最佳性能，*errors*参数不被检查，而只在第一个编码错误时使用。启用 [Python Development Mode](https://docs.python.org/3/library/devmode.html#devmode)，或者使用 [debug build](https://docs.python.org/3/using/configure.html#debug-build) 来检查 *errors*。\n",
    ">\n",
    "> *3.1版中的变化：* 增加了对关键字参数的支持。\n",
    ">\n",
    "> *在3.9版本中改变了：*现在在开发模式和[调试模式](https://docs.python.org/3/using/configure.html#debug-build)中检查*errors*。"
   ]
  },
  {
   "cell_type": "code",
   "execution_count": 42,
   "id": "b08c76b6-a3b6-4b32-a10a-e7fc1871afd9",
   "metadata": {},
   "outputs": [
    {
     "data": {
      "text/plain": [
       "b'string'"
      ]
     },
     "execution_count": 42,
     "metadata": {},
     "output_type": "execute_result"
    }
   ],
   "source": [
    "s.encode()"
   ]
  },
  {
   "cell_type": "markdown",
   "id": "7e781fc9-8f72-4968-8fc1-f69e78e736f8",
   "metadata": {},
   "source": [
    "`str.endswith`(*suffix*[, *start*[, *end*]])\n",
    "\n",
    "Return `True` if the string ends with the specified *suffix*, otherwise return `False`. *suffix* can also be a tuple of suffixes to look for. With optional *start*, test beginning at that position. With optional *end*, stop comparing at that position.\n",
    "\n",
    "> `str.endswith`(*suffix*[, *start*[, *end*]])\n",
    ">\n",
    "> 如果字符串以指定的*suffix*结束，返回 `True`，否则返回 `False`。*suffix*也可以是一个要寻找的后缀的元组。使用可选的*start*，从该位置开始测试。有了可选的*end*，在该位置停止比较。"
   ]
  },
  {
   "cell_type": "code",
   "execution_count": 43,
   "id": "3893d20f-1212-4d84-a371-79de1d545e6f",
   "metadata": {},
   "outputs": [
    {
     "data": {
      "text/plain": [
       "True"
      ]
     },
     "execution_count": 43,
     "metadata": {},
     "output_type": "execute_result"
    }
   ],
   "source": [
    "s.endswith('g')"
   ]
  },
  {
   "cell_type": "markdown",
   "id": "588cb2c7-1ae8-4490-ab8e-46a7932f9a91",
   "metadata": {},
   "source": [
    "`str.expandtabs`(*tabsize=8*)\n",
    "\n",
    "Return a copy of the string where all tab characters are replaced by one or more spaces, depending on the current column and the given tab size. Tab positions occur every *tabsize* characters (default is 8, giving tab positions at columns 0, 8, 16 and so on). To expand the string, the current column is set to zero and the string is examined character by character. If the character is a tab (`\\t`), one or more space characters are inserted in the result until the current column is equal to the next tab position. (The tab character itself is not copied.) If the character is a newline (`\\n`) or return (`\\r`), it is copied and the current column is reset to zero. Any other character is copied unchanged and the current column is incremented by one regardless of how the character is represented when printed.\n",
    "\n",
    "> `str.expandtabs`(*tabsize=8*)\n",
    ">\n",
    "> 返回一个字符串的副本，其中所有的制表符被一个或多个空格所取代，这取决于当前的列和给定的制表符大小。每隔*tabsize*个字符就有一个tab位置（默认为8，在第0、8、16列给出tab位置，以此类推）。为了扩展字符串，当前列被设置为零，并逐个检查字符串的字符。如果该字符是一个制表符（`\\t`），则在结果中插入一个或多个空格字符，直到当前列等于下一个制表符位置。(如果是换行符(`\\n`)或回车符(`\\r`)，它被复制，当前列被重置为零。任何其他字符被复制而不改变，当前列被增加1，无论该字符在打印时如何表示："
   ]
  },
  {
   "cell_type": "code",
   "execution_count": 44,
   "id": "99c4d355-c7d9-4a0e-a9f5-cec1a0c03400",
   "metadata": {},
   "outputs": [
    {
     "data": {
      "text/plain": [
       "'01      012     0123    01234'"
      ]
     },
     "execution_count": 44,
     "metadata": {},
     "output_type": "execute_result"
    }
   ],
   "source": [
    "'01\\t012\\t0123\\t01234'.expandtabs()"
   ]
  },
  {
   "cell_type": "code",
   "execution_count": 45,
   "id": "27c37a9c-9ab8-4fbc-a997-dd9b7c8a533b",
   "metadata": {},
   "outputs": [
    {
     "data": {
      "text/plain": [
       "'01  012 0123    01234'"
      ]
     },
     "execution_count": 45,
     "metadata": {},
     "output_type": "execute_result"
    }
   ],
   "source": [
    "'01\\t012\\t0123\\t01234'.expandtabs(4)"
   ]
  },
  {
   "cell_type": "markdown",
   "id": "bbea8ca1-1396-4ddb-8d10-5b119edad7b6",
   "metadata": {},
   "source": [
    "`str.find`(*sub*[, *start*[, *end*]])\n",
    "\n",
    "Return the lowest index in the string where substring *sub* is found within the slice `s[start:end]`. Optional arguments *start* and *end* are interpreted as in slice notation. Return `-1` if *sub* is not found.\n",
    "\n",
    "> `str.find`(*sub*[, *start*[, *end*]])\n",
    ">\n",
    "> 返回字符串中子串*sub*在片断 `s[start:end]` 中的最低索引。可选的参数*start*和*end*被解释为切片符号。如果没有找到*sub*，则返回 `-1`。"
   ]
  },
  {
   "cell_type": "code",
   "execution_count": 46,
   "id": "ee0e0c8b-9fa2-445c-af07-69a5e4ed2e2c",
   "metadata": {},
   "outputs": [
    {
     "data": {
      "text/plain": [
       "1"
      ]
     },
     "execution_count": 46,
     "metadata": {},
     "output_type": "execute_result"
    }
   ],
   "source": [
    "s = 'string'\n",
    "s.find('t', 0, 4)"
   ]
  },
  {
   "cell_type": "markdown",
   "id": "61d23110-35c8-49ac-ae59-af68fde96339",
   "metadata": {},
   "source": [
    "**Note:** The [`find()`](https://docs.python.org/3/library/stdtypes.html#str.find) method should be used only if you need to know the position of *sub*. To check if *sub* is a substring or not, use the [`in`](https://docs.python.org/3/reference/expressions.html#in) operator:\n",
    "\n",
    "> **注意：** [`find()`](https://docs.python.org/3/library/stdtypes.html#str.find) 方法只有在需要知道*sub*的位置时才可以使用。要检查*sub*是否是一个子串，请使用[`in`](https://docs.python.org/3/reference/expressions.html#in)操作符。"
   ]
  },
  {
   "cell_type": "code",
   "execution_count": 47,
   "id": "772e44ba-c378-44db-a620-32485771fa7f",
   "metadata": {},
   "outputs": [
    {
     "data": {
      "text/plain": [
       "False"
      ]
     },
     "execution_count": 47,
     "metadata": {},
     "output_type": "execute_result"
    }
   ],
   "source": [
    "'py' in 'Python'"
   ]
  },
  {
   "cell_type": "markdown",
   "id": "0d47a7bc-304f-418a-9af6-7a3476d9c45f",
   "metadata": {},
   "source": [
    "`str.format`(_*args_, ***kwargs*)\n",
    "\n",
    "Perform a string formatting operation. The string on which this method is called can contain literal text or replacement fields delimited by braces `{}`. Each replacement field contains either the numeric index of a positional argument, or the name of a keyword argument. Returns a copy of the string where each replacement field is replaced with the string value of the corresponding argument.\n",
    "\n",
    "> `str.format`(_*args_, ***kwargs*)\n",
    ">\n",
    "> 执行一个字符串格式化操作。调用此方法的字符串可以包含字面文本或由大括号`{}`分隔的替换字段。每个替换字段包含一个位置参数的数字索引，或者一个关键字参数的名称。返回一个字符串的副本，其中每个替换字段被替换成相应参数的字符串值。"
   ]
  },
  {
   "cell_type": "code",
   "execution_count": 48,
   "id": "e96a2c83-b395-4a0c-bbc3-5e537c99b076",
   "metadata": {},
   "outputs": [
    {
     "data": {
      "text/plain": [
       "'The sum of 1 + 2 is 3'"
      ]
     },
     "execution_count": 48,
     "metadata": {},
     "output_type": "execute_result"
    }
   ],
   "source": [
    "\"The sum of 1 + 2 is {0}\".format(1+2)"
   ]
  },
  {
   "cell_type": "markdown",
   "id": "60666f6e-8ac2-4fac-b205-e1a0db352602",
   "metadata": {},
   "source": [
    "See [Format String Syntax](https://docs.python.org/3/library/string.html#formatstrings) for a description of the various formatting options that can be specified in format strings.\n",
    "\n",
    "> 参见[格式化字符串语法](https://docs.python.org/3/library/string.html#formatstrings)，了解可在格式化字符串中指定的各种格式化选项的描述。"
   ]
  },
  {
   "cell_type": "markdown",
   "id": "dc5f66dd-af43-45ee-b325-d50ab2a06988",
   "metadata": {},
   "source": [
    "**Note:** When formatting a number ([`int`](https://docs.python.org/3/library/functions.html#int), [`float`](https://docs.python.org/3/library/functions.html#float), [`complex`](https://docs.python.org/3/library/functions.html#complex), [`decimal.Decimal`](https://docs.python.org/3/library/decimal.html#decimal.Decimal) and subclasses) with the `n` type (ex: `'{:n}'.format(1234)`), the function temporarily sets the `LC_CTYPE` locale to the `LC_NUMERIC` locale to decode `decimal_point` and `thousands_sep` fields of `localeconv()` if they are non-ASCII or longer than 1 byte, and the `LC_NUMERIC` locale is different than the `LC_CTYPE` locale. This temporary change affects other threads.\n",
    "\n",
    "> **注意：**当格式化一个数字（[`int`](https://docs.python.org/3/library/functions.html#int), [`float`](https://docs.python.org/3/library/functions.html#float), [`complex`](https://docs.python.org/3/library/functions.html#complex), [`decimal.Decimal`](https://docs.python.org/3/library/decimal.html#decimal.Decimal)和子类）的`n`类型（例如：`'{:n}'.format(1234)`），如果`LC_CTYPE`区域设置为`LC_NUMERIC`区域来解码`localeconv()`的`decimal_point`和`thousands_sep`字段是非ASCII或长于1字节，并且`LC_NUMERIC`区域与`LC_CTYPE`区域不同，则该函数临时设置`LC_CTYPE`区域。这个暂时的改变会影响到其他线程。"
   ]
  },
  {
   "cell_type": "markdown",
   "id": "7f6a5a67-8e30-4194-beea-6464972b0696",
   "metadata": {},
   "source": [
    "*Changed in version 3.7:* When formatting a number with the `n` type, the function sets temporarily the `LC_CTYPE` locale to the `LC_NUMERIC` locale in some cases.\n",
    "\n",
    "> *在3.7版中改变了：*当用`n`类型格式化一个数字时，该函数在某些情况下将`LC_CTYPE`区域设置为`LC_NUMERIC`区域。"
   ]
  },
  {
   "cell_type": "markdown",
   "id": "24b407e2-8245-409e-a908-011be6369522",
   "metadata": {},
   "source": [
    "`str.format_map`(*mapping*)\n",
    "\n",
    "Similar to `str.format(**mapping)`, except that `mapping` is used directly and not copied to a [`dict`](https://docs.python.org/3/library/stdtypes.html#dict). This is useful if for example `mapping` is a dict subclass:\n",
    "\n",
    "> `str.format_map`(*mapping*)\n",
    ">\n",
    "> 类似于`str.format(**mapping)`，只是`mapping`被直接使用，而不是复制到一个[`dict`](https://docs.python.org/3/library/stdtypes.html#dict)。例如，如果`mapping`是一个dict子类，这很有用："
   ]
  },
  {
   "cell_type": "code",
   "execution_count": 49,
   "id": "49e7f08c-b04d-49c7-86aa-d2710c46e08a",
   "metadata": {},
   "outputs": [
    {
     "data": {
      "text/plain": [
       "'Guido was born in country'"
      ]
     },
     "execution_count": 49,
     "metadata": {},
     "output_type": "execute_result"
    }
   ],
   "source": [
    "class Default(dict):\n",
    "    def __missing__(self, key):\n",
    "        return key\n",
    "    \n",
    "'{name} was born in {country}'.format_map(Default(name='Guido'))"
   ]
  },
  {
   "cell_type": "markdown",
   "id": "c33c4d19-3a64-421f-a846-8aeb7ffd6455",
   "metadata": {},
   "source": [
    "*New in version 3.2.*"
   ]
  },
  {
   "cell_type": "markdown",
   "id": "91a410e1-8d23-4dfd-8318-74d2c7894251",
   "metadata": {},
   "source": [
    "`str.index`(*sub*[, *start*[, *end*]])\n",
    "\n",
    "Like [`find()`](https://docs.python.org/3/library/stdtypes.html#str.find), but raise [`ValueError`](https://docs.python.org/3/library/exceptions.html#ValueError) when the substring is not found.\n",
    "\n",
    "> `str.index`(*sub*[, *start*[, *end*]])\n",
    ">\n",
    "> 类似于[`find()`](https://docs.python.org/3/library/stdtypes.html#str.find)，但是当子串没有找到时，会引发[`ValueError`](https://docs.python.org/3/library/exceptions.html#ValueError)。"
   ]
  },
  {
   "cell_type": "code",
   "execution_count": 50,
   "id": "9988dd9b-9d78-45af-8325-d20abd2b75c1",
   "metadata": {},
   "outputs": [
    {
     "data": {
      "text/plain": [
       "0"
      ]
     },
     "execution_count": 50,
     "metadata": {},
     "output_type": "execute_result"
    }
   ],
   "source": [
    "s.find('s', 0)"
   ]
  },
  {
   "cell_type": "markdown",
   "id": "6fd65308-b342-44cc-9c3f-f59f0a38867b",
   "metadata": {},
   "source": [
    "`str.isalnum`()\n",
    "\n",
    "Return `True` if all characters in the string are alphanumeric and there is at least one character, `False` otherwise. A character `c` is alphanumeric if one of the following returns `True`: `c.isalpha()`, `c.isdecimal()`, `c.isdigit()`, or `c.isnumeric()`.\n",
    "\n",
    "> `str.isalnum`()\n",
    ">\n",
    "> 如果字符串中的所有字符都是字母数字，并且至少有一个字符，则返回`True`，否则返回`False`。一个字符`c`是字母数字，如果以下情况之一返回`True`：`c.isalpha()`, `c.isdecimal()`, `c.isdigit()`, 或者`c.isnumeric()`。"
   ]
  },
  {
   "cell_type": "code",
   "execution_count": 51,
   "id": "2d0e5cc1-faaa-47ee-bc90-0db06d70d12d",
   "metadata": {},
   "outputs": [
    {
     "data": {
      "text/plain": [
       "True"
      ]
     },
     "execution_count": 51,
     "metadata": {},
     "output_type": "execute_result"
    }
   ],
   "source": [
    "hi = 'hello23'\n",
    "hi.isalnum()"
   ]
  },
  {
   "cell_type": "markdown",
   "id": "b8f85be1-781b-4f29-83b6-92c81b5b3698",
   "metadata": {},
   "source": [
    "`str.isalpha`()\n",
    "\n",
    "Return `True` if all characters in the string are alphabetic and there is at least one character, `False` otherwise. Alphabetic characters are those characters defined in the Unicode character database as “Letter”, i.e., those with general category property being one of “Lm”, “Lt”, “Lu”, “Ll”, or “Lo”. Note that this is different from the “Alphabetic” property defined in the Unicode Standard.\n",
    "\n",
    "> `str.isalpha`()\n",
    ">\n",
    "> 如果字符串中的所有字符都是字母，并且至少有一个字符，则返回 `True`，否则 `False`。字母字符是那些在Unicode字符数据库中被定义为 \"字母 \"的字符，即那些一般类别属性为 \"Lm\"、\"Lt\"、\"Lu\"、\"Ll \"或 \"Lo \"之一的字符。请注意，这与Unicode标准中定义的 \"字母\"属性不同。"
   ]
  },
  {
   "cell_type": "code",
   "execution_count": 52,
   "id": "0f782d72-25a6-4091-8ee6-306ec42d3e3b",
   "metadata": {},
   "outputs": [
    {
     "data": {
      "text/plain": [
       "False"
      ]
     },
     "execution_count": 52,
     "metadata": {},
     "output_type": "execute_result"
    }
   ],
   "source": [
    "hi.isalpha()"
   ]
  },
  {
   "cell_type": "markdown",
   "id": "4d22ebb7-f8f3-4f62-a640-1ede5c7b8d7b",
   "metadata": {},
   "source": [
    "`str.isascii`()\n",
    "\n",
    "Return `True` if the string is empty or all characters in the string are ASCII, `False` otherwise. ASCII characters have code points in the range U+0000-U+007F.\n",
    "\n",
    "*New in version 3.7.*\n",
    "\n",
    "> `str.isascii`()\n",
    ">\n",
    "> 如果字符串是空的或者字符串中的所有字符都是ASCII码，则返回 `True`，否则返回 `False`。ASCII字符的码位范围为U+0000-U+007F。\n",
    ">\n",
    "> *在3.7.版本中新增*"
   ]
  },
  {
   "cell_type": "code",
   "execution_count": 53,
   "id": "8aa4c2fa-24d3-4b84-85f0-cc516c55a853",
   "metadata": {},
   "outputs": [
    {
     "data": {
      "text/plain": [
       "True"
      ]
     },
     "execution_count": 53,
     "metadata": {},
     "output_type": "execute_result"
    }
   ],
   "source": [
    "hi.isascii()"
   ]
  },
  {
   "cell_type": "markdown",
   "id": "f4b03152-67a0-451d-bf37-f9c605289e2c",
   "metadata": {},
   "source": [
    "`str.isdecimal`()\n",
    "\n",
    "Return `True` if all characters in the string are decimal characters and there is at least one character, `False` otherwise. Decimal characters are those that can be used to form numbers in base 10, e.g. U+0660, ARABIC-INDIC DIGIT ZERO. Formally a decimal character is a character in the Unicode General Category “Nd”.\n",
    "\n",
    "> `str.isdecimal`()\n",
    ">\n",
    "> 如果字符串中的所有字符都是十进制字符，并且至少有一个字符，则返回`True`，否则返回`False`。十进制字符是那些可以用来组成以10为基数的数字的字符，例如：U+0660, ARABIC-INDIC DIGIT ZERO。从形式上看，一个十进制字符是Unicode通用类别 \"Nd \"中的一个字符。"
   ]
  },
  {
   "cell_type": "code",
   "execution_count": 54,
   "id": "ee438365-05ff-468d-bdd4-13ae53f7cf24",
   "metadata": {},
   "outputs": [
    {
     "data": {
      "text/plain": [
       "False"
      ]
     },
     "execution_count": 54,
     "metadata": {},
     "output_type": "execute_result"
    }
   ],
   "source": [
    "hi.isdecimal()"
   ]
  },
  {
   "cell_type": "markdown",
   "id": "68c96204-db61-42ea-b95a-b9eb4f0ec24d",
   "metadata": {},
   "source": [
    "`str.isdigit`()\n",
    "\n",
    "Return `True` if all characters in the string are digits and there is at least one character, `False` otherwise. Digits include decimal characters and digits that need special handling, such as the compatibility superscript digits. This covers digits which cannot be used to form numbers in base 10, like the Kharosthi numbers. Formally, a digit is a character that has the property value Numeric_Type=Digit or Numeric_Type=Decimal.\n",
    "\n",
    "> `str.isdigit`()\n",
    ">\n",
    "> 如果字符串中的所有字符都是数字，并且至少有一个字符，则返回`True`，否则返回`False`。数字包括十进制字符和需要特殊处理的数字，如兼容上标数字。这包括不能用来组成以10为基数的数字的数字，如Kharosthi数字。从形式上看，数字是一个具有Numeric_Type=Digit或Numeric_Type=Decimal属性值的字符。"
   ]
  },
  {
   "cell_type": "code",
   "execution_count": 55,
   "id": "116696ff-c895-45bf-9e6e-80e4d616cdba",
   "metadata": {},
   "outputs": [
    {
     "data": {
      "text/plain": [
       "False"
      ]
     },
     "execution_count": 55,
     "metadata": {},
     "output_type": "execute_result"
    }
   ],
   "source": [
    "hi.isdigit()"
   ]
  },
  {
   "cell_type": "markdown",
   "id": "caef79eb-ce8a-4407-998a-03e033bc8b4a",
   "metadata": {},
   "source": [
    "`str.isidentifier`()\n",
    "\n",
    "Return `True` if the string is a valid identifier according to the language definition, section [Identifiers and keywords](https://docs.python.org/3/reference/lexical_analysis.html#identifiers).\n",
    "\n",
    "Call [`keyword.iskeyword()`](https://docs.python.org/3/library/keyword.html#keyword.iskeyword) to test whether string `s` is a reserved identifier, such as [`def`](https://docs.python.org/3/reference/compound_stmts.html#def) and [`class`](https://docs.python.org/3/reference/compound_stmts.html#class).\n",
    "\n",
    "Example:\n",
    "\n",
    "> `str.isidentifier`()\n",
    ">\n",
    "> 如果根据语言定义，字符串是一个有效的标识符，返回`True`，[标识符和关键字](https://docs.python.org/3/reference/lexical_analysis.html#identifiers)。\n",
    ">\n",
    "> 调用[`keyword.iskeyword()`](https://docs.python.org/3/library/keyword.html#keyword.iskeyword)来测试字符串`s`是否是一个保留的标识符，例如[`def`](https://docs.python.org/3/reference/compound_stmts.html#def)和[`class`](https://docs.python.org/3/reference/compound_stmts.html#class)。\n",
    ">\n",
    "> 例子："
   ]
  },
  {
   "cell_type": "code",
   "execution_count": 56,
   "id": "1a77800e-8eef-45b2-89fb-f104fcde3d17",
   "metadata": {},
   "outputs": [
    {
     "data": {
      "text/plain": [
       "True"
      ]
     },
     "execution_count": 56,
     "metadata": {},
     "output_type": "execute_result"
    },
    {
     "data": {
      "text/plain": [
       "False"
      ]
     },
     "execution_count": 56,
     "metadata": {},
     "output_type": "execute_result"
    }
   ],
   "source": [
    "from keyword import iskeyword\n",
    "'hello'.isidentifier()\n",
    "iskeyword('hello')"
   ]
  },
  {
   "cell_type": "code",
   "execution_count": 57,
   "id": "11393a92-64de-4a02-b180-184e49d75724",
   "metadata": {},
   "outputs": [
    {
     "data": {
      "text/plain": [
       "True"
      ]
     },
     "execution_count": 57,
     "metadata": {},
     "output_type": "execute_result"
    },
    {
     "data": {
      "text/plain": [
       "True"
      ]
     },
     "execution_count": 57,
     "metadata": {},
     "output_type": "execute_result"
    }
   ],
   "source": [
    "'def'.isidentifier()\n",
    "iskeyword('def')"
   ]
  },
  {
   "cell_type": "markdown",
   "id": "bb57b433-137b-4ad1-a506-09cafd253b8a",
   "metadata": {},
   "source": [
    "`str.islower`()\n",
    "\n",
    "Return `True` if all cased characters [4](https://docs.python.org/3/library/stdtypes.html#id15) in the string are lowercase and there is at least one cased character, `False` otherwise.\n",
    "\n",
    "> `str.islower`()\n",
    ">\n",
    "> 如果字符串中的所有大写字符[4](https://docs.python.org/3/library/stdtypes.html#id15)都是小写，并且至少有一个大写字符，则返回`True`，否则返回`False`。"
   ]
  },
  {
   "cell_type": "code",
   "execution_count": 58,
   "id": "ff3926b7-7f18-4392-9b5e-8ebcffab15b9",
   "metadata": {},
   "outputs": [
    {
     "data": {
      "text/plain": [
       "True"
      ]
     },
     "execution_count": 58,
     "metadata": {},
     "output_type": "execute_result"
    }
   ],
   "source": [
    "hi.islower()"
   ]
  },
  {
   "cell_type": "markdown",
   "id": "15450ca6-4174-489a-969e-549a8a2b4c8b",
   "metadata": {},
   "source": [
    "`str.isnumeric`()\n",
    "\n",
    "Return `True` if all characters in the string are numeric characters, and there is at least one character, `False` otherwise. Numeric characters include digit characters, and all characters that have the Unicode numeric value property, e.g. U+2155, VULGAR FRACTION ONE FIFTH. Formally, numeric characters are those with the property value Numeric_Type=Digit, Numeric_Type=Decimal or Numeric_Type=Numeric.\n",
    "\n",
    "> `str.isnumeric`()\n",
    ">\n",
    "> 如果字符串中的所有字符都是数字字符，并且至少有一个字符，则返回`True`，否则返回`False`。数字字符包括数字字符，以及所有具有Unicode数值属性的字符，例如U+2155, VULGAR FRACTION ONE FIFTH。从形式上看，数字字符是那些具有Numeric_Type=Digit、Numeric_Type=Decimal或Numeric_Type=Numeric的属性值。"
   ]
  },
  {
   "cell_type": "code",
   "execution_count": 59,
   "id": "4332387f-87e3-4df6-8e9c-1c40f33f3daa",
   "metadata": {},
   "outputs": [
    {
     "data": {
      "text/plain": [
       "False"
      ]
     },
     "execution_count": 59,
     "metadata": {},
     "output_type": "execute_result"
    }
   ],
   "source": [
    "hi.isnumeric()"
   ]
  },
  {
   "cell_type": "markdown",
   "id": "49858ce8-e73e-4a46-aed3-cfdfe046e7c3",
   "metadata": {},
   "source": [
    "`str.isprintable`()\n",
    "\n",
    "Return `True` if all characters in the string are printable or the string is empty, `False` otherwise. Nonprintable characters are those characters defined in the Unicode character database as “Other” or “Separator”, excepting the ASCII space (0x20) which is considered printable. (Note that printable characters in this context are those which should not be escaped when [`repr()`](https://docs.python.org/3/library/functions.html#repr) is invoked on a string. It has no bearing on the handling of strings written to [`sys.stdout`](https://docs.python.org/3/library/sys.html#sys.stdout) or [`sys.stderr`](https://docs.python.org/3/library/sys.html#sys.stderr).)\n",
    "\n",
    "> `str.isprintable`()\n",
    ">\n",
    "> 如果字符串中的所有字符都是可打印的，或者字符串是空的，返回 `True`，否则返回 `False`。不可打印的字符是那些在Unicode字符数据库中定义为 \"其他 \"或 \"分隔符\"的字符，除了ASCII空格（0x20），它被认为是可打印的。(请注意，这里的可打印字符是指那些在字符串上调用[`repr()`](https://docs.python.org/3/library/functions.html#repr)时不应该被转义的字符。这与处理写入[`sys.stdout`](https://docs.python.org/3/library/sys.html#sys.stdout)或[`sys.stderr`](https://docs.python.org/3/library/sys.html#sys.stderr)的字符串没有关系）。"
   ]
  },
  {
   "cell_type": "code",
   "execution_count": 60,
   "id": "77e3e56b-9a6e-4f23-84f6-8a5dae8b05b4",
   "metadata": {},
   "outputs": [
    {
     "data": {
      "text/plain": [
       "True"
      ]
     },
     "execution_count": 60,
     "metadata": {},
     "output_type": "execute_result"
    }
   ],
   "source": [
    "hi.isprintable()"
   ]
  },
  {
   "cell_type": "markdown",
   "id": "f4df500e-2786-4bc2-bb9b-8c52d52b545d",
   "metadata": {},
   "source": [
    "`str.isspace`()\n",
    "\n",
    "Return `True` if there are only whitespace characters in the string and there is at least one character, `False` otherwise.\n",
    "\n",
    "A character is *whitespace* if in the Unicode character database (see [`unicodedata`](https://docs.python.org/3/library/unicodedata.html#module-unicodedata)), either its general category is `Zs` (“Separator, space”), or its bidirectional class is one of `WS`, `B`, or `S`.\n",
    "\n",
    "> `str.isspace`()\n",
    ">\n",
    "> 如果字符串中只有空白字符并且至少有一个字符，则返回 `True`，否则返回 `False`。\n",
    ">\n",
    "> 如果在Unicode字符数据库中（见[`unicodedata`](https://docs.python.org/3/library/unicodedata.html#module-unicodedata)），一个字符是*空白*，它的一般类别是`Zs`（\"分隔符，空格\"），或者它的双向类别是`WS`、`B`或`S`之一。"
   ]
  },
  {
   "cell_type": "code",
   "execution_count": 61,
   "id": "f92a3dd8-16b8-4a7b-8bf1-153492f536fc",
   "metadata": {},
   "outputs": [
    {
     "data": {
      "text/plain": [
       "False"
      ]
     },
     "execution_count": 61,
     "metadata": {},
     "output_type": "execute_result"
    }
   ],
   "source": [
    "hi.isspace()"
   ]
  },
  {
   "cell_type": "markdown",
   "id": "056f2ba2-02f7-4b39-a28f-64fa1a307d29",
   "metadata": {},
   "source": [
    "`str.istitle`()\n",
    "\n",
    "Return `True` if the string is a titlecased string and there is at least one character, for example uppercase characters may only follow uncased characters and lowercase characters only cased ones. Return `False` otherwise.\n",
    "\n",
    "> `str.istitle`()\n",
    ">\n",
    "> 如果字符串是一个有标题的字符串，并且至少有一个字符，则返回`True`，例如大写字符只能跟随非大写字符，小写字符只能跟随大写字符。否则返回`False`。"
   ]
  },
  {
   "cell_type": "code",
   "execution_count": 62,
   "id": "b44d3ac7-e95c-40f6-9c17-9c0ac0cbb017",
   "metadata": {},
   "outputs": [
    {
     "data": {
      "text/plain": [
       "False"
      ]
     },
     "execution_count": 62,
     "metadata": {},
     "output_type": "execute_result"
    }
   ],
   "source": [
    "hi.istitle()"
   ]
  },
  {
   "cell_type": "markdown",
   "id": "fd74c040-97b7-4c60-a349-13284ba3b870",
   "metadata": {},
   "source": [
    "`str.isupper`()\n",
    "\n",
    "Return `True` if all cased characters [4](https://docs.python.org/3/library/stdtypes.html#id15) in the string are uppercase and there is at least one cased character, `False` otherwise.\n",
    "\n",
    "> `str.isupper`()\n",
    ">\n",
    "> 如果字符串中所有大写字母[4](https://docs.python.org/3/library/stdtypes.html#id15)都是大写，并且至少有一个大写字母，则返回`True`，否则返回`False`。"
   ]
  },
  {
   "cell_type": "code",
   "execution_count": 63,
   "id": "b4885d64-2815-4909-9a8a-a3fca0ed35e9",
   "metadata": {},
   "outputs": [
    {
     "data": {
      "text/plain": [
       "True"
      ]
     },
     "execution_count": 63,
     "metadata": {},
     "output_type": "execute_result"
    }
   ],
   "source": [
    "'BANANA'.isupper()"
   ]
  },
  {
   "cell_type": "code",
   "execution_count": 64,
   "id": "13344c25-895e-4782-a49f-521dba2a2fce",
   "metadata": {},
   "outputs": [
    {
     "data": {
      "text/plain": [
       "False"
      ]
     },
     "execution_count": 64,
     "metadata": {},
     "output_type": "execute_result"
    }
   ],
   "source": [
    "'banana'.isupper()"
   ]
  },
  {
   "cell_type": "code",
   "execution_count": 65,
   "id": "2529e8f0-6922-4213-839b-77f590670a4d",
   "metadata": {},
   "outputs": [
    {
     "data": {
      "text/plain": [
       "False"
      ]
     },
     "execution_count": 65,
     "metadata": {},
     "output_type": "execute_result"
    }
   ],
   "source": [
    "'baNANA'.isupper()"
   ]
  },
  {
   "cell_type": "code",
   "execution_count": 66,
   "id": "1886632b-a51e-4e51-bae0-bab02e28400c",
   "metadata": {},
   "outputs": [
    {
     "data": {
      "text/plain": [
       "False"
      ]
     },
     "execution_count": 66,
     "metadata": {},
     "output_type": "execute_result"
    }
   ],
   "source": [
    "' '.isupper()"
   ]
  },
  {
   "cell_type": "markdown",
   "id": "e9b7453e-997b-4838-b817-153f84a7e723",
   "metadata": {},
   "source": [
    "`str.join`(*iterable*)\n",
    "\n",
    "Return a string which is the concatenation of the strings in *iterable*. A [`TypeError`](https://docs.python.org/3/library/exceptions.html#TypeError) will be raised if there are any non-string values in *iterable*, including [`bytes`](https://docs.python.org/3/library/stdtypes.html#bytes) objects. The separator between elements is the string providing this method.\n",
    "\n",
    "> `str.join`(*iterable*)\n",
    ">\n",
    "> 返回一个字符串，它是*iterable*中的字符串的连接。如果*iterable*中存在任何非字符串值，包括[`bytes`](https://docs.python.org/3/library/stdtypes.html#bytes)对象，将产生[`TypeError`](https://docs.python.org/3/library/exceptions.html#TypeError)。元素之间的分隔符是提供此方法的字符串。"
   ]
  },
  {
   "cell_type": "code",
   "execution_count": 67,
   "id": "dfe5bcc9-535f-4d72-ace6-e64ea3008c78",
   "metadata": {},
   "outputs": [
    {
     "data": {
      "text/plain": [
       "'yisoisu'"
      ]
     },
     "execution_count": 67,
     "metadata": {},
     "output_type": "execute_result"
    }
   ],
   "source": [
    "# How to use this method?\n",
    "\n",
    "j = 'joy'\n",
    "str.join('is', 'you')"
   ]
  },
  {
   "cell_type": "markdown",
   "id": "54618fb4-b76b-48a4-9fc8-7ebdd35c2a31",
   "metadata": {},
   "source": [
    "`str.ljust`(*width*[, *fillchar*])\n",
    "\n",
    "Return the string left justified in a string of length *width*. Padding is done using the specified *fillchar* (default is an ASCII space). The original string is returned if *width* is less than or equal to `len(s)`.\n",
    "\n",
    "> `str.ljust`(*width*[, *fillchar*])\n",
    ">\n",
    "> 返回长度为*width*的字符串中的左对齐字符串。使用指定的*fillchar*进行填充（默认为ASCII空格）。如果*width*小于或等于`len(s)`，则返回原始字符串。"
   ]
  },
  {
   "cell_type": "code",
   "execution_count": 68,
   "id": "a45b7ff6-64f4-4e63-bfd9-67b3f75a9ab1",
   "metadata": {},
   "outputs": [
    {
     "data": {
      "text/plain": [
       "'joy '"
      ]
     },
     "execution_count": 68,
     "metadata": {},
     "output_type": "execute_result"
    }
   ],
   "source": [
    "j.ljust(4)"
   ]
  },
  {
   "cell_type": "markdown",
   "id": "90c88153-877f-44c9-af88-cf02b4ea6daa",
   "metadata": {},
   "source": [
    "`str.lower`()\n",
    "\n",
    "Return a copy of the string with all the cased characters [4](https://docs.python.org/3/library/stdtypes.html#id15) converted to lowercase.\n",
    "\n",
    "The lowercasing algorithm used is described in section 3.13 of the Unicode Standard.\n",
    "\n",
    "> `str.lower`()\n",
    ">\n",
    "> 返回字符串的副本，并将所有大写字符[4](https://docs.python.org/3/library/stdtypes.html#id15)转换为小写。\n",
    ">\n",
    "> 所用的小写算法在Unicode标准的3.13节中有描述。"
   ]
  },
  {
   "cell_type": "code",
   "execution_count": 69,
   "id": "a5497253-1e06-41cf-bdf9-643d3a120485",
   "metadata": {},
   "outputs": [
    {
     "data": {
      "text/plain": [
       "'string'"
      ]
     },
     "execution_count": 69,
     "metadata": {},
     "output_type": "execute_result"
    }
   ],
   "source": [
    "s = 'STRING'\n",
    "s.lower()"
   ]
  },
  {
   "cell_type": "markdown",
   "id": "4e7d01a3-1b7e-48a9-9ff2-ec28ce4e956a",
   "metadata": {},
   "source": [
    "`str.lstrip`([*chars*])\n",
    "\n",
    "Return a copy of the string with leading characters removed. The *chars* argument is a string specifying the set of characters to be removed. If omitted or `None`, the *chars* argument defaults to removing whitespace. The *chars* argument is not a prefix; rather, all combinations of its values are stripped:\n",
    "\n",
    "> `str.lstrip`([*chars*])\n",
    ">\n",
    "> 返回一个去除前导字符的字符串的副本。参数*chars*是一个字符串，指定要删除的字符集。如果省略或`None`，*chars*参数默认为删除空白。*chars*参数不是一个前缀；相反，其数值的所有组合都会被删除。"
   ]
  },
  {
   "cell_type": "code",
   "execution_count": 70,
   "id": "be5bb9a0-6af1-4c6b-aaf1-43b204fd8276",
   "metadata": {},
   "outputs": [
    {
     "data": {
      "text/plain": [
       "'spacious   '"
      ]
     },
     "execution_count": 70,
     "metadata": {},
     "output_type": "execute_result"
    }
   ],
   "source": [
    "'   spacious   '.lstrip()"
   ]
  },
  {
   "cell_type": "code",
   "execution_count": 71,
   "id": "3c6e79c4-f295-442d-9728-cb74c655a3e3",
   "metadata": {},
   "outputs": [
    {
     "data": {
      "text/plain": [
       "'example.com'"
      ]
     },
     "execution_count": 71,
     "metadata": {},
     "output_type": "execute_result"
    }
   ],
   "source": [
    "'www.example.com'.lstrip('cmowz.')"
   ]
  },
  {
   "cell_type": "markdown",
   "id": "d5fc72a1-120c-495a-99d2-b0892b3b038b",
   "metadata": {},
   "source": [
    "See [`str.removeprefix()`](https://docs.python.org/3/library/stdtypes.html#str.removeprefix) for a method that will remove a single prefix string rather than all of a set of characters. For example:\n",
    "\n",
    "> 参见[`str.removeprefix()`](https://docs.python.org/3/library/stdtypes.html#str.removeprefix)，该方法将删除单个前缀字符串而不是一组字符的全部。比如说："
   ]
  },
  {
   "cell_type": "code",
   "execution_count": 72,
   "id": "0eeea81a-6599-446a-bf59-834888f50cd2",
   "metadata": {},
   "outputs": [
    {
     "data": {
      "text/plain": [
       "'ee!'"
      ]
     },
     "execution_count": 72,
     "metadata": {},
     "output_type": "execute_result"
    }
   ],
   "source": [
    "'Arthur: three!'.lstrip('Arthur: ')"
   ]
  },
  {
   "cell_type": "code",
   "execution_count": 73,
   "id": "34197bdb-c1b8-43d2-8235-c1e203102b56",
   "metadata": {},
   "outputs": [
    {
     "data": {
      "text/plain": [
       "'three!'"
      ]
     },
     "execution_count": 73,
     "metadata": {},
     "output_type": "execute_result"
    }
   ],
   "source": [
    "'Arthur: three!'.removeprefix('Arthur: ')"
   ]
  },
  {
   "cell_type": "markdown",
   "id": "eeac1426-a45d-4cdd-b18c-0cc9ffd89842",
   "metadata": {},
   "source": [
    "*static* `str.maketrans`(*x*[, *y*[, *z*]])\n",
    "\n",
    "This static method returns a translation table usable for [`str.translate()`](https://docs.python.org/3/library/stdtypes.html#str.translate).\n",
    "\n",
    "If there is only one argument, it must be a dictionary mapping Unicode ordinals (integers) or characters (strings of length 1) to Unicode ordinals, strings (of arbitrary lengths) or `None`. Character keys will then be converted to ordinals.\n",
    "\n",
    "If there are two arguments, they must be strings of equal length, and in the resulting dictionary, each character in x will be mapped to the character at the same position in y. If there is a third argument, it must be a string, whose characters will be mapped to `None` in the result.\n",
    "\n",
    "> *static* `str.maketrans`(*x*[, *y*[, *z*]])\n",
    ">\n",
    "> 这个静态方法返回一个可用于[`str.translate()`](https://docs.python.org/3/library/stdtypes.html#str.translate)的翻译表。\n",
    ">\n",
    "> 如果只有一个参数，它必须是一个字典，将Unicode序数（整数）或字符（长度为1的字符串）映射到Unicode序数、字符串（任意长度）或`None`。然后，字符键将被转换为序数。\n",
    ">\n",
    "> 如果有两个参数，它们必须是等长的字符串，在结果字典中，x中的每个字符将被映射到y中相同位置的字符。如果有第三个参数，它必须是一个字符串，其字符将在结果中被映射为`None`。"
   ]
  },
  {
   "cell_type": "code",
   "execution_count": 74,
   "id": "47ff2641-4f85-4977-8653-0d85be8963c7",
   "metadata": {},
   "outputs": [
    {
     "data": {
      "text/plain": [
       "{115: 5, 116: 5, 114: 5, 105: 5, 110: 5, 103: 5}"
      ]
     },
     "execution_count": 74,
     "metadata": {},
     "output_type": "execute_result"
    },
    {
     "data": {
      "text/plain": [
       "{'s': 5, 't': 5, 'r': 5, 'i': 5, 'n': 5, 'g': 5}"
      ]
     },
     "execution_count": 74,
     "metadata": {},
     "output_type": "execute_result"
    },
    {
     "data": {
      "text/plain": [
       "{115: 1, 116: 2, 114: 3}"
      ]
     },
     "execution_count": 74,
     "metadata": {},
     "output_type": "execute_result"
    }
   ],
   "source": [
    "str.maketrans({x:y for x in 'string' for y in range(6)})\n",
    "d = {x:y for x in 'string' for y in range(1,6,1)}\n",
    "d\n",
    "str.maketrans({'s':1, 't':2, 'r':3})"
   ]
  },
  {
   "cell_type": "code",
   "execution_count": 75,
   "id": "976e6d65-b106-491a-a93a-c229ee0c8201",
   "metadata": {},
   "outputs": [
    {
     "data": {
      "text/plain": [
       "{115: 109, 116: 101, 114: 109, 105: 111, 110: 114, 103: 121}"
      ]
     },
     "execution_count": 75,
     "metadata": {},
     "output_type": "execute_result"
    }
   ],
   "source": [
    "str.maketrans('string', 'memory')"
   ]
  },
  {
   "cell_type": "code",
   "execution_count": 76,
   "id": "58ae5ce5-eede-4851-b5a7-fc5e00072c40",
   "metadata": {},
   "outputs": [
    {
     "data": {
      "text/plain": [
       "{115: 109,\n",
       " 116: None,\n",
       " 114: 109,\n",
       " 105: 111,\n",
       " 110: 114,\n",
       " 103: 121,\n",
       " 111: None,\n",
       " 117: None,\n",
       " 112: None}"
      ]
     },
     "execution_count": 76,
     "metadata": {},
     "output_type": "execute_result"
    }
   ],
   "source": [
    "str.maketrans('string', 'memory', 'output')"
   ]
  },
  {
   "cell_type": "markdown",
   "id": "d89ebe73-5d36-41c8-8e4a-c00256eece78",
   "metadata": {},
   "source": [
    "`str.partition`(*sep*)\n",
    "\n",
    "Split the string at the first occurrence of *sep*, and return a 3-tuple containing the part before the separator, the separator itself, and the part after the separator. If the separator is not found, return a 3-tuple containing the string itself, followed by two empty strings.\n",
    "\n",
    "> `str.partition`(*sep*)\n",
    ">\n",
    "> 在*sep*的第一次出现时分割字符串，并返回一个3元组，包含分隔符之前的部分，分隔符本身，以及分隔符之后的部分。如果没有找到分隔符，则返回一个3元组，包含字符串本身，后面是两个空字符串。"
   ]
  },
  {
   "cell_type": "code",
   "execution_count": 77,
   "id": "179aad11-bfa7-4225-882b-fcbfe8a041ce",
   "metadata": {},
   "outputs": [
    {
     "data": {
      "text/plain": [
       "('par', 't', 'ition')"
      ]
     },
     "execution_count": 77,
     "metadata": {},
     "output_type": "execute_result"
    },
    {
     "data": {
      "text/plain": [
       "('partition', '', '')"
      ]
     },
     "execution_count": 77,
     "metadata": {},
     "output_type": "execute_result"
    }
   ],
   "source": [
    "p = 'partition'\n",
    "p.partition('t')\n",
    "p.partition('b')"
   ]
  },
  {
   "cell_type": "markdown",
   "id": "7545b563-3ac7-4dfe-81ba-fd7d26723735",
   "metadata": {},
   "source": [
    "`str.removeprefix`(*prefix*, */*)\n",
    "\n",
    "If the string starts with the *prefix* string, return `string[len(prefix):]`. Otherwise, return a copy of the original string:\n",
    "\n",
    "> `str.removeprefix`(*prefix*, */*)\n",
    ">\n",
    "> 如果字符串以*prefix*字符串开始，返回`string[len(prefix):]`。否则，返回一个原始字符串的副本。"
   ]
  },
  {
   "cell_type": "code",
   "execution_count": 78,
   "id": "6526143e-7bed-49c2-8a24-37dd4684b63b",
   "metadata": {},
   "outputs": [
    {
     "data": {
      "text/plain": [
       "'tion'"
      ]
     },
     "execution_count": 78,
     "metadata": {},
     "output_type": "execute_result"
    },
    {
     "data": {
      "text/plain": [
       "'partition'"
      ]
     },
     "execution_count": 78,
     "metadata": {},
     "output_type": "execute_result"
    }
   ],
   "source": [
    "p.removeprefix('parti')\n",
    "p.removeprefix('b')"
   ]
  },
  {
   "cell_type": "code",
   "execution_count": 79,
   "id": "3a443196-9fb6-4929-951a-2e6baa0d21bc",
   "metadata": {},
   "outputs": [
    {
     "data": {
      "text/plain": [
       "'Hook'"
      ]
     },
     "execution_count": 79,
     "metadata": {},
     "output_type": "execute_result"
    }
   ],
   "source": [
    "'TestHook'.removeprefix('Test')"
   ]
  },
  {
   "cell_type": "code",
   "execution_count": 80,
   "id": "6a770afc-ca30-4f33-be3d-ba159c7ff18c",
   "metadata": {},
   "outputs": [
    {
     "data": {
      "text/plain": [
       "'BaseTestCase'"
      ]
     },
     "execution_count": 80,
     "metadata": {},
     "output_type": "execute_result"
    }
   ],
   "source": [
    "'BaseTestCase'.removeprefix('Test')"
   ]
  },
  {
   "cell_type": "markdown",
   "id": "e605cf9d-ea2a-4a10-89db-85897b633f71",
   "metadata": {},
   "source": [
    "*New in version 3.9.*"
   ]
  },
  {
   "cell_type": "markdown",
   "id": "80d80af4-27fb-45f6-be35-2f2f506a4e7f",
   "metadata": {},
   "source": [
    "`str.removesuffix`(*suffix*, */*)\n",
    "\n",
    "If the string ends with the *suffix* string and that *suffix* is not empty, return `string[:-len(suffix)]`. Otherwise, return a copy of the original string:\n",
    "\n",
    "> `str.removesuffix`(*suffix*, */*)\n",
    ">\n",
    "> 如果字符串以*suffix*字符串结尾，并且该*suffix*不是空的，返回`string[:-len(senffix)]`。否则，返回一个原始字符串的副本。"
   ]
  },
  {
   "cell_type": "code",
   "execution_count": 81,
   "id": "e5298af1-cfb5-415f-8200-9607866f0172",
   "metadata": {},
   "outputs": [
    {
     "data": {
      "text/plain": [
       "'Misc'"
      ]
     },
     "execution_count": 81,
     "metadata": {},
     "output_type": "execute_result"
    }
   ],
   "source": [
    "'MiscTests'.removesuffix('Tests')"
   ]
  },
  {
   "cell_type": "code",
   "execution_count": 82,
   "id": "addac99c-039c-4834-8e56-21570303fc28",
   "metadata": {},
   "outputs": [
    {
     "data": {
      "text/plain": [
       "'TmpDirMixin'"
      ]
     },
     "execution_count": 82,
     "metadata": {},
     "output_type": "execute_result"
    }
   ],
   "source": [
    "'TmpDirMixin'.removesuffix('Tests')"
   ]
  },
  {
   "cell_type": "markdown",
   "id": "3d81f24b-44a5-4032-a015-1f1ed7453cd1",
   "metadata": {},
   "source": [
    "*New in version 3.9.*"
   ]
  },
  {
   "cell_type": "markdown",
   "id": "c91e141b-2146-45ca-9639-6439967efe89",
   "metadata": {},
   "source": [
    "`str.replace`(*old*, *new*[, *count*])\n",
    "\n",
    "Return a copy of the string with all occurrences of substring *old* replaced by *new*. If the optional argument *count* is given, only the first *count* occurrences are replaced.\n",
    "\n",
    "> `str.replace`(*old*, *new*[, *count*])\n",
    ">\n",
    "> 返回一个字符串的副本，其中所有出现的子串*old*被*new*替换。如果给出可选的参数*count*，则只替换第一个*count*的出现。"
   ]
  },
  {
   "cell_type": "code",
   "execution_count": 83,
   "id": "264dccdb-345a-4406-9701-6d7a3b6c858e",
   "metadata": {},
   "outputs": [
    {
     "data": {
      "text/plain": [
       "'nenory'"
      ]
     },
     "execution_count": 83,
     "metadata": {},
     "output_type": "execute_result"
    },
    {
     "data": {
      "text/plain": [
       "'nemory'"
      ]
     },
     "execution_count": 83,
     "metadata": {},
     "output_type": "execute_result"
    }
   ],
   "source": [
    "m = 'memory'\n",
    "m.replace('m', 'n')\n",
    "m.replace('m', 'n', 1)"
   ]
  },
  {
   "cell_type": "markdown",
   "id": "acb356e4-a1a2-4e0d-8dd6-dcd9a6b3fac8",
   "metadata": {},
   "source": [
    "`str.rfind`(*sub*[, *start*[, *end*]])\n",
    "\n",
    "Return the highest index in the string where substring *sub* is found, such that *sub* is contained within `s[start:end]`. Optional arguments *start* and *end* are interpreted as in slice notation. Return `-1` on failure.\n",
    "\n",
    "> `str.rfind`(*sub*[, *start*[, *end*]])\n",
    ">\n",
    "> 返回在字符串中找到子串*sub*的最高索引，这样*sub*就包含在`s[start:end]`中。可选参数*start*和*end*被解释为切片符号。失败时返回`-1`。"
   ]
  },
  {
   "cell_type": "code",
   "execution_count": 84,
   "id": "13ebee19-f263-4893-bc7c-fa6f0e05c4fc",
   "metadata": {},
   "outputs": [
    {
     "data": {
      "text/plain": [
       "5"
      ]
     },
     "execution_count": 84,
     "metadata": {},
     "output_type": "execute_result"
    },
    {
     "data": {
      "text/plain": [
       "-1"
      ]
     },
     "execution_count": 84,
     "metadata": {},
     "output_type": "execute_result"
    }
   ],
   "source": [
    "p.rfind('tion')\n",
    "p.rfind('t', 0, 3)"
   ]
  },
  {
   "cell_type": "markdown",
   "id": "65949aed-cf32-4f59-957b-6ab057601e04",
   "metadata": {},
   "source": [
    "`str.rindex`(*sub*[, *start*[, *end*]])\n",
    "\n",
    "Like [`rfind()`](https://docs.python.org/3/library/stdtypes.html#str.rfind) but raises [`ValueError`](https://docs.python.org/3/library/exceptions.html#ValueError) when the substring *sub* is not found.\n",
    "\n",
    "> `str.rindex`(*sub*[, *start*[, *end*]])\n",
    ">\n",
    "> 类似于[`rfind()`](https://docs.python.org/3/library/stdtypes.html#str.rfind)，但是当子串*sub*没有被找到时，会引发[`ValueError`](https://docs.python.org/3/library/exceptions.html#ValueError)。"
   ]
  },
  {
   "cell_type": "code",
   "execution_count": 85,
   "id": "c55f3459-ac35-4ea0-9d24-2b963f529764",
   "metadata": {},
   "outputs": [
    {
     "data": {
      "text/plain": [
       "2"
      ]
     },
     "execution_count": 85,
     "metadata": {},
     "output_type": "execute_result"
    }
   ],
   "source": [
    "p.rindex('r')"
   ]
  },
  {
   "cell_type": "markdown",
   "id": "2b1b2e30-118a-4e0e-9bed-a9b3bb32f5fa",
   "metadata": {},
   "source": [
    "`str.rjust`(*width*[, *fillchar*])\n",
    "\n",
    "Return the string right justified in a string of length *width*. Padding is done using the specified *fillchar* (default is an ASCII space). The original string is returned if *width* is less than or equal to `len(s)`.\n",
    "\n",
    "> `str.rjust`(*width*[, *fillchar*])\n",
    ">\n",
    "> 在长度为*width*的字符串中返回右对齐的字符串。使用指定的*fillchar*进行填充（默认为ASCII空格）。如果*width*小于或等于`len(s)'，则返回原始字符串。"
   ]
  },
  {
   "cell_type": "code",
   "execution_count": 86,
   "id": "9269f51d-ae8a-4c95-a4d8-ae727bcc358f",
   "metadata": {},
   "outputs": [
    {
     "data": {
      "text/plain": [
       "'partition'"
      ]
     },
     "execution_count": 86,
     "metadata": {},
     "output_type": "execute_result"
    },
    {
     "data": {
      "text/plain": [
       "'         partition'"
      ]
     },
     "execution_count": 86,
     "metadata": {},
     "output_type": "execute_result"
    }
   ],
   "source": [
    "p.rjust(4)\n",
    "p.rjust(len(p)*2, ' ')"
   ]
  },
  {
   "cell_type": "markdown",
   "id": "b0bdf8b5-a3d8-46a5-b403-a3a6c7d58db1",
   "metadata": {},
   "source": [
    "`str.rpartition`(*sep*)\n",
    "\n",
    "Split the string at the last occurrence of *sep*, and return a 3-tuple containing the part before the separator, the separator itself, and the part after the separator. If the separator is not found, return a 3-tuple containing two empty strings, followed by the string itself.\n",
    "\n",
    "> `str.rpartition`(*sep*)\n",
    ">\n",
    "> 在*sep*的最后一次出现时分割字符串，并返回一个3元组，包含分隔符之前的部分，分隔符本身，以及分隔符之后的部分。如果没有找到分隔符，则返回一个包含两个空字符串的3元组，然后是字符串本身。"
   ]
  },
  {
   "cell_type": "code",
   "execution_count": 87,
   "id": "f9fb097e-8d41-42d1-aec4-ee041056a9a2",
   "metadata": {},
   "outputs": [
    {
     "data": {
      "text/plain": [
       "('partit', 'i', 'on')"
      ]
     },
     "execution_count": 87,
     "metadata": {},
     "output_type": "execute_result"
    }
   ],
   "source": [
    "p.rpartition('i')"
   ]
  },
  {
   "cell_type": "markdown",
   "id": "1f477c87-917f-4a9e-bc44-c28a1c157b4f",
   "metadata": {},
   "source": [
    "`str.rsplit`(*sep=None*, *maxsplit=- 1*)\n",
    "\n",
    "Return a list of the words in the string, using *sep* as the delimiter string. If *maxsplit* is given, at most *maxsplit* splits are done, the *rightmost* ones. If *sep* is not specified or `None`, any whitespace string is a separator. Except for splitting from the right, [`rsplit()`](https://docs.python.org/3/library/stdtypes.html#str.rsplit) behaves like [`split()`](https://docs.python.org/3/library/stdtypes.html#str.split) which is described in detail below.\n",
    "\n",
    "> `str.rsplit`(*sep=None*, *maxsplit=- 1*)\n",
    ">\n",
    "> 返回一个字符串中的单词列表，使用*sep*作为分隔符串。如果给定了*maxsplit*，最多进行*maxsplit*次分割，即最右边的那些。如果没有指定*sep*或`None`，任何空白字符串都是分隔符。除了从右边分割外，[`rsplit()`](https://docs.python.org/3/library/stdtypes.html#str.rsplit)的行为与[`split()`](https://docs.python.org/3/library/stdtypes.html#str.split)类似，下面将详细介绍。"
   ]
  },
  {
   "cell_type": "code",
   "execution_count": 88,
   "id": "bdbd4b52-8d63-4021-adf8-25206011fbb9",
   "metadata": {},
   "outputs": [
    {
     "data": {
      "text/plain": [
       "['partition']"
      ]
     },
     "execution_count": 88,
     "metadata": {},
     "output_type": "execute_result"
    },
    {
     "data": {
      "text/plain": [
       "['par', 'i', 'ion']"
      ]
     },
     "execution_count": 88,
     "metadata": {},
     "output_type": "execute_result"
    },
    {
     "data": {
      "text/plain": [
       "['part', 't', 'on']"
      ]
     },
     "execution_count": 88,
     "metadata": {},
     "output_type": "execute_result"
    }
   ],
   "source": [
    "p.rsplit()\n",
    "p.rsplit('t')\n",
    "p.rsplit('i')"
   ]
  },
  {
   "cell_type": "markdown",
   "id": "35761e74-8d34-4382-9f5b-ebcfdab112d3",
   "metadata": {},
   "source": [
    "`str.rstrip`([*chars*])\n",
    "\n",
    "Return a copy of the string with trailing characters removed. The *chars* argument is a string specifying the set of characters to be removed. If omitted or `None`, the *chars* argument defaults to removing whitespace. The *chars* argument is not a suffix; rather, all combinations of its values are stripped:\n",
    "\n",
    "> `str.rstrip`([*chars*])\n",
    ">\n",
    "> 返回一个删除了尾部字符的字符串的副本。参数*chars*是一个字符串，指定要删除的字符集。如果省略或`None`，*chars*参数默认为删除空白。*chars*参数不是一个后缀；相反，其值的所有组合都被删除："
   ]
  },
  {
   "cell_type": "code",
   "execution_count": 89,
   "id": "6d1e51a0-7727-42a7-be7f-24a59aa63a2d",
   "metadata": {},
   "outputs": [
    {
     "data": {
      "text/plain": [
       "'   spacious'"
      ]
     },
     "execution_count": 89,
     "metadata": {},
     "output_type": "execute_result"
    }
   ],
   "source": [
    "'   spacious   '.rstrip()"
   ]
  },
  {
   "cell_type": "code",
   "execution_count": 90,
   "id": "a3df824c-5846-4de2-b453-b1a5f97dfe10",
   "metadata": {},
   "outputs": [
    {
     "data": {
      "text/plain": [
       "'mississ'"
      ]
     },
     "execution_count": 90,
     "metadata": {},
     "output_type": "execute_result"
    }
   ],
   "source": [
    "'mississippi'.rstrip('ipz')"
   ]
  },
  {
   "cell_type": "markdown",
   "id": "8da246cc-cea7-45b6-a521-08c1d42d620d",
   "metadata": {},
   "source": [
    "See [`str.removesuffix()`](https://docs.python.org/3/library/stdtypes.html#str.removesuffix) for a method that will remove a single suffix string rather than all of a set of characters. For example:\n",
    "\n",
    "> 参见[`str.removesuffix()`](https://docs.python.org/3/library/stdtypes.html#str.removesuffix)，该方法将删除单个后缀字符串而不是一组字符的全部。比如说："
   ]
  },
  {
   "cell_type": "code",
   "execution_count": 91,
   "id": "fc10ddef-66a8-4e22-998a-074f45bd2d8a",
   "metadata": {},
   "outputs": [
    {
     "data": {
      "text/plain": [
       "'M'"
      ]
     },
     "execution_count": 91,
     "metadata": {},
     "output_type": "execute_result"
    },
    {
     "data": {
      "text/plain": [
       "'Monty'"
      ]
     },
     "execution_count": 91,
     "metadata": {},
     "output_type": "execute_result"
    }
   ],
   "source": [
    "'Monty Python'.rstrip(' Python')\n",
    "'Monty Python'.removesuffix(' Python')"
   ]
  },
  {
   "cell_type": "markdown",
   "id": "9018fc54-b8a0-42b6-ac6e-ebb0cd30b904",
   "metadata": {},
   "source": [
    "`str.split`(*sep=None*, *maxsplit=- 1*)\n",
    "\n",
    "Return a list of the words in the string, using *sep* as the delimiter string. If *maxsplit* is given, at most *maxsplit* splits are done (thus, the list will have at most `maxsplit+1` elements). If *maxsplit* is not specified or `-1`, then there is no limit on the number of splits (all possible splits are made).\n",
    "\n",
    "If *sep* is given, consecutive delimiters are not grouped together and are deemed to delimit empty strings (for example, `'1,,2'.split(',')` returns `['1', '', '2']`). The *sep* argument may consist of multiple characters (for example, `'1<>2<>3'.split('<>')` returns `['1', '2', '3']`). Splitting an empty string with a specified separator returns `['']`.\n",
    "\n",
    "For example:\n",
    "\n",
    "> `str.split`(*sep=None*, *maxsplit=- 1*)\n",
    ">\n",
    "> 返回一个字符串中的单词列表，使用*sep*作为分隔符串。如果给了*maxsplit*，最多进行*maxsplit*的分割（因此，列表中最多有`maxsplit+1`个元素）。如果没有指定*maxsplit*或者`-1`，那么对分割的数量没有限制（所有可能的分割都被进行）。\n",
    ">\n",
    "> 如果给了*sep*，连续的定界符不会被分组，并被认为是空字符串的定界（例如，`'1,,2'.split(',')`返回`['1', '', '2']`）。*sep*参数可以由多个字符组成（例如，`'1<>2<>3'.split('<>')`返回`['1', '2', '3']`）。用指定的分隔符分割一个空字符串，返回`['']`。\n",
    ">\n",
    "> 比如说："
   ]
  },
  {
   "cell_type": "code",
   "execution_count": 92,
   "id": "82ba8b72-61bd-4ff7-a54e-ba1d622f51b6",
   "metadata": {},
   "outputs": [
    {
     "data": {
      "text/plain": [
       "['1', '2', '3']"
      ]
     },
     "execution_count": 92,
     "metadata": {},
     "output_type": "execute_result"
    }
   ],
   "source": [
    "'1,2,3'.split(',')"
   ]
  },
  {
   "cell_type": "code",
   "execution_count": 93,
   "id": "90804bdc-3ec4-4a85-b62c-ba1288d6f6ff",
   "metadata": {},
   "outputs": [
    {
     "data": {
      "text/plain": [
       "['1', '2,3']"
      ]
     },
     "execution_count": 93,
     "metadata": {},
     "output_type": "execute_result"
    }
   ],
   "source": [
    "'1,2,3'.split(',', maxsplit=1)"
   ]
  },
  {
   "cell_type": "code",
   "execution_count": 94,
   "id": "275452d6-a5e1-46bd-ad2b-d87f7e565dbf",
   "metadata": {},
   "outputs": [
    {
     "data": {
      "text/plain": [
       "['1', '2', '', '3', '']"
      ]
     },
     "execution_count": 94,
     "metadata": {},
     "output_type": "execute_result"
    }
   ],
   "source": [
    "'1,2,,3,'.split(',')"
   ]
  },
  {
   "cell_type": "markdown",
   "id": "20672bec-26a8-43eb-be9b-1676c1c12740",
   "metadata": {},
   "source": [
    "If *sep* is not specified or is `None`, a different splitting algorithm is applied: runs of consecutive whitespace are regarded as a single separator, and the result will contain no empty strings at the start or end if the string has leading or trailing whitespace. Consequently, splitting an empty string or a string consisting of just whitespace with a `None` separator returns `[]`.\n",
    "\n",
    "For example:\n",
    "\n",
    "> 如果没有指定sep或者是`None`，就会应用不同的分割算法：连续的空白被视为一个单独的分隔符，如果字符串有前导或后导的空白，结果将不包含开头或结尾的空字符串。因此，用无分隔符分割一个空字符串或一个仅由空格组成的字符串，会返回`[]`。\n",
    ">\n",
    "> 比如说："
   ]
  },
  {
   "cell_type": "code",
   "execution_count": 95,
   "id": "f32b2a56-e5a2-4e46-9293-6c1a9b06b6ec",
   "metadata": {},
   "outputs": [
    {
     "data": {
      "text/plain": [
       "['1', '2', '3']"
      ]
     },
     "execution_count": 95,
     "metadata": {},
     "output_type": "execute_result"
    }
   ],
   "source": [
    "'1 2 3'.split()"
   ]
  },
  {
   "cell_type": "code",
   "execution_count": 96,
   "id": "1a1efc48-d586-458c-bda1-8ffd87e4bcc6",
   "metadata": {},
   "outputs": [
    {
     "data": {
      "text/plain": [
       "['1', '2 3']"
      ]
     },
     "execution_count": 96,
     "metadata": {},
     "output_type": "execute_result"
    }
   ],
   "source": [
    "'1 2 3'.split(maxsplit=1)"
   ]
  },
  {
   "cell_type": "code",
   "execution_count": 97,
   "id": "0f3d4dc7-c8bc-4581-9b3e-1b5999ad56fd",
   "metadata": {},
   "outputs": [
    {
     "data": {
      "text/plain": [
       "['1', '2', '3']"
      ]
     },
     "execution_count": 97,
     "metadata": {},
     "output_type": "execute_result"
    }
   ],
   "source": [
    " '   1   2   3   '.split()"
   ]
  },
  {
   "cell_type": "code",
   "execution_count": 98,
   "id": "20c6a3a8-c651-4ba8-aa3a-48adc3689223",
   "metadata": {},
   "outputs": [
    {
     "data": {
      "text/plain": [
       "[]"
      ]
     },
     "execution_count": 98,
     "metadata": {},
     "output_type": "execute_result"
    }
   ],
   "source": [
    "\"\".split()"
   ]
  },
  {
   "cell_type": "markdown",
   "id": "a5ba7bd1-30d2-4259-9243-61195ceabfad",
   "metadata": {},
   "source": [
    "`str.splitlines`(*keepends=False*)\n",
    "\n",
    "Return a list of the lines in the string, breaking at line boundaries. Line breaks are not included in the resulting list unless *keepends* is given and true.\n",
    "\n",
    "This method splits on the following line boundaries. In particular, the boundaries are a superset of [universal newlines](https://docs.python.org/3/glossary.html#term-universal-newlines).\n",
    "\n",
    "> `str.splitlines`(*keepends=False*)\n",
    ">\n",
    "> 返回字符串中的行的列表，在行的边界处断开。除非*keepends*为真，否则断行不包括在结果列表中。\n",
    ">\n",
    "> 该方法在以下行的边界处进行分割。特别是，这些边界是[通用换行线](https://docs.python.org/3/glossary.html#term-universal-newlines)的超集。"
   ]
  },
  {
   "cell_type": "markdown",
   "id": "dfd139c0-116d-430c-8322-bb828a66ce0f",
   "metadata": {},
   "source": [
    "| Representation | Description                 |\n",
    "| :------------- | :-------------------------- |\n",
    "| `\\n`           | Line Feed                   |\n",
    "| `\\r`           | Carriage Return             |\n",
    "| `\\r\\n`         | Carriage Return + Line Feed |\n",
    "| `\\v` or `\\x0b` | Line Tabulation             |\n",
    "| `\\f` or `\\x0c` | Form Feed                   |\n",
    "| `\\x1c`         | File Separator              |\n",
    "| `\\x1d`         | Group Separator             |\n",
    "| `\\x1e`         | Record Separator            |\n",
    "| `\\x85`         | Next Line (C1 Control Code) |\n",
    "| `\\u2028`       | Line Separator              |\n",
    "| `\\u2029`       | Paragraph Separator         |"
   ]
  },
  {
   "cell_type": "markdown",
   "id": "a4729a51-60b2-435d-a4cd-73ec1c7a4d75",
   "metadata": {},
   "source": [
    "*Changed in version 3.2:* `\\v` and `\\f` added to list of line boundaries.\n",
    "\n",
    "For example:\n",
    "\n",
    "> *在3.2版本中改变了：* `v`和`f`被添加到行的边界列表中。\n",
    ">\n",
    "> 比如说："
   ]
  },
  {
   "cell_type": "code",
   "execution_count": 99,
   "id": "2dce1687-8af1-43bb-9a73-ca3fb420ef52",
   "metadata": {},
   "outputs": [
    {
     "data": {
      "text/plain": [
       "['ab c', '', 'de fg', 'kl']"
      ]
     },
     "execution_count": 99,
     "metadata": {},
     "output_type": "execute_result"
    }
   ],
   "source": [
    "'ab c\\n\\nde fg\\rkl\\r\\n'.splitlines()"
   ]
  },
  {
   "cell_type": "code",
   "execution_count": 100,
   "id": "12792425-cbce-4a3b-8d3a-8eafdf5356c7",
   "metadata": {},
   "outputs": [
    {
     "data": {
      "text/plain": [
       "['ab c\\n', '\\n', 'de fg\\r', 'kl\\r\\n']"
      ]
     },
     "execution_count": 100,
     "metadata": {},
     "output_type": "execute_result"
    }
   ],
   "source": [
    "'ab c\\n\\nde fg\\rkl\\r\\n'.splitlines(keepends=True)"
   ]
  },
  {
   "cell_type": "markdown",
   "id": "02dfc8b0-db55-4220-9df0-baafd8def8cb",
   "metadata": {},
   "source": [
    "Unlike [`split()`](https://docs.python.org/3/library/stdtypes.html#str.split) when a delimiter string *sep* is given, this method returns an empty list for the empty string, and a terminal line break does not result in an extra line:\n",
    "\n",
    "> 与[`split()`](https://docs.python.org/3/library/stdtypes.html#str.split)不同的是，当给定一个分隔符字符串*sep*时，这个方法为空字符串返回一个空列表，终端换行不会导致一个额外的行："
   ]
  },
  {
   "cell_type": "code",
   "execution_count": 101,
   "id": "f0333b9b-4071-4621-8d93-617149bbb16e",
   "metadata": {},
   "outputs": [
    {
     "data": {
      "text/plain": [
       "[]"
      ]
     },
     "execution_count": 101,
     "metadata": {},
     "output_type": "execute_result"
    }
   ],
   "source": [
    "\"\".splitlines()"
   ]
  },
  {
   "cell_type": "code",
   "execution_count": 102,
   "id": "dd90b1a6-b3fd-4887-a13e-7e295afa3fec",
   "metadata": {},
   "outputs": [
    {
     "data": {
      "text/plain": [
       "['One line']"
      ]
     },
     "execution_count": 102,
     "metadata": {},
     "output_type": "execute_result"
    }
   ],
   "source": [
    "\"One line\\n\".splitlines()"
   ]
  },
  {
   "cell_type": "markdown",
   "id": "e6cc20c0-bf3d-4ab4-8bc7-4e9ba5ee9231",
   "metadata": {},
   "source": [
    "For comparison, `split('\\n')` gives:\n",
    "\n",
    "> 为了比较，`split('\\n')`给出了："
   ]
  },
  {
   "cell_type": "code",
   "execution_count": 103,
   "id": "f977d2f5-41f9-426d-aff2-9b3ac0bc5d39",
   "metadata": {},
   "outputs": [
    {
     "data": {
      "text/plain": [
       "['']"
      ]
     },
     "execution_count": 103,
     "metadata": {},
     "output_type": "execute_result"
    }
   ],
   "source": [
    "''.split('\\n')"
   ]
  },
  {
   "cell_type": "code",
   "execution_count": 104,
   "id": "5ad15f29-6c02-4b5a-bf6e-81e0d5505d92",
   "metadata": {},
   "outputs": [
    {
     "data": {
      "text/plain": [
       "['Two lines', '']"
      ]
     },
     "execution_count": 104,
     "metadata": {},
     "output_type": "execute_result"
    }
   ],
   "source": [
    "'Two lines\\n'.split('\\n')"
   ]
  },
  {
   "cell_type": "markdown",
   "id": "11b19402-2f05-405e-a55e-9c8386728652",
   "metadata": {},
   "source": [
    "`str.startswith`(*prefix*[, *start*[, *end*]])\n",
    "\n",
    "Return `True` if string starts with the *prefix*, otherwise return `False`. *prefix* can also be a tuple of prefixes to look for. With optional *start*, test string beginning at that position. With optional *end*, stop comparing string at that position.\n",
    "\n",
    "> `str.startswith`(*prefix*[, *start*[, *end*]])\n",
    ">\n",
    "> 如果字符串以*prefix*开始，返回`True`，否则返回`False`。*prefix*也可以是一个要寻找的前缀的元组。使用可选的*start*，测试从该位置开始的字符串。使用可选的*end*，在该位置停止比较字符串。"
   ]
  },
  {
   "cell_type": "code",
   "execution_count": 105,
   "id": "9781534e-b32f-4f57-a575-4111e65e98b8",
   "metadata": {},
   "outputs": [
    {
     "data": {
      "text/plain": [
       "True"
      ]
     },
     "execution_count": 105,
     "metadata": {},
     "output_type": "execute_result"
    }
   ],
   "source": [
    "n = 'string'\n",
    "n.startswith(('s'))"
   ]
  },
  {
   "cell_type": "markdown",
   "id": "6e5e083a-2e6b-4f22-85d9-5bf8bb972934",
   "metadata": {},
   "source": [
    "`str.strip`([*chars*])\n",
    "\n",
    "Return a copy of the string with the leading and trailing characters removed. The *chars* argument is a string specifying the set of characters to be removed. If omitted or `None`, the *chars* argument defaults to removing whitespace. The *chars* argument is not a prefix or suffix; rather, all combinations of its values are stripped:\n",
    "\n",
    "> `str.strip`([*chars*])\n",
    ">\n",
    "> 返回一个去除前导和尾部字符的字符串副本。参数*chars*是一个字符串，指定要删除的字符集。如果省略或`None`，*chars*参数默认为删除空白。*chars*参数不是前缀或后缀；相反，其数值的所有组合都会被删除。"
   ]
  },
  {
   "cell_type": "code",
   "execution_count": 106,
   "id": "9217b923-fc77-4933-82e5-c31a0b778dc1",
   "metadata": {},
   "outputs": [
    {
     "data": {
      "text/plain": [
       "'spacious'"
      ]
     },
     "execution_count": 106,
     "metadata": {},
     "output_type": "execute_result"
    }
   ],
   "source": [
    "'   spacious   '.strip()"
   ]
  },
  {
   "cell_type": "code",
   "execution_count": 107,
   "id": "10118980-d375-4124-a385-fb9b30fd3e6c",
   "metadata": {},
   "outputs": [
    {
     "data": {
      "text/plain": [
       "'.example.'"
      ]
     },
     "execution_count": 107,
     "metadata": {},
     "output_type": "execute_result"
    }
   ],
   "source": [
    "'www.example.com'.strip('cmowz')"
   ]
  },
  {
   "cell_type": "markdown",
   "id": "38785451-9911-4b7d-a71b-33cfa0c4c737",
   "metadata": {},
   "source": [
    "The outermost leading and trailing *chars* argument values are stripped from the string. Characters are removed from the leading end until reaching a string character that is not contained in the set of characters in *chars*. A similar action takes place on the trailing end. For example:\n",
    "\n",
    "> 最外层的前导和尾部的*chars*参数值被从字符串中剥离出来。字符从前导端被移除，直到达到一个不包含在*chars*中的字符集的字符串字符。类似的操作也发生在尾端。比如说："
   ]
  },
  {
   "cell_type": "code",
   "execution_count": 108,
   "id": "2472b9f2-d23e-4751-b5f4-d55ed5c9c5d0",
   "metadata": {},
   "outputs": [
    {
     "data": {
      "text/plain": [
       "' Section 3.2.1 Issue #32 '"
      ]
     },
     "execution_count": 108,
     "metadata": {},
     "output_type": "execute_result"
    }
   ],
   "source": [
    "comment_string = '#....... Section 3.2.1 Issue #32 .......'\n",
    "comment_string.strip('.#!')"
   ]
  },
  {
   "cell_type": "markdown",
   "id": "452a5902-240f-447b-acf2-c934590a5491",
   "metadata": {},
   "source": [
    "`str.swapcase`()\n",
    "\n",
    "Return a copy of the string with uppercase characters converted to lowercase and vice versa. Note that it is not necessarily true that `s.swapcase().swapcase() == s`.\n",
    "\n",
    "> `str.swapcase`()\n",
    ">\n",
    "> 返回字符串的副本，将大写字母转换为小写字母，反之亦然。注意，`s.swapcase().swapcase()==s`不一定是真的。"
   ]
  },
  {
   "cell_type": "code",
   "execution_count": 109,
   "id": "8f70a4d9-d8ed-4d9f-8ae7-5f65c393e147",
   "metadata": {},
   "outputs": [
    {
     "data": {
      "text/plain": [
       "'STRING'"
      ]
     },
     "execution_count": 109,
     "metadata": {},
     "output_type": "execute_result"
    },
    {
     "data": {
      "text/plain": [
       "True"
      ]
     },
     "execution_count": 109,
     "metadata": {},
     "output_type": "execute_result"
    }
   ],
   "source": [
    "n.swapcase()\n",
    "n.swapcase().swapcase()==n"
   ]
  },
  {
   "cell_type": "markdown",
   "id": "fb7545c0-0970-43a0-8657-db4707f6a599",
   "metadata": {},
   "source": [
    "`str.title`()\n",
    "\n",
    "Return a titlecased version of the string where words start with an uppercase character and the remaining characters are lowercase.\n",
    "\n",
    "For example:\n",
    "\n",
    "> `str.title`()\n",
    ">\n",
    "> 返回一个标题大写的字符串，其中单词以大写字符开始，其余字符为小写。\n",
    ">\n",
    "> 比如说："
   ]
  },
  {
   "cell_type": "code",
   "execution_count": 110,
   "id": "5d08c972-b39a-4bb6-b8ad-ff0bbcefbacf",
   "metadata": {},
   "outputs": [
    {
     "data": {
      "text/plain": [
       "'Hello World'"
      ]
     },
     "execution_count": 110,
     "metadata": {},
     "output_type": "execute_result"
    }
   ],
   "source": [
    "'Hello world'.title()"
   ]
  },
  {
   "cell_type": "markdown",
   "id": "4e0661ea-fafc-498e-b876-bb6fedee7a89",
   "metadata": {},
   "source": [
    "The algorithm uses a simple language-independent definition of a word as groups of consecutive letters. The definition works in many contexts but it means that apostrophes in contractions and possessives form word boundaries, which may not be the desired result:\n",
    "\n",
    "> 该算法使用了一个简单的独立于语言的定义，即一个词是由连续的字母组成的。这个定义在许多情况下都是有效的，但它意味着缩略语和占有语中的撇号会形成词的边界，而这可能不是所期望的结果。"
   ]
  },
  {
   "cell_type": "code",
   "execution_count": 111,
   "id": "27ebb31b-7953-4479-a69f-4dd26c9e1adb",
   "metadata": {},
   "outputs": [
    {
     "data": {
      "text/plain": [
       "\"They'Re Bill'S Friends From The Uk\""
      ]
     },
     "execution_count": 111,
     "metadata": {},
     "output_type": "execute_result"
    }
   ],
   "source": [
    "\"they're bill's friends from the UK\".title()"
   ]
  },
  {
   "cell_type": "markdown",
   "id": "be8f6cbc-32fb-48c2-96b5-29a3e02ac0f3",
   "metadata": {},
   "source": [
    "The [`string.capwords()`](https://docs.python.org/3/library/string.html#string.capwords) function does not have this problem, as it splits words on spaces only.\n",
    "\n",
    "Alternatively, a workaround for apostrophes can be constructed using regular expressions:\n",
    "\n",
    "> [`string.capwords()`](https://docs.python.org/3/library/string.html#string.capwords)函数不存在这个问题，因为它只在空格上分割单词。\n",
    ">\n",
    "> 另外，也可以使用正则表达式来构建撇号的变通方法："
   ]
  },
  {
   "cell_type": "code",
   "execution_count": 112,
   "id": "fadc8f74-7cef-4cf2-9990-7a8c394e5602",
   "metadata": {},
   "outputs": [
    {
     "data": {
      "text/plain": [
       "\"They're Bill's Friends.\""
      ]
     },
     "execution_count": 112,
     "metadata": {},
     "output_type": "execute_result"
    }
   ],
   "source": [
    "import re\n",
    "def titlecase(s):\n",
    "    return re.sub(r\"[A-Za-z]+('[A-Za-z]+)?\",\n",
    "                  lambda mo: mo.group(0).capitalize(),s)\n",
    "\n",
    "\n",
    "titlecase(\"they're bill's friends.\")"
   ]
  },
  {
   "cell_type": "markdown",
   "id": "f188677a-d6aa-48f4-befe-45dc21a2534c",
   "metadata": {},
   "source": [
    "`str.translate`(*table*)\n",
    "\n",
    "Return a copy of the string in which each character has been mapped through the given translation table. The table must be an object that implements indexing via `__getitem__()`, typically a [mapping](https://docs.python.org/3/glossary.html#term-mapping) or [sequence](https://docs.python.org/3/glossary.html#term-sequence). When indexed by a Unicode ordinal (an integer), the table object can do any of the following: return a Unicode ordinal or a string, to map the character to one or more other characters; return `None`, to delete the character from the return string; or raise a [`LookupError`](https://docs.python.org/3/library/exceptions.html#LookupError) exception, to map the character to itself.\n",
    "\n",
    "You can use [`str.maketrans()`](https://docs.python.org/3/library/stdtypes.html#str.maketrans) to create a translation map from character-to-character mappings in different formats.\n",
    "\n",
    "See also the [`codecs`](https://docs.python.org/3/library/codecs.html#module-codecs) module for a more flexible approach to custom character mappings.\n",
    "\n",
    "> `str.translate`(*table*)\n",
    ">\n",
    "> 返回一个字符串的副本，其中每个字符都通过给定的翻译表进行了映射。该表必须是一个通过`__getitem__()`实现索引的对象，通常是一个[mapping](https://docs.python.org/3/glossary.html#term-mapping)或[sequence](https://docs.python.org/3/glossary.html#term-sequence)。当被Unicode序数（一个整数）索引时，表对象可以做以下任何事情：返回一个Unicode序数或一个字符串，将该字符映射到一个或多个其他字符；返回`None`，从返回的字符串中删除该字符；或者引发一个[`LookupError`](https://docs.python.org/3/library/exceptions.html#LookupError)异常，将该字符映射到自身。\n",
    ">\n",
    "> 你可以使用[`str.maketrans()`](https://docs.python.org/3/library/stdtypes.html#str.maketrans)从不同格式的字符到字符的映射中创建一个翻译映射。\n",
    ">\n",
    "> 也请参见[`codecs`](https://docs.python.org/3/library/codecs.html#module-codecs)模块，以获得更灵活的自定义字符映射方法。"
   ]
  },
  {
   "cell_type": "code",
   "execution_count": 113,
   "id": "4f8c696e-7943-412d-871c-ece311ee6bf4",
   "metadata": {},
   "outputs": [
    {
     "data": {
      "text/plain": [
       "'string'"
      ]
     },
     "execution_count": 113,
     "metadata": {},
     "output_type": "execute_result"
    }
   ],
   "source": [
    "# how to use this method?\n",
    "n.translate({x:y for x in 'abcdef' for y in [4,7,11,45,67,89]})"
   ]
  },
  {
   "cell_type": "markdown",
   "id": "dbae0c19-a419-4b4e-bc54-1bd088f29e73",
   "metadata": {},
   "source": [
    "`str.upper`()\n",
    "\n",
    "Return a copy of the string with all the cased characters [4](https://docs.python.org/3/library/stdtypes.html#id15) converted to uppercase. Note that `s.upper().isupper()` might be `False` if `s` contains uncased characters or if the Unicode category of the resulting character(s) is not “Lu” (Letter, uppercase), but e.g. “Lt” (Letter, titlecase).\n",
    "\n",
    "The uppercasing algorithm used is described in section 3.13 of the Unicode Standard.\n",
    "\n",
    "> `str.upper`()\n",
    ">\n",
    "> 返回一个字符串的副本，并将所有字母[4](https://docs.python.org/3/library/stdtypes.html#id15)转换为大写字母。注意`s.upper().isupper()`可能是`False`，如果`s`包含不加大小写的字符，或者所产生的字符的Unicode类别不是 \"Lu\"（字母，大写），而是例如 \"Lt\"（字母，标题大写）。\n",
    ">\n",
    "> 所使用的大写算法在Unicode标准的第3.13节中有描述。"
   ]
  },
  {
   "cell_type": "code",
   "execution_count": 114,
   "id": "b424c2ba-439a-4729-ae5c-d06d5b6977dc",
   "metadata": {},
   "outputs": [
    {
     "data": {
      "text/plain": [
       "'STRING'"
      ]
     },
     "execution_count": 114,
     "metadata": {},
     "output_type": "execute_result"
    }
   ],
   "source": [
    "s.upper()"
   ]
  },
  {
   "cell_type": "markdown",
   "id": "46c684f7-eafa-4962-85b5-8a8a32a4c5c5",
   "metadata": {},
   "source": [
    "`str.zfill`(*width*)\n",
    "\n",
    "Return a copy of the string left filled with ASCII `'0'` digits to make a string of length *width*. A leading sign prefix (`'+'`/`'-'`) is handled by inserting the padding *after* the sign character rather than before. The original string is returned if *width* is less than or equal to `len(s)`.\n",
    "\n",
    "For example:\n",
    "\n",
    "> `str.zfill`(*width*)\n",
    ">\n",
    "> 返回一个用ASCII`'0'`数字填充的字符串副本，使其成为一个长度为*width*的字符串。处理前导符号（`'+'/'-'`）的方法是在符号字符后插入填充物，而不是之前。如果*width*小于或等于`len(s)`，则返回原始字符串。\n",
    ">\n",
    "> 比如说："
   ]
  },
  {
   "cell_type": "code",
   "execution_count": 115,
   "id": "bf2364c8-c101-49cd-ba3e-0cd0a36a2882",
   "metadata": {},
   "outputs": [
    {
     "data": {
      "text/plain": [
       "'00042'"
      ]
     },
     "execution_count": 115,
     "metadata": {},
     "output_type": "execute_result"
    }
   ],
   "source": [
    "\"42\".zfill(5)"
   ]
  },
  {
   "cell_type": "code",
   "execution_count": 116,
   "id": "017a0ca3-f613-4f26-9b3b-4658e7424747",
   "metadata": {},
   "outputs": [
    {
     "data": {
      "text/plain": [
       "'-0042'"
      ]
     },
     "execution_count": 116,
     "metadata": {},
     "output_type": "execute_result"
    }
   ],
   "source": [
    "\"-42\".zfill(5)"
   ]
  },
  {
   "cell_type": "markdown",
   "id": "fa3f9c24-b4f5-4310-8a94-e8653db16bff",
   "metadata": {},
   "source": [
    "### `printf`-style String Formatting"
   ]
  },
  {
   "cell_type": "markdown",
   "id": "c23c007b-1d07-4555-b12a-1979e7d900b1",
   "metadata": {},
   "source": [
    "**Note:** The formatting operations described here exhibit a variety of quirks that lead to a number of common errors (such as failing to display tuples and dictionaries correctly). Using the newer [formatted string literals](https://docs.python.org/3/reference/lexical_analysis.html#f-strings), the [`str.format()`](https://docs.python.org/3/library/stdtypes.html#str.format) interface, or [template strings](https://docs.python.org/3/library/string.html#template-strings) may help avoid these errors. Each of these alternatives provides their own trade-offs and benefits of simplicity, flexibility, and/or extensibility.\n",
    "\n",
    "> **注意：**这里描述的格式化操作表现出各种怪癖，导致了一些常见的错误（比如不能正确显示图元和字典）。使用较新的[格式化字符串字面](https://docs.python.org/3/reference/lexical_analysis.html#f-strings)、[`str.format()`](https://docs.python.org/3/library/stdtypes.html#str.format)接口或[模板字符串](https://docs.python.org/3/library/string.html#template-strings)可能有助于避免这些错误。这些替代方案中的每一个都提供了它们自己的权衡和简单性、灵活性和/或可扩展性的好处。"
   ]
  },
  {
   "cell_type": "markdown",
   "id": "12927394-3317-475b-a3ef-e21fcb3997e3",
   "metadata": {},
   "source": [
    "String objects have one unique built-in operation: the `%` operator (modulo). This is also known as the string *formatting* or *interpolation* operator. Given `format % values` (where *format* is a string), `%` conversion specifications in *format* are replaced with zero or more elements of *values*. The effect is similar to using the `sprintf()` in the C language.\n",
    "\n",
    "If *format* requires a single argument, *values* may be a single non-tuple object. [5](https://docs.python.org/3/library/stdtypes.html#id16) Otherwise, *values* must be a tuple with exactly the number of items specified by the format string, or a single mapping object (for example, a dictionary).\n",
    "\n",
    "A conversion specifier contains two or more characters and has the following components, which must occur in this order:\n",
    "\n",
    "> 字符串对象有一个独特的内置操作：`%`运算符（modulo）。这也被称为字符串的*格式化*或*插值*操作。给定`format % values`（其中*format*是一个字符串），*format*中的`%`转换规范被替换成*values*中的零个或多个元素。其效果类似于使用C语言中的`sprintf()`。\n",
    ">\n",
    "> 如果*format*需要一个参数，*values*可以是一个单一的非元组对象。[5](https://docs.python.org/3/library/stdtypes.html#id16)否则，*values*必须是一个元组，其数量正好是格式字符串所指定的项目，或者是一个单一的映射对象（例如，一个字典）。\n",
    ">\n",
    "> 一个转换指定符包含两个或更多的字符，并有以下成分，它们必须按这个顺序出现："
   ]
  },
  {
   "cell_type": "markdown",
   "id": "388d2099-b564-4688-a64b-ab72d329f579",
   "metadata": {},
   "source": [
    "1. The `'%'` character, which marks the start of the specifier.\n",
    "2. Mapping key (optional), consisting of a parenthesised sequence of characters (for example, `(somename)`).\n",
    "3. Conversion flags (optional), which affect the result of some conversion types.\n",
    "4. Minimum field width (optional). If specified as an `'*'` (asterisk), the actual width is read from the next element of the tuple in *values*, and the object to convert comes after the minimum field width and optional precision.\n",
    "5. Precision (optional), given as a `'.'` (dot) followed by the precision. If specified as `'*'` (an asterisk), the actual precision is read from the next element of the tuple in *values*, and the value to convert comes after the precision.\n",
    "6. Length modifier (optional).\n",
    "7. Conversion type.\n",
    "\n",
    "> 1. `'%'`字符，它标志着指定符的开始。\n",
    "> 2. 映射键（可选），由一个括号内的字符序列组成（例如，`(somename)`）。\n",
    "> 3. 转换标志（可选），它影响一些转换类型的结果。\n",
    "> 4. 最小字段宽度（可选）。如果指定为`'*'`（星号），实际宽度将从*values*中的元组的下一个元素中读取，要转换的对象在最小场宽和可选精度之后。\n",
    "> 5. 精度（可选），以`'.'`（点）\"的形式给出，后面是精度。如果指定为`'*'`（星号），实际精度将从*values*中的元组的下一个元素中读取，并且要转换的值在精度之后。\n",
    "> 6. 长度修改器（可选）。\n",
    "> 7. 转换类型。"
   ]
  },
  {
   "cell_type": "markdown",
   "id": "1e591274-73c5-486b-b633-c34ed953a860",
   "metadata": {},
   "source": [
    "When the right argument is a dictionary (or other mapping type), then the formats in the string *must* include a parenthesised mapping key into that dictionary inserted immediately after the `'%'` character. The mapping key selects the value to be formatted from the mapping. For example:\n",
    "\n",
    "> 当右参数是一个字典（或其他映射类型）时，那么字符串中的格式*必须*包括一个插入到该字典中的括号内的映射键，紧接着插入`'%'`字符。映射键从映射中选择要被格式化的值。例如："
   ]
  },
  {
   "cell_type": "code",
   "execution_count": 117,
   "id": "4125450e-375f-4324-8514-f1b705130b7d",
   "metadata": {},
   "outputs": [
    {
     "name": "stdout",
     "output_type": "stream",
     "text": [
      "Python has 0002 quote types.\n"
     ]
    }
   ],
   "source": [
    "print('%(language)s has %(number)04d quote types.' % \n",
    "      {'language': \"Python\", \"number\": 2})"
   ]
  },
  {
   "cell_type": "markdown",
   "id": "64133728-cce2-4b1f-bf2b-89e723f092f8",
   "metadata": {},
   "source": [
    "In this case no `*` specifiers may occur in a format (since they require a sequential parameter list).\n",
    "\n",
    "The conversion flag characters are:\n",
    "\n",
    "> 在这种情况下，格式中不得出现 `*` 指定符（因为它们需要一个连续的参数列表）。\n",
    ">\n",
    "> 转换标志字符为："
   ]
  },
  {
   "cell_type": "markdown",
   "id": "33600f4a-2dd5-4fae-89a1-516315cdf33e",
   "metadata": {},
   "source": [
    "| Flag  | Meaning                                                      |\n",
    "| :---- | :----------------------------------------------------------- |\n",
    "| `'#'` | The value conversion will use the “alternate form” (where defined below). |\n",
    "| `'0'` | The conversion will be zero padded for numeric values.       |\n",
    "| `'-'` | The converted value is left adjusted (overrides the `'0'` conversion if both are given). |\n",
    "| `' '` | (a space) A blank should be left before a positive number (or empty string) produced by a signed conversion. |\n",
    "| `'+'` | A sign character (`'+'` or `'-'`) will precede the conversion (overrides a “space” flag). |"
   ]
  },
  {
   "cell_type": "markdown",
   "id": "835c3cf1-50ee-43d9-af42-ee7b1fb17df5",
   "metadata": {},
   "source": [
    "A length modifier (`h`, `l`, or `L`) may be present, but is ignored as it is not necessary for Python – so e.g. `%ld` is identical to `%d`.\n",
    "\n",
    "The conversion types are:\n",
    "\n",
    "> 长度修饰符(`h`, `l`, 或 `L`)可能会出现，但会被忽略，因为它对Python来说是不必要的--所以例如`%ld`与`%d`是相同的。\n",
    ">\n",
    "> 转换类型有："
   ]
  },
  {
   "cell_type": "markdown",
   "id": "6c36d028-3c53-401e-a0e9-a0092e381e6d",
   "metadata": {},
   "source": [
    "| Conversion | Meaning                                                      | Notes |\n",
    "| :--------- | :----------------------------------------------------------- | :---- |\n",
    "| `'d'`      | Signed integer decimal.                                      |       |\n",
    "| `'i'`      | Signed integer decimal.                                      |       |\n",
    "| `'o'`      | Signed octal value.                                          | (1)   |\n",
    "| `'u'`      | Obsolete type – it is identical to `'d'`.                    | (6)   |\n",
    "| `'x'`      | Signed hexadecimal (lowercase).                              | (2)   |\n",
    "| `'X'`      | Signed hexadecimal (uppercase).                              | (2)   |\n",
    "| `'e'`      | Floating point exponential format (lowercase).               | (3)   |\n",
    "| `'E'`      | Floating point exponential format (uppercase).               | (3)   |\n",
    "| `'f'`      | Floating point decimal format.                               | (3)   |\n",
    "| `'F'`      | Floating point decimal format.                               | (3)   |\n",
    "| `'g'`      | Floating point format. Uses lowercase exponential format if exponent is less than -4 or not less than precision, decimal format otherwise. | (4)   |\n",
    "| `'G'`      | Floating point format. Uses uppercase exponential format if exponent is less than -4 or not less than precision, decimal format otherwise. | (4)   |\n",
    "| `'c'`      | Single character (accepts integer or single character string). |       |\n",
    "| `'r'`      | String (converts any Python object using [`repr()`](https://docs.python.org/3/library/functions.html#repr)). | (5)   |\n",
    "| `'s'`      | String (converts any Python object using [`str()`](https://docs.python.org/3/library/stdtypes.html#str)). | (5)   |\n",
    "| `'a'`      | String (converts any Python object using [`ascii()`](https://docs.python.org/3/library/functions.html#ascii)). | (5)   |\n",
    "| `'%'`      | No argument is converted, results in a `'%'` character in the result. |       |"
   ]
  },
  {
   "cell_type": "markdown",
   "id": "0ef5a28c-3a60-470b-a4d1-d3a6574092e0",
   "metadata": {},
   "source": [
    "Notes:\n",
    "\n",
    "1. The alternate form causes a leading octal specifier (`'0o'`) to be inserted before the first digit.\n",
    "\n",
    "2. The alternate form causes a leading `'0x'` or `'0X'` (depending on whether the `'x'` or `'X'` format was used) to be inserted before the first digit.\n",
    "\n",
    "3. The alternate form causes the result to always contain a decimal point, even if no digits follow it.\n",
    "\n",
    "   The precision determines the number of digits after the decimal point and defaults to 6.\n",
    "\n",
    "4. The alternate form causes the result to always contain a decimal point, and trailing zeroes are not removed as they would otherwise be.\n",
    "\n",
    "   The precision determines the number of significant digits before and after the decimal point and defaults to 6.\n",
    "\n",
    "5. If precision is `N`, the output is truncated to `N` characters.\n",
    "\n",
    "6. See [**PEP 237**](https://www.python.org/dev/peps/pep-0237).\n",
    "\n",
    "> 注意事项。\n",
    ">\n",
    "> 1. 另一种形式是在第一个数字前插入一个八进制的前导符号（`'0o'`）。\n",
    ">\n",
    "> 2. 另一种形式是在第一个数字前插入一个领先的 `'0x'` 或 `'0X'`（取决于是否使用了 `'x'` 或 `'X'` 的格式）。\n",
    ">\n",
    "> 3. 替代形式使结果总是包含一个小数点，即使后面没有数字。\n",
    ">\n",
    ">    精度决定了小数点后的数字数，默认为6。\n",
    ">\n",
    "> 4. 另一种形式是使结果总是包含一个小数点，而后面的零没有被删除，因为它们本来就会被删除。\n",
    ">\n",
    ">    精度决定了小数点前后的有效数字数，默认为6。\n",
    ">\n",
    "> 5. 如果精度为`N`，则输出被截断为`N`个字符。\n",
    ">\n",
    "> 6. 见[**PEP 237**](https://www.python.org/dev/peps/pep-0237)。"
   ]
  },
  {
   "cell_type": "markdown",
   "id": "93d66e00-364b-49a2-9a87-5619c4813109",
   "metadata": {},
   "source": [
    "Since Python strings have an explicit length, `%s` conversions do not assume that `'\\0'` is the end of the string.\n",
    "\n",
    "*Changed in version 3.1:* `%f` conversions for numbers whose absolute value is over 1e50 are no longer replaced by `%g` conversions.\n",
    "\n",
    "> 由于Python字符串有一个明确的长度，`%s`转换不会假定 `'\\0'`是字符串的结束。\n",
    ">\n",
    "> *在3.1版本中改变了：*绝对值超过1e50的数字的`%f`转换不再由`%g`转换代替。"
   ]
  },
  {
   "cell_type": "code",
   "execution_count": 118,
   "id": "7de5ef83-3d59-4222-ab87-5a8454050451",
   "metadata": {},
   "outputs": [
    {
     "name": "stdout",
     "output_type": "stream",
     "text": [
      "Python has 00002 quote types.\n",
      "Python has 002 quote types.\n",
      "Python has 2.000000 quote types.\n"
     ]
    }
   ],
   "source": [
    "print('%(language)s has %(number)05i quote types.' %\n",
    "      {'language': \"Python\", \"number\": 2})\n",
    "\n",
    "print('%(language)s has %(number)03o quote types.' %\n",
    "      {'language': \"Python\", \"number\": 2})\n",
    "\n",
    "print('%(language)s has %(number)f quote types.' %\n",
    "      {'language': \"Python\", \"number\": 2})"
   ]
  },
  {
   "cell_type": "markdown",
   "id": "ba93f671-d032-467e-8832-a9ac04ce776c",
   "metadata": {},
   "source": [
    "## Binary Sequence Types — [`bytes`](https://docs.python.org/3/library/stdtypes.html#bytes), [`bytearray`](https://docs.python.org/3/library/stdtypes.html#bytearray), [`memoryview`](https://docs.python.org/3/library/stdtypes.html#memoryview)"
   ]
  },
  {
   "cell_type": "markdown",
   "id": "e62d11e5-dc32-40aa-a6cd-52883734b5ce",
   "metadata": {},
   "source": [
    "The core built-in types for manipulating binary data are [`bytes`](https://docs.python.org/3/library/stdtypes.html#bytes) and [`bytearray`](https://docs.python.org/3/library/stdtypes.html#bytearray). They are supported by [`memoryview`](https://docs.python.org/3/library/stdtypes.html#memoryview) which uses the [buffer protocol](https://docs.python.org/3/c-api/buffer.html#bufferobjects) to access the memory of other binary objects without needing to make a copy.\n",
    "\n",
    "The [`array`](https://docs.python.org/3/library/array.html#module-array) module supports efficient storage of basic data types like 32-bit integers and IEEE754 double-precision floating values.\n",
    "\n",
    "> 处理二进制数据的核心内置类型是[`bytes`](https://docs.python.org/3/library/stdtypes.html#bytes)和[`bytearray`](https://docs.python.org/3/library/stdtypes.html#bytearray)。它们由[`memoryview`](https://docs.python.org/3/library/stdtypes.html#memoryview)支持，使用[buffer protocol](https://docs.python.org/3/c-api/buffer.html#bufferobjects)来访问其他二进制对象的内存，而不需要进行复制。\n",
    ">\n",
    "> [`array`](https://docs.python.org/3/library/array.html#module-array)模块支持基本数据类型的有效存储，如32位整数和IEEE754双精度浮动值。"
   ]
  },
  {
   "cell_type": "markdown",
   "id": "64cc1baa-8dec-4ecc-a291-ab991bcbf046",
   "metadata": {},
   "source": [
    "### Bytes Objects"
   ]
  },
  {
   "cell_type": "markdown",
   "id": "e03aa8e6-4702-410d-8b7e-7a0ed40609cb",
   "metadata": {},
   "source": [
    "Bytes objects are immutable sequences of single bytes. Since many major binary protocols are based on the ASCII text encoding, bytes objects offer several methods that are only valid when working with ASCII compatible data and are closely related to string objects in a variety of other ways.\n",
    "\n",
    "> 字节对象是单字节的不可改变的序列。由于许多主要的二进制协议是基于ASCII文本编码的，字节对象提供了一些只有在处理ASCII兼容数据时才有效的方法，并且在其他各种方面与字符串对象密切相关。"
   ]
  },
  {
   "cell_type": "markdown",
   "id": "87cc96e1-1cd9-45a5-bbdb-c53a2ee7c0de",
   "metadata": {},
   "source": [
    "*class* `bytes`([*source*[, *encoding*[, *errors*]]])\n",
    "\n",
    "Firstly, the syntax for bytes literals is largely the same as that for string literals, except that a `b` prefix is added:\n",
    "\n",
    "- Single quotes: `b'still allows embedded \"double\" quotes'`\n",
    "- Double quotes: `b\"still allows embedded 'single' quotes\"`\n",
    "- Triple quoted: `b'''3 single quotes'''`, `b\"\"\"3 double quotes\"\"\"`\n",
    "\n",
    "Only ASCII characters are permitted in bytes literals (regardless of the declared source code encoding). Any binary values over 127 must be entered into bytes literals using the appropriate escape sequence.\n",
    "\n",
    "As with string literals, bytes literals may also use a `r` prefix to disable processing of escape sequences. See [String and Bytes literals](https://docs.python.org/3/reference/lexical_analysis.html#strings) for more about the various forms of bytes literal, including supported escape sequences.\n",
    "\n",
    "While bytes literals and representations are based on ASCII text, bytes objects actually behave like immutable sequences of integers, with each value in the sequence restricted such that `0 <= x < 256` (attempts to violate this restriction will trigger [`ValueError`](https://docs.python.org/3/library/exceptions.html#ValueError)). This is done deliberately to emphasise that while many binary formats include ASCII based elements and can be usefully manipulated with some text-oriented algorithms, this is not generally the case for arbitrary binary data (blindly applying text processing algorithms to binary data formats that are not ASCII compatible will usually lead to data corruption).\n",
    "\n",
    "In addition to the literal forms, bytes objects can be created in a number of other ways:\n",
    "\n",
    "- A zero-filled bytes object of a specified length: `bytes(10)`\n",
    "- From an iterable of integers: `bytes(range(20))`\n",
    "- Copying existing binary data via the buffer protocol: `bytes(obj)`\n",
    "\n",
    "Also see the [bytes](https://docs.python.org/3/library/functions.html#func-bytes) built-in.\n",
    "\n",
    "Since 2 hexadecimal digits correspond precisely to a single byte, hexadecimal numbers are a commonly used format for describing binary data. Accordingly, the bytes type has an additional class method to read data in that format:\n",
    "\n",
    "- *classmethod* `fromhex`(*string*)\n",
    "\n",
    "  This [`bytes`](https://docs.python.org/3/library/stdtypes.html#bytes) class method returns a bytes object, decoding the given string object. The string must contain two hexadecimal digits per byte, with ASCII whitespace being ignored.\n",
    "\n",
    "> *class* `bytes`([*source*[, *encoding*[, *errors*]])\n",
    ">\n",
    "> 首先，字节字元的语法与字符串字元的语法基本相同，只是增加了一个`b`前缀。\n",
    ">\n",
    "> - 单引号。`b'still allows embedded \"double\" quotes'`。\n",
    "> - 双引号。`b\"still allows embebed 'single' quotes\"`。\n",
    "> - 三重引号。`b'''3 single quotes'''`, `b\"\"\"3 double quotes\"\"\"`。\n",
    ">\n",
    "> 在字节字面中只允许使用ASCII字符（不管声明的源代码编码是什么）。任何超过127的二进制值必须使用适当的转义序列输入字节字面。\n",
    ">\n",
    "> 与字符串字头一样，字节字头也可以使用`r`前缀来禁用转义序列的处理。参见[字符串和字节字面](https://docs.python.org/3/reference/lexical_analysis.html#strings)以了解更多关于字节字面的各种形式，包括支持的转义序列。\n",
    ">\n",
    "> 虽然字节字面和表示法是基于ASCII文本的，但字节对象实际上表现得像不可改变的整数序列，序列中的每个值都被限制为`0 <= x < 256`（试图违反这一限制将触发[`ValueError`](https://docs.python.org/3/library/exceptions.html#ValueError)）。这样做是为了强调，虽然许多二进制格式包括基于ASCII的元素，并且可以用一些面向文本的算法进行有用的操作，但对于任意的二进制数据来说通常不是这样的（盲目地将文本处理算法应用于不兼容ASCII的二进制数据格式，通常会导致数据损坏）。\n",
    ">\n",
    "> 除了字面形式外，字节对象还可以通过其他一些方式创建。\n",
    ">\n",
    "> - 一个指定长度的零填充字节对象：`bytes(10)`。\n",
    "> - 从一个可迭代的整数中：`bytes(range(20))`。\n",
    "> - 通过缓冲区协议复制现有的二进制数据。`bytes(obj)`\n",
    ">\n",
    "> 也请看[bytes](https://docs.python.org/3/library/functions.html#func-bytes)内置。\n",
    ">\n",
    "> 由于2个十六进制数字精确地对应于一个字节，十六进制数字是描述二进制数据的常用格式。因此，bytes类型有一个额外的类方法来读取这种格式的数据。\n",
    ">\n",
    "> - *classmethod* `fromhex`(*string*)\n",
    ">\n",
    ">   这个[`bytes`](https://docs.python.org/3/library/stdtypes.html#bytes)类方法返回一个字节对象，对给定的字符串对象进行解码。字符串每个字节必须包含两个十六进制数字，ASCII空白被忽略。"
   ]
  },
  {
   "cell_type": "code",
   "execution_count": 119,
   "id": "b4240b5b-6638-4fdb-a5e8-58844b5eae80",
   "metadata": {},
   "outputs": [
    {
     "data": {
      "text/plain": [
       "b'\\x00\\x00\\x00\\x00\\x00\\x00\\x00\\x00\\x00\\x00'"
      ]
     },
     "execution_count": 119,
     "metadata": {},
     "output_type": "execute_result"
    },
    {
     "data": {
      "text/plain": [
       "b'\\x00\\x01\\x02\\x03\\x04\\x05\\x06\\x07\\x08\\t\\n\\x0b\\x0c\\r\\x0e\\x0f\\x10\\x11\\x12\\x13'"
      ]
     },
     "execution_count": 119,
     "metadata": {},
     "output_type": "execute_result"
    },
    {
     "data": {
      "text/plain": [
       "b'string'"
      ]
     },
     "execution_count": 119,
     "metadata": {},
     "output_type": "execute_result"
    }
   ],
   "source": [
    "bytes(10)\n",
    "bytes(range(20))\n",
    "bytes('string', encoding=\"utf-8\")"
   ]
  },
  {
   "cell_type": "code",
   "execution_count": 120,
   "id": "df35c48a-185e-43a4-b315-e1f0773f8c9d",
   "metadata": {},
   "outputs": [
    {
     "data": {
      "text/plain": [
       "b'.\\xf0\\xf1\\xf2'"
      ]
     },
     "execution_count": 120,
     "metadata": {},
     "output_type": "execute_result"
    }
   ],
   "source": [
    "bytes.fromhex('2Ef0 F1f2  ')"
   ]
  },
  {
   "cell_type": "markdown",
   "id": "ca201dc2-a29a-4615-8ba9-f399c5480533",
   "metadata": {},
   "source": [
    "*Changed in version 3.7:* [`bytes.fromhex()`](https://docs.python.org/3/library/stdtypes.html#bytes.fromhex) now skips all ASCII whitespace in the string, not just spaces.\n",
    "\n",
    "A reverse conversion function exists to transform a bytes object into its hexadecimal representation.\n",
    "\n",
    "- `hex`([*sep*[, *bytes_per_sep*]])\n",
    "\n",
    "  Return a string object containing two hexadecimal digits for each byte in the instance.\n",
    "\n",
    "> *在3.7版中有所改变：* [`bytes.fromhex()`](https://docs.python.org/3/library/stdtypes.html#bytes.fromhex)现在跳过了字符串中的所有ASCII空白，而不仅仅是空格。\n",
    ">\n",
    "> 有一个反向转换函数可以将字节对象转换为十六进制表示。\n",
    ">\n",
    "> - `hex`([*sep*[, *bytes_per_sep*]])\n",
    ">\n",
    ">   返回一个字符串对象，包含实例中每个字节的两个十六进制数字。"
   ]
  },
  {
   "cell_type": "code",
   "execution_count": 121,
   "id": "1eed9979-df51-436e-8490-201680c69fb0",
   "metadata": {},
   "outputs": [
    {
     "data": {
      "text/plain": [
       "'f0f1f2'"
      ]
     },
     "execution_count": 121,
     "metadata": {},
     "output_type": "execute_result"
    }
   ],
   "source": [
    "b'\\xf0\\xf1\\xf2'.hex()"
   ]
  },
  {
   "cell_type": "markdown",
   "id": "59bef4af-cf69-42a8-b628-c953f7124d69",
   "metadata": {},
   "source": [
    "If you want to make the hex string easier to read, you can specify a single character separator *sep* parameter to include in the output. By default between each byte. A second optional *bytes_per_sep* parameter controls the spacing. Positive values calculate the separator position from the right, negative values from the left.\n",
    "\n",
    "> 如果你想使十六进制字符串更容易阅读，你可以指定一个单字符分隔符*sep*参数，以包括在输出中。默认情况下是在每个字节之间。第二个可选的*bytes_per_sep*参数控制间距。正值从右边计算分隔符的位置，负值从左边计算。"
   ]
  },
  {
   "cell_type": "code",
   "execution_count": 122,
   "id": "46aba688-c5e9-4483-a52d-d8f7b3608632",
   "metadata": {},
   "outputs": [
    {
     "data": {
      "text/plain": [
       "'f0_f1_f2'"
      ]
     },
     "execution_count": 122,
     "metadata": {},
     "output_type": "execute_result"
    }
   ],
   "source": [
    "value = b'\\xf0\\xf1\\xf2'\n",
    "value.hex('_')"
   ]
  },
  {
   "cell_type": "code",
   "execution_count": 123,
   "id": "312892e9-6f96-4349-8c7d-a0f9b4794814",
   "metadata": {},
   "outputs": [
    {
     "data": {
      "text/plain": [
       "'f0_f1f2'"
      ]
     },
     "execution_count": 123,
     "metadata": {},
     "output_type": "execute_result"
    },
    {
     "data": {
      "text/plain": [
       "'55554444 4c524c52 4142'"
      ]
     },
     "execution_count": 123,
     "metadata": {},
     "output_type": "execute_result"
    }
   ],
   "source": [
    "value.hex('_', 2)\n",
    "b'UUDDLRLRAB'.hex(' ', -4)"
   ]
  },
  {
   "cell_type": "markdown",
   "id": "7c7792d4-1aef-4679-89d1-4a3633d5092e",
   "metadata": {},
   "source": [
    "*New in version 3.5.*\n",
    "\n",
    "*Changed in version 3.8:* [`bytes.hex()`](https://docs.python.org/3/library/stdtypes.html#bytes.hex) now supports optional *sep* and *bytes_per_sep* parameters to insert separators between bytes in the hex output.\n",
    "\n",
    "> *在3.5版本中的新内容*\n",
    ">\n",
    "> *3.8版中的变化：* [`bytes.hex()`](https://docs.python.org/3/library/stdtypes.html#bytes.hex)现在支持可选的*sep*和*bytes_per_sep*参数，以便在十六进制输出的字节之间插入分隔符。"
   ]
  },
  {
   "cell_type": "markdown",
   "id": "3604223b-9d4f-4c4b-bc50-e24d084bcdf9",
   "metadata": {},
   "source": [
    "Since bytes objects are sequences of integers (akin to a tuple), for a bytes object *b*, `b[0]` will be an integer, while `b[0:1]` will be a bytes object of length 1. (This contrasts with text strings, where both indexing and slicing will produce a string of length 1)\n",
    "\n",
    "The representation of bytes objects uses the literal format (`b'...'`) since it is often more useful than e.g. `bytes([46, 46, 46])`. You can always convert a bytes object into a list of integers using `list(b)`.\n",
    "\n",
    "> 由于字节对象是整数序列（类似于元组），对于一个字节对象*b*，`b[0]`将是一个整数，而`b[0:1]`将是一个长度为1的字节对象。（这与文本字符串相反，索引和切片将产生一个长度为1的字符串。）\n",
    ">\n",
    "> 字节对象的表示方法使用字面格式(`b'...'`)，因为它通常比例如`bytes([46, 46, 46])`更有用。你总是可以使用`list(b)`将字节对象转换为整数列表。"
   ]
  },
  {
   "cell_type": "markdown",
   "id": "29590392-104a-4b92-bb62-637ff9fac16e",
   "metadata": {},
   "source": [
    "### Bytearray Objects"
   ]
  },
  {
   "cell_type": "markdown",
   "id": "6c8bc287-2c78-4bd4-93bf-c140b7440131",
   "metadata": {},
   "source": [
    "[`bytearray`](https://docs.python.org/3/library/stdtypes.html#bytearray) objects are a mutable counterpart to [`bytes`](https://docs.python.org/3/library/stdtypes.html#bytes) objects.\n",
    "\n",
    "> [`bytearray`](https://docs.python.org/3/library/stdtypes.html#bytearray)对象是[`bytes`](https://docs.python.org/3/library/stdtypes.html#bytes)对象的可变对应物。"
   ]
  },
  {
   "cell_type": "markdown",
   "id": "f7e46f60-f203-49ea-9791-930d9c074ca8",
   "metadata": {},
   "source": [
    "*class* `bytearray`([*source*[, *encoding*[, *errors*]]])\n",
    "\n",
    "There is no dedicated literal syntax for bytearray objects, instead they are always created by calling the constructor:\n",
    "\n",
    "- Creating an empty instance: `bytearray()`\n",
    "- Creating a zero-filled instance with a given length: `bytearray(10)`\n",
    "- From an iterable of integers: `bytearray(range(20))`\n",
    "- Copying existing binary data via the buffer protocol: `bytearray(b'Hi!')`\n",
    "\n",
    "As bytearray objects are mutable, they support the [mutable](https://docs.python.org/3/library/stdtypes.html#typesseq-mutable) sequence operations in addition to the common bytes and bytearray operations described in [Bytes and Bytearray Operations](https://docs.python.org/3/library/stdtypes.html#bytes-methods).\n",
    "\n",
    "Also see the [bytearray](https://docs.python.org/3/library/functions.html#func-bytearray) built-in.\n",
    "\n",
    "Since 2 hexadecimal digits correspond precisely to a single byte, hexadecimal numbers are a commonly used format for describing binary data. Accordingly, the bytearray type has an additional class method to read data in that format:\n",
    "\n",
    "- *classmethod* `fromhex`(*string*)\n",
    "\n",
    "  This [`bytearray`](https://docs.python.org/3/library/stdtypes.html#bytearray) class method returns bytearray object, decoding the given string object. The string must contain two hexadecimal digits per byte, with ASCII whitespace being ignored.\n",
    "\n",
    "> *class* `bytearray`([*source*[, *encoding*[, *errors*]])\n",
    ">\n",
    "> 字节数组对象没有专门的字面语法，相反，它们总是通过调用构造函数来创建。\n",
    ">\n",
    "> - 创建一个空的实例：`bytearray()`.\n",
    "> - 创建一个给定长度的零填充实例: `bytearray(10)`.\n",
    "> - 从一个可迭代的整数中：`bytearray(range(20))`。\n",
    "> - 通过缓冲区协议复制现有的二进制数据: `bytearray(b'Hi!')`.\n",
    ">\n",
    "> 由于字节数对象是可变的，除了[Bytes and Bytearray Operations](https://docs.python.org/3/library/stdtypes.html#bytes-methods)中描述的普通字节和字节数操作外，它们还支持[mutable](https://docs.python.org/3/library/stdtypes.html#typesseq-mutable)序列操作。\n",
    ">\n",
    "> 也请看[bytearray](https://docs.python.org/3/library/functions.html#func-bytearray)内置。\n",
    ">\n",
    "> 由于2个十六进制数字精确地对应于一个字节，十六进制数字是描述二进制数据的常用格式。因此，bytearray类型有一个额外的类方法来读取这种格式的数据。\n",
    ">\n",
    "> - *classmethod* `fromhex`(*string*)\n",
    ">\n",
    ">   这个[`bytearray`](https://docs.python.org/3/library/stdtypes.html#bytearray)类方法返回bytearray对象，对给定的字符串对象进行解码。字符串每个字节必须包含两个十六进制数字，ASCII空白被忽略。"
   ]
  },
  {
   "cell_type": "code",
   "execution_count": 124,
   "id": "05889938-e096-41a1-a3bb-7358166b0f9e",
   "metadata": {},
   "outputs": [
    {
     "data": {
      "text/plain": [
       "bytearray(b'.\\xf0\\xf1\\xf2')"
      ]
     },
     "execution_count": 124,
     "metadata": {},
     "output_type": "execute_result"
    }
   ],
   "source": [
    "bytearray.fromhex('2Ef0 F1f2  ')"
   ]
  },
  {
   "cell_type": "markdown",
   "id": "dadc8c44-61b1-42ae-83df-2721d3044204",
   "metadata": {},
   "source": [
    "*Changed in version 3.7:* [`bytearray.fromhex()`](https://docs.python.org/3/library/stdtypes.html#bytearray.fromhex) now skips all ASCII whitespace in the string, not just spaces.\n",
    "\n",
    "A reverse conversion function exists to transform a bytearray object into its hexadecimal representation.\n",
    "\n",
    "> *在3.7版本中有所改变：* [`bytearray.fromhex()`](https://docs.python.org/3/library/stdtypes.html#bytearray.fromhex)现在跳过了字符串中所有的ASCII空白，而不仅仅是空格。\n",
    ">\n",
    "> 存在一个反向转换函数，用于将字节数组对象转换为其十六进制表示。"
   ]
  },
  {
   "cell_type": "markdown",
   "id": "65c13f64-d0b7-4373-9553-4dc967da4f2e",
   "metadata": {},
   "source": [
    "`hex`([*sep*[, *bytes_per_sep*]])\n",
    "\n",
    "Return a string object containing two hexadecimal digits for each byte in the instance.\n",
    "\n",
    "> `hex`([*sep*[, *bytes_per_sep*]])\n",
    ">\n",
    "> 返回一个字符串对象，包含实例中每个字节的两个十六进制数字。"
   ]
  },
  {
   "cell_type": "code",
   "execution_count": 125,
   "id": "c204456c-ef3c-4d55-88ea-728fc65cd4c2",
   "metadata": {},
   "outputs": [
    {
     "data": {
      "text/plain": [
       "'0x100'"
      ]
     },
     "execution_count": 125,
     "metadata": {},
     "output_type": "execute_result"
    }
   ],
   "source": [
    "# how to use this method\n",
    "hex(256)"
   ]
  },
  {
   "cell_type": "markdown",
   "id": "47e36158-3d85-42a6-8e28-0ba4913ac069",
   "metadata": {},
   "source": [
    "*New in version 3.5.*\n",
    "\n",
    "*Changed in version 3.8:* Similar to [`bytes.hex()`](https://docs.python.org/3/library/stdtypes.html#bytes.hex), [`bytearray.hex()`](https://docs.python.org/3/library/stdtypes.html#bytearray.hex) now supports optional *sep* and *bytes_per_sep* parameters to insert separators between bytes in the hex output.\n",
    "\n",
    "> *在3.5版本中的新内容 *\n",
    ">\n",
    "> *在3.8版本中改变了：* 类似于[`bytes.hex()`](https://docs.python.org/3/library/stdtypes.html#bytes.hex)，[`bytearray.hex()`](https://docs.python.org/3/library/stdtypes.html#bytearray.hex)现在支持可选的*sep*和*bytes_per_sep*参数，以在十六进制输出中的字节之间插入分隔符。"
   ]
  },
  {
   "cell_type": "markdown",
   "id": "ac471a34-2ec6-450f-ae1f-fe07fd210c4d",
   "metadata": {},
   "source": [
    "Since bytearray objects are sequences of integers (akin to a list), for a bytearray object *b*, `b[0]` will be an integer, while `b[0:1]` will be a bytearray object of length 1. (This contrasts with text strings, where both indexing and slicing will produce a string of length 1)\n",
    "\n",
    "The representation of bytearray objects uses the bytes literal format (`bytearray(b'...')`) since it is often more useful than e.g. `bytearray([46, 46, 46])`. You can always convert a bytearray object into a list of integers using `list(b)`.\n",
    "\n",
    "> 由于字节数组对象是整数序列（类似于列表），对于一个字节数组对象*b*，`b[0]`将是一个整数，而`b[0:1]`将是一个长度为1的字节数组对象。（这与文本字符串相反，索引和切片将产生一个长度为1的字符串）\n",
    ">\n",
    "> 字节数组对象的表示方法使用字节字面格式(`bytearray(b'...')`)，因为它通常比例如`bytearray([46, 46, 46])`更有用。你总是可以用`list(b)`将字节数对象转换成整数列表。"
   ]
  },
  {
   "cell_type": "markdown",
   "id": "ec01e26d-407d-49ff-b35e-3f0fe1dbe2a6",
   "metadata": {},
   "source": [
    "### Bytes and Bytearray Operations"
   ]
  },
  {
   "cell_type": "markdown",
   "id": "013fc4af-f7a4-4e85-8770-757018bc5157",
   "metadata": {},
   "source": [
    "Both bytes and bytearray objects support the [common](https://docs.python.org/3/library/stdtypes.html#typesseq-common) sequence operations. They interoperate not just with operands of the same type, but with any [bytes-like object](https://docs.python.org/3/glossary.html#term-bytes-like-object). Due to this flexibility, they can be freely mixed in operations without causing errors. However, the return type of the result may depend on the order of operands.\n",
    "\n",
    "> bytes和bytearray对象都支持[通用](https://docs.python.org/3/library/stdtypes.html#typesseq-common)序列操作。它们不仅可以与相同类型的操作数互通，还可以与任何[类字节对象](https://docs.python.org/3/glossary.html#term-bytes-like-object)互通。由于这种灵活性，它们可以在操作中自由混合而不引起错误。然而，结果的返回类型可能取决于操作数的顺序。"
   ]
  },
  {
   "cell_type": "markdown",
   "id": "7adb63ce-20a5-4599-8a68-000aad788d98",
   "metadata": {},
   "source": [
    "**Note:** The methods on bytes and bytearray objects don’t accept strings as their arguments, just as the methods on strings don’t accept bytes as their arguments. For example, you have to write:\n",
    "\n",
    "> **注意:** bytes和bytearray对象的方法不接受字符串作为参数，就像字符串的方法不接受字节作为参数一样。例如，你必须要写："
   ]
  },
  {
   "cell_type": "code",
   "execution_count": 126,
   "id": "e2490754-1fc8-4f62-baab-c52906a141cc",
   "metadata": {},
   "outputs": [
    {
     "data": {
      "text/plain": [
       "'fbc'"
      ]
     },
     "execution_count": 126,
     "metadata": {},
     "output_type": "execute_result"
    }
   ],
   "source": [
    "a = \"abc\"\n",
    "b = a.replace(\"a\", \"f\")\n",
    "b"
   ]
  },
  {
   "cell_type": "markdown",
   "id": "78daa2eb-fcf8-4502-97a5-95d3163c5ee6",
   "metadata": {},
   "source": [
    "and:"
   ]
  },
  {
   "cell_type": "code",
   "execution_count": 127,
   "id": "5b4bf62a-1bc9-4204-a91a-c270fa018c6e",
   "metadata": {},
   "outputs": [
    {
     "data": {
      "text/plain": [
       "b'fbc'"
      ]
     },
     "execution_count": 127,
     "metadata": {},
     "output_type": "execute_result"
    }
   ],
   "source": [
    "a = b\"abc\"\n",
    "b = a.replace(b\"a\", b\"f\")\n",
    "b"
   ]
  },
  {
   "cell_type": "markdown",
   "id": "378dea43-2cce-4d90-933a-5c172668ca6d",
   "metadata": {},
   "source": [
    "Some bytes and bytearray operations assume the use of ASCII compatible binary formats, and hence should be avoided when working with arbitrary binary data. These restrictions are covered below.\n",
    "\n",
    "> 一些字节和字节数组操作假定使用ASCII兼容的二进制格式，因此在处理任意二进制数据时应避免使用。下面将介绍这些限制。"
   ]
  },
  {
   "cell_type": "markdown",
   "id": "b3790847-2687-4e43-866f-2a5537f34687",
   "metadata": {},
   "source": [
    "**Note:** Using these ASCII based operations to manipulate binary data that is not stored in an ASCII based format may lead to data corruption.\n",
    "\n",
    "> **注意：**使用这些基于ASCII的操作来处理不是以ASCII格式存储的二进制数据，可能会导致数据损坏。"
   ]
  },
  {
   "cell_type": "markdown",
   "id": "95d5fed1-ac97-4bc6-a560-c7ce3bbdef8c",
   "metadata": {},
   "source": [
    "The following methods on bytes and bytearray objects can be used with arbitrary binary data.\n",
    "\n",
    "> 以下关于字节和字节数对象的方法可以用来处理任意二进制数据。"
   ]
  },
  {
   "cell_type": "markdown",
   "id": "8321465f-6ed2-42ef-9eab-f9d6d8468d81",
   "metadata": {},
   "source": [
    "`bytes.count`(*sub*[, *start*[, *end*]])\n",
    "\n",
    "`bytearray.count`(*sub*[, *start*[, *end*]])\n",
    "\n",
    "Return the number of non-overlapping occurrences of subsequence *sub* in the range [*start*, *end*]. Optional arguments *start* and *end* are interpreted as in slice notation.\n",
    "\n",
    "The subsequence to search for may be any [bytes-like object](https://docs.python.org/3/glossary.html#term-bytes-like-object) or an integer in the range 0 to 255.\n",
    "\n",
    "*Changed in version 3.3:* Also accept an integer in the range 0 to 255 as the subsequence.\n",
    "\n",
    "> `bytes.count`(*sub*[, *start*[, *end*]])\n",
    ">\n",
    "> `bytearray.count`(*sub*[, *start*[, *end*])\n",
    ">\n",
    "> 返回子序列*sub*在[*start*, *end*]范围内不重叠出现的次数。可选参数*start*和*end*被解释为分片符号。\n",
    ">\n",
    "> 要搜索的子序列可以是任何[类字节对象](https://docs.python.org/3/glossary.html#term-bytes-like-object)或0至255范围内的整数。\n",
    ">\n",
    "> *在3.3版本中有所改变：* 也接受0到255范围内的整数作为子序列。"
   ]
  },
  {
   "cell_type": "code",
   "execution_count": 128,
   "id": "c67cb082-8cb1-4322-a7b0-6e0024e2bea8",
   "metadata": {},
   "outputs": [
    {
     "data": {
      "text/plain": [
       "0"
      ]
     },
     "execution_count": 128,
     "metadata": {},
     "output_type": "execute_result"
    }
   ],
   "source": [
    "b.count(2)"
   ]
  },
  {
   "cell_type": "markdown",
   "id": "6320e09c-7d00-487d-bc7a-19a50aa8090d",
   "metadata": {},
   "source": [
    "`bytes.removeprefix`(*prefix*, */*)\n",
    "\n",
    "`bytearray.removeprefix`(*prefix*, */*)\n",
    "\n",
    "If the binary data starts with the *prefix* string, return `bytes[len(prefix):]`. Otherwise, return a copy of the original binary data:\n",
    "\n",
    "> `bytes.removeprefix`(*prefix*, */*)\n",
    ">\n",
    "> `bytearray.removeprefix`(*prefix*, */*)\n",
    ">\n",
    "> 如果二进制数据以*prefix*字符串开始，返回`bytes[len(prefix):]`。否则，返回一个原始二进制数据的副本。"
   ]
  },
  {
   "cell_type": "code",
   "execution_count": 129,
   "id": "f57658d5-89d1-405e-85c4-0d14b63c4ecb",
   "metadata": {},
   "outputs": [
    {
     "data": {
      "text/plain": [
       "b'Hook'"
      ]
     },
     "execution_count": 129,
     "metadata": {},
     "output_type": "execute_result"
    }
   ],
   "source": [
    " b'TestHook'.removeprefix(b'Test')"
   ]
  },
  {
   "cell_type": "code",
   "execution_count": 130,
   "id": "798b873c-46f7-41aa-883a-83615a883ef4",
   "metadata": {},
   "outputs": [
    {
     "data": {
      "text/plain": [
       "b'BaseTestCase'"
      ]
     },
     "execution_count": 130,
     "metadata": {},
     "output_type": "execute_result"
    }
   ],
   "source": [
    "b'BaseTestCase'.removeprefix(b'Test')"
   ]
  },
  {
   "cell_type": "markdown",
   "id": "662979f5-32a9-4d4d-aeed-aa38a8197397",
   "metadata": {},
   "source": [
    "The *prefix* may be any [bytes-like object](https://docs.python.org/3/glossary.html#term-bytes-like-object).\n",
    "\n",
    "**Note:** The bytearray version of this method does *not* operate in place - it always produces a new object, even if no changes were made.\n",
    "\n",
    "*New in version 3.9.*\n",
    "\n",
    "> *前缀*可以是任何[类字节对象](https://docs.python.org/3/glossary.html#term-bytes-like-object)。\n",
    ">\n",
    "> **注意：**这个方法的字节数版本并*不*在原地操作--它总是产生一个新的对象，即使没有做任何改变。\n",
    ">\n",
    "> **在3.9.版本中新增*"
   ]
  },
  {
   "cell_type": "markdown",
   "id": "3356d01a-5f10-4889-94c5-dfd3bc094e5f",
   "metadata": {},
   "source": [
    "a bulk of methods of bytes and bytearray....."
   ]
  },
  {
   "cell_type": "markdown",
   "id": "ee6d49d6-692a-41cd-a7ab-a19bc9de16ca",
   "metadata": {},
   "source": [
    "### `printf`-style Bytes Formatting"
   ]
  },
  {
   "cell_type": "markdown",
   "id": "a6d86b22-b658-4c12-8623-c90990f0fb36",
   "metadata": {},
   "source": [
    "**Note:** The formatting operations described here exhibit a variety of quirks that lead to a number of common errors (such as failing to display tuples and dictionaries correctly). If the value being printed may be a tuple or dictionary, wrap it in a tuple.\n",
    "\n",
    "> **注意：**这里描述的格式化操作表现出各种怪癖，导致了一些常见的错误（比如不能正确显示元组和字典）。如果被打印的值可能是一个元组或字典，请将其包裹在一个元组中。"
   ]
  },
  {
   "cell_type": "markdown",
   "id": "54f39709-18d7-42a6-a8cc-a2c320634339",
   "metadata": {},
   "source": [
    "Bytes objects (`bytes`/`bytearray`) have one unique built-in operation: the `%` operator (modulo). This is also known as the bytes *formatting* or *interpolation* operator. Given `format % values` (where *format* is a bytes object), `%` conversion specifications in *format* are replaced with zero or more elements of *values*. The effect is similar to using the `sprintf()` in the C language.\n",
    "\n",
    "If *format* requires a single argument, *values* may be a single non-tuple object. [5](https://docs.python.org/3/library/stdtypes.html#id16) Otherwise, *values* must be a tuple with exactly the number of items specified by the format bytes object, or a single mapping object (for example, a dictionary).\n",
    "\n",
    "A conversion specifier contains two or more characters and has the following components, which must occur in this order:\n",
    "\n",
    "1. The `'%'` character, which marks the start of the specifier.\n",
    "2. Mapping key (optional), consisting of a parenthesised sequence of characters (for example, `(somename)`).\n",
    "3. Conversion flags (optional), which affect the result of some conversion types.\n",
    "4. Minimum field width (optional). If specified as an `'*'` (asterisk), the actual width is read from the next element of the tuple in *values*, and the object to convert comes after the minimum field width and optional precision.\n",
    "5. Precision (optional), given as a `'.'` (dot) followed by the precision. If specified as `'*'` (an asterisk), the actual precision is read from the next element of the tuple in *values*, and the value to convert comes after the precision.\n",
    "6. Length modifier (optional).\n",
    "7. Conversion type.\n",
    "\n",
    "> 字节对象（`bytes`/`bytearray`）有一个独特的内置操作：`%`操作符（modulo）。这也被称为字节的*格式化*或*插值*操作。给定`format % values`（其中*format*是一个字节对象），*format*中的`%`转换规范被替换为*values*中的零或多个元素。其效果类似于使用C语言中的`sprintf()`。\n",
    ">\n",
    "> 如果*format*需要一个参数，*values*可以是一个单一的非元组对象。[5](https://docs.python.org/3/library/stdtypes.html#id16)否则，*values*必须是一个元组，其项目数量正好是由格式字节对象指定的，或者是一个单一的映射对象（例如，一个字典）。\n",
    ">\n",
    "> 一个转换指定符包含两个或更多的字符，并有以下成分，它们必须按这个顺序出现。\n",
    ">\n",
    "> 1. `'%'`字符，它标志着指定符的开始。\n",
    "> 2. 映射键（可选），由一个括号内的字符序列组成（例如，`（somename）`）。\n",
    "> 3. 转换标志（可选），它影响一些转换类型的结果。\n",
    "> 4. 最小字段宽度（可选）。如果指定为`'*'`（星号），实际宽度将从*values*中的元组的下一个元素中读取，要转换的对象在最小场宽和可选精度之后。\n",
    "> 5. 精度（可选），以 `'.'`（点）的形式给出，后面是精度。如果指定为`'*'`（星号），实际精度将从*values*中的元组的下一个元素中读取，并且要转换的值在精度之后。\n",
    "> 6. 长度修改器（可选）。\n",
    "> 7. 转换类型。"
   ]
  },
  {
   "cell_type": "markdown",
   "id": "3ac8a704-f0f5-41c0-9c45-86f79c2400b2",
   "metadata": {},
   "source": [
    "much like the string formatting..."
   ]
  },
  {
   "cell_type": "markdown",
   "id": "c60a0cad-c974-469a-8283-3918d1387912",
   "metadata": {},
   "source": [
    "## Set Types — [`set`](https://docs.python.org/3/library/stdtypes.html#set), [`frozenset`](https://docs.python.org/3/library/stdtypes.html#frozenset)"
   ]
  },
  {
   "cell_type": "markdown",
   "id": "077479fe-ac96-4cbf-a4cb-4c9ac223c296",
   "metadata": {},
   "source": [
    "A *set* object is an unordered collection of distinct [hashable](https://docs.python.org/3/glossary.html#term-hashable) objects. Common uses include membership testing, removing duplicates from a sequence, and computing mathematical operations such as intersection, union, difference, and symmetric difference. (For other containers see the built-in [`dict`](https://docs.python.org/3/library/stdtypes.html#dict), [`list`](https://docs.python.org/3/library/stdtypes.html#list), and [`tuple`](https://docs.python.org/3/library/stdtypes.html#tuple) classes, and the [`collections`](https://docs.python.org/3/library/collections.html#module-collections) module.)\n",
    "\n",
    "Like other collections, sets support `x in set`, `len(set)`, and `for x in set`. Being an unordered collection, sets do not record element position or order of insertion. Accordingly, sets do not support indexing, slicing, or other sequence-like behavior.\n",
    "\n",
    "There are currently two built-in set types, [`set`](https://docs.python.org/3/library/stdtypes.html#set) and [`frozenset`](https://docs.python.org/3/library/stdtypes.html#frozenset). The [`set`](https://docs.python.org/3/library/stdtypes.html#set) type is mutable — the contents can be changed using methods like `add()` and `remove()`. Since it is mutable, it has no hash value and cannot be used as either a dictionary key or as an element of another set. The [`frozenset`](https://docs.python.org/3/library/stdtypes.html#frozenset) type is immutable and [hashable](https://docs.python.org/3/glossary.html#term-hashable) — its contents cannot be altered after it is created; it can therefore be used as a dictionary key or as an element of another set.\n",
    "\n",
    "Non-empty sets (not frozensets) can be created by placing a comma-separated list of elements within braces, for example: `{'jack', 'sjoerd'}`, in addition to the [`set`](https://docs.python.org/3/library/stdtypes.html#set) constructor.\n",
    "\n",
    "The constructors for both classes work the same:\n",
    "\n",
    "> 一个*set*对象是一个无序的不同[hashable](https://docs.python.org/3/glossary.html#term-hashable)对象的集合。常见的用途包括成员测试、从序列中删除重复的内容，以及计算数学运算，如交集、并集、差集和对称差集。(关于其他的容器，请参见内置的 [`dict`](https://docs.python.org/3/library/stdtypes.html#dict), [`list`](https://docs.python.org/3/library/stdtypes.html#list), 和 [`tuple`](https://docs.python.org/3/library/stdtypes.html#tuple) 类，以及 [`collections`](https://docs.python.org/3/library/collections.html#module-collections) 模块。)\n",
    ">\n",
    "> 像其他集一样，集合支持`x in set`,  `len(set)`, 和 `for x in set`。作为一个无序的集合，集合不记录元素的位置或插入的顺序。因此，集合不支持索引、切分或其他类似序列的行为。\n",
    ">\n",
    "> 目前有两种内置的集合类型，[`set`](https://docs.python.org/3/library/stdtypes.html#set)和[`frozenset`](https://docs.python.org/3/library/stdtypes.html#frozenset)。[`set`](https://docs.python.org/3/library/stdtypes.html#set)类型是可变的--可以使用`add()`和`remove()`等方法改变内容。因为它是可变的，所以它没有哈希值，既不能作为字典的键，也不能作为其他集合的元素。[`frozenset`](https://docs.python.org/3/library/stdtypes.html#frozenset)类型是不可变的，并且[hashable](https://docs.python.org/3/glossary.html#term-hashable) - 它的内容在创建后不能被改变；因此它可以被用作字典中的键或作为另一个集合的元素。\n",
    ">\n",
    "> 除了 [`set`](https://docs.python.org/3/library/stdtypes.html#set) 构造函数外，还可以通过在大括号内放置逗号分隔的元素列表来创建非空的集合（不是frozensets），例如：`{'jack', 'sjoerd'}`。\n",
    ">\n",
    "> 两个类的构造函数的工作原理是一样的："
   ]
  },
  {
   "cell_type": "markdown",
   "id": "ed2a2996-09d4-4990-9449-fb27139df5cf",
   "metadata": {},
   "source": [
    "Note, the non-operator versions of [`union()`](https://docs.python.org/3/library/stdtypes.html#frozenset.union), [`intersection()`](https://docs.python.org/3/library/stdtypes.html#frozenset.intersection), [`difference()`](https://docs.python.org/3/library/stdtypes.html#frozenset.difference), [`symmetric_difference()`](https://docs.python.org/3/library/stdtypes.html#frozenset.symmetric_difference), [`issubset()`](https://docs.python.org/3/library/stdtypes.html#frozenset.issubset), and [`issuperset()`](https://docs.python.org/3/library/stdtypes.html#frozenset.issuperset) methods will accept any iterable as an argument. In contrast, their operator based counterparts require their arguments to be sets. This precludes error-prone constructions like `set('abc') & 'cbs'` in favor of the more readable `set('abc').intersection('cbs')`.\n",
    "\n",
    "Both [`set`](https://docs.python.org/3/library/stdtypes.html#set) and [`frozenset`](https://docs.python.org/3/library/stdtypes.html#frozenset) support set to set comparisons. Two sets are equal if and only if every element of each set is contained in the other (each is a subset of the other). A set is less than another set if and only if the first set is a proper subset of the second set (is a subset, but is not equal). A set is greater than another set if and only if the first set is a proper superset of the second set (is a superset, but is not equal).\n",
    "\n",
    "Instances of [`set`](https://docs.python.org/3/library/stdtypes.html#set) are compared to instances of [`frozenset`](https://docs.python.org/3/library/stdtypes.html#frozenset) based on their members. For example, `set('abc') == frozenset('abc')` returns `True` and so does `set('abc') in set([frozenset('abc')])`.\n",
    "\n",
    "The subset and equality comparisons do not generalize to a total ordering function. For example, any two nonempty disjoint sets are not equal and are not subsets of each other, so *all* of the following return `False`: `a<b`, `a==b`, or `a>b`.\n",
    "\n",
    "Since sets only define partial ordering (subset relationships), the output of the [`list.sort()`](https://docs.python.org/3/library/stdtypes.html#list.sort) method is undefined for lists of sets.\n",
    "\n",
    "Set elements, like dictionary keys, must be [hashable](https://docs.python.org/3/glossary.html#term-hashable).\n",
    "\n",
    "Binary operations that mix [`set`](https://docs.python.org/3/library/stdtypes.html#set) instances with [`frozenset`](https://docs.python.org/3/library/stdtypes.html#frozenset) return the type of the first operand. For example: `frozenset('ab') | set('bc')` returns an instance of [`frozenset`](https://docs.python.org/3/library/stdtypes.html#frozenset).\n",
    "\n",
    "The following table lists operations available for [`set`](https://docs.python.org/3/library/stdtypes.html#set) that do not apply to immutable instances of [`frozenset`](https://docs.python.org/3/library/stdtypes.html#frozenset):\n",
    "\n",
    "- `update`(**others*)\n",
    "\n",
    "- `set |= other | ...`\n",
    "\n",
    "  Update the set, adding elements from all others.\n",
    "\n",
    "- `intersection_update`(**others*)\n",
    "\n",
    "- `set &= other & ...`\n",
    "\n",
    "  Update the set, keeping only elements found in it and all others.\n",
    "\n",
    "- `difference_update`(**others*)\n",
    "\n",
    "- `set -= other | ...`\n",
    "\n",
    "  Update the set, removing elements found in others.\n",
    "\n",
    "- `symmetric_difference_update`(*other*)\n",
    "\n",
    "- `set ^= other`\n",
    "\n",
    "  Update the set, keeping only elements found in either set, but not in both.\n",
    "\n",
    "- `add`(*elem*)\n",
    "\n",
    "  Add element *elem* to the set.\n",
    "\n",
    "- `remove`(*elem*)\n",
    "\n",
    "  Remove element *elem* from the set. Raises [`KeyError`](https://docs.python.org/3/library/exceptions.html#KeyError) if *elem* is not contained in the set.\n",
    "\n",
    "- `discard`(*elem*)\n",
    "\n",
    "  Remove element *elem* from the set if it is present.\n",
    "\n",
    "- `pop`()\n",
    "\n",
    "  Remove and return an arbitrary element from the set. Raises [`KeyError`](https://docs.python.org/3/library/exceptions.html#KeyError) if the set is empty.\n",
    "\n",
    "- `clear`()\n",
    "\n",
    "  Remove all elements from the set.\n",
    "\n",
    "Note, the non-operator versions of the [`update()`](https://docs.python.org/3/library/stdtypes.html#frozenset.update), [`intersection_update()`](https://docs.python.org/3/library/stdtypes.html#frozenset.intersection_update), [`difference_update()`](https://docs.python.org/3/library/stdtypes.html#frozenset.difference_update), and [`symmetric_difference_update()`](https://docs.python.org/3/library/stdtypes.html#frozenset.symmetric_difference_update) methods will accept any iterable as an argument.\n",
    "\n",
    "Note, the *elem* argument to the `__contains__()`, [`remove()`](https://docs.python.org/3/library/stdtypes.html#frozenset.remove), and [`discard()`](https://docs.python.org/3/library/stdtypes.html#frozenset.discard) methods may be a set. To support searching for an equivalent frozenset, a temporary one is created from *elem*.\n",
    "\n",
    "> 注意，[`union()`](https://docs.python.org/3/library/stdtypes.html#frozenset.union), [`intersection()`](https://docs.python.org/3/library/stdtypes.html#frozenset.intersection), [`difference()`](https://docs.python.org/3/library/stdtypes.html#frozenset.difference), [`symmetric_difference()`](https://docs.python.org/3/library/stdtypes.html#frozenset.symmetric_difference), [`issubset()`](https://docs.python.org/3/library/stdtypes.html#frozenset.issubset), 和 [`issuperset()`](https://docs.python.org/3/library/stdtypes.html#frozenset.issuperset)方法的非运算符版本将接受任何可迭代对象作为参数。相比之下，它们基于操作符的对应方法要求其参数是集合。这就排除了像`set('abc') & 'cbs'`这样容易出错的结构，而采用更易读的`set('abc').intersection('cbs')`。\n",
    ">\n",
    "> [`set`](https://docs.python.org/3/library/stdtypes.html#set)和[`frozenset`](https://docs.python.org/3/library/stdtypes.html#frozenset)都支持集合与集合的比较。两个集合是相等的，当且仅当每个集合的每个元素都包含在另一个集合中（每个集合都是另一个集合的子集）。一个集合小于另一个集合，当且仅当第一个集合是第二个集合的适当子集（是一个子集，但不相等）。一个集合大于另一个集合，当且仅当第一个集合是第二个集合的适当超集（是超集，但不相等）。\n",
    ">\n",
    "> [`set`](https://docs.python.org/3/library/stdtypes.html#set)的实例与[`frozenset`](https://docs.python.org/3/library/stdtypes.html#frozenset)的实例根据其成员进行比较。例如，`set('abc') == frozenset('abc')`返回`True`，`set('abc') in set([frozenset('abc')])`也是如此。\n",
    ">\n",
    "> 子集和相等比较并不能概括为总排序函数。例如，任何两个非空的互不相交的集合都是不相等的，也不是彼此的子集，所以*所有*下列情况都返回 \"假\"：`a<b`, `a==b`, 或`a>b`。\n",
    ">\n",
    "> 由于集合只定义了部分排序（子集关系），对于集合的列表，[`list.sort()`](https://docs.python.org/3/library/stdtypes.html#list.sort)方法的输出是未定义的。\n",
    ">\n",
    "> 集的元素，像字典的键，必须是 [hashable](https://docs.python.org/3/glossary.html#term-hashable)。\n",
    ">\n",
    "> 将 [`set`](https://docs.python.org/3/library/stdtypes.html#set) 实例与 [`frozenset`](https://docs.python.org/3/library/stdtypes.html#frozenset) 混合的二进制操作返回第一个操作数的类型。例如：`frozenset('ab') | set('bc')`返回[`frozenset`](https://docs.python.org/3/library/stdtypes.html#frozenset)的一个实例。\n",
    ">\n",
    "> 下表列出了对[`set`](https://docs.python.org/3/library/stdtypes.html#set)可用的操作，这些操作不适用于[`frozenset`](https://docs.python.org/3/library/stdtypes.html#frozenset)的不可变的实例。\n",
    ">\n",
    "> - `update`(**others*)\n",
    ">\n",
    "> - `set |= other | ...`。\n",
    ">\n",
    ">   更新集合，添加来自所有其他的元素。\n",
    ">\n",
    "> - `intersection_update`(**others*)\n",
    ">\n",
    "> - `set &= other & ...`\n",
    ">\n",
    ">   更新集合，只保留在其中找到的元素和其他所有元素。\n",
    ">\n",
    "> - `difference_update`(**others*)\n",
    ">\n",
    "> - `set -= other | ...`\n",
    ">\n",
    ">   更新集合, 删除在其他集合中发现的元素.\n",
    ">\n",
    "> - `symmetric_difference_update`(*other*)\n",
    ">\n",
    "> - `set ^= other`\n",
    ">\n",
    ">   更新集合，只保留在任一集合中发现的元素，而不是在两个集合中发现的元素。\n",
    ">\n",
    "> - `add`(*elem*)\n",
    ">\n",
    ">   添加元素*elem*到集合中。\n",
    ">\n",
    "> - `remove`(*elem*)\n",
    ">\n",
    ">   从集合中移除元素*elem*。如果*elem*不包含在集合中，会引发[`KeyError`](https://docs.python.org/3/library/exceptions.html#KeyError)。\n",
    ">\n",
    "> - `discard`(*elem*)\n",
    ">\n",
    ">   如果元素*elem*存在，则从集合中移除该元素。\n",
    ">\n",
    "> - `pop`()\n",
    ">\n",
    ">   从集合中删除并返回一个任意的元素。如果集合为空，会引发[`KeyError`](https://docs.python.org/3/library/exceptions.html#KeyError)。\n",
    ">\n",
    "> - `clear`()\n",
    ">\n",
    ">   删除集合中的所有元素。\n",
    ">\n",
    "> 注意，[`update()`](https://docs.python.org/3/library/stdtypes.html#frozenset.update), [`intersection_update()`](https://docs.python.org/3/library/stdtypes.html#frozenset.intersection_update), [`difference_update()`](https://docs.python.org/3/library/stdtypes.html#frozenset.difference_update), 和 [`symmetric_difference_update()`](https://docs.python.org/3/library/stdtypes.html#frozenset.symmetric_difference_update) 方法的非操作者版本将接受任何可迭代对象作为一个参数。\n",
    ">\n",
    "> 注意，`__contains__()`, [`remove()`](https://docs.python.org/3/library/stdtypes.html#frozenset.remove), 和 [`discard()`](https://docs.python.org/3/library/stdtypes.html#frozenset.discard) 方法的*elem*参数可以是一个集合。为了支持搜索一个等价的frozenset，我们从*elem*创建一个临时的frozenset。"
   ]
  },
  {
   "cell_type": "markdown",
   "id": "1814f6da-7ccc-4687-93bb-5ab222aeb71c",
   "metadata": {},
   "source": [
    "## Mapping Types — [`dict`](https://docs.python.org/3/library/stdtypes.html#dict)"
   ]
  },
  {
   "cell_type": "markdown",
   "id": "b228acc6-3bbf-44b8-8d0a-c61e4d278532",
   "metadata": {},
   "source": [
    "A [mapping](https://docs.python.org/3/glossary.html#term-mapping) object maps [hashable](https://docs.python.org/3/glossary.html#term-hashable) values to arbitrary objects. Mappings are mutable objects. There is currently only one standard mapping type, the *dictionary*. (For other containers see the built-in [`list`](https://docs.python.org/3/library/stdtypes.html#list), [`set`](https://docs.python.org/3/library/stdtypes.html#set), and [`tuple`](https://docs.python.org/3/library/stdtypes.html#tuple) classes, and the [`collections`](https://docs.python.org/3/library/collections.html#module-collections) module.)\n",
    "\n",
    "A dictionary’s keys are *almost* arbitrary values. Values that are not [hashable](https://docs.python.org/3/glossary.html#term-hashable), that is, values containing lists, dictionaries or other mutable types (that are compared by value rather than by object identity) may not be used as keys. Numeric types used for keys obey the normal rules for numeric comparison: if two numbers compare equal (such as `1` and `1.0`) then they can be used interchangeably to index the same dictionary entry. (Note however, that since computers store floating-point numbers as approximations it is usually unwise to use them as dictionary keys.)\n",
    "\n",
    "> 一个[映射](https://docs.python.org/3/glossary.html#term-mapping)对象将[可散列](https://docs.python.org/3/glossary.html#term-hashable)值映射到任意的对象。映射是可变的对象。目前只有一种标准的映射类型，即*dictionary*。(关于其他的容器，请看内置的 [`list`](https://docs.python.org/3/library/stdtypes.html#list), [`set`](https://docs.python.org/3/library/stdtypes.html#set), 和 [`tuple`](https://docs.python.org/3/library/stdtypes.html#tuple) 类，以及 [`collections`](https://docs.python.org/3/library/collections.html#module-collections) 模块。)\n",
    ">\n",
    "> 一个 dictionary 的键是*几乎*任意的值。不是 [hashable](https://docs.python.org/3/glossary.html#term-hashable) 的值，即包含列表、字典或其它可变类型的值 (通过值而不是通过对象身份进行比较) 不能被用作键。用于键的数字类型遵守数字比较的正常规则：如果两个数字比较相等（如`1`和`1.0`），那么它们可以互换地用于索引同一个字典条目。(但是请注意，由于计算机将浮点数存储为近似值，用它们作为字典的键通常是不明智的)。"
   ]
  },
  {
   "cell_type": "markdown",
   "id": "3c93f1fe-4e52-4e61-9b99-3fdd162cbdd4",
   "metadata": {},
   "source": [
    "*class* `dict`(***kwargs*)\n",
    "\n",
    "*class* `dict`(*mapping*, ***kwargs*)\n",
    "\n",
    "*class* `dict`(*iterable*, ***kwargs*)\n",
    "\n",
    "Return a new dictionary initialized from an optional positional argument and a possibly empty set of keyword arguments.\n",
    "\n",
    "Dictionaries can be created by several means:\n",
    "\n",
    "- Use a comma-separated list of `key: value` pairs within braces: `{'jack': 4098, 'sjoerd': 4127}` or `{4098: 'jack', 4127: 'sjoerd'}`\n",
    "- Use a dict comprehension: `{}`, `{x: x ** 2 for x in range(10)}`\n",
    "- Use the type constructor: `dict()`, `dict([('foo', 100), ('bar', 200)])`, `dict(foo=100, bar=200)`\n",
    "\n",
    "If no positional argument is given, an empty dictionary is created. If a positional argument is given and it is a mapping object, a dictionary is created with the same key-value pairs as the mapping object. Otherwise, the positional argument must be an [iterable](https://docs.python.org/3/glossary.html#term-iterable) object. Each item in the iterable must itself be an iterable with exactly two objects. The first object of each item becomes a key in the new dictionary, and the second object the corresponding value. If a key occurs more than once, the last value for that key becomes the corresponding value in the new dictionary.\n",
    "\n",
    "If keyword arguments are given, the keyword arguments and their values are added to the dictionary created from the positional argument. If a key being added is already present, the value from the keyword argument replaces the value from the positional argument.\n",
    "\n",
    "To illustrate, the following examples all return a dictionary equal to `{\"one\": 1, \"two\": 2, \"three\": 3}`:\n",
    "\n",
    "> *class* `dict`(***kwargs*)\n",
    ">\n",
    "> *class* `dict`(*mapping*, ***kwargs*)\n",
    ">\n",
    "> *class* `dict`(*iterable*, ***kwargs*)\n",
    ">\n",
    "> 返回一个新的字典，它由一个可选的位置参数和一个可能是空的关键字参数集初始化而成。\n",
    ">\n",
    "> 字典可以通过几种方式创建。\n",
    ">\n",
    "> - 使用大括号内的逗号分隔的 `key: value` 对列表：`{'jack': 4098, 'sjoerd': 4127}`或 `{4098: 'jack', 4127: 'sjoerd'}`。\n",
    "> - 使用dict解析式：`{}`, `{x: x ** 2 for x in range(10)}`。\n",
    "> - 使用类型构造函数：`dict()`, `dict([('foo', 100), ('bar', 200)]`, `dict(foo=100, bar=200)`.\n",
    ">\n",
    "> 如果没有给出位置参数，就会创建一个空的字典。如果给了一个位置参数，而且是一个映射对象，就会创建一个与映射对象相同的键值对的 dictionary。否则，位置参数必须是一个 [iterable](https://docs.python.org/3/glossary.html#term-iterable) 对象。iterable中的每个项目本身必须是一个有两个对象的iterable。每个项目的第一个对象成为新字典中的一个键，第二个对象是相应的值。如果一个键出现不止一次，这个键的最后一个值就成为新字典中的相应值。\n",
    ">\n",
    "> 如果给出了关键字参数，关键字参数和它们的值将被添加到由位置参数创建的字典中。如果被添加的键已经存在，那么来自关键字参数的值将取代来自位置参数的值。\n",
    ">\n",
    "> 为了说明问题，下面的例子都返回一个等于`{\"one\": 1, \"two\": 2, \"three\": 3}`的字典："
   ]
  },
  {
   "cell_type": "code",
   "execution_count": 131,
   "id": "e2c22744-6c2a-49be-bc69-788837559be5",
   "metadata": {},
   "outputs": [
    {
     "data": {
      "text/plain": [
       "{'one': 1, 'two': 2, 'three': 3}"
      ]
     },
     "execution_count": 131,
     "metadata": {},
     "output_type": "execute_result"
    },
    {
     "data": {
      "text/plain": [
       "{'one': 1, 'two': 2, 'three': 3}"
      ]
     },
     "execution_count": 131,
     "metadata": {},
     "output_type": "execute_result"
    },
    {
     "data": {
      "text/plain": [
       "{'two': 2, 'one': 1, 'three': 3}"
      ]
     },
     "execution_count": 131,
     "metadata": {},
     "output_type": "execute_result"
    },
    {
     "data": {
      "text/plain": [
       "{'three': 3, 'one': 1, 'two': 2}"
      ]
     },
     "execution_count": 131,
     "metadata": {},
     "output_type": "execute_result"
    },
    {
     "data": {
      "text/plain": [
       "{'one': 1, 'three': 3, 'two': 2}"
      ]
     },
     "execution_count": 131,
     "metadata": {},
     "output_type": "execute_result"
    },
    {
     "data": {
      "text/plain": [
       "True"
      ]
     },
     "execution_count": 131,
     "metadata": {},
     "output_type": "execute_result"
    }
   ],
   "source": [
    "# keyword arguments\n",
    "a = dict(one=1, two=2, three=3)\n",
    "a\n",
    "# Use a comma-separated list of key: value pairs within braces\n",
    "b = {'one': 1, 'two': 2, 'three': 3}\n",
    "b\n",
    "# use positional argument whic is an iterable object\n",
    "c = dict(zip(['one', 'two', 'three'], [1, 2, 3]))\n",
    "\n",
    "# Use the type constructor\n",
    "d = dict([('two', 2), ('one', 1), ('three', 3)])\n",
    "d \n",
    "\n",
    "# Use the type constructor\n",
    "e = dict({'three': 3, 'one': 1, 'two': 2})\n",
    "e\n",
    "\n",
    "# position argument combine keyword argument\n",
    "f = dict({'one': 1, 'three': 3}, two=2)\n",
    "f\n",
    "\n",
    "a == b == c == d == e == f"
   ]
  },
  {
   "cell_type": "markdown",
   "id": "a19302b5-fdd3-4cf8-8dc1-5a20d7408f91",
   "metadata": {},
   "source": [
    "Providing keyword arguments as in the first example only works for keys that are valid Python identifiers. Otherwise, any valid keys can be used.\n",
    "\n",
    "These are the operations that dictionaries support (and therefore, custom mapping types should support too):\n",
    "\n",
    "> 像第一个例子中那样提供关键字参数只对有效的Python标识符的键有效。否则，任何有效的键都可以被使用。\n",
    ">\n",
    "> 这些是字典支持的操作 (因此，自定义映射类型也应该支持)："
   ]
  },
  {
   "cell_type": "markdown",
   "id": "c55dbd3e-cf2e-4ac8-ab51-599af1c2d2f9",
   "metadata": {},
   "source": [
    "- `list(d)`\n",
    "\n",
    "  Return a list of all the keys used in the dictionary *d*.\n",
    "\n",
    "- `len(d)`\n",
    "\n",
    "  Return the number of items in the dictionary *d*.\n",
    "\n",
    "- `d[key]`\n",
    "\n",
    "  Return the item of *d* with key *key*. Raises a [`KeyError`](https://docs.python.org/3/library/exceptions.html#KeyError) if *key* is not in the map.If a subclass of dict defines a method `__missing__()` and *key* is not present, the `d[key]` operation calls that method with the key *key* as argument. The `d[key]` operation then returns or raises whatever is returned or raised by the `__missing__(key)` call. No other operations or methods invoke `__missing__()`. If `__missing__()` is not defined, [`KeyError`](https://docs.python.org/3/library/exceptions.html#KeyError) is raised. `__missing__()` must be a method; it cannot be an instance variable:\n",
    "\n",
    "  > - `list(d)`\n",
    "  >\n",
    "  >   返回字典*d*中使用的所有键的列表。\n",
    "  >\n",
    "  > - `len(d)`\n",
    "  >\n",
    "  >   返回字典*d*中项目的数量。\n",
    "  >\n",
    "  > - `d[key]`\n",
    "  >\n",
    "  >   返回*d*中带有*key*的项目。如果*key*不在映射中，会引发[`KeyError`](https://docs.python.org/3/library/exceptions.html#KeyError)。\n",
    "  >\n",
    "  >   如果dict的一个子类定义了一个方法`__missing__()`，并且*key*不存在，`d[key]`操作以*key*为参数调用该方法。然后，`d[key]`操作返回或引发任何由`__missing__(key)`调用返回或引发的结果。没有其他操作或方法会调用`__missing__()`。如果`__missing__()`没有被定义，则会引发[`KeyError`](https://docs.python.org/3/library/exceptions.html#KeyError)。`__missing__()`必须是一个方法；它不能是一个实例变量。"
   ]
  },
  {
   "cell_type": "code",
   "execution_count": 132,
   "id": "ff093b3f-376d-4c7c-8c22-da36b1d0e59d",
   "metadata": {},
   "outputs": [
    {
     "data": {
      "text/plain": [
       "['two', 'one', 'three']"
      ]
     },
     "execution_count": 132,
     "metadata": {},
     "output_type": "execute_result"
    },
    {
     "data": {
      "text/plain": [
       "3"
      ]
     },
     "execution_count": 132,
     "metadata": {},
     "output_type": "execute_result"
    },
    {
     "data": {
      "text/plain": [
       "1"
      ]
     },
     "execution_count": 132,
     "metadata": {},
     "output_type": "execute_result"
    }
   ],
   "source": [
    "list(d)\n",
    "len(d)\n",
    "d['one']"
   ]
  },
  {
   "cell_type": "code",
   "execution_count": 133,
   "id": "4190c746-91df-4f6e-81ab-9d48c6659373",
   "metadata": {},
   "outputs": [
    {
     "data": {
      "text/plain": [
       "0"
      ]
     },
     "execution_count": 133,
     "metadata": {},
     "output_type": "execute_result"
    },
    {
     "data": {
      "text/plain": [
       "1"
      ]
     },
     "execution_count": 133,
     "metadata": {},
     "output_type": "execute_result"
    }
   ],
   "source": [
    "class Counter(dict):\n",
    "    def __missing__(self, key):\n",
    "        return 0\n",
    "    \n",
    "g = Counter()\n",
    "g['red']\n",
    "\n",
    "g['red'] += 1\n",
    "g['red']"
   ]
  },
  {
   "cell_type": "markdown",
   "id": "14650afd-d765-4069-b61b-d00f1dfca6d2",
   "metadata": {},
   "source": [
    "The example above shows part of the implementation of [`collections.Counter`](https://docs.python.org/3/library/collections.html#collections.Counter). A different `__missing__` method is used by [`collections.defaultdict`](https://docs.python.org/3/library/collections.html#collections.defaultdict).\n",
    "\n",
    "> 上面的例子显示了[`collections.Counter`](https://docs.python.org/3/library/collections.html#collections.Counter)的部分实现。[`collections.defaultdict`](https://docs.python.org/3/library/collections.html#collections.defaultdict)使用了一个不同的`__missing__`方法。"
   ]
  },
  {
   "cell_type": "markdown",
   "id": "0a28b698-ce70-4580-98b5-b23c7a76dc3b",
   "metadata": {},
   "source": [
    "- `d[key] = value`\n",
    "\n",
    "  Set `d[key]` to *value*.\n",
    "\n",
    "- `del d[key]`\n",
    "\n",
    "  Remove `d[key]` from *d*. Raises a [`KeyError`](https://docs.python.org/3/library/exceptions.html#KeyError) if *key* is not in the map.\n",
    "\n",
    "- `key in d`\n",
    "\n",
    "  Return `True` if *d* has a key *key*, else `False`.\n",
    "\n",
    "- `key not in d`\n",
    "\n",
    "  Equivalent to `not key in d`.\n",
    "\n",
    "- `iter(d)`\n",
    "\n",
    "  Return an iterator over the keys of the dictionary. This is a shortcut for `iter(d.keys())`.\n",
    "\n",
    "- `clear`()\n",
    "\n",
    "  Remove all items from the dictionary.\n",
    "\n",
    "- `copy`()\n",
    "\n",
    "  Return a shallow copy of the dictionary.\n",
    "\n",
    "> - `d[key]=value`。\n",
    ">\n",
    ">   将`d[key]`设为*value*。\n",
    ">\n",
    "> - `del d[key]`\n",
    ">\n",
    ">   从*d*中删除`d[key]`。如果*key*不在地图中，会引发一个[`KeyError`](https://docs.python.org/3/library/exceptions.html#KeyError)。\n",
    ">\n",
    "> - `key in d`\n",
    ">\n",
    ">   如果*d*有一个键*key*，返回`True`，否则`False`。\n",
    ">\n",
    "> - `key not in d`\n",
    ">\n",
    ">   相当于`not key in d`。\n",
    ">\n",
    "> - `iter(d)`\n",
    ">\n",
    ">   返回一个在字典的键上的迭代器。这是`iter(d.key())`的一个快捷方式。\n",
    ">\n",
    "> - `clear`()\n",
    ">\n",
    ">   从字典中删除所有项目。\n",
    ">\n",
    "> - `copy`()\n",
    ">\n",
    ">   返回字典的一个浅层拷贝。"
   ]
  },
  {
   "cell_type": "code",
   "execution_count": 134,
   "id": "e15e8104-c0e0-450b-9e61-381a907bdd5a",
   "metadata": {},
   "outputs": [
    {
     "data": {
      "text/plain": [
       "{'two': 22, 'one': 1, 'three': 3}"
      ]
     },
     "execution_count": 134,
     "metadata": {},
     "output_type": "execute_result"
    },
    {
     "data": {
      "text/plain": [
       "False"
      ]
     },
     "execution_count": 134,
     "metadata": {},
     "output_type": "execute_result"
    },
    {
     "data": {
      "text/plain": [
       "True"
      ]
     },
     "execution_count": 134,
     "metadata": {},
     "output_type": "execute_result"
    },
    {
     "data": {
      "text/plain": [
       "<dict_keyiterator at 0x1bf51320ae0>"
      ]
     },
     "execution_count": 134,
     "metadata": {},
     "output_type": "execute_result"
    },
    {
     "data": {
      "text/plain": [
       "<dict_keyiterator at 0x1bf51320130>"
      ]
     },
     "execution_count": 134,
     "metadata": {},
     "output_type": "execute_result"
    },
    {
     "data": {
      "text/plain": [
       "{'two': 22, 'one': 1, 'three': 3}"
      ]
     },
     "execution_count": 134,
     "metadata": {},
     "output_type": "execute_result"
    }
   ],
   "source": [
    "d['two'] = 22\n",
    "d\n",
    "\n",
    "'twe' in d\n",
    "\n",
    "'twe' not in d\n",
    "\n",
    "iter(d)\n",
    "iter(d.keys())\n",
    "\n",
    "d.copy()"
   ]
  },
  {
   "cell_type": "markdown",
   "id": "9f5f9941-35d9-4697-8a26-925b7a462c9f",
   "metadata": {},
   "source": [
    "- *classmethod* `fromkeys`(*iterable*[, *value*])\n",
    "\n",
    "  Create a new dictionary with keys from *iterable* and values set to *value*.[`fromkeys()`](https://docs.python.org/3/library/stdtypes.html#dict.fromkeys) is a class method that returns a new dictionary. *value* defaults to `None`. All of the values refer to just a single instance, so it generally doesn’t make sense for *value* to be a mutable object such as an empty list. To get distinct values, use a [dict comprehension](https://docs.python.org/3/reference/expressions.html#dict) instead.\n",
    "\n",
    "- `get`(*key*[, *default*])\n",
    "\n",
    "  Return the value for *key* if *key* is in the dictionary, else *default*. If *default* is not given, it defaults to `None`, so that this method never raises a [`KeyError`](https://docs.python.org/3/library/exceptions.html#KeyError).\n",
    "\n",
    "- `items`()\n",
    "\n",
    "  Return a new view of the dictionary’s items (`(key, value)` pairs). See the [documentation of view objects](https://docs.python.org/3/library/stdtypes.html#dict-views).\n",
    "\n",
    "- `keys`()\n",
    "\n",
    "  Return a new view of the dictionary’s keys. See the [documentation of view objects](https://docs.python.org/3/library/stdtypes.html#dict-views).\n",
    "\n",
    "- `pop`(*key*[, *default*])\n",
    "\n",
    "  If *key* is in the dictionary, remove it and return its value, else return *default*. If *default* is not given and *key* is not in the dictionary, a [`KeyError`](https://docs.python.org/3/library/exceptions.html#KeyError) is raised.\n",
    "\n",
    "> - *classmethod* `fromkeys`(*iterable*[, *value*])\n",
    ">\n",
    ">   创建一个新的字典，键来自*iterable*，值设置为*value*。[`fromkeys()`](https://docs.python.org/3/library/stdtypes.html#dict.fromkeys)是一个类方法，返回一个新字典。*value*默认为`None`。所有的值都只指一个实例，所以一般来说，*value*是一个可变的对象，如一个空列表，是没有意义的。要获得不同的值，请使用[dict comprehension](https://docs.python.org/3/reference/expressions.html#dict)代替。\n",
    ">\n",
    "> - `get`(*key*[, *default*])\n",
    ">\n",
    ">   如果*key*在字典中，返回*key*的值，否则返回*default*。如果没有给*default*，则默认为 `None`，这样这个方法就不会引发[`KeyError`](https://docs.python.org/3/library/exceptions.html#KeyError)。\n",
    ">\n",
    "> - `items`()\n",
    ">\n",
    ">   返回一个新的字典项目的视图（`(key, value)`对）。参见 [视图对象的文档](https://docs.python.org/3/library/stdtypes.html#dict-views)。\n",
    ">\n",
    "> - `keys`()\n",
    ">\n",
    ">   返回一个字典的键的新视图。参见 [视图对象的文档](https://docs.python.org/3/library/stdtypes.html#dict-views)。\n",
    ">\n",
    "> - `pop`(*key*[, *default*])\n",
    ">\n",
    ">   如果 *key* 在字典中，把它移走并返回它的值，否则返回 *default*。如果没有给出*default*，并且*key*不在字典中，就会产生一个[`KeyError`](https://docs.python.org/3/library/exceptions.html#KeyError)。"
   ]
  },
  {
   "cell_type": "code",
   "execution_count": 135,
   "id": "b063f5e5-d66f-4ddb-9de0-b702ce2f8f06",
   "metadata": {},
   "outputs": [
    {
     "data": {
      "text/plain": [
       "{'s': 1, 't': 1, 'r': 1, 'i': 1, 'n': 1, 'g': 1}"
      ]
     },
     "execution_count": 135,
     "metadata": {},
     "output_type": "execute_result"
    }
   ],
   "source": [
    "d = ['s', 't', 'r', 'i', 'n', 'g']\n",
    "e = 1\n",
    "\n",
    "Dic = dict().fromkeys(d, e)\n",
    "Dic"
   ]
  },
  {
   "cell_type": "code",
   "execution_count": 136,
   "id": "67553749-fcd2-44e6-bf41-d3c80f353cba",
   "metadata": {},
   "outputs": [
    {
     "data": {
      "text/plain": [
       "{0: 0, 1: 1, 2: 4, 3: 9, 4: 16, 5: 25, 6: 36, 7: 49, 8: 64, 9: 81}"
      ]
     },
     "execution_count": 136,
     "metadata": {},
     "output_type": "execute_result"
    },
    {
     "data": {
      "text/plain": [
       "4"
      ]
     },
     "execution_count": 136,
     "metadata": {},
     "output_type": "execute_result"
    },
    {
     "data": {
      "text/plain": [
       "dict_items([(0, 0), (1, 1), (2, 4), (3, 9), (4, 16), (5, 25), (6, 36), (7, 49), (8, 64), (9, 81)])"
      ]
     },
     "execution_count": 136,
     "metadata": {},
     "output_type": "execute_result"
    },
    {
     "data": {
      "text/plain": [
       "dict_keys([0, 1, 2, 3, 4, 5, 6, 7, 8, 9])"
      ]
     },
     "execution_count": 136,
     "metadata": {},
     "output_type": "execute_result"
    },
    {
     "data": {
      "text/plain": [
       "0"
      ]
     },
     "execution_count": 136,
     "metadata": {},
     "output_type": "execute_result"
    },
    {
     "data": {
      "text/plain": [
       "{1: 1, 2: 4, 3: 9, 4: 16, 5: 25, 6: 36, 7: 49, 8: 64, 9: 81}"
      ]
     },
     "execution_count": 136,
     "metadata": {},
     "output_type": "execute_result"
    }
   ],
   "source": [
    "d = {x: x ** 2 for x in range(10)}\n",
    "d\n",
    "d.get(2)\n",
    "d.items()\n",
    "d.keys()\n",
    "d.pop(0)\n",
    "d"
   ]
  },
  {
   "cell_type": "markdown",
   "id": "7006c048-4b8d-4198-83b3-17694d4f5e67",
   "metadata": {},
   "source": [
    "- `popitem`()\n",
    "\n",
    "  Remove and return a `(key, value)` pair from the dictionary. Pairs are returned in LIFO order.[`popitem()`](https://docs.python.org/3/library/stdtypes.html#dict.popitem) is useful to destructively iterate over a dictionary, as often used in set algorithms. If the dictionary is empty, calling [`popitem()`](https://docs.python.org/3/library/stdtypes.html#dict.popitem) raises a [`KeyError`](https://docs.python.org/3/library/exceptions.html#KeyError).*Changed in version 3.7:* LIFO order is now guaranteed. In prior versions, [`popitem()`](https://docs.python.org/3/library/stdtypes.html#dict.popitem) would return an arbitrary key/value pair.\n",
    "\n",
    "- `reversed(d)`\n",
    "\n",
    "  Return a reverse iterator over the keys of the dictionary. This is a shortcut for `reversed(d.keys())`.*New in version 3.8.*\n",
    "\n",
    "- `setdefault`(*key*[, *default*])\n",
    "\n",
    "  If *key* is in the dictionary, return its value. If not, insert *key* with a value of *default* and return *default*. *default* defaults to `None`.\n",
    "\n",
    "- `update`([*other*])\n",
    "\n",
    "  Update the dictionary with the key/value pairs from *other*, overwriting existing keys. Return `None`.[`update()`](https://docs.python.org/3/library/stdtypes.html#dict.update) accepts either another dictionary object or an iterable of key/value pairs (as tuples or other iterables of length two). If keyword arguments are specified, the dictionary is then updated with those key/value pairs: `d.update(red=1, blue=2)`.\n",
    "\n",
    "> - `popitem`()\n",
    ">\n",
    ">   从字典中删除并返回一个`(key, value)`对。对子以后进先出顺序返回。[`popitem()`](https://docs.python.org/3/library/stdtypes.html#dict.popitem)对破坏性地迭代一个字典很有用，在集合算法中经常用到。如果字典是空的，调用 [`popitem()`](https://docs.python.org/3/library/stdtypes.html#dict.popitem) 会引发 [`KeyError`](https://docs.python.org/3/library/exceptions.html#KeyError)。*在3.7版本中改变了：* 现在保证了LIFO次序。在以前的版本中，[`popitem()`](https://docs.python.org/3/library/stdtypes.html#dict.popitem)会返回一个任意的键/值对。\n",
    ">\n",
    "> - `reversed(d)`(d)\n",
    ">\n",
    ">   返回一个在字典的键上的反向迭代器。这是`reversed(d.keys())`的快捷方式。*3.8.*版本中的新内容\n",
    ">\n",
    "> - `setdefault`(*key*[, *default*])\n",
    ">\n",
    ">   如果*key*在字典中，返回其值。如果没有，则插入*key*，其值为*default*并返回*default*。*default*默认为 `None`。\n",
    ">\n",
    "> - `update`([*other*])\n",
    ">\n",
    ">   用*other*的键/值对更新字典，覆盖现有的键。返回 `None`。[`update()`](https://docs.python.org/3/library/stdtypes.html#dict.update) 接受另一个字典对象或一个键/值对的迭代器（作为长度为2的图元或其他迭代器）。如果指定了关键字参数，字典就会用这些键/值对进行更新：`d.update(red=1, blue=2)`。"
   ]
  },
  {
   "cell_type": "code",
   "execution_count": 137,
   "id": "17941a6c-ae10-4248-ae60-7115f54bf505",
   "metadata": {},
   "outputs": [
    {
     "data": {
      "text/plain": [
       "(9, 81)"
      ]
     },
     "execution_count": 137,
     "metadata": {},
     "output_type": "execute_result"
    },
    {
     "data": {
      "text/plain": [
       "{1: 1, 2: 4, 3: 9, 4: 16, 5: 25, 6: 36, 7: 49, 8: 64}"
      ]
     },
     "execution_count": 137,
     "metadata": {},
     "output_type": "execute_result"
    }
   ],
   "source": [
    "d.popitem()\n",
    "d"
   ]
  },
  {
   "cell_type": "code",
   "execution_count": 138,
   "id": "50eb8077-9dcc-4faf-af6d-16e3f97913c2",
   "metadata": {},
   "outputs": [
    {
     "name": "stdout",
     "output_type": "stream",
     "text": [
      "<dict_reversekeyiterator object at 0x000001BF512FB880>\n"
     ]
    }
   ],
   "source": [
    "print(reversed(d))"
   ]
  },
  {
   "cell_type": "code",
   "execution_count": 139,
   "id": "9f53a8ce-9dc7-4c38-ba88-7b08a962c93e",
   "metadata": {},
   "outputs": [
    {
     "data": {
      "text/plain": [
       "64"
      ]
     },
     "execution_count": 139,
     "metadata": {},
     "output_type": "execute_result"
    },
    {
     "data": {
      "text/plain": [
       "{1: 1, 2: 4, 3: 9, 4: 16, 5: 25, 6: 36, 7: 49, 8: 64}"
      ]
     },
     "execution_count": 139,
     "metadata": {},
     "output_type": "execute_result"
    },
    {
     "data": {
      "text/plain": [
       "'string'"
      ]
     },
     "execution_count": 139,
     "metadata": {},
     "output_type": "execute_result"
    },
    {
     "data": {
      "text/plain": [
       "{1: 1, 2: 4, 3: 9, 4: 16, 5: 25, 6: 36, 7: 49, 8: 64, 9: 'string'}"
      ]
     },
     "execution_count": 139,
     "metadata": {},
     "output_type": "execute_result"
    }
   ],
   "source": [
    "d.setdefault(8, 'string')\n",
    "d\n",
    "d.setdefault(9, 'string')\n",
    "d"
   ]
  },
  {
   "cell_type": "code",
   "execution_count": 140,
   "id": "e9c8b4d0-5e48-49c8-92e8-c1c01e312893",
   "metadata": {},
   "outputs": [
    {
     "data": {
      "text/plain": [
       "{1: 1,\n",
       " 2: 4,\n",
       " 3: 9,\n",
       " 4: 16,\n",
       " 5: 25,\n",
       " 6: 36,\n",
       " 7: 49,\n",
       " 8: 64,\n",
       " 9: 'string',\n",
       " 'red': 1,\n",
       " 'blue': 2}"
      ]
     },
     "execution_count": 140,
     "metadata": {},
     "output_type": "execute_result"
    }
   ],
   "source": [
    "d.update(red=1, blue=2)\n",
    "d"
   ]
  },
  {
   "cell_type": "markdown",
   "id": "13f90eb8-72ea-4f85-9bf3-2cfc233c6f38",
   "metadata": {},
   "source": [
    "`values`()\n",
    "\n",
    "Return a new view of the dictionary’s values. See the [documentation of view objects](https://docs.python.org/3/library/stdtypes.html#dict-views).\n",
    "\n",
    "An equality comparison between one `dict.values()` view and another will always return `False`. This also applies when comparing `dict.values()` to itself:\n",
    "\n",
    "> `values`()\n",
    ">\n",
    "> 返回一个新的字典的值的视图。参见 [视图对象的文档](https://docs.python.org/3/library/stdtypes.html#dict-views)。\n",
    ">\n",
    "> 一个`dict.values()`视图和另一个视图之间的相等比较将总是返回`False`。这也适用于将`dict.values()`与自身进行比较。"
   ]
  },
  {
   "cell_type": "code",
   "execution_count": 141,
   "id": "4ceed4f8-2c71-4fef-90df-3b739c7cf297",
   "metadata": {},
   "outputs": [
    {
     "data": {
      "text/plain": [
       "False"
      ]
     },
     "execution_count": 141,
     "metadata": {},
     "output_type": "execute_result"
    }
   ],
   "source": [
    "d.values == d.values()"
   ]
  },
  {
   "cell_type": "markdown",
   "id": "3de5573a-037d-497f-9479-8bfd7524745e",
   "metadata": {},
   "source": [
    "- `d | other`\n",
    "\n",
    "  Create a new dictionary with the merged keys and values of *d* and *other*, which must both be dictionaries. The values of *other* take priority when *d* and *other* share keys.*New in version 3.9.*\n",
    "\n",
    "- `d |= other`\n",
    "\n",
    "  Update the dictionary *d* with keys and values from *other*, which may be either a [mapping](https://docs.python.org/3/glossary.html#term-mapping) or an [iterable](https://docs.python.org/3/glossary.html#term-iterable) of key/value pairs. The values of *other* take priority when *d* and *other* share keys. *New in version 3.9.*\n",
    "\n",
    "> - `d | other`\n",
    ">\n",
    ">   用*d*和*other*的合并键和值创建一个新字典，这两个字典必须都是字典。当*d*和*other*共享键时，*other*的值优先。*3.9.*版本中的新内容\n",
    ">\n",
    "> - `d |= other`\n",
    ">\n",
    ">   用来自*other*的键和值更新字典*d*，它可以是一个[mapping](https://docs.python.org/3/glossary.html#term-mapping)或一个键/值对的[iterable](https://docs.python.org/3/glossary.html#term-iterable)。当*d*和*other*共享键时，*other*的值具有优先权。*在3.9.*版本中新增"
   ]
  },
  {
   "cell_type": "code",
   "execution_count": 142,
   "id": "57935a82-d416-47e3-a83f-b66c3800feca",
   "metadata": {},
   "outputs": [
    {
     "data": {
      "text/plain": [
       "{'s': 1, 't': 1, 'r': 1, 'i': 1, 'n': 1, 'g': 1}"
      ]
     },
     "execution_count": 142,
     "metadata": {},
     "output_type": "execute_result"
    },
    {
     "data": {
      "text/plain": [
       "{1: 1,\n",
       " 2: 4,\n",
       " 3: 9,\n",
       " 4: 16,\n",
       " 5: 25,\n",
       " 6: 36,\n",
       " 7: 49,\n",
       " 8: 64,\n",
       " 9: 'string',\n",
       " 'red': 1,\n",
       " 'blue': 2}"
      ]
     },
     "execution_count": 142,
     "metadata": {},
     "output_type": "execute_result"
    }
   ],
   "source": [
    "Dic\n",
    "d"
   ]
  },
  {
   "cell_type": "code",
   "execution_count": 143,
   "id": "49af15a6-f2cd-4b28-835f-a91fc89c6e16",
   "metadata": {},
   "outputs": [
    {
     "data": {
      "text/plain": [
       "{'s': 1,\n",
       " 't': 1,\n",
       " 'r': 1,\n",
       " 'i': 1,\n",
       " 'n': 1,\n",
       " 'g': 1,\n",
       " 1: 1,\n",
       " 2: 4,\n",
       " 3: 9,\n",
       " 4: 16,\n",
       " 5: 25,\n",
       " 6: 36,\n",
       " 7: 49,\n",
       " 8: 64,\n",
       " 9: 'string',\n",
       " 'red': 1,\n",
       " 'blue': 2}"
      ]
     },
     "execution_count": 143,
     "metadata": {},
     "output_type": "execute_result"
    }
   ],
   "source": [
    "Dic | d"
   ]
  },
  {
   "cell_type": "code",
   "execution_count": 144,
   "id": "498e4ad0-0803-49d8-8c5a-b5e0f03a5b9b",
   "metadata": {},
   "outputs": [],
   "source": [
    "# how to use this method\n",
    "Dic |= d"
   ]
  },
  {
   "cell_type": "markdown",
   "id": "df60fd08-1718-4e4b-95ab-8b1b111fe31a",
   "metadata": {},
   "source": [
    "Dictionaries compare equal if and only if they have the same `(key, value)` pairs (regardless of ordering). Order comparisons (‘<’, ‘<=’, ‘>=’, ‘>’) raise [`TypeError`](https://docs.python.org/3/library/exceptions.html#TypeError).\n",
    "\n",
    "Dictionaries preserve insertion order. Note that updating a key does not affect the order. Keys added after deletion are inserted at the end.\n",
    "\n",
    "> 当且仅当字典有相同的`(key, value)` 对时，它们的比较是相等的(不管排序如何)。顺序比较('<', '<=', '>=', '>')引起[`类型错误`](https://docs.python.org/3/library/exceptions.html#TypeError)。\n",
    ">\n",
    "> 字典保留了插入的顺序。注意，更新一个键不会影响顺序。删除后添加的键会在最后插入。"
   ]
  },
  {
   "cell_type": "code",
   "execution_count": 145,
   "id": "9d42c6c4-27c3-49c0-9c64-07267717ec60",
   "metadata": {},
   "outputs": [
    {
     "data": {
      "text/plain": [
       "[1, 2, 3, 4, 5, 6, 7, 8, 9, 'red', 'blue']"
      ]
     },
     "execution_count": 145,
     "metadata": {},
     "output_type": "execute_result"
    }
   ],
   "source": [
    "list(d)"
   ]
  },
  {
   "cell_type": "code",
   "execution_count": 146,
   "id": "cd261866-a485-4ee5-ae07-62d6cf50aa3e",
   "metadata": {},
   "outputs": [
    {
     "data": {
      "text/plain": [
       "[1, 4, 9, 16, 25, 36, 49, 64, 'string', 1, 2]"
      ]
     },
     "execution_count": 146,
     "metadata": {},
     "output_type": "execute_result"
    }
   ],
   "source": [
    "list(d.values())"
   ]
  },
  {
   "cell_type": "code",
   "execution_count": 147,
   "id": "599d7fa6-fc46-4c32-a55a-612d57ede59f",
   "metadata": {},
   "outputs": [
    {
     "data": {
      "text/plain": [
       "{1: 2,\n",
       " 2: 4,\n",
       " 3: 9,\n",
       " 4: 16,\n",
       " 5: 25,\n",
       " 6: 36,\n",
       " 7: 49,\n",
       " 8: 64,\n",
       " 9: 'string',\n",
       " 'red': 1,\n",
       " 'blue': 2}"
      ]
     },
     "execution_count": 147,
     "metadata": {},
     "output_type": "execute_result"
    }
   ],
   "source": [
    "d[1] = 2\n",
    "d"
   ]
  },
  {
   "cell_type": "code",
   "execution_count": 148,
   "id": "bd72e392-0692-430a-a51c-8bd8e3d386af",
   "metadata": {},
   "outputs": [
    {
     "data": {
      "text/plain": [
       "{1: 2,\n",
       " 3: 9,\n",
       " 4: 16,\n",
       " 5: 25,\n",
       " 6: 36,\n",
       " 7: 49,\n",
       " 8: 64,\n",
       " 9: 'string',\n",
       " 'red': 1,\n",
       " 'blue': 2,\n",
       " 2: None}"
      ]
     },
     "execution_count": 148,
     "metadata": {},
     "output_type": "execute_result"
    }
   ],
   "source": [
    "del d[2]\n",
    "d[2] = None\n",
    "d"
   ]
  },
  {
   "cell_type": "markdown",
   "id": "349c2380-163a-4e59-b7b1-2ab3c3e64d9b",
   "metadata": {},
   "source": [
    "*Changed in version 3.7:* Dictionary order is guaranteed to be insertion order. This behavior was an implementation detail of CPython from 3.6.\n",
    "\n",
    "Dictionaries and dictionary views are reversible.\n",
    "\n",
    "> *在3.7版本中改变了：*字典的顺序被保证为插入顺序。这个行为是CPython在3.6版本中的一个实现细节。\n",
    ">\n",
    "> 字典和字典视图是可逆的。"
   ]
  },
  {
   "cell_type": "markdown",
   "id": "234cc7d4-f8af-4213-9374-af7108c5df2f",
   "metadata": {},
   "source": [
    "*Changed in version 3.8:* Dictionaries are now reversible.\n",
    "\n",
    "> *在3.8版中有所改变：* 字典现在是可逆的。"
   ]
  },
  {
   "cell_type": "markdown",
   "id": "7c1dd170-e40f-4720-8eb5-e9b02346847a",
   "metadata": {},
   "source": [
    "**See also:** [`types.MappingProxyType`](https://docs.python.org/3/library/types.html#types.MappingProxyType) can be used to create a read-only view of a [`dict`](https://docs.python.org/3/library/stdtypes.html#dict)."
   ]
  },
  {
   "cell_type": "markdown",
   "id": "6d4fe042-e006-4357-bc09-003e411421ea",
   "metadata": {},
   "source": [
    "### Dictionary view objects"
   ]
  },
  {
   "cell_type": "markdown",
   "id": "fe7d2c56-d9e1-43ce-b5be-656151465af9",
   "metadata": {},
   "source": [
    "The objects returned by [`dict.keys()`](https://docs.python.org/3/library/stdtypes.html#dict.keys), [`dict.values()`](https://docs.python.org/3/library/stdtypes.html#dict.values) and [`dict.items()`](https://docs.python.org/3/library/stdtypes.html#dict.items) are *view objects*. They provide a dynamic view on the dictionary’s entries, which means that when the dictionary changes, the view reflects these changes.\n",
    "\n",
    "Dictionary views can be iterated over to yield their respective data, and support membership tests:\n",
    "\n",
    "> 由 [`dict.keys()`](https://docs.python.org/3/library/stdtypes.html#dict.keys), [`dict.values()`](https://docs.python.org/3/library/stdtypes.html#dict.values) 和 [`dict.items()`](https://docs.python.org/3/library/stdtypes.html#dict.items) 返回的对象是*视图对象*。它们提供了一个关于字典条目的动态视图，这意味着当字典发生变化时，视图会反映这些变化。\n",
    ">\n",
    "> 字典的视图可以被迭代以得到它们各自的数据，并支持成员测试："
   ]
  },
  {
   "cell_type": "markdown",
   "id": "e02a5ce6-8d4f-4200-a87d-0f2abc824b56",
   "metadata": {},
   "source": [
    "- `len(dictview)`\n",
    "\n",
    "  Return the number of entries in the dictionary.\n",
    "\n",
    "- `iter(dictview)`\n",
    "\n",
    "  Return an iterator over the keys, values or items (represented as tuples of `(key, value)`) in the dictionary.Keys and values are iterated over in insertion order. This allows the creation of `(value, key)` pairs using [`zip()`](https://docs.python.org/3/library/functions.html#zip): `pairs = zip(d.values(), d.keys())`. Another way to create the same list is `pairs = [(v, k) for (k, v) in d.items()]`.Iterating views while adding or deleting entries in the dictionary may raise a [`RuntimeError`](https://docs.python.org/3/library/exceptions.html#RuntimeError) or fail to iterate over all entries.*Changed in version 3.7:* Dictionary order is guaranteed to be insertion order.\n",
    "\n",
    "- `x in dictview`\n",
    "\n",
    "  Return `True` if *x* is in the underlying dictionary’s keys, values or items (in the latter case, *x* should be a `(key, value)` tuple).\n",
    "\n",
    "- `reversed(dictview)`\n",
    "\n",
    "  Return a reverse iterator over the keys, values or items of the dictionary. The view will be iterated in reverse order of the insertion.*Changed in version 3.8:* Dictionary views are now reversible.\n",
    "\n",
    "- `dictview.mapping`\n",
    "\n",
    "  Return a [`types.MappingProxyType`](https://docs.python.org/3/library/types.html#types.MappingProxyType) that wraps the original dictionary to which the view refers.*New in version 3.10.*\n",
    "\n",
    "> - `len(dictview)`。\n",
    ">\n",
    ">   返回字典中的条目数。\n",
    ">\n",
    "> - `iter(dictview)`\n",
    ">\n",
    ">   返回字典中的键、值或项目（以`(key, value)`的图元表示）的迭代器。键和值是按插入顺序迭代的。这允许使用[`zip()`](https://docs.python.org/3/library/functions.html#zip)创建`(value, key)`对。`pairs = zip(d.values(), d.key())`。另一种创建相同列表的方法是 `pairs = [(v, k) for (k, v) in d.items()]`。在字典中添加或删除条目时迭代视图可能会引发 [`RuntimeError`](https://docs.python.org/3/library/exceptions.html#RuntimeError) 或无法迭代所有条目。*在3.7版本中改变了：字典顺序被保证为插入顺序*。\n",
    ">\n",
    "> - `x in dictview`\n",
    ">\n",
    ">   如果*x*在底层字典的键、值或项中，返回`True`（在后一种情况下，*x*应该是一个`（key, value）`元组）。\n",
    ">\n",
    "> - `reversed(dictview)`。\n",
    ">\n",
    ">   返回一个在字典的键、值或项上的反向迭代器。视图将按照插入的相反顺序进行迭代。*在3.8版本中改变了：*字典视图现在是可逆的。\n",
    ">\n",
    "> - `dictview.mapping `\n",
    ">\n",
    ">   返回一个[`types.MappingProxyType`](https://docs.python.org/3/library/types.html#types.MappingProxyType)，包裹视图所指向的原始字典。*3.10版本中的新内容*。"
   ]
  },
  {
   "cell_type": "code",
   "execution_count": 152,
   "id": "a34bed6b-e5eb-4b36-ac9f-9b6544309644",
   "metadata": {},
   "outputs": [
    {
     "data": {
      "text/plain": [
       "11"
      ]
     },
     "execution_count": 152,
     "metadata": {},
     "output_type": "execute_result"
    },
    {
     "data": {
      "text/plain": [
       "<dict_itemiterator at 0x1bf4f710400>"
      ]
     },
     "execution_count": 152,
     "metadata": {},
     "output_type": "execute_result"
    }
   ],
   "source": [
    "len(d.keys())\n",
    "iter(d.items())"
   ]
  },
  {
   "cell_type": "markdown",
   "id": "30b0d8a0-fb0a-4ef5-aed4-1d64304ba184",
   "metadata": {},
   "source": [
    "Keys views are set-like since their entries are unique and hashable. If all values are hashable, so that `(key, value)` pairs are unique and hashable, then the items view is also set-like. (Values views are not treated as set-like since the entries are generally not unique.) For set-like views, all of the operations defined for the abstract base class [`collections.abc.Set`](https://docs.python.org/3/library/collections.abc.html#collections.abc.Set) are available (for example, `==`, `<`, or `^`).\n",
    "\n",
    "An example of dictionary view usage:\n",
    "\n",
    "> 键视图是类似于集合的，因为它们的条目是唯一的和可哈希的。如果所有的值都是可散列的，因此`(key, value)`对是唯一的和可散列的，那么项目视图也是类集合的。(值视图不被视为类集，因为条目通常不是唯一的。) 对于类集视图，所有为抽象基类[`collections.abc.Set`](https://docs.python.org/3/library/collections.abc.html#collections.abc.Set)定义的操作都是可用的（例如，`==`，`<`，或`^`）。\n",
    ">\n",
    "> 一个字典视图的使用例子："
   ]
  },
  {
   "cell_type": "code",
   "execution_count": 153,
   "id": "e4b8cbf0-7037-45d5-8580-d6f584824a2c",
   "metadata": {},
   "outputs": [],
   "source": [
    "dishes = {'eggs': 2, 'sausage': 1, 'bacon': 1, 'spam': 500}\n",
    "keys = dishes.keys()\n",
    "values = dishes.values()"
   ]
  },
  {
   "cell_type": "code",
   "execution_count": 154,
   "id": "23cb6dba-64af-4034-ae26-5658849fdd3d",
   "metadata": {},
   "outputs": [
    {
     "name": "stdout",
     "output_type": "stream",
     "text": [
      "504\n"
     ]
    }
   ],
   "source": [
    "# iteration\n",
    "n = 0\n",
    "for val in values:\n",
    "    n += val\n",
    "print(n)"
   ]
  },
  {
   "cell_type": "code",
   "execution_count": 155,
   "id": "53bdf927-cdc8-45f8-973c-8c3ec0e47a0c",
   "metadata": {},
   "outputs": [
    {
     "data": {
      "text/plain": [
       "['eggs', 'sausage', 'bacon', 'spam']"
      ]
     },
     "execution_count": 155,
     "metadata": {},
     "output_type": "execute_result"
    },
    {
     "data": {
      "text/plain": [
       "[2, 1, 1, 500]"
      ]
     },
     "execution_count": 155,
     "metadata": {},
     "output_type": "execute_result"
    }
   ],
   "source": [
    "# keys and values are iterated over in the same order(insertion order)\n",
    "list(keys)\n",
    "list(values)"
   ]
  },
  {
   "cell_type": "code",
   "execution_count": 156,
   "id": "65ae6b52-875c-4a1d-8a64-dccd9388d6af",
   "metadata": {},
   "outputs": [
    {
     "data": {
      "text/plain": [
       "['bacon', 'spam']"
      ]
     },
     "execution_count": 156,
     "metadata": {},
     "output_type": "execute_result"
    }
   ],
   "source": [
    "# view objects are dynamic and reflect dict changes\n",
    "del dishes['eggs']\n",
    "del dishes['sausage']\n",
    "list(keys)"
   ]
  },
  {
   "cell_type": "code",
   "execution_count": 158,
   "id": "09a2353f-74ed-4039-bcf9-5385f8933b89",
   "metadata": {},
   "outputs": [
    {
     "data": {
      "text/plain": [
       "{'bacon'}"
      ]
     },
     "execution_count": 158,
     "metadata": {},
     "output_type": "execute_result"
    },
    {
     "data": {
      "text/plain": [
       "{'bacon', 'juice', 'sausage', 'spam'}"
      ]
     },
     "execution_count": 158,
     "metadata": {},
     "output_type": "execute_result"
    }
   ],
   "source": [
    "# set operation\n",
    "keys & {'eggs', 'bacon', 'salad'}\n",
    "keys ^ {'sausage', 'juice'}"
   ]
  },
  {
   "cell_type": "code",
   "execution_count": 160,
   "id": "ed12d320-411c-4eeb-8872-db3caf413ce2",
   "metadata": {},
   "outputs": [
    {
     "data": {
      "text/plain": [
       "mappingproxy({'bacon': 1, 'spam': 500})"
      ]
     },
     "execution_count": 160,
     "metadata": {},
     "output_type": "execute_result"
    },
    {
     "data": {
      "text/plain": [
       "500"
      ]
     },
     "execution_count": 160,
     "metadata": {},
     "output_type": "execute_result"
    }
   ],
   "source": [
    "# get back a read-only proxy for the original dictionary\n",
    "values.mapping\n",
    "values.mapping['spam']"
   ]
  },
  {
   "cell_type": "markdown",
   "id": "457a7cce-9d81-4cc9-aae9-c5d7a34dbb0e",
   "metadata": {},
   "source": [
    "## Context Manager Types"
   ]
  },
  {
   "cell_type": "markdown",
   "id": "79843ab8-0a02-4eba-978f-02dd6d791f15",
   "metadata": {},
   "source": [
    "Python’s [`with`](https://docs.python.org/3/reference/compound_stmts.html#with) statement supports the concept of a runtime context defined by a context manager. This is implemented using a pair of methods that allow user-defined classes to define a runtime context that is entered before the statement body is executed and exited when the statement ends:\n",
    "\n",
    "> Python 的 [`with`](https://docs.python.org/3/reference/compound_stmts.html#with) 语句支持由一个语境管理器定义的运行时语境的概念。这是用一对方法实现的，允许用户定义的类定义一个运行时语境，该语境在语句主体执行前进入，在语句结束时退出："
   ]
  },
  {
   "cell_type": "markdown",
   "id": "0dbcbadd-f450-4a9c-bdec-8cacd66511a5",
   "metadata": {},
   "source": [
    "- `contextmanager.__enter__`()\n",
    "\n",
    "  Enter the runtime context and return either this object or another object related to the runtime context. The value returned by this method is bound to the identifier in the `as` clause of [`with`](https://docs.python.org/3/reference/compound_stmts.html#with) statements using this context manager.An example of a context manager that returns itself is a [file object](https://docs.python.org/3/glossary.html#term-file-object). File objects return themselves from __enter__() to allow [`open()`](https://docs.python.org/3/library/functions.html#open) to be used as the context expression in a [`with`](https://docs.python.org/3/reference/compound_stmts.html#with) statement.An example of a context manager that returns a related object is the one returned by [`decimal.localcontext()`](https://docs.python.org/3/library/decimal.html#decimal.localcontext). These managers set the active decimal context to a copy of the original decimal context and then return the copy. This allows changes to be made to the current decimal context in the body of the [`with`](https://docs.python.org/3/reference/compound_stmts.html#with) statement without affecting code outside the `with` statement.\n",
    "\n",
    "- `contextmanager.__exit__`(*exc_type*, *exc_val*, *exc_tb*)\n",
    "\n",
    "  Exit the runtime context and return a Boolean flag indicating if any exception that occurred should be suppressed. If an exception occurred while executing the body of the [`with`](https://docs.python.org/3/reference/compound_stmts.html#with) statement, the arguments contain the exception type, value and traceback information. Otherwise, all three arguments are `None`.Returning a true value from this method will cause the [`with`](https://docs.python.org/3/reference/compound_stmts.html#with) statement to suppress the exception and continue execution with the statement immediately following the `with` statement. Otherwise the exception continues propagating after this method has finished executing. Exceptions that occur during execution of this method will replace any exception that occurred in the body of the `with` statement.The exception passed in should never be reraised explicitly - instead, this method should return a false value to indicate that the method completed successfully and does not want to suppress the raised exception. This allows context management code to easily detect whether or not an [`__exit__()`](https://docs.python.org/3/library/stdtypes.html#contextmanager.__exit__) method has actually failed.\n",
    "\n",
    "> - `contextmanager.__enter__`()\n",
    ">\n",
    ">   进入运行时上下文并返回此对象或与运行时语境相关的另一个对象。这个方法返回的值与使用这个语境管理器的 [`with`](https://docs.python.org/3/reference/compound_stmts.html#with) 语句的`as`子句中的标识符绑定。一个返回自身的语境管理器的例子是一个 [文件对象](https://docs.python.org/3/glossary.html#term-file-object)。文件对象从__enter__()中返回自己，以允许[`open()`](https://docs.python.org/3/library/functions.html#open)被用作[`with`](https://docs.python.org/3/reference/compound_stmts.html#with)语句中的语境表达式。一个返回相关对象的语境管理器的例子是[`decimal.localcontext()`](https://docs.python.org/3/library/decimal.html#decimal.localcontext)所返回的对象。这些管理器将活动的十进制语境设置为原始十进制语境的一个副本，然后返回该副本。这允许在[`with`](https://docs.python.org/3/reference/compound_stmts.html#with)语句的正文中对当前的小数语境进行修改，而不影响`with`语句以外的代码。\n",
    ">\n",
    "> - `contextmanager.__exit__`(*exc_type*, *exc_val*, *exc_tb*)\n",
    ">\n",
    ">   退出运行时语境，并返回一个布尔标志，表明是否应该抑制所发生的任何异常。如果在执行[`with`](https://docs.python.org/3/reference/compound_stmts.html#with)语句的主体时发生了异常，则参数包含异常类型、值和回溯信息。否则，这三个参数都是`None`。从这个方法返回一个真值将导致[`with`](https://docs.python.org/3/reference/compound_stmts.html#with)语句抑制异常，并继续执行紧随`with`语句的语句。否则，在这个方法执行完毕后，异常会继续传播。在这个方法执行过程中发生的异常将取代在`with`语句主体中发生的任何异常。传递进来的异常不应该被明确地重新引发--相反，这个方法应该返回一个假值，以表明这个方法成功完成，并且不想抑制引发的异常。这使得上下文管理代码可以轻松地检测出[`__exit__()`](https://docs.python.org/3/library/stdtypes.html#contextmanager.__exit__)方法是否真的失败了。"
   ]
  },
  {
   "cell_type": "markdown",
   "id": "87525ee5-b3ba-40e0-9916-c26b6abf1fcd",
   "metadata": {},
   "source": [
    "Python defines several context managers to support easy thread synchronisation, prompt closure of files or other objects, and simpler manipulation of the active decimal arithmetic context. The specific types are not treated specially beyond their implementation of the context management protocol. See the [`contextlib`](https://docs.python.org/3/library/contextlib.html#module-contextlib) module for some examples.\n",
    "\n",
    "Python’s [generator](https://docs.python.org/3/glossary.html#term-generator)s and the [`contextlib.contextmanager`](https://docs.python.org/3/library/contextlib.html#contextlib.contextmanager) decorator provide a convenient way to implement these protocols. If a generator function is decorated with the [`contextlib.contextmanager`](https://docs.python.org/3/library/contextlib.html#contextlib.contextmanager) decorator, it will return a context manager implementing the necessary [`__enter__()`](https://docs.python.org/3/library/stdtypes.html#contextmanager.__enter__) and [`__exit__()`](https://docs.python.org/3/library/stdtypes.html#contextmanager.__exit__) methods, rather than the iterator produced by an undecorated generator function.\n",
    "\n",
    "Note that there is no specific slot for any of these methods in the type structure for Python objects in the Python/C API. Extension types wanting to define these methods must provide them as a normal Python accessible method. Compared to the overhead of setting up the runtime context, the overhead of a single class dictionary lookup is negligible.\n",
    "\n",
    "> Python 定义了几个语境管理程序，以支持简单的线程同步、文件或其它对象的及时关闭，以及对活动的十进制算术语境进行更简单的操作。除了对语境管理协议的实现外，对具体的类型不作特别处理。参见 [`contextlib`](https://docs.python.org/3/library/contextlib.html#module-contextlib) 模块的一些例子。\n",
    ">\n",
    "> Python 的 [generator](https://docs.python.org/3/glossary.html#term-generator)s 和 [`contextlib.contextmanager`](https://docs.python.org/3/library/contextlib.html#contextlib.contextmanager) decorator 提供了实现这些协议的方便方法。如果一个生成器函数用 [`contextlib.contextmanager`](https://docs.python.org/3/library/contextlib.html#contextlib.contextmanager) 装饰器来装饰，它将返回一个实现必要的 [`__enter__()`](https://docs.python.org/3/library/stdtypes.html#contextmanager.__enter__) 和 [`__exit__()`](https://docs.python.org/3/library/stdtypes.html#contextmanager.__exit__) 方法的语境管理器，而不是由没有装饰的生成器函数产生的迭代器。\n",
    ">\n",
    "> 注意，在Python/C API中的Python对象的类型结构中，没有为这些方法的任何一个专门的槽。想要定义这些方法的扩展类型必须把它们作为普通的 Python 可访问方法提供。与设置运行时语境的开销相比，单个类字典查询的开销可以忽略不计。"
   ]
  },
  {
   "cell_type": "markdown",
   "id": "120b7910-7f53-4255-a8ca-1c7794498290",
   "metadata": {},
   "source": [
    "## Type Annotation Types — [Generic Alias](https://docs.python.org/3/library/stdtypes.html#types-genericalias), [Union](https://docs.python.org/3/library/stdtypes.html#types-union)"
   ]
  },
  {
   "cell_type": "markdown",
   "id": "c7f9c8d9-d620-470d-82ef-ca654a169ecc",
   "metadata": {},
   "source": [
    "The core built-in types for [type annotations](https://docs.python.org/3/glossary.html#term-annotation) are [Generic Alias](https://docs.python.org/3/library/stdtypes.html#types-genericalias) and [Union](https://docs.python.org/3/library/stdtypes.html#types-union).\n",
    "\n",
    "> [类型注释](https://docs.python.org/3/glossary.html#term-annotation)的核心内置类型是[通用别名](https://docs.python.org/3/library/stdtypes.html#types-genericalias)和[联合](https://docs.python.org/3/library/stdtypes.html#types-union)。"
   ]
  },
  {
   "cell_type": "markdown",
   "id": "56610424-08d9-42ab-8704-e8274755c5b6",
   "metadata": {},
   "source": [
    "### Generic Alias Type"
   ]
  },
  {
   "cell_type": "markdown",
   "id": "91105f0f-4ba8-4de8-a008-ac9174017016",
   "metadata": {},
   "source": [
    "`GenericAlias` objects are generally created by [subscripting](https://docs.python.org/3/reference/expressions.html#subscriptions) a class. They are most often used with [container classes](https://docs.python.org/3/reference/datamodel.html#sequence-types), such as [`list`](https://docs.python.org/3/library/stdtypes.html#list) or [`dict`](https://docs.python.org/3/library/stdtypes.html#dict). For example, `list[int]` is a `GenericAlias` object created by subscripting the `list` class with the argument [`int`](https://docs.python.org/3/library/functions.html#int). `GenericAlias` objects are intended primarily for use with [type annotations](https://docs.python.org/3/glossary.html#term-annotation).\n",
    "\n",
    "> `GenericAlias`对象通常是通过[下标](https://docs.python.org/3/reference/expressions.html#subscriptions)一个类来创建。它们最常与[容器类](https://docs.python.org/3/reference/datamodel.html#sequence-types)一起使用，例如[`list`](https://docs.python.org/3/library/stdtypes.html#list)或[`dict`](https://docs.python.org/3/library/stdtypes.html#dict)。例如，`list[int]`是一个`GenericAlias`对象，通过对`list`类的下标和参数[`int`](https://docs.python.org/3/library/functions.html#int)创建。`GenericAlias`对象主要用于[类型注释](https://docs.python.org/3/glossary.html#term-annotation)。"
   ]
  },
  {
   "cell_type": "markdown",
   "id": "ae477bc9-877d-4d77-9c52-1c4a960cf830",
   "metadata": {},
   "source": [
    "**Note:** It is generally only possible to subscript a class if the class implements the special method [`__class_getitem__()`](https://docs.python.org/3/reference/datamodel.html#object.__class_getitem__).\n",
    "\n",
    "> **注意：**一般来说，只有当类实现了特殊的方法[`__class_getitem__()`](https://docs.python.org/3/reference/datamodel.html#object.__class_getitem__)，才有可能对类进行下标。"
   ]
  },
  {
   "cell_type": "markdown",
   "id": "d59967c4-bfb0-4d46-92db-3f86c1edb002",
   "metadata": {},
   "source": [
    "A `GenericAlias` object acts as a proxy for a [generic type](https://docs.python.org/3/glossary.html#term-generic-type), implementing *parameterized generics*.\n",
    "\n",
    "For a container class, the argument(s) supplied to a [subscription](https://docs.python.org/3/reference/expressions.html#subscriptions) of the class may indicate the type(s) of the elements an object contains. For example, `set[bytes]` can be used in type annotations to signify a [`set`](https://docs.python.org/3/library/stdtypes.html#set) in which all the elements are of type [`bytes`](https://docs.python.org/3/library/stdtypes.html#bytes).\n",
    "\n",
    "For a class which defines [`__class_getitem__()`](https://docs.python.org/3/reference/datamodel.html#object.__class_getitem__) but is not a container, the argument(s) supplied to a subscription of the class will often indicate the return type(s) of one or more methods defined on an object. For example, [`regular expressions`](https://docs.python.org/3/library/re.html#module-re) can be used on both the [`str`](https://docs.python.org/3/library/stdtypes.html#str) data type and the [`bytes`](https://docs.python.org/3/library/stdtypes.html#bytes) data type:\n",
    "\n",
    "- If `x = re.search('foo', 'foo')`, `x` will be a [re.Match](https://docs.python.org/3/library/re.html#match-objects) object where the return values of `x.group(0)` and `x[0]` will both be of type [`str`](https://docs.python.org/3/library/stdtypes.html#str). We can represent this kind of object in type annotations with the `GenericAlias` `re.Match[str]`.\n",
    "- If `y = re.search(b'bar', b'bar')`, (note the `b` for [`bytes`](https://docs.python.org/3/library/stdtypes.html#bytes)), `y` will also be an instance of `re.Match`, but the return values of `y.group(0)` and `y[0]` will both be of type [`bytes`](https://docs.python.org/3/library/stdtypes.html#bytes). In type annotations, we would represent this variety of [re.Match](https://docs.python.org/3/library/re.html#match-objects) objects with `re.Match[bytes]`.\n",
    "\n",
    "`GenericAlias` objects are instances of the class [`types.GenericAlias`](https://docs.python.org/3/library/types.html#types.GenericAlias), which can also be used to create `GenericAlias` objects directly.\n",
    "\n",
    "> 一个 `GenericAlias` 对象作为一个[泛型](https://docs.python.org/3/glossary.html#term-generic-type)的代理，实现*参数化的泛型*。\n",
    ">\n",
    "> 对于一个容器类，提供给该类的[下标](https://docs.python.org/3/reference/expressions.html#subscriptions)的参数可以表示一个对象所包含的元素的类型（s）。例如，`set[bytes]`可以在类型注释中用来表示一个[`set`](https://docs.python.org/3/library/stdtypes.html#set)，其中所有的元素都是[`bytes`](https://docs.python.org/3/library/stdtypes.html#bytes)类型。\n",
    ">\n",
    "> 对于一个定义了[`__class_getitem__()`](https://docs.python.org/3/reference/datamodel.html#object.__class_getitem__)但不是一个容器的类，提供给该类的订阅的参数通常表示一个或多个定义在一个对象上的方法的返回类型。例如，[`regular expressions`](https://docs.python.org/3/library/re.html#module-re)可以用于[`str`](https://docs.python.org/3/library/stdtypes.html#str)数据类型和[`bytes`](https://docs.python.org/3/library/stdtypes.html#bytes) 数据类型。\n",
    ">\n",
    "> - 如果`x = re.search('foo', 'foo')`，`x`将是一个[re.Match](https://docs.python.org/3/library/re.html#match-objects)对象，其中`x.group(0)`和`x[0]`的返回值都将是[`str`](https://docs.python.org/3/library/stdtypes.html#str)类型。我们可以在类型注释中用`GenericAlias``re.Match[str]`表示这种对象。\n",
    "> - 如果`y = re.search(b'bar', b'bar')`, (注意`b`代表[`bytes`](https://docs.python.org/3/library/stdtypes.html#bytes)), `y`也将是`re.Match`的一个实例，但是`y.group(0)`和`y[0]`的返回值都将是[`bytes`](https://docs.python.org/3/library/stdtypes.html#bytes)类型。在类型注释中，我们将用`re.Match[bytes]`来表示这各种[re.Match](https://docs.python.org/3/library/re.html#match-objects)对象。\n",
    ">\n",
    "> `GenericAlias`对象是[`types.GenericAlias`](https://docs.python.org/3/library/types.html#types.GenericAlias)类的实例，它也可以用来直接创建`GenericAlias`对象。"
   ]
  },
  {
   "cell_type": "markdown",
   "id": "805e9b3c-fe51-451d-a655-9a6fd4c035e5",
   "metadata": {},
   "source": [
    "……"
   ]
  },
  {
   "cell_type": "markdown",
   "id": "6f6f6789-e4a1-43f5-aad3-462f4fa02f93",
   "metadata": {},
   "source": [
    "## Other Built-in Types"
   ]
  },
  {
   "cell_type": "markdown",
   "id": "a3cc9a48-4fc1-4f8f-866f-9ac18f75cc4d",
   "metadata": {},
   "source": [
    "The interpreter supports several other kinds of objects. Most of these support only one or two operations.\n",
    "\n",
    "> 解释器支持几种其他类型的对象。其中大多数只支持一个或两个操作。"
   ]
  },
  {
   "cell_type": "markdown",
   "id": "16625fec-daf4-4a50-bfb4-623df0ffab87",
   "metadata": {},
   "source": [
    "### Modules"
   ]
  },
  {
   "cell_type": "markdown",
   "id": "6f4b1156-7e8d-4567-b633-71ae311051ae",
   "metadata": {},
   "source": [
    "The only special operation on a module is attribute access: `m.name`, where *m* is a module and *name* accesses a name defined in *m*’s symbol table. Module attributes can be assigned to. (Note that the [`import`](https://docs.python.org/3/reference/simple_stmts.html#import) statement is not, strictly speaking, an operation on a module object; `import foo` does not require a module object named *foo* to exist, rather it requires an (external) *definition* for a module named *foo* somewhere.)\n",
    "\n",
    "A special attribute of every module is [`__dict__`](https://docs.python.org/3/library/stdtypes.html#object.__dict__). This is the dictionary containing the module’s symbol table. Modifying this dictionary will actually change the module’s symbol table, but direct assignment to the [`__dict__`](https://docs.python.org/3/library/stdtypes.html#object.__dict__) attribute is not possible (you can write `m.__dict__['a'] = 1`, which defines `m.a` to be `1`, but you can’t write `m.__dict__ = {}`). Modifying [`__dict__`](https://docs.python.org/3/library/stdtypes.html#object.__dict__) directly is not recommended.\n",
    "\n",
    "Modules built into the interpreter are written like this: `<module 'sys' (built-in)>`. If loaded from a file, they are written as `<module 'os' from '/usr/local/lib/pythonX.Y/os.pyc'>`.\n",
    "\n",
    "> 对一个模块的唯一特殊操作是属性访问：`m.name`，其中*m*是一个模块，*name*访问*m*的符号表中定义的名称。模块的属性可以被分配到。(注意 [`import`](https://docs.python.org/3/reference/simple_stmts.html#import) 语句，严格来说，不是对模块对象的操作；`import foo`不需要一个名为*foo*的模块对象存在，相反，它需要一个名为*foo*的模块的（外部）*定义*的地方。)\n",
    ">\n",
    "> 每个模块的一个特殊属性是 [`__dict__`](https://docs.python.org/3/library/stdtypes.html#object.__dict__)。这是包含模块的符号表的字典。修改这个字典实际上会改变模块的符号表，但直接赋值给 [`__dict__`](https://docs.python.org/3/library/stdtypes.html#object.__dict__) 属性是不可能的 (你可以写 `m.__dict__['a'] = 1`，它定义 `m.a` 为 `1`，但你不能写 `m.__dict__ = {}`)。不建议直接修改 [`__dict__`](https://docs.python.org/3/library/stdtypes.html#object.__dict__) 。\n",
    ">\n",
    "> 内置在解释器中的模块是这样写的。`<module 'sys'(built-in)>`。如果从文件中加载，则写成`<module 'os' from '/usr/local/lib/pythonX.Y/os.pyc'>`。\n"
   ]
  },
  {
   "cell_type": "markdown",
   "id": "3398c636-02db-4672-af34-40888c0876ae",
   "metadata": {},
   "source": [
    "### Classes and Class Instances"
   ]
  },
  {
   "cell_type": "markdown",
   "id": "e489d636-f93c-4ffe-be33-f14918d9ceac",
   "metadata": {},
   "source": [
    "See [Objects, values and types](https://docs.python.org/3/reference/datamodel.html#objects) and [Class definitions](https://docs.python.org/3/reference/compound_stmts.html#class) for these."
   ]
  },
  {
   "cell_type": "markdown",
   "id": "1cdd7b4b-21f9-46d3-b0fd-6e033dbca149",
   "metadata": {},
   "source": [
    "### Functions"
   ]
  },
  {
   "cell_type": "markdown",
   "id": "a78c4a47-a0ad-4196-b145-021174d5b80c",
   "metadata": {},
   "source": [
    "Function objects are created by function definitions. The only operation on a function object is to call it: `func(argument-list)`.\n",
    "\n",
    "There are really two flavors of function objects: built-in functions and user-defined functions. Both support the same operation (to call the function), but the implementation is different, hence the different object types.\n",
    "\n",
    "See [Function definitions](https://docs.python.org/3/reference/compound_stmts.html#function) for more information.\n",
    "\n",
    "> 函数对象是由函数定义创建的。对一个函数对象的唯一操作是调用它：`func(argument-list)`。\n",
    ">\n",
    "> 实际上有两种类型的函数对象：内置函数和用户定义的函数。两者都支持相同的操作（调用函数），但实现方式不同，因此有不同的对象类型。\n",
    ">\n",
    "> 更多信息见[函数定义](https://docs.python.org/3/reference/compound_stmts.html#function)。"
   ]
  },
  {
   "cell_type": "markdown",
   "id": "0ae2b7e2-68bc-43fc-93fd-3f1c3bdf2c1b",
   "metadata": {},
   "source": [
    "### Methods"
   ]
  },
  {
   "cell_type": "markdown",
   "id": "9b5c7772-c4cc-49f9-95d7-deb1fdb9cca9",
   "metadata": {},
   "source": [
    "Methods are functions that are called using the attribute notation. There are two flavors: built-in methods (such as `append()` on lists) and class instance methods. Built-in methods are described with the types that support them.\n",
    "\n",
    "If you access a method (a function defined in a class namespace) through an instance, you get a special object: a *bound method* (also called *instance method*) object. When called, it will add the `self` argument to the argument list. Bound methods have two special read-only attributes: `m.__self__` is the object on which the method operates, and `m.__func__` is the function implementing the method. Calling `m(arg-1, arg-2, ..., arg-n)` is completely equivalent to calling `m.__func__(m.__self__, arg-1, arg-2, ..., arg-n)`.\n",
    "\n",
    "Like function objects, bound method objects support getting arbitrary attributes. However, since method attributes are actually stored on the underlying function object (`meth.__func__`), setting method attributes on bound methods is disallowed. Attempting to set an attribute on a method results in an [`AttributeError`](https://docs.python.org/3/library/exceptions.html#AttributeError) being raised. In order to set a method attribute, you need to explicitly set it on the underlying function object:\n",
    "\n",
    "> 方法是使用属性符号调用的函数。有两种类型：内置方法（如列表上的`append()`）和类实例方法。内置方法与支持它们的类型一起被描述。\n",
    ">\n",
    "> 如果你通过实例访问一个方法（定义在类命名空间的函数），你会得到一个特殊的对象：一个*绑定方法*（也叫*实例方法*）对象。当被调用时，它将把`self`参数添加到参数列表中。绑定方法有两个特殊的只读属性。`m.__self__`是方法操作的对象，`m.__func__`是实现该方法的函数。调用`m(arg-1, arg-2, ..., arg-n)`完全等同于调用`m.__func__(m.__self__, arg-1, arg-2, ..., arg-n)`。\n",
    ">\n",
    "> 像函数对象一样，绑定的方法对象支持获得任意的属性。然而，由于方法属性实际上存储在底层函数对象 (`meth.__func__`)，在绑定方法上设置方法属性是不允许的。试图在一个方法上设置一个属性会导致一个[`AttributeError`](https://docs.python.org/3/library/exceptions.html#AttributeError)被引发。为了设置一个方法的属性，你需要在底层函数对象上明确地设置它："
   ]
  },
  {
   "cell_type": "code",
   "execution_count": 4,
   "id": "abbfca02-4752-46e5-afea-98d2a3d84805",
   "metadata": {},
   "outputs": [
    {
     "data": {
      "text/plain": [
       "'my name is method'"
      ]
     },
     "execution_count": 4,
     "metadata": {},
     "output_type": "execute_result"
    }
   ],
   "source": [
    "class C:\n",
    "    def method(self):\n",
    "        pass\n",
    "    \n",
    "c = C()\n",
    "\n",
    "# can't set on the method\n",
    "# c.method.whoami =  'my name is method'  \n",
    "\n",
    "c.method.__func__.whoami = 'my name is method'\n",
    "c.method.whoami"
   ]
  },
  {
   "cell_type": "markdown",
   "id": "f43574f7-505c-44bf-a382-89bf60a2b4f1",
   "metadata": {},
   "source": [
    "See [The standard type hierarchy](https://docs.python.org/3/reference/datamodel.html#types) for more information."
   ]
  },
  {
   "cell_type": "markdown",
   "id": "98fe49b1-5c3f-4300-b757-9232e8676773",
   "metadata": {},
   "source": [
    "### Code Objects"
   ]
  },
  {
   "cell_type": "markdown",
   "id": "5f7b61cb-868c-4feb-b1d2-83933d6356b3",
   "metadata": {},
   "source": [
    "Code objects are used by the implementation to represent “pseudo-compiled” executable Python code such as a function body. They differ from function objects because they don’t contain a reference to their global execution environment. Code objects are returned by the built-in [`compile()`](https://docs.python.org/3/library/functions.html#compile) function and can be extracted from function objects through their `__code__` attribute. See also the [`code`](https://docs.python.org/3/library/code.html#module-code) module.\n",
    "\n",
    "Accessing `__code__` raises an [auditing event](https://docs.python.org/3/library/sys.html#auditing) `object.__getattr__` with arguments `obj` and `\"__code__\"`.\n",
    "\n",
    "A code object can be executed or evaluated by passing it (instead of a source string) to the [`exec()`](https://docs.python.org/3/library/functions.html#exec) or [`eval()`](https://docs.python.org/3/library/functions.html#eval) built-in functions.\n",
    "\n",
    "See [The standard type hierarchy](https://docs.python.org/3/reference/datamodel.html#types) for more information.\n",
    "\n",
    "> 代码对象被实现用来表示 \"伪编译的 \"可执行 Python 代码，如函数体。它们与函数对象不同，因为它们不包含对其全局执行环境的引用。代码对象由内置的 [`compile()`](https://docs.python.org/3/library/functions.html#compile) 函数返回，并且可以通过其`__code__`属性从函数对象中提取。参见[`code`](https://docs.python.org/3/library/code.html#module-code)模块。\n",
    ">\n",
    "> 访问`__code__`会引发一个[审计事件](https://docs.python.org/3/library/sys.html#auditing) `object.__getattr__`，参数为`obj`和`\"__code__\"`。\n",
    ">\n",
    "> 一个代码对象可以通过把它（而不是一个源字符串）传递给 [`exec()`](https://docs.python.org/3/library/functions.html#exec) 或 [`eval()`](https://docs.python.org/3/library/functions.html#eval) 内置函数而被执行或评估。\n",
    ">\n",
    "> 更多信息请参见[标准类型层次结构](https://docs.python.org/3/reference/datamodel.html#types)。"
   ]
  },
  {
   "cell_type": "markdown",
   "id": "31e52178-492f-42f2-973a-cc5f753f24b5",
   "metadata": {},
   "source": [
    "### Type Objects"
   ]
  },
  {
   "cell_type": "markdown",
   "id": "dea20ce7-baec-4f1b-b74e-04046694244d",
   "metadata": {},
   "source": [
    "Type objects represent the various object types. An object’s type is accessed by the built-in function [`type()`](https://docs.python.org/3/library/functions.html#type). There are no special operations on types. The standard module [`types`](https://docs.python.org/3/library/types.html#module-types) defines names for all standard built-in types.\n",
    "\n",
    "Types are written like this: `<class 'int'>`.\n",
    "\n",
    "> 类型对象代表各种对象类型。一个对象的类型可以通过内置函数[`type()`](https://docs.python.org/3/library/functions.html#type)访问。对类型没有特殊的操作。标准模块[`types`](https://docs.python.org/3/library/types.html#module-types)定义了所有标准内置类型的名称。\n",
    ">\n",
    "> 类型的写法是这样的。`<class 'int'>`。"
   ]
  },
  {
   "cell_type": "markdown",
   "id": "f8f2af12-35e4-4121-b643-8374aeccface",
   "metadata": {},
   "source": [
    "### The Null Object"
   ]
  },
  {
   "cell_type": "markdown",
   "id": "3f98128e-e60b-4d72-a4cb-d8905b331e05",
   "metadata": {},
   "source": [
    "This object is returned by functions that don’t explicitly return a value. It supports no special operations. There is exactly one null object, named `None` (a built-in name). `type(None)()` produces the same singleton.\n",
    "\n",
    "It is written as `None`.\n",
    "\n",
    "> 这个对象由没有明确返回值的函数返回。它不支持任何特殊操作。只有一个空对象，名为`None`（一个内置的名字）。`type(None)()`产生同样的单子。\n",
    ">\n",
    "> 它被写成`None`。"
   ]
  },
  {
   "cell_type": "code",
   "execution_count": 8,
   "id": "ee50ee83-6d7b-421e-85bf-9e613042040c",
   "metadata": {},
   "outputs": [
    {
     "name": "stdout",
     "output_type": "stream",
     "text": [
      "None\n"
     ]
    }
   ],
   "source": [
    "print(type(None)())"
   ]
  },
  {
   "cell_type": "markdown",
   "id": "c693fe66-7038-4515-a470-46d412d543b7",
   "metadata": {},
   "source": [
    "### The Ellipsis Object"
   ]
  },
  {
   "cell_type": "markdown",
   "id": "b73bcbed-af10-4c18-999f-1f81873641e2",
   "metadata": {},
   "source": [
    "This object is commonly used by slicing (see [Slicings](https://docs.python.org/3/reference/expressions.html#slicings)). It supports no special operations. There is exactly one ellipsis object, named [`Ellipsis`](https://docs.python.org/3/library/constants.html#Ellipsis) (a built-in name). `type(Ellipsis)()` produces the [`Ellipsis`](https://docs.python.org/3/library/constants.html#Ellipsis) singleton.\n",
    "\n",
    "It is written as `Ellipsis` or `...`.\n",
    "\n",
    "> 这个对象通常被切片使用（见[Slicings](https://docs.python.org/3/reference/expressions.html#slicings)）。它不支持任何特殊操作。只有一个省略号对象，名为[`Ellipsis`](https://docs.python.org/3/library/constants.html#Ellipsis)（一个内置名称）。`type(Ellipsis)()`产生[`Ellipsis`](https://docs.python.org/3/library/constants.html#Ellipsis)单子。\n",
    ">\n",
    "> 它被写成`Ellipsis`或`...`。"
   ]
  },
  {
   "cell_type": "code",
   "execution_count": 9,
   "id": "d8501b4a-6c5e-4353-b526-61a84f66937f",
   "metadata": {},
   "outputs": [
    {
     "data": {
      "text/plain": [
       "Ellipsis"
      ]
     },
     "execution_count": 9,
     "metadata": {},
     "output_type": "execute_result"
    }
   ],
   "source": [
    "type(Ellipsis)()"
   ]
  },
  {
   "cell_type": "markdown",
   "id": "99185334-baf1-46b7-affb-101f2a85c590",
   "metadata": {},
   "source": [
    "### The NotImplemented Object"
   ]
  },
  {
   "cell_type": "markdown",
   "id": "0a29aa10-1514-40c2-bad5-961ce5e306fb",
   "metadata": {},
   "source": [
    "This object is returned from comparisons and binary operations when they are asked to operate on types they don’t support. See [Comparisons](https://docs.python.org/3/reference/expressions.html#comparisons) for more information. There is exactly one `NotImplemented` object. `type(NotImplemented)()` produces the singleton instance.\n",
    "\n",
    "It is written as `NotImplemented`.\n",
    "\n",
    "> 当比较和二进制操作被要求对它们不支持的类型进行操作时，这个对象将从比较和二进制操作中返回。更多信息请参见 [Comparisons](https://docs.python.org/3/reference/expressions.html#comparisons)。有一个确切的`NotImplemented`对象。`type(NotImplemented)()`产生单子实例。\n",
    ">\n",
    "> 它被写成`NotImplemented`。"
   ]
  },
  {
   "cell_type": "code",
   "execution_count": 10,
   "id": "73b5e7ea-6e85-444f-a298-0c5ce87c5366",
   "metadata": {},
   "outputs": [
    {
     "data": {
      "text/plain": [
       "NotImplemented"
      ]
     },
     "execution_count": 10,
     "metadata": {},
     "output_type": "execute_result"
    }
   ],
   "source": [
    "type(NotImplemented)()"
   ]
  },
  {
   "cell_type": "markdown",
   "id": "d8174ac7-5605-477c-9082-ebd42bfe9a91",
   "metadata": {},
   "source": [
    "### Boolean Values"
   ]
  },
  {
   "cell_type": "markdown",
   "id": "b900f007-396c-4296-9a75-1bd8439ed948",
   "metadata": {},
   "source": [
    "Boolean values are the two constant objects `False` and `True`. They are used to represent truth values (although other values can also be considered false or true). In numeric contexts (for example when used as the argument to an arithmetic operator), they behave like the integers 0 and 1, respectively. The built-in function [`bool()`](https://docs.python.org/3/library/functions.html#bool) can be used to convert any value to a Boolean, if the value can be interpreted as a truth value (see section [Truth Value Testing](https://docs.python.org/3/library/stdtypes.html#truth) above).\n",
    "\n",
    "They are written as `False` and `True`, respectively.\n",
    "\n",
    "> 布尔值是两个常量对象`False`和`True`。它们被用来表示真值（尽管其他值也可以被认为是假的或真的）。在数字环境中（例如，当被用作算术运算符的参数时），它们的行为分别与整数0和1类似。内置函数[`bool()`](https://docs.python.org/3/library/functions.html#bool)可以用来将任何值转换为布尔值，如果该值可以被解释为真值的话（见上文[真值测试](https://docs.python.org/3/library/stdtypes.html#truth)一节）。\n",
    ">\n",
    "> 它们分别被写成`False`和`True`。"
   ]
  },
  {
   "cell_type": "code",
   "execution_count": 15,
   "id": "ebe1e6f3-4aff-459f-8e52-a373dfb8e74b",
   "metadata": {},
   "outputs": [
    {
     "name": "stderr",
     "output_type": "stream",
     "text": [
      "C:\\Users\\Administrator\\AppData\\Local\\Temp\\ipykernel_12380\\3704489100.py:1: DeprecationWarning: NotImplemented should not be used in a boolean context\n",
      "  bool(NotImplemented)\n"
     ]
    },
    {
     "data": {
      "text/plain": [
       "True"
      ]
     },
     "execution_count": 15,
     "metadata": {},
     "output_type": "execute_result"
    },
    {
     "data": {
      "text/plain": [
       "True"
      ]
     },
     "execution_count": 15,
     "metadata": {},
     "output_type": "execute_result"
    },
    {
     "data": {
      "text/plain": [
       "False"
      ]
     },
     "execution_count": 15,
     "metadata": {},
     "output_type": "execute_result"
    }
   ],
   "source": [
    "bool(NotImplemented)\n",
    "bool(Ellipsis)\n",
    "bool(None)"
   ]
  },
  {
   "cell_type": "markdown",
   "id": "de0c1bdc-b10c-457a-a015-e7d10978ef10",
   "metadata": {},
   "source": [
    "### Internal Object"
   ]
  },
  {
   "cell_type": "markdown",
   "id": "f43b21d1-5a60-4ef6-838f-c692e8c4120d",
   "metadata": {},
   "source": [
    "See [The standard type hierarchy](https://docs.python.org/3/reference/datamodel.html#types) for this information. It describes stack frame objects, traceback objects, and slice objects."
   ]
  },
  {
   "cell_type": "markdown",
   "id": "3f219569-798d-4d47-a7ef-7feea5573e60",
   "metadata": {},
   "source": [
    "## Special Attributes"
   ]
  },
  {
   "cell_type": "markdown",
   "id": "92bab7dc-323e-4c2a-bc5a-eea58680f941",
   "metadata": {},
   "source": [
    "The implementation adds a few special read-only attributes to several object types, where they are relevant. Some of these are not reported by the [`dir()`](https://docs.python.org/3/library/functions.html#dir) built-in function.\n",
    "\n",
    "> 该实现为几种对象类型添加了一些特殊的只读属性，在它们相关的地方。其中一些是[`dir()`](https://docs.python.org/3/library/functions.html#dir)内置函数所不能报告的。"
   ]
  },
  {
   "cell_type": "markdown",
   "id": "095b537f-50f9-4baf-9cfd-b890da3457be",
   "metadata": {},
   "source": [
    "- `object.__dict__`\n",
    "\n",
    "  A dictionary or other mapping object used to store an object’s (writable) attributes.\n",
    "\n",
    "- `instance.__class__`\n",
    "\n",
    "  The class to which a class instance belongs.\n",
    "\n",
    "- `class.__bases__`\n",
    "\n",
    "  The tuple of base classes of a class object.\n",
    "\n",
    "- `definition.__name__`\n",
    "\n",
    "  The name of the class, function, method, descriptor, or generator instance.\n",
    "\n",
    "- `definition.__qualname__`\n",
    "\n",
    "  The [qualified name](https://docs.python.org/3/glossary.html#term-qualified-name) of the class, function, method, descriptor, or generator instance.*New in version 3.3.*\n",
    "\n",
    "- `class.__mro__`\n",
    "\n",
    "  This attribute is a tuple of classes that are considered when looking for base classes during method resolution.\n",
    "\n",
    "- `class.mro`()\n",
    "\n",
    "  This method can be overridden by a metaclass to customize the method resolution order for its instances. It is called at class instantiation, and its result is stored in [`__mro__`](https://docs.python.org/3/library/stdtypes.html#class.__mro__).\n",
    "\n",
    "- `class.__subclasses__`()\n",
    "\n",
    "  Each class keeps a list of weak references to its immediate subclasses. This method returns a list of all those references still alive. The list is in definition order. Example:\n",
    "\n",
    "> - `object.__dict__ `\n",
    ">\n",
    ">   一个字典或其他映射对象，用于存储一个对象的（可写）属性。\n",
    ">\n",
    "> - `instance.__class__`\n",
    ">\n",
    ">   一个类实例所属的类。\n",
    ">\n",
    "> - `class.__bases___`\n",
    ">\n",
    ">   一个类对象的基类的元组。\n",
    ">\n",
    "> - `definition.__name__`\n",
    ">\n",
    ">   类、函数、方法、描述符、或生成器实例的名称。\n",
    ">\n",
    "> - `definition.__qualname__`\n",
    ">\n",
    ">   类、函数、方法、描述符或生成器实例的 [限定名称](https://docs.python.org/3/glossary.html#term-qualified-name)。*3.3.*版本中新增\n",
    ">\n",
    "> - `class.__mro__ `\n",
    ">\n",
    ">   这个属性是一个类的元组，在方法解析过程中寻找基类时，会考虑这些类。\n",
    ">\n",
    "> - `class.mro`()\n",
    ">\n",
    ">   这个方法可以被元类重载，以定制其实例的方法解析顺序。它在类的实例化时被调用，其结果被保存在 [`__mro__`](https://docs.python.org/3/library/stdtypes.html#class.__mro__)。\n",
    ">\n",
    "> - `class.__subclasses__`()\n",
    ">\n",
    ">   每个类都保留一个对其直接子类的弱引用列表。这个方法返回所有这些仍然存在的引用的列表。该列表是按定义顺序排列的。例子。"
   ]
  },
  {
   "cell_type": "code",
   "execution_count": 16,
   "id": "5b07a34a-4463-41d1-9939-f132cc6ba9b4",
   "metadata": {},
   "outputs": [
    {
     "data": {
      "text/plain": [
       "[bool,\n",
       " <enum 'IntEnum'>,\n",
       " <enum 'IntFlag'>,\n",
       " sre_constants._NamedIntConstant,\n",
       " subprocess.Handle]"
      ]
     },
     "execution_count": 16,
     "metadata": {},
     "output_type": "execute_result"
    }
   ],
   "source": [
    "int.__subclasses__()"
   ]
  },
  {
   "cell_type": "markdown",
   "id": "916d61dc-bba9-4d0d-8d77-ca5763101ac2",
   "metadata": {},
   "source": [
    "**Footnotes**:\n",
    "\n",
    "- [1](https://docs.python.org/3/library/stdtypes.html#id1)\n",
    "\n",
    "  Additional information on these special methods may be found in the Python Reference Manual ([Basic customization](https://docs.python.org/3/reference/datamodel.html#customization)).\n",
    "\n",
    "- [2](https://docs.python.org/3/library/stdtypes.html#id2)\n",
    "\n",
    "  As a consequence, the list `[1, 2]` is considered equal to `[1.0, 2.0]`, and similarly for tuples.\n",
    "\n",
    "- [3](https://docs.python.org/3/library/stdtypes.html#id4)\n",
    "\n",
    "  They must have since the parser can’t tell the type of the operands.\n",
    "\n",
    "- 4([1](https://docs.python.org/3/library/stdtypes.html#id6),[2](https://docs.python.org/3/library/stdtypes.html#id7),[3](https://docs.python.org/3/library/stdtypes.html#id8),[4](https://docs.python.org/3/library/stdtypes.html#id9))\n",
    "\n",
    "  Cased characters are those with general category property being one of “Lu” (Letter, uppercase), “Ll” (Letter, lowercase), or “Lt” (Letter, titlecase).\n",
    "\n",
    "- 5([1](https://docs.python.org/3/library/stdtypes.html#id10),[2](https://docs.python.org/3/library/stdtypes.html#id11))\n",
    "\n",
    "  To format only a tuple you should therefore provide a singleton tuple whose only element is the tuple to be formatted."
   ]
  }
 ],
 "metadata": {
  "kernelspec": {
   "display_name": "Python 3 (ipykernel)",
   "language": "python",
   "name": "python3"
  },
  "language_info": {
   "codemirror_mode": {
    "name": "ipython",
    "version": 3
   },
   "file_extension": ".py",
   "mimetype": "text/x-python",
   "name": "python",
   "nbconvert_exporter": "python",
   "pygments_lexer": "ipython3",
   "version": "3.10.4"
  }
 },
 "nbformat": 4,
 "nbformat_minor": 5
}
