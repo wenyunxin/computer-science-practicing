{
 "cells": [
  {
   "cell_type": "code",
   "execution_count": 2,
   "id": "a6cf6241-3d9a-4318-99ba-e98dc25a833b",
   "metadata": {},
   "outputs": [],
   "source": [
    "from IPython.core.interactiveshell import InteractiveShell\n",
    "InteractiveShell.ast_node_interactivity = \"all\""
   ]
  },
  {
   "cell_type": "markdown",
   "id": "d77c9250-d386-4eb6-9ec7-da37c224c14f",
   "metadata": {},
   "source": [
    "The Python interpreter has a number of functions and types built into it that are always available. They are listed here in alphabetical order.\n",
    "\n",
    "> Python 解释器有许多内置的函数和类型，它们总是可用的。这里按字母顺序列出了它们。"
   ]
  },
  {
   "cell_type": "markdown",
   "id": "872e419d-bac7-48ed-859c-65d93c9ac33b",
   "metadata": {},
   "source": [
    "\n",
    "\n",
    "| Built-in Functions                                           |                                                              |                                                              |                                                              |\n",
    "| :----------------------------------------------------------- | ------------------------------------------------------------ | ------------------------------------------------------------ | ------------------------------------------------------------ |\n",
    "| **A**[`abs()`](https://docs.python.org/3/library/functions.html#abs)[`aiter()`](https://docs.python.org/3/library/functions.html#aiter)[`all()`](https://docs.python.org/3/library/functions.html#all)[`any()`](https://docs.python.org/3/library/functions.html#any)[`anext()`](https://docs.python.org/3/library/functions.html#anext)[`ascii()`](https://docs.python.org/3/library/functions.html#ascii) **B**[`bin()`](https://docs.python.org/3/library/functions.html#bin)[`bool()`](https://docs.python.org/3/library/functions.html#bool)[`breakpoint()`](https://docs.python.org/3/library/functions.html#breakpoint)[`bytearray()`](https://docs.python.org/3/library/functions.html#func-bytearray)[`bytes()`](https://docs.python.org/3/library/functions.html#func-bytes) **C**[`callable()`](https://docs.python.org/3/library/functions.html#callable)[`chr()`](https://docs.python.org/3/library/functions.html#chr)[`classmethod()`](https://docs.python.org/3/library/functions.html#classmethod)[`compile()`](https://docs.python.org/3/library/functions.html#compile)[`complex()`](https://docs.python.org/3/library/functions.html#complex) **D**[`delattr()`](https://docs.python.org/3/library/functions.html#delattr)[`dict()`](https://docs.python.org/3/library/functions.html#func-dict)[`dir()`](https://docs.python.org/3/library/functions.html#dir)[`divmod()`](https://docs.python.org/3/library/functions.html#divmod) | **E**[`enumerate()`](https://docs.python.org/3/library/functions.html#enumerate)[`eval()`](https://docs.python.org/3/library/functions.html#eval)[`exec()`](https://docs.python.org/3/library/functions.html#exec) **F**[`filter()`](https://docs.python.org/3/library/functions.html#filter)[`float()`](https://docs.python.org/3/library/functions.html#float)[`format()`](https://docs.python.org/3/library/functions.html#format)[`frozenset()`](https://docs.python.org/3/library/functions.html#func-frozenset) **G**[`getattr()`](https://docs.python.org/3/library/functions.html#getattr)[`globals()`](https://docs.python.org/3/library/functions.html#globals) **H**[`hasattr()`](https://docs.python.org/3/library/functions.html#hasattr)[`hash()`](https://docs.python.org/3/library/functions.html#hash)[`help()`](https://docs.python.org/3/library/functions.html#help)[`hex()`](https://docs.python.org/3/library/functions.html#hex) **I**[`id()`](https://docs.python.org/3/library/functions.html#id)[`input()`](https://docs.python.org/3/library/functions.html#input)[`int()`](https://docs.python.org/3/library/functions.html#int)[`isinstance()`](https://docs.python.org/3/library/functions.html#isinstance)[`issubclass()`](https://docs.python.org/3/library/functions.html#issubclass)[`iter()`](https://docs.python.org/3/library/functions.html#iter) | **L**[`len()`](https://docs.python.org/3/library/functions.html#len)[`list()`](https://docs.python.org/3/library/functions.html#func-list)[`locals()`](https://docs.python.org/3/library/functions.html#locals) **M**[`map()`](https://docs.python.org/3/library/functions.html#map)[`max()`](https://docs.python.org/3/library/functions.html#max)[`memoryview()`](https://docs.python.org/3/library/functions.html#func-memoryview)[`min()`](https://docs.python.org/3/library/functions.html#min) **N**[`next()`](https://docs.python.org/3/library/functions.html#next) **O**[`object()`](https://docs.python.org/3/library/functions.html#object)[`oct()`](https://docs.python.org/3/library/functions.html#oct)[`open()`](https://docs.python.org/3/library/functions.html#open)[`ord()`](https://docs.python.org/3/library/functions.html#ord) **P**[`pow()`](https://docs.python.org/3/library/functions.html#pow)[`print()`](https://docs.python.org/3/library/functions.html#print)[`property()`](https://docs.python.org/3/library/functions.html#property) | **R**[`range()`](https://docs.python.org/3/library/functions.html#func-range)[`repr()`](https://docs.python.org/3/library/functions.html#repr)[`reversed()`](https://docs.python.org/3/library/functions.html#reversed)[`round()`](https://docs.python.org/3/library/functions.html#round) **S**[`set()`](https://docs.python.org/3/library/functions.html#func-set)[`setattr()`](https://docs.python.org/3/library/functions.html#setattr)[`slice()`](https://docs.python.org/3/library/functions.html#slice)[`sorted()`](https://docs.python.org/3/library/functions.html#sorted)[`staticmethod()`](https://docs.python.org/3/library/functions.html#staticmethod)[`str()`](https://docs.python.org/3/library/functions.html#func-str)[`sum()`](https://docs.python.org/3/library/functions.html#sum)[`super()`](https://docs.python.org/3/library/functions.html#super) **T**[`tuple()`](https://docs.python.org/3/library/functions.html#func-tuple)[`type()`](https://docs.python.org/3/library/functions.html#type) **V**[`vars()`](https://docs.python.org/3/library/functions.html#vars) **Z**[`zip()`](https://docs.python.org/3/library/functions.html#zip) **_**[`__import__()`](https://docs.python.org/3/library/functions.html#import__) |\n"
   ]
  },
  {
   "cell_type": "markdown",
   "id": "3fc69e2a-6ba3-46ae-940b-60fe2ba095a1",
   "metadata": {},
   "source": [
    "- `abs`(*x*)\n",
    "\n",
    "  Return the absolute value of a number. The argument may be an integer, a floating point number, or an object implementing `__abs__()`. If the argument is a complex number, its magnitude is returned.\n",
    "\n",
    "> `abs`(*x*)\n",
    ">\n",
    "> 返回一个数字的绝对值。参数可以是一个整数，一个浮点数，或者一个实现 `__abs__()` 的对象。如果参数是一个复数，则返回其大小。"
   ]
  },
  {
   "cell_type": "code",
   "execution_count": 8,
   "id": "23a5dafd-c7bd-46b1-8330-5a86d0434189",
   "metadata": {},
   "outputs": [
    {
     "data": {
      "text/plain": [
       "42"
      ]
     },
     "execution_count": 8,
     "metadata": {},
     "output_type": "execute_result"
    },
    {
     "data": {
      "text/plain": [
       "3.14"
      ]
     },
     "execution_count": 8,
     "metadata": {},
     "output_type": "execute_result"
    },
    {
     "data": {
      "text/plain": [
       "8.1"
      ]
     },
     "execution_count": 8,
     "metadata": {},
     "output_type": "execute_result"
    }
   ],
   "source": [
    "abs(42)\n",
    "\n",
    "abs(-3.14)\n",
    "\n",
    "abs(8.1j)"
   ]
  },
  {
   "cell_type": "markdown",
   "id": "5c652a1b-b1b4-4258-94c6-31a4334ca235",
   "metadata": {},
   "source": [
    "`aiter`(*async_iterable*)\n",
    "\n",
    "Return an [asynchronous iterator](https://docs.python.org/3/glossary.html#term-asynchronous-iterator) for an [asynchronous iterable](https://docs.python.org/3/glossary.html#term-asynchronous-iterable). Equivalent to calling `x.__aiter__()`.\n",
    "\n",
    "Note: Unlike [`iter()`](https://docs.python.org/3/library/functions.html#iter), [`aiter()`](https://docs.python.org/3/library/functions.html#aiter) has no 2-argument variant.\n",
    "\n",
    "*New in version 3.10.*\n",
    "\n",
    "> `aiter`(*async_iterable*)\n",
    ">\n",
    "> 返回一个[异步迭代器](https://docs.python.org/3/glossary.html#term-asynchronous-iterator)给一个[异步可迭代器](https://docs.python.org/3/glossary.html#term-asynchronous-iterable)。相当于调用 `x.__aiter__()`。\n",
    ">\n",
    "> 注意: 与 [`iter()`](https://docs.python.org/3/library/functions.html#iter) 不同，[`aiter()`](https://docs.python.org/3/library/functions.html#aiter) 没有双参数变量。\n",
    ">\n",
    "> *在3.10.版本中新增*"
   ]
  },
  {
   "cell_type": "code",
   "execution_count": 9,
   "id": "31b24b42-6958-41bc-9830-c60e7f05a2d7",
   "metadata": {},
   "outputs": [
    {
     "data": {
      "text/plain": [
       "<list_iterator at 0x15d42aac280>"
      ]
     },
     "execution_count": 9,
     "metadata": {},
     "output_type": "execute_result"
    }
   ],
   "source": [
    "L = [1, 2, 3, 4]\n",
    "L.__iter__()"
   ]
  },
  {
   "cell_type": "markdown",
   "id": "a61edc6c-795d-4c78-b9d1-7fa2c355dacb",
   "metadata": {},
   "source": [
    "`all`(*iterable*)\n",
    "\n",
    "Return `True` if all elements of the *iterable* are true (or if the iterable is empty). Equivalent to:\n",
    "\n",
    "> `all`(*iterable*)\n",
    ">\n",
    "> 如果*iterable*的所有元素都是真的，返回`True`（或者如果iterable为空）。相当于:"
   ]
  },
  {
   "cell_type": "code",
   "execution_count": 10,
   "id": "87e6e1c3-af0c-4894-879c-2f8c4409f5a9",
   "metadata": {},
   "outputs": [
    {
     "data": {
      "text/plain": [
       "True"
      ]
     },
     "execution_count": 10,
     "metadata": {},
     "output_type": "execute_result"
    },
    {
     "name": "stdout",
     "output_type": "stream",
     "text": [
      "Help on function all in module __main__:\n",
      "\n",
      "all(iterable)\n",
      "\n"
     ]
    },
    {
     "data": {
      "text/plain": [
       "True"
      ]
     },
     "execution_count": 10,
     "metadata": {},
     "output_type": "execute_result"
    }
   ],
   "source": [
    "def all(iterable):\n",
    "    for element in iterable:\n",
    "        if not element:\n",
    "            return False\n",
    "    return True\n",
    "\n",
    "\n",
    "all(L)\n",
    "\n",
    "help(all)\n",
    "\n",
    "all(L)"
   ]
  },
  {
   "cell_type": "markdown",
   "id": "9b1bfc3f-6260-42fd-97ef-7e6a69cfa8fe",
   "metadata": {},
   "source": [
    "*awaitable* `anext`(*async_iterator*[, *default*])\n",
    "\n",
    "When awaited, return the next item from the given [asynchronous iterator](https://docs.python.org/3/glossary.html#term-asynchronous-iterator), or *default* if given and the iterator is exhausted.\n",
    "\n",
    "This is the async variant of the [`next()`](https://docs.python.org/3/library/functions.html#next) builtin, and behaves similarly.\n",
    "\n",
    "This calls the [`__anext__()`](https://docs.python.org/3/reference/datamodel.html#object.__anext__) method of *async_iterator*, returning an [awaitable](https://docs.python.org/3/glossary.html#term-awaitable). Awaiting this returns the next value of the iterator. If *default* is given, it is returned if the iterator is exhausted, otherwise [`StopAsyncIteration`](https://docs.python.org/3/library/exceptions.html#StopAsyncIteration) is raised.\n",
    "\n",
    "*New in version 3.10.*\n",
    "\n",
    "> *awaitable* `anext`(*async_iterator*[, *default*])\n",
    ">\n",
    "> 当等待时，从给定的[异步迭代器](https://docs.python.org/3/glossary.html#term-asynchronous-iterator)中返回下一个项目，如果给定的迭代器已经用尽，则返回*default*。\n",
    ">\n",
    "> 这是 [`next()`](https://docs.python.org/3/library/functions.html#next) 内置程序的异步变体，其行为也类似。\n",
    ">\n",
    "> 它调用*async_iterator*的 [`__anext__()`](https://docs.python.org/3/reference/datamodel.html#object.__anext__) 方法，返回一个[awarditable](https://docs.python.org/3/glossary.html#term-awaitable)。等待会返回迭代器的下一个值。如果给定了*default*，如果迭代器被耗尽就会返回，否则会引发[`StopAsyncIteration`](https://docs.python.org/3/library/exceptions.html#StopAsyncIteration)。\n",
    ">\n",
    "> *在3.10.版本中新增*"
   ]
  },
  {
   "cell_type": "markdown",
   "id": "715d18fe-3a8e-4f9c-9184-e43ec1265d6d",
   "metadata": {},
   "source": [
    "`any`(*iterable*)\n",
    "\n",
    "Return `True` if any element of the *iterable* is true. If the iterable is empty, return `False`. Equivalent to:\n",
    "\n",
    "> 如果*iterable*的任何元素为真，则返回 `True`。如果iterable是空的，则返回 `False`。相当于:"
   ]
  },
  {
   "cell_type": "code",
   "execution_count": 11,
   "id": "9d32d4d4-81c4-47f3-b607-cb697af4bcc0",
   "metadata": {},
   "outputs": [
    {
     "name": "stdout",
     "output_type": "stream",
     "text": [
      "Help on built-in function any in module builtins:\n",
      "\n",
      "any(iterable, /)\n",
      "    Return True if bool(x) is True for any x in the iterable.\n",
      "    \n",
      "    If the iterable is empty, return False.\n",
      "\n"
     ]
    }
   ],
   "source": [
    "help(any)"
   ]
  },
  {
   "cell_type": "code",
   "execution_count": 12,
   "id": "1651c4e4-cf0e-47c6-a5f2-e6a6586f347f",
   "metadata": {},
   "outputs": [
    {
     "data": {
      "text/plain": [
       "True"
      ]
     },
     "execution_count": 12,
     "metadata": {},
     "output_type": "execute_result"
    },
    {
     "data": {
      "text/plain": [
       "False"
      ]
     },
     "execution_count": 12,
     "metadata": {},
     "output_type": "execute_result"
    }
   ],
   "source": [
    "any(L)\n",
    "\n",
    "L1 = []\n",
    "\n",
    "any(L1)"
   ]
  },
  {
   "cell_type": "code",
   "execution_count": 13,
   "id": "43e413c4-9ae4-41ac-be49-9c623f38ceff",
   "metadata": {},
   "outputs": [
    {
     "data": {
      "text/plain": [
       "True"
      ]
     },
     "execution_count": 13,
     "metadata": {},
     "output_type": "execute_result"
    },
    {
     "data": {
      "text/plain": [
       "False"
      ]
     },
     "execution_count": 13,
     "metadata": {},
     "output_type": "execute_result"
    }
   ],
   "source": [
    "def any(iterable):\n",
    "    for element in iterable:\n",
    "        if element:\n",
    "            return True\n",
    "    return False\n",
    "\n",
    "any(L)\n",
    "any(L1)"
   ]
  },
  {
   "cell_type": "markdown",
   "id": "58ec2fea-cfaa-4113-b3dc-1377d4ad68d9",
   "metadata": {},
   "source": [
    "`ascii`(*object*)\n",
    "\n",
    "As [`repr()`](https://docs.python.org/3/library/functions.html#repr), return a string containing a printable representation of an object, but escape the non-ASCII characters in the string returned by [`repr()`](https://docs.python.org/3/library/functions.html#repr) using `\\x`, `\\u`, or `\\U` escapes. This generates a string similar to that returned by [`repr()`](https://docs.python.org/3/library/functions.html#repr) in Python 2.\n",
    "\n",
    "> `ascii`(*object*)\n",
    ">\n",
    "> 和 [`repr()`](https://docs.python.org/3/library/functions.html#repr) 一样，返回一个包含对象的可打印表示的字符串，但是用 [`repr()`](https://docs.python.org/3/library/functions.html#repr) 返回的字符串中的非ASCII字符用 `\\x`、`\\u`或 `\\U` 转义。这就产生了一个类似于Python 2中 [`repr()`](https://docs.python.org/3/library/functions.html#repr) 返回的字符串。"
   ]
  },
  {
   "cell_type": "code",
   "execution_count": 14,
   "id": "93fa73fb-1c8e-4453-927f-cff1ece219e2",
   "metadata": {},
   "outputs": [
    {
     "name": "stdout",
     "output_type": "stream",
     "text": [
      "Help on built-in function ascii in module builtins:\n",
      "\n",
      "ascii(obj, /)\n",
      "    Return an ASCII-only representation of an object.\n",
      "    \n",
      "    As repr(), return a string containing a printable representation of an\n",
      "    object, but escape the non-ASCII characters in the string returned by\n",
      "    repr() using \\\\x, \\\\u or \\\\U escapes. This generates a string similar\n",
      "    to that returned by repr() in Python 2.\n",
      "\n",
      "Help on built-in function repr in module builtins:\n",
      "\n",
      "repr(obj, /)\n",
      "    Return the canonical string representation of the object.\n",
      "    \n",
      "    For many object types, including most builtins, eval(repr(obj)) == obj.\n",
      "\n"
     ]
    }
   ],
   "source": [
    "help(ascii)\n",
    "\n",
    "help(repr)"
   ]
  },
  {
   "cell_type": "code",
   "execution_count": 15,
   "id": "a9275e3d-0a11-4ae8-b8ae-b2b319a5e795",
   "metadata": {},
   "outputs": [
    {
     "data": {
      "text/plain": [
       "\"'\\\\\\\\s'\""
      ]
     },
     "execution_count": 15,
     "metadata": {},
     "output_type": "execute_result"
    },
    {
     "data": {
      "text/plain": [
       "\"'\\\\\\\\s'\""
      ]
     },
     "execution_count": 15,
     "metadata": {},
     "output_type": "execute_result"
    }
   ],
   "source": [
    "ascii('\\s')\n",
    "repr('\\s')"
   ]
  },
  {
   "cell_type": "markdown",
   "id": "b5536be0-6ca2-458b-98e6-f1c3deb53493",
   "metadata": {},
   "source": [
    "`bin`(*x*)\n",
    "\n",
    "Convert an integer number to a binary string prefixed with “0b”. The result is a valid Python expression. If *x* is not a Python [`int`](https://docs.python.org/3/library/functions.html#int) object, it has to define an `__index__()` method that returns an integer. Some examples:\n",
    "\n",
    "> `bin`(*x*)\n",
    ">\n",
    "> 将一个整数转换成前缀为 \"0b\"的二进制字符串。其结果是一个有效的Python表达式。如果*x*不是一个Python [`int`](https://docs.python.org/3/library/functions.html#int) 对象，它必须定义一个 `__index__()` 方法，返回一个整数。一些例子："
   ]
  },
  {
   "cell_type": "code",
   "execution_count": 16,
   "id": "2217bf72-2bde-4708-b749-88bec28ec9bb",
   "metadata": {},
   "outputs": [
    {
     "data": {
      "text/plain": [
       "'0b11'"
      ]
     },
     "execution_count": 16,
     "metadata": {},
     "output_type": "execute_result"
    },
    {
     "data": {
      "text/plain": [
       "'-0b1010'"
      ]
     },
     "execution_count": 16,
     "metadata": {},
     "output_type": "execute_result"
    }
   ],
   "source": [
    "bin(3)\n",
    "\n",
    "bin(-10)"
   ]
  },
  {
   "cell_type": "markdown",
   "id": "22cf9a14-2ab5-4d11-8415-8d6ef4d66173",
   "metadata": {},
   "source": [
    "If the prefix “0b” is desired or not, you can use either of the following ways.\n",
    "\n",
    "> 如果需要或不需要前缀 \"0b\"，你可以使用以下两种方式。"
   ]
  },
  {
   "cell_type": "code",
   "execution_count": 17,
   "id": "f5394bd1-26de-41ee-8cd4-9b0f077892e6",
   "metadata": {},
   "outputs": [
    {
     "data": {
      "text/plain": [
       "('0b1110', '1110')"
      ]
     },
     "execution_count": 17,
     "metadata": {},
     "output_type": "execute_result"
    },
    {
     "data": {
      "text/plain": [
       "('0b1110', '1110')"
      ]
     },
     "execution_count": 17,
     "metadata": {},
     "output_type": "execute_result"
    }
   ],
   "source": [
    "format(14, '#b'), format(14, 'b')\n",
    "\n",
    "f'{14:#b}', f'{14:b}'"
   ]
  },
  {
   "cell_type": "markdown",
   "id": "9f52c830-a502-4115-af2f-feb1acd0b4e9",
   "metadata": {},
   "source": [
    "See also [`format()`](https://docs.python.org/3/library/functions.html#format) for more information.\n",
    "\n",
    "> 更多信息请参见[`format()`](https://docs.python.org/3/library/functions.html#format)。"
   ]
  },
  {
   "cell_type": "markdown",
   "id": "7f4a1411-7c09-4843-908b-57905daf2589",
   "metadata": {},
   "source": [
    "*class* `bool`([*x*])\n",
    "\n",
    "Return a Boolean value, i.e. one of `True` or `False`. *x* is converted using the standard [truth testing procedure](https://docs.python.org/3/library/stdtypes.html#truth). If *x* is false or omitted, this returns `False`; otherwise, it returns `True`. The [`bool`](https://docs.python.org/3/library/functions.html#bool) class is a subclass of [`int`](https://docs.python.org/3/library/functions.html#int) (see [Numeric Types — int, float, complex](https://docs.python.org/3/library/stdtypes.html#typesnumeric)). It cannot be subclassed further. Its only instances are `False` and `True` (see [Boolean Values](https://docs.python.org/3/library/stdtypes.html#bltin-boolean-values)).\n",
    "\n",
    "*Changed in version 3.7:* *x* is now a positional-only parameter.\n",
    "\n",
    "> *class* `bool`([*x*])\n",
    ">\n",
    "> 返回一个布尔值，即 `True` 或 `False` 之一。*x*使用标准的[真值检验程序](https://docs.python.org/3/library/stdtypes.html#truth)进行转换。如果*x*是假的或省略的，这将返回 `False`；否则，将返回 `True`。[`bool`](https://docs.python.org/3/library/functions.html#bool) 类是 [`int`](https://docs.python.org/3/library/functions.html#int) 的子类（见[数字类型-int, float, complex](https://docs.python.org/3/library/stdtypes.html#typesnumeric)）。它不能被进一步子类化。它的唯一实例是 `False` 和 `True`（见[布尔值](https://docs.python.org/3/library/stdtypes.html#bltin-boolean-values)）。\n",
    ">\n",
    "> *在3.7版本中改变了*：*x*现在是一个只有位置的参数。"
   ]
  },
  {
   "cell_type": "code",
   "execution_count": 18,
   "id": "72f77739-e46c-4d3d-8f4d-4f595ddcf53f",
   "metadata": {},
   "outputs": [
    {
     "data": {
      "text/plain": [
       "False"
      ]
     },
     "execution_count": 18,
     "metadata": {},
     "output_type": "execute_result"
    },
    {
     "data": {
      "text/plain": [
       "False"
      ]
     },
     "execution_count": 18,
     "metadata": {},
     "output_type": "execute_result"
    },
    {
     "data": {
      "text/plain": [
       "True"
      ]
     },
     "execution_count": 18,
     "metadata": {},
     "output_type": "execute_result"
    },
    {
     "data": {
      "text/plain": [
       "False"
      ]
     },
     "execution_count": 18,
     "metadata": {},
     "output_type": "execute_result"
    },
    {
     "data": {
      "text/plain": [
       "False"
      ]
     },
     "execution_count": 18,
     "metadata": {},
     "output_type": "execute_result"
    },
    {
     "data": {
      "text/plain": [
       "True"
      ]
     },
     "execution_count": 18,
     "metadata": {},
     "output_type": "execute_result"
    },
    {
     "data": {
      "text/plain": [
       "False"
      ]
     },
     "execution_count": 18,
     "metadata": {},
     "output_type": "execute_result"
    },
    {
     "data": {
      "text/plain": [
       "False"
      ]
     },
     "execution_count": 18,
     "metadata": {},
     "output_type": "execute_result"
    },
    {
     "data": {
      "text/plain": [
       "{}"
      ]
     },
     "execution_count": 18,
     "metadata": {},
     "output_type": "execute_result"
    },
    {
     "data": {
      "text/plain": [
       "dict"
      ]
     },
     "execution_count": 18,
     "metadata": {},
     "output_type": "execute_result"
    }
   ],
   "source": [
    "bool()\n",
    "\n",
    "bool([])\n",
    "\n",
    "bool((2,))\n",
    "\n",
    "bool({})    ## 空集？\n",
    "\n",
    "bool(set())  # 创建空集的bool值\n",
    "\n",
    "bool({'a':1})\n",
    "\n",
    "bool(dict())   # 用dict()创建空字典\n",
    "\n",
    "bool(a := {})    # 用赋值 a = {} 的方式创建空字典，:= walrus海象命名法\n",
    "\n",
    "a\n",
    "\n",
    "type(a)"
   ]
  },
  {
   "cell_type": "markdown",
   "id": "e6d69280-eda3-4d7d-8b92-e24960f8feb3",
   "metadata": {},
   "source": [
    "`breakpoint`(\\**args*, \\***kws*)\n",
    "\n",
    "This function drops you into the debugger at the call site. Specifically, it calls [`sys.breakpointhook()`](https://docs.python.org/3/library/sys.html#sys.breakpointhook), passing `args` and `kws` straight through. By default, `sys.breakpointhook()` calls [`pdb.set_trace()`](https://docs.python.org/3/library/pdb.html#pdb.set_trace) expecting no arguments. In this case, it is purely a convenience function so you don’t have to explicitly import [`pdb`](https://docs.python.org/3/library/pdb.html#module-pdb) or type as much code to enter the debugger. However, [`sys.breakpointhook()`](https://docs.python.org/3/library/sys.html#sys.breakpointhook) can be set to some other function and [`breakpoint()`](https://docs.python.org/3/library/functions.html#breakpoint) will automatically call that, allowing you to drop into the debugger of choice.\n",
    "\n",
    "Raises an [auditing event](https://docs.python.org/3/library/sys.html#auditing) `builtins.breakpoint` with argument `breakpointhook`.\n",
    "\n",
    "*New in version 3.7.*\n",
    "\n",
    "> `breakpoint`(\\**args*, \\***kws*)\n",
    ">\n",
    "> 这个函数让你进入调试器的调用点。具体来说，它调用 [`sys.breakpointhook()`](https://docs.python.org/3/library/sys.html#sys.breakpointhook)，直接传递 `args` 和 `kws`。默认情况下，`sys.breakpointhook() `调用 [`pdb.set_trace()`](https://docs.python.org/3/library/pdb.html#pdb.set_trace)，不期望有参数。在这种情况下，它纯粹是一个方便的函数，所以你不必明确地导入 [`pdb`](https://docs.python.org/3/library/pdb.html#module-pdb) 或输入那么多代码来进入调试器。然而，[`sys.breakpointhook()`](https://docs.python.org/3/library/sys.html#sys.breakpointhook) 可以设置为其他函数，[`breakpoint()`](https://docs.python.org/3/library/functions.html#breakpoint) 将自动调用该函数，允许你掉入选择的调试器中。\n",
    ">\n",
    "> 引发一个[审计事件](https://docs.python.org/3/library/sys.html#auditing)  `builtins.breakpoint`，参数为 `breakpointhook`。\n",
    ">\n",
    "> *在3.7.版本中新增*"
   ]
  },
  {
   "cell_type": "code",
   "execution_count": 19,
   "id": "ac59a2bc-aee9-44e8-9b48-0fc1450846c8",
   "metadata": {},
   "outputs": [],
   "source": [
    "# how to use this function?"
   ]
  },
  {
   "cell_type": "markdown",
   "id": "228182b1-46c4-4c81-8444-a6d8390ac7bc",
   "metadata": {},
   "source": [
    "*class* `bytearray`([*source*[, *encoding*[, *errors*]]])\n",
    "\n",
    "Return a new array of bytes. The [`bytearray`](https://docs.python.org/3/library/stdtypes.html#bytearray) class is a mutable sequence of integers in the range 0 <= x < 256. It has most of the usual methods of mutable sequences, described in [Mutable Sequence Types](https://docs.python.org/3/library/stdtypes.html#typesseq-mutable), as well as most methods that the [`bytes`](https://docs.python.org/3/library/stdtypes.html#bytes) type has, see [Bytes and Bytearray Operations](https://docs.python.org/3/library/stdtypes.html#bytes-methods).\n",
    "\n",
    "The optional *source* parameter can be used to initialize the array in a few different ways:\n",
    "\n",
    "- If it is a *string*, you must also give the *encoding* (and optionally, *errors*) parameters; [`bytearray()`](https://docs.python.org/3/library/stdtypes.html#bytearray) then converts the string to bytes using [`str.encode()`](https://docs.python.org/3/library/stdtypes.html#str.encode).\n",
    "- If it is an *integer*, the array will have that size and will be initialized with null bytes.\n",
    "- If it is an object conforming to the [buffer interface](https://docs.python.org/3/c-api/buffer.html#bufferobjects), a read-only buffer of the object will be used to initialize the bytes array.\n",
    "- If it is an *iterable*, it must be an iterable of integers in the range `0 <= x < 256`, which are used as the initial contents of the array.\n",
    "\n",
    "Without an argument, an array of size 0 is created.\n",
    "\n",
    "See also [Binary Sequence Types — bytes, bytearray, memoryview](https://docs.python.org/3/library/stdtypes.html#binaryseq) and [Bytearray Objects](https://docs.python.org/3/library/stdtypes.html#typebytearray).\n",
    "\n",
    "> *class* `bytearray`([*source*[, *encoding*[, *errors*]])\n",
    ">\n",
    "> 返回一个新的字节数组。[`bytearray`](https://docs.python.org/3/library/stdtypes.html#bytearray) 类是一个范围为0 <= x < 256的可变整数序列。它拥有大多数可变序列的常规方法，在[Mutable Sequence Types](https://docs.python.org/3/library/stdtypes.html#typesseq-mutable)中描述，以及 [`bytes`](https://docs.python.org/3/library/stdtypes.html#bytes) 类型的大多数方法，见[Bytes and Bytearray Operations](https://docs.python.org/3/library/stdtypes.html#bytes-methods)。\n",
    ">\n",
    "> 可选的*source*参数可以用几种不同的方式来初始化数组。\n",
    ">\n",
    "> - 如果它是一个*字符串*，你必须同时给出*编码*（和可选的*错误*）参数；[`bytearray()`](https://docs.python.org/3/library/stdtypes.html#bytearray) 然后使用[`str.encode()` ](https://docs.python.org/3/library/stdtypes.html#str.encode)将字符串转换为字节数。\n",
    "> - 如果它是一个*整数*，数组将有这个大小，并将以空字节初始化。\n",
    "> - 如果它是一个符合[buffer interface](https://docs.python.org/3/c-api/buffer.html#bufferobjects)的对象，该对象的一个只读缓冲区将被用于初始化字节数组。\n",
    "> - 如果它是一个*iterable*，它必须是一个范围为 `0 <= x < 256` 的整数迭代器，它被用作数组的初始内容。\n",
    ">\n",
    "> 没有参数，就会创建一个大小为0的数组。\n",
    ">\n",
    "> 参见[二进制序列类型--字节、字节数组、内存视图](https://docs.python.org/3/library/stdtypes.html#binaryseq)和[字节数组对象](https://docs.python.org/3/library/stdtypes.html#typebytearray)。"
   ]
  },
  {
   "cell_type": "code",
   "execution_count": 20,
   "id": "9fef8522-2811-4b92-97ad-8293cca3323b",
   "metadata": {},
   "outputs": [
    {
     "data": {
      "text/plain": [
       "bytearray(b'string')"
      ]
     },
     "execution_count": 20,
     "metadata": {},
     "output_type": "execute_result"
    },
    {
     "data": {
      "text/plain": [
       "bytearray(b'\\x00\\x00\\x00\\x00\\x00\\x00\\x00\\x00\\x00\\x00\\x00\\x00\\x00\\x00\\x00\\x00\\x00\\x00\\x00\\x00\\x00\\x00\\x00')"
      ]
     },
     "execution_count": 20,
     "metadata": {},
     "output_type": "execute_result"
    },
    {
     "data": {
      "text/plain": [
       "bytearray(b'\\x01\\x02\\x03\\x04')"
      ]
     },
     "execution_count": 20,
     "metadata": {},
     "output_type": "execute_result"
    },
    {
     "data": {
      "text/plain": [
       "bytearray(b'')"
      ]
     },
     "execution_count": 20,
     "metadata": {},
     "output_type": "execute_result"
    }
   ],
   "source": [
    "# how to use this function?\n",
    "\n",
    "bytearray('string', encoding='utf-8')\n",
    "bytearray(23)\n",
    "bytearray([1,2,3,4])\n",
    "bytearray()"
   ]
  },
  {
   "cell_type": "markdown",
   "id": "06d83bd0-4a37-40d0-98d6-93b2030d4f91",
   "metadata": {},
   "source": [
    "*class* `bytes`([*source*[, *encoding*[, *errors*]]])\n",
    "\n",
    "Return a new “bytes” object which is an immutable sequence of integers in the range `0 <= x < 256`. [`bytes`](https://docs.python.org/3/library/stdtypes.html#bytes) is an immutable version of [`bytearray`](https://docs.python.org/3/library/stdtypes.html#bytearray) – it has the same non-mutating methods and the same indexing and slicing behavior.\n",
    "\n",
    "Accordingly, constructor arguments are interpreted as for [`bytearray()`](https://docs.python.org/3/library/stdtypes.html#bytearray).\n",
    "\n",
    "Bytes objects can also be created with literals, see [String and Bytes literals](https://docs.python.org/3/reference/lexical_analysis.html#strings).\n",
    "\n",
    "See also [Binary Sequence Types — bytes, bytearray, memoryview](https://docs.python.org/3/library/stdtypes.html#binaryseq), [Bytes Objects](https://docs.python.org/3/library/stdtypes.html#typebytes), and [Bytes and Bytearray Operations](https://docs.python.org/3/library/stdtypes.html#bytes-methods).\n",
    "\n",
    "> *class* `bytes`([*source*[, *encoding*[, *errors*]])\n",
    ">\n",
    "> 返回一个新的 \"bytes\"对象，它是一个不可改变的整数序列，范围是 `0 <= x < 256`。[`bytes`](https://docs.python.org/3/library/stdtypes.html#bytes) 是 [`bytearray`](https://docs.python.org/3/library/stdtypes.html#bytearray)的不可变版本--它有相同的非突变方法和相同的索引和分片行为。\n",
    ">\n",
    "> 因此，构造函数参数的解释与 [`bytearray()`](https://docs.python.org/3/library/stdtypes.html#bytearray) 相同。\n",
    ">\n",
    "> 字节对象也可以用字面值创建，见[字符串和字节字面意义](https://docs.python.org/3/reference/lexical_analysis.html#strings)。\n",
    ">\n",
    "> 另见[二进制序列类型--字节、字节组、内存视图](https://docs.python.org/3/library/stdtypes.html#binaryseq)，[字节对象](https://docs.python.org/3/library/stdtypes.html#typebytes)，以及[字节和字节组操作](https://docs.python.org/3/library/stdtypes.html#bytes-methods)。"
   ]
  },
  {
   "cell_type": "code",
   "execution_count": 21,
   "id": "b119c0f1-a627-42be-9366-27228d20227d",
   "metadata": {},
   "outputs": [
    {
     "data": {
      "text/plain": [
       "b''"
      ]
     },
     "execution_count": 21,
     "metadata": {},
     "output_type": "execute_result"
    },
    {
     "data": {
      "text/plain": [
       "b'\\x00\\x00\\x00\\x00\\x00\\x00\\x00\\x00\\x00\\x00\\x00\\x00\\x00\\x00\\x00\\x00\\x00\\x00\\x00\\x00\\x00\\x00\\x00\\x00\\x00\\x00\\x00\\x00\\x00\\x00\\x00\\x00\\x00\\x00\\x00\\x00\\x00\\x00\\x00\\x00\\x00\\x00'"
      ]
     },
     "execution_count": 21,
     "metadata": {},
     "output_type": "execute_result"
    },
    {
     "data": {
      "text/plain": [
       "b'\\x01\\x02\\x03\\x04'"
      ]
     },
     "execution_count": 21,
     "metadata": {},
     "output_type": "execute_result"
    }
   ],
   "source": [
    "# how to use this function?\n",
    "bytes()\n",
    "bytes(42)\n",
    "bytes([1,2,3,4])"
   ]
  },
  {
   "cell_type": "markdown",
   "id": "36dd94eb-6b39-4809-ac61-e592f01b697d",
   "metadata": {},
   "source": [
    "`callable`(*object*)\n",
    "\n",
    "Return [`True`](https://docs.python.org/3/library/constants.html#True) if the *object* argument appears callable, [`False`](https://docs.python.org/3/library/constants.html#False) if not. If this returns `True`, it is still possible that a call fails, but if it is `False`, calling *object* will never succeed. Note that classes are callable (calling a class returns a new instance); instances are callable if their class has a `__call__()` method.\n",
    "\n",
    "*New in version 3.2:* This function was first removed in Python 3.0 and then brought back in Python 3.2.\n",
    "\n",
    "> `callable`(*object*)\n",
    ">\n",
    "> 如果*object*的参数出现可调用，返回 [`True`](https://docs.python.org/3/library/constants.html#True)，如果不是，则返回 [`False`](https://docs.python.org/3/library/constants.html#False)。如果返回 `True`，仍有可能调用失败，但如果是`False`，调用*object*永远不会成功。请注意，类是可调用的（调用一个类会返回一个新的实例）；如果实例的类有一个 `__call__()` 方法，则实例是可调用的。\n",
    ">\n",
    "> *3.2版中的新内容：* 这个函数在Python 3.0中首先被删除，然后在Python 3.2中被重新引入。"
   ]
  },
  {
   "cell_type": "code",
   "execution_count": 22,
   "id": "5c40a8c3-36d3-4dab-8ae0-36a1faf00416",
   "metadata": {},
   "outputs": [
    {
     "data": {
      "text/plain": [
       "True"
      ]
     },
     "execution_count": 22,
     "metadata": {},
     "output_type": "execute_result"
    }
   ],
   "source": [
    "# how to use this function\n",
    "\n",
    "callable(type(1))"
   ]
  },
  {
   "cell_type": "markdown",
   "id": "45732ca1-97df-4d3d-a290-03fb3b7578ca",
   "metadata": {},
   "source": [
    "`chr`(*i*)\n",
    "\n",
    "Return the string representing a character whose Unicode code point is the integer *i*. For example, `chr(97)` returns the string `'a'`, while `chr(8364)` returns the string `'€'`. This is the inverse of [`ord()`](https://docs.python.org/3/library/functions.html#ord).\n",
    "\n",
    "The valid range for the argument is from 0 through 1,114,111 (0x10FFFF in base 16). [`ValueError`](https://docs.python.org/3/library/exceptions.html#ValueError) will be raised if *i* is outside that range.\n",
    "\n",
    "`chr`(*i*)\n",
    "\n",
    "返回代表Unicode码位为整数*i*的字符的字符串。例如，`chr(97) `返回字符串 `'a'`，而 `chr(8364)` 返回字符串 `€`。这是 [`ord()`](https://docs.python.org/3/library/functions.html#ord) 的逆运算。\n",
    "\n",
    "参数的有效范围是从0到1,114,111（基数16的0x10FFFF）。如果*i*超出这个范围，[`ValueError` ](https://docs.python.org/3/library/exceptions.html#ValueError)将被引发。"
   ]
  },
  {
   "cell_type": "code",
   "execution_count": 23,
   "id": "88a2c95b-02b6-42be-8145-4a9cf66e8d1e",
   "metadata": {},
   "outputs": [
    {
     "data": {
      "text/plain": [
       "'d'"
      ]
     },
     "execution_count": 23,
     "metadata": {},
     "output_type": "execute_result"
    },
    {
     "data": {
      "text/plain": [
       "100"
      ]
     },
     "execution_count": 23,
     "metadata": {},
     "output_type": "execute_result"
    }
   ],
   "source": [
    "chr(100)\n",
    "ord('d')"
   ]
  },
  {
   "cell_type": "markdown",
   "id": "86eb8681-0f7d-4643-9661-b0300e3d02c2",
   "metadata": {},
   "source": [
    "`@classmethod`\n",
    "\n",
    "Transform a method into a class method.\n",
    "\n",
    "A class method receives the class as an implicit first argument, just like an instance method receives the instance. To declare a class method, use this idiom:\n",
    "\n",
    "```python\n",
    "class C:\n",
    "    @classmethod\n",
    "    def f(cls, arg1, arg2): ...\n",
    "```\n",
    "\n",
    "The `@classmethod` form is a function [decorator](https://docs.python.org/3/glossary.html#term-decorator) – see [Function definitions](https://docs.python.org/3/reference/compound_stmts.html#function) for details.\n",
    "\n",
    "A class method can be called either on the class (such as `C.f()`) or on an instance (such as `C().f()`). The instance is ignored except for its class. If a class method is called for a derived class, the derived class object is passed as the implied first argument.\n",
    "\n",
    "Class methods are different than C++ or Java static methods. If you want those, see [`staticmethod()`](https://docs.python.org/3/library/functions.html#staticmethod) in this section. For more information on class methods, see [The standard type hierarchy](https://docs.python.org/3/reference/datamodel.html#types).\n",
    "\n",
    "*Changed in version 3.9:* Class methods can now wrap other [descriptors](https://docs.python.org/3/glossary.html#term-descriptor) such as [`property()`](https://docs.python.org/3/library/functions.html#property).\n",
    "\n",
    "*Changed in version 3.10:* Class methods now inherit the method attributes (`__module__`, `__name__`, `__qualname__`, `__doc__` and `__annotations__`) and have a new `__wrapped__` attribute.\n",
    "\n",
    "*Changed in version 3.9:* Class methods can now wrap other [descriptors](https://docs.python.org/3/glossary.html#term-descriptor) such as [`property()`](https://docs.python.org/3/library/functions.html#property).\n",
    "\n",
    "\n",
    "> `@classmethod`\n",
    ">\n",
    "> 将一个方法转化为一个类方法。\n",
    ">\n",
    "> 一个类方法接收类作为隐含的第一个参数，就像一个实例方法接收实例一样。要声明一个类方法，请使用这个习惯用语。\n",
    ">\n",
    "> ``python\n",
    "> class C:\n",
    ">     @classmethod\n",
    ">     def f(cls, arg1, arg2): ...\n",
    ">\n",
    "> `@classmethod` 形式是一个函数[装饰器](https://docs.python.org/3/glossary.html#term-decorator)--详见[函数定义](https://docs.python.org/3/reference/compound_stmts.html#function)。\n",
    ">\n",
    "> 一个类方法可以在类上调用（比如 `C.f()`），也可以在实例上调用（比如 `C().f()`）。实例被忽略，除了它的类。如果为一个派生类调用一个类方法，派生类对象被作为隐含的第一个参数传递。\n",
    ">\n",
    "> 类方法与C++或Java的静态方法不同。如果你想要这些方法，请参阅本节中的 [`staticmethod()`](https://docs.python.org/3/library/functions.html#staticmethod)。关于类方法的更多信息，请参见[标准类型层次结构](https://docs.python.org/3/reference/datamodel.html#types)。\n",
    ">\n",
    "> *在3.9版中有所改变：*类方法现在可以包裹其他的[描述符](https://docs.python.org/3/glossary.html#term-descriptor)，如 [`property()`](https://docs.python.org/3/library/functions.html#property)。\n",
    ">\n",
    "> *在3.10版中改变了：*类方法现在继承了方法属性（`__module__`, `__name__`, `__qualname__`, `__doc__` 和 `__annotations__`）并有一个新的`__wrapped__`属性。 "
   ]
  },
  {
   "cell_type": "markdown",
   "id": "ab1d9723-a724-4685-a350-5913c5b2edde",
   "metadata": {},
   "source": [
    "`compile`(*source*, *filename*, *mode*, *flags=0*, *dont_inherit=False*, *optimize=- 1*)\n",
    "\n",
    "Compile the *source* into a code or AST object. Code objects can be executed by [`exec()`](https://docs.python.org/3/library/functions.html#exec) or [`eval()`](https://docs.python.org/3/library/functions.html#eval). *source* can either be a normal string, a byte string, or an AST object. Refer to the [`ast`](https://docs.python.org/3/library/ast.html#module-ast) module documentation for information on how to work with AST objects.\n",
    "\n",
    "The *filename* argument should give the file from which the code was read; pass some recognizable value if it wasn’t read from a file (`'<string>'` is commonly used).\n",
    "\n",
    "The *mode* argument specifies what kind of code must be compiled; it can be `'exec'` if *source* consists of a sequence of statements, `'eval'` if it consists of a single expression, or `'single'` if it consists of a single interactive statement (in the latter case, expression statements that evaluate to something other than `None` will be printed).\n",
    "\n",
    "The optional arguments *flags* and *dont_inherit* control which [compiler options](https://docs.python.org/3/library/ast.html#ast-compiler-flags) should be activated and which [future features](https://docs.python.org/3/reference/simple_stmts.html#future) should be allowed. If neither is present (or both are zero) the code is compiled with the same flags that affect the code that is calling [`compile()`](https://docs.python.org/3/library/functions.html#compile). If the *flags* argument is given and *dont_inherit* is not (or is zero) then the compiler options and the future statements specified by the *flags* argument are used in addition to those that would be used anyway. If *dont_inherit* is a non-zero integer then the *flags* argument is it – the flags (future features and compiler options) in the surrounding code are ignored.\n",
    "\n",
    "Compiler options and future statements are specified by bits which can be bitwise ORed together to specify multiple options. The bitfield required to specify a given future feature can be found as the `compiler_flag` attribute on the `_Feature` instance in the [`__future__`](https://docs.python.org/3/library/__future__.html#module-__future__) module. [Compiler flags](https://docs.python.org/3/library/ast.html#ast-compiler-flags) can be found in [`ast`](https://docs.python.org/3/library/ast.html#module-ast) module, with `PyCF_` prefix.\n",
    "\n",
    "The argument *optimize* specifies the optimization level of the compiler; the default value of `-1` selects the optimization level of the interpreter as given by [`-O`](https://docs.python.org/3/using/cmdline.html#cmdoption-O) options. Explicit levels are `0` (no optimization; `__debug__` is true), `1` (asserts are removed, `__debug__` is false) or `2` (docstrings are removed too).\n",
    "\n",
    "This function raises [`SyntaxError`](https://docs.python.org/3/library/exceptions.html#SyntaxError) if the compiled source is invalid, and [`ValueError`](https://docs.python.org/3/library/exceptions.html#ValueError) if the source contains null bytes.\n",
    "\n",
    "If you want to parse Python code into its AST representation, see [`ast.parse()`](https://docs.python.org/3/library/ast.html#ast.parse).\n",
    "\n",
    "Raises an [auditing event](https://docs.python.org/3/library/sys.html#auditing) `compile` with arguments `source` and `filename`. This event may also be raised by implicit compilation.\n",
    "\n",
    "**Note:** When compiling a string with multi-line code in `'single'` or `'eval'` mode, input must be terminated by at least one newline character. This is to facilitate detection of incomplete and complete statements in the [`code`](https://docs.python.org/3/library/code.html#module-code) module.\n",
    "\n",
    "**Warning:** It is possible to crash the Python interpreter with a sufficiently large/complex string when compiling to an AST object due to stack depth limitations in Python’s AST compiler.\n",
    "\n",
    "*Changed in version 3.2:* Allowed use of Windows and Mac newlines. Also, input in `'exec'` mode does not have to end in a newline anymore. Added the *optimize* parameter.\n",
    "\n",
    "*Changed in version 3.5:* Previously, [`TypeError`](https://docs.python.org/3/library/exceptions.html#TypeError) was raised when null bytes were encountered in *source*.\n",
    "\n",
    "*New in version 3.8:* `ast.PyCF_ALLOW_TOP_LEVEL_AWAIT` can now be passed in flags to enable support for top-level `await`, `async for`, and `async with`.\n",
    "\n",
    "> `compile`(*source*, *filename*, *mode*, *flags=0*, *dont_inherit=False*, *optimize=- 1*)\n",
    ">\n",
    "> 将*source*编译成一个代码或AST对象。代码对象可以由 [`exec()`](https://docs.python.org/3/library/functions.html#exec) 或 [`eval()`](https://docs.python.org/3/library/functions.html#eval) 执行。*source*可以是一个普通的字符串，一个字节字符串，或者一个AST对象。关于如何处理AST对象的信息，请参考 [`ast`](https://docs.python.org/3/library/ast.html#module-ast) 模块文档。\n",
    ">\n",
    "> 参数*filename*应该给出读取代码的文件；如果不是从文件中读取，则传递一些可识别的值（通常使用 `'<string>'`）。\n",
    ">\n",
    "> 参数*mode*指定必须编译哪种类型的代码；如果*source*由一连串的语句组成，它可以是 `'exec'`，如果由单一的表达式组成，它可以是 `'eval'`，如果由单一的交互式语句组成，它可以是 `'single'`（在后一种情况下，评价为 `None` 以外的表达式语句将被打印）。\n",
    ">\n",
    "> 可选参数*flags*和*dont_inherit*控制哪些 [编译器选项](https://docs.python.org/3/library/ast.html#ast-compiler-flags)应该被激活，哪些[未来特性](https://docs.python.org/3/reference/simple_stmts.html#future)应该被允许。如果这两个参数都不存在（或者都是0），那么代码将以影响调用 [`compile()`](https://docs.python.org/3/library/functions.html#compile) 的代码的相同标志进行编译。如果给出了*flags*参数，而*dont_inherit*没有（或为0），那么除了使用那些无论如何都会使用的编译器选项和*flags*参数指定的未来语句外，还将使用那些编译器选项。如果*dont_inherit*是一个非零的整数，那么*flags*参数就是它--周围代码中的标志（未来特性和编译器选项）被忽略。\n",
    ">\n",
    "> 编译器选项和未来语句是由比特指定的，这些比特可以按位数OR在一起以指定多个选项。指定一个给定的未来特性所需的位域可以在 [`__future__`](https://docs.python.org/3/library/__future__.html#module-__future__) 模块中的 `_Feature` 实例上找到 `compiler_flag` 属性。[编译器标志](https://docs.python.org/3/library/ast.html#ast-compiler-flags)可以在 [`ast`](https://docs.python.org/3/library/ast.html#module-ast) 模块中找到，前缀是 `PyCF_`。\n",
    ">\n",
    "> 参数*optimize*指定了编译器的优化级别；默认值为 `-1`，选择 [`-O`](https://docs.python.org/3/using/cmdline.html#cmdoption-O) 选项中的解释器优化级别。明确的级别是 `0`（无优化；`__debug__`为真），`1`（断言被删除，`__debug__`为假）或 `2`（文档字符串也被删除）。\n",
    ">\n",
    "> 如果编译后的源码无效，这个函数会引发 [`SyntaxError`](https://docs.python.org/3/library/exceptions.html#SyntaxError)，如果源码包含空字节，则会引发 [`ValueError`](https://docs.python.org/3/library/exceptions.html#ValueError) 。\n",
    ">\n",
    "> 如果你想将Python代码解析为AST表示，请参见 [`ast.parse()`](https://docs.python.org/3/library/ast.html#ast.parse)。\n",
    ">\n",
    "> 引发一个 [auditing event](https://docs.python.org/3/library/sys.html#auditing) `compile`，参数为 `source` 和 `filename`。这个事件也可能由隐式编译引发。\n",
    ">\n",
    "> **注意：**在 `'single'` 或 `'eval'` 模式下编译带有多行代码的字符串时，输入必须以至少一个换行符结束。这是为了方便检测 [`code`](https://docs.python.org/3/library/code.html#module-code) 模块中不完整和完整的语句。\n",
    ">\n",
    "> **警告：**在编译成AST对象时，由于Python的AST编译器的堆栈深度限制，有可能用一个足够大/复杂的字符串使Python解释器崩溃。\n",
    ">\n",
    "> *在3.2版中有所改变：*允许使用Windows和Mac的换行符。另外，\"'exec'\"模式下的输入不必再以换行结束。增加了*optimize*参数。\n",
    ">\n",
    "> *3.5版中的变化：* 以前，当在*source*中遇到空字节时，会产生[`TypeError`](https://docs.python.org/3/library/exceptions.html#TypeError)。\n",
    ">\n",
    "> *3.8版新增：* `ast.PyCF_ALLOW_TOP_LEVEL_AWAIT` 现在可以在标志中传递，以实现对顶级 `await`、`async for` 和 `async with` 的支持。"
   ]
  },
  {
   "cell_type": "code",
   "execution_count": 24,
   "id": "4bf8f6d5-df1f-4a28-917b-715514e54770",
   "metadata": {},
   "outputs": [],
   "source": [
    "# how to use this function?"
   ]
  },
  {
   "cell_type": "markdown",
   "id": "6dc73c2f-db1c-4319-a7ca-5dc7cbeb4048",
   "metadata": {},
   "source": [
    "*class* `complex`([*real*[, *imag*]])\n",
    "\n",
    "Return a complex number with the value *real* + *imag**1j or convert a string or number to a complex number. If the first parameter is a string, it will be interpreted as a complex number and the function must be called without a second parameter. The second parameter can never be a string. Each argument may be any numeric type (including complex). If *imag* is omitted, it defaults to zero and the constructor serves as a numeric conversion like [`int`](https://docs.python.org/3/library/functions.html#int) and [`float`](https://docs.python.org/3/library/functions.html#float). If both arguments are omitted, returns `0j`.\n",
    "\n",
    "For a general Python object `x`, `complex(x)` delegates to `x.__complex__()`. If `__complex__()` is not defined then it falls back to `__float__()`. If `__float__()` is not defined then it falls back to `__index__()`.\n",
    "\n",
    "**Note:** When converting from a string, the string must not contain whitespace around the central `+` or `-` operator. For example, `complex('1+2j')` is fine, but `complex('1 + 2j')` raises [`ValueError`](https://docs.python.org/3/library/exceptions.html#ValueError).\n",
    "\n",
    "The complex type is described in [Numeric Types — int, float, complex](https://docs.python.org/3/library/stdtypes.html#typesnumeric).\n",
    "\n",
    "*Changed in version 3.6:* Grouping digits with underscores as in code literals is allowed.\n",
    "\n",
    "*Changed in version 3.8:* Falls back to `__index__()` if `__complex__()` and `__float__()` are not defined.\n",
    "\n",
    "> *class* `complex`([*real*[, *imag*]])\n",
    ">\n",
    "> 返回一个数值为*real* + *imag*\\*1j的复数，或者将一个字符串或数字转换为复数。如果第一个参数是一个字符串，它将被解释为一个复数，调用该函数时必须没有第二个参数。第二个参数永远不能是字符串。每个参数可以是任何数字类型（包括复数）。如果*imag*被省略，它默认为零，构造函数作为数字转换，就像 [`int`](https://docs.python.org/3/library/functions.html#int) 和[`float`](https://docs.python.org/3/library/functions.html#float) 一样。如果两个参数都省略了，返回 `0j`。\n",
    ">\n",
    "> 对于一般的 Python 对象 `x`，`complex(x)` 委托给 `x.__complex__()`。如果 `__complex__()` 没有被定义，那么它将返回到 `__float__()`。如果 `__float__()`没有被定义，那么它将返回到`__index__()`。\n",
    ">\n",
    "> **注意：**当从一个字符串转换时，该字符串不能在中央的 `+` 或 `-` 运算符周围包含空白。例如，`complex('1+2j') `是可以的，但是 `complex('1+2j')` 会引发 [`ValueError`](https://docs.python.org/3/library/exceptions.html#ValueError)。\n",
    ">\n",
    "> 复数类型在[数字类型-int, float, complex](https://docs.python.org/3/library/stdtypes.html#typesnumeric)中描述。\n",
    ">\n",
    "> *在3.6版中有所改变：*允许在代码字面中用下划线将数字分组。\n",
    ">\n",
    "> *在3.8版本中改变了：* 如果没有定义 `__complex__()` 和 `__float__()`，则返回到 `__index__()`。"
   ]
  },
  {
   "cell_type": "code",
   "execution_count": 25,
   "id": "2fc7379a-10ab-423f-b896-3bb9e4861c60",
   "metadata": {},
   "outputs": [
    {
     "data": {
      "text/plain": [
       "(2+3j)"
      ]
     },
     "execution_count": 25,
     "metadata": {},
     "output_type": "execute_result"
    }
   ],
   "source": [
    "complex(2,3)"
   ]
  },
  {
   "cell_type": "markdown",
   "id": "827fec67-7164-460a-8b16-a8fb6135787d",
   "metadata": {},
   "source": [
    "`delattr`(*object*, *name*)\n",
    "\n",
    "This is a relative of [`setattr()`](https://docs.python.org/3/library/functions.html#setattr). The arguments are an object and a string. The string must be the name of one of the object’s attributes. The function deletes the named attribute, provided the object allows it. For example, `delattr(x, 'foobar')` is equivalent to `del x.foobar`.\n",
    "\n",
    "> `delattr`(*object*, *name*)\n",
    ">\n",
    "> 这是 [`setattr()`](https://docs.python.org/3/library/functions.html#setattr) 的一个亲属。参数是一个对象和一个字符串。字符串必须是该对象的一个属性的名称。只要对象允许，该函数将删除指定的属性。例如，`delattr(x, 'foobar')` 等同于`del x.foobar`。"
   ]
  },
  {
   "cell_type": "markdown",
   "id": "83d66db7-bddc-49e3-b1c4-b38cd81876f6",
   "metadata": {},
   "source": [
    "*class* `dict`(***kwarg*)\n",
    "\n",
    "*class* `dict`(*mapping*, ***kwarg*)\n",
    "\n",
    "*class* `dict`(*iterable*, ***kwarg*)\n",
    "\n",
    "Create a new dictionary. The [`dict`](https://docs.python.org/3/library/stdtypes.html#dict) object is the dictionary class. See [`dict`](https://docs.python.org/3/library/stdtypes.html#dict) and [Mapping Types — dict](https://docs.python.org/3/library/stdtypes.html#typesmapping) for documentation about this class.\n",
    "\n",
    "For other containers see the built-in [`list`](https://docs.python.org/3/library/stdtypes.html#list), [`set`](https://docs.python.org/3/library/stdtypes.html#set), and [`tuple`](https://docs.python.org/3/library/stdtypes.html#tuple) classes, as well as the [`collections`](https://docs.python.org/3/library/collections.html#module-collections) module.\n",
    "\n",
    "> *class* `dict`(***kwarg*)\n",
    ">\n",
    "> *class* `dict`(*mapping*, ***kwarg*)\n",
    ">\n",
    "> *class* `dict`(*iterable*, ***kwarg*)\n",
    ">\n",
    "> 创建一个新的字典。[`dict`](https://docs.python.org/3/library/stdtypes.html#dict) 对象是字典类。参见 [`dict`](https://docs.python.org/3/library/stdtypes.html#dict) 和 [Mapping Types - dict](https://docs.python.org/3/library/stdtypes.html#typesmapping) 关于这个类的文档。\n",
    ">\n",
    "> 关于其他的容器，见内置的 [`list`](https://docs.python.org/3/library/stdtypes.html#list), [`set`](https://docs.python.org/3/library/stdtypes.html#set), 和 [`tuple`](https://docs.python.org/3/library/stdtypes.html#tuple) 类，以及 [`collections`](https://docs.python.org/3/library/collections.html#module-collections) 模块。"
   ]
  },
  {
   "cell_type": "code",
   "execution_count": 26,
   "id": "f5f30e05-1d3b-451d-b95a-fdb38be78a67",
   "metadata": {},
   "outputs": [
    {
     "data": {
      "text/plain": [
       "{'s': 1}"
      ]
     },
     "execution_count": 26,
     "metadata": {},
     "output_type": "execute_result"
    }
   ],
   "source": [
    "# how to the first and third usages?\n",
    "\n",
    "dict({'s':1})"
   ]
  },
  {
   "cell_type": "markdown",
   "id": "f0a7f61f-da7f-4464-84ec-079339fda333",
   "metadata": {},
   "source": [
    "`dir`([*object*])\n",
    "\n",
    "Without arguments, return the list of names in the current local scope. With an argument, attempt to return a list of valid attributes for that object.\n",
    "\n",
    "If the object has a method named `__dir__()`, this method will be called and must return the list of attributes. This allows objects that implement a custom `__getattr__()` or `__getattribute__()` function to customize the way [`dir()`](https://docs.python.org/3/library/functions.html#dir) reports their attributes.\n",
    "\n",
    "If the object does not provide `__dir__()`, the function tries its best to gather information from the object’s [`__dict__`](https://docs.python.org/3/library/stdtypes.html#object.__dict__) attribute, if defined, and from its type object. The resulting list is not necessarily complete and may be inaccurate when the object has a custom `__getattr__()`.\n",
    "\n",
    "The default [`dir()`](https://docs.python.org/3/library/functions.html#dir) mechanism behaves differently with different types of objects, as it attempts to produce the most relevant, rather than complete, information:\n",
    "\n",
    "- If the object is a module object, the list contains the names of the module’s attributes.\n",
    "- If the object is a type or class object, the list contains the names of its attributes, and recursively of the attributes of its bases.\n",
    "- Otherwise, the list contains the object’s attributes’ names, the names of its class’s attributes, and recursively of the attributes of its class’s base classes.\n",
    "\n",
    "The resulting list is sorted alphabetically. For example:\n",
    "\n",
    "> `dir`([*object*])\n",
    ">\n",
    "> 没有参数，返回当前本地作用域内的名称列表。带参数，尝试返回该对象的有效属性列表。\n",
    ">\n",
    "> 如果该对象有一个名为 `__dir__()` 的方法，这个方法将被调用，并且必须返回属性的列表。这允许那些实现了自定义的 `__getattr__()` 或 `__getattribute__()` 函数的对象自定义 [`dir()`](https://docs.python.org/3/library/functions.html#dir) 报告其属性的方式。\n",
    ">\n",
    "> 如果对象没有提供 `__dir__()`，该函数将尽力从对象的 [`__dict__`](https://docs.python.org/3/library/stdtypes.html#object.__dict__) 属性（如果定义了）和它的类型对象中收集信息。得到的列表不一定是完整的，当对象有一个自定义的 `__getattr__()` 时，可能不准确。\n",
    ">\n",
    "> 默认的 [`dir()`](https://docs.python.org/3/library/functions.html#dir) 机制对不同类型的对象表现不同，因为它试图产生最相关的，而不是完整的信息：\n",
    ">\n",
    "> - 如果该对象是一个模块对象，该列表包含了模块的属性名称。\n",
    "> - 如果对象是一个类型或类的对象，列表中包含它的属性名称，并递归地包含它的基的属性。\n",
    "> - 否则，该列表包含对象的属性名称，其类的属性名称，以及其类的基类属性的递归。\n",
    ">\n",
    "> 得到的列表是按字母顺序排序的。比如说："
   ]
  },
  {
   "cell_type": "code",
   "execution_count": 27,
   "id": "1e05d752-9136-4f8e-9599-11dfed783ab0",
   "metadata": {},
   "outputs": [
    {
     "data": {
      "text/plain": [
       "['In',\n",
       " 'InteractiveShell',\n",
       " 'L',\n",
       " 'L1',\n",
       " 'Out',\n",
       " 'X',\n",
       " '_',\n",
       " '_10',\n",
       " '_12',\n",
       " '_13',\n",
       " '_15',\n",
       " '_16',\n",
       " '_17',\n",
       " '_18',\n",
       " '_20',\n",
       " '_21',\n",
       " '_22',\n",
       " '_23',\n",
       " '_25',\n",
       " '_26',\n",
       " '_4',\n",
       " '_6',\n",
       " '_8',\n",
       " '_9',\n",
       " '__',\n",
       " '___',\n",
       " '__builtin__',\n",
       " '__builtins__',\n",
       " '__doc__',\n",
       " '__loader__',\n",
       " '__name__',\n",
       " '__package__',\n",
       " '__spec__',\n",
       " '_dh',\n",
       " '_i',\n",
       " '_i1',\n",
       " '_i10',\n",
       " '_i11',\n",
       " '_i12',\n",
       " '_i13',\n",
       " '_i14',\n",
       " '_i15',\n",
       " '_i16',\n",
       " '_i17',\n",
       " '_i18',\n",
       " '_i19',\n",
       " '_i2',\n",
       " '_i20',\n",
       " '_i21',\n",
       " '_i22',\n",
       " '_i23',\n",
       " '_i24',\n",
       " '_i25',\n",
       " '_i26',\n",
       " '_i27',\n",
       " '_i3',\n",
       " '_i4',\n",
       " '_i5',\n",
       " '_i6',\n",
       " '_i7',\n",
       " '_i8',\n",
       " '_i9',\n",
       " '_ih',\n",
       " '_ii',\n",
       " '_iii',\n",
       " '_oh',\n",
       " 'a',\n",
       " 'all',\n",
       " 'any',\n",
       " 'exit',\n",
       " 'get_ipython',\n",
       " 'quit',\n",
       " 'struct',\n",
       " 't']"
      ]
     },
     "execution_count": 27,
     "metadata": {},
     "output_type": "execute_result"
    }
   ],
   "source": [
    "import struct\n",
    "dir()    # show the name in the module namespace"
   ]
  },
  {
   "cell_type": "code",
   "execution_count": 28,
   "id": "34b44eed-23ed-4717-98e4-0cef2a924b57",
   "metadata": {},
   "outputs": [
    {
     "data": {
      "text/plain": [
       "['Struct',\n",
       " '__all__',\n",
       " '__builtins__',\n",
       " '__cached__',\n",
       " '__doc__',\n",
       " '__file__',\n",
       " '__loader__',\n",
       " '__name__',\n",
       " '__package__',\n",
       " '__spec__',\n",
       " '_clearcache',\n",
       " 'calcsize',\n",
       " 'error',\n",
       " 'iter_unpack',\n",
       " 'pack',\n",
       " 'pack_into',\n",
       " 'unpack',\n",
       " 'unpack_from']"
      ]
     },
     "execution_count": 28,
     "metadata": {},
     "output_type": "execute_result"
    }
   ],
   "source": [
    "dir(struct)    # show the names in the struct module"
   ]
  },
  {
   "cell_type": "code",
   "execution_count": 29,
   "id": "3bb195f6-581f-4bde-b0ce-b3430b21c787",
   "metadata": {},
   "outputs": [
    {
     "data": {
      "text/plain": [
       "['area', 'location', 'perimeter']"
      ]
     },
     "execution_count": 29,
     "metadata": {},
     "output_type": "execute_result"
    }
   ],
   "source": [
    "class Shape:\n",
    "    def __dir__(self):\n",
    "        return ['area', 'perimeter', 'location']\n",
    "    \n",
    "s = Shape()\n",
    "dir(s)"
   ]
  },
  {
   "cell_type": "markdown",
   "id": "8873b3c7-bd3a-41db-8735-0b126f8ce16d",
   "metadata": {},
   "source": [
    "**Note:** Because [`dir()`](https://docs.python.org/3/library/functions.html#dir) is supplied primarily as a convenience for use at an interactive prompt, it tries to supply an interesting set of names more than it tries to supply a rigorously or consistently defined set of names, and its detailed behavior may change across releases. For example, metaclass attributes are not in the result list when the argument is a class.\n",
    "\n",
    "> **注意：**因为 [`dir()`](https://docs.python.org/3/library/functions.html#dir) 主要是作为一种方便，在交互式提示下使用，它试图提供一个有趣的名字集，而不是试图提供一个严格的或一致的定义的名字集，它的详细行为可能在不同的版本中改变。例如，当参数是一个类时，元类属性不在结果列表中。"
   ]
  },
  {
   "cell_type": "markdown",
   "id": "dfc3deb4-aa08-4d07-8dc8-a55b97830a87",
   "metadata": {},
   "source": [
    "`divmod`(*a*, *b*)\n",
    "\n",
    "Take two (non-complex) numbers as arguments and return a pair of numbers consisting of their quotient and remainder when using integer division. With mixed operand types, the rules for binary arithmetic operators apply. For integers, the result is the same as `(a // b, a % b)`. For floating point numbers the result is `(q, a % b)`, where *q* is usually `math.floor(a / b)` but may be 1 less than that. In any case `q * b + a % b` is very close to *a*, if `a % b` is non-zero it has the same sign as *b*, and `0 <= abs(a % b) < abs(b)`.\n",
    "\n",
    "> `divmod`(*a*, *b*)\n",
    ">\n",
    "> 以两个（非复数）数字为参数，使用整数除法时，返回一对由其商和余数组成的数字。对于混合操作数类型，适用二进制算术运算符的规则。对于整数，其结果与 `(a/b, a % b)` 相同。对于浮点数，结果是 `(q, a % b)`，其中*q*通常是 `math.floor(a / b)`，但可能比它少1。在任何情况下，`q * b + a % b` 都非常接近于*a*，如果 `a % b` 非零，它的符号与*b*相同，并且 `0 <= abs(a % b) < abs(b)`。"
   ]
  },
  {
   "cell_type": "code",
   "execution_count": 30,
   "id": "96c763a7-ae47-4358-bb82-b57bb572fe19",
   "metadata": {},
   "outputs": [
    {
     "data": {
      "text/plain": [
       "(8, 2)"
      ]
     },
     "execution_count": 30,
     "metadata": {},
     "output_type": "execute_result"
    },
    {
     "data": {
      "text/plain": [
       "(8.4, 2)"
      ]
     },
     "execution_count": 30,
     "metadata": {},
     "output_type": "execute_result"
    },
    {
     "data": {
      "text/plain": [
       "(8, 2)"
      ]
     },
     "execution_count": 30,
     "metadata": {},
     "output_type": "execute_result"
    }
   ],
   "source": [
    "import math\n",
    "divmod(42, 5)\n",
    "\n",
    "(42/5, 42%5)\n",
    "(math.floor(42/5), 42%5)"
   ]
  },
  {
   "cell_type": "markdown",
   "id": "0eb4bd86-ea7a-4efb-a4c6-f0fb83618b4d",
   "metadata": {},
   "source": [
    "`enumerate`(*iterable*, *start=0*)\n",
    "\n",
    "Return an enumerate object. *iterable* must be a sequence, an [iterator](https://docs.python.org/3/glossary.html#term-iterator), or some other object which supports iteration. The [`__next__()`](https://docs.python.org/3/library/stdtypes.html#iterator.__next__) method of the iterator returned by [`enumerate()`](https://docs.python.org/3/library/functions.html#enumerate) returns a tuple containing a count (from *start* which defaults to 0) and the values obtained from iterating over *iterable*.\n",
    "\n",
    "> `enumerate`(*iterable*, *start=0*)\n",
    ">\n",
    "> 返回一个enumerate对象。*iterable*必须是一个序列，一个[iterator](https://docs.python.org/3/glossary.html#term-iterator)，或者其他一些支持迭代的对象。由 [`enumerate()`](https://docs.python.org/3/library/functions.html#enumerate) 返回的迭代器的 [`__next__()`](https://docs.python.org/3/library/stdtypes.html#iterator.__next__) 方法返回一个元组，包含一个计数（从*start*开始，默认为0）和在*iterable*上迭代得到的值。"
   ]
  },
  {
   "cell_type": "code",
   "execution_count": 31,
   "id": "dc7e8074-7675-4318-b3f1-7f479c4b91e1",
   "metadata": {},
   "outputs": [
    {
     "data": {
      "text/plain": [
       "[(0, 'Spring'), (1, 'Summer'), (2, 'Fall'), (3, 'Winter')]"
      ]
     },
     "execution_count": 31,
     "metadata": {},
     "output_type": "execute_result"
    },
    {
     "data": {
      "text/plain": [
       "[(1, 'Spring'), (2, 'Summer'), (3, 'Fall'), (4, 'Winter')]"
      ]
     },
     "execution_count": 31,
     "metadata": {},
     "output_type": "execute_result"
    }
   ],
   "source": [
    "seasons = ['Spring', 'Summer', 'Fall', 'Winter']\n",
    "list(enumerate(seasons))\n",
    "list(enumerate(seasons,start=1))"
   ]
  },
  {
   "cell_type": "markdown",
   "id": "c15d43c1-e07a-48e8-ab15-84e621c2cc0f",
   "metadata": {},
   "source": [
    "Equivalent to:"
   ]
  },
  {
   "cell_type": "code",
   "execution_count": 32,
   "id": "1b09fec9-00f2-41c2-b7e9-290bc5e56b54",
   "metadata": {},
   "outputs": [],
   "source": [
    "def enumerate(sequence, start = 0):\n",
    "    n = start\n",
    "    for elem in sequence:\n",
    "        yield n, elem\n",
    "        n += 1\n",
    "        \n"
   ]
  },
  {
   "cell_type": "markdown",
   "id": "75a7c179-6c94-47a4-b610-ce84ef5f7856",
   "metadata": {},
   "source": [
    "`eval`(*expression*[, *globals*[, *locals*]])\n",
    "\n",
    "The arguments are a string and optional globals and locals. If provided, *globals* must be a dictionary. If provided, *locals* can be any mapping object.\n",
    "\n",
    "The *expression* argument is parsed and evaluated as a Python expression (technically speaking, a condition list) using the *globals* and *locals* dictionaries as global and local namespace. If the *globals* dictionary is present and does not contain a value for the key `__builtins__`, a reference to the dictionary of the built-in module [`builtins`](https://docs.python.org/3/library/builtins.html#module-builtins) is inserted under that key before *expression* is parsed. That way you can control what builtins are available to the executed code by inserting your own `__builtins__` dictionary into *globals* before passing it to [`eval()`](https://docs.python.org/3/library/functions.html#eval). If the *locals* dictionary is omitted it defaults to the *globals* dictionary. If both dictionaries are omitted, the expression is executed with the *globals* and *locals* in the environment where [`eval()`](https://docs.python.org/3/library/functions.html#eval) is called. Note, *eval()* does not have access to the [nested scopes](https://docs.python.org/3/glossary.html#term-nested-scope) (non-locals) in the enclosing environment.\n",
    "\n",
    "The return value is the result of the evaluated expression. Syntax errors are reported as exceptions. Example:\n",
    "\n",
    "> `eval`(*expression*[, *globals*[, *locals*]])\n",
    ">\n",
    "> 参数是一个字符串和可选的globals和locals。如果提供的话，*globals*必须是一个字典。如果提供的话，*locals*可以是任何映射对象。\n",
    ">\n",
    "> *expression* 参数被解析并作为一个 Python 表达式 (技术上讲，是一个条件列表) 进行运算求值，使用 *globals* 和 *locals* 字典作为全局和局部名称空间。如果 *globals* 字典存在并且不包含键值 `__builtins__`，那么在 *expression* 被解析之前，会在该键下插入对内置模块 [`builtins`](https://docs.python.org/3/library/builtins.html#module-builtins) 的引用。这样你就可以通过在传递给 [`eval()`](https://docs.python.org/3/library/functions.html#eval) 之前将你自己的 `__builtins__` 字典插入*globals*来控制哪些内置模块可以被执行的代码使用。如果省略了*locals*字典，则默认为*globals*字典。如果两个字典都省略了，表达式将在调用 [`eval()`](https://docs.python.org/3/library/functions.html#eval) 的环境中用*globals*和*locals*执行。注意，*eval()* 不能访问包围环境中的 [嵌套作用域](https://docs.python.org/3/glossary.html#term-nested-scope)（非locals）。\n",
    ">\n",
    "> 返回值是被运算求值的表达式的结果。语法错误被报告为异常。例子："
   ]
  },
  {
   "cell_type": "code",
   "execution_count": 33,
   "id": "dc8acc4c-21a5-4a4e-866b-5b1f9508fac8",
   "metadata": {},
   "outputs": [
    {
     "data": {
      "text/plain": [
       "2"
      ]
     },
     "execution_count": 33,
     "metadata": {},
     "output_type": "execute_result"
    }
   ],
   "source": [
    "x = 1\n",
    "eval('x+1')"
   ]
  },
  {
   "cell_type": "markdown",
   "id": "48aed918-d39e-4948-95b4-c00dfb66615d",
   "metadata": {},
   "source": [
    "This function can also be used to execute arbitrary code objects (such as those created by [`compile()`](https://docs.python.org/3/library/functions.html#compile)). In this case, pass a code object instead of a string. If the code object has been compiled with `'exec'` as the *mode* argument, [`eval()`](https://docs.python.org/3/library/functions.html#eval)'s return value will be `None`.\n",
    "\n",
    "Hints: dynamic execution of statements is supported by the [`exec()`](https://docs.python.org/3/library/functions.html#exec) function. The [`globals()`](https://docs.python.org/3/library/functions.html#globals) and [`locals()`](https://docs.python.org/3/library/functions.html#locals) functions return the current global and local dictionary, respectively, which may be useful to pass around for use by [`eval()`](https://docs.python.org/3/library/functions.html#eval) or [`exec()`](https://docs.python.org/3/library/functions.html#exec).\n",
    "\n",
    "If the given source is a string, then leading and trailing spaces and tabs are stripped.\n",
    "\n",
    "See [`ast.literal_eval()`](https://docs.python.org/3/library/ast.html#ast.literal_eval) for a function that can safely evaluate strings with expressions containing only literals.\n",
    "\n",
    "Raises an [auditing event](https://docs.python.org/3/library/sys.html#auditing) `exec` with the code object as the argument. Code compilation events may also be raised.\n",
    "\n",
    "> 这个函数也可以用来执行任意的代码对象（比如那些由 [`compile()`](https://docs.python.org/3/library/functions.html#compile) 创建的对象）。在这种情况下，传递一个代码对象而不是一个字符串。如果代码对象在编译时使用了 `'exec'` 作为*mode*参数，[`eval()`](https://docs.python.org/3/library/functions.html#eval) 的返回值将是 `None`。\n",
    ">\n",
    "> 提示：语句的动态执行是由 [`exec()`](https://docs.python.org/3/library/functions.html#exec) 函数支持的。[`globals()`](https://docs.python.org/3/library/functions.html#globals) 和 [`locals()`](https://docs.python.org/3/library/functions.html#locals) 函数分别返回当前的全局和局部字典，这对于传递给 [`eval()`](https://docs.python.org/3/library/functions.html#eval) 或 [`exec()`](https://docs.python.org/3/library/functions.html#exec) 使用可能很有用。\n",
    ">\n",
    "> 如果给定的源是一个字符串，那么前导和后导的空格和制表符将被剥离。\n",
    ">\n",
    "> 参见 [`ast.literal_eval()`](https://docs.python.org/3/library/ast.html#ast.literal_eval)，该函数可以用只包含字面的表达式安全地评估字符串。\n",
    ">\n",
    "> 引发一个以代码对象为参数的[auditing event](https://docs.python.org/3/library/sys.html#auditing) `exec`。也可能引发代码编译事件。"
   ]
  },
  {
   "cell_type": "code",
   "execution_count": 34,
   "id": "c99cad52-d8cb-494a-a9a5-088387bf1355",
   "metadata": {},
   "outputs": [],
   "source": [
    "# how to use this function exactly?"
   ]
  },
  {
   "cell_type": "markdown",
   "id": "185ee77f-a270-4301-af07-e5a86cbdd508",
   "metadata": {},
   "source": [
    "`exec`(*object*[, *globals*[, *locals*]])\n",
    "\n",
    "This function supports dynamic execution of Python code. *object* must be either a string or a code object. If it is a string, the string is parsed as a suite of Python statements which is then executed (unless a syntax error occurs). [^1] If it is a code object, it is simply executed. In all cases, the code that’s executed is expected to be valid as file input (see the section [File input](https://docs.python.org/3/reference/toplevel_components.html#file-input) in the Reference Manual). Be aware that the [`nonlocal`](https://docs.python.org/3/reference/simple_stmts.html#nonlocal), [`yield`](https://docs.python.org/3/reference/simple_stmts.html#yield), and [`return`](https://docs.python.org/3/reference/simple_stmts.html#return) statements may not be used outside of function definitions even within the context of code passed to the [`exec()`](https://docs.python.org/3/library/functions.html#exec) function. The return value is `None`.\n",
    "\n",
    "In all cases, if the optional parts are omitted, the code is executed in the current scope. If only *globals* is provided, it must be a dictionary (and not a subclass of dictionary), which will be used for both the global and the local variables. If *globals* and *locals* are given, they are used for the global and local variables, respectively. If provided, *locals* can be any mapping object. Remember that at the module level, globals and locals are the same dictionary. If exec gets two separate objects as *globals* and *locals*, the code will be executed as if it were embedded in a class definition.\n",
    "\n",
    "If the *globals* dictionary does not contain a value for the key `__builtins__`, a reference to the dictionary of the built-in module [`builtins`](https://docs.python.org/3/library/builtins.html#module-builtins) is inserted under that key. That way you can control what builtins are available to the executed code by inserting your own `__builtins__` dictionary into *globals* before passing it to [`exec()`](https://docs.python.org/3/library/functions.html#exec).\n",
    "\n",
    "Raises an [auditing event](https://docs.python.org/3/library/sys.html#auditing) `exec` with the code object as the argument. Code compilation events may also be raised.\n",
    "\n",
    "> `exec`(*object*[, *globals*[, *locals*]])\n",
    ">\n",
    "> 这个函数支持Python代码的动态执行。*object*必须是一个字符串或一个代码对象。如果它是一个字符串，该字符串被解析为一套Python语句，然后被执行(除非发生语法错误)。[^1] 如果它是一个代码对象，它被简单地执行。在所有情况下，被执行的代码都被期望为有效的文件输入 (见《参考手册》中的 [文件输入](https://docs.python.org/3/reference/toplevel_components.html#file-input) 一节)。注意[`nonlocal`](https://docs.python.org/3/reference/simple_stmts.html#nonlocal)、[`yield`](https://docs.python.org/3/reference/simple_stmts.html#yield) 和 [`return`](https://docs.python.org/3/reference/simple_stmts.html#return) 语句不能在函数定义之外使用，即使在传递给 [`exec()`](https://docs.python.org/3/library/functions.html#exec) 函数的代码范围内。返回值为`None`。\n",
    ">\n",
    "> 在所有情况下，如果省略了可选部分，代码将在当前范围内执行。如果只提供了*globals*，它必须是一个字典（而不是字典的子类），它将用于全局变量和局部变量。如果提供了*globals*和*locals*，它们将分别用于全局变量和局部变量。如果提供的话，*locals*可以是任何映射对象。记住，在模块级别，globals 和 locals 是同一个字典。如果 exec 得到两个独立的对象作为 *globals* 和 *locals*，代码将被执行，就像它被嵌入到一个类定义中一样。\n",
    ">\n",
    "> 如果 *globals* 字典不包含键值 `__builtins__`，则会在该键下插入对内置模块 [`builtins`](https://docs.python.org/3/library/builtins.html#module-builtins) 字典的引用。这样你就可以通过在传递给 [`exec()`](https://docs.python.org/3/library/functions.html#exec) 之前将你自己的`__builtins__`字典插入*globals*来控制哪些内置模块可以被执行的代码。\n",
    ">\n",
    "> 引发一个以代码对象为参数的[auditing event](https://docs.python.org/3/library/sys.html#auditing) `exec`。也可以引发代码编译事件。"
   ]
  },
  {
   "cell_type": "markdown",
   "id": "1998f797-1b14-443d-b641-65a5249ea531",
   "metadata": {},
   "source": [
    "**Note:** The built-in functions [`globals()`](https://docs.python.org/3/library/functions.html#globals) and [`locals()`](https://docs.python.org/3/library/functions.html#locals) return the current global and local dictionary, respectively, which may be useful to pass around for use as the second and third argument to [`exec()`](https://docs.python.org/3/library/functions.html#exec).\n",
    "\n",
    "**Note:** The default *locals* act as described for function [`locals()`](https://docs.python.org/3/library/functions.html#locals) below: modifications to the default *locals* dictionary should not be attempted. Pass an explicit *locals* dictionary if you need to see effects of the code on *locals* after function [`exec()`](https://docs.python.org/3/library/functions.html#exec) returns.\n",
    "\n",
    "> **注意:** 内置函数 [`globals()`](https://docs.python.org/3/library/functions.html#globals) 和 [`locals()`](https://docs.python.org/3/library/functions.html#locals) 分别返回当前的全局和局部字典，作为 [`exec()`](https://docs.python.org/3/library/functions.html#exec) 的第二和第三个参数使用，可能很有用。\n",
    ">\n",
    "> **注意：**默认的*locals*的作用与下面函数 [`locals()`](https://docs.python.org/3/library/functions.html#locals) 的描述相同。不应尝试修改默认的*locals*字典。如果你需要在函数 [`exec()`](https://docs.python.org/3/library/functions.html#exec) 返回后看到代码对*locals*的影响，请传递一个明确的*locals*字典。"
   ]
  },
  {
   "cell_type": "markdown",
   "id": "0e7f2915-302b-4ad4-8360-42a8c0389599",
   "metadata": {},
   "source": [
    "`filter`(*function*, *iterable*)\n",
    "\n",
    "Construct an iterator from those elements of *iterable* for which *function* returns true. *iterable* may be either a sequence, a container which supports iteration, or an iterator. If *function* is `None`, the identity function is assumed, that is, all elements of *iterable* that are false are removed.\n",
    "\n",
    "Note that `filter(function, iterable)` is equivalent to the generator expression `(item for item in iterable if function(item))` if function is not `None` and `(item for item in iterable if item)` if function is `None`.\n",
    "\n",
    "See [`itertools.filterfalse()`](https://docs.python.org/3/library/itertools.html#itertools.filterfalse) for the complementary function that returns elements of *iterable* for which *function* returns false.\n",
    "\n",
    "> `filter`(*function*, *iterable*)\n",
    ">\n",
    "> 从*iterable*中那些*function*返回true的元素中构造一个迭代器。*iterable*可以是一个序列，一个支持迭代的容器，或者一个迭代器。如果*function*是 `None`，则假定是同一函数，也就是说，*iterable*中所有为假的元素都被移除。\n",
    ">\n",
    "> 注意 `filter(function, iterable)` 等同于生成器表达式 `(item for item in iterable if function(item))` ，如果函数不是 `None`；`(item for item in iterable if item) `如果函数是 `None`。\n",
    ">\n",
    "> 参见 [`itertools.filterfalse()`](https://docs.python.org/3/library/itertools.html#itertools.filterfalse) 以了解补充函数，该函数返回*iterable*的元素，而*function*返回false"
   ]
  },
  {
   "cell_type": "code",
   "execution_count": 35,
   "id": "6351797a-68b3-461f-8190-747a1faeb530",
   "metadata": {},
   "outputs": [
    {
     "data": {
      "text/plain": [
       "[1, 2, 4, 3]"
      ]
     },
     "execution_count": 35,
     "metadata": {},
     "output_type": "execute_result"
    }
   ],
   "source": [
    "# how to use this function?\n",
    "a = [1, 2, 0, None, False, 4, 3]\n",
    "\n",
    "list(filter(None, a))"
   ]
  },
  {
   "cell_type": "markdown",
   "id": "964536b7-84fe-4334-8770-602f17504c37",
   "metadata": {},
   "source": [
    "*class* `float`([*x*])\n",
    "\n",
    "Return a floating point number constructed from a number or string *x*.\n",
    "\n",
    "If the argument is a string, it should contain a decimal number, optionally preceded by a sign, and optionally embedded in whitespace. The optional sign may be `'+'` or `'-'`; a `'+'` sign has no effect on the value produced. The argument may also be a string representing a NaN (not-a-number), or positive or negative infinity. More precisely, the input must conform to the following grammar after leading and trailing whitespace characters are removed:\n",
    "\n",
    "```\n",
    "sign           ::=  \"+\" | \"-\"\n",
    "infinity       ::=  \"Infinity\" | \"inf\"\n",
    "nan            ::=  \"nan\"\n",
    "numeric_value  ::=  floatnumber | infinity | nan\n",
    "numeric_string ::=  [sign] numeric_value\n",
    "```\n",
    "\n",
    "Here `floatnumber` is the form of a Python floating-point literal, described in [Floating point literals](https://docs.python.org/3/reference/lexical_analysis.html#floating). Case is not significant, so, for example, “inf”, “Inf”, “INFINITY”, and “iNfINity” are all acceptable spellings for positive infinity.\n",
    "\n",
    "Otherwise, if the argument is an integer or a floating point number, a floating point number with the same value (within Python’s floating point precision) is returned. If the argument is outside the range of a Python float, an [`OverflowError`](https://docs.python.org/3/library/exceptions.html#OverflowError) will be raised.\n",
    "\n",
    "For a general Python object `x`, `float(x)` delegates to `x.__float__()`. If `__float__()` is not defined then it falls back to `__index__()`.\n",
    "\n",
    "If no argument is given, `0.0` is returned.\n",
    "\n",
    "Examples:\n",
    "\n",
    "> *class* `float`([*x*])\n",
    ">\n",
    "> 返回一个由数字或字符串*x*构建的浮点数。\n",
    ">\n",
    "> 如果参数是一个字符串，它应该包含一个十进制数字，前面可以选择一个符号，也可以选择嵌入空格。可选的符号可以是 `'+'` 或 `'-'` ；`'+'` 符号对生成的值没有影响。参数也可以是一个字符串，代表NaN（非数字），或正负无穷大。更确切地说，在去除前导和尾部的空白字符后，输入必须符合以下语法。\n",
    ">\n",
    "> ```\n",
    "> sign ::= \"+\" | \"-\"\n",
    "> infinity ::= \"Infinity\" | \"inf\"\n",
    "> nan ::= \"nan\"\n",
    "> numeric_value ::= floatnumber | infinity | nan\n",
    "> numeric_string ::= [sign] numeric_value\n",
    "> ```\n",
    ">\n",
    "> 这里 `floatnumber` 是Python浮点字头的形式，在[浮点字头](https://docs.python.org/3/reference/lexical_analysis.html#floating)中描述。大小写并不重要，所以，例如，\"inf\"、\"Inf\"、\"INFINITY \"和 \"iNfINity\" 都是可以接受的正无穷的拼写。\n",
    ">\n",
    "> 否则，如果参数是一个整数或一个浮点数，将返回一个具有相同值的浮点数（在Python的浮点数精度范围内）。如果参数超出了Python浮点数的范围，将引发一个 [`OverflowError`](https://docs.python.org/3/library/exceptions.html#OverflowError)。\n",
    ">\n",
    "> 对于一个普通的Python对象 `x`，`float(x) `委托给 `x.__float__()`。如 果`__float__() `没有被定义，那么它将返回到 `__index__()`。\n",
    ">\n",
    "> 如果没有给出参数，则返回 `0.0`。\n",
    ">\n",
    "> 例子："
   ]
  },
  {
   "cell_type": "code",
   "execution_count": 36,
   "id": "6cd1f390-e33a-4c2f-92ee-98855a9b656f",
   "metadata": {},
   "outputs": [
    {
     "data": {
      "text/plain": [
       "1.23"
      ]
     },
     "execution_count": 36,
     "metadata": {},
     "output_type": "execute_result"
    },
    {
     "data": {
      "text/plain": [
       "-12345.0"
      ]
     },
     "execution_count": 36,
     "metadata": {},
     "output_type": "execute_result"
    },
    {
     "data": {
      "text/plain": [
       "0.001"
      ]
     },
     "execution_count": 36,
     "metadata": {},
     "output_type": "execute_result"
    },
    {
     "data": {
      "text/plain": [
       "0.1"
      ]
     },
     "execution_count": 36,
     "metadata": {},
     "output_type": "execute_result"
    },
    {
     "data": {
      "text/plain": [
       "1000000.0"
      ]
     },
     "execution_count": 36,
     "metadata": {},
     "output_type": "execute_result"
    },
    {
     "data": {
      "text/plain": [
       "-inf"
      ]
     },
     "execution_count": 36,
     "metadata": {},
     "output_type": "execute_result"
    }
   ],
   "source": [
    "float('+1.23')\n",
    "\n",
    "float('    -12345\\n')\n",
    "\n",
    "float('1e-003')\n",
    "float('1e-001')\n",
    "\n",
    "float('+1E6')\n",
    "\n",
    "float('-Infinity')"
   ]
  },
  {
   "cell_type": "markdown",
   "id": "bb68cc74-4f24-4c14-acfc-7033621f5c02",
   "metadata": {},
   "source": [
    "The float type is described in [Numeric Types — int, float, complex](https://docs.python.org/3/library/stdtypes.html#typesnumeric).\n",
    "\n",
    "*Changed in version 3.6:* Grouping digits with underscores as in code literals is allowed.\n",
    "\n",
    "*Changed in version 3.7:* *x* is now a positional-only parameter.\n",
    "\n",
    "*Changed in version 3.8:* Falls back to `__index__()` if `__float__()` is not defined.\n",
    "\n",
    "> Float类型在[Numeric Types - int, float, complex](https://docs.python.org/3/library/stdtypes.html#typesnumeric)中描述。\n",
    ">\n",
    "> *在3.6版中改变了：*允许用下划线对数字进行分组，就像在代码字面上一样。\n",
    ">\n",
    "> *在3.7版中做了修改：* *x*现在是一个只有位置的参数。\n",
    ">\n",
    "> *在3.8版中改变了：*如果没有定义 `__float__()`，则退回到 `__index__()`。"
   ]
  },
  {
   "cell_type": "markdown",
   "id": "64d0e05d-d51d-4aaf-9c49-e48c14861e6e",
   "metadata": {},
   "source": [
    "`format`(*value*[, *format_spec*])\n",
    "\n",
    "Convert a *value* to a “formatted” representation, as controlled by *format_spec*. The interpretation of *format_spec* will depend on the type of the *value* argument; however, there is a standard formatting syntax that is used by most built-in types: [Format Specification Mini-Language](https://docs.python.org/3/library/string.html#formatspec).\n",
    "\n",
    "The default *format_spec* is an empty string which usually gives the same effect as calling [`str(value)`](https://docs.python.org/3/library/stdtypes.html#str).\n",
    "\n",
    "A call to `format(value, format_spec)` is translated to `type(value).__format__(value, format_spec)` which bypasses the instance dictionary when searching for the value’s `__format__()` method. A [`TypeError`](https://docs.python.org/3/library/exceptions.html#TypeError) exception is raised if the method search reaches [`object`](https://docs.python.org/3/library/functions.html#object) and the *format_spec* is non-empty, or if either the *format_spec* or the return value are not strings.\n",
    "\n",
    "*Changed in version 3.4:* `object().__format__(format_spec)` raises [`TypeError`](https://docs.python.org/3/library/exceptions.html#TypeError) if *format_spec* is not an empty string.\n",
    "\n",
    "> `format`(*value*[, *format_spec*])\n",
    ">\n",
    "> 将一个*value*转换为一个 \"格式化（formatted）\"的表示，由*format_spec*控制。对*format_spec*的解释将取决于*value*参数的类型；然而，有一个标准的格式化语法，被大多数内置类型所使用：[Format Specification Mini-Language](https://docs.python.org/3/library/string.html#formatspec)。\n",
    ">\n",
    "> 默认的*format_spec*是一个空字符串，这通常会产生与调用 [`str(value)`](https://docs.python.org/3/library/stdtypes.html#str) 相同的效果。\n",
    ">\n",
    "> 对 `format(value, format_spec)` 的调用被翻译成 `type(value).__format__(value, format_spec)`，在搜索value的 `__format__()` 方法时，会绕过实例字典。如果方法搜索到 [`object`](https://docs.python.org/3/library/functions.html#object)，并且*format_spec*非空，或者*format_spec*和返回值都不是字符串，就会产生一个 [`TypeError`](https://docs.python.org/3/library/exceptions.html#TypeError) 异常。\n",
    ">\n",
    "> *在3.4版本中改变了：* `object().__format__(format_spec)` 如果*format_spec*不是一个空字符串，则引发[`TypeError`](https://docs.python.org/3/library/exceptions.html#TypeError)。"
   ]
  },
  {
   "cell_type": "code",
   "execution_count": 37,
   "id": "0d93d4d2-d213-489c-b572-1fd8abad13ba",
   "metadata": {},
   "outputs": [
    {
     "data": {
      "text/plain": [
       "'23'"
      ]
     },
     "execution_count": 37,
     "metadata": {},
     "output_type": "execute_result"
    },
    {
     "data": {
      "text/plain": [
       "'[1, 2]'"
      ]
     },
     "execution_count": 37,
     "metadata": {},
     "output_type": "execute_result"
    },
    {
     "data": {
      "text/plain": [
       "'string'"
      ]
     },
     "execution_count": 37,
     "metadata": {},
     "output_type": "execute_result"
    }
   ],
   "source": [
    "format(23)\n",
    "format([1,2])\n",
    "format('string')"
   ]
  },
  {
   "cell_type": "markdown",
   "id": "642ec220-6e11-4350-a52c-5b3e869c2143",
   "metadata": {},
   "source": [
    "*class* `frozenset`([*iterable*])\n",
    "\n",
    "Return a new [`frozenset`](https://docs.python.org/3/library/stdtypes.html#frozenset) object, optionally with elements taken from *iterable*. `frozenset` is a built-in class. See [`frozenset`](https://docs.python.org/3/library/stdtypes.html#frozenset) and [Set Types — set, frozenset](https://docs.python.org/3/library/stdtypes.html#types-set) for documentation about this class.\n",
    "\n",
    "For other containers see the built-in [`set`](https://docs.python.org/3/library/stdtypes.html#set), [`list`](https://docs.python.org/3/library/stdtypes.html#list), [`tuple`](https://docs.python.org/3/library/stdtypes.html#tuple), and [`dict`](https://docs.python.org/3/library/stdtypes.html#dict) classes, as well as the [`collections`](https://docs.python.org/3/library/collections.html#module-collections) module.\n",
    "\n",
    "> *class* `frozenset`([*iterable*] )\n",
    ">\n",
    "> 返回一个新的 [`frozenset`](https://docs.python.org/3/library/stdtypes.html#frozenset) 对象，可以选择从*iterable*中获取元素。`frozenset` 是一个内置类。关于这个类的文档，请看 [`frozenset`](https://docs.python.org/3/library/stdtypes.html#frozenset) 和 [Set Types - set, frozenset](https://docs.python.org/3/library/stdtypes.html#types-set) 。\n",
    ">\n",
    "> 关于其他的容器，请参见内置的 [`set`](https://docs.python.org/3/library/stdtypes.html#set), [`list`](https://docs.python.org/3/library/stdtypes.html#list), [`tuple`](https://docs.python.org/3/library/stdtypes.html#tuple), 和 [`dict`](https://docs.python.org/3/library/stdtypes.html#dict) 类, 以及 [`collections`](https://docs.python.org/3/library/collections.html#module-collections) 模块。"
   ]
  },
  {
   "cell_type": "code",
   "execution_count": 38,
   "id": "f5414508-a02c-4e03-ad09-63d51cbd8153",
   "metadata": {},
   "outputs": [
    {
     "data": {
      "text/plain": [
       "frozenset({1, 2, 3})"
      ]
     },
     "execution_count": 38,
     "metadata": {},
     "output_type": "execute_result"
    },
    {
     "data": {
      "text/plain": [
       "frozenset({1, 2, 3})"
      ]
     },
     "execution_count": 38,
     "metadata": {},
     "output_type": "execute_result"
    },
    {
     "data": {
      "text/plain": [
       "frozenset({0, 1, 2, 3, 4, 5, 6, 7, 8, 9})"
      ]
     },
     "execution_count": 38,
     "metadata": {},
     "output_type": "execute_result"
    }
   ],
   "source": [
    "frozenset([1,2,3])\n",
    "frozenset((1,2,3))\n",
    "frozenset(i for i in range(10))"
   ]
  },
  {
   "cell_type": "markdown",
   "id": "4852f161-2919-45c1-8360-13179e1c4f02",
   "metadata": {},
   "source": [
    "`getattr`(*object*, *name*[, *default*])\n",
    "\n",
    "Return the value of the named attribute of *object*. *name* must be a string. If the string is the name of one of the object’s attributes, the result is the value of that attribute. For example, `getattr(x, 'foobar')` is equivalent to `x.foobar`. If the named attribute does not exist, *default* is returned if provided, otherwise [`AttributeError`](https://docs.python.org/3/library/exceptions.html#AttributeError) is raised.\n",
    "\n",
    "> `getattr`(*object*, *name*[, *default*])\n",
    ">\n",
    "> 返回*object*的指定属性的值。*name*必须是一个字符串。如果这个字符串是对象的一个属性的名称，结果就是该属性的值。例如，`getattr(x, 'foobar')`相当于 `x.foobar`。如果命名的属性不存在，如果提供了*default*就会返回，否则会引发[`AttributeError`](https://docs.python.org/3/library/exceptions.html#AttributeError)。"
   ]
  },
  {
   "cell_type": "markdown",
   "id": "ea9ac4c2-105d-4e48-acdf-26cf82898707",
   "metadata": {},
   "source": [
    "**Note:** Since [private name mangling](https://docs.python.org/3/reference/expressions.html#private-name-mangling) happens at compilation time, one must manually mangle a private attribute’s (attributes with two leading underscores) name in order to retrieve it with [`getattr()`](https://docs.python.org/3/library/functions.html#getattr).\n",
    "\n",
    "> **注意：**由于[私有名称处理](https://docs.python.org/3/reference/expressions.html#private-name-mangling)发生在编译时，我们必须手动处理一个私有属性的（有两个前导下划线的属性）名称，以便用[`getattr()`](https://docs.python.org/3/library/functions.html#getattr)来检索它。"
   ]
  },
  {
   "cell_type": "code",
   "execution_count": 39,
   "id": "0fbbc6e3-f002-40a1-9285-71eab262c4a2",
   "metadata": {},
   "outputs": [],
   "source": [
    "# how to use this function?"
   ]
  },
  {
   "cell_type": "markdown",
   "id": "17c26b8a-d737-47f0-949d-1e00e119f7e0",
   "metadata": {},
   "source": [
    "`globals`()\n",
    "\n",
    "Return the dictionary implementing the current module namespace. For code within functions, this is set when the function is defined and remains the same regardless of where the function is called.\n",
    "\n",
    "> 返回实现当前模块命名空间的字典。对于函数内的代码，这是在定义函数时设置的，无论函数在哪里被调用都保持不变。"
   ]
  },
  {
   "cell_type": "code",
   "execution_count": 40,
   "id": "1c7f7534-da83-4556-b77a-2cc83b3b6b32",
   "metadata": {
    "tags": []
   },
   "outputs": [
    {
     "data": {
      "text/plain": [
       "{'__name__': '__main__',\n",
       " '__doc__': 'Automatically created module for IPython interactive environment',\n",
       " '__package__': None,\n",
       " '__loader__': None,\n",
       " '__spec__': None,\n",
       " '__builtin__': <module 'builtins' (built-in)>,\n",
       " '__builtins__': <module 'builtins' (built-in)>,\n",
       " '_ih': ['',\n",
       "  'from IPython.core.interactiveshell import InteractiveShell\\nInteractiveShell.ast_node_interactivity = \"all\"',\n",
       "  'class C(B):\\n    def method(self, arg):\\n        super().method(arg)   # This does the same thing as: super(C, self).method(arg)',\n",
       "  't = tuple(x*2 for x in range(10))',\n",
       "  't = tuple(x*2 for x in range(10))\\nt',\n",
       "  \"class X:\\n    a = 1\\n    \\nX = type('X', (), dict(a=1))\",\n",
       "  \"class X:\\n    a = 1\\n    \\nX = type('X', (), dict(a=1))\\ntype(X)\",\n",
       "  'from IPython.core.interactiveshell import InteractiveShell\\nInteractiveShell.ast_node_interactivity = \"all\"',\n",
       "  'abs(42)\\n\\nabs(-3.14)\\n\\nabs(8.1j)',\n",
       "  'L = [1, 2, 3, 4]\\nL.__iter__()',\n",
       "  'def all(iterable):\\n    for element in iterable:\\n        if not element:\\n            return False\\n    return True\\n\\n\\nall(L)\\n\\nhelp(all)\\n\\nall(L)',\n",
       "  'help(any)',\n",
       "  'any(L)\\n\\nL1 = []\\n\\nany(L1)',\n",
       "  'def any(iterable):\\n    for element in iterable:\\n        if element:\\n            return True\\n    return False\\n\\nany(L)\\nany(L1)',\n",
       "  'help(ascii)\\n\\nhelp(repr)',\n",
       "  \"ascii('\\\\s')\\nrepr('\\\\s')\",\n",
       "  'bin(3)\\n\\nbin(-10)',\n",
       "  \"format(14, '#b'), format(14, 'b')\\n\\nf'{14:#b}', f'{14:b}'\",\n",
       "  \"bool()\\n\\nbool([])\\n\\nbool((2,))\\n\\nbool({})    ## 空集？\\n\\nbool(set())  # 创建空集的bool值\\n\\nbool({'a':1})\\n\\nbool(dict())   # 用dict()创建空字典\\n\\nbool(a := {})    # 用赋值 a = {} 的方式创建空字典，:= walrus海象命名法\\n\\na\\n\\ntype(a)\",\n",
       "  '# how to use this function?',\n",
       "  \"# how to use this function?\\n\\nbytearray('string', encoding='utf-8')\\nbytearray(23)\\nbytearray([1,2,3,4])\\nbytearray()\",\n",
       "  '# how to use this function?\\nbytes()\\nbytes(42)\\nbytes([1,2,3,4])',\n",
       "  '# how to use this function\\n\\ncallable(type(1))',\n",
       "  \"chr(100)\\nord('d')\",\n",
       "  '# how to use this function?',\n",
       "  'complex(2,3)',\n",
       "  \"# how to the first and third usages?\\n\\ndict({'s':1})\",\n",
       "  'import struct\\ndir()    # show the name in the module namespace',\n",
       "  'dir(struct)    # show the names in the struct module',\n",
       "  \"class Shape:\\n    def __dir__(self):\\n        return ['area', 'perimeter', 'location']\\n    \\ns = Shape()\\ndir(s)\",\n",
       "  'import math\\ndivmod(42, 5)\\n\\n(42/5, 42%5)\\n(math.floor(42/5), 42%5)',\n",
       "  \"seasons = ['Spring', 'Summer', 'Fall', 'Winter']\\nlist(enumerate(seasons))\\nlist(enumerate(seasons,start=1))\",\n",
       "  'def enumerate(sequence, start = 0):\\n    n = start\\n    for elem in sequence:\\n        yield n, elem\\n        n += 1\\n        ',\n",
       "  \"x = 1\\neval('x+1')\",\n",
       "  '# how to use this function exactly?',\n",
       "  '# how to use this function?\\na = [1, 2, 0, None, False, 4, 3]\\n\\nlist(filter(None, a))',\n",
       "  \"float('+1.23')\\n\\nfloat('    -12345\\\\n')\\n\\nfloat('1e-003')\\nfloat('1e-001')\\n\\nfloat('+1E6')\\n\\nfloat('-Infinity')\",\n",
       "  \"format(23)\\nformat([1,2])\\nformat('string')\",\n",
       "  'frozenset([1,2,3])\\nfrozenset((1,2,3))\\nfrozenset(i for i in range(10))',\n",
       "  '# how to use this function?',\n",
       "  'globals()'],\n",
       " '_oh': {4: (0, 2, 4, 6, 8, 10, 12, 14, 16, 18),\n",
       "  6: type,\n",
       "  8: 8.1,\n",
       "  9: <list_iterator at 0x15d42aac280>,\n",
       "  10: True,\n",
       "  12: False,\n",
       "  13: False,\n",
       "  15: \"'\\\\\\\\s'\",\n",
       "  16: '-0b1010',\n",
       "  17: ('0b1110', '1110'),\n",
       "  18: dict,\n",
       "  20: bytearray(b''),\n",
       "  21: b'\\x01\\x02\\x03\\x04',\n",
       "  22: True,\n",
       "  23: 100,\n",
       "  25: (2+3j),\n",
       "  26: {'s': 1},\n",
       "  27: ['In',\n",
       "   'InteractiveShell',\n",
       "   'L',\n",
       "   'L1',\n",
       "   'Out',\n",
       "   'X',\n",
       "   '_',\n",
       "   '_10',\n",
       "   '_12',\n",
       "   '_13',\n",
       "   '_15',\n",
       "   '_16',\n",
       "   '_17',\n",
       "   '_18',\n",
       "   '_20',\n",
       "   '_21',\n",
       "   '_22',\n",
       "   '_23',\n",
       "   '_25',\n",
       "   '_26',\n",
       "   '_4',\n",
       "   '_6',\n",
       "   '_8',\n",
       "   '_9',\n",
       "   '__',\n",
       "   '___',\n",
       "   '__builtin__',\n",
       "   '__builtins__',\n",
       "   '__doc__',\n",
       "   '__loader__',\n",
       "   '__name__',\n",
       "   '__package__',\n",
       "   '__spec__',\n",
       "   '_dh',\n",
       "   '_i',\n",
       "   '_i1',\n",
       "   '_i10',\n",
       "   '_i11',\n",
       "   '_i12',\n",
       "   '_i13',\n",
       "   '_i14',\n",
       "   '_i15',\n",
       "   '_i16',\n",
       "   '_i17',\n",
       "   '_i18',\n",
       "   '_i19',\n",
       "   '_i2',\n",
       "   '_i20',\n",
       "   '_i21',\n",
       "   '_i22',\n",
       "   '_i23',\n",
       "   '_i24',\n",
       "   '_i25',\n",
       "   '_i26',\n",
       "   '_i27',\n",
       "   '_i3',\n",
       "   '_i4',\n",
       "   '_i5',\n",
       "   '_i6',\n",
       "   '_i7',\n",
       "   '_i8',\n",
       "   '_i9',\n",
       "   '_ih',\n",
       "   '_ii',\n",
       "   '_iii',\n",
       "   '_oh',\n",
       "   'a',\n",
       "   'all',\n",
       "   'any',\n",
       "   'exit',\n",
       "   'get_ipython',\n",
       "   'quit',\n",
       "   'struct',\n",
       "   't'],\n",
       "  28: ['Struct',\n",
       "   '__all__',\n",
       "   '__builtins__',\n",
       "   '__cached__',\n",
       "   '__doc__',\n",
       "   '__file__',\n",
       "   '__loader__',\n",
       "   '__name__',\n",
       "   '__package__',\n",
       "   '__spec__',\n",
       "   '_clearcache',\n",
       "   'calcsize',\n",
       "   'error',\n",
       "   'iter_unpack',\n",
       "   'pack',\n",
       "   'pack_into',\n",
       "   'unpack',\n",
       "   'unpack_from'],\n",
       "  29: ['area', 'location', 'perimeter'],\n",
       "  30: (8, 2),\n",
       "  31: [(1, 'Spring'), (2, 'Summer'), (3, 'Fall'), (4, 'Winter')],\n",
       "  33: 2,\n",
       "  35: [1, 2, 4, 3],\n",
       "  36: -inf,\n",
       "  37: 'string',\n",
       "  38: frozenset({0, 1, 2, 3, 4, 5, 6, 7, 8, 9})},\n",
       " '_dh': [WindowsPath('D:/GitHub/apply-Python-by-Python-tutorial/The Python Standard Library')],\n",
       " 'In': ['',\n",
       "  'from IPython.core.interactiveshell import InteractiveShell\\nInteractiveShell.ast_node_interactivity = \"all\"',\n",
       "  'class C(B):\\n    def method(self, arg):\\n        super().method(arg)   # This does the same thing as: super(C, self).method(arg)',\n",
       "  't = tuple(x*2 for x in range(10))',\n",
       "  't = tuple(x*2 for x in range(10))\\nt',\n",
       "  \"class X:\\n    a = 1\\n    \\nX = type('X', (), dict(a=1))\",\n",
       "  \"class X:\\n    a = 1\\n    \\nX = type('X', (), dict(a=1))\\ntype(X)\",\n",
       "  'from IPython.core.interactiveshell import InteractiveShell\\nInteractiveShell.ast_node_interactivity = \"all\"',\n",
       "  'abs(42)\\n\\nabs(-3.14)\\n\\nabs(8.1j)',\n",
       "  'L = [1, 2, 3, 4]\\nL.__iter__()',\n",
       "  'def all(iterable):\\n    for element in iterable:\\n        if not element:\\n            return False\\n    return True\\n\\n\\nall(L)\\n\\nhelp(all)\\n\\nall(L)',\n",
       "  'help(any)',\n",
       "  'any(L)\\n\\nL1 = []\\n\\nany(L1)',\n",
       "  'def any(iterable):\\n    for element in iterable:\\n        if element:\\n            return True\\n    return False\\n\\nany(L)\\nany(L1)',\n",
       "  'help(ascii)\\n\\nhelp(repr)',\n",
       "  \"ascii('\\\\s')\\nrepr('\\\\s')\",\n",
       "  'bin(3)\\n\\nbin(-10)',\n",
       "  \"format(14, '#b'), format(14, 'b')\\n\\nf'{14:#b}', f'{14:b}'\",\n",
       "  \"bool()\\n\\nbool([])\\n\\nbool((2,))\\n\\nbool({})    ## 空集？\\n\\nbool(set())  # 创建空集的bool值\\n\\nbool({'a':1})\\n\\nbool(dict())   # 用dict()创建空字典\\n\\nbool(a := {})    # 用赋值 a = {} 的方式创建空字典，:= walrus海象命名法\\n\\na\\n\\ntype(a)\",\n",
       "  '# how to use this function?',\n",
       "  \"# how to use this function?\\n\\nbytearray('string', encoding='utf-8')\\nbytearray(23)\\nbytearray([1,2,3,4])\\nbytearray()\",\n",
       "  '# how to use this function?\\nbytes()\\nbytes(42)\\nbytes([1,2,3,4])',\n",
       "  '# how to use this function\\n\\ncallable(type(1))',\n",
       "  \"chr(100)\\nord('d')\",\n",
       "  '# how to use this function?',\n",
       "  'complex(2,3)',\n",
       "  \"# how to the first and third usages?\\n\\ndict({'s':1})\",\n",
       "  'import struct\\ndir()    # show the name in the module namespace',\n",
       "  'dir(struct)    # show the names in the struct module',\n",
       "  \"class Shape:\\n    def __dir__(self):\\n        return ['area', 'perimeter', 'location']\\n    \\ns = Shape()\\ndir(s)\",\n",
       "  'import math\\ndivmod(42, 5)\\n\\n(42/5, 42%5)\\n(math.floor(42/5), 42%5)',\n",
       "  \"seasons = ['Spring', 'Summer', 'Fall', 'Winter']\\nlist(enumerate(seasons))\\nlist(enumerate(seasons,start=1))\",\n",
       "  'def enumerate(sequence, start = 0):\\n    n = start\\n    for elem in sequence:\\n        yield n, elem\\n        n += 1\\n        ',\n",
       "  \"x = 1\\neval('x+1')\",\n",
       "  '# how to use this function exactly?',\n",
       "  '# how to use this function?\\na = [1, 2, 0, None, False, 4, 3]\\n\\nlist(filter(None, a))',\n",
       "  \"float('+1.23')\\n\\nfloat('    -12345\\\\n')\\n\\nfloat('1e-003')\\nfloat('1e-001')\\n\\nfloat('+1E6')\\n\\nfloat('-Infinity')\",\n",
       "  \"format(23)\\nformat([1,2])\\nformat('string')\",\n",
       "  'frozenset([1,2,3])\\nfrozenset((1,2,3))\\nfrozenset(i for i in range(10))',\n",
       "  '# how to use this function?',\n",
       "  'globals()'],\n",
       " 'Out': {4: (0, 2, 4, 6, 8, 10, 12, 14, 16, 18),\n",
       "  6: type,\n",
       "  8: 8.1,\n",
       "  9: <list_iterator at 0x15d42aac280>,\n",
       "  10: True,\n",
       "  12: False,\n",
       "  13: False,\n",
       "  15: \"'\\\\\\\\s'\",\n",
       "  16: '-0b1010',\n",
       "  17: ('0b1110', '1110'),\n",
       "  18: dict,\n",
       "  20: bytearray(b''),\n",
       "  21: b'\\x01\\x02\\x03\\x04',\n",
       "  22: True,\n",
       "  23: 100,\n",
       "  25: (2+3j),\n",
       "  26: {'s': 1},\n",
       "  27: ['In',\n",
       "   'InteractiveShell',\n",
       "   'L',\n",
       "   'L1',\n",
       "   'Out',\n",
       "   'X',\n",
       "   '_',\n",
       "   '_10',\n",
       "   '_12',\n",
       "   '_13',\n",
       "   '_15',\n",
       "   '_16',\n",
       "   '_17',\n",
       "   '_18',\n",
       "   '_20',\n",
       "   '_21',\n",
       "   '_22',\n",
       "   '_23',\n",
       "   '_25',\n",
       "   '_26',\n",
       "   '_4',\n",
       "   '_6',\n",
       "   '_8',\n",
       "   '_9',\n",
       "   '__',\n",
       "   '___',\n",
       "   '__builtin__',\n",
       "   '__builtins__',\n",
       "   '__doc__',\n",
       "   '__loader__',\n",
       "   '__name__',\n",
       "   '__package__',\n",
       "   '__spec__',\n",
       "   '_dh',\n",
       "   '_i',\n",
       "   '_i1',\n",
       "   '_i10',\n",
       "   '_i11',\n",
       "   '_i12',\n",
       "   '_i13',\n",
       "   '_i14',\n",
       "   '_i15',\n",
       "   '_i16',\n",
       "   '_i17',\n",
       "   '_i18',\n",
       "   '_i19',\n",
       "   '_i2',\n",
       "   '_i20',\n",
       "   '_i21',\n",
       "   '_i22',\n",
       "   '_i23',\n",
       "   '_i24',\n",
       "   '_i25',\n",
       "   '_i26',\n",
       "   '_i27',\n",
       "   '_i3',\n",
       "   '_i4',\n",
       "   '_i5',\n",
       "   '_i6',\n",
       "   '_i7',\n",
       "   '_i8',\n",
       "   '_i9',\n",
       "   '_ih',\n",
       "   '_ii',\n",
       "   '_iii',\n",
       "   '_oh',\n",
       "   'a',\n",
       "   'all',\n",
       "   'any',\n",
       "   'exit',\n",
       "   'get_ipython',\n",
       "   'quit',\n",
       "   'struct',\n",
       "   't'],\n",
       "  28: ['Struct',\n",
       "   '__all__',\n",
       "   '__builtins__',\n",
       "   '__cached__',\n",
       "   '__doc__',\n",
       "   '__file__',\n",
       "   '__loader__',\n",
       "   '__name__',\n",
       "   '__package__',\n",
       "   '__spec__',\n",
       "   '_clearcache',\n",
       "   'calcsize',\n",
       "   'error',\n",
       "   'iter_unpack',\n",
       "   'pack',\n",
       "   'pack_into',\n",
       "   'unpack',\n",
       "   'unpack_from'],\n",
       "  29: ['area', 'location', 'perimeter'],\n",
       "  30: (8, 2),\n",
       "  31: [(1, 'Spring'), (2, 'Summer'), (3, 'Fall'), (4, 'Winter')],\n",
       "  33: 2,\n",
       "  35: [1, 2, 4, 3],\n",
       "  36: -inf,\n",
       "  37: 'string',\n",
       "  38: frozenset({0, 1, 2, 3, 4, 5, 6, 7, 8, 9})},\n",
       " 'get_ipython': <bound method InteractiveShell.get_ipython of <ipykernel.zmqshell.ZMQInteractiveShell object at 0x0000015D41E48CD0>>,\n",
       " 'exit': <IPython.core.autocall.ZMQExitAutocall at 0x15d41e49270>,\n",
       " 'quit': <IPython.core.autocall.ZMQExitAutocall at 0x15d41e49270>,\n",
       " '_': frozenset({0, 1, 2, 3, 4, 5, 6, 7, 8, 9}),\n",
       " '__': frozenset({1, 2, 3}),\n",
       " '___': frozenset({1, 2, 3}),\n",
       " '_i': '# how to use this function?',\n",
       " '_ii': 'frozenset([1,2,3])\\nfrozenset((1,2,3))\\nfrozenset(i for i in range(10))',\n",
       " '_iii': \"format(23)\\nformat([1,2])\\nformat('string')\",\n",
       " '_i1': 'from IPython.core.interactiveshell import InteractiveShell\\nInteractiveShell.ast_node_interactivity = \"all\"',\n",
       " 'InteractiveShell': IPython.core.interactiveshell.InteractiveShell,\n",
       " '_i2': 'class C(B):\\n    def method(self, arg):\\n        super().method(arg)   # This does the same thing as: super(C, self).method(arg)',\n",
       " '_i3': 't = tuple(x*2 for x in range(10))',\n",
       " 't': (0, 2, 4, 6, 8, 10, 12, 14, 16, 18),\n",
       " '_i4': 't = tuple(x*2 for x in range(10))\\nt',\n",
       " '_4': (0, 2, 4, 6, 8, 10, 12, 14, 16, 18),\n",
       " '_i5': \"class X:\\n    a = 1\\n    \\nX = type('X', (), dict(a=1))\",\n",
       " 'X': __main__.X,\n",
       " '_i6': \"class X:\\n    a = 1\\n    \\nX = type('X', (), dict(a=1))\\ntype(X)\",\n",
       " '_6': type,\n",
       " '_i7': 'from IPython.core.interactiveshell import InteractiveShell\\nInteractiveShell.ast_node_interactivity = \"all\"',\n",
       " '_i8': 'abs(42)\\n\\nabs(-3.14)\\n\\nabs(8.1j)',\n",
       " '_8': 8.1,\n",
       " '_i9': 'L = [1, 2, 3, 4]\\nL.__iter__()',\n",
       " 'L': [1, 2, 3, 4],\n",
       " '_9': <list_iterator at 0x15d42aac280>,\n",
       " '_i10': 'def all(iterable):\\n    for element in iterable:\\n        if not element:\\n            return False\\n    return True\\n\\n\\nall(L)\\n\\nhelp(all)\\n\\nall(L)',\n",
       " 'all': <function __main__.all(iterable)>,\n",
       " '_10': True,\n",
       " '_i11': 'help(any)',\n",
       " '_i12': 'any(L)\\n\\nL1 = []\\n\\nany(L1)',\n",
       " '_12': False,\n",
       " 'L1': [],\n",
       " '_i13': 'def any(iterable):\\n    for element in iterable:\\n        if element:\\n            return True\\n    return False\\n\\nany(L)\\nany(L1)',\n",
       " 'any': <function __main__.any(iterable)>,\n",
       " '_13': False,\n",
       " '_i14': 'help(ascii)\\n\\nhelp(repr)',\n",
       " '_i15': \"ascii('\\\\s')\\nrepr('\\\\s')\",\n",
       " '_15': \"'\\\\\\\\s'\",\n",
       " '_i16': 'bin(3)\\n\\nbin(-10)',\n",
       " '_16': '-0b1010',\n",
       " '_i17': \"format(14, '#b'), format(14, 'b')\\n\\nf'{14:#b}', f'{14:b}'\",\n",
       " '_17': ('0b1110', '1110'),\n",
       " '_i18': \"bool()\\n\\nbool([])\\n\\nbool((2,))\\n\\nbool({})    ## 空集？\\n\\nbool(set())  # 创建空集的bool值\\n\\nbool({'a':1})\\n\\nbool(dict())   # 用dict()创建空字典\\n\\nbool(a := {})    # 用赋值 a = {} 的方式创建空字典，:= walrus海象命名法\\n\\na\\n\\ntype(a)\",\n",
       " '_18': dict,\n",
       " 'a': [1, 2, 0, None, False, 4, 3],\n",
       " '_i19': '# how to use this function?',\n",
       " '_i20': \"# how to use this function?\\n\\nbytearray('string', encoding='utf-8')\\nbytearray(23)\\nbytearray([1,2,3,4])\\nbytearray()\",\n",
       " '_20': bytearray(b''),\n",
       " '_i21': '# how to use this function?\\nbytes()\\nbytes(42)\\nbytes([1,2,3,4])',\n",
       " '_21': b'\\x01\\x02\\x03\\x04',\n",
       " '_i22': '# how to use this function\\n\\ncallable(type(1))',\n",
       " '_22': True,\n",
       " '_i23': \"chr(100)\\nord('d')\",\n",
       " '_23': 100,\n",
       " '_i24': '# how to use this function?',\n",
       " '_i25': 'complex(2,3)',\n",
       " '_25': (2+3j),\n",
       " '_i26': \"# how to the first and third usages?\\n\\ndict({'s':1})\",\n",
       " '_26': {'s': 1},\n",
       " '_i27': 'import struct\\ndir()    # show the name in the module namespace',\n",
       " 'struct': <module 'struct' from 'C:\\\\Users\\\\Administrator\\\\AppData\\\\Local\\\\Programs\\\\Python\\\\Python310\\\\lib\\\\struct.py'>,\n",
       " '_27': ['In',\n",
       "  'InteractiveShell',\n",
       "  'L',\n",
       "  'L1',\n",
       "  'Out',\n",
       "  'X',\n",
       "  '_',\n",
       "  '_10',\n",
       "  '_12',\n",
       "  '_13',\n",
       "  '_15',\n",
       "  '_16',\n",
       "  '_17',\n",
       "  '_18',\n",
       "  '_20',\n",
       "  '_21',\n",
       "  '_22',\n",
       "  '_23',\n",
       "  '_25',\n",
       "  '_26',\n",
       "  '_4',\n",
       "  '_6',\n",
       "  '_8',\n",
       "  '_9',\n",
       "  '__',\n",
       "  '___',\n",
       "  '__builtin__',\n",
       "  '__builtins__',\n",
       "  '__doc__',\n",
       "  '__loader__',\n",
       "  '__name__',\n",
       "  '__package__',\n",
       "  '__spec__',\n",
       "  '_dh',\n",
       "  '_i',\n",
       "  '_i1',\n",
       "  '_i10',\n",
       "  '_i11',\n",
       "  '_i12',\n",
       "  '_i13',\n",
       "  '_i14',\n",
       "  '_i15',\n",
       "  '_i16',\n",
       "  '_i17',\n",
       "  '_i18',\n",
       "  '_i19',\n",
       "  '_i2',\n",
       "  '_i20',\n",
       "  '_i21',\n",
       "  '_i22',\n",
       "  '_i23',\n",
       "  '_i24',\n",
       "  '_i25',\n",
       "  '_i26',\n",
       "  '_i27',\n",
       "  '_i3',\n",
       "  '_i4',\n",
       "  '_i5',\n",
       "  '_i6',\n",
       "  '_i7',\n",
       "  '_i8',\n",
       "  '_i9',\n",
       "  '_ih',\n",
       "  '_ii',\n",
       "  '_iii',\n",
       "  '_oh',\n",
       "  'a',\n",
       "  'all',\n",
       "  'any',\n",
       "  'exit',\n",
       "  'get_ipython',\n",
       "  'quit',\n",
       "  'struct',\n",
       "  't'],\n",
       " '_i28': 'dir(struct)    # show the names in the struct module',\n",
       " '_28': ['Struct',\n",
       "  '__all__',\n",
       "  '__builtins__',\n",
       "  '__cached__',\n",
       "  '__doc__',\n",
       "  '__file__',\n",
       "  '__loader__',\n",
       "  '__name__',\n",
       "  '__package__',\n",
       "  '__spec__',\n",
       "  '_clearcache',\n",
       "  'calcsize',\n",
       "  'error',\n",
       "  'iter_unpack',\n",
       "  'pack',\n",
       "  'pack_into',\n",
       "  'unpack',\n",
       "  'unpack_from'],\n",
       " '_i29': \"class Shape:\\n    def __dir__(self):\\n        return ['area', 'perimeter', 'location']\\n    \\ns = Shape()\\ndir(s)\",\n",
       " 'Shape': __main__.Shape,\n",
       " 's': <__main__.Shape at 0x15d42aae770>,\n",
       " '_29': ['area', 'location', 'perimeter'],\n",
       " '_i30': 'import math\\ndivmod(42, 5)\\n\\n(42/5, 42%5)\\n(math.floor(42/5), 42%5)',\n",
       " 'math': <module 'math' (built-in)>,\n",
       " '_30': (8, 2),\n",
       " '_i31': \"seasons = ['Spring', 'Summer', 'Fall', 'Winter']\\nlist(enumerate(seasons))\\nlist(enumerate(seasons,start=1))\",\n",
       " 'seasons': ['Spring', 'Summer', 'Fall', 'Winter'],\n",
       " '_31': [(1, 'Spring'), (2, 'Summer'), (3, 'Fall'), (4, 'Winter')],\n",
       " '_i32': 'def enumerate(sequence, start = 0):\\n    n = start\\n    for elem in sequence:\\n        yield n, elem\\n        n += 1\\n        ',\n",
       " 'enumerate': <function __main__.enumerate(sequence, start=0)>,\n",
       " '_i33': \"x = 1\\neval('x+1')\",\n",
       " 'x': 1,\n",
       " '_33': 2,\n",
       " '_i34': '# how to use this function exactly?',\n",
       " '_i35': '# how to use this function?\\na = [1, 2, 0, None, False, 4, 3]\\n\\nlist(filter(None, a))',\n",
       " '_35': [1, 2, 4, 3],\n",
       " '_i36': \"float('+1.23')\\n\\nfloat('    -12345\\\\n')\\n\\nfloat('1e-003')\\nfloat('1e-001')\\n\\nfloat('+1E6')\\n\\nfloat('-Infinity')\",\n",
       " '_36': -inf,\n",
       " '_i37': \"format(23)\\nformat([1,2])\\nformat('string')\",\n",
       " '_37': 'string',\n",
       " '_i38': 'frozenset([1,2,3])\\nfrozenset((1,2,3))\\nfrozenset(i for i in range(10))',\n",
       " '_38': frozenset({0, 1, 2, 3, 4, 5, 6, 7, 8, 9}),\n",
       " '_i39': '# how to use this function?',\n",
       " '_i40': 'globals()'}"
      ]
     },
     "execution_count": 40,
     "metadata": {},
     "output_type": "execute_result"
    }
   ],
   "source": [
    "globals()"
   ]
  },
  {
   "cell_type": "markdown",
   "id": "76714fdb-18e7-4eae-b87c-c0fcfc11bb66",
   "metadata": {},
   "source": [
    "`hasattr`(*object*, *name*)\n",
    "\n",
    "The arguments are an object and a string. The result is `True` if the string is the name of one of the object’s attributes, `False` if not. (This is implemented by calling `getattr(object, name)` and seeing whether it raises an [`AttributeError`](https://docs.python.org/3/library/exceptions.html#AttributeError) or not.)\n",
    "\n",
    "> `hasattr`(*object*, *name*)\n",
    ">\n",
    "> 参数是一个对象和一个字符串。如果字符串是对象的一个属性的名称，结果是 `True`，如果不是则返回 `False`。(这是通过调用 `getattr(object, name)`来实现的，看它是否引发一个 [`AttributeError`](https://docs.python.org/3/library/exceptions.html#AttributeError)。)"
   ]
  },
  {
   "cell_type": "code",
   "execution_count": 41,
   "id": "034b5bec-1e2d-490a-9a8f-5101f98be757",
   "metadata": {},
   "outputs": [],
   "source": [
    "class Dog:\n",
    "    \n",
    "    kind = 'canine'\n",
    "    \n",
    "    def __init__(self, name):\n",
    "        self.name = name\n",
    "        self.trick = []\n",
    "        \n",
    "    def add_trick(self, trick):\n",
    "        self.tricks.append(trick)\n",
    "        \n",
    "    def update(self, iterable):\n",
    "        for item in iterable:\n",
    "            self.trick.append(item)"
   ]
  },
  {
   "cell_type": "code",
   "execution_count": 42,
   "id": "fa62150f-3af2-462e-b54d-5825703915a9",
   "metadata": {},
   "outputs": [
    {
     "data": {
      "text/plain": [
       "'canine'"
      ]
     },
     "execution_count": 42,
     "metadata": {},
     "output_type": "execute_result"
    },
    {
     "data": {
      "text/plain": [
       "True"
      ]
     },
     "execution_count": 42,
     "metadata": {},
     "output_type": "execute_result"
    }
   ],
   "source": [
    "getattr(Dog, 'kind')\n",
    "hasattr(Dog, '__init__')"
   ]
  },
  {
   "cell_type": "markdown",
   "id": "dc04a239-072d-43b1-b797-7c0cf44ea248",
   "metadata": {},
   "source": [
    "`hash`(*object*)\n",
    "\n",
    "Return the hash value of the object (if it has one). Hash values are integers. They are used to quickly compare dictionary keys during a dictionary lookup. Numeric values that compare equal have the same hash value (even if they are of different types, as is the case for 1 and 1.0).\n",
    "\n",
    "> `hash`(*object*)\n",
    ">\n",
    "> 返回该对象的哈希值（如果它有的话）。哈希值是整数。它们用于在字典查找过程中快速比较字典的键值。比较相等的数值具有相同的哈希值（即使它们的类型不同，如1和1.0的情况）。\n",
    "\n",
    "**Note:** For objects with custom `__hash__()` methods, note that [`hash()`](https://docs.python.org/3/library/functions.html#hash) truncates the return value based on the bit width of the host machine. See `__hash__()` for details.\n",
    "\n",
    "> **注意：**对于具有自定义 `__hash__()` 方法的对象，注意 [`hash()`](https://docs.python.org/3/library/functions.html#hash) 会根据主机的位宽截断返回值。详见`__hash__()`。"
   ]
  },
  {
   "cell_type": "code",
   "execution_count": 43,
   "id": "3e1d44ab-b855-40da-94a1-0bcfab468215",
   "metadata": {},
   "outputs": [
    {
     "data": {
      "text/plain": [
       "1"
      ]
     },
     "execution_count": 43,
     "metadata": {},
     "output_type": "execute_result"
    },
    {
     "data": {
      "text/plain": [
       "1"
      ]
     },
     "execution_count": 43,
     "metadata": {},
     "output_type": "execute_result"
    }
   ],
   "source": [
    "hash(1)\n",
    "hash(1.0)"
   ]
  },
  {
   "cell_type": "markdown",
   "id": "5da6f86f-2414-4fa1-91e4-bc12d49ae28a",
   "metadata": {},
   "source": [
    "`help`([*object*])\n",
    "\n",
    "Invoke the built-in help system. (This function is intended for interactive use.) If no argument is given, the interactive help system starts on the interpreter console. If the argument is a string, then the string is looked up as the name of a module, function, class, method, keyword, or documentation topic, and a help page is printed on the console. If the argument is any other kind of object, a help page on the object is generated.\n",
    "\n",
    "Note that if a slash(/) appears in the parameter list of a function when invoking [`help()`](https://docs.python.org/3/library/functions.html#help), it means that the parameters prior to the slash are positional-only. For more info, see [the FAQ entry on positional-only parameters](https://docs.python.org/3/faq/programming.html#faq-positional-only-arguments).\n",
    "\n",
    "This function is added to the built-in namespace by the [`site`](https://docs.python.org/3/library/site.html#module-site) module.\n",
    "\n",
    "*Changed in version 3.4:* Changes to [`pydoc`](https://docs.python.org/3/library/pydoc.html#module-pydoc) and [`inspect`](https://docs.python.org/3/library/inspect.html#module-inspect) mean that the reported signatures for callables are now more comprehensive and consistent.\n",
    "\n",
    "> `help`([*object*])\n",
    ">\n",
    "> 调用内置的帮助系统。(该函数用于交互式使用。)如果没有给出参数，交互式帮助系统将在解释器控制台启动。如果参数是一个字符串，那么该字符串将被作为模块、函数、类、方法、关键字或文档主题的名称进行查找，并在控制台打印出一个帮助页面。如果参数是任何其他类型的对象，则会生成一个关于该对象的帮助页面。\n",
    ">\n",
    "> 注意，如果在调用 [`help()`](https://docs.python.org/3/library/functions.html#help) 时，一个斜线(/)出现在一个函数的参数列表中，这意味着斜线之前的参数是仅有位置的。更多信息，请参见[关于位置限定参数的FAQ条目](https://docs.python.org/3/faq/programming.html#faq-positional-only-arguments)。\n",
    ">\n",
    "> 这个函数是由 [`site`](https://docs.python.org/3/library/site.html#module-site) 模块添加到内置命名空间的。\n",
    ">\n",
    "> *3.4版中的变化：* 对 [`pydoc`](https://docs.python.org/3/library/pydoc.html#module-pydoc) 和 [`inspect`](https://docs.python.org/3/library/inspect.html#module-inspect) 的修改意味着现在报告的可调用文件的签名更加全面和一致。"
   ]
  },
  {
   "cell_type": "code",
   "execution_count": 44,
   "id": "fbcc76bc-1a3e-486e-a1ca-8aa86077288b",
   "metadata": {
    "tags": []
   },
   "outputs": [
    {
     "name": "stdout",
     "output_type": "stream",
     "text": [
      "Help on class list in module builtins:\n",
      "\n",
      "class list(object)\n",
      " |  list(iterable=(), /)\n",
      " |  \n",
      " |  Built-in mutable sequence.\n",
      " |  \n",
      " |  If no argument is given, the constructor creates a new empty list.\n",
      " |  The argument must be an iterable if specified.\n",
      " |  \n",
      " |  Methods defined here:\n",
      " |  \n",
      " |  __add__(self, value, /)\n",
      " |      Return self+value.\n",
      " |  \n",
      " |  __contains__(self, key, /)\n",
      " |      Return key in self.\n",
      " |  \n",
      " |  __delitem__(self, key, /)\n",
      " |      Delete self[key].\n",
      " |  \n",
      " |  __eq__(self, value, /)\n",
      " |      Return self==value.\n",
      " |  \n",
      " |  __ge__(self, value, /)\n",
      " |      Return self>=value.\n",
      " |  \n",
      " |  __getattribute__(self, name, /)\n",
      " |      Return getattr(self, name).\n",
      " |  \n",
      " |  __getitem__(...)\n",
      " |      x.__getitem__(y) <==> x[y]\n",
      " |  \n",
      " |  __gt__(self, value, /)\n",
      " |      Return self>value.\n",
      " |  \n",
      " |  __iadd__(self, value, /)\n",
      " |      Implement self+=value.\n",
      " |  \n",
      " |  __imul__(self, value, /)\n",
      " |      Implement self*=value.\n",
      " |  \n",
      " |  __init__(self, /, *args, **kwargs)\n",
      " |      Initialize self.  See help(type(self)) for accurate signature.\n",
      " |  \n",
      " |  __iter__(self, /)\n",
      " |      Implement iter(self).\n",
      " |  \n",
      " |  __le__(self, value, /)\n",
      " |      Return self<=value.\n",
      " |  \n",
      " |  __len__(self, /)\n",
      " |      Return len(self).\n",
      " |  \n",
      " |  __lt__(self, value, /)\n",
      " |      Return self<value.\n",
      " |  \n",
      " |  __mul__(self, value, /)\n",
      " |      Return self*value.\n",
      " |  \n",
      " |  __ne__(self, value, /)\n",
      " |      Return self!=value.\n",
      " |  \n",
      " |  __repr__(self, /)\n",
      " |      Return repr(self).\n",
      " |  \n",
      " |  __reversed__(self, /)\n",
      " |      Return a reverse iterator over the list.\n",
      " |  \n",
      " |  __rmul__(self, value, /)\n",
      " |      Return value*self.\n",
      " |  \n",
      " |  __setitem__(self, key, value, /)\n",
      " |      Set self[key] to value.\n",
      " |  \n",
      " |  __sizeof__(self, /)\n",
      " |      Return the size of the list in memory, in bytes.\n",
      " |  \n",
      " |  append(self, object, /)\n",
      " |      Append object to the end of the list.\n",
      " |  \n",
      " |  clear(self, /)\n",
      " |      Remove all items from list.\n",
      " |  \n",
      " |  copy(self, /)\n",
      " |      Return a shallow copy of the list.\n",
      " |  \n",
      " |  count(self, value, /)\n",
      " |      Return number of occurrences of value.\n",
      " |  \n",
      " |  extend(self, iterable, /)\n",
      " |      Extend list by appending elements from the iterable.\n",
      " |  \n",
      " |  index(self, value, start=0, stop=9223372036854775807, /)\n",
      " |      Return first index of value.\n",
      " |      \n",
      " |      Raises ValueError if the value is not present.\n",
      " |  \n",
      " |  insert(self, index, object, /)\n",
      " |      Insert object before index.\n",
      " |  \n",
      " |  pop(self, index=-1, /)\n",
      " |      Remove and return item at index (default last).\n",
      " |      \n",
      " |      Raises IndexError if list is empty or index is out of range.\n",
      " |  \n",
      " |  remove(self, value, /)\n",
      " |      Remove first occurrence of value.\n",
      " |      \n",
      " |      Raises ValueError if the value is not present.\n",
      " |  \n",
      " |  reverse(self, /)\n",
      " |      Reverse *IN PLACE*.\n",
      " |  \n",
      " |  sort(self, /, *, key=None, reverse=False)\n",
      " |      Sort the list in ascending order and return None.\n",
      " |      \n",
      " |      The sort is in-place (i.e. the list itself is modified) and stable (i.e. the\n",
      " |      order of two equal elements is maintained).\n",
      " |      \n",
      " |      If a key function is given, apply it once to each list item and sort them,\n",
      " |      ascending or descending, according to their function values.\n",
      " |      \n",
      " |      The reverse flag can be set to sort in descending order.\n",
      " |  \n",
      " |  ----------------------------------------------------------------------\n",
      " |  Class methods defined here:\n",
      " |  \n",
      " |  __class_getitem__(...) from builtins.type\n",
      " |      See PEP 585\n",
      " |  \n",
      " |  ----------------------------------------------------------------------\n",
      " |  Static methods defined here:\n",
      " |  \n",
      " |  __new__(*args, **kwargs) from builtins.type\n",
      " |      Create and return a new object.  See help(type) for accurate signature.\n",
      " |  \n",
      " |  ----------------------------------------------------------------------\n",
      " |  Data and other attributes defined here:\n",
      " |  \n",
      " |  __hash__ = None\n",
      "\n"
     ]
    }
   ],
   "source": [
    "help(list)"
   ]
  },
  {
   "cell_type": "markdown",
   "id": "22a4519b-ab22-4404-8c3e-dfd26fb228c9",
   "metadata": {},
   "source": [
    "`hex`(*x*)\n",
    "\n",
    "Convert an integer number to a lowercase hexadecimal string prefixed with “0x”. If *x* is not a Python [`int`](https://docs.python.org/3/library/functions.html#int) object, it has to define an `__index__()` method that returns an integer. Some examples:\n",
    "\n",
    "> `hex`(*x*)\n",
    ">\n",
    "> 将一个整数转换成以\"0x \"为前缀的小写十六进制字符串。如果*x*不是一个Python [`int` ](https://docs.python.org/3/library/functions.html#int)对象，它必须定义一个 `__index__()` 方法来返回一个整数。一些例子："
   ]
  },
  {
   "cell_type": "code",
   "execution_count": 45,
   "id": "80dfbdb3-60b2-48e4-a1b1-756f08e3b198",
   "metadata": {},
   "outputs": [
    {
     "data": {
      "text/plain": [
       "'0xff'"
      ]
     },
     "execution_count": 45,
     "metadata": {},
     "output_type": "execute_result"
    },
    {
     "data": {
      "text/plain": [
       "'-0x2a'"
      ]
     },
     "execution_count": 45,
     "metadata": {},
     "output_type": "execute_result"
    }
   ],
   "source": [
    "hex(255)\n",
    "\n",
    "hex(-42)"
   ]
  },
  {
   "cell_type": "markdown",
   "id": "7bbccb04-8e2a-4e52-9b05-0976e9c10ac1",
   "metadata": {},
   "source": [
    "If you want to convert an integer number to an uppercase or lower hexadecimal string with prefix or not, you can use either of the following ways:\n",
    "\n",
    "> 如果你想把一个整数转换成大写或小写的十六进制字符串，无论是否有前缀，你都可以使用以下两种方式："
   ]
  },
  {
   "cell_type": "code",
   "execution_count": 46,
   "id": "312a93f9-a00a-4351-9d3b-c9b10045cbc7",
   "metadata": {},
   "outputs": [
    {
     "data": {
      "text/plain": [
       "('0xff', 'ff', 'FF')"
      ]
     },
     "execution_count": 46,
     "metadata": {},
     "output_type": "execute_result"
    }
   ],
   "source": [
    "'%#x' % 255, '%x' % 255, '%X' % 255"
   ]
  },
  {
   "cell_type": "code",
   "execution_count": 47,
   "id": "c94d1a7b-1489-4234-82af-478f29754f1f",
   "metadata": {},
   "outputs": [
    {
     "data": {
      "text/plain": [
       "'0xff'"
      ]
     },
     "execution_count": 47,
     "metadata": {},
     "output_type": "execute_result"
    },
    {
     "data": {
      "text/plain": [
       "'ff'"
      ]
     },
     "execution_count": 47,
     "metadata": {},
     "output_type": "execute_result"
    },
    {
     "data": {
      "text/plain": [
       "'FF'"
      ]
     },
     "execution_count": 47,
     "metadata": {},
     "output_type": "execute_result"
    }
   ],
   "source": [
    "format(255, '#x')\n",
    "format(255, 'x')\n",
    "format(255, 'X')"
   ]
  },
  {
   "cell_type": "code",
   "execution_count": 48,
   "id": "c4386e8a-ea95-4c6b-a924-a28079b4bee0",
   "metadata": {},
   "outputs": [
    {
     "data": {
      "text/plain": [
       "' 0xff'"
      ]
     },
     "execution_count": 48,
     "metadata": {},
     "output_type": "execute_result"
    },
    {
     "data": {
      "text/plain": [
       "' ff'"
      ]
     },
     "execution_count": 48,
     "metadata": {},
     "output_type": "execute_result"
    },
    {
     "data": {
      "text/plain": [
       "' FF'"
      ]
     },
     "execution_count": 48,
     "metadata": {},
     "output_type": "execute_result"
    }
   ],
   "source": [
    "f'{255: #x}'\n",
    "f'{255: x}'\n",
    "f'{255: X}'"
   ]
  },
  {
   "cell_type": "markdown",
   "id": "a8109605-95fb-40b0-a9c0-faec8f902829",
   "metadata": {},
   "source": [
    "See also [`format()`](https://docs.python.org/3/library/functions.html#format) for more information.\n",
    "\n",
    "See also [`int()`](https://docs.python.org/3/library/functions.html#int) for converting a hexadecimal string to an integer using a base of 16.\n",
    "\n",
    "> 更多信息请参见 [`format()`](https://docs.python.org/3/library/functions.html#format)。\n",
    ">\n",
    "> 参见 [`int()`](https://docs.python.org/3/library/functions.html#int)，将十六进制的字符串转换为使用16进制的整数。"
   ]
  },
  {
   "cell_type": "markdown",
   "id": "fc061f5a-1aea-48a7-80fa-b33f30820cff",
   "metadata": {},
   "source": [
    "**Note:** To obtain a hexadecimal string representation for a float, use the [`float.hex()`](https://docs.python.org/3/library/stdtypes.html#float.hex) method.\n",
    "\n",
    "> **注意：**要获得一个浮点数的十六进制字符串表示，请使用 [`float.hex()`](https://docs.python.org/3/library/stdtypes.html#float.hex)方法。"
   ]
  },
  {
   "cell_type": "code",
   "execution_count": 49,
   "id": "9c24a3f7-ed99-495d-af7a-dcb3521258b6",
   "metadata": {},
   "outputs": [
    {
     "data": {
      "text/plain": [
       "'0x1.91eb851eb851fp+1'"
      ]
     },
     "execution_count": 49,
     "metadata": {},
     "output_type": "execute_result"
    }
   ],
   "source": [
    "float.hex(3.14)"
   ]
  },
  {
   "cell_type": "markdown",
   "id": "c18f8dbe-cae0-43e2-8112-87e11e67cbbf",
   "metadata": {},
   "source": [
    "`id`(*object*)\n",
    "\n",
    "Return the “identity” of an object. This is an integer which is guaranteed to be unique and constant for this object during its lifetime. Two objects with non-overlapping lifetimes may have the same [`id()`](https://docs.python.org/3/library/functions.html#id) value.\n",
    "\n",
    "**CPython implementation detail:** This is the address of the object in memory.\n",
    "\n",
    "Raises an [auditing event](https://docs.python.org/3/library/sys.html#auditing) `builtins.id` with argument `id`.\n",
    "\n",
    "> `id`(*object*)\n",
    ">\n",
    "> 返回一个对象的 \"身份\"。这是一个整数，保证该对象在其生命周期内是唯一的和恒定的。两个生命周期不重叠的对象可能具有相同的 [`id()`](https://docs.python.org/3/library/functions.html#id) 值。\n",
    ">\n",
    "> **CPython实现细节：**这是该对象在内存中的地址。\n",
    ">\n",
    "> 引发一个[auditing event](https://docs.python.org/3/library/sys.html#auditing) `builtins.id`，参数为`id`。"
   ]
  },
  {
   "cell_type": "code",
   "execution_count": 50,
   "id": "456e154c-4954-4c5e-9946-c920ca9212f6",
   "metadata": {},
   "outputs": [
    {
     "data": {
      "text/plain": [
       "1500034509984"
      ]
     },
     "execution_count": 50,
     "metadata": {},
     "output_type": "execute_result"
    }
   ],
   "source": [
    "id(Dog)"
   ]
  },
  {
   "cell_type": "markdown",
   "id": "4df02fb8-6b9b-4c0d-b844-caa4138a6bd8",
   "metadata": {},
   "source": [
    "`input`([*prompt*])\n",
    "\n",
    "If the *prompt* argument is present, it is written to standard output without a trailing newline. The function then reads a line from input, converts it to a string (stripping a trailing newline), and returns that. When EOF is read, [`EOFError`](https://docs.python.org/3/library/exceptions.html#EOFError) is raised. Example:\n",
    "\n",
    "> `input`([*prompt*])\n",
    ">\n",
    "> 如果*prompt*参数存在，它将被写到标准输出，没有尾部换行。然后，该函数从输入中读取一行，将其转换为字符串（去掉尾部换行），并返回。当读到EOF时，[`EOFError`](https://docs.python.org/3/library/exceptions.html#EOFError)被引发。例子："
   ]
  },
  {
   "cell_type": "code",
   "execution_count": 51,
   "id": "a4d05720-52d4-4cc6-9015-d053889eb382",
   "metadata": {},
   "outputs": [
    {
     "name": "stdin",
     "output_type": "stream",
     "text": [
      "-->  s\n"
     ]
    }
   ],
   "source": [
    "s = input('--> ')"
   ]
  },
  {
   "cell_type": "code",
   "execution_count": 52,
   "id": "64f53933-0993-4aad-9fd9-97be48adb3f6",
   "metadata": {},
   "outputs": [
    {
     "data": {
      "text/plain": [
       "'s'"
      ]
     },
     "execution_count": 52,
     "metadata": {},
     "output_type": "execute_result"
    }
   ],
   "source": [
    "s"
   ]
  },
  {
   "cell_type": "markdown",
   "id": "69434a44-1b2c-412b-ae46-a411620965b0",
   "metadata": {},
   "source": [
    "If the [`readline`](https://docs.python.org/3/library/readline.html#module-readline) module was loaded, then [`input()`](https://docs.python.org/3/library/functions.html#input) will use it to provide elaborate line editing and history features.\n",
    "\n",
    "Raises an [auditing event](https://docs.python.org/3/library/sys.html#auditing) `builtins.input` with argument `prompt` before reading input\n",
    "\n",
    "Raises an [auditing event](https://docs.python.org/3/library/sys.html#auditing) `builtins.input/result` with the result after successfully reading input.\n",
    "\n",
    "> 如果 [`readline`](https://docs.python.org/3/library/readline.html#module-readline) 模块被加载，那么 [`input()`](https://docs.python.org/3/library/functions.html#input) 将使用它来提供精心设计的行编辑和历史功能。\n",
    ">\n",
    "> 在读取输入之前，引发一个[auditing event](https://docs.python.org/3/library/sys.html#auditing) `builtins.input`，参数为 `prompt`。\n",
    ">\n",
    "> 在成功读取输入后，引发一个 [auditing event](https://docs.python.org/3/library/sys.html#auditing) `builtins.input/result`，并给出结果。"
   ]
  },
  {
   "cell_type": "markdown",
   "id": "df4eef32-baf1-465d-868b-c26b2e213f02",
   "metadata": {},
   "source": [
    "*class* `int`([*x*])\n",
    "\n",
    "*class* `int`(*x*, *base=10*)\n",
    "\n",
    "Return an integer object constructed from a number or string *x*, or return `0` if no arguments are given. If *x* defines `__int__()`, `int(x)` returns `x.__int__()`. If *x* defines `__index__()`, it returns `x.__index__()`. If *x* defines `__trunc__()`, it returns `x.__trunc__()`. For floating point numbers, this truncates towards zero.\n",
    "\n",
    "If *x* is not a number or if *base* is given, then *x* must be a string, [`bytes`](https://docs.python.org/3/library/stdtypes.html#bytes), or [`bytearray`](https://docs.python.org/3/library/stdtypes.html#bytearray) instance representing an [integer literal](https://docs.python.org/3/reference/lexical_analysis.html#integers) in radix *base*. Optionally, the literal can be preceded by `+` or `-` (with no space in between) and surrounded by whitespace. A base-n literal consists of the digits 0 to n-1, with `a` to `z` (or `A` to `Z`) having values 10 to 35. The default *base* is 10. The allowed values are 0 and 2–36. Base-2, -8, and -16 literals can be optionally prefixed with `0b`/`0B`, `0o`/`0O`, or `0x`/`0X`, as with integer literals in code. Base 0 means to interpret exactly as a code literal, so that the actual base is 2, 8, 10, or 16, and so that `int('010', 0)` is not legal, while `int('010')` is, as well as `int('010', 8)`.\n",
    "\n",
    "The integer type is described in [Numeric Types — int, float, complex](https://docs.python.org/3/library/stdtypes.html#typesnumeric).\n",
    "\n",
    "> *class* `int`([*x*])\n",
    ">\n",
    "> *class* `int`(*x*, *base=10*)\n",
    ">\n",
    "> 返回一个由数字或字符串*x*构建的整数对象，如果没有给出参数，则返回 `0`。如果*x*定义了 `__int__()`，`int(x)` 返回 `x.__int__()`。如果*x*定义了 `__index__()`，它返回 `x.__index__()`。如果*x*定义了`__trunc__()`，它返回 `x.__trunc__()`。对于浮点数，它将向零方向截断。\n",
    ">\n",
    "> 如果*x*不是一个数字，或者给定了*base*，那么*x*必须是一个字符串，[`bytes`](https://docs.python.org/3/library/stdtypes.html#bytes)，或者 [`bytearray`](https://docs.python.org/3/library/stdtypes.html#bytearray) 实例，代表一个弧度为*base*的[整数字面](https://docs.python.org/3/reference/lexical_analysis.html#integers)。可以选择在字面值前加上 `+` 或 `-`（中间没有空格），并以空白包围。一个基数为n的文字由数字0到n-1组成，其中 `a` 到 `z`（或 `A` 到 `Z`）的数值为10到35。默认的*base*是10。允许的值是0和2-36。基数2、-8和-16的字面值可以选择以 `0b`/`0B`、`0o`/`0O` 或 `0x`/`0X` 为前缀，如同代码中的整数字面值。基数0意味着完全解释为代码字面值，因此实际的基数是2、8、10或16，因此 `int('010', 0)` 是不合法的，而 `int('010')` 是合法的，还有 `int('010', 8)`。\n",
    ">\n",
    "> 整数类型在[数字类型--int, float, complex](https://docs.python.org/3/library/stdtypes.html#typesnumeric)中描述。"
   ]
  },
  {
   "cell_type": "code",
   "execution_count": 53,
   "id": "1c1150c4-4b14-463d-8588-12586ccd469a",
   "metadata": {},
   "outputs": [
    {
     "data": {
      "text/plain": [
       "0"
      ]
     },
     "execution_count": 53,
     "metadata": {},
     "output_type": "execute_result"
    },
    {
     "data": {
      "text/plain": [
       "3"
      ]
     },
     "execution_count": 53,
     "metadata": {},
     "output_type": "execute_result"
    },
    {
     "data": {
      "text/plain": [
       "-42"
      ]
     },
     "execution_count": 53,
     "metadata": {},
     "output_type": "execute_result"
    },
    {
     "data": {
      "text/plain": [
       "2"
      ]
     },
     "execution_count": 53,
     "metadata": {},
     "output_type": "execute_result"
    }
   ],
   "source": [
    "int()\n",
    "int(3.14)\n",
    "int('-42')\n",
    "int('010', 2)"
   ]
  },
  {
   "cell_type": "markdown",
   "id": "7731b251-4106-4da8-a7a4-d8d7429521fe",
   "metadata": {},
   "source": [
    "*Changed in version 3.4:* If *base* is not an instance of [`int`](https://docs.python.org/3/library/functions.html#int) and the *base* object has a [`base.__index__`](https://docs.python.org/3/reference/datamodel.html#object.__index__) method, that method is called to obtain an integer for the base. Previous versions used [`base.__int__`](https://docs.python.org/3/reference/datamodel.html#object.__int__) instead of [`base.__index__`](https://docs.python.org/3/reference/datamodel.html#object.__index__).\n",
    "\n",
    "*Changed in version 3.6:* Grouping digits with underscores as in code literals is allowed.\n",
    "\n",
    "*Changed in version 3.7:* *x* is now a positional-only parameter.\n",
    "\n",
    "*Changed in version 3.8:* Falls back to `__index__()` if `__int__()` is not defined.\n",
    "\n",
    "> *在3.4版本中改变了：* 如果*base*不是[`int`](https://docs.python.org/3/library/functions.html#int)的实例，并且*base*对象有一个[`base.__index__`](https://docs.python.org/3/reference/datamodel.html#object.__index__)方法，就会调用该方法来获得基数的整数。以前的版本使用 [`base.__int__`](https://docs.python.org/3/reference/datamodel.html#object.__int__) 而不是 [`base.__index__`](https://docs.python.org/3/reference/datamodel.html#object.__index__)。\n",
    ">\n",
    "> *在3.6版中做了修改：*允许在代码字段中用下划线对数字进行分组。\n",
    ">\n",
    "> *在3.7版中改变了：**x*现在是一个仅有位置的参数。\n",
    ">\n",
    "> *在3.8版中改变了：*如果没有定义`__int__()`，则退回到`__index__()`。"
   ]
  },
  {
   "cell_type": "markdown",
   "id": "51c3134f-3d7e-4a69-a65e-73072ba38e2d",
   "metadata": {},
   "source": [
    "`isinstance`(*object*, *classinfo*)\n",
    "\n",
    "Return `True` if the *object* argument is an instance of the *classinfo* argument, or of a (direct, indirect, or [virtual](https://docs.python.org/3/glossary.html#term-abstract-base-class)) subclass thereof. If *object* is not an object of the given type, the function always returns `False`. If *classinfo* is a tuple of type objects (or recursively, other such tuples) or a [Union Type](https://docs.python.org/3/library/stdtypes.html#types-union) of multiple types, return `True` if *object* is an instance of any of the types. If *classinfo* is not a type or tuple of types and such tuples, a [`TypeError`](https://docs.python.org/3/library/exceptions.html#TypeError) exception is raised.\n",
    "\n",
    "*Changed in version 3.10:* *classinfo* can be a [Union Type](https://docs.python.org/3/library/stdtypes.html#types-union).\n",
    "\n",
    "> `isinstance`(*object*, *classinfo*)\n",
    ">\n",
    "> 如果*object*参数是*classinfo*参数的实例，或其（直接、间接或[虚拟](https://docs.python.org/3/glossary.html#term-abstract-base-class)）子类的实例，返回 `True`。如果*object*不是一个给定类型的对象，该函数总是返回 `False`。如果*classinfo*是一个类型对象的元组（或递归的其他此类元组）或多个类型的[联合类型](https://docs.python.org/3/library/stdtypes.html#types-union)，如果*object*是任何类型的实例，则返回 `True`。如果*classinfo*不是一个类型或类型的元组和这样的元组，会产生一个 [`TypeError`](https://docs.python.org/3/library/exceptions.html#TypeError) 异常。\n",
    ">\n",
    "> *在3.10版本中改变了：* *classinfo*可以是一个[联合类型](https://docs.python.org/3/library/stdtypes.html#types-union)。"
   ]
  },
  {
   "cell_type": "code",
   "execution_count": 54,
   "id": "67c79594-076c-4646-ab73-99d0100cd29b",
   "metadata": {},
   "outputs": [
    {
     "data": {
      "text/plain": [
       "True"
      ]
     },
     "execution_count": 54,
     "metadata": {},
     "output_type": "execute_result"
    },
    {
     "data": {
      "text/plain": [
       "True"
      ]
     },
     "execution_count": 54,
     "metadata": {},
     "output_type": "execute_result"
    },
    {
     "data": {
      "text/plain": [
       "True"
      ]
     },
     "execution_count": 54,
     "metadata": {},
     "output_type": "execute_result"
    },
    {
     "data": {
      "text/plain": [
       "True"
      ]
     },
     "execution_count": 54,
     "metadata": {},
     "output_type": "execute_result"
    },
    {
     "data": {
      "text/plain": [
       "True"
      ]
     },
     "execution_count": 54,
     "metadata": {},
     "output_type": "execute_result"
    },
    {
     "data": {
      "text/plain": [
       "True"
      ]
     },
     "execution_count": 54,
     "metadata": {},
     "output_type": "execute_result"
    },
    {
     "data": {
      "text/plain": [
       "True"
      ]
     },
     "execution_count": 54,
     "metadata": {},
     "output_type": "execute_result"
    },
    {
     "data": {
      "text/plain": [
       "False"
      ]
     },
     "execution_count": 54,
     "metadata": {},
     "output_type": "execute_result"
    },
    {
     "data": {
      "text/plain": [
       "True"
      ]
     },
     "execution_count": 54,
     "metadata": {},
     "output_type": "execute_result"
    },
    {
     "data": {
      "text/plain": [
       "True"
      ]
     },
     "execution_count": 54,
     "metadata": {},
     "output_type": "execute_result"
    }
   ],
   "source": [
    "isinstance(12, int)\n",
    "isinstance('s', str)\n",
    "isinstance(4.14, float)\n",
    "isinstance(3.1j, complex)\n",
    "isinstance([], list)\n",
    "isinstance((1,), tuple)\n",
    "isinstance(set(), set)\n",
    "isinstance({}, set)\n",
    "isinstance({}, dict)\n",
    "isinstance(True, bool)"
   ]
  },
  {
   "cell_type": "markdown",
   "id": "ca61ed59-8475-43e6-b4aa-f5c0acbf39c2",
   "metadata": {},
   "source": [
    "`issubclass`(*class*, *classinfo*)\n",
    "\n",
    "Return `True` if *class* is a subclass (direct, indirect, or [virtual](https://docs.python.org/3/glossary.html#term-abstract-base-class)) of *classinfo*. A class is considered a subclass of itself. *classinfo* may be a tuple of class objects (or recursively, other such tuples) or a [Union Type](https://docs.python.org/3/library/stdtypes.html#types-union), in which case return `True` if *class* is a subclass of any entry in *classinfo*. In any other case, a [`TypeError`](https://docs.python.org/3/library/exceptions.html#TypeError) exception is raised.\n",
    "\n",
    "*Changed in version 3.10:* *classinfo* can be a [Union Type](https://docs.python.org/3/library/stdtypes.html#types-union).\n",
    "\n",
    "> `issubclass`(*class*, *classinfo*)\n",
    ">\n",
    "> 如果*class*是*classinfo*的子类（直接、间接或[虚拟](https://docs.python.org/3/glossary.html#term-abstract-base-class)），返回 `True`。一个类被认为是它自己的一个子类。*classinfo*可以是一个类对象的元组（或递归的其他此类元组）或一个[联合类型](https://docs.python.org/3/library/stdtypes.html#types-union)，在这种情况下，如果*class*是*classinfo*中任何条目的子类，则返回 `True`。在其他情况下，会产生一个 [`TypeError`](https://docs.python.org/3/library/exceptions.html#TypeError) 异常。\n",
    ">\n",
    "> *在3.10版本中改变了：* *classinfo*可以是一个[联合类型](https://docs.python.org/3/library/stdtypes.html#types-union)。"
   ]
  },
  {
   "cell_type": "code",
   "execution_count": 55,
   "id": "e0ff860f-f436-47a4-8d35-253d0c5775e7",
   "metadata": {},
   "outputs": [
    {
     "data": {
      "text/plain": [
       "True"
      ]
     },
     "execution_count": 55,
     "metadata": {},
     "output_type": "execute_result"
    },
    {
     "data": {
      "text/plain": [
       "False"
      ]
     },
     "execution_count": 55,
     "metadata": {},
     "output_type": "execute_result"
    },
    {
     "data": {
      "text/plain": [
       "False"
      ]
     },
     "execution_count": 55,
     "metadata": {},
     "output_type": "execute_result"
    }
   ],
   "source": [
    "issubclass(bool, int)\n",
    "issubclass(float, int)\n",
    "issubclass(complex, str)"
   ]
  },
  {
   "cell_type": "markdown",
   "id": "48fcc8cc-ab85-4fc5-b724-193f38735286",
   "metadata": {},
   "source": [
    "`iter`(*object*[, *sentinel*])\n",
    "\n",
    "Return an [iterator](https://docs.python.org/3/glossary.html#term-iterator) object. The first argument is interpreted very differently depending on the presence of the second argument. Without a second argument, *object* must be a collection object which supports the [iterable](https://docs.python.org/3/glossary.html#term-iterable) protocol (the `__iter__()` method), or it must support the sequence protocol (the `__getitem__()` method with integer arguments starting at `0`). If it does not support either of those protocols, [`TypeError`](https://docs.python.org/3/library/exceptions.html#TypeError) is raised. If the second argument, *sentinel*, is given, then *object* must be a callable object. The iterator created in this case will call *object* with no arguments for each call to its [`__next__()`](https://docs.python.org/3/library/stdtypes.html#iterator.__next__) method; if the value returned is equal to *sentinel*, [`StopIteration`](https://docs.python.org/3/library/exceptions.html#StopIteration) will be raised, otherwise the value will be returned.\n",
    "\n",
    "See also [Iterator Types](https://docs.python.org/3/library/stdtypes.html#typeiter).\n",
    "\n",
    "One useful application of the second form of [`iter()`](https://docs.python.org/3/library/functions.html#iter) is to build a block-reader. For example, reading fixed-width blocks from a binary database file until the end of file is reached:\n",
    "\n",
    "> `iter`(*object*[, *sentinel*])\n",
    ">\n",
    "> 返回一个[迭代器](https://docs.python.org/3/glossary.html#term-iterator)对象。根据第二个参数的存在，第一个参数的解释非常不同。如果没有第二个参数，*object*必须是一个支持[iterable](https://docs.python.org/3/glossary.html#term-iterable)协议（`__iter__()` 方法）的集合对象，或者它必须支持序列协议（`__getitem__()`方法，整数参数从 `0` 开始）。如果它不支持这两个协议中的任何一个，就会引发 [`TypeError`](https://docs.python.org/3/library/exceptions.html#TypeError)。如果第二个参数*sentinel*被给出，那么*object*必须是一个可调用的对象。在这种情况下创建的迭代器将在每次调用其[`__next__()`](https://docs.python.org/3/library/stdtypes.html#iterator.__next__) 方法时不带参数地调用*object*；如果返回的值等于*sentinel*，将引发 [`StopIteration`](https://docs.python.org/3/library/exceptions.html#StopIteration)，否则将返回该值。\n",
    ">\n",
    "> 参见[Iterator Types](https://docs.python.org/3/library/stdtypes.html#typeiter)。\n",
    ">\n",
    "> [`iter()`](https://docs.python.org/3/library/functions.html#iter) 的第二种形式的一个有用的应用是建立一个块读取器。例如，从一个二进制数据库文件中读取固定宽度的块，直到到达文件的末端。"
   ]
  },
  {
   "cell_type": "code",
   "execution_count": 56,
   "id": "fbe94702-fa8f-44a0-a42a-2c9ebb6f2440",
   "metadata": {},
   "outputs": [],
   "source": [
    "# how to use this\n",
    "\n",
    "# from functools import partial\n",
    "# with open('mydata.db', 'rb') as f:\n",
    "#     for block in iter(partial(f.read, 64), b''):\n",
    "#         process_block(block)"
   ]
  },
  {
   "cell_type": "code",
   "execution_count": 57,
   "id": "8e39fce1-0b0b-48c3-977b-d3411aa085a5",
   "metadata": {},
   "outputs": [
    {
     "data": {
      "text/plain": [
       "<list_iterator at 0x15d42aac7c0>"
      ]
     },
     "execution_count": 57,
     "metadata": {},
     "output_type": "execute_result"
    },
    {
     "data": {
      "text/plain": [
       "<list_iterator at 0x15d42aac400>"
      ]
     },
     "execution_count": 57,
     "metadata": {},
     "output_type": "execute_result"
    },
    {
     "data": {
      "text/plain": [
       "<generator object <genexpr> at 0x0000015D446F1310>"
      ]
     },
     "execution_count": 57,
     "metadata": {},
     "output_type": "execute_result"
    },
    {
     "data": {
      "text/plain": [
       "<tuple_iterator at 0x15d42aac070>"
      ]
     },
     "execution_count": 57,
     "metadata": {},
     "output_type": "execute_result"
    },
    {
     "data": {
      "text/plain": [
       "<dict_keyiterator at 0x15d4450b7e0>"
      ]
     },
     "execution_count": 57,
     "metadata": {},
     "output_type": "execute_result"
    }
   ],
   "source": [
    "iter([x for x in range(10)])\n",
    "iter([1,2,3])\n",
    "iter((x**x for x in range(10)))\n",
    "iter((1,2,3))\n",
    "iter({x:y for x in 'string' for y in range(7)})"
   ]
  },
  {
   "cell_type": "markdown",
   "id": "bafda89b-3923-49a1-9692-c43ead8fb049",
   "metadata": {},
   "source": [
    "`len`(*s*)\n",
    "\n",
    "Return the length (the number of items) of an object. The argument may be a sequence (such as a string, bytes, tuple, list, or range) or a collection (such as a dictionary, set, or frozen set).\n",
    "\n",
    "**CPython implementation detail:** `len` raises [`OverflowError`](https://docs.python.org/3/library/exceptions.html#OverflowError) on lengths larger than [`sys.maxsize`](https://docs.python.org/3/library/sys.html#sys.maxsize), such as [`range(2 ** 100)`](https://docs.python.org/3/library/stdtypes.html#range).\n",
    "\n",
    "> `len`(*s*)\n",
    ">\n",
    "> 返回一个对象的长度（项目的数量）。参数可以是一个序列（如字符串、字节、元组、列表或范围）或一个集collection（如字典、集合或冻结集合）。\n",
    ">\n",
    "> **CPython实现细节：** `len`在长度大于 [`sys.maxsize`](https://docs.python.org/3/library/sys.html#sys.maxsize) 时引发[`OverflowError`](https://docs.python.org/3/library/exceptions.html#OverflowError)，例如 [`range(2 ** 100)`](https://docs.python.org/3/library/stdtypes.html#range)。"
   ]
  },
  {
   "cell_type": "code",
   "execution_count": 58,
   "id": "69a7242c-7d6a-4e7c-9dcc-5757da607760",
   "metadata": {},
   "outputs": [
    {
     "data": {
      "text/plain": [
       "100"
      ]
     },
     "execution_count": 58,
     "metadata": {},
     "output_type": "execute_result"
    }
   ],
   "source": [
    "len([x for x in range(100)])"
   ]
  },
  {
   "cell_type": "markdown",
   "id": "c881e7da-e04d-4433-b825-8cf53da6dbdd",
   "metadata": {},
   "source": [
    "*class* `list`([*iterable*])\n",
    "\n",
    "Rather than being a function, [`list`](https://docs.python.org/3/library/stdtypes.html#list) is actually a mutable sequence type, as documented in [Lists](https://docs.python.org/3/library/stdtypes.html#typesseq-list) and [Sequence Types — list, tuple, range](https://docs.python.org/3/library/stdtypes.html#typesseq).\n",
    "\n",
    "> *class* `list`([*iterable*])\n",
    ">\n",
    "> 与其说是一个函数，[`list`](https://docs.python.org/3/library/stdtypes.html#list) 实际上是一个可变的序列类型，正如[Lists](https://docs.python.org/3/library/stdtypes.html#typesseq-list)和[序列类型--列表、元组、范围](https://docs.python.org/3/library/stdtypes.html#typesseq)中所记载的。"
   ]
  },
  {
   "cell_type": "markdown",
   "id": "2c4e87dd-82d5-48e5-8eb1-b861fc458fa1",
   "metadata": {},
   "source": [
    "`locals`()\n",
    "\n",
    "Update and return a dictionary representing the current local symbol table. Free variables are returned by [`locals()`](https://docs.python.org/3/library/functions.html#locals) when it is called in function blocks, but not in class blocks. Note that at the module level, [`locals()`](https://docs.python.org/3/library/functions.html#locals) and [`globals()`](https://docs.python.org/3/library/functions.html#globals) are the same dictionary.\n",
    "\n",
    "> `locals`()\n",
    ">\n",
    "> 更新并返回一个代表当前局部符号表的字典。当 [`locals()`](https://docs.python.org/3/library/functions.html#locals) 在函数块中被调用时，会返回自由变量，但在类块中不会。注意，在模块级别，[`locals()`](https://docs.python.org/3/library/functions.html#locals) 和 [`globals()`](https://docs.python.org/3/library/functions.html#globals) 是同一个字典。"
   ]
  },
  {
   "cell_type": "markdown",
   "id": "d0177ad4-1d5f-4035-87b8-c98dec369730",
   "metadata": {},
   "source": [
    "**Note:** The contents of this dictionary should not be modified; changes may not affect the values of local and free variables used by the interpreter.\n",
    "\n",
    "> **注意：**这个字典的内容不应该被修改；修改后可能不会影响解释器使用的局部变量和自由变量的值。"
   ]
  },
  {
   "cell_type": "markdown",
   "id": "c9d77b55-9ae3-4d28-9499-932aa0af87d4",
   "metadata": {},
   "source": [
    "`map`(*function*, *iterable*, *...*)\n",
    "\n",
    "Return an iterator that applies *function* to every item of *iterable*, yielding the results. If additional *iterable* arguments are passed, *function* must take that many arguments and is applied to the items from all iterables in parallel. With multiple iterables, the iterator stops when the shortest iterable is exhausted. For cases where the function inputs are already arranged into argument tuples, see [`itertools.starmap()`](https://docs.python.org/3/library/itertools.html#itertools.starmap).\n",
    "\n",
    "> `map`(*function*, *iterable*, *...*)\n",
    ">\n",
    "> 返回一个迭代器，将*function*应用于*iterable*的每个项目，产生结果。如果传递了额外的*iterable*参数，*function*必须接受那么多的参数，并且平行地应用于所有iterable中的项目。对于多个迭代器，当最短的迭代器被用完时，迭代器就会停止。对于函数输入已经被安排成参数元组的情况，见[`itertools.starmap()`](https://docs.python.org/3/library/itertools.html#itertools.starmap)。"
   ]
  },
  {
   "cell_type": "code",
   "execution_count": 59,
   "id": "13a423e3-3fa5-4261-b775-8131ca0603a7",
   "metadata": {},
   "outputs": [
    {
     "data": {
      "text/plain": [
       "[10, 7, 9]"
      ]
     },
     "execution_count": 59,
     "metadata": {},
     "output_type": "execute_result"
    },
    {
     "data": {
      "text/plain": [
       "[1, 256, 3125]"
      ]
     },
     "execution_count": 59,
     "metadata": {},
     "output_type": "execute_result"
    }
   ],
   "source": [
    "list(map(max, [1,4,5],(4,7,9),{10,3,7}))\n",
    "list(map(lambda x:x**x, [1,4,5]))"
   ]
  },
  {
   "cell_type": "markdown",
   "id": "d1f56fd2-ced1-4f1e-99b2-624b7e20e202",
   "metadata": {},
   "source": [
    "`max`(*iterable*, _*_[, *key*, *default*])\n",
    "\n",
    "`max`(*arg1*, *arg2*, **args*[, *key*])\n",
    "\n",
    "Return the largest item in an iterable or the largest of two or more arguments.\n",
    "\n",
    "If one positional argument is provided, it should be an [iterable](https://docs.python.org/3/glossary.html#term-iterable). The largest item in the iterable is returned. If two or more positional arguments are provided, the largest of the positional arguments is returned.\n",
    "\n",
    "There are two optional keyword-only arguments. The *key* argument specifies a one-argument ordering function like that used for [`list.sort()`](https://docs.python.org/3/library/stdtypes.html#list.sort). The *default* argument specifies an object to return if the provided iterable is empty. If the iterable is empty and *default* is not provided, a [`ValueError`](https://docs.python.org/3/library/exceptions.html#ValueError) is raised.\n",
    "\n",
    "If multiple items are maximal, the function returns the first one encountered. This is consistent with other sort-stability preserving tools such as `sorted(iterable, key=keyfunc, reverse=True)[0]` and `heapq.nlargest(1, iterable, key=keyfunc)`.\n",
    "\n",
    "*New in version 3.4:* The *default* keyword-only argument.\n",
    "\n",
    "*Changed in version 3.8:* The *key* can be `None`.\n",
    "\n",
    "> `max`(*iterable*, _*_[, *key*, *default*])\n",
    ">\n",
    "> `max`(*arg1*, *arg2*, **args*[, *key*])\n",
    ">\n",
    "> 返回iterable中的最大项或两个或多个参数中的最大项。\n",
    ">\n",
    "> 如果提供了一个位置参数，它应该是一个[iterable](https://docs.python.org/3/glossary.html#term-iterable)。返回iterable中最大的项。如果提供了两个或更多的位置参数，将返回位置参数中最大的一个。\n",
    ">\n",
    "> 有两个可选的仅有关键字的参数。参数*key*指定了一个单参数排序函数，就像用于 [`list.sort()`](https://docs.python.org/3/library/stdtypes.html#list.sort) 的那样。*default*参数指定了一个对象，如果提供的iterable是空的，则返回。如果迭代器是空的，并且没有提供*default*，会产生一个 [`ValueError`](https://docs.python.org/3/library/exceptions.html#ValueError)。\n",
    ">\n",
    "> 如果多个项目是最大的，该函数会返回第一个遇到的项目。这与其他保存排序稳定性的工具一致，如`sorted(iterable, key=keyfunc, reverse=True)[0]` 和 `heapq.nlargest(1, iterable, key=keyfunc)`。\n",
    ">\n",
    "> *在3.4版本中的新内容：*_默认的_只用关键字的参数。\n",
    ">\n",
    "> *在3.8版本中改变了：* *key*可以是 `None`。"
   ]
  },
  {
   "cell_type": "code",
   "execution_count": 60,
   "id": "3e29a3de-5d7a-402b-8f33-3bda009c6f40",
   "metadata": {},
   "outputs": [
    {
     "data": {
      "text/plain": [
       "[34, 2]"
      ]
     },
     "execution_count": 60,
     "metadata": {},
     "output_type": "execute_result"
    },
    {
     "data": {
      "text/plain": [
       "99"
      ]
     },
     "execution_count": 60,
     "metadata": {},
     "output_type": "execute_result"
    }
   ],
   "source": [
    "max([1,23], [34,2])\n",
    "max([x for x in range(100)], default=0)"
   ]
  },
  {
   "cell_type": "markdown",
   "id": "1b71fa44-84e6-4186-8ec3-1e30467fa1c9",
   "metadata": {},
   "source": [
    "*class* `memoryview`(*object*)\n",
    "\n",
    "Return a “memory view” object created from the given argument. See [Memory Views](https://docs.python.org/3/library/stdtypes.html#typememoryview) for more information.\n",
    "\n",
    "> *class* `memoryview`(*object*)\n",
    ">\n",
    "> 返回一个由给定参数创建的 \"内存视图\"对象。更多信息见[Memory Views](https://docs.python.org/3/library/stdtypes.html#typememoryview)。"
   ]
  },
  {
   "cell_type": "code",
   "execution_count": 61,
   "id": "483b5427-f616-4480-8664-a614b7add0de",
   "metadata": {},
   "outputs": [
    {
     "data": {
      "text/plain": [
       "[49, 51, 52]"
      ]
     },
     "execution_count": 61,
     "metadata": {},
     "output_type": "execute_result"
    }
   ],
   "source": [
    "list(memoryview(b'134'))"
   ]
  },
  {
   "cell_type": "markdown",
   "id": "41c3dc78-200c-458b-a318-b3c5679fd558",
   "metadata": {},
   "source": [
    "`min`(*iterable*, _*_[, *key*, *default*])\n",
    "\n",
    "`min`(*arg1*, *arg2*, **args*[, *key*])\n",
    "\n",
    "Return the smallest item in an iterable or the smallest of two or more arguments.\n",
    "\n",
    "If one positional argument is provided, it should be an [iterable](https://docs.python.org/3/glossary.html#term-iterable). The smallest item in the iterable is returned. If two or more positional arguments are provided, the smallest of the positional arguments is returned.\n",
    "\n",
    "There are two optional keyword-only arguments. The *key* argument specifies a one-argument ordering function like that used for [`list.sort()`](https://docs.python.org/3/library/stdtypes.html#list.sort). The *default* argument specifies an object to return if the provided iterable is empty. If the iterable is empty and *default* is not provided, a [`ValueError`](https://docs.python.org/3/library/exceptions.html#ValueError) is raised.\n",
    "\n",
    "If multiple items are minimal, the function returns the first one encountered. This is consistent with other sort-stability preserving tools such as `sorted(iterable, key=keyfunc)[0]` and `heapq.nsmallest(1, iterable, key=keyfunc)`.\n",
    "\n",
    "*New in version 3.4:* The *default* keyword-only argument.\n",
    "\n",
    "*Changed in version 3.8:* The *key* can be `None`.\n",
    "\n",
    "> `min`(*iterable*, _*_[, *key*, *default*))\n",
    ">\n",
    "> `min`(*arg1*, *arg2*, **args*[, *key*])\n",
    ">\n",
    "> 返回iterable中最小的项目或两个或多个参数中最小的一个。\n",
    ">\n",
    "> 如果提供了一个位置参数，它应该是一个[iterable](https://docs.python.org/3/glossary.html#term-iterable)。迭代器中最小的项目被返回。如果提供了两个或更多的位置参数，将返回位置参数中最小的一个。\n",
    ">\n",
    "> 有两个可选的仅有关键字的参数。参数*key*指定了一个单参数排序函数，就像用于 [`list.sort()`](https://docs.python.org/3/library/stdtypes.html#list.sort) 的那样。*default*参数指定了一个对象，如果提供的iterable是空的，则返回。如果迭代器是空的，并且没有提供*default*，会产生一个[`ValueError`](https://docs.python.org/3/library/exceptions.html#ValueError)。\n",
    ">\n",
    "> 如果多个项目是最小的，该函数返回第一个遇到的项目。这与其他保存排序稳定性的工具一致，如`sorted(iterable, key=keyfunc)[0]`和`heapq.nsmallest(1, iterable, key=keyfunc)`。\n",
    ">\n",
    "> *在3.4版本中的新内容：*_默认的_只用关键字的参数。\n",
    ">\n",
    "> *在3.8版本中改变了：* *key*可以是 `None`。"
   ]
  },
  {
   "cell_type": "code",
   "execution_count": 62,
   "id": "7d0141d4-0ab3-48bd-b093-92af2e34c01d",
   "metadata": {},
   "outputs": [
    {
     "data": {
      "text/plain": [
       "[1, 23]"
      ]
     },
     "execution_count": 62,
     "metadata": {},
     "output_type": "execute_result"
    },
    {
     "data": {
      "text/plain": [
       "0"
      ]
     },
     "execution_count": 62,
     "metadata": {},
     "output_type": "execute_result"
    }
   ],
   "source": [
    "min([1,23], [34,2])\n",
    "min([x for x in range(100)], default=0)"
   ]
  },
  {
   "cell_type": "markdown",
   "id": "87090aed-bc5b-481f-b706-d063fa1d121f",
   "metadata": {},
   "source": [
    "`next`(*iterator*[, *default*])\n",
    "\n",
    "Retrieve the next item from the [iterator](https://docs.python.org/3/glossary.html#term-iterator) by calling its [`__next__()`](https://docs.python.org/3/library/stdtypes.html#iterator.__next__) method. If *default* is given, it is returned if the iterator is exhausted, otherwise [`StopIteration`](https://docs.python.org/3/library/exceptions.html#StopIteration) is raised.\n",
    "\n",
    "> `next`(*iterator*[, *default*])\n",
    ">\n",
    "> 通过调用[iterator](https://docs.python.org/3/glossary.html#term-iterator)的 [`__next__()`](https://docs.python.org/3/library/stdtypes.html#iterator.__next__) 方法，从iterator中获取下一个项目。如果给定了*default*，如果迭代器被耗尽，它将被返回，否则将引发 [`StopIteration`](https://docs.python.org/3/library/exceptions.html#StopIteration)。"
   ]
  },
  {
   "cell_type": "code",
   "execution_count": 63,
   "id": "fe41d788-3b6d-4e91-8320-02fce203227c",
   "metadata": {},
   "outputs": [
    {
     "data": {
      "text/plain": [
       "<list_iterator at 0x15d4297e410>"
      ]
     },
     "execution_count": 63,
     "metadata": {},
     "output_type": "execute_result"
    },
    {
     "data": {
      "text/plain": [
       "<list_iterator at 0x15d4297ea10>"
      ]
     },
     "execution_count": 63,
     "metadata": {},
     "output_type": "execute_result"
    },
    {
     "data": {
      "text/plain": [
       "False"
      ]
     },
     "execution_count": 63,
     "metadata": {},
     "output_type": "execute_result"
    },
    {
     "data": {
      "text/plain": [
       "0"
      ]
     },
     "execution_count": 63,
     "metadata": {},
     "output_type": "execute_result"
    },
    {
     "data": {
      "text/plain": [
       "1"
      ]
     },
     "execution_count": 63,
     "metadata": {},
     "output_type": "execute_result"
    },
    {
     "data": {
      "text/plain": [
       "2"
      ]
     },
     "execution_count": 63,
     "metadata": {},
     "output_type": "execute_result"
    },
    {
     "data": {
      "text/plain": [
       "3"
      ]
     },
     "execution_count": 63,
     "metadata": {},
     "output_type": "execute_result"
    },
    {
     "data": {
      "text/plain": [
       "4"
      ]
     },
     "execution_count": 63,
     "metadata": {},
     "output_type": "execute_result"
    },
    {
     "data": {
      "text/plain": [
       "'the end'"
      ]
     },
     "execution_count": 63,
     "metadata": {},
     "output_type": "execute_result"
    }
   ],
   "source": [
    "a = [x for x in range(5)]\n",
    "b = a.__iter__()\n",
    "c = a.__iter__().__iter__()\n",
    "b\n",
    "c\n",
    "id(a) == id(c)\n",
    "\n",
    "next(b)\n",
    "next(b)\n",
    "next(b)\n",
    "next(b)\n",
    "next(b)\n",
    "next(b, 'the end')"
   ]
  },
  {
   "cell_type": "markdown",
   "id": "5127b9b3-e50a-4c9b-93d4-053e1b3aee79",
   "metadata": {},
   "source": [
    "*class* `object`\n",
    "\n",
    "Return a new featureless object. [`object`](https://docs.python.org/3/library/functions.html#object) is a base for all classes. It has methods that are common to all instances of Python classes. This function does not accept any arguments.\n",
    "\n",
    "> *class* `object`。\n",
    ">\n",
    "> 返回一个新的无特征对象。[`object`](https://docs.python.org/3/library/functions.html#object) 是所有类的基础。它有Python类的所有实例所共有的方法。这个函数不接受任何参数。\n",
    "\n",
    "**Note:** [`object`](https://docs.python.org/3/library/functions.html#object) does *not* have a [`__dict__`](https://docs.python.org/3/library/stdtypes.html#object.__dict__), so you can’t assign arbitrary attributes to an instance of the [`object`](https://docs.python.org/3/library/functions.html#object) class.\n",
    "\n",
    "> **注意：** [`object`](https://docs.python.org/3/library/functions.html#object) *没*有 [`__dict__`](https://docs.python.org/3/library/stdtypes.html#object.__dict__)，所以你不能给 [`object`](https://docs.python.org/3/library/functions.html#object) 类的一个实例分配任意的属性。"
   ]
  },
  {
   "cell_type": "code",
   "execution_count": 64,
   "id": "4d145244-aa16-481b-854d-f46a91878008",
   "metadata": {},
   "outputs": [
    {
     "data": {
      "text/plain": [
       "object"
      ]
     },
     "execution_count": 64,
     "metadata": {},
     "output_type": "execute_result"
    }
   ],
   "source": [
    "object"
   ]
  },
  {
   "cell_type": "markdown",
   "id": "f697f804-3c03-4a64-8b16-8f974b97b732",
   "metadata": {},
   "source": [
    "`oct`(*x*)\n",
    "\n",
    "Convert an integer number to an octal string prefixed with “0o”. The result is a valid Python expression. If *x* is not a Python [`int`](https://docs.python.org/3/library/functions.html#int) object, it has to define an `__index__()` method that returns an integer. For example:\n",
    "\n",
    "> `oct`(*x*)\n",
    ">\n",
    "> 将一个整数转换成以 \"0o\" 为前缀的八进制字符串。其结果是一个有效的Python表达式。如果*x*不是一个Python [`int`](https://docs.python.org/3/library/functions.html#int) 对象，它必须定义一个 `__index__()` 方法，返回一个整数。比如说"
   ]
  },
  {
   "cell_type": "code",
   "execution_count": 65,
   "id": "10034996-e972-4d2a-b22f-2c001471c817",
   "metadata": {},
   "outputs": [
    {
     "data": {
      "text/plain": [
       "'0o10'"
      ]
     },
     "execution_count": 65,
     "metadata": {},
     "output_type": "execute_result"
    },
    {
     "data": {
      "text/plain": [
       "'-0o70'"
      ]
     },
     "execution_count": 65,
     "metadata": {},
     "output_type": "execute_result"
    }
   ],
   "source": [
    "oct(8)\n",
    "oct(-56)\n"
   ]
  },
  {
   "cell_type": "markdown",
   "id": "b3c92fdf-4541-4a4b-8dc0-be0e43edfa26",
   "metadata": {},
   "source": [
    "If you want to convert an integer number to an octal string either with the prefix “0o” or not, you can use either of the following ways.\n",
    "\n",
    "> 如果你想把一个整数转换成八进制字符串，无论是否带有 \"0o\" 前缀，你都可以使用以下两种方式。"
   ]
  },
  {
   "cell_type": "code",
   "execution_count": 66,
   "id": "c2a0cfab-f6f3-4759-8a3c-3ab0b161b859",
   "metadata": {},
   "outputs": [
    {
     "data": {
      "text/plain": [
       "('0o12', '12')"
      ]
     },
     "execution_count": 66,
     "metadata": {},
     "output_type": "execute_result"
    }
   ],
   "source": [
    "'%#o' % 10, '%o' % 10"
   ]
  },
  {
   "cell_type": "code",
   "execution_count": 67,
   "id": "0abd5bb6-3e14-4b50-8271-09f9e060afad",
   "metadata": {},
   "outputs": [
    {
     "data": {
      "text/plain": [
       "('0o12', '12')"
      ]
     },
     "execution_count": 67,
     "metadata": {},
     "output_type": "execute_result"
    }
   ],
   "source": [
    "format(10, '#o'), format(10, 'o')"
   ]
  },
  {
   "cell_type": "code",
   "execution_count": 68,
   "id": "ea3a1307-20e2-45b2-9ec2-4b32eb710304",
   "metadata": {},
   "outputs": [
    {
     "data": {
      "text/plain": [
       "('0o12', '12')"
      ]
     },
     "execution_count": 68,
     "metadata": {},
     "output_type": "execute_result"
    }
   ],
   "source": [
    "f'{10:#o}', f'{10:o}'"
   ]
  },
  {
   "cell_type": "markdown",
   "id": "59845f99-c8eb-4438-8d30-c4b839004318",
   "metadata": {},
   "source": [
    "See also [`format()`](https://docs.python.org/3/library/functions.html#format) for more information."
   ]
  },
  {
   "cell_type": "markdown",
   "id": "e261b643-35ea-4ad5-adb8-79dd55236e82",
   "metadata": {},
   "source": [
    "`open`(*file*, *mode='r'*, *buffering=- 1*, *encoding=None*, *errors=None*, *newline=None*, *closefd=True*, *opener=None*)\n",
    "\n",
    "Open *file* and return a corresponding [file object](https://docs.python.org/3/glossary.html#term-file-object). If the file cannot be opened, an [`OSError`](https://docs.python.org/3/library/exceptions.html#OSError) is raised. See [Reading and Writing Files](https://docs.python.org/3/tutorial/inputoutput.html#tut-files) for more examples of how to use this function.\n",
    "\n",
    "*file* is a [path-like object](https://docs.python.org/3/glossary.html#term-path-like-object) giving the pathname (absolute or relative to the current working directory) of the file to be opened or an integer file descriptor of the file to be wrapped. (If a file descriptor is given, it is closed when the returned I/O object is closed unless *closefd* is set to `False`.)\n",
    "\n",
    "*mode* is an optional string that specifies the mode in which the file is opened. It defaults to `'r'` which means open for reading in text mode. Other common values are `'w'` for writing (truncating the file if it already exists), `'x'` for exclusive creation, and `'a'` for appending (which on *some* Unix systems, means that *all* writes append to the end of the file regardless of the current seek position). In text mode, if *encoding* is not specified the encoding used is platform-dependent: `locale.getpreferredencoding(False)` is called to get the current locale encoding. (For reading and writing raw bytes use binary mode and leave *encoding* unspecified.) The available modes are:\n",
    "\n",
    "> `open`(*file*, *mode='r'*, *buffering=- 1*, *encoding=None*, *errors=None*, *newline=None*, *closefd=True*, *opener=None*)\n",
    ">\n",
    "> 打开*file*并返回一个相应的[文件对象](https://docs.python.org/3/glossary.html#term-file-object)。如果文件不能被打开，会引发一个 [`OSError`](https://docs.python.org/3/library/exceptions.html#OSError)。参见[读写文件](https://docs.python.org/3/tutorial/inputoutput.html#tut-files)，了解更多使用该函数的例子。\n",
    ">\n",
    "> *file*是一个[类路径对象](https://docs.python.org/3/glossary.html#term-path-like-object)，给出要打开的文件的路径名（绝对路径或与当前工作目录的相对路径）或要包裹的文件的整数文件描述符。(如果给出了文件描述符，除非*closefd*被设置为 `False`，否则当返回的I/O对象被关闭时，文件描述符将被关闭）。\n",
    ">\n",
    "> *mode*是一个可选的字符串，指定文件的打开模式。它的默认值是 `r`，表示以文本模式打开阅读。其他常见的值是：`w` 用于写入（如果文件已经存在，则截断它），`x` 用于独占创建，以及 `a` 用于追加（在*某些*Unix系统中，这意味着*所有*写入的文件都追加到文件的末尾，而不管当前的寻址位置）。在文本模式下，如果没有指定*encoding*，使用的编码是与平台有关的：调用 `locale.getpreferredencoding(False)` 来获得当前的locale编码。(对于读和写原始字节，使用二进制模式，不指定*encoding*）。可用的模式有："
   ]
  },
  {
   "cell_type": "markdown",
   "id": "34ac7839-6d31-4b1d-a5cc-16ce000afc28",
   "metadata": {},
   "source": [
    "| Character | Meaning                                                      |\n",
    "| :-------- | :----------------------------------------------------------- |\n",
    "| `'r'`     | open for reading (default)                                   |\n",
    "| `'w'`     | open for writing, truncating the file first                  |\n",
    "| `'x'`     | open for exclusive creation, failing if the file already exists |\n",
    "| `'a'`     | open for writing, appending to the end of file if it exists  |\n",
    "| `'b'`     | binary mode                                                  |\n",
    "| `'t'`     | text mode (default)                                          |\n",
    "| `'+'`     | open for updating (reading and writing)                      |\n",
    "\n"
   ]
  },
  {
   "cell_type": "markdown",
   "id": "8443ecff-f38e-4d30-84b6-23de368bae04",
   "metadata": {},
   "source": [
    "The default mode is `'r'` (open for reading text, a synonym of `'rt'`). Modes `'w+'` and `'w+b'` open and truncate the file. Modes `'r+'` and `'r+b'` open the file with no truncation.\n",
    "\n",
    "As mentioned in the [Overview](https://docs.python.org/3/library/io.html#io-overview), Python distinguishes between binary and text I/O. Files opened in binary mode (including `'b'` in the *mode* argument) return contents as [`bytes`](https://docs.python.org/3/library/stdtypes.html#bytes) objects without any decoding. In text mode (the default, or when `'t'` is included in the *mode* argument), the contents of the file are returned as [`str`](https://docs.python.org/3/library/stdtypes.html#str), the bytes having been first decoded using a platform-dependent encoding or using the specified *encoding* if given.\n",
    "\n",
    "There is an additional mode character permitted, `'U'`, which no longer has any effect, and is considered deprecated. It previously enabled [universal newlines](https://docs.python.org/3/glossary.html#term-universal-newlines) in text mode, which became the default behavior in Python 3.0. Refer to the documentation of the [newline](https://docs.python.org/3/library/functions.html#open-newline-parameter) parameter for further details.\n",
    "\n",
    "> 默认模式是 `'r'`（为阅读文本打开，是 `'rt'` 的同义词）。模式 `'w+'` 和 `'w+b'` 打开并截断文件。`'r+'` 和`'r+b'` 模式打开文件时不截断。\n",
    ">\n",
    "> 正如在 [概述](https://docs.python.org/3/library/io.html#io-overview) 中提到的，Python 区分了二进制和文本 I/O。在二进制模式下打开的文件 (包括 *mode* 参数中的 `'b'`) 返回内容为 [`bytes`](https://docs.python.org/3/library/stdtypes.html#bytes) 对象，没有任何解码。在文本模式下（默认情况下，或者当*mode*参数中包含 `'t'`时），文件的内容被返回为 [`str`](https://docs.python.org/3/library/stdtypes.html#str)，字节首先被解码，使用与平台相关的编码，或者使用指定的*encoding*（如果给定）。\n",
    ">\n",
    "> 有一个额外的允许的模式字符，`'U'`，它不再有任何作用，并且被认为是废弃的。它之前在文本模式下启用了 [通用换行线](https://docs.python.org/3/glossary.html#term-universal-newlines)，这在Python 3.0中成为了默认行为。更多细节请参考 [换行线](https://docs.python.org/3/library/functions.html#open-newline-parameter) 参数的文档。"
   ]
  },
  {
   "cell_type": "markdown",
   "id": "9512eac4-e442-43c1-b525-9faa0ee60af4",
   "metadata": {},
   "source": [
    "*buffering* is an optional integer used to set the buffering policy. Pass 0 to switch buffering off (only allowed in binary mode), 1 to select line buffering (only usable in text mode), and an integer > 1 to indicate the size in bytes of a fixed-size chunk buffer. Note that specifying a buffer size this way applies for binary buffered I/O, but `TextIOWrapper` (i.e., files opened with `mode='r+'`) would have another buffering. To disable buffering in `TextIOWrapper`, consider using the `write_through` flag for [`io.TextIOWrapper.reconfigure()`](https://docs.python.org/3/library/io.html#io.TextIOWrapper.reconfigure). When no *buffering* argument is given, the default buffering policy works as follows:\n",
    "\n",
    "- Binary files are buffered in fixed-size chunks; the size of the buffer is chosen using a heuristic trying to determine the underlying device’s “block size” and falling back on [`io.DEFAULT_BUFFER_SIZE`](https://docs.python.org/3/library/io.html#io.DEFAULT_BUFFER_SIZE). On many systems, the buffer will typically be 4096 or 8192 bytes long.\n",
    "- “Interactive” text files (files for which [`isatty()`](https://docs.python.org/3/library/io.html#io.IOBase.isatty) returns `True`) use line buffering. Other text files use the policy described above for binary files.\n",
    "\n",
    "*encoding* is the name of the encoding used to decode or encode the file. This should only be used in text mode. The default encoding is platform dependent (whatever [`locale.getpreferredencoding()`](https://docs.python.org/3/library/locale.html#locale.getpreferredencoding) returns), but any [text encoding](https://docs.python.org/3/glossary.html#term-text-encoding) supported by Python can be used. See the [`codecs`](https://docs.python.org/3/library/codecs.html#module-codecs) module for the list of supported encodings.\n",
    "\n",
    "> *buffering*是一个可选的整数，用于设置缓冲策略。传递0来关闭缓冲（只允许在二进制模式下），1来选择行缓冲（只在文本模式下可用），以及一个>1的整数来表示一个固定大小的块缓冲区的字节大小。注意，这样指定缓冲区大小适用于二进制缓冲I/O，但 `TextIOWrapper`（即用 `mode='r+'` 打开的文件）会有另一个缓冲区。要在 `TextIOWrapper` 中禁用缓冲，可以考虑使用 [`io.TextIOWrapper.reconfigure()`](https://docs.python.org/3/library/io.html#io.TextIOWrapper.reconfigure) 的 `write_through` 标志。当没有给出*buffering*参数时，默认的缓冲策略工作如下：\n",
    ">\n",
    "> - 二进制文件以固定大小的块进行缓冲；缓冲区的大小是通过启发式方法选择的，试图确定底层设备的 \"块大小\"，并回落到 [`io.DEFAULT_BUFFER_SIZE`](https://docs.python.org/3/library/io.html#io.DEFAULT_BUFFER_SIZE)。在许多系统上，缓冲区的长度通常为4096或8192字节。\n",
    "> - \"交互式\"文本文件（[`isatty()`](https://docs.python.org/3/library/io.html#io.IOBase.isatty) 返回 `True` 的文件）使用行缓冲。其他文本文件使用上面描述的二进制文件的策略。\n",
    ">\n",
    "> *encoding*是用于解码或编码文件的编码的名称。这应该只在文本模式下使用。默认的编码与平台有关 (无论 [`locale.getpreferredencoding()`](https://docs.python.org/3/library/locale.html#locale.getpreferredencoding) 返回什么)，但可以使用Python支持的任何 [text encoding](https://docs.python.org/3/glossary.html#term-text-encoding) 。参见 [`codecs`](https://docs.python.org/3/library/codecs.html#module-codecs) 模块，了解支持的编码列表。"
   ]
  },
  {
   "cell_type": "markdown",
   "id": "fa4eedad-29e1-4c42-9028-b904278aad06",
   "metadata": {},
   "source": [
    "*errors* is an optional string that specifies how encoding and decoding errors are to be handled—this cannot be used in binary mode. A variety of standard error handlers are available (listed under [Error Handlers](https://docs.python.org/3/library/codecs.html#error-handlers)), though any error handling name that has been registered with [`codecs.register_error()`](https://docs.python.org/3/library/codecs.html#codecs.register_error) is also valid. The standard names include:\n",
    "\n",
    "- `'strict'` to raise a [`ValueError`](https://docs.python.org/3/library/exceptions.html#ValueError) exception if there is an encoding error. The default value of `None` has the same effect.\n",
    "- `'ignore'` ignores errors. Note that ignoring encoding errors can lead to data loss.\n",
    "- `'replace'` causes a replacement marker (such as `'?'`) to be inserted where there is malformed data.\n",
    "- `'surrogateescape'` will represent any incorrect bytes as low surrogate code units ranging from U+DC80 to U+DCFF. These surrogate code units will then be turned back into the same bytes when the `surrogateescape` error handler is used when writing data. This is useful for processing files in an unknown encoding.\n",
    "- `'xmlcharrefreplace'` is only supported when writing to a file. Characters not supported by the encoding are replaced with the appropriate XML character reference `&#nnn;`.\n",
    "- `'backslashreplace'` replaces malformed data by Python’s backslashed escape sequences.\n",
    "- `'namereplace'` (also only supported when writing) replaces unsupported characters with `\\N{...}` escape sequences.\n",
    "\n",
    "> *errors*是一个可选的字符串，指定如何处理编码和解码错误--这不能在二进制模式下使用。各种标准的错误处理程序是可用的（在[错误处理程序](https://docs.python.org/3/library/codecs.html#error-handlers)中列出），尽管任何已经用 [`codecs.register_error()`](https://docs.python.org/3/library/codecs.html#codecs.register_error) 注册的错误处理名称也是有效的。标准名称包括。\n",
    ">\n",
    "> - `'strict'` 在有编码错误时引发一个[ValueError](https://docs.python.org/3/library/exceptions.html#ValueError)异常。默认值 `None` 有同样的效果。\n",
    "> - `'ignore'` 忽略错误。注意，忽略编码错误会导致数据丢失。\n",
    "> - `'replace'` 导致在有错误数据的地方插入一个替换标记（例如 `'?'`）。\n",
    "> - `'surrogateescape'` 将表示任何不正确的字节为低代理码单位，范围从U+DC80到U+DCFF。当写数据时使用 `surrogateescape` 错误处理程序，这些代理代码单位将被转回相同的字节。这对于处理未知编码的文件很有用。\n",
    "> - `'xmlcharrefreplace'` 只在写到文件时支持。编码不支持的字符会被替换成适当的XML字符参考`&#nnn;`。\n",
    "> - `'backslashreplace'` 用Python的反斜线转义序列替换畸形的数据。\n",
    "> - `'namereplace'` (也只在写入时支持)用 `\\N{...}` 转义序列替换不支持的字符。"
   ]
  },
  {
   "cell_type": "markdown",
   "id": "858e3c8e-a147-4955-a074-fe0199a2e2a7",
   "metadata": {},
   "source": [
    "*newline* controls how [universal newlines](https://docs.python.org/3/glossary.html#term-universal-newlines) mode works (it only applies to text mode). It can be `None`, `''`, `'\\n'`, `'\\r'`, and `'\\r\\n'`. It works as follows:\n",
    "\n",
    "- When reading input from the stream, if *newline* is `None`, universal newlines mode is enabled. Lines in the input can end in `'\\n'`, `'\\r'`, or `'\\r\\n'`, and these are translated into `'\\n'` before being returned to the caller. If it is `''`, universal newlines mode is enabled, but line endings are returned to the caller untranslated. If it has any of the other legal values, input lines are only terminated by the given string, and the line ending is returned to the caller untranslated.\n",
    "- When writing output to the stream, if *newline* is `None`, any `'\\n'` characters written are translated to the system default line separator, [`os.linesep`](https://docs.python.org/3/library/os.html#os.linesep). If *newline* is `''` or `'\\n'`, no translation takes place. If *newline* is any of the other legal values, any `'\\n'` characters written are translated to the given string.\n",
    "\n",
    "> *newline*控制[通用换行线](https://docs.python.org/3/glossary.html#term-universal-newlines)模式如何工作（它只适用于文本模式）。它可以是 `None`、`''`、`'\\n'`、`'\\r'` 和 `'\\r\\n'`。它的工作原理如下。\n",
    ">\n",
    "> - 当从流中读取输入时，如果*newline*是 `None`，则启用通用换行模式。输入的行可以以 `'\\n'`、`'\\r'` 或 `'\\r\\n'` 结尾，这些行在返回给调用者之前会被翻译成 `'\\n'`。如果它是 `''`，则启用通用换行模式，但行尾会被返回给调用者而不被翻译。如果它有其他任何一个合法的值，输入行只以给定的字符串结束，并且行尾会未经翻译地返回给调用者。\n",
    "> - 当向流写入输出时，如果*newline*是 `None`，任何 `'\\n'` 字符都会被翻译成系统默认的行分隔符，[`os.linesep`](https://docs.python.org/3/library/os.html#os.linesep)。如果*newline*是 `''` 或 `'\\n'`，则不会发生翻译。如果*newline*是其他任何一个合法的值，任何 `'\\n'` 字符将被翻译成给定的字符串。"
   ]
  },
  {
   "cell_type": "markdown",
   "id": "685021dc-a773-47eb-9326-4468a5398b73",
   "metadata": {},
   "source": [
    "If *closefd* is `False` and a file descriptor rather than a filename was given, the underlying file descriptor will be kept open when the file is closed. If a filename is given *closefd* must be `True` (the default); otherwise, an error will be raised.\n",
    "\n",
    "A custom opener can be used by passing a callable as *opener*. The underlying file descriptor for the file object is then obtained by calling *opener* with (*file*, *flags*). *opener* must return an open file descriptor (passing [`os.open`](https://docs.python.org/3/library/os.html#os.open) as *opener* results in functionality similar to passing `None`).\n",
    "\n",
    "The newly created file is [non-inheritable](https://docs.python.org/3/library/os.html#fd-inheritance).\n",
    "\n",
    "The following example uses the [dir_fd](https://docs.python.org/3/library/os.html#dir-fd) parameter of the [`os.open()`](https://docs.python.org/3/library/os.html#os.open) function to open a file relative to a given directory:\n",
    "\n",
    "> 如果*closefd*是 `False`，并且给出了一个文件描述符而不是文件名，当文件被关闭时，底层的文件描述符将被保持打开。如果给了一个文件名，*closefd*必须是 `True`（默认值）；否则，将产生一个错误。\n",
    ">\n",
    "> 可以通过传递一个可调用的*opener*来使用一个自定义的开启器。然后通过调用*opener*与（*file*, *flags*）来获得文件对象的底层文件描述符。*opener*必须返回一个开放的文件描述符（传递 [`os.open`](https://docs.python.org/3/library/os.html#os.open) 作为*opener*的结果是与传递 `None` 类似的功能）。\n",
    ">\n",
    "> 新创建的文件是[non-inheritable](https://docs.python.org/3/library/os.html#fd-inheritance)。\n",
    ">\n",
    "> 下面的例子使用 [`os.open()`](https://docs.python.org/3/library/os.html#os.open) 函数的[dir_fd](https://docs.python.org/3/library/os.html#dir-fd)参数来打开一个相对于指定目录的文件。"
   ]
  },
  {
   "cell_type": "raw",
   "id": "62df31f7-39f9-48f9-bf39-a25eb38add4d",
   "metadata": {},
   "source": [
    "import os\n",
    "dir_fd = os.open('somedir', os.O_RDONLY)\n",
    "def opener(path, flags):\n",
    "    return os.open(path, flags, dir_fd=dir_fd)\n",
    "\n",
    "with open('spamspam.txt', 'w', opener=opener) as f:\n",
    "    print('This will be written to somedir/spamspam.txt', file=f)\n",
    "\n",
    "os.close(dir_fd)  # don't leak a file descriptor"
   ]
  },
  {
   "cell_type": "markdown",
   "id": "949137b5-1734-430f-be08-5d43030c2e2a",
   "metadata": {},
   "source": [
    "The type of [file object](https://docs.python.org/3/glossary.html#term-file-object) returned by the [`open()`](https://docs.python.org/3/library/functions.html#open) function depends on the mode. When [`open()`](https://docs.python.org/3/library/functions.html#open) is used to open a file in a text mode (`'w'`, `'r'`, `'wt'`, `'rt'`, etc.), it returns a subclass of [`io.TextIOBase`](https://docs.python.org/3/library/io.html#io.TextIOBase) (specifically [`io.TextIOWrapper`](https://docs.python.org/3/library/io.html#io.TextIOWrapper)). When used to open a file in a binary mode with buffering, the returned class is a subclass of [`io.BufferedIOBase`](https://docs.python.org/3/library/io.html#io.BufferedIOBase). The exact class varies: in read binary mode, it returns an [`io.BufferedReader`](https://docs.python.org/3/library/io.html#io.BufferedReader); in write binary and append binary modes, it returns an [`io.BufferedWriter`](https://docs.python.org/3/library/io.html#io.BufferedWriter), and in read/write mode, it returns an [`io.BufferedRandom`](https://docs.python.org/3/library/io.html#io.BufferedRandom). When buffering is disabled, the raw stream, a subclass of [`io.RawIOBase`](https://docs.python.org/3/library/io.html#io.RawIOBase), [`io.FileIO`](https://docs.python.org/3/library/io.html#io.FileIO), is returned.\n",
    "\n",
    "See also the file handling modules, such as [`fileinput`](https://docs.python.org/3/library/fileinput.html#module-fileinput), [`io`](https://docs.python.org/3/library/io.html#module-io) (where [`open()`](https://docs.python.org/3/library/functions.html#open) is declared), [`os`](https://docs.python.org/3/library/os.html#module-os), [`os.path`](https://docs.python.org/3/library/os.path.html#module-os.path), [`tempfile`](https://docs.python.org/3/library/tempfile.html#module-tempfile), and [`shutil`](https://docs.python.org/3/library/shutil.html#module-shutil).\n",
    "\n",
    "Raises an [auditing event](https://docs.python.org/3/library/sys.html#auditing) `open` with arguments `file`, `mode`, `flags`.\n",
    "\n",
    "The `mode` and `flags` arguments may have been modified or inferred from the original call.\n",
    "\n",
    "> 由[`open()`](https://docs.python.org/3/library/functions.html#open)函数返回的[文件对象](https://docs.python.org/3/glossary.html#term-file-object)的类型，取决于模式。当 [`open()`](https://docs.python.org/3/library/functions.html#open) 被用来在文本模式下打开一个文件(`'w'`、`'r'`、`'wt'`、`'rt'`等)时，它返回 [`io.TextIOBase`](https://docs.python.org/3/library/io.html#io.TextIOBase) 的一个子类(特别是 [`io.TextIOWrapper`](https://docs.python.org/3/library/io.html#io.TextIOWrapper) 。） 当用于以缓冲的二进制模式打开一个文件时，返回的类是 [`io.BufferedIOBase` ](https://docs.python.org/3/library/io.html#io.BufferedIOBase) 的子类。具体的类是不同的：在读二进制模式下，它返回一个 [`io.BufferedReader`](https://docs.python.org/3/library/io.html#io.BufferedReader)；在写二进制和追加二进制模式下，它返回一个[`io.BufferedWriter`](https://docs.python.org/3/library/io.html#io.BufferedWriter)，在读/写模式下，它返回一个[`io.BufferedRandom`](https://docs.python.org/3/library/io.html#io.BufferedRandom)。当缓冲功能被禁用时，返回原始流，即[`io.RawIOBase`](https://docs.python.org/3/library/io.html#io.RawIOBase)的子类，[`io.FileIO`](https://docs.python.org/3/library/io.html#io.FileIO)，。\n",
    ">\n",
    "> 也可参见文件处理模块，如[`fileinput`](https://docs.python.org/3/library/fileinput.html#module-fileinput), [`io`](https://docs.python.org/3/library/io.html#module-io) (其中[`open()`](https://docs.python.org/3/library/functions.html#open)被声明), [`os`](https://docs.python.org/3/library/os.html#module-os), [`os.path`](https://docs.python.org/3/library/os.path.html#module-os.path), [`tempfile`](https://docs.python.org/3/library/tempfile.html#module-tempfile) 和 [`shutil`](https://docs.python.org/3/library/shutil.html#module-shutil) 。\n",
    ">\n",
    "> 引发一个[auditing event](https://docs.python.org/3/library/sys.html#auditing) `open`，参数为 `file`、`mode`、`flags`。\n",
    ">\n",
    "> `mode` 和 `flags` 参数可能已经被修改或从原始调用中推断出来。"
   ]
  },
  {
   "cell_type": "markdown",
   "id": "20361f39-e8a1-4702-a73b-4c122b5c69aa",
   "metadata": {},
   "source": [
    "> *Changed in version 3.3:*\n",
    ">\n",
    "> - The *opener* parameter was added.\n",
    "> - The `'x'` mode was added.\n",
    "> - [`IOError`](https://docs.python.org/3/library/exceptions.html#IOError) used to be raised, it is now an alias of [`OSError`](https://docs.python.org/3/library/exceptions.html#OSError).\n",
    "> - [`FileExistsError`](https://docs.python.org/3/library/exceptions.html#FileExistsError) is now raised if the file opened in exclusive creation mode (`'x'`) already exists.\n",
    "\n",
    "> *Changed in version 3.4:*\n",
    ">\n",
    "> - The file is now non-inheritable.\n",
    "\n",
    "*Deprecated since version 3.4, removed in version 3.10:* The `'U'` mode.\n",
    "\n",
    "> *Changed in version 3.5:*\n",
    ">\n",
    "> - If the system call is interrupted and the signal handler does not raise an exception, the function now retries the system call instead of raising an [`InterruptedError`](https://docs.python.org/3/library/exceptions.html#InterruptedError) exception (see [**PEP 475**](https://www.python.org/dev/peps/pep-0475) for the rationale).\n",
    "> - The `'namereplace'` error handler was added.\n",
    "\n",
    "> *Changed in version 3.6:*\n",
    ">\n",
    "> - Support added to accept objects implementing [`os.PathLike`](https://docs.python.org/3/library/os.html#os.PathLike).\n",
    "> - On Windows, opening a console buffer may return a subclass of [`io.RawIOBase`](https://docs.python.org/3/library/io.html#io.RawIOBase) other than [`io.FileIO`](https://docs.python.org/3/library/io.html#io.FileIO).\n",
    "\n",
    "> > *在3.3版本中有所改变：*\n",
    "> >\n",
    "> > - 加入了*opener*参数。\n",
    "> > - 加入了 `'x'` 模式。\n",
    "> > - [`IOError`](https://docs.python.org/3/library/exceptions.html#IOError) 曾经被引发，现在它是 [`OSError`](https://docs.python.org/3/library/exceptions.html#OSError) 的一个别名。\n",
    "> > - 如果在独占创建模式下打开的文件(`'x'`)已经存在，现在会引发 [`FileExistsError`](https://docs.python.org/3/library/exceptions.html#FileExistsError)。\n",
    ">\n",
    "> > *在3.4版本中有所改变：*\n",
    "> >\n",
    "> > - 该文件现在是不可继承的。\n",
    ">\n",
    "> *从3.4版本开始废弃，在3.10版本中删除：* `'U'` 模式。\n",
    ">\n",
    "> > *在3.5版本中改变了：*\n",
    "> >\n",
    "> > - 如果系统调用被中断，而信号处理程序没有引发异常，该函数现在会重试系统调用，而不是引发[`InterruptedError`](https://docs.python.org/3/library/exceptions.html#InterruptedError) 异常（理由见[**PEP 475**](https://www.python.org/dev/peps/pep-0475)）。\n",
    "> > - 加入了 `'namereplace'` 错误处理程序。\n",
    ">\n",
    "> > *在3.6版本中有所改变：*\n",
    "> >\n",
    "> > - 增加了对接受实现 [`os.PathLike`](https://docs.python.org/3/library/os.html#os.PathLike) 的对象的支持。\n",
    "> > - 在Windows上，打开一个控制台缓冲区可能会返回一个 [`io.RawIOBase`](https://docs.python.org/3/library/io.html#io.RawIOBase) 的子类，而不是[`io.FileIO`](https://docs.python.org/3/library/io.html#io.FileIO)。"
   ]
  },
  {
   "cell_type": "markdown",
   "id": "c2a84458-9f60-4886-bfae-f82d6be247df",
   "metadata": {},
   "source": [
    "`ord`(*c*)\n",
    "\n",
    "Given a string representing one Unicode character, return an integer representing the Unicode code point of that character. For example, `ord('a')` returns the integer `97` and `ord('€')` (Euro sign) returns `8364`. This is the inverse of [`chr()`](https://docs.python.org/3/library/functions.html#chr).\n",
    "\n",
    "> `ord`(*c*)\n",
    ">\n",
    "> 给出一个代表一个Unicode字符的字符串，返回一个代表该字符Unicode码位的整数。例如，`ord('a') `返回整数 `97`，`ord('€')`（欧洲符号）返回 `8364`。这是 [`chr()`](https://docs.python.org/3/library/functions.html#chr) 的逆运算。"
   ]
  },
  {
   "cell_type": "code",
   "execution_count": 69,
   "id": "b9c91ced-45d5-4633-a473-4d91795d431d",
   "metadata": {},
   "outputs": [
    {
     "data": {
      "text/plain": [
       "115"
      ]
     },
     "execution_count": 69,
     "metadata": {},
     "output_type": "execute_result"
    }
   ],
   "source": [
    "ord('s')"
   ]
  },
  {
   "cell_type": "markdown",
   "id": "39a7699b-9a5d-4bf1-b894-c72766335f90",
   "metadata": {},
   "source": [
    "`pow`(*base*, *exp*[, *mod*])\n",
    "\n",
    "Return *base* to the power *exp*; if *mod* is present, return *base* to the power *exp*, modulo *mod* (computed more efficiently than `pow(base, exp) % mod`). The two-argument form `pow(base, exp)` is equivalent to using the power operator: `base**exp`.\n",
    "\n",
    "The arguments must have numeric types. With mixed operand types, the coercion rules for binary arithmetic operators apply. For [`int`](https://docs.python.org/3/library/functions.html#int) operands, the result has the same type as the operands (after coercion) unless the second argument is negative; in that case, all arguments are converted to float and a float result is delivered. For example, `pow(10, 2)` returns `100`, but `pow(10, -2)` returns `0.01`. For a negative base of type [`int`](https://docs.python.org/3/library/functions.html#int) or [`float`](https://docs.python.org/3/library/functions.html#float) and a non-integral exponent, a complex result is delivered. For example, `pow(-9, 0.5)` returns a value close to `3j`.\n",
    "\n",
    "For [`int`](https://docs.python.org/3/library/functions.html#int) operands *base* and *exp*, if *mod* is present, *mod* must also be of integer type and *mod* must be nonzero. If *mod* is present and *exp* is negative, *base* must be relatively prime to *mod*. In that case, `pow(inv_base, -exp, mod)` is returned, where *inv_base* is an inverse to *base* modulo *mod*.\n",
    "\n",
    "Here’s an example of computing an inverse for `38` modulo `97`:\n",
    "\n",
    "> `pow`(*base*, *exp*[, *mod*])\n",
    ">\n",
    "> 返回*base*到幂*exp*；如果*mod*存在，则返回*base*到幂*exp*，模到*mod*（比 `pow(base, exp) % mod` 计算更有效）。双参数形式 `pow(base, exp)` 等同于使用幂运算符：`base**exp`。\n",
    ">\n",
    "> 参数必须是数字类型。对于混合操作数类型，适用二进制算术运算符的强制规则。对于 [`int`](https://docs.python.org/3/library/functions.html#int) 操作数，其结果与操作数的类型相同（强制后），除非第二个参数为负数；在这种情况下，所有参数都被转换为浮点数，并提供一个浮点数结果。例如，`pow(10, 2)` 返回 `100`，但是 `pow(10, -2)` 返回 `0.01`。对于类型为 [`int`](https://docs.python.org/3/library/functions.html#int) 或[`float`](https://docs.python.org/3/library/functions.html#float) 的负基和非整数的指数，会得到一个复数结果。例如，`pow(-9, 0.5) `返回一个接近于 `3j` 的值。\n",
    ">\n",
    "> 对于 [`int`](https://docs.python.org/3/library/functions.html#int) 操作数*base*和*exp*，如果*mod*存在，*mod*也必须是整数类型，并且*mod*必须是非零。如果*mod*存在而*exp*为负数，则*base*必须是相对于*mod*的质数。在这种情况下，将返回 `pow(inv_base, -exp, mod)`，其中*inv_base*是*base*的逆数，并与*mod*相乘。\n",
    ">\n",
    "> 下面是一个计算 `38` 模到 `97` 的逆的例子："
   ]
  },
  {
   "cell_type": "code",
   "execution_count": 70,
   "id": "ad0477ca-ef05-4ced-af1c-804a52a9d615",
   "metadata": {},
   "outputs": [
    {
     "data": {
      "text/plain": [
       "23"
      ]
     },
     "execution_count": 70,
     "metadata": {},
     "output_type": "execute_result"
    },
    {
     "data": {
      "text/plain": [
       "True"
      ]
     },
     "execution_count": 70,
     "metadata": {},
     "output_type": "execute_result"
    },
    {
     "data": {
      "text/plain": [
       "0.02631578947368421"
      ]
     },
     "execution_count": 70,
     "metadata": {},
     "output_type": "execute_result"
    }
   ],
   "source": [
    "pow(38, -1, mod=97)\n",
    "\n",
    "23*38 % 97 == 1\n",
    "\n",
    "pow(38, -1) % 97"
   ]
  },
  {
   "cell_type": "code",
   "execution_count": 71,
   "id": "99d1fdf9-3287-4366-abf6-406a36954d9e",
   "metadata": {},
   "outputs": [
    {
     "data": {
      "text/plain": [
       "1"
      ]
     },
     "execution_count": 71,
     "metadata": {},
     "output_type": "execute_result"
    }
   ],
   "source": [
    "pow(2, 8, 3)"
   ]
  },
  {
   "cell_type": "markdown",
   "id": "f6b84ccb-bd3d-48f9-bb9f-84408bb08b3d",
   "metadata": {},
   "source": [
    "*Changed in version 3.8:* For [`int`](https://docs.python.org/3/library/functions.html#int) operands, the three-argument form of `pow` now allows the second argument to be negative, permitting computation of modular inverses.\n",
    "\n",
    "*Changed in version 3.8:* Allow keyword arguments. Formerly, only positional arguments were supported.\n",
    "\n",
    "> *在3.8版中改变了：*对于 [`int`](https://docs.python.org/3/library/functions.html#int) 操作数，`pow` 的三参数形式现在允许第二个参数为负数，允许计算模块反演。\n",
    ">\n",
    "> *在3.8版本中改变了：* 允许关键字参数。以前，只支持位置参数。"
   ]
  },
  {
   "cell_type": "markdown",
   "id": "a784f778-d843-4740-bd59-8c1aa21c3341",
   "metadata": {},
   "source": [
    "`print`(**objects*, *sep=' '*, *end='\\n'*, *file=sys.stdout*, *flush=False*)\n",
    "\n",
    "Print *objects* to the text stream *file*, separated by *sep* and followed by *end*. *sep*, *end*, *file*, and *flush*, if present, must be given as keyword arguments.\n",
    "\n",
    "All non-keyword arguments are converted to strings like [`str()`](https://docs.python.org/3/library/stdtypes.html#str) does and written to the stream, separated by *sep* and followed by *end*. Both *sep* and *end* must be strings; they can also be `None`, which means to use the default values. If no *objects* are given, [`print()`](https://docs.python.org/3/library/functions.html#print) will just write *end*.\n",
    "\n",
    "The *file* argument must be an object with a `write(string)` method; if it is not present or `None`, [`sys.stdout`](https://docs.python.org/3/library/sys.html#sys.stdout) will be used. Since printed arguments are converted to text strings, [`print()`](https://docs.python.org/3/library/functions.html#print) cannot be used with binary mode file objects. For these, use `file.write(...)` instead.\n",
    "\n",
    "Whether the output is buffered is usually determined by *file*, but if the *flush* keyword argument is true, the stream is forcibly flushed.\n",
    "\n",
    "*Changed in version 3.3:* Added the *flush* keyword argument.\n",
    "\n",
    "> `print`(**objects*, *sep=' '*, *end='/n'*, *file=sys.stdout*, *flush=False*)\n",
    ">\n",
    "> 打印*objects*到文本流*file*，用*sep*分开，后面是*end*。*sep*、*end*、*file*和*flush*，如果存在，必须作为关键字参数给出。\n",
    ">\n",
    "> 所有非关键字参数都会像 [`str()`](https://docs.python.org/3/library/stdtypes.html#str) 那样转换为字符串，并写入流中，用*sep*分隔，后面是*end*。*sep*和*end*都必须是字符串；它们也可以是 `None`，这意味着使用默认值。如果没有给出*objects*，[`print()`](https://docs.python.org/3/library/functions.html#print) 将只写*end*。\n",
    ">\n",
    "> *file*参数必须是一个具有 `write(string)` 方法的对象；如果它不存在或 `None`，将使用 [`sys.stdout`](https://docs.python.org/3/library/sys.html#sys.stdout)。由于打印的参数被转换为文本字符串，[`print()` ](https://docs.python.org/3/library/functions.html#print)不能用于二进制模式文件对象。对于这些对象，使用`file.write(...)`代替。\n",
    ">\n",
    "> 输出是否被缓冲通常由*file*决定，但如果*flush*关键字参数为真，则流被强制刷新。\n",
    ">\n",
    "> *3.3版中的变化：* 增加了*flush*关键字参数。"
   ]
  },
  {
   "cell_type": "code",
   "execution_count": 72,
   "id": "3e7a1670-4576-4ba8-8a7f-220528fd2192",
   "metadata": {},
   "outputs": [
    {
     "name": "stdout",
     "output_type": "stream",
     "text": [
      "1 2 3 4 5\n"
     ]
    }
   ],
   "source": [
    "print(1,2,3,4,5, sep=' ')"
   ]
  },
  {
   "cell_type": "markdown",
   "id": "0726e042-5233-425f-bb86-105a3a3399df",
   "metadata": {},
   "source": [
    "*class* `property`(*fget=None*, *fset=None*, *fdel=None*, *doc=None*)\n",
    "\n",
    "Return a property attribute.\n",
    "\n",
    "*fget* is a function for getting an attribute value. *fset* is a function for setting an attribute value. *fdel* is a function for deleting an attribute value. And *doc* creates a docstring for the attribute.\n",
    "\n",
    "A typical use is to define a managed attribute `x`:\n",
    "\n",
    "> *class* `property`(*fget=None*, *fset=None*, *fdel=None*, *doc=None*)\n",
    ">\n",
    "> 返回一个特性属性。\n",
    ">\n",
    "> *fget*是一个获取属性值的函数。*fset*是一个设置属性值的函数。*fdel*是一个删除属性值的函数。而*doc*为属性创建一个文档串。\n",
    ">\n",
    "> 一个典型的用法是定义一个管理属性`x`："
   ]
  },
  {
   "cell_type": "code",
   "execution_count": 73,
   "id": "ad5916cc-8177-4bc2-9fee-69ad69880364",
   "metadata": {},
   "outputs": [],
   "source": [
    "class C:\n",
    "    def __int__(self):\n",
    "        self._x = None\n",
    "        \n",
    "    def getx(self):\n",
    "        return self._x\n",
    "    \n",
    "    def setx(self, value):\n",
    "        self._x = value\n",
    "        \n",
    "    def delx(self):\n",
    "        del self._x\n",
    "        \n",
    "    x = property(getx, setx, delx, \"I'm the 'x' property.\")"
   ]
  },
  {
   "cell_type": "markdown",
   "id": "7ac2b01e-d839-4920-9f3a-a74b8be36184",
   "metadata": {},
   "source": [
    "If *c* is an instance of *C*, `c.x` will invoke the getter, `c.x = value` will invoke the setter, and `del c.x` the deleter.\n",
    "\n",
    "If given, *doc* will be the docstring of the property attribute. Otherwise, the property will copy *fget*’s docstring (if it exists). This makes it possible to create read-only properties easily using [`property()`](https://docs.python.org/3/library/functions.html#property) as a [decorator](https://docs.python.org/3/glossary.html#term-decorator):\n",
    "\n",
    "> 如果*c*是*C*的一个实例，`c.x` 将调用getter，`c.x = value `将调用setter，`del c.x `将调用deleteter。\n",
    ">\n",
    "> 如果给定，*doc*将是属性的docstring。否则，该属性将复制*fget*的文档串（如果它存在的话）。这使得使用[`property()` ](https://docs.python.org/3/library/functions.html#property)作为 [decorator](https://docs.python.org/3/glossary.html#term-decorator) 轻松创建只读属性成为可能："
   ]
  },
  {
   "cell_type": "code",
   "execution_count": 74,
   "id": "255c6a01-82d2-4f67-99fb-3c6c47270f48",
   "metadata": {},
   "outputs": [],
   "source": [
    "class Parrot:\n",
    "    def __init__(self):\n",
    "        self._voltage = 100000\n",
    "        \n",
    "    @property\n",
    "    def voltage(self):\n",
    "        \"\"\"Get the current voltage\"\"\"\n",
    "        return self._voltage"
   ]
  },
  {
   "cell_type": "markdown",
   "id": "c9f838b1-1d8e-47f6-8633-456ace5f1cfa",
   "metadata": {},
   "source": [
    "The `@property` decorator turns the `voltage()` method into a “getter” for a read-only attribute with the same name, and it sets the docstring for *voltage* to “Get the current voltage.”\n",
    "\n",
    "A property object has `getter`, `setter`, and `deleter` methods usable as decorators that create a copy of the property with the corresponding accessor function set to the decorated function. This is best explained with an example:\n",
    "\n",
    "> `@property `装饰器将 `voltage()` 方法变成一个同名的只读属性的 \"getter\"，并将*voltage*的文件串设置为 \"Get the current voltage\"。\n",
    ">\n",
    "> 一个属性对象有 `getter`、`setter` 和 `deleter` 方法，可以作为装饰器使用，创建一个属性的副本，相应的访问函数设置为装饰函数。这最好用一个例子来解释："
   ]
  },
  {
   "cell_type": "code",
   "execution_count": 75,
   "id": "91f2aefc-12af-4b84-828f-6c356707d4a7",
   "metadata": {},
   "outputs": [],
   "source": [
    "class C:\n",
    "    def __init__(self):\n",
    "        self._x = None\n",
    "        \n",
    "    @property\n",
    "    def x(self):\n",
    "        \"\"\"I'm the 'x' property\"\"\"\n",
    "        return self._x\n",
    "    \n",
    "    @x.setter\n",
    "    def x(self, value):\n",
    "        self._x = value\n",
    "        \n",
    "    @x.deleter\n",
    "    def x(self):\n",
    "        del self._x"
   ]
  },
  {
   "cell_type": "code",
   "execution_count": 76,
   "id": "0cb051f0-17de-4538-80f8-0296697ce651",
   "metadata": {},
   "outputs": [],
   "source": [
    "c = C()\n",
    "c.x"
   ]
  },
  {
   "cell_type": "markdown",
   "id": "55d3b81a-4307-4a5b-953b-14078cb37ef9",
   "metadata": {},
   "source": [
    "This code is exactly equivalent to the first example. Be sure to give the additional functions the same name as the original property (`x` in this case.)\n",
    "\n",
    "The returned property object also has the attributes `fget`, `fset`, and `fdel` corresponding to the constructor arguments.\n",
    "\n",
    "*Changed in version 3.5:* The docstrings of property objects are now writeable.\n",
    "\n",
    "> 这段代码与第一个例子完全等同。请确保给附加函数的名称与原始属性相同（本例中为 `x`）。\n",
    ">\n",
    "> 返回的属性对象也有对应于构造函数参数的属性 `fget`、`fset`和`fdel`。\n",
    ">\n",
    "> *在3.5版本中改变了：*属性对象的文件串现在是可写的。"
   ]
  },
  {
   "cell_type": "markdown",
   "id": "2d21182d-d3d9-4fe4-ae4f-5bae6f1ee648",
   "metadata": {},
   "source": [
    "*class* `range`(*stop*)\n",
    "\n",
    "*class* `range`(*start*, *stop*[, *step*])\n",
    "\n",
    "Rather than being a function, [`range`](https://docs.python.org/3/library/stdtypes.html#range) is actually an immutable sequence type, as documented in [Ranges](https://docs.python.org/3/library/stdtypes.html#typesseq-range) and [Sequence Types — list, tuple, range](https://docs.python.org/3/library/stdtypes.html#typesseq).\n",
    "\n",
    "> *class* `range`(*stop*)\n",
    ">\n",
    "> *class* `range`(*start*, *stop*[, *step*])\n",
    ">\n",
    "> 与其说是一个函数，[`range`](https://docs.python.org/3/library/stdtypes.html#range) 实际上是一个不可变的序列类型，正如[Ranges](https://docs.python.org/3/library/stdtypes.html#typesseq-range)和[Sequence Types - list, tuple, range](https://docs.python.org/3/library/stdtypes.html#typesseq)中所记载的。"
   ]
  },
  {
   "cell_type": "code",
   "execution_count": 77,
   "id": "430fe1ab-b1e8-4a15-9964-3bb495a8c391",
   "metadata": {},
   "outputs": [
    {
     "data": {
      "text/plain": [
       "range(1, 11, 2)"
      ]
     },
     "execution_count": 77,
     "metadata": {},
     "output_type": "execute_result"
    }
   ],
   "source": [
    "r = range(1, 11, 2)\n",
    "r"
   ]
  },
  {
   "cell_type": "markdown",
   "id": "c5b060d0-fe66-4794-b105-e340acc42c55",
   "metadata": {},
   "source": [
    "`repr`(*object*)\n",
    "\n",
    "Return a string containing a printable representation of an object. For many types, this function makes an attempt to return a string that would yield an object with the same value when passed to [`eval()`](https://docs.python.org/3/library/functions.html#eval); otherwise, the representation is a string enclosed in angle brackets that contains the name of the type of the object together with additional information often including the name and address of the object. A class can control what this function returns for its instances by defining a `__repr__()` method.\n",
    "\n",
    "> `repr`(*object*)\n",
    ">\n",
    "> 返回一个包含对象的可打印表示的字符串。对于许多类型，这个函数试图返回一个字符串，当传递给 [`eval()`](https://docs.python.org/3/library/functions.html#eval) 时，会产生一个具有相同值的对象；否则，表示法是一个用角括号括起来的字符串，包含了对象的类型名称以及其他信息，通常包括对象的名称和地址。一个类可以通过定义一个 `__repr__()` 方法来控制这个函数对其实例的返回。"
   ]
  },
  {
   "cell_type": "code",
   "execution_count": 78,
   "id": "d3eddf53-4169-4655-9598-56693346575a",
   "metadata": {},
   "outputs": [
    {
     "data": {
      "text/plain": [
       "'range(1, 11, 2)'"
      ]
     },
     "execution_count": 78,
     "metadata": {},
     "output_type": "execute_result"
    },
    {
     "data": {
      "text/plain": [
       "range(1, 11, 2)"
      ]
     },
     "execution_count": 78,
     "metadata": {},
     "output_type": "execute_result"
    }
   ],
   "source": [
    "repr(r)\n",
    "eval(repr(r))"
   ]
  },
  {
   "cell_type": "markdown",
   "id": "3c05ecf6-db25-487a-a317-1c616fac07c5",
   "metadata": {},
   "source": [
    "`reversed`(*seq*)\n",
    "\n",
    "Return a reverse [iterator](https://docs.python.org/3/glossary.html#term-iterator). *seq* must be an object which has a `__reversed__()` method or supports the sequence protocol (the `__len__()` method and the `__getitem__()` method with integer arguments starting at `0`).\n",
    "\n",
    "> `reversed`(*seq*)\n",
    ">\n",
    "> 返回一个反向的[迭代器](https://docs.python.org/3/glossary.html#term-iterator)。*seq*必须是一个有 `__reversed__()` 方法或支持序列协议（ `__len__()` 方法和`__getitem__() `方法的整数参数从 `0` 开始）的对象。"
   ]
  },
  {
   "cell_type": "code",
   "execution_count": 79,
   "id": "2cb83c2a-2027-4545-ab38-4d0989e9f9d6",
   "metadata": {},
   "outputs": [
    {
     "data": {
      "text/plain": [
       "[9, 7, 5, 3, 1]"
      ]
     },
     "execution_count": 79,
     "metadata": {},
     "output_type": "execute_result"
    },
    {
     "data": {
      "text/plain": [
       "[9, 8, 7, 6, 5, 4, 3, 2, 1, 0]"
      ]
     },
     "execution_count": 79,
     "metadata": {},
     "output_type": "execute_result"
    }
   ],
   "source": [
    "list(reversed(r))\n",
    "list(reversed([x for x in range(10)]))"
   ]
  },
  {
   "cell_type": "markdown",
   "id": "9e2cee7a-151b-49bc-8778-2b3eb7912009",
   "metadata": {},
   "source": [
    "`round`(*number*[, *ndigits*])\n",
    "\n",
    "Return *number* rounded to *ndigits* precision after the decimal point. If *ndigits* is omitted or is `None`, it returns the nearest integer to its input.\n",
    "\n",
    "For the built-in types supporting [`round()`](https://docs.python.org/3/library/functions.html#round), values are rounded to the closest multiple of 10 to the power minus *ndigits*; if two multiples are equally close, rounding is done toward the even choice (so, for example, both `round(0.5)` and `round(-0.5)` are `0`, and `round(1.5)` is `2`). Any integer value is valid for *ndigits* (positive, zero, or negative). The return value is an integer if *ndigits* is omitted or `None`. Otherwise, the return value has the same type as *number*.\n",
    "\n",
    "For a general Python object `number`, `round` delegates to `number.__round__`.\n",
    "\n",
    "> `round`(*number*[, *ndigits*])\n",
    ">\n",
    "> 返回*number*四舍五入到小数点后的*ndigits*精度。如果*ndigits*被省略或为 `None`，它将返回与其输入值最接近的整数。\n",
    ">\n",
    "> 对于支持 [`round()`](https://docs.python.org/3/library/functions.html#round) 的内置类型，数值被四舍五入到10的最接近的倍数减去*ndigits*；如果两个倍数同样接近，则向偶数选择四舍五入（所以，例如，`round(0.5) `和 `round(-0.5)` 都是`0`，而 `round(1.5)`是`2`）。任何整数值对*数字*都是有效的（正、零或负）。如果*ndigits*被省略，返回值是一个整数或 `None`。否则，返回值的类型与*number*相同。\n",
    ">\n",
    "> 对于一个普通的Python对象 `number`，`round `委托给 `number.__round__`。"
   ]
  },
  {
   "cell_type": "markdown",
   "id": "9f2035e2-9c7d-424f-bdf2-4c645e69df2f",
   "metadata": {},
   "source": [
    "**Note:** The behavior of [`round()`](https://docs.python.org/3/library/functions.html#round) for floats can be surprising: for example, `round(2.675, 2)` gives `2.67` instead of the expected `2.68`. This is not a bug: it’s a result of the fact that most decimal fractions can’t be represented exactly as a float. See [Floating Point Arithmetic: Issues and Limitations](https://docs.python.org/3/tutorial/floatingpoint.html#tut-fp-issues) for more information.\n",
    "\n",
    "> **注意：** [`round()`](https://docs.python.org/3/library/functions.html#round) 对浮点数的行为可能令人惊讶：例如，`round(2.675, 2)` 给出 `2.67` 而不是预期的`2.68`。这不是一个错误：这是由于大多数小数的分数不能精确地表示为浮点数的结果。更多信息请参见[浮点运算：问题和限制](https://docs.python.org/3/tutorial/floatingpoint.html#tut-fp-issues)。"
   ]
  },
  {
   "cell_type": "code",
   "execution_count": 80,
   "id": "295b8cde-cf75-43f8-9139-2b66bf28d8fa",
   "metadata": {},
   "outputs": [
    {
     "data": {
      "text/plain": [
       "3.142"
      ]
     },
     "execution_count": 80,
     "metadata": {},
     "output_type": "execute_result"
    },
    {
     "data": {
      "text/plain": [
       "3.14"
      ]
     },
     "execution_count": 80,
     "metadata": {},
     "output_type": "execute_result"
    }
   ],
   "source": [
    "import math\n",
    "round(math.pi, 3)\n",
    "round(3.142, 2)"
   ]
  },
  {
   "cell_type": "markdown",
   "id": "9807cba8-c4c9-4a82-89b9-11c4aeed166b",
   "metadata": {},
   "source": [
    "*class* `set`([*iterable*])\n",
    "\n",
    "Return a new [`set`](https://docs.python.org/3/library/stdtypes.html#set) object, optionally with elements taken from *iterable*. `set` is a built-in class. See [`set`](https://docs.python.org/3/library/stdtypes.html#set) and [Set Types — set, frozenset](https://docs.python.org/3/library/stdtypes.html#types-set) for documentation about this class.\n",
    "\n",
    "For other containers see the built-in [`frozenset`](https://docs.python.org/3/library/stdtypes.html#frozenset), [`list`](https://docs.python.org/3/library/stdtypes.html#list), [`tuple`](https://docs.python.org/3/library/stdtypes.html#tuple), and [`dict`](https://docs.python.org/3/library/stdtypes.html#dict) classes, as well as the [`collections`](https://docs.python.org/3/library/collections.html#module-collections) module.\n",
    "\n",
    "> *class* `set`([*iterable*] )\n",
    ">\n",
    "> 返回一个新的 [`set`](https://docs.python.org/3/library/stdtypes.html#set) 对象，可以选择从*iterable*中获取元素。`set` 是一个内置的类。关于这个类的文档请参见[`set`](https://docs.python.org/3/library/stdtypes.html#set) 和[Set Types - set, frozenset](https://docs.python.org/3/library/stdtypes.html#types-set)。\n",
    ">\n",
    "> 关于其他容器，请参见内置的 [`frozenset`](https://docs.python.org/3/library/stdtypes.html#frozenset), [`list`](https://docs.python.org/3/library/stdtypes.html#list), [`tuple`](https://docs.python.org/3/library/stdtypes.html#tuple), 和 [`dict`](https://docs.python.org/3/library/stdtypes.html#dict) 类，以及 [`collections`](https://docs.python.org/3/library/collections.html#module-collections) 模块。"
   ]
  },
  {
   "cell_type": "code",
   "execution_count": 81,
   "id": "cc13a9d1-6d32-4656-9f3e-a4a9435d5e3c",
   "metadata": {},
   "outputs": [
    {
     "data": {
      "text/plain": [
       "set()"
      ]
     },
     "execution_count": 81,
     "metadata": {},
     "output_type": "execute_result"
    },
    {
     "data": {
      "text/plain": [
       "{0, 1, 2, 3, 4, 5, 6, 7, 8, 9}"
      ]
     },
     "execution_count": 81,
     "metadata": {},
     "output_type": "execute_result"
    }
   ],
   "source": [
    "s = set()\n",
    "s\n",
    "se = set(x for x in range(10))\n",
    "se"
   ]
  },
  {
   "cell_type": "markdown",
   "id": "d5962cee-6fb4-4719-8b25-863143045f3f",
   "metadata": {},
   "source": [
    "*class* `slice`(*stop*)\n",
    "\n",
    "*class* `slice`(*start*, *stop*[, *step*])\n",
    "\n",
    "Return a [slice](https://docs.python.org/3/glossary.html#term-slice) object representing the set of indices specified by `range(start, stop, step)`. The *start* and *step* arguments default to `None`. Slice objects have read-only data attributes `start`, `stop`, and `step` which merely return the argument values (or their default). They have no other explicit functionality; however, they are used by NumPy and other third-party packages. Slice objects are also generated when extended indexing syntax is used. For example: `a[start:stop:step]` or `a[start:stop, i]`. See [`itertools.islice()`](https://docs.python.org/3/library/itertools.html#itertools.islice) for an alternate version that returns an iterator.\n",
    "\n",
    "> *class* `slice`(*stop*)\n",
    ">\n",
    "> *class* `slice`(*start*, *stop*[, *step*])\n",
    ">\n",
    "> 返回一个[slice](https://docs.python.org/3/glossary.html#term-slice)对象，代表由 `range(start, stop, step)` 指定的指数集合。参数*start*和*step*默认为 `None`。切片对象有只读的数据属性 `start`, `stop`, 和 `step`，它们只是返回参数值（或其默认值）。它们没有其他明确的功能；然而，它们被NumPy和其他第三方包使用。当使用扩展索引语法时，也会生成切片对象。例如：`a[start:stop:step] `或 `a[start:stop, i]`。参见 [`itertools.islice()`](https://docs.python.org/3/library/itertools.html#itertools.islice)，以获得返回迭代器的另一个版本。"
   ]
  },
  {
   "cell_type": "code",
   "execution_count": 82,
   "id": "c75b2ae1-5ce2-4422-be5a-f834ea427f02",
   "metadata": {},
   "outputs": [
    {
     "data": {
      "text/plain": [
       "slice(1, 10, 2)"
      ]
     },
     "execution_count": 82,
     "metadata": {},
     "output_type": "execute_result"
    },
    {
     "data": {
      "text/plain": [
       "slice"
      ]
     },
     "execution_count": 82,
     "metadata": {},
     "output_type": "execute_result"
    }
   ],
   "source": [
    "a = slice(1, 10, 2)\n",
    "a\n",
    "type(a)"
   ]
  },
  {
   "cell_type": "markdown",
   "id": "644b8453-7173-467d-8146-e40bc4bb0593",
   "metadata": {},
   "source": [
    "`sorted`(*iterable*, */*, _*_, *key=None*, *reverse=False*)\n",
    "\n",
    "Return a new sorted list from the items in *iterable*.\n",
    "\n",
    "Has two optional arguments which must be specified as keyword arguments.\n",
    "\n",
    "*key* specifies a function of one argument that is used to extract a comparison key from each element in *iterable* (for example, `key=str.lower`). The default value is `None` (compare the elements directly).\n",
    "\n",
    "*reverse* is a boolean value. If set to `True`, then the list elements are sorted as if each comparison were reversed.\n",
    "\n",
    "Use [`functools.cmp_to_key()`](https://docs.python.org/3/library/functools.html#functools.cmp_to_key) to convert an old-style *cmp* function to a *key* function.\n",
    "\n",
    "The built-in [`sorted()`](https://docs.python.org/3/library/functions.html#sorted) function is guaranteed to be stable. A sort is stable if it guarantees not to change the relative order of elements that compare equal — this is helpful for sorting in multiple passes (for example, sort by department, then by salary grade).\n",
    "\n",
    "The sort algorithm uses only `<` comparisons between items. While defining an [`__lt__()`](https://docs.python.org/3/reference/datamodel.html#object.__lt__) method will suffice for sorting, [**PEP 8**](https://www.python.org/dev/peps/pep-0008) recommends that all six [rich comparisons](https://docs.python.org/3/reference/expressions.html#comparisons) be implemented. This will help avoid bugs when using the same data with other ordering tools such as [`max()`](https://docs.python.org/3/library/functions.html#max) that rely on a different underlying method. Implementing all six comparisons also helps avoid confusion for mixed type comparisons which can call reflected the [`__gt__()`](https://docs.python.org/3/reference/datamodel.html#object.__gt__) method.\n",
    "\n",
    "For sorting examples and a brief sorting tutorial, see [Sorting HOW TO](https://docs.python.org/3/howto/sorting.html#sortinghowto).\n",
    "\n",
    "> `sorted`(*iterable*, */*, _*_, *key=None*, *reverse=False*)\n",
    ">\n",
    "> 从*iterable*中的项目返回一个新的排序的列表。\n",
    ">\n",
    "> 有两个可选参数，必须指定为关键字参数。\n",
    ">\n",
    "> *key*指定一个参数的函数，用于从*iterable*中的每个元素中提取一个比较键（例如，`key=str.lower`）。默认值是 `None`（直接比较元素）。\n",
    ">\n",
    "> *reverse*是一个布尔值。如果设置为 `True`，那么列表中的元素就会被排序，就像每个比较都是反向的。\n",
    ">\n",
    "> 使用 [`functools.cmp_to_key()`](https://docs.python.org/3/library/functools.html#functools.cmp_to_key) 将老式的*cmp*函数转换成*key*函数。\n",
    ">\n",
    "> 内置的 [`sorted()`](https://docs.python.org/3/library/functions.html#sorted) 函数被保证是稳定的。一个排序是稳定的，如果它保证不改变比较相等的元素的相对顺序--这对多次排序很有帮助（例如，按部门排序，然后按工资等级排序）。\n",
    ">\n",
    "> 该排序算法只使用项目之间的 `<` 比较。虽然定义一个 [`__lt__()`](https://docs.python.org/3/reference/datamodel.html#object.__lt__) 方法就足以进行排序，[**PEP 8**](https://www.python.org/dev/peps/pep-0008)建议实现所有六个[rich comparisons](https://docs.python.org/3/reference/expressions.html#comparisons)。这将有助于避免在与其他依赖不同底层方法的排序工具如 [`max()`](https://docs.python.org/3/library/functions.html#max) 使用相同数据时出现错误。实现所有六个比较也有助于避免混合类型比较的混乱，因为混合类型比较可以调用反映 [`__gt__()`](https://docs.python.org/3/reference/datamodel.html#object.__gt__) 方法。\n",
    ">\n",
    "> 关于排序的例子和简短的排序教程，请参见[Sorting HOW TO](https://docs.python.org/3/howto/sorting.html#sortinghowto)。"
   ]
  },
  {
   "cell_type": "code",
   "execution_count": 83,
   "id": "57d195c0-1cca-4f39-ba47-2ba7528500fd",
   "metadata": {},
   "outputs": [
    {
     "data": {
      "text/plain": [
       "[1, 5, 8, 9, 10]"
      ]
     },
     "execution_count": 83,
     "metadata": {},
     "output_type": "execute_result"
    },
    {
     "data": {
      "text/plain": [
       "[10, 9, 8, 5, 1]"
      ]
     },
     "execution_count": 83,
     "metadata": {},
     "output_type": "execute_result"
    }
   ],
   "source": [
    "n = [5,1,8,9,10]\n",
    "sorted(n)\n",
    "sorted(n, reverse=True)"
   ]
  },
  {
   "cell_type": "markdown",
   "id": "45f27e24-4d85-419f-98dc-d36445692c70",
   "metadata": {},
   "source": [
    "`@`staticmethod\n",
    "\n",
    "Transform a method into a static method.\n",
    "\n",
    "A static method does not receive an implicit first argument. To declare a static method, use this idiom:\n",
    "\n",
    "> `@`staticmethod\n",
    ">\n",
    "> 将一个方法转化为一个静态方法。\n",
    ">\n",
    "> 一个静态方法不接受隐含的第一个参数。要声明一个静态方法，请使用这个习惯用语："
   ]
  },
  {
   "cell_type": "code",
   "execution_count": 84,
   "id": "3a08ce5c-2fcc-49ff-b77d-3f2d7a6308a2",
   "metadata": {},
   "outputs": [],
   "source": [
    "class C:\n",
    "    @staticmethod\n",
    "    def f(arg1, arg2, *args):\n",
    "        pass"
   ]
  },
  {
   "cell_type": "markdown",
   "id": "feee0743-1d5f-4726-90bc-e190be2f6a77",
   "metadata": {},
   "source": [
    "The `@staticmethod` form is a function [decorator](https://docs.python.org/3/glossary.html#term-decorator) – see [Function definitions](https://docs.python.org/3/reference/compound_stmts.html#function) for details.\n",
    "\n",
    "A static method can be called either on the class (such as `C.f()`) or on an instance (such as `C().f()`). Moreover, they can be called as regular functions (such as `f()`).\n",
    "\n",
    "Static methods in Python are similar to those found in Java or C++. Also, see [`classmethod()`](https://docs.python.org/3/library/functions.html#classmethod) for a variant that is useful for creating alternate class constructors.\n",
    "\n",
    "Like all decorators, it is also possible to call `staticmethod` as a regular function and do something with its result. This is needed in some cases where you need a reference to a function from a class body and you want to avoid the automatic transformation to instance method. For these cases, use this idiom:\n",
    "\n",
    "> `@staticmethod`形式是一个函数[decorator](https://docs.python.org/3/glossary.html#term-decorator)--详见[函数定义](https://docs.python.org/3/reference/compound_stmts.html#function)。\n",
    ">\n",
    "> 静态方法既可以在类上调用（如`C.f()`），也可以在实例上调用（如`C().f()`）。此外，它们还可以像普通函数一样被调用 (如 `f()`)。\n",
    ">\n",
    "> Python中的静态方法与Java或C++中的静态方法类似。另外，参见 [`classmethod()`](https://docs.python.org/3/library/functions.html#classmethod)，它是一个变体，对创建备用的类构造函数很有用。\n",
    ">\n",
    "> 像所有的装饰器一样，也可以将 `staticmethod` 作为一个普通函数来调用，并对其结果进行处理。在某些情况下，你需要从类的主体中引用一个函数，而你想避免自动转换为实例方法，这时就需要这样做。对于这些情况，请使用这个用语："
   ]
  },
  {
   "cell_type": "code",
   "execution_count": 85,
   "id": "dcc9c89f-0a3f-4fa7-bec3-479ee950caed",
   "metadata": {},
   "outputs": [],
   "source": [
    "def regular_function():\n",
    "    ...\n",
    "    \n",
    "class C:\n",
    "    method = staticmethod(regular_function)"
   ]
  },
  {
   "cell_type": "markdown",
   "id": "6fffd24a-d232-4731-b7cd-62c07b928e48",
   "metadata": {},
   "source": [
    "For more information on static methods, see [The standard type hierarchy](https://docs.python.org/3/reference/datamodel.html#types).\n",
    "\n",
    "*Changed in version 3.10:* Static methods now inherit the method attributes (`__module__`, `__name__`, `__qualname__`, `__doc__` and `__annotations__`), have a new `__wrapped__` attribute, and are now callable as regular functions.\n",
    "\n",
    "> 关于静态方法的更多信息，请参见[The standard type hierarchy](https://docs.python.org/3/reference/datamodel.html#types)。\n",
    ">\n",
    "> *3.10版中的变化：* 静态方法现在继承了方法属性（`__module__`, `__name__`, `__qualname__`, `__doc__` 和 `__annotations__`），有一个新的 `__wrapped__` 属性，而且现在可以像普通函数一样调用。"
   ]
  },
  {
   "cell_type": "markdown",
   "id": "edba5735-a91f-4bf9-abe2-596cb6f77706",
   "metadata": {},
   "source": [
    "*class* `str`(*object=''*)\n",
    "\n",
    "*class* `str`(*object=b''*, *encoding='utf-8'*, *errors='strict'*)\n",
    "\n",
    "Return a [`str`](https://docs.python.org/3/library/stdtypes.html#str) version of *object*. See [`str()`](https://docs.python.org/3/library/stdtypes.html#str) for details.\n",
    "\n",
    "`str` is the built-in string [class](https://docs.python.org/3/glossary.html#term-class). For general information about strings, see [Text Sequence Type — str](https://docs.python.org/3/library/stdtypes.html#textseq).\n",
    "\n",
    "> *class* `str`(*object=''*)\n",
    ">\n",
    "> *class* `str`(*object=b''*, *encoding='utf-8'*, *errors='strict *)\n",
    ">\n",
    "> 返回一个 [`str`](https://docs.python.org/3/library/stdtypes.html#str) 版本的*object*。详见 [`str()`](https://docs.python.org/3/library/stdtypes.html#str)。\n",
    ">\n",
    "> `str `是内置的字符串[class](https://docs.python.org/3/glossary.html#term-class)。关于字符串的一般信息，参见[文本序列类型-str](https://docs.python.org/3/library/stdtypes.html#textseq)。"
   ]
  },
  {
   "cell_type": "markdown",
   "id": "da200df3-a3a3-402a-8937-4731449cf4c8",
   "metadata": {},
   "source": [
    "`sum`(*iterable*, */*, *start=0*)\n",
    "\n",
    "Sums *start* and the items of an *iterable* from left to right and returns the total. The *iterable*’s items are normally numbers, and the start value is not allowed to be a string.\n",
    "\n",
    "For some use cases, there are good alternatives to [`sum()`](https://docs.python.org/3/library/functions.html#sum). The preferred, fast way to concatenate a sequence of strings is by calling `''.join(sequence)`. To add floating point values with extended precision, see [`math.fsum()`](https://docs.python.org/3/library/math.html#math.fsum). To concatenate a series of iterables, consider using [`itertools.chain()`](https://docs.python.org/3/library/itertools.html#itertools.chain).\n",
    "\n",
    "*Changed in version 3.8:* The *start* parameter can be specified as a keyword argument.\n",
    "\n",
    "> `sum`(*iterable*, */*, *start=0*)\n",
    ">\n",
    "> 将*start*和*iterable*的项目从左到右相加，并返回总数。该*iterable*的项目通常是数字，而且开始值不允许是字符串。\n",
    ">\n",
    "> 对于某些用例，有很好的方法可以替代[`sum()`](https://docs.python.org/3/library/functions.html#sum)。连接字符串序列的首选快速方法是调用`''.join(sequence)`。要添加具有扩展精度的浮点值，请参阅 [`math.fsum()`](https://docs.python.org/3/library/math.html#math.fsum)。要连接一系列的迭代表，可以考虑使用 [`itertools.chain()`](https://docs.python.org/3/library/itertools.html#itertools.chain)。\n",
    ">\n",
    "> *在3.8版本中改变了：* *start*参数可以被指定为一个关键字参数。"
   ]
  },
  {
   "cell_type": "code",
   "execution_count": 86,
   "id": "e6cd4843-152a-4bef-9586-9d00aa5eebfb",
   "metadata": {},
   "outputs": [
    {
     "data": {
      "text/plain": [
       "[5, 1, 8, 9, 10]"
      ]
     },
     "execution_count": 86,
     "metadata": {},
     "output_type": "execute_result"
    },
    {
     "data": {
      "text/plain": [
       "33"
      ]
     },
     "execution_count": 86,
     "metadata": {},
     "output_type": "execute_result"
    }
   ],
   "source": [
    "n\n",
    "sum(n)"
   ]
  },
  {
   "cell_type": "markdown",
   "id": "741d41d2-fd6e-4548-b982-64a4cb3c346e",
   "metadata": {},
   "source": [
    "*class* `super`([*type*[, *object-or-type*]])\n",
    "\n",
    "Return a proxy object that delegates method calls to a parent or sibling class of *type*. This is useful for accessing inherited methods that have been overridden in a class.\n",
    "\n",
    "The *object-or-type* determines the [method resolution order](https://docs.python.org/3/glossary.html#term-method-resolution-order) to be searched. The search starts from the class right after the *type*.\n",
    "\n",
    "For example, if [`__mro__`](https://docs.python.org/3/library/stdtypes.html#class.__mro__) of *object-or-type* is `D -> B -> C -> A -> object` and the value of *type* is `B`, then [`super()`](https://docs.python.org/3/library/functions.html#super) searches `C -> A -> object`.\n",
    "\n",
    "The [`__mro__`](https://docs.python.org/3/library/stdtypes.html#class.__mro__) attribute of the *object-or-type* lists the method resolution search order used by both [`getattr()`](https://docs.python.org/3/library/functions.html#getattr) and [`super()`](https://docs.python.org/3/library/functions.html#super). The attribute is dynamic and can change whenever the inheritance hierarchy is updated.\n",
    "\n",
    "If the second argument is omitted, the super object returned is unbound. If the second argument is an object, `isinstance(obj, type)` must be true. If the second argument is a type, `issubclass(type2, type)` must be true (this is useful for classmethods).\n",
    "\n",
    "There are two typical use cases for *super*. In a class hierarchy with single inheritance, *super* can be used to refer to parent classes without naming them explicitly, thus making the code more maintainable. This use closely parallels the use of *super* in other programming languages.\n",
    "\n",
    "The second use case is to support cooperative multiple inheritance in a dynamic execution environment. This use case is unique to Python and is not found in statically compiled languages or languages that only support single inheritance. This makes it possible to implement “diamond diagrams” where multiple base classes implement the same method. Good design dictates that such implementations have the same calling signature in every case (because the order of calls is determined at runtime, because that order adapts to changes in the class hierarchy, and because that order can include sibling classes that are unknown prior to runtime).\n",
    "\n",
    "For both use cases, a typical superclass call looks like this:\n",
    "\n",
    "> *class* `super`([*type*[, *object-or-type*]])\n",
    ">\n",
    "> 返回一个代理对象，将方法调用委托给*type*的父类或同级类。这对于访问在一个类中被重载的继承方法很有用。\n",
    ">\n",
    "> *object-or-type*决定了要搜索的[方法解析顺序](https://docs.python.org/3/glossary.html#term-method-resolution-order)。搜索从*类型*之后的类开始。\n",
    ">\n",
    "> 例如，如果*object-or-type*的 [`__mro__`](https://docs.python.org/3/library/stdtypes.html#class.__mro__) 是 `D -> B -> C -> A -> object`，而*type*的值是 `B`，那么[`super()`](https://docs.python.org/3/library/functions.html#super) 搜索 `C -> A -> object`。\n",
    ">\n",
    "> *object-or-type*的 [`__mro__`](https://docs.python.org/3/library/stdtypes.html#class.__mro__) 属性列出了 [`getattr()`](https://docs.python.org/3/library/functions.html#getattr) 和 [`super()`](https://docs.python.org/3/library/functions.html#super) 所使用的方法解析搜索顺序。这个属性是动态的，每当继承层次结构被更新时就会发生变化。\n",
    ">\n",
    "> 如果省略了第二个参数，返回的超级对象是不绑定的。如果第二个参数是一个对象，`isinstance(obj, type)`必须为真。如果第二个参数是一个类型，`issubclass(type2, type)` 必须为真（这对类方法很有用）。\n",
    ">\n",
    "> 对于*super*有两种典型的使用情况。在单继承的类层次结构中，*super*可以用来引用父类而不需要明确地命名它们，从而使代码更容易维护。这种用法与其他编程语言中*super*的使用非常相似。\n",
    ">\n",
    "> 第二个用例是在动态执行环境中支持合作的多重继承。这个用例是Python独有的，在静态编译语言或只支持单继承的语言中是没有的。这使得实现 \"钻石图\"成为可能，其中多个基类实现了相同的方法。好的设计决定了这种实现在任何情况下都有相同的调用签名（因为调用的顺序是在运行时决定的，因为这个顺序会适应类层次结构的变化，而且这个顺序可以包括在运行时之前未知的兄弟类）。\n",
    ">\n",
    "> 对于这两种用例，一个典型的超类调用看起来是这样的："
   ]
  },
  {
   "cell_type": "raw",
   "id": "92fe72f0-fbb2-43b4-a007-d3dd02c8be62",
   "metadata": {},
   "source": [
    "class C(B):\n",
    "    def method(self, arg):\n",
    "        super().method(arg)   # This does the same thing as: super(C, self).method(arg)"
   ]
  },
  {
   "cell_type": "markdown",
   "id": "1862f6c1-02bb-401f-b2bd-ba34edbfbd5d",
   "metadata": {},
   "source": [
    "In addition to method lookups, [`super()`](https://docs.python.org/3/library/functions.html#super) also works for attribute lookups. One possible use case for this is calling [descriptors](https://docs.python.org/3/glossary.html#term-descriptor) in a parent or sibling class.\n",
    "\n",
    "Note that [`super()`](https://docs.python.org/3/library/functions.html#super) is implemented as part of the binding process for explicit dotted attribute lookups such as `super().__getitem__(name)`. It does so by implementing its own `__getattribute__()` method for searching classes in a predictable order that supports cooperative multiple inheritance. Accordingly, [`super()`](https://docs.python.org/3/library/functions.html#super) is undefined for implicit lookups using statements or operators such as `super()[name]`.\n",
    "\n",
    "Also note that, aside from the zero argument form, [`super()`](https://docs.python.org/3/library/functions.html#super) is not limited to use inside methods. The two argument form specifies the arguments exactly and makes the appropriate references. The zero argument form only works inside a class definition, as the compiler fills in the necessary details to correctly retrieve the class being defined, as well as accessing the current instance for ordinary methods.\n",
    "\n",
    "For practical suggestions on how to design cooperative classes using [`super()`](https://docs.python.org/3/library/functions.html#super), see [guide to using super()](https://rhettinger.wordpress.com/2011/05/26/super-considered-super/).\n",
    "\n",
    "> 除了方法查询外，[`super()`](https://docs.python.org/3/library/functions.html#super) 也适用于属性查询。这方面的一个可能的用例是在父类或兄弟类中调用[descriptors](https://docs.python.org/3/glossary.html#term-descriptor)。\n",
    ">\n",
    "> 请注意，[`super()`](https://docs.python.org/3/library/functions.html#super) 是作为绑定过程的一部分来实现的，用于显式的点状属性查找，如`super().__getitem__(name)`。它通过实现自己的 `__getattribute__()` 方法，以可预测的顺序搜索类，支持合作的多重继承。相应地，[`super()`](https://docs.python.org/3/library/functions.html#super) 对于使用诸如 `super()[name]` 等语句或操作符的隐式查找是未定义的。\n",
    ">\n",
    "> 还要注意的是，除了零参数形式外，[`super()` ](https://docs.python.org/3/library/functions.html#super)不限于在方法内部使用。双参数形式准确地指定了参数并进行了适当的引用。零参数形式只在类定义内使用，因为编译器会填入必要的细节以正确检索被定义的类，以及为普通方法访问当前实例。\n",
    ">\n",
    "> 关于如何使用 [`super()`](https://docs.python.org/3/library/functions.html#super) 设计合作类的实际建议，请参见[super()使用指南](https://rhettinger.wordpress.com/2011/05/26/super-considered-super/)。"
   ]
  },
  {
   "cell_type": "markdown",
   "id": "6654d54f-71d9-4e58-a07e-c2d19a629ead",
   "metadata": {},
   "source": [
    "*class* `tuple`([*iterable*])\n",
    "\n",
    "Rather than being a function, [`tuple`](https://docs.python.org/3/library/stdtypes.html#tuple) is actually an immutable sequence type, as documented in [Tuples](https://docs.python.org/3/library/stdtypes.html#typesseq-tuple) and [Sequence Types — list, tuple, range](https://docs.python.org/3/library/stdtypes.html#typesseq).\n",
    "\n",
    "> *class* `tuple`([*iterable*])\n",
    ">\n",
    "> 与其说是一个函数，[`tuple`](https://docs.python.org/3/library/stdtypes.html#tuple) 实际上是一个不可变的序列类型，正如[Tuples](https://docs.python.org/3/library/stdtypes.html#typesseq-tuple)和[Sequence Types - list, tuple, range](https://docs.python.org/3/library/stdtypes.html#typesseq)中所记载的。"
   ]
  },
  {
   "cell_type": "code",
   "execution_count": 87,
   "id": "77a9ba4a-1130-4f7b-b4bf-f58ecf3740dc",
   "metadata": {},
   "outputs": [
    {
     "data": {
      "text/plain": [
       "(0, 2, 4, 6, 8, 10, 12, 14, 16, 18)"
      ]
     },
     "execution_count": 87,
     "metadata": {},
     "output_type": "execute_result"
    }
   ],
   "source": [
    "t = tuple(x*2 for x in range(10))\n",
    "t"
   ]
  },
  {
   "cell_type": "markdown",
   "id": "809d25bf-6ea1-4026-8a3e-010466144e27",
   "metadata": {},
   "source": [
    "*class* `type`(*object*)\n",
    "\n",
    "*class* `type`(*name*, *bases*, *dict*, ***kwds*)\n",
    "\n",
    "With one argument, return the type of an *object*. The return value is a type object and generally the same object as returned by [`object.__class__`](https://docs.python.org/3/library/stdtypes.html#instance.__class__).\n",
    "\n",
    "The [`isinstance()`](https://docs.python.org/3/library/functions.html#isinstance) built-in function is recommended for testing the type of an object, because it takes subclasses into account.\n",
    "\n",
    "With three arguments, return a new type object. This is essentially a dynamic form of the [`class`](https://docs.python.org/3/reference/compound_stmts.html#class) statement. The *name* string is the class name and becomes the [`__name__`](https://docs.python.org/3/library/stdtypes.html#definition.__name__) attribute. The *bases* tuple contains the base classes and becomes the [`__bases__`](https://docs.python.org/3/library/stdtypes.html#class.__bases__) attribute; if empty, [`object`](https://docs.python.org/3/library/functions.html#object), the ultimate base of all classes, is added. The *dict* dictionary contains attribute and method definitions for the class body; it may be copied or wrapped before becoming the [`__dict__`](https://docs.python.org/3/library/stdtypes.html#object.__dict__) attribute. The following two statements create identical [`type`](https://docs.python.org/3/library/functions.html#type) objects:\n",
    "\n",
    "> *class* `type`(*object*)\n",
    ">\n",
    "> *class* `type`(*name*, *bases*, *dict*, ***kwds*)\n",
    ">\n",
    "> 用一个参数，返回一个*对象*的类型。返回值是一个类型对象，通常与 [`object.__class__`](https://docs.python.org/3/library/stdtypes.html#instance.__class__) 返回的对象相同。\n",
    ">\n",
    "> 推荐使用 [`isinstance()`](https://docs.python.org/3/library/functions.html#isinstance) 内置函数来测试一个对象的类型，因为它考虑到了子类。\n",
    ">\n",
    "> 有三个参数，返回一个新的类型对象。这基本上是 [`class`](https://docs.python.org/3/reference/compound_stmts.html#class) 语句的一种动态形式。*name* 字符串是类的名称，成为 [`__name__`](https://docs.python.org/3/library/stdtypes.html#definition.__name__) 属性。*bases* 元组包含基类，成为 [`__bases__`](https://docs.python.org/3/library/stdtypes.html#class.__bases__) 属性；如果为空，则添加 [`object`](https://docs.python.org/3/library/functions.html#object)，即所有类的最终基础。*dict*字典包含了类主体的属性和方法定义；在成为 [`__dict__`](https://docs.python.org/3/library/stdtypes.html#object.__dict__) 属性之前，它可以被复制或包装。下面两条语句创建了相同的 [`type`](https://docs.python.org/3/library/functions.html#type) 对象。"
   ]
  },
  {
   "cell_type": "code",
   "execution_count": 88,
   "id": "072ca42e-9e47-4b75-9c4f-c7ac390d59f6",
   "metadata": {},
   "outputs": [
    {
     "data": {
      "text/plain": [
       "type"
      ]
     },
     "execution_count": 88,
     "metadata": {},
     "output_type": "execute_result"
    }
   ],
   "source": [
    "class X:\n",
    "    a = 1\n",
    "    \n",
    "X = type('X', (), dict(a=1))\n",
    "type(X)"
   ]
  },
  {
   "cell_type": "code",
   "execution_count": 89,
   "id": "ee64e309-461b-4e34-a195-64fb0bf41dc3",
   "metadata": {},
   "outputs": [
    {
     "data": {
      "text/plain": [
       "tuple"
      ]
     },
     "execution_count": 89,
     "metadata": {},
     "output_type": "execute_result"
    }
   ],
   "source": [
    "type(t)"
   ]
  },
  {
   "cell_type": "markdown",
   "id": "80c553ca-6d60-48c9-bd45-7c97bebc5005",
   "metadata": {},
   "source": [
    "See also [Type Objects](https://docs.python.org/3/library/stdtypes.html#bltin-type-objects).\n",
    "\n",
    "Keyword arguments provided to the three argument form are passed to the appropriate metaclass machinery (usually [`__init_subclass__()`](https://docs.python.org/3/reference/datamodel.html#object.__init_subclass__)) in the same way that keywords in a class definition (besides *metaclass*) would.\n",
    "\n",
    "See also [Customizing class creation](https://docs.python.org/3/reference/datamodel.html#class-customization).\n",
    "\n",
    "*Changed in version 3.6:* Subclasses of [`type`](https://docs.python.org/3/library/functions.html#type) which don’t override `type.__new__` may no longer use the one-argument form to get the type of an object.\n",
    "\n",
    "> 参见 [Type Objects](https://docs.python.org/3/library/stdtypes.html#bltin-type-objects)。\n",
    ">\n",
    "> 提供给三个参数形式的关键字参数被传递给适当的元类机制（通常是 [`__init_subclass__()`](https://docs.python.org/3/reference/datamodel.html#object.__init_subclass__)），其方式与类定义中的关键字（除了*metaclass*）一样。\n",
    ">\n",
    "> 参见 [自定义类的创建](https://docs.python.org/3/reference/datamodel.html#class-customization)。\n",
    ">\n",
    "> *在3.6版本中改变了：* [`type`](https://docs.python.org/3/library/functions.html#type)的子类如果没有覆盖 `type.__new__`，就不能再使用单参数形式来获取对象的类型。"
   ]
  },
  {
   "cell_type": "markdown",
   "id": "6ead7de8-63c6-4e4c-b089-e0434b2b7b38",
   "metadata": {},
   "source": [
    "`vars`([*object*])\n",
    "\n",
    "Return the [`__dict__`](https://docs.python.org/3/library/stdtypes.html#object.__dict__) attribute for a module, class, instance, or any other object with a [`__dict__`](https://docs.python.org/3/library/stdtypes.html#object.__dict__) attribute.\n",
    "\n",
    "Objects such as modules and instances have an updateable [`__dict__`](https://docs.python.org/3/library/stdtypes.html#object.__dict__) attribute; however, other objects may have write restrictions on their [`__dict__`](https://docs.python.org/3/library/stdtypes.html#object.__dict__) attributes (for example, classes use a [`types.MappingProxyType`](https://docs.python.org/3/library/types.html#types.MappingProxyType) to prevent direct dictionary updates).\n",
    "\n",
    "Without an argument, [`vars()`](https://docs.python.org/3/library/functions.html#vars) acts like [`locals()`](https://docs.python.org/3/library/functions.html#locals). Note, the locals dictionary is only useful for reads since updates to the locals dictionary are ignored.\n",
    "\n",
    "A [`TypeError`](https://docs.python.org/3/library/exceptions.html#TypeError) exception is raised if an object is specified but it doesn’t have a [`__dict__`](https://docs.python.org/3/library/stdtypes.html#object.__dict__) attribute (for example, if its class defines the [`__slots__`](https://docs.python.org/3/reference/datamodel.html#object.__slots__) attribute).\n",
    "\n",
    "> `vars`([*object*])\n",
    ">\n",
    "> 返回模块、类、实例或任何其他具有 [`__dict__`](https://docs.python.org/3/library/stdtypes.html#object.__dict__) 属性的对象的 [`__dict__`](https://docs.python.org/3/library/stdtypes.html#object.__dict__) 属性。\n",
    ">\n",
    "> 像模块和实例这样的对象有一个可更新的 [`__dict__`](https://docs.python.org/3/library/stdtypes.html#object.__dict__) 属性；然而，其他对象的 [`__dict__`](https://docs.python.org/3/library/stdtypes.html#object.__dict__) 属性可能有写入限制（例如，类使用 [`types.MappingProxyType`](https://docs.python.org/3/library/types.html#types.MappingProxyType) 来防止直接更新字典）。\n",
    ">\n",
    "> 如果没有参数，[`vars()`](https://docs.python.org/3/library/functions.html#vars)的作用就像[`locals()`](https://docs.python.org/3/library/functions.html#locals)。注意，locals 字典只对读取有用，因为对locals 字典的更新被忽略了。\n",
    ">\n",
    "> 如果指定了一个对象，但它没有 [`__dict__`](https://docs.python.org/3/library/stdtypes.html#object.__dict__) 属性（例如，如果它的类定义了 [`__slots__`](https://docs.python.org/3/reference/datamodel.html#object.__slots__) 属性），就会产生一个 [`TypeError`](https://docs.python.org/3/library/exceptions.html#TypeError) 异常。"
   ]
  },
  {
   "cell_type": "code",
   "execution_count": 3,
   "id": "87e28e83-1691-42d5-8d22-3999a4124890",
   "metadata": {},
   "outputs": [
    {
     "data": {
      "text/plain": [
       "mappingproxy({'__new__': <function object.__new__(*args, **kwargs)>,\n",
       "              '__repr__': <slot wrapper '__repr__' of 'object' objects>,\n",
       "              '__hash__': <slot wrapper '__hash__' of 'object' objects>,\n",
       "              '__str__': <slot wrapper '__str__' of 'object' objects>,\n",
       "              '__getattribute__': <slot wrapper '__getattribute__' of 'object' objects>,\n",
       "              '__setattr__': <slot wrapper '__setattr__' of 'object' objects>,\n",
       "              '__delattr__': <slot wrapper '__delattr__' of 'object' objects>,\n",
       "              '__lt__': <slot wrapper '__lt__' of 'object' objects>,\n",
       "              '__le__': <slot wrapper '__le__' of 'object' objects>,\n",
       "              '__eq__': <slot wrapper '__eq__' of 'object' objects>,\n",
       "              '__ne__': <slot wrapper '__ne__' of 'object' objects>,\n",
       "              '__gt__': <slot wrapper '__gt__' of 'object' objects>,\n",
       "              '__ge__': <slot wrapper '__ge__' of 'object' objects>,\n",
       "              '__init__': <slot wrapper '__init__' of 'object' objects>,\n",
       "              '__reduce_ex__': <method '__reduce_ex__' of 'object' objects>,\n",
       "              '__reduce__': <method '__reduce__' of 'object' objects>,\n",
       "              '__subclasshook__': <method '__subclasshook__' of 'object' objects>,\n",
       "              '__init_subclass__': <method '__init_subclass__' of 'object' objects>,\n",
       "              '__format__': <method '__format__' of 'object' objects>,\n",
       "              '__sizeof__': <method '__sizeof__' of 'object' objects>,\n",
       "              '__dir__': <method '__dir__' of 'object' objects>,\n",
       "              '__class__': <attribute '__class__' of 'object' objects>,\n",
       "              '__doc__': 'The base class of the class hierarchy.\\n\\nWhen called, it accepts no arguments and returns a new featureless\\ninstance that has no instance attributes and cannot be given any.\\n'})"
      ]
     },
     "execution_count": 3,
     "metadata": {},
     "output_type": "execute_result"
    }
   ],
   "source": [
    "vars(object)"
   ]
  },
  {
   "cell_type": "markdown",
   "id": "8032c0ca-60ec-4094-9cf9-a66099f5d916",
   "metadata": {},
   "source": [
    "`zip`(**iterables*, *strict=False*)\n",
    "\n",
    "Iterate over several iterables in parallel, producing tuples with an item from each one.\n",
    "\n",
    "Example:\n",
    "\n",
    "> `zip`(**iterables*, *strict=False*)\n",
    ">\n",
    "> 并行迭代几个迭代变量，产生包含每个迭代变量中一个项目的元组。\n",
    ">\n",
    "> 例子："
   ]
  },
  {
   "cell_type": "code",
   "execution_count": 8,
   "id": "031314d5-e05a-4077-8153-14b4d3adb6e7",
   "metadata": {},
   "outputs": [
    {
     "name": "stdout",
     "output_type": "stream",
     "text": [
      "(1, 'sugar')\n",
      "(2, 'spice')\n",
      "(3, 'everything nice')\n"
     ]
    }
   ],
   "source": [
    "for item in zip([1,2,3],['sugar','spice','everything nice']):\n",
    "    print(item)"
   ]
  },
  {
   "cell_type": "code",
   "execution_count": 9,
   "id": "5cfc378d-e1da-4ad4-9270-0afa863438f5",
   "metadata": {},
   "outputs": [
    {
     "name": "stdout",
     "output_type": "stream",
     "text": [
      "{1: 'sugar'}\n",
      "{2: 'spice'}\n",
      "{3: 'everything nice'}\n"
     ]
    }
   ],
   "source": [
    "for key, value in zip([1,2,3],['sugar','spice','everything nice']):\n",
    "    print({key:value})"
   ]
  },
  {
   "cell_type": "markdown",
   "id": "5300601d-2738-48be-807e-16ad3c2b29e5",
   "metadata": {},
   "source": [
    "More formally: [`zip()`](https://docs.python.org/3/library/functions.html#zip) returns an iterator of tuples, where the *i*-th tuple contains the *i*-th element from each of the argument iterables.\n",
    "\n",
    "Another way to think of [`zip()`](https://docs.python.org/3/library/functions.html#zip) is that it turns rows into columns, and columns into rows. This is similar to [transposing a matrix](https://en.wikipedia.org/wiki/Transpose).\n",
    "\n",
    "[`zip()`](https://docs.python.org/3/library/functions.html#zip) is lazy: The elements won’t be processed until the iterable is iterated on, e.g. by a `for` loop or by wrapping in a [`list`](https://docs.python.org/3/library/stdtypes.html#list).\n",
    "\n",
    "One thing to consider is that the iterables passed to [`zip()`](https://docs.python.org/3/library/functions.html#zip) could have different lengths; sometimes by design, and sometimes because of a bug in the code that prepared these iterables. Python offers three different approaches to dealing with this issue:\n",
    "\n",
    "- By default, [`zip()`](https://docs.python.org/3/library/functions.html#zip) stops when the shortest iterable is exhausted. It will ignore the remaining items in the longer iterables, cutting off the result to the length of the shortest iterable:\n",
    "\n",
    "> 更正式地说。[`zip()`](https://docs.python.org/3/library/functions.html#zip) 返回一个元组的迭代器，其中第*i*个元组包含每个参数迭代器中的第*i*个元素。\n",
    ">\n",
    "> 另一种思考 [`zip()`](https://docs.python.org/3/library/functions.html#zip) 的方式是，它把行变成列，把列变成行。这类似于[转置矩阵](https://en.wikipedia.org/wiki/Transpose)。\n",
    ">\n",
    "> [`zip()`](https://docs.python.org/3/library/functions.html#zip) 是懒惰的：元素不会被处理，直到迭代器被迭代，例如通过一个 `for` 循环或通过包裹在一个 [`list`](https://docs.python.org/3/library/stdtypes.html#list)。\n",
    ">\n",
    "> 需要考虑的一点是，传递给 [`zip()`](https://docs.python.org/3/library/functions.html#zip) 的可迭代项可能有不同的长度；有时是设计的，有时是因为准备这些可迭代项的代码中存在错误。Python 提供了三种不同的方法来处理这个问题：\n",
    ">\n",
    "> - 默认情况下，[`zip()`](https://docs.python.org/3/library/functions.html#zip) 在最短的迭代变量用完后停止。它将忽略较长迭代变量中的剩余项，将结果截断到最短迭代变量的长度："
   ]
  },
  {
   "cell_type": "code",
   "execution_count": 10,
   "id": "7522e6c5-22a2-40c4-bd88-c3c90e6f26aa",
   "metadata": {},
   "outputs": [
    {
     "data": {
      "text/plain": [
       "[(0, 'fee'), (1, 'fi'), (2, 'fo')]"
      ]
     },
     "execution_count": 10,
     "metadata": {},
     "output_type": "execute_result"
    }
   ],
   "source": [
    "list(zip(range(3), ['fee', 'fi', 'fo', 'fum']))"
   ]
  },
  {
   "cell_type": "markdown",
   "id": "15eac3b3-c003-4c04-af54-06c169685c91",
   "metadata": {},
   "source": [
    "- [`zip()`](https://docs.python.org/3/library/functions.html#zip) is often used in cases where the iterables are assumed to be of equal length. In such cases, it’s recommended to use the `strict=True` option. Its output is the same as regular [`zip()`](https://docs.python.org/3/library/functions.html#zip):\n",
    "\n",
    "> - [`zip()`](https://docs.python.org/3/library/functions.html#zip) 经常被用于假定迭代变量长度相等的情况。在这种情况下，建议使用 `strict=True` 选项。它的输出与普通的 [`zip()`](https://docs.python.org/3/library/functions.html#zip) 相同："
   ]
  },
  {
   "cell_type": "code",
   "execution_count": 12,
   "id": "a8efcdcc-560d-493a-a247-6bf05efe459b",
   "metadata": {},
   "outputs": [
    {
     "data": {
      "text/plain": [
       "[('a', 1), ('b', 2), ('c', 3)]"
      ]
     },
     "execution_count": 12,
     "metadata": {},
     "output_type": "execute_result"
    },
    {
     "data": {
      "text/plain": [
       "[('a', 1), ('b', 2), ('c', 3)]"
      ]
     },
     "execution_count": 12,
     "metadata": {},
     "output_type": "execute_result"
    }
   ],
   "source": [
    "list(zip(('a', 'b', 'c'), (1, 2, 3), strict=True))\n",
    "list(zip(('a', 'b', 'c'), (1, 2, 3)))"
   ]
  },
  {
   "cell_type": "markdown",
   "id": "6d7bf46a-c38c-4125-b7eb-5a2596b20262",
   "metadata": {},
   "source": [
    "Unlike the default behavior, it checks that the lengths of iterables are identical, raising a [`ValueError`](https://docs.python.org/3/library/exceptions.html#ValueError) if they aren’t:\n",
    "\n",
    "> 与默认行为不同的是，它检查迭代变量的长度是否相同，如果不相同则引发[`ValueError`](https://docs.python.org/3/library/exceptions.html#ValueError)："
   ]
  },
  {
   "cell_type": "code",
   "execution_count": 13,
   "id": "e75ff945-4414-4cb4-959c-f6542c96d92e",
   "metadata": {},
   "outputs": [
    {
     "ename": "ValueError",
     "evalue": "zip() argument 2 is longer than argument 1",
     "output_type": "error",
     "traceback": [
      "\u001b[1;31m---------------------------------------------------------------------------\u001b[0m",
      "\u001b[1;31mValueError\u001b[0m                                Traceback (most recent call last)",
      "Input \u001b[1;32mIn [13]\u001b[0m, in \u001b[0;36m<cell line: 1>\u001b[1;34m()\u001b[0m\n\u001b[1;32m----> 1\u001b[0m \u001b[38;5;28;43mlist\u001b[39;49m\u001b[43m(\u001b[49m\u001b[38;5;28;43mzip\u001b[39;49m\u001b[43m(\u001b[49m\u001b[38;5;28;43mrange\u001b[39;49m\u001b[43m(\u001b[49m\u001b[38;5;241;43m3\u001b[39;49m\u001b[43m)\u001b[49m\u001b[43m,\u001b[49m\u001b[43m \u001b[49m\u001b[43m[\u001b[49m\u001b[38;5;124;43m'\u001b[39;49m\u001b[38;5;124;43mfee\u001b[39;49m\u001b[38;5;124;43m'\u001b[39;49m\u001b[43m,\u001b[49m\u001b[43m \u001b[49m\u001b[38;5;124;43m'\u001b[39;49m\u001b[38;5;124;43mfi\u001b[39;49m\u001b[38;5;124;43m'\u001b[39;49m\u001b[43m,\u001b[49m\u001b[43m \u001b[49m\u001b[38;5;124;43m'\u001b[39;49m\u001b[38;5;124;43mfo\u001b[39;49m\u001b[38;5;124;43m'\u001b[39;49m\u001b[43m,\u001b[49m\u001b[43m \u001b[49m\u001b[38;5;124;43m'\u001b[39;49m\u001b[38;5;124;43mfum\u001b[39;49m\u001b[38;5;124;43m'\u001b[39;49m\u001b[43m]\u001b[49m\u001b[43m,\u001b[49m\u001b[43m \u001b[49m\u001b[43mstrict\u001b[49m\u001b[38;5;241;43m=\u001b[39;49m\u001b[38;5;28;43;01mTrue\u001b[39;49;00m\u001b[43m)\u001b[49m\u001b[43m)\u001b[49m\n",
      "\u001b[1;31mValueError\u001b[0m: zip() argument 2 is longer than argument 1"
     ]
    }
   ],
   "source": [
    "list(zip(range(3), ['fee', 'fi', 'fo', 'fum'], strict=True))"
   ]
  },
  {
   "cell_type": "markdown",
   "id": "5215752a-ad6b-4fe5-8d56-a4e002f086cf",
   "metadata": {},
   "source": [
    "- Without the `strict=True` argument, any bug that results in iterables of different lengths will be silenced, possibly manifesting as a hard-to-find bug in another part of the program.\n",
    "- Shorter iterables can be padded with a constant value to make all the iterables have the same length. This is done by [`itertools.zip_longest()`](https://docs.python.org/3/library/itertools.html#itertools.zip_longest).\n",
    "\n",
    "Edge cases: With a single iterable argument, [`zip()`](https://docs.python.org/3/library/functions.html#zip) returns an iterator of 1-tuples. With no arguments, it returns an empty iterator.\n",
    "\n",
    "> - 如果没有 `strict=True` 参数，任何导致不同长度的迭代变量的错误都会被压制，可能会在程序的其他部分表现为难以发现的错误。\n",
    "> - 较短的迭代变量可以用一个常数来填充，使所有的迭代表具有相同的长度。这是由[`itertools.zip_longest()`](https://docs.python.org/3/library/itertools.html#itertools.zip_longest) 完成的。\n",
    ">\n",
    "> 边缘情况：在只有一个迭代器参数的情况下，[`zip()`](https://docs.python.org/3/library/functions.html#zip) 返回一个1-tuples的迭代器。如果没有参数，它将返回一个空的迭代器。"
   ]
  },
  {
   "cell_type": "code",
   "execution_count": 17,
   "id": "6f130f71-9e04-4fdd-a70b-e4f81652e0fc",
   "metadata": {},
   "outputs": [
    {
     "data": {
      "text/plain": [
       "[(1,), (3,), (4,)]"
      ]
     },
     "execution_count": 17,
     "metadata": {},
     "output_type": "execute_result"
    },
    {
     "data": {
      "text/plain": [
       "[]"
      ]
     },
     "execution_count": 17,
     "metadata": {},
     "output_type": "execute_result"
    }
   ],
   "source": [
    "list(zip([1, 3, 4]))\n",
    "list(zip())"
   ]
  },
  {
   "cell_type": "markdown",
   "id": "18b06a21-814f-4975-a73b-cca385113fd8",
   "metadata": {},
   "source": [
    "Tips and tricks:\n",
    "\n",
    "- The left-to-right evaluation order of the iterables is guaranteed. This makes possible an idiom for clustering a data series into n-length groups using `zip(*[iter(s)]*n, strict=True)`. This repeats the *same* iterator `n` times so that each output tuple has the result of `n` calls to the iterator. This has the effect of dividing the input into n-length chunks.\n",
    "- [`zip()`](https://docs.python.org/3/library/functions.html#zip) in conjunction with the `*` operator can be used to unzip a list:\n",
    "\n",
    "> 提示和技巧：\n",
    ">\n",
    "> - 迭代变量从左到右的运算求值顺序是有保证的。这使得使用 `zip(*[iter(s)]*n, strict=True)` 将数据序列聚类为n个长度的组成为可能。这将重复*相同*的迭代器 `n` 次，这样每个输出元组都有 `n` 次调用迭代器的结果。这样做的效果是将输入分成n个长度的小块。\n",
    "> - [`zip()`](https://docs.python.org/3/library/functions.html#zip)与 `*` 操作符结合使用，可以用来解压缩一个列表："
   ]
  },
  {
   "cell_type": "code",
   "execution_count": 18,
   "id": "f13135a6-e174-4f38-8ed6-d7f450db6ef0",
   "metadata": {},
   "outputs": [
    {
     "data": {
      "text/plain": [
       "[(1, 4), (2, 5), (3, 6)]"
      ]
     },
     "execution_count": 18,
     "metadata": {},
     "output_type": "execute_result"
    }
   ],
   "source": [
    "x = [1, 2, 3]\n",
    "y = [4, 5, 6]\n",
    "list(zip(x, y))"
   ]
  },
  {
   "cell_type": "code",
   "execution_count": 20,
   "id": "e4d38e38-7470-49da-82ff-0aad034a5399",
   "metadata": {},
   "outputs": [
    {
     "data": {
      "text/plain": [
       "(1, 2, 3)"
      ]
     },
     "execution_count": 20,
     "metadata": {},
     "output_type": "execute_result"
    },
    {
     "data": {
      "text/plain": [
       "(4, 5, 6)"
      ]
     },
     "execution_count": 20,
     "metadata": {},
     "output_type": "execute_result"
    }
   ],
   "source": [
    "x2, y2 = zip(*zip(x, y))\n",
    "x2\n",
    "y2"
   ]
  },
  {
   "cell_type": "code",
   "execution_count": 21,
   "id": "a84fdf10-e187-44bd-af7f-0f91d20846cf",
   "metadata": {},
   "outputs": [
    {
     "data": {
      "text/plain": [
       "True"
      ]
     },
     "execution_count": 21,
     "metadata": {},
     "output_type": "execute_result"
    }
   ],
   "source": [
    "x == list(x2) and y == list(y2)"
   ]
  },
  {
   "cell_type": "code",
   "execution_count": 23,
   "id": "0c32ea78-b59a-4945-b6f3-fc7cd8009bf6",
   "metadata": {},
   "outputs": [
    {
     "data": {
      "text/plain": [
       "[([1, 2, 3],), ([4, 5, 6],), ([1, 2, 3],), ([4, 5, 6],)]"
      ]
     },
     "execution_count": 23,
     "metadata": {},
     "output_type": "execute_result"
    }
   ],
   "source": [
    "list(zip([x, y]*2, strict=True))"
   ]
  },
  {
   "cell_type": "markdown",
   "id": "84fa1dd8-cc42-4e80-b40f-f9084efafcaf",
   "metadata": {},
   "source": [
    "Changed in version 3.10: Added the strict argument."
   ]
  },
  {
   "cell_type": "markdown",
   "id": "b7a00f20-d4ae-475a-915a-dd5bcf573785",
   "metadata": {},
   "source": [
    "`__import__`(*name*, *globals=None*, *locals=None*, *fromlist=()*, *level=0*)\n",
    "\n",
    "**Note:** This is an advanced function that is not needed in everyday Python programming, unlike [`importlib.import_module()`](https://docs.python.org/3/library/importlib.html#importlib.import_module).\n",
    "\n",
    "This function is invoked by the [`import`](https://docs.python.org/3/reference/simple_stmts.html#import) statement. It can be replaced (by importing the [`builtins`](https://docs.python.org/3/library/builtins.html#module-builtins) module and assigning to `builtins.__import__`) in order to change semantics of the `import` statement, but doing so is **strongly** discouraged as it is usually simpler to use import hooks (see [**PEP 302**](https://www.python.org/dev/peps/pep-0302)) to attain the same goals and does not cause issues with code which assumes the default import implementation is in use. Direct use of [`__import__()`](https://docs.python.org/3/library/functions.html#import__) is also discouraged in favor of [`importlib.import_module()`](https://docs.python.org/3/library/importlib.html#importlib.import_module).\n",
    "\n",
    "The function imports the module *name*, potentially using the given *globals* and *locals* to determine how to interpret the name in a package context. The *fromlist* gives the names of objects or submodules that should be imported from the module given by *name*. The standard implementation does not use its *locals* argument at all and uses its *globals* only to determine the package context of the [`import`](https://docs.python.org/3/reference/simple_stmts.html#import) statement.\n",
    "\n",
    "*level* specifies whether to use absolute or relative imports. `0` (the default) means only perform absolute imports. Positive values for *level* indicate the number of parent directories to search relative to the directory of the module calling [`__import__()`](https://docs.python.org/3/library/functions.html#import__) (see [**PEP 328**](https://www.python.org/dev/peps/pep-0328) for the details).\n",
    "\n",
    "When the *name* variable is of the form `package.module`, normally, the top-level package (the name up till the first dot) is returned, *not* the module named by *name*. However, when a non-empty *fromlist* argument is given, the module named by *name* is returned.\n",
    "\n",
    "For example, the statement `import spam` results in bytecode resembling the following code:\n",
    "\n",
    "> `__import__`(*name*, *globals=None*, *locals=None*, *fromlist=（）*, *level=0*)\n",
    ">\n",
    "> **注意：**这是一个高级函数，在日常的Python编程中不需要，与 [`importlib.import_module()`](https://docs.python.org/3/library/importlib.html#importlib.import_module) 不同。\n",
    ">\n",
    "> 这个函数是由 [`import`](https://docs.python.org/3/reference/simple_stmts.html#import) 语句调用的。它可以被替换（通过导入 [`builtins`](https://docs.python.org/3/library/builtins.html#module-builtins) 模块并赋值给`builtins.__import__`），以改变 `import` 语句的语义，但这样做是**强烈**反对的，因为通常使用导入钩子（见[**PEP 302**](https://www.python.org/dev/peps/pep-0302)）来达到相同的目标更简单，并且不会对假定使用默认导入实现的代码造成问题。直接使用 [`__import__()`](https://docs.python.org/3/library/functions.html#import__) 也是不可取的，而应使用 [`importlib.import_module()`](https://docs.python.org/3/library/importlib.html#importlib.import_module)。\n",
    ">\n",
    "> 该函数导入模块*name*，可能使用给定的*globals*和*locals*来决定如何在包的上下文中解释该名称。*fromlist*给出了应该从*name*给出的模块中导入的对象或子模块的名称。标准实现完全不使用其*locals*参数，只使用其*globals*来确定 [`import`](https://docs.python.org/3/reference/simple_stmts.html#import) 语句的包上下文。\n",
    ">\n",
    "> *level*指定是使用绝对导入还是相对导入。`0`（默认）意味着只执行绝对导入。*level*的正值表示相对于调用[`__import__()`](https://docs.python.org/3/library/functions.html#import__) 的模块的目录，要搜索多少个父目录（详见[**PEP 328**](https://www.python.org/dev/peps/pep-0328)）。\n",
    ">\n",
    "> 当*name*变量的形式为 `package.module` 时，通常会返回顶级包（直到第一个点的名字），*而不*是*name*命名的模块。然而，当给出一个非空的*fromlist*参数时，将返回由*name*命名的模块。\n",
    ">\n",
    "> 例如，语句 `import spam` 的结果是类似于以下代码的字节码："
   ]
  },
  {
   "cell_type": "raw",
   "id": "ce864301-3130-4abd-ab06-320868ff285f",
   "metadata": {},
   "source": [
    "spam = __import__('spam', globals(), locals(), [], 0)"
   ]
  },
  {
   "cell_type": "markdown",
   "id": "1007b221-3391-4838-99e3-d984d65f22df",
   "metadata": {},
   "source": [
    "The statement `import spam.ham` results in this call:"
   ]
  },
  {
   "cell_type": "raw",
   "id": "5fa873fb-314d-4953-ac26-9c36f69e0af4",
   "metadata": {},
   "source": [
    "spam = __import__('spam.ham', globals(), locals(), [], 0)"
   ]
  },
  {
   "cell_type": "markdown",
   "id": "9b4596e6-68cf-4ac3-9253-71d3602cf38a",
   "metadata": {},
   "source": [
    "Note how [`__import__()`](https://docs.python.org/3/library/functions.html#import__) returns the toplevel module here because this is the object that is bound to a name by the [`import`](https://docs.python.org/3/reference/simple_stmts.html#import) statement.\n",
    "\n",
    "On the other hand, the statement `from spam.ham import eggs, sausage as saus` results in\n",
    "\n",
    "> 注意 [`__import__()`](https://docs.python.org/3/library/functions.html#import__) 在这里是如何返回顶层模块的，因为这是被 [`import`](https://docs.python.org/3/reference/simple_stmts.html#import) 语句绑定到一个名字上的对象。\n",
    ">\n",
    "> 另一方面，语句 `from spam.ham import eggs, sausage as saus` 的结果是"
   ]
  },
  {
   "cell_type": "raw",
   "id": "123196d1-c14c-4dd7-8610-0303ceddd719",
   "metadata": {},
   "source": [
    "_temp = __import__('spam.ham', globals(), locals(), ['eggs', 'sausage'], 0)\n",
    "eggs = _temp.eggs\n",
    "saus = _temp.sausage"
   ]
  },
  {
   "cell_type": "markdown",
   "id": "754a10f6-93df-47a8-bb0b-c2fc65ebebaf",
   "metadata": {},
   "source": [
    "Here, the `spam.ham` module is returned from [`__import__()`](https://docs.python.org/3/library/functions.html#import__). From this object, the names to import are retrieved and assigned to their respective names.\n",
    "\n",
    "If you simply want to import a module (potentially within a package) by name, use [`importlib.import_module()`](https://docs.python.org/3/library/importlib.html#importlib.import_module).\n",
    "\n",
    "*Changed in version 3.3:* Negative values for *level* are no longer supported (which also changes the default value to 0).\n",
    "\n",
    "*Changed in version 3.9:* When the command line options [`-E`](https://docs.python.org/3/using/cmdline.html#cmdoption-E) or [`-I`](https://docs.python.org/3/using/cmdline.html#cmdoption-I) are being used, the environment variable [`PYTHONCASEOK`](https://docs.python.org/3/using/cmdline.html#envvar-PYTHONCASEOK) is now ignored.\n",
    "\n",
    "> 这里，`spam.ham ` 模块从 [`__import__()`](https://docs.python.org/3/library/functions.html#import__) 返回。从这个对象中，要导入的名字被检索出来，并分配给它们各自的名字。\n",
    ">\n",
    "> 如果你只是想通过名字导入一个模块（可能在一个包内），使用 [`importlib.import_module()`](https://docs.python.org/3/library/importlib.html#importlib.import_module)。\n",
    ">\n",
    "> *在3.3版中改变了：*不再支持*level*的负值（这也将默认值改为0）。\n",
    ">\n",
    "> *在3.9版中有所改变：* 当使用命令行选项[`-E`](https://docs.python.org/3/using/cmdline.html#cmdoption-E)或[`-I`](https://docs.python.org/3/using/cmdline.html#cmdoption-I)时，环境变量[`PYTHONCASEOK`](https://docs.python.org/3/using/cmdline.html#envvar-PYTHONCASEOK)现在被忽略了。"
   ]
  },
  {
   "cell_type": "markdown",
   "id": "0e3b53d8-984d-4dbf-98c1-7fa3e8ceeb05",
   "metadata": {},
   "source": [
    "**Footnotes**\n",
    "\n",
    "[^1]: Note that the parser only accepts the Unix-style end of line convention. If you are reading the code from a file, make sure to use newline conversion mode to convert Windows or Mac-style newlines.\n",
    "\n",
    "> **脚注**\n",
    ">\n",
    "> [1] 注意，分析器只接受Unix风格的行尾惯例。如果你从文件中读取代码，请确保使用新行转换模式来转换Windows或Mac风格的新行。"
   ]
  }
 ],
 "metadata": {
  "kernelspec": {
   "display_name": "Python 3 (ipykernel)",
   "language": "python",
   "name": "python3"
  },
  "language_info": {
   "codemirror_mode": {
    "name": "ipython",
    "version": 3
   },
   "file_extension": ".py",
   "mimetype": "text/x-python",
   "name": "python",
   "nbconvert_exporter": "python",
   "pygments_lexer": "ipython3",
   "version": "3.10.4"
  }
 },
 "nbformat": 4,
 "nbformat_minor": 5
}
