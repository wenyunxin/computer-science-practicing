{
 "cells": [
  {
   "cell_type": "code",
   "execution_count": 1,
   "id": "ac146f03-e8d6-433d-b5e1-099276d02ed1",
   "metadata": {},
   "outputs": [],
   "source": [
    "from IPython.core.interactiveshell import InteractiveShell\n",
    "InteractiveShell.ast_node_interactivity = \"all\""
   ]
  },
  {
   "cell_type": "markdown",
   "id": "619305c1-0cb6-4af0-9d6e-aaa7266acefa",
   "metadata": {},
   "source": [
    "This reference manual describes the syntax and “core semantics” of the language. It is terse, but attempts to be exact and complete. The semantics of non-essential built-in object types and of the built-in functions and modules are described in [The Python Standard Library](https://docs.python.org/3/library/index.html#library-index). For an informal introduction to the language, see [The Python Tutorial](https://docs.python.org/3/tutorial/index.html#tutorial-index). For C or C++ programmers, two additional manuals exist: [Extending and Embedding the Python Interpreter](https://docs.python.org/3/extending/index.html#extending-index) describes the high-level picture of how to write a Python extension module, and the [Python/C API Reference Manual](https://docs.python.org/3/c-api/index.html#c-api-index) describes the interfaces available to C/C++ programmers in detail.\n",
    "\n",
    "> 本参考手册描述了该语言的语法和 \"核心语义\"。它是简洁的，但试图做到准确和完整。非必要的内置对象类型以及内置函数和模块的语义在 [The Python Standard Library](https://docs.python.org/3/library/index.html#library-index) 中描述。关于该语言的非正式介绍，见 [The Python Tutorial](https://docs.python.org/3/tutorial/index.html#tutorial-index)。对于 C 或 C++ 程序员，还有两本手册。[扩展和嵌入 Python 解释器](https://docs.python.org/3/extending/index.html#extending-index) 描述了如何编写 Python 扩展模块的高层情况，[Python/C API 参考手册](https://docs.python.org/3/c-api/index.html#c-api-index) 详细描述了 C/C++ 程序员可用的接口。"
   ]
  },
  {
   "cell_type": "markdown",
   "id": "b0350900-71e6-40b1-82ec-3f94fd795a6c",
   "metadata": {},
   "source": [
    "This reference manual describes the Python programming language. It is not intended as a tutorial.\n",
    "\n",
    "While I am trying to be as precise as possible, I chose to use English rather than formal specifications for everything except syntax and lexical analysis. This should make the document more understandable to the average reader, but will leave room for ambiguities. Consequently, if you were coming from Mars and tried to re-implement Python from this document alone, you might have to guess things and in fact you would probably end up implementing quite a different language. On the other hand, if you are using Python and wonder what the precise rules about a particular area of the language are, you should definitely be able to find them here. If you would like to see a more formal definition of the language, maybe you could volunteer your time — or invent a cloning machine :-).\n",
    "\n",
    "It is dangerous to add too many implementation details to a language reference document — the implementation may change, and other implementations of the same language may work differently. On the other hand, CPython is the one Python implementation in widespread use (although alternate implementations continue to gain support), and its particular quirks are sometimes worth being mentioned, especially where the implementation imposes additional limitations. Therefore, you’ll find short “implementation notes” sprinkled throughout the text.\n",
    "\n",
    "Every Python implementation comes with a number of built-in and standard modules. These are documented in [The Python Standard Library](https://docs.python.org/3/library/index.html#library-index). A few built-in modules are mentioned when they interact in a significant way with the language definition.\n",
    "\n",
    "> 本参考手册描述了 Python 编程语言。它并不打算作为一个教程。\n",
    ">\n",
    "> 虽然我试图尽可能地精确，但除了语法和词法分析外，我选择了使用英语而不是正式的规范来描述一切。这应该使文件对普通读者来说更容易理解，但也会留下模糊不清的空间。因此，如果你是从火星来的，并试图仅从这份文件中重新实现 Python，你可能不得不猜测一些东西，事实上，你最终可能会实现一种相当不同的语言。另一方面，如果你正在使用 Python，并且想知道关于语言的某一特定领域的精确规则是什么，你肯定能够在这里找到它们。如果你想看到一个更正式的语言定义，也许你可以自愿付出你的时间 - 或者发明一个克隆机 :-)。\n",
    ">\n",
    "> 在语言参考文献中加入过多的实现细节是很危险的--实现可能会发生变化，而且同一语言的其他实现可能会有不同的工作方式。另一方面，CPython是一个被广泛使用的Python实现 (尽管替代的实现不断获得支持)，它的特殊怪癖有时值得一提，特别是在实现带来额外限制的时候。因此，你会发现简短的 \"实现说明 \"散布在整个文本中。\n",
    ">\n",
    "> 每个 Python 实现都有一些内置的和标准的模块。这些都在 [Python 标准库](https://docs.python.org/3/library/index.html#library-index) 中有记录。当一些内置模块与语言定义有重要的交互时，我们会提到它们。"
   ]
  },
  {
   "cell_type": "markdown",
   "id": "bbc7bbda-d4d3-4d81-869d-9f81a319f1e8",
   "metadata": {},
   "source": [
    "## 1.1. Alternate Implementations"
   ]
  },
  {
   "cell_type": "markdown",
   "id": "340343a8-1a98-4834-bb9e-d4b5ae89aa7c",
   "metadata": {},
   "source": [
    "Though there is one Python implementation which is by far the most popular, there are some alternate implementations which are of particular interest to different audiences.\n",
    "\n",
    "Known implementations include:\n",
    "\n",
    "- CPython\n",
    "\n",
    "  This is the original and most-maintained implementation of Python, written in C. New language features generally appear here first.\n",
    "\n",
    "- Jython\n",
    "\n",
    "  Python implemented in Java. This implementation can be used as a scripting language for Java applications, or can be used to create applications using the Java class libraries. It is also often used to create tests for Java libraries. More information can be found at [the Jython website](http://www.jython.org/).\n",
    "\n",
    "- Python for .NET\n",
    "\n",
    "  This implementation actually uses the CPython implementation, but is a managed .NET application and makes .NET libraries available. It was created by Brian Lloyd. For more information, see the [Python for .NET home page](https://pythonnet.github.io/).\n",
    "\n",
    "- IronPython\n",
    "\n",
    "  An alternate Python for .NET. Unlike Python.NET, this is a complete Python implementation that generates IL, and compiles Python code directly to .NET assemblies. It was created by Jim Hugunin, the original creator of Jython. For more information, see [the IronPython website](http://ironpython.net/).\n",
    "\n",
    "- PyPy\n",
    "\n",
    "  An implementation of Python written completely in Python. It supports several advanced features not found in other implementations like stackless support and a Just in Time compiler. One of the goals of the project is to encourage experimentation with the language itself by making it easier to modify the interpreter (since it is written in Python). Additional information is available on [the PyPy project’s home page](http://pypy.org/).\n",
    "\n",
    "Each of these implementations varies in some way from the language as documented in this manual, or introduces specific information beyond what’s covered in the standard Python documentation. Please refer to the implementation-specific documentation to determine what else you need to know about the specific implementation you’re using.\n",
    "\n",
    "> 尽管到目前为止有一个Python的实现是最流行的，但还有一些替代性的实现，对不同的听众特别有兴趣。\n",
    ">\n",
    "> 已知的实现包括\n",
    ">\n",
    "> - CPython\n",
    ">\n",
    ">   这是Python的原始和维护最多的实现，用C语言写成，新的语言特性通常首先出现在这里。\n",
    ">\n",
    "> - Jython\n",
    ">\n",
    ">   用Java实现的Python。这个实现可以作为Java应用程序的脚本语言，也可以用来创建使用Java类库的应用程序。它也经常被用来为Java库创建测试。更多信息可以在[Jython网站](http://www.jython.org/)找到。\n",
    ">\n",
    "> - Python for .NET\n",
    ">\n",
    ">   这个实现实际上使用了CPython的实现，但它是一个可管理的.NET应用程序，并使.NET库可用。它是由Brian Lloyd创建的。更多信息请见 [Python for .NET主页](https://pythonnet.github.io/)。\n",
    ">\n",
    "> - IronPython\n",
    ">\n",
    ">   一种用于.NET的替代性Python。与Python.NET不同，它是一个完整的Python实现，可以生成IL，并将Python代码直接编译为.NET程序集。它是由Jim Hugunin创建的，他是Jython的原始创造者。欲了解更多信息，请参见[IronPython网站](http://ironpython.net/)。\n",
    ">\n",
    "> - PyPy\n",
    ">\n",
    ">   一个完全用Python编写的Python实现。它支持其他实现中所没有的一些高级特性，如无栈支持和及时编译器。这个项目的目标之一是通过使解释器更容易修改（因为它是用Python写的）来鼓励对语言本身的实验。更多的信息可以在[PyPy项目的主页](http://pypy.org/)上找到。\n",
    ">\n",
    "> 这些实现中的每一个都与本手册中记录的语言有某种程度的不同，或者引入了标准Python文档中所涵盖的内容之外的特殊信息。请参考具体实现的文档，以确定你对你使用的具体实现还需要了解什么。"
   ]
  },
  {
   "cell_type": "markdown",
   "id": "31e8368d-0d68-4b3f-99d6-5d00780d7509",
   "metadata": {},
   "source": [
    "## 1.2. Notation"
   ]
  },
  {
   "cell_type": "markdown",
   "id": "4eca82d8-4f20-46c5-a67d-46448e175cd3",
   "metadata": {},
   "source": [
    "The descriptions of lexical analysis and syntax use a modified BNF grammar notation. This uses the following style of definition:\n",
    "\n",
    "> 词汇分析和句法的描述使用了修改后的BNF语法符号。这使用了以下的定义风格："
   ]
  },
  {
   "cell_type": "code",
   "execution_count": 2,
   "id": "86277634-c8ac-4b50-bf63-33784c6a84b1",
   "metadata": {},
   "outputs": [
    {
     "ename": "SyntaxError",
     "evalue": "invalid syntax (2627310526.py, line 1)",
     "output_type": "error",
     "traceback": [
      "\u001b[1;36m  Input \u001b[1;32mIn [2]\u001b[1;36m\u001b[0m\n\u001b[1;33m    name      ::= lc_letter (lc_letter | \"_\")*\u001b[0m\n\u001b[1;37m               ^\u001b[0m\n\u001b[1;31mSyntaxError\u001b[0m\u001b[1;31m:\u001b[0m invalid syntax\n"
     ]
    }
   ],
   "source": [
    "name      ::= lc_letter (lc_letter | \"_\")*\n",
    "lc_letter ::= \"a\"...\"z\""
   ]
  },
  {
   "cell_type": "markdown",
   "id": "3e17a15e-67d2-440d-b29e-c6e05fea3f28",
   "metadata": {},
   "source": [
    "The first line says that a `name` is an `lc_letter` followed by a sequence of zero or more `lc_letter`s and underscores. An `lc_letter` in turn is any of the single characters `'a'` through `'z'`. (This rule is actually adhered to for the names defined in lexical and grammar rules in this document.)\n",
    "\n",
    "Each rule begins with a name (which is the name defined by the rule) and `::=`. A vertical bar (`|`) is used to separate alternatives; it is the least binding operator in this notation. A star (`*`) means zero or more repetitions of the preceding item; likewise, a plus (`+`) means one or more repetitions, and a phrase enclosed in square brackets (`[ ]`) means zero or one occurrences (in other words, the enclosed phrase is optional). The `*` and `+` operators bind as tightly as possible; parentheses are used for grouping. Literal strings are enclosed in quotes. White space is only meaningful to separate tokens. Rules are normally contained on a single line; rules with many alternatives may be formatted alternatively with each line after the first beginning with a vertical bar.\n",
    "\n",
    "In lexical definitions (as the example above), two more conventions are used: Two literal characters separated by three dots mean a choice of any single character in the given (inclusive) range of ASCII characters. A phrase between angular brackets (`<...>`) gives an informal description of the symbol defined; e.g., this could be used to describe the notion of ‘control character’ if needed.\n",
    "\n",
    "Even though the notation used is almost the same, there is a big difference between the meaning of lexical and syntactic definitions: a lexical definition operates on the individual characters of the input source, while a syntax definition operates on the stream of tokens generated by the lexical analysis. All uses of BNF in the next chapter (“Lexical Analysis”) are lexical definitions; uses in subsequent chapters are syntactic definitions.\n",
    "\n",
    "> 第一行说，`name` 是一个 `lc_letter`，后面是一串零或多个 `lc_letter` 和下划线。一个 `lc_letter` 是 `'a'` 到 `'z'` 中的任何一个字符。(本文件中的词法和语法规则中定义的名称实际上也遵守这一规则)。\n",
    ">\n",
    "> 每条规则以名称（即规则所定义的名称）和 `::=` 开头。竖条(`|`)用于分隔备选项；在这个符号中，它是最小的绑定操作符。星形(`*`)表示前面的项目有零次或多次重复；同样，加号(`+`)表示有一次或多次重复，方括号内的短语(`[ ]`)表示有零次或一次出现（换句话说，所括短语是可选的）。`*`和`+`运算符尽可能紧密地绑定在一起；圆括号用于分组。字面字符串用引号括起来。白空格只对分隔标记有意义。规则通常包含在单行上；有许多备选项的规则可以采用交替的格式，第一行之后的每一行都以竖条开始。\n",
    ">\n",
    "> 在词汇定义中（如上面的例子），还有两个惯例被使用。用三个点隔开的两个字面字符意味着可以选择给定（包括）ASCII字符范围内的任何一个字符。角括号（`<...>`）之间的短语给出了对所定义符号的非正式描述；例如，如果需要，这可以用来描述 ''control character'' 的概念。\n",
    ">\n",
    "> 尽管使用的符号几乎相同，但词法定义和语法定义的含义有很大区别：词法定义对输入源的单个字符进行操作，而语法定义对词法分析产生的标记流进行操作。在下一章（\"Lexical Analysis\"）中，BNF的所有用法都是词法定义；在后续章节中的用法是语法定义。"
   ]
  }
 ],
 "metadata": {
  "kernelspec": {
   "display_name": "Python 3 (ipykernel)",
   "language": "python",
   "name": "python3"
  },
  "language_info": {
   "codemirror_mode": {
    "name": "ipython",
    "version": 3
   },
   "file_extension": ".py",
   "mimetype": "text/x-python",
   "name": "python",
   "nbconvert_exporter": "python",
   "pygments_lexer": "ipython3",
   "version": "3.10.4"
  }
 },
 "nbformat": 4,
 "nbformat_minor": 5
}
