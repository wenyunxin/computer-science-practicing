{
 "cells": [
  {
   "cell_type": "code",
   "execution_count": 2,
   "id": "cfd680e5-40d3-4c0f-8428-a17fa6f8991b",
   "metadata": {},
   "outputs": [],
   "source": [
    "from IPython.core.interactiveshell import InteractiveShell\n",
    "InteractiveShell.ast_node_interactivity = \"all\""
   ]
  },
  {
   "cell_type": "markdown",
   "id": "34740525-ece8-428f-9037-fef7fd7e5fc7",
   "metadata": {},
   "source": [
    "## 3.1. Objects, values and types"
   ]
  },
  {
   "cell_type": "markdown",
   "id": "bd0ffec4-fe7c-4a96-a730-ed7ee7c4103e",
   "metadata": {},
   "source": [
    "*Objects* are Python’s abstraction for data. All data in a Python program is represented by objects or by relations between objects. (In a sense, and in conformance to Von Neumann’s model of a “stored program computer”, code is also represented by objects.)\n",
    "\n",
    "Every object has an identity, a type and a value. An object’s *identity* never changes once it has been created; you may think of it as the object’s address in memory. The ‘[`is`](https://docs.python.org/3/reference/expressions.html#is)’ operator compares the identity of two objects; the [`id()`](https://docs.python.org/3/library/functions.html#id) function returns an integer representing its identity.\n",
    "\n",
    "> *对象*是Python对数据的抽象化。Python程序中的所有数据都由对象或对象之间的关系来表示。(从某种意义上说，为了符合冯-诺依曼的 \"存储程序计算机\"模型，代码也是由对象表示的。)\n",
    ">\n",
    "> 每个对象都有一个身份、一个类型和一个值。一个对象的*身份*一旦被创建就不会改变；你可以把它看作是该对象在内存中的地址。[`is`](https://docs.python.org/3/reference/expressions.html#is) 运算符比较两个对象的身份；[`id()`](https://docs.python.org/3/library/functions.html#id) 函数返回一个代表其身份的整数。"
   ]
  },
  {
   "cell_type": "markdown",
   "id": "0c74f5a5-df6e-46f2-bacf-3b8eab53d7b9",
   "metadata": {},
   "source": [
    "**CPython implementation detail:** For CPython, `id(x)` is the memory address where `x` is stored.\n",
    "\n",
    "An object’s type determines the operations that the object supports (e.g., “does it have a length?”) and also defines the possible values for objects of that type. The [`type()`](https://docs.python.org/3/library/functions.html#type) function returns an object’s type (which is an object itself). Like its identity, an object’s *type* is also unchangeable. [^1]\n",
    "\n",
    "The *value* of some objects can change. Objects whose value can change are said to be *mutable*; objects whose value is unchangeable once they are created are called *immutable*. (The value of an immutable container object that contains a reference to a mutable object can change when the latter’s value is changed; however the container is still considered immutable, because the collection of objects it contains cannot be changed. So, immutability is not strictly the same as having an unchangeable value, it is more subtle.) An object’s mutability is determined by its type; for instance, numbers, strings and tuples are immutable, while dictionaries and lists are mutable.\n",
    "\n",
    "> **CPython实现细节：**对于CPython，`id(x)`是存储`x`的内存地址。\n",
    ">\n",
    "> 一个对象的类型决定了该对象所支持的操作（例如，\"它有长度吗？\"），也定义了该类型对象的可能值。[`type()`](https://docs.python.org/3/library/functions.html#type)函数返回一个对象的类型（它是一个对象本身）。和它的身份一样，一个对象的*类型*也是不可改变的。[^1]\n",
    ">\n",
    "> 一些对象的*值*可以改变。其值可以改变的对象被称为*mutable*；其值一旦被创建就不可改变的对象被称为*immutable*。(一个不可变的容器对象包含对一个可变对象的引用，当后者的值被改变时，它的值可以改变；但是容器仍然被认为是不可变的，因为它包含的对象集合不能被改变）。所以，不可变性严格来说并不等同于有一个不可改变的值，它更微妙）。一个对象的可变性由其类型决定；例如，数字、字符串和元组是不可变的，而字典和列表是可变的。"
   ]
  },
  {
   "cell_type": "code",
   "execution_count": 3,
   "id": "c448cdaf-e215-4081-a8a2-51161019d9e1",
   "metadata": {},
   "outputs": [
    {
     "data": {
      "text/plain": [
       "[4, 5, 6]"
      ]
     },
     "execution_count": 3,
     "metadata": {},
     "output_type": "execute_result"
    }
   ],
   "source": [
    "t = ([1, 2, 3], [4, 5, 6], [7, 8, 9])\n",
    "t[1]"
   ]
  },
  {
   "cell_type": "code",
   "execution_count": 4,
   "id": "91141eb4-62a9-4de8-9229-f3c6b8fe1d1b",
   "metadata": {},
   "outputs": [
    {
     "ename": "TypeError",
     "evalue": "'tuple' object does not support item assignment",
     "output_type": "error",
     "traceback": [
      "\u001b[1;31m---------------------------------------------------------------------------\u001b[0m",
      "\u001b[1;31mTypeError\u001b[0m                                 Traceback (most recent call last)",
      "Input \u001b[1;32mIn [4]\u001b[0m, in \u001b[0;36m<cell line: 1>\u001b[1;34m()\u001b[0m\n\u001b[1;32m----> 1\u001b[0m t[\u001b[38;5;241m3\u001b[39m] \u001b[38;5;241m=\u001b[39m \u001b[38;5;241m1\u001b[39m\n",
      "\u001b[1;31mTypeError\u001b[0m: 'tuple' object does not support item assignment"
     ]
    }
   ],
   "source": [
    "t[3] = 1    # Raise TypeError, because tuple is immutable"
   ]
  },
  {
   "cell_type": "code",
   "execution_count": 5,
   "id": "736a83dc-daed-4b32-b980-22edcc700d04",
   "metadata": {},
   "outputs": [
    {
     "data": {
      "text/plain": [
       "2219312981632"
      ]
     },
     "execution_count": 5,
     "metadata": {},
     "output_type": "execute_result"
    },
    {
     "data": {
      "text/plain": [
       "(([1, 2, 3], [4, 5, 6], [7, 8, 9]), [10, 11, 12])"
      ]
     },
     "execution_count": 5,
     "metadata": {},
     "output_type": "execute_result"
    },
    {
     "data": {
      "text/plain": [
       "2219341494720"
      ]
     },
     "execution_count": 5,
     "metadata": {},
     "output_type": "execute_result"
    }
   ],
   "source": [
    "List1 = [10, 11, 12]\n",
    "id(List1)\n",
    "\n",
    "t2 = (t, List1)\n",
    "\n",
    "t2\n",
    "id(t2)"
   ]
  },
  {
   "cell_type": "code",
   "execution_count": null,
   "id": "abbc6ebb-055e-46db-b58d-9c7bf27a86e7",
   "metadata": {},
   "outputs": [],
   "source": [
    "List1.append(13)\n",
    "List1\n",
    "id(List1)\n",
    "\n",
    "t2    # tuple 包含的List1引用是可变的\n",
    "id(t2)"
   ]
  },
  {
   "cell_type": "markdown",
   "id": "ba0d7b69-c16a-4973-9254-dcec30221e53",
   "metadata": {},
   "source": [
    "Objects are never explicitly destroyed; however, when they become unreachable they may be garbage-collected. An implementation is allowed to postpone garbage collection or omit it altogether — it is a matter of implementation quality how garbage collection is implemented, as long as no objects are collected that are still reachable.\n",
    "\n",
    "> 对象永远不会被明确地销毁；然而，当它们变得不可触及时，它们可能会被垃圾收集。一个实现被允许推迟垃圾收集或完全省略它--只要不收集仍可到达的对象，如何实现垃圾收集是一个实现质量问题。"
   ]
  },
  {
   "cell_type": "markdown",
   "id": "c33eb66b-24fd-4b9c-b685-d5f1b207dbab",
   "metadata": {},
   "source": [
    "**CPython implementation detail:** CPython currently uses a reference-counting scheme with (optional) delayed detection of cyclically linked garbage, which collects most objects as soon as they become unreachable, but is not guaranteed to collect garbage containing circular references. See the documentation of the [`gc`](https://docs.python.org/3/library/gc.html#module-gc) module for information on controlling the collection of cyclic garbage. Other implementations act differently and CPython may change. Do not depend on immediate finalization of objects when they become unreachable (so you should always close files explicitly).\n",
    "\n",
    "> **CPython的实现细节：** CPython目前使用了一个引用计数方案，对循环链接的垃圾进行（可选的）延迟检测，一旦大多数对象变得不可触及，就会收集它们，但不保证收集含有循环引用的垃圾。参见[`gc`](https://docs.python.org/3/library/gc.html#module-gc)模块的文档，了解关于控制循环垃圾收集的信息。其他实现的行为方式不同，CPython可能会发生变化。当对象变得不可访问时，不要依赖对象的立即最终化（所以你应该总是明确地关闭文件）。"
   ]
  },
  {
   "cell_type": "markdown",
   "id": "1e2f5082-5331-48b9-a838-c3cf17a3f973",
   "metadata": {},
   "source": [
    "Note that the use of the implementation’s tracing or debugging facilities may keep objects alive that would normally be collectable. Also note that catching an exception with a ‘[`try`](https://docs.python.org/3/reference/compound_stmts.html#try)…[`except`](https://docs.python.org/3/reference/compound_stmts.html#except)’ statement may keep objects alive.\n",
    "\n",
    "Some objects contain references to “external” resources such as open files or windows. It is understood that these resources are freed when the object is garbage-collected, but since garbage collection is not guaranteed to happen, such objects also provide an explicit way to release the external resource, usually a `close()` method. Programs are strongly recommended to explicitly close such objects. The ‘[`try`](https://docs.python.org/3/reference/compound_stmts.html#try)…[`finally`](https://docs.python.org/3/reference/compound_stmts.html#finally)’ statement and the ‘[`with`](https://docs.python.org/3/reference/compound_stmts.html#with)’ statement provide convenient ways to do this.\n",
    "\n",
    "> 请注意，使用实现的跟踪或调试设施可能会使通常可被收集的对象继续存在。还要注意的是，用'[`try`](https://docs.python.org/3/reference/compound_stmts.html#try)...[`except`](https://docs.python.org/3/reference/compound_stmts.html#except)'语句捕捉异常可能会使对象继续存在。\n",
    ">\n",
    "> 一些对象包含对 \"外部 \"资源的引用，如打开的文件或窗口。据了解，这些资源在对象被垃圾回收时被释放，但由于垃圾回收不能保证发生，这样的对象也提供了一个显式的方法来释放外部资源，通常是一个`close()`方法。强烈建议程序明确地关闭这类对象。'[`try`](https://docs.python.org/3/reference/compound_stmts.html#try)...[`finally`](https://docs.python.org/3/reference/compound_stmts.html#finally)'语句和'[`with`](https://docs.python.org/3/reference/compound_stmts.html#with)'语句提供了方便的方法来做到这一点。"
   ]
  },
  {
   "cell_type": "markdown",
   "id": "a94e29f9-0a5a-48c1-93da-b823f7ea8f59",
   "metadata": {},
   "source": [
    "Some objects contain references to other objects; these are called *containers*. Examples of containers are tuples, lists and dictionaries. The references are part of a container’s value. In most cases, when we talk about the value of a container, we imply the values, not the identities of the contained objects; however, when we talk about the mutability of a container, only the identities of the immediately contained objects are implied. So, if an immutable container (like a tuple) contains a reference to a mutable object, its value changes if that mutable object is changed.\n",
    "\n",
    "> 有些对象包含对其他对象的引用；这些对象被称为*容器*。容器的例子有元组、列表和字典。这些引用是一个容器值的一部分。在大多数情况下，当我们谈论一个容器的值时，我们暗示的是值，而不是所包含的对象的身份；然而，当我们谈论一个容器的可变性时，只暗示直接地包含的对象的身份。所以，如果一个不可变的容器（比如元组）包含对一个可变对象的引用，那么如果该可变对象被改变，它的值就会改变。"
   ]
  },
  {
   "cell_type": "markdown",
   "id": "45e951bb-de92-4525-8026-330d0c5e0c27",
   "metadata": {},
   "source": [
    "Types affect almost all aspects of object behavior. Even the importance of object identity is affected in some sense: for immutable types, operations that compute new values may actually return a reference to any existing object with the same type and value, while for mutable objects this is not allowed. E.g., after `a = 1; b = 1`, `a` and `b` may or may not refer to the same object with the value one, depending on the implementation, but after `c = []; d = []`, `c` and `d` are guaranteed to refer to two different, unique, newly created empty lists. (Note that `c = d = []` assigns the same object to both `c` and `d`.)\n",
    "\n",
    "> 类型几乎影响了对象行为的所有方面。甚至对象身份的重要性在某种意义上也受到影响：对于不可变类型，计算新值的操作实际上可以返回对任何具有相同类型和值的现有对象的引用，而对于可变对象，这是不允许的。例如，在`a = 1; b = 1`之后，`a`和`b`可能会也可能不会引用同一个值为1的对象，这取决于实现，但是在`c = []; d = []`之后，`c`和`d`被保证引用两个不同的、唯一的、新创建的空列表。(注意`c = d = []`给`c`和`d`分配了同一个对象)。"
   ]
  },
  {
   "cell_type": "code",
   "execution_count": null,
   "id": "6a8beb4f-357e-49e2-9d3e-f33727ccaea7",
   "metadata": {},
   "outputs": [],
   "source": [
    "a = 1\n",
    "b = 1\n",
    "\n",
    "id(a)\n",
    "id(b)\n",
    "\n",
    "id(a) == id(b)"
   ]
  },
  {
   "cell_type": "code",
   "execution_count": null,
   "id": "9f745d4b-ce79-4afa-9aa3-3ba15e2019f3",
   "metadata": {},
   "outputs": [],
   "source": [
    "list_c = []\n",
    "list_d = []\n",
    "\n",
    "id(list_c)\n",
    "id(list_d)\n",
    "id(list_c) == id(list_d)"
   ]
  },
  {
   "cell_type": "markdown",
   "id": "bf172f00-d183-4d38-bba7-2d864fdbc583",
   "metadata": {},
   "source": [
    "## 3.2. The standard type hierarchy"
   ]
  },
  {
   "cell_type": "markdown",
   "id": "75a140eb-c3c8-45b0-be9f-028f595c5b50",
   "metadata": {},
   "source": [
    "Below is a list of the types that are built into Python. Extension modules (written in C, Java, or other languages, depending on the implementation) can define additional types. Future versions of Python may add types to the type hierarchy (e.g., rational numbers, efficiently stored arrays of integers, etc.), although such additions will often be provided via the standard library instead.\n",
    "\n",
    "Some of the type descriptions below contain a paragraph listing ‘special attributes.’ These are attributes that provide access to the implementation and are not intended for general use. Their definition may change in the future.\n",
    "\n",
    "> 下面是Python中内置类型的列表。扩展模块 (用 C、Java 或其它语言编写，取决于实现) 可以定义额外的类型。Python 的未来版本可能会在类型层次中增加一些类型 (例如，有理数、有效存储的整数数组，等等)，尽管这些增加的类型通常会通过标准库提供。\n",
    ">\n",
    "> 下面的一些类型描述包含一个段落，列出了 \"特殊属性\"。这些是提供对实现的访问的属性，并不打算用于一般用途。它们的定义在将来可能会改变。"
   ]
  },
  {
   "cell_type": "markdown",
   "id": "a78a8069-defa-4829-944b-c6b7544a799c",
   "metadata": {},
   "source": [
    "None\n",
    "\n",
    "This type has a single value. There is a single object with this value. This object is accessed through the built-in name `None`. It is used to signify the absence of a value in many situations, e.g., it is returned from functions that don’t explicitly return anything. Its truth value is false.\n",
    "\n",
    "> None\n",
    ">\n",
    "> 这个类型有一个单一的值。有一个具有此值的单一对象。这个对象可以通过内置的名称 `None` 来访问。在许多情况下，它被用来表示没有一个值，例如，它从没有明确返回任何东西的函数中返回。它的truth值是false。"
   ]
  },
  {
   "cell_type": "code",
   "execution_count": null,
   "id": "74e05e56-927a-4570-9c41-f257f46b0f78",
   "metadata": {},
   "outputs": [],
   "source": [
    "def return_none():\n",
    "    return"
   ]
  },
  {
   "cell_type": "code",
   "execution_count": null,
   "id": "73c9677d-c0e2-4b6d-8fe1-0c99e97185b5",
   "metadata": {},
   "outputs": [],
   "source": [
    "print(return_none())\n",
    "\n",
    "bool(None)"
   ]
  },
  {
   "cell_type": "markdown",
   "id": "8f7e0e79-22d6-4a50-b25d-9a0d8e77c4a0",
   "metadata": {},
   "source": [
    "NotImplemented\n",
    "\n",
    "This type has a single value. There is a single object with this value. This object is accessed through the built-in name `NotImplemented`. Numeric methods and rich comparison methods should return this value if they do not implement the operation for the operands provided. (The interpreter will then try the reflected operation, or some other fallback, depending on the operator.) It should not be evaluated in a boolean context.\n",
    "\n",
    "See [Implementing the arithmetic operations](https://docs.python.org/3/library/numbers.html#implementing-the-arithmetic-operations) for more details.\n",
    "\n",
    "*Changed in version 3.9:* Evaluating `NotImplemented` in a boolean context is deprecated. While it currently evaluates as true, it will emit a [`DeprecationWarning`](https://docs.python.org/3/library/exceptions.html#DeprecationWarning). It will raise a [`TypeError`](https://docs.python.org/3/library/exceptions.html#TypeError) in a future version of Python.\n",
    "\n",
    "> NotImplemented\n",
    ">\n",
    "> 这个类型有一个单一的值。有一个具有此值的单一对象。这个对象可以通过内置名称 `NotImplemented` 来访问。如果数字方法和丰富的比较方法没有为所提供的操作数实现操作，应该返回这个值。(然后解释器将尝试反映的操作，或者其他的回退，取决于操作者)。它不应该在布尔语境中被运算。\n",
    ">\n",
    "> 更多细节见[实现算术运算](https://docs.python.org/3/library/numbers.html#implementing-the-arithmetic-operations)。\n",
    ">\n",
    "> *在3.9版本中改变了：*在boolean上下文中运算 `NotImplemented` 的做法已被废弃。虽然它目前运算求值为true，但它将发出一个 [`DeprecationWarning`](https://docs.python.org/3/library/exceptions.html#DeprecationWarning)。在未来的 Python 版本中，它将引发 [`TypeError`](https://docs.python.org/3/library/exceptions.html#TypeError)。"
   ]
  },
  {
   "cell_type": "markdown",
   "id": "60952132-255a-4bed-81b7-c858758c97be",
   "metadata": {},
   "source": [
    "Ellipsis\n",
    "\n",
    "This type has a single value. There is a single object with this value. This object is accessed through the literal `...` or the built-in name `Ellipsis`. Its truth value is true.\n",
    "\n",
    "> Ellipsis\n",
    ">\n",
    "> 这个类型有一个单一的值。有一个具有这个值的单一对象。这个对象可以通过字面值 `...` 或内置名称`Ellipsis` 访问。其truth值为true。"
   ]
  },
  {
   "cell_type": "code",
   "execution_count": null,
   "id": "18d10acb-3ae9-4573-a47d-eef46447d567",
   "metadata": {},
   "outputs": [],
   "source": [
    "bool(...)\n",
    "bool(Ellipsis)"
   ]
  },
  {
   "cell_type": "markdown",
   "id": "c8cf51d2-657a-4475-93d2-e5fa54d218cb",
   "metadata": {},
   "source": [
    "[`numbers.Number`](https://docs.python.org/3/library/numbers.html#numbers.Number)\n",
    "\n",
    "These are created by numeric literals and returned as results by arithmetic operators and arithmetic built-in functions. Numeric objects are immutable; once created their value never changes. Python numbers are of course strongly related to mathematical numbers, but subject to the limitations of numerical representation in computers.\n",
    "\n",
    "The string representations of the numeric classes, computed by [`__repr__()`](https://docs.python.org/3/reference/datamodel.html#object.__repr__) and [`__str__()`](https://docs.python.org/3/reference/datamodel.html#object.__str__), have the following properties:\n",
    "\n",
    "- They are valid numeric literals which, when passed to their class constructor, produce an object having the value of the original numeric.\n",
    "- The representation is in base 10, when possible.\n",
    "- Leading zeros, possibly excepting a single zero before a decimal point, are not shown.\n",
    "- Trailing zeros, possibly excepting a single zero after a decimal point, are not shown.\n",
    "- A sign is shown only when the number is negative.\n",
    "\n",
    "> [`numbers.Number`](https://docs.python.org/3/library/numbers.html#numbers.Number)\n",
    ">\n",
    "> 这些对象是由数字字元创建的，并由算术运算符和算术内置函数作为结果返回。数字对象是不可改变的；一旦创建，它们的值就不会改变。当然，Python 数字与数学数字密切相关，但受到计算机中数字表示法的限制。\n",
    ">\n",
    "> 数字类的字符串表示，由 [`__repr__()`](https://docs.python.org/3/reference/datamodel.html#object.__repr__) 和 [`__str__()`](https://docs.python.org/3/reference/datamodel.html#object.__str__)) 计算，具有以下特性：\n",
    ">\n",
    "> - 它们是有效的数字字元，当传递给它们的类构造器时，产生一个具有原始数字值的对象。\n",
    "> - 在可能的情况下，表示法是以10为基数。\n",
    "> - 前面的零，可能除了小数点前的一个零，不显示。\n",
    "> - 后面的零，除了小数点后的一个零外，不显示。\n",
    "> - 只有当数字为负数时才显示符号。"
   ]
  },
  {
   "cell_type": "markdown",
   "id": "4b6a58cf-3044-4c81-96c6-a6619440c27e",
   "metadata": {},
   "source": [
    "Python distinguishes between integers, floating point numbers, and complex numbers:\n",
    "\n",
    "- [`numbers.Integral`](https://docs.python.org/3/library/numbers.html#numbers.Integral)\n",
    "\n",
    "  These represent elements from the mathematical set of integers (positive and negative).\n",
    "\n",
    "  There are two types of integers:\n",
    "\n",
    "  Integers ([`int`](https://docs.python.org/3/library/functions.html#int))\n",
    "\n",
    "  These represent numbers in an unlimited range, subject to available (virtual) memory only. For the purpose of shift and mask operations, a binary representation is assumed, and negative numbers are represented in a variant of 2’s complement which gives the illusion of an infinite string of sign bits extending to the left.\n",
    "\n",
    "  Booleans ([`bool`](https://docs.python.org/3/library/functions.html#bool))\n",
    "\n",
    "  These represent the truth values False and True. The two objects representing the values `False` and `True` are the only Boolean objects. The Boolean type is a subtype of the integer type, and Boolean values behave like the values 0 and 1, respectively, in almost all contexts, the exception being that when converted to a string, the strings `\"False\"` or `\"True\"` are returned, respectively.\n",
    "\n",
    "  The rules for integer representation are intended to give the most meaningful interpretation of shift and mask operations involving negative integers.\n",
    "\n",
    "- [`numbers.Real`](https://docs.python.org/3/library/numbers.html#numbers.Real) ([`float`](https://docs.python.org/3/library/functions.html#float))\n",
    "\n",
    "  These represent machine-level double precision floating point numbers. You are at the mercy of the underlying machine architecture (and C or Java implementation) for the accepted range and handling of overflow. Python does not support single-precision floating point numbers; the savings in processor and memory usage that are usually the reason for using these are dwarfed by the overhead of using objects in Python, so there is no reason to complicate the language with two kinds of floating point numbers.\n",
    "\n",
    "- [`numbers.Complex`](https://docs.python.org/3/library/numbers.html#numbers.Complex) ([`complex`](https://docs.python.org/3/library/functions.html#complex))\n",
    "\n",
    "  These represent complex numbers as a pair of machine-level double precision floating point numbers. The same caveats apply as for floating point numbers. The real and imaginary parts of a complex number `z` can be retrieved through the read-only attributes `z.real` and `z.imag`.\n",
    "\n",
    "> Python区分了整数、浮点数和复数。\n",
    ">\n",
    "> - [`numbers.Integral`](https://docs.python.org/3/library/numbers.html#numbers.Integral)\n",
    ">\n",
    ">   这些代表来自整数（正数和负数）的数学集合的元素。\n",
    ">\n",
    ">   有两种类型的整数。\n",
    ">\n",
    ">   整数([`int`](https://docs.python.org/3/library/functions.html#int))\n",
    ">\n",
    ">   这些表示无限范围的数字，仅受可用（虚拟）内存的限制。为了进行移位和掩码操作，假定使用二进制表示，负数用2的补码表示，给人一种无限的符号字符串位向左延伸的错觉。\n",
    ">\n",
    ">   布尔([`bool`](https://docs.python.org/3/library/functions.html#bool))\n",
    ">\n",
    ">   这些表示真值False和True。代表值 `False` 和 `True` 的两个对象是唯一的布尔对象。布尔类型是整数类型的一个子类型，布尔值在几乎所有情况下的表现都类似于0和1，例外的是，当转换为字符串时，会分别返回字符串 `\"False\"` 或 `\"True\"`。\n",
    ">\n",
    ">   整数表示法的规则是为了给涉及负整数的移位和掩码操作提供最有意义的解释。\n",
    ">\n",
    "> - [`numbers.Real`](https://docs.python.org/3/library/numbers.html#numbers.Real) ([`float`](https://docs.python.org/3/library/functions.html#float))\n",
    ">\n",
    ">   这些代表机器级的双精度浮点数。对于可接受的范围和溢出的处理，你要听从底层机器结构(以及C或Java实现)的安排。Python 不支持单精度浮点数；通常使用单精度浮点数所节省的处理器和内存使用量与在 Python 中使用对象的开销相比相形见绌，所以没有理由用两种浮点数使语言复杂化。\n",
    ">\n",
    "> - [`numbers.Complex`](https://docs.python.org/3/library/numbers.html#numbers.Complex) ([`complex`](https://docs.python.org/3/library/functions.html#complex))\n",
    ">\n",
    ">   这些表示复数是一对机器级的双精度浮点数。同样的注意事项也适用于浮点数。复数 `z` 的实部和虚部可以通过只读属性 `z.real` 和 `z.imag` 来检索。"
   ]
  },
  {
   "cell_type": "code",
   "execution_count": null,
   "id": "f8b1ae96-b5e2-428f-8e2d-3e875437ef51",
   "metadata": {},
   "outputs": [],
   "source": [
    "from numbers import Number, Integral, Real, Complex\n",
    "\n",
    "C = 4 + 2.0j\n",
    "\n",
    "C.real\n",
    "C.imag"
   ]
  },
  {
   "cell_type": "markdown",
   "id": "f4877083-7193-4ef7-9cea-89eb88a8fafd",
   "metadata": {},
   "source": [
    "Sequences\n",
    "\n",
    "These represent finite ordered sets indexed by non-negative numbers. The built-in function [`len()`](https://docs.python.org/3/library/functions.html#len) returns the number of items of a sequence. When the length of a sequence is *n*, the index set contains the numbers 0, 1, …, *n*-1. Item *i* of sequence *a* is selected by `a[i]`.\n",
    "\n",
    "Sequences also support slicing: `a[i:j]` selects all items with index *k* such that *i* `<=` *k* `<` *j*. When used as an expression, a slice is a sequence of the same type. This implies that the index set is renumbered so that it starts at 0.\n",
    "\n",
    "Some sequences also support “extended slicing” with a third “step” parameter: `a[i:j:k]` selects all items of *a* with index *x* where `x = i + n*k`, *n* `>=` `0` and *i* `<=` *x* `<` *j*.\n",
    "\n",
    "Sequences are distinguished according to their mutability:\n",
    "\n",
    "Immutable sequences\n",
    "\n",
    "An object of an immutable sequence type cannot change once it is created. (If the object contains references to other objects, these other objects may be mutable and may be changed; however, the collection of objects directly referenced by an immutable object cannot change.)\n",
    "\n",
    "The following types are immutable sequences:\n",
    "\n",
    "- Strings\n",
    "\n",
    "  A string is a sequence of values that represent Unicode code points. All the code points in the range `U+0000 - U+10FFFF` can be represented in a string. Python doesn’t have a char type; instead, every code point in the string is represented as a string object with length `1`. The built-in function [`ord()`](https://docs.python.org/3/library/functions.html#ord) converts a code point from its string form to an integer in the range `0 - 10FFFF`; [`chr()`](https://docs.python.org/3/library/functions.html#chr) converts an integer in the range `0 - 10FFFF` to the corresponding length `1` string object. [`str.encode()`](https://docs.python.org/3/library/stdtypes.html#str.encode) can be used to convert a [`str`](https://docs.python.org/3/library/stdtypes.html#str) to [`bytes`](https://docs.python.org/3/library/stdtypes.html#bytes) using the given text encoding, and [`bytes.decode()`](https://docs.python.org/3/library/stdtypes.html#bytes.decode) can be used to achieve the opposite.\n",
    "\n",
    "- Tuples\n",
    "\n",
    "  The items of a tuple are arbitrary Python objects. Tuples of two or more items are formed by comma-separated lists of expressions. A tuple of one item (a ‘singleton’) can be formed by affixing a comma to an expression (an expression by itself does not create a tuple, since parentheses must be usable for grouping of expressions). An empty tuple can be formed by an empty pair of parentheses.\n",
    "\n",
    "- Bytes\n",
    "\n",
    "  A bytes object is an immutable array. The items are 8-bit bytes, represented by integers in the range 0 <= x < 256. Bytes literals (like `b'abc'`) and the built-in [`bytes()`](https://docs.python.org/3/library/stdtypes.html#bytes) constructor can be used to create bytes objects. Also, bytes objects can be decoded to strings via the [`decode()`](https://docs.python.org/3/library/stdtypes.html#bytes.decode) method.\n",
    "\n",
    "Mutable sequences\n",
    "\n",
    "Mutable sequences can be changed after they are created. The subscription and slicing notations can be used as the target of assignment and [`del`](https://docs.python.org/3/reference/simple_stmts.html#del) (delete) statements.\n",
    "\n",
    "There are currently two intrinsic mutable sequence types:\n",
    "\n",
    "- Lists\n",
    "\n",
    "  The items of a list are arbitrary Python objects. Lists are formed by placing a comma-separated list of expressions in square brackets. (Note that there are no special cases needed to form lists of length 0 or 1.)\n",
    "\n",
    "- Byte Arrays\n",
    "\n",
    "  A bytearray object is a mutable array. They are created by the built-in [`bytearray()`](https://docs.python.org/3/library/stdtypes.html#bytearray) constructor. Aside from being mutable (and hence unhashable), byte arrays otherwise provide the same interface and functionality as immutable [`bytes`](https://docs.python.org/3/library/stdtypes.html#bytes) objects.\n",
    "\n",
    "The extension module [`array`](https://docs.python.org/3/library/array.html#module-array) provides an additional example of a mutable sequence type, as does the [`collections`](https://docs.python.org/3/library/collections.html#module-collections) module.\n",
    "\n",
    "> Sequences  序列\n",
    ">\n",
    "> 这些序列表示以非负数为索引的有限有序集合。内置函数 [`len()`](https://docs.python.org/3/library/functions.html#len) 返回一个序列的项目数。当一个序列的长度为*n*时，索引集包含数字0，1，...，*n*-1。序列*a*的项目*i*被 `a[i]` 选中。\n",
    ">\n",
    "> 序列也支持切分。`a[i:j]` 选择所有具有索引*k*的项目，使得*i* `<=` *k* `<` *j*。当作为表达式使用时，切片是一个相同类型的序列。这意味着索引集被重新编号，使其从0开始。\n",
    ">\n",
    "> 一些序列还支持带有第三个 \"步骤 \"参数的 \"扩展切片\"：`a[i:j:k]` 选择具有索引*x*的*a*的所有项目，其中`x = i + n*k`，*n* `>=` 0 和*i*  `<=` *x* `<` *j*。\n",
    ">\n",
    "> 序列是根据它们的可变性来区分的。\n",
    ">\n",
    "> Immutable Sequences  不可变的序列\n",
    ">\n",
    "> 一个不可变的序列类型的对象一旦被创建就不能改变。(如果该对象包含对其他对象的引用，这些其他对象可能是可变的，并可能被改变；然而，由不可变的对象直接引用的对象集合不能改变)。\n",
    ">\n",
    "> 以下类型是不可变的序列：\n",
    ">\n",
    "> - Strings  字符串\n",
    ">\n",
    ">   字符串是一个代表Unicode代码点的数值序列。所有在 `U+0000 - U+10FFFF` 范围内的代码点都可以用一个字符串表示。Python没有char类型；相反，字符串中的每个代码点都被表示为一个长度为 `1` 的字符串对象。内置函数 [`ord()`](https://docs.python.org/3/library/functions.html#ord) 将一个代码点从其字符串形式转换为 `0 - 10FFFF` 范围内的整数； [`chr()`](https://docs.python.org/3/library/functions.html#chr) 将`0 - 10FFFF` 范围内的整数转换为相应长度`1`的字符串对象。[`str.encode()`](https://docs.python.org/3/library/stdtypes.html#str.encode) 可以用来将一个 [`str`](https://docs.python.org/3/library/stdtypes.html#str) 使用给定的文本编码转换为 [`bytes`](https://docs.python.org/3/library/stdtypes.html#bytes)，而 [`bytes.decode()`](https://docs.python.org/3/library/stdtypes.html#bytes.decode) 可以用来实现相反的目的。\n",
    ">\n",
    "> - Tuples  元组\n",
    ">\n",
    ">   元组的项是任意的Python对象。两个或多个项的元组是由逗号分隔的表达式列表形成的。一个只有一个项的元组 (\"单子\") 可以通过给表达式加上逗号来形成 (表达式本身并不能创建一个元组，因为括号必须用于表达式的分组)。一个空的元组可以由一对空的括号形成。\n",
    ">\n",
    "> - Bytes  字节\n",
    ">\n",
    ">   一个字节对象是一个不可变的数组。项目是8位字节，由范围为0 <= x < 256的整数表示。字节字面字元（如 `b'abc'`）和内置的 [`bytes()`](https://docs.python.org/3/library/stdtypes.html#bytes) 构造函数可以用来创建字节对象。另外，字节对象可以通过[`decode()`](https://docs.python.org/3/library/stdtypes.html#bytes.decode) 方法被解码为字符串。\n",
    ">\n",
    "> Mutable sequences  可变的序列\n",
    ">\n",
    "> 可变序列在创建后可以被改变。订阅和切分符号可以作为赋值和[`del`](https://docs.python.org/3/reference/simple_stmts.html#del)（删除）语句的目标。\n",
    ">\n",
    "> 目前有两种内在的可变序列类型：\n",
    ">\n",
    "> - Lists  列表\n",
    ">\n",
    ">   列表的项是任意的 Python 对象。列表是通过将逗号分隔的表达式列表放在方括号中形成的。(注意，形成长度为 0 或 1 的列表不需要任何特殊情况)。\n",
    ">\n",
    "> - Byte Arrays  字节数组\n",
    ">\n",
    ">   字节数组对象是一个可变的数组。它们是由内置的 [`bytearray()`](https://docs.python.org/3/library/stdtypes.html#bytearray) 构造函数创建。除了是可变的（因此是不可散列的），字节数组还提供与不可变的 [`bytes`](https://docs.python.org/3/library/stdtypes.html#bytes) 对象相同的接口和功能。\n",
    ">\n",
    "> 扩展模块 [`array`](https://docs.python.org/3/library/array.html#module-array) 提供了一个额外的可变序列类型的例子，正如 [`collections`](https://docs.python.org/3/library/collections.html#module-collections) 模块一样。"
   ]
  },
  {
   "cell_type": "code",
   "execution_count": null,
   "id": "4e6160c1-f509-48f1-b078-3a813d185174",
   "metadata": {},
   "outputs": [],
   "source": [
    "# immutable sequences\n",
    "S = \"String\"    # Strinig\n",
    "T = ( )    # Tuple with 0 item\n",
    "T1 = (9,)    # Tuple with single item\n",
    "B = b'abc'    # bytes literals\n",
    "B1 = bytes(b'abc')    # bytes created by built-in bytes() constructor\n",
    "B2 = bytes('abc', encoding=\"utf-8\")\n",
    "\n",
    "# mutable sequences\n",
    "L = []    # List with 0 item\n",
    "Byte_a = bytearray(b'abc')    # created by the built-in bytearray() constructor"
   ]
  },
  {
   "cell_type": "code",
   "execution_count": null,
   "id": "2d8a97d9-759c-4f9f-b700-c09efcf2ceac",
   "metadata": {
    "tags": []
   },
   "outputs": [],
   "source": [
    "len(S)\n",
    "len(T)\n",
    "len(T1)\n",
    "len(B)\n",
    "len(B1)\n",
    "len(B2)\n",
    "\n",
    "len(L)\n",
    "len(Byte_a)"
   ]
  },
  {
   "cell_type": "code",
   "execution_count": null,
   "id": "bdea96dc-73a4-4c81-8b07-ed1358afd547",
   "metadata": {},
   "outputs": [],
   "source": [
    "ord(S[0])\n",
    "chr(1)\n",
    "str.encode(S)\n",
    "bytes.decode(b'String')"
   ]
  },
  {
   "cell_type": "markdown",
   "id": "bed68774-3fc7-4dfd-b2a1-06bdcc6e3e41",
   "metadata": {},
   "source": [
    "Set types\n",
    "\n",
    "These represent unordered, finite sets of unique, immutable objects. As such, they cannot be indexed by any subscript. However, they can be iterated over, and the built-in function [`len()`](https://docs.python.org/3/library/functions.html#len) returns the number of items in a set. Common uses for sets are fast membership testing, removing duplicates from a sequence, and computing mathematical operations such as intersection, union, difference, and symmetric difference.\n",
    "\n",
    "For set elements, the same immutability rules apply as for dictionary keys. Note that numeric types obey the normal rules for numeric comparison: if two numbers compare equal (e.g., `1` and `1.0`), only one of them can be contained in a set.\n",
    "\n",
    "There are currently two intrinsic set types:\n",
    "\n",
    "- Sets\n",
    "\n",
    "  These represent a mutable set. They are created by the built-in [`set()`](https://docs.python.org/3/library/stdtypes.html#set) constructor and can be modified afterwards by several methods, such as `add()`.\n",
    "\n",
    "- Frozen sets\n",
    "\n",
    "  These represent an immutable set. They are created by the built-in [`frozenset()`](https://docs.python.org/3/library/stdtypes.html#frozenset) constructor. As a frozenset is immutable and [hashable](https://docs.python.org/3/glossary.html#term-hashable), it can be used again as an element of another set, or as a dictionary key.\n",
    "\n",
    "> Set types  集合类型\n",
    ">\n",
    "> 这些类型表示无序的、有限的、唯一的、不可变的对象的集合。因此，它们不能被任何下标所索引。然而，它们可以被迭代，内置函数 [`len()`](https://docs.python.org/3/library/functions.html#len) 返回一个集合中的项目数。集合的常见用途是快速成员测试，从序列中删除重复的内容，以及计算数学运算，如相交、联合、差异和对称性差异。\n",
    ">\n",
    "> 对于集合元素，适用于字典键的不变性规则。请注意，数字类型遵守正常的数字比较规则：如果两个数字比较相等（例如，`1` 和 `1.0`），其中只有一个可以包含在一个集合中。\n",
    ">\n",
    "> 目前有两种内在的集合类型：\n",
    ">\n",
    "> - Sets  集合\n",
    ">\n",
    ">   这些代表一个可变的集合。它们由内置的[`set()`](https://docs.python.org/3/library/stdtypes.html#set)构造函数创建，之后可以通过一些方法修改，比如`add()`。\n",
    ">\n",
    "> - Frozen sets  冻结的集合\n",
    ">\n",
    ">   这些代表一个不可变的集合。它们是由内置的 [`frozenset()`](https://docs.python.org/3/library/stdtypes.html#frozenset) 构造函数创建。由于 frozenset 是不可变的，并且 [hashable](https://docs.python.org/3/glossary.html#term-hashable)，它可以再次作为另一个集合的元素，或者作为一个字典的键来使用。"
   ]
  },
  {
   "cell_type": "code",
   "execution_count": null,
   "id": "cdaceca2-a58d-4adc-a29a-694c1d950b7e",
   "metadata": {},
   "outputs": [],
   "source": [
    "Set = set([1,3,4])\n",
    "Set\n",
    "\n",
    "Set.add(6)\n",
    "Set\n",
    "\n",
    "Set.add(3)\n",
    "Set"
   ]
  },
  {
   "cell_type": "code",
   "execution_count": null,
   "id": "9b1a4eeb-139b-44d0-987e-a5a38ae2a74e",
   "metadata": {},
   "outputs": [],
   "source": [
    "import math\n",
    "Set1 = set([x for x in range(1,10)])\n",
    "Set2 = set([x for x in range(5,15)])\n",
    "\n",
    "Set1\n",
    "Set2\n",
    "\n",
    "Set1 - Set2\n",
    "Set2 - Set1\n",
    "\n",
    "Set1.intersection(Set2)\n",
    "Set1.union(Set2)\n",
    "Set1.difference(Set2)    # 相当于 Set1 - Set2\n",
    "Set1.symmetric_difference(Set2)\n",
    "Set1.union(Set2) - Set1.intersection(Set2)    # 相当于 Set1.symmetric_difference(Set2)"
   ]
  },
  {
   "cell_type": "code",
   "execution_count": null,
   "id": "75846586-f727-4383-8d6c-8500814c3867",
   "metadata": {},
   "outputs": [],
   "source": [
    "Fset = frozenset([6,7,8])\n",
    "Fset\n",
    "\n",
    "# Fset.add(0)    # This will raise AttributeError"
   ]
  },
  {
   "cell_type": "markdown",
   "id": "bc597aec-459a-4f19-9b24-1da22888d28c",
   "metadata": {},
   "source": [
    "Mappings\n",
    "\n",
    "These represent finite sets of objects indexed by arbitrary index sets. The subscript notation `a[k]` selects the item indexed by `k` from the mapping `a`; this can be used in expressions and as the target of assignments or [`del`](https://docs.python.org/3/reference/simple_stmts.html#del) statements. The built-in function [`len()`](https://docs.python.org/3/library/functions.html#len) returns the number of items in a mapping.\n",
    "\n",
    "There is currently a single intrinsic mapping type:\n",
    "\n",
    "- Dictionaries\n",
    "\n",
    "  These represent finite sets of objects indexed by nearly arbitrary values. The only types of values not acceptable as keys are values containing lists or dictionaries or other mutable types that are compared by value rather than by object identity, the reason being that the efficient implementation of dictionaries requires a key’s hash value to remain constant. Numeric types used for keys obey the normal rules for numeric comparison: if two numbers compare equal (e.g., `1` and `1.0`) then they can be used interchangeably to index the same dictionary entry.\n",
    "\n",
    "  Dictionaries preserve insertion order, meaning that keys will be produced in the same order they were added sequentially over the dictionary. Replacing an existing key does not change the order, however removing a key and re-inserting it will add it to the end instead of keeping its old place.\n",
    "\n",
    "  Dictionaries are mutable; they can be created by the `{...}` notation (see section [Dictionary displays](https://docs.python.org/3/reference/expressions.html#dict)).\n",
    "\n",
    "  The extension modules [`dbm.ndbm`](https://docs.python.org/3/library/dbm.html#module-dbm.ndbm) and [`dbm.gnu`](https://docs.python.org/3/library/dbm.html#module-dbm.gnu) provide additional examples of mapping types, as does the [`collections`](https://docs.python.org/3/library/collections.html#module-collections) module.\n",
    "\n",
    "  *Changed in version 3.7:* Dictionaries did not preserve insertion order in versions of Python before 3.6. In CPython 3.6, insertion order was preserved, but it was considered an implementation detail at that time rather than a language guarantee.\n",
    "\n",
    "> Mappings  映射\n",
    ">\n",
    "> 这些表示由任意索引集索引的对象的有限集合。下标符号 `a[k]` 从映射 `a` 中选择以 `k` 为索引的项目；这可以在表达式中使用，并作为赋值或 [`del`](https://docs.python.org/3/reference/simple_stmts.html#del) 语句的目标。内置函数 [`len()`](https://docs.python.org/3/library/functions.html#len) 返回映射中项目的数量。\n",
    ">\n",
    "> 目前只有一种内在的映射类型：\n",
    ">\n",
    "> - Dictionaries  字典\n",
    ">\n",
    ">   这些表示由几乎任意的值来索引的有限的对象集。唯一不能作为键的值类型是包含列表或字典或其他可变类型的值，它们是通过值而不是对象身份进行比较的，原因是字典的有效实现要求键的哈希值保持不变。用于键的数字类型遵守数字比较的正常规则：如果两个数字比较相等（例如，`1` 和 `1.0`），那么它们可以互换地用于索引同一个字典条目。\n",
    ">\n",
    ">   字典保留了插入顺序，这意味着键将按照它们在字典中的依序添加的顺序产生。替换一个已有的键不会改变顺序，但是删除一个键并重新插入会把它加到最后，而不是保持它原来的位置。\n",
    ">\n",
    ">   字典是可变的；它们可以通过 `{...}` 符号来创建（见[字典显示](https://docs.python.org/3/reference/expressions.html#dict)一节）。\n",
    ">\n",
    ">   扩展模块 [`dbm.ndbm`](https://docs.python.org/3/library/dbm.html#module-dbm.ndbm) 和  [`dbm.gnu`](https://docs.python.org/3/library/dbm.html#module-dbm.gnu) 提供了更多的映射类型的例子，[`collections`](https://docs.python.org/3/library/collections.html#module-collections) 模块也是如此。 \n",
    ">\n",
    ">   *在3.7版本中有所改变：*在3.6之前的Python版本中，字典不保留插入顺序。在CPython 3.6中，插入顺序被保留了，但当时它被认为是一个实现细节，而不是一个语言保证。"
   ]
  },
  {
   "cell_type": "code",
   "execution_count": null,
   "id": "1b337ee7-dc38-4d4f-928b-ede3aa983704",
   "metadata": {},
   "outputs": [],
   "source": [
    "Dic = {...}\n",
    "Dic\n",
    "\n",
    "len(Dic)\n",
    "type(Dic)\n",
    "\n",
    "Dict = {'a': 12, 'date': 'June 7'}\n",
    "Dict\n",
    "\n",
    "len(Dict)\n",
    "type(Dict)"
   ]
  },
  {
   "cell_type": "code",
   "execution_count": null,
   "id": "5b9a2da3-82f8-420d-ab8e-e2420de36d2d",
   "metadata": {},
   "outputs": [],
   "source": [
    "Dict['a']"
   ]
  },
  {
   "cell_type": "markdown",
   "id": "754e7bbb-5c59-47ea-b5d7-f30d1cbcbe06",
   "metadata": {},
   "source": [
    "Callable types\n",
    "\n",
    "These are the types to which the function call operation (see section [Calls](https://docs.python.org/3/reference/expressions.html#calls)) can be applied:\n",
    "\n",
    "- User-defined functions\n",
    "\n",
    "  A user-defined function object is created by a function definition (see section [Function definitions](https://docs.python.org/3/reference/compound_stmts.html#function)). It should be called with an argument list containing the same number of items as the function’s formal parameter list.\n",
    "\n",
    "  Special attributes:\n",
    "\n",
    "> Callable types  可调用类型\n",
    ">\n",
    "> 这些是可以应用函数调用操作的类型（见[调用](https://docs.python.org/3/reference/expressions.html#calls)一节）。\n",
    ">\n",
    "> - User-defined functions  用户定义的函数\n",
    ">\n",
    ">   一个用户定义的函数对象是由一个函数定义创建的（见章节[函数定义](https://docs.python.org/3/reference/compound_stmts.html#function)）。它应该用一个参数列表来调用，该参数列表包含的项目数量与函数的正式参数列表相同。\n",
    ">\n",
    ">   特殊属性："
   ]
  },
  {
   "cell_type": "markdown",
   "id": "9fd60861-f148-47fa-bda8-64c2bcceab80",
   "metadata": {},
   "source": [
    "\n",
    "\n",
    "| Attribute                                                    | Meaning                                                      |           |\n",
    "| :----------------------------------------------------------- | :----------------------------------------------------------- | :-------- |\n",
    "| `__doc__`                                                    | The function’s documentation string, or `None` if unavailable; not inherited by subclasses.  该函数的文档字符串，如果不可用，则为`None`；不被子类继承。 | Writable  |\n",
    "| [`__name__`](https://docs.python.org/3/library/stdtypes.html#definition.__name__) | The function’s name.  函数的名称。                           | Writable  |\n",
    "| [`__qualname__`](https://docs.python.org/3/library/stdtypes.html#definition.__qualname__) | The function’s [qualified name](https://docs.python.org/3/glossary.html#term-qualified-name).*New in version 3.3.*  该函数的限定名称。*3.3版中的新内容*。 | Writable  |\n",
    "| `__module__`                                                 | The name of the module the function was defined in, or `None` if unavailable.  该函数定义所在的模块的名称，如果不可用，则为`None`。 | Writable  |\n",
    "| `__defaults__`                                               | A tuple containing default argument values for those arguments that have defaults, or `None` if no arguments have a default value.  一个元组，包含那些有默认值的参数的默认参数值，如果没有参数有默认值，则为`None`。 | Writable  |\n",
    "| `__code__`                                                   | The code object representing the compiled function body.  代表编译后的函数体的代码对象。 | Writable  |\n",
    "| `__globals__`                                                | A reference to the dictionary that holds the function’s global variables — the global namespace of the module in which the function was defined.  对保存函数全局变量的字典的引用--定义函数所在的模块的全局名称空间。 | Read-only |\n",
    "| [`__dict__`](https://docs.python.org/3/library/stdtypes.html#object.__dict__) | The namespace supporting arbitrary function attributes.  支持任意函数属性的名称空间。 | Writable  |\n",
    "| `__closure__`                                                | `None` or a tuple of cells that contain bindings for the function’s free variables. See below for information on the `cell_contents` attribute.  `None` 或者一个包含函数自由变量绑定的单元格的元组。关于`cell_contents`属性的信息，见下文。 | Read-only |\n",
    "| `__annotations__`                                            | A dict containing annotations of parameters. The keys of the dict are the parameter names, and `'return'` for the return annotation, if provided. For more information on working with this attribute, see [Annotations Best Practices](https://docs.python.org/3/howto/annotations.html#annotations-howto).  一个包含参数注释的dict。dict的键是参数名称，如果提供的话，`'return'` 返回注释。关于使用该属性的更多信息，请参见[注释的最佳实践](https://docs.python.org/3/howto/annotations.html#annotations-howto)。 | Writable  |\n",
    "| `__kwdefaults__`                                             | A dict containing defaults for keyword-only parameters.  一个包含仅有关键字参数的默认值的dict。 | Writable  |"
   ]
  },
  {
   "cell_type": "code",
   "execution_count": null,
   "id": "ef4a9848-e68c-4355-94e9-41cb2e6ba6b9",
   "metadata": {},
   "outputs": [],
   "source": [
    "def write_subtitle(filename):\n",
    "    \"\"\"import the re package.\"\"\"\n",
    "    import re\n",
    "\n",
    "    \"\"\"creat the re pattern\"\"\"\n",
    "    pattern = r'\\n[0-9]+\\n[0-9]{2}:[0-9]{2}:[0-9]{2},[0-9]{3} --> [0-9]{2}:[0-9]{2}:[0-9]{2},[0-9]{3}'\n",
    "\n",
    "    \"\"\"open file and read ite, than use re to re-write it.\"\"\"\n",
    "    with open(filename, 'r+', encoding=\"utf-8\") as f:\n",
    "        read_string = f.read()\n",
    "        re_string = re.sub(pattern, '', read_string)\n",
    "        new_string = re_string.replace(\"\\n\\n\", \" \").replace(\"\\n\", \" \")\n",
    "\n",
    "    \"\"\"create new file and filled with the \"new_string\" that re-writed above.\"\"\"\n",
    "    with open('new_' + filename, 'w', encoding=\"utf-8\") as f:\n",
    "        f.write(new_string)\n",
    "\n",
    "    return True"
   ]
  },
  {
   "cell_type": "code",
   "execution_count": null,
   "id": "4cc4401c-0281-4137-90cf-c9c8ca3c54f8",
   "metadata": {
    "tags": []
   },
   "outputs": [],
   "source": [
    "write_subtitle.__doc__\n",
    "\n",
    "write_subtitle.__name__\n",
    "\n",
    "write_subtitle.__qualname__\n",
    "\n",
    "write_subtitle.__module__\n",
    "\n",
    "print(write_subtitle.__defaults__)\n",
    "\n",
    "print(write_subtitle.__code__)\n",
    "\n",
    "# write_subtitle.__globals__\n",
    "\n",
    "write_subtitle.__dict__\n",
    "\n",
    "print(write_subtitle.__closure__)\n",
    "\n",
    "write_subtitle.__annotations__\n",
    "\n",
    "print(write_subtitle.__kwdefaults__)"
   ]
  },
  {
   "cell_type": "markdown",
   "id": "ccd686e3-a1e3-40ab-8f11-b2dae687cee0",
   "metadata": {},
   "source": [
    "Most of the attributes labelled “Writable” check the type of the assigned value.\n",
    "\n",
    "Function objects also support getting and setting arbitrary attributes, which can be used, for example, to attach metadata to functions. Regular attribute dot-notation is used to get and set such attributes. *Note that the current implementation only supports function attributes on user-defined functions. Function attributes on built-in functions may be supported in the future.*\n",
    "\n",
    "A cell object has the attribute `cell_contents`. This can be used to get the value of the cell, as well as set the value.\n",
    "\n",
    "Additional information about a function’s definition can be retrieved from its code object; see the description of internal types below. The [`cell`](https://docs.python.org/3/library/types.html#types.CellType) type can be accessed in the [`types`](https://docs.python.org/3/library/types.html#module-types) module.\n",
    "\n",
    "> 大多数标有 \"可写\" 的属性会检查所赋值的类型。\n",
    ">\n",
    "> 函数对象也支持获取和设置任意的属性，例如，可以用来给函数附加元数据。常规的属性点符号被用来获取和设置这种属性。*注意，目前的实现只支持用户定义的函数上的函数属性。未来可能会支持内置函数上的函数属性。*\n",
    ">\n",
    "> 一个单元格对象有一个属性 `cell_contents` 。这可以用来获取单元格的值，以及设置该值。\n",
    ">\n",
    "> 关于一个函数定义的其他信息可以从它的代码对象中获取；见下文对内部类型的描述。[`cell`](https://docs.python.org/3/library/types.html#types.CellType) 类型可以在[`types`](https://docs.python.org/3/library/types.html#module-types)模块中访问。"
   ]
  },
  {
   "cell_type": "markdown",
   "id": "770be36a-7117-49f4-a4bb-7a06aa725310",
   "metadata": {},
   "source": [
    "- Instance methods\n",
    "\n",
    "​\tAn instance method object combines a class, a class instance and any callable object (normally a user-defined function).\n",
    "\n",
    "​\tSpecial read-only attributes: `__self__` is the class instance object, `__func__` is the function object; `__doc__` is the method’s documentation (same as `__func__.__doc__`); [`__name__`](https://docs.python.org/3/library/stdtypes.html#definition.__name__) is the method name (same as `__func__.__name__`); `__module__` is the name of the module the method was defined in, or `None` if unavailable.\n",
    "\n",
    "​\tMethods also support accessing (but not setting) the arbitrary function attributes on the underlying function object.\n",
    "\n",
    "​\tUser-defined method objects may be created when getting an attribute of a class (perhaps via an instance of that class), if that attribute is a user-defined function object or a class method object.\n",
    "\n",
    "​\tWhen an instance method object is created by retrieving a user-defined function object from a class via one of its instances, its `__self__` attribute is the instance, and the method object is said to be bound. The new method’s `__func__` attribute is the original function object.\n",
    "\n",
    "​\tWhen an instance method object is created by retrieving a class method object from a class or instance, its `__self__` attribute is the class itself, and its `__func__` attribute is the function object underlying the class method.\n",
    "\n",
    "​\tWhen an instance method object is called, the underlying function (`__func__`) is called, inserting the class instance (`__self__`) in front of the argument list. For instance, when `C` is a class which contains a definition for a function `f()`, and `x` is an instance of `C`, calling `x.f(1)` is equivalent to calling `C.f(x, 1)`.\n",
    "\n",
    "​\tWhen an instance method object is derived from a class method object, the “class instance” stored in `__self__` will actually be the class itself, so that calling either `x.f(1)` or `C.f(1)` is equivalent to calling `f(C,1)` where `f` is the underlying function.\n",
    "\n",
    "​\tNote that the transformation from function object to instance method object happens each time the attribute is retrieved from the instance. In some cases, a fruitful optimization is to assign the attribute to a local variable and call that local variable. Also notice that this transformation only happens for user-defined functions; other callable objects (and all non-callable objects) are retrieved without transformation. It is also important to note that user-defined functions which are attributes of a class instance are not converted to bound methods; this *only* happens when the function is an attribute of the class.\n",
    "\n",
    "> - 实例方法\n",
    ">\n",
    ">   一个实例方法对象结合了一个类、一个类实例和任何可调用的对象（通常是用户定义的函数）。\n",
    ">\n",
    ">   特殊的只读属性: `__self__` 是类的实例对象，`__func__` 是函数对象；`__doc__` 是方法的文档（与`__func__.__doc__` 相同）；[`__name__`](https://docs.python.org/3/library/stdtypes.html#definition.__name__) 是方法的名称（与`__func__.__name__` 相同）；`__module__` 是方法定义所在的模块名称，如果不可用，则为 `None`。\n",
    ">\n",
    ">   方法也支持访问（但不是设置）底层函数对象上的任意函数属性。\n",
    ">\n",
    ">   当获得一个类的属性时（也许是通过该类的一个实例），如果该属性是一个用户定义的函数对象或一个类的方法对象，用户定义的方法对象可以被创建。\n",
    ">\n",
    ">   当通过一个类的一个实例获取用户定义的函数对象来创建一个实例方法对象时，它的 `__self__` 属性就是该实例，并且该方法对象被称为被绑定。新方法的 `__func__` 属性是原始函数对象。\n",
    ">\n",
    ">   当一个实例方法对象是通过从一个类或实例中获取一个类方法对象而创建的，它的 `__self__` 属性是类本身，而它的 `__func__` 属性是类方法的基础函数对象。\n",
    ">\n",
    ">   当一个实例方法对象被调用时，底层函数（`__func__`）被调用，在参数列表的前面插入类实例（`__self__`）。例如，当 `C` 是一个包含函数 `f()` 定义的类，而 `x` 是 `C` 的一个实例，调用 `x.f(1)` 相当于调用 `C.f(x, 1)`。\n",
    ">\n",
    ">   当一个实例方法对象从一个类方法对象派生出来时，存储在 `__self__` 中的 \"类实例\"实际上就是类本身，所以调用 `x.f(1)` 或 `C.f(1)` 都等同于调用 `f(C,1)`，其中 `f` 是底层函数。\n",
    ">\n",
    ">   请注意，从函数对象到实例方法对象的转换发生在每次从实例中检索属性的时候。在某些情况下，一个有效的优化是将属性分配给一个局部变量并调用该局部变量。还要注意的是，这种转换只发生在用户定义的函数上；其他可调用的对象（以及所有不可调用的对象）的检索是不需要转换的。同样重要的是要注意，作为类实例属性的用户定义的函数不会被转换为绑定方法；这*只*发生在函数是类的属性时。"
   ]
  },
  {
   "cell_type": "code",
   "execution_count": null,
   "id": "a0a686d3-c783-4ea2-8623-bd7e794c9d59",
   "metadata": {},
   "outputs": [],
   "source": [
    "class Cat():\n",
    "    name = 'Cat'\n",
    "    \n",
    "    def wow(self):\n",
    "        self.name = self.name\n",
    "        print('MoM')"
   ]
  },
  {
   "cell_type": "code",
   "execution_count": null,
   "id": "3b635629-49fc-4137-8403-58a846cd1818",
   "metadata": {},
   "outputs": [],
   "source": [
    "Ann = Cat()\n",
    "\n",
    "Ann.wow()\n",
    "Ann.name = 'Ann'\n",
    "\n",
    "Ann.name"
   ]
  },
  {
   "cell_type": "code",
   "execution_count": null,
   "id": "e8c59c25-535a-46b5-9a67-6badd5ca0881",
   "metadata": {},
   "outputs": [],
   "source": [
    "Cat.__module__"
   ]
  },
  {
   "cell_type": "markdown",
   "id": "7ef68d0a-a286-463c-9a53-f70dcf461d1b",
   "metadata": {},
   "source": [
    "- Generator functions\n",
    "\n",
    "  A function or method which uses the [`yield`](https://docs.python.org/3/reference/simple_stmts.html#yield) statement (see section [The yield statement](https://docs.python.org/3/reference/simple_stmts.html#yield)) is called a *generator function*. Such a function, when called, always returns an [iterator](https://docs.python.org/3/glossary.html#term-iterator) object which can be used to execute the body of the function: calling the iterator’s [`iterator.__next__()`](https://docs.python.org/3/library/stdtypes.html#iterator.__next__) method will cause the function to execute until it provides a value using the `yield` statement. When the function executes a [`return`](https://docs.python.org/3/reference/simple_stmts.html#return) statement or falls off the end, a [`StopIteration`](https://docs.python.org/3/library/exceptions.html#StopIteration) exception is raised and the iterator will have reached the end of the set of values to be returned.\n",
    "\n",
    "> - Generator functions  生成器函数\n",
    ">\n",
    ">   一个使用 [`yield`](https://docs.python.org/3/reference/simple_stmts.html#yield) 语句的函数或方法（见[yield语句](https://docs.python.org/3/reference/simple_stmts.html#yield)一节）被称为*生成器函数*。这样的函数在被调用时，总是返回一个[iterator](https://docs.python.org/3/glossary.html#term-iterator)对象，它可以用来执行函数的主体：调用iterator的 [`iterator.__next__()`](https://docs.python.org/3/library/stdtypes.html#iterator.__next__) 方法将使函数执行，直到它使用 `yield` 语句提供一个值。当函数执行 [`return`](https://docs.python.org/3/reference/simple_stmts.html#return) 语句或掉头时，会产生一个[`StopIteration`](https://docs.python.org/3/library/exceptions.html#StopIteration) 异常，迭代器将到达要返回的值集的末端。"
   ]
  },
  {
   "cell_type": "markdown",
   "id": "3cffd153-de78-428e-ac7f-6e5ac86a36f1",
   "metadata": {},
   "source": [
    "- Coroutine functions\n",
    "\n",
    "  A function or method which is defined using [`async def`](https://docs.python.org/3/reference/compound_stmts.html#async-def) is called a *coroutine function*. Such a function, when called, returns a [coroutine](https://docs.python.org/3/glossary.html#term-coroutine) object. It may contain [`await`](https://docs.python.org/3/reference/expressions.html#await) expressions, as well as [`async with`](https://docs.python.org/3/reference/compound_stmts.html#async-with) and [`async for`](https://docs.python.org/3/reference/compound_stmts.html#async-for) statements. See also the [Coroutine Objects](https://docs.python.org/3/reference/datamodel.html#coroutine-objects) section.\n",
    "\n",
    "> - 轮回函数\n",
    ">\n",
    ">   一个使用 [`async def`](https://docs.python.org/3/reference/compound_stmts.html#async-def) 定义的函数或方法被称为*coroutine函数*。这样的函数，当被调用时，返回一个[coroutine](https://docs.python.org/3/glossary.html#term-coroutine) 对象。它可以包含 [`await`](https://docs.python.org/3/reference/expressions.html#await) 表达式，以及 [`async with`](https://docs.python.org/3/reference/compound_stmts.html#async-with) 和 [`async for`](https://docs.python.org/3/reference/compound_stmts.html#async-for) 语句。也请参见[Coroutine Objects](https://docs.python.org/3/reference/datamodel.html#coroutine-objects)部分。"
   ]
  },
  {
   "cell_type": "markdown",
   "id": "439466b7-59da-4599-99ad-ae660a76d9d0",
   "metadata": {},
   "source": [
    "- Asynchronous generator functions\n",
    "\n",
    "  A function or method which is defined using [`async def`](https://docs.python.org/3/reference/compound_stmts.html#async-def) and which uses the [`yield`](https://docs.python.org/3/reference/simple_stmts.html#yield) statement is called a *asynchronous generator function*. Such a function, when called, returns an [asynchronous iterator](https://docs.python.org/3/glossary.html#term-asynchronous-iterator) object which can be used in an [`async for`](https://docs.python.org/3/reference/compound_stmts.html#async-for) statement to execute the body of the function.\n",
    "\n",
    "  Calling the asynchronous iterator’s [`aiterator.__anext__`](https://docs.python.org/3/reference/datamodel.html#object.__anext__) method will return an [awaitable](https://docs.python.org/3/glossary.html#term-awaitable) which when awaited will execute until it provides a value using the [`yield`](https://docs.python.org/3/reference/simple_stmts.html#yield) expression. When the function executes an empty [`return`](https://docs.python.org/3/reference/simple_stmts.html#return) statement or falls off the end, a [`StopAsyncIteration`](https://docs.python.org/3/library/exceptions.html#StopAsyncIteration) exception is raised and the asynchronous iterator will have reached the end of the set of values to be yielded.\n",
    "\n",
    "> - Asynchronous generator functions  异步生成器函数\n",
    ">\n",
    ">   使用[`async def`](https://docs.python.org/3/reference/compound_stmts.html#async-def)定义并使用[`yield`](https://docs.python.org/3/reference/simple_stmts.html#yield)语句的函数或方法被称为*异步生成器函数*。这样的函数在被调用时，会返回一个[异步迭代器](https://docs.python.org/3/glossary.html#term-asynchronous-iterator)对象，可以在[`async for`](https://docs.python.org/3/reference/compound_stmts.html#async-for)语句中使用，以执行函数的主体。\n",
    ">\n",
    ">   调用异步迭代器的[`aiterator.__anext__`](https://docs.python.org/3/reference/datamodel.html#object.__anext__)方法将返回一个[awarditable](https://docs.python.org/3/glossary.html#term-awaitable)，当等待时将执行，直到使用[`yield`](https://docs.python.org/3/reference/simple_stmts.html#yield)表达式提供一个值。当函数执行一个空的[`return`](https://docs.python.org/3/reference/simple_stmts.html#return)语句或掉到末端时，会产生一个[`StopAsyncIteration`](https://docs.python.org/3/library/exceptions.html#StopAsyncIteration)异常，异步迭代器将达到要产生的值的集合的末端。"
   ]
  },
  {
   "cell_type": "markdown",
   "id": "98a1d557-dd82-471f-a94c-3fa528955f4d",
   "metadata": {},
   "source": [
    "- Built-in functions\n",
    "\n",
    "  A built-in function object is a wrapper around a C function. Examples of built-in functions are [`len()`](https://docs.python.org/3/library/functions.html#len) and [`math.sin()`](https://docs.python.org/3/library/math.html#math.sin) ([`math`](https://docs.python.org/3/library/math.html#module-math) is a standard built-in module). The number and type of the arguments are determined by the C function. Special read-only attributes: `__doc__` is the function’s documentation string, or `None` if unavailable; [`__name__`](https://docs.python.org/3/library/stdtypes.html#definition.__name__) is the function’s name; `__self__` is set to `None` (but see the next item); `__module__` is the name of the module the function was defined in or `None` if unavailable.\n",
    "\n",
    "> - Built-in functions  内置函数\n",
    ">\n",
    ">   内建函数对象是对C函数的一种包装。内置函数的例子有 [`len()`](https://docs.python.org/3/library/functions.html#len) 和 [`math.sin()`](https://docs.python.org/3/library/math.html#math.sin) （[`math`](https://docs.python.org/3/library/math.html#module-math) 是一个标准的内置模块）。参数的数量和类型由C函数决定。特殊的只读属性： `__doc__`是函数的文档字符串，如果不可用则为`None`；[`__name__`](https://docs.python.org/3/library/stdtypes.html#definition.__name__)是函数的名称；`__self__`被设置为`None`（但见下一项）；`__module__`是函数定义所在的模块的名称，如果不可用则为`None`。"
   ]
  },
  {
   "cell_type": "code",
   "execution_count": null,
   "id": "bb6b1347-29e7-41af-8c58-5ba326485dc7",
   "metadata": {},
   "outputs": [],
   "source": [
    "import math\n",
    "\n",
    "math.sin(1)\n",
    "len([])\n",
    "\n",
    "math.sin.__doc__\n",
    "math.sin.__name__\n",
    "math.sin.__self__\n",
    "math.sin.__module__"
   ]
  },
  {
   "cell_type": "markdown",
   "id": "16a34b6b-d70f-40c8-8257-853619797ffa",
   "metadata": {},
   "source": [
    "- Built-in methods\n",
    "\n",
    "  This is really a different disguise of a built-in function, this time containing an object passed to the C function as an implicit extra argument. An example of a built-in method is `alist.append()`, assuming *alist* is a list object. In this case, the special read-only attribute `__self__` is set to the object denoted by *alist*.\n",
    "\n",
    "> - Built-in methods  内置方法\n",
    ">\n",
    ">   这实际上是内置函数的不同伪装，这次包含了一个作为隐含的额外参数传递给 C 函数的对象。一个内置方法的例子是 `alist.append()`, 假设 *alist* 是一个 list 对象。在这种情况下，特殊的只读属性 `__self__` 被设置为由 *alist* 表示的对象。"
   ]
  },
  {
   "cell_type": "code",
   "execution_count": null,
   "id": "958a0638-188e-454c-9a4d-36501a867a61",
   "metadata": {},
   "outputs": [],
   "source": [
    "alist = [x**2 for x in range(1, 10) ]\n",
    "\n",
    "alist.append(10**2)\n",
    "alist\n",
    "alist.append.__self__"
   ]
  },
  {
   "cell_type": "markdown",
   "id": "c01d57d4-222e-4c97-bd5c-e4b46797c06d",
   "metadata": {},
   "source": [
    "- Classes\n",
    "\n",
    "  Classes are callable. These objects normally act as factories for new instances of themselves, but variations are possible for class types that override [`__new__()`](https://docs.python.org/3/reference/datamodel.html#object.__new__). The arguments of the call are passed to `__new__()` and, in the typical case, to [`__init__()`](https://docs.python.org/3/reference/datamodel.html#object.__init__) to initialize the new instance.\n",
    "\n",
    "> - Classes  类\n",
    ">\n",
    ">   类是可调用的。这些对象通常作为自己的新实例的工厂，但对于覆盖了 [`__new__()`](https://docs.python.org/3/reference/datamodel.html#object.__new__) 的类类型来说，也有可能发生变化。调用的参数被传递给 `__new__()`，在典型的情况下，传递给 [`__init__()`](https://docs.python.org/3/reference/datamodel.html#object.__init__) 以初始化新的实例。"
   ]
  },
  {
   "cell_type": "markdown",
   "id": "526e24db-9e36-458b-bed7-d01d1787f742",
   "metadata": {},
   "source": [
    "- Class Instances\n",
    "\n",
    "  Instances of arbitrary classes can be made callable by defining a [`__call__()`](https://docs.python.org/3/reference/datamodel.html#object.__call__) method in their class.\n",
    "\n",
    "> - 类实例\n",
    ">\n",
    ">   任意类的实例可以通过在其类中定义一个 [`__call__()`](https://docs.python.org/3/reference/datamodel.html#object.__call__) 方法来实现可调用。"
   ]
  },
  {
   "cell_type": "markdown",
   "id": "29617658-30fe-4768-8429-4c51ea20aee0",
   "metadata": {},
   "source": [
    "Modules\n",
    "\n",
    "Modules are a basic organizational unit of Python code, and are created by the [import system](https://docs.python.org/3/reference/import.html#importsystem) as invoked      either by the [`import`](https://docs.python.org/3/reference/simple_stmts.html#import) statement, or by calling functions such as [`importlib.import_module()`](https://docs.python.org/3/library/importlib.html#importlib.import_module) and built-in [`__import__()`](https://docs.python.org/3/library/functions.html#import__). A module object has a namespace implemented by a dictionary object (this is the dictionary referenced by the `__globals__` attribute of functions defined in the module). Attribute references are translated to lookups in this dictionary, e.g., `m.x` is equivalent to `m.__dict__[\"x\"]`. A module object does not contain the code object used to initialize the module (since it isn’t needed once the initialization is done).\n",
    "\n",
    "Attribute assignment updates the module’s namespace dictionary, e.g., `m.x = 1` is equivalent to `m.__dict__[\"x\"] = 1`.\n",
    "\n",
    "Predefined (writable) attributes:\n",
    "\n",
    "> - [`__name__`](https://docs.python.org/3/reference/import.html#name__)\n",
    ">\n",
    ">   The module’s name.\n",
    ">\n",
    "> - `__doc__`\n",
    ">\n",
    ">   The module’s documentation string, or `None` if unavailable.\n",
    ">\n",
    "> - [`__file__`](https://docs.python.org/3/reference/import.html#file__)\n",
    ">\n",
    ">   The pathname of the file from which the module was loaded, if it was loaded from a file. The [`__file__`](https://docs.python.org/3/reference/import.html#file__) attribute may be missing for certain types of modules, such as C modules that are statically linked into the interpreter. For extension modules loaded dynamically from a shared library, it’s the pathname of the shared library file.\n",
    ">\n",
    "> - `__annotations__`\n",
    ">\n",
    ">   A dictionary containing [variable annotations](https://docs.python.org/3/glossary.html#term-variable-annotation) collected during module body execution. For best practices on working with `__annotations__`, please see [Annotations Best Practices](https://docs.python.org/3/howto/annotations.html#annotations-howto).\n",
    "\n",
    "Special read-only attribute: [`__dict__`](https://docs.python.org/3/library/stdtypes.html#object.__dict__) is the module’s namespace as a dictionary object.\n",
    "\n",
    "**CPython implementation detail:** Because of the way CPython clears module dictionaries, the module dictionary will be cleared when the module falls out of scope even if the dictionary still has live references. To avoid this, copy the dictionary or keep the module around while using its dictionary directly.\n",
    "\n",
    "> Modules  模块\n",
    ">\n",
    "> 模块是 Python 代码的基本组织单位，由 [import system](https://docs.python.org/3/reference/import.html#importsystem) 创建，可以通过 [`import`](https://docs.python.org/3/reference/simple_stmts.html#import) 语句调用，也可以通过调用 [`importlib.import_module()`](https://docs.python.org/3/library/importlib.html#importlib.import_module) 和内置 [`__import__()`](https://docs.python.org/3/library/functions.html#import__) 等函数。一个模块对象有一个由字典对象实现的名称空间（这是由模块中定义的函数的 `__globals__` 属性所引用的字典）。属性引用被翻译成这个字典中的查找，例如，`m.x` 相当于 `m.__dict__[\"x\"]`。一个模块对象不包含用于初始化模块的代码对象（因为一旦初始化完成就不需要它了）。\n",
    ">\n",
    "> 属性赋值更新模块的名称空间字典，例如，`m.x = 1`相当于`m.__dict__[\"x\"] = 1`。\n",
    ">\n",
    "> 预定义的（可写的）属性：\n",
    ">\n",
    "> > - [`__name__`](https://docs.python.org/3/reference/import.html#name__)\n",
    "> >\n",
    "> >   模块的名称。\n",
    "> >\n",
    "> > - `__doc__`\n",
    "> >\n",
    "> >   模块的文档字符串，如果不可用，则为`None`。\n",
    "> >\n",
    "> > - [`__file__`](https://docs.python.org/3/reference/import.html#file__)\n",
    "> >\n",
    "> >   如果模块是从一个文件中加载的，则为该文件的路径名。[`__file__`](https://docs.python.org/3/reference/import.html#file__)属性对于某些类型的模块可能是缺失的，例如静态链接到解释器的C模块。对于从共享库动态加载的扩展模块，它是共享库文件的路径名。\n",
    "> >\n",
    "> > - `__annotations__`。\n",
    "> >\n",
    "> >   一个包含在模块主体执行过程中收集的[变量注释](https://docs.python.org/3/glossary.html#term-variable-annotation)的字典。关于使用`__annotations__`的最佳实践，请看 [Annotations Best Practices](https://docs.python.org/3/howto/annotations.html#annotations-howto)。\n",
    ">\n",
    "> 特殊的只读属性：[`__dict__`](https://docs.python.org/3/library/stdtypes.html#object.__dict__) 是模块的名称空间，是一个字典对象。\n",
    ">\n",
    "> **CPython的实现细节：**由于CPython清除模块字典的方式，当模块掉出范围时，模块字典将被清除，即使字典中仍有活的引用。为了避免这种情况，在直接使用模块的字典时，可以复制该字典或将模块留在周围。"
   ]
  },
  {
   "cell_type": "code",
   "execution_count": null,
   "id": "3811d71e-d40a-4c7a-af5c-902998fdc829",
   "metadata": {
    "tags": []
   },
   "outputs": [],
   "source": [
    "math.__name__\n",
    "math.__doc__\n",
    "math.__annotations__\n",
    "math.__dict__\n",
    "\n",
    "import write_subtitle\n",
    "write_subtitle.__file__\n",
    "write_subtitle.__annotations__\n",
    "write_subtitle.__dict__"
   ]
  },
  {
   "cell_type": "code",
   "execution_count": null,
   "id": "8f04a615-2bd0-4e30-85b9-b98c654b370d",
   "metadata": {},
   "outputs": [],
   "source": [
    "math.__dict__[\"sin\"](1)    # 相当于调用 math.sin(1)\n",
    "math.sin(1)"
   ]
  },
  {
   "cell_type": "markdown",
   "id": "ef9e38e8-14fd-455d-b80e-e0f6e71b90e5",
   "metadata": {},
   "source": [
    "Custom classes\n",
    "\n",
    "Custom class types are typically created by class definitions (see section [Class definitions](https://docs.python.org/3/reference/compound_stmts.html#class)). A class has a namespace implemented by a dictionary object. Class attribute references are translated to lookups in this dictionary, e.g., `C.x` is translated to `C.__dict__[\"x\"]` (although there are a number of hooks which allow for other means of locating attributes). When the attribute name is not found there, the attribute search continues in the base classes. This search of the base classes uses the C3 method resolution order which behaves correctly even in the presence of ‘diamond’ inheritance structures where there are multiple inheritance paths leading back to a common ancestor. Additional details on the C3 MRO used by Python can be found in the documentation accompanying the 2.3 release at https://www.python.org/download/releases/2.3/mro/.\n",
    "\n",
    "When a class attribute reference (for class `C`, say) would yield a class method object, it is transformed into an instance method object whose `__self__` attribute is `C`. When it would yield a static method object, it is transformed into the object wrapped by the static method object. See section [Implementing Descriptors](https://docs.python.org/3/reference/datamodel.html#descriptors) for another way in which attributes retrieved from a class may differ from those actually contained in its [`__dict__`](https://docs.python.org/3/library/stdtypes.html#object.__dict__).\n",
    "\n",
    "Class attribute assignments update the class’s dictionary, never the dictionary of a base class.\n",
    "\n",
    "A class object can be called (see above) to yield a class instance (see below).\n",
    "\n",
    "Special attributes:\n",
    "\n",
    "> - [`__name__`](https://docs.python.org/3/library/stdtypes.html#definition.__name__)\n",
    ">\n",
    ">   The class name.\n",
    ">\n",
    "> - `__module__`\n",
    ">\n",
    ">   The name of the module in which the class was defined.\n",
    ">\n",
    "> - [`__dict__`](https://docs.python.org/3/library/stdtypes.html#object.__dict__)\n",
    ">\n",
    ">   The dictionary containing the class’s namespace.\n",
    ">\n",
    "> - [`__bases__`](https://docs.python.org/3/library/stdtypes.html#class.__bases__)\n",
    ">\n",
    ">   A tuple containing the base classes, in the order of their occurrence in the base class list.\n",
    ">\n",
    "> - `__doc__`\n",
    ">\n",
    ">   The class’s documentation string, or `None` if undefined.\n",
    ">\n",
    "> - `__annotations__`\n",
    ">\n",
    ">   A dictionary containing [variable annotations](https://docs.python.org/3/glossary.html#term-variable-annotation) collected during class body execution. For best practices on working with `__annotations__`, please see [Annotations Best Practices](https://docs.python.org/3/howto/annotations.html#annotations-howto).\n",
    "\n",
    "> Custom classes  自定义类\n",
    ">\n",
    "> 自定义类的类型通常由类的定义来创建（见[类的定义](https://docs.python.org/3/reference/compound_stmts.html#class)一节）。一个类有一个由字典对象实现的名称空间。类的属性引用被翻译成在这个字典中的查询，例如，`C.x`被翻译成 `C.__dict__[\"x\"]`（尽管有一些钩子允许用其他方式定位属性）。当属性名称在这里没有找到时，属性搜索继续在基类中进行。对基类的搜索使用了C3的方法解析顺序，即使在存在 \"钻石\"继承结构的情况下，即有多个继承路径回到一个共同的类祖先的情况下，它也能正确地表现出来。关于Python使用的C3 MRO的更多细节，可以在2.3版本的随附文档中找到：https://www.python.org/download/releases/2.3/mro/。\n",
    ">\n",
    "> 当一个类的属性引用 (比如说 `C` 类) 会产生一个类的方法对象时，它被转化为一个实例方法对象，其`__self__`属性为 `C`。当它将产生一个静态方法对象时，它将被转化为被静态方法对象包裹的对象。参见[实现描述符](https://docs.python.org/3/reference/datamodel.html#descriptors)一节，了解从一个类中获取的属性可能与它的[`__dict__`](https://docs.python.org/3/library/stdtypes.html#object.__dict__)中实际包含的属性不同的另一种方式。\n",
    ">\n",
    "> 类的属性赋值会更新类的字典，而不是基类的字典。\n",
    ">\n",
    "> 一个类的对象可以被调用（见上文）来产生一个类的实例（见下文）。\n",
    ">\n",
    "> 特殊属性：\n",
    ">\n",
    "> > - [`__name__`](https://docs.python.org/3/library/stdtypes.html#definition.__name__)\n",
    "> >\n",
    "> >   类的名称。\n",
    "> >\n",
    "> > - `__module__`\n",
    "> >\n",
    "> >   该类定义所在的模块的名称。\n",
    "> >\n",
    "> > - [`__dict__`](https://docs.python.org/3/library/stdtypes.html#object.__dict__)\n",
    "> >\n",
    "> >   包含该类名称空间的字典。\n",
    "> >\n",
    "> > - [`__bases__`](https://docs.python.org/3/library/stdtypes.html#class.__bases__)\n",
    "> >\n",
    "> >   一个包含基类的元组，按照它们在基类列表中出现的顺序。\n",
    "> >\n",
    "> > - `__doc__`\n",
    "> >\n",
    "> >   该类的文档字符串，如果没有定义，则为`None`。\n",
    "> >\n",
    "> > - `__annotations__`。\n",
    "> >\n",
    "> >   一个包含在类主体执行过程中收集的[变量注释](https://docs.python.org/3/glossary.html#term-variable-annotation)的字典。关于使用`__annotations__`的最佳实践，请看 [Annotations Best Practices](https://docs.python.org/3/howto/annotations.html#annotations-howto)"
   ]
  },
  {
   "cell_type": "code",
   "execution_count": 7,
   "id": "646d13b7-3c45-46d3-babf-2490d16563e0",
   "metadata": {},
   "outputs": [],
   "source": [
    "class Cat():\n",
    "    name = 'Cat'\n",
    "    \n",
    "    def wow(self):\n",
    "        self.name = self.name\n",
    "        print('MoM')"
   ]
  },
  {
   "cell_type": "code",
   "execution_count": 8,
   "id": "70169fe6-8388-4633-babf-d8f94836fa1e",
   "metadata": {},
   "outputs": [
    {
     "data": {
      "text/plain": [
       "'Cat'"
      ]
     },
     "execution_count": 8,
     "metadata": {},
     "output_type": "execute_result"
    },
    {
     "name": "stdout",
     "output_type": "stream",
     "text": [
      "MoM\n"
     ]
    },
    {
     "data": {
      "text/plain": [
       "{'name': 'Cat'}"
      ]
     },
     "execution_count": 8,
     "metadata": {},
     "output_type": "execute_result"
    },
    {
     "data": {
      "text/plain": [
       "mappingproxy({'__module__': '__main__',\n",
       "              'name': 'Cat',\n",
       "              'wow': <function __main__.Cat.wow(self)>,\n",
       "              '__dict__': <attribute '__dict__' of 'Cat' objects>,\n",
       "              '__weakref__': <attribute '__weakref__' of 'Cat' objects>,\n",
       "              '__doc__': None})"
      ]
     },
     "execution_count": 8,
     "metadata": {},
     "output_type": "execute_result"
    },
    {
     "data": {
      "text/plain": [
       "'__main__'"
      ]
     },
     "execution_count": 8,
     "metadata": {},
     "output_type": "execute_result"
    },
    {
     "data": {
      "text/plain": [
       "'Cat'"
      ]
     },
     "execution_count": 8,
     "metadata": {},
     "output_type": "execute_result"
    },
    {
     "data": {
      "text/plain": [
       "(object,)"
      ]
     },
     "execution_count": 8,
     "metadata": {},
     "output_type": "execute_result"
    },
    {
     "data": {
      "text/plain": [
       "{}"
      ]
     },
     "execution_count": 8,
     "metadata": {},
     "output_type": "execute_result"
    }
   ],
   "source": [
    "Ann = Cat()\n",
    "\n",
    "Ann.name\n",
    "Ann.wow()\n",
    "Ann.__dict__\n",
    "\n",
    "Cat.__dict__\n",
    "Cat.__module__\n",
    "Cat.__name__\n",
    "Cat.__bases__\n",
    "Cat.__annotations__"
   ]
  },
  {
   "cell_type": "markdown",
   "id": "ecd51078-9340-4072-9870-27e625e76862",
   "metadata": {},
   "source": [
    "Class instances\n",
    "\n",
    "A class instance is created by calling a class object (see above). A class instance has a namespace implemented as a dictionary which is the first place in which attribute references are searched. When an attribute is not found there, and the instance’s class has an attribute by that name, the search continues with the class attributes. If a class attribute is found that is a user-defined function object, it is transformed into an instance method object whose `__self__` attribute is the instance. Static method and class method objects are also transformed; see above under “Classes”. See section [Implementing Descriptors](https://docs.python.org/3/reference/datamodel.html#descriptors) for another way in which attributes of a class retrieved via its instances may differ from the objects actually stored in the class’s [`__dict__`](https://docs.python.org/3/library/stdtypes.html#object.__dict__). If no class attribute is found, and the object’s class has a [`__getattr__()`](https://docs.python.org/3/reference/datamodel.html#object.__getattr__) method, that is called to satisfy the lookup.\n",
    "\n",
    "Attribute assignments and deletions update the instance’s dictionary, never a class’s dictionary. If the class has a [`__setattr__()`](https://docs.python.org/3/reference/datamodel.html#object.__setattr__) or [`__delattr__()`](https://docs.python.org/3/reference/datamodel.html#object.__delattr__) method, this is called instead of updating the instance dictionary directly.\n",
    "\n",
    "Class instances can pretend to be numbers, sequences, or mappings if they have methods with certain special names. See section [Special method names](https://docs.python.org/3/reference/datamodel.html#specialnames).\n",
    "\n",
    "Special attributes: [`__dict__`](https://docs.python.org/3/library/stdtypes.html#object.__dict__) is the attribute dictionary; [`__class__`](https://docs.python.org/3/library/stdtypes.html#instance.__class__) is the instance’s class.\n",
    "\n",
    "> Class instances  类实例\n",
    ">\n",
    "> 一个类实例是通过调用一个类对象（见上文）来创建的。一个类实例有一个作为字典实现的名称空间，它是搜索属性引用的第一个地方。当一个属性在这里没有找到，而实例的类有一个该名称的属性时，就继续在类的属性中搜索。如果发现一个类的属性是一个用户定义的函数对象，它将被转化为一个实例方法对象，其`__self__`属性就是该实例。静态方法和类方法对象也会被转换；见上面的 \"Classes\"。参见[实现描述符](https://docs.python.org/3/reference/datamodel.html#descriptors)一节，了解另一种方式，即通过实例检索的类的属性可能与实际存储在类的 [`__dict__`](https://docs.python.org/3/library/stdtypes.html#object.__dict__) 中的对象不同。如果没有找到类的属性，而对象的类有一个 [`__getattr__()`](https://docs.python.org/3/reference/datamodel.html#object.__getattr__) 方法，这个方法会被调用以满足查询的需要。\n",
    ">\n",
    "> 属性的赋值和删除会更新实例的字典，而不是类的字典。如果类有一个 [`__setattr__()`](https://docs.python.org/3/reference/datamodel.html#object.__setattr__) 或 [`__delattr__()`](https://docs.python.org/3/reference/datamodel.html#object.__delattr__) 方法，这将被调用而不是直接更新实例的字典。\n",
    ">\n",
    "> 如果类的实例具有某些特殊名称的方法，它们可以假装是数字、序列或映射。参见 [特殊方法名称](https://docs.python.org/3/reference/datamodel.html#specialnames)一节。\n",
    ">\n",
    "> 特殊属性：[`__dict__`](https://docs.python.org/3/library/stdtypes.html#object.__dict__) 是属性字典； [`__class__`](https://docs.python.org/3/library/stdtypes.html#instance.__class__) 是实例的类别。"
   ]
  },
  {
   "cell_type": "markdown",
   "id": "023a15ba-766e-4525-9c88-998d57dcc751",
   "metadata": {},
   "source": [
    "I/O objects (also known as file objects)\n",
    "\n",
    "A [file object](https://docs.python.org/3/glossary.html#term-file-object) represents an open file. Various shortcuts are available to create file objects: the [`open()`](https://docs.python.org/3/library/functions.html#open) built-in function, and also [`os.popen()`](https://docs.python.org/3/library/os.html#os.popen), [`os.fdopen()`](https://docs.python.org/3/library/os.html#os.fdopen), and the [`makefile()`](https://docs.python.org/3/library/socket.html#socket.socket.makefile) method of socket objects (and perhaps by other functions or methods provided by extension modules).\n",
    "\n",
    "The objects `sys.stdin`, `sys.stdout` and `sys.stderr` are initialized to file objects corresponding to the interpreter’s standard input, output and error streams; they are all open in text mode and therefore follow the interface defined by the [`io.TextIOBase`](https://docs.python.org/3/library/io.html#io.TextIOBase) abstract class.\n",
    "\n",
    "> I/O对象(也称为文件对象)\n",
    ">\n",
    "> 一个[文件对象](https://docs.python.org/3/glossary.html#term-file-object)代表一个打开的文件。有各种捷径可以创建文件对象：[`open()`](https://docs.python.org/3/library/functions.html#open)内置函数，还有  [`os.popen()`](https://docs.python.org/3/library/os.html#os.popen)、[`os.fdopen()`](https://docs.python.org/3/library/os.html#os.fdopen)和socket对象的[`makefile()`](https://docs.python.org/3/library/socket.html#socket.socket.makefile) 方法（也许还有扩展模块提供的其他函数或方法）。\n",
    ">\n",
    "> 对象 `sys.stdin`、`sys.stdout` 和 `sys.stderr` 被初始化为文件对象，对应于解释器的标准输入、输出和错误流；它们都以文本模式打开，因此遵循 [`io.TextIOBase`](https://docs.python.org/3/library/io.html#io.TextIOBase) 抽象类所定义的接口。"
   ]
  },
  {
   "cell_type": "markdown",
   "id": "2e54b1d1-40c1-4ab1-b3c7-7d69e9c3a0ee",
   "metadata": {},
   "source": [
    "Internal types\n",
    "\n",
    "A few types used internally by the interpreter are exposed to the user. Their definitions may change with future versions of the interpreter, but they are mentioned here for completeness.\n",
    "\n",
    "> Internal types  内部类型\n",
    ">\n",
    "> 解释器内部使用的一些类型被暴露给用户。它们的定义可能会随着解释器的未来版本而改变，但为了完整起见，我们在这里提到它们。"
   ]
  },
  {
   "cell_type": "markdown",
   "id": "66c74925-25c5-40a2-b154-ac3293a66dda",
   "metadata": {},
   "source": [
    "- Code objects\n",
    "\n",
    "  Code objects represent *byte-compiled* executable Python code, or [bytecode](https://docs.python.org/3/glossary.html#term-bytecode). The difference between a code object and a function object is that the function object contains an explicit reference to the function’s globals (the module in which it was defined), while a code object contains no context; also the default argument values are stored in the function object, not in the code object (because they represent values calculated at run-time). Unlike function objects, code objects are immutable and contain no references (directly or indirectly) to mutable objects.\n",
    "\n",
    "  Special read-only attributes: `co_name` gives the function name; `co_argcount` is the total number of positional arguments (including positional-only arguments and arguments with default values); `co_posonlyargcount` is the number of positional-only arguments (including arguments with default values); `co_kwonlyargcount` is the number of keyword-only arguments (including arguments with default values); `co_nlocals` is the number of local variables used by the function (including arguments); `co_varnames` is a tuple containing the names of the local variables (starting with the argument names); `co_cellvars` is a tuple containing the names of local variables that are referenced by nested functions; `co_freevars` is a tuple containing the names of free variables; `co_code` is a string representing the sequence of bytecode instructions; `co_consts` is a tuple containing the literals used by the bytecode; `co_names` is a tuple containing the names used by the bytecode; `co_filename` is the filename from which the code was compiled; `co_firstlineno` is the first line number of the function; `co_lnotab` is a string encoding the mapping from bytecode offsets to line numbers (for details see the source code of the interpreter); `co_stacksize` is the required stack size; `co_flags` is an integer encoding a number of flags for the interpreter.\n",
    "\n",
    "  The following flag bits are defined for `co_flags`: bit `0x04` is set if the function uses the `*arguments` syntax to accept an arbitrary number of positional arguments; bit `0x08` is set if the function uses the `**keywords` syntax to accept arbitrary keyword arguments; bit `0x20` is set if the function is a generator.\n",
    "\n",
    "  Future feature declarations (`from __future__ import division`) also use bits in `co_flags` to indicate whether a code object was compiled with a particular feature enabled: bit `0x2000` is set if the function was compiled with future division enabled; bits `0x10` and `0x1000` were used in earlier versions of Python.\n",
    "\n",
    "  Other bits in `co_flags` are reserved for internal use.\n",
    "\n",
    "  If a code object represents a function, the first item in `co_consts` is the documentation string of the function, or `None` if undefined.\n",
    "\n",
    "> - Code objects  代码对象\n",
    ">\n",
    ">   代码对象表示*字节编译的*可执行Python代码，或[字节码](https://docs.python.org/3/glossary.html#term-bytecode)。代码对象和函数对象的区别在于，函数对象包含对函数的globals(函数定义所在的模块)的明确引用，而代码对象不包含上下文；另外，默认参数值存储在函数对象中，而不是代码对象中(因为它们代表在运行时计算的值)。与函数对象不同，代码对象是不可变的，不包含对可变对象的引用（直接或间接）。\n",
    ">\n",
    ">   特殊的只读属性：`co_name` 给出了函数名称；`co_argcount`是位置参数的总数（包括仅有位置的参数和默认值的参数）；`co_posonlyargcount` 是仅有位置的参数数量（包括默认值的参数）；`co_kwonlyargcount` 是仅有关键字的参数数量（包括默认值的参数）。`co_nlocals`是函数使用的局部变量的数量（包括参数）；`co_varnames`是一个包含局部变量名称的元组（从参数名称开始）；`co_cellvars`是一个包含被嵌套函数引用的局部变量名称的元组。`co_freevars`是一个元组，包含自由变量的名称；`co_code`是一个字符串，代表字节码指令的序列；`co_consts`是一个元组，包含字节码使用的字词；`co_names`是一个元组，包含字节码使用的名称；`co_filename`是编译代码的文件名。`co_firstlineno`是函数的第一行号；`co_lnotab`是一个字符串，编码从字节码偏移到行号的映射（详情见解释器的源代码）；`co_stacksize`是要求的堆栈大小；`co_flags`是一个整数，编码解释器的一些标志。\n",
    ">\n",
    ">   以下是为 `co_flags` 定义的标志位：如果函数使用 `*arguments` 语法接受任意数量的位置参数，则位`0x04` 被设置；如果函数使用 `**keywords` 语法接受任意关键字参数，则位 `0x08` 被设置；如果函数是一个生成器，则位 `0x20` 被设置。\n",
    ">\n",
    ">   未来特性声明 (`from __future__ import division`) 也使用 `co_flags` 中的位来表示代码对象在编译时是否启用了特定的特性：如果函数在编译时启用了未来划分，则位 `0x2000` 被设置；位 `0x10` 和`0x1000 `在早期版本的 Python 中使用。\n",
    ">\n",
    ">   `co_flags`中的其他位是保留给内部使用的。\n",
    ">\n",
    ">   如果一个代码对象代表一个函数，`co_consts `中的第一项是该函数的文档字符串，如果未定义，则为`None`。"
   ]
  },
  {
   "cell_type": "markdown",
   "id": "d9645dce-25dc-44cd-94a7-551f74509166",
   "metadata": {},
   "source": [
    "- Frame objects\n",
    "\n",
    "  Frame objects represent execution frames. They may occur in traceback objects (see below), and are also passed to registered trace functions.\n",
    "\n",
    "  Special read-only attributes: `f_back` is to the previous stack frame (towards the caller), or `None` if this is the bottom stack frame; `f_code` is the code object being executed in this frame; `f_locals` is the dictionary used to look up local variables; `f_globals` is used for global variables; `f_builtins` is used for built-in (intrinsic) names; `f_lasti` gives the precise instruction (this is an index into the bytecode string of the code object).\n",
    "\n",
    "  Accessing `f_code` raises an [auditing event](https://docs.python.org/3/library/sys.html#auditing) `object.__getattr__` with arguments `obj` and `\"f_code\"`.\n",
    "\n",
    "  Special writable attributes: `f_trace`, if not `None`, is a function called for various events during code execution (this is used by the debugger). Normally an event is triggered for each new source line - this can be disabled by setting `f_trace_lines` to [`False`](https://docs.python.org/3/library/constants.html#False).\n",
    "\n",
    "  Implementations *may* allow per-opcode events to be requested by setting `f_trace_opcodes` to [`True`](https://docs.python.org/3/library/constants.html#True). Note that this may lead to undefined interpreter behaviour if exceptions raised by the trace function escape to the function being traced.\n",
    "\n",
    "  `f_lineno` is the current line number of the frame — writing to this from within a trace function jumps to the given line (only for the bottom-most frame). A debugger can implement a Jump command (aka Set Next Statement) by writing to f_lineno.\n",
    "\n",
    "  Frame objects support one method:\n",
    "\n",
    "  `frame.``clear`()\n",
    "\n",
    "  This method clears all references to local variables held by the frame. Also, if the frame belonged to a generator, the generator is finalized. This helps break reference cycles involving frame objects (for example when catching an exception and storing its traceback for later use).\n",
    "\n",
    "  [`RuntimeError`](https://docs.python.org/3/library/exceptions.html#RuntimeError) is raised if the frame is currently executing.\n",
    "\n",
    "  *New in version 3.4.*\n",
    "\n",
    "> - Frame objects  框架对象\n",
    ">\n",
    ">   框架对象代表执行框架。它们可能出现在回溯对象中（见下文），也会被传递给注册的跟踪函数。\n",
    ">\n",
    ">   特殊的只读属性： `f_back`是到前一个堆栈帧（朝向调用者），或者`None`如果这是底层堆栈帧；`f_code`是在这个帧中执行的代码对象；`f_locals`是用于查找局部变量的字典；`f_globals`用于全局变量；`f_builtins`用于内置（内在）名称；`f_lasti`给出精确指令（这是代码对象字节码字符串的索引）。\n",
    ">\n",
    ">   访问`f_code`会引发一个[auditing event](https://docs.python.org/3/library/sys.html#auditing) `object.__getattr__`，参数为`obj`和`\"f_code\"`。\n",
    ">\n",
    ">   特殊的可写属性。`f_trace`，如果不是`None`，是一个在代码执行过程中为各种事件调用的函数（这是调试器使用的）。通常情况下，每一个新的源代码行都会触发一个事件 - 这可以通过设置`f_trace_lines`为 [`False`](https://docs.python.org/3/library/constants.html#False) 来禁用。\n",
    ">\n",
    ">   实现*可能*允许通过设置 `f_trace_opcodes` 为[`True`](https://docs.python.org/3/library/constants.html#True)来请求每个操作码的事件。请注意，如果跟踪函数引发的异常逃逸到被跟踪的函数，这可能会导致未定义的解释器行为。\n",
    ">\n",
    ">   `f_lineno` 是框架的当前行号--从跟踪函数中写入这个行号，就会跳到给定的行（只针对最底层的框架）。调试器可以通过写入f_lineno来实现一个跳转命令（又称设置下一个语句）。\n",
    ">\n",
    ">   框架对象支持一个方法：\n",
    ">\n",
    ">   `frame.`clear()\n",
    ">\n",
    ">   这个方法清除了所有由框架持有的对局部变量的引用。同时，如果该框架属于一个生成器，那么该生成器将被最终确定。这有助于打破涉及框架对象的引用循环（例如，当捕获一个异常并存储其回溯以供以后使用时）。\n",
    ">\n",
    ">   [`RuntimeError`](https://docs.python.org/3/library/exceptions.html#RuntimeError)在框架当前正在执行的情况下被引发。\n",
    ">\n",
    ">   *在3.4.*版本中新增"
   ]
  },
  {
   "cell_type": "markdown",
   "id": "9fc7776a-a5a2-44dd-8b61-4f58d7e35204",
   "metadata": {},
   "source": [
    "- Traceback objects\n",
    "\n",
    "  Traceback objects represent a stack trace of an exception. A traceback object is implicitly created when an exception occurs, and may also be explicitly created by calling [`types.TracebackType`](https://docs.python.org/3/library/types.html#types.TracebackType).\n",
    "\n",
    "  For implicitly created tracebacks, when the search for an exception handler unwinds the execution stack, at each unwound level a traceback object is inserted in front of the current traceback. When an exception handler is entered, the stack trace is made available to the program. (See section [The try statement](https://docs.python.org/3/reference/compound_stmts.html#try).) It is accessible as the third item of the tuple returned by `sys.exc_info()`, and as the `__traceback__` attribute of the caught exception.\n",
    "\n",
    "  When the program contains no suitable handler, the stack trace is written (nicely formatted) to the standard error stream; if the interpreter is interactive, it is also made available to the user as `sys.last_traceback`.\n",
    "\n",
    "  For explicitly created tracebacks, it is up to the creator of the traceback to determine how the `tb_next` attributes should be linked to form a full stack trace.\n",
    "\n",
    "  Special read-only attributes: `tb_frame` points to the execution frame of the current level; `tb_lineno` gives the line number where the exception occurred; `tb_lasti` indicates the precise instruction. The line number and last instruction in the traceback may differ from the line number of its frame object if the exception occurred in a [`try`](https://docs.python.org/3/reference/compound_stmts.html#try) statement with no matching except clause or with a finally clause.\n",
    "\n",
    "  Accessing `tb_frame` raises an [auditing event](https://docs.python.org/3/library/sys.html#auditing) `object.__getattr__` with arguments `obj` and `\"tb_frame\"`.\n",
    "\n",
    "  Special writable attribute: `tb_next` is the next level in the stack trace (towards the frame where the exception occurred), or `None` if there is no next level.\n",
    "\n",
    "  *Changed in version 3.7:* Traceback objects can now be explicitly instantiated from Python code, and the `tb_next` attribute of existing instances can be updated.\n",
    "\n",
    "> - Traceback objects  回溯对象\n",
    ">\n",
    ">   回溯对象表示一个异常的堆栈跟踪。当异常发生时，回溯对象被隐式创建，也可以通过调用[`types.TracebackType`](https://docs.python.org/3/library/types.html#types.TracebackType)显式创建。\n",
    ">\n",
    ">   对于隐式创建的回溯对象，当搜索异常处理程序时展开执行堆栈，在每个展开的层次上，都会在当前回溯对象的前面插入一个回溯对象。当一个异常处理程序被输入时，堆栈回溯被提供给程序使用。(参见[The try statement](https://docs.python.org/3/reference/compound_stmts.html#try)一节）。它可以作为`sys.ex_info()`返回的元组中的第三项，以及作为被捕获的异常的`__traceback__`属性来访问。\n",
    ">\n",
    ">   当程序中没有合适的处理程序时，堆栈跟踪会被写到标准错误流中（格式很好）；如果解释器是交互式的，它也会作为`sys.last_traceback`提供给用户使用。\n",
    ">\n",
    ">   对于明确创建的回溯，由回溯的创建者决定如何将`tb_next`属性连接起来以形成一个完整的堆栈跟踪。\n",
    ">\n",
    ">   特殊的只读属性： `tb_frame`指向当前级别的执行帧；`tb_lineno`给出发生异常的行号；`tb_lasti`指出精确的指令。如果异常发生在没有匹配except子句的[`try`](https://docs.python.org/3/reference/compound_stmts.html#try)语句中，或者有finally子句，那么回溯中的行号和最后一条指令可能与它的框架对象的行号不同。\n",
    ">\n",
    ">   访问`tb_frame`会引发一个[审计事件](https://docs.python.org/3/library/sys.html#auditing) `object.__getattr__`，参数为`obj`和`\"tb_frame\"`。\n",
    ">\n",
    ">   特殊的可写属性： `tb_next`是堆栈跟踪中的下一级（朝着发生异常的帧），如果没有下一级，则为`None`。\n",
    ">\n",
    ">   *3.7版中的变化：* 回溯对象现在可以从Python代码中明确实例化，并且可以更新现有实例的`tb_next`属性"
   ]
  },
  {
   "cell_type": "markdown",
   "id": "14c45e39-d227-48b4-a4ab-97e136875f83",
   "metadata": {},
   "source": [
    "- Slice objects\n",
    "\n",
    "  Slice objects are used to represent slices for [`__getitem__()`](https://docs.python.org/3/reference/datamodel.html#object.__getitem__) methods. They are also created by the built-in [`slice()`](https://docs.python.org/3/library/functions.html#slice) function.\n",
    "\n",
    "  Special read-only attributes: `start` is the lower bound; `stop` is the upper bound; `step` is the step value; each is `None` if omitted. These attributes can have any type.\n",
    "\n",
    "  Slice objects support one method:\n",
    "\n",
    "  `slice.`indices(*self*, *length*)\n",
    "\n",
    "  This method takes a single integer argument *length* and computes information about the slice that the slice object would describe if applied to a sequence of *length* items. It returns a tuple of three integers; respectively these are the *start* and *stop* indices and the *step* or stride length of the slice. Missing or out-of-bounds indices are handled in a manner consistent with regular slices.\n",
    "\n",
    "> - Slice objects  切片对象\n",
    ">\n",
    ">   切片对象是用来表示[`__getitem__()`](https://docs.python.org/3/reference/datamodel.html#object.__getitem__)方法的切片。它们也可以由内置的[`slice()`](https://docs.python.org/3/library/functions.html#slice)函数创建。\n",
    ">\n",
    ">   特殊的只读属性：`start`是下限；`stop`是上限；`step`是步长值；如果省略，每个都是`None`。这些属性可以有任何类型。\n",
    ">\n",
    ">   切片对象支持一个方法：\n",
    ">\n",
    ">   `slice.`indices(*self*, *length*)\n",
    ">\n",
    ">   这个方法需要一个单一的整数参数*length*，并计算切片对象在应用于*length*项的序列时将描述的切片的信息。它返回一个由三个整数组成的元组；它们分别是切片的*开始*和*停止*索引以及*步*或stride长度。缺少或超出范围的索引将以与常规切片一致的方式处理。"
   ]
  },
  {
   "cell_type": "code",
   "execution_count": 24,
   "id": "b329d055-3230-4865-94c9-7b877443a166",
   "metadata": {},
   "outputs": [
    {
     "data": {
      "text/plain": [
       "slice(2, 10, 1)"
      ]
     },
     "execution_count": 24,
     "metadata": {},
     "output_type": "execute_result"
    },
    {
     "data": {
      "text/plain": [
       "2"
      ]
     },
     "execution_count": 24,
     "metadata": {},
     "output_type": "execute_result"
    },
    {
     "data": {
      "text/plain": [
       "10"
      ]
     },
     "execution_count": 24,
     "metadata": {},
     "output_type": "execute_result"
    },
    {
     "data": {
      "text/plain": [
       "1"
      ]
     },
     "execution_count": 24,
     "metadata": {},
     "output_type": "execute_result"
    },
    {
     "data": {
      "text/plain": [
       "(2, 10, 1)"
      ]
     },
     "execution_count": 24,
     "metadata": {},
     "output_type": "execute_result"
    }
   ],
   "source": [
    "L = [x**3 for x in range(1,10)]\n",
    "\n",
    "S = slice(2, 10, 1)\n",
    "S\n",
    "\n",
    "S.start\n",
    "S.stop\n",
    "S.step\n",
    "\n",
    "S.indices(10)"
   ]
  },
  {
   "cell_type": "markdown",
   "id": "4a9ca368-eb83-4cff-8ca7-0a0594430a1b",
   "metadata": {},
   "source": [
    "- Static method objects\n",
    "\n",
    "  Static method objects provide a way of defeating the transformation of function objects to method objects described above. A static method object is a wrapper around any other object, usually a user-defined method object. When a static method object is retrieved from a class or a class instance, the object actually returned is the wrapped object, which is not subject to any further transformation. Static method objects are also callable. Static method objects are created by the built-in [`staticmethod()`](https://docs.python.org/3/library/functions.html#staticmethod) constructor.\n",
    "\n",
    "> - Static method objects  静态方法对象\n",
    ">\n",
    ">   静态方法对象提供了一种方法来抵御上述的函数对象向方法对象的转化。静态方法对象是对任何其他对象的包装，通常是一个用户定义的方法对象。当静态方法对象被从一个类或一个类实例中检索时，实际返回的对象是被包装的对象，它不会受到任何进一步的转换。静态方法对象也是可调用的。静态方法对象是由内置的 [`staticmethod()`](https://docs.python.org/3/library/functions.html#staticmethod) 构造函数创建。"
   ]
  },
  {
   "cell_type": "markdown",
   "id": "65a95149-b50f-4ff2-ab9b-92957fdaacaf",
   "metadata": {},
   "source": [
    "- Class method objects\n",
    "\n",
    "  A class method object, like a static method object, is a wrapper around another object that alters the way in which that object is retrieved from classes and class instances. The behaviour of class method objects upon such retrieval is described above, under “User-defined methods”. Class method objects are created by the built-in [`classmethod()`](https://docs.python.org/3/library/functions.html#classmethod) constructor.\n",
    "\n",
    "> - Class method objects  类方法对象\n",
    ">\n",
    ">   类方法对象，就像静态方法对象一样，是另一个对象的包装物，它改变了该对象从类和类实例中检索的方式。类方法对象在这种检索中的行为在上面的 \"用户定义的方法\"中有所描述。类方法对象是由内置的[`classmethod()` ](https://docs.python.org/3/library/functions.html#classmethod)构造函数创建。"
   ]
  },
  {
   "cell_type": "markdown",
   "id": "98bff835-02e2-47d7-8661-ffb0520fce35",
   "metadata": {},
   "source": [
    "## 3.3. Special method names"
   ]
  },
  {
   "cell_type": "markdown",
   "id": "4f5b7ee2-fa93-4597-84c8-4a07653cf075",
   "metadata": {},
   "source": [
    "A class can implement certain operations that are invoked by special syntax (such as arithmetic operations or subscripting and slicing) by defining methods with special names. This is Python’s approach to *operator overloading*, allowing classes to define their own behavior with respect to language operators. For instance, if a class defines a method named [`__getitem__()`](https://docs.python.org/3/reference/datamodel.html#object.__getitem__), and `x` is an instance of this class, then `x[i]` is roughly equivalent to `type(x).__getitem__(x, i)`. Except where mentioned, attempts to execute an operation raise an exception when no appropriate method is defined (typically [`AttributeError`](https://docs.python.org/3/library/exceptions.html#AttributeError) or [`TypeError`](https://docs.python.org/3/library/exceptions.html#TypeError)).\n",
    "\n",
    "Setting a special method to `None` indicates that the corresponding operation is not available. For example, if a class sets [`__iter__()`](https://docs.python.org/3/reference/datamodel.html#object.__iter__) to `None`, the class is not iterable, so calling [`iter()`](https://docs.python.org/3/library/functions.html#iter) on its instances will raise a [`TypeError`](https://docs.python.org/3/library/exceptions.html#TypeError) (without falling back to [`__getitem__()`](https://docs.python.org/3/reference/datamodel.html#object.__getitem__)). [2](https://docs.python.org/3/reference/datamodel.html#id9)\n",
    "\n",
    "When implementing a class that emulates any built-in type, it is important that the emulation only be implemented to the degree that it makes sense for the object being modelled. For example, some sequences may work well with retrieval of individual elements, but extracting a slice may not make sense. (One example of this is the `NodeList` interface in the W3C’s Document Object Model.)\n",
    "\n",
    "> 一个类可以通过定义具有特殊名称的方法来实现某些由特殊语法调用的操作 (如算术操作或下标和分片)。这是Python对*运算符重载*的方法，允许类对语言运算符定义自己的行为。例如，如果一个类定义了一个名为 [`__getitem__()`](https://docs.python.org/3/reference/datamodel.html#object.__getitem__) 的方法，并且 `x` 是这个类的一个实例，那么 `x[i]` 大致相当于 `type(x).__getitem__(x, i)`。除了提到的地方，当没有定义合适的方法时，试图执行一个操作会引发一个异常（通常是[`AttributeError`](https://docs.python.org/3/library/exceptions.html#AttributeError) 或 [`TypeError`](https://docs.python.org/3/library/exceptions.html#TypeError)）。\n",
    ">\n",
    "> 将一个特殊方法设置为 `None` 表示相应的操作不可用。例如，如果一个类将[`__iter__()`](https://docs.python.org/3/reference/datamodel.html#object.__iter__)设置为`None`，该类是不可迭代的，所以在其实例上调用 [`iter()`](https://docs.python.org/3/library/functions.html#iter) 将引发一个[`TypeError`](https://docs.python.org/3/library/exceptions.html#TypeError)（而不会退回到[`__getitem__()`](https://docs.python.org/3/reference/datamodel.html#object.__getitem__)）。[2]\n",
    ">\n",
    "> 当实现一个模拟任何内置类型的类时，重要的是，模拟的实现只能达到对被模拟的对象有意义的程度。例如，一些序列可能对单个元素的检索很有效，但提取一个片断可能没有意义。(这方面的一个例子是W3C的文档对象模型中的`NodeList`接口）。"
   ]
  },
  {
   "cell_type": "markdown",
   "id": "35751216-4be3-4d22-8e5b-f96eb815f8d9",
   "metadata": {},
   "source": [
    "### 3.3.1. Basic customization"
   ]
  },
  {
   "cell_type": "markdown",
   "id": "ac7663e1-cc84-49e4-9fee-a26419352921",
   "metadata": {},
   "source": [
    "`object.`\\__\\_new\\_\\_(*cls*[, *...*])\n",
    "\n",
    "Called to create a new instance of class *cls*. [`__new__()`](https://docs.python.org/3/reference/datamodel.html#object.__new__) is a static method (special-cased so you need not declare it as such) that takes the class of which an instance was requested as its first argument. The remaining arguments are those passed to the object constructor expression (the call to the class). The return value of [`__new__()`](https://docs.python.org/3/reference/datamodel.html#object.__new__) should be the new object instance (usually an instance of *cls*).\n",
    "\n",
    "Typical implementations create a new instance of the class by invoking the superclass’s [`__new__()`](https://docs.python.org/3/reference/datamodel.html#object.__new__) method using `super().__new__(cls[, ...])` with appropriate arguments and then modifying the newly-created instance as necessary before returning it.\n",
    "\n",
    "If [`__new__()`](https://docs.python.org/3/reference/datamodel.html#object.__new__) is invoked during object construction and it returns an instance of *cls*, then the new instance’s [`__init__()`](https://docs.python.org/3/reference/datamodel.html#object.__init__) method will be invoked like `__init__(self[, ...])`, where *self* is the new instance and the remaining arguments are the same as were passed to the object constructor.\n",
    "\n",
    "If [`__new__()`](https://docs.python.org/3/reference/datamodel.html#object.__new__) does not return an instance of *cls*, then the new instance’s [`__init__()`](https://docs.python.org/3/reference/datamodel.html#object.__init__) method will not be invoked.\n",
    "\n",
    "[`__new__()`](https://docs.python.org/3/reference/datamodel.html#object.__new__) is intended mainly to allow subclasses of immutable types (like int, str, or tuple) to customize instance creation. It is also commonly overridden in custom metaclasses in order to customize class creation.\n",
    "\n",
    "> `object.`\\_\\_new\\_\\_(*cls*[, *...*])\n",
    ">\n",
    "> 调用该方法来创建一个*cls*类的新实例。[`__new__()`](https://docs.python.org/3/reference/datamodel.html#object.__new__) 是一个静态方法（特殊情况下，所以你不需要将其声明为静态方法），它将请求实例的类作为它的第一个参数。其余的参数是传递给对象构造函数表达式（对类的调用）的参数。[`__new__()`](https://docs.python.org/3/reference/datamodel.html#object.__new__) 的返回值应该是新的对象实例（通常是*cls*的一个实例）。\n",
    ">\n",
    "> 典型的实现是通过调用超类的[`__new__()`](https://docs.python.org/3/reference/datamodel.html#object.__new__)方法，使用`super().__new__(cls[, ...])`和适当的参数来创建一个新的类的实例，然后在返回之前对新创建的实例进行必要的修改。\n",
    ">\n",
    "> 如果[`__new__()`](https://docs.python.org/3/reference/datamodel.html#object.__new__)在对象构造过程中被调用，并且返回一个*cls*的实例，那么新实例的[`__init__()`](https://docs.python.org/3/reference/datamodel.html#object.__init__)方法将被调用，就像`__init__(self[, ...])`，其中*self*是新实例，其余参数与传递给对象构造器的参数相同。\n",
    ">\n",
    "> 如果 [`__new__()`](https://docs.python.org/3/reference/datamodel.html#object.__new__) 没有返回*cls*的实例，那么新实例的 [`__init__()`](https://docs.python.org/3/reference/datamodel.html#object.__init__) 方法将不会被调用。\n",
    ">\n",
    "> [`__new__()`](https://docs.python.org/3/reference/datamodel.html#object.__new__)主要是为了让不可变类型（如int、str或tuple）的子类能够自定义实例的创建。它也通常在自定义元类中被重写，以便自定义类的创建。"
   ]
  },
  {
   "cell_type": "markdown",
   "id": "cd0a858a-9a00-4939-a556-b4242c0fced3",
   "metadata": {},
   "source": []
  }
 ],
 "metadata": {
  "kernelspec": {
   "display_name": "Python 3 (ipykernel)",
   "language": "python",
   "name": "python3"
  },
  "language_info": {
   "codemirror_mode": {
    "name": "ipython",
    "version": 3
   },
   "file_extension": ".py",
   "mimetype": "text/x-python",
   "name": "python",
   "nbconvert_exporter": "python",
   "pygments_lexer": "ipython3",
   "version": "3.10.4"
  }
 },
 "nbformat": 4,
 "nbformat_minor": 5
}
