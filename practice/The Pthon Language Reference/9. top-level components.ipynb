{
 "cells": [
  {
   "cell_type": "code",
   "execution_count": 1,
   "id": "86d4026a-ba38-45d0-9a0f-361d6f60832e",
   "metadata": {},
   "outputs": [],
   "source": [
    "from IPython.core.interactiveshell import InteractiveShell\n",
    "InteractiveShell.ast_node_interactivity = \"all\""
   ]
  },
  {
   "cell_type": "markdown",
   "id": "c93ef771-e729-4885-bb16-7faf32cd21a4",
   "metadata": {},
   "source": [
    "The Python interpreter can get its input from a number of sources: from a script passed to it as standard input or as program argument, typed in interactively, from a module source file, etc. This chapter gives the syntax used in these cases.\n",
    "\n",
    "> Python 解释器可以从多种来源获得输入：从作为标准输入或程序参数传递给它的脚本，交互式输入，从模块源文件中，等等。本章给出了在这些情况下使用的语法。"
   ]
  },
  {
   "cell_type": "markdown",
   "id": "94ec83d2-0a3a-4501-8bf2-5ed7b1c5b7c0",
   "metadata": {},
   "source": [
    "## 9.1. Complete Python programs"
   ]
  },
  {
   "cell_type": "markdown",
   "id": "d5062ce3-2755-4cf9-a59d-641d058b9716",
   "metadata": {},
   "source": [
    "While a language specification need not prescribe how the language interpreter is invoked, it is useful to have a notion of a complete Python program. A complete Python program is executed in a minimally initialized environment: all built-in and standard modules are available, but none have been initialized, except for [`sys`](https://docs.python.org/3/library/sys.html#module-sys) (various system services), [`builtins`](https://docs.python.org/3/library/builtins.html#module-builtins) (built-in functions, exceptions and `None`) and [`__main__`](https://docs.python.org/3/library/__main__.html#module-__main__). The latter is used to provide the local and global namespace for execution of the complete program.\n",
    "\n",
    "The syntax for a complete Python program is that for file input, described in the next section.\n",
    "\n",
    "The interpreter may also be invoked in interactive mode; in this case, it does not read and execute a complete program but reads and executes one statement (possibly compound) at a time. The initial environment is identical to that of a complete program; each statement is executed in the namespace of [`__main__`](https://docs.python.org/3/library/__main__.html#module-__main__).\n",
    "\n",
    "A complete program can be passed to the interpreter in three forms: with the [`-c`](https://docs.python.org/3/using/cmdline.html#cmdoption-c) *string* command line option, as a file passed as the first command line argument, or as standard input. If the file or standard input is a tty device, the interpreter enters interactive mode; otherwise, it executes the file as a complete program.\n",
    "\n",
    "> 虽然语言规范不需要规定语言解释器如何被调用，但有一个完整的Python程序的概念是很有用的。一个完整的Python程序是在一个最小初始化的环境中执行的：所有的内置模块和标准模块都是可用的，但都没有被初始化，除了 [`sys`](https://docs.python.org/3/library/sys.html#module-sys) (各种系统服务)、[`builtins`](https://docs.python.org/3/library/builtins.html#module-builtins) (内置函数、异常和 `None`) 和 [`__main__`](https://docs.python.org/3/library/__main__.html#module-__main__) 。后者用于为完整程序的执行提供本地和全局名称空间。\n",
    ">\n",
    "> 一个完整的Python程序的语法是文件输入的语法，在下一节描述。\n",
    ">\n",
    "> 解释器也可以在交互式模式下被调用；在这种情况下，它不读取和执行一个完整的程序，而是一次读取和执行一个语句(可能是复合语句)。初始环境与完整程序的环境相同；每个语句都在 [`__main__`](https://docs.python.org/3/library/__main__.html#module-__main__) 的名称空间中执行。\n",
    ">\n",
    "> 一个完整的程序可以以三种形式传递给解释器：使用 [`-c`](https://docs.python.org/3/using/cmdline.html#cmdoption-c) *string*命令行选项，作为文件作为第一个命令行参数传递，或者作为标准输入。如果文件或标准输入是一个tty设备，解释器将进入交互式模式；否则，它将作为一个完整的程序执行该文件。"
   ]
  },
  {
   "cell_type": "markdown",
   "id": "4957518a-3126-472b-8eea-09c85b27b1c6",
   "metadata": {},
   "source": [
    "## 9.2. File input"
   ]
  },
  {
   "cell_type": "markdown",
   "id": "0e658f02-0993-4d70-b4c9-7f8c234d4afa",
   "metadata": {},
   "source": [
    "All input read from non-interactive files has the same form:\n",
    "\n",
    "> 所有从非交互式文件中读取的输入都有相同的形式："
   ]
  },
  {
   "cell_type": "raw",
   "id": "42f7976f-3aa3-469d-abd3-013a33ae1275",
   "metadata": {},
   "source": [
    "file_input ::=  (NEWLINE | statement)*"
   ]
  },
  {
   "cell_type": "markdown",
   "id": "cb253231-039b-4ad5-a7e7-02d8e220c165",
   "metadata": {},
   "source": [
    "This syntax is used in the following situations:\n",
    "\n",
    "- when parsing a complete Python program (from a file or from a string);\n",
    "- when parsing a module;\n",
    "- when parsing a string passed to the [`exec()`](https://docs.python.org/3/library/functions.html#exec) function;\n",
    "\n",
    "> 这种语法在以下情况下使用：\n",
    ">\n",
    "> - 当解析一个完整的 Python 程序时 (从一个文件或从一个字符串)。\n",
    "> - 当解析一个模块时。\n",
    "> - 解析传递给 [`exec()`](https://docs.python.org/3/library/functions.html#exec) 函数的字符串时。"
   ]
  },
  {
   "cell_type": "markdown",
   "id": "66d3348b-f69f-4a60-aa18-8656b6fca146",
   "metadata": {},
   "source": [
    "## 9.3. Interactive input"
   ]
  },
  {
   "cell_type": "markdown",
   "id": "5cd8f0fe-b2d1-42b3-9080-cecc213180a6",
   "metadata": {},
   "source": [
    "Input in interactive mode is parsed using the following grammar:\n",
    "\n",
    "> 在交互式模式下的输入是使用以下语法进行解析的："
   ]
  },
  {
   "cell_type": "raw",
   "id": "06d5ef65-f2cb-4365-999f-1c3b10778a84",
   "metadata": {},
   "source": [
    "interactive_input ::=  [stmt_list] NEWLINE | compound_stmt NEWLINE"
   ]
  },
  {
   "cell_type": "markdown",
   "id": "13a8a67d-a371-4728-b6a7-da3eee6bbec2",
   "metadata": {},
   "source": [
    "Note that a (top-level) compound statement must be followed by a blank line in interactive mode; this is needed to help the parser detect the end of the input.\n",
    "\n",
    "> 请注意，在交互式模式下，一个（顶级）复合语句后面必须有一个空行；这是为了帮助解析器检测输入的结束。"
   ]
  },
  {
   "cell_type": "markdown",
   "id": "47744675-ce87-4418-b72b-dc4f2949e5c0",
   "metadata": {},
   "source": [
    "## 9.4. Expression input"
   ]
  },
  {
   "cell_type": "markdown",
   "id": "0e9d63a4-97a5-4b7e-9fc3-578beb8c18f3",
   "metadata": {},
   "source": [
    "[`eval()`](https://docs.python.org/3/library/functions.html#eval) is used for expression input. It ignores leading whitespace. The string argument to [`eval()`](https://docs.python.org/3/library/functions.html#eval) must have the following form:\n",
    "\n",
    "> [`eval()`](https://docs.python.org/3/library/functions.html#eval) 用于表达式输入。它忽略了前面的空白。[`eval()` ](https://docs.python.org/3/library/functions.html#eval)的字符串参数必须具有以下形式："
   ]
  },
  {
   "cell_type": "raw",
   "id": "cadb1666-b4de-432b-bb22-fd694bbc03bd",
   "metadata": {},
   "source": [
    "eval_input ::=  expression_list NEWLINE*"
   ]
  },
  {
   "cell_type": "code",
   "execution_count": 15,
   "id": "5c68c3b1-a74b-4c9d-95bb-31072a633fac",
   "metadata": {},
   "outputs": [
    {
     "name": "stdout",
     "output_type": "stream",
     "text": [
      "Help on built-in function eval in module builtins:\n",
      "\n",
      "eval(source, globals=None, locals=None, /)\n",
      "    Evaluate the given source in the context of globals and locals.\n",
      "    \n",
      "    The source may be a string representing a Python expression\n",
      "    or a code object as returned by compile().\n",
      "    The globals must be a dictionary and locals can be any mapping,\n",
      "    defaulting to the current globals and locals.\n",
      "    If only globals is given, locals defaults to it.\n",
      "\n"
     ]
    }
   ],
   "source": [
    "help(eval)"
   ]
  },
  {
   "cell_type": "code",
   "execution_count": 17,
   "id": "8a709f19-aa54-4e17-87ed-cb371da82d47",
   "metadata": {},
   "outputs": [
    {
     "name": "stdout",
     "output_type": "stream",
     "text": [
      "Help on built-in function compile in module builtins:\n",
      "\n",
      "compile(source, filename, mode, flags=0, dont_inherit=False, optimize=-1, *, _feature_version=-1)\n",
      "    Compile source into a code object that can be executed by exec() or eval().\n",
      "    \n",
      "    The source code may represent a Python module, statement or expression.\n",
      "    The filename will be used for run-time error messages.\n",
      "    The mode must be 'exec' to compile a module, 'single' to compile a\n",
      "    single (interactive) statement, or 'eval' to compile an expression.\n",
      "    The flags argument, if present, controls which future statements influence\n",
      "    the compilation of the code.\n",
      "    The dont_inherit argument, if true, stops the compilation inheriting\n",
      "    the effects of any future statements in effect in the code calling\n",
      "    compile; if absent or false these statements do influence the compilation,\n",
      "    in addition to any features explicitly specified.\n",
      "\n"
     ]
    }
   ],
   "source": [
    "help(compile)"
   ]
  },
  {
   "cell_type": "code",
   "execution_count": 21,
   "id": "55320da1-e669-42f0-85a7-27f34fabc8e0",
   "metadata": {},
   "outputs": [
    {
     "data": {
      "text/plain": [
       "2"
      ]
     },
     "execution_count": 21,
     "metadata": {},
     "output_type": "execute_result"
    }
   ],
   "source": [
    "eval('1 * 2')"
   ]
  }
 ],
 "metadata": {
  "kernelspec": {
   "display_name": "Python 3 (ipykernel)",
   "language": "python",
   "name": "python3"
  },
  "language_info": {
   "codemirror_mode": {
    "name": "ipython",
    "version": 3
   },
   "file_extension": ".py",
   "mimetype": "text/x-python",
   "name": "python",
   "nbconvert_exporter": "python",
   "pygments_lexer": "ipython3",
   "version": "3.10.4"
  }
 },
 "nbformat": 4,
 "nbformat_minor": 5
}
