{
 "cells": [
  {
   "cell_type": "code",
   "execution_count": 7,
   "id": "d53a60bc-41ac-4a35-a57d-c60ea5459557",
   "metadata": {},
   "outputs": [],
   "source": [
    "from IPython.core.interactiveshell import InteractiveShell\n",
    "InteractiveShell.ast_node_interactivity = \"all\""
   ]
  },
  {
   "cell_type": "markdown",
   "id": "174230ea-2964-4d44-a0ee-c5264d5bd9cf",
   "metadata": {},
   "source": [
    "> One has no future if one couldn't teach themself"
   ]
  },
  {
   "cell_type": "markdown",
   "id": "bf789bee-e144-4358-9efd-0bdd3a081938",
   "metadata": {},
   "source": [
    "## Prefeac\n",
    "[what is `#!`?](https://en.wikipedia.org/wiki/Shebang_(Unix)):\n",
    "script with `#!` indicates that it's a excutable script, while using specify interpreter\n",
    "这种方法仅限于linux系统\n",
    "\n",
    "\"python ./hello.md\" using this in shell, can excute the 'hello.md' ignoring the extend name.\n",
    "\n",
    "chmod +x on a file (your script) only means, that you'll make it executable. Right click on your script and chose Properties -> Permissions -> Allow executing file as program, leaves you with the exact same result as the command in terminal.\n",
    "\n",
    "## proof of work\n",
    "[Tsundoku (Japanese: 積ん読)](https://en.wikipedia.org/wiki/Tsundoku): \n",
    "> 指那些买回来堆在那里还没读过的（甚至后来干脆不看了的）书……\n",
    "\n",
    "### jupyter lab setting\n",
    "configure jupyter lab\n",
    "> jupyter lab --generate-config 生成配置文件\n",
    "\n",
    "在此配置文件添加：\n",
    "```bash\n",
    "#c.NotebookApp.token = '' 每次打开生成token\n",
    "#c.NotebookApp.open_browser = False 设置是否使用默认浏览器打开\n",
    "#c.NotebookApp.notebook_dir = '~/' 设置打开的根目录\n",
    "#c.NotebookApp.default_url = '/tree' 用jupyter notebook打开\n",
    "```\n",
    "\n",
    "将 Jupyter lab 配置成系统服务（macOS适用）\n",
    "\n",
    "关于 Jupyter lab themes：使用Stylus浏览器插件，定制jupyterlab的themes\n",
    "\n",
    "全部显示单元格执行结果\n",
    "> from IPython.core.interactiveshell import InteractiveShell\n",
    "InteractiveShell.ast_node_interactivity = \"all\"\n",
    "\n",
    "省事就把这个写入配置文件：\n",
    "> c.InteractiveShell.ast_node_interactivity = \"all\"\n",
    "\n",
    "### Git\n",
    "[Git官方文档](https://git-scm.com/book/en/v2)，反复阅读若干遍"
   ]
  },
  {
   "cell_type": "markdown",
   "id": "d3ba61a6-b7a6-437e-98f1-c961d7e0a4ee",
   "metadata": {},
   "source": [
    "## Part1 准备\n",
    "自学能力是唯一值得被不断磨炼的长技术\n",
    "\n",
    "\n",
    "为什么从编程开始学会自学\n",
    "```bash\n",
    "编程的知识点结构不是线性的。\n",
    "```\n",
    "\n",
    "[Forward declaration](https://en.wikipedia.org/wiki/Forward_declaration): 提前引用。\n",
    "\n",
    "Python文档生成工具：[sphinx](https://www.sphinx-doc.org/en/master/)\n",
    "\n",
    "只靠阅读习得新技能\n",
    "这是自学能力的终极目标\n",
    "> 自己生活工作学习上遇到的所有疑问，书本里应该都有答案 —— 起码有所参考。\n",
    "\n",
    "这让我想起了作家杨绛的话：大部人人面对的问题都是想的太多，而读书太少。\n",
    "\n",
    "注意这个图片引用的例子，这是引用自其他网站的图片(图片下载到本地，但给出图片原文链接)：\n",
    "![Joseph M. Williams’ research visualized (top 10,000 words).](images/Joseph-M-Williams-research-visualized.png)<a href='https://medium.com/@andreas_simons/the-english-language-is-a-lot-more-french-than-we-thought-heres-why-4db2db3542b3'></a>\n",
    "\n",
    "> 阅读“有繁殖能力”的书籍\n",
    "\n",
    "read books that can propagate itself.\n",
    "\n",
    "“讲真，你没有选择，只靠阅读习得新技能，这是你唯一的出路。”\n",
    "\n",
    "阅读基础文档\n",
    "\n",
    "- 基础文档的阅读是为了脱盲\n",
    "- 对基本概念有了一定的了解\n",
    "- 开始有能力相对轻松地阅读部分官方文档\n",
    "- 读懂一些简单的代码\n",
    "\n",
    "**心理建设**\n",
    "> 别怕，啥也别怕，没什么可怕的！\n",
    "> 编程是一门手工课，手艺活，习得工具的使用，创造出想象力中的东西\n"
   ]
  },
  {
   "cell_type": "markdown",
   "id": "24de0016-acc8-4aa8-879c-e1258dda9dde",
   "metadata": {},
   "source": [
    "## 入口\n",
    "\n",
    "### 布尔运算\n",
    "[乔治·布尔](https://en.wikipedia.org/wiki/George_Boole)和他创建的[逻辑运算](https://en.wikipedia.org/wiki/Boolean_algebra)是现代计算机的基石，习得编程技能把布尔运算作为入口；\n",
    "那么习得编程技能之后，学习机器学习的时候，把[贝叶斯定理定理](https://en.wikipedia.org/wiki/Bayes'_theorem)作为入口\n",
    "\n",
    "Boolean Operations, [Boolean expression](https://en.wikipedia.org/wiki/Boolean_expression)\n",
    "\n",
    "[evluate in mathematics](https://www.dictionary.com/browse/evaluate): to determine or calculate the numerical value of (a formula, function, relation, etc.). evaluate在数学中的定义：确定或计算（一个公式、函数、关系等）的数值。\n",
    "\n",
    "**布尔值（Boolean Value）**：`True` `False`\n",
    "\n",
    "**逻辑操作符（Logic Operator）**: \n",
    "| 比较操作符 | 意义     | 示例             | 布尔值  |\n",
    "| ---------- | -------- | ---------------- | ------- |\n",
    "| `==`       | 等于     | `1 == 2`         | `False` |\n",
    "| `!=`       | 不等于   | `1 != 2`         | `True`  |\n",
    "| `>`        | 大于     | `1 > 2`          | `False` |\n",
    "| `>=`       | 大于等于 | `1 >= 1`         | `True`  |\n",
    "| `<`        | 小于     | `1 < 2`          | `True`  |\n",
    "| `<=`       | 小于等于 | `1 <= 2`         | `True`  |\n",
    "| `in`       | 属于     | `'a' in 'basic'` | `True`  |\n",
    "\n",
    "**逻辑操作符的运算对象**（操作数，operand）是数字值和字符串值\n",
    "\n",
    "**布尔运算操作符**（Boolean Operator）：`and`、`or`、`not`\n",
    "| **and** | True     | Flase            | \n",
    "| ---------- | -------- | ---------------- | \n",
    "| True      | True    |     Flase  |\n",
    "| Flase      | Flase     |     Flase    |\n",
    "\n",
    "| **or** | True     | Flase            | \n",
    "| ---------- | -------- | ---------------- | \n",
    "| True      | True    |    True  |\n",
    "| Flase      | True     |     Flase    |\n",
    "\n",
    "| **not** | True     | Flase            | \n",
    "| ---------- | -------- | ---------------- | \n",
    "|          | False   |     True  |\n",
    "\n",
    "### 流程控制\n",
    "\n",
    "control flow\n",
    "\n",
    "`if...else statement`\n",
    "\n",
    "```bash\n",
    "...\n",
    "    if r % 2 == 0:    # 'r % 2 == 0' 叫做表达式，确切的叫布尔表达式, 2 是数字常量（numeric literal）\n",
    "        ...\n",
    "    else:\n",
    "        ...\n",
    "```\n",
    "\n",
    "[literal in Python](https://www.scaler.com/topics/python/literals-in-python/): Python literals are quantities/ notations whose value does not change during the execution of a program.\n",
    "There are five types of literal in Python, which are as follows-\n",
    "\n",
    "- String Literals\n",
    "- Numeric Literals\n",
    "- Boolean Literals\n",
    "- Literal Collections\n",
    "- Special Literals\n",
    "\n",
    "#### 循环（loop）\n",
    "\n",
    "`编程语言（Program Languages）`和`自然语言（Natural Languages）`，编程语言是计算机程序在运行时，计算机所能识别的语言，如Python语言，Java语言等；自然语言就是人们平常交流所能识别的语言。一般在程序注释中，用自然语言来描述\n",
    "\n",
    "一个简单循环案例：\n",
    "```bash\n",
    "for i in range(10):\n",
    "    if i % 2 != 0:\n",
    "        print(i)\n",
    "```\n",
    "这个案例打印出10以内的奇数"
   ]
  },
  {
   "cell_type": "code",
   "execution_count": 70,
   "id": "3c9fe71c-6afd-4a3c-bb42-275dd6c79b7a",
   "metadata": {},
   "outputs": [
    {
     "name": "stdout",
     "output_type": "stream",
     "text": [
      "2\n",
      "3\n",
      "5\n",
      "7\n",
      "11\n",
      "13\n",
      "17\n",
      "19\n",
      "23\n",
      "29\n",
      "31\n",
      "37\n",
      "41\n",
      "43\n",
      "47\n",
      "53\n",
      "59\n",
      "61\n",
      "67\n",
      "71\n",
      "73\n",
      "79\n",
      "83\n",
      "89\n",
      "97\n"
     ]
    }
   ],
   "source": [
    "# 这是个嵌套循环，找出100以内的质数\n",
    "# 算法：质数是2以上数，且除以其自身和1以外的书其商都不等于0\n",
    "for n in range(2, 100):    # 限制查找范围\n",
    "    if n == 2:\n",
    "        print(n)\n",
    "        continue    # 打印质数2之后，回到查找for循环\n",
    "    if n > 2:\n",
    "        for i in range(2, n):\n",
    "            if n % i == 0:    # n除以其自身和1以外的数有存在商为0的情况，说明该数不是质数，break掉\n",
    "                break\n",
    "        else:    # 执行到这里说明n除以其自身和1以外的数不存在商为0的情况\n",
    "            print(n)"
   ]
  },
  {
   "cell_type": "markdown",
   "id": "abf26c32-fa9e-4e55-8232-d5826a593831",
   "metadata": {},
   "source": [
    "#### [算法](https://en.wikipedia.org/wiki/Algorithm)\n",
    "程序的算法在写完之后，可以进行改进，或者说*优化*\n",
    "比如以上的算法可进行优化"
   ]
  },
  {
   "cell_type": "code",
   "execution_count": 71,
   "id": "5d11ad23-c658-4501-bdb7-b3652cc7885e",
   "metadata": {
    "tags": []
   },
   "outputs": [
    {
     "name": "stdout",
     "output_type": "stream",
     "text": [
      "2\n",
      "3\n",
      "5\n",
      "7\n",
      "11\n",
      "13\n",
      "17\n",
      "19\n",
      "23\n",
      "29\n",
      "31\n",
      "37\n",
      "41\n",
      "43\n",
      "47\n",
      "53\n",
      "59\n",
      "61\n",
      "67\n",
      "71\n",
      "73\n",
      "79\n",
      "83\n",
      "89\n",
      "97\n"
     ]
    }
   ],
   "source": [
    "# 从 2 作为除数开始试，试到  𝑛⎯⎯√  之后的一个整数就可以了……\n",
    "for n in range(2, 100):\n",
    "    if n == 2:\n",
    "        print(n)\n",
    "        continue\n",
    "    for i in range(2, int(n ** 0.5)+1): #为什么要 +1 以后再说…… n 的 1/2 次方，相当于根号 n。\n",
    "        if (n % i) == 0:\n",
    "            break\n",
    "    else:\n",
    "        print(n)   "
   ]
  },
  {
   "cell_type": "markdown",
   "id": "4c3a462f-4fa1-4a0d-a1e3-6036bd628df4",
   "metadata": {},
   "source": [
    "关于质数的最优算法有时间可以看看[StackOverflow](https://stackoverflow.com/questions/1801391/how-to-create-the-most-compact-mapping-n-%e2%86%92-isprimen-up-to-a-limit-n)上的讨论，或者[Wikipedia](https://en.wikipedia.org/wiki/Generation_of_primes)上的说明\n",
    "\n",
    "> 写代码是基础工具，重要的是思考能力，即算法的效能"
   ]
  },
  {
   "cell_type": "markdown",
   "id": "f2e5e219-5a9b-412d-9829-c58d83d23611",
   "metadata": {},
   "source": [
    "#### 所谓函数\n",
    "\n",
    "Fuction Name, Parameters, Return Value, Call\n",
    "\n",
    "\n",
    "#### 细节补充\n",
    "**statements**\n",
    "\n",
    "**statements block**\n",
    "Python用冒号“：”作为一个语句块开始的标志\n",
    "\n",
    "> 注意：在同一个文件里，不建议混合使用 Tab 和 Space；要么全用空格，要么全用制表符。\n",
    "\n",
    "**注释**-anotation\n",
    "在 Python 程序中可以用 # 符号标示注释语句\n",
    "> 人写的 Python 语言代码，要被 Python 解释器翻译成机器语言，而后才能让计算机 “读懂”，随后计算机才可以按照指令执行。解释器在编译程序的过程中，遇到 # 符号，就会忽略其后的部分（包括这个注释符号）。\n",
    "\n",
    "**操作符**\n",
    "在本节，我们见到的比较操作符可以比较它左右的值，而后返回一个布尔值。\n",
    "> 对于数字，我们可用的操作符有 `+`、`-`、`*`、`/`、`//`、`%`、`**` —— 它们分别代表加、减、乘、除、商、余、幂。\n",
    "\n",
    "**总结**\n",
    "- data: `Int`、`Boolen Value`、`Operator`；`Variable`、`Assignment`、`Expression`\n",
    "- `Function`、`Sub program`、`Return value`、`Call`\n",
    "- `Control Flow`、`Branch`、`Loop`\n",
    "- `Algorithm`、`Optimize`\n",
    "- procedure: `Statement`、`Anotation`、`Statement BLock`\n",
    "- `Input`、`Process`、`Output`\n",
    "- Interpreter\n",
    "\n",
    "顺手学习其他语言，比如数据视觉化用R"
   ]
  },
  {
   "cell_type": "markdown",
   "id": "1690f562-094e-43c1-bd3e-27d2199a3f31",
   "metadata": {},
   "source": [
    "## Part1 Value & Value Operator\n",
    "\n",
    "计算程序主要由两个最基本的成分构成：\n",
    "> **运算**（Evaluation）\n",
    "> **流程控制**（Control Flow）\n",
    "\n",
    "函数的调用，也是控制流程，可以**把函数看作是 “子程序”**；\n",
    "\n",
    "### Value\n",
    "\n",
    "在程序中，被运算（**Evaluate**）的可分为**常量**（Literals）和**变量**（Variables）\n",
    "```bash\n",
    "a = 1 + 2 * 3\n",
    "a += 1\n",
    "print(a)\n",
    "```\n",
    "\n",
    "上面代码中，`1`、`2`、`3`，都是**常量**。*Literal*的意思是“字面的”，顾名思义，常量的值就是它字面上的值。`1` 的值，就是 1\n",
    "\n",
    "第 1 句中的 `+`、`*`，是**操作符**（Operators），它用来对其左右的值进行相应的*运算*而后得到一个值。\n",
    "\n",
    "*值*是程序的基础成分（Building blocks），就像盖房子的砖块\n",
    "\n",
    "*常量*，当然有个*值*——就是它们字面所表达的值\n",
    "\n",
    "在 Python 中每个函数都有*返回值*，即便你在定义一个函数的时候没有设定返回值，它也会加上默认的返回值 `None`\n",
    "\n",
    "### Types of Values\n",
    "\n",
    "在编程语言中，总是包含最基本的三种数据类型：\n",
    "\n",
    "> - 布尔值（Boolean Value)\n",
    "> - 数字（Numbers）：整数（Int）、浮点数（Float）、复数（Complex Numbers）\n",
    "> - 字符串（Strings）\n",
    "\n",
    "既然有不同类型的数据，它们就分别对应着不同类型的值。\n",
    "\n",
    "**Type Casting**（类型转换）：\n",
    "\n",
    "> - 将字符串转换为数字用 `int()`、`float()`；\n",
    "> - 将数字转换成字符串用 `str()`；\n",
    "\n",
    "### Operator\n",
    "\n",
    "针对不同的数据类型，有各自专用的**操作符**，Python官方文档的完整操作符优先级列表：\n",
    "\n",
    "> https://docs.python.org/3/reference/expressions.html#operator-precedence\n",
    "\n",
    "大体上是数值操作符的优先级大于逻辑操作符，大于布尔运算操作符的优先级\n",
    "\n",
    "\n",
    "\n",
    "### Container\n",
    "\n",
    "String, List, Array, Set, Dictionary\n",
    "\n",
    "\n",
    "\n",
    "### 更复杂的运算\n",
    "\n",
    "Python中更复杂的运算由内置函数（[Built-in Functions](https://docs.python.org/3/library/functions.html)）完成：\n",
    "\n",
    "| (                                                            | Python                                                       | Built-in                                                     | Functions                                                    | )                                                            |\n",
    "| ------------------------------------------------------------ | ------------------------------------------------------------ | ------------------------------------------------------------ | ------------------------------------------------------------ | ------------------------------------------------------------ |\n",
    "| [abs()](https://docs.python.org/3/library/functions.html#abs) | [delattr()](https://docs.python.org/3/library/functions.html#delattr) | [hash()](https://docs.python.org/3/library/functions.html#hash) | [memoryview()](https://docs.python.org/3/library/functions.html#func-memoryview) | [set()](https://docs.python.org/3/library/functions.html#func-set) |\n",
    "| [all()](https://docs.python.org/3/library/functions.html#all) | [dict()](https://docs.python.org/3/library/functions.html#func-dict) | [help()](https://docs.python.org/3/library/functions.html#help) | [min()](https://docs.python.org/3/library/functions.html#min) | [setattr()](https://docs.python.org/3/library/functions.html#setattr) |\n",
    "| [any()](https://docs.python.org/3/library/functions.html#any) | [dir()](https://docs.python.org/3/library/functions.html#dir) | [hex()](https://docs.python.org/3/library/functions.html#hex) | [next()](https://docs.python.org/3/library/functions.html#next) | [slice()](https://docs.python.org/3/library/functions.html#slice) |\n",
    "| [ascii()](https://docs.python.org/3/library/functions.html#ascii) | [divmod()](https://docs.python.org/3/library/functions.html#divmod) | [id()](https://docs.python.org/3/library/functions.html#id)  | [object()](https://docs.python.org/3/library/functions.html#object) | [sorted()](https://docs.python.org/3/library/functions.html#sorted) |\n",
    "| [bin()](https://docs.python.org/3/library/functions.html#bin) | [enumerate()](https://docs.python.org/3/library/functions.html#enumerate) | [input()](https://docs.python.org/3/library/functions.html#input) | [oct()](https://docs.python.org/3/library/functions.html#oct) | [staticmethod()](https://docs.python.org/3/library/functions.html#staticmethod) |\n",
    "| [bool()](https://docs.python.org/3/library/functions.html#bool) | [eval()](https://docs.python.org/3/library/functions.html#eval) | [int()](https://docs.python.org/3/library/functions.html#int) | [open()](https://docs.python.org/3/library/functions.html#open) | [str()](https://docs.python.org/3/library/functions.html#func-str) |\n",
    "| [breakpoint()](https://docs.python.org/3/library/functions.html#breakpoint) | [exec()](https://docs.python.org/3/library/functions.html#exec) | [isinstance()](https://docs.python.org/3/library/functions.html#isinstance) | [ord()](https://docs.python.org/3/library/functions.html#ord) | [sum()](https://docs.python.org/3/library/functions.html#sum) |\n",
    "| [bytearray()](https://docs.python.org/3/library/functions.html#func-bytearray) | [filter()](https://docs.python.org/3/library/functions.html#filter) | [issubclass()](https://docs.python.org/3/library/functions.html#issubclass) | [pow()](https://docs.python.org/3/library/functions.html#pow) | [super()](https://docs.python.org/3/library/functions.html#super) |\n",
    "| [bytes()](https://docs.python.org/3/library/functions.html#func-bytes) | [float()](https://docs.python.org/3/library/functions.html#float) | [iter()](https://docs.python.org/3/library/functions.html#iter) | [print()](https://docs.python.org/3/library/functions.html#print) | [tuple()](https://docs.python.org/3/library/functions.html#func-tuple) |\n",
    "| [callable()](https://docs.python.org/3/library/functions.html#callable) | [format()](https://docs.python.org/3/library/functions.html#format) | [len()](https://docs.python.org/3/library/functions.html#len) | [property()](https://docs.python.org/3/library/functions.html#property) | [type()](https://docs.python.org/3/library/functions.html#type) |\n",
    "| [chr()](https://docs.python.org/3/library/functions.html#chr) | [frozenset()](https://docs.python.org/3/library/functions.html#func-frozenset) | [list()](https://docs.python.org/3/library/functions.html#func-list) | [range()](https://docs.python.org/3/library/functions.html#func-range) | [vars()](https://docs.python.org/3/library/functions.html#vars) |\n",
    "| [classmethod()](https://docs.python.org/3/library/functions.html#classmethod) | [getattr()](https://docs.python.org/3/library/functions.html#getattr) | [locals()](https://docs.python.org/3/library/functions.html#locals) | [repr()](https://docs.python.org/3/library/functions.html#repr) | [zip()](https://docs.python.org/3/library/functions.html#zip) |\n",
    "| [compile()](https://docs.python.org/3/library/functions.html#compile) | [globals()](https://docs.python.org/3/library/functions.html#globals) | [map()](https://docs.python.org/3/library/functions.html#map) | [reversed()](https://docs.python.org/3/library/functions.html#reversed) | [**import**()](https://docs.python.org/3/library/functions.html#__import__) |\n",
    "| [complex()](https://docs.python.org/3/library/functions.html#complex) | [hasattr()](https://docs.python.org/3/library/functions.html#hasattr) | [max()](https://docs.python.org/3/library/functions.html#max) | [round()](https://docs.python.org/3/library/functions.html#round) |                                                              |\n",
    "\n",
    "但有些更高级的运算，需要借助标准库（[Standard Library](https://docs.python.org/3/library/index.html)）来完成，如调用标准库（Standard Library）中的 math 模块（Module）来完成三角函数的计算\n",
    "\n",
    "```bash\n",
    "import math\n",
    "math.sin(5)\n",
    "```\n",
    "\n",
    "代码 `math.sin(5)` 这里的 `.`，也可以被理解为 “操作符”，它的作用是：\n",
    "\n",
    "> 从其它模块中调用函数。\n",
    "\n",
    "其实就是属性引用（attribute reference），可以理解为`sin`函数是`math`这个标准库的一个属性。属性（`attribute`）有特征（`property`？）属性（名词性属性）和方法（`method`）属性（动词性属性）\n",
    "\n",
    "`attribute`这个概念原本在类`Class`的定义中表达的。\n",
    "\n",
    "\n",
    "\n",
    "### 关于布尔值的补充\n",
    "\n",
    "这是因为 Python 将 `True` 定义为：\n",
    "\n",
    "> By default, an object is considered true unless its class defines either a __bool__() method that returns `False` or a __len__() method that returns zero, when called with the object.\n",
    ">\n",
    "> https://docs.python.org/3/library/stdtypes.html#truth-value-testing\n",
    "\n",
    "这一段文字，初学者是看不懂的。但下一段就好理解了：\n",
    "\n",
    "> Here are most of the built-in objects considered `False`:\n",
    ">\n",
    "> > - constants defined to be false: `None` and `False`.\n",
    "> > - zero of any numeric type: `0`, `0.0`, `0j`, `Decimal(0)`, `Fraction(0, 1)`\n",
    "> > - empty sequences and collections: `''`, `()`, `[]`, `{}`, `set()`, `range(0)`\n",
    "\n",
    "所以，`'Python'` 是个非空的字符串，即，不属于是 `empty sequences`，所以它不被认为是 `False`，即，它的布尔值是 `True`\n",
    "\n",
    "于是，这么理解就轻松了：\n",
    "\n",
    "> 每个变量或者常量，除了它们的值之外，同时还相当于有一个对应的布尔值。\n",
    "\n",
    "### 关于值的类型的补充\n",
    "\n",
    "除了数字、布尔值、字符串，以及上一小节介绍的列表之外，还有若干数据类型，比如 `range()`（等差数列）、`tuple`（元组）、`set`（集合）、`dictionary`（字典），再比如 `Date Type`（日期）等等。\n",
    "\n",
    "他们之间有时候也需要进行相应的Type Casting\n"
   ]
  },
  {
   "cell_type": "markdown",
   "id": "d2e0e0d6-ade4-4e2e-80c5-14d10ab075f3",
   "metadata": {},
   "source": [
    "## Python tutorial"
   ]
  },
  {
   "cell_type": "markdown",
   "id": "03481bc5-ae41-43ab-9d7a-b8095673df53",
   "metadata": {},
   "source": [
    "the learing order: Python tutorial(informal to basic concepts and features of the Python language and system) -> Thy Python Language Reference & The Python Standard Library(formal definition of syntax and lexical, a description of standard objects and modules) -> High-level application, such as write API and third-part library "
   ]
  },
  {
   "cell_type": "markdown",
   "id": "464af9f2-da95-4ffe-b6aa-a85dd133e514",
   "metadata": {},
   "source": [
    "Python可是用来编写自动化脚本工具，如对文本批量的查找替换，整理和重命名。写一个小型的自定义数据库；或GUI应用，或一个小游戏。\n",
    "用Python给C/C++编写测试套件。\n",
    "Python有有内置的高级数据类型，如灵活的数组和字典，提供更多的错误检查等。\n",
    "\n",
    "可以把 Python 解释器链接到用 C 写的应用程序中，并把它作为该应用程序的扩展或命令语言。"
   ]
  },
  {
   "cell_type": "markdown",
   "id": "73b15874-d174-41d3-9cdc-1d7521bdcdef",
   "metadata": {},
   "source": [
    "### Using the Python interpreter"
   ]
  },
  {
   "cell_type": "markdown",
   "id": "9e1dfe1c-ee1a-4cb1-b077-edb7cf66b4b3",
   "metadata": {},
   "source": [
    "`/usr/local/bin` is for Unix-like system. This is referred to [FileSystem Hierarchy Standard](https://www.pathname.com/fhs/). This is an appendix article for file system: https://www.aplawrence.com/Opinion/religion.html\n",
    "\n",
    "`/usr/local`: The /usr/local hierarchy is for use by the system administrator when installing software locally. It needs to\n",
    "be safe from being overwritten when the system software is updated. It may be used for programs and data that\n",
    "are shareable amongst a group of hosts, but not found in /usr.\n",
    "Locally installed software must be placed within /usr/local rather than /usr unless it is being installed to\n",
    "replace or upgrade software in /usr.\n",
    "> `/usr/local` 层次结构是供系统管理员在本地安装软件时使用的。当系统软件被更新时，它需要被安全地覆盖掉。它可以用于在一组主机中可以共享的程序和数据，但在/usr中找不到。本地安装的软件必须放在/usr/local而不是/usr中，除非它被安装来替换或升级/usr中的软件。\n",
    "\n",
    "`/bin` : Essential user command binaries (for use by all users)\n",
    "\n",
    "`/usr/local/bin` is Local binaries diretory where command binaries located for system administrator installed software.\n",
    "\n",
    "[shell](https://en.wikipedia.org/wiki/Shell_(computing)): In [computing](https://en.wikipedia.org/wiki/Computing), a **shell** is a computer program that exposes an [operating system](https://en.wikipedia.org/wiki/Operating_system)'s services to a human user or other programs. In general, operating system shells use either a [command-line interface](https://en.wikipedia.org/wiki/Command-line_interface) (CLI) or [graphical user interface](https://en.wikipedia.org/wiki/Graphical_user_interface) (GUI), depending on a computer's role and particular operation. It is named a shell because it is the outermost layer around the operating system.[[1\\]](https://en.wikipedia.org/wiki/Shell_(computing)#cite_note-Economist-1)[[2\\]](https://en.wikipedia.org/wiki/Shell_(computing)#cite_note-JargonFile-2)\n",
    "\n",
    "> 在[计算机](https://en.wikipedia.org/wiki/Computing)中，**shell**是一个计算机程序，它将[操作系统](https://en.wikipedia.org/wiki/Operating_system)的服务暴露给人类用户或其他程序。一般来说，操作系统的shell使用[命令行界面](https://en.wikipedia.org/wiki/Command-line_interface) (CLI)或[图形用户界面](https://en.wikipedia.org/wiki/Graphical_user_interface) (GUI)，这取决于计算机的角色和特定操作。它被命名为shell，因为它是围绕操作系统的最外层。[[1]](https://en.wikipedia.org/wiki/Shell_(computing)#cite_note-Economist-1)[[2]](https://en.wikipedia.org/wiki/Shell_(computing)#cite_note-JargonFile-2)\n",
    "\n",
    "[Command Prompt](https://en.wikipedia.org/wiki/Windows_Command_Prompt), a CLI shell in Windows; [Bash](https://en.wikipedia.org/wiki/Bash_(Unix_shell)), a widely adopted [Unix shell](https://en.wikipedia.org/wiki/Unix_shell)"
   ]
  },
  {
   "cell_type": "markdown",
   "id": "cda50825-c6ee-4e03-aa06-37ee2a12e1db",
   "metadata": {},
   "source": [
    "[IDLE](https://en.wikipedia.org/wiki/IDLE) Python is an [integrated development environment](https://en.wikipedia.org/wiki/Integrated_development_environment) for [Python](https://en.wikipedia.org/wiki/Python_(programming_language)), which has been bundled with the default implementation of the language since 1.5.2b1.[[4\\]](https://en.wikipedia.org/wiki/IDLE#cite_note-4)[[5\\]](https://en.wikipedia.org/wiki/IDLE#cite_note-5) It is packaged as an optional part of the Python packaging with many [Linux distributions](https://en.wikipedia.org/wiki/Linux_distributions). It is completely written in Python and the [Tkinter](https://en.wikipedia.org/wiki/Tkinter) GUI toolkit ([wrapper](https://en.wikipedia.org/wiki/Wrapper_function) functions for [Tcl](https://en.wikipedia.org/wiki/Tcl)/[Tk](https://en.wikipedia.org/wiki/Tk_(framework)))."
   ]
  },
  {
   "cell_type": "markdown",
   "id": "bfbfb838-722c-4a05-b63f-55d2ec23b8fc",
   "metadata": {},
   "source": [
    "[the top 3 easter eggs in Python](https://www.alanzucconi.com/2015/10/29/the-top-5-easter-eggs-in-python/)\n",
    "\n",
    "`python -c command [arg]...` is a way to starting interpreter in shell, but it doesn't print anything in windows's shell prompt.\n",
    "\n",
    "`python -m module [arg]...` works in windows's shell prompt.\n",
    "\n",
    "more on [Command line and environment](https://docs.python.org/3/using/cmdline.html)"
   ]
  },
  {
   "cell_type": "markdown",
   "id": "4c2b701e-f121-4a6d-9fe0-74144882d745",
   "metadata": {},
   "source": [
    "For example, to declare that Windows-1252 encoding is to be used, the first line of your source code file should be:\n",
    "```Python\n",
    "# -*- coding: cp1252 -*-\n",
    "```\n",
    "\n",
    "One exception to the first line rule is when the source code starts with a UNIX “shebang” line. In this case, the encoding declaration should be added as the second line of the file. For example:\n",
    "```Python\n",
    "#!/usr/bin/env python3\n",
    "# -*- coding: cp1252 -*-\n",
    "```"
   ]
  },
  {
   "cell_type": "markdown",
   "id": "c6bcd3be-1c2b-4c0d-bd88-e83185c659b7",
   "metadata": {},
   "source": [
    "### An Informal Introduction to Python"
   ]
  },
  {
   "cell_type": "markdown",
   "id": "62d1323b-e9b9-4b73-86fd-2eaa9a5f56b3",
   "metadata": {},
   "source": [
    "Using Python as a calculator:\n",
    "the operator  `+`, `-`, `*` and `/` work just like in most other languages\n",
    "\n",
    "note: division `/` alwasy returens a floating point, `10 / 5` will return `2.0`. \n",
    "foor division `//` makes the floored quotient, operator `%` makes the remainder.\n",
    "\n",
    "`**` operator to calculate power\n",
    "\n",
    "`=` is an assignment operator"
   ]
  },
  {
   "cell_type": "code",
   "execution_count": 72,
   "id": "ffe22ee1-2831-4d2e-8edb-58e7b3315807",
   "metadata": {},
   "outputs": [
    {
     "data": {
      "text/plain": [
       "'spam eggs'"
      ]
     },
     "execution_count": 72,
     "metadata": {},
     "output_type": "execute_result"
    },
    {
     "data": {
      "text/plain": [
       "\"doesn't\""
      ]
     },
     "execution_count": 72,
     "metadata": {},
     "output_type": "execute_result"
    },
    {
     "data": {
      "text/plain": [
       "\"doesn't\""
      ]
     },
     "execution_count": 72,
     "metadata": {},
     "output_type": "execute_result"
    },
    {
     "data": {
      "text/plain": [
       "'\"Yes,\" they said.'"
      ]
     },
     "execution_count": 72,
     "metadata": {},
     "output_type": "execute_result"
    },
    {
     "data": {
      "text/plain": [
       "'\"Yes,\" they said.'"
      ]
     },
     "execution_count": 72,
     "metadata": {},
     "output_type": "execute_result"
    },
    {
     "data": {
      "text/plain": [
       "'\"Isn\\'t,\" they said.'"
      ]
     },
     "execution_count": 72,
     "metadata": {},
     "output_type": "execute_result"
    },
    {
     "name": "stdout",
     "output_type": "stream",
     "text": [
      "doesn't\n"
     ]
    }
   ],
   "source": [
    "# single quotes & double quotes for strings\n",
    "\n",
    "'spam eggs'  # single quotes, in interactive mode, this will be single quote\n",
    "\n",
    "'doesn\\'t'  # use \\' to escape the single quote..., output is double quote\n",
    "\n",
    "\"doesn't\"  # ...or use double quotes instead\n",
    "\n",
    "'\"Yes,\" they said.'\n",
    "\n",
    "\"\\\"Yes,\\\" they said.\"  # the output quotes change\n",
    "\n",
    "'\"Isn\\'t,\" they said.'\n",
    "\n",
    "print(\"doesn't\")"
   ]
  },
  {
   "cell_type": "markdown",
   "id": "a1376813-38f3-4618-9c61-b8bf343df7db",
   "metadata": {},
   "source": [
    "interactive interpreter  交互式解释器；就像jupyter notebook 使用的解释器就是交互式解释器"
   ]
  },
  {
   "cell_type": "code",
   "execution_count": 73,
   "id": "d043ab7c-6b6d-4866-b505-2e92a2f34b95",
   "metadata": {},
   "outputs": [
    {
     "data": {
      "text/plain": [
       "'\"It\\'t,\" they said'"
      ]
     },
     "execution_count": 73,
     "metadata": {},
     "output_type": "execute_result"
    },
    {
     "name": "stdout",
     "output_type": "stream",
     "text": [
      "\"It't,\" they said\n",
      "First line. \n",
      "Second line.\n"
     ]
    }
   ],
   "source": [
    "# The print() function produces a more readable output, \n",
    "# by omitting the enclosing quotes and by printing escaped and special characters:\n",
    "\n",
    "'\"It\\'t,\" they said'\n",
    "print('\"It\\'t,\" they said')\n",
    "\n",
    "s = 'First line. \\nSecond line.'\n",
    "print('First line. \\nSecond line.')"
   ]
  },
  {
   "cell_type": "code",
   "execution_count": 74,
   "id": "b39e8c26-5a7d-46d7-9307-b0a2b44c74cb",
   "metadata": {},
   "outputs": [
    {
     "name": "stdout",
     "output_type": "stream",
     "text": [
      "C:\\some\n",
      "ame\n",
      "C:\\some\\name\n"
     ]
    }
   ],
   "source": [
    "#  use raw strings by adding an r before the first quote:\n",
    "print('C:\\some\\name')  # here \\n means newline!\n",
    "\n",
    "print(r'C:\\some\\name')  # note the r before the quote"
   ]
  },
  {
   "cell_type": "markdown",
   "id": "c9deec49-bb88-4558-9b5c-085ff4de5538",
   "metadata": {},
   "source": [
    "using triple-quotes: `\"\"\"...\"\"\"` or `'''...'''` to indicate String literals can span multiple lines\n"
   ]
  },
  {
   "cell_type": "code",
   "execution_count": 75,
   "id": "46624d3e-9287-4d87-a207-c4a950229806",
   "metadata": {},
   "outputs": [
    {
     "name": "stdout",
     "output_type": "stream",
     "text": [
      "Usage: thingy [OPTIONS]\n",
      "     -h                        Display this usage message\n",
      "     -H hostname               Hostname to connect to\n",
      "\n"
     ]
    }
   ],
   "source": [
    "# note that the initial newline is not included\n",
    "\n",
    "print(\"\"\"\\\n",
    "Usage: thingy [OPTIONS]\n",
    "     -h                        Display this usage message\n",
    "     -H hostname               Hostname to connect to\n",
    "\"\"\")"
   ]
  },
  {
   "cell_type": "code",
   "execution_count": 76,
   "id": "bf0e713e-343c-4d8f-b909-dbf46782120c",
   "metadata": {},
   "outputs": [
    {
     "data": {
      "text/plain": [
       "'unununium'"
      ]
     },
     "execution_count": 76,
     "metadata": {},
     "output_type": "execute_result"
    },
    {
     "data": {
      "text/plain": [
       "'Python'"
      ]
     },
     "execution_count": 76,
     "metadata": {},
     "output_type": "execute_result"
    },
    {
     "data": {
      "text/plain": [
       "'Put several strings within parentheses to have them joined together.'"
      ]
     },
     "execution_count": 76,
     "metadata": {},
     "output_type": "execute_result"
    }
   ],
   "source": [
    "# String can be concatenated (glued together) with the + operator, \n",
    "# and repeated with *:\n",
    "3 * 'un' + 'ium'\n",
    "\n",
    "# Two or more string literals (i.e. the ones enclosed between quotes) next to each other are \n",
    "# automatically concatenated.\n",
    "'Py' 'thon'\n",
    "\n",
    "text = ('Put several strings within parentheses '\n",
    "        'to have them joined together.')\n",
    "text"
   ]
  },
  {
   "cell_type": "code",
   "execution_count": 77,
   "id": "32698779-3735-4d31-abfa-55363f39f200",
   "metadata": {},
   "outputs": [
    {
     "data": {
      "text/plain": [
       "'P'"
      ]
     },
     "execution_count": 77,
     "metadata": {},
     "output_type": "execute_result"
    },
    {
     "data": {
      "text/plain": [
       "'n'"
      ]
     },
     "execution_count": 77,
     "metadata": {},
     "output_type": "execute_result"
    }
   ],
   "source": [
    "# String can be indexed, a character of a string is a string of size one:\n",
    "word = 'Python'\n",
    "word[0]\n",
    "word[5]"
   ]
  },
  {
   "cell_type": "code",
   "execution_count": 78,
   "id": "2644d4ca-2959-4824-98cb-e1b7145c9ef1",
   "metadata": {},
   "outputs": [
    {
     "data": {
      "text/plain": [
       "'on'"
      ]
     },
     "execution_count": 78,
     "metadata": {},
     "output_type": "execute_result"
    },
    {
     "data": {
      "text/plain": [
       "'Pyth'"
      ]
     },
     "execution_count": 78,
     "metadata": {},
     "output_type": "execute_result"
    }
   ],
   "source": [
    "word[-2:]\n",
    "word[:-2]"
   ]
  },
  {
   "cell_type": "code",
   "execution_count": 79,
   "id": "42d66103-7cfe-40f4-99fa-b3f13bbb68be",
   "metadata": {},
   "outputs": [
    {
     "data": {
      "text/plain": [
       "6"
      ]
     },
     "execution_count": 79,
     "metadata": {},
     "output_type": "execute_result"
    }
   ],
   "source": [
    "len(word)"
   ]
  },
  {
   "cell_type": "markdown",
   "id": "bd4fc5a1-7107-4831-bf07-b991c897ad1d",
   "metadata": {},
   "source": [
    "Type `String` reference:\n",
    "\n",
    "[Text Sequence Type — str](https://docs.python.org/3/library/stdtypes.html#textseq)\n",
    "\n",
    "Strings are examples of *sequence types*, and support the common operations supported by such types.\n",
    "\n",
    "[String Methods](https://docs.python.org/3/library/stdtypes.html#string-methods)\n",
    "\n",
    "Strings support a large number of methods for basic transformations and searching.\n",
    "\n",
    "[Formatted string literals](https://docs.python.org/3/reference/lexical_analysis.html#f-strings)\n",
    "\n",
    "String literals that have embedded expressions.\n",
    "\n",
    "[Format String Syntax](https://docs.python.org/3/library/string.html#formatstrings)\n",
    "\n",
    "Information about string formatting with [`str.format()`](https://docs.python.org/3/library/stdtypes.html#str.format).\n",
    "\n",
    "[printf-style String Formatting](https://docs.python.org/3/library/stdtypes.html#old-string-formatting)\n",
    "\n",
    "The old formatting operations invoked when strings are the left operand of the `%` operator are described in more detail here."
   ]
  },
  {
   "cell_type": "markdown",
   "id": "c990c18e-94d4-4711-973e-182a6fa9fe75",
   "metadata": {},
   "source": [
    "**字符串部分需要刻意练习的部分**：Format String，格式化部分"
   ]
  },
  {
   "cell_type": "markdown",
   "id": "17fc2c99-dfb4-467d-b959-068dc5e809c0",
   "metadata": {},
   "source": [
    "**list**\n",
    "\n",
    "Lists might contain items of different types, but usually the items all have the same type.\n",
    "\n",
    "List can be indexed and sliced. Note the [shallow copy](https://docs.python.org/3/library/copy.html#shallow-vs-deep-copy) of the list"
   ]
  },
  {
   "cell_type": "code",
   "execution_count": 80,
   "id": "9a4d300e-1338-4282-9ec4-1d9dfad46fd8",
   "metadata": {},
   "outputs": [
    {
     "data": {
      "text/plain": [
       "[1, 4, 9, 16, 25]"
      ]
     },
     "execution_count": 80,
     "metadata": {},
     "output_type": "execute_result"
    },
    {
     "data": {
      "text/plain": [
       "[1, 4, 9, 16, 25]"
      ]
     },
     "execution_count": 80,
     "metadata": {},
     "output_type": "execute_result"
    },
    {
     "data": {
      "text/plain": [
       "True"
      ]
     },
     "execution_count": 80,
     "metadata": {},
     "output_type": "execute_result"
    },
    {
     "data": {
      "text/plain": [
       "[1, 4, 9, 16, 25]"
      ]
     },
     "execution_count": 80,
     "metadata": {},
     "output_type": "execute_result"
    },
    {
     "data": {
      "text/plain": [
       "True"
      ]
     },
     "execution_count": 80,
     "metadata": {},
     "output_type": "execute_result"
    }
   ],
   "source": [
    "# reference: https://docs.python.org/3/library/copy.html\n",
    "import copy\n",
    "squares = [x**2 for x in range(1, 6)]\n",
    "squares\n",
    "\n",
    "shallow_squares = squares[:]\n",
    "shallow_squares\n",
    "\n",
    "shallow_squares == squares\n",
    "\n",
    "deep_squares = copy.deepcopy(squares)\n",
    "deep_squares\n",
    "\n",
    "deep_squares == squares"
   ]
  },
  {
   "cell_type": "markdown",
   "id": "d3555feb-843a-4e84-a078-5dd36d1e0c90",
   "metadata": {},
   "source": [
    "List operation includes:\n",
    "contatenation: `+`; mutable operation: `square[1:2]=5`; \n",
    "add new item at the end of the list: `square.append(36)`;\n",
    "len the list: `len(square)`;\n",
    "nest list: `square[6] = [49, 64]`"
   ]
  },
  {
   "cell_type": "markdown",
   "id": "a978a3a8-a049-47b1-9997-c80fd64ae104",
   "metadata": {},
   "source": [
    "**towards programming**"
   ]
  },
  {
   "cell_type": "code",
   "execution_count": 81,
   "id": "34a6bcfd-c887-4743-8dce-13cddb081c5d",
   "metadata": {
    "tags": []
   },
   "outputs": [
    {
     "name": "stdout",
     "output_type": "stream",
     "text": [
      "1\n",
      "1\n",
      "2\n",
      "3\n",
      "5\n",
      "8\n",
      "13\n",
      "21\n",
      "34\n",
      "55\n",
      "89\n"
     ]
    }
   ],
   "source": [
    "# Finonacci series: the sum of two elements defines the next\n",
    "a, b = 1, 1\n",
    "while a < 100:\n",
    "    print(a)\n",
    "    a, b = b, a+b"
   ]
  },
  {
   "cell_type": "markdown",
   "id": "610dbccf-777f-428e-a8d5-e96fb1ef38ef",
   "metadata": {},
   "source": [
    "the example introduce several new features:\n",
    "- multiple assignment\n",
    "- The [`while`](https://docs.python.org/3/reference/compound_stmts.html#while) loop \n",
    "- indentation os Python's way of grouping statements.\n",
    "- the `print()` function, it's explaination: `print(*objects, sep=' ', end='\\n', file=sys.stdout, flush=False)`\n",
    "\n",
    "*note*: any type value has a Boolean value itself, the Boolean value of any no-empty type value is `Ture`; the Boolean value of empty type value, like zero num, empty List, is `False`"
   ]
  },
  {
   "cell_type": "markdown",
   "id": "ae6ec9cf-0504-4208-bc50-f056057a7f09",
   "metadata": {},
   "source": [
    "### More Control Flow Tools"
   ]
  },
  {
   "cell_type": "markdown",
   "id": "e77921a3-037d-4a16-a70d-7eb1360055a2",
   "metadata": {},
   "source": [
    "**`if Statement`**\n",
    "\n",
    "example:"
   ]
  },
  {
   "cell_type": "code",
   "execution_count": 82,
   "id": "d80a3781-a0e7-490b-82e8-228fd46afad0",
   "metadata": {},
   "outputs": [
    {
     "name": "stdin",
     "output_type": "stream",
     "text": [
      "Please enter an integar:  2\n"
     ]
    },
    {
     "name": "stdout",
     "output_type": "stream",
     "text": [
      "More\n"
     ]
    }
   ],
   "source": [
    "num = int(input(\"Please enter an integar: \"))\n",
    "\n",
    "if num < 0:\n",
    "    x = 0\n",
    "    print(\"Negative changed to zero\")\n",
    "elif num == 0:\n",
    "    print(\"Zero\")\n",
    "elif num == 1:\n",
    "    print(\"Single\")\n",
    "else:\n",
    "    print(\"More\")\n",
    "    \n",
    "# If you’re comparing the same value to several constants, or checking for specific types or attributes, \n",
    "# you may also find the match statement usefulhttps://docs.python.org/3/tutorial/controlflow.html#tut-match"
   ]
  },
  {
   "cell_type": "markdown",
   "id": "de8fa1d6-4df4-4199-9775-3f9522935293",
   "metadata": {},
   "source": [
    "`for` **statements**\n",
    "\n",
    "Python’s `for` statement iterates over the items of any sequence (a list or a string), in the order that they appear in the sequence. For example:"
   ]
  },
  {
   "cell_type": "code",
   "execution_count": 83,
   "id": "eb875bea-6fd6-4ded-bdb8-9b1238df4699",
   "metadata": {},
   "outputs": [
    {
     "name": "stdout",
     "output_type": "stream",
     "text": [
      "cat: 3\n",
      "window: 6\n",
      "defenestrate: 12\n"
     ]
    }
   ],
   "source": [
    "# Measure some strings\n",
    "words = ['cat', 'window', 'defenestrate']\n",
    "for w in words:\n",
    "    print(w, len(w), sep=\": \")"
   ]
  },
  {
   "cell_type": "markdown",
   "id": "671bb0c2-c699-435a-a385-b8cd1ed9bad8",
   "metadata": {},
   "source": [
    "it is usually more straight-forward to loop over a copy of the collection or to create a new collection:\n",
    "> 通常更直接的做法是在一个集合的副本上循环，或者创建一个新的集合。"
   ]
  },
  {
   "cell_type": "code",
   "execution_count": 84,
   "id": "c0198c7d-7ca6-47f6-b576-1ce5f45b8884",
   "metadata": {},
   "outputs": [
    {
     "data": {
      "text/plain": [
       "{'Hans': 'active', '景太郎': 'active'}"
      ]
     },
     "execution_count": 84,
     "metadata": {},
     "output_type": "execute_result"
    }
   ],
   "source": [
    "# Create a sample collection\n",
    "users = {'Hans': 'active', 'Éléonore': 'inactive', '景太郎': 'active'}\n",
    "\n",
    "# Strategy: Create a new collection\n",
    "active_users = {}\n",
    "for user, status in users.items():\n",
    "    if status == 'active':\n",
    "        active_users[user] = status\n",
    "        \n",
    "active_users"
   ]
  },
  {
   "cell_type": "markdown",
   "id": "c16bbb4e-f0d8-48fe-a0da-019f38813c3c",
   "metadata": {},
   "source": [
    "the `range()` function. \n",
    "It generates arithmetic progressions:"
   ]
  },
  {
   "cell_type": "code",
   "execution_count": 85,
   "id": "736c9149-7ba1-426d-81f1-1cc8dfd568e0",
   "metadata": {},
   "outputs": [
    {
     "name": "stdout",
     "output_type": "stream",
     "text": [
      "0\n",
      "1\n",
      "2\n",
      "3\n",
      "4\n"
     ]
    },
    {
     "data": {
      "text/plain": [
       "[5, 6, 7, 8, 9]"
      ]
     },
     "execution_count": 85,
     "metadata": {},
     "output_type": "execute_result"
    },
    {
     "data": {
      "text/plain": [
       "[0, 3, 6, 9]"
      ]
     },
     "execution_count": 85,
     "metadata": {},
     "output_type": "execute_result"
    },
    {
     "data": {
      "text/plain": [
       "[-10, -40, -70]"
      ]
     },
     "execution_count": 85,
     "metadata": {},
     "output_type": "execute_result"
    }
   ],
   "source": [
    "for i in range(5):\n",
    "    print(i)\n",
    "    \n",
    "list(range(5, 10))\n",
    "list(range(0, 10, 3))\n",
    "list(range(-10, -100, -30))"
   ]
  },
  {
   "cell_type": "code",
   "execution_count": 86,
   "id": "4f43febf-70d1-456f-94d5-f67d4e22c21e",
   "metadata": {},
   "outputs": [
    {
     "name": "stdout",
     "output_type": "stream",
     "text": [
      "Mary\n",
      "had\n",
      "a\n",
      "little\n",
      "lamb\n",
      "Mary\n",
      "had\n",
      "a\n",
      "little\n",
      "lamb\n"
     ]
    }
   ],
   "source": [
    "# To iterate over the indices of a sequence, \n",
    "# you can combine range() and len() as follows:\n",
    "a = ['Mary', 'had', 'a', 'little', 'lamb']\n",
    "for i in range(len(a)):\n",
    "    print(a[i])\n",
    "\n",
    "# same as this:\n",
    "for item in a:\n",
    "    print(item)"
   ]
  },
  {
   "cell_type": "code",
   "execution_count": 87,
   "id": "6cc674d0-3901-43fe-ac68-81b5cc666acb",
   "metadata": {},
   "outputs": [
    {
     "name": "stdout",
     "output_type": "stream",
     "text": [
      "0 Mary\n",
      "1 had\n",
      "2 a\n",
      "3 little\n",
      "4 lamb\n"
     ]
    }
   ],
   "source": [
    "# it is convenient to use the enumerate():\n",
    "for index, item in enumerate(a):\n",
    "    print(index, item)"
   ]
  },
  {
   "cell_type": "markdown",
   "id": "33a3d1ad-1e40-435a-8aae-743cba5e689d",
   "metadata": {},
   "source": [
    " [`enumerate()`](https://docs.python.org/3/library/functions.html#enumerate) function, see [Looping Techniques](https://docs.python.org/3/tutorial/datastructures.html#tut-loopidioms)."
   ]
  },
  {
   "cell_type": "code",
   "execution_count": 88,
   "id": "94a4758d-acd3-42fc-9394-9a7a337c0764",
   "metadata": {},
   "outputs": [
    {
     "data": {
      "text/plain": [
       "range(0, 10)"
      ]
     },
     "execution_count": 88,
     "metadata": {},
     "output_type": "execute_result"
    }
   ],
   "source": [
    "range(10)"
   ]
  },
  {
   "cell_type": "markdown",
   "id": "bf7a2450-99b2-448e-ad8f-bdf5e02d0cf1",
   "metadata": {},
   "source": [
    "such an object like `range(0, 10)` is [iterable](https://docs.python.org/3/glossary.html#term-iterable), suitable as a target for functions and constructs that expect something from which they can obtain successive items until the supply is exhausted.\n",
    "\n",
    "We have seen that the [`for`](https://docs.python.org/3/reference/compound_stmts.html#for) statement is such a construct, while an example of a function that takes an iterable is [`sum()`](https://docs.python.org/3/library/functions.html#sum):"
   ]
  },
  {
   "cell_type": "code",
   "execution_count": 89,
   "id": "fdda248e-da97-4f7d-b99e-82fe4dacae5b",
   "metadata": {},
   "outputs": [
    {
     "data": {
      "text/plain": [
       "6"
      ]
     },
     "execution_count": 89,
     "metadata": {},
     "output_type": "execute_result"
    }
   ],
   "source": [
    "sum(range(4))"
   ]
  },
  {
   "cell_type": "markdown",
   "id": "77b9c08b-e01f-43bf-a1a7-c154cfca736a",
   "metadata": {},
   "source": [
    "the `break` and `continue` statements, and `else` clauses on loop"
   ]
  },
  {
   "cell_type": "markdown",
   "id": "956d00ea-a8de-4a04-8c52-204ff409bb98",
   "metadata": {},
   "source": [
    "The [`break`](https://docs.python.org/3/reference/simple_stmts.html#break) statement, breaks out of the innermost enclosing [`for`](https://docs.python.org/3/reference/compound_stmts.html#for) or [`while`](https://docs.python.org/3/reference/compound_stmts.html#while) loop."
   ]
  },
  {
   "cell_type": "markdown",
   "id": "24be1e5c-76b1-4ce6-aa05-2a0bd76dcf2d",
   "metadata": {},
   "source": [
    "Loop statements may have an `else` clause; it is executed when the loop terminates through exhaustion of the iterable (with [`for`](https://docs.python.org/3/reference/compound_stmts.html#for)) or when the condition becomes false (with [`while`](https://docs.python.org/3/reference/compound_stmts.html#while)), but not when the loop is terminated by a [`break`](https://docs.python.org/3/reference/simple_stmts.html#break) statement. This is exemplified by the following loop, which searches for prime numbers:\n",
    "\n",
    "> 循环语句可以有一个 `else` 子句；当循环因遍历了迭代对象而终止时（用[`for`](https://docs.python.org/3/reference/compound_stmts.html#for)）或当条件变为假时（用[`while`](https://docs.python.org/3/reference/compound_stmts.html#while)）会执行，但当循环被[`break`](https://docs.python.org/3/reference/simple_stmts.html#break)语句终止时，就不会执行。下面的循环就是一个例子，它搜索的是质数："
   ]
  },
  {
   "cell_type": "code",
   "execution_count": 90,
   "id": "7400ec05-5961-484b-bf02-93c33b50c8fb",
   "metadata": {},
   "outputs": [
    {
     "name": "stdout",
     "output_type": "stream",
     "text": [
      "2 is a prime number\n",
      "3 is a prime number\n",
      "4 equals 2 * 2\n",
      "5 is a prime number\n",
      "6 equals 2 * 3\n",
      "7 is a prime number\n",
      "8 equals 2 * 4\n",
      "9 equals 3 * 3\n"
     ]
    }
   ],
   "source": [
    "# Look closely: the else clause belongs to the for loop, not the if statement.\n",
    "for n in range(2, 10):\n",
    "    for x in range(2, n):\n",
    "        if n % x == 0:\n",
    "            print(n, 'equals', x, '*', n//x)\n",
    "            break\n",
    "    else:\n",
    "        print(n, 'is a prime number')"
   ]
  },
  {
   "cell_type": "markdown",
   "id": "7ac98885-1534-4f68-986f-0f0604c15285",
   "metadata": {},
   "source": [
    "The [`continue`](https://docs.python.org/3/reference/simple_stmts.html#continue) statement, also borrowed from C, continues with the next iteration of the loop:"
   ]
  },
  {
   "cell_type": "code",
   "execution_count": 91,
   "id": "a5337970-fa9c-41a5-9af1-d5739ffb0981",
   "metadata": {},
   "outputs": [
    {
     "name": "stdout",
     "output_type": "stream",
     "text": [
      "Found an even number 2\n",
      "Found an odd number 3\n",
      "Found an even number 4\n",
      "Found an odd number 5\n",
      "Found an even number 6\n",
      "Found an odd number 7\n",
      "Found an even number 8\n",
      "Found an odd number 9\n",
      "Found an even number 2\n",
      "Found an odd number 3\n",
      "Found an even number 4\n",
      "Found an odd number 5\n",
      "Found an even number 6\n",
      "Found an odd number 7\n",
      "Found an even number 8\n",
      "Found an odd number 9\n"
     ]
    }
   ],
   "source": [
    "for num in range(2, 10):\n",
    "    if num % 2 == 0:\n",
    "        print(\"Found an even number\", num)\n",
    "        continue\n",
    "    print(\"Found an odd number\", num)\n",
    "    \n",
    "for num in range(2, 10):\n",
    "    if num % 2 == 0:\n",
    "        print(\"Found an even number\", num)\n",
    "    else:\n",
    "        print(\"Found an odd number\", num)"
   ]
  },
  {
   "cell_type": "markdown",
   "id": "470defa4-f300-4f19-95fb-821b9dda7684",
   "metadata": {},
   "source": [
    "The [`pass`](https://docs.python.org/3/reference/simple_stmts.html#pass) statement does nothing. It can be used when a statement is required syntactically but the program requires no action. For example:\n",
    "\n",
    "```python\n",
    "while True:\n",
    "    pass  # Busy-wait for keyboard interrupt (Ctrl+C)\n",
    "```\n",
    "\n",
    "This is commonly used for creating minimal classes:\n",
    "\n",
    "```python\n",
    "class MyEmptyClass:\n",
    "    pass\n",
    "```"
   ]
  },
  {
   "cell_type": "markdown",
   "id": "ce3ca926-9248-4a4b-a511-5e2a06bac175",
   "metadata": {},
   "source": [
    "Another place [`pass`](https://docs.python.org/3/reference/simple_stmts.html#pass) can be used is as a place-holder for a function or conditional body when you are working on new code, allowing you to keep thinking at a more abstract level. The `pass` is silently ignored:\n",
    "\n",
    "```python\n",
    "def initlog(*args):\n",
    "    pass   # Remember to implement this!\n",
    "```"
   ]
  },
  {
   "cell_type": "markdown",
   "id": "ea3f3e52-1897-4572-afe7-b1c48d0b9e68",
   "metadata": {},
   "source": [
    "A [`match`](https://docs.python.org/3/reference/compound_stmts.html#match) statement takes an expression and compares its value to successive patterns given as one or more case blocks."
   ]
  },
  {
   "cell_type": "code",
   "execution_count": 92,
   "id": "56f6cb5e-1ebc-4c3d-be13-0691532589b8",
   "metadata": {},
   "outputs": [],
   "source": [
    "def http_error(status):\n",
    "    match status:\n",
    "        case 400:\n",
    "            return \"Bad request\"\n",
    "        case 404:\n",
    "            return \"Not found\"\n",
    "        case 418:\n",
    "            return \"I'm a teapot\"\n",
    "        case _:\n",
    "            return \"Something's wrong with the internet\""
   ]
  },
  {
   "cell_type": "markdown",
   "id": "eb4c1735-d4d5-4dae-9c3d-180c97ba8764",
   "metadata": {},
   "source": [
    "*Defining Functions*"
   ]
  },
  {
   "cell_type": "code",
   "execution_count": 93,
   "id": "d76c63ac-85bd-4f50-83ed-1f0a592083de",
   "metadata": {},
   "outputs": [
    {
     "name": "stdout",
     "output_type": "stream",
     "text": [
      "0,1,1,2,3,5,8,13,21,34,55,89,\n"
     ]
    }
   ],
   "source": [
    "def fib(n):\n",
    "    \"\"\"print a Fibonacci series up to n.\"\"\"\n",
    "    a, b = 0, 1\n",
    "    while a < n:\n",
    "        print(a, end=',')\n",
    "        a, b = b, a+b\n",
    "    print()\n",
    "    \n",
    "fib(100)"
   ]
  },
  {
   "cell_type": "markdown",
   "id": "81e350b0-adb5-4179-ab0c-b1e0c2c976a0",
   "metadata": {},
   "source": [
    "The keyword `def` introduces a function definition. It must be followed by the function name and the parenthesized list of formal parameters. The statements that form the body of the function start at the next line, and must be indented.\n",
    "\n",
    "The first statement of the function body can optionally be a string literal; this string literal is the function’s documentation string, or *docstring*. (More about docstrings can be found in the section [Documentation Strings](https://docs.python.org/3/tutorial/controlflow.html#tut-docstrings).) "
   ]
  },
  {
   "cell_type": "markdown",
   "id": "36f074fd-50c0-42b2-9ede-266e90524587",
   "metadata": {},
   "source": [
    "There are tools which use docstrings to automatically produce online or printed documentation, or to let the user interactively browse through code; it’s good practice to include docstrings in code that you write, so make a habit of it."
   ]
  },
  {
   "cell_type": "code",
   "execution_count": 94,
   "id": "7b6b044b-765f-4f2e-b34d-1edb7168b81f",
   "metadata": {},
   "outputs": [
    {
     "data": {
      "text/plain": [
       "[<symbol 'fib'>]"
      ]
     },
     "execution_count": 94,
     "metadata": {},
     "output_type": "execute_result"
    }
   ],
   "source": [
    "import symtable\n",
    "s = symtable.symtable('fib', 'Python-pracise.ipynb', 'exec')\n",
    "s.get_symbols()"
   ]
  },
  {
   "cell_type": "markdown",
   "id": "8d04edd1-e282-45ef-9567-61002b0ee76f",
   "metadata": {},
   "source": [
    "The actual parameters (arguments) to a function call are introduced in the local symbol table of the called function when it is called; thus, arguments are passed using call by value (where the value is always an object reference, not the value of the object).\n",
    "\n",
    "A function definition associates the function name with the function object in the current symbol table. The interpreter recognizes the object pointed to by that name as a user-defined function. Other names can also point to that same function object and can also be used to access the function:"
   ]
  },
  {
   "cell_type": "code",
   "execution_count": 95,
   "id": "cd5d5452-3ff5-4ebb-861f-903b00ab335a",
   "metadata": {},
   "outputs": [
    {
     "data": {
      "text/plain": [
       "<function __main__.fib(n)>"
      ]
     },
     "execution_count": 95,
     "metadata": {},
     "output_type": "execute_result"
    },
    {
     "name": "stdout",
     "output_type": "stream",
     "text": [
      "0,1,1,2,3,5,8,13,21,34,55,89,\n",
      "0,1,1,2,3,5,8,13,21,34,55,89,\n",
      "None\n"
     ]
    }
   ],
   "source": [
    "fib\n",
    "\n",
    "f = fib\n",
    "f(100)\n",
    "print(f(100))"
   ]
  },
  {
   "cell_type": "markdown",
   "id": "8dc8423e-7629-4629-9ff9-dd6feae4c624",
   "metadata": {},
   "source": [
    "**more on defining function**"
   ]
  },
  {
   "cell_type": "markdown",
   "id": "c351d50e-74ac-45ad-a8ab-17aa2fec8ff6",
   "metadata": {},
   "source": [
    "There are three forms of arguments, which can be combined.\n",
    "\n",
    "*Default Argument Values*\n",
    "\n",
    "The most useful form is to specify a default value for one or more arguments. This creates a function that can be called with fewer arguments than it is defined to allow. For example:"
   ]
  },
  {
   "cell_type": "code",
   "execution_count": 96,
   "id": "d6524d71-2150-482f-9535-f9148472a6e6",
   "metadata": {},
   "outputs": [
    {
     "name": "stdin",
     "output_type": "stream",
     "text": [
      "Do you really want to quit? y\n"
     ]
    },
    {
     "data": {
      "text/plain": [
       "True"
      ]
     },
     "execution_count": 96,
     "metadata": {},
     "output_type": "execute_result"
    },
    {
     "name": "stdin",
     "output_type": "stream",
     "text": [
      "OK to overwrite the file? n\n"
     ]
    },
    {
     "data": {
      "text/plain": [
       "False"
      ]
     },
     "execution_count": 96,
     "metadata": {},
     "output_type": "execute_result"
    },
    {
     "name": "stdin",
     "output_type": "stream",
     "text": [
      "OK to overwrite the file? n\n"
     ]
    },
    {
     "data": {
      "text/plain": [
       "False"
      ]
     },
     "execution_count": 96,
     "metadata": {},
     "output_type": "execute_result"
    },
    {
     "name": "stdin",
     "output_type": "stream",
     "text": [
      "OK to overwrite the file? n\n"
     ]
    },
    {
     "data": {
      "text/plain": [
       "False"
      ]
     },
     "execution_count": 96,
     "metadata": {},
     "output_type": "execute_result"
    }
   ],
   "source": [
    "def ask_ok(prompt, retries=4, reminder='Please try again!'):\n",
    "    while True:\n",
    "        ok = input(prompt)\n",
    "        if ok in ('y', 'ye', 'yes'):\n",
    "            return True\n",
    "        if ok in ('n', 'no', 'nop', 'nope'):\n",
    "            return False\n",
    "        retries = retries - 1\n",
    "        if retries < 0:\n",
    "            raise ValueError('invalid user response')\n",
    "        print(reminder)\n",
    "        \n",
    "ask_ok('Do you really want to quit?')\n",
    "ask_ok('OK to overwrite the file?', 2)    # two positional arguments\n",
    "ask_ok('OK to overwrite the file?', 2, 'Come on, only yes or no!')\n",
    "ask_ok('OK to overwrite the file?', reminder='Come on, only yes or no!', retries=2)    # one positional argumet, two keyword arguments"
   ]
  },
  {
   "cell_type": "markdown",
   "id": "7d36fcba-e330-46e4-a47c-5e5dc2c72df2",
   "metadata": {},
   "source": [
    "The default values are evaluated at the point of function definition in the defining scope, so that"
   ]
  },
  {
   "cell_type": "code",
   "execution_count": 97,
   "id": "e7bd577b-e449-45da-9892-f5cfc72572c9",
   "metadata": {},
   "outputs": [
    {
     "name": "stdout",
     "output_type": "stream",
     "text": [
      "5\n"
     ]
    }
   ],
   "source": [
    "# will print 5\n",
    "i = 5\n",
    "\n",
    "def f(arg=i):\n",
    "    print(arg)\n",
    "\n",
    "i = 6\n",
    "f()"
   ]
  },
  {
   "cell_type": "markdown",
   "id": "5a8e9a9d-6f66-48e5-aa24-4b08a76363cd",
   "metadata": {},
   "source": [
    "If you don’t want the default to be shared between subsequent calls, you can write the function like this instead:"
   ]
  },
  {
   "cell_type": "code",
   "execution_count": 98,
   "id": "367f8c7a-2d3b-47b7-9f2a-e0742ee274aa",
   "metadata": {},
   "outputs": [],
   "source": [
    "def f(a, L=None):\n",
    "    if L is None:\n",
    "        L = []\n",
    "    L.append(a)\n",
    "    return L"
   ]
  },
  {
   "cell_type": "markdown",
   "id": "a88004a8-7158-4577-a6cf-76326c899123",
   "metadata": {},
   "source": [
    "*Keyword Arguments*\n",
    "\n",
    "Functions can also be called using [keyword arguments](https://docs.python.org/3/glossary.html#term-keyword-argument) of the form `kwarg=value`. For instance, the following function:"
   ]
  },
  {
   "cell_type": "code",
   "execution_count": 99,
   "id": "78e0ddb7-e107-425d-a192-e1bd3ccd2d4d",
   "metadata": {},
   "outputs": [],
   "source": [
    "def parrot(voltage, state='a stiff', action='voom', type='Norwegian Blue'):\n",
    "    print(\"-- This parrot wouldn't\", action, end=' ')\n",
    "    print(\"if you put\", voltage, \"volts through it.\")\n",
    "    print(\"-- Lovely plumage, the\", type)\n",
    "    print(\"-- It's\", state, \"!\")"
   ]
  },
  {
   "cell_type": "markdown",
   "id": "a78983ca-d10e-4b6f-8a58-926fc76d3f60",
   "metadata": {},
   "source": [
    "accepts one required argument (`voltage`) and three optional arguments (`state`, `action`, and `type`). This function can be called in any of the following ways:"
   ]
  },
  {
   "cell_type": "code",
   "execution_count": 100,
   "id": "74fa284f-ce2d-4524-8f96-900b372355cf",
   "metadata": {},
   "outputs": [
    {
     "name": "stdout",
     "output_type": "stream",
     "text": [
      "-- This parrot wouldn't voom if you put 1000 volts through it.\n",
      "-- Lovely plumage, the Norwegian Blue\n",
      "-- It's a stiff !\n",
      "-- This parrot wouldn't voom if you put 1000 volts through it.\n",
      "-- Lovely plumage, the Norwegian Blue\n",
      "-- It's a stiff !\n",
      "-- This parrot wouldn't VOOOOOM if you put 1000000 volts through it.\n",
      "-- Lovely plumage, the Norwegian Blue\n",
      "-- It's a stiff !\n",
      "-- This parrot wouldn't VOOOOOM if you put 1000000 volts through it.\n",
      "-- Lovely plumage, the Norwegian Blue\n",
      "-- It's a stiff !\n",
      "-- This parrot wouldn't jump if you put a million volts through it.\n",
      "-- Lovely plumage, the Norwegian Blue\n",
      "-- It's bereft of life !\n",
      "-- This parrot wouldn't voom if you put a thousand volts through it.\n",
      "-- Lovely plumage, the Norwegian Blue\n",
      "-- It's pushing up the daisies !\n"
     ]
    }
   ],
   "source": [
    "parrot(1000)                                          # 1 positional argument\n",
    "parrot(voltage=1000)                                  # 1 keyword argument, positional argument can transformed into keyword argument?\n",
    "parrot(voltage=1000000, action='VOOOOOM')             # 2 keyword arguments\n",
    "parrot(action='VOOOOOM', voltage=1000000)             # 2 keyword arguments\n",
    "parrot('a million', 'bereft of life', 'jump')         # 3 positional arguments\n",
    "parrot('a thousand', state='pushing up the daisies')  # 1 positional, 1 keyword"
   ]
  },
  {
   "cell_type": "markdown",
   "id": "e48bb248-8561-4ba8-848e-2c5b02ca8436",
   "metadata": {},
   "source": [
    "**note**: \n",
    "In a function call, keyword arguments must follow positional arguments. 在函数调用中，关键字参数必须跟在位置参数后面\n",
    "keyword argument is followed by keyword argument 关键字参数跟着的是关键字参数\n",
    "their order is not important. 关键字参数的位置不重要"
   ]
  },
  {
   "cell_type": "markdown",
   "id": "0e525464-f50f-4bfa-9d43-182ebfceaec2",
   "metadata": {},
   "source": [
    "When a final formal parameter of the form `**name` is present, it receives a dictionary (see [Mapping Types — dict](https://docs.python.org/3/library/stdtypes.html#typesmapping)) containing all keyword arguments except for those corresponding to a formal parameter.\n",
    "当一个形式为`**name`的最终形式参数出现时，它会接收一个字典（见[映射类型-dict](https://docs.python.org/3/library/stdtypes.html#typesmapping)），其中包含所有的关键字参数，除了与形式参数对应的参数。\n",
    "\n",
    "This may be combined with a formal parameter of the form `*name` (described in the next subsection) which receives a [tuple](https://docs.python.org/3/tutorial/datastructures.html#tut-tuples) containing the positional arguments beyond the formal parameter list.\n",
    "这可以与形式为`*name`的形式参数相结合（在下一小节中描述），它接收一个[元组](https://docs.python.org/3/tutorial/datastructures.html#tut-tuples)，包含形式参数列表之外的位置参数。\n",
    "\n",
    "(`*name` must occur before `**name`.) For example, if we define a function like this:\n",
    "(`*name`必须出现在`**name`之前。) 例如，如果我们这样定义一个函数。"
   ]
  },
  {
   "cell_type": "code",
   "execution_count": 101,
   "id": "696bce70-ff44-4048-b97d-92afab2cbdb0",
   "metadata": {},
   "outputs": [
    {
     "name": "stdout",
     "output_type": "stream",
     "text": [
      "-- Do you have any nice ?\n",
      "-- I'm sorry, we're all out of nice\n",
      "3\n",
      "6\n",
      "9\n",
      "{'blue': 32, 'red': 64, 'green': 128}\n",
      "----------------------------------------\n"
     ]
    }
   ],
   "source": [
    "def cheeseshop(kind, *arguments, **keywords):\n",
    "    print(\"-- Do you have any\", kind, \"?\")\n",
    "    print(\"-- I'm sorry, we're all out of\", kind)\n",
    "    for arg in arguments:\n",
    "        print(arg)\n",
    "    print(\"-\" * 40)\n",
    "    for kw in keywords:\n",
    "        print(kw, \":\", keywords[kw])\n",
    "        \n",
    "cheeseshop(\"nice\", 3, 6, 9, {\"blue\": 32, \"red\": 64, \"green\": 128})"
   ]
  },
  {
   "cell_type": "markdown",
   "id": "e20503d5-aefc-4ef8-9b08-0f8ffb680c18",
   "metadata": {},
   "source": [
    "*Special Parameters*\n",
    "\n",
    "A function definition may look like:"
   ]
  },
  {
   "cell_type": "raw",
   "id": "36001da7-d778-42a4-947e-8e69b12a91f2",
   "metadata": {},
   "source": [
    "def f(pos1, pos2, /, pos_or_kwd, *, kwd1, kwd2):\n",
    "      -----------    ----------     ----------\n",
    "        |             |                  |\n",
    "        |        Positional or keyword   |\n",
    "        |                                - Keyword only\n",
    "         -- Positional only"
   ]
  },
  {
   "cell_type": "markdown",
   "id": "72b9fb7c-5c6f-400e-ad0f-54ddfd888f30",
   "metadata": {},
   "source": [
    "where `/` and `*` are optional. If used, these symbols indicate the kind of parameter by how the arguments may be passed to the function: positional-only, positional-or-keyword, and keyword-only. Keyword parameters are also referred to as named parameters.\n",
    "\n",
    "> 其中 `/` 和 `*` 是可选的。如果使用的话，这些符号表示参数的种类，通过参数如何传递给函数：仅有位置的，有位置的或有关键字的，以及仅有关键字的。关键字参数也被称为命名参数。"
   ]
  },
  {
   "cell_type": "markdown",
   "id": "606fb1e1-3063-4909-88cd-f06bcfec3592",
   "metadata": {},
   "source": [
    "*Positional-Only Parameters*\n",
    "\n",
    "Looking at this in a bit more detail, it is possible to mark certain parameters as *positional-only*. If *positional-only*, the parameters’ order matters, and the parameters cannot be passed by keyword. Positional-only parameters are placed before a `/` (forward-slash). The `/` is used to logically separate the positional-only parameters from the rest of the parameters. If there is no `/` in the function definition, there are no positional-only parameters.\n",
    "\n",
    "Parameters following the `/` may be *positional-or-keyword* or *keyword-only*.\n",
    "\n",
    "> 更详细地看一下这个问题，可以把某些参数标记为*positional-only*。如果是*唯位置*，参数的顺序很重要，而且参数不能通过关键字传递。唯位置参数被放在一个`/`（正斜杠）前面。`/`用来在逻辑上将唯位置参数与其他参数分开。如果函数定义中没有`/`，就没有唯位置参数。\n",
    ">\n",
    "> `/`后面的参数可以是*可位置可关键字*参数或*关键字参数*。"
   ]
  },
  {
   "cell_type": "markdown",
   "id": "df40981a-78b8-416a-a7f7-20d54cec9c83",
   "metadata": {},
   "source": [
    "*Keyword-Only Arguments*\n",
    "\n",
    "To mark parameters as *keyword-only*, indicating the parameters must be passed by keyword argument, place an `*` in the arguments list just before the first *keyword-only* parameter.\n",
    "\n",
    "> 要将参数标记为*keyword-only*，表示参数必须通过关键字参数来传递，在参数列表中的第一个*keyword-only*参数之前放置一个`*`。"
   ]
  },
  {
   "cell_type": "markdown",
   "id": "d8206a46-9b89-4a79-aa96-697ddced7469",
   "metadata": {},
   "source": [
    "*Function Examples*\n",
    "\n",
    "Consider the following example function definitions paying close attention to the markers `/` and `*`:"
   ]
  },
  {
   "cell_type": "code",
   "execution_count": 102,
   "id": "326087e4-8584-457f-bc24-680ec893baa1",
   "metadata": {},
   "outputs": [
    {
     "name": "stdout",
     "output_type": "stream",
     "text": [
      "standard\n",
      "positional-only\n",
      "arg\n",
      "positional standard keyword-only\n"
     ]
    }
   ],
   "source": [
    "def standar_arg(arg):\n",
    "    print(arg)\n",
    "    \n",
    "def pos_only_arg(arg, /):\n",
    "    print(arg)\n",
    "    \n",
    "def kwd_only_arg(*, arg=\"arg\"):\n",
    "    print(arg)\n",
    "    \n",
    "def combined_example(pos_only, /, standard, *, kwd_only=\"keyword-only\"):\n",
    "    print(pos_only, standard, kwd_only)\n",
    "    \n",
    "standar_arg(\"standard\")\n",
    "pos_only_arg(\"positional-only\")\n",
    "kwd_only_arg(arg=\"arg\")\n",
    "combined_example(\"positional\", \"standard\", kwd_only=\"keyword-only\")"
   ]
  },
  {
   "cell_type": "code",
   "execution_count": 103,
   "id": "07b17cfd-14d4-4c32-b508-8695c00c3f6d",
   "metadata": {},
   "outputs": [
    {
     "data": {
      "text/plain": [
       "True"
      ]
     },
     "execution_count": 103,
     "metadata": {},
     "output_type": "execute_result"
    }
   ],
   "source": [
    "# the names of positional-only parameters can be used in **kwds without ambiguity.\n",
    "def foo(name, /, **kwds):\n",
    "    return 'name' in kwds\n",
    "\n",
    "foo('foo', key=\"keyword\", name=\"foo\")"
   ]
  },
  {
   "cell_type": "code",
   "execution_count": 104,
   "id": "2c1ec719-56d0-4141-8264-cb24d3bf03eb",
   "metadata": {},
   "outputs": [
    {
     "name": "stdout",
     "output_type": "stream",
     "text": [
      "Mike 12\n"
     ]
    }
   ],
   "source": [
    "def spam(name, age):\n",
    "    print(name, age)\n",
    "    \n",
    "spam(\"Mike\", age=12)"
   ]
  },
  {
   "cell_type": "markdown",
   "id": "feb642ab-5910-4c2f-89cc-19c9da77e88b",
   "metadata": {},
   "source": [
    "As guidance:\n",
    "\n",
    "- Use positional-only if you want the name of the parameters to not be available to the user. This is useful when parameter names have no real meaning, if you want to enforce the order of the arguments when the function is called or if you need to take some positional parameters and arbitrary keywords.\n",
    "- Use keyword-only when names have meaning and the function definition is more understandable by being explicit with names or you want to prevent users relying on the position of the argument being passed.\n",
    "- For an API, use positional-only to prevent breaking API changes if the parameter’s name is modified in the future.\n",
    "\n",
    "> 作为指导：\n",
    ">\n",
    "> - 如果你想让用户无法获得参数的名称，那么就使用唯位置参数。当参数名没有实际意义时，如果你想在函数被调用时强制执行参数的顺序，或者你需要接受一些位置参数和任意的关键字参数时，这很有用。\n",
    "> - 当名字有意义，而且函数定义通过明确的名字更容易理解，或者你想防止用户依赖被传递的参数的位置时，使用唯关键字参数。\n",
    "> - 对于一个API来说，使用唯位置参数是为了防止在将来参数的名字被修改时破坏API的变化。"
   ]
  },
  {
   "cell_type": "markdown",
   "id": "f6f87a7d-c539-4111-950f-c7ff90568d30",
   "metadata": {},
   "source": [
    "*Arbitrary Argument Lists*\n",
    "\n",
    "Normally, these *variadic* arguments(`*args`) will be last in the list of formal parameters, because they scoop up all remaining input arguments that are passed to the function. Any formal parameters which occur after the `*args` parameter are ‘keyword-only’ arguments, meaning that they can only be used as keywords rather than positional arguments.\n",
    "\n",
    "> 通常情况下，这些*变量*参数(`*args`) 会在形式参数列表中排在最后，因为它们会把所有剩余的输入参数都传递给函数。任何出现在 `*args` 参数之后的形式参数都是 \"唯位置\" 参数，意味着它们只能作为关键字而不是位置参数使用。"
   ]
  },
  {
   "cell_type": "code",
   "execution_count": 105,
   "id": "fe9ef8d8-8219-4955-aadd-15f33da970bf",
   "metadata": {},
   "outputs": [
    {
     "data": {
      "text/plain": [
       "'earth/mars/venus'"
      ]
     },
     "execution_count": 105,
     "metadata": {},
     "output_type": "execute_result"
    },
    {
     "data": {
      "text/plain": [
       "'earth.mars.venus'"
      ]
     },
     "execution_count": 105,
     "metadata": {},
     "output_type": "execute_result"
    }
   ],
   "source": [
    "def concat(*args, sep=\"/\"):\n",
    "    return sep.join(args)\n",
    "\n",
    "concat(\"earth\", \"mars\", \"venus\")\n",
    "concat(\"earth\", \"mars\", \"venus\", sep=\".\")"
   ]
  },
  {
   "cell_type": "markdown",
   "id": "85899e6f-7683-478e-bb8d-356934511125",
   "metadata": {},
   "source": [
    "*Unpacking Argument Lists*\n",
    "\n",
    "The reverse situation occurs when the arguments are already in a list or tuple but need to be unpacked for a function call requiring separate positional arguments. For instance, the built-in [`range()`](https://docs.python.org/3/library/stdtypes.html#range) function expects separate *start* and *stop* arguments. If they are not available separately, write the function call with the `*`-operator to unpack the arguments out of a list or tuple:\n",
    "\n",
    "> 相反的情况发生在参数已经在一个列表或元组中，但需要为一个需要单独位置参数的函数调用解包。例如，内置的[`range()`](https://docs.python.org/3/library/stdtypes.html#range)函数希望有单独的*start*和*stop*参数。如果它们不是单独可用的，可以用 `*` 操作符编写函数调用，将参数从列表或元组中解包出来。"
   ]
  },
  {
   "cell_type": "code",
   "execution_count": 106,
   "id": "7316b401-f343-4c4f-867f-4dc103d496f4",
   "metadata": {},
   "outputs": [
    {
     "data": {
      "text/plain": [
       "[3, 4, 5]"
      ]
     },
     "execution_count": 106,
     "metadata": {},
     "output_type": "execute_result"
    }
   ],
   "source": [
    "args = [3, 6]\n",
    "list(range(*args))"
   ]
  },
  {
   "cell_type": "code",
   "execution_count": 107,
   "id": "4934d600-1210-4901-a174-9a63a4d93777",
   "metadata": {},
   "outputs": [
    {
     "name": "stdout",
     "output_type": "stream",
     "text": [
      "-- This parrot wouldn't VOOM if you put four million volts through it. E's bleedin' demised !\n"
     ]
    }
   ],
   "source": [
    "# dictionaries can deliver keyword arguments with the **-operator:\n",
    "def parrot(voltage, state='a stiff', action='voom'):\n",
    "    print(\"-- This parrot wouldn't\", action, end=' ')\n",
    "    print(\"if you put\", voltage, \"volts through it.\", end=' ')\n",
    "    print(\"E's\", state, \"!\")\n",
    "\n",
    "d = {\"voltage\": \"four million\", \"state\": \"bleedin' demised\", \"action\": \"VOOM\"}\n",
    "parrot(**d)"
   ]
  },
  {
   "cell_type": "markdown",
   "id": "d8f7c7f7-1e80-45d3-97e3-12640172dcda",
   "metadata": {},
   "source": [
    "*Lambda Expressions*\n",
    "\n",
    "Small anonymous functions can be created with the [`lambda`](https://docs.python.org/3/reference/expressions.html#lambda) keyword. This function returns the sum of its two arguments: `lambda a, b: a+b`. Lambda functions can be used wherever function objects are required. They are syntactically restricted to a single expression. Semantically, they are just syntactic sugar for a normal function definition. Like nested function definitions, lambda functions can reference variables from the containing scope:\n",
    "\n",
    "> 可以用[`lambda`](https://docs.python.org/3/reference/expressions.html#lambda)关键字创建小型匿名函数。这个函数返回其两个参数的总和。`lambda a, b: a+b`。Lambda函数可以在需要函数对象的地方使用。它们在语法上被限制在一个单一的表达式上。从语义上讲，它们只是普通函数定义的语法糖。像嵌套函数定义一样，Lambda函数可以引用包含范围内的变量。"
   ]
  },
  {
   "cell_type": "code",
   "execution_count": 108,
   "id": "fbb4541f-9b67-4862-b1d5-86b95d2fc203",
   "metadata": {},
   "outputs": [
    {
     "data": {
      "text/plain": [
       "43"
      ]
     },
     "execution_count": 108,
     "metadata": {},
     "output_type": "execute_result"
    },
    {
     "data": {
      "text/plain": [
       "44"
      ]
     },
     "execution_count": 108,
     "metadata": {},
     "output_type": "execute_result"
    }
   ],
   "source": [
    "def make_incrementor(n):\n",
    "    return lambda x: x + n\n",
    "\n",
    "f = make_incrementor(42)\n",
    "f(1)\n",
    "f(2)"
   ]
  },
  {
   "cell_type": "markdown",
   "id": "48eef135-4712-40f3-99eb-e9856e91ccf0",
   "metadata": {},
   "source": [
    "The above example uses a lambda expression to return a function. Another use is to pass a small function as an argument:"
   ]
  },
  {
   "cell_type": "code",
   "execution_count": 109,
   "id": "c58ef211-f4cc-4912-879d-9dfb04d5bdfa",
   "metadata": {},
   "outputs": [
    {
     "data": {
      "text/plain": [
       "[(4, 'four'), (1, 'one'), (3, 'three'), (2, 'two')]"
      ]
     },
     "execution_count": 109,
     "metadata": {},
     "output_type": "execute_result"
    }
   ],
   "source": [
    "pairs = [(1, 'one'), (2, 'two'), (3, 'three'), (4, 'four')]\n",
    "pairs.sort(key=lambda pair: pair[1])\n",
    "pairs"
   ]
  },
  {
   "cell_type": "markdown",
   "id": "56213bd0-4df1-4a8a-a4e3-90371bf3076e",
   "metadata": {},
   "source": [
    "*Documentation String*"
   ]
  },
  {
   "cell_type": "code",
   "execution_count": 110,
   "id": "0f6f5b5e-ff3c-4483-91a8-97aadec6e7d5",
   "metadata": {},
   "outputs": [
    {
     "name": "stdout",
     "output_type": "stream",
     "text": [
      "Do nothing, but document it.\n",
      "    \n",
      "    No, really, it doesn't do anything.\n",
      "    \n"
     ]
    }
   ],
   "source": [
    "# Here is an example of a multi-line docstring:\n",
    "def my_function():\n",
    "    \"\"\"Do nothing, but document it.\n",
    "    \n",
    "    No, really, it doesn't do anything.\n",
    "    \"\"\"\n",
    "    pass\n",
    "\n",
    "print(my_function.__doc__)"
   ]
  },
  {
   "cell_type": "markdown",
   "id": "f051c1fa-6b5e-4c99-a4b6-7f98143b6225",
   "metadata": {},
   "source": [
    "*Function Annotations*\n",
    "\n",
    "[Function annotations](https://docs.python.org/3/reference/compound_stmts.html#function) are completely optional metadata information about the types used by user-defined functions (see [**PEP 3107**](https://www.python.org/dev/peps/pep-3107) and [**PEP 484**](https://www.python.org/dev/peps/pep-0484) for more information).\n",
    "\n",
    "> [函数注释](https://docs.python.org/3/reference/compound_stmts.html#function)是关于用户定义的函数所使用的类型的完全可选的元数据信息（更多信息见[**PEP 3107**](https://www.python.org/dev/peps/pep-3107)和[**PEP 484**](https://www.python.org/dev/peps/pep-0484)）。"
   ]
  },
  {
   "cell_type": "code",
   "execution_count": 111,
   "id": "53bf4f3d-2353-4b64-a306-10c3924756a4",
   "metadata": {},
   "outputs": [
    {
     "name": "stdout",
     "output_type": "stream",
     "text": [
      "Annotations: {'ham': <class 'str'>, 'eggs': <class 'str'>, 'return': <class 'str'>}\n",
      "Arguments: spam eggs\n"
     ]
    },
    {
     "data": {
      "text/plain": [
       "'spam and eggs'"
      ]
     },
     "execution_count": 111,
     "metadata": {},
     "output_type": "execute_result"
    }
   ],
   "source": [
    "def f(ham: str, eggs: str = 'eggs') -> str:\n",
    "    print(\"Annotations:\", f.__annotations__)\n",
    "    print(\"Arguments:\", ham, eggs)\n",
    "    return ham + ' and ' + eggs\n",
    "\n",
    "f('spam')"
   ]
  },
  {
   "cell_type": "markdown",
   "id": "d90a4fba-7e35-46b8-8bbc-fd2ceac1182e",
   "metadata": {},
   "source": [
    "*Intermezzo: Coding Style*\n",
    "\n",
    "For Python, [**PEP 8**](https://www.python.org/dev/peps/pep-0008) has emerged as the style guide that most projects adhere to; it promotes a very readable and eye-pleasing coding style. Every Python developer should read it at some point; here are the most important points extracted for you:\n",
    "\n",
    "- Use 4-space indentation, and no tabs.\n",
    "\n",
    "  4 spaces are a good compromise between small indentation (allows greater nesting depth) and large indentation (easier to read). Tabs introduce confusion, and are best left out.\n",
    "\n",
    "- Wrap lines so that they don’t exceed 79 characters.\n",
    "\n",
    "  This helps users with small displays and makes it possible to have several code files side-by-side on larger displays.\n",
    "\n",
    "- Use blank lines to separate functions and classes, and larger blocks of code inside functions.\n",
    "\n",
    "- When possible, put comments on a line of their own.\n",
    "\n",
    "- Use docstrings.\n",
    "\n",
    "- Use spaces around operators and after commas, but not directly inside bracketing constructs: `a = f(1, 2) + g(3, 4)`.\n",
    "\n",
    "- Name your classes and functions consistently; the convention is to use `UpperCamelCase` for classes and `lowercase_with_underscores` for functions and methods. Always use `self` as the name for the first method argument (see [A First Look at Classes](https://docs.python.org/3/tutorial/classes.html#tut-firstclasses) for more on classes and methods).\n",
    "\n",
    "- Don’t use fancy encodings if your code is meant to be used in international environments. Python’s default, UTF-8, or even plain ASCII work best in any case.\n",
    "\n",
    "- Likewise, don’t use non-ASCII characters in identifiers if there is only the slightest chance people speaking a different language will read or maintain the code.\n",
    "\n",
    "> 对于Python，[**PEP 8**](https://www.python.org/dev/peps/pep-0008)已经成为大多数项目遵守的风格指南；它提倡一种非常可读和赏心悦目的编码风格。每个Python开发者都应该在某个时候阅读它；下面是为你摘录的最重要的几点。\n",
    ">\n",
    "> - 使用4个空格的缩进，并且不使用制表符。\n",
    ">\n",
    ">   4个空格是小缩进（允许更大的嵌套深度）和大缩进（更容易阅读）之间的一个很好的妥协。选项卡会造成混乱，最好不要使用。\n",
    ">\n",
    "> - 包裹行，使其不超过79个字符。\n",
    ">\n",
    ">   这有助于使用小显示器的用户，并使几个代码文件在大显示器上并排排列成为可能。\n",
    ">\n",
    "> - 使用空行来分隔函数和类，以及函数中较大的代码块。\n",
    ">\n",
    "> - 如果可能的话，把注释放在自己的一行。\n",
    ">\n",
    "> - 使用文档字符串。\n",
    ">\n",
    "> - 在运算符周围和逗号后使用空格，但不要直接在括号结构内使用。`a = f(1, 2) + g(3, 4)`。\n",
    ">\n",
    "> - 统一命名你的类和函数；惯例是对类使用`UpperCamelCase`，对函数和方法使用`lowercase_with_underscores`。总是使用`self`作为第一个方法参数的名称（参见[A First Look at Classes](https://docs.python.org/3/tutorial/classes.html#tut-firstclasses)以了解更多关于类和方法的信息）。\n",
    ">\n",
    "> - 如果你的代码要在国际环境中使用，不要使用华丽的编码。在任何情况下，Python 的默认编码，UTF-8，甚至是纯 ASCII 都是最好的。\n",
    ">\n",
    "> - 同样地，如果讲不同语言的人只有一丁点机会阅读或维护代码，就不要在标识符中使用非ASCII字符。"
   ]
  },
  {
   "cell_type": "markdown",
   "id": "d384e1ff-656c-4ada-b5b2-6249a8cf656d",
   "metadata": {},
   "source": [
    "### Data Structures"
   ]
  },
  {
   "cell_type": "markdown",
   "id": "c664b2f1-6b7f-4819-859b-cb65498c301a",
   "metadata": {},
   "source": [
    "**More on Lists**"
   ]
  },
  {
   "cell_type": "markdown",
   "id": "fea1a29b-3790-4fbe-8627-43e125fb13cf",
   "metadata": {},
   "source": [
    "all of the methods of list object:"
   ]
  },
  {
   "cell_type": "code",
   "execution_count": 112,
   "id": "3ff72f0e-cda2-46cd-8f41-68864a924d07",
   "metadata": {},
   "outputs": [
    {
     "data": {
      "text/plain": [
       "[0, 1, 4, 9, 16, 25, 36, 49, 64, 81, 100]"
      ]
     },
     "execution_count": 112,
     "metadata": {},
     "output_type": "execute_result"
    }
   ],
   "source": [
    "my_list = [x**2 for x in range(11)]\n",
    "my_list"
   ]
  },
  {
   "cell_type": "code",
   "execution_count": 113,
   "id": "16125d68-5566-4538-99cf-20d4600ed888",
   "metadata": {
    "scrolled": true,
    "tags": []
   },
   "outputs": [
    {
     "data": {
      "text/plain": [
       "[0, 1, 4, 9, 16, 25, 36, 49, 64, 81, 100, 121]"
      ]
     },
     "execution_count": 113,
     "metadata": {},
     "output_type": "execute_result"
    },
    {
     "data": {
      "text/plain": [
       "[0,\n",
       " 1,\n",
       " 4,\n",
       " 9,\n",
       " 16,\n",
       " 25,\n",
       " 36,\n",
       " 49,\n",
       " 64,\n",
       " 81,\n",
       " 100,\n",
       " 121,\n",
       " 144,\n",
       " 169,\n",
       " 196,\n",
       " 225,\n",
       " 256,\n",
       " 289,\n",
       " 324,\n",
       " 361,\n",
       " 400]"
      ]
     },
     "execution_count": 113,
     "metadata": {},
     "output_type": "execute_result"
    }
   ],
   "source": [
    "# list.append(x) Add an item to the end of the list. \n",
    "# Equivalent to a[len(a):] = [x].\n",
    "my_list.append(121)\n",
    "my_list\n",
    "\n",
    "# list.extend(iterable); Extend the list by appending all the items from the iterable\n",
    "my_list.extend([x**2 for x in range(12, 21)])\n",
    "my_list\n"
   ]
  },
  {
   "cell_type": "code",
   "execution_count": 114,
   "id": "6de88bd2-16c6-44df-8a10-b8a30c6f3a6b",
   "metadata": {
    "scrolled": true,
    "tags": []
   },
   "outputs": [
    {
     "data": {
      "text/plain": [
       "[0,\n",
       " 1,\n",
       " 4,\n",
       " 9,\n",
       " 16,\n",
       " 25,\n",
       " 36,\n",
       " 49,\n",
       " 49,\n",
       " 64,\n",
       " 81,\n",
       " 100,\n",
       " 121,\n",
       " 144,\n",
       " 169,\n",
       " 196,\n",
       " 225,\n",
       " 256,\n",
       " 289,\n",
       " 324,\n",
       " 361,\n",
       " 400]"
      ]
     },
     "execution_count": 114,
     "metadata": {},
     "output_type": "execute_result"
    },
    {
     "data": {
      "text/plain": [
       "[1,\n",
       " 4,\n",
       " 9,\n",
       " 16,\n",
       " 25,\n",
       " 36,\n",
       " 49,\n",
       " 49,\n",
       " 64,\n",
       " 81,\n",
       " 100,\n",
       " 121,\n",
       " 144,\n",
       " 169,\n",
       " 196,\n",
       " 225,\n",
       " 256,\n",
       " 289,\n",
       " 324,\n",
       " 361,\n",
       " 400]"
      ]
     },
     "execution_count": 114,
     "metadata": {},
     "output_type": "execute_result"
    }
   ],
   "source": [
    "# list.insert(i, x); Insert an item at a given position.\n",
    "my_list.insert(7, 49)\n",
    "my_list\n",
    "\n",
    "# list.remove(x); Remove the first item from the list whose value is equal to x. It raises a ValueError if there is no such item.\n",
    "my_list.remove(0)\n",
    "my_list"
   ]
  },
  {
   "cell_type": "code",
   "execution_count": 115,
   "id": "d2841fe3-0927-4e91-a1d0-e882ffa14cc2",
   "metadata": {},
   "outputs": [
    {
     "data": {
      "text/plain": [
       "400"
      ]
     },
     "execution_count": 115,
     "metadata": {},
     "output_type": "execute_result"
    },
    {
     "data": {
      "text/plain": [
       "6"
      ]
     },
     "execution_count": 115,
     "metadata": {},
     "output_type": "execute_result"
    }
   ],
   "source": [
    "# list.pop([i]); Remove the item at the given position in the list, and return it. If no index is specified, a.pop() removes and returns the last item in the list.\n",
    "my_list.pop()\n",
    "\n",
    "# list.index(x[, start[, end]]); Return zero-based index in the list of the first item whose value is equal to x. Raises a ValueError if there is no such item.\n",
    "my_list.index(49)"
   ]
  },
  {
   "cell_type": "code",
   "execution_count": 116,
   "id": "7102929c-1a33-4576-92cd-91be30688a3f",
   "metadata": {},
   "outputs": [
    {
     "data": {
      "text/plain": [
       "[]"
      ]
     },
     "execution_count": 116,
     "metadata": {},
     "output_type": "execute_result"
    }
   ],
   "source": [
    "# list.clear(); Remove all items from the list. Equivalent to del a[:].\n",
    "my_list.clear()\n",
    "my_list"
   ]
  },
  {
   "cell_type": "code",
   "execution_count": 117,
   "id": "a78ab010-6c2b-41f0-b167-810646b4d936",
   "metadata": {},
   "outputs": [
    {
     "data": {
      "text/plain": [
       "[1, 8, 27, 64, 125, 216, 343, 512, 729, 1000]"
      ]
     },
     "execution_count": 117,
     "metadata": {},
     "output_type": "execute_result"
    },
    {
     "data": {
      "text/plain": [
       "1"
      ]
     },
     "execution_count": 117,
     "metadata": {},
     "output_type": "execute_result"
    },
    {
     "data": {
      "text/plain": [
       "[1000, 729, 512, 343, 216, 125, 64, 27, 8, 1]"
      ]
     },
     "execution_count": 117,
     "metadata": {},
     "output_type": "execute_result"
    }
   ],
   "source": [
    "# list.count(x); Return the number of times x appears in the list.\n",
    "sec_list = [x**3 for x in range(1, 11)]\n",
    "sec_list\n",
    "sec_list.count(64)\n",
    "\n",
    "# list.sort(*, key=None, reverse=False); Sort the items of the list in place \n",
    "# (the arguments can be used for sort customization, see sorted() for their explanation).\n",
    "sec_list.sort(reverse=True)\n",
    "sec_list"
   ]
  },
  {
   "cell_type": "code",
   "execution_count": 118,
   "id": "3c1aafaf-dace-4594-9a61-d97e2835a318",
   "metadata": {},
   "outputs": [
    {
     "data": {
      "text/plain": [
       "[1, 8, 27, 64, 125, 216, 343, 512, 729, 1000]"
      ]
     },
     "execution_count": 118,
     "metadata": {},
     "output_type": "execute_result"
    },
    {
     "data": {
      "text/plain": [
       "[1, 8, 27, 64, 125, 216, 343, 512, 729, 1000]"
      ]
     },
     "execution_count": 118,
     "metadata": {},
     "output_type": "execute_result"
    },
    {
     "data": {
      "text/plain": [
       "[1, 8, 27, 64, 125, 216, 343, 512, 729, 1000]"
      ]
     },
     "execution_count": 118,
     "metadata": {},
     "output_type": "execute_result"
    }
   ],
   "source": [
    "# list.reverse(); Reverse the elements of the list in place.\n",
    "sec_list.reverse()\n",
    "sec_list\n",
    "\n",
    "# list.copy(); Return a shallow copy of the list. Equivalent to a[:].\n",
    "sec_list.copy()\n",
    "sec_list"
   ]
  },
  {
   "cell_type": "markdown",
   "id": "ffa1c10d-21af-49fa-a2e7-faf8b9289462",
   "metadata": {},
   "source": [
    "Another thing you might notice is that not all data can be sorted or compared. For instance, `[None, 'hello', 10]` doesn’t sort because integers can’t be compared to strings and *None* can’t be compared to other types. Also, there are some types that don’t have a defined ordering relation. For example, `3+4j < 5+7j` isn’t a valid comparison.\n",
    "\n",
    "> 你可能注意到的另一件事是，不是所有的数据都能被排序或比较。例如，`[None, 'hello', 10]`不能排序，因为整数不能与字符串比较，*None*不能与其他类型比较。另外，有一些类型没有定义的排序关系。例如，`3+4j < 5+7j`不是一个有效的比较。"
   ]
  },
  {
   "cell_type": "markdown",
   "id": "efbad007-6df0-4540-acf4-fffb9642f002",
   "metadata": {},
   "source": [
    "*Using Lists as Stacks*\n",
    "\n",
    "The list methods make it very easy to use a list as a stack, where the last element added is the first element retrieved (“last-in, first-out”). To add an item to the top of the stack, use `append()`. To retrieve an item from the top of the stack, use `pop()` without an explicit index. For example:"
   ]
  },
  {
   "cell_type": "code",
   "execution_count": 119,
   "id": "5de5289f-0215-4d1e-afcd-91f6e2a70fab",
   "metadata": {},
   "outputs": [
    {
     "data": {
      "text/plain": [
       "[3, 4, 5, 6, 7]"
      ]
     },
     "execution_count": 119,
     "metadata": {},
     "output_type": "execute_result"
    },
    {
     "data": {
      "text/plain": [
       "7"
      ]
     },
     "execution_count": 119,
     "metadata": {},
     "output_type": "execute_result"
    },
    {
     "data": {
      "text/plain": [
       "[3, 4, 5, 6]"
      ]
     },
     "execution_count": 119,
     "metadata": {},
     "output_type": "execute_result"
    },
    {
     "data": {
      "text/plain": [
       "6"
      ]
     },
     "execution_count": 119,
     "metadata": {},
     "output_type": "execute_result"
    },
    {
     "data": {
      "text/plain": [
       "[3, 4, 5]"
      ]
     },
     "execution_count": 119,
     "metadata": {},
     "output_type": "execute_result"
    }
   ],
   "source": [
    "stack = [3, 4, 5]\n",
    "stack.append(6)\n",
    "stack.append(7)\n",
    "stack\n",
    "\n",
    "stack.pop()\n",
    "stack\n",
    "\n",
    "stack.pop()\n",
    "stack"
   ]
  },
  {
   "cell_type": "markdown",
   "id": "2474a548-5673-43de-93c2-0b9cd444cae3",
   "metadata": {},
   "source": [
    "*Using List as Queues*\n",
    "\n",
    "It is also possible to use a list as a queue, where the first element added is the first element retrieved (“first-in, first-out”); however, lists are not efficient for this purpose. While appends and pops from the end of list are fast, doing inserts or pops from the beginning of a list is slow (because all of the other elements have to be shifted by one).\n",
    "\n",
    "To implement a queue, use [`collections.deque`](https://docs.python.org/3/library/collections.html#collections.deque) which was designed to have fast appends and pops from both ends. For example:\n",
    "\n",
    "> 也可以把列表作为一个队列，第一个添加的元素就是第一个检索的元素（\"先进先出\"）；但是，列表在这个用途上并不高效。虽然从列表的末尾追加和弹出是快速的，但从列表的开头插入或弹出是缓慢的（因为所有其他的元素都要移位一个）。\n",
    ">\n",
    "> 要实现一个队列，可以使用[`collections.deque`](https://docs.python.org/3/library/collections.html#collections.deque)，它被设计成可以从两端快速追加和弹出。比如说"
   ]
  },
  {
   "cell_type": "code",
   "execution_count": 120,
   "id": "ab22050c-15f7-429f-a4fc-64d37bfe54da",
   "metadata": {},
   "outputs": [
    {
     "data": {
      "text/plain": [
       "collections.deque"
      ]
     },
     "execution_count": 120,
     "metadata": {},
     "output_type": "execute_result"
    },
    {
     "data": {
      "text/plain": [
       "deque(['Eric', 'John', 'Michael', 'Terry', 'Graham'])"
      ]
     },
     "execution_count": 120,
     "metadata": {},
     "output_type": "execute_result"
    },
    {
     "data": {
      "text/plain": [
       "'Eric'"
      ]
     },
     "execution_count": 120,
     "metadata": {},
     "output_type": "execute_result"
    },
    {
     "data": {
      "text/plain": [
       "'John'"
      ]
     },
     "execution_count": 120,
     "metadata": {},
     "output_type": "execute_result"
    },
    {
     "data": {
      "text/plain": [
       "deque(['Michael', 'Terry', 'Graham'])"
      ]
     },
     "execution_count": 120,
     "metadata": {},
     "output_type": "execute_result"
    }
   ],
   "source": [
    "from collections import deque\n",
    "queue = deque([\"Eric\", \"John\", \"Michael\"])\n",
    "type(queue)\n",
    "\n",
    "queue.append(\"Terry\")         \n",
    "queue.append(\"Graham\")\n",
    "queue\n",
    "\n",
    "queue.popleft()\n",
    "queue.popleft()\n",
    "queue"
   ]
  },
  {
   "cell_type": "markdown",
   "id": "dec4a751-6e89-4a54-b9e5-146efda215a6",
   "metadata": {},
   "source": [
    "*List Comprehensions*\n",
    "\n"
   ]
  },
  {
   "cell_type": "markdown",
   "id": "6864f13f-5b0e-45e5-b72e-be1990c51ab3",
   "metadata": {},
   "source": [
    "List comprehensions provide a concise way to create lists. Common applications are to make new lists where each element is the result of some operations applied to each member of another sequence or iterable, or to create a subsequence of those elements that satisfy a certain condition.\n",
    "\n",
    "For example, assume we want to create a list of squares, like:\n",
    "\n",
    "> 列表推导式提供了一种创建列表的简明方式。常见的应用是创建新的列表，其中每个元素都是应用于另一个序列或可迭代的每个成员的某些操作的结果，或者创建满足某个条件的那些元素的子序列。\n",
    ">\n",
    "> 例如，假设我们想创建一个正方形的列表，比如"
   ]
  },
  {
   "cell_type": "code",
   "execution_count": 121,
   "id": "892e630a-04eb-4fc8-ba34-f90bf4cd9217",
   "metadata": {},
   "outputs": [
    {
     "data": {
      "text/plain": [
       "9"
      ]
     },
     "execution_count": 121,
     "metadata": {},
     "output_type": "execute_result"
    },
    {
     "data": {
      "text/plain": [
       "[0, 1, 4, 9, 16, 25, 36, 49, 64, 81]"
      ]
     },
     "execution_count": 121,
     "metadata": {},
     "output_type": "execute_result"
    },
    {
     "data": {
      "text/plain": [
       "[0, 1, 4, 9, 16, 25, 36, 49, 64, 81]"
      ]
     },
     "execution_count": 121,
     "metadata": {},
     "output_type": "execute_result"
    },
    {
     "data": {
      "text/plain": [
       "[0, 4, 16, 36, 64]"
      ]
     },
     "execution_count": 121,
     "metadata": {},
     "output_type": "execute_result"
    }
   ],
   "source": [
    "squares = []\n",
    "for x in range(10):\n",
    "    squares.append(x**2)\n",
    "\n",
    "# a variable named `x` that still exists after the loop completes.\n",
    "x\n",
    "    \n",
    "squares\n",
    "\n",
    "# use lambda that without side effects\n",
    "squares = list(map(lambda x: x**2, range(10)))\n",
    "\n",
    "squares\n",
    "\n",
    "# more concise and readable\n",
    "squares = [x**2 for x in range(10) if x % 2 == 0]\n",
    "squares"
   ]
  },
  {
   "cell_type": "markdown",
   "id": "aa74af6a-259e-4891-a429-9b8c2ef05623",
   "metadata": {},
   "source": [
    "A list comprehension consists of brackets containing an expression followed by a `for` clause, then zero or more `for` or `if` clauses. The result will be a new list resulting from evaluating the expression in the context of the `for` and `if` clauses which follow it. For example, this listcomp combines the elements of two lists if they are not equal:\n",
    "\n",
    "> 列表推导式由包含一个表达式的方括号组成，后面是一个`for`子句，然后是零个或多个`for`或`if`子句。结果是一个新的列表，它是在后面的 `for` 和 `if` 子句的语境中对该表达式进行运算的结果。例如，如果两个列表的元素不相等，这个listcomp就会把它们结合起来："
   ]
  },
  {
   "cell_type": "code",
   "execution_count": 122,
   "id": "17ee6bfb-55ee-44d1-b481-0f83c1df2c93",
   "metadata": {},
   "outputs": [
    {
     "data": {
      "text/plain": [
       "[(1, 3), (1, 4), (2, 3), (2, 1), (2, 4), (3, 1), (3, 4)]"
      ]
     },
     "execution_count": 122,
     "metadata": {},
     "output_type": "execute_result"
    }
   ],
   "source": [
    "[(x, y) for x in [1, 2, 3] for y in [3, 1, 4] if x != y]"
   ]
  },
  {
   "cell_type": "code",
   "execution_count": 123,
   "id": "b7b55206-3849-4cf4-9fbe-b47f5cf1eb47",
   "metadata": {},
   "outputs": [
    {
     "data": {
      "text/plain": [
       "[(1, 3), (1, 4), (2, 3), (2, 1), (2, 4), (3, 1), (3, 4)]"
      ]
     },
     "execution_count": 123,
     "metadata": {},
     "output_type": "execute_result"
    }
   ],
   "source": [
    "# equivalent to:\n",
    "combs = []\n",
    "for x in [1, 2, 3]:\n",
    "    for y in [3, 1, 4]:\n",
    "        if x != y:\n",
    "            combs.append((x, y))\n",
    "            \n",
    "combs"
   ]
  },
  {
   "cell_type": "markdown",
   "id": "edf5ee5b-4d78-48d1-8f3b-93707dde8245",
   "metadata": {},
   "source": [
    "some sort of list comprehensions"
   ]
  },
  {
   "cell_type": "code",
   "execution_count": 124,
   "id": "cb1505b5-885e-4dcb-b14d-e8ce667a2884",
   "metadata": {},
   "outputs": [
    {
     "data": {
      "text/plain": [
       "[-8, -4, 0, 4, 8]"
      ]
     },
     "execution_count": 124,
     "metadata": {},
     "output_type": "execute_result"
    },
    {
     "data": {
      "text/plain": [
       "[0, 2, 4]"
      ]
     },
     "execution_count": 124,
     "metadata": {},
     "output_type": "execute_result"
    },
    {
     "data": {
      "text/plain": [
       "[4, 2, 0, 2, 4]"
      ]
     },
     "execution_count": 124,
     "metadata": {},
     "output_type": "execute_result"
    },
    {
     "data": {
      "text/plain": [
       "['banana', 'loganberry', 'passion fruit']"
      ]
     },
     "execution_count": 124,
     "metadata": {},
     "output_type": "execute_result"
    },
    {
     "data": {
      "text/plain": [
       "[(0, 0), (1, 1), (2, 4), (3, 9), (4, 16), (5, 25)]"
      ]
     },
     "execution_count": 124,
     "metadata": {},
     "output_type": "execute_result"
    },
    {
     "data": {
      "text/plain": [
       "[1, 2, 3, 4, 5, 6, 7, 8, 9]"
      ]
     },
     "execution_count": 124,
     "metadata": {},
     "output_type": "execute_result"
    },
    {
     "data": {
      "text/plain": [
       "[1, 2, 3, 4, 5, 6, 7, 8, 9]"
      ]
     },
     "execution_count": 124,
     "metadata": {},
     "output_type": "execute_result"
    }
   ],
   "source": [
    "vec = [-4, -2, 0, 2, 4]\n",
    "\n",
    "# new list with the values doubled\n",
    "[x*2 for x in vec]\n",
    "\n",
    "# exclude the negative numbers\n",
    "[x for x in vec if x >= 0]\n",
    "\n",
    "# apple a function to all elements\n",
    "[abs(x) for x in vec]\n",
    "\n",
    "# call a method on each element\n",
    "fresh_fruit = ['  banana', '  loganberry ', 'passion fruit  ']\n",
    "[weapon.strip() for weapon in fresh_fruit]\n",
    "\n",
    "# create a list of 2-tuples like (number, square)\n",
    "[(x, pow(x, 2)) for x in range(6)]\n",
    "\n",
    "# flatten a list using a listcomp with two 'for'\n",
    "vec = [[1,2,3], [4,5,6], [7,8,9]]\n",
    "[num for ele in vec for num in ele]\n",
    "\n",
    "# equivalent to \n",
    "listcomp = []\n",
    "for ele in vec:\n",
    "    for num in ele:\n",
    "        listcomp.append(num)\n",
    "        \n",
    "listcomp"
   ]
  },
  {
   "cell_type": "markdown",
   "id": "1695b5c5-2dde-4b86-8d86-0e8158c61c00",
   "metadata": {},
   "source": [
    "List comprehensions can contain complex expressions and nested functions:"
   ]
  },
  {
   "cell_type": "code",
   "execution_count": 125,
   "id": "2a66db35-036d-490b-aef2-c1dd85ef617b",
   "metadata": {},
   "outputs": [
    {
     "data": {
      "text/plain": [
       "['3.1', '3.14', '3.142', '3.1416', '3.14159']"
      ]
     },
     "execution_count": 125,
     "metadata": {},
     "output_type": "execute_result"
    }
   ],
   "source": [
    "from math import pi\n",
    "[str(round(pi, i)) for i in range(1, 6)]"
   ]
  },
  {
   "cell_type": "markdown",
   "id": "dd1c9e59-74ca-45ac-a118-5b5443d661a0",
   "metadata": {},
   "source": [
    "*Nested List Comprehensions*"
   ]
  },
  {
   "cell_type": "code",
   "execution_count": 126,
   "id": "4407217a-0426-4a47-baff-d29613369c35",
   "metadata": {},
   "outputs": [
    {
     "data": {
      "text/plain": [
       "[[1, 5, 9], [2, 6, 10], [3, 7, 11], [4, 8, 12]]"
      ]
     },
     "execution_count": 126,
     "metadata": {},
     "output_type": "execute_result"
    },
    {
     "data": {
      "text/plain": [
       "[[1, 5, 9], [2, 6, 10], [3, 7, 11], [4, 8, 12]]"
      ]
     },
     "execution_count": 126,
     "metadata": {},
     "output_type": "execute_result"
    },
    {
     "data": {
      "text/plain": [
       "[[1, 5, 9], [2, 6, 10], [3, 7, 11], [4, 8, 12]]"
      ]
     },
     "execution_count": 126,
     "metadata": {},
     "output_type": "execute_result"
    },
    {
     "data": {
      "text/plain": [
       "[(1, 5, 9), (2, 6, 10), (3, 7, 11), (4, 8, 12)]"
      ]
     },
     "execution_count": 126,
     "metadata": {},
     "output_type": "execute_result"
    },
    {
     "data": {
      "text/plain": [
       "[(1, 5, 9), (2, 6, 10), (3, 7, 11), (4, 8, 12)]"
      ]
     },
     "execution_count": 126,
     "metadata": {},
     "output_type": "execute_result"
    }
   ],
   "source": [
    "matrix = [\n",
    "    [1, 2, 3, 4],\n",
    "    [5, 6, 7, 8],\n",
    "    [9, 10, 11, 12],\n",
    "]\n",
    "\n",
    "# transpose the matrix\n",
    "[[row[i] for row in matrix] for i in range(4)]\n",
    "\n",
    "# equivalent to:\n",
    "transpose = []\n",
    "for i in range(4):\n",
    "    transpose.append([row[i] for row in matrix])\n",
    "    \n",
    "transpose\n",
    "\n",
    "# equivalent to this(include the nest complist)\n",
    "transpose = []\n",
    "for i in range(4):\n",
    "    transpose_row = []\n",
    "    for row in matrix:\n",
    "        transpose_row.append(row[i])\n",
    "    transpose.append(transpose_row)\n",
    "    \n",
    "transpose\n",
    "\n",
    "# in real world, prefer built-in function\n",
    "list(zip(*matrix))\n",
    "\n",
    "# equivalent to \n",
    "list(zip(\n",
    "    [1, 2, 3, 4],\n",
    "    [5, 6, 7, 8],\n",
    "    [9, 10, 11, 12]))"
   ]
  },
  {
   "cell_type": "markdown",
   "id": "58a65166-0c9a-40e5-bb2b-5b1434b3aa76",
   "metadata": {},
   "source": [
    "*the `del` statement*"
   ]
  },
  {
   "cell_type": "code",
   "execution_count": 127,
   "id": "f749e409-4e74-4420-9ea2-cad5c3ac4b2b",
   "metadata": {},
   "outputs": [
    {
     "data": {
      "text/plain": [
       "[1, 66.25, 333, 333, 1234.5]"
      ]
     },
     "execution_count": 127,
     "metadata": {},
     "output_type": "execute_result"
    },
    {
     "data": {
      "text/plain": [
       "[1, 66.25, 1234.5]"
      ]
     },
     "execution_count": 127,
     "metadata": {},
     "output_type": "execute_result"
    },
    {
     "data": {
      "text/plain": [
       "[]"
      ]
     },
     "execution_count": 127,
     "metadata": {},
     "output_type": "execute_result"
    }
   ],
   "source": [
    "a = [-1, 1, 66.25, 333, 333, 1234.5]\n",
    "del a[0]\n",
    "a\n",
    "\n",
    "del a[2:4]\n",
    "a\n",
    "\n",
    "del a[:]\n",
    "a"
   ]
  },
  {
   "cell_type": "code",
   "execution_count": 128,
   "id": "e300d658-4125-4946-9afc-6ecdbec3f6b4",
   "metadata": {},
   "outputs": [],
   "source": [
    "# del can also be used to delete entire variables:\n",
    "del a"
   ]
  },
  {
   "cell_type": "markdown",
   "id": "9651c8f9-646a-4b24-990e-fe5ecae6b860",
   "metadata": {},
   "source": [
    "*Tuples and Sequences*"
   ]
  },
  {
   "cell_type": "code",
   "execution_count": 129,
   "id": "6e8e20af-84f0-43eb-8aa2-b8ec3c60116e",
   "metadata": {},
   "outputs": [
    {
     "data": {
      "text/plain": [
       "(12345, 54321, 'hello!')"
      ]
     },
     "execution_count": 129,
     "metadata": {},
     "output_type": "execute_result"
    },
    {
     "data": {
      "text/plain": [
       "12345"
      ]
     },
     "execution_count": 129,
     "metadata": {},
     "output_type": "execute_result"
    },
    {
     "data": {
      "text/plain": [
       "((12345, 54321, 'hello!'), (1, 2, 3, 4, 5))"
      ]
     },
     "execution_count": 129,
     "metadata": {},
     "output_type": "execute_result"
    },
    {
     "data": {
      "text/plain": [
       "([1, 2, 3], [3, 2, 1], [[1, 2, 3, 4], [5, 6, 7, 8], [9, 10, 11, 12]])"
      ]
     },
     "execution_count": 129,
     "metadata": {},
     "output_type": "execute_result"
    },
    {
     "data": {
      "text/plain": [
       "([1, 2, 3], [3, 2, 1], [[13, 14, 15, 15], [5, 6, 7, 8], [9, 10, 11, 12]])"
      ]
     },
     "execution_count": 129,
     "metadata": {},
     "output_type": "execute_result"
    }
   ],
   "source": [
    "# A tuple consists of a number of values separated by commas, for instance:\n",
    "t = 12345, 54321, 'hello!'\n",
    "t\n",
    "t[0]\n",
    "\n",
    "# tuple can be nested:\n",
    "u = t, (1, 2, 3, 4, 5)\n",
    "u\n",
    "\n",
    "# Tuples are immutable, but can contain mutable objects:\n",
    "v = ([1, 2, 3], [3, 2, 1], matrix)\n",
    "v\n",
    "\n",
    "# in effect, tuple is immutable in reference, \n",
    "# the element 'matrix' is changes, the tuple 'v' is changed, too\n",
    "matrix[0] = [13, 14, 15, 15]\n",
    "v"
   ]
  },
  {
   "cell_type": "code",
   "execution_count": 130,
   "id": "5335139f-f25b-4bfa-af43-07251f5c5abf",
   "metadata": {},
   "outputs": [
    {
     "data": {
      "text/plain": [
       "()"
      ]
     },
     "execution_count": 130,
     "metadata": {},
     "output_type": "execute_result"
    },
    {
     "data": {
      "text/plain": [
       "('hello',)"
      ]
     },
     "execution_count": 130,
     "metadata": {},
     "output_type": "execute_result"
    }
   ],
   "source": [
    "# empty and single tuple\n",
    "empty = ()\n",
    "singleton = 'hello',\n",
    "\n",
    "empty\n",
    "singleton"
   ]
  },
  {
   "cell_type": "markdown",
   "id": "02a57d53-0732-4b1c-9244-3b0679b7a97d",
   "metadata": {},
   "source": [
    "*Sets*"
   ]
  },
  {
   "cell_type": "code",
   "execution_count": 131,
   "id": "47b8ac38-8416-401c-8b4c-02a452191c65",
   "metadata": {},
   "outputs": [
    {
     "data": {
      "text/plain": [
       "{'apple', 'banana', 'orange', 'pear'}"
      ]
     },
     "execution_count": 131,
     "metadata": {},
     "output_type": "execute_result"
    },
    {
     "data": {
      "text/plain": [
       "True"
      ]
     },
     "execution_count": 131,
     "metadata": {},
     "output_type": "execute_result"
    },
    {
     "data": {
      "text/plain": [
       "False"
      ]
     },
     "execution_count": 131,
     "metadata": {},
     "output_type": "execute_result"
    },
    {
     "data": {
      "text/plain": [
       "{'a', 'b', 'c', 'd', 'r'}"
      ]
     },
     "execution_count": 131,
     "metadata": {},
     "output_type": "execute_result"
    },
    {
     "data": {
      "text/plain": [
       "{'a', 'c', 'l', 'm', 'z'}"
      ]
     },
     "execution_count": 131,
     "metadata": {},
     "output_type": "execute_result"
    },
    {
     "data": {
      "text/plain": [
       "{'b', 'd', 'r'}"
      ]
     },
     "execution_count": 131,
     "metadata": {},
     "output_type": "execute_result"
    },
    {
     "data": {
      "text/plain": [
       "{'a', 'b', 'c', 'd', 'l', 'm', 'r', 'z'}"
      ]
     },
     "execution_count": 131,
     "metadata": {},
     "output_type": "execute_result"
    },
    {
     "data": {
      "text/plain": [
       "{'a', 'c'}"
      ]
     },
     "execution_count": 131,
     "metadata": {},
     "output_type": "execute_result"
    },
    {
     "data": {
      "text/plain": [
       "{'b', 'd', 'l', 'm', 'r', 'z'}"
      ]
     },
     "execution_count": 131,
     "metadata": {},
     "output_type": "execute_result"
    }
   ],
   "source": [
    "basket = {'apple', 'orange', 'apple', 'pear', 'orange', 'banana'}\n",
    "basket\n",
    "\n",
    "'orange' in basket\n",
    "'crabgrass' in basket\n",
    "\n",
    "a = set('abracadabra')\n",
    "b = set('alacazam')\n",
    "a\n",
    "b\n",
    "\n",
    "# a differences b: elements in a but not in b\n",
    "a - b\n",
    "\n",
    "# union: elements in a or b or both\n",
    "a | b\n",
    "\n",
    "# intersection: elements in both a and b\n",
    "a & b\n",
    "\n",
    "# symmetric difference: elements in a or b but not both\n",
    "a ^ b"
   ]
  },
  {
   "cell_type": "code",
   "execution_count": 132,
   "id": "e420663a-d9f5-4bbd-bc15-17427ffb7353",
   "metadata": {},
   "outputs": [
    {
     "data": {
      "text/plain": [
       "{'d', 'r'}"
      ]
     },
     "execution_count": 132,
     "metadata": {},
     "output_type": "execute_result"
    }
   ],
   "source": [
    "# set comprehension\n",
    "a = {x for x in 'abracadabra' if x not in 'abc'}\n",
    "a"
   ]
  },
  {
   "cell_type": "markdown",
   "id": "e7cbbee6-e4fd-42ac-abfc-18c2da03c1a9",
   "metadata": {},
   "source": [
    "*Dictionaries*\n",
    "\n",
    "It is best to think of a dictionary as a set of key: value pairs, with the requirement that the keys are unique (within one dictionary). "
   ]
  },
  {
   "cell_type": "code",
   "execution_count": 133,
   "id": "a4150bca-1924-4562-a5cc-274d950ab2c7",
   "metadata": {},
   "outputs": [
    {
     "data": {
      "text/plain": [
       "4098"
      ]
     },
     "execution_count": 133,
     "metadata": {},
     "output_type": "execute_result"
    },
    {
     "data": {
      "text/plain": [
       "{'jack': 4098, 'sape': 4139}"
      ]
     },
     "execution_count": 133,
     "metadata": {},
     "output_type": "execute_result"
    },
    {
     "data": {
      "text/plain": [
       "{'jack': 4098, 'irv': 4127}"
      ]
     },
     "execution_count": 133,
     "metadata": {},
     "output_type": "execute_result"
    },
    {
     "data": {
      "text/plain": [
       "['jack', 'irv']"
      ]
     },
     "execution_count": 133,
     "metadata": {},
     "output_type": "execute_result"
    },
    {
     "data": {
      "text/plain": [
       "['irv', 'jack']"
      ]
     },
     "execution_count": 133,
     "metadata": {},
     "output_type": "execute_result"
    },
    {
     "data": {
      "text/plain": [
       "False"
      ]
     },
     "execution_count": 133,
     "metadata": {},
     "output_type": "execute_result"
    },
    {
     "data": {
      "text/plain": [
       "False"
      ]
     },
     "execution_count": 133,
     "metadata": {},
     "output_type": "execute_result"
    },
    {
     "data": {
      "text/plain": [
       "{'jack': 4098, 'irv': 4127}"
      ]
     },
     "execution_count": 133,
     "metadata": {},
     "output_type": "execute_result"
    }
   ],
   "source": [
    "tel = {'jack': 4098, 'sape': 4139}\n",
    "tel['jack']\n",
    "tel\n",
    "\n",
    "del tel['sape']\n",
    "tel['irv'] = 4127\n",
    "tel\n",
    "\n",
    "list(tel)\n",
    "sorted(tel)\n",
    "\n",
    "'guido' in tel\n",
    "'jack' not in tel\n",
    "\n",
    "tel"
   ]
  },
  {
   "cell_type": "code",
   "execution_count": 134,
   "id": "b836c329-87f7-4767-a8ee-301e3eaf3786",
   "metadata": {},
   "outputs": [
    {
     "data": {
      "text/plain": [
       "{'sape': 4139, 'guido': 4127, 'jack': 4098}"
      ]
     },
     "execution_count": 134,
     "metadata": {},
     "output_type": "execute_result"
    },
    {
     "data": {
      "text/plain": [
       "{'sape': 4139, 'guido': 4127, 'jack': 4098}"
      ]
     },
     "execution_count": 134,
     "metadata": {},
     "output_type": "execute_result"
    },
    {
     "data": {
      "text/plain": [
       "{'sape': 4139, 'jack': 4098, 'guido': 4127}"
      ]
     },
     "execution_count": 134,
     "metadata": {},
     "output_type": "execute_result"
    }
   ],
   "source": [
    "# dict() constructor builds dictionaries directly from sequences of key-value pairs\n",
    "dict([('sape', 4139), ('guido', 4127), ('jack', 4098)])\n",
    "dict((('sape', 4139), ('guido', 4127), ('jack', 4098)))\n",
    "dict({('sape', 4139), ('guido', 4127), ('jack', 4098)})"
   ]
  },
  {
   "cell_type": "code",
   "execution_count": 135,
   "id": "c0d04577-7a0a-44c3-8604-08b732ad0261",
   "metadata": {},
   "outputs": [
    {
     "data": {
      "text/plain": [
       "{2: 4, 4: 16, 6: 36}"
      ]
     },
     "execution_count": 135,
     "metadata": {},
     "output_type": "execute_result"
    }
   ],
   "source": [
    "# Dict comprehension\n",
    "# minimum dict comoprehension: {key:value for vars in iterable}\n",
    "{x: x**2 for x in range(1, 7) if x % 2 ==0}"
   ]
  },
  {
   "cell_type": "code",
   "execution_count": 136,
   "id": "8f4ba595-6e08-45d1-aaf0-0786e5c46429",
   "metadata": {},
   "outputs": [
    {
     "data": {
      "text/plain": [
       "{'sape': 4139, 'guido': 4127, 'jack': 4098}"
      ]
     },
     "execution_count": 136,
     "metadata": {},
     "output_type": "execute_result"
    }
   ],
   "source": [
    "# simplely specify pairs using keyword arguments, the simple string just like key arguments\n",
    "dict(sape=4139, guido=4127, jack=4098)"
   ]
  },
  {
   "cell_type": "markdown",
   "id": "a93564a6-934d-4289-bd39-2a5bef289c63",
   "metadata": {},
   "source": [
    "*Looping Techniques*"
   ]
  },
  {
   "cell_type": "code",
   "execution_count": 137,
   "id": "0fb239dd-9aea-474d-8091-d1130f4cf257",
   "metadata": {},
   "outputs": [
    {
     "name": "stdout",
     "output_type": "stream",
     "text": [
      "gallahad the pure\n",
      "robin the brave\n",
      "('gallahad', 'the pure')\n",
      "('robin', 'the brave')\n"
     ]
    }
   ],
   "source": [
    "# using the items() method to loop dictionary\n",
    "knights = {'gallahad': 'the pure', 'robin': 'the brave'}\n",
    "for key, value in knights.items():\n",
    "    print(key, value)\n",
    "    \n",
    "for item in knights.items():\n",
    "    print(item)"
   ]
  },
  {
   "cell_type": "code",
   "execution_count": 138,
   "id": "3ab93c19-d81e-4548-8c9f-ab29bcf1c57e",
   "metadata": {},
   "outputs": [
    {
     "name": "stdout",
     "output_type": "stream",
     "text": [
      "0 tic\n",
      "1 tac\n",
      "2 toe\n"
     ]
    }
   ],
   "source": [
    "# looping through a sequence using the enumerate() function\n",
    "for index, value in enumerate(['tic', 'tac', 'toe']):\n",
    "    print(index, value)"
   ]
  },
  {
   "cell_type": "code",
   "execution_count": 139,
   "id": "f1193b7e-ba77-4242-85d9-4e679281c841",
   "metadata": {},
   "outputs": [
    {
     "name": "stdout",
     "output_type": "stream",
     "text": [
      "What is your name? It is lancelot\n",
      "What is your quest? It is the holy grail\n",
      "What is your favorite color? It is blue\n"
     ]
    }
   ],
   "source": [
    "# To loop over two or more sequences at the same time, the entries can be paired with the zip() function.\n",
    "questions = ['name', 'quest', 'favorite color']\n",
    "answers = ['lancelot', 'the holy grail', 'blue']\n",
    "for question, answer in zip(questions, answers):\n",
    "    print('What is your {0}? It is {1}'.format(question, answer))"
   ]
  },
  {
   "cell_type": "code",
   "execution_count": 140,
   "id": "8f9ccd4b-328d-44e1-97d8-3ca47494708c",
   "metadata": {},
   "outputs": [
    {
     "name": "stdout",
     "output_type": "stream",
     "text": [
      "9\n",
      "7\n",
      "5\n",
      "3\n",
      "1\n"
     ]
    }
   ],
   "source": [
    "# To loop over a sequence in reverse\n",
    "for i in reversed(range(1, 10, 2)):\n",
    "    print(i)"
   ]
  },
  {
   "cell_type": "code",
   "execution_count": 141,
   "id": "39371cf9-027c-47ca-bca0-0eab47ad6879",
   "metadata": {},
   "outputs": [
    {
     "name": "stdout",
     "output_type": "stream",
     "text": [
      "apple\n",
      "apple\n",
      "banana\n",
      "orange\n",
      "orange\n",
      "pear\n"
     ]
    }
   ],
   "source": [
    "# To loop over a sequence in sorted order, use the sorted() function which returns a new sorted list while leaving the source unaltered.\n",
    "basket = ['apple', 'orange', 'apple', 'pear', 'orange', 'banana']\n",
    "for i in sorted(basket):\n",
    "    print(i)"
   ]
  },
  {
   "cell_type": "code",
   "execution_count": 142,
   "id": "07f87047-7076-4074-bf0e-6c68c6446fa4",
   "metadata": {},
   "outputs": [
    {
     "name": "stdout",
     "output_type": "stream",
     "text": [
      "apple\n",
      "banana\n",
      "orange\n",
      "pear\n"
     ]
    }
   ],
   "source": [
    "# Using set() on a sequence eliminates duplicate elements\n",
    "for f in sorted(set(basket)):\n",
    "    print(f)"
   ]
  },
  {
   "cell_type": "code",
   "execution_count": 143,
   "id": "c860540a-1ac1-4bfb-b39f-f7c229b88bf7",
   "metadata": {},
   "outputs": [
    {
     "data": {
      "text/plain": [
       "[56.2, 51.7, 55.3, 52.5, 47.8]"
      ]
     },
     "execution_count": 143,
     "metadata": {},
     "output_type": "execute_result"
    }
   ],
   "source": [
    "# when filter a sequence, it's simpler and safer to create a new one\n",
    "import math\n",
    "raw_data = [56.2, float('NaN'), 51.7, 55.3, 52.5, float('NaN'), 47.8]\n",
    "filtered_data = []\n",
    "for value in raw_data:\n",
    "    if not math.isnan(value):\n",
    "        filtered_data.append(value)\n",
    "        \n",
    "filtered_data"
   ]
  },
  {
   "cell_type": "markdown",
   "id": "47d9209e-9c92-4333-a543-e4869ddc95d1",
   "metadata": {},
   "source": [
    "*More on Conditions*"
   ]
  },
  {
   "cell_type": "code",
   "execution_count": 144,
   "id": "c4c730e0-b98b-4f63-99d1-5d87658e4bf0",
   "metadata": {},
   "outputs": [
    {
     "data": {
      "text/plain": [
       "'Trondheim'"
      ]
     },
     "execution_count": 144,
     "metadata": {},
     "output_type": "execute_result"
    }
   ],
   "source": [
    "# priority: number operator > comparision > Boolean operator\n",
    "# The Boolean operators and and or are so-called short-circuit operators\n",
    "# It is possible to assign the result of a comparison or other Boolean expression to a variable\n",
    "string1, string2, string3 = '', 'Trondheim', 'Hammer Dance'\n",
    "non_null = string1 or string2 or string3\n",
    "non_null    # return the firt non-null string in Booleal expression"
   ]
  },
  {
   "cell_type": "code",
   "execution_count": 145,
   "id": "a86ff641-9233-485b-9a27-0f1727b83f73",
   "metadata": {},
   "outputs": [
    {
     "name": "stdout",
     "output_type": "stream",
     "text": [
      "Trondheim\n"
     ]
    }
   ],
   "source": [
    "# walrus operator: assignment inside expressions must be done explicitly\n",
    "while non_null := string1 or string2 or string3:\n",
    "    print(non_null)\n",
    "    break"
   ]
  },
  {
   "cell_type": "markdown",
   "id": "a915ec72-d839-4d80-b3d7-70d4181902f5",
   "metadata": {},
   "source": [
    "*Comparing Sequences and Other Types*"
   ]
  },
  {
   "cell_type": "code",
   "execution_count": 146,
   "id": "f9026683-ac1e-4232-a2e1-dd91814830e1",
   "metadata": {},
   "outputs": [
    {
     "data": {
      "text/plain": [
       "True"
      ]
     },
     "execution_count": 146,
     "metadata": {},
     "output_type": "execute_result"
    },
    {
     "data": {
      "text/plain": [
       "True"
      ]
     },
     "execution_count": 146,
     "metadata": {},
     "output_type": "execute_result"
    },
    {
     "data": {
      "text/plain": [
       "True"
      ]
     },
     "execution_count": 146,
     "metadata": {},
     "output_type": "execute_result"
    },
    {
     "data": {
      "text/plain": [
       "True"
      ]
     },
     "execution_count": 146,
     "metadata": {},
     "output_type": "execute_result"
    },
    {
     "data": {
      "text/plain": [
       "True"
      ]
     },
     "execution_count": 146,
     "metadata": {},
     "output_type": "execute_result"
    },
    {
     "data": {
      "text/plain": [
       "True"
      ]
     },
     "execution_count": 146,
     "metadata": {},
     "output_type": "execute_result"
    },
    {
     "data": {
      "text/plain": [
       "True"
      ]
     },
     "execution_count": 146,
     "metadata": {},
     "output_type": "execute_result"
    }
   ],
   "source": [
    "(1, 2, 3)              < (1, 2, 4)\n",
    "[1, 2, 3]              < [1, 2, 4]\n",
    "'ABC' < 'C' < 'Pascal' < 'Python'\n",
    "(1, 2, 3, 4)           < (1, 2, 4)\n",
    "(1, 2)                 < (1, 2, -1)\n",
    "(1, 2, 3)             == (1.0, 2.0, 3.0)    # comparing objects of different types\n",
    "(1, 2, ('aa', 'ab'))   < (1, 2, ('abc', 'a'), 4)"
   ]
  },
  {
   "cell_type": "code",
   "execution_count": 147,
   "id": "4fb1f3a7-eab4-4094-bb3d-6ddb892260c4",
   "metadata": {},
   "outputs": [
    {
     "data": {
      "text/plain": [
       "False"
      ]
     },
     "execution_count": 147,
     "metadata": {},
     "output_type": "execute_result"
    }
   ],
   "source": [
    "# how to explain this? no raise a TypeError exception.\n",
    "(1, 2, 3) == [1, 2, 3]"
   ]
  },
  {
   "cell_type": "markdown",
   "id": "3c3db854-aa1c-4d3e-b85d-d868bdce6ce6",
   "metadata": {},
   "source": [
    "### Modules"
   ]
  },
  {
   "cell_type": "markdown",
   "id": "990f0efc-1062-4f3f-99d1-93d9e2190ecd",
   "metadata": {},
   "source": [
    "A module is a file containing Python definitions and statements. The file name is the module name with the suffix `.py` appended. Within a module, the module’s name (as a string) is available as the value of the global variable `__name__`. For instance, use your favorite text editor to create a file called `fibo.py` in the current directory with the following contents:\n",
    "\n",
    "> 一个模块是一个包含 Python 定义和语句的文件。文件名是带有后缀 `.py`的模块名。在一个模块中，模块的名字 (作为一个字符串) 可以作为全局变量 `__name__` 的值。例如，使用你喜欢的文本编辑器在当前目录下创建一个名为`fibo.py`的文件，内容如下："
   ]
  },
  {
   "cell_type": "code",
   "execution_count": 148,
   "id": "c9baa3b1-ea82-48f6-aed4-c8e859026bb7",
   "metadata": {},
   "outputs": [],
   "source": [
    "# Fibonacci numbers module\n",
    "\n",
    "def fib(n):    # write Fibonacci series up to n\n",
    "    a, b = 0, 1\n",
    "    while a < n:\n",
    "        print(a, end=' ')\n",
    "        a, b = b, a+b\n",
    "    print()\n",
    "\n",
    "def fib2(n):   # return Fibonacci series up to n\n",
    "    result = []\n",
    "    a, b = 0, 1\n",
    "    while a < n:\n",
    "        result.append(a)\n",
    "        a, b = b, a+b\n",
    "    return result"
   ]
  },
  {
   "cell_type": "code",
   "execution_count": 149,
   "id": "0d97ebc4-beff-41f4-b19a-e69b42a881bd",
   "metadata": {},
   "outputs": [
    {
     "name": "stdout",
     "output_type": "stream",
     "text": [
      "__main__\n",
      "0 1 1 2 3 5 8 13 21 34 55 89 144 233 377 \n"
     ]
    },
    {
     "data": {
      "text/plain": [
       "[0, 1, 1, 2, 3, 5, 8, 13, 21, 34, 55, 89]"
      ]
     },
     "execution_count": 149,
     "metadata": {},
     "output_type": "execute_result"
    },
    {
     "data": {
      "text/plain": [
       "'fibo'"
      ]
     },
     "execution_count": 149,
     "metadata": {},
     "output_type": "execute_result"
    }
   ],
   "source": [
    "import fibo\n",
    "print(__name__)\n",
    "\n",
    "fibo.fib(500)\n",
    "fibo.fib2(100)\n",
    "\n",
    "fibo.__name__"
   ]
  },
  {
   "cell_type": "code",
   "execution_count": 150,
   "id": "fdc376e5-412d-4912-b444-dc547aae7260",
   "metadata": {},
   "outputs": [
    {
     "name": "stdout",
     "output_type": "stream",
     "text": [
      "0 1 1 2 3 5 8 13 21 34 55 89 144 233 377 \n"
     ]
    }
   ],
   "source": [
    "# assign the function of the module to a local name\n",
    "fib = fibo.fib\n",
    "fib(500)"
   ]
  },
  {
   "cell_type": "markdown",
   "id": "43874bf0-2597-4893-92cb-2e0c3d337bc7",
   "metadata": {},
   "source": [
    "*More on Modules*"
   ]
  },
  {
   "cell_type": "markdown",
   "id": "12bc4779-1c07-424f-aa7d-e9b11ed6126d",
   "metadata": {},
   "source": [
    "A module can contain executable statements as well as function definitions. These statements are intended to initialize the module. They are executed only the first time the module name is encountered in an import statement."
   ]
  },
  {
   "cell_type": "markdown",
   "id": "426e3825-4cbb-43f7-8bcf-de2c74466f98",
   "metadata": {},
   "source": [
    "*Standard Modules*"
   ]
  },
  {
   "cell_type": "markdown",
   "id": "f7481cda-edbe-4460-a7e2-e1d2ad872a25",
   "metadata": {},
   "source": [
    "Python comes with a library of standard modules, described in a separate document, the Python Library Reference (“Library Reference” hereafter). Some modules are built into the interpreter; these provide access to operations that are not part of the core of the language but are nevertheless built in, either for efficiency or to provide access to operating system primitives such as system calls. "
   ]
  },
  {
   "cell_type": "markdown",
   "id": "a6636d2e-d1a7-453c-9717-b9807e0762e7",
   "metadata": {},
   "source": [
    "*The `dir()` Function*"
   ]
  },
  {
   "cell_type": "markdown",
   "id": "dd96137b-d4cf-4b69-a34c-160cca733ce1",
   "metadata": {},
   "source": [
    "The built-in function [`dir()`](https://docs.python.org/3/library/functions.html#dir) is used to find out which names a module defines. It returns a sorted list of strings:"
   ]
  },
  {
   "cell_type": "markdown",
   "id": "5bb5cf35-fabe-4fcd-aaaf-d24543b9957b",
   "metadata": {},
   "source": [
    "[`dir()`](https://docs.python.org/3/library/functions.html#dir) does not list the names of built-in functions and variables. If you want a list of those, they are defined in the standard module [`builtins`](https://docs.python.org/3/library/builtins.html#module-builtins):"
   ]
  },
  {
   "cell_type": "code",
   "execution_count": 151,
   "id": "75552cde-d5ed-491b-b481-7b549abeb4eb",
   "metadata": {
    "scrolled": true,
    "tags": []
   },
   "outputs": [
    {
     "data": {
      "text/plain": [
       "['ArithmeticError',\n",
       " 'AssertionError',\n",
       " 'AttributeError',\n",
       " 'BaseException',\n",
       " 'BlockingIOError',\n",
       " 'BrokenPipeError',\n",
       " 'BufferError',\n",
       " 'BytesWarning',\n",
       " 'ChildProcessError',\n",
       " 'ConnectionAbortedError',\n",
       " 'ConnectionError',\n",
       " 'ConnectionRefusedError',\n",
       " 'ConnectionResetError',\n",
       " 'DeprecationWarning',\n",
       " 'EOFError',\n",
       " 'Ellipsis',\n",
       " 'EncodingWarning',\n",
       " 'EnvironmentError',\n",
       " 'Exception',\n",
       " 'False',\n",
       " 'FileExistsError',\n",
       " 'FileNotFoundError',\n",
       " 'FloatingPointError',\n",
       " 'FutureWarning',\n",
       " 'GeneratorExit',\n",
       " 'IOError',\n",
       " 'ImportError',\n",
       " 'ImportWarning',\n",
       " 'IndentationError',\n",
       " 'IndexError',\n",
       " 'InterruptedError',\n",
       " 'IsADirectoryError',\n",
       " 'KeyError',\n",
       " 'KeyboardInterrupt',\n",
       " 'LookupError',\n",
       " 'MemoryError',\n",
       " 'ModuleNotFoundError',\n",
       " 'NameError',\n",
       " 'None',\n",
       " 'NotADirectoryError',\n",
       " 'NotImplemented',\n",
       " 'NotImplementedError',\n",
       " 'OSError',\n",
       " 'OverflowError',\n",
       " 'PendingDeprecationWarning',\n",
       " 'PermissionError',\n",
       " 'ProcessLookupError',\n",
       " 'RecursionError',\n",
       " 'ReferenceError',\n",
       " 'ResourceWarning',\n",
       " 'RuntimeError',\n",
       " 'RuntimeWarning',\n",
       " 'StopAsyncIteration',\n",
       " 'StopIteration',\n",
       " 'SyntaxError',\n",
       " 'SyntaxWarning',\n",
       " 'SystemError',\n",
       " 'SystemExit',\n",
       " 'TabError',\n",
       " 'TimeoutError',\n",
       " 'True',\n",
       " 'TypeError',\n",
       " 'UnboundLocalError',\n",
       " 'UnicodeDecodeError',\n",
       " 'UnicodeEncodeError',\n",
       " 'UnicodeError',\n",
       " 'UnicodeTranslateError',\n",
       " 'UnicodeWarning',\n",
       " 'UserWarning',\n",
       " 'ValueError',\n",
       " 'Warning',\n",
       " 'WindowsError',\n",
       " 'ZeroDivisionError',\n",
       " '__IPYTHON__',\n",
       " '__build_class__',\n",
       " '__debug__',\n",
       " '__doc__',\n",
       " '__import__',\n",
       " '__loader__',\n",
       " '__name__',\n",
       " '__package__',\n",
       " '__spec__',\n",
       " 'abs',\n",
       " 'aiter',\n",
       " 'all',\n",
       " 'anext',\n",
       " 'any',\n",
       " 'ascii',\n",
       " 'bin',\n",
       " 'bool',\n",
       " 'breakpoint',\n",
       " 'bytearray',\n",
       " 'bytes',\n",
       " 'callable',\n",
       " 'chr',\n",
       " 'classmethod',\n",
       " 'compile',\n",
       " 'complex',\n",
       " 'copyright',\n",
       " 'credits',\n",
       " 'delattr',\n",
       " 'dict',\n",
       " 'dir',\n",
       " 'display',\n",
       " 'divmod',\n",
       " 'enumerate',\n",
       " 'eval',\n",
       " 'exec',\n",
       " 'execfile',\n",
       " 'filter',\n",
       " 'float',\n",
       " 'format',\n",
       " 'frozenset',\n",
       " 'get_ipython',\n",
       " 'getattr',\n",
       " 'globals',\n",
       " 'hasattr',\n",
       " 'hash',\n",
       " 'help',\n",
       " 'hex',\n",
       " 'id',\n",
       " 'input',\n",
       " 'int',\n",
       " 'isinstance',\n",
       " 'issubclass',\n",
       " 'iter',\n",
       " 'len',\n",
       " 'license',\n",
       " 'list',\n",
       " 'locals',\n",
       " 'map',\n",
       " 'max',\n",
       " 'memoryview',\n",
       " 'min',\n",
       " 'next',\n",
       " 'object',\n",
       " 'oct',\n",
       " 'open',\n",
       " 'ord',\n",
       " 'pow',\n",
       " 'print',\n",
       " 'property',\n",
       " 'range',\n",
       " 'repr',\n",
       " 'reversed',\n",
       " 'round',\n",
       " 'runfile',\n",
       " 'set',\n",
       " 'setattr',\n",
       " 'slice',\n",
       " 'sorted',\n",
       " 'staticmethod',\n",
       " 'str',\n",
       " 'sum',\n",
       " 'super',\n",
       " 'tuple',\n",
       " 'type',\n",
       " 'vars',\n",
       " 'zip']"
      ]
     },
     "execution_count": 151,
     "metadata": {},
     "output_type": "execute_result"
    }
   ],
   "source": [
    "import builtins\n",
    "dir(builtins)"
   ]
  },
  {
   "cell_type": "markdown",
   "id": "f70976d0-ac0f-431f-a136-5aa0d83ab372",
   "metadata": {},
   "source": [
    "*Packages*"
   ]
  },
  {
   "cell_type": "markdown",
   "id": "fa8bcc34-d04f-4892-826e-b6dabd84d2fb",
   "metadata": {},
   "source": [
    "Packages are a way of structuring Python’s module namespace by using “dotted module names”. For example, the module name `A.B` designates a submodule named `B` in a package named `A`. Just like the use of modules saves the authors of different modules from having to worry about each other’s global variable names, the use of dotted module names saves the authors of multi-module packages like NumPy or Pillow from having to worry about each other’s module names.\n",
    "\n",
    "> 包是通过使用 \"点状模块名\" 来构造 Python 模块名称空间的一种方式。例如，模块名 `A.B` 指定一个名为 `B` 的子模块在一个名为 `A` 的包中。就像使用模块使不同模块的作者不必担心彼此的全局变量名一样，使用带点的模块名使多模块包如 NumPy 或 Pillow 的作者不必担心彼此的模块名。"
   ]
  },
  {
   "cell_type": "markdown",
   "id": "37c8d474-ee4e-43be-960f-fccb6028ee59",
   "metadata": {},
   "source": [
    "Suppose you want to design a collection of modules (a “package”) for the uniform handling of sound files and sound data. There are many different sound file formats (usually recognized by their extension, for example: `.wav`, `.aiff`, `.au`), so you may need to create and maintain a growing collection of modules for the conversion between the various file formats. There are also many different operations you might want to perform on sound data (such as mixing, adding echo, applying an equalizer function, creating an artificial stereo effect), so in addition you will be writing a never-ending stream of modules to perform these operations. Here’s a possible structure for your package (expressed in terms of a hierarchical filesystem):\n",
    "\n",
    "> 假设你想设计一个模块集（一个 \"包\"）来统一处理声音文件和声音数据。有许多不同的声音文件格式（通常由它们的扩展名来识别，例如：`.wav', `.aiff`, `.au'），所以你可能需要创建和维护一个不断增长的模块集，用于各种文件格式之间的转换。还有许多不同的操作，你可能想在声音数据上执行（如混合，添加回声，应用均衡器功能，创建人工立体声效果），因此，此外，你将编写一个永无止境的模块流来执行这些操作。下面是你的软件包的可能结构（用分层文件系统表示）。"
   ]
  },
  {
   "cell_type": "raw",
   "id": "fabf0540-cc06-474d-b316-54c5f3247999",
   "metadata": {},
   "source": [
    "sound/                          Top-level package\n",
    "      __init__.py               Initialize the sound package\n",
    "      formats/                  Subpackage for file format conversions\n",
    "              __init__.py\n",
    "              wavread.py\n",
    "              wavwrite.py\n",
    "              aiffread.py\n",
    "              aiffwrite.py\n",
    "              auread.py\n",
    "              auwrite.py\n",
    "              ...\n",
    "      effects/                  Subpackage for sound effects\n",
    "              __init__.py\n",
    "              echo.py\n",
    "              surround.py\n",
    "              reverse.py\n",
    "              ...\n",
    "      filters/                  Subpackage for filters\n",
    "              __init__.py\n",
    "              equalizer.py\n",
    "              vocoder.py\n",
    "              karaoke.py\n",
    "              ..."
   ]
  },
  {
   "cell_type": "markdown",
   "id": "bfb51043-f178-4d3e-9d14-e7a4d0f3be3f",
   "metadata": {},
   "source": [
    "The `__init__.py` files are required to make Python treat directories containing the file as packages. This prevents directories with a common name, such as `string`, unintentionally hiding valid modules that occur later on the module search path. In the simplest case, `__init__.py` can just be an empty file, but it can also execute initialization code for the package or set the `__all__` variable, described later.\n",
    "\n",
    "> `init__.py`文件是必须的，以使 Python 将包含该文件的目录视为包。这可以防止具有共同名字的目录，例如 `string`，无意中隐藏了模块搜索路径上后来出现的有效模块。在最简单的情况下，`__init__.py`可以只是一个空文件，但它也可以执行软件包的初始化代码或设置`__all__`变量，这在后面会介绍。"
   ]
  },
  {
   "cell_type": "markdown",
   "id": "d86f9bfc-c7df-4794-ae88-79886c4bb033",
   "metadata": {},
   "source": [
    "Contrarily, when using syntax like `import item.subitem.subsubitem`, each item except for the last must be a package; the last item can be a module or a package but can’t be a class or function or variable defined in the previous item.\n",
    "\n",
    "> 相反，当使用像`import item.subitem.subsubitem`这样的语法时，除了最后一项外，每一项都必须是一个包；最后一项可以是一个模块或一个包，但不能是前一项中定义的类或函数或变量。"
   ]
  },
  {
   "cell_type": "markdown",
   "id": "c5c968de-22ac-4945-83ae-de724de1dc2a",
   "metadata": {},
   "source": [
    "*6.4.1 Import `*` Frome a Package*"
   ]
  },
  {
   "cell_type": "markdown",
   "id": "e92e278d-76f4-4cd2-8589-02089885f5fc",
   "metadata": {},
   "source": [
    "The only solution is for the package author to provide an explicit index of the package. The [`import`](https://docs.python.org/3/reference/simple_stmts.html#import) statement uses the following convention: if a package’s `__init__.py` code defines a list named `__all__`, it is taken to be the list of module names that should be imported when `from package import *` is encountered. It is up to the package author to keep this list up-to-date when a new version of the package is released. Package authors may also decide not to support it, if they don’t see a use for importing * from their package. For example, the file `sound/effects/__init__.py` could contain the following code:\n",
    "\n",
    "> 唯一的解决办法是由包的作者提供一个明确的包的索引。[`import`](https://docs.python.org/3/reference/simple_stmts.html#import) 语句使用以下约定：如果一个包的`__init__.py`代码定义了一个名为`__all__`的列表，它被认为是在遇到`from package import *`时应该被导入的模块名称列表。当包的新版本发布时，由包的作者来保持这个列表是最新的。包作者也可以决定不支持它，如果他们认为从他们的包中导入`*` 没有用。例如，文件`sound/effects/__init__.py`可能包含以下代码："
   ]
  },
  {
   "cell_type": "code",
   "execution_count": 152,
   "id": "3bace7ac-1460-4c36-89b2-99005b015314",
   "metadata": {},
   "outputs": [],
   "source": [
    "__all__ = [\"echo\", \"surround\", \"reverse\"]"
   ]
  },
  {
   "cell_type": "markdown",
   "id": "493f7e43-a01c-457e-90ad-8c2c6889208d",
   "metadata": {},
   "source": [
    "This would mean that `from sound.effects import *` would import the three named submodules of the `sound.effects` package."
   ]
  },
  {
   "cell_type": "markdown",
   "id": "0723b7bd-2889-4dc5-94b6-845a50125bc5",
   "metadata": {},
   "source": [
    "If `__all__` is not defined, the statement `from sound.effects import *` does *not* import all submodules from the package `sound.effects` into the current namespace; it only ensures that the package `sound.effects` has been imported (possibly running any initialization code in `__init__.py`) and then imports whatever names are defined in the package. This includes any names defined (and submodules explicitly loaded) by `__init__.py`. It also includes any submodules of the package that were explicitly loaded by previous [`import`](https://docs.python.org/3/reference/simple_stmts.html#import) statements. Consider this code:\n",
    "\n",
    "> 如果没有定义 `__all__`，语句 `from sound.effect import *` 并*不*导入软件包 `sound.effect` 中的所有子模块到当前命名空间；它只是确保软件包 `sound.effect` 已经被导入（可能运行任何在 `init__.py` 中的初始化代码），然后导入软件包中定义的任何名字。这包括任何由 `__init__.py` 定义的名字（和明确加载的子模块）。它还包括任何由以前的 [`import`](https://docs.python.org/3/reference/simple_stmts.html#import) 语句明确加载的包的子模块。考虑一下这段代码："
   ]
  },
  {
   "cell_type": "raw",
   "id": "91bed335-d641-4a58-8177-13afd5dd544d",
   "metadata": {},
   "source": [
    "import sound.effects.echo\n",
    "import sound.effects.surround\n",
    "from sound.effects import *"
   ]
  },
  {
   "cell_type": "markdown",
   "id": "4cb2ed40-f90b-4013-96dd-d11c5952a143",
   "metadata": {},
   "source": [
    "In this example, the `echo` and `surround` modules are imported in the current namespace because they are defined in the `sound.effects` package when the `from...import` statement is executed. (This also works when `__all__` is defined.)\n",
    "\n",
    "Although certain modules are designed to export only names that follow certain patterns when you use `import *`, it is still considered bad practice in production code.\n",
    "\n",
    "Remember, there is nothing wrong with using `from package import specific_submodule`! In fact, this is the recommended notation unless the importing module needs to use submodules with the same name from different packages.\n",
    "\n",
    "> 在这个例子中，`echo` 和 `surround` 模块在当前命名空间被导入，因为当执行 `from...import` 语句时，它们被定义在 `sound.effect` 包中。(这在定义了 `__all__`时也是有效的）。\n",
    ">\n",
    "> 尽管某些模块被设计成在你使用`import *`时只导出遵循某些模式的名字，但在生产代码中，这仍然被认为是不好的做法。\n",
    ">\n",
    "> 记住，使用 `from package import specific_submodule` 并没有错！事实上，这是推荐的标识，除非导入的模块需要使用来自不同包的同名子模块。"
   ]
  },
  {
   "cell_type": "markdown",
   "id": "9f207555-0def-439d-96a3-c4fed0d36d3f",
   "metadata": {},
   "source": [
    "*6.4.2. Intra-package References*"
   ]
  },
  {
   "cell_type": "markdown",
   "id": "9234b4b9-1a13-4b1a-acbc-59415a322960",
   "metadata": {},
   "source": [
    "When packages are structured into subpackages (as with the `sound` package in the example), you can use absolute imports to refer to submodules of siblings packages. For example, if the module `sound.filters.vocoder` needs to use the `echo` module in the `sound.effects` package, it can use `from sound.effects import echo`.\n",
    "\n",
    "You can also write relative imports, with the `from module import name` form of import statement. These imports use leading dots to indicate the current and parent packages involved in the relative import. From the `surround` module for example, you might use:\n",
    "\n",
    "```python\n",
    "from . import echo\n",
    "from .. import formats\n",
    "from ..filters import equalizer\n",
    "```\n",
    "\n",
    "Note that relative imports are based on the name of the current module. Since the name of the main module is always `\"__main__\"`, modules intended for use as the main module of a Python application must always use absolute imports."
   ]
  },
  {
   "cell_type": "markdown",
   "id": "84e3f937-b2d9-4130-b22a-9c711719d1fe",
   "metadata": {},
   "source": [
    "*6.4.3. Packages in Multiple Directories*"
   ]
  },
  {
   "cell_type": "markdown",
   "id": "a1315f21-1aeb-4d2c-acee-f589a5220dc8",
   "metadata": {},
   "source": [
    "Packages support one more special attribute, [`__path__`](https://docs.python.org/3/reference/import.html#path__). This is initialized to be a list containing the name of the directory holding the package’s `__init__.py` before the code in that file is executed. This variable can be modified; doing so affects future searches for modules and subpackages contained in the package.\n",
    "\n",
    "While this feature is not often needed, it can be used to extend the set of modules found in a package.\n",
    "\n",
    "> 包还支持一个特殊的属性，[`__path__`](https://docs.python.org/3/reference/import.html#path__)。这个属性被初始化为一个列表，在执行包的`__init__.py`文件中的代码之前，它包含了存放该包的目录名称。这个变量可以被修改；这样做会影响到将来对包中包含的模块和子包的搜索。\n",
    ">\n",
    "> 虽然这个功能并不经常需要，但它可以用来扩展在包中找到的模块集。"
   ]
  },
  {
   "cell_type": "markdown",
   "id": "412cf4fb-f333-4adf-9bc6-748c1cab12b6",
   "metadata": {},
   "source": [
    "### Input and Output"
   ]
  },
  {
   "cell_type": "code",
   "execution_count": 153,
   "id": "773d750e-5ebc-49b0-8138-d72d1b6f5fe1",
   "metadata": {},
   "outputs": [
    {
     "data": {
      "text/plain": [
       "'Results of the 2016 Referendum'"
      ]
     },
     "execution_count": 153,
     "metadata": {},
     "output_type": "execute_result"
    },
    {
     "data": {
      "text/plain": [
       "'Results of the 2016 Referendum'"
      ]
     },
     "execution_count": 153,
     "metadata": {},
     "output_type": "execute_result"
    },
    {
     "data": {
      "text/plain": [
       "'Results of the 2016 Referendum'"
      ]
     },
     "execution_count": 153,
     "metadata": {},
     "output_type": "execute_result"
    }
   ],
   "source": [
    "# formatted string literals\n",
    "year = 2016\n",
    "event = 'Referendum'\n",
    "f\"Results of the {year} {event}\"\n",
    "\"Results of the {0} {1}\".format(year, event)\n",
    "\"Results of the {0} {1}\".format(2016, \"Referendum\")"
   ]
  },
  {
   "cell_type": "markdown",
   "id": "9699ea63-30a9-4dc1-8400-c9d932212e10",
   "metadata": {},
   "source": [
    "The [`str.format()`](https://docs.python.org/3/library/stdtypes.html#str.format) method of strings requires more manual effort. You’ll still use `{` and `}` to mark where a variable will be substituted and can provide detailed formatting directives, but you’ll also need to provide the information to be formatted.\n",
    "\n",
    "> 字符串的[`str.format()`](https://docs.python.org/3/library/stdtypes.html#str.format)方法需要更多手工操作。你仍然会使用`{`和`}`来标记变量将被替换的位置，并且可以提供详细的格式化指令，但是你还需要提供要格式化的信息。"
   ]
  },
  {
   "cell_type": "code",
   "execution_count": 154,
   "id": "426ba25c-5b88-402b-86e0-2d0995d64321",
   "metadata": {},
   "outputs": [
    {
     "data": {
      "text/plain": [
       "' 42572654 YES votes  49.67%'"
      ]
     },
     "execution_count": 154,
     "metadata": {},
     "output_type": "execute_result"
    }
   ],
   "source": [
    "yes_votes = 42_572_654\n",
    "no_votes = 43_132_495\n",
    "percentage = yes_votes / (yes_votes + no_votes)\n",
    "'{:-9} YES votes  {:2.2%}'.format(yes_votes, percentage)"
   ]
  },
  {
   "cell_type": "code",
   "execution_count": 155,
   "id": "fcad605a-6c68-46a1-a4ca-d45327b9568f",
   "metadata": {},
   "outputs": [
    {
     "data": {
      "text/plain": [
       "'Hello, world.'"
      ]
     },
     "execution_count": 155,
     "metadata": {},
     "output_type": "execute_result"
    },
    {
     "data": {
      "text/plain": [
       "\"'Hello, world.'\""
      ]
     },
     "execution_count": 155,
     "metadata": {},
     "output_type": "execute_result"
    },
    {
     "data": {
      "text/plain": [
       "'0.14285714285714285'"
      ]
     },
     "execution_count": 155,
     "metadata": {},
     "output_type": "execute_result"
    },
    {
     "name": "stdout",
     "output_type": "stream",
     "text": [
      "The value of x is 32.5, and y is 40000...\n",
      "'hello, world\\n'\n"
     ]
    },
    {
     "data": {
      "text/plain": [
       "\"(32.5, 40000, ('spam', 'eggs'))\""
      ]
     },
     "execution_count": 155,
     "metadata": {},
     "output_type": "execute_result"
    },
    {
     "data": {
      "text/plain": [
       "'[0, 1, 2, 3, 4, 5, 6, 7, 8, 9]'"
      ]
     },
     "execution_count": 155,
     "metadata": {},
     "output_type": "execute_result"
    }
   ],
   "source": [
    "# repr() & str()\n",
    "s = 'Hello, world.'\n",
    "str(s)\n",
    "\n",
    "repr(s)\n",
    "\n",
    "str(1/7)\n",
    "\n",
    "x = 10 * 3.25\n",
    "y = 200 * 200\n",
    "s = 'The value of x is ' + repr(x) + ', and y is ' + repr(y) + '...'\n",
    "print(s)\n",
    "\n",
    "# The repr() of a string adds string quotes and backslashes:\n",
    "hello = 'hello, world\\n'\n",
    "hellos = repr(hello)\n",
    "print(hellos)\n",
    "\n",
    "# The argument to repr() may be any Python object:\n",
    "repr((x, y, ('spam', 'eggs')))\n",
    "repr([x for x in range(10)])"
   ]
  },
  {
   "cell_type": "markdown",
   "id": "b2700333-7ae1-4dff-8a9d-b65a54ed040c",
   "metadata": {},
   "source": [
    "*Formatted String Literals*"
   ]
  },
  {
   "cell_type": "markdown",
   "id": "d3607813-a4ed-451a-bee2-055f20aded37",
   "metadata": {},
   "source": [
    "An optional format specifier can follow the expression. This allows greater control over how the value is formatted. The following example rounds pi to three places after the decimal:\n",
    "\n",
    "> 表达式后面可以有一个可选的格式指定符。这允许对值的格式化进行更多的控制。下面的例子是将π四舍五入到小数点后的三个位置："
   ]
  },
  {
   "cell_type": "code",
   "execution_count": 156,
   "id": "f3039269-3481-4da7-81bd-79f303b74b42",
   "metadata": {},
   "outputs": [
    {
     "name": "stdout",
     "output_type": "stream",
     "text": [
      "The value of pi is approximately 3.142\n"
     ]
    }
   ],
   "source": [
    "import math\n",
    "print(f\"The value of pi is approximately {math.pi:.3f}\")"
   ]
  },
  {
   "cell_type": "markdown",
   "id": "f5e76686-795a-4304-b9a5-8b7d0d04ae2e",
   "metadata": {},
   "source": [
    "Passing an integer after the `':'` will cause that field to be a minimum number of characters wide. This is useful for making columns line up.\n",
    "\n",
    "> 在 `':'` 后面传递一个整数，将使该字段的宽度达到最小字符数。这对于使栏位排成一行很有用。"
   ]
  },
  {
   "cell_type": "code",
   "execution_count": 157,
   "id": "50ab662c-78c5-4094-a85c-fda34a57cf2a",
   "metadata": {},
   "outputs": [
    {
     "name": "stdout",
     "output_type": "stream",
     "text": [
      "Sjoerd     ==>       4127\n",
      "Jack       ==>       4098\n",
      "Dcab       ==>       7678\n"
     ]
    }
   ],
   "source": [
    "table = {'Sjoerd': 4127, 'Jack': 4098, 'Dcab': 7678}\n",
    "for name, phone in table.items():\n",
    "    print(f\"{name:10} ==> {phone:10d}\")"
   ]
  },
  {
   "cell_type": "markdown",
   "id": "57f8fce4-a9c3-413a-b181-fe9ff17f4fd9",
   "metadata": {},
   "source": [
    "Other modifiers can be used to convert the value before it is formatted. `'!a'` applies [`ascii()`](https://docs.python.org/3/library/functions.html#ascii), `'!s'` applies [`str()`](https://docs.python.org/3/library/stdtypes.html#str), and `'!r'` applies [`repr()`](https://docs.python.org/3/library/functions.html#repr):\n",
    "\n",
    "> 其他修饰符可以用来在格式化前转换数值。`'!a'`应用[`ascii()`](https://docs.python.org/3/library/functions.html#ascii)，`'!s'`应用[`str()`](https://docs.python.org/3/library/stdtypes.html#str)，而`'!r'`应用[`repr()`](https://docs.python.org/3/library/functions.html#repr)。"
   ]
  },
  {
   "cell_type": "code",
   "execution_count": 158,
   "id": "7450e232-ff79-4bf6-97f6-8e41ded14c85",
   "metadata": {},
   "outputs": [
    {
     "name": "stdout",
     "output_type": "stream",
     "text": [
      "My hovercraft is full of eels.\n",
      "My hovercraft is full of 'eels'.\n"
     ]
    }
   ],
   "source": [
    "animals = \"eels\"\n",
    "print(f\"My hovercraft is full of {animals}.\")\n",
    "print(f\"My hovercraft is full of {animals!r}.\")"
   ]
  },
  {
   "cell_type": "markdown",
   "id": "e18817e5-6054-4be3-9c67-5fde7bca346d",
   "metadata": {},
   "source": [
    "*The String format() method*"
   ]
  },
  {
   "cell_type": "code",
   "execution_count": 159,
   "id": "1c3dfc43-3079-4ee2-b4fa-81451fd5caf5",
   "metadata": {},
   "outputs": [
    {
     "name": "stdout",
     "output_type": "stream",
     "text": [
      "The story of Bill, Manfred, and Georg.\n"
     ]
    }
   ],
   "source": [
    "print('The story of {0}, {1}, and {other}.'.format('Bill', 'Manfred',\n",
    "                                                   other='Georg'))"
   ]
  },
  {
   "cell_type": "markdown",
   "id": "e13e8910-2e1f-4e3b-84ed-cc4574ee9c67",
   "metadata": {},
   "source": [
    "If you have a really long format string that you don’t want to split up, it would be nice if you could reference the variables to be formatted by name instead of by position. This can be done by simply passing the dict and using square brackets `'[]'` to access the keys.\n",
    "\n",
    "> 如果你有一个非常长的格式化字符串，你不想把它拆开，如果你能通过名字而不是位置来引用要格式化的变量，那就更好了。这可以通过简单地传递dict和使用方括号`'[]'`来访问键来实现。"
   ]
  },
  {
   "cell_type": "code",
   "execution_count": 160,
   "id": "2282570c-c01e-47f5-86d1-f2736f12acb9",
   "metadata": {},
   "outputs": [
    {
     "name": "stdout",
     "output_type": "stream",
     "text": [
      "Jack: 4098; Sjoerd: 4127;Dcab: 8637678\n"
     ]
    }
   ],
   "source": [
    "table = {'Sjoerd': 4127, 'Jack': 4098, 'Dcab': 8637678}\n",
    "print(\"Jack: {0[Jack]:d}; Sjoerd: {0[Sjoerd]:d};\"\n",
    "      \"Dcab: {0[Dcab]:d}\".format(table))"
   ]
  },
  {
   "cell_type": "markdown",
   "id": "5996f6a3-6adb-4cb4-b1b5-6294a4e34ced",
   "metadata": {},
   "source": [
    "This could also be done by passing the `table` dictionary as keyword arguments with the `**` notation.\n",
    "\n",
    "> 这也可以通过将`table`字典作为关键字参数用`**`符号来完成。"
   ]
  },
  {
   "cell_type": "code",
   "execution_count": 161,
   "id": "61b8718a-892a-4f6a-b01a-ef12a428b771",
   "metadata": {},
   "outputs": [
    {
     "name": "stdout",
     "output_type": "stream",
     "text": [
      "Jack: 4098; Sjoerd: 4127; Dcab: 8637678\n"
     ]
    }
   ],
   "source": [
    "table = {'Sjoerd': 4127, 'Jack': 4098, 'Dcab': 8637678}\n",
    "print(\"Jack: {Jack:d}; Sjoerd: {Sjoerd:d}; Dcab: {Dcab:d}\".format(**table))"
   ]
  },
  {
   "cell_type": "code",
   "execution_count": 162,
   "id": "1bc988c4-83a6-4bb4-b0fe-0d1588071506",
   "metadata": {},
   "outputs": [
    {
     "name": "stdout",
     "output_type": "stream",
     "text": [
      " 1   1    1\n",
      " 2   4    8\n",
      " 3   9   27\n",
      " 4  16   64\n",
      " 5  25  125\n",
      " 6  36  216\n",
      " 7  49  343\n",
      " 8  64  512\n",
      " 9  81  729\n",
      "10 100 1000\n"
     ]
    }
   ],
   "source": [
    "# produce a tidily aligned set of columns giving integers and their squares and cubes\n",
    "for x in range(1, 11):\n",
    "    print(\"{0:2d} {1:3d} {2:4d}\".format(x, x**2, x**3))"
   ]
  },
  {
   "cell_type": "markdown",
   "id": "ef4ae900-9c43-4b51-bea5-1a75be2dd816",
   "metadata": {},
   "source": [
    "*7.1.3. Manual String Formatting*"
   ]
  },
  {
   "cell_type": "code",
   "execution_count": 163,
   "id": "1ae84dd8-f58c-4703-91e1-582bbb332fd0",
   "metadata": {},
   "outputs": [
    {
     "name": "stdout",
     "output_type": "stream",
     "text": [
      "The value of pi is approximately 3.142\n",
      "The value of pi is approximately 3.142\n",
      "The value of pi is approximately 3.142\n",
      "The value of pi is approximately 3.142\n",
      "The value of pi is approximately 3.142\n",
      "The value of pi is approximately 3.142\n"
     ]
    }
   ],
   "source": [
    "# \"%\" string interpolation\n",
    "import math\n",
    "print(\"The value of pi is approximately %5.3f\" % math.pi)\n",
    "print(\"The value of pi is approximately %1.3f\" % math.pi)\n",
    "print(\"The value of pi is approximately %0.3f\" % math.pi)\n",
    "print(\"The value of pi is approximately %2.3f\" % math.pi)\n",
    "print(\"The value of pi is approximately %3.3f\" % math.pi)\n",
    "print(\"The value of pi is approximately %4.3f\" % math.pi)"
   ]
  },
  {
   "cell_type": "markdown",
   "id": "d68fb203-d6d9-4ea2-a5cc-d712ed1a3972",
   "metadata": {},
   "source": [
    "#### Reading and Writing Files"
   ]
  },
  {
   "cell_type": "code",
   "execution_count": 164,
   "id": "83016a0f-cf41-4341-9c67-8134d2262bcc",
   "metadata": {
    "scrolled": true,
    "tags": []
   },
   "outputs": [
    {
     "data": {
      "text/plain": [
       "'\\ufeff'"
      ]
     },
     "execution_count": 164,
     "metadata": {},
     "output_type": "execute_result"
    },
    {
     "data": {
      "text/plain": [
       "'1\\n'"
      ]
     },
     "execution_count": 164,
     "metadata": {},
     "output_type": "execute_result"
    },
    {
     "data": {
      "text/plain": [
       "6"
      ]
     },
     "execution_count": 164,
     "metadata": {},
     "output_type": "execute_result"
    },
    {
     "name": "stdout",
     "output_type": "stream",
     "text": [
      "00:01:33,012 --> 00:01:36,597\n",
      "Address unknown.\n",
      "\n",
      "2\n",
      "00:01:36,649 --> 00:01:42,019\n",
      "Honey child, I ain't\n",
      "even got a trace of ya.\n",
      "\n",
      "3\n",
      "00:01:42,021 --> 00:01:44,856\n",
      "You know one thing?\n",
      "\n",
      "4\n",
      "00:01:44,858 --> 00:01:50,695\n",
      "I'd give anything in the world\n",
      "just to see the face of ya.\n",
      "\n",
      "5\n",
      "00:01:53,533 --> 00:01:58,369\n",
      "I was a fool to stay away from you,\n",
      "\n",
      "6\n",
      "00:01:58,371 --> 00:02:01,088\n",
      "and everything else so long.\n",
      "\n",
      "7\n",
      "00:02:03,710 --> 00:02:06,344\n",
      "I should have been diplomatic\n",
      "\n",
      "8\n",
      "00:02:06,379 --> 00:02:11,549\n",
      "and figured that some day,\n",
      "you'd be solid gone.\n",
      "\n",
      "9\n",
      "00:02:53,259 --> 00:02:55,059\n",
      "Yeah, that is some detail.\n",
      "\n",
      "10\n",
      "00:02:55,094 --> 00:02:57,478\n",
      "That is some Western detail right there...\n",
      "\n",
      "11\n",
      "00:02:57,513 --> 00:02:59,680\n",
      "Western detail, attention to detail.\n",
      "\n",
      "12\n",
      "00:02:59,732 --> 00:03:02,099\n",
      "Look, he's even got the spurs\n",
      "on the back of his boots.\n",
      "\n",
      "13\n",
      "00:03:02,101 --> 00:03:04,936\n",
      "- And they're sharp. They are.\n",
      "- I love it.\n",
      "\n",
      "14\n",
      "00:03:04,938 --> 00:03:06,771\n",
      "Well, the clock is gone\n",
      "on this piece, Christine, so...\n",
      "\n",
      "15\n",
      "00:03:06,773 --> 00:03:09,407\n",
      "- Oh, my goodness!\n",
      "- Well, let's just move on.\n",
      "\n",
      "16\n",
      "00:03:09,442 --> 00:03:10,825\n",
      "Well, from time to time,\n",
      "\n",
      "17\n",
      "00:03:10,860 --> 00:03:13,244\n",
      "people make mistakes... That's okay.\n",
      "\n",
      "18\n",
      "00:03:13,279 --> 00:03:16,247\n",
      "This is our first renoir of the evening.\n",
      "\n",
      "19\n",
      "00:03:16,282 --> 00:03:19,083\n",
      "This is a heliogravure,\n",
      "which is an etching.\n",
      "\n",
      "20\n",
      "00:03:19,118 --> 00:03:22,086\n",
      "It was hand-pulled from a\n",
      "copper plate in Paris in 1919.\n",
      "\n",
      "21\n",
      "00:03:22,121 --> 00:03:24,705\n",
      "We know this because that's\n",
      "what it says on the back,\n",
      "\n",
      "22\n",
      "00:03:24,757 --> 00:03:26,340\n",
      "where the certificate\n",
      "of authenticity is located.\n",
      "\n",
      "23\n",
      "00:03:26,376 --> 00:03:28,542\n",
      "Just as lovely as can be.\n",
      "\n",
      "24\n",
      "00:03:28,595 --> 00:03:31,379\n",
      "Look at the soft, delicate shading.\n",
      "Very feminine.\n",
      "\n",
      "25\n",
      "00:03:31,431 --> 00:03:33,798\n",
      "This is a limited edition.\n",
      "\n",
      "26\n",
      "00:03:33,800 --> 00:03:37,018\n",
      "This is what you're looking for\n",
      "if you are a Renoir fan.\n",
      "\n",
      "27\n",
      "00:03:37,053 --> 00:03:39,020\n",
      "100... Oh, my goodness.\n",
      "Right at the buzzer.\n",
      "\n",
      "28\n",
      "00:03:39,055 --> 00:03:40,972\n",
      "Whoo! Good.\n",
      "\n",
      "29\n",
      "00:03:40,974 --> 00:03:43,808\n",
      "One of the few exceptions is\n",
      "the African pancake tortoise,\n",
      "\n",
      "30\n",
      "00:03:43,810 --> 00:03:45,810\n",
      "which has a flat, flexible shell\n",
      "\n",
      "31\n",
      "00:03:45,812 --> 00:03:48,029\n",
      "that allows it to hide in rock crevasses.\n",
      "\n",
      "32\n",
      "00:03:48,064 --> 00:03:51,065\n",
      "Big swath of light to moderate snow\n",
      "\n",
      "33\n",
      "00:03:51,117 --> 00:03:53,701\n",
      "from the broken bow area\n",
      "down toward Kearney, Hastings,\n",
      "\n",
      "34\n",
      "00:03:53,736 --> 00:03:56,537\n",
      "Grand Island... That is all\n",
      "moving in our direction.\n",
      "\n",
      "35\n",
      "00:03:56,572 --> 00:03:58,739\n",
      "So I do think, around 7:00 to 8:00,\n",
      "\n",
      "36\n",
      "00:03:58,791 --> 00:04:02,159\n",
      "the snow will become pretty\n",
      "steady here across the region\n",
      "\n",
      "37\n",
      "00:04:02,161 --> 00:04:03,995\n",
      "with all this moving on top of us,\n",
      "\n",
      "38\n",
      "00:04:03,997 --> 00:04:05,997\n",
      "and that's really gonna\n",
      "knock down visibilities.\n",
      "\n",
      "39\n",
      "00:04:05,999 --> 00:04:07,999\n",
      "And, again, snow-covered roads\n",
      "\n",
      "40\n",
      "00:04:08,001 --> 00:04:10,217\n",
      "are gonna be definitely\n",
      "likely this evening,\n",
      "\n",
      "41\n",
      "00:04:10,253 --> 00:04:12,420\n",
      "making it even slippier... Or more...\n",
      "\n",
      "42\n",
      "00:04:12,472 --> 00:04:14,839\n",
      "More slippery than it is\n",
      "out there at this time.\n",
      "\n",
      "43\n",
      "00:04:14,841 --> 00:04:17,058\n",
      "There's that winter-weather\n",
      "advisory in effect\n",
      "\n",
      "44\n",
      "00:04:17,093 --> 00:04:18,893\n",
      "until very early tomorrow morning.\n",
      "\n",
      "45\n",
      "00:04:18,928 --> 00:04:20,678\n",
      "We're gonna talk snowfall totals\n",
      "\n",
      "46\n",
      "00:04:20,680 --> 00:04:23,314\n",
      "coming up after more news.\n",
      "\n",
      "47\n",
      "00:04:23,349 --> 00:04:25,149\n",
      "Will bitter, cold weather\n",
      "\n",
      "48\n",
      "00:04:25,184 --> 00:04:26,767\n",
      "help break up the compaction issues\n",
      "\n",
      "49\n",
      "00:04:26,819 --> 00:04:28,436\n",
      "we created this fall in our fields?\n",
      "\n",
      "50\n",
      "00:04:28,488 --> 00:04:30,104\n",
      "Well, we'll show you where it will\n",
      "\n",
      "51\n",
      "00:04:30,156 --> 00:04:31,772\n",
      "and where it won't\n",
      "during today's iron talk.\n",
      "\n",
      "52\n",
      "00:04:31,824 --> 00:04:34,025\n",
      "When it comes to compaction...\n",
      "\n",
      "53\n",
      "00:04:34,027 --> 00:04:35,660\n",
      "There's really two different\n",
      "types of compaction.\n",
      "\n",
      "54\n",
      "00:04:35,695 --> 00:04:37,111\n",
      "There's vertical compaction,\n",
      "\n",
      "55\n",
      "00:04:37,163 --> 00:04:38,746\n",
      "and there's horizontal compaction.\n",
      "\n",
      "56\n",
      "00:04:38,781 --> 00:04:40,281\n",
      "And there's a big difference.\n",
      "\n",
      "57\n",
      "00:04:40,333 --> 00:04:42,199\n",
      "With horizontal compaction,\n",
      "\n",
      "58\n",
      "00:04:42,201 --> 00:04:44,618\n",
      "there really isn't much hope\n",
      "for help from a freeze thaw.\n",
      "\n",
      "59\n",
      "00:04:44,671 --> 00:04:48,370\n",
      "And the reason why, as that\n",
      "hard, compacted layer swells\n",
      "\n",
      "60\n",
      "00:04:48,970 --> 00:04:51,670\n",
      "And then, in the spring, thaws\n",
      "back out and settles back down.\n",
      "\n",
      "61\n",
      "00:04:52,270 --> 00:04:54,270\n",
      "There's really no breaking up\n",
      "of the compaction.\n",
      "\n",
      "62\n",
      "00:04:54,470 --> 00:04:57,722\n",
      "With a vertical zone,\n",
      "when compaction swells out,\n",
      "\n",
      "63\n",
      "00:04:57,770 --> 00:04:59,386\n",
      "and then it breaks up in the spring,\n",
      "\n",
      "64\n",
      "00:04:59,470 --> 00:05:01,019\n",
      "then you can actually\n",
      "get a little bit of help.\n",
      "\n",
      "65\n",
      "00:05:01,055 --> 00:05:02,854\n",
      "So if you have some\n",
      "horizontal compaction...\n",
      "\n",
      "66\n",
      "00:05:02,890 --> 00:05:04,856\n",
      "created by doing some tillage\n",
      "\n",
      "67\n",
      "00:05:04,892 --> 00:05:06,475\n",
      "when it was a little too wet, or...\n",
      "\n",
      "68\n",
      "00:05:14,735 --> 00:05:18,704\n",
      "Don't let false allegations\n",
      "bully you into an unfair fight.\n",
      "\n",
      "69\n",
      "00:05:18,739 --> 00:05:22,241\n",
      "Hi, I'm Saul Goodman, and I\n",
      "will do the fighting for you.\n",
      "\n",
      "70\n",
      "00:05:22,338 --> 00:05:24,171\n",
      "No charge is too big for me.\n",
      "\n",
      "71\n",
      "00:05:24,223 --> 00:05:27,591\n",
      "When legal forces have you\n",
      "cornered, better call Saul!\n",
      "\n",
      "72\n",
      "00:05:29,429 --> 00:05:31,095\n",
      "I'll get your case dismissed.\n",
      "\n",
      "73\n",
      "00:05:31,097 --> 00:05:34,598\n",
      "I'll give you the defense you deserve. Why?\n",
      "\n",
      "74\n",
      "00:05:34,600 --> 00:05:36,817\n",
      "Because I'm Saul Goodman, attorney-at-law.\n",
      "\n",
      "75\n",
      "00:05:36,853 --> 00:05:39,236\n",
      "I investigate, advocate, persuade,\n",
      "\n",
      "76\n",
      "00:05:39,272 --> 00:05:41,856\n",
      "and, most importantly, win!\n",
      "\n",
      "77\n",
      "00:05:41,908 --> 00:05:44,692\n",
      "Better call Saul.\n",
      "\n",
      "78\n",
      "00:05:44,744 --> 00:05:46,494\n",
      "Do you feel doomed?\n",
      "\n",
      "79\n",
      "00:05:46,529 --> 00:05:48,913\n",
      "Have opponents of freedom\n",
      "wrongly intimidated you?\n",
      "\n",
      "80\n",
      "00:05:48,948 --> 00:05:50,915\n",
      "Maybe they told you\n",
      "that you're in serious trouble\n",
      "\n",
      "81\n",
      "00:05:50,950 --> 00:05:52,783\n",
      "and there's nothing you can do about it.\n",
      "\n",
      "82\n",
      "00:05:52,785 --> 00:05:55,786\n",
      "I'm Saul Goodman, and I'm here\n",
      "to tell you that they're wrong.\n",
      "\n",
      "83\n",
      "00:05:55,788 --> 00:05:58,556\n",
      "It's never too late\n",
      "for justice. Better call...\n",
      "\n",
      "84\n",
      "00:06:03,285 --> 00:06:07,885\n",
      "Synced and corrected by oykubuyuk\n",
      "www.addic7ed.com\n",
      "\n",
      "85\n",
      "00:07:31,444 --> 00:07:34,245\n",
      "Think back... Your brain...\n",
      "\n",
      "86\n",
      "00:07:34,280 --> 00:07:37,081\n",
      "I... It's just not all there yet.\n",
      "\n",
      "87\n",
      "00:07:37,116 --> 00:07:38,699\n",
      "Uh, if we were all held responsible\n",
      "\n",
      "88\n",
      "00:07:38,701 --> 00:07:41,285\n",
      "For what we did when we were 19...\n",
      "\n",
      "89\n",
      "00:07:43,706 --> 00:07:48,008\n",
      "I remember what it was like\n",
      "to be a kid. Think back.\n",
      "\n",
      "90\n",
      "00:07:48,044 --> 00:07:52,012\n",
      "Tell 'em, judge, what would you say?\n",
      "\n",
      "91\n",
      "00:07:52,048 --> 00:07:55,015\n",
      "These boys... 19.\n",
      "\n",
      "92\n",
      "00:07:55,051 --> 00:07:58,219\n",
      "I can't... I don't...\n",
      "These three young men...\n",
      "\n",
      "93\n",
      "00:07:58,221 --> 00:07:59,937\n",
      "Just like you.\n",
      "\n",
      "94\n",
      "00:07:59,972 --> 00:08:02,790\n",
      "- Just like you.\n",
      "- Psst!\n",
      "\n",
      "95\n",
      "00:08:17,707 --> 00:08:21,325\n",
      "Oh, to be 19 again... You\n",
      "with me, ladies and gentlemen?\n",
      "\n",
      "96\n",
      "00:08:21,377 --> 00:08:23,544\n",
      "Do you remember 19?\n",
      "\n",
      "97\n",
      "00:08:23,579 --> 00:08:26,547\n",
      "Let me tell you... The juices are flowing.\n",
      "\n",
      "98\n",
      "00:08:26,582 --> 00:08:28,749\n",
      "The red corpuscles are corpuscling,\n",
      "\n",
      "99\n",
      "00:08:28,751 --> 00:08:31,969\n",
      "the grass is green, and it's soft,\n",
      "\n",
      "100\n",
      "00:08:32,004 --> 00:08:34,755\n",
      "and summer's gonna last forever.\n",
      "\n",
      "101\n",
      "00:08:34,757 --> 00:08:37,925\n",
      "Now, do you remember?\n",
      "\n",
      "102\n",
      "00:08:37,927 --> 00:08:40,761\n",
      "Yeah, you do.\n",
      "\n",
      "103\n",
      "00:08:40,763 --> 00:08:43,981\n",
      "But if you're being honest...\n",
      "I mean, well, really honest,\n",
      "\n",
      "104\n",
      "00:08:44,016 --> 00:08:45,816\n",
      "you'll recall that you also had\n",
      "\n",
      "105\n",
      "00:08:45,851 --> 00:08:48,485\n",
      "an underdeveloped 19-year-old brain.\n",
      "\n",
      "106\n",
      "00:08:48,521 --> 00:08:52,906\n",
      "Me, personally, I... It...\n",
      "If I were held accountable\n",
      "\n",
      "107\n",
      "00:08:52,942 --> 00:08:55,326\n",
      "for some of the stupid decisions I made\n",
      "\n",
      "108\n",
      "00:08:55,361 --> 00:08:58,746\n",
      "when I was 19... Oh, boy, wow.\n",
      "\n",
      "109\n",
      "00:08:58,781 --> 00:09:03,167\n",
      "And I bet if we were in church\n",
      "right now, I'd get a big \"amen!\"\n",
      "\n",
      "110\n",
      "00:09:03,202 --> 00:09:05,369\n",
      "Which brings us to these three...\n",
      "\n",
      "111\n",
      "00:09:05,421 --> 00:09:09,373\n",
      "Now, these three knuckleheads...\n",
      "\n",
      "112\n",
      "00:09:09,425 --> 00:09:11,375\n",
      "And I'm sorry, boys,\n",
      "but that's what you are...\n",
      "\n",
      "113\n",
      "00:09:11,427 --> 00:09:14,378\n",
      "They did a dumb thing.\n",
      "We're not denying that.\n",
      "\n",
      "114\n",
      "00:09:14,430 --> 00:09:17,798\n",
      "However, I would like you\n",
      "to remember two salient facts.\n",
      "\n",
      "115\n",
      "00:09:17,800 --> 00:09:21,635\n",
      "Fact one... Nobody got hurt, not a soul.\n",
      "\n",
      "116\n",
      "00:09:21,637 --> 00:09:23,604\n",
      "Very important to keep that in mind.\n",
      "\n",
      "117\n",
      "00:09:23,639 --> 00:09:26,807\n",
      "Fact two... Now, the prosecution\n",
      "\n",
      "118\n",
      "00:09:26,809 --> 00:09:30,644\n",
      "keeps bandying this term\n",
      "\"criminal trespass.\"\n",
      "\n",
      "119\n",
      "00:09:30,646 --> 00:09:33,063\n",
      "Mr. Spinowzo, the property owner,\n",
      "\n",
      "120\n",
      "00:09:33,115 --> 00:09:36,700\n",
      "admitted to us that he keeps\n",
      "most portions of his business\n",
      "\n",
      "121\n",
      "00:09:36,736 --> 00:09:39,536\n",
      "open to the public both day and night.\n",
      "\n",
      "122\n",
      "00:09:39,572 --> 00:09:42,956\n",
      "So, trespassing?\n",
      "\n",
      "123\n",
      "00:09:42,992 --> 00:09:45,576\n",
      "That's a bit of a reach...\n",
      "Don't you think, Dave?\n",
      "\n",
      "124\n",
      "00:09:45,628 --> 00:09:49,213\n",
      "Here's what I know...\n",
      "\n",
      "125\n",
      "00:09:49,248 --> 00:09:53,834\n",
      "These three young men,\n",
      "near honors students all,\n",
      "\n",
      "126\n",
      "00:09:53,836 --> 00:09:55,836\n",
      "were feeling their oats one Saturday night,\n",
      "\n",
      "127\n",
      "00:09:55,838 --> 00:09:59,473\n",
      "and they just... Went a little bananas.\n",
      "\n",
      "128\n",
      "00:09:59,508 --> 00:10:01,675\n",
      "I don't know.\n",
      "\n",
      "129\n",
      "00:10:01,677 --> 00:10:04,094\n",
      "Call me crazy, but I\n",
      "don't think they deserve\n",
      "\n",
      "130\n",
      "00:10:04,146 --> 00:10:06,513\n",
      "to have their bright futures ruined\n",
      "\n",
      "131\n",
      "00:10:06,515 --> 00:10:08,599\n",
      "by a momentary, minute,\n",
      "\n",
      "132\n",
      "00:10:08,651 --> 00:10:12,436\n",
      "never-to-be-repeated lapse of judgment.\n",
      "\n",
      "133\n",
      "00:10:12,488 --> 00:10:17,524\n",
      "Ladies and gentlemen,\n",
      "you're bigger than that.\n",
      "\n",
      "134\n",
      "00:11:14,583 --> 00:11:16,583\n",
      "- Kenny, Kenny, are you rolling?\n",
      "- Yeah, yeah. Wait a minute.\n",
      "\n",
      "135\n",
      "00:11:16,585 --> 00:11:18,469\n",
      "Yeah, baby, yeah!\n",
      "\n",
      "136\n",
      "00:11:18,504 --> 00:11:20,888\n",
      "But, dude... but, dude, pipe\n",
      "down. Chill out, would you?\n",
      "\n",
      "137\n",
      "00:11:20,923 --> 00:11:23,223\n",
      "Hey, Mrs. Watson's\n",
      "fourth-period biology class,\n",
      "\n",
      "138\n",
      "00:11:23,259 --> 00:11:25,426\n",
      "this one's for you.\n",
      "Watch and learn, losers.\n",
      "\n",
      "139\n",
      "00:11:25,428 --> 00:11:27,678\n",
      "Oh, yeah!\n",
      "\n",
      "140\n",
      "00:11:27,730 --> 00:11:29,763\n",
      "Ohh!\n",
      "\n",
      "141\n",
      "00:11:29,765 --> 00:11:31,849\n",
      "- Oh, God!\n",
      "- Dude! Where did all the blood go?!\n",
      "\n",
      "142\n",
      "00:11:31,901 --> 00:11:34,067\n",
      "Dude, he's dead.\n",
      "They suck it all out, dumbass.\n",
      "\n",
      "143\n",
      "00:11:34,103 --> 00:11:36,069\n",
      "Awesome. Where do they put it?\n",
      "\n",
      "144\n",
      "00:11:36,105 --> 00:11:38,071\n",
      "All right, g... I'm though\n",
      "the neck bone now, dude.\n",
      "\n",
      "145\n",
      "00:11:38,107 --> 00:11:40,190\n",
      "Oh, nice. Kenny, get over here, man.\n",
      "\n",
      "146\n",
      "00:11:40,242 --> 00:11:41,825\n",
      "I'm... I'm getting it. Get...\n",
      "Get... Get this out of here.\n",
      "\n",
      "147\n",
      "00:11:41,861 --> 00:11:43,410\n",
      "All right. All right, fine.\n",
      "\n",
      "148\n",
      "00:11:43,446 --> 00:11:44,495\n",
      "Here, let me do it.\n",
      "\n",
      "149\n",
      "00:11:44,530 --> 00:11:45,696\n",
      "- I got it!\n",
      "- All right.\n",
      "\n",
      "150\n",
      "00:11:45,748 --> 00:11:46,830\n",
      "Oh, oh-oh! Get that.\n",
      "\n",
      "151\n",
      "00:11:46,866 --> 00:11:48,449\n",
      "All right. Oh, my God.\n",
      "\n",
      "152\n",
      "00:11:48,451 --> 00:11:50,451\n",
      "Ohh! Here, let me do it.\n",
      "\n",
      "153\n",
      "00:11:50,453 --> 00:11:52,186\n",
      "Dude, get off!\n",
      "\n",
      "154\n",
      "00:11:52,221 --> 00:11:53,220\n",
      "Chill out.\n",
      "\n",
      "155\n",
      "00:11:53,255 --> 00:11:54,688\n",
      "All right. Wait, wait.\n",
      "\n",
      "156\n",
      "00:11:54,723 --> 00:11:56,757\n",
      "Ohh. Ohh. Okay, wait for it. Wait.\n",
      "\n",
      "157\n",
      "00:11:56,792 --> 00:11:58,759\n",
      "Ohh!\n",
      "\n",
      "158\n",
      "00:11:58,794 --> 00:12:01,595\n",
      "Yeah! Oh!\n",
      "\n",
      "159\n",
      "00:12:01,630 --> 00:12:02,880\n",
      "Whoo! Whoo!\n",
      "\n",
      "160\n",
      "00:12:02,932 --> 00:12:04,181\n",
      "Come on! Yeah, baby, yeah!\n",
      "\n",
      "161\n",
      "00:12:04,216 --> 00:12:06,099\n",
      "This dude was...\n",
      "\n",
      "162\n",
      "00:12:06,135 --> 00:12:08,552\n",
      "Dude, I dare you to stick\n",
      "your wang in the throat hole.\n",
      "\n",
      "163\n",
      "00:12:08,604 --> 00:12:10,187\n",
      "- I will if you will, loser.\n",
      "- Oh!\n",
      "\n",
      "164\n",
      "00:12:10,222 --> 00:12:12,806\n",
      "All right, all right!\n",
      "\n",
      "165\n",
      "00:12:12,808 --> 00:12:14,224\n",
      "What the hell kind of math is that?\n",
      "\n",
      "166\n",
      "00:12:14,276 --> 00:12:15,859\n",
      "$700 per defense.\n",
      "\n",
      "167\n",
      "00:12:15,895 --> 00:12:18,278\n",
      "No, no, no. \"Defendant.\" \"...dant.\"\n",
      "\n",
      "168\n",
      "00:12:18,314 --> 00:12:21,482\n",
      "Three defendants, $2,100,\n",
      "which, by the way, bargain...\n",
      "\n",
      "169\n",
      "00:12:21,484 --> 00:12:22,900\n",
      "What I did for them.\n",
      "\n",
      "170\n",
      "00:12:22,952 --> 00:12:24,902\n",
      "They going to jail, ain't they?\n",
      "\n",
      "171\n",
      "00:12:24,954 --> 00:12:27,237\n",
      "So, since when does that matter?!\n",
      "\n",
      "172\n",
      "00:12:27,289 --> 00:12:29,623\n",
      "They... They had sex with a head!\n",
      "\n",
      "173\n",
      "00:12:29,658 --> 00:12:32,242\n",
      "Look, didn't nobody tell you to\n",
      "try all three of them together.\n",
      "\n",
      "174\n",
      "00:12:32,294 --> 00:12:34,378\n",
      "One trial... $700.\n",
      "\n",
      "175\n",
      "00:12:34,413 --> 00:12:35,996\n",
      "You're gonna miss me.\n",
      "You are gonna miss me.\n",
      "\n",
      "176\n",
      "00:12:35,998 --> 00:12:37,664\n",
      "'Cause it'll be a cold day in hell\n",
      "\n",
      "177\n",
      "00:12:37,666 --> 00:12:39,967\n",
      "before I do any more P.D. Work\n",
      "for this shitty court!\n",
      "\n",
      "178\n",
      "00:12:40,002 --> 00:12:41,468\n",
      "Sayonara, baby!\n",
      "\n",
      "179\n",
      "00:12:41,504 --> 00:12:44,338\n",
      "You have yourself a nice day.\n",
      "\n",
      "180\n",
      "00:13:07,997 --> 00:13:09,947\n",
      "Law offices of James Mcgill.\n",
      "\n",
      "181\n",
      "00:13:09,999 --> 00:13:11,949\n",
      "How may I direct your call?\n",
      "\n",
      "182\n",
      "00:13:13,452 --> 00:13:15,619\n",
      "Yes, Mrs. Kettleman,\n",
      "so good of you to return.\n",
      "\n",
      "183\n",
      "00:13:15,671 --> 00:13:18,038\n",
      "Actually, I don't have\n",
      "Mr. Mcgill at the moment,\n",
      "\n",
      "184\n",
      "00:13:18,040 --> 00:13:21,458\n",
      "but I know he'd...\n",
      "\n",
      "185\n",
      "00:13:21,510 --> 00:13:23,043\n",
      "Oh, splendid.\n",
      "\n",
      "186\n",
      "00:13:23,045 --> 00:13:25,879\n",
      "Uh, unfortunately,\n",
      "our offices are being painted\n",
      "\n",
      "187\n",
      "00:13:25,881 --> 00:13:27,381\n",
      "and the fumes are quite horrid.\n",
      "\n",
      "188\n",
      "00:13:27,383 --> 00:13:30,384\n",
      "Um, uh, could he meet you\n",
      "and your husband at, say,\n",
      "\n",
      "189\n",
      "00:13:30,386 --> 00:13:32,886\n",
      "uh, Loyola's Cafe on Central?\n",
      "\n",
      "190\n",
      "00:13:34,557 --> 00:13:38,392\n",
      "4:00 it shall be. Cheers.\n",
      "\n",
      "191\n",
      "00:14:12,728 --> 00:14:14,511\n",
      "$3.\n",
      "\n",
      "192\n",
      "00:14:14,563 --> 00:14:16,730\n",
      "Uh, I'm validated. See the stickers?\n",
      "\n",
      "193\n",
      "00:14:16,765 --> 00:14:18,348\n",
      "Well, I see five stickers.\n",
      "\n",
      "194\n",
      "00:14:18,400 --> 00:14:20,567\n",
      "You're one shy. It's $3.\n",
      "\n",
      "195\n",
      "00:14:20,603 --> 00:14:23,770\n",
      "They gave me... Look.\n",
      "\n",
      "196\n",
      "00:14:23,772 --> 00:14:26,406\n",
      "I'm validated for the entire day, okay?\n",
      "\n",
      "197\n",
      "00:14:26,442 --> 00:14:28,825\n",
      "Five stickers, six stickers...\n",
      "I don't know from stickers\n",
      "\n",
      "198\n",
      "00:14:28,861 --> 00:14:31,445\n",
      "because I was in that court back there\n",
      "\n",
      "199\n",
      "00:14:31,447 --> 00:14:33,447\n",
      "saving people's lives, so...\n",
      "\n",
      "200\n",
      "00:14:33,449 --> 00:14:35,666\n",
      "Well, gee, that's swell.\n",
      "\n",
      "201\n",
      "00:14:35,701 --> 00:14:39,086\n",
      "And thank you for restoring\n",
      "my faith in the judicial system.\n",
      "\n",
      "202\n",
      "00:14:39,121 --> 00:14:42,706\n",
      "Now you either pay the $3,\n",
      "or you go back inside\n",
      "\n",
      "203\n",
      "00:14:42,758 --> 00:14:45,008\n",
      "and you get an additional sticker.\n",
      "\n",
      "204\n",
      "00:14:45,044 --> 00:14:49,630\n",
      "Son of a bitch.\n",
      "\n",
      "205\n",
      "00:14:49,632 --> 00:14:52,132\n",
      "Fine. You win. Hooray for you.\n",
      "\n",
      "206\n",
      "00:14:52,134 --> 00:14:54,351\n",
      "Backing up!\n",
      "\n",
      "207\n",
      "00:14:54,386 --> 00:14:56,637\n",
      "I have to back up! I need more stickers!\n",
      "\n",
      "208\n",
      "00:14:56,639 --> 00:14:58,355\n",
      "Don't have enough stickers!\n",
      "\n",
      "209\n",
      "00:14:58,390 --> 00:15:01,808\n",
      "Thank you! Thank you... Very nice!\n",
      "\n",
      "210\n",
      "00:15:09,068 --> 00:15:10,867\n",
      "Employee of the month over here!\n",
      "\n",
      "211\n",
      "00:15:10,903 --> 00:15:12,486\n",
      "Yeah!\n",
      "\n",
      "212\n",
      "00:15:12,488 --> 00:15:14,655\n",
      "Hooray! Give him a medal!\n",
      "\n",
      "213\n",
      "00:15:14,657 --> 00:15:18,625\n",
      "Don't do anything, guys.\n",
      "Just relax, all right?\n",
      "\n",
      "214\n",
      "00:15:18,661 --> 00:15:23,630\n",
      "Well, I'm just fuzzy as to\n",
      "why you think he needs a lawyer.\n",
      "\n",
      "215\n",
      "00:15:23,666 --> 00:15:27,834\n",
      "I mean, Craig, the way you run\n",
      "your office is beyond reproach.\n",
      "\n",
      "216\n",
      "00:15:27,836 --> 00:15:29,469\n",
      "Yeah. Yeah. Beyond reproach.\n",
      "\n",
      "217\n",
      "00:15:29,505 --> 00:15:30,887\n",
      "Yeah. I'm a stickler, you know, for...\n",
      "\n",
      "218\n",
      "00:15:30,923 --> 00:15:32,889\n",
      "He is. He's a stickler with the money.\n",
      "\n",
      "219\n",
      "00:15:32,925 --> 00:15:34,508\n",
      "- He's definitely a stickler.\n",
      "- Yeah. Yeah.\n",
      "\n",
      "220\n",
      "00:15:34,510 --> 00:15:36,760\n",
      "I mean, he's certainly\n",
      "not guilty of some...\n",
      "\n",
      "221\n",
      "00:15:36,812 --> 00:15:39,980\n",
      "Is certainly not. He's innocent\n",
      "of any wrongdoing.\n",
      "\n",
      "222\n",
      "00:15:40,015 --> 00:15:41,898\n",
      "That's abundantly clear to me.\n",
      "\n",
      "223\n",
      "00:15:41,934 --> 00:15:45,519\n",
      "And frankly, I don't go looking\n",
      "for guilty people to represent.\n",
      "\n",
      "224\n",
      "00:15:45,521 --> 00:15:48,105\n",
      "I mean who needs that aggravation, right?\n",
      "\n",
      "225\n",
      "00:15:48,157 --> 00:15:49,523\n",
      "Right.\n",
      "\n",
      "226\n",
      "00:15:49,525 --> 00:15:52,743\n",
      "Look, all I know\n",
      "is what I read in the paper.\n",
      "\n",
      "227\n",
      "00:15:52,778 --> 00:15:56,446\n",
      "And typically, when money goes missing\n",
      "\n",
      "228\n",
      "00:15:56,498 --> 00:15:58,081\n",
      "from the county treasury...\n",
      "And the number here is,\n",
      "\n",
      "229\n",
      "00:15:58,117 --> 00:15:59,282\n",
      "uh, $1.6 million...\n",
      "\n",
      "230\n",
      "00:15:59,334 --> 00:16:00,534\n",
      "Well, that's an accounting...\n",
      "\n",
      "231\n",
      "00:16:00,536 --> 00:16:01,785\n",
      "It's an accounting discrepancy.\n",
      "\n",
      "232\n",
      "00:16:01,837 --> 00:16:03,036\n",
      "It's a discrepancy, absolutely.\n",
      "\n",
      "233\n",
      "00:16:03,038 --> 00:16:06,256\n",
      "But typically, when that happens,\n",
      "\n",
      "234\n",
      "00:16:06,291 --> 00:16:08,458\n",
      "the police look at the treasurer.\n",
      "\n",
      "235\n",
      "00:16:08,510 --> 00:16:11,845\n",
      "And since that person is, uh...\n",
      "\n",
      "236\n",
      "00:16:11,880 --> 00:16:15,098\n",
      "I just think a little\n",
      "proactivity may be in order.\n",
      "\n",
      "237\n",
      "00:16:15,134 --> 00:16:17,267\n",
      "Well...\n",
      "\n",
      "238\n",
      "00:16:17,302 --> 00:16:19,386\n",
      "You know, I just think I'd\n",
      "look guilty if I hired a lawyer.\n",
      "\n",
      "239\n",
      "00:16:19,388 --> 00:16:21,288\n",
      "- Yeah.\n",
      "- No.\n",
      "\n",
      "240\n",
      "00:16:21,323 --> 00:16:24,891\n",
      "Actually, it's getting arrested\n",
      "that makes people look guilty,\n",
      "\n",
      "241\n",
      "00:16:24,893 --> 00:16:26,393\n",
      "even the innocent ones,\n",
      "\n",
      "242\n",
      "00:16:26,395 --> 00:16:28,228\n",
      "and innocent people get arrested every day.\n",
      "\n",
      "243\n",
      "00:16:28,230 --> 00:16:31,231\n",
      "And they find themselves in a little room\n",
      "\n",
      "244\n",
      "00:16:31,233 --> 00:16:34,651\n",
      "with a detective who acts\n",
      "like he's their best friend.\n",
      "\n",
      "245\n",
      "00:16:34,703 --> 00:16:37,654\n",
      "\"Talk to me,\" he says. Uh,\n",
      "\"help me clear this thing up.\n",
      "\n",
      "246\n",
      "00:16:37,706 --> 00:16:39,623\n",
      "You don't need a lawyer... Only\n",
      "guilty people need lawyers.\"\n",
      "\n",
      "247\n",
      "00:16:39,658 --> 00:16:40,907\n",
      "And boom!\n",
      "\n",
      "248\n",
      "00:16:40,909 --> 00:16:43,493\n",
      "Hey, that's when it all goes south.\n",
      "\n",
      "249\n",
      "00:16:43,545 --> 00:16:45,495\n",
      "That's when you want someone\n",
      "in your corner,\n",
      "\n",
      "250\n",
      "00:16:45,547 --> 00:16:48,999\n",
      "someone who will fight tooth and nail.\n",
      "\n",
      "251\n",
      "00:16:50,419 --> 00:16:52,052\n",
      "Lawyers... You know,\n",
      "we're like health insurance.\n",
      "\n",
      "252\n",
      "00:16:52,087 --> 00:16:53,336\n",
      "You hope you never need it.\n",
      "\n",
      "253\n",
      "00:16:53,388 --> 00:16:56,173\n",
      "But, man, oh, man, not having it... No.\n",
      "\n",
      "254\n",
      "00:16:58,065 --> 00:17:00,032\n",
      "How would we proceed\n",
      "\n",
      "255\n",
      "00:17:00,067 --> 00:17:03,666\n",
      "- if we decided to, uh...\n",
      "- Oh, well, this is a...\n",
      "\n",
      "256\n",
      "00:17:04,266 --> 00:17:06,082\n",
      "Letter of engagement.\n",
      "\n",
      "257\n",
      "00:17:06,166 --> 00:17:07,799\n",
      "It's very simple, straightforward.\n",
      "\n",
      "258\n",
      "00:17:07,834 --> 00:17:11,252\n",
      "Please, uh, read it closely,\n",
      "but if you sign it, um,\n",
      "\n",
      "259\n",
      "00:17:11,254 --> 00:17:14,672\n",
      "I can get started\n",
      "on that defense strategy of ours\n",
      "\n",
      "260\n",
      "00:17:14,724 --> 00:17:16,090\n",
      "this very afternoon.\n",
      "\n",
      "261\n",
      "00:17:31,775 --> 00:17:34,158\n",
      "Craig...\n",
      "\n",
      "262\n",
      "00:17:34,194 --> 00:17:37,578\n",
      "I think maybe we should sleep on it.\n",
      "\n",
      "263\n",
      "00:17:37,614 --> 00:17:41,199\n",
      "Uh... Sure.\n",
      "\n",
      "264\n",
      "00:17:41,251 --> 00:17:42,834\n",
      "Don't you think, Mr. Mcgill?\n",
      "\n",
      "265\n",
      "00:17:42,869 --> 00:17:44,252\n",
      "Maybe we should sleep on it.\n",
      "\n",
      "266\n",
      "00:17:44,287 --> 00:17:46,454\n",
      "Oh, oh, please, call me \"Jimmy.\"\n",
      "\n",
      "267\n",
      "00:17:46,456 --> 00:17:48,089\n",
      "A... Absolutely.\n",
      "\n",
      "268\n",
      "00:17:48,124 --> 00:17:49,958\n",
      "I mean, there's no rush.\n",
      "\n",
      "269\n",
      "00:17:49,960 --> 00:17:54,028\n",
      "You... Oh, and, you know, Craig,\n",
      "we got to pick up the kids...\n",
      "\n",
      "270\n",
      "00:17:54,064 --> 00:17:56,965\n",
      "- Oh. Right. Yeah...\n",
      "- At the...Yeah. Right.\n",
      "\n",
      "271\n",
      "00:17:56,967 --> 00:17:59,717\n",
      "Well, uh, we will be in touch.\n",
      "\n",
      "272\n",
      "00:17:59,769 --> 00:18:03,354\n",
      "Oh. Uh, thank you for the\n",
      "coffee and for the advice.\n",
      "\n",
      "273\n",
      "00:18:03,390 --> 00:18:04,772\n",
      "You're very, very welcome.\n",
      "\n",
      "274\n",
      "00:18:04,808 --> 00:18:05,773\n",
      "Oh!\n",
      "\n",
      "275\n",
      "00:18:05,809 --> 00:18:08,393\n",
      "Um, here. Take this.\n",
      "\n",
      "276\n",
      "00:18:08,445 --> 00:18:11,612\n",
      "It's, uh... It's got my phone number on it.\n",
      "\n",
      "277\n",
      "00:18:11,648 --> 00:18:14,983\n",
      "- Yeah. Okay.\n",
      "- Got it.\n",
      "\n",
      "278\n",
      "00:18:25,662 --> 00:18:34,085\n",
      "The number is 9456-0054-4896-0643,\n",
      "\n",
      "279\n",
      "00:18:34,137 --> 00:18:37,088\n",
      "and the expiration is 11/04.\n",
      "\n",
      "280\n",
      "00:18:37,140 --> 00:18:40,308\n",
      "Okay, and the keyword here\n",
      "is \"classy,\" all right?\n",
      "\n",
      "281\n",
      "00:18:40,343 --> 00:18:43,928\n",
      "Super classy... Use only flowers\n",
      "that look expensive,\n",
      "\n",
      "282\n",
      "00:18:43,980 --> 00:18:45,763\n",
      "but, you know, aren't.\n",
      "\n",
      "283\n",
      "00:18:45,815 --> 00:18:50,768\n",
      "Uh, and the note should say\n",
      "\"Dear Betsy and Craig,\"\n",
      "\n",
      "284\n",
      "00:18:50,820 --> 00:18:54,405\n",
      "uh, \"best wishes\n",
      "from your stickler for justice\",\n",
      "\n",
      "285\n",
      "00:18:54,441 --> 00:18:55,823\n",
      "James Mcgill.\"\n",
      "\n",
      "286\n",
      "00:18:55,859 --> 00:18:58,659\n",
      "Okay? And \"Mcgill\" is spelled \"m-c...\"\n",
      "\n",
      "287\n",
      "00:18:58,695 --> 00:19:01,863\n",
      "Well, run it again.\n",
      "Oh, no, no, no. It's paid up.\n",
      "\n",
      "288\n",
      "00:19:01,865 --> 00:19:02,864\n",
      "Run it again.\n",
      "\n",
      "289\n",
      "00:19:02,866 --> 00:19:03,865\n",
      "Oh!\n",
      "\n",
      "290\n",
      "00:19:09,456 --> 00:19:10,872\n",
      "Oh...\n",
      "\n",
      "291\n",
      "00:19:14,344 --> 00:19:16,711\n",
      "Oh, God! Oh, God! Oh, God!\n",
      "\n",
      "292\n",
      "00:19:16,713 --> 00:19:18,129\n",
      "Oh, my God! Ohh.\n",
      "\n",
      "293\n",
      "00:19:18,181 --> 00:19:19,964\n",
      "Cal, Cal! Look at me!\n",
      "\n",
      "294\n",
      "00:19:20,016 --> 00:19:21,599\n",
      "Buddy, look at me. Are you okay?\n",
      "\n",
      "295\n",
      "00:19:21,634 --> 00:19:23,634\n",
      "Say something. What did you do?\n",
      "\n",
      "296\n",
      "00:19:23,686 --> 00:19:25,453\n",
      "- I did...\n",
      "- What did you do to my brother?\n",
      "\n",
      "297\n",
      "00:19:25,485 --> 00:19:26,235\n",
      "Why don't you look where you're going?!\n",
      "\n",
      "298\n",
      "00:19:26,285 --> 00:19:27,951\n",
      "I was making a turn!\n",
      "He came out of nowhere!\n",
      "\n",
      "299\n",
      "00:19:28,085 --> 00:19:29,168\n",
      "You freaking hit him, man!\n",
      "\n",
      "300\n",
      "00:19:30,085 --> 00:19:31,134\n",
      "You ran him over!\n",
      "\n",
      "301\n",
      "00:19:31,770 --> 00:19:33,153\n",
      "You ran over my brother!\n",
      "\n",
      "302\n",
      "00:19:33,188 --> 00:19:34,488\n",
      "And I got the whole thing on video.\n",
      "\n",
      "303\n",
      "00:19:34,523 --> 00:19:36,156\n",
      "It was an accident. It was an accident.\n",
      "\n",
      "304\n",
      "00:19:36,191 --> 00:19:39,576\n",
      "He didn't... he didn't mean to.\n",
      "Let me just... Aah! Aah! Oh!\n",
      "\n",
      "305\n",
      "00:19:39,612 --> 00:19:41,028\n",
      "No, no. That's broke.\n",
      "That's broke. You broke his leg.\n",
      "\n",
      "306\n",
      "00:19:41,080 --> 00:19:42,446\n",
      "It's my leg.\n",
      "\n",
      "307\n",
      "00:19:42,448 --> 00:19:44,164\n",
      "Why are you driving around\n",
      "and not looking?!\n",
      "\n",
      "308\n",
      "00:19:44,199 --> 00:19:47,698\n",
      "- Driving around, breaking people's legs!\n",
      "- It's... It's o... Okay, okay, okay!\n",
      "\n",
      "309\n",
      "00:19:47,699 --> 00:19:49,282\n",
      "Where's the... Somebody call the cops!\n",
      "\n",
      "310\n",
      "00:19:49,296 --> 00:19:50,745\n",
      "Don't call... don't call the police.\n",
      "Don't call the police.\n",
      "\n",
      "311\n",
      "00:19:50,797 --> 00:19:52,547\n",
      "- Lars.\n",
      "- Ipolic韆!\n",
      "\n",
      "312\n",
      "00:19:52,582 --> 00:19:54,716\n",
      "- Don't, don't, don't. Don't call them.\n",
      "- I'll call them myself.\n",
      "\n",
      "313\n",
      "00:19:54,751 --> 00:19:55,550\n",
      "- I'm doing it myself.\n",
      "- Don't call the police.\n",
      "\n",
      "314\n",
      "00:19:55,750 --> 00:19:56,350\n",
      "Don't call the police.\n",
      "\n",
      "315\n",
      "00:19:56,351 --> 00:19:57,250\n",
      "- Don't call the cops?\n",
      "- No.\n",
      "\n",
      "316\n",
      "00:19:57,587 --> 00:19:58,820\n",
      "How you gonna fix this?\n",
      "\n",
      "317\n",
      "00:19:58,886 --> 00:20:01,723\n",
      "What are you gonna do to make things right?\n",
      "\n",
      "318\n",
      "00:20:07,481 --> 00:20:09,647\n",
      "I don't know, fellas.\n",
      "\n",
      "319\n",
      "00:20:10,851 --> 00:20:14,252\n",
      "What can I do to make it right?\n",
      "\n",
      "320\n",
      "00:20:20,110 --> 00:20:22,911\n",
      "I don't know.\n",
      "\n",
      "321\n",
      "00:20:22,946 --> 00:20:25,914\n",
      "$500.\n",
      "\n",
      "322\n",
      "00:20:25,949 --> 00:20:28,750\n",
      "500 bucks?\n",
      "\n",
      "323\n",
      "00:20:28,785 --> 00:20:30,118\n",
      "Yeah?\n",
      "\n",
      "324\n",
      "00:20:30,170 --> 00:20:31,703\n",
      "Mm-hmm.\n",
      "\n",
      "325\n",
      "00:20:33,457 --> 00:20:34,839\n",
      "Ow! What the hell, man?!\n",
      "\n",
      "326\n",
      "00:20:34,875 --> 00:20:36,124\n",
      "Listen, starlight express,\n",
      "\n",
      "327\n",
      "00:20:36,176 --> 00:20:37,959\n",
      "I'm gonna give you a 9.6 for technique,\n",
      "\n",
      "328\n",
      "00:20:38,011 --> 00:20:40,178\n",
      "0.0 for choice of victim.\n",
      "\n",
      "329\n",
      "00:20:40,213 --> 00:20:42,680\n",
      "I'm a lawyer.\n",
      "\n",
      "330\n",
      "00:20:42,716 --> 00:20:45,683\n",
      "Furthermore, does...\n",
      "Does this steaming pile of crap\n",
      "\n",
      "331\n",
      "00:20:45,719 --> 00:20:47,685\n",
      "scream \"payday\" to you, huh?!\n",
      "\n",
      "332\n",
      "00:20:47,721 --> 00:20:50,305\n",
      "The only way that entire car\n",
      "is worth 500 bucks\n",
      "\n",
      "333\n",
      "00:20:50,357 --> 00:20:53,141\n",
      "is if there's a $300 hooker sitting in it.\n",
      "\n",
      "334\n",
      "00:20:53,193 --> 00:20:57,695\n",
      "Now, let's talk about what\n",
      "you owe me for the windshield.\n",
      "\n",
      "335\n",
      "00:20:57,731 --> 00:21:01,116\n",
      "You... what?\n",
      "\n",
      "336\n",
      "00:21:02,369 --> 00:21:04,652\n",
      "I'll take a check!\n",
      "\n",
      "337\n",
      "00:21:13,213 --> 00:21:15,246\n",
      "Chao chi c'ung, ladies! Chao chi c'ung!\n",
      "\n",
      "338\n",
      "00:21:15,248 --> 00:21:17,248\n",
      "Chao chi c'ung!\n",
      "\n",
      "339\n",
      "00:21:17,250 --> 00:21:18,883\n",
      "Chao chi c'ung, Mrs. Nguyen.\n",
      "\n",
      "340\n",
      "00:21:18,919 --> 00:21:20,718\n",
      "My, don't you look...\n",
      "\n",
      "341\n",
      "00:21:20,754 --> 00:21:22,720\n",
      "Got my mail?\n",
      "\n",
      "342\n",
      "00:21:22,756 --> 00:21:26,141\n",
      "You work for people who have sex\n",
      "with chopped-off head?\n",
      "\n",
      "343\n",
      "00:21:26,176 --> 00:21:29,761\n",
      "- Was it in the paper?\n",
      "- I heard it from my cousin.\n",
      "\n",
      "344\n",
      "00:21:29,763 --> 00:21:32,397\n",
      "Why? Why you work for these people?\n",
      "\n",
      "345\n",
      "00:21:32,432 --> 00:21:35,400\n",
      "Just lucky, I guess.\n",
      "\n",
      "346\n",
      "00:21:35,435 --> 00:21:38,436\n",
      "Cucumber water for customer only!\n",
      "\n",
      "347\n",
      "00:22:30,290 --> 00:22:35,243\n",
      "You have... Zero messages.\n",
      "\n",
      "348\n",
      "00:24:11,433 --> 00:24:13,600\n",
      "Oh.\n",
      "\n",
      "349\n",
      "00:24:13,602 --> 00:24:17,020\n",
      "Brenda, looking good. Nice do.\n",
      "\n",
      "350\n",
      "00:24:17,072 --> 00:24:19,022\n",
      "Uh, where's Lord Vader?\n",
      "\n",
      "351\n",
      "00:24:19,074 --> 00:24:20,857\n",
      "Uh, he's not quite ready for you yet.\n",
      "\n",
      "352\n",
      "00:24:20,909 --> 00:24:22,692\n",
      "South conference room.\n",
      "\n",
      "353\n",
      "00:24:22,744 --> 00:24:24,110\n",
      "How about you wait out here?\n",
      "\n",
      "354\n",
      "00:24:24,112 --> 00:24:26,946\n",
      "How about I don't?\n",
      "\n",
      "355\n",
      "00:24:26,948 --> 00:24:29,782\n",
      "- Oh, Sir Francis.\n",
      "- James.\n",
      "\n",
      "356\n",
      "00:24:29,784 --> 00:24:31,417\n",
      "Well-groomed, as always.\n",
      "\n",
      "357\n",
      "00:24:31,453 --> 00:24:33,620\n",
      "- Okay.\n",
      "- All right.\n",
      "\n",
      "358\n",
      "00:24:39,210 --> 00:24:42,045\n",
      "Keith, Karen, yes.\n",
      "\n",
      "359\n",
      "00:24:47,969 --> 00:24:53,356\n",
      "You have meddled with the primal\n",
      "forces of nature, Mr. Hamlin,\n",
      "\n",
      "360\n",
      "00:24:53,391 --> 00:24:56,192\n",
      "and I won't have it!\n",
      "\n",
      "361\n",
      "00:24:56,227 --> 00:24:57,610\n",
      "Do you want me to call security?\n",
      "\n",
      "362\n",
      "00:24:57,646 --> 00:24:59,228\n",
      "It's okay, Brenda, we got it.\n",
      "\n",
      "363\n",
      "00:25:00,649 --> 00:25:03,066\n",
      "Hey, Jack. Hey, Nate. Hey, Aaron.\n",
      "\n",
      "364\n",
      "00:25:03,118 --> 00:25:05,034\n",
      "What can we do for you, Jimmy?\n",
      "\n",
      "365\n",
      "00:25:05,070 --> 00:25:07,870\n",
      "I'm sorry. It's... It's this table.\n",
      "\n",
      "366\n",
      "00:25:07,906 --> 00:25:10,740\n",
      "Something just comes over me.\n",
      "\n",
      "367\n",
      "00:25:16,498 --> 00:25:19,499\n",
      "You can tell me what this, uh, $26,000\n",
      "\n",
      "368\n",
      "00:25:19,501 --> 00:25:21,918\n",
      "is supposed to be for.\n",
      "\n",
      "369\n",
      "00:25:21,970 --> 00:25:24,837\n",
      "That's money for Chuck.\n",
      "Isn't that what you wanted?\n",
      "\n",
      "370\n",
      "00:25:24,839 --> 00:25:28,057\n",
      "A measly 26 grand?\n",
      "\n",
      "371\n",
      "00:25:28,093 --> 00:25:30,059\n",
      "Jesus, you're like Peter\n",
      "Minuit with the Indians.\n",
      "\n",
      "372\n",
      "00:25:30,095 --> 00:25:32,061\n",
      "Throw in some beads and shells\n",
      "while you're at it.\n",
      "\n",
      "373\n",
      "00:25:32,097 --> 00:25:33,731\n",
      "It's just a start. There'll be more...\n",
      "\n",
      "374\n",
      "00:25:33,797 --> 00:25:35,380\n",
      "Unless you're gonna just tear them all up.\n",
      "\n",
      "375\n",
      "00:25:35,382 --> 00:25:38,383\n",
      "And why was it made out to me...\n",
      "Why not Chuck?\n",
      "\n",
      "376\n",
      "00:25:38,385 --> 00:25:39,851\n",
      "Can he make his way to the bank?\n",
      "\n",
      "377\n",
      "00:25:43,085 --> 00:25:44,667\n",
      "I just assumed it was best\n",
      "\n",
      "378\n",
      "00:25:44,719 --> 00:25:46,302\n",
      "to have the money go through you.\n",
      "\n",
      "379\n",
      "00:25:46,338 --> 00:25:48,721\n",
      "We can do it any way you want.\n",
      "\n",
      "380\n",
      "00:25:48,757 --> 00:25:51,141\n",
      "This isn't going away, Howard.\n",
      "\n",
      "381\n",
      "00:25:51,176 --> 00:25:54,144\n",
      "What Chuck did for this firm...\n",
      "And damn near single-handedly...\n",
      "\n",
      "382\n",
      "00:25:54,179 --> 00:25:57,347\n",
      "1/3 of this place belongs to him.\n",
      "\n",
      "383\n",
      "00:25:57,399 --> 00:25:59,766\n",
      "Yeah. What do you got... 12 chairs here?\n",
      "\n",
      "384\n",
      "00:25:59,768 --> 00:26:02,185\n",
      "Four of these chairs are Chuck's.\n",
      "\n",
      "385\n",
      "00:26:02,237 --> 00:26:04,821\n",
      "You got five of these light thingumajigs?\n",
      "\n",
      "386\n",
      "00:26:04,856 --> 00:26:09,025\n",
      "Uh, mm, 1, 2/3 are Chuck's.\n",
      "\n",
      "387\n",
      "00:26:09,077 --> 00:26:12,028\n",
      "Yeah. Six... How many\n",
      "danishes... Six danishes?\n",
      "\n",
      "388\n",
      "00:26:12,080 --> 00:26:13,863\n",
      "You can have all the Danish\n",
      "you want, Jimmy. No, no.\n",
      "\n",
      "389\n",
      "00:26:13,915 --> 00:26:16,282\n",
      "They're Chuck's danishes,\n",
      "and Chuck isn't greedy,\n",
      "\n",
      "390\n",
      "00:26:16,284 --> 00:26:18,034\n",
      "so h-he'll just take two...\n",
      "\n",
      "391\n",
      "00:26:18,086 --> 00:26:21,871\n",
      "Plus $17 million... In that ballpark.\n",
      "\n",
      "392\n",
      "00:26:21,923 --> 00:26:23,506\n",
      "I mean, we'll know\n",
      "\n",
      "393\n",
      "00:26:23,542 --> 00:26:25,925\n",
      "once we get the accountants\n",
      "poking around here.\n",
      "\n",
      "394\n",
      "00:26:25,961 --> 00:26:28,761\n",
      "Until then, no more penny-ante checks\n",
      "\n",
      "395\n",
      "00:26:28,797 --> 00:26:30,763\n",
      "designed to make it look like\n",
      "Chuck still works here.\n",
      "\n",
      "396\n",
      "00:26:30,799 --> 00:26:32,966\n",
      "He doesn't. He never will again.\n",
      "\n",
      "397\n",
      "00:26:32,968 --> 00:26:35,969\n",
      "It's time to do right by him\n",
      "and cash him out.\n",
      "\n",
      "398\n",
      "00:26:35,971 --> 00:26:39,272\n",
      "So, these are Chuck's own wishes\n",
      "that you're conveying?\n",
      "\n",
      "399\n",
      "00:26:39,307 --> 00:26:41,774\n",
      "- This is what's best for him.\n",
      "- Mm.\n",
      "\n",
      "400\n",
      "00:26:41,810 --> 00:26:44,060\n",
      "So he personally told you\n",
      "that it's his wish\n",
      "\n",
      "401\n",
      "00:26:44,112 --> 00:26:45,612\n",
      "to withdraw from the firm?\n",
      "\n",
      "402\n",
      "00:26:49,484 --> 00:26:50,950\n",
      "See, that would surprise me.\n",
      "\n",
      "403\n",
      "00:26:50,986 --> 00:26:52,702\n",
      "It's been nearly a year\n",
      "since he's set foot in here.\n",
      "\n",
      "404\n",
      "00:26:52,737 --> 00:26:54,579\n",
      "I'm just doing what's in his\n",
      "\n",
      "405\n",
      "00:26:54,604 --> 00:26:56,289\n",
      "- best interests.\n",
      "- So am I.\n",
      "\n",
      "406\n",
      "00:26:56,324 --> 00:26:59,909\n",
      "And I, for one, believe\n",
      "he's gonna lick this thing.\n",
      "\n",
      "407\n",
      "00:26:59,961 --> 00:27:02,328\n",
      "Until then, his office\n",
      "is just as he left it.\n",
      "\n",
      "408\n",
      "00:27:02,330 --> 00:27:03,963\n",
      "His secretary's still on payroll.\n",
      "\n",
      "409\n",
      "00:27:03,999 --> 00:27:06,382\n",
      "If Chuck can call this\n",
      "an extended sabbatical,\n",
      "\n",
      "410\n",
      "00:27:06,418 --> 00:27:08,334\n",
      "then so can we...\n",
      "He's that important to us.\n",
      "\n",
      "411\n",
      "00:27:08,336 --> 00:27:12,255\n",
      "You know what?\n",
      "Let's let a jury figure it out.\n",
      "\n",
      "412\n",
      "00:27:12,307 --> 00:27:15,808\n",
      "Yeah, they're gonna love you, Howard.\n",
      "\n",
      "413\n",
      "00:27:15,844 --> 00:27:18,094\n",
      "You're so down-to-earth and relatable.\n",
      "\n",
      "414\n",
      "00:27:19,848 --> 00:27:24,684\n",
      "And you... Will... Atone!\n",
      "\n",
      "415\n",
      "00:27:27,105 --> 00:27:29,689\n",
      "It's Ned Beatty, from \"Network.\"\n",
      "\n",
      "416\n",
      "00:27:29,691 --> 00:27:33,776\n",
      "For Christ's sakes, guys.\n",
      "\n",
      "417\n",
      "00:27:40,502 --> 00:27:43,453\n",
      "Jimmy.\n",
      "\n",
      "418\n",
      "00:27:43,505 --> 00:27:46,456\n",
      "I almost forgot... This month's filings.\n",
      "\n",
      "419\n",
      "00:27:46,508 --> 00:27:48,675\n",
      "You could save me the postage.\n",
      "\n",
      "420\n",
      "00:27:48,710 --> 00:27:50,510\n",
      "W... Weren't you listening in there?\n",
      "\n",
      "421\n",
      "00:27:50,545 --> 00:27:52,512\n",
      "Chuck doesn't work here anymore.\n",
      "\n",
      "422\n",
      "00:27:52,547 --> 00:27:54,681\n",
      "You think I'm gonna help you\n",
      "establish a paper trail?\n",
      "\n",
      "423\n",
      "00:27:54,716 --> 00:27:55,965\n",
      "- Now, Jimmy...\n",
      "- No, stop trying\n",
      "\n",
      "424\n",
      "00:27:55,990 --> 00:27:57,324\n",
      "to pawn that shit off on him.\n",
      "\n",
      "425\n",
      "00:27:57,352 --> 00:27:59,519\n",
      "Jimmy.\n",
      "\n",
      "426\n",
      "00:27:59,554 --> 00:28:02,722\n",
      "You know, Jimmy, sometimes,\n",
      "in our line of work,\n",
      "\n",
      "427\n",
      "00:28:02,724 --> 00:28:07,560\n",
      "you can get so... Caught\n",
      "up in the idea of winning\n",
      "\n",
      "428\n",
      "00:28:07,562 --> 00:28:10,029\n",
      "that you forget to listen to your heart.\n",
      "\n",
      "429\n",
      "00:28:12,400 --> 00:28:15,818\n",
      "Give Chuck my love, would you?\n",
      "\n",
      "430\n",
      "00:28:17,906 --> 00:28:20,290\n",
      "Oh, there you are.\n",
      "\n",
      "431\n",
      "00:28:20,325 --> 00:28:23,293\n",
      "- Betsy, Craig.\n",
      "- Ah.\n",
      "\n",
      "432\n",
      "00:28:23,328 --> 00:28:25,295\n",
      "Hi. Okay.\n",
      "\n",
      "433\n",
      "00:28:34,923 --> 00:28:36,756\n",
      "You look lovely today.\n",
      "\n",
      "434\n",
      "00:28:36,758 --> 00:28:38,808\n",
      "Oh, thank you so much.\n",
      "\n",
      "435\n",
      "00:29:54,465 --> 00:29:59,301\n",
      "- Couldn't you just...\n",
      "- You know, I can't.\n",
      "\n",
      "436\n",
      "00:31:18,764 --> 00:31:20,347\n",
      "Aah! Son of a bitch!\n",
      "\n",
      "437\n",
      "00:31:20,349 --> 00:31:21,765\n",
      "Ground yourself?\n",
      "\n",
      "438\n",
      "00:31:22,448 --> 00:31:25,032\n",
      "Yes, I grounded myself.\n",
      "\n",
      "439\n",
      "00:32:22,675 --> 00:32:24,842\n",
      "You got to stop putting bacon on the list,\n",
      "\n",
      "440\n",
      "00:32:24,877 --> 00:32:28,679\n",
      "'cause that cooler's\n",
      "looking like a trichinosis stew.\n",
      "\n",
      "441\n",
      "00:32:28,714 --> 00:32:30,214\n",
      "Perfect timing.\n",
      "\n",
      "442\n",
      "00:32:32,051 --> 00:32:33,684\n",
      "Hmm.\n",
      "\n",
      "443\n",
      "00:32:33,719 --> 00:32:35,886\n",
      "\"Professor Brans Vogelson.\"\n",
      "\n",
      "444\n",
      "00:32:35,888 --> 00:32:37,938\n",
      "- Mm-hmm.\n",
      "- \"University of Helsinki\"?\n",
      "\n",
      "445\n",
      "00:32:37,974 --> 00:32:40,357\n",
      "Yeah, you're gonna have to\n",
      "get that translated.\n",
      "\n",
      "446\n",
      "00:32:40,393 --> 00:32:43,194\n",
      "- Into Swedish?\n",
      "- Finnish.\n",
      "\n",
      "447\n",
      "00:32:43,229 --> 00:32:45,196\n",
      "Finnish, uh, translating into...\n",
      "\n",
      "448\n",
      "00:32:46,866 --> 00:32:50,568\n",
      "I'm sure there's someone at UNM\n",
      "who can do that.\n",
      "\n",
      "449\n",
      "00:32:50,570 --> 00:32:52,987\n",
      "You do know I'm trying to start\n",
      "a legal practice, right?\n",
      "\n",
      "450\n",
      "00:32:53,039 --> 00:32:55,406\n",
      "Vogelson's been working on the effects\n",
      "\n",
      "451\n",
      "00:32:55,408 --> 00:32:59,376\n",
      "of electromagnetic fields\n",
      "on zebra fish... And, oh!\n",
      "\n",
      "452\n",
      "00:32:59,412 --> 00:33:01,579\n",
      "Financial Times.\n",
      "\n",
      "453\n",
      "00:33:01,581 --> 00:33:03,002\n",
      "Yeah, I knew you\n",
      "\n",
      "454\n",
      "00:33:03,027 --> 00:33:04,799\n",
      "missed it, so I figured, \"what the heck?\"\n",
      "\n",
      "455\n",
      "00:33:04,834 --> 00:33:07,001\n",
      "Thank you. I know it's expensive.\n",
      "\n",
      "456\n",
      "00:33:07,053 --> 00:33:08,836\n",
      "Here.\n",
      "\n",
      "457\n",
      "00:33:08,888 --> 00:33:10,387\n",
      "That's not... It's all right.\n",
      "\n",
      "458\n",
      "00:33:10,423 --> 00:33:12,223\n",
      "- I don't expect you to go out of pocket.\n",
      "- I...\n",
      "\n",
      "459\n",
      "00:33:12,258 --> 00:33:14,425\n",
      "Go ahead... Reimburse yourself.\n",
      "\n",
      "460\n",
      "00:33:17,430 --> 00:33:19,647\n",
      "Thanks.\n",
      "\n",
      "461\n",
      "00:33:19,682 --> 00:33:22,850\n",
      "Hey, Chuck, um, can you not\n",
      "read that for a second?\n",
      "\n",
      "462\n",
      "00:33:22,902 --> 00:33:24,518\n",
      "Can we talk?\n",
      "\n",
      "463\n",
      "00:33:27,273 --> 00:33:28,906\n",
      "Are you all right?\n",
      "\n",
      "464\n",
      "00:33:28,941 --> 00:33:30,524\n",
      "You look peaked.\n",
      "\n",
      "465\n",
      "00:33:30,576 --> 00:33:32,243\n",
      "I'm fine. Please, just sit.\n",
      "\n",
      "466\n",
      "00:33:32,278 --> 00:33:36,247\n",
      "You're not in trouble.\n",
      "\n",
      "467\n",
      "00:33:36,282 --> 00:33:41,669\n",
      "Um... You got to cash out.\n",
      "\n",
      "468\n",
      "00:33:41,704 --> 00:33:43,087\n",
      "You got to.\n",
      "\n",
      "469\n",
      "00:33:43,122 --> 00:33:46,090\n",
      "Again? Really? There's no other way.\n",
      "\n",
      "470\n",
      "00:33:46,125 --> 00:33:49,510\n",
      "I know that you don't want to\n",
      "hear it, but you've got to.\n",
      "\n",
      "471\n",
      "00:33:49,545 --> 00:33:52,129\n",
      "You know I'm going to beat this.\n",
      "\n",
      "472\n",
      "00:33:52,131 --> 00:33:53,931\n",
      "You know I'm going to get better.\n",
      "\n",
      "473\n",
      "00:33:53,966 --> 00:33:56,767\n",
      "- Yeah, sure.\n",
      "- Well, then,\n",
      "\n",
      "474\n",
      "00:33:56,802 --> 00:33:58,769\n",
      "there's nothing more to talk about.\n",
      "\n",
      "475\n",
      "00:33:58,804 --> 00:34:00,221\n",
      "I will beat this.\n",
      "\n",
      "476\n",
      "00:34:00,273 --> 00:34:05,059\n",
      "Ergo, a falsis principiis proficisci.\n",
      "\n",
      "477\n",
      "00:34:05,111 --> 00:34:06,944\n",
      "- Meaning?\n",
      "- That's not...\n",
      "\n",
      "478\n",
      "00:34:06,979 --> 00:34:07,961\n",
      "- Meaning?\n",
      "- That's the one about\n",
      "\n",
      "479\n",
      "00:34:07,986 --> 00:34:09,146\n",
      "false principles, but it's not...\n",
      "\n",
      "480\n",
      "00:34:09,148 --> 00:34:11,148\n",
      "You proceed from false principles.\n",
      "\n",
      "481\n",
      "00:34:11,150 --> 00:34:12,983\n",
      "Your argument is built on quicksand.\n",
      "\n",
      "482\n",
      "00:34:12,985 --> 00:34:15,870\n",
      "- Therefore, it collapses.\n",
      "- Yeah, yeah. You're not listening.\n",
      "\n",
      "483\n",
      "00:34:15,905 --> 00:34:17,872\n",
      "Fine.\n",
      "\n",
      "484\n",
      "00:34:17,907 --> 00:34:20,491\n",
      "Let's take this to its logical conclusion.\n",
      "\n",
      "485\n",
      "00:34:22,161 --> 00:34:23,961\n",
      "In order to pay out my share,\n",
      "\n",
      "486\n",
      "00:34:23,996 --> 00:34:26,914\n",
      "suppose my partners are forced\n",
      "to liquidate the firm.\n",
      "\n",
      "487\n",
      "00:34:26,966 --> 00:34:28,883\n",
      "- Then what?\n",
      "- That's their problem.\n",
      "\n",
      "488\n",
      "00:34:28,918 --> 00:34:30,751\n",
      "My clients are out in the cold.\n",
      "\n",
      "489\n",
      "00:34:30,803 --> 00:34:32,920\n",
      "My cases are scattered to the winds.\n",
      "\n",
      "490\n",
      "00:34:32,972 --> 00:34:35,556\n",
      "126 people lose their jobs.\n",
      "\n",
      "491\n",
      "00:34:35,591 --> 00:34:39,260\n",
      "What happens to your cronies\n",
      "in the mailroom, the assistants,\n",
      "\n",
      "492\n",
      "00:34:39,312 --> 00:34:40,678\n",
      "the paralegals, the janitorial staff?\n",
      "\n",
      "493\n",
      "00:34:40,680 --> 00:34:42,346\n",
      "All of them, out on the street.\n",
      "\n",
      "494\n",
      "00:34:42,348 --> 00:34:44,481\n",
      "Your friend Kim... a promising\n",
      "career... over and done with.\n",
      "\n",
      "495\n",
      "00:34:44,517 --> 00:34:46,483\n",
      "Hamlin owes you everything.\n",
      "\n",
      "496\n",
      "00:34:46,519 --> 00:34:48,185\n",
      "You built that place single-handedly\n",
      "\n",
      "497\n",
      "00:34:48,187 --> 00:34:50,821\n",
      "while he was out at four hills\n",
      "working on his bunker shot.\n",
      "\n",
      "498\n",
      "00:34:50,856 --> 00:34:53,440\n",
      "Let's not exaggerate. I helped. You helped.\n",
      "\n",
      "499\n",
      "00:34:54,860 --> 00:34:56,610\n",
      "All the more reason not to tear it down\n",
      "\n",
      "500\n",
      "00:34:56,662 --> 00:34:58,078\n",
      "just for a little bit of cash.\n",
      "\n",
      "501\n",
      "00:34:58,114 --> 00:35:01,699\n",
      "Look... Chuck, I'm going under, okay?\n",
      "\n",
      "502\n",
      "00:35:01,701 --> 00:35:05,336\n",
      "For the third time with these\n",
      "bull-crap contract counsel...\n",
      "\n",
      "503\n",
      "00:35:05,371 --> 00:35:07,388\n",
      "- \"Bull crap\"?\n",
      "- Bull-crap, pissant P.D.\n",
      "\n",
      "504\n",
      "00:35:07,413 --> 00:35:08,980\n",
      "Cases at 700 bucks a shot.\n",
      "\n",
      "505\n",
      "00:35:09,008 --> 00:35:12,593\n",
      "Public-defender work is some of the\n",
      "best experience there is.\n",
      "\n",
      "506\n",
      "00:35:12,628 --> 00:35:16,013\n",
      "I just had a case, Chuck,\n",
      "with three clients...\n",
      "\n",
      "507\n",
      "00:35:16,048 --> 00:35:18,432\n",
      "Uh, arraignments, voir dire, jury trial...\n",
      "\n",
      "508\n",
      "00:35:18,467 --> 00:35:19,850\n",
      "The whole nine yards.\n",
      "\n",
      "509\n",
      "00:35:19,885 --> 00:35:22,469\n",
      "You know what I took home? 700 bucks.\n",
      "\n",
      "510\n",
      "00:35:22,521 --> 00:35:25,472\n",
      "Yeah, I might as well head down\n",
      "to skid row and sell plasma.\n",
      "\n",
      "511\n",
      "00:35:25,524 --> 00:35:27,808\n",
      "You're representing people\n",
      "who have nowhere else to turn.\n",
      "\n",
      "512\n",
      "00:35:27,860 --> 00:35:29,643\n",
      "The money is beside the point.\n",
      "\n",
      "513\n",
      "00:35:29,695 --> 00:35:32,646\n",
      "Money is not beside the point...\n",
      "Money is the point.\n",
      "\n",
      "514\n",
      "00:35:32,698 --> 00:35:35,065\n",
      "I keep telling you... Have patience.\n",
      "\n",
      "515\n",
      "00:35:35,067 --> 00:35:36,317\n",
      "There are no shortcuts.\n",
      "\n",
      "516\n",
      "00:35:36,369 --> 00:35:37,735\n",
      "Do good work, and the clients will come.\n",
      "\n",
      "517\n",
      "00:35:37,737 --> 00:35:39,737\n",
      "The clients will come. Yeah, I know.\n",
      "\n",
      "518\n",
      "00:35:39,739 --> 00:35:41,739\n",
      "Okay.\n",
      "\n",
      "519\n",
      "00:35:41,741 --> 00:35:47,211\n",
      "Hand to God, I wasn't gonna\n",
      "say this, but you are broke.\n",
      "\n",
      "520\n",
      "00:35:47,246 --> 00:35:49,830\n",
      "I can't carry both of us.\n",
      "\n",
      "521\n",
      "00:35:49,882 --> 00:35:53,834\n",
      "I've been trying like hell, but I can't.\n",
      "\n",
      "522\n",
      "00:35:53,886 --> 00:35:56,837\n",
      "Well, you're saying what?\n",
      "\n",
      "523\n",
      "00:35:56,889 --> 00:35:58,472\n",
      "You think you have to provide for me?\n",
      "\n",
      "524\n",
      "00:35:58,507 --> 00:36:00,674\n",
      "I never asked you that.\n",
      "You didn't have to ask, okay?\n",
      "\n",
      "525\n",
      "00:36:00,726 --> 00:36:03,093\n",
      "I've been doing my damnedest,\n",
      "\n",
      "526\n",
      "00:36:03,095 --> 00:36:04,928\n",
      "but the day of reckoning is here.\n",
      "\n",
      "527\n",
      "00:36:04,930 --> 00:36:07,348\n",
      "Soon, Chuck, you're gonna be\n",
      "out on the street\n",
      "\n",
      "528\n",
      "00:36:07,400 --> 00:36:11,769\n",
      "with all the electromagnetism in\n",
      "the world raining down on you.\n",
      "\n",
      "529\n",
      "00:36:11,771 --> 00:36:13,771\n",
      "Now, please, please, picture that,\n",
      "\n",
      "530\n",
      "00:36:13,773 --> 00:36:16,106\n",
      "then tell me\n",
      "that money is beside the point.\n",
      "\n",
      "531\n",
      "00:36:16,108 --> 00:36:18,075\n",
      "This is what has you all worked up?\n",
      "\n",
      "532\n",
      "00:36:18,110 --> 00:36:19,493\n",
      "Yeah!\n",
      "\n",
      "533\n",
      "00:36:19,528 --> 00:36:23,113\n",
      "Jimmy... There's nothing to worry about.\n",
      "\n",
      "534\n",
      "00:36:23,115 --> 00:36:26,116\n",
      "- Here.\n",
      "- What is this?\n",
      "\n",
      "535\n",
      "00:36:26,118 --> 00:36:28,335\n",
      "A stipend...\n",
      "There's gonna be one every week.\n",
      "\n",
      "536\n",
      "00:36:28,371 --> 00:36:31,538\n",
      "$857 from Hamlin, Hamlin, Mcgill?\n",
      "\n",
      "537\n",
      "00:36:31,590 --> 00:36:33,874\n",
      "I'm gonna pay them back... Every penny.\n",
      "\n",
      "538\n",
      "00:36:33,926 --> 00:36:36,510\n",
      "I didn't want to take anything,\n",
      "but Howard was very insistent.\n",
      "\n",
      "539\n",
      "00:36:36,545 --> 00:36:38,679\n",
      "And I'm gonna pay you back, too.\n",
      "\n",
      "540\n",
      "00:36:38,714 --> 00:36:40,681\n",
      "Wait, Hamlin was here?\n",
      "\n",
      "541\n",
      "00:36:40,716 --> 00:36:43,100\n",
      "It's not like I'm a recluse.\n",
      "\n",
      "542\n",
      "00:36:43,135 --> 00:36:45,102\n",
      "What? He put his cellphone in the mailbox?\n",
      "\n",
      "543\n",
      "00:36:45,137 --> 00:36:46,520\n",
      "He understands the situation.\n",
      "\n",
      "544\n",
      "00:36:46,555 --> 00:36:48,522\n",
      "- He grounded himself?\n",
      "- Of course.\n",
      "\n",
      "545\n",
      "00:36:48,557 --> 00:36:51,141\n",
      "And the two of you agreed\n",
      "that since, as everybody knows,\n",
      "\n",
      "546\n",
      "00:36:51,143 --> 00:36:52,976\n",
      "you're going back to work any day now,\n",
      "\n",
      "547\n",
      "00:36:52,978 --> 00:36:55,479\n",
      "that the firm should help you\n",
      "make ends meet.\n",
      "\n",
      "548\n",
      "00:36:55,481 --> 00:36:57,781\n",
      "That's correct, minus the sarcasm.\n",
      "\n",
      "549\n",
      "00:36:57,817 --> 00:36:59,450\n",
      "Hamlin's making you a chump!\n",
      "\n",
      "550\n",
      "00:36:59,485 --> 00:37:01,869\n",
      "I'm going to get better!\n",
      "\n",
      "551\n",
      "00:37:01,904 --> 00:37:03,203\n",
      "I'm gonna go back to work,\n",
      "\n",
      "552\n",
      "00:37:03,239 --> 00:37:06,907\n",
      "and I'm picking up where I left off!\n",
      "\n",
      "553\n",
      "00:37:28,681 --> 00:37:31,515\n",
      "Sorry.\n",
      "\n",
      "554\n",
      "00:37:31,517 --> 00:37:34,351\n",
      "Sorry, Chuck.\n",
      "\n",
      "555\n",
      "00:37:38,991 --> 00:37:42,576\n",
      "I understand that you're\n",
      "trying to look out for me,\n",
      "\n",
      "556\n",
      "00:37:42,611 --> 00:37:45,079\n",
      "but you're missing the bigger picture.\n",
      "\n",
      "557\n",
      "00:37:45,114 --> 00:37:47,698\n",
      "I got it.\n",
      "\n",
      "558\n",
      "00:37:47,700 --> 00:37:50,501\n",
      "Speaking of which...\n",
      "\n",
      "559\n",
      "00:37:50,536 --> 00:37:54,338\n",
      "Howard brought this.\n",
      "\n",
      "560\n",
      "00:37:54,373 --> 00:37:56,256\n",
      "He's concerned.\n",
      "\n",
      "561\n",
      "00:37:56,292 --> 00:37:57,591\n",
      "What?\n",
      "\n",
      "562\n",
      "00:37:57,626 --> 00:37:59,460\n",
      "You have to admit...\n",
      "It could be confusing...\n",
      "\n",
      "563\n",
      "00:37:59,512 --> 00:38:01,095\n",
      "Hamlin, Hamlin, Mcgill?\n",
      "\n",
      "564\n",
      "00:38:01,130 --> 00:38:03,297\n",
      "- James M. Mcgill?\n",
      "- That's my name.\n",
      "\n",
      "565\n",
      "00:38:03,349 --> 00:38:06,383\n",
      "- I was born with it. I...\n",
      "- Still...\n",
      "\n",
      "566\n",
      "00:38:09,188 --> 00:38:12,973\n",
      "How about Vanguard law?\n",
      "\n",
      "567\n",
      "00:38:13,025 --> 00:38:15,776\n",
      "Or gi... Gibraltar legal... Wait, wait.\n",
      "\n",
      "568\n",
      "00:38:15,811 --> 00:38:19,980\n",
      "So I'm not supposed to use\n",
      "my name o... On Hamlin's say-so?\n",
      "\n",
      "569\n",
      "00:38:20,032 --> 00:38:22,399\n",
      "What's he gonna do... Sue me?\n",
      "\n",
      "570\n",
      "00:38:22,401 --> 00:38:25,068\n",
      "Nobody wants to create\n",
      "an adversarial situation.\n",
      "\n",
      "571\n",
      "00:38:25,070 --> 00:38:27,287\n",
      "I'm sure Howard would gladly pay the cost\n",
      "\n",
      "572\n",
      "00:38:27,323 --> 00:38:29,289\n",
      "of new matchbooks and so on.\n",
      "\n",
      "573\n",
      "00:38:30,709 --> 00:38:34,661\n",
      "It's simply a matter\n",
      "of professional courtesy.\n",
      "\n",
      "574\n",
      "00:38:37,550 --> 00:38:40,167\n",
      "Chuck, whose side are you on?\n",
      "\n",
      "575\n",
      "00:38:40,219 --> 00:38:44,171\n",
      "There are no sides.\n",
      "\n",
      "576\n",
      "00:38:44,223 --> 00:38:48,809\n",
      "But, Jimmy...\n",
      "\n",
      "577\n",
      "00:38:48,844 --> 00:38:51,929\n",
      "Wouldn't you rather\n",
      "build your own identity?\n",
      "\n",
      "578\n",
      "00:38:51,931 --> 00:38:55,182\n",
      "Why ride on someone else's coattails?\n",
      "\n",
      "579\n",
      "00:39:08,113 --> 00:39:10,697\n",
      "You want to dance, Howard?\n",
      "\n",
      "580\n",
      "00:39:10,749 --> 00:39:15,202\n",
      "Let's dance.\n",
      "\n",
      "581\n",
      "00:39:25,810 --> 00:39:27,810\n",
      "Go!\n",
      "\n",
      "582\n",
      "00:39:30,120 --> 00:39:32,287\n",
      "No, you can get closer\n",
      "than that, you bitch.\n",
      "\n",
      "583\n",
      "00:39:32,320 --> 00:39:34,120\n",
      "Come on.\n",
      "\n",
      "584\n",
      "00:39:34,155 --> 00:39:36,038\n",
      "And here it comes.\n",
      "\n",
      "585\n",
      "00:39:36,074 --> 00:39:39,875\n",
      "There you go. Better.\n",
      "\n",
      "586\n",
      "00:39:39,911 --> 00:39:42,495\n",
      "How was that?\n",
      "\n",
      "587\n",
      "00:39:42,497 --> 00:39:44,130\n",
      "It's right on here. Take a look.\n",
      "\n",
      "588\n",
      "00:39:44,165 --> 00:39:45,965\n",
      "Still, tighter is everything.\n",
      "\n",
      "589\n",
      "00:39:46,000 --> 00:39:47,967\n",
      "Tighter? What? T... Tighter what?\n",
      "\n",
      "590\n",
      "00:39:48,002 --> 00:39:50,169\n",
      "I don't know. Just stand... Tighter.\n",
      "\n",
      "591\n",
      "00:39:50,171 --> 00:39:52,471\n",
      "You know what I mean? I\n",
      "don't know what you mean.\n",
      "\n",
      "592\n",
      "00:39:52,507 --> 00:39:55,091\n",
      "That sucked. We can call that\n",
      "a stylistic choice, I guess,\n",
      "\n",
      "593\n",
      "00:39:55,143 --> 00:39:56,726\n",
      "- if you want to...\n",
      "- Hey, fellas.\n",
      "\n",
      "594\n",
      "00:39:56,761 --> 00:39:57,977\n",
      "We got business.\n",
      "\n",
      "595\n",
      "00:39:59,597 --> 00:40:01,263\n",
      "How did you find us?\n",
      "\n",
      "596\n",
      "00:40:01,316 --> 00:40:05,418\n",
      "I know... Eerie, right.\n",
      "\n",
      "597\n",
      "00:40:05,453 --> 00:40:09,405\n",
      "Whoa, whoa, whoa. Come on.\n",
      "Give me 30 seconds.\n",
      "\n",
      "598\n",
      "00:40:09,440 --> 00:40:13,943\n",
      "Could be the most profitable\n",
      "30 seconds of your lives.\n",
      "\n",
      "599\n",
      "00:40:20,835 --> 00:40:26,205\n",
      "Let me tell you about a young guy...\n",
      "\n",
      "600\n",
      "00:40:26,207 --> 00:40:29,425\n",
      "Actually, he's about your age.\n",
      "\n",
      "601\n",
      "00:40:29,460 --> 00:40:32,044\n",
      "He lived a long way from here\n",
      "\n",
      "602\n",
      "00:40:32,046 --> 00:40:36,682\n",
      "in a town called Cicero, Illinois.\n",
      "\n",
      "603\n",
      "00:40:36,718 --> 00:40:40,302\n",
      "And in Cicero, he was the man.\n",
      "\n",
      "604\n",
      "00:40:40,355 --> 00:40:42,304\n",
      "I mean, when he strolled down the street,\n",
      "\n",
      "605\n",
      "00:40:42,357 --> 00:40:45,941\n",
      "all the corner boys\n",
      "would give him the high five.\n",
      "\n",
      "606\n",
      "00:40:45,977 --> 00:40:49,562\n",
      "All the finest babes would smile at him\n",
      "\n",
      "607\n",
      "00:40:49,564 --> 00:40:53,399\n",
      "and hope that he would smile back.\n",
      "\n",
      "608\n",
      "00:40:53,401 --> 00:40:57,403\n",
      "They called him \"slippin' Jimmy,\"\n",
      "\n",
      "609\n",
      "00:40:57,405 --> 00:41:02,241\n",
      "and everybody wanted to be his friend.\n",
      "\n",
      "610\n",
      "00:41:02,243 --> 00:41:04,460\n",
      "\"Slippin' Jimmy\"?\n",
      "\n",
      "611\n",
      "00:41:04,495 --> 00:41:07,463\n",
      "What the hell kind of name is that?\n",
      "\n",
      "612\n",
      "00:41:07,498 --> 00:41:08,998\n",
      "Well, I'll tell you, now...\n",
      "\n",
      "613\n",
      "00:41:09,050 --> 00:41:11,834\n",
      "Winters in Cicero are murder.\n",
      "\n",
      "614\n",
      "00:41:11,886 --> 00:41:14,470\n",
      "You guys growing up\n",
      "out here in the golden west...\n",
      "\n",
      "615\n",
      "00:41:14,505 --> 00:41:16,305\n",
      "Y... You don't know, okay?\n",
      "\n",
      "616\n",
      "00:41:16,340 --> 00:41:20,159\n",
      "I'm talking cold that'll freeze\n",
      "the snot right in your nose.\n",
      "\n",
      "617\n",
      "00:41:20,194 --> 00:41:21,977\n",
      "I'm talking wind\n",
      "that'll cut through your jacket\n",
      "\n",
      "618\n",
      "00:41:22,013 --> 00:41:24,180\n",
      "and carve you up like a Ginsu knife.\n",
      "\n",
      "619\n",
      "00:41:24,232 --> 00:41:27,600\n",
      "In fact, most folks in Cicero\n",
      "were scared of winter,\n",
      "\n",
      "620\n",
      "00:41:27,602 --> 00:41:30,436\n",
      "but not Jimmy.\n",
      "\n",
      "621\n",
      "00:41:30,438 --> 00:41:32,354\n",
      "Jimmy waited around all summer,\n",
      "\n",
      "622\n",
      "00:41:32,407 --> 00:41:34,774\n",
      "and when September finally rolled around\n",
      "\n",
      "623\n",
      "00:41:34,776 --> 00:41:36,776\n",
      "and he'd feel that first cold wind\n",
      "\n",
      "624\n",
      "00:41:36,778 --> 00:41:41,347\n",
      "come sweeping off lake Michigan,\n",
      "he knew it was coming.\n",
      "\n",
      "625\n",
      "00:41:41,382 --> 00:41:44,166\n",
      "Was it Christmas? Was it Kwanzaa?\n",
      "\n",
      "626\n",
      "00:41:44,202 --> 00:41:48,587\n",
      "Better... It was slip 'n fall season.\n",
      "\n",
      "627\n",
      "00:41:48,623 --> 00:41:50,423\n",
      "Soon as it was cold enough,\n",
      "\n",
      "628\n",
      "00:41:50,458 --> 00:41:53,592\n",
      "he'd find a nice, smooth patch of ice.\n",
      "\n",
      "629\n",
      "00:41:53,628 --> 00:41:56,429\n",
      "State street was good.\n",
      "Michigan Avenue was better.\n",
      "\n",
      "630\n",
      "00:41:56,464 --> 00:41:59,265\n",
      "He'd pick his spot,\n",
      "wait for it to get busy,\n",
      "\n",
      "631\n",
      "00:41:59,300 --> 00:42:02,184\n",
      "then he'd walk out on the ice, and... Boom!\n",
      "\n",
      "632\n",
      "00:42:02,220 --> 00:42:04,220\n",
      "He would biff it so hard,\n",
      "\n",
      "633\n",
      "00:42:04,272 --> 00:42:07,440\n",
      "people would come running\n",
      "from five blocks away.\n",
      "\n",
      "634\n",
      "00:42:07,475 --> 00:42:09,809\n",
      "- Yeah, but did he collect?\n",
      "- \"Did he collect?\"\n",
      "\n",
      "635\n",
      "00:42:09,811 --> 00:42:12,027\n",
      "Slippin' Jimmy had it dialed in, all right?\n",
      "\n",
      "636\n",
      "00:42:12,063 --> 00:42:15,448\n",
      "One good fall... He'd clear 6, 8 grand.\n",
      "\n",
      "637\n",
      "00:42:15,483 --> 00:42:16,866\n",
      "That'd keep him in old Milwaukee\n",
      "\n",
      "638\n",
      "00:42:16,901 --> 00:42:18,984\n",
      "and Maui Wowie right through labor day.\n",
      "\n",
      "639\n",
      "00:42:18,986 --> 00:42:20,619\n",
      "8 grand?\n",
      "\n",
      "640\n",
      "00:42:20,655 --> 00:42:22,154\n",
      "8 grand.\n",
      "\n",
      "641\n",
      "00:42:22,156 --> 00:42:24,790\n",
      "Now, see, I look at you guys,\n",
      "I see potential.\n",
      "\n",
      "642\n",
      "00:42:24,826 --> 00:42:26,208\n",
      "The skateboard's a nice wrinkle...\n",
      "\n",
      "643\n",
      "00:42:26,244 --> 00:42:28,043\n",
      "That makes it a year-round gig.\n",
      "\n",
      "644\n",
      "00:42:28,079 --> 00:42:32,298\n",
      "And clearly, you know\n",
      "how to take a header, right?\n",
      "\n",
      "645\n",
      "00:42:32,333 --> 00:42:34,500\n",
      "But I got to ask you... Your best day ever,\n",
      "\n",
      "646\n",
      "00:42:34,502 --> 00:42:36,502\n",
      "how much did you clear?\n",
      "\n",
      "647\n",
      "00:42:39,340 --> 00:42:41,307\n",
      "$630. $630.\n",
      "\n",
      "648\n",
      "00:42:41,342 --> 00:42:44,727\n",
      "630 bucks.\n",
      "\n",
      "649\n",
      "00:42:44,762 --> 00:42:46,428\n",
      "Was that for one fall?\n",
      "\n",
      "650\n",
      "00:42:46,481 --> 00:42:49,648\n",
      "Two. Two falls in one day.\n",
      "\n",
      "651\n",
      "00:42:49,684 --> 00:42:51,650\n",
      "Even at your age, that's got to hurt.\n",
      "\n",
      "652\n",
      "00:42:51,686 --> 00:42:53,486\n",
      "True that.\n",
      "\n",
      "653\n",
      "00:42:53,521 --> 00:42:56,689\n",
      "All right, well, I got a job for you.\n",
      "\n",
      "654\n",
      "00:42:56,691 --> 00:42:58,757\n",
      "How's 2 grand sound?\n",
      "\n",
      "655\n",
      "00:42:58,793 --> 00:43:00,960\n",
      "2 grand for one hit?\n",
      "\n",
      "656\n",
      "00:43:00,995 --> 00:43:03,162\n",
      "One hit.\n",
      "\n",
      "657\n",
      "00:43:03,197 --> 00:43:06,265\n",
      "Plus, you get to learn from the best.\n",
      "\n",
      "658\n",
      "00:43:06,300 --> 00:43:08,667\n",
      "Nice boat.\n",
      "\n",
      "659\n",
      "00:43:08,703 --> 00:43:11,871\n",
      "Yeah, discreet, like\n",
      "a stripper pole in a mosque.\n",
      "\n",
      "660\n",
      "00:43:11,873 --> 00:43:14,290\n",
      "Yeah, forget the boat. Look at the car.\n",
      "\n",
      "661\n",
      "00:43:14,342 --> 00:43:15,875\n",
      "You know what that is?\n",
      "\n",
      "662\n",
      "00:43:15,877 --> 00:43:17,376\n",
      "I don't know. A station wagon?\n",
      "\n",
      "663\n",
      "00:43:17,378 --> 00:43:21,113\n",
      "It's a Mercury, a 1988 Mercury sable wagon.\n",
      "\n",
      "664\n",
      "00:43:21,149 --> 00:43:23,716\n",
      "Remember it. Burn it\n",
      "into your brains. You got it?\n",
      "\n",
      "665\n",
      "00:43:23,718 --> 00:43:26,218\n",
      "It's a Mercury sable wagon, sure.\n",
      "\n",
      "666\n",
      "00:43:26,220 --> 00:43:28,521\n",
      "Close your eyes. What color is it?\n",
      "\n",
      "667\n",
      "00:43:28,556 --> 00:43:30,139\n",
      "- Brown.\n",
      "- Brown.\n",
      "\n",
      "668\n",
      "00:43:30,191 --> 00:43:33,359\n",
      "No, it's medium sandalwood.\n",
      "Keep your eyes closed.\n",
      "\n",
      "669\n",
      "00:43:33,394 --> 00:43:35,194\n",
      "How does the license plate start?\n",
      "\n",
      "670\n",
      "00:43:35,229 --> 00:43:36,362\n",
      "- 4.\n",
      "- 4.\n",
      "\n",
      "671\n",
      "00:43:36,397 --> 00:43:38,814\n",
      "Give those gentlemen a gold star.\n",
      "\n",
      "672\n",
      "00:43:38,866 --> 00:43:41,033\n",
      "Betsy Kettleman's her name.\n",
      "\n",
      "673\n",
      "00:43:41,068 --> 00:43:44,036\n",
      "Every weekday between 2:25 and 2:50,\n",
      "\n",
      "674\n",
      "00:43:44,071 --> 00:43:46,238\n",
      "she comes through here\n",
      "on her way to pick up her kids\n",
      "\n",
      "675\n",
      "00:43:46,240 --> 00:43:48,240\n",
      "at Kit Carson Elementary.\n",
      "\n",
      "676\n",
      "00:43:48,242 --> 00:43:50,075\n",
      "Now, you need a place\n",
      "where she's gonna slow down...\n",
      "\n",
      "677\n",
      "00:43:50,077 --> 00:43:51,627\n",
      "- Am I right?\n",
      "- Yeah.\n",
      "\n",
      "678\n",
      "00:43:51,662 --> 00:43:54,480\n",
      "All right. Well, there you go.\n",
      "She slows down.\n",
      "\n",
      "679\n",
      "00:43:54,515 --> 00:43:58,467\n",
      "She hangs a right.\n",
      "You come shooting out of there.\n",
      "\n",
      "680\n",
      "00:43:58,502 --> 00:44:01,303\n",
      "You do what you did to me.\n",
      "You go ass over teakettle.\n",
      "\n",
      "681\n",
      "00:44:01,339 --> 00:44:02,922\n",
      "You make it a blue-ribbon special.\n",
      "\n",
      "682\n",
      "00:44:02,924 --> 00:44:04,306\n",
      "When she gets out of the car,\n",
      "\n",
      "683\n",
      "00:44:04,342 --> 00:44:06,508\n",
      "you're sufferin' St. Sebastian, right?\n",
      "\n",
      "684\n",
      "00:44:06,561 --> 00:44:08,928\n",
      "You're the hammer, okay?\n",
      "You get in her face.\n",
      "\n",
      "685\n",
      "00:44:08,930 --> 00:44:10,563\n",
      "You scare the bejesus out of her.\n",
      "\n",
      "686\n",
      "00:44:10,598 --> 00:44:13,399\n",
      "Give me your phone.\n",
      "\n",
      "687\n",
      "00:44:13,434 --> 00:44:15,017\n",
      "It's kind of busy here, don't you think?\n",
      "\n",
      "688\n",
      "00:44:15,069 --> 00:44:17,503\n",
      "Well, witnesses are good.\n",
      "\n",
      "689\n",
      "00:44:17,538 --> 00:44:19,104\n",
      "Witnesses are pressure, all right?\n",
      "\n",
      "690\n",
      "00:44:19,106 --> 00:44:21,941\n",
      "Now, once you've got her good and rattled,\n",
      "\n",
      "691\n",
      "00:44:21,943 --> 00:44:23,576\n",
      "then you call for an ambulance,\n",
      "\n",
      "692\n",
      "00:44:23,611 --> 00:44:25,527\n",
      "but really, you're calling for me.\n",
      "\n",
      "693\n",
      "00:44:25,580 --> 00:44:26,745\n",
      "I'm number one on your speed dial,\n",
      "\n",
      "694\n",
      "00:44:26,781 --> 00:44:28,581\n",
      "right next to your weed dealer.\n",
      "\n",
      "695\n",
      "00:44:28,616 --> 00:44:30,416\n",
      "You call me. I hotfoot it over here.\n",
      "\n",
      "696\n",
      "00:44:30,451 --> 00:44:32,618\n",
      "I just \"happen\" to be driving by.\n",
      "\n",
      "697\n",
      "00:44:32,620 --> 00:44:34,453\n",
      "I stop to see what the trouble is,\n",
      "\n",
      "698\n",
      "00:44:34,455 --> 00:44:37,289\n",
      "and this is the most important\n",
      "part... You don't know me.\n",
      "\n",
      "699\n",
      "00:44:37,291 --> 00:44:39,124\n",
      "We've never met. You got it?\n",
      "\n",
      "700\n",
      "00:44:39,126 --> 00:44:40,960\n",
      "- Sure.\n",
      "- Okay.\n",
      "\n",
      "701\n",
      "00:44:40,962 --> 00:44:43,963\n",
      "Now, I'm Mrs. K's white knight.\n",
      "We go mano a mano.\n",
      "\n",
      "702\n",
      "00:44:43,965 --> 00:44:47,800\n",
      "You light into me, okay?\n",
      "Get nasty. And no touching.\n",
      "\n",
      "703\n",
      "00:44:47,802 --> 00:44:49,134\n",
      "Leave the hair alone.\n",
      "\n",
      "704\n",
      "00:44:49,136 --> 00:44:51,770\n",
      "But otherwise, you know, open season.\n",
      "\n",
      "705\n",
      "00:44:51,806 --> 00:44:54,306\n",
      "Yell. Stomp. Call me a douche bag.\n",
      "\n",
      "706\n",
      "00:44:54,308 --> 00:44:55,608\n",
      "I'm gonna play it cool,\n",
      "\n",
      "707\n",
      "00:44:55,643 --> 00:44:57,359\n",
      "give you back some of the razzmatazz.\n",
      "\n",
      "708\n",
      "00:44:57,395 --> 00:44:58,978\n",
      "And once she's seen the fireworks,\n",
      "\n",
      "709\n",
      "00:44:58,980 --> 00:45:00,396\n",
      "you fold like a lawn chair...\n",
      "\n",
      "710\n",
      "00:45:00,448 --> 00:45:02,031\n",
      "Happy ending.\n",
      "\n",
      "711\n",
      "00:45:02,066 --> 00:45:04,450\n",
      "When do we get our money?\n",
      "\n",
      "712\n",
      "00:45:04,485 --> 00:45:05,985\n",
      "After.\n",
      "\n",
      "713\n",
      "00:45:05,987 --> 00:45:08,404\n",
      "After. After.\n",
      "\n",
      "714\n",
      "00:45:08,456 --> 00:45:09,872\n",
      "You get paid when I get paid.\n",
      "\n",
      "715\n",
      "00:45:09,907 --> 00:45:12,074\n",
      "I'm the rising tide\n",
      "that raises all dinghies.\n",
      "\n",
      "716\n",
      "00:45:12,126 --> 00:45:13,909\n",
      "Now, pop quiz... What's the car?\n",
      "\n",
      "717\n",
      "00:45:13,961 --> 00:45:16,545\n",
      "- Mercury sable wagon.\n",
      "- Baby-poop brown.\n",
      "\n",
      "718\n",
      "00:45:16,580 --> 00:45:18,631\n",
      "- Okay. Do you know me?\n",
      "- No. No.\n",
      "\n",
      "719\n",
      "00:45:18,666 --> 00:45:22,251\n",
      "Damn straight. Go with God.\n",
      "\n",
      "720\n",
      "00:45:26,765 --> 00:45:31,067\n",
      "Well, I'm just glad\n",
      "I happened to be passing by.\n",
      "\n",
      "721\n",
      "00:45:31,165 --> 00:45:34,333\n",
      "Happy to be of help, Betsy.\n",
      "May I call you \"Betsy\"?\n",
      "\n",
      "722\n",
      "00:45:34,335 --> 00:45:36,752\n",
      "Please, call me \"James.\"\n",
      "\n",
      "723\n",
      "00:45:36,804 --> 00:45:39,972\n",
      "Hmm. Oh, the kid will be fine. Don't worry.\n",
      "\n",
      "724\n",
      "00:45:40,007 --> 00:45:41,390\n",
      "He just got his bell rung a little.\n",
      "\n",
      "725\n",
      "00:45:41,425 --> 00:45:45,177\n",
      "I'll... I'll handle that. Oh, no.\n",
      "\n",
      "726\n",
      "00:45:45,179 --> 00:45:46,762\n",
      "Oh, no, no.\n",
      "\n",
      "727\n",
      "00:45:46,814 --> 00:45:49,348\n",
      "I wouldn't think of, uh,\n",
      "taking your money for this.\n",
      "\n",
      "728\n",
      "00:45:49,350 --> 00:45:51,767\n",
      "The embezzlement case?\n",
      "\n",
      "729\n",
      "00:45:51,819 --> 00:45:55,187\n",
      "Mm, yes, I'd...\n",
      "I'd be happy to talk it over.\n",
      "\n",
      "730\n",
      "00:45:55,189 --> 00:45:58,824\n",
      "Oh, shit.\n",
      "\n",
      "731\n",
      "00:46:07,952 --> 00:46:10,335\n",
      "Two-minute warning. Two-minute warning.\n",
      "\n",
      "732\n",
      "00:46:10,371 --> 00:46:12,004\n",
      "Got it.\n",
      "\n",
      "733\n",
      "00:47:15,269 --> 00:47:17,269\n",
      "Oh, my God!\n",
      "\n",
      "734\n",
      "00:47:17,271 --> 00:47:18,520\n",
      "What happened?\n",
      "\n",
      "735\n",
      "00:47:18,572 --> 00:47:20,522\n",
      "Call 911.\n",
      "\n",
      "736\n",
      "00:47:20,574 --> 00:47:23,742\n",
      "Oh, my God! Cal! Cal!\n",
      "\n",
      "737\n",
      "00:47:23,777 --> 00:47:24,293\n",
      "Look at me! Are you okay?!\n",
      "\n",
      "738\n",
      "00:47:24,376 --> 00:47:27,412\n",
      "Buddy, say something. Cal, what are you...\n",
      "\n",
      "739\n",
      "00:47:27,448 --> 00:47:28,464\n",
      "Come on already.\n",
      "\n",
      "740\n",
      "00:47:28,546 --> 00:47:29,545\n",
      "- What is she doing in there?\n",
      "- I don't know. Shh.\n",
      "\n",
      "741\n",
      "00:47:29,580 --> 00:47:31,130\n",
      "Is she making a sandwich?\n",
      "\n",
      "742\n",
      "00:47:31,165 --> 00:47:33,582\n",
      "Where's her sense of responsibility?\n",
      "\n",
      "743\n",
      "00:47:33,584 --> 00:47:35,050\n",
      "What?\n",
      "\n",
      "744\n",
      "00:47:35,086 --> 00:47:38,470\n",
      "- What?!\n",
      "- Hey! What the f...\n",
      "\n",
      "745\n",
      "00:47:38,506 --> 00:47:39,972\n",
      "Funny to run into you, Betsy.\n",
      "\n",
      "746\n",
      "00:47:40,007 --> 00:47:42,808\n",
      "I was just, uh, strolling the neighborhood.\n",
      "\n",
      "747\n",
      "00:47:42,843 --> 00:47:45,811\n",
      "You... You were in accident.\n",
      "\n",
      "748\n",
      "00:47:45,846 --> 00:47:49,598\n",
      "Oh, it's...\n",
      "\n",
      "749\n",
      "00:47:54,038 --> 00:47:56,605\n",
      "Come on.\n",
      "\n",
      "750\n",
      "00:48:05,282 --> 00:48:06,665\n",
      "Yeah?\n",
      "\n",
      "751\n",
      "00:48:06,701 --> 00:48:08,867\n",
      "- She took off on us.\n",
      "- She what?\n",
      "\n",
      "752\n",
      "00:48:08,919 --> 00:48:10,336\n",
      "It was textbook, man.\n",
      "\n",
      "753\n",
      "00:48:10,371 --> 00:48:12,538\n",
      "We were diamonds,\n",
      "but then she just took off.\n",
      "\n",
      "754\n",
      "00:48:12,590 --> 00:48:14,540\n",
      "Okay, wait. She... She hit-and-run?\n",
      "\n",
      "755\n",
      "00:48:14,592 --> 00:48:16,959\n",
      "That's what I'm saying.\n",
      "She bailed and wailed.\n",
      "\n",
      "756\n",
      "00:48:16,961 --> 00:48:19,795\n",
      "O... okay. Just stay where you are.\n",
      "I'll come get you.\n",
      "\n",
      "757\n",
      "00:48:19,797 --> 00:48:21,263\n",
      "No, no, no. Screw that, man.\n",
      "\n",
      "758\n",
      "00:48:21,298 --> 00:48:22,715\n",
      "We're following her.\n",
      "\n",
      "759\n",
      "00:48:22,767 --> 00:48:24,133\n",
      "You're... How are...\n",
      "You're following her how?\n",
      "\n",
      "760\n",
      "00:48:24,135 --> 00:48:25,934\n",
      "We got our ways, yo.\n",
      "\n",
      "761\n",
      "00:48:25,970 --> 00:48:29,221\n",
      "Okay, okay, okay, new plan...\n",
      "New plan. You do know me.\n",
      "\n",
      "762\n",
      "00:48:29,273 --> 00:48:31,857\n",
      "I'm your lawyer. You got that?\n",
      "I'll meet you at the school.\n",
      "\n",
      "763\n",
      "00:48:31,892 --> 00:48:33,692\n",
      "No, she's way past the school.\n",
      "\n",
      "764\n",
      "00:48:33,728 --> 00:48:35,394\n",
      "She hooked a left on Juan tabo,\n",
      "\n",
      "765\n",
      "00:48:35,446 --> 00:48:37,229\n",
      "and she's coming into holiday park.\n",
      "\n",
      "766\n",
      "00:48:37,281 --> 00:48:39,114\n",
      "Okay, stay with her.\n",
      "\n",
      "767\n",
      "00:48:39,150 --> 00:48:40,949\n",
      "When she gets where she's going,\n",
      "wherever that is,\n",
      "\n",
      "768\n",
      "00:48:40,985 --> 00:48:42,151\n",
      "just don't do anything.\n",
      "\n",
      "769\n",
      "00:48:42,153 --> 00:48:43,402\n",
      "- Wait for me.\n",
      "- Wait for what?\n",
      "\n",
      "770\n",
      "00:48:43,454 --> 00:48:45,037\n",
      "You haven't been right even once!\n",
      "\n",
      "771\n",
      "00:48:45,072 --> 00:48:46,405\n",
      "Slippin' Jimmy, my ass!\n",
      "\n",
      "772\n",
      "00:48:46,457 --> 00:48:48,240\n",
      "You fell into the honeypot, kid.\n",
      "\n",
      "773\n",
      "00:48:48,292 --> 00:48:51,076\n",
      "You get it? Hit-and-run is a felony.\n",
      "\n",
      "774\n",
      "00:48:51,128 --> 00:48:52,578\n",
      "So what?\n",
      "\n",
      "775\n",
      "00:48:52,630 --> 00:48:54,730\n",
      "\"So what?\" So more money.\n",
      "\n",
      "776\n",
      "00:48:54,765 --> 00:48:57,716\n",
      "He says we fell in the honeypot.\n",
      "He says \"more money.\"\n",
      "\n",
      "777\n",
      "00:48:57,752 --> 00:48:59,585\n",
      "So what do we need him for?\n",
      "\n",
      "778\n",
      "00:49:05,760 --> 00:49:08,143\n",
      "Cal? Lars? Whoever... Oh, damn it!\n",
      "\n",
      "779\n",
      "00:49:08,179 --> 00:49:11,346\n",
      "Come on. Come on!\n",
      "\n",
      "780\n",
      "00:49:13,184 --> 00:49:16,602\n",
      "- Do it. Do it. Do it.\n",
      "- Son of a bitch!\n",
      "\n",
      "781\n",
      "00:49:16,654 --> 00:49:18,237\n",
      "Come on!\n",
      "\n",
      "782\n",
      "00:49:18,272 --> 00:49:20,239\n",
      "Come on!\n",
      "\n",
      "783\n",
      "00:49:51,522 --> 00:49:54,690\n",
      "Hey. Hey, your leg.\n",
      "Oh, I'm gonna do this one.\n",
      "\n",
      "784\n",
      "00:49:54,725 --> 00:49:55,891\n",
      "- Okay.\n",
      "- Hey! Aah! Aah!\n",
      "\n",
      "785\n",
      "00:49:55,893 --> 00:49:58,110\n",
      "Hey, yo, hold up.\n",
      "\n",
      "786\n",
      "00:49:58,145 --> 00:50:00,112\n",
      "Hey, yeah, you...\n",
      "What is the matter with you?\n",
      "\n",
      "787\n",
      "00:50:00,147 --> 00:50:01,480\n",
      "You hit-and-run.\n",
      "\n",
      "788\n",
      "00:50:01,532 --> 00:50:03,482\n",
      "You ran him over. You felonied my brother.\n",
      "\n",
      "789\n",
      "00:50:03,534 --> 00:50:05,701\n",
      "- Que pasa?\n",
      "- Habla English.\n",
      "\n",
      "790\n",
      "00:50:05,736 --> 00:50:07,903\n",
      "We call... We call La policia.\n",
      "\n",
      "791\n",
      "00:50:07,905 --> 00:50:09,321\n",
      "La policia gonna be pissed.\n",
      "\n",
      "792\n",
      "00:50:09,373 --> 00:50:11,540\n",
      "I see you hit him. Wham! Aah.\n",
      "\n",
      "793\n",
      "00:50:11,575 --> 00:50:13,158\n",
      "You see that... that windshield?\n",
      "You did that.\n",
      "\n",
      "794\n",
      "00:50:13,210 --> 00:50:14,877\n",
      "- No entiendo. No entiendo.\n",
      "- I did that.\n",
      "\n",
      "795\n",
      "00:50:14,912 --> 00:50:17,045\n",
      "You did that to me.\n",
      "You did that. Now you pay.\n",
      "\n",
      "796\n",
      "00:50:17,081 --> 00:50:20,048\n",
      "- No, se駉r. No, se駉r. No entiendo.\n",
      "- Make... make with the dinero.\n",
      "\n",
      "797\n",
      "00:50:20,084 --> 00:50:21,884\n",
      "- 緿inero?\n",
      "- Dinero.\n",
      "\n",
      "798\n",
      "00:50:21,919 --> 00:50:23,051\n",
      "Si, righteous dinero.\n",
      "\n",
      "799\n",
      "00:50:23,087 --> 00:50:25,504\n",
      "- 緿inero?\n",
      "- Y... Si.\n",
      "\n",
      "800\n",
      "00:50:28,425 --> 00:50:30,809\n",
      "Okay. Yeah, that's what I'm talking about.\n",
      "\n",
      "801\n",
      "00:50:30,845 --> 00:50:31,810\n",
      "- Talking about.\n",
      "- Mijo.\n",
      "\n",
      "802\n",
      "00:50:31,846 --> 00:50:33,645\n",
      "Let's go.\n",
      "\n",
      "803\n",
      "00:50:33,681 --> 00:50:34,930\n",
      "Imijo!\n",
      "\n",
      "804\n",
      "00:50:34,932 --> 00:50:36,148\n",
      "- Is that money?\n",
      "- Yeah.\n",
      "\n",
      "805\n",
      "00:50:36,183 --> 00:50:37,766\n",
      "Mijo...\n",
      "\n",
      "806\n",
      "00:50:37,768 --> 00:50:39,768\n",
      "Watch this step.\n",
      "\n",
      "807\n",
      "00:50:39,804 --> 00:50:42,604\n",
      "Watch this... Watch this step.\n",
      "\n",
      "808\n",
      "00:50:51,866 --> 00:50:55,250\n",
      "Where are you?\n",
      "\n",
      "809\n",
      "00:50:55,286 --> 00:50:57,085\n",
      "Holiday park.\n",
      "\n",
      "810\n",
      "00:50:57,121 --> 00:50:58,921\n",
      "Mrs. Kettleman, Betsy.\n",
      "\n",
      "811\n",
      "00:50:58,956 --> 00:51:00,756\n",
      "What are you doing here?\n",
      "\n",
      "812\n",
      "00:51:00,791 --> 00:51:02,958\n",
      "Hit-and-run? That's very serious.\n",
      "\n",
      "813\n",
      "00:51:02,960 --> 00:51:04,376\n",
      "I can... I can mediate.\n",
      "\n",
      "814\n",
      "00:51:04,428 --> 00:51:06,712\n",
      "It's... I represent their parents, so...\n",
      "\n",
      "815\n",
      "00:51:06,764 --> 00:51:09,264\n",
      "Come on. Come on.\n",
      "\n",
      "816\n",
      "00:51:48,172 --> 00:51:51,807\n",
      "Open up! Officer of the court!\n",
      "\n",
      "817\n",
      "00:51:51,842 --> 00:51:53,425\n",
      "Open up in the name of the law!\n",
      "\n",
      "818\n",
      "00:51:56,096 --> 00:51:58,680\n",
      "Good afternoon. This...\n",
      "\n",
      "9999\n",
      "00:00:0,500 --> 00:00:2,00\n",
      "<font color=\"#ffff00\" size=14>www.tvsubtitles.net</font>\n"
     ]
    }
   ],
   "source": [
    "with open('better call saul 01.txt', 'r', encoding=\"utf-8\") as f:\n",
    "    f.read(1)\n",
    "    f.readline()\n",
    "    f.tell()\n",
    "    for line in f:\n",
    "        print(line, end='')\n",
    "    read_data = f.read()\n",
    "    \n",
    "\n",
    "# thw file is closed when the 'with statement' ends, but the variable can be manipulated.\n",
    "# read_data"
   ]
  },
  {
   "cell_type": "code",
   "execution_count": 165,
   "id": "5f8f705a-5d6a-4819-ac4c-1d1ca8560092",
   "metadata": {},
   "outputs": [
    {
     "data": {
      "text/plain": [
       "56"
      ]
     },
     "execution_count": 165,
     "metadata": {},
     "output_type": "execute_result"
    }
   ],
   "source": [
    "# write to the open file\n",
    "with open('better call saul s1e1.txt', 'r+', encoding=\"utf-8\") as f:\n",
    "    f.write('this is Better Call Saul season one episode one subtitle')"
   ]
  },
  {
   "cell_type": "markdown",
   "id": "507be40f-6b38-4cf0-ae33-5af08f4c6754",
   "metadata": {},
   "source": [
    "`f.seek(offset, whence)`\n",
    "\n",
    "*saving structured data with json*"
   ]
  },
  {
   "cell_type": "code",
   "execution_count": 166,
   "id": "0f17f322-f10a-4ecc-b7aa-219bcd46734b",
   "metadata": {},
   "outputs": [
    {
     "data": {
      "text/plain": [
       "'[1, \"simple\", \"list\"]'"
      ]
     },
     "execution_count": 166,
     "metadata": {},
     "output_type": "execute_result"
    }
   ],
   "source": [
    "import json\n",
    "x = [1, 'simple', 'list']\n",
    "json.dumps(x)"
   ]
  },
  {
   "cell_type": "code",
   "execution_count": 167,
   "id": "c60faf46-8847-4d66-b1df-5b7d9f3dd9fc",
   "metadata": {},
   "outputs": [
    {
     "data": {
      "text/plain": [
       "''"
      ]
     },
     "execution_count": 167,
     "metadata": {},
     "output_type": "execute_result"
    }
   ],
   "source": [
    "read_data\n"
   ]
  },
  {
   "cell_type": "code",
   "execution_count": 168,
   "id": "177fd4bd-e65d-4415-b6da-197d95f4e095",
   "metadata": {},
   "outputs": [
    {
     "data": {
      "text/plain": [
       "45"
      ]
     },
     "execution_count": 168,
     "metadata": {},
     "output_type": "execute_result"
    },
    {
     "data": {
      "text/plain": [
       "142"
      ]
     },
     "execution_count": 168,
     "metadata": {},
     "output_type": "execute_result"
    },
    {
     "data": {
      "text/plain": [
       "45"
      ]
     },
     "execution_count": 168,
     "metadata": {},
     "output_type": "execute_result"
    },
    {
     "data": {
      "text/plain": [
       "84"
      ]
     },
     "execution_count": 168,
     "metadata": {},
     "output_type": "execute_result"
    },
    {
     "data": {
      "text/plain": [
       "45.14"
      ]
     },
     "execution_count": 168,
     "metadata": {},
     "output_type": "execute_result"
    }
   ],
   "source": [
    "class MyNumber:\n",
    "    def __add__(self, other):\n",
    "        return other + 42\n",
    "    # add the right addtion\n",
    "    def __radd__(self, other):\n",
    "        return other + 42\n",
    "    \n",
    "num = MyNumber()\n",
    "num + 3\n",
    "num + 100\n",
    "3 + num \n",
    "num + num\n",
    "num + 3.14"
   ]
  },
  {
   "cell_type": "code",
   "execution_count": 170,
   "id": "103bf049-b81c-4118-9796-998d5fdd294b",
   "metadata": {},
   "outputs": [
    {
     "data": {
      "text/plain": [
       "45"
      ]
     },
     "execution_count": 170,
     "metadata": {},
     "output_type": "execute_result"
    }
   ],
   "source": [
    "# the using of NotImplemented\n",
    "class MyNumber:\n",
    "    def __add__(self, other):\n",
    "        if isinstance(other, float):\n",
    "            return NotImplemented\n",
    "        return other + 42\n",
    "    \n",
    "num = MyNumber()\n",
    "num + 3\n"
   ]
  },
  {
   "cell_type": "code",
   "execution_count": null,
   "id": "b1b5383d-9efc-4bd6-b977-af671217eb02",
   "metadata": {},
   "outputs": [],
   "source": [
    "import fibo"
   ]
  },
  {
   "cell_type": "code",
   "execution_count": null,
   "id": "d4531ab2-22a0-43d3-a5a3-ee7fc307b3e9",
   "metadata": {},
   "outputs": [],
   "source": [
    "fibo.__name__\n",
    "fibo.__doc__"
   ]
  },
  {
   "cell_type": "markdown",
   "id": "566f98c5-23e8-4b83-b4fd-383d14b5944c",
   "metadata": {},
   "source": [
    "## Error and Exceptions"
   ]
  },
  {
   "cell_type": "markdown",
   "id": "5f73f05a-86b4-4692-88de-a1bc75ce0522",
   "metadata": {},
   "source": [
    "### Syntax Errors"
   ]
  },
  {
   "cell_type": "code",
   "execution_count": null,
   "id": "28675790-d882-4a0a-a0f6-dac8e9e7dc11",
   "metadata": {},
   "outputs": [],
   "source": [
    "while True print('Hello world')"
   ]
  },
  {
   "cell_type": "markdown",
   "id": "08b68622-8573-48a3-883c-a5ffaa83141e",
   "metadata": {},
   "source": [
    "### Exceptions"
   ]
  },
  {
   "cell_type": "code",
   "execution_count": null,
   "id": "8e7d0fbd-dac2-4274-9e82-191f9a78d7bc",
   "metadata": {},
   "outputs": [],
   "source": [
    "10 * (1/0)"
   ]
  },
  {
   "cell_type": "markdown",
   "id": "acd8503d-4cf5-4728-99f3-4fb0371922e5",
   "metadata": {},
   "source": [
    "### Handling Exceptions"
   ]
  },
  {
   "cell_type": "code",
   "execution_count": null,
   "id": "053ddff9-ed17-4197-9b54-3915ac7c8c9c",
   "metadata": {},
   "outputs": [],
   "source": [
    "while True:\n",
    "    try:\n",
    "        x = int(input(\"Please enter a number: \"))\n",
    "        break\n",
    "    except ValueError:\n",
    "        print(\"Oops! That was no valid number. Try again...\")"
   ]
  },
  {
   "cell_type": "code",
   "execution_count": null,
   "id": "cf46c65f-a474-46d5-ad77-bedb9a50378a",
   "metadata": {},
   "outputs": [],
   "source": [
    "class B(Exception):\n",
    "    pass\n",
    "\n",
    "class C(B):\n",
    "    pass\n",
    "\n",
    "class D(C):\n",
    "    pass\n",
    "\n",
    "for cls in [B, C, D]:\n",
    "    try:\n",
    "        raise cls()\n",
    "    except D:\n",
    "        print(\"D\")\n",
    "    except C:\n",
    "        print(\"C\")\n",
    "    except B:\n",
    "        print(\"B\")"
   ]
  },
  {
   "cell_type": "code",
   "execution_count": null,
   "id": "c58708cc-20f5-43aa-9f88-56fdbef46957",
   "metadata": {},
   "outputs": [],
   "source": [
    "# All exceptions inherit from BaseException\n",
    "import sys\n",
    "\n",
    "try:\n",
    "    f = open('myfile.txt')\n",
    "    s = f.readline()\n",
    "    i = int(s.strip())\n",
    "except OSError as err:\n",
    "    print(\"OS error: {0}\".format(err))\n",
    "except ValueError:\n",
    "    print(\"Could not convert data to an integer.\")\n",
    "except BaseException as err:\n",
    "    print(f\"Unexpected {err=}, {type(err)=}\")\n",
    "    raise\n",
    "    \n",
    "sys.exc_info()"
   ]
  },
  {
   "cell_type": "markdown",
   "id": "4e153436-dcf6-4b1f-ba45-1ec6cb720e9b",
   "metadata": {},
   "source": [
    "### Raising Exceptions"
   ]
  },
  {
   "cell_type": "code",
   "execution_count": null,
   "id": "f2f5258a-326e-4215-acef-c8848ab9a431",
   "metadata": {},
   "outputs": [],
   "source": [
    "raise NameError('HiThere')"
   ]
  },
  {
   "cell_type": "markdown",
   "id": "09c6feb3-ea11-4171-a5d4-637b3d0b49a2",
   "metadata": {},
   "source": [
    "### Exception Chaining"
   ]
  },
  {
   "cell_type": "markdown",
   "id": "dbe006fb-7159-4cf7-81eb-6731215b5e96",
   "metadata": {},
   "source": [
    "### User-defined Exceptions"
   ]
  },
  {
   "cell_type": "markdown",
   "id": "f2cbffe4-d2ed-4fe1-9522-83178c20e449",
   "metadata": {},
   "source": [
    "### Defining Clean-up Actions"
   ]
  },
  {
   "cell_type": "markdown",
   "id": "be39c046-36b9-437e-8068-7ae11e7feadf",
   "metadata": {},
   "source": [
    "`finally` statement will be executed under all circustances"
   ]
  },
  {
   "cell_type": "code",
   "execution_count": null,
   "id": "bbdb631f-9686-4be0-89d6-b4138f38130a",
   "metadata": {},
   "outputs": [],
   "source": [
    "try:\n",
    "    raise KeyboardInterrupt\n",
    "finally:\n",
    "    print(\"Goodbye, world!\")"
   ]
  },
  {
   "cell_type": "markdown",
   "id": "b17f5ee4-a6f8-45ac-a6fe-408076723c28",
   "metadata": {},
   "source": [
    "### Predefined Clean-up Actions"
   ]
  },
  {
   "cell_type": "code",
   "execution_count": null,
   "id": "7452df9e-001e-4a8f-9bd7-9dd8c3808856",
   "metadata": {
    "scrolled": true,
    "tags": []
   },
   "outputs": [],
   "source": [
    "# The with statement allows objects like files to be used in a way that ensures they are always cleaned up promptly and correctly.\n",
    "with open(\"better call saul 01.txt\", \"r\", encoding=\"utf-8\") as f:\n",
    "    for line in f:\n",
    "        print(line, end=\"\")"
   ]
  },
  {
   "cell_type": "markdown",
   "id": "8e1073b6-9ec4-42e8-b7d0-5f451a44c909",
   "metadata": {},
   "source": [
    "## Classes"
   ]
  },
  {
   "cell_type": "markdown",
   "id": "c435ef98-d729-4f80-87ee-ffbeca009b8c",
   "metadata": {},
   "source": [
    "Classes provide a means of bundling data and functionality together.  Creating a new class creates a new *type* of object, allowing new *instances* of that type to be made.  Each class instance can have attributes attached to it for maintaining its state.  Class instances can also have methods (defined by its class) for modifying its state.\n",
    "\n",
    "> 类提供了一种将**数据**和**功能**捆绑在一起的方法。 创建一个新的类可以创建一个新的*类型*的对象，允许该类型的新*实例*被制造。 每个类的实例都可以有附加的属性来维持其状态。 类实例也可以有方法（由其类定义）来修改其状态。\n",
    "\n",
    "Compared with other programming languages, Python’s class mechanism adds classes with a minimum of new syntax and semantics.  It is a mixture of the class mechanisms found in C++ and Modula-3.  Python classes provide all the standard features of Object Oriented Programming: the class inheritance mechanism allows multiple base classes, a derived class can override any methods of its base class or classes, and a method can call the method of a base class with the same name.  Objects can contain arbitrary amounts and kinds of data.  As is true for modules, classes partake of the dynamic nature of Python: they are created at runtime, and can be modified further after creation.\n",
    "\n",
    "> 与其它编程语言相比，Python 的类机制以最少的新语法和语义增加了类。 它是 C++ 和 Modula-3 中的类机制的混合物。 Python 的类提供了**面向对象编程**的所有标准特性：类的**继承**机制允许多个基类，一个**派生类**可以覆盖其基类或类的任何**方法**，一个方法可以调用同名基类的方法。 对象可以包含任意数量和种类的数据。 与模块一样，类也具有 Python 的**动态特性**：它们在运行时被创建，并在创建后可以进一步修改。\n",
    "\n",
    "In C++ terminology, normally class members (including the data members) are *public* (except see below [Private Variables](https://docs.python.org/3/tutorial/classes.html#tut-private)), and all member functions are *virtual*.  As in Modula-3, there are no shorthands for referencing the object’s members from its methods: the method function is declared with an explicit first argument representing the object, which is provided implicitly by the call.  As in Smalltalk, classes themselves are objects.  This provides semantics for importing and renaming.  Unlike C++ and Modula-3, built-in types can be used as base classes for extension by the user.  Also, like in C++, most built-in operators with special syntax (arithmetic operators, subscripting etc.) can be redefined for class instances.\n",
    "\n",
    "> 在C++**术语**中，通常类成员（包括数据成员）是***公共的***（除了见下文[私有变量](https://docs.python.org/3/tutorial/classes.html#tut-private)），所有成员函数是***虚拟的***。 和Modula-3一样，从对象的方法中引用对象的成员没有简略方法：**方法函数**在声明时有一个明确的**代表对象的第一个参数**，该参数由调用隐含地提供。 就像在Smalltalk中一样，类本身就是对象。 这为导入和重命名提供了语义。 与C++和Modula-3不同，内置类型可以作为用户扩展的基类。 另外，像C++一样，大多数具有特殊语法的**内置运算符**（算术运算符、下标等）可以为类实例重新定义。"
   ]
  },
  {
   "cell_type": "markdown",
   "id": "3e60d481-f9e8-4e6f-8983-208014b28ddc",
   "metadata": {},
   "source": [
    "### A Word About Names and Objects"
   ]
  },
  {
   "cell_type": "markdown",
   "id": "63547bd5-cb92-4fc7-b9ef-dbfe4463d489",
   "metadata": {},
   "source": [
    "Objects have individuality, and multiple names (in multiple scopes) can be bound to the same object.  This is known as aliasing in other languages.  This is usually not appreciated on a first glance at Python, and can be safely ignored when dealing with immutable basic types (numbers, strings, tuples).  However, aliasing has a possibly surprising effect on the semantics of Python code involving mutable objects such as lists, dictionaries, and most other types. This is usually used to the benefit of the program, since aliases behave like pointers in some respects.  For example, passing an object is cheap since only a pointer is passed by the implementation; and if a function modifies an object passed as an argument, the caller will see the change — this eliminates the need for two different argument passing mechanisms as in Pascal.\n",
    "\n",
    "> 对象具有个体性，多个名字（在多个作用域中）可以被绑定到同一个对象。 这在其它语言中被称为别名。 通常在第一眼看到Python的时候，并没有**意识**到这一点，在处理不可变的基本类型(数字、字符串、元组)时，可以安全地忽略。 然而，别名对涉及可变对象的 Python 代码的语义有可能产生惊人的影响，如列表、字典和大多数其它类型。这通常是为了程序的利益，因为别名在某些方面表现得像指针。 例如，传递一个对象是方便的，因为实现中只传递了一个指针；如果一个函数修改了作为参数传递的对象，那么调用者就会看到这个变化--这就不需要像 Pascal 中那样有两种不同的参数传递机制。"
   ]
  },
  {
   "cell_type": "code",
   "execution_count": null,
   "id": "f3d2c301-5812-4f7a-9b19-631b768ba056",
   "metadata": {},
   "outputs": [],
   "source": [
    "# the differen beteween 'is' and '=='? 'is' is about memory address, '==' is about value differential.\n",
    "# see this: https://anvil.works/articles/pointers-in-my-python-2\n",
    "a_list = [1, 2, 3]\n",
    "b_list = a_list\n",
    "\n",
    "a_list.append(4)\n",
    "b_list\n",
    "\n",
    "b_list is a_list\n",
    "b_list == a_list\n",
    "\n",
    "id(a_list)\n",
    "id(b_list)"
   ]
  },
  {
   "cell_type": "markdown",
   "id": "60f45248-e321-4e8a-b1f7-ef4d19dc2aa5",
   "metadata": {},
   "source": [
    "### Python Scopes and Namespaces"
   ]
  },
  {
   "cell_type": "markdown",
   "id": "e4c1d5ce-e45f-4cc8-92a1-f92ecbf67f3d",
   "metadata": {},
   "source": [
    "Before introducing classes, I first have to tell you something about Python’s scope rules.  Class definitions play some neat tricks with namespaces, and you need to know how scopes and namespaces work to fully understand what’s going on. Incidentally, knowledge about this subject is useful for any advanced Python programmer.\n",
    "\n",
    "Let’s begin with some definitions.\n",
    "\n",
    "> 在介绍**类**之前，我首先要告诉你一些关于 Python 的**作用域**规则。 类的定义在名称空间上玩了一些巧妙的花样，你需要知道作用域和**命名空间**是如何工作的，才能完全理解发生了什么。顺便说一句，关于这个主题的知识对任何高级 Python 程序员都是有用的。\n",
    ">\n",
    "> 让我们从一些定义开始。\n",
    "\n",
    "A *namespace* is a mapping from names to objects.  Most namespaces are currently implemented as Python dictionaries, but that’s normally not noticeable in any way (except for performance), and it may change in the future.  Examples of namespaces are: the set of built-in names (containing functions such as [`abs()`](https://docs.python.org/3/library/functions.html#abs), and built-in exception names); the global names in a module; and the local names in a function invocation.  In a sense the set of attributes of an object also form a namespace.  The important thing to know about namespaces is that there is absolutely no relation between names in different namespaces; for instance, two different modules may both define a function `maximize` without confusion — users of the modules must prefix it with the module name.\n",
    "\n",
    "> 一个*名字空间*是一个从名字到对象的**映射**。 大多数命名空间目前是以Python字典的形式实现的，但这通常不会引起任何注意 (除了性能问题)，而且在未来可能会发生变化。 命名空间的例子有：内置名称的集合 (包含诸如 [`abs()`](https://docs.python.org/3/library/functions.html#abs) 的函数，以及内置异常名称)；模块中的全局名称；以及函数调用中的局部名称。 在某种意义上，**一个对象的属性集也构成了一个命名空间**。 关于名字空间，重要的是不同名字空间的名字之间绝对没有关系；例如，两个不同的模块可以同时定义一个函数`maximize`而不会混淆--模块的用户必须在它前面加上模块的名字。\n",
    "\n",
    "By the way, I use the word *attribute* for any name following a dot — for example, in the expression `z.real`, `real` is an attribute of the object `z`.  Strictly speaking, references to names in modules are attribute references: in the expression `modname.funcname`, `modname` is a module object and `funcname` is an attribute of it.  In this case there happens to be a straightforward mapping between the module’s attributes and the global names defined in the module: they share the same namespace!  [1](https://docs.python.org/3/tutorial/classes.html#id2)\n",
    "\n",
    "> 顺便说一下，我用*属性*这个词来表示任何点后面的名字 - 例如，在表达式`z.real`中，`real`是对象`z`的一个属性。 严格来说，对模块中名字的引用是**属性引用**：在表达式`modname.funcname`中，`modname`是一个模块对象，`funcname`是它的一个属性。 在这种情况下，模块的属性和模块中定义的全局名称之间恰好有一个**直接的映射**：它们共享同一个命名空间!  <sup>[1](https://docs.python.org/3/tutorial/classes.html#id2)</sup>\n",
    "\n",
    "Attributes may be read-only or writable.  In the latter case, assignment to attributes is possible.  Module attributes are writable: you can write `modname.the_answer = 42`.  Writable attributes may also be deleted with the [`del`](https://docs.python.org/3/reference/simple_stmts.html#del) statement.  For example, `del modname.the_answer` will remove the attribute `the_answer` from the object named by `modname`.\n",
    "\n",
    "> 属性可以是**只读**的，也可以是**可写**的。 在后一种情况下，**对属性的赋值**是可能的。 模块属性是可写的：你可以写`modname.the_answer = 42`。 可写属性也可以用[`del`](https://docs.python.org/3/reference/simple_stmts.html#del)语句删除。 例如，`del modname.the_answer`将从`modname`命名的对象中删除`the_answer`属性。\n",
    "\n",
    "Namespaces are created at different moments and have different lifetimes.  The namespace containing the built-in names is created when the Python interpreter starts up, and is never deleted.  The global namespace for a module is created when the module definition is read in; normally, module namespaces also last until the interpreter quits.  The statements executed by the top-level invocation of the interpreter, either read from a script file or interactively, are considered part of a module called [`__main__`](https://docs.python.org/3/library/__main__.html#module-__main__), so they have their own global namespace.  (The built-in names actually also live in a module; this is called [`builtins`](https://docs.python.org/3/library/builtins.html#module-builtins).)\n",
    "\n",
    "> 命名空间是在**不同的时刻**创建的，有**不同的生命周期**。 包含内置名字的名字空间在 Python 解释器启动时创建，并且永不删除。 一个模块的全局名字空间在模块定义被读入时创建；通常，模块名字空间也会持续到解释器退出。 解释器的顶层调用所执行的语句，无论是从脚本文件中读取的还是交互式的，都被认为是名为 [`__main__`](https://docs.python.org/3/library/__main__.html#module-__main__) 的模块的一部分，所以它们有自己的全局命名空间。 (内置名称实际上也存在于一个模块中；这被称为 [`builtins`](https://docs.python.org/3/library/builtins.html#module-builtins))。\n",
    "\n",
    "The local namespace for a function is created when the function is called, and deleted when the function returns or raises an exception that is not handled within the function.  (Actually, forgetting would be a better way to describe what actually happens.)  Of course, recursive invocations each have their own local namespace.\n",
    "\n",
    "A *scope* is a textual region of a Python program where a namespace is directly accessible.  “Directly accessible” here means that an unqualified reference to a name attempts to find the name in the namespace.\n",
    "\n",
    "> 一个函数的**局部命名空间**在该函数**被调用时**被创建，并在该函数返回或引发一个没有在该函数中处理的异常时**被删除**。 (实际上，用遗忘来描述实际发生的情况会更好）。 当然，递归调用都有自己的局部命名空间。\n",
    ">\n",
    "> 一个*作用域*是Python程序的一个**文本区域**，在这个区域中名字空间可以直接访问。 这里的 \"直接访问 \"意味着对一个名字的无条件引用会试图在名字空间中找到这个名字。\n",
    "\n",
    "Although scopes are determined statically, they are used dynamically. At any time during execution, there are 3 or 4 nested scopes whose namespaces are directly accessible:\n",
    "\n",
    "- the innermost scope, which is searched first, contains the local names\n",
    "- the scopes of any enclosing functions, which are searched starting with the nearest enclosing scope, contains non-local, but also non-global names\n",
    "- the next-to-last scope contains the current module’s global names\n",
    "- the outermost scope (searched last) is the namespace containing built-in names\n",
    "\n",
    "> 尽管作用域是**静态确定**的，但它们是**动态使用**的。在执行过程中的任何时候，都有3到4个嵌套的作用域，其名字空间可以**直接访问**：\n",
    ">\n",
    "> - 最内层的作用域，它首先被搜索到，包含局部名称\n",
    "> - 任何**闭合函数的作用域**，从最近的闭合作用域开始搜索，包含非局部的，但也是非全局的名字\n",
    "> - 倒数第二的作用域包含当前模块的全局名称\n",
    "> - 最外层的作用域（最后搜索的）是包含**内置名称**的名称空间\n",
    "\n",
    "notice: the search order(local scope - enclosing scope - gloabal scope - builtin scope)\n",
    "\n",
    "If a name is declared global, then all references and assignments go directly to the middle scope containing the module’s global names.  To rebind variables found outside of the innermost scope, the [`nonlocal`](https://docs.python.org/3/reference/simple_stmts.html#nonlocal) statement can be used; if not declared nonlocal, those variables are read-only (an attempt to write to such a variable will simply create a *new* local variable in the innermost scope, leaving the identically named outer variable unchanged).\n",
    "\n",
    "> 如果一个名字被**声明为全局**的，那么所有的引用和赋值都会直接进入包含模块全局名字的中间作用域。 要**重新绑定在最内层作用域之外发现的变量**，可以使用[`nonlocal`](https://docs.python.org/3/reference/simple_stmts.html#nonlocal)语句；如果没有声明为非局部变量（**nonlocal**），这些变量是只读的（试图写到这样的变量将只是在最内层作用域中创建一个*新的*局部变量，而使相同命名的外层变量保持不变）。\n",
    "\n",
    "Usually, the local scope references the local names of the (textually) current function.  Outside functions, the local scope references the same namespace as the global scope: the module’s namespace. Class definitions place yet another namespace in the local scope.\n",
    "\n",
    "It is important to realize that scopes are determined textually: the global scope of a function defined in a module is that module’s namespace, no matter from where or by what alias the function is called.  On the other hand, the actual search for names is done dynamically, at run time — however, the language definition is evolving towards static name resolution, at “compile” time, so don’t rely on dynamic name resolution!  (In fact, local variables are already determined statically.)\n",
    "\n",
    "> 通常情况下，局部作用域引用的是（文本上）**当前函数**的局部名称。 在函数之外，局部作用域引用与全局作用域相同的名字空间：**模块的名字空间**。类的定义在局部作用域中放置了另一个名字空间。\n",
    ">\n",
    "> 重要的是要认识到作用域是由文本决定的：**一个模块中定义的函数的全局作用域是该模块的名字空间**，无论该函数从哪里被调用或以什么别名被调用。 另一方面，名称的实际搜索是在运行时动态进行的--然而，语言的定义正朝着**静态名称解析**的方向发展，在 \"编译\"时进行，所以不要依赖动态名称解析！ (事实上，局部变量已经被静态地确定了）。\n",
    "\n",
    "A special quirk of Python is that – if no [`global`](https://docs.python.org/3/reference/simple_stmts.html#global) or [`nonlocal`](https://docs.python.org/3/reference/simple_stmts.html#nonlocal) statement is in effect – assignments to names always go into the innermost scope. Assignments do not copy data — they just bind names to objects.  The same is true for deletions: the statement `del x` removes the binding of `x` from the namespace referenced by the local scope.  In fact, all operations that introduce new names use the local scope: in particular, [`import`](https://docs.python.org/3/reference/simple_stmts.html#import) statements and function definitions bind the module or function name in the local scope.\n",
    "\n",
    "The [`global`](https://docs.python.org/3/reference/simple_stmts.html#global) statement can be used to indicate that particular variables live in the global scope and should be rebound there; the [`nonlocal`](https://docs.python.org/3/reference/simple_stmts.html#nonlocal) statement indicates that particular variables live in an enclosing scope and should be rebound there.\n",
    "\n",
    "> Python 的一个特殊的怪癖是，如果没有 [`global`](https://docs.python.org/3/reference/simple_stmts.html#global) 或 [`nonlocal`](https://docs.python.org/3/reference/simple_stmts.html#nonlocal) 语句生效，对名字的赋值总是进入**最内部的作用域**（即local scope）。赋值并不复制数据--它们只是**将名字绑定到对象上**。 删除也是如此：语句`del x`将`x`从局部作用域引用的名字空间中删除绑定。事实上，所有引入新名字的操作都使用局部作用域：特别是[`import`](https://docs.python.org/3/reference/simple_stmts.html#import)语句和函数定义在局部作用域中绑定了模块或函数名。\n",
    ">\n",
    "> [`global`](https://docs.python.org/3/reference/simple_stmts.html#global) 语句可以用来表示特定的变量生活在**全局作用域内**，并应在那里被重新绑定；[`nonlocal`](https://docs.python.org/3/reference/simple_stmts.html#nonlocal) 语句表示特定的变量生活在一个**闭合作用域内**，应在那里被重新绑定。"
   ]
  },
  {
   "cell_type": "markdown",
   "id": "c9a0388b-9ff7-40b4-aa3b-ff6ce482fe50",
   "metadata": {},
   "source": [
    "**Scopes and Namespaces Example**"
   ]
  },
  {
   "cell_type": "code",
   "execution_count": 1,
   "id": "f1182be4-54fd-4e3f-bff1-48820e7cf69e",
   "metadata": {},
   "outputs": [
    {
     "name": "stdout",
     "output_type": "stream",
     "text": [
      "After local assignment: test spam\n",
      "After nonlocal assignment: nonlocal spam\n",
      "After global assignment: nonlocal spam\n",
      "In global scope: global spam\n"
     ]
    }
   ],
   "source": [
    "def scope_test():\n",
    "    def do_local():\n",
    "        spam = \"local spam\"\n",
    "        \n",
    "    def do_nonlocal():\n",
    "        nonlocal spam\n",
    "        spam = \"nonlocal spam\"\n",
    "        \n",
    "    def do_global():\n",
    "        global spam\n",
    "        spam = \"global spam\"\n",
    "        \n",
    "    spam = \"test spam\"\n",
    "    do_local()\n",
    "    print(\"After local assignment:\", spam)\n",
    "    do_nonlocal()\n",
    "    print(\"After nonlocal assignment:\", spam)\n",
    "    do_global()\n",
    "    print(\"After global assignment:\", spam)\n",
    "    \n",
    "    \n",
    "scope_test()\n",
    "print(\"In global scope:\", spam)"
   ]
  },
  {
   "cell_type": "markdown",
   "id": "bd074ab5-c2af-492b-831f-98c6e514b3ac",
   "metadata": {},
   "source": [
    "### A first look at classes"
   ]
  },
  {
   "cell_type": "markdown",
   "id": "78af4d97-1807-4424-ad67-e49adb63d44b",
   "metadata": {},
   "source": [
    "Classes introduce a little bit of new syntax, three new object types, and some new semantics."
   ]
  },
  {
   "cell_type": "raw",
   "id": "2b461d33-7f3b-495c-adb4-d1445be90fa1",
   "metadata": {},
   "source": [
    "# simplest form of class definition\n",
    "class ClassName:\n",
    "    <statement-1>\n",
    "    .\n",
    "    .\n",
    "    .\n",
    "    <statement-N>"
   ]
  },
  {
   "cell_type": "markdown",
   "id": "e74e3f1a-12fd-4f4a-b50a-92bb4a717479",
   "metadata": {},
   "source": [
    "Class definitions, like function definitions ([`def`](https://docs.python.org/3/reference/compound_stmts.html#def) statements) must be executed before they have any effect.  (You could conceivably place a class definition in a branch of an [`if`](https://docs.python.org/3/reference/compound_stmts.html#if) statement, or inside a function.)\n",
    "\n",
    "In practice, the statements inside a class definition will usually be function definitions, but other statements are allowed, and sometimes useful — we’ll come back to this later.  The function definitions inside a class normally have a peculiar form of argument list, dictated by the calling conventions for methods — again, this is explained later.\n",
    "\n",
    "> 类定义，就像函数定义（[`def`](https://docs.python.org/3/reference/compound_stmts.html#def) 语句）必须在它们产生任何效果之前被执行。 (可以想象，你可以把类定义放在[`if`](https://docs.python.org/3/reference/compound_stmts.html#if)语句的一个分支中，或者放在一个函数中）。\n",
    ">\n",
    "> 在实践中，类定义中的语句通常是**函数定义**，但其他的语句也是允许的，有时也很有用--我们将在后面讨论这个问题。 类中的函数定义通常有一个**特殊形式的参数列表**，这是由方法的调用约定所决定的--同样，这将在后面解释。\n",
    "\n",
    "When a class definition is entered, a new namespace is created, and used as the local scope — thus, all assignments to local variables go into this new namespace.  In particular, function definitions bind the name of the new function here.\n",
    "\n",
    "When a class definition is left normally (via the end), a *class object* is created.  This is basically a wrapper around the contents of the namespace created by the class definition; we’ll learn more about class objects in the next section.  The original local scope (the one in effect just before the class definition was entered) is reinstated, and the class object is bound here to the class name given in the class definition header (`ClassName` in the example).\n",
    "\n",
    "> 当一个类定义被输入时，一个新的命名空间被创建，并**被用作局部作用域**--因此，所有对局部变量的赋值都进入这个新的命名空间。 特别是，函数定义将新函数的名字绑定在这里。\n",
    ">\n",
    "> 当一个类定义被正常留下时（通过结尾），一个***类对象***被创建。 这基本上是对类定义所创建的命名空间内容的一个封装；我们将在下一节中进一步了解类对象。 原来的局部作用域（在进入类定义之前的作用域）被恢复，类对象在这里被绑定到类定义头中给出的**类名**上（例子中的`ClassName`）。"
   ]
  },
  {
   "cell_type": "markdown",
   "id": "932ef784-12f5-4a61-8181-73ef6fe9e18e",
   "metadata": {},
   "source": [
    "**Class Objects**"
   ]
  },
  {
   "cell_type": "markdown",
   "id": "82874655-abfe-4ba7-8a47-4c193d3a2a81",
   "metadata": {},
   "source": [
    "Class objects support two kinds of operations: attribute references and instantiation.\n",
    "\n",
    "*Attribute references* use the standard syntax used for all attribute references in Python: `obj.name`.  Valid attribute names are all the names that were in the class’s namespace when the class object was created.  So, if the class definition looked like this:\n",
    "\n",
    "> 类对象支持**两种操作**：**属性引用**和**实例化**。\n",
    ">\n",
    "> *属性引用*使用Python中用于所有属性引用的标准语法：`obj.name`。 有效的属性名是**在创建类对象时在类的名字空间中的所有名字**。 所以，如果类的定义看起来像这样："
   ]
  },
  {
   "cell_type": "code",
   "execution_count": 9,
   "id": "1b8529df-38c9-4ffb-b017-ebf8a21bae41",
   "metadata": {},
   "outputs": [
    {
     "data": {
      "text/plain": [
       "12345"
      ]
     },
     "execution_count": 9,
     "metadata": {},
     "output_type": "execute_result"
    },
    {
     "data": {
      "text/plain": [
       "<function __main__.MyClass.f(self)>"
      ]
     },
     "execution_count": 9,
     "metadata": {},
     "output_type": "execute_result"
    },
    {
     "data": {
      "text/plain": [
       "'hello world'"
      ]
     },
     "execution_count": 9,
     "metadata": {},
     "output_type": "execute_result"
    },
    {
     "data": {
      "text/plain": [
       "'A simple example class'"
      ]
     },
     "execution_count": 9,
     "metadata": {},
     "output_type": "execute_result"
    },
    {
     "data": {
      "text/plain": [
       "12345"
      ]
     },
     "execution_count": 9,
     "metadata": {},
     "output_type": "execute_result"
    }
   ],
   "source": [
    "class MyClass:\n",
    "    \"\"\"A simple example class\"\"\"\n",
    "    i = 12345\n",
    "    \n",
    "    def f(self):\n",
    "        return 'hello world'\n",
    "    \n",
    "\n",
    "# attribute reference\n",
    "MyClass.i\n",
    "MyClass.f\n",
    "\n",
    "# attribute reference and excution, notice the argument 'self'\n",
    "MyClass.f('self')\n",
    "\n",
    "# return the docstring belonging to the class\n",
    "MyClass.__doc__\n",
    "\n",
    "c = MyClass()\n",
    "c.i"
   ]
  },
  {
   "cell_type": "markdown",
   "id": "bddea5ae-33c1-42bf-82c3-32af1080f6c8",
   "metadata": {},
   "source": [
    "then `MyClass.i` and `MyClass.f` are valid attribute references, returning an integer and a function object, respectively. Class attributes can also be assigned to, so you can change the value of `MyClass.i` by assignment. `__doc__` is also a valid attribute, returning the docstring belonging to the class: `\"A simple example class\"`.\n",
    "\n",
    "Class *instantiation* uses function notation.  Just pretend that the class object is a parameterless function that returns a new instance of the class. For example (assuming the above class):\n",
    "\n",
    "> 那么`MyClass.i`和`MyClass.f`是有效的属性引用，分别返回一个整数和一个函数对象。类的属性也可以**被赋值**，所以你可以通过赋值改变`MyClass.i`的值。`__doc__`也是一个有效的属性，返回属于该类的文档字符串。`\"A simple example class\"`。\n",
    ">\n",
    "> 类的*instantiation*使用函数符号。 假设类的对象是一个**无参数的函数**，返回一个新的类的实例。例如（假设是上面的类）："
   ]
  },
  {
   "cell_type": "code",
   "execution_count": 4,
   "id": "273c0c35-b2ac-447f-822d-0694d0a800e2",
   "metadata": {},
   "outputs": [
    {
     "data": {
      "text/plain": [
       "<__main__.MyClass at 0x17090e66c20>"
      ]
     },
     "execution_count": 4,
     "metadata": {},
     "output_type": "execute_result"
    }
   ],
   "source": [
    "x = MyClass()\n",
    "x"
   ]
  },
  {
   "cell_type": "markdown",
   "id": "4973039d-0fc1-4d96-bf52-4b193c1e982d",
   "metadata": {},
   "source": [
    "creates a new *instance* of the class and assigns this object to the local variable `x`.\n",
    "\n",
    "The instantiation operation (“calling” a class object) creates an empty object. Many classes like to create objects with instances customized to a specific initial state. Therefore a class may define a special method named `__init__()`, like this:\n",
    "\n",
    "> 创建一个新的类的*实例*，并将这个对象分配给局部变量`x`。\n",
    ">\n",
    "> **实例化操作**（\"调用 \"一个类的对象）创建了一个空对象。许多类喜欢用实例创建对象，并**将其定制为一个特定的初始状态**。因此，一个类可以定义一个名为`__init__()`的特殊方法，像这样："
   ]
  },
  {
   "cell_type": "code",
   "execution_count": 182,
   "id": "3c8bc66a-14cc-43a5-9ecb-377959dec7e8",
   "metadata": {},
   "outputs": [],
   "source": [
    "def __init__(self):\n",
    "    self.data = []"
   ]
  },
  {
   "cell_type": "markdown",
   "id": "e34b1aa5-76df-482e-842d-0ca39b1ea7a1",
   "metadata": {},
   "source": [
    "When a class defines an `__init__()` method, class instantiation automatically invokes `__init__()` for the newly created class instance.  So in this example, a new, initialized instance can be obtained by:\n",
    "\n",
    "> 当一个类定义了一个`__init__()`方法时，类的实例化会自动调用`__init__()`来处理新创建的类实例。 所以在这个例子中，一个新的、初始化的实例可以通过以下方式获得："
   ]
  },
  {
   "cell_type": "code",
   "execution_count": 183,
   "id": "c7abf3f3-79e3-4ed0-b87d-498c88339f63",
   "metadata": {},
   "outputs": [],
   "source": [
    "x = MyClass()"
   ]
  },
  {
   "cell_type": "markdown",
   "id": "48f1a10f-d486-4acd-85cb-464831e517ff",
   "metadata": {},
   "source": [
    "Of course, the `__init__()` method may have arguments for greater flexibility.  In that case, arguments given to the class instantiation operator are passed on to `__init__()`.  For example,\n",
    "\n",
    "> 当然，`__init__()`方法可以有参数以获得更大的灵活性。 在这种情况下，给类的实例化操作符的参数会被传递给`__init__()`。 比如说"
   ]
  },
  {
   "cell_type": "code",
   "execution_count": 8,
   "id": "a9aee673-1668-4d9e-8a53-aef65f2e335b",
   "metadata": {},
   "outputs": [
    {
     "data": {
      "text/plain": [
       "3.0"
      ]
     },
     "execution_count": 8,
     "metadata": {},
     "output_type": "execute_result"
    },
    {
     "data": {
      "text/plain": [
       "-4.5"
      ]
     },
     "execution_count": 8,
     "metadata": {},
     "output_type": "execute_result"
    }
   ],
   "source": [
    "class Complex:\n",
    "    def __init__(self, realpart, imagpart):\n",
    "        self.r = realpart\n",
    "        self.i = imagpart\n",
    "        \n",
    "x = Complex(3.0, -4.5)\n",
    "x.r \n",
    "x.i"
   ]
  },
  {
   "cell_type": "markdown",
   "id": "0b5b2eaf-80d7-4fb5-aff2-e4e8cac28cc5",
   "metadata": {},
   "source": [
    "**Instance Objects**"
   ]
  },
  {
   "cell_type": "markdown",
   "id": "58714cdf-1ec8-49fe-bb4a-574fbac9622a",
   "metadata": {},
   "source": [
    "Now what can we do with instance objects?  The only operations understood by instance objects are attribute references.  There are two kinds of valid attribute names: data attributes and methods.\n",
    "\n",
    "*data attributes* correspond to “instance variables” in Smalltalk, and to “data members” in C++.  Data attributes need not be declared; like local variables, they spring into existence when they are first assigned to.  For example, if `x` is the instance of `MyClass` created above, the following piece of code will print the value `16`, without leaving a trace:\n",
    "\n",
    "> 现在我们能用**实例对象**做什么？ 实例对象所能理解的唯一操作是**属性引用**。 有两种有效的属性名称：**数据属性**和**方法**。\n",
    ">\n",
    "> *数据属性*对应于Smalltalk中的 \"实例变量\"，以及C++中的 \"数据成员\"。 数据属性不需要被声明；就像局部变量一样，它们在第一次被分配到时就已经存在了。 例如，如果`x`是上面创建的`MyClass`的实例，下面这段代码将打印出`16`的值，而不会留下任何痕迹："
   ]
  },
  {
   "cell_type": "code",
   "execution_count": 6,
   "id": "b933ff47-409e-4cb4-80b4-1936ba1cc6b3",
   "metadata": {},
   "outputs": [
    {
     "name": "stdout",
     "output_type": "stream",
     "text": [
      "16\n"
     ]
    }
   ],
   "source": [
    "x.counter = 1\n",
    "while x.counter < 10:\n",
    "    x.counter = x.counter * 2\n",
    "    \n",
    "print(x.counter)"
   ]
  },
  {
   "cell_type": "markdown",
   "id": "5b5519f5-fabe-4f77-8d37-57fb96c7b065",
   "metadata": {},
   "source": [
    "The other kind of instance attribute reference is a *method*. A method is a function that “belongs to” an object.  (In Python, the term method is not unique to class instances: other object types can have methods as well.  For example, list objects have methods called append, insert, remove, sort, and so on. However, in the following discussion, we’ll use the term method exclusively to mean methods of class instance objects, unless explicitly stated otherwise.)\n",
    "\n",
    "Valid method names of an instance object depend on its class.  By definition, all attributes of a class that are function  objects define corresponding methods of its instances.  So in our example, `x.f` is a valid method reference, since `MyClass.f` is a function, but `x.i` is not, since `MyClass.i` is not.  But `x.f` is not the same thing as `MyClass.f` — it is a *method object*, not a function object.\n",
    "\n",
    "> 另一种实例属性引用是*方法*。一个方法是一个 \"属于\"一个对象的**函数**。 (在 Python 中，方法这个术语并不只针对类的实例：**其他对象类型也可以有方法**。 例如，列表对象有叫做 append, insert, remove, sort 的方法，等等。然而，在下面的讨论中，除非另有明确说明，否则我们将专门使用方法这个术语来指代类实例对象的方法）。\n",
    ">\n",
    "> 实例对象的有效方法名称取决于其类别。 根据定义，一个类的所有属性都是**函数对象**，它们定义了其实例的相应方法。 所以在我们的例子中，`x.f`是一个有效的方法引用，因为`MyClass.f`是一个**函数**，但`x.i`不是，因为`MyClass.i`不是。 但是`x.f`和`MyClass.f`不是一回事--它是一个*方法对象*，而不是一个函数对象。"
   ]
  },
  {
   "cell_type": "markdown",
   "id": "ad3471b4-e4d9-49ff-b91e-a575af5db701",
   "metadata": {},
   "source": [
    "**Method Objects**"
   ]
  },
  {
   "cell_type": "code",
   "execution_count": 9,
   "id": "4ba915f6-9558-4520-94f5-45c52058bb98",
   "metadata": {},
   "outputs": [
    {
     "data": {
      "text/plain": [
       "'hello world'"
      ]
     },
     "execution_count": 9,
     "metadata": {},
     "output_type": "execute_result"
    }
   ],
   "source": [
    "# a method is called right after it is bound:\n",
    "x.f()"
   ]
  },
  {
   "cell_type": "code",
   "execution_count": 13,
   "id": "83b1b300-b1ac-4a9a-a118-33ae983cbfd7",
   "metadata": {},
   "outputs": [
    {
     "data": {
      "text/plain": [
       "'hello world'"
      ]
     },
     "execution_count": 13,
     "metadata": {},
     "output_type": "execute_result"
    }
   ],
   "source": [
    "#  x.f is a method object, and can be stored away and called at a later time\n",
    "xf = x.f\n",
    "xf()"
   ]
  },
  {
   "cell_type": "code",
   "execution_count": 14,
   "id": "c1d03b13-ddba-42cd-ab3b-c9da883768de",
   "metadata": {},
   "outputs": [
    {
     "data": {
      "text/plain": [
       "True"
      ]
     },
     "execution_count": 14,
     "metadata": {},
     "output_type": "execute_result"
    }
   ],
   "source": [
    "x.f() == MyClass.f(x)"
   ]
  },
  {
   "cell_type": "markdown",
   "id": "9dd171fa-683e-4712-8b1d-3a1361e7cd6d",
   "metadata": {},
   "source": [
    "What exactly happens when a method is called?  You may have noticed that `x.f()` was called without an argument above, even though the function definition for `f()` specified an argument.  What happened to the argument? Surely Python raises an exception when a function that requires an argument is called without any — even if the argument isn’t actually used…\n",
    "\n",
    "Actually, you may have guessed the answer: the special thing about methods is that the instance object is passed as the first argument of the function.  In our example, the call `x.f()` is exactly equivalent to `MyClass.f(x)`.  In general, calling a method with a list of *n* arguments is equivalent to calling the corresponding function with an argument list that is created by inserting the method’s instance object before the first argument.\n",
    "\n",
    "If you still don’t understand how methods work, a look at the implementation can perhaps clarify matters.  When a non-data attribute of an instance is referenced, the instance’s class is searched.  If the name denotes a valid class attribute that is a function object, a method object is created by packing (pointers to) the instance object and the function object just found together in an abstract object: this is the method object.  When the method object is called with an argument list, a new argument list is constructed from the instance object and the argument list, and the function object is called with this new argument list.\n",
    "\n",
    "> 当一个方法被调用时究竟会发生什么？ 你可能已经注意到，上面`x.f()`的调用是没有参数的，尽管`f()`的函数定义指定了一个参数。 那个参数怎么了？当然，当一个需要参数的函数在没有参数的情况下被调用时，Python 会引发一个异常--即使这个参数实际上并没有被使用......\n",
    ">\n",
    "> 实际上，你可能已经猜到了答案：方法的特殊之处在于，**实例对象是作为函数的第一个参数传递的**。 在我们的例子中，调用`x.f()`完全等同于`MyClass.f(x)`。 一般来说，用一个有*n*个参数的列表调用一个方法，相当于用一个参数列表调用相应的函数，这个参数列表是通过**在第一个参数前插入方法的实例对象**而创建的。\n",
    ">\n",
    "> 如果你仍然不明白方法是如何工作的，看一下实现也许可以澄清问题。 当一个实例的非数据属性被引用时，该**实例的类会被搜索到**。 如果这个名字表示一个有效的类属性是一个函数对象，那么通过将实例对象和刚刚找到的函数对象打包（指针）到一个抽象对象中，就会创建一个**方法对象**：这就是方法对象。 当方法对象被调用时有一个参数列表，一个新的参数列表从实例对象和参数列表中被构造出来，函数对象被用这个新的参数列表调用。"
   ]
  },
  {
   "cell_type": "markdown",
   "id": "1ea09117-aab9-4ab1-b128-f6d4346f5f5d",
   "metadata": {},
   "source": [
    "**Class and Instance Variables**"
   ]
  },
  {
   "cell_type": "markdown",
   "id": "832bcfab-ccd4-46de-b64e-6b7984c32d3e",
   "metadata": {},
   "source": [
    "Generally speaking, instance variables are for data unique to each instance and class variables are for attributes and methods shared by all instances of the class:\n",
    "\n",
    "> 一般来说，**实例变量**是指每个实例**所特有的数据**，而**类变量**是指类的所有实例**所共享**的属性和方法。"
   ]
  },
  {
   "cell_type": "code",
   "execution_count": 2,
   "id": "e71b3c6a-6ea1-4ddb-88f1-faf67e7f1241",
   "metadata": {},
   "outputs": [
    {
     "data": {
      "text/plain": [
       "'canine'"
      ]
     },
     "execution_count": 2,
     "metadata": {},
     "output_type": "execute_result"
    },
    {
     "data": {
      "text/plain": [
       "'canine'"
      ]
     },
     "execution_count": 2,
     "metadata": {},
     "output_type": "execute_result"
    },
    {
     "data": {
      "text/plain": [
       "'Fido'"
      ]
     },
     "execution_count": 2,
     "metadata": {},
     "output_type": "execute_result"
    },
    {
     "data": {
      "text/plain": [
       "'Buddy'"
      ]
     },
     "execution_count": 2,
     "metadata": {},
     "output_type": "execute_result"
    }
   ],
   "source": [
    "class Dog:\n",
    "    \n",
    "    kind = 'canine'    # class variable shared by all instances\n",
    "    \n",
    "    def __init__(self, name):    # initiate name for instance\n",
    "        self.name = name    # instance variable unique to each instance\n",
    "        \n",
    "        \n",
    "d = Dog('Fido')\n",
    "e = Dog('Buddy')\n",
    "\n",
    "d.kind    # date attribute 'kind' is shared by all dogs\n",
    "e.kind    # date attribute 'kind' is shared by all dogs\n",
    "\n",
    "d.name    # unique to d\n",
    "e.name    # unique to e"
   ]
  },
  {
   "cell_type": "markdown",
   "id": "6d6a5118-786a-43b0-abca-06be8323d0d1",
   "metadata": {},
   "source": [
    "As discussed in [A Word About Names and Objects](https://docs.python.org/3/tutorial/classes.html#tut-object), shared data can have possibly surprising effects with involving [mutable](https://docs.python.org/3/glossary.html#term-mutable) objects such as lists and dictionaries. For example, the *tricks* list in the following code should not be used as a class variable because just a single list would be shared by all *Dog* instances:\n",
    "\n",
    "> 正如在[A Word About Names and Objects](https://docs.python.org/3/tutorial/classes.html#tut-object)中所讨论的，**共享数据**在涉及到[mutable](https://docs.python.org/3/glossary.html#term-mutable)对象（如列表和字典）时可能会产生令人惊讶的效果。例如，以下代码中的*tricks*列表**不应该被用作类变量**，因为这样一个列表会被所有*Dog*实例**共享**。"
   ]
  },
  {
   "cell_type": "code",
   "execution_count": 4,
   "id": "788dff32-fd2b-4836-b5fc-ca977af08859",
   "metadata": {},
   "outputs": [
    {
     "data": {
      "text/plain": [
       "['roll over', 'play dead']"
      ]
     },
     "execution_count": 4,
     "metadata": {},
     "output_type": "execute_result"
    }
   ],
   "source": [
    "class Dog:\n",
    "    \n",
    "    tricks = []    # mistaken use of a class variable\n",
    "    \n",
    "    def __init__(self, name):\n",
    "        self.name = name\n",
    "        \n",
    "    def add_trick(self, trick):\n",
    "        self.tricks.append(trick)\n",
    "        \n",
    "\n",
    "d = Dog('Fido')\n",
    "e = Dog('Buddy')\n",
    "d.add_trick('roll over')\n",
    "e.add_trick('play dead')\n",
    "d.tricks"
   ]
  },
  {
   "cell_type": "markdown",
   "id": "7287731e-4abd-43a9-baf0-cb48687e3f82",
   "metadata": {},
   "source": [
    "Correct design of the class should use an instance variable instead:\n",
    "\n",
    "> 正确的**类设计**应该使用**实例变量**来代替："
   ]
  },
  {
   "cell_type": "code",
   "execution_count": 6,
   "id": "337ee374-c230-4e09-8642-a4d2a204695e",
   "metadata": {},
   "outputs": [
    {
     "data": {
      "text/plain": [
       "['roll over']"
      ]
     },
     "execution_count": 6,
     "metadata": {},
     "output_type": "execute_result"
    },
    {
     "data": {
      "text/plain": [
       "['play dead']"
      ]
     },
     "execution_count": 6,
     "metadata": {},
     "output_type": "execute_result"
    }
   ],
   "source": [
    "class Dog:\n",
    "    \n",
    "    def __init__(self, name):\n",
    "        self.name = name\n",
    "        self.tricks = []\n",
    "        \n",
    "    def add_trick(self, trick):\n",
    "        self.tricks.append(trick)\n",
    "        \n",
    "        \n",
    "d = Dog('Fido')\n",
    "e = Dog('Buddy')\n",
    "\n",
    "d.add_trick('roll over')\n",
    "e.add_trick('play dead')\n",
    "d.tricks\n",
    "e.tricks"
   ]
  },
  {
   "cell_type": "markdown",
   "id": "b83229d3-b7aa-40f7-9ec6-1645acb3a068",
   "metadata": {},
   "source": [
    "### Random Remarks"
   ]
  },
  {
   "cell_type": "markdown",
   "id": "8c729ddd-cfc0-4c55-ae47-9cc725eb55b2",
   "metadata": {},
   "source": [
    "If the same attribute name occurs in both an instance and in a class, then attribute lookup prioritizes the instance:\n",
    "\n",
    "> 如果相同的属性名称同时出现在一个实例和一个类中，那么**属性查询**将优先考虑实例："
   ]
  },
  {
   "cell_type": "code",
   "execution_count": 7,
   "id": "05e8c0a9-83fa-41e6-ae77-923a55e6bbae",
   "metadata": {},
   "outputs": [
    {
     "name": "stdout",
     "output_type": "stream",
     "text": [
      "storage west\n",
      "storage east\n"
     ]
    }
   ],
   "source": [
    "class Warehouse:\n",
    "    purpose = 'storage'\n",
    "    region = 'west'\n",
    "    \n",
    "w1 = Warehouse()\n",
    "print(w1.purpose, w1.region)\n",
    "\n",
    "w2 = Warehouse()\n",
    "w2.region = 'east'\n",
    "print(w2.purpose, w2.region)"
   ]
  },
  {
   "cell_type": "markdown",
   "id": "5046fea2-1999-4b69-89fd-7a8c9ab8e7f4",
   "metadata": {},
   "source": [
    "Data attributes may be referenced by methods as well as by ordinary users (“clients”) of an object.  In other words, classes are not usable to implement pure abstract data types.  In fact, nothing in Python makes it possible to enforce data hiding — it is all based upon convention.  (On the other hand, the Python implementation, written in C, can completely hide implementation details and control access to an object if necessary; this can be used by extensions to Python written in C.)\n",
    "\n",
    "Clients should use data attributes with care — clients may mess up invariants maintained by the methods by stamping on their data attributes.  Note that clients may add data attributes of their own to an instance object without affecting the validity of the methods, as long as name conflicts are avoided — again, a naming convention can save a lot of headaches here.\n",
    "\n",
    "> 数据属性可以被方法引用，也可以被对象的**普通用户**（\"clients\"）引用。 换句话说，类是不能用来实现**纯抽象数据类型**的。 事实上，Python 中没有任何东西可以使数据隐藏成为可能--这一切都基于惯例。 (另一方面，用 C 语言编写的 Python 实现可以完全隐藏实现细节，并在必要时控制对一个对象的访问；这可以被用 C 语言编写的 Python 扩展所使用。)\n",
    ">\n",
    "> 客户端应该谨慎地使用**数据属性**--客户可能会因为在数据属性上盖章而弄乱由方法维护的不变性。 请注意，只要避免**名称冲突**，客户可以向实例对象添加他们自己的数据属性，而不影响方法的有效性--同样，一个**命名约定**可以在这里省去很多麻烦。\n",
    "\n",
    "There is no shorthand for referencing data attributes (or other methods!) from within methods.  I find that this actually increases the readability of methods: there is no chance of confusing local variables and instance variables when glancing through a method.\n",
    "\n",
    "Often, the first argument of a method is called `self`.  This is nothing more than a convention: the name `self` has absolutely no special meaning to Python.  Note, however, that by not following the convention your code may be less readable to other Python programmers, and it is also conceivable that a *class browser* program might be written that relies upon such a convention.\n",
    "\n",
    "Any function object that is a class attribute defines a method for instances of that class.  It is not necessary that the function definition is textually enclosed in the class definition: assigning a function object to a local variable in the class is also ok.  For example:\n",
    "\n",
    "> 在方法中没有**引用数据属性**（或其他方法！）的简便方法。 我发现这实际上增加了方法的可读性：在扫视一个方法时，没有机会混淆局部变量和实例变量。\n",
    ">\n",
    "> 通常，一个方法的第一个参数被称为 `self`。 这只不过是**一个惯例**：`self`这个名字对Python来说完全没有特殊的意义。 但是请注意，如果不遵循这个约定，你的代码对其他Python程序员来说可能不那么容易读懂，而且可以想象，一个*类浏览器*程序的编写也可能依赖于这样的约定。\n",
    ">\n",
    "> 任何作为**类属性**的函数对象都为该类的实例**定义了一个方法**。 不一定要把函数的定义以文字的形式包含在类的定义中：**把一个函数对象分配给类中的局部变量**也是可以的。 比如说："
   ]
  },
  {
   "cell_type": "code",
   "execution_count": 8,
   "id": "86cb192c-f7b7-4613-969f-bf10dd74d8e9",
   "metadata": {},
   "outputs": [],
   "source": [
    "# Function defined outside the class\n",
    "def f1(self, x, y):\n",
    "    return min(x, x+y)\n",
    "\n",
    "class C:\n",
    "    f = f1\n",
    "    \n",
    "    def g(self):\n",
    "        return 'hello world'\n",
    "    \n",
    "    h = g"
   ]
  },
  {
   "cell_type": "markdown",
   "id": "9da913e3-9ff7-4e88-8461-b1ef91500f63",
   "metadata": {},
   "source": [
    "Now `f`, `g` and `h` are all attributes of class `C` that refer to function objects, and consequently they are all methods of instances of `C` — `h` being exactly equivalent to `g`.  Note that this practice usually only serves to confuse the reader of a program.\n",
    "\n",
    "Methods may call other methods by using method attributes of the `self` argument:\n",
    "\n",
    "> 现在`f`、`g`和`h`都是类`C`的属性，指的是**函数对象**，因此它们都是`C`实例的方法--`h`完全等同于`g`。 请注意，这种做法通常只会让程序的读者感到困惑。\n",
    ">\n",
    "> 方法可以通过使用`self`参数的方法属性来调用其他方法："
   ]
  },
  {
   "cell_type": "code",
   "execution_count": 9,
   "id": "4a883482-3cb1-4dda-83ce-d221a6d36334",
   "metadata": {},
   "outputs": [],
   "source": [
    "class Bag:\n",
    "    def __init__(self):\n",
    "        self.data = []\n",
    "        \n",
    "    def add(self, x):\n",
    "        self.data.append(x)\n",
    "        \n",
    "    def addtwice(self, x):\n",
    "        self.add(x)\n",
    "        self.add(x)"
   ]
  },
  {
   "cell_type": "markdown",
   "id": "41669328-60ae-4003-a451-6035b517b107",
   "metadata": {},
   "source": [
    "Methods may reference global names in the same way as ordinary functions.  The global scope associated with a method is the module containing its definition.  (A class is never used as a global scope.)  While one rarely encounters a good reason for using global data in a method, there are many legitimate uses of the global scope: for one thing, functions and modules imported into the global scope can be used by methods, as well as functions and classes defined in it.  Usually, the class containing the method is itself defined in this global scope, and in the next section we’ll find some good reasons why a method would want to reference its own class.\n",
    "\n",
    "Each value is an object, and therefore has a *class* (also called its *type*). It is stored as `object.__class__`.\n",
    "\n",
    "> 方法可以以与普通函数相同的方式引用**全局名称**。 与一个方法相关的全局作用域是包含其定义的模块。 (**类永远不会被用作全局作用域**。)虽然我们很少遇到在方法中使用全局数据的好理由，但全局作用域有许多合法的用途：首先，导入全局作用域的函数和模块可以被方法使用，也可以被定义在其中的函数和类使用。 通常，包含方法的类本身就定义在这个全局作用域中，在下一节中我们会发现一些很好的理由，为什么一个方法要引用它自己的类。\n",
    ">\n",
    "> 每个值都是一个对象，因此有一个*类*（也称为其*类型*（type））。它被存储为`object.__class__`。"
   ]
  },
  {
   "cell_type": "code",
   "execution_count": 11,
   "id": "b179e57d-6785-437f-b675-7686bdbd3de9",
   "metadata": {},
   "outputs": [
    {
     "data": {
      "text/plain": [
       "__main__.Warehouse"
      ]
     },
     "execution_count": 11,
     "metadata": {},
     "output_type": "execute_result"
    },
    {
     "data": {
      "text/plain": [
       "__main__.Warehouse"
      ]
     },
     "execution_count": 11,
     "metadata": {},
     "output_type": "execute_result"
    }
   ],
   "source": [
    "type(w1)\n",
    "\n",
    "w1.__class__"
   ]
  },
  {
   "cell_type": "markdown",
   "id": "431942b3-c009-4633-bdd0-a0a36682af10",
   "metadata": {},
   "source": [
    "### Inheritance"
   ]
  },
  {
   "cell_type": "markdown",
   "id": "464a1efc-05f7-423a-8ec2-a5303a5d28d8",
   "metadata": {},
   "source": [
    "Of course, a language feature would not be worthy of the name “class” without supporting inheritance.  The syntax for a derived class definition looks like this:\n",
    "\n",
    "> 当然，如果不支持**继承**，一个语言特性就不配称为 \"类\"。 **派生类定义**的语法看起来像这样："
   ]
  },
  {
   "cell_type": "raw",
   "id": "28203051-91c0-426c-b584-09a8910bc1b0",
   "metadata": {},
   "source": [
    "class DerivedClassName(BaseClassName):\n",
    "    <statement-1>\n",
    "    .\n",
    "    .\n",
    "    .\n",
    "    <statement-N>"
   ]
  },
  {
   "cell_type": "markdown",
   "id": "1ef4d2d9-07a9-4d79-aaa3-c91dc8642863",
   "metadata": {},
   "source": [
    "The name `BaseClassName` must be defined in a scope containing the derived class definition.  In place of a base class name, other arbitrary expressions are also allowed.  This can be useful, for example, when the base class is defined in another module:\n",
    "\n",
    "> `BaseClassName`必须在**包含派生类定义的作用域中**定义。 也允许用其他任意的表达式来代替基类名称。 这可能很有用，例如，当基类被定义在另一个模块中时："
   ]
  },
  {
   "cell_type": "raw",
   "id": "06f7591a-e8ca-41e3-96f7-ceabec856b94",
   "metadata": {},
   "source": [
    "class DerivedClassName(modname.BaseClassName):"
   ]
  },
  {
   "cell_type": "markdown",
   "id": "9eecfd62-4fbc-4394-8d45-5f12ce131b45",
   "metadata": {},
   "source": [
    "Execution of a derived class definition proceeds the same as for a base class. When the class object is constructed, the base class is remembered.  This is used for resolving attribute references: if a requested attribute is not found in the class, the search proceeds to look in the base class.  This rule is applied recursively if the base class itself is derived from some other class.\n",
    "\n",
    "There’s nothing special about instantiation of derived classes: `DerivedClassName()` creates a new instance of the class.  Method references are resolved as follows: the corresponding class attribute is searched, descending down the chain of base classes if necessary, and the method reference is valid if this yields a function object.\n",
    "\n",
    "> **派生类定义的执行过程**与基类的执行过程相同。当类对象被构造时，基类会被记住。 这被用于解决属性引用：如果在类中找不到所要求的属性，**搜索将继续在基类中寻找**。 如果基类本身是从其他类派生出来的，那么这个规则将被**递归应用**。\n",
    ">\n",
    "> 派生类的实例化没有什么特别之处：`DerivedClassName()`创建一个新的类的实例。 方法引用的解决方法如下：搜索相应的类属性，必要时沿着基类链**向下搜索**，如果产生了一个函数对象，则方法引用有效。\n",
    "\n",
    "Derived classes may override methods of their base classes.  Because methods have no special privileges when calling other methods of the same object, a method of a base class that calls another method defined in the same base class may end up calling a method of a derived class that overrides it.  (For C++ programmers: all methods in Python are effectively `virtual`.)\n",
    "\n",
    "An overriding method in a derived class may in fact want to extend rather than simply replace the base class method of the same name. There is a simple way to call the base class method directly: just call `BaseClassName.methodname(self, arguments)`.  This is occasionally useful to clients as well.  (Note that this only works if the base class is accessible as `BaseClassName` in the global scope.)\n",
    "\n",
    "> 派生类可以重写（override）其基类的方法。 因为方法在调用同一对象的其他方法时没有特殊的权限，一个基类的方法如果调用同一基类中定义的另一个方法，最终可能会调用一个派生类的方法来覆盖（override）它。 (对于C++程序员来说：Python中的所有方法实际上都是 `virtual`。)\n",
    ">\n",
    "> 派生类中的覆盖（override）方法实际上可能想要扩展而不是简单地替换基类中的同名方法。有一个简单的方法可以直接调用基类方法：只要调用 `BaseClassName.methodname(self, arguments)`。 这对客户（clients）来说偶尔也是有用的。（注意，这只有在基类在全局作用域内可以作为`BaseClassName`访问的情况下才有效。)\n",
    "\n",
    "Python has two built-in functions that work with inheritance:\n",
    "\n",
    "- Use [`isinstance()`](https://docs.python.org/3/library/functions.html#isinstance) to check an instance’s type: `isinstance(obj, int)` will be `True` only if `obj.__class__` is [`int`](https://docs.python.org/3/library/functions.html#int) or some class derived from [`int`](https://docs.python.org/3/library/functions.html#int).\n",
    "- Use [`issubclass()`](https://docs.python.org/3/library/functions.html#issubclass) to check class inheritance: `issubclass(bool, int)` is `True` since [`bool`](https://docs.python.org/3/library/functions.html#bool) is a subclass of [`int`](https://docs.python.org/3/library/functions.html#int).  However, `issubclass(float, int)` is `False` since [`float`](https://docs.python.org/3/library/functions.html#float) is not a subclass of [`int`](https://docs.python.org/3/library/functions.html#int).\n",
    "\n",
    "> Python 有两个内置函数与继承一起工作：\n",
    ">\n",
    "> - 使用 [`isinstance()`](https://docs.python.org/3/library/functions.html#isinstance) 来检查一个**实例的类型**。`isinstance(obj, int)`只有在`obj.__class__`是[`int`](https://docs.python.org/3/library/functions.html#int)或从[`int`](https://docs.python.org/3/library/functions.html#int)派生的某个类时才是`True`。\n",
    "> - 使用 [`issubclass()`](https://docs.python.org/3/library/functions.html#issubclass) 来检查类的继承性：`issubclass(bool, int)`是`True`，因为 [`bool`](https://docs.python.org/3/library/functions.html#bool) 是 [`int`](https://docs.python.org/3/library/functions.html#int) 的子类。 然而，`issubclass(float, int)`是`False`，因为[`float`](https://docs.python.org/3/library/functions.html#float)不是[`int`](https://docs.python.org/3/library/functions.html#int)的子类。"
   ]
  },
  {
   "cell_type": "code",
   "execution_count": 17,
   "id": "e9b775eb-94fc-4e23-a54f-b607a2fc15b6",
   "metadata": {},
   "outputs": [
    {
     "name": "stdout",
     "output_type": "stream",
     "text": [
      "Help on built-in function isinstance in module builtins:\n",
      "\n",
      "isinstance(obj, class_or_tuple, /)\n",
      "    Return whether an object is an instance of a class or of a subclass thereof.\n",
      "    \n",
      "    A tuple, as in ``isinstance(x, (A, B, ...))``, may be given as the target to\n",
      "    check against. This is equivalent to ``isinstance(x, A) or isinstance(x, B)\n",
      "    or ...`` etc.\n",
      "\n",
      "Help on built-in function issubclass in module builtins:\n",
      "\n",
      "issubclass(cls, class_or_tuple, /)\n",
      "    Return whether 'cls' is derived from another class or is the same class.\n",
      "    \n",
      "    A tuple, as in ``issubclass(x, (A, B, ...))``, may be given as the target to\n",
      "    check against. This is equivalent to ``issubclass(x, A) or issubclass(x, B)\n",
      "    or ...``.\n",
      "\n"
     ]
    },
    {
     "data": {
      "text/plain": [
       "type"
      ]
     },
     "execution_count": 17,
     "metadata": {},
     "output_type": "execute_result"
    },
    {
     "data": {
      "text/plain": [
       "type"
      ]
     },
     "execution_count": 17,
     "metadata": {},
     "output_type": "execute_result"
    },
    {
     "data": {
      "text/plain": [
       "True"
      ]
     },
     "execution_count": 17,
     "metadata": {},
     "output_type": "execute_result"
    }
   ],
   "source": [
    "help(isinstance)\n",
    "help(issubclass)\n",
    "\n",
    "bool.__class__\n",
    "int.__class__\n",
    "\n",
    "issubclass(bool, int)"
   ]
  },
  {
   "cell_type": "markdown",
   "id": "1f365275-7f04-4799-9a35-9fa36e382bff",
   "metadata": {},
   "source": [
    "**Multiple Inheritance**"
   ]
  },
  {
   "cell_type": "markdown",
   "id": "27ababdf-5b1b-4ea4-bd9a-e484cd1f8398",
   "metadata": {},
   "source": [
    "Python supports a form of multiple inheritance as well.  A class definition with multiple base classes looks like this:\n",
    "\n",
    "> Python 也支持一种形式的多重继承。 一个有多个基类的类定义看起来像这样："
   ]
  },
  {
   "cell_type": "raw",
   "id": "36b081ba-33e7-4f5a-8664-7c43af8c5a61",
   "metadata": {},
   "source": [
    "class DerivedClassName(Base1, Base2, Base3):\n",
    "    <statement-1>\n",
    "    .\n",
    "    .\n",
    "    .\n",
    "    <statement-N>"
   ]
  },
  {
   "cell_type": "markdown",
   "id": "2923ecc7-05b6-4397-957e-72e2f005aa47",
   "metadata": {},
   "source": [
    "For most purposes, in the simplest cases, you can think of the search for attributes inherited from a parent class as depth-first, left-to-right, not searching twice in the same class where there is an overlap in the hierarchy. Thus, if an attribute is not found in `DerivedClassName`, it is searched for in `Base1`, then (recursively) in the base classes of `Base1`, and if it was not found there, it was searched for in `Base2`, and so on.\n",
    "\n",
    "In fact, it is slightly more complex than that; the method resolution order changes dynamically to support cooperative calls to [`super()`](https://docs.python.org/3/library/functions.html#super).  This approach is known in some other multiple-inheritance languages as call-next-method and is more powerful than the super call found in single-inheritance languages.\n",
    "\n",
    "> 在大多数情况下，在最简单的情况下，你可以认为从父类继承的属性的搜索是深度优先的，从左到右的，在层次结构有重叠的地方不会在同一个类中搜索两次。因此，如果在`DerivedClassName`中没有找到一个属性，就在`Base1`中搜索，然后（递归）在`Base1`的基类中搜索，如果在那里没有找到，就在`Base2`中搜索，以此类推。\n",
    ">\n",
    "> 事实上，它比这稍微复杂一些；方法解析顺序动态变化，以支持对[`super()`](https://docs.python.org/3/library/functions.html#super)的合作调用。 这种方法在其他一些多继承语言中被称为call-next-method，比单继承语言中的super调用更加强大。\n",
    "\n",
    "Dynamic ordering is necessary because all cases of multiple inheritance exhibit one or more diamond relationships (where at least one of the parent classes can be accessed through multiple paths from the bottommost class).  For example, all classes inherit from [`object`](https://docs.python.org/3/library/functions.html#object), so any case of multiple inheritance provides more than one path to reach [`object`](https://docs.python.org/3/library/functions.html#object).  To keep the base classes from being accessed more than once, the dynamic algorithm linearizes the search order in a way that preserves the left-to-right ordering specified in each class, that calls each parent only once, and that is monotonic (meaning that a class can be subclassed without affecting the precedence order of its parents). Taken together, these properties make it possible to design reliable and extensible classes with multiple inheritance.  For more detail, see https://www.python.org/download/releases/2.3/mro/.\n",
    "\n",
    "> **动态排序**是必要的，因为所有多重继承的情况都表现出一个或多个**钻石关系**（其中至少有一个父类可以通过多个路径从最底层的类中访问）。 例如，所有的类都继承自[`object`](https://docs.python.org/3/library/functions.html#object)，所以任何多重继承的情况都提供了一个以上的路径来到达[`object`](https://docs.python.org/3/library/functions.html#object)。 为了防止基类被多次访问，动态算法将搜索顺序**线性化**，以保留每个类中指定的从左到右的顺序，每个父类只调用一次，并且是单调的（意味着一个类可以被子类化而不影响其父类的优先级顺序）。综合来看，这些属性使我们有可能设计出可靠的、可扩展的具有多重继承的类。 更多细节，见https://www.python.org/download/releases/2.3/mro/。"
   ]
  },
  {
   "cell_type": "markdown",
   "id": "5ff5018a-2311-44ba-aee1-c42bb0da93a0",
   "metadata": {},
   "source": [
    "### Private Variables"
   ]
  },
  {
   "cell_type": "markdown",
   "id": "bd07467e-c979-4d23-bd8f-023af82a903b",
   "metadata": {},
   "source": [
    "“Private” instance variables that cannot be accessed except from inside an object don’t exist in Python.  However, there is a convention that is followed by most Python code: a name prefixed with an underscore (e.g. `_spam`) should be treated as a non-public part of the API (whether it is a function, a method or a data member).  It should be considered an implementation detail and subject to change without notice.\n",
    "\n",
    "Since there is a valid use-case for class-private members (namely to avoid name clashes of names with names defined by subclasses), there is limited support for such a mechanism, called *name mangling*.  Any identifier of the form `__spam` (at least two leading underscores, at most one trailing underscore) is textually replaced with `_classname__spam`, where `classname` is the current class name with leading underscore(s) stripped.  This mangling is done without regard to the syntactic position of the identifier, as long as it occurs within the definition of a class.\n",
    "\n",
    "> 在Python中不存在除了在对象内部不能访问的 \"私有\"实例变量。 然而，有一个惯例被大多数Python代码所遵循：一个**以下划线为前缀**的名字(例如`_spam`)应该被视为API的非公开部分(无论是一个函数、一个方法还是一个数据成员)。 它应该被认为是一个实现细节，可以在没有通知的情况下进行修改。\n",
    ">\n",
    "> 由于类的私有成员有一个有效的用例（即避免名称与子类定义的名称发生冲突），所以对这种机制的支持是有限的，称为***名称重构***。 任何形式的标识符`__spam`（至少有两个前导下划线，最多一个后导下划线）都会被替换成`_classname__spam`，其中`classname`是当前的类名，前导下划线被去掉。这种处理方式不考虑标识符的语法位置，只要它**出现在类的定义中**就可以了。\n",
    "\n",
    "Name mangling is helpful for letting subclasses override methods without breaking intraclass method calls.  For example:\n",
    "\n",
    "> 名称重构对于让子类覆盖方法而不破坏**类内**的方法调用很有帮助。 比如说："
   ]
  },
  {
   "cell_type": "code",
   "execution_count": 2,
   "id": "2b40ab6f-fa48-4198-993a-7e88474e825b",
   "metadata": {},
   "outputs": [],
   "source": [
    "class Mapping():\n",
    "    def __init__(self, iterable):\n",
    "        self.items_list = []\n",
    "        self.__update(iterable)\n",
    "        \n",
    "    def update(self, iterable):\n",
    "        for item in iterable:\n",
    "            self.items_list.append(item)\n",
    "            \n",
    "    __update = update    # private copy of original update() method\n",
    "    \n",
    "class MappingSubclass(Mapping):\n",
    "    \n",
    "    def update(self, keys, values):\n",
    "        # provide new signature for update()\n",
    "        # but does not break __init__()\n",
    "        for item in zip(keys, values):\n",
    "            self.items_list.append(item)"
   ]
  },
  {
   "cell_type": "markdown",
   "id": "c5c63b0b-4a44-4082-91de-28ad2fb63ca6",
   "metadata": {},
   "source": [
    "The above example would work even if `MappingSubclass` were to introduce a `__update` identifier since it is replaced with `_Mapping__update` in the `Mapping` class  and `_MappingSubclass__update` in the `MappingSubclass` class respectively.\n",
    "\n",
    "Note that the mangling rules are designed mostly to avoid accidents; it still is possible to access or modify a variable that is considered private.  This can even be useful in special circumstances, such as in the debugger.\n",
    "\n",
    "Notice that code passed to `exec()` or `eval()` does not consider the classname of the invoking class to be the current class; this is similar to the effect of the `global` statement, the effect of which is likewise restricted to code that is byte-compiled together.  The same restriction applies to `getattr()`, `setattr()` and `delattr()`, as well as when referencing `__dict__` directly.\n",
    "\n",
    "> 即使`MappingSubclass`**引入**了一个`__update`标识符，上面的例子也会起作用，因为它在`Mapping`类中被替换为`_Mapping__update`，而在`MappingSubclass`类中被替换为`_MappingSubclass__update`。\n",
    ">\n",
    "> 请注意，这些**重构规则**主要是为了避免意外；仍然有可能访问或修改一个被认为是私有的变量。 这在特殊情况下甚至可能是有用的，比如在**调试器中**。\n",
    ">\n",
    "> 请注意，传递给`exec()`或`eval()`的代码不会将调用类的类名视为当前类；这与`global`语句的效果类似，其效果同样限制在一起字节编译的代码。 同样的限制也适用于`getattr()`、`setattr()`和`delattr()`，以及直接引用`__dict__`时。"
   ]
  },
  {
   "cell_type": "markdown",
   "id": "57721e7c-ee1e-4cac-87dc-c7cca519298f",
   "metadata": {},
   "source": [
    "### Odds and Ends"
   ]
  },
  {
   "cell_type": "markdown",
   "id": "5b02e580-c5df-4e86-8364-fe74edbf9e20",
   "metadata": {},
   "source": [
    "Sometimes it is useful to have a data type similar to the Pascal “record” or C “struct”, bundling together a few named data items.  An empty class definition will do nicely:\n",
    "\n",
    "> 有时，拥有一个类似于Pascal \"record \"或C \"struct \"的数据类型是很有用的，它将一些命名的数据项捆绑在一起。 一个空的类定义就很好："
   ]
  },
  {
   "cell_type": "code",
   "execution_count": 3,
   "id": "a427df5c-aead-4a5a-9560-6aea5576d77f",
   "metadata": {},
   "outputs": [],
   "source": [
    "class Employee:\n",
    "    pass\n",
    "\n",
    "john = Employee()    # Creat an empty employee record\n",
    "\n",
    "# Fill the fields of the record\n",
    "john.name = 'John Doe'\n",
    "john.dept = 'computer lab'\n",
    "john.salary = 1000"
   ]
  },
  {
   "cell_type": "markdown",
   "id": "09b7aa1c-f434-4bcd-805a-083c29e64301",
   "metadata": {},
   "source": [
    "A piece of Python code that expects a particular abstract data type can often be passed a class that emulates the methods of that data type instead.  For instance, if you have a function that formats some data from a file object, you can define a class with methods `read()` and `readline()` that get the data from a string buffer instead, and pass it as an argument.\n",
    "\n",
    "Instance method objects have attributes, too: `m.__self__` is the instance object with the method `m()`, and `m.__func__` is the function object corresponding to the method.\n",
    "\n",
    "> 一段期待特定**抽象数据类型**的Python代码，通常可以通过一个**模拟该数据类型方法**的类来代替。 例如，如果你有一个**从文件对象中格式化一些数据的函数**，你可以定义一个具有`read()`和`readline()`方法的类，从一个字符串缓冲区中获取数据，并把它作为一个参数传递。\n",
    ">\n",
    "> 实例方法对象也有属性：`m.__self__`是具有`m()`方法的实例对象，`m.__func__`是与该方法对应的函数对象。"
   ]
  },
  {
   "cell_type": "markdown",
   "id": "89c5c12e-1f85-48a7-a81b-95263aafc0b0",
   "metadata": {},
   "source": [
    "### Iterators"
   ]
  },
  {
   "cell_type": "markdown",
   "id": "a7d3ef7a-7479-4e79-b696-54eb7db18490",
   "metadata": {},
   "source": [
    "By now you have probably noticed that most **container objects** can be looped over using a [`for`](https://docs.python.org/3/reference/compound_stmts.html#for) statement:\n",
    "\n",
    "> 现在你可能已经注意到，大多数容器对象可以使用[`for`](https://docs.python.org/3/reference/compound_stmts.html#for)语句进行循环："
   ]
  },
  {
   "cell_type": "code",
   "execution_count": 8,
   "id": "05de8450-ed36-4268-ae59-49a6e94966d3",
   "metadata": {},
   "outputs": [
    {
     "name": "stdout",
     "output_type": "stream",
     "text": [
      "1\n",
      "2\n",
      "3\n",
      "1\n",
      "2\n",
      "3\n",
      "one\n",
      "two\n",
      "1\n",
      "2\n",
      "3\n"
     ]
    }
   ],
   "source": [
    "for element in [1, 2, 3]:\n",
    "    print(element)\n",
    "for element in (1, 2, 3):\n",
    "    print(element)\n",
    "for key in {'one':1, 'two':2}:\n",
    "    print(key)\n",
    "for char in \"123\":\n",
    "    print(char)"
   ]
  },
  {
   "cell_type": "markdown",
   "id": "e31ebc11-17fe-495a-929e-7d49710df114",
   "metadata": {},
   "source": [
    "This style of access is clear, concise, and convenient.  The use of iterators pervades and unifies Python.  Behind the scenes, the [`for`](https://docs.python.org/3/reference/compound_stmts.html#for) statement calls [`iter()`](https://docs.python.org/3/library/functions.html#iter) on the container object.  The function returns an iterator object that defines the method [`__next__()`](https://docs.python.org/3/library/stdtypes.html#iterator.__next__) which accesses elements in the container one at a time.  When there are no more elements, [`__next__()`](https://docs.python.org/3/library/stdtypes.html#iterator.__next__) raises a [`StopIteration`](https://docs.python.org/3/library/exceptions.html#StopIteration) exception which tells the `for` loop to terminate.  You can call the [`__next__()`](https://docs.python.org/3/library/stdtypes.html#iterator.__next__) method using the [`next()`](https://docs.python.org/3/library/functions.html#next) built-in function; this example shows how it all works:\n",
    "\n",
    "> 这种访问方式清晰、简明、方便。 迭代器的使用**贯穿并统一**了 Python。 在幕后，[`for`](https://docs.python.org/3/reference/compound_stmts.html#for) 语句在容器对象上调用 [`iter()`](https://docs.python.org/3/library/functions.html#iter) 。 该函数返回一个**迭代器对象**，该迭代器定义了 [`__next__()`](https://docs.python.org/3/library/stdtypes.html#iterator.__next__) 方法，该方法每次都会访问容器中的一个元素。 当没有更多的元素时，[`__next__()`](https://docs.python.org/3/library/stdtypes.html#iterator.__next__)会引发一个[`StopIteration`](https://docs.python.org/3/library/exceptions.html#StopIteration)异常，告诉`for`循环终止。 你可以使用[`__next__()`](https://docs.python.org/3/library/stdtypes.html#iterator.__next__)内置函数来调用[`next()`](https://docs.python.org/3/library/functions.html#next)方法；这个例子显示了这一切是如何进行的："
   ]
  },
  {
   "cell_type": "code",
   "execution_count": 10,
   "id": "afe21cd8-2e5f-4985-aca3-dde8f6f31715",
   "metadata": {},
   "outputs": [
    {
     "data": {
      "text/plain": [
       "<str_iterator at 0x1ec1acc6350>"
      ]
     },
     "execution_count": 10,
     "metadata": {},
     "output_type": "execute_result"
    },
    {
     "data": {
      "text/plain": [
       "'a'"
      ]
     },
     "execution_count": 10,
     "metadata": {},
     "output_type": "execute_result"
    },
    {
     "data": {
      "text/plain": [
       "'b'"
      ]
     },
     "execution_count": 10,
     "metadata": {},
     "output_type": "execute_result"
    },
    {
     "data": {
      "text/plain": [
       "'c'"
      ]
     },
     "execution_count": 10,
     "metadata": {},
     "output_type": "execute_result"
    }
   ],
   "source": [
    "s = 'abc'\n",
    "it = iter(s)\n",
    "it\n",
    "\n",
    "next(it)\n",
    "next(it)\n",
    "next(it)"
   ]
  },
  {
   "cell_type": "markdown",
   "id": "74a4977f-94c0-43f2-b130-1013605b51d8",
   "metadata": {},
   "source": [
    "Having seen the mechanics behind the iterator protocol, it is easy to add iterator behavior to your classes.  Define an `__iter__()` method which returns an object with a [`__next__()`](https://docs.python.org/3/library/stdtypes.html#iterator.__next__) method.  If the class defines `__next__()`, then `__iter__()` can just return `self`:\n",
    "\n",
    "> 在看到迭代器协议背后的机制后，很容易**将迭代器行为添加到你的类中**。 定义一个`__iter__()`方法，它返回一个带有[`__next__()`](https://docs.python.org/3/library/stdtypes.html#iterator.__next__)方法的对象。 如果这个类定义了`__next__()`，那么`__iter__()`可以直接返回`self`："
   ]
  },
  {
   "cell_type": "code",
   "execution_count": 17,
   "id": "0c5a0a44-94a9-4ffd-ad5b-5e25cc91bb9c",
   "metadata": {},
   "outputs": [],
   "source": [
    "class Reverse:\n",
    "    \"\"\"Iterator for looping over a sequence backwards\"\"\"\n",
    "    def __init__(self, data):\n",
    "        self.data = data\n",
    "        self.index = len(data)\n",
    "        \n",
    "    def __iter__(self):\n",
    "        return self\n",
    "    \n",
    "    def __next__(self):\n",
    "        if self.index == 0:\n",
    "            raise StopIteration\n",
    "        self.index = self.index - 1\n",
    "        return self.data[self.index]"
   ]
  },
  {
   "cell_type": "code",
   "execution_count": 18,
   "id": "53d132c3-a02d-4b96-a6f4-5196bbfbd61c",
   "metadata": {},
   "outputs": [
    {
     "data": {
      "text/plain": [
       "<__main__.Reverse at 0x1ec1a648220>"
      ]
     },
     "execution_count": 18,
     "metadata": {},
     "output_type": "execute_result"
    },
    {
     "name": "stdout",
     "output_type": "stream",
     "text": [
      "m\n",
      "a\n",
      "p\n",
      "s\n"
     ]
    }
   ],
   "source": [
    "rev = Reverse('spam')\n",
    "iter(rev)\n",
    "\n",
    "for char in rev:\n",
    "    print(char)"
   ]
  },
  {
   "cell_type": "markdown",
   "id": "5ff230ad-2019-4615-8f68-6359d062c796",
   "metadata": {},
   "source": [
    "### Generators"
   ]
  },
  {
   "cell_type": "markdown",
   "id": "a6b253bc-e929-47aa-87da-44326a587adf",
   "metadata": {},
   "source": [
    "[Generators](https://docs.python.org/3/glossary.html#term-generator) are a simple and powerful tool for creating iterators.  They are written like regular functions but use the [`yield`](https://docs.python.org/3/reference/simple_stmts.html#yield) statement whenever they want to return data.  Each time [`next()`](https://docs.python.org/3/library/functions.html#next) is called on it, the generator resumes where it left off (it remembers all the data values and which statement was last executed).  An example shows that generators can be trivially easy to create:\n",
    "\n",
    "> [生成器](https://docs.python.org/3/glossary.html#term-generator)是创建迭代器的一个简单而强大的工具。 它们像普通函数一样编写，但每当它们要返回数据时，都会使用[`yield`](https://docs.python.org/3/reference/simple_stmts.html#yield)语句。 每次对它调用[`next()`](https://docs.python.org/3/library/functions.html#next)时，生成器都会从它离开的地方**恢复**（它记得所有的数据值和最后执行的语句）。 一个例子表明，生成器可以**很容易地创建**："
   ]
  },
  {
   "cell_type": "code",
   "execution_count": 21,
   "id": "49a02c73-678e-4d87-8cdb-95a0933b1fb2",
   "metadata": {},
   "outputs": [],
   "source": [
    "def reverse(data):\n",
    "    for index in range(len(data)-1, -1, -1):\n",
    "        yield data[index]"
   ]
  },
  {
   "cell_type": "code",
   "execution_count": 22,
   "id": "e005ef24-9834-49a8-9329-ba680cb5f4b2",
   "metadata": {},
   "outputs": [
    {
     "name": "stdout",
     "output_type": "stream",
     "text": [
      "f\n",
      "l\n",
      "o\n",
      "g\n"
     ]
    }
   ],
   "source": [
    "for char in reverse('golf'):\n",
    "    print(char)"
   ]
  },
  {
   "cell_type": "markdown",
   "id": "02b06c49-5f23-4eed-8c37-9eedd87281ae",
   "metadata": {},
   "source": [
    "Anything that can be done with generators can also be done with class-based iterators as described in the previous section.  What makes generators so compact is that the `__iter__()` and [`__next__()`](https://docs.python.org/3/reference/expressions.html#generator.__next__) methods are created automatically.\n",
    "\n",
    "Another key feature is that the local variables and execution state are automatically saved between calls.  This made the function easier to write and much more clear than an approach using instance variables like `self.index` and `self.data`.\n",
    "\n",
    "In addition to automatic method creation and saving program state, when generators terminate, they automatically raise [`StopIteration`](https://docs.python.org/3/library/exceptions.html#StopIteration). In combination, these features make it easy to create iterators with no more effort than writing a regular function.\n",
    "\n",
    "> 任何可以用生成器完成的事情也可以用**基于类的迭代器**完成，如上一节所述。 使得生成器如此紧凑的原因是，`__iter__()`和[`__next__()`](https://docs.python.org/3/reference/expressions.html#generator.__next__)方法是**自动创建**的。\n",
    ">\n",
    "> 另一个关键特征是**局部变量和执行状态**在调用之间**被自动保存**。 这使得函数更容易编写，而且比使用`self.index`和`self.data`等实例变量的方法更清晰。\n",
    ">\n",
    "> 除了自动创建方法和保存程序状态外，当生成器终止时，它们会自动引发[`StopIteration`](https://docs.python.org/3/library/exceptions.html#StopIteration)。结合起来，这些特性使得创建迭代器很容易，不比编写普通函数更费力。"
   ]
  },
  {
   "cell_type": "markdown",
   "id": "a057af0b-2dfc-45e5-a4fc-b0b87e4cc92d",
   "metadata": {},
   "source": [
    "### Generator Expressions"
   ]
  },
  {
   "cell_type": "markdown",
   "id": "b7542e6c-89c6-472a-a6e5-0c779f7ad166",
   "metadata": {},
   "source": [
    "Some simple generators can be coded succinctly as expressions using a syntax similar to list comprehensions but with parentheses instead of square brackets. These expressions are designed for situations where the generator is used right away by an enclosing function.  Generator expressions are more compact but less versatile than full generator definitions and tend to be more memory friendly than equivalent list comprehensions.\n",
    "\n",
    "Examples:\n",
    "\n",
    "> 一些简单的生成器可以被简洁地**编码为表达式**，使用类似于**列表生成式**的语法，但用小括号代替了方括号。这些表达式是为生成器被一个**闭合函数立即使用**的情况而设计的。 生成器表达式比完整的生成器定义更紧凑，但**功能较少**，而且往往比等价的列表生成式**对内存更友好**。\n",
    ">\n",
    "> 例子："
   ]
  },
  {
   "cell_type": "code",
   "execution_count": 23,
   "id": "5dcb3150-b788-43c0-a7ca-817a50120499",
   "metadata": {},
   "outputs": [
    {
     "data": {
      "text/plain": [
       "285"
      ]
     },
     "execution_count": 23,
     "metadata": {},
     "output_type": "execute_result"
    },
    {
     "data": {
      "text/plain": [
       "260"
      ]
     },
     "execution_count": 23,
     "metadata": {},
     "output_type": "execute_result"
    }
   ],
   "source": [
    "sum(i*i for i in range(10))    # sum of squares\n",
    "\n",
    "xvec = [10, 20, 30]\n",
    "yvec = [7, 5, 3]\n",
    "sum(x*y for x,y in zip(xvec, yvec))    # dot product"
   ]
  },
  {
   "cell_type": "code",
   "execution_count": 25,
   "id": "7840fe35-670a-4921-8835-81af80650aa4",
   "metadata": {},
   "outputs": [
    {
     "data": {
      "text/plain": [
       "['f', 'l', 'o', 'g']"
      ]
     },
     "execution_count": 25,
     "metadata": {},
     "output_type": "execute_result"
    }
   ],
   "source": [
    "# list comprehension\n",
    "data = 'golf'\n",
    "list(data[i] for i in range(len(data)-1, -1, -1))"
   ]
  },
  {
   "cell_type": "markdown",
   "id": "657d995d-9568-49e6-8a03-8020a92344ce",
   "metadata": {},
   "source": [
    "## Brief Tour of the Standard Library"
   ]
  },
  {
   "cell_type": "markdown",
   "id": "f53c3043-d95c-48c3-b353-09d0318a519b",
   "metadata": {},
   "source": [
    "### Operating System Interface"
   ]
  },
  {
   "cell_type": "markdown",
   "id": "9f6cf434-4b29-41bc-9cb2-f82355ebad6f",
   "metadata": {},
   "source": [
    "The [`os`](https://docs.python.org/3/library/os.html#module-os) module provides dozens of functions for interacting with the operating system:\n",
    "\n",
    "> [`os`](https://docs.python.org/3/library/os.html#module-os)模块提供了几十个**与操作系统交互**的功能："
   ]
  },
  {
   "cell_type": "code",
   "execution_count": 2,
   "id": "f2b1ece5-b429-4bb7-8b5f-eb479d5c0c17",
   "metadata": {},
   "outputs": [
    {
     "data": {
      "text/plain": [
       "'D:\\\\GitHub\\\\computer-science-practicing\\\\Python Practise'"
      ]
     },
     "execution_count": 2,
     "metadata": {},
     "output_type": "execute_result"
    }
   ],
   "source": [
    "import os\n",
    "os.getcwd()    # Return the current working directory"
   ]
  },
  {
   "cell_type": "markdown",
   "id": "c6a2cca5-acb6-4648-bf4b-f42b3e398a64",
   "metadata": {},
   "source": [
    "Be sure to use the `import os` style instead of `from os import *`.  This will keep [`os.open()`](https://docs.python.org/3/library/os.html#os.open) from shadowing the built-in [`open()`](https://docs.python.org/3/library/functions.html#open) function which operates much differently.\n",
    "\n",
    "The built-in [`dir()`](https://docs.python.org/3/library/functions.html#dir) and [`help()`](https://docs.python.org/3/library/functions.html#help) functions are useful as interactive aids for working with large modules like [`os`](https://docs.python.org/3/library/os.html#module-os):\n",
    "\n",
    "> 请确保使用 `import os` 样式而不是 `from os import *`。 这将使[`os.open()`](https://docs.python.org/3/library/os.html#os.open)不至于影响到内置的[`open()`](https://docs.python.org/3/library/functions.html#open)函数，该函数的操作方式大不相同。\n",
    ">\n",
    "> 内置的 [`dir()`](https://docs.python.org/3/library/functions.html#dir) 和 [`help()`](https://docs.python.org/3/library/functions.html#help) 函数在处理像 [`os`](https://docs.python.org/3/library/os.html#module-os) 这样的大型模块时作为**交互式辅助工具**很有用："
   ]
  },
  {
   "cell_type": "code",
   "execution_count": 3,
   "id": "d1d7257e-f06d-4347-831a-e0518eb03158",
   "metadata": {
    "scrolled": true,
    "tags": []
   },
   "outputs": [
    {
     "data": {
      "text/plain": [
       "['DirEntry',\n",
       " 'F_OK',\n",
       " 'GenericAlias',\n",
       " 'Mapping',\n",
       " 'MutableMapping',\n",
       " 'O_APPEND',\n",
       " 'O_BINARY',\n",
       " 'O_CREAT',\n",
       " 'O_EXCL',\n",
       " 'O_NOINHERIT',\n",
       " 'O_RANDOM',\n",
       " 'O_RDONLY',\n",
       " 'O_RDWR',\n",
       " 'O_SEQUENTIAL',\n",
       " 'O_SHORT_LIVED',\n",
       " 'O_TEMPORARY',\n",
       " 'O_TEXT',\n",
       " 'O_TRUNC',\n",
       " 'O_WRONLY',\n",
       " 'P_DETACH',\n",
       " 'P_NOWAIT',\n",
       " 'P_NOWAITO',\n",
       " 'P_OVERLAY',\n",
       " 'P_WAIT',\n",
       " 'PathLike',\n",
       " 'R_OK',\n",
       " 'SEEK_CUR',\n",
       " 'SEEK_END',\n",
       " 'SEEK_SET',\n",
       " 'TMP_MAX',\n",
       " 'W_OK',\n",
       " 'X_OK',\n",
       " '_AddedDllDirectory',\n",
       " '_Environ',\n",
       " '__all__',\n",
       " '__builtins__',\n",
       " '__cached__',\n",
       " '__doc__',\n",
       " '__file__',\n",
       " '__loader__',\n",
       " '__name__',\n",
       " '__package__',\n",
       " '__spec__',\n",
       " '_check_methods',\n",
       " '_execvpe',\n",
       " '_exists',\n",
       " '_exit',\n",
       " '_fspath',\n",
       " '_get_exports_list',\n",
       " '_walk',\n",
       " '_wrap_close',\n",
       " 'abc',\n",
       " 'abort',\n",
       " 'access',\n",
       " 'add_dll_directory',\n",
       " 'altsep',\n",
       " 'chdir',\n",
       " 'chmod',\n",
       " 'close',\n",
       " 'closerange',\n",
       " 'cpu_count',\n",
       " 'curdir',\n",
       " 'defpath',\n",
       " 'device_encoding',\n",
       " 'devnull',\n",
       " 'dup',\n",
       " 'dup2',\n",
       " 'environ',\n",
       " 'error',\n",
       " 'execl',\n",
       " 'execle',\n",
       " 'execlp',\n",
       " 'execlpe',\n",
       " 'execv',\n",
       " 'execve',\n",
       " 'execvp',\n",
       " 'execvpe',\n",
       " 'extsep',\n",
       " 'fdopen',\n",
       " 'fsdecode',\n",
       " 'fsencode',\n",
       " 'fspath',\n",
       " 'fstat',\n",
       " 'fsync',\n",
       " 'ftruncate',\n",
       " 'get_exec_path',\n",
       " 'get_handle_inheritable',\n",
       " 'get_inheritable',\n",
       " 'get_terminal_size',\n",
       " 'getcwd',\n",
       " 'getcwdb',\n",
       " 'getenv',\n",
       " 'getlogin',\n",
       " 'getpid',\n",
       " 'getppid',\n",
       " 'isatty',\n",
       " 'kill',\n",
       " 'linesep',\n",
       " 'link',\n",
       " 'listdir',\n",
       " 'lseek',\n",
       " 'lstat',\n",
       " 'makedirs',\n",
       " 'mkdir',\n",
       " 'name',\n",
       " 'open',\n",
       " 'pardir',\n",
       " 'path',\n",
       " 'pathsep',\n",
       " 'pipe',\n",
       " 'popen',\n",
       " 'putenv',\n",
       " 'read',\n",
       " 'readlink',\n",
       " 'remove',\n",
       " 'removedirs',\n",
       " 'rename',\n",
       " 'renames',\n",
       " 'replace',\n",
       " 'rmdir',\n",
       " 'scandir',\n",
       " 'sep',\n",
       " 'set_handle_inheritable',\n",
       " 'set_inheritable',\n",
       " 'spawnl',\n",
       " 'spawnle',\n",
       " 'spawnv',\n",
       " 'spawnve',\n",
       " 'st',\n",
       " 'startfile',\n",
       " 'stat',\n",
       " 'stat_result',\n",
       " 'statvfs_result',\n",
       " 'strerror',\n",
       " 'supports_bytes_environ',\n",
       " 'supports_dir_fd',\n",
       " 'supports_effective_ids',\n",
       " 'supports_fd',\n",
       " 'supports_follow_symlinks',\n",
       " 'symlink',\n",
       " 'sys',\n",
       " 'system',\n",
       " 'terminal_size',\n",
       " 'times',\n",
       " 'times_result',\n",
       " 'truncate',\n",
       " 'umask',\n",
       " 'uname_result',\n",
       " 'unlink',\n",
       " 'unsetenv',\n",
       " 'urandom',\n",
       " 'utime',\n",
       " 'waitpid',\n",
       " 'waitstatus_to_exitcode',\n",
       " 'walk',\n",
       " 'write']"
      ]
     },
     "execution_count": 3,
     "metadata": {},
     "output_type": "execute_result"
    },
    {
     "name": "stdout",
     "output_type": "stream",
     "text": [
      "Help on module os:\n",
      "\n",
      "NAME\n",
      "    os - OS routines for NT or Posix depending on what system we're on.\n",
      "\n",
      "MODULE REFERENCE\n",
      "    https://docs.python.org/3.10/library/os.html\n",
      "    \n",
      "    The following documentation is automatically generated from the Python\n",
      "    source files.  It may be incomplete, incorrect or include features that\n",
      "    are considered implementation detail and may vary between Python\n",
      "    implementations.  When in doubt, consult the module reference at the\n",
      "    location listed above.\n",
      "\n",
      "DESCRIPTION\n",
      "    This exports:\n",
      "      - all functions from posix or nt, e.g. unlink, stat, etc.\n",
      "      - os.path is either posixpath or ntpath\n",
      "      - os.name is either 'posix' or 'nt'\n",
      "      - os.curdir is a string representing the current directory (always '.')\n",
      "      - os.pardir is a string representing the parent directory (always '..')\n",
      "      - os.sep is the (or a most common) pathname separator ('/' or '\\\\')\n",
      "      - os.extsep is the extension separator (always '.')\n",
      "      - os.altsep is the alternate pathname separator (None or '/')\n",
      "      - os.pathsep is the component separator used in $PATH etc\n",
      "      - os.linesep is the line separator in text files ('\\r' or '\\n' or '\\r\\n')\n",
      "      - os.defpath is the default search path for executables\n",
      "      - os.devnull is the file path of the null device ('/dev/null', etc.)\n",
      "    \n",
      "    Programs that import and use 'os' stand a better chance of being\n",
      "    portable between different platforms.  Of course, they must then\n",
      "    only use functions that are defined by all platforms (e.g., unlink\n",
      "    and opendir), and leave all pathname manipulation to os.path\n",
      "    (e.g., split and join).\n",
      "\n",
      "CLASSES\n",
      "    builtins.Exception(builtins.BaseException)\n",
      "        builtins.OSError\n",
      "    builtins.object\n",
      "        nt.DirEntry\n",
      "    builtins.tuple(builtins.object)\n",
      "        nt.times_result\n",
      "        nt.uname_result\n",
      "        stat_result\n",
      "        statvfs_result\n",
      "        terminal_size\n",
      "    \n",
      "    class DirEntry(builtins.object)\n",
      "     |  Methods defined here:\n",
      "     |  \n",
      "     |  __fspath__(self, /)\n",
      "     |      Returns the path for the entry.\n",
      "     |  \n",
      "     |  __repr__(self, /)\n",
      "     |      Return repr(self).\n",
      "     |  \n",
      "     |  inode(self, /)\n",
      "     |      Return inode of the entry; cached per entry.\n",
      "     |  \n",
      "     |  is_dir(self, /, *, follow_symlinks=True)\n",
      "     |      Return True if the entry is a directory; cached per entry.\n",
      "     |  \n",
      "     |  is_file(self, /, *, follow_symlinks=True)\n",
      "     |      Return True if the entry is a file; cached per entry.\n",
      "     |  \n",
      "     |  is_symlink(self, /)\n",
      "     |      Return True if the entry is a symbolic link; cached per entry.\n",
      "     |  \n",
      "     |  stat(self, /, *, follow_symlinks=True)\n",
      "     |      Return stat_result object for the entry; cached per entry.\n",
      "     |  \n",
      "     |  ----------------------------------------------------------------------\n",
      "     |  Class methods defined here:\n",
      "     |  \n",
      "     |  __class_getitem__(...) from builtins.type\n",
      "     |      See PEP 585\n",
      "     |  \n",
      "     |  ----------------------------------------------------------------------\n",
      "     |  Data descriptors defined here:\n",
      "     |  \n",
      "     |  name\n",
      "     |      the entry's base filename, relative to scandir() \"path\" argument\n",
      "     |  \n",
      "     |  path\n",
      "     |      the entry's full path name; equivalent to os.path.join(scandir_path, entry.name)\n",
      "    \n",
      "    error = class OSError(Exception)\n",
      "     |  Base class for I/O related errors.\n",
      "     |  \n",
      "     |  Method resolution order:\n",
      "     |      OSError\n",
      "     |      Exception\n",
      "     |      BaseException\n",
      "     |      object\n",
      "     |  \n",
      "     |  Built-in subclasses:\n",
      "     |      BlockingIOError\n",
      "     |      ChildProcessError\n",
      "     |      ConnectionError\n",
      "     |      FileExistsError\n",
      "     |      ... and 7 other subclasses\n",
      "     |  \n",
      "     |  Methods defined here:\n",
      "     |  \n",
      "     |  __init__(self, /, *args, **kwargs)\n",
      "     |      Initialize self.  See help(type(self)) for accurate signature.\n",
      "     |  \n",
      "     |  __reduce__(...)\n",
      "     |      Helper for pickle.\n",
      "     |  \n",
      "     |  __str__(self, /)\n",
      "     |      Return str(self).\n",
      "     |  \n",
      "     |  ----------------------------------------------------------------------\n",
      "     |  Static methods defined here:\n",
      "     |  \n",
      "     |  __new__(*args, **kwargs) from builtins.type\n",
      "     |      Create and return a new object.  See help(type) for accurate signature.\n",
      "     |  \n",
      "     |  ----------------------------------------------------------------------\n",
      "     |  Data descriptors defined here:\n",
      "     |  \n",
      "     |  characters_written\n",
      "     |  \n",
      "     |  errno\n",
      "     |      POSIX exception code\n",
      "     |  \n",
      "     |  filename\n",
      "     |      exception filename\n",
      "     |  \n",
      "     |  filename2\n",
      "     |      second exception filename\n",
      "     |  \n",
      "     |  strerror\n",
      "     |      exception strerror\n",
      "     |  \n",
      "     |  winerror\n",
      "     |      Win32 exception code\n",
      "     |  \n",
      "     |  ----------------------------------------------------------------------\n",
      "     |  Methods inherited from BaseException:\n",
      "     |  \n",
      "     |  __delattr__(self, name, /)\n",
      "     |      Implement delattr(self, name).\n",
      "     |  \n",
      "     |  __getattribute__(self, name, /)\n",
      "     |      Return getattr(self, name).\n",
      "     |  \n",
      "     |  __repr__(self, /)\n",
      "     |      Return repr(self).\n",
      "     |  \n",
      "     |  __setattr__(self, name, value, /)\n",
      "     |      Implement setattr(self, name, value).\n",
      "     |  \n",
      "     |  __setstate__(...)\n",
      "     |  \n",
      "     |  with_traceback(...)\n",
      "     |      Exception.with_traceback(tb) --\n",
      "     |      set self.__traceback__ to tb and return self.\n",
      "     |  \n",
      "     |  ----------------------------------------------------------------------\n",
      "     |  Data descriptors inherited from BaseException:\n",
      "     |  \n",
      "     |  __cause__\n",
      "     |      exception cause\n",
      "     |  \n",
      "     |  __context__\n",
      "     |      exception context\n",
      "     |  \n",
      "     |  __dict__\n",
      "     |  \n",
      "     |  __suppress_context__\n",
      "     |  \n",
      "     |  __traceback__\n",
      "     |  \n",
      "     |  args\n",
      "    \n",
      "    class stat_result(builtins.tuple)\n",
      "     |  stat_result(iterable=(), /)\n",
      "     |  \n",
      "     |  stat_result: Result from stat, fstat, or lstat.\n",
      "     |  \n",
      "     |  This object may be accessed either as a tuple of\n",
      "     |    (mode, ino, dev, nlink, uid, gid, size, atime, mtime, ctime)\n",
      "     |  or via the attributes st_mode, st_ino, st_dev, st_nlink, st_uid, and so on.\n",
      "     |  \n",
      "     |  Posix/windows: If your platform supports st_blksize, st_blocks, st_rdev,\n",
      "     |  or st_flags, they are available as attributes only.\n",
      "     |  \n",
      "     |  See os.stat for more information.\n",
      "     |  \n",
      "     |  Method resolution order:\n",
      "     |      stat_result\n",
      "     |      builtins.tuple\n",
      "     |      builtins.object\n",
      "     |  \n",
      "     |  Methods defined here:\n",
      "     |  \n",
      "     |  __reduce__(...)\n",
      "     |      Helper for pickle.\n",
      "     |  \n",
      "     |  __repr__(self, /)\n",
      "     |      Return repr(self).\n",
      "     |  \n",
      "     |  ----------------------------------------------------------------------\n",
      "     |  Static methods defined here:\n",
      "     |  \n",
      "     |  __new__(*args, **kwargs) from builtins.type\n",
      "     |      Create and return a new object.  See help(type) for accurate signature.\n",
      "     |  \n",
      "     |  ----------------------------------------------------------------------\n",
      "     |  Data descriptors defined here:\n",
      "     |  \n",
      "     |  st_atime\n",
      "     |      time of last access\n",
      "     |  \n",
      "     |  st_atime_ns\n",
      "     |      time of last access in nanoseconds\n",
      "     |  \n",
      "     |  st_ctime\n",
      "     |      time of last change\n",
      "     |  \n",
      "     |  st_ctime_ns\n",
      "     |      time of last change in nanoseconds\n",
      "     |  \n",
      "     |  st_dev\n",
      "     |      device\n",
      "     |  \n",
      "     |  st_file_attributes\n",
      "     |      Windows file attribute bits\n",
      "     |  \n",
      "     |  st_gid\n",
      "     |      group ID of owner\n",
      "     |  \n",
      "     |  st_ino\n",
      "     |      inode\n",
      "     |  \n",
      "     |  st_mode\n",
      "     |      protection bits\n",
      "     |  \n",
      "     |  st_mtime\n",
      "     |      time of last modification\n",
      "     |  \n",
      "     |  st_mtime_ns\n",
      "     |      time of last modification in nanoseconds\n",
      "     |  \n",
      "     |  st_nlink\n",
      "     |      number of hard links\n",
      "     |  \n",
      "     |  st_reparse_tag\n",
      "     |      Windows reparse tag\n",
      "     |  \n",
      "     |  st_size\n",
      "     |      total size, in bytes\n",
      "     |  \n",
      "     |  st_uid\n",
      "     |      user ID of owner\n",
      "     |  \n",
      "     |  ----------------------------------------------------------------------\n",
      "     |  Data and other attributes defined here:\n",
      "     |  \n",
      "     |  __match_args__ = ('st_mode', 'st_ino', 'st_dev', 'st_nlink', 'st_uid',...\n",
      "     |  \n",
      "     |  n_fields = 18\n",
      "     |  \n",
      "     |  n_sequence_fields = 10\n",
      "     |  \n",
      "     |  n_unnamed_fields = 3\n",
      "     |  \n",
      "     |  ----------------------------------------------------------------------\n",
      "     |  Methods inherited from builtins.tuple:\n",
      "     |  \n",
      "     |  __add__(self, value, /)\n",
      "     |      Return self+value.\n",
      "     |  \n",
      "     |  __contains__(self, key, /)\n",
      "     |      Return key in self.\n",
      "     |  \n",
      "     |  __eq__(self, value, /)\n",
      "     |      Return self==value.\n",
      "     |  \n",
      "     |  __ge__(self, value, /)\n",
      "     |      Return self>=value.\n",
      "     |  \n",
      "     |  __getattribute__(self, name, /)\n",
      "     |      Return getattr(self, name).\n",
      "     |  \n",
      "     |  __getitem__(self, key, /)\n",
      "     |      Return self[key].\n",
      "     |  \n",
      "     |  __getnewargs__(self, /)\n",
      "     |  \n",
      "     |  __gt__(self, value, /)\n",
      "     |      Return self>value.\n",
      "     |  \n",
      "     |  __hash__(self, /)\n",
      "     |      Return hash(self).\n",
      "     |  \n",
      "     |  __iter__(self, /)\n",
      "     |      Implement iter(self).\n",
      "     |  \n",
      "     |  __le__(self, value, /)\n",
      "     |      Return self<=value.\n",
      "     |  \n",
      "     |  __len__(self, /)\n",
      "     |      Return len(self).\n",
      "     |  \n",
      "     |  __lt__(self, value, /)\n",
      "     |      Return self<value.\n",
      "     |  \n",
      "     |  __mul__(self, value, /)\n",
      "     |      Return self*value.\n",
      "     |  \n",
      "     |  __ne__(self, value, /)\n",
      "     |      Return self!=value.\n",
      "     |  \n",
      "     |  __rmul__(self, value, /)\n",
      "     |      Return value*self.\n",
      "     |  \n",
      "     |  count(self, value, /)\n",
      "     |      Return number of occurrences of value.\n",
      "     |  \n",
      "     |  index(self, value, start=0, stop=9223372036854775807, /)\n",
      "     |      Return first index of value.\n",
      "     |      \n",
      "     |      Raises ValueError if the value is not present.\n",
      "     |  \n",
      "     |  ----------------------------------------------------------------------\n",
      "     |  Class methods inherited from builtins.tuple:\n",
      "     |  \n",
      "     |  __class_getitem__(...) from builtins.type\n",
      "     |      See PEP 585\n",
      "    \n",
      "    class statvfs_result(builtins.tuple)\n",
      "     |  statvfs_result(iterable=(), /)\n",
      "     |  \n",
      "     |  statvfs_result: Result from statvfs or fstatvfs.\n",
      "     |  \n",
      "     |  This object may be accessed either as a tuple of\n",
      "     |    (bsize, frsize, blocks, bfree, bavail, files, ffree, favail, flag, namemax),\n",
      "     |  or via the attributes f_bsize, f_frsize, f_blocks, f_bfree, and so on.\n",
      "     |  \n",
      "     |  See os.statvfs for more information.\n",
      "     |  \n",
      "     |  Method resolution order:\n",
      "     |      statvfs_result\n",
      "     |      builtins.tuple\n",
      "     |      builtins.object\n",
      "     |  \n",
      "     |  Methods defined here:\n",
      "     |  \n",
      "     |  __reduce__(...)\n",
      "     |      Helper for pickle.\n",
      "     |  \n",
      "     |  __repr__(self, /)\n",
      "     |      Return repr(self).\n",
      "     |  \n",
      "     |  ----------------------------------------------------------------------\n",
      "     |  Static methods defined here:\n",
      "     |  \n",
      "     |  __new__(*args, **kwargs) from builtins.type\n",
      "     |      Create and return a new object.  See help(type) for accurate signature.\n",
      "     |  \n",
      "     |  ----------------------------------------------------------------------\n",
      "     |  Data descriptors defined here:\n",
      "     |  \n",
      "     |  f_bavail\n",
      "     |  \n",
      "     |  f_bfree\n",
      "     |  \n",
      "     |  f_blocks\n",
      "     |  \n",
      "     |  f_bsize\n",
      "     |  \n",
      "     |  f_favail\n",
      "     |  \n",
      "     |  f_ffree\n",
      "     |  \n",
      "     |  f_files\n",
      "     |  \n",
      "     |  f_flag\n",
      "     |  \n",
      "     |  f_frsize\n",
      "     |  \n",
      "     |  f_fsid\n",
      "     |  \n",
      "     |  f_namemax\n",
      "     |  \n",
      "     |  ----------------------------------------------------------------------\n",
      "     |  Data and other attributes defined here:\n",
      "     |  \n",
      "     |  __match_args__ = ('f_bsize', 'f_frsize', 'f_blocks', 'f_bfree', 'f_bav...\n",
      "     |  \n",
      "     |  n_fields = 11\n",
      "     |  \n",
      "     |  n_sequence_fields = 10\n",
      "     |  \n",
      "     |  n_unnamed_fields = 0\n",
      "     |  \n",
      "     |  ----------------------------------------------------------------------\n",
      "     |  Methods inherited from builtins.tuple:\n",
      "     |  \n",
      "     |  __add__(self, value, /)\n",
      "     |      Return self+value.\n",
      "     |  \n",
      "     |  __contains__(self, key, /)\n",
      "     |      Return key in self.\n",
      "     |  \n",
      "     |  __eq__(self, value, /)\n",
      "     |      Return self==value.\n",
      "     |  \n",
      "     |  __ge__(self, value, /)\n",
      "     |      Return self>=value.\n",
      "     |  \n",
      "     |  __getattribute__(self, name, /)\n",
      "     |      Return getattr(self, name).\n",
      "     |  \n",
      "     |  __getitem__(self, key, /)\n",
      "     |      Return self[key].\n",
      "     |  \n",
      "     |  __getnewargs__(self, /)\n",
      "     |  \n",
      "     |  __gt__(self, value, /)\n",
      "     |      Return self>value.\n",
      "     |  \n",
      "     |  __hash__(self, /)\n",
      "     |      Return hash(self).\n",
      "     |  \n",
      "     |  __iter__(self, /)\n",
      "     |      Implement iter(self).\n",
      "     |  \n",
      "     |  __le__(self, value, /)\n",
      "     |      Return self<=value.\n",
      "     |  \n",
      "     |  __len__(self, /)\n",
      "     |      Return len(self).\n",
      "     |  \n",
      "     |  __lt__(self, value, /)\n",
      "     |      Return self<value.\n",
      "     |  \n",
      "     |  __mul__(self, value, /)\n",
      "     |      Return self*value.\n",
      "     |  \n",
      "     |  __ne__(self, value, /)\n",
      "     |      Return self!=value.\n",
      "     |  \n",
      "     |  __rmul__(self, value, /)\n",
      "     |      Return value*self.\n",
      "     |  \n",
      "     |  count(self, value, /)\n",
      "     |      Return number of occurrences of value.\n",
      "     |  \n",
      "     |  index(self, value, start=0, stop=9223372036854775807, /)\n",
      "     |      Return first index of value.\n",
      "     |      \n",
      "     |      Raises ValueError if the value is not present.\n",
      "     |  \n",
      "     |  ----------------------------------------------------------------------\n",
      "     |  Class methods inherited from builtins.tuple:\n",
      "     |  \n",
      "     |  __class_getitem__(...) from builtins.type\n",
      "     |      See PEP 585\n",
      "    \n",
      "    class terminal_size(builtins.tuple)\n",
      "     |  terminal_size(iterable=(), /)\n",
      "     |  \n",
      "     |  A tuple of (columns, lines) for holding terminal window size\n",
      "     |  \n",
      "     |  Method resolution order:\n",
      "     |      terminal_size\n",
      "     |      builtins.tuple\n",
      "     |      builtins.object\n",
      "     |  \n",
      "     |  Methods defined here:\n",
      "     |  \n",
      "     |  __reduce__(...)\n",
      "     |      Helper for pickle.\n",
      "     |  \n",
      "     |  __repr__(self, /)\n",
      "     |      Return repr(self).\n",
      "     |  \n",
      "     |  ----------------------------------------------------------------------\n",
      "     |  Static methods defined here:\n",
      "     |  \n",
      "     |  __new__(*args, **kwargs) from builtins.type\n",
      "     |      Create and return a new object.  See help(type) for accurate signature.\n",
      "     |  \n",
      "     |  ----------------------------------------------------------------------\n",
      "     |  Data descriptors defined here:\n",
      "     |  \n",
      "     |  columns\n",
      "     |      width of the terminal window in characters\n",
      "     |  \n",
      "     |  lines\n",
      "     |      height of the terminal window in characters\n",
      "     |  \n",
      "     |  ----------------------------------------------------------------------\n",
      "     |  Data and other attributes defined here:\n",
      "     |  \n",
      "     |  __match_args__ = ('columns', 'lines')\n",
      "     |  \n",
      "     |  n_fields = 2\n",
      "     |  \n",
      "     |  n_sequence_fields = 2\n",
      "     |  \n",
      "     |  n_unnamed_fields = 0\n",
      "     |  \n",
      "     |  ----------------------------------------------------------------------\n",
      "     |  Methods inherited from builtins.tuple:\n",
      "     |  \n",
      "     |  __add__(self, value, /)\n",
      "     |      Return self+value.\n",
      "     |  \n",
      "     |  __contains__(self, key, /)\n",
      "     |      Return key in self.\n",
      "     |  \n",
      "     |  __eq__(self, value, /)\n",
      "     |      Return self==value.\n",
      "     |  \n",
      "     |  __ge__(self, value, /)\n",
      "     |      Return self>=value.\n",
      "     |  \n",
      "     |  __getattribute__(self, name, /)\n",
      "     |      Return getattr(self, name).\n",
      "     |  \n",
      "     |  __getitem__(self, key, /)\n",
      "     |      Return self[key].\n",
      "     |  \n",
      "     |  __getnewargs__(self, /)\n",
      "     |  \n",
      "     |  __gt__(self, value, /)\n",
      "     |      Return self>value.\n",
      "     |  \n",
      "     |  __hash__(self, /)\n",
      "     |      Return hash(self).\n",
      "     |  \n",
      "     |  __iter__(self, /)\n",
      "     |      Implement iter(self).\n",
      "     |  \n",
      "     |  __le__(self, value, /)\n",
      "     |      Return self<=value.\n",
      "     |  \n",
      "     |  __len__(self, /)\n",
      "     |      Return len(self).\n",
      "     |  \n",
      "     |  __lt__(self, value, /)\n",
      "     |      Return self<value.\n",
      "     |  \n",
      "     |  __mul__(self, value, /)\n",
      "     |      Return self*value.\n",
      "     |  \n",
      "     |  __ne__(self, value, /)\n",
      "     |      Return self!=value.\n",
      "     |  \n",
      "     |  __rmul__(self, value, /)\n",
      "     |      Return value*self.\n",
      "     |  \n",
      "     |  count(self, value, /)\n",
      "     |      Return number of occurrences of value.\n",
      "     |  \n",
      "     |  index(self, value, start=0, stop=9223372036854775807, /)\n",
      "     |      Return first index of value.\n",
      "     |      \n",
      "     |      Raises ValueError if the value is not present.\n",
      "     |  \n",
      "     |  ----------------------------------------------------------------------\n",
      "     |  Class methods inherited from builtins.tuple:\n",
      "     |  \n",
      "     |  __class_getitem__(...) from builtins.type\n",
      "     |      See PEP 585\n",
      "    \n",
      "    class times_result(builtins.tuple)\n",
      "     |  times_result(iterable=(), /)\n",
      "     |  \n",
      "     |  times_result: Result from os.times().\n",
      "     |  \n",
      "     |  This object may be accessed either as a tuple of\n",
      "     |    (user, system, children_user, children_system, elapsed),\n",
      "     |  or via the attributes user, system, children_user, children_system,\n",
      "     |  and elapsed.\n",
      "     |  \n",
      "     |  See os.times for more information.\n",
      "     |  \n",
      "     |  Method resolution order:\n",
      "     |      times_result\n",
      "     |      builtins.tuple\n",
      "     |      builtins.object\n",
      "     |  \n",
      "     |  Methods defined here:\n",
      "     |  \n",
      "     |  __reduce__(...)\n",
      "     |      Helper for pickle.\n",
      "     |  \n",
      "     |  __repr__(self, /)\n",
      "     |      Return repr(self).\n",
      "     |  \n",
      "     |  ----------------------------------------------------------------------\n",
      "     |  Static methods defined here:\n",
      "     |  \n",
      "     |  __new__(*args, **kwargs) from builtins.type\n",
      "     |      Create and return a new object.  See help(type) for accurate signature.\n",
      "     |  \n",
      "     |  ----------------------------------------------------------------------\n",
      "     |  Data descriptors defined here:\n",
      "     |  \n",
      "     |  children_system\n",
      "     |      system time of children\n",
      "     |  \n",
      "     |  children_user\n",
      "     |      user time of children\n",
      "     |  \n",
      "     |  elapsed\n",
      "     |      elapsed time since an arbitrary point in the past\n",
      "     |  \n",
      "     |  system\n",
      "     |      system time\n",
      "     |  \n",
      "     |  user\n",
      "     |      user time\n",
      "     |  \n",
      "     |  ----------------------------------------------------------------------\n",
      "     |  Data and other attributes defined here:\n",
      "     |  \n",
      "     |  __match_args__ = ('user', 'system', 'children_user', 'children_system'...\n",
      "     |  \n",
      "     |  n_fields = 5\n",
      "     |  \n",
      "     |  n_sequence_fields = 5\n",
      "     |  \n",
      "     |  n_unnamed_fields = 0\n",
      "     |  \n",
      "     |  ----------------------------------------------------------------------\n",
      "     |  Methods inherited from builtins.tuple:\n",
      "     |  \n",
      "     |  __add__(self, value, /)\n",
      "     |      Return self+value.\n",
      "     |  \n",
      "     |  __contains__(self, key, /)\n",
      "     |      Return key in self.\n",
      "     |  \n",
      "     |  __eq__(self, value, /)\n",
      "     |      Return self==value.\n",
      "     |  \n",
      "     |  __ge__(self, value, /)\n",
      "     |      Return self>=value.\n",
      "     |  \n",
      "     |  __getattribute__(self, name, /)\n",
      "     |      Return getattr(self, name).\n",
      "     |  \n",
      "     |  __getitem__(self, key, /)\n",
      "     |      Return self[key].\n",
      "     |  \n",
      "     |  __getnewargs__(self, /)\n",
      "     |  \n",
      "     |  __gt__(self, value, /)\n",
      "     |      Return self>value.\n",
      "     |  \n",
      "     |  __hash__(self, /)\n",
      "     |      Return hash(self).\n",
      "     |  \n",
      "     |  __iter__(self, /)\n",
      "     |      Implement iter(self).\n",
      "     |  \n",
      "     |  __le__(self, value, /)\n",
      "     |      Return self<=value.\n",
      "     |  \n",
      "     |  __len__(self, /)\n",
      "     |      Return len(self).\n",
      "     |  \n",
      "     |  __lt__(self, value, /)\n",
      "     |      Return self<value.\n",
      "     |  \n",
      "     |  __mul__(self, value, /)\n",
      "     |      Return self*value.\n",
      "     |  \n",
      "     |  __ne__(self, value, /)\n",
      "     |      Return self!=value.\n",
      "     |  \n",
      "     |  __rmul__(self, value, /)\n",
      "     |      Return value*self.\n",
      "     |  \n",
      "     |  count(self, value, /)\n",
      "     |      Return number of occurrences of value.\n",
      "     |  \n",
      "     |  index(self, value, start=0, stop=9223372036854775807, /)\n",
      "     |      Return first index of value.\n",
      "     |      \n",
      "     |      Raises ValueError if the value is not present.\n",
      "     |  \n",
      "     |  ----------------------------------------------------------------------\n",
      "     |  Class methods inherited from builtins.tuple:\n",
      "     |  \n",
      "     |  __class_getitem__(...) from builtins.type\n",
      "     |      See PEP 585\n",
      "    \n",
      "    class uname_result(builtins.tuple)\n",
      "     |  uname_result(iterable=(), /)\n",
      "     |  \n",
      "     |  uname_result: Result from os.uname().\n",
      "     |  \n",
      "     |  This object may be accessed either as a tuple of\n",
      "     |    (sysname, nodename, release, version, machine),\n",
      "     |  or via the attributes sysname, nodename, release, version, and machine.\n",
      "     |  \n",
      "     |  See os.uname for more information.\n",
      "     |  \n",
      "     |  Method resolution order:\n",
      "     |      uname_result\n",
      "     |      builtins.tuple\n",
      "     |      builtins.object\n",
      "     |  \n",
      "     |  Methods defined here:\n",
      "     |  \n",
      "     |  __reduce__(...)\n",
      "     |      Helper for pickle.\n",
      "     |  \n",
      "     |  __repr__(self, /)\n",
      "     |      Return repr(self).\n",
      "     |  \n",
      "     |  ----------------------------------------------------------------------\n",
      "     |  Static methods defined here:\n",
      "     |  \n",
      "     |  __new__(*args, **kwargs) from builtins.type\n",
      "     |      Create and return a new object.  See help(type) for accurate signature.\n",
      "     |  \n",
      "     |  ----------------------------------------------------------------------\n",
      "     |  Data descriptors defined here:\n",
      "     |  \n",
      "     |  machine\n",
      "     |      hardware identifier\n",
      "     |  \n",
      "     |  nodename\n",
      "     |      name of machine on network (implementation-defined)\n",
      "     |  \n",
      "     |  release\n",
      "     |      operating system release\n",
      "     |  \n",
      "     |  sysname\n",
      "     |      operating system name\n",
      "     |  \n",
      "     |  version\n",
      "     |      operating system version\n",
      "     |  \n",
      "     |  ----------------------------------------------------------------------\n",
      "     |  Data and other attributes defined here:\n",
      "     |  \n",
      "     |  __match_args__ = ('sysname', 'nodename', 'release', 'version', 'machin...\n",
      "     |  \n",
      "     |  n_fields = 5\n",
      "     |  \n",
      "     |  n_sequence_fields = 5\n",
      "     |  \n",
      "     |  n_unnamed_fields = 0\n",
      "     |  \n",
      "     |  ----------------------------------------------------------------------\n",
      "     |  Methods inherited from builtins.tuple:\n",
      "     |  \n",
      "     |  __add__(self, value, /)\n",
      "     |      Return self+value.\n",
      "     |  \n",
      "     |  __contains__(self, key, /)\n",
      "     |      Return key in self.\n",
      "     |  \n",
      "     |  __eq__(self, value, /)\n",
      "     |      Return self==value.\n",
      "     |  \n",
      "     |  __ge__(self, value, /)\n",
      "     |      Return self>=value.\n",
      "     |  \n",
      "     |  __getattribute__(self, name, /)\n",
      "     |      Return getattr(self, name).\n",
      "     |  \n",
      "     |  __getitem__(self, key, /)\n",
      "     |      Return self[key].\n",
      "     |  \n",
      "     |  __getnewargs__(self, /)\n",
      "     |  \n",
      "     |  __gt__(self, value, /)\n",
      "     |      Return self>value.\n",
      "     |  \n",
      "     |  __hash__(self, /)\n",
      "     |      Return hash(self).\n",
      "     |  \n",
      "     |  __iter__(self, /)\n",
      "     |      Implement iter(self).\n",
      "     |  \n",
      "     |  __le__(self, value, /)\n",
      "     |      Return self<=value.\n",
      "     |  \n",
      "     |  __len__(self, /)\n",
      "     |      Return len(self).\n",
      "     |  \n",
      "     |  __lt__(self, value, /)\n",
      "     |      Return self<value.\n",
      "     |  \n",
      "     |  __mul__(self, value, /)\n",
      "     |      Return self*value.\n",
      "     |  \n",
      "     |  __ne__(self, value, /)\n",
      "     |      Return self!=value.\n",
      "     |  \n",
      "     |  __rmul__(self, value, /)\n",
      "     |      Return value*self.\n",
      "     |  \n",
      "     |  count(self, value, /)\n",
      "     |      Return number of occurrences of value.\n",
      "     |  \n",
      "     |  index(self, value, start=0, stop=9223372036854775807, /)\n",
      "     |      Return first index of value.\n",
      "     |      \n",
      "     |      Raises ValueError if the value is not present.\n",
      "     |  \n",
      "     |  ----------------------------------------------------------------------\n",
      "     |  Class methods inherited from builtins.tuple:\n",
      "     |  \n",
      "     |  __class_getitem__(...) from builtins.type\n",
      "     |      See PEP 585\n",
      "\n",
      "FUNCTIONS\n",
      "    _exit(status)\n",
      "        Exit to the system with specified status, without normal exit processing.\n",
      "    \n",
      "    abort()\n",
      "        Abort the interpreter immediately.\n",
      "        \n",
      "        This function 'dumps core' or otherwise fails in the hardest way possible\n",
      "        on the hosting operating system.  This function never returns.\n",
      "    \n",
      "    access(path, mode, *, dir_fd=None, effective_ids=False, follow_symlinks=True)\n",
      "        Use the real uid/gid to test for access to a path.\n",
      "        \n",
      "          path\n",
      "            Path to be tested; can be string, bytes, or a path-like object.\n",
      "          mode\n",
      "            Operating-system mode bitfield.  Can be F_OK to test existence,\n",
      "            or the inclusive-OR of R_OK, W_OK, and X_OK.\n",
      "          dir_fd\n",
      "            If not None, it should be a file descriptor open to a directory,\n",
      "            and path should be relative; path will then be relative to that\n",
      "            directory.\n",
      "          effective_ids\n",
      "            If True, access will use the effective uid/gid instead of\n",
      "            the real uid/gid.\n",
      "          follow_symlinks\n",
      "            If False, and the last element of the path is a symbolic link,\n",
      "            access will examine the symbolic link itself instead of the file\n",
      "            the link points to.\n",
      "        \n",
      "        dir_fd, effective_ids, and follow_symlinks may not be implemented\n",
      "          on your platform.  If they are unavailable, using them will raise a\n",
      "          NotImplementedError.\n",
      "        \n",
      "        Note that most operations will use the effective uid/gid, therefore this\n",
      "          routine can be used in a suid/sgid environment to test if the invoking user\n",
      "          has the specified access to the path.\n",
      "    \n",
      "    chdir(path)\n",
      "        Change the current working directory to the specified path.\n",
      "        \n",
      "        path may always be specified as a string.\n",
      "        On some platforms, path may also be specified as an open file descriptor.\n",
      "          If this functionality is unavailable, using it raises an exception.\n",
      "    \n",
      "    chmod(path, mode, *, dir_fd=None, follow_symlinks=True)\n",
      "        Change the access permissions of a file.\n",
      "        \n",
      "          path\n",
      "            Path to be modified.  May always be specified as a str, bytes, or a path-like object.\n",
      "            On some platforms, path may also be specified as an open file descriptor.\n",
      "            If this functionality is unavailable, using it raises an exception.\n",
      "          mode\n",
      "            Operating-system mode bitfield.\n",
      "          dir_fd\n",
      "            If not None, it should be a file descriptor open to a directory,\n",
      "            and path should be relative; path will then be relative to that\n",
      "            directory.\n",
      "          follow_symlinks\n",
      "            If False, and the last element of the path is a symbolic link,\n",
      "            chmod will modify the symbolic link itself instead of the file\n",
      "            the link points to.\n",
      "        \n",
      "        It is an error to use dir_fd or follow_symlinks when specifying path as\n",
      "          an open file descriptor.\n",
      "        dir_fd and follow_symlinks may not be implemented on your platform.\n",
      "          If they are unavailable, using them will raise a NotImplementedError.\n",
      "    \n",
      "    close(fd)\n",
      "        Close a file descriptor.\n",
      "    \n",
      "    closerange(fd_low, fd_high, /)\n",
      "        Closes all file descriptors in [fd_low, fd_high), ignoring errors.\n",
      "    \n",
      "    cpu_count()\n",
      "        Return the number of CPUs in the system; return None if indeterminable.\n",
      "        \n",
      "        This number is not equivalent to the number of CPUs the current process can\n",
      "        use.  The number of usable CPUs can be obtained with\n",
      "        ``len(os.sched_getaffinity(0))``\n",
      "    \n",
      "    device_encoding(fd)\n",
      "        Return a string describing the encoding of a terminal's file descriptor.\n",
      "        \n",
      "        The file descriptor must be attached to a terminal.\n",
      "        If the device is not a terminal, return None.\n",
      "    \n",
      "    dup(fd, /)\n",
      "        Return a duplicate of a file descriptor.\n",
      "    \n",
      "    dup2(fd, fd2, inheritable=True)\n",
      "        Duplicate file descriptor.\n",
      "    \n",
      "    execl(file, *args)\n",
      "        execl(file, *args)\n",
      "        \n",
      "        Execute the executable file with argument list args, replacing the\n",
      "        current process.\n",
      "    \n",
      "    execle(file, *args)\n",
      "        execle(file, *args, env)\n",
      "        \n",
      "        Execute the executable file with argument list args and\n",
      "        environment env, replacing the current process.\n",
      "    \n",
      "    execlp(file, *args)\n",
      "        execlp(file, *args)\n",
      "        \n",
      "        Execute the executable file (which is searched for along $PATH)\n",
      "        with argument list args, replacing the current process.\n",
      "    \n",
      "    execlpe(file, *args)\n",
      "        execlpe(file, *args, env)\n",
      "        \n",
      "        Execute the executable file (which is searched for along $PATH)\n",
      "        with argument list args and environment env, replacing the current\n",
      "        process.\n",
      "    \n",
      "    execv(path, argv, /)\n",
      "        Execute an executable path with arguments, replacing current process.\n",
      "        \n",
      "        path\n",
      "          Path of executable file.\n",
      "        argv\n",
      "          Tuple or list of strings.\n",
      "    \n",
      "    execve(path, argv, env)\n",
      "        Execute an executable path with arguments, replacing current process.\n",
      "        \n",
      "        path\n",
      "          Path of executable file.\n",
      "        argv\n",
      "          Tuple or list of strings.\n",
      "        env\n",
      "          Dictionary of strings mapping to strings.\n",
      "    \n",
      "    execvp(file, args)\n",
      "        execvp(file, args)\n",
      "        \n",
      "        Execute the executable file (which is searched for along $PATH)\n",
      "        with argument list args, replacing the current process.\n",
      "        args may be a list or tuple of strings.\n",
      "    \n",
      "    execvpe(file, args, env)\n",
      "        execvpe(file, args, env)\n",
      "        \n",
      "        Execute the executable file (which is searched for along $PATH)\n",
      "        with argument list args and environment env, replacing the\n",
      "        current process.\n",
      "        args may be a list or tuple of strings.\n",
      "    \n",
      "    fdopen(fd, mode='r', buffering=-1, encoding=None, *args, **kwargs)\n",
      "        # Supply os.fdopen()\n",
      "    \n",
      "    fsdecode(filename)\n",
      "        Decode filename (an os.PathLike, bytes, or str) from the filesystem\n",
      "        encoding with 'surrogateescape' error handler, return str unchanged. On\n",
      "        Windows, use 'strict' error handler if the file system encoding is\n",
      "        'mbcs' (which is the default encoding).\n",
      "    \n",
      "    fsencode(filename)\n",
      "        Encode filename (an os.PathLike, bytes, or str) to the filesystem\n",
      "        encoding with 'surrogateescape' error handler, return bytes unchanged.\n",
      "        On Windows, use 'strict' error handler if the file system encoding is\n",
      "        'mbcs' (which is the default encoding).\n",
      "    \n",
      "    fspath(path)\n",
      "        Return the file system path representation of the object.\n",
      "        \n",
      "        If the object is str or bytes, then allow it to pass through as-is. If the\n",
      "        object defines __fspath__(), then return the result of that method. All other\n",
      "        types raise a TypeError.\n",
      "    \n",
      "    fstat(fd)\n",
      "        Perform a stat system call on the given file descriptor.\n",
      "        \n",
      "        Like stat(), but for an open file descriptor.\n",
      "        Equivalent to os.stat(fd).\n",
      "    \n",
      "    fsync(fd)\n",
      "        Force write of fd to disk.\n",
      "    \n",
      "    ftruncate(fd, length, /)\n",
      "        Truncate a file, specified by file descriptor, to a specific length.\n",
      "    \n",
      "    get_exec_path(env=None)\n",
      "        Returns the sequence of directories that will be searched for the\n",
      "        named executable (similar to a shell) when launching a process.\n",
      "        \n",
      "        *env* must be an environment variable dict or None.  If *env* is None,\n",
      "        os.environ will be used.\n",
      "    \n",
      "    get_handle_inheritable(handle, /)\n",
      "        Get the close-on-exe flag of the specified file descriptor.\n",
      "    \n",
      "    get_inheritable(fd, /)\n",
      "        Get the close-on-exe flag of the specified file descriptor.\n",
      "    \n",
      "    get_terminal_size(...)\n",
      "        Return the size of the terminal window as (columns, lines).\n",
      "        \n",
      "        The optional argument fd (default standard output) specifies\n",
      "        which file descriptor should be queried.\n",
      "        \n",
      "        If the file descriptor is not connected to a terminal, an OSError\n",
      "        is thrown.\n",
      "        \n",
      "        This function will only be defined if an implementation is\n",
      "        available for this system.\n",
      "        \n",
      "        shutil.get_terminal_size is the high-level function which should\n",
      "        normally be used, os.get_terminal_size is the low-level implementation.\n",
      "    \n",
      "    getcwd()\n",
      "        Return a unicode string representing the current working directory.\n",
      "    \n",
      "    getcwdb()\n",
      "        Return a bytes string representing the current working directory.\n",
      "    \n",
      "    getenv(key, default=None)\n",
      "        Get an environment variable, return None if it doesn't exist.\n",
      "        The optional second argument can specify an alternate default.\n",
      "        key, default and the result are str.\n",
      "    \n",
      "    getlogin()\n",
      "        Return the actual login name.\n",
      "    \n",
      "    getpid()\n",
      "        Return the current process id.\n",
      "    \n",
      "    getppid()\n",
      "        Return the parent's process id.\n",
      "        \n",
      "        If the parent process has already exited, Windows machines will still\n",
      "        return its id; others systems will return the id of the 'init' process (1).\n",
      "    \n",
      "    isatty(fd, /)\n",
      "        Return True if the fd is connected to a terminal.\n",
      "        \n",
      "        Return True if the file descriptor is an open file descriptor\n",
      "        connected to the slave end of a terminal.\n",
      "    \n",
      "    kill(pid, signal, /)\n",
      "        Kill a process with a signal.\n",
      "    \n",
      "    link(src, dst, *, src_dir_fd=None, dst_dir_fd=None, follow_symlinks=True)\n",
      "        Create a hard link to a file.\n",
      "        \n",
      "        If either src_dir_fd or dst_dir_fd is not None, it should be a file\n",
      "          descriptor open to a directory, and the respective path string (src or dst)\n",
      "          should be relative; the path will then be relative to that directory.\n",
      "        If follow_symlinks is False, and the last element of src is a symbolic\n",
      "          link, link will create a link to the symbolic link itself instead of the\n",
      "          file the link points to.\n",
      "        src_dir_fd, dst_dir_fd, and follow_symlinks may not be implemented on your\n",
      "          platform.  If they are unavailable, using them will raise a\n",
      "          NotImplementedError.\n",
      "    \n",
      "    listdir(path=None)\n",
      "        Return a list containing the names of the files in the directory.\n",
      "        \n",
      "        path can be specified as either str, bytes, or a path-like object.  If path is bytes,\n",
      "          the filenames returned will also be bytes; in all other circumstances\n",
      "          the filenames returned will be str.\n",
      "        If path is None, uses the path='.'.\n",
      "        On some platforms, path may also be specified as an open file descriptor;\\\n",
      "          the file descriptor must refer to a directory.\n",
      "          If this functionality is unavailable, using it raises NotImplementedError.\n",
      "        \n",
      "        The list is in arbitrary order.  It does not include the special\n",
      "        entries '.' and '..' even if they are present in the directory.\n",
      "    \n",
      "    lseek(fd, position, how, /)\n",
      "        Set the position of a file descriptor.  Return the new position.\n",
      "        \n",
      "        Return the new cursor position in number of bytes\n",
      "        relative to the beginning of the file.\n",
      "    \n",
      "    lstat(path, *, dir_fd=None)\n",
      "        Perform a stat system call on the given path, without following symbolic links.\n",
      "        \n",
      "        Like stat(), but do not follow symbolic links.\n",
      "        Equivalent to stat(path, follow_symlinks=False).\n",
      "    \n",
      "    makedirs(name, mode=511, exist_ok=False)\n",
      "        makedirs(name [, mode=0o777][, exist_ok=False])\n",
      "        \n",
      "        Super-mkdir; create a leaf directory and all intermediate ones.  Works like\n",
      "        mkdir, except that any intermediate path segment (not just the rightmost)\n",
      "        will be created if it does not exist. If the target directory already\n",
      "        exists, raise an OSError if exist_ok is False. Otherwise no exception is\n",
      "        raised.  This is recursive.\n",
      "    \n",
      "    mkdir(path, mode=511, *, dir_fd=None)\n",
      "        Create a directory.\n",
      "        \n",
      "        If dir_fd is not None, it should be a file descriptor open to a directory,\n",
      "          and path should be relative; path will then be relative to that directory.\n",
      "        dir_fd may not be implemented on your platform.\n",
      "          If it is unavailable, using it will raise a NotImplementedError.\n",
      "        \n",
      "        The mode argument is ignored on Windows.\n",
      "    \n",
      "    open(path, flags, mode=511, *, dir_fd=None)\n",
      "        Open a file for low level IO.  Returns a file descriptor (integer).\n",
      "        \n",
      "        If dir_fd is not None, it should be a file descriptor open to a directory,\n",
      "          and path should be relative; path will then be relative to that directory.\n",
      "        dir_fd may not be implemented on your platform.\n",
      "          If it is unavailable, using it will raise a NotImplementedError.\n",
      "    \n",
      "    pipe()\n",
      "        Create a pipe.\n",
      "        \n",
      "        Returns a tuple of two file descriptors:\n",
      "          (read_fd, write_fd)\n",
      "    \n",
      "    popen(cmd, mode='r', buffering=-1)\n",
      "        # Supply os.popen()\n",
      "    \n",
      "    putenv(name, value, /)\n",
      "        Change or add an environment variable.\n",
      "    \n",
      "    read(fd, length, /)\n",
      "        Read from a file descriptor.  Returns a bytes object.\n",
      "    \n",
      "    readlink(path, *, dir_fd=None)\n",
      "        Return a string representing the path to which the symbolic link points.\n",
      "        \n",
      "        If dir_fd is not None, it should be a file descriptor open to a directory,\n",
      "        and path should be relative; path will then be relative to that directory.\n",
      "        \n",
      "        dir_fd may not be implemented on your platform.  If it is unavailable,\n",
      "        using it will raise a NotImplementedError.\n",
      "    \n",
      "    remove(path, *, dir_fd=None)\n",
      "        Remove a file (same as unlink()).\n",
      "        \n",
      "        If dir_fd is not None, it should be a file descriptor open to a directory,\n",
      "          and path should be relative; path will then be relative to that directory.\n",
      "        dir_fd may not be implemented on your platform.\n",
      "          If it is unavailable, using it will raise a NotImplementedError.\n",
      "    \n",
      "    removedirs(name)\n",
      "        removedirs(name)\n",
      "        \n",
      "        Super-rmdir; remove a leaf directory and all empty intermediate\n",
      "        ones.  Works like rmdir except that, if the leaf directory is\n",
      "        successfully removed, directories corresponding to rightmost path\n",
      "        segments will be pruned away until either the whole path is\n",
      "        consumed or an error occurs.  Errors during this latter phase are\n",
      "        ignored -- they generally mean that a directory was not empty.\n",
      "    \n",
      "    rename(src, dst, *, src_dir_fd=None, dst_dir_fd=None)\n",
      "        Rename a file or directory.\n",
      "        \n",
      "        If either src_dir_fd or dst_dir_fd is not None, it should be a file\n",
      "          descriptor open to a directory, and the respective path string (src or dst)\n",
      "          should be relative; the path will then be relative to that directory.\n",
      "        src_dir_fd and dst_dir_fd, may not be implemented on your platform.\n",
      "          If they are unavailable, using them will raise a NotImplementedError.\n",
      "    \n",
      "    renames(old, new)\n",
      "        renames(old, new)\n",
      "        \n",
      "        Super-rename; create directories as necessary and delete any left\n",
      "        empty.  Works like rename, except creation of any intermediate\n",
      "        directories needed to make the new pathname good is attempted\n",
      "        first.  After the rename, directories corresponding to rightmost\n",
      "        path segments of the old name will be pruned until either the\n",
      "        whole path is consumed or a nonempty directory is found.\n",
      "        \n",
      "        Note: this function can fail with the new directory structure made\n",
      "        if you lack permissions needed to unlink the leaf directory or\n",
      "        file.\n",
      "    \n",
      "    replace(src, dst, *, src_dir_fd=None, dst_dir_fd=None)\n",
      "        Rename a file or directory, overwriting the destination.\n",
      "        \n",
      "        If either src_dir_fd or dst_dir_fd is not None, it should be a file\n",
      "          descriptor open to a directory, and the respective path string (src or dst)\n",
      "          should be relative; the path will then be relative to that directory.\n",
      "        src_dir_fd and dst_dir_fd, may not be implemented on your platform.\n",
      "          If they are unavailable, using them will raise a NotImplementedError.\n",
      "    \n",
      "    rmdir(path, *, dir_fd=None)\n",
      "        Remove a directory.\n",
      "        \n",
      "        If dir_fd is not None, it should be a file descriptor open to a directory,\n",
      "          and path should be relative; path will then be relative to that directory.\n",
      "        dir_fd may not be implemented on your platform.\n",
      "          If it is unavailable, using it will raise a NotImplementedError.\n",
      "    \n",
      "    scandir(path=None)\n",
      "        Return an iterator of DirEntry objects for given path.\n",
      "        \n",
      "        path can be specified as either str, bytes, or a path-like object.  If path\n",
      "        is bytes, the names of yielded DirEntry objects will also be bytes; in\n",
      "        all other circumstances they will be str.\n",
      "        \n",
      "        If path is None, uses the path='.'.\n",
      "    \n",
      "    set_handle_inheritable(handle, inheritable, /)\n",
      "        Set the inheritable flag of the specified handle.\n",
      "    \n",
      "    set_inheritable(fd, inheritable, /)\n",
      "        Set the inheritable flag of the specified file descriptor.\n",
      "    \n",
      "    spawnl(mode, file, *args)\n",
      "        spawnl(mode, file, *args) -> integer\n",
      "        \n",
      "        Execute file with arguments from args in a subprocess.\n",
      "        If mode == P_NOWAIT return the pid of the process.\n",
      "        If mode == P_WAIT return the process's exit code if it exits normally;\n",
      "        otherwise return -SIG, where SIG is the signal that killed it.\n",
      "    \n",
      "    spawnle(mode, file, *args)\n",
      "        spawnle(mode, file, *args, env) -> integer\n",
      "        \n",
      "        Execute file with arguments from args in a subprocess with the\n",
      "        supplied environment.\n",
      "        If mode == P_NOWAIT return the pid of the process.\n",
      "        If mode == P_WAIT return the process's exit code if it exits normally;\n",
      "        otherwise return -SIG, where SIG is the signal that killed it.\n",
      "    \n",
      "    spawnv(mode, path, argv, /)\n",
      "        Execute the program specified by path in a new process.\n",
      "        \n",
      "        mode\n",
      "          Mode of process creation.\n",
      "        path\n",
      "          Path of executable file.\n",
      "        argv\n",
      "          Tuple or list of strings.\n",
      "    \n",
      "    spawnve(mode, path, argv, env, /)\n",
      "        Execute the program specified by path in a new process.\n",
      "        \n",
      "        mode\n",
      "          Mode of process creation.\n",
      "        path\n",
      "          Path of executable file.\n",
      "        argv\n",
      "          Tuple or list of strings.\n",
      "        env\n",
      "          Dictionary of strings mapping to strings.\n",
      "    \n",
      "    startfile(...)\n",
      "        Start a file with its associated application.\n",
      "        \n",
      "        When \"operation\" is not specified or \"open\", this acts like\n",
      "        double-clicking the file in Explorer, or giving the file name as an\n",
      "        argument to the DOS \"start\" command: the file is opened with whatever\n",
      "        application (if any) its extension is associated.\n",
      "        When another \"operation\" is given, it specifies what should be done with\n",
      "        the file.  A typical operation is \"print\".\n",
      "        \n",
      "        \"arguments\" is passed to the application, but should be omitted if the\n",
      "        file is a document.\n",
      "        \n",
      "        \"cwd\" is the working directory for the operation. If \"filepath\" is\n",
      "        relative, it will be resolved against this directory. This argument\n",
      "        should usually be an absolute path.\n",
      "        \n",
      "        \"show_cmd\" can be used to override the recommended visibility option.\n",
      "        See the Windows ShellExecute documentation for values.\n",
      "        \n",
      "        startfile returns as soon as the associated application is launched.\n",
      "        There is no option to wait for the application to close, and no way\n",
      "        to retrieve the application's exit status.\n",
      "        \n",
      "        The filepath is relative to the current directory.  If you want to use\n",
      "        an absolute path, make sure the first character is not a slash (\"/\");\n",
      "        the underlying Win32 ShellExecute function doesn't work if it is.\n",
      "    \n",
      "    stat(path, *, dir_fd=None, follow_symlinks=True)\n",
      "        Perform a stat system call on the given path.\n",
      "        \n",
      "          path\n",
      "            Path to be examined; can be string, bytes, a path-like object or\n",
      "            open-file-descriptor int.\n",
      "          dir_fd\n",
      "            If not None, it should be a file descriptor open to a directory,\n",
      "            and path should be a relative string; path will then be relative to\n",
      "            that directory.\n",
      "          follow_symlinks\n",
      "            If False, and the last element of the path is a symbolic link,\n",
      "            stat will examine the symbolic link itself instead of the file\n",
      "            the link points to.\n",
      "        \n",
      "        dir_fd and follow_symlinks may not be implemented\n",
      "          on your platform.  If they are unavailable, using them will raise a\n",
      "          NotImplementedError.\n",
      "        \n",
      "        It's an error to use dir_fd or follow_symlinks when specifying path as\n",
      "          an open file descriptor.\n",
      "    \n",
      "    strerror(code, /)\n",
      "        Translate an error code to a message string.\n",
      "    \n",
      "    symlink(src, dst, target_is_directory=False, *, dir_fd=None)\n",
      "        Create a symbolic link pointing to src named dst.\n",
      "        \n",
      "        target_is_directory is required on Windows if the target is to be\n",
      "          interpreted as a directory.  (On Windows, symlink requires\n",
      "          Windows 6.0 or greater, and raises a NotImplementedError otherwise.)\n",
      "          target_is_directory is ignored on non-Windows platforms.\n",
      "        \n",
      "        If dir_fd is not None, it should be a file descriptor open to a directory,\n",
      "          and path should be relative; path will then be relative to that directory.\n",
      "        dir_fd may not be implemented on your platform.\n",
      "          If it is unavailable, using it will raise a NotImplementedError.\n",
      "    \n",
      "    system(command)\n",
      "        Execute the command in a subshell.\n",
      "    \n",
      "    times()\n",
      "        Return a collection containing process timing information.\n",
      "        \n",
      "        The object returned behaves like a named tuple with these fields:\n",
      "          (utime, stime, cutime, cstime, elapsed_time)\n",
      "        All fields are floating point numbers.\n",
      "    \n",
      "    truncate(path, length)\n",
      "        Truncate a file, specified by path, to a specific length.\n",
      "        \n",
      "        On some platforms, path may also be specified as an open file descriptor.\n",
      "          If this functionality is unavailable, using it raises an exception.\n",
      "    \n",
      "    umask(mask, /)\n",
      "        Set the current numeric umask and return the previous umask.\n",
      "    \n",
      "    unlink(path, *, dir_fd=None)\n",
      "        Remove a file (same as remove()).\n",
      "        \n",
      "        If dir_fd is not None, it should be a file descriptor open to a directory,\n",
      "          and path should be relative; path will then be relative to that directory.\n",
      "        dir_fd may not be implemented on your platform.\n",
      "          If it is unavailable, using it will raise a NotImplementedError.\n",
      "    \n",
      "    unsetenv(name, /)\n",
      "        Delete an environment variable.\n",
      "    \n",
      "    urandom(size, /)\n",
      "        Return a bytes object containing random bytes suitable for cryptographic use.\n",
      "    \n",
      "    utime(...)\n",
      "        Set the access and modified time of path.\n",
      "        \n",
      "        path may always be specified as a string.\n",
      "        On some platforms, path may also be specified as an open file descriptor.\n",
      "          If this functionality is unavailable, using it raises an exception.\n",
      "        \n",
      "        If times is not None, it must be a tuple (atime, mtime);\n",
      "            atime and mtime should be expressed as float seconds since the epoch.\n",
      "        If ns is specified, it must be a tuple (atime_ns, mtime_ns);\n",
      "            atime_ns and mtime_ns should be expressed as integer nanoseconds\n",
      "            since the epoch.\n",
      "        If times is None and ns is unspecified, utime uses the current time.\n",
      "        Specifying tuples for both times and ns is an error.\n",
      "        \n",
      "        If dir_fd is not None, it should be a file descriptor open to a directory,\n",
      "          and path should be relative; path will then be relative to that directory.\n",
      "        If follow_symlinks is False, and the last element of the path is a symbolic\n",
      "          link, utime will modify the symbolic link itself instead of the file the\n",
      "          link points to.\n",
      "        It is an error to use dir_fd or follow_symlinks when specifying path\n",
      "          as an open file descriptor.\n",
      "        dir_fd and follow_symlinks may not be available on your platform.\n",
      "          If they are unavailable, using them will raise a NotImplementedError.\n",
      "    \n",
      "    waitpid(pid, options, /)\n",
      "        Wait for completion of a given process.\n",
      "        \n",
      "        Returns a tuple of information regarding the process:\n",
      "            (pid, status << 8)\n",
      "        \n",
      "        The options argument is ignored on Windows.\n",
      "    \n",
      "    waitstatus_to_exitcode(status)\n",
      "        Convert a wait status to an exit code.\n",
      "        \n",
      "        On Unix:\n",
      "        \n",
      "        * If WIFEXITED(status) is true, return WEXITSTATUS(status).\n",
      "        * If WIFSIGNALED(status) is true, return -WTERMSIG(status).\n",
      "        * Otherwise, raise a ValueError.\n",
      "        \n",
      "        On Windows, return status shifted right by 8 bits.\n",
      "        \n",
      "        On Unix, if the process is being traced or if waitpid() was called with\n",
      "        WUNTRACED option, the caller must first check if WIFSTOPPED(status) is true.\n",
      "        This function must not be called if WIFSTOPPED(status) is true.\n",
      "    \n",
      "    walk(top, topdown=True, onerror=None, followlinks=False)\n",
      "        Directory tree generator.\n",
      "        \n",
      "        For each directory in the directory tree rooted at top (including top\n",
      "        itself, but excluding '.' and '..'), yields a 3-tuple\n",
      "        \n",
      "            dirpath, dirnames, filenames\n",
      "        \n",
      "        dirpath is a string, the path to the directory.  dirnames is a list of\n",
      "        the names of the subdirectories in dirpath (excluding '.' and '..').\n",
      "        filenames is a list of the names of the non-directory files in dirpath.\n",
      "        Note that the names in the lists are just names, with no path components.\n",
      "        To get a full path (which begins with top) to a file or directory in\n",
      "        dirpath, do os.path.join(dirpath, name).\n",
      "        \n",
      "        If optional arg 'topdown' is true or not specified, the triple for a\n",
      "        directory is generated before the triples for any of its subdirectories\n",
      "        (directories are generated top down).  If topdown is false, the triple\n",
      "        for a directory is generated after the triples for all of its\n",
      "        subdirectories (directories are generated bottom up).\n",
      "        \n",
      "        When topdown is true, the caller can modify the dirnames list in-place\n",
      "        (e.g., via del or slice assignment), and walk will only recurse into the\n",
      "        subdirectories whose names remain in dirnames; this can be used to prune the\n",
      "        search, or to impose a specific order of visiting.  Modifying dirnames when\n",
      "        topdown is false has no effect on the behavior of os.walk(), since the\n",
      "        directories in dirnames have already been generated by the time dirnames\n",
      "        itself is generated. No matter the value of topdown, the list of\n",
      "        subdirectories is retrieved before the tuples for the directory and its\n",
      "        subdirectories are generated.\n",
      "        \n",
      "        By default errors from the os.scandir() call are ignored.  If\n",
      "        optional arg 'onerror' is specified, it should be a function; it\n",
      "        will be called with one argument, an OSError instance.  It can\n",
      "        report the error to continue with the walk, or raise the exception\n",
      "        to abort the walk.  Note that the filename is available as the\n",
      "        filename attribute of the exception object.\n",
      "        \n",
      "        By default, os.walk does not follow symbolic links to subdirectories on\n",
      "        systems that support them.  In order to get this functionality, set the\n",
      "        optional argument 'followlinks' to true.\n",
      "        \n",
      "        Caution:  if you pass a relative pathname for top, don't change the\n",
      "        current working directory between resumptions of walk.  walk never\n",
      "        changes the current directory, and assumes that the client doesn't\n",
      "        either.\n",
      "        \n",
      "        Example:\n",
      "        \n",
      "        import os\n",
      "        from os.path import join, getsize\n",
      "        for root, dirs, files in os.walk('python/Lib/email'):\n",
      "            print(root, \"consumes\", end=\"\")\n",
      "            print(sum(getsize(join(root, name)) for name in files), end=\"\")\n",
      "            print(\"bytes in\", len(files), \"non-directory files\")\n",
      "            if 'CVS' in dirs:\n",
      "                dirs.remove('CVS')  # don't visit CVS directories\n",
      "    \n",
      "    write(fd, data, /)\n",
      "        Write a bytes object to a file descriptor.\n",
      "\n",
      "DATA\n",
      "    F_OK = 0\n",
      "    O_APPEND = 8\n",
      "    O_BINARY = 32768\n",
      "    O_CREAT = 256\n",
      "    O_EXCL = 1024\n",
      "    O_NOINHERIT = 128\n",
      "    O_RANDOM = 16\n",
      "    O_RDONLY = 0\n",
      "    O_RDWR = 2\n",
      "    O_SEQUENTIAL = 32\n",
      "    O_SHORT_LIVED = 4096\n",
      "    O_TEMPORARY = 64\n",
      "    O_TEXT = 16384\n",
      "    O_TRUNC = 512\n",
      "    O_WRONLY = 1\n",
      "    P_DETACH = 4\n",
      "    P_NOWAIT = 1\n",
      "    P_NOWAITO = 3\n",
      "    P_OVERLAY = 2\n",
      "    P_WAIT = 0\n",
      "    R_OK = 4\n",
      "    SEEK_CUR = 1\n",
      "    SEEK_END = 2\n",
      "    SEEK_SET = 0\n",
      "    TMP_MAX = 2147483647\n",
      "    W_OK = 2\n",
      "    X_OK = 1\n",
      "    __all__ = ['altsep', 'curdir', 'pardir', 'sep', 'pathsep', 'linesep', ...\n",
      "    altsep = '/'\n",
      "    curdir = '.'\n",
      "    defpath = r'.;C:\\bin'\n",
      "    devnull = 'nul'\n",
      "    environ = environ({'ALLUSERSPROFILE': 'C:\\\\ProgramData', '...D': 'modu...\n",
      "    extsep = '.'\n",
      "    linesep = '\\r\\n'\n",
      "    name = 'nt'\n",
      "    pardir = '..'\n",
      "    pathsep = ';'\n",
      "    sep = r'\\'\n",
      "    supports_bytes_environ = False\n",
      "\n",
      "FILE\n",
      "    c:\\users\\administrator\\appdata\\local\\programs\\python\\python310\\lib\\os.py\n",
      "\n",
      "\n"
     ]
    }
   ],
   "source": [
    "import os\n",
    "dir(os)\n",
    "help(os)"
   ]
  },
  {
   "cell_type": "markdown",
   "id": "712e6d53-ae42-4464-bf8b-18f62e076874",
   "metadata": {},
   "source": [
    "For daily file and directory management tasks, the [`shutil`](https://docs.python.org/3/library/shutil.html#module-shutil) module provides a higher level interface that is easier to use:\n",
    "\n",
    "> 对于日常的文件和目录管理任务，[`shutil`](https://docs.python.org/3/library/shutil.html#module-shutil)模块提供了一个更高层次的**界面**，更容易使用："
   ]
  },
  {
   "cell_type": "code",
   "execution_count": 4,
   "id": "0513810e-c259-4b3d-ba25-65cca969d4aa",
   "metadata": {},
   "outputs": [
    {
     "data": {
      "text/plain": [
       "'fibo1.py'"
      ]
     },
     "execution_count": 4,
     "metadata": {},
     "output_type": "execute_result"
    }
   ],
   "source": [
    "import shutil\n",
    "shutil.copyfile('fibo.py', 'fibo1.py')"
   ]
  },
  {
   "cell_type": "code",
   "execution_count": 5,
   "id": "702b9c69-ed1d-4ee6-9c11-9e57a3c133d1",
   "metadata": {},
   "outputs": [
    {
     "data": {
      "text/plain": [
       "'The Python Tutorial\\\\fibo1.py'"
      ]
     },
     "execution_count": 5,
     "metadata": {},
     "output_type": "execute_result"
    }
   ],
   "source": [
    "shutil.move('fibo1.py', 'The Python Tutorial')"
   ]
  },
  {
   "cell_type": "markdown",
   "id": "08c332d1-3fc8-4fc3-af91-fd5dfe7e7ab9",
   "metadata": {},
   "source": [
    "### File Wildcards"
   ]
  },
  {
   "cell_type": "markdown",
   "id": "5e22a99f-f330-4394-99a5-c7feeeb7f9a0",
   "metadata": {},
   "source": [
    "The [`glob`](https://docs.python.org/3/library/glob.html#module-glob) module provides a function for making file lists from directory wildcard searches:\n",
    "\n",
    "> [`glob`](https://docs.python.org/3/library/glob.html#module-glob)模块提供了一个从目录通配符搜索制作文件列表的功能："
   ]
  },
  {
   "cell_type": "code",
   "execution_count": 6,
   "id": "dfa4ff82-b92f-4e79-a0b4-a45b280a8829",
   "metadata": {},
   "outputs": [
    {
     "data": {
      "text/plain": [
       "['fibo.py']"
      ]
     },
     "execution_count": 6,
     "metadata": {},
     "output_type": "execute_result"
    }
   ],
   "source": [
    "import glob\n",
    "glob.glob('*.py')"
   ]
  },
  {
   "cell_type": "markdown",
   "id": "2f3002e8-b4af-46bb-a814-63b06a059792",
   "metadata": {},
   "source": [
    "### Command Line Arguments"
   ]
  },
  {
   "cell_type": "markdown",
   "id": "19def6b5-b07a-4ea9-897d-831ce0bec8ba",
   "metadata": {},
   "source": [
    "？？？\n",
    "Common utility scripts often need to process command line arguments. These arguments are stored in the [`sys`](https://docs.python.org/3/library/sys.html#module-sys) module’s *argv* attribute as a list.  For instance the following output results from running `python demo.py one two three` at the command line:\n",
    "\n",
    "> 普通的实用程序脚本经常需要处理**命令行参数**。这些参数以列表形式存储在[`sys`](https://docs.python.org/3/library/sys.html#module-sys)模块的*argv*属性中。 例如，在命令行运行 `python demo.py one two three` 会产生以下输出："
   ]
  },
  {
   "cell_type": "code",
   "execution_count": 7,
   "id": "3af15a86-e317-43f1-acc3-f8b3de8bff9a",
   "metadata": {},
   "outputs": [
    {
     "name": "stdout",
     "output_type": "stream",
     "text": [
      "['C:\\\\Users\\\\Administrator\\\\AppData\\\\Local\\\\Programs\\\\Python\\\\Python310\\\\lib\\\\site-packages\\\\ipykernel_launcher.py', '-f', 'C:\\\\Users\\\\Administrator\\\\AppData\\\\Roaming\\\\jupyter\\\\runtime\\\\kernel-5da8d39c-f331-4490-9ea4-3baa2277d895.json']\n"
     ]
    }
   ],
   "source": [
    "import sys\n",
    "print(sys.argv)"
   ]
  },
  {
   "cell_type": "code",
   "execution_count": 10,
   "id": "17a86ae7-aa0f-4da4-af9c-2678318b38a8",
   "metadata": {
    "scrolled": true,
    "tags": []
   },
   "outputs": [
    {
     "data": {
      "text/plain": [
       "['__breakpointhook__',\n",
       " '__displayhook__',\n",
       " '__doc__',\n",
       " '__excepthook__',\n",
       " '__interactivehook__',\n",
       " '__loader__',\n",
       " '__name__',\n",
       " '__package__',\n",
       " '__spec__',\n",
       " '__stderr__',\n",
       " '__stdin__',\n",
       " '__stdout__',\n",
       " '__unraisablehook__',\n",
       " '_base_executable',\n",
       " '_clear_type_cache',\n",
       " '_current_exceptions',\n",
       " '_current_frames',\n",
       " '_deactivate_opcache',\n",
       " '_debugmallocstats',\n",
       " '_enablelegacywindowsfsencoding',\n",
       " '_framework',\n",
       " '_getframe',\n",
       " '_git',\n",
       " '_home',\n",
       " '_xoptions',\n",
       " 'addaudithook',\n",
       " 'api_version',\n",
       " 'argv',\n",
       " 'audit',\n",
       " 'base_exec_prefix',\n",
       " 'base_prefix',\n",
       " 'breakpointhook',\n",
       " 'builtin_module_names',\n",
       " 'byteorder',\n",
       " 'call_tracing',\n",
       " 'copyright',\n",
       " 'displayhook',\n",
       " 'dllhandle',\n",
       " 'dont_write_bytecode',\n",
       " 'exc_info',\n",
       " 'excepthook',\n",
       " 'exec_prefix',\n",
       " 'executable',\n",
       " 'exit',\n",
       " 'flags',\n",
       " 'float_info',\n",
       " 'float_repr_style',\n",
       " 'get_asyncgen_hooks',\n",
       " 'get_coroutine_origin_tracking_depth',\n",
       " 'getallocatedblocks',\n",
       " 'getdefaultencoding',\n",
       " 'getfilesystemencodeerrors',\n",
       " 'getfilesystemencoding',\n",
       " 'getprofile',\n",
       " 'getrecursionlimit',\n",
       " 'getrefcount',\n",
       " 'getsizeof',\n",
       " 'getswitchinterval',\n",
       " 'gettrace',\n",
       " 'getwindowsversion',\n",
       " 'hash_info',\n",
       " 'hexversion',\n",
       " 'implementation',\n",
       " 'int_info',\n",
       " 'intern',\n",
       " 'is_finalizing',\n",
       " 'maxsize',\n",
       " 'maxunicode',\n",
       " 'meta_path',\n",
       " 'modules',\n",
       " 'orig_argv',\n",
       " 'path',\n",
       " 'path_hooks',\n",
       " 'path_importer_cache',\n",
       " 'platform',\n",
       " 'platlibdir',\n",
       " 'prefix',\n",
       " 'ps1',\n",
       " 'ps2',\n",
       " 'ps3',\n",
       " 'pycache_prefix',\n",
       " 'set_asyncgen_hooks',\n",
       " 'set_coroutine_origin_tracking_depth',\n",
       " 'setprofile',\n",
       " 'setrecursionlimit',\n",
       " 'setswitchinterval',\n",
       " 'settrace',\n",
       " 'stderr',\n",
       " 'stdin',\n",
       " 'stdlib_module_names',\n",
       " 'stdout',\n",
       " 'thread_info',\n",
       " 'unraisablehook',\n",
       " 'version',\n",
       " 'version_info',\n",
       " 'warnoptions',\n",
       " 'winver']"
      ]
     },
     "execution_count": 10,
     "metadata": {},
     "output_type": "execute_result"
    },
    {
     "name": "stdout",
     "output_type": "stream",
     "text": [
      "Help on built-in module sys:\n",
      "\n",
      "NAME\n",
      "    sys\n",
      "\n",
      "MODULE REFERENCE\n",
      "    https://docs.python.org/3.10/library/sys.html\n",
      "    \n",
      "    The following documentation is automatically generated from the Python\n",
      "    source files.  It may be incomplete, incorrect or include features that\n",
      "    are considered implementation detail and may vary between Python\n",
      "    implementations.  When in doubt, consult the module reference at the\n",
      "    location listed above.\n",
      "\n",
      "DESCRIPTION\n",
      "    This module provides access to some objects used or maintained by the\n",
      "    interpreter and to functions that interact strongly with the interpreter.\n",
      "    \n",
      "    Dynamic objects:\n",
      "    \n",
      "    argv -- command line arguments; argv[0] is the script pathname if known\n",
      "    path -- module search path; path[0] is the script directory, else ''\n",
      "    modules -- dictionary of loaded modules\n",
      "    \n",
      "    displayhook -- called to show results in an interactive session\n",
      "    excepthook -- called to handle any uncaught exception other than SystemExit\n",
      "      To customize printing in an interactive session or to install a custom\n",
      "      top-level exception handler, assign other functions to replace these.\n",
      "    \n",
      "    stdin -- standard input file object; used by input()\n",
      "    stdout -- standard output file object; used by print()\n",
      "    stderr -- standard error object; used for error messages\n",
      "      By assigning other file objects (or objects that behave like files)\n",
      "      to these, it is possible to redirect all of the interpreter's I/O.\n",
      "    \n",
      "    last_type -- type of last uncaught exception\n",
      "    last_value -- value of last uncaught exception\n",
      "    last_traceback -- traceback of last uncaught exception\n",
      "      These three are only available in an interactive session after a\n",
      "      traceback has been printed.\n",
      "    \n",
      "    Static objects:\n",
      "    \n",
      "    builtin_module_names -- tuple of module names built into this interpreter\n",
      "    copyright -- copyright notice pertaining to this interpreter\n",
      "    exec_prefix -- prefix used to find the machine-specific Python library\n",
      "    executable -- absolute path of the executable binary of the Python interpreter\n",
      "    float_info -- a named tuple with information about the float implementation.\n",
      "    float_repr_style -- string indicating the style of repr() output for floats\n",
      "    hash_info -- a named tuple with information about the hash algorithm.\n",
      "    hexversion -- version information encoded as a single integer\n",
      "    implementation -- Python implementation information.\n",
      "    int_info -- a named tuple with information about the int implementation.\n",
      "    maxsize -- the largest supported length of containers.\n",
      "    maxunicode -- the value of the largest Unicode code point\n",
      "    platform -- platform identifier\n",
      "    prefix -- prefix used to find the Python library\n",
      "    thread_info -- a named tuple with information about the thread implementation.\n",
      "    version -- the version of this interpreter as a string\n",
      "    version_info -- version information as a named tuple\n",
      "    dllhandle -- [Windows only] integer handle of the Python DLL\n",
      "    winver -- [Windows only] version number of the Python DLL\n",
      "    _enablelegacywindowsfsencoding -- [Windows only]\n",
      "    __stdin__ -- the original stdin; don't touch!\n",
      "    __stdout__ -- the original stdout; don't touch!\n",
      "    __stderr__ -- the original stderr; don't touch!\n",
      "    __displayhook__ -- the original displayhook; don't touch!\n",
      "    __excepthook__ -- the original excepthook; don't touch!\n",
      "    \n",
      "    Functions:\n",
      "    \n",
      "    displayhook() -- print an object to the screen, and save it in builtins._\n",
      "    excepthook() -- print an exception and its traceback to sys.stderr\n",
      "    exc_info() -- return thread-safe information about the current exception\n",
      "    exit() -- exit the interpreter by raising SystemExit\n",
      "    getdlopenflags() -- returns flags to be used for dlopen() calls\n",
      "    getprofile() -- get the global profiling function\n",
      "    getrefcount() -- return the reference count for an object (plus one :-)\n",
      "    getrecursionlimit() -- return the max recursion depth for the interpreter\n",
      "    getsizeof() -- return the size of an object in bytes\n",
      "    gettrace() -- get the global debug tracing function\n",
      "    setdlopenflags() -- set the flags to be used for dlopen() calls\n",
      "    setprofile() -- set the global profiling function\n",
      "    setrecursionlimit() -- set the max recursion depth for the interpreter\n",
      "    settrace() -- set the global debug tracing function\n",
      "\n",
      "FUNCTIONS\n",
      "    __breakpointhook__ = breakpointhook(...)\n",
      "        breakpointhook(*args, **kws)\n",
      "        \n",
      "        This hook function is called by built-in breakpoint().\n",
      "    \n",
      "    __displayhook__ = displayhook(object, /)\n",
      "        Print an object to sys.stdout and also save it in builtins._\n",
      "    \n",
      "    __excepthook__ = excepthook(exctype, value, traceback, /)\n",
      "        Handle an exception by displaying it with a traceback on sys.stderr.\n",
      "    \n",
      "    __unraisablehook__ = unraisablehook(unraisable, /)\n",
      "        Handle an unraisable exception.\n",
      "        \n",
      "        The unraisable argument has the following attributes:\n",
      "        \n",
      "        * exc_type: Exception type.\n",
      "        * exc_value: Exception value, can be None.\n",
      "        * exc_traceback: Exception traceback, can be None.\n",
      "        * err_msg: Error message, can be None.\n",
      "        * object: Object causing the exception, can be None.\n",
      "    \n",
      "    addaudithook(hook)\n",
      "        Adds a new audit hook callback.\n",
      "    \n",
      "    audit(...)\n",
      "        audit(event, *args)\n",
      "        \n",
      "        Passes the event to any audit hooks that are attached.\n",
      "    \n",
      "    call_tracing(func, args, /)\n",
      "        Call func(*args), while tracing is enabled.\n",
      "        \n",
      "        The tracing state is saved, and restored afterwards.  This is intended\n",
      "        to be called from a debugger from a checkpoint, to recursively debug\n",
      "        some other code.\n",
      "    \n",
      "    exc_info()\n",
      "        Return current exception information: (type, value, traceback).\n",
      "        \n",
      "        Return information about the most recent exception caught by an except\n",
      "        clause in the current stack frame or in an older stack frame.\n",
      "    \n",
      "    exit(status=None, /)\n",
      "        Exit the interpreter by raising SystemExit(status).\n",
      "        \n",
      "        If the status is omitted or None, it defaults to zero (i.e., success).\n",
      "        If the status is an integer, it will be used as the system exit status.\n",
      "        If it is another kind of object, it will be printed and the system\n",
      "        exit status will be one (i.e., failure).\n",
      "    \n",
      "    get_asyncgen_hooks()\n",
      "        Return the installed asynchronous generators hooks.\n",
      "        \n",
      "        This returns a namedtuple of the form (firstiter, finalizer).\n",
      "    \n",
      "    get_coroutine_origin_tracking_depth()\n",
      "        Check status of origin tracking for coroutine objects in this thread.\n",
      "    \n",
      "    getallocatedblocks()\n",
      "        Return the number of memory blocks currently allocated.\n",
      "    \n",
      "    getdefaultencoding()\n",
      "        Return the current default encoding used by the Unicode implementation.\n",
      "    \n",
      "    getfilesystemencodeerrors()\n",
      "        Return the error mode used Unicode to OS filename conversion.\n",
      "    \n",
      "    getfilesystemencoding()\n",
      "        Return the encoding used to convert Unicode filenames to OS filenames.\n",
      "    \n",
      "    getprofile()\n",
      "        Return the profiling function set with sys.setprofile.\n",
      "        \n",
      "        See the profiler chapter in the library manual.\n",
      "    \n",
      "    getrecursionlimit()\n",
      "        Return the current value of the recursion limit.\n",
      "        \n",
      "        The recursion limit is the maximum depth of the Python interpreter\n",
      "        stack.  This limit prevents infinite recursion from causing an overflow\n",
      "        of the C stack and crashing Python.\n",
      "    \n",
      "    getrefcount(object, /)\n",
      "        Return the reference count of object.\n",
      "        \n",
      "        The count returned is generally one higher than you might expect,\n",
      "        because it includes the (temporary) reference as an argument to\n",
      "        getrefcount().\n",
      "    \n",
      "    getsizeof(...)\n",
      "        getsizeof(object [, default]) -> int\n",
      "        \n",
      "        Return the size of object in bytes.\n",
      "    \n",
      "    getswitchinterval()\n",
      "        Return the current thread switch interval; see sys.setswitchinterval().\n",
      "    \n",
      "    gettrace()\n",
      "        Return the global debug tracing function set with sys.settrace.\n",
      "        \n",
      "        See the debugger chapter in the library manual.\n",
      "    \n",
      "    getwindowsversion()\n",
      "        Return info about the running version of Windows as a named tuple.\n",
      "        \n",
      "        The members are named: major, minor, build, platform, service_pack,\n",
      "        service_pack_major, service_pack_minor, suite_mask, product_type and\n",
      "        platform_version. For backward compatibility, only the first 5 items\n",
      "        are available by indexing. All elements are numbers, except\n",
      "        service_pack and platform_type which are strings, and platform_version\n",
      "        which is a 3-tuple. Platform is always 2. Product_type may be 1 for a\n",
      "        workstation, 2 for a domain controller, 3 for a server.\n",
      "        Platform_version is a 3-tuple containing a version number that is\n",
      "        intended for identifying the OS rather than feature detection.\n",
      "    \n",
      "    intern(string, /)\n",
      "        ``Intern'' the given string.\n",
      "        \n",
      "        This enters the string in the (global) table of interned strings whose\n",
      "        purpose is to speed up dictionary lookups. Return the string itself or\n",
      "        the previously interned string object with the same value.\n",
      "    \n",
      "    is_finalizing()\n",
      "        Return True if Python is exiting.\n",
      "    \n",
      "    set_asyncgen_hooks(...)\n",
      "        set_asyncgen_hooks(* [, firstiter] [, finalizer])\n",
      "        \n",
      "        Set a finalizer for async generators objects.\n",
      "    \n",
      "    set_coroutine_origin_tracking_depth(depth)\n",
      "        Enable or disable origin tracking for coroutine objects in this thread.\n",
      "        \n",
      "        Coroutine objects will track 'depth' frames of traceback information\n",
      "        about where they came from, available in their cr_origin attribute.\n",
      "        \n",
      "        Set a depth of 0 to disable.\n",
      "    \n",
      "    setprofile(...)\n",
      "        setprofile(function)\n",
      "        \n",
      "        Set the profiling function.  It will be called on each function call\n",
      "        and return.  See the profiler chapter in the library manual.\n",
      "    \n",
      "    setrecursionlimit(limit, /)\n",
      "        Set the maximum depth of the Python interpreter stack to n.\n",
      "        \n",
      "        This limit prevents infinite recursion from causing an overflow of the C\n",
      "        stack and crashing Python.  The highest possible limit is platform-\n",
      "        dependent.\n",
      "    \n",
      "    setswitchinterval(interval, /)\n",
      "        Set the ideal thread switching delay inside the Python interpreter.\n",
      "        \n",
      "        The actual frequency of switching threads can be lower if the\n",
      "        interpreter executes long sequences of uninterruptible code\n",
      "        (this is implementation-specific and workload-dependent).\n",
      "        \n",
      "        The parameter must represent the desired switching delay in seconds\n",
      "        A typical value is 0.005 (5 milliseconds).\n",
      "    \n",
      "    settrace(...)\n",
      "        settrace(function)\n",
      "        \n",
      "        Set the global debug tracing function.  It will be called on each\n",
      "        function call.  See the debugger chapter in the library manual.\n",
      "    \n",
      "    unraisablehook(unraisable, /)\n",
      "        Handle an unraisable exception.\n",
      "        \n",
      "        The unraisable argument has the following attributes:\n",
      "        \n",
      "        * exc_type: Exception type.\n",
      "        * exc_value: Exception value, can be None.\n",
      "        * exc_traceback: Exception traceback, can be None.\n",
      "        * err_msg: Error message, can be None.\n",
      "        * object: Object causing the exception, can be None.\n",
      "\n",
      "DATA\n",
      "    __stderr__ = <_io.TextIOWrapper name='<stderr>' mode='w' encoding='utf...\n",
      "    __stdin__ = <_io.TextIOWrapper name='<stdin>' mode='r' encoding='gbk'>\n",
      "    __stdout__ = <_io.TextIOWrapper name='<stdout>' mode='w' encoding='utf...\n",
      "    api_version = 1013\n",
      "    argv = [r'C:\\Users\\Administrator\\AppData\\Local\\Programs\\Py...Python310...\n",
      "    base_exec_prefix = r'C:\\Users\\Administrator\\AppData\\Local\\Programs\\Pyt...\n",
      "    base_prefix = r'C:\\Users\\Administrator\\AppData\\Local\\Programs\\Python\\P...\n",
      "    builtin_module_names = ('_abc', '_ast', '_bisect', '_blake2', '_codecs...\n",
      "    byteorder = 'little'\n",
      "    copyright = 'Copyright (c) 2001-2022 Python Software Foundati...ematis...\n",
      "    displayhook = <ipykernel.displayhook.ZMQShellDisplayHook object>\n",
      "    dllhandle = 140706447753216\n",
      "    dont_write_bytecode = False\n",
      "    exec_prefix = r'C:\\Users\\Administrator\\AppData\\Local\\Programs\\Python\\P...\n",
      "    executable = r'C:\\Users\\Administrator\\AppData\\Local\\Programs\\Python\\Py...\n",
      "    flags = sys.flags(debug=0, inspect=0, interactive=0, opt...mode=False,...\n",
      "    float_info = sys.float_info(max=1.7976931348623157e+308, max_...epsilo...\n",
      "    float_repr_style = 'short'\n",
      "    hash_info = sys.hash_info(width=64, modulus=2305843009213693...iphash2...\n",
      "    hexversion = 50988784\n",
      "    implementation = namespace(name='cpython', cache_tag='cpython-310...as...\n",
      "    int_info = sys.int_info(bits_per_digit=30, sizeof_digit=4)\n",
      "    maxsize = 9223372036854775807\n",
      "    maxunicode = 1114111\n",
      "    meta_path = [<_distutils_hack.DistutilsMetaFinder object>, <class '_fr...\n",
      "    modules = {'IPython': <module 'IPython' from 'C:\\\\Users\\\\Administrator...\n",
      "    orig_argv = [r'C:\\Users\\Administrator\\AppData\\Local\\Programs\\Python\\Py...\n",
      "    path = [r'D:\\GitHub\\computer-science-practicing\\Python Practise', r'C:...\n",
      "    path_hooks = [<class 'zipimport.zipimporter'>, <function FileFinder.pa...\n",
      "    path_importer_cache = {r'C:\\Users\\Administrator\\.ipython\\extensions': ...\n",
      "    platform = 'win32'\n",
      "    platlibdir = 'lib'\n",
      "    prefix = r'C:\\Users\\Administrator\\AppData\\Local\\Programs\\Python\\Python...\n",
      "    ps1 = 'In : '\n",
      "    ps2 = '...: '\n",
      "    ps3 = 'Out: '\n",
      "    pycache_prefix = None\n",
      "    stderr = <ipykernel.iostream.OutStream object>\n",
      "    stdin = <_io.TextIOWrapper name='<stdin>' mode='r' encoding='gbk'>\n",
      "    stdlib_module_names = frozenset({'__future__', '_abc', '_aix_support',...\n",
      "    stdout = <ipykernel.iostream.OutStream object>\n",
      "    thread_info = sys.thread_info(name='nt', lock=None, version=None)\n",
      "    version = '3.10.6 (tags/v3.10.6:9c7b4bd, Aug  1 2022, 21:53:49) [MSC v...\n",
      "    version_info = sys.version_info(major=3, minor=10, micro=6, releaselev...\n",
      "    warnoptions = []\n",
      "    winver = '3.10'\n",
      "\n",
      "FILE\n",
      "    (built-in)\n",
      "\n",
      "\n"
     ]
    }
   ],
   "source": [
    "dir(sys)\n",
    "help(sys)"
   ]
  },
  {
   "cell_type": "markdown",
   "id": "927b49b9-4c3a-4501-816f-4d0b82df5976",
   "metadata": {},
   "source": [
    "The [`argparse`](https://docs.python.org/3/library/argparse.html#module-argparse) module provides a more sophisticated mechanism to process command line arguments.  The following script extracts one or more filenames and an optional number of lines to be displayed:\n",
    "\n",
    "> [`argparse`](https://docs.python.org/3/library/argparse.html#module-argparse)模块提供了一个更复杂的机制来处理命令行参数。 下面的脚本提取了一个或多个文件名和可选的行数来显示："
   ]
  },
  {
   "cell_type": "code",
   "execution_count": 12,
   "id": "c57eecf3-abad-431d-a888-048237bd04e0",
   "metadata": {},
   "outputs": [
    {
     "data": {
      "text/plain": [
       "_StoreAction(option_strings=[], dest='filenames', nargs='+', const=None, default=None, type=None, choices=None, required=True, help=None, metavar=None)"
      ]
     },
     "execution_count": 12,
     "metadata": {},
     "output_type": "execute_result"
    },
    {
     "data": {
      "text/plain": [
       "_StoreAction(option_strings=['-1', '--linies'], dest='linies', nargs=None, const=None, default=10, type=<class 'int'>, choices=None, required=False, help=None, metavar=None)"
      ]
     },
     "execution_count": 12,
     "metadata": {},
     "output_type": "execute_result"
    },
    {
     "name": "stderr",
     "output_type": "stream",
     "text": [
      "usage: top [-h] [-1 LINIES] filenames [filenames ...]\n",
      "top: error: unrecognized arguments: -f\n"
     ]
    },
    {
     "ename": "SystemExit",
     "evalue": "2",
     "output_type": "error",
     "traceback": [
      "An exception has occurred, use %tb to see the full traceback.\n",
      "\u001b[1;31mSystemExit\u001b[0m\u001b[1;31m:\u001b[0m 2\n"
     ]
    },
    {
     "name": "stderr",
     "output_type": "stream",
     "text": [
      "C:\\Users\\Administrator\\AppData\\Local\\Programs\\Python\\Python310\\lib\\site-packages\\IPython\\core\\interactiveshell.py:3377: UserWarning: To exit: use 'exit', 'quit', or Ctrl-D.\n",
      "  warn(\"To exit: use 'exit', 'quit', or Ctrl-D.\", stacklevel=1)\n"
     ]
    }
   ],
   "source": [
    "import argparse\n",
    "\n",
    "parse = argparse.ArgumentParser(\n",
    "    prog='top',\n",
    "    description='Show top lines from each file')\n",
    "parse.add_argument('filenames', nargs='+')\n",
    "parse.add_argument('-1', '--linies', type=int, default=10)\n",
    "args = parse.parse_args()\n",
    "print(args)"
   ]
  },
  {
   "cell_type": "markdown",
   "id": "b1474100-2e54-4543-add0-3aedf3d7e411",
   "metadata": {},
   "source": [
    "???When run at the command line with `python top.py --lines=5 alpha.txt beta.txt`, the script sets `args.lines` to `5` and `args.filenames` to `['alpha.txt', 'beta.txt']`."
   ]
  },
  {
   "cell_type": "markdown",
   "id": "70c8d561-3268-4fd2-900f-9e438803f928",
   "metadata": {},
   "source": [
    "### Error Output Redirection and Program Termination"
   ]
  },
  {
   "cell_type": "markdown",
   "id": "8fea691d-29fd-40df-bb76-7f081b983d05",
   "metadata": {},
   "source": [
    "The [`sys`](https://docs.python.org/3/library/sys.html#module-sys) module also has attributes for *stdin*, *stdout*, and *stderr*. The latter is useful for emitting warnings and error messages to make them visible even when *stdout* has been redirected:\n",
    "\n",
    "> [`sys`](https://docs.python.org/3/library/sys.html#module-sys)模块也有*stdin*、*stdout*和*stderr*的属性。后者对于**发出警告和错误信息**很有用，使它们在*stdout*被重定向时也能看到："
   ]
  },
  {
   "cell_type": "code",
   "execution_count": 13,
   "id": "7a6c285e-6cd3-471a-91a9-6f0f67911374",
   "metadata": {},
   "outputs": [
    {
     "name": "stderr",
     "output_type": "stream",
     "text": [
      "Warning, log file not found starting a new one\n"
     ]
    },
    {
     "data": {
      "text/plain": [
       "47"
      ]
     },
     "execution_count": 13,
     "metadata": {},
     "output_type": "execute_result"
    }
   ],
   "source": [
    "sys.stderr.write('Warning, log file not found starting a new one\\n')"
   ]
  },
  {
   "cell_type": "markdown",
   "id": "f979dc44-0804-460b-bd74-4f1404c7d4ee",
   "metadata": {},
   "source": [
    "The most direct way to terminate a script is to use `sys.exit()`.\n",
    "\n",
    "> 终止一个脚本的最直接方法是使用`sys.exit()`。"
   ]
  },
  {
   "cell_type": "markdown",
   "id": "6b7fbc05-824b-4ac9-961d-6914ad43f0ab",
   "metadata": {},
   "source": [
    "### Mathematics"
   ]
  },
  {
   "cell_type": "markdown",
   "id": "a4a684ca-6e28-44e7-9273-4a4403189f88",
   "metadata": {},
   "source": [
    "The [`math`](https://docs.python.org/3/library/math.html#module-math) module gives access to the underlying C library functions for floating point math:\n",
    "\n",
    "> [`math`](https://docs.python.org/3/library/math.html#module-math)模块可以访问浮点数学的**基础C库函数**。"
   ]
  },
  {
   "cell_type": "code",
   "execution_count": 14,
   "id": "80c1e5e5-6226-4001-9aa3-bce992480095",
   "metadata": {},
   "outputs": [
    {
     "data": {
      "text/plain": [
       "0.7071067811865476"
      ]
     },
     "execution_count": 14,
     "metadata": {},
     "output_type": "execute_result"
    },
    {
     "data": {
      "text/plain": [
       "10.0"
      ]
     },
     "execution_count": 14,
     "metadata": {},
     "output_type": "execute_result"
    }
   ],
   "source": [
    "import math\n",
    "math.cos(math.pi / 4)\n",
    "math.log(1024, 2)"
   ]
  },
  {
   "cell_type": "markdown",
   "id": "fb31479a-36a5-41a8-b07a-151946f3e2fb",
   "metadata": {},
   "source": [
    "The [`random`](https://docs.python.org/3/library/random.html#module-random) module provides tools for making random selections:\n",
    "\n",
    "> [`random`](https://docs.python.org/3/library/random.html#module-random)模块提供了进行随机选择的工具："
   ]
  },
  {
   "cell_type": "code",
   "execution_count": 15,
   "id": "1b7d284d-37d7-456c-bace-ad7fbbcf0fcd",
   "metadata": {},
   "outputs": [
    {
     "data": {
      "text/plain": [
       "'pear'"
      ]
     },
     "execution_count": 15,
     "metadata": {},
     "output_type": "execute_result"
    },
    {
     "data": {
      "text/plain": [
       "[26, 33, 92, 53, 47, 82, 61, 11, 99, 27]"
      ]
     },
     "execution_count": 15,
     "metadata": {},
     "output_type": "execute_result"
    },
    {
     "data": {
      "text/plain": [
       "0.7476880338093277"
      ]
     },
     "execution_count": 15,
     "metadata": {},
     "output_type": "execute_result"
    },
    {
     "data": {
      "text/plain": [
       "3"
      ]
     },
     "execution_count": 15,
     "metadata": {},
     "output_type": "execute_result"
    }
   ],
   "source": [
    "import random\n",
    "random.choice(['apple', 'pear', 'banana'])\n",
    "\n",
    "random.sample(range(100), 10)    # sampling without replacement\n",
    "\n",
    "random.random()    # random float\n",
    "\n",
    "random.randrange(6)    # random integer chosen from range(6)"
   ]
  },
  {
   "cell_type": "markdown",
   "id": "1adb17a0-a442-40f1-ba00-ff795e2c7588",
   "metadata": {},
   "source": [
    "The [`statistics`](https://docs.python.org/3/library/statistics.html#module-statistics) module calculates basic statistical properties (the mean, median, variance, etc.) of numeric data:\n",
    "\n",
    "> [`statistics`](https://docs.python.org/3/library/statistics.html#module-statistics)模块计算数字数据的**基本统计属性**（平均值、中位数、**方差**等）："
   ]
  },
  {
   "cell_type": "code",
   "execution_count": 16,
   "id": "5408782e-b26b-4f2a-ba7e-006587a5a187",
   "metadata": {},
   "outputs": [
    {
     "data": {
      "text/plain": [
       "1.6071428571428572"
      ]
     },
     "execution_count": 16,
     "metadata": {},
     "output_type": "execute_result"
    },
    {
     "data": {
      "text/plain": [
       "1.25"
      ]
     },
     "execution_count": 16,
     "metadata": {},
     "output_type": "execute_result"
    },
    {
     "data": {
      "text/plain": [
       "1.3720238095238095"
      ]
     },
     "execution_count": 16,
     "metadata": {},
     "output_type": "execute_result"
    }
   ],
   "source": [
    "import statistics\n",
    "data = [2.75, 1.75, 1.25, 0.25, 0.5, 1.25, 3.5]\n",
    "statistics.mean(data)\n",
    "statistics.median(data)\n",
    "statistics.variance(data)"
   ]
  },
  {
   "cell_type": "markdown",
   "id": "811b7f8f-680a-4689-83c4-baf46941c0da",
   "metadata": {},
   "source": [
    "The SciPy project <https://scipy.org> has many other modules for numerical computations.\n",
    "\n",
    "> SciPy项目<https://scipy.org>有许多其他用于**数值计算**的模块。"
   ]
  },
  {
   "cell_type": "markdown",
   "id": "6c6c5cde-d5fc-4739-8968-64829c31afaf",
   "metadata": {},
   "source": [
    "### Internet Access"
   ]
  },
  {
   "cell_type": "markdown",
   "id": "e59e649e-d71c-4cb3-84a0-c59f67c5e105",
   "metadata": {},
   "source": [
    "There are a number of modules for accessing the internet and processing internet protocols. Two of the simplest are [`urllib.request`](https://docs.python.org/3/library/urllib.request.html#module-urllib.request) for retrieving data from URLs and [`smtplib`](https://docs.python.org/3/library/smtplib.html#module-smtplib) for sending mail:\n",
    "\n",
    "> 有许多模块用于**访问互联网和处理互联网协议**。其中最简单的两个模块是用于从URL检索数据的[`urllib.request`](https://docs.python.org/3/library/urllib.request.html#module-urllib.request)和用于发送邮件的[`smtplib`](https://docs.python.org/3/library/smtplib.html#module-smtplib)："
   ]
  },
  {
   "cell_type": "code",
   "execution_count": 18,
   "id": "f5b60a2c-8588-4366-b4a3-b30214c6419a",
   "metadata": {},
   "outputs": [
    {
     "name": "stdout",
     "output_type": "stream",
     "text": [
      "datetime: 2022-09-29T09:20:37.318439+00:00\n"
     ]
    }
   ],
   "source": [
    "from urllib.request import urlopen\n",
    "with urlopen('http://worldtimeapi.org/api/timezone/etc/UTC.txt') as response:\n",
    "    for line in response:\n",
    "        line = line.decode()    # Convert bytes to a str\n",
    "        if line.startswith('datetime'):\n",
    "            print(line.rstrip())    # Remove trailing newline"
   ]
  },
  {
   "cell_type": "raw",
   "id": "5e94042d-fbd9-4180-b223-502ccda206b6",
   "metadata": {},
   "source": [
    "# (Note that the second example needs a mailserver running on localhost.)\n",
    "import smtplib\n",
    "server = smtplib.SMTP('localhost')\n",
    "server.sendmail('soothsayer@example.org', 'jcaesar@example.org',\n",
    "    \"\"\"To: jcaesar@example.org\n",
    "    From: soothsayer@example.org\n",
    "\n",
    "    Beware the Ides of March.\n",
    "    \"\"\")\n",
    "server.quit()"
   ]
  },
  {
   "cell_type": "markdown",
   "id": "e98934ec-997a-4b2b-a5f7-4501b5f95017",
   "metadata": {},
   "source": [
    "### Dates and Times"
   ]
  },
  {
   "cell_type": "markdown",
   "id": "6cbc64c2-66b1-48b8-b476-0dffa45f1a23",
   "metadata": {},
   "source": [
    "The [`datetime`](https://docs.python.org/3/library/datetime.html#module-datetime) module supplies classes for manipulating dates and times in both simple and complex ways. While date and time arithmetic is supported, the focus of the implementation is on efficient member extraction for output formatting and manipulation.  The module also supports objects that are timezone aware.\n",
    "\n",
    "> [`datetime`](https://docs.python.org/3/library/datetime.html#module-datetime)模块提供了用于以简单和复杂的方式**操作日期和时间**的类。虽然支持日期和时间的运算，但实现的重点是高效的**成员提取**，以便进行**输出格式化和操作**。 该模块还支持具有时区意识的对象。"
   ]
  },
  {
   "cell_type": "code",
   "execution_count": 21,
   "id": "84dacefc-3449-4e08-9082-c3cdbb8a7e19",
   "metadata": {},
   "outputs": [
    {
     "data": {
      "text/plain": [
       "datetime.date(2022, 9, 29)"
      ]
     },
     "execution_count": 21,
     "metadata": {},
     "output_type": "execute_result"
    },
    {
     "data": {
      "text/plain": [
       "'09-29-22. 29 Sep 2022 is a Thursday on the 29 day of September.'"
      ]
     },
     "execution_count": 21,
     "metadata": {},
     "output_type": "execute_result"
    },
    {
     "data": {
      "text/plain": [
       "21244"
      ]
     },
     "execution_count": 21,
     "metadata": {},
     "output_type": "execute_result"
    }
   ],
   "source": [
    "# dates are easily constructed and formatted\n",
    "from datetime import date\n",
    "now = date.today()\n",
    "now\n",
    "\n",
    "now.strftime(\"%m-%d-%y. %d %b %Y is a %A on the %d day of %B.\")\n",
    "\n",
    "# dates support calendar arithmetic\n",
    "birthday = date(1964, 7, 31)\n",
    "age = now - birthday\n",
    "age.days"
   ]
  },
  {
   "cell_type": "markdown",
   "id": "2c7edb5b-ff79-4342-95ca-894bdd847027",
   "metadata": {},
   "source": [
    "### Data Compression"
   ]
  },
  {
   "cell_type": "markdown",
   "id": "f93fd6fc-bd92-4d25-9a02-770f0fb40fe8",
   "metadata": {},
   "source": [
    "Common data archiving and compression formats are directly supported by modules including: [`zlib`](https://docs.python.org/3/library/zlib.html#module-zlib), [`gzip`](https://docs.python.org/3/library/gzip.html#module-gzip), [`bz2`](https://docs.python.org/3/library/bz2.html#module-bz2), [`lzma`](https://docs.python.org/3/library/lzma.html#module-lzma), [`zipfile`](https://docs.python.org/3/library/zipfile.html#module-zipfile) and [`tarfile`](https://docs.python.org/3/library/tarfile.html#module-tarfile).\n",
    "\n",
    "> 常见的**数据归档和压缩格式**由模块直接支持，包括。[`zlib`](https://docs.python.org/3/library/zlib.html#module-zlib), [`gzip`](https://docs.python.org/3/library/gzip.html#module-gzip), [`bz2`](https://docs.python.org/3/library/bz2.html#module-bz2), [`lzma`](https://docs.python.org/3/library/lzma.html#module-lzma), [`zipfile`](https://docs.python.org/3/library/zipfile.html#module-zipfile) 和 [`tarfile`](https://docs.python.org/3/library/tarfile.html#module-tarfile) 。"
   ]
  },
  {
   "cell_type": "code",
   "execution_count": 3,
   "id": "cd930396-2341-4b85-b8eb-3c6c91eed1cd",
   "metadata": {},
   "outputs": [
    {
     "data": {
      "text/plain": [
       "41"
      ]
     },
     "execution_count": 3,
     "metadata": {},
     "output_type": "execute_result"
    },
    {
     "data": {
      "text/plain": [
       "37"
      ]
     },
     "execution_count": 3,
     "metadata": {},
     "output_type": "execute_result"
    },
    {
     "data": {
      "text/plain": [
       "b'witch which has which witches wrist watch'"
      ]
     },
     "execution_count": 3,
     "metadata": {},
     "output_type": "execute_result"
    },
    {
     "data": {
      "text/plain": [
       "226805979"
      ]
     },
     "execution_count": 3,
     "metadata": {},
     "output_type": "execute_result"
    }
   ],
   "source": [
    "import zlib\n",
    "s = b'witch which has which witches wrist watch'\n",
    "len(s)\n",
    "\n",
    "t = zlib.compress(s)\n",
    "len(t)\n",
    "\n",
    "zlib.decompress(t)\n",
    "zlib.crc32(s)"
   ]
  },
  {
   "cell_type": "markdown",
   "id": "dae23755-ba18-44d5-a888-23f72f48e9b4",
   "metadata": {},
   "source": [
    "### Performance Measurement"
   ]
  },
  {
   "cell_type": "markdown",
   "id": "9a5feaae-1eac-44fd-beff-55bd865e5f66",
   "metadata": {},
   "source": [
    "Some Python users develop a deep interest in knowing the relative performance of different approaches to the same problem. Python provides a measurement tool that answers those questions immediately.\n",
    "\n",
    "For example, it may be tempting to use the tuple packing and unpacking feature instead of the traditional approach to swapping arguments. The [`timeit`](https://docs.python.org/3/library/timeit.html#module-timeit) module quickly demonstrates a modest performance advantage:\n",
    "\n",
    "> 一些Python用户对了解处理同一问题的不同方法的**相对性能**产生了浓厚的兴趣。Python 提供了一个**测量工具**，可以立即回答这些问题。\n",
    ">\n",
    "> 例如，使用**元组打包和解包功能**，而不是传统的交换参数的方法，可能很有诱惑力。[`timeit`](https://docs.python.org/3/library/timeit.html#module-timeit)模块很快展示了适度的性能优势："
   ]
  },
  {
   "cell_type": "code",
   "execution_count": 5,
   "id": "dc5a95e0-545c-4479-a362-ef05bf860e14",
   "metadata": {},
   "outputs": [
    {
     "data": {
      "text/plain": [
       "0.027962099999967904"
      ]
     },
     "execution_count": 5,
     "metadata": {},
     "output_type": "execute_result"
    },
    {
     "data": {
      "text/plain": [
       "0.021923100000094564"
      ]
     },
     "execution_count": 5,
     "metadata": {},
     "output_type": "execute_result"
    }
   ],
   "source": [
    "from timeit import Timer\n",
    "Timer('t=a; a=b; b=t', 'a=1; b=2').timeit()\n",
    "Timer('a,b = b,a', 'a=1; b=2').timeit()"
   ]
  },
  {
   "cell_type": "markdown",
   "id": "cacaa158-b9b3-4bfb-acc7-50371a3cb648",
   "metadata": {},
   "source": [
    "In contrast to [`timeit`](https://docs.python.org/3/library/timeit.html#module-timeit)’s fine level of granularity, the [`profile`](https://docs.python.org/3/library/profile.html#module-profile) and [`pstats`](https://docs.python.org/3/library/profile.html#module-pstats) modules provide tools for identifying time critical sections in larger blocks of code.\n",
    "\n",
    "> 与[`timeit`](https://docs.python.org/3/library/timeit.html#module-timeit)的**细粒度**相比，[`profile`](https://docs.python.org/3/library/profile.html#module-profile)和[`pstats`](https://docs.python.org/3/library/profile.html#module-pstats)模块提供了识别较大代码块中时间关键部分的工具。"
   ]
  },
  {
   "cell_type": "markdown",
   "id": "df2e43ce-b56e-4045-bb94-69d4abd474e9",
   "metadata": {},
   "source": [
    "### Quality Control"
   ]
  },
  {
   "cell_type": "markdown",
   "id": "1642bab7-23f7-41e3-a2ce-59af3b9910a6",
   "metadata": {},
   "source": [
    "One approach for developing high quality software is to write tests for each function as it is developed and to run those tests frequently during the development process.\n",
    "\n",
    "The [`doctest`](https://docs.python.org/3/library/doctest.html#module-doctest) module provides a tool for scanning a module and validating tests embedded in a program’s docstrings.  Test construction is as simple as cutting-and-pasting a typical call along with its results into the docstring. This improves the documentation by providing the user with an example and it allows the doctest module to make sure the code remains true to the documentation:\n",
    "\n",
    "> 开发高质量软件的一种方法是在开发过程中为每个功能**编写测试**，并在开发过程中经常运行这些测试。\n",
    ">\n",
    "> [`doctest`](https://docs.python.org/3/library/doctest.html#module-doctest)模块提供了一个**扫描模块**和验证嵌入程序文件串的测试的工具。 测试的构建很简单，就是把典型的调用和它的结果一起剪切并粘贴到**文档字符串**中。这通过向用户提供一个例子来改进文档，并允许doctest模块确保代码与文档保持一致："
   ]
  },
  {
   "cell_type": "code",
   "execution_count": 7,
   "id": "9a5ed481-bb21-484e-b684-8ad453524863",
   "metadata": {},
   "outputs": [
    {
     "data": {
      "text/plain": [
       "TestResults(failed=0, attempted=1)"
      ]
     },
     "execution_count": 7,
     "metadata": {},
     "output_type": "execute_result"
    }
   ],
   "source": [
    "def average(values):\n",
    "    \"\"\"Computes the arithmetic mean of a list of numbers.\n",
    "    \n",
    "    >>> print(average([20, 30, 70]))\n",
    "    40.0\n",
    "    \"\"\"\n",
    "    return sum(values) / len(values)\n",
    "\n",
    "import doctest\n",
    "doctest.testmod()    # automatically validate the embedded tests"
   ]
  },
  {
   "cell_type": "markdown",
   "id": "99dc5421-5115-4cea-9b74-be08aae110bf",
   "metadata": {},
   "source": [
    "The [`unittest`](https://docs.python.org/3/library/unittest.html#module-unittest) module is not as effortless as the [`doctest`](https://docs.python.org/3/library/doctest.html#module-doctest) module, but it allows a more comprehensive set of tests to be maintained in a separate file:\n",
    "\n",
    "> [`unittest`](https://docs.python.org/3/library/unittest.html#module-unittest)模块不像[`doctest`](https://docs.python.org/3/library/doctest.html#module-doctest)模块那样**省力**，但它允许在一个单独的文件中维护一套更全面的测试："
   ]
  },
  {
   "cell_type": "code",
   "execution_count": 10,
   "id": "36a8d6e1-9ae0-4518-a33e-29f84cc8ca60",
   "metadata": {},
   "outputs": [
    {
     "name": "stderr",
     "output_type": "stream",
     "text": [
      "E\n",
      "======================================================================\n",
      "ERROR: C:\\Users\\Administrator\\AppData\\Roaming\\jupyter\\runtime\\kernel-4d4fd187-4724-49d2-a413-bca79e5c1571 (unittest.loader._FailedTest)\n",
      "----------------------------------------------------------------------\n",
      "AttributeError: module '__main__' has no attribute 'C:\\Users\\Administrator\\AppData\\Roaming\\jupyter\\runtime\\kernel-4d4fd187-4724-49d2-a413-bca79e5c1571'\n",
      "\n",
      "----------------------------------------------------------------------\n",
      "Ran 1 test in 0.000s\n",
      "\n",
      "FAILED (errors=1)\n"
     ]
    },
    {
     "ename": "SystemExit",
     "evalue": "True",
     "output_type": "error",
     "traceback": [
      "An exception has occurred, use %tb to see the full traceback.\n",
      "\u001b[1;31mSystemExit\u001b[0m\u001b[1;31m:\u001b[0m True\n"
     ]
    },
    {
     "name": "stderr",
     "output_type": "stream",
     "text": [
      "C:\\Users\\Administrator\\AppData\\Local\\Programs\\Python\\Python310\\lib\\site-packages\\IPython\\core\\interactiveshell.py:3377: UserWarning: To exit: use 'exit', 'quit', or Ctrl-D.\n",
      "  warn(\"To exit: use 'exit', 'quit', or Ctrl-D.\", stacklevel=1)\n"
     ]
    }
   ],
   "source": [
    "import unittest\n",
    "\n",
    "class TestStatisticalFunctions(unittest.TestCase):\n",
    "    \n",
    "    def test_average(self):\n",
    "        self.assertEqual(average([20, 30, 70]), 40.0)\n",
    "        self.assertEqual(round(average([1, 5, 7]), 1), 4.3)\n",
    "        with self.assertRaises(ZeroDivisionError):\n",
    "            average([])\n",
    "        with self.assertRaises(TypeError):\n",
    "            average(20, 30, 70)\n",
    "            \n",
    "unittest.main()    # Calling from the command line invokes all tests"
   ]
  },
  {
   "cell_type": "markdown",
   "id": "4b7990e5-5a9c-468a-b00a-5c605a904ba0",
   "metadata": {},
   "source": [
    "### Batteries Included"
   ]
  },
  {
   "cell_type": "markdown",
   "id": "3cd0b7fd-552c-46ce-83d8-a7fd25902f9e",
   "metadata": {},
   "source": [
    "Python has a “batteries included” philosophy.  This is best seen through the sophisticated and robust capabilities of its larger packages. For example:\n",
    "\n",
    "- The [`xmlrpc.client`](https://docs.python.org/3/library/xmlrpc.client.html#module-xmlrpc.client) and [`xmlrpc.server`](https://docs.python.org/3/library/xmlrpc.server.html#module-xmlrpc.server) modules make implementing remote procedure calls into an almost trivial task.  Despite the modules’ names, no direct knowledge or handling of XML is needed.\n",
    "- The [`email`](https://docs.python.org/3/library/email.html#module-email) package is a library for managing email messages, including MIME and other [**RFC 2822**](https://datatracker.ietf.org/doc/html/rfc2822.html)-based message documents. Unlike [`smtplib`](https://docs.python.org/3/library/smtplib.html#module-smtplib) and [`poplib`](https://docs.python.org/3/library/poplib.html#module-poplib) which actually send and receive messages, the email package has a complete toolset for building or decoding complex message structures (including attachments) and for implementing internet encoding and header protocols.\n",
    "- The [`json`](https://docs.python.org/3/library/json.html#module-json) package provides robust support for parsing this popular data interchange format.  The [`csv`](https://docs.python.org/3/library/csv.html#module-csv) module supports direct reading and writing of files in Comma-Separated Value format, commonly supported by databases and spreadsheets.  XML processing is supported by the [`xml.etree.ElementTree`](https://docs.python.org/3/library/xml.etree.elementtree.html#module-xml.etree.ElementTree), [`xml.dom`](https://docs.python.org/3/library/xml.dom.html#module-xml.dom) and [`xml.sax`](https://docs.python.org/3/library/xml.sax.html#module-xml.sax) packages. Together, these modules and packages greatly simplify data interchange between Python applications and other tools.\n",
    "- The [`sqlite3`](https://docs.python.org/3/library/sqlite3.html#module-sqlite3) module is a wrapper for the SQLite database library, providing a persistent database that can be updated and accessed using slightly nonstandard SQL syntax.\n",
    "- Internationalization is supported by a number of modules including [`gettext`](https://docs.python.org/3/library/gettext.html#module-gettext), [`locale`](https://docs.python.org/3/library/locale.html#module-locale), and the [`codecs`](https://docs.python.org/3/library/codecs.html#module-codecs) package.\n",
    "\n",
    "> Python有一个 \"**包括电池**\"的哲学。 这一点通过其大型软件包的**复杂和强大的**功能得到了最好的体现。比如说：\n",
    ">\n",
    "> - [`xmlrpc.client`](https://docs.python.org/3/library/xmlrpc.client.html#module-xmlrpc.client) 和 [`xmlrpc.server`](https://docs.python.org/3/library/xmlrpc.server.html#module-xmlrpc.server) 模块使实现远程过程调用成为一项**几乎微不足道的**任务。 尽管这些模块的名字，不需要直接了解或处理XML。\n",
    "> - [`email`](https://docs.python.org/3/library/email.html#module-email)包是一个管理电子邮件的库，包括MIME和其他基于[**RFC 2822**](https://datatracker.ietf.org/doc/html/rfc2822.html)的消息文档。不像[`smtplib`](https://docs.python.org/3/library/smtplib.html#module-smtplib)和[`poplib`](https://docs.python.org/3/library/poplib.html#module-poplib)那样实际发送和接收消息，电子邮件包有一个完整的**工具集**，用于建立或解码复杂的消息结构（包括附件）和实现互联网编码和标题协议。\n",
    "> - [`json`](https://docs.python.org/3/library/json.html#module-json)软件包为解析这种流行的数据交换格式提供了强大的支持。 [`csv`](https://docs.python.org/3/library/csv.html#module-csv)模块支持直接读写逗号分隔值格式的文件，通常由数据库和电子表格支持。 XML处理由[`xml.etree.ElementTree`](https://docs.python.org/3/library/xml.etree.elementtree.html#module-xml.etree.ElementTree)、[`xml.dom`](https://docs.python.org/3/library/xml.dom.html#module-xml.dom)和[`xml.sax`](https://docs.python.org/3/library/xml.sax.html#module-xml.sax) 包支持。这些模块和包一起大大简化了Python应用程序和其他工具之间的数据交换。\n",
    "> - [`sqlite3`](https://docs.python.org/3/library/sqlite3.html#module-sqlite3)模块是SQLite数据库库的封装器，提供了一个持久的数据库，可以使用稍微非标准的SQL语法进行更新和访问。\n",
    "> - 一些模块支持国际化，包括 [`gettext`](https://docs.python.org/3/library/gettext.html#module-gettext), [`locale`](https://docs.python.org/3/library/locale.html#module-locale), 和 [`codecs`](https://docs.python.org/3/library/codecs.html#module-codecs) 包。"
   ]
  },
  {
   "cell_type": "markdown",
   "id": "c3571f64-c1c4-43df-92b2-1a2c86a3d841",
   "metadata": {},
   "source": [
    "## Brief Tour of the Standard Library —— Part II"
   ]
  },
  {
   "cell_type": "markdown",
   "id": "df1646d6-695c-4701-b1f7-973095cc2ed7",
   "metadata": {},
   "source": [
    "This second tour covers more advanced modules that support professional programming needs.  These modules rarely occur in small scripts.\n",
    "\n",
    "> 第二次参观涵盖了支持**专业编程需求**的更多高级模块。 这些模块很少出现在小脚本中。"
   ]
  },
  {
   "cell_type": "markdown",
   "id": "3001e73b-dbc7-4f3e-8512-a056030b5604",
   "metadata": {},
   "source": [
    "### Output Formatting"
   ]
  },
  {
   "cell_type": "markdown",
   "id": "efba2da1-4df7-4551-848c-af2dffdaf060",
   "metadata": {},
   "source": [
    "The [`reprlib`](https://docs.python.org/3/library/reprlib.html#module-reprlib) module provides a version of [`repr()`](https://docs.python.org/3/library/functions.html#repr) customized for abbreviated displays of large or deeply nested containers:\n",
    "\n",
    "> [`reprlib`](https://docs.python.org/3/library/reprlib.html#module-reprlib)模块提供了[`repr()`](https://docs.python.org/3/library/functions.html#repr)的一个版本，为**大型或深度嵌套容器**的简略显示而定制："
   ]
  },
  {
   "cell_type": "code",
   "execution_count": 11,
   "id": "85d333c9-0b50-428e-96f4-a0f7780600b8",
   "metadata": {},
   "outputs": [
    {
     "data": {
      "text/plain": [
       "\"{'a', 'c', 'd', 'e', 'f', 'g', ...}\""
      ]
     },
     "execution_count": 11,
     "metadata": {},
     "output_type": "execute_result"
    }
   ],
   "source": [
    "import reprlib\n",
    "reprlib.repr(set('supercalifragilisticexpialidocious'))"
   ]
  },
  {
   "cell_type": "markdown",
   "id": "32354c54-fc03-4fe7-abfc-daa74742b5ea",
   "metadata": {},
   "source": [
    "The [`pprint`](https://docs.python.org/3/library/pprint.html#module-pprint) module offers more sophisticated control over printing both built-in and user defined objects in a way that is readable by the interpreter. When the result is longer than one line, the “pretty printer” adds line breaks and indentation to more clearly reveal data structure:\n",
    "\n",
    "> [`pprint`](https://docs.python.org/3/library/pprint.html#module-pprint)模块提供了更复杂的控制，以解释器可读的方式打印内置和用户定义的对象。当结果超过一行时，\"漂亮打印机\"会**增加换行和缩进**，以更清楚地显示数据结构："
   ]
  },
  {
   "cell_type": "code",
   "execution_count": 2,
   "id": "bf93c0bd-1323-4a13-b200-daf66582999a",
   "metadata": {},
   "outputs": [
    {
     "name": "stdout",
     "output_type": "stream",
     "text": [
      "[[[['black', 'cyan'],\n",
      "   'white',\n",
      "   ['green', 'red']],\n",
      "  [['magenta', 'yellow'],\n",
      "   'blue']]]\n"
     ]
    }
   ],
   "source": [
    "import pprint\n",
    "t = [[[['black', 'cyan'], 'white', ['green', 'red']], [['magenta',\n",
    "                                                        'yellow'], 'blue']]]\n",
    "\n",
    "pprint.pprint(t, width=30)"
   ]
  },
  {
   "cell_type": "markdown",
   "id": "f2c8ab54-a907-4822-a2d3-d48f22163a3a",
   "metadata": {},
   "source": [
    "The [`textwrap`](https://docs.python.org/3/library/textwrap.html#module-textwrap) module formats paragraphs of text to fit a given screen width:\n",
    "\n",
    "> [`textwrap`](https://docs.python.org/3/library/textwrap.html#module-textwrap)模块对文本段落进行**格式化**，以适应特定的屏幕宽度："
   ]
  },
  {
   "cell_type": "code",
   "execution_count": 3,
   "id": "43768c4a-f61e-4d08-8eeb-15cea45805e7",
   "metadata": {},
   "outputs": [
    {
     "name": "stdout",
     "output_type": "stream",
     "text": [
      "The wrap() method is just like fill()\n",
      "except that it returns a list of strings\n",
      "instead of one big string with newlines\n",
      "to separate the wrapped lines.\n"
     ]
    }
   ],
   "source": [
    "import textwrap\n",
    "doc = \"\"\"The wrap() method is just like fill() except that it returns\n",
    "a list of strings instead of one big string with newlines to separate\n",
    "the wrapped lines.\"\"\"\n",
    "\n",
    "print(textwrap.fill(doc, width=40))"
   ]
  },
  {
   "cell_type": "markdown",
   "id": "ee58250a-eec7-4b6d-8100-5591db37e6dd",
   "metadata": {},
   "source": [
    "The [`locale`](https://docs.python.org/3/library/locale.html#module-locale) module accesses a database of culture specific data formats. The grouping attribute of locale’s format function provides a direct way of formatting numbers with group separators:\n",
    "\n",
    "> [`locale`](https://docs.python.org/3/library/locale.html#module-locale)模块可以访问一个特定文化数据格式的**数据库**。locale's format函数的分组属性提供了一种用分组分隔符格式化数字的直接方法："
   ]
  },
  {
   "cell_type": "code",
   "execution_count": 4,
   "id": "afdedcd2-baef-447f-a5d5-dd03dc5aeebb",
   "metadata": {},
   "outputs": [
    {
     "data": {
      "text/plain": [
       "'English_United States.1252'"
      ]
     },
     "execution_count": 4,
     "metadata": {},
     "output_type": "execute_result"
    }
   ],
   "source": [
    "import locale\n",
    "locale.setlocale(locale.LC_ALL, 'English_United States.1252')"
   ]
  },
  {
   "cell_type": "code",
   "execution_count": 7,
   "id": "60851d82-92b8-41f4-b7dc-b23cfc6c5e99",
   "metadata": {},
   "outputs": [
    {
     "name": "stderr",
     "output_type": "stream",
     "text": [
      "C:\\Users\\Administrator\\AppData\\Local\\Temp\\ipykernel_6600\\2053886151.py:4: DeprecationWarning: This method will be removed in a future version of Python. Use 'locale.format_string()' instead.\n",
      "  locale.format(\"%d\", x, grouping=True)\n"
     ]
    },
    {
     "data": {
      "text/plain": [
       "'1,234,567'"
      ]
     },
     "execution_count": 7,
     "metadata": {},
     "output_type": "execute_result"
    },
    {
     "data": {
      "text/plain": [
       "'$1,234,567.80'"
      ]
     },
     "execution_count": 7,
     "metadata": {},
     "output_type": "execute_result"
    }
   ],
   "source": [
    "# get a mapping of conventions\n",
    "conv = locale.localeconv()\n",
    "x = 1234567.8\n",
    "locale.format(\"%d\", x, grouping=True)\n",
    "\n",
    "locale.format_string(\"%s%.*f\", (conv['currency_symbol'],\n",
    "                     conv['frac_digits'], x), grouping=True)"
   ]
  },
  {
   "cell_type": "markdown",
   "id": "1b025e22-dfad-4fb3-8cc9-3fec4ef203c1",
   "metadata": {},
   "source": [
    "### Templating"
   ]
  },
  {
   "cell_type": "markdown",
   "id": "bc3da45b-3572-4613-8465-269cf71ec64c",
   "metadata": {},
   "source": [
    "The [`string`](https://docs.python.org/3/library/string.html#module-string) module includes a versatile [`Template`](https://docs.python.org/3/library/string.html#string.Template) class with a simplified syntax suitable for editing by end-users.  This allows users to customize their applications without having to alter the application.\n",
    "\n",
    "The format uses placeholder names formed by `$` with valid Python identifiers (alphanumeric characters and underscores).  Surrounding the placeholder with braces allows it to be followed by more alphanumeric letters with no intervening spaces.  Writing `$$` creates a single escaped `$`:\n",
    "\n",
    "> [`string`](https://docs.python.org/3/library/string.html#module-string)模块包括一个**多功能**的[`Template`](https://docs.python.org/3/library/string.html#string.Template)类，具有**适合**终端用户编辑的简化语法。 这使得用户可以定制他们的应用程序，而不必改变应用程序。\n",
    ">\n",
    "> 该格式使用由`$`组成的占位符名称，并带有有效的Python**标识符**（字母数字字符和下划线）。 用大括号包围占位符，允许它后面有更多的字母和数字，没有中间的空格。 写入`$$`会产生一个转义的`$`："
   ]
  },
  {
   "cell_type": "code",
   "execution_count": 8,
   "id": "dfb90179-05fc-4b1f-8170-b02daf3bd416",
   "metadata": {},
   "outputs": [
    {
     "data": {
      "text/plain": [
       "'Nottingham folk send $10 to teh ditch fund.'"
      ]
     },
     "execution_count": 8,
     "metadata": {},
     "output_type": "execute_result"
    }
   ],
   "source": [
    "from string import Template\n",
    "t = Template('${village} folk send $$10 to $cause.')\n",
    "t.substitute(village='Nottingham', cause='teh ditch fund')"
   ]
  },
  {
   "cell_type": "markdown",
   "id": "86b19510-1684-4cc7-b667-9eaad3b4425e",
   "metadata": {},
   "source": [
    "The [`substitute()`](https://docs.python.org/3/library/string.html#string.Template.substitute) method raises a [`KeyError`](https://docs.python.org/3/library/exceptions.html#KeyError) when a placeholder is not supplied in a dictionary or a keyword argument.  For mail-merge style applications, user supplied data may be incomplete and the [`safe_substitute()`](https://docs.python.org/3/library/string.html#string.Template.safe_substitute) method may be more appropriate — it will leave placeholders unchanged if data is missing:\n",
    "\n",
    "> 当**字典或关键字参数**中没有提供占位符时，[`substitute()`](https://docs.python.org/3/library/string.html#string.Template.substitute)方法会引发一个[`KeyError`](https://docs.python.org/3/library/exceptions.html#KeyError)。 对于邮件合并风格的应用，用户提供的数据可能是不完整的，[`safe_substitute()`](https://docs.python.org/3/library/string.html#string.Template.safe_substitute)方法可能更合适--如果缺少数据，它将不改变占位符："
   ]
  },
  {
   "cell_type": "code",
   "execution_count": 9,
   "id": "76c09652-b9ea-4ad6-9b3b-e8a584ba0995",
   "metadata": {},
   "outputs": [
    {
     "data": {
      "text/plain": [
       "'Return the unladen swallow to $owner.'"
      ]
     },
     "execution_count": 9,
     "metadata": {},
     "output_type": "execute_result"
    }
   ],
   "source": [
    "t = Template('Return the $item to $owner.')\n",
    "d = dict(item='unladen swallow')\n",
    "\n",
    "t.safe_substitute(d)"
   ]
  },
  {
   "cell_type": "markdown",
   "id": "8a1c2e39-2e2f-412e-9f57-e4e21b051011",
   "metadata": {},
   "source": [
    "Template subclasses can specify a custom delimiter.  For example, a batch renaming utility for a photo browser may elect to use percent signs for placeholders such as the current date, image sequence number, or file format:\n",
    "\n",
    "> 模板子类可以指定一个**自定义分隔符**。 例如，一个照片浏览器的**批量重命名工具**可以选择使用百分号来表示占位符，如当前日期、图像序列号或文件格式："
   ]
  },
  {
   "cell_type": "raw",
   "id": "cab81a75-8e96-4649-b747-45eac7379358",
   "metadata": {},
   "source": [
    "import time, os.path\n",
    "photofiles = ['img_1074.jpg', 'img_1076.jpg', 'img_1077.jpg']\n",
    "class BatchRename(Template):\n",
    "    delimiter = '%'\n",
    "\n",
    "fmt = input('Enter rename style (%d-date %n-seqnum %f-format):  ')\n",
    "\n",
    "\n",
    "t = BatchRename(fmt)\n",
    "date = time.strftime('%d%b%y')\n",
    "for i, filename in enumerate(photofiles):\n",
    "    base, ext = os.path.splitext(filename)\n",
    "    newname = t.substitute(d=date, n=i, f=ext)\n",
    "    print('{0} --> {1}'.format(filename, newname))"
   ]
  },
  {
   "cell_type": "markdown",
   "id": "730b05c1-c242-4e57-852a-39c1398f5fb7",
   "metadata": {},
   "source": [
    "Another application for templating is separating program logic from the details of multiple output formats.  This makes it possible to substitute custom templates for XML files, plain text reports, and HTML web reports.\n",
    "\n",
    "> 模板的另一个应用是将**程序逻辑**与**多种输出格式**的细节分开。 这使得替代XML文件、纯文本报告和HTML网络报告的自定义模板成为可能。"
   ]
  },
  {
   "cell_type": "markdown",
   "id": "38fed57a-04c2-41ad-9d9f-2d90d011b7f2",
   "metadata": {},
   "source": [
    "### Working with Binary Data Record Layouts"
   ]
  },
  {
   "cell_type": "markdown",
   "id": "b35c9aee-525f-4cad-80f3-2a4cd3953aa4",
   "metadata": {},
   "source": [
    "The [`struct`](https://docs.python.org/3/library/struct.html#module-struct) module provides [`pack()`](https://docs.python.org/3/library/struct.html#struct.pack) and [`unpack()`](https://docs.python.org/3/library/struct.html#struct.unpack) functions for working with variable length binary record formats.  The following example shows how to loop through header information in a ZIP file without using the [`zipfile`](https://docs.python.org/3/library/zipfile.html#module-zipfile) module.  Pack codes `\"H\"` and `\"I\"` represent two and four byte unsigned numbers respectively.  The `\"<\"` indicates that they are standard size and in little-endian byte order:\n",
    "\n",
    "> [`struct`](https://docs.python.org/3/library/struct.html#module-struct)模块提供了[`pack()`](https://docs.python.org/3/library/struct.html#struct.pack)和[`unpack()`](https://docs.python.org/3/library/struct.html#struct.unpack)函数来处理**可变长度**的二进制记录格式。 下面的例子显示了如何在不使用[`zipfile`](https://docs.python.org/3/library/zipfile.html#module-zipfile)模块的情况下循环浏览ZIP文件的头信息。 包装代码`\"H\"`和`\"I\"`分别代表两个和四个字节的**无符号数字**。 `\"<\"`表示它们是标准大小，并且是小-endian的字节顺序。"
   ]
  },
  {
   "cell_type": "raw",
   "id": "7e066058-9744-4e69-8797-c8f3db3acfdc",
   "metadata": {},
   "source": [
    "import struct\n",
    "\n",
    "with open('myfile.zip', 'rb') as f:\n",
    "    data = f.read()\n",
    "\n",
    "start = 0\n",
    "for i in range(3):                      # show the first 3 file headers\n",
    "    start += 14\n",
    "    fields = struct.unpack('<IIIHH', data[start:start+16])\n",
    "    crc32, comp_size, uncomp_size, filenamesize, extra_size = fields\n",
    "\n",
    "    start += 16\n",
    "    filename = data[start:start+filenamesize]\n",
    "    start += filenamesize\n",
    "    extra = data[start:start+extra_size]\n",
    "    print(filename, hex(crc32), comp_size, uncomp_size)\n",
    "\n",
    "    start += extra_size + comp_size     # skip to the next header"
   ]
  },
  {
   "cell_type": "markdown",
   "id": "4faad9dd-2d0d-4acc-8649-c4d9da4c69ba",
   "metadata": {},
   "source": [
    "### Multi-threading"
   ]
  },
  {
   "cell_type": "markdown",
   "id": "a713821c-9d0f-4c57-b8df-94bd472e0ce2",
   "metadata": {},
   "source": [
    "Threading is a technique for decoupling tasks which are not sequentially dependent.  Threads can be used to improve the responsiveness of applications that accept user input while other tasks run in the background.  A related use case is running I/O in parallel with computations in another thread.\n",
    "\n",
    "The following code shows how the high level [`threading`](https://docs.python.org/3/library/threading.html#module-threading) module can run tasks in background while the main program continues to run:\n",
    "\n",
    "> 线程是一种**解耦任务**的技术，这些任务在顺序上并不依赖。 线程可以用来提高接受用户输入的应用程序的**响应速度**，而其他任务在后台运行。 一个相关的用例是在另一个线程中并行运行I/O和计算。\n",
    ">\n",
    "> 下面的代码显示了高层[`threading`](https://docs.python.org/3/library/threading.html#module-threading)模块如何在主程序继续运行时在后台运行任务："
   ]
  },
  {
   "cell_type": "code",
   "execution_count": 11,
   "id": "2d93743b-ad7e-4f64-890e-33b920e1f949",
   "metadata": {},
   "outputs": [],
   "source": [
    "import threading , zipfile\n",
    "\n",
    "class AsyncZip(threading.Thread):\n",
    "    def __ini__(self, infile, outfile):\n",
    "        threading.Thread.__init__(self)\n",
    "        self.infile = infile\n",
    "        self.outfile = outfile\n",
    "        \n",
    "    def run(self):\n",
    "        f = zipfile.ZipFile(self.outfile, 'w', zipfile.ZIP_DEFLATED)\n",
    "        f.write(self.infile)\n",
    "        f.close()\n",
    "        print('Finished background zip of:', self.infile)"
   ]
  },
  {
   "cell_type": "markdown",
   "id": "9b406959-e2a6-425d-9e2d-ee918efe27fe",
   "metadata": {},
   "source": [
    "The principal challenge of multi-threaded applications is coordinating threads that share data or other resources.  To that end, the threading module provides a number of synchronization primitives including locks, events, condition variables, and semaphores.\n",
    "\n",
    "While those tools are powerful, minor design errors can result in problems that are difficult to reproduce.  So, the preferred approach to task coordination is to concentrate all access to a resource in a single thread and then use the [`queue`](https://docs.python.org/3/library/queue.html#module-queue) module to feed that thread with requests from other threads. Applications using [`Queue`](https://docs.python.org/3/library/queue.html#queue.Queue) objects for inter-thread communication and coordination are easier to design, more readable, and more reliable.\n",
    "\n",
    "> 多线程应用程序的主要挑战是**协调**共享数据或其他资源的线程。 为此，线程模块提供了许多同步原语，包括锁、事件、条件变量和信号灯。\n",
    ">\n",
    "> 虽然这些工具很强大，但微小的设计错误也会导致难以重现的问题。 因此，任务协调的首选方法是将对资源的所有访问集中在一个线程中，然后使用[`queue`](https://docs.python.org/3/library/queue.html#module-queue)模块将其他线程的请求反馈给该线程。使用[`Queue`](https://docs.python.org/3/library/queue.html#queue.Queue)对象进行线程间通信和协调的应用程序更容易设计，更可读，也更可靠。"
   ]
  },
  {
   "cell_type": "markdown",
   "id": "49ab6b1d-0f58-4d52-9391-9f1e0d068ae1",
   "metadata": {},
   "source": [
    "### Logging"
   ]
  },
  {
   "cell_type": "markdown",
   "id": "286b6bef-f489-4c95-abe8-cf949c45cb22",
   "metadata": {},
   "source": [
    "The [`logging`](https://docs.python.org/3/library/logging.html#module-logging) module offers a full featured and flexible logging system. At its simplest, log messages are sent to a file or to `sys.stderr`:\n",
    "\n",
    "> [`logging`](https://docs.python.org/3/library/logging.html#module-logging)模块提供了一个功能齐全且灵活的**日志系统**。在最简单的情况下，日志信息被发送到一个文件或`sys.stderr`："
   ]
  },
  {
   "cell_type": "code",
   "execution_count": 14,
   "id": "17254d35-e8c4-4af0-9dc0-89c942947e42",
   "metadata": {},
   "outputs": [
    {
     "name": "stderr",
     "output_type": "stream",
     "text": [
      "WARNING:root:Warning:config file server.conf not found\n",
      "ERROR:root:Error occurred\n",
      "CRITICAL:root:Critical error -- shtting down\n"
     ]
    }
   ],
   "source": [
    "import logging\n",
    "logging.debug('Debugging information')\n",
    "logging.info('Information message')\n",
    "logging.warning('Warning:config file %s not found', 'server.conf')\n",
    "logging.error('Error occurred')\n",
    "logging.critical('Critical error -- shtting down')"
   ]
  },
  {
   "cell_type": "markdown",
   "id": "976564ab-7110-4d77-8d18-d335340601f9",
   "metadata": {},
   "source": [
    "By default, informational and debugging messages are suppressed and the output is sent to standard error.  Other output options include routing messages through email, datagrams, sockets, or to an HTTP Server.  New filters can select different routing based on message priority: `DEBUG`, `INFO`, `WARNING`, `ERROR`, and `CRITICAL`.\n",
    "\n",
    "The logging system can be configured directly from Python or can be loaded from a user editable configuration file for customized logging without altering the application.\n",
    "\n",
    "> 默认情况下，信息和调试信息被抑制，**输出被发送到标准错误**。 其他输出选项包括通过电子邮件、数据包、套接字或HTTP服务器来路由消息。 新的过滤器可以根据消息的优先级选择不同的路由：`DEBUG`、`INFO`、`WARNING`、`ERROR`和`CRITICAL`。\n",
    ">\n",
    "> 日志系统可以直接从Python中配置，也可以从用户**可编辑的配置文件**中加载，以便在不改变应用程序的情况下**定制日志**。"
   ]
  },
  {
   "cell_type": "markdown",
   "id": "23f1ea3e-ce7e-4e3f-956d-b9e7f75b1b65",
   "metadata": {},
   "source": [
    "### Weak References"
   ]
  },
  {
   "cell_type": "markdown",
   "id": "f7f50a36-b137-4703-be9b-162e48ee7ab2",
   "metadata": {},
   "source": [
    "Python does automatic memory management (reference counting for most objects and [garbage collection](https://docs.python.org/3/glossary.html#term-garbage-collection) to eliminate cycles).  The memory is freed shortly after the last reference to it has been eliminated.\n",
    "\n",
    "This approach works fine for most applications but occasionally there is a need to track objects only as long as they are being used by something else. Unfortunately, just tracking them creates a reference that makes them permanent. The [`weakref`](https://docs.python.org/3/library/weakref.html#module-weakref) module provides tools for tracking objects without creating a reference.  When the object is no longer needed, it is automatically removed from a weakref table and a callback is triggered for weakref objects.  Typical applications include caching objects that are expensive to create:\n",
    "\n",
    "> Python 做了自动的**内存管理** (对于大多数对象的**引用计数**和 [垃圾收集](https://docs.python.org/3/glossary.html#term-garbage-collection) 来消除循环)。 内存在最后一个引用被消除后不久就会被释放。\n",
    ">\n",
    "> 这种方法对大多数应用来说都很有效，但偶尔也需要跟踪对象，只要它们被其他东西使用。不幸的是，仅仅跟踪它们就会产生一个引用，使它们成为永久性的。[`weakref`](https://docs.python.org/3/library/weakref.html#module-weakref)模块提供了追踪对象的工具，而不创建一个引用。 当不再需要该对象时，它将自动从**弱ref表**中删除，并触发弱ref对象的回调。 典型的应用包括**缓存**那些创建成本很高的对象："
   ]
  },
  {
   "cell_type": "code",
   "execution_count": 11,
   "id": "e687b4a0-8c7e-4394-a3b8-047a139d9a71",
   "metadata": {},
   "outputs": [],
   "source": [
    "import weakref, gc\n",
    "class A:\n",
    "    def __init__(self, value):\n",
    "        self.value = value\n",
    "    def __repr__(self):\n",
    "        return str(self.value)\n",
    "    "
   ]
  },
  {
   "cell_type": "code",
   "execution_count": 12,
   "id": "6adb42dc-fed4-49d7-9cf2-149b849c9cfa",
   "metadata": {},
   "outputs": [
    {
     "data": {
      "text/plain": [
       "10"
      ]
     },
     "execution_count": 12,
     "metadata": {},
     "output_type": "execute_result"
    }
   ],
   "source": [
    "# create a referenc?\n",
    "a = A(10)\n",
    "d = weakref.WeakValueDictionary()\n",
    "\n",
    "d['primary'] = a\n",
    "d['primary']"
   ]
  },
  {
   "cell_type": "code",
   "execution_count": 13,
   "id": "9781c3c4-c954-4a8e-b7ef-cfedddeb0e33",
   "metadata": {},
   "outputs": [
    {
     "data": {
      "text/plain": [
       "473"
      ]
     },
     "execution_count": 13,
     "metadata": {},
     "output_type": "execute_result"
    }
   ],
   "source": [
    "del a\n",
    "gc.collect()"
   ]
  },
  {
   "cell_type": "code",
   "execution_count": 14,
   "id": "7a200aa1-b9f7-442f-b739-e0cc93897789",
   "metadata": {},
   "outputs": [
    {
     "data": {
      "text/plain": [
       "10"
      ]
     },
     "execution_count": 14,
     "metadata": {},
     "output_type": "execute_result"
    }
   ],
   "source": [
    "d['primary']"
   ]
  },
  {
   "cell_type": "markdown",
   "id": "92a6f476-db1d-4504-ac19-816771c0b1e2",
   "metadata": {},
   "source": [
    "### Tools for Working with Lists"
   ]
  },
  {
   "cell_type": "markdown",
   "id": "9a78177c-5a48-4011-9f3a-3350900a6852",
   "metadata": {},
   "source": [
    "Many data structure needs can be met with the built-in list type. However, sometimes there is a need for alternative implementations with different performance trade-offs.\n",
    "\n",
    "The [`array`](https://docs.python.org/3/library/array.html#module-array) module provides an [`array()`](https://docs.python.org/3/library/array.html#array.array) object that is like a list that stores only homogeneous data and stores it more compactly.  The following example shows an array of numbers stored as two byte unsigned binary numbers (typecode `\"H\"`) rather than the usual 16 bytes per entry for regular lists of Python int objects:\n",
    "\n",
    "> 许多数据结构需求可以通过**内置的列表类型**来满足。然而，有时也需要有不同性能权衡的替代实现。\n",
    ">\n",
    "> [`array`](https://docs.python.org/3/library/array.html#module-array)模块提供了一个[`array()`](https://docs.python.org/3/library/array.html#array.array)对象，它就像一个**只存储同质数据**的列表，并且存储得更紧凑。 下面的例子显示了一个存储为两个字节的无符号二进制数的数组 (类型码`\"H\"`)，而不是通常的Python int 对象的常规列表的每个条目16字节："
   ]
  },
  {
   "cell_type": "code",
   "execution_count": 9,
   "id": "712e06b0-898c-4495-9afb-a8297540ab61",
   "metadata": {},
   "outputs": [
    {
     "data": {
      "text/plain": [
       "26932"
      ]
     },
     "execution_count": 9,
     "metadata": {},
     "output_type": "execute_result"
    },
    {
     "data": {
      "text/plain": [
       "array('H', [10, 700])"
      ]
     },
     "execution_count": 9,
     "metadata": {},
     "output_type": "execute_result"
    },
    {
     "data": {
      "text/plain": [
       "4000"
      ]
     },
     "execution_count": 9,
     "metadata": {},
     "output_type": "execute_result"
    },
    {
     "data": {
      "text/plain": [
       "22222"
      ]
     },
     "execution_count": 9,
     "metadata": {},
     "output_type": "execute_result"
    }
   ],
   "source": [
    "from array import array\n",
    "a = array('H', [4000, 10, 700, 22222])\n",
    "\n",
    "sum(a)\n",
    "a[1:3]\n",
    "a[0]\n",
    "a[-1]"
   ]
  },
  {
   "cell_type": "markdown",
   "id": "d8ce3c63-3aaf-4474-bff8-827015445c9b",
   "metadata": {},
   "source": [
    "The [`collections`](https://docs.python.org/3/library/collections.html#module-collections) module provides a [`deque()`](https://docs.python.org/3/library/collections.html#collections.deque) object that is like a list with faster appends and pops from the left side but slower lookups in the middle. These objects are well suited for implementing queues and breadth first tree searches:\n",
    "\n",
    "> [`collections`](https://docs.python.org/3/library/collections.html#module-collections)模块提供了一个[`deque()`](https://docs.python.org/3/library/collections.html#collections.deque)对象，它就像一个列表，左侧的**追加和弹出**速度较快，但中间的查找速度较慢。这些对象非常适用于实现**队列**和**广度优先的树形搜索**："
   ]
  },
  {
   "cell_type": "code",
   "execution_count": 11,
   "id": "06fbe3bf-f3bf-467c-a090-4f1f827c549a",
   "metadata": {},
   "outputs": [
    {
     "name": "stdout",
     "output_type": "stream",
     "text": [
      "Handling task1\n"
     ]
    }
   ],
   "source": [
    "from collections import deque\n",
    "d = deque([\"task1\", \"task2\", \"task3\"])\n",
    "d.append(\"task4\")\n",
    "\n",
    "print(\"Handling\", d.popleft())"
   ]
  },
  {
   "cell_type": "code",
   "execution_count": 12,
   "id": "d83f7d08-09c2-41ff-98a9-9f48e42f5f9e",
   "metadata": {},
   "outputs": [],
   "source": [
    "# to be continue for deque()......"
   ]
  },
  {
   "cell_type": "code",
   "execution_count": 13,
   "id": "1712a024-3fdd-4cd0-9a66-3cd0c2fb789c",
   "metadata": {},
   "outputs": [],
   "source": [
    "# to be continue for bisect() and heapq()......"
   ]
  },
  {
   "cell_type": "markdown",
   "id": "bd90a189-75f0-469b-9b28-26ae933867fa",
   "metadata": {},
   "source": [
    "### Decimal Floating Point Arithmetic"
   ]
  },
  {
   "cell_type": "markdown",
   "id": "b30cd28a-0077-468f-9770-f97e9e314f97",
   "metadata": {},
   "source": [
    "The [`decimal`](https://docs.python.org/3/library/decimal.html#module-decimal) module offers a [`Decimal`](https://docs.python.org/3/library/decimal.html#decimal.Decimal) datatype for decimal floating point arithmetic.  Compared to the built-in [`float`](https://docs.python.org/3/library/functions.html#float) implementation of binary floating point, the class is especially helpful for\n",
    "\n",
    "- financial applications and other uses which require exact decimal representation,\n",
    "- control over precision,\n",
    "- control over rounding to meet legal or regulatory requirements,\n",
    "- tracking of significant decimal places, or\n",
    "- applications where the user expects the results to match calculations done by hand.\n",
    "\n",
    "For example, calculating a 5% tax on a 70 cent phone charge gives different results in decimal floating point and binary floating point. The difference becomes significant if the results are rounded to the nearest cent:\n",
    "\n",
    "> [`decimal`](https://docs.python.org/3/library/decimal.html#module-decimal)模块提供了一个用于**十进制浮点运算**的[`Decimal`](https://docs.python.org/3/library/decimal.html#decimal.Decimal)数据类型。 与内置的[`float`](https://docs.python.org/3/library/functions.html#float)二进制浮点的实现相比，该类特别有助于\n",
    ">\n",
    "> - **金融应用**和其他需要**精确十进制表示**的用途。\n",
    "> - 对**精度**的控制。\n",
    "> - 控制四舍五入以**满足法律或监管**要求。\n",
    "> - 追踪**有效小数位**，或\n",
    "> - 用户希望**计算结果与手工计算相匹配**的应用。\n",
    ">\n",
    "> 例如，计算70美分的电话费的5%的税，在十进制浮点和二进制浮点中得到不同的结果。如果将结果四舍五入到最接近的分值，那么这个差异就变得很明显："
   ]
  },
  {
   "cell_type": "code",
   "execution_count": 15,
   "id": "0153bb1b-51b0-470e-8fd7-fdffe1d26498",
   "metadata": {},
   "outputs": [
    {
     "data": {
      "text/plain": [
       "Decimal('0.74')"
      ]
     },
     "execution_count": 15,
     "metadata": {},
     "output_type": "execute_result"
    },
    {
     "data": {
      "text/plain": [
       "0.73"
      ]
     },
     "execution_count": 15,
     "metadata": {},
     "output_type": "execute_result"
    }
   ],
   "source": [
    "from decimal import *\n",
    "round(Decimal('0.70') * Decimal('1.05'), 2)\n",
    "\n",
    "round(.70 * 1.05, 2)"
   ]
  },
  {
   "cell_type": "markdown",
   "id": "c155e402-84c1-4cda-bf2a-871286e4e2fd",
   "metadata": {},
   "source": [
    "The [`Decimal`](https://docs.python.org/3/library/decimal.html#decimal.Decimal) result keeps a trailing zero, automatically inferring four place significance from multiplicands with two place significance.  Decimal reproduces mathematics as done by hand and avoids issues that can arise when binary floating point cannot exactly represent decimal quantities.\n",
    "\n",
    "Exact representation enables the [`Decimal`](https://docs.python.org/3/library/decimal.html#decimal.Decimal) class to perform modulo calculations and equality tests that are unsuitable for binary floating point:\n",
    "\n",
    "> [`Decimal`](https://docs.python.org/3/library/decimal.html#decimal.Decimal)的结果保留一个**尾部**的零，自动推断出四位数的重要性，而被乘数的重要性为两位数。 十进制重现了**手工操作的数学**，避免了二进制浮点不能精确表示十进制数量时可能出现的问题。\n",
    ">\n",
    "> 准确表示使[`Decimal`](https://docs.python.org/3/library/decimal.html#decimal.Decimal)类能够进行二进制浮点不适合的**模数计算**和**相等测试**："
   ]
  },
  {
   "cell_type": "code",
   "execution_count": 18,
   "id": "2e1f133d-ffd6-4b02-81ac-7a55fbb5cf2b",
   "metadata": {},
   "outputs": [
    {
     "data": {
      "text/plain": [
       "Decimal('0.00')"
      ]
     },
     "execution_count": 18,
     "metadata": {},
     "output_type": "execute_result"
    },
    {
     "data": {
      "text/plain": [
       "0.09999999999999995"
      ]
     },
     "execution_count": 18,
     "metadata": {},
     "output_type": "execute_result"
    }
   ],
   "source": [
    "Decimal('1.00') % Decimal('.10')\n",
    "\n",
    "1.00 % 0.10"
   ]
  },
  {
   "cell_type": "code",
   "execution_count": 19,
   "id": "847f5ce1-5ede-42f5-bb18-b26a17a59433",
   "metadata": {},
   "outputs": [
    {
     "data": {
      "text/plain": [
       "True"
      ]
     },
     "execution_count": 19,
     "metadata": {},
     "output_type": "execute_result"
    },
    {
     "data": {
      "text/plain": [
       "False"
      ]
     },
     "execution_count": 19,
     "metadata": {},
     "output_type": "execute_result"
    }
   ],
   "source": [
    "sum([Decimal('0.1')]*10) == Decimal('1.0')\n",
    "\n",
    "sum([0.1]*10) == 1.0"
   ]
  },
  {
   "cell_type": "markdown",
   "id": "c1e62a91-3469-4772-a6c6-9ed9ab313ec9",
   "metadata": {},
   "source": [
    "The decimal module provides arithmetic with as much **precision** as needed:"
   ]
  },
  {
   "cell_type": "code",
   "execution_count": 20,
   "id": "0faebf5f-76df-4201-9512-319f0ef81a39",
   "metadata": {},
   "outputs": [
    {
     "data": {
      "text/plain": [
       "Decimal('0.142857142857142857142857142857142857')"
      ]
     },
     "execution_count": 20,
     "metadata": {},
     "output_type": "execute_result"
    }
   ],
   "source": [
    "getcontext().prec = 36\n",
    "Decimal(1) / Decimal(7)"
   ]
  },
  {
   "cell_type": "markdown",
   "id": "205b0c22-a75f-48cd-90f7-028584e96bbd",
   "metadata": {},
   "source": [
    "## Virtual Environments and Packages"
   ]
  },
  {
   "cell_type": "markdown",
   "id": "18a17acd-8854-43f9-a874-468d131b72af",
   "metadata": {},
   "source": [
    "Python applications will often use packages and modules that don’t come as part of the standard library.  Applications will sometimes need a specific version of a library, because the application may require that a particular bug has been fixed or the application may be written using an obsolete version of the library’s interface.\n",
    "\n",
    "This means it may not be possible for one Python installation to meet the requirements of every application.  If application A needs version 1.0 of a particular module but application B needs version 2.0, then the requirements are in conflict and installing either version 1.0 or 2.0 will leave one application unable to run.\n",
    "\n",
    "The solution for this problem is to create a [virtual environment](https://docs.python.org/3/glossary.html#term-virtual-environment), a self-contained directory tree that contains a Python installation for a particular version of Python, plus a number of additional packages.\n",
    "\n",
    "Different applications can then use different virtual environments. To resolve the earlier example of conflicting requirements, application A can have its own virtual environment with version 1.0 installed while application B has another virtual environment with version 2.0. If application B requires a library be upgraded to version 3.0, this will not affect application A’s environment.\n",
    "\n",
    "> Python 应用程序经常会使用**不属于标准库的包和模块**。 应用程序有时会需要一个**特定版本的库**，因为应用程序可能需要一个特定的错误已经被修复，或者应用程序可能是用一个过时的库的接口版本编写的。\n",
    ">\n",
    "> 这意味着一个 Python 安装可能无法满足每个应用程序的要求。 如果应用程序 A 需要某个模块的 1.0 版本，但应用程序 B 需要 2.0 版本，那么这些要求就会发生冲突，安装 1.0 或 2.0 版本都会使一个应用程序无法运行。\n",
    ">\n",
    "> 解决这个问题的方法是创建一个 [虚拟环境](https://docs.python.org/3/glossary.html#term-virtual-environment)，一个**独立的目录树**，它包含一个特定版本的 Python 安装，外加一些额外的包。\n",
    ">\n",
    "> 然后不同的应用程序可以使用不同的虚拟环境。为了解决前面的需求冲突的例子，应用程序 A 可以有自己的安装了 1.0 版本的虚拟环境，而应用程序 B 有另一个安装了 2.0 版本的虚拟环境。如果应用程序B要求一个库升级到3.0版本，这将不会影响应用程序A的环境。"
   ]
  },
  {
   "cell_type": "markdown",
   "id": "684a9e00-0bf1-4785-aa54-1b3a594122bb",
   "metadata": {},
   "source": [
    "### Creating Virtual Environments"
   ]
  },
  {
   "cell_type": "markdown",
   "id": "7e12a3fa-0a8f-4a8e-bda2-54b8e6544488",
   "metadata": {},
   "source": [
    "The module used to create and manage virtual environments is called [`venv`](https://docs.python.org/3/library/venv.html#module-venv).  [`venv`](https://docs.python.org/3/library/venv.html#module-venv) will usually install the most recent version of Python that you have available. If you have multiple versions of Python on your system, you can select a specific Python version by running `python3` or whichever version you want.\n",
    "\n",
    "To create a virtual environment, decide upon a directory where you want to place it, and run the [`venv`](https://docs.python.org/3/library/venv.html#module-venv) module as a script with the directory path:\n",
    "\n",
    "> 用于**创建和管理虚拟环境的模块**被称为 [`venv`](https://docs.python.org/3/library/venv.html#module-venv)。 [`venv`](https://docs.python.org/3/library/venv.html#module-venv)通常会安装你现有的最新版本的Python。如果你的系统上有多个Python版本，你可以通过运行`python3`或任何你想要的版本来选择一个特定的Python版本。\n",
    ">\n",
    "> 要创建一个虚拟环境，决定一个你想**放置它的目录**，并以脚本的形式运行 [`venv`](https://docs.python.org/3/library/venv.html#module-venv) 模块，输入目录路径："
   ]
  },
  {
   "cell_type": "code",
   "execution_count": 4,
   "id": "d92ab524-fbbc-4bdb-9168-64710a4eec95",
   "metadata": {},
   "outputs": [],
   "source": [
    "# python3 -m venv tutorial-env"
   ]
  },
  {
   "cell_type": "markdown",
   "id": "d967fb00-6451-4fed-ad1e-6000162af8e3",
   "metadata": {},
   "source": [
    "This will create the `tutorial-env` directory if it doesn’t exist, and also create directories inside it containing a copy of the Python interpreter and various supporting files.\n",
    "\n",
    "A common directory location for a virtual environment is `.venv`. This name keeps the directory typically hidden in your shell and thus out of the way while giving it a name that explains why the directory exists. It also prevents clashing with `.env` environment variable definition files that some tooling supports.\n",
    "\n",
    "Once you’ve created a virtual environment, you may activate it.\n",
    "\n",
    "On Windows, run:\n",
    "\n",
    "> 如果`tutorial-env`目录不存在，这将创建它，并在其中创建包含Python**解释器副本**和各种**支持文件**的目录。\n",
    ">\n",
    "> 虚拟环境的一个常见目录位置是`.venv`。这个名字使目录通常隐藏在你的shell中，因此不碍事，同时给它一个名字来解释为什么这个目录会存在。它还可以防止与一些工具支持的`.env` 环境变量定义文件发生冲突。\n",
    ">\n",
    "> 一旦你创建了一个虚拟环境，你可以**激活**它。\n",
    ">\n",
    "> 在Windows上，运行："
   ]
  },
  {
   "cell_type": "code",
   "execution_count": 5,
   "id": "7d80a8bf-9f7f-4757-b1fd-7fcdb10d69e0",
   "metadata": {},
   "outputs": [],
   "source": [
    "# tutorial-env\\Scripts\\activate.bat"
   ]
  },
  {
   "cell_type": "markdown",
   "id": "cd4b93b9-7bb9-4920-ac51-40a6efbf4cb5",
   "metadata": {},
   "source": [
    "On Unix or MacOS, run:\n",
    "\n",
    "> source tutorial-env/bin/activate"
   ]
  },
  {
   "cell_type": "markdown",
   "id": "f6a7f86b-f13b-46b7-9771-d04b146e2e86",
   "metadata": {},
   "source": [
    "(This script is written for the bash shell.  If you use the **csh** or **fish** shells, there are alternate `activate.csh` and `activate.fish` scripts you should use instead.)\n",
    "\n",
    "Activating the virtual environment will change your shell’s prompt to show what virtual environment you’re using, and modify the environment so that running `python` will get you that particular version and installation of Python. For example:\n",
    "\n",
    "> (这个脚本是为bash shell编写的。 如果你使用**csh**或**fish**shells，你应该使用`activate.csh`和`activate.fish`脚本来代替。）\n",
    ">\n",
    "> 激活虚拟环境将改变 shell 的提示，以显示你正在使用的虚拟环境，并修改环境，使运行 `python` 会得到那个特定版本和安装的 Python。比如说"
   ]
  },
  {
   "cell_type": "markdown",
   "id": "4a750926-c253-4007-920f-67d527a17d51",
   "metadata": {},
   "source": [
    "### Managing Packages with pip"
   ]
  },
  {
   "cell_type": "markdown",
   "id": "b9e4b4a1-0ad4-4ed3-94ba-d31113824477",
   "metadata": {},
   "source": [
    "You can install, upgrade, and remove packages using a program called **pip**.  By default `pip` will install packages from the Python Package Index, <https://pypi.org>.  You can browse the Python Package Index by going to it in your web browser.\n",
    "\n",
    "`pip` has a number of subcommands: “install”, “uninstall”, “freeze”, etc.  (Consult the [Installing Python Modules](https://docs.python.org/3/installing/index.html#installing-index) guide for complete documentation for `pip`.)\n",
    "\n",
    "You can install the latest version of a package by specifying a package’s name:\n",
    "\n",
    "> 你可以使用一个叫**pip**的程序来安装、升级和删除软件包。 默认情况下，`pip`将安装Python Package Index中的软件包，<https://pypi.org>。 你可以通过在你的网页浏览器中浏览Python软件包索引。\n",
    ">\n",
    "> `pip`有许多子命令。\"install\"、\"uninstall\"、\"freeze\"，等等。(查阅 [安装Python模块](https://docs.python.org/3/installing/index.html#installing-index) 指南，了解`pip`的完整文档。)\n",
    ">\n",
    "> 你可以通过指定软件包的名称来安装软件包的**最新**版本："
   ]
  },
  {
   "cell_type": "code",
   "execution_count": 6,
   "id": "03724a0e-4909-4055-bb12-8467d955a4fe",
   "metadata": {},
   "outputs": [],
   "source": [
    "# pip install packagename"
   ]
  },
  {
   "cell_type": "markdown",
   "id": "56e4faba-28a6-45cb-82d7-fd6a3123cdf6",
   "metadata": {},
   "source": [
    "You can also install a specific version of a package by giving the package name followed by == and the version number:\n",
    "\n",
    "> pip install requests==2.6.0"
   ]
  },
  {
   "cell_type": "markdown",
   "id": "2462e053-906f-45fa-9fd6-78d84a8dab9a",
   "metadata": {},
   "source": [
    "If you re-run this command, `pip` will notice that the requested version is already installed and do nothing.  You can supply a different version number to get that version, or you can run `pip install --upgrade` to upgrade the package to the latest version:\n",
    "\n",
    "> 如果你**重新运行**这个命令，`pip`会注意到所要求的版本已经安装，而不做任何事情。 你可以提供一个不同的**版本号**来获得该版本，或者你可以运行`pip install --upgrade`来将软件包**升级**到最新版本。"
   ]
  },
  {
   "cell_type": "code",
   "execution_count": 7,
   "id": "50a78507-3e30-4ef6-893a-e3782789e4df",
   "metadata": {},
   "outputs": [],
   "source": [
    "# pip install --upgrade requests"
   ]
  },
  {
   "cell_type": "markdown",
   "id": "cbc2cb68-9789-46cc-8e26-7221bec481ee",
   "metadata": {},
   "source": [
    "`pip uninstall` followed by one or more package names will remove the packages from the virtual environment.\n",
    "\n",
    "`pip show` will display information about a particular package:\n",
    "\n",
    "> pip show requests"
   ]
  },
  {
   "cell_type": "markdown",
   "id": "0be774fb-e7f9-484c-9d2d-1d7c6156d672",
   "metadata": {},
   "source": [
    "`pip list` will display all of the packages installed in the virtual environment:"
   ]
  },
  {
   "cell_type": "markdown",
   "id": "b283df91-b3b6-4281-aeb0-2b05aa3f330f",
   "metadata": {},
   "source": [
    "`pip freeze` will produce a similar list of the installed packages, but the output uses the format that `pip install` expects. A common convention is to put this list in a `requirements.txt` file:\n",
    "\n",
    "> `pip freeze`将产生一个**类似的已安装软件包**的列表，但输出使用`pip install`所期望的格式。一个常见的惯例是把这个列表放在`requirements.txt`文件中："
   ]
  },
  {
   "cell_type": "code",
   "execution_count": 8,
   "id": "e2cc8df7-8d45-4878-b82c-22c9d63071a1",
   "metadata": {},
   "outputs": [],
   "source": [
    "# pip freeze > requirements.txt\n",
    "# cat requirements.txt"
   ]
  },
  {
   "cell_type": "markdown",
   "id": "89a8767e-a3c6-419e-8dd7-c2f8bd553eaa",
   "metadata": {},
   "source": [
    "The `requirements.txt` can then be committed to version control and shipped as part of an application.  Users can then install all the necessary packages with `install -r`:\n",
    "\n",
    "> 然后，`requirements.txt` 可以**提交到版本控制**中，并作为应用程序的一部分进行运输。 然后用户可以用`install -r`安装所有必要的软件包："
   ]
  },
  {
   "cell_type": "code",
   "execution_count": 9,
   "id": "f7e0de10-08ed-4833-9b3b-9a4c985d4c4c",
   "metadata": {},
   "outputs": [],
   "source": [
    "# pip install -r requirements.txt"
   ]
  },
  {
   "cell_type": "markdown",
   "id": "f406c164-5964-4605-a266-cc5cb5b634d1",
   "metadata": {},
   "source": [
    "`pip` has many more options.  Consult the [Installing Python Modules](https://docs.python.org/3/installing/index.html#installing-index) guide for complete documentation for `pip`.  When you’ve written a package and want to make it available on the Python Package Index, consult the [Distributing Python Modules](https://docs.python.org/3/distributing/index.html#distributing-index) guide."
   ]
  },
  {
   "cell_type": "markdown",
   "id": "4177b30f-fc46-42fd-91e2-892c70f1c279",
   "metadata": {},
   "source": [
    "## What now?"
   ]
  },
  {
   "cell_type": "markdown",
   "id": "bda44692-d5fb-4e62-b09e-95c47b79aadb",
   "metadata": {},
   "source": [
    "Reading this tutorial has probably reinforced your interest in using Python — you should be eager to apply Python to solving your real-world problems. Where should you go to learn more?\n",
    "\n",
    "This tutorial is part of Python’s documentation set.   Some other documents in the set are:\n",
    "\n",
    "- [The Python Standard Library](https://docs.python.org/3/library/index.html#library-index):\n",
    "\n",
    "  You should browse through this manual, which gives complete (though terse) reference material about types, functions, and the modules in the standard library.  The standard Python distribution includes a *lot* of additional code. There are modules to read Unix mailboxes, retrieve documents via HTTP, generate random numbers, parse command-line options, write CGI programs, compress data, and many other tasks. Skimming through the Library Reference will give you an idea of what’s available.\n",
    "\n",
    "- [Installing Python Modules](https://docs.python.org/3/installing/index.html#installing-index) explains how to install additional modules written by other Python users.\n",
    "\n",
    "- [The Python Language Reference](https://docs.python.org/3/reference/index.html#reference-index): A detailed explanation of Python’s syntax and semantics.  It’s heavy reading, but is useful as a complete guide to the language itself.\n",
    "\n",
    "> 阅读本教程可能已经**加强**了你对使用 Python 的兴趣 - 你应该渴望**应用 Python 来解决**你的实际问题。你应该去哪里学习更多的东西呢？\n",
    ">\n",
    "> 本教程是 Python 文档集的一部分。  这套文档中的其他一些文档有：\n",
    ">\n",
    "> - [The Python Standard Library](https://docs.python.org/3/library/index.html#library-index)。\n",
    ">\n",
    ">   你应该浏览一下这本手册，它提供了关于**类型、函数和标准库**中的模块的完整 (虽然很简略) 的参考材料。 标准的 Python 发行版包括了*许多的*附加代码。有一些模块可以读取 Unix 邮箱，通过 HTTP 检索文件，生成随机数，解析命令行选项，编写 CGI 程序，压缩数据，以及其他许多任务。略微浏览一下库参考将使你对可用的东西有一个概念。\n",
    ">\n",
    "> - [Installing Python Modules](https://docs.python.org/3/installing/index.html#installing-index) 解释了**如何安装由其他Python用户编写的附加模块**。\n",
    ">\n",
    "> - [The Python Language Reference](https://docs.python.org/3/reference/index.html#reference-index)。对Python的**语法和语义的详细解释**。 它的阅读量很大，但作为语言本身的完整指南是很有用的。"
   ]
  },
  {
   "cell_type": "markdown",
   "id": "0d0fc04c-54d1-4966-b5cd-367ba5d16728",
   "metadata": {},
   "source": [
    "More Python resources:\n",
    "\n",
    "- https://www.python.org:  The major Python web site.  It contains code, documentation, and pointers to Python-related pages around the web.\n",
    "- https://docs.python.org:  Fast access to Python’s  documentation.\n",
    "- https://pypi.org: The Python Package Index, previously also nicknamed the Cheese Shop [1](https://docs.python.org/3/tutorial/whatnow.html#id2), is an index of user-created Python modules that are available for download.  Once you begin releasing code, you can register it here so that others can find it.\n",
    "- https://code.activestate.com/recipes/langs/python/: The Python Cookbook is a sizable collection of code examples, larger modules, and useful scripts. Particularly notable contributions are collected in a book also titled Python Cookbook (O’Reilly & Associates, ISBN 0-596-00797-3.)\n",
    "- https://pyvideo.org collects links to Python-related videos from conferences and user-group meetings.\n",
    "- https://scipy.org: The Scientific Python project includes modules for fast array computations and manipulations plus a host of packages for such things as linear algebra, Fourier transforms, non-linear solvers, random number distributions, statistical analysis and the like.\n",
    "\n",
    "> 更多Python资源：\n",
    ">\n",
    "> - https://www.python.org。 主要的 Python 网站。 它包含**代码、文档**和指向网络上与Python有关的网页的指针。\n",
    "> - https://docs.python.org。 快速访问 Python 的文档。\n",
    "> - https://pypi.org。Python Package Index，以前也被戏称为奶酪店[1](https://docs.python.org/3/tutorial/whatnow.html#id2)，是一个用户创建的Python模块的索引，可供下载。 一旦你开始发布代码，你可以在这里注册，以便其他人可以找到它。\n",
    "> - https://code.activestate.com/recipes/langs/python/。Python Cookbook 是一个相当大的**代码例子、较大的模块和有用的脚本的集合**。特别显著的贡献被收集在一本同样名为Python Cookbook的书中（O'Reilly & Associates，ISBN 0-596-00797-3。）\n",
    "> - https://pyvideo.org 收集了会议和用户组会议中与Python有关的**视频链接**。\n",
    "> - https://scipy.org。Scientific Python项目包括用于快速**阵列计算和操作**的模块，以及用于线性代数、傅里叶变换、非线性求解器、随机数分布、统计分析等的大量软件包。"
   ]
  },
  {
   "cell_type": "markdown",
   "id": "4722b6fa-782c-4ea2-b52b-05796ec1f99d",
   "metadata": {},
   "source": [
    "For Python-related questions and problem reports, you can post to the newsgroup *comp.lang.python*, or send them to the mailing list at [python-list@python.org](mailto:python-list@python.org).  The newsgroup and mailing list are gatewayed, so messages posted to one will automatically be forwarded to the other.  There are hundreds of postings a day, asking (and answering) questions, suggesting new features, and announcing new modules. Mailing list archives are available at https://mail.python.org/pipermail/.\n",
    "\n",
    "Before posting, be sure to check the list of [Frequently Asked Questions](https://docs.python.org/3/faq/index.html#faq-index) (also called the FAQ).  The FAQ answers many of the questions that come up again and again, and may already contain the solution for your problem.\n",
    "\n",
    "> 对于Python相关的问题和问题报告，你可以发布到**新闻组***comp.lang.python*，或者将它们发送到**邮件列表**[python-list@python.org](mailto:python-list@python.org)。 新闻组和邮件列表是**网关式**的，所以发布到其中一个的信息会自动转发到另一个。 每天有数以百计的帖子，询问（和回答）问题，建议新的功能，并宣布新的模块。邮件列表的档案可在https://mail.python.org/pipermail/。\n",
    ">\n",
    "> 在发帖之前，一定要检查[常见问题解答](https://docs.python.org/3/faq/index.html#faq-index)（也称为**FAQ**）的列表。 常见问题回答了许多反复出现的问题，并且可能已经包含了你问题的解决方案。"
   ]
  },
  {
   "cell_type": "markdown",
   "id": "7e366f6d-a107-48c3-977b-7326af6c25df",
   "metadata": {},
   "source": [
    "## Interactive Input Editing and History Substitution"
   ]
  },
  {
   "cell_type": "markdown",
   "id": "eddff7ec-19f4-4735-8179-352360afefae",
   "metadata": {},
   "source": [
    "Some versions of the Python interpreter support editing of the current input line and history substitution, similar to facilities found in the Korn shell and the GNU Bash shell.  This is implemented using the [GNU Readline](https://tiswww.case.edu/php/chet/readline/rltop.html) library, which supports various styles of editing.  This library has its own documentation which we won’t duplicate here.\n",
    "\n",
    "> 某些版本的Python解释器支持对当前输入行的**编辑**和**历史替换**，类似于Korn shell和GNU Bash shell中的设施。 这是用 [GNU Readline](https://tiswww.case.edu/php/chet/readline/rltop.html) 库实现的，它支持各种风格的编辑。 这个库有自己的文档，我们不在此重复。"
   ]
  },
  {
   "cell_type": "markdown",
   "id": "792cd1fb-2675-4c4d-b54c-1f599f64f2e4",
   "metadata": {},
   "source": [
    "**Tab Completion and History Editing**\n",
    "\n",
    "Completion of variable and module names is [automatically enabled](https://docs.python.org/3/library/site.html#rlcompleter-config) at interpreter startup so that the Tab key invokes the completion function; it looks at Python statement names, the current local variables, and the available module names.  For dotted expressions such as `string.a`, it will evaluate the expression up to the final `'.'` and then suggest completions from the attributes of the resulting object.  Note that this may execute application-defined code if an object with a `__getattr__()` method is part of the expression.  The default configuration also saves your history into a file named `.python_history` in your user directory. The history will be available again during the next interactive interpreter session.\n",
    "\n",
    "> **变量**和**模块名称的补全**在解释器启动时[自动启用](https://docs.python.org/3/library/site.html#rlcompleter-config)，这样Tab键就会调用补全功能；它查看Python语句名称、当前局部变量和可用的模块名称。 对于带点的表达式，如 `string.a`，它将运行计算表达式，直到最后的\".\"，然后从结果对象的属性中建议完成。 注意，如果表达式中包含有`__getattr__()`方法的对象，这可能会执行**应用程序定义的代码**。 默认配置也会将你的历史记录保存在用户目录下一个名为`.python_history`的文件中。在下一次交互式解释器会话中，该历史记录将再次可用。\n",
    "\n",
    "**Alternatives to the Interative Interpreter**\n",
    "\n",
    "This facility is an enormous step forward compared to earlier versions of the interpreter; however, some wishes are left: It would be nice if the proper indentation were suggested on continuation lines (the parser knows if an indent token is required next).  The completion mechanism might use the interpreter’s symbol table.  A command to check (or even suggest) matching parentheses, quotes, etc., would also be useful.\n",
    "\n",
    "One alternative enhanced interactive interpreter that has been around for quite some time is [IPython](https://ipython.org/), which features tab completion, object exploration and advanced history management.  It can also be thoroughly customized and embedded into other applications.  Another similar enhanced interactive environment is [bpython](https://www.bpython-interpreter.org/).\n",
    "\n",
    "> 与早期版本的解释器相比，这一设施是一个巨大的进步；然而，还存在一些愿望。如果能在延续行上建议适当的缩进，那就更好了（解释器知道接下来是否需要缩进标记）。 完成机制可以使用解释器的符号表。 一个检查（甚至建议）匹配的括号、引号等的命令也会很有用。\n",
    ">\n",
    "> 一个已经存在了相当长一段时间的增强型**交互式解释器**是[IPython](https://ipython.org/)，它的特点是标签完成、对象探索和高级历史管理。 它也可以被彻底定制并嵌入到其他的应用程序中。 另一个类似的增强型交互环境是[bpython](https://www.bpython-interpreter.org/)。"
   ]
  },
  {
   "cell_type": "markdown",
   "id": "ea878492-e583-4e49-8dd5-96d4314ddc6b",
   "metadata": {},
   "source": [
    "## Floating Point Arithmetic: Issue and Limitations"
   ]
  },
  {
   "cell_type": "markdown",
   "id": "469e426b-b38d-46d0-9317-0707b0f5680f",
   "metadata": {},
   "source": [
    "Floating-point numbers are represented in computer hardware as base 2 (binary) fractions.  For example, the decimal fraction\n",
    "\n",
    "> **浮点数**在计算机**硬件中**被表示为基数2（二进制）的**分数**。 例如，**十进制的分数**"
   ]
  },
  {
   "cell_type": "code",
   "execution_count": 10,
   "id": "3c8f2716-5b69-48aa-b3fc-a7aba973b501",
   "metadata": {},
   "outputs": [
    {
     "data": {
      "text/plain": [
       "0.125"
      ]
     },
     "execution_count": 10,
     "metadata": {},
     "output_type": "execute_result"
    }
   ],
   "source": [
    "0.125"
   ]
  },
  {
   "cell_type": "markdown",
   "id": "71b7fc8a-0790-4a5b-9c90-90ac7efaff85",
   "metadata": {},
   "source": [
    "has value 1/10 + 2/100 + 5/1000, and in the same way the binary fraction\n",
    "\n",
    "> **值**为1/10+2/100+5/1000，同样，**二进制分数**"
   ]
  },
  {
   "cell_type": "code",
   "execution_count": 11,
   "id": "cfa9e058-bff1-4468-9163-b8c1f0f43f5e",
   "metadata": {},
   "outputs": [
    {
     "data": {
      "text/plain": [
       "0.001"
      ]
     },
     "execution_count": 11,
     "metadata": {},
     "output_type": "execute_result"
    }
   ],
   "source": [
    "0.001"
   ]
  },
  {
   "cell_type": "markdown",
   "id": "e6382a67-807f-4b00-9604-63edb30b5c30",
   "metadata": {},
   "source": [
    "has value 0/2 + 0/4 + 1/8.  These two fractions have identical values, the only real difference being that the first is written in base 10 fractional notation, and the second in base 2.\n",
    "\n",
    "Unfortunately, most decimal fractions cannot be represented exactly as binary fractions.  A consequence is that, in general, the decimal floating-point numbers you enter are only approximated by the binary floating-point numbers actually stored in the machine.\n",
    "\n",
    "The problem is easier to understand at first in base 10.  Consider the fraction 1/3.  You can approximate that as a base 10 fraction:\n",
    "\n",
    "> 值为0/2+0/4+1/8。 这两个分数的数值是相同的，唯一真正的区别是第一个分数是用**基数10**的分数符号写的，而第二个是用**基数2**的符号。\n",
    ">\n",
    "> 不幸的是，**大多数十进制的分数都不能准确地表示为二进制的分数**。 其结果是，一般来说，你输入的十进制浮点数只能与机器中实际存储的二进制浮点数**相近**。\n",
    ">\n",
    "> 这个问题一开始在基数10中比较容易理解。 考虑一下分数1/3。 你可以把它近似为一个基数10的分数："
   ]
  },
  {
   "cell_type": "code",
   "execution_count": 12,
   "id": "12fdd243-c9ac-42ea-991c-0dcbc8a81eb7",
   "metadata": {},
   "outputs": [
    {
     "data": {
      "text/plain": [
       "0.3"
      ]
     },
     "execution_count": 12,
     "metadata": {},
     "output_type": "execute_result"
    }
   ],
   "source": [
    "0.3"
   ]
  },
  {
   "cell_type": "markdown",
   "id": "3f78faa6-6738-4baf-9edc-6d1b31479dee",
   "metadata": {},
   "source": [
    "or, better,"
   ]
  },
  {
   "cell_type": "code",
   "execution_count": 13,
   "id": "3faa4122-3c1d-4634-b738-5094a14ba5b8",
   "metadata": {},
   "outputs": [
    {
     "data": {
      "text/plain": [
       "0.33"
      ]
     },
     "execution_count": 13,
     "metadata": {},
     "output_type": "execute_result"
    }
   ],
   "source": [
    "0.33"
   ]
  },
  {
   "cell_type": "markdown",
   "id": "3d10b645-3c32-4d06-be8c-8564118ef320",
   "metadata": {},
   "source": [
    "or, better,"
   ]
  },
  {
   "cell_type": "code",
   "execution_count": 14,
   "id": "9457bb47-7af9-4d2d-a498-1d1166a43c8c",
   "metadata": {},
   "outputs": [
    {
     "data": {
      "text/plain": [
       "0.333"
      ]
     },
     "execution_count": 14,
     "metadata": {},
     "output_type": "execute_result"
    }
   ],
   "source": [
    "0.333"
   ]
  },
  {
   "cell_type": "markdown",
   "id": "859ad4e1-6f2d-4072-b23b-8eee607f8458",
   "metadata": {},
   "source": [
    "and so on.  No matter how many digits you’re willing to write down, the result will never be exactly 1/3, but will be an increasingly better approximation of 1/3.\n",
    "\n",
    "In the same way, no matter how many base 2 digits you’re willing to use, the decimal value 0.1 cannot be represented exactly as a base 2 fraction.  In base 2, 1/10 is the infinitely repeating fraction\n",
    "\n",
    "> 以此类推。 无论你愿意写下多少个数字，结果永远不会是精确的1/3，而是越来越好的1/3的**近似值**。\n",
    ">\n",
    "> 同样，无论你愿意用多少个二进制数字，小数值0.1也不能完全表示为二进制分数。 在基数2中，1/10是**无限重复的分数**"
   ]
  },
  {
   "cell_type": "markdown",
   "id": "7251c4f3-cab5-4537-8c94-5ed08951cf62",
   "metadata": {},
   "source": [
    "0.0001100110011001100110011001100110011001100110011..."
   ]
  },
  {
   "cell_type": "markdown",
   "id": "0948dc80-4698-4187-8fcc-0cfca1fe1448",
   "metadata": {},
   "source": [
    "Stop at any finite number of bits, and you get an approximation.  On most machines today, floats are approximated using a binary fraction with the numerator using the first 53 bits starting with the most significant bit and with the denominator as a power of two.  In the case of 1/10, the binary fraction is `3602879701896397 / 2 ** 55` which is close to but not exactly equal to the true value of 1/10.\n",
    "\n",
    "Many users are not aware of the approximation because of the way values are displayed.  Python only prints a decimal approximation to the true decimal value of the binary approximation stored by the machine.  On most machines, if Python were to print the true decimal value of the binary approximation stored for 0.1, it would have to display\n",
    "\n",
    "> 停在任何**有限的**位数上，你就会得到一个**近似值**。 在今天的大多数机器上，**浮点数是用二进制分数来近似的**，分子从最重要的位开始，使用前53位，分母是2的幂。 在1/10的情况下，二进制分数是`3602879701896397 / 2 ** 55`，接近但不完全等于1/10的真实值。\n",
    ">\n",
    "> 由于数值的显示方式，许多用户没有意识到这个近似值。 **Python只打印出机器存储的二进制近似值的十进制近似值**。 在大多数机器上，如果 Python 要打印存储为 0.1 的二进制近似值的真实十进制值，它必须显示"
   ]
  },
  {
   "cell_type": "raw",
   "id": "b1ce6825-bc03-4af9-92b9-712761ecdc1c",
   "metadata": {},
   "source": [
    ">>> 0.1\n",
    "0.1000000000000000055511151231257827021181583404541015625"
   ]
  },
  {
   "cell_type": "markdown",
   "id": "c0f6a4f8-2878-455e-83e2-ce049273948c",
   "metadata": {},
   "source": [
    "That is more digits than most people find useful, so Python keeps the number of digits manageable by displaying a rounded value instead\n",
    "\n",
    "> 这比大多数人认为有用的数字要多，所以Python通过显示一个**四舍五入的值**来保持数字的**可控性**。"
   ]
  },
  {
   "cell_type": "raw",
   "id": "979be1a2-e04f-4ea7-9e18-b42f5c5a19a9",
   "metadata": {},
   "source": [
    ">>> 1 / 10\n",
    "0.1"
   ]
  },
  {
   "cell_type": "markdown",
   "id": "f4a58f7a-c62a-4325-a0b7-9573315331d4",
   "metadata": {},
   "source": [
    "Just remember, even though the printed result looks like the exact value of 1/10, the actual stored value is the nearest representable binary fraction.\n",
    "\n",
    "Interestingly, there are many different decimal numbers that share the same nearest approximate binary fraction.  For example, the numbers `0.1` and `0.10000000000000001` and `0.1000000000000000055511151231257827021181583404541015625` are all approximated by `3602879701896397 / 2 ** 55`.  Since all of these decimal values share the same approximation, any one of them could be displayed while still preserving the invariant `eval(repr(x)) == x`.\n",
    "\n",
    "Historically, the Python prompt and built-in [`repr()`](https://docs.python.org/3/library/functions.html#repr) function would choose the one with 17 significant digits, `0.10000000000000001`.   Starting with Python 3.1, Python (on most systems) is now able to choose the shortest of these and simply display `0.1`.\n",
    "\n",
    "Note that this is in the very nature of binary floating-point: this is not a bug in Python, and it is not a bug in your code either.  You’ll see the same kind of thing in all languages that support your hardware’s floating-point arithmetic (although some languages may not *display* the difference by default, or in all output modes).\n",
    "\n",
    "For more pleasant output, you may wish to use string formatting to produce a limited number of significant digits:\n",
    "\n",
    "> 请记住，尽管打印出来的结果看起来是1/10的精确值，但**实际存储的值**是最接近的可表示的二进制分数。\n",
    ">\n",
    "> 有趣的是，有**许多不同的十进制数字都有相同的最接近的二进制分数**。 例如，数字`0.1`和`0.10000000000000001`以及`0.1000000000000000055511151231257827021181583404541015625`都是由`3602879701896397/2 ** 55`近似的。 因为所有这些十进制的值都有相同的近似值，所以可以显示其中的任何一个，同时仍然保留不变的`eval(repr(x)) == x`。\n",
    ">\n",
    "> 历史上，Python提示和内置的[`repr()`](https://docs.python.org/3/library/functions.html#repr)函数会选择有17位**有效数字**的那个，即`0.10000000000000001`。  从Python 3.1开始，Python (在大多数系统上)现在能够选择其中最短的，并简单地显示`0.1`。\n",
    ">\n",
    "> 请注意，这是**二进制浮点的本质**：这不是Python的一个错误，也不是你的代码的一个错误。 你会在**所有支持硬件浮点运算的语言**中看到同样的东西 (尽管有些语言可能在默认情况下不*显示*差异，或者在所有的输出模式下不显示)。\n",
    ">\n",
    "> 为了获得更令人愉快的输出，你可能希望使用字符串格式化来产生**有限数量**的**有效数字**："
   ]
  },
  {
   "cell_type": "code",
   "execution_count": 20,
   "id": "8226dc8a-b792-415e-8883-a8ef283e2b7e",
   "metadata": {},
   "outputs": [
    {
     "data": {
      "text/plain": [
       "'3.14159265359'"
      ]
     },
     "execution_count": 20,
     "metadata": {},
     "output_type": "execute_result"
    },
    {
     "data": {
      "text/plain": [
       "'3.14'"
      ]
     },
     "execution_count": 20,
     "metadata": {},
     "output_type": "execute_result"
    },
    {
     "data": {
      "text/plain": [
       "'3.141592653589793'"
      ]
     },
     "execution_count": 20,
     "metadata": {},
     "output_type": "execute_result"
    }
   ],
   "source": [
    "import math\n",
    "format(math.pi, '.12g')    # give 12 significant digits\n",
    "\n",
    "format(math.pi, '.2f')    # give 2 digits after the point\n",
    "\n",
    "repr(math.pi)"
   ]
  },
  {
   "cell_type": "markdown",
   "id": "554c7f25-3961-4df4-a4e9-f1822f2a9363",
   "metadata": {},
   "source": [
    "It’s important to realize that this is, in a real sense, an illusion: you’re simply rounding the *display* of the true machine value.\n",
    "\n",
    "One illusion may beget another.  For example, since 0.1 is not exactly 1/10, summing three values of 0.1 may not yield exactly 0.3, either:\n",
    "\n",
    "> 重要的是要认识到，从真正意义上讲，这是一种幻觉：你只是在四舍五入地*显示*真实的机器值。\n",
    ">\n",
    "> 一个幻觉可能会带来另一个幻觉。 例如，由于0.1并不完全是1/10，将三个0.1的值相加可能也不会完全产生0.3。"
   ]
  },
  {
   "cell_type": "code",
   "execution_count": 21,
   "id": "3415dae4-c73e-4d96-bb11-d1ca163d75ce",
   "metadata": {},
   "outputs": [
    {
     "data": {
      "text/plain": [
       "False"
      ]
     },
     "execution_count": 21,
     "metadata": {},
     "output_type": "execute_result"
    }
   ],
   "source": [
    ".1 + .1 + .1 == .3"
   ]
  },
  {
   "cell_type": "markdown",
   "id": "b8d55325-7ee1-4709-b679-40ca0e0a63ec",
   "metadata": {},
   "source": [
    "Also, since the 0.1 cannot get any closer to the exact value of 1/10 and 0.3 cannot get any closer to the exact value of 3/10, then pre-rounding with [`round()`](https://docs.python.org/3/library/functions.html#round) function cannot help:\n",
    "\n",
    "> 另外，由于0.1不能更接近1/10的精确值，0.3不能更接近3/10的精确值，那么用[`round()`](https://docs.python.org/3/library/functions.html#round)函数进行预近似也无济于事："
   ]
  },
  {
   "cell_type": "code",
   "execution_count": 22,
   "id": "84828c9a-3a96-48e7-b3f4-3c75ccfba1f5",
   "metadata": {},
   "outputs": [
    {
     "data": {
      "text/plain": [
       "False"
      ]
     },
     "execution_count": 22,
     "metadata": {},
     "output_type": "execute_result"
    }
   ],
   "source": [
    "round(.1, 1) + round(.1, 1) + round(.1, 1) == round(.3, 1)"
   ]
  },
  {
   "cell_type": "markdown",
   "id": "8d98cf45-c10f-4069-9bef-1d04446d61f3",
   "metadata": {},
   "source": [
    "Though the numbers cannot be made closer to their intended exact values, the [`round()`](https://docs.python.org/3/library/functions.html#round) function can be useful for post-rounding so that results with inexact values become comparable to one another:\n",
    "\n",
    "> 尽管不能使数字更接近其预期的精确值，但[`round()`](https://docs.python.org/3/library/functions.html#round)函数对**后置舍入**很有用，这样不精确的结果就可以相互比较了。"
   ]
  },
  {
   "cell_type": "code",
   "execution_count": 23,
   "id": "07f6f3d2-6749-40ee-bbdc-a6e459500ad5",
   "metadata": {},
   "outputs": [
    {
     "data": {
      "text/plain": [
       "True"
      ]
     },
     "execution_count": 23,
     "metadata": {},
     "output_type": "execute_result"
    }
   ],
   "source": [
    "round(.1 + .1 + .1, 10) == round(.3, 10)"
   ]
  },
  {
   "cell_type": "markdown",
   "id": "394f01f3-907f-4a74-a34c-79e26c519e09",
   "metadata": {},
   "source": [
    "Binary floating-point arithmetic holds many surprises like this.  The problem with “0.1” is explained in precise detail below, in the “Representation Error” section.  See [The Perils of Floating Point](https://www.lahey.com/float.htm) for a more complete account of other common surprises.\n",
    "\n",
    "As that says near the end, “there are no easy answers.”  Still, don’t be unduly wary of floating-point!  The errors in Python float operations are inherited from the floating-point hardware, and on most machines are on the order of no more than 1 part in 2**53 per operation.  That’s more than adequate for most tasks, but you do need to keep in mind that it’s not decimal arithmetic and that every float operation can suffer a new rounding error.\n",
    "\n",
    "While pathological cases do exist, for most casual use of floating-point arithmetic you’ll see the result you expect in the end if you simply round the display of your final results to the number of decimal digits you expect. [`str()`](https://docs.python.org/3/library/stdtypes.html#str) usually suffices, and for finer control see the [`str.format()`](https://docs.python.org/3/library/stdtypes.html#str.format) method’s format specifiers in [Format String Syntax](https://docs.python.org/3/library/string.html#formatstrings).\n",
    "\n",
    "For use cases which require exact decimal representation, try using the [`decimal`](https://docs.python.org/3/library/decimal.html#module-decimal) module which implements decimal arithmetic suitable for accounting applications and high-precision applications.\n",
    "\n",
    "Another form of exact arithmetic is supported by the [`fractions`](https://docs.python.org/3/library/fractions.html#module-fractions) module which implements arithmetic based on rational numbers (so the numbers like 1/3 can be represented exactly).\n",
    "\n",
    "If you are a heavy user of floating point operations you should take a look at the NumPy package and many other packages for mathematical and statistical operations supplied by the SciPy project. See <https://scipy.org>.\n",
    "\n",
    "Python provides tools that may help on those rare occasions when you really *do* want to know the exact value of a float.  The [`float.as_integer_ratio()`](https://docs.python.org/3/library/stdtypes.html#float.as_integer_ratio) method expresses the value of a float as a fraction:\n",
    "\n",
    "> 二进制浮点运算有很多这样的惊喜。 关于 \"0.1 \"的问题，我们会在下面的 \"表示错误 \"一节中详细说明。 关于其他常见的意外情况，请参见[浮点的危险](https://www.lahey.com/float.htm)，了解更全面的说明。\n",
    ">\n",
    "> 正如接近尾声时所说，\"没有简单的答案\"。 尽管如此，还是不要对浮点有过分的戒心!  Python浮点运算的误差是由**浮点硬件**继承的，在大多数机器上，每次运算的误差不超过2**53中的1部分。 这对于大多数任务来说是绰绰有余的，但是你需要记住，这不是十进制的算术，每一次浮点运算都可能出现新的舍入误差。\n",
    ">\n",
    "> 虽然病态的情况确实存在，但对于大多数随意使用浮点运算的情况，如果你简单地将最终结果的显示四舍五入到你期望的小数位数，你最终会看到你期望的结果。[`str()`](https://docs.python.org/3/library/stdtypes.html#str)通常就足够了，如果要进行更精细的控制，请参见[格式化字符串语法](https://docs.python.org/3/library/stdtypes.html#str.format)中[`str.format()`]方法的格式指定器。\n",
    ">\n",
    "> 对于需要精确十进制表示的用例，可以尝试使用[`decimal`](https://docs.python.org/3/library/decimal.html#module-decimal)模块，它实现了适合会计应用和高精度应用的十进制算术。\n",
    ">\n",
    "> 另一种形式的精确算术由[`fractions`](https://docs.python.org/3/library/fractions.html#module-fractions)模块支持，它实现了基于有理数的算术（所以像1/3这样的数字可以被精确表示）。\n",
    ">\n",
    "> 如果你是浮点运算的忠实用户，你应该看看NumPy包和SciPy项目提供的许多其他数学和统计运算包。见<https://scipy.org>。\n",
    ">\n",
    "> Python 提供了一些工具，当你*真的*想知道一个浮点数的精确值时，这些工具可能会有所帮助。 [`float.as_integer_ratio()`](https://docs.python.org/3/library/stdtypes.html#float.as_integer_ratio)方法将一个浮点数的值表示为分数："
   ]
  },
  {
   "cell_type": "code",
   "execution_count": 24,
   "id": "bccb5d4a-a263-4b81-8486-c96fdec98d95",
   "metadata": {},
   "outputs": [
    {
     "data": {
      "text/plain": [
       "(3537115888337719, 1125899906842624)"
      ]
     },
     "execution_count": 24,
     "metadata": {},
     "output_type": "execute_result"
    }
   ],
   "source": [
    "x = 3.14159\n",
    "x.as_integer_ratio()"
   ]
  },
  {
   "cell_type": "markdown",
   "id": "fcf3548c-760f-41cb-8fd7-958084866d79",
   "metadata": {},
   "source": [
    "Since the ratio is exact, it can be used to losslessly recreate the original value:\n",
    "\n",
    "> 由于该比率是精确的，它可以被用来**无损地**重现原始值："
   ]
  },
  {
   "cell_type": "code",
   "execution_count": 25,
   "id": "4609478f-c40d-4a62-a692-6cc2988a8314",
   "metadata": {},
   "outputs": [],
   "source": [
    "x = 3537115888337719 / 1125899906842624"
   ]
  },
  {
   "cell_type": "markdown",
   "id": "e4de1e55-ac50-4d57-8028-a95ade945464",
   "metadata": {},
   "source": [
    "The [`float.hex()`](https://docs.python.org/3/library/stdtypes.html#float.hex) method expresses a float in hexadecimal (base 16), again giving the exact value stored by your computer:\n",
    "\n",
    "> [`float.hex()`](https://docs.python.org/3/library/stdtypes.html#float.hex)方法用**十六进制**(base 16)表示一个浮点数，再次给出你的计算机存储的精确值："
   ]
  },
  {
   "cell_type": "code",
   "execution_count": 26,
   "id": "8964f2a9-b7c8-4917-96c5-70318c0db888",
   "metadata": {},
   "outputs": [
    {
     "data": {
      "text/plain": [
       "'0x1.921f9f01b866ep+1'"
      ]
     },
     "execution_count": 26,
     "metadata": {},
     "output_type": "execute_result"
    }
   ],
   "source": [
    "x.hex()"
   ]
  },
  {
   "cell_type": "markdown",
   "id": "f4480700-feb3-497d-a4dd-85bf4fc623c6",
   "metadata": {},
   "source": [
    "This precise hexadecimal representation can be used to reconstruct the float value exactly:\n",
    "\n",
    "> 这种精确的十六进制表示法可以用来准确地**重建**浮动值："
   ]
  },
  {
   "cell_type": "code",
   "execution_count": 27,
   "id": "5b36e9e1-5d7f-49d4-9636-3b8767808a69",
   "metadata": {},
   "outputs": [
    {
     "data": {
      "text/plain": [
       "True"
      ]
     },
     "execution_count": 27,
     "metadata": {},
     "output_type": "execute_result"
    }
   ],
   "source": [
    "x == float.fromhex('0x1.921f9f01b866ep+1')"
   ]
  },
  {
   "cell_type": "markdown",
   "id": "c5e65252-8b1f-46ea-bbd4-718198cdcac0",
   "metadata": {},
   "source": [
    "Since the representation is exact, it is useful for reliably porting values across different versions of Python (platform independence) and exchanging data with other languages that support the same format (such as Java and C99).\n",
    "\n",
    "Another helpful tool is the [`math.fsum()`](https://docs.python.org/3/library/math.html#math.fsum) function which helps mitigate loss-of-precision during summation.  It tracks “lost digits” as values are added onto a running total.  That can make a difference in overall accuracy so that the errors do not accumulate to the point where they affect the final total:\n",
    "\n",
    "> 由于表示法是精确的，它对于在不同版本的Python中可靠地**移植数值**(平台独立性)和与其他支持相同格式的语言(如Java和C99)**交换数据**很有用。\n",
    ">\n",
    "> 另一个有用的工具是[`math.fsum()`](https://docs.python.org/3/library/math.html#math.fsum)函数，它有助于**减轻**求和过程中的**精度损失**。 当数值被添加到一个运行的总数上时，它可以跟踪 \"丢失的数字\"。 这对整体的准确性有很大的影响，这样错误就不会累积到影响最终总数的地步："
   ]
  },
  {
   "cell_type": "code",
   "execution_count": 29,
   "id": "dc15fe3d-6129-423e-b708-4af8f4640b56",
   "metadata": {},
   "outputs": [
    {
     "data": {
      "text/plain": [
       "False"
      ]
     },
     "execution_count": 29,
     "metadata": {},
     "output_type": "execute_result"
    },
    {
     "data": {
      "text/plain": [
       "True"
      ]
     },
     "execution_count": 29,
     "metadata": {},
     "output_type": "execute_result"
    }
   ],
   "source": [
    "sum([0.1] * 10) == 1.0\n",
    "\n",
    "math.fsum([0.1] * 10) == 1.0"
   ]
  },
  {
   "cell_type": "markdown",
   "id": "6391dc12-5348-499d-8a24-783ee2412bce",
   "metadata": {},
   "source": [
    "### Representation Error"
   ]
  },
  {
   "cell_type": "markdown",
   "id": "c2bb5c02-034d-4a46-be66-a545d6a71091",
   "metadata": {},
   "source": [
    "This section explains the “0.1” example in detail, and shows how you can perform an exact analysis of cases like this yourself.  Basic familiarity with binary floating-point representation is assumed.\n",
    "\n",
    "*Representation error* refers to the fact that some (most, actually) decimal fractions cannot be represented exactly as binary (base 2) fractions. This is the chief reason why Python (or Perl, C, C++, Java, Fortran, and many others) often won’t display the exact decimal number you expect.\n",
    "\n",
    "Why is that?  1/10 is not exactly representable as a binary fraction. Almost all machines today (November 2000) use IEEE-754 floating point arithmetic, and almost all platforms map Python floats to IEEE-754 “double precision”.  754 doubles contain 53 bits of precision, so on input the computer strives to convert 0.1 to the closest fraction it can of the form *J*/2***N* where *J* is an integer containing exactly 53 bits.  Rewriting\n",
    "\n",
    "> 本节详细解释了 \"0.1\" 的例子，并展示了你如何自己对这样的情况进行**精确分析**。 假设你对**二进制浮点表示法**有基本的熟悉。\n",
    ">\n",
    "> *代表性错误*指的是一些(实际上是大多数)**十进制分数**不能被精确地表示为二进制(基数2)分数的事实。这是Python（或Perl、C、C++、Java、Fortran和许多其它语言）经常不能显示你所期望的精确的十进制数的主要原因。\n",
    ">\n",
    "> 为什么会这样呢？ 1/10不能准确地表示为二进制分数。今天（2000年11月）几乎所有的机器都使用**IEEE-754浮点运算**，而且几乎所有的平台都将Python浮点映射为IEEE-754 \"**双精度**\"。 754双精度包含**53比特的精度**，所以在输入时，计算机努力将0.1转换成最接近的分数，其形式为*J*/2***N*，其中*J*是一个正好包含**53比特的整数**。 重写"
   ]
  },
  {
   "cell_type": "raw",
   "id": "22bc8417-da4a-4590-b0d9-5ee0d8f8db38",
   "metadata": {},
   "source": [
    "1/10 ~= J / (2**N)\n",
    "\n",
    "as \n",
    "\n",
    "J ~= 2**N / 10"
   ]
  },
  {
   "cell_type": "markdown",
   "id": "1cdba9c5-808d-42e4-95cd-ca5b56393a13",
   "metadata": {},
   "source": [
    "and recalling that *J* has exactly 53 bits (is `>= 2**52` but `< 2**53`), the best value for *N* is 56:\n",
    "\n",
    "> 并忆及*J*正好有53位（是`>=2**52`但`<2**53`），*N*的最佳值是56："
   ]
  },
  {
   "cell_type": "code",
   "execution_count": 5,
   "id": "b744693d-169b-43e3-ba0e-ddd1499d88ae",
   "metadata": {},
   "outputs": [
    {
     "data": {
      "text/plain": [
       "True"
      ]
     },
     "execution_count": 5,
     "metadata": {},
     "output_type": "execute_result"
    }
   ],
   "source": [
    "2**52 <= 2**56 // 10 < 2**53"
   ]
  },
  {
   "cell_type": "markdown",
   "id": "4e27c15d-b690-413a-af3b-3b4aee4626be",
   "metadata": {},
   "source": [
    "That is, 56 is the only value for *N* that leaves *J* with exactly 53 bits.  The best possible value for *J* is then that quotient rounded:\n",
    "\n",
    "> 也就是说，56是*N*的唯一值，它使*J*正好有53位。 那么，*J*的最佳值就是四舍五入的**商数**："
   ]
  },
  {
   "cell_type": "code",
   "execution_count": 8,
   "id": "b6901390-095a-4c94-9aad-bae2582a25ad",
   "metadata": {},
   "outputs": [
    {
     "data": {
      "text/plain": [
       "6"
      ]
     },
     "execution_count": 8,
     "metadata": {},
     "output_type": "execute_result"
    },
    {
     "data": {
      "text/plain": [
       "4"
      ]
     },
     "execution_count": 8,
     "metadata": {},
     "output_type": "execute_result"
    },
    {
     "data": {
      "text/plain": [
       "1"
      ]
     },
     "execution_count": 8,
     "metadata": {},
     "output_type": "execute_result"
    }
   ],
   "source": [
    "q, r = divmod(2**56, 10)\n",
    "r\n",
    "\n",
    "a, b = divmod(9, 2)\n",
    "a\n",
    "b"
   ]
  },
  {
   "cell_type": "markdown",
   "id": "8dad06d6-be20-4157-a32f-544385546fc8",
   "metadata": {},
   "source": [
    "Since the remainder is more than half of 10, the best approximation is obtained by rounding up:\n",
    "\n",
    "> 由于**余数**超过了10的一半，所以通过**四舍五入**可以得到最好的近似值："
   ]
  },
  {
   "cell_type": "code",
   "execution_count": 9,
   "id": "0eee3c2a-0d23-4735-9be8-f7f5344ee412",
   "metadata": {},
   "outputs": [
    {
     "data": {
      "text/plain": [
       "7205759403792794"
      ]
     },
     "execution_count": 9,
     "metadata": {},
     "output_type": "execute_result"
    }
   ],
   "source": [
    "q+1"
   ]
  },
  {
   "cell_type": "markdown",
   "id": "82dd0496-d9bf-4737-9c80-34e6f0d87ad1",
   "metadata": {},
   "source": [
    "Therefore the best possible approximation to 1/10 in 754 double precision is:\n",
    "\n",
    "> 因此，**754双精度**中对1/10的最佳近似值是："
   ]
  },
  {
   "cell_type": "code",
   "execution_count": 10,
   "id": "3cf21328-ea5f-4b55-ba33-a8623d2baf60",
   "metadata": {},
   "outputs": [
    {
     "data": {
      "text/plain": [
       "0.1"
      ]
     },
     "execution_count": 10,
     "metadata": {},
     "output_type": "execute_result"
    }
   ],
   "source": [
    "7205759403792794 / 2 ** 56"
   ]
  },
  {
   "cell_type": "markdown",
   "id": "426f4589-f6b4-40df-b611-4966398e8b2b",
   "metadata": {},
   "source": [
    "Dividing both the numerator and denominator by two reduces the fraction to:\n",
    "\n",
    "> **分子**和分母都除以2，分数就会减少到："
   ]
  },
  {
   "cell_type": "code",
   "execution_count": 14,
   "id": "64e78be9-e238-4e4e-8d57-88fdd105d8aa",
   "metadata": {},
   "outputs": [
    {
     "data": {
      "text/plain": [
       "3602879701896397.0"
      ]
     },
     "execution_count": 14,
     "metadata": {},
     "output_type": "execute_result"
    },
    {
     "data": {
      "text/plain": [
       "0.1"
      ]
     },
     "execution_count": 14,
     "metadata": {},
     "output_type": "execute_result"
    }
   ],
   "source": [
    "7205759403792794 / 2\n",
    "3602879701896397 / 2 ** 55"
   ]
  },
  {
   "cell_type": "markdown",
   "id": "4f8d6ccd-a7ab-42ad-bf95-47e93f6c0d11",
   "metadata": {},
   "source": [
    "Note that since we rounded up, this is actually a little bit larger than 1/10; if we had not rounded up, the quotient would have been a little bit smaller than 1/10.  But in no case can it be *exactly* 1/10!\n",
    "\n",
    "So the computer never “sees” 1/10:  what it sees is the exact fraction given above, the best 754 double approximation it can get:\n",
    "\n",
    "> 请注意，由于我们四舍五入，这实际上是比1/10大一点；如果我们不四舍五入，商就会比1/10小一点。 但在任何情况下，它都不可能是*精确的*1/10!\n",
    ">\n",
    "> 所以计算机从来没有 \"看到 \"1/10：它看到的是上面给出的精确分数，是它能得到的最好的754 双精度近似值："
   ]
  },
  {
   "cell_type": "code",
   "execution_count": 15,
   "id": "79bbf439-ff52-4eb9-a3bc-cdfdcb8168cd",
   "metadata": {},
   "outputs": [
    {
     "data": {
      "text/plain": [
       "3602879701896397.0"
      ]
     },
     "execution_count": 15,
     "metadata": {},
     "output_type": "execute_result"
    }
   ],
   "source": [
    "0.1 * 2 ** 55"
   ]
  },
  {
   "cell_type": "markdown",
   "id": "4253c697-1077-43e7-9477-7983e5bffd98",
   "metadata": {},
   "source": [
    "If we multiply that fraction by 10**55, we can see the value out to 55 decimal digits:\n",
    "\n",
    "> 如果我们用这个分数**乘以**10**55，我们可以看到小数点后55位的数值"
   ]
  },
  {
   "cell_type": "code",
   "execution_count": 16,
   "id": "61a6e679-6767-4afb-ab2c-e95cceac3578",
   "metadata": {},
   "outputs": [
    {
     "data": {
      "text/plain": [
       "1000000000000000055511151231257827021181583404541015625"
      ]
     },
     "execution_count": 16,
     "metadata": {},
     "output_type": "execute_result"
    }
   ],
   "source": [
    "3602879701896397 * 10 ** 55 // 2 ** 55"
   ]
  },
  {
   "cell_type": "markdown",
   "id": "179cdc4f-6508-40d0-98ed-4d2bd5920b7e",
   "metadata": {},
   "source": [
    "meaning that the exact number stored in the computer is equal to the decimal value 0.1000000000000000055511151231257827021181583404541015625. Instead of displaying the full decimal value, many languages (including older versions of Python), round the result to 17 significant digits:\n",
    "\n",
    "> 意味着存储在计算机中的准确数字等于十进制数值0.1000000000000000055511151231257827021181583404541015625。许多语言（包括Python的旧版本）不显示完整的十进制数值，而是将结果四舍五入到**17位有效数字**。"
   ]
  },
  {
   "cell_type": "code",
   "execution_count": 17,
   "id": "35abfacf-b366-4fd1-b77e-2ae2bc436d9f",
   "metadata": {},
   "outputs": [
    {
     "data": {
      "text/plain": [
       "'0.10000000000000001'"
      ]
     },
     "execution_count": 17,
     "metadata": {},
     "output_type": "execute_result"
    }
   ],
   "source": [
    "format(0.1, '.17f')"
   ]
  },
  {
   "cell_type": "markdown",
   "id": "5123a5f6-5c16-40a7-acd9-d7dbaf5205f6",
   "metadata": {},
   "source": [
    "The [`fractions`](https://docs.python.org/3/library/fractions.html#module-fractions) and [`decimal`](https://docs.python.org/3/library/decimal.html#module-decimal) modules make these calculations easy:\n",
    "\n",
    "> [`fractions`](https://docs.python.org/3/library/fractions.html#module-fractions)和[`decimal`](https://docs.python.org/3/library/decimal.html#module-decimal)模块使这些计算变得简单："
   ]
  },
  {
   "cell_type": "code",
   "execution_count": 19,
   "id": "4fb4c5f5-90f5-432a-b8e5-35fffdbcbc1f",
   "metadata": {},
   "outputs": [
    {
     "data": {
      "text/plain": [
       "Fraction(3602879701896397, 36028797018963968)"
      ]
     },
     "execution_count": 19,
     "metadata": {},
     "output_type": "execute_result"
    },
    {
     "data": {
      "text/plain": [
       "(3602879701896397, 36028797018963968)"
      ]
     },
     "execution_count": 19,
     "metadata": {},
     "output_type": "execute_result"
    },
    {
     "data": {
      "text/plain": [
       "Decimal('0.1000000000000000055511151231257827021181583404541015625')"
      ]
     },
     "execution_count": 19,
     "metadata": {},
     "output_type": "execute_result"
    },
    {
     "data": {
      "text/plain": [
       "'0.10000000000000001'"
      ]
     },
     "execution_count": 19,
     "metadata": {},
     "output_type": "execute_result"
    }
   ],
   "source": [
    "from decimal import Decimal\n",
    "from fractions import Fraction\n",
    "\n",
    "Fraction.from_float(0.1)\n",
    "\n",
    "(0.1).as_integer_ratio()\n",
    "\n",
    "Decimal.from_float(0.1)\n",
    "\n",
    "format(Decimal.from_float(0.1), '.17')"
   ]
  },
  {
   "cell_type": "markdown",
   "id": "25aa18fc-83ff-4166-af20-dc517f01cd4c",
   "metadata": {},
   "source": [
    "## Appendix"
   ]
  },
  {
   "cell_type": "markdown",
   "id": "5d5b30e4-11cf-4207-bed4-a04e67219491",
   "metadata": {},
   "source": [
    "**Interactive Mode**\n",
    "\n",
    "**Error Handling**"
   ]
  },
  {
   "cell_type": "markdown",
   "id": "71aa3e0c-fb1c-47f3-8c3b-0f48a5ddd74c",
   "metadata": {},
   "source": [
    "When an error occurs, the interpreter prints an error message and a stack trace. In interactive mode, it then returns to the primary prompt; when input came from a file, it exits with a nonzero exit status after printing the stack trace. (Exceptions handled by an [`except`](https://docs.python.org/3/reference/compound_stmts.html#except) clause in a [`try`](https://docs.python.org/3/reference/compound_stmts.html#try) statement are not errors in this context.)  Some errors are unconditionally fatal and cause an exit with a nonzero exit; this applies to internal inconsistencies and some cases of running out of memory.  All error messages are written to the standard error stream; normal output from executed commands is written to standard output.\n",
    "\n",
    "Typing the interrupt character (usually Control-C or Delete) to the primary or secondary prompt cancels the input and returns to the primary prompt. [1](https://docs.python.org/3/tutorial/appendix.html#id2) Typing an interrupt while a command is executing raises the [`KeyboardInterrupt`](https://docs.python.org/3/library/exceptions.html#KeyboardInterrupt) exception, which may be handled by a [`try`](https://docs.python.org/3/reference/compound_stmts.html#try) statement.\n",
    "\n",
    "> 当一个错误发生时，**解释器**会打印一个**错误信息**和一个**堆栈跟踪**。在交互式模式下，它将返回**主提示符**；当输入来自文件时，它在打印堆栈跟踪后以**非零**的退出状态退出。(由[`except`](https://docs.python.org/3/reference/compound_stmts.html#except)语句中的[`try`](https://docs.python.org/3/reference/compound_stmts.html#try)子句处理的异常在这种情况下不是错误。)  有些错误是无条件致命的，会导致非零退出；这适用于内部不一致和一些内存耗尽的情况。 所有的错误信息都被写入标准错误流；被执行命令的正常输出被写入标准输出。\n",
    ">\n",
    "> 向主提示符或**副提示符**输入中断字符（通常是Control-C或Delete）会取消输入并返回到主提示符。[1](https://docs.python.org/3/tutorial/appendix.html#id2) 在命令执行过程中输入中断字符会引发[`KeyboardInterrupt`](https://docs.python.org/3/library/exceptions.html#KeyboardInterrupt)异常，可以用[`try`](https://docs.python.org/3/reference/compound_stmts.html#try)语句来处理。"
   ]
  },
  {
   "cell_type": "markdown",
   "id": "1f6c00bb-4c13-4af7-8cf5-3f059578e2de",
   "metadata": {},
   "source": [
    "**Executable Python Scripts**"
   ]
  },
  {
   "cell_type": "markdown",
   "id": "5aac5c79-91bc-4407-a76d-fff20e725e60",
   "metadata": {},
   "source": [
    "On BSD’ish Unix systems, Python scripts can be made directly executable, like shell scripts, by putting the line\n",
    "\n",
    "> 在BSD'ish Unix系统上，Python脚本可以像shell脚本一样直接执行，方法是将一行"
   ]
  },
  {
   "cell_type": "code",
   "execution_count": 21,
   "id": "909e529e-58b1-4595-85f2-ef55128ec801",
   "metadata": {},
   "outputs": [],
   "source": [
    "#!/usr/bin/env python3.5"
   ]
  },
  {
   "cell_type": "markdown",
   "id": "03c450fd-5766-4071-8a59-165fb052b939",
   "metadata": {},
   "source": [
    "(assuming that the interpreter is on the user’s `PATH`) at the beginning of the script and giving the file an executable mode.  The `#!` must be the first two characters of the file.  On some platforms, this first line must end with a Unix-style line ending (`'\\n'`), not a Windows (`'\\r\\n'`) line ending.  Note that the hash, or pound, character, `'#'`, is used to start a comment in Python.\n",
    "\n",
    "The script can be given an executable mode, or permission, using the **chmod** command.\n",
    "\n",
    "> (假设解释器在用户的`PATH`上）在脚本的开头，并给文件一个可执行的模式。 `#！`必须是文件的前两个字符。 在某些平台上，这第一行必须以Unix风格的行结尾(`'\\'n'`)结束，而不是Windows的(`'\\r\\n'`)行结尾。 注意，在Python中，哈希字符，或者说重击字符，`'#'`，是用来开始一个注释的。\n",
    ">\n",
    "> 可以使用**chmod**命令给脚本一个可执行的模式，或者说权限："
   ]
  },
  {
   "cell_type": "raw",
   "id": "0d2ca4db-d0b8-47cb-998a-2e2ad68a2df6",
   "metadata": {},
   "source": [
    "$ chmod +x myscript.py"
   ]
  },
  {
   "cell_type": "markdown",
   "id": "f99fdd01-fbd6-460a-bfa6-2d469b816d6d",
   "metadata": {},
   "source": [
    "On Windows systems, there is no notion of an “executable mode”.  The Python installer automatically associates `.py` files with `python.exe` so that a double-click on a Python file will run it as a script.  The extension can also be `.pyw`, in that case, the console window that normally appears is suppressed.\n",
    "\n",
    "> 在 Windows 系统上，没有 \"executable mode\"的概念。 Python安装程序会自动将`.py`文件与`python.exe`联系起来，这样**双击**一个Python文件就会作为一个脚本运行。 扩展名也可以是`.pyw`，在这种情况下，通常出现的**控制台**窗口会被抑制住。"
   ]
  },
  {
   "cell_type": "markdown",
   "id": "43f5fa71-619c-41c6-930d-123a633585c8",
   "metadata": {},
   "source": [
    "**The Interactive Startup File**"
   ]
  },
  {
   "cell_type": "markdown",
   "id": "6fe87a84-a02c-42fc-896a-73fe10ef5a13",
   "metadata": {},
   "source": [
    "When you use Python interactively, it is frequently handy to have some standard commands executed every time the interpreter is started.  You can do this by setting an environment variable named [`PYTHONSTARTUP`](https://docs.python.org/3/using/cmdline.html#envvar-PYTHONSTARTUP) to the name of a file containing your start-up commands.  This is similar to the `.profile` feature of the Unix shells.\n",
    "\n",
    "This file is only read in interactive sessions, not when Python reads commands from a script, and not when `/dev/tty` is given as the explicit source of commands (which otherwise behaves like an interactive session).  It is executed in the same namespace where interactive commands are executed, so that objects that it defines or imports can be used without qualification in the interactive session. You can also change the prompts `sys.ps1` and `sys.ps2` in this file.\n",
    "\n",
    "If you want to read an additional start-up file from the current directory, you can program this in the global start-up file using code like `if os.path.isfile('.pythonrc.py'): exec(open('.pythonrc.py').read())`. If you want to use the startup file in a script, you must do this explicitly in the script:\n",
    "\n",
    "> 当你**交互式地**使用 Python 时，每次启动解释器时执行一些标准命令是非常方便的。 你可以通过设置一个名为 [`PYTHONSTARTUP`](https://docs.python.org/3/using/cmdline.html#envvar-PYTHONSTARTUP) 的**环境变量**来实现，该变量是一个包含启动命令的文件名。 这类似于Unix shells的 `.profile` 功能。\n",
    ">\n",
    "> 这个文件只在**交互式会话**中被读取，而不是当 Python 从脚本中读取命令时，也不是当 `/dev/tty` 被指定为命令的明确来源时 (否则表现得像一个交互式会话)。 它在执行交互式命令的同一命名空间中执行，因此它定义或导入的对象可以在交互式会话中不加限定地使用。你也可以在这个文件中改变**提示信息**`sys.ps1`和`sys.ps2`。\n",
    ">\n",
    "> 如果你想从当前目录中读取一个**额外的启动文件**，你可以在全局启动文件中使用`if os.path.isfile('.pythonrc.py'): exec(open('.pythonrc.py').read()`这样的代码编程。如果你想在一个脚本中使用启动文件，你必须在脚本中明确地这样做："
   ]
  },
  {
   "cell_type": "code",
   "execution_count": 23,
   "id": "e802c6a0-83c6-435e-911f-addf41da9e06",
   "metadata": {},
   "outputs": [],
   "source": [
    "import os\n",
    "filename = os.environ.get('PYTHONSTARTUP')\n",
    "if filename and os.path.isfile(filename):\n",
    "    with open(filename) as fobj:\n",
    "        startup_file = fobj.read()\n",
    "    exec(startup_file)"
   ]
  },
  {
   "cell_type": "markdown",
   "id": "9b439e46-9dca-4760-aeba-352b988b8fa2",
   "metadata": {},
   "source": [
    "**The Customization Modules**"
   ]
  },
  {
   "cell_type": "markdown",
   "id": "5f6cf69d-9f3f-4b72-8737-b7475681204e",
   "metadata": {},
   "source": [
    "Python provides two hooks to let you customize it: `sitecustomize` and `usercustomize`.  To see how it works, you need first to find the location of your user site-packages directory.  Start Python and run this code:\n",
    "\n",
    "> Python提供了两个**钩子**让你定制它：`sitecustomize`和`usercustomize`。 要看它是如何工作的，你首先需要找到你的用户site-packages目录的位置。 启动Python并运行这段代码："
   ]
  },
  {
   "cell_type": "code",
   "execution_count": 24,
   "id": "f6ee5608-ab3a-4c1c-8018-98095ca7bb09",
   "metadata": {},
   "outputs": [
    {
     "data": {
      "text/plain": [
       "'C:\\\\Users\\\\Administrator\\\\AppData\\\\Roaming\\\\Python\\\\Python310\\\\site-packages'"
      ]
     },
     "execution_count": 24,
     "metadata": {},
     "output_type": "execute_result"
    }
   ],
   "source": [
    "import site\n",
    "site.getusersitepackages()"
   ]
  },
  {
   "cell_type": "markdown",
   "id": "3ce63e12-cc67-48d9-9851-3f8943a09dfd",
   "metadata": {},
   "source": [
    "Now you can create a file named `usercustomize.py` in that directory and put anything you want in it.  It will affect every invocation of Python, unless it is started with the [`-s`](https://docs.python.org/3/using/cmdline.html#cmdoption-s) option to disable the automatic import.\n",
    "\n",
    "`sitecustomize` works in the same way, but is typically created by an administrator of the computer in the global **site-packages** directory, and is imported before `usercustomize`.  See the documentation of the [`site`](https://docs.python.org/3/library/site.html#module-site) module for more details.\n",
    "\n",
    "> 现在你可以在该目录下创建一个名为 `usercustomize.py` 的文件，并在其中放入任何你想要的东西。 它将影响Python的每次调用，除非用[`-s`](https://docs.python.org/3/using/cmdline.html#cmdoption-s)选项启动，以禁止自动导入。\n",
    ">\n",
    "> `sitecustomize`的工作方式相同，但通常是由计算机的管理员在**全局**site-packages目录下创建，并在`usercustomize`之前导入。 更多细节见[`site`](https://docs.python.org/3/library/site.html#module-site)模块的文档。"
   ]
  },
  {
   "cell_type": "markdown",
   "id": "38866a0b-b206-460e-bf7c-076dc375cbe6",
   "metadata": {},
   "source": [
    "## Python demo"
   ]
  },
  {
   "cell_type": "markdown",
   "id": "8d216daa-c567-4b15-9416-db533087664b",
   "metadata": {},
   "source": [
    "**beer.py**\n",
    "\n",
    "reverse counting the number of bottles of the beer, appley the `for` loop, and the use of `sys` module?"
   ]
  },
  {
   "cell_type": "code",
   "execution_count": 7,
   "id": "2c589a4c-36d5-4a4a-9f0a-d0c753d1b549",
   "metadata": {
    "scrolled": true,
    "tags": []
   },
   "outputs": [
    {
     "data": {
      "text/plain": [
       "'reverse counting the number of bottles'"
      ]
     },
     "execution_count": 7,
     "metadata": {},
     "output_type": "execute_result"
    },
    {
     "name": "stdout",
     "output_type": "stream",
     "text": [
      "100 bottles of beer on the wall,\n",
      "100 bottles of beer.\n",
      "Take one down, pass it around,\n",
      "99 bottles of beer on the wall.\n"
     ]
    },
    {
     "data": {
      "text/plain": [
       "'reverse counting the number of bottles'"
      ]
     },
     "execution_count": 7,
     "metadata": {},
     "output_type": "execute_result"
    },
    {
     "name": "stdout",
     "output_type": "stream",
     "text": [
      "99 bottles of beer on the wall,\n",
      "99 bottles of beer.\n",
      "Take one down, pass it around,\n",
      "98 bottles of beer on the wall.\n"
     ]
    },
    {
     "data": {
      "text/plain": [
       "'reverse counting the number of bottles'"
      ]
     },
     "execution_count": 7,
     "metadata": {},
     "output_type": "execute_result"
    },
    {
     "name": "stdout",
     "output_type": "stream",
     "text": [
      "98 bottles of beer on the wall,\n",
      "98 bottles of beer.\n",
      "Take one down, pass it around,\n",
      "97 bottles of beer on the wall.\n"
     ]
    },
    {
     "data": {
      "text/plain": [
       "'reverse counting the number of bottles'"
      ]
     },
     "execution_count": 7,
     "metadata": {},
     "output_type": "execute_result"
    },
    {
     "name": "stdout",
     "output_type": "stream",
     "text": [
      "97 bottles of beer on the wall,\n",
      "97 bottles of beer.\n",
      "Take one down, pass it around,\n",
      "96 bottles of beer on the wall.\n"
     ]
    },
    {
     "data": {
      "text/plain": [
       "'reverse counting the number of bottles'"
      ]
     },
     "execution_count": 7,
     "metadata": {},
     "output_type": "execute_result"
    },
    {
     "name": "stdout",
     "output_type": "stream",
     "text": [
      "96 bottles of beer on the wall,\n",
      "96 bottles of beer.\n",
      "Take one down, pass it around,\n",
      "95 bottles of beer on the wall.\n"
     ]
    },
    {
     "data": {
      "text/plain": [
       "'reverse counting the number of bottles'"
      ]
     },
     "execution_count": 7,
     "metadata": {},
     "output_type": "execute_result"
    },
    {
     "name": "stdout",
     "output_type": "stream",
     "text": [
      "95 bottles of beer on the wall,\n",
      "95 bottles of beer.\n",
      "Take one down, pass it around,\n",
      "94 bottles of beer on the wall.\n"
     ]
    },
    {
     "data": {
      "text/plain": [
       "'reverse counting the number of bottles'"
      ]
     },
     "execution_count": 7,
     "metadata": {},
     "output_type": "execute_result"
    },
    {
     "name": "stdout",
     "output_type": "stream",
     "text": [
      "94 bottles of beer on the wall,\n",
      "94 bottles of beer.\n",
      "Take one down, pass it around,\n",
      "93 bottles of beer on the wall.\n"
     ]
    },
    {
     "data": {
      "text/plain": [
       "'reverse counting the number of bottles'"
      ]
     },
     "execution_count": 7,
     "metadata": {},
     "output_type": "execute_result"
    },
    {
     "name": "stdout",
     "output_type": "stream",
     "text": [
      "93 bottles of beer on the wall,\n",
      "93 bottles of beer.\n",
      "Take one down, pass it around,\n",
      "92 bottles of beer on the wall.\n"
     ]
    },
    {
     "data": {
      "text/plain": [
       "'reverse counting the number of bottles'"
      ]
     },
     "execution_count": 7,
     "metadata": {},
     "output_type": "execute_result"
    },
    {
     "name": "stdout",
     "output_type": "stream",
     "text": [
      "92 bottles of beer on the wall,\n",
      "92 bottles of beer.\n",
      "Take one down, pass it around,\n",
      "91 bottles of beer on the wall.\n"
     ]
    },
    {
     "data": {
      "text/plain": [
       "'reverse counting the number of bottles'"
      ]
     },
     "execution_count": 7,
     "metadata": {},
     "output_type": "execute_result"
    },
    {
     "name": "stdout",
     "output_type": "stream",
     "text": [
      "91 bottles of beer on the wall,\n",
      "91 bottles of beer.\n",
      "Take one down, pass it around,\n",
      "90 bottles of beer on the wall.\n"
     ]
    },
    {
     "data": {
      "text/plain": [
       "'reverse counting the number of bottles'"
      ]
     },
     "execution_count": 7,
     "metadata": {},
     "output_type": "execute_result"
    },
    {
     "name": "stdout",
     "output_type": "stream",
     "text": [
      "90 bottles of beer on the wall,\n",
      "90 bottles of beer.\n",
      "Take one down, pass it around,\n",
      "89 bottles of beer on the wall.\n"
     ]
    },
    {
     "data": {
      "text/plain": [
       "'reverse counting the number of bottles'"
      ]
     },
     "execution_count": 7,
     "metadata": {},
     "output_type": "execute_result"
    },
    {
     "name": "stdout",
     "output_type": "stream",
     "text": [
      "89 bottles of beer on the wall,\n",
      "89 bottles of beer.\n",
      "Take one down, pass it around,\n",
      "88 bottles of beer on the wall.\n"
     ]
    },
    {
     "data": {
      "text/plain": [
       "'reverse counting the number of bottles'"
      ]
     },
     "execution_count": 7,
     "metadata": {},
     "output_type": "execute_result"
    },
    {
     "name": "stdout",
     "output_type": "stream",
     "text": [
      "88 bottles of beer on the wall,\n",
      "88 bottles of beer.\n",
      "Take one down, pass it around,\n",
      "87 bottles of beer on the wall.\n"
     ]
    },
    {
     "data": {
      "text/plain": [
       "'reverse counting the number of bottles'"
      ]
     },
     "execution_count": 7,
     "metadata": {},
     "output_type": "execute_result"
    },
    {
     "name": "stdout",
     "output_type": "stream",
     "text": [
      "87 bottles of beer on the wall,\n",
      "87 bottles of beer.\n",
      "Take one down, pass it around,\n",
      "86 bottles of beer on the wall.\n"
     ]
    },
    {
     "data": {
      "text/plain": [
       "'reverse counting the number of bottles'"
      ]
     },
     "execution_count": 7,
     "metadata": {},
     "output_type": "execute_result"
    },
    {
     "name": "stdout",
     "output_type": "stream",
     "text": [
      "86 bottles of beer on the wall,\n",
      "86 bottles of beer.\n",
      "Take one down, pass it around,\n",
      "85 bottles of beer on the wall.\n"
     ]
    },
    {
     "data": {
      "text/plain": [
       "'reverse counting the number of bottles'"
      ]
     },
     "execution_count": 7,
     "metadata": {},
     "output_type": "execute_result"
    },
    {
     "name": "stdout",
     "output_type": "stream",
     "text": [
      "85 bottles of beer on the wall,\n",
      "85 bottles of beer.\n",
      "Take one down, pass it around,\n",
      "84 bottles of beer on the wall.\n"
     ]
    },
    {
     "data": {
      "text/plain": [
       "'reverse counting the number of bottles'"
      ]
     },
     "execution_count": 7,
     "metadata": {},
     "output_type": "execute_result"
    },
    {
     "name": "stdout",
     "output_type": "stream",
     "text": [
      "84 bottles of beer on the wall,\n",
      "84 bottles of beer.\n",
      "Take one down, pass it around,\n",
      "83 bottles of beer on the wall.\n"
     ]
    },
    {
     "data": {
      "text/plain": [
       "'reverse counting the number of bottles'"
      ]
     },
     "execution_count": 7,
     "metadata": {},
     "output_type": "execute_result"
    },
    {
     "name": "stdout",
     "output_type": "stream",
     "text": [
      "83 bottles of beer on the wall,\n",
      "83 bottles of beer.\n",
      "Take one down, pass it around,\n",
      "82 bottles of beer on the wall.\n"
     ]
    },
    {
     "data": {
      "text/plain": [
       "'reverse counting the number of bottles'"
      ]
     },
     "execution_count": 7,
     "metadata": {},
     "output_type": "execute_result"
    },
    {
     "name": "stdout",
     "output_type": "stream",
     "text": [
      "82 bottles of beer on the wall,\n",
      "82 bottles of beer.\n",
      "Take one down, pass it around,\n",
      "81 bottles of beer on the wall.\n"
     ]
    },
    {
     "data": {
      "text/plain": [
       "'reverse counting the number of bottles'"
      ]
     },
     "execution_count": 7,
     "metadata": {},
     "output_type": "execute_result"
    },
    {
     "name": "stdout",
     "output_type": "stream",
     "text": [
      "81 bottles of beer on the wall,\n",
      "81 bottles of beer.\n",
      "Take one down, pass it around,\n",
      "80 bottles of beer on the wall.\n"
     ]
    },
    {
     "data": {
      "text/plain": [
       "'reverse counting the number of bottles'"
      ]
     },
     "execution_count": 7,
     "metadata": {},
     "output_type": "execute_result"
    },
    {
     "name": "stdout",
     "output_type": "stream",
     "text": [
      "80 bottles of beer on the wall,\n",
      "80 bottles of beer.\n",
      "Take one down, pass it around,\n",
      "79 bottles of beer on the wall.\n"
     ]
    },
    {
     "data": {
      "text/plain": [
       "'reverse counting the number of bottles'"
      ]
     },
     "execution_count": 7,
     "metadata": {},
     "output_type": "execute_result"
    },
    {
     "name": "stdout",
     "output_type": "stream",
     "text": [
      "79 bottles of beer on the wall,\n",
      "79 bottles of beer.\n",
      "Take one down, pass it around,\n",
      "78 bottles of beer on the wall.\n"
     ]
    },
    {
     "data": {
      "text/plain": [
       "'reverse counting the number of bottles'"
      ]
     },
     "execution_count": 7,
     "metadata": {},
     "output_type": "execute_result"
    },
    {
     "name": "stdout",
     "output_type": "stream",
     "text": [
      "78 bottles of beer on the wall,\n",
      "78 bottles of beer.\n",
      "Take one down, pass it around,\n",
      "77 bottles of beer on the wall.\n"
     ]
    },
    {
     "data": {
      "text/plain": [
       "'reverse counting the number of bottles'"
      ]
     },
     "execution_count": 7,
     "metadata": {},
     "output_type": "execute_result"
    },
    {
     "name": "stdout",
     "output_type": "stream",
     "text": [
      "77 bottles of beer on the wall,\n",
      "77 bottles of beer.\n",
      "Take one down, pass it around,\n",
      "76 bottles of beer on the wall.\n"
     ]
    },
    {
     "data": {
      "text/plain": [
       "'reverse counting the number of bottles'"
      ]
     },
     "execution_count": 7,
     "metadata": {},
     "output_type": "execute_result"
    },
    {
     "name": "stdout",
     "output_type": "stream",
     "text": [
      "76 bottles of beer on the wall,\n",
      "76 bottles of beer.\n",
      "Take one down, pass it around,\n",
      "75 bottles of beer on the wall.\n"
     ]
    },
    {
     "data": {
      "text/plain": [
       "'reverse counting the number of bottles'"
      ]
     },
     "execution_count": 7,
     "metadata": {},
     "output_type": "execute_result"
    },
    {
     "name": "stdout",
     "output_type": "stream",
     "text": [
      "75 bottles of beer on the wall,\n",
      "75 bottles of beer.\n",
      "Take one down, pass it around,\n",
      "74 bottles of beer on the wall.\n"
     ]
    },
    {
     "data": {
      "text/plain": [
       "'reverse counting the number of bottles'"
      ]
     },
     "execution_count": 7,
     "metadata": {},
     "output_type": "execute_result"
    },
    {
     "name": "stdout",
     "output_type": "stream",
     "text": [
      "74 bottles of beer on the wall,\n",
      "74 bottles of beer.\n",
      "Take one down, pass it around,\n",
      "73 bottles of beer on the wall.\n"
     ]
    },
    {
     "data": {
      "text/plain": [
       "'reverse counting the number of bottles'"
      ]
     },
     "execution_count": 7,
     "metadata": {},
     "output_type": "execute_result"
    },
    {
     "name": "stdout",
     "output_type": "stream",
     "text": [
      "73 bottles of beer on the wall,\n",
      "73 bottles of beer.\n",
      "Take one down, pass it around,\n",
      "72 bottles of beer on the wall.\n"
     ]
    },
    {
     "data": {
      "text/plain": [
       "'reverse counting the number of bottles'"
      ]
     },
     "execution_count": 7,
     "metadata": {},
     "output_type": "execute_result"
    },
    {
     "name": "stdout",
     "output_type": "stream",
     "text": [
      "72 bottles of beer on the wall,\n",
      "72 bottles of beer.\n",
      "Take one down, pass it around,\n",
      "71 bottles of beer on the wall.\n"
     ]
    },
    {
     "data": {
      "text/plain": [
       "'reverse counting the number of bottles'"
      ]
     },
     "execution_count": 7,
     "metadata": {},
     "output_type": "execute_result"
    },
    {
     "name": "stdout",
     "output_type": "stream",
     "text": [
      "71 bottles of beer on the wall,\n",
      "71 bottles of beer.\n",
      "Take one down, pass it around,\n",
      "70 bottles of beer on the wall.\n"
     ]
    },
    {
     "data": {
      "text/plain": [
       "'reverse counting the number of bottles'"
      ]
     },
     "execution_count": 7,
     "metadata": {},
     "output_type": "execute_result"
    },
    {
     "name": "stdout",
     "output_type": "stream",
     "text": [
      "70 bottles of beer on the wall,\n",
      "70 bottles of beer.\n",
      "Take one down, pass it around,\n",
      "69 bottles of beer on the wall.\n"
     ]
    },
    {
     "data": {
      "text/plain": [
       "'reverse counting the number of bottles'"
      ]
     },
     "execution_count": 7,
     "metadata": {},
     "output_type": "execute_result"
    },
    {
     "name": "stdout",
     "output_type": "stream",
     "text": [
      "69 bottles of beer on the wall,\n",
      "69 bottles of beer.\n",
      "Take one down, pass it around,\n",
      "68 bottles of beer on the wall.\n"
     ]
    },
    {
     "data": {
      "text/plain": [
       "'reverse counting the number of bottles'"
      ]
     },
     "execution_count": 7,
     "metadata": {},
     "output_type": "execute_result"
    },
    {
     "name": "stdout",
     "output_type": "stream",
     "text": [
      "68 bottles of beer on the wall,\n",
      "68 bottles of beer.\n",
      "Take one down, pass it around,\n",
      "67 bottles of beer on the wall.\n"
     ]
    },
    {
     "data": {
      "text/plain": [
       "'reverse counting the number of bottles'"
      ]
     },
     "execution_count": 7,
     "metadata": {},
     "output_type": "execute_result"
    },
    {
     "name": "stdout",
     "output_type": "stream",
     "text": [
      "67 bottles of beer on the wall,\n",
      "67 bottles of beer.\n",
      "Take one down, pass it around,\n",
      "66 bottles of beer on the wall.\n"
     ]
    },
    {
     "data": {
      "text/plain": [
       "'reverse counting the number of bottles'"
      ]
     },
     "execution_count": 7,
     "metadata": {},
     "output_type": "execute_result"
    },
    {
     "name": "stdout",
     "output_type": "stream",
     "text": [
      "66 bottles of beer on the wall,\n",
      "66 bottles of beer.\n",
      "Take one down, pass it around,\n",
      "65 bottles of beer on the wall.\n"
     ]
    },
    {
     "data": {
      "text/plain": [
       "'reverse counting the number of bottles'"
      ]
     },
     "execution_count": 7,
     "metadata": {},
     "output_type": "execute_result"
    },
    {
     "name": "stdout",
     "output_type": "stream",
     "text": [
      "65 bottles of beer on the wall,\n",
      "65 bottles of beer.\n",
      "Take one down, pass it around,\n",
      "64 bottles of beer on the wall.\n"
     ]
    },
    {
     "data": {
      "text/plain": [
       "'reverse counting the number of bottles'"
      ]
     },
     "execution_count": 7,
     "metadata": {},
     "output_type": "execute_result"
    },
    {
     "name": "stdout",
     "output_type": "stream",
     "text": [
      "64 bottles of beer on the wall,\n",
      "64 bottles of beer.\n",
      "Take one down, pass it around,\n",
      "63 bottles of beer on the wall.\n"
     ]
    },
    {
     "data": {
      "text/plain": [
       "'reverse counting the number of bottles'"
      ]
     },
     "execution_count": 7,
     "metadata": {},
     "output_type": "execute_result"
    },
    {
     "name": "stdout",
     "output_type": "stream",
     "text": [
      "63 bottles of beer on the wall,\n",
      "63 bottles of beer.\n",
      "Take one down, pass it around,\n",
      "62 bottles of beer on the wall.\n"
     ]
    },
    {
     "data": {
      "text/plain": [
       "'reverse counting the number of bottles'"
      ]
     },
     "execution_count": 7,
     "metadata": {},
     "output_type": "execute_result"
    },
    {
     "name": "stdout",
     "output_type": "stream",
     "text": [
      "62 bottles of beer on the wall,\n",
      "62 bottles of beer.\n",
      "Take one down, pass it around,\n",
      "61 bottles of beer on the wall.\n"
     ]
    },
    {
     "data": {
      "text/plain": [
       "'reverse counting the number of bottles'"
      ]
     },
     "execution_count": 7,
     "metadata": {},
     "output_type": "execute_result"
    },
    {
     "name": "stdout",
     "output_type": "stream",
     "text": [
      "61 bottles of beer on the wall,\n",
      "61 bottles of beer.\n",
      "Take one down, pass it around,\n",
      "60 bottles of beer on the wall.\n"
     ]
    },
    {
     "data": {
      "text/plain": [
       "'reverse counting the number of bottles'"
      ]
     },
     "execution_count": 7,
     "metadata": {},
     "output_type": "execute_result"
    },
    {
     "name": "stdout",
     "output_type": "stream",
     "text": [
      "60 bottles of beer on the wall,\n",
      "60 bottles of beer.\n",
      "Take one down, pass it around,\n",
      "59 bottles of beer on the wall.\n"
     ]
    },
    {
     "data": {
      "text/plain": [
       "'reverse counting the number of bottles'"
      ]
     },
     "execution_count": 7,
     "metadata": {},
     "output_type": "execute_result"
    },
    {
     "name": "stdout",
     "output_type": "stream",
     "text": [
      "59 bottles of beer on the wall,\n",
      "59 bottles of beer.\n",
      "Take one down, pass it around,\n",
      "58 bottles of beer on the wall.\n"
     ]
    },
    {
     "data": {
      "text/plain": [
       "'reverse counting the number of bottles'"
      ]
     },
     "execution_count": 7,
     "metadata": {},
     "output_type": "execute_result"
    },
    {
     "name": "stdout",
     "output_type": "stream",
     "text": [
      "58 bottles of beer on the wall,\n",
      "58 bottles of beer.\n",
      "Take one down, pass it around,\n",
      "57 bottles of beer on the wall.\n"
     ]
    },
    {
     "data": {
      "text/plain": [
       "'reverse counting the number of bottles'"
      ]
     },
     "execution_count": 7,
     "metadata": {},
     "output_type": "execute_result"
    },
    {
     "name": "stdout",
     "output_type": "stream",
     "text": [
      "57 bottles of beer on the wall,\n",
      "57 bottles of beer.\n",
      "Take one down, pass it around,\n",
      "56 bottles of beer on the wall.\n"
     ]
    },
    {
     "data": {
      "text/plain": [
       "'reverse counting the number of bottles'"
      ]
     },
     "execution_count": 7,
     "metadata": {},
     "output_type": "execute_result"
    },
    {
     "name": "stdout",
     "output_type": "stream",
     "text": [
      "56 bottles of beer on the wall,\n",
      "56 bottles of beer.\n",
      "Take one down, pass it around,\n",
      "55 bottles of beer on the wall.\n"
     ]
    },
    {
     "data": {
      "text/plain": [
       "'reverse counting the number of bottles'"
      ]
     },
     "execution_count": 7,
     "metadata": {},
     "output_type": "execute_result"
    },
    {
     "name": "stdout",
     "output_type": "stream",
     "text": [
      "55 bottles of beer on the wall,\n",
      "55 bottles of beer.\n",
      "Take one down, pass it around,\n",
      "54 bottles of beer on the wall.\n"
     ]
    },
    {
     "data": {
      "text/plain": [
       "'reverse counting the number of bottles'"
      ]
     },
     "execution_count": 7,
     "metadata": {},
     "output_type": "execute_result"
    },
    {
     "name": "stdout",
     "output_type": "stream",
     "text": [
      "54 bottles of beer on the wall,\n",
      "54 bottles of beer.\n",
      "Take one down, pass it around,\n",
      "53 bottles of beer on the wall.\n"
     ]
    },
    {
     "data": {
      "text/plain": [
       "'reverse counting the number of bottles'"
      ]
     },
     "execution_count": 7,
     "metadata": {},
     "output_type": "execute_result"
    },
    {
     "name": "stdout",
     "output_type": "stream",
     "text": [
      "53 bottles of beer on the wall,\n",
      "53 bottles of beer.\n",
      "Take one down, pass it around,\n",
      "52 bottles of beer on the wall.\n"
     ]
    },
    {
     "data": {
      "text/plain": [
       "'reverse counting the number of bottles'"
      ]
     },
     "execution_count": 7,
     "metadata": {},
     "output_type": "execute_result"
    },
    {
     "name": "stdout",
     "output_type": "stream",
     "text": [
      "52 bottles of beer on the wall,\n",
      "52 bottles of beer.\n",
      "Take one down, pass it around,\n",
      "51 bottles of beer on the wall.\n"
     ]
    },
    {
     "data": {
      "text/plain": [
       "'reverse counting the number of bottles'"
      ]
     },
     "execution_count": 7,
     "metadata": {},
     "output_type": "execute_result"
    },
    {
     "name": "stdout",
     "output_type": "stream",
     "text": [
      "51 bottles of beer on the wall,\n",
      "51 bottles of beer.\n",
      "Take one down, pass it around,\n",
      "50 bottles of beer on the wall.\n"
     ]
    },
    {
     "data": {
      "text/plain": [
       "'reverse counting the number of bottles'"
      ]
     },
     "execution_count": 7,
     "metadata": {},
     "output_type": "execute_result"
    },
    {
     "name": "stdout",
     "output_type": "stream",
     "text": [
      "50 bottles of beer on the wall,\n",
      "50 bottles of beer.\n",
      "Take one down, pass it around,\n",
      "49 bottles of beer on the wall.\n"
     ]
    },
    {
     "data": {
      "text/plain": [
       "'reverse counting the number of bottles'"
      ]
     },
     "execution_count": 7,
     "metadata": {},
     "output_type": "execute_result"
    },
    {
     "name": "stdout",
     "output_type": "stream",
     "text": [
      "49 bottles of beer on the wall,\n",
      "49 bottles of beer.\n",
      "Take one down, pass it around,\n",
      "48 bottles of beer on the wall.\n"
     ]
    },
    {
     "data": {
      "text/plain": [
       "'reverse counting the number of bottles'"
      ]
     },
     "execution_count": 7,
     "metadata": {},
     "output_type": "execute_result"
    },
    {
     "name": "stdout",
     "output_type": "stream",
     "text": [
      "48 bottles of beer on the wall,\n",
      "48 bottles of beer.\n",
      "Take one down, pass it around,\n",
      "47 bottles of beer on the wall.\n"
     ]
    },
    {
     "data": {
      "text/plain": [
       "'reverse counting the number of bottles'"
      ]
     },
     "execution_count": 7,
     "metadata": {},
     "output_type": "execute_result"
    },
    {
     "name": "stdout",
     "output_type": "stream",
     "text": [
      "47 bottles of beer on the wall,\n",
      "47 bottles of beer.\n",
      "Take one down, pass it around,\n",
      "46 bottles of beer on the wall.\n"
     ]
    },
    {
     "data": {
      "text/plain": [
       "'reverse counting the number of bottles'"
      ]
     },
     "execution_count": 7,
     "metadata": {},
     "output_type": "execute_result"
    },
    {
     "name": "stdout",
     "output_type": "stream",
     "text": [
      "46 bottles of beer on the wall,\n",
      "46 bottles of beer.\n",
      "Take one down, pass it around,\n",
      "45 bottles of beer on the wall.\n"
     ]
    },
    {
     "data": {
      "text/plain": [
       "'reverse counting the number of bottles'"
      ]
     },
     "execution_count": 7,
     "metadata": {},
     "output_type": "execute_result"
    },
    {
     "name": "stdout",
     "output_type": "stream",
     "text": [
      "45 bottles of beer on the wall,\n",
      "45 bottles of beer.\n",
      "Take one down, pass it around,\n",
      "44 bottles of beer on the wall.\n"
     ]
    },
    {
     "data": {
      "text/plain": [
       "'reverse counting the number of bottles'"
      ]
     },
     "execution_count": 7,
     "metadata": {},
     "output_type": "execute_result"
    },
    {
     "name": "stdout",
     "output_type": "stream",
     "text": [
      "44 bottles of beer on the wall,\n",
      "44 bottles of beer.\n",
      "Take one down, pass it around,\n",
      "43 bottles of beer on the wall.\n"
     ]
    },
    {
     "data": {
      "text/plain": [
       "'reverse counting the number of bottles'"
      ]
     },
     "execution_count": 7,
     "metadata": {},
     "output_type": "execute_result"
    },
    {
     "name": "stdout",
     "output_type": "stream",
     "text": [
      "43 bottles of beer on the wall,\n",
      "43 bottles of beer.\n",
      "Take one down, pass it around,\n",
      "42 bottles of beer on the wall.\n"
     ]
    },
    {
     "data": {
      "text/plain": [
       "'reverse counting the number of bottles'"
      ]
     },
     "execution_count": 7,
     "metadata": {},
     "output_type": "execute_result"
    },
    {
     "name": "stdout",
     "output_type": "stream",
     "text": [
      "42 bottles of beer on the wall,\n",
      "42 bottles of beer.\n",
      "Take one down, pass it around,\n",
      "41 bottles of beer on the wall.\n"
     ]
    },
    {
     "data": {
      "text/plain": [
       "'reverse counting the number of bottles'"
      ]
     },
     "execution_count": 7,
     "metadata": {},
     "output_type": "execute_result"
    },
    {
     "name": "stdout",
     "output_type": "stream",
     "text": [
      "41 bottles of beer on the wall,\n",
      "41 bottles of beer.\n",
      "Take one down, pass it around,\n",
      "40 bottles of beer on the wall.\n"
     ]
    },
    {
     "data": {
      "text/plain": [
       "'reverse counting the number of bottles'"
      ]
     },
     "execution_count": 7,
     "metadata": {},
     "output_type": "execute_result"
    },
    {
     "name": "stdout",
     "output_type": "stream",
     "text": [
      "40 bottles of beer on the wall,\n",
      "40 bottles of beer.\n",
      "Take one down, pass it around,\n",
      "39 bottles of beer on the wall.\n"
     ]
    },
    {
     "data": {
      "text/plain": [
       "'reverse counting the number of bottles'"
      ]
     },
     "execution_count": 7,
     "metadata": {},
     "output_type": "execute_result"
    },
    {
     "name": "stdout",
     "output_type": "stream",
     "text": [
      "39 bottles of beer on the wall,\n",
      "39 bottles of beer.\n",
      "Take one down, pass it around,\n",
      "38 bottles of beer on the wall.\n"
     ]
    },
    {
     "data": {
      "text/plain": [
       "'reverse counting the number of bottles'"
      ]
     },
     "execution_count": 7,
     "metadata": {},
     "output_type": "execute_result"
    },
    {
     "name": "stdout",
     "output_type": "stream",
     "text": [
      "38 bottles of beer on the wall,\n",
      "38 bottles of beer.\n",
      "Take one down, pass it around,\n",
      "37 bottles of beer on the wall.\n"
     ]
    },
    {
     "data": {
      "text/plain": [
       "'reverse counting the number of bottles'"
      ]
     },
     "execution_count": 7,
     "metadata": {},
     "output_type": "execute_result"
    },
    {
     "name": "stdout",
     "output_type": "stream",
     "text": [
      "37 bottles of beer on the wall,\n",
      "37 bottles of beer.\n",
      "Take one down, pass it around,\n",
      "36 bottles of beer on the wall.\n"
     ]
    },
    {
     "data": {
      "text/plain": [
       "'reverse counting the number of bottles'"
      ]
     },
     "execution_count": 7,
     "metadata": {},
     "output_type": "execute_result"
    },
    {
     "name": "stdout",
     "output_type": "stream",
     "text": [
      "36 bottles of beer on the wall,\n",
      "36 bottles of beer.\n",
      "Take one down, pass it around,\n",
      "35 bottles of beer on the wall.\n"
     ]
    },
    {
     "data": {
      "text/plain": [
       "'reverse counting the number of bottles'"
      ]
     },
     "execution_count": 7,
     "metadata": {},
     "output_type": "execute_result"
    },
    {
     "name": "stdout",
     "output_type": "stream",
     "text": [
      "35 bottles of beer on the wall,\n",
      "35 bottles of beer.\n",
      "Take one down, pass it around,\n",
      "34 bottles of beer on the wall.\n"
     ]
    },
    {
     "data": {
      "text/plain": [
       "'reverse counting the number of bottles'"
      ]
     },
     "execution_count": 7,
     "metadata": {},
     "output_type": "execute_result"
    },
    {
     "name": "stdout",
     "output_type": "stream",
     "text": [
      "34 bottles of beer on the wall,\n",
      "34 bottles of beer.\n",
      "Take one down, pass it around,\n",
      "33 bottles of beer on the wall.\n"
     ]
    },
    {
     "data": {
      "text/plain": [
       "'reverse counting the number of bottles'"
      ]
     },
     "execution_count": 7,
     "metadata": {},
     "output_type": "execute_result"
    },
    {
     "name": "stdout",
     "output_type": "stream",
     "text": [
      "33 bottles of beer on the wall,\n",
      "33 bottles of beer.\n",
      "Take one down, pass it around,\n",
      "32 bottles of beer on the wall.\n"
     ]
    },
    {
     "data": {
      "text/plain": [
       "'reverse counting the number of bottles'"
      ]
     },
     "execution_count": 7,
     "metadata": {},
     "output_type": "execute_result"
    },
    {
     "name": "stdout",
     "output_type": "stream",
     "text": [
      "32 bottles of beer on the wall,\n",
      "32 bottles of beer.\n",
      "Take one down, pass it around,\n",
      "31 bottles of beer on the wall.\n"
     ]
    },
    {
     "data": {
      "text/plain": [
       "'reverse counting the number of bottles'"
      ]
     },
     "execution_count": 7,
     "metadata": {},
     "output_type": "execute_result"
    },
    {
     "name": "stdout",
     "output_type": "stream",
     "text": [
      "31 bottles of beer on the wall,\n",
      "31 bottles of beer.\n",
      "Take one down, pass it around,\n",
      "30 bottles of beer on the wall.\n"
     ]
    },
    {
     "data": {
      "text/plain": [
       "'reverse counting the number of bottles'"
      ]
     },
     "execution_count": 7,
     "metadata": {},
     "output_type": "execute_result"
    },
    {
     "name": "stdout",
     "output_type": "stream",
     "text": [
      "30 bottles of beer on the wall,\n",
      "30 bottles of beer.\n",
      "Take one down, pass it around,\n",
      "29 bottles of beer on the wall.\n"
     ]
    },
    {
     "data": {
      "text/plain": [
       "'reverse counting the number of bottles'"
      ]
     },
     "execution_count": 7,
     "metadata": {},
     "output_type": "execute_result"
    },
    {
     "name": "stdout",
     "output_type": "stream",
     "text": [
      "29 bottles of beer on the wall,\n",
      "29 bottles of beer.\n",
      "Take one down, pass it around,\n",
      "28 bottles of beer on the wall.\n"
     ]
    },
    {
     "data": {
      "text/plain": [
       "'reverse counting the number of bottles'"
      ]
     },
     "execution_count": 7,
     "metadata": {},
     "output_type": "execute_result"
    },
    {
     "name": "stdout",
     "output_type": "stream",
     "text": [
      "28 bottles of beer on the wall,\n",
      "28 bottles of beer.\n",
      "Take one down, pass it around,\n",
      "27 bottles of beer on the wall.\n"
     ]
    },
    {
     "data": {
      "text/plain": [
       "'reverse counting the number of bottles'"
      ]
     },
     "execution_count": 7,
     "metadata": {},
     "output_type": "execute_result"
    },
    {
     "name": "stdout",
     "output_type": "stream",
     "text": [
      "27 bottles of beer on the wall,\n",
      "27 bottles of beer.\n",
      "Take one down, pass it around,\n",
      "26 bottles of beer on the wall.\n"
     ]
    },
    {
     "data": {
      "text/plain": [
       "'reverse counting the number of bottles'"
      ]
     },
     "execution_count": 7,
     "metadata": {},
     "output_type": "execute_result"
    },
    {
     "name": "stdout",
     "output_type": "stream",
     "text": [
      "26 bottles of beer on the wall,\n",
      "26 bottles of beer.\n",
      "Take one down, pass it around,\n",
      "25 bottles of beer on the wall.\n"
     ]
    },
    {
     "data": {
      "text/plain": [
       "'reverse counting the number of bottles'"
      ]
     },
     "execution_count": 7,
     "metadata": {},
     "output_type": "execute_result"
    },
    {
     "name": "stdout",
     "output_type": "stream",
     "text": [
      "25 bottles of beer on the wall,\n",
      "25 bottles of beer.\n",
      "Take one down, pass it around,\n",
      "24 bottles of beer on the wall.\n"
     ]
    },
    {
     "data": {
      "text/plain": [
       "'reverse counting the number of bottles'"
      ]
     },
     "execution_count": 7,
     "metadata": {},
     "output_type": "execute_result"
    },
    {
     "name": "stdout",
     "output_type": "stream",
     "text": [
      "24 bottles of beer on the wall,\n",
      "24 bottles of beer.\n",
      "Take one down, pass it around,\n",
      "23 bottles of beer on the wall.\n"
     ]
    },
    {
     "data": {
      "text/plain": [
       "'reverse counting the number of bottles'"
      ]
     },
     "execution_count": 7,
     "metadata": {},
     "output_type": "execute_result"
    },
    {
     "name": "stdout",
     "output_type": "stream",
     "text": [
      "23 bottles of beer on the wall,\n",
      "23 bottles of beer.\n",
      "Take one down, pass it around,\n",
      "22 bottles of beer on the wall.\n"
     ]
    },
    {
     "data": {
      "text/plain": [
       "'reverse counting the number of bottles'"
      ]
     },
     "execution_count": 7,
     "metadata": {},
     "output_type": "execute_result"
    },
    {
     "name": "stdout",
     "output_type": "stream",
     "text": [
      "22 bottles of beer on the wall,\n",
      "22 bottles of beer.\n",
      "Take one down, pass it around,\n",
      "21 bottles of beer on the wall.\n"
     ]
    },
    {
     "data": {
      "text/plain": [
       "'reverse counting the number of bottles'"
      ]
     },
     "execution_count": 7,
     "metadata": {},
     "output_type": "execute_result"
    },
    {
     "name": "stdout",
     "output_type": "stream",
     "text": [
      "21 bottles of beer on the wall,\n",
      "21 bottles of beer.\n",
      "Take one down, pass it around,\n",
      "20 bottles of beer on the wall.\n"
     ]
    },
    {
     "data": {
      "text/plain": [
       "'reverse counting the number of bottles'"
      ]
     },
     "execution_count": 7,
     "metadata": {},
     "output_type": "execute_result"
    },
    {
     "name": "stdout",
     "output_type": "stream",
     "text": [
      "20 bottles of beer on the wall,\n",
      "20 bottles of beer.\n",
      "Take one down, pass it around,\n",
      "19 bottles of beer on the wall.\n"
     ]
    },
    {
     "data": {
      "text/plain": [
       "'reverse counting the number of bottles'"
      ]
     },
     "execution_count": 7,
     "metadata": {},
     "output_type": "execute_result"
    },
    {
     "name": "stdout",
     "output_type": "stream",
     "text": [
      "19 bottles of beer on the wall,\n",
      "19 bottles of beer.\n",
      "Take one down, pass it around,\n",
      "18 bottles of beer on the wall.\n"
     ]
    },
    {
     "data": {
      "text/plain": [
       "'reverse counting the number of bottles'"
      ]
     },
     "execution_count": 7,
     "metadata": {},
     "output_type": "execute_result"
    },
    {
     "name": "stdout",
     "output_type": "stream",
     "text": [
      "18 bottles of beer on the wall,\n",
      "18 bottles of beer.\n",
      "Take one down, pass it around,\n",
      "17 bottles of beer on the wall.\n"
     ]
    },
    {
     "data": {
      "text/plain": [
       "'reverse counting the number of bottles'"
      ]
     },
     "execution_count": 7,
     "metadata": {},
     "output_type": "execute_result"
    },
    {
     "name": "stdout",
     "output_type": "stream",
     "text": [
      "17 bottles of beer on the wall,\n",
      "17 bottles of beer.\n",
      "Take one down, pass it around,\n",
      "16 bottles of beer on the wall.\n"
     ]
    },
    {
     "data": {
      "text/plain": [
       "'reverse counting the number of bottles'"
      ]
     },
     "execution_count": 7,
     "metadata": {},
     "output_type": "execute_result"
    },
    {
     "name": "stdout",
     "output_type": "stream",
     "text": [
      "16 bottles of beer on the wall,\n",
      "16 bottles of beer.\n",
      "Take one down, pass it around,\n",
      "15 bottles of beer on the wall.\n"
     ]
    },
    {
     "data": {
      "text/plain": [
       "'reverse counting the number of bottles'"
      ]
     },
     "execution_count": 7,
     "metadata": {},
     "output_type": "execute_result"
    },
    {
     "name": "stdout",
     "output_type": "stream",
     "text": [
      "15 bottles of beer on the wall,\n",
      "15 bottles of beer.\n",
      "Take one down, pass it around,\n",
      "14 bottles of beer on the wall.\n"
     ]
    },
    {
     "data": {
      "text/plain": [
       "'reverse counting the number of bottles'"
      ]
     },
     "execution_count": 7,
     "metadata": {},
     "output_type": "execute_result"
    },
    {
     "name": "stdout",
     "output_type": "stream",
     "text": [
      "14 bottles of beer on the wall,\n",
      "14 bottles of beer.\n",
      "Take one down, pass it around,\n",
      "13 bottles of beer on the wall.\n"
     ]
    },
    {
     "data": {
      "text/plain": [
       "'reverse counting the number of bottles'"
      ]
     },
     "execution_count": 7,
     "metadata": {},
     "output_type": "execute_result"
    },
    {
     "name": "stdout",
     "output_type": "stream",
     "text": [
      "13 bottles of beer on the wall,\n",
      "13 bottles of beer.\n",
      "Take one down, pass it around,\n",
      "12 bottles of beer on the wall.\n"
     ]
    },
    {
     "data": {
      "text/plain": [
       "'reverse counting the number of bottles'"
      ]
     },
     "execution_count": 7,
     "metadata": {},
     "output_type": "execute_result"
    },
    {
     "name": "stdout",
     "output_type": "stream",
     "text": [
      "12 bottles of beer on the wall,\n",
      "12 bottles of beer.\n",
      "Take one down, pass it around,\n",
      "11 bottles of beer on the wall.\n"
     ]
    },
    {
     "data": {
      "text/plain": [
       "'reverse counting the number of bottles'"
      ]
     },
     "execution_count": 7,
     "metadata": {},
     "output_type": "execute_result"
    },
    {
     "name": "stdout",
     "output_type": "stream",
     "text": [
      "11 bottles of beer on the wall,\n",
      "11 bottles of beer.\n",
      "Take one down, pass it around,\n",
      "10 bottles of beer on the wall.\n"
     ]
    },
    {
     "data": {
      "text/plain": [
       "'reverse counting the number of bottles'"
      ]
     },
     "execution_count": 7,
     "metadata": {},
     "output_type": "execute_result"
    },
    {
     "name": "stdout",
     "output_type": "stream",
     "text": [
      "10 bottles of beer on the wall,\n",
      "10 bottles of beer.\n",
      "Take one down, pass it around,\n",
      "9 bottles of beer on the wall.\n"
     ]
    },
    {
     "data": {
      "text/plain": [
       "'reverse counting the number of bottles'"
      ]
     },
     "execution_count": 7,
     "metadata": {},
     "output_type": "execute_result"
    },
    {
     "name": "stdout",
     "output_type": "stream",
     "text": [
      "9 bottles of beer on the wall,\n",
      "9 bottles of beer.\n",
      "Take one down, pass it around,\n",
      "8 bottles of beer on the wall.\n"
     ]
    },
    {
     "data": {
      "text/plain": [
       "'reverse counting the number of bottles'"
      ]
     },
     "execution_count": 7,
     "metadata": {},
     "output_type": "execute_result"
    },
    {
     "name": "stdout",
     "output_type": "stream",
     "text": [
      "8 bottles of beer on the wall,\n",
      "8 bottles of beer.\n",
      "Take one down, pass it around,\n",
      "7 bottles of beer on the wall.\n"
     ]
    },
    {
     "data": {
      "text/plain": [
       "'reverse counting the number of bottles'"
      ]
     },
     "execution_count": 7,
     "metadata": {},
     "output_type": "execute_result"
    },
    {
     "name": "stdout",
     "output_type": "stream",
     "text": [
      "7 bottles of beer on the wall,\n",
      "7 bottles of beer.\n",
      "Take one down, pass it around,\n",
      "6 bottles of beer on the wall.\n"
     ]
    },
    {
     "data": {
      "text/plain": [
       "'reverse counting the number of bottles'"
      ]
     },
     "execution_count": 7,
     "metadata": {},
     "output_type": "execute_result"
    },
    {
     "name": "stdout",
     "output_type": "stream",
     "text": [
      "6 bottles of beer on the wall,\n",
      "6 bottles of beer.\n",
      "Take one down, pass it around,\n",
      "5 bottles of beer on the wall.\n"
     ]
    },
    {
     "data": {
      "text/plain": [
       "'reverse counting the number of bottles'"
      ]
     },
     "execution_count": 7,
     "metadata": {},
     "output_type": "execute_result"
    },
    {
     "name": "stdout",
     "output_type": "stream",
     "text": [
      "5 bottles of beer on the wall,\n",
      "5 bottles of beer.\n",
      "Take one down, pass it around,\n",
      "4 bottles of beer on the wall.\n"
     ]
    },
    {
     "data": {
      "text/plain": [
       "'reverse counting the number of bottles'"
      ]
     },
     "execution_count": 7,
     "metadata": {},
     "output_type": "execute_result"
    },
    {
     "name": "stdout",
     "output_type": "stream",
     "text": [
      "4 bottles of beer on the wall,\n",
      "4 bottles of beer.\n",
      "Take one down, pass it around,\n",
      "3 bottles of beer on the wall.\n"
     ]
    },
    {
     "data": {
      "text/plain": [
       "'reverse counting the number of bottles'"
      ]
     },
     "execution_count": 7,
     "metadata": {},
     "output_type": "execute_result"
    },
    {
     "name": "stdout",
     "output_type": "stream",
     "text": [
      "3 bottles of beer on the wall,\n",
      "3 bottles of beer.\n",
      "Take one down, pass it around,\n",
      "2 bottles of beer on the wall.\n"
     ]
    },
    {
     "data": {
      "text/plain": [
       "'reverse counting the number of bottles'"
      ]
     },
     "execution_count": 7,
     "metadata": {},
     "output_type": "execute_result"
    },
    {
     "name": "stdout",
     "output_type": "stream",
     "text": [
      "2 bottles of beer on the wall,\n",
      "2 bottles of beer.\n",
      "Take one down, pass it around,\n",
      "one bottle of beer on the wall.\n"
     ]
    },
    {
     "data": {
      "text/plain": [
       "'reverse counting the number of bottles'"
      ]
     },
     "execution_count": 7,
     "metadata": {},
     "output_type": "execute_result"
    },
    {
     "name": "stdout",
     "output_type": "stream",
     "text": [
      "one bottle of beer on the wall,\n",
      "one bottle of beer.\n",
      "Take one down, pass it around,\n",
      "no more bottles of beer on the wall.\n"
     ]
    }
   ],
   "source": [
    "import sys\n",
    "\n",
    "n = 100\n",
    "\n",
    "def bottle(n):\n",
    "    \"\"\"thre conditions of the function, n==0, n==1, and n neither 0 or 1\"\"\"\n",
    "    if n == 0: return \"no more bottles of beer\"\n",
    "    if n == 1: return \"one bottle of beer\"\n",
    "    return str(n) + \" bottles of beer\"\n",
    "\n",
    "for i in range(n, 0, -1):\n",
    "    \"\"\"reverse counting the number of bottles\"\"\"\n",
    "    print(bottle(i), \"on the wall,\")\n",
    "    print(bottle(i) + \".\")\n",
    "    print(\"Take one down, pass it around,\")\n",
    "    print(bottle(i-1), \"on the wall.\")"
   ]
  },
  {
   "cell_type": "markdown",
   "id": "ed2adfb1-4aa4-4a72-b0a6-1d7eeb2460c9",
   "metadata": {},
   "source": [
    "**eiffel.py**\n",
    "\n",
    "Python advanced magic: A metaclass for Eiffel\n",
    "\n",
    "advanced magic? metaclass?"
   ]
  },
  {
   "cell_type": "code",
   "execution_count": 15,
   "id": "9cf8f60d-44d4-4fc9-a1c9-b128fe3c7011",
   "metadata": {},
   "outputs": [
    {
     "data": {
      "text/plain": [
       "True"
      ]
     },
     "execution_count": 15,
     "metadata": {},
     "output_type": "execute_result"
    }
   ],
   "source": [
    "# bool type is subclass of int\n",
    "issubclass(bool, int)"
   ]
  },
  {
   "cell_type": "markdown",
   "id": "5680c764-643f-4a2f-a9fd-17bcced4b474",
   "metadata": {},
   "source": [
    "## Function definition"
   ]
  },
  {
   "cell_type": "markdown",
   "id": "bd7d6f88-82e0-4aad-bbfc-3b1e06c39299",
   "metadata": {},
   "source": [
    "关键字参数在函数定义的时候给出的参数值是该参数的默认值，也叫缺省值。在函数调用的时候没有给关键字参数传递其他值的时候，关键字参数在函数定义时的默认值会默认传递给调用的函数。\n",
    "\n",
    "一些函数是没有返回值的，即返回值默认为`None`。比如`print`函数的返回值就是`None`。\n",
    "\n",
    "用print函数往打开的文件里写数据。只要一个对象具有`write(string)`的方法，都可以用`print`函数往该对象里写数据。"
   ]
  },
  {
   "cell_type": "markdown",
   "id": "ada0bb90-fb6d-4049-8a5b-a6bcefa8e8cb",
   "metadata": {},
   "source": [
    "**位置参数**（Positional Arguments，在官方文档被缩写为`arg`）\n",
    "**关键字参数**（Keyword Arguments，在官方文档被缩写为`kwarg`）\n",
    "\n",
    "**可选位置参数**（Optional Positional Arguments），在函数调用的时候，可传递也可不传递。\n",
    "\n",
    "可接收很多值的位置参数，比如`print`函数定义里的`*objects`，这里的objects参数就可以接收很多值作为函数的输入。"
   ]
  },
  {
   "cell_type": "markdown",
   "id": "6087ab23-3be1-4dcc-a0ec-f31c512cf7c7",
   "metadata": {},
   "source": [
    "class 也是函数，比如内置的class `bool`。这是不是说明在class `bool`的这个class内部只定义了用来验证参数值的布尔值的方法（mothod）？"
   ]
  },
  {
   "cell_type": "code",
   "execution_count": 3,
   "id": "cb6ce32c-1de2-498c-82a6-de8f4db30dde",
   "metadata": {},
   "outputs": [
    {
     "data": {
      "text/plain": [
       "True"
      ]
     },
     "execution_count": 3,
     "metadata": {},
     "output_type": "execute_result"
    }
   ],
   "source": [
    "bool(SyntaxError)    # 连内置的错误类型都有其bool值"
   ]
  },
  {
   "cell_type": "markdown",
   "id": "a04958df-6200-4e86-a74d-babf48b3c354",
   "metadata": {},
   "source": [
    "这是否说明每一个Python对象都有其自带的bool值？并且也有一个自带的type？"
   ]
  },
  {
   "cell_type": "markdown",
   "id": "6e84880c-4c25-43d1-8e7e-5a419f9a4f01",
   "metadata": {},
   "source": [
    "函数就是一个程序，小小程序，有**输入**（参数传递），**处理**（函数内部执行代码），**输出**（返回值）。\n",
    "\n",
    "就像把大象装进冰箱的典故一样，凡事大概率都可以拆分成可行的三步走。其他的附加的流程都是都这三步走的细化拆分的执行。比如函数输入的参数传递，如何传递可细化出来。\n",
    "\n",
    "再比如数据分析的流程，分成可行的三步走就是：获取数据-数据处理-得出结果。获取数据的流程又可在细化为数据抓取，数据清洗等；而数据处理又可以再细分为若干个想要进行的处理步骤。"
   ]
  },
  {
   "cell_type": "markdown",
   "id": "5d393f3b-6bd1-4015-b8d1-a26653dcd550",
   "metadata": {},
   "source": [
    "Python中对象的定义都有其特定的**关键字**，比如函数定义的关键字是`def`（定义的英文**definition**的前三个字母）, 例如定义一个什么都不干的函数："
   ]
  },
  {
   "cell_type": "code",
   "execution_count": 4,
   "id": "575b90e8-51c9-49de-8b29-1ff66fa865f4",
   "metadata": {},
   "outputs": [],
   "source": [
    "# 注意函数名的命名习惯遵照pep-8准则\n",
    "def do_nothing():\n",
    "    pass\n",
    "\n",
    "do_nothing()"
   ]
  },
  {
   "cell_type": "markdown",
   "id": "5ae85b82-fddb-48c8-8969-d150589818f0",
   "metadata": {},
   "source": [
    "以下划线`_`开头的函数在Python中具有特定的意义，比如在类定义里的方法函数定义若是以下划线`_`开头？，表明这个方法函数是属于这个类的private方法，默认不被实例化所修改。\n",
    "\n",
    "pep-8 naming conventions: https://peps.python.org/pep-0008/#naming-conventions\n",
    "\n",
    "- 模块（module）和包（module）应使用简短的全小写字母，如标准库：`difflib`, `unicededata`, `reprlib`等\n",
    "- 类（class）命名通常使用CapWords惯例\n",
    "- 异常名称因为是个类名，因而和类一样使用CapWords惯例，名称后面通常是Error\n",
    "- 函数名和变量使用小写字母，并且用下划线链接提高阅读性\n",
    "- 使用`self`作为实例方法的第一个参数，使用`cls`作为类方法的第一个参数\n",
    "- 方法和实例变量的名称规范和函数名一样，对**非公共**方法和实例变量使用一个前导下划线\n",
    "- 常量（constants）通常定义在模块层面，用大写字母书写，用下划线隔开单词\n",
    "- 如果类的公共属性名称与一个保留关键字相冲突，请在你的属性名称**后面**加上一个下划线，这也使用函数参数命名\n",
    "......"
   ]
  },
  {
   "cell_type": "markdown",
   "id": "bc327f21-64d6-4fb2-816a-65f6f59150fd",
   "metadata": {},
   "source": [
    "无参数函数就是不接收任何参数的函数："
   ]
  },
  {
   "cell_type": "code",
   "execution_count": 5,
   "id": "1f8b4925-6249-4561-9571-f08a182df471",
   "metadata": {},
   "outputs": [
    {
     "name": "stdout",
     "output_type": "stream",
     "text": [
      "Just to say 'hi'\n"
     ]
    }
   ],
   "source": [
    "def do_something():\n",
    "    print(\"Just to say 'hi'\")\n",
    "    \n",
    "do_something()"
   ]
  },
  {
   "cell_type": "markdown",
   "id": "41718ff5-bc61-43e7-b441-f4c49ebab972",
   "metadata": {},
   "source": [
    "没有`return`语句的函数，其返回值为`None`，`return`关键字后面是空语句，其返回值也是`None`："
   ]
  },
  {
   "cell_type": "code",
   "execution_count": 6,
   "id": "a48db823-e676-4d30-8863-610b90da6777",
   "metadata": {},
   "outputs": [
    {
     "name": "stdout",
     "output_type": "stream",
     "text": [
      "No return statement\n",
      "None\n"
     ]
    }
   ],
   "source": [
    "def return_none():\n",
    "    print(\"No return statement\")\n",
    "    return\n",
    "\n",
    "print(return_none())"
   ]
  },
  {
   "cell_type": "markdown",
   "id": "6de43084-1aa8-4ada-b3f5-1e3aa15ad6db",
   "metadata": {},
   "source": [
    "函数参数的传参就是接收外部传递进来的值："
   ]
  },
  {
   "cell_type": "code",
   "execution_count": 9,
   "id": "f66ad99b-c125-4c9a-9634-7ab9095e4a3d",
   "metadata": {},
   "outputs": [
    {
     "data": {
      "text/plain": [
       "False"
      ]
     },
     "execution_count": 9,
     "metadata": {},
     "output_type": "execute_result"
    }
   ],
   "source": [
    "# 判断一个年份是否为闰年的函数：\n",
    "def is_leap(year):\n",
    "    leap = False\n",
    "    if year % 4 == 0:\n",
    "        leap = True\n",
    "        if year % 100 == 0 and year % 400 != 0:\n",
    "            leap = False\n",
    "    return leap\n",
    "\n",
    "is_leap(2022)"
   ]
  },
  {
   "cell_type": "code",
   "execution_count": 10,
   "id": "2cdd9662-dd1e-4fac-a35d-4304aec4d23e",
   "metadata": {},
   "outputs": [
    {
     "data": {
      "text/plain": [
       "True"
      ]
     },
     "execution_count": 10,
     "metadata": {},
     "output_type": "execute_result"
    }
   ],
   "source": [
    "# 另一个简洁的版本\n",
    "def _is_leap(year):\n",
    "    return year % 4 == 0 and (year % 100 != 0 or year % 400 == 0)\n",
    "\n",
    "_is_leap(2000)"
   ]
  },
  {
   "cell_type": "markdown",
   "id": "56f16540-6955-457b-b912-510bad81d3ed",
   "metadata": {},
   "source": [
    "函数可接收多个参数，如`print`函数，可一次打印或向文件写入多个对象"
   ]
  },
  {
   "cell_type": "markdown",
   "id": "b22f8753-fa00-466e-8b37-909e91ac0ca1",
   "metadata": {},
   "source": [
    "变量的作用域，Python里面有四个明显的作用域（scope），分别是builtin scope, gloabl, local scope, non-local scope(也叫Enclosing scope)。这四个作用域对应的namespace分别存在于Python Interpreter, modole/package/document, function/class, nested function/class。"
   ]
  },
  {
   "cell_type": "code",
   "execution_count": 15,
   "id": "b83a6f71-b16c-43b5-b72c-66d00295c9b0",
   "metadata": {},
   "outputs": [
    {
     "data": {
      "text/plain": [
       "2"
      ]
     },
     "execution_count": 15,
     "metadata": {},
     "output_type": "execute_result"
    }
   ],
   "source": [
    "def increase_one(n):\n",
    "    n += 1\n",
    "    return n\n",
    "\n",
    "increase_one(1)\n",
    "# print(n) 变量n只存在于increase_one()这个函数定义的作用域中，在全局试图调用n会引发“n未定义的错误”"
   ]
  },
  {
   "cell_type": "markdown",
   "id": "3de272c6-a35c-4d1e-ad7e-d026d41078cb",
   "metadata": {},
   "source": [
    "可以接受一系列值的*位置参数*（position arguments），如`print`函数定义里的**\\*object**。这种带星号的参数英文名称是“Arbitrary Position Arguments”，笑来称可“姑且翻译为 “随意的位置参数””，我觉得可翻译为“任意数量的位置参数”\n",
    "\n",
    "还有带两个星号的参数，英文名称是 “Arbitrary Keyword Arguments”，笑来称“姑且翻译为 “随意的关键字参数””。我觉得可翻译为“任意数量的关键字参数”。"
   ]
  },
  {
   "cell_type": "code",
   "execution_count": 20,
   "id": "0f03a543-40c3-4ccb-982e-f88651db76c6",
   "metadata": {},
   "outputs": [
    {
     "name": "stdout",
     "output_type": "stream",
     "text": [
      "Hi, mike!\n",
      "Hi, john!\n",
      "Hi, zeo!\n"
     ]
    }
   ],
   "source": [
    "# 在定义带星号的为“任意数量的位置参数”时，最好命名一个复数名称，注意第二行代码的可读性\n",
    "def say_hi(*names):\n",
    "    for name in names:    # 其实这里用到了函数参数的解包赋值\n",
    "        print(f'Hi, {name}!')\n",
    "        \n",
    "say_hi('mike', 'john', 'zeo')"
   ]
  },
  {
   "cell_type": "code",
   "execution_count": 19,
   "id": "17a0007a-84c7-4018-a059-090b8437546e",
   "metadata": {},
   "outputs": [
    {
     "name": "stdout",
     "output_type": "stream",
     "text": [
      "Hi, mike!\n",
      "Hi, john!\n",
      "Hi, zeo!\n"
     ]
    }
   ],
   "source": [
    "names = ('mike', 'john', 'zeo')\n",
    "say_hi(*names)    # 实际上这里就用到了函数调用时的容器解包赋值，对于其容器的参数传递也适用"
   ]
  },
  {
   "cell_type": "markdown",
   "id": "b8c46823-12e9-494f-8139-5d9968806e37",
   "metadata": {},
   "source": [
    "**注意**：一个函数中，可以接收一系列值的位置参数只能有一个；并且若是还有其它位置参数存在，那就必须把这个可以接收一系列值的位置参数排在所有其它位置参数之后。\n",
    "\n",
    "也就是说当存在定个位置参数的时候，任意数量的位置参数”须放在所有位置参数之后。"
   ]
  },
  {
   "cell_type": "code",
   "execution_count": 22,
   "id": "e4e42636-ea25-4bcb-a544-5e01b7e570c7",
   "metadata": {},
   "outputs": [
    {
     "name": "stdout",
     "output_type": "stream",
     "text": [
      "Hello, Mike!\n",
      "Hello, John!\n",
      "Hello, Zeo!\n"
     ]
    }
   ],
   "source": [
    "def say_hi(greeting, *names):\n",
    "    for name in names:\n",
    "        print(f'{greeting}, {name.capitalize()}!')\n",
    "        \n",
    "say_hi('Hello', 'mike', 'john', 'zeo')"
   ]
  },
  {
   "cell_type": "markdown",
   "id": "cfc64fb3-d79b-4467-af04-9242c0a0cd01",
   "metadata": {},
   "source": [
    "**关键字参数**：keyword arguments\n",
    "\n",
    "在函数定义时设定默认值的参数被称为关键字参数。在调用函数的时候，可对关键字的默认值进行调整。"
   ]
  },
  {
   "cell_type": "code",
   "execution_count": 24,
   "id": "96a0fe8b-32ec-46bf-8c00-75f328ff6990",
   "metadata": {},
   "outputs": [
    {
     "name": "stdout",
     "output_type": "stream",
     "text": [
      "Hello, mike!\n",
      "Hello, john!\n",
      "Hello, zeo!\n",
      "Hello, Mike!\n",
      "Hello, John!\n",
      "Hello, Zeo!\n"
     ]
    }
   ],
   "source": [
    "def say_hi(greeting, *names, capitalized=False):\n",
    "    for name in names:\n",
    "        if capitalized:\n",
    "            name = name.capitalize()\n",
    "        print(f'{greeting}, {name}!')\n",
    "        \n",
    "say_hi('Hello', 'mike', 'john', 'zeo')    # 不写入关键字参数，那就使用函数定义时关键字参数的默认值\n",
    "say_hi('Hello', 'mike', 'john', 'zeo', capitalized=True)    # 对关键字的默认值进行调整"
   ]
  },
  {
   "cell_type": "markdown",
   "id": "ae9ad2ed-9f19-41d8-9e30-85ad1fee9b64",
   "metadata": {},
   "source": [
    "可以接收一系列值的关键字参数，也叫“任意数量的关键字参数”（Arbitrary Keyword Argument）"
   ]
  },
  {
   "cell_type": "code",
   "execution_count": 25,
   "id": "6ebf7e26-10a1-4058-bc27-896c188b185f",
   "metadata": {},
   "outputs": [
    {
     "name": "stdout",
     "output_type": "stream",
     "text": [
      "Hello, mike!\n",
      "Oh, my darling, ann!\n",
      "Hi, john!\n"
     ]
    }
   ],
   "source": [
    "def say_hi(**names_greetings):\n",
    "    for name, greeting in names_greetings.items():\n",
    "        print(f'{greeting}, {name}!')\n",
    "        \n",
    "say_hi(mike='Hello', ann='Oh, my darling', john='Hi')"
   ]
  },
  {
   "cell_type": "code",
   "execution_count": 27,
   "id": "edb67991-7bb6-409f-8f7d-b223caacfa3e",
   "metadata": {},
   "outputs": [
    {
     "name": "stdout",
     "output_type": "stream",
     "text": [
      "Hello, mike!\n",
      "Oh, my darling, ann!\n",
      "Hi, john!\n",
      "Hello, mike!\n",
      "Oh, my darling, ann!\n",
      "Hi, john!\n"
     ]
    }
   ],
   "source": [
    "# 直接传递一个字典参数，作为“任意数量的关键字参数”（Arbitrary Keyword Argument）的解包赋值传递\n",
    "a_dictionary = {'mike':'Hello', 'ann':'Oh, my darling', 'john':'Hi'}\n",
    "say_hi(**a_dictionary)\n",
    "\n",
    "say_hi(**{'mike':'Hello', 'ann':'Oh, my darling', 'john':'Hi'})"
   ]
  },
  {
   "cell_type": "markdown",
   "id": "b20a49f0-f320-42a7-ae2d-ac277790e65f",
   "metadata": {},
   "source": [
    "**函数定义时参数的排放顺序**\n",
    "- Position Arguments\n",
    "- Arbitrary Positional Arguments\n",
    "- Keyword Arguments\n",
    "- Arbitrary Keyword Arguments"
   ]
  },
  {
   "cell_type": "raw",
   "id": "09e47f31-4c93-4e51-930b-ec86b89e9766",
   "metadata": {},
   "source": [
    "def f(pos1, pos2, /, pos_or_kwd, *, kwd1, kwd2):\n",
    "      -----------    ----------     ----------\n",
    "        |             |                  |\n",
    "        |        Positional or keyword   |\n",
    "        |                                - Keyword only\n",
    "         -- Positional only\n",
    "         \n",
    "其中“/”表示前面的参数只能是位置参数（position-only），“*”表示后面的参数只能是关键字参数(keyword-only)"
   ]
  },
  {
   "cell_type": "markdown",
   "id": "0d97e450-2c15-4a56-826f-dce17b011a41",
   "metadata": {},
   "source": [
    "**alias** and **anonymous**"
   ]
  },
  {
   "cell_type": "markdown",
   "id": "cb940386-6c95-4808-9258-8e4fd4ac9f03",
   "metadata": {},
   "source": [
    "比如给函数取一个alias，该alias跟原函数的内存地址一致，即指向同一内存地址对象。“更多的时候，为函数取一个化名，应该是为了提高代码可读性”"
   ]
  },
  {
   "cell_type": "code",
   "execution_count": 3,
   "id": "061cc16d-974a-4dda-ba97-e9213782e98b",
   "metadata": {},
   "outputs": [
    {
     "data": {
      "text/plain": [
       "False"
      ]
     },
     "execution_count": 3,
     "metadata": {},
     "output_type": "execute_result"
    }
   ],
   "source": [
    "def _is_leap(year):\n",
    "    return year % 4 == 0 and (year % 100 != 0 or year % 400 == 0)\n",
    "\n",
    "year_leap_bool = _is_leap\n",
    "\n",
    "year_leap_bool(2022)"
   ]
  },
  {
   "cell_type": "markdown",
   "id": "bea795d7-93be-48d6-9103-801baa8dcf34",
   "metadata": {},
   "source": [
    "**lambada函数**，其语法结构：\n",
    "> `lambda_expr ::= \"lambda\" [parameter_list] \":\" expression`"
   ]
  },
  {
   "cell_type": "code",
   "execution_count": 2,
   "id": "570ea94c-b18e-4702-b4ad-b23416e2745d",
   "metadata": {},
   "outputs": [
    {
     "data": {
      "text/plain": [
       "43"
      ]
     },
     "execution_count": 2,
     "metadata": {},
     "output_type": "execute_result"
    },
    {
     "data": {
      "text/plain": [
       "45"
      ]
     },
     "execution_count": 2,
     "metadata": {},
     "output_type": "execute_result"
    }
   ],
   "source": [
    "# 使用场景一：作为另外一个函数的返回值\n",
    "def make_incrementor(n):\n",
    "    return lambda x: x + n\n",
    "\n",
    "f = make_incrementor(42)\n",
    "\n",
    "f(1)\n",
    "f(3)"
   ]
  },
  {
   "cell_type": "code",
   "execution_count": 7,
   "id": "81b51dc9-fee0-4633-a5bd-1ace71af8207",
   "metadata": {},
   "outputs": [
    {
     "data": {
      "text/plain": [
       "<function __main__.make_incrementor.<locals>.<lambda>(x)>"
      ]
     },
     "execution_count": 7,
     "metadata": {},
     "output_type": "execute_result"
    },
    {
     "data": {
      "text/plain": [
       "<function __main__.make_incrementor(n)>"
      ]
     },
     "execution_count": 7,
     "metadata": {},
     "output_type": "execute_result"
    }
   ],
   "source": [
    "# f1 是函数alias\n",
    "f1 = make_incrementor\n",
    "\n",
    "f\n",
    "f1"
   ]
  },
  {
   "cell_type": "code",
   "execution_count": 8,
   "id": "2b7e41e6-dfae-45cd-84fb-921a47af51b5",
   "metadata": {},
   "outputs": [
    {
     "data": {
      "text/plain": [
       "[(4, 'four'), (1, 'one'), (3, 'three'), (2, 'two')]"
      ]
     },
     "execution_count": 8,
     "metadata": {},
     "output_type": "execute_result"
    }
   ],
   "source": [
    "# 使用场景2：作为某函数的参数\n",
    "pairs = [(1, 'one'), (2, 'two'), (3, 'three'), (4, 'four')]\n",
    "pairs.sort(key=lambda p: p[1])\n",
    "pairs"
   ]
  },
  {
   "cell_type": "markdown",
   "id": "6e50ac84-7c8c-4529-9812-543be3b150a0",
   "metadata": {},
   "source": [
    "**Recursion Functions**\n",
    "\n",
    "“在自身内部调用自身的函数”"
   ]
  },
  {
   "cell_type": "code",
   "execution_count": 9,
   "id": "cd92a016-1643-432b-8da1-775b8704ecc5",
   "metadata": {},
   "outputs": [
    {
     "data": {
      "text/plain": [
       "120"
      ]
     },
     "execution_count": 9,
     "metadata": {},
     "output_type": "execute_result"
    }
   ],
   "source": [
    "# factorial function\n",
    "def factorial(n):\n",
    "    if n == 1:\n",
    "        return 1\n",
    "    else:\n",
    "        return n * factorial(n-1)\n",
    "    \n",
    "factorial(5)"
   ]
  },
  {
   "cell_type": "markdown",
   "id": "e277215f-b36c-45c3-bf76-ffa95e0ebe03",
   "metadata": {},
   "source": [
    "递归函数需要在内部设定一个能够让自己**停止调用**自己的方式，否则就是**无限**递归的函数，永远执行下去……\n",
    "\n",
    "递归是一种算法，不是语言特性"
   ]
  },
  {
   "cell_type": "code",
   "execution_count": 13,
   "id": "45193537-d47f-4815-920b-dae1726597ef",
   "metadata": {},
   "outputs": [
    {
     "data": {
      "text/plain": [
       "2026643718384"
      ]
     },
     "execution_count": 13,
     "metadata": {},
     "output_type": "execute_result"
    },
    {
     "data": {
      "text/plain": [
       "2026764977296"
      ]
     },
     "execution_count": 13,
     "metadata": {},
     "output_type": "execute_result"
    },
    {
     "data": {
      "text/plain": [
       "False"
      ]
     },
     "execution_count": 13,
     "metadata": {},
     "output_type": "execute_result"
    },
    {
     "data": {
      "text/plain": [
       "True"
      ]
     },
     "execution_count": 13,
     "metadata": {},
     "output_type": "execute_result"
    }
   ],
   "source": [
    "a = 1\n",
    "id(a)\n",
    "\n",
    "b = 1.0\n",
    "id(b)\n",
    "\n",
    "# a is b，比较的是两者的内存地址（memory address）是否一直\n",
    "a is b\n",
    "\n",
    "# a == b，比较的是两者的值是否一致，a是整数，与浮点数比较的时候会转化为浮点数在进行比较，1转化为浮点数是1.0\n",
    "a == b"
   ]
  },
  {
   "cell_type": "markdown",
   "id": "a775a817-99ef-4fa0-acf0-c4e018cee19e",
   "metadata": {},
   "source": [
    "在 Python 中，若是需要将某个值与 True 或者 False 进行比较，尤其是在条件语句中，推荐写法是（参见 [PEP8](https://peps.python.org/pep-0008/)）：\n",
    "\n",
    "```Python\n",
    "if condition:\n",
    "    pass\n",
    "```"
   ]
  },
  {
   "cell_type": "markdown",
   "id": "450aaa99-6a11-44b5-b6d3-eada3ee6726a",
   "metadata": {},
   "source": [
    "**函数的文档**\n",
    "\n",
    "文档工具[Spinx](https://www.sphinx-doc.org/en/master/)\n",
    "\n",
    "**Docstring**，写在函数或类的定义内部，必须在函数定义的内部语句块的开头，也必须与其它语句一样保持相应的缩进。可以是多行或单行的。\n",
    "\n",
    "文档规范参考：\n",
    "- PEP 257: [Docstring Convensions](https://peps.python.org/pep-0257/)\n",
    "- PEP 258: [Docutils Design Specification](https://peps.python.org/pep-0258/)\n",
    "\n",
    "**Sphinx**版本的Docstring规范\n",
    "\n",
    "Sphinx 可以从 .py 文件里提取所有 Docstring，而后生成完整的 Documentation。将来若是你写大型的项目，需要生成完善的文档的时候，你就会发现 Sphinx 是个好工具\n",
    "\n",
    "Sphinx用自己的一种标记语言，reStructureText，文件尾缀使用 .rst……"
   ]
  },
  {
   "cell_type": "markdown",
   "id": "7828b514-9d99-489f-8aae-ea7ce5579741",
   "metadata": {},
   "source": [
    "**模块（module）**\n",
    "\n",
    "存储在`.py`的代码文件都可以视为模块。"
   ]
  },
  {
   "cell_type": "markdown",
   "id": "b83e7f87-3505-41be-a82a-4b9bad8ffad1",
   "metadata": {},
   "source": [
    "模块文件系统目录检索顺序\n",
    "> - 先去看内建模块里有没有你所制定的名称；\n",
    "> - 若没有，那么按照`sys.path`所返回的目录列表顺序去找"
   ]
  },
  {
   "cell_type": "markdown",
   "id": "b56b0955-3d9b-442f-935e-96cda40263d3",
   "metadata": {},
   "source": [
    "**系统内建的模块**\n",
    "\n",
    "程序员自建的模块名称也最好别与系统内建模块名称重合"
   ]
  },
  {
   "cell_type": "code",
   "execution_count": 15,
   "id": "3721bd73-131e-40da-83f1-a9f9a977cfc6",
   "metadata": {
    "scrolled": true,
    "tags": []
   },
   "outputs": [
    {
     "data": {
      "text/plain": [
       "('_abc',\n",
       " '_ast',\n",
       " '_bisect',\n",
       " '_blake2',\n",
       " '_codecs',\n",
       " '_codecs_cn',\n",
       " '_codecs_hk',\n",
       " '_codecs_iso2022',\n",
       " '_codecs_jp',\n",
       " '_codecs_kr',\n",
       " '_codecs_tw',\n",
       " '_collections',\n",
       " '_contextvars',\n",
       " '_csv',\n",
       " '_datetime',\n",
       " '_functools',\n",
       " '_heapq',\n",
       " '_imp',\n",
       " '_io',\n",
       " '_json',\n",
       " '_locale',\n",
       " '_lsprof',\n",
       " '_md5',\n",
       " '_multibytecodec',\n",
       " '_opcode',\n",
       " '_operator',\n",
       " '_pickle',\n",
       " '_random',\n",
       " '_sha1',\n",
       " '_sha256',\n",
       " '_sha3',\n",
       " '_sha512',\n",
       " '_signal',\n",
       " '_sre',\n",
       " '_stat',\n",
       " '_statistics',\n",
       " '_string',\n",
       " '_struct',\n",
       " '_symtable',\n",
       " '_thread',\n",
       " '_tracemalloc',\n",
       " '_warnings',\n",
       " '_weakref',\n",
       " '_winapi',\n",
       " '_xxsubinterpreters',\n",
       " 'array',\n",
       " 'atexit',\n",
       " 'audioop',\n",
       " 'binascii',\n",
       " 'builtins',\n",
       " 'cmath',\n",
       " 'errno',\n",
       " 'faulthandler',\n",
       " 'gc',\n",
       " 'itertools',\n",
       " 'marshal',\n",
       " 'math',\n",
       " 'mmap',\n",
       " 'msvcrt',\n",
       " 'nt',\n",
       " 'sys',\n",
       " 'time',\n",
       " 'winreg',\n",
       " 'xxsubtype',\n",
       " 'zlib')"
      ]
     },
     "execution_count": 15,
     "metadata": {},
     "output_type": "execute_result"
    }
   ],
   "source": [
    "import sys\n",
    "sys.builtin_module_names"
   ]
  },
  {
   "cell_type": "markdown",
   "id": "003e4ccd-3051-4bc1-b3a6-6f571d061dfb",
   "metadata": {},
   "source": [
    "引入模块的包或函数之后可以对其使用化名"
   ]
  },
  {
   "cell_type": "code",
   "execution_count": 21,
   "id": "71bcb842-fb7a-4b76-8254-dc3429cfe9a7",
   "metadata": {
    "scrolled": true,
    "tags": []
   },
   "outputs": [
    {
     "data": {
      "text/plain": [
       "{'A': 'N',\n",
       " 'B': 'O',\n",
       " 'C': 'P',\n",
       " 'D': 'Q',\n",
       " 'E': 'R',\n",
       " 'F': 'S',\n",
       " 'G': 'T',\n",
       " 'H': 'U',\n",
       " 'I': 'V',\n",
       " 'J': 'W',\n",
       " 'K': 'X',\n",
       " 'L': 'Y',\n",
       " 'M': 'Z',\n",
       " 'N': 'A',\n",
       " 'O': 'B',\n",
       " 'P': 'C',\n",
       " 'Q': 'D',\n",
       " 'R': 'E',\n",
       " 'S': 'F',\n",
       " 'T': 'G',\n",
       " 'U': 'H',\n",
       " 'V': 'I',\n",
       " 'W': 'J',\n",
       " 'X': 'K',\n",
       " 'Y': 'L',\n",
       " 'Z': 'M',\n",
       " 'a': 'n',\n",
       " 'b': 'o',\n",
       " 'c': 'p',\n",
       " 'd': 'q',\n",
       " 'e': 'r',\n",
       " 'f': 's',\n",
       " 'g': 't',\n",
       " 'h': 'u',\n",
       " 'i': 'v',\n",
       " 'j': 'w',\n",
       " 'k': 'x',\n",
       " 'l': 'y',\n",
       " 'm': 'z',\n",
       " 'n': 'a',\n",
       " 'o': 'b',\n",
       " 'p': 'c',\n",
       " 'q': 'd',\n",
       " 'r': 'e',\n",
       " 's': 'f',\n",
       " 't': 'g',\n",
       " 'u': 'h',\n",
       " 'v': 'i',\n",
       " 'w': 'j',\n",
       " 'x': 'k',\n",
       " 'y': 'l',\n",
       " 'z': 'm'}"
      ]
     },
     "execution_count": 21,
     "metadata": {},
     "output_type": "execute_result"
    },
    {
     "data": {
      "text/plain": [
       "\"Gur Mra bs Clguba, ol Gvz Crgref\\n\\nOrnhgvshy vf orggre guna htyl.\\nRkcyvpvg vf orggre guna vzcyvpvg.\\nFvzcyr vf orggre guna pbzcyrk.\\nPbzcyrk vf orggre guna pbzcyvpngrq.\\nSyng vf orggre guna arfgrq.\\nFcnefr vf orggre guna qrafr.\\nErnqnovyvgl pbhagf.\\nFcrpvny pnfrf nera'g fcrpvny rabhtu gb oernx gur ehyrf.\\nNygubhtu cenpgvpnyvgl orngf chevgl.\\nReebef fubhyq arire cnff fvyragyl.\\nHayrff rkcyvpvgyl fvyraprq.\\nVa gur snpr bs nzovthvgl, ershfr gur grzcgngvba gb thrff.\\nGurer fubhyq or bar-- naq cersrenoyl bayl bar --boivbhf jnl gb qb vg.\\nNygubhtu gung jnl znl abg or boivbhf ng svefg hayrff lbh'er Qhgpu.\\nAbj vf orggre guna arire.\\nNygubhtu arire vf bsgra orggre guna *evtug* abj.\\nVs gur vzcyrzragngvba vf uneq gb rkcynva, vg'f n onq vqrn.\\nVs gur vzcyrzragngvba vf rnfl gb rkcynva, vg znl or n tbbq vqrn.\\nAnzrfcnprf ner bar ubaxvat terng vqrn -- yrg'f qb zber bs gubfr!\""
      ]
     },
     "execution_count": 21,
     "metadata": {},
     "output_type": "execute_result"
    }
   ],
   "source": [
    "import this\n",
    "this.d\n",
    "this.s"
   ]
  },
  {
   "cell_type": "code",
   "execution_count": 83,
   "id": "3c6a4793-69d9-4b6c-8b32-149871b88167",
   "metadata": {
    "scrolled": true,
    "tags": []
   },
   "outputs": [
    {
     "name": "stdout",
     "output_type": "stream",
     "text": [
      "The Zen of Python, by Tim Peters\n",
      "Beautiful is better than ugly.\n",
      "Explicit is better than implicit.\n",
      "Simple is better than complex.\n",
      "Complex is better than complicated.\n",
      "Flat is better than nested.\n",
      "Sparse is better than dense.\n",
      "Readability counts.\n",
      "Special cases aren't special enough to break the rules.\n",
      "Although practicality beats purity.\n",
      "Errors should never pass silently.\n",
      "Unless explicitly silenced.\n",
      "In the face of ambiguity, refuse the temptation to guess.\n",
      "There should be one-- and preferably only one --obvious way to do it.\n",
      "Although that way may not be obvious at first unless you're Dutch.\n",
      "Now is better than never.\n",
      "Although never is often better than *right* now.\n",
      "If the implementation is hard to explain, it's a bad idea.\n",
      "If the implementation is easy to explain, it may be a good idea.\n",
      "Namespaces are one honking great idea -- let's do more of those!\n"
     ]
    }
   ],
   "source": [
    "# d相当于是密码本，d[chr(i+c)] = chr((i+13) % 26 + c)是密码加密规则\n",
    "d = {}\n",
    "for c in (65, 97):\n",
    "    for i in range(26):\n",
    "        d[chr(i+c)] = chr((i+13) % 26 + c)\n",
    "\n",
    "# 用d这个密码本将s中的每一个字符解码出来，用到了字典的get方法，将空格默认返回空格\n",
    "print(\"\".join([d.get(c, c) for c in s]))"
   ]
  },
  {
   "cell_type": "code",
   "execution_count": 80,
   "id": "1625628e-d3b4-4ee7-91ec-b6a80827fba3",
   "metadata": {},
   "outputs": [],
   "source": [
    "s = \"\"\"Gur Mra bs Clguba, ol Gvz Crgref\n",
    "Ornhgvshy vf orggre guna htyl.\n",
    "Rkcyvpvg vf orggre guna vzcyvpvg.\n",
    "Fvzcyr vf orggre guna pbzcyrk.\n",
    "Pbzcyrk vf orggre guna pbzcyvpngrq.\n",
    "Syng vf orggre guna arfgrq.\n",
    "Fcnefr vf orggre guna qrafr.\n",
    "Ernqnovyvgl pbhagf.\n",
    "Fcrpvny pnfrf nera'g fcrpvny rabhtu gb oernx gur ehyrf.\n",
    "Nygubhtu cenpgvpnyvgl orngf chevgl.\n",
    "Reebef fubhyq arire cnff fvyragyl.\n",
    "Hayrff rkcyvpvgyl fvyraprq.\n",
    "Va gur snpr bs nzovthvgl, ershfr gur grzcgngvba gb thrff.\n",
    "Gurer fubhyq or bar-- naq cersrenoyl bayl bar --boivbhf jnl gb qb vg.\n",
    "Nygubhtu gung jnl znl abg or boivbhf ng svefg hayrff lbh'er Qhgpu.\n",
    "Abj vf orggre guna arire.\n",
    "Nygubhtu arire vf bsgra orggre guna *evtug* abj.\n",
    "Vs gur vzcyrzragngvba vf uneq gb rkcynva, vg'f n onq vqrn.\n",
    "Vs gur vzcyrzragngvba vf rnfl gb rkcynva, vg znl or n tbbq vqrn.\n",
    "Anzrfcnprf ner bar ubaxvat terng vqrn -- yrg'f qb zber bs gubfr!\"\"\""
   ]
  },
  {
   "cell_type": "code",
   "execution_count": 5,
   "id": "cfaa1284-e976-4514-b3b9-2ba86631af98",
   "metadata": {},
   "outputs": [
    {
     "name": "stdout",
     "output_type": "stream",
     "text": [
      "Module(\n",
      "  body=[\n",
      "    Assign(\n",
      "      targets=[\n",
      "        Name(id='x', ctx=Store())],\n",
      "      value=List(\n",
      "        elts=[\n",
      "          Constant(value=1),\n",
      "          Constant(value=2)],\n",
      "        ctx=Load())),\n",
      "    Expr(\n",
      "      value=Call(\n",
      "        func=Name(id='print', ctx=Load()),\n",
      "        args=[\n",
      "          Name(id='x', ctx=Load())],\n",
      "        keywords=[]))],\n",
      "  type_ignores=[])\n"
     ]
    }
   ],
   "source": [
    "import ast\n",
    "code = '''\n",
    "x = [1, 2]\n",
    "print(x)\n",
    "'''\n",
    "\n",
    "tree = ast.parse(code)\n",
    "print(ast.dump(tree, indent=2))"
   ]
  },
  {
   "cell_type": "code",
   "execution_count": 6,
   "id": "80699e91-b446-4a42-aca3-a00ee36410b1",
   "metadata": {
    "tags": []
   },
   "outputs": [
    {
     "name": "stdout",
     "output_type": "stream",
     "text": [
      "[1, 2]\n"
     ]
    }
   ],
   "source": [
    "code_obj = compile(tree, 'myfile.py', 'exec')\n",
    "exec(code_obj)"
   ]
  },
  {
   "cell_type": "code",
   "execution_count": 13,
   "id": "1bcc5112-d0fc-419c-9f35-850a0d88411d",
   "metadata": {},
   "outputs": [
    {
     "data": {
      "text/plain": [
       "b'd\\x00d\\x01g\\x02Z\\x00e\\x01e\\x00\\x83\\x01\\x01\\x00d\\x02S\\x00'"
      ]
     },
     "execution_count": 13,
     "metadata": {},
     "output_type": "execute_result"
    },
    {
     "data": {
      "text/plain": [
       "'myfile.py'"
      ]
     },
     "execution_count": 13,
     "metadata": {},
     "output_type": "execute_result"
    },
    {
     "data": {
      "text/plain": [
       "('x', 'print')"
      ]
     },
     "execution_count": 13,
     "metadata": {},
     "output_type": "execute_result"
    },
    {
     "data": {
      "text/plain": [
       "(1, 2, None)"
      ]
     },
     "execution_count": 13,
     "metadata": {},
     "output_type": "execute_result"
    },
    {
     "data": {
      "text/plain": [
       "20"
      ]
     },
     "execution_count": 13,
     "metadata": {},
     "output_type": "execute_result"
    }
   ],
   "source": [
    "code_obj.co_code\n",
    "code_obj.co_filename\n",
    "code_obj.co_names\n",
    "code_obj.co_consts\n",
    "len(code_obj.co_code)"
   ]
  },
  {
   "cell_type": "code",
   "execution_count": 12,
   "id": "453e4d6e-8966-4a4a-9d43-447d20116374",
   "metadata": {},
   "outputs": [
    {
     "name": "stdout",
     "output_type": "stream",
     "text": [
      "  2           0 LOAD_CONST               0 (1)\n",
      "              2 LOAD_CONST               1 (2)\n",
      "              4 BUILD_LIST               2\n",
      "              6 STORE_NAME               0 (x)\n",
      "\n",
      "  3           8 LOAD_NAME                1 (print)\n",
      "             10 LOAD_NAME                0 (x)\n",
      "             12 CALL_FUNCTION            1\n",
      "             14 POP_TOP\n",
      "             16 LOAD_CONST               2 (None)\n",
      "             18 RETURN_VALUE\n"
     ]
    }
   ],
   "source": [
    "import dis\n",
    "dis.dis('''\n",
    "x = [1, 2]\n",
    "print(x)\n",
    "''')"
   ]
  },
  {
   "cell_type": "code",
   "execution_count": 14,
   "id": "39f369e1-d433-4a41-bdbc-6a36db9547ad",
   "metadata": {},
   "outputs": [
    {
     "data": {
      "text/plain": [
       "2"
      ]
     },
     "execution_count": 14,
     "metadata": {},
     "output_type": "execute_result"
    }
   ],
   "source": [
    "result = eval('1 + 1')\n",
    "result"
   ]
  },
  {
   "cell_type": "code",
   "execution_count": 15,
   "id": "34464714-da68-4a4f-82b8-eb1f5f6bc158",
   "metadata": {},
   "outputs": [
    {
     "data": {
      "text/plain": [
       "2"
      ]
     },
     "execution_count": 15,
     "metadata": {},
     "output_type": "execute_result"
    }
   ],
   "source": [
    "expr = ast.parse('1 + 1', mode='eval')\n",
    "code_obj = compile(expr, '<code>', 'eval')\n",
    "eval(code_obj)"
   ]
  },
  {
   "cell_type": "code",
   "execution_count": 16,
   "id": "5a3ab2b6-3693-4e55-ac2a-eea632cbc694",
   "metadata": {},
   "outputs": [
    {
     "data": {
      "text/plain": [
       "4"
      ]
     },
     "execution_count": 16,
     "metadata": {},
     "output_type": "execute_result"
    }
   ],
   "source": [
    "def double(number):\n",
    "    return number * 2\n",
    "\n",
    "double(2)"
   ]
  },
  {
   "cell_type": "code",
   "execution_count": 18,
   "id": "8ae13930-6078-4447-8dd0-238bf17a2cfc",
   "metadata": {
    "scrolled": true,
    "tags": []
   },
   "outputs": [
    {
     "data": {
      "text/plain": [
       "10"
      ]
     },
     "execution_count": 18,
     "metadata": {},
     "output_type": "execute_result"
    },
    {
     "data": {
      "text/plain": [
       "{'__name__': '__main__',\n",
       " '__doc__': 'Automatically created module for IPython interactive environment',\n",
       " '__package__': None,\n",
       " '__loader__': None,\n",
       " '__spec__': None,\n",
       " '__builtin__': <module 'builtins' (built-in)>,\n",
       " '__builtins__': <module 'builtins' (built-in)>,\n",
       " '_ih': ['',\n",
       "  'from IPython.core.interactiveshell import InteractiveShell\\nInteractiveShell.ast_node_interactivity = \"all\"',\n",
       "  \"import ast\\ncode = '''\\nx = [1, 2]\\nprint(x)\\n'''\\n\\ntree = ast.parse(code)\\nprint(ast.dum(tree, indent=2))\\nModule(\\n  body=[\\n    Assign(\\n      targets=[\\n        Name(id='x', ctx=Store())],\\n      value=List(\\n        elts=[\\n          Constant(value=1),\\n          Constant(value=2)],\\n        ctx=Load())),\\n    Expr(\\n      value=Call(\\n        func=Name(id='print', ctx=Load()),\\n        args=[\\n          Name(id='x', ctx=Load())],\\n        keywords=[]))],\\ntype_ignores=[])\",\n",
       "  \"import ast\\ncode = '''\\nx = [1, 2]\\nprint(x)\\n'''\\n\\ntree = ast.parse(code)\\nprint(ast.dump(tree, indent=2))\\nModule(\\n  body=[\\n    Assign(\\n      targets=[\\n        Name(id='x', ctx=Store())],\\n      value=List(\\n        elts=[\\n          Constant(value=1),\\n          Constant(value=2)],\\n        ctx=Load())),\\n    Expr(\\n      value=Call(\\n        func=Name(id='print', ctx=Load()),\\n        args=[\\n          Name(id='x', ctx=Load())],\\n        keywords=[]))],\\ntype_ignores=[])\",\n",
       "  \"import ast\\ncode = '''\\nx = [1, 2]\\nprint(x)\\n'''\\n\\ntree = ast.parse(code)\\nprint(ast.dump(tree, indent=2))\",\n",
       "  \"import ast\\ncode = '''\\nx = [1, 2]\\nprint(x)\\n'''\\n\\ntree = ast.parse(code)\\nprint(ast.dump(tree, indent=2))\",\n",
       "  \"code_obj = compile(tree, 'myfile.py', 'exec')\\nexec(code_obj)\",\n",
       "  'code_obj.co_code',\n",
       "  'code_obj.co_code\\ncode_obj.co_filename',\n",
       "  'code_obj.co_code\\ncode_obj.co_filename\\ncode_obj.co_names',\n",
       "  'code_obj.co_code\\ncode_obj.co_filename\\ncode_obj.co_names\\ncode_obj.co_consts',\n",
       "  'code_obj.co_code\\ncode_obj.co_filename\\ncode_obj.co_names\\ncode_obj.co_consts',\n",
       "  \"import dis\\ndis.dis('''\\nx = [1, 2]\\nprint(x)\\n''')\",\n",
       "  'code_obj.co_code\\ncode_obj.co_filename\\ncode_obj.co_names\\ncode_obj.co_consts\\nlen(code_obj.co_code)',\n",
       "  \"result = eval('1 + 1')\\nresult\",\n",
       "  \"expr = ast.parse('1 + 1', mode='eval')\\ncode_obj = compile(expr, '<code>', 'eval')\\neval(code_obj)\",\n",
       "  'def double(number):\\n    return number * 2\\n\\ndouble(2)',\n",
       "  'value = 5\\ndouble(value)',\n",
       "  'value = 5\\ndouble(value)\\n\\nlocals()'],\n",
       " '_oh': {7: b'd\\x00d\\x01g\\x02Z\\x00e\\x01e\\x00\\x83\\x01\\x01\\x00d\\x02S\\x00',\n",
       "  8: 'myfile.py',\n",
       "  9: ('x', 'print'),\n",
       "  10: (1, 2, None),\n",
       "  11: (1, 2, None),\n",
       "  13: 20,\n",
       "  14: 2,\n",
       "  15: 2,\n",
       "  16: 4,\n",
       "  17: 10,\n",
       "  18: 10},\n",
       " '_dh': [WindowsPath('D:/GitHub/computer-science-practicing/Python Practise')],\n",
       " 'In': ['',\n",
       "  'from IPython.core.interactiveshell import InteractiveShell\\nInteractiveShell.ast_node_interactivity = \"all\"',\n",
       "  \"import ast\\ncode = '''\\nx = [1, 2]\\nprint(x)\\n'''\\n\\ntree = ast.parse(code)\\nprint(ast.dum(tree, indent=2))\\nModule(\\n  body=[\\n    Assign(\\n      targets=[\\n        Name(id='x', ctx=Store())],\\n      value=List(\\n        elts=[\\n          Constant(value=1),\\n          Constant(value=2)],\\n        ctx=Load())),\\n    Expr(\\n      value=Call(\\n        func=Name(id='print', ctx=Load()),\\n        args=[\\n          Name(id='x', ctx=Load())],\\n        keywords=[]))],\\ntype_ignores=[])\",\n",
       "  \"import ast\\ncode = '''\\nx = [1, 2]\\nprint(x)\\n'''\\n\\ntree = ast.parse(code)\\nprint(ast.dump(tree, indent=2))\\nModule(\\n  body=[\\n    Assign(\\n      targets=[\\n        Name(id='x', ctx=Store())],\\n      value=List(\\n        elts=[\\n          Constant(value=1),\\n          Constant(value=2)],\\n        ctx=Load())),\\n    Expr(\\n      value=Call(\\n        func=Name(id='print', ctx=Load()),\\n        args=[\\n          Name(id='x', ctx=Load())],\\n        keywords=[]))],\\ntype_ignores=[])\",\n",
       "  \"import ast\\ncode = '''\\nx = [1, 2]\\nprint(x)\\n'''\\n\\ntree = ast.parse(code)\\nprint(ast.dump(tree, indent=2))\",\n",
       "  \"import ast\\ncode = '''\\nx = [1, 2]\\nprint(x)\\n'''\\n\\ntree = ast.parse(code)\\nprint(ast.dump(tree, indent=2))\",\n",
       "  \"code_obj = compile(tree, 'myfile.py', 'exec')\\nexec(code_obj)\",\n",
       "  'code_obj.co_code',\n",
       "  'code_obj.co_code\\ncode_obj.co_filename',\n",
       "  'code_obj.co_code\\ncode_obj.co_filename\\ncode_obj.co_names',\n",
       "  'code_obj.co_code\\ncode_obj.co_filename\\ncode_obj.co_names\\ncode_obj.co_consts',\n",
       "  'code_obj.co_code\\ncode_obj.co_filename\\ncode_obj.co_names\\ncode_obj.co_consts',\n",
       "  \"import dis\\ndis.dis('''\\nx = [1, 2]\\nprint(x)\\n''')\",\n",
       "  'code_obj.co_code\\ncode_obj.co_filename\\ncode_obj.co_names\\ncode_obj.co_consts\\nlen(code_obj.co_code)',\n",
       "  \"result = eval('1 + 1')\\nresult\",\n",
       "  \"expr = ast.parse('1 + 1', mode='eval')\\ncode_obj = compile(expr, '<code>', 'eval')\\neval(code_obj)\",\n",
       "  'def double(number):\\n    return number * 2\\n\\ndouble(2)',\n",
       "  'value = 5\\ndouble(value)',\n",
       "  'value = 5\\ndouble(value)\\n\\nlocals()'],\n",
       " 'Out': {7: b'd\\x00d\\x01g\\x02Z\\x00e\\x01e\\x00\\x83\\x01\\x01\\x00d\\x02S\\x00',\n",
       "  8: 'myfile.py',\n",
       "  9: ('x', 'print'),\n",
       "  10: (1, 2, None),\n",
       "  11: (1, 2, None),\n",
       "  13: 20,\n",
       "  14: 2,\n",
       "  15: 2,\n",
       "  16: 4,\n",
       "  17: 10,\n",
       "  18: 10},\n",
       " 'get_ipython': <bound method InteractiveShell.get_ipython of <ipykernel.zmqshell.ZMQInteractiveShell object at 0x000001986A4868F0>>,\n",
       " 'exit': <IPython.core.autocall.ZMQExitAutocall at 0x1986a4841f0>,\n",
       " 'quit': <IPython.core.autocall.ZMQExitAutocall at 0x1986a4841f0>,\n",
       " '_': 10,\n",
       " '__': 10,\n",
       " '___': 4,\n",
       " '_i': 'value = 5\\ndouble(value)',\n",
       " '_ii': 'def double(number):\\n    return number * 2\\n\\ndouble(2)',\n",
       " '_iii': \"expr = ast.parse('1 + 1', mode='eval')\\ncode_obj = compile(expr, '<code>', 'eval')\\neval(code_obj)\",\n",
       " '_i1': 'from IPython.core.interactiveshell import InteractiveShell\\nInteractiveShell.ast_node_interactivity = \"all\"',\n",
       " 'InteractiveShell': IPython.core.interactiveshell.InteractiveShell,\n",
       " '_i2': \"import ast\\ncode = '''\\nx = [1, 2]\\nprint(x)\\n'''\\n\\ntree = ast.parse(code)\\nprint(ast.dum(tree, indent=2))\\nModule(\\n  body=[\\n    Assign(\\n      targets=[\\n        Name(id='x', ctx=Store())],\\n      value=List(\\n        elts=[\\n          Constant(value=1),\\n          Constant(value=2)],\\n        ctx=Load())),\\n    Expr(\\n      value=Call(\\n        func=Name(id='print', ctx=Load()),\\n        args=[\\n          Name(id='x', ctx=Load())],\\n        keywords=[]))],\\ntype_ignores=[])\",\n",
       " 'ast': <module 'ast' from 'C:\\\\Users\\\\Administrator\\\\AppData\\\\Local\\\\Programs\\\\Python\\\\Python310\\\\lib\\\\ast.py'>,\n",
       " 'code': '\\nx = [1, 2]\\nprint(x)\\n',\n",
       " 'tree': <ast.Module at 0x1986adf39d0>,\n",
       " '_i3': \"import ast\\ncode = '''\\nx = [1, 2]\\nprint(x)\\n'''\\n\\ntree = ast.parse(code)\\nprint(ast.dump(tree, indent=2))\\nModule(\\n  body=[\\n    Assign(\\n      targets=[\\n        Name(id='x', ctx=Store())],\\n      value=List(\\n        elts=[\\n          Constant(value=1),\\n          Constant(value=2)],\\n        ctx=Load())),\\n    Expr(\\n      value=Call(\\n        func=Name(id='print', ctx=Load()),\\n        args=[\\n          Name(id='x', ctx=Load())],\\n        keywords=[]))],\\ntype_ignores=[])\",\n",
       " '_i4': \"import ast\\ncode = '''\\nx = [1, 2]\\nprint(x)\\n'''\\n\\ntree = ast.parse(code)\\nprint(ast.dump(tree, indent=2))\",\n",
       " '_i5': \"import ast\\ncode = '''\\nx = [1, 2]\\nprint(x)\\n'''\\n\\ntree = ast.parse(code)\\nprint(ast.dump(tree, indent=2))\",\n",
       " '_i6': \"code_obj = compile(tree, 'myfile.py', 'exec')\\nexec(code_obj)\",\n",
       " 'code_obj': <code object <module> at 0x000001986B2E0DF0, file \"<code>\", line 1>,\n",
       " 'x': [1, 2],\n",
       " '_i7': 'code_obj.co_code',\n",
       " '_7': b'd\\x00d\\x01g\\x02Z\\x00e\\x01e\\x00\\x83\\x01\\x01\\x00d\\x02S\\x00',\n",
       " '_i8': 'code_obj.co_code\\ncode_obj.co_filename',\n",
       " '_8': 'myfile.py',\n",
       " '_i9': 'code_obj.co_code\\ncode_obj.co_filename\\ncode_obj.co_names',\n",
       " '_9': ('x', 'print'),\n",
       " '_i10': 'code_obj.co_code\\ncode_obj.co_filename\\ncode_obj.co_names\\ncode_obj.co_consts',\n",
       " '_10': (1, 2, None),\n",
       " '_i11': 'code_obj.co_code\\ncode_obj.co_filename\\ncode_obj.co_names\\ncode_obj.co_consts',\n",
       " '_11': (1, 2, None),\n",
       " '_i12': \"import dis\\ndis.dis('''\\nx = [1, 2]\\nprint(x)\\n''')\",\n",
       " 'dis': <module 'dis' from 'C:\\\\Users\\\\Administrator\\\\AppData\\\\Local\\\\Programs\\\\Python\\\\Python310\\\\lib\\\\dis.py'>,\n",
       " '_i13': 'code_obj.co_code\\ncode_obj.co_filename\\ncode_obj.co_names\\ncode_obj.co_consts\\nlen(code_obj.co_code)',\n",
       " '_13': 20,\n",
       " '_i14': \"result = eval('1 + 1')\\nresult\",\n",
       " 'result': 2,\n",
       " '_14': 2,\n",
       " '_i15': \"expr = ast.parse('1 + 1', mode='eval')\\ncode_obj = compile(expr, '<code>', 'eval')\\neval(code_obj)\",\n",
       " 'expr': <ast.Expression at 0x1986b685b10>,\n",
       " '_15': 2,\n",
       " '_i16': 'def double(number):\\n    return number * 2\\n\\ndouble(2)',\n",
       " 'double': <function __main__.double(number)>,\n",
       " '_16': 4,\n",
       " '_i17': 'value = 5\\ndouble(value)',\n",
       " 'value': 5,\n",
       " '_17': 10,\n",
       " '_i18': 'value = 5\\ndouble(value)\\n\\nlocals()',\n",
       " '_18': 10}"
      ]
     },
     "execution_count": 18,
     "metadata": {},
     "output_type": "execute_result"
    }
   ],
   "source": [
    "value = 5\n",
    "double(value)\n",
    "\n",
    "locals()"
   ]
  },
  {
   "cell_type": "code",
   "execution_count": 20,
   "id": "b970e474-ae69-4f65-bc69-f602f9fcede4",
   "metadata": {
    "scrolled": true,
    "tags": []
   },
   "outputs": [
    {
     "name": "stdout",
     "output_type": "stream",
     "text": [
      "{'x': 10, 'y': 20}\n",
      "{'__name__': '__main__', '__doc__': 'Automatically created module for IPython interactive environment', '__package__': None, '__loader__': None, '__spec__': None, '__builtin__': <module 'builtins' (built-in)>, '__builtins__': <module 'builtins' (built-in)>, '_ih': ['', 'from IPython.core.interactiveshell import InteractiveShell\\nInteractiveShell.ast_node_interactivity = \"all\"', \"import ast\\ncode = '''\\nx = [1, 2]\\nprint(x)\\n'''\\n\\ntree = ast.parse(code)\\nprint(ast.dum(tree, indent=2))\\nModule(\\n  body=[\\n    Assign(\\n      targets=[\\n        Name(id='x', ctx=Store())],\\n      value=List(\\n        elts=[\\n          Constant(value=1),\\n          Constant(value=2)],\\n        ctx=Load())),\\n    Expr(\\n      value=Call(\\n        func=Name(id='print', ctx=Load()),\\n        args=[\\n          Name(id='x', ctx=Load())],\\n        keywords=[]))],\\ntype_ignores=[])\", \"import ast\\ncode = '''\\nx = [1, 2]\\nprint(x)\\n'''\\n\\ntree = ast.parse(code)\\nprint(ast.dump(tree, indent=2))\\nModule(\\n  body=[\\n    Assign(\\n      targets=[\\n        Name(id='x', ctx=Store())],\\n      value=List(\\n        elts=[\\n          Constant(value=1),\\n          Constant(value=2)],\\n        ctx=Load())),\\n    Expr(\\n      value=Call(\\n        func=Name(id='print', ctx=Load()),\\n        args=[\\n          Name(id='x', ctx=Load())],\\n        keywords=[]))],\\ntype_ignores=[])\", \"import ast\\ncode = '''\\nx = [1, 2]\\nprint(x)\\n'''\\n\\ntree = ast.parse(code)\\nprint(ast.dump(tree, indent=2))\", \"import ast\\ncode = '''\\nx = [1, 2]\\nprint(x)\\n'''\\n\\ntree = ast.parse(code)\\nprint(ast.dump(tree, indent=2))\", \"code_obj = compile(tree, 'myfile.py', 'exec')\\nexec(code_obj)\", 'code_obj.co_code', 'code_obj.co_code\\ncode_obj.co_filename', 'code_obj.co_code\\ncode_obj.co_filename\\ncode_obj.co_names', 'code_obj.co_code\\ncode_obj.co_filename\\ncode_obj.co_names\\ncode_obj.co_consts', 'code_obj.co_code\\ncode_obj.co_filename\\ncode_obj.co_names\\ncode_obj.co_consts', \"import dis\\ndis.dis('''\\nx = [1, 2]\\nprint(x)\\n''')\", 'code_obj.co_code\\ncode_obj.co_filename\\ncode_obj.co_names\\ncode_obj.co_consts\\nlen(code_obj.co_code)', \"result = eval('1 + 1')\\nresult\", \"expr = ast.parse('1 + 1', mode='eval')\\ncode_obj = compile(expr, '<code>', 'eval')\\neval(code_obj)\", 'def double(number):\\n    return number * 2\\n\\ndouble(2)', 'value = 5\\ndouble(value)', 'value = 5\\ndouble(value)\\n\\nlocals()', 'magic_number = 42\\n\\ndef function():\\n    x = 10\\n    y = 20\\n    print(locals())\\n    print(globals())', 'magic_number = 42\\n\\ndef function():\\n    x = 10\\n    y = 20\\n    print(locals())\\n    print(globals())\\n    \\nfunction()'], '_oh': {7: b'd\\x00d\\x01g\\x02Z\\x00e\\x01e\\x00\\x83\\x01\\x01\\x00d\\x02S\\x00', 8: 'myfile.py', 9: ('x', 'print'), 10: (1, 2, None), 11: (1, 2, None), 13: 20, 14: 2, 15: 2, 16: 4, 17: 10, 18: {...}}, '_dh': [WindowsPath('D:/GitHub/computer-science-practicing/Python Practise')], 'In': ['', 'from IPython.core.interactiveshell import InteractiveShell\\nInteractiveShell.ast_node_interactivity = \"all\"', \"import ast\\ncode = '''\\nx = [1, 2]\\nprint(x)\\n'''\\n\\ntree = ast.parse(code)\\nprint(ast.dum(tree, indent=2))\\nModule(\\n  body=[\\n    Assign(\\n      targets=[\\n        Name(id='x', ctx=Store())],\\n      value=List(\\n        elts=[\\n          Constant(value=1),\\n          Constant(value=2)],\\n        ctx=Load())),\\n    Expr(\\n      value=Call(\\n        func=Name(id='print', ctx=Load()),\\n        args=[\\n          Name(id='x', ctx=Load())],\\n        keywords=[]))],\\ntype_ignores=[])\", \"import ast\\ncode = '''\\nx = [1, 2]\\nprint(x)\\n'''\\n\\ntree = ast.parse(code)\\nprint(ast.dump(tree, indent=2))\\nModule(\\n  body=[\\n    Assign(\\n      targets=[\\n        Name(id='x', ctx=Store())],\\n      value=List(\\n        elts=[\\n          Constant(value=1),\\n          Constant(value=2)],\\n        ctx=Load())),\\n    Expr(\\n      value=Call(\\n        func=Name(id='print', ctx=Load()),\\n        args=[\\n          Name(id='x', ctx=Load())],\\n        keywords=[]))],\\ntype_ignores=[])\", \"import ast\\ncode = '''\\nx = [1, 2]\\nprint(x)\\n'''\\n\\ntree = ast.parse(code)\\nprint(ast.dump(tree, indent=2))\", \"import ast\\ncode = '''\\nx = [1, 2]\\nprint(x)\\n'''\\n\\ntree = ast.parse(code)\\nprint(ast.dump(tree, indent=2))\", \"code_obj = compile(tree, 'myfile.py', 'exec')\\nexec(code_obj)\", 'code_obj.co_code', 'code_obj.co_code\\ncode_obj.co_filename', 'code_obj.co_code\\ncode_obj.co_filename\\ncode_obj.co_names', 'code_obj.co_code\\ncode_obj.co_filename\\ncode_obj.co_names\\ncode_obj.co_consts', 'code_obj.co_code\\ncode_obj.co_filename\\ncode_obj.co_names\\ncode_obj.co_consts', \"import dis\\ndis.dis('''\\nx = [1, 2]\\nprint(x)\\n''')\", 'code_obj.co_code\\ncode_obj.co_filename\\ncode_obj.co_names\\ncode_obj.co_consts\\nlen(code_obj.co_code)', \"result = eval('1 + 1')\\nresult\", \"expr = ast.parse('1 + 1', mode='eval')\\ncode_obj = compile(expr, '<code>', 'eval')\\neval(code_obj)\", 'def double(number):\\n    return number * 2\\n\\ndouble(2)', 'value = 5\\ndouble(value)', 'value = 5\\ndouble(value)\\n\\nlocals()', 'magic_number = 42\\n\\ndef function():\\n    x = 10\\n    y = 20\\n    print(locals())\\n    print(globals())', 'magic_number = 42\\n\\ndef function():\\n    x = 10\\n    y = 20\\n    print(locals())\\n    print(globals())\\n    \\nfunction()'], 'Out': {7: b'd\\x00d\\x01g\\x02Z\\x00e\\x01e\\x00\\x83\\x01\\x01\\x00d\\x02S\\x00', 8: 'myfile.py', 9: ('x', 'print'), 10: (1, 2, None), 11: (1, 2, None), 13: 20, 14: 2, 15: 2, 16: 4, 17: 10, 18: {...}}, 'get_ipython': <bound method InteractiveShell.get_ipython of <ipykernel.zmqshell.ZMQInteractiveShell object at 0x000001986A4868F0>>, 'exit': <IPython.core.autocall.ZMQExitAutocall object at 0x000001986A4841F0>, 'quit': <IPython.core.autocall.ZMQExitAutocall object at 0x000001986A4841F0>, '_': {...}, '__': 10, '___': 10, '_i': 'magic_number = 42\\n\\ndef function():\\n    x = 10\\n    y = 20\\n    print(locals())\\n    print(globals())', '_ii': 'value = 5\\ndouble(value)\\n\\nlocals()', '_iii': 'value = 5\\ndouble(value)', '_i1': 'from IPython.core.interactiveshell import InteractiveShell\\nInteractiveShell.ast_node_interactivity = \"all\"', 'InteractiveShell': <class 'IPython.core.interactiveshell.InteractiveShell'>, '_i2': \"import ast\\ncode = '''\\nx = [1, 2]\\nprint(x)\\n'''\\n\\ntree = ast.parse(code)\\nprint(ast.dum(tree, indent=2))\\nModule(\\n  body=[\\n    Assign(\\n      targets=[\\n        Name(id='x', ctx=Store())],\\n      value=List(\\n        elts=[\\n          Constant(value=1),\\n          Constant(value=2)],\\n        ctx=Load())),\\n    Expr(\\n      value=Call(\\n        func=Name(id='print', ctx=Load()),\\n        args=[\\n          Name(id='x', ctx=Load())],\\n        keywords=[]))],\\ntype_ignores=[])\", 'ast': <module 'ast' from 'C:\\\\Users\\\\Administrator\\\\AppData\\\\Local\\\\Programs\\\\Python\\\\Python310\\\\lib\\\\ast.py'>, 'code': '\\nx = [1, 2]\\nprint(x)\\n', 'tree': <ast.Module object at 0x000001986ADF39D0>, '_i3': \"import ast\\ncode = '''\\nx = [1, 2]\\nprint(x)\\n'''\\n\\ntree = ast.parse(code)\\nprint(ast.dump(tree, indent=2))\\nModule(\\n  body=[\\n    Assign(\\n      targets=[\\n        Name(id='x', ctx=Store())],\\n      value=List(\\n        elts=[\\n          Constant(value=1),\\n          Constant(value=2)],\\n        ctx=Load())),\\n    Expr(\\n      value=Call(\\n        func=Name(id='print', ctx=Load()),\\n        args=[\\n          Name(id='x', ctx=Load())],\\n        keywords=[]))],\\ntype_ignores=[])\", '_i4': \"import ast\\ncode = '''\\nx = [1, 2]\\nprint(x)\\n'''\\n\\ntree = ast.parse(code)\\nprint(ast.dump(tree, indent=2))\", '_i5': \"import ast\\ncode = '''\\nx = [1, 2]\\nprint(x)\\n'''\\n\\ntree = ast.parse(code)\\nprint(ast.dump(tree, indent=2))\", '_i6': \"code_obj = compile(tree, 'myfile.py', 'exec')\\nexec(code_obj)\", 'code_obj': <code object <module> at 0x000001986B2E0DF0, file \"<code>\", line 1>, 'x': [1, 2], '_i7': 'code_obj.co_code', '_7': b'd\\x00d\\x01g\\x02Z\\x00e\\x01e\\x00\\x83\\x01\\x01\\x00d\\x02S\\x00', '_i8': 'code_obj.co_code\\ncode_obj.co_filename', '_8': 'myfile.py', '_i9': 'code_obj.co_code\\ncode_obj.co_filename\\ncode_obj.co_names', '_9': ('x', 'print'), '_i10': 'code_obj.co_code\\ncode_obj.co_filename\\ncode_obj.co_names\\ncode_obj.co_consts', '_10': (1, 2, None), '_i11': 'code_obj.co_code\\ncode_obj.co_filename\\ncode_obj.co_names\\ncode_obj.co_consts', '_11': (1, 2, None), '_i12': \"import dis\\ndis.dis('''\\nx = [1, 2]\\nprint(x)\\n''')\", 'dis': <module 'dis' from 'C:\\\\Users\\\\Administrator\\\\AppData\\\\Local\\\\Programs\\\\Python\\\\Python310\\\\lib\\\\dis.py'>, '_i13': 'code_obj.co_code\\ncode_obj.co_filename\\ncode_obj.co_names\\ncode_obj.co_consts\\nlen(code_obj.co_code)', '_13': 20, '_i14': \"result = eval('1 + 1')\\nresult\", 'result': 2, '_14': 2, '_i15': \"expr = ast.parse('1 + 1', mode='eval')\\ncode_obj = compile(expr, '<code>', 'eval')\\neval(code_obj)\", 'expr': <ast.Expression object at 0x000001986B685B10>, '_15': 2, '_i16': 'def double(number):\\n    return number * 2\\n\\ndouble(2)', 'double': <function double at 0x000001986CFC7490>, '_16': 4, '_i17': 'value = 5\\ndouble(value)', 'value': 5, '_17': 10, '_i18': 'value = 5\\ndouble(value)\\n\\nlocals()', '_18': {...}, '_i19': 'magic_number = 42\\n\\ndef function():\\n    x = 10\\n    y = 20\\n    print(locals())\\n    print(globals())', 'magic_number': 42, 'function': <function function at 0x000001986C876B00>, '_i20': 'magic_number = 42\\n\\ndef function():\\n    x = 10\\n    y = 20\\n    print(locals())\\n    print(globals())\\n    \\nfunction()'}\n"
     ]
    }
   ],
   "source": [
    "magic_number = 42\n",
    "\n",
    "def function():\n",
    "    x = 10\n",
    "    y = 20\n",
    "    print(locals())\n",
    "    print(globals())\n",
    "    \n",
    "function()"
   ]
  },
  {
   "cell_type": "code",
   "execution_count": 7,
   "id": "3b27f7aa-fc1b-4f2a-b968-faa41e292a10",
   "metadata": {},
   "outputs": [
    {
     "name": "stdout",
     "output_type": "stream",
     "text": [
      "0123456789"
     ]
    }
   ],
   "source": [
    "for i in range(10):\n",
    "    print(i, end='')"
   ]
  },
  {
   "cell_type": "code",
   "execution_count": 10,
   "id": "cedd99be-7d71-46bf-8356-b4faf228db0b",
   "metadata": {},
   "outputs": [],
   "source": [
    "# 此方式会直接覆盖文件原有内容\n",
    "with open('fibo.py', 'w') as f:\n",
    "    print('# fibonacci', file=f)"
   ]
  },
  {
   "cell_type": "code",
   "execution_count": 14,
   "id": "59364c3b-36f2-47f6-8c42-e947dfec803c",
   "metadata": {},
   "outputs": [
    {
     "name": "stdout",
     "output_type": "stream",
     "text": [
      "a regulr print statement\n",
      "and regular print still works\n"
     ]
    }
   ],
   "source": [
    "import sys\n",
    "print('a regulr print statement')\n",
    "\n",
    "# temporarily configure the file argument of print function\n",
    "from contextlib import contextmanager\n",
    "\n",
    "@contextmanager\n",
    "def print_writer(file_path):\n",
    "    original_stdout = sys.stdout\n",
    "    \n",
    "    with open(file_path, 'w') as f:\n",
    "        sys.stdout = f\n",
    "        yield    # this is where everything inside the 'with' statements happens\n",
    "        sys.stdout = original_stdout\n",
    "        \n",
    "with print_writer('fibo.py'):\n",
    "    print('Printing straight to the file!')\n",
    "    for i in range(5):\n",
    "        print(i)\n",
    "        \n",
    "print('and regular print still works')"
   ]
  },
  {
   "cell_type": "code",
   "execution_count": 19,
   "id": "d75fe253-cf28-4598-80fc-fa0d0b359198",
   "metadata": {},
   "outputs": [
    {
     "name": "stdout",
     "output_type": "stream",
     "text": [
      "\n"
     ]
    }
   ],
   "source": [
    "from contextlib import redirect_stdout\n",
    "\n",
    "with open('fibo.py', 'w') as file:\n",
    "    with redirect_stdout(file):\n",
    "        import this\n",
    "        \n",
    "with open('fibo.py') as file:\n",
    "    print(file.read())"
   ]
  },
  {
   "cell_type": "code",
   "execution_count": 6,
   "id": "726b2f93-3a81-40ba-b0b6-5408bc35f59c",
   "metadata": {},
   "outputs": [
    {
     "data": {
      "text/plain": [
       "int"
      ]
     },
     "execution_count": 6,
     "metadata": {},
     "output_type": "execute_result"
    },
    {
     "data": {
      "text/plain": [
       "float"
      ]
     },
     "execution_count": 6,
     "metadata": {},
     "output_type": "execute_result"
    },
    {
     "data": {
      "text/plain": [
       "complex"
      ]
     },
     "execution_count": 6,
     "metadata": {},
     "output_type": "execute_result"
    },
    {
     "data": {
      "text/plain": [
       "True"
      ]
     },
     "execution_count": 6,
     "metadata": {},
     "output_type": "execute_result"
    },
    {
     "data": {
      "text/plain": [
       "5.0"
      ]
     },
     "execution_count": 6,
     "metadata": {},
     "output_type": "execute_result"
    },
    {
     "data": {
      "text/plain": [
       "5.0"
      ]
     },
     "execution_count": 6,
     "metadata": {},
     "output_type": "execute_result"
    },
    {
     "data": {
      "text/plain": [
       "(5+0j)"
      ]
     },
     "execution_count": 6,
     "metadata": {},
     "output_type": "execute_result"
    },
    {
     "data": {
      "text/plain": [
       "(5+0j)"
      ]
     },
     "execution_count": 6,
     "metadata": {},
     "output_type": "execute_result"
    }
   ],
   "source": [
    "x = 5\n",
    "y = 5.0\n",
    "z = 5.0+0.0j\n",
    "\n",
    "type(x)\n",
    "type(y)\n",
    "type(z)\n",
    "\n",
    "x == y == z\n",
    "\n",
    "y\n",
    "float(x)\n",
    "\n",
    "z\n",
    "complex(x)"
   ]
  },
  {
   "cell_type": "code",
   "execution_count": 12,
   "id": "ecd3dae8-6d46-4262-8e2b-23e9dbf816b7",
   "metadata": {},
   "outputs": [
    {
     "data": {
      "text/plain": [
       "[int, object]"
      ]
     },
     "execution_count": 12,
     "metadata": {},
     "output_type": "execute_result"
    },
    {
     "data": {
      "text/plain": [
       "[float, object]"
      ]
     },
     "execution_count": 12,
     "metadata": {},
     "output_type": "execute_result"
    },
    {
     "data": {
      "text/plain": [
       "[complex, object]"
      ]
     },
     "execution_count": 12,
     "metadata": {},
     "output_type": "execute_result"
    },
    {
     "data": {
      "text/plain": [
       "[str, object]"
      ]
     },
     "execution_count": 12,
     "metadata": {},
     "output_type": "execute_result"
    },
    {
     "data": {
      "text/plain": [
       "[bool, int, object]"
      ]
     },
     "execution_count": 12,
     "metadata": {},
     "output_type": "execute_result"
    }
   ],
   "source": [
    "int.mro()\n",
    "float.mro()\n",
    "complex.mro()\n",
    "str.mro()\n",
    "bool.mro()"
   ]
  },
  {
   "cell_type": "code",
   "execution_count": 15,
   "id": "5739c1dd-4859-44d6-bac3-6fb7840994d1",
   "metadata": {},
   "outputs": [
    {
     "name": "stdout",
     "output_type": "stream",
     "text": [
      "{\"a\": 1, \"b\": {\"c\": 2}}\n",
      "{\n",
      "    \"a\": 1,\n",
      "    \"b\": {\n",
      "        \"c\": 2\n",
      "    }\n",
      "}\n",
      "{\n",
      " \"a\": 1,\n",
      " \"b\": {\n",
      "  \"c\": 2\n",
      " }\n",
      "}\n"
     ]
    }
   ],
   "source": [
    "import json\n",
    "data = {'a': 1, 'b': {'c': 2}}\n",
    "print(json.dumps(data))\n",
    "\n",
    "print(json.dumps(data, indent=4))\n",
    "print(json.dumps(data, indent=True))"
   ]
  },
  {
   "cell_type": "code",
   "execution_count": 17,
   "id": "d568e741-76ee-43a5-ac02-370f18890a75",
   "metadata": {
    "scrolled": true,
    "tags": []
   },
   "outputs": [
    {
     "data": {
      "text/plain": [
       "['__class__',\n",
       " '__delattr__',\n",
       " '__dir__',\n",
       " '__doc__',\n",
       " '__eq__',\n",
       " '__format__',\n",
       " '__ge__',\n",
       " '__getattribute__',\n",
       " '__gt__',\n",
       " '__hash__',\n",
       " '__init__',\n",
       " '__init_subclass__',\n",
       " '__le__',\n",
       " '__lt__',\n",
       " '__ne__',\n",
       " '__new__',\n",
       " '__reduce__',\n",
       " '__reduce_ex__',\n",
       " '__repr__',\n",
       " '__setattr__',\n",
       " '__sizeof__',\n",
       " '__str__',\n",
       " '__subclasshook__']"
      ]
     },
     "execution_count": 17,
     "metadata": {},
     "output_type": "execute_result"
    }
   ],
   "source": [
    "# object: the base\n",
    "dir(object)"
   ]
  },
  {
   "cell_type": "code",
   "execution_count": 24,
   "id": "135ae60b-723f-4aab-af0d-bf13f619f554",
   "metadata": {},
   "outputs": [
    {
     "data": {
      "text/plain": [
       "<object at 0x1e082971140>"
      ]
     },
     "execution_count": 24,
     "metadata": {},
     "output_type": "execute_result"
    },
    {
     "data": {
      "text/plain": [
       "<__main__.dummy at 0x1e082b608e0>"
      ]
     },
     "execution_count": 24,
     "metadata": {},
     "output_type": "execute_result"
    },
    {
     "data": {
      "text/plain": [
       "128985952506"
      ]
     },
     "execution_count": 24,
     "metadata": {},
     "output_type": "execute_result"
    },
    {
     "data": {
      "text/plain": [
       "128986079374"
      ]
     },
     "execution_count": 24,
     "metadata": {},
     "output_type": "execute_result"
    },
    {
     "data": {
      "text/plain": [
       "128986079374"
      ]
     },
     "execution_count": 24,
     "metadata": {},
     "output_type": "execute_result"
    }
   ],
   "source": [
    "object()\n",
    "\n",
    "class dummy(object):\n",
    "    pass\n",
    "\n",
    "x = dummy()\n",
    "x\n",
    "\n",
    "hash(object())\n",
    "hash(x)\n",
    "x.__hash__()"
   ]
  },
  {
   "cell_type": "code",
   "execution_count": 28,
   "id": "81cf602c-57b4-4d30-9879-8dcccc66428c",
   "metadata": {},
   "outputs": [
    {
     "data": {
      "text/plain": [
       "int"
      ]
     },
     "execution_count": 28,
     "metadata": {},
     "output_type": "execute_result"
    },
    {
     "data": {
      "text/plain": [
       "True"
      ]
     },
     "execution_count": 28,
     "metadata": {},
     "output_type": "execute_result"
    },
    {
     "data": {
      "text/plain": [
       "42"
      ]
     },
     "execution_count": 28,
     "metadata": {},
     "output_type": "execute_result"
    }
   ],
   "source": [
    "# type is the father of all objects\n",
    "x = 5\n",
    "type(x)\n",
    "type(x) is int\n",
    "type(x)(42.0)    # same as int(42.0)"
   ]
  },
  {
   "cell_type": "code",
   "execution_count": 1,
   "id": "ace71e35-e5a6-4ba8-ae4d-b3a9bfb37858",
   "metadata": {},
   "outputs": [
    {
     "data": {
      "text/plain": [
       "__main__.MyClass"
      ]
     },
     "execution_count": 1,
     "metadata": {},
     "output_type": "execute_result"
    }
   ],
   "source": [
    "# given three parameters of type() to creat a new class\n",
    "class MyClass(int):\n",
    "    def x(self):\n",
    "        print('x')\n",
    "        \n",
    "# is identical to this class definition\n",
    "def x_function(self):\n",
    "    print('x')\n",
    "    \n",
    "MyClass = type('MyClass', (int,), {'x': x_function})\n",
    "\n",
    "MyClass"
   ]
  },
  {
   "cell_type": "markdown",
   "id": "2374114d-4429-49a4-8016-ee97e2268e41",
   "metadata": {},
   "source": [
    "## 测试驱动的开发"
   ]
  },
  {
   "cell_type": "markdown",
   "id": "fbc1a79a-ef98-4c89-baa3-31a550157e82",
   "metadata": {},
   "source": [
    "测试驱动开发英文叫“Test-Driven development”，简称*TDD*。"
   ]
  },
  {
   "cell_type": "markdown",
   "id": "f4728620-d392-45ae-a009-0ba72c6a4304",
   "metadata": {},
   "source": [
    "编写算法的时候先把算法的规则及过程用自然语言描述出来，然后再用代码实现该过程，必要的时候可以在代码编写之前绘制流程图。\n",
    "\n",
    "比如编写一个验证一个年份是否为闰年的函数。首先要清楚闰年的定义：\n",
    "> - 年份应该是4的倍数\n",
    "> - 年份能被 100 整除但不能被 400 整除的，不是闰年。\n",
    "\n",
    "那么验证是否为闰年的函数的算法规则应该是“要在能被 4 整除的年份中，排除那些能被 100 整除却不能被 400 整除的年份”。"
   ]
  },
  {
   "cell_type": "markdown",
   "id": "46861445-d408-4bda-a1a8-62a0daff283e",
   "metadata": {},
   "source": [
    "在实际开发过程中，所谓测试驱动开发要使用更为强大更为复杂的模块、框架和工具，比如，测试Python代码使用 Python 内建库中的 unittest 模块。"
   ]
  },
  {
   "cell_type": "markdown",
   "id": "46f0aaa5-1419-48f6-b744-639a99756ba5",
   "metadata": {},
   "source": [
    "**main模块**\n",
    "\n",
    "[Python3 script executable的stackoverflow网站提供的解答](https://stackoverflow.com/questions/27494758/how-do-i-make-a-python-script-executable)\n",
    "\n",
    "Google: Python3 script executable parameters retrieving"
   ]
  },
  {
   "cell_type": "markdown",
   "id": "7c95999a-c5c7-49fa-833d-5f6ed91a0439",
   "metadata": {},
   "source": [
    "**刻意思考** deliberate thinking"
   ]
  },
  {
   "cell_type": "markdown",
   "id": "0f4a5adb-5c33-41b6-a54a-de5d23f320b0",
   "metadata": {},
   "source": [
    "> 刻意思考哪儿需要刻意思考\n",
    "> 这东西能用在哪儿呢？\n",
    "\n",
    "比如用string method中的`str.zfill()`批量更名文件……由此可推断，凡是需要大量手工重复的工作，其实都可以编写程序来自动化完成！\n",
    "\n",
    "> “*找活干*是应用所学的最有效方式”——李笑来\n",
    "\n",
    "比如Google看看Python技能的应用场景：[`best applications of python skill`](https://www.google.com/search?q=best+application+python+skill&newwindow=1&sxsrf=ALiCzsbSLA8J5QHzvlIDDfu_5yfpfNAPIA%3A1666861754846&ei=ukpaY6KRM4iU2roPrei6mAk&ved=0ahUKEwii1qX2h4D7AhUIilYBHS20DpMQ4dUDCA4&uact=5&oq=best+application+python+skill&gs_lcp=Cgdnd3Mtd2l6EAMyBggAEBYQHjIFCAAQhgMyBQgAEIYDMgUIABCGAzIFCAAQhgMyBQgAEIYDOgcIIxDqAhAnOgQIIxAnOgUIABCRAjoOCC4QgAQQxwEQ0QMQ1AI6CwguEIAEEMcBENEDOggILhCABBDUAjoFCC4QgAQ6BQgAEIAEOgoILhDHARDRAxBDOgQIABBDOggIABCABBDJAzoFCCEQoAE6BAghEBU6CAghEBYQHhAdOgcIIRCgARAKSgQIQRgASgQIRhgAUOMJWIhvYPtxaAJwAXgAgAHnAYgBwTCSAQcwLjEwLjIwmAEAoAEBsAEKwAEB&sclient=gws-wiz)\n",
    "\n",
    "有这么一篇文章：[what ecactly can you do with Python?](https://www.freecodecamp.org/news/what-can-you-do-with-python-the-3-main-applications-518db9a68a78)"
   ]
  },
  {
   "cell_type": "markdown",
   "id": "f6f7e687-dde2-4df0-a0a4-b32e44bd3fad",
   "metadata": {},
   "source": [
    "[MoSCoW Method](https://en.wikipedia.org/wiki/MoSCoW_method):\n",
    "\n",
    "> - Must have\n",
    "> - Should have\n",
    "> - Could have\n",
    "> - Won't have\n",
    "\n",
    "活学活用，触类旁通"
   ]
  },
  {
   "cell_type": "markdown",
   "id": "975f5a74-bd0e-4913-bde6-0fb877510450",
   "metadata": {},
   "source": [
    "## 面向对象编程——class"
   ]
  },
  {
   "cell_type": "markdown",
   "id": "ea470e58-4fd6-4f7c-a369-0e198a3e8ea8",
   "metadata": {},
   "source": [
    "**战胜难点**\n",
    "\n",
    "战胜难点的最简单方法就是分而治之，把难点分解成更小的点，直到不能再发。然后从最小的点可以突破，进而自下而上完成对难点的理解。\n",
    "\n",
    "> - Class, OOP\n",
    "> - Iterators, Generators, Decorators\n",
    "> - Regular Expressions\n",
    "> - Backus Normal Form"
   ]
  },
  {
   "cell_type": "markdown",
   "id": "bd0e5c76-6a08-46e8-936e-216d0277fc8f",
   "metadata": {},
   "source": [
    "“开始自学的活动，本质上来看，和*断奶*其实是一回事。” ——李笑来\n",
    "\n",
    "“就好像人生本无意义，有意义的人生都是自己活出来的一样，有意义的知识都是自己用出来的。”\n",
    "\n"
   ]
  },
  {
   "cell_type": "code",
   "execution_count": 1,
   "id": "ecf3e6ab-496a-45e7-85f8-147e9f6dbd8e",
   "metadata": {},
   "outputs": [
    {
     "name": "stdout",
     "output_type": "stream",
     "text": [
      "25 µs ± 62.7 ns per loop (mean ± std. dev. of 7 runs, 10,000 loops each)\n"
     ]
    }
   ],
   "source": [
    "%timeit [x for x in range(1000)]"
   ]
  },
  {
   "cell_type": "code",
   "execution_count": 8,
   "id": "81bf209f-8e74-4dc5-ac89-3493c11b7c0f",
   "metadata": {},
   "outputs": [
    {
     "name": "stdout",
     "output_type": "stream",
     "text": [
      "954 ns ± 3.88 ns per loop (mean ± std. dev. of 7 runs, 1,000,000 loops each)\n",
      "5.64 s ± 223 ms per loop (mean ± std. dev. of 7 runs, 1 loop each)\n"
     ]
    }
   ],
   "source": [
    "%timeit any(num == 10 for num in range(100_000_000))\n",
    "%timeit any([num == 10 for num in range(100_000_000)])"
   ]
  },
  {
   "cell_type": "code",
   "execution_count": 9,
   "id": "d181a856-2344-4852-811b-864219cc8638",
   "metadata": {},
   "outputs": [
    {
     "name": "stdout",
     "output_type": "stream",
     "text": [
      "41.2 ms ± 630 µs per loop (mean ± std. dev. of 5 runs, 10 loops each)\n"
     ]
    }
   ],
   "source": [
    "%%timeit -r5 -n10\n",
    "# find sum to first 1 million numbers\n",
    "sum_x = 0\n",
    "for i in range(1000000):\n",
    "    sum_x += i"
   ]
  },
  {
   "cell_type": "markdown",
   "id": "3fb3bdea-9826-44a5-b347-b65181535cbc",
   "metadata": {},
   "source": [
    "[OOP: Object-Oriented Programming](https://en.wikipedia.org/wiki/Object-oriented_programming)\n",
    "\n",
    "面向对象编程是基于对象（*object*）的，对象的界面由两样东西构成：\n",
    "\n",
    "- *属性*——用自然语言描述，通常是名词（Nouns），通常也就数据属性\n",
    "- *方法*——用自然语言描述，通常是动词（Verbs），也就是*Method*\n"
   ]
  },
  {
   "cell_type": "markdown",
   "id": "dbd85c7b-128b-4e96-8834-45e0cd6bbf0b",
   "metadata": {},
   "source": [
    "对象的子类（*subclass*）和继承（*inheritance*）从生物学进化的角度看，就是从高级属的分类逐渐细分为更小的生物类型，比如才哺乳动物这个*类*到狗这个*子类*，狗这个*子类*会*继承*哺乳动物这个类的一些共有特征，同时狗这个*子类*也可以有属于自己的独特的特征。"
   ]
  },
  {
   "cell_type": "markdown",
   "id": "b870cab7-1f09-4985-b7f6-381b7fbdc60a",
   "metadata": {},
   "source": [
    "关于OOP的基本术语：\n",
    "\n",
    "> - 对象，封装，抽象\n",
    "> - 界面，属性，方法\n",
    "> - 继承，类，子类，实例\n",
    "\n",
    "- 你创建了一个类（Class）之后，你是这个类的创作者，从创作者的角度望过去，这就是个类；\n",
    "- 当开始使用这类进行实例化（Instantial）之后，从使用这的角度看，是在对实例化的对象（Object）进行操作；\n",
    "- 基于以上两点看，类是对对象的*抽象*（Abstract），对象是对类的*实例化*"
   ]
  },
  {
   "cell_type": "code",
   "execution_count": 4,
   "id": "b2b0ace1-2de8-4d22-b7da-6845803048ce",
   "metadata": {},
   "outputs": [],
   "source": [
    "import datetime\n",
    "\n",
    "class Golem:\n",
    "    \n",
    "    def __init__(self, name=None):\n",
    "        self.name = name\n",
    "        self.built_year = datetime.date.today().year\n",
    "    \n",
    "    def say_hi(self):\n",
    "        print('Hi!')"
   ]
  },
  {
   "cell_type": "markdown",
   "id": "5fb4ab35-9aa9-43fd-9cca-3439541e4923",
   "metadata": {},
   "source": [
    "`class`定义中的`__init__()`函数实际上是一个*construcor*（构造器），表示class实例化的对象的初始化过程的函数。定义在class中的函数，即是class的*Method*\n",
    "\n",
    "`self` 就是个变量，它是一个系统默认可以识别的变量，用来指代将来用这个 Class 创建的 Instance。`self` 这个变量的定义，是在 def \\_\\_init__(self, ...) 这一句里完成的。\n",
    "\n",
    "实例化的过程中，实例的name会传递到 `__init__`的参数`name`里面，因此`self.name`就被赋值了实例的name，比如："
   ]
  },
  {
   "cell_type": "code",
   "execution_count": 5,
   "id": "11692458-b1ca-4ab2-92c7-d50704f4a6e5",
   "metadata": {},
   "outputs": [
    {
     "data": {
      "text/plain": [
       "'Clay'"
      ]
     },
     "execution_count": 5,
     "metadata": {},
     "output_type": "execute_result"
    }
   ],
   "source": [
    "g = Golem('Clay')\n",
    "\n",
    "g.name    # 实例g的name是'Clay'，在实例化的过程中'Clay'被传递到__init__函数，当作name参数的值"
   ]
  },
  {
   "cell_type": "markdown",
   "id": "2a266025-9acd-4101-bef2-0251e2133281",
   "metadata": {},
   "source": [
    "**Inheritance**"
   ]
  },
  {
   "cell_type": "code",
   "execution_count": 9,
   "id": "98b0394b-b047-4fca-8d61-659b747d466a",
   "metadata": {},
   "outputs": [
    {
     "data": {
      "text/plain": [
       "<bound method Running_Golem.run of <__main__.Running_Golem object at 0x1100deee0>>"
      ]
     },
     "execution_count": 9,
     "metadata": {},
     "output_type": "execute_result"
    },
    {
     "name": "stdout",
     "output_type": "stream",
     "text": [
      "Can't you see? I'm running...\n"
     ]
    },
    {
     "data": {
      "text/plain": [
       "'Clay'"
      ]
     },
     "execution_count": 9,
     "metadata": {},
     "output_type": "execute_result"
    },
    {
     "data": {
      "text/plain": [
       "2023"
      ]
     },
     "execution_count": 9,
     "metadata": {},
     "output_type": "execute_result"
    },
    {
     "name": "stdout",
     "output_type": "stream",
     "text": [
      "Hi!\n"
     ]
    }
   ],
   "source": [
    "# 类的继承例子\n",
    "\n",
    "class Running_Golem(Golem):    # 继承的父类名称放在类定义中类名称后面的括号里\n",
    "    \n",
    "    def run(self):\n",
    "        print(\"Can't you see? I'm running...\")\n",
    "\n",
    "rg = Running_Golem('Clay')\n",
    "\n",
    "rg.run\n",
    "rg.run()    # Running_Golem不仅继承了父类Golem的属性和方法，还有自己定义的run方法\n",
    "rg.name\n",
    "rg.built_year\n",
    "rg.say_hi()"
   ]
  }
 ],
 "metadata": {
  "kernelspec": {
   "display_name": "Python 3 (ipykernel)",
   "language": "python",
   "name": "python3"
  },
  "language_info": {
   "codemirror_mode": {
    "name": "ipython",
    "version": 3
   },
   "file_extension": ".py",
   "mimetype": "text/x-python",
   "name": "python",
   "nbconvert_exporter": "python",
   "pygments_lexer": "ipython3",
   "version": "3.9.6"
  }
 },
 "nbformat": 4,
 "nbformat_minor": 5
}
