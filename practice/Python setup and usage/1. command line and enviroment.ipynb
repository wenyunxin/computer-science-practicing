{
 "cells": [
  {
   "cell_type": "code",
   "execution_count": 2,
   "id": "415c5bba-b5ed-4946-8be1-50b8331a9f9d",
   "metadata": {},
   "outputs": [],
   "source": [
    "from IPython.core.interactiveshell import InteractiveShell\n",
    "InteractiveShell.ast_node_interactivity = \"all\""
   ]
  },
  {
   "cell_type": "markdown",
   "id": "d73d24da-7ee5-48bc-b3da-f2fb7436352a",
   "metadata": {},
   "source": [
    "This part of the documentation is devoted to general information on the setup of the Python environment on different platforms, the invocation of the interpreter and things that make working with Python easier.\n",
    "\n",
    "> 文档的这一部分是关于在不同平台上设置Python环境的一般信息，解释器的调用以及使Python工作更容易的东西。"
   ]
  },
  {
   "cell_type": "markdown",
   "id": "2fa2b8d6-b3d0-4a72-8d37-c7e093ecf13e",
   "metadata": {},
   "source": [
    "The CPython interpreter scans the command line and the environment for various settings.\n",
    "\n",
    "**CPython implementation detail:** Other implementations’ command line schemes may differ. See [Alternate Implementations](https://docs.python.org/3/reference/introduction.html#implementations) for further resources.\n",
    "\n",
    "> CPython解释器会扫描命令行和环境中的各种设置。\n",
    ">\n",
    "> **CPython实现细节：**其他实现的命令行方案可能有所不同。更多资源请参见[Alternate Implementations](https://docs.python.org/3/reference/introduction.html#implementations)。"
   ]
  },
  {
   "cell_type": "markdown",
   "id": "6389525f-5874-4db0-a575-8d46c192e932",
   "metadata": {},
   "source": [
    "## 1.1. Command line"
   ]
  },
  {
   "cell_type": "markdown",
   "id": "f3db7b0a-b381-4d23-a2e4-cedf72b73110",
   "metadata": {},
   "source": [
    "When invoking Python, you may specify any of these options:\n",
    "\n",
    "> 在调用Python时，你可以指定这些选项中的任何一个："
   ]
  },
  {
   "cell_type": "code",
   "execution_count": 4,
   "id": "3e11bc22-2a86-43be-a955-e944d872e7ac",
   "metadata": {},
   "outputs": [
    {
     "ename": "SyntaxError",
     "evalue": "invalid syntax (3261275941.py, line 1)",
     "output_type": "error",
     "traceback": [
      "\u001b[1;36m  Input \u001b[1;32mIn [4]\u001b[1;36m\u001b[0m\n\u001b[1;33m    python [-bBdEhiIOqsSuvVWx?] [-c command | -m module-name | script | - ] [args]\u001b[0m\n\u001b[1;37m                             ^\u001b[0m\n\u001b[1;31mSyntaxError\u001b[0m\u001b[1;31m:\u001b[0m invalid syntax\n"
     ]
    }
   ],
   "source": [
    "python [-bBdEhiIOqsSuvVWx?] [-c command | -m module-name | script | - ] [args]"
   ]
  },
  {
   "cell_type": "markdown",
   "id": "86d13a04-edf7-4312-9f5a-c26f970a16b2",
   "metadata": {},
   "source": [
    "The most common use case is, of course, a simple invocation of a script:\n",
    "\n",
    "> 当然，最常见的使用情况是简单地调用一个脚本："
   ]
  },
  {
   "cell_type": "code",
   "execution_count": 5,
   "id": "8e169248-3ec6-4c58-b59f-58eb924bd8b0",
   "metadata": {},
   "outputs": [
    {
     "ename": "SyntaxError",
     "evalue": "invalid syntax (2473118906.py, line 1)",
     "output_type": "error",
     "traceback": [
      "\u001b[1;36m  Input \u001b[1;32mIn [5]\u001b[1;36m\u001b[0m\n\u001b[1;33m    python myscript.py\u001b[0m\n\u001b[1;37m           ^\u001b[0m\n\u001b[1;31mSyntaxError\u001b[0m\u001b[1;31m:\u001b[0m invalid syntax\n"
     ]
    }
   ],
   "source": [
    "python myscript.py"
   ]
  },
  {
   "cell_type": "markdown",
   "id": "397bb11b-21a7-4f14-9e91-4417cd61225a",
   "metadata": {},
   "source": [
    "### 1.1.1. Interface options"
   ]
  },
  {
   "cell_type": "markdown",
   "id": "1ffb4a16-a52e-4e30-98db-f19ea9d3212c",
   "metadata": {},
   "source": [
    "The interpreter interface resembles that of the UNIX shell, but provides some additional methods of invocation:\n",
    "\n",
    "- When called with standard input connected to a tty device, it prompts for commands and executes them until an EOF (an end-of-file character, you can produce that with Ctrl-D on UNIX or Ctrl-Z, Enter on Windows) is read.\n",
    "- When called with a file name argument or with a file as standard input, it reads and executes a script from that file.\n",
    "- When called with a directory name argument, it reads and executes an appropriately named script from that directory.\n",
    "- When called with `-c command`, it executes the Python statement(s) given as *command*. Here *command* may contain multiple statements separated by newlines. Leading whitespace is significant in Python statements!\n",
    "- When called with `-m module-name`, the given module is located on the Python module path and executed as a script.\n",
    "\n",
    "> 解释器的界面类似于UNIX shell的界面，但提供了一些额外的调用方法：\n",
    ">\n",
    "> - 当用连接到tty设备的标准输入来调用时，它提示命令并执行它们，直到读到EOF（文件结束字符，你可以用UNIX的Ctrl-D或Windows的Ctrl-Z、Enter来产生）。\n",
    "> - 当用一个文件名参数或用一个文件作为标准输入来调用时，它从该文件中读取并执行一个脚本。\n",
    "> - 当用目录名参数调用时，它从该目录中读取并执行一个适当命名的脚本。\n",
    "> - 当用`-c command`调用时，它将执行作为*command*的Python语句。这里*command*可以包含多个语句，用换行符隔开。在Python语句中，前面的空白是很重要的。\n",
    "> - 当用 `-m module-name` 调用时，给定的模块被定位在Python模块路径上，并作为一个脚本执行。"
   ]
  },
  {
   "cell_type": "markdown",
   "id": "1ae75677-3487-4c5a-9144-58811447290b",
   "metadata": {},
   "source": [
    "In non-interactive mode, the entire input is parsed before it is executed.\n",
    "\n",
    "An interface option terminates the list of options consumed by the interpreter, all consecutive arguments will end up in [`sys.argv`](https://docs.python.org/3/library/sys.html#sys.argv) – note that the first element, subscript zero (`sys.argv[0]`), is a string reflecting the program’s source.\n",
    "\n",
    "> 在非交互式模式下，整个输入在执行前被解析。\n",
    ">\n",
    "> 一个接口选项终止了解释器消耗的选项列表，所有连续的参数将在[`sys.argv`](https://docs.python.org/3/library/sys.html#sys.argv)中结束--注意第一个元素，下标zero（`sys.argv[0]`），是一个反映程序源的字符串。"
   ]
  },
  {
   "cell_type": "markdown",
   "id": "0d9e8cb6-98ca-410b-b387-3d21024bc136",
   "metadata": {},
   "source": [
    "- `-c` <command>\n",
    "\n",
    "  Execute the Python code in *command*. *command* can be one or more statements separated by newlines, with significant leading whitespace as in normal module code. If this option is given, the first element of [`sys.argv`](https://docs.python.org/3/library/sys.html#sys.argv) will be `\"-c\"` and the current directory will be added to the start of [`sys.path`](https://docs.python.org/3/library/sys.html#sys.path) (allowing modules in that directory to be imported as top level modules). Raises an [auditing event](https://docs.python.org/3/library/sys.html#auditing) `cpython.run_command` with argument `command`.\n",
    "\n",
    "  > `-c` <command>\n",
    "  >\n",
    "  > 执行*command*中的Python代码。*command* 可以是一个或多个用换行符隔开的语句，像普通模块代码一样有明显的前导空白。如果给出这个选项，[`sys.argv`](https://docs.python.org/3/library/sys.html#sys.argv)的第一个元素将是`\"-c\"`，并且当前目录将被添加到[`sys.path`](https://docs.python.org/3/library/sys.html#sys.path)的开头 (允许该目录中的模块作为顶级模块被导入)。引发一个[auditing event](https://docs.python.org/3/library/sys.html#auditing) `cpython.run_command`，参数为`command`。\n",
    "\n",
    "- `-m` <module-name>\n",
    "\n",
    "  Search [`sys.path`](https://docs.python.org/3/library/sys.html#sys.path) for the named module and execute its contents as the [`__main__`](https://docs.python.org/3/library/__main__.html#module-__main__) module.\n",
    "\n",
    "  Since the argument is a *module* name, you must not give a file extension (`.py`). The module name should be a valid absolute Python module name, but the implementation may not always enforce this (e.g. it may allow you to use a name that includes a hyphen).\n",
    "\n",
    "  Package names (including namespace packages) are also permitted. When a package name is supplied instead of a normal module, the interpreter will execute `<pkg>.__main__` as the main module. This behaviour is deliberately similar to the handling of directories and zipfiles that are passed to the interpreter as the script argument.\n",
    "\n",
    "  **Note:** This option cannot be used with built-in modules and extension modules written in C, since they do not have Python module files. However, it can still be used for precompiled modules, even if the original source file is not available.\n",
    "\n",
    "  If this option is given, the first element of [`sys.argv`](https://docs.python.org/3/library/sys.html#sys.argv) will be the full path to the module file (while the module file is being located, the first element will be set to `\"-m\"`). As with the [`-c`](https://docs.python.org/3/using/cmdline.html#cmdoption-c) option, the current directory will be added to the start of [`sys.path`](https://docs.python.org/3/library/sys.html#sys.path).\n",
    "\n",
    "  [`-I`](https://docs.python.org/3/using/cmdline.html#cmdoption-I) option can be used to run the script in isolated mode where [`sys.path`](https://docs.python.org/3/library/sys.html#sys.path) contains neither the current directory nor the user’s site-packages directory. All `PYTHON*` environment variables are ignored, too.\n",
    "\n",
    "  Many standard library modules contain code that is invoked on their execution as a script. An example is the [`timeit`](https://docs.python.org/3/library/timeit.html#module-timeit) module:\n",
    "\n",
    "  ```python\n",
    "  python -m timeit -s 'setup here' 'benchmarked code here'\n",
    "  python -m timeit -h # for details\n",
    "  ```\n",
    "\n",
    "  Raises an [auditing event](https://docs.python.org/3/library/sys.html#auditing) `cpython.run_module` with argument `module-name`.\n",
    "\n",
    "  **See also:**\n",
    "\n",
    "  [`runpy.run_module()`](https://docs.python.org/3/library/runpy.html#runpy.run_module)\n",
    "\n",
    "  ​\tEquivalent functionality directly available to Python code\n",
    "\n",
    "  [**PEP 338**](https://www.python.org/dev/peps/pep-0338) – Executing modules as scripts\n",
    "\n",
    "  *Changed in version 3.1:* Supply the package name to run a `__main__` submodule.\n",
    "\n",
    "  *Changed in version 3.4:* namespace packages are also supported\n",
    "\n",
    "> `-m` <module-name>（模块名）。\n",
    ">\n",
    "> 在 [`sys.path`](https://docs.python.org/3/library/sys.html#sys.path) 搜索指定的模块，并作为 [`__main__`](https://docs.python.org/3/library/__main__.html#module-__main__) 模块执行其内容。\n",
    ">\n",
    "> 由于参数是一个*模块*名称，你必须不给出文件扩展名（`.py`）。模块名应该是一个有效的绝对 Python 模块名，但实现可能并不总是强制执行 (例如，它可能允许你使用包含连字符的名字)。\n",
    ">\n",
    "> 包名 (包括命名空间包) 也是允许的。当提供包名而不是普通模块时，解释器将执行`<pkg>.__main__`作为主模块。这种行为特意与处理作为脚本参数传递给解释器的目录和zip文件的方式相似。\n",
    ">\n",
    "> **注意：**这个选项不能用于用C语言编写的内置模块和扩展模块，因为它们没有Python模块文件。然而，它仍然可以用于预编译的模块，即使原始源文件不可用。\n",
    ">\n",
    "> 如果给出这个选项，[`sys.argv`](https://docs.python.org/3/library/sys.html#sys.argv)的第一个元素将是模块文件的完整路径 (当模块文件正在被定位时，第一个元素将被设置为`\"-m\")。与[`-c`](https://docs.python.org/3/using/cmdline.html#cmdoption-c)选项一样，当前目录将被添加到[`sys.path`](https://docs.python.org/3/library/sys.html#sys.path)的开头。\n",
    ">\n",
    "> [`-I`](https://docs.python.org/3/using/cmdline.html#cmdoption-I)选项可以用来在隔离模式下运行脚本，其中[`sys.path`](https://docs.python.org/3/library/sys.html#sys.path)既不包含当前目录也不包含用户的网站包目录。所有的`PYTHON*`环境变量也会被忽略。\n",
    ">\n",
    "> 许多标准库模块包含了在执行时作为脚本调用的代码。一个例子是[`timeit`](https://docs.python.org/3/library/timeit.html#module-timeit)模块。\n",
    ">\n",
    "> 引起一个[auditing event](https://docs.python.org/3/library/sys.html#auditing) `cpython.run_module`，参数为`module-name`。\n",
    ">\n",
    "> **也请参见:**\n",
    ">\n",
    "> [`runpy.run_module()`](https://docs.python.org/3/library/runpy.html#runpy.run_module)\n",
    ">\n",
    "> 可直接用于Python代码的等效功能\n",
    ">\n",
    "> [**PEP 338**](https://www.python.org/dev/peps/pep-0338) - 将模块作为脚本执行\n",
    ">\n",
    "> *在3.1版本中改变了：*提供包名来运行一个`__main__`子模块。\n",
    ">\n",
    "> *在3.4版本中改变了：*也支持命名空间包。\n",
    "\n",
    "- -\n",
    "\n",
    "  Read commands from standard input ([`sys.stdin`](https://docs.python.org/3/library/sys.html#sys.stdin)). If standard input is a terminal, [`-i`](https://docs.python.org/3/using/cmdline.html#cmdoption-i) is implied.\n",
    "\n",
    "  If this option is given, the first element of [`sys.argv`](https://docs.python.org/3/library/sys.html#sys.argv) will be `\"-\"` and the current directory will be added to the start of [`sys.path`](https://docs.python.org/3/library/sys.html#sys.path).\n",
    "\n",
    "  Raises an [auditing event](https://docs.python.org/3/library/sys.html#auditing) `cpython.run_stdin` with no arguments.\n",
    "\n",
    "  > -\n",
    "  >\n",
    "  > 从标准输入（[`sys.stdin`](https://docs.python.org/3/library/sys.html#sys.stdin)）读取命令。如果标准输入是一个终端，[`-i`](https://docs.python.org/3/using/cmdline.html#cmdoption-i)是暗示的。\n",
    "  >\n",
    "  > 如果给出这个选项，[`sys.argv`](https://docs.python.org/3/library/sys.html#sys.argv)的第一个元素将是`\"-\"`，并且当前目录将被添加到[`sys.path`](https://docs.python.org/3/library/sys.html#sys.path)的开头。\n",
    "  >\n",
    "  > 引发一个[auditing event](https://docs.python.org/3/library/sys.html#auditing) `cpython.run_stdin`，没有参数。\n",
    "\n",
    "<script>\n",
    "\n",
    "\n",
    "Execute the Python code contained in *script*, which must be a filesystem path (absolute or relative) referring to either a Python file, a directory containing a `__main__.py` file, or a zipfile containing a `__main__.py` file.\n",
    "\n",
    "If this option is given, the first element of [`sys.argv`](https://docs.python.org/3/library/sys.html#sys.argv) will be the script name as given on the command line.\n",
    "\n",
    "If the script name refers directly to a Python file, the directory containing that file is added to the start of [`sys.path`](https://docs.python.org/3/library/sys.html#sys.path), and the file is executed as the [`__main__`](https://docs.python.org/3/library/__main__.html#module-__main__) module.\n",
    "\n",
    "If the script name refers to a directory or zipfile, the script name is added to the start of [`sys.path`](https://docs.python.org/3/library/sys.html#sys.path) and the `__main__.py` file in that location is executed as the [`__main__`](https://docs.python.org/3/library/__main__.html#module-__main__) module.\n",
    "\n",
    "[`-I`](https://docs.python.org/3/using/cmdline.html#cmdoption-I) option can be used to run the script in isolated mode where [`sys.path`](https://docs.python.org/3/library/sys.html#sys.path) contains neither the script’s directory nor the user’s site-packages directory. All `PYTHON*` environment variables are ignored, too.\n",
    "\n",
    "Raises an [auditing event](https://docs.python.org/3/library/sys.html#auditing) `cpython.run_file` with argument `filename`.\n",
    "\n",
    "**See also:**  [`runpy.run_path()`](https://docs.python.org/3/library/runpy.html#runpy.run_path)\n",
    "\n",
    " \tEquivalent functionality directly available to Python code\n",
    "\n",
    "*Changed in version 3.4:* Automatic enabling of tab-completion and history editing.\n",
    "\n",
    "> <script>\n",
    ">\n",
    "> 执行包含在*script*中的Python代码，它必须是一个文件系统路径（绝对或相对），指向一个Python文件，一个包含`__main__.py`文件的目录，或者一个包含`__main__.py`文件的压缩文件。\n",
    ">\n",
    "> 如果给出这个选项，[`sys.argv`](https://docs.python.org/3/library/sys.html#sys.argv)的第一个元素将是命令行上给出的脚本名称。\n",
    ">\n",
    "> 如果脚本名称直接指向一个Python文件，包含该文件的目录将被添加到 [`sys.path`](https://docs.python.org/3/library/sys.html#sys.path) 的开头，并且该文件将作为 [`__main__`](https://docs.python.org/3/library/__main__.html#module-__main__) 模块执行。\n",
    ">\n",
    "> 如果脚本名称指向一个目录或压缩文件，脚本名称将被添加到 [`sys.path`](https://docs.python.org/3/library/sys.html#sys.path) 的开头，并且该位置的 `__main__.py` 文件将作为 [`__main__`](https://docs.python.org/3/library/__main__.html#module-__main__) 模块执行。\n",
    ">\n",
    "> [`-I`](https://docs.python.org/3/using/cmdline.html#cmdoption-I) 选项可以用来在隔离模式下运行脚本，在这个模式下，[`sys.path`](https://docs.python.org/3/library/sys.html#sys.path)既不包含脚本的目录，也不包含用户的网站包目录。所有的`PYTHON*`环境变量也会被忽略。\n",
    ">\n",
    "> 引发一个[审计事件](https://docs.python.org/3/library/sys.html#auditing) `cpython.run_file`，参数为`filename`。\n",
    ">\n",
    "> **参见：** [`runpy.run_path()`](https://docs.python.org/3/library/runpy.html#runpy.run_path)\n",
    ">\n",
    "> 可直接用于Python代码的等效功能\n",
    ">\n",
    "> *3.4版本中的变化：* 自动启用标签完成和历史编辑。"
   ]
  },
  {
   "cell_type": "markdown",
   "id": "6cc1917e-93f4-4ac4-9c34-ff77761aa790",
   "metadata": {},
   "source": []
  }
 ],
 "metadata": {
  "kernelspec": {
   "display_name": "Python 3 (ipykernel)",
   "language": "python",
   "name": "python3"
  },
  "language_info": {
   "codemirror_mode": {
    "name": "ipython",
    "version": 3
   },
   "file_extension": ".py",
   "mimetype": "text/x-python",
   "name": "python",
   "nbconvert_exporter": "python",
   "pygments_lexer": "ipython3",
   "version": "3.10.4"
  }
 },
 "nbformat": 4,
 "nbformat_minor": 5
}
