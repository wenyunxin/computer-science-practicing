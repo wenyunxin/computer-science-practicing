{
 "cells": [
  {
   "cell_type": "code",
   "execution_count": 1,
   "id": "6afc288d-63c8-45d0-a4f2-f6b46c736456",
   "metadata": {},
   "outputs": [],
   "source": [
    "from IPython.core.interactiveshell import InteractiveShell\n",
    "InteractiveShell.ast_node_interactivity = \"all\""
   ]
  },
  {
   "cell_type": "markdown",
   "id": "7592a632-f983-425c-bf13-0f1f31c1f0f9",
   "metadata": {},
   "source": [
    "## Shell"
   ]
  },
  {
   "cell_type": "markdown",
   "id": "a3888f90-29ca-42d5-b419-9a083d9cad93",
   "metadata": {},
   "source": [
    "A path that starts with `/` is call an *absolut* path. Any other path is a *relative* path.\n",
    "In a path, `.` refers to the current directory, `..` to its parent directory.\n",
    "\n",
    "`ls -l`    use a long listing format\n",
    "\n",
    "```shell\n",
    "wenyunxin@192 documents % ls -l missing\n",
    "total 24\n",
    "drwxr-xr-x  6 wenyunxin  staff  192 May 20 10:42 bsb\n",
    "```\n",
    "\n",
    "the `d` at the beginning of the line tells us that `bsb` is a directory. Then follow three groups of three characters (`rwx`). These indicate what permissions the owner of the file (`bsb`), the owning group (`users`), and everyone else respectively have on the relevant item.\n",
    "To enter a directory, a user must have \"search\" (represented by \"execute\": x) permissions on that directory (and its parents)."
   ]
  },
  {
   "cell_type": "markdown",
   "id": "8af10e17-9994-4298-b422-6d336a99287a",
   "metadata": {},
   "source": [
    "`mv`    to rename/move a file\n",
    "`cp`    to copy a file\n",
    "`mkdir`    to make a new directory\n",
    "\n",
    "`man` takes as an argument the name of a program, and shows you its *manual* page."
   ]
  },
  {
   "cell_type": "markdown",
   "id": "5277d126-9203-4540-8660-3e4ed404c480",
   "metadata": {},
   "source": [
    "rewire input & output streams. the form of rediction is `< file` and `> file`. `>` is the output streaming, `<` is the input streaming.\n",
    "\n",
    "`echo hello > hello.txt`    # input 'hello' to the output hello.txt\n",
    "\n",
    "`cat < hello.txt > hello2.txt`    # output the hello.txt, `cat` is short for *concatenate*, and is a program that concateenates files. in this example, it prints contents from its input stream to its output stream.\n",
    "\n",
    "use `>>` to append to a file. Where this kind of input/output redirection really shines is in the use of *pipes*. The `|` operator lets you \"chain\" programs such that the output of one is the input of another:\n",
    "\n",
    "`ls -l / | tail -n1`    # `/` means the root directory\n"
   ]
  },
  {
   "cell_type": "markdown",
   "id": "7c75e4fc-8b09-456b-ab64-d0822605a227",
   "metadata": {},
   "source": [
    "### a versatile and powerful tool"
   ]
  },
  {
   "cell_type": "markdown",
   "id": "f4fcd8f3-60dc-4566-acfc-252bb8cbb5ab",
   "metadata": {},
   "source": [
    "`sudo` is short for *super user* or *root*."
   ]
  },
  {
   "cell_type": "markdown",
   "id": "052a0c8b-d436-4207-bc79-a625cbe12244",
   "metadata": {},
   "source": [
    "## Shell tools and Scripting"
   ]
  },
  {
   "cell_type": "markdown",
   "id": "6fa2c33c-1f8f-4c73-a14d-a08125c361e4",
   "metadata": {},
   "source": [
    "use syntax `foo=bar` and access the value of the variable with `$foo`. In general, in shell scripts the space character will perform argument splitting.\n",
    "\n",
    "String delimited with `'` are literal strings and will not substitute variable values whereas `\"` delimited strings will.\n",
    "\n",
    "```bash\n",
    "foo=bar\n",
    "echo \"$foo\"\n",
    "# prints bar\n",
    "echo '$foo'\n",
    "# prints $foo\n",
    "```"
   ]
  },
  {
   "cell_type": "markdown",
   "id": "ceffa3ca-5443-46e7-ace9-4b8a3fde8449",
   "metadata": {},
   "source": [
    "`bash` has functions that take argumetns and can operate with them. This example of a function that creates a directory and `cd`s into it.\n",
    "\n",
    "```bash\n",
    "mcd () {\n",
    "    mkdir -p \"$1\"\n",
    "    cd \"$1\"\n",
    "}\n",
    "```\n",
    "\n",
    "Bash uses a variety of special variables to refer to arguments, error codes, and other relevant variables. A more comprehensive list can be found [here](https://tldp.org/LDP/abs/html/special-chars.html).\n",
    " - `$0` - name of the script\n",
    " - `$1` to `$9` - arguments to the script. `$1` is the first argument and so on\n",
    " - `$@` - all the arguments\n",
    " - `$#` - number of argumetns\n",
    " - `$?` - return code of the previous command\n",
    " - `$$` - process identification number (PID) for the current script\n",
    " - `!!` - entire last command, including arguments\n",
    " - `$_` - last argument from the last command\n",
    "\n",
    "Commands will often return output using `STDOUT`, error through `STDERR`, and a Return Code to report errors in a more script-friendly manner. A value of 0 usually means everything went OK; anything different from 0 means an error occurred."
   ]
  },
  {
   "cell_type": "markdown",
   "id": "b66a6e4d-4b9f-498a-a0a4-5b8a2b462b9e",
   "metadata": {},
   "source": [
    "Exit codes can be used to conditionally execute commands using `&&` (and operator) and `||` (or operator), both of which are [short-circuiting](https://en.wikipedia.org/wiki/Short-circuit_evaluation) operators. Commands can also be separated within the same line using `;`. The `true` program will always have a 0 return code and the `false` command will always have 1 return code.\n",
    "\n",
    "```bash\n",
    "false || echo \"Oops, fail\"\n",
    "# Oops, fail\n",
    "\n",
    "true || echo \"Will not be printed\"\n",
    "#\n",
    "\n",
    "true && echo \"Things went well\"\n",
    "# Things went well\n",
    "\n",
    "false && echo \"Will not be printed\"\n",
    "#\n",
    "\n",
    "true ; echo \"This will always run\"\n",
    "# This will always run\n",
    "\n",
    "false ; echo \"This will always run\"\n",
    "# This will always run\n",
    "```"
   ]
  },
  {
   "cell_type": "markdown",
   "id": "1f38869a-84f0-427e-8af0-ff0da5c819f8",
   "metadata": {},
   "source": [
    "*command substitution*, for example, if you do `for file in $(ls)`, the shell will first call `ls` and then iterate over those values.\n",
    "\n",
    "*process substitution*, `<( CMD )` will execute `CMD` and place the output in a temporary file and substitute the `<()` with that file's name. This is useful when commands expect values to be passed by file instead of by STDIN. For example, `diff <(ls foo) <(ls bar)` will show differences between files in dirs `foo` and `bar`.\n",
    "\n",
    "*something needs to be watched on video*.\n"
   ]
  },
  {
   "cell_type": "markdown",
   "id": "934e291c-cd2e-4b87-a226-64534fb0bdb3",
   "metadata": {},
   "source": [
    "Bash implements many comparisons that list in the manpage for **[test](https://www.man7.org/linux/man-pages/man1/test.1.html)**. When performing comparisons in bash, try to use double brackets `[[]]` in favor of simple brackets `[]`. Chances of making mistakes are lower although it won't be portable to `sh`. The explanation is [here](http://mywiki.wooledge.org/BashFAQ/031)."
   ]
  },
  {
   "cell_type": "markdown",
   "id": "89e4f96a-1d48-4be4-8a82-ef211503c081",
   "metadata": {},
   "source": [
    "shell *globbing*:\n",
    "- Wildcards - use `?` and `*` to match one or any amount of characters respectively.\n",
    "- Curly braces `{}` - When you have a common substring in a series of commands, you can use curly braces for bash to expand this automatically.\n",
    "\n",
    "```bash\n",
    "convert image.{png,jpg}\n",
    "# Will expand to\n",
    "convert image.png image.jpg\n",
    "\n",
    "cp /path/to/project/{foo,bar,baz}.sh /newpath\n",
    "# Will expand to\n",
    "cp /path/to/project/foo.sh /path/to/project/bar.sh /path/to/project/baz.sh /newpath\n",
    "\n",
    "# Globbing techniques can also be combined\n",
    "mv *{.py,.sh} folder\n",
    "# Will move all *.py and *.sh files\n",
    "\n",
    "\n",
    "mkdir foo bar\n",
    "# This creates files foo/a, foo/b, ... foo/h, bar/a, bar/b, ... bar/h\n",
    "touch {foo,bar}/{a..h}\n",
    "touch foo/x bar/y\n",
    "# Show differences between files in foo and bar\n",
    "diff <(ls foo) <(ls bar)\n",
    "# Outputs\n",
    "# < x\n",
    "# ---\n",
    "# > y\n",
    "```"
   ]
  },
  {
   "cell_type": "markdown",
   "id": "f2241bb6-f073-478b-8e34-ec22316a8369",
   "metadata": {},
   "source": [
    "Writing `shell` scripts can be tricky and unintuitive. There are tools like [shellcheck](https://github.com/koalaman/shellcheck) that will help you find errors in your shell scripts.\n",
    "\n",
    "Script need not be written in shell to be called from the terminal. For instance:\n",
    "```Python\n",
    "import sys\n",
    "for arg in reversed(sys.argv[1:]):\n",
    "    print(arg)\n",
    "```\n",
    "\n",
    "Some differences between shell functions and scripts that you should keep in mind are:\n",
    "- Functions have to be in the same languages as the shell, while scripts can be written in any language. This is why including a shebang for scripts is important.\n",
    "- Functions are loaded once when their definition is read. Scripts are loaded every time they are executed.\n",
    "- Functions are executed in the current shell environment whereas scripts execute in their own process.\n",
    "- As with any programming language, functions are a powerful construct to achieve modularity, code reuse, and clarity of shell code. Often shell scripts will include their own function definition."
   ]
  },
  {
   "cell_type": "markdown",
   "id": "7758662b-b6ef-4370-8ffd-9f3736ff27b4",
   "metadata": {},
   "source": [
    "### Shell Tools"
   ]
  },
  {
   "cell_type": "markdown",
   "id": "9f05a7e8-41ff-4bd1-8eeb-c0f45679eacd",
   "metadata": {},
   "source": [
    "use `man` (short for manual) to provide a manual page for a command you specify.\n",
    "\n",
    "Install the [TLDR pages](https://tldr.sh/) which are a nifty complementary solution that focuses on giving example use cases of a command so you can quickly figure out which option to use.\n",
    "\n"
   ]
  },
  {
   "cell_type": "markdown",
   "id": "4f6fb084-4400-48a2-ab9e-1ed4a842dda3",
   "metadata": {},
   "source": [
    "`find` command will recursively search for files matching some criteria. Some examples:\n",
    "```bash\n",
    "# Find all directories named src\n",
    "find . -name src -type d\n",
    "# Find all python files that have a folder named test in their path\n",
    "find . -path '*/test/*.py' -type f\n",
    "# Find all files modified in the last day\n",
    "find . -mtime -1\n",
    "# Find all zip files with size in range 500k to 10M\n",
    "find . -size +500k -size -10M -name '*.tar.gz'\n",
    "```"
   ]
  },
  {
   "cell_type": "markdown",
   "id": "51cc62e2-3f0a-433c-a65c-4221ee52a1ae",
   "metadata": {},
   "source": [
    "Part of the shell philosophy is that it is good to explore alternatives. One of the best properties of the shell is that you are just calling programs, so you can find or even write yourself replacements for some."
   ]
  },
  {
   "cell_type": "markdown",
   "id": "63e48d3f-0d8c-43b3-98bd-720f7374fe7b",
   "metadata": {},
   "source": [
    "Search based on file *content*. Most UNIX-like systems provide `grep`."
   ]
  },
  {
   "cell_type": "markdown",
   "id": "c6ae14e9-cba8-4966-88c3-8f781bfacc18",
   "metadata": {},
   "source": [
    "The `history` command will let you access your shell history programmatically. If we want to search there we can pipe that output to `grep` and search for patterns. `history | grep find` will print commands that contain the string \"find\".\n",
    "\n",
    "You can make use of `Ctrl+R` to perform backwards search through your history."
   ]
  },
  {
   "cell_type": "markdown",
   "id": "0f5798c8-6aa4-45bb-8541-5fe9f29eeac3",
   "metadata": {},
   "source": [
    "Another cool history-related trick I really enjoy is history-based autosuggestions. First introduced by the [fish](https://fishshell.com/) shell, this feature dynamically autocompletes your current shell command with the most recent command that you typed that shares a common prefix with it. It can be enabled in [zsh](https://github.com/zsh-users/zsh-autosuggestions) and it is a great quality of life trick for your shell."
   ]
  },
  {
   "cell_type": "markdown",
   "id": "f46a5a01-7249-4f17-adc4-30ec98477612",
   "metadata": {},
   "source": [
    "## editors(Vim)"
   ]
  },
  {
   "cell_type": "markdown",
   "id": "bb37f214-19f3-4317-869f-6e0b04425600",
   "metadata": {},
   "source": [
    "Here's how you learn a new editor:\n",
    "- Start with a tutorial(i.e. this lecture, plus resources that we point out)\n",
    "- Stick with using the editor for all your text editing needs(even if it slows you down initially)\n",
    "- Look things up as you go: if it seems like there should be a better way to do something, there probably is\n",
    "\n",
    "**navigating buffers**: In the context of text editors,, navigating buffers refers to moving between different open files or documents within the editor."
   ]
  },
  {
   "cell_type": "markdown",
   "id": "ec2ee9f6-5ff8-4fc1-b3c2-8e97053b7d82",
   "metadata": {},
   "source": [
    "[**Vim**](https://en.wikipedia.org/wiki/Vim_(text_editor)) has a rich history. Vim is a modal editor: it has different modes for inserting text vs manipulatiing text. Vim is programmable."
   ]
  },
  {
   "cell_type": "markdown",
   "id": "3a0ee5af-fd50-42c3-9446-2c0ee1e71f2c",
   "metadata": {},
   "source": [
    "Vim has multiple operating modes:\n",
    "- **Normal**: for moving around a file and making edits\n",
    "- **Insert**: for inserting text\n",
    "- **Replace**: for replace text\n",
    "- **Visual** (plain, line, or block): for selecting blocks of text\n",
    "- **Command-line**: for running a command\n",
    "\n",
    "From Normal mode, enter Insert mode with `i`, Replace mode with `R`, Visual mode with `v`, Visual Line mode with `V`, Visual Block mode with `<C-v>` (Ctrl-V, sometimes also written `^V`), and Command-line mode with `:`."
   ]
  },
  {
   "cell_type": "markdown",
   "id": "e1085efc-06fb-4d00-9bfc-bee7565ae5fd",
   "metadata": {},
   "source": [
    "Vim maintains a set of open file, called \"**buffers**\". A Vim session has a number of tabs, each of which has a number of windows (split panes). Each window shows a single buffer. A given buffer may be open in *multiple* windows, even within the same tab. This can be quite handy, for example, to view two different parts of a file at the same time.\n",
    "\n",
    "By default, Vim opens with a single tab, which contains a single window."
   ]
  },
  {
   "cell_type": "markdown",
   "id": "0f371ad0-2227-4080-8f3d-3dca8a35dd3b",
   "metadata": {},
   "source": [
    "Fuctionalities in command-line mode:\n",
    "- `:q` quit (close window)\n",
    "- `:w` save (\"write\")\n",
    "- `:wq` save and quit\n",
    "- `:e {name of file}` open file for editing\n",
    "- `:ls` show open buffers\n",
    "- `:help {topic}` open help\n",
    "  - `:help :w` opens help for the `:w` command\n",
    "  - `:help w` open help for the `w` command"
   ]
  },
  {
   "cell_type": "markdown",
   "id": "2092f737-e513-405f-9887-dbd34cb72b82",
   "metadata": {},
   "source": [
    "Vim's interface is a programming language.\n",
    "\n",
    "movement commands to navigate the buffer in Vim Normal mode:\n",
    "- Basic movement: `hjkl`(left, down, up, right)\n",
    "- Words: `w`(next word), `b`(beginning of word), `e`(end of word)\n",
    "- Lines: `0`(beginning of line), `^`(first non-blank character), `$`(end of line)\n",
    "- Screen: `H`(top of screen), `M`(middle of screen), `L`(bottom of screen)\n",
    "- Scroll: `Ctrl-u`(up), `Ctrl-d`(down)\n",
    "- File: `gg`(beginning of file), `G`(end of file)\n",
    "- Line numbers: `:{number}<CR>` or `{number}G`(line {number})\n",
    "- Misc: `%`(corresponding item)\n",
    "- Find: `f{character}`, `t{character}`, `F{character}`, `T{character}`\n",
    "  - find/to forward/backward {character} on the current line\n",
    "  - `,`/`;` for navigating matches\n",
    "- Search: `/{regex}`, `n`/`N` for navigating matches"
   ]
  },
  {
   "cell_type": "markdown",
   "id": "eb7ec176-2668-4000-9879-e78bec55ceec",
   "metadata": {},
   "source": []
  }
 ],
 "metadata": {
  "kernelspec": {
   "display_name": "Python 3 (ipykernel)",
   "language": "python",
   "name": "python3"
  },
  "language_info": {
   "codemirror_mode": {
    "name": "ipython",
    "version": 3
   },
   "file_extension": ".py",
   "mimetype": "text/x-python",
   "name": "python",
   "nbconvert_exporter": "python",
   "pygments_lexer": "ipython3",
   "version": "3.11.3"
  }
 },
 "nbformat": 4,
 "nbformat_minor": 5
}
