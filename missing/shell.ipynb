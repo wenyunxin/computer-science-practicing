{
 "cells": [
  {
   "cell_type": "markdown",
   "id": "a3888f90-29ca-42d5-b419-9a083d9cad93",
   "metadata": {},
   "source": [
    "A path that starts with `/` is call an *absolut* path. Any other path is a *relative* path.\n",
    "In a path, `.` refers to the current directory, `..` to its parent directory.\n",
    "\n",
    "`ls -l`    use a long listing format\n",
    "\n",
    "```shell\n",
    "wenyunxin@192 documents % ls -l missing\n",
    "total 24\n",
    "drwxr-xr-x  6 wenyunxin  staff  192 May 20 10:42 bsb\n",
    "```\n",
    "\n",
    "the `d` at the beginning of the line tells us that `bsb` is a directory. Then follow three groups of three characters (`rwx`). These indicate what permissions the owner of the file (`bsb`), the owning group (`users`), and everyone else respectively have on the relevant item.\n",
    "To enter a directory, a user must have \"search\" (represented by \"execute\": x) permissions on that directory (and its parents)."
   ]
  },
  {
   "cell_type": "markdown",
   "id": "8af10e17-9994-4298-b422-6d336a99287a",
   "metadata": {},
   "source": [
    "`mv`    to rename/move a file\n",
    "`cp`    to copy a file\n",
    "`mkdir`    to make a new directory"
   ]
  },
  {
   "cell_type": "code",
   "execution_count": null,
   "id": "a2e023c2-3576-4e50-9e5f-561bfb6f9096",
   "metadata": {},
   "outputs": [],
   "source": []
  }
 ],
 "metadata": {
  "kernelspec": {
   "display_name": "Python 3 (ipykernel)",
   "language": "python",
   "name": "python3"
  },
  "language_info": {
   "codemirror_mode": {
    "name": "ipython",
    "version": 3
   },
   "file_extension": ".py",
   "mimetype": "text/x-python",
   "name": "python",
   "nbconvert_exporter": "python",
   "pygments_lexer": "ipython3",
   "version": "3.11.3"
  }
 },
 "nbformat": 4,
 "nbformat_minor": 5
}
