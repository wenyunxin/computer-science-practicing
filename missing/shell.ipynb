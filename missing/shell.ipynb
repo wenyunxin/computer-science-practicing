{
 "cells": [
  {
   "cell_type": "markdown",
   "id": "c0ba25d0-dc8a-4a37-a9aa-67e2f21da914",
   "metadata": {},
   "source": [
    "from IPython.core.interactiveshell import InteractiveShell\n",
    "InteractiveShell.ast_node_interactivity = \"all\""
   ]
  },
  {
   "cell_type": "markdown",
   "id": "7592a632-f983-425c-bf13-0f1f31c1f0f9",
   "metadata": {},
   "source": [
    "## Shell"
   ]
  },
  {
   "cell_type": "markdown",
   "id": "a3888f90-29ca-42d5-b419-9a083d9cad93",
   "metadata": {},
   "source": [
    "A path that starts with `/` is call an *absolut* path. Any other path is a *relative* path.\n",
    "In a path, `.` refers to the current directory, `..` to its parent directory.\n",
    "\n",
    "`ls -l`    use a long listing format\n",
    "\n",
    "```shell\n",
    "wenyunxin@192 documents % ls -l missing\n",
    "total 24\n",
    "drwxr-xr-x  6 wenyunxin  staff  192 May 20 10:42 bsb\n",
    "```\n",
    "\n",
    "the `d` at the beginning of the line tells us that `bsb` is a directory. Then follow three groups of three characters (`rwx`). These indicate what permissions the owner of the file (`bsb`), the owning group (`users`), and everyone else respectively have on the relevant item.\n",
    "To enter a directory, a user must have \"search\" (represented by \"execute\": x) permissions on that directory (and its parents)."
   ]
  },
  {
   "cell_type": "markdown",
   "id": "8af10e17-9994-4298-b422-6d336a99287a",
   "metadata": {},
   "source": [
    "`mv`    to rename/move a file\n",
    "`cp`    to copy a file\n",
    "`mkdir`    to make a new directory\n",
    "\n",
    "`man` takes as an argument the name of a program, and shows you its *manual* page."
   ]
  },
  {
   "cell_type": "markdown",
   "id": "5277d126-9203-4540-8660-3e4ed404c480",
   "metadata": {},
   "source": [
    "rewire input & output streams. the form of rediction is `< file` and `> file`. `>` is the output streaming, `<` is the input streaming.\n",
    "\n",
    "`echo hello > hello.txt`    # input 'hello' to the output hello.txt\n",
    "\n",
    "`cat < hello.txt > hello2.txt`    # output the hello.txt, `cat` is short for *concatenate*, and is a program that concateenates files. in this example, it prints contents from its input stream to its output stream.\n",
    "\n",
    "use `>>` to append to a file. Where this kind of input/output redirection really shines is in the use of *pipes*. The `|` operator lets you \"chain\" programs such that the output of one is the input of another:\n",
    "\n",
    "`ls -l / | tail -n1`    # `/` means the root directory\n"
   ]
  },
  {
   "cell_type": "markdown",
   "id": "7c75e4fc-8b09-456b-ab64-d0822605a227",
   "metadata": {},
   "source": [
    "### a versatile and powerful tool"
   ]
  },
  {
   "cell_type": "markdown",
   "id": "f4fcd8f3-60dc-4566-acfc-252bb8cbb5ab",
   "metadata": {},
   "source": [
    "`sudo` is short for *super user* or *root*."
   ]
  },
  {
   "cell_type": "markdown",
   "id": "052a0c8b-d436-4207-bc79-a625cbe12244",
   "metadata": {},
   "source": [
    "## Shell tools and Scripting"
   ]
  },
  {
   "cell_type": "markdown",
   "id": "6fa2c33c-1f8f-4c73-a14d-a08125c361e4",
   "metadata": {},
   "source": [
    "use syntax `foo=bar` and access the value of the variable with `$foo`. In general, in shell scripts the space character will perform argument splitting.\n",
    "\n",
    "String delimited with `'` are literal strings and will not substitute variable values whereas `\"` delimited strings will.\n",
    "\n",
    "```bash\n",
    "foo=bar\n",
    "echo \"$foo\"\n",
    "# prints bar\n",
    "echo '$foo'\n",
    "# prints $foo\n",
    "```"
   ]
  },
  {
   "cell_type": "markdown",
   "id": "ceffa3ca-5443-46e7-ace9-4b8a3fde8449",
   "metadata": {},
   "source": [
    "`bash` has functions that take argumetns and can operate with them. This example of a function that creates a directory and `cd`s into it.\n",
    "\n",
    "```bash\n",
    "mcd () {\n",
    "    mkdir -p \"$1\"\n",
    "    cd \"$1\"\n",
    "}\n",
    "```\n",
    "\n",
    "Bash uses a variety of special variables to refer to arguments, error codes, and other relevant variables. A more comprehensive list can be found [here](https://tldp.org/LDP/abs/html/special-chars.html).\n",
    " - `$0` - name of the script\n",
    " - `$1` to `$9` - arguments to the script. `$1` is the first argument and so on\n",
    " - `$@` - all the arguments\n",
    " - `$#` - number of argumetns\n",
    " - `$?` - return code of the previous command\n",
    " - `$$` - process identification number (PID) for the current script\n",
    " - `!!` - entire last command, including arguments\n",
    " - `$_` - last argument from the last command\n",
    "\n",
    "Commands will often return output using `STDOUT`, error through `STDERR`, and a Return Code to report errors in a more script-friendly manner. A value of 0 usually means everything went OK; anything different from 0 means an error occurred."
   ]
  },
  {
   "cell_type": "markdown",
   "id": "b66a6e4d-4b9f-498a-a0a4-5b8a2b462b9e",
   "metadata": {},
   "source": [
    "Exit codes can be used to conditionally execute commands using `&&` (and operator) and `||` (or operator), both of which are [short-circuiting](https://en.wikipedia.org/wiki/Short-circuit_evaluation) operators. Commands can also be separated within the same line using `;`. The `true` program will always have a 0 return code and the `false` command will always have 1 return code.\n",
    "\n",
    "```bash\n",
    "false || echo \"Oops, fail\"\n",
    "# Oops, fail\n",
    "\n",
    "true || echo \"Will not be printed\"\n",
    "#\n",
    "\n",
    "true && echo \"Things went well\"\n",
    "# Things went well\n",
    "\n",
    "false && echo \"Will not be printed\"\n",
    "#\n",
    "\n",
    "true ; echo \"This will always run\"\n",
    "# This will always run\n",
    "\n",
    "false ; echo \"This will always run\"\n",
    "# This will always run\n",
    "```"
   ]
  },
  {
   "cell_type": "markdown",
   "id": "1f38869a-84f0-427e-8af0-ff0da5c819f8",
   "metadata": {},
   "source": [
    "*command substituion*, for example, if you do `for file in $(ls)`, the shell will first call `ls` and then iterate over those values.\n",
    "\n",
    "*process substitution*, `<( CMD )` will execute `CMD` and place the output in a temporary file and substitute the `<()` with that file's name. This is useful when commands expect values to be passed by file instead of by STDIN. For example, `diff <(ls foo) <(ls bar)` will show differences between files in dirs `foo` and `bar`."
   ]
  }
 ],
 "metadata": {
  "kernelspec": {
   "display_name": "Python 3 (ipykernel)",
   "language": "python",
   "name": "python3"
  },
  "language_info": {
   "codemirror_mode": {
    "name": "ipython",
    "version": 3
   },
   "file_extension": ".py",
   "mimetype": "text/x-python",
   "name": "python",
   "nbconvert_exporter": "python",
   "pygments_lexer": "ipython3",
   "version": "3.11.3"
  }
 },
 "nbformat": 4,
 "nbformat_minor": 5
}
