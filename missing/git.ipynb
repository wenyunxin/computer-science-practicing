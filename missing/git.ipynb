{
 "cells": [
  {
   "cell_type": "code",
   "execution_count": 1,
   "id": "230110ff-1c1e-40c2-ac8e-38eed61a0a0b",
   "metadata": {},
   "outputs": [],
   "source": [
    "from IPython.core.interactiveshell import InteractiveShell\n",
    "InteractiveShell.ast_node_interactivity = \"all\""
   ]
  },
  {
   "cell_type": "markdown",
   "id": "0143d6ac-c267-460d-bbd6-042bf1ff4621",
   "metadata": {},
   "source": [
    "git four important entries: `HEAD`, `index`, `objects`, `refs` directories. Those are the core parts of Git.\n",
    "\n",
    "- `objects` directory stores all the content for your database,\n",
    "- `refs` directory stores pointers into commit objects in that data (branches, tags, remote and more),\n",
    "- `HEAD` file points to the branch you currently have checkout,\n",
    "- `index` file is where Git stores your staging area information."
   ]
  },
  {
   "cell_type": "markdown",
   "id": "37442dd2-02ea-4715-bcb6-155029b62434",
   "metadata": {},
   "source": [
    "## Git Internales - Git Objects"
   ]
  },
  {
   "cell_type": "markdown",
   "id": "c3415faa-e34d-4a43-92a8-9fdfc400fc6e",
   "metadata": {},
   "source": [
    "`echo 'test content' | git hash-object -w --stdin`\n",
    "\n",
    "In its simplest form, git hash-object would take the content you handed to it and merely return the unique key that would be used to store it in your Git database. The -w option then tells the command to not simply return the key, but to write that object to the database. Finally, the --stdin option tells git hash-object to get the content to be processed from stdin; otherwise, the command would expect a filename argument at the end of the command containing the content to be used."
   ]
  },
  {
   "cell_type": "markdown",
   "id": "759bd675-3c09-44f0-a59c-64d8773b70a3",
   "metadata": {},
   "source": [
    "`find .git/objects -type f`    # show the file name that contains 'test content'. This is how Git stores the content initially -- as a single file per piece of content, named with the SHA-1 checksum of the content and its header.\n",
    "\n",
    "`git cat-file`    # examines the content, passing `-p` to `cat-file` instructs the command to first figure out the type of content, then display it appropriately.\n",
    "\n",
    "```bash\n",
    "$ git cat-file -p d670460b4b4aece5915caf5c68d12f560a9fe3e4\n",
    "test content\n",
    "```\n",
    "\n",
    "*d670460b4b4aece5915caf5c68d12f560a9fe3e4* is a 40-character checksum hash. This is the [SHA-1](https://en.wikipedia.org/wiki/SHA-1) hash - a checksum of the content you're storing plus a header."
   ]
  },
  {
   "cell_type": "markdown",
   "id": "57dfcb62-e16c-4170-a85b-1c0cded112e0",
   "metadata": {},
   "source": [
    "You can deleta local copy of file, the use Git to retrieve, from the object database, either the first version you saved:\n",
    "\n",
    "```bash\n",
    "$ git cat-file -p 83baae61804e65cc73a7201a7252750c76066a30 > test.txt\n",
    "$ cat test.txt\n",
    "version 1\n",
    "```\n",
    "\n",
    "or the second version:\n",
    "\n",
    "```bash\n",
    "$ git cat-file -p 1f7a7a472abf3dd9643fd615f6da379c4acb3e3a > test.txt\n",
    "$ cat test.txt\n",
    "version 2\n",
    "```"
   ]
  },
  {
   "cell_type": "markdown",
   "id": "a4dba4a0-f989-428d-9973-4da9cf04bb32",
   "metadata": {},
   "source": [
    "The SHA-1 key just link to the content of the file, it doesn't store the filename in your system. This object type is called a **blob**.  You can have Git tell you the object type of any object in Git, given its SHA-1 key, with `git cat-file -t`:\n",
    "\n",
    "```bash\n",
    "$ git cat-file -t 1f7a7a472abf3dd9643fd615f6da379c4acb3e3a\n",
    "blob\n",
    "```"
   ]
  },
  {
   "cell_type": "markdown",
   "id": "133f7d5e-ddf9-482b-8080-9e6826886d1b",
   "metadata": {},
   "source": [
    "### Tree Objects"
   ]
  },
  {
   "cell_type": "markdown",
   "id": "3940aefb-c9d5-4f9c-b7e1-ef085a8d4ade",
   "metadata": {},
   "source": [
    "*Tree* solves the problem of storing the filename and also allows you to store a group of files together.\n",
    "\n",
    "For example, let's say you have a project where the most-recent tree looks something like:\n",
    "```bash\n",
    "$ git cat-file -p master^{tree}\n",
    "100644 blob a906cb2a4a904a152e80877d4088654daad0c859      README\n",
    "100644 blob 8f94139338f9404f26296befa88755fc2598c289      Rakefile\n",
    "040000 tree 99f1a6d12cb4b6f19c8655fca46c3ecf317074e0      lib\n",
    "```\n",
    "\n",
    "The `master^{tree}` syntax specifies the tree object that is pointed to by the last commit on your `master` branch. Notice that the `lib` subdirectory isn't a blob but a pointer to another tree:\n",
    "```bash\n",
    "$ git cat-file -p 99f1a6d12cb4b6f19c8655fca46c3ecf317074e0\n",
    "100644 blob 47c6340d6459e05787f644c2447d2595f5d3a54b      simplegit.rb\n",
    "```\n",
    "\n",
    "Conceptually, the data that Git is storing looks something like this:\n",
    "\n",
    "![](../refer/data-model-1.png) \n"
   ]
  },
  {
   "cell_type": "markdown",
   "id": "3d617920-9ef2-44db-8e33-ca314c56ee6e",
   "metadata": {},
   "source": [
    "create your own tree. Git normally creates a tree by taking the state of your staging area or index and writing a series of tree objects from it.\n",
    "\n",
    "```bash\n",
    "$ git update-index --add --cacheinfo 100644 \\\n",
    "  83baae61804e65cc73a7201a7252750c76066a30 test.txt\n",
    "```\n",
    "\n",
    "`--add` option because the file doesn't yet exist in your staging area. `cacheinfo` because the file you're adding isn't in your directory but is in your database. `100644` means it's a normal file that with read and write permissions for the owner and read-only permissions for both the group and others. \n",
    "\n",
    "Other options are `100755`, which means it’s an *executable file*; and `120000`, which *specifies a symbolic link*. The mode is taken from normal UNIX modes but is much less flexible — these three modes are the only ones that are valid for files (blobs) in Git (although other modes are used for directories and submodules).\n",
    "\n",
    "use `git write-tree` to write the staging area out to a tree object. Calling this command automatically creates a tree object from the state of the index if that tree doesn't yet exist."
   ]
  },
  {
   "cell_type": "markdown",
   "id": "98a2b78a-082d-4c97-bf60-5f899a214154",
   "metadata": {},
   "source": [
    "This is essentially what Git does when you run the `git add` and `git commit` commands -- it stores blobs for the files that have changed, updates the index, writes out trees, and writes commit objects that reference the top-level trees and the commits that came immediately before them. These three main Git objects -- the blob, the tree, and the commit -- are initially stored as separate files in your `.git/objects` directory.\n",
    "Here are all the objects in the example directory, commented with what they store:\n",
    "```bash\n",
    "$ find .git/objects -type f\n",
    ".git/objects/01/55eb4229851634a0f03eb265b69f5a2d56f341 # tree 2\n",
    ".git/objects/1a/410efbd13591db07496601ebc7a059dd55cfe9 # commit 3\n",
    ".git/objects/1f/7a7a472abf3dd9643fd615f6da379c4acb3e3a # test.txt v2\n",
    ".git/objects/3c/4e9cd789d88d8d89c1073707c3585e41b0e614 # tree 3\n",
    ".git/objects/83/baae61804e65cc73a7201a7252750c76066a30 # test.txt v1\n",
    ".git/objects/ca/c0cab538b970a37ea1e769cbbde608743bc96d # commit 2\n",
    ".git/objects/d6/70460b4b4aece5915caf5c68d12f560a9fe3e4 # 'test content'\n",
    ".git/objects/d8/329fc1cc938780ffdd9f94e0d364e0ea74f579 # tree 1\n",
    ".git/objects/fa/49b077972391ad58037050f2a75f74e3671e92 # new.txt\n",
    ".git/objects/fd/f4fc3344e67ab068f836878b6c4951e3b15f3d # commit 1\n",
    "```"
   ]
  },
  {
   "cell_type": "markdown",
   "id": "91b33041-d89a-4c5c-a769-3f990acccb6f",
   "metadata": {},
   "source": [
    "## Git Internals - Git References"
   ]
  },
  {
   "cell_type": "markdown",
   "id": "f013633e-932d-4056-b838-9abb148d8c33",
   "metadata": {},
   "source": [
    "update a reference:\n",
    "```bash\n",
    "$ git update-ref refs/heads/master 1a410efbd13591db07496601ebc7a059dd55cfe9\n",
    "```\n",
    "That’s basically what a branch in Git is: a simple pointer or reference to the head of a line of work."
   ]
  },
  {
   "cell_type": "markdown",
   "id": "f6570cfe-d965-4e15-a76e-3eac5e43a0f8",
   "metadata": {},
   "source": [
    "HEAD file. Usually the HEAD file is a *symbolic reference* to the branch you're currently on. By symbolic reference, we mean that unlike a normal reference, it contains a pointer to another reference.\n",
    "\n",
    "Read the value of HEAD via:\n",
    "```bash\n",
    "git symbolic-ref HEAD\n",
    "```\n",
    "\n",
    "set the value of HEAD using the same command:\n",
    "```bash\n",
    "git symbolic-ref HEAD refs/heads/test\n",
    "```"
   ]
  },
  {
   "cell_type": "markdown",
   "id": "d56d1142-155a-4fa0-b7a7-1439c9ed4e11",
   "metadata": {},
   "source": [
    "Tags\n",
    "\n",
    "There are two types of tags: annotated and lightweight. You can make a lightweight tag by running:\n",
    "```bash\n",
    "git update-ref refs/tags/v1.0 cac0cab538b970a37ea1e769cbbde608743bc96d\n",
    "```\n",
    "\n",
    "Create an annotated tag:\n",
    "```bash\n",
    "git tag -a v1.1 1a410efbd13591db07496601ebc7a059dd55cfe9 -m 'Test tag'\n",
    "```"
   ]
  },
  {
   "cell_type": "markdown",
   "id": "264f723c-b93d-4e86-9df8-ec8a6434c020",
   "metadata": {},
   "source": [
    "Remotes\n",
    "\n",
    "add a remote called `origin`(git remote add remote-name remote-directory-url):\n",
    "```bash\n",
    "git remote add origin git@github.com:schacon/simplegit-progit.git\n",
    "```\n",
    "\n",
    "push your `master` branch to it(git push remote-name local-branch-name):\n",
    "```bash\n",
    "git push origin master\n",
    "```"
   ]
  },
  {
   "cell_type": "markdown",
   "id": "a8f6416b-ea73-4eb5-ba77-70df8d73547c",
   "metadata": {},
   "source": [
    "## Git Internals - Packfiles"
   ]
  },
  {
   "cell_type": "markdown",
   "id": "39e78d8d-f6ea-477b-8d38-4823d9b95c5a",
   "metadata": {},
   "source": [
    "Git compresses the contents of files with *zlib*, so all files collectively take less than original storage.\n",
    "\n",
    "Add the `repo.rb` file from the Grit library - this is about a 22K source code file:\n",
    "```bash\n",
    "curl https://raw.githubusercontent.com/mojombo/grit/master/lib/grit/repo.rb > repo.rb\n",
    "```\n",
    "\n"
   ]
  },
  {
   "cell_type": "markdown",
   "id": "b466106a-4d5f-467d-8813-0446472e47fd",
   "metadata": {},
   "source": [
    "## Git Internals - The Refspec"
   ]
  },
  {
   "cell_type": "markdown",
   "id": "b166634c-0162-4c86-806e-94bb7806ccfb",
   "metadata": {},
   "source": [
    "set the remote references with local references"
   ]
  },
  {
   "cell_type": "markdown",
   "id": "33e9b06e-1aab-4302-b982-fcba3073f6d1",
   "metadata": {},
   "source": [
    "## Git Internals - Transfer Protocols"
   ]
  },
  {
   "cell_type": "markdown",
   "id": "f4c38830-d31a-4eb1-967d-cc737167aacd",
   "metadata": {},
   "source": [
    "..."
   ]
  },
  {
   "cell_type": "markdown",
   "id": "5d5b2940-3e70-4e75-9919-d003cc9d4280",
   "metadata": {},
   "source": [
    "## Git Internals - Maintenance and Data Recovery"
   ]
  },
  {
   "cell_type": "markdown",
   "id": "b4cf8c5e-e910-4b24-b5e7-7fed755e634e",
   "metadata": {},
   "source": [
    "`git gc` - \"gc\" stands for garbage collect."
   ]
  },
  {
   "cell_type": "markdown",
   "id": "191b61eb-aec1-4833-9c58-65875703817a",
   "metadata": {},
   "source": [
    "## Git Internals - Environment Variables"
   ]
  },
  {
   "cell_type": "markdown",
   "id": "f46d7493-1d35-482a-867b-f25ba55e194d",
   "metadata": {},
   "source": [
    "`git --exec-path` check the current setting of `GIT_EXEC_PATH` determines where Git looks for its sub-programs (like `git-commit`, `git-diff`, and others)."
   ]
  },
  {
   "cell_type": "markdown",
   "id": "e84b1884-bbe9-4cd1-baf6-7906807611d4",
   "metadata": {},
   "source": [
    "## Git Tools"
   ]
  },
  {
   "cell_type": "markdown",
   "id": "25bb7760-b2fe-475e-806c-c5f649c17782",
   "metadata": {},
   "source": [
    "### Revision Selection"
   ]
  },
  {
   "cell_type": "markdown",
   "id": "e4ea4b0e-0af5-4db8-af97-2ab10c493152",
   "metadata": {},
   "source": []
  }
 ],
 "metadata": {
  "kernelspec": {
   "display_name": "Python 3 (ipykernel)",
   "language": "python",
   "name": "python3"
  },
  "language_info": {
   "codemirror_mode": {
    "name": "ipython",
    "version": 3
   },
   "file_extension": ".py",
   "mimetype": "text/x-python",
   "name": "python",
   "nbconvert_exporter": "python",
   "pygments_lexer": "ipython3",
   "version": "3.11.3"
  }
 },
 "nbformat": 4,
 "nbformat_minor": 5
}
