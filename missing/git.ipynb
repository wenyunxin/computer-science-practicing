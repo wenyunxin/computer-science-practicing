{
 "cells": [
  {
   "cell_type": "code",
   "execution_count": 1,
   "id": "230110ff-1c1e-40c2-ac8e-38eed61a0a0b",
   "metadata": {},
   "outputs": [],
   "source": [
    "from IPython.core.interactiveshell import InteractiveShell\n",
    "InteractiveShell.ast_node_interactivity = \"all\""
   ]
  },
  {
   "cell_type": "markdown",
   "id": "0143d6ac-c267-460d-bbd6-042bf1ff4621",
   "metadata": {},
   "source": [
    "git four important entries: `HEAD`, `index`, `objects`, `refs` directories. Those are the core parts of Git.\n",
    "\n",
    "- `objects` directory stores all the content for your database,\n",
    "- `refs` directory stores pointers into commit objects in that data (branches, tags, remote and more),\n",
    "- `HEAD` file points to the branch you currently have checkout,\n",
    "- `index` file is where Git stores your staging area information."
   ]
  },
  {
   "cell_type": "markdown",
   "id": "37442dd2-02ea-4715-bcb6-155029b62434",
   "metadata": {},
   "source": [
    "## Git Internales - Git Objects"
   ]
  },
  {
   "cell_type": "markdown",
   "id": "c3415faa-e34d-4a43-92a8-9fdfc400fc6e",
   "metadata": {},
   "source": [
    "`echo 'test content' | git hash-object -w --stdin`\n",
    "\n",
    "In its simplest form, git hash-object would take the content you handed to it and merely return the unique key that would be used to store it in your Git database. The -w option then tells the command to not simply return the key, but to write that object to the database. Finally, the --stdin option tells git hash-object to get the content to be processed from stdin; otherwise, the command would expect a filename argument at the end of the command containing the content to be used."
   ]
  },
  {
   "cell_type": "markdown",
   "id": "759bd675-3c09-44f0-a59c-64d8773b70a3",
   "metadata": {},
   "source": [
    "`find .git/objects -type f`    # show the file name that contains 'test content'. This is how Git stores the content initially -- as a single file per piece of content, named with the SHA-1 checksum of the content and its header.\n",
    "\n",
    "`git cat-file`    # examines the content, passing `-p` to `cat-file` instructs the command to first figure out the type of content, then display it appropriately.\n",
    "\n",
    "```bash\n",
    "$ git cat-file -p d670460b4b4aece5915caf5c68d12f560a9fe3e4\n",
    "test content\n",
    "```\n",
    "\n",
    "*d670460b4b4aece5915caf5c68d12f560a9fe3e4* is a 40-character checksum hash. This is the [SHA-1](https://en.wikipedia.org/wiki/SHA-1) hash - a checksum of the content you're storing plus a header."
   ]
  },
  {
   "cell_type": "markdown",
   "id": "57dfcb62-e16c-4170-a85b-1c0cded112e0",
   "metadata": {},
   "source": [
    "You can deleta local copy of file, the use Git to retrieve, from the object database, either the first version you saved:\n",
    "\n",
    "```bash\n",
    "$ git cat-file -p 83baae61804e65cc73a7201a7252750c76066a30 > test.txt\n",
    "$ cat test.txt\n",
    "version 1\n",
    "```\n",
    "\n",
    "or the second version:\n",
    "\n",
    "```bash\n",
    "$ git cat-file -p 1f7a7a472abf3dd9643fd615f6da379c4acb3e3a > test.txt\n",
    "$ cat test.txt\n",
    "version 2\n",
    "```"
   ]
  },
  {
   "cell_type": "markdown",
   "id": "a4dba4a0-f989-428d-9973-4da9cf04bb32",
   "metadata": {},
   "source": [
    "The SHA-1 key just link to the content of the file, it doesn't store the filename in your system. This object type is called a **blob**.  You can have Git tell you the object type of any object in Git, given its SHA-1 key, with `git cat-file -t`:\n",
    "\n",
    "```bash\n",
    "$ git cat-file -t 1f7a7a472abf3dd9643fd615f6da379c4acb3e3a\n",
    "blob\n",
    "```"
   ]
  },
  {
   "cell_type": "markdown",
   "id": "133f7d5e-ddf9-482b-8080-9e6826886d1b",
   "metadata": {},
   "source": [
    "### Tree Objects"
   ]
  },
  {
   "cell_type": "markdown",
   "id": "3940aefb-c9d5-4f9c-b7e1-ef085a8d4ade",
   "metadata": {},
   "source": [
    "*Tree* solves the problem of storing the filename and also allows you to store a group of files together.\n",
    "\n",
    "For example, let's say you have a project where the most-recent tree looks something like:\n",
    "```bash\n",
    "$ git cat-file -p master^{tree}\n",
    "100644 blob a906cb2a4a904a152e80877d4088654daad0c859      README\n",
    "100644 blob 8f94139338f9404f26296befa88755fc2598c289      Rakefile\n",
    "040000 tree 99f1a6d12cb4b6f19c8655fca46c3ecf317074e0      lib\n",
    "```\n",
    "\n",
    "The `master^{tree}` syntax specifies the tree object that is pointed to by the last commit on your `master` branch. Notice that the `lib` subdirectory isn't a blob but a pointer to another tree:\n",
    "```bash\n",
    "$ git cat-file -p 99f1a6d12cb4b6f19c8655fca46c3ecf317074e0\n",
    "100644 blob 47c6340d6459e05787f644c2447d2595f5d3a54b      simplegit.rb\n",
    "```\n",
    "\n",
    "Conceptually, the data that Git is storing looks something like this:\n",
    "\n",
    "![](../refer/data-model-1.png) \n"
   ]
  }
 ],
 "metadata": {
  "kernelspec": {
   "display_name": "Python 3 (ipykernel)",
   "language": "python",
   "name": "python3"
  },
  "language_info": {
   "codemirror_mode": {
    "name": "ipython",
    "version": 3
   },
   "file_extension": ".py",
   "mimetype": "text/x-python",
   "name": "python",
   "nbconvert_exporter": "python",
   "pygments_lexer": "ipython3",
   "version": "3.11.3"
  }
 },
 "nbformat": 4,
 "nbformat_minor": 5
}
