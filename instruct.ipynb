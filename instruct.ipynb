{
 "cells": [
  {
   "cell_type": "code",
   "execution_count": 1,
   "id": "5706e328-6fe6-48ed-9733-ece22e5f7ebd",
   "metadata": {},
   "outputs": [],
   "source": [
    "from IPython.core.interactiveshell import InteractiveShell\n",
    "InteractiveShell.ast_node_interactivity = \"all\""
   ]
  },
  {
   "cell_type": "code",
   "execution_count": 3,
   "id": "3dd9e863-75ed-44a0-a9e5-88b9db1a0528",
   "metadata": {},
   "outputs": [],
   "source": [
    "# def write_subtitle(filename):\n",
    "#     \"\"\"import the re package.\"\"\"\n",
    "#     import re\n",
    "\n",
    "#     \"\"\"creat the re pattern\"\"\"\n",
    "#     pattern = r'\\d+\\n[\\d,:]+ --> [\\d,:]+'\n",
    "#     pattern1 = r'<(font.+\\/font)>'\n",
    "\n",
    "#     \"\"\"open file and read it, then use re module to re-write it. then format the result\"\"\"\n",
    "#     with open(filename, 'r+', encoding=\"utf-8\") as f:\n",
    "#         read_string = f.read()\n",
    "#         re_string = re.sub(pattern, '', read_string)\n",
    "#         re_string_font = re.sub(pattern1, '', re_string)\n",
    "#         new_string = re_string_font.replace(\"\\n\", \" \").replace(\"   \", \"\\n\")\n",
    "\n",
    "#     \"\"\"create new file and filled with the \"new_string\" that re-writed-formatted above.\"\"\"\n",
    "#     with open('new_' + filename.replace(filename.split('.')[-1], 'md'), 'w', encoding=\"utf-8\") as f:\n",
    "#         f.write(new_string)\n",
    "\n",
    "#     return True"
   ]
  },
  {
   "cell_type": "code",
   "execution_count": 2,
   "id": "f9cabc11-8cb7-4694-bd46-0946203dde68",
   "metadata": {
    "scrolled": true,
    "tags": []
   },
   "outputs": [],
   "source": [
    "# from write_subtitle import write_subtitle\n",
    "# filename = 'first 20 hours.txt'\n",
    "# write_subtitle(filename)"
   ]
  },
  {
   "cell_type": "code",
   "execution_count": 2,
   "id": "77d8b7bf-7dcc-4549-bd87-152ef9d74156",
   "metadata": {},
   "outputs": [],
   "source": [
    "# \"\"\"open file and read it, replace double space with single space\"\"\"\n",
    "# with open(filename, 'r+', encoding=\"utf-8\") as f:\n",
    "#     read_string = f.read()\n",
    "#     re_string = read_string.replace('  ', ' ')\n",
    "#     f.write(re_string)"
   ]
  },
  {
   "cell_type": "code",
   "execution_count": 3,
   "id": "dd0a478e-9a0a-4f4b-8af3-8cade20195d3",
   "metadata": {},
   "outputs": [
    {
     "name": "stdout",
     "output_type": "stream",
     "text": [
      "Noun phrases: ['Sebastian Thrun', 'self-driving cars', 'Google', 'few people', 'the company', 'him', 'I', 'you', 'very senior CEOs', 'major American car companies', 'my hand', 'I', 'Thrun', 'an interview', 'Recode']\n",
      "Verbs: ['start', 'work', 'drive', 'take', 'tell', 'shake', 'turn', 'talk', 'say']\n",
      "Sebastian Thrun PERSON\n",
      "Google ORG\n",
      "2007 DATE\n",
      "American NORP\n",
      "Thrun PERSON\n",
      "Recode ORG\n",
      "earlier this week DATE\n"
     ]
    }
   ],
   "source": [
    "# Syntax analyse package\n",
    "import spacy\n",
    "text = (\"When Sebastian Thrun started working on self-driving cars at \"\n",
    "        \"Google in 2007, few people outside of the company took him \"\n",
    "        \"seriously. “I can tell you very senior CEOs of major American \"\n",
    "        \"car companies would shake my hand and turn away because I wasn’t \"\n",
    "        \"worth talking to,” said Thrun, in an interview with Recode earlier \"\n",
    "        \"this week.\")\n",
    "\n",
    "# load the English model\n",
    "nlp = spacy.load(\"en_core_web_sm\")\n",
    "\n",
    "# process a text\n",
    "doc = nlp(text)\n",
    "\n",
    "# Analyze syntax\n",
    "print(\"Noun phrases:\", [chunk.text for chunk in doc.noun_chunks])\n",
    "print(\"Verbs:\", [token.lemma_ for token in doc if token.pos_==\"VERB\"])\n",
    "\n",
    "# Find named entities, phrases and concepts\n",
    "for entity in doc.ents:\n",
    "    print(entity.text, entity.label_)"
   ]
  },
  {
   "cell_type": "code",
   "execution_count": 5,
   "id": "c58fb395-b41c-4cb3-a68b-b32c4990e8c4",
   "metadata": {},
   "outputs": [
    {
     "name": "stderr",
     "output_type": "stream",
     "text": [
      " ... (more hidden) ...\n",
      "08/17/2023 01:49:53 INFO Created a temporary directory at /var/folders/5c/jql333r14x7_7f3_h5h91pdr0000gn/T/tmp5kks27rq\n",
      "08/17/2023 01:49:53 INFO Writing /var/folders/5c/jql333r14x7_7f3_h5h91pdr0000gn/T/tmp5kks27rq/_remote_module_non_scriptable.py\n",
      " ... (more hidden) ...\n",
      " ... (more hidden) ...\n",
      " ... (more hidden) ...\n",
      " ... (more hidden) ...\n",
      " ... (more hidden) ...\n",
      "08/17/2023 01:51:50 INFO Loaded model pszemraj/long-t5-tglobal-base-16384-book-summary to cpu\n",
      " ... (more hidden) .../Library/Frameworks/Python.framework/Versions/3.11/lib/python3.11/site-packages/transformers/modeling_utils.py:835: FutureWarning: The `device` argument is deprecated and will be removed in v5 of Transformers.\n",
      "  warnings.warn(\n",
      " ... (more hidden) ..."
     ]
    },
    {
     "name": "stdout",
     "output_type": "stream",
     "text": [
      "Summary: we'll briefly summarize some of the more important parts of the Brain Snack.\n"
     ]
    },
    {
     "name": "stderr",
     "output_type": "stream",
     "text": [
      "\n"
     ]
    }
   ],
   "source": [
    "# summarization models interface package\n",
    "from textsum.summarize import Summarizer\n",
    "\n",
    "# loads default mode and parameters\n",
    "summarizer = Summarizer()\n",
    "\n",
    "# Summarize a text string\n",
    "text = \"This is a long string of text that will be summarized.\"\n",
    "summary = summarizer.summarize_string(text)\n",
    "print(f'Summary: {summary}')"
   ]
  },
  {
   "cell_type": "markdown",
   "id": "bd0d5a4c-4e99-4fb9-888b-4702799e2e34",
   "metadata": {},
   "source": [
    "2020年中国人口普查数据分析及可视化"
   ]
  }
 ],
 "metadata": {
  "kernelspec": {
   "display_name": "Python 3 (ipykernel)",
   "language": "python",
   "name": "python3"
  },
  "language_info": {
   "codemirror_mode": {
    "name": "ipython",
    "version": 3
   },
   "file_extension": ".py",
   "mimetype": "text/x-python",
   "name": "python",
   "nbconvert_exporter": "python",
   "pygments_lexer": "ipython3",
   "version": "3.11.3"
  }
 },
 "nbformat": 4,
 "nbformat_minor": 5
}
