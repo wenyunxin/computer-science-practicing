{
 "cells": [
  {
   "cell_type": "code",
   "execution_count": 5,
   "id": "5706e328-6fe6-48ed-9733-ece22e5f7ebd",
   "metadata": {},
   "outputs": [],
   "source": [
    "from IPython.core.interactiveshell import InteractiveShell\n",
    "InteractiveShell.ast_node_interactivity = \"all\"\n",
    "\n",
    "from write_subtitle import write_subtitle"
   ]
  },
  {
   "cell_type": "code",
   "execution_count": 3,
   "id": "3dd9e863-75ed-44a0-a9e5-88b9db1a0528",
   "metadata": {},
   "outputs": [],
   "source": [
    "# def write_subtitle(filename):\n",
    "#     \"\"\"import the re package.\"\"\"\n",
    "#     import re\n",
    "\n",
    "#     \"\"\"creat the re pattern\"\"\"\n",
    "#     pattern = r'\\d+\\n[\\d,:]+ --> [\\d,:]+'\n",
    "#     pattern1 = r'<(font.+\\/font)>'\n",
    "\n",
    "#     \"\"\"open file and read it, then use re module to re-write it. then format the result\"\"\"\n",
    "#     with open(filename, 'r+', encoding=\"utf-8\") as f:\n",
    "#         read_string = f.read()\n",
    "#         re_string = re.sub(pattern, '', read_string)\n",
    "#         re_string_font = re.sub(pattern1, '', re_string)\n",
    "#         new_string = re_string_font.replace(\"\\n\", \" \").replace(\"   \", \"\\n\")\n",
    "\n",
    "#     \"\"\"create new file and filled with the \"new_string\" that re-writed-formatted above.\"\"\"\n",
    "#     with open('new_' + filename.replace(filename.split('.')[-1], 'md'), 'w', encoding=\"utf-8\") as f:\n",
    "#         f.write(new_string)\n",
    "\n",
    "#     return True"
   ]
  },
  {
   "cell_type": "code",
   "execution_count": 7,
   "id": "f9cabc11-8cb7-4694-bd46-0946203dde68",
   "metadata": {
    "scrolled": true,
    "tags": []
   },
   "outputs": [],
   "source": [
    "# filename = 'first 20 hours.txt'\n",
    "\n",
    "# write_subtitle(filename)"
   ]
  },
  {
   "cell_type": "code",
   "execution_count": 2,
   "id": "77d8b7bf-7dcc-4549-bd87-152ef9d74156",
   "metadata": {},
   "outputs": [],
   "source": [
    "# \"\"\"open file and read it, replace double space with single space\"\"\"\n",
    "# with open(filename, 'r+', encoding=\"utf-8\") as f:\n",
    "#     read_string = f.read()\n",
    "#     re_string = read_string.replace('  ', ' ')\n",
    "#     f.write(re_string)"
   ]
  },
  {
   "cell_type": "markdown",
   "id": "d5b01403-83eb-478d-a513-408f06221f77",
   "metadata": {},
   "source": []
  }
 ],
 "metadata": {
  "kernelspec": {
   "display_name": "Python 3 (ipykernel)",
   "language": "python",
   "name": "python3"
  },
  "language_info": {
   "codemirror_mode": {
    "name": "ipython",
    "version": 3
   },
   "file_extension": ".py",
   "mimetype": "text/x-python",
   "name": "python",
   "nbconvert_exporter": "python",
   "pygments_lexer": "ipython3",
   "version": "3.11.3"
  }
 },
 "nbformat": 4,
 "nbformat_minor": 5
}
