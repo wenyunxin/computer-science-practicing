{
 "cells": [
  {
   "cell_type": "code",
   "execution_count": 1,
   "id": "aea3beff-303b-4043-9e10-a829b4a4bab1",
   "metadata": {},
   "outputs": [],
   "source": [
    "from IPython.core.interactiveshell import InteractiveShell\n",
    "InteractiveShell.ast_node_interactivity = \"all\""
   ]
  },
  {
   "cell_type": "markdown",
   "id": "8ef0d6ef-dcaf-40d8-af96-982f536b5d9d",
   "metadata": {},
   "source": [
    "## 二进制：计算机的源头"
   ]
  },
  {
   "cell_type": "code",
   "execution_count": 2,
   "id": "925509b5-fef9-44a4-909f-6b5b1d5a975b",
   "metadata": {
    "scrolled": true
   },
   "outputs": [
    {
     "name": "stdout",
     "output_type": "stream",
     "text": [
      "Help on built-in function bin in module builtins:\n",
      "\n",
      "bin(number, /)\n",
      "    Return the binary representation of an integer.\n",
      "    \n",
      "    >>> bin(2796202)\n",
      "    '0b1010101010101010101010'\n",
      "\n"
     ]
    },
    {
     "data": {
      "text/plain": [
       "'0b101010'"
      ]
     },
     "execution_count": 2,
     "metadata": {},
     "output_type": "execute_result"
    },
    {
     "name": "stdout",
     "output_type": "stream",
     "text": [
      "Help on class int in module builtins:\n",
      "\n",
      "class int(object)\n",
      " |  int([x]) -> integer\n",
      " |  int(x, base=10) -> integer\n",
      " |  \n",
      " |  Convert a number or string to an integer, or return 0 if no arguments\n",
      " |  are given.  If x is a number, return x.__int__().  For floating point\n",
      " |  numbers, this truncates towards zero.\n",
      " |  \n",
      " |  If x is not a number or if base is given, then x must be a string,\n",
      " |  bytes, or bytearray instance representing an integer literal in the\n",
      " |  given base.  The literal can be preceded by '+' or '-' and be surrounded\n",
      " |  by whitespace.  The base defaults to 10.  Valid bases are 0 and 2-36.\n",
      " |  Base 0 means to interpret the base from the string as an integer literal.\n",
      " |  >>> int('0b100', base=0)\n",
      " |  4\n",
      " |  \n",
      " |  Built-in subclasses:\n",
      " |      bool\n",
      " |  \n",
      " |  Methods defined here:\n",
      " |  \n",
      " |  __abs__(self, /)\n",
      " |      abs(self)\n",
      " |  \n",
      " |  __add__(self, value, /)\n",
      " |      Return self+value.\n",
      " |  \n",
      " |  __and__(self, value, /)\n",
      " |      Return self&value.\n",
      " |  \n",
      " |  __bool__(self, /)\n",
      " |      True if self else False\n",
      " |  \n",
      " |  __ceil__(...)\n",
      " |      Ceiling of an Integral returns itself.\n",
      " |  \n",
      " |  __divmod__(self, value, /)\n",
      " |      Return divmod(self, value).\n",
      " |  \n",
      " |  __eq__(self, value, /)\n",
      " |      Return self==value.\n",
      " |  \n",
      " |  __float__(self, /)\n",
      " |      float(self)\n",
      " |  \n",
      " |  __floor__(...)\n",
      " |      Flooring an Integral returns itself.\n",
      " |  \n",
      " |  __floordiv__(self, value, /)\n",
      " |      Return self//value.\n",
      " |  \n",
      " |  __format__(self, format_spec, /)\n",
      " |      Default object formatter.\n",
      " |  \n",
      " |  __ge__(self, value, /)\n",
      " |      Return self>=value.\n",
      " |  \n",
      " |  __getattribute__(self, name, /)\n",
      " |      Return getattr(self, name).\n",
      " |  \n",
      " |  __getnewargs__(self, /)\n",
      " |  \n",
      " |  __gt__(self, value, /)\n",
      " |      Return self>value.\n",
      " |  \n",
      " |  __hash__(self, /)\n",
      " |      Return hash(self).\n",
      " |  \n",
      " |  __index__(self, /)\n",
      " |      Return self converted to an integer, if self is suitable for use as an index into a list.\n",
      " |  \n",
      " |  __int__(self, /)\n",
      " |      int(self)\n",
      " |  \n",
      " |  __invert__(self, /)\n",
      " |      ~self\n",
      " |  \n",
      " |  __le__(self, value, /)\n",
      " |      Return self<=value.\n",
      " |  \n",
      " |  __lshift__(self, value, /)\n",
      " |      Return self<<value.\n",
      " |  \n",
      " |  __lt__(self, value, /)\n",
      " |      Return self<value.\n",
      " |  \n",
      " |  __mod__(self, value, /)\n",
      " |      Return self%value.\n",
      " |  \n",
      " |  __mul__(self, value, /)\n",
      " |      Return self*value.\n",
      " |  \n",
      " |  __ne__(self, value, /)\n",
      " |      Return self!=value.\n",
      " |  \n",
      " |  __neg__(self, /)\n",
      " |      -self\n",
      " |  \n",
      " |  __or__(self, value, /)\n",
      " |      Return self|value.\n",
      " |  \n",
      " |  __pos__(self, /)\n",
      " |      +self\n",
      " |  \n",
      " |  __pow__(self, value, mod=None, /)\n",
      " |      Return pow(self, value, mod).\n",
      " |  \n",
      " |  __radd__(self, value, /)\n",
      " |      Return value+self.\n",
      " |  \n",
      " |  __rand__(self, value, /)\n",
      " |      Return value&self.\n",
      " |  \n",
      " |  __rdivmod__(self, value, /)\n",
      " |      Return divmod(value, self).\n",
      " |  \n",
      " |  __repr__(self, /)\n",
      " |      Return repr(self).\n",
      " |  \n",
      " |  __rfloordiv__(self, value, /)\n",
      " |      Return value//self.\n",
      " |  \n",
      " |  __rlshift__(self, value, /)\n",
      " |      Return value<<self.\n",
      " |  \n",
      " |  __rmod__(self, value, /)\n",
      " |      Return value%self.\n",
      " |  \n",
      " |  __rmul__(self, value, /)\n",
      " |      Return value*self.\n",
      " |  \n",
      " |  __ror__(self, value, /)\n",
      " |      Return value|self.\n",
      " |  \n",
      " |  __round__(...)\n",
      " |      Rounding an Integral returns itself.\n",
      " |      \n",
      " |      Rounding with an ndigits argument also returns an integer.\n",
      " |  \n",
      " |  __rpow__(self, value, mod=None, /)\n",
      " |      Return pow(value, self, mod).\n",
      " |  \n",
      " |  __rrshift__(self, value, /)\n",
      " |      Return value>>self.\n",
      " |  \n",
      " |  __rshift__(self, value, /)\n",
      " |      Return self>>value.\n",
      " |  \n",
      " |  __rsub__(self, value, /)\n",
      " |      Return value-self.\n",
      " |  \n",
      " |  __rtruediv__(self, value, /)\n",
      " |      Return value/self.\n",
      " |  \n",
      " |  __rxor__(self, value, /)\n",
      " |      Return value^self.\n",
      " |  \n",
      " |  __sizeof__(self, /)\n",
      " |      Returns size in memory, in bytes.\n",
      " |  \n",
      " |  __sub__(self, value, /)\n",
      " |      Return self-value.\n",
      " |  \n",
      " |  __truediv__(self, value, /)\n",
      " |      Return self/value.\n",
      " |  \n",
      " |  __trunc__(...)\n",
      " |      Truncating an Integral returns itself.\n",
      " |  \n",
      " |  __xor__(self, value, /)\n",
      " |      Return self^value.\n",
      " |  \n",
      " |  as_integer_ratio(self, /)\n",
      " |      Return integer ratio.\n",
      " |      \n",
      " |      Return a pair of integers, whose ratio is exactly equal to the original int\n",
      " |      and with a positive denominator.\n",
      " |      \n",
      " |      >>> (10).as_integer_ratio()\n",
      " |      (10, 1)\n",
      " |      >>> (-10).as_integer_ratio()\n",
      " |      (-10, 1)\n",
      " |      >>> (0).as_integer_ratio()\n",
      " |      (0, 1)\n",
      " |  \n",
      " |  bit_count(self, /)\n",
      " |      Number of ones in the binary representation of the absolute value of self.\n",
      " |      \n",
      " |      Also known as the population count.\n",
      " |      \n",
      " |      >>> bin(13)\n",
      " |      '0b1101'\n",
      " |      >>> (13).bit_count()\n",
      " |      3\n",
      " |  \n",
      " |  bit_length(self, /)\n",
      " |      Number of bits necessary to represent self in binary.\n",
      " |      \n",
      " |      >>> bin(37)\n",
      " |      '0b100101'\n",
      " |      >>> (37).bit_length()\n",
      " |      6\n",
      " |  \n",
      " |  conjugate(...)\n",
      " |      Returns self, the complex conjugate of any int.\n",
      " |  \n",
      " |  to_bytes(self, /, length=1, byteorder='big', *, signed=False)\n",
      " |      Return an array of bytes representing an integer.\n",
      " |      \n",
      " |      length\n",
      " |        Length of bytes object to use.  An OverflowError is raised if the\n",
      " |        integer is not representable with the given number of bytes.  Default\n",
      " |        is length 1.\n",
      " |      byteorder\n",
      " |        The byte order used to represent the integer.  If byteorder is 'big',\n",
      " |        the most significant byte is at the beginning of the byte array.  If\n",
      " |        byteorder is 'little', the most significant byte is at the end of the\n",
      " |        byte array.  To request the native byte order of the host system, use\n",
      " |        `sys.byteorder' as the byte order value.  Default is to use 'big'.\n",
      " |      signed\n",
      " |        Determines whether two's complement is used to represent the integer.\n",
      " |        If signed is False and a negative integer is given, an OverflowError\n",
      " |        is raised.\n",
      " |  \n",
      " |  ----------------------------------------------------------------------\n",
      " |  Class methods defined here:\n",
      " |  \n",
      " |  from_bytes(bytes, byteorder='big', *, signed=False) from builtins.type\n",
      " |      Return the integer represented by the given array of bytes.\n",
      " |      \n",
      " |      bytes\n",
      " |        Holds the array of bytes to convert.  The argument must either\n",
      " |        support the buffer protocol or be an iterable object producing bytes.\n",
      " |        Bytes and bytearray are examples of built-in objects that support the\n",
      " |        buffer protocol.\n",
      " |      byteorder\n",
      " |        The byte order used to represent the integer.  If byteorder is 'big',\n",
      " |        the most significant byte is at the beginning of the byte array.  If\n",
      " |        byteorder is 'little', the most significant byte is at the end of the\n",
      " |        byte array.  To request the native byte order of the host system, use\n",
      " |        `sys.byteorder' as the byte order value.  Default is to use 'big'.\n",
      " |      signed\n",
      " |        Indicates whether two's complement is used to represent the integer.\n",
      " |  \n",
      " |  ----------------------------------------------------------------------\n",
      " |  Static methods defined here:\n",
      " |  \n",
      " |  __new__(*args, **kwargs) from builtins.type\n",
      " |      Create and return a new object.  See help(type) for accurate signature.\n",
      " |  \n",
      " |  ----------------------------------------------------------------------\n",
      " |  Data descriptors defined here:\n",
      " |  \n",
      " |  denominator\n",
      " |      the denominator of a rational number in lowest terms\n",
      " |  \n",
      " |  imag\n",
      " |      the imaginary part of a complex number\n",
      " |  \n",
      " |  numerator\n",
      " |      the numerator of a rational number in lowest terms\n",
      " |  \n",
      " |  real\n",
      " |      the real part of a complex number\n",
      "\n"
     ]
    },
    {
     "data": {
      "text/plain": [
       "26"
      ]
     },
     "execution_count": 2,
     "metadata": {},
     "output_type": "execute_result"
    }
   ],
   "source": [
    "# binary and decimal numbers conversions\n",
    "binary_number = \"11010\"\n",
    "decimal_number = 42\n",
    "\n",
    "help(bin)\n",
    "bin(decimal_number)\n",
    "\n",
    "help(int)\n",
    "int(binary_number, 2)"
   ]
  },
  {
   "cell_type": "markdown",
   "id": "2a40f020-4043-4afe-86ed-a51a95e18d8c",
   "metadata": {},
   "source": [
    "二进制的位运算（[Bitwise operation](https://en.wikipedia.org/wiki/Bitwise_operation)），包括向左移位（left shift）和向右移位（right shift），以及“或（bitwise OR）”“与（bitwise AND）”“异或（bitwise XOR）”的逻辑操作\n",
    "\n",
    "二进制左移一位，其实就是将数字翻倍。（类似的，十进制在右边加一个0，就是将数字翻10倍）\n"
   ]
  },
  {
   "cell_type": "code",
   "execution_count": 3,
   "id": "e4ff0e95-76c1-493e-bc22-577b688d1d4c",
   "metadata": {},
   "outputs": [
    {
     "data": {
      "text/plain": [
       "110101"
      ]
     },
     "execution_count": 3,
     "metadata": {},
     "output_type": "execute_result"
    },
    {
     "data": {
      "text/plain": [
       "int"
      ]
     },
     "execution_count": 3,
     "metadata": {},
     "output_type": "execute_result"
    },
    {
     "data": {
      "text/plain": [
       "220202"
      ]
     },
     "execution_count": 3,
     "metadata": {},
     "output_type": "execute_result"
    },
    {
     "data": {
      "text/plain": [
       "2.0"
      ]
     },
     "execution_count": 3,
     "metadata": {},
     "output_type": "execute_result"
    }
   ],
   "source": [
    "# bitwise left shift with Python\n",
    "number = 110101\n",
    "number\n",
    "type(number)\n",
    "shift_amount = 1\n",
    "shift_number = number << shift_amount\n",
    "shift_number\n",
    "shift_number / number    # bitwise left value equals the shift number power of 2 as the previous valuebb"
   ]
  },
  {
   "cell_type": "code",
   "execution_count": 4,
   "id": "b89156c3-a0f8-428e-a570-af15e1a9e5c6",
   "metadata": {},
   "outputs": [
    {
     "data": {
      "text/plain": [
       "110"
      ]
     },
     "execution_count": 4,
     "metadata": {},
     "output_type": "execute_result"
    },
    {
     "data": {
      "text/plain": [
       "55"
      ]
     },
     "execution_count": 4,
     "metadata": {},
     "output_type": "execute_result"
    },
    {
     "data": {
      "text/plain": [
       "0.5"
      ]
     },
     "execution_count": 4,
     "metadata": {},
     "output_type": "execute_result"
    }
   ],
   "source": [
    "# bitwise right shift with Python\n",
    "right_number = 110\n",
    "right_number\n",
    "\n",
    "right_shift_number = right_number >> shift_amount\n",
    "right_shift_number\n",
    "\n",
    "right_shift_number / right_number"
   ]
  },
  {
   "cell_type": "code",
   "execution_count": 5,
   "id": "02167453-5bbf-4132-a2f4-f7056732714b",
   "metadata": {},
   "outputs": [
    {
     "name": "stdout",
     "output_type": "stream",
     "text": [
      "数字100的二进制向左移1位是200\n"
     ]
    },
    {
     "data": {
      "text/plain": [
       "200"
      ]
     },
     "execution_count": 5,
     "metadata": {},
     "output_type": "execute_result"
    },
    {
     "name": "stdout",
     "output_type": "stream",
     "text": [
      "数字15的二进制向右移2位是3\n"
     ]
    },
    {
     "data": {
      "text/plain": [
       "3"
      ]
     },
     "execution_count": 5,
     "metadata": {},
     "output_type": "execute_result"
    },
    {
     "name": "stdout",
     "output_type": "stream",
     "text": [
      "数字42的二进制向左移1位是84\n"
     ]
    },
    {
     "data": {
      "text/plain": [
       "84"
      ]
     },
     "execution_count": 5,
     "metadata": {},
     "output_type": "execute_result"
    },
    {
     "name": "stdout",
     "output_type": "stream",
     "text": [
      "数字42的二进制向左移2位是168\n"
     ]
    },
    {
     "data": {
      "text/plain": [
       "168"
      ]
     },
     "execution_count": 5,
     "metadata": {},
     "output_type": "execute_result"
    }
   ],
   "source": [
    "# 将左移和右移写成函数\n",
    "def left_shift(num, shift_num):\n",
    "    print(\"数字{}的二进制向左移{}位是{}\".format(num, shift_num, num<<shift_num))\n",
    "    return num<<shift_num\n",
    "    \n",
    "\n",
    "def right_shift(num, shift_num):\n",
    "    print(\"数字{}的二进制向右移{}位是{}\".format(num, shift_num, num>>shift_num))\n",
    "    return num>>shift_num\n",
    "\n",
    "left_shift(100, 1)\n",
    "right_shift(15, 2)\n",
    "left_shift(0b101010, 1)\n",
    "left_shift(0b101010, 2)"
   ]
  },
  {
   "cell_type": "code",
   "execution_count": 6,
   "id": "7e3e3792-3c0d-4b19-bde2-8ff1241db23d",
   "metadata": {},
   "outputs": [
    {
     "data": {
      "text/plain": [
       "'0b11'"
      ]
     },
     "execution_count": 6,
     "metadata": {},
     "output_type": "execute_result"
    },
    {
     "data": {
      "text/plain": [
       "'0b101'"
      ]
     },
     "execution_count": 6,
     "metadata": {},
     "output_type": "execute_result"
    },
    {
     "data": {
      "text/plain": [
       "'0b111'"
      ]
     },
     "execution_count": 6,
     "metadata": {},
     "output_type": "execute_result"
    }
   ],
   "source": [
    "# bitwise operations in Python\n",
    "# bitwise OR ('|')\n",
    "a = 3\n",
    "b = 5\n",
    "bin(a)\n",
    "bin(b)\n",
    "bin(int(a | b))    # one of the the position numbers is 1, the ouptut is 1, otherwise is o"
   ]
  },
  {
   "cell_type": "code",
   "execution_count": 7,
   "id": "451199f6-5639-41ef-9a9c-5422c3c04341",
   "metadata": {},
   "outputs": [
    {
     "data": {
      "text/plain": [
       "'0b1'"
      ]
     },
     "execution_count": 7,
     "metadata": {},
     "output_type": "execute_result"
    }
   ],
   "source": [
    "# bitwise AND ('&')\n",
    "bin(int(a & b))    # the same position numbers are both 1, the output is 1, otherwise is o"
   ]
  },
  {
   "cell_type": "code",
   "execution_count": 8,
   "id": "d33fa8dd-4113-4098-9f34-323a3dd08106",
   "metadata": {},
   "outputs": [
    {
     "data": {
      "text/plain": [
       "'0b110'"
      ]
     },
     "execution_count": 8,
     "metadata": {},
     "output_type": "execute_result"
    },
    {
     "data": {
      "text/plain": [
       "'0b0'"
      ]
     },
     "execution_count": 8,
     "metadata": {},
     "output_type": "execute_result"
    },
    {
     "data": {
      "text/plain": [
       "'0b0'"
      ]
     },
     "execution_count": 8,
     "metadata": {},
     "output_type": "execute_result"
    }
   ],
   "source": [
    "# bitwise XOR ('^')\n",
    "bin(int(a ^ b))    # the same position numbers are the same, the output is 0, otherwise is 1\n",
    "\n",
    "# XOR结果为0，是两个数值相等的必要充分条件，可以作为判断两个变量是否相等的条件\n",
    "bin(int(a ^ a))\n",
    "bin(int(b ^ b))    # bitsie XOR the number itself results 0"
   ]
  },
  {
   "cell_type": "code",
   "execution_count": 9,
   "id": "05d672aa-daf1-43b2-b60d-5ae799c84d02",
   "metadata": {},
   "outputs": [
    {
     "data": {
      "text/plain": [
       "True"
      ]
     },
     "execution_count": 9,
     "metadata": {},
     "output_type": "execute_result"
    },
    {
     "data": {
      "text/plain": [
       "False"
      ]
     },
     "execution_count": 9,
     "metadata": {},
     "output_type": "execute_result"
    }
   ],
   "source": [
    "# equal values and idential objects are not the same things\n",
    "squares = [1, 4, 9, 16, 25]\n",
    "shallow_squares = squares[:]\n",
    "\n",
    "shallow_squares == squares    # they have the same value, which means they the equal\n",
    "shallow_squares is squares    # they have different id memories, which means they are not identical"
   ]
  },
  {
   "cell_type": "markdown",
   "id": "576911f4-3301-416a-b283-98d8852317a7",
   "metadata": {},
   "source": [
    "二进制是计算机的基石，这些基础概念和操作，必须非常了解。\n",
    "\n",
    "二进制贯穿在很多常用的概念和思维中，例如逻辑判断、二分法、二叉树等。(应用的是二进制的二元本质。)\n",
    "逻辑判断中的真假值就是用二进制的 1 和 0 来表示的；二分法和二叉树都是把要处理的问题一分为二，正好也可以通过二进制的 1 和 0 来表示。\n",
    "\n",
    "因此，理解了二进制，你就能更加容易地理解很多计算机的**数据结构**和**算法**"
   ]
  },
  {
   "cell_type": "markdown",
   "id": "7176036a-8c61-4f92-ad70-0d167a686b0f",
   "metadata": {},
   "source": [
    "## 余数：取余操作就是个哈希函数"
   ]
  },
  {
   "cell_type": "markdown",
   "id": "99a4cffc-1f66-4120-b8e0-4b886f56a5e4",
   "metadata": {},
   "source": [
    "**同余定理**：两个整数a和b，如果它们除以正整数m得到的余数相等，那么a和b对于模m同余。\n",
    "奇数和偶数对应同余的模是*2*。同余定理其实就是这样是用来分类的。\n",
    "\n",
    "哈希（Hash），也称散列，简单地讲，就是*将任意长度的输入，通过哈希算法，压缩为某一固定长度的输出*。求余过程就是在做类似的事情。\n"
   ]
  },
  {
   "cell_type": "markdown",
   "id": "5a15fa70-b2fc-4b88-b1d0-10454e8cff5e",
   "metadata": {},
   "source": [
    "而使用MAX随机数之后，更适合需要将数据重新洗牌的应用场景，比如加密算法、MapReduce中的数据分发、记录的高速查询和定位等等。\n",
    "\n",
    "**数学是计算机的基础**。"
   ]
  },
  {
   "cell_type": "markdown",
   "id": "3933941f-9187-4239-91f2-6da49c0abe75",
   "metadata": {},
   "source": [
    "## 迭代法：不用编程语言自带的函数，如何计算平方根？"
   ]
  },
  {
   "cell_type": "markdown",
   "id": "17b328ca-d3e4-4d5b-8d89-0e74d783d8b4",
   "metadata": {},
   "source": [
    "迭代法（Iterative Method）: 简单来说就是不断地用旧的变量值，递推计算新的变量值。\n",
    "数学表述为：\n",
    "```bash\n",
    "f(xn) = f(xn-1) *2\n",
    "```\n",
    "\n",
    "计算机通过循环语句，让计算机重复执行迭代中的递推步骤，推导出变量的最终值。"
   ]
  },
  {
   "cell_type": "code",
   "execution_count": 10,
   "id": "11a9ace6-59d4-4d45-8dbc-20ebdefaf641",
   "metadata": {},
   "outputs": [
    {
     "data": {
      "text/plain": [
       "18446744073709551615"
      ]
     },
     "execution_count": 10,
     "metadata": {},
     "output_type": "execute_result"
    }
   ],
   "source": [
    "# 填满棋盘的例子\n",
    "def go_wheat(n):\n",
    "    numOfWheat = 1\n",
    "    sum = 1\n",
    "    if n == 1:\n",
    "        return sum\n",
    "    else:\n",
    "        for i in range(2, n+1):\n",
    "            numOfWheat *= 2\n",
    "            sum += numOfWheat\n",
    "        return sum\n",
    "        \n",
    "\n",
    "go_wheat(64)"
   ]
  },
  {
   "cell_type": "markdown",
   "id": "f868d37a-693f-4374-9b3f-b2f8ee2c9752",
   "metadata": {},
   "source": [
    "迭代法的具体应用：\n",
    "- **求数值的精确或者近似值**。包括二分法（Bisection method）和牛顿迭代法（Newton's method）\n",
    "- **在一定范围内查找目标值**。包括二分查找\n",
    "- **机器学习算法中的迭代**。比如K- 均值算法（K-means clustering）、PageRank的马尔科夫链（Markov chain）、梯度下降法（Gradient descent）等等。\n",
    "\n",
    "*很多时候机器学习的过程，就是根据已知的假设，求一个局部最优解*。"
   ]
  },
  {
   "cell_type": "code",
   "execution_count": 11,
   "id": "6e97cc0d-05eb-4265-8e10-c4eac7822862",
   "metadata": {},
   "outputs": [
    {
     "data": {
      "text/plain": [
       "3.1622767448425293"
      ]
     },
     "execution_count": 11,
     "metadata": {},
     "output_type": "execute_result"
    },
    {
     "data": {
      "text/plain": [
       "9.999994210971863"
      ]
     },
     "execution_count": 11,
     "metadata": {},
     "output_type": "execute_result"
    }
   ],
   "source": [
    "# 求解一个大于1的正整数的平方根，使用二分法求解近似值\n",
    "def get_SqureRoot(n, DeltaHold, MaxTry):\n",
    "    min = 1\n",
    "    max = n\n",
    "    for i in range(1, MaxTry):\n",
    "        mid = (min + max) / 2\n",
    "        square = mid * mid\n",
    "        delta = abs((square / n) - 1)\n",
    "        if delta <= DeltaHold:\n",
    "            return mid\n",
    "        else:\n",
    "            if square > n:\n",
    "                max = mid\n",
    "            else:\n",
    "                min = mid\n",
    "    if delta > DeltaHold:\n",
    "        return -2.0\n",
    "\n",
    "\n",
    "get_SqureRoot(10, 0.000001, 10000)\n",
    "\n",
    "3.1622767448425293 * 3.1622767448425293"
   ]
  },
  {
   "cell_type": "markdown",
   "id": "30025318-3265-469c-ae72-74a06f7aada1",
   "metadata": {},
   "source": [
    "计算机很擅长重复性劳动，以重复为特点的迭代法在编程中有着广泛的应用。"
   ]
  },
  {
   "cell_type": "markdown",
   "id": "a2697f11-00dd-41e0-b1ac-bdfa3d726498",
   "metadata": {},
   "source": [
    "## 数学归纳法：用数学提升代码运行效率"
   ]
  },
  {
   "cell_type": "markdown",
   "id": "af3943c2-1fe5-44c8-89df-7e3a0847c2ec",
   "metadata": {},
   "source": [
    "平时所说的“归纳”是一种从经验事实中找出普遍特征的认知方法。\n",
    "\n",
    "**数学归纳法**：用来证明任意一个给定的情形都是正确的。\n",
    "\n",
    "数学归纳法*步骤*：\n",
    "- 证明基本情况（通常是n=1）是否成立\n",
    "- 假设n=k-1成立，再证明n=k也是成立的（k为任意大于1的自然数）\n",
    "\n",
    "数学归纳法需要我们能够做出合理的命题假设，然后才能进行证明。有些时候试错是不可避免的。"
   ]
  },
  {
   "cell_type": "markdown",
   "id": "ea0f9495-a9ba-4f66-9a7b-6a8cda267d01",
   "metadata": {},
   "source": [
    "## 递归：泛化数学归纳，将复杂问题简单化"
   ]
  },
  {
   "cell_type": "code",
   "execution_count": 12,
   "id": "53dd3ed9-8ec5-4a73-9908-ab23df9621cb",
   "metadata": {},
   "outputs": [],
   "source": [
    "# 一个整数可以被分解为多个整数的乘积\n",
    "def multi_result(n):\n",
    "    pass"
   ]
  },
  {
   "cell_type": "markdown",
   "id": "2adf7cb2-922b-4a5c-aced-78614bad22b0",
   "metadata": {},
   "source": [
    "## 排列：让计算机学会“田忌赛马”"
   ]
  },
  {
   "cell_type": "markdown",
   "id": "d64161f9-0407-4e64-915b-32695c6a75b7",
   "metadata": {},
   "source": [
    "穷举法列出所有可能性。"
   ]
  },
  {
   "cell_type": "code",
   "execution_count": 13,
   "id": "1dd9afe6-20cd-4317-8811-8b49358cd98c",
   "metadata": {},
   "outputs": [],
   "source": [
    "# 从a-e取四个字母所组成的所有密码\n",
    "def get_password(num, alph_list):\n",
    "    pass"
   ]
  },
  {
   "cell_type": "markdown",
   "id": "0c9aaf74-fce0-4729-b063-9bd4bc9b9ae7",
   "metadata": {},
   "source": [
    "## 组合：安排世界杯赛程"
   ]
  },
  {
   "cell_type": "markdown",
   "id": "d83ec57b-1b5b-4522-b7c3-67bbe47d647e",
   "metadata": {},
   "source": [
    "不考虑顺序的组合"
   ]
  },
  {
   "cell_type": "markdown",
   "id": "b586e236-4108-495c-ab17-2cb64cc521b3",
   "metadata": {},
   "source": [
    "## 动态规划"
   ]
  },
  {
   "cell_type": "markdown",
   "id": "7a18d332-79f1-4c20-b03c-2e0ce1e8d6d4",
   "metadata": {},
   "source": [
    "**查询推荐**（Query Suggestion）的实现过程，以及它所使用的数学思想——**动态规划**（Dynamic Programming）.\n",
    "\n",
    "动态规划是需要在各种可能的局部解中，找出那些可能达到最优的局部解，这个寻找最优解的过程就是动态规划。"
   ]
  },
  {
   "cell_type": "markdown",
   "id": "bf54ddb8-4b9d-4557-9cda-2e7e889019a7",
   "metadata": {},
   "source": [
    "## 树的深度优先搜索：高效率地查字典"
   ]
  },
  {
   "cell_type": "markdown",
   "id": "a8e22950-5373-41fa-bd2b-424e610b65e6",
   "metadata": {},
   "source": [
    "Depth First Search"
   ]
  },
  {
   "cell_type": "markdown",
   "id": "0fc57d08-6b48-4d1e-976c-9ae4e8de23d9",
   "metadata": {},
   "source": [
    "……"
   ]
  },
  {
   "cell_type": "markdown",
   "id": "9669ac17-0235-4036-ac5c-6a0647a9fd84",
   "metadata": {},
   "source": [
    "## Discrete mathematics and its applications"
   ]
  },
  {
   "cell_type": "markdown",
   "id": "02bb47b7-4a20-4a4a-96c7-5ccb3b6e082d",
   "metadata": {},
   "source": [
    "five themes:\n",
    "- Mathematical Reasoning: why mathematical induction is a valid proof technique\n",
    "- Combinatorial Analysis: to count or enumerate objects\n",
    "- Discrete Structures: the abstract mathematical structures used to represent discrete objects and the relationship between these objects\n",
    "- Algorithmic Thinking: certain classes of problems are solved by the specification of an algorithm\n",
    "- Applications and Modeling: Discrete mathematics has applications in almost every conceivable area of study"
   ]
  },
  {
   "cell_type": "markdown",
   "id": "3714857f-5d0f-400b-95af-9e81c058181c",
   "metadata": {},
   "source": [
    "Why study discrete mathematics?\n",
    "- develop mathematical maturity: the ability to understand and create mathematical arguments\n",
    "- provides the mathematical foundations for many computer science courses, including data structures, algorithms, database theory, automata theory, formal language, compiler theory, computer security, and operating systems\n",
    "- math course based on the material studied in discrete mathematics include logic, set theory, number theory, linear algebra, abstract algebra, combinatorics, graph theory, and probability theory\n",
    "- contains the necessary mathematical background for solving problems in operations research, chemistry, engineering, biology, and so on\n",
    "- discrete mathematics is an excellent environment in which to learn how to read and write mathematical proofs\n",
    "\n",
    "One of the primary goals of this book is to teach mathematical reasoning and problem solving, rather than a discrete set of skills."
   ]
  },
  {
   "cell_type": "markdown",
   "id": "758bdb1e-93c4-4079-946f-86c613e41316",
   "metadata": {},
   "source": [
    "author's advice about how we can best learn discrete mathematics: You will learn the most by actively working exercises, solve as many as you possible can."
   ]
  },
  {
   "cell_type": "markdown",
   "id": "730cf801-e4d8-4080-b9d3-492b6ff6ecad",
   "metadata": {},
   "source": [
    "### The foundations: Logic and Proofs"
   ]
  },
  {
   "cell_type": "markdown",
   "id": "542e536f-1d9e-4860-a077-a6fbbf64c8e1",
   "metadata": {},
   "source": [
    "Onece we prove a mathematical statement is true, we call it a **theorem**. A collection of theorems on a topic organize what we know about this topic. To learn a mathematical topic, a person needs to actively *construct* mathematical arguments on this topic, and not just read exposition. Moreover, knowing the proof of a theorem often makes it possible to modify the result to fit new situation.\n",
    "\n",
    "In fact, proofs are used to verify that computer programs produce the *correct output* for all possible input values, to show that algorithms always produce the correct result, to establish the security of a system, and to create artificial intelligence. Furthermore, **automate reasoning systems** have been created to allow computers to construct their own proofs."
   ]
  },
  {
   "cell_type": "markdown",
   "id": "719a7003-30a9-457c-b5c6-4166061381ac",
   "metadata": {},
   "source": [
    "#### Propositional logic"
   ]
  },
  {
   "cell_type": "markdown",
   "id": "f3ef11ac-9d90-46ab-8dac-8ac7222ddfa1",
   "metadata": {},
   "source": [
    "A **proposition** is a declarative sentence (a sentence that declares a fact) that is either true or false, but not both.\n",
    "\n",
    "Some examples of propositions:\n",
    "1. Washington D.C., is the capital of the United States of America.\n",
    "2. Toronto is the capital of Canada.\n",
    "3. 1 + 1 = 2.\n",
    "4. 2 + 2 = 3.\n",
    "\n",
    "Propositions 1 and 3 are true, whereas 2 and 4 are falses.\n",
    "\n",
    "The conventional letters used for propositional variables are *p*, *q*, *r*, *s*, … . The **truth value** of a proposition is true, denoted by T, if it is a true proposition, and the truth value of a proposition is false, denoted by F, if it is a false proposition.\n",
    "\n",
    "Propositions are cannot be expressed in terms of simpler propositions are called **atomic propositions**. New propositions, called **compound propositions**, are formed from existing propositions using **logical operators**.\n",
    "\n",
    "The area of logic that deals with propositions is called the **propositional calculus** or **[propositional logic](https://en.wikipedia.org/wiki/Propositional_calculus)**.\n"
   ]
  },
  {
   "cell_type": "markdown",
   "id": "d9b05b36-f43c-459d-a415-7b7a90fd602e",
   "metadata": {},
   "source": [
    "Definition 5: Let *p* and *q* be propositions. The *conditional statement p -> q* is the proposition \"if *p*, then *q*.\" The conditional statement *p -> q* is false when *p* is true and *q* is false, and true otherwise. In the conditional statement *p -> q*, *p* is called the *hypothesis* (or *antecedent* or *premise*) and *q* is called the *conclusion* (or *consequence*)."
   ]
  },
  {
   "cell_type": "markdown",
   "id": "7af6eb01-2c22-4ddc-95f7-4305e2bcecc7",
   "metadata": {},
   "source": [
    "Definition 6: Let *p* and *q* be propositions. The *biconditional statement p <-> q* is the proposition \"*p* if and only if *q*.\" The biconditional statement *p <-> q* is true when *p* and *q* have the same truth values, and is false otherwise. Biconditional statements are also called *bi-implications*."
   ]
  },
  {
   "cell_type": "markdown",
   "id": "0364c7a3-dfe3-4817-8bea-77a1183cf1e3",
   "metadata": {},
   "source": [
    "definition 7: A *bit string* is a sequence of zero or more bits. The *length* of this string is the number of bits in the string."
   ]
  },
  {
   "cell_type": "markdown",
   "id": "b6a2f194-d24e-4c81-bb05-59e2c19e2546",
   "metadata": {},
   "source": []
  }
 ],
 "metadata": {
  "kernelspec": {
   "display_name": "Python 3 (ipykernel)",
   "language": "python",
   "name": "python3"
  },
  "language_info": {
   "codemirror_mode": {
    "name": "ipython",
    "version": 3
   },
   "file_extension": ".py",
   "mimetype": "text/x-python",
   "name": "python",
   "nbconvert_exporter": "python",
   "pygments_lexer": "ipython3",
   "version": "3.11.3"
  }
 },
 "nbformat": 4,
 "nbformat_minor": 5
}
