{
 "cells": [
  {
   "cell_type": "code",
   "execution_count": 1,
   "id": "eddd7a11-ca5f-4311-b7c3-15520cda7841",
   "metadata": {},
   "outputs": [],
   "source": [
    "from IPython.core.interactiveshell import InteractiveShell\n",
    "InteractiveShell.ast_node_interactivity = \"all\""
   ]
  },
  {
   "cell_type": "markdown",
   "id": "5b37c70d-57df-48ce-9b36-5a9f77f7369f",
   "metadata": {},
   "source": [
    "Essential Python Libraries:\n",
    "- Numpy: [Numpy](https://numpy.org/) is short for *Numerical Python*, has long been a cornerstone of *numerical computing* in Python\n",
    "- pandas: [pandas](https://pandas.pydata.org/) name itself derived from *panel data*. It provides *high-level data structures and functions* designed to make working with *structured or tabular data* intuitive and flexible.\n",
    "- matplotlib: [matplotlib](https://matplotlib.org/) is the most popular Python library for producing *plots and other two-dimensional data visualizations*. It is designed for creating plots suitable for *publication*.\n",
    "- IPython and Jupyter: [IPython project](https://ipython.org/) is to make a better interactive Python interpreter. IPython is designed for both *interactive computing and software development work*. [Jupyter project](https://jupyter.org/) is a broader initiative to design language-agnostic *interactive computing tools*. The IPython web notebook became the Jupyter notebook, with support for over *40* programming languages.\n",
    "- SciPy: [SciPy](https://scipy.org/) is a collection of packages addressing a number of foundational problems in *scientific computing*.\n",
    "- scikit-learn: [scikit-learn](https://scikit-learn.org/) has become the premier general-purpose *machine learning toolkit* for Python programmers.\n",
    "- statsmodels: [statsmodels](https://statsmodels.org/) is a *statistical analysis* package.\n",
    "- Other packages: TensorFlow and PyTorch become popular for *machine learning* or AI work."
   ]
  },
  {
   "cell_type": "markdown",
   "id": "b4cc1252-8299-4ea9-b822-b85701b0461b",
   "metadata": {},
   "source": [
    "## IPython Basics"
   ]
  },
  {
   "cell_type": "code",
   "execution_count": 2,
   "id": "819d53ef-dab0-4947-a747-439176c07432",
   "metadata": {},
   "outputs": [
    {
     "name": "stdout",
     "output_type": "stream",
     "text": [
      "Hello, world!\n"
     ]
    }
   ],
   "source": [
    "print('Hello, world!')"
   ]
  },
  {
   "cell_type": "markdown",
   "id": "1e2ac988-de5e-4986-9613-66b752ee5408",
   "metadata": {},
   "source": [
    "Nearly all of the commands and tools in this chapter can be used in IPython shell."
   ]
  },
  {
   "cell_type": "code",
   "execution_count": 3,
   "id": "72299854-6929-46db-9b99-ad60b6e3a4f4",
   "metadata": {},
   "outputs": [
    {
     "data": {
      "text/plain": [
       "'/Users/wenyunxin/Documents/github/computer-science-practicing/math'"
      ]
     },
     "execution_count": 3,
     "metadata": {},
     "output_type": "execute_result"
    }
   ],
   "source": [
    "%pwd"
   ]
  },
  {
   "cell_type": "code",
   "execution_count": 4,
   "id": "2459cbb7-1d64-4b9c-933f-2de2a3a56190",
   "metadata": {
    "scrolled": true
   },
   "outputs": [
    {
     "name": "stdout",
     "output_type": "stream",
     "text": [
      "Transcriber: Gustavo Rocha\n",
      "\n",
      "Reviewer: Marssi Draw\n",
      "\n",
      "\n",
      "\n",
      "Hi everyone.\n",
      "\n",
      "\n",
      "\n",
      "Two year ago, my life changed forever.\n",
      "\n",
      "\n",
      "\n",
      "My wife Kelsey and I\n",
      "\n",
      "\n",
      "\n",
      "welcomed our daughter Lela\n",
      "\n",
      "into the world.\n",
      "\n",
      "\n",
      "\n",
      "Now, becoming a parent\n",
      "\n",
      "is an amazing experience.\n",
      "\n",
      "\n",
      "\n",
      "Your whole world changes over night.\n",
      "\n",
      "\n",
      "\n",
      "And all of your priorities\n",
      "\n",
      "change immediately.\n",
      "\n",
      "\n",
      "\n",
      "So fast that it makes it really difficult\n",
      "\n",
      "to process sometimes.\n",
      "\n",
      "\n",
      "\n",
      "Now, you also have to learn\n",
      "\n",
      "a tremendous amount about being a parent\n",
      "\n",
      "\n",
      "\n",
      "like, for example,\n",
      "\n",
      "how to dress your child.\n",
      "\n",
      "\n",
      "\n",
      "(Laughter)\n",
      "\n",
      "\n",
      "\n",
      "This was new to me.\n",
      "\n",
      "\n",
      "\n",
      "This is an actual outfit, \n",
      "\n",
      "I thought this was a good idea.\n",
      "\n",
      "\n",
      "\n",
      "And even Lela knows\n",
      "\n",
      "that it's not a good idea. (Laughter)\n",
      "\n",
      "\n",
      "\n",
      "So there is so much to learn and\n",
      "\n",
      "so much craziness all at once.\n",
      "\n",
      "\n",
      "\n",
      "And to add to the craziness, \n",
      "\n",
      "Kelsey and I both work from home,\n",
      "\n",
      "\n",
      "\n",
      "we're entrepreneurs,\n",
      "\n",
      "we run our own businesses.\n",
      "\n",
      "\n",
      "\n",
      "So, Kelsey develops courses\n",
      "\n",
      "online for yoga teachers.\n",
      "\n",
      "\n",
      "\n",
      "I'm an author.\n",
      "\n",
      "\n",
      "\n",
      "And so, I'm working from home,\n",
      "\n",
      "Kelsey's working from home.\n",
      "\n",
      "\n",
      "\n",
      "We have an infant\n",
      "\n",
      "and we're trying to make sure\n",
      "\n",
      "\n",
      "\n",
      "that everything gets done\n",
      "\n",
      "that needs done.\n",
      "\n",
      "\n",
      "\n",
      "And life is really, really busy.\n",
      "\n",
      "\n",
      "\n",
      "And a couple of weeks\n",
      "\n",
      "into this amazing experience,\n",
      "\n",
      "\n",
      "\n",
      "when the sleep deprivation\n",
      "\n",
      "really kicked in,\n",
      "\n",
      "\n",
      "\n",
      "like around week eight,\n",
      "\n",
      "\n",
      "\n",
      "I had this thought,\n",
      "\n",
      "and it was the same thought\n",
      "\n",
      "\n",
      "\n",
      "that parents across the ages,\n",
      "\n",
      "internationally,\n",
      "\n",
      "\n",
      "\n",
      "everybody has had this thought,\n",
      "\n",
      "which is:\n",
      "\n",
      "\n",
      "\n",
      "I am never going to have\n",
      "\n",
      "free time ever again.\n",
      "\n",
      "\n",
      "\n",
      "(Laughter)\n",
      "\n",
      "\n",
      "\n",
      "Somebody said it's true.\n",
      "\n",
      "\n",
      "\n",
      "It's not exactly true,\n",
      "\n",
      "\n",
      "\n",
      "but it feels really, really true\n",
      "\n",
      "in that moment.\n",
      "\n",
      "\n",
      "\n",
      "And this was really\n",
      "\n",
      "disconcerning to me,\n",
      "\n",
      "\n",
      "\n",
      "because one of the things that I enjoy\n",
      "\n",
      "\n",
      "\n",
      "more than anything else\n",
      "\n",
      "is learning new things.\n",
      "\n",
      "\n",
      "\n",
      "Getting curious about something\n",
      "\n",
      "and diving in\n",
      "\n",
      "\n",
      "\n",
      "and fiddling around and \n",
      "\n",
      "learning through trial and error.\n",
      "\n",
      "\n",
      "\n",
      "And eventually becoming pretty good\n",
      "\n",
      "at something.\n",
      "\n",
      "\n",
      "\n",
      "And without this free time,\n",
      "\n",
      "\n",
      "\n",
      "I didn't know how I was ever \n",
      "\n",
      "going to do that ever again.\n",
      "\n",
      "\n",
      "\n",
      "And so, I'm a big geek,\n",
      "\n",
      "\n",
      "\n",
      "I want to keep learning things,\n",
      "\n",
      "I want to keep growing.\n",
      "\n",
      "\n",
      "\n",
      "And so what I've decided to do was,\n",
      "\n",
      "\n",
      "\n",
      "go to the library,\n",
      "\n",
      "and go to the bookstore,\n",
      "\n",
      "\n",
      "\n",
      "and look at what research says about\n",
      "\n",
      "\n",
      "\n",
      "how we learn and how we learn quickly.\n",
      "\n",
      "\n",
      "\n",
      "And I read a bunch of books,\n",
      "\n",
      "I read a bunch of websites.\n",
      "\n",
      "\n",
      "\n",
      "And tried to answer this question,\n",
      "\n",
      "\n",
      "\n",
      "how long does it take\n",
      "\n",
      "to acquire a new skill?\n",
      "\n",
      "\n",
      "\n",
      "You know what I found?\n",
      "\n",
      "\n",
      "\n",
      "10,000 hours!\n",
      "\n",
      "\n",
      "\n",
      "Anybody ever heard this?\n",
      "\n",
      "\n",
      "\n",
      "It takes 10,000 hours.\n",
      "\n",
      "If you want to learn something new,\n",
      "\n",
      "\n",
      "\n",
      "if you want to be good at it,\n",
      "\n",
      "\n",
      "\n",
      "it's going to take 10,000 hours\n",
      "\n",
      "to get there.\n",
      "\n",
      "\n",
      "\n",
      "And I read this in book after book,\n",
      "\n",
      "in website after website.\n",
      "\n",
      "\n",
      "\n",
      "And my mental experience\n",
      "\n",
      "of reading all of this stuff was like:\n",
      "\n",
      "\n",
      "\n",
      "No!!\n",
      "\n",
      "\n",
      "\n",
      "I don't have time!\n",
      "\n",
      "I don't have 10,000 hours.\n",
      "\n",
      "\n",
      "\n",
      "I am never going to be able\n",
      "\n",
      "to learn anything new.\n",
      "\n",
      "\n",
      "\n",
      "Ever again.\n",
      "\n",
      "(Laughter)\n",
      "\n",
      "\n",
      "\n",
      "But that's not true.\n",
      "\n",
      "\n",
      "\n",
      "So, 10,000 hours, just to give you\n",
      "\n",
      "a rough order of magnitude,\n",
      "\n",
      "\n",
      "\n",
      "10,000 hours is a full-time job\n",
      "\n",
      "for five years.\n",
      "\n",
      "\n",
      "\n",
      "That's a long time.\n",
      "\n",
      "\n",
      "\n",
      "And we've all had the experience\n",
      "\n",
      "of learning something new,\n",
      "\n",
      "\n",
      "\n",
      "and it didn't take us anywhere\n",
      "\n",
      "close to that amount of time, right?\n",
      "\n",
      "\n",
      "\n",
      "So, what's up? There's something\n",
      "\n",
      "kinda funky going on here.\n",
      "\n",
      "\n",
      "\n",
      "What the research says and what we expect,\n",
      "\n",
      "and have experiences,\n",
      "\n",
      "\n",
      "\n",
      "they don't match up.\n",
      "\n",
      "\n",
      "\n",
      "And what I found, here's the wrinkle:\n",
      "\n",
      "\n",
      "\n",
      "The 10,000 hour rule came out of studies\n",
      "\n",
      "of expert-level performance.\n",
      "\n",
      "\n",
      "\n",
      "There's a professor\n",
      "\n",
      "at Florida State University,\n",
      "\n",
      "\n",
      "\n",
      "his name is K. Anders Ericsson.\n",
      "\n",
      "\n",
      "\n",
      "He is the originator\n",
      "\n",
      "of the 10,00 hour rule.\n",
      "\n",
      "\n",
      "\n",
      "And where that came from is,\n",
      "\n",
      "he studied professional athletes,\n",
      "\n",
      "\n",
      "\n",
      "world class musicians,\n",
      "\n",
      "chess grand masters.\n",
      "\n",
      "\n",
      "\n",
      "All of this ultra competitive folks\n",
      "\n",
      "in ultra-high performing fields.\n",
      "\n",
      "\n",
      "\n",
      "And he tried to figure out\n",
      "\n",
      "how long does it take\n",
      "\n",
      "\n",
      "\n",
      "to get to the top\n",
      "\n",
      "of those kinds of fields.\n",
      "\n",
      "\n",
      "\n",
      "And what he found is,\n",
      "\n",
      "the more deliberate practice,\n",
      "\n",
      "\n",
      "\n",
      "the more time\n",
      "\n",
      "that those individuals spend\n",
      "\n",
      "\n",
      "\n",
      "practicing the elements\n",
      "\n",
      "of whatever it is that they do,\n",
      "\n",
      "\n",
      "\n",
      "the more time you spend,\n",
      "\n",
      "the better you get.\n",
      "\n",
      "\n",
      "\n",
      "And the folks at the tippy top\n",
      "\n",
      "of their fields\n",
      "\n",
      "\n",
      "\n",
      "put in around 10,000 hours of practice.\n",
      "\n",
      "\n",
      "\n",
      "Now, we were talking about the game\n",
      "\n",
      "of telephone a little bit earlier.\n",
      "\n",
      "\n",
      "\n",
      "Here's what happened:\n",
      "\n",
      "\n",
      "\n",
      "an author by the name\n",
      "\n",
      "of Malcolm Gladwell\n",
      "\n",
      "\n",
      "\n",
      "wrote a book in 2007 called\n",
      "\n",
      "\"Outliers: The Story of Success\",\n",
      "\n",
      "\n",
      "\n",
      "and the central piece of that book\n",
      "\n",
      "was the 10,000 hour rule.\n",
      "\n",
      "\n",
      "\n",
      "Practice a lot, practice well,\n",
      "\n",
      "and you will do extremely well,\n",
      "\n",
      "\n",
      "\n",
      "you will reach the top of your field.\n",
      "\n",
      "\n",
      "\n",
      "So, the message,\n",
      "\n",
      "\n",
      "\n",
      "what Dr. Ericsson was actually saying is,\n",
      "\n",
      "\n",
      "\n",
      "it takes 10,000 hours to get\n",
      "\n",
      "at the top of an ultra competitive field\n",
      "\n",
      "\n",
      "\n",
      "in a very narrow subject,\n",
      "\n",
      "that's what that means.\n",
      "\n",
      "\n",
      "\n",
      "But here's what happened:\n",
      "\n",
      "ever since Outliers came out,\n",
      "\n",
      "\n",
      "\n",
      "immediately came out,\n",
      "\n",
      "reached the top of best seller lists,\n",
      "\n",
      "\n",
      "\n",
      "stayed there for three solid months.\n",
      "\n",
      "\n",
      "\n",
      "All of a sudden the 10,000 hour rule\n",
      "\n",
      "was everywhere.\n",
      "\n",
      "\n",
      "\n",
      "And a society-wide game of telephone\n",
      "\n",
      "started to be played.\n",
      "\n",
      "\n",
      "\n",
      "So this message, it takes 10,000 hours\n",
      "\n",
      "to reach the top of an ultra competitive field,\n",
      "\n",
      "\n",
      "\n",
      "became, it takes 10,000 hours\n",
      "\n",
      "to become an expert at something,\n",
      "\n",
      "\n",
      "\n",
      "which became,\n",
      "\n",
      "\n",
      "\n",
      "it takes 10,000 hours to become\n",
      "\n",
      "good at something,\n",
      "\n",
      "\n",
      "\n",
      "which became,\n",
      "\n",
      "\n",
      "\n",
      "it takes 10,000 hours\n",
      "\n",
      "to learn something.\n",
      "\n",
      "\n",
      "\n",
      "But that last statement,\n",
      "\n",
      "it takes 10,000 hours to learn something,\n",
      "\n",
      "\n",
      "\n",
      "is not true.\n",
      "\n",
      "It's not true.\n",
      "\n",
      "\n",
      "\n",
      "So, what the research actually says --\n",
      "\n",
      "\n",
      "\n",
      "I spent a lot of time here\n",
      "\n",
      "at the CSU library\n",
      "\n",
      "\n",
      "\n",
      "in the cognitive psychology stacks\n",
      "\n",
      "'cause I'm a geek.\n",
      "\n",
      "\n",
      "\n",
      "And when you actually look\n",
      "\n",
      "at the studies of skill acquisition,\n",
      "\n",
      "\n",
      "\n",
      "you see over and over\n",
      "\n",
      "a graph like this.\n",
      "\n",
      "\n",
      "\n",
      "Now, researchers,\n",
      "\n",
      "whether they're studying a motor skill,\n",
      "\n",
      "\n",
      "\n",
      "something you do physically\n",
      "\n",
      "or a mental skill,\n",
      "\n",
      "\n",
      "\n",
      "they like to study things\n",
      "\n",
      "that they can time.\n",
      "\n",
      "\n",
      "\n",
      "'Cause you can quantify that, right?\n",
      "\n",
      "\n",
      "\n",
      "So, they'll give research participants\n",
      "\n",
      "a little task,\n",
      "\n",
      "\n",
      "\n",
      "something that requires\n",
      "\n",
      "physical arrangement,\n",
      "\n",
      "\n",
      "\n",
      "or something that requires\n",
      "\n",
      "learning a little mental trick,\n",
      "\n",
      "\n",
      "\n",
      "and they'll time how long a participant\n",
      "\n",
      "takes to complete the skill.\n",
      "\n",
      "\n",
      "\n",
      "And here's what this graph says,\n",
      "\n",
      "when you start --\n",
      "\n",
      "\n",
      "\n",
      "so when researchers gave participants\n",
      "\n",
      "a task, it took them a really long time,\n",
      "\n",
      "\n",
      "\n",
      "'cause it was new\n",
      "\n",
      "and they were horrible.\n",
      "\n",
      "\n",
      "\n",
      "With a little bit of practice,\n",
      "\n",
      "they get better and better and better.\n",
      "\n",
      "\n",
      "\n",
      "And that early part of practice\n",
      "\n",
      "is really, really efficient.\n",
      "\n",
      "\n",
      "\n",
      "People get good at things\n",
      "\n",
      "with just a little bit of practice.\n",
      "\n",
      "\n",
      "\n",
      "Now, what's interesting to note is that,\n",
      "\n",
      "\n",
      "\n",
      "for skills that we want to learn\n",
      "\n",
      "for ourselves,\n",
      "\n",
      "\n",
      "\n",
      "we don't care so much about time,\n",
      "\n",
      "right?\n",
      "\n",
      "\n",
      "\n",
      "We just care about how good we are,\n",
      "\n",
      "whatever good happens to mean.\n",
      "\n",
      "\n",
      "\n",
      "So if we relabel performance time\n",
      "\n",
      "to how good you are,\n",
      "\n",
      "\n",
      "\n",
      "the graph flips, and you get\n",
      "\n",
      "his famous and widely known,\n",
      "\n",
      "\n",
      "\n",
      "this is the learning curve.\n",
      "\n",
      "\n",
      "\n",
      "And the story of the learning curve\n",
      "\n",
      "is when you start,\n",
      "\n",
      "\n",
      "\n",
      "you're grossly incompetent\n",
      "\n",
      "and you know it, right?\n",
      "\n",
      "\n",
      "\n",
      "(Laughter)\n",
      "\n",
      "\n",
      "\n",
      "With a little bit of practice,\n",
      "\n",
      "you get really good, really quick.\n",
      "\n",
      "\n",
      "\n",
      "So that early level of improvement\n",
      "\n",
      "is really fast.\n",
      "\n",
      "\n",
      "\n",
      "And then at a certain point\n",
      "\n",
      "you reach a plateau,\n",
      "\n",
      "\n",
      "\n",
      "and the subsequent games\n",
      "\n",
      "become much harder to get,\n",
      "\n",
      "\n",
      "\n",
      "they take more time to get.\n",
      "\n",
      "\n",
      "\n",
      "Now, my question is,\n",
      "\n",
      "I want that, right?\n",
      "\n",
      "\n",
      "\n",
      "How long does it take\n",
      "\n",
      "from starting something\n",
      "\n",
      "\n",
      "\n",
      "and being grossly incompetent\n",
      "\n",
      "and knowing it\n",
      "\n",
      "\n",
      "\n",
      "to being reasonably good?\n",
      "\n",
      "\n",
      "\n",
      "In hopefully, as short a period of time\n",
      "\n",
      "as possible.\n",
      "\n",
      "\n",
      "\n",
      "So, how long does that take?\n",
      "\n",
      "\n",
      "\n",
      "Here's what my research says: 20 hours.\n",
      "\n",
      "\n",
      "\n",
      "That's it.\n",
      "\n",
      "You can go from knowing nothing\n",
      "\n",
      "\n",
      "\n",
      "about any skill that you can think of.\n",
      "\n",
      "\n",
      "\n",
      "Want to learn a language?\n",
      "\n",
      "Want to learn how to draw?\n",
      "\n",
      "\n",
      "\n",
      "Want to learn how to juggle\n",
      "\n",
      "flaming chainsaws?\n",
      "\n",
      "\n",
      "\n",
      "(Laughter)\n",
      "\n",
      "\n",
      "\n",
      "If you put 20 hours of focused\n",
      "\n",
      "deliberate practice into that thing,\n",
      "\n",
      "\n",
      "\n",
      "you will be astounded.\n",
      "\n",
      "\n",
      "\n",
      "Astounded at how good you are.\n",
      "\n",
      "\n",
      "\n",
      "20 hours is doable,\n",
      "\n",
      "\n",
      "\n",
      "that's about 45 minutes a day\n",
      "\n",
      "for about a month.\n",
      "\n",
      "\n",
      "\n",
      "Even skipping a couple days,\n",
      "\n",
      "here and there.\n",
      "\n",
      "\n",
      "\n",
      "20 hours isn't that hard to accumulate.\n",
      "\n",
      "\n",
      "\n",
      "Now, there's a method to doing this.\n",
      "\n",
      "\n",
      "\n",
      "Because it's not like you can just start\n",
      "\n",
      "fiddling around for about 20 hours\n",
      "\n",
      "\n",
      "\n",
      "and expect these massive improvements.\n",
      "\n",
      "\n",
      "\n",
      "There's a way to practice intelligently.\n",
      "\n",
      "\n",
      "\n",
      "There's a way to practice efficiently,\n",
      "\n",
      "\n",
      "\n",
      "that will make sure that you invest\n",
      "\n",
      "those 20 hours\n",
      "\n",
      "\n",
      "\n",
      "in the most effective way\n",
      "\n",
      "that you possibly can.\n",
      "\n",
      "\n",
      "\n",
      "And here's the method,\n",
      "\n",
      "it applies to anything:\n",
      "\n",
      "\n",
      "\n",
      "The first is to deconstruct the skill.\n",
      "\n",
      "\n",
      "\n",
      "Decide exactly what you want\n",
      "\n",
      "to be able to do when you're done,\n",
      "\n",
      "\n",
      "\n",
      "and then look into the skill\n",
      "\n",
      "and break it down into smaller pieces.\n",
      "\n",
      "\n",
      "\n",
      "Most of the things\n",
      "\n",
      "that we think of as skills\n",
      "\n",
      "\n",
      "\n",
      "are actually big bundles of skills\n",
      "\n",
      "that require all sorts of different things.\n",
      "\n",
      "\n",
      "\n",
      "The more you can break apart the skill,\n",
      "\n",
      "\n",
      "\n",
      "the more you're able to decide,\n",
      "\n",
      "\n",
      "\n",
      "what are the parts of this skill\n",
      "\n",
      "that would actually help me\n",
      "\n",
      "\n",
      "\n",
      "get to what I want?\n",
      "\n",
      "\n",
      "\n",
      "And then you can practice those first.\n",
      "\n",
      "\n",
      "\n",
      "And if you practice\n",
      "\n",
      "the most important things first,\n",
      "\n",
      "\n",
      "\n",
      "you'll be able to improve\n",
      "\n",
      "your performance\n",
      "\n",
      "\n",
      "\n",
      "in the least amount of time possible.\n",
      "\n",
      "\n",
      "\n",
      "The second is, learn enough\n",
      "\n",
      "to self correct.\n",
      "\n",
      "\n",
      "\n",
      "So, get three to five resources\n",
      "\n",
      "about what it is you're trying to learn.\n",
      "\n",
      "\n",
      "\n",
      "Could be book, could be DVDs,\n",
      "\n",
      "could be courses, could be anything.\n",
      "\n",
      "\n",
      "\n",
      "But don't use those as a way\n",
      "\n",
      "to procrastinate on practice.\n",
      "\n",
      "\n",
      "\n",
      "I know I do this, right?\n",
      "\n",
      "\n",
      "\n",
      "Get like 20 books about the topic,\n",
      "\n",
      "like,\n",
      "\n",
      "\n",
      "\n",
      "\"I'm going to start learning\n",
      "\n",
      "how to program a computer\n",
      "\n",
      "\n",
      "\n",
      "when I complete these 20 books\".\n",
      "\n",
      "\n",
      "\n",
      "No. That's procrastination.\n",
      "\n",
      "\n",
      "\n",
      "What you want to do\n",
      "\n",
      "is learn just enough\n",
      "\n",
      "\n",
      "\n",
      "that you can actually practice\n",
      "\n",
      "\n",
      "\n",
      "and self correct or self edit\n",
      "\n",
      "as you practice.\n",
      "\n",
      "\n",
      "\n",
      "So the learning becomes\n",
      "\n",
      "a way of getting better\n",
      "\n",
      "\n",
      "\n",
      "at noticing\n",
      "\n",
      "when you're making a mistake\n",
      "\n",
      "\n",
      "\n",
      "and then doing something\n",
      "\n",
      "a little different.\n",
      "\n",
      "\n",
      "\n",
      "The third is to remove barriers\n",
      "\n",
      "to practice.\n",
      "\n",
      "\n",
      "\n",
      "Distractions, television, internet.\n",
      "\n",
      "\n",
      "\n",
      "All of these things\n",
      "\n",
      "that get in the way\n",
      "\n",
      "\n",
      "\n",
      "of you actually sitting down\n",
      "\n",
      "and doing the work.\n",
      "\n",
      "\n",
      "\n",
      "And the more you're able to use\n",
      "\n",
      "just a little bit of willpower\n",
      "\n",
      "\n",
      "\n",
      "to remove the distractions that\n",
      "\n",
      "are keeping you from practicing,\n",
      "\n",
      "\n",
      "\n",
      "the more likely you are to actually\n",
      "\n",
      "sit down and practice, right?\n",
      "\n",
      "\n",
      "\n",
      "And the fourth is to practice\n",
      "\n",
      "for at least 20 hours.\n",
      "\n",
      "\n",
      "\n",
      "Now, most skills have what I call\n",
      "\n",
      "a frustration barrier.\n",
      "\n",
      "\n",
      "\n",
      "You know, the grossly-incompetent-\n",
      "\n",
      "and-knowing-it part?\n",
      "\n",
      "\n",
      "\n",
      "That's really, really frustrating.\n",
      "\n",
      "We don't like to feel stupid.\n",
      "\n",
      "\n",
      "\n",
      "And feeling stupid is a barrier to us \n",
      "\n",
      "actually sitting down and doing the work.\n",
      "\n",
      "\n",
      "\n",
      "So, by pre-committing to practicing\n",
      "\n",
      "whatever it is that you want to do\n",
      "\n",
      "\n",
      "\n",
      "for at least 20 hours,\n",
      "\n",
      "\n",
      "\n",
      "you will be able to overcome\n",
      "\n",
      "that initial frustration barrier\n",
      "\n",
      "\n",
      "\n",
      "and stick with the practice long enough\n",
      "\n",
      "to actually reap the rewards.\n",
      "\n",
      "\n",
      "\n",
      "That's it! It's not rocket science.\n",
      "\n",
      "\n",
      "\n",
      "Four very simple steps that\n",
      "\n",
      "you can use to learn anything.\n",
      "\n",
      "\n",
      "\n",
      "Now, this is easy to talk\n",
      "\n",
      "about in theory,\n",
      "\n",
      "\n",
      "\n",
      "but it's more fun to talk about\n",
      "\n",
      "in practice.\n",
      "\n",
      "\n",
      "\n",
      "So one of the things that I've wanted\n",
      "\n",
      "to learn how to do for a long time\n",
      "\n",
      "\n",
      "\n",
      "is play the ukulele.\n",
      "\n",
      "\n",
      "\n",
      "Has anybody seen\n",
      "\n",
      "Jake Shimabukuro's TEDTalk\n",
      "\n",
      "\n",
      "\n",
      "where he plays the ukulele\n",
      "\n",
      "and makes it sound like --\n",
      "\n",
      "\n",
      "\n",
      "he's like a ukulele god.\n",
      "\n",
      "\n",
      "\n",
      "It's amazing.\n",
      "\n",
      "\n",
      "\n",
      "I saw it, I was like,\n",
      "\n",
      "\"That is so cool!\"\n",
      "\n",
      "\n",
      "\n",
      "It's such a neat instrument.\n",
      "\n",
      "I would really like to learn how to play.\n",
      "\n",
      "\n",
      "\n",
      "And so I decided\n",
      "\n",
      "that to test this theory\n",
      "\n",
      "\n",
      "\n",
      "I wanted to put 20 hours\n",
      "\n",
      "into practicing ukulele\n",
      "\n",
      "\n",
      "\n",
      "and see where it got.\n",
      "\n",
      "\n",
      "\n",
      "And so the first thing\n",
      "\n",
      "about playing the ukulele is,\n",
      "\n",
      "\n",
      "\n",
      "in order to practice,\n",
      "\n",
      "you have to have one, right?\n",
      "\n",
      "\n",
      "\n",
      "So, I got an ukulele and\n",
      "\n",
      "-- My lovely assistant?\n",
      "\n",
      "\n",
      "\n",
      "(Laughter)\n",
      "\n",
      "\n",
      "\n",
      "Thank you sir.\n",
      "\n",
      "I think I need the chord here.\n",
      "\n",
      "\n",
      "\n",
      "It's not just an ukulele,\n",
      "\n",
      "it's an electric ukulele. (Laughter)\n",
      "\n",
      "\n",
      "\n",
      "Yeah.\n",
      "\n",
      "\n",
      "\n",
      "So, the first couple hours are just\n",
      "\n",
      "like the first couple hours of anything.\n",
      "\n",
      "\n",
      "\n",
      "You have to get the tools\n",
      "\n",
      "that you are using to practice.\n",
      "\n",
      "\n",
      "\n",
      "You have to make sure\n",
      "\n",
      "they're available.\n",
      "\n",
      "\n",
      "\n",
      "My ukulele didn't come\n",
      "\n",
      "with strings attached.\n",
      "\n",
      "\n",
      "\n",
      "I had to figure out\n",
      "\n",
      "how to put those on.\n",
      "\n",
      "\n",
      "\n",
      "Like, that's kind of important, right?\n",
      "\n",
      "\n",
      "\n",
      "And learning how to tune,\n",
      "\n",
      "learning how to make sure\n",
      "\n",
      "\n",
      "\n",
      "that all of the things\n",
      "\n",
      "that need to be done\n",
      "\n",
      "\n",
      "\n",
      "in order to start practicing\n",
      "\n",
      "get done, right?\n",
      "\n",
      "\n",
      "\n",
      "Now, one of the things when I was\n",
      "\n",
      "ready to actually start practicing\n",
      "\n",
      "\n",
      "\n",
      "was I looked in online databases\n",
      "\n",
      "and songbooks for how to play songs.\n",
      "\n",
      "\n",
      "\n",
      "And they say, okay, ukuleles, you can\n",
      "\n",
      "play more than one string at a time,\n",
      "\n",
      "\n",
      "\n",
      "so you can play chords, that's cool,\n",
      "\n",
      "\n",
      "\n",
      "you are accompanying yourself,\n",
      "\n",
      "yay you. (Laughter)\n",
      "\n",
      "\n",
      "\n",
      "And when I started looking at songs,\n",
      "\n",
      "\n",
      "\n",
      "I had an ukulele chord book\n",
      "\n",
      "that had like hundreds of chords.\n",
      "\n",
      "\n",
      "\n",
      "Looking at this and\n",
      "\n",
      "\"Wow, that's intimidating\".\n",
      "\n",
      "\n",
      "\n",
      "But when you look at the actual songs,\n",
      "\n",
      "\n",
      "\n",
      "you see the same chords\n",
      "\n",
      "over and over, right?\n",
      "\n",
      "\n",
      "\n",
      "As it turns out, playing the ukulele\n",
      "\n",
      "is kind of like doing anything,\n",
      "\n",
      "\n",
      "\n",
      "There's a very small set of things\n",
      "\n",
      "that are really important\n",
      "\n",
      "\n",
      "\n",
      "and techniques that you'll use\n",
      "\n",
      "all the time.\n",
      "\n",
      "\n",
      "\n",
      "And in most songs\n",
      "\n",
      "you'll use four, maybe five chords,\n",
      "\n",
      "\n",
      "\n",
      "and that's it, that's the song.\n",
      "\n",
      "\n",
      "\n",
      "You don't have to know hundreds,\n",
      "\n",
      "as long as you know the four or the five.\n",
      "\n",
      "\n",
      "\n",
      "So, while I was doing my research,\n",
      "\n",
      "\n",
      "\n",
      "I found a wonderful little medley\n",
      "\n",
      "of pop songs\n",
      "\n",
      "\n",
      "\n",
      "by a band called Axis of Awesome.\n",
      "\n",
      "(Whistles)\n",
      "\n",
      "\n",
      "\n",
      "-- Somebody knows it. --\n",
      "\n",
      "\n",
      "\n",
      "And what Axis of Awesome says\n",
      "\n",
      "is that you can learn,\n",
      "\n",
      "\n",
      "\n",
      "or you can play pretty much\n",
      "\n",
      "any pop song of the past five decades,\n",
      "\n",
      "\n",
      "\n",
      "if you know four chords,\n",
      "\n",
      "\n",
      "\n",
      "and those chords are G, D, Em and C.\n",
      "\n",
      "\n",
      "\n",
      "Four chords pump out\n",
      "\n",
      "every pop song ever, right?\n",
      "\n",
      "\n",
      "\n",
      "So I thought, this is cool!\n",
      "\n",
      "\n",
      "\n",
      "I would like to play\n",
      "\n",
      "every pop song ever. (Laughter)\n",
      "\n",
      "\n",
      "\n",
      "So, that was the first song\n",
      "\n",
      "I decided to learn,\n",
      "\n",
      "\n",
      "\n",
      "and I would like to actually\n",
      "\n",
      "share it with you. Ready?\n",
      "\n",
      "\n",
      "\n",
      "(Applause)\n",
      "\n",
      "Alright.\n",
      "\n",
      "\n",
      "\n",
      "(Music)\n",
      "\n",
      "\n",
      "\n",
      "(Singing)\n",
      "\n",
      "Just a small town girl,\n",
      "\n",
      "\n",
      "\n",
      "living in a lonely world,\n",
      "\n",
      "\n",
      "\n",
      "she took the midnight train\n",
      "\n",
      "going anywhere.\n",
      "\n",
      "\n",
      "\n",
      "I heard that you settled down,\n",
      "\n",
      "(Laughter)\n",
      "\n",
      "\n",
      "\n",
      "that you found a girl,\n",
      "\n",
      "\n",
      "\n",
      "that you're married now.\n",
      "\n",
      "\n",
      "\n",
      "Every night in my dreams\n",
      "\n",
      "(Laughter)\n",
      "\n",
      "\n",
      "\n",
      "I see you, I feel you,\n",
      "\n",
      "\n",
      "\n",
      "that is how I know you go on.\n",
      "\n",
      "(Laughter)\n",
      "\n",
      "\n",
      "\n",
      "I won't hesitate no more, no more.\n",
      "\n",
      "It cannot wait, I'm yours.\n",
      "\n",
      "\n",
      "\n",
      "'Cause you were amazing,\n",
      "\n",
      "we did amazing things.\n",
      "\n",
      "\n",
      "\n",
      "If I could, then I would,\n",
      "\n",
      "I'd go wherever you will --\n",
      "\n",
      "\n",
      "\n",
      "Can you feel the love tonight.\n",
      "\n",
      "(Laughter)\n",
      "\n",
      "\n",
      "\n",
      "I can't live with or without you.\n",
      "\n",
      "\n",
      "\n",
      "When I find myself --\n",
      "\n",
      "\n",
      "\n",
      "When I find myself in times of trouble,\n",
      "\n",
      "mother Mary comes to me,\n",
      "\n",
      "\n",
      "\n",
      "Sometimes I feel like I don't have partner.\n",
      "\n",
      "No woman, no cry.\n",
      "\n",
      "\n",
      "\n",
      "Yeah mama, this surely is a dream.\n",
      "\n",
      "\n",
      "\n",
      "I come from a land down under.\n",
      "\n",
      "(Laughter)\n",
      "\n",
      "\n",
      "\n",
      "Once a jolly swagman\n",
      "\n",
      "camped by a billabong.\n",
      "\n",
      "\n",
      "\n",
      "Hey, I just met you, and this is crazy,\n",
      "\n",
      "(Laughter)\n",
      "\n",
      "\n",
      "\n",
      "but here's my number, so call me\n",
      "\n",
      "\n",
      "\n",
      "Hey sexy lady, op, op, op, op,\n",
      "\n",
      "oppan gangnam style. (Laughter)\n",
      "\n",
      "\n",
      "\n",
      "It's time to say goodbye.\n",
      "\n",
      "\n",
      "\n",
      "Closing time, every new beginning\n",
      "\n",
      "comes from some other beginning's end.\n",
      "\n",
      "\n",
      "\n",
      "(Singing and music ends)\n",
      "\n",
      "(Applause)\n",
      "\n",
      "\n",
      "\n",
      "Thank you, thank you.\n",
      "\n",
      "\n",
      "\n",
      "I love that song.\n",
      "\n",
      "(Laughter)\n",
      "\n",
      "\n",
      "\n",
      "And I have a secret to share with you.\n",
      "\n",
      "\n",
      "\n",
      "So, by playing that song for you,\n",
      "\n",
      "\n",
      "\n",
      "I just hit my twentieth hour\n",
      "\n",
      "of practicing the ukulele.\n",
      "\n",
      "\n",
      "\n",
      "(Applause)\n",
      "\n",
      "Thank you.\n",
      "\n",
      "\n",
      "\n",
      "And so it's amazing, pretty much\n",
      "\n",
      "anything that you can think of,\n",
      "\n",
      "\n",
      "\n",
      "what do you want to do.\n",
      "\n",
      "\n",
      "\n",
      "The major barrier to learn\n",
      "\n",
      "something new is not intellectual,\n",
      "\n",
      "\n",
      "\n",
      "it's not the process of you learning\n",
      "\n",
      "a bunch of little tips or tricks or things.\n",
      "\n",
      "\n",
      "\n",
      "The major barrier's emotional.\n",
      "\n",
      "We're scared.\n",
      "\n",
      "\n",
      "\n",
      "Feeling stupid doesn't feel good,\n",
      "\n",
      "\n",
      "\n",
      "in the beginning of learning\n",
      "\n",
      "anything new\n",
      "\n",
      "\n",
      "\n",
      "you feel really stupid.\n",
      "\n",
      "\n",
      "\n",
      "So the major barrier's not intellectual,\n",
      "\n",
      "it's emotional.\n",
      "\n",
      "\n",
      "\n",
      "But put 20 hours into anything.\n",
      "\n",
      "\n",
      "\n",
      "It doesn't matter.\n",
      "\n",
      "What do you want to learn?\n",
      "\n",
      "\n",
      "\n",
      "Do you want to learn a language?\n",
      "\n",
      "Want to learn how to cook?\n",
      "\n",
      "\n",
      "\n",
      "Want to learn how to draw?\n",
      "\n",
      "\n",
      "\n",
      "What turns you on?\n",
      "\n",
      "What lights you up?\n",
      "\n",
      "\n",
      "\n",
      "Go out and do that thing.\n",
      "\n",
      "It only takes 20 hours.\n",
      "\n",
      "\n",
      "\n",
      "Have fun.\n",
      "\n",
      "\n",
      "\n",
      "(Applause)\n",
      "\n",
      "\n",
      "\n"
     ]
    },
    {
     "data": {
      "text/plain": [
       "[]"
      ]
     },
     "execution_count": 4,
     "metadata": {},
     "output_type": "execute_result"
    }
   ],
   "source": [
    "import json\n",
    "path = '/Users/wenyunxin/documents/github/computer-science-practicing/first 20 hours.txt'\n",
    "with open(path, 'r', encoding='utf-8') as f:\n",
    "    for line in f:    # f once has been used, the file is closed\n",
    "        print(line)\n",
    "    lines = f.readlines()    # This will get a blank list\n",
    "\n",
    "lines"
   ]
  },
  {
   "cell_type": "code",
   "execution_count": 5,
   "id": "e67ff8c2-2f7e-49ac-9029-d7851a1422fe",
   "metadata": {},
   "outputs": [
    {
     "data": {
      "text/plain": [
       "27"
      ]
     },
     "execution_count": 5,
     "metadata": {},
     "output_type": "execute_result"
    },
    {
     "data": {
      "text/plain": [
       "[3, 2, 1]"
      ]
     },
     "execution_count": 5,
     "metadata": {},
     "output_type": "execute_result"
    },
    {
     "data": {
      "text/plain": [
       "\u001b[0;31mType:\u001b[0m        list\n",
       "\u001b[0;31mString form:\u001b[0m [3, 2, 1]\n",
       "\u001b[0;31mLength:\u001b[0m      3\n",
       "\u001b[0;31mDocstring:\u001b[0m  \n",
       "Built-in mutable sequence.\n",
       "\n",
       "If no argument is given, the constructor creates a new empty list.\n",
       "The argument must be an iterable if specified."
      ]
     },
     "metadata": {},
     "output_type": "display_data"
    }
   ],
   "source": [
    "# tab completion\n",
    "an_apple = 27\n",
    "an_example = 42\n",
    "an_apple\n",
    "\n",
    "b = [1, 2, 3]\n",
    "b.reverse()\n",
    "b\n",
    "\n",
    "b?"
   ]
  },
  {
   "cell_type": "code",
   "execution_count": 6,
   "id": "34f30373-b66e-444f-815c-c0708d4ccd57",
   "metadata": {},
   "outputs": [
    {
     "data": {
      "text/plain": [
       "\u001b[0;31mSignature:\u001b[0m \u001b[0mprint\u001b[0m\u001b[0;34m(\u001b[0m\u001b[0;34m*\u001b[0m\u001b[0margs\u001b[0m\u001b[0;34m,\u001b[0m \u001b[0msep\u001b[0m\u001b[0;34m=\u001b[0m\u001b[0;34m' '\u001b[0m\u001b[0;34m,\u001b[0m \u001b[0mend\u001b[0m\u001b[0;34m=\u001b[0m\u001b[0;34m'\\n'\u001b[0m\u001b[0;34m,\u001b[0m \u001b[0mfile\u001b[0m\u001b[0;34m=\u001b[0m\u001b[0;32mNone\u001b[0m\u001b[0;34m,\u001b[0m \u001b[0mflush\u001b[0m\u001b[0;34m=\u001b[0m\u001b[0;32mFalse\u001b[0m\u001b[0;34m)\u001b[0m\u001b[0;34m\u001b[0m\u001b[0;34m\u001b[0m\u001b[0m\n",
       "\u001b[0;31mDocstring:\u001b[0m\n",
       "Prints the values to a stream, or to sys.stdout by default.\n",
       "\n",
       "sep\n",
       "  string inserted between values, default a space.\n",
       "end\n",
       "  string appended after the last value, default a newline.\n",
       "file\n",
       "  a file-like object (stream); defaults to the current sys.stdout.\n",
       "flush\n",
       "  whether to forcibly flush the stream.\n",
       "\u001b[0;31mType:\u001b[0m      builtin_function_or_method"
      ]
     },
     "metadata": {},
     "output_type": "display_data"
    }
   ],
   "source": [
    "# introspection\n",
    "print?"
   ]
  },
  {
   "cell_type": "code",
   "execution_count": 7,
   "id": "7d38ff73-6e13-4da7-90ad-9c901a6d3009",
   "metadata": {},
   "outputs": [
    {
     "data": {
      "text/plain": [
       "np.__loader__\n",
       "np.load\n",
       "np.loadtxt"
      ]
     },
     "metadata": {},
     "output_type": "display_data"
    }
   ],
   "source": [
    "# ? combined with *\n",
    "import numpy as np\n",
    "np.*load*?"
   ]
  },
  {
   "cell_type": "markdown",
   "id": "f618d797-515e-48cf-a905-f156f9e4d974",
   "metadata": {},
   "source": [
    "## Python language basics"
   ]
  },
  {
   "cell_type": "markdown",
   "id": "f8720813-5c38-40d4-b15a-1d9cc1e600a6",
   "metadata": {},
   "source": [
    "*Four spaces* as default indentation in Python programming is recommended.\n",
    "\n",
    "Every number, string, data structure, function, class, module, and so on, that exists in Python interpreter is an *object*. Each object has an associated *type* (e.g. integer, string, or function) and internal data.\n",
    "\n",
    "Almost every object in Python has attached functions, known as *methods*, that have access to the object's internal contents. They are usually called by using\n",
    "\n",
    "```Python\n",
    "obj.some_method(x, y, z)\n",
    "```"
   ]
  },
  {
   "cell_type": "markdown",
   "id": "8919c5dc-054f-4477-aa6f-8a3b990f502d",
   "metadata": {},
   "source": [
    "Understanding *the semantics of referencing* in Python, and when, how, why data is copied, is especially critical when you are working with large datasets in Python."
   ]
  },
  {
   "cell_type": "code",
   "execution_count": 8,
   "id": "60757c59-869a-431b-926e-b5083b297b74",
   "metadata": {},
   "outputs": [
    {
     "data": {
      "text/plain": [
       "4373111040"
      ]
     },
     "execution_count": 8,
     "metadata": {},
     "output_type": "execute_result"
    },
    {
     "data": {
      "text/plain": [
       "4373111040"
      ]
     },
     "execution_count": 8,
     "metadata": {},
     "output_type": "execute_result"
    },
    {
     "data": {
      "text/plain": [
       "True"
      ]
     },
     "execution_count": 8,
     "metadata": {},
     "output_type": "execute_result"
    },
    {
     "data": {
      "text/plain": [
       "True"
      ]
     },
     "execution_count": 8,
     "metadata": {},
     "output_type": "execute_result"
    },
    {
     "data": {
      "text/plain": [
       "True"
      ]
     },
     "execution_count": 8,
     "metadata": {},
     "output_type": "execute_result"
    },
    {
     "data": {
      "text/plain": [
       "4317744280"
      ]
     },
     "execution_count": 8,
     "metadata": {},
     "output_type": "execute_result"
    },
    {
     "data": {
      "text/plain": [
       "4359433488"
      ]
     },
     "execution_count": 8,
     "metadata": {},
     "output_type": "execute_result"
    },
    {
     "data": {
      "text/plain": [
       "int"
      ]
     },
     "execution_count": 8,
     "metadata": {},
     "output_type": "execute_result"
    },
    {
     "data": {
      "text/plain": [
       "float"
      ]
     },
     "execution_count": 8,
     "metadata": {},
     "output_type": "execute_result"
    },
    {
     "data": {
      "text/plain": [
       "False"
      ]
     },
     "execution_count": 8,
     "metadata": {},
     "output_type": "execute_result"
    },
    {
     "data": {
      "text/plain": [
       "False"
      ]
     },
     "execution_count": 8,
     "metadata": {},
     "output_type": "execute_result"
    },
    {
     "data": {
      "text/plain": [
       "True"
      ]
     },
     "execution_count": 8,
     "metadata": {},
     "output_type": "execute_result"
    }
   ],
   "source": [
    "a = [1, 2, 3]\n",
    "id(a)\n",
    "b = a\n",
    "id(b)\n",
    "id(b) == id(a)\n",
    "b is a\n",
    "b == a\n",
    "\n",
    "c = 3\n",
    "d = 3.0\n",
    "id(c)\n",
    "id(d)\n",
    "type(c)\n",
    "type(d)\n",
    "id(c) == id(d)\n",
    "c is d    # False, they reference different objects, e.g. different memory addresses\n",
    "c == d    # True, the value of c and the value of d are equal. When comparing integers with float numbers,\n",
    "          # The integers first transform to float numbers"
   ]
  },
  {
   "cell_type": "markdown",
   "id": "e51b55e7-3203-461f-9404-dd99552241e1",
   "metadata": {},
   "source": [
    "Assignment is also referred to as *binding*, as we are binding a name to an object. *Variables names* that have been assigned may occasionally be referred to as *bound variables*."
   ]
  },
  {
   "cell_type": "markdown",
   "id": "6cfbfeb3-b4c7-4a35-b3fb-4046b590a464",
   "metadata": {},
   "source": [
    "Python is a *strong typed* language, which means that every object has a specific type (or *class*), and implicit conversions will occur only in certain permitted circustances, such as:"
   ]
  },
  {
   "cell_type": "code",
   "execution_count": 9,
   "id": "45bf4edc-0f58-4465-8e23-dc9aa13c82df",
   "metadata": {},
   "outputs": [
    {
     "data": {
      "text/plain": [
       "6.0"
      ]
     },
     "execution_count": 9,
     "metadata": {},
     "output_type": "execute_result"
    }
   ],
   "source": [
    "# 3 wii be implicitly converted to a float number for addition operation\n",
    "3 + 3.0"
   ]
  },
  {
   "cell_type": "markdown",
   "id": "eaf761ae-1f64-4410-8f48-2f53506a0649",
   "metadata": {},
   "source": [
    "`isinstance` can accept *a tuple of types* if you want to check that an object's type is among those present in the tuple"
   ]
  },
  {
   "cell_type": "code",
   "execution_count": 10,
   "id": "8db3afa5-a485-4abe-af52-f5896da60551",
   "metadata": {},
   "outputs": [
    {
     "data": {
      "text/plain": [
       "True"
      ]
     },
     "execution_count": 10,
     "metadata": {},
     "output_type": "execute_result"
    },
    {
     "data": {
      "text/plain": [
       "True"
      ]
     },
     "execution_count": 10,
     "metadata": {},
     "output_type": "execute_result"
    },
    {
     "data": {
      "text/plain": [
       "False"
      ]
     },
     "execution_count": 10,
     "metadata": {},
     "output_type": "execute_result"
    },
    {
     "data": {
      "text/plain": [
       "False"
      ]
     },
     "execution_count": 10,
     "metadata": {},
     "output_type": "execute_result"
    },
    {
     "data": {
      "text/plain": [
       "True"
      ]
     },
     "execution_count": 10,
     "metadata": {},
     "output_type": "execute_result"
    }
   ],
   "source": [
    "a = 3\n",
    "b = 4.5\n",
    "\n",
    "# Why do these two return True?\n",
    "isinstance(a, (int, float))\n",
    "isinstance(b, (int, float))\n",
    "\n",
    "issubclass(int, float)\n",
    "issubclass(float, int)\n",
    "issubclass(bool, int)"
   ]
  },
  {
   "cell_type": "code",
   "execution_count": 11,
   "id": "eb5519eb-22d4-41f9-9c8a-1f31979da868",
   "metadata": {},
   "outputs": [
    {
     "data": {
      "text/plain": [
       "<function str.split(sep=None, maxsplit=-1)>"
      ]
     },
     "execution_count": 11,
     "metadata": {},
     "output_type": "execute_result"
    },
    {
     "data": {
      "text/plain": [
       "['foo']"
      ]
     },
     "execution_count": 11,
     "metadata": {},
     "output_type": "execute_result"
    }
   ],
   "source": [
    "# Attributes and methods\n",
    "f = \"foo\"\n",
    "fs = getattr(f, \"split\")\n",
    "fs\n",
    "fs()"
   ]
  },
  {
   "cell_type": "markdown",
   "id": "98384e0c-8f93-4a74-9010-9b1dcc05ca25",
   "metadata": {},
   "source": [
    "Check if an object is iterable is to check if it implements the *iterator protocol*, this means an object has an `__iter__` magic method. A better way to check is to try using the *iter function*."
   ]
  },
  {
   "cell_type": "code",
   "execution_count": 12,
   "id": "9c6de8c9-0631-466c-9984-d6ed588b8bb6",
   "metadata": {},
   "outputs": [
    {
     "data": {
      "text/plain": [
       "True"
      ]
     },
     "execution_count": 12,
     "metadata": {},
     "output_type": "execute_result"
    }
   ],
   "source": [
    "def isiterable(obj):\n",
    "    try:\n",
    "        iter(obj)\n",
    "        return True\n",
    "    except TypeError:\n",
    "        return False\n",
    "\n",
    "a = range(10)\n",
    "isiterable(a)"
   ]
  },
  {
   "cell_type": "markdown",
   "id": "ed4ec1c0-6d68-4a7d-8106-9892d378d036",
   "metadata": {},
   "source": [
    "In Python, a *module* is simple a file with the `.py` extension containing Python code."
   ]
  },
  {
   "cell_type": "code",
   "execution_count": 13,
   "id": "7e0d104f-f04d-484e-a17f-e54100f424f5",
   "metadata": {},
   "outputs": [
    {
     "data": {
      "text/plain": [
       "3.14"
      ]
     },
     "execution_count": 13,
     "metadata": {},
     "output_type": "execute_result"
    },
    {
     "data": {
      "text/plain": [
       "6.283185307179586"
      ]
     },
     "execution_count": 13,
     "metadata": {},
     "output_type": "execute_result"
    }
   ],
   "source": [
    "import math\n",
    "round(math.pi, 2)\n",
    "math.pi * 2"
   ]
  },
  {
   "cell_type": "code",
   "execution_count": 14,
   "id": "fbdf0a65-89b1-4454-b48e-d7ada6913301",
   "metadata": {},
   "outputs": [
    {
     "data": {
      "text/plain": [
       "True"
      ]
     },
     "execution_count": 14,
     "metadata": {},
     "output_type": "execute_result"
    },
    {
     "data": {
      "text/plain": [
       "False"
      ]
     },
     "execution_count": 14,
     "metadata": {},
     "output_type": "execute_result"
    },
    {
     "data": {
      "text/plain": [
       "True"
      ]
     },
     "execution_count": 14,
     "metadata": {},
     "output_type": "execute_result"
    },
    {
     "data": {
      "text/plain": [
       "True"
      ]
     },
     "execution_count": 14,
     "metadata": {},
     "output_type": "execute_result"
    },
    {
     "data": {
      "text/plain": [
       "True"
      ]
     },
     "execution_count": 14,
     "metadata": {},
     "output_type": "execute_result"
    },
    {
     "data": {
      "text/plain": [
       "False"
      ]
     },
     "execution_count": 14,
     "metadata": {},
     "output_type": "execute_result"
    },
    {
     "data": {
      "text/plain": [
       "True"
      ]
     },
     "execution_count": 14,
     "metadata": {},
     "output_type": "execute_result"
    }
   ],
   "source": [
    "# Use the keyword is to check if two variables refer to the same object\n",
    "a = [1, 2, 3]\n",
    "b = a\n",
    "b is a\n",
    "\n",
    "c = list(a)    # Since the list function always creates a new Python list (i.e., a copy)\n",
    "c is a    # This will return False\n",
    "\n",
    "# The == operation is to check if two objects has the same value\n",
    "b == a\n",
    "c == a\n",
    "3 == 3.0\n",
    "\n",
    "# A common use of is and is not is to check if a variable is None, since there is only one instance of None\n",
    "d = None\n",
    "a is None\n",
    "d is None"
   ]
  },
  {
   "cell_type": "code",
   "execution_count": 15,
   "id": "9f374861-6be5-4fbb-94b9-51ba4850c857",
   "metadata": {},
   "outputs": [
    {
     "data": {
      "text/plain": [
       "True"
      ]
     },
     "execution_count": 15,
     "metadata": {},
     "output_type": "execute_result"
    },
    {
     "data": {
      "text/plain": [
       "[1, 3, 2]"
      ]
     },
     "execution_count": 15,
     "metadata": {},
     "output_type": "execute_result"
    }
   ],
   "source": [
    "a_list = [1, 3]\n",
    "def list_add(alist):\n",
    "    alist.append(2)\n",
    "    return True\n",
    "\n",
    "list_add(a_list)\n",
    "a_list"
   ]
  },
  {
   "cell_type": "code",
   "execution_count": 16,
   "id": "b26da8d0-0709-448d-9b6e-14e8a4f3acae",
   "metadata": {},
   "outputs": [
    {
     "data": {
      "text/plain": [
       "3"
      ]
     },
     "execution_count": 16,
     "metadata": {},
     "output_type": "execute_result"
    },
    {
     "data": {
      "text/plain": [
       "6"
      ]
     },
     "execution_count": 16,
     "metadata": {},
     "output_type": "execute_result"
    }
   ],
   "source": [
    "# string\n",
    "c = \"\"\"\n",
    "This is a longer string that\n",
    "spans multiple lines\n",
    "\"\"\"\n",
    "\n",
    "c.count(\"\\n\")\n",
    "c.count(\"s\")"
   ]
  },
  {
   "cell_type": "markdown",
   "id": "8f20c6a6-4bc8-4426-adf5-cc63a444e356",
   "metadata": {},
   "source": [
    "Strings are a sequence of *Unicode characters* and therefore can be treated like other sequences, such as lists and tuples."
   ]
  },
  {
   "cell_type": "code",
   "execution_count": 17,
   "id": "cd5652a0-4c83-4a70-9cc8-1287daccae89",
   "metadata": {},
   "outputs": [
    {
     "data": {
      "text/plain": [
       "['P', 'y', 't', 'h', 'o', 'n']"
      ]
     },
     "execution_count": 17,
     "metadata": {},
     "output_type": "execute_result"
    },
    {
     "name": "stdout",
     "output_type": "stream",
     "text": [
      "P y t h o n "
     ]
    },
    {
     "data": {
      "text/plain": [
       "'88.46 Argentine Pesos are worth $100.'"
      ]
     },
     "execution_count": 17,
     "metadata": {},
     "output_type": "execute_result"
    }
   ],
   "source": [
    "s = \"Python\"\n",
    "\n",
    "list(s)\n",
    "\n",
    "for character in s:\n",
    "    print(character, end=\" \")\n",
    "\n",
    "# string templates formatted\n",
    "template = \"{0:.2f} {1:s} are worth ${2:d}.\"\n",
    "template.format(88.46, \"Argentine Pesos\", 100)"
   ]
  },
  {
   "cell_type": "code",
   "execution_count": 18,
   "id": "c3707771-288e-4a11-810a-a4c42aac4ef2",
   "metadata": {},
   "outputs": [
    {
     "data": {
      "text/plain": [
       "'español'"
      ]
     },
     "execution_count": 18,
     "metadata": {},
     "output_type": "execute_result"
    },
    {
     "data": {
      "text/plain": [
       "b'espa\\xc3\\xb1ol'"
      ]
     },
     "execution_count": 18,
     "metadata": {},
     "output_type": "execute_result"
    },
    {
     "data": {
      "text/plain": [
       "bytes"
      ]
     },
     "execution_count": 18,
     "metadata": {},
     "output_type": "execute_result"
    },
    {
     "data": {
      "text/plain": [
       "'español'"
      ]
     },
     "execution_count": 18,
     "metadata": {},
     "output_type": "execute_result"
    }
   ],
   "source": [
    "# Convert the Unicode string to its UTF-8 bytes representation using the encode method\n",
    "val = \"español\"\n",
    "val\n",
    "\n",
    "val_utf8 = val.encode(\"utf-8\")\n",
    "val_utf8\n",
    "type(val_utf8)\n",
    "\n",
    "# Go back using the decode method\n",
    "val_utf8.decode(\"utf-8\")"
   ]
  },
  {
   "cell_type": "code",
   "execution_count": 19,
   "id": "b290ef63-81c4-4a29-92a8-29d3bf1a6270",
   "metadata": {},
   "outputs": [
    {
     "data": {
      "text/plain": [
       "0"
      ]
     },
     "execution_count": 19,
     "metadata": {},
     "output_type": "execute_result"
    },
    {
     "data": {
      "text/plain": [
       "1"
      ]
     },
     "execution_count": 19,
     "metadata": {},
     "output_type": "execute_result"
    },
    {
     "data": {
      "text/plain": [
       "True"
      ]
     },
     "execution_count": 19,
     "metadata": {},
     "output_type": "execute_result"
    }
   ],
   "source": [
    "# Boolean is subclass of int\n",
    "int(False)\n",
    "int(True)\n",
    "issubclass(bool, int)"
   ]
  },
  {
   "cell_type": "code",
   "execution_count": 20,
   "id": "199814fa-fba9-45b4-9cf9-511c2761f15d",
   "metadata": {},
   "outputs": [
    {
     "data": {
      "text/plain": [
       "NoneType"
      ]
     },
     "execution_count": 20,
     "metadata": {},
     "output_type": "execute_result"
    },
    {
     "data": {
      "text/plain": [
       "7"
      ]
     },
     "execution_count": 20,
     "metadata": {},
     "output_type": "execute_result"
    },
    {
     "data": {
      "text/plain": [
       "35"
      ]
     },
     "execution_count": 20,
     "metadata": {},
     "output_type": "execute_result"
    },
    {
     "data": {
      "text/plain": [
       "9"
      ]
     },
     "execution_count": 20,
     "metadata": {},
     "output_type": "execute_result"
    }
   ],
   "source": [
    "# None is the Python null value type\n",
    "type(None)\n",
    "\n",
    "# None is also a common default value for function arguments\n",
    "def add_and_maybe_multiply(a, b, c=None):\n",
    "    result = a + b\n",
    "    if c is not None:\n",
    "        result = result * c\n",
    "    return result\n",
    "\n",
    "add_and_maybe_multiply(3, 4)\n",
    "add_and_maybe_multiply(3, 4, 5)\n",
    "add_and_maybe_multiply(1, 2, c=3)"
   ]
  },
  {
   "cell_type": "code",
   "execution_count": 21,
   "id": "52a3c12a-2d4f-4097-b5d1-572dbab3c940",
   "metadata": {},
   "outputs": [
    {
     "data": {
      "text/plain": [
       "datetime.datetime(2023, 9, 4, 21, 6, 52, 275402)"
      ]
     },
     "execution_count": 21,
     "metadata": {},
     "output_type": "execute_result"
    },
    {
     "data": {
      "text/plain": [
       "4"
      ]
     },
     "execution_count": 21,
     "metadata": {},
     "output_type": "execute_result"
    },
    {
     "data": {
      "text/plain": [
       "21"
      ]
     },
     "execution_count": 21,
     "metadata": {},
     "output_type": "execute_result"
    },
    {
     "data": {
      "text/plain": [
       "datetime.date(2023, 9, 4)"
      ]
     },
     "execution_count": 21,
     "metadata": {},
     "output_type": "execute_result"
    },
    {
     "data": {
      "text/plain": [
       "datetime.time(21, 6, 52, 275402)"
      ]
     },
     "execution_count": 21,
     "metadata": {},
     "output_type": "execute_result"
    },
    {
     "data": {
      "text/plain": [
       "'2023-09-04 21:06'"
      ]
     },
     "execution_count": 21,
     "metadata": {},
     "output_type": "execute_result"
    },
    {
     "data": {
      "text/plain": [
       "datetime.datetime(2023, 10, 1, 0, 0)"
      ]
     },
     "execution_count": 21,
     "metadata": {},
     "output_type": "execute_result"
    }
   ],
   "source": [
    "# The datetime library provides datatime, date, and time types\n",
    "from datetime import datetime, date, time\n",
    "dt = datetime.today()\n",
    "dt\n",
    "dt.day\n",
    "dt.hour\n",
    "\n",
    "dt.date()    # Extract the equivalent date\n",
    "dt.time()    # Extract the equivalent time\n",
    "\n",
    "# The strftime method formats a datetime as a string\n",
    "dt.strftime(\"%Y-%m-%d %H:%M\")\n",
    "\n",
    "# Strings can be converted (parsed) into datetime objects with the strptime function\n",
    "datetime.strptime(\"20231001\", \"%Y%m%d\")"
   ]
  },
  {
   "cell_type": "code",
   "execution_count": 22,
   "id": "865d1c16-54f3-4df4-a377-b165e93330e2",
   "metadata": {},
   "outputs": [
    {
     "data": {
      "text/plain": [
       "12"
      ]
     },
     "execution_count": 22,
     "metadata": {},
     "output_type": "execute_result"
    }
   ],
   "source": [
    "# continue keyword in for loops\n",
    "sequence = [1, 2, None, 4, None, 5]\n",
    "total = 0\n",
    "for item in sequence:\n",
    "    if item is None:\n",
    "        continue    # continue to implement the for statement\n",
    "    total += item\n",
    "\n",
    "total"
   ]
  },
  {
   "cell_type": "code",
   "execution_count": 23,
   "id": "39ca4284-c8e6-43e4-8136-c3829933e849",
   "metadata": {},
   "outputs": [
    {
     "data": {
      "text/plain": [
       "13"
      ]
     },
     "execution_count": 23,
     "metadata": {},
     "output_type": "execute_result"
    }
   ],
   "source": [
    "# break keyword in for loops\n",
    "sequence = [1, 2, 0, 4, 6, 5, 2, 1]\n",
    "total_until_5 = 0\n",
    "for value in sequence:\n",
    "    if value == 5:\n",
    "        break    # jump out of the for-loop\n",
    "    total_until_5 += value\n",
    "\n",
    "total_until_5"
   ]
  },
  {
   "cell_type": "code",
   "execution_count": 24,
   "id": "1f7d7069-cd61-4e1e-89bc-b9582c7d9ae5",
   "metadata": {},
   "outputs": [
    {
     "name": "stdout",
     "output_type": "stream",
     "text": [
      "4\n"
     ]
    }
   ],
   "source": [
    "# while loop\n",
    "x = 256\n",
    "total = 0\n",
    "while x > 0:\n",
    "    if total > 500:\n",
    "        break\n",
    "    total += x\n",
    "    x = x // 2\n",
    "\n",
    "print(x)"
   ]
  },
  {
   "cell_type": "code",
   "execution_count": 25,
   "id": "2f8b13e1-5aba-4fb1-adb2-b93e53edab58",
   "metadata": {},
   "outputs": [
    {
     "data": {
      "text/plain": [
       "range(0, 10)"
      ]
     },
     "execution_count": 25,
     "metadata": {},
     "output_type": "execute_result"
    },
    {
     "data": {
      "text/plain": [
       "range(0, 10)"
      ]
     },
     "execution_count": 25,
     "metadata": {},
     "output_type": "execute_result"
    },
    {
     "data": {
      "text/plain": [
       "range(0, 10)"
      ]
     },
     "execution_count": 25,
     "metadata": {},
     "output_type": "execute_result"
    },
    {
     "data": {
      "text/plain": [
       "[5, 4, 3, 2, 1]"
      ]
     },
     "execution_count": 25,
     "metadata": {},
     "output_type": "execute_result"
    }
   ],
   "source": [
    "# range function\n",
    "range(10)\n",
    "range(0, 10)\n",
    "range(0, 10, 1)\n",
    "\n",
    "# Step can be negative\n",
    "list(range(5, 0, -1))"
   ]
  },
  {
   "cell_type": "code",
   "execution_count": 26,
   "id": "9494a228-5a37-4a37-9c21-4d960c74ad9a",
   "metadata": {},
   "outputs": [
    {
     "name": "stdout",
     "output_type": "stream",
     "text": [
      "Not found any even number\n",
      "Found an even number: 4\n",
      "Found an even number: 2\n"
     ]
    }
   ],
   "source": [
    "# else keyword in for loops\n",
    "def has_even_number(numbers):\n",
    "    for num in numbers:\n",
    "        if num % 2 == 0:    # This is a condition statement inside a for-loop\n",
    "            print(f\"Found an even number: {num}\")\n",
    "            break    # jump out of the function\n",
    "    else:    # co-cooperate with the condition statement inside the for-loop above\n",
    "        print(\"Not found any even number\")\n",
    "\n",
    "num1 = [1, 3, 5, 7, 9]\n",
    "num2 = [1, 3, 4, 5, 7, 9]\n",
    "num3 = [2, 4, 6, 8, 10]\n",
    "has_even_number(num1)\n",
    "has_even_number(num2)\n",
    "has_even_number(num3)"
   ]
  },
  {
   "cell_type": "markdown",
   "id": "e44dba3a-a5c3-43a0-ae50-d1cc4048a702",
   "metadata": {},
   "source": [
    "## Built-in data structures, functions, and files"
   ]
  },
  {
   "cell_type": "markdown",
   "id": "03d24aef-46df-4863-bc6c-727b0c697bd0",
   "metadata": {},
   "source": [
    "### Data Structures and Sequences"
   ]
  },
  {
   "cell_type": "code",
   "execution_count": 27,
   "id": "0ca7dee6-98e1-434e-b96e-8b4058187d23",
   "metadata": {},
   "outputs": [
    {
     "data": {
      "text/plain": [
       "(4, 5, 6)"
      ]
     },
     "execution_count": 27,
     "metadata": {},
     "output_type": "execute_result"
    },
    {
     "data": {
      "text/plain": [
       "tuple"
      ]
     },
     "execution_count": 27,
     "metadata": {},
     "output_type": "execute_result"
    },
    {
     "data": {
      "text/plain": [
       "(4, 5, 6)"
      ]
     },
     "execution_count": 27,
     "metadata": {},
     "output_type": "execute_result"
    },
    {
     "data": {
      "text/plain": [
       "tuple"
      ]
     },
     "execution_count": 27,
     "metadata": {},
     "output_type": "execute_result"
    },
    {
     "data": {
      "text/plain": [
       "(4, 0, 2)"
      ]
     },
     "execution_count": 27,
     "metadata": {},
     "output_type": "execute_result"
    },
    {
     "data": {
      "text/plain": [
       "('s', 't', 'r', 'i', 'n', 'g')"
      ]
     },
     "execution_count": 27,
     "metadata": {},
     "output_type": "execute_result"
    },
    {
     "data": {
      "text/plain": [
       "tuple"
      ]
     },
     "execution_count": 27,
     "metadata": {},
     "output_type": "execute_result"
    },
    {
     "data": {
      "text/plain": [
       "'s'"
      ]
     },
     "execution_count": 27,
     "metadata": {},
     "output_type": "execute_result"
    },
    {
     "data": {
      "text/plain": [
       "1"
      ]
     },
     "execution_count": 27,
     "metadata": {},
     "output_type": "execute_result"
    },
    {
     "data": {
      "text/plain": [
       "2"
      ]
     },
     "execution_count": 27,
     "metadata": {},
     "output_type": "execute_result"
    },
    {
     "data": {
      "text/plain": [
       "[3, 4, 5]"
      ]
     },
     "execution_count": 27,
     "metadata": {},
     "output_type": "execute_result"
    },
    {
     "data": {
      "text/plain": [
       "[3, 4, 5]"
      ]
     },
     "execution_count": 27,
     "metadata": {},
     "output_type": "execute_result"
    },
    {
     "data": {
      "text/plain": [
       "1"
      ]
     },
     "execution_count": 27,
     "metadata": {},
     "output_type": "execute_result"
    },
    {
     "data": {
      "text/plain": [
       "1"
      ]
     },
     "execution_count": 27,
     "metadata": {},
     "output_type": "execute_result"
    }
   ],
   "source": [
    "# A tuple is a fixed-length, immutable sequence of Python objects\n",
    "# Which once assigned, cannot be changed\n",
    "tup = (4, 5, 6)\n",
    "tup\n",
    "type(tup)\n",
    "\n",
    "# In many contexts, the parentheses of assigning to a tuple variable can be omitted\n",
    "t = 4, 5, 6\n",
    "t\n",
    "type(t)\n",
    "\n",
    "# Convert any sequence or iterator to a tuple by invoking the built-in function tuple()\n",
    "tuple([4, 0, 2])\n",
    "\n",
    "t1 = tuple('string')\n",
    "t1\n",
    "type(t1)\n",
    "\n",
    "# Tuple index\n",
    "t1[0]\n",
    "\n",
    "# *args in tuple\n",
    "values = 1, 2, 3, 4, 5\n",
    "a, b, *args = values\n",
    "a\n",
    "b\n",
    "args\n",
    "\n",
    "# Many Python programmers will use the underscore (_) for unwanted variable\n",
    "a, b, *_ = values\n",
    "_\n",
    "\n",
    "# Tuple has two common methods: index, count\n",
    "values.index(2)\n",
    "values.count(3)"
   ]
  },
  {
   "cell_type": "code",
   "execution_count": 28,
   "id": "62ffaa09-02a3-4ef3-b2cb-d015efab80e9",
   "metadata": {},
   "outputs": [
    {
     "data": {
      "text/plain": [
       "[2, 3, 7, None]"
      ]
     },
     "execution_count": 28,
     "metadata": {},
     "output_type": "execute_result"
    },
    {
     "data": {
      "text/plain": [
       "['foo', 'bar', 'baz']"
      ]
     },
     "execution_count": 28,
     "metadata": {},
     "output_type": "execute_result"
    },
    {
     "data": {
      "text/plain": [
       "['foo', 'peekaboo', 'baz']"
      ]
     },
     "execution_count": 28,
     "metadata": {},
     "output_type": "execute_result"
    },
    {
     "data": {
      "text/plain": [
       "range(0, 10)"
      ]
     },
     "execution_count": 28,
     "metadata": {},
     "output_type": "execute_result"
    },
    {
     "data": {
      "text/plain": [
       "[0, 1, 2, 3, 4, 5, 6, 7, 8, 9]"
      ]
     },
     "execution_count": 28,
     "metadata": {},
     "output_type": "execute_result"
    },
    {
     "data": {
      "text/plain": [
       "['foo', 'peekaboo', 'baz', 'dwarf']"
      ]
     },
     "execution_count": 28,
     "metadata": {},
     "output_type": "execute_result"
    },
    {
     "data": {
      "text/plain": [
       "['foo', 'red', 'peekaboo', 'baz', 'dwarf']"
      ]
     },
     "execution_count": 28,
     "metadata": {},
     "output_type": "execute_result"
    },
    {
     "data": {
      "text/plain": [
       "deque(['foo', 'red', 'peekaboo', 'baz', 'dwarf'])"
      ]
     },
     "execution_count": 28,
     "metadata": {},
     "output_type": "execute_result"
    },
    {
     "data": {
      "text/plain": [
       "collections.deque"
      ]
     },
     "execution_count": 28,
     "metadata": {},
     "output_type": "execute_result"
    },
    {
     "data": {
      "text/plain": [
       "deque(['kobe', 'foo', 'red', 'peekaboo', 'baz', 'dwarf'])"
      ]
     },
     "execution_count": 28,
     "metadata": {},
     "output_type": "execute_result"
    }
   ],
   "source": [
    "# Lists are variable length and their contents can be modified in place\n",
    "a_list = [2, 3, 7, None]\n",
    "a_list\n",
    "\n",
    "tup = (\"foo\", \"bar\", \"baz\")\n",
    "\n",
    "b_list = list(tup)\n",
    "b_list\n",
    "b_list[1] = \"peekaboo\"\n",
    "b_list\n",
    "\n",
    "# list built-in function can be used to materialize an iterator or generator expression\n",
    "gen = range(10)\n",
    "gen\n",
    "list(gen)\n",
    "\n",
    "# Adding and removing elements\n",
    "b_list.append(\"dwarf\")\n",
    "b_list\n",
    "\n",
    "b_list.insert(1, \"red\")\n",
    "b_list\n",
    "\n",
    "# insert method is computationally expensive, consider use the Standard Library collections.deque\n",
    "import collections\n",
    "c_list = collections.deque(b_list)\n",
    "c_list\n",
    "type(c_list)\n",
    "c_list.appendleft(\"kobe\")\n",
    "c_list"
   ]
  },
  {
   "cell_type": "markdown",
   "id": "b2f98d15-6362-4168-924d-ec73da961f81",
   "metadata": {},
   "source": [
    "The `Big O notation`:\n",
    "- `O(1)` - **Constant Time**: Algorithms that always take the same amount of time, regardless of the input size. An example is accessing an element in an array by index.\n",
    "- `O(log n)` - **Logarithmic Time**: Algorithms that have a runtime proportional to the logarithm of the input size. Binary search is a classic example.\n",
    "- `O(n)` - **Linear Time**: Algorithms whose runtime grows linearly with input size. Linear search is a common example.\n",
    "- `O(n log n)` - **Linearithmic Time**: Often seen in efficient sorting algorithms like merge sort and quicksort.\n",
    "- `O(n^2)` - **Quadratic Time**: Algorithms with nested loops. Bubble sort is an example.\n",
    "- `O(2^n)` - **Exponential Time**: Algorithms where the runtime doubles with each additional input. Certain recursive algorithms exhibit this behavior.\n",
    "\n",
    "The `Big O notation` also can be used to describe the space that needed for the algorithms. Steps, time, space are all kind of the computation resource.\n",
    "\n",
    "Why it matters? Understanding Big O notation is crucial for:\n",
    "- Comparing the efficiency of algorithms.\n",
    "- Making informed decisions when choosing algorithms.\n",
    "- Estimating an algorithm's behavior as data scales.\n",
    "- Optimizing code for better performance.\n",
    "- Identifying bottlenecks and areas for improvement."
   ]
  },
  {
   "cell_type": "code",
   "execution_count": 29,
   "id": "f0eb5620-78bc-4289-bf37-c1b5b854bd2d",
   "metadata": {
    "scrolled": true
   },
   "outputs": [
    {
     "data": {
      "text/plain": [
       "[<matplotlib.lines.Line2D at 0x1082c0ad0>]"
      ]
     },
     "execution_count": 29,
     "metadata": {},
     "output_type": "execute_result"
    },
    {
     "data": {
      "text/plain": [
       "Text(0.5, 1.0, 'O(1)')"
      ]
     },
     "execution_count": 29,
     "metadata": {},
     "output_type": "execute_result"
    },
    {
     "data": {
      "text/plain": [
       "<matplotlib.legend.Legend at 0x108242210>"
      ]
     },
     "execution_count": 29,
     "metadata": {},
     "output_type": "execute_result"
    },
    {
     "data": {
      "image/png": "[encoded data removed]",
      "text/plain": [
       "<Figure size 640x480 with 1 Axes>"
      ]
     },
     "metadata": {},
     "output_type": "display_data"
    }
   ],
   "source": [
    "import matplotlib.pyplot as plt\n",
    "import numpy as np\n",
    "\n",
    "# O(1) plot, constant time\n",
    "# Generate x values\n",
    "x_values = np.linspace(0, 10, 100)  # Generating 100 x values between 0 and 10\n",
    "\n",
    "# Create y values (always 1)\n",
    "y_values = np.ones_like(x_values)\n",
    "\n",
    "# Create the plot\n",
    "plt.plot(x_values, y_values, label='O(1)')\n",
    "\n",
    "# Adding labels and title\n",
    "plt.title('O(1)')\n",
    "\n",
    "# Adding a legend\n",
    "plt.legend()\n",
    "\n",
    "# Display the plot\n",
    "plt.show()"
   ]
  },
  {
   "cell_type": "code",
   "execution_count": 30,
   "id": "42c39755-7314-4d29-9ae1-0c61a18f1199",
   "metadata": {
    "scrolled": true
   },
   "outputs": [
    {
     "data": {
      "text/plain": [
       "[<matplotlib.lines.Line2D at 0x1083608d0>]"
      ]
     },
     "execution_count": 30,
     "metadata": {},
     "output_type": "execute_result"
    },
    {
     "data": {
      "text/plain": [
       "Text(0.5, 1.0, 'O(log n)')"
      ]
     },
     "execution_count": 30,
     "metadata": {},
     "output_type": "execute_result"
    },
    {
     "data": {
      "text/plain": [
       "<matplotlib.legend.Legend at 0x10830a6d0>"
      ]
     },
     "execution_count": 30,
     "metadata": {},
     "output_type": "execute_result"
    },
    {
     "data": {
      "image/png": "[encoded data removed]",
      "text/plain": [
       "<Figure size 640x480 with 1 Axes>"
      ]
     },
     "metadata": {},
     "output_type": "display_data"
    }
   ],
   "source": [
    "# plot of O(log n) - Logarithmic Time, binary search is an example\n",
    "# Generate x values\n",
    "x_values = np.linspace(1, 10, 100)  # Generating 100 x values between 1 and 1\n",
    "\n",
    "# Create y values using the logarithm function\n",
    "y_values = np.log(x_values)\n",
    "\n",
    "# Create the plot\n",
    "plt.plot(x_values, y_values, label='O(log n)')\n",
    "\n",
    "# Adding labels and title\n",
    "plt.title('O(log n)')\n",
    "\n",
    "# Adding a legend\n",
    "plt.legend()\n",
    "\n",
    "# Display the plot\n",
    "plt.show()"
   ]
  },
  {
   "cell_type": "code",
   "execution_count": 31,
   "id": "a23d8c3e-0f54-44e7-a15b-26666c28e14e",
   "metadata": {
    "scrolled": true
   },
   "outputs": [
    {
     "data": {
      "text/plain": [
       "[<matplotlib.lines.Line2D at 0x1083994d0>]"
      ]
     },
     "execution_count": 31,
     "metadata": {},
     "output_type": "execute_result"
    },
    {
     "data": {
      "text/plain": [
       "Text(0.5, 1.0, 'O(n)')"
      ]
     },
     "execution_count": 31,
     "metadata": {},
     "output_type": "execute_result"
    },
    {
     "data": {
      "text/plain": [
       "<matplotlib.legend.Legend at 0x108363410>"
      ]
     },
     "execution_count": 31,
     "metadata": {},
     "output_type": "execute_result"
    },
    {
     "data": {
      "image/png": "[encoded data removed]",
      "text/plain": [
       "<Figure size 640x480 with 1 Axes>"
      ]
     },
     "metadata": {},
     "output_type": "display_data"
    }
   ],
   "source": [
    "# O(n) - Linear Time: Algorithms whose runtime grows linearly with input size. Linear search is a common example.\n",
    "# Generate x values\n",
    "x_values = np.linspace(0, 10, 100)  # Generating 100 x values between 0 and 10\n",
    "\n",
    "# Create y values (y = x)\n",
    "y_values = x_values\n",
    "\n",
    "# Create the plot\n",
    "plt.plot(x_values, y_values, label='O(n)')\n",
    "\n",
    "# Adding labels and title\n",
    "plt.title('O(n)')\n",
    "\n",
    "# Adding a legend\n",
    "plt.legend()\n",
    "\n",
    "# Display the plot\n",
    "plt.show()"
   ]
  },
  {
   "cell_type": "code",
   "execution_count": 32,
   "id": "e79e676b-8c50-4021-a676-6cb861f44e98",
   "metadata": {
    "scrolled": true
   },
   "outputs": [
    {
     "data": {
      "text/plain": [
       "[<matplotlib.lines.Line2D at 0x108472050>]"
      ]
     },
     "execution_count": 32,
     "metadata": {},
     "output_type": "execute_result"
    },
    {
     "data": {
      "text/plain": [
       "Text(0.5, 1.0, 'O(n log n)')"
      ]
     },
     "execution_count": 32,
     "metadata": {},
     "output_type": "execute_result"
    },
    {
     "data": {
      "text/plain": [
       "<matplotlib.legend.Legend at 0x108432150>"
      ]
     },
     "execution_count": 32,
     "metadata": {},
     "output_type": "execute_result"
    },
    {
     "data": {
      "image/png": "[encoded data removed]",
      "text/plain": [
       "<Figure size 640x480 with 1 Axes>"
      ]
     },
     "metadata": {},
     "output_type": "display_data"
    }
   ],
   "source": [
    "# O(n log n) - Linearithmic Time: Often seen in efficient sorting algorithms like merge sort and quicksort.\n",
    "# Generate x values\n",
    "x_values = np.linspace(1, 10, 100)  # Generating 100 x values between 1 and 10\n",
    "\n",
    "# Create y values (y = x)\n",
    "y_values = x_values * np.log(x_values)\n",
    "\n",
    "# Create the plot\n",
    "plt.plot(x_values, y_values, label='O(n log n)')\n",
    "\n",
    "# Adding labels and title\n",
    "plt.title('O(n log n)')\n",
    "\n",
    "# Adding a legend\n",
    "plt.legend()\n",
    "\n",
    "# Display the plot\n",
    "plt.show()"
   ]
  },
  {
   "cell_type": "code",
   "execution_count": 33,
   "id": "7f838aad-a314-4ed7-b98b-b5a8176a39a8",
   "metadata": {
    "scrolled": true
   },
   "outputs": [
    {
     "data": {
      "text/plain": [
       "[<matplotlib.lines.Line2D at 0x108490450>]"
      ]
     },
     "execution_count": 33,
     "metadata": {},
     "output_type": "execute_result"
    },
    {
     "data": {
      "text/plain": [
       "Text(0.5, 1.0, 'O(n^2)')"
      ]
     },
     "execution_count": 33,
     "metadata": {},
     "output_type": "execute_result"
    },
    {
     "data": {
      "text/plain": [
       "<matplotlib.legend.Legend at 0x1084e9cd0>"
      ]
     },
     "execution_count": 33,
     "metadata": {},
     "output_type": "execute_result"
    },
    {
     "data": {
      "image/png": "[encoded data removed]",
      "text/plain": [
       "<Figure size 640x480 with 1 Axes>"
      ]
     },
     "metadata": {},
     "output_type": "display_data"
    }
   ],
   "source": [
    "# O(n^2) - Quadratic Time: Algorithms with nested loops. Bubble sort is an example.\n",
    "# Generate x values\n",
    "x_values = np.linspace(0, 10, 100)  # Generating 100 x values between 0 and 10\n",
    "\n",
    "# Create y values (y = x**2)\n",
    "y_values = x_values ** 2\n",
    "\n",
    "# Create the plot\n",
    "plt.plot(x_values, y_values, label='O(n^2)')\n",
    "\n",
    "# Adding labels and title\n",
    "plt.title('O(n^2)')\n",
    "\n",
    "# Adding a legend\n",
    "plt.legend()\n",
    "\n",
    "# Display the plot\n",
    "plt.show()"
   ]
  },
  {
   "cell_type": "code",
   "execution_count": 34,
   "id": "e729ec0e-8ddb-4e64-9626-54dc7e1d5855",
   "metadata": {},
   "outputs": [
    {
     "data": {
      "text/plain": [
       "[<matplotlib.lines.Line2D at 0x1085327d0>]"
      ]
     },
     "execution_count": 34,
     "metadata": {},
     "output_type": "execute_result"
    },
    {
     "data": {
      "text/plain": [
       "Text(0.5, 0, 'x')"
      ]
     },
     "execution_count": 34,
     "metadata": {},
     "output_type": "execute_result"
    },
    {
     "data": {
      "text/plain": [
       "Text(0, 0.5, 'y')"
      ]
     },
     "execution_count": 34,
     "metadata": {},
     "output_type": "execute_result"
    },
    {
     "data": {
      "text/plain": [
       "Text(0.5, 1.0, 'O(2^n)')"
      ]
     },
     "execution_count": 34,
     "metadata": {},
     "output_type": "execute_result"
    },
    {
     "data": {
      "text/plain": [
       "<matplotlib.legend.Legend at 0x10852b410>"
      ]
     },
     "execution_count": 34,
     "metadata": {},
     "output_type": "execute_result"
    },
    {
     "data": {
      "image/png": "[encoded data removed]",
      "text/plain": [
       "<Figure size 640x480 with 1 Axes>"
      ]
     },
     "metadata": {},
     "output_type": "display_data"
    }
   ],
   "source": [
    "# O(2^n) - Exponential Time: Algorithms where the runtime doubles with each additional input. Certain recursive algorithms exhibit this behavior.\n",
    "# Generate x values\n",
    "x_values = np.linspace(1, 10, 100)  # Generating 100 x values between 1 and 10\n",
    "\n",
    "# Create y values (y = 2^x)\n",
    "y_values = 2 ** x_values\n",
    "\n",
    "# Create the plot\n",
    "plt.plot(x_values, y_values, label='O(2^n)')\n",
    "\n",
    "# Adding labels and title\n",
    "plt.xlabel('x')\n",
    "plt.ylabel('y')\n",
    "plt.title('O(2^n)')\n",
    "\n",
    "# Adding a legend\n",
    "plt.legend()\n",
    "\n",
    "# Display the plot\n",
    "plt.show()"
   ]
  },
  {
   "cell_type": "code",
   "execution_count": 35,
   "id": "24a5b552-f36c-4d83-98e7-2635dd2ed37d",
   "metadata": {},
   "outputs": [
    {
     "data": {
      "text/plain": [
       "{'a': 'some value', 'b': 'foo', 7: 'an integer', 'c': 12}"
      ]
     },
     "execution_count": 35,
     "metadata": {},
     "output_type": "execute_result"
    },
    {
     "data": {
      "text/plain": [
       "<zip at 0x1085301c0>"
      ]
     },
     "execution_count": 35,
     "metadata": {},
     "output_type": "execute_result"
    },
    {
     "data": {
      "text/plain": [
       "zip"
      ]
     },
     "execution_count": 35,
     "metadata": {},
     "output_type": "execute_result"
    },
    {
     "data": {
      "text/plain": [
       "{0: 4, 1: 3, 2: 2, 3: 1, 4: 0}"
      ]
     },
     "execution_count": 35,
     "metadata": {},
     "output_type": "execute_result"
    },
    {
     "data": {
      "text/plain": [
       "{'a': ['apple', 'atom'], 'b': ['bat', 'bar', 'book']}"
      ]
     },
     "execution_count": 35,
     "metadata": {},
     "output_type": "execute_result"
    },
    {
     "data": {
      "text/plain": [
       "7801120758127244289"
      ]
     },
     "execution_count": 35,
     "metadata": {},
     "output_type": "execute_result"
    },
    {
     "data": {
      "text/plain": [
       "-3550055125485641917"
      ]
     },
     "execution_count": 35,
     "metadata": {},
     "output_type": "execute_result"
    }
   ],
   "source": [
    "# Dictionary\n",
    "d1 = {'a': 'some value', 'b': [1, 2, 3, 4], 7: 'an integer'}\n",
    "d1.update({\"b\": \"foo\", \"c\": 12})    # The old values are discarded\n",
    "d1\n",
    "\n",
    "# Creating dictionaries from sequences, a dictionary is essentially a collection of 2-tuples\n",
    "t = zip(range(5), reversed(range(5)))\n",
    "t\n",
    "type(t)\n",
    "\n",
    "mapping = dict(t)\n",
    "mapping\n",
    "\n",
    "# Setdefaul method\n",
    "words = [\"apple\", \"bat\", \"bar\", \"atom\", \"book\"]\n",
    "by_letter = {}\n",
    "for word in words:\n",
    "    letter = word[0]\n",
    "    by_letter.setdefault(letter, []).append(word)\n",
    "\n",
    "by_letter\n",
    "\n",
    "# Valid dictionary key types, the technical term is hashability\n",
    "hash(\"string\")\n",
    "hash((1, 2))"
   ]
  },
  {
   "cell_type": "code",
   "execution_count": 36,
   "id": "fa776028-d89d-4d71-883d-c463d673df5e",
   "metadata": {},
   "outputs": [
    {
     "data": {
      "text/plain": [
       "{0, 1, 2, 3, 4, 5, 6, 7, 8, 9}"
      ]
     },
     "execution_count": 36,
     "metadata": {},
     "output_type": "execute_result"
    },
    {
     "data": {
      "text/plain": [
       "{1, 2, 3}"
      ]
     },
     "execution_count": 36,
     "metadata": {},
     "output_type": "execute_result"
    },
    {
     "data": {
      "text/plain": [
       "{1, 2, 3, 4, 5, 6, 7, 8}"
      ]
     },
     "execution_count": 36,
     "metadata": {},
     "output_type": "execute_result"
    },
    {
     "data": {
      "text/plain": [
       "{1, 2, 3, 4, 5, 6, 7, 8}"
      ]
     },
     "execution_count": 36,
     "metadata": {},
     "output_type": "execute_result"
    },
    {
     "data": {
      "text/plain": [
       "{3, 4, 5}"
      ]
     },
     "execution_count": 36,
     "metadata": {},
     "output_type": "execute_result"
    },
    {
     "data": {
      "text/plain": [
       "{3, 4, 5}"
      ]
     },
     "execution_count": 36,
     "metadata": {},
     "output_type": "execute_result"
    },
    {
     "data": {
      "text/plain": [
       "{1, 2}"
      ]
     },
     "execution_count": 36,
     "metadata": {},
     "output_type": "execute_result"
    },
    {
     "data": {
      "text/plain": [
       "{1, 2}"
      ]
     },
     "execution_count": 36,
     "metadata": {},
     "output_type": "execute_result"
    },
    {
     "data": {
      "text/plain": [
       "{1, 2, 6, 7, 8}"
      ]
     },
     "execution_count": 36,
     "metadata": {},
     "output_type": "execute_result"
    },
    {
     "data": {
      "text/plain": [
       "{1, 2, 6, 7, 8}"
      ]
     },
     "execution_count": 36,
     "metadata": {},
     "output_type": "execute_result"
    },
    {
     "data": {
      "text/plain": [
       "{1, 2, 3, 4}"
      ]
     },
     "execution_count": 36,
     "metadata": {},
     "output_type": "execute_result"
    }
   ],
   "source": [
    "# Set\n",
    "set([i for i in range(10)])\n",
    "{1, 2, 3}\n",
    "\n",
    "# Set operations, like union, intersection, difference, symmetric difference\n",
    "a = {1, 2, 3, 4, 5}\n",
    "b = {3, 4, 5, 6, 7, 8}\n",
    "a.union(b)\n",
    "a | b    # the same as a.union(b)\n",
    "a.intersection(b)\n",
    "a & b    # the same as a.intersection(b)\n",
    "a.difference(b)    # the same as a - b\n",
    "a - b\n",
    "a.symmetric_difference(b)    # the same as a ^ b\n",
    "a^b\n",
    "\n",
    "# Elements of sets generally must be immutable\n",
    "my_data = [1, 2, 3, 4]\n",
    "my_set = set(tuple(my_data))\n",
    "my_set"
   ]
  },
  {
   "cell_type": "code",
   "execution_count": 37,
   "id": "2e0ca607-0f91-457a-9ca7-95929c4ee1c9",
   "metadata": {},
   "outputs": [
    {
     "name": "stdout",
     "output_type": "stream",
     "text": [
      "0 1\n",
      "1 2\n",
      "2 3\n",
      "3 4\n"
     ]
    },
    {
     "data": {
      "text/plain": [
       "[' ', 'a', 'c', 'e', 'e', 'h', 'o', 'r', 'r', 's']"
      ]
     },
     "execution_count": 37,
     "metadata": {},
     "output_type": "execute_result"
    },
    {
     "data": {
      "text/plain": [
       "[('left', '<'), ('center', '^'), ('right', '>')]"
      ]
     },
     "execution_count": 37,
     "metadata": {},
     "output_type": "execute_result"
    },
    {
     "name": "stdout",
     "output_type": "stream",
     "text": [
      "0: left, <\n",
      "1: center, ^\n",
      "2: right, >\n"
     ]
    },
    {
     "data": {
      "text/plain": [
       "[9, 8, 7, 6, 5, 4, 3, 2, 1, 0]"
      ]
     },
     "execution_count": 37,
     "metadata": {},
     "output_type": "execute_result"
    }
   ],
   "source": [
    "# Built-in Sequence Functions\n",
    "# enumerate\n",
    "my_list = [1, 2, 3, 4]\n",
    "for index, value in enumerate(my_list):\n",
    "    print(index, value)\n",
    "\n",
    "# sorted\n",
    "sorted(\"horse race\")\n",
    "\n",
    "# zip\n",
    "align = 'left', 'center', 'right'\n",
    "fill = '<^>'\n",
    "list(zip(align, fill))\n",
    "\n",
    "for index, (a, b) in enumerate(zip(align, fill)):\n",
    "    print(f\"{index}: {a}, {b}\")\n",
    "\n",
    "# reversed\n",
    "list(reversed(range(10)))"
   ]
  },
  {
   "cell_type": "code",
   "execution_count": 38,
   "id": "e072a453-32bf-445c-8694-21ffbfb3459c",
   "metadata": {},
   "outputs": [
    {
     "data": {
      "text/plain": [
       "list"
      ]
     },
     "execution_count": 38,
     "metadata": {},
     "output_type": "execute_result"
    },
    {
     "data": {
      "text/plain": [
       "[0, 2, 4, 6, 8]"
      ]
     },
     "execution_count": 38,
     "metadata": {},
     "output_type": "execute_result"
    },
    {
     "data": {
      "text/plain": [
       "set"
      ]
     },
     "execution_count": 38,
     "metadata": {},
     "output_type": "execute_result"
    },
    {
     "data": {
      "text/plain": [
       "{3, 5, 7, 9, 11}"
      ]
     },
     "execution_count": 38,
     "metadata": {},
     "output_type": "execute_result"
    },
    {
     "data": {
      "text/plain": [
       "dict"
      ]
     },
     "execution_count": 38,
     "metadata": {},
     "output_type": "execute_result"
    },
    {
     "data": {
      "text/plain": [
       "{'<': 'left', '^': 'center', '>': 'right'}"
      ]
     },
     "execution_count": 38,
     "metadata": {},
     "output_type": "execute_result"
    },
    {
     "data": {
      "text/plain": [
       "generator"
      ]
     },
     "execution_count": 38,
     "metadata": {},
     "output_type": "execute_result"
    },
    {
     "data": {
      "text/plain": [
       "0"
      ]
     },
     "execution_count": 38,
     "metadata": {},
     "output_type": "execute_result"
    },
    {
     "data": {
      "text/plain": [
       "1"
      ]
     },
     "execution_count": 38,
     "metadata": {},
     "output_type": "execute_result"
    },
    {
     "data": {
      "text/plain": [
       "2"
      ]
     },
     "execution_count": 38,
     "metadata": {},
     "output_type": "execute_result"
    },
    {
     "data": {
      "text/plain": [
       "{4, 5, 6}"
      ]
     },
     "execution_count": 38,
     "metadata": {},
     "output_type": "execute_result"
    }
   ],
   "source": [
    "# List, set, and dictionary comprehensions\n",
    "list_comp = [i for i in range(10) if i % 2 == 0]\n",
    "type(list_comp)\n",
    "list_comp\n",
    "\n",
    "set_comp = {i+3 for i in range(10) if i % 2 == 0}\n",
    "type(set_comp)\n",
    "set_comp\n",
    "\n",
    "dict_comp = {char: align for char, align in zip(fill, align)}\n",
    "type(dict_comp)\n",
    "dict_comp\n",
    "\n",
    "t = (i for i in range(10))\n",
    "type(t)\n",
    "t.__next__()\n",
    "t.__next__()\n",
    "t.__next__()\n",
    "\n",
    "set(map(len, align))"
   ]
  },
  {
   "cell_type": "code",
   "execution_count": 39,
   "id": "1e303fe6-da90-4a17-859b-186bd9cde9cb",
   "metadata": {},
   "outputs": [
    {
     "data": {
      "text/plain": [
       "['Maria', 'Natalia']"
      ]
     },
     "execution_count": 39,
     "metadata": {},
     "output_type": "execute_result"
    }
   ],
   "source": [
    "# Nested list comprehension\n",
    "all_data = [[\"John\", \"Emily\", \"Michael\", \"Mary\", \"Steven\"],\n",
    "            [\"Maria\", \"Juan\", \"Javier\", \"Natalia\", \"Pilar\"]]\n",
    "\n",
    "interest_names = [name for names in all_data for name in names if name.count(\"a\") >= 2]\n",
    "interest_names"
   ]
  },
  {
   "cell_type": "markdown",
   "id": "45e0a259-72ee-4e98-bf9b-0543e7af2d50",
   "metadata": {},
   "source": [
    "### Functions"
   ]
  },
  {
   "cell_type": "code",
   "execution_count": 40,
   "id": "7cffa22e-bdc7-426c-9ee6-369e820159c3",
   "metadata": {},
   "outputs": [
    {
     "data": {
      "text/plain": [
       "5"
      ]
     },
     "execution_count": 40,
     "metadata": {},
     "output_type": "execute_result"
    },
    {
     "data": {
      "text/plain": [
       "6"
      ]
     },
     "execution_count": 40,
     "metadata": {},
     "output_type": "execute_result"
    },
    {
     "data": {
      "text/plain": [
       "7"
      ]
     },
     "execution_count": 40,
     "metadata": {},
     "output_type": "execute_result"
    },
    {
     "data": {
      "text/plain": [
       "(5, 6, 7)"
      ]
     },
     "execution_count": 40,
     "metadata": {},
     "output_type": "execute_result"
    },
    {
     "data": {
      "text/plain": [
       "'a'"
      ]
     },
     "execution_count": 40,
     "metadata": {},
     "output_type": "execute_result"
    },
    {
     "data": {
      "text/plain": [
       "'b'"
      ]
     },
     "execution_count": 40,
     "metadata": {},
     "output_type": "execute_result"
    },
    {
     "data": {
      "text/plain": [
       "'c'"
      ]
     },
     "execution_count": 40,
     "metadata": {},
     "output_type": "execute_result"
    },
    {
     "data": {
      "text/plain": [
       "{'a': 5, 'b': 6, 'c': 7}"
      ]
     },
     "execution_count": 40,
     "metadata": {},
     "output_type": "execute_result"
    }
   ],
   "source": [
    "# returning multiple values\n",
    "def f():\n",
    "    a = 5\n",
    "    b = 6\n",
    "    c = 7\n",
    "    return a, b, c\n",
    "\n",
    "a, b, c = f()\n",
    "return_value = f()\n",
    "a\n",
    "b\n",
    "c\n",
    "return_value\n",
    "\n",
    "def f():\n",
    "    a = 5\n",
    "    b = 6\n",
    "    c = 7\n",
    "    return {\"a\" : a, \"b\" : b, \"c\": c}\n",
    "\n",
    "v = f()\n",
    "a, b, c = f()\n",
    "a\n",
    "b\n",
    "c\n",
    "v"
   ]
  },
  {
   "cell_type": "markdown",
   "id": "e90d200b-71db-450e-881a-4d5e36815997",
   "metadata": {},
   "source": []
  },
  {
   "cell_type": "markdown",
   "id": "2bcacdc8-06bb-46a6-a03b-f444b49928b9",
   "metadata": {},
   "source": [
    "### Files and the Operating System"
   ]
  },
  {
   "cell_type": "markdown",
   "id": "37f5a0cf-51ab-4283-b75d-58f9d2b883b3",
   "metadata": {},
   "source": [
    "## NumPy Basics: Arrays and Vectoried Computation"
   ]
  },
  {
   "cell_type": "markdown",
   "id": "7c46bc34-c33a-4592-b1ac-f58838d41cb3",
   "metadata": {},
   "source": [
    "NumPy, short for Numerical Python, is one of the most important foundational packages for numerical computing in Python."
   ]
  },
  {
   "cell_type": "code",
   "execution_count": 41,
   "id": "96a1f483-fc05-4c4c-ba8a-ee2f0e59da51",
   "metadata": {},
   "outputs": [
    {
     "name": "stdout",
     "output_type": "stream",
     "text": [
      "2.26 ms ± 78.1 µs per loop (mean ± std. dev. of 7 runs, 100 loops each)\n",
      "99.7 ms ± 3.16 ms per loop (mean ± std. dev. of 7 runs, 10 loops each)\n"
     ]
    }
   ],
   "source": [
    "import numpy as np\n",
    "my_arr = np.arange(1_000_000)\n",
    "my_list = list(range(1_000_000))\n",
    "\n",
    "%timeit my_arr2 = my_arr * 2\n",
    "%timeit my_list2 = [x * 2 for x in my_list]"
   ]
  },
  {
   "cell_type": "markdown",
   "id": "bf503c09-7fa9-480f-8c3c-ba731efd3d02",
   "metadata": {},
   "source": [
    "### The NumPy ndarray: A Multidimensional Array Object"
   ]
  },
  {
   "cell_type": "code",
   "execution_count": 42,
   "id": "012944a8-1d02-44e4-becb-face11aee6b6",
   "metadata": {},
   "outputs": [
    {
     "data": {
      "text/plain": [
       "array([[ 1.5, -0.1,  3. ],\n",
       "       [ 0. , -3. ,  6.5]])"
      ]
     },
     "execution_count": 42,
     "metadata": {},
     "output_type": "execute_result"
    },
    {
     "data": {
      "text/plain": [
       "array([[ 15.,  -1.,  30.],\n",
       "       [  0., -30.,  65.]])"
      ]
     },
     "execution_count": 42,
     "metadata": {},
     "output_type": "execute_result"
    },
    {
     "data": {
      "text/plain": [
       "array([[ 3. , -0.2,  6. ],\n",
       "       [ 0. , -6. , 13. ]])"
      ]
     },
     "execution_count": 42,
     "metadata": {},
     "output_type": "execute_result"
    },
    {
     "data": {
      "text/plain": [
       "(2, 3)"
      ]
     },
     "execution_count": 42,
     "metadata": {},
     "output_type": "execute_result"
    },
    {
     "data": {
      "text/plain": [
       "dtype('float64')"
      ]
     },
     "execution_count": 42,
     "metadata": {},
     "output_type": "execute_result"
    }
   ],
   "source": [
    "data = np.array([[1.5, -0.1, 3], [0, -3, 6.5]])\n",
    "data\n",
    "\n",
    "data * 10\n",
    "data + data\n",
    "\n",
    "# ndarray shape and dtype, ndarray stands for \"N-dimensional array\"\n",
    "data.shape\n",
    "data.dtype"
   ]
  },
  {
   "cell_type": "code",
   "execution_count": 43,
   "id": "af8949dd-bc2b-47c6-9c33-45f8121ad404",
   "metadata": {},
   "outputs": [
    {
     "data": {
      "text/plain": [
       "array([6. , 7.5, 8. , 0. , 1. ])"
      ]
     },
     "execution_count": 43,
     "metadata": {},
     "output_type": "execute_result"
    },
    {
     "data": {
      "text/plain": [
       "(5,)"
      ]
     },
     "execution_count": 43,
     "metadata": {},
     "output_type": "execute_result"
    },
    {
     "data": {
      "text/plain": [
       "dtype('float64')"
      ]
     },
     "execution_count": 43,
     "metadata": {},
     "output_type": "execute_result"
    },
    {
     "data": {
      "text/plain": [
       "array([[1, 2, 3, 4],\n",
       "       [5, 6, 7, 8]])"
      ]
     },
     "execution_count": 43,
     "metadata": {},
     "output_type": "execute_result"
    },
    {
     "data": {
      "text/plain": [
       "(2, 4)"
      ]
     },
     "execution_count": 43,
     "metadata": {},
     "output_type": "execute_result"
    },
    {
     "data": {
      "text/plain": [
       "2"
      ]
     },
     "execution_count": 43,
     "metadata": {},
     "output_type": "execute_result"
    },
    {
     "data": {
      "text/plain": [
       "dtype('int64')"
      ]
     },
     "execution_count": 43,
     "metadata": {},
     "output_type": "execute_result"
    }
   ],
   "source": [
    "# Creating ndarrays\n",
    "data1 = [6, 7.5, 8, 0, 1]\n",
    "arr1 = np.array(data1)\n",
    "arr1\n",
    "arr1.shape\n",
    "arr1.dtype\n",
    "\n",
    "# A list of equal-length lists will be converted into a multidimensional array\n",
    "data2 = [[1, 2, 3, 4], [5, 6, 7, 8]]\n",
    "arr2 = np.array(data2)\n",
    "arr2\n",
    "arr2.shape\n",
    "arr2.ndim    # Check the dimensions attribute of arr2\n",
    "arr2.dtype"
   ]
  },
  {
   "cell_type": "code",
   "execution_count": 44,
   "id": "59abb632-ea63-4c0b-95f4-df996791d3b7",
   "metadata": {},
   "outputs": [
    {
     "data": {
      "text/plain": [
       "array([0., 0., 0., 0., 0., 0., 0., 0., 0., 0.])"
      ]
     },
     "execution_count": 44,
     "metadata": {},
     "output_type": "execute_result"
    },
    {
     "data": {
      "text/plain": [
       "array([[0., 0., 0., 0., 0., 0.],\n",
       "       [0., 0., 0., 0., 0., 0.],\n",
       "       [0., 0., 0., 0., 0., 0.]])"
      ]
     },
     "execution_count": 44,
     "metadata": {},
     "output_type": "execute_result"
    },
    {
     "data": {
      "text/plain": [
       "array([[[0., 0.],\n",
       "        [0., 0.],\n",
       "        [0., 0.]],\n",
       "\n",
       "       [[0., 0.],\n",
       "        [0., 0.],\n",
       "        [0., 0.]]])"
      ]
     },
     "execution_count": 44,
     "metadata": {},
     "output_type": "execute_result"
    }
   ],
   "source": [
    "# numpy.zeros, numpy.ones, numpy.empty\n",
    "np.zeros(10)\n",
    "np.zeros((3, 6))\n",
    "\n",
    "np.empty((2, 3, 2))"
   ]
  },
  {
   "cell_type": "markdown",
   "id": "99abe1a3-6a1a-4958-b5c6-8973f19d58f5",
   "metadata": {},
   "source": [
    "Caution:\n",
    "\n",
    "It’s not safe to assume that `numpy.empty` will return an array of all zeros. This function returns uninitialized memory and thus may contain nonzero \"garbage\" values. You should use this function only if you intend to populate the new array with data.\n",
    "假设将`numpy.empty`返回一个包含所有零的数组是不安全的。此函数返回未初始化的内存，因此可能包含非零的“垃圾”值。仅当您打算*用数据填充新数组*时，才应使用此函数。"
   ]
  },
  {
   "cell_type": "code",
   "execution_count": 45,
   "id": "1007509e-ea27-4b37-b37a-8b0e1cf59cd9",
   "metadata": {},
   "outputs": [
    {
     "data": {
      "text/plain": [
       "array([ 0,  1,  2,  3,  4,  5,  6,  7,  8,  9, 10, 11, 12, 13, 14])"
      ]
     },
     "execution_count": 45,
     "metadata": {},
     "output_type": "execute_result"
    }
   ],
   "source": [
    "# numpy.arange is an array-valued version of the built-in Python range function\n",
    "np.arange(15)"
   ]
  },
  {
   "cell_type": "code",
   "execution_count": 46,
   "id": "61e06e22-e7e8-455b-9cae-0d692c5396d3",
   "metadata": {},
   "outputs": [
    {
     "data": {
      "text/plain": [
       "array([[1, 2, 3, 4],\n",
       "       [5, 6, 7, 8]])"
      ]
     },
     "execution_count": 46,
     "metadata": {},
     "output_type": "execute_result"
    },
    {
     "data": {
      "text/plain": [
       "array([[1, 2, 3, 4],\n",
       "       [5, 6, 7, 8]])"
      ]
     },
     "execution_count": 46,
     "metadata": {},
     "output_type": "execute_result"
    },
    {
     "data": {
      "text/plain": [
       "array([[ True,  True,  True,  True],\n",
       "       [ True,  True,  True,  True]])"
      ]
     },
     "execution_count": 46,
     "metadata": {},
     "output_type": "execute_result"
    },
    {
     "data": {
      "text/plain": [
       "(2, 4)"
      ]
     },
     "execution_count": 46,
     "metadata": {},
     "output_type": "execute_result"
    },
    {
     "data": {
      "text/plain": [
       "dtype('int64')"
      ]
     },
     "execution_count": 46,
     "metadata": {},
     "output_type": "execute_result"
    },
    {
     "data": {
      "text/plain": [
       "dtype('int64')"
      ]
     },
     "execution_count": 46,
     "metadata": {},
     "output_type": "execute_result"
    },
    {
     "data": {
      "text/plain": [
       "dtype('float64')"
      ]
     },
     "execution_count": 46,
     "metadata": {},
     "output_type": "execute_result"
    },
    {
     "data": {
      "text/plain": [
       "array([[1, 1, 1, 1],\n",
       "       [1, 1, 1, 1]])"
      ]
     },
     "execution_count": 46,
     "metadata": {},
     "output_type": "execute_result"
    },
    {
     "data": {
      "text/plain": [
       "dtype('int64')"
      ]
     },
     "execution_count": 46,
     "metadata": {},
     "output_type": "execute_result"
    },
    {
     "data": {
      "text/plain": [
       "array([[7., 7.],\n",
       "       [7., 7.],\n",
       "       [7., 7.]])"
      ]
     },
     "execution_count": 46,
     "metadata": {},
     "output_type": "execute_result"
    },
    {
     "data": {
      "text/plain": [
       "dtype('float64')"
      ]
     },
     "execution_count": 46,
     "metadata": {},
     "output_type": "execute_result"
    },
    {
     "data": {
      "text/plain": [
       "array([[7, 7, 7, 7],\n",
       "       [7, 7, 7, 7]])"
      ]
     },
     "execution_count": 46,
     "metadata": {},
     "output_type": "execute_result"
    },
    {
     "data": {
      "text/plain": [
       "dtype('int64')"
      ]
     },
     "execution_count": 46,
     "metadata": {},
     "output_type": "execute_result"
    }
   ],
   "source": [
    "# Other NumPy array creation functions\n",
    "arr3 = np.asarray(arr2)\n",
    "arr2\n",
    "arr3\n",
    "arr3 == arr2\n",
    "arr3.shape\n",
    "arr3.dtype\n",
    "\n",
    "arr4 = np.ones((3, 2), int)\n",
    "arr5 = np.ones((3, 2), float)\n",
    "arr4.dtype\n",
    "arr5.dtype\n",
    "\n",
    "arr6 = np.ones_like(arr2)\n",
    "arr6\n",
    "arr6.dtype\n",
    "\n",
    "arr7 = np.full((3, 2), 7, float)\n",
    "arr7\n",
    "arr7.dtype\n",
    "\n",
    "arr8 = np.full_like(arr2, 7)\n",
    "arr8\n",
    "arr8.dtype"
   ]
  },
  {
   "cell_type": "code",
   "execution_count": 47,
   "id": "1ce29eb4-a2bf-4186-a047-f39c0125ab5e",
   "metadata": {},
   "outputs": [
    {
     "data": {
      "text/plain": [
       "array([[7., 7., 7., 7.],\n",
       "       [7., 7., 7., 7.]])"
      ]
     },
     "execution_count": 47,
     "metadata": {},
     "output_type": "execute_result"
    }
   ],
   "source": [
    "# type casting\n",
    "arr8.astype(np.float64)"
   ]
  },
  {
   "cell_type": "code",
   "execution_count": 53,
   "id": "1d9dd604-91de-4e10-b73e-a7a49c8494ee",
   "metadata": {},
   "outputs": [
    {
     "data": {
      "text/plain": [
       "array([36.  , 56.25, 64.  ,  0.  ,  1.  ])"
      ]
     },
     "execution_count": 53,
     "metadata": {},
     "output_type": "execute_result"
    },
    {
     "data": {
      "text/plain": [
       "array([12., 15., 16.,  0.,  2.])"
      ]
     },
     "execution_count": 53,
     "metadata": {},
     "output_type": "execute_result"
    },
    {
     "data": {
      "text/plain": [
       "array([0., 0., 0., 0., 0.])"
      ]
     },
     "execution_count": 53,
     "metadata": {},
     "output_type": "execute_result"
    },
    {
     "name": "stderr",
     "output_type": "stream",
     "text": [
      "/var/folders/5c/jql333r14x7_7f3_h5h91pdr0000gn/T/ipykernel_33064/126954172.py:7: RuntimeWarning: divide by zero encountered in divide\n",
      "  1 / arr1\n"
     ]
    },
    {
     "data": {
      "text/plain": [
       "array([0.16666667, 0.13333333, 0.125     ,        inf, 1.        ])"
      ]
     },
     "execution_count": 53,
     "metadata": {},
     "output_type": "execute_result"
    },
    {
     "data": {
      "text/plain": [
       "array([12., 15., 16.,  0.,  2.])"
      ]
     },
     "execution_count": 53,
     "metadata": {},
     "output_type": "execute_result"
    },
    {
     "data": {
      "text/plain": [
       "array([[False, False, False, False],\n",
       "       [False, False, False, False]])"
      ]
     },
     "execution_count": 53,
     "metadata": {},
     "output_type": "execute_result"
    }
   ],
   "source": [
    "# Arithmetic with NumPy arrays\n",
    "arr1 * arr1\n",
    "arr1 + arr1\n",
    "arr1 - arr1\n",
    "\n",
    "# Arithmetic operations with scalars\n",
    "1 / arr1\n",
    "arr1 * 2\n",
    "\n",
    "# Comparison between N-array\n",
    "arr2 > arr3"
   ]
  },
  {
   "cell_type": "code",
   "execution_count": 64,
   "id": "a1319893-ab2b-4867-800b-a4ae1dd5ee88",
   "metadata": {},
   "outputs": [
    {
     "data": {
      "text/plain": [
       "array([6., 9., 9., 0., 1.])"
      ]
     },
     "execution_count": 64,
     "metadata": {},
     "output_type": "execute_result"
    },
    {
     "data": {
      "text/plain": [
       "array([[1, 2, 3, 4],\n",
       "       [5, 6, 7, 8]])"
      ]
     },
     "execution_count": 64,
     "metadata": {},
     "output_type": "execute_result"
    },
    {
     "data": {
      "text/plain": [
       "array([[1, 2, 3, 4],\n",
       "       [5, 6, 7, 8]])"
      ]
     },
     "execution_count": 64,
     "metadata": {},
     "output_type": "execute_result"
    },
    {
     "data": {
      "text/plain": [
       "9.0"
      ]
     },
     "execution_count": 64,
     "metadata": {},
     "output_type": "execute_result"
    },
    {
     "data": {
      "text/plain": [
       "7"
      ]
     },
     "execution_count": 64,
     "metadata": {},
     "output_type": "execute_result"
    },
    {
     "data": {
      "text/plain": [
       "3"
      ]
     },
     "execution_count": 64,
     "metadata": {},
     "output_type": "execute_result"
    },
    {
     "data": {
      "text/plain": [
       "array([9., 9.])"
      ]
     },
     "execution_count": 64,
     "metadata": {},
     "output_type": "execute_result"
    },
    {
     "data": {
      "text/plain": [
       "array([9., 9.])"
      ]
     },
     "execution_count": 64,
     "metadata": {},
     "output_type": "execute_result"
    },
    {
     "data": {
      "text/plain": [
       "array([6., 9., 9., 0., 1.])"
      ]
     },
     "execution_count": 64,
     "metadata": {},
     "output_type": "execute_result"
    }
   ],
   "source": [
    "# Basic indexing and slicing\n",
    "arr1\n",
    "arr2\n",
    "arr3\n",
    "\n",
    "# Indexing\n",
    "arr1[2]\n",
    "arr2[1][2]\n",
    "arr3[0, 2]\n",
    "\n",
    "# Slicing on arrays are views on the original arrays\n",
    "arr_slice = arr1[1:3]\n",
    "arr_slice\n",
    "\n",
    "arr_slice[:] = 9\n",
    "arr_slice\n",
    "arr1"
   ]
  }
 ],
 "metadata": {
  "kernelspec": {
   "display_name": "Python 3 (ipykernel)",
   "language": "python",
   "name": "python3"
  },
  "language_info": {
   "codemirror_mode": {
    "name": "ipython",
    "version": 3
   },
   "file_extension": ".py",
   "mimetype": "text/x-python",
   "name": "python",
   "nbconvert_exporter": "python",
   "pygments_lexer": "ipython3",
   "version": "3.11.3"
  }
 },
 "nbformat": 4,
 "nbformat_minor": 5
}
