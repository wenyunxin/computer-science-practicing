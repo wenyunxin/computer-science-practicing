{
 "cells": [
  {
   "cell_type": "code",
   "execution_count": 3,
   "id": "d7ccb43d-326b-4497-b1e5-149d1957d130",
   "metadata": {},
   "outputs": [],
   "source": [
    "from IPython.core.interactiveshell import InteractiveShell\n",
    "InteractiveShell.ast_node_interactivity = \"all\""
   ]
  },
  {
   "cell_type": "code",
   "execution_count": 4,
   "id": "060de812-21cf-4b2e-927c-48552548854e",
   "metadata": {},
   "outputs": [],
   "source": [
    "# __name__ of the module"
   ]
  },
  {
   "cell_type": "code",
   "execution_count": 5,
   "id": "607fa44d-3543-494c-9faf-04a1789a0578",
   "metadata": {},
   "outputs": [],
   "source": [
    "# sys library and sys.argv method\n",
    "# the sys.argv live on specific namespace"
   ]
  },
  {
   "cell_type": "markdown",
   "id": "bc52e3bc-202e-46db-97f5-5720ca80f703",
   "metadata": {},
   "source": [
    "规范统一的设计范式和编码风格习惯，是项目快速开发、迭代、移植不同平台，以及进行线上协作的关键。"
   ]
  },
  {
   "cell_type": "code",
   "execution_count": 6,
   "id": "8404d390-6bbc-4431-b46c-8c41f6b32b30",
   "metadata": {},
   "outputs": [],
   "source": [
    "# package"
   ]
  },
  {
   "cell_type": "code",
   "execution_count": 7,
   "id": "754baaf7-9c8f-403b-8e25-431bfa90a180",
   "metadata": {},
   "outputs": [],
   "source": [
    "# the 'from...import...' statement first tests whether the item is defined in the package, if not, it assumes it is a module and attempts to load it\n",
    "# Contrarily, when using syntax like import item.subitem.subsubitem, each item except for the last must be a package; \n",
    "# the last item can be a module or a package but can’t be a class or function or variable defined in the previous item."
   ]
  },
  {
   "cell_type": "code",
   "execution_count": 8,
   "id": "d3286ada-00a5-490f-bbcc-56c467d3fd01",
   "metadata": {},
   "outputs": [],
   "source": [
    "# the different between dir() and __all__"
   ]
  },
  {
   "cell_type": "code",
   "execution_count": 9,
   "id": "033126e1-12e9-4af7-965b-9fd0d2f5b8af",
   "metadata": {},
   "outputs": [
    {
     "data": {
      "text/plain": [
       "' 42572654 YES votes  49.67%'"
      ]
     },
     "execution_count": 9,
     "metadata": {},
     "output_type": "execute_result"
    }
   ],
   "source": [
    "# str.format() methods of strings\n",
    "yes_votes = 42_572_654\n",
    "no_votes = 43_132_495\n",
    "percentage = yes_votes / (yes_votes + no_votes)\n",
    "'{:-9} YES votes  {:.2%}'.format(yes_votes, percentage)\n",
    "\n",
    "# note the format of 'yes_votes' and 'percentage' on the output string of the third line"
   ]
  },
  {
   "cell_type": "code",
   "execution_count": 10,
   "id": "11c39c21-6c98-42a1-99f9-096698415b9f",
   "metadata": {},
   "outputs": [],
   "source": [
    "# f-strings formats"
   ]
  },
  {
   "cell_type": "code",
   "execution_count": 11,
   "id": "4bf8d4d4-4661-42ee-87a1-f8ac6d9c106e",
   "metadata": {},
   "outputs": [],
   "source": [
    "# f.tell()?"
   ]
  },
  {
   "cell_type": "code",
   "execution_count": 12,
   "id": "64f801f3-2b82-44cf-a27c-eef42e3f34fd",
   "metadata": {},
   "outputs": [],
   "source": [
    "# json module"
   ]
  },
  {
   "cell_type": "code",
   "execution_count": 13,
   "id": "a4793128-1936-4fbc-9d0a-8e4d7bb8e8f3",
   "metadata": {},
   "outputs": [],
   "source": [
    "# namespace & scope"
   ]
  },
  {
   "cell_type": "code",
   "execution_count": 14,
   "id": "55a6c236-237d-4782-8bd6-4cf662b2ecce",
   "metadata": {},
   "outputs": [],
   "source": [
    "# class objects support two kinds of operations: attribute reference and instantiation"
   ]
  },
  {
   "cell_type": "markdown",
   "id": "19cbed9a-e66b-4fe9-992d-da65d1603bea",
   "metadata": {},
   "source": [
    "The only operations understood by instance objects are **attribute references**. There are two kinds of valid attribute names: *data attributes* and *methods*.\n",
    "\n",
    "*Data attributes* need not be declared; like local variables, they spring into existence when they are first assigned to.\n",
    "\n",
    "Methods of instance objects are *method objects*."
   ]
  },
  {
   "cell_type": "markdown",
   "id": "ddb7decb-d282-471e-9fcd-66ffaee1e7a6",
   "metadata": {},
   "source": [
    "*instance variable* and *class variable*"
   ]
  },
  {
   "cell_type": "markdown",
   "id": "ad41e936-f94f-416d-882a-e6ae7a92f0a6",
   "metadata": {},
   "source": [
    "*cooperative calls* to [super()](https://docs.python.org/3/library/functions.html#super)?"
   ]
  },
  {
   "cell_type": "markdown",
   "id": "d6fb350a-6fd7-4450-939c-d529e498ff2f",
   "metadata": {},
   "source": [
    "*Dynamic ordering* in class inheritances?"
   ]
  },
  {
   "cell_type": "code",
   "execution_count": 15,
   "id": "64f12df9-707a-4de7-ad49-d9945b5d702b",
   "metadata": {},
   "outputs": [],
   "source": [
    "# private variables and name mangling in class"
   ]
  },
  {
   "cell_type": "code",
   "execution_count": 16,
   "id": "ec0b2b84-99bc-4153-ab3a-b9357651565e",
   "metadata": {},
   "outputs": [],
   "source": [
    "# exec() and eval() function\n",
    "# getattr(), setattr(), delattr()"
   ]
  },
  {
   "cell_type": "markdown",
   "id": "8ce25d26-09b2-411e-88cb-7aa5fd5d9917",
   "metadata": {},
   "source": [
    "A piece of Python code that expects a particular *abstract data type* can often be passed a class that *emulates* the methods of that data type instead. For instance, if you have a function that formats some data from a file object, you can define a class with methods read() and readline() that get the data from a string buffer instead, and pass it as an argument. ??"
   ]
  },
  {
   "cell_type": "markdown",
   "id": "24156f0d-790e-4eb2-bffa-ef6f4a02041d",
   "metadata": {},
   "source": [
    "iterator in classes."
   ]
  },
  {
   "cell_type": "markdown",
   "id": "e8d37e5a-4ef3-43df-a6c3-2c9cf39622cc",
   "metadata": {},
   "source": [
    "generator and generator expressions"
   ]
  },
  {
   "cell_type": "markdown",
   "id": "e191a451-7fc2-4f6e-a122-8d8ed385bdf3",
   "metadata": {},
   "source": [
    "the *sys* module"
   ]
  },
  {
   "cell_type": "code",
   "execution_count": 17,
   "id": "464b79f3-cece-4350-9fab-eefe39510539",
   "metadata": {},
   "outputs": [],
   "source": [
    "# nonlocal and gloabl keyword in function and class definitions"
   ]
  },
  {
   "cell_type": "code",
   "execution_count": 18,
   "id": "f79e35dd-ebee-4a7f-b68c-4bf175d05f41",
   "metadata": {},
   "outputs": [],
   "source": [
    "# builtins module of Python"
   ]
  },
  {
   "cell_type": "code",
   "execution_count": 19,
   "id": "9e59d489-e469-47ed-a138-85b920e4c4c6",
   "metadata": {},
   "outputs": [],
   "source": [
    "# __build_class__ ?"
   ]
  },
  {
   "cell_type": "code",
   "execution_count": 20,
   "id": "69c5916a-5127-45af-8f39-6f77e20319dc",
   "metadata": {},
   "outputs": [],
   "source": [
    "# byte and bytearrary, memoryview"
   ]
  },
  {
   "cell_type": "code",
   "execution_count": 21,
   "id": "7aa94ec6-2d9c-4d9a-98bc-305cb8b5e054",
   "metadata": {},
   "outputs": [],
   "source": [
    "# string is a iterable or collection, but not a container\n",
    "# container: list, tuple, dictionary, set, frozenset"
   ]
  }
 ],
 "metadata": {
  "kernelspec": {
   "display_name": "Python 3 (ipykernel)",
   "language": "python",
   "name": "python3"
  },
  "language_info": {
   "codemirror_mode": {
    "name": "ipython",
    "version": 3
   },
   "file_extension": ".py",
   "mimetype": "text/x-python",
   "name": "python",
   "nbconvert_exporter": "python",
   "pygments_lexer": "ipython3",
   "version": "3.11.3"
  }
 },
 "nbformat": 4,
 "nbformat_minor": 5
}
