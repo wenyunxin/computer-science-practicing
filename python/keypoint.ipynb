{
 "cells": [
  {
   "cell_type": "code",
   "execution_count": 1,
   "id": "d7ccb43d-326b-4497-b1e5-149d1957d130",
   "metadata": {},
   "outputs": [],
   "source": [
    "from IPython.core.interactiveshell import InteractiveShell\n",
    "\n",
    "InteractiveShell.ast_node_interactivity = \"all\""
   ]
  },
  {
   "cell_type": "code",
   "execution_count": 2,
   "id": "060de812-21cf-4b2e-927c-48552548854e",
   "metadata": {},
   "outputs": [],
   "source": [
    "# __name__ of the module"
   ]
  },
  {
   "cell_type": "code",
   "execution_count": 3,
   "id": "607fa44d-3543-494c-9faf-04a1789a0578",
   "metadata": {},
   "outputs": [],
   "source": [
    "# sys library and sys.argv method\n",
    "# the sys.argv live on specific namespace"
   ]
  },
  {
   "cell_type": "markdown",
   "id": "bc52e3bc-202e-46db-97f5-5720ca80f703",
   "metadata": {},
   "source": [
    "规范统一的设计范式和编码风格习惯，是项目快速开发、迭代、移植不同平台，以及进行线上协作的关键。"
   ]
  },
  {
   "cell_type": "code",
   "execution_count": 4,
   "id": "8404d390-6bbc-4431-b46c-8c41f6b32b30",
   "metadata": {},
   "outputs": [],
   "source": [
    "# package"
   ]
  },
  {
   "cell_type": "code",
   "execution_count": 5,
   "id": "754baaf7-9c8f-403b-8e25-431bfa90a180",
   "metadata": {},
   "outputs": [],
   "source": [
    "# the 'from...import...' statement first tests whether the item is defined in the package, if not, it assumes it is a module and attempts to load it\n",
    "# Contrarily, when using syntax like import item.subitem.subsubitem, each item except for the last must be a package;\n",
    "# the last item can be a module or a package but can’t be a class or function or variable defined in the previous item."
   ]
  },
  {
   "cell_type": "code",
   "execution_count": 6,
   "id": "d3286ada-00a5-490f-bbcc-56c467d3fd01",
   "metadata": {},
   "outputs": [],
   "source": [
    "# the different between dir() and __all__"
   ]
  },
  {
   "cell_type": "code",
   "execution_count": 7,
   "id": "033126e1-12e9-4af7-965b-9fd0d2f5b8af",
   "metadata": {},
   "outputs": [
    {
     "data": {
      "text/plain": [
       "' 42572654 YES votes  49.67%'"
      ]
     },
     "execution_count": 7,
     "metadata": {},
     "output_type": "execute_result"
    }
   ],
   "source": [
    "# str.format() methods of strings\n",
    "yes_votes = 42_572_654\n",
    "no_votes = 43_132_495\n",
    "percentage = yes_votes / (yes_votes + no_votes)\n",
    "\"{:-9} YES votes  {:.2%}\".format(yes_votes, percentage)\n",
    "\n",
    "# note the format of 'yes_votes' and 'percentage' on the output string of the third line"
   ]
  },
  {
   "cell_type": "markdown",
   "id": "33713f6f-47a4-45b2-98cd-37bdf3d53b41",
   "metadata": {},
   "source": [
    "## f-strings formats"
   ]
  },
  {
   "cell_type": "markdown",
   "id": "575f80c8-bc6b-4058-ba3c-7dcd7ebf94cf",
   "metadata": {},
   "source": [
    "A *[formatted string literal](https://docs.python.org/3/reference/lexical_analysis.html#string-literal-concatenation)* or *f-string* is a string literal that is prefixed with `f` or `F`. These strings may contain replacement fields, which are expressions delimited by curly braces `{}`. While other string literal always have a constant value, formatted strings are really expressions evaluated at run time."
   ]
  },
  {
   "cell_type": "code",
   "execution_count": 37,
   "id": "317406ed-2bdc-422b-badf-891fe51e320a",
   "metadata": {},
   "outputs": [
    {
     "name": "stdout",
     "output_type": "stream",
     "text": [
      "3.141592\n",
      "  3.141592\n",
      "003.141592\n",
      "3.14\n",
      "Hello!\n"
     ]
    }
   ],
   "source": [
    "# padding/truncating\n",
    "pi = 3.141592\n",
    "print(f\"{pi}\")\n",
    "print(f\"{pi:10}\")  # padding to make length 10\n",
    "print(f\"{pi:010}\")  # padding with zeroes\n",
    "print(f\"{pi:.3}\")  # 3 digits total, ignoring decimal\n",
    "\n",
    "string = \"Hello! This is a string\"\n",
    "print(f\"{string:.6}\")  # 6 characters"
   ]
  },
  {
   "cell_type": "code",
   "execution_count": 31,
   "id": "c401de8c-f933-4b0f-a3c5-30201899f32a",
   "metadata": {},
   "outputs": [
    {
     "name": "stdout",
     "output_type": "stream",
     "text": [
      "                Test\n",
      "~~~~~~~~~~~~~~~~Test\n",
      "Test________________\n",
      "========Test========\n"
     ]
    }
   ],
   "source": [
    "# alignment\n",
    "heading = \"Test\"\n",
    "print(f\"{heading:>20}\")\n",
    "print(f\"{heading:~>20}\")  # specify alignment for custom padding\n",
    "print(f\"{heading:_<20}\")\n",
    "print(f\"{heading:=^20}\")"
   ]
  },
  {
   "cell_type": "code",
   "execution_count": 38,
   "id": "ba0faa63-d77e-4642-a20f-cb11b206ca84",
   "metadata": {},
   "outputs": [
    {
     "name": "stdout",
     "output_type": "stream",
     "text": [
      "*\n",
      "604.000000\n",
      "84.00%\n",
      "25c\n",
      "1001011100\n",
      "0000001001011100\n"
     ]
    }
   ],
   "source": [
    "# converting types\n",
    "print(f\"{42:c}\")  # int to ascii\n",
    "print(f\"{604:f}\")  # int to float\n",
    "print(f\"{84:.2f}%\")\n",
    "print(f\"{604:x}\")  # int to hex\n",
    "print(f\"{604:b}\")  # int to binary\n",
    "print(f\"{604:0>16b}\")  # int to binary, with zero-padding"
   ]
  },
  {
   "cell_type": "code",
   "execution_count": 39,
   "id": "908d6ccb-c79f-4bab-b0fb-8ff2e1a42774",
   "metadata": {},
   "outputs": [
    {
     "name": "stdout",
     "output_type": "stream",
     "text": [
      "12345678\n",
      "12,345,678\n"
     ]
    }
   ],
   "source": [
    "# adding commas to large numbers\n",
    "large_num = 12_345_678  # int syntax supports underscores\n",
    "print(f\"{large_num}\")\n",
    "print(f\"{large_num:,}\")"
   ]
  },
  {
   "cell_type": "code",
   "execution_count": 42,
   "id": "6a7aa69c-e540-4e6d-89b9-7f1e8a095af7",
   "metadata": {},
   "outputs": [
    {
     "data": {
      "text/plain": [
       "datetime.datetime(2023, 11, 15, 17, 20, 9, 458842)"
      ]
     },
     "execution_count": 42,
     "metadata": {},
     "output_type": "execute_result"
    },
    {
     "name": "stdout",
     "output_type": "stream",
     "text": [
      "2023-11-15 17:20:09.464150\n",
      "2023-11-15 17:20:09.464251\n",
      "datetime.datetime(2023, 11, 15, 17, 20, 9, 464358)\n",
      "2023-11-15 17:20:09.464425\n",
      "✨\n",
      "'\\u2728'\n"
     ]
    }
   ],
   "source": [
    "# special set of syntaxes that don't exist in the original %-formatting\n",
    "# !s !r !a\n",
    "from datetime import datetime\n",
    "\n",
    "datetime.now()  # repr value\n",
    "print(datetime.now())  # str value\n",
    "print(f\"{datetime.now()}\")  # str value by default\n",
    "print(f\"{datetime.now()!r}\")  # repr value\n",
    "print(f\"{datetime.now()!s}\")  # str value\n",
    "\n",
    "sparkles = \"✨\"\n",
    "print(f\"{sparkles}\")\n",
    "print(f\"{sparkles!a}\")  # ascii-safe value"
   ]
  },
  {
   "cell_type": "code",
   "execution_count": 44,
   "id": "6c1dd7a9-8d51-450d-9ffe-4688fbf176b1",
   "metadata": {},
   "outputs": [
    {
     "name": "stdout",
     "output_type": "stream",
     "text": [
      "x=3\n",
      "x = 3\n",
      "x=5 y=8\n",
      "string = '***test***'\n",
      "10 * 2 =20\n"
     ]
    }
   ],
   "source": [
    "# {x=} syntax, usually for debugging purpose. Essentially f\"{abc=}\" is the same as f\"abc={abc!r}\"\n",
    "x, y = 3, 5\n",
    "print(f\"{x=}\")\n",
    "print(f\"{x = }\")\n",
    "\n",
    "x, y = y, x + y\n",
    "print(f\"{x=} {y=}\")\n",
    "\n",
    "string = \"test\".center(10, \"*\")\n",
    "print(f\"{string = }\")\n",
    "print(f\"{10 * 2 =}\")"
   ]
  },
  {
   "cell_type": "code",
   "execution_count": 56,
   "id": "ca0dc219-58d9-4221-8e2e-859181a4ac6a",
   "metadata": {},
   "outputs": [
    {
     "name": "stdout",
     "output_type": "stream",
     "text": [
      "-------Python-------\n"
     ]
    },
    {
     "name": "stdin",
     "output_type": "stream",
     "text": [
      "Enter number of digits of pi:  7\n",
      "Enter string length:  20\n",
      "Enter alignment (<, > or ^):  ^\n",
      "Enter padding character:  -\n"
     ]
    },
    {
     "name": "stdout",
     "output_type": "stream",
     "text": [
      "------3.141592------\n"
     ]
    }
   ],
   "source": [
    "# nested formatting\n",
    "# variable length padding\n",
    "string = \"Python\"\n",
    "size = 20\n",
    "print(f\"{string:-^{size}}\")\n",
    "\n",
    "digits = int(input(\"Enter number of digits of pi: \"))\n",
    "length = int(input(\"Enter string length: \"))\n",
    "alignment = input(\"Enter alignment (<, > or ^): \")\n",
    "padding_char = input(\"Enter padding character: \")\n",
    "print(f\"{pi:{padding_char}{alignment}{length}.{digits}}\")"
   ]
  },
  {
   "cell_type": "code",
   "execution_count": null,
   "id": "80173267-9204-474d-b3c4-5861d8be7ca7",
   "metadata": {},
   "outputs": [],
   "source": []
  },
  {
   "cell_type": "code",
   "execution_count": 9,
   "id": "4bf8d4d4-4661-42ee-87a1-f8ac6d9c106e",
   "metadata": {},
   "outputs": [],
   "source": [
    "# f.tell()?"
   ]
  },
  {
   "cell_type": "code",
   "execution_count": 10,
   "id": "64f801f3-2b82-44cf-a27c-eef42e3f34fd",
   "metadata": {},
   "outputs": [],
   "source": [
    "# json module"
   ]
  },
  {
   "cell_type": "code",
   "execution_count": 11,
   "id": "a4793128-1936-4fbc-9d0a-8e4d7bb8e8f3",
   "metadata": {},
   "outputs": [],
   "source": [
    "# namespace & scope"
   ]
  },
  {
   "cell_type": "code",
   "execution_count": 12,
   "id": "55a6c236-237d-4782-8bd6-4cf662b2ecce",
   "metadata": {},
   "outputs": [],
   "source": [
    "# class objects support two kinds of operations: attribute reference and instantiation"
   ]
  },
  {
   "cell_type": "markdown",
   "id": "19cbed9a-e66b-4fe9-992d-da65d1603bea",
   "metadata": {},
   "source": [
    "The only operations understood by instance objects are **attribute references**. There are two kinds of valid attribute names: *data attributes* and *methods*.\n",
    "\n",
    "*Data attributes* need not be declared; like local variables, they spring into existence when they are first assigned to.\n",
    "\n",
    "Methods of instance objects are *method objects*."
   ]
  },
  {
   "cell_type": "markdown",
   "id": "ddb7decb-d282-471e-9fcd-66ffaee1e7a6",
   "metadata": {},
   "source": [
    "*instance variable* and *class variable*"
   ]
  },
  {
   "cell_type": "markdown",
   "id": "ad41e936-f94f-416d-882a-e6ae7a92f0a6",
   "metadata": {},
   "source": [
    "*cooperative calls* to [super()](https://docs.python.org/3/library/functions.html#super)?"
   ]
  },
  {
   "cell_type": "markdown",
   "id": "d6fb350a-6fd7-4450-939c-d529e498ff2f",
   "metadata": {},
   "source": [
    "*Dynamic ordering* in class inheritances?"
   ]
  },
  {
   "cell_type": "code",
   "execution_count": 13,
   "id": "64f12df9-707a-4de7-ad49-d9945b5d702b",
   "metadata": {},
   "outputs": [],
   "source": [
    "# private variables and name mangling in class"
   ]
  },
  {
   "cell_type": "code",
   "execution_count": 14,
   "id": "ec0b2b84-99bc-4153-ab3a-b9357651565e",
   "metadata": {},
   "outputs": [],
   "source": [
    "# exec() and eval() function\n",
    "# getattr(), setattr(), delattr()"
   ]
  },
  {
   "cell_type": "markdown",
   "id": "8ce25d26-09b2-411e-88cb-7aa5fd5d9917",
   "metadata": {},
   "source": [
    "A piece of Python code that expects a particular *abstract data type* can often be passed a class that *emulates* the methods of that data type instead. For instance, if you have a function that formats some data from a file object, you can define a class with methods read() and readline() that get the data from a string buffer instead, and pass it as an argument. ??"
   ]
  },
  {
   "cell_type": "markdown",
   "id": "24156f0d-790e-4eb2-bffa-ef6f4a02041d",
   "metadata": {},
   "source": [
    "iterator in classes."
   ]
  },
  {
   "cell_type": "markdown",
   "id": "e8d37e5a-4ef3-43df-a6c3-2c9cf39622cc",
   "metadata": {},
   "source": [
    "generator and generator expressions"
   ]
  },
  {
   "cell_type": "markdown",
   "id": "e191a451-7fc2-4f6e-a122-8d8ed385bdf3",
   "metadata": {},
   "source": [
    "the *sys* module"
   ]
  },
  {
   "cell_type": "code",
   "execution_count": 15,
   "id": "464b79f3-cece-4350-9fab-eefe39510539",
   "metadata": {},
   "outputs": [],
   "source": [
    "# nonlocal and gloabl keyword in function and class definitions"
   ]
  },
  {
   "cell_type": "code",
   "execution_count": 16,
   "id": "f79e35dd-ebee-4a7f-b68c-4bf175d05f41",
   "metadata": {},
   "outputs": [],
   "source": [
    "# builtins module of Python"
   ]
  },
  {
   "cell_type": "code",
   "execution_count": 17,
   "id": "9e59d489-e469-47ed-a138-85b920e4c4c6",
   "metadata": {},
   "outputs": [],
   "source": [
    "# __build_class__ ?"
   ]
  },
  {
   "cell_type": "code",
   "execution_count": 18,
   "id": "69c5916a-5127-45af-8f39-6f77e20319dc",
   "metadata": {},
   "outputs": [],
   "source": [
    "# byte and bytearrary, memoryview"
   ]
  },
  {
   "cell_type": "code",
   "execution_count": 19,
   "id": "7aa94ec6-2d9c-4d9a-98bc-305cb8b5e054",
   "metadata": {},
   "outputs": [],
   "source": [
    "# string is a iterable or collection, but not a container\n",
    "# container: list, tuple, dictionary, set, frozenset"
   ]
  },
  {
   "cell_type": "code",
   "execution_count": 20,
   "id": "cc88db96-4d40-4849-b854-6b4c4e224954",
   "metadata": {},
   "outputs": [],
   "source": [
    "# iterator protocol, this means an object has an __iter__ magic method,\n",
    "# A better way to check is to try using the iter function"
   ]
  },
  {
   "cell_type": "code",
   "execution_count": 21,
   "id": "5065a042-b9c9-42cf-bd27-9a1b161187cd",
   "metadata": {},
   "outputs": [],
   "source": [
    "# bitwise operations"
   ]
  },
  {
   "cell_type": "markdown",
   "id": "3b35a13c-da47-426b-b20c-ae9e12335f29",
   "metadata": {},
   "source": [
    "[Format Specification Mini-Language](https://docs.python.org/3/library/string.html#format-specification-mini-language)"
   ]
  }
 ],
 "metadata": {
  "kernelspec": {
   "display_name": "Python 3 (ipykernel)",
   "language": "python",
   "name": "python3"
  },
  "language_info": {
   "codemirror_mode": {
    "name": "ipython",
    "version": 3
   },
   "file_extension": ".py",
   "mimetype": "text/x-python",
   "name": "python",
   "nbconvert_exporter": "python",
   "pygments_lexer": "ipython3",
   "version": "3.11.3"
  }
 },
 "nbformat": 4,
 "nbformat_minor": 5
}
