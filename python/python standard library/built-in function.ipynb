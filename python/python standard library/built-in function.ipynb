{
 "cells": [
  {
   "cell_type": "code",
   "execution_count": 138,
   "id": "7f6951ee-88d2-40b1-b1ce-476b825ae783",
   "metadata": {},
   "outputs": [],
   "source": [
    "from IPython.core.interactiveshell import InteractiveShell\n",
    "InteractiveShell.ast_node_interactivity = \"all\""
   ]
  },
  {
   "cell_type": "markdown",
   "id": "5921c147-905e-4391-98ad-872d403389ea",
   "metadata": {},
   "source": [
    "Python's standard library is very *extensive*, offering a wide range of *facilities*. The library containts *built-in modules* (written in C) that provide access to *system functionality* such as file I/O that would otherwise be inaccessible to Python programmers, as well as modules written in Python that provide *standardized solutions* for many problems that occur in everyday programming. Some of these modules are explicitly designed to encourage and enhance the *portability* of Python programs by abstracting away platform--specifics into platform-neutral APIs.\n",
    "\n",
    "In addition to the standard library, there is an active collection of hundreds of thousands of components (from individual programs and modules to packages and entire application development frameworks), available from the *Python Package Index*."
   ]
  },
  {
   "cell_type": "markdown",
   "id": "e67635df-ab08-4219-b357-4d359ec435c1",
   "metadata": {},
   "source": [
    "## Built-in Functions"
   ]
  },
  {
   "cell_type": "markdown",
   "id": "4daf5007-af47-4457-a5c2-e8f15d0bc229",
   "metadata": {},
   "source": [
    "The Python interpreter has a number of *functions* and *types* built into it that are always available.\n",
    "\n",
    "see [this article](https://tushar.lol/post/builtins/) post onlie:"
   ]
  },
  {
   "cell_type": "markdown",
   "id": "795cafaa-5fb9-4086-809a-fec069e293ba",
   "metadata": {},
   "source": [
    "A builtin in Python is eveything that lives in the `builtins` module.\n",
    "\n",
    "First, you need to learn about the *L.E.G.B rule*. This defines the order of scopes in which variables are looked up in Python. It stands for:\n",
    "- Local scope\n",
    "- Enclosing (or nonlocal) scope\n",
    "- Global scope\n",
    "- Builtin scope"
   ]
  },
  {
   "cell_type": "markdown",
   "id": "6fa33648-3f62-473a-8715-6e0b07a1e8b7",
   "metadata": {},
   "source": [
    "The **local scope** refers to the scope that comes with the *current function or class* you are in. Every *function call* and *class instantiation* creates a fresh local scope, to hold *local variables* in.\n",
    "\n",
    "example:\n",
    "```Python\n",
    "x = 11\n",
    "print(x)\n",
    "\n",
    "def some_function():\n",
    "    x = 22\n",
    "    print(x)\n",
    "\n",
    "some_function()\n",
    "\n",
    "print(x)\n",
    "```\n",
    "\n",
    "Running this code outputs: \n",
    "```Python\n",
    "11\n",
    "22\n",
    "11\n",
    "```"
   ]
  },
  {
   "cell_type": "markdown",
   "id": "785081a4-461c-4a14-b4ab-d4ee694bfff5",
   "metadata": {},
   "source": [
    "The **enclosing scope** (or nonlocal scope) refers to the scope of the classes or functions inside which the current function/class lives.\n",
    "\n",
    "```Python\n",
    "x = 11\n",
    "def outer_function():\n",
    "    x = 22\n",
    "    y = 789\n",
    "\n",
    "    def inner_function():\n",
    "        x = 33\n",
    "        print('Inner x:', x)\n",
    "        print('Enclosing y:', y)\n",
    "\n",
    "    inner_function()\n",
    "    print('Outer x:', x)\n",
    "\n",
    "outer_function()\n",
    "print('Global x:', x)\n",
    "```\n",
    "The output of this is:\n",
    "```Python\n",
    "Inner x: 33\n",
    "Enclosing y: 789\n",
    "Outer x: 22\n",
    "Global x: 11\n",
    "```"
   ]
  },
  {
   "cell_type": "markdown",
   "id": "7a76bbb2-9ed9-4a8b-9267-e88eb1b111ae",
   "metadata": {},
   "source": [
    "You can use `nonlocal` keyword in Python to tell the interpreter that you don't mean to define a new variable in the local scope, but you want to *modify* the one in the enclosing scope."
   ]
  },
  {
   "cell_type": "code",
   "execution_count": 2,
   "id": "f2626322-f34f-4ad7-8d90-a240b257844c",
   "metadata": {},
   "outputs": [
    {
     "name": "stdout",
     "output_type": "stream",
     "text": [
      "Inner x: 22\n",
      "Outer x: 22\n"
     ]
    }
   ],
   "source": [
    "def outer_function():\n",
    "    x = 11\n",
    "\n",
    "    def inner_function():\n",
    "        nonlocal x\n",
    "        x = 22\n",
    "        print('Inner x:', x)\n",
    "\n",
    "    inner_function()\n",
    "    print('Outer x:', x)\n",
    "\n",
    "outer_function()"
   ]
  },
  {
   "cell_type": "markdown",
   "id": "a4c60bcf-a1a6-4139-a8a6-a08c774f5060",
   "metadata": {},
   "source": [
    "**Global scope** (or module scope) simply refers to the scope where all the *module's top-level* variables, functions, and classes are defined.\n",
    "\n",
    "A \"module\" is any Python file or package that can be *run or imported*. For eg. `time` is a module (as you can do `import time` in your code), and `time.sleep()` is a function defined in `time` module's global scope.\n",
    "\n",
    "Every module in Python has a few *pre-defined* globals, such as `__name__` and `__doc__`, which refer to the module's name and the module's docstring, respectively."
   ]
  },
  {
   "cell_type": "code",
   "execution_count": 3,
   "id": "354a5632-a5d4-454e-9f0c-db9cd67696ac",
   "metadata": {
    "scrolled": true
   },
   "outputs": [
    {
     "name": "stdout",
     "output_type": "stream",
     "text": [
      "__main__\n",
      "Automatically created module for IPython interactive environment\n",
      "time\n",
      "This module provides various functions to manipulate time values.\n",
      "\n",
      "There are two standard representations of time.  One is the number\n",
      "of seconds since the Epoch, in UTC (a.k.a. GMT).  It may be an integer\n",
      "or a floating point number (to represent fractions of seconds).\n",
      "The Epoch is system-defined; on Unix, it is generally January 1st, 1970.\n",
      "The actual value can be retrieved by calling gmtime(0).\n",
      "\n",
      "The other representation is a tuple of 9 integers giving local time.\n",
      "The tuple items are:\n",
      "  year (including century, e.g. 1998)\n",
      "  month (1-12)\n",
      "  day (1-31)\n",
      "  hours (0-23)\n",
      "  minutes (0-59)\n",
      "  seconds (0-59)\n",
      "  weekday (0-6, Monday is 0)\n",
      "  Julian day (day in the year, 1-366)\n",
      "  DST (Daylight Savings Time) flag (-1, 0 or 1)\n",
      "If the DST flag is 0, the time is given in the regular time zone;\n",
      "if it is 1, the time is given in the DST time zone;\n",
      "if it is -1, mktime() should guess based on the date and time.\n",
      "\n"
     ]
    }
   ],
   "source": [
    "print(__name__)\n",
    "print(__doc__)\n",
    "\n",
    "import time\n",
    "print(time.__name__)\n",
    "print(time.__doc__)"
   ]
  },
  {
   "cell_type": "markdown",
   "id": "79cf92d2-7265-4b93-a477-b45bd7229e14",
   "metadata": {},
   "source": [
    "Two things to know about the **builtin scope** in Python:\n",
    "- It's the scope where essentially all of Python's top level functions are defined, such as `len`, `range` and `print`.\n",
    "- When a variable is not found in the local, enclosing or global scope, Python looks for it in the builtins.\n",
    "\n",
    "Checking methods inside the `builtins`:"
   ]
  },
  {
   "cell_type": "code",
   "execution_count": 4,
   "id": "e4af7316-dc92-4dfd-b283-aea8393c2c80",
   "metadata": {
    "scrolled": true
   },
   "outputs": [
    {
     "data": {
      "text/plain": [
       "<module 'builtins' (built-in)>"
      ]
     },
     "execution_count": 4,
     "metadata": {},
     "output_type": "execute_result"
    },
    {
     "data": {
      "text/plain": [
       "<function abs(x, /)>"
      ]
     },
     "execution_count": 4,
     "metadata": {},
     "output_type": "execute_result"
    },
    {
     "data": {
      "text/plain": [
       "<module 'builtins' (built-in)>"
      ]
     },
     "execution_count": 4,
     "metadata": {},
     "output_type": "execute_result"
    },
    {
     "data": {
      "text/plain": [
       "<function abs(x, /)>"
      ]
     },
     "execution_count": 4,
     "metadata": {},
     "output_type": "execute_result"
    }
   ],
   "source": [
    "import builtins\n",
    "builtins\n",
    "builtins.abs\n",
    "__builtins__\n",
    "__builtins__.abs"
   ]
  },
  {
   "cell_type": "code",
   "execution_count": 5,
   "id": "8eaa2ca1-f5bd-47e3-812f-f407dc28e235",
   "metadata": {
    "scrolled": true
   },
   "outputs": [
    {
     "name": "stdout",
     "output_type": "stream",
     "text": [
      "['ArithmeticError', 'AssertionError', 'AttributeError', 'BaseException', 'BaseExceptionGroup', 'BlockingIOError', 'BrokenPipeError', 'BufferError', 'BytesWarning', 'ChildProcessError', 'ConnectionAbortedError', 'ConnectionError', 'ConnectionRefusedError', 'ConnectionResetError', 'DeprecationWarning', 'EOFError', 'Ellipsis', 'EncodingWarning', 'EnvironmentError', 'Exception', 'ExceptionGroup', 'False', 'FileExistsError', 'FileNotFoundError', 'FloatingPointError', 'FutureWarning', 'GeneratorExit', 'IOError', 'ImportError', 'ImportWarning', 'IndentationError', 'IndexError', 'InterruptedError', 'IsADirectoryError', 'KeyError', 'KeyboardInterrupt', 'LookupError', 'MemoryError', 'ModuleNotFoundError', 'NameError', 'None', 'NotADirectoryError', 'NotImplemented', 'NotImplementedError', 'OSError', 'OverflowError', 'PendingDeprecationWarning', 'PermissionError', 'ProcessLookupError', 'RecursionError', 'ReferenceError', 'ResourceWarning', 'RuntimeError', 'RuntimeWarning', 'StopAsyncIteration', 'StopIteration', 'SyntaxError', 'SyntaxWarning', 'SystemError', 'SystemExit', 'TabError', 'TimeoutError', 'True', 'TypeError', 'UnboundLocalError', 'UnicodeDecodeError', 'UnicodeEncodeError', 'UnicodeError', 'UnicodeTranslateError', 'UnicodeWarning', 'UserWarning', 'ValueError', 'Warning', 'ZeroDivisionError', '__IPYTHON__', '__build_class__', '__debug__', '__doc__', '__import__', '__loader__', '__name__', '__package__', '__spec__', 'abs', 'aiter', 'all', 'anext', 'any', 'ascii', 'bin', 'bool', 'breakpoint', 'bytearray', 'bytes', 'callable', 'chr', 'classmethod', 'compile', 'complex', 'copyright', 'credits', 'delattr', 'dict', 'dir', 'display', 'divmod', 'enumerate', 'eval', 'exec', 'filter', 'float', 'format', 'frozenset', 'get_ipython', 'getattr', 'globals', 'hasattr', 'hash', 'help', 'hex', 'id', 'input', 'int', 'isinstance', 'issubclass', 'iter', 'len', 'license', 'list', 'locals', 'map', 'max', 'memoryview', 'min', 'next', 'object', 'oct', 'open', 'ord', 'pow', 'print', 'property', 'range', 'repr', 'reversed', 'round', 'set', 'setattr', 'slice', 'sorted', 'staticmethod', 'str', 'sum', 'super', 'tuple', 'type', 'vars', 'zip']\n"
     ]
    }
   ],
   "source": [
    "# use dir function to print all the variables defined inside a module or class\n",
    "print(dir(__builtins__))"
   ]
  },
  {
   "cell_type": "markdown",
   "id": "5b263aed-29d0-4f9c-a0c2-42da72bb8419",
   "metadata": {},
   "source": [
    "### `compile`, `exec`, and `eval`: How the code works"
   ]
  },
  {
   "cell_type": "markdown",
   "id": "c57c0252-3158-4b3e-a4eb-b0c38bf5a355",
   "metadata": {},
   "source": [
    "The steps that the Python interpreter takes to run code:\n",
    "- It takes source file and parses it into a *syntax tree*.\n",
    "- Compile this syntax tree into *bytecode*.\n",
    "- The bytecode-form of code is then run on the *Python VM*.\n",
    "\n",
    "The *syntax tree* is a representation of code that can be more easily understood by a program. *Bytecode* is a set oof micro-instructions for **Python's virtual machine**. This \"virtual machine\" is where Python's *interpreter logic* resides. The *bytecode instructions* are simple things like pushing and poping data off the current stack."
   ]
  },
  {
   "cell_type": "code",
   "execution_count": 6,
   "id": "4f815a11-670e-4c5b-9c69-7bef249db06d",
   "metadata": {},
   "outputs": [
    {
     "name": "stdout",
     "output_type": "stream",
     "text": [
      "[1, 2]\n"
     ]
    }
   ],
   "source": [
    "x = [1, 2]\n",
    "print(x)"
   ]
  },
  {
   "cell_type": "code",
   "execution_count": 7,
   "id": "8960595d-fcf0-48c0-b87d-ba50946da65b",
   "metadata": {},
   "outputs": [
    {
     "name": "stdout",
     "output_type": "stream",
     "text": [
      "[1, 2]\n",
      "5\n"
     ]
    }
   ],
   "source": [
    "# give the above program as a string to Python's builtin function exec\n",
    "code = '''\n",
    "x = [1, 2]\n",
    "print(x)\n",
    "'''\n",
    "\n",
    "# exec is short for execute\n",
    "exec(code)\n",
    "\n",
    "# exec function can read and manipulate variables just like any other piece of code in a Python file\n",
    "x = 5\n",
    "exec('print(x)')\n",
    "\n",
    "# exec function is useful for implementing some really dynamic behavior,\n",
    "# or to modify the code being read from a Python file"
   ]
  },
  {
   "cell_type": "code",
   "execution_count": 8,
   "id": "4e59a266-1f28-44e2-b716-0d9ae04cf979",
   "metadata": {},
   "outputs": [
    {
     "name": "stdout",
     "output_type": "stream",
     "text": [
      "Module(\n",
      "  body=[\n",
      "    Assign(\n",
      "      targets=[\n",
      "        Name(id='x', ctx=Store())],\n",
      "      value=List(\n",
      "        elts=[\n",
      "          Constant(value=1),\n",
      "          Constant(value=2)],\n",
      "        ctx=Load())),\n",
      "    Expr(\n",
      "      value=Call(\n",
      "        func=Name(id='print', ctx=Load()),\n",
      "        args=[\n",
      "          Name(id='x', ctx=Load())],\n",
      "        keywords=[]))],\n",
      "  type_ignores=[])\n"
     ]
    }
   ],
   "source": [
    "# exec also takes in code objects which are the \"bytecode\" version of Python programs\n",
    "# generate an abstract syntax tree from code using the ast module\n",
    "import ast\n",
    "\n",
    "code = '''\n",
    "x = [1, 2]\n",
    "print(x)\n",
    "'''\n",
    "\n",
    "tree = ast.parse(code)\n",
    "print(ast.dump(tree, indent=2))"
   ]
  },
  {
   "cell_type": "code",
   "execution_count": 9,
   "id": "d5cb48a9-8407-41e3-bc55-aacad666d398",
   "metadata": {},
   "outputs": [],
   "source": [
    "# There's one step before parsing the code into an AST: lexing\n",
    "# This refers to converting the source code into tokens, based on Python's grammar\n",
    "# This \"token stream\" is what's parsed into an AST (Abstract Syntax Tree)"
   ]
  },
  {
   "cell_type": "code",
   "execution_count": 10,
   "id": "6425ad06-2e4b-41a7-8860-ee6dd7c06b58",
   "metadata": {},
   "outputs": [
    {
     "name": "stdout",
     "output_type": "stream",
     "text": [
      "[1, 2]\n"
     ]
    }
   ],
   "source": [
    "# now, variable tree is an AST tree, we can compile it into a code object using compile function\n",
    "# run exec on the code object will then run it just as before running the string object\n",
    "code_obj = compile(tree, 'myfile.py', 'exec')\n",
    "exec(code_obj)"
   ]
  },
  {
   "cell_type": "code",
   "execution_count": 11,
   "id": "a444e598-7a52-4dde-b0e2-88586a18afaf",
   "metadata": {},
   "outputs": [
    {
     "data": {
      "text/plain": [
       "b'\\x97\\x00d\\x00d\\x01g\\x02Z\\x00\\x02\\x00e\\x01e\\x00\\xa6\\x01\\x00\\x00\\xab\\x01\\x00\\x00\\x00\\x00\\x00\\x00\\x00\\x00\\x01\\x00d\\x02S\\x00'"
      ]
     },
     "execution_count": 11,
     "metadata": {},
     "output_type": "execute_result"
    },
    {
     "data": {
      "text/plain": [
       "'myfile.py'"
      ]
     },
     "execution_count": 11,
     "metadata": {},
     "output_type": "execute_result"
    },
    {
     "data": {
      "text/plain": [
       "('x', 'print')"
      ]
     },
     "execution_count": 11,
     "metadata": {},
     "output_type": "execute_result"
    },
    {
     "data": {
      "text/plain": [
       "(1, 2, None)"
      ]
     },
     "execution_count": 11,
     "metadata": {},
     "output_type": "execute_result"
    },
    {
     "data": {
      "text/plain": [
       "36"
      ]
     },
     "execution_count": 11,
     "metadata": {},
     "output_type": "execute_result"
    }
   ],
   "source": [
    "# We can examine some properties of code object to see what a code object looks like\n",
    "code_obj.co_code\n",
    "code_obj.co_filename\n",
    "code_obj.co_names\n",
    "code_obj.co_consts\n",
    "len(code_obj.co_code)    # the length of the bytecode object"
   ]
  },
  {
   "cell_type": "code",
   "execution_count": 12,
   "id": "69f0d2c9-7ed2-4735-bd18-cfe7bbd0ad65",
   "metadata": {},
   "outputs": [
    {
     "name": "stdout",
     "output_type": "stream",
     "text": [
      "  0           0 RESUME                   0\n",
      "\n",
      "  2           2 LOAD_CONST               0 (1)\n",
      "              4 LOAD_CONST               1 (2)\n",
      "              6 BUILD_LIST               2\n",
      "              8 STORE_NAME               0 (x)\n",
      "\n",
      "  3          10 PUSH_NULL\n",
      "             12 LOAD_NAME                1 (print)\n",
      "             14 LOAD_NAME                0 (x)\n",
      "             16 PRECALL                  1\n",
      "             20 CALL                     1\n",
      "             30 POP_TOP\n",
      "             32 LOAD_CONST               2 (None)\n",
      "             34 RETURN_VALUE\n"
     ]
    }
   ],
   "source": [
    "# use dis module to visualize the contents of code objects, it takes in the bytecode, constant and variable information\n",
    "import dis\n",
    "dis.dis('''\n",
    "x = [1, 2]\n",
    "print(x)\n",
    "''')"
   ]
  },
  {
   "cell_type": "markdown",
   "id": "df4afc05-398e-4cc9-8c71-1c8c0a5c3dcf",
   "metadata": {},
   "source": [
    "`eval` is pretty similar to `exec`, except it only accepts *expressions* (not statements or a set of statements like `exec`), and unlike `exec`, it returns a value -- the result of expression."
   ]
  },
  {
   "cell_type": "code",
   "execution_count": 13,
   "id": "3ed57076-b7e3-4c18-9288-c27c7cff6892",
   "metadata": {},
   "outputs": [
    {
     "data": {
      "text/plain": [
       "2"
      ]
     },
     "execution_count": 13,
     "metadata": {},
     "output_type": "execute_result"
    }
   ],
   "source": [
    "eval('1 + 1')\n",
    "exec('1 + 1')"
   ]
  },
  {
   "cell_type": "code",
   "execution_count": 14,
   "id": "e22d76df-e798-4092-aa34-c7c1e990600c",
   "metadata": {},
   "outputs": [
    {
     "data": {
      "text/plain": [
       "2"
      ]
     },
     "execution_count": 14,
     "metadata": {},
     "output_type": "execute_result"
    }
   ],
   "source": [
    "# evaluate the code for its value\n",
    "expr = ast.parse('1 + 1', mode='eval')\n",
    "code_obj = compile(expr, '<code>', 'eval')\n",
    "eval(code_obj)"
   ]
  },
  {
   "cell_type": "markdown",
   "id": "4d9b5481-7046-42fc-9ed0-a9efbd162f88",
   "metadata": {},
   "source": [
    "### `globals` and `locals`: Where everything is stored"
   ]
  },
  {
   "cell_type": "markdown",
   "id": "dec55dff-5219-4206-845e-d1afc17b1df0",
   "metadata": {},
   "source": [
    "The code objects produced store the *logic* as well as *constants* defined within a piece of code, but they don't (or even can't?) store is the the actual values of the variables being used."
   ]
  },
  {
   "cell_type": "code",
   "execution_count": 15,
   "id": "6dd18848-f7ae-40e5-99e9-461b58ab7184",
   "metadata": {},
   "outputs": [],
   "source": [
    "def double(number):\n",
    "    return number * 2"
   ]
  },
  {
   "cell_type": "markdown",
   "id": "01ffeb9a-ca75-4bb5-9893-6661d6b426d3",
   "metadata": {},
   "source": [
    "The code object of this function will store the constant `2`, as well as the variable name `number`, but it obviously cannot contain the actual value of `number`, as that isn't given to it until the function is actually run.\n",
    "\n",
    "So where does that actual value come from? Python stores everthing inside *dictionaries* associated with each *local scope*. Which means that every piece of code has its own defined \"local scope\" which is accessed using `locals()` inside that code, that contains the *values* corresponding to each variable name."
   ]
  },
  {
   "cell_type": "code",
   "execution_count": 16,
   "id": "0b602407-5f84-4dbc-9d65-97b6cc88a6c5",
   "metadata": {
    "scrolled": true
   },
   "outputs": [
    {
     "data": {
      "text/plain": [
       "10"
      ]
     },
     "execution_count": 16,
     "metadata": {},
     "output_type": "execute_result"
    },
    {
     "data": {
      "text/plain": [
       "{'__name__': '__main__',\n",
       " '__doc__': 'Automatically created module for IPython interactive environment',\n",
       " '__package__': None,\n",
       " '__loader__': None,\n",
       " '__spec__': None,\n",
       " '__builtin__': <module 'builtins' (built-in)>,\n",
       " '__builtins__': <module 'builtins' (built-in)>,\n",
       " '_ih': ['',\n",
       "  'from IPython.core.interactiveshell import InteractiveShell\\nInteractiveShell.ast_node_interactivity = \"all\"',\n",
       "  \"def outer_function():\\n    x = 11\\n\\n    def inner_function():\\n        nonlocal x\\n        x = 22\\n        print('Inner x:', x)\\n\\n    inner_function()\\n    print('Outer x:', x)\\n\\nouter_function()\",\n",
       "  'print(__name__)\\nprint(__doc__)\\n\\nimport time\\nprint(time.__name__)\\nprint(time.__doc__)',\n",
       "  'import builtins\\nbuiltins\\nbuiltins.abs\\n__builtins__\\n__builtins__.abs',\n",
       "  '# use dir function to print all the variables defined inside a module or class\\nprint(dir(__builtins__))',\n",
       "  'x = [1, 2]\\nprint(x)',\n",
       "  \"# give the above program as a string to Python's builtin function exec\\ncode = '''\\nx = [1, 2]\\nprint(x)\\n'''\\n\\n# exec is short for execute\\nexec(code)\\n\\n# exec function can read and manipulate variables just like any other piece of code in a Python file\\nx = 5\\nexec('print(x)')\\n\\n# exec function is useful for implementing some really dynamic behavior,\\n# or to modify the code being read from a Python file\",\n",
       "  '# exec also takes in code objects which are the \"bytecode\" version of Python programs\\n# generate an abstract syntax tree from code using the ast module\\nimport ast\\n\\ncode = \\'\\'\\'\\nx = [1, 2]\\nprint(x)\\n\\'\\'\\'\\n\\ntree = ast.parse(code)\\nprint(ast.dump(tree, indent=2))',\n",
       "  '# There\\'s one step before parsing the code into an AST: lexing\\n# This refers to converting the source code into tokens, based on Python\\'s grammar\\n# This \"token stream\" is what\\'s parsed into an AST (Abstract Syntax Tree)',\n",
       "  \"# now, variable tree is an AST tree, we can compile it into a code object using compile function\\n# run exec on the code object will then run it just as before running the string object\\ncode_obj = compile(tree, 'myfile.py', 'exec')\\nexec(code_obj)\",\n",
       "  '# We can examine some properties of code object to see what a code object looks like\\ncode_obj.co_code\\ncode_obj.co_filename\\ncode_obj.co_names\\ncode_obj.co_consts\\nlen(code_obj.co_code)    # the length of the bytecode object',\n",
       "  \"# use dis module to visualize the contents of code objects, it takes in the bytecode, constant and variable information\\nimport dis\\ndis.dis('''\\nx = [1, 2]\\nprint(x)\\n''')\",\n",
       "  \"eval('1 + 1')\\nexec('1 + 1')\",\n",
       "  \"# evaluate the code for its value\\nexpr = ast.parse('1 + 1', mode='eval')\\ncode_obj = compile(expr, '<code>', 'eval')\\neval(code_obj)\",\n",
       "  'def double(number):\\n    return number * 2',\n",
       "  'value = 5\\ndouble(5)\\n\\nlocals()'],\n",
       " '_oh': {4: <function abs(x, /)>, 11: 36, 13: 2, 14: 2, 16: 10},\n",
       " '_dh': [PosixPath('/Users/wenyunxin/Documents/github/computer-science-practicing/python/python standard library')],\n",
       " 'In': ['',\n",
       "  'from IPython.core.interactiveshell import InteractiveShell\\nInteractiveShell.ast_node_interactivity = \"all\"',\n",
       "  \"def outer_function():\\n    x = 11\\n\\n    def inner_function():\\n        nonlocal x\\n        x = 22\\n        print('Inner x:', x)\\n\\n    inner_function()\\n    print('Outer x:', x)\\n\\nouter_function()\",\n",
       "  'print(__name__)\\nprint(__doc__)\\n\\nimport time\\nprint(time.__name__)\\nprint(time.__doc__)',\n",
       "  'import builtins\\nbuiltins\\nbuiltins.abs\\n__builtins__\\n__builtins__.abs',\n",
       "  '# use dir function to print all the variables defined inside a module or class\\nprint(dir(__builtins__))',\n",
       "  'x = [1, 2]\\nprint(x)',\n",
       "  \"# give the above program as a string to Python's builtin function exec\\ncode = '''\\nx = [1, 2]\\nprint(x)\\n'''\\n\\n# exec is short for execute\\nexec(code)\\n\\n# exec function can read and manipulate variables just like any other piece of code in a Python file\\nx = 5\\nexec('print(x)')\\n\\n# exec function is useful for implementing some really dynamic behavior,\\n# or to modify the code being read from a Python file\",\n",
       "  '# exec also takes in code objects which are the \"bytecode\" version of Python programs\\n# generate an abstract syntax tree from code using the ast module\\nimport ast\\n\\ncode = \\'\\'\\'\\nx = [1, 2]\\nprint(x)\\n\\'\\'\\'\\n\\ntree = ast.parse(code)\\nprint(ast.dump(tree, indent=2))',\n",
       "  '# There\\'s one step before parsing the code into an AST: lexing\\n# This refers to converting the source code into tokens, based on Python\\'s grammar\\n# This \"token stream\" is what\\'s parsed into an AST (Abstract Syntax Tree)',\n",
       "  \"# now, variable tree is an AST tree, we can compile it into a code object using compile function\\n# run exec on the code object will then run it just as before running the string object\\ncode_obj = compile(tree, 'myfile.py', 'exec')\\nexec(code_obj)\",\n",
       "  '# We can examine some properties of code object to see what a code object looks like\\ncode_obj.co_code\\ncode_obj.co_filename\\ncode_obj.co_names\\ncode_obj.co_consts\\nlen(code_obj.co_code)    # the length of the bytecode object',\n",
       "  \"# use dis module to visualize the contents of code objects, it takes in the bytecode, constant and variable information\\nimport dis\\ndis.dis('''\\nx = [1, 2]\\nprint(x)\\n''')\",\n",
       "  \"eval('1 + 1')\\nexec('1 + 1')\",\n",
       "  \"# evaluate the code for its value\\nexpr = ast.parse('1 + 1', mode='eval')\\ncode_obj = compile(expr, '<code>', 'eval')\\neval(code_obj)\",\n",
       "  'def double(number):\\n    return number * 2',\n",
       "  'value = 5\\ndouble(5)\\n\\nlocals()'],\n",
       " 'Out': {4: <function abs(x, /)>, 11: 36, 13: 2, 14: 2, 16: 10},\n",
       " 'get_ipython': <bound method InteractiveShell.get_ipython of <ipykernel.zmqshell.ZMQInteractiveShell object at 0x112220250>>,\n",
       " 'exit': <IPython.core.autocall.ZMQExitAutocall at 0x112249890>,\n",
       " 'quit': <IPython.core.autocall.ZMQExitAutocall at 0x112249890>,\n",
       " 'open': <function io.open(file, mode='r', buffering=-1, encoding=None, errors=None, newline=None, closefd=True, opener=None)>,\n",
       " '_': 10,\n",
       " '__': 2,\n",
       " '___': 2,\n",
       " '__session__': '/Users/wenyunxin/Documents/github/computer-science-practicing/python/python standard library/built-in function.ipynb',\n",
       " '_i': 'def double(number):\\n    return number * 2',\n",
       " '_ii': \"# evaluate the code for its value\\nexpr = ast.parse('1 + 1', mode='eval')\\ncode_obj = compile(expr, '<code>', 'eval')\\neval(code_obj)\",\n",
       " '_iii': \"eval('1 + 1')\\nexec('1 + 1')\",\n",
       " '_i1': 'from IPython.core.interactiveshell import InteractiveShell\\nInteractiveShell.ast_node_interactivity = \"all\"',\n",
       " 'InteractiveShell': IPython.core.interactiveshell.InteractiveShell,\n",
       " '_i2': \"def outer_function():\\n    x = 11\\n\\n    def inner_function():\\n        nonlocal x\\n        x = 22\\n        print('Inner x:', x)\\n\\n    inner_function()\\n    print('Outer x:', x)\\n\\nouter_function()\",\n",
       " 'outer_function': <function __main__.outer_function()>,\n",
       " '_i3': 'print(__name__)\\nprint(__doc__)\\n\\nimport time\\nprint(time.__name__)\\nprint(time.__doc__)',\n",
       " 'time': <module 'time' (built-in)>,\n",
       " '_i4': 'import builtins\\nbuiltins\\nbuiltins.abs\\n__builtins__\\n__builtins__.abs',\n",
       " 'builtins': <module 'builtins' (built-in)>,\n",
       " '_4': <function abs(x, /)>,\n",
       " '_i5': '# use dir function to print all the variables defined inside a module or class\\nprint(dir(__builtins__))',\n",
       " '_i6': 'x = [1, 2]\\nprint(x)',\n",
       " 'x': [1, 2],\n",
       " '_i7': \"# give the above program as a string to Python's builtin function exec\\ncode = '''\\nx = [1, 2]\\nprint(x)\\n'''\\n\\n# exec is short for execute\\nexec(code)\\n\\n# exec function can read and manipulate variables just like any other piece of code in a Python file\\nx = 5\\nexec('print(x)')\\n\\n# exec function is useful for implementing some really dynamic behavior,\\n# or to modify the code being read from a Python file\",\n",
       " 'code': '\\nx = [1, 2]\\nprint(x)\\n',\n",
       " '_i8': '# exec also takes in code objects which are the \"bytecode\" version of Python programs\\n# generate an abstract syntax tree from code using the ast module\\nimport ast\\n\\ncode = \\'\\'\\'\\nx = [1, 2]\\nprint(x)\\n\\'\\'\\'\\n\\ntree = ast.parse(code)\\nprint(ast.dump(tree, indent=2))',\n",
       " 'ast': <module 'ast' from '/Library/Frameworks/Python.framework/Versions/3.11/lib/python3.11/ast.py'>,\n",
       " 'tree': <ast.Module at 0x11229da20>,\n",
       " '_i9': '# There\\'s one step before parsing the code into an AST: lexing\\n# This refers to converting the source code into tokens, based on Python\\'s grammar\\n# This \"token stream\" is what\\'s parsed into an AST (Abstract Syntax Tree)',\n",
       " '_i10': \"# now, variable tree is an AST tree, we can compile it into a code object using compile function\\n# run exec on the code object will then run it just as before running the string object\\ncode_obj = compile(tree, 'myfile.py', 'exec')\\nexec(code_obj)\",\n",
       " 'code_obj': <code object <module> at 0x1122d64f0, file \"<code>\", line 1>,\n",
       " '_i11': '# We can examine some properties of code object to see what a code object looks like\\ncode_obj.co_code\\ncode_obj.co_filename\\ncode_obj.co_names\\ncode_obj.co_consts\\nlen(code_obj.co_code)    # the length of the bytecode object',\n",
       " '_11': 36,\n",
       " '_i12': \"# use dis module to visualize the contents of code objects, it takes in the bytecode, constant and variable information\\nimport dis\\ndis.dis('''\\nx = [1, 2]\\nprint(x)\\n''')\",\n",
       " 'dis': <module 'dis' from '/Library/Frameworks/Python.framework/Versions/3.11/lib/python3.11/dis.py'>,\n",
       " '_i13': \"eval('1 + 1')\\nexec('1 + 1')\",\n",
       " '_13': 2,\n",
       " '_i14': \"# evaluate the code for its value\\nexpr = ast.parse('1 + 1', mode='eval')\\ncode_obj = compile(expr, '<code>', 'eval')\\neval(code_obj)\",\n",
       " 'expr': <ast.Expression at 0x11229e6b0>,\n",
       " '_14': 2,\n",
       " '_i15': 'def double(number):\\n    return number * 2',\n",
       " 'double': <function __main__.double(number)>,\n",
       " '_i16': 'value = 5\\ndouble(5)\\n\\nlocals()',\n",
       " 'value': 5,\n",
       " '_16': 10}"
      ]
     },
     "execution_count": 16,
     "metadata": {},
     "output_type": "execute_result"
    }
   ],
   "source": [
    "value = 5\n",
    "double(5)\n",
    "\n",
    "locals()"
   ]
  },
  {
   "cell_type": "markdown",
   "id": "394e03ea-fc71-4da5-90bb-89a80cf320dd",
   "metadata": {},
   "source": [
    "`globals` is pretty similar, except that `globals` always points to the module scope (also known as *global scope*)."
   ]
  },
  {
   "cell_type": "code",
   "execution_count": 17,
   "id": "4e72691f-230a-45df-aaa5-33d778b1fcd7",
   "metadata": {
    "scrolled": true
   },
   "outputs": [
    {
     "name": "stdout",
     "output_type": "stream",
     "text": [
      "{'x': 10, 'y': 20}\n",
      "{'__name__': '__main__', '__doc__': 'Automatically created module for IPython interactive environment', '__package__': None, '__loader__': None, '__spec__': None, '__builtin__': <module 'builtins' (built-in)>, '__builtins__': <module 'builtins' (built-in)>, '_ih': ['', 'from IPython.core.interactiveshell import InteractiveShell\\nInteractiveShell.ast_node_interactivity = \"all\"', \"def outer_function():\\n    x = 11\\n\\n    def inner_function():\\n        nonlocal x\\n        x = 22\\n        print('Inner x:', x)\\n\\n    inner_function()\\n    print('Outer x:', x)\\n\\nouter_function()\", 'print(__name__)\\nprint(__doc__)\\n\\nimport time\\nprint(time.__name__)\\nprint(time.__doc__)', 'import builtins\\nbuiltins\\nbuiltins.abs\\n__builtins__\\n__builtins__.abs', '# use dir function to print all the variables defined inside a module or class\\nprint(dir(__builtins__))', 'x = [1, 2]\\nprint(x)', \"# give the above program as a string to Python's builtin function exec\\ncode = '''\\nx = [1, 2]\\nprint(x)\\n'''\\n\\n# exec is short for execute\\nexec(code)\\n\\n# exec function can read and manipulate variables just like any other piece of code in a Python file\\nx = 5\\nexec('print(x)')\\n\\n# exec function is useful for implementing some really dynamic behavior,\\n# or to modify the code being read from a Python file\", '# exec also takes in code objects which are the \"bytecode\" version of Python programs\\n# generate an abstract syntax tree from code using the ast module\\nimport ast\\n\\ncode = \\'\\'\\'\\nx = [1, 2]\\nprint(x)\\n\\'\\'\\'\\n\\ntree = ast.parse(code)\\nprint(ast.dump(tree, indent=2))', '# There\\'s one step before parsing the code into an AST: lexing\\n# This refers to converting the source code into tokens, based on Python\\'s grammar\\n# This \"token stream\" is what\\'s parsed into an AST (Abstract Syntax Tree)', \"# now, variable tree is an AST tree, we can compile it into a code object using compile function\\n# run exec on the code object will then run it just as before running the string object\\ncode_obj = compile(tree, 'myfile.py', 'exec')\\nexec(code_obj)\", '# We can examine some properties of code object to see what a code object looks like\\ncode_obj.co_code\\ncode_obj.co_filename\\ncode_obj.co_names\\ncode_obj.co_consts\\nlen(code_obj.co_code)    # the length of the bytecode object', \"# use dis module to visualize the contents of code objects, it takes in the bytecode, constant and variable information\\nimport dis\\ndis.dis('''\\nx = [1, 2]\\nprint(x)\\n''')\", \"eval('1 + 1')\\nexec('1 + 1')\", \"# evaluate the code for its value\\nexpr = ast.parse('1 + 1', mode='eval')\\ncode_obj = compile(expr, '<code>', 'eval')\\neval(code_obj)\", 'def double(number):\\n    return number * 2', 'value = 5\\ndouble(5)\\n\\nlocals()', 'magic_number = 42\\n\\ndef function():\\n    x = 10\\n    y = 20\\n    print(locals())\\n    print(globals())\\n\\nfunction()'], '_oh': {4: <built-in function abs>, 11: 36, 13: 2, 14: 2, 16: {...}}, '_dh': [PosixPath('/Users/wenyunxin/Documents/github/computer-science-practicing/python/python standard library')], 'In': ['', 'from IPython.core.interactiveshell import InteractiveShell\\nInteractiveShell.ast_node_interactivity = \"all\"', \"def outer_function():\\n    x = 11\\n\\n    def inner_function():\\n        nonlocal x\\n        x = 22\\n        print('Inner x:', x)\\n\\n    inner_function()\\n    print('Outer x:', x)\\n\\nouter_function()\", 'print(__name__)\\nprint(__doc__)\\n\\nimport time\\nprint(time.__name__)\\nprint(time.__doc__)', 'import builtins\\nbuiltins\\nbuiltins.abs\\n__builtins__\\n__builtins__.abs', '# use dir function to print all the variables defined inside a module or class\\nprint(dir(__builtins__))', 'x = [1, 2]\\nprint(x)', \"# give the above program as a string to Python's builtin function exec\\ncode = '''\\nx = [1, 2]\\nprint(x)\\n'''\\n\\n# exec is short for execute\\nexec(code)\\n\\n# exec function can read and manipulate variables just like any other piece of code in a Python file\\nx = 5\\nexec('print(x)')\\n\\n# exec function is useful for implementing some really dynamic behavior,\\n# or to modify the code being read from a Python file\", '# exec also takes in code objects which are the \"bytecode\" version of Python programs\\n# generate an abstract syntax tree from code using the ast module\\nimport ast\\n\\ncode = \\'\\'\\'\\nx = [1, 2]\\nprint(x)\\n\\'\\'\\'\\n\\ntree = ast.parse(code)\\nprint(ast.dump(tree, indent=2))', '# There\\'s one step before parsing the code into an AST: lexing\\n# This refers to converting the source code into tokens, based on Python\\'s grammar\\n# This \"token stream\" is what\\'s parsed into an AST (Abstract Syntax Tree)', \"# now, variable tree is an AST tree, we can compile it into a code object using compile function\\n# run exec on the code object will then run it just as before running the string object\\ncode_obj = compile(tree, 'myfile.py', 'exec')\\nexec(code_obj)\", '# We can examine some properties of code object to see what a code object looks like\\ncode_obj.co_code\\ncode_obj.co_filename\\ncode_obj.co_names\\ncode_obj.co_consts\\nlen(code_obj.co_code)    # the length of the bytecode object', \"# use dis module to visualize the contents of code objects, it takes in the bytecode, constant and variable information\\nimport dis\\ndis.dis('''\\nx = [1, 2]\\nprint(x)\\n''')\", \"eval('1 + 1')\\nexec('1 + 1')\", \"# evaluate the code for its value\\nexpr = ast.parse('1 + 1', mode='eval')\\ncode_obj = compile(expr, '<code>', 'eval')\\neval(code_obj)\", 'def double(number):\\n    return number * 2', 'value = 5\\ndouble(5)\\n\\nlocals()', 'magic_number = 42\\n\\ndef function():\\n    x = 10\\n    y = 20\\n    print(locals())\\n    print(globals())\\n\\nfunction()'], 'Out': {4: <built-in function abs>, 11: 36, 13: 2, 14: 2, 16: {...}}, 'get_ipython': <bound method InteractiveShell.get_ipython of <ipykernel.zmqshell.ZMQInteractiveShell object at 0x112220250>>, 'exit': <IPython.core.autocall.ZMQExitAutocall object at 0x112249890>, 'quit': <IPython.core.autocall.ZMQExitAutocall object at 0x112249890>, 'open': <function open at 0x111532ca0>, '_': {...}, '__': 10, '___': 2, '__session__': '/Users/wenyunxin/Documents/github/computer-science-practicing/python/python standard library/built-in function.ipynb', '_i': 'value = 5\\ndouble(5)\\n\\nlocals()', '_ii': 'def double(number):\\n    return number * 2', '_iii': \"# evaluate the code for its value\\nexpr = ast.parse('1 + 1', mode='eval')\\ncode_obj = compile(expr, '<code>', 'eval')\\neval(code_obj)\", '_i1': 'from IPython.core.interactiveshell import InteractiveShell\\nInteractiveShell.ast_node_interactivity = \"all\"', 'InteractiveShell': <class 'IPython.core.interactiveshell.InteractiveShell'>, '_i2': \"def outer_function():\\n    x = 11\\n\\n    def inner_function():\\n        nonlocal x\\n        x = 22\\n        print('Inner x:', x)\\n\\n    inner_function()\\n    print('Outer x:', x)\\n\\nouter_function()\", 'outer_function': <function outer_function at 0x1122a14e0>, '_i3': 'print(__name__)\\nprint(__doc__)\\n\\nimport time\\nprint(time.__name__)\\nprint(time.__doc__)', 'time': <module 'time' (built-in)>, '_i4': 'import builtins\\nbuiltins\\nbuiltins.abs\\n__builtins__\\n__builtins__.abs', 'builtins': <module 'builtins' (built-in)>, '_4': <built-in function abs>, '_i5': '# use dir function to print all the variables defined inside a module or class\\nprint(dir(__builtins__))', '_i6': 'x = [1, 2]\\nprint(x)', 'x': [1, 2], '_i7': \"# give the above program as a string to Python's builtin function exec\\ncode = '''\\nx = [1, 2]\\nprint(x)\\n'''\\n\\n# exec is short for execute\\nexec(code)\\n\\n# exec function can read and manipulate variables just like any other piece of code in a Python file\\nx = 5\\nexec('print(x)')\\n\\n# exec function is useful for implementing some really dynamic behavior,\\n# or to modify the code being read from a Python file\", 'code': '\\nx = [1, 2]\\nprint(x)\\n', '_i8': '# exec also takes in code objects which are the \"bytecode\" version of Python programs\\n# generate an abstract syntax tree from code using the ast module\\nimport ast\\n\\ncode = \\'\\'\\'\\nx = [1, 2]\\nprint(x)\\n\\'\\'\\'\\n\\ntree = ast.parse(code)\\nprint(ast.dump(tree, indent=2))', 'ast': <module 'ast' from '/Library/Frameworks/Python.framework/Versions/3.11/lib/python3.11/ast.py'>, 'tree': <ast.Module object at 0x11229da20>, '_i9': '# There\\'s one step before parsing the code into an AST: lexing\\n# This refers to converting the source code into tokens, based on Python\\'s grammar\\n# This \"token stream\" is what\\'s parsed into an AST (Abstract Syntax Tree)', '_i10': \"# now, variable tree is an AST tree, we can compile it into a code object using compile function\\n# run exec on the code object will then run it just as before running the string object\\ncode_obj = compile(tree, 'myfile.py', 'exec')\\nexec(code_obj)\", 'code_obj': <code object <module> at 0x1122d64f0, file \"<code>\", line 1>, '_i11': '# We can examine some properties of code object to see what a code object looks like\\ncode_obj.co_code\\ncode_obj.co_filename\\ncode_obj.co_names\\ncode_obj.co_consts\\nlen(code_obj.co_code)    # the length of the bytecode object', '_11': 36, '_i12': \"# use dis module to visualize the contents of code objects, it takes in the bytecode, constant and variable information\\nimport dis\\ndis.dis('''\\nx = [1, 2]\\nprint(x)\\n''')\", 'dis': <module 'dis' from '/Library/Frameworks/Python.framework/Versions/3.11/lib/python3.11/dis.py'>, '_i13': \"eval('1 + 1')\\nexec('1 + 1')\", '_13': 2, '_i14': \"# evaluate the code for its value\\nexpr = ast.parse('1 + 1', mode='eval')\\ncode_obj = compile(expr, '<code>', 'eval')\\neval(code_obj)\", 'expr': <ast.Expression object at 0x11229e6b0>, '_14': 2, '_i15': 'def double(number):\\n    return number * 2', 'double': <function double at 0x1122d0ae0>, '_i16': 'value = 5\\ndouble(5)\\n\\nlocals()', 'value': 5, '_16': {...}, '_i17': 'magic_number = 42\\n\\ndef function():\\n    x = 10\\n    y = 20\\n    print(locals())\\n    print(globals())\\n\\nfunction()', 'magic_number': 42, 'function': <function function at 0x1122d23e0>}\n"
     ]
    }
   ],
   "source": [
    "magic_number = 42\n",
    "\n",
    "def function():\n",
    "    x = 10\n",
    "    y = 20\n",
    "    print(locals())\n",
    "    print(globals())\n",
    "\n",
    "function()"
   ]
  },
  {
   "cell_type": "markdown",
   "id": "47ad324d-a919-4137-9370-c654ae62fb05",
   "metadata": {},
   "source": [
    "### `input` and `print`: The bread and butter"
   ]
  },
  {
   "cell_type": "markdown",
   "id": "464f0ddf-cf2c-44d5-8241-0d5ff30a781b",
   "metadata": {},
   "source": [
    "Here's the full method signature of `print`:\n",
    "```python\n",
    "print(*args, sep=' ', end='\\n', file=None, flush=False)\n",
    "```\n",
    "\n",
    "`file` parameter refers to the 'file' that you are printing to. By default it points to `sys.stdout`, which is a special \"file\" wrapper. But if you want `print` to write to a file instead, like:"
   ]
  },
  {
   "cell_type": "code",
   "execution_count": 18,
   "id": "5a3357fa-0cd4-4126-a4d2-a48fd8ceeb40",
   "metadata": {},
   "outputs": [],
   "source": [
    "with open('code.txt', 'w') as f:\n",
    "    print('Hello!', file=f)"
   ]
  },
  {
   "cell_type": "markdown",
   "id": "afa90e7b-e68e-47d8-a7ab-842b89b36a2e",
   "metadata": {},
   "source": [
    "`flush` is a boolean flag to the `print` function. All it does is tell `print` to write the text immediately to the console/file instead of putting it in a buffer."
   ]
  },
  {
   "cell_type": "markdown",
   "id": "9bd2bafc-5055-4281-8092-fb3f1ac5a9cc",
   "metadata": {},
   "source": [
    "### `str`, `bytes`, `int`, `bool`, `float` and `complex`: The five primitives"
   ]
  },
  {
   "cell_type": "markdown",
   "id": "c166552f-b80d-40ea-955a-a05dbe84ffaa",
   "metadata": {},
   "source": [
    "*Text-based* type: `str` and `bytes`.\n",
    "\n",
    "Every other data type in Python can be converted into a *string*. This is necessary because all computer Input/Output is in *text-form*, be it user I/O or file I/O.\n",
    "\n",
    "`bytes` are actually the basis of all I/O in computing. All data is stored and handled as *bits and bytes* -- and that's how terminals really work as well."
   ]
  },
  {
   "cell_type": "markdown",
   "id": "80b53ee6-4b43-4434-9038-1b96d948f928",
   "metadata": {},
   "source": [
    "`int` is the lowest common denominator of 2 other data types: `float` and `complex`. `complex` is a supertype of `float`, which in turn is a supertype of `int`."
   ]
  },
  {
   "cell_type": "code",
   "execution_count": 19,
   "id": "7df73585-f0c0-4dff-89f9-cb5059fe2820",
   "metadata": {},
   "outputs": [
    {
     "data": {
      "text/plain": [
       "int"
      ]
     },
     "execution_count": 19,
     "metadata": {},
     "output_type": "execute_result"
    },
    {
     "data": {
      "text/plain": [
       "float"
      ]
     },
     "execution_count": 19,
     "metadata": {},
     "output_type": "execute_result"
    },
    {
     "data": {
      "text/plain": [
       "complex"
      ]
     },
     "execution_count": 19,
     "metadata": {},
     "output_type": "execute_result"
    },
    {
     "data": {
      "text/plain": [
       "True"
      ]
     },
     "execution_count": 19,
     "metadata": {},
     "output_type": "execute_result"
    },
    {
     "data": {
      "text/plain": [
       "5.0"
      ]
     },
     "execution_count": 19,
     "metadata": {},
     "output_type": "execute_result"
    },
    {
     "data": {
      "text/plain": [
       "(5+0j)"
      ]
     },
     "execution_count": 19,
     "metadata": {},
     "output_type": "execute_result"
    },
    {
     "data": {
      "text/plain": [
       "5.0"
      ]
     },
     "execution_count": 19,
     "metadata": {},
     "output_type": "execute_result"
    },
    {
     "data": {
      "text/plain": [
       "(5+0j)"
      ]
     },
     "execution_count": 19,
     "metadata": {},
     "output_type": "execute_result"
    }
   ],
   "source": [
    "x = 5\n",
    "y = 5.0\n",
    "z = 5.0 + 0.0j\n",
    "type(x)\n",
    "type(y)\n",
    "type(z)\n",
    "\n",
    "x == y == z\n",
    "\n",
    "y\n",
    "z\n",
    "\n",
    "float(x)\n",
    "complex(x)"
   ]
  },
  {
   "cell_type": "markdown",
   "id": "fd956b35-fd5b-4df7-8716-92d4921c8701",
   "metadata": {},
   "source": [
    "`bool` is actually not a primitive data type -- it's actually a *subclass* of `int`! By looking into the `mro` property of these classes.\n",
    "\n",
    "Historically, logical true/false operations in Python simply used `0` for false and `1` for true. In Python version 2.2, the boolean values `True` and `False` were added to Python, and they were simply wrappers around these integer values.\n",
    "\n",
    "`mro` stands for \"method resolution order\". It defines the *order* in which the *methods* called on a class are looked for. Everything in Python inherits from `object`. Pretty much everything in Python is an *object*."
   ]
  },
  {
   "cell_type": "code",
   "execution_count": 20,
   "id": "ea6925a6-4bf1-4939-a6ac-799d324e31fa",
   "metadata": {},
   "outputs": [
    {
     "data": {
      "text/plain": [
       "[int, object]"
      ]
     },
     "execution_count": 20,
     "metadata": {},
     "output_type": "execute_result"
    },
    {
     "data": {
      "text/plain": [
       "[float, object]"
      ]
     },
     "execution_count": 20,
     "metadata": {},
     "output_type": "execute_result"
    },
    {
     "data": {
      "text/plain": [
       "[complex, object]"
      ]
     },
     "execution_count": 20,
     "metadata": {},
     "output_type": "execute_result"
    },
    {
     "data": {
      "text/plain": [
       "[str, object]"
      ]
     },
     "execution_count": 20,
     "metadata": {},
     "output_type": "execute_result"
    },
    {
     "data": {
      "text/plain": [
       "[bytes, object]"
      ]
     },
     "execution_count": 20,
     "metadata": {},
     "output_type": "execute_result"
    },
    {
     "data": {
      "text/plain": [
       "[bool, int, object]"
      ]
     },
     "execution_count": 20,
     "metadata": {},
     "output_type": "execute_result"
    }
   ],
   "source": [
    "int.mro()\n",
    "float.mro()\n",
    "complex.mro()\n",
    "str.mro()\n",
    "bytes.mro()\n",
    "bool.mro()    # the result is \"[bool, int, object]\", so bool is a subclass of int"
   ]
  },
  {
   "cell_type": "markdown",
   "id": "f0e9c0df-b4df-4731-b3f4-8ceddf42b77b",
   "metadata": {},
   "source": [
    "### `object`: The base"
   ]
  },
  {
   "cell_type": "markdown",
   "id": "57a7ee6b-e26b-43ec-924c-b724115a5463",
   "metadata": {},
   "source": [
    "`object` is the *base class* of the entire class hierarchy. The `object` class defines some of the most *fundamental properties* of objects in Python."
   ]
  },
  {
   "cell_type": "code",
   "execution_count": 21,
   "id": "01d6077c-df97-4adf-a35b-94f4c9dae80b",
   "metadata": {
    "scrolled": true
   },
   "outputs": [
    {
     "data": {
      "text/plain": [
       "['__class__',\n",
       " '__delattr__',\n",
       " '__dir__',\n",
       " '__doc__',\n",
       " '__eq__',\n",
       " '__format__',\n",
       " '__ge__',\n",
       " '__getattribute__',\n",
       " '__getstate__',\n",
       " '__gt__',\n",
       " '__hash__',\n",
       " '__init__',\n",
       " '__init_subclass__',\n",
       " '__le__',\n",
       " '__lt__',\n",
       " '__ne__',\n",
       " '__new__',\n",
       " '__reduce__',\n",
       " '__reduce_ex__',\n",
       " '__repr__',\n",
       " '__setattr__',\n",
       " '__sizeof__',\n",
       " '__str__',\n",
       " '__subclasshook__']"
      ]
     },
     "execution_count": 21,
     "metadata": {},
     "output_type": "execute_result"
    }
   ],
   "source": [
    "# pre-defined \"magic methods\"\n",
    "dir(object)"
   ]
  },
  {
   "cell_type": "code",
   "execution_count": 22,
   "id": "5f96c20f-b76b-4a7d-86b5-e497ba1f8f29",
   "metadata": {},
   "outputs": [
    {
     "name": "stdout",
     "output_type": "stream",
     "text": [
      "Help on wrapper_descriptor:\n",
      "\n",
      "__getattribute__(self, name, /)\n",
      "    Return getattr(self, name).\n",
      "\n"
     ]
    },
    {
     "data": {
      "text/plain": [
       "[]"
      ]
     },
     "execution_count": 22,
     "metadata": {},
     "output_type": "execute_result"
    },
    {
     "name": "stdout",
     "output_type": "stream",
     "text": [
      "hi, xiaoming!\n"
     ]
    }
   ],
   "source": [
    "# accessing an attribute with obj.x calls the __getattribute__ underneath\n",
    "help(object.__getattribute__)\n",
    "\n",
    "class C:\n",
    "    def __init__(self, data):\n",
    "        self.data = []\n",
    "\n",
    "    def welcome(self, name):\n",
    "        print(\"hi, \" + name + \"!\")\n",
    "\n",
    "ming = C(\"xiaoming\")\n",
    "ming.data\n",
    "ming.welcome(\"xiaoming\")"
   ]
  },
  {
   "cell_type": "code",
   "execution_count": 23,
   "id": "a90a3460-8688-4588-a2d1-27e19bc87273",
   "metadata": {},
   "outputs": [
    {
     "data": {
      "text/plain": [
       "<object at 0x10f33b610>"
      ]
     },
     "execution_count": 23,
     "metadata": {},
     "output_type": "execute_result"
    },
    {
     "data": {
      "text/plain": [
       "<__main__.dummy at 0x112292ed0>"
      ]
     },
     "execution_count": 23,
     "metadata": {},
     "output_type": "execute_result"
    },
    {
     "data": {
      "text/plain": [
       "284375917"
      ]
     },
     "execution_count": 23,
     "metadata": {},
     "output_type": "execute_result"
    },
    {
     "data": {
      "text/plain": [
       "287478509"
      ]
     },
     "execution_count": 23,
     "metadata": {},
     "output_type": "execute_result"
    },
    {
     "data": {
      "text/plain": [
       "287478509"
      ]
     },
     "execution_count": 23,
     "metadata": {},
     "output_type": "execute_result"
    },
    {
     "name": "stdout",
     "output_type": "stream",
     "text": [
      "Help on wrapper_descriptor:\n",
      "\n",
      "__hash__(self, /)\n",
      "    Return hash(self).\n",
      "\n"
     ]
    }
   ],
   "source": [
    "object()\n",
    "\n",
    "class dummy(object):\n",
    "    pass\n",
    "\n",
    "x = dummy()\n",
    "x\n",
    "\n",
    "hash(object())\n",
    "hash(x)\n",
    "\n",
    "x.__hash__()\n",
    "help(object.__hash__)"
   ]
  },
  {
   "cell_type": "markdown",
   "id": "d9647a0c-3ab2-468b-893f-5ae936c3eba1",
   "metadata": {},
   "source": [
    "### `type`: The class factory"
   ]
  },
  {
   "cell_type": "markdown",
   "id": "14726f7d-b772-4b93-b030-fb7740b43bd4",
   "metadata": {},
   "source": [
    "All classes inherit from `type`? `type` is the builtin that can be used to dynamically create new classes."
   ]
  },
  {
   "cell_type": "code",
   "execution_count": 24,
   "id": "d0472af6-607b-46b5-85d2-c4f33084d42c",
   "metadata": {},
   "outputs": [
    {
     "data": {
      "text/plain": [
       "int"
      ]
     },
     "execution_count": 24,
     "metadata": {},
     "output_type": "execute_result"
    },
    {
     "data": {
      "text/plain": [
       "True"
      ]
     },
     "execution_count": 24,
     "metadata": {},
     "output_type": "execute_result"
    },
    {
     "data": {
      "text/plain": [
       "42"
      ]
     },
     "execution_count": 24,
     "metadata": {},
     "output_type": "execute_result"
    },
    {
     "data": {
      "text/plain": [
       "type"
      ]
     },
     "execution_count": 24,
     "metadata": {},
     "output_type": "execute_result"
    },
    {
     "data": {
      "text/plain": [
       "42"
      ]
     },
     "execution_count": 24,
     "metadata": {},
     "output_type": "execute_result"
    }
   ],
   "source": [
    "x = 5\n",
    "type(x)\n",
    "type(x) is int\n",
    "\n",
    "type(x)(42.0)    # same as int(42.0)\n",
    "\n",
    "# use type to create a new class with three parameter: name bases, dict\n",
    "MyClass = type('MyClass', (object,), {'x': 42})\n",
    "\n",
    "type(MyClass)\n",
    "MyClass.x"
   ]
  },
  {
   "cell_type": "markdown",
   "id": "11753866-768b-49ed-90da-1a380f184e0d",
   "metadata": {},
   "source": [
    "### `hash` and `id`: The equality fundamentals"
   ]
  },
  {
   "cell_type": "markdown",
   "id": "1c4b261e-2982-4ebb-ae09-aeb0c6a68587",
   "metadata": {},
   "source": [
    "The builtin function `hash` and `id` make up the backbone of object equality in Python.\n",
    "\n",
    "`object`s compares themselves by identity: They are only equal to themselves, nothing else."
   ]
  },
  {
   "cell_type": "code",
   "execution_count": 25,
   "id": "0ad56adc-b38c-4983-8a62-8eea9ee55276",
   "metadata": {},
   "outputs": [
    {
     "data": {
      "text/plain": [
       "True"
      ]
     },
     "execution_count": 25,
     "metadata": {},
     "output_type": "execute_result"
    },
    {
     "data": {
      "text/plain": [
       "True"
      ]
     },
     "execution_count": 25,
     "metadata": {},
     "output_type": "execute_result"
    },
    {
     "data": {
      "text/plain": [
       "False"
      ]
     },
     "execution_count": 25,
     "metadata": {},
     "output_type": "execute_result"
    }
   ],
   "source": [
    "x = object()\n",
    "y = object()\n",
    "\n",
    "x == x\n",
    "y == y\n",
    "\n",
    "x == y"
   ]
  },
  {
   "cell_type": "markdown",
   "id": "84245a99-9279-4216-bc30-028f0f6cde28",
   "metadata": {},
   "source": [
    "Python's `is` operator is used to check if two values reference the same exact object in memory."
   ]
  },
  {
   "cell_type": "code",
   "execution_count": 26,
   "id": "a30215aa-3484-432f-a2b8-8d6d60b39956",
   "metadata": {},
   "outputs": [
    {
     "data": {
      "text/plain": [
       "False"
      ]
     },
     "execution_count": 26,
     "metadata": {},
     "output_type": "execute_result"
    },
    {
     "data": {
      "text/plain": [
       "True"
      ]
     },
     "execution_count": 26,
     "metadata": {},
     "output_type": "execute_result"
    }
   ],
   "source": [
    "z = y\n",
    "\n",
    "x is y\n",
    "z is y"
   ]
  },
  {
   "cell_type": "markdown",
   "id": "e9690a73-55be-408d-b4b2-8337b05a1802",
   "metadata": {},
   "source": [
    "`id` spells out a number that uniquely identifies the objects during its lifetime.\n",
    "\n",
    "Same object, same `id`."
   ]
  },
  {
   "cell_type": "code",
   "execution_count": 27,
   "id": "aae8a3f8-1026-4e14-8cf3-eed396eebfec",
   "metadata": {},
   "outputs": [
    {
     "data": {
      "text/plain": [
       "4550014480"
      ]
     },
     "execution_count": 27,
     "metadata": {},
     "output_type": "execute_result"
    },
    {
     "data": {
      "text/plain": [
       "4550014816"
      ]
     },
     "execution_count": 27,
     "metadata": {},
     "output_type": "execute_result"
    },
    {
     "data": {
      "text/plain": [
       "4550014816"
      ]
     },
     "execution_count": 27,
     "metadata": {},
     "output_type": "execute_result"
    },
    {
     "data": {
      "text/plain": [
       "False"
      ]
     },
     "execution_count": 27,
     "metadata": {},
     "output_type": "execute_result"
    },
    {
     "data": {
      "text/plain": [
       "False"
      ]
     },
     "execution_count": 27,
     "metadata": {},
     "output_type": "execute_result"
    },
    {
     "data": {
      "text/plain": [
       "True"
      ]
     },
     "execution_count": 27,
     "metadata": {},
     "output_type": "execute_result"
    },
    {
     "data": {
      "text/plain": [
       "True"
      ]
     },
     "execution_count": 27,
     "metadata": {},
     "output_type": "execute_result"
    }
   ],
   "source": [
    "id(x)\n",
    "id(y)\n",
    "id(z)\n",
    "\n",
    "x is y\n",
    "id(x) == id(y)\n",
    "\n",
    "z is y\n",
    "id(y) == id(z)"
   ]
  },
  {
   "cell_type": "markdown",
   "id": "a1c416f0-b592-4e83-ac43-a3ae4e1b20c5",
   "metadata": {},
   "source": [
    "[Small Integer Cache](https://docs.python.org/3.8/c-api/long.html#c.PyLong_FromLong) makes integers in the range of *[-5,256]* reuse the same object for the same value. [String Interning](http://python-reference.readthedocs.io/en/latest/docs/functions/intern.html) points references to strings having the same content to the same object."
   ]
  },
  {
   "cell_type": "code",
   "execution_count": 28,
   "id": "14432b81-cf19-4fd0-ae01-3636763a6fd3",
   "metadata": {},
   "outputs": [
    {
     "data": {
      "text/plain": [
       "False"
      ]
     },
     "execution_count": 28,
     "metadata": {},
     "output_type": "execute_result"
    },
    {
     "data": {
      "text/plain": [
       "False"
      ]
     },
     "execution_count": 28,
     "metadata": {},
     "output_type": "execute_result"
    },
    {
     "data": {
      "text/plain": [
       "True"
      ]
     },
     "execution_count": 28,
     "metadata": {},
     "output_type": "execute_result"
    },
    {
     "data": {
      "text/plain": [
       "True"
      ]
     },
     "execution_count": 28,
     "metadata": {},
     "output_type": "execute_result"
    }
   ],
   "source": [
    "# with objects, == and is behaves the same way:\n",
    "# this is because objects's behavior for == is defined to compare the id\n",
    "x is y\n",
    "x == y\n",
    "\n",
    "z is y\n",
    "z == y"
   ]
  },
  {
   "cell_type": "code",
   "execution_count": 29,
   "id": "f1fa8584-7cb3-432b-a541-e2d7eaa8d48c",
   "metadata": {},
   "outputs": [
    {
     "data": {
      "text/plain": [
       "False"
      ]
     },
     "execution_count": 29,
     "metadata": {},
     "output_type": "execute_result"
    },
    {
     "data": {
      "text/plain": [
       "True"
      ]
     },
     "execution_count": 29,
     "metadata": {},
     "output_type": "execute_result"
    },
    {
     "data": {
      "text/plain": [
       "{4.2, 5, 'str'}"
      ]
     },
     "execution_count": 29,
     "metadata": {},
     "output_type": "execute_result"
    },
    {
     "data": {
      "text/plain": [
       "{4.2, 5, 'str'}"
      ]
     },
     "execution_count": 29,
     "metadata": {},
     "output_type": "execute_result"
    },
    {
     "data": {
      "text/plain": [
       "False"
      ]
     },
     "execution_count": 29,
     "metadata": {},
     "output_type": "execute_result"
    },
    {
     "data": {
      "text/plain": [
       "True"
      ]
     },
     "execution_count": 29,
     "metadata": {},
     "output_type": "execute_result"
    }
   ],
   "source": [
    "# Container types are equal if they can be replaced with each other\n",
    "x = [1, 2, 3]\n",
    "y = [1, 2, 3]\n",
    "\n",
    "x is y\n",
    "x == y\n",
    "\n",
    "a = {5, \"str\", 4.2}\n",
    "b = {\"str\", 4.2, 5}\n",
    "a\n",
    "b\n",
    "\n",
    "a is b\n",
    "a == b"
   ]
  },
  {
   "cell_type": "markdown",
   "id": "f1c54a02-a9e7-49ac-98fe-3fe97a09828a",
   "metadata": {},
   "source": [
    "`hash`es have two specific properties:\n",
    "- The same piece of data will always have the same hash value\n",
    "- Changing the data even very slightly, returns in a drastically different hash"
   ]
  },
  {
   "cell_type": "code",
   "execution_count": 30,
   "id": "ec6d90ad-52c8-48d9-8aca-b9c51e72a32c",
   "metadata": {},
   "outputs": [
    {
     "data": {
      "text/plain": [
       "12.967558880998695"
      ]
     },
     "execution_count": 30,
     "metadata": {},
     "output_type": "execute_result"
    },
    {
     "data": {
      "text/plain": [
       "0.037611681000271346"
      ]
     },
     "execution_count": 30,
     "metadata": {},
     "output_type": "execute_result"
    }
   ],
   "source": [
    "import timeit\n",
    "timeit.timeit('999 in l', setup='l = list(range(1000))')\n",
    "timeit.timeit('999 in s', setup='s = set(range(1000))')"
   ]
  },
  {
   "cell_type": "markdown",
   "id": "21c42e52-43b8-4a31-8e79-daa82c79f786",
   "metadata": {},
   "source": [
    "notice that the set solution is running hundreds of times faster than the list solution! This is because they use the *hash values* as their replacement for \"indices\", this process makes checking for presence pretty much instant."
   ]
  },
  {
   "cell_type": "markdown",
   "id": "150f3d48-3d71-46d7-8ac1-3ca26c857eba",
   "metadata": {},
   "source": [
    "### `dir` and `vars`: Everything is a dictionary"
   ]
  },
  {
   "cell_type": "code",
   "execution_count": 31,
   "id": "ba9c0935-f770-4630-a428-a3c7a3e87a0e",
   "metadata": {},
   "outputs": [
    {
     "data": {
      "text/plain": [
       "{'x': 3, 'y': 5}"
      ]
     },
     "execution_count": 31,
     "metadata": {},
     "output_type": "execute_result"
    },
    {
     "data": {
      "text/plain": [
       "mappingproxy({'__module__': '__main__',\n",
       "              'some_constant': 42,\n",
       "              '__init__': <function __main__.C.__init__(self, x, y)>,\n",
       "              'some_method': <function __main__.C.some_method(self)>,\n",
       "              '__dict__': <attribute '__dict__' of 'C' objects>,\n",
       "              '__weakref__': <attribute '__weakref__' of 'C' objects>,\n",
       "              '__doc__': None})"
      ]
     },
     "execution_count": 31,
     "metadata": {},
     "output_type": "execute_result"
    },
    {
     "name": "stdout",
     "output_type": "stream",
     "text": [
      "self=<__main__.C object at 0x112292ed0>\n",
      "self=<__main__.C object at 0x112292ed0>\n"
     ]
    },
    {
     "data": {
      "text/plain": [
       "__main__.C"
      ]
     },
     "execution_count": 31,
     "metadata": {},
     "output_type": "execute_result"
    }
   ],
   "source": [
    "# The vars method exposes the variables stored inside objects and classes\n",
    "class C:\n",
    "    some_constant = 42\n",
    "    def __init__(self, x, y):\n",
    "        self.x = x\n",
    "        self.y = y\n",
    "    def some_method(self):\n",
    "        print(f'self={self}')\n",
    "\n",
    "c = C(x=3, y=5)    # an instance object of class C\n",
    "vars(c)\n",
    "vars(C)\n",
    "\n",
    "C.some_method(c)\n",
    "c.some_method()\n",
    "\n",
    "c.__class__"
   ]
  },
  {
   "cell_type": "code",
   "execution_count": 32,
   "id": "9487135c-8fb3-4852-8fbb-649d67fc6ede",
   "metadata": {
    "scrolled": true
   },
   "outputs": [
    {
     "data": {
      "text/plain": [
       "['__class__',\n",
       " '__delattr__',\n",
       " '__dict__',\n",
       " '__dir__',\n",
       " '__doc__',\n",
       " '__eq__',\n",
       " '__format__',\n",
       " '__ge__',\n",
       " '__getattribute__',\n",
       " '__getstate__',\n",
       " '__gt__',\n",
       " '__hash__',\n",
       " '__init__',\n",
       " '__init_subclass__',\n",
       " '__le__',\n",
       " '__lt__',\n",
       " '__module__',\n",
       " '__ne__',\n",
       " '__new__',\n",
       " '__reduce__',\n",
       " '__reduce_ex__',\n",
       " '__repr__',\n",
       " '__setattr__',\n",
       " '__sizeof__',\n",
       " '__str__',\n",
       " '__subclasshook__',\n",
       " '__weakref__',\n",
       " 'some_constant',\n",
       " 'some_method',\n",
       " 'x',\n",
       " 'y']"
      ]
     },
     "execution_count": 32,
     "metadata": {},
     "output_type": "execute_result"
    }
   ],
   "source": [
    "# get properties can be accessed on an object\n",
    "# Some properties are inherited from class\n",
    "dir(c)"
   ]
  },
  {
   "cell_type": "code",
   "execution_count": 33,
   "id": "f37376bc-d699-47d8-852a-80a9033fa0ad",
   "metadata": {},
   "outputs": [
    {
     "data": {
      "text/plain": [
       "True"
      ]
     },
     "execution_count": 33,
     "metadata": {},
     "output_type": "execute_result"
    },
    {
     "data": {
      "text/plain": [
       "dict_keys(['__new__', '__repr__', '__hash__', '__str__', '__getattribute__', '__setattr__', '__delattr__', '__lt__', '__le__', '__eq__', '__ne__', '__gt__', '__ge__', '__init__', '__reduce_ex__', '__reduce__', '__getstate__', '__subclasshook__', '__init_subclass__', '__format__', '__sizeof__', '__dir__', '__class__', '__doc__'])"
      ]
     },
     "execution_count": 33,
     "metadata": {},
     "output_type": "execute_result"
    }
   ],
   "source": [
    "# __class__ is defined on object\n",
    "'__class__' in vars(object)\n",
    "\n",
    "vars(object).keys()"
   ]
  },
  {
   "cell_type": "code",
   "execution_count": 34,
   "id": "bc3037b4-1932-4dcc-b2ff-54e1664e4105",
   "metadata": {
    "scrolled": true
   },
   "outputs": [
    {
     "data": {
      "text/plain": [
       "[__main__.B, __main__.A, object]"
      ]
     },
     "execution_count": 34,
     "metadata": {},
     "output_type": "execute_result"
    },
    {
     "data": {
      "text/plain": [
       "['__class__',\n",
       " '__delattr__',\n",
       " '__dict__',\n",
       " '__dir__',\n",
       " '__doc__',\n",
       " '__eq__',\n",
       " '__format__',\n",
       " '__ge__',\n",
       " '__getattribute__',\n",
       " '__getstate__',\n",
       " '__gt__',\n",
       " '__hash__',\n",
       " '__init__',\n",
       " '__init_subclass__',\n",
       " '__le__',\n",
       " '__lt__',\n",
       " '__module__',\n",
       " '__ne__',\n",
       " '__new__',\n",
       " '__reduce__',\n",
       " '__reduce_ex__',\n",
       " '__repr__',\n",
       " '__setattr__',\n",
       " '__sizeof__',\n",
       " '__str__',\n",
       " '__subclasshook__',\n",
       " '__weakref__',\n",
       " 'z']"
      ]
     },
     "execution_count": 34,
     "metadata": {},
     "output_type": "execute_result"
    },
    {
     "data": {
      "text/plain": [
       "{'z'}"
      ]
     },
     "execution_count": 34,
     "metadata": {},
     "output_type": "execute_result"
    },
    {
     "data": {
      "text/plain": [
       "dict_keys(['z'])"
      ]
     },
     "execution_count": 34,
     "metadata": {},
     "output_type": "execute_result"
    },
    {
     "data": {
      "text/plain": [
       "[__main__.A, object]"
      ]
     },
     "execution_count": 34,
     "metadata": {},
     "output_type": "execute_result"
    },
    {
     "data": {
      "text/plain": [
       "{'__dict__', '__module__', '__weakref__', 'x', 'y'}"
      ]
     },
     "execution_count": 34,
     "metadata": {},
     "output_type": "execute_result"
    },
    {
     "data": {
      "text/plain": [
       "{'x': 'x', 'y': 'y'}"
      ]
     },
     "execution_count": 34,
     "metadata": {},
     "output_type": "execute_result"
    },
    {
     "data": {
      "text/plain": [
       "'__main__'"
      ]
     },
     "execution_count": 34,
     "metadata": {},
     "output_type": "execute_result"
    },
    {
     "name": "stdout",
     "output_type": "stream",
     "text": [
      "None\n"
     ]
    },
    {
     "data": {
      "text/plain": [
       "dict_keys(['x', 'y'])"
      ]
     },
     "execution_count": 34,
     "metadata": {},
     "output_type": "execute_result"
    }
   ],
   "source": [
    "# list of classes that an object inherits properties and methods from in its method resolution order\n",
    "class A:\n",
    "    def __init__(self):\n",
    "        self.x = 'x'\n",
    "        self.y = 'y'\n",
    "\n",
    "class B(A):\n",
    "    def __init__(self):\n",
    "        self.z = 'z'\n",
    "\n",
    "a = A()\n",
    "b = B()\n",
    "B.mro()\n",
    "\n",
    "dir(b)\n",
    "set(dir(b)) - set(dir(a))\n",
    "vars(b).keys()\n",
    "\n",
    "A.mro()\n",
    "set(dir(a)) - set(dir(object))\n",
    "a.__dict__\n",
    "a.__module__\n",
    "print(a.__weakref__)\n",
    "vars(a).keys()"
   ]
  },
  {
   "cell_type": "markdown",
   "id": "0289e737-1d9d-458d-806d-0f55155d2702",
   "metadata": {},
   "source": [
    "### `hasattr`, `getattr`, `setattr` and `delattr`: Attribute helpers"
   ]
  },
  {
   "cell_type": "code",
   "execution_count": 35,
   "id": "511adb6f-8ea3-4241-9271-be8a9c29c665",
   "metadata": {},
   "outputs": [
    {
     "data": {
      "text/plain": [
       "42"
      ]
     },
     "execution_count": 35,
     "metadata": {},
     "output_type": "execute_result"
    }
   ],
   "source": [
    "# reference to the properties of a class\n",
    "class X:\n",
    "    value = 42\n",
    "\n",
    "x = X()\n",
    "getattr(x, 'value')    # take in the attribute name as a string"
   ]
  },
  {
   "cell_type": "markdown",
   "id": "e2ecc150-8a08-43c2-a378-8807d66a3936",
   "metadata": {},
   "source": [
    "### `super`: The power of inheritance"
   ]
  },
  {
   "cell_type": "code",
   "execution_count": 36,
   "id": "62edc5b6-780b-467a-b748-2537a2be41d1",
   "metadata": {},
   "outputs": [
    {
     "data": {
      "text/plain": [
       "5"
      ]
     },
     "execution_count": 36,
     "metadata": {},
     "output_type": "execute_result"
    }
   ],
   "source": [
    "# super is a way of referencing a superclass, to use its methods, for example\n",
    "class Sum:\n",
    "    def __init__(self, x, y):\n",
    "        self.x = x\n",
    "        self.y = y\n",
    "\n",
    "    def perform(self):\n",
    "        return self.x + self.y\n",
    "\n",
    "s = Sum(2, 3)\n",
    "s.perform()"
   ]
  },
  {
   "cell_type": "code",
   "execution_count": 37,
   "id": "a5611dde-f34b-4105-a6c2-e0fb19a6679c",
   "metadata": {},
   "outputs": [
    {
     "data": {
      "text/plain": [
       "16"
      ]
     },
     "execution_count": 37,
     "metadata": {},
     "output_type": "execute_result"
    }
   ],
   "source": [
    "class DoubleSum(Sum):\n",
    "    def perform(self):\n",
    "        parent_sum = super().perform() # super().perform() is to use the perfom function of Sum here\n",
    "        return 2 * parent_sum\n",
    "\n",
    "d = DoubleSum(3, 5)\n",
    "d.perform()"
   ]
  },
  {
   "cell_type": "code",
   "execution_count": 38,
   "id": "c4e65813-7492-44d6-88de-cf90f61cb818",
   "metadata": {},
   "outputs": [
    {
     "data": {
      "text/plain": [
       "<super: int, None>"
      ]
     },
     "execution_count": 38,
     "metadata": {},
     "output_type": "execute_result"
    },
    {
     "data": {
      "text/plain": [
       "<super: int, int>"
      ]
     },
     "execution_count": 38,
     "metadata": {},
     "output_type": "execute_result"
    },
    {
     "data": {
      "text/plain": [
       "<super: int, bool>"
      ]
     },
     "execution_count": 38,
     "metadata": {},
     "output_type": "execute_result"
    }
   ],
   "source": [
    "# Some other ways to use the super object\n",
    "super(int)\n",
    "\n",
    "super(int, int)\n",
    "super(int, bool)"
   ]
  },
  {
   "cell_type": "markdown",
   "id": "edf4e915-b163-42f5-8c1b-376bdd8a9a8e",
   "metadata": {},
   "source": [
    "### `property`, `classmethod` and `staticmethod`: Method decorators"
   ]
  },
  {
   "cell_type": "markdown",
   "id": "bc7f7512-d01b-4cc3-b024-43d440aaf54b",
   "metadata": {},
   "source": [
    "`@property` is the decorator to use when you want to define getters and setters for properties in your object. Getters and setters provide a way to add validation or run some extra code when trying to read or modify the attributes of an object.\n",
    "\n",
    "This is done by turning  the property into a set of functions: one function that is run when you try to access the property, and another that is run when you try to change its value.\n",
    "\n",
    "In the below example, where we try to ensure that the \"marks\" property of a student is always set to a positive number, as marks cannot be negative: "
   ]
  },
  {
   "cell_type": "code",
   "execution_count": 39,
   "id": "0b1a787f-99b0-47d9-9f9b-c00597e1ee04",
   "metadata": {},
   "outputs": [],
   "source": [
    "class Student:\n",
    "    def __init__(self):\n",
    "        self._marks = 0\n",
    "\n",
    "    @property\n",
    "    def marks(self):    # This is the function that is run when you try to access the property\n",
    "        return self._marks\n",
    "\n",
    "    @marks.setter\n",
    "    def marks(self, new_value):    # this is the function that is run when you try to change its value, i.e implement validation\n",
    "        # Doing validation\n",
    "        if new_value < 0:\n",
    "            raise ValueError('marks cannot be negative')\n",
    "\n",
    "        # before actually setting the value\n",
    "        self._marks = new_value"
   ]
  },
  {
   "cell_type": "code",
   "execution_count": 40,
   "id": "b3af2d77-456c-4a24-8520-91978f367639",
   "metadata": {},
   "outputs": [
    {
     "data": {
      "text/plain": [
       "0"
      ]
     },
     "execution_count": 40,
     "metadata": {},
     "output_type": "execute_result"
    },
    {
     "data": {
      "text/plain": [
       "85"
      ]
     },
     "execution_count": 40,
     "metadata": {},
     "output_type": "execute_result"
    }
   ],
   "source": [
    "student = Student()\n",
    "student.marks\n",
    "\n",
    "student.marks = 85\n",
    "student.marks\n",
    "\n",
    "# This will raise a ValueError: marks cannot be negative\n",
    "# student.marks = -10"
   ]
  },
  {
   "cell_type": "markdown",
   "id": "b7fe5413-cf48-43d3-bc3d-b9df41a2ca1f",
   "metadata": {},
   "source": [
    "`@classmethod` can be used on a method to make it a class method instead: such that it gets a reference to the class object, instead of the instance(`self`).\n",
    "\n",
    "This example would be to create a function that returns the name of the class:"
   ]
  },
  {
   "cell_type": "code",
   "execution_count": 41,
   "id": "922cdc0c-19fa-4d69-b50e-fc50c88fe6bd",
   "metadata": {},
   "outputs": [
    {
     "data": {
      "text/plain": [
       "<bound method C.class_name of <class '__main__.C'>>"
      ]
     },
     "execution_count": 41,
     "metadata": {},
     "output_type": "execute_result"
    }
   ],
   "source": [
    "class C:\n",
    "    @classmethod\n",
    "    def class_name(cls):\n",
    "        return cls.__name__\n",
    "\n",
    "x = C()\n",
    "x.class_name"
   ]
  },
  {
   "cell_type": "markdown",
   "id": "1146251d-988a-4a31-bdb7-3686563056de",
   "metadata": {},
   "source": [
    "`@staticmethod` is used to convert a method into a static method: one equivalent to a function sitting inside a class, independent of any class or object properties. Using this completely gets rid of the first `self` argument passed to methods."
   ]
  },
  {
   "cell_type": "code",
   "execution_count": 42,
   "id": "20fd6628-0ad3-4e0a-ad25-7664c01d84a6",
   "metadata": {},
   "outputs": [],
   "source": [
    "class API:\n",
    "    @staticmethod\n",
    "    def is_valid_title(title_text):\n",
    "        \"\"\"Checks whether the string can be used as a blog title.\"\"\"\n",
    "        return title_text.istitle() and len(title_text) < 60"
   ]
  },
  {
   "cell_type": "markdown",
   "id": "7ad9def3-a193-43a0-b99c-846e641418a6",
   "metadata": {},
   "source": [
    "These builtins are created using a pretty advanced topic called *descriptors*."
   ]
  },
  {
   "cell_type": "markdown",
   "id": "21f05e3e-b4ba-487a-9673-d331ecb85dcc",
   "metadata": {},
   "source": [
    "### `list`, `tuple`, `dict`, `set` and `frozenset`: The containers"
   ]
  },
  {
   "cell_type": "markdown",
   "id": "43a9b15e-77cd-49fd-96c7-03e634a207c6",
   "metadata": {},
   "source": [
    "A \"container\" in Python refers to a data structure that can hold any number of items inside it.\n",
    "\n",
    "Python has 5 fundamental container types:\n",
    "\n",
    "`list`: *Ordered*, *indexed container*. Every element is present at a specific index. Lists are *mutalbe*, i.e items can be added or removed at any time."
   ]
  },
  {
   "cell_type": "code",
   "execution_count": 43,
   "id": "1cb7d159-2a00-494e-a7bd-b72335608dd9",
   "metadata": {},
   "outputs": [
    {
     "data": {
      "text/plain": [
       "10"
      ]
     },
     "execution_count": 43,
     "metadata": {},
     "output_type": "execute_result"
    },
    {
     "data": {
      "text/plain": [
       "20"
      ]
     },
     "execution_count": 43,
     "metadata": {},
     "output_type": "execute_result"
    },
    {
     "data": {
      "text/plain": [
       "[10, 20, 30, 40]"
      ]
     },
     "execution_count": 43,
     "metadata": {},
     "output_type": "execute_result"
    },
    {
     "data": {
      "text/plain": [
       "[50, 20, 30, 40]"
      ]
     },
     "execution_count": 43,
     "metadata": {},
     "output_type": "execute_result"
    }
   ],
   "source": [
    "my_list = [10, 20, 30]\n",
    "my_list[0]\n",
    "my_list[1]\n",
    "\n",
    "my_list.append(40)\n",
    "my_list\n",
    "\n",
    "my_list[0] = 50\n",
    "my_list"
   ]
  },
  {
   "cell_type": "markdown",
   "id": "981d64d6-e876-41d1-aa80-26c4f050a735",
   "metadata": {},
   "source": [
    "`tuple`: Ordered and indexed just like lists, but with one key difference: They are *immutable*, which means items cannot be added or deleted once the tuple is created."
   ]
  },
  {
   "cell_type": "code",
   "execution_count": 44,
   "id": "dc7fc98a-e184-4103-a68b-c73eb4950fb5",
   "metadata": {},
   "outputs": [
    {
     "data": {
      "text/plain": [
       "(1, 2, 3)"
      ]
     },
     "execution_count": 44,
     "metadata": {},
     "output_type": "execute_result"
    },
    {
     "data": {
      "text/plain": [
       "1"
      ]
     },
     "execution_count": 44,
     "metadata": {},
     "output_type": "execute_result"
    }
   ],
   "source": [
    "my_tuple = (1, 2, 3)\n",
    "my_tuple\n",
    "\n",
    "my_tuple[0]\n",
    "\n",
    "# This will raise TypeError: 'tuple' object does not support item assignment\n",
    "# my_tuple[0] = 5"
   ]
  },
  {
   "cell_type": "markdown",
   "id": "2ff6f734-e6ab-4674-911b-a812f487e858",
   "metadata": {},
   "source": [
    "`dict`: *Unordered key-value pairs*. The key is used to *access the value*. Only one value can corresponed to a given key."
   ]
  },
  {
   "cell_type": "code",
   "execution_count": 45,
   "id": "e868b9a8-0cd9-4635-bb7e-d599f098dca1",
   "metadata": {},
   "outputs": [
    {
     "data": {
      "text/plain": [
       "'blue'"
      ]
     },
     "execution_count": 45,
     "metadata": {},
     "output_type": "execute_result"
    },
    {
     "data": {
      "text/plain": [
       "{'roses': 'red', 'violets': 'blue', 'violet': 'purple'}"
      ]
     },
     "execution_count": 45,
     "metadata": {},
     "output_type": "execute_result"
    },
    {
     "data": {
      "text/plain": [
       "{'roses': 'red', 'violets': 'blue', 'violet': 'purple', 'daffodil': 'yellow'}"
      ]
     },
     "execution_count": 45,
     "metadata": {},
     "output_type": "execute_result"
    }
   ],
   "source": [
    "flower_colors = {'roses': 'red', 'violets': 'blue'}\n",
    "flower_colors[\"violets\"]\n",
    "\n",
    "flower_colors[\"violet\"] = 'purple'\n",
    "flower_colors\n",
    "\n",
    "flower_colors[\"daffodil\"] = 'yellow'\n",
    "flower_colors"
   ]
  },
  {
   "cell_type": "markdown",
   "id": "f1bb144f-7d91-4cfe-b02a-f8cdd2d8799f",
   "metadata": {},
   "source": [
    "`set`: Unordered, *unique* collection of data. Items in a set simply represent their presence or absence. You could use a set to find, for example, the kinds of trees in a forest. Their order doesn't matter, only their existence."
   ]
  },
  {
   "cell_type": "code",
   "execution_count": 46,
   "id": "a38f5443-2ca7-4684-a56c-e06c2f606dd6",
   "metadata": {},
   "outputs": [
    {
     "data": {
      "text/plain": [
       "{'bamboo', 'cedar', 'oak'}"
      ]
     },
     "execution_count": 46,
     "metadata": {},
     "output_type": "execute_result"
    },
    {
     "data": {
      "text/plain": [
       "False"
      ]
     },
     "execution_count": 46,
     "metadata": {},
     "output_type": "execute_result"
    },
    {
     "data": {
      "text/plain": [
       "{'bamboo', 'cedar'}"
      ]
     },
     "execution_count": 46,
     "metadata": {},
     "output_type": "execute_result"
    }
   ],
   "source": [
    "forest = ['cedar', 'bamboo', 'cedar', 'cedar', 'cedar', 'oak', 'bamboo']\n",
    "tree_kinds = set(forest)\n",
    "tree_kinds\n",
    "\n",
    "'oka' in tree_kinds\n",
    "\n",
    "tree_kinds.remove('oak')\n",
    "tree_kinds"
   ]
  },
  {
   "cell_type": "markdown",
   "id": "50df53e7-e743-4e46-b9fd-0f121ea95096",
   "metadata": {},
   "source": [
    "A `frozenset` is identical to a set, but just like `tuple`, is *immutable*."
   ]
  },
  {
   "cell_type": "code",
   "execution_count": 47,
   "id": "6d9018a5-9f80-47d6-b7ee-50939e817422",
   "metadata": {},
   "outputs": [
    {
     "data": {
      "text/plain": [
       "frozenset({'bamboo', 'cedar', 'oak'})"
      ]
     },
     "execution_count": 47,
     "metadata": {},
     "output_type": "execute_result"
    },
    {
     "data": {
      "text/plain": [
       "True"
      ]
     },
     "execution_count": 47,
     "metadata": {},
     "output_type": "execute_result"
    }
   ],
   "source": [
    "forest = ['cedar', 'bamboo', 'cedar', 'cedar', 'cedar', 'oak', 'bamboo']\n",
    "tree_type = frozenset(forest)\n",
    "tree_type\n",
    "\n",
    "'cedar' in tree_type"
   ]
  },
  {
   "cell_type": "code",
   "execution_count": 48,
   "id": "c94fa7b5-3ade-4bbf-b3fe-c644956a05e1",
   "metadata": {},
   "outputs": [
    {
     "data": {
      "text/plain": [
       "[]"
      ]
     },
     "execution_count": 48,
     "metadata": {},
     "output_type": "execute_result"
    },
    {
     "data": {
      "text/plain": [
       "list"
      ]
     },
     "execution_count": 48,
     "metadata": {},
     "output_type": "execute_result"
    },
    {
     "data": {
      "text/plain": [
       "{}"
      ]
     },
     "execution_count": 48,
     "metadata": {},
     "output_type": "execute_result"
    },
    {
     "data": {
      "text/plain": [
       "dict"
      ]
     },
     "execution_count": 48,
     "metadata": {},
     "output_type": "execute_result"
    },
    {
     "data": {
      "text/plain": [
       "{Ellipsis}"
      ]
     },
     "execution_count": 48,
     "metadata": {},
     "output_type": "execute_result"
    },
    {
     "data": {
      "text/plain": [
       "set"
      ]
     },
     "execution_count": 48,
     "metadata": {},
     "output_type": "execute_result"
    },
    {
     "data": {
      "text/plain": [
       "frozenset()"
      ]
     },
     "execution_count": 48,
     "metadata": {},
     "output_type": "execute_result"
    },
    {
     "data": {
      "text/plain": [
       "frozenset"
      ]
     },
     "execution_count": 48,
     "metadata": {},
     "output_type": "execute_result"
    },
    {
     "data": {
      "text/plain": [
       "(1,)"
      ]
     },
     "execution_count": 48,
     "metadata": {},
     "output_type": "execute_result"
    },
    {
     "data": {
      "text/plain": [
       "tuple"
      ]
     },
     "execution_count": 48,
     "metadata": {},
     "output_type": "execute_result"
    }
   ],
   "source": [
    "# empty instance of container data structures\n",
    "x = []\n",
    "x\n",
    "type(x)\n",
    "\n",
    "y = {}\n",
    "y\n",
    "type(y)\n",
    "\n",
    "z = {...}\n",
    "z\n",
    "type(z)\n",
    "f = frozenset()\n",
    "f\n",
    "type(f)\n",
    "\n",
    "t = (1,)\n",
    "t\n",
    "type(t)"
   ]
  },
  {
   "cell_type": "markdown",
   "id": "524e1f99-16f6-41c2-82ba-dcb822af0ec0",
   "metadata": {},
   "source": [
    "### `bytearray` and `memoryview`: Better byte interfaces"
   ]
  },
  {
   "cell_type": "markdown",
   "id": "24088c2c-6548-4cdb-a850-08be1b391b05",
   "metadata": {},
   "source": [
    "A `bytearray` is the mutable equivalent of a `bytes` object, pretty similar to how lists are essentially mutable tuples.\n",
    "\n",
    "byte/bit manipulate example:"
   ]
  },
  {
   "cell_type": "code",
   "execution_count": 49,
   "id": "c6f0b937-2ab4-4f27-8cbd-08184b56d8fe",
   "metadata": {},
   "outputs": [
    {
     "data": {
      "text/plain": [
       "'hElLo wOrLd?'"
      ]
     },
     "execution_count": 49,
     "metadata": {},
     "output_type": "execute_result"
    }
   ],
   "source": [
    "def alternate_case(string):\n",
    "    \"\"\"Turns a string into alternating uppercase and lowercase characters\"\"\"\n",
    "    array = bytearray(string.encode())\n",
    "    for index, byte in enumerate(array):\n",
    "        if not ((65 <= byte <=90) or (97 <= byte <= 126)):\n",
    "            continue\n",
    "\n",
    "        if index % 2 == 0:\n",
    "            array[index] = byte | 32\n",
    "        else:\n",
    "            array[index] = byte & ~32\n",
    "\n",
    "    return array.decode()\n",
    "\n",
    "\n",
    "alternate_case('Hello WORLD?')"
   ]
  },
  {
   "cell_type": "code",
   "execution_count": 50,
   "id": "5119d552-59b5-4688-b6dd-9d0fa24c3c2e",
   "metadata": {},
   "outputs": [
    {
     "data": {
      "text/plain": [
       "bytearray(b'\\x00\\x01\\x02\\x03\\x04\\x05\\x06\\x07\\x08\\t\\n\\x0b\\x0c\\r\\x0e\\x0f\\x10\\x11\\x12\\x13\\x14\\x15\\x16\\x17\\x18\\x19\\x1a\\x1b\\x1c\\x1d\\x1e\\x1f !\"#$%&\\'()*+,-./0123456789:;<=>?@ABCDEFGHIJKLMNOPQRSTUVWXYZ[\\\\]^_`abcdefghijklmnopqrstuvwxyz{|}~\\x7f\\x80\\x81\\x82\\x83\\x84\\x85\\x86\\x87\\x88\\x89\\x8a\\x8b\\x8c\\x8d\\x8e\\x8f\\x90\\x91\\x92\\x93\\x94\\x95\\x96\\x97\\x98\\x99\\x9a\\x9b\\x9c\\x9d\\x9e\\x9f\\xa0\\xa1\\xa2\\xa3\\xa4\\xa5\\xa6\\xa7\\xa8\\xa9\\xaa\\xab\\xac\\xad\\xae\\xaf\\xb0\\xb1\\xb2\\xb3\\xb4\\xb5\\xb6\\xb7\\xb8\\xb9\\xba\\xbb\\xbc\\xbd\\xbe\\xbf\\xc0\\xc1\\xc2\\xc3\\xc4\\xc5\\xc6\\xc7\\xc8\\xc9\\xca\\xcb\\xcc\\xcd\\xce\\xcf\\xd0\\xd1\\xd2\\xd3\\xd4\\xd5\\xd6\\xd7\\xd8\\xd9\\xda\\xdb\\xdc\\xdd\\xde\\xdf\\xe0\\xe1\\xe2\\xe3\\xe4\\xe5\\xe6\\xe7\\xe8\\xe9\\xea\\xeb\\xec\\xed\\xee\\xef\\xf0\\xf1\\xf2\\xf3\\xf4\\xf5\\xf6\\xf7\\xf8\\xf9\\xfa\\xfb\\xfc\\xfd\\xfe\\xff')"
      ]
     },
     "execution_count": 50,
     "metadata": {},
     "output_type": "execute_result"
    },
    {
     "data": {
      "text/plain": [
       "256"
      ]
     },
     "execution_count": 50,
     "metadata": {},
     "output_type": "execute_result"
    },
    {
     "data": {
      "text/plain": [
       "bytearray(b'ABCDEFGHIJKLMNOPQRSTUVWXYZ')"
      ]
     },
     "execution_count": 50,
     "metadata": {},
     "output_type": "execute_result"
    },
    {
     "data": {
      "text/plain": [
       "<memory at 0x1122c0dc0>"
      ]
     },
     "execution_count": 50,
     "metadata": {},
     "output_type": "execute_result"
    },
    {
     "data": {
      "text/plain": [
       "bytearray(b'ABCDEFGHIJKLMNOPQRSTUVWXYZ')"
      ]
     },
     "execution_count": 50,
     "metadata": {},
     "output_type": "execute_result"
    },
    {
     "data": {
      "text/plain": [
       "65"
      ]
     },
     "execution_count": 50,
     "metadata": {},
     "output_type": "execute_result"
    },
    {
     "data": {
      "text/plain": [
       "bytearray(b'aBCDEFGHIJKLMNOPQRSTUVWXYZ')"
      ]
     },
     "execution_count": 50,
     "metadata": {},
     "output_type": "execute_result"
    },
    {
     "data": {
      "text/plain": [
       "bytearray(b'KLMNO')"
      ]
     },
     "execution_count": 50,
     "metadata": {},
     "output_type": "execute_result"
    },
    {
     "data": {
      "text/plain": [
       "bytearray(b'aBCDEFGHIJklmnoPQRSTUVWXYZ')"
      ]
     },
     "execution_count": 50,
     "metadata": {},
     "output_type": "execute_result"
    }
   ],
   "source": [
    "# examples of memoryview\n",
    "array = bytearray(range(256))\n",
    "array\n",
    "\n",
    "len(array)\n",
    "array_slice = array[65:91]\n",
    "array_slice\n",
    "\n",
    "view = memoryview(array)[65:91]\n",
    "view\n",
    "\n",
    "bytearray(view)\n",
    "view[0]\n",
    "view[0] += 32\n",
    "\n",
    "bytearray(view)\n",
    "bytearray(view[10:15])\n",
    "\n",
    "view[10:15] = bytearray(view[10:15]).lower()\n",
    "bytearray(view)"
   ]
  },
  {
   "cell_type": "markdown",
   "id": "c0cd2b00-cff8-443f-a7ff-33ad1fbcfc06",
   "metadata": {},
   "source": [
    "### `bin`, `hex`, `oct`, `ord`, `chr` and `ascii`: Basic conversions"
   ]
  },
  {
   "cell_type": "markdown",
   "id": "197e0610-c430-40ca-8c4d-987972dae541",
   "metadata": {},
   "source": [
    "The `bin`, `hex` and `oct` triplet is used to convert between bases in Python."
   ]
  },
  {
   "cell_type": "code",
   "execution_count": 51,
   "id": "0e97f5d0-3f4e-4661-a2ed-129fff5f6fde",
   "metadata": {},
   "outputs": [
    {
     "data": {
      "text/plain": [
       "'0b101010'"
      ]
     },
     "execution_count": 51,
     "metadata": {},
     "output_type": "execute_result"
    },
    {
     "data": {
      "text/plain": [
       "'0x2a'"
      ]
     },
     "execution_count": 51,
     "metadata": {},
     "output_type": "execute_result"
    },
    {
     "data": {
      "text/plain": [
       "'0o52'"
      ]
     },
     "execution_count": 51,
     "metadata": {},
     "output_type": "execute_result"
    },
    {
     "data": {
      "text/plain": [
       "42"
      ]
     },
     "execution_count": 51,
     "metadata": {},
     "output_type": "execute_result"
    },
    {
     "data": {
      "text/plain": [
       "42"
      ]
     },
     "execution_count": 51,
     "metadata": {},
     "output_type": "execute_result"
    },
    {
     "data": {
      "text/plain": [
       "42"
      ]
     },
     "execution_count": 51,
     "metadata": {},
     "output_type": "execute_result"
    }
   ],
   "source": [
    "bin(42)\n",
    "\n",
    "hex(42)\n",
    "\n",
    "oct(42)\n",
    "\n",
    "0b101010\n",
    "0x2a\n",
    "0o52"
   ]
  },
  {
   "cell_type": "code",
   "execution_count": 52,
   "id": "0195fa9c-5b32-4b38-a40a-84a79b115bd3",
   "metadata": {},
   "outputs": [
    {
     "data": {
      "text/plain": [
       "'101010'"
      ]
     },
     "execution_count": 52,
     "metadata": {},
     "output_type": "execute_result"
    },
    {
     "data": {
      "text/plain": [
       "'52'"
      ]
     },
     "execution_count": 52,
     "metadata": {},
     "output_type": "execute_result"
    }
   ],
   "source": [
    "# binary string by using string formating\n",
    "f'{42:b}'\n",
    "f'{42:o}'"
   ]
  },
  {
   "cell_type": "code",
   "execution_count": 53,
   "id": "9c2a0953-3db3-444a-b876-464ca7558830",
   "metadata": {},
   "outputs": [
    {
     "name": "stdout",
     "output_type": "stream",
     "text": [
      "Help on built-in function ord in module builtins:\n",
      "\n",
      "ord(c, /)\n",
      "    Return the Unicode code point for a one-character string.\n",
      "\n"
     ]
    },
    {
     "data": {
      "text/plain": [
       "120"
      ]
     },
     "execution_count": 53,
     "metadata": {},
     "output_type": "execute_result"
    },
    {
     "data": {
      "text/plain": [
       "128013"
      ]
     },
     "execution_count": 53,
     "metadata": {},
     "output_type": "execute_result"
    },
    {
     "data": {
      "text/plain": [
       "'0x1f40d'"
      ]
     },
     "execution_count": 53,
     "metadata": {},
     "output_type": "execute_result"
    }
   ],
   "source": [
    "help(ord)\n",
    "ord('x')\n",
    "ord('🐍')\n",
    "hex(ord('🐍'))"
   ]
  },
  {
   "cell_type": "code",
   "execution_count": 54,
   "id": "b0b7a2d7-d886-4039-9bc7-e3e54693c94f",
   "metadata": {},
   "outputs": [
    {
     "name": "stdout",
     "output_type": "stream",
     "text": [
      "Help on built-in function chr in module builtins:\n",
      "\n",
      "chr(i, /)\n",
      "    Return a Unicode string of one character with ordinal i; 0 <= i <= 0x10ffff.\n",
      "\n"
     ]
    },
    {
     "data": {
      "text/plain": [
       "'x'"
      ]
     },
     "execution_count": 54,
     "metadata": {},
     "output_type": "execute_result"
    },
    {
     "data": {
      "text/plain": [
       "'🐍'"
      ]
     },
     "execution_count": 54,
     "metadata": {},
     "output_type": "execute_result"
    }
   ],
   "source": [
    "help(chr)\n",
    "chr(120)\n",
    "chr(0x1f40d)"
   ]
  },
  {
   "cell_type": "markdown",
   "id": "63db8f12-f7f8-40ca-a2ae-b12453fc4ffc",
   "metadata": {},
   "source": [
    "### `format`: Easy text transforms"
   ]
  },
  {
   "cell_type": "code",
   "execution_count": 55,
   "id": "1ad19ec3-ed01-41d4-94ea-deabf5ea851c",
   "metadata": {},
   "outputs": [
    {
     "name": "stdout",
     "output_type": "stream",
     "text": [
      "Help on built-in function format in module builtins:\n",
      "\n",
      "format(value, format_spec='', /)\n",
      "    Return value.__format__(format_spec)\n",
      "    \n",
      "    format_spec defaults to the empty string.\n",
      "    See the Format Specification Mini-Language section of help('FORMATTING') for\n",
      "    details.\n",
      "\n"
     ]
    }
   ],
   "source": [
    "help(format)"
   ]
  },
  {
   "cell_type": "code",
   "execution_count": 56,
   "id": "e59381e9-49d4-4cb0-8d55-ca6b378676a6",
   "metadata": {},
   "outputs": [
    {
     "data": {
      "text/plain": [
       "'*'"
      ]
     },
     "execution_count": 56,
     "metadata": {},
     "output_type": "execute_result"
    },
    {
     "data": {
      "text/plain": [
       "'*'"
      ]
     },
     "execution_count": 56,
     "metadata": {},
     "output_type": "execute_result"
    },
    {
     "data": {
      "text/plain": [
       "'*'"
      ]
     },
     "execution_count": 56,
     "metadata": {},
     "output_type": "execute_result"
    },
    {
     "data": {
      "text/plain": [
       "'604.000000'"
      ]
     },
     "execution_count": 56,
     "metadata": {},
     "output_type": "execute_result"
    },
    {
     "data": {
      "text/plain": [
       "'604.000000'"
      ]
     },
     "execution_count": 56,
     "metadata": {},
     "output_type": "execute_result"
    },
    {
     "data": {
      "text/plain": [
       "'19.83'"
      ]
     },
     "execution_count": 56,
     "metadata": {},
     "output_type": "execute_result"
    },
    {
     "data": {
      "text/plain": [
       "'19.83'"
      ]
     },
     "execution_count": 56,
     "metadata": {},
     "output_type": "execute_result"
    },
    {
     "data": {
      "text/plain": [
       "'25c'"
      ]
     },
     "execution_count": 56,
     "metadata": {},
     "output_type": "execute_result"
    },
    {
     "data": {
      "text/plain": [
       "'25c'"
      ]
     },
     "execution_count": 56,
     "metadata": {},
     "output_type": "execute_result"
    },
    {
     "data": {
      "text/plain": [
       "'1001011100'"
      ]
     },
     "execution_count": 56,
     "metadata": {},
     "output_type": "execute_result"
    },
    {
     "data": {
      "text/plain": [
       "'1001011100'"
      ]
     },
     "execution_count": 56,
     "metadata": {},
     "output_type": "execute_result"
    },
    {
     "data": {
      "text/plain": [
       "'0000001001011100'"
      ]
     },
     "execution_count": 56,
     "metadata": {},
     "output_type": "execute_result"
    },
    {
     "data": {
      "text/plain": [
       "'0000001001011100'"
      ]
     },
     "execution_count": 56,
     "metadata": {},
     "output_type": "execute_result"
    },
    {
     "data": {
      "text/plain": [
       "'🐍🐍🐍🐍Python!🐍🐍🐍🐍'"
      ]
     },
     "execution_count": 56,
     "metadata": {},
     "output_type": "execute_result"
    },
    {
     "name": "stdout",
     "output_type": "stream",
     "text": [
      "Help on method_descriptor:\n",
      "\n",
      "format(...)\n",
      "    S.format(*args, **kwargs) -> str\n",
      "    \n",
      "    Return a formatted version of S, using substitutions from args and kwargs.\n",
      "    The substitutions are identified by braces ('{' and '}').\n",
      "\n"
     ]
    },
    {
     "data": {
      "text/plain": [
       "'Python!🐍^15'"
      ]
     },
     "execution_count": 56,
     "metadata": {},
     "output_type": "execute_result"
    }
   ],
   "source": [
    "# int to ascii\n",
    "format(42, 'c')\n",
    "f'{42:c}'\n",
    "'{:c}'.format(42)\n",
    "\n",
    "# int to float\n",
    "format(604, 'f')\n",
    "f'{604:f}'\n",
    "\n",
    "# specify decimal precision\n",
    "format(357/18, '.2f')\n",
    "f'{357/18:.2f}'\n",
    "\n",
    "# int to hex\n",
    "format(604, 'x')\n",
    "f'{604:x}'\n",
    "\n",
    "# int to binary\n",
    "format(604, 'b')\n",
    "f'{604:b}'\n",
    "\n",
    "# binary with zero-padding\n",
    "format(604, '0>16b')\n",
    "f'{604:0>16b}'\n",
    "\n",
    "# centered aligned text\n",
    "format('Python!', '🐍^15')\n",
    "\n",
    "help(str.format)\n",
    "'Python!{}'.format('🐍^15')  "
   ]
  },
  {
   "cell_type": "markdown",
   "id": "d595a1a2-70d9-410e-873b-154041ac2be4",
   "metadata": {},
   "source": [
    "### `any` and `all`"
   ]
  },
  {
   "cell_type": "code",
   "execution_count": 57,
   "id": "234477af-218e-4c48-8764-c45c4d1858bb",
   "metadata": {},
   "outputs": [
    {
     "data": {
      "text/plain": [
       "True"
      ]
     },
     "execution_count": 57,
     "metadata": {},
     "output_type": "execute_result"
    }
   ],
   "source": [
    "# make the code short\n",
    "def contains_palindrome(words):\n",
    "    return any(word == ''.join(reversed(word)) for word in words)\n",
    "\n",
    "contains_palindrome(['level', 'refer'])"
   ]
  },
  {
   "cell_type": "markdown",
   "id": "e561a64e-b662-4ac0-bda1-c1dca47220f0",
   "metadata": {},
   "source": [
    "Never pass list comprehensions inside `any` or `all` when you can pass a generator instead."
   ]
  },
  {
   "cell_type": "markdown",
   "id": "15974053-57c3-4059-9536-c588f6f89135",
   "metadata": {},
   "source": [
    "### `abs`, `divmod`, `pow` and `round`: Math basics"
   ]
  },
  {
   "cell_type": "code",
   "execution_count": 58,
   "id": "5ce9795c-e4ab-4fc4-ad36-9c52166bab5c",
   "metadata": {},
   "outputs": [
    {
     "data": {
      "text/plain": [
       "42"
      ]
     },
     "execution_count": 58,
     "metadata": {},
     "output_type": "execute_result"
    },
    {
     "data": {
      "text/plain": [
       "3.14"
      ]
     },
     "execution_count": 58,
     "metadata": {},
     "output_type": "execute_result"
    },
    {
     "data": {
      "text/plain": [
       "5.0"
      ]
     },
     "execution_count": 58,
     "metadata": {},
     "output_type": "execute_result"
    },
    {
     "data": {
      "text/plain": [
       "4.0"
      ]
     },
     "execution_count": 58,
     "metadata": {},
     "output_type": "execute_result"
    },
    {
     "data": {
      "text/plain": [
       "(3, 1)"
      ]
     },
     "execution_count": 58,
     "metadata": {},
     "output_type": "execute_result"
    },
    {
     "data": {
      "text/plain": [
       "1024"
      ]
     },
     "execution_count": 58,
     "metadata": {},
     "output_type": "execute_result"
    },
    {
     "data": {
      "text/plain": [
       "3.1416"
      ]
     },
     "execution_count": 58,
     "metadata": {},
     "output_type": "execute_result"
    }
   ],
   "source": [
    "# abs\n",
    "abs(42)\n",
    "abs(-3.14)\n",
    "abs(3-4j)\n",
    "abs(-4j)\n",
    "\n",
    "# divmod returns the quotient and remainder after a divide operation\n",
    "divmod(7, 2)\n",
    "\n",
    "# pow\n",
    "pow(2, 10)\n",
    "\n",
    "# round returns a number rounded to the given decimal precision\n",
    "import math\n",
    "round(math.pi, 4)"
   ]
  },
  {
   "cell_type": "markdown",
   "id": "18b8a714-d6e0-47e3-8592-8dbc912d015c",
   "metadata": {},
   "source": [
    "### `isinstance` and `issubclass`: Runtime type checking"
   ]
  },
  {
   "cell_type": "code",
   "execution_count": 59,
   "id": "a719dfa2-941f-4d16-b742-278179925d16",
   "metadata": {},
   "outputs": [
    {
     "data": {
      "text/plain": [
       "True"
      ]
     },
     "execution_count": 59,
     "metadata": {},
     "output_type": "execute_result"
    },
    {
     "data": {
      "text/plain": [
       "False"
      ]
     },
     "execution_count": 59,
     "metadata": {},
     "output_type": "execute_result"
    },
    {
     "data": {
      "text/plain": [
       "True"
      ]
     },
     "execution_count": 59,
     "metadata": {},
     "output_type": "execute_result"
    }
   ],
   "source": [
    "# isinstance\n",
    "class MyList(list):\n",
    "    pass\n",
    "\n",
    "items = ['spam', 'eggs', 'steak']\n",
    "isinstance(items, list)\n",
    "\n",
    "items_list = MyList(items)\n",
    "type(items_list) is list\n",
    "isinstance(items_list, list)"
   ]
  },
  {
   "cell_type": "code",
   "execution_count": 73,
   "id": "78aac0a1-c2df-49a9-bea7-67e17a3eb1ad",
   "metadata": {},
   "outputs": [
    {
     "data": {
      "text/plain": [
       "True"
      ]
     },
     "execution_count": 73,
     "metadata": {},
     "output_type": "execute_result"
    }
   ],
   "source": [
    "# issubclass\n",
    "issubclass(MyList, list)"
   ]
  },
  {
   "cell_type": "markdown",
   "id": "1b2b284c-d025-4c6f-bcfe-6810072e533f",
   "metadata": {},
   "source": [
    "### `callable` and duck typing basics"
   ]
  },
  {
   "cell_type": "code",
   "execution_count": 74,
   "id": "141171cf-2c05-4410-a629-75c642d8af7e",
   "metadata": {},
   "outputs": [
    {
     "data": {
      "text/plain": [
       "42"
      ]
     },
     "execution_count": 74,
     "metadata": {},
     "output_type": "execute_result"
    },
    {
     "data": {
      "text/plain": [
       "<__main__.MyClass at 0x112ed2590>"
      ]
     },
     "execution_count": 74,
     "metadata": {},
     "output_type": "execute_result"
    }
   ],
   "source": [
    "# Those are callable objects\n",
    "def magic():\n",
    "    return 42\n",
    "\n",
    "magic()\n",
    "\n",
    "class MyClass:\n",
    "    pass\n",
    "\n",
    "MyClass()\n",
    "\n",
    "# This isn't a callable object\n",
    "x = 42\n",
    "# x()    This will raise a TypeError"
   ]
  },
  {
   "cell_type": "code",
   "execution_count": 78,
   "id": "cf338f7a-264e-4fd9-a925-3917ccdc6bb5",
   "metadata": {},
   "outputs": [
    {
     "data": {
      "text/plain": [
       "True"
      ]
     },
     "execution_count": 78,
     "metadata": {},
     "output_type": "execute_result"
    },
    {
     "data": {
      "text/plain": [
       "True"
      ]
     },
     "execution_count": 78,
     "metadata": {},
     "output_type": "execute_result"
    },
    {
     "data": {
      "text/plain": [
       "True"
      ]
     },
     "execution_count": 78,
     "metadata": {},
     "output_type": "execute_result"
    },
    {
     "data": {
      "text/plain": [
       "False"
      ]
     },
     "execution_count": 78,
     "metadata": {},
     "output_type": "execute_result"
    }
   ],
   "source": [
    "# Check if the object implements the __call__ special method\n",
    "callable(magic)\n",
    "callable(MyClass)\n",
    "callable(list)\n",
    "callable(42)"
   ]
  },
  {
   "cell_type": "markdown",
   "id": "ba7be1b8-1836-403b-bc10-276242460515",
   "metadata": {},
   "source": [
    "These \"special methods\" is how most of Python's *syntax and functionality* works:\n",
    "- `x()` is the same as doing `x.__call__()`\n",
    "- `items[10]` is the same as doing `items.__getitem__(10)`\n",
    "- `a + b` is the same as doing `a.__add__(b)`\n",
    "\n",
    "Nearly every Python behavior has an *underlying* \"special method\", or what they're sometimes called, the \"dunder method\" defined underneath."
   ]
  },
  {
   "cell_type": "markdown",
   "id": "45baa4d0-6b07-4feb-861a-5c846b5f66dd",
   "metadata": {},
   "source": [
    "### `sorted` and `reversed`: Sequence manipulators"
   ]
  },
  {
   "cell_type": "code",
   "execution_count": 88,
   "id": "fda661cb-dc03-42b3-9371-97cd3cb5fd68",
   "metadata": {},
   "outputs": [
    {
     "data": {
      "text/plain": [
       "tuple"
      ]
     },
     "execution_count": 88,
     "metadata": {},
     "output_type": "execute_result"
    },
    {
     "data": {
      "text/plain": [
       "[1, 2, 3, 4]"
      ]
     },
     "execution_count": 88,
     "metadata": {},
     "output_type": "execute_result"
    },
    {
     "data": {
      "text/plain": [
       "list"
      ]
     },
     "execution_count": 88,
     "metadata": {},
     "output_type": "execute_result"
    },
    {
     "data": {
      "text/plain": [
       "[4, 3, 2, 1]"
      ]
     },
     "execution_count": 88,
     "metadata": {},
     "output_type": "execute_result"
    },
    {
     "data": {
      "text/plain": [
       "['g', 'i', 'n', 'r', 's', 't']"
      ]
     },
     "execution_count": 88,
     "metadata": {},
     "output_type": "execute_result"
    }
   ],
   "source": [
    "# The sorted function can take any iterable and returns a sorted list type\n",
    "items = (3, 4, 1, 2)\n",
    "type(items)\n",
    "sorted(items)\n",
    "type(sorted(items))    # returns a sorted list type\n",
    "\n",
    "sorted(items, reverse=True, key=None)\n",
    "\n",
    "sorted('string')    # str is an iterable"
   ]
  },
  {
   "cell_type": "code",
   "execution_count": 92,
   "id": "9b21e4d7-1dd9-4e0f-8eb7-53656631e3e9",
   "metadata": {},
   "outputs": [
    {
     "data": {
      "text/plain": [
       "<reversed at 0x1122e7c40>"
      ]
     },
     "execution_count": 92,
     "metadata": {},
     "output_type": "execute_result"
    },
    {
     "data": {
      "text/plain": [
       "reversed"
      ]
     },
     "execution_count": 92,
     "metadata": {},
     "output_type": "execute_result"
    },
    {
     "data": {
      "text/plain": [
       "[2, 1, 4, 3]"
      ]
     },
     "execution_count": 92,
     "metadata": {},
     "output_type": "execute_result"
    }
   ],
   "source": [
    "# The reversed function takes in any sequence type and returns a generator, which yields the values in reversed order\n",
    "x = reversed(items)\n",
    "x\n",
    "type(x)\n",
    "\n",
    "list(x)"
   ]
  },
  {
   "cell_type": "markdown",
   "id": "9f6ce223-df0b-4f69-9fa6-e1efcc006798",
   "metadata": {},
   "source": [
    "### `map` and `filter`: Functional primitives"
   ]
  },
  {
   "cell_type": "markdown",
   "id": "6b81ec58-020d-4d29-bf3a-00890253f699",
   "metadata": {},
   "source": [
    "In essence, all programs simply *manipulate pieces of data*, by passing them to *functions* and getting the *modified values returned* back to you.\n",
    "\n",
    "Two common concepts in functional programming are *map* and *filter*, and Python provides builtin functions for those."
   ]
  },
  {
   "cell_type": "code",
   "execution_count": 101,
   "id": "eb0da6eb-8d8e-42f4-b1fd-85427b5f61a7",
   "metadata": {},
   "outputs": [
    {
     "data": {
      "text/plain": [
       "<map at 0x116628d90>"
      ]
     },
     "execution_count": 101,
     "metadata": {},
     "output_type": "execute_result"
    },
    {
     "data": {
      "text/plain": [
       "[64, 16, 36, 25]"
      ]
     },
     "execution_count": 101,
     "metadata": {},
     "output_type": "execute_result"
    },
    {
     "data": {
      "text/plain": [
       "64"
      ]
     },
     "execution_count": 101,
     "metadata": {},
     "output_type": "execute_result"
    }
   ],
   "source": [
    "# The map function is a \"high order function\", which means that it's a function that takes in another function as an argument\n",
    "# The map function really does is mapping from one set of values to another\n",
    "def square(x):\n",
    "    return x * x\n",
    "\n",
    "numbers = [8, 4, 6, 5]\n",
    "\n",
    "map(square, numbers)   # This returns a generator\n",
    "list(map(square, numbers))\n",
    "\n",
    "map(square, numbers).__next__()"
   ]
  },
  {
   "cell_type": "code",
   "execution_count": 104,
   "id": "81b1720f-a856-4747-9e05-630d59c19b14",
   "metadata": {},
   "outputs": [
    {
     "data": {
      "text/plain": [
       "[8, 4, 6]"
      ]
     },
     "execution_count": 104,
     "metadata": {},
     "output_type": "execute_result"
    }
   ],
   "source": [
    "# Filter function filters a sequence of values based on a condition\n",
    "events = list(filter(lambda num: num % 2 == 0, numbers))\n",
    "events"
   ]
  },
  {
   "cell_type": "code",
   "execution_count": 106,
   "id": "c7fc1fd4-1ca2-4d72-8893-6e00c8a28159",
   "metadata": {},
   "outputs": [
    {
     "data": {
      "text/plain": [
       "[64, 16, 36, 25]"
      ]
     },
     "execution_count": 106,
     "metadata": {},
     "output_type": "execute_result"
    },
    {
     "data": {
      "text/plain": [
       "[8, 4, 6]"
      ]
     },
     "execution_count": 106,
     "metadata": {},
     "output_type": "execute_result"
    }
   ],
   "source": [
    "# List comprehensions\n",
    "[square(num) for num in numbers]    # Same as \"list(map(square, numbers))\"\n",
    "evens = [num for num in numbers if num % 2 == 0]    # Same as \"events = list(filter(lambda num: num % 2 == 0, numbers))\"\n",
    "evens"
   ]
  },
  {
   "cell_type": "markdown",
   "id": "f7ee6fe5-77e3-4732-b10a-852e478d35e2",
   "metadata": {},
   "source": [
    "### `len`, `max`, `min` and `sum`: Aggregate functions"
   ]
  },
  {
   "cell_type": "code",
   "execution_count": 107,
   "id": "46dade38-ebfa-44e8-a91f-37e7b2d70d3b",
   "metadata": {},
   "outputs": [
    {
     "data": {
      "text/plain": [
       "4"
      ]
     },
     "execution_count": 107,
     "metadata": {},
     "output_type": "execute_result"
    },
    {
     "data": {
      "text/plain": [
       "40"
      ]
     },
     "execution_count": 107,
     "metadata": {},
     "output_type": "execute_result"
    },
    {
     "data": {
      "text/plain": [
       "10"
      ]
     },
     "execution_count": 107,
     "metadata": {},
     "output_type": "execute_result"
    },
    {
     "data": {
      "text/plain": [
       "100"
      ]
     },
     "execution_count": 107,
     "metadata": {},
     "output_type": "execute_result"
    }
   ],
   "source": [
    "# Aggragate functions that combine a collection of values into a single result.\n",
    "numbers = [30, 10, 20, 40]\n",
    "len(numbers)\n",
    "max(numbers)\n",
    "min(numbers)\n",
    "sum(numbers)"
   ]
  },
  {
   "cell_type": "code",
   "execution_count": 108,
   "id": "c358e357-7381-41a1-ada7-be2bb76848e7",
   "metadata": {},
   "outputs": [
    {
     "data": {
      "text/plain": [
       "14"
      ]
     },
     "execution_count": 108,
     "metadata": {},
     "output_type": "execute_result"
    },
    {
     "data": {
      "text/plain": [
       "'v'"
      ]
     },
     "execution_count": 108,
     "metadata": {},
     "output_type": "execute_result"
    },
    {
     "data": {
      "text/plain": [
       "'a'"
      ]
     },
     "execution_count": 108,
     "metadata": {},
     "output_type": "execute_result"
    }
   ],
   "source": [
    "# len, max, min these three can take any container data type, like sets, dictionaries, even strings\n",
    "author = 'guidovanrossum'\n",
    "len(author)\n",
    "max(author)\n",
    "min(author)"
   ]
  },
  {
   "cell_type": "code",
   "execution_count": 109,
   "id": "aea9168a-0128-447c-bcd2-c96066abc4a7",
   "metadata": {},
   "outputs": [
    {
     "data": {
      "text/plain": [
       "1542"
      ]
     },
     "execution_count": 109,
     "metadata": {},
     "output_type": "execute_result"
    }
   ],
   "source": [
    "# sum is required to take in a container of numbers\n",
    "sum(b'guidovanrossum')"
   ]
  },
  {
   "cell_type": "markdown",
   "id": "f86c205b-5a68-4b57-865e-6eeec12fd842",
   "metadata": {},
   "source": [
    "### `iter` and `next`: Advanced iteration"
   ]
  },
  {
   "cell_type": "code",
   "execution_count": 112,
   "id": "3a2faf5c-2013-4659-a122-7b5a23d27a61",
   "metadata": {},
   "outputs": [
    {
     "name": "stdout",
     "output_type": "stream",
     "text": [
      "30\n",
      "10\n",
      "20\n",
      "40\n",
      "30\n",
      "10\n",
      "20\n",
      "40\n"
     ]
    }
   ],
   "source": [
    "# iter and next define the mechanism through which a for loop works\n",
    "numbers = [30, 10, 20, 40]\n",
    "for num in numbers:\n",
    "    print(num)\n",
    "\n",
    "# is actually doing something like this internally\n",
    "num_iterable = iter(numbers)\n",
    "while True:\n",
    "    try:\n",
    "        num = next(num_iterable)\n",
    "        print(num)\n",
    "    except StopIteration:\n",
    "        break\n",
    "        "
   ]
  },
  {
   "cell_type": "code",
   "execution_count": 114,
   "id": "6289ff26-0b0c-4470-90fb-7639a77d4848",
   "metadata": {},
   "outputs": [
    {
     "data": {
      "text/plain": [
       "<list_iterator at 0x1169d0820>"
      ]
     },
     "execution_count": 114,
     "metadata": {},
     "output_type": "execute_result"
    }
   ],
   "source": [
    "# num_iterable is a list iterator\n",
    "num_iterable"
   ]
  },
  {
   "cell_type": "markdown",
   "id": "242f91c2-a249-44f5-a0d9-ed7c5ff673ab",
   "metadata": {},
   "source": [
    "*Iterator objects* in Python do two things:\n",
    "- They yield new values everytime you pass them to `next`\n",
    "- They raise `StopIteration` builtin exception when the iterator has run out of values.\n",
    "\n",
    "This is how all *for-loops* work.\n",
    "\n",
    "BTW, *generators* also follow the iterator protocol"
   ]
  },
  {
   "cell_type": "code",
   "execution_count": 116,
   "id": "71a31abf-c960-4cd4-b61f-d199129ac3ec",
   "metadata": {},
   "outputs": [
    {
     "data": {
      "text/plain": [
       "<generator object <genexpr> at 0x112eff370>"
      ]
     },
     "execution_count": 116,
     "metadata": {},
     "output_type": "execute_result"
    },
    {
     "data": {
      "text/plain": [
       "1"
      ]
     },
     "execution_count": 116,
     "metadata": {},
     "output_type": "execute_result"
    },
    {
     "data": {
      "text/plain": [
       "4"
      ]
     },
     "execution_count": 116,
     "metadata": {},
     "output_type": "execute_result"
    },
    {
     "data": {
      "text/plain": [
       "9"
      ]
     },
     "execution_count": 116,
     "metadata": {},
     "output_type": "execute_result"
    }
   ],
   "source": [
    "# A generator does follow the iterator protocol\n",
    "gen = (x**2 for x in range(1, 4))\n",
    "gen    # This is a generator object\n",
    "\n",
    "next(gen)\n",
    "next(gen)\n",
    "next(gen)\n",
    "\n",
    "# next(gen)    # This will raise StopIteration"
   ]
  },
  {
   "cell_type": "markdown",
   "id": "aeee59a1-0195-4e73-946d-3d33f185ebc9",
   "metadata": {},
   "source": [
    "### `range`, `enumerate` and `zip`: Convenient iteration"
   ]
  },
  {
   "cell_type": "code",
   "execution_count": 121,
   "id": "ad3989de-1c7c-4edf-9eaf-e931dab36708",
   "metadata": {},
   "outputs": [
    {
     "data": {
      "text/plain": [
       "range(0, 10)"
      ]
     },
     "execution_count": 121,
     "metadata": {},
     "output_type": "execute_result"
    },
    {
     "data": {
      "text/plain": [
       "range"
      ]
     },
     "execution_count": 121,
     "metadata": {},
     "output_type": "execute_result"
    },
    {
     "data": {
      "text/plain": [
       "[0, 1, 2, 3, 4, 5, 6, 7, 8, 9]"
      ]
     },
     "execution_count": 121,
     "metadata": {},
     "output_type": "execute_result"
    },
    {
     "data": {
      "text/plain": [
       "[3, 4, 5, 6, 7]"
      ]
     },
     "execution_count": 121,
     "metadata": {},
     "output_type": "execute_result"
    },
    {
     "data": {
      "text/plain": [
       "[1, 3, 5, 7, 9]"
      ]
     },
     "execution_count": 121,
     "metadata": {},
     "output_type": "execute_result"
    },
    {
     "data": {
      "text/plain": [
       "[10, 8, 6, 4, 2]"
      ]
     },
     "execution_count": 121,
     "metadata": {},
     "output_type": "execute_result"
    }
   ],
   "source": [
    "# This returns an iterable, what is \"an iterable\"?\n",
    "a = range(10)\n",
    "a\n",
    "type(a)\n",
    "\n",
    "list(a)\n",
    "list(range(3, 8))\n",
    "list(range(1, 10, 2))\n",
    "list(range(10, 1, -2))"
   ]
  },
  {
   "cell_type": "code",
   "execution_count": 124,
   "id": "be95df4d-1235-46b4-bf54-a971a50cddbd",
   "metadata": {},
   "outputs": [
    {
     "name": "stdout",
     "output_type": "stream",
     "text": [
      "1: eggs\n",
      "2: spam\n",
      "3: bacon\n",
      "1: eggs\n",
      "2: spam\n",
      "3: bacon\n"
     ]
    }
   ],
   "source": [
    "# enumerate is great for when you need to access the index and value of elements in a list\n",
    "# Instead of doing:\n",
    "menu = ['eggs', 'spam', 'bacon']\n",
    "for i in range(len(menu)):\n",
    "    print(f'{i+1}: {menu[i]}')\n",
    "\n",
    "# you can do this instead\n",
    "for index, item in enumerate(menu, start=1):\n",
    "    print(f'{index}: {item}')"
   ]
  },
  {
   "cell_type": "code",
   "execution_count": 126,
   "id": "7e78430b-973a-4061-b691-18ee12c25db0",
   "metadata": {},
   "outputs": [
    {
     "name": "stdout",
     "output_type": "stream",
     "text": [
      "Jared got 65 marks\n",
      "Brock got 74 marks\n",
      "Jack got 81 marks\n"
     ]
    }
   ],
   "source": [
    "# zip is used to get index-wise values from multiple iterables\n",
    "students = ['Jared', 'Brock', 'Jack']\n",
    "marks = [65, 74, 81]\n",
    "n = zip(students, marks)    # This returns a zip object\n",
    "\n",
    "for student, mark in n:\n",
    "    print(f'{student} got {mark} marks')"
   ]
  },
  {
   "cell_type": "markdown",
   "id": "6b3c8ca3-2bd4-4a5b-ba56-7517bd2ee34e",
   "metadata": {},
   "source": [
    "Both `enumerate` and `zip` functions can help massively *simplify* iteration code."
   ]
  },
  {
   "cell_type": "markdown",
   "id": "664901e2-b5d3-45ac-a1e8-59660581b687",
   "metadata": {},
   "source": [
    "### `slice`"
   ]
  },
  {
   "cell_type": "markdown",
   "id": "b4d7acef-8528-4df0-9507-bb9bbf96d716",
   "metadata": {},
   "source": [
    "A `slice` object is what's used under the hood when you try to *slice* a Python *iterable*."
   ]
  },
  {
   "cell_type": "code",
   "execution_count": 137,
   "id": "7bf3ad57-1ab2-4c02-8121-224738e1a00b",
   "metadata": {},
   "outputs": [
    {
     "data": {
      "text/plain": [
       "[20, 30]"
      ]
     },
     "execution_count": 137,
     "metadata": {},
     "output_type": "execute_result"
    },
    {
     "data": {
      "text/plain": [
       "list"
      ]
     },
     "execution_count": 137,
     "metadata": {},
     "output_type": "execute_result"
    },
    {
     "data": {
      "text/plain": [
       "[20, 30]"
      ]
     },
     "execution_count": 137,
     "metadata": {},
     "output_type": "execute_result"
    },
    {
     "data": {
      "text/plain": [
       "True"
      ]
     },
     "execution_count": 137,
     "metadata": {},
     "output_type": "execute_result"
    },
    {
     "data": {
      "text/plain": [
       "False"
      ]
     },
     "execution_count": 137,
     "metadata": {},
     "output_type": "execute_result"
    },
    {
     "data": {
      "text/plain": [
       "[0, 1, 2, 3, 4, 5, 6, 7, 8, 9]"
      ]
     },
     "execution_count": 137,
     "metadata": {},
     "output_type": "execute_result"
    },
    {
     "data": {
      "text/plain": [
       "[1, 3, 5, 7, 9]"
      ]
     },
     "execution_count": 137,
     "metadata": {},
     "output_type": "execute_result"
    },
    {
     "data": {
      "text/plain": [
       "slice(1, None, 2)"
      ]
     },
     "execution_count": 137,
     "metadata": {},
     "output_type": "execute_result"
    },
    {
     "data": {
      "text/plain": [
       "[1, 3, 5, 7, 9]"
      ]
     },
     "execution_count": 137,
     "metadata": {},
     "output_type": "execute_result"
    }
   ],
   "source": [
    "my_list = [10, 20, 30, 40]\n",
    "my_list[1:3]\n",
    "type(my_list[1:3])\n",
    "\n",
    "my_list[slice(1, 3)]\n",
    "my_list[1:3] == my_list[slice(1, 3)]\n",
    "my_list[1:3] is my_list[slice(1, 3)]\n",
    "\n",
    "nums = list(range(10))\n",
    "nums\n",
    "nums[1::2]\n",
    "\n",
    "s = slice(1, None, 2)\n",
    "s\n",
    "nums[s]"
   ]
  },
  {
   "cell_type": "markdown",
   "id": "936d3098-5bd4-4a2d-abc1-a74dcba6e2f1",
   "metadata": {},
   "source": [
    "### `breakpoint`: built-in debugging"
   ]
  },
  {
   "cell_type": "code",
   "execution_count": null,
   "id": "45dced80-74cf-4020-8894-90973f9aaa4a",
   "metadata": {},
   "outputs": [],
   "source": []
  },
  {
   "cell_type": "markdown",
   "id": "8eaed322-6e6d-4be5-be26-767ad0d9f4a6",
   "metadata": {},
   "source": [
    "## Built-in Exceptions"
   ]
  },
  {
   "cell_type": "markdown",
   "id": "c671ba87-b6be-42ed-8223-a3a21be15582",
   "metadata": {},
   "source": [
    "Each one of Python built-in exception class is intended to be used by the user, the standard library and everyone else, to serve as meaningful ways to *interpret and catch errors* in your code.\n",
    "\n",
    "There's a example to explain why there's *separate Exception classes* in Python:"
   ]
  },
  {
   "cell_type": "code",
   "execution_count": 61,
   "id": "bfb6bc41-074f-42ed-b1c9-1f800ca336d8",
   "metadata": {},
   "outputs": [],
   "source": [
    "def fetch_from_cache(key):\n",
    "    \"\"\"Returns a key's value from cached items.\"\"\"\n",
    "    if key is None:\n",
    "        raise ValueError('key must not be None')\n",
    "\n",
    "    return cached_items[key]\n",
    "\n",
    "def get_value(key):\n",
    "    try:\n",
    "        value = fetch_from_cache(key)\n",
    "    except KeyError:\n",
    "        value = fetch_from_api(key)\n",
    "\n",
    "    return value "
   ]
  },
  {
   "cell_type": "markdown",
   "id": "63b8179a-5a93-41e4-bc10-75d9a4902959",
   "metadata": {},
   "source": [
    "Every exception is a subclass of `BaseException`, and nearly all of them are subclasses of `Exception`, other than a few that aren't supposed to be normally caught."
   ]
  },
  {
   "cell_type": "markdown",
   "id": "4adfd0cd-3203-4457-ab21-59fad152de71",
   "metadata": {},
   "source": [
    "## Built-in Constants"
   ]
  },
  {
   "attachments": {},
   "cell_type": "markdown",
   "id": "40636313-5330-4a53-aaf0-a0a84df0d863",
   "metadata": {},
   "source": [
    "constants: `True`, `False`, `None`, `Ellipsis`, and `NotImplemented` and `__debug__`.\n",
    "\n",
    "`NotImplemented` is used inside a class' operator definitions, when you want to tell Python that a certain operator isn't defined for this class."
   ]
  },
  {
   "cell_type": "code",
   "execution_count": 62,
   "id": "543d9b48-b19e-40b9-9da9-d1024bdca393",
   "metadata": {},
   "outputs": [
    {
     "data": {
      "text/plain": [
       "43"
      ]
     },
     "execution_count": 62,
     "metadata": {},
     "output_type": "execute_result"
    }
   ],
   "source": [
    "class MyNumber:\n",
    "    def __add__(self, other):\n",
    "        if isinstance(other, float):\n",
    "            return NotImplemented\n",
    "\n",
    "        return other + 42\n",
    "\n",
    "n = MyNumber()\n",
    "n + 1"
   ]
  },
  {
   "cell_type": "markdown",
   "id": "6d960190-0903-40ce-8ad6-11771843efd6",
   "metadata": {},
   "source": [
    "`True`, `False`, `None` and `__debug__` are the *true constants* in Python. i.e. these 4 are the only global variables in Python that you *cannot overrite* with a new value."
   ]
  },
  {
   "cell_type": "markdown",
   "id": "b48543a5-5ea6-4eaf-8c3e-c07773a72817",
   "metadata": {},
   "source": [
    "### builtin module attributes"
   ]
  },
  {
   "cell_type": "code",
   "execution_count": 63,
   "id": "b8ca0f2e-66af-479b-866b-ba13577144e2",
   "metadata": {},
   "outputs": [
    {
     "data": {
      "text/plain": [
       "'builtins'"
      ]
     },
     "execution_count": 63,
     "metadata": {},
     "output_type": "execute_result"
    },
    {
     "data": {
      "text/plain": [
       "'__main__'"
      ]
     },
     "execution_count": 63,
     "metadata": {},
     "output_type": "execute_result"
    }
   ],
   "source": [
    "# __name__ contains the name of the module\n",
    "builtins.__name__\n",
    "\n",
    "# When you run a Python file, that is also run as a module, and the module name for that is __main__.\n",
    "__name__"
   ]
  },
  {
   "cell_type": "code",
   "execution_count": 64,
   "id": "80929a74-af06-4fee-b979-2fced4bbeed1",
   "metadata": {
    "scrolled": true
   },
   "outputs": [
    {
     "name": "stdout",
     "output_type": "stream",
     "text": [
      "This module provides various functions to manipulate time values.\n",
      "\n",
      "There are two standard representations of time.  One is the number\n",
      "of seconds since the Epoch, in UTC (a.k.a. GMT).  It may be an integer\n",
      "or a floating point number (to represent fractions of seconds).\n",
      "The Epoch is system-defined; on Unix, it is generally January 1st, 1970.\n",
      "The actual value can be retrieved by calling gmtime(0).\n",
      "\n",
      "The other representation is a tuple of 9 integers giving local time.\n",
      "The tuple items are:\n",
      "  year (including century, e.g. 1998)\n",
      "  month (1-12)\n",
      "  day (1-31)\n",
      "  hours (0-23)\n",
      "  minutes (0-59)\n",
      "  seconds (0-59)\n",
      "  weekday (0-6, Monday is 0)\n",
      "  Julian day (day in the year, 1-366)\n",
      "  DST (Daylight Savings Time) flag (-1, 0 or 1)\n",
      "If the DST flag is 0, the time is given in the regular time zone;\n",
      "if it is 1, the time is given in the DST time zone;\n",
      "if it is -1, mktime() should guess based on the date and time.\n",
      "\n",
      "Help on built-in module time:\n",
      "\n",
      "NAME\n",
      "    time - This module provides various functions to manipulate time values.\n",
      "\n",
      "DESCRIPTION\n",
      "    There are two standard representations of time.  One is the number\n",
      "    of seconds since the Epoch, in UTC (a.k.a. GMT).  It may be an integer\n",
      "    or a floating point number (to represent fractions of seconds).\n",
      "    The Epoch is system-defined; on Unix, it is generally January 1st, 1970.\n",
      "    The actual value can be retrieved by calling gmtime(0).\n",
      "    \n",
      "    The other representation is a tuple of 9 integers giving local time.\n",
      "    The tuple items are:\n",
      "      year (including century, e.g. 1998)\n",
      "      month (1-12)\n",
      "      day (1-31)\n",
      "      hours (0-23)\n",
      "      minutes (0-59)\n",
      "      seconds (0-59)\n",
      "      weekday (0-6, Monday is 0)\n",
      "      Julian day (day in the year, 1-366)\n",
      "      DST (Daylight Savings Time) flag (-1, 0 or 1)\n",
      "    If the DST flag is 0, the time is given in the regular time zone;\n",
      "    if it is 1, the time is given in the DST time zone;\n",
      "    if it is -1, mktime() should guess based on the date and time.\n",
      "\n",
      "CLASSES\n",
      "    builtins.tuple(builtins.object)\n",
      "        struct_time\n",
      "    \n",
      "    class struct_time(builtins.tuple)\n",
      "     |  struct_time(iterable=(), /)\n",
      "     |  \n",
      "     |  The time value as returned by gmtime(), localtime(), and strptime(), and\n",
      "     |  accepted by asctime(), mktime() and strftime().  May be considered as a\n",
      "     |  sequence of 9 integers.\n",
      "     |  \n",
      "     |  Note that several fields' values are not the same as those defined by\n",
      "     |  the C language standard for struct tm.  For example, the value of the\n",
      "     |  field tm_year is the actual year, not year - 1900.  See individual\n",
      "     |  fields' descriptions for details.\n",
      "     |  \n",
      "     |  Method resolution order:\n",
      "     |      struct_time\n",
      "     |      builtins.tuple\n",
      "     |      builtins.object\n",
      "     |  \n",
      "     |  Methods defined here:\n",
      "     |  \n",
      "     |  __reduce__(...)\n",
      "     |      Helper for pickle.\n",
      "     |  \n",
      "     |  __repr__(self, /)\n",
      "     |      Return repr(self).\n",
      "     |  \n",
      "     |  ----------------------------------------------------------------------\n",
      "     |  Static methods defined here:\n",
      "     |  \n",
      "     |  __new__(*args, **kwargs) from builtins.type\n",
      "     |      Create and return a new object.  See help(type) for accurate signature.\n",
      "     |  \n",
      "     |  ----------------------------------------------------------------------\n",
      "     |  Data descriptors defined here:\n",
      "     |  \n",
      "     |  tm_gmtoff\n",
      "     |      offset from UTC in seconds\n",
      "     |  \n",
      "     |  tm_hour\n",
      "     |      hours, range [0, 23]\n",
      "     |  \n",
      "     |  tm_isdst\n",
      "     |      1 if summer time is in effect, 0 if not, and -1 if unknown\n",
      "     |  \n",
      "     |  tm_mday\n",
      "     |      day of month, range [1, 31]\n",
      "     |  \n",
      "     |  tm_min\n",
      "     |      minutes, range [0, 59]\n",
      "     |  \n",
      "     |  tm_mon\n",
      "     |      month of year, range [1, 12]\n",
      "     |  \n",
      "     |  tm_sec\n",
      "     |      seconds, range [0, 61])\n",
      "     |  \n",
      "     |  tm_wday\n",
      "     |      day of week, range [0, 6], Monday is 0\n",
      "     |  \n",
      "     |  tm_yday\n",
      "     |      day of year, range [1, 366]\n",
      "     |  \n",
      "     |  tm_year\n",
      "     |      year, for example, 1993\n",
      "     |  \n",
      "     |  tm_zone\n",
      "     |      abbreviation of timezone name\n",
      "     |  \n",
      "     |  ----------------------------------------------------------------------\n",
      "     |  Data and other attributes defined here:\n",
      "     |  \n",
      "     |  __match_args__ = ('tm_year', 'tm_mon', 'tm_mday', 'tm_hour', 'tm_min',...\n",
      "     |  \n",
      "     |  n_fields = 11\n",
      "     |  \n",
      "     |  n_sequence_fields = 9\n",
      "     |  \n",
      "     |  n_unnamed_fields = 0\n",
      "     |  \n",
      "     |  ----------------------------------------------------------------------\n",
      "     |  Methods inherited from builtins.tuple:\n",
      "     |  \n",
      "     |  __add__(self, value, /)\n",
      "     |      Return self+value.\n",
      "     |  \n",
      "     |  __contains__(self, key, /)\n",
      "     |      Return key in self.\n",
      "     |  \n",
      "     |  __eq__(self, value, /)\n",
      "     |      Return self==value.\n",
      "     |  \n",
      "     |  __ge__(self, value, /)\n",
      "     |      Return self>=value.\n",
      "     |  \n",
      "     |  __getattribute__(self, name, /)\n",
      "     |      Return getattr(self, name).\n",
      "     |  \n",
      "     |  __getitem__(self, key, /)\n",
      "     |      Return self[key].\n",
      "     |  \n",
      "     |  __getnewargs__(self, /)\n",
      "     |  \n",
      "     |  __gt__(self, value, /)\n",
      "     |      Return self>value.\n",
      "     |  \n",
      "     |  __hash__(self, /)\n",
      "     |      Return hash(self).\n",
      "     |  \n",
      "     |  __iter__(self, /)\n",
      "     |      Implement iter(self).\n",
      "     |  \n",
      "     |  __le__(self, value, /)\n",
      "     |      Return self<=value.\n",
      "     |  \n",
      "     |  __len__(self, /)\n",
      "     |      Return len(self).\n",
      "     |  \n",
      "     |  __lt__(self, value, /)\n",
      "     |      Return self<value.\n",
      "     |  \n",
      "     |  __mul__(self, value, /)\n",
      "     |      Return self*value.\n",
      "     |  \n",
      "     |  __ne__(self, value, /)\n",
      "     |      Return self!=value.\n",
      "     |  \n",
      "     |  __rmul__(self, value, /)\n",
      "     |      Return value*self.\n",
      "     |  \n",
      "     |  count(self, value, /)\n",
      "     |      Return number of occurrences of value.\n",
      "     |  \n",
      "     |  index(self, value, start=0, stop=9223372036854775807, /)\n",
      "     |      Return first index of value.\n",
      "     |      \n",
      "     |      Raises ValueError if the value is not present.\n",
      "     |  \n",
      "     |  ----------------------------------------------------------------------\n",
      "     |  Class methods inherited from builtins.tuple:\n",
      "     |  \n",
      "     |  __class_getitem__(...) from builtins.type\n",
      "     |      See PEP 585\n",
      "\n",
      "FUNCTIONS\n",
      "    asctime(...)\n",
      "        asctime([tuple]) -> string\n",
      "        \n",
      "        Convert a time tuple to a string, e.g. 'Sat Jun 06 16:26:11 1998'.\n",
      "        When the time tuple is not present, current time as returned by localtime()\n",
      "        is used.\n",
      "    \n",
      "    clock_getres(...)\n",
      "        clock_getres(clk_id) -> floating point number\n",
      "        \n",
      "        Return the resolution (precision) of the specified clock clk_id.\n",
      "    \n",
      "    clock_gettime(...)\n",
      "        clock_gettime(clk_id) -> float\n",
      "        \n",
      "        Return the time of the specified clock clk_id.\n",
      "    \n",
      "    clock_gettime_ns(...)\n",
      "        clock_gettime_ns(clk_id) -> int\n",
      "        \n",
      "        Return the time of the specified clock clk_id as nanoseconds.\n",
      "    \n",
      "    clock_settime(...)\n",
      "        clock_settime(clk_id, time)\n",
      "        \n",
      "        Set the time of the specified clock clk_id.\n",
      "    \n",
      "    clock_settime_ns(...)\n",
      "        clock_settime_ns(clk_id, time)\n",
      "        \n",
      "        Set the time of the specified clock clk_id with nanoseconds.\n",
      "    \n",
      "    ctime(...)\n",
      "        ctime(seconds) -> string\n",
      "        \n",
      "        Convert a time in seconds since the Epoch to a string in local time.\n",
      "        This is equivalent to asctime(localtime(seconds)). When the time tuple is\n",
      "        not present, current time as returned by localtime() is used.\n",
      "    \n",
      "    get_clock_info(...)\n",
      "        get_clock_info(name: str) -> dict\n",
      "        \n",
      "        Get information of the specified clock.\n",
      "    \n",
      "    gmtime(...)\n",
      "        gmtime([seconds]) -> (tm_year, tm_mon, tm_mday, tm_hour, tm_min,\n",
      "                               tm_sec, tm_wday, tm_yday, tm_isdst)\n",
      "        \n",
      "        Convert seconds since the Epoch to a time tuple expressing UTC (a.k.a.\n",
      "        GMT).  When 'seconds' is not passed in, convert the current time instead.\n",
      "        \n",
      "        If the platform supports the tm_gmtoff and tm_zone, they are available as\n",
      "        attributes only.\n",
      "    \n",
      "    localtime(...)\n",
      "        localtime([seconds]) -> (tm_year,tm_mon,tm_mday,tm_hour,tm_min,\n",
      "                                  tm_sec,tm_wday,tm_yday,tm_isdst)\n",
      "        \n",
      "        Convert seconds since the Epoch to a time tuple expressing local time.\n",
      "        When 'seconds' is not passed in, convert the current time instead.\n",
      "    \n",
      "    mktime(...)\n",
      "        mktime(tuple) -> floating point number\n",
      "        \n",
      "        Convert a time tuple in local time to seconds since the Epoch.\n",
      "        Note that mktime(gmtime(0)) will not generally return zero for most\n",
      "        time zones; instead the returned value will either be equal to that\n",
      "        of the timezone or altzone attributes on the time module.\n",
      "    \n",
      "    monotonic(...)\n",
      "        monotonic() -> float\n",
      "        \n",
      "        Monotonic clock, cannot go backward.\n",
      "    \n",
      "    monotonic_ns(...)\n",
      "        monotonic_ns() -> int\n",
      "        \n",
      "        Monotonic clock, cannot go backward, as nanoseconds.\n",
      "    \n",
      "    perf_counter(...)\n",
      "        perf_counter() -> float\n",
      "        \n",
      "        Performance counter for benchmarking.\n",
      "    \n",
      "    perf_counter_ns(...)\n",
      "        perf_counter_ns() -> int\n",
      "        \n",
      "        Performance counter for benchmarking as nanoseconds.\n",
      "    \n",
      "    process_time(...)\n",
      "        process_time() -> float\n",
      "        \n",
      "        Process time for profiling: sum of the kernel and user-space CPU time.\n",
      "    \n",
      "    process_time_ns(...)\n",
      "        process_time() -> int\n",
      "        \n",
      "        Process time for profiling as nanoseconds:\n",
      "        sum of the kernel and user-space CPU time.\n",
      "    \n",
      "    sleep(...)\n",
      "        sleep(seconds)\n",
      "        \n",
      "        Delay execution for a given number of seconds.  The argument may be\n",
      "        a floating point number for subsecond precision.\n",
      "    \n",
      "    strftime(...)\n",
      "        strftime(format[, tuple]) -> string\n",
      "        \n",
      "        Convert a time tuple to a string according to a format specification.\n",
      "        See the library reference manual for formatting codes. When the time tuple\n",
      "        is not present, current time as returned by localtime() is used.\n",
      "        \n",
      "        Commonly used format codes:\n",
      "        \n",
      "        %Y  Year with century as a decimal number.\n",
      "        %m  Month as a decimal number [01,12].\n",
      "        %d  Day of the month as a decimal number [01,31].\n",
      "        %H  Hour (24-hour clock) as a decimal number [00,23].\n",
      "        %M  Minute as a decimal number [00,59].\n",
      "        %S  Second as a decimal number [00,61].\n",
      "        %z  Time zone offset from UTC.\n",
      "        %a  Locale's abbreviated weekday name.\n",
      "        %A  Locale's full weekday name.\n",
      "        %b  Locale's abbreviated month name.\n",
      "        %B  Locale's full month name.\n",
      "        %c  Locale's appropriate date and time representation.\n",
      "        %I  Hour (12-hour clock) as a decimal number [01,12].\n",
      "        %p  Locale's equivalent of either AM or PM.\n",
      "        \n",
      "        Other codes may be available on your platform.  See documentation for\n",
      "        the C library strftime function.\n",
      "    \n",
      "    strptime(...)\n",
      "        strptime(string, format) -> struct_time\n",
      "        \n",
      "        Parse a string to a time tuple according to a format specification.\n",
      "        See the library reference manual for formatting codes (same as\n",
      "        strftime()).\n",
      "        \n",
      "        Commonly used format codes:\n",
      "        \n",
      "        %Y  Year with century as a decimal number.\n",
      "        %m  Month as a decimal number [01,12].\n",
      "        %d  Day of the month as a decimal number [01,31].\n",
      "        %H  Hour (24-hour clock) as a decimal number [00,23].\n",
      "        %M  Minute as a decimal number [00,59].\n",
      "        %S  Second as a decimal number [00,61].\n",
      "        %z  Time zone offset from UTC.\n",
      "        %a  Locale's abbreviated weekday name.\n",
      "        %A  Locale's full weekday name.\n",
      "        %b  Locale's abbreviated month name.\n",
      "        %B  Locale's full month name.\n",
      "        %c  Locale's appropriate date and time representation.\n",
      "        %I  Hour (12-hour clock) as a decimal number [01,12].\n",
      "        %p  Locale's equivalent of either AM or PM.\n",
      "        \n",
      "        Other codes may be available on your platform.  See documentation for\n",
      "        the C library strftime function.\n",
      "    \n",
      "    thread_time(...)\n",
      "        thread_time() -> float\n",
      "        \n",
      "        Thread time for profiling: sum of the kernel and user-space CPU time.\n",
      "    \n",
      "    thread_time_ns(...)\n",
      "        thread_time() -> int\n",
      "        \n",
      "        Thread time for profiling as nanoseconds:\n",
      "        sum of the kernel and user-space CPU time.\n",
      "    \n",
      "    time(...)\n",
      "        time() -> floating point number\n",
      "        \n",
      "        Return the current time in seconds since the Epoch.\n",
      "        Fractions of a second may be present if the system clock provides them.\n",
      "    \n",
      "    time_ns(...)\n",
      "        time_ns() -> int\n",
      "        \n",
      "        Return the current time in nanoseconds since the Epoch.\n",
      "    \n",
      "    tzset(...)\n",
      "        tzset()\n",
      "        \n",
      "        Initialize, or reinitialize, the local timezone to the value stored in\n",
      "        os.environ['TZ']. The TZ environment variable should be specified in\n",
      "        standard Unix timezone format as documented in the tzset man page\n",
      "        (eg. 'US/Eastern', 'Europe/Amsterdam'). Unknown timezones will silently\n",
      "        fall back to UTC. If the TZ environment variable is not set, the local\n",
      "        timezone is set to the systems best guess of wallclock time.\n",
      "        Changing the TZ environment variable without calling tzset *may* change\n",
      "        the local timezone used by methods such as localtime, but this behaviour\n",
      "        should not be relied on.\n",
      "\n",
      "DATA\n",
      "    CLOCK_MONOTONIC = 6\n",
      "    CLOCK_MONOTONIC_RAW = 4\n",
      "    CLOCK_PROCESS_CPUTIME_ID = 12\n",
      "    CLOCK_REALTIME = 0\n",
      "    CLOCK_THREAD_CPUTIME_ID = 16\n",
      "    CLOCK_UPTIME_RAW = 8\n",
      "    altzone = -28800\n",
      "    daylight = 0\n",
      "    timezone = -28800\n",
      "    tzname = ('CST', 'CST')\n",
      "\n",
      "FILE\n",
      "    (built-in)\n",
      "\n",
      "\n"
     ]
    }
   ],
   "source": [
    "# __doc__ contains the module's docstring, it's what's shown as  the module description when you do help(module_name)\n",
    "import time\n",
    "print(time.__doc__)\n",
    "help(time)"
   ]
  },
  {
   "cell_type": "code",
   "execution_count": 65,
   "id": "e1cb21f1-05b0-4a4e-b9dc-431a491e36a7",
   "metadata": {},
   "outputs": [
    {
     "data": {
      "text/plain": [
       "'urllib'"
      ]
     },
     "execution_count": 65,
     "metadata": {},
     "output_type": "execute_result"
    },
    {
     "data": {
      "text/plain": [
       "'urllib'"
      ]
     },
     "execution_count": 65,
     "metadata": {},
     "output_type": "execute_result"
    },
    {
     "data": {
      "text/plain": [
       "'urllib.request'"
      ]
     },
     "execution_count": 65,
     "metadata": {},
     "output_type": "execute_result"
    }
   ],
   "source": [
    "# __package__ shows the package to which this module belongs\n",
    "import urllib.request\n",
    "urllib.__package__\n",
    "\n",
    "urllib.request.__package__\n",
    "\n",
    "urllib.request.__name__"
   ]
  },
  {
   "cell_type": "code",
   "execution_count": 66,
   "id": "60e7184c-4096-4e84-a8cc-7f72bbebbef8",
   "metadata": {},
   "outputs": [
    {
     "data": {
      "text/plain": [
       "ModuleSpec(name='time', loader=<class '_frozen_importlib.BuiltinImporter'>, origin='built-in')"
      ]
     },
     "execution_count": 66,
     "metadata": {},
     "output_type": "execute_result"
    }
   ],
   "source": [
    "# __spec__ refers to the module spec\n",
    "time.__spec__"
   ]
  },
  {
   "cell_type": "code",
   "execution_count": 67,
   "id": "ef25d51f-e178-4dd2-a6e8-db0e16a6d670",
   "metadata": {},
   "outputs": [],
   "source": [
    "# __loader__\n",
    "# <class '_frozen_importlib.BuiltinImporter'>"
   ]
  },
  {
   "cell_type": "markdown",
   "id": "a993752d-0496-43d8-a343-890f20ebb5e5",
   "metadata": {},
   "source": [
    "The `__loader__` is set to the loader object that the import machinery used when loading the module. This specific one is defined within the `_frozen_importlib` module, and is what's used to import the builtin modules."
   ]
  },
  {
   "cell_type": "code",
   "execution_count": 68,
   "id": "a4a2a738-5d8a-4b3e-bf7d-2f7342f55671",
   "metadata": {},
   "outputs": [
    {
     "data": {
      "text/plain": [
       "<module 'random' from '/Library/Frameworks/Python.framework/Versions/3.11/lib/python3.11/random.py'>"
      ]
     },
     "execution_count": 68,
     "metadata": {},
     "output_type": "execute_result"
    },
    {
     "data": {
      "text/plain": [
       "<module 'random' from '/Library/Frameworks/Python.framework/Versions/3.11/lib/python3.11/random.py'>"
      ]
     },
     "execution_count": 68,
     "metadata": {},
     "output_type": "execute_result"
    },
    {
     "data": {
      "text/plain": [
       "<module 'numpy' from '/Library/Frameworks/Python.framework/Versions/3.11/lib/python3.11/site-packages/numpy/__init__.py'>"
      ]
     },
     "execution_count": 68,
     "metadata": {},
     "output_type": "execute_result"
    }
   ],
   "source": [
    "# __import__ defines how import statements work in Python\n",
    "import random\n",
    "random\n",
    "\n",
    "__import__('random')\n",
    "\n",
    "np = __import__('numpy')    # same as doing 'import numpy as np'\n",
    "np"
   ]
  },
  {
   "cell_type": "code",
   "execution_count": 69,
   "id": "09ffd82a-e82f-420e-b43d-109811790d04",
   "metadata": {},
   "outputs": [
    {
     "data": {
      "text/plain": [
       "True"
      ]
     },
     "execution_count": 69,
     "metadata": {},
     "output_type": "execute_result"
    }
   ],
   "source": [
    "# __debug__ is a global constant value in Python which is almost set to True\n",
    "__debug__"
   ]
  },
  {
   "cell_type": "code",
   "execution_count": 70,
   "id": "058cd983-fc45-4881-87ed-b45efbefaab5",
   "metadata": {},
   "outputs": [
    {
     "name": "stdout",
     "output_type": "stream",
     "text": [
      "<__main__.D object at 0x11230e350>\n"
     ]
    }
   ],
   "source": [
    "# __build_class__\n",
    "class C:\n",
    "    def __init__subclass__(self, **kwargs):\n",
    "        print(f'Subclass got data: {kwargs}')\n",
    "\n",
    "class D(C):\n",
    "    pass\n",
    "\n",
    "d = D()\n",
    "print(d)"
   ]
  },
  {
   "cell_type": "code",
   "execution_count": 71,
   "id": "f4eae9de-11e0-4884-b4e5-e6e19df5403f",
   "metadata": {},
   "outputs": [],
   "source": [
    "# __cached__\n",
    "# When your import a module, the __cached__ property stores the path of the cached file of the \n",
    "# compiled Python bytecode of that module"
   ]
  },
  {
   "cell_type": "markdown",
   "id": "43fc09ff-b6bd-42c3-87b5-42f203a83487",
   "metadata": {},
   "source": [
    "The steps that the Python interpreter takes to run code:\n",
    "- It takes source file and parses it into a syntax tree.\n",
    "- Compile this syntax tree into *bytecode*.\n",
    "- The bytecode-form of code is then run on the Python VM.\n",
    "\n",
    "The *syntax tree* is a representation of code that can be more easily understood by a program. *Bytecode* is a set oof micro-instructions for **Python's virtual machine**. This \"virtual machine\" is where Python's interpreter logic resides. The *bytecode instructions* are simple things like pushing and poping data off the current stack."
   ]
  },
  {
   "cell_type": "code",
   "execution_count": 72,
   "id": "ca62d013-260b-417b-afa0-2d91f23f7d29",
   "metadata": {},
   "outputs": [
    {
     "data": {
      "text/plain": [
       "'/Library/Frameworks/Python.framework/Versions/3.11/lib/python3.11/test/__pycache__/__init__.cpython-311.pyc'"
      ]
     },
     "execution_count": 72,
     "metadata": {},
     "output_type": "execute_result"
    }
   ],
   "source": [
    "import test\n",
    "test.__cached__"
   ]
  },
  {
   "cell_type": "markdown",
   "id": "1d092f3e-16eb-4076-895a-2f07733670e6",
   "metadata": {},
   "source": []
  }
 ],
 "metadata": {
  "kernelspec": {
   "display_name": "Python 3 (ipykernel)",
   "language": "python",
   "name": "python3"
  },
  "language_info": {
   "codemirror_mode": {
    "name": "ipython",
    "version": 3
   },
   "file_extension": ".py",
   "mimetype": "text/x-python",
   "name": "python",
   "nbconvert_exporter": "python",
   "pygments_lexer": "ipython3",
   "version": "3.11.3"
  }
 },
 "nbformat": 4,
 "nbformat_minor": 5
}
