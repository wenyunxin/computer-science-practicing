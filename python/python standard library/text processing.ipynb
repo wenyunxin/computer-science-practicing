{
 "cells": [
  {
   "cell_type": "code",
   "execution_count": 16,
   "id": "b95c7d01-1aa1-4de4-97ba-c57e38e6b090",
   "metadata": {},
   "outputs": [],
   "source": [
    "from IPython.core.interactiveshell import InteractiveShell\n",
    "InteractiveShell.ast_node_interactivity = \"all\""
   ]
  },
  {
   "cell_type": "markdown",
   "id": "597a95b4-1cc6-4a10-a81d-cd6d46b36e96",
   "metadata": {},
   "source": [
    "## String -- Common string operations"
   ]
  },
  {
   "cell_type": "markdown",
   "id": "beb312df-7f01-42e3-ae14-7abc3178911b",
   "metadata": {},
   "source": [
    "### String constants"
   ]
  },
  {
   "cell_type": "code",
   "execution_count": 17,
   "id": "07cb0765-bffc-47c3-939c-de29ff62001f",
   "metadata": {},
   "outputs": [
    {
     "data": {
      "text/plain": [
       "'abcdefghijklmnopqrstuvwxyzABCDEFGHIJKLMNOPQRSTUVWXYZ'"
      ]
     },
     "execution_count": 17,
     "metadata": {},
     "output_type": "execute_result"
    },
    {
     "data": {
      "text/plain": [
       "'abcdefghijklmnopqrstuvwxyz'"
      ]
     },
     "execution_count": 17,
     "metadata": {},
     "output_type": "execute_result"
    },
    {
     "data": {
      "text/plain": [
       "'ABCDEFGHIJKLMNOPQRSTUVWXYZ'"
      ]
     },
     "execution_count": 17,
     "metadata": {},
     "output_type": "execute_result"
    },
    {
     "data": {
      "text/plain": [
       "'0123456789'"
      ]
     },
     "execution_count": 17,
     "metadata": {},
     "output_type": "execute_result"
    },
    {
     "data": {
      "text/plain": [
       "'0123456789abcdefABCDEF'"
      ]
     },
     "execution_count": 17,
     "metadata": {},
     "output_type": "execute_result"
    },
    {
     "data": {
      "text/plain": [
       "'01234567'"
      ]
     },
     "execution_count": 17,
     "metadata": {},
     "output_type": "execute_result"
    },
    {
     "data": {
      "text/plain": [
       "'!\"#$%&\\'()*+,-./:;<=>?@[\\\\]^_`{|}~'"
      ]
     },
     "execution_count": 17,
     "metadata": {},
     "output_type": "execute_result"
    },
    {
     "data": {
      "text/plain": [
       "'0123456789abcdefghijklmnopqrstuvwxyzABCDEFGHIJKLMNOPQRSTUVWXYZ!\"#$%&\\'()*+,-./:;<=>?@[\\\\]^_`{|}~ \\t\\n\\r\\x0b\\x0c'"
      ]
     },
     "execution_count": 17,
     "metadata": {},
     "output_type": "execute_result"
    },
    {
     "data": {
      "text/plain": [
       "' \\t\\n\\r\\x0b\\x0c'"
      ]
     },
     "execution_count": 17,
     "metadata": {},
     "output_type": "execute_result"
    }
   ],
   "source": [
    "import string\n",
    "string.ascii_letters    # this value is not locale-dependent?\n",
    "string.ascii_lowercase\n",
    "string.ascii_uppercase\n",
    "string.digits\n",
    "string.hexdigits\n",
    "string.octdigits\n",
    "string.punctuation\n",
    "string.printable\n",
    "string.whitespace"
   ]
  },
  {
   "cell_type": "markdown",
   "id": "5cf6b31f-2f2f-4322-ae0e-35dadcb604ea",
   "metadata": {},
   "source": [
    "### Custom String Formatting"
   ]
  },
  {
   "cell_type": "code",
   "execution_count": 18,
   "id": "a6013acf-6320-47d4-af81-b9101dd20b4d",
   "metadata": {},
   "outputs": [
    {
     "data": {
      "text/plain": [
       "'2023 is year, 8 is month, 5 is day. And this is the literal {}'"
      ]
     },
     "execution_count": 18,
     "metadata": {},
     "output_type": "execute_result"
    },
    {
     "data": {
      "text/plain": [
       "'2023 is year, 8 is month, 12 is day. And this is the literal {}'"
      ]
     },
     "execution_count": 18,
     "metadata": {},
     "output_type": "execute_result"
    },
    {
     "data": {
      "text/plain": [
       "'2023 is year, 8 is month, 5 is day.'"
      ]
     },
     "execution_count": 18,
     "metadata": {},
     "output_type": "execute_result"
    },
    {
     "data": {
      "text/plain": [
       "'2023 is year, 8 is month, 5 is day.'"
      ]
     },
     "execution_count": 18,
     "metadata": {},
     "output_type": "execute_result"
    }
   ],
   "source": [
    "# format, string.format method\n",
    "\"{0} is year, {1} is month, {2} is day. And this is the literal {{}}\".format(2023, 8, 5)\n",
    "\n",
    "# If the arg_name is a number, it refers to a positional argument, else it is a keyword argument\n",
    "\"{0!r} is year, {1} is month, {_} is day. And this is the literal {{}}\".format(2023, 8, _=12)\n",
    "\n",
    "year = 2023\n",
    "month = 8\n",
    "day = 5\n",
    "\n",
    "# f-string\n",
    "f'{year} is year, {month} is month, {day} is day.'\n",
    "\n",
    "# % string\n",
    "'%d is year, %d is month, %d is day.' % (year, month, day)"
   ]
  },
  {
   "cell_type": "code",
   "execution_count": 19,
   "id": "7b6d160c-57b4-4702-bc81-38cd30c7afd4",
   "metadata": {},
   "outputs": [
    {
     "data": {
      "text/plain": [
       "'123'"
      ]
     },
     "execution_count": 19,
     "metadata": {},
     "output_type": "execute_result"
    }
   ],
   "source": [
    "format('123')"
   ]
  },
  {
   "cell_type": "markdown",
   "id": "4e39477f-3e0a-4602-b38a-426287666fc3",
   "metadata": {},
   "source": [
    "### Metasyntax"
   ]
  },
  {
   "cell_type": "markdown",
   "id": "f8cc9467-fd8f-45d4-a33f-ace05626a9c8",
   "metadata": {},
   "source": [
    "*Element* of metasyntax\n",
    "- *Terminals*: a stand-alone syntactic structure. Terminals could be denoted by double quoting the name of the terminals.\n",
    "  e.g. `\"else\"`, `\"if\"`, `\"then\"`, `\"while\"`\n",
    "- *Nonterminals*: a symbolic representation defining a set of allowable syntactic structures that is composed of a subset of elements. Nonterminals could be denoted by angle bracketing the name of the nonterminals.\n",
    "  e.g. `<int>`, `<char>`, `<boolean>`\n",
    "- *Metasymbol*: a symbolic representation denoting syntactic information.\n",
    "  e.g. `:=`, `|`, `{}`, `()`, `[]`, `*`\n",
    "\n",
    "\n",
    "*Methods* of phrase termination\n",
    "- Juxtaposition: e.g. `A B`\n",
    "- Alternation: e.g. `A|B`\n",
    "- Repetition: e.g. `{A B}`\n",
    "- Optional phrase: e.g. `[A B]`\n",
    "- Grouping: e.g. `(A|B)`"
   ]
  },
  {
   "cell_type": "markdown",
   "id": "c8c51300-4052-4c2f-adb9-04475372c5f3",
   "metadata": {},
   "source": [
    "### Format String Syntax"
   ]
  },
  {
   "cell_type": "markdown",
   "id": "e8f0cb94-2e6b-4e91-8f5d-4a71fe6fa5d2",
   "metadata": {},
   "source": [
    "Format strings contain \"replacement fields\" surrounded by curly braces `{}`. The grammar for a replacement filed is as follow:\n",
    "\n",
    "```code\n",
    "replacement_field ::=  \"{\" [field_name] [\"!\" conversion] [\":\" format_spec] \"}\"\n",
    "field_name        ::=  arg_name (\".\" attribute_name | \"[\" element_index \"]\")*\n",
    "arg_name          ::=  [identifier | digit+]\n",
    "attribute_name    ::=  identifier\n",
    "element_index     ::=  digit+ | index_string\n",
    "index_string      ::=  <any source character except \"]\"> +\n",
    "conversion        ::=  \"r\" | \"s\" | \"a\"\n",
    "format_spec       ::=  <described in the next section>\n",
    "```"
   ]
  },
  {
   "cell_type": "code",
   "execution_count": 20,
   "id": "93df6d70-df4a-4672-b306-44f0c65ee733",
   "metadata": {},
   "outputs": [
    {
     "data": {
      "text/plain": [
       "'First, thou shalt count to 12'"
      ]
     },
     "execution_count": 20,
     "metadata": {},
     "output_type": "execute_result"
    },
    {
     "data": {
      "text/plain": [
       "'My quest is Bryant'"
      ]
     },
     "execution_count": 20,
     "metadata": {},
     "output_type": "execute_result"
    },
    {
     "data": {
      "text/plain": [
       "'Weight in tons <built-in method count of list object at 0x107884a80>'"
      ]
     },
     "execution_count": 20,
     "metadata": {},
     "output_type": "execute_result"
    },
    {
     "data": {
      "text/plain": [
       "'Units destroyed: Kobe'"
      ]
     },
     "execution_count": 20,
     "metadata": {},
     "output_type": "execute_result"
    }
   ],
   "source": [
    "name = \"Bryant\"\n",
    "players = [\"Kobe\", \"Jamas\"]\n",
    "\n",
    "\"First, thou shalt count to {0}\".format(12, 14)    # the last one is unused\n",
    "\"My quest is {name}\".format(name=\"Bryant\")\n",
    "\"Weight in tons {0.count}\".format([\"Kobe\", \"Jamas\"])\n",
    "\"Units destroyed: {players[0]}\".format(players = [\"Kobe\", \"Jamas\"])"
   ]
  },
  {
   "cell_type": "code",
   "execution_count": 21,
   "id": "913b127e-e1ca-49f9-ae96-8050d6da281e",
   "metadata": {},
   "outputs": [
    {
     "data": {
      "text/plain": [
       "\"Harold's a clever boy\""
      ]
     },
     "execution_count": 21,
     "metadata": {},
     "output_type": "execute_result"
    },
    {
     "data": {
      "text/plain": [
       "\"Bring out the holy 'cow'\""
      ]
     },
     "execution_count": 21,
     "metadata": {},
     "output_type": "execute_result"
    },
    {
     "data": {
      "text/plain": [
       "\"More 'A'\""
      ]
     },
     "execution_count": 21,
     "metadata": {},
     "output_type": "execute_result"
    }
   ],
   "source": [
    "# Three conversion flags are currently supported\n",
    "\"Harold's a clever {0!s}\".format('boy')        # Calls str() on the argument first\n",
    "\"Bring out the holy {name!r}\".format(name='cow')    # Calls repr() on the argument first\n",
    "\"More {!a}\".format('A')                      # Calls ascii() on the argument first"
   ]
  },
  {
   "cell_type": "code",
   "execution_count": 22,
   "id": "344d791c-221e-4ab6-b9f2-971463987fb2",
   "metadata": {},
   "outputs": [
    {
     "data": {
      "text/plain": [
       "'Coordinates: 37.24N. -115.81W'"
      ]
     },
     "execution_count": 22,
     "metadata": {},
     "output_type": "execute_result"
    }
   ],
   "source": [
    "# Accessing arguments by name\n",
    "coord = {'latitude': '37.24N', 'longitude': '-115.81W'}\n",
    "'Coordinates: {latitude}. {longitude}'.format(**coord)"
   ]
  },
  {
   "cell_type": "code",
   "execution_count": 23,
   "id": "43b20500-a9e4-4101-89d4-7ecb715ece9a",
   "metadata": {},
   "outputs": [
    {
     "data": {
      "text/plain": [
       "'The complex number (3-5j) is formed from the real part 3.0 and the imaginary part -5.0.'"
      ]
     },
     "execution_count": 23,
     "metadata": {},
     "output_type": "execute_result"
    }
   ],
   "source": [
    "# Accessing arguments' attributes\n",
    "c = 3-5j\n",
    "('The complex number {0} is formed from the real part {0.real} '\n",
    " 'and the imaginary part {0.imag}.').format(c)"
   ]
  },
  {
   "cell_type": "code",
   "execution_count": 24,
   "id": "2575b133-c539-4934-a50d-56756dbeadd5",
   "metadata": {},
   "outputs": [
    {
     "data": {
      "text/plain": [
       "'X: 3;  Y: 5'"
      ]
     },
     "execution_count": 24,
     "metadata": {},
     "output_type": "execute_result"
    }
   ],
   "source": [
    "# Accessing arguments' items\n",
    "coord = (3, 5)\n",
    "'X: {0[0]};  Y: {0[1]}'.format(coord)"
   ]
  },
  {
   "cell_type": "code",
   "execution_count": 25,
   "id": "777a629e-339d-4e6a-928f-09c5700a19d3",
   "metadata": {},
   "outputs": [
    {
     "data": {
      "text/plain": [
       "\"repr() shows quotes: 'test1'; str() doesn't: test2\""
      ]
     },
     "execution_count": 25,
     "metadata": {},
     "output_type": "execute_result"
    }
   ],
   "source": [
    "# Replacing %s and %r\n",
    "\"repr() shows quotes: {!r}; str() doesn't: {!s}\".format('test1', 'test2')"
   ]
  },
  {
   "cell_type": "code",
   "execution_count": 26,
   "id": "604118b4-396b-435f-ae2c-3381e0ccef00",
   "metadata": {},
   "outputs": [
    {
     "data": {
      "text/plain": [
       "'left aligned                  '"
      ]
     },
     "execution_count": 26,
     "metadata": {},
     "output_type": "execute_result"
    },
    {
     "data": {
      "text/plain": [
       "'                 right aligned'"
      ]
     },
     "execution_count": 26,
     "metadata": {},
     "output_type": "execute_result"
    },
    {
     "data": {
      "text/plain": [
       "'           centered           '"
      ]
     },
     "execution_count": 26,
     "metadata": {},
     "output_type": "execute_result"
    },
    {
     "data": {
      "text/plain": [
       "'***********centered***********'"
      ]
     },
     "execution_count": 26,
     "metadata": {},
     "output_type": "execute_result"
    }
   ],
   "source": [
    "# Aligning the text and specifying a width\n",
    "'{:<30}'.format('left aligned')\n",
    "'{:>30}'.format('right aligned')\n",
    "'{:^30}'.format('centered')\n",
    "'{:*^30}'.format('centered')    # use '*' as a fill char"
   ]
  },
  {
   "cell_type": "code",
   "execution_count": 27,
   "id": "7870a9fa-3653-4bf7-a82f-35d4e2343c03",
   "metadata": {},
   "outputs": [
    {
     "data": {
      "text/plain": [
       "'int: 42; hex: 2a; oct: 52; bin: 101010'"
      ]
     },
     "execution_count": 27,
     "metadata": {},
     "output_type": "execute_result"
    }
   ],
   "source": [
    "# Replacing %x and %o and converting the value to different bases\n",
    "\"int: {0:d}; hex: {0:x}; oct: {0:o}; bin: {0:b}\".format(42)"
   ]
  },
  {
   "cell_type": "code",
   "execution_count": 28,
   "id": "ca954dea-6506-44c3-b1bf-f06c27eca293",
   "metadata": {},
   "outputs": [
    {
     "data": {
      "text/plain": [
       "'1,234,567,890'"
      ]
     },
     "execution_count": 28,
     "metadata": {},
     "output_type": "execute_result"
    },
    {
     "data": {
      "text/plain": [
       "'Correct answers: 86.36%'"
      ]
     },
     "execution_count": 28,
     "metadata": {},
     "output_type": "execute_result"
    },
    {
     "data": {
      "text/plain": [
       "'2010-07-04 12:15:58'"
      ]
     },
     "execution_count": 28,
     "metadata": {},
     "output_type": "execute_result"
    }
   ],
   "source": [
    "# Math specifying\n",
    "'{:,}'.format(1234567890)    # using a comma as a thousand separator\n",
    "'Correct answers: {:.2%}'.format(19/22)    # exressing a percentage\n",
    "\n",
    "# Using type-specific formatting\n",
    "import datetime\n",
    "d = datetime.datetime(2010, 7, 4, 12, 15, 58)\n",
    "'{:%Y-%m-%d %H:%M:%S}'.format(d)"
   ]
  },
  {
   "cell_type": "code",
   "execution_count": 29,
   "id": "f8d4aa02-25e2-43dd-b41d-8bc1cd88b696",
   "metadata": {},
   "outputs": [
    {
     "data": {
      "text/plain": [
       "'left<<<<<<<<<<<<'"
      ]
     },
     "execution_count": 29,
     "metadata": {},
     "output_type": "execute_result"
    },
    {
     "data": {
      "text/plain": [
       "'^^^^^center^^^^^'"
      ]
     },
     "execution_count": 29,
     "metadata": {},
     "output_type": "execute_result"
    },
    {
     "data": {
      "text/plain": [
       "'>>>>>>>>>>>right'"
      ]
     },
     "execution_count": 29,
     "metadata": {},
     "output_type": "execute_result"
    },
    {
     "data": {
      "text/plain": [
       "'C0A80001'"
      ]
     },
     "execution_count": 29,
     "metadata": {},
     "output_type": "execute_result"
    },
    {
     "data": {
      "text/plain": [
       "3232235521"
      ]
     },
     "execution_count": 29,
     "metadata": {},
     "output_type": "execute_result"
    },
    {
     "name": "stdout",
     "output_type": "stream",
     "text": [
      "    5     5     5   101 \n",
      "    6     6     6   110 \n",
      "    7     7     7   111 \n",
      "    8     8    10  1000 \n",
      "    9     9    11  1001 \n",
      "   10     A    12  1010 \n",
      "   11     B    13  1011 \n"
     ]
    }
   ],
   "source": [
    "# Nesting arguments\n",
    "for align, text in zip('<^>', ['left', 'center', 'right']):\n",
    "    '{0:{fill}{align}16}'.format(text, fill=align, align=align)\n",
    "\n",
    "octets = [192, 168, 0, 1]\n",
    "'{:02X}{:02X}{:02X}{:02X}'.format(*octets)\n",
    "\n",
    "int(_, 16)\n",
    "\n",
    "width = 5\n",
    "for num in range(5, 12):\n",
    "    for base in 'dXob':    # d represents 'decimal', X represnets 'Hexdecimal', o represent 'octal', b represents 'binary'\n",
    "        print('{0:{width}{base}}'.format(num, base=base, width=width), end=' ')\n",
    "    print()\n"
   ]
  },
  {
   "cell_type": "markdown",
   "id": "1c4b2991-2957-4d10-8f1f-53f6722be38a",
   "metadata": {},
   "source": [
    "### Template strings"
   ]
  },
  {
   "cell_type": "code",
   "execution_count": 30,
   "id": "f35219da-b1c4-455b-a565-47d00c191a73",
   "metadata": {},
   "outputs": [
    {
     "data": {
      "text/plain": [
       "'tim likes kung pao'"
      ]
     },
     "execution_count": 30,
     "metadata": {},
     "output_type": "execute_result"
    },
    {
     "data": {
      "text/plain": [
       "'tim likes $what'"
      ]
     },
     "execution_count": 30,
     "metadata": {},
     "output_type": "execute_result"
    }
   ],
   "source": [
    "from string import Template\n",
    "s = Template('$who likes $what')\n",
    "s.substitute(who='tim', what='kung pao')\n",
    "\n",
    "d = dict(who='tim')\n",
    "Template('$who likes $what').safe_substitute(d)"
   ]
  },
  {
   "cell_type": "markdown",
   "id": "88395bc0-a9bf-487d-9149-04e294baba00",
   "metadata": {},
   "source": [
    "## re - Regular expression operations"
   ]
  },
  {
   "cell_type": "markdown",
   "id": "80dc6829-293f-413f-9558-2f72df91401e",
   "metadata": {},
   "source": [
    "Usually patterns will be expressed in Python code using *raw string notation*."
   ]
  },
  {
   "cell_type": "markdown",
   "id": "51b619f7-5e5a-469c-8124-24c147b44584",
   "metadata": {},
   "source": [
    "### Regular Expression Syntax"
   ]
  },
  {
   "cell_type": "markdown",
   "id": "5959be5b-2aff-45fb-8d0a-c28cb77c0b99",
   "metadata": {},
   "source": [
    "The special characters:\n",
    "\n",
    "**Character classes and class-like constructs**:\n",
    "- `.` In the default mode, this matches any character except a newline. If the DOTALL flag has been specified, this matches any character including a newline.\n",
    "- `\\` Either escapes special characters or signals a special sequences.\n",
    "- `[]` Used to indicate a set of characters.\n"
   ]
  },
  {
   "cell_type": "markdown",
   "id": "3bb9f228-919c-4d2b-b1b0-1448aaee4087",
   "metadata": {},
   "source": [
    "**Anchors（锚点）**:\n",
    "- `^` Matches the start of the string, and in MULTILINE mode also matches immediately after each newline.\n",
    "- `$` Matches the end of the string or just before the newline at the end of the string, and in MULTILINE mode also matches before a newline.\n",
    "- `(?=...)` Matches if `...` matches next, but doesn't consume any of the string. This is called *lookahead assertion*. For example, `Isaac (?=Asimov)` will match `'Isaac '` only if it’s followed by `'Asimov'`.\n",
    "- `(?!...)` Matches if `...` doesn’t match next. This is a *negative lookahead assertion*. For example, `Isaac (?!Asimov)` will match `'Isaac '` only if it’s not followed by `'Asimov'`.\n",
    "- `(?<=...)` "
   ]
  },
  {
   "cell_type": "markdown",
   "id": "abc258b4-6fea-4bf9-a2b3-26ad054a4e54",
   "metadata": {},
   "source": [
    "**Grouping, Capturing, Conditional, and Control**:\n",
    "- `*` Causes the resulting RE to match 0 or more repetitions of the preceding RE, as many repetitions as possible. `ab*` will match 'a', 'ab', or 'a' followed by any number of 'b's.\n",
    "- `+` Causes the resulting RE to match 1 or more repetitions of the preceding RE. `ab+` will match 'a' followed by any non-zero number of 'b's; it will not match just 'a'.\n",
    "- `?` Causes the resulting RE to match 0 or 1 repetitions of the preceding RE. `ab?` will match either 'a' or 'ab'.\n",
    "- `*?`, `+?`, `??` No-greedy matches quantifiers.\n",
    "- `*+`, `++`, `?+` Possessive quantifiers, these do not allow back-tracking when the expression following it fails to match.\n",
    "- `{m}` Specifies that exactly *m* copies of the previous RE should be matched.\n",
    "- `{m, n}` Causes the resulting RE to match from *m* to *n* repetitions of the preceding RE, attempting to match as many as possible.\n",
    "- `|` `A|B`, where *A* and *B* can be arbitrary REs, creates a regular expression that will match either *A* or *B*.\n",
    "- `(...)` Matches whatever regular expression is inside the parentheses, and indicates the start and end of a group; the contents of a group can be retrieved after a match has been performed, and can be matched later in the string with the `\\number` special sequence, described below."
   ]
  },
  {
   "cell_type": "markdown",
   "id": "ad4f0ccb-6b3d-4167-9d67-dbeb33e7d685",
   "metadata": {},
   "source": [
    "- `(?:...)` *Grouping-only parentheses*. A non-capturing version of regular parentheses."
   ]
  },
  {
   "cell_type": "markdown",
   "id": "8abd37af-6d30-44f2-9cc4-3fff9bcfbd6a",
   "metadata": {},
   "source": [
    "- `(?>...)` *Atomic grouping*(固化分组): Attempts to match `...` as if it was a separate regular expression, and if successful, continues to match the rest of the pattern following it"
   ]
  },
  {
   "cell_type": "markdown",
   "id": "1fa64d8c-4739-47a5-906b-ef6a8aac659a",
   "metadata": {},
   "source": [
    "- `(?P<name>...)` Similar to regular parentheses, but the substring matched by the group is accessible via the symbolic group name *name*.\n",
    "- `(?P=name)` A backreference to a named group; it matches whatever text was matched by the earlier group named *name*."
   ]
  },
  {
   "cell_type": "markdown",
   "id": "893fe457-8f16-498e-ab40-10759d6c50d7",
   "metadata": {},
   "source": [
    "**Mode modifier**: *(?modifier)*, such as *(?a)* or *(?-i)*"
   ]
  },
  {
   "cell_type": "markdown",
   "id": "b73c7ee3-e2e9-453f-be79-27a280149536",
   "metadata": {},
   "source": [
    "- `(?...)` This is an extension notation. The first character after the `?` determines what the meaning and further syntax of the construct is."
   ]
  },
  {
   "cell_type": "markdown",
   "id": "754c96d6-fb0a-4f5e-85a4-abee3dc4ba91",
   "metadata": {},
   "source": [
    "- `(?aiLmsux)` One or more letters from the set 'a', 'i', 'L', 'm', 's', 'u', 'x'. The group matches the empty string; the letters set the corresponding flags: re.A (*ASCII-only matching*), re.I (*ignore case*), re.L (*locale dependent*), re.M (*multi-line*), re.S (*dot matches all*), re.U (*Unicode matching*), and re.X (*verbose*), for the entire regular expression.\n",
    "\n",
    "Changed in version 3.11: This construction can only be used at the start of the expression.\n",
    "在 3.11 版更改：**此构造只能在表达式的开头使用**。"
   ]
  },
  {
   "cell_type": "markdown",
   "id": "9630ca78-2dc7-4ff3-acec-83ea2af679e0",
   "metadata": {},
   "source": [
    "- `(?aiLmsux-imsx:...)` *Mode-modified span(模式作用范围)*, (?*modifier*:...), such as (?:...). "
   ]
  },
  {
   "cell_type": "markdown",
   "id": "bf0a145b-f23d-48db-a67e-bab80eef29de",
   "metadata": {},
   "source": [
    "- `(?#...)` A comment; the contents of the parentheses are simply ignored.\n"
   ]
  }
 ],
 "metadata": {
  "kernelspec": {
   "display_name": "Python 3 (ipykernel)",
   "language": "python",
   "name": "python3"
  },
  "language_info": {
   "codemirror_mode": {
    "name": "ipython",
    "version": 3
   },
   "file_extension": ".py",
   "mimetype": "text/x-python",
   "name": "python",
   "nbconvert_exporter": "python",
   "pygments_lexer": "ipython3",
   "version": "3.11.3"
  }
 },
 "nbformat": 4,
 "nbformat_minor": 5
}
