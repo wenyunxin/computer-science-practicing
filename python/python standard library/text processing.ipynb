{
 "cells": [
  {
   "cell_type": "code",
   "execution_count": 1,
   "id": "62209054-5ba7-4c58-9fc8-80dc75216c0e",
   "metadata": {},
   "outputs": [],
   "source": [
    "from IPython.core.interactiveshell import InteractiveShell\n",
    "InteractiveShell.ast_node_interactivity = \"all\""
   ]
  },
  {
   "cell_type": "markdown",
   "id": "597a95b4-1cc6-4a10-a81d-cd6d46b36e96",
   "metadata": {},
   "source": [
    "## String -- Common string operations"
   ]
  },
  {
   "cell_type": "markdown",
   "id": "beb312df-7f01-42e3-ae14-7abc3178911b",
   "metadata": {},
   "source": [
    "### String constants"
   ]
  },
  {
   "cell_type": "code",
   "execution_count": 2,
   "id": "07cb0765-bffc-47c3-939c-de29ff62001f",
   "metadata": {},
   "outputs": [
    {
     "data": {
      "text/plain": [
       "'abcdefghijklmnopqrstuvwxyzABCDEFGHIJKLMNOPQRSTUVWXYZ'"
      ]
     },
     "execution_count": 2,
     "metadata": {},
     "output_type": "execute_result"
    },
    {
     "data": {
      "text/plain": [
       "'abcdefghijklmnopqrstuvwxyz'"
      ]
     },
     "execution_count": 2,
     "metadata": {},
     "output_type": "execute_result"
    },
    {
     "data": {
      "text/plain": [
       "'ABCDEFGHIJKLMNOPQRSTUVWXYZ'"
      ]
     },
     "execution_count": 2,
     "metadata": {},
     "output_type": "execute_result"
    },
    {
     "data": {
      "text/plain": [
       "'0123456789'"
      ]
     },
     "execution_count": 2,
     "metadata": {},
     "output_type": "execute_result"
    },
    {
     "data": {
      "text/plain": [
       "'0123456789abcdefABCDEF'"
      ]
     },
     "execution_count": 2,
     "metadata": {},
     "output_type": "execute_result"
    },
    {
     "data": {
      "text/plain": [
       "'01234567'"
      ]
     },
     "execution_count": 2,
     "metadata": {},
     "output_type": "execute_result"
    },
    {
     "data": {
      "text/plain": [
       "'!\"#$%&\\'()*+,-./:;<=>?@[\\\\]^_`{|}~'"
      ]
     },
     "execution_count": 2,
     "metadata": {},
     "output_type": "execute_result"
    },
    {
     "data": {
      "text/plain": [
       "'0123456789abcdefghijklmnopqrstuvwxyzABCDEFGHIJKLMNOPQRSTUVWXYZ!\"#$%&\\'()*+,-./:;<=>?@[\\\\]^_`{|}~ \\t\\n\\r\\x0b\\x0c'"
      ]
     },
     "execution_count": 2,
     "metadata": {},
     "output_type": "execute_result"
    },
    {
     "data": {
      "text/plain": [
       "' \\t\\n\\r\\x0b\\x0c'"
      ]
     },
     "execution_count": 2,
     "metadata": {},
     "output_type": "execute_result"
    }
   ],
   "source": [
    "import string\n",
    "string.ascii_letters    # this value is not locale-dependent?\n",
    "string.ascii_lowercase\n",
    "string.ascii_uppercase\n",
    "string.digits\n",
    "string.hexdigits\n",
    "string.octdigits\n",
    "string.punctuation\n",
    "string.printable\n",
    "string.whitespace"
   ]
  },
  {
   "cell_type": "markdown",
   "id": "5cf6b31f-2f2f-4322-ae0e-35dadcb604ea",
   "metadata": {},
   "source": [
    "### Custom String Formatting"
   ]
  },
  {
   "cell_type": "code",
   "execution_count": 3,
   "id": "a6013acf-6320-47d4-af81-b9101dd20b4d",
   "metadata": {},
   "outputs": [
    {
     "data": {
      "text/plain": [
       "'2023 is year, 8 is month, 5 is day. And this is the literal {}'"
      ]
     },
     "execution_count": 3,
     "metadata": {},
     "output_type": "execute_result"
    },
    {
     "data": {
      "text/plain": [
       "'2023 is year, 8 is month, 12 is day. And this is the literal {}'"
      ]
     },
     "execution_count": 3,
     "metadata": {},
     "output_type": "execute_result"
    },
    {
     "data": {
      "text/plain": [
       "'2023 is year, 8 is month, 5 is day.'"
      ]
     },
     "execution_count": 3,
     "metadata": {},
     "output_type": "execute_result"
    },
    {
     "data": {
      "text/plain": [
       "'2023 is year, 8 is month, 5 is day.'"
      ]
     },
     "execution_count": 3,
     "metadata": {},
     "output_type": "execute_result"
    }
   ],
   "source": [
    "# format, string.format method\n",
    "\"{0} is year, {1} is month, {2} is day. And this is the literal {{}}\".format(2023, 8, 5)\n",
    "\n",
    "# If the arg_name is a number, it refers to a positional argument, else it is a keyword argument\n",
    "\"{0!r} is year, {1} is month, {_} is day. And this is the literal {{}}\".format(2023, 8, _=12)\n",
    "\n",
    "year = 2023\n",
    "month = 8\n",
    "day = 5\n",
    "\n",
    "# f-string\n",
    "f'{year} is year, {month} is month, {day} is day.'\n",
    "\n",
    "# % string\n",
    "'%d is year, %d is month, %d is day.' % (year, month, day)"
   ]
  },
  {
   "cell_type": "code",
   "execution_count": 4,
   "id": "7b6d160c-57b4-4702-bc81-38cd30c7afd4",
   "metadata": {},
   "outputs": [
    {
     "data": {
      "text/plain": [
       "'123'"
      ]
     },
     "execution_count": 4,
     "metadata": {},
     "output_type": "execute_result"
    }
   ],
   "source": [
    "format('123')"
   ]
  },
  {
   "cell_type": "markdown",
   "id": "4e39477f-3e0a-4602-b38a-426287666fc3",
   "metadata": {},
   "source": [
    "### Metasyntax"
   ]
  },
  {
   "cell_type": "markdown",
   "id": "f8cc9467-fd8f-45d4-a33f-ace05626a9c8",
   "metadata": {},
   "source": [
    "*Element* of metasyntax\n",
    "- *Terminals*: a stand-alone syntactic structure. Terminals could be denoted by double quoting the name of the terminals.\n",
    "  e.g. `\"else\"`, `\"if\"`, `\"then\"`, `\"while\"`\n",
    "- *Nonterminals*: a symbolic representation defining a set of allowable syntactic structures that is composed of a subset of elements. Nonterminals could be denoted by angle bracketing the name of the nonterminals.\n",
    "  e.g. `<int>`, `<char>`, `<boolean>`\n",
    "- *Metasymbol*: a symbolic representation denoting syntactic information.\n",
    "  e.g. `:=`, `|`, `{}`, `()`, `[]`, `*`\n",
    "\n",
    "\n",
    "*Methods* of phrase termination\n",
    "- Juxtaposition: e.g. `A B`\n",
    "- Alternation: e.g. `A|B`\n",
    "- Repetition: e.g. `{A B}`\n",
    "- Optional phrase: e.g. `[A B]`\n",
    "- Grouping: e.g. `(A|B)`"
   ]
  },
  {
   "cell_type": "markdown",
   "id": "c8c51300-4052-4c2f-adb9-04475372c5f3",
   "metadata": {},
   "source": [
    "### Format String Syntax"
   ]
  },
  {
   "cell_type": "markdown",
   "id": "e8f0cb94-2e6b-4e91-8f5d-4a71fe6fa5d2",
   "metadata": {},
   "source": [
    "Format strings contain \"replacement fields\" surrounded by curly braces `{}`. The grammar for a replacement filed is as follow:\n",
    "\n",
    "```code\n",
    "replacement_field ::=  \"{\" [field_name] [\"!\" conversion] [\":\" format_spec] \"}\"\n",
    "field_name        ::=  arg_name (\".\" attribute_name | \"[\" element_index \"]\")*\n",
    "arg_name          ::=  [identifier | digit+]\n",
    "attribute_name    ::=  identifier\n",
    "element_index     ::=  digit+ | index_string\n",
    "index_string      ::=  <any source character except \"]\"> +\n",
    "conversion        ::=  \"r\" | \"s\" | \"a\"\n",
    "format_spec       ::=  <described in the next section>\n",
    "```"
   ]
  },
  {
   "cell_type": "code",
   "execution_count": 5,
   "id": "93df6d70-df4a-4672-b306-44f0c65ee733",
   "metadata": {},
   "outputs": [
    {
     "data": {
      "text/plain": [
       "'First, thou shalt count to 12'"
      ]
     },
     "execution_count": 5,
     "metadata": {},
     "output_type": "execute_result"
    },
    {
     "data": {
      "text/plain": [
       "'My quest is Bryant'"
      ]
     },
     "execution_count": 5,
     "metadata": {},
     "output_type": "execute_result"
    },
    {
     "data": {
      "text/plain": [
       "'Weight in tons <built-in method count of list object at 0x1118e3d00>'"
      ]
     },
     "execution_count": 5,
     "metadata": {},
     "output_type": "execute_result"
    },
    {
     "data": {
      "text/plain": [
       "'Units destroyed: Kobe'"
      ]
     },
     "execution_count": 5,
     "metadata": {},
     "output_type": "execute_result"
    }
   ],
   "source": [
    "name = \"Bryant\"\n",
    "players = [\"Kobe\", \"Jamas\"]\n",
    "\n",
    "\"First, thou shalt count to {0}\".format(12, 14)    # the last one is unused\n",
    "\"My quest is {name}\".format(name=\"Bryant\")\n",
    "\"Weight in tons {0.count}\".format([\"Kobe\", \"Jamas\"])\n",
    "\"Units destroyed: {players[0]}\".format(players = [\"Kobe\", \"Jamas\"])"
   ]
  },
  {
   "cell_type": "code",
   "execution_count": 6,
   "id": "913b127e-e1ca-49f9-ae96-8050d6da281e",
   "metadata": {},
   "outputs": [
    {
     "data": {
      "text/plain": [
       "\"Harold's a clever boy\""
      ]
     },
     "execution_count": 6,
     "metadata": {},
     "output_type": "execute_result"
    },
    {
     "data": {
      "text/plain": [
       "\"Bring out the holy 'cow'\""
      ]
     },
     "execution_count": 6,
     "metadata": {},
     "output_type": "execute_result"
    },
    {
     "data": {
      "text/plain": [
       "\"More 'A'\""
      ]
     },
     "execution_count": 6,
     "metadata": {},
     "output_type": "execute_result"
    }
   ],
   "source": [
    "# Three conversion flags are currently supported\n",
    "\"Harold's a clever {0!s}\".format('boy')        # Calls str() on the argument first\n",
    "\"Bring out the holy {name!r}\".format(name='cow')    # Calls repr() on the argument first\n",
    "\"More {!a}\".format('A')                      # Calls ascii() on the argument first"
   ]
  },
  {
   "cell_type": "code",
   "execution_count": 7,
   "id": "344d791c-221e-4ab6-b9f2-971463987fb2",
   "metadata": {},
   "outputs": [
    {
     "data": {
      "text/plain": [
       "'Coordinates: 37.24N. -115.81W'"
      ]
     },
     "execution_count": 7,
     "metadata": {},
     "output_type": "execute_result"
    }
   ],
   "source": [
    "# Accessing arguments by name\n",
    "coord = {'latitude': '37.24N', 'longitude': '-115.81W'}\n",
    "'Coordinates: {latitude}. {longitude}'.format(**coord)"
   ]
  },
  {
   "cell_type": "code",
   "execution_count": 8,
   "id": "43b20500-a9e4-4101-89d4-7ecb715ece9a",
   "metadata": {},
   "outputs": [
    {
     "data": {
      "text/plain": [
       "'The complex number (3-5j) is formed from the real part 3.0 and the imaginary part -5.0.'"
      ]
     },
     "execution_count": 8,
     "metadata": {},
     "output_type": "execute_result"
    }
   ],
   "source": [
    "# Accessing arguments' attributes\n",
    "c = 3-5j\n",
    "('The complex number {0} is formed from the real part {0.real} '\n",
    " 'and the imaginary part {0.imag}.').format(c)"
   ]
  },
  {
   "cell_type": "code",
   "execution_count": 9,
   "id": "2575b133-c539-4934-a50d-56756dbeadd5",
   "metadata": {},
   "outputs": [
    {
     "data": {
      "text/plain": [
       "'X: 3;  Y: 5'"
      ]
     },
     "execution_count": 9,
     "metadata": {},
     "output_type": "execute_result"
    }
   ],
   "source": [
    "# Accessing arguments' items\n",
    "coord = (3, 5)\n",
    "'X: {0[0]};  Y: {0[1]}'.format(coord)"
   ]
  },
  {
   "cell_type": "code",
   "execution_count": 10,
   "id": "777a629e-339d-4e6a-928f-09c5700a19d3",
   "metadata": {},
   "outputs": [
    {
     "data": {
      "text/plain": [
       "\"repr() shows quotes: 'test1'; str() doesn't: test2\""
      ]
     },
     "execution_count": 10,
     "metadata": {},
     "output_type": "execute_result"
    }
   ],
   "source": [
    "# Replacing %s and %r\n",
    "\"repr() shows quotes: {!r}; str() doesn't: {!s}\".format('test1', 'test2')"
   ]
  },
  {
   "cell_type": "code",
   "execution_count": 11,
   "id": "604118b4-396b-435f-ae2c-3381e0ccef00",
   "metadata": {},
   "outputs": [
    {
     "data": {
      "text/plain": [
       "'left aligned                  '"
      ]
     },
     "execution_count": 11,
     "metadata": {},
     "output_type": "execute_result"
    },
    {
     "data": {
      "text/plain": [
       "'                 right aligned'"
      ]
     },
     "execution_count": 11,
     "metadata": {},
     "output_type": "execute_result"
    },
    {
     "data": {
      "text/plain": [
       "'           centered           '"
      ]
     },
     "execution_count": 11,
     "metadata": {},
     "output_type": "execute_result"
    },
    {
     "data": {
      "text/plain": [
       "'***********centered***********'"
      ]
     },
     "execution_count": 11,
     "metadata": {},
     "output_type": "execute_result"
    }
   ],
   "source": [
    "# Aligning the text and specifying a width\n",
    "'{:<30}'.format('left aligned')\n",
    "'{:>30}'.format('right aligned')\n",
    "'{:^30}'.format('centered')\n",
    "'{:*^30}'.format('centered')    # use '*' as a fill char"
   ]
  },
  {
   "cell_type": "code",
   "execution_count": 12,
   "id": "7870a9fa-3653-4bf7-a82f-35d4e2343c03",
   "metadata": {},
   "outputs": [
    {
     "data": {
      "text/plain": [
       "'int: 42; hex: 2a; oct: 52; bin: 101010'"
      ]
     },
     "execution_count": 12,
     "metadata": {},
     "output_type": "execute_result"
    }
   ],
   "source": [
    "# Replacing %x and %o and converting the value to different bases\n",
    "\"int: {0:d}; hex: {0:x}; oct: {0:o}; bin: {0:b}\".format(42)"
   ]
  },
  {
   "cell_type": "code",
   "execution_count": 13,
   "id": "ca954dea-6506-44c3-b1bf-f06c27eca293",
   "metadata": {},
   "outputs": [
    {
     "data": {
      "text/plain": [
       "'1,234,567,890'"
      ]
     },
     "execution_count": 13,
     "metadata": {},
     "output_type": "execute_result"
    },
    {
     "data": {
      "text/plain": [
       "'Correct answers: 86.36%'"
      ]
     },
     "execution_count": 13,
     "metadata": {},
     "output_type": "execute_result"
    },
    {
     "data": {
      "text/plain": [
       "'2010-07-04 12:15:58'"
      ]
     },
     "execution_count": 13,
     "metadata": {},
     "output_type": "execute_result"
    }
   ],
   "source": [
    "# Math specifying\n",
    "'{:,}'.format(1234567890)    # using a comma as a thousand separator\n",
    "'Correct answers: {:.2%}'.format(19/22)    # exressing a percentage\n",
    "\n",
    "# Using type-specific formatting\n",
    "import datetime\n",
    "d = datetime.datetime(2010, 7, 4, 12, 15, 58)\n",
    "'{:%Y-%m-%d %H:%M:%S}'.format(d)"
   ]
  },
  {
   "cell_type": "code",
   "execution_count": 14,
   "id": "f8d4aa02-25e2-43dd-b41d-8bc1cd88b696",
   "metadata": {},
   "outputs": [
    {
     "data": {
      "text/plain": [
       "'left<<<<<<<<<<<<'"
      ]
     },
     "execution_count": 14,
     "metadata": {},
     "output_type": "execute_result"
    },
    {
     "data": {
      "text/plain": [
       "'^^^^^center^^^^^'"
      ]
     },
     "execution_count": 14,
     "metadata": {},
     "output_type": "execute_result"
    },
    {
     "data": {
      "text/plain": [
       "'>>>>>>>>>>>right'"
      ]
     },
     "execution_count": 14,
     "metadata": {},
     "output_type": "execute_result"
    },
    {
     "data": {
      "text/plain": [
       "'C0A80001'"
      ]
     },
     "execution_count": 14,
     "metadata": {},
     "output_type": "execute_result"
    },
    {
     "data": {
      "text/plain": [
       "3232235521"
      ]
     },
     "execution_count": 14,
     "metadata": {},
     "output_type": "execute_result"
    },
    {
     "name": "stdout",
     "output_type": "stream",
     "text": [
      "    5     5     5   101 \n",
      "    6     6     6   110 \n",
      "    7     7     7   111 \n",
      "    8     8    10  1000 \n",
      "    9     9    11  1001 \n",
      "   10     A    12  1010 \n",
      "   11     B    13  1011 \n"
     ]
    }
   ],
   "source": [
    "# Nesting arguments\n",
    "for align, text in zip('<^>', ['left', 'center', 'right']):\n",
    "    '{0:{fill}{align}16}'.format(text, fill=align, align=align)\n",
    "\n",
    "octets = [192, 168, 0, 1]\n",
    "'{:02X}{:02X}{:02X}{:02X}'.format(*octets)\n",
    "\n",
    "int(_, 16)\n",
    "\n",
    "width = 5\n",
    "for num in range(5, 12):\n",
    "    for base in 'dXob':    # d represents 'decimal', X represnets 'Hexdecimal', o represent 'octal', b represents 'binary'\n",
    "        print('{0:{width}{base}}'.format(num, base=base, width=width), end=' ')\n",
    "    print()\n"
   ]
  },
  {
   "cell_type": "markdown",
   "id": "1c4b2991-2957-4d10-8f1f-53f6722be38a",
   "metadata": {},
   "source": [
    "### Template strings"
   ]
  },
  {
   "cell_type": "code",
   "execution_count": 15,
   "id": "f35219da-b1c4-455b-a565-47d00c191a73",
   "metadata": {},
   "outputs": [
    {
     "data": {
      "text/plain": [
       "'tim likes kung pao'"
      ]
     },
     "execution_count": 15,
     "metadata": {},
     "output_type": "execute_result"
    },
    {
     "data": {
      "text/plain": [
       "'tim likes $what'"
      ]
     },
     "execution_count": 15,
     "metadata": {},
     "output_type": "execute_result"
    }
   ],
   "source": [
    "from string import Template\n",
    "s = Template('$who likes $what')\n",
    "s.substitute(who='tim', what='kung pao')\n",
    "\n",
    "d = dict(who='tim')\n",
    "Template('$who likes $what').safe_substitute(d)"
   ]
  },
  {
   "cell_type": "markdown",
   "id": "88395bc0-a9bf-487d-9149-04e294baba00",
   "metadata": {},
   "source": [
    "## re - Regular expression operations"
   ]
  },
  {
   "cell_type": "markdown",
   "id": "80dc6829-293f-413f-9558-2f72df91401e",
   "metadata": {},
   "source": [
    "Usually patterns will be expressed in Python code using *raw string notation*."
   ]
  },
  {
   "cell_type": "markdown",
   "id": "51b619f7-5e5a-469c-8124-24c147b44584",
   "metadata": {},
   "source": [
    "### Regular Expression Syntax"
   ]
  },
  {
   "cell_type": "markdown",
   "id": "5959be5b-2aff-45fb-8d0a-c28cb77c0b99",
   "metadata": {},
   "source": [
    "The special characters:\n",
    "\n",
    "**Character classes and class-like constructs**:\n",
    "- `.` In the default mode, this matches any character except a newline. If the DOTALL flag has been specified, this matches any character including a newline.\n",
    "- `\\` Either escapes special characters or signals a special sequences.\n",
    "- `[]` Used to indicate a set of characters.\n"
   ]
  },
  {
   "cell_type": "markdown",
   "id": "6feb8627-6ce0-4eca-b6f1-a4a64563b019",
   "metadata": {},
   "source": [
    "- `\\d` For Unicode (str) patterns: Matches any Unicode decimal digit (that is, any character in Unicode character category `[Nd]`). This includes `[0-9]`, and also many other digit characters. If the ASCII flag is used only `[0-9]` is matched. For 8-bit (bytes) patterns: Matches any decimal digit; this is equivalent to `[0-9]`.\n",
    "- `\\D` Matches any character which is not a decimal digit. This is the opposite of `\\d`. If the ASCII flag is used this becomes the equivalent of `[^0-9]`."
   ]
  },
  {
   "cell_type": "markdown",
   "id": "702b2ffe-cd2b-4183-a085-877bb9c2588a",
   "metadata": {},
   "source": [
    "- `\\s` Matches Unicode whitespace characters (which includes `[ \\t\\n\\r\\f\\v]`, and also many other characters, for example, the non-breaking spaces mandated by typography rules in many languages). If the ASCII flag is used, only `[ \\t\\n\\r\\f\\v]` is matched. For 8-bit (bytes) patterns: Matches characters considered whitespace in the ASCII character set; this is equivalent to `[ \\t\\n\\r\\f\\v]`.\n",
    "- `\\S` Matches any character which is not a whitespace character. This is the opposite of `\\s`. If the ASCII flag is used this becomes the equivalent of `[^ \\t\\n\\r\\f\\v]`."
   ]
  },
  {
   "cell_type": "markdown",
   "id": "f79a6865-4649-4a91-9060-82f4d0c4611a",
   "metadata": {},
   "source": [
    "- `\\w` For Unicode (str) patterns: Matches Unicode word characters; this includes alphanumeric characters (as defined by str.isalnum()) as well as the underscore (`_`). If the ASCII flag is used, only `[a-zA-Z0-9_]` is matched.\n",
    "For 8-bit (bytes) patterns:\n",
    "Matches characters considered alphanumeric in the ASCII character set; this is equivalent to `[a-zA-Z0-9_]`. If the LOCALE flag is used, matches characters considered alphanumeric in the current locale and the underscore.\n",
    "- `\\W` Matches any character which is not a word character. This is the opposite of `\\w`. If the ASCII flag is used this becomes the equivalent of `[^a-zA-Z0-9_]`. If the [LOCALE](https://docs.python.org/3/library/re.html#re.LOCALE) flag is used, matches characters which are neither alphanumeric in the current locale nor the underscore."
   ]
  },
  {
   "cell_type": "markdown",
   "id": "3bb9f228-919c-4d2b-b1b0-1448aaee4087",
   "metadata": {},
   "source": [
    "**Anchors（锚点）**:\n",
    "- `^` Matches the start of the string, and in MULTILINE mode also matches immediately after each newline.\n",
    "- `$` Matches the end of the string or just before the newline at the end of the string, and in MULTILINE mode also matches before a newline.\n",
    "- `(?=...)` Matches if `...` matches next, but doesn't consume any of the string. This is called *lookahead assertion*. For example, `Isaac (?=Asimov)` will match `'Isaac '` only if it’s followed by `'Asimov'`.\n",
    "- `(?!...)` Matches if `...` doesn’t match next. This is a *negative lookahead assertion*. For example, `Isaac (?!Asimov)` will match `'Isaac '` only if it’s not followed by `'Asimov'`.\n",
    "- `(?<=...)` Matches if the current position in the string is preceded by a match for `...` that ends at the current position. This is called a *positive lookbehind assertion*."
   ]
  },
  {
   "cell_type": "code",
   "execution_count": 16,
   "id": "11d41985-65d7-477e-b6f5-5a3852d465fe",
   "metadata": {},
   "outputs": [
    {
     "data": {
      "text/plain": [
       "'def'"
      ]
     },
     "execution_count": 16,
     "metadata": {},
     "output_type": "execute_result"
    },
    {
     "data": {
      "text/plain": [
       "'egg'"
      ]
     },
     "execution_count": 16,
     "metadata": {},
     "output_type": "execute_result"
    }
   ],
   "source": [
    "import re\n",
    "m = re.search('(?<=abc)def', 'abcdef')\n",
    "m.group(0)\n",
    "\n",
    "# This example looks for a word following a hyphen\n",
    "m = re.search(r'(?<=-)\\w+', 'spam-egg')\n",
    "m.group(0)"
   ]
  },
  {
   "cell_type": "markdown",
   "id": "b3608159-477c-409c-93a4-b8986e18a57e",
   "metadata": {},
   "source": [
    "- `(?<!...)` Matches if the current position in the string is not preceded by a match for `....` This is called a *negative lookbehind assertion*. Patterns which start with negative lookbehind assertions may match at the beginning of the string being searched."
   ]
  },
  {
   "cell_type": "markdown",
   "id": "91173219-1e16-40d5-86e0-d8fb5009328a",
   "metadata": {},
   "source": [
    "- `\\A` Matches only at the start of the string.\n",
    "- `\\b` Matches the empty string, but only at the beginning or end of a word. A word is defined as a sequence of word characters.\n",
    "- `\\B` Matches the empty string, but only when it is *not* at the beginning or end of a word.\n",
    "- `\\Z` Matches only at the end of the string."
   ]
  },
  {
   "cell_type": "markdown",
   "id": "abc258b4-6fea-4bf9-a2b3-26ad054a4e54",
   "metadata": {},
   "source": [
    "**Grouping, Capturing, Conditional, and Control**:\n",
    "- `*` Causes the resulting RE to match 0 or more repetitions of the preceding RE, as many repetitions as possible. `ab*` will match 'a', 'ab', or 'a' followed by any number of 'b's.\n",
    "- `+` Causes the resulting RE to match 1 or more repetitions of the preceding RE. `ab+` will match 'a' followed by any non-zero number of 'b's; it will not match just 'a'.\n",
    "- `?` Causes the resulting RE to match 0 or 1 repetitions of the preceding RE. `ab?` will match either 'a' or 'ab'.\n",
    "- `*?`, `+?`, `??` No-greedy matches quantifiers.\n",
    "- `*+`, `++`, `?+` Possessive quantifiers, these do not allow back-tracking when the expression following it fails to match.\n",
    "- `{m}` Specifies that exactly *m* copies of the previous RE should be matched.\n",
    "- `{m, n}` Causes the resulting RE to match from *m* to *n* repetitions of the preceding RE, attempting to match as many as possible.\n",
    "- `|` `A|B`, where *A* and *B* can be arbitrary REs, creates a regular expression that will match either *A* or *B*.\n",
    "- `(...)` Matches whatever regular expression is inside the parentheses, and indicates the start and end of a group; the contents of a group can be retrieved after a match has been performed, and can be matched later in the string with the `\\number` special sequence, described below."
   ]
  },
  {
   "cell_type": "markdown",
   "id": "ad4f0ccb-6b3d-4167-9d67-dbeb33e7d685",
   "metadata": {},
   "source": [
    "- `(?:...)` *Grouping-only parentheses*. A non-capturing version of regular parentheses."
   ]
  },
  {
   "cell_type": "markdown",
   "id": "8abd37af-6d30-44f2-9cc4-3fff9bcfbd6a",
   "metadata": {},
   "source": [
    "- `(?>...)` *Atomic grouping*(固化分组): Attempts to match `...` as if it was a separate regular expression, and if successful, continues to match the rest of the pattern following it"
   ]
  },
  {
   "cell_type": "markdown",
   "id": "1fa64d8c-4739-47a5-906b-ef6a8aac659a",
   "metadata": {},
   "source": [
    "- `(?P<name>...)` Similar to regular parentheses, but the substring matched by the group is accessible via the symbolic group name *name*.\n",
    "- `(?P=name)` A backreference to a named group; it matches whatever text was matched by the earlier group named *name*."
   ]
  },
  {
   "cell_type": "markdown",
   "id": "6b358877-09fa-49fd-886b-5ec26debcb51",
   "metadata": {},
   "source": [
    "- `(?(id/name)yes-pattern|no-pattern)` Will try to match with `yes-pattern` if the group with given *id* or *name* exists, and with `no-pattern` if it doesn’t. `no-pattern` is optional and can be omitted."
   ]
  },
  {
   "cell_type": "markdown",
   "id": "893fe457-8f16-498e-ab40-10759d6c50d7",
   "metadata": {},
   "source": [
    "**Mode modifier**: *(?modifier)*, such as *(?a)* or *(?-i)*"
   ]
  },
  {
   "cell_type": "markdown",
   "id": "b73c7ee3-e2e9-453f-be79-27a280149536",
   "metadata": {},
   "source": [
    "- `(?...)` This is an extension notation. The first character after the `?` determines what the meaning and further syntax of the construct is."
   ]
  },
  {
   "cell_type": "markdown",
   "id": "754c96d6-fb0a-4f5e-85a4-abee3dc4ba91",
   "metadata": {},
   "source": [
    "- `(?aiLmsux)` One or more letters from the set 'a', 'i', 'L', 'm', 's', 'u', 'x'. The group matches the empty string; the letters set the corresponding flags: re.A (*ASCII-only matching*), re.I (*ignore case*), re.L (*locale dependent*), re.M (*multi-line*), re.S (*dot matches all*), re.U (*Unicode matching*), and re.X (*verbose*), for the entire regular expression.\n",
    "\n",
    "Changed in version 3.11: This construction can only be used at the start of the expression.\n",
    "在 3.11 版更改：**此构造只能在表达式的开头使用**。"
   ]
  },
  {
   "cell_type": "markdown",
   "id": "9630ca78-2dc7-4ff3-acec-83ea2af679e0",
   "metadata": {},
   "source": [
    "- `(?aiLmsux-imsx:...)` *Mode-modified span(模式作用范围)*, (?*modifier*:...), such as (?:...). "
   ]
  },
  {
   "cell_type": "markdown",
   "id": "bf0a145b-f23d-48db-a67e-bab80eef29de",
   "metadata": {},
   "source": [
    "- `(?#...)` A comment; the contents of the parentheses are simply ignored.\n"
   ]
  },
  {
   "cell_type": "markdown",
   "id": "15d7ecf4-f72d-4c8c-a4d2-e052d7e8b0f6",
   "metadata": {},
   "source": [
    "### Module Contents"
   ]
  },
  {
   "cell_type": "markdown",
   "id": "0c2dad59-a739-43c1-86df-22d9d03588a8",
   "metadata": {},
   "source": [
    "Functions"
   ]
  },
  {
   "cell_type": "code",
   "execution_count": 17,
   "id": "295e9f13-459b-4038-8364-af3148c97b8c",
   "metadata": {},
   "outputs": [
    {
     "data": {
      "text/plain": [
       "<re.Match object; span=(0, 3), match='abc'>"
      ]
     },
     "execution_count": 17,
     "metadata": {},
     "output_type": "execute_result"
    },
    {
     "data": {
      "text/plain": [
       "<re.Match object; span=(0, 3), match='abc'>"
      ]
     },
     "execution_count": 17,
     "metadata": {},
     "output_type": "execute_result"
    }
   ],
   "source": [
    "# re.compile\n",
    "prog = re.compile('abc')    # the regex object can be reused many times\n",
    "string = 'abc, efg'\n",
    "result = prog.match(string)    # the match object\n",
    "result\n",
    "\n",
    "re.match('abc', string)"
   ]
  },
  {
   "cell_type": "code",
   "execution_count": 18,
   "id": "574c81f3-a177-4197-8777-ac450a7f2b87",
   "metadata": {},
   "outputs": [
    {
     "data": {
      "text/plain": [
       "<re.Match object; span=(202, 206), match='size'>"
      ]
     },
     "execution_count": 18,
     "metadata": {},
     "output_type": "execute_result"
    }
   ],
   "source": [
    "# re.search\n",
    "string = '''\n",
    "Running throughout the system is a collection of electrical conduits called buses that carry bytes of information back and forth between the components. \n",
    "Buses are typically designed to transfer fixed-size chunks of bytes known as words. The number of bytes in a word (the word size) is a fundamental system parameter that varies across systems. \n",
    "Most machines today have word sizes of either 4 bytes (32 bits) or 8 bytes (64 bits). In this book, we do not assume any fixed definition of word size. \n",
    "Instead, we will specify what we mean by a \"word\" in any context that requires this to be defined.\n",
    "'''\n",
    "\n",
    "pattern = 'size'\n",
    "re.search(pattern, string)"
   ]
  },
  {
   "cell_type": "code",
   "execution_count": 19,
   "id": "0ba0d4f4-ff91-4444-8528-15a910a8de26",
   "metadata": {},
   "outputs": [
    {
     "name": "stdout",
     "output_type": "stream",
     "text": [
      "None\n"
     ]
    },
    {
     "data": {
      "text/plain": [
       "<re.Match object; span=(0, 3), match='abc'>"
      ]
     },
     "execution_count": 19,
     "metadata": {},
     "output_type": "execute_result"
    }
   ],
   "source": [
    "# re.match, this only works for the characters at the beginning of the string match the regular expression pattern\n",
    "print(re.match(pattern, string))    # this return None\n",
    "\n",
    "s = 'abc, efg'\n",
    "re.match('abc', s)"
   ]
  },
  {
   "cell_type": "code",
   "execution_count": 20,
   "id": "1f8878d5-c72b-4dc9-861a-f84aadfec90a",
   "metadata": {},
   "outputs": [
    {
     "name": "stdout",
     "output_type": "stream",
     "text": [
      "None\n"
     ]
    },
    {
     "data": {
      "text/plain": [
       "<re.Match object; span=(0, 3), match='abc'>"
      ]
     },
     "execution_count": 20,
     "metadata": {},
     "output_type": "execute_result"
    }
   ],
   "source": [
    "# re.fullmatch\n",
    "print(re.fullmatch(pattern, string))    # this returns None\n",
    "\n",
    "s = 'abc'\n",
    "re.fullmatch(s, s)"
   ]
  },
  {
   "cell_type": "code",
   "execution_count": 21,
   "id": "3c44a090-96e5-4b29-9b19-b3b895fe1de7",
   "metadata": {},
   "outputs": [
    {
     "data": {
      "text/plain": [
       "['Words', 'words', 'words', '']"
      ]
     },
     "execution_count": 21,
     "metadata": {},
     "output_type": "execute_result"
    },
    {
     "data": {
      "text/plain": [
       "['Words', ', ', 'words', ', ', 'words', '.', '']"
      ]
     },
     "execution_count": 21,
     "metadata": {},
     "output_type": "execute_result"
    },
    {
     "data": {
      "text/plain": [
       "['Words', 'words, words.']"
      ]
     },
     "execution_count": 21,
     "metadata": {},
     "output_type": "execute_result"
    },
    {
     "data": {
      "text/plain": [
       "['0', '3', '9']"
      ]
     },
     "execution_count": 21,
     "metadata": {},
     "output_type": "execute_result"
    }
   ],
   "source": [
    "# re.split\n",
    "s1 = 'Words, words, words.'\n",
    "re.split(r'\\W+', s1)\n",
    "re.split(r'(\\W+)', s1)\n",
    "re.split(r'\\W+', s1, 1)\n",
    "\n",
    "re.split('[a-f]+', '0a3B9', flags=re.IGNORECASE)"
   ]
  },
  {
   "cell_type": "code",
   "execution_count": 22,
   "id": "cc86b39b-2eab-4efa-b08a-4dbe5df7d5c6",
   "metadata": {},
   "outputs": [
    {
     "data": {
      "text/plain": [
       "['foot', 'feel', 'fastest']"
      ]
     },
     "execution_count": 22,
     "metadata": {},
     "output_type": "execute_result"
    },
    {
     "data": {
      "text/plain": [
       "[('width', '20'), ('height', '10')]"
      ]
     },
     "execution_count": 22,
     "metadata": {},
     "output_type": "execute_result"
    }
   ],
   "source": [
    "# re.findall\n",
    "re.findall(r'\\bf[a-z]*', 'which foot or hand feel fastest')\n",
    "re.findall(r'(\\w+)=(\\d+)', 'set width=20 and height=10')"
   ]
  },
  {
   "cell_type": "code",
   "execution_count": 23,
   "id": "4312bcde-f2d7-489f-b811-16a24dbaab4c",
   "metadata": {},
   "outputs": [
    {
     "data": {
      "text/plain": [
       "<re.Match object; span=(6, 10), match='foot'>"
      ]
     },
     "execution_count": 23,
     "metadata": {},
     "output_type": "execute_result"
    },
    {
     "data": {
      "text/plain": [
       "<re.Match object; span=(19, 23), match='feel'>"
      ]
     },
     "execution_count": 23,
     "metadata": {},
     "output_type": "execute_result"
    },
    {
     "data": {
      "text/plain": [
       "<re.Match object; span=(24, 31), match='fastest'>"
      ]
     },
     "execution_count": 23,
     "metadata": {},
     "output_type": "execute_result"
    }
   ],
   "source": [
    "# re.finditer\n",
    "i = re.finditer(r'\\bf[a-z]*', 'which foot or hand feel fastest')\n",
    "i.__next__()\n",
    "i.__next__()\n",
    "i.__next__()"
   ]
  },
  {
   "cell_type": "code",
   "execution_count": 24,
   "id": "de8df094-cd27-4d1f-9383-981e1c95928b",
   "metadata": {},
   "outputs": [
    {
     "data": {
      "text/plain": [
       "'static PyObject*\\npy_myfunc(void)\\n{'"
      ]
     },
     "execution_count": 24,
     "metadata": {},
     "output_type": "execute_result"
    },
    {
     "data": {
      "text/plain": [
       "'pro-gram files'"
      ]
     },
     "execution_count": 24,
     "metadata": {},
     "output_type": "execute_result"
    }
   ],
   "source": [
    "# re.sub\n",
    "re.sub(r'def\\s+([a-zA-Z_][a-zA-Z_0-9]*)\\s*\\(\\s*\\):',\n",
    "       r'static PyObject*\\npy_\\1(void)\\n{',\n",
    "       'def myfunc():')\n",
    "\n",
    "def dashrepl(matchobj):\n",
    "    if matchobj.group(0) == '-':\n",
    "        return ' '\n",
    "    else:\n",
    "        return '-'\n",
    "\n",
    "re.sub('-{1,2}', dashrepl, 'pro--gram-files')"
   ]
  },
  {
   "cell_type": "markdown",
   "id": "28d8b8e8-b4e9-4bfe-8112-033406326351",
   "metadata": {},
   "source": [
    "Exceptions"
   ]
  },
  {
   "cell_type": "markdown",
   "id": "2ec783ae-b438-46a9-8468-180f28fed0e3",
   "metadata": {},
   "source": [
    "### Regular Expressions Objects"
   ]
  },
  {
   "cell_type": "markdown",
   "id": "6522c007-d6a7-46e5-8bd5-cf4ad43b28af",
   "metadata": {},
   "source": [
    "*class* re.**Pattern**:\n",
    "\n",
    "Complied regular expression object returned by re.compile()"
   ]
  },
  {
   "cell_type": "markdown",
   "id": "c2294122-3990-4c75-a75e-07606fe8f833",
   "metadata": {},
   "source": [
    "### Regular Expression Examples"
   ]
  },
  {
   "cell_type": "code",
   "execution_count": 25,
   "id": "a8cdcfcf-eb01-4a1c-a922-b8df68fee994",
   "metadata": {},
   "outputs": [
    {
     "data": {
      "text/plain": [
       "\"<Match: 'akt5q', groups=()>\""
      ]
     },
     "execution_count": 25,
     "metadata": {},
     "output_type": "execute_result"
    },
    {
     "data": {
      "text/plain": [
       "\"<Match: '717', groups=('7',)>\""
      ]
     },
     "execution_count": 25,
     "metadata": {},
     "output_type": "execute_result"
    },
    {
     "data": {
      "text/plain": [
       "\"<Match: '354aa', groups=('a',)>\""
      ]
     },
     "execution_count": 25,
     "metadata": {},
     "output_type": "execute_result"
    },
    {
     "data": {
      "text/plain": [
       "'7'"
      ]
     },
     "execution_count": 25,
     "metadata": {},
     "output_type": "execute_result"
    },
    {
     "data": {
      "text/plain": [
       "'a'"
      ]
     },
     "execution_count": 25,
     "metadata": {},
     "output_type": "execute_result"
    }
   ],
   "source": [
    "# Checking for a pair\n",
    "def displaymatch(match):\n",
    "    if match is None:\n",
    "        return None\n",
    "    return '<Match: %r, groups=%r>' % (match.group(), match.groups())\n",
    "\n",
    "valid = re.compile(r\"^[a2-9tjqk]{5}$\")\n",
    "displaymatch(valid.match(\"akt5q\"))\n",
    "\n",
    "pair = re.compile(r\".*(.).*\\1\")    # regular expressions object\n",
    "displaymatch(pair.match(\"717ak\"))\n",
    "displaymatch(pair.match(\"354aa\"))\n",
    "pair.match(\"717ak\").group(1)    # the attribution of match object\n",
    "pair.match(\"354aa\").group(1)"
   ]
  },
  {
   "cell_type": "code",
   "execution_count": 26,
   "id": "b78b1c65-5855-479a-b9fe-dcfe58f0d8bf",
   "metadata": {},
   "outputs": [
    {
     "data": {
      "text/plain": [
       "<re.Match object; span=(0, 41), match='/usr/sbin/sendmail - 0 errors, 4 warnings'>"
      ]
     },
     "execution_count": 26,
     "metadata": {},
     "output_type": "execute_result"
    },
    {
     "data": {
      "text/plain": [
       "<re.Match object; span=(0, 41), match='/usr/sbin/sendmail - 0 errors, 4 warnings'>"
      ]
     },
     "execution_count": 26,
     "metadata": {},
     "output_type": "execute_result"
    },
    {
     "data": {
      "text/plain": [
       "<re.Match object; span=(0, 41), match='/usr/sbin/sendmail - 0 errors, 4 warnings'>"
      ]
     },
     "execution_count": 26,
     "metadata": {},
     "output_type": "execute_result"
    }
   ],
   "source": [
    "# Simulating scanf()\n",
    "r = re.compile(r\"(\\S+) - (\\d+) errors, (\\d+) warnings\")\n",
    "m = r.match(\"/usr/sbin/sendmail - 0 errors, 4 warnings\")\n",
    "m\n",
    "r.search(\"/usr/sbin/sendmail - 0 errors, 4 warnings\")\n",
    "r.fullmatch(\"/usr/sbin/sendmail - 0 errors, 4 warnings\")"
   ]
  },
  {
   "cell_type": "code",
   "execution_count": 27,
   "id": "6899c874-02b4-49ea-9d4e-496be3915cef",
   "metadata": {},
   "outputs": [
    {
     "data": {
      "text/plain": [
       "<re.Match object; span=(2, 3), match='c'>"
      ]
     },
     "execution_count": 27,
     "metadata": {},
     "output_type": "execute_result"
    },
    {
     "data": {
      "text/plain": [
       "<re.Match object; span=(0, 6), match='python'>"
      ]
     },
     "execution_count": 27,
     "metadata": {},
     "output_type": "execute_result"
    },
    {
     "data": {
      "text/plain": [
       "<re.Match object; span=(4, 5), match='X'>"
      ]
     },
     "execution_count": 27,
     "metadata": {},
     "output_type": "execute_result"
    }
   ],
   "source": [
    "# search() vs. match()\n",
    "re.match(\"c\", \"abcdef\")    # No match, match() checks for a match only at the beginning of the strign\n",
    "re.search(\"c\", \"abcdef\")    # Match\n",
    "re.fullmatch(\"c\", \"abcdef\")    # No match, fullmatch() checks for entire string to be a match\n",
    "re.fullmatch(\"p.*n\", \"python\")    # Match\n",
    "\n",
    "# in Multiline mode\n",
    "re.match(\"X\", \"A\\nB\\nX\", re.MULTILINE)\n",
    "re.search(\"^X\", \"A\\nB\\nX\", re.MULTILINE)"
   ]
  },
  {
   "cell_type": "code",
   "execution_count": 28,
   "id": "de90f19a-875b-4bd1-ab90-42d0ac7ccaa2",
   "metadata": {},
   "outputs": [
    {
     "data": {
      "text/plain": [
       "['Ross McFluff: 834.345.1254 155 Elm Street',\n",
       " 'Ronald Heathmore: 892.345.3428 436 Finley Avenue',\n",
       " 'Frank Burger: 925.541.7625 662 South Dogwood Way',\n",
       " 'Heather Albrecht: 548.326.4584 919 Park Place']"
      ]
     },
     "execution_count": 28,
     "metadata": {},
     "output_type": "execute_result"
    },
    {
     "data": {
      "text/plain": [
       "[['Ross', 'McFluff', '834.345.1254', '155 Elm Street'],\n",
       " ['Ronald', 'Heathmore', '892.345.3428', '436 Finley Avenue'],\n",
       " ['Frank', 'Burger', '925.541.7625', '662 South Dogwood Way'],\n",
       " ['Heather', 'Albrecht', '548.326.4584', '919 Park Place']]"
      ]
     },
     "execution_count": 28,
     "metadata": {},
     "output_type": "execute_result"
    }
   ],
   "source": [
    "# Making a Phonebook\n",
    "text = \"\"\"Ross McFluff: 834.345.1254 155 Elm Street\n",
    "\n",
    "Ronald Heathmore: 892.345.3428 436 Finley Avenue\n",
    "Frank Burger: 925.541.7625 662 South Dogwood Way\n",
    "\n",
    "\n",
    "Heather Albrecht: 548.326.4584 919 Park Place\"\"\"\n",
    "\n",
    "entries = re.split(\"\\n+\", text)\n",
    "entries\n",
    "\n",
    "# split into three parts\n",
    "[re.split(\":? \", entry, 3) for entry in entries]"
   ]
  },
  {
   "cell_type": "code",
   "execution_count": 29,
   "id": "011770df-961a-4755-ac1f-3d316d94342f",
   "metadata": {},
   "outputs": [
    {
     "data": {
      "text/plain": [
       "'Pseorofsr Adabeollmk, pelsae reoprt your aecnsbes prolmpty.'"
      ]
     },
     "execution_count": 29,
     "metadata": {},
     "output_type": "execute_result"
    }
   ],
   "source": [
    "# Text munging\n",
    "import random\n",
    "def repl(m):\n",
    "    inner_word = list(m.group(2))\n",
    "    random.shuffle(inner_word)\n",
    "    return m.group(1) + \"\".join(inner_word) + m.group(3)\n",
    "\n",
    "text = \"Professor Abdolmalek, please report your absences promptly.\"\n",
    "re.sub(r\"(\\w)(\\w+)(\\w)\", repl, text)"
   ]
  },
  {
   "cell_type": "code",
   "execution_count": 30,
   "id": "9ca8ccf2-c590-4cd8-b850-d1ffed1226ca",
   "metadata": {},
   "outputs": [
    {
     "data": {
      "text/plain": [
       "['carefully', 'quickly']"
      ]
     },
     "execution_count": 30,
     "metadata": {},
     "output_type": "execute_result"
    },
    {
     "name": "stdout",
     "output_type": "stream",
     "text": [
      "07-16: carefully\n",
      "40-47: quickly\n"
     ]
    }
   ],
   "source": [
    "# Finding all Adverbs\n",
    "text = \"He was carefully disguised but captured quickly by police.\"\n",
    "re.findall(r\"\\w+ly\\b\", text)\n",
    "\n",
    "# finditer() provides match objects instead of strings\n",
    "for m in re.finditer(r\"\\w+ly\\b\", text):\n",
    "    print('%02d-%02d: %s' % (m.start(), m.end(), m.group(0)))"
   ]
  },
  {
   "cell_type": "code",
   "execution_count": 50,
   "id": "77a92b3d-3eed-46e5-80a4-167ddfd80629",
   "metadata": {
    "scrolled": true
   },
   "outputs": [
    {
     "data": {
      "text/plain": [
       "['毛泽东',\n",
       " '朱德',\n",
       " '刘少奇',\n",
       " '宋庆龄',\n",
       " '李济深',\n",
       " '张澜',\n",
       " '高岗',\n",
       " '陈毅',\n",
       " '贺龙',\n",
       " '李立三',\n",
       " '林伯渠',\n",
       " '叶剑英',\n",
       " '何香凝',\n",
       " '林彪',\n",
       " '彭德怀',\n",
       " '刘伯承',\n",
       " '吴玉章',\n",
       " '徐向前',\n",
       " '彭真',\n",
       " '薄一波',\n",
       " '聂荣臻',\n",
       " '周恩来',\n",
       " '董必武',\n",
       " '赛福鼎',\n",
       " '饶漱石',\n",
       " '陈嘉庚',\n",
       " '罗荣桓',\n",
       " '邓子恢',\n",
       " '乌兰夫',\n",
       " '徐特立',\n",
       " '蔡畅',\n",
       " '刘格平',\n",
       " '马寅初',\n",
       " '陈云',\n",
       " '康生',\n",
       " '林枫',\n",
       " '马叙伦',\n",
       " '郭沬若',\n",
       " '张云逸',\n",
       " '邓小平',\n",
       " '高来民',\n",
       " '沈钧儒',\n",
       " '沈雁冰',\n",
       " '陈叔通',\n",
       " '司徒美堂',\n",
       " '李锡九',\n",
       " '黄炎培',\n",
       " '蔡廷锴',\n",
       " '习仲勋',\n",
       " '彭泽民',\n",
       " '张治中',\n",
       " '傅作义',\n",
       " '李烛',\n",
       " '李章达',\n",
       " '章伯钧',\n",
       " '程潜',\n",
       " '张奚若',\n",
       " '陈铭',\n",
       " '谭平山',\n",
       " '张先',\n",
       " '柳亚子',\n",
       " '张东荪',\n",
       " '龙云']"
      ]
     },
     "execution_count": 50,
     "metadata": {},
     "output_type": "execute_result"
    },
    {
     "data": {
      "text/plain": [
       "63"
      ]
     },
     "execution_count": 50,
     "metadata": {},
     "output_type": "execute_result"
    }
   ],
   "source": [
    "s = '''\n",
    "朱德、刘少奇、宋庆龄、李济深、张澜、高岗为副主席，陈毅、贺龙、李立三、林伯渠、叶剑英、何香凝、林彪、彭德怀、刘伯承、吴玉章、徐向前、彭真、薄一波、聂荣臻、周恩来、董必武、赛福鼎、饶漱石、陈嘉庚、罗荣桓、邓子恢、乌兰夫、徐特立、蔡畅、刘格平、马寅初、陈云、康生、林枫、马叙伦、郭沬若．张云逸、邓小平、高来民、沈钧儒、沈雁冰，陈叔通、司徒美堂、李锡九、黄炎培、蔡廷锴、习仲勋、彭泽民、张治中、傅作义、李烛、李章达、章伯钧、程潜、张奚若、陈铭、谭平山、张先、柳亚子、张东荪、龙云\n",
    "'''\n",
    "\n",
    "s = s.replace('为副主席，', '、').replace('．', '、').replace('，', '、').replace('\\n', '')\n",
    "# s\n",
    "s1 = s.split('、')\n",
    "s1.insert(0, '毛泽东')\n",
    "s1\n",
    "len(s1)"
   ]
  },
  {
   "cell_type": "code",
   "execution_count": 51,
   "id": "225268b3-7556-445c-b3b9-0eb929d9418c",
   "metadata": {
    "scrolled": true
   },
   "outputs": [
    {
     "data": {
      "text/plain": [
       "['https://zh.wikipedia.org/zh-sg/毛泽东',\n",
       " 'https://zh.wikipedia.org/zh-sg/朱德',\n",
       " 'https://zh.wikipedia.org/zh-sg/刘少奇',\n",
       " 'https://zh.wikipedia.org/zh-sg/宋庆龄',\n",
       " 'https://zh.wikipedia.org/zh-sg/李济深',\n",
       " 'https://zh.wikipedia.org/zh-sg/张澜',\n",
       " 'https://zh.wikipedia.org/zh-sg/高岗',\n",
       " 'https://zh.wikipedia.org/zh-sg/陈毅',\n",
       " 'https://zh.wikipedia.org/zh-sg/贺龙',\n",
       " 'https://zh.wikipedia.org/zh-sg/李立三',\n",
       " 'https://zh.wikipedia.org/zh-sg/林伯渠',\n",
       " 'https://zh.wikipedia.org/zh-sg/叶剑英',\n",
       " 'https://zh.wikipedia.org/zh-sg/何香凝',\n",
       " 'https://zh.wikipedia.org/zh-sg/林彪',\n",
       " 'https://zh.wikipedia.org/zh-sg/彭德怀',\n",
       " 'https://zh.wikipedia.org/zh-sg/刘伯承',\n",
       " 'https://zh.wikipedia.org/zh-sg/吴玉章',\n",
       " 'https://zh.wikipedia.org/zh-sg/徐向前',\n",
       " 'https://zh.wikipedia.org/zh-sg/彭真',\n",
       " 'https://zh.wikipedia.org/zh-sg/薄一波',\n",
       " 'https://zh.wikipedia.org/zh-sg/聂荣臻',\n",
       " 'https://zh.wikipedia.org/zh-sg/周恩来',\n",
       " 'https://zh.wikipedia.org/zh-sg/董必武',\n",
       " 'https://zh.wikipedia.org/zh-sg/赛福鼎',\n",
       " 'https://zh.wikipedia.org/zh-sg/饶漱石',\n",
       " 'https://zh.wikipedia.org/zh-sg/陈嘉庚',\n",
       " 'https://zh.wikipedia.org/zh-sg/罗荣桓',\n",
       " 'https://zh.wikipedia.org/zh-sg/邓子恢',\n",
       " 'https://zh.wikipedia.org/zh-sg/乌兰夫',\n",
       " 'https://zh.wikipedia.org/zh-sg/徐特立',\n",
       " 'https://zh.wikipedia.org/zh-sg/蔡畅',\n",
       " 'https://zh.wikipedia.org/zh-sg/刘格平',\n",
       " 'https://zh.wikipedia.org/zh-sg/马寅初',\n",
       " 'https://zh.wikipedia.org/zh-sg/陈云',\n",
       " 'https://zh.wikipedia.org/zh-sg/康生',\n",
       " 'https://zh.wikipedia.org/zh-sg/林枫',\n",
       " 'https://zh.wikipedia.org/zh-sg/马叙伦',\n",
       " 'https://zh.wikipedia.org/zh-sg/郭沬若',\n",
       " 'https://zh.wikipedia.org/zh-sg/张云逸',\n",
       " 'https://zh.wikipedia.org/zh-sg/邓小平',\n",
       " 'https://zh.wikipedia.org/zh-sg/高来民',\n",
       " 'https://zh.wikipedia.org/zh-sg/沈钧儒',\n",
       " 'https://zh.wikipedia.org/zh-sg/沈雁冰',\n",
       " 'https://zh.wikipedia.org/zh-sg/陈叔通',\n",
       " 'https://zh.wikipedia.org/zh-sg/司徒美堂',\n",
       " 'https://zh.wikipedia.org/zh-sg/李锡九',\n",
       " 'https://zh.wikipedia.org/zh-sg/黄炎培',\n",
       " 'https://zh.wikipedia.org/zh-sg/蔡廷锴',\n",
       " 'https://zh.wikipedia.org/zh-sg/习仲勋',\n",
       " 'https://zh.wikipedia.org/zh-sg/彭泽民',\n",
       " 'https://zh.wikipedia.org/zh-sg/张治中',\n",
       " 'https://zh.wikipedia.org/zh-sg/傅作义',\n",
       " 'https://zh.wikipedia.org/zh-sg/李烛',\n",
       " 'https://zh.wikipedia.org/zh-sg/李章达',\n",
       " 'https://zh.wikipedia.org/zh-sg/章伯钧',\n",
       " 'https://zh.wikipedia.org/zh-sg/程潜',\n",
       " 'https://zh.wikipedia.org/zh-sg/张奚若',\n",
       " 'https://zh.wikipedia.org/zh-sg/陈铭',\n",
       " 'https://zh.wikipedia.org/zh-sg/谭平山',\n",
       " 'https://zh.wikipedia.org/zh-sg/张先',\n",
       " 'https://zh.wikipedia.org/zh-sg/柳亚子',\n",
       " 'https://zh.wikipedia.org/zh-sg/张东荪',\n",
       " 'https://zh.wikipedia.org/zh-sg/龙云']"
      ]
     },
     "execution_count": 51,
     "metadata": {},
     "output_type": "execute_result"
    },
    {
     "data": {
      "text/plain": [
       "63"
      ]
     },
     "execution_count": 51,
     "metadata": {},
     "output_type": "execute_result"
    }
   ],
   "source": [
    "surl = []\n",
    "for i in s1:\n",
    "    url = 'https://zh.wikipedia.org/zh-sg/' + i\n",
    "    surl.append(url)\n",
    "\n",
    "surl\n",
    "len(surl)"
   ]
  }
 ],
 "metadata": {
  "kernelspec": {
   "display_name": "Python 3 (ipykernel)",
   "language": "python",
   "name": "python3"
  },
  "language_info": {
   "codemirror_mode": {
    "name": "ipython",
    "version": 3
   },
   "file_extension": ".py",
   "mimetype": "text/x-python",
   "name": "python",
   "nbconvert_exporter": "python",
   "pygments_lexer": "ipython3",
   "version": "3.11.3"
  }
 },
 "nbformat": 4,
 "nbformat_minor": 5
}
