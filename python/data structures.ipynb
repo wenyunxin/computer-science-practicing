{
 "cells": [
  {
   "cell_type": "code",
   "execution_count": 14,
   "id": "7f905d2c-c2c3-4aa3-89ca-a5f03304912e",
   "metadata": {},
   "outputs": [],
   "source": [
    "from IPython.core.interactiveshell import InteractiveShell\n",
    "InteractiveShell.ast_node_interactivity = \"all\""
   ]
  },
  {
   "cell_type": "markdown",
   "id": "a85380c7-1220-41f4-8640-f1d7beb6366f",
   "metadata": {},
   "source": [
    "## more on lists"
   ]
  },
  {
   "cell_type": "markdown",
   "id": "8094ca8d-166c-471e-9604-030b514e2f78",
   "metadata": {},
   "source": [
    "All of the methods of list objects:\n",
    "- list.**append**(*x*)\n",
    "  Add an item to the end of the list. Equivalent to `a[len(a):] = [x]`.\n",
    "- list.**extend**(*iterable*)\n",
    "  Extend the list by appending all the items from the iterable. Equivalent to `a[len(a):] = iterable`.\n",
    "- list.**insert**(*i, x*)\n",
    "  Insert an item at a given position. The first argument is the index of the element before which to insert, so `a.insert(0, x)` inserts at the front of the list, and `a.insert(len(a), x)` is equivalent to `a.append(x)`.\n",
    "- list.**remove**(*x*)\n",
    "  Remove the first item from the list whose value is equal to *x*. It raise a ValueError if there is no such item.\n",
    "- list.**pop**(*[i]*)\n",
    "  Remove the item at the given position in the list, and return it. If no index is specified, `a.pop()` removes and returns the last item in the list.\n",
    "- list.**clear**()\n",
    "  Remove all items from the list. Equivalent to `del a[:]`.\n",
    "- list.**index**(*x[, start[, end]]*)\n",
    "  Return zero-based index in the list of the first item whose value is equal to *x*. Raise a ValueError if there is no such item.\n",
    "- list.**count**(*x*)\n",
    "  Return the number of times of *x* appears in the list.\n",
    "- list.**sort**(*, *key=None, reverse=False*)\n",
    "  Sort the items of the list in place (the arguments can be used for sort customization, see sorted() for their explanation).\n",
    "- list.**reverse**()\n",
    "  Reverse the elements of the list in place.\n",
    "- list.**copy**()\n",
    "  Return a shallow copy of the list. Equivalent to `a[:]`."
   ]
  },
  {
   "cell_type": "markdown",
   "id": "87c32f0e-94b8-46d6-b656-3019db584169",
   "metadata": {},
   "source": [
    "shallow copy?\n",
    "deep copy?"
   ]
  },
  {
   "cell_type": "code",
   "execution_count": 2,
   "id": "40f00d50-dd4b-43ff-b3f7-6ff1e9d07be1",
   "metadata": {},
   "outputs": [
    {
     "data": {
      "text/plain": [
       "2"
      ]
     },
     "execution_count": 2,
     "metadata": {},
     "output_type": "execute_result"
    },
    {
     "data": {
      "text/plain": [
       "0"
      ]
     },
     "execution_count": 2,
     "metadata": {},
     "output_type": "execute_result"
    },
    {
     "data": {
      "text/plain": [
       "3"
      ]
     },
     "execution_count": 2,
     "metadata": {},
     "output_type": "execute_result"
    },
    {
     "data": {
      "text/plain": [
       "6"
      ]
     },
     "execution_count": 2,
     "metadata": {},
     "output_type": "execute_result"
    },
    {
     "data": {
      "text/plain": [
       "['banana', 'apple', 'kiwi', 'banana', 'pear', 'apple', 'orange']"
      ]
     },
     "execution_count": 2,
     "metadata": {},
     "output_type": "execute_result"
    },
    {
     "data": {
      "text/plain": [
       "['banana', 'apple', 'kiwi', 'banana', 'pear', 'apple', 'orange', 'grape']"
      ]
     },
     "execution_count": 2,
     "metadata": {},
     "output_type": "execute_result"
    },
    {
     "data": {
      "text/plain": [
       "['apple', 'apple', 'banana', 'banana', 'grape', 'kiwi', 'orange', 'pear']"
      ]
     },
     "execution_count": 2,
     "metadata": {},
     "output_type": "execute_result"
    },
    {
     "data": {
      "text/plain": [
       "'pear'"
      ]
     },
     "execution_count": 2,
     "metadata": {},
     "output_type": "execute_result"
    }
   ],
   "source": [
    "fruits = ['orange', 'apple', 'pear', 'banana', 'kiwi', 'apple', 'banana']\n",
    "\n",
    "fruits.count('apple')\n",
    "fruits.count('tangerine')\n",
    "\n",
    "fruits.index('banana')\n",
    "fruits.index('banana', 4)    # Find next banana starting at position 4\n",
    "\n",
    "fruits.reverse()\n",
    "fruits\n",
    "\n",
    "fruits.append('grape')\n",
    "fruits\n",
    "\n",
    "fruits.sort()\n",
    "fruits\n",
    "\n",
    "fruits.pop()"
   ]
  },
  {
   "cell_type": "markdown",
   "id": "4605c425-1f25-4b77-bd2c-ed259cd81a7c",
   "metadata": {},
   "source": [
    "Not all data can be sorted or compared, For instance, `[None, 'hello', 10]`, integers can't be compared to strings and None can't be compared to other types.\n",
    "\n",
    "Also, there are some types that don't have a defined ordering relation. For example, `3+4j < 5+7j` isn't a valid comparison."
   ]
  },
  {
   "cell_type": "code",
   "execution_count": 5,
   "id": "b17e0a4a-2cde-4f68-85a2-7a29f7ebaa06",
   "metadata": {},
   "outputs": [
    {
     "data": {
      "text/plain": [
       "[3, 4, 5, 6, 7]"
      ]
     },
     "execution_count": 5,
     "metadata": {},
     "output_type": "execute_result"
    },
    {
     "data": {
      "text/plain": [
       "7"
      ]
     },
     "execution_count": 5,
     "metadata": {},
     "output_type": "execute_result"
    },
    {
     "data": {
      "text/plain": [
       "[3, 4, 5, 6]"
      ]
     },
     "execution_count": 5,
     "metadata": {},
     "output_type": "execute_result"
    },
    {
     "data": {
      "text/plain": [
       "6"
      ]
     },
     "execution_count": 5,
     "metadata": {},
     "output_type": "execute_result"
    },
    {
     "data": {
      "text/plain": [
       "5"
      ]
     },
     "execution_count": 5,
     "metadata": {},
     "output_type": "execute_result"
    },
    {
     "data": {
      "text/plain": [
       "[3, 4]"
      ]
     },
     "execution_count": 5,
     "metadata": {},
     "output_type": "execute_result"
    }
   ],
   "source": [
    "# use a list as a stack where the last element added is the first element retrieved (LIFO)\n",
    "stack = [3, 4, 5]\n",
    "\n",
    "stack.append(6)\n",
    "stack.append(7)\n",
    "stack\n",
    "\n",
    "stack.pop()\n",
    "stack\n",
    "\n",
    "stack.pop()\n",
    "stack.pop()\n",
    "stack"
   ]
  },
  {
   "cell_type": "code",
   "execution_count": 6,
   "id": "cecad5fc-6ba8-4df7-9032-28e9d4e1b713",
   "metadata": {},
   "outputs": [
    {
     "data": {
      "text/plain": [
       "'Eric'"
      ]
     },
     "execution_count": 6,
     "metadata": {},
     "output_type": "execute_result"
    },
    {
     "data": {
      "text/plain": [
       "'John'"
      ]
     },
     "execution_count": 6,
     "metadata": {},
     "output_type": "execute_result"
    },
    {
     "data": {
      "text/plain": [
       "deque(['Michael', 'Terry', 'Graham'])"
      ]
     },
     "execution_count": 6,
     "metadata": {},
     "output_type": "execute_result"
    }
   ],
   "source": [
    "# use a list as a queue where the first element added is the first element retrieved (FIFO)\n",
    "from collections import deque\n",
    "queue = deque([\"Eric\", \"John\", \"Michael\"])\n",
    "\n",
    "queue.append(\"Terry\")\n",
    "queue.append(\"Graham\")\n",
    "\n",
    "queue.popleft()\n",
    "queue.popleft()\n",
    "\n",
    "queue"
   ]
  },
  {
   "cell_type": "code",
   "execution_count": 7,
   "id": "6669eb8a-a699-46a2-be96-468ae69c7a18",
   "metadata": {},
   "outputs": [
    {
     "data": {
      "text/plain": [
       "[0, 1, 4, 9, 16, 25, 36, 49, 64, 81]"
      ]
     },
     "execution_count": 7,
     "metadata": {},
     "output_type": "execute_result"
    }
   ],
   "source": [
    "# list comprehension to create a list of squares\n",
    "[square**2 for square in range(10)]"
   ]
  },
  {
   "cell_type": "code",
   "execution_count": 9,
   "id": "2571d602-e0f8-44b6-ac4e-1abeb4af8036",
   "metadata": {},
   "outputs": [
    {
     "data": {
      "text/plain": [
       "[(1, 3), (1, 4), (2, 3), (2, 1), (2, 4), (3, 1), (3, 4)]"
      ]
     },
     "execution_count": 9,
     "metadata": {},
     "output_type": "execute_result"
    },
    {
     "data": {
      "text/plain": [
       "[(1, 3), (1, 4), (2, 3), (2, 1), (2, 4), (3, 1), (3, 4)]"
      ]
     },
     "execution_count": 9,
     "metadata": {},
     "output_type": "execute_result"
    }
   ],
   "source": [
    "# a list comprehension consists of brackets containing an expression followed by a for clause, then zero or more for or if clauses\n",
    "[(x, y) for x in [1, 2, 3] for y in [3, 1, 4] if x != y]\n",
    "\n",
    "# it's equivalent to\n",
    "combs = []\n",
    "for x in [1, 2, 3]:\n",
    "    for y in [3, 1, 4]:\n",
    "        if x != y:\n",
    "            combs.append((x, y))\n",
    "\n",
    "combs"
   ]
  },
  {
   "cell_type": "code",
   "execution_count": 12,
   "id": "edb464bb-01d2-412e-aa9d-2717a9d716e3",
   "metadata": {},
   "outputs": [
    {
     "data": {
      "text/plain": [
       "[-8, -4, 0, 4, 8]"
      ]
     },
     "execution_count": 12,
     "metadata": {},
     "output_type": "execute_result"
    },
    {
     "data": {
      "text/plain": [
       "[0, 2, 4]"
      ]
     },
     "execution_count": 12,
     "metadata": {},
     "output_type": "execute_result"
    },
    {
     "data": {
      "text/plain": [
       "[4, 2, 0, 2, 4]"
      ]
     },
     "execution_count": 12,
     "metadata": {},
     "output_type": "execute_result"
    },
    {
     "data": {
      "text/plain": [
       "['banana', 'loganberry', 'passion fruit']"
      ]
     },
     "execution_count": 12,
     "metadata": {},
     "output_type": "execute_result"
    },
    {
     "data": {
      "text/plain": [
       "[(0, 0), (1, 1), (2, 4), (3, 9), (4, 16), (5, 25)]"
      ]
     },
     "execution_count": 12,
     "metadata": {},
     "output_type": "execute_result"
    },
    {
     "data": {
      "text/plain": [
       "[1, 2, 3, 4, 5, 6, 7, 8, 9]"
      ]
     },
     "execution_count": 12,
     "metadata": {},
     "output_type": "execute_result"
    },
    {
     "name": "stdout",
     "output_type": "stream",
     "text": [
      "1\n",
      "2\n",
      "3\n",
      "4\n",
      "5\n",
      "6\n",
      "7\n",
      "8\n",
      "9\n"
     ]
    }
   ],
   "source": [
    "vec = [-4, -2, 0, 2, 4]\n",
    "\n",
    "# create a new list with the values doubled\n",
    "[x*2 for x in vec]\n",
    "\n",
    "# filter the list to exclude negative numbers\n",
    "[x for x in vec if x >= 0]\n",
    "\n",
    "# apply a function to all the elements\n",
    "[abs(x) for x in vec]\n",
    "\n",
    "# call a method on each element\n",
    "freshfruit = ['  banana', '  loganberry ', 'passion fruit  ']\n",
    "[fruit.strip() for fruit in freshfruit]\n",
    "\n",
    "# create a list of 2-tuple like (number, square)\n",
    "[(x, x**2) for x in range(6)]\n",
    "\n",
    "# flatten a list using a list comprehension with two 'for'\n",
    "vec = [[1,2,3], [4,5,6], [7,8,9]]\n",
    "[num for elem in vec for num in elem]\n",
    "\n",
    "for elem in vec:\n",
    "    for num in elem:\n",
    "        print(num)"
   ]
  },
  {
   "cell_type": "code",
   "execution_count": 13,
   "id": "1fb5fc33-9bc1-4eff-af9e-ee5d82996323",
   "metadata": {},
   "outputs": [
    {
     "data": {
      "text/plain": [
       "['3.1', '3.14', '3.142', '3.1416', '3.14159']"
      ]
     },
     "execution_count": 13,
     "metadata": {},
     "output_type": "execute_result"
    }
   ],
   "source": [
    "# list comprehension can contain complex expressions and nested functions\n",
    "from math import pi\n",
    "[str(round(pi, i)) for i in range(1, 6)]"
   ]
  },
  {
   "cell_type": "code",
   "execution_count": 15,
   "id": "63c4c95d-a13e-4afb-a6b1-cb1e20ae925e",
   "metadata": {},
   "outputs": [
    {
     "data": {
      "text/plain": [
       "[[1, 5, 9], [2, 6, 10], [3, 7, 11], [4, 8, 12]]"
      ]
     },
     "execution_count": 15,
     "metadata": {},
     "output_type": "execute_result"
    },
    {
     "data": {
      "text/plain": [
       "[[1, 5, 9], [2, 6, 10], [3, 7, 11], [4, 8, 12]]"
      ]
     },
     "execution_count": 15,
     "metadata": {},
     "output_type": "execute_result"
    },
    {
     "data": {
      "text/plain": [
       "[[1, 5, 9], [2, 6, 10], [3, 7, 11], [4, 8, 12]]"
      ]
     },
     "execution_count": 15,
     "metadata": {},
     "output_type": "execute_result"
    }
   ],
   "source": [
    "# 3 times 4 matrix implemented as a list of 3 lists of length 4\n",
    "matrix = [\n",
    "    [1, 2, 3, 4],\n",
    "    [5, 6, 7, 8],\n",
    "    [9, 10, 11, 12]\n",
    "]\n",
    "\n",
    "# this list comprehension will transpose rows and columns\n",
    "[[row[i] for row in matrix] for i in range(4)]\n",
    "\n",
    "# the inner list comprehension is evaluated in the context of the for that follows it\n",
    "transposed = []\n",
    "for i in range(4):\n",
    "    transposed.append([row[i] for row in matrix])\n",
    "\n",
    "transposed\n",
    "\n",
    "# the same as:\n",
    "transposed = []\n",
    "for i in range(4):\n",
    "    # the following 3 lines implement the nested listcomp\n",
    "    transposed_row = []\n",
    "    for row in matrix:\n",
    "        transposed_row.append(row[i])\n",
    "    transposed.append(transposed_row)\n",
    "\n",
    "transposed"
   ]
  },
  {
   "cell_type": "code",
   "execution_count": 21,
   "id": "1dc3a842-dc14-4b5e-8bec-cab062343cb4",
   "metadata": {},
   "outputs": [
    {
     "data": {
      "text/plain": [
       "[(1, 5, 9), (2, 6, 10), (3, 7, 11), (4, 8, 12)]"
      ]
     },
     "execution_count": 21,
     "metadata": {},
     "output_type": "execute_result"
    }
   ],
   "source": [
    "# use zip() function\n",
    "list(zip(*matrix))"
   ]
  },
  {
   "cell_type": "markdown",
   "id": "74a75abb-fb55-4689-93a4-3520f036e9e7",
   "metadata": {},
   "source": [
    "## The `del` statement"
   ]
  },
  {
   "cell_type": "code",
   "execution_count": 23,
   "id": "3e1539ad-3f19-46c8-a826-d1c14fc3825c",
   "metadata": {},
   "outputs": [
    {
     "data": {
      "text/plain": [
       "[1, 66.25, 333, 333, 1234.5]"
      ]
     },
     "execution_count": 23,
     "metadata": {},
     "output_type": "execute_result"
    },
    {
     "data": {
      "text/plain": [
       "[1, 66.25, 1234.5]"
      ]
     },
     "execution_count": 23,
     "metadata": {},
     "output_type": "execute_result"
    }
   ],
   "source": [
    "# remove an item from a list given its index\n",
    "a = [-1, 1, 66.25, 333, 333, 1234.5]\n",
    "del a[0]\n",
    "a\n",
    "\n",
    "del a[2:4]\n",
    "a"
   ]
  },
  {
   "cell_type": "code",
   "execution_count": 24,
   "id": "7ab7dc35-3315-4892-8af8-33baea7765b6",
   "metadata": {},
   "outputs": [
    {
     "ename": "NameError",
     "evalue": "name 'a' is not defined",
     "output_type": "error",
     "traceback": [
      "\u001b[0;31m---------------------------------------------------------------------------\u001b[0m",
      "\u001b[0;31mNameError\u001b[0m                                 Traceback (most recent call last)",
      "Cell \u001b[0;32mIn[24], line 5\u001b[0m\n\u001b[1;32m      2\u001b[0m \u001b[38;5;28;01mdel\u001b[39;00m a\n\u001b[1;32m      4\u001b[0m \u001b[38;5;66;03m# referencing the name a hereafter is an error (at least until another value is assigned to it)\u001b[39;00m\n\u001b[0;32m----> 5\u001b[0m \u001b[43ma\u001b[49m\n",
      "\u001b[0;31mNameError\u001b[0m: name 'a' is not defined"
     ]
    }
   ],
   "source": [
    "# del can also be used to delete entire variable\n",
    "del a\n",
    "\n",
    "# referencing the name a hereafter is an error (at least until another value is assigned to it)\n",
    "a"
   ]
  },
  {
   "cell_type": "markdown",
   "id": "40ca430f-decd-4c4a-a472-2b193855884f",
   "metadata": {},
   "source": [
    "## Tuples and Sequences"
   ]
  },
  {
   "cell_type": "code",
   "execution_count": 35,
   "id": "8d75e67a-3858-4ac8-82d4-6bfc758f891e",
   "metadata": {},
   "outputs": [
    {
     "data": {
      "text/plain": [
       "12345"
      ]
     },
     "execution_count": 35,
     "metadata": {},
     "output_type": "execute_result"
    },
    {
     "data": {
      "text/plain": [
       "(12345, 54321, 'hello!')"
      ]
     },
     "execution_count": 35,
     "metadata": {},
     "output_type": "execute_result"
    },
    {
     "data": {
      "text/plain": [
       "((12345, 54321, 'hello!'), (1, 2, 3, 4, 5))"
      ]
     },
     "execution_count": 35,
     "metadata": {},
     "output_type": "execute_result"
    },
    {
     "data": {
      "text/plain": [
       "([1, 2, 3], [3, 2, 1])"
      ]
     },
     "execution_count": 35,
     "metadata": {},
     "output_type": "execute_result"
    },
    {
     "data": {
      "text/plain": [
       "([-1, 1, 66.25, 333, 333, 1234.5],)"
      ]
     },
     "execution_count": 35,
     "metadata": {},
     "output_type": "execute_result"
    },
    {
     "data": {
      "text/plain": [
       "tuple"
      ]
     },
     "execution_count": 35,
     "metadata": {},
     "output_type": "execute_result"
    },
    {
     "data": {
      "text/plain": [
       "1234.5"
      ]
     },
     "execution_count": 35,
     "metadata": {},
     "output_type": "execute_result"
    },
    {
     "data": {
      "text/plain": [
       "([-1, 1, 66.25, 333, 333],)"
      ]
     },
     "execution_count": 35,
     "metadata": {},
     "output_type": "execute_result"
    }
   ],
   "source": [
    "t = 12345, 54321, 'hello!'\n",
    "t[0]\n",
    "\n",
    "t\n",
    "\n",
    "# Tuples may be nested\n",
    "u = t, (1, 2, 3, 4, 5)\n",
    "u\n",
    "\n",
    "# Tuples are immutable, but they can contain mutable object\n",
    "v = ([1, 2, 3], [3, 2, 1])\n",
    "v\n",
    "\n",
    "a = [-1, 1, 66.25, 333, 333, 1234.5]\n",
    "v = (a,)\n",
    "v\n",
    "type(v)\n",
    "\n",
    "# when the mutable object in the tuple has changed, the tuple also changed\n",
    "a.pop()\n",
    "v"
   ]
  },
  {
   "cell_type": "markdown",
   "id": "9dc391b1-cf6c-45ad-baab-8b999281b23d",
   "metadata": {},
   "source": [
    "Tupeles are [immutable](https://docs.python.org/3/glossary.html#term-immutable), and usually contain a *heterogenous* sequence of elements that are accessed via unpacking or indexing.\n",
    "\n",
    "Lists are [mutable](https://docs.python.org/3/glossary.html#term-mutable), and their elements are usually *homogeneous* and are accessed by iterating over the list."
   ]
  },
  {
   "cell_type": "code",
   "execution_count": 39,
   "id": "793d45a5-ddaa-46dd-9279-a3732f18bfea",
   "metadata": {},
   "outputs": [
    {
     "data": {
      "text/plain": [
       "0"
      ]
     },
     "execution_count": 39,
     "metadata": {},
     "output_type": "execute_result"
    },
    {
     "data": {
      "text/plain": [
       "1"
      ]
     },
     "execution_count": 39,
     "metadata": {},
     "output_type": "execute_result"
    },
    {
     "data": {
      "text/plain": [
       "tuple"
      ]
     },
     "execution_count": 39,
     "metadata": {},
     "output_type": "execute_result"
    },
    {
     "data": {
      "text/plain": [
       "tuple"
      ]
     },
     "execution_count": 39,
     "metadata": {},
     "output_type": "execute_result"
    },
    {
     "data": {
      "text/plain": [
       "()"
      ]
     },
     "execution_count": 39,
     "metadata": {},
     "output_type": "execute_result"
    },
    {
     "data": {
      "text/plain": [
       "('hello',)"
      ]
     },
     "execution_count": 39,
     "metadata": {},
     "output_type": "execute_result"
    }
   ],
   "source": [
    "# tuple that contains 0 or 1 item\n",
    "empty = ()\n",
    "singleton = 'hello',\n",
    "\n",
    "len(empty)\n",
    "len(singleton)\n",
    "\n",
    "type(empty)\n",
    "type(singleton)\n",
    "\n",
    "empty\n",
    "singleton"
   ]
  },
  {
   "cell_type": "code",
   "execution_count": 48,
   "id": "ec0f1184-2076-4f1d-9233-605427d5bb84",
   "metadata": {},
   "outputs": [],
   "source": [
    "# the reverse operation of tuple packing, how does this work???"
   ]
  },
  {
   "cell_type": "markdown",
   "id": "db300198-17de-49c9-804f-20bbc5c5d743",
   "metadata": {},
   "source": [
    "## Sets"
   ]
  },
  {
   "cell_type": "code",
   "execution_count": 49,
   "id": "3eed8cdc-463f-4997-aaf1-807cd7276a3c",
   "metadata": {},
   "outputs": [
    {
     "name": "stdout",
     "output_type": "stream",
     "text": [
      "{'orange', 'pear', 'apple', 'banana'}\n"
     ]
    },
    {
     "data": {
      "text/plain": [
       "True"
      ]
     },
     "execution_count": 49,
     "metadata": {},
     "output_type": "execute_result"
    },
    {
     "data": {
      "text/plain": [
       "False"
      ]
     },
     "execution_count": 49,
     "metadata": {},
     "output_type": "execute_result"
    },
    {
     "data": {
      "text/plain": [
       "{'a', 'b', 'c', 'd', 'r'}"
      ]
     },
     "execution_count": 49,
     "metadata": {},
     "output_type": "execute_result"
    },
    {
     "data": {
      "text/plain": [
       "{'b', 'd', 'r'}"
      ]
     },
     "execution_count": 49,
     "metadata": {},
     "output_type": "execute_result"
    },
    {
     "data": {
      "text/plain": [
       "{'a', 'b', 'c', 'd', 'l', 'm', 'r', 'z'}"
      ]
     },
     "execution_count": 49,
     "metadata": {},
     "output_type": "execute_result"
    },
    {
     "data": {
      "text/plain": [
       "{'a', 'c'}"
      ]
     },
     "execution_count": 49,
     "metadata": {},
     "output_type": "execute_result"
    },
    {
     "data": {
      "text/plain": [
       "{'b', 'd', 'l', 'm', 'r', 'z'}"
      ]
     },
     "execution_count": 49,
     "metadata": {},
     "output_type": "execute_result"
    }
   ],
   "source": [
    "# a set is an unordered collection with no duplicate elements\n",
    "# basic uses include membership testing and eliminating duplicate entries\n",
    "# set objects also support mathematical operations like union, intersection, difference, and symmetric difference\n",
    "# to create an empty set you have to use set()\n",
    "basket = {'apple', 'orange', 'apple', 'pear', 'orange', 'banana'}\n",
    "print(basket)    # show that duplicates have been removed\n",
    "\n",
    "'orange' in basket    # fast membership testing\n",
    "\n",
    "'crabgrass' in basket\n",
    "\n",
    "# Demonstrate set operations on unique letters from two words\n",
    "a = set('abracadabra')\n",
    "b = set('alacazam')\n",
    "\n",
    "a    # unique letters in a\n",
    "\n",
    "a - b    # letters in a but not in b\n",
    "a | b    # letters in a or b or both\n",
    "a & b    # letters in both a and b\n",
    "a ^ b    # letters in a or b but not both"
   ]
  },
  {
   "cell_type": "code",
   "execution_count": 53,
   "id": "131b3b52-3014-4691-8015-15f746d304b1",
   "metadata": {},
   "outputs": [
    {
     "data": {
      "text/plain": [
       "{'d', 'r'}"
      ]
     },
     "execution_count": 53,
     "metadata": {},
     "output_type": "execute_result"
    },
    {
     "data": {
      "text/plain": [
       "2"
      ]
     },
     "execution_count": 53,
     "metadata": {},
     "output_type": "execute_result"
    },
    {
     "data": {
      "text/plain": [
       "'d'"
      ]
     },
     "execution_count": 53,
     "metadata": {},
     "output_type": "execute_result"
    }
   ],
   "source": [
    "# set comprehension\n",
    "a  = {x for x in 'abracadabra' if x not in 'abc'}\n",
    "a\n",
    "\n",
    "len(a)\n",
    "a.pop()"
   ]
  },
  {
   "cell_type": "markdown",
   "id": "84912d58-a656-4931-8881-21b00d0799a2",
   "metadata": {},
   "source": [
    "## Dictionaries"
   ]
  },
  {
   "cell_type": "code",
   "execution_count": 54,
   "id": "43e8d5ed-b92c-4bdc-867b-11df24ce2f28",
   "metadata": {},
   "outputs": [
    {
     "data": {
      "text/plain": [
       "{'jack': 4098, 'sape': 4139, 'guido': 4127}"
      ]
     },
     "execution_count": 54,
     "metadata": {},
     "output_type": "execute_result"
    },
    {
     "data": {
      "text/plain": [
       "4098"
      ]
     },
     "execution_count": 54,
     "metadata": {},
     "output_type": "execute_result"
    },
    {
     "data": {
      "text/plain": [
       "{'jack': 4098, 'guido': 4127, 'irv': 4127}"
      ]
     },
     "execution_count": 54,
     "metadata": {},
     "output_type": "execute_result"
    },
    {
     "data": {
      "text/plain": [
       "['jack', 'guido', 'irv']"
      ]
     },
     "execution_count": 54,
     "metadata": {},
     "output_type": "execute_result"
    },
    {
     "data": {
      "text/plain": [
       "['guido', 'irv', 'jack']"
      ]
     },
     "execution_count": 54,
     "metadata": {},
     "output_type": "execute_result"
    },
    {
     "data": {
      "text/plain": [
       "True"
      ]
     },
     "execution_count": 54,
     "metadata": {},
     "output_type": "execute_result"
    },
    {
     "data": {
      "text/plain": [
       "False"
      ]
     },
     "execution_count": 54,
     "metadata": {},
     "output_type": "execute_result"
    }
   ],
   "source": [
    "# a small example using a dictionary:\n",
    "tel = {'jack': 4098, 'sape': 4139}\n",
    "tel['guido'] = 4127\n",
    "tel\n",
    "\n",
    "tel['jack']\n",
    "\n",
    "del tel['sape']\n",
    "tel['irv'] = 4127\n",
    "tel\n",
    "\n",
    "list(tel)\n",
    "sorted(tel)\n",
    "\n",
    "'guido' in tel\n",
    "'jack' not in tel"
   ]
  },
  {
   "cell_type": "code",
   "execution_count": 55,
   "id": "63560af8-4e49-4a09-8e3d-9229bcbe7195",
   "metadata": {},
   "outputs": [
    {
     "data": {
      "text/plain": [
       "{'sape': 4139, 'guido': 4127, 'jack': 4098}"
      ]
     },
     "execution_count": 55,
     "metadata": {},
     "output_type": "execute_result"
    }
   ],
   "source": [
    "# the dict() constructure builds dictionaries directly from sequences of key-value pairs:\n",
    "dict([('sape', 4139), ('guido', 4127), ('jack', 4098)])"
   ]
  },
  {
   "cell_type": "code",
   "execution_count": 59,
   "id": "fb8f6ab4-851b-4d65-a909-75c8696550a5",
   "metadata": {},
   "outputs": [
    {
     "data": {
      "text/plain": [
       "{2: 4}"
      ]
     },
     "execution_count": 59,
     "metadata": {},
     "output_type": "execute_result"
    },
    {
     "data": {
      "text/plain": [
       "{'s': 0, 't': 1, 'r': 2}"
      ]
     },
     "execution_count": 59,
     "metadata": {},
     "output_type": "execute_result"
    }
   ],
   "source": [
    "# dict comprehensions\n",
    "{x: x**2 for x in range(2, 4, 6)}\n",
    "{x: 'str'.index(x) for x in 'str'}"
   ]
  },
  {
   "cell_type": "code",
   "execution_count": 61,
   "id": "25cc9190-be85-44ea-b3d0-87f900a20706",
   "metadata": {},
   "outputs": [
    {
     "data": {
      "text/plain": [
       "{'s': 0, 't': 1, 'r': 2}"
      ]
     },
     "execution_count": 61,
     "metadata": {},
     "output_type": "execute_result"
    }
   ],
   "source": [
    "# when the keys are simple strings, it is sometimes easier to specify pairs using keyword arguments\n",
    "dict(s=0, t=1, r=2)"
   ]
  },
  {
   "cell_type": "markdown",
   "id": "eb7a00ce-c760-4e15-9e54-c3c5cae4b769",
   "metadata": {},
   "source": [
    "## Looping Techniques"
   ]
  },
  {
   "cell_type": "code",
   "execution_count": 64,
   "id": "5ae396c2-76aa-4ebb-b5cf-23befe04e418",
   "metadata": {},
   "outputs": [
    {
     "name": "stdout",
     "output_type": "stream",
     "text": [
      "gallahad the pure\n",
      "robin the brave\n"
     ]
    }
   ],
   "source": [
    "# using the items method when looping through dictionaries\n",
    "knights = {'gallahad': 'the pure', 'robin': 'the brave'}\n",
    "for k, v in knights.items():\n",
    "    print(k, v)"
   ]
  },
  {
   "cell_type": "code",
   "execution_count": 67,
   "id": "535430cc-11a3-4ac4-9b5d-1e82c62cfb36",
   "metadata": {},
   "outputs": [
    {
     "name": "stdout",
     "output_type": "stream",
     "text": [
      "0 tic\n",
      "1 tac\n",
      "2 toe\n",
      "0 s\n",
      "1 t\n",
      "2 r\n",
      "0 1\n",
      "1 2\n",
      "2 3\n"
     ]
    }
   ],
   "source": [
    "# when looping through a sequence, the position index and corresponding value can be retrieved at the same time using the enumerate() function\n",
    "for i, v in enumerate(['tic', 'tac', 'toe']):\n",
    "    print(i, v)\n",
    "\n",
    "for i, v in enumerate('str'):\n",
    "    print(i, v)\n",
    "\n",
    "for i, v in enumerate((1, 2, 3)):\n",
    "    print(i, v)"
   ]
  },
  {
   "cell_type": "code",
   "execution_count": 68,
   "id": "997db829-1d82-4a6f-a375-bc0268841338",
   "metadata": {},
   "outputs": [
    {
     "name": "stdout",
     "output_type": "stream",
     "text": [
      "What is your name? It is lancelot\n",
      "What is your quest? It is the holy grail\n",
      "What is your favorite color? It is blue\n"
     ]
    }
   ],
   "source": [
    "# to loop over two or more sequence at the same time, the entries can be paired with zip() function\n",
    "questions = ['name', 'quest', 'favorite color']\n",
    "answers = ['lancelot', 'the holy grail', 'blue']\n",
    "for q, a in zip(questions, answers):\n",
    "    print('What is your {0}? It is {1}'.format(q, a))"
   ]
  },
  {
   "cell_type": "code",
   "execution_count": 69,
   "id": "226d7c0c-4002-4484-af17-8521f182c227",
   "metadata": {},
   "outputs": [
    {
     "name": "stdout",
     "output_type": "stream",
     "text": [
      "9\n",
      "7\n",
      "5\n",
      "3\n",
      "1\n"
     ]
    }
   ],
   "source": [
    "# to loop over a sequence in reverse\n",
    "for i in reversed(range(1, 10, 2)):\n",
    "    print(i)"
   ]
  },
  {
   "cell_type": "code",
   "execution_count": 70,
   "id": "2bc86e21-fa56-442c-937e-81e900550dea",
   "metadata": {},
   "outputs": [
    {
     "name": "stdout",
     "output_type": "stream",
     "text": [
      "apple\n",
      "apple\n",
      "banana\n",
      "orange\n",
      "orange\n",
      "pear\n"
     ]
    },
    {
     "data": {
      "text/plain": [
       "['apple', 'orange', 'apple', 'pear', 'orange', 'banana']"
      ]
     },
     "execution_count": 70,
     "metadata": {},
     "output_type": "execute_result"
    }
   ],
   "source": [
    "# loop over a sequence in sorted order, use the sorted() function which returns a new sorted list while leaving the source unaltered\n",
    "basket = ['apple', 'orange', 'apple', 'pear', 'orange', 'banana']\n",
    "for i in sorted(basket):\n",
    "    print(i)\n",
    "\n",
    "basket"
   ]
  },
  {
   "cell_type": "code",
   "execution_count": 72,
   "id": "f4834d7b-f85f-4455-983b-2a0e77780e68",
   "metadata": {},
   "outputs": [
    {
     "name": "stdout",
     "output_type": "stream",
     "text": [
      "apple\n",
      "banana\n",
      "orange\n",
      "pear\n"
     ]
    },
    {
     "data": {
      "text/plain": [
       "[56.2, 51.7, 55.3, 52.5, 47.8]"
      ]
     },
     "execution_count": 72,
     "metadata": {},
     "output_type": "execute_result"
    }
   ],
   "source": [
    "# when loop over a list, it is often safer to leave the source unaltered\n",
    "basket = ['apple', 'orange', 'apple', 'pear', 'orange', 'banana']\n",
    "for i in sorted(set(basket)):\n",
    "    print(i)\n",
    "\n",
    "import math\n",
    "raw_data = [56.2, float('NaN'), 51.7, 55.3, 52.5, float('NaN'), 47.8]\n",
    "filtered_data = []\n",
    "for value in raw_data:\n",
    "    if not math.isnan(value):\n",
    "        filtered_data.append(value)\n",
    "\n",
    "filtered_data"
   ]
  },
  {
   "cell_type": "markdown",
   "id": "a195b3f5-de3b-4760-a77e-06a433c5bd46",
   "metadata": {},
   "source": [
    "## More on Conditions"
   ]
  },
  {
   "cell_type": "code",
   "execution_count": null,
   "id": "911e4ad5-9f16-42fd-aba9-f8e199e81833",
   "metadata": {},
   "outputs": [],
   "source": []
  }
 ],
 "metadata": {
  "kernelspec": {
   "display_name": "Python 3 (ipykernel)",
   "language": "python",
   "name": "python3"
  },
  "language_info": {
   "codemirror_mode": {
    "name": "ipython",
    "version": 3
   },
   "file_extension": ".py",
   "mimetype": "text/x-python",
   "name": "python",
   "nbconvert_exporter": "python",
   "pygments_lexer": "ipython3",
   "version": "3.11.3"
  }
 },
 "nbformat": 4,
 "nbformat_minor": 5
}
