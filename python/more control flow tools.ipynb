{
 "cells": [
  {
   "cell_type": "code",
   "execution_count": 2,
   "id": "99feb00d-12e5-4443-b90c-4dcda55168be",
   "metadata": {},
   "outputs": [],
   "source": [
    "from IPython.core.interactiveshell import InteractiveShell\n",
    "InteractiveShell.ast_node_interactivity = \"all\""
   ]
  },
  {
   "cell_type": "markdown",
   "id": "b92deabb-691a-4a54-994e-618c4f9c4a7f",
   "metadata": {},
   "source": [
    "## `if` statements"
   ]
  },
  {
   "cell_type": "code",
   "execution_count": 3,
   "id": "3ca7a1f5-bc28-4235-bba8-7f9a2bab0ee2",
   "metadata": {},
   "outputs": [
    {
     "name": "stdin",
     "output_type": "stream",
     "text": [
      "Please enter an integer:  4\n"
     ]
    },
    {
     "name": "stdout",
     "output_type": "stream",
     "text": [
      "More\n"
     ]
    }
   ],
   "source": [
    "x = int(input(\"Please enter an integer: \"))\n",
    "\n",
    "if x < 0:\n",
    "    x = 0\n",
    "    print('Negative changed to zero')\n",
    "elif x == 0:    # elif is short for 'else if'\n",
    "    print('Zero')\n",
    "elif x == 1:\n",
    "    print('Single')\n",
    "else:\n",
    "    print('More')"
   ]
  },
  {
   "cell_type": "markdown",
   "id": "ec4c03a6-f2d6-4cd6-a6fb-1e3f3b182b87",
   "metadata": {},
   "source": [
    "## `for` statements"
   ]
  },
  {
   "cell_type": "code",
   "execution_count": 4,
   "id": "9d6761a9-de67-44b6-871e-22ba847e715b",
   "metadata": {},
   "outputs": [
    {
     "name": "stdout",
     "output_type": "stream",
     "text": [
      "cat 3\n",
      "window 6\n",
      "defenestrate 12\n"
     ]
    }
   ],
   "source": [
    "# for statement iterates over the items of any sequence, in the order that they appear in the sequene\n",
    "# Measure the len of some strings\n",
    "words = ['cat', 'window', 'defenestrate']\n",
    "for w in words:\n",
    "    print(w, len(w))"
   ]
  },
  {
   "cell_type": "code",
   "execution_count": 9,
   "id": "32dd8786-267a-496e-8f2c-d8f350880216",
   "metadata": {},
   "outputs": [
    {
     "data": {
      "text/plain": [
       "{'Hans': 'active', 'Éléonore': 'inactive', '景太郎': 'active'}"
      ]
     },
     "execution_count": 9,
     "metadata": {},
     "output_type": "execute_result"
    },
    {
     "data": {
      "text/plain": [
       "dict_items([('Hans', 'active'), ('Éléonore', 'inactive'), ('景太郎', 'active')])"
      ]
     },
     "execution_count": 9,
     "metadata": {},
     "output_type": "execute_result"
    },
    {
     "name": "stdout",
     "output_type": "stream",
     "text": [
      "Éléonore inactive\n"
     ]
    }
   ],
   "source": [
    "# the way to modify a collection while iterating over it is to loop over a copy\n",
    "# Create a sample collection\n",
    "users = {'Hans': 'active', 'Éléonore': 'inactive', '景太郎': 'active'}\n",
    "\n",
    "users.copy()\n",
    "users.items()\n",
    "\n",
    "# Stratege: Iterate over a copy\n",
    "for user, status in users.copy().items():\n",
    "    if status == 'inactive':\n",
    "        print(user, status)\n",
    "        del users[user]\n",
    "\n",
    "# Stratege: Create a new collection\n",
    "active_users = {}\n",
    "for user, status in users.items():\n",
    "    if status == 'active':\n",
    "        active_users[user] = status"
   ]
  },
  {
   "cell_type": "markdown",
   "id": "627b93e7-00f7-4d6b-b9fd-f0c70f98b8c4",
   "metadata": {},
   "source": [
    "## The [rang()](https://docs.python.org/3/library/stdtypes.html#range) function"
   ]
  },
  {
   "cell_type": "code",
   "execution_count": 10,
   "id": "1e537f48-b78e-4f2b-99a5-b46a4cfe8f30",
   "metadata": {},
   "outputs": [
    {
     "name": "stdout",
     "output_type": "stream",
     "text": [
      "0\n",
      "1\n",
      "2\n",
      "3\n",
      "4\n"
     ]
    }
   ],
   "source": [
    "# built-in range() generates arithmetic progressions:\n",
    "for i in range(5):\n",
    "    print(i)"
   ]
  },
  {
   "cell_type": "code",
   "execution_count": 4,
   "id": "79c75b0a-687b-4dd8-985b-c09cbcf290dd",
   "metadata": {},
   "outputs": [
    {
     "data": {
      "text/plain": [
       "[5, 6, 7, 8, 9]"
      ]
     },
     "execution_count": 4,
     "metadata": {},
     "output_type": "execute_result"
    },
    {
     "data": {
      "text/plain": [
       "[0, 3, 6, 9]"
      ]
     },
     "execution_count": 4,
     "metadata": {},
     "output_type": "execute_result"
    },
    {
     "data": {
      "text/plain": [
       "[-10, -40, -70]"
      ]
     },
     "execution_count": 4,
     "metadata": {},
     "output_type": "execute_result"
    }
   ],
   "source": [
    "# the given endpoint is never part of the generated sequence\n",
    "list(range(5, 10))    # the number of the generated sequence is endpoint minus start point\n",
    "\n",
    "list(range(0, 10, 3))    # the number of the generated sequence is endpoint minus start point, then take the floor division of mod the step plus one\n",
    "\n",
    "list(range(-10, -100, -30))    # 终点减去起点的值，除以步长的余数为零，所有产生的序列个数为终点减去起点的值除以步长的商\n"
   ]
  },
  {
   "cell_type": "code",
   "execution_count": 10,
   "id": "1b5833cb-9032-49f0-9554-26864683d0a0",
   "metadata": {},
   "outputs": [
    {
     "name": "stdout",
     "output_type": "stream",
     "text": [
      "0 Mary\n",
      "1 had\n",
      "2 a\n",
      "3 little\n",
      "4 lamb\n",
      "0 Mary\n",
      "1 had\n",
      "2 a\n",
      "3 little\n",
      "4 lamb\n"
     ]
    }
   ],
   "source": [
    "# to iterate over the indices of a sequence, you can combine  range() and len():\n",
    "a = ['Mary', 'had', 'a', 'little', 'lamb']\n",
    "for i in range(len(a)):\n",
    "    print(i, a[i])\n",
    "\n",
    "# more convenient to use the enumerate():\n",
    "for index, item in enumerate(a):\n",
    "    print(index, item)"
   ]
  },
  {
   "cell_type": "code",
   "execution_count": 12,
   "id": "02d449dd-8b9c-483d-87a9-0d0027b23a0d",
   "metadata": {},
   "outputs": [
    {
     "data": {
      "text/plain": [
       "range(0, 10)"
      ]
     },
     "execution_count": 12,
     "metadata": {},
     "output_type": "execute_result"
    },
    {
     "data": {
      "text/plain": [
       "6"
      ]
     },
     "execution_count": 12,
     "metadata": {},
     "output_type": "execute_result"
    }
   ],
   "source": [
    "# this returns an iterable object\n",
    "range(10)\n",
    "\n",
    "# iterable object can be used in sum()\n",
    "sum(range(4))"
   ]
  },
  {
   "cell_type": "markdown",
   "id": "f45023e6-c437-419e-9120-c8ba735ef399",
   "metadata": {},
   "source": [
    "## break and continus statements, and else clauses on loops"
   ]
  },
  {
   "cell_type": "markdown",
   "id": "d777d508-df5a-4eb0-a07f-5ff29116fb34",
   "metadata": {},
   "source": [
    "Loop statements may have an else clause; it is executed when the loop terminates through exhaustion of the iterable (with for) or when the condition becomes false (with while), but not when the loop is terminated by a break statement."
   ]
  },
  {
   "cell_type": "code",
   "execution_count": 14,
   "id": "00439e70-ab17-4f49-96e6-66ad80ae7c62",
   "metadata": {},
   "outputs": [
    {
     "name": "stdout",
     "output_type": "stream",
     "text": [
      "2 is a prime number\n",
      "3 is a prime number\n",
      "4 equals 2 * 2\n",
      "5 is a prime number\n",
      "6 equals 2 * 3\n",
      "7 is a prime number\n",
      "8 equals 2 * 4\n",
      "9 equals 3 * 3\n"
     ]
    }
   ],
   "source": [
    "for n in range(2, 10):\n",
    "    for x in range(2, n):\n",
    "        if n % x == 0:\n",
    "            print(n, 'equals', x, '*', n//x)\n",
    "            break\n",
    "    # the else clause belongs to the main for loop \n",
    "    else:\n",
    "        # loop fell through without finding a factor\n",
    "        print(n, 'is a prime number')"
   ]
  },
  {
   "cell_type": "code",
   "execution_count": 19,
   "id": "58099ccf-f6d5-4cb4-81de-8604477c0240",
   "metadata": {},
   "outputs": [
    {
     "name": "stdout",
     "output_type": "stream",
     "text": [
      "2\n"
     ]
    }
   ],
   "source": [
    "for x in range(2, 3):\n",
    "    print(x)"
   ]
  }
 ],
 "metadata": {
  "kernelspec": {
   "display_name": "Python 3 (ipykernel)",
   "language": "python",
   "name": "python3"
  },
  "language_info": {
   "codemirror_mode": {
    "name": "ipython",
    "version": 3
   },
   "file_extension": ".py",
   "mimetype": "text/x-python",
   "name": "python",
   "nbconvert_exporter": "python",
   "pygments_lexer": "ipython3",
   "version": "3.11.3"
  }
 },
 "nbformat": 4,
 "nbformat_minor": 5
}
