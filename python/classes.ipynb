{
 "cells": [
  {
   "cell_type": "code",
   "execution_count": 1,
   "id": "9e7aa353-e8f3-4d15-b85c-7ffab128052c",
   "metadata": {},
   "outputs": [],
   "source": [
    "from IPython.core.interactiveshell import InteractiveShell\n",
    "InteractiveShell.ast_node_interactivity = \"all\""
   ]
  },
  {
   "cell_type": "markdown",
   "id": "c75fca79-e236-4b9c-ac11-f9d7b1b408e8",
   "metadata": {},
   "source": [
    "Classes provide a means of bundling data and functionality together. Creating a new class creates a new *type* of object, allowing new *instances* of that type to be made. Each class instance can have attributes attached to it for maintaining its state. Class instances can also have methods (defined by its class) for modifying it state."
   ]
  },
  {
   "cell_type": "markdown",
   "id": "cbde66e3-27ab-4676-a690-3f6ef2fc61e0",
   "metadata": {},
   "source": [
    "Python classes provide all the standard features of Object Oriented Programming: the class inheritance mechanism allows multiple base classes, a derived class can override any methods of its base class or classes, and a method can call the method of a base class with the same name."
   ]
  },
  {
   "cell_type": "markdown",
   "id": "5942e5d1-e133-4cbb-a507-028292d22dc6",
   "metadata": {},
   "source": [
    "## A word about names and objects"
   ]
  },
  {
   "cell_type": "markdown",
   "id": "7d8699a4-8334-4cbe-b5af-233522c81dc2",
   "metadata": {},
   "source": [
    "Objects have individuality, and multiple names (in multiple scopes) can be bound to the same object. This is known as aliasing in other languags. However, aliasing has a possibly surprising effect on the semantics of Python code involving mutable objects, such as lists, dictionaries, and most other types."
   ]
  },
  {
   "cell_type": "markdown",
   "id": "78670038-339f-411a-9ad8-754f769ea354",
   "metadata": {},
   "source": [
    "## Python scopes and namespaces"
   ]
  },
  {
   "cell_type": "markdown",
   "id": "fe42bfc6-85a7-4777-be16-aed15fc281e2",
   "metadata": {},
   "source": [
    "A *namespace* is a mapping from names to objects. Most namespaces are currently implemented as Python dictionaries, but that's normally not noticeable in any way (except for performance), and it may change in the future. Examples of namespaces are:\n",
    "- the set of built-in names (containing functions such as [abs](https://docs.python.org/3/library/functions.html#abs), and built-in exception names)\n",
    "- the global names in a module\n",
    "- the local names in a function invocation\n",
    "- In a sense the set of attributes of an object also form a namespace."
   ]
  },
  {
   "cell_type": "markdown",
   "id": "1a5e9c1f-aa5b-4130-9148-04c4d16fc734",
   "metadata": {},
   "source": [
    "Strictly speaking, references to names in modules are *attribute* reference: in the expression `modname.funcname`, `modname` is a module object and `funcname` is an attribute of it. In this case there happens to be a straightforward mapping between the module's attributes and the global names defined in the module: they share the same namespace!"
   ]
  },
  {
   "cell_type": "markdown",
   "id": "02990087-cb59-4679-9b76-bdcf7026ac6e",
   "metadata": {},
   "source": [
    "Namespaces are created at different moments and have different lifetimes. The statements executed by the top-level invocation of the interpreter, either read from a script file or interactively, are considered part of a module called [__main__](https://docs.python.org/3/library/__main__.html#module-__main__), so they have their own global namespace. (The built-in names actually also live in **a** module; this is called [builtins](https://docs.python.org/3/library/builtins.html#module-builtins).)"
   ]
  },
  {
   "cell_type": "markdown",
   "id": "759693a6-f961-4390-9e6d-1dec9a8ef89b",
   "metadata": {},
   "source": [
    "A *scope* is a textual region of a Python program where a namespace is directly accessible. \"Directly accessible\" here means that an unqualified reference to a name attempts to find the name in the namespaces.\n",
    "\n",
    "Although scopes are determined statically, they are used dynamically. At any time during execution, there are 3 or 4 nested scopes whose namespaces are directly accessible:\n",
    "- the innermost scope, which is searched first, contains the local names\n",
    "- the scopes of any enclosing functions, which are searched starting with the nearest enclosing scope, contain non-local, but also non-global names\n",
    "- the next-to-last scope contains the current module's global names\n",
    "- the outermost scope (searched last) is the namespace containing built-in names"
   ]
  },
  {
   "cell_type": "markdown",
   "id": "03fd259e-7068-480e-a755-a4b9b8991ac7",
   "metadata": {},
   "source": [
    "If a name is declared global, then all references and assignments go directly to the next-to-last scope containing the module's global names. To rebind variables found outside of the innermost scope, the [nonlocal](https://docs.python.org/3/reference/simple_stmts.html#nonlocal) statement can be used; if not declared nonlocal, those variables are read-only (an attempt to write to such a variable will simply create a *new* local variable in the innermost scope, leaving the identically named outer variable unchanged)."
   ]
  },
  {
   "cell_type": "markdown",
   "id": "04c51dda-663e-45db-9847-893aa8691232",
   "metadata": {},
   "source": [
    "The [global](https://docs.python.org/3/reference/simple_stmts.html#global) statement can be used to indicate that particular variables live in the global scope and should be rebound there; the [nonlocal](https://docs.python.org/3/reference/simple_stmts.html#nonlocal) statement indicates that particular variables live in an enclosing scope and should be rebound there."
   ]
  },
  {
   "cell_type": "code",
   "execution_count": 2,
   "id": "93c1df77-b49f-43a9-8f36-ce8ff975e854",
   "metadata": {},
   "outputs": [
    {
     "name": "stdout",
     "output_type": "stream",
     "text": [
      "After local assignment: test spam\n",
      "After nonlocal assignment: nonlocal spam\n",
      "After global assignment: nonlocal spam\n",
      "In global scope: global spam\n"
     ]
    }
   ],
   "source": [
    "# scopes and namespaces example\n",
    "def scope_test():\n",
    "    def do_local():\n",
    "        spam = \"local spam\"\n",
    "\n",
    "    def do_nonlocal():\n",
    "        nonlocal spam\n",
    "        spam = \"nonlocal spam\"\n",
    "\n",
    "    def do_global():\n",
    "        global spam\n",
    "        spam = \"global spam\"\n",
    "\n",
    "    spam = \"test spam\"\n",
    "    do_local()\n",
    "    print(\"After local assignment:\", spam)\n",
    "    do_nonlocal()\n",
    "    print(\"After nonlocal assignment:\", spam)\n",
    "    do_global()\n",
    "    print(\"After global assignment:\", spam)\n",
    "\n",
    "scope_test()\n",
    "print(\"In global scope:\", spam)"
   ]
  },
  {
   "cell_type": "markdown",
   "id": "fbdd0af5-aa24-4d51-b912-985b05284357",
   "metadata": {},
   "source": [
    "Note how the *local* assignment (which is default) didn't change *scope_test*'s binding of *spam*. The nonlocal assignment changed *scope_test*'s binding of *spam*, and the global assignment changed the module-level binding."
   ]
  },
  {
   "cell_type": "markdown",
   "id": "8a88f53b-a120-4582-a62e-5fce090b46a7",
   "metadata": {},
   "source": [
    "## A first look at classes"
   ]
  },
  {
   "cell_type": "markdown",
   "id": "316a2ef6-e2a4-42ac-b4c5-1233e092950b",
   "metadata": {},
   "source": [
    "When a class definition is entered, a new **namespace** is created, and used as the **local scope** - thus, all assignments to local variables go into this new namespace. In particular, function definition bind the name of the *new* function here.\n",
    "\n",
    "When a class definition is left normally (via the end), a *class object* is created. This is basically a wrapper around the contents of the namespace created by the class definition. The original local scope (the one in effect just before the class definition was entered) is reinstated, and the class object is bound here to the class name given in the class definition header."
   ]
  },
  {
   "cell_type": "markdown",
   "id": "488efbaf-375c-4d82-871b-8ea091de8579",
   "metadata": {},
   "source": [
    "Class objects support two kinds of operations: **attribute reference** and **instantiation**."
   ]
  },
  {
   "cell_type": "code",
   "execution_count": 3,
   "id": "4157d809-8286-4658-9622-5beb16281f66",
   "metadata": {},
   "outputs": [
    {
     "name": "stdout",
     "output_type": "stream",
     "text": [
      "['__class__', '__delattr__', '__dict__', '__dir__', '__doc__', '__eq__', '__format__', '__ge__', '__getattribute__', '__getstate__', '__gt__', '__hash__', '__init__', '__init_subclass__', '__le__', '__lt__', '__module__', '__ne__', '__new__', '__reduce__', '__reduce_ex__', '__repr__', '__setattr__', '__sizeof__', '__str__', '__subclasshook__', '__weakref__', 'f', 'i']\n"
     ]
    },
    {
     "data": {
      "text/plain": [
       "12345"
      ]
     },
     "execution_count": 3,
     "metadata": {},
     "output_type": "execute_result"
    },
    {
     "data": {
      "text/plain": [
       "<function __main__.MyClass.f(self)>"
      ]
     },
     "execution_count": 3,
     "metadata": {},
     "output_type": "execute_result"
    },
    {
     "data": {
      "text/plain": [
       "123"
      ]
     },
     "execution_count": 3,
     "metadata": {},
     "output_type": "execute_result"
    },
    {
     "data": {
      "text/plain": [
       "<__main__.MyClass at 0x10abeeb90>"
      ]
     },
     "execution_count": 3,
     "metadata": {},
     "output_type": "execute_result"
    },
    {
     "data": {
      "text/plain": [
       "123"
      ]
     },
     "execution_count": 3,
     "metadata": {},
     "output_type": "execute_result"
    },
    {
     "data": {
      "text/plain": [
       "<bound method MyClass.f of <__main__.MyClass object at 0x10abeeb90>>"
      ]
     },
     "execution_count": 3,
     "metadata": {},
     "output_type": "execute_result"
    },
    {
     "data": {
      "text/plain": [
       "'hello world'"
      ]
     },
     "execution_count": 3,
     "metadata": {},
     "output_type": "execute_result"
    }
   ],
   "source": [
    "# attribute references\n",
    "class MyClass:\n",
    "    def __init__(self):\n",
    "        self.data = []\n",
    "        \n",
    "    \"\"\"A simple example class\"\"\"\n",
    "    i = 12345\n",
    "\n",
    "    def f(self):\n",
    "        return 'hello world'\n",
    "\n",
    "\n",
    "# dir() function returns MyClass's attributes, and recursively the attributes of its bases.\n",
    "print(dir(MyClass))\n",
    "\n",
    "# This attribute reference returns an integer\n",
    "MyClass.i\n",
    "# This attribute reference returns a function object\n",
    "MyClass.f\n",
    "\n",
    "# change the value of MyClass.i by assignment\n",
    "MyClass.i = 123\n",
    "MyClass.i\n",
    "\n",
    "# __doc__ is a valid attribute, returns the docstring belonging to the class\n",
    "MyClass.__doc__\n",
    "\n",
    "# Class instantiation uses function notation, this returns a new instance of the class, and assigns this object to the local variable x\n",
    "x = MyClass()\n",
    "x\n",
    "x.i\n",
    "x.f\n",
    "x.f()"
   ]
  },
  {
   "cell_type": "markdown",
   "id": "80b1e752-d2f6-4f4d-968d-6ec647a23988",
   "metadata": {},
   "source": [
    "Many classes like to create objects with instances customized to a specific *initial state*. Therefore a class may define a *special* method named \\_\\_init__(), like this:"
   ]
  },
  {
   "cell_type": "code",
   "execution_count": 4,
   "id": "8978831b-e4a2-4258-9d03-1448a2c9f83e",
   "metadata": {},
   "outputs": [],
   "source": [
    "def __init__(self):\n",
    "    self.data = []"
   ]
  },
  {
   "cell_type": "markdown",
   "id": "fa4b9685-8885-4725-8fb2-6bb1c1dbe90b",
   "metadata": {},
   "source": [
    "When a class defines an \\_\\_init__() method, class instantiation *automatically* invokes \\_\\_init__() for the newly created class instance."
   ]
  },
  {
   "cell_type": "code",
   "execution_count": 5,
   "id": "552da357-6ca1-41f4-bb9a-811610a825e7",
   "metadata": {},
   "outputs": [
    {
     "data": {
      "text/plain": [
       "[]"
      ]
     },
     "execution_count": 5,
     "metadata": {},
     "output_type": "execute_result"
    }
   ],
   "source": [
    "x.data"
   ]
  },
  {
   "cell_type": "markdown",
   "id": "f82db0df-297f-4d4f-a1cf-81d556dd876e",
   "metadata": {},
   "source": [
    "The \\_\\_init__() method may have *arguments* for greater flexibility. In that case, arguments given to the class instantiation operator are *passed to* \\_\\_init__(). For example:"
   ]
  },
  {
   "cell_type": "code",
   "execution_count": 6,
   "id": "6a63fd25-d783-4ba1-b4dc-a10f28107296",
   "metadata": {},
   "outputs": [
    {
     "data": {
      "text/plain": [
       "3.0"
      ]
     },
     "execution_count": 6,
     "metadata": {},
     "output_type": "execute_result"
    },
    {
     "data": {
      "text/plain": [
       "-4.5"
      ]
     },
     "execution_count": 6,
     "metadata": {},
     "output_type": "execute_result"
    }
   ],
   "source": [
    "class Complex:\n",
    "    def __init__(self, realpart, imagpart):\n",
    "        self.r = realpart\n",
    "        self.i = imagpart\n",
    "\n",
    "y = Complex(3.0, -4.5)\n",
    "y.r\n",
    "y.i"
   ]
  },
  {
   "cell_type": "markdown",
   "id": "d8a9ca34-a75a-4ecb-8efc-6c1771a61cc4",
   "metadata": {},
   "source": [
    "### Instance Objects"
   ]
  },
  {
   "cell_type": "markdown",
   "id": "95fa5ad9-0c0b-459d-9464-9040df53f40f",
   "metadata": {},
   "source": [
    "The only operations understood by instance objects are **attribute references**. There are two kinds of valid attribute names: *data attributes* and *methods*.\n",
    "\n",
    "*Data attributes* need not be declared; like local variables, they spring into existence when they are first assigned to."
   ]
  },
  {
   "cell_type": "code",
   "execution_count": 7,
   "id": "611604a9-b7b7-4db9-86f9-16d0fcf1504f",
   "metadata": {},
   "outputs": [
    {
     "name": "stdout",
     "output_type": "stream",
     "text": [
      "16\n"
     ]
    }
   ],
   "source": [
    "# This will print the value 16, without leaving a trace\n",
    "x.counter = 1\n",
    "while x.counter < 10:\n",
    "    x.counter = x.counter * 2\n",
    "print(x.counter)\n",
    "del x.counter"
   ]
  },
  {
   "cell_type": "markdown",
   "id": "7116c71e-787d-4145-8046-9926c3a2a97a",
   "metadata": {},
   "source": [
    "The other kind of instance attribute reference is a *method*. A method is a function that \"belongs to\" an object.\n",
    "\n",
    "Valid method names of an instance object depend on its class. By definition, all attributes of a class that are function objects define corresponding methods of its instances. So in above example, `x.f` is a valid method reference, since `MyClass.f` is a function; but `x.i` is not, since `MyClass.i` is not. But `x.f` is not the same thing as `MyClass.f` -- it is a *method object*, not a function object."
   ]
  },
  {
   "cell_type": "markdown",
   "id": "abbf0718-fea7-4ed1-871e-ba90b5f72a75",
   "metadata": {},
   "source": [
    "### Method Objects"
   ]
  },
  {
   "cell_type": "code",
   "execution_count": 8,
   "id": "645026c8-5310-464d-ad2b-72163fcc93f7",
   "metadata": {},
   "outputs": [
    {
     "data": {
      "text/plain": [
       "'hello world'"
      ]
     },
     "execution_count": 8,
     "metadata": {},
     "output_type": "execute_result"
    }
   ],
   "source": [
    "# Usually, a method is called right after it is bound\n",
    "x.f()"
   ]
  },
  {
   "cell_type": "code",
   "execution_count": 9,
   "id": "afc55cb5-4c8d-4915-9394-b8250cb823c6",
   "metadata": {},
   "outputs": [
    {
     "name": "stdout",
     "output_type": "stream",
     "text": [
      "hello world\n",
      "hello world\n",
      "hello world\n"
     ]
    }
   ],
   "source": [
    "# However, it is not necessary to call a method right away; x.f is a method object and can be stored away\n",
    "xf = x.f\n",
    "x.counter = 1\n",
    "while x.counter < 5:\n",
    "    print(xf())\n",
    "    x.counter = x.counter * 2\n",
    "\n",
    "del x.counter"
   ]
  },
  {
   "cell_type": "markdown",
   "id": "a1d956b8-0fda-4492-98b0-e81b5d181cd4",
   "metadata": {},
   "source": [
    "The special thing about methods is that the instance object is passed as the first argument of the function. In the above example, the call `x.f()` is exactly equivalent to `MyClass.f(x)`. In general, calling a method with a list of *n* arguments is equivalent to calling the corresponding function with an argument list that is created by inserting the method's instance object before the first argument."
   ]
  },
  {
   "cell_type": "markdown",
   "id": "25b31b24-b877-4e11-b058-b43d74154c17",
   "metadata": {},
   "source": [
    "like: `x.f(1, 2, 3)` is equivalent to `MyClass.f(x, 1, 2, 3)`"
   ]
  },
  {
   "cell_type": "markdown",
   "id": "9844bc79-b2ce-4de9-b0cf-4e2c694a9c71",
   "metadata": {},
   "source": [
    "When a non-data attribute of an instance is referenced, the instance’s class is searched. If the name denotes a valid class attribute that is a function object, a **method object** is created by packing (pointers to) the *instance object* and the *function object* just found together in an abstract object: this is the method object. When the method object is called with an argument list, a new argument list is constructed from the instance object and the *argument list*, and the function object is called with this new argument list."
   ]
  },
  {
   "cell_type": "markdown",
   "id": "0b4bf636-fbb0-4e0a-b18b-6f414140a771",
   "metadata": {},
   "source": [
    "### Class and Instance Variables"
   ]
  },
  {
   "cell_type": "markdown",
   "id": "cc7001d4-e504-4000-8342-977f91f096cf",
   "metadata": {},
   "source": [
    "Generally speaking, instance variables are for data *unique* to each instance and class variable are for attributes and methods *shared* by all instances of the class:"
   ]
  },
  {
   "cell_type": "code",
   "execution_count": 17,
   "id": "f9ee0988-289e-422d-a68a-1f40e182aaee",
   "metadata": {},
   "outputs": [
    {
     "data": {
      "text/plain": [
       "'canine'"
      ]
     },
     "execution_count": 17,
     "metadata": {},
     "output_type": "execute_result"
    },
    {
     "data": {
      "text/plain": [
       "'canine'"
      ]
     },
     "execution_count": 17,
     "metadata": {},
     "output_type": "execute_result"
    },
    {
     "data": {
      "text/plain": [
       "'Fido'"
      ]
     },
     "execution_count": 17,
     "metadata": {},
     "output_type": "execute_result"
    },
    {
     "data": {
      "text/plain": [
       "'Buddy'"
      ]
     },
     "execution_count": 17,
     "metadata": {},
     "output_type": "execute_result"
    },
    {
     "data": {
      "text/plain": [
       "['roll over']"
      ]
     },
     "execution_count": 17,
     "metadata": {},
     "output_type": "execute_result"
    },
    {
     "data": {
      "text/plain": [
       "['play dead']"
      ]
     },
     "execution_count": 17,
     "metadata": {},
     "output_type": "execute_result"
    },
    {
     "data": {
      "text/plain": [
       "'cat'"
      ]
     },
     "execution_count": 17,
     "metadata": {},
     "output_type": "execute_result"
    }
   ],
   "source": [
    "class Dog:\n",
    "\n",
    "    kind = 'canine'    # class variable shared by all instances\n",
    "\n",
    "    def __init__(self, name):\n",
    "        self.name = name    # instance variable unique to each instance\n",
    "        self.tricks = []    # creates a new empty list for each dog, it is also an instance variable\n",
    "        \n",
    "    def add_trick(self, trick):    # method shared by all instances\n",
    "        self.tricks.append(trick)\n",
    "\n",
    "\n",
    "d = Dog('Fido')\n",
    "e = Dog('Buddy')\n",
    "\n",
    "d.kind    # shared by all dogs\n",
    "e.kind    # shared by all dogs\n",
    "\n",
    "d.name    # unique to d\n",
    "e.name    # unique to e\n",
    "\n",
    "d.add_trick('roll over')\n",
    "e.add_trick('play dead')\n",
    "d.tricks\n",
    "e.tricks\n",
    "\n",
    "d.kind = 'cat'\n",
    "d.kind"
   ]
  },
  {
   "cell_type": "markdown",
   "id": "02d6d60c-6634-43a0-9129-1c9ca2345c3a",
   "metadata": {},
   "source": [
    "## Random Remarks"
   ]
  },
  {
   "cell_type": "code",
   "execution_count": 11,
   "id": "1082b3e0-824c-4509-a052-cfd1c89da9c5",
   "metadata": {},
   "outputs": [
    {
     "name": "stdout",
     "output_type": "stream",
     "text": [
      "storage west\n",
      "storage east\n"
     ]
    }
   ],
   "source": [
    "# if the same acctribute name occurs in both an instance and in a class, then attribute lookup prioritize the instance\n",
    "class Warehouse:\n",
    "    purpose = 'storage'\n",
    "    region = 'west'\n",
    "\n",
    "w1 = Warehouse()\n",
    "print(w1.purpose, w1.region)\n",
    "\n",
    "w2 = Warehouse\n",
    "w2.region = 'east'\n",
    "print(w2.purpose, w2.region)"
   ]
  },
  {
   "cell_type": "code",
   "execution_count": 13,
   "id": "25ef4344-0e04-4347-9569-9793810c8de1",
   "metadata": {},
   "outputs": [],
   "source": [
    "# assigning a function object to a local variable in the class is also ok\n",
    "# Function defining outside the class\n",
    "def f1(self, x, y):\n",
    "    return min(x, x+y)\n",
    "\n",
    "class C:\n",
    "    f = f1\n",
    "\n",
    "    def g(self):\n",
    "        return 'hello world'\n"
   ]
  },
  {
   "cell_type": "markdown",
   "id": "79b24dd6-fc57-4503-b43a-a98a947178ff",
   "metadata": {},
   "source": [
    "Now, `f` and `g` are all attributes of class C that refer to function objects, and consequently, they are all methods of instances of C.\n",
    "\n",
    "Methods may call other methods by using method attributes of the `self` argument:"
   ]
  },
  {
   "cell_type": "code",
   "execution_count": 14,
   "id": "12629849-a45b-4f0a-8a0b-6f27ef493509",
   "metadata": {},
   "outputs": [],
   "source": [
    "class Bag:\n",
    "    def __init__(self):\n",
    "        self.data = []    # instnce variable unique to each instance\n",
    "\n",
    "    def add(self, x):\n",
    "        self.data.append(x)\n",
    "\n",
    "    def addtwice(self, x):\n",
    "        self.add(x)    # methods call other method\n",
    "        self.add(x)"
   ]
  },
  {
   "cell_type": "markdown",
   "id": "0be64a1b-447a-4e68-80fc-05ef7909bfac",
   "metadata": {},
   "source": [
    "While one rarely encounters a good reason for using global data in a method. *Functions* and *modules* imported into the global scope can be used by methods, as well as function and *classes* defined in it.\n",
    "\n",
    "Each value is an object, and therefore has a *class* (also called its *type*). It is stored as `object.__class__`."
   ]
  },
  {
   "cell_type": "markdown",
   "id": "da1028af-028d-44b9-9436-fdcb5a01adab",
   "metadata": {},
   "source": [
    "## Inheritance"
   ]
  },
  {
   "cell_type": "markdown",
   "id": "deed5a9d-3446-4666-bd5c-c930cb61a9ee",
   "metadata": {},
   "source": [
    "The syntax for a derived class definition looks like this:\n",
    "```Python\n",
    "class DerivedClassName(BaseClassName):\n",
    "    <statement-1>\n",
    "    .\n",
    "    .\n",
    "    .\n",
    "    <statement-N>\n",
    "```\n",
    "\n",
    "When the base class is defined in another module:\n",
    "```Python\n",
    "class DerivedClassName(modname.BaseClassName)\n",
    "```"
   ]
  },
  {
   "cell_type": "markdown",
   "id": "cee97d77-d6a7-4a39-9528-233e95c5a8fd",
   "metadata": {},
   "source": [
    "An overriding method in a derived class may in fact want to *extend* rather than simply replace the base class method of the same name. There is a simple way to call the base class method directly: just call `BaseClassName.methodname(self, arguments)`."
   ]
  },
  {
   "cell_type": "markdown",
   "id": "30255629-81cc-4906-afab-9266cb552ac2",
   "metadata": {},
   "source": [
    "Python has two built-in functions that work with inheritance:\n",
    "- Use [isinstance()](https://docs.python.org/3/library/functions.html#isinstance) to check an instance’s type: `isinstance(obj, int)` will be True only if `obj.__class__` is int or some class *derived from* int.\n",
    "\n",
    "- Use [issubclass()](https://docs.python.org/3/library/functions.html#issubclass) to check class inheritance: `issubclass(bool, int)` is `True` since [bool](https://docs.python.org/3/library/functions.html#bool) is a subclass of int. However, `issubclass(float, int)` is `False` since float is not a subclass of int."
   ]
  },
  {
   "cell_type": "markdown",
   "id": "cb8f787e-3d85-4244-8774-9bd875c53985",
   "metadata": {},
   "source": [
    "a class definition with *multiple* base classes looks like this\n",
    "```Python\n",
    "class DerivedClassName(Base1, Base2, Base3):\n",
    "    <statement-1>\n",
    "    .\n",
    "    .\n",
    "    .\n",
    "    <statement-N>\n",
    "```"
   ]
  },
  {
   "cell_type": "markdown",
   "id": "2d6a0947-28b3-47c5-b20b-960fbfd14e92",
   "metadata": {},
   "source": [
    "The method resolution order changes *dynamically* to support *cooperative calls* to [super()](https://docs.python.org/3/library/functions.html#super). \n",
    "\n",
    "*Dynamic ordering* is necessary because all cases of multiple inheritances exhibit one or more diamond relationships (where at least one of the parent classes can be accessed through multiple paths from the bottommost class).??"
   ]
  },
  {
   "cell_type": "markdown",
   "id": "211e8d88-38f5-47e1-8a51-fd01fc2493eb",
   "metadata": {},
   "source": [
    "## Private Variables"
   ]
  },
  {
   "cell_type": "markdown",
   "id": "0f19d047-7afa-4e67-b929-893111a5feec",
   "metadata": {},
   "source": [
    "There is a convention that is followed by most Python code: a name prefixed with an *underscore* (e.g. _spam) should be treated as a *non-public* part of the API (whether it is a function, a method or a data member). It should be considered an implementation detail and subject to change without notice."
   ]
  },
  {
   "cell_type": "code",
   "execution_count": 26,
   "id": "ebf89477-9af7-4843-9677-67c64ff574ef",
   "metadata": {},
   "outputs": [
    {
     "data": {
      "text/plain": [
       "<__main__.MappingSubclass at 0x10bfec050>"
      ]
     },
     "execution_count": 26,
     "metadata": {},
     "output_type": "execute_result"
    },
    {
     "data": {
      "text/plain": [
       "<function __main__.MappingSubclass.update(self, keys, values)>"
      ]
     },
     "execution_count": 26,
     "metadata": {},
     "output_type": "execute_result"
    }
   ],
   "source": [
    "# name mangling let subclass override methods without breaking intraclass method calls\n",
    "class Mapping:\n",
    "    def __init__(self, iterable):\n",
    "        self.items_list = []\n",
    "        self.__update(iterable)\n",
    "\n",
    "    def update(self, iterable):\n",
    "        for item in iterable:\n",
    "            self.items_list.append(item)\n",
    "\n",
    "    __update = update    # private copy of original update() method\n",
    "\n",
    "class MappingSubclass(Mapping):\n",
    "\n",
    "    def update(self, keys, values):\n",
    "        # provides new signature for update()\n",
    "        # but does not break __ini__()\n",
    "        for item in zip(keys, values):\n",
    "            self.items_list.append(item)\n",
    "\n",
    "mapping = MappingSubclass([1, 2])\n",
    "mapping.update.__self__    # the instance object with the method update()\n",
    "mapping.update.__func__    # the function object corresponding to the method"
   ]
  },
  {
   "cell_type": "markdown",
   "id": "71658f88-d2a9-4d6f-a498-133bd2639e7a",
   "metadata": {},
   "source": [
    "The above example would work even if `MappingSubclass` were to introduce a `__update` identifier since it is replaced with `_Mapping__update` in the Mapping class and `_MappingSubclass__update` in the `MappingSubclass` class respectively."
   ]
  },
  {
   "cell_type": "markdown",
   "id": "f65085bc-faf9-4370-b294-5dc68f3044a6",
   "metadata": {},
   "source": [
    "## Odds and Ends"
   ]
  },
  {
   "cell_type": "markdown",
   "id": "c9e6eed6-d87c-45bd-aba7-a8444c647b40",
   "metadata": {},
   "source": [
    "use [dataclasses](https://docs.python.org/3/library/dataclasses.html#module-dataclasses) for bundling together a few named data items."
   ]
  },
  {
   "cell_type": "code",
   "execution_count": 20,
   "id": "95b87ce6-559b-400e-ae88-15f3d9dc316b",
   "metadata": {},
   "outputs": [],
   "source": [
    "from dataclasses import dataclass\n",
    "\n",
    "@dataclass\n",
    "class Employee:\n",
    "    name: str\n",
    "    dept: str\n",
    "    salary: int"
   ]
  },
  {
   "cell_type": "code",
   "execution_count": 21,
   "id": "19b3b29b-e543-40ed-9672-7d04dee216b1",
   "metadata": {},
   "outputs": [
    {
     "data": {
      "text/plain": [
       "'computer lab'"
      ]
     },
     "execution_count": 21,
     "metadata": {},
     "output_type": "execute_result"
    },
    {
     "data": {
      "text/plain": [
       "1000"
      ]
     },
     "execution_count": 21,
     "metadata": {},
     "output_type": "execute_result"
    }
   ],
   "source": [
    "john = Employee('John', 'computer lab', 1000)\n",
    "\n",
    "john.dept\n",
    "john.salary"
   ]
  },
  {
   "cell_type": "markdown",
   "id": "a0f0feb3-c781-4f9d-8911-01985333fbe8",
   "metadata": {},
   "source": [
    "A piece of Python code that expects a particular *abstract data type* can often be passed a class that *emulates* the methods of that data type instead. For instance, if you have a function that formats some data from a file object, you can define a class with methods read() and readline() that get the data from a string buffer instead, and pass it as an argument. ??\n",
    "\n",
    "Instance method objects have *attributes*, too: m.\\_\\_self__ is the *instance object* with the method m(), and m.\\_\\_func__ is the *function object* corresponding to the method."
   ]
  },
  {
   "cell_type": "markdown",
   "id": "53ebc024-4b50-4fd5-afbd-b9b2ac39c105",
   "metadata": {},
   "source": [
    "## Iterators"
   ]
  },
  {
   "cell_type": "code",
   "execution_count": 37,
   "id": "dbb33724-baf4-4906-a172-d0908b3be45f",
   "metadata": {},
   "outputs": [
    {
     "name": "stdout",
     "output_type": "stream",
     "text": [
      "S\n",
      "t\n",
      "r\n",
      "i\n",
      "n\n",
      "g\n",
      "1\n",
      "2\n",
      "3\n",
      "1\n",
      "2\n",
      "3\n",
      "one\n",
      "two\n",
      "3 two\n"
     ]
    }
   ],
   "source": [
    "# most container objects can be looped over using a for statement\n",
    "for ele in 'String':\n",
    "    print(ele)\n",
    "\n",
    "for ele in [1, 2, 3]:\n",
    "    print(ele)\n",
    "\n",
    "for ele in (1, 2, 3):\n",
    "    print(ele)\n",
    "\n",
    "for key in {'one': 1, 'two': 2}:\n",
    "    print(key)\n",
    "\n",
    "print(ele, key)"
   ]
  },
  {
   "cell_type": "markdown",
   "id": "127170b8-f21b-4be6-aeec-1836037df259",
   "metadata": {},
   "source": [
    "This style of access is clear, concise, and convenient. The use of iterators *pervades* and *unifies* Python. Behind the scenes, the [for](https://docs.python.org/3/reference/compound_stmts.html#for) statement calls [iter()](https://docs.python.org/3/library/functions.html#iter) on the container object. The function returns an *iterator object* that defines the method [\\_\\_next__](https://docs.python.org/3/library/stdtypes.html#iterator.__next__) which accesses elements in the container one at a time. When there are no more elements, `__next__()` raises a StopIteration exception which tells the for loop to terminate. You can call the \\_\\_next__() method using the [next()](https://docs.python.org/3/library/functions.html#next) built-in function;"
   ]
  },
  {
   "cell_type": "code",
   "execution_count": 40,
   "id": "53c0382b-6804-4102-870f-452fbfc52587",
   "metadata": {},
   "outputs": [
    {
     "data": {
      "text/plain": [
       "<str_ascii_iterator at 0x10bd27be0>"
      ]
     },
     "execution_count": 40,
     "metadata": {},
     "output_type": "execute_result"
    },
    {
     "data": {
      "text/plain": [
       "<method-wrapper '__next__' of str_ascii_iterator object at 0x10bd27be0>"
      ]
     },
     "execution_count": 40,
     "metadata": {},
     "output_type": "execute_result"
    },
    {
     "data": {
      "text/plain": [
       "'a'"
      ]
     },
     "execution_count": 40,
     "metadata": {},
     "output_type": "execute_result"
    },
    {
     "data": {
      "text/plain": [
       "'b'"
      ]
     },
     "execution_count": 40,
     "metadata": {},
     "output_type": "execute_result"
    },
    {
     "data": {
      "text/plain": [
       "'c'"
      ]
     },
     "execution_count": 40,
     "metadata": {},
     "output_type": "execute_result"
    }
   ],
   "source": [
    "s = 'abc'\n",
    "it = iter(s)\n",
    "it\n",
    "\n",
    "it.__next__\n",
    "\n",
    "next(it)\n",
    "next(it)\n",
    "next(it)"
   ]
  },
  {
   "cell_type": "markdown",
   "id": "34ee888e-2805-4044-9b6c-597a9d977671",
   "metadata": {},
   "source": [
    "Having seen the mechanics behind the *iterator protocol*, it is easy to add iterator behavior to your classes.\n",
    "\n",
    "Define an \\_\\_iter__() method which returns an object with a \\_\\_next__() method. If the class defines \\_\\_next__(), then \\_\\_iter__() can just return self:"
   ]
  },
  {
   "cell_type": "code",
   "execution_count": 51,
   "id": "bda59b08-a0f9-49f9-a511-92defb4e4e9c",
   "metadata": {},
   "outputs": [],
   "source": [
    "class Reverse:\n",
    "    \"\"\"Iterator for looping over a sequence backwards\"\"\"\n",
    "    def __init__(self, data):\n",
    "        self.data = data\n",
    "        self.index = len(data)\n",
    "\n",
    "    def __iter__(self):\n",
    "        return self\n",
    "\n",
    "    def __next__(self):\n",
    "        if self.index == 0:\n",
    "            raise StopIteration\n",
    "        self.index = self.index - 1\n",
    "        return self.data[self.index]"
   ]
  },
  {
   "cell_type": "code",
   "execution_count": 67,
   "id": "be89b4c6-f861-4810-97ad-1cede86a986e",
   "metadata": {},
   "outputs": [
    {
     "data": {
      "text/plain": [
       "<__main__.Reverse at 0x10c01c1d0>"
      ]
     },
     "execution_count": 67,
     "metadata": {},
     "output_type": "execute_result"
    },
    {
     "data": {
      "text/plain": [
       "<__main__.Reverse at 0x10c01c1d0>"
      ]
     },
     "execution_count": 67,
     "metadata": {},
     "output_type": "execute_result"
    },
    {
     "name": "stdout",
     "output_type": "stream",
     "text": [
      "m\n",
      "a\n",
      "p\n",
      "s\n"
     ]
    }
   ],
   "source": [
    "rev = Reverse('spam')\n",
    "rev\n",
    "iter(rev)\n",
    "\n",
    "\n",
    "for char in rev:\n",
    "    print(char)"
   ]
  },
  {
   "cell_type": "markdown",
   "id": "b3cede75-beec-4832-9d6a-9e39a9f6f232",
   "metadata": {},
   "source": [
    "## Generator"
   ]
  },
  {
   "cell_type": "code",
   "execution_count": 66,
   "id": "74d53e33-6106-4281-a8a3-a38a01c8e2f8",
   "metadata": {},
   "outputs": [
    {
     "name": "stdout",
     "output_type": "stream",
     "text": [
      "f\n",
      "l\n",
      "o\n",
      "g\n"
     ]
    },
    {
     "data": {
      "text/plain": [
       "<generator object reverse at 0x10b895a80>"
      ]
     },
     "execution_count": 66,
     "metadata": {},
     "output_type": "execute_result"
    }
   ],
   "source": [
    "def reverse(data):\n",
    "    for index in range(len(data)-1, -1, -1):\n",
    "        yield data[index]\n",
    "\n",
    "for char in reverse('golf'):\n",
    "    print(char)\n",
    "\n",
    "reverse('golf')"
   ]
  },
  {
   "cell_type": "markdown",
   "id": "5862aa74-0caf-4d90-9eb8-dd8259eec17a",
   "metadata": {},
   "source": [
    "Anything that can be done with generators can also be done with *class-based* iterators. What makes generators so compact is that the \\_\\_iter__() and \\_\\_next__() methods are created *automatically*.\n",
    "\n",
    "Another key feature is that the *local variables* and *execution state* are automatically *saved* between calls. This made the function easier to write and much more clear than an approach using instance variables like `self.index` and `self.data`."
   ]
  },
  {
   "cell_type": "markdown",
   "id": "029680d7-59d9-4d04-b2cf-fbec0ccf034a",
   "metadata": {},
   "source": [
    "## Generator Expressions"
   ]
  },
  {
   "cell_type": "markdown",
   "id": "bacb1387-1081-4353-ae0b-7e3afac50773",
   "metadata": {},
   "source": [
    "Some simple generators can be coded succinctly as expressions using a syntax similar to list comprehensions but with *parentheses* instead of square brackets. These expressions are designed for situations where the generator is used *right away* by an enclosing function. \n",
    "\n",
    "*Generator expressions* are more compact but less versatile than full generator definitions and tend to be more *memory friendly* than equivalent list comprehensions.\n",
    "\n",
    "Examples:"
   ]
  },
  {
   "cell_type": "code",
   "execution_count": 68,
   "id": "12027a9d-0f88-4ac7-be81-1181f7232848",
   "metadata": {},
   "outputs": [
    {
     "data": {
      "text/plain": [
       "285"
      ]
     },
     "execution_count": 68,
     "metadata": {},
     "output_type": "execute_result"
    },
    {
     "data": {
      "text/plain": [
       "260"
      ]
     },
     "execution_count": 68,
     "metadata": {},
     "output_type": "execute_result"
    },
    {
     "data": {
      "text/plain": [
       "['f', 'l', 'o', 'g']"
      ]
     },
     "execution_count": 68,
     "metadata": {},
     "output_type": "execute_result"
    }
   ],
   "source": [
    "sum(i*i for i in range(10))    # sum of squares\n",
    "\n",
    "xvec = [10, 20, 30]\n",
    "yvec = [7, 5, 3]\n",
    "sum(x*y for x,y in zip(xvec, yvec))    # dot product\n",
    "\n",
    "data = 'golf'\n",
    "list(data[i] for i in range(len(data)-1, -1, -1))"
   ]
  }
 ],
 "metadata": {
  "kernelspec": {
   "display_name": "Python 3 (ipykernel)",
   "language": "python",
   "name": "python3"
  },
  "language_info": {
   "codemirror_mode": {
    "name": "ipython",
    "version": 3
   },
   "file_extension": ".py",
   "mimetype": "text/x-python",
   "name": "python",
   "nbconvert_exporter": "python",
   "pygments_lexer": "ipython3",
   "version": "3.11.3"
  }
 },
 "nbformat": 4,
 "nbformat_minor": 5
}
