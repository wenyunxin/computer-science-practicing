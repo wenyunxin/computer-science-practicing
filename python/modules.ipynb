{
 "cells": [
  {
   "cell_type": "code",
   "execution_count": 59,
   "id": "283d1eb7-d7ad-4591-8685-32873fdaceff",
   "metadata": {},
   "outputs": [],
   "source": [
    "from IPython.core.interactiveshell import InteractiveShell\n",
    "InteractiveShell.ast_node_interactivity = \"all\""
   ]
  },
  {
   "cell_type": "code",
   "execution_count": 8,
   "id": "1e246749-1e06-430e-85b9-fcd567cc86a1",
   "metadata": {},
   "outputs": [],
   "source": [
    "# create a script\n",
    "# split long program into several files for easier maintenance\n",
    "# use a handy function that you've written in several programs"
   ]
  },
  {
   "cell_type": "code",
   "execution_count": 9,
   "id": "e1bbcb2e-8716-4d1d-935b-98f00874ff35",
   "metadata": {},
   "outputs": [],
   "source": [
    "# A file containing definitions that use in a script or an interactive instance of the interpreter is called a module\n",
    "# The main module (the collection of variables that you have access to in a script executed at the top level and in calculator mode)\n",
    "# A module is a file containing Python definitions and statements"
   ]
  },
  {
   "cell_type": "code",
   "execution_count": 10,
   "id": "df393f9d-541a-4ee1-826a-3bc1d6eab42e",
   "metadata": {},
   "outputs": [],
   "source": [
    "# Within a module, the module's name (as a string) is available as the value of the global variable __name__\n",
    "# The fibo.py example"
   ]
  },
  {
   "cell_type": "code",
   "execution_count": 11,
   "id": "1b6e3127-8a0a-4779-8136-6da7c69bde68",
   "metadata": {},
   "outputs": [
    {
     "name": "stdout",
     "output_type": "stream",
     "text": [
      "0 1 1 2 3 5 8 13 21 34 55 89 144 233 377 610 987 \n"
     ]
    },
    {
     "data": {
      "text/plain": [
       "[0, 1, 1, 2, 3, 5, 8, 13, 21, 34, 55, 89]"
      ]
     },
     "execution_count": 11,
     "metadata": {},
     "output_type": "execute_result"
    },
    {
     "data": {
      "text/plain": [
       "'fibo'"
      ]
     },
     "execution_count": 11,
     "metadata": {},
     "output_type": "execute_result"
    }
   ],
   "source": [
    "import fibo\n",
    "\n",
    "fibo.fib(1000)\n",
    "fibo.fib2(100)\n",
    "\n",
    "fibo.__name__"
   ]
  },
  {
   "cell_type": "code",
   "execution_count": 12,
   "id": "99226fc3-c19d-4d5b-9b15-dd290af7e684",
   "metadata": {},
   "outputs": [
    {
     "name": "stdout",
     "output_type": "stream",
     "text": [
      "0 1 1 2 3 5 8 13 21 34 55 89 144 233 377 \n"
     ]
    }
   ],
   "source": [
    "# if you intend to usa a function often you can assign it to a local name\n",
    "fib = fibo.fib\n",
    "fib(500)"
   ]
  },
  {
   "cell_type": "markdown",
   "id": "781a4cb0-2a5d-4f44-9dda-ef5c8c729f35",
   "metadata": {},
   "source": [
    "## More on Modules"
   ]
  },
  {
   "cell_type": "code",
   "execution_count": 13,
   "id": "0dce9e4b-c2c7-4ba9-aad4-b3627e28c129",
   "metadata": {},
   "outputs": [
    {
     "data": {
      "text/plain": [
       "<function fibo.fib2(n)>"
      ]
     },
     "execution_count": 13,
     "metadata": {},
     "output_type": "execute_result"
    },
    {
     "name": "stdout",
     "output_type": "stream",
     "text": [
      "<function fib2 at 0x1132c8680>\n"
     ]
    }
   ],
   "source": [
    "# In fact, function definitions are also 'statements' that are 'executed'\n",
    "# The execution of a module-level function definition adds the function name to the module's global namespace\n",
    "# Touch a module's global variables with the same notation used to refer to its function: modname.itemname\n",
    "fibo.fib2\n",
    "print(fibo.fib2)"
   ]
  },
  {
   "cell_type": "code",
   "execution_count": 14,
   "id": "515a5c07-a8e1-427e-b468-e5cddcdb8a9f",
   "metadata": {},
   "outputs": [
    {
     "name": "stdout",
     "output_type": "stream",
     "text": [
      "0 1 1 2 3 5 8 13 21 34 55 89 144 233 377 \n"
     ]
    }
   ],
   "source": [
    "# Modules can imoort other modules\n",
    "# If imported module names are placed at the top level of a module (outside any functions or classes), are added to the module's global namespace\n",
    "\n",
    "# a variant of the import statement that imports names from a module directly into the importing module's namespace\n",
    "from fibo import fib, fib2\n",
    "fib(500)\n",
    "\n",
    "# This does not introduce the module name from which the imports are taken in the local namespace\n",
    "# So in this above example, fibo is not defined"
   ]
  },
  {
   "cell_type": "code",
   "execution_count": 15,
   "id": "dd535ce3-71a4-4cd1-9016-5ab49e48cbb4",
   "metadata": {},
   "outputs": [
    {
     "data": {
      "text/plain": [
       "[0, 1, 1, 2, 3, 5, 8, 13, 21, 34, 55, 89, 144, 233, 377, 610, 987]"
      ]
     },
     "execution_count": 15,
     "metadata": {},
     "output_type": "execute_result"
    }
   ],
   "source": [
    "# A variant to import all names that a module defines\n",
    "from fibo import *\n",
    "fib2(1000)\n",
    "\n",
    "# This imports all names except those beginning with an underscore (_)\n",
    "# In most cases, don't use this facility since it introduces an unknown set of names into the interpreter\n",
    "# However, it is okay to use it to save typing in interactive sessions"
   ]
  },
  {
   "cell_type": "code",
   "execution_count": 16,
   "id": "756de9b4-8323-49f3-a74d-d87c96fd6299",
   "metadata": {},
   "outputs": [
    {
     "name": "stdout",
     "output_type": "stream",
     "text": [
      "0 1 1 2 3 5 8 13 21 34 55 89 144 233 377 \n",
      "0 1 1 2 3 5 8 13 21 34 55 89 144 233 377 \n"
     ]
    }
   ],
   "source": [
    "# rename the import module\n",
    "import fibo as fib\n",
    "fib.fib(500)\n",
    "\n",
    "# It can also be used when utilizing from with similar effects\n",
    "from fibo import fib as fibonacci\n",
    "fibonacci(500)"
   ]
  },
  {
   "cell_type": "code",
   "execution_count": 17,
   "id": "0f232575-31b6-4a2a-934b-73e32d70a39a",
   "metadata": {},
   "outputs": [],
   "source": [
    "# reload the imported module using importlib.reload\n",
    "# e.g import importlib; importlib.reload(modulename)"
   ]
  },
  {
   "cell_type": "code",
   "execution_count": 18,
   "id": "ee8f8380-b05d-4788-beec-9b89f6a5382f",
   "metadata": {},
   "outputs": [
    {
     "name": "stdout",
     "output_type": "stream",
     "text": [
      "__main__\n"
     ]
    }
   ],
   "source": [
    "# run a Python module as script by adding this code at the end of the module\n",
    "\n",
    "# if __name__==\"__main__\":\n",
    "#     import sys\n",
    "#     fib(int(sys.argv[1]))\n",
    "print(__name__)"
   ]
  },
  {
   "cell_type": "code",
   "execution_count": 19,
   "id": "713d5af2-64e5-4b12-b8f6-5b7837d24f0b",
   "metadata": {},
   "outputs": [
    {
     "name": "stdout",
     "output_type": "stream",
     "text": [
      "This module is being imported.\n"
     ]
    }
   ],
   "source": [
    "# run the import statement first time, the file run the if statements at the end\n",
    "import module\n",
    "\n",
    "# when run as a script, the statements outside the function definition will be executed, but not the function directly\n"
   ]
  },
  {
   "cell_type": "code",
   "execution_count": 20,
   "id": "142b0685-1db2-41ab-a57c-fb18f745ce38",
   "metadata": {},
   "outputs": [
    {
     "name": "stdout",
     "output_type": "stream",
     "text": [
      "Hello from some_function!\n",
      "Module name: module\n"
     ]
    }
   ],
   "source": [
    "module.some_function()"
   ]
  },
  {
   "cell_type": "code",
   "execution_count": 21,
   "id": "a9223e89-c2db-4460-aa38-872ce0e9eeb6",
   "metadata": {},
   "outputs": [],
   "source": [
    "# the sys.argv live on specific namespace"
   ]
  },
  {
   "cell_type": "code",
   "execution_count": 22,
   "id": "c07d17b5-70b4-4e4e-b9d0-0ac652e9ac78",
   "metadata": {},
   "outputs": [
    {
     "name": "stdout",
     "output_type": "stream",
     "text": [
      "('_abc', '_ast', '_codecs', '_collections', '_functools', '_imp', '_io', '_locale', '_operator', '_signal', '_sre', '_stat', '_string', '_symtable', '_thread', '_tokenize', '_tracemalloc', '_warnings', '_weakref', 'atexit', 'builtins', 'errno', 'faulthandler', 'gc', 'itertools', 'marshal', 'posix', 'pwd', 'sys', 'time', 'xxsubtype')\n"
     ]
    }
   ],
   "source": [
    "# The module search path\n",
    "# First it searches for built-in modules, these module names are listed in sys.builtin_module_names\n",
    "import sys\n",
    "print(sys.builtin_module_names)"
   ]
  },
  {
   "cell_type": "code",
   "execution_count": 23,
   "id": "0c2b603e-91b3-4d63-b923-c07a4e789392",
   "metadata": {},
   "outputs": [
    {
     "data": {
      "text/plain": [
       "['/Users/wenyunxin/Documents/github/computer-science-practicing/python',\n",
       " '/Library/Frameworks/Python.framework/Versions/3.11/lib/python311.zip',\n",
       " '/Library/Frameworks/Python.framework/Versions/3.11/lib/python3.11',\n",
       " '/Library/Frameworks/Python.framework/Versions/3.11/lib/python3.11/lib-dynload',\n",
       " '',\n",
       " '/Library/Frameworks/Python.framework/Versions/3.11/lib/python3.11/site-packages']"
      ]
     },
     "execution_count": 23,
     "metadata": {},
     "output_type": "execute_result"
    }
   ],
   "source": [
    "# If not found, it then searches for a file name modulename.py in a list of directories given by the variable sys.path\n",
    "sys.path    \n",
    "# The directory containing the script being run is placed at the beginning of the search path, ahead of the standard library path"
   ]
  },
  {
   "cell_type": "markdown",
   "id": "b9074e76-578a-4ab4-829b-c5200bb9c482",
   "metadata": {},
   "source": [
    "## Standard Modules"
   ]
  },
  {
   "cell_type": "code",
   "execution_count": 24,
   "id": "b2388d23-4941-4b63-b623-11672cbeecdb",
   "metadata": {},
   "outputs": [
    {
     "data": {
      "text/plain": [
       "'C>'"
      ]
     },
     "execution_count": 24,
     "metadata": {},
     "output_type": "execute_result"
    },
    {
     "data": {
      "text/plain": [
       "'...: '"
      ]
     },
     "execution_count": 24,
     "metadata": {},
     "output_type": "execute_result"
    },
    {
     "name": "stdout",
     "output_type": "stream",
     "text": [
      "Yuck!\n"
     ]
    },
    {
     "data": {
      "text/plain": [
       "['/Users/wenyunxin/Documents/github/computer-science-practicing/python',\n",
       " '/Library/Frameworks/Python.framework/Versions/3.11/lib/python311.zip',\n",
       " '/Library/Frameworks/Python.framework/Versions/3.11/lib/python3.11',\n",
       " '/Library/Frameworks/Python.framework/Versions/3.11/lib/python3.11/lib-dynload',\n",
       " '',\n",
       " '/Library/Frameworks/Python.framework/Versions/3.11/lib/python3.11/site-packages']"
      ]
     },
     "execution_count": 24,
     "metadata": {},
     "output_type": "execute_result"
    }
   ],
   "source": [
    "# Python comes with a library of standard modules, see Python Library Reference\n",
    "# Some modules are built into the interpreter\n",
    "# There are either for efficiency or to provide access to operation system primitives such as system calls\n",
    "# module sys deserves some attention\n",
    "import sys\n",
    "sys.ps1\n",
    "sys.ps2\n",
    "\n",
    "sys.ps1 = 'C>'\n",
    "print('Yuck!')\n",
    "\n",
    "# These two variables are only defined if the interpreter is in interactive mode\n",
    "\n",
    "# sys.path is a list of strings that determines the interpreter's search path for modules\n",
    "sys.path"
   ]
  },
  {
   "cell_type": "markdown",
   "id": "ead6c219-5173-46e5-a118-3d90629ec5f1",
   "metadata": {},
   "source": [
    "## The [dir()](https://docs.python.org/3/library/functions.html#dir) Function"
   ]
  },
  {
   "cell_type": "code",
   "execution_count": 30,
   "id": "e26f2a8e-5ab7-428e-b8f2-37a133743510",
   "metadata": {},
   "outputs": [
    {
     "name": "stdout",
     "output_type": "stream",
     "text": [
      "['__builtins__', '__cached__', '__doc__', '__file__', '__loader__', '__name__', '__package__', '__spec__', 'fib', 'fib2']\n",
      "['__breakpointhook__', '__displayhook__', '__doc__', '__excepthook__', '__interactivehook__', '__loader__', '__name__', '__package__', '__spec__', '__stderr__', '__stdin__', '__stdout__', '__unraisablehook__', '_base_executable', '_clear_type_cache', '_current_exceptions', '_current_frames', '_debugmallocstats', '_framework', '_getframe', '_getquickenedcount', '_git', '_home', '_stdlib_dir', '_xoptions', 'abiflags', 'addaudithook', 'api_version', 'argv', 'audit', 'base_exec_prefix', 'base_prefix', 'breakpointhook', 'builtin_module_names', 'byteorder', 'call_tracing', 'copyright', 'displayhook', 'dont_write_bytecode', 'exc_info', 'excepthook', 'exception', 'exec_prefix', 'executable', 'exit', 'flags', 'float_info', 'float_repr_style', 'get_asyncgen_hooks', 'get_coroutine_origin_tracking_depth', 'get_int_max_str_digits', 'getallocatedblocks', 'getdefaultencoding', 'getdlopenflags', 'getfilesystemencodeerrors', 'getfilesystemencoding', 'getprofile', 'getrecursionlimit', 'getrefcount', 'getsizeof', 'getswitchinterval', 'gettrace', 'hash_info', 'hexversion', 'implementation', 'int_info', 'intern', 'is_finalizing', 'maxsize', 'maxunicode', 'meta_path', 'modules', 'orig_argv', 'path', 'path_hooks', 'path_importer_cache', 'platform', 'platlibdir', 'prefix', 'ps1', 'ps2', 'ps3', 'pycache_prefix', 'set_asyncgen_hooks', 'set_coroutine_origin_tracking_depth', 'set_int_max_str_digits', 'setdlopenflags', 'setprofile', 'setrecursionlimit', 'setswitchinterval', 'settrace', 'stderr', 'stdin', 'stdlib_module_names', 'stdout', 'thread_info', 'unraisablehook', 'version', 'version_info', 'warnoptions']\n"
     ]
    }
   ],
   "source": [
    "# The built-in function dir() is used to find out which names a module defines\n",
    "print(dir(fibo))\n",
    "print(dir(sys))"
   ]
  },
  {
   "cell_type": "code",
   "execution_count": 40,
   "id": "0f3c4bd0-212f-438d-add3-98041a2600fd",
   "metadata": {},
   "outputs": [
    {
     "name": "stdout",
     "output_type": "stream",
     "text": [
      "['In', 'InteractiveShell', 'Out', '_', '_11', '_13', '_15', '_2', '_23', '_24', '_26', '_27', '_28', '_29', '_3', '_31', '_4', '_5', '_6', '_7', '__', '___', '__builtin__', '__builtins__', '__doc__', '__loader__', '__name__', '__package__', '__session__', '__spec__', '_dh', '_i', '_i1', '_i10', '_i11', '_i12', '_i13', '_i14', '_i15', '_i16', '_i17', '_i18', '_i19', '_i2', '_i20', '_i21', '_i22', '_i23', '_i24', '_i25', '_i26', '_i27', '_i28', '_i29', '_i3', '_i30', '_i31', '_i32', '_i33', '_i34', '_i35', '_i36', '_i37', '_i38', '_i39', '_i4', '_i40', '_i5', '_i6', '_i7', '_i8', '_i9', '_ih', '_ii', '_iii', '_oh', 'exit', 'fib', 'fib2', 'fibo', 'fibonacci', 'get_ipython', 'module', 'open', 'quit', 'sys']\n"
     ]
    }
   ],
   "source": [
    "# dir() that without arguments lists the names you have defined currently\n",
    "print(dir())"
   ]
  },
  {
   "cell_type": "code",
   "execution_count": 42,
   "id": "bbc06091-1b79-4298-8818-eddab3998504",
   "metadata": {},
   "outputs": [
    {
     "name": "stdout",
     "output_type": "stream",
     "text": [
      "['ArithmeticError', 'AssertionError', 'AttributeError', 'BaseException', 'BaseExceptionGroup', 'BlockingIOError', 'BrokenPipeError', 'BufferError', 'BytesWarning', 'ChildProcessError', 'ConnectionAbortedError', 'ConnectionError', 'ConnectionRefusedError', 'ConnectionResetError', 'DeprecationWarning', 'EOFError', 'Ellipsis', 'EncodingWarning', 'EnvironmentError', 'Exception', 'ExceptionGroup', 'False', 'FileExistsError', 'FileNotFoundError', 'FloatingPointError', 'FutureWarning', 'GeneratorExit', 'IOError', 'ImportError', 'ImportWarning', 'IndentationError', 'IndexError', 'InterruptedError', 'IsADirectoryError', 'KeyError', 'KeyboardInterrupt', 'LookupError', 'MemoryError', 'ModuleNotFoundError', 'NameError', 'None', 'NotADirectoryError', 'NotImplemented', 'NotImplementedError', 'OSError', 'OverflowError', 'PendingDeprecationWarning', 'PermissionError', 'ProcessLookupError', 'RecursionError', 'ReferenceError', 'ResourceWarning', 'RuntimeError', 'RuntimeWarning', 'StopAsyncIteration', 'StopIteration', 'SyntaxError', 'SyntaxWarning', 'SystemError', 'SystemExit', 'TabError', 'TimeoutError', 'True', 'TypeError', 'UnboundLocalError', 'UnicodeDecodeError', 'UnicodeEncodeError', 'UnicodeError', 'UnicodeTranslateError', 'UnicodeWarning', 'UserWarning', 'ValueError', 'Warning', 'ZeroDivisionError', '__IPYTHON__', '__build_class__', '__debug__', '__doc__', '__import__', '__loader__', '__name__', '__package__', '__spec__', 'abs', 'aiter', 'all', 'anext', 'any', 'ascii', 'bin', 'bool', 'breakpoint', 'bytearray', 'bytes', 'callable', 'chr', 'classmethod', 'compile', 'complex', 'copyright', 'credits', 'delattr', 'dict', 'dir', 'display', 'divmod', 'enumerate', 'eval', 'exec', 'execfile', 'filter', 'float', 'format', 'frozenset', 'get_ipython', 'getattr', 'globals', 'hasattr', 'hash', 'help', 'hex', 'id', 'input', 'int', 'isinstance', 'issubclass', 'iter', 'len', 'license', 'list', 'locals', 'map', 'max', 'memoryview', 'min', 'next', 'object', 'oct', 'open', 'ord', 'pow', 'print', 'property', 'range', 'repr', 'reversed', 'round', 'runfile', 'set', 'setattr', 'slice', 'sorted', 'staticmethod', 'str', 'sum', 'super', 'tuple', 'type', 'vars', 'zip']\n"
     ]
    }
   ],
   "source": [
    "# The standard module builtins that list the names of built-in functions and variables\n",
    "import builtins\n",
    "print(dir(builtins))"
   ]
  },
  {
   "cell_type": "markdown",
   "id": "6e218f51-3eca-4555-b4f4-a6d486d532a4",
   "metadata": {},
   "source": [
    "### Packages"
   ]
  },
  {
   "cell_type": "code",
   "execution_count": 43,
   "id": "383a8d1c-a20e-4ea8-8522-81162c7258d9",
   "metadata": {},
   "outputs": [],
   "source": [
    "# a collection of modules (a \"package\") for specific handling functions.\n",
    "# when importing the package, Python searches through the directories on sys.path looking for the package subdirectory\n",
    "# the __init___.py files are required to make Python treat directories containing the file as packages"
   ]
  },
  {
   "cell_type": "code",
   "execution_count": 56,
   "id": "7373b4a7-4476-45f6-83b8-7621a6fe6c6e",
   "metadata": {},
   "outputs": [],
   "source": [
    "# import individual modules from the package example\n",
    "# impor sound.effects.echo\n",
    "# from sound.effects import echo\n",
    "\n",
    "# the 'from...import...' statement first tests whether the item is defined in the package, if not, it assumes it is a module and attempts to load it\n",
    "# Contrarily, when using syntax like import item.subitem.subsubitem, each item except for the last must be a package; \n",
    "# the last item can be a module or a package but can’t be a class or function or variable defined in the previous item."
   ]
  },
  {
   "cell_type": "code",
   "execution_count": 54,
   "id": "a1bb2dc3-9d14-4df3-b8d9-30e577a01bba",
   "metadata": {},
   "outputs": [],
   "source": [
    "# import the desired function or variable directly\n",
    "# from sound.effects.echo import echofilter"
   ]
  },
  {
   "cell_type": "code",
   "execution_count": null,
   "id": "fa52d4bd-e8cc-43cb-b93d-30ef1e90097b",
   "metadata": {},
   "outputs": [],
   "source": []
  }
 ],
 "metadata": {
  "kernelspec": {
   "display_name": "Python 3 (ipykernel)",
   "language": "python",
   "name": "python3"
  },
  "language_info": {
   "codemirror_mode": {
    "name": "ipython",
    "version": 3
   },
   "file_extension": ".py",
   "mimetype": "text/x-python",
   "name": "python",
   "nbconvert_exporter": "python",
   "pygments_lexer": "ipython3",
   "version": "3.11.3"
  }
 },
 "nbformat": 4,
 "nbformat_minor": 5
}
