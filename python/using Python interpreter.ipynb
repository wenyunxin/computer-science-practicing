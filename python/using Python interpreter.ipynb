{
 "cells": [
  {
   "cell_type": "code",
   "execution_count": 3,
   "id": "7264e38b-f61a-4045-85a1-4fadf24877b2",
   "metadata": {},
   "outputs": [],
   "source": [
    "# -*- coding: utf-8 -*-\n",
    "# declare an encoding"
   ]
  },
  {
   "cell_type": "code",
   "execution_count": 4,
   "id": "0f265a08-484d-44f1-be0d-11403601fb2e",
   "metadata": {},
   "outputs": [],
   "source": [
    "from IPython.core.interactiveshell import InteractiveShell\n",
    "InteractiveShell.ast_node_interactivity = \"all\""
   ]
  },
  {
   "cell_type": "markdown",
   "id": "555d6a07-a970-4735-af01-9f3f87077e32",
   "metadata": {},
   "source": [
    "# 3. An informal introduction to Python"
   ]
  },
  {
   "cell_type": "code",
   "execution_count": 5,
   "id": "ede30b56-848c-416b-a088-cd14484072ba",
   "metadata": {},
   "outputs": [
    {
     "name": "stdout",
     "output_type": "stream",
     "text": [
      "Be careful not to fall off!\n"
     ]
    }
   ],
   "source": [
    "# interactive mode\n",
    "the_world_is_flat = True\n",
    "if the_world_is_flat:\n",
    "    print(\"Be careful not to fall off!\")"
   ]
  },
  {
   "cell_type": "markdown",
   "id": "6b56823b-1567-400f-bf9f-66e7008ece23",
   "metadata": {},
   "source": [
    "## 3.1 Using Python as a calculator"
   ]
  },
  {
   "cell_type": "code",
   "execution_count": 9,
   "id": "06f9f4ad-8ad5-4e8c-9b42-a0321b94774a",
   "metadata": {},
   "outputs": [
    {
     "data": {
      "text/plain": [
       "4"
      ]
     },
     "execution_count": 9,
     "metadata": {},
     "output_type": "execute_result"
    },
    {
     "data": {
      "text/plain": [
       "20"
      ]
     },
     "execution_count": 9,
     "metadata": {},
     "output_type": "execute_result"
    },
    {
     "data": {
      "text/plain": [
       "5.0"
      ]
     },
     "execution_count": 9,
     "metadata": {},
     "output_type": "execute_result"
    },
    {
     "data": {
      "text/plain": [
       "1.6"
      ]
     },
     "execution_count": 9,
     "metadata": {},
     "output_type": "execute_result"
    }
   ],
   "source": [
    "# Numbers\n",
    "2 + 2\n",
    "50 - 5*6\n",
    "(50 - 5*6) / 4\n",
    "8 / 5    # division always returns a floating point number"
   ]
  },
  {
   "cell_type": "code",
   "execution_count": 10,
   "id": "dfc34aba-7086-455e-8c71-a60b160d1db4",
   "metadata": {},
   "outputs": [
    {
     "data": {
      "text/plain": [
       "5.666666666666667"
      ]
     },
     "execution_count": 10,
     "metadata": {},
     "output_type": "execute_result"
    },
    {
     "data": {
      "text/plain": [
       "5"
      ]
     },
     "execution_count": 10,
     "metadata": {},
     "output_type": "execute_result"
    },
    {
     "data": {
      "text/plain": [
       "2"
      ]
     },
     "execution_count": 10,
     "metadata": {},
     "output_type": "execute_result"
    },
    {
     "data": {
      "text/plain": [
       "17"
      ]
     },
     "execution_count": 10,
     "metadata": {},
     "output_type": "execute_result"
    }
   ],
   "source": [
    "# floor divison and remainder\n",
    "17 / 3    # classic division returns a float\n",
    "17 // 3    # floor divison discards the fractional part\n",
    "17 % 3    # the % operator returns the remainder of the divsion\n",
    "5*3 +2    # floored quotient * divsior + remainder"
   ]
  },
  {
   "cell_type": "code",
   "execution_count": 11,
   "id": "163e106d-55aa-4fd3-b59c-a5b3ceccaede",
   "metadata": {},
   "outputs": [
    {
     "data": {
      "text/plain": [
       "25"
      ]
     },
     "execution_count": 11,
     "metadata": {},
     "output_type": "execute_result"
    },
    {
     "data": {
      "text/plain": [
       "128"
      ]
     },
     "execution_count": 11,
     "metadata": {},
     "output_type": "execute_result"
    }
   ],
   "source": [
    "# calulate powers\n",
    "5 ** 2    # 5 squared\n",
    "2 ** 7    # 2 to the power of 7"
   ]
  },
  {
   "cell_type": "code",
   "execution_count": 12,
   "id": "f8723c14-7677-4712-a407-7611a36508f6",
   "metadata": {},
   "outputs": [
    {
     "data": {
      "text/plain": [
       "900"
      ]
     },
     "execution_count": 12,
     "metadata": {},
     "output_type": "execute_result"
    }
   ],
   "source": [
    "# the equal sign is used to assign a value to a variable\n",
    "width = 20\n",
    "height = 5 * 9\n",
    "width * height"
   ]
  },
  {
   "cell_type": "code",
   "execution_count": 14,
   "id": "91205569-c2ed-49e9-bc7c-8e45b174f097",
   "metadata": {},
   "outputs": [
    {
     "ename": "NameError",
     "evalue": "name 'n' is not defined",
     "output_type": "error",
     "traceback": [
      "\u001b[0;31m---------------------------------------------------------------------------\u001b[0m",
      "\u001b[0;31mNameError\u001b[0m                                 Traceback (most recent call last)",
      "Cell \u001b[0;32mIn[14], line 2\u001b[0m\n\u001b[1;32m      1\u001b[0m \u001b[38;5;66;03m# use an undefined variable will raise NameError\u001b[39;00m\n\u001b[0;32m----> 2\u001b[0m \u001b[43mn\u001b[49m\n",
      "\u001b[0;31mNameError\u001b[0m: name 'n' is not defined"
     ]
    }
   ],
   "source": [
    "# use an undefined variable will raise NameError\n",
    "n"
   ]
  },
  {
   "cell_type": "code",
   "execution_count": 15,
   "id": "e8b23d68-1748-480e-94a8-b5df727b8fa3",
   "metadata": {},
   "outputs": [
    {
     "data": {
      "text/plain": [
       "14.0"
      ]
     },
     "execution_count": 15,
     "metadata": {},
     "output_type": "execute_result"
    }
   ],
   "source": [
    "# operators with mixed type operands conveert the integer operand to floating point\n",
    "4 * 3.75 - 1"
   ]
  },
  {
   "cell_type": "code",
   "execution_count": 17,
   "id": "cf8e1d79-21ca-43c1-9a66-c6b7b324d03d",
   "metadata": {},
   "outputs": [
    {
     "data": {
      "text/plain": [
       "14.0"
      ]
     },
     "execution_count": 17,
     "metadata": {},
     "output_type": "execute_result"
    }
   ],
   "source": [
    "# The last printed expression value is assigned to the variable _\n",
    "_\n",
    "\n",
    "# this variable should be treated as read-only"
   ]
  },
  {
   "cell_type": "code",
   "execution_count": 23,
   "id": "fa8ad29a-c9bc-4015-b243-e82db970ffbf",
   "metadata": {},
   "outputs": [
    {
     "data": {
      "text/plain": [
       "'spam egg'"
      ]
     },
     "execution_count": 23,
     "metadata": {},
     "output_type": "execute_result"
    },
    {
     "data": {
      "text/plain": [
       "\"doesn't\""
      ]
     },
     "execution_count": 23,
     "metadata": {},
     "output_type": "execute_result"
    },
    {
     "data": {
      "text/plain": [
       "\"doesn't\""
      ]
     },
     "execution_count": 23,
     "metadata": {},
     "output_type": "execute_result"
    },
    {
     "data": {
      "text/plain": [
       "'\"Yes,\" they said.'"
      ]
     },
     "execution_count": 23,
     "metadata": {},
     "output_type": "execute_result"
    },
    {
     "data": {
      "text/plain": [
       "'\"Yes,\" they said.'"
      ]
     },
     "execution_count": 23,
     "metadata": {},
     "output_type": "execute_result"
    },
    {
     "data": {
      "text/plain": [
       "'\"Isn\\'t,\" they said.'"
      ]
     },
     "execution_count": 23,
     "metadata": {},
     "output_type": "execute_result"
    }
   ],
   "source": [
    "# Strings\n",
    "'spam egg'    # single quotes\n",
    "'doesn\\'t'    # use '\\' to escape the single quote...\n",
    "\"doesn't\"    # ...or use double quotes instead\n",
    "'\"Yes,\" they said.'\n",
    "\"\\\"Yes,\\\" they said.\"\n",
    "'\"Isn\\'t,\" they said.'"
   ]
  },
  {
   "cell_type": "code",
   "execution_count": 24,
   "id": "8e7bd356-9301-44b3-93cc-421635b3cd14",
   "metadata": {},
   "outputs": [
    {
     "data": {
      "text/plain": [
       "'\"Isn\\'t,\" they said.'"
      ]
     },
     "execution_count": 24,
     "metadata": {},
     "output_type": "execute_result"
    },
    {
     "name": "stdout",
     "output_type": "stream",
     "text": [
      "\"Isn't,\" they said.\n"
     ]
    },
    {
     "data": {
      "text/plain": [
       "'First line.\\nSecond line.'"
      ]
     },
     "execution_count": 24,
     "metadata": {},
     "output_type": "execute_result"
    },
    {
     "name": "stdout",
     "output_type": "stream",
     "text": [
      "First line.\n",
      "Second line.\n"
     ]
    }
   ],
   "source": [
    "# the print() function produce a more readable output\n",
    "'\"Isn\\'t,\" they said.'\n",
    "print('\"Isn\\'t,\" they said.')\n",
    "s = 'First line.\\nSecond line.'    # \\n means newline\n",
    "s    # without print(), \\n is included in the output\n",
    "print(s)    # with print(), \\n produces a new line"
   ]
  },
  {
   "cell_type": "code",
   "execution_count": 25,
   "id": "0830aade-851d-40f4-97b2-e9e136c85c99",
   "metadata": {},
   "outputs": [
    {
     "name": "stdout",
     "output_type": "stream",
     "text": [
      "C:\\some\n",
      "ame\n",
      "C:\\some\\name\n"
     ]
    }
   ],
   "source": [
    "# use raw strings by adding an r before the first quote\n",
    "print('C:\\some\\name')    # here \\n means newline!\n",
    "print(r'C:\\some\\name')    # note the r before the quote"
   ]
  },
  {
   "cell_type": "code",
   "execution_count": 26,
   "id": "b48f0077-7487-4049-af51-74d5a75b141a",
   "metadata": {},
   "outputs": [
    {
     "name": "stdout",
     "output_type": "stream",
     "text": [
      "\n",
      "Usage: thingy [OPTIONS]\n",
      "    -h                       Display this usage message\n",
      "    -H hostname              Hostname to connect to\n",
      "\n"
     ]
    }
   ],
   "source": [
    "# using triple-quotes to span multiple lines\n",
    "print(\"\"\"\n",
    "Usage: thingy [OPTIONS]\n",
    "    -h                       Display this usage message\n",
    "    -H hostname              Hostname to connect to\n",
    "\"\"\")"
   ]
  },
  {
   "cell_type": "code",
   "execution_count": 27,
   "id": "fce12649-da0f-4bdf-8a8b-bcd31cfc25f5",
   "metadata": {},
   "outputs": [
    {
     "data": {
      "text/plain": [
       "'unununium'"
      ]
     },
     "execution_count": 27,
     "metadata": {},
     "output_type": "execute_result"
    }
   ],
   "source": [
    "# strings can be concatenated (glued together) with the + operator, and repeat with *:\n",
    "3 * 'un' + 'ium'"
   ]
  },
  {
   "cell_type": "code",
   "execution_count": 29,
   "id": "d4a70949-ffa6-4b66-8a02-bc6d97c6ceef",
   "metadata": {},
   "outputs": [
    {
     "data": {
      "text/plain": [
       "'python'"
      ]
     },
     "execution_count": 29,
     "metadata": {},
     "output_type": "execute_result"
    },
    {
     "data": {
      "text/plain": [
       "'Python'"
      ]
     },
     "execution_count": 29,
     "metadata": {},
     "output_type": "execute_result"
    },
    {
     "data": {
      "text/plain": [
       "'Put several strings within parentheses to have them joined together.'"
      ]
     },
     "execution_count": 29,
     "metadata": {},
     "output_type": "execute_result"
    }
   ],
   "source": [
    "# two or more string literals next to each other are automatically concatenated\n",
    "'py' 'thon'\n",
    "\"Py\" 'thon'\n",
    "\n",
    "# this feature can be used to break long strings\n",
    "text = (\n",
    "    'Put several strings within parentheses '\n",
    "    'to have them joined together.'\n",
    ")\n",
    "text"
   ]
  },
  {
   "cell_type": "code",
   "execution_count": 30,
   "id": "96c583d9-f25d-400a-98b6-08cbd9b10652",
   "metadata": {},
   "outputs": [
    {
     "data": {
      "text/plain": [
       "'Python'"
      ]
     },
     "execution_count": 30,
     "metadata": {},
     "output_type": "execute_result"
    }
   ],
   "source": [
    "# use + to concatenate variables or variable and a literal\n",
    "prefix = 'Py'\n",
    "prefix + 'thon'"
   ]
  },
  {
   "cell_type": "code",
   "execution_count": 37,
   "id": "ea46a4e0-1e53-40c6-aebd-502a1ecd6300",
   "metadata": {},
   "outputs": [
    {
     "data": {
      "text/plain": [
       "'P'"
      ]
     },
     "execution_count": 37,
     "metadata": {},
     "output_type": "execute_result"
    },
    {
     "data": {
      "text/plain": [
       "'n'"
      ]
     },
     "execution_count": 37,
     "metadata": {},
     "output_type": "execute_result"
    },
    {
     "data": {
      "text/plain": [
       "'n'"
      ]
     },
     "execution_count": 37,
     "metadata": {},
     "output_type": "execute_result"
    },
    {
     "data": {
      "text/plain": [
       "'o'"
      ]
     },
     "execution_count": 37,
     "metadata": {},
     "output_type": "execute_result"
    },
    {
     "data": {
      "text/plain": [
       "'P'"
      ]
     },
     "execution_count": 37,
     "metadata": {},
     "output_type": "execute_result"
    },
    {
     "data": {
      "text/plain": [
       "'Py'"
      ]
     },
     "execution_count": 37,
     "metadata": {},
     "output_type": "execute_result"
    },
    {
     "data": {
      "text/plain": [
       "'tho'"
      ]
     },
     "execution_count": 37,
     "metadata": {},
     "output_type": "execute_result"
    },
    {
     "data": {
      "text/plain": [
       "'on'"
      ]
     },
     "execution_count": 37,
     "metadata": {},
     "output_type": "execute_result"
    },
    {
     "data": {
      "text/plain": [
       "'on'"
      ]
     },
     "execution_count": 37,
     "metadata": {},
     "output_type": "execute_result"
    },
    {
     "data": {
      "text/plain": [
       "True"
      ]
     },
     "execution_count": 37,
     "metadata": {},
     "output_type": "execute_result"
    }
   ],
   "source": [
    "# strings can be indexed(subscripted) with the first character having index 0, a character is simply a string of size one\n",
    "word = 'Python'\n",
    "word[0]    # character in position 0\n",
    "word[5]    # character in position 5\n",
    "\n",
    "# indices may also be negative numbers, to start counting from the right\n",
    "word[-1]    # last character\n",
    "word[-2]    # second-last character\n",
    "word[-6]\n",
    "\n",
    "# slicing strings to obtain substring\n",
    "word[:2]    # characters from position 0 (included) to 2 (excluded)\n",
    "word[2:5]    # characters from position 2 (included) to 5 (excluded)\n",
    "\n",
    "# slice indices have useful defaults\n",
    "word[4:]    # characters from position 4 (included) to the end\n",
    "word[-2:]    # character from the second-last (included) to the end\n",
    "\n",
    "# s[:i] + s[i:] is always equal to s\n",
    "word[:2] + word[2:] == word"
   ]
  },
  {
   "cell_type": "code",
   "execution_count": 39,
   "id": "28c3ec2d-60ec-475b-86bf-c7fc67cb2527",
   "metadata": {},
   "outputs": [
    {
     "ename": "TypeError",
     "evalue": "'str' object does not support item assignment",
     "output_type": "error",
     "traceback": [
      "\u001b[0;31m---------------------------------------------------------------------------\u001b[0m",
      "\u001b[0;31mTypeError\u001b[0m                                 Traceback (most recent call last)",
      "Cell \u001b[0;32mIn[39], line 2\u001b[0m\n\u001b[1;32m      1\u001b[0m \u001b[38;5;66;03m# strings are immutable, assign to an indexed position in the string results in an error\u001b[39;00m\n\u001b[0;32m----> 2\u001b[0m \u001b[43mword\u001b[49m\u001b[43m[\u001b[49m\u001b[38;5;241;43m0\u001b[39;49m\u001b[43m]\u001b[49m \u001b[38;5;241m=\u001b[39m \u001b[38;5;124m'\u001b[39m\u001b[38;5;124mJ\u001b[39m\u001b[38;5;124m'\u001b[39m\n",
      "\u001b[0;31mTypeError\u001b[0m: 'str' object does not support item assignment"
     ]
    }
   ],
   "source": [
    "# strings are immutable, assign to an indexed position in the string results in an error\n",
    "word[0] = 'J'"
   ]
  },
  {
   "cell_type": "code",
   "execution_count": 40,
   "id": "310a55da-81bc-4893-88d1-331415b692f1",
   "metadata": {},
   "outputs": [
    {
     "data": {
      "text/plain": [
       "6"
      ]
     },
     "execution_count": 40,
     "metadata": {},
     "output_type": "execute_result"
    }
   ],
   "source": [
    "# the built-in function len() returns the length of a string\n",
    "len(word)"
   ]
  },
  {
   "cell_type": "code",
   "execution_count": 47,
   "id": "4234c480-5904-4b0a-8b30-93c79d4d46b6",
   "metadata": {},
   "outputs": [
    {
     "data": {
      "text/plain": [
       "[1, 4, 9, 16, 25]"
      ]
     },
     "execution_count": 47,
     "metadata": {},
     "output_type": "execute_result"
    },
    {
     "data": {
      "text/plain": [
       "1"
      ]
     },
     "execution_count": 47,
     "metadata": {},
     "output_type": "execute_result"
    },
    {
     "data": {
      "text/plain": [
       "25"
      ]
     },
     "execution_count": 47,
     "metadata": {},
     "output_type": "execute_result"
    },
    {
     "data": {
      "text/plain": [
       "[9, 16, 25]"
      ]
     },
     "execution_count": 47,
     "metadata": {},
     "output_type": "execute_result"
    },
    {
     "data": {
      "text/plain": [
       "4552940096"
      ]
     },
     "execution_count": 47,
     "metadata": {},
     "output_type": "execute_result"
    },
    {
     "data": {
      "text/plain": [
       "4554442752"
      ]
     },
     "execution_count": 47,
     "metadata": {},
     "output_type": "execute_result"
    },
    {
     "data": {
      "text/plain": [
       "True"
      ]
     },
     "execution_count": 47,
     "metadata": {},
     "output_type": "execute_result"
    },
    {
     "data": {
      "text/plain": [
       "False"
      ]
     },
     "execution_count": 47,
     "metadata": {},
     "output_type": "execute_result"
    },
    {
     "data": {
      "text/plain": [
       "4547827264"
      ]
     },
     "execution_count": 47,
     "metadata": {},
     "output_type": "execute_result"
    },
    {
     "data": {
      "text/plain": [
       "True"
      ]
     },
     "execution_count": 47,
     "metadata": {},
     "output_type": "execute_result"
    },
    {
     "data": {
      "text/plain": [
       "False"
      ]
     },
     "execution_count": 47,
     "metadata": {},
     "output_type": "execute_result"
    }
   ],
   "source": [
    "# lists might contain items of different types, but usually the items all have the same type\n",
    "squares = [1, 4, 9, 16, 25]\n",
    "squares\n",
    "\n",
    "# like strings (and all other built-in sequence types), lists can be indexed and sliced:\n",
    "squares[0]\n",
    "squares[-1]\n",
    "squares[-3:]\n",
    "\n",
    "# all slice operations return a new list containing the requested elements\n",
    "shallow_squares = squares[:]    # returns a shallow copy of the list\n",
    "id(squares)    # memory id of squares\n",
    "id(shallow_squares)    # memory id of shallow_squares that shallow_copied from squares\n",
    "shallow_squares == squares    # '==' used to identify if two variables have the same value\n",
    "shallow_squares is squares    # 'is' used to identify if two variables are the same objects in memories\n",
    "\n",
    "another_squares = [1, 4, 9, 16, 25]\n",
    "id(another_squares)\n",
    "\n",
    "another_squares == squares\n",
    "another_squares is squares\n"
   ]
  },
  {
   "cell_type": "code",
   "execution_count": 48,
   "id": "4f58c31a-9076-4b39-a4f6-966baea43a20",
   "metadata": {},
   "outputs": [
    {
     "data": {
      "text/plain": [
       "[1, 4, 9, 16, 25, 36, 49, 64, 81, 100]"
      ]
     },
     "execution_count": 48,
     "metadata": {},
     "output_type": "execute_result"
    }
   ],
   "source": [
    "# list also support operations like concatenation\n",
    "squares + [36, 49, 64, 81, 100]"
   ]
  },
  {
   "cell_type": "code",
   "execution_count": 51,
   "id": "350cdb78-7164-443f-88cd-0fe4b4cd2a89",
   "metadata": {},
   "outputs": [
    {
     "data": {
      "text/plain": [
       "64"
      ]
     },
     "execution_count": 51,
     "metadata": {},
     "output_type": "execute_result"
    },
    {
     "data": {
      "text/plain": [
       "[1, 8, 27, 64, 125]"
      ]
     },
     "execution_count": 51,
     "metadata": {},
     "output_type": "execute_result"
    },
    {
     "data": {
      "text/plain": [
       "[1, 8, 27, 64, 125, 216, 343]"
      ]
     },
     "execution_count": 51,
     "metadata": {},
     "output_type": "execute_result"
    }
   ],
   "source": [
    "# lists are mutable type\n",
    "cubes = [1, 8, 27, 65, 125]\n",
    "4 ** 3    # the cube of 4 is 64, not 65!\n",
    "\n",
    "cubes[3] = 64\n",
    "cubes\n",
    "\n",
    "# add new items at the end of the list by using the append() method\n",
    "cubes.append(216)    # add the cube of 6\n",
    "cubes.append(7 ** 3)\n",
    "cubes"
   ]
  },
  {
   "cell_type": "code",
   "execution_count": 52,
   "id": "2d789f50-1cc4-42c0-b292-1db97800d3a6",
   "metadata": {},
   "outputs": [
    {
     "data": {
      "text/plain": [
       "['a', 'b', 'c', 'd', 'e', 'f', 'g']"
      ]
     },
     "execution_count": 52,
     "metadata": {},
     "output_type": "execute_result"
    },
    {
     "data": {
      "text/plain": [
       "['a', 'b', 'C', 'D', 'E', 'f', 'g']"
      ]
     },
     "execution_count": 52,
     "metadata": {},
     "output_type": "execute_result"
    },
    {
     "data": {
      "text/plain": [
       "['a', 'b', 'f', 'g']"
      ]
     },
     "execution_count": 52,
     "metadata": {},
     "output_type": "execute_result"
    },
    {
     "data": {
      "text/plain": [
       "[]"
      ]
     },
     "execution_count": 52,
     "metadata": {},
     "output_type": "execute_result"
    }
   ],
   "source": [
    "# list slices assignment, this can change the size of the list or clear it entirely\n",
    "letters = ['a', 'b', 'c', 'd', 'e', 'f', 'g']\n",
    "letters\n",
    "\n",
    "# replace some values\n",
    "letters[2:5] = ['C', 'D', 'E']\n",
    "letters\n",
    "\n",
    "# now remove them\n",
    "letters[2:5] = []\n",
    "letters\n",
    "\n",
    "# clear the list by replacing all the elements with an empty list\n",
    "letters[:] = []\n",
    "letters"
   ]
  },
  {
   "cell_type": "code",
   "execution_count": 53,
   "id": "902f5a85-6750-4796-b11a-56d43ca38c09",
   "metadata": {},
   "outputs": [
    {
     "data": {
      "text/plain": [
       "4"
      ]
     },
     "execution_count": 53,
     "metadata": {},
     "output_type": "execute_result"
    },
    {
     "data": {
      "text/plain": [
       "[['a', 'b', 'c'], [1, 2, 3]]"
      ]
     },
     "execution_count": 53,
     "metadata": {},
     "output_type": "execute_result"
    },
    {
     "data": {
      "text/plain": [
       "['a', 'b', 'c']"
      ]
     },
     "execution_count": 53,
     "metadata": {},
     "output_type": "execute_result"
    },
    {
     "data": {
      "text/plain": [
       "'b'"
      ]
     },
     "execution_count": 53,
     "metadata": {},
     "output_type": "execute_result"
    }
   ],
   "source": [
    "# apply built-in function len() to lists\n",
    "letters = ['a', 'b', 'c', 'd']\n",
    "len(letters)\n",
    "\n",
    "# nest lists\n",
    "a = ['a', 'b', 'c']\n",
    "n = [1, 2, 3]\n",
    "x = [a, n]\n",
    "x\n",
    "\n",
    "x[0]\n",
    "x[0][1]"
   ]
  },
  {
   "cell_type": "markdown",
   "id": "5ca462c8-4853-4911-8e7b-e43cc9755e53",
   "metadata": {},
   "source": [
    "## 3.2 First Steps towards programming"
   ]
  },
  {
   "cell_type": "code",
   "execution_count": 59,
   "id": "3b73ced1-0124-43b7-b035-cf533a45a224",
   "metadata": {},
   "outputs": [
    {
     "name": "stdout",
     "output_type": "stream",
     "text": [
      "0,1,1,2,3,5,8,13,21,34,55,89,144,233,377,610,987,"
     ]
    }
   ],
   "source": [
    "# Fibonacci series:\n",
    "# the sum of two elements defines the next\n",
    "\n",
    "def fibo(num):\n",
    "    a, b = 0, 1    # multiple assignment\n",
    "    # any non-zero integer value is true, anything with a non-zero length is true\n",
    "    # standard comparison operators: <(less then), >(great than), ==(equal to), !=(not equal to)..\n",
    "    while a < num:    # the while loop executes as long as the condition remains true\n",
    "        # the body of the loop is indented: indention is Python's way of grouping statements\n",
    "        print(a, end=',')    # the argument end can be used to avoid the newline after the output\n",
    "        a, b = b, a+b    # the expressions on the right-hand side are all evaluated first before any of the assignments take place\n",
    "\n",
    "fibo(1000)"
   ]
  },
  {
   "cell_type": "code",
   "execution_count": 57,
   "id": "a41999ee-197a-4188-b519-d7455563979a",
   "metadata": {},
   "outputs": [
    {
     "name": "stdout",
     "output_type": "stream",
     "text": [
      "The value of i is 65536\n"
     ]
    }
   ],
   "source": [
    "# use print() function to format things nicely\n",
    "i = 256*256\n",
    "print('The value of i is', i)"
   ]
  }
 ],
 "metadata": {
  "kernelspec": {
   "display_name": "Python 3 (ipykernel)",
   "language": "python",
   "name": "python3"
  },
  "language_info": {
   "codemirror_mode": {
    "name": "ipython",
    "version": 3
   },
   "file_extension": ".py",
   "mimetype": "text/x-python",
   "name": "python",
   "nbconvert_exporter": "python",
   "pygments_lexer": "ipython3",
   "version": "3.11.3"
  }
 },
 "nbformat": 4,
 "nbformat_minor": 5
}
