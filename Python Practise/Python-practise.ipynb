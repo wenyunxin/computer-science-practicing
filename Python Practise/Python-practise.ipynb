{
 "cells": [
  {
   "cell_type": "code",
   "execution_count": 1,
   "id": "d53a60bc-41ac-4a35-a57d-c60ea5459557",
   "metadata": {},
   "outputs": [],
   "source": [
    "from IPython.core.interactiveshell import InteractiveShell\n",
    "InteractiveShell.ast_node_interactivity = \"all\""
   ]
  },
  {
   "cell_type": "markdown",
   "id": "174230ea-2964-4d44-a0ee-c5264d5bd9cf",
   "metadata": {},
   "source": [
    "> One has no future if one couldn't teach themself"
   ]
  },
  {
   "cell_type": "markdown",
   "id": "bf789bee-e144-4358-9efd-0bdd3a081938",
   "metadata": {},
   "source": [
    "## Prefeac\n",
    "[what is `#!`?](https://en.wikipedia.org/wiki/Shebang_(Unix)):\n",
    "script with `#!` indicates that it's a excutable script, while using specify interpreter\n",
    "这种方法仅限于linux系统\n",
    "\n",
    "\"python ./hello.md\" using this in shell, can excute the 'hello.md' ignoring the extend name.\n",
    "\n",
    "chmod +x on a file (your script) only means, that you'll make it executable. Right click on your script and chose Properties -> Permissions -> Allow executing file as program, leaves you with the exact same result as the command in terminal.\n",
    "\n",
    "## proof of work\n",
    "[Tsundoku (Japanese: 積ん読)](https://en.wikipedia.org/wiki/Tsundoku): \n",
    "> 指那些买回来堆在那里还没读过的（甚至后来干脆不看了的）书……\n",
    "\n",
    "### jupyter lab setting\n",
    "configure jupyter lab\n",
    "> jupyter lab --generate-config 生成配置文件\n",
    "\n",
    "在此配置文件添加：\n",
    "```bash\n",
    "#c.NotebookApp.token = '' 每次打开生成token\n",
    "#c.NotebookApp.open_browser = False 设置是否使用默认浏览器打开\n",
    "#c.NotebookApp.notebook_dir = '~/' 设置打开的根目录\n",
    "#c.NotebookApp.default_url = '/tree' 用jupyter notebook打开\n",
    "```\n",
    "\n",
    "将 Jupyter lab 配置成系统服务（macOS适用）\n",
    "\n",
    "关于 Jupyter lab themes：使用Stylus浏览器插件，定制jupyterlab的themes\n",
    "\n",
    "全部显示单元格执行结果\n",
    "> from IPython.core.interactiveshell import InteractiveShell\n",
    "InteractiveShell.ast_node_interactivity = \"all\"\n",
    "\n",
    "省事就把这个写入配置文件：\n",
    "> c.InteractiveShell.ast_node_interactivity = \"all\"\n",
    "\n",
    "### Git\n",
    "[Git官方文档](https://git-scm.com/book/en/v2)，反复阅读若干遍"
   ]
  },
  {
   "cell_type": "markdown",
   "id": "d3ba61a6-b7a6-437e-98f1-c961d7e0a4ee",
   "metadata": {},
   "source": [
    "## Part1 准备\n",
    "自学能力是唯一值得被不断磨炼的长技术\n",
    "\n",
    "\n",
    "为什么从编程开始学会自学\n",
    "```bash\n",
    "编程的知识点结构不是线性的。\n",
    "```\n",
    "\n",
    "[Forward declaration](https://en.wikipedia.org/wiki/Forward_declaration): 提前引用。\n",
    "\n",
    "Python文档生成工具：[sphinx](https://www.sphinx-doc.org/en/master/)\n",
    "\n",
    "只靠阅读习得新技能\n",
    "这是自学能力的终极目标\n",
    "> 自己生活工作学习上遇到的所有疑问，书本里应该都有答案 —— 起码有所参考。\n",
    "\n",
    "这让我想起了作家杨绛的话：大部人人面对的问题都是想的太多，而读书太少。\n",
    "\n",
    "注意这个图片引用的例子，这是引用自其他网站的图片(图片下载到本地，但给出图片原文链接)：\n",
    "![Joseph M. Williams’ research visualized (top 10,000 words).](images/Joseph-M-Williams-research-visualized.png)<a href='https://medium.com/@andreas_simons/the-english-language-is-a-lot-more-french-than-we-thought-heres-why-4db2db3542b3'></a>\n",
    "\n",
    "> 阅读“有繁殖能力”的书籍\n",
    "\n",
    "read books that can propagate itself.\n",
    "\n",
    "“讲真，你没有选择，只靠阅读习得新技能，这是你唯一的出路。”\n",
    "\n",
    "阅读基础文档\n",
    "\n",
    "- 基础文档的阅读是为了脱盲\n",
    "- 对基本概念有了一定的了解\n",
    "- 开始有能力相对轻松地阅读部分官方文档\n",
    "- 读懂一些简单的代码\n",
    "\n",
    "**心理建设**\n",
    "> 别怕，啥也别怕，没什么可怕的！\n",
    "> 编程是一门手工课，手艺活，习得工具的使用，创造出想象力中的东西\n"
   ]
  },
  {
   "cell_type": "markdown",
   "id": "24de0016-acc8-4aa8-879c-e1258dda9dde",
   "metadata": {},
   "source": [
    "## 入口\n",
    "\n",
    "### 布尔运算\n",
    "[乔治·布尔](https://en.wikipedia.org/wiki/George_Boole)和他创建的[逻辑运算](https://en.wikipedia.org/wiki/Boolean_algebra)是现代计算机的基石，习得编程技能把布尔运算作为入口；\n",
    "那么习得编程技能之后，学习机器学习的时候，把[贝叶斯定理定理](https://en.wikipedia.org/wiki/Bayes'_theorem)作为入口\n",
    "\n",
    "Boolean Operations, [Boolean expression](https://en.wikipedia.org/wiki/Boolean_expression)\n",
    "\n",
    "[evluate in mathematics](https://www.dictionary.com/browse/evaluate): to determine or calculate the numerical value of (a formula, function, relation, etc.). evaluate在数学中的定义：确定或计算（一个公式、函数、关系等）的数值。\n",
    "\n",
    "**布尔值（Boolean Value）**：`True` `False`\n",
    "\n",
    "**逻辑操作符（Logic Operator）**: \n",
    "| 比较操作符 | 意义     | 示例             | 布尔值  |\n",
    "| ---------- | -------- | ---------------- | ------- |\n",
    "| `==`       | 等于     | `1 == 2`         | `False` |\n",
    "| `!=`       | 不等于   | `1 != 2`         | `True`  |\n",
    "| `>`        | 大于     | `1 > 2`          | `False` |\n",
    "| `>=`       | 大于等于 | `1 >= 1`         | `True`  |\n",
    "| `<`        | 小于     | `1 < 2`          | `True`  |\n",
    "| `<=`       | 小于等于 | `1 <= 2`         | `True`  |\n",
    "| `in`       | 属于     | `'a' in 'basic'` | `True`  |\n",
    "\n",
    "**逻辑操作符的运算对象**（操作数，operand）是数字值和字符串值\n",
    "\n",
    "**布尔运算操作符**（Boolean Operator）：`and`、`or`、`not`\n",
    "| **and** | True     | Flase            | \n",
    "| ---------- | -------- | ---------------- | \n",
    "| True      | True    |     Flase  |\n",
    "| Flase      | Flase     |     Flase    |\n",
    "\n",
    "| **or** | True     | Flase            | \n",
    "| ---------- | -------- | ---------------- | \n",
    "| True      | True    |    True  |\n",
    "| Flase      | True     |     Flase    |\n",
    "\n",
    "| **not** | True     | Flase            | \n",
    "| ---------- | -------- | ---------------- | \n",
    "|          | False   |     True  |\n",
    "\n",
    "### 流程控制\n",
    "\n",
    "control flow\n",
    "\n",
    "`if...else statement`\n",
    "\n",
    "```bash\n",
    "...\n",
    "    if r % 2 == 0:    # 'r % 2 == 0' 叫做表达式，确切的叫布尔表达式, 2 是数字常量（numeric literal）\n",
    "        ...\n",
    "    else:\n",
    "        ...\n",
    "```\n",
    "\n",
    "[literal in Python](https://www.scaler.com/topics/python/literals-in-python/): Python literals are quantities/ notations whose value does not change during the execution of a program.\n",
    "There are five types of literal in Python, which are as follows-\n",
    "\n",
    "- String Literals\n",
    "- Numeric Literals\n",
    "- Boolean Literals\n",
    "- Literal Collections\n",
    "- Special Literals\n",
    "\n",
    "#### 循环（loop）\n",
    "\n",
    "`编程语言（Program Languages）`和`自然语言（Natural Languages）`，编程语言是计算机程序在运行时，计算机所能识别的语言，如Python语言，Java语言等；自然语言就是人们平常交流所能识别的语言。一般在程序注释中，用自然语言来描述\n",
    "\n",
    "一个简单循环案例：\n",
    "```bash\n",
    "for i in range(10):\n",
    "    if i % 2 != 0:\n",
    "        print(i)\n",
    "```\n",
    "这个案例打印出10以内的奇数"
   ]
  },
  {
   "cell_type": "code",
   "execution_count": 3,
   "id": "3c9fe71c-6afd-4a3c-bb42-275dd6c79b7a",
   "metadata": {},
   "outputs": [
    {
     "name": "stdout",
     "output_type": "stream",
     "text": [
      "2\n",
      "3\n",
      "5\n",
      "7\n",
      "11\n",
      "13\n",
      "17\n",
      "19\n",
      "23\n",
      "29\n",
      "31\n",
      "37\n",
      "41\n",
      "43\n",
      "47\n",
      "53\n",
      "59\n",
      "61\n",
      "67\n",
      "71\n",
      "73\n",
      "79\n",
      "83\n",
      "89\n",
      "97\n"
     ]
    }
   ],
   "source": [
    "# 这是个嵌套循环，找出100以内的质数\n",
    "# 算法：质数是2以上数，且除以其自身和1以外的书其商都不等于0\n",
    "for n in range(2, 100):    # 限制查找范围\n",
    "    if n == 2:\n",
    "        print(n)\n",
    "        continue    # 打印质数2之后，回到查找for循环\n",
    "    if n > 2:\n",
    "        for i in range(2, n):\n",
    "            if n % i == 0:    # n除以其自身和1以外的数有存在商为0的情况，说明该数不是质数，break掉\n",
    "                break\n",
    "        else:    # 执行到这里说明n除以其自身和1以外的数不存在商为0的情况\n",
    "            print(n)"
   ]
  },
  {
   "cell_type": "markdown",
   "id": "abf26c32-fa9e-4e55-8232-d5826a593831",
   "metadata": {},
   "source": [
    "#### [算法](https://en.wikipedia.org/wiki/Algorithm)\n",
    "程序的算法在写完之后，可以进行改进，或者说*优化*\n",
    "比如以上的算法可进行优化"
   ]
  },
  {
   "cell_type": "code",
   "execution_count": 4,
   "id": "5d11ad23-c658-4501-bdb7-b3652cc7885e",
   "metadata": {
    "tags": []
   },
   "outputs": [
    {
     "name": "stdout",
     "output_type": "stream",
     "text": [
      "2\n",
      "3\n",
      "5\n",
      "7\n",
      "11\n",
      "13\n",
      "17\n",
      "19\n",
      "23\n",
      "29\n",
      "31\n",
      "37\n",
      "41\n",
      "43\n",
      "47\n",
      "53\n",
      "59\n",
      "61\n",
      "67\n",
      "71\n",
      "73\n",
      "79\n",
      "83\n",
      "89\n",
      "97\n"
     ]
    }
   ],
   "source": [
    "# 从 2 作为除数开始试，试到  𝑛⎯⎯√  之后的一个整数就可以了……\n",
    "for n in range(2, 100):\n",
    "    if n == 2:\n",
    "        print(n)\n",
    "        continue\n",
    "    for i in range(2, int(n ** 0.5)+1): #为什么要 +1 以后再说…… n 的 1/2 次方，相当于根号 n。\n",
    "        if (n % i) == 0:\n",
    "            break\n",
    "    else:\n",
    "        print(n)   "
   ]
  },
  {
   "cell_type": "markdown",
   "id": "4c3a462f-4fa1-4a0d-a1e3-6036bd628df4",
   "metadata": {},
   "source": [
    "关于质数的最优算法有时间可以看看[StackOverflow](https://stackoverflow.com/questions/1801391/how-to-create-the-most-compact-mapping-n-%e2%86%92-isprimen-up-to-a-limit-n)上的讨论，或者[Wikipedia](https://en.wikipedia.org/wiki/Generation_of_primes)上的说明\n",
    "\n",
    "> 写代码是基础工具，重要的是思考能力，即算法的效能"
   ]
  },
  {
   "cell_type": "markdown",
   "id": "f2e5e219-5a9b-412d-9829-c58d83d23611",
   "metadata": {},
   "source": [
    "#### 所谓函数\n",
    "\n",
    "Fuction Name, Parameters, Return Value, Call\n",
    "\n",
    "\n",
    "#### 细节补充\n",
    "**statements**\n",
    "\n",
    "**statements block**\n",
    "Python用冒号“：”作为一个语句块开始的标志\n",
    "\n",
    "> 注意：在同一个文件里，不建议混合使用 Tab 和 Space；要么全用空格，要么全用制表符。\n",
    "\n",
    "**注释**-anotation\n",
    "在 Python 程序中可以用 # 符号标示注释语句\n",
    "> 人写的 Python 语言代码，要被 Python 解释器翻译成机器语言，而后才能让计算机 “读懂”，随后计算机才可以按照指令执行。解释器在编译程序的过程中，遇到 # 符号，就会忽略其后的部分（包括这个注释符号）。\n",
    "\n",
    "**操作符**\n",
    "在本节，我们见到的比较操作符可以比较它左右的值，而后返回一个布尔值。\n",
    "> 对于数字，我们可用的操作符有 `+`、`-`、`*`、`/`、`//`、`%`、`**` —— 它们分别代表加、减、乘、除、商、余、幂。\n",
    "\n",
    "**总结**\n",
    "- data: `Int`、`Boolen Value`、`Operator`；`Variable`、`Assignment`、`Expression`\n",
    "- `Function`、`Sub program`、`Return value`、`Call`\n",
    "- `Control Flow`、`Branch`、`Loop`\n",
    "- `Algorithm`、`Optimize`\n",
    "- procedure: `Statement`、`Anotation`、`Statement BLock`\n",
    "- `Input`、`Process`、`Output`\n",
    "- Interpreter\n",
    "\n",
    "顺手学习其他语言，比如数据视觉化用R"
   ]
  },
  {
   "cell_type": "markdown",
   "id": "1690f562-094e-43c1-bd3e-27d2199a3f31",
   "metadata": {},
   "source": [
    "## Part1 Value & Value Operator\n",
    "\n",
    "计算程序主要由两个最基本的成分构成：\n",
    "> **运算**（Evaluation）\n",
    "> **流程控制**（Control Flow）\n",
    "\n",
    "函数的调用，也是控制流程，可以**把函数看作是 “子程序”**；\n",
    "\n",
    "### Value\n",
    "\n",
    "在程序中，被运算（**Evaluate**）的可分为**常量**（Literals）和**变量**（Variables）\n",
    "```bash\n",
    "a = 1 + 2 * 3\n",
    "a += 1\n",
    "print(a)\n",
    "```\n",
    "\n",
    "上面代码中，`1`、`2`、`3`，都是**常量**。*Literal*的意思是“字面的”，顾名思义，常量的值就是它字面上的值。`1` 的值，就是 1\n",
    "\n",
    "第 1 句中的 `+`、`*`，是**操作符**（Operators），它用来对其左右的值进行相应的*运算*而后得到一个值。\n",
    "\n",
    "*值*是程序的基础成分（Building blocks），就像盖房子的砖块\n",
    "\n",
    "*常量*，当然有个*值*——就是它们字面所表达的值\n",
    "\n",
    "在 Python 中每个函数都有*返回值*，即便你在定义一个函数的时候没有设定返回值，它也会加上默认的返回值 `None`\n",
    "\n",
    "### Types of Values\n",
    "\n",
    "在编程语言中，总是包含最基本的三种数据类型：\n",
    "\n",
    "> - 布尔值（Boolean Value)\n",
    "> - 数字（Numbers）：整数（Int）、浮点数（Float）、复数（Complex Numbers）\n",
    "> - 字符串（Strings）\n",
    "\n",
    "既然有不同类型的数据，它们就分别对应着不同类型的值。\n",
    "\n",
    "**Type Casting**（类型转换）：\n",
    "\n",
    "> - 将字符串转换为数字用 `int()`、`float()`；\n",
    "> - 将数字转换成字符串用 `str()`；\n",
    "\n",
    "### Operator\n",
    "\n",
    "针对不同的数据类型，有各自专用的**操作符**，Python官方文档的完整操作符优先级列表：\n",
    "\n",
    "> https://docs.python.org/3/reference/expressions.html#operator-precedence\n",
    "\n",
    "大体上是数值操作符的优先级大于逻辑操作符，大于布尔运算操作符的优先级\n",
    "\n",
    "\n",
    "\n",
    "### Container\n",
    "\n",
    "String, List, Array, Set, Dictionary\n",
    "\n",
    "\n",
    "\n",
    "### 更复杂的运算\n",
    "\n",
    "Python中更复杂的运算由内置函数（[Built-in Functions](https://docs.python.org/3/library/functions.html)）完成：\n",
    "\n",
    "| (                                                            | Python                                                       | Built-in                                                     | Functions                                                    | )                                                            |\n",
    "| ------------------------------------------------------------ | ------------------------------------------------------------ | ------------------------------------------------------------ | ------------------------------------------------------------ | ------------------------------------------------------------ |\n",
    "| [abs()](https://docs.python.org/3/library/functions.html#abs) | [delattr()](https://docs.python.org/3/library/functions.html#delattr) | [hash()](https://docs.python.org/3/library/functions.html#hash) | [memoryview()](https://docs.python.org/3/library/functions.html#func-memoryview) | [set()](https://docs.python.org/3/library/functions.html#func-set) |\n",
    "| [all()](https://docs.python.org/3/library/functions.html#all) | [dict()](https://docs.python.org/3/library/functions.html#func-dict) | [help()](https://docs.python.org/3/library/functions.html#help) | [min()](https://docs.python.org/3/library/functions.html#min) | [setattr()](https://docs.python.org/3/library/functions.html#setattr) |\n",
    "| [any()](https://docs.python.org/3/library/functions.html#any) | [dir()](https://docs.python.org/3/library/functions.html#dir) | [hex()](https://docs.python.org/3/library/functions.html#hex) | [next()](https://docs.python.org/3/library/functions.html#next) | [slice()](https://docs.python.org/3/library/functions.html#slice) |\n",
    "| [ascii()](https://docs.python.org/3/library/functions.html#ascii) | [divmod()](https://docs.python.org/3/library/functions.html#divmod) | [id()](https://docs.python.org/3/library/functions.html#id)  | [object()](https://docs.python.org/3/library/functions.html#object) | [sorted()](https://docs.python.org/3/library/functions.html#sorted) |\n",
    "| [bin()](https://docs.python.org/3/library/functions.html#bin) | [enumerate()](https://docs.python.org/3/library/functions.html#enumerate) | [input()](https://docs.python.org/3/library/functions.html#input) | [oct()](https://docs.python.org/3/library/functions.html#oct) | [staticmethod()](https://docs.python.org/3/library/functions.html#staticmethod) |\n",
    "| [bool()](https://docs.python.org/3/library/functions.html#bool) | [eval()](https://docs.python.org/3/library/functions.html#eval) | [int()](https://docs.python.org/3/library/functions.html#int) | [open()](https://docs.python.org/3/library/functions.html#open) | [str()](https://docs.python.org/3/library/functions.html#func-str) |\n",
    "| [breakpoint()](https://docs.python.org/3/library/functions.html#breakpoint) | [exec()](https://docs.python.org/3/library/functions.html#exec) | [isinstance()](https://docs.python.org/3/library/functions.html#isinstance) | [ord()](https://docs.python.org/3/library/functions.html#ord) | [sum()](https://docs.python.org/3/library/functions.html#sum) |\n",
    "| [bytearray()](https://docs.python.org/3/library/functions.html#func-bytearray) | [filter()](https://docs.python.org/3/library/functions.html#filter) | [issubclass()](https://docs.python.org/3/library/functions.html#issubclass) | [pow()](https://docs.python.org/3/library/functions.html#pow) | [super()](https://docs.python.org/3/library/functions.html#super) |\n",
    "| [bytes()](https://docs.python.org/3/library/functions.html#func-bytes) | [float()](https://docs.python.org/3/library/functions.html#float) | [iter()](https://docs.python.org/3/library/functions.html#iter) | [print()](https://docs.python.org/3/library/functions.html#print) | [tuple()](https://docs.python.org/3/library/functions.html#func-tuple) |\n",
    "| [callable()](https://docs.python.org/3/library/functions.html#callable) | [format()](https://docs.python.org/3/library/functions.html#format) | [len()](https://docs.python.org/3/library/functions.html#len) | [property()](https://docs.python.org/3/library/functions.html#property) | [type()](https://docs.python.org/3/library/functions.html#type) |\n",
    "| [chr()](https://docs.python.org/3/library/functions.html#chr) | [frozenset()](https://docs.python.org/3/library/functions.html#func-frozenset) | [list()](https://docs.python.org/3/library/functions.html#func-list) | [range()](https://docs.python.org/3/library/functions.html#func-range) | [vars()](https://docs.python.org/3/library/functions.html#vars) |\n",
    "| [classmethod()](https://docs.python.org/3/library/functions.html#classmethod) | [getattr()](https://docs.python.org/3/library/functions.html#getattr) | [locals()](https://docs.python.org/3/library/functions.html#locals) | [repr()](https://docs.python.org/3/library/functions.html#repr) | [zip()](https://docs.python.org/3/library/functions.html#zip) |\n",
    "| [compile()](https://docs.python.org/3/library/functions.html#compile) | [globals()](https://docs.python.org/3/library/functions.html#globals) | [map()](https://docs.python.org/3/library/functions.html#map) | [reversed()](https://docs.python.org/3/library/functions.html#reversed) | [**import**()](https://docs.python.org/3/library/functions.html#__import__) |\n",
    "| [complex()](https://docs.python.org/3/library/functions.html#complex) | [hasattr()](https://docs.python.org/3/library/functions.html#hasattr) | [max()](https://docs.python.org/3/library/functions.html#max) | [round()](https://docs.python.org/3/library/functions.html#round) |                                                              |\n",
    "\n",
    "但有些更高级的运算，需要借助标准库（[Standard Library](https://docs.python.org/3/library/index.html)）来完成，如调用标准库（Standard Library）中的 math 模块（Module）来完成三角函数的计算\n",
    "\n",
    "```bash\n",
    "import math\n",
    "math.sin(5)\n",
    "```\n",
    "\n",
    "代码 `math.sin(5)` 这里的 `.`，也可以被理解为 “操作符”，它的作用是：\n",
    "\n",
    "> 从其它模块中调用函数。\n",
    "\n",
    "其实就是属性引用（attribute reference），可以理解为`sin`函数是`math`这个标准库的一个属性。属性（`attribute`）有特征（`property`？）属性（名词性属性）和方法（`method`）属性（动词性属性）\n",
    "\n",
    "`attribute`这个概念原本在类`Class`的定义中表达的。\n",
    "\n",
    "\n",
    "\n",
    "### 关于布尔值的补充\n",
    "\n",
    "这是因为 Python 将 `True` 定义为：\n",
    "\n",
    "> By default, an object is considered true unless its class defines either a __bool__() method that returns `False` or a __len__() method that returns zero, when called with the object.\n",
    ">\n",
    "> https://docs.python.org/3/library/stdtypes.html#truth-value-testing\n",
    "\n",
    "这一段文字，初学者是看不懂的。但下一段就好理解了：\n",
    "\n",
    "> Here are most of the built-in objects considered `False`:\n",
    ">\n",
    "> > - constants defined to be false: `None` and `False`.\n",
    "> > - zero of any numeric type: `0`, `0.0`, `0j`, `Decimal(0)`, `Fraction(0, 1)`\n",
    "> > - empty sequences and collections: `''`, `()`, `[]`, `{}`, `set()`, `range(0)`\n",
    "\n",
    "所以，`'Python'` 是个非空的字符串，即，不属于是 `empty sequences`，所以它不被认为是 `False`，即，它的布尔值是 `True`\n",
    "\n",
    "于是，这么理解就轻松了：\n",
    "\n",
    "> 每个变量或者常量，除了它们的值之外，同时还相当于有一个对应的布尔值。\n",
    "\n",
    "### 关于值的类型的补充\n",
    "\n",
    "除了数字、布尔值、字符串，以及上一小节介绍的列表之外，还有若干数据类型，比如 `range()`（等差数列）、`tuple`（元组）、`set`（集合）、`dictionary`（字典），再比如 `Date Type`（日期）等等。\n",
    "\n",
    "他们之间有时候也需要进行相应的Type Casting\n"
   ]
  },
  {
   "cell_type": "markdown",
   "id": "d2e0e0d6-ade4-4e2e-80c5-14d10ab075f3",
   "metadata": {},
   "source": [
    "## Python tutorial"
   ]
  },
  {
   "cell_type": "markdown",
   "id": "03481bc5-ae41-43ab-9d7a-b8095673df53",
   "metadata": {},
   "source": [
    "the learing order: Python tutorial(informal to basic concepts and features of the Python language and system) -> Thy Python Language Reference & The Python Standard Library(formal definition of syntax and lexical, a description of standard objects and modules) -> High-level application, such as write API and third-part library "
   ]
  },
  {
   "cell_type": "markdown",
   "id": "464af9f2-da95-4ffe-b6aa-a85dd133e514",
   "metadata": {},
   "source": [
    "Python可是用来编写自动化脚本工具，如对文本批量的查找替换，整理和重命名。写一个小型的自定义数据库；或GUI应用，或一个小游戏。\n",
    "用Python给C/C++编写测试套件。\n",
    "Python有有内置的高级数据类型，如灵活的数组和字典，提供更多的错误检查等。\n",
    "\n",
    "可以把 Python 解释器链接到用 C 写的应用程序中，并把它作为该应用程序的扩展或命令语言。"
   ]
  },
  {
   "cell_type": "markdown",
   "id": "73b15874-d174-41d3-9cdc-1d7521bdcdef",
   "metadata": {},
   "source": [
    "### Using the Python interpreter"
   ]
  },
  {
   "cell_type": "markdown",
   "id": "9e1dfe1c-ee1a-4cb1-b077-edb7cf66b4b3",
   "metadata": {},
   "source": [
    "`/usr/local/bin` is for Unix-like system. This is referred to [FileSystem Hierarchy Standard](https://www.pathname.com/fhs/). This is an appendix article for file system: https://www.aplawrence.com/Opinion/religion.html\n",
    "\n",
    "`/usr/local`: The /usr/local hierarchy is for use by the system administrator when installing software locally. It needs to\n",
    "be safe from being overwritten when the system software is updated. It may be used for programs and data that\n",
    "are shareable amongst a group of hosts, but not found in /usr.\n",
    "Locally installed software must be placed within /usr/local rather than /usr unless it is being installed to\n",
    "replace or upgrade software in /usr.\n",
    "> `/usr/local` 层次结构是供系统管理员在本地安装软件时使用的。当系统软件被更新时，它需要被安全地覆盖掉。它可以用于在一组主机中可以共享的程序和数据，但在/usr中找不到。本地安装的软件必须放在/usr/local而不是/usr中，除非它被安装来替换或升级/usr中的软件。\n",
    "\n",
    "`/bin` : Essential user command binaries (for use by all users)\n",
    "\n",
    "`/usr/local/bin` is Local binaries diretory where command binaries located for system administrator installed software.\n",
    "\n",
    "[shell](https://en.wikipedia.org/wiki/Shell_(computing)): In [computing](https://en.wikipedia.org/wiki/Computing), a **shell** is a computer program that exposes an [operating system](https://en.wikipedia.org/wiki/Operating_system)'s services to a human user or other programs. In general, operating system shells use either a [command-line interface](https://en.wikipedia.org/wiki/Command-line_interface) (CLI) or [graphical user interface](https://en.wikipedia.org/wiki/Graphical_user_interface) (GUI), depending on a computer's role and particular operation. It is named a shell because it is the outermost layer around the operating system.[[1\\]](https://en.wikipedia.org/wiki/Shell_(computing)#cite_note-Economist-1)[[2\\]](https://en.wikipedia.org/wiki/Shell_(computing)#cite_note-JargonFile-2)\n",
    "\n",
    "> 在[计算机](https://en.wikipedia.org/wiki/Computing)中，**shell**是一个计算机程序，它将[操作系统](https://en.wikipedia.org/wiki/Operating_system)的服务暴露给人类用户或其他程序。一般来说，操作系统的shell使用[命令行界面](https://en.wikipedia.org/wiki/Command-line_interface) (CLI)或[图形用户界面](https://en.wikipedia.org/wiki/Graphical_user_interface) (GUI)，这取决于计算机的角色和特定操作。它被命名为shell，因为它是围绕操作系统的最外层。[[1]](https://en.wikipedia.org/wiki/Shell_(computing)#cite_note-Economist-1)[[2]](https://en.wikipedia.org/wiki/Shell_(computing)#cite_note-JargonFile-2)\n",
    "\n",
    "[Command Prompt](https://en.wikipedia.org/wiki/Windows_Command_Prompt), a CLI shell in Windows; [Bash](https://en.wikipedia.org/wiki/Bash_(Unix_shell)), a widely adopted [Unix shell](https://en.wikipedia.org/wiki/Unix_shell)"
   ]
  },
  {
   "cell_type": "markdown",
   "id": "cda50825-c6ee-4e03-aa06-37ee2a12e1db",
   "metadata": {},
   "source": [
    "[IDLE](https://en.wikipedia.org/wiki/IDLE) Python is an [integrated development environment](https://en.wikipedia.org/wiki/Integrated_development_environment) for [Python](https://en.wikipedia.org/wiki/Python_(programming_language)), which has been bundled with the default implementation of the language since 1.5.2b1.[[4\\]](https://en.wikipedia.org/wiki/IDLE#cite_note-4)[[5\\]](https://en.wikipedia.org/wiki/IDLE#cite_note-5) It is packaged as an optional part of the Python packaging with many [Linux distributions](https://en.wikipedia.org/wiki/Linux_distributions). It is completely written in Python and the [Tkinter](https://en.wikipedia.org/wiki/Tkinter) GUI toolkit ([wrapper](https://en.wikipedia.org/wiki/Wrapper_function) functions for [Tcl](https://en.wikipedia.org/wiki/Tcl)/[Tk](https://en.wikipedia.org/wiki/Tk_(framework)))."
   ]
  },
  {
   "cell_type": "markdown",
   "id": "bfbfb838-722c-4a05-b63f-55d2ec23b8fc",
   "metadata": {},
   "source": [
    "[the top 3 easter eggs in Python](https://www.alanzucconi.com/2015/10/29/the-top-5-easter-eggs-in-python/)\n",
    "\n",
    "`python -c command [arg]...` is a way to starting interpreter in shell, but it doesn't print anything in windows's shell prompt.\n",
    "\n",
    "`python -m module [arg]...` works in windows's shell prompt.\n",
    "\n",
    "more on [Command line and environment](https://docs.python.org/3/using/cmdline.html)"
   ]
  },
  {
   "cell_type": "markdown",
   "id": "4c2b701e-f121-4a6d-9fe0-74144882d745",
   "metadata": {},
   "source": [
    "For example, to declare that Windows-1252 encoding is to be used, the first line of your source code file should be:\n",
    "```Python\n",
    "# -*- coding: cp1252 -*-\n",
    "```\n",
    "\n",
    "One exception to the first line rule is when the source code starts with a UNIX “shebang” line. In this case, the encoding declaration should be added as the second line of the file. For example:\n",
    "```Python\n",
    "#!/usr/bin/env python3\n",
    "# -*- coding: cp1252 -*-\n",
    "```"
   ]
  },
  {
   "cell_type": "markdown",
   "id": "c6bcd3be-1c2b-4c0d-bd88-e83185c659b7",
   "metadata": {},
   "source": [
    "### An Informal Introduction to Python"
   ]
  },
  {
   "cell_type": "markdown",
   "id": "62d1323b-e9b9-4b73-86fd-2eaa9a5f56b3",
   "metadata": {},
   "source": [
    "Using Python as a calculator:\n",
    "the operator  `+`, `-`, `*` and `/` work just like in most other languages\n",
    "\n",
    "note: division `/` alwasy returens a floating point, `10 / 5` will return `2.0`. \n",
    "foor division `//` makes the floored quotient, operator `%` makes the remainder.\n",
    "\n",
    "`**` operator to calculate power\n",
    "\n",
    "`=` is an assignment operator"
   ]
  },
  {
   "cell_type": "code",
   "execution_count": 5,
   "id": "ffe22ee1-2831-4d2e-8edb-58e7b3315807",
   "metadata": {},
   "outputs": [
    {
     "data": {
      "text/plain": [
       "'spam eggs'"
      ]
     },
     "execution_count": 5,
     "metadata": {},
     "output_type": "execute_result"
    },
    {
     "data": {
      "text/plain": [
       "\"doesn't\""
      ]
     },
     "execution_count": 5,
     "metadata": {},
     "output_type": "execute_result"
    },
    {
     "data": {
      "text/plain": [
       "\"doesn't\""
      ]
     },
     "execution_count": 5,
     "metadata": {},
     "output_type": "execute_result"
    },
    {
     "data": {
      "text/plain": [
       "'\"Yes,\" they said.'"
      ]
     },
     "execution_count": 5,
     "metadata": {},
     "output_type": "execute_result"
    },
    {
     "data": {
      "text/plain": [
       "'\"Yes,\" they said.'"
      ]
     },
     "execution_count": 5,
     "metadata": {},
     "output_type": "execute_result"
    },
    {
     "data": {
      "text/plain": [
       "'\"Isn\\'t,\" they said.'"
      ]
     },
     "execution_count": 5,
     "metadata": {},
     "output_type": "execute_result"
    },
    {
     "name": "stdout",
     "output_type": "stream",
     "text": [
      "doesn't\n"
     ]
    }
   ],
   "source": [
    "# single quotes & double quotes for strings\n",
    "\n",
    "'spam eggs'  # single quotes, in interactive mode, this will be single quote\n",
    "\n",
    "'doesn\\'t'  # use \\' to escape the single quote..., output is double quote\n",
    "\n",
    "\"doesn't\"  # ...or use double quotes instead\n",
    "\n",
    "'\"Yes,\" they said.'\n",
    "\n",
    "\"\\\"Yes,\\\" they said.\"  # the output quotes change\n",
    "\n",
    "'\"Isn\\'t,\" they said.'\n",
    "\n",
    "print(\"doesn't\")"
   ]
  },
  {
   "cell_type": "markdown",
   "id": "a1376813-38f3-4618-9c61-b8bf343df7db",
   "metadata": {},
   "source": [
    "interactive interpreter  交互式解释器；就像jupyter notebook 使用的解释器就是交互式解释器"
   ]
  },
  {
   "cell_type": "code",
   "execution_count": 6,
   "id": "d043ab7c-6b6d-4866-b505-2e92a2f34b95",
   "metadata": {},
   "outputs": [
    {
     "data": {
      "text/plain": [
       "'\"It\\'t,\" they said'"
      ]
     },
     "execution_count": 6,
     "metadata": {},
     "output_type": "execute_result"
    },
    {
     "name": "stdout",
     "output_type": "stream",
     "text": [
      "\"It't,\" they said\n",
      "First line. \n",
      "Second line.\n"
     ]
    }
   ],
   "source": [
    "# The print() function produces a more readable output, \n",
    "# by omitting the enclosing quotes and by printing escaped and special characters:\n",
    "\n",
    "'\"It\\'t,\" they said'\n",
    "print('\"It\\'t,\" they said')\n",
    "\n",
    "s = 'First line. \\nSecond line.'\n",
    "print('First line. \\nSecond line.')"
   ]
  },
  {
   "cell_type": "code",
   "execution_count": 7,
   "id": "b39e8c26-5a7d-46d7-9307-b0a2b44c74cb",
   "metadata": {},
   "outputs": [
    {
     "name": "stdout",
     "output_type": "stream",
     "text": [
      "C:\\some\n",
      "ame\n",
      "C:\\some\\name\n"
     ]
    }
   ],
   "source": [
    "#  use raw strings by adding an r before the first quote:\n",
    "print('C:\\some\\name')  # here \\n means newline!\n",
    "\n",
    "print(r'C:\\some\\name')  # note the r before the quote"
   ]
  },
  {
   "cell_type": "markdown",
   "id": "c9deec49-bb88-4558-9b5c-085ff4de5538",
   "metadata": {},
   "source": [
    "using triple-quotes: `\"\"\"...\"\"\"` or `'''...'''` to indicate String literals can span multiple lines\n"
   ]
  },
  {
   "cell_type": "code",
   "execution_count": 8,
   "id": "46624d3e-9287-4d87-a207-c4a950229806",
   "metadata": {},
   "outputs": [
    {
     "name": "stdout",
     "output_type": "stream",
     "text": [
      "Usage: thingy [OPTIONS]\n",
      "     -h                        Display this usage message\n",
      "     -H hostname               Hostname to connect to\n",
      "\n"
     ]
    }
   ],
   "source": [
    "# note that the initial newline is not included\n",
    "\n",
    "print(\"\"\"\\\n",
    "Usage: thingy [OPTIONS]\n",
    "     -h                        Display this usage message\n",
    "     -H hostname               Hostname to connect to\n",
    "\"\"\")"
   ]
  },
  {
   "cell_type": "code",
   "execution_count": 9,
   "id": "bf0e713e-343c-4d8f-b909-dbf46782120c",
   "metadata": {},
   "outputs": [
    {
     "data": {
      "text/plain": [
       "'unununium'"
      ]
     },
     "execution_count": 9,
     "metadata": {},
     "output_type": "execute_result"
    },
    {
     "data": {
      "text/plain": [
       "'Python'"
      ]
     },
     "execution_count": 9,
     "metadata": {},
     "output_type": "execute_result"
    },
    {
     "data": {
      "text/plain": [
       "'Put several strings within parentheses to have them joined together.'"
      ]
     },
     "execution_count": 9,
     "metadata": {},
     "output_type": "execute_result"
    }
   ],
   "source": [
    "# String can be concatenated (glued together) with the + operator, \n",
    "# and repeated with *:\n",
    "3 * 'un' + 'ium'\n",
    "\n",
    "# Two or more string literals (i.e. the ones enclosed between quotes) next to each other are \n",
    "# automatically concatenated.\n",
    "'Py' 'thon'\n",
    "\n",
    "text = ('Put several strings within parentheses '\n",
    "        'to have them joined together.')\n",
    "text"
   ]
  },
  {
   "cell_type": "code",
   "execution_count": 10,
   "id": "32698779-3735-4d31-abfa-55363f39f200",
   "metadata": {},
   "outputs": [
    {
     "data": {
      "text/plain": [
       "'P'"
      ]
     },
     "execution_count": 10,
     "metadata": {},
     "output_type": "execute_result"
    },
    {
     "data": {
      "text/plain": [
       "'n'"
      ]
     },
     "execution_count": 10,
     "metadata": {},
     "output_type": "execute_result"
    }
   ],
   "source": [
    "# String can be indexed, a character of a string is a string of size one:\n",
    "word = 'Python'\n",
    "word[0]\n",
    "word[5]"
   ]
  },
  {
   "cell_type": "code",
   "execution_count": 11,
   "id": "2644d4ca-2959-4824-98cb-e1b7145c9ef1",
   "metadata": {},
   "outputs": [
    {
     "data": {
      "text/plain": [
       "'on'"
      ]
     },
     "execution_count": 11,
     "metadata": {},
     "output_type": "execute_result"
    },
    {
     "data": {
      "text/plain": [
       "'Pyth'"
      ]
     },
     "execution_count": 11,
     "metadata": {},
     "output_type": "execute_result"
    }
   ],
   "source": [
    "word[-2:]\n",
    "word[:-2]"
   ]
  },
  {
   "cell_type": "code",
   "execution_count": 12,
   "id": "42d66103-7cfe-40f4-99fa-b3f13bbb68be",
   "metadata": {},
   "outputs": [
    {
     "data": {
      "text/plain": [
       "6"
      ]
     },
     "execution_count": 12,
     "metadata": {},
     "output_type": "execute_result"
    }
   ],
   "source": [
    "len(word)"
   ]
  },
  {
   "cell_type": "markdown",
   "id": "bd4fc5a1-7107-4831-bf07-b991c897ad1d",
   "metadata": {},
   "source": [
    "Type `String` reference:\n",
    "\n",
    "[Text Sequence Type — str](https://docs.python.org/3/library/stdtypes.html#textseq)\n",
    "\n",
    "Strings are examples of *sequence types*, and support the common operations supported by such types.\n",
    "\n",
    "[String Methods](https://docs.python.org/3/library/stdtypes.html#string-methods)\n",
    "\n",
    "Strings support a large number of methods for basic transformations and searching.\n",
    "\n",
    "[Formatted string literals](https://docs.python.org/3/reference/lexical_analysis.html#f-strings)\n",
    "\n",
    "String literals that have embedded expressions.\n",
    "\n",
    "[Format String Syntax](https://docs.python.org/3/library/string.html#formatstrings)\n",
    "\n",
    "Information about string formatting with [`str.format()`](https://docs.python.org/3/library/stdtypes.html#str.format).\n",
    "\n",
    "[printf-style String Formatting](https://docs.python.org/3/library/stdtypes.html#old-string-formatting)\n",
    "\n",
    "The old formatting operations invoked when strings are the left operand of the `%` operator are described in more detail here."
   ]
  },
  {
   "cell_type": "markdown",
   "id": "c990c18e-94d4-4711-973e-182a6fa9fe75",
   "metadata": {},
   "source": [
    "**字符串部分需要刻意练习的部分**：Format String，格式化部分"
   ]
  },
  {
   "cell_type": "markdown",
   "id": "17fc2c99-dfb4-467d-b959-068dc5e809c0",
   "metadata": {},
   "source": [
    "**list**\n",
    "\n",
    "Lists might contain items of different types, but usually the items all have the same type.\n",
    "\n",
    "List can be indexed and sliced. Note the [shallow copy](https://docs.python.org/3/library/copy.html#shallow-vs-deep-copy) of the list"
   ]
  },
  {
   "cell_type": "code",
   "execution_count": 13,
   "id": "9a4d300e-1338-4282-9ec4-1d9dfad46fd8",
   "metadata": {},
   "outputs": [
    {
     "data": {
      "text/plain": [
       "[1, 4, 9, 16, 25]"
      ]
     },
     "execution_count": 13,
     "metadata": {},
     "output_type": "execute_result"
    },
    {
     "data": {
      "text/plain": [
       "[1, 4, 9, 16, 25]"
      ]
     },
     "execution_count": 13,
     "metadata": {},
     "output_type": "execute_result"
    },
    {
     "data": {
      "text/plain": [
       "True"
      ]
     },
     "execution_count": 13,
     "metadata": {},
     "output_type": "execute_result"
    },
    {
     "data": {
      "text/plain": [
       "[1, 4, 9, 16, 25]"
      ]
     },
     "execution_count": 13,
     "metadata": {},
     "output_type": "execute_result"
    },
    {
     "data": {
      "text/plain": [
       "True"
      ]
     },
     "execution_count": 13,
     "metadata": {},
     "output_type": "execute_result"
    }
   ],
   "source": [
    "# reference: https://docs.python.org/3/library/copy.html\n",
    "import copy\n",
    "squares = [x**2 for x in range(1, 6)]\n",
    "squares\n",
    "\n",
    "shallow_squares = squares[:]\n",
    "shallow_squares\n",
    "\n",
    "shallow_squares == squares\n",
    "\n",
    "deep_squares = copy.deepcopy(squares)\n",
    "deep_squares\n",
    "\n",
    "deep_squares == squares"
   ]
  },
  {
   "cell_type": "markdown",
   "id": "d3555feb-843a-4e84-a078-5dd36d1e0c90",
   "metadata": {},
   "source": [
    "List operation includes:\n",
    "contatenation: `+`; mutable operation: `square[1:2]=5`; \n",
    "add new item at the end of the list: `square.append(36)`;\n",
    "len the list: `len(square)`;\n",
    "nest list: `square[6] = [49, 64]`"
   ]
  },
  {
   "cell_type": "markdown",
   "id": "a978a3a8-a049-47b1-9997-c80fd64ae104",
   "metadata": {},
   "source": [
    "**towards programming**"
   ]
  },
  {
   "cell_type": "code",
   "execution_count": 14,
   "id": "34a6bcfd-c887-4743-8dce-13cddb081c5d",
   "metadata": {
    "tags": []
   },
   "outputs": [
    {
     "name": "stdout",
     "output_type": "stream",
     "text": [
      "1\n",
      "1\n",
      "2\n",
      "3\n",
      "5\n",
      "8\n",
      "13\n",
      "21\n",
      "34\n",
      "55\n",
      "89\n"
     ]
    }
   ],
   "source": [
    "# Finonacci series: the sum of two elements defines the next\n",
    "a, b = 1, 1\n",
    "while a < 100:\n",
    "    print(a)\n",
    "    a, b = b, a+b"
   ]
  },
  {
   "cell_type": "markdown",
   "id": "610dbccf-777f-428e-a8d5-e96fb1ef38ef",
   "metadata": {},
   "source": [
    "the example introduce several new features:\n",
    "- multiple assignment\n",
    "- The [`while`](https://docs.python.org/3/reference/compound_stmts.html#while) loop \n",
    "- indentation os Python's way of grouping statements.\n",
    "- the `print()` function, it's explaination: `print(*objects, sep=' ', end='\\n', file=sys.stdout, flush=False)`\n",
    "\n",
    "*note*: any type value has a Boolean value itself, the Boolean value of any no-empty type value is `Ture`; the Boolean value of empty type value, like zero num, empty List, is `False`"
   ]
  },
  {
   "cell_type": "markdown",
   "id": "ae6ec9cf-0504-4208-bc50-f056057a7f09",
   "metadata": {},
   "source": [
    "### More Control Flow Tools"
   ]
  },
  {
   "cell_type": "markdown",
   "id": "e77921a3-037d-4a16-a70d-7eb1360055a2",
   "metadata": {},
   "source": [
    "**`if Statement`**\n",
    "\n",
    "example:"
   ]
  },
  {
   "cell_type": "code",
   "execution_count": 15,
   "id": "d80a3781-a0e7-490b-82e8-228fd46afad0",
   "metadata": {},
   "outputs": [
    {
     "name": "stdin",
     "output_type": "stream",
     "text": [
      "Please enter an integar:  3\n"
     ]
    },
    {
     "name": "stdout",
     "output_type": "stream",
     "text": [
      "More\n"
     ]
    }
   ],
   "source": [
    "num = int(input(\"Please enter an integar: \"))\n",
    "\n",
    "if num < 0:\n",
    "    x = 0\n",
    "    print(\"Negative changed to zero\")\n",
    "elif num == 0:\n",
    "    print(\"Zero\")\n",
    "elif num == 1:\n",
    "    print(\"Single\")\n",
    "else:\n",
    "    print(\"More\")\n",
    "    \n",
    "# If you’re comparing the same value to several constants, or checking for specific types or attributes, \n",
    "# you may also find the match statement usefulhttps://docs.python.org/3/tutorial/controlflow.html#tut-match"
   ]
  },
  {
   "cell_type": "markdown",
   "id": "de8fa1d6-4df4-4199-9775-3f9522935293",
   "metadata": {},
   "source": [
    "`for` **statements**\n",
    "\n",
    "Python’s `for` statement iterates over the items of any sequence (a list or a string), in the order that they appear in the sequence. For example:"
   ]
  },
  {
   "cell_type": "code",
   "execution_count": 16,
   "id": "eb875bea-6fd6-4ded-bdb8-9b1238df4699",
   "metadata": {},
   "outputs": [
    {
     "name": "stdout",
     "output_type": "stream",
     "text": [
      "cat: 3\n",
      "window: 6\n",
      "defenestrate: 12\n"
     ]
    }
   ],
   "source": [
    "# Measure some strings\n",
    "words = ['cat', 'window', 'defenestrate']\n",
    "for w in words:\n",
    "    print(w, len(w), sep=\": \")"
   ]
  },
  {
   "cell_type": "markdown",
   "id": "671bb0c2-c699-435a-a385-b8cd1ed9bad8",
   "metadata": {},
   "source": [
    "it is usually more straight-forward to loop over a copy of the collection or to create a new collection:\n",
    "> 通常更直接的做法是在一个集合的副本上循环，或者创建一个新的集合。"
   ]
  },
  {
   "cell_type": "code",
   "execution_count": 17,
   "id": "c0198c7d-7ca6-47f6-b576-1ce5f45b8884",
   "metadata": {},
   "outputs": [
    {
     "data": {
      "text/plain": [
       "{'Hans': 'active', '景太郎': 'active'}"
      ]
     },
     "execution_count": 17,
     "metadata": {},
     "output_type": "execute_result"
    }
   ],
   "source": [
    "# Create a sample collection\n",
    "users = {'Hans': 'active', 'Éléonore': 'inactive', '景太郎': 'active'}\n",
    "\n",
    "# Strategy: Create a new collection\n",
    "active_users = {}\n",
    "for user, status in users.items():\n",
    "    if status == 'active':\n",
    "        active_users[user] = status\n",
    "        \n",
    "active_users"
   ]
  },
  {
   "cell_type": "markdown",
   "id": "c16bbb4e-f0d8-48fe-a0da-019f38813c3c",
   "metadata": {},
   "source": [
    "the `range()` function. \n",
    "It generates arithmetic progressions:"
   ]
  },
  {
   "cell_type": "code",
   "execution_count": 21,
   "id": "736c9149-7ba1-426d-81f1-1cc8dfd568e0",
   "metadata": {},
   "outputs": [
    {
     "name": "stdout",
     "output_type": "stream",
     "text": [
      "0\n",
      "1\n",
      "2\n",
      "3\n",
      "4\n"
     ]
    },
    {
     "data": {
      "text/plain": [
       "[5, 6, 7, 8, 9]"
      ]
     },
     "execution_count": 21,
     "metadata": {},
     "output_type": "execute_result"
    },
    {
     "data": {
      "text/plain": [
       "[0, 3, 6, 9]"
      ]
     },
     "execution_count": 21,
     "metadata": {},
     "output_type": "execute_result"
    },
    {
     "data": {
      "text/plain": [
       "[-10, -40, -70]"
      ]
     },
     "execution_count": 21,
     "metadata": {},
     "output_type": "execute_result"
    }
   ],
   "source": [
    "for i in range(5):\n",
    "    print(i)\n",
    "    \n",
    "list(range(5, 10))\n",
    "list(range(0, 10, 3))\n",
    "list(range(-10, -100, -30))"
   ]
  },
  {
   "cell_type": "code",
   "execution_count": 24,
   "id": "4f43febf-70d1-456f-94d5-f67d4e22c21e",
   "metadata": {},
   "outputs": [
    {
     "name": "stdout",
     "output_type": "stream",
     "text": [
      "Mary\n",
      "had\n",
      "a\n",
      "little\n",
      "lamb\n",
      "Mary\n",
      "had\n",
      "a\n",
      "little\n",
      "lamb\n"
     ]
    }
   ],
   "source": [
    "# To iterate over the indices of a sequence, \n",
    "# you can combine range() and len() as follows:\n",
    "a = ['Mary', 'had', 'a', 'little', 'lamb']\n",
    "for i in range(len(a)):\n",
    "    print(a[i])\n",
    "\n",
    "# same as this:\n",
    "for item in a:\n",
    "    print(item)"
   ]
  },
  {
   "cell_type": "code",
   "execution_count": 26,
   "id": "6cc674d0-3901-43fe-ac68-81b5cc666acb",
   "metadata": {},
   "outputs": [
    {
     "name": "stdout",
     "output_type": "stream",
     "text": [
      "0 Mary\n",
      "1 had\n",
      "2 a\n",
      "3 little\n",
      "4 lamb\n"
     ]
    }
   ],
   "source": [
    "# it is convenient to use the enumerate():\n",
    "for index, item in enumerate(a):\n",
    "    print(index, item)"
   ]
  },
  {
   "cell_type": "markdown",
   "id": "33a3d1ad-1e40-435a-8aae-743cba5e689d",
   "metadata": {},
   "source": [
    " [`enumerate()`](https://docs.python.org/3/library/functions.html#enumerate) function, see [Looping Techniques](https://docs.python.org/3/tutorial/datastructures.html#tut-loopidioms)."
   ]
  },
  {
   "cell_type": "code",
   "execution_count": 27,
   "id": "94a4758d-acd3-42fc-9394-9a7a337c0764",
   "metadata": {},
   "outputs": [
    {
     "data": {
      "text/plain": [
       "range(0, 10)"
      ]
     },
     "execution_count": 27,
     "metadata": {},
     "output_type": "execute_result"
    }
   ],
   "source": [
    "range(10)"
   ]
  },
  {
   "cell_type": "markdown",
   "id": "bf7a2450-99b2-448e-ad8f-bdf5e02d0cf1",
   "metadata": {},
   "source": [
    "such an object like `range(0, 10)` is [iterable](https://docs.python.org/3/glossary.html#term-iterable), suitable as a target for functions and constructs that expect something from which they can obtain successive items until the supply is exhausted.\n",
    "\n",
    "We have seen that the [`for`](https://docs.python.org/3/reference/compound_stmts.html#for) statement is such a construct, while an example of a function that takes an iterable is [`sum()`](https://docs.python.org/3/library/functions.html#sum):"
   ]
  },
  {
   "cell_type": "code",
   "execution_count": 28,
   "id": "fdda248e-da97-4f7d-b99e-82fe4dacae5b",
   "metadata": {},
   "outputs": [
    {
     "data": {
      "text/plain": [
       "6"
      ]
     },
     "execution_count": 28,
     "metadata": {},
     "output_type": "execute_result"
    }
   ],
   "source": [
    "sum(range(4))"
   ]
  },
  {
   "cell_type": "markdown",
   "id": "77b9c08b-e01f-43bf-a1a7-c154cfca736a",
   "metadata": {},
   "source": [
    "the `break` and `continue` statements, and `else` clauses on loop"
   ]
  },
  {
   "cell_type": "markdown",
   "id": "956d00ea-a8de-4a04-8c52-204ff409bb98",
   "metadata": {},
   "source": [
    "The [`break`](https://docs.python.org/3/reference/simple_stmts.html#break) statement, breaks out of the innermost enclosing [`for`](https://docs.python.org/3/reference/compound_stmts.html#for) or [`while`](https://docs.python.org/3/reference/compound_stmts.html#while) loop."
   ]
  },
  {
   "cell_type": "markdown",
   "id": "24be1e5c-76b1-4ce6-aa05-2a0bd76dcf2d",
   "metadata": {},
   "source": [
    "Loop statements may have an `else` clause; it is executed when the loop terminates through exhaustion of the iterable (with [`for`](https://docs.python.org/3/reference/compound_stmts.html#for)) or when the condition becomes false (with [`while`](https://docs.python.org/3/reference/compound_stmts.html#while)), but not when the loop is terminated by a [`break`](https://docs.python.org/3/reference/simple_stmts.html#break) statement. This is exemplified by the following loop, which searches for prime numbers:\n",
    "\n",
    "> 循环语句可以有一个 `else` 子句；当循环因遍历了迭代对象而终止时（用[`for`](https://docs.python.org/3/reference/compound_stmts.html#for)）或当条件变为假时（用[`while`](https://docs.python.org/3/reference/compound_stmts.html#while)）会执行，但当循环被[`break`](https://docs.python.org/3/reference/simple_stmts.html#break)语句终止时，就不会执行。下面的循环就是一个例子，它搜索的是质数："
   ]
  },
  {
   "cell_type": "code",
   "execution_count": 30,
   "id": "7400ec05-5961-484b-bf02-93c33b50c8fb",
   "metadata": {},
   "outputs": [
    {
     "name": "stdout",
     "output_type": "stream",
     "text": [
      "2 is a prime number\n",
      "3 is a prime number\n",
      "4 equals 2 * 2\n",
      "5 is a prime number\n",
      "6 equals 2 * 3\n",
      "7 is a prime number\n",
      "8 equals 2 * 4\n",
      "9 equals 3 * 3\n"
     ]
    }
   ],
   "source": [
    "# Look closely: the else clause belongs to the for loop, not the if statement.\n",
    "for n in range(2, 10):\n",
    "    for x in range(2, n):\n",
    "        if n % x == 0:\n",
    "            print(n, 'equals', x, '*', n//x)\n",
    "            break\n",
    "    else:\n",
    "        print(n, 'is a prime number')"
   ]
  },
  {
   "cell_type": "markdown",
   "id": "7ac98885-1534-4f68-986f-0f0604c15285",
   "metadata": {},
   "source": [
    "The [`continue`](https://docs.python.org/3/reference/simple_stmts.html#continue) statement, also borrowed from C, continues with the next iteration of the loop:"
   ]
  },
  {
   "cell_type": "code",
   "execution_count": 32,
   "id": "a5337970-fa9c-41a5-9af1-d5739ffb0981",
   "metadata": {},
   "outputs": [
    {
     "name": "stdout",
     "output_type": "stream",
     "text": [
      "Found an even number 2\n",
      "Found an odd number 3\n",
      "Found an even number 4\n",
      "Found an odd number 5\n",
      "Found an even number 6\n",
      "Found an odd number 7\n",
      "Found an even number 8\n",
      "Found an odd number 9\n",
      "Found an even number 2\n",
      "Found an odd number 3\n",
      "Found an even number 4\n",
      "Found an odd number 5\n",
      "Found an even number 6\n",
      "Found an odd number 7\n",
      "Found an even number 8\n",
      "Found an odd number 9\n"
     ]
    }
   ],
   "source": [
    "for num in range(2, 10):\n",
    "    if num % 2 == 0:\n",
    "        print(\"Found an even number\", num)\n",
    "        continue\n",
    "    print(\"Found an odd number\", num)\n",
    "    \n",
    "for num in range(2, 10):\n",
    "    if num % 2 == 0:\n",
    "        print(\"Found an even number\", num)\n",
    "    else:\n",
    "        print(\"Found an odd number\", num)"
   ]
  },
  {
   "cell_type": "markdown",
   "id": "470defa4-f300-4f19-95fb-821b9dda7684",
   "metadata": {},
   "source": [
    "The [`pass`](https://docs.python.org/3/reference/simple_stmts.html#pass) statement does nothing. It can be used when a statement is required syntactically but the program requires no action. For example:\n",
    "\n",
    "```python\n",
    "while True:\n",
    "    pass  # Busy-wait for keyboard interrupt (Ctrl+C)\n",
    "```\n",
    "\n",
    "This is commonly used for creating minimal classes:\n",
    "\n",
    "```python\n",
    "class MyEmptyClass:\n",
    "    pass\n",
    "```"
   ]
  },
  {
   "cell_type": "markdown",
   "id": "ce3ca926-9248-4a4b-a511-5e2a06bac175",
   "metadata": {},
   "source": [
    "Another place [`pass`](https://docs.python.org/3/reference/simple_stmts.html#pass) can be used is as a place-holder for a function or conditional body when you are working on new code, allowing you to keep thinking at a more abstract level. The `pass` is silently ignored:\n",
    "\n",
    "```python\n",
    "def initlog(*args):\n",
    "    pass   # Remember to implement this!\n",
    "```"
   ]
  },
  {
   "cell_type": "markdown",
   "id": "ea3f3e52-1897-4572-afe7-b1c48d0b9e68",
   "metadata": {},
   "source": [
    "A [`match`](https://docs.python.org/3/reference/compound_stmts.html#match) statement takes an expression and compares its value to successive patterns given as one or more case blocks."
   ]
  },
  {
   "cell_type": "code",
   "execution_count": 33,
   "id": "56f6cb5e-1ebc-4c3d-be13-0691532589b8",
   "metadata": {},
   "outputs": [],
   "source": [
    "def http_error(status):\n",
    "    match status:\n",
    "        case 400:\n",
    "            return \"Bad request\"\n",
    "        case 404:\n",
    "            return \"Not found\"\n",
    "        case 418:\n",
    "            return \"I'm a teapot\"\n",
    "        case _:\n",
    "            return \"Something's wrong with the internet\""
   ]
  },
  {
   "cell_type": "markdown",
   "id": "eb4c1735-d4d5-4dae-9c3d-180c97ba8764",
   "metadata": {},
   "source": [
    "*Defining Functions*"
   ]
  },
  {
   "cell_type": "code",
   "execution_count": 5,
   "id": "d76c63ac-85bd-4f50-83ed-1f0a592083de",
   "metadata": {},
   "outputs": [
    {
     "name": "stdout",
     "output_type": "stream",
     "text": [
      "0,1,1,2,3,5,8,13,21,34,55,89,\n"
     ]
    }
   ],
   "source": [
    "def fib(n):\n",
    "    \"\"\"print a Fibonacci series up to n.\"\"\"\n",
    "    a, b = 0, 1\n",
    "    while a < n:\n",
    "        print(a, end=',')\n",
    "        a, b = b, a+b\n",
    "    print()\n",
    "    \n",
    "fib(100)"
   ]
  },
  {
   "cell_type": "markdown",
   "id": "81e350b0-adb5-4179-ab0c-b1e0c2c976a0",
   "metadata": {},
   "source": [
    "The keyword `def` introduces a function definition. It must be followed by the function name and the parenthesized list of formal parameters. The statements that form the body of the function start at the next line, and must be indented.\n",
    "\n",
    "The first statement of the function body can optionally be a string literal; this string literal is the function’s documentation string, or *docstring*. (More about docstrings can be found in the section [Documentation Strings](https://docs.python.org/3/tutorial/controlflow.html#tut-docstrings).) "
   ]
  },
  {
   "cell_type": "markdown",
   "id": "36f074fd-50c0-42b2-9ede-266e90524587",
   "metadata": {},
   "source": [
    "There are tools which use docstrings to automatically produce online or printed documentation, or to let the user interactively browse through code; it’s good practice to include docstrings in code that you write, so make a habit of it."
   ]
  },
  {
   "cell_type": "code",
   "execution_count": 22,
   "id": "7b6b044b-765f-4f2e-b34d-1edb7168b81f",
   "metadata": {},
   "outputs": [
    {
     "data": {
      "text/plain": [
       "[<symbol 'fib'>]"
      ]
     },
     "execution_count": 22,
     "metadata": {},
     "output_type": "execute_result"
    }
   ],
   "source": [
    "import symtable\n",
    "s = symtable.symtable('fib', 'Python-pracise.ipynb', 'exec')\n",
    "s.get_symbols()"
   ]
  },
  {
   "cell_type": "markdown",
   "id": "8d04edd1-e282-45ef-9567-61002b0ee76f",
   "metadata": {},
   "source": [
    "The actual parameters (arguments) to a function call are introduced in the local symbol table of the called function when it is called; thus, arguments are passed using call by value (where the value is always an object reference, not the value of the object).\n",
    "\n",
    "A function definition associates the function name with the function object in the current symbol table. The interpreter recognizes the object pointed to by that name as a user-defined function. Other names can also point to that same function object and can also be used to access the function:"
   ]
  },
  {
   "cell_type": "code",
   "execution_count": 27,
   "id": "cd5d5452-3ff5-4ebb-861f-903b00ab335a",
   "metadata": {},
   "outputs": [
    {
     "data": {
      "text/plain": [
       "<function __main__.fib(n)>"
      ]
     },
     "execution_count": 27,
     "metadata": {},
     "output_type": "execute_result"
    },
    {
     "name": "stdout",
     "output_type": "stream",
     "text": [
      "0,1,1,2,3,5,8,13,21,34,55,89,\n",
      "0,1,1,2,3,5,8,13,21,34,55,89,\n",
      "None\n"
     ]
    }
   ],
   "source": [
    "fib\n",
    "\n",
    "f = fib\n",
    "f(100)\n",
    "print(f(100))"
   ]
  },
  {
   "cell_type": "markdown",
   "id": "8dc8423e-7629-4629-9ff9-dd6feae4c624",
   "metadata": {},
   "source": [
    "**more on defining function**"
   ]
  },
  {
   "cell_type": "markdown",
   "id": "c351d50e-74ac-45ad-a8ab-17aa2fec8ff6",
   "metadata": {},
   "source": [
    "There are three forms of arguments, which can be combined.\n",
    "\n",
    "*Default Argument Values*\n",
    "\n",
    "The most useful form is to specify a default value for one or more arguments. This creates a function that can be called with fewer arguments than it is defined to allow. For example:"
   ]
  },
  {
   "cell_type": "code",
   "execution_count": 11,
   "id": "d6524d71-2150-482f-9535-f9148472a6e6",
   "metadata": {},
   "outputs": [
    {
     "name": "stdin",
     "output_type": "stream",
     "text": [
      "Do you really want to quit? yes\n"
     ]
    },
    {
     "data": {
      "text/plain": [
       "True"
      ]
     },
     "execution_count": 11,
     "metadata": {},
     "output_type": "execute_result"
    },
    {
     "name": "stdin",
     "output_type": "stream",
     "text": [
      "OK to overwrite the file? yes\n"
     ]
    },
    {
     "data": {
      "text/plain": [
       "True"
      ]
     },
     "execution_count": 11,
     "metadata": {},
     "output_type": "execute_result"
    },
    {
     "name": "stdin",
     "output_type": "stream",
     "text": [
      "OK to overwrite the file? y\n"
     ]
    },
    {
     "data": {
      "text/plain": [
       "True"
      ]
     },
     "execution_count": 11,
     "metadata": {},
     "output_type": "execute_result"
    },
    {
     "name": "stdin",
     "output_type": "stream",
     "text": [
      "OK to overwrite the file? 4\n"
     ]
    },
    {
     "name": "stdout",
     "output_type": "stream",
     "text": [
      "Come on, only yes or no!\n"
     ]
    },
    {
     "name": "stdin",
     "output_type": "stream",
     "text": [
      "OK to overwrite the file? y\n"
     ]
    },
    {
     "data": {
      "text/plain": [
       "True"
      ]
     },
     "execution_count": 11,
     "metadata": {},
     "output_type": "execute_result"
    }
   ],
   "source": [
    "def ask_ok(prompt, retries=4, reminder='Please try again!'):\n",
    "    while True:\n",
    "        ok = input(prompt)\n",
    "        if ok in ('y', 'ye', 'yes'):\n",
    "            return True\n",
    "        if ok in ('n', 'no', 'nop', 'nope'):\n",
    "            return False\n",
    "        retries = retries - 1\n",
    "        if retries < 0:\n",
    "            raise ValueError('invalid user response')\n",
    "        print(reminder)\n",
    "        \n",
    "ask_ok('Do you really want to quit?')\n",
    "ask_ok('OK to overwrite the file?', 2)    # two positional arguments\n",
    "ask_ok('OK to overwrite the file?', 2, 'Come on, only yes or no!')\n",
    "ask_ok('OK to overwrite the file?', reminder='Come on, only yes or no!', retries=2)    # one positional argumet, two keyword arguments"
   ]
  },
  {
   "cell_type": "markdown",
   "id": "7d36fcba-e330-46e4-a47c-5e5dc2c72df2",
   "metadata": {},
   "source": [
    "The default values are evaluated at the point of function definition in the defining scope, so that"
   ]
  },
  {
   "cell_type": "code",
   "execution_count": 4,
   "id": "e7bd577b-e449-45da-9892-f5cfc72572c9",
   "metadata": {},
   "outputs": [
    {
     "name": "stdout",
     "output_type": "stream",
     "text": [
      "5\n"
     ]
    }
   ],
   "source": [
    "# will print 5\n",
    "i = 5\n",
    "\n",
    "def f(arg=i):\n",
    "    print(arg)\n",
    "\n",
    "i = 6\n",
    "f()"
   ]
  },
  {
   "cell_type": "markdown",
   "id": "5a8e9a9d-6f66-48e5-aa24-4b08a76363cd",
   "metadata": {},
   "source": [
    "If you don’t want the default to be shared between subsequent calls, you can write the function like this instead:"
   ]
  },
  {
   "cell_type": "code",
   "execution_count": 5,
   "id": "367f8c7a-2d3b-47b7-9f2a-e0742ee274aa",
   "metadata": {},
   "outputs": [],
   "source": [
    "def f(a, L=None):\n",
    "    if L is None:\n",
    "        L = []\n",
    "    L.append(a)\n",
    "    return L"
   ]
  },
  {
   "cell_type": "markdown",
   "id": "a88004a8-7158-4577-a6cf-76326c899123",
   "metadata": {},
   "source": [
    "*Keyword Arguments*\n",
    "\n",
    "Functions can also be called using [keyword arguments](https://docs.python.org/3/glossary.html#term-keyword-argument) of the form `kwarg=value`. For instance, the following function:"
   ]
  },
  {
   "cell_type": "code",
   "execution_count": 6,
   "id": "78e0ddb7-e107-425d-a192-e1bd3ccd2d4d",
   "metadata": {},
   "outputs": [],
   "source": [
    "def parrot(voltage, state='a stiff', action='voom', type='Norwegian Blue'):\n",
    "    print(\"-- This parrot wouldn't\", action, end=' ')\n",
    "    print(\"if you put\", voltage, \"volts through it.\")\n",
    "    print(\"-- Lovely plumage, the\", type)\n",
    "    print(\"-- It's\", state, \"!\")"
   ]
  },
  {
   "cell_type": "markdown",
   "id": "a78983ca-d10e-4b6f-8a58-926fc76d3f60",
   "metadata": {},
   "source": [
    "accepts one required argument (`voltage`) and three optional arguments (`state`, `action`, and `type`). This function can be called in any of the following ways:"
   ]
  },
  {
   "cell_type": "code",
   "execution_count": 12,
   "id": "74fa284f-ce2d-4524-8f96-900b372355cf",
   "metadata": {},
   "outputs": [
    {
     "name": "stdout",
     "output_type": "stream",
     "text": [
      "-- This parrot wouldn't voom if you put 1000 volts through it.\n",
      "-- Lovely plumage, the Norwegian Blue\n",
      "-- It's a stiff !\n",
      "-- This parrot wouldn't voom if you put 1000 volts through it.\n",
      "-- Lovely plumage, the Norwegian Blue\n",
      "-- It's a stiff !\n",
      "-- This parrot wouldn't VOOOOOM if you put 1000000 volts through it.\n",
      "-- Lovely plumage, the Norwegian Blue\n",
      "-- It's a stiff !\n",
      "-- This parrot wouldn't VOOOOOM if you put 1000000 volts through it.\n",
      "-- Lovely plumage, the Norwegian Blue\n",
      "-- It's a stiff !\n",
      "-- This parrot wouldn't jump if you put a million volts through it.\n",
      "-- Lovely plumage, the Norwegian Blue\n",
      "-- It's bereft of life !\n",
      "-- This parrot wouldn't voom if you put a thousand volts through it.\n",
      "-- Lovely plumage, the Norwegian Blue\n",
      "-- It's pushing up the daisies !\n"
     ]
    }
   ],
   "source": [
    "parrot(1000)                                          # 1 positional argument\n",
    "parrot(voltage=1000)                                  # 1 keyword argument, positional argument can transformed into keyword argument?\n",
    "parrot(voltage=1000000, action='VOOOOOM')             # 2 keyword arguments\n",
    "parrot(action='VOOOOOM', voltage=1000000)             # 2 keyword arguments\n",
    "parrot('a million', 'bereft of life', 'jump')         # 3 positional arguments\n",
    "parrot('a thousand', state='pushing up the daisies')  # 1 positional, 1 keyword"
   ]
  },
  {
   "cell_type": "markdown",
   "id": "e48bb248-8561-4ba8-848e-2c5b02ca8436",
   "metadata": {},
   "source": [
    "**note**: \n",
    "In a function call, keyword arguments must follow positional arguments. 在函数调用中，关键字参数必须跟在位置参数后面\n",
    "keyword argument is followed by keyword argument 关键字参数跟着的是关键字参数\n",
    "their order is not important. 关键字参数的位置不重要"
   ]
  },
  {
   "cell_type": "markdown",
   "id": "0e525464-f50f-4bfa-9d43-182ebfceaec2",
   "metadata": {},
   "source": [
    "When a final formal parameter of the form `**name` is present, it receives a dictionary (see [Mapping Types — dict](https://docs.python.org/3/library/stdtypes.html#typesmapping)) containing all keyword arguments except for those corresponding to a formal parameter.\n",
    "当一个形式为`**name`的最终形式参数出现时，它会接收一个字典（见[映射类型-dict](https://docs.python.org/3/library/stdtypes.html#typesmapping)），其中包含所有的关键字参数，除了与形式参数对应的参数。\n",
    "\n",
    "This may be combined with a formal parameter of the form `*name` (described in the next subsection) which receives a [tuple](https://docs.python.org/3/tutorial/datastructures.html#tut-tuples) containing the positional arguments beyond the formal parameter list.\n",
    "这可以与形式为`*name`的形式参数相结合（在下一小节中描述），它接收一个[元组](https://docs.python.org/3/tutorial/datastructures.html#tut-tuples)，包含形式参数列表之外的位置参数。\n",
    "\n",
    "(`*name` must occur before `**name`.) For example, if we define a function like this:\n",
    "(`*name`必须出现在`**name`之前。) 例如，如果我们这样定义一个函数。"
   ]
  },
  {
   "cell_type": "code",
   "execution_count": 16,
   "id": "696bce70-ff44-4048-b97d-92afab2cbdb0",
   "metadata": {},
   "outputs": [
    {
     "name": "stdout",
     "output_type": "stream",
     "text": [
      "-- Do you have any nice ?\n",
      "-- I'm sorry, we're all out of nice\n",
      "3\n",
      "6\n",
      "9\n",
      "{'blue': 32, 'red': 64, 'green': 128}\n",
      "----------------------------------------\n"
     ]
    }
   ],
   "source": [
    "def cheeseshop(kind, *arguments, **keywords):\n",
    "    print(\"-- Do you have any\", kind, \"?\")\n",
    "    print(\"-- I'm sorry, we're all out of\", kind)\n",
    "    for arg in arguments:\n",
    "        print(arg)\n",
    "    print(\"-\" * 40)\n",
    "    for kw in keywords:\n",
    "        print(kw, \":\", keywords[kw])\n",
    "        \n",
    "cheeseshop(\"nice\", 3, 6, 9, {\"blue\": 32, \"red\": 64, \"green\": 128})"
   ]
  },
  {
   "cell_type": "markdown",
   "id": "e20503d5-aefc-4ef8-9b08-0f8ffb680c18",
   "metadata": {},
   "source": [
    "*Special Parameters*\n",
    "\n",
    "A function definition may look like:"
   ]
  },
  {
   "cell_type": "raw",
   "id": "36001da7-d778-42a4-947e-8e69b12a91f2",
   "metadata": {},
   "source": [
    "def f(pos1, pos2, /, pos_or_kwd, *, kwd1, kwd2):\n",
    "      -----------    ----------     ----------\n",
    "        |             |                  |\n",
    "        |        Positional or keyword   |\n",
    "        |                                - Keyword only\n",
    "         -- Positional only"
   ]
  },
  {
   "cell_type": "markdown",
   "id": "72b9fb7c-5c6f-400e-ad0f-54ddfd888f30",
   "metadata": {},
   "source": [
    "where `/` and `*` are optional. If used, these symbols indicate the kind of parameter by how the arguments may be passed to the function: positional-only, positional-or-keyword, and keyword-only. Keyword parameters are also referred to as named parameters.\n",
    "\n",
    "> 其中 `/` 和 `*` 是可选的。如果使用的话，这些符号表示参数的种类，通过参数如何传递给函数：仅有位置的，有位置的或有关键字的，以及仅有关键字的。关键字参数也被称为命名参数。"
   ]
  },
  {
   "cell_type": "markdown",
   "id": "606fb1e1-3063-4909-88cd-f06bcfec3592",
   "metadata": {},
   "source": [
    "*Positional-Only Parameters*\n",
    "\n",
    "Looking at this in a bit more detail, it is possible to mark certain parameters as *positional-only*. If *positional-only*, the parameters’ order matters, and the parameters cannot be passed by keyword. Positional-only parameters are placed before a `/` (forward-slash). The `/` is used to logically separate the positional-only parameters from the rest of the parameters. If there is no `/` in the function definition, there are no positional-only parameters.\n",
    "\n",
    "Parameters following the `/` may be *positional-or-keyword* or *keyword-only*.\n",
    "\n",
    "> 更详细地看一下这个问题，可以把某些参数标记为*positional-only*。如果是*唯位置*，参数的顺序很重要，而且参数不能通过关键字传递。唯位置参数被放在一个`/`（正斜杠）前面。`/`用来在逻辑上将唯位置参数与其他参数分开。如果函数定义中没有`/`，就没有唯位置参数。\n",
    ">\n",
    "> `/`后面的参数可以是*可位置可关键字*参数或*关键字参数*。"
   ]
  },
  {
   "cell_type": "markdown",
   "id": "df40981a-78b8-416a-a7f7-20d54cec9c83",
   "metadata": {},
   "source": [
    "*Keyword-Only Arguments*\n",
    "\n",
    "To mark parameters as *keyword-only*, indicating the parameters must be passed by keyword argument, place an `*` in the arguments list just before the first *keyword-only* parameter.\n",
    "\n",
    "> 要将参数标记为*keyword-only*，表示参数必须通过关键字参数来传递，在参数列表中的第一个*keyword-only*参数之前放置一个`*`。"
   ]
  },
  {
   "cell_type": "markdown",
   "id": "d8206a46-9b89-4a79-aa96-697ddced7469",
   "metadata": {},
   "source": [
    "*Function Examples*\n",
    "\n",
    "Consider the following example function definitions paying close attention to the markers `/` and `*`:"
   ]
  },
  {
   "cell_type": "code",
   "execution_count": 18,
   "id": "326087e4-8584-457f-bc24-680ec893baa1",
   "metadata": {},
   "outputs": [
    {
     "name": "stdout",
     "output_type": "stream",
     "text": [
      "standard\n",
      "positional-only\n",
      "arg\n",
      "positional standard keyword-only\n"
     ]
    }
   ],
   "source": [
    "def standar_arg(arg):\n",
    "    print(arg)\n",
    "    \n",
    "def pos_only_arg(arg, /):\n",
    "    print(arg)\n",
    "    \n",
    "def kwd_only_arg(*, arg=\"arg\"):\n",
    "    print(arg)\n",
    "    \n",
    "def combined_example(pos_only, /, standard, *, kwd_only=\"keyword-only\"):\n",
    "    print(pos_only, standard, kwd_only)\n",
    "    \n",
    "standar_arg(\"standard\")\n",
    "pos_only_arg(\"positional-only\")\n",
    "kwd_only_arg(arg=\"arg\")\n",
    "combined_example(\"positional\", \"standard\", kwd_only=\"keyword-only\")"
   ]
  },
  {
   "cell_type": "code",
   "execution_count": 24,
   "id": "07b17cfd-14d4-4c32-b508-8695c00c3f6d",
   "metadata": {},
   "outputs": [
    {
     "data": {
      "text/plain": [
       "True"
      ]
     },
     "execution_count": 24,
     "metadata": {},
     "output_type": "execute_result"
    }
   ],
   "source": [
    "# the names of positional-only parameters can be used in **kwds without ambiguity.\n",
    "def foo(name, /, **kwds):\n",
    "    return 'name' in kwds\n",
    "\n",
    "foo('foo', key=\"keyword\", name=\"foo\")"
   ]
  },
  {
   "cell_type": "code",
   "execution_count": 26,
   "id": "2c1ec719-56d0-4141-8264-cb24d3bf03eb",
   "metadata": {},
   "outputs": [
    {
     "name": "stdout",
     "output_type": "stream",
     "text": [
      "Mike 12\n"
     ]
    }
   ],
   "source": [
    "def spam(name, age):\n",
    "    print(name, age)\n",
    "    \n",
    "spam(\"Mike\", age=12)"
   ]
  },
  {
   "cell_type": "markdown",
   "id": "feb642ab-5910-4c2f-89cc-19c9da77e88b",
   "metadata": {},
   "source": [
    "As guidance:\n",
    "\n",
    "- Use positional-only if you want the name of the parameters to not be available to the user. This is useful when parameter names have no real meaning, if you want to enforce the order of the arguments when the function is called or if you need to take some positional parameters and arbitrary keywords.\n",
    "- Use keyword-only when names have meaning and the function definition is more understandable by being explicit with names or you want to prevent users relying on the position of the argument being passed.\n",
    "- For an API, use positional-only to prevent breaking API changes if the parameter’s name is modified in the future.\n",
    "\n",
    "> 作为指导：\n",
    ">\n",
    "> - 如果你想让用户无法获得参数的名称，那么就使用唯位置参数。当参数名没有实际意义时，如果你想在函数被调用时强制执行参数的顺序，或者你需要接受一些位置参数和任意的关键字参数时，这很有用。\n",
    "> - 当名字有意义，而且函数定义通过明确的名字更容易理解，或者你想防止用户依赖被传递的参数的位置时，使用唯关键字参数。\n",
    "> - 对于一个API来说，使用唯位置参数是为了防止在将来参数的名字被修改时破坏API的变化。"
   ]
  },
  {
   "cell_type": "markdown",
   "id": "f6f87a7d-c539-4111-950f-c7ff90568d30",
   "metadata": {},
   "source": [
    "*Arbitrary Argument Lists*\n",
    "\n",
    "Normally, these *variadic* arguments(`*args`) will be last in the list of formal parameters, because they scoop up all remaining input arguments that are passed to the function. Any formal parameters which occur after the `*args` parameter are ‘keyword-only’ arguments, meaning that they can only be used as keywords rather than positional arguments.\n",
    "\n",
    "> 通常情况下，这些*变量*参数(`*args`) 会在形式参数列表中排在最后，因为它们会把所有剩余的输入参数都传递给函数。任何出现在 `*args` 参数之后的形式参数都是 \"唯位置\" 参数，意味着它们只能作为关键字而不是位置参数使用。"
   ]
  },
  {
   "cell_type": "code",
   "execution_count": 28,
   "id": "fe9ef8d8-8219-4955-aadd-15f33da970bf",
   "metadata": {},
   "outputs": [
    {
     "data": {
      "text/plain": [
       "'earth/mars/venus'"
      ]
     },
     "execution_count": 28,
     "metadata": {},
     "output_type": "execute_result"
    },
    {
     "data": {
      "text/plain": [
       "'earth.mars.venus'"
      ]
     },
     "execution_count": 28,
     "metadata": {},
     "output_type": "execute_result"
    }
   ],
   "source": [
    "def concat(*args, sep=\"/\"):\n",
    "    return sep.join(args)\n",
    "\n",
    "concat(\"earth\", \"mars\", \"venus\")\n",
    "concat(\"earth\", \"mars\", \"venus\", sep=\".\")"
   ]
  },
  {
   "cell_type": "markdown",
   "id": "85899e6f-7683-478e-bb8d-356934511125",
   "metadata": {},
   "source": [
    "*Unpacking Argument Lists*\n",
    "\n",
    "The reverse situation occurs when the arguments are already in a list or tuple but need to be unpacked for a function call requiring separate positional arguments. For instance, the built-in [`range()`](https://docs.python.org/3/library/stdtypes.html#range) function expects separate *start* and *stop* arguments. If they are not available separately, write the function call with the `*`-operator to unpack the arguments out of a list or tuple:\n",
    "\n",
    "> 相反的情况发生在参数已经在一个列表或元组中，但需要为一个需要单独位置参数的函数调用解包。例如，内置的[`range()`](https://docs.python.org/3/library/stdtypes.html#range)函数希望有单独的*start*和*stop*参数。如果它们不是单独可用的，可以用 `*` 操作符编写函数调用，将参数从列表或元组中解包出来。"
   ]
  },
  {
   "cell_type": "code",
   "execution_count": 29,
   "id": "7316b401-f343-4c4f-867f-4dc103d496f4",
   "metadata": {},
   "outputs": [
    {
     "data": {
      "text/plain": [
       "[3, 4, 5]"
      ]
     },
     "execution_count": 29,
     "metadata": {},
     "output_type": "execute_result"
    }
   ],
   "source": [
    "args = [3, 6]\n",
    "list(range(*args))"
   ]
  },
  {
   "cell_type": "code",
   "execution_count": 30,
   "id": "4934d600-1210-4901-a174-9a63a4d93777",
   "metadata": {},
   "outputs": [
    {
     "name": "stdout",
     "output_type": "stream",
     "text": [
      "-- This parrot wouldn't VOOM if you put four million volts through it. E's bleedin' demised !\n"
     ]
    }
   ],
   "source": [
    "# dictionaries can deliver keyword arguments with the **-operator:\n",
    "def parrot(voltage, state='a stiff', action='voom'):\n",
    "    print(\"-- This parrot wouldn't\", action, end=' ')\n",
    "    print(\"if you put\", voltage, \"volts through it.\", end=' ')\n",
    "    print(\"E's\", state, \"!\")\n",
    "\n",
    "d = {\"voltage\": \"four million\", \"state\": \"bleedin' demised\", \"action\": \"VOOM\"}\n",
    "parrot(**d)"
   ]
  },
  {
   "cell_type": "markdown",
   "id": "d8f7c7f7-1e80-45d3-97e3-12640172dcda",
   "metadata": {},
   "source": [
    "*Lambda Expressions*\n",
    "\n",
    "Small anonymous functions can be created with the [`lambda`](https://docs.python.org/3/reference/expressions.html#lambda) keyword. This function returns the sum of its two arguments: `lambda a, b: a+b`. Lambda functions can be used wherever function objects are required. They are syntactically restricted to a single expression. Semantically, they are just syntactic sugar for a normal function definition. Like nested function definitions, lambda functions can reference variables from the containing scope:\n",
    "\n",
    "> 可以用[`lambda`](https://docs.python.org/3/reference/expressions.html#lambda)关键字创建小型匿名函数。这个函数返回其两个参数的总和。`lambda a, b: a+b`。Lambda函数可以在需要函数对象的地方使用。它们在语法上被限制在一个单一的表达式上。从语义上讲，它们只是普通函数定义的语法糖。像嵌套函数定义一样，Lambda函数可以引用包含范围内的变量。"
   ]
  },
  {
   "cell_type": "code",
   "execution_count": 31,
   "id": "fbb4541f-9b67-4862-b1d5-86b95d2fc203",
   "metadata": {},
   "outputs": [
    {
     "data": {
      "text/plain": [
       "43"
      ]
     },
     "execution_count": 31,
     "metadata": {},
     "output_type": "execute_result"
    },
    {
     "data": {
      "text/plain": [
       "44"
      ]
     },
     "execution_count": 31,
     "metadata": {},
     "output_type": "execute_result"
    }
   ],
   "source": [
    "def make_incrementor(n):\n",
    "    return lambda x: x + n\n",
    "\n",
    "f = make_incrementor(42)\n",
    "f(1)\n",
    "f(2)"
   ]
  },
  {
   "cell_type": "markdown",
   "id": "48eef135-4712-40f3-99eb-e9856e91ccf0",
   "metadata": {},
   "source": [
    "The above example uses a lambda expression to return a function. Another use is to pass a small function as an argument:"
   ]
  },
  {
   "cell_type": "code",
   "execution_count": 32,
   "id": "c58ef211-f4cc-4912-879d-9dfb04d5bdfa",
   "metadata": {},
   "outputs": [
    {
     "data": {
      "text/plain": [
       "[(4, 'four'), (1, 'one'), (3, 'three'), (2, 'two')]"
      ]
     },
     "execution_count": 32,
     "metadata": {},
     "output_type": "execute_result"
    }
   ],
   "source": [
    "pairs = [(1, 'one'), (2, 'two'), (3, 'three'), (4, 'four')]\n",
    "pairs.sort(key=lambda pair: pair[1])\n",
    "pairs"
   ]
  },
  {
   "cell_type": "markdown",
   "id": "56213bd0-4df1-4a8a-a4e3-90371bf3076e",
   "metadata": {},
   "source": [
    "*Documentation String*"
   ]
  },
  {
   "cell_type": "code",
   "execution_count": 2,
   "id": "0f6f5b5e-ff3c-4483-91a8-97aadec6e7d5",
   "metadata": {},
   "outputs": [
    {
     "name": "stdout",
     "output_type": "stream",
     "text": [
      "Do nothing, but document it.\n",
      "    \n",
      "    No, really, it doesn't do anything.\n",
      "    \n"
     ]
    }
   ],
   "source": [
    "# Here is an example of a multi-line docstring:\n",
    "def my_function():\n",
    "    \"\"\"Do nothing, but document it.\n",
    "    \n",
    "    No, really, it doesn't do anything.\n",
    "    \"\"\"\n",
    "    pass\n",
    "\n",
    "print(my_function.__doc__)"
   ]
  },
  {
   "cell_type": "markdown",
   "id": "f051c1fa-6b5e-4c99-a4b6-7f98143b6225",
   "metadata": {},
   "source": [
    "*Function Annotations*\n",
    "\n",
    "[Function annotations](https://docs.python.org/3/reference/compound_stmts.html#function) are completely optional metadata information about the types used by user-defined functions (see [**PEP 3107**](https://www.python.org/dev/peps/pep-3107) and [**PEP 484**](https://www.python.org/dev/peps/pep-0484) for more information).\n",
    "\n",
    "> [函数注释](https://docs.python.org/3/reference/compound_stmts.html#function)是关于用户定义的函数所使用的类型的完全可选的元数据信息（更多信息见[**PEP 3107**](https://www.python.org/dev/peps/pep-3107)和[**PEP 484**](https://www.python.org/dev/peps/pep-0484)）。"
   ]
  },
  {
   "cell_type": "code",
   "execution_count": 3,
   "id": "53bf4f3d-2353-4b64-a306-10c3924756a4",
   "metadata": {},
   "outputs": [
    {
     "name": "stdout",
     "output_type": "stream",
     "text": [
      "Annotations: {'ham': <class 'str'>, 'eggs': <class 'str'>, 'return': <class 'str'>}\n",
      "Arguments: spam eggs\n"
     ]
    },
    {
     "data": {
      "text/plain": [
       "'spam and eggs'"
      ]
     },
     "execution_count": 3,
     "metadata": {},
     "output_type": "execute_result"
    }
   ],
   "source": [
    "def f(ham: str, eggs: str = 'eggs') -> str:\n",
    "    print(\"Annotations:\", f.__annotations__)\n",
    "    print(\"Arguments:\", ham, eggs)\n",
    "    return ham + ' and ' + eggs\n",
    "\n",
    "f('spam')"
   ]
  },
  {
   "cell_type": "markdown",
   "id": "d90a4fba-7e35-46b8-8bbc-fd2ceac1182e",
   "metadata": {},
   "source": [
    "*Intermezzo: Coding Style*\n",
    "\n",
    "For Python, [**PEP 8**](https://www.python.org/dev/peps/pep-0008) has emerged as the style guide that most projects adhere to; it promotes a very readable and eye-pleasing coding style. Every Python developer should read it at some point; here are the most important points extracted for you:\n",
    "\n",
    "- Use 4-space indentation, and no tabs.\n",
    "\n",
    "  4 spaces are a good compromise between small indentation (allows greater nesting depth) and large indentation (easier to read). Tabs introduce confusion, and are best left out.\n",
    "\n",
    "- Wrap lines so that they don’t exceed 79 characters.\n",
    "\n",
    "  This helps users with small displays and makes it possible to have several code files side-by-side on larger displays.\n",
    "\n",
    "- Use blank lines to separate functions and classes, and larger blocks of code inside functions.\n",
    "\n",
    "- When possible, put comments on a line of their own.\n",
    "\n",
    "- Use docstrings.\n",
    "\n",
    "- Use spaces around operators and after commas, but not directly inside bracketing constructs: `a = f(1, 2) + g(3, 4)`.\n",
    "\n",
    "- Name your classes and functions consistently; the convention is to use `UpperCamelCase` for classes and `lowercase_with_underscores` for functions and methods. Always use `self` as the name for the first method argument (see [A First Look at Classes](https://docs.python.org/3/tutorial/classes.html#tut-firstclasses) for more on classes and methods).\n",
    "\n",
    "- Don’t use fancy encodings if your code is meant to be used in international environments. Python’s default, UTF-8, or even plain ASCII work best in any case.\n",
    "\n",
    "- Likewise, don’t use non-ASCII characters in identifiers if there is only the slightest chance people speaking a different language will read or maintain the code.\n",
    "\n",
    "> 对于Python，[**PEP 8**](https://www.python.org/dev/peps/pep-0008)已经成为大多数项目遵守的风格指南；它提倡一种非常可读和赏心悦目的编码风格。每个Python开发者都应该在某个时候阅读它；下面是为你摘录的最重要的几点。\n",
    ">\n",
    "> - 使用4个空格的缩进，并且不使用制表符。\n",
    ">\n",
    ">   4个空格是小缩进（允许更大的嵌套深度）和大缩进（更容易阅读）之间的一个很好的妥协。选项卡会造成混乱，最好不要使用。\n",
    ">\n",
    "> - 包裹行，使其不超过79个字符。\n",
    ">\n",
    ">   这有助于使用小显示器的用户，并使几个代码文件在大显示器上并排排列成为可能。\n",
    ">\n",
    "> - 使用空行来分隔函数和类，以及函数中较大的代码块。\n",
    ">\n",
    "> - 如果可能的话，把注释放在自己的一行。\n",
    ">\n",
    "> - 使用文档字符串。\n",
    ">\n",
    "> - 在运算符周围和逗号后使用空格，但不要直接在括号结构内使用。`a = f(1, 2) + g(3, 4)`。\n",
    ">\n",
    "> - 统一命名你的类和函数；惯例是对类使用`UpperCamelCase`，对函数和方法使用`lowercase_with_underscores`。总是使用`self`作为第一个方法参数的名称（参见[A First Look at Classes](https://docs.python.org/3/tutorial/classes.html#tut-firstclasses)以了解更多关于类和方法的信息）。\n",
    ">\n",
    "> - 如果你的代码要在国际环境中使用，不要使用华丽的编码。在任何情况下，Python 的默认编码，UTF-8，甚至是纯 ASCII 都是最好的。\n",
    ">\n",
    "> - 同样地，如果讲不同语言的人只有一丁点机会阅读或维护代码，就不要在标识符中使用非ASCII字符。"
   ]
  },
  {
   "cell_type": "markdown",
   "id": "d384e1ff-656c-4ada-b5b2-6249a8cf656d",
   "metadata": {},
   "source": [
    "### Data Structures"
   ]
  },
  {
   "cell_type": "markdown",
   "id": "c664b2f1-6b7f-4819-859b-cb65498c301a",
   "metadata": {},
   "source": [
    "**More on Lists**"
   ]
  },
  {
   "cell_type": "markdown",
   "id": "fea1a29b-3790-4fbe-8627-43e125fb13cf",
   "metadata": {},
   "source": [
    "all of the methods of list object:"
   ]
  },
  {
   "cell_type": "code",
   "execution_count": 12,
   "id": "3ff72f0e-cda2-46cd-8f41-68864a924d07",
   "metadata": {},
   "outputs": [
    {
     "data": {
      "text/plain": [
       "[0, 1, 4, 9, 16, 25, 36, 49, 64, 81, 100]"
      ]
     },
     "execution_count": 12,
     "metadata": {},
     "output_type": "execute_result"
    }
   ],
   "source": [
    "my_list = [x**2 for x in range(11)]\n",
    "my_list"
   ]
  },
  {
   "cell_type": "code",
   "execution_count": 16,
   "id": "16125d68-5566-4538-99cf-20d4600ed888",
   "metadata": {
    "scrolled": true,
    "tags": []
   },
   "outputs": [
    {
     "data": {
      "text/plain": [
       "[0,\n",
       " 1,\n",
       " 4,\n",
       " 9,\n",
       " 16,\n",
       " 25,\n",
       " 36,\n",
       " 49,\n",
       " 64,\n",
       " 81,\n",
       " 100,\n",
       " 121,\n",
       " 144,\n",
       " 169,\n",
       " 196,\n",
       " 225,\n",
       " 256,\n",
       " 289,\n",
       " 324,\n",
       " 361,\n",
       " 400,\n",
       " 121,\n",
       " 144,\n",
       " 169,\n",
       " 196,\n",
       " 225,\n",
       " 256,\n",
       " 289,\n",
       " 324,\n",
       " 361,\n",
       " 400,\n",
       " 121,\n",
       " 144,\n",
       " 169,\n",
       " 196,\n",
       " 225,\n",
       " 256,\n",
       " 289,\n",
       " 324,\n",
       " 361,\n",
       " 400,\n",
       " 121]"
      ]
     },
     "execution_count": 16,
     "metadata": {},
     "output_type": "execute_result"
    },
    {
     "data": {
      "text/plain": [
       "[0,\n",
       " 1,\n",
       " 4,\n",
       " 9,\n",
       " 16,\n",
       " 25,\n",
       " 36,\n",
       " 49,\n",
       " 64,\n",
       " 81,\n",
       " 100,\n",
       " 121,\n",
       " 144,\n",
       " 169,\n",
       " 196,\n",
       " 225,\n",
       " 256,\n",
       " 289,\n",
       " 324,\n",
       " 361,\n",
       " 400,\n",
       " 121,\n",
       " 144,\n",
       " 169,\n",
       " 196,\n",
       " 225,\n",
       " 256,\n",
       " 289,\n",
       " 324,\n",
       " 361,\n",
       " 400,\n",
       " 121,\n",
       " 144,\n",
       " 169,\n",
       " 196,\n",
       " 225,\n",
       " 256,\n",
       " 289,\n",
       " 324,\n",
       " 361,\n",
       " 400,\n",
       " 121,\n",
       " 144,\n",
       " 169,\n",
       " 196,\n",
       " 225,\n",
       " 256,\n",
       " 289,\n",
       " 324,\n",
       " 361,\n",
       " 400]"
      ]
     },
     "execution_count": 16,
     "metadata": {},
     "output_type": "execute_result"
    }
   ],
   "source": [
    "# list.append(x) Add an item to the end of the list. \n",
    "# Equivalent to a[len(a):] = [x].\n",
    "my_list.append(121)\n",
    "my_list\n",
    "\n",
    "# list.extend(iterable); Extend the list by appending all the items from the iterable\n",
    "my_list.extend([x**2 for x in range(12, 21)])\n",
    "my_list\n"
   ]
  },
  {
   "cell_type": "code",
   "execution_count": 20,
   "id": "6de88bd2-16c6-44df-8a10-b8a30c6f3a6b",
   "metadata": {
    "scrolled": true,
    "tags": []
   },
   "outputs": [
    {
     "data": {
      "text/plain": [
       "[0,\n",
       " 1,\n",
       " 4,\n",
       " 9,\n",
       " 16,\n",
       " 25,\n",
       " 49,\n",
       " 49,\n",
       " 49,\n",
       " 36,\n",
       " 49,\n",
       " 64,\n",
       " 81,\n",
       " 100,\n",
       " 121,\n",
       " 144,\n",
       " 169,\n",
       " 196,\n",
       " 225,\n",
       " 256,\n",
       " 289,\n",
       " 324,\n",
       " 361,\n",
       " 400,\n",
       " 121,\n",
       " 144,\n",
       " 169,\n",
       " 196,\n",
       " 225,\n",
       " 256,\n",
       " 289,\n",
       " 324,\n",
       " 361,\n",
       " 400,\n",
       " 121,\n",
       " 144,\n",
       " 169,\n",
       " 196,\n",
       " 225,\n",
       " 256,\n",
       " 289,\n",
       " 324,\n",
       " 361,\n",
       " 400,\n",
       " 121,\n",
       " 144,\n",
       " 169,\n",
       " 196,\n",
       " 225,\n",
       " 256,\n",
       " 289,\n",
       " 324,\n",
       " 361,\n",
       " 400]"
      ]
     },
     "execution_count": 20,
     "metadata": {},
     "output_type": "execute_result"
    },
    {
     "data": {
      "text/plain": [
       "[1,\n",
       " 4,\n",
       " 9,\n",
       " 16,\n",
       " 25,\n",
       " 49,\n",
       " 49,\n",
       " 49,\n",
       " 36,\n",
       " 49,\n",
       " 64,\n",
       " 81,\n",
       " 100,\n",
       " 121,\n",
       " 144,\n",
       " 169,\n",
       " 196,\n",
       " 225,\n",
       " 256,\n",
       " 289,\n",
       " 324,\n",
       " 361,\n",
       " 400,\n",
       " 121,\n",
       " 144,\n",
       " 169,\n",
       " 196,\n",
       " 225,\n",
       " 256,\n",
       " 289,\n",
       " 324,\n",
       " 361,\n",
       " 400,\n",
       " 121,\n",
       " 144,\n",
       " 169,\n",
       " 196,\n",
       " 225,\n",
       " 256,\n",
       " 289,\n",
       " 324,\n",
       " 361,\n",
       " 400,\n",
       " 121,\n",
       " 144,\n",
       " 169,\n",
       " 196,\n",
       " 225,\n",
       " 256,\n",
       " 289,\n",
       " 324,\n",
       " 361,\n",
       " 400]"
      ]
     },
     "execution_count": 20,
     "metadata": {},
     "output_type": "execute_result"
    }
   ],
   "source": [
    "# list.insert(i, x); Insert an item at a given position.\n",
    "my_list.insert(7, 49)\n",
    "my_list\n",
    "\n",
    "# list.remove(x); Remove the first item from the list whose value is equal to x. It raises a ValueError if there is no such item.\n",
    "my_list.remove(0)\n",
    "my_list"
   ]
  },
  {
   "cell_type": "code",
   "execution_count": 22,
   "id": "d2841fe3-0927-4e91-a1d0-e882ffa14cc2",
   "metadata": {},
   "outputs": [
    {
     "data": {
      "text/plain": [
       "361"
      ]
     },
     "execution_count": 22,
     "metadata": {},
     "output_type": "execute_result"
    },
    {
     "data": {
      "text/plain": [
       "5"
      ]
     },
     "execution_count": 22,
     "metadata": {},
     "output_type": "execute_result"
    }
   ],
   "source": [
    "# list.pop([i]); Remove the item at the given position in the list, and return it. If no index is specified, a.pop() removes and returns the last item in the list.\n",
    "my_list.pop()\n",
    "\n",
    "# list.index(x[, start[, end]]); Return zero-based index in the list of the first item whose value is equal to x. Raises a ValueError if there is no such item.\n",
    "my_list.index(49)"
   ]
  },
  {
   "cell_type": "code",
   "execution_count": 24,
   "id": "7102929c-1a33-4576-92cd-91be30688a3f",
   "metadata": {},
   "outputs": [
    {
     "data": {
      "text/plain": [
       "[]"
      ]
     },
     "execution_count": 24,
     "metadata": {},
     "output_type": "execute_result"
    }
   ],
   "source": [
    "# list.clear(); Remove all items from the list. Equivalent to del a[:].\n",
    "my_list.clear()\n",
    "my_list"
   ]
  },
  {
   "cell_type": "code",
   "execution_count": 27,
   "id": "a78ab010-6c2b-41f0-b167-810646b4d936",
   "metadata": {},
   "outputs": [
    {
     "data": {
      "text/plain": [
       "[1, 8, 27, 64, 125, 216, 343, 512, 729, 1000]"
      ]
     },
     "execution_count": 27,
     "metadata": {},
     "output_type": "execute_result"
    },
    {
     "data": {
      "text/plain": [
       "1"
      ]
     },
     "execution_count": 27,
     "metadata": {},
     "output_type": "execute_result"
    },
    {
     "data": {
      "text/plain": [
       "[1000, 729, 512, 343, 216, 125, 64, 27, 8, 1]"
      ]
     },
     "execution_count": 27,
     "metadata": {},
     "output_type": "execute_result"
    }
   ],
   "source": [
    "# list.count(x); Return the number of times x appears in the list.\n",
    "sec_list = [x**3 for x in range(1, 11)]\n",
    "sec_list\n",
    "sec_list.count(64)\n",
    "\n",
    "# list.sort(*, key=None, reverse=False); Sort the items of the list in place \n",
    "# (the arguments can be used for sort customization, see sorted() for their explanation).\n",
    "sec_list.sort(reverse=True)\n",
    "sec_list"
   ]
  },
  {
   "cell_type": "code",
   "execution_count": 32,
   "id": "3c1aafaf-dace-4594-9a61-d97e2835a318",
   "metadata": {},
   "outputs": [
    {
     "data": {
      "text/plain": [
       "[1, 8, 27, 64, 125, 216, 343, 512, 729, 1000]"
      ]
     },
     "execution_count": 32,
     "metadata": {},
     "output_type": "execute_result"
    },
    {
     "data": {
      "text/plain": [
       "[1, 8, 27, 64, 125, 216, 343, 512, 729, 1000]"
      ]
     },
     "execution_count": 32,
     "metadata": {},
     "output_type": "execute_result"
    },
    {
     "data": {
      "text/plain": [
       "[1, 8, 27, 64, 125, 216, 343, 512, 729, 1000]"
      ]
     },
     "execution_count": 32,
     "metadata": {},
     "output_type": "execute_result"
    }
   ],
   "source": [
    "# list.reverse(); Reverse the elements of the list in place.\n",
    "sec_list.reverse()\n",
    "sec_list\n",
    "\n",
    "# list.copy(); Return a shallow copy of the list. Equivalent to a[:].\n",
    "sec_list.copy()\n",
    "sec_list"
   ]
  },
  {
   "cell_type": "markdown",
   "id": "ffa1c10d-21af-49fa-a2e7-faf8b9289462",
   "metadata": {},
   "source": [
    "Another thing you might notice is that not all data can be sorted or compared. For instance, `[None, 'hello', 10]` doesn’t sort because integers can’t be compared to strings and *None* can’t be compared to other types. Also, there are some types that don’t have a defined ordering relation. For example, `3+4j < 5+7j` isn’t a valid comparison.\n",
    "\n",
    "> 你可能注意到的另一件事是，不是所有的数据都能被排序或比较。例如，`[None, 'hello', 10]`不能排序，因为整数不能与字符串比较，*None*不能与其他类型比较。另外，有一些类型没有定义的排序关系。例如，`3+4j < 5+7j`不是一个有效的比较。"
   ]
  },
  {
   "cell_type": "markdown",
   "id": "efbad007-6df0-4540-acf4-fffb9642f002",
   "metadata": {},
   "source": [
    "*Using Lists as Stacks*\n",
    "\n",
    "The list methods make it very easy to use a list as a stack, where the last element added is the first element retrieved (“last-in, first-out”). To add an item to the top of the stack, use `append()`. To retrieve an item from the top of the stack, use `pop()` without an explicit index. For example:"
   ]
  },
  {
   "cell_type": "code",
   "execution_count": 34,
   "id": "5de5289f-0215-4d1e-afcd-91f6e2a70fab",
   "metadata": {},
   "outputs": [
    {
     "data": {
      "text/plain": [
       "[3, 4, 5, 6, 7]"
      ]
     },
     "execution_count": 34,
     "metadata": {},
     "output_type": "execute_result"
    },
    {
     "data": {
      "text/plain": [
       "7"
      ]
     },
     "execution_count": 34,
     "metadata": {},
     "output_type": "execute_result"
    },
    {
     "data": {
      "text/plain": [
       "[3, 4, 5, 6]"
      ]
     },
     "execution_count": 34,
     "metadata": {},
     "output_type": "execute_result"
    },
    {
     "data": {
      "text/plain": [
       "6"
      ]
     },
     "execution_count": 34,
     "metadata": {},
     "output_type": "execute_result"
    },
    {
     "data": {
      "text/plain": [
       "[3, 4, 5]"
      ]
     },
     "execution_count": 34,
     "metadata": {},
     "output_type": "execute_result"
    }
   ],
   "source": [
    "stack = [3, 4, 5]\n",
    "stack.append(6)\n",
    "stack.append(7)\n",
    "stack\n",
    "\n",
    "stack.pop()\n",
    "stack\n",
    "\n",
    "stack.pop()\n",
    "stack"
   ]
  },
  {
   "cell_type": "markdown",
   "id": "2474a548-5673-43de-93c2-0b9cd444cae3",
   "metadata": {},
   "source": [
    "*Using List as Queues*\n",
    "\n",
    "It is also possible to use a list as a queue, where the first element added is the first element retrieved (“first-in, first-out”); however, lists are not efficient for this purpose. While appends and pops from the end of list are fast, doing inserts or pops from the beginning of a list is slow (because all of the other elements have to be shifted by one).\n",
    "\n",
    "To implement a queue, use [`collections.deque`](https://docs.python.org/3/library/collections.html#collections.deque) which was designed to have fast appends and pops from both ends. For example:\n",
    "\n",
    "> 也可以把列表作为一个队列，第一个添加的元素就是第一个检索的元素（\"先进先出\"）；但是，列表在这个用途上并不高效。虽然从列表的末尾追加和弹出是快速的，但从列表的开头插入或弹出是缓慢的（因为所有其他的元素都要移位一个）。\n",
    ">\n",
    "> 要实现一个队列，可以使用[`collections.deque`](https://docs.python.org/3/library/collections.html#collections.deque)，它被设计成可以从两端快速追加和弹出。比如说"
   ]
  },
  {
   "cell_type": "code",
   "execution_count": 38,
   "id": "ab22050c-15f7-429f-a4fc-64d37bfe54da",
   "metadata": {},
   "outputs": [
    {
     "data": {
      "text/plain": [
       "collections.deque"
      ]
     },
     "execution_count": 38,
     "metadata": {},
     "output_type": "execute_result"
    },
    {
     "data": {
      "text/plain": [
       "deque(['Eric', 'John', 'Michael', 'Terry', 'Graham'])"
      ]
     },
     "execution_count": 38,
     "metadata": {},
     "output_type": "execute_result"
    },
    {
     "data": {
      "text/plain": [
       "'Eric'"
      ]
     },
     "execution_count": 38,
     "metadata": {},
     "output_type": "execute_result"
    },
    {
     "data": {
      "text/plain": [
       "'John'"
      ]
     },
     "execution_count": 38,
     "metadata": {},
     "output_type": "execute_result"
    },
    {
     "data": {
      "text/plain": [
       "deque(['Michael', 'Terry', 'Graham'])"
      ]
     },
     "execution_count": 38,
     "metadata": {},
     "output_type": "execute_result"
    }
   ],
   "source": [
    "from collections import deque\n",
    "queue = deque([\"Eric\", \"John\", \"Michael\"])\n",
    "type(queue)\n",
    "\n",
    "queue.append(\"Terry\")         \n",
    "queue.append(\"Graham\")\n",
    "queue\n",
    "\n",
    "queue.popleft()\n",
    "queue.popleft()\n",
    "queue"
   ]
  },
  {
   "cell_type": "markdown",
   "id": "dec4a751-6e89-4a54-b9e5-146efda215a6",
   "metadata": {},
   "source": [
    "*List Comprehensions*\n",
    "\n"
   ]
  },
  {
   "cell_type": "markdown",
   "id": "6864f13f-5b0e-45e5-b72e-be1990c51ab3",
   "metadata": {},
   "source": [
    "List comprehensions provide a concise way to create lists. Common applications are to make new lists where each element is the result of some operations applied to each member of another sequence or iterable, or to create a subsequence of those elements that satisfy a certain condition.\n",
    "\n",
    "For example, assume we want to create a list of squares, like:\n",
    "\n",
    "> 列表推导式提供了一种创建列表的简明方式。常见的应用是创建新的列表，其中每个元素都是应用于另一个序列或可迭代的每个成员的某些操作的结果，或者创建满足某个条件的那些元素的子序列。\n",
    ">\n",
    "> 例如，假设我们想创建一个正方形的列表，比如"
   ]
  },
  {
   "cell_type": "code",
   "execution_count": 12,
   "id": "892e630a-04eb-4fc8-ba34-f90bf4cd9217",
   "metadata": {},
   "outputs": [
    {
     "data": {
      "text/plain": [
       "9"
      ]
     },
     "execution_count": 12,
     "metadata": {},
     "output_type": "execute_result"
    },
    {
     "data": {
      "text/plain": [
       "[0, 1, 4, 9, 16, 25, 36, 49, 64, 81]"
      ]
     },
     "execution_count": 12,
     "metadata": {},
     "output_type": "execute_result"
    },
    {
     "data": {
      "text/plain": [
       "[0, 1, 4, 9, 16, 25, 36, 49, 64, 81]"
      ]
     },
     "execution_count": 12,
     "metadata": {},
     "output_type": "execute_result"
    },
    {
     "data": {
      "text/plain": [
       "[0, 4, 16, 36, 64]"
      ]
     },
     "execution_count": 12,
     "metadata": {},
     "output_type": "execute_result"
    }
   ],
   "source": [
    "squares = []\n",
    "for x in range(10):\n",
    "    squares.append(x**2)\n",
    "\n",
    "# a variable named `x` that still exists after the loop completes.\n",
    "x\n",
    "    \n",
    "squares\n",
    "\n",
    "# use lambda that without side effects\n",
    "squares = list(map(lambda x: x**2, range(10)))\n",
    "\n",
    "squares\n",
    "\n",
    "# more concise and readable\n",
    "squares = [x**2 for x in range(10) if x % 2 == 0]\n",
    "squares"
   ]
  },
  {
   "cell_type": "markdown",
   "id": "aa74af6a-259e-4891-a429-9b8c2ef05623",
   "metadata": {},
   "source": [
    "A list comprehension consists of brackets containing an expression followed by a `for` clause, then zero or more `for` or `if` clauses. The result will be a new list resulting from evaluating the expression in the context of the `for` and `if` clauses which follow it. For example, this listcomp combines the elements of two lists if they are not equal:\n",
    "\n",
    "> 列表推导式由包含一个表达式的方括号组成，后面是一个`for`子句，然后是零个或多个`for`或`if`子句。结果是一个新的列表，它是在后面的 `for` 和 `if` 子句的语境中对该表达式进行运算的结果。例如，如果两个列表的元素不相等，这个listcomp就会把它们结合起来："
   ]
  },
  {
   "cell_type": "code",
   "execution_count": 13,
   "id": "17ee6bfb-55ee-44d1-b481-0f83c1df2c93",
   "metadata": {},
   "outputs": [
    {
     "data": {
      "text/plain": [
       "[(1, 3), (1, 4), (2, 3), (2, 1), (2, 4), (3, 1), (3, 4)]"
      ]
     },
     "execution_count": 13,
     "metadata": {},
     "output_type": "execute_result"
    }
   ],
   "source": [
    "[(x, y) for x in [1, 2, 3] for y in [3, 1, 4] if x != y]"
   ]
  },
  {
   "cell_type": "code",
   "execution_count": 14,
   "id": "b7b55206-3849-4cf4-9fbe-b47f5cf1eb47",
   "metadata": {},
   "outputs": [
    {
     "data": {
      "text/plain": [
       "[(1, 3), (1, 4), (2, 3), (2, 1), (2, 4), (3, 1), (3, 4)]"
      ]
     },
     "execution_count": 14,
     "metadata": {},
     "output_type": "execute_result"
    }
   ],
   "source": [
    "# equivalent to:\n",
    "combs = []\n",
    "for x in [1, 2, 3]:\n",
    "    for y in [3, 1, 4]:\n",
    "        if x != y:\n",
    "            combs.append((x, y))\n",
    "            \n",
    "combs"
   ]
  },
  {
   "cell_type": "markdown",
   "id": "edf5ee5b-4d78-48d1-8f3b-93707dde8245",
   "metadata": {},
   "source": [
    "some sort of list comprehensions"
   ]
  },
  {
   "cell_type": "code",
   "execution_count": 21,
   "id": "cb1505b5-885e-4dcb-b14d-e8ce667a2884",
   "metadata": {},
   "outputs": [
    {
     "data": {
      "text/plain": [
       "[-8, -4, 0, 4, 8]"
      ]
     },
     "execution_count": 21,
     "metadata": {},
     "output_type": "execute_result"
    },
    {
     "data": {
      "text/plain": [
       "[0, 2, 4]"
      ]
     },
     "execution_count": 21,
     "metadata": {},
     "output_type": "execute_result"
    },
    {
     "data": {
      "text/plain": [
       "[4, 2, 0, 2, 4]"
      ]
     },
     "execution_count": 21,
     "metadata": {},
     "output_type": "execute_result"
    },
    {
     "data": {
      "text/plain": [
       "['banana', 'loganberry', 'passion fruit']"
      ]
     },
     "execution_count": 21,
     "metadata": {},
     "output_type": "execute_result"
    },
    {
     "data": {
      "text/plain": [
       "[(0, 0), (1, 1), (2, 4), (3, 9), (4, 16), (5, 25)]"
      ]
     },
     "execution_count": 21,
     "metadata": {},
     "output_type": "execute_result"
    },
    {
     "data": {
      "text/plain": [
       "[1, 2, 3, 4, 5, 6, 7, 8, 9]"
      ]
     },
     "execution_count": 21,
     "metadata": {},
     "output_type": "execute_result"
    },
    {
     "data": {
      "text/plain": [
       "[1, 2, 3, 4, 5, 6, 7, 8, 9]"
      ]
     },
     "execution_count": 21,
     "metadata": {},
     "output_type": "execute_result"
    }
   ],
   "source": [
    "vec = [-4, -2, 0, 2, 4]\n",
    "\n",
    "# new list with the values doubled\n",
    "[x*2 for x in vec]\n",
    "\n",
    "# exclude the negative numbers\n",
    "[x for x in vec if x >= 0]\n",
    "\n",
    "# apple a function to all elements\n",
    "[abs(x) for x in vec]\n",
    "\n",
    "# call a method on each element\n",
    "fresh_fruit = ['  banana', '  loganberry ', 'passion fruit  ']\n",
    "[weapon.strip() for weapon in fresh_fruit]\n",
    "\n",
    "# create a list of 2-tuples like (number, square)\n",
    "[(x, pow(x, 2)) for x in range(6)]\n",
    "\n",
    "# flatten a list using a listcomp with two 'for'\n",
    "vec = [[1,2,3], [4,5,6], [7,8,9]]\n",
    "[num for ele in vec for num in ele]\n",
    "\n",
    "# equivalent to \n",
    "listcomp = []\n",
    "for ele in vec:\n",
    "    for num in ele:\n",
    "        listcomp.append(num)\n",
    "        \n",
    "listcomp"
   ]
  },
  {
   "cell_type": "markdown",
   "id": "1695b5c5-2dde-4b86-8d86-0e8158c61c00",
   "metadata": {},
   "source": [
    "List comprehensions can contain complex expressions and nested functions:"
   ]
  },
  {
   "cell_type": "code",
   "execution_count": 22,
   "id": "2a66db35-036d-490b-aef2-c1dd85ef617b",
   "metadata": {},
   "outputs": [
    {
     "data": {
      "text/plain": [
       "['3.1', '3.14', '3.142', '3.1416', '3.14159']"
      ]
     },
     "execution_count": 22,
     "metadata": {},
     "output_type": "execute_result"
    }
   ],
   "source": [
    "from math import pi\n",
    "[str(round(pi, i)) for i in range(1, 6)]"
   ]
  },
  {
   "cell_type": "markdown",
   "id": "dd1c9e59-74ca-45ac-a118-5b5443d661a0",
   "metadata": {},
   "source": [
    "*Nested List Comprehensions*"
   ]
  },
  {
   "cell_type": "code",
   "execution_count": 11,
   "id": "4407217a-0426-4a47-baff-d29613369c35",
   "metadata": {},
   "outputs": [
    {
     "data": {
      "text/plain": [
       "[[1, 5, 9], [2, 6, 10], [3, 7, 11], [4, 8, 12]]"
      ]
     },
     "execution_count": 11,
     "metadata": {},
     "output_type": "execute_result"
    },
    {
     "data": {
      "text/plain": [
       "[[1, 5, 9], [2, 6, 10], [3, 7, 11], [4, 8, 12]]"
      ]
     },
     "execution_count": 11,
     "metadata": {},
     "output_type": "execute_result"
    },
    {
     "data": {
      "text/plain": [
       "[[1, 5, 9], [2, 6, 10], [3, 7, 11], [4, 8, 12]]"
      ]
     },
     "execution_count": 11,
     "metadata": {},
     "output_type": "execute_result"
    },
    {
     "data": {
      "text/plain": [
       "[(1, 5, 9), (2, 6, 10), (3, 7, 11), (4, 8, 12)]"
      ]
     },
     "execution_count": 11,
     "metadata": {},
     "output_type": "execute_result"
    },
    {
     "data": {
      "text/plain": [
       "[(1, 5, 9), (2, 6, 10), (3, 7, 11), (4, 8, 12)]"
      ]
     },
     "execution_count": 11,
     "metadata": {},
     "output_type": "execute_result"
    }
   ],
   "source": [
    "matrix = [\n",
    "    [1, 2, 3, 4],\n",
    "    [5, 6, 7, 8],\n",
    "    [9, 10, 11, 12],\n",
    "]\n",
    "\n",
    "# transpose the matrix\n",
    "[[row[i] for row in matrix] for i in range(4)]\n",
    "\n",
    "# equivalent to:\n",
    "transpose = []\n",
    "for i in range(4):\n",
    "    transpose.append([row[i] for row in matrix])\n",
    "    \n",
    "transpose\n",
    "\n",
    "# equivalent to this(include the nest complist)\n",
    "transpose = []\n",
    "for i in range(4):\n",
    "    transpose_row = []\n",
    "    for row in matrix:\n",
    "        transpose_row.append(row[i])\n",
    "    transpose.append(transpose_row)\n",
    "    \n",
    "transpose\n",
    "\n",
    "# in real world, prefer built-in function\n",
    "list(zip(*matrix))\n",
    "\n",
    "# equivalent to \n",
    "list(zip(\n",
    "    [1, 2, 3, 4],\n",
    "    [5, 6, 7, 8],\n",
    "    [9, 10, 11, 12]))"
   ]
  },
  {
   "cell_type": "markdown",
   "id": "58a65166-0c9a-40e5-bb2b-5b1434b3aa76",
   "metadata": {},
   "source": [
    "*the `del` statement*"
   ]
  },
  {
   "cell_type": "code",
   "execution_count": 18,
   "id": "f749e409-4e74-4420-9ea2-cad5c3ac4b2b",
   "metadata": {},
   "outputs": [
    {
     "data": {
      "text/plain": [
       "[1, 66.25, 333, 333, 1234.5]"
      ]
     },
     "execution_count": 18,
     "metadata": {},
     "output_type": "execute_result"
    },
    {
     "data": {
      "text/plain": [
       "[1, 66.25, 1234.5]"
      ]
     },
     "execution_count": 18,
     "metadata": {},
     "output_type": "execute_result"
    },
    {
     "data": {
      "text/plain": [
       "[]"
      ]
     },
     "execution_count": 18,
     "metadata": {},
     "output_type": "execute_result"
    }
   ],
   "source": [
    "a = [-1, 1, 66.25, 333, 333, 1234.5]\n",
    "del a[0]\n",
    "a\n",
    "\n",
    "del a[2:4]\n",
    "a\n",
    "\n",
    "del a[:]\n",
    "a"
   ]
  },
  {
   "cell_type": "code",
   "execution_count": 19,
   "id": "e300d658-4125-4946-9afc-6ecdbec3f6b4",
   "metadata": {},
   "outputs": [],
   "source": [
    "# del can also be used to delete entire variables:\n",
    "del a"
   ]
  },
  {
   "cell_type": "markdown",
   "id": "9651c8f9-646a-4b24-990e-fe5ecae6b860",
   "metadata": {},
   "source": [
    "*Tuples and Sequences*"
   ]
  },
  {
   "cell_type": "code",
   "execution_count": 2,
   "id": "6e8e20af-84f0-43eb-8aa2-b8ec3c60116e",
   "metadata": {},
   "outputs": [
    {
     "data": {
      "text/plain": [
       "(12345, 54321, 'hello!')"
      ]
     },
     "execution_count": 2,
     "metadata": {},
     "output_type": "execute_result"
    },
    {
     "data": {
      "text/plain": [
       "12345"
      ]
     },
     "execution_count": 2,
     "metadata": {},
     "output_type": "execute_result"
    },
    {
     "data": {
      "text/plain": [
       "((12345, 54321, 'hello!'), (1, 2, 3, 4, 5))"
      ]
     },
     "execution_count": 2,
     "metadata": {},
     "output_type": "execute_result"
    },
    {
     "ename": "NameError",
     "evalue": "name 'matrix' is not defined",
     "output_type": "error",
     "traceback": [
      "\u001b[1;31m---------------------------------------------------------------------------\u001b[0m",
      "\u001b[1;31mNameError\u001b[0m                                 Traceback (most recent call last)",
      "Input \u001b[1;32mIn [2]\u001b[0m, in \u001b[0;36m<cell line: 11>\u001b[1;34m()\u001b[0m\n\u001b[0;32m      8\u001b[0m u\n\u001b[0;32m     10\u001b[0m \u001b[38;5;66;03m# Tuples are immutable, but can contain mutable objects:\u001b[39;00m\n\u001b[1;32m---> 11\u001b[0m v \u001b[38;5;241m=\u001b[39m ([\u001b[38;5;241m1\u001b[39m, \u001b[38;5;241m2\u001b[39m, \u001b[38;5;241m3\u001b[39m], [\u001b[38;5;241m3\u001b[39m, \u001b[38;5;241m2\u001b[39m, \u001b[38;5;241m1\u001b[39m], \u001b[43mmatrix\u001b[49m)\n\u001b[0;32m     12\u001b[0m v\n\u001b[0;32m     14\u001b[0m \u001b[38;5;66;03m# in effect, tuple is immutable in reference, \u001b[39;00m\n\u001b[0;32m     15\u001b[0m \u001b[38;5;66;03m# the element 'matrix' is changes, the tuple 'v' is changed, too\u001b[39;00m\n",
      "\u001b[1;31mNameError\u001b[0m: name 'matrix' is not defined"
     ]
    }
   ],
   "source": [
    "# A tuple consists of a number of values separated by commas, for instance:\n",
    "t = 12345, 54321, 'hello!'\n",
    "t\n",
    "t[0]\n",
    "\n",
    "# tuple can be nested:\n",
    "u = t, (1, 2, 3, 4, 5)\n",
    "u\n",
    "\n",
    "# Tuples are immutable, but can contain mutable objects:\n",
    "v = ([1, 2, 3], [3, 2, 1], matrix)\n",
    "v\n",
    "\n",
    "# in effect, tuple is immutable in reference, \n",
    "# the element 'matrix' is changes, the tuple 'v' is changed, too\n",
    "matrix[0] = [13, 14, 15, 15]\n",
    "v"
   ]
  },
  {
   "cell_type": "code",
   "execution_count": 3,
   "id": "5335139f-f25b-4bfa-af43-07251f5c5abf",
   "metadata": {},
   "outputs": [
    {
     "data": {
      "text/plain": [
       "()"
      ]
     },
     "execution_count": 3,
     "metadata": {},
     "output_type": "execute_result"
    },
    {
     "data": {
      "text/plain": [
       "('hello',)"
      ]
     },
     "execution_count": 3,
     "metadata": {},
     "output_type": "execute_result"
    }
   ],
   "source": [
    "# empty and single tuple\n",
    "empty = ()\n",
    "singleton = 'hello',\n",
    "\n",
    "empty\n",
    "singleton"
   ]
  },
  {
   "cell_type": "code",
   "execution_count": 8,
   "id": "15f791a6-945a-4804-89e9-1e672e1d49d5",
   "metadata": {},
   "outputs": [
    {
     "ename": "SyntaxError",
     "evalue": "cannot assign to literal here. Maybe you meant '==' instead of '='? (3446414161.py, line 2)",
     "output_type": "error",
     "traceback": [
      "\u001b[1;36m  Input \u001b[1;32mIn [8]\u001b[1;36m\u001b[0m\n\u001b[1;33m    12345, 54321, 'hello' = t\u001b[0m\n\u001b[1;37m                  ^\u001b[0m\n\u001b[1;31mSyntaxError\u001b[0m\u001b[1;31m:\u001b[0m cannot assign to literal here. Maybe you meant '==' instead of '='?\n"
     ]
    }
   ],
   "source": [
    "# this can't implement?\n",
    "12345, 54321, 'hello' = t\n",
    "t"
   ]
  },
  {
   "cell_type": "markdown",
   "id": "02a57d53-0732-4b1c-9244-3b0679b7a97d",
   "metadata": {},
   "source": [
    "*Sets*"
   ]
  },
  {
   "cell_type": "code",
   "execution_count": 13,
   "id": "47b8ac38-8416-401c-8b4c-02a452191c65",
   "metadata": {},
   "outputs": [
    {
     "data": {
      "text/plain": [
       "{'apple', 'banana', 'orange', 'pear'}"
      ]
     },
     "execution_count": 13,
     "metadata": {},
     "output_type": "execute_result"
    },
    {
     "data": {
      "text/plain": [
       "True"
      ]
     },
     "execution_count": 13,
     "metadata": {},
     "output_type": "execute_result"
    },
    {
     "data": {
      "text/plain": [
       "False"
      ]
     },
     "execution_count": 13,
     "metadata": {},
     "output_type": "execute_result"
    },
    {
     "data": {
      "text/plain": [
       "{'a', 'b', 'c', 'd', 'r'}"
      ]
     },
     "execution_count": 13,
     "metadata": {},
     "output_type": "execute_result"
    },
    {
     "data": {
      "text/plain": [
       "{'a', 'c', 'l', 'm', 'z'}"
      ]
     },
     "execution_count": 13,
     "metadata": {},
     "output_type": "execute_result"
    },
    {
     "data": {
      "text/plain": [
       "{'b', 'd', 'r'}"
      ]
     },
     "execution_count": 13,
     "metadata": {},
     "output_type": "execute_result"
    },
    {
     "data": {
      "text/plain": [
       "{'a', 'b', 'c', 'd', 'l', 'm', 'r', 'z'}"
      ]
     },
     "execution_count": 13,
     "metadata": {},
     "output_type": "execute_result"
    },
    {
     "data": {
      "text/plain": [
       "{'a', 'c'}"
      ]
     },
     "execution_count": 13,
     "metadata": {},
     "output_type": "execute_result"
    },
    {
     "data": {
      "text/plain": [
       "{'b', 'd', 'l', 'm', 'r', 'z'}"
      ]
     },
     "execution_count": 13,
     "metadata": {},
     "output_type": "execute_result"
    }
   ],
   "source": [
    "basket = {'apple', 'orange', 'apple', 'pear', 'orange', 'banana'}\n",
    "basket\n",
    "\n",
    "'orange' in basket\n",
    "'crabgrass' in basket\n",
    "\n",
    "a = set('abracadabra')\n",
    "b = set('alacazam')\n",
    "a\n",
    "b\n",
    "\n",
    "# a differences b: elements in a but not in b\n",
    "a - b\n",
    "\n",
    "# union: elements in a or b or both\n",
    "a | b\n",
    "\n",
    "# intersection: elements in both a and b\n",
    "a & b\n",
    "\n",
    "# symmetric difference: elements in a or b but not both\n",
    "a ^ b"
   ]
  },
  {
   "cell_type": "code",
   "execution_count": 14,
   "id": "e420663a-d9f5-4bbd-bc15-17427ffb7353",
   "metadata": {},
   "outputs": [
    {
     "data": {
      "text/plain": [
       "{'d', 'r'}"
      ]
     },
     "execution_count": 14,
     "metadata": {},
     "output_type": "execute_result"
    }
   ],
   "source": [
    "# set comprehension\n",
    "a = {x for x in 'abracadabra' if x not in 'abc'}\n",
    "a"
   ]
  },
  {
   "cell_type": "markdown",
   "id": "e7cbbee6-e4fd-42ac-abfc-18c2da03c1a9",
   "metadata": {},
   "source": [
    "*Dictionaries*\n",
    "\n",
    "It is best to think of a dictionary as a set of key: value pairs, with the requirement that the keys are unique (within one dictionary). "
   ]
  },
  {
   "cell_type": "code",
   "execution_count": 19,
   "id": "a4150bca-1924-4562-a5cc-274d950ab2c7",
   "metadata": {},
   "outputs": [
    {
     "data": {
      "text/plain": [
       "4098"
      ]
     },
     "execution_count": 19,
     "metadata": {},
     "output_type": "execute_result"
    },
    {
     "data": {
      "text/plain": [
       "{'jack': 4098, 'sape': 4139}"
      ]
     },
     "execution_count": 19,
     "metadata": {},
     "output_type": "execute_result"
    },
    {
     "data": {
      "text/plain": [
       "{'jack': 4098, 'irv': 4127}"
      ]
     },
     "execution_count": 19,
     "metadata": {},
     "output_type": "execute_result"
    },
    {
     "data": {
      "text/plain": [
       "['jack', 'irv']"
      ]
     },
     "execution_count": 19,
     "metadata": {},
     "output_type": "execute_result"
    },
    {
     "data": {
      "text/plain": [
       "['irv', 'jack']"
      ]
     },
     "execution_count": 19,
     "metadata": {},
     "output_type": "execute_result"
    },
    {
     "data": {
      "text/plain": [
       "False"
      ]
     },
     "execution_count": 19,
     "metadata": {},
     "output_type": "execute_result"
    },
    {
     "data": {
      "text/plain": [
       "False"
      ]
     },
     "execution_count": 19,
     "metadata": {},
     "output_type": "execute_result"
    },
    {
     "data": {
      "text/plain": [
       "{'jack': 4098, 'irv': 4127}"
      ]
     },
     "execution_count": 19,
     "metadata": {},
     "output_type": "execute_result"
    }
   ],
   "source": [
    "tel = {'jack': 4098, 'sape': 4139}\n",
    "tel['jack']\n",
    "tel\n",
    "\n",
    "del tel['sape']\n",
    "tel['irv'] = 4127\n",
    "tel\n",
    "\n",
    "list(tel)\n",
    "sorted(tel)\n",
    "\n",
    "'guido' in tel\n",
    "'jack' not in tel\n",
    "\n",
    "tel"
   ]
  },
  {
   "cell_type": "code",
   "execution_count": 21,
   "id": "b836c329-87f7-4767-a8ee-301e3eaf3786",
   "metadata": {},
   "outputs": [
    {
     "data": {
      "text/plain": [
       "{'sape': 4139, 'guido': 4127, 'jack': 4098}"
      ]
     },
     "execution_count": 21,
     "metadata": {},
     "output_type": "execute_result"
    },
    {
     "data": {
      "text/plain": [
       "{'sape': 4139, 'guido': 4127, 'jack': 4098}"
      ]
     },
     "execution_count": 21,
     "metadata": {},
     "output_type": "execute_result"
    },
    {
     "data": {
      "text/plain": [
       "{'guido': 4127, 'jack': 4098, 'sape': 4139}"
      ]
     },
     "execution_count": 21,
     "metadata": {},
     "output_type": "execute_result"
    }
   ],
   "source": [
    "# dict() constructor builds dictionaries directly from sequences of key-value pairs\n",
    "dict([('sape', 4139), ('guido', 4127), ('jack', 4098)])\n",
    "dict((('sape', 4139), ('guido', 4127), ('jack', 4098)))\n",
    "dict({('sape', 4139), ('guido', 4127), ('jack', 4098)})"
   ]
  },
  {
   "cell_type": "code",
   "execution_count": 28,
   "id": "c0d04577-7a0a-44c3-8604-08b732ad0261",
   "metadata": {},
   "outputs": [
    {
     "data": {
      "text/plain": [
       "{2: 4, 4: 16, 6: 36}"
      ]
     },
     "execution_count": 28,
     "metadata": {},
     "output_type": "execute_result"
    }
   ],
   "source": [
    "# Dict comprehension\n",
    "# minimum dict comoprehension: {key:value for vars in iterable}\n",
    "{x: x**2 for x in range(1, 7) if x % 2 ==0}"
   ]
  },
  {
   "cell_type": "code",
   "execution_count": 30,
   "id": "8f4ba595-6e08-45d1-aaf0-0786e5c46429",
   "metadata": {},
   "outputs": [
    {
     "data": {
      "text/plain": [
       "{'sape': 4139, 'guido': 4127, 'jack': 4098}"
      ]
     },
     "execution_count": 30,
     "metadata": {},
     "output_type": "execute_result"
    }
   ],
   "source": [
    "# simplely specify pairs using keyword arguments, the simple string just like key arguments\n",
    "dict(sape=4139, guido=4127, jack=4098)"
   ]
  },
  {
   "cell_type": "markdown",
   "id": "a93564a6-934d-4289-bd39-2a5bef289c63",
   "metadata": {},
   "source": [
    "*Looping Techniques*"
   ]
  },
  {
   "cell_type": "code",
   "execution_count": 34,
   "id": "0fb239dd-9aea-474d-8091-d1130f4cf257",
   "metadata": {},
   "outputs": [
    {
     "name": "stdout",
     "output_type": "stream",
     "text": [
      "gallahad the pure\n",
      "robin the brave\n",
      "('gallahad', 'the pure')\n",
      "('robin', 'the brave')\n"
     ]
    }
   ],
   "source": [
    "# using the items() method to loop dictionary\n",
    "knights = {'gallahad': 'the pure', 'robin': 'the brave'}\n",
    "for key, value in knights.items():\n",
    "    print(key, value)\n",
    "    \n",
    "for item in knights.items():\n",
    "    print(item)"
   ]
  },
  {
   "cell_type": "code",
   "execution_count": 35,
   "id": "3ab93c19-d81e-4548-8c9f-ab29bcf1c57e",
   "metadata": {},
   "outputs": [
    {
     "name": "stdout",
     "output_type": "stream",
     "text": [
      "0 tic\n",
      "1 tac\n",
      "2 toe\n"
     ]
    }
   ],
   "source": [
    "# looping through a sequence using the enumerate() function\n",
    "for index, value in enumerate(['tic', 'tac', 'toe']):\n",
    "    print(index, value)"
   ]
  },
  {
   "cell_type": "code",
   "execution_count": 36,
   "id": "f1193b7e-ba77-4242-85d9-4e679281c841",
   "metadata": {},
   "outputs": [
    {
     "name": "stdout",
     "output_type": "stream",
     "text": [
      "What is your name? It is lancelot\n",
      "What is your quest? It is the holy grail\n",
      "What is your favorite color? It is blue\n"
     ]
    }
   ],
   "source": [
    "# To loop over two or more sequences at the same time, the entries can be paired with the zip() function.\n",
    "questions = ['name', 'quest', 'favorite color']\n",
    "answers = ['lancelot', 'the holy grail', 'blue']\n",
    "for question, answer in zip(questions, answers):\n",
    "    print('What is your {0}? It is {1}'.format(question, answer))"
   ]
  },
  {
   "cell_type": "code",
   "execution_count": 37,
   "id": "8f9ccd4b-328d-44e1-97d8-3ca47494708c",
   "metadata": {},
   "outputs": [
    {
     "name": "stdout",
     "output_type": "stream",
     "text": [
      "9\n",
      "7\n",
      "5\n",
      "3\n",
      "1\n"
     ]
    }
   ],
   "source": [
    "# To loop over a sequence in reverse\n",
    "for i in reversed(range(1, 10, 2)):\n",
    "    print(i)"
   ]
  },
  {
   "cell_type": "code",
   "execution_count": 38,
   "id": "39371cf9-027c-47ca-bca0-0eab47ad6879",
   "metadata": {},
   "outputs": [
    {
     "name": "stdout",
     "output_type": "stream",
     "text": [
      "apple\n",
      "apple\n",
      "banana\n",
      "orange\n",
      "orange\n",
      "pear\n"
     ]
    }
   ],
   "source": [
    "# To loop over a sequence in sorted order, use the sorted() function which returns a new sorted list while leaving the source unaltered.\n",
    "basket = ['apple', 'orange', 'apple', 'pear', 'orange', 'banana']\n",
    "for i in sorted(basket):\n",
    "    print(i)"
   ]
  },
  {
   "cell_type": "code",
   "execution_count": 40,
   "id": "07f87047-7076-4074-bf0e-6c68c6446fa4",
   "metadata": {},
   "outputs": [
    {
     "name": "stdout",
     "output_type": "stream",
     "text": [
      "apple\n",
      "banana\n",
      "orange\n",
      "pear\n"
     ]
    }
   ],
   "source": [
    "# Using set() on a sequence eliminates duplicate elements\n",
    "for f in sorted(set(basket)):\n",
    "    print(f)"
   ]
  },
  {
   "cell_type": "code",
   "execution_count": 43,
   "id": "c860540a-1ac1-4bfb-b39f-f7c229b88bf7",
   "metadata": {},
   "outputs": [
    {
     "data": {
      "text/plain": [
       "[56.2, 51.7, 55.3, 52.5, 47.8]"
      ]
     },
     "execution_count": 43,
     "metadata": {},
     "output_type": "execute_result"
    }
   ],
   "source": [
    "# when filter a sequence, it's simpler and safer to create a new one\n",
    "import math\n",
    "raw_data = [56.2, float('NaN'), 51.7, 55.3, 52.5, float('NaN'), 47.8]\n",
    "filtered_data = []\n",
    "for value in raw_data:\n",
    "    if not math.isnan(value):\n",
    "        filtered_data.append(value)\n",
    "        \n",
    "filtered_data"
   ]
  },
  {
   "cell_type": "markdown",
   "id": "47d9209e-9c92-4333-a543-e4869ddc95d1",
   "metadata": {},
   "source": [
    "*More on Conditions*"
   ]
  },
  {
   "cell_type": "code",
   "execution_count": 46,
   "id": "c4c730e0-b98b-4f63-99d1-5d87658e4bf0",
   "metadata": {},
   "outputs": [
    {
     "data": {
      "text/plain": [
       "'Trondheim'"
      ]
     },
     "execution_count": 46,
     "metadata": {},
     "output_type": "execute_result"
    }
   ],
   "source": [
    "# priority: number operator > comparision > Boolean operator\n",
    "# The Boolean operators and and or are so-called short-circuit operators\n",
    "# It is possible to assign the result of a comparison or other Boolean expression to a variable\n",
    "string1, string2, string3 = '', 'Trondheim', 'Hammer Dance'\n",
    "non_null = string1 or string2 or string3\n",
    "non_null    # return the firt non-null string in Booleal expression"
   ]
  },
  {
   "cell_type": "code",
   "execution_count": 50,
   "id": "a86ff641-9233-485b-9a27-0f1727b83f73",
   "metadata": {},
   "outputs": [
    {
     "name": "stdout",
     "output_type": "stream",
     "text": [
      "Trondheim\n"
     ]
    }
   ],
   "source": [
    "# walrus operator: assignment inside expressions must be done explicitly\n",
    "while non_null := string1 or string2 or string3:\n",
    "    print(non_null)\n",
    "    break"
   ]
  },
  {
   "cell_type": "markdown",
   "id": "a915ec72-d839-4d80-b3d7-70d4181902f5",
   "metadata": {},
   "source": [
    "*Comparing Sequences and Other Types*"
   ]
  },
  {
   "cell_type": "code",
   "execution_count": 51,
   "id": "f9026683-ac1e-4232-a2e1-dd91814830e1",
   "metadata": {},
   "outputs": [
    {
     "data": {
      "text/plain": [
       "True"
      ]
     },
     "execution_count": 51,
     "metadata": {},
     "output_type": "execute_result"
    },
    {
     "data": {
      "text/plain": [
       "True"
      ]
     },
     "execution_count": 51,
     "metadata": {},
     "output_type": "execute_result"
    },
    {
     "data": {
      "text/plain": [
       "True"
      ]
     },
     "execution_count": 51,
     "metadata": {},
     "output_type": "execute_result"
    },
    {
     "data": {
      "text/plain": [
       "True"
      ]
     },
     "execution_count": 51,
     "metadata": {},
     "output_type": "execute_result"
    },
    {
     "data": {
      "text/plain": [
       "True"
      ]
     },
     "execution_count": 51,
     "metadata": {},
     "output_type": "execute_result"
    },
    {
     "data": {
      "text/plain": [
       "True"
      ]
     },
     "execution_count": 51,
     "metadata": {},
     "output_type": "execute_result"
    },
    {
     "data": {
      "text/plain": [
       "True"
      ]
     },
     "execution_count": 51,
     "metadata": {},
     "output_type": "execute_result"
    }
   ],
   "source": [
    "(1, 2, 3)              < (1, 2, 4)\n",
    "[1, 2, 3]              < [1, 2, 4]\n",
    "'ABC' < 'C' < 'Pascal' < 'Python'\n",
    "(1, 2, 3, 4)           < (1, 2, 4)\n",
    "(1, 2)                 < (1, 2, -1)\n",
    "(1, 2, 3)             == (1.0, 2.0, 3.0)    # comparing objects of different types\n",
    "(1, 2, ('aa', 'ab'))   < (1, 2, ('abc', 'a'), 4)"
   ]
  },
  {
   "cell_type": "code",
   "execution_count": 55,
   "id": "4fb1f3a7-eab4-4094-bb3d-6ddb892260c4",
   "metadata": {},
   "outputs": [
    {
     "data": {
      "text/plain": [
       "False"
      ]
     },
     "execution_count": 55,
     "metadata": {},
     "output_type": "execute_result"
    }
   ],
   "source": [
    "# how to explain this? no raise a TypeError exception.\n",
    "(1, 2, 3) == [1, 2, 3]"
   ]
  },
  {
   "cell_type": "markdown",
   "id": "3c3db854-aa1c-4d3e-b85d-d868bdce6ce6",
   "metadata": {},
   "source": [
    "### Modules"
   ]
  },
  {
   "cell_type": "markdown",
   "id": "990f0efc-1062-4f3f-99d1-93d9e2190ecd",
   "metadata": {},
   "source": [
    "A module is a file containing Python definitions and statements. The file name is the module name with the suffix `.py` appended. Within a module, the module’s name (as a string) is available as the value of the global variable `__name__`. For instance, use your favorite text editor to create a file called `fibo.py` in the current directory with the following contents:\n",
    "\n",
    "> 一个模块是一个包含 Python 定义和语句的文件。文件名是带有后缀 `.py`的模块名。在一个模块中，模块的名字 (作为一个字符串) 可以作为全局变量 `__name__` 的值。例如，使用你喜欢的文本编辑器在当前目录下创建一个名为`fibo.py`的文件，内容如下："
   ]
  },
  {
   "cell_type": "code",
   "execution_count": 10,
   "id": "c9baa3b1-ea82-48f6-aed4-c8e859026bb7",
   "metadata": {},
   "outputs": [],
   "source": [
    "# Fibonacci numbers module\n",
    "\n",
    "def fib(n):    # write Fibonacci series up to n\n",
    "    a, b = 0, 1\n",
    "    while a < n:\n",
    "        print(a, end=' ')\n",
    "        a, b = b, a+b\n",
    "    print()\n",
    "\n",
    "def fib2(n):   # return Fibonacci series up to n\n",
    "    result = []\n",
    "    a, b = 0, 1\n",
    "    while a < n:\n",
    "        result.append(a)\n",
    "        a, b = b, a+b\n",
    "    return result"
   ]
  },
  {
   "cell_type": "code",
   "execution_count": 16,
   "id": "0d97ebc4-beff-41f4-b19a-e69b42a881bd",
   "metadata": {},
   "outputs": [
    {
     "name": "stdout",
     "output_type": "stream",
     "text": [
      "__main__\n"
     ]
    },
    {
     "ename": "AttributeError",
     "evalue": "module 'fibo' has no attribute 'fib'",
     "output_type": "error",
     "traceback": [
      "\u001b[1;31m---------------------------------------------------------------------------\u001b[0m",
      "\u001b[1;31mAttributeError\u001b[0m                            Traceback (most recent call last)",
      "Input \u001b[1;32mIn [16]\u001b[0m, in \u001b[0;36m<cell line: 4>\u001b[1;34m()\u001b[0m\n\u001b[0;32m      1\u001b[0m \u001b[38;5;28;01mimport\u001b[39;00m \u001b[38;5;21;01mfibo\u001b[39;00m\n\u001b[0;32m      2\u001b[0m \u001b[38;5;28mprint\u001b[39m(\u001b[38;5;18m__name__\u001b[39m)\n\u001b[1;32m----> 4\u001b[0m \u001b[43mfibo\u001b[49m\u001b[38;5;241;43m.\u001b[39;49m\u001b[43mfib\u001b[49m(\u001b[38;5;241m500\u001b[39m)\n\u001b[0;32m      5\u001b[0m fibo\u001b[38;5;241m.\u001b[39mfib2(\u001b[38;5;241m100\u001b[39m)\n\u001b[0;32m      7\u001b[0m fibo\u001b[38;5;241m.\u001b[39m\u001b[38;5;18m__name__\u001b[39m\n",
      "\u001b[1;31mAttributeError\u001b[0m: module 'fibo' has no attribute 'fib'"
     ]
    }
   ],
   "source": [
    "import fibo\n",
    "print(__name__)\n",
    "\n",
    "fibo.fib(500)\n",
    "fibo.fib2(100)\n",
    "\n",
    "fibo.__name__"
   ]
  },
  {
   "cell_type": "code",
   "execution_count": 17,
   "id": "fdc376e5-412d-4912-b444-dc547aae7260",
   "metadata": {},
   "outputs": [
    {
     "ename": "AttributeError",
     "evalue": "module 'fibo' has no attribute 'fib'",
     "output_type": "error",
     "traceback": [
      "\u001b[1;31m---------------------------------------------------------------------------\u001b[0m",
      "\u001b[1;31mAttributeError\u001b[0m                            Traceback (most recent call last)",
      "Input \u001b[1;32mIn [17]\u001b[0m, in \u001b[0;36m<cell line: 2>\u001b[1;34m()\u001b[0m\n\u001b[0;32m      1\u001b[0m \u001b[38;5;66;03m# assign the function of the module to a local name\u001b[39;00m\n\u001b[1;32m----> 2\u001b[0m fib \u001b[38;5;241m=\u001b[39m \u001b[43mfibo\u001b[49m\u001b[38;5;241;43m.\u001b[39;49m\u001b[43mfib\u001b[49m\n\u001b[0;32m      3\u001b[0m fib(\u001b[38;5;241m500\u001b[39m)\n",
      "\u001b[1;31mAttributeError\u001b[0m: module 'fibo' has no attribute 'fib'"
     ]
    }
   ],
   "source": [
    "# assign the function of the module to a local name\n",
    "fib = fibo.fib\n",
    "fib(500)"
   ]
  },
  {
   "cell_type": "markdown",
   "id": "43874bf0-2597-4893-92cb-2e0c3d337bc7",
   "metadata": {},
   "source": [
    "*More on Modules*"
   ]
  },
  {
   "cell_type": "markdown",
   "id": "12bc4779-1c07-424f-aa7d-e9b11ed6126d",
   "metadata": {},
   "source": [
    "A module can contain executable statements as well as function definitions. These statements are intended to initialize the module. They are executed only the first time the module name is encountered in an import statement."
   ]
  },
  {
   "cell_type": "markdown",
   "id": "426e3825-4cbb-43f7-8bcf-de2c74466f98",
   "metadata": {},
   "source": [
    "*Standard Modules*"
   ]
  },
  {
   "cell_type": "markdown",
   "id": "f7481cda-edbe-4460-a7e2-e1d2ad872a25",
   "metadata": {},
   "source": [
    "Python comes with a library of standard modules, described in a separate document, the Python Library Reference (“Library Reference” hereafter). Some modules are built into the interpreter; these provide access to operations that are not part of the core of the language but are nevertheless built in, either for efficiency or to provide access to operating system primitives such as system calls. "
   ]
  },
  {
   "cell_type": "markdown",
   "id": "a6636d2e-d1a7-453c-9717-b9807e0762e7",
   "metadata": {},
   "source": [
    "*The `dir()` Function*"
   ]
  },
  {
   "cell_type": "markdown",
   "id": "dd96137b-d4cf-4b69-a34c-160cca733ce1",
   "metadata": {},
   "source": [
    "The built-in function [`dir()`](https://docs.python.org/3/library/functions.html#dir) is used to find out which names a module defines. It returns a sorted list of strings:"
   ]
  },
  {
   "cell_type": "markdown",
   "id": "5bb5cf35-fabe-4fcd-aaaf-d24543b9957b",
   "metadata": {},
   "source": [
    "[`dir()`](https://docs.python.org/3/library/functions.html#dir) does not list the names of built-in functions and variables. If you want a list of those, they are defined in the standard module [`builtins`](https://docs.python.org/3/library/builtins.html#module-builtins):"
   ]
  },
  {
   "cell_type": "code",
   "execution_count": 18,
   "id": "75552cde-d5ed-491b-b481-7b549abeb4eb",
   "metadata": {
    "scrolled": true,
    "tags": []
   },
   "outputs": [
    {
     "data": {
      "text/plain": [
       "['ArithmeticError',\n",
       " 'AssertionError',\n",
       " 'AttributeError',\n",
       " 'BaseException',\n",
       " 'BlockingIOError',\n",
       " 'BrokenPipeError',\n",
       " 'BufferError',\n",
       " 'BytesWarning',\n",
       " 'ChildProcessError',\n",
       " 'ConnectionAbortedError',\n",
       " 'ConnectionError',\n",
       " 'ConnectionRefusedError',\n",
       " 'ConnectionResetError',\n",
       " 'DeprecationWarning',\n",
       " 'EOFError',\n",
       " 'Ellipsis',\n",
       " 'EncodingWarning',\n",
       " 'EnvironmentError',\n",
       " 'Exception',\n",
       " 'False',\n",
       " 'FileExistsError',\n",
       " 'FileNotFoundError',\n",
       " 'FloatingPointError',\n",
       " 'FutureWarning',\n",
       " 'GeneratorExit',\n",
       " 'IOError',\n",
       " 'ImportError',\n",
       " 'ImportWarning',\n",
       " 'IndentationError',\n",
       " 'IndexError',\n",
       " 'InterruptedError',\n",
       " 'IsADirectoryError',\n",
       " 'KeyError',\n",
       " 'KeyboardInterrupt',\n",
       " 'LookupError',\n",
       " 'MemoryError',\n",
       " 'ModuleNotFoundError',\n",
       " 'NameError',\n",
       " 'None',\n",
       " 'NotADirectoryError',\n",
       " 'NotImplemented',\n",
       " 'NotImplementedError',\n",
       " 'OSError',\n",
       " 'OverflowError',\n",
       " 'PendingDeprecationWarning',\n",
       " 'PermissionError',\n",
       " 'ProcessLookupError',\n",
       " 'RecursionError',\n",
       " 'ReferenceError',\n",
       " 'ResourceWarning',\n",
       " 'RuntimeError',\n",
       " 'RuntimeWarning',\n",
       " 'StopAsyncIteration',\n",
       " 'StopIteration',\n",
       " 'SyntaxError',\n",
       " 'SyntaxWarning',\n",
       " 'SystemError',\n",
       " 'SystemExit',\n",
       " 'TabError',\n",
       " 'TimeoutError',\n",
       " 'True',\n",
       " 'TypeError',\n",
       " 'UnboundLocalError',\n",
       " 'UnicodeDecodeError',\n",
       " 'UnicodeEncodeError',\n",
       " 'UnicodeError',\n",
       " 'UnicodeTranslateError',\n",
       " 'UnicodeWarning',\n",
       " 'UserWarning',\n",
       " 'ValueError',\n",
       " 'Warning',\n",
       " 'WindowsError',\n",
       " 'ZeroDivisionError',\n",
       " '__IPYTHON__',\n",
       " '__build_class__',\n",
       " '__debug__',\n",
       " '__doc__',\n",
       " '__import__',\n",
       " '__loader__',\n",
       " '__name__',\n",
       " '__package__',\n",
       " '__spec__',\n",
       " 'abs',\n",
       " 'aiter',\n",
       " 'all',\n",
       " 'anext',\n",
       " 'any',\n",
       " 'ascii',\n",
       " 'bin',\n",
       " 'bool',\n",
       " 'breakpoint',\n",
       " 'bytearray',\n",
       " 'bytes',\n",
       " 'callable',\n",
       " 'chr',\n",
       " 'classmethod',\n",
       " 'compile',\n",
       " 'complex',\n",
       " 'copyright',\n",
       " 'credits',\n",
       " 'delattr',\n",
       " 'dict',\n",
       " 'dir',\n",
       " 'display',\n",
       " 'divmod',\n",
       " 'enumerate',\n",
       " 'eval',\n",
       " 'exec',\n",
       " 'execfile',\n",
       " 'filter',\n",
       " 'float',\n",
       " 'format',\n",
       " 'frozenset',\n",
       " 'get_ipython',\n",
       " 'getattr',\n",
       " 'globals',\n",
       " 'hasattr',\n",
       " 'hash',\n",
       " 'help',\n",
       " 'hex',\n",
       " 'id',\n",
       " 'input',\n",
       " 'int',\n",
       " 'isinstance',\n",
       " 'issubclass',\n",
       " 'iter',\n",
       " 'len',\n",
       " 'license',\n",
       " 'list',\n",
       " 'locals',\n",
       " 'map',\n",
       " 'max',\n",
       " 'memoryview',\n",
       " 'min',\n",
       " 'next',\n",
       " 'object',\n",
       " 'oct',\n",
       " 'open',\n",
       " 'ord',\n",
       " 'pow',\n",
       " 'print',\n",
       " 'property',\n",
       " 'range',\n",
       " 'repr',\n",
       " 'reversed',\n",
       " 'round',\n",
       " 'runfile',\n",
       " 'set',\n",
       " 'setattr',\n",
       " 'slice',\n",
       " 'sorted',\n",
       " 'staticmethod',\n",
       " 'str',\n",
       " 'sum',\n",
       " 'super',\n",
       " 'tuple',\n",
       " 'type',\n",
       " 'vars',\n",
       " 'zip']"
      ]
     },
     "execution_count": 18,
     "metadata": {},
     "output_type": "execute_result"
    }
   ],
   "source": [
    "import builtins\n",
    "dir(builtins)"
   ]
  },
  {
   "cell_type": "markdown",
   "id": "f70976d0-ac0f-431f-a136-5aa0d83ab372",
   "metadata": {},
   "source": [
    "*Packages*"
   ]
  },
  {
   "cell_type": "markdown",
   "id": "fa8bcc34-d04f-4892-826e-b6dabd84d2fb",
   "metadata": {},
   "source": [
    "Packages are a way of structuring Python’s module namespace by using “dotted module names”. For example, the module name `A.B` designates a submodule named `B` in a package named `A`. Just like the use of modules saves the authors of different modules from having to worry about each other’s global variable names, the use of dotted module names saves the authors of multi-module packages like NumPy or Pillow from having to worry about each other’s module names.\n",
    "\n",
    "> 包是通过使用 \"点状模块名\" 来构造 Python 模块名称空间的一种方式。例如，模块名 `A.B` 指定一个名为 `B` 的子模块在一个名为 `A` 的包中。就像使用模块使不同模块的作者不必担心彼此的全局变量名一样，使用带点的模块名使多模块包如 NumPy 或 Pillow 的作者不必担心彼此的模块名。"
   ]
  },
  {
   "cell_type": "markdown",
   "id": "37c8d474-ee4e-43be-960f-fccb6028ee59",
   "metadata": {},
   "source": [
    "Suppose you want to design a collection of modules (a “package”) for the uniform handling of sound files and sound data. There are many different sound file formats (usually recognized by their extension, for example: `.wav`, `.aiff`, `.au`), so you may need to create and maintain a growing collection of modules for the conversion between the various file formats. There are also many different operations you might want to perform on sound data (such as mixing, adding echo, applying an equalizer function, creating an artificial stereo effect), so in addition you will be writing a never-ending stream of modules to perform these operations. Here’s a possible structure for your package (expressed in terms of a hierarchical filesystem):\n",
    "\n",
    "> 假设你想设计一个模块集（一个 \"包\"）来统一处理声音文件和声音数据。有许多不同的声音文件格式（通常由它们的扩展名来识别，例如：`.wav', `.aiff`, `.au'），所以你可能需要创建和维护一个不断增长的模块集，用于各种文件格式之间的转换。还有许多不同的操作，你可能想在声音数据上执行（如混合，添加回声，应用均衡器功能，创建人工立体声效果），因此，此外，你将编写一个永无止境的模块流来执行这些操作。下面是你的软件包的可能结构（用分层文件系统表示）。"
   ]
  },
  {
   "cell_type": "raw",
   "id": "fabf0540-cc06-474d-b316-54c5f3247999",
   "metadata": {},
   "source": [
    "sound/                          Top-level package\n",
    "      __init__.py               Initialize the sound package\n",
    "      formats/                  Subpackage for file format conversions\n",
    "              __init__.py\n",
    "              wavread.py\n",
    "              wavwrite.py\n",
    "              aiffread.py\n",
    "              aiffwrite.py\n",
    "              auread.py\n",
    "              auwrite.py\n",
    "              ...\n",
    "      effects/                  Subpackage for sound effects\n",
    "              __init__.py\n",
    "              echo.py\n",
    "              surround.py\n",
    "              reverse.py\n",
    "              ...\n",
    "      filters/                  Subpackage for filters\n",
    "              __init__.py\n",
    "              equalizer.py\n",
    "              vocoder.py\n",
    "              karaoke.py\n",
    "              ..."
   ]
  },
  {
   "cell_type": "markdown",
   "id": "bfb51043-f178-4d3e-9d14-e7a4d0f3be3f",
   "metadata": {},
   "source": [
    "The `__init__.py` files are required to make Python treat directories containing the file as packages. This prevents directories with a common name, such as `string`, unintentionally hiding valid modules that occur later on the module search path. In the simplest case, `__init__.py` can just be an empty file, but it can also execute initialization code for the package or set the `__all__` variable, described later.\n",
    "\n",
    "> `init__.py`文件是必须的，以使 Python 将包含该文件的目录视为包。这可以防止具有共同名字的目录，例如 `string`，无意中隐藏了模块搜索路径上后来出现的有效模块。在最简单的情况下，`__init__.py`可以只是一个空文件，但它也可以执行软件包的初始化代码或设置`__all__`变量，这在后面会介绍。"
   ]
  },
  {
   "cell_type": "markdown",
   "id": "d86f9bfc-c7df-4794-ae88-79886c4bb033",
   "metadata": {},
   "source": [
    "Contrarily, when using syntax like `import item.subitem.subsubitem`, each item except for the last must be a package; the last item can be a module or a package but can’t be a class or function or variable defined in the previous item.\n",
    "\n",
    "> 相反，当使用像`import item.subitem.subsubitem`这样的语法时，除了最后一项外，每一项都必须是一个包；最后一项可以是一个模块或一个包，但不能是前一项中定义的类或函数或变量。"
   ]
  },
  {
   "cell_type": "markdown",
   "id": "c5c968de-22ac-4945-83ae-de724de1dc2a",
   "metadata": {},
   "source": [
    "*6.4.1 Import `*` Frome a Package*"
   ]
  },
  {
   "cell_type": "markdown",
   "id": "e92e278d-76f4-4cd2-8589-02089885f5fc",
   "metadata": {},
   "source": [
    "The only solution is for the package author to provide an explicit index of the package. The [`import`](https://docs.python.org/3/reference/simple_stmts.html#import) statement uses the following convention: if a package’s `__init__.py` code defines a list named `__all__`, it is taken to be the list of module names that should be imported when `from package import *` is encountered. It is up to the package author to keep this list up-to-date when a new version of the package is released. Package authors may also decide not to support it, if they don’t see a use for importing * from their package. For example, the file `sound/effects/__init__.py` could contain the following code:\n",
    "\n",
    "> 唯一的解决办法是由包的作者提供一个明确的包的索引。[`import`](https://docs.python.org/3/reference/simple_stmts.html#import) 语句使用以下约定：如果一个包的`__init__.py`代码定义了一个名为`__all__`的列表，它被认为是在遇到`from package import *`时应该被导入的模块名称列表。当包的新版本发布时，由包的作者来保持这个列表是最新的。包作者也可以决定不支持它，如果他们认为从他们的包中导入`*` 没有用。例如，文件`sound/effects/__init__.py`可能包含以下代码："
   ]
  },
  {
   "cell_type": "code",
   "execution_count": 2,
   "id": "3bace7ac-1460-4c36-89b2-99005b015314",
   "metadata": {},
   "outputs": [],
   "source": [
    "__all__ = [\"echo\", \"surround\", \"reverse\"]"
   ]
  },
  {
   "cell_type": "markdown",
   "id": "493f7e43-a01c-457e-90ad-8c2c6889208d",
   "metadata": {},
   "source": [
    "This would mean that `from sound.effects import *` would import the three named submodules of the `sound.effects` package."
   ]
  },
  {
   "cell_type": "markdown",
   "id": "0723b7bd-2889-4dc5-94b6-845a50125bc5",
   "metadata": {},
   "source": [
    "If `__all__` is not defined, the statement `from sound.effects import *` does *not* import all submodules from the package `sound.effects` into the current namespace; it only ensures that the package `sound.effects` has been imported (possibly running any initialization code in `__init__.py`) and then imports whatever names are defined in the package. This includes any names defined (and submodules explicitly loaded) by `__init__.py`. It also includes any submodules of the package that were explicitly loaded by previous [`import`](https://docs.python.org/3/reference/simple_stmts.html#import) statements. Consider this code:\n",
    "\n",
    "> 如果没有定义 `__all__`，语句 `from sound.effect import *` 并*不*导入软件包 `sound.effect` 中的所有子模块到当前命名空间；它只是确保软件包 `sound.effect` 已经被导入（可能运行任何在 `init__.py` 中的初始化代码），然后导入软件包中定义的任何名字。这包括任何由 `__init__.py` 定义的名字（和明确加载的子模块）。它还包括任何由以前的 [`import`](https://docs.python.org/3/reference/simple_stmts.html#import) 语句明确加载的包的子模块。考虑一下这段代码："
   ]
  },
  {
   "cell_type": "raw",
   "id": "91bed335-d641-4a58-8177-13afd5dd544d",
   "metadata": {},
   "source": [
    "import sound.effects.echo\n",
    "import sound.effects.surround\n",
    "from sound.effects import *"
   ]
  },
  {
   "cell_type": "markdown",
   "id": "4cb2ed40-f90b-4013-96dd-d11c5952a143",
   "metadata": {},
   "source": [
    "In this example, the `echo` and `surround` modules are imported in the current namespace because they are defined in the `sound.effects` package when the `from...import` statement is executed. (This also works when `__all__` is defined.)\n",
    "\n",
    "Although certain modules are designed to export only names that follow certain patterns when you use `import *`, it is still considered bad practice in production code.\n",
    "\n",
    "Remember, there is nothing wrong with using `from package import specific_submodule`! In fact, this is the recommended notation unless the importing module needs to use submodules with the same name from different packages.\n",
    "\n",
    "> 在这个例子中，`echo` 和 `surround` 模块在当前命名空间被导入，因为当执行 `from...import` 语句时，它们被定义在 `sound.effect` 包中。(这在定义了 `__all__`时也是有效的）。\n",
    ">\n",
    "> 尽管某些模块被设计成在你使用`import *`时只导出遵循某些模式的名字，但在生产代码中，这仍然被认为是不好的做法。\n",
    ">\n",
    "> 记住，使用 `from package import specific_submodule` 并没有错！事实上，这是推荐的标识，除非导入的模块需要使用来自不同包的同名子模块。"
   ]
  },
  {
   "cell_type": "markdown",
   "id": "9f207555-0def-439d-96a3-c4fed0d36d3f",
   "metadata": {},
   "source": [
    "*6.4.2. Intra-package References*"
   ]
  },
  {
   "cell_type": "markdown",
   "id": "9234b4b9-1a13-4b1a-acbc-59415a322960",
   "metadata": {},
   "source": [
    "When packages are structured into subpackages (as with the `sound` package in the example), you can use absolute imports to refer to submodules of siblings packages. For example, if the module `sound.filters.vocoder` needs to use the `echo` module in the `sound.effects` package, it can use `from sound.effects import echo`.\n",
    "\n",
    "You can also write relative imports, with the `from module import name` form of import statement. These imports use leading dots to indicate the current and parent packages involved in the relative import. From the `surround` module for example, you might use:\n",
    "\n",
    "```python\n",
    "from . import echo\n",
    "from .. import formats\n",
    "from ..filters import equalizer\n",
    "```\n",
    "\n",
    "Note that relative imports are based on the name of the current module. Since the name of the main module is always `\"__main__\"`, modules intended for use as the main module of a Python application must always use absolute imports."
   ]
  },
  {
   "cell_type": "markdown",
   "id": "84e3f937-b2d9-4130-b22a-9c711719d1fe",
   "metadata": {},
   "source": [
    "*6.4.3. Packages in Multiple Directories*"
   ]
  },
  {
   "cell_type": "markdown",
   "id": "a1315f21-1aeb-4d2c-acee-f589a5220dc8",
   "metadata": {},
   "source": [
    "Packages support one more special attribute, [`__path__`](https://docs.python.org/3/reference/import.html#path__). This is initialized to be a list containing the name of the directory holding the package’s `__init__.py` before the code in that file is executed. This variable can be modified; doing so affects future searches for modules and subpackages contained in the package.\n",
    "\n",
    "While this feature is not often needed, it can be used to extend the set of modules found in a package.\n",
    "\n",
    "> 包还支持一个特殊的属性，[`__path__`](https://docs.python.org/3/reference/import.html#path__)。这个属性被初始化为一个列表，在执行包的`__init__.py`文件中的代码之前，它包含了存放该包的目录名称。这个变量可以被修改；这样做会影响到将来对包中包含的模块和子包的搜索。\n",
    ">\n",
    "> 虽然这个功能并不经常需要，但它可以用来扩展在包中找到的模块集。"
   ]
  },
  {
   "cell_type": "markdown",
   "id": "412cf4fb-f333-4adf-9bc6-748c1cab12b6",
   "metadata": {},
   "source": [
    "### Input and Output"
   ]
  },
  {
   "cell_type": "code",
   "execution_count": 10,
   "id": "773d750e-5ebc-49b0-8138-d72d1b6f5fe1",
   "metadata": {},
   "outputs": [
    {
     "data": {
      "text/plain": [
       "'Results of the 2016 Referendum'"
      ]
     },
     "execution_count": 10,
     "metadata": {},
     "output_type": "execute_result"
    },
    {
     "data": {
      "text/plain": [
       "'Results of the 2016 Referendum'"
      ]
     },
     "execution_count": 10,
     "metadata": {},
     "output_type": "execute_result"
    },
    {
     "data": {
      "text/plain": [
       "'Results of the 2016 Referendum'"
      ]
     },
     "execution_count": 10,
     "metadata": {},
     "output_type": "execute_result"
    }
   ],
   "source": [
    "# formatted string literals\n",
    "year = 2016\n",
    "event = 'Referendum'\n",
    "f\"Results of the {year} {event}\"\n",
    "\"Results of the {0} {1}\".format(year, event)\n",
    "\"Results of the {0} {1}\".format(2016, \"Referendum\")"
   ]
  },
  {
   "cell_type": "markdown",
   "id": "9699ea63-30a9-4dc1-8400-c9d932212e10",
   "metadata": {},
   "source": [
    "The [`str.format()`](https://docs.python.org/3/library/stdtypes.html#str.format) method of strings requires more manual effort. You’ll still use `{` and `}` to mark where a variable will be substituted and can provide detailed formatting directives, but you’ll also need to provide the information to be formatted.\n",
    "\n",
    "> 字符串的[`str.format()`](https://docs.python.org/3/library/stdtypes.html#str.format)方法需要更多手工操作。你仍然会使用`{`和`}`来标记变量将被替换的位置，并且可以提供详细的格式化指令，但是你还需要提供要格式化的信息。"
   ]
  },
  {
   "cell_type": "code",
   "execution_count": 11,
   "id": "426ba25c-5b88-402b-86e0-2d0995d64321",
   "metadata": {},
   "outputs": [
    {
     "data": {
      "text/plain": [
       "' 42572654 YES votes  49.67%'"
      ]
     },
     "execution_count": 11,
     "metadata": {},
     "output_type": "execute_result"
    }
   ],
   "source": [
    "yes_votes = 42_572_654\n",
    "no_votes = 43_132_495\n",
    "percentage = yes_votes / (yes_votes + no_votes)\n",
    "'{:-9} YES votes  {:2.2%}'.format(yes_votes, percentage)"
   ]
  },
  {
   "cell_type": "code",
   "execution_count": 23,
   "id": "fcad605a-6c68-46a1-a4ca-d45327b9568f",
   "metadata": {},
   "outputs": [
    {
     "data": {
      "text/plain": [
       "'Hello, world.'"
      ]
     },
     "execution_count": 23,
     "metadata": {},
     "output_type": "execute_result"
    },
    {
     "data": {
      "text/plain": [
       "\"'Hello, world.'\""
      ]
     },
     "execution_count": 23,
     "metadata": {},
     "output_type": "execute_result"
    },
    {
     "data": {
      "text/plain": [
       "'0.14285714285714285'"
      ]
     },
     "execution_count": 23,
     "metadata": {},
     "output_type": "execute_result"
    },
    {
     "name": "stdout",
     "output_type": "stream",
     "text": [
      "The value of x is 32.5, and y is 40000...\n",
      "'hello, world\\n'\n"
     ]
    },
    {
     "data": {
      "text/plain": [
       "\"(32.5, 40000, ('spam', 'eggs'))\""
      ]
     },
     "execution_count": 23,
     "metadata": {},
     "output_type": "execute_result"
    },
    {
     "data": {
      "text/plain": [
       "'[0, 1, 2, 3, 4, 5, 6, 7, 8, 9]'"
      ]
     },
     "execution_count": 23,
     "metadata": {},
     "output_type": "execute_result"
    }
   ],
   "source": [
    "# repr() & str()\n",
    "s = 'Hello, world.'\n",
    "str(s)\n",
    "\n",
    "repr(s)\n",
    "\n",
    "str(1/7)\n",
    "\n",
    "x = 10 * 3.25\n",
    "y = 200 * 200\n",
    "s = 'The value of x is ' + repr(x) + ', and y is ' + repr(y) + '...'\n",
    "print(s)\n",
    "\n",
    "# The repr() of a string adds string quotes and backslashes:\n",
    "hello = 'hello, world\\n'\n",
    "hellos = repr(hello)\n",
    "print(hellos)\n",
    "\n",
    "# The argument to repr() may be any Python object:\n",
    "repr((x, y, ('spam', 'eggs')))\n",
    "repr([x for x in range(10)])"
   ]
  },
  {
   "cell_type": "markdown",
   "id": "b2700333-7ae1-4dff-8a9d-b65a54ed040c",
   "metadata": {},
   "source": [
    "*Formatted String Literals*"
   ]
  },
  {
   "cell_type": "markdown",
   "id": "d3607813-a4ed-451a-bee2-055f20aded37",
   "metadata": {},
   "source": [
    "An optional format specifier can follow the expression. This allows greater control over how the value is formatted. The following example rounds pi to three places after the decimal:\n",
    "\n",
    "> 表达式后面可以有一个可选的格式指定符。这允许对值的格式化进行更多的控制。下面的例子是将π四舍五入到小数点后的三个位置："
   ]
  },
  {
   "cell_type": "code",
   "execution_count": 2,
   "id": "f3039269-3481-4da7-81bd-79f303b74b42",
   "metadata": {},
   "outputs": [
    {
     "name": "stdout",
     "output_type": "stream",
     "text": [
      "The value of pi is approximately 3.142\n"
     ]
    }
   ],
   "source": [
    "import math\n",
    "print(f\"The value of pi is approximately {math.pi:.3f}\")"
   ]
  },
  {
   "cell_type": "markdown",
   "id": "f5e76686-795a-4304-b9a5-8b7d0d04ae2e",
   "metadata": {},
   "source": [
    "Passing an integer after the `':'` will cause that field to be a minimum number of characters wide. This is useful for making columns line up.\n",
    "\n",
    "> 在 `':'` 后面传递一个整数，将使该字段的宽度达到最小字符数。这对于使栏位排成一行很有用。"
   ]
  },
  {
   "cell_type": "code",
   "execution_count": 3,
   "id": "50ab662c-78c5-4094-a85c-fda34a57cf2a",
   "metadata": {},
   "outputs": [
    {
     "name": "stdout",
     "output_type": "stream",
     "text": [
      "Sjoerd     ==>       4127\n",
      "Jack       ==>       4098\n",
      "Dcab       ==>       7678\n"
     ]
    }
   ],
   "source": [
    "table = {'Sjoerd': 4127, 'Jack': 4098, 'Dcab': 7678}\n",
    "for name, phone in table.items():\n",
    "    print(f\"{name:10} ==> {phone:10d}\")"
   ]
  },
  {
   "cell_type": "markdown",
   "id": "57f8fce4-a9c3-413a-b181-fe9ff17f4fd9",
   "metadata": {},
   "source": [
    "Other modifiers can be used to convert the value before it is formatted. `'!a'` applies [`ascii()`](https://docs.python.org/3/library/functions.html#ascii), `'!s'` applies [`str()`](https://docs.python.org/3/library/stdtypes.html#str), and `'!r'` applies [`repr()`](https://docs.python.org/3/library/functions.html#repr):\n",
    "\n",
    "> 其他修饰符可以用来在格式化前转换数值。`'!a'`应用[`ascii()`](https://docs.python.org/3/library/functions.html#ascii)，`'!s'`应用[`str()`](https://docs.python.org/3/library/stdtypes.html#str)，而`'!r'`应用[`repr()`](https://docs.python.org/3/library/functions.html#repr)。"
   ]
  },
  {
   "cell_type": "code",
   "execution_count": 4,
   "id": "7450e232-ff79-4bf6-97f6-8e41ded14c85",
   "metadata": {},
   "outputs": [
    {
     "name": "stdout",
     "output_type": "stream",
     "text": [
      "My hovercraft is full of eels.\n",
      "My hovercraft is full of 'eels'.\n"
     ]
    }
   ],
   "source": [
    "animals = \"eels\"\n",
    "print(f\"My hovercraft is full of {animals}.\")\n",
    "print(f\"My hovercraft is full of {animals!r}.\")"
   ]
  },
  {
   "cell_type": "markdown",
   "id": "e18817e5-6054-4be3-9c67-5fde7bca346d",
   "metadata": {},
   "source": [
    "*The String format() method*"
   ]
  },
  {
   "cell_type": "code",
   "execution_count": 5,
   "id": "1c3dfc43-3079-4ee2-b4fa-81451fd5caf5",
   "metadata": {},
   "outputs": [
    {
     "name": "stdout",
     "output_type": "stream",
     "text": [
      "The story of Bill, Manfred, and Georg.\n"
     ]
    }
   ],
   "source": [
    "print('The story of {0}, {1}, and {other}.'.format('Bill', 'Manfred',\n",
    "                                                   other='Georg'))"
   ]
  },
  {
   "cell_type": "markdown",
   "id": "e13e8910-2e1f-4e3b-84ed-cc4574ee9c67",
   "metadata": {},
   "source": [
    "If you have a really long format string that you don’t want to split up, it would be nice if you could reference the variables to be formatted by name instead of by position. This can be done by simply passing the dict and using square brackets `'[]'` to access the keys.\n",
    "\n",
    "> 如果你有一个非常长的格式化字符串，你不想把它拆开，如果你能通过名字而不是位置来引用要格式化的变量，那就更好了。这可以通过简单地传递dict和使用方括号`'[]'`来访问键来实现。"
   ]
  },
  {
   "cell_type": "code",
   "execution_count": 6,
   "id": "2282570c-c01e-47f5-86d1-f2736f12acb9",
   "metadata": {},
   "outputs": [
    {
     "name": "stdout",
     "output_type": "stream",
     "text": [
      "Jack: 4098; Sjoerd: 4127;Dcab: 8637678\n"
     ]
    }
   ],
   "source": [
    "table = {'Sjoerd': 4127, 'Jack': 4098, 'Dcab': 8637678}\n",
    "print(\"Jack: {0[Jack]:d}; Sjoerd: {0[Sjoerd]:d};\"\n",
    "      \"Dcab: {0[Dcab]:d}\".format(table))"
   ]
  },
  {
   "cell_type": "markdown",
   "id": "5996f6a3-6adb-4cb4-b1b5-6294a4e34ced",
   "metadata": {},
   "source": [
    "This could also be done by passing the `table` dictionary as keyword arguments with the `**` notation.\n",
    "\n",
    "> 这也可以通过将`table`字典作为关键字参数用`**`符号来完成。"
   ]
  },
  {
   "cell_type": "code",
   "execution_count": 7,
   "id": "61b8718a-892a-4f6a-b01a-ef12a428b771",
   "metadata": {},
   "outputs": [
    {
     "name": "stdout",
     "output_type": "stream",
     "text": [
      "Jack: 4098; Sjoerd: 4127; Dcab: 8637678\n"
     ]
    }
   ],
   "source": [
    "table = {'Sjoerd': 4127, 'Jack': 4098, 'Dcab': 8637678}\n",
    "print(\"Jack: {Jack:d}; Sjoerd: {Sjoerd:d}; Dcab: {Dcab:d}\".format(**table))"
   ]
  },
  {
   "cell_type": "code",
   "execution_count": 8,
   "id": "1bc988c4-83a6-4bb4-b0fe-0d1588071506",
   "metadata": {},
   "outputs": [
    {
     "name": "stdout",
     "output_type": "stream",
     "text": [
      " 1   1    1\n",
      " 2   4    8\n",
      " 3   9   27\n",
      " 4  16   64\n",
      " 5  25  125\n",
      " 6  36  216\n",
      " 7  49  343\n",
      " 8  64  512\n",
      " 9  81  729\n",
      "10 100 1000\n"
     ]
    }
   ],
   "source": [
    "# produce a tidily aligned set of columns giving integers and their squares and cubes\n",
    "for x in range(1, 11):\n",
    "    print(\"{0:2d} {1:3d} {2:4d}\".format(x, x**2, x**3))"
   ]
  },
  {
   "cell_type": "markdown",
   "id": "ef4ae900-9c43-4b51-bea5-1a75be2dd816",
   "metadata": {},
   "source": [
    "*7.1.3. Manual String Formatting*"
   ]
  },
  {
   "cell_type": "code",
   "execution_count": 14,
   "id": "1ae84dd8-f58c-4703-91e1-582bbb332fd0",
   "metadata": {},
   "outputs": [
    {
     "name": "stdout",
     "output_type": "stream",
     "text": [
      "The value of pi is approximately 3.142\n",
      "The value of pi is approximately 3.142\n",
      "The value of pi is approximately 3.142\n",
      "The value of pi is approximately 3.142\n",
      "The value of pi is approximately 3.142\n",
      "The value of pi is approximately 3.142\n"
     ]
    }
   ],
   "source": [
    "# \"%\" string interpolation\n",
    "import math\n",
    "print(\"The value of pi is approximately %5.3f\" % math.pi)\n",
    "print(\"The value of pi is approximately %1.3f\" % math.pi)\n",
    "print(\"The value of pi is approximately %0.3f\" % math.pi)\n",
    "print(\"The value of pi is approximately %2.3f\" % math.pi)\n",
    "print(\"The value of pi is approximately %3.3f\" % math.pi)\n",
    "print(\"The value of pi is approximately %4.3f\" % math.pi)"
   ]
  },
  {
   "cell_type": "markdown",
   "id": "d68fb203-d6d9-4ea2-a5cc-d712ed1a3972",
   "metadata": {},
   "source": [
    "#### Reading and Writing Files"
   ]
  },
  {
   "cell_type": "code",
   "execution_count": 26,
   "id": "83016a0f-cf41-4341-9c67-8134d2262bcc",
   "metadata": {
    "scrolled": true,
    "tags": []
   },
   "outputs": [
    {
     "data": {
      "text/plain": [
       "'\\ufeff1\\n00:01:33,012 --> 00:01:36,597\\nAddress unknown.\\n\\n2\\n00:01:36,649 --> 00:01:42,019\\nHoney child, I ain\\'t\\neven got a trace of ya.\\n\\n3\\n00:01:42,021 --> 00:01:44,856\\nYou know one thing?\\n\\n4\\n00:01:44,858 --> 00:01:50,695\\nI\\'d give anything in the world\\njust to see the face of ya.\\n\\n5\\n00:01:53,533 --> 00:01:58,369\\nI was a fool to stay away from you,\\n\\n6\\n00:01:58,371 --> 00:02:01,088\\nand everything else so long.\\n\\n7\\n00:02:03,710 --> 00:02:06,344\\nI should have been diplomatic\\n\\n8\\n00:02:06,379 --> 00:02:11,549\\nand figured that some day,\\nyou\\'d be solid gone.\\n\\n9\\n00:02:53,259 --> 00:02:55,059\\nYeah, that is some detail.\\n\\n10\\n00:02:55,094 --> 00:02:57,478\\nThat is some Western detail right there...\\n\\n11\\n00:02:57,513 --> 00:02:59,680\\nWestern detail, attention to detail.\\n\\n12\\n00:02:59,732 --> 00:03:02,099\\nLook, he\\'s even got the spurs\\non the back of his boots.\\n\\n13\\n00:03:02,101 --> 00:03:04,936\\n- And they\\'re sharp. They are.\\n- I love it.\\n\\n14\\n00:03:04,938 --> 00:03:06,771\\nWell, the clock is gone\\non this piece, Christine, so...\\n\\n15\\n00:03:06,773 --> 00:03:09,407\\n- Oh, my goodness!\\n- Well, let\\'s just move on.\\n\\n16\\n00:03:09,442 --> 00:03:10,825\\nWell, from time to time,\\n\\n17\\n00:03:10,860 --> 00:03:13,244\\npeople make mistakes... That\\'s okay.\\n\\n18\\n00:03:13,279 --> 00:03:16,247\\nThis is our first renoir of the evening.\\n\\n19\\n00:03:16,282 --> 00:03:19,083\\nThis is a heliogravure,\\nwhich is an etching.\\n\\n20\\n00:03:19,118 --> 00:03:22,086\\nIt was hand-pulled from a\\ncopper plate in Paris in 1919.\\n\\n21\\n00:03:22,121 --> 00:03:24,705\\nWe know this because that\\'s\\nwhat it says on the back,\\n\\n22\\n00:03:24,757 --> 00:03:26,340\\nwhere the certificate\\nof authenticity is located.\\n\\n23\\n00:03:26,376 --> 00:03:28,542\\nJust as lovely as can be.\\n\\n24\\n00:03:28,595 --> 00:03:31,379\\nLook at the soft, delicate shading.\\nVery feminine.\\n\\n25\\n00:03:31,431 --> 00:03:33,798\\nThis is a limited edition.\\n\\n26\\n00:03:33,800 --> 00:03:37,018\\nThis is what you\\'re looking for\\nif you are a Renoir fan.\\n\\n27\\n00:03:37,053 --> 00:03:39,020\\n100... Oh, my goodness.\\nRight at the buzzer.\\n\\n28\\n00:03:39,055 --> 00:03:40,972\\nWhoo! Good.\\n\\n29\\n00:03:40,974 --> 00:03:43,808\\nOne of the few exceptions is\\nthe African pancake tortoise,\\n\\n30\\n00:03:43,810 --> 00:03:45,810\\nwhich has a flat, flexible shell\\n\\n31\\n00:03:45,812 --> 00:03:48,029\\nthat allows it to hide in rock crevasses.\\n\\n32\\n00:03:48,064 --> 00:03:51,065\\nBig swath of light to moderate snow\\n\\n33\\n00:03:51,117 --> 00:03:53,701\\nfrom the broken bow area\\ndown toward Kearney, Hastings,\\n\\n34\\n00:03:53,736 --> 00:03:56,537\\nGrand Island... That is all\\nmoving in our direction.\\n\\n35\\n00:03:56,572 --> 00:03:58,739\\nSo I do think, around 7:00 to 8:00,\\n\\n36\\n00:03:58,791 --> 00:04:02,159\\nthe snow will become pretty\\nsteady here across the region\\n\\n37\\n00:04:02,161 --> 00:04:03,995\\nwith all this moving on top of us,\\n\\n38\\n00:04:03,997 --> 00:04:05,997\\nand that\\'s really gonna\\nknock down visibilities.\\n\\n39\\n00:04:05,999 --> 00:04:07,999\\nAnd, again, snow-covered roads\\n\\n40\\n00:04:08,001 --> 00:04:10,217\\nare gonna be definitely\\nlikely this evening,\\n\\n41\\n00:04:10,253 --> 00:04:12,420\\nmaking it even slippier... Or more...\\n\\n42\\n00:04:12,472 --> 00:04:14,839\\nMore slippery than it is\\nout there at this time.\\n\\n43\\n00:04:14,841 --> 00:04:17,058\\nThere\\'s that winter-weather\\nadvisory in effect\\n\\n44\\n00:04:17,093 --> 00:04:18,893\\nuntil very early tomorrow morning.\\n\\n45\\n00:04:18,928 --> 00:04:20,678\\nWe\\'re gonna talk snowfall totals\\n\\n46\\n00:04:20,680 --> 00:04:23,314\\ncoming up after more news.\\n\\n47\\n00:04:23,349 --> 00:04:25,149\\nWill bitter, cold weather\\n\\n48\\n00:04:25,184 --> 00:04:26,767\\nhelp break up the compaction issues\\n\\n49\\n00:04:26,819 --> 00:04:28,436\\nwe created this fall in our fields?\\n\\n50\\n00:04:28,488 --> 00:04:30,104\\nWell, we\\'ll show you where it will\\n\\n51\\n00:04:30,156 --> 00:04:31,772\\nand where it won\\'t\\nduring today\\'s iron talk.\\n\\n52\\n00:04:31,824 --> 00:04:34,025\\nWhen it comes to compaction...\\n\\n53\\n00:04:34,027 --> 00:04:35,660\\nThere\\'s really two different\\ntypes of compaction.\\n\\n54\\n00:04:35,695 --> 00:04:37,111\\nThere\\'s vertical compaction,\\n\\n55\\n00:04:37,163 --> 00:04:38,746\\nand there\\'s horizontal compaction.\\n\\n56\\n00:04:38,781 --> 00:04:40,281\\nAnd there\\'s a big difference.\\n\\n57\\n00:04:40,333 --> 00:04:42,199\\nWith horizontal compaction,\\n\\n58\\n00:04:42,201 --> 00:04:44,618\\nthere really isn\\'t much hope\\nfor help from a freeze thaw.\\n\\n59\\n00:04:44,671 --> 00:04:48,370\\nAnd the reason why, as that\\nhard, compacted layer swells\\n\\n60\\n00:04:48,970 --> 00:04:51,670\\nAnd then, in the spring, thaws\\nback out and settles back down.\\n\\n61\\n00:04:52,270 --> 00:04:54,270\\nThere\\'s really no breaking up\\nof the compaction.\\n\\n62\\n00:04:54,470 --> 00:04:57,722\\nWith a vertical zone,\\nwhen compaction swells out,\\n\\n63\\n00:04:57,770 --> 00:04:59,386\\nand then it breaks up in the spring,\\n\\n64\\n00:04:59,470 --> 00:05:01,019\\nthen you can actually\\nget a little bit of help.\\n\\n65\\n00:05:01,055 --> 00:05:02,854\\nSo if you have some\\nhorizontal compaction...\\n\\n66\\n00:05:02,890 --> 00:05:04,856\\ncreated by doing some tillage\\n\\n67\\n00:05:04,892 --> 00:05:06,475\\nwhen it was a little too wet, or...\\n\\n68\\n00:05:14,735 --> 00:05:18,704\\nDon\\'t let false allegations\\nbully you into an unfair fight.\\n\\n69\\n00:05:18,739 --> 00:05:22,241\\nHi, I\\'m Saul Goodman, and I\\nwill do the fighting for you.\\n\\n70\\n00:05:22,338 --> 00:05:24,171\\nNo charge is too big for me.\\n\\n71\\n00:05:24,223 --> 00:05:27,591\\nWhen legal forces have you\\ncornered, better call Saul!\\n\\n72\\n00:05:29,429 --> 00:05:31,095\\nI\\'ll get your case dismissed.\\n\\n73\\n00:05:31,097 --> 00:05:34,598\\nI\\'ll give you the defense you deserve. Why?\\n\\n74\\n00:05:34,600 --> 00:05:36,817\\nBecause I\\'m Saul Goodman, attorney-at-law.\\n\\n75\\n00:05:36,853 --> 00:05:39,236\\nI investigate, advocate, persuade,\\n\\n76\\n00:05:39,272 --> 00:05:41,856\\nand, most importantly, win!\\n\\n77\\n00:05:41,908 --> 00:05:44,692\\nBetter call Saul.\\n\\n78\\n00:05:44,744 --> 00:05:46,494\\nDo you feel doomed?\\n\\n79\\n00:05:46,529 --> 00:05:48,913\\nHave opponents of freedom\\nwrongly intimidated you?\\n\\n80\\n00:05:48,948 --> 00:05:50,915\\nMaybe they told you\\nthat you\\'re in serious trouble\\n\\n81\\n00:05:50,950 --> 00:05:52,783\\nand there\\'s nothing you can do about it.\\n\\n82\\n00:05:52,785 --> 00:05:55,786\\nI\\'m Saul Goodman, and I\\'m here\\nto tell you that they\\'re wrong.\\n\\n83\\n00:05:55,788 --> 00:05:58,556\\nIt\\'s never too late\\nfor justice. Better call...\\n\\n84\\n00:06:03,285 --> 00:06:07,885\\nSynced and corrected by oykubuyuk\\nwww.addic7ed.com\\n\\n85\\n00:07:31,444 --> 00:07:34,245\\nThink back... Your brain...\\n\\n86\\n00:07:34,280 --> 00:07:37,081\\nI... It\\'s just not all there yet.\\n\\n87\\n00:07:37,116 --> 00:07:38,699\\nUh, if we were all held responsible\\n\\n88\\n00:07:38,701 --> 00:07:41,285\\nFor what we did when we were 19...\\n\\n89\\n00:07:43,706 --> 00:07:48,008\\nI remember what it was like\\nto be a kid. Think back.\\n\\n90\\n00:07:48,044 --> 00:07:52,012\\nTell \\'em, judge, what would you say?\\n\\n91\\n00:07:52,048 --> 00:07:55,015\\nThese boys... 19.\\n\\n92\\n00:07:55,051 --> 00:07:58,219\\nI can\\'t... I don\\'t...\\nThese three young men...\\n\\n93\\n00:07:58,221 --> 00:07:59,937\\nJust like you.\\n\\n94\\n00:07:59,972 --> 00:08:02,790\\n- Just like you.\\n- Psst!\\n\\n95\\n00:08:17,707 --> 00:08:21,325\\nOh, to be 19 again... You\\nwith me, ladies and gentlemen?\\n\\n96\\n00:08:21,377 --> 00:08:23,544\\nDo you remember 19?\\n\\n97\\n00:08:23,579 --> 00:08:26,547\\nLet me tell you... The juices are flowing.\\n\\n98\\n00:08:26,582 --> 00:08:28,749\\nThe red corpuscles are corpuscling,\\n\\n99\\n00:08:28,751 --> 00:08:31,969\\nthe grass is green, and it\\'s soft,\\n\\n100\\n00:08:32,004 --> 00:08:34,755\\nand summer\\'s gonna last forever.\\n\\n101\\n00:08:34,757 --> 00:08:37,925\\nNow, do you remember?\\n\\n102\\n00:08:37,927 --> 00:08:40,761\\nYeah, you do.\\n\\n103\\n00:08:40,763 --> 00:08:43,981\\nBut if you\\'re being honest...\\nI mean, well, really honest,\\n\\n104\\n00:08:44,016 --> 00:08:45,816\\nyou\\'ll recall that you also had\\n\\n105\\n00:08:45,851 --> 00:08:48,485\\nan underdeveloped 19-year-old brain.\\n\\n106\\n00:08:48,521 --> 00:08:52,906\\nMe, personally, I... It...\\nIf I were held accountable\\n\\n107\\n00:08:52,942 --> 00:08:55,326\\nfor some of the stupid decisions I made\\n\\n108\\n00:08:55,361 --> 00:08:58,746\\nwhen I was 19... Oh, boy, wow.\\n\\n109\\n00:08:58,781 --> 00:09:03,167\\nAnd I bet if we were in church\\nright now, I\\'d get a big \"amen!\"\\n\\n110\\n00:09:03,202 --> 00:09:05,369\\nWhich brings us to these three...\\n\\n111\\n00:09:05,421 --> 00:09:09,373\\nNow, these three knuckleheads...\\n\\n112\\n00:09:09,425 --> 00:09:11,375\\nAnd I\\'m sorry, boys,\\nbut that\\'s what you are...\\n\\n113\\n00:09:11,427 --> 00:09:14,378\\nThey did a dumb thing.\\nWe\\'re not denying that.\\n\\n114\\n00:09:14,430 --> 00:09:17,798\\nHowever, I would like you\\nto remember two salient facts.\\n\\n115\\n00:09:17,800 --> 00:09:21,635\\nFact one... Nobody got hurt, not a soul.\\n\\n116\\n00:09:21,637 --> 00:09:23,604\\nVery important to keep that in mind.\\n\\n117\\n00:09:23,639 --> 00:09:26,807\\nFact two... Now, the prosecution\\n\\n118\\n00:09:26,809 --> 00:09:30,644\\nkeeps bandying this term\\n\"criminal trespass.\"\\n\\n119\\n00:09:30,646 --> 00:09:33,063\\nMr. Spinowzo, the property owner,\\n\\n120\\n00:09:33,115 --> 00:09:36,700\\nadmitted to us that he keeps\\nmost portions of his business\\n\\n121\\n00:09:36,736 --> 00:09:39,536\\nopen to the public both day and night.\\n\\n122\\n00:09:39,572 --> 00:09:42,956\\nSo, trespassing?\\n\\n123\\n00:09:42,992 --> 00:09:45,576\\nThat\\'s a bit of a reach...\\nDon\\'t you think, Dave?\\n\\n124\\n00:09:45,628 --> 00:09:49,213\\nHere\\'s what I know...\\n\\n125\\n00:09:49,248 --> 00:09:53,834\\nThese three young men,\\nnear honors students all,\\n\\n126\\n00:09:53,836 --> 00:09:55,836\\nwere feeling their oats one Saturday night,\\n\\n127\\n00:09:55,838 --> 00:09:59,473\\nand they just... Went a little bananas.\\n\\n128\\n00:09:59,508 --> 00:10:01,675\\nI don\\'t know.\\n\\n129\\n00:10:01,677 --> 00:10:04,094\\nCall me crazy, but I\\ndon\\'t think they deserve\\n\\n130\\n00:10:04,146 --> 00:10:06,513\\nto have their bright futures ruined\\n\\n131\\n00:10:06,515 --> 00:10:08,599\\nby a momentary, minute,\\n\\n132\\n00:10:08,651 --> 00:10:12,436\\nnever-to-be-repeated lapse of judgment.\\n\\n133\\n00:10:12,488 --> 00:10:17,524\\nLadies and gentlemen,\\nyou\\'re bigger than that.\\n\\n134\\n00:11:14,583 --> 00:11:16,583\\n- Kenny, Kenny, are you rolling?\\n- Yeah, yeah. Wait a minute.\\n\\n135\\n00:11:16,585 --> 00:11:18,469\\nYeah, baby, yeah!\\n\\n136\\n00:11:18,504 --> 00:11:20,888\\nBut, dude... but, dude, pipe\\ndown. Chill out, would you?\\n\\n137\\n00:11:20,923 --> 00:11:23,223\\nHey, Mrs. Watson\\'s\\nfourth-period biology class,\\n\\n138\\n00:11:23,259 --> 00:11:25,426\\nthis one\\'s for you.\\nWatch and learn, losers.\\n\\n139\\n00:11:25,428 --> 00:11:27,678\\nOh, yeah!\\n\\n140\\n00:11:27,730 --> 00:11:29,763\\nOhh!\\n\\n141\\n00:11:29,765 --> 00:11:31,849\\n- Oh, God!\\n- Dude! Where did all the blood go?!\\n\\n142\\n00:11:31,901 --> 00:11:34,067\\nDude, he\\'s dead.\\nThey suck it all out, dumbass.\\n\\n143\\n00:11:34,103 --> 00:11:36,069\\nAwesome. Where do they put it?\\n\\n144\\n00:11:36,105 --> 00:11:38,071\\nAll right, g... I\\'m though\\nthe neck bone now, dude.\\n\\n145\\n00:11:38,107 --> 00:11:40,190\\nOh, nice. Kenny, get over here, man.\\n\\n146\\n00:11:40,242 --> 00:11:41,825\\nI\\'m... I\\'m getting it. Get...\\nGet... Get this out of here.\\n\\n147\\n00:11:41,861 --> 00:11:43,410\\nAll right. All right, fine.\\n\\n148\\n00:11:43,446 --> 00:11:44,495\\nHere, let me do it.\\n\\n149\\n00:11:44,530 --> 00:11:45,696\\n- I got it!\\n- All right.\\n\\n150\\n00:11:45,748 --> 00:11:46,830\\nOh, oh-oh! Get that.\\n\\n151\\n00:11:46,866 --> 00:11:48,449\\nAll right. Oh, my God.\\n\\n152\\n00:11:48,451 --> 00:11:50,451\\nOhh! Here, let me do it.\\n\\n153\\n00:11:50,453 --> 00:11:52,186\\nDude, get off!\\n\\n154\\n00:11:52,221 --> 00:11:53,220\\nChill out.\\n\\n155\\n00:11:53,255 --> 00:11:54,688\\nAll right. Wait, wait.\\n\\n156\\n00:11:54,723 --> 00:11:56,757\\nOhh. Ohh. Okay, wait for it. Wait.\\n\\n157\\n00:11:56,792 --> 00:11:58,759\\nOhh!\\n\\n158\\n00:11:58,794 --> 00:12:01,595\\nYeah! Oh!\\n\\n159\\n00:12:01,630 --> 00:12:02,880\\nWhoo! Whoo!\\n\\n160\\n00:12:02,932 --> 00:12:04,181\\nCome on! Yeah, baby, yeah!\\n\\n161\\n00:12:04,216 --> 00:12:06,099\\nThis dude was...\\n\\n162\\n00:12:06,135 --> 00:12:08,552\\nDude, I dare you to stick\\nyour wang in the throat hole.\\n\\n163\\n00:12:08,604 --> 00:12:10,187\\n- I will if you will, loser.\\n- Oh!\\n\\n164\\n00:12:10,222 --> 00:12:12,806\\nAll right, all right!\\n\\n165\\n00:12:12,808 --> 00:12:14,224\\nWhat the hell kind of math is that?\\n\\n166\\n00:12:14,276 --> 00:12:15,859\\n$700 per defense.\\n\\n167\\n00:12:15,895 --> 00:12:18,278\\nNo, no, no. \"Defendant.\" \"...dant.\"\\n\\n168\\n00:12:18,314 --> 00:12:21,482\\nThree defendants, $2,100,\\nwhich, by the way, bargain...\\n\\n169\\n00:12:21,484 --> 00:12:22,900\\nWhat I did for them.\\n\\n170\\n00:12:22,952 --> 00:12:24,902\\nThey going to jail, ain\\'t they?\\n\\n171\\n00:12:24,954 --> 00:12:27,237\\nSo, since when does that matter?!\\n\\n172\\n00:12:27,289 --> 00:12:29,623\\nThey... They had sex with a head!\\n\\n173\\n00:12:29,658 --> 00:12:32,242\\nLook, didn\\'t nobody tell you to\\ntry all three of them together.\\n\\n174\\n00:12:32,294 --> 00:12:34,378\\nOne trial... $700.\\n\\n175\\n00:12:34,413 --> 00:12:35,996\\nYou\\'re gonna miss me.\\nYou are gonna miss me.\\n\\n176\\n00:12:35,998 --> 00:12:37,664\\n\\'Cause it\\'ll be a cold day in hell\\n\\n177\\n00:12:37,666 --> 00:12:39,967\\nbefore I do any more P.D. Work\\nfor this shitty court!\\n\\n178\\n00:12:40,002 --> 00:12:41,468\\nSayonara, baby!\\n\\n179\\n00:12:41,504 --> 00:12:44,338\\nYou have yourself a nice day.\\n\\n180\\n00:13:07,997 --> 00:13:09,947\\nLaw offices of James Mcgill.\\n\\n181\\n00:13:09,999 --> 00:13:11,949\\nHow may I direct your call?\\n\\n182\\n00:13:13,452 --> 00:13:15,619\\nYes, Mrs. Kettleman,\\nso good of you to return.\\n\\n183\\n00:13:15,671 --> 00:13:18,038\\nActually, I don\\'t have\\nMr. Mcgill at the moment,\\n\\n184\\n00:13:18,040 --> 00:13:21,458\\nbut I know he\\'d...\\n\\n185\\n00:13:21,510 --> 00:13:23,043\\nOh, splendid.\\n\\n186\\n00:13:23,045 --> 00:13:25,879\\nUh, unfortunately,\\nour offices are being painted\\n\\n187\\n00:13:25,881 --> 00:13:27,381\\nand the fumes are quite horrid.\\n\\n188\\n00:13:27,383 --> 00:13:30,384\\nUm, uh, could he meet you\\nand your husband at, say,\\n\\n189\\n00:13:30,386 --> 00:13:32,886\\nuh, Loyola\\'s Cafe on Central?\\n\\n190\\n00:13:34,557 --> 00:13:38,392\\n4:00 it shall be. Cheers.\\n\\n191\\n00:14:12,728 --> 00:14:14,511\\n$3.\\n\\n192\\n00:14:14,563 --> 00:14:16,730\\nUh, I\\'m validated. See the stickers?\\n\\n193\\n00:14:16,765 --> 00:14:18,348\\nWell, I see five stickers.\\n\\n194\\n00:14:18,400 --> 00:14:20,567\\nYou\\'re one shy. It\\'s $3.\\n\\n195\\n00:14:20,603 --> 00:14:23,770\\nThey gave me... Look.\\n\\n196\\n00:14:23,772 --> 00:14:26,406\\nI\\'m validated for the entire day, okay?\\n\\n197\\n00:14:26,442 --> 00:14:28,825\\nFive stickers, six stickers...\\nI don\\'t know from stickers\\n\\n198\\n00:14:28,861 --> 00:14:31,445\\nbecause I was in that court back there\\n\\n199\\n00:14:31,447 --> 00:14:33,447\\nsaving people\\'s lives, so...\\n\\n200\\n00:14:33,449 --> 00:14:35,666\\nWell, gee, that\\'s swell.\\n\\n201\\n00:14:35,701 --> 00:14:39,086\\nAnd thank you for restoring\\nmy faith in the judicial system.\\n\\n202\\n00:14:39,121 --> 00:14:42,706\\nNow you either pay the $3,\\nor you go back inside\\n\\n203\\n00:14:42,758 --> 00:14:45,008\\nand you get an additional sticker.\\n\\n204\\n00:14:45,044 --> 00:14:49,630\\nSon of a bitch.\\n\\n205\\n00:14:49,632 --> 00:14:52,132\\nFine. You win. Hooray for you.\\n\\n206\\n00:14:52,134 --> 00:14:54,351\\nBacking up!\\n\\n207\\n00:14:54,386 --> 00:14:56,637\\nI have to back up! I need more stickers!\\n\\n208\\n00:14:56,639 --> 00:14:58,355\\nDon\\'t have enough stickers!\\n\\n209\\n00:14:58,390 --> 00:15:01,808\\nThank you! Thank you... Very nice!\\n\\n210\\n00:15:09,068 --> 00:15:10,867\\nEmployee of the month over here!\\n\\n211\\n00:15:10,903 --> 00:15:12,486\\nYeah!\\n\\n212\\n00:15:12,488 --> 00:15:14,655\\nHooray! Give him a medal!\\n\\n213\\n00:15:14,657 --> 00:15:18,625\\nDon\\'t do anything, guys.\\nJust relax, all right?\\n\\n214\\n00:15:18,661 --> 00:15:23,630\\nWell, I\\'m just fuzzy as to\\nwhy you think he needs a lawyer.\\n\\n215\\n00:15:23,666 --> 00:15:27,834\\nI mean, Craig, the way you run\\nyour office is beyond reproach.\\n\\n216\\n00:15:27,836 --> 00:15:29,469\\nYeah. Yeah. Beyond reproach.\\n\\n217\\n00:15:29,505 --> 00:15:30,887\\nYeah. I\\'m a stickler, you know, for...\\n\\n218\\n00:15:30,923 --> 00:15:32,889\\nHe is. He\\'s a stickler with the money.\\n\\n219\\n00:15:32,925 --> 00:15:34,508\\n- He\\'s definitely a stickler.\\n- Yeah. Yeah.\\n\\n220\\n00:15:34,510 --> 00:15:36,760\\nI mean, he\\'s certainly\\nnot guilty of some...\\n\\n221\\n00:15:36,812 --> 00:15:39,980\\nIs certainly not. He\\'s innocent\\nof any wrongdoing.\\n\\n222\\n00:15:40,015 --> 00:15:41,898\\nThat\\'s abundantly clear to me.\\n\\n223\\n00:15:41,934 --> 00:15:45,519\\nAnd frankly, I don\\'t go looking\\nfor guilty people to represent.\\n\\n224\\n00:15:45,521 --> 00:15:48,105\\nI mean who needs that aggravation, right?\\n\\n225\\n00:15:48,157 --> 00:15:49,523\\nRight.\\n\\n226\\n00:15:49,525 --> 00:15:52,743\\nLook, all I know\\nis what I read in the paper.\\n\\n227\\n00:15:52,778 --> 00:15:56,446\\nAnd typically, when money goes missing\\n\\n228\\n00:15:56,498 --> 00:15:58,081\\nfrom the county treasury...\\nAnd the number here is,\\n\\n229\\n00:15:58,117 --> 00:15:59,282\\nuh, $1.6 million...\\n\\n230\\n00:15:59,334 --> 00:16:00,534\\nWell, that\\'s an accounting...\\n\\n231\\n00:16:00,536 --> 00:16:01,785\\nIt\\'s an accounting discrepancy.\\n\\n232\\n00:16:01,837 --> 00:16:03,036\\nIt\\'s a discrepancy, absolutely.\\n\\n233\\n00:16:03,038 --> 00:16:06,256\\nBut typically, when that happens,\\n\\n234\\n00:16:06,291 --> 00:16:08,458\\nthe police look at the treasurer.\\n\\n235\\n00:16:08,510 --> 00:16:11,845\\nAnd since that person is, uh...\\n\\n236\\n00:16:11,880 --> 00:16:15,098\\nI just think a little\\nproactivity may be in order.\\n\\n237\\n00:16:15,134 --> 00:16:17,267\\nWell...\\n\\n238\\n00:16:17,302 --> 00:16:19,386\\nYou know, I just think I\\'d\\nlook guilty if I hired a lawyer.\\n\\n239\\n00:16:19,388 --> 00:16:21,288\\n- Yeah.\\n- No.\\n\\n240\\n00:16:21,323 --> 00:16:24,891\\nActually, it\\'s getting arrested\\nthat makes people look guilty,\\n\\n241\\n00:16:24,893 --> 00:16:26,393\\neven the innocent ones,\\n\\n242\\n00:16:26,395 --> 00:16:28,228\\nand innocent people get arrested every day.\\n\\n243\\n00:16:28,230 --> 00:16:31,231\\nAnd they find themselves in a little room\\n\\n244\\n00:16:31,233 --> 00:16:34,651\\nwith a detective who acts\\nlike he\\'s their best friend.\\n\\n245\\n00:16:34,703 --> 00:16:37,654\\n\"Talk to me,\" he says. Uh,\\n\"help me clear this thing up.\\n\\n246\\n00:16:37,706 --> 00:16:39,623\\nYou don\\'t need a lawyer... Only\\nguilty people need lawyers.\"\\n\\n247\\n00:16:39,658 --> 00:16:40,907\\nAnd boom!\\n\\n248\\n00:16:40,909 --> 00:16:43,493\\nHey, that\\'s when it all goes south.\\n\\n249\\n00:16:43,545 --> 00:16:45,495\\nThat\\'s when you want someone\\nin your corner,\\n\\n250\\n00:16:45,547 --> 00:16:48,999\\nsomeone who will fight tooth and nail.\\n\\n251\\n00:16:50,419 --> 00:16:52,052\\nLawyers... You know,\\nwe\\'re like health insurance.\\n\\n252\\n00:16:52,087 --> 00:16:53,336\\nYou hope you never need it.\\n\\n253\\n00:16:53,388 --> 00:16:56,173\\nBut, man, oh, man, not having it... No.\\n\\n254\\n00:16:58,065 --> 00:17:00,032\\nHow would we proceed\\n\\n255\\n00:17:00,067 --> 00:17:03,666\\n- if we decided to, uh...\\n- Oh, well, this is a...\\n\\n256\\n00:17:04,266 --> 00:17:06,082\\nLetter of engagement.\\n\\n257\\n00:17:06,166 --> 00:17:07,799\\nIt\\'s very simple, straightforward.\\n\\n258\\n00:17:07,834 --> 00:17:11,252\\nPlease, uh, read it closely,\\nbut if you sign it, um,\\n\\n259\\n00:17:11,254 --> 00:17:14,672\\nI can get started\\non that defense strategy of ours\\n\\n260\\n00:17:14,724 --> 00:17:16,090\\nthis very afternoon.\\n\\n261\\n00:17:31,775 --> 00:17:34,158\\nCraig...\\n\\n262\\n00:17:34,194 --> 00:17:37,578\\nI think maybe we should sleep on it.\\n\\n263\\n00:17:37,614 --> 00:17:41,199\\nUh... Sure.\\n\\n264\\n00:17:41,251 --> 00:17:42,834\\nDon\\'t you think, Mr. Mcgill?\\n\\n265\\n00:17:42,869 --> 00:17:44,252\\nMaybe we should sleep on it.\\n\\n266\\n00:17:44,287 --> 00:17:46,454\\nOh, oh, please, call me \"Jimmy.\"\\n\\n267\\n00:17:46,456 --> 00:17:48,089\\nA... Absolutely.\\n\\n268\\n00:17:48,124 --> 00:17:49,958\\nI mean, there\\'s no rush.\\n\\n269\\n00:17:49,960 --> 00:17:54,028\\nYou... Oh, and, you know, Craig,\\nwe got to pick up the kids...\\n\\n270\\n00:17:54,064 --> 00:17:56,965\\n- Oh. Right. Yeah...\\n- At the...Yeah. Right.\\n\\n271\\n00:17:56,967 --> 00:17:59,717\\nWell, uh, we will be in touch.\\n\\n272\\n00:17:59,769 --> 00:18:03,354\\nOh. Uh, thank you for the\\ncoffee and for the advice.\\n\\n273\\n00:18:03,390 --> 00:18:04,772\\nYou\\'re very, very welcome.\\n\\n274\\n00:18:04,808 --> 00:18:05,773\\nOh!\\n\\n275\\n00:18:05,809 --> 00:18:08,393\\nUm, here. Take this.\\n\\n276\\n00:18:08,445 --> 00:18:11,612\\nIt\\'s, uh... It\\'s got my phone number on it.\\n\\n277\\n00:18:11,648 --> 00:18:14,983\\n- Yeah. Okay.\\n- Got it.\\n\\n278\\n00:18:25,662 --> 00:18:34,085\\nThe number is 9456-0054-4896-0643,\\n\\n279\\n00:18:34,137 --> 00:18:37,088\\nand the expiration is 11/04.\\n\\n280\\n00:18:37,140 --> 00:18:40,308\\nOkay, and the keyword here\\nis \"classy,\" all right?\\n\\n281\\n00:18:40,343 --> 00:18:43,928\\nSuper classy... Use only flowers\\nthat look expensive,\\n\\n282\\n00:18:43,980 --> 00:18:45,763\\nbut, you know, aren\\'t.\\n\\n283\\n00:18:45,815 --> 00:18:50,768\\nUh, and the note should say\\n\"Dear Betsy and Craig,\"\\n\\n284\\n00:18:50,820 --> 00:18:54,405\\nuh, \"best wishes\\nfrom your stickler for justice\",\\n\\n285\\n00:18:54,441 --> 00:18:55,823\\nJames Mcgill.\"\\n\\n286\\n00:18:55,859 --> 00:18:58,659\\nOkay? And \"Mcgill\" is spelled \"m-c...\"\\n\\n287\\n00:18:58,695 --> 00:19:01,863\\nWell, run it again.\\nOh, no, no, no. It\\'s paid up.\\n\\n288\\n00:19:01,865 --> 00:19:02,864\\nRun it again.\\n\\n289\\n00:19:02,866 --> 00:19:03,865\\nOh!\\n\\n290\\n00:19:09,456 --> 00:19:10,872\\nOh...\\n\\n291\\n00:19:14,344 --> 00:19:16,711\\nOh, God! Oh, God! Oh, God!\\n\\n292\\n00:19:16,713 --> 00:19:18,129\\nOh, my God! Ohh.\\n\\n293\\n00:19:18,181 --> 00:19:19,964\\nCal, Cal! Look at me!\\n\\n294\\n00:19:20,016 --> 00:19:21,599\\nBuddy, look at me. Are you okay?\\n\\n295\\n00:19:21,634 --> 00:19:23,634\\nSay something. What did you do?\\n\\n296\\n00:19:23,686 --> 00:19:25,453\\n- I did...\\n- What did you do to my brother?\\n\\n297\\n00:19:25,485 --> 00:19:26,235\\nWhy don\\'t you look where you\\'re going?!\\n\\n298\\n00:19:26,285 --> 00:19:27,951\\nI was making a turn!\\nHe came out of nowhere!\\n\\n299\\n00:19:28,085 --> 00:19:29,168\\nYou freaking hit him, man!\\n\\n300\\n00:19:30,085 --> 00:19:31,134\\nYou ran him over!\\n\\n301\\n00:19:31,770 --> 00:19:33,153\\nYou ran over my brother!\\n\\n302\\n00:19:33,188 --> 00:19:34,488\\nAnd I got the whole thing on video.\\n\\n303\\n00:19:34,523 --> 00:19:36,156\\nIt was an accident. It was an accident.\\n\\n304\\n00:19:36,191 --> 00:19:39,576\\nHe didn\\'t... he didn\\'t mean to.\\nLet me just... Aah! Aah! Oh!\\n\\n305\\n00:19:39,612 --> 00:19:41,028\\nNo, no. That\\'s broke.\\nThat\\'s broke. You broke his leg.\\n\\n306\\n00:19:41,080 --> 00:19:42,446\\nIt\\'s my leg.\\n\\n307\\n00:19:42,448 --> 00:19:44,164\\nWhy are you driving around\\nand not looking?!\\n\\n308\\n00:19:44,199 --> 00:19:47,698\\n- Driving around, breaking people\\'s legs!\\n- It\\'s... It\\'s o... Okay, okay, okay!\\n\\n309\\n00:19:47,699 --> 00:19:49,282\\nWhere\\'s the... Somebody call the cops!\\n\\n310\\n00:19:49,296 --> 00:19:50,745\\nDon\\'t call... don\\'t call the police.\\nDon\\'t call the police.\\n\\n311\\n00:19:50,797 --> 00:19:52,547\\n- Lars.\\n- Ipolic韆!\\n\\n312\\n00:19:52,582 --> 00:19:54,716\\n- Don\\'t, don\\'t, don\\'t. Don\\'t call them.\\n- I\\'ll call them myself.\\n\\n313\\n00:19:54,751 --> 00:19:55,550\\n- I\\'m doing it myself.\\n- Don\\'t call the police.\\n\\n314\\n00:19:55,750 --> 00:19:56,350\\nDon\\'t call the police.\\n\\n315\\n00:19:56,351 --> 00:19:57,250\\n- Don\\'t call the cops?\\n- No.\\n\\n316\\n00:19:57,587 --> 00:19:58,820\\nHow you gonna fix this?\\n\\n317\\n00:19:58,886 --> 00:20:01,723\\nWhat are you gonna do to make things right?\\n\\n318\\n00:20:07,481 --> 00:20:09,647\\nI don\\'t know, fellas.\\n\\n319\\n00:20:10,851 --> 00:20:14,252\\nWhat can I do to make it right?\\n\\n320\\n00:20:20,110 --> 00:20:22,911\\nI don\\'t know.\\n\\n321\\n00:20:22,946 --> 00:20:25,914\\n$500.\\n\\n322\\n00:20:25,949 --> 00:20:28,750\\n500 bucks?\\n\\n323\\n00:20:28,785 --> 00:20:30,118\\nYeah?\\n\\n324\\n00:20:30,170 --> 00:20:31,703\\nMm-hmm.\\n\\n325\\n00:20:33,457 --> 00:20:34,839\\nOw! What the hell, man?!\\n\\n326\\n00:20:34,875 --> 00:20:36,124\\nListen, starlight express,\\n\\n327\\n00:20:36,176 --> 00:20:37,959\\nI\\'m gonna give you a 9.6 for technique,\\n\\n328\\n00:20:38,011 --> 00:20:40,178\\n0.0 for choice of victim.\\n\\n329\\n00:20:40,213 --> 00:20:42,680\\nI\\'m a lawyer.\\n\\n330\\n00:20:42,716 --> 00:20:45,683\\nFurthermore, does...\\nDoes this steaming pile of crap\\n\\n331\\n00:20:45,719 --> 00:20:47,685\\nscream \"payday\" to you, huh?!\\n\\n332\\n00:20:47,721 --> 00:20:50,305\\nThe only way that entire car\\nis worth 500 bucks\\n\\n333\\n00:20:50,357 --> 00:20:53,141\\nis if there\\'s a $300 hooker sitting in it.\\n\\n334\\n00:20:53,193 --> 00:20:57,695\\nNow, let\\'s talk about what\\nyou owe me for the windshield.\\n\\n335\\n00:20:57,731 --> 00:21:01,116\\nYou... what?\\n\\n336\\n00:21:02,369 --> 00:21:04,652\\nI\\'ll take a check!\\n\\n337\\n00:21:13,213 --> 00:21:15,246\\nChao chi c\\'ung, ladies! Chao chi c\\'ung!\\n\\n338\\n00:21:15,248 --> 00:21:17,248\\nChao chi c\\'ung!\\n\\n339\\n00:21:17,250 --> 00:21:18,883\\nChao chi c\\'ung, Mrs. Nguyen.\\n\\n340\\n00:21:18,919 --> 00:21:20,718\\nMy, don\\'t you look...\\n\\n341\\n00:21:20,754 --> 00:21:22,720\\nGot my mail?\\n\\n342\\n00:21:22,756 --> 00:21:26,141\\nYou work for people who have sex\\nwith chopped-off head?\\n\\n343\\n00:21:26,176 --> 00:21:29,761\\n- Was it in the paper?\\n- I heard it from my cousin.\\n\\n344\\n00:21:29,763 --> 00:21:32,397\\nWhy? Why you work for these people?\\n\\n345\\n00:21:32,432 --> 00:21:35,400\\nJust lucky, I guess.\\n\\n346\\n00:21:35,435 --> 00:21:38,436\\nCucumber water for customer only!\\n\\n347\\n00:22:30,290 --> 00:22:35,243\\nYou have... Zero messages.\\n\\n348\\n00:24:11,433 --> 00:24:13,600\\nOh.\\n\\n349\\n00:24:13,602 --> 00:24:17,020\\nBrenda, looking good. Nice do.\\n\\n350\\n00:24:17,072 --> 00:24:19,022\\nUh, where\\'s Lord Vader?\\n\\n351\\n00:24:19,074 --> 00:24:20,857\\nUh, he\\'s not quite ready for you yet.\\n\\n352\\n00:24:20,909 --> 00:24:22,692\\nSouth conference room.\\n\\n353\\n00:24:22,744 --> 00:24:24,110\\nHow about you wait out here?\\n\\n354\\n00:24:24,112 --> 00:24:26,946\\nHow about I don\\'t?\\n\\n355\\n00:24:26,948 --> 00:24:29,782\\n- Oh, Sir Francis.\\n- James.\\n\\n356\\n00:24:29,784 --> 00:24:31,417\\nWell-groomed, as always.\\n\\n357\\n00:24:31,453 --> 00:24:33,620\\n- Okay.\\n- All right.\\n\\n358\\n00:24:39,210 --> 00:24:42,045\\nKeith, Karen, yes.\\n\\n359\\n00:24:47,969 --> 00:24:53,356\\nYou have meddled with the primal\\nforces of nature, Mr. Hamlin,\\n\\n360\\n00:24:53,391 --> 00:24:56,192\\nand I won\\'t have it!\\n\\n361\\n00:24:56,227 --> 00:24:57,610\\nDo you want me to call security?\\n\\n362\\n00:24:57,646 --> 00:24:59,228\\nIt\\'s okay, Brenda, we got it.\\n\\n363\\n00:25:00,649 --> 00:25:03,066\\nHey, Jack. Hey, Nate. Hey, Aaron.\\n\\n364\\n00:25:03,118 --> 00:25:05,034\\nWhat can we do for you, Jimmy?\\n\\n365\\n00:25:05,070 --> 00:25:07,870\\nI\\'m sorry. It\\'s... It\\'s this table.\\n\\n366\\n00:25:07,906 --> 00:25:10,740\\nSomething just comes over me.\\n\\n367\\n00:25:16,498 --> 00:25:19,499\\nYou can tell me what this, uh, $26,000\\n\\n368\\n00:25:19,501 --> 00:25:21,918\\nis supposed to be for.\\n\\n369\\n00:25:21,970 --> 00:25:24,837\\nThat\\'s money for Chuck.\\nIsn\\'t that what you wanted?\\n\\n370\\n00:25:24,839 --> 00:25:28,057\\nA measly 26 grand?\\n\\n371\\n00:25:28,093 --> 00:25:30,059\\nJesus, you\\'re like Peter\\nMinuit with the Indians.\\n\\n372\\n00:25:30,095 --> 00:25:32,061\\nThrow in some beads and shells\\nwhile you\\'re at it.\\n\\n373\\n00:25:32,097 --> 00:25:33,731\\nIt\\'s just a start. There\\'ll be more...\\n\\n374\\n00:25:33,797 --> 00:25:35,380\\nUnless you\\'re gonna just tear them all up.\\n\\n375\\n00:25:35,382 --> 00:25:38,383\\nAnd why was it made out to me...\\nWhy not Chuck?\\n\\n376\\n00:25:38,385 --> 00:25:39,851\\nCan he make his way to the bank?\\n\\n377\\n00:25:43,085 --> 00:25:44,667\\nI just assumed it was best\\n\\n378\\n00:25:44,719 --> 00:25:46,302\\nto have the money go through you.\\n\\n379\\n00:25:46,338 --> 00:25:48,721\\nWe can do it any way you want.\\n\\n380\\n00:25:48,757 --> 00:25:51,141\\nThis isn\\'t going away, Howard.\\n\\n381\\n00:25:51,176 --> 00:25:54,144\\nWhat Chuck did for this firm...\\nAnd damn near single-handedly...\\n\\n382\\n00:25:54,179 --> 00:25:57,347\\n1/3 of this place belongs to him.\\n\\n383\\n00:25:57,399 --> 00:25:59,766\\nYeah. What do you got... 12 chairs here?\\n\\n384\\n00:25:59,768 --> 00:26:02,185\\nFour of these chairs are Chuck\\'s.\\n\\n385\\n00:26:02,237 --> 00:26:04,821\\nYou got five of these light thingumajigs?\\n\\n386\\n00:26:04,856 --> 00:26:09,025\\nUh, mm, 1, 2/3 are Chuck\\'s.\\n\\n387\\n00:26:09,077 --> 00:26:12,028\\nYeah. Six... How many\\ndanishes... Six danishes?\\n\\n388\\n00:26:12,080 --> 00:26:13,863\\nYou can have all the Danish\\nyou want, Jimmy. No, no.\\n\\n389\\n00:26:13,915 --> 00:26:16,282\\nThey\\'re Chuck\\'s danishes,\\nand Chuck isn\\'t greedy,\\n\\n390\\n00:26:16,284 --> 00:26:18,034\\nso h-he\\'ll just take two...\\n\\n391\\n00:26:18,086 --> 00:26:21,871\\nPlus $17 million... In that ballpark.\\n\\n392\\n00:26:21,923 --> 00:26:23,506\\nI mean, we\\'ll know\\n\\n393\\n00:26:23,542 --> 00:26:25,925\\nonce we get the accountants\\npoking around here.\\n\\n394\\n00:26:25,961 --> 00:26:28,761\\nUntil then, no more penny-ante checks\\n\\n395\\n00:26:28,797 --> 00:26:30,763\\ndesigned to make it look like\\nChuck still works here.\\n\\n396\\n00:26:30,799 --> 00:26:32,966\\nHe doesn\\'t. He never will again.\\n\\n397\\n00:26:32,968 --> 00:26:35,969\\nIt\\'s time to do right by him\\nand cash him out.\\n\\n398\\n00:26:35,971 --> 00:26:39,272\\nSo, these are Chuck\\'s own wishes\\nthat you\\'re conveying?\\n\\n399\\n00:26:39,307 --> 00:26:41,774\\n- This is what\\'s best for him.\\n- Mm.\\n\\n400\\n00:26:41,810 --> 00:26:44,060\\nSo he personally told you\\nthat it\\'s his wish\\n\\n401\\n00:26:44,112 --> 00:26:45,612\\nto withdraw from the firm?\\n\\n402\\n00:26:49,484 --> 00:26:50,950\\nSee, that would surprise me.\\n\\n403\\n00:26:50,986 --> 00:26:52,702\\nIt\\'s been nearly a year\\nsince he\\'s set foot in here.\\n\\n404\\n00:26:52,737 --> 00:26:54,579\\nI\\'m just doing what\\'s in his\\n\\n405\\n00:26:54,604 --> 00:26:56,289\\n- best interests.\\n- So am I.\\n\\n406\\n00:26:56,324 --> 00:26:59,909\\nAnd I, for one, believe\\nhe\\'s gonna lick this thing.\\n\\n407\\n00:26:59,961 --> 00:27:02,328\\nUntil then, his office\\nis just as he left it.\\n\\n408\\n00:27:02,330 --> 00:27:03,963\\nHis secretary\\'s still on payroll.\\n\\n409\\n00:27:03,999 --> 00:27:06,382\\nIf Chuck can call this\\nan extended sabbatical,\\n\\n410\\n00:27:06,418 --> 00:27:08,334\\nthen so can we...\\nHe\\'s that important to us.\\n\\n411\\n00:27:08,336 --> 00:27:12,255\\nYou know what?\\nLet\\'s let a jury figure it out.\\n\\n412\\n00:27:12,307 --> 00:27:15,808\\nYeah, they\\'re gonna love you, Howard.\\n\\n413\\n00:27:15,844 --> 00:27:18,094\\nYou\\'re so down-to-earth and relatable.\\n\\n414\\n00:27:19,848 --> 00:27:24,684\\nAnd you... Will... Atone!\\n\\n415\\n00:27:27,105 --> 00:27:29,689\\nIt\\'s Ned Beatty, from \"Network.\"\\n\\n416\\n00:27:29,691 --> 00:27:33,776\\nFor Christ\\'s sakes, guys.\\n\\n417\\n00:27:40,502 --> 00:27:43,453\\nJimmy.\\n\\n418\\n00:27:43,505 --> 00:27:46,456\\nI almost forgot... This month\\'s filings.\\n\\n419\\n00:27:46,508 --> 00:27:48,675\\nYou could save me the postage.\\n\\n420\\n00:27:48,710 --> 00:27:50,510\\nW... Weren\\'t you listening in there?\\n\\n421\\n00:27:50,545 --> 00:27:52,512\\nChuck doesn\\'t work here anymore.\\n\\n422\\n00:27:52,547 --> 00:27:54,681\\nYou think I\\'m gonna help you\\nestablish a paper trail?\\n\\n423\\n00:27:54,716 --> 00:27:55,965\\n- Now, Jimmy...\\n- No, stop trying\\n\\n424\\n00:27:55,990 --> 00:27:57,324\\nto pawn that shit off on him.\\n\\n425\\n00:27:57,352 --> 00:27:59,519\\nJimmy.\\n\\n426\\n00:27:59,554 --> 00:28:02,722\\nYou know, Jimmy, sometimes,\\nin our line of work,\\n\\n427\\n00:28:02,724 --> 00:28:07,560\\nyou can get so... Caught\\nup in the idea of winning\\n\\n428\\n00:28:07,562 --> 00:28:10,029\\nthat you forget to listen to your heart.\\n\\n429\\n00:28:12,400 --> 00:28:15,818\\nGive Chuck my love, would you?\\n\\n430\\n00:28:17,906 --> 00:28:20,290\\nOh, there you are.\\n\\n431\\n00:28:20,325 --> 00:28:23,293\\n- Betsy, Craig.\\n- Ah.\\n\\n432\\n00:28:23,328 --> 00:28:25,295\\nHi. Okay.\\n\\n433\\n00:28:34,923 --> 00:28:36,756\\nYou look lovely today.\\n\\n434\\n00:28:36,758 --> 00:28:38,808\\nOh, thank you so much.\\n\\n435\\n00:29:54,465 --> 00:29:59,301\\n- Couldn\\'t you just...\\n- You know, I can\\'t.\\n\\n436\\n00:31:18,764 --> 00:31:20,347\\nAah! Son of a bitch!\\n\\n437\\n00:31:20,349 --> 00:31:21,765\\nGround yourself?\\n\\n438\\n00:31:22,448 --> 00:31:25,032\\nYes, I grounded myself.\\n\\n439\\n00:32:22,675 --> 00:32:24,842\\nYou got to stop putting bacon on the list,\\n\\n440\\n00:32:24,877 --> 00:32:28,679\\n\\'cause that cooler\\'s\\nlooking like a trichinosis stew.\\n\\n441\\n00:32:28,714 --> 00:32:30,214\\nPerfect timing.\\n\\n442\\n00:32:32,051 --> 00:32:33,684\\nHmm.\\n\\n443\\n00:32:33,719 --> 00:32:35,886\\n\"Professor Brans Vogelson.\"\\n\\n444\\n00:32:35,888 --> 00:32:37,938\\n- Mm-hmm.\\n- \"University of Helsinki\"?\\n\\n445\\n00:32:37,974 --> 00:32:40,357\\nYeah, you\\'re gonna have to\\nget that translated.\\n\\n446\\n00:32:40,393 --> 00:32:43,194\\n- Into Swedish?\\n- Finnish.\\n\\n447\\n00:32:43,229 --> 00:32:45,196\\nFinnish, uh, translating into...\\n\\n448\\n00:32:46,866 --> 00:32:50,568\\nI\\'m sure there\\'s someone at UNM\\nwho can do that.\\n\\n449\\n00:32:50,570 --> 00:32:52,987\\nYou do know I\\'m trying to start\\na legal practice, right?\\n\\n450\\n00:32:53,039 --> 00:32:55,406\\nVogelson\\'s been working on the effects\\n\\n451\\n00:32:55,408 --> 00:32:59,376\\nof electromagnetic fields\\non zebra fish... And, oh!\\n\\n452\\n00:32:59,412 --> 00:33:01,579\\nFinancial Times.\\n\\n453\\n00:33:01,581 --> 00:33:03,002\\nYeah, I knew you\\n\\n454\\n00:33:03,027 --> 00:33:04,799\\nmissed it, so I figured, \"what the heck?\"\\n\\n455\\n00:33:04,834 --> 00:33:07,001\\nThank you. I know it\\'s expensive.\\n\\n456\\n00:33:07,053 --> 00:33:08,836\\nHere.\\n\\n457\\n00:33:08,888 --> 00:33:10,387\\nThat\\'s not... It\\'s all right.\\n\\n458\\n00:33:10,423 --> 00:33:12,223\\n- I don\\'t expect you to go out of pocket.\\n- I...\\n\\n459\\n00:33:12,258 --> 00:33:14,425\\nGo ahead... Reimburse yourself.\\n\\n460\\n00:33:17,430 --> 00:33:19,647\\nThanks.\\n\\n461\\n00:33:19,682 --> 00:33:22,850\\nHey, Chuck, um, can you not\\nread that for a second?\\n\\n462\\n00:33:22,902 --> 00:33:24,518\\nCan we talk?\\n\\n463\\n00:33:27,273 --> 00:33:28,906\\nAre you all right?\\n\\n464\\n00:33:28,941 --> 00:33:30,524\\nYou look peaked.\\n\\n465\\n00:33:30,576 --> 00:33:32,243\\nI\\'m fine. Please, just sit.\\n\\n466\\n00:33:32,278 --> 00:33:36,247\\nYou\\'re not in trouble.\\n\\n467\\n00:33:36,282 --> 00:33:41,669\\nUm... You got to cash out.\\n\\n468\\n00:33:41,704 --> 00:33:43,087\\nYou got to.\\n\\n469\\n00:33:43,122 --> 00:33:46,090\\nAgain? Really? There\\'s no other way.\\n\\n470\\n00:33:46,125 --> 00:33:49,510\\nI know that you don\\'t want to\\nhear it, but you\\'ve got to.\\n\\n471\\n00:33:49,545 --> 00:33:52,129\\nYou know I\\'m going to beat this.\\n\\n472\\n00:33:52,131 --> 00:33:53,931\\nYou know I\\'m going to get better.\\n\\n473\\n00:33:53,966 --> 00:33:56,767\\n- Yeah, sure.\\n- Well, then,\\n\\n474\\n00:33:56,802 --> 00:33:58,769\\nthere\\'s nothing more to talk about.\\n\\n475\\n00:33:58,804 --> 00:34:00,221\\nI will beat this.\\n\\n476\\n00:34:00,273 --> 00:34:05,059\\nErgo, a falsis principiis proficisci.\\n\\n477\\n00:34:05,111 --> 00:34:06,944\\n- Meaning?\\n- That\\'s not...\\n\\n478\\n00:34:06,979 --> 00:34:07,961\\n- Meaning?\\n- That\\'s the one about\\n\\n479\\n00:34:07,986 --> 00:34:09,146\\nfalse principles, but it\\'s not...\\n\\n480\\n00:34:09,148 --> 00:34:11,148\\nYou proceed from false principles.\\n\\n481\\n00:34:11,150 --> 00:34:12,983\\nYour argument is built on quicksand.\\n\\n482\\n00:34:12,985 --> 00:34:15,870\\n- Therefore, it collapses.\\n- Yeah, yeah. You\\'re not listening.\\n\\n483\\n00:34:15,905 --> 00:34:17,872\\nFine.\\n\\n484\\n00:34:17,907 --> 00:34:20,491\\nLet\\'s take this to its logical conclusion.\\n\\n485\\n00:34:22,161 --> 00:34:23,961\\nIn order to pay out my share,\\n\\n486\\n00:34:23,996 --> 00:34:26,914\\nsuppose my partners are forced\\nto liquidate the firm.\\n\\n487\\n00:34:26,966 --> 00:34:28,883\\n- Then what?\\n- That\\'s their problem.\\n\\n488\\n00:34:28,918 --> 00:34:30,751\\nMy clients are out in the cold.\\n\\n489\\n00:34:30,803 --> 00:34:32,920\\nMy cases are scattered to the winds.\\n\\n490\\n00:34:32,972 --> 00:34:35,556\\n126 people lose their jobs.\\n\\n491\\n00:34:35,591 --> 00:34:39,260\\nWhat happens to your cronies\\nin the mailroom, the assistants,\\n\\n492\\n00:34:39,312 --> 00:34:40,678\\nthe paralegals, the janitorial staff?\\n\\n493\\n00:34:40,680 --> 00:34:42,346\\nAll of them, out on the street.\\n\\n494\\n00:34:42,348 --> 00:34:44,481\\nYour friend Kim... a promising\\ncareer... over and done with.\\n\\n495\\n00:34:44,517 --> 00:34:46,483\\nHamlin owes you everything.\\n\\n496\\n00:34:46,519 --> 00:34:48,185\\nYou built that place single-handedly\\n\\n497\\n00:34:48,187 --> 00:34:50,821\\nwhile he was out at four hills\\nworking on his bunker shot.\\n\\n498\\n00:34:50,856 --> 00:34:53,440\\nLet\\'s not exaggerate. I helped. You helped.\\n\\n499\\n00:34:54,860 --> 00:34:56,610\\nAll the more reason not to tear it down\\n\\n500\\n00:34:56,662 --> 00:34:58,078\\njust for a little bit of cash.\\n\\n501\\n00:34:58,114 --> 00:35:01,699\\nLook... Chuck, I\\'m going under, okay?\\n\\n502\\n00:35:01,701 --> 00:35:05,336\\nFor the third time with these\\nbull-crap contract counsel...\\n\\n503\\n00:35:05,371 --> 00:35:07,388\\n- \"Bull crap\"?\\n- Bull-crap, pissant P.D.\\n\\n504\\n00:35:07,413 --> 00:35:08,980\\nCases at 700 bucks a shot.\\n\\n505\\n00:35:09,008 --> 00:35:12,593\\nPublic-defender work is some of the\\nbest experience there is.\\n\\n506\\n00:35:12,628 --> 00:35:16,013\\nI just had a case, Chuck,\\nwith three clients...\\n\\n507\\n00:35:16,048 --> 00:35:18,432\\nUh, arraignments, voir dire, jury trial...\\n\\n508\\n00:35:18,467 --> 00:35:19,850\\nThe whole nine yards.\\n\\n509\\n00:35:19,885 --> 00:35:22,469\\nYou know what I took home? 700 bucks.\\n\\n510\\n00:35:22,521 --> 00:35:25,472\\nYeah, I might as well head down\\nto skid row and sell plasma.\\n\\n511\\n00:35:25,524 --> 00:35:27,808\\nYou\\'re representing people\\nwho have nowhere else to turn.\\n\\n512\\n00:35:27,860 --> 00:35:29,643\\nThe money is beside the point.\\n\\n513\\n00:35:29,695 --> 00:35:32,646\\nMoney is not beside the point...\\nMoney is the point.\\n\\n514\\n00:35:32,698 --> 00:35:35,065\\nI keep telling you... Have patience.\\n\\n515\\n00:35:35,067 --> 00:35:36,317\\nThere are no shortcuts.\\n\\n516\\n00:35:36,369 --> 00:35:37,735\\nDo good work, and the clients will come.\\n\\n517\\n00:35:37,737 --> 00:35:39,737\\nThe clients will come. Yeah, I know.\\n\\n518\\n00:35:39,739 --> 00:35:41,739\\nOkay.\\n\\n519\\n00:35:41,741 --> 00:35:47,211\\nHand to God, I wasn\\'t gonna\\nsay this, but you are broke.\\n\\n520\\n00:35:47,246 --> 00:35:49,830\\nI can\\'t carry both of us.\\n\\n521\\n00:35:49,882 --> 00:35:53,834\\nI\\'ve been trying like hell, but I can\\'t.\\n\\n522\\n00:35:53,886 --> 00:35:56,837\\nWell, you\\'re saying what?\\n\\n523\\n00:35:56,889 --> 00:35:58,472\\nYou think you have to provide for me?\\n\\n524\\n00:35:58,507 --> 00:36:00,674\\nI never asked you that.\\nYou didn\\'t have to ask, okay?\\n\\n525\\n00:36:00,726 --> 00:36:03,093\\nI\\'ve been doing my damnedest,\\n\\n526\\n00:36:03,095 --> 00:36:04,928\\nbut the day of reckoning is here.\\n\\n527\\n00:36:04,930 --> 00:36:07,348\\nSoon, Chuck, you\\'re gonna be\\nout on the street\\n\\n528\\n00:36:07,400 --> 00:36:11,769\\nwith all the electromagnetism in\\nthe world raining down on you.\\n\\n529\\n00:36:11,771 --> 00:36:13,771\\nNow, please, please, picture that,\\n\\n530\\n00:36:13,773 --> 00:36:16,106\\nthen tell me\\nthat money is beside the point.\\n\\n531\\n00:36:16,108 --> 00:36:18,075\\nThis is what has you all worked up?\\n\\n532\\n00:36:18,110 --> 00:36:19,493\\nYeah!\\n\\n533\\n00:36:19,528 --> 00:36:23,113\\nJimmy... There\\'s nothing to worry about.\\n\\n534\\n00:36:23,115 --> 00:36:26,116\\n- Here.\\n- What is this?\\n\\n535\\n00:36:26,118 --> 00:36:28,335\\nA stipend...\\nThere\\'s gonna be one every week.\\n\\n536\\n00:36:28,371 --> 00:36:31,538\\n$857 from Hamlin, Hamlin, Mcgill?\\n\\n537\\n00:36:31,590 --> 00:36:33,874\\nI\\'m gonna pay them back... Every penny.\\n\\n538\\n00:36:33,926 --> 00:36:36,510\\nI didn\\'t want to take anything,\\nbut Howard was very insistent.\\n\\n539\\n00:36:36,545 --> 00:36:38,679\\nAnd I\\'m gonna pay you back, too.\\n\\n540\\n00:36:38,714 --> 00:36:40,681\\nWait, Hamlin was here?\\n\\n541\\n00:36:40,716 --> 00:36:43,100\\nIt\\'s not like I\\'m a recluse.\\n\\n542\\n00:36:43,135 --> 00:36:45,102\\nWhat? He put his cellphone in the mailbox?\\n\\n543\\n00:36:45,137 --> 00:36:46,520\\nHe understands the situation.\\n\\n544\\n00:36:46,555 --> 00:36:48,522\\n- He grounded himself?\\n- Of course.\\n\\n545\\n00:36:48,557 --> 00:36:51,141\\nAnd the two of you agreed\\nthat since, as everybody knows,\\n\\n546\\n00:36:51,143 --> 00:36:52,976\\nyou\\'re going back to work any day now,\\n\\n547\\n00:36:52,978 --> 00:36:55,479\\nthat the firm should help you\\nmake ends meet.\\n\\n548\\n00:36:55,481 --> 00:36:57,781\\nThat\\'s correct, minus the sarcasm.\\n\\n549\\n00:36:57,817 --> 00:36:59,450\\nHamlin\\'s making you a chump!\\n\\n550\\n00:36:59,485 --> 00:37:01,869\\nI\\'m going to get better!\\n\\n551\\n00:37:01,904 --> 00:37:03,203\\nI\\'m gonna go back to work,\\n\\n552\\n00:37:03,239 --> 00:37:06,907\\nand I\\'m picking up where I left off!\\n\\n553\\n00:37:28,681 --> 00:37:31,515\\nSorry.\\n\\n554\\n00:37:31,517 --> 00:37:34,351\\nSorry, Chuck.\\n\\n555\\n00:37:38,991 --> 00:37:42,576\\nI understand that you\\'re\\ntrying to look out for me,\\n\\n556\\n00:37:42,611 --> 00:37:45,079\\nbut you\\'re missing the bigger picture.\\n\\n557\\n00:37:45,114 --> 00:37:47,698\\nI got it.\\n\\n558\\n00:37:47,700 --> 00:37:50,501\\nSpeaking of which...\\n\\n559\\n00:37:50,536 --> 00:37:54,338\\nHoward brought this.\\n\\n560\\n00:37:54,373 --> 00:37:56,256\\nHe\\'s concerned.\\n\\n561\\n00:37:56,292 --> 00:37:57,591\\nWhat?\\n\\n562\\n00:37:57,626 --> 00:37:59,460\\nYou have to admit...\\nIt could be confusing...\\n\\n563\\n00:37:59,512 --> 00:38:01,095\\nHamlin, Hamlin, Mcgill?\\n\\n564\\n00:38:01,130 --> 00:38:03,297\\n- James M. Mcgill?\\n- That\\'s my name.\\n\\n565\\n00:38:03,349 --> 00:38:06,383\\n- I was born with it. I...\\n- Still...\\n\\n566\\n00:38:09,188 --> 00:38:12,973\\nHow about Vanguard law?\\n\\n567\\n00:38:13,025 --> 00:38:15,776\\nOr gi... Gibraltar legal... Wait, wait.\\n\\n568\\n00:38:15,811 --> 00:38:19,980\\nSo I\\'m not supposed to use\\nmy name o... On Hamlin\\'s say-so?\\n\\n569\\n00:38:20,032 --> 00:38:22,399\\nWhat\\'s he gonna do... Sue me?\\n\\n570\\n00:38:22,401 --> 00:38:25,068\\nNobody wants to create\\nan adversarial situation.\\n\\n571\\n00:38:25,070 --> 00:38:27,287\\nI\\'m sure Howard would gladly pay the cost\\n\\n572\\n00:38:27,323 --> 00:38:29,289\\nof new matchbooks and so on.\\n\\n573\\n00:38:30,709 --> 00:38:34,661\\nIt\\'s simply a matter\\nof professional courtesy.\\n\\n574\\n00:38:37,550 --> 00:38:40,167\\nChuck, whose side are you on?\\n\\n575\\n00:38:40,219 --> 00:38:44,171\\nThere are no sides.\\n\\n576\\n00:38:44,223 --> 00:38:48,809\\nBut, Jimmy...\\n\\n577\\n00:38:48,844 --> 00:38:51,929\\nWouldn\\'t you rather\\nbuild your own identity?\\n\\n578\\n00:38:51,931 --> 00:38:55,182\\nWhy ride on someone else\\'s coattails?\\n\\n579\\n00:39:08,113 --> 00:39:10,697\\nYou want to dance, Howard?\\n\\n580\\n00:39:10,749 --> 00:39:15,202\\nLet\\'s dance.\\n\\n581\\n00:39:25,810 --> 00:39:27,810\\nGo!\\n\\n582\\n00:39:30,120 --> 00:39:32,287\\nNo, you can get closer\\nthan that, you bitch.\\n\\n583\\n00:39:32,320 --> 00:39:34,120\\nCome on.\\n\\n584\\n00:39:34,155 --> 00:39:36,038\\nAnd here it comes.\\n\\n585\\n00:39:36,074 --> 00:39:39,875\\nThere you go. Better.\\n\\n586\\n00:39:39,911 --> 00:39:42,495\\nHow was that?\\n\\n587\\n00:39:42,497 --> 00:39:44,130\\nIt\\'s right on here. Take a look.\\n\\n588\\n00:39:44,165 --> 00:39:45,965\\nStill, tighter is everything.\\n\\n589\\n00:39:46,000 --> 00:39:47,967\\nTighter? What? T... Tighter what?\\n\\n590\\n00:39:48,002 --> 00:39:50,169\\nI don\\'t know. Just stand... Tighter.\\n\\n591\\n00:39:50,171 --> 00:39:52,471\\nYou know what I mean? I\\ndon\\'t know what you mean.\\n\\n592\\n00:39:52,507 --> 00:39:55,091\\nThat sucked. We can call that\\na stylistic choice, I guess,\\n\\n593\\n00:39:55,143 --> 00:39:56,726\\n- if you want to...\\n- Hey, fellas.\\n\\n594\\n00:39:56,761 --> 00:39:57,977\\nWe got business.\\n\\n595\\n00:39:59,597 --> 00:40:01,263\\nHow did you find us?\\n\\n596\\n00:40:01,316 --> 00:40:05,418\\nI know... Eerie, right.\\n\\n597\\n00:40:05,453 --> 00:40:09,405\\nWhoa, whoa, whoa. Come on.\\nGive me 30 seconds.\\n\\n598\\n00:40:09,440 --> 00:40:13,943\\nCould be the most profitable\\n30 seconds of your lives.\\n\\n599\\n00:40:20,835 --> 00:40:26,205\\nLet me tell you about a young guy...\\n\\n600\\n00:40:26,207 --> 00:40:29,425\\nActually, he\\'s about your age.\\n\\n601\\n00:40:29,460 --> 00:40:32,044\\nHe lived a long way from here\\n\\n602\\n00:40:32,046 --> 00:40:36,682\\nin a town called Cicero, Illinois.\\n\\n603\\n00:40:36,718 --> 00:40:40,302\\nAnd in Cicero, he was the man.\\n\\n604\\n00:40:40,355 --> 00:40:42,304\\nI mean, when he strolled down the street,\\n\\n605\\n00:40:42,357 --> 00:40:45,941\\nall the corner boys\\nwould give him the high five.\\n\\n606\\n00:40:45,977 --> 00:40:49,562\\nAll the finest babes would smile at him\\n\\n607\\n00:40:49,564 --> 00:40:53,399\\nand hope that he would smile back.\\n\\n608\\n00:40:53,401 --> 00:40:57,403\\nThey called him \"slippin\\' Jimmy,\"\\n\\n609\\n00:40:57,405 --> 00:41:02,241\\nand everybody wanted to be his friend.\\n\\n610\\n00:41:02,243 --> 00:41:04,460\\n\"Slippin\\' Jimmy\"?\\n\\n611\\n00:41:04,495 --> 00:41:07,463\\nWhat the hell kind of name is that?\\n\\n612\\n00:41:07,498 --> 00:41:08,998\\nWell, I\\'ll tell you, now...\\n\\n613\\n00:41:09,050 --> 00:41:11,834\\nWinters in Cicero are murder.\\n\\n614\\n00:41:11,886 --> 00:41:14,470\\nYou guys growing up\\nout here in the golden west...\\n\\n615\\n00:41:14,505 --> 00:41:16,305\\nY... You don\\'t know, okay?\\n\\n616\\n00:41:16,340 --> 00:41:20,159\\nI\\'m talking cold that\\'ll freeze\\nthe snot right in your nose.\\n\\n617\\n00:41:20,194 --> 00:41:21,977\\nI\\'m talking wind\\nthat\\'ll cut through your jacket\\n\\n618\\n00:41:22,013 --> 00:41:24,180\\nand carve you up like a Ginsu knife.\\n\\n619\\n00:41:24,232 --> 00:41:27,600\\nIn fact, most folks in Cicero\\nwere scared of winter,\\n\\n620\\n00:41:27,602 --> 00:41:30,436\\nbut not Jimmy.\\n\\n621\\n00:41:30,438 --> 00:41:32,354\\nJimmy waited around all summer,\\n\\n622\\n00:41:32,407 --> 00:41:34,774\\nand when September finally rolled around\\n\\n623\\n00:41:34,776 --> 00:41:36,776\\nand he\\'d feel that first cold wind\\n\\n624\\n00:41:36,778 --> 00:41:41,347\\ncome sweeping off lake Michigan,\\nhe knew it was coming.\\n\\n625\\n00:41:41,382 --> 00:41:44,166\\nWas it Christmas? Was it Kwanzaa?\\n\\n626\\n00:41:44,202 --> 00:41:48,587\\nBetter... It was slip \\'n fall season.\\n\\n627\\n00:41:48,623 --> 00:41:50,423\\nSoon as it was cold enough,\\n\\n628\\n00:41:50,458 --> 00:41:53,592\\nhe\\'d find a nice, smooth patch of ice.\\n\\n629\\n00:41:53,628 --> 00:41:56,429\\nState street was good.\\nMichigan Avenue was better.\\n\\n630\\n00:41:56,464 --> 00:41:59,265\\nHe\\'d pick his spot,\\nwait for it to get busy,\\n\\n631\\n00:41:59,300 --> 00:42:02,184\\nthen he\\'d walk out on the ice, and... Boom!\\n\\n632\\n00:42:02,220 --> 00:42:04,220\\nHe would biff it so hard,\\n\\n633\\n00:42:04,272 --> 00:42:07,440\\npeople would come running\\nfrom five blocks away.\\n\\n634\\n00:42:07,475 --> 00:42:09,809\\n- Yeah, but did he collect?\\n- \"Did he collect?\"\\n\\n635\\n00:42:09,811 --> 00:42:12,027\\nSlippin\\' Jimmy had it dialed in, all right?\\n\\n636\\n00:42:12,063 --> 00:42:15,448\\nOne good fall... He\\'d clear 6, 8 grand.\\n\\n637\\n00:42:15,483 --> 00:42:16,866\\nThat\\'d keep him in old Milwaukee\\n\\n638\\n00:42:16,901 --> 00:42:18,984\\nand Maui Wowie right through labor day.\\n\\n639\\n00:42:18,986 --> 00:42:20,619\\n8 grand?\\n\\n640\\n00:42:20,655 --> 00:42:22,154\\n8 grand.\\n\\n641\\n00:42:22,156 --> 00:42:24,790\\nNow, see, I look at you guys,\\nI see potential.\\n\\n642\\n00:42:24,826 --> 00:42:26,208\\nThe skateboard\\'s a nice wrinkle...\\n\\n643\\n00:42:26,244 --> 00:42:28,043\\nThat makes it a year-round gig.\\n\\n644\\n00:42:28,079 --> 00:42:32,298\\nAnd clearly, you know\\nhow to take a header, right?\\n\\n645\\n00:42:32,333 --> 00:42:34,500\\nBut I got to ask you... Your best day ever,\\n\\n646\\n00:42:34,502 --> 00:42:36,502\\nhow much did you clear?\\n\\n647\\n00:42:39,340 --> 00:42:41,307\\n$630. $630.\\n\\n648\\n00:42:41,342 --> 00:42:44,727\\n630 bucks.\\n\\n649\\n00:42:44,762 --> 00:42:46,428\\nWas that for one fall?\\n\\n650\\n00:42:46,481 --> 00:42:49,648\\nTwo. Two falls in one day.\\n\\n651\\n00:42:49,684 --> 00:42:51,650\\nEven at your age, that\\'s got to hurt.\\n\\n652\\n00:42:51,686 --> 00:42:53,486\\nTrue that.\\n\\n653\\n00:42:53,521 --> 00:42:56,689\\nAll right, well, I got a job for you.\\n\\n654\\n00:42:56,691 --> 00:42:58,757\\nHow\\'s 2 grand sound?\\n\\n655\\n00:42:58,793 --> 00:43:00,960\\n2 grand for one hit?\\n\\n656\\n00:43:00,995 --> 00:43:03,162\\nOne hit.\\n\\n657\\n00:43:03,197 --> 00:43:06,265\\nPlus, you get to learn from the best.\\n\\n658\\n00:43:06,300 --> 00:43:08,667\\nNice boat.\\n\\n659\\n00:43:08,703 --> 00:43:11,871\\nYeah, discreet, like\\na stripper pole in a mosque.\\n\\n660\\n00:43:11,873 --> 00:43:14,290\\nYeah, forget the boat. Look at the car.\\n\\n661\\n00:43:14,342 --> 00:43:15,875\\nYou know what that is?\\n\\n662\\n00:43:15,877 --> 00:43:17,376\\nI don\\'t know. A station wagon?\\n\\n663\\n00:43:17,378 --> 00:43:21,113\\nIt\\'s a Mercury, a 1988 Mercury sable wagon.\\n\\n664\\n00:43:21,149 --> 00:43:23,716\\nRemember it. Burn it\\ninto your brains. You got it?\\n\\n665\\n00:43:23,718 --> 00:43:26,218\\nIt\\'s a Mercury sable wagon, sure.\\n\\n666\\n00:43:26,220 --> 00:43:28,521\\nClose your eyes. What color is it?\\n\\n667\\n00:43:28,556 --> 00:43:30,139\\n- Brown.\\n- Brown.\\n\\n668\\n00:43:30,191 --> 00:43:33,359\\nNo, it\\'s medium sandalwood.\\nKeep your eyes closed.\\n\\n669\\n00:43:33,394 --> 00:43:35,194\\nHow does the license plate start?\\n\\n670\\n00:43:35,229 --> 00:43:36,362\\n- 4.\\n- 4.\\n\\n671\\n00:43:36,397 --> 00:43:38,814\\nGive those gentlemen a gold star.\\n\\n672\\n00:43:38,866 --> 00:43:41,033\\nBetsy Kettleman\\'s her name.\\n\\n673\\n00:43:41,068 --> 00:43:44,036\\nEvery weekday between 2:25 and 2:50,\\n\\n674\\n00:43:44,071 --> 00:43:46,238\\nshe comes through here\\non her way to pick up her kids\\n\\n675\\n00:43:46,240 --> 00:43:48,240\\nat Kit Carson Elementary.\\n\\n676\\n00:43:48,242 --> 00:43:50,075\\nNow, you need a place\\nwhere she\\'s gonna slow down...\\n\\n677\\n00:43:50,077 --> 00:43:51,627\\n- Am I right?\\n- Yeah.\\n\\n678\\n00:43:51,662 --> 00:43:54,480\\nAll right. Well, there you go.\\nShe slows down.\\n\\n679\\n00:43:54,515 --> 00:43:58,467\\nShe hangs a right.\\nYou come shooting out of there.\\n\\n680\\n00:43:58,502 --> 00:44:01,303\\nYou do what you did to me.\\nYou go ass over teakettle.\\n\\n681\\n00:44:01,339 --> 00:44:02,922\\nYou make it a blue-ribbon special.\\n\\n682\\n00:44:02,924 --> 00:44:04,306\\nWhen she gets out of the car,\\n\\n683\\n00:44:04,342 --> 00:44:06,508\\nyou\\'re sufferin\\' St. Sebastian, right?\\n\\n684\\n00:44:06,561 --> 00:44:08,928\\nYou\\'re the hammer, okay?\\nYou get in her face.\\n\\n685\\n00:44:08,930 --> 00:44:10,563\\nYou scare the bejesus out of her.\\n\\n686\\n00:44:10,598 --> 00:44:13,399\\nGive me your phone.\\n\\n687\\n00:44:13,434 --> 00:44:15,017\\nIt\\'s kind of busy here, don\\'t you think?\\n\\n688\\n00:44:15,069 --> 00:44:17,503\\nWell, witnesses are good.\\n\\n689\\n00:44:17,538 --> 00:44:19,104\\nWitnesses are pressure, all right?\\n\\n690\\n00:44:19,106 --> 00:44:21,941\\nNow, once you\\'ve got her good and rattled,\\n\\n691\\n00:44:21,943 --> 00:44:23,576\\nthen you call for an ambulance,\\n\\n692\\n00:44:23,611 --> 00:44:25,527\\nbut really, you\\'re calling for me.\\n\\n693\\n00:44:25,580 --> 00:44:26,745\\nI\\'m number one on your speed dial,\\n\\n694\\n00:44:26,781 --> 00:44:28,581\\nright next to your weed dealer.\\n\\n695\\n00:44:28,616 --> 00:44:30,416\\nYou call me. I hotfoot it over here.\\n\\n696\\n00:44:30,451 --> 00:44:32,618\\nI just \"happen\" to be driving by.\\n\\n697\\n00:44:32,620 --> 00:44:34,453\\nI stop to see what the trouble is,\\n\\n698\\n00:44:34,455 --> 00:44:37,289\\nand this is the most important\\npart... You don\\'t know me.\\n\\n699\\n00:44:37,291 --> 00:44:39,124\\nWe\\'ve never met. You got it?\\n\\n700\\n00:44:39,126 --> 00:44:40,960\\n- Sure.\\n- Okay.\\n\\n701\\n00:44:40,962 --> 00:44:43,963\\nNow, I\\'m Mrs. K\\'s white knight.\\nWe go mano a mano.\\n\\n702\\n00:44:43,965 --> 00:44:47,800\\nYou light into me, okay?\\nGet nasty. And no touching.\\n\\n703\\n00:44:47,802 --> 00:44:49,134\\nLeave the hair alone.\\n\\n704\\n00:44:49,136 --> 00:44:51,770\\nBut otherwise, you know, open season.\\n\\n705\\n00:44:51,806 --> 00:44:54,306\\nYell. Stomp. Call me a douche bag.\\n\\n706\\n00:44:54,308 --> 00:44:55,608\\nI\\'m gonna play it cool,\\n\\n707\\n00:44:55,643 --> 00:44:57,359\\ngive you back some of the razzmatazz.\\n\\n708\\n00:44:57,395 --> 00:44:58,978\\nAnd once she\\'s seen the fireworks,\\n\\n709\\n00:44:58,980 --> 00:45:00,396\\nyou fold like a lawn chair...\\n\\n710\\n00:45:00,448 --> 00:45:02,031\\nHappy ending.\\n\\n711\\n00:45:02,066 --> 00:45:04,450\\nWhen do we get our money?\\n\\n712\\n00:45:04,485 --> 00:45:05,985\\nAfter.\\n\\n713\\n00:45:05,987 --> 00:45:08,404\\nAfter. After.\\n\\n714\\n00:45:08,456 --> 00:45:09,872\\nYou get paid when I get paid.\\n\\n715\\n00:45:09,907 --> 00:45:12,074\\nI\\'m the rising tide\\nthat raises all dinghies.\\n\\n716\\n00:45:12,126 --> 00:45:13,909\\nNow, pop quiz... What\\'s the car?\\n\\n717\\n00:45:13,961 --> 00:45:16,545\\n- Mercury sable wagon.\\n- Baby-poop brown.\\n\\n718\\n00:45:16,580 --> 00:45:18,631\\n- Okay. Do you know me?\\n- No. No.\\n\\n719\\n00:45:18,666 --> 00:45:22,251\\nDamn straight. Go with God.\\n\\n720\\n00:45:26,765 --> 00:45:31,067\\nWell, I\\'m just glad\\nI happened to be passing by.\\n\\n721\\n00:45:31,165 --> 00:45:34,333\\nHappy to be of help, Betsy.\\nMay I call you \"Betsy\"?\\n\\n722\\n00:45:34,335 --> 00:45:36,752\\nPlease, call me \"James.\"\\n\\n723\\n00:45:36,804 --> 00:45:39,972\\nHmm. Oh, the kid will be fine. Don\\'t worry.\\n\\n724\\n00:45:40,007 --> 00:45:41,390\\nHe just got his bell rung a little.\\n\\n725\\n00:45:41,425 --> 00:45:45,177\\nI\\'ll... I\\'ll handle that. Oh, no.\\n\\n726\\n00:45:45,179 --> 00:45:46,762\\nOh, no, no.\\n\\n727\\n00:45:46,814 --> 00:45:49,348\\nI wouldn\\'t think of, uh,\\ntaking your money for this.\\n\\n728\\n00:45:49,350 --> 00:45:51,767\\nThe embezzlement case?\\n\\n729\\n00:45:51,819 --> 00:45:55,187\\nMm, yes, I\\'d...\\nI\\'d be happy to talk it over.\\n\\n730\\n00:45:55,189 --> 00:45:58,824\\nOh, shit.\\n\\n731\\n00:46:07,952 --> 00:46:10,335\\nTwo-minute warning. Two-minute warning.\\n\\n732\\n00:46:10,371 --> 00:46:12,004\\nGot it.\\n\\n733\\n00:47:15,269 --> 00:47:17,269\\nOh, my God!\\n\\n734\\n00:47:17,271 --> 00:47:18,520\\nWhat happened?\\n\\n735\\n00:47:18,572 --> 00:47:20,522\\nCall 911.\\n\\n736\\n00:47:20,574 --> 00:47:23,742\\nOh, my God! Cal! Cal!\\n\\n737\\n00:47:23,777 --> 00:47:24,293\\nLook at me! Are you okay?!\\n\\n738\\n00:47:24,376 --> 00:47:27,412\\nBuddy, say something. Cal, what are you...\\n\\n739\\n00:47:27,448 --> 00:47:28,464\\nCome on already.\\n\\n740\\n00:47:28,546 --> 00:47:29,545\\n- What is she doing in there?\\n- I don\\'t know. Shh.\\n\\n741\\n00:47:29,580 --> 00:47:31,130\\nIs she making a sandwich?\\n\\n742\\n00:47:31,165 --> 00:47:33,582\\nWhere\\'s her sense of responsibility?\\n\\n743\\n00:47:33,584 --> 00:47:35,050\\nWhat?\\n\\n744\\n00:47:35,086 --> 00:47:38,470\\n- What?!\\n- Hey! What the f...\\n\\n745\\n00:47:38,506 --> 00:47:39,972\\nFunny to run into you, Betsy.\\n\\n746\\n00:47:40,007 --> 00:47:42,808\\nI was just, uh, strolling the neighborhood.\\n\\n747\\n00:47:42,843 --> 00:47:45,811\\nYou... You were in accident.\\n\\n748\\n00:47:45,846 --> 00:47:49,598\\nOh, it\\'s...\\n\\n749\\n00:47:54,038 --> 00:47:56,605\\nCome on.\\n\\n750\\n00:48:05,282 --> 00:48:06,665\\nYeah?\\n\\n751\\n00:48:06,701 --> 00:48:08,867\\n- She took off on us.\\n- She what?\\n\\n752\\n00:48:08,919 --> 00:48:10,336\\nIt was textbook, man.\\n\\n753\\n00:48:10,371 --> 00:48:12,538\\nWe were diamonds,\\nbut then she just took off.\\n\\n754\\n00:48:12,590 --> 00:48:14,540\\nOkay, wait. She... She hit-and-run?\\n\\n755\\n00:48:14,592 --> 00:48:16,959\\nThat\\'s what I\\'m saying.\\nShe bailed and wailed.\\n\\n756\\n00:48:16,961 --> 00:48:19,795\\nO... okay. Just stay where you are.\\nI\\'ll come get you.\\n\\n757\\n00:48:19,797 --> 00:48:21,263\\nNo, no, no. Screw that, man.\\n\\n758\\n00:48:21,298 --> 00:48:22,715\\nWe\\'re following her.\\n\\n759\\n00:48:22,767 --> 00:48:24,133\\nYou\\'re... How are...\\nYou\\'re following her how?\\n\\n760\\n00:48:24,135 --> 00:48:25,934\\nWe got our ways, yo.\\n\\n761\\n00:48:25,970 --> 00:48:29,221\\nOkay, okay, okay, new plan...\\nNew plan. You do know me.\\n\\n762\\n00:48:29,273 --> 00:48:31,857\\nI\\'m your lawyer. You got that?\\nI\\'ll meet you at the school.\\n\\n763\\n00:48:31,892 --> 00:48:33,692\\nNo, she\\'s way past the school.\\n\\n764\\n00:48:33,728 --> 00:48:35,394\\nShe hooked a left on Juan tabo,\\n\\n765\\n00:48:35,446 --> 00:48:37,229\\nand she\\'s coming into holiday park.\\n\\n766\\n00:48:37,281 --> 00:48:39,114\\nOkay, stay with her.\\n\\n767\\n00:48:39,150 --> 00:48:40,949\\nWhen she gets where she\\'s going,\\nwherever that is,\\n\\n768\\n00:48:40,985 --> 00:48:42,151\\njust don\\'t do anything.\\n\\n769\\n00:48:42,153 --> 00:48:43,402\\n- Wait for me.\\n- Wait for what?\\n\\n770\\n00:48:43,454 --> 00:48:45,037\\nYou haven\\'t been right even once!\\n\\n771\\n00:48:45,072 --> 00:48:46,405\\nSlippin\\' Jimmy, my ass!\\n\\n772\\n00:48:46,457 --> 00:48:48,240\\nYou fell into the honeypot, kid.\\n\\n773\\n00:48:48,292 --> 00:48:51,076\\nYou get it? Hit-and-run is a felony.\\n\\n774\\n00:48:51,128 --> 00:48:52,578\\nSo what?\\n\\n775\\n00:48:52,630 --> 00:48:54,730\\n\"So what?\" So more money.\\n\\n776\\n00:48:54,765 --> 00:48:57,716\\nHe says we fell in the honeypot.\\nHe says \"more money.\"\\n\\n777\\n00:48:57,752 --> 00:48:59,585\\nSo what do we need him for?\\n\\n778\\n00:49:05,760 --> 00:49:08,143\\nCal? Lars? Whoever... Oh, damn it!\\n\\n779\\n00:49:08,179 --> 00:49:11,346\\nCome on. Come on!\\n\\n780\\n00:49:13,184 --> 00:49:16,602\\n- Do it. Do it. Do it.\\n- Son of a bitch!\\n\\n781\\n00:49:16,654 --> 00:49:18,237\\nCome on!\\n\\n782\\n00:49:18,272 --> 00:49:20,239\\nCome on!\\n\\n783\\n00:49:51,522 --> 00:49:54,690\\nHey. Hey, your leg.\\nOh, I\\'m gonna do this one.\\n\\n784\\n00:49:54,725 --> 00:49:55,891\\n- Okay.\\n- Hey! Aah! Aah!\\n\\n785\\n00:49:55,893 --> 00:49:58,110\\nHey, yo, hold up.\\n\\n786\\n00:49:58,145 --> 00:50:00,112\\nHey, yeah, you...\\nWhat is the matter with you?\\n\\n787\\n00:50:00,147 --> 00:50:01,480\\nYou hit-and-run.\\n\\n788\\n00:50:01,532 --> 00:50:03,482\\nYou ran him over. You felonied my brother.\\n\\n789\\n00:50:03,534 --> 00:50:05,701\\n- Que pasa?\\n- Habla English.\\n\\n790\\n00:50:05,736 --> 00:50:07,903\\nWe call... We call La policia.\\n\\n791\\n00:50:07,905 --> 00:50:09,321\\nLa policia gonna be pissed.\\n\\n792\\n00:50:09,373 --> 00:50:11,540\\nI see you hit him. Wham! Aah.\\n\\n793\\n00:50:11,575 --> 00:50:13,158\\nYou see that... that windshield?\\nYou did that.\\n\\n794\\n00:50:13,210 --> 00:50:14,877\\n- No entiendo. No entiendo.\\n- I did that.\\n\\n795\\n00:50:14,912 --> 00:50:17,045\\nYou did that to me.\\nYou did that. Now you pay.\\n\\n796\\n00:50:17,081 --> 00:50:20,048\\n- No, se駉r. No, se駉r. No entiendo.\\n- Make... make with the dinero.\\n\\n797\\n00:50:20,084 --> 00:50:21,884\\n- 緿inero?\\n- Dinero.\\n\\n798\\n00:50:21,919 --> 00:50:23,051\\nSi, righteous dinero.\\n\\n799\\n00:50:23,087 --> 00:50:25,504\\n- 緿inero?\\n- Y... Si.\\n\\n800\\n00:50:28,425 --> 00:50:30,809\\nOkay. Yeah, that\\'s what I\\'m talking about.\\n\\n801\\n00:50:30,845 --> 00:50:31,810\\n- Talking about.\\n- Mijo.\\n\\n802\\n00:50:31,846 --> 00:50:33,645\\nLet\\'s go.\\n\\n803\\n00:50:33,681 --> 00:50:34,930\\nImijo!\\n\\n804\\n00:50:34,932 --> 00:50:36,148\\n- Is that money?\\n- Yeah.\\n\\n805\\n00:50:36,183 --> 00:50:37,766\\nMijo...\\n\\n806\\n00:50:37,768 --> 00:50:39,768\\nWatch this step.\\n\\n807\\n00:50:39,804 --> 00:50:42,604\\nWatch this... Watch this step.\\n\\n808\\n00:50:51,866 --> 00:50:55,250\\nWhere are you?\\n\\n809\\n00:50:55,286 --> 00:50:57,085\\nHoliday park.\\n\\n810\\n00:50:57,121 --> 00:50:58,921\\nMrs. Kettleman, Betsy.\\n\\n811\\n00:50:58,956 --> 00:51:00,756\\nWhat are you doing here?\\n\\n812\\n00:51:00,791 --> 00:51:02,958\\nHit-and-run? That\\'s very serious.\\n\\n813\\n00:51:02,960 --> 00:51:04,376\\nI can... I can mediate.\\n\\n814\\n00:51:04,428 --> 00:51:06,712\\nIt\\'s... I represent their parents, so...\\n\\n815\\n00:51:06,764 --> 00:51:09,264\\nCome on. Come on.\\n\\n816\\n00:51:48,172 --> 00:51:51,807\\nOpen up! Officer of the court!\\n\\n817\\n00:51:51,842 --> 00:51:53,425\\nOpen up in the name of the law!\\n\\n818\\n00:51:56,096 --> 00:51:58,680\\nGood afternoon. This...\\n\\n9999\\n00:00:0,500 --> 00:00:2,00\\n<font color=\"#ffff00\" size=14>www.tvsubtitles.net</font>\\n'"
      ]
     },
     "execution_count": 26,
     "metadata": {},
     "output_type": "execute_result"
    }
   ],
   "source": [
    "with open('better call saul 01.txt', 'r', encoding=\"utf-8\") as f:\n",
    "    read_data = f.read()\n",
    "    \n",
    "read_data"
   ]
  },
  {
   "cell_type": "code",
   "execution_count": null,
   "id": "5f8f705a-5d6a-4819-ac4c-1d1ca8560092",
   "metadata": {},
   "outputs": [],
   "source": []
  }
 ],
 "metadata": {
  "kernelspec": {
   "display_name": "Python 3 (ipykernel)",
   "language": "python",
   "name": "python3"
  },
  "language_info": {
   "codemirror_mode": {
    "name": "ipython",
    "version": 3
   },
   "file_extension": ".py",
   "mimetype": "text/x-python",
   "name": "python",
   "nbconvert_exporter": "python",
   "pygments_lexer": "ipython3",
   "version": "3.10.6"
  }
 },
 "nbformat": 4,
 "nbformat_minor": 5
}
