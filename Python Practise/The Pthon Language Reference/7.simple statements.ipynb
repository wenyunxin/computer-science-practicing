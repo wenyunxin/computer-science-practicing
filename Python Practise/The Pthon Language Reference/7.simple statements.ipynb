{
 "cells": [
  {
   "cell_type": "code",
   "execution_count": 1,
   "id": "4286a049-aa3a-48cf-9a3a-21c224d21bff",
   "metadata": {},
   "outputs": [],
   "source": [
    "from IPython.core.interactiveshell import InteractiveShell\n",
    "InteractiveShell.ast_node_interactivity = \"all\""
   ]
  },
  {
   "cell_type": "markdown",
   "id": "406245f3-5551-4bdf-84fb-c338701f2d24",
   "metadata": {},
   "source": [
    "A simple statement is comprised within a single logical line. Several simple statements may occur on a single line separated by semicolons. The syntax for simple statements is:\n",
    "\n",
    "> 一个简单的语句是由一个单一的逻辑行组成的。几个简单语句可以出现在一行中，用分号隔开。简单语句的语法是："
   ]
  },
  {
   "cell_type": "raw",
   "id": "e8f9385c-b35b-4f43-a147-7ef61011d356",
   "metadata": {},
   "source": [
    "simple_stmt ::=  expression_stmt\n",
    "                 | assert_stmt\n",
    "                 | assignment_stmt\n",
    "                 | augmented_assignment_stmt\n",
    "                 | annotated_assignment_stmt\n",
    "                 | pass_stmt\n",
    "                 | del_stmt\n",
    "                 | return_stmt\n",
    "                 | yield_stmt\n",
    "                 | raise_stmt\n",
    "                 | break_stmt\n",
    "                 | continue_stmt\n",
    "                 | import_stmt\n",
    "                 | future_stmt\n",
    "                 | global_stmt\n",
    "                 | nonlocal_stmt"
   ]
  },
  {
   "cell_type": "markdown",
   "id": "f81140eb-9c67-4396-8e4d-ec797542bcdc",
   "metadata": {},
   "source": [
    "## 7.1. Expression statements"
   ]
  },
  {
   "cell_type": "markdown",
   "id": "5d2c2deb-f1f2-433b-beb4-d4a251b4f169",
   "metadata": {},
   "source": [
    "Expression statements are used (mostly interactively) to compute and write a value, or (usually) to call a procedure (a function that returns no meaningful result; in Python, procedures return the value `None`). Other uses of expression statements are allowed and occasionally useful. The syntax for an expression statement is:\n",
    "\n",
    "> 表达式语句被用来(主要是交互式的)计算和写入一个值，或者(通常)调用一个过程(一个不返回有意义的结果的函数；在Python中，过程返回值 `None`)。表达式语句的其他用途是允许的，偶尔也会有用。表达式语句的语法是："
   ]
  },
  {
   "cell_type": "raw",
   "id": "5014cb39-ecef-43cd-a7a5-968d218d9ca6",
   "metadata": {},
   "source": [
    "expression_stmt ::=  starred_expression"
   ]
  },
  {
   "cell_type": "markdown",
   "id": "bf3a8c12-13ec-47c5-8151-d4b46ff7291b",
   "metadata": {},
   "source": [
    "An expression statement evaluates the expression list (which may be a single expression).\n",
    "\n",
    "In interactive mode, if the value is not `None`, it is converted to a string using the built-in [`repr()`](https://docs.python.org/3/library/functions.html#repr) function and the resulting string is written to standard output on a line by itself (except if the result is `None`, so that procedure calls do not cause any output.)\n",
    "\n",
    "> 表达式语句运算求值表达式列表（可以是单个表达式）。\n",
    ">\n",
    "> 在交互式模式下，如果值不是 `None`，则使用内置的 [`repr()`](https://docs.python.org/3/library/functions.html#repr)函数将其转换为字符串，并将结果字符串单独写入标准输出行（除非结果是 `None`，所以过程调用不会引起任何输出）。"
   ]
  },
  {
   "cell_type": "markdown",
   "id": "a6188c1c-db2d-42af-87fe-54ba93cd984e",
   "metadata": {},
   "source": [
    "## 7.2. Assignment statements"
   ]
  },
  {
   "cell_type": "markdown",
   "id": "cf412b33-ebe7-45a5-852f-9f095ed55bf1",
   "metadata": {},
   "source": [
    "Assignment statements are used to (re)bind names to values and to modify attributes or items of mutable objects:\n",
    "\n",
    "> 赋值语句用于将名称与值（重新）绑定，并修改可变对象的属性或项目："
   ]
  },
  {
   "cell_type": "raw",
   "id": "702690b7-c01a-4ff5-a606-7c3189792cc6",
   "metadata": {},
   "source": [
    "assignment_stmt ::=  (target_list \"=\")+ (starred_expression | yield_expression)\n",
    "target_list     ::=  target (\",\" target)* [\",\"]\n",
    "target          ::=  identifier\n",
    "                     | \"(\" [target_list] \")\"\n",
    "                     | \"[\" [target_list] \"]\"\n",
    "                     | attributeref\n",
    "                     | subscription\n",
    "                     | slicing\n",
    "                     | \"*\" target"
   ]
  },
  {
   "cell_type": "markdown",
   "id": "95942986-fb8b-415c-9511-f8c99bacf9cd",
   "metadata": {},
   "source": [
    "(See section Primaries for the syntax definitions for attributeref, subscription, and slicing.)"
   ]
  },
  {
   "cell_type": "markdown",
   "id": "2013e718-c6c9-4781-8689-f257751bbf4c",
   "metadata": {},
   "source": [
    "An assignment statement evaluates the expression list (remember that this can be a single expression or a comma-separated list, the latter yielding a tuple) and assigns the single resulting object to each of the target lists, from left to right.\n",
    "\n",
    "Assignment is defined recursively depending on the form of the target (list). When a target is part of a mutable object (an attribute reference, subscription or slicing), the mutable object must ultimately perform the assignment and decide about its validity, and may raise an exception if the assignment is unacceptable. The rules observed by various types and the exceptions raised are given with the definition of the object types (see section [The standard type hierarchy](https://docs.python.org/3/reference/datamodel.html#types)).\n",
    "\n",
    "> 赋值语句运算求值表达式列表（记住，这可以是单个表达式或逗号分隔的列表，后者产生一个元组），并将产生的单个对象从左到右分配给每个目标列表。\n",
    ">\n",
    "> 赋值的定义是递归的，取决于目标（列表）的形式。当目标是可变对象的一部分时（属性引用、下标引用或切片），可变对象必须最终执行赋值并决定其有效性，如果赋值不可接受，可能会引发一个异常。各种类型所遵守的规则和所引发的异常是随着对象类型的定义而给出的（见[标准类型层次](https://docs.python.org/3/reference/datamodel.html#types)一节）。"
   ]
  },
  {
   "cell_type": "markdown",
   "id": "702b9a9a-a83c-44a4-8fed-9976c29e915c",
   "metadata": {},
   "source": [
    "Assignment of an object to a target list, optionally enclosed in parentheses or square brackets, is recursively defined as follows.\n",
    "\n",
    "- If the target list is a single target with no trailing comma, optionally in parentheses, the object is assigned to that target.\n",
    "- Else:\n",
    "  - If the target list contains one target prefixed with an asterisk, called a “starred” target: The object must be an iterable with at least as many items as there are targets in the target list, minus one. The first items of the iterable are assigned, from left to right, to the targets before the starred target. The final items of the iterable are assigned to the targets after the starred target. A list of the remaining items in the iterable is then assigned to the starred target (the list can be empty).\n",
    "  - Else: The object must be an iterable with the same number of items as there are targets in the target list, and the items are assigned, from left to right, to the corresponding targets.\n",
    "\n",
    "> 将一个对象分配给一个目标列表，可以选择用小括号或方括号括起来，其递归定义如下：\n",
    ">\n",
    "> - 如果目标列表是一个单一的目标，没有尾部的逗号，可选择在括号内，则对象被分配到该目标。\n",
    "> - 否则：\n",
    ">   - 如果目标列表包含一个以星号为前缀的目标，称为 \"starred\"目标。该对象必须是一个可迭代的对象，其数量至少与目标列表中的目标数量相同，减去1。迭代器的第一个项目从左到右被分配给星号目标之前的目标。迭代器的最后一个项目被分配给星形目标之后的目标。然后，迭代器中剩余的项目的列表被分配给加星的目标（该列表可以是空的）。\n",
    ">   - 否则：该对象必须是一个可迭代的项目，其数量与目标列表中的目标数量相同，并且这些项目从左到右被分配给相应的目标。"
   ]
  },
  {
   "cell_type": "markdown",
   "id": "5e69884e-c194-4282-9f93-08b43bc376a6",
   "metadata": {},
   "source": [
    "Assignment of an object to a single target is recursively defined as follows.\n",
    "\n",
    "- If the target is an identifier (name):\n",
    "\n",
    "  - If the name does not occur in a [`global`](https://docs.python.org/3/reference/simple_stmts.html#global) or [`nonlocal`](https://docs.python.org/3/reference/simple_stmts.html#nonlocal) statement in the current code block: the name is bound to the object in the current local namespace.\n",
    "  - Otherwise: the name is bound to the object in the global namespace or the outer namespace determined by [`nonlocal`](https://docs.python.org/3/reference/simple_stmts.html#nonlocal), respectively.\n",
    "\n",
    "  The name is rebound if it was already bound. This may cause the reference count for the object previously bound to the name to reach zero, causing the object to be deallocated and its destructor (if it has one) to be called.\n",
    "\n",
    "- If the target is an attribute reference: The primary expression in the reference is evaluated. It should yield an object with assignable attributes; if this is not the case, [`TypeError`](https://docs.python.org/3/library/exceptions.html#TypeError) is raised. That object is then asked to assign the assigned object to the given attribute; if it cannot perform the assignment, it raises an exception (usually but not necessarily [`AttributeError`](https://docs.python.org/3/library/exceptions.html#AttributeError)).\n",
    "\n",
    "  Note: If the object is a class instance and the attribute reference occurs on both sides of the assignment operator, the right-hand side expression, `a.x` can access either an instance attribute or (if no instance attribute exists) a class attribute. The left-hand side target `a.x` is always set as an instance attribute, creating it if necessary. Thus, the two occurrences of `a.x` do not necessarily refer to the same attribute: if the right-hand side expression refers to a class attribute, the left-hand side creates a new instance attribute as the target of the assignment:\n",
    "\n",
    "  ```\n",
    "  class Cls:\n",
    "      x = 3             # class variable\n",
    "  inst = Cls()\n",
    "  inst.x = inst.x + 1   # writes inst.x as 4 leaving Cls.x as 3\n",
    "  ```\n",
    "\n",
    "  This description does not necessarily apply to descriptor attributes, such as properties created with [`property()`](https://docs.python.org/3/library/functions.html#property).\n",
    "\n",
    "- If the target is a subscription: The primary expression in the reference is evaluated. It should yield either a mutable sequence object (such as a list) or a mapping object (such as a dictionary). Next, the subscript expression is evaluated.\n",
    "\n",
    "  If the primary is a mutable sequence object (such as a list), the subscript must yield an integer. If it is negative, the sequence’s length is added to it. The resulting value must be a nonnegative integer less than the sequence’s length, and the sequence is asked to assign the assigned object to its item with that index. If the index is out of range, [`IndexError`](https://docs.python.org/3/library/exceptions.html#IndexError) is raised (assignment to a subscripted sequence cannot add new items to a list).\n",
    "\n",
    "  If the primary is a mapping object (such as a dictionary), the subscript must have a type compatible with the mapping’s key type, and the mapping is then asked to create a key/datum pair which maps the subscript to the assigned object. This can either replace an existing key/value pair with the same key value, or insert a new key/value pair (if no key with the same value existed).\n",
    "\n",
    "  For user-defined objects, the `__setitem__()` method is called with appropriate arguments.\n",
    "\n",
    "- If the target is a slicing: The primary expression in the reference is evaluated. It should yield a mutable sequence object (such as a list). The assigned object should be a sequence object of the same type. Next, the lower and upper bound expressions are evaluated, insofar they are present; defaults are zero and the sequence’s length. The bounds should evaluate to integers. If either bound is negative, the sequence’s length is added to it. The resulting bounds are clipped to lie between zero and the sequence’s length, inclusive. Finally, the sequence object is asked to replace the slice with the items of the assigned sequence. The length of the slice may be different from the length of the assigned sequence, thus changing the length of the target sequence, if the target sequence allows it.\n",
    "\n",
    "> 将一个对象分配给一个单一的目标，其递归定义如下：\n",
    ">\n",
    "> - 如果目标是一个标识符（名称）。\n",
    ">\n",
    ">   - 如果该名称没有出现在当前代码块中的[`global`](https://docs.python.org/3/reference/simple_stmts.html#global)或[`nonlocal`](https://docs.python.org/3/reference/simple_stmts.html#nonlocal)语句中：该名称被绑定到当前本地命名空间中的对象。\n",
    ">   - 否则：名称将被绑定到全局名称空间或由[`nonlocal`](https://docs.python.org/3/reference/simple_stmts.html#nonlocal)确定的外部名称空间中的对象。\n",
    ">\n",
    ">   如果名字已经被绑定，那么它将被重新绑定。这可能会导致之前与该名称绑定的对象的引用计数为零，导致该对象被解配，其析构器（如果有的话）被调用。\n",
    ">\n",
    "> - 如果目标是一个属性引用。引用中的**主**表达式被评估。它应该产生一个具有可分配属性的对象；如果不是这样，就会引发[`TypeError`](https://docs.python.org/3/library/exceptions.html#TypeError)。然后要求该对象将被分配的对象分配给给定的属性；如果它不能执行分配，会引发一个异常（通常但不一定是[`AttributeError`](https://docs.python.org/3/library/exceptions.html#AttributeError)）。\n",
    ">\n",
    ">   注意：如果对象是一个类的实例，并且属性引用出现在赋值运算符的两边，右边的表达式`a.x`可以访问一个实例属性或者（如果没有实例属性）一个类属性。左边的目标`a.x`总是被设置为一个实例属性，如果需要的话，可以创建它。因此，`a.x`的两次出现不一定指的是同一个属性：如果右边的表达式指的是一个类属性，左边的表达式会创建一个新的实例属性作为赋值的目标。\n",
    ">\n",
    ">   ```\n",
    ">   class Cls:\n",
    ">       x = 3 # 类变量\n",
    ">   inst = Cls()\n",
    ">   inst.x = inst.x + 1 # 把inst.x写成4，把Cls.x写成3\n",
    ">   ```\n",
    ">\n",
    ">   这种描述不一定适用于描述符属性，例如用 [`property()`](https://docs.python.org/3/library/functions.html#property) 创建的属性。\n",
    ">\n",
    "> - 如果目标是一个下标引用。引用中的主表达式被运算求值。它应该产生一个可变的序列对象（比如 list）或者一个映射对象（比如 dictionary）。接下来，下标表达式被运算求值。\n",
    ">\n",
    ">   如果主序列是一个可变的序列对象（比如一个列表），下标必须产生一个整数。如果它是负数，那么序列的长度将被加到它上面。产生的值必须是一个小于序列长度的非负整数，并且序列被要求将分配的对象分配给具有该索引的项目。如果索引超出范围，[`IndexError`](https://docs.python.org/3/library/exceptions.html#IndexError)将被引发（对下标序列的赋值不能向列表中添加新的项目）。\n",
    ">\n",
    ">   如果主对象是一个映射对象（如字典），下标必须有一个与映射的键类型兼容的类型，然后要求映射创建一个键/数据对，将下标映射到分配的对象。这可以用相同的键值替换现有的键/值对，或者插入一个新的键/值对（如果没有相同值的键存在）。\n",
    ">\n",
    ">   对于用户定义的对象，`__setitem__()`方法被调用，并带有适当的参数。\n",
    ">\n",
    "> - 如果目标是一个分片。引用中的主表达式被运算求值。它应该产生一个可变的序列对象（比如一个列表）。被分配的对象应该是一个相同类型的序列对象。接下来，只要有下限和上限表达式，就会被运算求值；默认值是零和序列的长度。这些边界应该被运算求值为整数。如果任何一个边界是负的，那么序列的长度将被加到它上面。产生的边界被剪切成位于零和序列的长度之间，包括在内。最后，序列对象被要求用指定的序列的项目来替换片断。如果目标序列允许的话，切片的长度可以与分配序列的长度不同，从而改变目标序列的长度。"
   ]
  },
  {
   "cell_type": "markdown",
   "id": "6aebc2ff-ce4f-4227-b654-1a99a7926658",
   "metadata": {},
   "source": [
    "**CPython implementation detail:** In the current implementation, the syntax for targets is taken to be the same as for expressions, and invalid syntax is rejected during the code generation phase, causing less detailed error messages.\n",
    "\n",
    "> **CPython的实现细节：**在目前的实现中，目标的语法被认为与表达式的语法相同，无效的语法在代码生成阶段被拒绝，导致错误信息不太详细。"
   ]
  },
  {
   "cell_type": "markdown",
   "id": "4966ab4f-9d77-4dfc-8349-1708c44a34bd",
   "metadata": {},
   "source": [
    "Although the definition of assignment implies that overlaps between the left-hand side and the right-hand side are ‘simultaneous’ (for example `a, b = b, a` swaps two variables), overlaps *within* the collection of assigned-to variables occur left-to-right, sometimes resulting in confusion. For instance, the following program prints `[0, 2]`:\n",
    "\n",
    "> 虽然赋值的定义意味着左手边和右手边的重叠是 \"同时的\"（例如 `a, b = b, a` 交换了两个变量），但*在*赋值到的变量集合中的重叠是从左到右发生的，有时会导致混淆。例如，下面的程序打印出 `[0, 2]`："
   ]
  },
  {
   "cell_type": "code",
   "execution_count": 3,
   "id": "8c293287-43c5-417b-a86e-543de8208028",
   "metadata": {},
   "outputs": [
    {
     "name": "stdout",
     "output_type": "stream",
     "text": [
      "[0, 2]\n"
     ]
    }
   ],
   "source": [
    "x = [0, 1]\n",
    "i = 0\n",
    "i, x[i] = 1, 2    # i is updated, the x[i] is updated\n",
    "print(x)"
   ]
  },
  {
   "cell_type": "markdown",
   "id": "848a8072-5aae-41c1-ad5b-6ea5950ecb31",
   "metadata": {},
   "source": [
    "**See also:**\n",
    "\n",
    "- [**PEP 3132**](https://www.python.org/dev/peps/pep-3132) - Extended Iterable Unpacking\n",
    "\n",
    "  The specification for the `*target` feature."
   ]
  },
  {
   "cell_type": "markdown",
   "id": "ef4ad4a0-6bf7-4593-b7de-d053d5717479",
   "metadata": {},
   "source": [
    "### 7.2.1. Augmented assignment statements"
   ]
  },
  {
   "cell_type": "markdown",
   "id": "f7d4003d-a9b8-434d-ac3c-2ae8610aa9ef",
   "metadata": {},
   "source": [
    "Augmented assignment is the combination, in a single statement, of a binary operation and an assignment statement:\n",
    "\n",
    "> 增强的赋值是在一条语句中结合了二元操作符和赋值语句："
   ]
  },
  {
   "cell_type": "raw",
   "id": "9fed077c-033d-4add-9a45-81c656e2fafc",
   "metadata": {},
   "source": [
    "augmented_assignment_stmt ::=  augtarget augop (expression_list | yield_expression)\n",
    "augtarget                 ::=  identifier | attributeref | subscription | slicing\n",
    "augop                     ::=  \"+=\" | \"-=\" | \"*=\" | \"@=\" | \"/=\" | \"//=\" | \"%=\" | \"**=\"\n",
    "                               | \">>=\" | \"<<=\" | \"&=\" | \"^=\" | \"|=\""
   ]
  },
  {
   "cell_type": "markdown",
   "id": "c5db570e-5273-4ad3-a46d-fb8edcd176f5",
   "metadata": {},
   "source": [
    "(See section Primaries for the syntax definitions of the last three symbols.)"
   ]
  },
  {
   "cell_type": "markdown",
   "id": "1af8abdb-3ec0-4819-b693-c8b0d20919bf",
   "metadata": {},
   "source": [
    "An augmented assignment evaluates the target (which, unlike normal assignment statements, cannot be an unpacking) and the expression list, performs the binary operation specific to the type of assignment on the two operands, and assigns the result to the original target. The target is only evaluated once.\n",
    "\n",
    "> 增强的赋值对目标（与普通的赋值语句不同，不能是解包）和表达式列表进行运算求值，在两个操作数上执行特定于赋值类型的二元操作，并将结果赋给原目标。目标只被运算求值一次。"
   ]
  },
  {
   "cell_type": "markdown",
   "id": "edbb4ede-e2d9-41e6-ac1c-2390e4e72995",
   "metadata": {},
   "source": [
    "An augmented assignment expression like `x += 1` can be rewritten as `x = x + 1` to achieve a similar, but not exactly equal effect. In the augmented version, `x` is only evaluated once. Also, when possible, the actual operation is performed *in-place*, meaning that rather than creating a new object and assigning that to the target, the old object is modified instead.\n",
    "\n",
    "Unlike normal assignments, augmented assignments evaluate the left-hand side *before* evaluating the right-hand side. For example, `a[i] += f(x)` first looks-up `a[i]`, then it evaluates `f(x)` and performs the addition, and lastly, it writes the result back to `a[i]`.\n",
    "\n",
    "> 像 `x += 1` 这样的增强赋值表达式可以改写为 `x = x + 1` 以达到类似的效果，但不完全相同。在增强的版本中，`x` 只被运算求值一次。另外，在可能的情况下，实际的操作是*就地*进行的，也就是说，不是创建一个新的对象并将其分配给目标，而是修改旧的对象。\n",
    ">\n",
    "> 与普通的赋值不同，增强的赋值是在运算求值右手边之前*先*运算求值左手边。例如，`a[i] += f(x)` 首先查找 `a[i]`，然后运算求值 `f(x)` 并执行加法，最后，将结果写回 `a[i]`。"
   ]
  },
  {
   "cell_type": "markdown",
   "id": "78a27fef-eabc-4c4b-b7ff-d4e092eea63f",
   "metadata": {},
   "source": [
    "With the exception of assigning to tuples and multiple targets in a single statement, the assignment done by augmented assignment statements is handled the same way as normal assignments. Similarly, with the exception of the possible *in-place* behavior, the binary operation performed by augmented assignment is the same as the normal binary operations.\n",
    "\n",
    "For targets which are attribute references, the same [caveat about class and instance attributes](https://docs.python.org/3/reference/simple_stmts.html#attr-target-note) applies as for regular assignments.\n",
    "\n",
    "> 除了在一条语句中对元组和多个目标进行赋值外，由增强赋值语句完成的赋值与普通赋值的处理方式相同。同样，除了可能的*在位*行为外，由增强的赋值执行的二元操作与普通的二元操作相同。\n",
    ">\n",
    "> 对于作为属性引用的目标，与普通赋值相同的[关于类和实例属性的注意事项](https://docs.python.org/3/reference/simple_stmts.html#attr-target-note)适用。"
   ]
  },
  {
   "cell_type": "markdown",
   "id": "fca5b1ba-a253-434d-ba2d-577552322cab",
   "metadata": {},
   "source": [
    "### 7.2.2. Annotated assignment statements"
   ]
  },
  {
   "cell_type": "markdown",
   "id": "cb8917a0-a239-407e-ba39-e356d914b52f",
   "metadata": {},
   "source": [
    "[Annotation](https://docs.python.org/3/glossary.html#term-variable-annotation) assignment is the combination, in a single statement, of a variable or attribute annotation and an optional assignment statement:\n",
    "\n",
    "> [注释](https://docs.python.org/3/glossary.html#term-variable-annotation)赋值是在一个单一的语句中，将一个变量或属性注释和一个可选的赋值语句相结合："
   ]
  },
  {
   "cell_type": "raw",
   "id": "8b6555c1-c4fa-4aa2-8cb4-7b57ff7b16f7",
   "metadata": {},
   "source": [
    "annotated_assignment_stmt ::=  augtarget \":\" expression\n",
    "                               [\"=\" (starred_expression | yield_expression)]"
   ]
  },
  {
   "cell_type": "markdown",
   "id": "a3e9eec3-5288-4c9a-82d6-795839f7e0bc",
   "metadata": {},
   "source": [
    "The difference from normal [Assignment statements](https://docs.python.org/3/reference/simple_stmts.html#assignment) is that only single target is allowed.\n",
    "\n",
    "For simple names as assignment targets, if in class or module scope, the annotations are evaluated and stored in a special class or module attribute `__annotations__` that is a dictionary mapping from variable names (mangled if private) to evaluated annotations. This attribute is writable and is automatically created at the start of class or module body execution, if annotations are found statically.\n",
    "\n",
    "For expressions as assignment targets, the annotations are evaluated if in class or module scope, but not stored.\n",
    "\n",
    "If a name is annotated in a function scope, then this name is local for that scope. Annotations are never evaluated and stored in function scopes.\n",
    "\n",
    "If the right hand side is present, an annotated assignment performs the actual assignment before evaluating annotations (where applicable). If the right hand side is not present for an expression target, then the interpreter evaluates the target except for the last `__setitem__()` or `__setattr__()` call.\n",
    "\n",
    "> 与普通[赋值语句](https://docs.python.org/3/reference/simple_stmts.html#assignment)的区别是只允许单一目标。\n",
    ">\n",
    "> 对于作为赋值目标的简单名称，如果在类或模块范围内，注释被评估并存储在一个特殊的类或模块属性`__annotations__` 中，该属性是一个从变量名称（如果是私有的，则经过处理）到评估的注释的字典映射。这个属性是可写的，并且在类或模块体执行开始时自动创建，如果注释是静态发现的。\n",
    ">\n",
    "> 对于作为赋值目标的表达式，如果在类或模块范围内，注释会被评估，但不会被存储。\n",
    ">\n",
    "> 如果一个名字在函数作用域中被注释了，那么这个名字对该作用域来说是本地的。注释永远不会被评估和存储在函数作用域中。\n",
    ">\n",
    "> 如果右手边是存在的，那么在评估注解之前，注解的赋值会执行实际的赋值（如果适用）。如果一个表达式目标的右手边不存在，那么解释器会评估目标，除了最后的`__setitem__() `或 `__setattr__()`调用。"
   ]
  },
  {
   "cell_type": "markdown",
   "id": "de72a645-cd51-4846-8e51-bd22a3684387",
   "metadata": {},
   "source": [
    "**See also**:\n",
    "\n",
    "- [**PEP 526**](https://www.python.org/dev/peps/pep-0526) - Syntax for Variable Annotations\n",
    "\n",
    "  The proposal that added syntax for annotating the types of variables (including class variables and instance variables), instead of expressing them through comments.\n",
    "\n",
    "- [**PEP 484**](https://www.python.org/dev/peps/pep-0484) - Type hints\n",
    "\n",
    "  The proposal that added the [`typing`](https://docs.python.org/3/library/typing.html#module-typing) module to provide a standard syntax for type annotations that can be used in static analysis tools and IDEs."
   ]
  },
  {
   "cell_type": "markdown",
   "id": "d921ba18-e102-4e34-b0ec-d42c5e7d7b29",
   "metadata": {},
   "source": [
    "*Changed in version 3.8:* Now annotated assignments allow same expressions in the right hand side as the regular assignments. Previously, some expressions (like un-parenthesized tuple expressions) caused a syntax error.\n",
    "\n",
    "> *3.8版中的变化：* 现在，注解式赋值允许右侧的表达式与常规赋值相同。以前，一些表达式（比如非括号元组表达式）会导致语法错误。"
   ]
  },
  {
   "cell_type": "markdown",
   "id": "ef0b2926-a192-4423-91d4-b2bc908a0498",
   "metadata": {},
   "source": [
    "## 7.3. The `assert` statement"
   ]
  },
  {
   "cell_type": "markdown",
   "id": "3b588c0c-117b-4c5e-8ed4-243d091779d9",
   "metadata": {},
   "source": [
    "Assert statements are a convenient way to insert debugging assertions into a program:\n",
    "\n",
    "> 断言语句是一种在程序中插入调试断句的方便方法："
   ]
  },
  {
   "cell_type": "raw",
   "id": "0f48805c-3005-4f18-b57d-09bf280f22f1",
   "metadata": {},
   "source": [
    "assert_stmt ::=  \"assert\" expression [\",\" expression]"
   ]
  },
  {
   "cell_type": "markdown",
   "id": "c6670d3b-54f8-4d5b-b31c-f267219299d7",
   "metadata": {},
   "source": [
    "The simple form, `assert expression`, is equivalent to\n",
    "\n",
    "> 简单的形式是 `assert expressions`，相当于"
   ]
  },
  {
   "cell_type": "raw",
   "id": "582d1aeb-3f82-48a0-b65b-b93d3e33a660",
   "metadata": {},
   "source": [
    "if __debug__:\n",
    "    if not expression: raise AssertionError"
   ]
  },
  {
   "cell_type": "markdown",
   "id": "f562bdb1-c228-42fa-b7c7-3d98c02f58dc",
   "metadata": {},
   "source": [
    "The extended form, `assert expression1, expression2`, is equivalent to\n",
    "\n",
    "> 扩展形式，`assert expression1, expression2`，相当于"
   ]
  },
  {
   "cell_type": "raw",
   "id": "7d40b8a2-b367-4b4b-bb35-10d59bb2f54a",
   "metadata": {},
   "source": [
    "if __debug__:\n",
    "    if not expression1: raise AssertionError(expression2)"
   ]
  },
  {
   "cell_type": "markdown",
   "id": "590d836e-d79e-46ae-ae2f-623d72dab96a",
   "metadata": {},
   "source": [
    "These equivalences assume that [`__debug__`](https://docs.python.org/3/library/constants.html#debug__) and [`AssertionError`](https://docs.python.org/3/library/exceptions.html#AssertionError) refer to the built-in variables with those names. In the current implementation, the built-in variable [`__debug__`](https://docs.python.org/3/library/constants.html#debug__) is `True` under normal circumstances, `False` when optimization is requested (command line option [`-O`](https://docs.python.org/3/using/cmdline.html#cmdoption-O)). The current code generator emits no code for an assert statement when optimization is requested at compile time. Note that it is unnecessary to include the source code for the expression that failed in the error message; it will be displayed as part of the stack trace.\n",
    "\n",
    "Assignments to [`__debug__`](https://docs.python.org/3/library/constants.html#debug__) are illegal. The value for the built-in variable is determined when the interpreter starts.\n",
    "\n",
    "> 这些等价关系假定 [`__debug__`](https://docs.python.org/3/library/constants.html#debug__) 和 [`AssertionError`](https://docs.python.org/3/library/exceptions.html#AssertionError) 指的是这些名字的内置变量。在目前的实现中，内置变量 [`__debug__`](https://docs.python.org/3/library/constants.html#debug__) 在正常情况下是 `True`，在要求优化时是 `False`（命令行选项 [`-O`](https://docs.python.org/3/using/cmdline.html#cmdoption-O)）。当前的代码生成器在编译时要求优化时，不会发出断言语句的代码。请注意，没有必要在错误信息中包括失败的表达式的源代码；它将作为堆栈跟踪的一部分被显示。\n",
    ">\n",
    "> 对 [`__debug__`](https://docs.python.org/3/library/constants.html#debug__) 的赋值是非法的。内置变量的值是在解释器启动时确定的。"
   ]
  },
  {
   "cell_type": "markdown",
   "id": "b65fc55d-5528-4cb4-b7af-d12092d7d1e4",
   "metadata": {},
   "source": [
    "## 7.4. The `pass` statement"
   ]
  },
  {
   "cell_type": "raw",
   "id": "ca4659c6-1bb6-4277-9412-de55b60e74a6",
   "metadata": {},
   "source": [
    "pass_stmt ::=  \"pass\""
   ]
  },
  {
   "cell_type": "markdown",
   "id": "3c221c0d-c377-4348-8c7d-4667de6afc0b",
   "metadata": {},
   "source": [
    "[`pass`](https://docs.python.org/3/reference/simple_stmts.html#pass) is a null operation — when it is executed, nothing happens. It is useful as a placeholder when a statement is required syntactically, but no code needs to be executed, for example:\n",
    "\n",
    "> [`pass`](https://docs.python.org/3/reference/simple_stmts.html#pass) 是一个空操作--当它被执行时，什么都不会发生。当语法上需要一个语句，但不需要执行代码时，它作为一个占位符很有用，例如："
   ]
  },
  {
   "cell_type": "code",
   "execution_count": 3,
   "id": "0c9f3d78-6823-4d99-b33f-97de963e1201",
   "metadata": {},
   "outputs": [],
   "source": [
    "# a function that does nothing (yet)\n",
    "def f(arg):\n",
    "    pass\n",
    "\n",
    "# a class with no methods (yet)\n",
    "class C:\n",
    "    pass"
   ]
  },
  {
   "cell_type": "markdown",
   "id": "24313f25-690e-4080-921e-829ab04cee61",
   "metadata": {},
   "source": [
    "## 7.5. The `del` statement"
   ]
  },
  {
   "cell_type": "raw",
   "id": "60215d1d-c5ef-45f0-84e5-5fe84ccfdff4",
   "metadata": {},
   "source": [
    "del_stmt ::=  \"del\" target_list"
   ]
  },
  {
   "cell_type": "markdown",
   "id": "0217de65-58ea-4ca5-9936-c90b884a5846",
   "metadata": {},
   "source": [
    "Deletion is recursively defined very similar to the way assignment is defined. Rather than spelling it out in full details, here are some hints.\n",
    "\n",
    "Deletion of a target list recursively deletes each target, from left to right.\n",
    "\n",
    "Deletion of a name removes the binding of that name from the local or global namespace, depending on whether the name occurs in a [`global`](https://docs.python.org/3/reference/simple_stmts.html#global) statement in the same code block. If the name is unbound, a [`NameError`](https://docs.python.org/3/library/exceptions.html#NameError) exception will be raised.\n",
    "\n",
    "Deletion of attribute references, subscriptions and slicings is passed to the primary object involved; deletion of a slicing is in general equivalent to assignment of an empty slice of the right type (but even this is determined by the sliced object).\n",
    "\n",
    "*Changed in version 3.2:* Previously it was illegal to delete a name from the local namespace if it occurs as a free variable in a nested block.\n",
    "\n",
    "> 删除的定义是递归的，与赋值的定义方式非常相似。这里没有详细说明，而是提供一些提示。\n",
    ">\n",
    "> 删除一个目标列表会递归地删除每个目标，从左到右。\n",
    ">\n",
    "> 删除一个名字会从本地或全局命名空间中删除该名字的绑定，这取决于该名字是否出现在同一代码块的[`global` ](https://docs.python.org/3/reference/simple_stmts.html#global)语句中。如果该名称未被绑定，将产生 [`NameError`](https://docs.python.org/3/library/exceptions.html#NameError) 异常。\n",
    ">\n",
    "> 属性引用、下标引用和切片的删除被传递给所涉及的**主**对象；删除一个切片在一般情况下等同于分配一个正确类型的空切片（但即使这也是由切片对象决定的）。\n",
    ">\n",
    "> *3.2版中的改变：*以前，如果一个名字作为自由变量出现在嵌套块中，从本地命名空间中删除该名字是非法的。"
   ]
  },
  {
   "cell_type": "markdown",
   "id": "b2e4da68-c497-4874-ac9b-8f6a59e4028f",
   "metadata": {},
   "source": [
    "## 7.6. The `return` statement"
   ]
  },
  {
   "cell_type": "raw",
   "id": "a3f51a8b-e4b3-44ba-bc90-49de075fb682",
   "metadata": {},
   "source": [
    "return_stmt ::=  \"return\" [expression_list]"
   ]
  },
  {
   "cell_type": "markdown",
   "id": "89c356a8-cee5-4ecd-8f08-1e2a97d5b11a",
   "metadata": {},
   "source": [
    "[`return`](https://docs.python.org/3/reference/simple_stmts.html#return) may only occur syntactically nested in a function definition, not within a nested class definition.\n",
    "\n",
    "If an expression list is present, it is evaluated, else `None` is substituted.\n",
    "\n",
    "[`return`](https://docs.python.org/3/reference/simple_stmts.html#return) leaves the current function call with the expression list (or `None`) as return value.\n",
    "\n",
    "When [`return`](https://docs.python.org/3/reference/simple_stmts.html#return) passes control out of a [`try`](https://docs.python.org/3/reference/compound_stmts.html#try) statement with a [`finally`](https://docs.python.org/3/reference/compound_stmts.html#finally) clause, that `finally` clause is executed before really leaving the function.\n",
    "\n",
    "In a generator function, the [`return`](https://docs.python.org/3/reference/simple_stmts.html#return) statement indicates that the generator is done and will cause [`StopIteration`](https://docs.python.org/3/library/exceptions.html#StopIteration) to be raised. The returned value (if any) is used as an argument to construct [`StopIteration`](https://docs.python.org/3/library/exceptions.html#StopIteration) and becomes the `StopIteration.value` attribute.\n",
    "\n",
    "In an asynchronous generator function, an empty [`return`](https://docs.python.org/3/reference/simple_stmts.html#return) statement indicates that the asynchronous generator is done and will cause [`StopAsyncIteration`](https://docs.python.org/3/library/exceptions.html#StopAsyncIteration) to be raised. A non-empty `return` statement is a syntax error in an asynchronous generator function.\n",
    "\n",
    "> [`return` ](https://docs.python.org/3/reference/simple_stmts.html#return) 只能在语法上嵌套在一个函数定义中出现，而不是嵌套在一个类定义中。\n",
    ">\n",
    "> 如果有一个表达式列表，它将被运算求值，否则就用 `None` 替换。\n",
    ">\n",
    "> [`return`](https://docs.python.org/3/reference/simple_stmts.html#return) 使当前函数调用以表达式列表（或 `None` ）作为返回值。\n",
    ">\n",
    "> 当 [`return`](https://docs.python.org/3/reference/simple_stmts.html#return) 将控制权从带有 [`finally`](https://docs.python.org/3/reference/compound_stmts.html#finally) 子句的 [`try`](https://docs.python.org/3/reference/compound_stmts.html#try) 语句中转出时，该 `finally` 子句在真正离开函数之前被执行。\n",
    ">\n",
    "> 在生成器函数中，[`return` ](https://docs.python.org/3/reference/simple_stmts.html#return)语句表示生成器已经完成，并将导致 [`StopIteration`](https://docs.python.org/3/library/exceptions.html#StopIteration) 被引发。返回的值（如果有的话）被用作构造 [`StopIteration`](https://docs.python.org/3/library/exceptions.html#StopIteration) 的参数，并成为 `StopIteration.value` 属性。\n",
    ">\n",
    "> 在异步生成器函数中，一个空的 [`return`](https://docs.python.org/3/reference/simple_stmts.html#return) 语句表示异步生成器已经完成，并将导致 [`StopAsyncIteration`](https://docs.python.org/3/library/exceptions.html#StopAsyncIteration) 被引发。非空的 `return` 语句是异步生成器函数的语法错误。"
   ]
  },
  {
   "cell_type": "markdown",
   "id": "c54e1d0e-2829-4c56-8d31-88c09716736d",
   "metadata": {},
   "source": [
    "## The `yield` statement"
   ]
  },
  {
   "cell_type": "raw",
   "id": "2d9bb1fb-b0de-4bbf-9463-52339c45449d",
   "metadata": {},
   "source": [
    "yield_stmt ::=  yield_expression"
   ]
  },
  {
   "cell_type": "markdown",
   "id": "5c711b56-3a36-4c0f-a21b-9aecc833d7a1",
   "metadata": {},
   "source": [
    "A [`yield`](https://docs.python.org/3/reference/simple_stmts.html#yield) statement is semantically equivalent to a [yield expression](https://docs.python.org/3/reference/expressions.html#yieldexpr). The yield statement can be used to omit the parentheses that would otherwise be required in the equivalent yield expression statement. For example, the yield statements\n",
    "\n",
    "> 一个 [`yield`](https://docs.python.org/3/reference/simple_stmts.html#yield) 语句在语义上等同于一个[yield表达式](https://docs.python.org/3/reference/expressions.html#yieldexpr)。yield语句可以用来省略括号，否则在等价的yield表达式语句中就需要括号。例如，yield语句"
   ]
  },
  {
   "cell_type": "raw",
   "id": "f81a090f-3ce8-47db-86aa-91245be219f3",
   "metadata": {},
   "source": [
    "yield <expr>\n",
    "yield from <expr>"
   ]
  },
  {
   "cell_type": "markdown",
   "id": "e5b52638-e9fb-4f68-91e1-25bcb361913d",
   "metadata": {},
   "source": [
    "are equivalent to the yield expression statements\n",
    "\n",
    "> 相当于yield表达式语句"
   ]
  },
  {
   "cell_type": "raw",
   "id": "05e60e87-c1b7-483f-941d-3de190e6e305",
   "metadata": {},
   "source": [
    "(yield <expr>)\n",
    "(yield from <expr>)"
   ]
  },
  {
   "cell_type": "markdown",
   "id": "6664795a-28aa-4c14-828b-42b0c47dd926",
   "metadata": {},
   "source": [
    "Yield expressions and statements are only used when defining a [generator](https://docs.python.org/3/glossary.html#term-generator) function, and are only used in the body of the generator function. Using yield in a function definition is sufficient to cause that definition to create a generator function instead of a normal function.\n",
    "\n",
    "For full details of [`yield`](https://docs.python.org/3/reference/simple_stmts.html#yield) semantics, refer to the [Yield expressions](https://docs.python.org/3/reference/expressions.html#yieldexpr) section.\n",
    "\n",
    "> Yield表达式和语句只在定义[generator](https://docs.python.org/3/glossary.html#term-generator)函数时使用，并且只在生成器函数的主体中使用。在一个函数定义中使用yield足以使该定义创建一个生成器函数，而不是一个普通函数。\n",
    ">\n",
    "> 关于[`yield`](https://docs.python.org/3/reference/simple_stmts.html#yield)语义的全部细节，请参考[Yield表达式](https://docs.python.org/3/reference/expressions.html#yieldexpr)章节。"
   ]
  },
  {
   "cell_type": "markdown",
   "id": "87c9cc57-7df7-49bf-9aff-62b4a78ffad6",
   "metadata": {},
   "source": [
    "## 7.8. The `raise` statement"
   ]
  },
  {
   "cell_type": "raw",
   "id": "a8f45dda-c7e7-4b0d-8721-ef31866f727b",
   "metadata": {},
   "source": [
    "raise_stmt ::=  \"raise\" [expression [\"from\" expression]]"
   ]
  },
  {
   "cell_type": "markdown",
   "id": "b1f113c0-7d06-43d9-b02b-be460c3efbf7",
   "metadata": {},
   "source": [
    "If no expressions are present, [`raise`](https://docs.python.org/3/reference/simple_stmts.html#raise) re-raises the exception that is currently being handled, which is also known as the *active exception*. If there isn’t currently an active exception, a [`RuntimeError`](https://docs.python.org/3/library/exceptions.html#RuntimeError) exception is raised indicating that this is an error.\n",
    "\n",
    "Otherwise, [`raise`](https://docs.python.org/3/reference/simple_stmts.html#raise) evaluates the first expression as the exception object. It must be either a subclass or an instance of [`BaseException`](https://docs.python.org/3/library/exceptions.html#BaseException). If it is a class, the exception instance will be obtained when needed by instantiating the class with no arguments.\n",
    "\n",
    "The *type* of the exception is the exception instance’s class, the *value* is the instance itself.\n",
    "\n",
    "> 如果没有表达式，[`raise`](https://docs.python.org/3/reference/simple_stmts.html#raise) 重新引发当前正在处理的异常，这也被称为*active exception*。如果当前没有一个活动的异常，就会引发一个 [`RuntimeError`](https://docs.python.org/3/library/exceptions.html#RuntimeError) 异常，表示这是一个错误。\n",
    ">\n",
    "> 否则，[`raise`](https://docs.python.org/3/reference/simple_stmts.html#raise) 将第一个表达式作为异常对象进行运算求值。它必须是 [`BaseException`](https://docs.python.org/3/library/exceptions.html#BaseException) 的一个子类或一个实例。如果它是一个类，当需要的时候，可以通过实例化这个类来获得异常实例，而不需要任何参数。\n",
    ">\n",
    "> 异常的*类型*是异常实例的类，*值*是实例本身。"
   ]
  },
  {
   "cell_type": "raw",
   "id": "4c6530ff-871b-41d8-b869-1ae56136d7c3",
   "metadata": {},
   "source": [
    "raise Exception(\"foo occurred\").with_traceback(tracebackobj)"
   ]
  },
  {
   "cell_type": "markdown",
   "id": "2b85e847-0cfb-4161-a637-7ceb61c96c8b",
   "metadata": {},
   "source": [
    "The `from` clause is used for exception chaining: if given, the second *expression* must be another exception class or instance. If the second expression is an exception instance, it will be attached to the raised exception as the `__cause__` attribute (which is writable). If the expression is an exception class, the class will be instantiated and the resulting exception instance will be attached to the raised exception as the `__cause__` attribute. If the raised exception is not handled, both exceptions will be printed:\n",
    "\n",
    "> `from` 子句用于异常链：如果给出，第二个*表达式*必须是另一个异常类或实例。如果第二个表达式是一个异常实例，那么它将作为 `__cause__` 属性（可写）附加到被引发的异常上。如果表达式是一个异常类，那么这个类将被实例化，产生的异常实例将作为 `__cause__` 属性附加到被引发的异常上。如果提出的异常没有被处理，两个异常都将被打印出来。"
   ]
  },
  {
   "cell_type": "code",
   "execution_count": 5,
   "id": "eaee1a1e-d6df-46c5-828b-f8f53f2b424a",
   "metadata": {},
   "outputs": [
    {
     "ename": "RuntimeError",
     "evalue": "Something bad happened",
     "output_type": "error",
     "traceback": [
      "\u001b[1;31m---------------------------------------------------------------------------\u001b[0m",
      "\u001b[1;31mZeroDivisionError\u001b[0m                         Traceback (most recent call last)",
      "Input \u001b[1;32mIn [5]\u001b[0m, in \u001b[0;36m<cell line: 1>\u001b[1;34m()\u001b[0m\n\u001b[0;32m      1\u001b[0m \u001b[38;5;28;01mtry\u001b[39;00m:\n\u001b[1;32m----> 2\u001b[0m     \u001b[38;5;28mprint\u001b[39m(\u001b[38;5;241;43m1\u001b[39;49m\u001b[43m \u001b[49m\u001b[38;5;241;43m/\u001b[39;49m\u001b[43m \u001b[49m\u001b[38;5;241;43m0\u001b[39;49m)\n\u001b[0;32m      3\u001b[0m \u001b[38;5;28;01mexcept\u001b[39;00m \u001b[38;5;167;01mException\u001b[39;00m \u001b[38;5;28;01mas\u001b[39;00m exc:\n",
      "\u001b[1;31mZeroDivisionError\u001b[0m: division by zero",
      "\nThe above exception was the direct cause of the following exception:\n",
      "\u001b[1;31mRuntimeError\u001b[0m                              Traceback (most recent call last)",
      "Input \u001b[1;32mIn [5]\u001b[0m, in \u001b[0;36m<cell line: 1>\u001b[1;34m()\u001b[0m\n\u001b[0;32m      2\u001b[0m     \u001b[38;5;28mprint\u001b[39m(\u001b[38;5;241m1\u001b[39m \u001b[38;5;241m/\u001b[39m \u001b[38;5;241m0\u001b[39m)\n\u001b[0;32m      3\u001b[0m \u001b[38;5;28;01mexcept\u001b[39;00m \u001b[38;5;167;01mException\u001b[39;00m \u001b[38;5;28;01mas\u001b[39;00m exc:\n\u001b[1;32m----> 4\u001b[0m     \u001b[38;5;28;01mraise\u001b[39;00m \u001b[38;5;167;01mRuntimeError\u001b[39;00m(\u001b[38;5;124m\"\u001b[39m\u001b[38;5;124mSomething bad happened\u001b[39m\u001b[38;5;124m\"\u001b[39m) \u001b[38;5;28;01mfrom\u001b[39;00m \u001b[38;5;21;01mexc\u001b[39;00m\n",
      "\u001b[1;31mRuntimeError\u001b[0m: Something bad happened"
     ]
    }
   ],
   "source": [
    "try:\n",
    "    print(1 / 0)\n",
    "except Exception as exc:\n",
    "    raise RuntimeError(\"Something bad happened\") from exc"
   ]
  },
  {
   "cell_type": "markdown",
   "id": "e01a2cc9-a72f-451a-aa54-a18551ba6616",
   "metadata": {},
   "source": [
    "A similar mechanism works implicitly if a new exception is raised when an exception is already being handled. An exception may be handled when an [`except`](https://docs.python.org/3/reference/compound_stmts.html#except) or [`finally`](https://docs.python.org/3/reference/compound_stmts.html#finally) clause, or a [`with`](https://docs.python.org/3/reference/compound_stmts.html#with) statement, is used. The previous exception is then attached as the new exception’s `__context__` attribute:\n",
    "\n",
    "> 如果一个新的异常在已经被处理的情况下被引发，类似的机制会隐含地发挥作用。当使用 [`except`](https://docs.python.org/3/reference/compound_stmts.html#except) 或[`finally` ](https://docs.python.org/3/reference/compound_stmts.html#finally)子句，或 [`with`](https://docs.python.org/3/reference/compound_stmts.html#with) 语句时，可以处理一个异常。之前的异常会被附在新的异常的 `__context__` 属性上。\n",
    "\n"
   ]
  },
  {
   "cell_type": "code",
   "execution_count": 11,
   "id": "42895edb-63b2-41c7-915c-a7cbbd1bd155",
   "metadata": {},
   "outputs": [
    {
     "ename": "RuntimeError",
     "evalue": "Something bab happened",
     "output_type": "error",
     "traceback": [
      "\u001b[1;31m---------------------------------------------------------------------------\u001b[0m",
      "\u001b[1;31mZeroDivisionError\u001b[0m                         Traceback (most recent call last)",
      "Input \u001b[1;32mIn [11]\u001b[0m, in \u001b[0;36m<cell line: 1>\u001b[1;34m()\u001b[0m\n\u001b[0;32m      1\u001b[0m \u001b[38;5;28;01mtry\u001b[39;00m:\n\u001b[1;32m----> 2\u001b[0m     \u001b[38;5;28mprint\u001b[39m(\u001b[38;5;241;43m1\u001b[39;49m\u001b[43m \u001b[49m\u001b[38;5;241;43m/\u001b[39;49m\u001b[43m \u001b[49m\u001b[38;5;241;43m0\u001b[39;49m)\n\u001b[0;32m      3\u001b[0m \u001b[38;5;28;01mexcept\u001b[39;00m:\n",
      "\u001b[1;31mZeroDivisionError\u001b[0m: division by zero",
      "\nDuring handling of the above exception, another exception occurred:\n",
      "\u001b[1;31mRuntimeError\u001b[0m                              Traceback (most recent call last)",
      "Input \u001b[1;32mIn [11]\u001b[0m, in \u001b[0;36m<cell line: 1>\u001b[1;34m()\u001b[0m\n\u001b[0;32m      2\u001b[0m     \u001b[38;5;28mprint\u001b[39m(\u001b[38;5;241m1\u001b[39m \u001b[38;5;241m/\u001b[39m \u001b[38;5;241m0\u001b[39m)\n\u001b[0;32m      3\u001b[0m \u001b[38;5;28;01mexcept\u001b[39;00m:\n\u001b[1;32m----> 4\u001b[0m     \u001b[38;5;28;01mraise\u001b[39;00m \u001b[38;5;167;01mRuntimeError\u001b[39;00m(\u001b[38;5;124m\"\u001b[39m\u001b[38;5;124mSomething bab happened\u001b[39m\u001b[38;5;124m\"\u001b[39m)\n",
      "\u001b[1;31mRuntimeError\u001b[0m: Something bab happened"
     ]
    }
   ],
   "source": [
    "try:\n",
    "    print(1 / 0)\n",
    "except:\n",
    "    raise RuntimeError(\"Something bab happened\")\n",
    "   "
   ]
  },
  {
   "cell_type": "markdown",
   "id": "109b50f4-a6da-477e-8227-d73c96ff24dc",
   "metadata": {},
   "source": [
    "Exception chaining can be explicitly suppressed by specifying [`None`](https://docs.python.org/3/library/constants.html#None) in the `from` clause:\n",
    "\n",
    "> 异常链可以通过在 `from` 子句中指定  [`None`](https://docs.python.org/3/library/constants.html#None) 来明确抑制："
   ]
  },
  {
   "cell_type": "code",
   "execution_count": 15,
   "id": "dfdcb234-8719-46af-96db-162a8b1df056",
   "metadata": {},
   "outputs": [
    {
     "ename": "RuntimeError",
     "evalue": "Something bab happened",
     "output_type": "error",
     "traceback": [
      "\u001b[1;31m---------------------------------------------------------------------------\u001b[0m",
      "\u001b[1;31mRuntimeError\u001b[0m                              Traceback (most recent call last)",
      "Input \u001b[1;32mIn [15]\u001b[0m, in \u001b[0;36m<cell line: 1>\u001b[1;34m()\u001b[0m\n\u001b[0;32m      2\u001b[0m     \u001b[38;5;28mprint\u001b[39m(\u001b[38;5;241m1\u001b[39m \u001b[38;5;241m/\u001b[39m \u001b[38;5;241m0\u001b[39m)\n\u001b[0;32m      3\u001b[0m \u001b[38;5;28;01mexcept\u001b[39;00m:\n\u001b[1;32m----> 4\u001b[0m     \u001b[38;5;28;01mraise\u001b[39;00m \u001b[38;5;167;01mRuntimeError\u001b[39;00m(\u001b[38;5;124m\"\u001b[39m\u001b[38;5;124mSomething bab happened\u001b[39m\u001b[38;5;124m\"\u001b[39m) \u001b[38;5;28;01mfrom\u001b[39;00m \u001b[38;5;28mNone\u001b[39m\n",
      "\u001b[1;31mRuntimeError\u001b[0m: Something bab happened"
     ]
    }
   ],
   "source": [
    "try:\n",
    "    print(1 / 0)\n",
    "except:\n",
    "    raise RuntimeError(\"Something bab happened\") from None"
   ]
  },
  {
   "cell_type": "markdown",
   "id": "d891b788-923e-4da5-8e35-f27209cfa2cd",
   "metadata": {},
   "source": [
    "Additional information on exceptions can be found in section [Exceptions](https://docs.python.org/3/reference/executionmodel.html#exceptions), and information about handling exceptions is in section [The try statement](https://docs.python.org/3/reference/compound_stmts.html#try).\n",
    "\n",
    "*Changed in version 3.3:* [`None`](https://docs.python.org/3/library/constants.html#None) is now permitted as `Y` in `raise X from Y`.\n",
    "\n",
    "*New in version 3.3:* The `__suppress_context__` attribute to suppress automatic display of the exception context.\n",
    "\n",
    "> 关于异常的其他信息可以在[Exceptions](https://docs.python.org/3/reference/executionmodel.html#exceptions)一节中找到，关于处理异常的信息在[The try statement](https://docs.python.org/3/reference/compound_stmts.html#try)一节中。\n",
    ">\n",
    "> *在3.3版本中改变了：* [`None`](https://docs.python.org/3/library/constants.html#None) 现在允许在 `raise X from Y` 中作为 `Y`。\n",
    ">\n",
    "> *3.3版新增：* `__suppress_context__ `属性可以抑制异常上下文的自动显示。"
   ]
  },
  {
   "cell_type": "markdown",
   "id": "acf945d5-dc7d-40fb-b9c9-e7ba89b1711d",
   "metadata": {},
   "source": [
    "##  7.9. The `break` statement"
   ]
  },
  {
   "cell_type": "raw",
   "id": "2cd76ea5-acf9-4981-8b15-9436c7efa15a",
   "metadata": {},
   "source": [
    "break_stmt ::=  \"break\""
   ]
  },
  {
   "cell_type": "markdown",
   "id": "f04ab6ff-bdcb-494e-8ea7-aec07f576729",
   "metadata": {},
   "source": [
    "[`break`](https://docs.python.org/3/reference/simple_stmts.html#break) may only occur syntactically nested in a [`for`](https://docs.python.org/3/reference/compound_stmts.html#for) or [`while`](https://docs.python.org/3/reference/compound_stmts.html#while) loop, but not nested in a function or class definition within that loop.\n",
    "\n",
    "It terminates the nearest enclosing loop, skipping the optional `else` clause if the loop has one.\n",
    "\n",
    "If a [`for`](https://docs.python.org/3/reference/compound_stmts.html#for) loop is terminated by [`break`](https://docs.python.org/3/reference/simple_stmts.html#break), the loop control target keeps its current value.\n",
    "\n",
    "When [`break`](https://docs.python.org/3/reference/simple_stmts.html#break) passes control out of a [`try`](https://docs.python.org/3/reference/compound_stmts.html#try) statement with a [`finally`](https://docs.python.org/3/reference/compound_stmts.html#finally) clause, that `finally` clause is executed before really leaving the loop.\n",
    "\n",
    "> [`break`](https://docs.python.org/3/reference/simple_stmts.html#break)只能在语法上嵌套在 [`for`](https://docs.python.org/3/reference/compound_stmts.html#for) 或 [`while`](https://docs.python.org/3/reference/compound_stmts.html#while) 循环中出现，但不能嵌套在该循环的函数或类定义中。\n",
    ">\n",
    "> 它终止最近的循环，跳过可选的 `else` 子句（如果该循环有的话）。\n",
    ">\n",
    "> 如果一个 [`for`](https://docs.python.org/3/reference/compound_stmts.html#for) 循环被 [`break`](https://docs.python.org/3/reference/simple_stmts.html#break) 终止，循环控制目标保持其当前值。\n",
    ">\n",
    "> 当 [`break`](https://docs.python.org/3/reference/simple_stmts.html#break) 将控制权从带有 [`finally`](https://docs.python.org/3/reference/compound_stmts.html#finally )子句的 [`try`](https://docs.python.org/3/reference/compound_stmts.html#try) 语句中传出时，该 `finally` 子句将在真正离开循环前被执行。"
   ]
  },
  {
   "cell_type": "markdown",
   "id": "bf6a7903-2fe9-4df7-969c-788eb0113042",
   "metadata": {},
   "source": [
    "## 7.10. The `continue` statement"
   ]
  },
  {
   "cell_type": "raw",
   "id": "73fb46df-7865-44ff-a614-a22a0d3b606b",
   "metadata": {},
   "source": [
    "continue_stmt ::=  \"continue\""
   ]
  },
  {
   "cell_type": "markdown",
   "id": "1b155983-68d2-4603-89dd-6cd906775620",
   "metadata": {},
   "source": [
    "[`continue`](https://docs.python.org/3/reference/simple_stmts.html#continue) may only occur syntactically nested in a [`for`](https://docs.python.org/3/reference/compound_stmts.html#for) or [`while`](https://docs.python.org/3/reference/compound_stmts.html#while) loop, but not nested in a function or class definition within that loop. It continues with the next cycle of the nearest enclosing loop.\n",
    "\n",
    "When [`continue`](https://docs.python.org/3/reference/simple_stmts.html#continue) passes control out of a [`try`](https://docs.python.org/3/reference/compound_stmts.html#try) statement with a [`finally`](https://docs.python.org/3/reference/compound_stmts.html#finally) clause, that `finally` clause is executed before really starting the next loop cycle.\n",
    "\n",
    "> [`continue`](https://docs.python.org/3/reference/simple_stmts.html#continue)只能在语法上嵌套在 [`for`](https://docs.python.org/3/reference/compound_stmts.html#for) 或 [`while`](https://docs.python.org/3/reference/compound_stmts.html#while) 循环中出现，但不能嵌套在该循环的函数或类定义中。它继续进行最近的闭合循环的下一个循环。\n",
    ">\n",
    "> 当[`continue`](https://docs.python.org/3/reference/simple_stmts.html#continue)将控制权从带有[`finally`](https://docs.python.org/3/reference/compound_stmts.html#finally)子句的[`try`](https://docs.python.org/3/reference/compound_stmts.html#try)语句中转出时，该`finally`子句在真正开始下一个循环周期之前被执行。"
   ]
  },
  {
   "cell_type": "markdown",
   "id": "bf0eb40c-2504-4509-9dd7-0833bca1bfba",
   "metadata": {},
   "source": [
    "## 7.11. The `import` statement"
   ]
  },
  {
   "cell_type": "raw",
   "id": "675a2e48-7168-425e-86fa-0b1b36abce0d",
   "metadata": {},
   "source": [
    "import_stmt     ::=  \"import\" module [\"as\" identifier] (\",\" module [\"as\" identifier])*\n",
    "                     | \"from\" relative_module \"import\" identifier [\"as\" identifier]\n",
    "                     (\",\" identifier [\"as\" identifier])*\n",
    "                     | \"from\" relative_module \"import\" \"(\" identifier [\"as\" identifier]\n",
    "                     (\",\" identifier [\"as\" identifier])* [\",\"] \")\"\n",
    "                     | \"from\" relative_module \"import\" \"*\"\n",
    "module          ::=  (identifier \".\")* identifier\n",
    "relative_module ::=  \".\"* module | \".\"+"
   ]
  },
  {
   "cell_type": "markdown",
   "id": "9102c106-ac49-4216-b6b1-f71aafdbc01e",
   "metadata": {},
   "source": [
    "The basic import statement (no [`from`](https://docs.python.org/3/reference/simple_stmts.html#from) clause) is executed in two steps:\n",
    "\n",
    "1. find a module, loading and initializing it if necessary\n",
    "2. define a name or names in the local namespace for the scope where the [`import`](https://docs.python.org/3/reference/simple_stmts.html#import) statement occurs.\n",
    "\n",
    "> 基本的导入语句（没有 [`from`](https://docs.python.org/3/reference/simple_stmts.html#from) 子句）分两步执行：\n",
    ">\n",
    "> 1. 找到一个模块，必要时加载并初始化它\n",
    "> 2.  在[`import`](https://docs.python.org/3/reference/simple_stmts.html#import) 语句发生的作用域内，在本地名称空间定义一个或多个名称。"
   ]
  },
  {
   "cell_type": "markdown",
   "id": "41f6a40f-b34b-4a64-85db-cd43b65bac2f",
   "metadata": {},
   "source": [
    "When the statement contains multiple clauses (separated by commas) the two steps are carried out separately for each clause, just as though the clauses had been separated out into individual import statements.\n",
    "\n",
    "The details of the first step, finding and loading modules are described in greater detail in the section on the [import system](https://docs.python.org/3/reference/import.html#importsystem), which also describes the various types of packages and modules that can be imported, as well as all the hooks that can be used to customize the import system. Note that failures in this step may indicate either that the module could not be located, *or* that an error occurred while initializing the module, which includes execution of the module’s code.\n",
    "\n",
    "> 当语句包含多个子句（用逗号隔开）时，这两个步骤对每个子句单独进行，就像子句被分离成单独的导入语句一样。\n",
    ">\n",
    "> 第一步，寻找和加载模块的细节在[import system](https://docs.python.org/3/reference/import.html#importsystem)一节中有更详细的描述，其中还描述了可以导入的各种类型的包和模块，以及所有可以用来定制导入系统的钩子。请注意，这一步的失败可能表明模块无法被定位，*或*在初始化模块时发生了错误，这包括执行模块的代码。"
   ]
  },
  {
   "cell_type": "markdown",
   "id": "22fce37c-48b3-4a81-94b4-5ebd4657526a",
   "metadata": {},
   "source": [
    "If the requested module is retrieved successfully, it will be made available in the local namespace in one of three ways:\n",
    "\n",
    "- If the module name is followed by `as`, then the name following `as` is bound directly to the imported module.\n",
    "- If no other name is specified, and the module being imported is a top level module, the module’s name is bound in the local namespace as a reference to the imported module\n",
    "- If the module being imported is *not* a top level module, then the name of the top level package that contains the module is bound in the local namespace as a reference to the top level package. The imported module must be accessed using its full qualified name rather than directly\n",
    "\n",
    "> 如果请求的模块被成功检索到，它将以三种方式之一在本地名称空间中可用：\n",
    ">\n",
    "> - 如果模块名称后面是 `as`，那么 `as` 后面的名称将直接与导入的模块绑定。\n",
    "> - 如果没有指定其他名称，并且被导入的模块是一个顶层模块，那么该模块的名称将在本地名称空间中作为对导入模块的引用被绑定。\n",
    "> - 如果被导入的模块*不*是顶层模块，那么包含该模块的顶层包的名称将作为对顶层包的引用绑定在本地名称空间中。对导入的模块的访问必须使用其全称，而不是直接使用"
   ]
  },
  {
   "cell_type": "markdown",
   "id": "c5778955-b0c9-4a2e-b2c3-cfe5b3f6bf2b",
   "metadata": {},
   "source": [
    "The [`from`](https://docs.python.org/3/reference/simple_stmts.html#from) form uses a slightly more complex process:\n",
    "\n",
    "1. find the module specified in the [`from`](https://docs.python.org/3/reference/simple_stmts.html#from) clause, loading and initializing it if necessary;\n",
    "2. for each of the identifiers specified in the [`import`](https://docs.python.org/3/reference/simple_stmts.html#import) clauses:\n",
    "   1. check if the imported module has an attribute by that name\n",
    "   2. if not, attempt to import a submodule with that name and then check the imported module again for that attribute\n",
    "   3. if the attribute is not found, [`ImportError`](https://docs.python.org/3/library/exceptions.html#ImportError) is raised.\n",
    "   4. otherwise, a reference to that value is stored in the local namespace, using the name in the `as` clause if it is present, otherwise using the attribute name\n",
    "\n",
    "> [`from`](https://docs.python.org/3/reference/simple_stmts.html#from) 形式使用一个稍微复杂的过程：\n",
    ">\n",
    "> 1. 找到 [`from`](https://docs.python.org/3/reference/simple_stmts.html#from) 子句中指定的模块，必要时加载并初始化它。\n",
    "> 2. 对于 [`import`](https://docs.python.org/3/reference/simple_stmts.html#import) 子句中指定的每个标识符：\n",
    ">    1. 检查导入的模块是否有该名称的属性\n",
    ">    2. 如果没有，尝试导入一个具有该名称的子模块，然后再次检查导入的模块是否具有该属性\n",
    ">    3. 如果没有找到该属性，[`ImportError`](https://docs.python.org/3/library/exceptions.html#ImportError)将被引发。\n",
    ">    4. 否则，该值的引用将被存储在本地名称空间，如果存在的话，使用 `as` 子句中的名称，否则使用属性名称"
   ]
  },
  {
   "cell_type": "markdown",
   "id": "05d4642c-bb09-40b0-9e1f-f9a297bec75b",
   "metadata": {},
   "source": [
    "Examples:"
   ]
  },
  {
   "cell_type": "raw",
   "id": "0c785b6c-cffc-468d-8dba-512e1f1edb40",
   "metadata": {},
   "source": [
    "import foo    # foo imported and bound locally\n",
    "import foo.bar.baz    # foo, foo.bar, and foo.bar.baz imported, foo bound locally\n",
    "import foo.bar.baz as fbb    # foo, foo.bar, and foo.bar.baz imported, foo.bar.baz bound as fbb\n",
    "from foo.bar import baz    # foo, foo.bar, and foo.bar.baz imported, foo.bar.baz bound as baz\n",
    "from foo import attr    # foo imported and foo.attr bound as attr"
   ]
  },
  {
   "cell_type": "markdown",
   "id": "d1b1eafe-ec27-4db2-adca-2158ae37d4cc",
   "metadata": {},
   "source": [
    "If the list of identifiers is replaced by a star (`'*'`), all public names defined in the module are bound in the local namespace for the scope where the [`import`](https://docs.python.org/3/reference/simple_stmts.html#import) statement occurs.\n",
    "\n",
    "The *public names* defined by a module are determined by checking the module’s namespace for a variable named `__all__`; if defined, it must be a sequence of strings which are names defined or imported by that module. The names given in `__all__` are all considered public and are required to exist. If `__all__` is not defined, the set of public names includes all names found in the module’s namespace which do not begin with an underscore character (`'_'`). `__all__` should contain the entire public API. It is intended to avoid accidentally exporting items that are not part of the API (such as library modules which were imported and used within the module).\n",
    "\n",
    "The wild card form of import — `from module import *` — is only allowed at the module level. Attempting to use it in class or function definitions will raise a [`SyntaxError`](https://docs.python.org/3/library/exceptions.html#SyntaxError).\n",
    "\n",
    "> 如果标识符列表被星号（`'*'`）取代，那么模块中定义的所有公共名称将被绑定在 [`import`](https://docs.python.org/3/reference/simple_stmts.html#import) 语句发生的作用域的本地名称空间中。\n",
    ">\n",
    "> 一个模块所定义的*公共名称*是通过检查该模块的名字空间是否有一个名为 `__all__` 的变量来确定的；如果定义了，它必须是一串字符串，这些字符串是该模块所定义或导入的名称。`__all__` 中给出的名字都被认为是公开的，并且必须存在。如果没有定义 `__all__`，公共名称的集合包括在模块的名称空间中发现的所有不以下划线字符（`'_'`）开头的名称。`__all__`应该包含整个公共 API。它的目的是避免意外地导出不属于API的项目（例如在模块中被导入并使用的库模块）。\n",
    ">\n",
    "> 导入的通配符形式 - `from module import *` - 只允许在模块级别使用。试图在类或函数定义中使用它将引发 [`SyntaxError`](https://docs.python.org/3/library/exceptions.html#SyntaxError)。"
   ]
  },
  {
   "cell_type": "markdown",
   "id": "a9ca4ca2-08be-4ec2-9b3e-0e762ca677a7",
   "metadata": {},
   "source": [
    "When specifying what module to import you do not have to specify the absolute name of the module. When a module or package is contained within another package it is possible to make a relative import within the same top package without having to mention the package name. By using leading dots in the specified module or package after [`from`](https://docs.python.org/3/reference/simple_stmts.html#from) you can specify how high to traverse up the current package hierarchy without specifying exact names. One leading dot means the current package where the module making the import exists. Two dots means up one package level. Three dots is up two levels, etc. So if you execute `from . import mod` from a module in the `pkg` package then you will end up importing `pkg.mod`. If you execute `from ..subpkg2 import mod` from within `pkg.subpkg1` you will import `pkg.subpkg2.mod`. The specification for relative imports is contained in the [Package Relative Imports](https://docs.python.org/3/reference/import.html#relativeimports) section.\n",
    "\n",
    "[`importlib.import_module()`](https://docs.python.org/3/library/importlib.html#importlib.import_module) is provided to support applications that determine dynamically the modules to be loaded.\n",
    "\n",
    "Raises an [auditing event](https://docs.python.org/3/library/sys.html#auditing) `import` with arguments `module`, `filename`, `sys.path`, `sys.meta_path`, `sys.path_hooks`.\n",
    "\n",
    "> 当指定要导入的模块时，你不需要指定模块的绝对名称。当一个模块或包(package)包含在另一个包中时，可以在同一个顶级包中进行相对导入，而不必提及包名。通过在 [`from`](https://docs.python.org/3/reference/simple_stmts.html#from) 后面的指定模块或包中使用前导点，你可以指定在当前包的层次结构中追溯到多高的位置，而不必指定确切的名称。一个前导点表示当前包中存在导入的模块。两个点表示上升一个包的层次。三个点表示上升两级，等等。因此，如果你从 `pkg` 包中的一个模块执行 `from . import mod`，那么你最终会导入`pkg.mod`。如果你在`pkg.subpkg1`中执行`from ...subpkg2 import mod`，你将导入 `pkg.subpkg2.mod`。相对导入的规范包含在 [Package Relative Imports](https://docs.python.org/3/reference/import.html#relativeimports) 部分。\n",
    ">\n",
    "> 提供 [`importlib.import_module()`](https://docs.python.org/3/library/importlib.html#importlib.import_module) 是为了支持动态确定要加载的模块的应用程序。\n",
    ">\n",
    "> 引发一个[auditing event](https://docs.python.org/3/library/sys.html#auditing) `import`，参数为 `module`, `filename`, `sys.path`, `sys.meta_path`, `sys.path_hooks`。"
   ]
  },
  {
   "cell_type": "markdown",
   "id": "6c01ad73-b6a3-44d8-9e74-1c0740fb9d0a",
   "metadata": {},
   "source": [
    "### 7.11.1. Future statements"
   ]
  },
  {
   "cell_type": "markdown",
   "id": "e61c1ab9-4b23-4771-8857-7d60ffdb0b2c",
   "metadata": {},
   "source": [
    "A *future statement* is a directive to the compiler that a particular module should be compiled using syntax or semantics that will be available in a specified future release of Python where the feature becomes standard.\n",
    "\n",
    "The future statement is intended to ease migration to future versions of Python that introduce incompatible changes to the language. It allows use of the new features on a per-module basis before the release in which the feature becomes standard.\n",
    "\n",
    "> 一个*未来语句*是给编译器的指令，即一个特定的模块应该使用语法或语义进行编译，该语法或语义将在指定的Python未来版本中出现，该特性将成为标准。\n",
    ">\n",
    "> future 语句的目的是为了方便迁移到未来的 Python 版本，这些版本对语言进行了不兼容的修改。它允许在该特性成为标准的版本之前，在每个模块的基础上使用新特性。"
   ]
  },
  {
   "cell_type": "raw",
   "id": "20ed2426-b002-406e-a29e-c2f71b837dea",
   "metadata": {},
   "source": [
    "future_stmt ::=  \"from\" \"__future__\" \"import\" feature [\"as\" identifier]\n",
    "                 (\",\" feature [\"as\" identifier])*\n",
    "                 | \"from\" \"__future__\" \"import\" \"(\" feature [\"as\" identifier]\n",
    "                 (\",\" feature [\"as\" identifier])* [\",\"] \")\"\n",
    "feature     ::=  identifier"
   ]
  },
  {
   "cell_type": "markdown",
   "id": "543df81d-506d-476b-a33b-69196f482b9b",
   "metadata": {},
   "source": [
    "A future statement must appear near the top of the module. The only lines that can appear before a future statement are:\n",
    "\n",
    "- the module docstring (if any),\n",
    "- comments,\n",
    "- blank lines, and\n",
    "- other future statements.\n",
    "\n",
    "> future语句必须出现在模块的顶部附近。唯一可以出现在future语句之前的行是：\n",
    ">\n",
    "> - 模块文档字符串（如果有的话）。\n",
    "> - 评论。\n",
    "> - 空行，以及\n",
    "> - 其他future语句。"
   ]
  },
  {
   "cell_type": "markdown",
   "id": "cd2c399e-1d5f-4687-bdcc-5b8eb6615391",
   "metadata": {},
   "source": [
    "The only feature that requires using the future statement is `annotations` (see [**PEP 563**](https://www.python.org/dev/peps/pep-0563)).\n",
    "\n",
    "All historical features enabled by the future statement are still recognized by Python 3. The list includes `absolute_import`, `division`, `generators`, `generator_stop`, `unicode_literals`, `print_function`, `nested_scopes` and `with_statement`. They are all redundant because they are always enabled, and only kept for backwards compatibility.\n",
    "\n",
    "A future statement is recognized and treated specially at compile time: Changes to the semantics of core constructs are often implemented by generating different code. It may even be the case that a new feature introduces new incompatible syntax (such as a new reserved word), in which case the compiler may need to parse the module differently. Such decisions cannot be pushed off until runtime.\n",
    "\n",
    "> 唯一需要使用future语句的特性是 `__annotation__`(见 [**PEP 563**](https://www.python.org/dev/peps/pep-0563)）。\n",
    ">\n",
    "> 所有由future语句启用的历史特性仍然可以被Python 3识别。这个列表包括 `absolute_import`、`division`、`generators`、`generator_stop`、`unicode_literals`、`print_function`、`nested_scopes `和 `with_statement`。它们都是多余的，因为它们总是被启用，保留它们只是为了向后兼容。\n",
    ">\n",
    "> future语句在编译时被识别并特别处理。对核心结构语义的改变通常是通过生成不同的代码来实现的。甚至可能出现这样的情况：一个新特性引入了新的不兼容的语法（比如一个新的保留字），在这种情况下，编译器可能需要对模块进行不同的解析。这样的决定不能推到运行时。"
   ]
  },
  {
   "cell_type": "markdown",
   "id": "04ae6099-dbbc-49bd-b98f-4d7527755efb",
   "metadata": {},
   "source": [
    "For any given release, the compiler knows which feature names have been defined, and raises a compile-time error if a future statement contains a feature not known to it.\n",
    "\n",
    "The direct runtime semantics are the same as for any import statement: there is a standard module [`__future__`](https://docs.python.org/3/library/__future__.html#module-__future__), described later, and it will be imported in the usual way at the time the future statement is executed.\n",
    "\n",
    "The interesting runtime semantics depend on the specific feature enabled by the future statement.\n",
    "\n",
    "Note that there is nothing special about the statement:\n",
    "\n",
    "> 对于任何给定的版本，编译器都知道哪些特性名称已经被定义，如果future语句包含一个它不知道的特性，就会引发一个编译时错误。\n",
    ">\n",
    "> 直接的运行时语义与任何导入语句相同：有一个标准模块 [`__future__`](https://docs.python.org/3/library/__future__.html#module-__future__)，在后面描述，它将在执行future语句时以通常的方式被导入。\n",
    ">\n",
    "> 有趣的运行时语义取决于future语句所启用的特定功能。\n",
    ">\n",
    "> 请注意，这个语句并没有什么特别之处："
   ]
  },
  {
   "cell_type": "raw",
   "id": "fc0b8dd5-d3a1-4a3a-bc55-2a4d05778489",
   "metadata": {},
   "source": [
    "import __future__ [as name]"
   ]
  },
  {
   "cell_type": "markdown",
   "id": "261bd1b2-681d-46bb-9e25-2d2e1b0fa193",
   "metadata": {},
   "source": [
    "That is not a future statement; it’s an ordinary import statement with no special semantics or syntax restrictions.\n",
    "\n",
    "> 这不是一个future语句；它是一个普通的导入语句，没有特殊的语义或语法限制。"
   ]
  },
  {
   "cell_type": "markdown",
   "id": "f8de89b7-4424-45c0-af0f-8fce4f71c686",
   "metadata": {},
   "source": [
    "Code compiled by calls to the built-in functions [`exec()`](https://docs.python.org/3/library/functions.html#exec) and [`compile()`](https://docs.python.org/3/library/functions.html#compile) that occur in a module `M` containing a future statement will, by default, use the new syntax or semantics associated with the future statement. This can be controlled by optional arguments to [`compile()`](https://docs.python.org/3/library/functions.html#compile) — see the documentation of that function for details.\n",
    "\n",
    "A future statement typed at an interactive interpreter prompt will take effect for the rest of the interpreter session. If an interpreter is started with the [`-i`](https://docs.python.org/3/using/cmdline.html#cmdoption-i) option, is passed a script name to execute, and the script includes a future statement, it will be in effect in the interactive session started after the script is executed.\n",
    "\n",
    "> 通过调用内置函数 [`exec()`](https://docs.python.org/3/library/functions.html#exec) 和 [`compile()`](https://docs.python.org/3/library/functions.html#compile) 编译的代码，如果发生在包含future语句的模块 `M` 中，将默认使用与future语句相关的新语法或语义。这可以通过 [`compile()`](https://docs.python.org/3/library/functions.html#compile) 的可选参数来控制--详情请参见该函数的文档。\n",
    ">\n",
    "> 在交互式解释器提示符下输入的future语句将在解释器会话的剩余会话内生效。如果一个解释器是用[`-i`](https://docs.python.org/3/using/cmdline.html#cmdoption-i)选项启动的，被传递了一个要执行的脚本名称，并且该脚本包括一个future语句，那么它将在执行该脚本后启动的交互式会话中生效。"
   ]
  },
  {
   "cell_type": "markdown",
   "id": "eb0a297c-6832-48e0-8726-5db7450d26fa",
   "metadata": {},
   "source": [
    "**See also:**\n",
    "\n",
    "- [**PEP 236**](https://www.python.org/dev/peps/pep-0236) - Back to the __future__\n",
    "\n",
    "  The original proposal for the __future__ mechanism."
   ]
  },
  {
   "cell_type": "markdown",
   "id": "851ad7fb-2238-43a9-ba51-73a6eb905c38",
   "metadata": {},
   "source": [
    "##  7.12. The `global` statement"
   ]
  },
  {
   "cell_type": "raw",
   "id": "9f073c19-b8f2-44d3-855f-8a4b4613ae53",
   "metadata": {},
   "source": [
    "global_stmt ::=  \"global\" identifier (\",\" identifier)*"
   ]
  },
  {
   "cell_type": "markdown",
   "id": "3c1b2e43-c60c-4d29-8b03-942dc8dad9ff",
   "metadata": {},
   "source": [
    "The [`global`](https://docs.python.org/3/reference/simple_stmts.html#global) statement is a declaration which holds for the entire current code block. It means that the listed identifiers are to be interpreted as globals. It would be impossible to assign to a global variable without `global`, although free variables may refer to globals without being declared global.\n",
    "\n",
    "Names listed in a [`global`](https://docs.python.org/3/reference/simple_stmts.html#global) statement must not be used in the same code block textually preceding that `global` statement.\n",
    "\n",
    "Names listed in a [`global`](https://docs.python.org/3/reference/simple_stmts.html#global) statement must not be defined as formal parameters, or as targets in [`with`](https://docs.python.org/3/reference/compound_stmts.html#with) statements or [`except`](https://docs.python.org/3/reference/compound_stmts.html#except) clauses, or in a [`for`](https://docs.python.org/3/reference/compound_stmts.html#for) target list, [`class`](https://docs.python.org/3/reference/compound_stmts.html#class) definition, function definition, [`import`](https://docs.python.org/3/reference/simple_stmts.html#import) statement, or variable annotation.\n",
    "\n",
    "> [`global`](https://docs.python.org/3/reference/simple_stmts.html#global) 语句是一个声明，对整个当前代码块都有效。它意味着列出的标识符将被解释为全局变量。如果没有 `global`，就不可能向全局变量赋值，尽管自由变量可以引用全局变量而不需要声明全局。\n",
    ">\n",
    "> 在 [`global`](https://docs.python.org/3/reference/simple_stmts.html#global) 语句中列出的名称，不得在该 `global` 语句之前的同一代码块中使用。\n",
    ">\n",
    "> 在 [`global`](https://docs.python.org/3/reference/simple_stmts.html#global) 语句中列出的名称不得被定义为形式参数，或在 [`with`](https://docs.python.org/3/reference/compound_stmts.html#with) 语句或 [`except`](https://docs.python.org/3/reference/compound_stmts.html#except) 子句中作为目标，或在[`for`](https://docs.python.org/3/reference/compound_stmts.html#for)目标列表、[`class`](https://docs.python.org/3/reference/compound_stmts.html#class)定义、函数定义、[`import`](https://docs.python.org/3/reference/simple_stmts.html#import)语句或变量注释中。"
   ]
  },
  {
   "cell_type": "markdown",
   "id": "e142b24c-5d2b-4504-9ee9-4acd9f7a37ee",
   "metadata": {},
   "source": [
    "**CPython implementation detail:** The current implementation does not enforce some of these restrictions, but programs should not abuse this freedom, as future implementations may enforce them or silently change the meaning of the program.\n",
    "\n",
    "**Programmer’s note:** [`global`](https://docs.python.org/3/reference/simple_stmts.html#global) is a directive to the parser. It applies only to code parsed at the same time as the `global` statement. In particular, a `global` statement contained in a string or code object supplied to the built-in [`exec()`](https://docs.python.org/3/library/functions.html#exec) function does not affect the code block *containing* the function call, and code contained in such a string is unaffected by `global` statements in the code containing the function call. The same applies to the [`eval()`](https://docs.python.org/3/library/functions.html#eval) and [`compile()`](https://docs.python.org/3/library/functions.html#compile) functions.\n",
    "\n",
    "> **CPython实现细节：**目前的实现没有强制执行其中的一些限制，但是程序不应该滥用这种自由，因为未来的实现可能会强制执行这些限制，或者默默地改变程序的意义。\n",
    ">\n",
    "> **程序员须知：** [`global`](https://docs.python.org/3/reference/simple_stmts.html#global) 是对解析器的指令。它只适用于与 `global` 语句同时被解析的代码。特别是，提供给内置 [`exec()`](https://docs.python.org/3/library/functions.html#exec )函数的字符串或代码对象中包含的 `global` 语句不会影响*包含*函数调用的代码块，而且这种字符串中包含的代码不受包含函数调用的代码中的 `global` 语句影响。这同样适用于 [`eval()`](https://docs.python.org/3/library/functions.html#eval) 和 [`compile()`](https://docs.python.org/3/library/functions.html#compile)  函数。"
   ]
  },
  {
   "cell_type": "markdown",
   "id": "a026fcbc-58a9-4b4b-994f-bea49cdc5bcc",
   "metadata": {},
   "source": [
    "## 7.13. The `nonlocal` statement"
   ]
  },
  {
   "cell_type": "raw",
   "id": "372e34f5-37e2-4ea3-b15f-c73579e8a6d6",
   "metadata": {},
   "source": [
    "nonlocal_stmt ::=  \"nonlocal\" identifier (\",\" identifier)*"
   ]
  },
  {
   "cell_type": "markdown",
   "id": "f5e4b54b-0feb-49c2-a18f-f1b035a8c32d",
   "metadata": {},
   "source": [
    "The [`nonlocal`](https://docs.python.org/3/reference/simple_stmts.html#nonlocal) statement causes the listed identifiers to refer to previously bound variables in the nearest enclosing scope excluding globals. This is important because the default behavior for binding is to search the local namespace first. The statement allows encapsulated code to rebind variables outside of the local scope besides the global (module) scope.\n",
    "\n",
    "Names listed in a [`nonlocal`](https://docs.python.org/3/reference/simple_stmts.html#nonlocal) statement, unlike those listed in a [`global`](https://docs.python.org/3/reference/simple_stmts.html#global) statement, must refer to pre-existing bindings in an enclosing scope (the scope in which a new binding should be created cannot be determined unambiguously).\n",
    "\n",
    "Names listed in a [`nonlocal`](https://docs.python.org/3/reference/simple_stmts.html#nonlocal) statement must not collide with pre-existing bindings in the local scope.\n",
    "\n",
    "> [`nonlocal`](https://docs.python.org/3/reference/simple_stmts.html#nonlocal) 语句会使列出的标识符指向最近的闭合作用域内的先前绑定的变量，不包括globals。这很重要，因为绑定的默认行为是首先搜索本地名称空间。该语句允许封装的代码在全局（模块）作用域之外的本地作用域内重新绑定变量。\n",
    ">\n",
    "> 在 [`nonlocal`](https://docs.python.org/3/reference/simple_stmts.html#nonlocal) 语句中列出的名字，与 [`global`](https://docs.python.org/3/reference/simple_stmts.html#global) 语句中列出的名字不同，必须是指闭合作用域内预先存在的绑定（不能明确地确定应该在哪个作用域内创建新的绑定）。\n",
    ">\n",
    "> 在 [`nonlocal`](https://docs.python.org/3/reference/simple_stmts.html#nonlocal) 语句中列出的名称不得与本地作用域内预先存在的绑定发生冲突。"
   ]
  },
  {
   "cell_type": "markdown",
   "id": "f251d4dc-c604-49f4-87bf-31002761859d",
   "metadata": {},
   "source": [
    "**See also:**\n",
    "\n",
    "- [**PEP 3104**](https://www.python.org/dev/peps/pep-3104) - Access to Names in Outer Scopes\n",
    "\n",
    "  The specification for the [`nonlocal`](https://docs.python.org/3/reference/simple_stmts.html#nonlocal) statement."
   ]
  }
 ],
 "metadata": {
  "kernelspec": {
   "display_name": "Python 3 (ipykernel)",
   "language": "python",
   "name": "python3"
  },
  "language_info": {
   "codemirror_mode": {
    "name": "ipython",
    "version": 3
   },
   "file_extension": ".py",
   "mimetype": "text/x-python",
   "name": "python",
   "nbconvert_exporter": "python",
   "pygments_lexer": "ipython3",
   "version": "3.10.4"
  }
 },
 "nbformat": 4,
 "nbformat_minor": 5
}
