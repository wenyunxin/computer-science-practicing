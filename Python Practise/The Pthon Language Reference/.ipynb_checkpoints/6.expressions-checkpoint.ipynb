{
 "cells": [
  {
   "cell_type": "code",
   "execution_count": 1,
   "id": "1fcc0cd4-b8d5-4d4e-993d-f68bf3f7a951",
   "metadata": {},
   "outputs": [],
   "source": [
    "from IPython.core.interactiveshell import InteractiveShell\n",
    "InteractiveShell.ast_node_interactivity = \"all\""
   ]
  },
  {
   "cell_type": "markdown",
   "id": "2e7c3faf-a8f3-43c1-832f-e6751dfd0025",
   "metadata": {},
   "source": [
    "This chapter explains the meaning of the elements of expressions in Python.\n",
    "\n",
    "**Syntax Notes:** In this and the following chapters, extended BNF notation will be used to describe syntax, not lexical analysis. When (one alternative of) a syntax rule has the form\n",
    "\n",
    "> 本章解释了 Python 中表达式元素的含义。\n",
    ">\n",
    "> **语法说明：**在这一章和后面的章节中，将使用扩展的BNF符号来描述语法，而不是词法分析。当一个语法规则的（一种选择）形式为"
   ]
  },
  {
   "cell_type": "code",
   "execution_count": 3,
   "id": "b75ec724-cf8e-477d-8b18-31d849692dcf",
   "metadata": {},
   "outputs": [
    {
     "ename": "SyntaxError",
     "evalue": "invalid syntax (360705083.py, line 1)",
     "output_type": "error",
     "traceback": [
      "\u001b[1;36m  Input \u001b[1;32mIn [3]\u001b[1;36m\u001b[0m\n\u001b[1;33m    name ::=  othername\u001b[0m\n\u001b[1;37m          ^\u001b[0m\n\u001b[1;31mSyntaxError\u001b[0m\u001b[1;31m:\u001b[0m invalid syntax\n"
     ]
    }
   ],
   "source": [
    "name ::=  othername"
   ]
  },
  {
   "cell_type": "markdown",
   "id": "2ddc1e41-9b32-4808-bf0f-95cf108d31c1",
   "metadata": {},
   "source": [
    "and no semantics are given, the semantics of this form of `name` are the same as for `othername`.\n",
    "\n",
    "> 并且没有给出语义，这种形式的 `name` 的语义与 `othername` 的语义相同。"
   ]
  },
  {
   "cell_type": "markdown",
   "id": "e81d66f2-d0f6-42a8-9687-d9070c4af8d9",
   "metadata": {},
   "source": [
    "## 6.1. Arithmetic conversions"
   ]
  },
  {
   "cell_type": "markdown",
   "id": "a1b635be-384d-45aa-94a2-9a06894dc276",
   "metadata": {},
   "source": [
    "When a description of an arithmetic operator below uses the phrase “the numeric arguments are converted to a common type”, this means that the operator implementation for built-in types works as follows:\n",
    "\n",
    "- If either argument is a complex number, the other is converted to complex;\n",
    "- otherwise, if either argument is a floating point number, the other is converted to floating point;\n",
    "- otherwise, both must be integers and no conversion is necessary.\n",
    "\n",
    "Some additional rules apply for certain operators (e.g., a string as a left argument to the ‘%’ operator). Extensions must define their own conversion behavior.\n",
    "\n",
    "> 当下面对一个算术运算符的描述使用 \"数字参数被转换为普通类型\"这一短语时，这意味着内置类型的运算符实现的工作方式如下：\n",
    ">\n",
    "> - 如果任何一个参数是复数，另一个参数被转换为复数。\n",
    "> - 否则，如果任何一个参数是浮点数，另一个就转换为浮点数。\n",
    "> - 否则，两个都必须是整数，不需要转换。\n",
    ">\n",
    "> 一些额外的规则适用于某些运算符（例如，一个字符串作为'%'运算符的左边参数）。扩展必须定义他们自己的转换行为。"
   ]
  },
  {
   "cell_type": "markdown",
   "id": "e01d9331-d134-41f9-af5e-0915a68c8087",
   "metadata": {},
   "source": [
    "## 6.2. Atoms"
   ]
  },
  {
   "cell_type": "markdown",
   "id": "71bcdf8f-ead8-4892-a6c4-cae8ac288640",
   "metadata": {},
   "source": [
    "Atoms are the most basic elements of expressions. The simplest atoms are identifiers or literals. Forms enclosed in parentheses, brackets or braces are also categorized syntactically as atoms. The syntax for atoms is:\n",
    "\n",
    "> 原子是表达式的最基本元素。最简单的原子是标识符或字元。被括号、大括号或小括号包围的形式在语法上也被归类为原子。原子的语法是："
   ]
  },
  {
   "cell_type": "raw",
   "id": "8de5e396-d2b5-49a4-be47-cfec1ed5d375",
   "metadata": {},
   "source": [
    "atom      ::=  identifier | literal | enclosure\n",
    "enclosure ::=  parenth_form | list_display | dict_display | set_display\n",
    "               | generator_expression | yield_atom"
   ]
  },
  {
   "cell_type": "markdown",
   "id": "a72f6781-99e5-4dcd-8b18-b1c9df01485d",
   "metadata": {},
   "source": [
    "### 6.2.1. Identifiers (Names)"
   ]
  },
  {
   "cell_type": "markdown",
   "id": "12e64288-5d58-45de-8c50-f520646bae1d",
   "metadata": {},
   "source": [
    "An identifier occurring as an atom is a name. See section [Identifiers and keywords](https://docs.python.org/3/reference/lexical_analysis.html#identifiers) for lexical definition and section [Naming and binding](https://docs.python.org/3/reference/executionmodel.html#naming) for documentation of naming and binding.\n",
    "\n",
    "When the name is bound to an object, evaluation of the atom yields that object. When a name is not bound, an attempt to evaluate it raises a [`NameError`](https://docs.python.org/3/library/exceptions.html#NameError) exception.\n",
    "\n",
    "**Private name mangling:** When an identifier that textually occurs in a class definition begins with two or more underscore characters and does not end in two or more underscores, it is considered a *private name* of that class. Private names are transformed to a longer form before code is generated for them. The transformation inserts the class name, with leading underscores removed and a single underscore inserted, in front of the name. For example, the identifier `__spam` occurring in a class named `Ham` will be transformed to `_Ham__spam`. This transformation is independent of the syntactical context in which the identifier is used. If the transformed name is extremely long (longer than 255 characters), implementation defined truncation may happen. If the class name consists only of underscores, no transformation is done.\n",
    "\n",
    "> 作为一个原子出现的标识符是一个名字。词法定义见[标识符和关键字](https://docs.python.org/3/reference/lexical_analysis.html#identifiers)一节，命名和绑定的文档见[命名和绑定](https://docs.python.org/3/reference/executionmodel.html#naming)。\n",
    ">\n",
    "> 当名字被绑定到一个对象时，对原子的运算求值会产生该对象。当一个名字没有被绑定时，试图对其进行运算求值会引发 [`NameError`](https://docs.python.org/3/library/exceptions.html#NameError) 异常。\n",
    ">\n",
    "> **私有名称的混用：**当一个文本出现在类定义中的标识符以两个或多个下划线字符开始，而不是以两个或多个下划线结束时，它被认为是该类的一个*私有名称*。在为它们生成代码之前，私有名称会被转换为一个较长的形式。这种转换在名字前面插入类的名字，去掉前面的下划线，插入一个下划线。例如，在一个名为 `Ham` 的类中出现的标识符`__spam`将被转换为`_Ham__spam`。这种转换与标识符使用的语法环境无关。如果转换后的名称非常长（超过255个字符），可能会发生执行定义的截断。如果类的名称只由下划线组成，则不做任何转换。"
   ]
  },
  {
   "cell_type": "markdown",
   "id": "5233f48e-88b5-4828-a0ee-47bf5e795db9",
   "metadata": {},
   "source": [
    "### 6.2.2. Literals"
   ]
  },
  {
   "cell_type": "markdown",
   "id": "258db8ff-f99e-4093-8ff4-dcea29fddb32",
   "metadata": {},
   "source": [
    "Python supports string and bytes literals and various numeric literals:\n",
    "\n",
    "> Python支持字符串和字节字元以及各种数字字元："
   ]
  },
  {
   "cell_type": "code",
   "execution_count": 3,
   "id": "0febb59b-f49f-4fd2-80fd-7be0ba396e4c",
   "metadata": {},
   "outputs": [
    {
     "ename": "SyntaxError",
     "evalue": "invalid syntax (2881672812.py, line 1)",
     "output_type": "error",
     "traceback": [
      "\u001b[1;36m  Input \u001b[1;32mIn [3]\u001b[1;36m\u001b[0m\n\u001b[1;33m    literal ::=  stringliteral | bytesliteral\u001b[0m\n\u001b[1;37m             ^\u001b[0m\n\u001b[1;31mSyntaxError\u001b[0m\u001b[1;31m:\u001b[0m invalid syntax\n"
     ]
    }
   ],
   "source": [
    "literal ::=  stringliteral | bytesliteral\n",
    "             | integer | floatnumber | imagnumber"
   ]
  },
  {
   "cell_type": "markdown",
   "id": "09efc3a9-c00e-4017-971d-bc552bfdd13b",
   "metadata": {},
   "source": [
    "Evaluation of a literal yields an object of the given type (string, bytes, integer, floating point number, complex number) with the given value. The value may be approximated in the case of floating point and imaginary (complex) literals. See section [Literals](https://docs.python.org/3/reference/lexical_analysis.html#literals) for details.\n",
    "\n",
    "All literals correspond to immutable data types, and hence the object’s identity is less important than its value. Multiple evaluations of literals with the same value (either the same occurrence in the program text or a different occurrence) may obtain the same object or a different object with the same value.\n",
    "\n",
    "> 对字面符号的运算求值的会产生一个给定类型（字符串、字节、整数、浮点数、复数）的对象，其值为给定值。对于浮点数和虚数（复数）字面符号，其值可能是近似的。详见[字面符号](https://docs.python.org/3/reference/lexical_analysis.html#literals)一节。\n",
    ">\n",
    "> 所有的字面符号都对应于不可变的数据类型，因此对象的身份不如它的值重要。对具有相同值的字面符号进行多次运算求值（无论是程序文本中的相同出现还是不同出现），都可能获得相同的对象或具有相同值的不同对象。"
   ]
  },
  {
   "cell_type": "markdown",
   "id": "dc7888ec-92b3-48a7-85f7-a55f9be8f983",
   "metadata": {},
   "source": [
    "### 6.2.3. Parenthesized forms"
   ]
  },
  {
   "cell_type": "markdown",
   "id": "b3b16d76-734d-42a6-b7b1-1aeeaa6f333f",
   "metadata": {},
   "source": [
    "A parenthesized form is an optional expression list enclosed in parentheses:\n",
    "\n",
    "> 小括号形式是一个用小括号括起来的可选表达式列表："
   ]
  },
  {
   "cell_type": "code",
   "execution_count": 4,
   "id": "1be8c822-0650-4cab-95d6-649bfcb51794",
   "metadata": {},
   "outputs": [
    {
     "ename": "SyntaxError",
     "evalue": "invalid syntax (3489637264.py, line 1)",
     "output_type": "error",
     "traceback": [
      "\u001b[1;36m  Input \u001b[1;32mIn [4]\u001b[1;36m\u001b[0m\n\u001b[1;33m    parenth_form ::=  \"(\" [starred_expression] \")\"\u001b[0m\n\u001b[1;37m                  ^\u001b[0m\n\u001b[1;31mSyntaxError\u001b[0m\u001b[1;31m:\u001b[0m invalid syntax\n"
     ]
    }
   ],
   "source": [
    "parenth_form ::=  \"(\" [starred_expression] \")\""
   ]
  },
  {
   "cell_type": "markdown",
   "id": "95240c5d-62b8-4201-a253-0f853ef668e7",
   "metadata": {},
   "source": [
    "A parenthesized expression list yields whatever that expression list yields: if the list contains at least one comma, it yields a tuple; otherwise, it yields the single expression that makes up the expression list.\n",
    "\n",
    "An empty pair of parentheses yields an empty tuple object. Since tuples are immutable, the same rules as for literals apply (i.e., two occurrences of the empty tuple may or may not yield the same object).\n",
    "\n",
    "Note that tuples are not formed by the parentheses, but rather by use of the comma operator. The exception is the empty tuple, for which parentheses *are* required — allowing unparenthesized “nothing” in expressions would cause ambiguities and allow common typos to pass uncaught.\n",
    "\n",
    "> 一个带括号的表达式列表产生任何该表达式列表的结果：如果该列表至少包含一个逗号，它产生一个元组；否则，它产生构成该表达式列表的单个表达式。\n",
    ">\n",
    "> 一对空的括号会产生一个空的元组对象。因为元组是不可变的，所以适用与字面符号相同的规则（也就是说，空元组的两次出现可能产生也可能不产生相同的对象）。\n",
    ">\n",
    "> 注意，元组不是由括号形成的，而是通过使用逗号运算符形成的。空元组是个例外，对于它来说，括号*是*必须的--允许表达式中没有括号的 \"nothing\"会导致歧义，并允许常见的打字错误不被发现。"
   ]
  },
  {
   "cell_type": "code",
   "execution_count": 13,
   "id": "6c0dc255-d89d-4773-97dc-a84bbe13df22",
   "metadata": {},
   "outputs": [
    {
     "data": {
      "text/plain": [
       "()"
      ]
     },
     "execution_count": 13,
     "metadata": {},
     "output_type": "execute_result"
    },
    {
     "data": {
      "text/plain": [
       "tuple"
      ]
     },
     "execution_count": 13,
     "metadata": {},
     "output_type": "execute_result"
    }
   ],
   "source": [
    "T = ()\n",
    "T\n",
    "type(T)"
   ]
  },
  {
   "cell_type": "markdown",
   "id": "f8f1d1aa-956b-41ff-9375-dfb712c95ae0",
   "metadata": {},
   "source": [
    "### 6.2.4. Displays for lists, sets and dictionaries"
   ]
  },
  {
   "cell_type": "markdown",
   "id": "e8a8067e-3131-4f1f-a376-9b30db47b310",
   "metadata": {},
   "source": [
    "For constructing a list, a set or a dictionary Python provides special syntax called “displays”, each of them in two flavors:\n",
    "\n",
    "- either the container contents are listed explicitly, or\n",
    "- they are computed via a set of looping and filtering instructions, called a *comprehension*.\n",
    "\n",
    "Common syntax elements for comprehensions are:\n",
    "\n",
    "> 为了构造一个列表、一个集合或一个字典，Python 提供了特殊的语法，称为 \"displays\"，它们各有两种风格：\n",
    ">\n",
    "> - 要么明确地列出容器的内容，要么\n",
    "> - 它们是通过一组循环和过滤指令来计算的，称为 *解析式*。\n",
    ">\n",
    "> 解析式的常见语法元素是："
   ]
  },
  {
   "cell_type": "raw",
   "id": "8d1acde5-f010-46cd-ab08-56e7471fefe4",
   "metadata": {},
   "source": [
    "comprehension ::=  assignment_expression comp_for\n",
    "comp_for      ::=  [\"async\"] \"for\" target_list \"in\" or_test [comp_iter]\n",
    "comp_iter     ::=  comp_for | comp_if\n",
    "comp_if       ::=  \"if\" or_test [comp_iter]"
   ]
  },
  {
   "cell_type": "markdown",
   "id": "e56bc886-8c34-4092-aa1c-a147e75b2f01",
   "metadata": {},
   "source": [
    "The comprehension consists of a single expression followed by at least one `for` clause and zero or more `for` or `if` clauses. In this case, the elements of the new container are those that would be produced by considering each of the `for` or `if` clauses a block, nesting from left to right, and evaluating the expression to produce an element each time the innermost block is reached.\n",
    "\n",
    "However, aside from the iterable expression in the leftmost `for` clause, the comprehension is executed in a separate implicitly nested scope. This ensures that names assigned to in the target list don’t “leak” into the enclosing scope.\n",
    "\n",
    "The iterable expression in the leftmost `for` clause is evaluated directly in the enclosing scope and then passed as an argument to the implicitly nested scope. Subsequent `for` clauses and any filter condition in the leftmost `for` clause cannot be evaluated in the enclosing scope as they may depend on the values obtained from the leftmost iterable. For example: `[x*y for x in range(10) for y in range(x, x+10)]`.\n",
    "\n",
    "To ensure the comprehension always results in a container of the appropriate type, `yield` and `yield from` expressions are prohibited in the implicitly nested scope.\n",
    "\n",
    "Since Python 3.6, in an [`async def`](https://docs.python.org/3/reference/compound_stmts.html#async-def) function, an `async for` clause may be used to iterate over a [asynchronous iterator](https://docs.python.org/3/glossary.html#term-asynchronous-iterator). A comprehension in an `async def` function may consist of either a `for` or `async for` clause following the leading expression, may contain additional `for` or `async for` clauses, and may also use [`await`](https://docs.python.org/3/reference/expressions.html#await) expressions. If a comprehension contains either `async for` clauses or `await` expressions it is called an *asynchronous comprehension*. An asynchronous comprehension may suspend the execution of the coroutine function in which it appears. See also [**PEP 530**](https://www.python.org/dev/peps/pep-0530).\n",
    "\n",
    "*New in version 3.6:* Asynchronous comprehensions were introduced.\n",
    "\n",
    "*Changed in version 3.8:* `yield` and `yield from` prohibited in the implicitly nested scope.\n",
    "\n",
    "> 解析式由一个表达式组成，后面至少有一个 `for` 子句和零个或多个 `for` 或 `if` 子句。在这种情况下，新容器的元素是那些通过将每个 `for` 或 `if` 子句视为一个块，从左到右嵌套，并在每次到达最里面的块时运算求值表达式以产生一个元素所产生的元素。\n",
    ">\n",
    "> 然而，除了最左边的 `for` 子句中的可迭代表达式外，解析式是在一个单独的隐式嵌套作用域内执行的。这确保了在目标列表中分配的名字不会 \"泄漏\"到闭合的作用域中。\n",
    ">\n",
    "> 最左边的 `for` 子句中的可迭代表达式直接在闭合的作用域中被运算求值，然后作为参数传递给隐式嵌套的作用域。后续的 `for` 子句和最左边的 `for` 子句中的任何过滤条件不能在闭合的作用域中被运算求值，因为它们可能依赖于从最左边的可迭代获取的值。例如：`[x*y for x in range(10) for y in range(x, x+10)]`。\n",
    ">\n",
    "> 为了确保解析式的结果总是适当类型的容器，在隐式嵌套的作用域内禁止使用 `yield` 和 `yield from` 表达式。\n",
    ">\n",
    "> 从Python 3.6开始，在一个 [`async def`](https://docs.python.org/3/reference/compound_stmts.html#async-def) 函数中，可以使用 `async for` 子句来迭代一个[异步迭代器](https://docs.python.org/3/glossary.html#term-asynchronous-iterator)。在 `async def` 函数中的解析式可以由一个 `for` 或 `async for` 子句组成，紧跟在前导表达式之后，可以包含额外的 `for` 或 `async for` 子句，也可以使用[`await`](https://docs.python.org/3/reference/expressions.html#await) 表达式。如果一个解析式包含 `async for` 子句或`await`表达式，它就被称为*异步解析式*。一个异步解析式可能会暂停执行它出现在其中的轮回函数。另见[**PEP 530**](https://www.python.org/dev/peps/pep-0530)。\n",
    ">\n",
    "> *在3.6版本中新增：*引入了异步解析式。\n",
    ">\n",
    "> *在3.8版中改变了：*禁止在隐式嵌套的范围内使用 `yield` 和 `yield from`。"
   ]
  },
  {
   "cell_type": "code",
   "execution_count": 4,
   "id": "992080cf-e8c2-4729-b1fe-bfab22d5ee7f",
   "metadata": {
    "collapsed": true,
    "jupyter": {
     "outputs_hidden": true
    },
    "tags": []
   },
   "outputs": [
    {
     "data": {
      "text/plain": [
       "[0,\n",
       " 0,\n",
       " 0,\n",
       " 0,\n",
       " 0,\n",
       " 0,\n",
       " 0,\n",
       " 0,\n",
       " 0,\n",
       " 0,\n",
       " 1,\n",
       " 2,\n",
       " 3,\n",
       " 4,\n",
       " 5,\n",
       " 6,\n",
       " 7,\n",
       " 8,\n",
       " 9,\n",
       " 10,\n",
       " 4,\n",
       " 6,\n",
       " 8,\n",
       " 10,\n",
       " 12,\n",
       " 14,\n",
       " 16,\n",
       " 18,\n",
       " 20,\n",
       " 22,\n",
       " 9,\n",
       " 12,\n",
       " 15,\n",
       " 18,\n",
       " 21,\n",
       " 24,\n",
       " 27,\n",
       " 30,\n",
       " 33,\n",
       " 36,\n",
       " 16,\n",
       " 20,\n",
       " 24,\n",
       " 28,\n",
       " 32,\n",
       " 36,\n",
       " 40,\n",
       " 44,\n",
       " 48,\n",
       " 52,\n",
       " 25,\n",
       " 30,\n",
       " 35,\n",
       " 40,\n",
       " 45,\n",
       " 50,\n",
       " 55,\n",
       " 60,\n",
       " 65,\n",
       " 70,\n",
       " 36,\n",
       " 42,\n",
       " 48,\n",
       " 54,\n",
       " 60,\n",
       " 66,\n",
       " 72,\n",
       " 78,\n",
       " 84,\n",
       " 90,\n",
       " 49,\n",
       " 56,\n",
       " 63,\n",
       " 70,\n",
       " 77,\n",
       " 84,\n",
       " 91,\n",
       " 98,\n",
       " 105,\n",
       " 112,\n",
       " 64,\n",
       " 72,\n",
       " 80,\n",
       " 88,\n",
       " 96,\n",
       " 104,\n",
       " 112,\n",
       " 120,\n",
       " 128,\n",
       " 136,\n",
       " 81,\n",
       " 90,\n",
       " 99,\n",
       " 108,\n",
       " 117,\n",
       " 126,\n",
       " 135,\n",
       " 144,\n",
       " 153,\n",
       " 162]"
      ]
     },
     "execution_count": 4,
     "metadata": {},
     "output_type": "execute_result"
    },
    {
     "data": {
      "text/plain": [
       "list"
      ]
     },
     "execution_count": 4,
     "metadata": {},
     "output_type": "execute_result"
    }
   ],
   "source": [
    "L = [x*y for x in range(10) for y in range(x, x + 10)]\n",
    "L\n",
    "type(L)"
   ]
  },
  {
   "cell_type": "markdown",
   "id": "cd44b9b1-ea6f-4478-ba87-f7d018e29b7f",
   "metadata": {},
   "source": [
    "### 6.2.5. List displays"
   ]
  },
  {
   "cell_type": "markdown",
   "id": "b606b44e-f479-41c8-858e-ac8322667a52",
   "metadata": {},
   "source": [
    "A list display is a possibly empty series of expressions enclosed in square brackets:\n",
    "\n",
    "> 列表显示是一系列用方括号括起来的可能是空的表达式："
   ]
  },
  {
   "cell_type": "raw",
   "id": "4c0b8131-c01d-4455-bd82-c8174839b104",
   "metadata": {},
   "source": [
    "list_display ::=  \"[\" [starred_list | comprehension] \"]\""
   ]
  },
  {
   "cell_type": "markdown",
   "id": "a320759f-d6d9-453b-8b2f-0ce18e88cccf",
   "metadata": {},
   "source": [
    "A list display yields a new list object, the contents being specified by either a list of expressions or a comprehension. When a comma-separated list of expressions is supplied, its elements are evaluated from left to right and placed into the list object in that order. When a comprehension is supplied, the list is constructed from the elements resulting from the comprehension.\n",
    "\n",
    "> 列表显示会产生一个新的列表对象，其内容由表达式列表或解析式指定。当提供逗号分隔的表达式列表时，其元素会从左到右被运算求值，并按顺序放入列表对象中。当提供一个解析式时，列表是由解析式产生的元素构建的。"
   ]
  },
  {
   "cell_type": "markdown",
   "id": "95a56213-c4b3-4b05-b44f-64e895037384",
   "metadata": {},
   "source": [
    "### 6.2.6. Set displays"
   ]
  },
  {
   "cell_type": "markdown",
   "id": "4eabf440-61bf-475b-aa2e-6425cacc7b6f",
   "metadata": {},
   "source": [
    "A set display is denoted by curly braces and distinguishable from dictionary displays by the lack of colons separating keys and values:\n",
    "\n",
    "> 集合显示用大括号表示，并与字典显示区分开来，因为键和值之间没有冒号："
   ]
  },
  {
   "cell_type": "raw",
   "id": "e9f97a23-2d2e-4861-b0b2-f7dd51b72c87",
   "metadata": {},
   "source": [
    "set_display ::=  \"{\" (starred_list | comprehension) \"}\""
   ]
  },
  {
   "cell_type": "markdown",
   "id": "cf22807e-88ae-4807-a05c-efd0cb22bdb4",
   "metadata": {},
   "source": [
    "A set display yields a new mutable set object, the contents being specified by either a sequence of expressions or a comprehension. When a comma-separated list of expressions is supplied, its elements are evaluated from left to right and added to the set object. When a comprehension is supplied, the set is constructed from the elements resulting from the comprehension.\n",
    "\n",
    "An empty set cannot be constructed with `{}`; this literal constructs an empty dictionary.\n",
    "\n",
    "> 集合显示产生一个新的可变集合对象，其内容由表达式序列或解析式指定。当提供一个逗号分隔的表达式列表时，其元素会从左到右被运算求值并添加到集合对象中。当提供一个解析式时，集合是由解析式产生的元素构造的。\n",
    ">\n",
    "> 空集不能用 `{}` 来构造；这个字面意思是构造一个空字典。"
   ]
  },
  {
   "cell_type": "markdown",
   "id": "51263781-01aa-4a88-a491-91e9a21db03e",
   "metadata": {},
   "source": [
    "### 6.2.7. Dictionary displays"
   ]
  },
  {
   "cell_type": "markdown",
   "id": "b52349fe-a49a-45fb-9cd3-f00c7f108e30",
   "metadata": {},
   "source": [
    "A dictionary display is a possibly empty series of key/datum pairs enclosed in curly braces:\n",
    "\n",
    "> 字典显示是一系列可能是空的、用大括号括起来的键/数据对："
   ]
  },
  {
   "cell_type": "raw",
   "id": "4ab04275-1643-485e-890a-fcdf05c5a853",
   "metadata": {},
   "source": [
    "dict_display       ::=  \"{\" [key_datum_list | dict_comprehension] \"}\"\n",
    "key_datum_list     ::=  key_datum (\",\" key_datum)* [\",\"]\n",
    "key_datum          ::=  expression \":\" expression | \"**\" or_expr\n",
    "dict_comprehension ::=  expression \":\" expression comp_for"
   ]
  },
  {
   "cell_type": "markdown",
   "id": "17446c5a-9a77-49d9-8970-1d275740368d",
   "metadata": {},
   "source": [
    "A dictionary display yields a new dictionary object.\n",
    "\n",
    "If a comma-separated sequence of key/datum pairs is given, they are evaluated from left to right to define the entries of the dictionary: each key object is used as a key into the dictionary to store the corresponding datum. This means that you can specify the same key multiple times in the key/datum list, and the final dictionary’s value for that key will be the last one given.\n",
    "\n",
    "A double asterisk `**` denotes *dictionary unpacking*. Its operand must be a [mapping](https://docs.python.org/3/glossary.html#term-mapping). Each mapping item is added to the new dictionary. Later values replace values already set by earlier key/datum pairs and earlier dictionary unpackings.\n",
    "\n",
    "*New in version 3.5:* Unpacking into dictionary displays, originally proposed by [**PEP 448**](https://www.python.org/dev/peps/pep-0448).\n",
    "\n",
    "A dict comprehension, in contrast to list and set comprehensions, needs two expressions separated with a colon followed by the usual “for” and “if” clauses. When the comprehension is run, the resulting key and value elements are inserted in the new dictionary in the order they are produced.\n",
    "\n",
    "Restrictions on the types of the key values are listed earlier in section [The standard type hierarchy](https://docs.python.org/3/reference/datamodel.html#types). (To summarize, the key type should be [hashable](https://docs.python.org/3/glossary.html#term-hashable), which excludes all mutable objects.) Clashes between duplicate keys are not detected; the last datum (textually rightmost in the display) stored for a given key value prevails.\n",
    "\n",
    "*Changed in version 3.8:* Prior to Python 3.8, in dict comprehensions, the evaluation order of key and value was not well-defined. In CPython, the value was evaluated before the key. Starting with 3.8, the key is evaluated before the value, as proposed by [**PEP 572**](https://www.python.org/dev/peps/pep-0572).\n",
    "\n",
    "> 一个字典显示会产生一个新的字典对象。\n",
    ">\n",
    "> 如果给了一个逗号分隔的 key/datum 对序列，它们会从左到右被运算求值，以定义字典的条目：每个 key 对象被用作字典中的一个键，以存储相应的数据。这意味着你可以在 key/datum 列表中多次指定同一个 key，最后字典中这个 key 的值将是最后给出的那个。\n",
    ">\n",
    "> 一个双星号 `**` 表示*字典解包*。它的操作数必须是一个 [mapping](https://docs.python.org/3/glossary.html#term-mapping)。每个映射项都被添加到新的字典中。后面的值会替换已经被前面的 key/datum 对和前面的字典解包所设置的值。\n",
    ">\n",
    "> *3.5版的新内容：*解包成字典显示，最初由[**PEP 448**](https://www.python.org/dev/peps/pep-0448)提出。\n",
    ">\n",
    "> 一个 dict 解析式，与 list 和 set 解析式相反，需要两个用冒号隔开的表达式，后面是通常的 \"for\" 和 \"if\" 子句。当解析式被运行时，产生的 key 和 value 元素按照产生的顺序插入新的 dictionary 中。\n",
    ">\n",
    "> 对键值类型的限制在前面[标准类型层次结构](https://docs.python.org/3/reference/datamodel.html#types)一节中列出。(概括地说，键类型应该是 [hashable](https://docs.python.org/3/glossary.html#term-hashable)，它排除了所有可变的对象。) 重复的键之间的冲突不会被检测到；为一个给定的键值存储的最后一个数据（在文本中最右边）为准。\n",
    ">\n",
    "> *在3.8版本中改变了：* 在Python 3.8之前，在dict解析式中，键和值的运算求值顺序没有被很好地定义。在CPython中，值在键之前被运算求值。从3.8开始，键的计算在值之前，这是 [**PEP 572**](https://www.python.org/dev/peps/pep-0572) 提出的。"
   ]
  },
  {
   "cell_type": "code",
   "execution_count": 14,
   "id": "ad1cf808-2d14-4fe5-9e33-e27f63841fc6",
   "metadata": {},
   "outputs": [
    {
     "data": {
      "text/plain": [
       "{'string': 6, 'integer': 7, 'float': 5, 'complex': 7}"
      ]
     },
     "execution_count": 14,
     "metadata": {},
     "output_type": "execute_result"
    },
    {
     "data": {
      "text/plain": [
       "{'s': 6, 't': 6, 'r': 6, 'i': 6, 'n': 6, 'g': 6}"
      ]
     },
     "execution_count": 14,
     "metadata": {},
     "output_type": "execute_result"
    }
   ],
   "source": [
    "d = {\"string\": 6, \"integer\": 7, \"float\": 5, \"complex\": 7}\n",
    "d\n",
    "\n",
    "D = {x : y for x in \"string\" for y in range(7)}\n",
    "D"
   ]
  },
  {
   "cell_type": "markdown",
   "id": "19132d30-6188-4cce-8418-72e0224782cd",
   "metadata": {},
   "source": [
    "### 6.2.8. Generator expressions"
   ]
  },
  {
   "cell_type": "markdown",
   "id": "ae542284-4ea4-419a-bbbd-6647528b177d",
   "metadata": {},
   "source": [
    "A generator expression is a compact generator notation in parentheses:\n",
    "\n",
    "> 生成器表达式是括号内的紧凑生成器符号："
   ]
  },
  {
   "cell_type": "raw",
   "id": "502531ab-db85-44c4-8625-e3e8e1723a56",
   "metadata": {},
   "source": [
    "generator_expression ::=  \"(\" expression comp_for \")\""
   ]
  },
  {
   "cell_type": "markdown",
   "id": "c10b78c9-d643-4b91-a2ec-a210c6ba8707",
   "metadata": {},
   "source": [
    "A generator expression yields a new generator object. Its syntax is the same as for comprehensions, except that it is enclosed in parentheses instead of brackets or curly braces.\n",
    "\n",
    "Variables used in the generator expression are evaluated lazily when the [`__next__()`](https://docs.python.org/3/reference/expressions.html#generator.__next__) method is called for the generator object (in the same fashion as normal generators). However, the iterable expression in the leftmost `for` clause is immediately evaluated, so that an error produced by it will be emitted at the point where the generator expression is defined, rather than at the point where the first value is retrieved. Subsequent `for` clauses and any filter condition in the leftmost `for` clause cannot be evaluated in the enclosing scope as they may depend on the values obtained from the leftmost iterable. For example: `(x*y for x in range(10) for y in range(x, x+10))`.\n",
    "\n",
    "The parentheses can be omitted on calls with only one argument. See section [Calls](https://docs.python.org/3/reference/expressions.html#calls) for details.\n",
    "\n",
    "To avoid interfering with the expected operation of the generator expression itself, `yield` and `yield from` expressions are prohibited in the implicitly defined generator.\n",
    "\n",
    "If a generator expression contains either `async for` clauses or [`await`](https://docs.python.org/3/reference/expressions.html#await) expressions it is called an *asynchronous generator expression*. An asynchronous generator expression returns a new asynchronous generator object, which is an asynchronous iterator (see [Asynchronous Iterators](https://docs.python.org/3/reference/datamodel.html#async-iterators)).\n",
    "\n",
    "*New in version 3.6:* Asynchronous generator expressions were introduced.\n",
    "\n",
    "*Changed in version 3.7:* Prior to Python 3.7, asynchronous generator expressions could only appear in [`async def`](https://docs.python.org/3/reference/compound_stmts.html#async-def) coroutines. Starting with 3.7, any function can use asynchronous generator expressions.\n",
    "\n",
    "*Changed in version 3.8:* `yield` and `yield from` prohibited in the implicitly nested scope.\n",
    "\n",
    "> 一个生成器表达式会产生一个新的生成器对象。除了用小括号代替大括号外，它的语法和解析式的语法是一样的。\n",
    ">\n",
    "> 当为生成器对象调用 [`__next__()`](https://docs.python.org/3/reference/expressions.html#generator.__next__) 方法时，生成器表达式中使用的变量会被惰性运算（与普通生成器的方式相同）。然而，最左边的 `for` 子句中的可迭代表达式会被立即运算求值，因此由它产生的错误会在定义生成器表达式的地方发出，而不是在检索第一个值的地方发出。后续的 `for` 子句和最左边的 `for` 子句中的任何过滤条件不能在闭合的作用域内被运算求值，因为它们可能依赖于从最左边的迭代器中获得的值。例如：`(x*y for x in range(10) for y in range(x, x+10))`。\n",
    ">\n",
    "> 在只有一个参数的调用中，括号可以省略。详见[Calls](https://docs.python.org/3/reference/expressions.html#calls)一节。\n",
    ">\n",
    "> 为了避免干扰生成器表达式本身的预期操作，隐式定义的生成器中禁止使用 `yield` 和 `yield from` 表达式。\n",
    ">\n",
    "> 如果一个生成器表达式包含 `async for` 子句或 [`await`](https://docs.python.org/3/reference/expressions.html#await) 表达式，则称为*异步生成器表达式*。一个异步生成器表达式会返回一个新的异步生成器对象，它是一个异步迭代器（见[异步迭代器](https://docs.python.org/3/reference/datamodel.html#async-iterators)）。\n",
    ">\n",
    "> *在3.6版本中新增：*引入了异步生成器表达式。\n",
    ">\n",
    "> *3.7版中的变化：* 在Python 3.7之前，异步生成器表达式只能出现在 [`async def`](https://docs.python.org/3/reference/compound_stmts.html#async-def) coroutines中。从3.7开始，任何函数都可以使用异步生成器表达式。\n",
    ">\n",
    "> *在3.8版本中改变了：* `yield` 和 `yield from` 禁止在隐式嵌套的范围内出现。"
   ]
  },
  {
   "cell_type": "code",
   "execution_count": 27,
   "id": "e654ca34-8e5c-491b-8efb-7953ded2b563",
   "metadata": {},
   "outputs": [
    {
     "data": {
      "text/plain": [
       "<generator object <genexpr> at 0x0000011E62565B60>"
      ]
     },
     "execution_count": 27,
     "metadata": {},
     "output_type": "execute_result"
    },
    {
     "data": {
      "text/plain": [
       "generator"
      ]
     },
     "execution_count": 27,
     "metadata": {},
     "output_type": "execute_result"
    },
    {
     "data": {
      "text/plain": [
       "0"
      ]
     },
     "execution_count": 27,
     "metadata": {},
     "output_type": "execute_result"
    },
    {
     "data": {
      "text/plain": [
       "0"
      ]
     },
     "execution_count": 27,
     "metadata": {},
     "output_type": "execute_result"
    },
    {
     "data": {
      "text/plain": [
       "0"
      ]
     },
     "execution_count": 27,
     "metadata": {},
     "output_type": "execute_result"
    },
    {
     "data": {
      "text/plain": [
       "0"
      ]
     },
     "execution_count": 27,
     "metadata": {},
     "output_type": "execute_result"
    },
    {
     "data": {
      "text/plain": [
       "0"
      ]
     },
     "execution_count": 27,
     "metadata": {},
     "output_type": "execute_result"
    }
   ],
   "source": [
    "e = (x * y for x in range(10) for y in range(x, x+10))\n",
    "e\n",
    "\n",
    "type(e)\n",
    "e.__next__()\n",
    "e.__next__()\n",
    "e.__next__()\n",
    "e.__next__()\n",
    "e.__next__()"
   ]
  },
  {
   "cell_type": "markdown",
   "id": "bf2e9643-4e32-4d90-a35b-295d80683319",
   "metadata": {},
   "source": [
    "### 6.2.9. Yield expressions"
   ]
  },
  {
   "cell_type": "raw",
   "id": "74b81ff3-717a-4868-8163-52e66f13d49b",
   "metadata": {},
   "source": [
    "yield_atom       ::=  \"(\" yield_expression \")\"\n",
    "yield_expression ::=  \"yield\" [expression_list | \"from\" expression]"
   ]
  },
  {
   "cell_type": "markdown",
   "id": "62c57dbc-df9f-4e01-9be2-79c2ec01dbaf",
   "metadata": {},
   "source": [
    "The yield expression is used when defining a [generator](https://docs.python.org/3/glossary.html#term-generator) function or an [asynchronous generator](https://docs.python.org/3/glossary.html#term-asynchronous-generator) function and thus can only be used in the body of a function definition. Using a yield expression in a function’s body causes that function to be a generator function, and using it in an [`async def`](https://docs.python.org/3/reference/compound_stmts.html#async-def) function’s body causes that coroutine function to be an asynchronous generator function. For example:\n",
    "\n",
    "> yield表达式是在定义[generator](https://docs.python.org/3/glossary.html#term-generator)函数或[asynchronous generator](https://docs.python.org/3/glossary.html#term-asynchronous-generator)函数时使用的，因此只能在函数定义的主体中使用。在一个函数的主体中使用yield表达式会使该函数成为一个生成器函数，而在一个[`async def`](https://docs.python.org/3/reference/compound_stmts.html#async-def)函数的主体中使用该表达式会使该cououtine函数成为一个异步生成器函数。比如说"
   ]
  },
  {
   "cell_type": "code",
   "execution_count": 28,
   "id": "4710a5b6-24f7-426f-a46f-1a389a19f19b",
   "metadata": {},
   "outputs": [],
   "source": [
    "# defines a generator function\n",
    "def gen(): \n",
    "    yield 123\n",
    "\n",
    "# define an asynchronous generator function    \n",
    "async def agen():\n",
    "    yield 123"
   ]
  },
  {
   "cell_type": "code",
   "execution_count": 30,
   "id": "3de6985d-d9d0-4efd-9734-32b2f6e907ec",
   "metadata": {},
   "outputs": [
    {
     "data": {
      "text/plain": [
       "<generator object gen at 0x0000011E61F69D20>"
      ]
     },
     "execution_count": 30,
     "metadata": {},
     "output_type": "execute_result"
    },
    {
     "data": {
      "text/plain": [
       "<async_generator object agen at 0x0000011E61F588C0>"
      ]
     },
     "execution_count": 30,
     "metadata": {},
     "output_type": "execute_result"
    }
   ],
   "source": [
    "gen()\n",
    "\n",
    "agen()"
   ]
  },
  {
   "cell_type": "markdown",
   "id": "2472fec9-01dd-4008-b9c5-bdbca1711904",
   "metadata": {},
   "source": [
    "Due to their side effects on the containing scope, `yield` expressions are not permitted as part of the implicitly defined scopes used to implement comprehensions and generator expressions.\n",
    "\n",
    "*Changed in version 3.8:* Yield expressions prohibited in the implicitly nested scopes used to implement comprehensions and generator expressions.\n",
    "\n",
    "> 由于它们对包含的作用域有副作用，`yield `表达式不允许作为隐式定义的作用域的一部分，用于实现解析式和生成器表达式。\n",
    ">\n",
    "> *在3.8版本中改变了：*在用于实现解析式和生成器表达式的隐式嵌套作用域中禁止使用Yield表达式。"
   ]
  },
  {
   "cell_type": "markdown",
   "id": "1b69b165-793f-4580-aff4-223e05005875",
   "metadata": {},
   "source": [
    "Generator functions are described below, while asynchronous generator functions are described separately in section [Asynchronous generator functions](https://docs.python.org/3/reference/expressions.html#asynchronous-generator-functions).\n",
    "\n",
    "When a generator function is called, it returns an iterator known as a generator. That generator then controls the execution of the generator function. The execution starts when one of the generator’s methods is called. At that time, the execution proceeds to the first yield expression, where it is suspended again, returning the value of [`expression_list`](https://docs.python.org/3/reference/expressions.html#grammar-token-python-grammar-expression_list) to the generator’s caller. By suspended, we mean that all local state is retained, including the current bindings of local variables, the instruction pointer, the internal evaluation stack, and the state of any exception handling. When the execution is resumed by calling one of the generator’s methods, the function can proceed exactly as if the yield expression were just another external call. The value of the yield expression after resuming depends on the method which resumed the execution. If [`__next__()`](https://docs.python.org/3/reference/expressions.html#generator.__next__) is used (typically via either a [`for`](https://docs.python.org/3/reference/compound_stmts.html#for) or the [`next()`](https://docs.python.org/3/library/functions.html#next) builtin) then the result is [`None`](https://docs.python.org/3/library/constants.html#None). Otherwise, if [`send()`](https://docs.python.org/3/reference/expressions.html#generator.send) is used, then the result will be the value passed in to that method.\n",
    "\n",
    "> 下面描述了生成器函数，而异步生成器函数将在[异步生成器函数](https://docs.python.org/3/reference/expressions.html#asynchronous-generator-functions)一节中单独描述。\n",
    ">\n",
    "> 当一个生成器函数被调用时，它返回一个被称为生成器的迭代器。然后该生成器控制生成器函数的执行。当生成器的一个方法被调用时，执行开始。那时，执行会进行到第一个yield表达式，在那里再次暂停，将[`expression_list`](https://docs.python.org/3/reference/expressions.html#grammar-token-python-grammar-expression_list)的值返回给生成器的调用者。我们所说的暂停是指保留所有的本地状态，包括局部变量的当前绑定、指令指针、内部运算求值堆栈和任何异常处理的状态。当通过调用生成器的一个方法来恢复执行时，该函数可以完全像yield表达式只是另一个外部调用那样进行。恢复执行后的yield表达式的值取决于恢复执行的方法。如果使用了[`__next__()`](https://docs.python.org/3/reference/expressions.html#generator.__next__)（通常是通过[`for`](https://docs.python.org/3/reference/compound_stmts.html#for)或[`next()`](https://docs.python.org/3/library/functions.html#next)内置函数），那么结果是[`None`](https://docs.python.org/3/library/constants.html#None)。否则，如果使用了[`send()`](https://docs.python.org/3/reference/expressions.html#generator.send)，那么结果将是传入该方法的值。"
   ]
  },
  {
   "cell_type": "markdown",
   "id": "3e9a8881-88e0-4e24-b5a8-509b96ec07c1",
   "metadata": {},
   "source": [
    "All of this makes generator functions quite similar to coroutines; they yield multiple times, they have more than one entry point and their execution can be suspended. The only difference is that a generator function cannot control where the execution should continue after it yields; the control is always transferred to the generator’s caller.\n",
    "\n",
    "Yield expressions are allowed anywhere in a [`try`](https://docs.python.org/3/reference/compound_stmts.html#try) construct. If the generator is not resumed before it is finalized (by reaching a zero reference count or by being garbage collected), the generator-iterator’s [`close()`](https://docs.python.org/3/reference/expressions.html#generator.close) method will be called, allowing any pending [`finally`](https://docs.python.org/3/reference/compound_stmts.html#finally) clauses to execute.\n",
    "\n",
    "When `yield from <expr>` is used, the supplied expression must be an iterable. The values produced by iterating that iterable are passed directly to the caller of the current generator’s methods. Any values passed in with [`send()`](https://docs.python.org/3/reference/expressions.html#generator.send) and any exceptions passed in with [`throw()`](https://docs.python.org/3/reference/expressions.html#generator.throw) are passed to the underlying iterator if it has the appropriate methods. If this is not the case, then [`send()`](https://docs.python.org/3/reference/expressions.html#generator.send) will raise [`AttributeError`](https://docs.python.org/3/library/exceptions.html#AttributeError) or [`TypeError`](https://docs.python.org/3/library/exceptions.html#TypeError), while [`throw()`](https://docs.python.org/3/reference/expressions.html#generator.throw) will just raise the passed in exception immediately.\n",
    "\n",
    "> 所有这些都使生成器函数与轮回线非常相似；它们可以多次产生，有一个以上的入口点，它们的执行可以暂停。唯一的区别是，生成器函数不能控制在它产生后执行的位置；控制权总是转移到生成器的调用者。\n",
    ">\n",
    "> 在[`try`](https://docs.python.org/3/reference/compound_stmts.html#try)结构中的任何地方都可以使用Yield表达式。如果生成器在终结前（达到零引用数或被垃圾回收）没有被恢复，生成器-迭代器的[`close()`](https://docs.python.org/3/reference/expressions.html#generator.close)方法将被调用，允许任何未决的[`finally`](https://docs.python.org/3/reference/compound_stmts.html#finally)子句执行。\n",
    ">\n",
    "> 当使用`yield from <expr>`时，提供的表达式必须是一个可迭代的。迭代产生的值会直接传递给当前生成器的方法的调用者。任何用[`send()`](https://docs.python.org/3/reference/expressions.html#generator.send)传递的值和任何用[`throw()`](https://docs.python.org/3/reference/expressions.html#generator.throw)传递的异常都会传递给底层迭代器，如果它有相应的方法。如果不是这样，那么[`send()`](https://docs.python.org/3/reference/expressions.html#generator.send)将引发[`AttributeError`](https://docs.python.org/3/library/exceptions.html#AttributeError)或[`TypeError`](https://docs.python.org/3/library/exceptions.html#TypeError)，而[`throw()`](https://docs.python.org/3/reference/expressions.html#generator.throw)将立即引发传入的异常。"
   ]
  },
  {
   "cell_type": "markdown",
   "id": "1368d460-60c8-46f4-85e3-0e87ab7b22a1",
   "metadata": {},
   "source": [
    "When the underlying iterator is complete, the `value` attribute of the raised [`StopIteration`](https://docs.python.org/3/library/exceptions.html#StopIteration) instance becomes the value of the yield expression. It can be either set explicitly when raising [`StopIteration`](https://docs.python.org/3/library/exceptions.html#StopIteration), or automatically when the subiterator is a generator (by returning a value from the subgenerator).\n",
    "\n",
    "> *Changed in version 3.3:* Added `yield from <expr>` to delegate control flow to a subiterator.\n",
    "\n",
    "The parentheses may be omitted when the yield expression is the sole expression on the right hand side of an assignment statement.\n",
    "\n",
    "> 当底层迭代器完成后，被引发的[`StopIteration`](https://docs.python.org/3/library/exceptions.html#StopIteration)实例的 `value` 属性就变成了yield表达式的值。它可以在引发[`StopIteration`](https://docs.python.org/3/library/exceptions.html#StopIteration)时明确设置，或者在子迭代器是生成器时自动设置（通过从子生成器返回一个值）。\n",
    ">\n",
    "> > *在3.3版本中改变了：* 增加了`yield from <expr>`来委托控制流给子迭代器。\n",
    ">\n",
    "> 当yield表达式是赋值语句右侧的唯一表达式时，可以省略括号。"
   ]
  },
  {
   "cell_type": "markdown",
   "id": "f9380cb8-afac-4cb7-b2eb-e520ed105a0e",
   "metadata": {},
   "source": [
    "**See also:**\n",
    "\n",
    "- [**PEP 255**](https://www.python.org/dev/peps/pep-0255) - Simple Generators\n",
    "\n",
    "  The proposal for adding generators and the [`yield`](https://docs.python.org/3/reference/simple_stmts.html#yield) statement to Python.\n",
    "\n",
    "- [**PEP 342**](https://www.python.org/dev/peps/pep-0342) - Coroutines via Enhanced Generators\n",
    "\n",
    "  The proposal to enhance the API and syntax of generators, making them usable as simple coroutines.\n",
    "\n",
    "- [**PEP 380**](https://www.python.org/dev/peps/pep-0380) - Syntax for Delegating to a Subgenerator\n",
    "\n",
    "  The proposal to introduce the `yield_from` syntax, making delegation to subgenerators easy.\n",
    "\n",
    "- [**PEP 525**](https://www.python.org/dev/peps/pep-0525) - Asynchronous Generators\n",
    "\n",
    "  The proposal that expanded on [**PEP 492**](https://www.python.org/dev/peps/pep-0492) by adding generator capabilities to coroutine functions."
   ]
  },
  {
   "cell_type": "markdown",
   "id": "500e3641-a574-452e-900a-8923689de9e5",
   "metadata": {},
   "source": [
    "#### 6.2.9.1. Generator-iterator methods"
   ]
  },
  {
   "cell_type": "markdown",
   "id": "111bb86f-fa72-4866-845e-f54d5e7de4e8",
   "metadata": {},
   "source": [
    "This subsection describes the methods of a generator iterator. They can be used to control the execution of a generator function.\n",
    "\n",
    "Note that calling any of the generator methods below when the generator is already executing raises a [`ValueError`](https://docs.python.org/3/library/exceptions.html#ValueError) exception.\n",
    "\n",
    "> 本小节介绍了生成器迭代器的方法。它们可以用来控制一个生成器函数的执行。\n",
    ">\n",
    "> 请注意，当生成器已经在执行时，调用下面的任何生成器方法都会引发[`ValueError`](https://docs.python.org/3/library/exceptions.html#ValueError) 异常。"
   ]
  },
  {
   "cell_type": "markdown",
   "id": "3c82bf27-a211-4cd1-82e9-39fea43dc91c",
   "metadata": {},
   "source": [
    "`generator.`\\_\\_next__()\n",
    "\n",
    "Starts the execution of a generator function or resumes it at the last executed yield expression. When a generator function is resumed with a [`__next__()`](https://docs.python.org/3/reference/expressions.html#generator.__next__) method, the current yield expression always evaluates to [`None`](https://docs.python.org/3/library/constants.html#None). The execution then continues to the next yield expression, where the generator is suspended again, and the value of the [`expression_list`](https://docs.python.org/3/reference/expressions.html#grammar-token-python-grammar-expression_list) is returned to [`__next__()`](https://docs.python.org/3/reference/expressions.html#generator.__next__)’s caller. If the generator exits without yielding another value, a [`StopIteration`](https://docs.python.org/3/library/exceptions.html#StopIteration) exception is raised.\n",
    "\n",
    "This method is normally called implicitly, e.g. by a [`for`](https://docs.python.org/3/reference/compound_stmts.html#for) loop, or by the built-in [`next()`](https://docs.python.org/3/library/functions.html#next) function.\n",
    "\n",
    "> `generator.`\\_\\_next__()\n",
    ">\n",
    "> 启动一个生成器函数的执行，或者在最后执行的产出表达式处恢复执行。当一个生成器函数用[`__next__()`](https://docs.python.org/3/reference/expressions.html#generator.__next__)方法恢复时，当前的产出表达式总是被运算求值为 [`None`](https://docs.python.org/3/library/constants.html#None)。然后继续执行到下一个产出表达式，在这里生成器被再次中止，[`expression_list`](https://docs.python.org/3/reference/expressions.html#grammar-token-python-grammar-expression_list) 的值被返回给 [`__next__()`](https://docs.python.org/3/reference/expressions.html#generator.__next__) 的调用者。如果生成器在没有产生其他值的情况下退出，就会产生一个 [`StopIteration`](https://docs.python.org/3/library/exceptions.html#StopIteration) 异常。\n",
    ">\n",
    "> 这个方法通常是隐式调用的，例如通过[`for`](https://docs.python.org/3/reference/compound_stmts.html#for)循环，或者通过内置的[`next()`](https://docs.python.org/3/library/functions.html#next)函数。"
   ]
  },
  {
   "cell_type": "markdown",
   "id": "055914c1-d5de-4677-9339-08750c4b1890",
   "metadata": {},
   "source": [
    "`generator.`send(*value*)\n",
    "\n",
    "Resumes the execution and “sends” a value into the generator function. The *value* argument becomes the result of the current yield expression. The [`send()`](https://docs.python.org/3/reference/expressions.html#generator.send) method returns the next value yielded by the generator, or raises [`StopIteration`](https://docs.python.org/3/library/exceptions.html#StopIteration) if the generator exits without yielding another value. When [`send()`](https://docs.python.org/3/reference/expressions.html#generator.send) is called to start the generator, it must be called with [`None`](https://docs.python.org/3/library/constants.html#None) as the argument, because there is no yield expression that could receive the value.\n",
    "\n",
    "> `generator.`send(*value*)\n",
    ">\n",
    "> 恢复执行并向生成器函数 \"sends\"一个值。参数*value*成为当前产出表达式的结果。[`send()`](https://docs.python.org/3/reference/expressions.html#generator.send)方法返回生成器产生的下一个值，如果生成器没有产生其他值就退出，则引发 [`StopIteration`](https://docs.python.org/3/library/exceptions.html#StopIteration)。当调用[`send()`](https://docs.python.org/3/reference/expressions.html#generator.send)来启动生成器时，必须以 [`None`](https://docs.python.org/3/library/constants.html#None) 作为参数，因为没有可以接收该值的产出表达式。"
   ]
  },
  {
   "cell_type": "markdown",
   "id": "91b0aa0d-8745-49e1-94ee-4591a7f7e600",
   "metadata": {},
   "source": [
    "`generator.`throw(*value*)\n",
    "\n",
    "`generator.`throw(*type*[, *value*[, *traceback*]])\n",
    "\n",
    "Raises an exception at the point where the generator was paused, and returns the next value yielded by the generator function. If the generator exits without yielding another value, a [`StopIteration`](https://docs.python.org/3/library/exceptions.html#StopIteration) exception is raised. If the generator function does not catch the passed-in exception, or raises a different exception, then that exception propagates to the caller.\n",
    "\n",
    "In typical use, this is called with a single exception instance similar to the way the [`raise`](https://docs.python.org/3/reference/simple_stmts.html#raise) keyword is used.\n",
    "\n",
    "For backwards compatability, however, the second signature is supported, following a convention from older versions of Python. The *type* argument should be an exception class, and *value* should be an exception instance. If the *value* is not provided, the *type* constructor is called to get an instance. If *traceback* is provided, it is set on the exception, otherwise any existing `__traceback__` attribute stored in *value* may be cleared.\n",
    "\n",
    "> `generator.`throw(*value*)\n",
    ">\n",
    "> `generator.`throw(*type*[, *value*[, *traceback*]])\n",
    ">\n",
    "> 在生成器暂停的地方引发一个异常，并返回生成器函数产生的下一个值。如果生成器在没有产生另一个值的情况下退出，会引发 [`StopIteration`](https://docs.python.org/3/library/exceptions.html#StopIteration) 异常。如果生成器函数没有捕获传入的异常，或者引发一个不同的异常，那么这个异常就会传播给调用者。\n",
    ">\n",
    "> 在典型的使用中，这与 [`raise`](https://docs.python.org/3/reference/simple_stmts.html#raise) 关键字的使用方式类似，都是用单个异常实例来调用。\n",
    ">\n",
    "> 然而，为了向后兼容，我们支持第二个签名（特征？），遵循旧版本 Python 的惯例。参数 *type* 应该是一个异常类，而 *value* 应该是一个异常实例。如果没有提供*value*，就会调用*type*构造函数来获得一个实例。如果*traceback*被提供，它将被设置在异常上，否则任何存储在*value*中的现有的 `__traceback__` 属性可能被清除。"
   ]
  },
  {
   "cell_type": "markdown",
   "id": "2c8fb98f-64b4-4f9e-8d71-c48b1463dd3d",
   "metadata": {},
   "source": [
    "`generator.`close()\n",
    "\n",
    "Raises a [`GeneratorExit`](https://docs.python.org/3/library/exceptions.html#GeneratorExit) at the point where the generator function was paused. If the generator function then exits gracefully, is already closed, or raises [`GeneratorExit`](https://docs.python.org/3/library/exceptions.html#GeneratorExit) (by not catching the exception), close returns to its caller. If the generator yields a value, a [`RuntimeError`](https://docs.python.org/3/library/exceptions.html#RuntimeError) is raised. If the generator raises any other exception, it is propagated to the caller. [`close()`](https://docs.python.org/3/reference/expressions.html#generator.close) does nothing if the generator has already exited due to an exception or normal exit.\n",
    "\n",
    "> `generator.`close()\n",
    ">\n",
    "> 在生成器函数暂停的地方引发一个 [`GeneratorExit`](https://docs.python.org/3/library/exceptions.html#GeneratorExit)。如果生成器函数随后优雅地退出、已经关闭或引发[`GeneratorExit`](https://docs.python.org/3/library/exceptions.html#GeneratorExit)（没有捕捉到异常），close将返回给它的调用者。如果生成器产生了一个值，就会引发一个[`RuntimeError`](https://docs.python.org/3/library/exceptions.html#RuntimeError)。如果生成器引发任何其他异常，它将被传播给调用者。如果生成器已经由于异常或正常退出而退出，[`close()`](https://docs.python.org/3/reference/expressions.html#generator.close)不做任何事情。"
   ]
  },
  {
   "cell_type": "markdown",
   "id": "6da66023-f8f5-4926-8d55-c36de39be52b",
   "metadata": {},
   "source": [
    "#### 6.2.9.2. Examples"
   ]
  },
  {
   "cell_type": "markdown",
   "id": "0e16d7e2-eb96-4ad1-b0bf-6a3fad80f6a7",
   "metadata": {},
   "source": [
    "Here is a simple example that demonstrates the behavior of generators and generator functions:\n",
    "\n",
    "> 这里有一个简单的例子，演示了生成器和生成器函数的行为："
   ]
  },
  {
   "cell_type": "code",
   "execution_count": 6,
   "id": "2ae67155-89b1-4d1e-9d79-1464832d86b2",
   "metadata": {},
   "outputs": [],
   "source": [
    "def echo(value=None):\n",
    "    print(\"Execution starts when 'next()' is called for the first time.\")\n",
    "    try:\n",
    "        while True:\n",
    "            try:\n",
    "                value = (yield value)\n",
    "            except Exception as e:\n",
    "                vaule = e\n",
    "    finally:\n",
    "        print(\"Don't forget to clean up when 'close()' is called.\")"
   ]
  },
  {
   "cell_type": "code",
   "execution_count": 7,
   "id": "c849829b-ab13-4c5a-ab98-04a77092a842",
   "metadata": {},
   "outputs": [
    {
     "name": "stdout",
     "output_type": "stream",
     "text": [
      "Don't forget to clean up when 'close()' is called.\n",
      "Execution starts when 'next()' is called for the first time.\n",
      "1\n"
     ]
    }
   ],
   "source": [
    "generator = echo(1)\n",
    "print(next(generator))"
   ]
  },
  {
   "cell_type": "code",
   "execution_count": 8,
   "id": "7d28eb50-35c4-47a8-b764-c8e172b9a483",
   "metadata": {},
   "outputs": [
    {
     "name": "stdout",
     "output_type": "stream",
     "text": [
      "None\n"
     ]
    }
   ],
   "source": [
    "print(next(generator))"
   ]
  },
  {
   "cell_type": "code",
   "execution_count": 9,
   "id": "a94528d2-ecd5-498f-bb9f-a5459a3ef0c1",
   "metadata": {},
   "outputs": [
    {
     "name": "stdout",
     "output_type": "stream",
     "text": [
      "None\n"
     ]
    }
   ],
   "source": [
    "print(next(generator))"
   ]
  },
  {
   "cell_type": "code",
   "execution_count": 10,
   "id": "a3ab6ad4-1a2e-4fdc-9905-691760392c55",
   "metadata": {},
   "outputs": [],
   "source": [
    "generator.throw(TypeError, \"spam\")"
   ]
  },
  {
   "cell_type": "code",
   "execution_count": 11,
   "id": "3d8f0f31-ffe9-4066-a640-2a89e358b423",
   "metadata": {},
   "outputs": [
    {
     "name": "stdout",
     "output_type": "stream",
     "text": [
      "Don't forget to clean up when 'close()' is called.\n"
     ]
    }
   ],
   "source": [
    "generator.close()"
   ]
  },
  {
   "cell_type": "markdown",
   "id": "7b2a3cfb-d682-4e31-af03-6af7cf6697f5",
   "metadata": {},
   "source": [
    "For examples using `yield from`, see [PEP 380: Syntax for Delegating to a Subgenerator](https://docs.python.org/3/whatsnew/3.3.html#pep-380) in “What’s New in Python.”\n",
    "\n",
    "> 关于使用 `yield from` 的例子，见 \"Python中的新内容 \"中的[PEP 380：委托给子生成器的语法](https://docs.python.org/3/whatsnew/3.3.html#pep-380)。"
   ]
  },
  {
   "cell_type": "markdown",
   "id": "0ace4cfe-74fe-4f31-94bb-4ceafeb0f943",
   "metadata": {},
   "source": [
    "#### 6.2.9.3. Asynchronous generator functions"
   ]
  },
  {
   "cell_type": "markdown",
   "id": "95afa3e6-6c8a-4a90-bf92-8e6889341a8a",
   "metadata": {},
   "source": [
    "The presence of a yield expression in a function or method defined using [`async def`](https://docs.python.org/3/reference/compound_stmts.html#async-def) further defines the function as an [asynchronous generator](https://docs.python.org/3/glossary.html#term-asynchronous-generator) function.\n",
    "\n",
    "When an asynchronous generator function is called, it returns an asynchronous iterator known as an asynchronous generator object. That object then controls the execution of the generator function. An asynchronous generator object is typically used in an [`async for`](https://docs.python.org/3/reference/compound_stmts.html#async-for) statement in a coroutine function analogously to how a generator object would be used in a [`for`](https://docs.python.org/3/reference/compound_stmts.html#for) statement.\n",
    "\n",
    "> 在使用 [`async def`](https://docs.python.org/3/reference/compound_stmts.html#async-def) 定义的函数或方法中存在一个yield表达式，进一步定义了该函数为[异步生成器](https://docs.python.org/3/glossary.html#term-asynchronous-generator)函数。\n",
    ">\n",
    "> 当一个异步生成器函数被调用时，它返回一个异步迭代器，称为异步生成器对象。然后该对象控制生成器函数的执行。一个异步生成器对象通常被用在coroutine函数的 [`async for`](https://docs.python.org/3/reference/compound_stmts.html#async-for) 语句中，类似于生成器对象被用在[`for`](https://docs.python.org/3/reference/compound_stmts.html#for)语句中的方式。"
   ]
  },
  {
   "cell_type": "markdown",
   "id": "fce3c9e6-a03a-4288-a98a-843bfe76a36e",
   "metadata": {},
   "source": [
    "Calling one of the asynchronous generator’s methods returns an [awaitable](https://docs.python.org/3/glossary.html#term-awaitable) object, and the execution starts when this object is awaited on. At that time, the execution proceeds to the first yield expression, where it is suspended again, returning the value of [`expression_list`](https://docs.python.org/3/reference/expressions.html#grammar-token-python-grammar-expression_list) to the awaiting coroutine. As with a generator, suspension means that all local state is retained, including the current bindings of local variables, the instruction pointer, the internal evaluation stack, and the state of any exception handling. When the execution is resumed by awaiting on the next object returned by the asynchronous generator’s methods, the function can proceed exactly as if the yield expression were just another external call. The value of the yield expression after resuming depends on the method which resumed the execution. If [`__anext__()`](https://docs.python.org/3/reference/expressions.html#agen.__anext__) is used then the result is [`None`](https://docs.python.org/3/library/constants.html#None). Otherwise, if [`asend()`](https://docs.python.org/3/reference/expressions.html#agen.asend) is used, then the result will be the value passed in to that method.\n",
    "\n",
    "> 调用异步生成器的一个方法会返回一个 [awarditable](https://docs.python.org/3/glossary.html#term-awaitable) 对象，当这个对象被等待时，执行开始。那时，执行会进行到第一个产出表达式，在那里再次暂停，将[`expression_list`](https://docs.python.org/3/reference/expressions.html#grammar-token-python-grammar-expression_list)的值返回给等待的coroutine。与生成器一样，暂停意味着所有本地状态被保留，包括本地变量的当前绑定、指令指针、内部运算求值堆栈和任何异常处理的状态。当通过等待异步生成器方法返回的下一个对象来恢复执行时，函数可以完全像产出表达式只是另一个外部调用那样进行。恢复执行后的产出表达式的值取决于恢复执行的方法。如果使用了 [`__anext__()`](https://docs.python.org/3/reference/expressions.html#agen.__anext__)，那么结果就是 [`None`](https://docs.python.org/3/library/constants.html#None)。否则，如果使用了[`asend()`](https://docs.python.org/3/reference/expressions.html#agen.asend)，那么结果将是传入该方法的值。"
   ]
  },
  {
   "cell_type": "markdown",
   "id": "739426ef-1fb9-4301-9b20-a49911df910a",
   "metadata": {},
   "source": [
    "If an asynchronous generator happens to exit early by [`break`](https://docs.python.org/3/reference/simple_stmts.html#break), the caller task being cancelled, or other exceptions, the generator’s async cleanup code will run and possibly raise exceptions or access context variables in an unexpected context–perhaps after the lifetime of tasks it depends, or during the event loop shutdown when the async-generator garbage collection hook is called. To prevent this, the caller must explicitly close the async generator by calling [`aclose()`](https://docs.python.org/3/reference/expressions.html#agen.aclose) method to finalize the generator and ultimately detach it from the event loop.\n",
    "\n",
    "> 如果一个异步生成器碰巧因 [`break`](https://docs.python.org/3/reference/simple_stmts.html#break)、调用者任务被取消或其他异常而提前退出，生成器的异步清理代码将运行并可能引发异常或在意外情况下访问上下文变量--也许是在它所依赖的任务的生命周期之后，或在调用异步生成器垃圾收集钩时的事件循环关闭过程。为了防止这种情况，调用者必须通过调用 [`aclose()`](https://docs.python.org/3/reference/expressions.html#agen.aclose) 方法明确地关闭异步生成器，以最终确定生成器并最终将其从事件循环中分离出来。"
   ]
  },
  {
   "cell_type": "markdown",
   "id": "587137c3-f982-4894-9890-712866a27597",
   "metadata": {},
   "source": [
    "In an asynchronous generator function, yield expressions are allowed anywhere in a [`try`](https://docs.python.org/3/reference/compound_stmts.html#try) construct. However, if an asynchronous generator is not resumed before it is finalized (by reaching a zero reference count or by being garbage collected), then a yield expression within a `try` construct could result in a failure to execute pending [`finally`](https://docs.python.org/3/reference/compound_stmts.html#finally) clauses. In this case, it is the responsibility of the event loop or scheduler running the asynchronous generator to call the asynchronous generator-iterator’s [`aclose()`](https://docs.python.org/3/reference/expressions.html#agen.aclose) method and run the resulting coroutine object, thus allowing any pending `finally` clauses to execute.\n",
    "\n",
    "> 在异步生成器函数中，允许在 [`try`](https://docs.python.org/3/reference/compound_stmts.html#try) 结构中的任何地方使用产出表达式。但是，如果一个异步生成器在最终完成之前没有被恢复（通过达到零引用计数或被垃圾回收），那么在 `try` 结构中的 `yield` 表达式可能会导致未能执行待定的 [`finally`](https://docs.python.org/3/reference/compound_stmts.html#finally) 子句。在这种情况下，运行异步生成器的事件循环或调度器有责任调用异步生成器-迭代器的 [`aclose()`](https://docs.python.org/3/reference/expressions.html#agen.aclose) 方法，并运行产生的coroutine对象，从而允许执行任何待定的 `finally` 条款。"
   ]
  },
  {
   "cell_type": "markdown",
   "id": "20a4a506-5f0c-4fdc-a576-3ed6df2ac13a",
   "metadata": {},
   "source": [
    "To take care of finalization upon event loop termination, an event loop should define a *finalizer* function which takes an asynchronous generator-iterator and presumably calls [`aclose()`](https://docs.python.org/3/reference/expressions.html#agen.aclose) and executes the coroutine. This *finalizer* may be registered by calling [`sys.set_asyncgen_hooks()`](https://docs.python.org/3/library/sys.html#sys.set_asyncgen_hooks). When first iterated over, an asynchronous generator-iterator will store the registered *finalizer* to be called upon finalization. For a reference example of a *finalizer* method see the implementation of `asyncio.Loop.shutdown_asyncgens` in [Lib/asyncio/base_events.py](https://github.com/python/cpython/tree/3.10/Lib/asyncio/base_events.py).\n",
    "\n",
    "The expression `yield from <expr>` is a syntax error when used in an asynchronous generator function.\n",
    "\n",
    "> 为了在事件循环终止时进行最终处理，事件循环应该定义一个*finalizer*函数，该函数接收一个异步生成器-迭代器，并假定调用 [`aclose()`](https://docs.python.org/3/reference/expressions.html#agen.aclose) 并执行该循环程序。这个*终结者*可以通过调用 [`sys.set_asyncgen_hooks()`](https://docs.python.org/3/library/sys.html#sys.set_asyncgen_hooks) 来注册。当第一次迭代时，异步生成器-迭代器将存储注册的*finalizer*，并在最终完成时调用。关于*finalizer*方法的参考例子，见 [Lib/asyncio/base_events.py](https://github.com/python/cpython/tree/3.10/Lib/asyncio/base_events.py) 中 `asyncio.Loop.shutdown_asyncgens` 的实现。\n",
    ">\n",
    "> 表达式 `yield from <expr>` 在异步发生器函数中使用时是一个语法错误。"
   ]
  },
  {
   "cell_type": "markdown",
   "id": "9a3713a8-bba7-47e7-bc19-bef44c950fce",
   "metadata": {},
   "source": [
    "#### 6.2.9.4. Asynchronous generator-iterator methods"
   ]
  },
  {
   "cell_type": "markdown",
   "id": "38da56e5-6e5a-4554-bfa7-ad535a6b042d",
   "metadata": {},
   "source": [
    "This subsection describes the methods of an asynchronous generator iterator, which are used to control the execution of a generator function.\n",
    "\n",
    "> 本小节介绍了异步生成器迭代器的方法，这些方法用于控制生成器函数的执行。"
   ]
  },
  {
   "cell_type": "markdown",
   "id": "e98d6d61-6bf2-4ed9-937f-4a0d36d4075a",
   "metadata": {},
   "source": [
    "- *coroutine* `agen.`\\__anext__()\n",
    "\n",
    "  Returns an awaitable which when run starts to execute the asynchronous generator or resumes it at the last executed yield expression. When an asynchronous generator function is resumed with an [`__anext__()`](https://docs.python.org/3/reference/expressions.html#agen.__anext__) method, the current yield expression always evaluates to [`None`](https://docs.python.org/3/library/constants.html#None) in the returned awaitable, which when run will continue to the next yield expression. The value of the [`expression_list`](https://docs.python.org/3/reference/expressions.html#grammar-token-python-grammar-expression_list) of the yield expression is the value of the [`StopIteration`](https://docs.python.org/3/library/exceptions.html#StopIteration) exception raised by the completing coroutine. If the asynchronous generator exits without yielding another value, the awaitable instead raises a [`StopAsyncIteration`](https://docs.python.org/3/library/exceptions.html#StopAsyncIteration) exception, signalling that the asynchronous iteration has completed.\n",
    "\n",
    "  This method is normally called implicitly by a [`async for`](https://docs.python.org/3/reference/compound_stmts.html#async-for) loop.\n",
    "\n",
    "- *coroutine* `agen.`asend(*value*)\n",
    "\n",
    "  Returns an awaitable which when run resumes the execution of the asynchronous generator. As with the [`send()`](https://docs.python.org/3/reference/expressions.html#generator.send) method for a generator, this “sends” a value into the asynchronous generator function, and the *value* argument becomes the result of the current yield expression. The awaitable returned by the [`asend()`](https://docs.python.org/3/reference/expressions.html#agen.asend) method will return the next value yielded by the generator as the value of the raised [`StopIteration`](https://docs.python.org/3/library/exceptions.html#StopIteration), or raises [`StopAsyncIteration`](https://docs.python.org/3/library/exceptions.html#StopAsyncIteration) if the asynchronous generator exits without yielding another value. When [`asend()`](https://docs.python.org/3/reference/expressions.html#agen.asend) is called to start the asynchronous generator, it must be called with [`None`](https://docs.python.org/3/library/constants.html#None) as the argument, because there is no yield expression that could receive the value.\n",
    "\n",
    "- *coroutine* `agen.`athrow(*type*[, *value*[, *traceback*]])\n",
    "\n",
    "  Returns an awaitable that raises an exception of type `type` at the point where the asynchronous generator was paused, and returns the next value yielded by the generator function as the value of the raised [`StopIteration`](https://docs.python.org/3/library/exceptions.html#StopIteration) exception. If the asynchronous generator exits without yielding another value, a [`StopAsyncIteration`](https://docs.python.org/3/library/exceptions.html#StopAsyncIteration) exception is raised by the awaitable. If the generator function does not catch the passed-in exception, or raises a different exception, then when the awaitable is run that exception propagates to the caller of the awaitable.\n",
    "\n",
    "- *coroutine* `agen.`aclose()\n",
    "\n",
    "  Returns an awaitable that when run will throw a [`GeneratorExit`](https://docs.python.org/3/library/exceptions.html#GeneratorExit) into the asynchronous generator function at the point where it was paused. If the asynchronous generator function then exits gracefully, is already closed, or raises [`GeneratorExit`](https://docs.python.org/3/library/exceptions.html#GeneratorExit) (by not catching the exception), then the returned awaitable will raise a [`StopIteration`](https://docs.python.org/3/library/exceptions.html#StopIteration) exception. Any further awaitables returned by subsequent calls to the asynchronous generator will raise a [`StopAsyncIteration`](https://docs.python.org/3/library/exceptions.html#StopAsyncIteration) exception. If the asynchronous generator yields a value, a [`RuntimeError`](https://docs.python.org/3/library/exceptions.html#RuntimeError) is raised by the awaitable. If the asynchronous generator raises any other exception, it is propagated to the caller of the awaitable. If the asynchronous generator has already exited due to an exception or normal exit, then further calls to [`aclose()`](https://docs.python.org/3/reference/expressions.html#agen.aclose) will return an awaitable that does nothing."
   ]
  },
  {
   "cell_type": "markdown",
   "id": "46bb8313-893f-429d-a45f-a770dfd749e8",
   "metadata": {},
   "source": [
    "## 6.3. Primaries"
   ]
  },
  {
   "cell_type": "markdown",
   "id": "db46e242-335e-4eee-a42b-178eeaad06d6",
   "metadata": {},
   "source": [
    "Primaries represent the most tightly bound operations of the language. Their syntax is:\n",
    "\n",
    "> 原语代表了语言中最严格的绑定操作。它们的语法是："
   ]
  },
  {
   "cell_type": "raw",
   "id": "6d14cbac-2805-42c9-bee2-e33304bc9c31",
   "metadata": {},
   "source": [
    "primary ::=  atom | attributeref | subscription | slicing | call"
   ]
  },
  {
   "cell_type": "markdown",
   "id": "0e6a1368-b8bf-4030-a4ab-a240f23788f7",
   "metadata": {},
   "source": [
    "### 6.3.1. Attribute references"
   ]
  },
  {
   "cell_type": "markdown",
   "id": "f898625a-0497-4c66-9f56-7e6974a3a3ae",
   "metadata": {},
   "source": [
    "An attribute reference is a primary followed by a period and a name:\n",
    "\n",
    "> 一个属性引用是一个原语，后面是一个句号和一个名称。"
   ]
  },
  {
   "cell_type": "raw",
   "id": "358d52a0-674c-4f79-a30d-1e039f135549",
   "metadata": {},
   "source": [
    "attributeref ::=  primary \".\" identifier"
   ]
  },
  {
   "cell_type": "markdown",
   "id": "c7899b9b-ee43-4d48-b374-a7f83ea31649",
   "metadata": {},
   "source": [
    "The primary must evaluate to an object of a type that supports attribute references, which most objects do. This object is then asked to produce the attribute whose name is the identifier. This production can be customized by overriding the `__getattr__()` method. If this attribute is not available, the exception [`AttributeError`](https://docs.python.org/3/library/exceptions.html#AttributeError) is raised. Otherwise, the type and value of the object produced is determined by the object. Multiple evaluations of the same attribute reference may yield different objects.\n",
    "\n",
    "> Primary必须运算求值到一个支持属性引用的类型的对象，大多数对象都是这样。然后这个对象被要求产生名称为标识符的属性。这个生产可以通过重写 `__getattr__()` 方法来定制。如果这个属性不可用，就会引发异常[`AttributeError`](https://docs.python.org/3/library/exceptions.html#AttributeError)。否则，产生的对象的类型和值由对象决定。对同一属性引用的多次运算求值可能会产生不同的对象。"
   ]
  },
  {
   "cell_type": "markdown",
   "id": "672dffdd-d254-448f-b4ac-04e04dc0abff",
   "metadata": {},
   "source": [
    "### 6.3.2. Subscriptions"
   ]
  },
  {
   "cell_type": "markdown",
   "id": "c1bdfb48-55bf-4a05-84d1-e70072dbc87c",
   "metadata": {},
   "source": [
    "The subscription of an instance of a [container class](https://docs.python.org/3/reference/datamodel.html#sequence-types) will generally select an element from the container. The subscription of a [generic class](https://docs.python.org/3/glossary.html#term-generic-type) will generally return a [GenericAlias](https://docs.python.org/3/library/stdtypes.html#types-genericalias) object.\n",
    "\n",
    "> 对[容器类](https://docs.python.org/3/reference/datamodel.html#sequence-types)的实例的订阅一般会从容器中选择一个元素。对[通用类](https://docs.python.org/3/glossary.html#term-generic-type)的订阅一般会返回一个[GenericAlias](https://docs.python.org/3/library/stdtypes.html#types-genericalias)对象。"
   ]
  },
  {
   "cell_type": "raw",
   "id": "ae981694-7055-4b56-9734-9b40b06f47ea",
   "metadata": {},
   "source": [
    "subscription ::=  primary \"[\" expression_list \"]\""
   ]
  },
  {
   "cell_type": "markdown",
   "id": "aaf9a5ab-5e83-4d68-a3fe-9136c15ecf4f",
   "metadata": {},
   "source": [
    "When an object is subscripted, the interpreter will evaluate the primary and the expression list.\n",
    "\n",
    "The primary must evaluate to an object that supports subscription. An object may support subscription through defining one or both of [`__getitem__()`](https://docs.python.org/3/reference/datamodel.html#object.__getitem__) and [`__class_getitem__()`](https://docs.python.org/3/reference/datamodel.html#object.__class_getitem__). When the primary is subscripted, the evaluated result of the expression list will be passed to one of these methods. For more details on when `__class_getitem__` is called instead of `__getitem__`, see [__class_getitem__ versus __getitem__](https://docs.python.org/3/reference/datamodel.html#classgetitem-versus-getitem).\n",
    "\n",
    "> 当一个对象被下标引用时，解释器将运算求值主标和表达式列表。\n",
    ">\n",
    "> 主标必须运算求值为一个支持下标引用的对象。一个对象可以通过定义 [`__getitem__()`](https://docs.python.org/3/reference/datamodel.html#object.__getitem__) 和[`__class_getitem__()`](https://docs.python.org/3/reference/datamodel.html#object.__class_getitem__)中的一个或两个来支持下标引用。当主标被下标引用时，表达式列表的运算求值结果将被传递给这些方法中的一个。关于何时调用 `__class_getitem__` 而不是 `__getitem__` 的更多细节，请参见 [__class_getitem__ 与 __getitem__ 的比较](https://docs.python.org/3/reference/datamodel.html#classgetitem-versus-getitem)。"
   ]
  },
  {
   "cell_type": "markdown",
   "id": "88ab61e2-9572-4190-92cb-8f2ee44578e5",
   "metadata": {},
   "source": [
    "If the expression list contains at least one comma, it will evaluate to a [`tuple`](https://docs.python.org/3/library/stdtypes.html#tuple) containing the items of the expression list. Otherwise, the expression list will evaluate to the value of the list’s sole member.\n",
    "\n",
    "> 如果表达式列表至少包含一个逗号，它将运算求值为一个包含表达式列表项目的[`tuple`](https://docs.python.org/3/library/stdtypes.html#tuple)。否则，表达式列表将被运算求值为列表中唯一成员的值。"
   ]
  },
  {
   "cell_type": "markdown",
   "id": "b5a6d409-98c3-4b0c-80c6-01c5fd727a67",
   "metadata": {},
   "source": [
    "For built-in objects, there are two types of objects that support subscription via [`__getitem__()`](https://docs.python.org/3/reference/datamodel.html#object.__getitem__):\n",
    "\n",
    "1. Mappings. If the primary is a [mapping](https://docs.python.org/3/glossary.html#term-mapping), the expression list must evaluate to an object whose value is one of the keys of the mapping, and the subscription selects the value in the mapping that corresponds to that key. An example of a builtin mapping class is the [`dict`](https://docs.python.org/3/library/stdtypes.html#dict) class.\n",
    "2. Sequences. If the primary is a [sequence](https://docs.python.org/3/glossary.html#term-sequence), the expression list must evaluate to an [`int`](https://docs.python.org/3/library/functions.html#int) or a [`slice`](https://docs.python.org/3/library/functions.html#slice) (as discussed in the following section). Examples of builtin sequence classes include the [`str`](https://docs.python.org/3/library/stdtypes.html#str), [`list`](https://docs.python.org/3/library/stdtypes.html#list) and [`tuple`](https://docs.python.org/3/library/stdtypes.html#tuple) classes.\n",
    "\n",
    "> 对于内置对象，有两种类型的对象支持通过 [`__getitem__()`](https://docs.python.org/3/reference/datamodel.html#object.__getitem__) 进行下标引用。\n",
    ">\n",
    "> 1. Mapping  映射。如果主对象是[映射](https://docs.python.org/3/glossary.html#term-mapping)，表达式列表必须运算求值为一个对象，其值是映射的键之一，并且下标引用选择映射中与该键对应的值。内置映射类的一个例子是 [`dict`](https://docs.python.org/3/library/stdtypes.html#dict) 类。\n",
    "> 2. Sequences  序列。如果主键是[sequence](https://docs.python.org/3/glossary.html#term-sequence)，表达式列表必须运算求值为[`int`](https://docs.python.org/3/library/functions.html#int)或[`slice`](https://docs.python.org/3/library/functions.html#slice)（在下一节讨论）。内置序列类的例子包括[`str`](https://docs.python.org/3/library/stdtypes.html#str), [`list`](https://docs.python.org/3/library/stdtypes.html#list)和[`tuple`](https://docs.python.org/3/library/stdtypes.html#tuple)类。"
   ]
  },
  {
   "cell_type": "code",
   "execution_count": 15,
   "id": "d7805196-bca0-419c-a438-e8dcff7ecf2a",
   "metadata": {},
   "outputs": [
    {
     "data": {
      "text/plain": [
       "6"
      ]
     },
     "execution_count": 15,
     "metadata": {},
     "output_type": "execute_result"
    },
    {
     "data": {
      "text/plain": [
       "6"
      ]
     },
     "execution_count": 15,
     "metadata": {},
     "output_type": "execute_result"
    }
   ],
   "source": [
    "dic = {x : y for x in \"primary\" for y in range(7)}\n",
    "\n",
    "dic['p']\n",
    "dic.__getitem__('r')"
   ]
  },
  {
   "cell_type": "code",
   "execution_count": 17,
   "id": "88d1d32c-cd62-4ef4-87ed-de0c9f393346",
   "metadata": {},
   "outputs": [
    {
     "data": {
      "text/plain": [
       "'b'"
      ]
     },
     "execution_count": 17,
     "metadata": {},
     "output_type": "execute_result"
    },
    {
     "data": {
      "text/plain": [
       "'c'"
      ]
     },
     "execution_count": 17,
     "metadata": {},
     "output_type": "execute_result"
    }
   ],
   "source": [
    "s = 'subscription'\n",
    "\n",
    "s[2]\n",
    "s.__getitem__(4)"
   ]
  },
  {
   "cell_type": "markdown",
   "id": "2bdb7635-c048-4748-aad1-4e7941f66de7",
   "metadata": {},
   "source": [
    "The formal syntax makes no special provision for negative indices in [sequences](https://docs.python.org/3/glossary.html#term-sequence). However, built-in sequences all provide a [`__getitem__()`](https://docs.python.org/3/reference/datamodel.html#object.__getitem__) method that interprets negative indices by adding the length of the sequence to the index so that, for example, `x[-1]` selects the last item of `x`. The resulting value must be a nonnegative integer less than the number of items in the sequence, and the subscription selects the item whose index is that value (counting from zero). Since the support for negative indices and slicing occurs in the object’s `__getitem__()` method, subclasses overriding this method will need to explicitly add that support.\n",
    "\n",
    "> 在[sequences](https://docs.python.org/3/glossary.html#term-sequence)中，正式的语法没有对负索引数做出特殊规定。然而，内置的序列都提供了一个[`__getitem__()`](https://docs.python.org/3/reference/datamodel.html#object.__getitem__) 方法，该方法通过将序列的长度加到索引上来解释负索引数，因此，例如，`x[-1]`会选择`x`的最后一个项目。得到的值必须是一个小于序列中项目数的非负整数，下标引用选择索引为该值的项目（从0开始计算）。由于对负索引数和切片的支持发生在对象的 `__getitem__()` 方法中，覆盖此方法的子类将需要明确地添加该支持。"
   ]
  },
  {
   "cell_type": "markdown",
   "id": "68aaa273-ff5b-402d-b751-8a4e81e57273",
   "metadata": {},
   "source": [
    "A [`string`](https://docs.python.org/3/library/stdtypes.html#str) is a special kind of sequence whose items are *characters*. A character is not a separate data type but a string of exactly one character.\n",
    "\n",
    "> 字符串是一种特殊的序列，其项目是字符。一个字符不是一个单独的数据类型，而是一个正好是一个字符的字符串。"
   ]
  },
  {
   "cell_type": "markdown",
   "id": "09cbeaa6-b309-4ee9-bcce-3688fbd484a5",
   "metadata": {},
   "source": [
    "### 6.3.3. Slicings"
   ]
  },
  {
   "cell_type": "markdown",
   "id": "aa5ab7e1-9a9e-4337-8f2b-f40bf412789b",
   "metadata": {},
   "source": [
    "A slicing selects a range of items in a sequence object (e.g., a string, tuple or list). Slicings may be used as expressions or as targets in assignment or [`del`](https://docs.python.org/3/reference/simple_stmts.html#del) statements. The syntax for a slicing:\n",
    "\n",
    "> 切片选择序列对象（例如，字符串、元组或列表）中的项目范围。切片可以作为表达式或作为赋值或[`del`](https://docs.python.org/3/reference/simple_stmts.html#del)语句的目标使用。切片的语法是："
   ]
  },
  {
   "cell_type": "raw",
   "id": "9f6609ad-f65e-429d-be23-20a226ceed90",
   "metadata": {},
   "source": [
    "slicing      ::=  primary \"[\" slice_list \"]\"\n",
    "slice_list   ::=  slice_item (\",\" slice_item)* [\",\"]\n",
    "slice_item   ::=  expression | proper_slice\n",
    "proper_slice ::=  [lower_bound] \":\" [upper_bound] [ \":\" [stride] ]\n",
    "lower_bound  ::=  expression\n",
    "upper_bound  ::=  expression\n",
    "stride       ::=  expression"
   ]
  },
  {
   "cell_type": "markdown",
   "id": "9d3a5707-010d-4e26-99af-660c6c476abf",
   "metadata": {},
   "source": [
    "There is ambiguity in the formal syntax here: anything that looks like an expression list also looks like a slice list, so any subscription can be interpreted as a slicing. Rather than further complicating the syntax, this is disambiguated by defining that in this case the interpretation as a subscription takes priority over the interpretation as a slicing (this is the case if the slice list contains no proper slice).\n",
    "\n",
    "The semantics for a slicing are as follows. The primary is indexed (using the same `__getitem__()` method as normal subscription) with a key that is constructed from the slice list, as follows. If the slice list contains at least one comma, the key is a tuple containing the conversion of the slice items; otherwise, the conversion of the lone slice item is the key. The conversion of a slice item that is an expression is that expression. The conversion of a proper slice is a slice object (see section [The standard type hierarchy](https://docs.python.org/3/reference/datamodel.html#types)) whose `start`, `stop` and `step` attributes are the values of the expressions given as lower bound, upper bound and stride, respectively, substituting `None` for missing expressions.\n",
    "\n",
    "> 这里的正式语法存在歧义：任何看起来像表达式列表的东西也看起来像切片列表，所以任何下标引用都可以被解释为切片。在这种情况下，作为下标引用的解释优先于作为切分的解释（如果切分列表不包含适当的切分，就属于这种情况），而不是使语法进一步复杂化，这一点可以通过定义来消除歧义。\n",
    ">\n",
    "> 切片的语义如下：Primary被索引（使用与普通下标引用相同的 `__getitem__()` 方法），其键由slice列表构建，如下所示。如果切片列表至少包含一个逗号，那么键就是一个包含切片项目转换的元组；否则，唯一的切片项目的转换就是键。属于表达式的切片项目的转换是该表达式。一个适当的片断的转换是一个切片对象（见[标准类型层次](https://docs.python.org/3/reference/datamodel.html#types)一节），其 `start`、`stop `和 `step` 属性是分别作为下限、上限和stride给出的表达式的值，对于缺少的表达式用`None`代替。"
   ]
  },
  {
   "cell_type": "markdown",
   "id": "9b41c302-0d0f-44b5-b8ea-df37eb261f58",
   "metadata": {},
   "source": [
    "### 6.3.4. Calls"
   ]
  },
  {
   "cell_type": "markdown",
   "id": "31339b9a-b98a-445e-bf3b-12d54c8ee240",
   "metadata": {},
   "source": [
    "A call calls a callable object (e.g., a [function](https://docs.python.org/3/glossary.html#term-function)) with a possibly empty series of [arguments](https://docs.python.org/3/glossary.html#term-argument):\n",
    "\n",
    "> 一个调用调用一个可调用的对象（例如，一个[函数](https://docs.python.org/3/glossary.html#term-function)），其[参数](https://docs.python.org/3/glossary.html#term-argument)系列可能为空："
   ]
  },
  {
   "cell_type": "raw",
   "id": "456eff9a-3620-4c18-8bf7-ced37bf91b7b",
   "metadata": {},
   "source": [
    "call                 ::=  primary \"(\" [argument_list [\",\"] | comprehension] \")\"\n",
    "argument_list        ::=  positional_arguments [\",\" starred_and_keywords]\n",
    "                            [\",\" keywords_arguments]\n",
    "                          | starred_and_keywords [\",\" keywords_arguments]\n",
    "                          | keywords_arguments\n",
    "positional_arguments ::=  positional_item (\",\" positional_item)*\n",
    "positional_item      ::=  assignment_expression | \"*\" expression\n",
    "starred_and_keywords ::=  (\"*\" expression | keyword_item)\n",
    "                          (\",\" \"*\" expression | \",\" keyword_item)*\n",
    "keywords_arguments   ::=  (keyword_item | \"**\" expression)\n",
    "                          (\",\" keyword_item | \",\" \"**\" expression)*\n",
    "keyword_item         ::=  identifier \"=\" expression"
   ]
  },
  {
   "cell_type": "markdown",
   "id": "777ec79e-39da-4ab7-bb6e-e37b7d401f94",
   "metadata": {},
   "source": [
    "An optional trailing comma may be present after the positional and keyword arguments but does not affect the semantics.\n",
    "\n",
    "The primary must evaluate to a callable object (user-defined functions, built-in functions, methods of built-in objects, class objects, methods of class instances, and all objects having a `__call__()` method are callable). All argument expressions are evaluated before the call is attempted. Please refer to section [Function definitions](https://docs.python.org/3/reference/compound_stmts.html#function) for the syntax of formal [parameter](https://docs.python.org/3/glossary.html#term-parameter) lists.\n",
    "\n",
    "> 在位置参数和关键字参数后面可以有一个可选的尾部逗号，但不影响语义。\n",
    ">\n",
    "> 主要对象必须运算求值为一个可调用的对象（用户定义的函数、内置函数、内置对象的方法、类对象、类实例的方法、以及所有具有 `__call__()` 方法的对象都是可调用的）。在尝试调用之前，所有的参数表达式都会被运算求值。关于正式[参数](https://docs.python.org/3/glossary.html#term-parameter)列表的语法，请参考[函数定义](https://docs.python.org/3/reference/compound_stmts.html#function)一节。"
   ]
  },
  {
   "cell_type": "markdown",
   "id": "e3c67afb-26cd-4bae-aa4e-31e8e7d51733",
   "metadata": {},
   "source": [
    "If keyword arguments are present, they are first converted to positional arguments, as follows. First, a list of unfilled slots is created for the formal parameters. If there are N positional arguments, they are placed in the first N slots. Next, for each keyword argument, the identifier is used to determine the corresponding slot (if the identifier is the same as the first formal parameter name, the first slot is used, and so on). If the slot is already filled, a [`TypeError`](https://docs.python.org/3/library/exceptions.html#TypeError) exception is raised. Otherwise, the value of the argument is placed in the slot, filling it (even if the expression is `None`, it fills the slot). When all arguments have been processed, the slots that are still unfilled are filled with the corresponding default value from the function definition. (Default values are calculated, once, when the function is defined; thus, a mutable object such as a list or dictionary used as default value will be shared by all calls that don’t specify an argument value for the corresponding slot; this should usually be avoided.) If there are any unfilled slots for which no default value is specified, a [`TypeError`](https://docs.python.org/3/library/exceptions.html#TypeError) exception is raised. Otherwise, the list of filled slots is used as the argument list for the call.\n",
    "\n",
    "> 如果存在关键字参数，它们首先被转换为位置参数，如下所示。首先，为形式参数创建一个未填充槽的列表。如果有N个位置参数，它们将被放在前N个槽中。接下来，对于每个关键字参数，使用标识符来确定相应的槽（如果标识符与第一个形式参数名称相同，则使用第一个槽，以此类推）。如果槽已经被填满，就会产生一个[`TypeError`](https://docs.python.org/3/library/exceptions.html#TypeError)异常。否则，参数的值被放入槽中，填充它（即使表达式是`None`，它也会填充槽）。当所有的参数都被处理后，仍未被填满的槽会被函数定义中相应的默认值填满。(默认值是在定义函数时计算一次的；因此，像列表或字典这样的可变对象作为默认值将被所有没有为相应槽指定参数值的调用所共享；这通常应该被避免。) 如果有任何未填充的槽没有指定默认值，就会产生一个[`TypeError`](https://docs.python.org/3/library/exceptions.html#TypeError)异常。否则，填充槽的列表被用作调用的参数列表。"
   ]
  },
  {
   "cell_type": "markdown",
   "id": "6c56c937-9cb6-40ad-b531-9f89e4c881d8",
   "metadata": {},
   "source": [
    "**CPython implementation detail:** An implementation may provide built-in functions whose positional parameters do not have names, even if they are ‘named’ for the purpose of documentation, and which therefore cannot be supplied by keyword. In CPython, this is the case for functions implemented in C that use [`PyArg_ParseTuple()`](https://docs.python.org/3/c-api/arg.html#c.PyArg_ParseTuple) to parse their arguments.\n",
    "\n",
    "> **CPython的实现细节：**一个实现可以提供内置的函数，其位置参数没有名字，即使是为了文档的目的而 \"命名\"，因此不能通过关键字来提供。在CPython中，用C语言实现的函数就是这种情况，它使用[`PyArg_ParseTuple()`](https://docs.python.org/3/c-api/arg.html#c.PyArg_ParseTuple)来解析其参数。"
   ]
  },
  {
   "cell_type": "markdown",
   "id": "8b3d3434-020f-4fc2-ba61-d239853b6c59",
   "metadata": {},
   "source": [
    "If there are more positional arguments than there are formal parameter slots, a [`TypeError`](https://docs.python.org/3/library/exceptions.html#TypeError) exception is raised, unless a formal parameter using the syntax `*identifier` is present; in this case, that formal parameter receives a tuple containing the excess positional arguments (or an empty tuple if there were no excess positional arguments).\n",
    "\n",
    "If any keyword argument does not correspond to a formal parameter name, a [`TypeError`](https://docs.python.org/3/library/exceptions.html#TypeError) exception is raised, unless a formal parameter using the syntax `**identifier` is present; in this case, that formal parameter receives a dictionary containing the excess keyword arguments (using the keywords as keys and the argument values as corresponding values), or a (new) empty dictionary if there were no excess keyword arguments.\n",
    "\n",
    "If the syntax `*expression` appears in the function call, `expression` must evaluate to an [iterable](https://docs.python.org/3/glossary.html#term-iterable). Elements from these iterables are treated as if they were additional positional arguments. For the call `f(x1, x2, *y, x3, x4)`, if *y* evaluates to a sequence *y1*, …, *yM*, this is equivalent to a call with M+4 positional arguments *x1*, *x2*, *y1*, …, *yM*, *x3*, *x4*.\n",
    "\n",
    "> 如果位置参数多于形式参数槽，就会产生一个 [`TypeError`](https://docs.python.org/3/library/exceptions.html#TypeError) 异常，除非有一个使用 `*identifier` 语法的形式参数存在；在这种情况下，该形式参数收到一个包含多余位置参数的元组（如果没有多余的位置参数，则是一个空元组）。\n",
    ">\n",
    "> 如果任何关键字参数不对应形式参数名称，就会产生一个 [`TypeError`](https://docs.python.org/3/library/exceptions.html#TypeError) 异常，除非使用 `**identifier` 语法的形式参数存在；在这种情况下，该形式参数接收一个包含多余关键字参数的字典（使用关键字作为键，参数值作为对应值），如果没有多余的关键字参数，则接收一个（新）空字典。\n",
    ">\n",
    "> 如果语法 `*expression` 出现在函数调用中，`expression `必须运算求值为一个[iterable](https://docs.python.org/3/glossary.html#term-iterable)。来自这些迭代器的元素被当作额外的位置参数来处理。对于调用 `f(x1, x2, *y, x3, x4)` ，如果*y*求值为序列*y1*, ..., *yM*，这就相当于调用了M+4个位置参数*x1*, *x2*, *y1*, ..., *yM*, *x3*, *x4*。"
   ]
  },
  {
   "cell_type": "markdown",
   "id": "8db3fad0-ad08-47dd-9647-cd55cef1d84e",
   "metadata": {},
   "source": [
    "A consequence of this is that although the `*expression` syntax may appear *after* explicit keyword arguments, it is processed *before* the keyword arguments (and any `**expression` arguments – see below). So:\n",
    "\n",
    "> 这样做的结果是，尽管 `*expression` 语法可能出现在明确的关键字参数*之后*，但它被处理在关键字参数*之前*（以及任何 `**expression` 参数--见下文）。所以："
   ]
  },
  {
   "cell_type": "code",
   "execution_count": 3,
   "id": "a01d3f87-b912-4b88-9f5f-260dde8846d5",
   "metadata": {},
   "outputs": [
    {
     "name": "stdout",
     "output_type": "stream",
     "text": [
      "2 1\n"
     ]
    }
   ],
   "source": [
    "def f(a, b):\n",
    "    print(a, b)\n",
    "    \n",
    "f(b=1, *(2,))"
   ]
  },
  {
   "cell_type": "code",
   "execution_count": 4,
   "id": "a09428ff-634e-44c6-a845-bcb0c55df347",
   "metadata": {},
   "outputs": [
    {
     "ename": "TypeError",
     "evalue": "f() got multiple values for argument 'a'",
     "output_type": "error",
     "traceback": [
      "\u001b[1;31m---------------------------------------------------------------------------\u001b[0m",
      "\u001b[1;31mTypeError\u001b[0m                                 Traceback (most recent call last)",
      "Input \u001b[1;32mIn [4]\u001b[0m, in \u001b[0;36m<cell line: 1>\u001b[1;34m()\u001b[0m\n\u001b[1;32m----> 1\u001b[0m \u001b[43mf\u001b[49m\u001b[43m(\u001b[49m\u001b[43ma\u001b[49m\u001b[38;5;241;43m=\u001b[39;49m\u001b[38;5;241;43m1\u001b[39;49m\u001b[43m,\u001b[49m\u001b[43m \u001b[49m\u001b[38;5;241;43m*\u001b[39;49m\u001b[43m(\u001b[49m\u001b[38;5;241;43m2\u001b[39;49m\u001b[43m,\u001b[49m\u001b[43m)\u001b[49m\u001b[43m)\u001b[49m\n",
      "\u001b[1;31mTypeError\u001b[0m: f() got multiple values for argument 'a'"
     ]
    }
   ],
   "source": [
    "f(a=1, *(2,))"
   ]
  },
  {
   "cell_type": "code",
   "execution_count": 5,
   "id": "e74a245e-3e33-43d6-bd8d-0813a99fa9c6",
   "metadata": {},
   "outputs": [
    {
     "name": "stdout",
     "output_type": "stream",
     "text": [
      "1 2\n"
     ]
    }
   ],
   "source": [
    "f(1, *(2,))"
   ]
  },
  {
   "cell_type": "code",
   "execution_count": 8,
   "id": "ac66d4d9-9217-4541-a9ea-31e433a75f4a",
   "metadata": {},
   "outputs": [
    {
     "name": "stdout",
     "output_type": "stream",
     "text": [
      "2 1\n"
     ]
    }
   ],
   "source": [
    "f(*(2,1))"
   ]
  },
  {
   "cell_type": "code",
   "execution_count": 9,
   "id": "4342abad-cd6e-4ed4-8596-533511efbf3e",
   "metadata": {},
   "outputs": [
    {
     "name": "stdout",
     "output_type": "stream",
     "text": [
      "s t\n"
     ]
    }
   ],
   "source": [
    "f(*{'s':2, 't':1})"
   ]
  },
  {
   "cell_type": "markdown",
   "id": "f3e842ad-90ed-4aad-a1f9-9bcfb8a391d9",
   "metadata": {},
   "source": [
    "It is unusual for both keyword arguments and the `*expression` syntax to be used in the same call, so in practice this confusion does not arise.\n",
    "\n",
    "If the syntax `**expression` appears in the function call, `expression` must evaluate to a [mapping](https://docs.python.org/3/glossary.html#term-mapping), the contents of which are treated as additional keyword arguments. If a keyword is already present (as an explicit keyword argument, or from another unpacking), a [`TypeError`](https://docs.python.org/3/library/exceptions.html#TypeError) exception is raised.\n",
    "\n",
    "Formal parameters using the syntax `*identifier` or `**identifier` cannot be used as positional argument slots or as keyword argument names.\n",
    "\n",
    "> 在同一个调用中同时使用关键字参数和 `*expression` 语法的情况并不常见，所以在实践中不会出现这种混淆。\n",
    ">\n",
    "> 如果语法 `**expression` 出现在函数调用中，`expression` 必须求值为一个 [mapping](https://docs.python.org/3/glossary.html#term-mapping)，其内容被视为额外的关键字参数。如果一个关键词已经出现（作为一个显式的关键词参数，或者来自另一个解包），则会产生一个 [`TypeError`](https://docs.python.org/3/library/exceptions.html#TypeError) 异常。\n",
    ">\n",
    "> 使用语法 `*identifier` 或 `**identifier` 的形式参数不能作为位置参数槽或关键词参数名称。"
   ]
  },
  {
   "cell_type": "markdown",
   "id": "eab7ac74-363d-4821-a2e9-6f8da1dbba44",
   "metadata": {},
   "source": [
    "*Changed in version 3.5:* Function calls accept any number of `*` and `**` unpackings, positional arguments may follow iterable unpackings (`*`), and keyword arguments may follow dictionary unpackings (`**`). Originally proposed by [**PEP 448**](https://www.python.org/dev/peps/pep-0448).\n",
    "\n",
    "> *在3.5版本中改变了：*函数调用接受任意数量的 `*` 和 `**` 解包，位置参数可以跟随可迭代解包（`*`），而关键字参数可以跟随字典解包（`**`）。最初由[**PEP 448**](https://www.python.org/dev/peps/pep-0448)提出。\n",
    "\n"
   ]
  },
  {
   "cell_type": "markdown",
   "id": "1ba32f70-4676-47b3-a3f3-4ed75967a524",
   "metadata": {},
   "source": [
    "A call always returns some value, possibly `None`, unless it raises an exception. How this value is computed depends on the type of the callable object.\n",
    "\n",
    "> 一个调用总是返回一些值，可能是 `None`，除非它引发一个异常。这个值是如何计算的，取决于可调用对象的类型。"
   ]
  },
  {
   "cell_type": "markdown",
   "id": "61858b41-ca70-48a0-85ab-602a77b0a9b7",
   "metadata": {},
   "source": [
    "If it is—\n",
    "\n",
    "- a user-defined function:\n",
    "\n",
    "  The code block for the function is executed, passing it the argument list. The first thing the code block will do is bind the formal parameters to the arguments; this is described in section [Function definitions](https://docs.python.org/3/reference/compound_stmts.html#function). When the code block executes a [`return`](https://docs.python.org/3/reference/simple_stmts.html#return) statement, this specifies the return value of the function call.\n",
    "\n",
    "- a built-in function or method:\n",
    "\n",
    "  The result is up to the interpreter; see [Built-in Functions](https://docs.python.org/3/library/functions.html#built-in-funcs) for the descriptions of built-in functions and methods.\n",
    "\n",
    "- a class object:\n",
    "\n",
    "  A new instance of that class is returned.\n",
    "\n",
    "- a class instance method:\n",
    "\n",
    "  The corresponding user-defined function is called, with an argument list that is one longer than the argument list of the call: the instance becomes the first argument.\n",
    "\n",
    "- a class instance:\n",
    "\n",
    "  The class must define a `__call__()` method; the effect is then the same as if that method was called.\n",
    "\n",
    "> 如果它是-\n",
    ">\n",
    "> - a user-defined function  一个用户定义的函数：\n",
    ">\n",
    ">   该函数的代码块被执行，将参数列表传递给它。代码块要做的第一件事是将形式参数与参数绑定；这将在[函数定义](https://docs.python.org/3/reference/compound_stmts.html#function)一节中描述。当代码块执行[`return`](https://docs.python.org/3/reference/simple_stmts.html#return)语句时，这指定了函数调用的返回值。\n",
    ">\n",
    "> - a built-in function or method  一个内置函数或方法：\n",
    ">\n",
    ">   其结果由解释器决定；关于内置函数和方法的描述，请参见[内置函数](https://docs.python.org/3/library/functions.html#built-in-funcs)。\n",
    ">\n",
    "> - a class object  一个类对象：\n",
    ">\n",
    ">   返回该类的一个新实例。\n",
    ">\n",
    "> - a class instance method  一个类的实例方法：\n",
    ">\n",
    ">   相应的用户定义的函数被调用，参数列表比调用的参数列表长一个：实例成为第一个参数。\n",
    ">\n",
    "> - a class instance  一个类的实例：\n",
    ">\n",
    ">   该类必须定义一个 `__call__()` 方法；然后效果与该方法被调用时相同。"
   ]
  },
  {
   "cell_type": "markdown",
   "id": "f151a442-f409-49b6-9a0c-ae920d3460bb",
   "metadata": {},
   "source": [
    "## 6.4. Await expression"
   ]
  },
  {
   "cell_type": "markdown",
   "id": "58ff1b0e-400d-4725-8928-4609550e5b13",
   "metadata": {},
   "source": [
    "Suspend the execution of [coroutine](https://docs.python.org/3/glossary.html#term-coroutine) on an [awaitable](https://docs.python.org/3/glossary.html#term-awaitable) object. Can only be used inside a [coroutine function](https://docs.python.org/3/glossary.html#term-coroutine-function).\n",
    "\n",
    "> 延缓[coroutine](https://docs.python.org/3/glossary.html#term-coroutine)对[awareitable](https://docs.python.org/3/glossary.html#term-awaitable)对象的执行。只能在一个[coroutine函数](https://docs.python.org/3/glossary.html#term-coroutine-function)内使用。"
   ]
  },
  {
   "cell_type": "raw",
   "id": "89af0000-3377-49a0-9116-3405bbd63d34",
   "metadata": {},
   "source": [
    "await_expr ::=  \"await\" primary"
   ]
  },
  {
   "cell_type": "markdown",
   "id": "3973b1ee-d79e-4062-8fde-8b381525547f",
   "metadata": {},
   "source": [
    "*New in version 3.5.*"
   ]
  },
  {
   "cell_type": "markdown",
   "id": "a53e2c21-4bf7-4e60-982e-213ba9e2687e",
   "metadata": {},
   "source": [
    "## 6.5. The power operator"
   ]
  },
  {
   "cell_type": "markdown",
   "id": "16d8a4f9-f064-4602-86bb-0ceca2e40c94",
   "metadata": {},
   "source": [
    "The power operator binds more tightly than unary operators on its left; it binds less tightly than unary operators on its right. The syntax is:\n",
    "\n",
    "> 幂运算符比其左边的单数运算符结合得更紧密；比其右边的单数运算符结合得不紧密。其语法为："
   ]
  },
  {
   "cell_type": "raw",
   "id": "2614b47d-e8a9-44a3-8ba9-77dc380beb6c",
   "metadata": {},
   "source": [
    "power ::=  (await_expr | primary) [\"**\" u_expr]"
   ]
  },
  {
   "cell_type": "markdown",
   "id": "56d07a56-8fba-4d1c-a235-7c975e730321",
   "metadata": {},
   "source": [
    "Thus, in an unparenthesized sequence of power and unary operators, the operators are evaluated from right to left (this does not constrain the evaluation order for the operands): `-1**2` results in `-1`.\n",
    "\n",
    "The power operator has the same semantics as the built-in [`pow()`](https://docs.python.org/3/library/functions.html#pow) function, when called with two arguments: it yields its left argument raised to the power of its right argument. The numeric arguments are first converted to a common type, and the result is of that type.\n",
    "\n",
    "> 因此，在幂运算符和单数运算符的非加括号序列中，运算符从右到左被运算求值（这并不限制操作数的运算求值顺序）。`-1**2`的结果是`-1`。\n",
    ">\n",
    "> 幂运算符与内置的 [`pow()`](https://docs.python.org/3/library/functions.html#pow) 函数具有相同的语义，当调用两个参数时：它产生的左参数提高到其右参数的幂（左参数为底，右参数为幂次）。数字参数首先被转换为一个普通的类型，其结果也是这个类型。"
   ]
  },
  {
   "cell_type": "code",
   "execution_count": 4,
   "id": "c97e06db-a431-41dc-9a57-f16037e9e213",
   "metadata": {},
   "outputs": [
    {
     "data": {
      "text/plain": [
       "8"
      ]
     },
     "execution_count": 4,
     "metadata": {},
     "output_type": "execute_result"
    },
    {
     "data": {
      "text/plain": [
       "8"
      ]
     },
     "execution_count": 4,
     "metadata": {},
     "output_type": "execute_result"
    }
   ],
   "source": [
    "2**3\n",
    "pow(2,3)"
   ]
  },
  {
   "cell_type": "markdown",
   "id": "db782d30-ec11-4384-ba8d-95d68fabab89",
   "metadata": {},
   "source": [
    "For int operands, the result has the same type as the operands unless the second argument is negative; in that case, all arguments are converted to float and a float result is delivered. For example, `10**2` returns `100`, but `10**-2` returns `0.01`.\n",
    "\n",
    "Raising `0.0` to a negative power results in a [`ZeroDivisionError`](https://docs.python.org/3/library/exceptions.html#ZeroDivisionError). Raising a negative number to a fractional power results in a [`complex`](https://docs.python.org/3/library/functions.html#complex) number. (In earlier versions it raised a [`ValueError`](https://docs.python.org/3/library/exceptions.html#ValueError).)\n",
    "\n",
    "> 对于int操作数，结果的类型与操作数相同，除非第二个参数是负数；在这种情况下，所有参数都被转换为float，并给出一个float结果。例如，`10**2` 返回 `100`，但 `10**-2` 返回`0.01`。\n",
    ">\n",
    "> 将 `0.0` 给到一个负数幂，会导致一个[`ZeroDivisionError`](https://docs.python.org/3/library/exceptions.html#ZeroDivisionError)。将一个负数给到一个分数幂，会产生一个 [`complex`](https://docs.python.org/3/library/functions.html#complex) 数字。(在早期的版本中，它会产生一个[`ValueError`](https://docs.python.org/3/library/exceptions.html#ValueError)。)"
   ]
  },
  {
   "cell_type": "code",
   "execution_count": 7,
   "id": "0fabcdbb-7f6a-45f0-903d-9096c3feda30",
   "metadata": {},
   "outputs": [
    {
     "data": {
      "text/plain": [
       "-8"
      ]
     },
     "execution_count": 7,
     "metadata": {},
     "output_type": "execute_result"
    }
   ],
   "source": [
    "(-2)**3"
   ]
  },
  {
   "cell_type": "code",
   "execution_count": 8,
   "id": "6033d5dd-c00e-4bc2-84a5-09af8c62b31a",
   "metadata": {},
   "outputs": [
    {
     "data": {
      "text/plain": [
       "100"
      ]
     },
     "execution_count": 8,
     "metadata": {},
     "output_type": "execute_result"
    },
    {
     "data": {
      "text/plain": [
       "0.01"
      ]
     },
     "execution_count": 8,
     "metadata": {},
     "output_type": "execute_result"
    },
    {
     "data": {
      "text/plain": [
       "0.001"
      ]
     },
     "execution_count": 8,
     "metadata": {},
     "output_type": "execute_result"
    }
   ],
   "source": [
    "10**2\n",
    "10**-2\n",
    "10**-3"
   ]
  },
  {
   "cell_type": "code",
   "execution_count": 9,
   "id": "89592972-e9b0-4e3d-b523-f324f93355d0",
   "metadata": {},
   "outputs": [
    {
     "ename": "ZeroDivisionError",
     "evalue": "0.0 cannot be raised to a negative power",
     "output_type": "error",
     "traceback": [
      "\u001b[1;31m---------------------------------------------------------------------------\u001b[0m",
      "\u001b[1;31mZeroDivisionError\u001b[0m                         Traceback (most recent call last)",
      "Input \u001b[1;32mIn [9]\u001b[0m, in \u001b[0;36m<cell line: 1>\u001b[1;34m()\u001b[0m\n\u001b[1;32m----> 1\u001b[0m \u001b[38;5;241;43m0.0\u001b[39;49m\u001b[38;5;241;43m*\u001b[39;49m\u001b[38;5;241;43m*\u001b[39;49m\u001b[38;5;241;43m-\u001b[39;49m\u001b[38;5;241;43m2\u001b[39;49m\n",
      "\u001b[1;31mZeroDivisionError\u001b[0m: 0.0 cannot be raised to a negative power"
     ]
    }
   ],
   "source": [
    "0.0**-2"
   ]
  },
  {
   "cell_type": "code",
   "execution_count": 10,
   "id": "0b0ad3cc-a24e-44f6-97fb-d6d7b8ccd724",
   "metadata": {},
   "outputs": [
    {
     "data": {
      "text/plain": [
       "(1.0193171355373611+0.33119621404379557j)"
      ]
     },
     "execution_count": 10,
     "metadata": {},
     "output_type": "execute_result"
    }
   ],
   "source": [
    "(-2)**0.1"
   ]
  },
  {
   "cell_type": "markdown",
   "id": "bcbee46d-115a-422a-9943-e69d63e5b4f5",
   "metadata": {},
   "source": [
    "This operation can be customized using the special `__pow__()` method.\n",
    "\n",
    "> 这个操作可以使用特殊的 `__pow__()` 方法来定制。"
   ]
  },
  {
   "cell_type": "markdown",
   "id": "50147a31-1d25-4e6e-8097-b775761975bb",
   "metadata": {},
   "source": [
    "## 6.6. Unary arithmetic and bitwise operations"
   ]
  },
  {
   "cell_type": "markdown",
   "id": "bff497d5-efd9-4bc3-9f9c-65eea17c62ce",
   "metadata": {},
   "source": [
    "All unary arithmetic and bitwise operations have the same priority:\n",
    "\n",
    "> 所有单项（一元）算术和位操作都有相同的优先级："
   ]
  },
  {
   "cell_type": "raw",
   "id": "fc5b94c1-6553-4f14-bdc8-5c567275d21c",
   "metadata": {},
   "source": [
    "u_expr ::=  power | \"-\" u_expr | \"+\" u_expr | \"~\" u_expr"
   ]
  },
  {
   "cell_type": "markdown",
   "id": "43796f8a-07b1-4327-aef2-bcb719b1fab7",
   "metadata": {},
   "source": [
    "The unary `-` (minus) operator yields the negation of its numeric argument; the operation can be overridden with the `__neg__()` special method.\n",
    "\n",
    "The unary `+` (plus) operator yields its numeric argument unchanged; the operation can be overridden with the `__pos__()` special method.\n",
    "\n",
    "> 单数 `-`（减）运算符产生其数字参数的反面值；该操作可以通过 `__neg__()` 特殊方法进行重写。\n",
    ">\n",
    "> 单数的 `+`（加）运算符产生其数字参数，不作任何改变；该操作可以用 `__pos__()` 特殊方法重写。"
   ]
  },
  {
   "cell_type": "code",
   "execution_count": 14,
   "id": "18c5c637-0552-464c-9968-1a3f7fb1593c",
   "metadata": {},
   "outputs": [
    {
     "data": {
      "text/plain": [
       "3"
      ]
     },
     "execution_count": 14,
     "metadata": {},
     "output_type": "execute_result"
    },
    {
     "data": {
      "text/plain": [
       "-3"
      ]
     },
     "execution_count": 14,
     "metadata": {},
     "output_type": "execute_result"
    },
    {
     "data": {
      "text/plain": [
       "3"
      ]
     },
     "execution_count": 14,
     "metadata": {},
     "output_type": "execute_result"
    },
    {
     "data": {
      "text/plain": [
       "3"
      ]
     },
     "execution_count": 14,
     "metadata": {},
     "output_type": "execute_result"
    },
    {
     "data": {
      "text/plain": [
       "-3"
      ]
     },
     "execution_count": 14,
     "metadata": {},
     "output_type": "execute_result"
    }
   ],
   "source": [
    "a = -3\n",
    "b = +3\n",
    "-a\n",
    "-b\n",
    "a.__neg__()\n",
    "b.__pos__()\n",
    "a.__pos__()"
   ]
  },
  {
   "cell_type": "markdown",
   "id": "9e0d1354-64b0-4068-b7b8-6bf3cccad242",
   "metadata": {},
   "source": [
    "The unary `~` (invert) operator yields the bitwise inversion of its integer argument. The bitwise inversion of `x` is defined as `-(x+1)`. It only applies to integral numbers or to custom objects that override the `__invert__()` special method.\n",
    "\n",
    "> 一元的 `~`(invert)运算符可以得到其整数参数的按位反转。`x ` 的按位反转被定义为 `-(x+1)`。它只适用于整数或覆盖了`__invert__()` 特殊方法的自定义对象。"
   ]
  },
  {
   "cell_type": "code",
   "execution_count": 2,
   "id": "0d71f648-ff46-46e4-8173-500a103ffa7d",
   "metadata": {},
   "outputs": [
    {
     "data": {
      "text/plain": [
       "-2"
      ]
     },
     "execution_count": 2,
     "metadata": {},
     "output_type": "execute_result"
    }
   ],
   "source": [
    "~1"
   ]
  },
  {
   "cell_type": "markdown",
   "id": "489daac4-063c-4650-bbdc-04e554dd216b",
   "metadata": {},
   "source": [
    "In all three cases, if the argument does not have the proper type, a [`TypeError`](https://docs.python.org/3/library/exceptions.html#TypeError) exception is raised.\n",
    "\n",
    "> 在这三种情况下，如果参数没有合适的类型，就会产生一个 [`TypeError`](https://docs.python.org/3/library/exceptions.html#TypeError) 异常。"
   ]
  },
  {
   "cell_type": "markdown",
   "id": "8305fe5e-2d32-4d90-be44-e649cf9c2f81",
   "metadata": {},
   "source": [
    "## 6.7. Binary arithmetic operations"
   ]
  },
  {
   "cell_type": "markdown",
   "id": "e5f44cab-1677-4c8a-811b-7506e4281020",
   "metadata": {},
   "source": [
    "The binary arithmetic operations have the conventional priority levels. Note that some of these operations also apply to certain non-numeric types. Apart from the power operator, there are only two levels, one for multiplicative operators and one for additive operators:\n",
    "\n",
    "> 二进制算术操作具有传统的优先级。请注意，其中一些运算也适用于某些非数字类型。除了幂运算外，只有两个级别，一个用于乘法运算，一个用于加法运算。"
   ]
  },
  {
   "cell_type": "raw",
   "id": "ab9b8206-3233-43a8-a7d9-863f65fbf5b2",
   "metadata": {},
   "source": [
    "m_expr ::=  u_expr | m_expr \"*\" u_expr | m_expr \"@\" m_expr |\n",
    "            m_expr \"//\" u_expr | m_expr \"/\" u_expr |\n",
    "            m_expr \"%\" u_expr\n",
    "a_expr ::=  m_expr | a_expr \"+\" m_expr | a_expr \"-\" m_expr"
   ]
  },
  {
   "cell_type": "markdown",
   "id": "84708240-ccaa-40ea-8895-e477487141c1",
   "metadata": {},
   "source": [
    "The `*` (multiplication) operator yields the product of its arguments. The arguments must either both be numbers, or one argument must be an integer and the other must be a sequence. In the former case, the numbers are converted to a common type and then multiplied together. In the latter case, sequence repetition is performed; a negative repetition factor yields an empty sequence.\n",
    "\n",
    "This operation can be customized using the special `__mul__()` and `__rmul__()` methods.\n",
    "\n",
    "> `*`（乘法）运算符产生其参数的**乘积**。参数必须都是数字，或者一个参数必须是整数，另一个必须是序列。在前一种情况下，这些数字被转换为一个共同的类型，然后一起相乘。在后一种情况下，会进行序列重复；一个负的重复系数会产生一个空的序列。\n",
    ">\n",
    "> 这个操作可以使用特殊的 `__mul__()` 和 `__rmul__()` 方法来定制。"
   ]
  },
  {
   "cell_type": "markdown",
   "id": "af8a728d-d362-4b0b-a61d-b09ddfe935c3",
   "metadata": {},
   "source": [
    "The `@` (at) operator is intended to be used for matrix multiplication. No builtin Python types implement this operator.\n",
    "\n",
    "> `@` (at) 操作符是用来做矩阵乘法的。没有内置的Python类型实现这个操作符。"
   ]
  },
  {
   "cell_type": "markdown",
   "id": "99d19b4b-8996-47b4-b651-63315497533b",
   "metadata": {},
   "source": [
    "*New in version 3.5.*"
   ]
  },
  {
   "cell_type": "markdown",
   "id": "1a2bca5a-7f6d-409a-a297-b33e0cf1a99d",
   "metadata": {},
   "source": [
    "The `/` (division) and `//` (floor division) operators yield the quotient of their arguments. The numeric arguments are first converted to a common type. Division of integers yields a float, while floor division of integers results in an integer; the result is that of mathematical division with the ‘floor’ function applied to the result. Division by zero raises the [`ZeroDivisionError`](https://docs.python.org/3/library/exceptions.html#ZeroDivisionError) exception.\n",
    "\n",
    "This operation can be customized using the special `__truediv__()` and `__floordiv__()` methods.\n",
    "\n",
    "> `/`（除法）和`//`（底限除法）运算符产生其参数的商。数字参数首先被转换为一个通用类型。整数除法产生一个浮点数，而整数的底线除法产生一个整数；其结果是数学除法的 \"底线\"函数应用于结果。除以0会引发[`ZeroDivisionError`](https://docs.python.org/3/library/exceptions.html#ZeroDivisionError) 异常。\n",
    ">\n",
    "> 这个操作可以通过特殊的`__truediv__()`和`__floordiv__()`方法来定制。"
   ]
  },
  {
   "cell_type": "code",
   "execution_count": 3,
   "id": "3d515f55-68cf-4d66-91a8-acff43c3d722",
   "metadata": {},
   "outputs": [
    {
     "data": {
      "text/plain": [
       "4.5"
      ]
     },
     "execution_count": 3,
     "metadata": {},
     "output_type": "execute_result"
    }
   ],
   "source": [
    "9 / 2"
   ]
  },
  {
   "cell_type": "code",
   "execution_count": 4,
   "id": "942749f0-4c62-4c9b-a807-c434a117fd69",
   "metadata": {},
   "outputs": [
    {
     "data": {
      "text/plain": [
       "4"
      ]
     },
     "execution_count": 4,
     "metadata": {},
     "output_type": "execute_result"
    }
   ],
   "source": [
    "9 // 2"
   ]
  },
  {
   "cell_type": "code",
   "execution_count": 6,
   "id": "0ccef17f-c75e-4662-8db6-afcbde1f650f",
   "metadata": {},
   "outputs": [
    {
     "data": {
      "text/plain": [
       "4.6"
      ]
     },
     "execution_count": 6,
     "metadata": {},
     "output_type": "execute_result"
    },
    {
     "data": {
      "text/plain": [
       "4"
      ]
     },
     "execution_count": 6,
     "metadata": {},
     "output_type": "execute_result"
    }
   ],
   "source": [
    "23 /5\n",
    "23 // 5"
   ]
  },
  {
   "cell_type": "markdown",
   "id": "12e02ec7-3bdc-474d-bc52-cf9d7c70f345",
   "metadata": {},
   "source": [
    "The `%` (modulo) operator yields the remainder from the division of the first argument by the second. The numeric arguments are first converted to a common type. A zero right argument raises the [`ZeroDivisionError`](https://docs.python.org/3/library/exceptions.html#ZeroDivisionError) exception. The arguments may be floating point numbers, e.g., `3.14%0.7` equals `0.34` (since `3.14` equals `4*0.7 + 0.34`.) The modulo operator always yields a result with the same sign as its second operand (or zero); the absolute value of the result is strictly smaller than the absolute value of the second operand [^1].\n",
    "\n",
    "The floor division and modulo operators are connected by the following identity: `x == (x//y)*y + (x%y)`. Floor division and modulo are also connected with the built-in function [`divmod()`](https://docs.python.org/3/library/functions.html#divmod): `divmod(x, y) == (x//y, x%y)`. [^2]\n",
    "\n",
    "> `%`（modulo）运算符产生第一个参数除以第二个参数的余数。数字参数首先被转换为普通类型。右边的参数为零会引发 [`ZeroDivisionError`](https://docs.python.org/3/library/exceptions.html#ZeroDivisionError) 异常。参数可以是浮点数，例如，`3.14%0.7`等于`0.34`（因为`3.14`等于`4*0.7+0.34`。）模运算符总是产生一个与第二个操作数（或零）相同符号的结果；结果的绝对值严格小于第二个操作数的绝对值[^1]。\n",
    ">\n",
    "> 地板除法和modulo运算符由以下的特性连接： `x == (x//y)*y + (x%y)`。地板除法和modulo也通过内置函数[`divmod()`](https://docs.python.org/3/library/functions.html#divmod)连接。`divmod(x, y) == (x//y, x%y)`. [^2]"
   ]
  },
  {
   "cell_type": "markdown",
   "id": "28cddbd1-a85b-435e-bdc0-cdfb06a7b2c3",
   "metadata": {},
   "source": [
    "In addition to performing the modulo operation on numbers, the `%` operator is also overloaded by string objects to perform old-style string formatting (also known as interpolation). The syntax for string formatting is described in the Python Library Reference, section [printf-style String Formatting](https://docs.python.org/3/library/stdtypes.html#old-string-formatting).\n",
    "\n",
    "The *modulo* operation can be customized using the special `__mod__()` method.\n",
    "\n",
    "The floor division operator, the modulo operator, and the [`divmod()`](https://docs.python.org/3/library/functions.html#divmod) function are not defined for complex numbers. Instead, convert to a floating point number using the [`abs()`](https://docs.python.org/3/library/functions.html#abs) function if appropriate.\n",
    "\n",
    "> 除了在数字上执行模运算外，`% `运算符也被字符串对象重载，以执行旧式的字符串格式化(也称为插值（interpolation）)。字符串格式化的语法在《Python库参考》的 [printf-style字符串格式化](https://docs.python.org/3/library/stdtypes.html#old-string-formatting)一节中描述。\n",
    ">\n",
    "> 可以使用特殊的 `__mod__()` 方法来定制*modulo*操作。\n",
    ">\n",
    "> 地板除法运算符、modulo运算符和 [`divmod()`](https://docs.python.org/3/library/functions.html#divmod) 函数没有为复数定义。相反，如果合适的话，请使用[`abs()`](https://docs.python.org/3/library/functions.html#abs)函数转换为浮点数。"
   ]
  },
  {
   "cell_type": "markdown",
   "id": "56365a1d-c999-4a4d-899e-4e35407673e9",
   "metadata": {},
   "source": [
    "The `+` (addition) operator yields the sum of its arguments. The arguments must either both be numbers or both be sequences of the same type. In the former case, the numbers are converted to a common type and then added together. In the latter case, the sequences are concatenated.\n",
    "\n",
    "This operation can be customized using the special `__add__()` and `__radd__()` methods.\n",
    "\n",
    "The `-` (subtraction) operator yields the difference of its arguments. The numeric arguments are first converted to a common type.\n",
    "\n",
    "This operation can be customized using the special `__sub__()` method.\n",
    "\n",
    "> `+`（加法）运算符产生其参数的总和。参数必须都是数字或者都是相同类型的序列。在前一种情况下，数字被转换为一个共同的类型，然后加在一起。在后一种情况下，序列被串联起来。\n",
    ">\n",
    "> 这个操作可以通过特殊的 `__add__()` 和 `__radd__()` 方法来定制。\n",
    ">\n",
    "> `-`（减法）运算符产生其参数的差值。数字参数首先被转换为一个普通的类型。\n",
    ">\n",
    "> 这个操作可以使用特殊的 `__sub__()` 方法来定制。"
   ]
  },
  {
   "cell_type": "code",
   "execution_count": 8,
   "id": "2bc10447-b79a-4fb8-8ff1-6df28f568006",
   "metadata": {},
   "outputs": [
    {
     "data": {
      "text/plain": [
       "3"
      ]
     },
     "execution_count": 8,
     "metadata": {},
     "output_type": "execute_result"
    },
    {
     "data": {
      "text/plain": [
       "'st'"
      ]
     },
     "execution_count": 8,
     "metadata": {},
     "output_type": "execute_result"
    },
    {
     "data": {
      "text/plain": [
       "[1, 3, 4, 2, 4, 6]"
      ]
     },
     "execution_count": 8,
     "metadata": {},
     "output_type": "execute_result"
    },
    {
     "data": {
      "text/plain": [
       "{1, 3}"
      ]
     },
     "execution_count": 8,
     "metadata": {},
     "output_type": "execute_result"
    }
   ],
   "source": [
    "1 + 2\n",
    "\n",
    "\"s\" + \"t\"\n",
    "\n",
    "a = [1, 3, 4]\n",
    "b = [2, 4, 6]\n",
    "a + b\n",
    "\n",
    "c =  {1, 3, 4}\n",
    "d =  {2, 4, 6}\n",
    "c - d"
   ]
  },
  {
   "cell_type": "markdown",
   "id": "9846c14d-c80f-4d98-9313-c73941206534",
   "metadata": {},
   "source": [
    "## 6.8. Shifting operations"
   ]
  },
  {
   "cell_type": "markdown",
   "id": "68e10ba7-260b-4aef-bb0a-82f6591e24ec",
   "metadata": {},
   "source": [
    "The shifting operations have lower priority than the arithmetic operations:\n",
    "\n",
    "> 移位操作的优先级比算术操作低："
   ]
  },
  {
   "cell_type": "raw",
   "id": "10380de8-6764-4fe5-a4f8-8fa713260d02",
   "metadata": {},
   "source": [
    "shift_expr ::=  a_expr | shift_expr (\"<<\" | \">>\") a_expr"
   ]
  },
  {
   "cell_type": "markdown",
   "id": "0de7916b-c69f-4a9c-9095-e0c1331b65a1",
   "metadata": {},
   "source": [
    "These operators accept integers as arguments. They shift the first argument to the left or right by the number of bits given by the second argument.\n",
    "\n",
    "This operation can be customized using the special `__lshift__()` and `__rshift__()` methods.\n",
    "\n",
    "A right shift by *n* bits is defined as floor division by `pow(2,n)`. A left shift by *n* bits is defined as multiplication with `pow(2,n)`.\n",
    "\n",
    "> 这些运算符接受整数作为参数。它们将第一个参数向左或向右移动，移动的位数由第二个参数给出。\n",
    ">\n",
    "> 这个操作可以通过特殊的 `__lshift__()` 和 `__rshift__()` 方法来定制。\n",
    ">\n",
    "> 右移*n*位被定义为地板除以 `pow(2,n)`。左移*n*位被定义为与 `pow(2,n)` 的乘法。"
   ]
  },
  {
   "cell_type": "code",
   "execution_count": 11,
   "id": "e244cd4c-10cf-4bf1-ae8b-1d7ec1c89436",
   "metadata": {},
   "outputs": [
    {
     "data": {
      "text/plain": [
       "4"
      ]
     },
     "execution_count": 11,
     "metadata": {},
     "output_type": "execute_result"
    },
    {
     "data": {
      "text/plain": [
       "1"
      ]
     },
     "execution_count": 11,
     "metadata": {},
     "output_type": "execute_result"
    }
   ],
   "source": [
    "2 << 1\n",
    "2 >> 1"
   ]
  },
  {
   "cell_type": "markdown",
   "id": "6b11a92e-30bf-4766-b52c-a86a7e9f465c",
   "metadata": {},
   "source": [
    "## 6.9. Binary bitwise operations"
   ]
  },
  {
   "cell_type": "markdown",
   "id": "a88d2016-5156-4256-aef9-eec296ed0663",
   "metadata": {},
   "source": [
    "Each of the three bitwise operations has a different priority level:\n",
    "\n",
    "> 三个位操作中的每一个都有不同的优先级别："
   ]
  },
  {
   "cell_type": "raw",
   "id": "24d55dd7-a1bb-428b-a1d3-3ed0be3aebfd",
   "metadata": {},
   "source": [
    "and_expr ::=  shift_expr | and_expr \"&\" shift_expr\n",
    "xor_expr ::=  and_expr | xor_expr \"^\" and_expr\n",
    "or_expr  ::=  xor_expr | or_expr \"|\" xor_expr"
   ]
  },
  {
   "cell_type": "markdown",
   "id": "0e9dc777-293e-4f78-b5f0-f562acb6b799",
   "metadata": {},
   "source": [
    "The `&` operator yields the bitwise AND of its arguments, which must be integers or one of them must be a custom object overriding `__and__()` or `__rand__()` special methods.\n",
    "\n",
    "The `^` operator yields the bitwise XOR (exclusive OR) of its arguments, which must be integers or one of them must be a custom object overriding `__xor__()` or `__rxor__()` special methods.\n",
    "\n",
    "The `|` operator yields the bitwise (inclusive) OR of its arguments, which must be integers or one of them must be a custom object overriding `__or__()` or `__ror__()` special methods.\n",
    "\n",
    "> `&` 运算符产生其参数的位数和(AND)，这些参数必须是整数，或者其中一个必须是覆盖了 `__and__()` 或`__rand__() `特殊方法的自定义对象。\n",
    ">\n",
    "> `^` 操作符产生其参数的位数XOR（排他性OR），这些参数必须是整数，或者其中一个必须是覆盖 `__xor__()` 或 `__rxor__()` 特殊方法的自定义对象。\n",
    ">\n",
    "> `|` 操作符产生其参数的位数（包括）OR，这些参数必须是整数，或者其中一个必须是覆盖了`__or__()`或`__ror__()`特殊方法的自定义对象。"
   ]
  },
  {
   "cell_type": "markdown",
   "id": "c339bbf3-67aa-43fc-97d4-96ef6dda2d51",
   "metadata": {},
   "source": [
    "## 6.10. Comparisons\n"
   ]
  },
  {
   "cell_type": "markdown",
   "id": "f5f9976d-2f78-496e-b45a-d93db2cb8390",
   "metadata": {},
   "source": [
    "Unlike C, all comparison operations in Python have the same priority, which is lower than that of any arithmetic, shifting or bitwise operation. Also unlike C, expressions like `a < b < c` have the interpretation that is conventional in mathematics:\n",
    "\n",
    "> 与C不同，Python中的所有比较操作都有相同的优先级，低于任何算术、移位或位操作。同样与C不同的是，像 `a < b < c` 这样的表达式具有数学中的常规解释："
   ]
  },
  {
   "cell_type": "raw",
   "id": "7086bbd0-9bef-4490-8275-9acdfc0e3769",
   "metadata": {},
   "source": [
    "comparison    ::=  or_expr (comp_operator or_expr)*\n",
    "comp_operator ::=  \"<\" | \">\" | \"==\" | \">=\" | \"<=\" | \"!=\"\n",
    "                   | \"is\" [\"not\"] | [\"not\"] \"in\""
   ]
  },
  {
   "cell_type": "markdown",
   "id": "10057907-4356-4e2a-9f43-6c2f843c1039",
   "metadata": {},
   "source": [
    "Comparisons yield boolean values: `True` or `False`. Custom *rich comparison methods* may return non-boolean values. In this case Python will call [`bool()`](https://docs.python.org/3/library/functions.html#bool) on such value in boolean contexts.\n",
    "\n",
    "> 比较产生布尔值。`True` 或 `False`。自定义的*丰富的比较方法*可能返回非布尔值。在这种情况下，Python将在布尔语境中对这种值调用[`bool()`](https://docs.python.org/3/library/functions.html#bool)。"
   ]
  },
  {
   "cell_type": "markdown",
   "id": "3a66e5b2-0779-4660-a3ab-3e69e0211abb",
   "metadata": {},
   "source": [
    "Comparisons can be chained arbitrarily, e.g., `x < y <= z` is equivalent to `x < y and y <= z`, except that `y` is evaluated only once (but in both cases `z` is not evaluated at all when `x < y` is found to be false).\n",
    "\n",
    "Formally, if *a*, *b*, *c*, …, *y*, *z* are expressions and *op1*, *op2*, …, *opN* are comparison operators, then `a op1 b op2 c ... y opN z` is equivalent to `a op1 b and b op2 c and ... y opN z`, except that each expression is evaluated at most once.\n",
    "\n",
    "Note that `a op1 b op2 c` doesn’t imply any kind of comparison between *a* and *c*, so that, e.g., `x < y > z` is perfectly legal (though perhaps not pretty).\n",
    "\n",
    "> 比较可以任意连锁，例如，`x < y <= z `等同于`x < y and y <= z`，只是 `y` 只被运算求值一次（但在这两种情况下，当`x < y` 被发现为假时，`z`根本不被运算求值）。\n",
    ">\n",
    "> 形式上，如果*a*, *b*, *c*, ..., *y*, *z*是表达式，*op1*, *op2*, ..., *opN*是比较运算符，那么 `a op1 b op2 c ... y opN z`等同于 `a op1 b and b op2 c and ... y opN z`，只是每个表达式最多被运算求值一次。\n",
    ">\n",
    "> 请注意，`a op1 b op2 c `并不意味着*a*和*c*之间的任何比较，因此，例如，`x < y > z`是完全合法的（尽管可能不漂亮）。"
   ]
  },
  {
   "cell_type": "markdown",
   "id": "080b9e66-0100-4551-9b87-8690883a41e9",
   "metadata": {},
   "source": [
    "### 6.10.1. Value comparisons"
   ]
  },
  {
   "cell_type": "markdown",
   "id": "abcbfbd4-fda4-4613-b6c6-f7503db1c281",
   "metadata": {},
   "source": [
    "The operators `<`, `>`, `==`, `>=`, `<=`, and `!=` compare the values of two objects. The objects do not need to have the same type.\n",
    "\n",
    "> 操作符`<`, `>`, `==`, `>=`, `<=`, 和`！=`比较两个对象的值。这些对象不需要有相同的类型。"
   ]
  },
  {
   "cell_type": "markdown",
   "id": "7d02ca05-e4bc-46f0-8e3b-f3e5c0c86bd4",
   "metadata": {},
   "source": [
    "Chapter [Objects, values and types](https://docs.python.org/3/reference/datamodel.html#objects) states that objects have a value (in addition to type and identity). The value of an object is a rather abstract notion in Python: For example, there is no canonical access method for an object’s value. Also, there is no requirement that the value of an object should be constructed in a particular way, e.g. comprised of all its data attributes. Comparison operators implement a particular notion of what the value of an object is. One can think of them as defining the value of an object indirectly, by means of their comparison implementation.\n",
    "\n",
    "Because all types are (direct or indirect) subtypes of [`object`](https://docs.python.org/3/library/functions.html#object), they inherit the default comparison behavior from [`object`](https://docs.python.org/3/library/functions.html#object). Types can customize their comparison behavior by implementing *rich comparison methods* like `__lt__()`, described in [Basic customization](https://docs.python.org/3/reference/datamodel.html#customization).\n",
    "\n",
    "> 章[对象、值和类型](https://docs.python.org/3/reference/datamodel.html#objects)指出，对象有一个值(除了类型和身份之外)。在 Python 中，对象的值是一个相当抽象的概念。例如，对于一个对象的值没有规范的访问方法。另外，也没有要求一个对象的值应该以特定的方式构造，例如，由它的所有数据属性组成。比较运算符实现了一个对象的值是什么的特定概念。我们可以认为它们是通过比较的实现间接地定义了对象的值。\n",
    ">\n",
    "> 因为所有的类型都是[`object`](https://docs.python.org/3/library/functions.html#object)的（直接或间接）子类型，它们继承了[`object`](https://docs.python.org/3/library/functions.html#object)的默认比较行为。类型可以通过实现像 `\\__lt__()` 这样的*丰富的比较方法*来定制它们的比较行为，在[基本定制](https://docs.python.org/3/reference/datamodel.html#customization)中描述。"
   ]
  },
  {
   "cell_type": "markdown",
   "id": "bc89e6b0-eec3-488d-895b-0664edb81076",
   "metadata": {},
   "source": [
    "The default behavior for equality comparison (`==` and `!=`) is based on the identity of the objects. Hence, equality comparison of instances with the same identity results in equality, and equality comparison of instances with different identities results in inequality. A motivation for this default behavior is the desire that all objects should be reflexive (i.e. `x is y` implies `x == y`).\n",
    "\n",
    "A default order comparison (`<`, `>`, `<=`, and `>=`) is not provided; an attempt raises [`TypeError`](https://docs.python.org/3/library/exceptions.html#TypeError). A motivation for this default behavior is the lack of a similar invariant as for equality.\n",
    "\n",
    "> 相等比较（`==`和`！=`）的默认行为是基于对象的身份。因此，具有相同身份的实例的相等比较结果是相等的，而具有不同身份的实例的相等比较结果是不平等的。这种默认行为的动机是希望所有对象都是反身的（即 `x is y` 意味着 `x == y`）。\n",
    ">\n",
    "> 没有提供默认的顺序比较（`<`, `>`, `<=`, and `>=`）；如果尝试，会引发 [`TypeError`](https://docs.python.org/3/library/exceptions.html#TypeError)。这种默认行为的动机是缺乏类似于相等的不变量。"
   ]
  },
  {
   "cell_type": "code",
   "execution_count": 3,
   "id": "d9cdcad5-f725-4709-bdeb-c268917f1461",
   "metadata": {},
   "outputs": [
    {
     "data": {
      "text/plain": [
       "True"
      ]
     },
     "execution_count": 3,
     "metadata": {},
     "output_type": "execute_result"
    }
   ],
   "source": [
    "a = 3\n",
    "b = 3.0\n",
    "\n",
    "a == b"
   ]
  },
  {
   "cell_type": "markdown",
   "id": "992a9ef3-4811-44d3-a9de-5ea8db2287a1",
   "metadata": {},
   "source": [
    "The behavior of the default equality comparison, that instances with different identities are always unequal, may be in contrast to what types will need that have a sensible definition of object value and value-based equality. Such types will need to customize their comparison behavior, and in fact, a number of built-in types have done that.\n",
    "\n",
    "> 默认的相等性比较的行为，即不同身份的实例总是不相等的，这可能与那些对对象值和基于值的相等性有合理定义的类型所需要的形成对比。这样的类型将需要定制它们的比较行为，事实上，一些内置类型已经做到了这一点。"
   ]
  },
  {
   "cell_type": "markdown",
   "id": "70240fb8-f7c5-42ab-8480-2698f42200fa",
   "metadata": {},
   "source": [
    "The following list describes the comparison behavior of the most important built-in types.\n",
    "\n",
    "> 下面的列表描述了最重要的内置类型的比较行为。"
   ]
  },
  {
   "cell_type": "markdown",
   "id": "74c405ad-2109-4ac0-8206-3d4059baa9c1",
   "metadata": {},
   "source": [
    "- Numbers of built-in numeric types ([Numeric Types — int, float, complex](https://docs.python.org/3/library/stdtypes.html#typesnumeric)) and of the standard library types [`fractions.Fraction`](https://docs.python.org/3/library/fractions.html#fractions.Fraction) and [`decimal.Decimal`](https://docs.python.org/3/library/decimal.html#decimal.Decimal) can be compared within and across their types, with the restriction that complex numbers do not support order comparison. Within the limits of the types involved, they compare mathematically (algorithmically) correct without loss of precision.\n",
    "\n",
    "  The not-a-number values `float('NaN')` and `decimal.Decimal('NaN')` are special. Any ordered comparison of a number to a not-a-number value is false. A counter-intuitive implication is that not-a-number values are not equal to themselves. For example, if `x = float('NaN')`, `3 < x`, `x < 3` and `x == x` are all false, while `x != x` is true. This behavior is compliant with IEEE 754.\n",
    "\n",
    "- `None` and `NotImplemented` are singletons. [**PEP 8**](https://www.python.org/dev/peps/pep-0008) advises that comparisons for singletons should always be done with `is` or `is not`, never the equality operators.\n",
    "\n",
    "- Binary sequences (instances of [`bytes`](https://docs.python.org/3/library/stdtypes.html#bytes) or [`bytearray`](https://docs.python.org/3/library/stdtypes.html#bytearray)) can be compared within and across their types. They compare lexicographically using the numeric values of their elements.\n",
    "\n",
    "- Strings (instances of [`str`](https://docs.python.org/3/library/stdtypes.html#str)) compare lexicographically using the numerical Unicode code points (the result of the built-in function [`ord()`](https://docs.python.org/3/library/functions.html#ord)) of their characters. [^3]\n",
    "\n",
    "  Strings and binary sequences cannot be directly compared.\n",
    "\n",
    "> - 内置数字类型（[Numeric Types - int, float, complex](https://docs.python.org/3/library/stdtypes.html#typesnumeric)）和标准库类型[`fractions.Fraction`](https://docs.python.org/3/library/fractions.html#fractions.Fraction)和[`decimal.Decimal`](https://docs.python.org/3/library/decimal.html#decimal.Decimal)的数字可以在其类型内和之间进行比较，但限制是复数不支持顺序比较。在所涉及的类型的限制范围内，它们的比较在数学上（算法上）是正确的，没有精度损失。\n",
    ">\n",
    ">   非数字值 `float('NaN')` 和 `decimal.Decimal('NaN')` 是特殊的。任何数字与非数字值的有序比较都是错误的。一个反直觉的含义是，非数字值不等于自己。例如，如果 `x = float('NaN')`，`3 < x`，`x < 3` 和 `x == x` 都是假的，而 `x != x` 是真的。这种行为符合IEEE 754的规定。\n",
    ">\n",
    "> - `None `和 `NotImplemented` 是单数。[**PEP 8**](https://www.python.org/dev/peps/pep-0008)建议，单子的比较应该总是用 `is`或 `is not` 来完成，而不是用相等运算符。\n",
    ">\n",
    "> - 二进制序列（[`bytes`](https://docs.python.org/3/library/stdtypes.html#bytes)或[`bytearray`](https://docs.python.org/3/library/stdtypes.html#bytearray)的实例）可以在其类型内部和之间进行比较。它们使用其元素的数值进行按字母顺序的比较。\n",
    ">\n",
    "> - 字符串（[`str`](https://docs.python.org/3/library/stdtypes.html#str)的实例）使用其字符的数字Unicode码位（内置函数[`ord()`](https://docs.python.org/3/library/functions.html#ord)的结果）进行词典式比较。[^3]\n",
    ">\n",
    ">   字符串和二进制序列不能被直接比较。"
   ]
  },
  {
   "cell_type": "code",
   "execution_count": 8,
   "id": "ece4d15d-3d2f-4c58-b358-2d3843c5f8bf",
   "metadata": {},
   "outputs": [
    {
     "data": {
      "text/plain": [
       "False"
      ]
     },
     "execution_count": 8,
     "metadata": {},
     "output_type": "execute_result"
    }
   ],
   "source": [
    "3.14j == 4.14j\n",
    "\n",
    "# raise a TypeError:'>=' not supported between instances of 'complex' and 'complex'\n",
    "# 3.14j >= 4.14j"
   ]
  },
  {
   "cell_type": "code",
   "execution_count": 11,
   "id": "d07eb104-201d-40aa-a310-35691de0a73f",
   "metadata": {},
   "outputs": [
    {
     "data": {
      "text/plain": [
       "False"
      ]
     },
     "execution_count": 11,
     "metadata": {},
     "output_type": "execute_result"
    },
    {
     "data": {
      "text/plain": [
       "True"
      ]
     },
     "execution_count": 11,
     "metadata": {},
     "output_type": "execute_result"
    }
   ],
   "source": [
    "import decimal\n",
    "\n",
    "float('NaN')  == decimal.Decimal('NaN')\n",
    "float('NaN')  != float('NaN')"
   ]
  },
  {
   "cell_type": "code",
   "execution_count": 16,
   "id": "694545b5-89dc-4253-819b-8625038fff4e",
   "metadata": {},
   "outputs": [
    {
     "data": {
      "text/plain": [
       "True"
      ]
     },
     "execution_count": 16,
     "metadata": {},
     "output_type": "execute_result"
    },
    {
     "data": {
      "text/plain": [
       "True"
      ]
     },
     "execution_count": 16,
     "metadata": {},
     "output_type": "execute_result"
    }
   ],
   "source": [
    "None is None\n",
    "None is not NotImplemented"
   ]
  },
  {
   "cell_type": "code",
   "execution_count": 18,
   "id": "a4b77199-05d1-44fb-b390-f8bb4601abd8",
   "metadata": {},
   "outputs": [
    {
     "data": {
      "text/plain": [
       "False"
      ]
     },
     "execution_count": 18,
     "metadata": {},
     "output_type": "execute_result"
    },
    {
     "data": {
      "text/plain": [
       "115"
      ]
     },
     "execution_count": 18,
     "metadata": {},
     "output_type": "execute_result"
    },
    {
     "data": {
      "text/plain": [
       "116"
      ]
     },
     "execution_count": 18,
     "metadata": {},
     "output_type": "execute_result"
    }
   ],
   "source": [
    "\"s\" > \"t\"\n",
    "\n",
    "ord(\"s\")\n",
    "ord(\"t\")"
   ]
  },
  {
   "cell_type": "markdown",
   "id": "944e5443-1710-4e70-8776-c2cf00f66130",
   "metadata": {},
   "source": [
    "- Sequences (instances of [`tuple`](https://docs.python.org/3/library/stdtypes.html#tuple), [`list`](https://docs.python.org/3/library/stdtypes.html#list), or [`range`](https://docs.python.org/3/library/stdtypes.html#range)) can be compared only within each of their types, with the restriction that ranges do not support order comparison. Equality comparison across these types results in inequality, and ordering comparison across these types raises [`TypeError`](https://docs.python.org/3/library/exceptions.html#TypeError).\n",
    "\n",
    "  Sequences compare lexicographically using comparison of corresponding elements. The built-in containers typically assume identical objects are equal to themselves. That lets them bypass equality tests for identical objects to improve performance and to maintain their internal invariants.\n",
    "\n",
    "  Lexicographical comparison between built-in collections works as follows:\n",
    "\n",
    "  - For two collections to compare equal, they must be of the same type, have the same length, and each pair of corresponding elements must compare equal (for example, `[1,2] == (1,2)` is false because the type is not the same).\n",
    "  - Collections that support order comparison are ordered the same as their first unequal elements (for example, `[1,2,x] <= [1,2,y]` has the same value as `x <= y`). If a corresponding element does not exist, the shorter collection is ordered first (for example, `[1,2] < [1,2,3]` is true).\n",
    "\n",
    "> - 序列（[`tuple`](https://docs.python.org/3/library/stdtypes.html#tuple), [`list`](https://docs.python.org/3/library/stdtypes.html#list), 或[`range`](https://docs.python.org/3/library/stdtypes.html#range)的实例）只能在其各自的类型中进行比较，限制是ranges不支持顺序比较。在这些类型之间进行等价比较的结果是不等价，在这些类型之间进行排序比较会引发[`TypeError`](https://docs.python.org/3/library/exceptions.html#TypeError)。\n",
    ">\n",
    ">   序列使用对应元素的比较进行词典式比较。内置的容器通常假定相同的对象与自己相等。这让他们可以绕过相同对象的相等测试，以提高性能并保持其内部不变性。\n",
    ">\n",
    ">   内置集合之间的词法比较工作如下：\n",
    ">\n",
    "> > - 对于两个集合的比较是相等的，它们必须是相同的类型，有相同的长度，并且每一对对应的元素必须比较相等（例如，`[1,2] == (1,2)`是错误的，因为类型不相同）。\n",
    "> > - 支持顺序比较的集合，其顺序与第一个不相等的元素相同（例如，`[1,2,x] <= [1,2,y]`与`x <= y`的值相同）。如果对应的元素不存在，则较短的集合先排序（例如，`[1,2] < [1,2,3]`为真）。"
   ]
  },
  {
   "cell_type": "code",
   "execution_count": 21,
   "id": "b2bb7111-0cb4-4a71-a908-569659cd58d2",
   "metadata": {},
   "outputs": [
    {
     "data": {
      "text/plain": [
       "False"
      ]
     },
     "execution_count": 21,
     "metadata": {},
     "output_type": "execute_result"
    },
    {
     "data": {
      "text/plain": [
       "False"
      ]
     },
     "execution_count": 21,
     "metadata": {},
     "output_type": "execute_result"
    }
   ],
   "source": [
    "a = [1, 2, 3]\n",
    "b = (1 ,2, 3)\n",
    "\n",
    "a == b\n",
    "\n",
    "# TypeError: '>' not supported between instances of 'list' and 'tuple'\n",
    "# a > b\n",
    "\n",
    "range(8) == range(9)"
   ]
  },
  {
   "cell_type": "markdown",
   "id": "3d420f78-a51d-4514-adfd-ccbbd2e0e7b5",
   "metadata": {},
   "source": [
    "- Mappings (instances of [`dict`](https://docs.python.org/3/library/stdtypes.html#dict)) compare equal if and only if they have equal (key, value) pairs. Equality comparison of the keys and values enforces reflexivity.\n",
    "\n",
    "  Order comparisons (`<`, `>`, `<=`, and `>=`) raise [`TypeError`](https://docs.python.org/3/library/exceptions.html#TypeError).\n",
    "\n",
    "- Sets (instances of [`set`](https://docs.python.org/3/library/stdtypes.html#set) or [`frozenset`](https://docs.python.org/3/library/stdtypes.html#frozenset)) can be compared within and across their types.\n",
    "\n",
    "  They define order comparison operators to mean subset and superset tests. Those relations do not define total orderings (for example, the two sets `{1,2}` and `{2,3}` are not equal, nor subsets of one another, nor supersets of one another). Accordingly, sets are not appropriate arguments for functions which depend on total ordering (for example, [`min()`](https://docs.python.org/3/library/functions.html#min), [`max()`](https://docs.python.org/3/library/functions.html#max), and [`sorted()`](https://docs.python.org/3/library/functions.html#sorted) produce undefined results given a list of sets as inputs).\n",
    "\n",
    "  Comparison of sets enforces reflexivity of its elements.\n",
    "\n",
    "- Most other built-in types have no comparison methods implemented, so they inherit the default comparison behavior.\n",
    "\n",
    "> - Mappings 映射（[`dict`](https://docs.python.org/3/library/stdtypes.html#dict)的实例）比较相等，当且仅当它们有相等的（key 键，value 值 ）对。键和值的等价比较强制了反射性。\n",
    ">\n",
    ">   顺序比较（`<`, `>`, `<=`, 和 `>=`）引起 [`TypeError`](https://docs.python.org/3/library/exceptions.html#TypeError)。\n",
    ">\n",
    "> - Sets 集合（[`set`](https://docs.python.org/3/library/stdtypes.html#set)或[`frozenset`](https://docs.python.org/3/library/stdtypes.html#frozenset)的实例）可以在其类型内和跨类型进行比较。\n",
    ">\n",
    ">   它们定义了顺序比较运算符，意味着子集和超集的测试。这些关系没有定义总的顺序（例如，两个集合`{1,2}`和`{2,3}`不相等，也不是彼此的子集，更不是彼此的超集）。因此，集合不适合作为依赖总排序的函数的参数（例如，[`min()`](https://docs.python.org/3/library/functions.html#min), [`max()`](https://docs.python.org/3/library/functions.html#max), 和[`sorted()`](https://docs.python.org/3/library/functions.html#sorted)在输入集合列表时产生未定义的结果）。\n",
    ">\n",
    ">   集合的比较执行其元素的反身性。\n",
    ">\n",
    "> - 大多数其他内置类型没有实现比较方法，所以它们继承了默认的比较行为。"
   ]
  },
  {
   "cell_type": "code",
   "execution_count": 22,
   "id": "a2318920-fb04-40cb-ac07-5722fe7b214b",
   "metadata": {},
   "outputs": [
    {
     "data": {
      "text/plain": [
       "False"
      ]
     },
     "execution_count": 22,
     "metadata": {},
     "output_type": "execute_result"
    }
   ],
   "source": [
    "{1, 2} > {2, 3}"
   ]
  },
  {
   "cell_type": "markdown",
   "id": "e24a257e-9eb0-4e0b-91bb-f27d3d600a12",
   "metadata": {},
   "source": [
    "User-defined classes that customize their comparison behavior should follow some consistency rules, if possible:\n",
    "\n",
    "> 如果可能的话，自定义比较行为的用户定义的类应该遵循一些一致性规则："
   ]
  },
  {
   "cell_type": "markdown",
   "id": "39bb9c1c-0cc7-4a55-a6ef-3f43af11d88b",
   "metadata": {},
   "source": [
    "- Equality comparison should be reflexive. In other words, identical objects should compare equal:\n",
    "\n",
    "  > `x is y` implies `x == y`\n",
    "\n",
    "- Comparison should be symmetric. In other words, the following expressions should have the same result:\n",
    "\n",
    "  > `x == y` and `y == x`\n",
    "  >\n",
    "  > `x != y` and `y != x`\n",
    "  >\n",
    "  > `x < y` and `y > x`\n",
    "  >\n",
    "  > `x <= y` and `y >= x`\n",
    "\n",
    "- Comparison should be transitive. The following (non-exhaustive) examples illustrate that:\n",
    "\n",
    "  > `x > y and y > z` implies `x > z`\n",
    "  >\n",
    "  > `x < y and y <= z` implies `x < z`\n",
    "\n",
    "- Inverse comparison should result in the boolean negation. In other words, the following expressions should have the same result:\n",
    "\n",
    "  > `x == y` and `not x != y`\n",
    "  >\n",
    "  > `x < y` and `not x >= y` (for total ordering)\n",
    "  >\n",
    "  > `x > y` and `not x <= y` (for total ordering)\n",
    "\n",
    "  The last two expressions apply to totally ordered collections (e.g. to sequences, but not to sets or mappings). See also the [`total_ordering()`](https://docs.python.org/3/library/functools.html#functools.total_ordering) decorator.\n",
    "\n",
    "- The [`hash()`](https://docs.python.org/3/library/functions.html#hash) result should be consistent with equality. Objects that are equal should either have the same hash value, or be marked as unhashable.\n",
    "\n",
    "> - 相等性比较应该是反身性的。换句话说，相同的对象应该进行等价比较：\n",
    ">\n",
    ">   > `xis y` 意味着 `x == y`。\n",
    ">\n",
    "> - 比较应该是对称的。换句话说，下面的表达式应该有相同的结果：\n",
    ">\n",
    ">   > `x == y `和 `y == x`。\n",
    ">   >\n",
    ">   > `x != y` 和 `y != x`。\n",
    ">   >\n",
    ">   > `x < y`  和  `y > x` 。\n",
    ">   >\n",
    ">   > `x <= y`  和  `y >= x`。\n",
    ">\n",
    "> - 比较应该是**传递性的**。以下（非详尽的）例子说明了这一点：\n",
    ">\n",
    ">   > `x > y 和 y > z` 意味着 `x > z`。\n",
    ">   >\n",
    ">   > `x < y and y <= z`  意味着 `x < z`。\n",
    ">\n",
    "> - 反向比较的结果应该是布尔式否定。换句话说，下面的表达式应该有相同的结果：\n",
    ">\n",
    ">   > `x == y` 和 `not x != y`。\n",
    ">   >\n",
    ">   > `x < y` 和 `not x >= y` (对于总排序)\n",
    ">   >\n",
    ">   > `x > y` 和 `not x <= y` (适用于完全排序)\n",
    ">\n",
    ">   最后两个表达式适用于完全有序的集合（例如序列，但不适用于集合或映射）。也请参见[`total_ordering()` ](https://docs.python.org/3/library/functools.html#functools.total_ordering)装饰器。\n",
    ">\n",
    "> - [`hash()`](https://docs.python.org/3/library/functions.html#hash) 的结果应该与相等性一致。相等的对象应该有相同的哈希值，或者被标记为不可哈希。"
   ]
  },
  {
   "cell_type": "markdown",
   "id": "64a073dd-e888-4a6e-b2c8-70c6931ad7c4",
   "metadata": {},
   "source": [
    "Python does not enforce these consistency rules. In fact, the not-a-number values are an example for not following these rules.\n",
    "\n",
    "> Python 并不强制执行这些一致性规则。事实上，not-a-number值就是一个不遵守这些规则的例子。"
   ]
  },
  {
   "cell_type": "markdown",
   "id": "9ebdcfd9-d85e-40cd-a340-073837b320b5",
   "metadata": {},
   "source": [
    "### 6.10.2. Membership test operations"
   ]
  },
  {
   "cell_type": "markdown",
   "id": "d7178b88-86b7-4af6-9de3-b1768970a6a8",
   "metadata": {},
   "source": [
    "The operators [`in`](https://docs.python.org/3/reference/expressions.html#in) and [`not in`](https://docs.python.org/3/reference/expressions.html#not-in) test for membership. `x in s` evaluates to `True` if *x* is a member of *s*, and `False` otherwise. `x not in s` returns the negation of `x in s`. All built-in sequences and set types support this as well as dictionary, for which `in` tests whether the dictionary has a given key. For container types such as list, tuple, set, frozenset, dict, or collections.deque, the expression `x in y` is equivalent to `any(x is e or x == e for e in y)`.\n",
    "\n",
    "For the string and bytes types, `x in y` is `True` if and only if *x* is a substring of *y*. An equivalent test is `y.find(x) != -1`. Empty strings are always considered to be a substring of any other string, so `\"\" in \"abc\"` will return `True`.\n",
    "\n",
    "For user-defined classes which define the `__contains__()` method, `x in y` returns `True` if `y.__contains__(x)` returns a true value, and `False` otherwise.\n",
    "\n",
    "For user-defined classes which do not define `__contains__()` but do define `__iter__()`, `x in y` is `True` if some value `z`, for which the expression `x is z or x == z` is true, is produced while iterating over `y`. If an exception is raised during the iteration, it is as if [`in`](https://docs.python.org/3/reference/expressions.html#in) raised that exception.\n",
    "\n",
    "Lastly, the old-style iteration protocol is tried: if a class defines `__getitem__()`, `x in y` is `True` if and only if there is a non-negative integer index *i* such that `x is y[i] or x == y[i]`, and no lower integer index raises the [`IndexError`](https://docs.python.org/3/library/exceptions.html#IndexError) exception. (If any other exception is raised, it is as if [`in`](https://docs.python.org/3/reference/expressions.html#in) raised that exception).\n",
    "\n",
    "The operator [`not in`](https://docs.python.org/3/reference/expressions.html#not-in) is defined to have the inverse truth value of [`in`](https://docs.python.org/3/reference/expressions.html#in).\n",
    "\n",
    "> 操作符 [`in`](https://docs.python.org/3/reference/expressions.html#in) 和 [`not in`](https://docs.python.org/3/reference/expressions.html#not-in) 测试成员。如果*x*是*s*的成员，`x in s` 运算求值为 `True`，否则为 `False`。`x not in s` 返回 `x in s` 的否定值。所有内置的序列和集合类型都支持这一点，还有字典，对于字典，`in` 测试字典是否有一个给定的键(key)。对于容器类型，例如 list, tuple, set, frozenset, dict, 或 collections.deque，表达式 `x in y` 相当于 `any(x is e or x == e for e in y)`。\n",
    ">\n",
    "> 对于字符串和字节类型，当且仅当*x*是*y*的子串时，`x in y `为 `True`。一个等同的测试是 `y.find(x) != -1`。空字符串总是被认为是任何其他字符串的子串，所以 `\"\" in \"abc\"` 将返回 `True`。\n",
    ">\n",
    "> 对于定义了 `__contains__()` 方法的用户定义的类，如果 `y.__contains__(x)` 返回一个真值，则 `x in y`返回 `True`，否则 `False`。\n",
    ">\n",
    "> 对于没有定义 `__contains__()` 但定义了 `__iter__()` 的用户定义的类，如果在对 `y` 进行迭代时产生了某个值`z`，并且表达式 `x is z or x == z` 为真，则 `x in y` 为 `True`。如果在迭代过程中出现了异常，就好像 [`in`](https://docs.python.org/3/reference/expressions.html#in) 出现了那个异常。\n",
    ">\n",
    "> 最后，尝试老式的迭代协议：如果一个类定义了 `__getitem__()` ，`x in y `是 `True`，当且仅当有一个非负的整数索引*i*使得 `x is y[i] or x == y[i]`，并且没有更低的整数索引引发 [`IndexError`](https://docs.python.org/3/library/exceptions.html#IndexError) 异常。(如果有任何其他的异常被引发，就好像 [`in`](https://docs.python.org/3/reference/expressions.html#in) 引发了那个异常)。\n",
    ">\n",
    "> 操作符 [`not in`](https://docs.python.org/3/reference/expressions.html#not-in) 被定义为具有 [`in`](https://docs.python.org/3/reference/expressions.html#in) 的逆真值。"
   ]
  },
  {
   "cell_type": "markdown",
   "id": "7ad09d39-801e-4434-a280-502c82fd7c5e",
   "metadata": {},
   "source": [
    "### 6.10.3. Identity comparisons"
   ]
  },
  {
   "cell_type": "markdown",
   "id": "ee6bff0a-cd2d-4ba8-bfa2-5cb3675e0d68",
   "metadata": {},
   "source": [
    "The operators [`is`](https://docs.python.org/3/reference/expressions.html#is) and [`is not`](https://docs.python.org/3/reference/expressions.html#is-not) test for an object’s identity: `x is y` is true if and only if *x* and *y* are the same object. An Object’s identity is determined using the [`id()`](https://docs.python.org/3/library/functions.html#id) function. `x is not y` yields the inverse truth value. [^4]\n",
    "\n",
    "> 运算符 [`is`](https://docs.python.org/3/reference/expressions.html#is) 和 [`is not`](https://docs.python.org/3/reference/expressions.html#is-not) 测试一个对象的身份。当且仅当*x*和*y*是同一个对象时，`x is y` 为真。一个对象的身份是通过 [`id()`](https://docs.python.org/3/library/functions.html#id) 函数确定的。`x is not y`产生逆向真值。[^4]"
   ]
  },
  {
   "cell_type": "markdown",
   "id": "7d80bede-2346-4e1e-8369-4617ddd9680b",
   "metadata": {},
   "source": [
    "## 6.11. Boolean operations"
   ]
  },
  {
   "cell_type": "raw",
   "id": "ab24f67c-77da-42ca-af20-3af189f35185",
   "metadata": {},
   "source": [
    "or_test  ::=  and_test | or_test \"or\" and_test\n",
    "and_test ::=  not_test | and_test \"and\" not_test\n",
    "not_test ::=  comparison | \"not\" not_test"
   ]
  },
  {
   "cell_type": "markdown",
   "id": "87ce2dd9-e9a1-4aeb-887d-237550875aa4",
   "metadata": {},
   "source": [
    "In the context of Boolean operations, and also when expressions are used by control flow statements, the following values are interpreted as false: `False`, `None`, numeric zero of all types, and empty strings and containers (including strings, tuples, lists, dictionaries, sets and frozensets). All other values are interpreted as true. User-defined objects can customize their truth value by providing a `__bool__()` method.\n",
    "\n",
    "The operator [`not`](https://docs.python.org/3/reference/expressions.html#not) yields `True` if its argument is false, `False` otherwise.\n",
    "\n",
    "The expression `x and y` first evaluates *x*; if *x* is false, its value is returned; otherwise, *y* is evaluated and the resulting value is returned.\n",
    "\n",
    "The expression `x or y` first evaluates *x*; if *x* is true, its value is returned; otherwise, *y* is evaluated and the resulting value is returned.\n",
    "\n",
    "Note that neither [`and`](https://docs.python.org/3/reference/expressions.html#and) nor [`or`](https://docs.python.org/3/reference/expressions.html#or) restrict the value and type they return to `False` and `True`, but rather return the last evaluated argument. This is sometimes useful, e.g., if `s` is a string that should be replaced by a default value if it is empty, the expression `s or 'foo'` yields the desired value. Because [`not`](https://docs.python.org/3/reference/expressions.html#not) has to create a new value, it returns a boolean value regardless of the type of its argument (for example, `not 'foo'` produces `False` rather than `''`.)\n",
    "\n",
    "> 在布尔运算中，以及当表达式被控制流语句使用时，以下值被解释为false：`False`，`None`，所有类型的数字零，以及空字符串和容器（包括字符串(strings)、元组(tuples)、列表(lists)、字典(dictionaries)、集合(sets)和frozensets）。所有其他的值都被解释为真。用户定义的对象可以通过提供一个 `__bool__()` 方法来定制其真值。\n",
    ">\n",
    "> 操作符 [`not`](https://docs.python.org/3/reference/expressions.html#not) 如果其参数是假的，则产生 `True`，否则产生 `False`。\n",
    ">\n",
    "> 表达式 `x and y`首先运算求值*x*；如果*x*是false，它的值被返回；否则，*y*被运算求值，结果值被返回。\n",
    ">\n",
    "> 表达式 `x or y`首先运算求值*x*；如果*x*为真，返回其值；否则，运算求值*y*并返回结果值。\n",
    ">\n",
    "> 注意，无论是 [`and`](https://docs.python.org/3/reference/expressions.html#and) 还是 [`or`](https://docs.python.org/3/reference/expressions.html#or) 都没有限制它们返回的值和类型为 `False` 和 `True`，而是返回最后运算求值的参数。这有时是很有用的，例如，如果 `s` 是一个字符串，如果它是空的，应该用一个默认值来替换，表达式`s or 'foo'` 会产生所需的值。因为 [`not`](https://docs.python.org/3/reference/expressions.html#not) 必须创建一个新的值，所以无论其参数的类型如何，它都会返回一个布尔值（例如，`not 'foo' `产生 `False` 而不是 `''`。）"
   ]
  },
  {
   "cell_type": "markdown",
   "id": "5a15e0ee-27c0-4b24-8b84-d07c64891e43",
   "metadata": {},
   "source": [
    "## 6.12. Assignment expressions"
   ]
  },
  {
   "cell_type": "raw",
   "id": "a7295872-dd1c-41ef-903a-99f77188f08f",
   "metadata": {},
   "source": [
    "assignment_expression ::=  [identifier \":=\"] expression"
   ]
  },
  {
   "cell_type": "markdown",
   "id": "471b2a67-c4e4-49b1-bc12-17e53b71665e",
   "metadata": {},
   "source": [
    "An assignment expression (sometimes also called a “named expression” or “walrus”) assigns an [`expression`](https://docs.python.org/3/reference/expressions.html#grammar-token-python-grammar-expression) to an [`identifier`](https://docs.python.org/3/reference/lexical_analysis.html#grammar-token-python-grammar-identifier), while also returning the value of the [`expression`](https://docs.python.org/3/reference/expressions.html#grammar-token-python-grammar-expression).\n",
    "\n",
    "One common use case is when handling matched regular expressions:\n",
    "\n",
    "> 赋值表达式（有时也称为 \"命名表达式(named expression)\"或 \"海象(walrus)\"）将一个 [`expression`](https://docs.python.org/3/reference/expressions.html#grammar-token-python-grammar-expression) 赋给一个[`identifier`](https://docs.python.org/3/reference/lexical_analysis.html#grammar-token-python-grammar-identifier)，同时也返回 [`expression`](https://docs.python.org/3/reference/expressions.html#grammar-token-python-grammar-expression) 的值。\n",
    ">\n",
    "> 一个常见的用例是处理匹配的正则表达式时："
   ]
  },
  {
   "cell_type": "code",
   "execution_count": 8,
   "id": "c47e6c72-0387-4f75-b7a4-024dc78cb119",
   "metadata": {},
   "outputs": [],
   "source": [
    "class pattern():\n",
    "    \n",
    "    def search(data):\n",
    "        pass\n",
    "    \n",
    "    \n",
    "def do_something(matching):\n",
    "    pass\n",
    "\n",
    "\n",
    "data = [1]\n",
    "\n",
    "if matching := pattern.search(data):\n",
    "    do_something(matching)"
   ]
  },
  {
   "cell_type": "markdown",
   "id": "c76faf14-aee9-4bc7-821a-73afc4e9236d",
   "metadata": {},
   "source": [
    "Orisattywhen processing a file stream in chunks:\n",
    "\n",
    "> 或者，在分块处理一个文件流时："
   ]
  },
  {
   "cell_type": "code",
   "execution_count": 23,
   "id": "a7758ec1-cf68-45f3-9cc1-3d0efad4fe11",
   "metadata": {
    "collapsed": true,
    "jupyter": {
     "outputs_hidden": true
    },
    "tags": []
   },
   "outputs": [
    {
     "data": {
      "text/plain": [
       "'\\ufeff5\\n00:01:16,452 --> 00:01:18,661\\nThank you very mu'"
      ]
     },
     "execution_count": 23,
     "metadata": {},
     "output_type": "execute_result"
    },
    {
     "data": {
      "text/plain": [
       "'ch, sir.6\\n00:01:18,746 --> 00:01:20,913\\nYou did '"
      ]
     },
     "execution_count": 23,
     "metadata": {},
     "output_type": "execute_result"
    },
    {
     "data": {
      "text/plain": [
       "'a wonderful job. Wonderful.7\\n00:01:20,998 --> 00'"
      ]
     },
     "execution_count": 23,
     "metadata": {},
     "output_type": "execute_result"
    },
    {
     "data": {
      "text/plain": [
       "':01:23,374\\nShh. Shh.8\\n00:01:23,459 --> 00:01:24,'"
      ]
     },
     "execution_count": 23,
     "metadata": {},
     "output_type": "execute_result"
    },
    {
     "data": {
      "text/plain": [
       "'876\\nWe did it, Pete. We did it.9\\n00:01:26,962 --'"
      ]
     },
     "execution_count": 23,
     "metadata": {},
     "output_type": "execute_result"
    },
    {
     "data": {
      "text/plain": [
       "'> 00:01:28,671\\n- For a moment, we had our doubts.\\n'"
      ]
     },
     "execution_count": 23,
     "metadata": {},
     "output_type": "execute_result"
    },
    {
     "data": {
      "text/plain": [
       "'- Shh.10\\n00:01:28,756 --> 00:01:32,175\\nTo contin'"
      ]
     },
     "execution_count": 23,
     "metadata": {},
     "output_type": "execute_result"
    },
    {
     "data": {
      "text/plain": [
       "\"ue, you've listened\\nto a long and complex case...\\n\""
      ]
     },
     "execution_count": 23,
     "metadata": {},
     "output_type": "execute_result"
    },
    {
     "data": {
      "text/plain": [
       "'\\n11\\n00:01:32,259 --> 00:01:34,051\\nmurder in the fi'"
      ]
     },
     "execution_count": 23,
     "metadata": {},
     "output_type": "execute_result"
    },
    {
     "data": {
      "text/plain": [
       "'rst degree.12\\n00:01:34,136 --> 00:01:39,098\\nA pr'"
      ]
     },
     "execution_count": 23,
     "metadata": {},
     "output_type": "execute_result"
    },
    {
     "data": {
      "text/plain": [
       "'emeditated murder is the most serious\\ncharge tried'"
      ]
     },
     "execution_count": 23,
     "metadata": {},
     "output_type": "execute_result"
    },
    {
     "data": {
      "text/plain": [
       "' in our criminal courts.13\\n00:01:39,183 --> 00:0'"
      ]
     },
     "execution_count": 23,
     "metadata": {},
     "output_type": "execute_result"
    },
    {
     "data": {
      "text/plain": [
       "\"1:40,933\\nYou've listened to the testimony.14\\n00:\""
      ]
     },
     "execution_count": 23,
     "metadata": {},
     "output_type": "execute_result"
    },
    {
     "data": {
      "text/plain": [
       "\"01:41,018 --> 00:01:43,936\\nYou've had the law read\""
      ]
     },
     "execution_count": 23,
     "metadata": {},
     "output_type": "execute_result"
    },
    {
     "data": {
      "text/plain": [
       "' to you\\nand interpreted as it applies in this case'"
      ]
     },
     "execution_count": 23,
     "metadata": {},
     "output_type": "execute_result"
    },
    {
     "data": {
      "text/plain": [
       "\".15\\n00:01:44,021 --> 00:01:48,024\\nIt's now your \""
      ]
     },
     "execution_count": 23,
     "metadata": {},
     "output_type": "execute_result"
    },
    {
     "data": {
      "text/plain": [
       "'duty to sit down and try\\nand separate the facts fr'"
      ]
     },
     "execution_count": 23,
     "metadata": {},
     "output_type": "execute_result"
    },
    {
     "data": {
      "text/plain": [
       "'om the fancy.16\\n00:01:48,942 --> 00:01:52,487\\nOn'"
      ]
     },
     "execution_count": 23,
     "metadata": {},
     "output_type": "execute_result"
    },
    {
     "data": {
      "text/plain": [
       "\"e man is dead.\\nAnother man's life is at stake.17\""
      ]
     },
     "execution_count": 23,
     "metadata": {},
     "output_type": "execute_result"
    },
    {
     "data": {
      "text/plain": [
       "\"\\n00:01:53,280 --> 00:01:57,283\\nIf there's a reason\""
      ]
     },
     "execution_count": 23,
     "metadata": {},
     "output_type": "execute_result"
    },
    {
     "data": {
      "text/plain": [
       "'able doubt in your minds\\nas to the guilt of the ac'"
      ]
     },
     "execution_count": 23,
     "metadata": {},
     "output_type": "execute_result"
    },
    {
     "data": {
      "text/plain": [
       "'cused...18\\n00:01:57,367 --> 00:01:59,285\\na reaso'"
      ]
     },
     "execution_count": 23,
     "metadata": {},
     "output_type": "execute_result"
    },
    {
     "data": {
      "text/plain": [
       "'nable doubt...19\\n00:01:59,369 --> 00:02:02,163\\nt'"
      ]
     },
     "execution_count": 23,
     "metadata": {},
     "output_type": "execute_result"
    },
    {
     "data": {
      "text/plain": [
       "'hen you must bring me\\na verdict of not guilty.20'"
      ]
     },
     "execution_count": 23,
     "metadata": {},
     "output_type": "execute_result"
    },
    {
     "data": {
      "text/plain": [
       "'\\n00:02:02,247 --> 00:02:04,123\\nNow if, however,\\nth'"
      ]
     },
     "execution_count": 23,
     "metadata": {},
     "output_type": "execute_result"
    },
    {
     "data": {
      "text/plain": [
       "\"ere's no reasonable doubt...21\\n00:02:04,208 --> \""
      ]
     },
     "execution_count": 23,
     "metadata": {},
     "output_type": "execute_result"
    },
    {
     "data": {
      "text/plain": [
       "'00:02:08,085\\nthen you must in good conscience\\nfind'"
      ]
     },
     "execution_count": 23,
     "metadata": {},
     "output_type": "execute_result"
    },
    {
     "data": {
      "text/plain": [
       "' the accused guilty.22\\n00:02:09,213 --> 00:02:13'"
      ]
     },
     "execution_count": 23,
     "metadata": {},
     "output_type": "execute_result"
    },
    {
     "data": {
      "text/plain": [
       "',341\\nHowever you decide,\\nyour verdict must be unan'"
      ]
     },
     "execution_count": 23,
     "metadata": {},
     "output_type": "execute_result"
    },
    {
     "data": {
      "text/plain": [
       "'imous.23\\n00:02:13,425 --> 00:02:16,803\\nIn the ev'"
      ]
     },
     "execution_count": 23,
     "metadata": {},
     "output_type": "execute_result"
    },
    {
     "data": {
      "text/plain": [
       "'ent\\nthat you find the accused guilty...24\\n00:02:'"
      ]
     },
     "execution_count": 23,
     "metadata": {},
     "output_type": "execute_result"
    },
    {
     "data": {
      "text/plain": [
       "'16,887 --> 00:02:20,223\\nthe bench will not enterta'"
      ]
     },
     "execution_count": 23,
     "metadata": {},
     "output_type": "execute_result"
    },
    {
     "data": {
      "text/plain": [
       "'in\\na recommendation for mercy.25\\n00:02:20,307 --'"
      ]
     },
     "execution_count": 23,
     "metadata": {},
     "output_type": "execute_result"
    },
    {
     "data": {
      "text/plain": [
       "'> 00:02:23,518\\nThe death sentence\\nis mandatory in '"
      ]
     },
     "execution_count": 23,
     "metadata": {},
     "output_type": "execute_result"
    },
    {
     "data": {
      "text/plain": [
       "\"this case.26\\n00:02:23,602 --> 00:02:27,313\\nYou'r\""
      ]
     },
     "execution_count": 23,
     "metadata": {},
     "output_type": "execute_result"
    },
    {
     "data": {
      "text/plain": [
       "'e faced with a grave responsibility.\\nThank you, ge'"
      ]
     },
     "execution_count": 23,
     "metadata": {},
     "output_type": "execute_result"
    },
    {
     "data": {
      "text/plain": [
       "'ntlemen.27\\n00:02:29,316 --> 00:02:31,359\\nThe alt'"
      ]
     },
     "execution_count": 23,
     "metadata": {},
     "output_type": "execute_result"
    },
    {
     "data": {
      "text/plain": [
       "'ernate jurors are excused.28\\n00:02:37,366 --> 00'"
      ]
     },
     "execution_count": 23,
     "metadata": {},
     "output_type": "execute_result"
    },
    {
     "data": {
      "text/plain": [
       "':02:39,367\\nThe jury will now retire.29\\n00:04:37,'"
      ]
     },
     "execution_count": 23,
     "metadata": {},
     "output_type": "execute_result"
    },
    {
     "data": {
      "text/plain": [
       "'361 --> 00:04:39,362\\nTry this one. See if I can ge'"
      ]
     },
     "execution_count": 23,
     "metadata": {},
     "output_type": "execute_result"
    },
    {
     "data": {
      "text/plain": [
       "\"t it...30\\n00:04:40,697 --> 00:04:42,448\\nIt's a m\""
      ]
     },
     "execution_count": 23,
     "metadata": {},
     "output_type": "execute_result"
    },
    {
     "data": {
      "text/plain": [
       "'uggy day.31\\n00:04:45,702 --> 00:04:48,079\\nHey. O'"
      ]
     },
     "execution_count": 23,
     "metadata": {},
     "output_type": "execute_result"
    },
    {
     "data": {
      "text/plain": [
       "'h, oh.32\\n00:05:00,133 --> 00:05:02,218\\n- Piece o'"
      ]
     },
     "execution_count": 23,
     "metadata": {},
     "output_type": "execute_result"
    },
    {
     "data": {
      "text/plain": [
       "'f gum?\\n- No, thanks.33\\n00:05:02,302 --> 00:05:04'"
      ]
     },
     "execution_count": 23,
     "metadata": {},
     "output_type": "execute_result"
    },
    {
     "data": {
      "text/plain": [
       "',387\\nThis thing is...34\\n00:05:04,471 --> 00:05:0'"
      ]
     },
     "execution_count": 23,
     "metadata": {},
     "output_type": "execute_result"
    },
    {
     "data": {
      "text/plain": [
       "'6,097\\n- Huh?\\n- ...move it.35\\n00:05:07,724 --> 00'"
      ]
     },
     "execution_count": 23,
     "metadata": {},
     "output_type": "execute_result"
    },
    {
     "data": {
      "text/plain": [
       "\":05:09,892\\n- Come on, I'll give you a hand.\\n- Give\""
      ]
     },
     "execution_count": 23,
     "metadata": {},
     "output_type": "execute_result"
    },
    {
     "data": {
      "text/plain": [
       "' me a hand with that.36\\n00:05:09,977 --> 00:05:1'"
      ]
     },
     "execution_count": 23,
     "metadata": {},
     "output_type": "execute_result"
    },
    {
     "data": {
      "text/plain": [
       "\"1,310\\nThat's it.37\\n00:05:16,942 --> 00:05:18,567\""
      ]
     },
     "execution_count": 23,
     "metadata": {},
     "output_type": "execute_result"
    },
    {
     "data": {
      "text/plain": [
       "'\\n- You know something?\\n- Yeah?38\\n00:05:18,652 --'"
      ]
     },
     "execution_count": 23,
     "metadata": {},
     "output_type": "execute_result"
    },
    {
     "data": {
      "text/plain": [
       "'> 00:05:20,403\\nI called the weather bureau this mo'"
      ]
     },
     "execution_count": 23,
     "metadata": {},
     "output_type": "execute_result"
    },
    {
     "data": {
      "text/plain": [
       "'rning.39\\n00:05:20,487 --> 00:05:22,405\\nThis is g'"
      ]
     },
     "execution_count": 23,
     "metadata": {},
     "output_type": "execute_result"
    },
    {
     "data": {
      "text/plain": [
       "'onna be\\nthe hottest day of the year.40\\n00:05:22,'"
      ]
     },
     "execution_count": 23,
     "metadata": {},
     "output_type": "execute_result"
    },
    {
     "data": {
      "text/plain": [
       "'489 --> 00:05:24,073\\nCould be.41\\n00:05:24,157 --'"
      ]
     },
     "execution_count": 23,
     "metadata": {},
     "output_type": "execute_result"
    },
    {
     "data": {
      "text/plain": [
       "\"> 00:05:26,075\\nBoy, you'd think they'd at least\\nai\""
      ]
     },
     "execution_count": 23,
     "metadata": {},
     "output_type": "execute_result"
    },
    {
     "data": {
      "text/plain": [
       "'r-condition these places.42\\n00:05:26,159 --> 00:'"
      ]
     },
     "execution_count": 23,
     "metadata": {},
     "output_type": "execute_result"
    },
    {
     "data": {
      "text/plain": [
       "\"05:29,495\\n- What is your name, sir?\\n- Oh, it's, uh\""
      ]
     },
     "execution_count": 23,
     "metadata": {},
     "output_type": "execute_result"
    },
    {
     "data": {
      "text/plain": [
       "' - That one, yeah.43\\n00:05:29,579 --> 00:05:30,9'"
      ]
     },
     "execution_count": 23,
     "metadata": {},
     "output_type": "execute_result"
    },
    {
     "data": {
      "text/plain": [
       "'97\\nThank you very much.44\\n00:05:31,081 --> 00:05'"
      ]
     },
     "execution_count": 23,
     "metadata": {},
     "output_type": "execute_result"
    },
    {
     "data": {
      "text/plain": [
       "\":33,833\\nOkay, gentlemen, everybody's here.45\\n00:\""
      ]
     },
     "execution_count": 23,
     "metadata": {},
     "output_type": "execute_result"
    },
    {
     "data": {
      "text/plain": [
       "\"05:33,917 --> 00:05:36,752\\nNow, if there's anythin\""
      ]
     },
     "execution_count": 23,
     "metadata": {},
     "output_type": "execute_result"
    },
    {
     "data": {
      "text/plain": [
       "\"g you want,\\nI'll be right outside the door.46\\n00\""
      ]
     },
     "execution_count": 23,
     "metadata": {},
     "output_type": "execute_result"
    },
    {
     "data": {
      "text/plain": [
       "':05:36,837 --> 00:05:39,088\\n- Just knock.\\n- Okay, '"
      ]
     },
     "execution_count": 23,
     "metadata": {},
     "output_type": "execute_result"
    },
    {
     "data": {
      "text/plain": [
       "'thanks. We will.47\\n00:05:51,601 --> 00:05:52,810'"
      ]
     },
     "execution_count": 23,
     "metadata": {},
     "output_type": "execute_result"
    },
    {
     "data": {
      "text/plain": [
       "'\\nGood morning.48\\n00:05:52,894 --> 00:05:54,353\\nI'"
      ]
     },
     "execution_count": 23,
     "metadata": {},
     "output_type": "execute_result"
    },
    {
     "data": {
      "text/plain": [
       "' never knew they locked the door.49\\n00:05:54,438'"
      ]
     },
     "execution_count": 23,
     "metadata": {},
     "output_type": "execute_result"
    },
    {
     "data": {
      "text/plain": [
       "\" --> 00:05:56,605\\nSure they lock the door.\\nWhat'd \""
      ]
     },
     "execution_count": 23,
     "metadata": {},
     "output_type": "execute_result"
    },
    {
     "data": {
      "text/plain": [
       "'you think?50\\n00:05:57,691 --> 00:06:00,109\\nI don'"
      ]
     },
     "execution_count": 23,
     "metadata": {},
     "output_type": "execute_result"
    },
    {
     "data": {
      "text/plain": [
       "\"'t know.\\nIt just never occurred to me.51\\n00:06:0\""
      ]
     },
     "execution_count": 23,
     "metadata": {},
     "output_type": "execute_result"
    },
    {
     "data": {
      "text/plain": [
       "\"1,737 --> 00:06:03,529\\nWhat's that for?52\\n00:06:\""
      ]
     },
     "execution_count": 23,
     "metadata": {},
     "output_type": "execute_result"
    },
    {
     "data": {
      "text/plain": [
       "'03,613 --> 00:06:05,489\\nOh, I thought we might wan'"
      ]
     },
     "execution_count": 23,
     "metadata": {},
     "output_type": "execute_result"
    },
    {
     "data": {
      "text/plain": [
       "'t\\nto vote by ballot.53\\n00:06:05,574 --> 00:06:08'"
      ]
     },
     "execution_count": 23,
     "metadata": {},
     "output_type": "execute_result"
    },
    {
     "data": {
      "text/plain": [
       "',242\\nGreat idea. Maybe we can\\nget him elected sena'"
      ]
     },
     "execution_count": 23,
     "metadata": {},
     "output_type": "execute_result"
    },
    {
     "data": {
      "text/plain": [
       "'tor.54\\n00:06:10,495 --> 00:06:12,246\\nJust in cas'"
      ]
     },
     "execution_count": 23,
     "metadata": {},
     "output_type": "execute_result"
    },
    {
     "data": {
      "text/plain": [
       "'e, you know.55\\n00:06:15,751 --> 00:06:17,877\\n- Η'"
      ]
     },
     "execution_count": 23,
     "metadata": {},
     "output_type": "execute_result"
    },
    {
     "data": {
      "text/plain": [
       "\"ow'd you like it?\\n- Oh, I don't know.56\\n00:06:17\""
      ]
     },
     "execution_count": 23,
     "metadata": {},
     "output_type": "execute_result"
    },
    {
     "data": {
      "text/plain": [
       "',961 --> 00:06:19,628\\nIt was pretty interesting.'"
      ]
     },
     "execution_count": 23,
     "metadata": {},
     "output_type": "execute_result"
    },
    {
     "data": {
      "text/plain": [
       "'57\\n00:06:19,713 --> 00:06:21,672\\nYeah? I almost fe'"
      ]
     },
     "execution_count": 23,
     "metadata": {},
     "output_type": "execute_result"
    },
    {
     "data": {
      "text/plain": [
       "'ll asleep.58\\n00:06:21,757 --> 00:06:24,341\\nI mea'"
      ]
     },
     "execution_count": 23,
     "metadata": {},
     "output_type": "execute_result"
    },
    {
     "data": {
      "text/plain": [
       "\"n, I've never been\\non a jury before.59\\n00:06:24,\""
      ]
     },
     "execution_count": 23,
     "metadata": {},
     "output_type": "execute_result"
    },
    {
     "data": {
      "text/plain": [
       "\"426 --> 00:06:27,136\\nNo? I've sat on many juries.\\n\""
      ]
     },
     "execution_count": 23,
     "metadata": {},
     "output_type": "execute_result"
    },
    {
     "data": {
      "text/plain": [
       "'\\n60\\n00:06:28,305 --> 00:06:31,223\\nWhat gets me is '"
      ]
     },
     "execution_count": 23,
     "metadata": {},
     "output_type": "execute_result"
    },
    {
     "data": {
      "text/plain": [
       "'the way\\nthose lawyers talk and talk and talk...6'"
      ]
     },
     "execution_count": 23,
     "metadata": {},
     "output_type": "execute_result"
    },
    {
     "data": {
      "text/plain": [
       "\"1\\n00:06:31,308 --> 00:06:33,476\\neven when it's an \""
      ]
     },
     "execution_count": 23,
     "metadata": {},
     "output_type": "execute_result"
    },
    {
     "data": {
      "text/plain": [
       "'open-and-shut case\\nlike this one.62\\n00:06:33,560'"
      ]
     },
     "execution_count": 23,
     "metadata": {},
     "output_type": "execute_result"
    },
    {
     "data": {
      "text/plain": [
       "' --> 00:06:35,269\\nDid you ever hear\\nso much talk a'"
      ]
     },
     "execution_count": 23,
     "metadata": {},
     "output_type": "execute_result"
    },
    {
     "data": {
      "text/plain": [
       "\"bout nothin'?63\\n00:06:35,353 --> 00:06:37,229\\nWe\""
      ]
     },
     "execution_count": 23,
     "metadata": {},
     "output_type": "execute_result"
    },
    {
     "data": {
      "text/plain": [
       "\"ll, I guess they're entitled.64\\n00:06:37,314 -->\""
      ]
     },
     "execution_count": 23,
     "metadata": {},
     "output_type": "execute_result"
    },
    {
     "data": {
      "text/plain": [
       "\" 00:06:39,774\\nYeah. They're entitled.\\nIt's the sys\""
      ]
     },
     "execution_count": 23,
     "metadata": {},
     "output_type": "execute_result"
    },
    {
     "data": {
      "text/plain": [
       "'tem, but...65\\n00:06:40,984 --> 00:06:45,071\\nIf y'"
      ]
     },
     "execution_count": 23,
     "metadata": {},
     "output_type": "execute_result"
    },
    {
     "data": {
      "text/plain": [
       "\"ou ask me, I'd slap those tough kids\\ndown before t\""
      ]
     },
     "execution_count": 23,
     "metadata": {},
     "output_type": "execute_result"
    },
    {
     "data": {
      "text/plain": [
       "'hey start any trouble.66\\n00:06:45,155 --> 00:06:'"
      ]
     },
     "execution_count": 23,
     "metadata": {},
     "output_type": "execute_result"
    },
    {
     "data": {
      "text/plain": [
       "'47,239\\nIt would save us a lot of time and money.'"
      ]
     },
     "execution_count": 23,
     "metadata": {},
     "output_type": "execute_result"
    },
    {
     "data": {
      "text/plain": [
       "\"67\\n00:06:47,324 --> 00:06:48,866\\n- Hey, let's get \""
      ]
     },
     "execution_count": 23,
     "metadata": {},
     "output_type": "execute_result"
    },
    {
     "data": {
      "text/plain": [
       "\"started, huh?\\n- That's a good idea.68\\n00:06:48,9\""
      ]
     },
     "execution_count": 23,
     "metadata": {},
     "output_type": "execute_result"
    },
    {
     "data": {
      "text/plain": [
       "\"50 --> 00:06:51,577\\n- Yeah, let's get goin', huh?\\n\""
      ]
     },
     "execution_count": 23,
     "metadata": {},
     "output_type": "execute_result"
    },
    {
     "data": {
      "text/plain": [
       "'- We probably all got things to do here.69\\n00:06'"
      ]
     },
     "execution_count": 23,
     "metadata": {},
     "output_type": "execute_result"
    },
    {
     "data": {
      "text/plain": [
       "\":51,661 --> 00:06:54,705\\nI figured we'd start out \""
      ]
     },
     "execution_count": 23,
     "metadata": {},
     "output_type": "execute_result"
    },
    {
     "data": {
      "text/plain": [
       "\"with a five-minute break.\\nThere's one gentleman in\""
      ]
     },
     "execution_count": 23,
     "metadata": {},
     "output_type": "execute_result"
    },
    {
     "data": {
      "text/plain": [
       "' the bathroom.70\\n00:06:54,790 --> 00:06:55,748\\n-'"
      ]
     },
     "execution_count": 23,
     "metadata": {},
     "output_type": "execute_result"
    },
    {
     "data": {
      "text/plain": [
       "' Mr. Foreman.\\n- Huh?71\\n00:06:55,832 --> 00:06:58'"
      ]
     },
     "execution_count": 23,
     "metadata": {},
     "output_type": "execute_result"
    },
    {
     "data": {
      "text/plain": [
       "',626\\n- Are, uh - Are we gonna sit in order?\\n- Gee,'"
      ]
     },
     "execution_count": 23,
     "metadata": {},
     "output_type": "execute_result"
    },
    {
     "data": {
      "text/plain": [
       "\" I don't know.72\\n00:06:58,710 --> 00:07:00,461\\nI\""
      ]
     },
     "execution_count": 23,
     "metadata": {},
     "output_type": "execute_result"
    },
    {
     "data": {
      "text/plain": [
       "', uh - Well, I guess so.73\\n00:07:05,467 --> 00:0'"
      ]
     },
     "execution_count": 23,
     "metadata": {},
     "output_type": "execute_result"
    },
    {
     "data": {
      "text/plain": [
       "\"7:06,926\\nUh, you're in my seat.74\\n00:07:07,010 -\""
      ]
     },
     "execution_count": 23,
     "metadata": {},
     "output_type": "execute_result"
    },
    {
     "data": {
      "text/plain": [
       "\"-> 00:07:09,011\\n- Oh. Excuse me.\\n- That's all righ\""
      ]
     },
     "execution_count": 23,
     "metadata": {},
     "output_type": "execute_result"
    },
    {
     "data": {
      "text/plain": [
       "\"t.75\\n00:07:11,556 --> 00:07:13,307\\nHey, that's n\""
      ]
     },
     "execution_count": 23,
     "metadata": {},
     "output_type": "execute_result"
    },
    {
     "data": {
      "text/plain": [
       "'ot a bad view, huh?76\\n00:07:16,937 --> 00:07:19,'"
      ]
     },
     "execution_count": 23,
     "metadata": {},
     "output_type": "execute_result"
    },
    {
     "data": {
      "text/plain": [
       "'396\\nWhat did you think of the case?77\\n00:07:19,4'"
      ]
     },
     "execution_count": 23,
     "metadata": {},
     "output_type": "execute_result"
    },
    {
     "data": {
      "text/plain": [
       "'81 --> 00:07:21,524\\nI mean, it had a lot of intere'"
      ]
     },
     "execution_count": 23,
     "metadata": {},
     "output_type": "execute_result"
    },
    {
     "data": {
      "text/plain": [
       "'st for me.78\\n00:07:21,608 --> 00:07:24,735\\nNo re'"
      ]
     },
     "execution_count": 23,
     "metadata": {},
     "output_type": "execute_result"
    },
    {
     "data": {
      "text/plain": [
       "'al... dead spots.\\nYou know what I mean?79\\n00:07:'"
      ]
     },
     "execution_count": 23,
     "metadata": {},
     "output_type": "execute_result"
    },
    {
     "data": {
      "text/plain": [
       "'25,612 --> 00:07:28,072\\nI tell you, we were lucky\\n'"
      ]
     },
     "execution_count": 23,
     "metadata": {},
     "output_type": "execute_result"
    },
    {
     "data": {
      "text/plain": [
       "'to get a murder case.80\\n00:07:28,156 --> 00:07:3'"
      ]
     },
     "execution_count": 23,
     "metadata": {},
     "output_type": "execute_result"
    },
    {
     "data": {
      "text/plain": [
       "'0,116\\nI figured us for an assault or burglary.81'"
      ]
     },
     "execution_count": 23,
     "metadata": {},
     "output_type": "execute_result"
    },
    {
     "data": {
      "text/plain": [
       "'\\n00:07:30,200 --> 00:07:32,451\\nBoy, they can be th'"
      ]
     },
     "execution_count": 23,
     "metadata": {},
     "output_type": "execute_result"
    },
    {
     "data": {
      "text/plain": [
       "'e dullest.82\\n00:07:34,037 --> 00:07:35,329\\nHey.\\n'"
      ]
     },
     "execution_count": 23,
     "metadata": {},
     "output_type": "execute_result"
    },
    {
     "data": {
      "text/plain": [
       "'\\n83\\n00:07:35,413 --> 00:07:36,997\\nThat the Woolwor'"
      ]
     },
     "execution_count": 23,
     "metadata": {},
     "output_type": "execute_result"
    },
    {
     "data": {
      "text/plain": [
       "'th Building?84\\n00:07:37,082 --> 00:07:38,999\\nTha'"
      ]
     },
     "execution_count": 23,
     "metadata": {},
     "output_type": "execute_result"
    },
    {
     "data": {
      "text/plain": [
       "\"t's right.85\\n00:07:39,084 --> 00:07:40,668\\nIsn't\""
      ]
     },
     "execution_count": 23,
     "metadata": {},
     "output_type": "execute_result"
    },
    {
     "data": {
      "text/plain": [
       "' that funny?86\\n00:07:40,752 --> 00:07:43,129\\nYou'"
      ]
     },
     "execution_count": 23,
     "metadata": {},
     "output_type": "execute_result"
    },
    {
     "data": {
      "text/plain": [
       "\" know, I've lived here all my life.\\nI've never bee\""
      ]
     },
     "execution_count": 23,
     "metadata": {},
     "output_type": "execute_result"
    },
    {
     "data": {
      "text/plain": [
       "'n inside that.87\\n00:07:43,213 --> 00:07:45,297\\nI'"
      ]
     },
     "execution_count": 23,
     "metadata": {},
     "output_type": "execute_result"
    },
    {
     "data": {
      "text/plain": [
       "'f you had to sort out all that junk...88\\n00:07:4'"
      ]
     },
     "execution_count": 23,
     "metadata": {},
     "output_type": "execute_result"
    },
    {
     "data": {
      "text/plain": [
       "'5,382 --> 00:07:47,466\\nLike that thing with the mo'"
      ]
     },
     "execution_count": 23,
     "metadata": {},
     "output_type": "execute_result"
    },
    {
     "data": {
      "text/plain": [
       "'vies.89\\n00:07:47,551 --> 00:07:50,553\\n- Yeah. Yo'"
      ]
     },
     "execution_count": 23,
     "metadata": {},
     "output_type": "execute_result"
    },
    {
     "data": {
      "text/plain": [
       "'u can say that again.\\n- And what about that busine'"
      ]
     },
     "execution_count": 23,
     "metadata": {},
     "output_type": "execute_result"
    },
    {
     "data": {
      "text/plain": [
       "'ss with the knife?90\\n00:07:50,637 --> 00:07:53,5'"
      ]
     },
     "execution_count": 23,
     "metadata": {},
     "output_type": "execute_result"
    },
    {
     "data": {
      "text/plain": [
       "'14\\nI mean, asking grown-up people\\nto believe that '"
      ]
     },
     "execution_count": 23,
     "metadata": {},
     "output_type": "execute_result"
    },
    {
     "data": {
      "text/plain": [
       "'kind of jazz, huh?91\\n00:07:53,598 --> 00:07:56,0'"
      ]
     },
     "execution_count": 23,
     "metadata": {},
     "output_type": "execute_result"
    },
    {
     "data": {
      "text/plain": [
       "\"58\\nWell, I expected that.\\nYou know what we're deal\""
      ]
     },
     "execution_count": 23,
     "metadata": {},
     "output_type": "execute_result"
    },
    {
     "data": {
      "text/plain": [
       "'ing with.92\\n00:07:56,143 --> 00:07:58,602\\nYeah, '"
      ]
     },
     "execution_count": 23,
     "metadata": {},
     "output_type": "execute_result"
    },
    {
     "data": {
      "text/plain": [
       "'I guess so.93\\n00:07:58,687 --> 00:08:00,396\\nWell'"
      ]
     },
     "execution_count": 23,
     "metadata": {},
     "output_type": "execute_result"
    },
    {
     "data": {
      "text/plain": [
       "', your horn works.\\nNow try your lights.94\\n00:08:'"
      ]
     },
     "execution_count": 23,
     "metadata": {},
     "output_type": "execute_result"
    },
    {
     "data": {
      "text/plain": [
       "'02,065 --> 00:08:03,524\\n- What do you got, a cold?'"
      ]
     },
     "execution_count": 23,
     "metadata": {},
     "output_type": "execute_result"
    },
    {
     "data": {
      "text/plain": [
       "'\\n- And how.95\\n00:08:03,608 --> 00:08:05,818\\nThes'"
      ]
     },
     "execution_count": 23,
     "metadata": {},
     "output_type": "execute_result"
    },
    {
     "data": {
      "text/plain": [
       "'e hot-weather colds can kill you.96\\n00:08:05,902'"
      ]
     },
     "execution_count": 23,
     "metadata": {},
     "output_type": "execute_result"
    },
    {
     "data": {
      "text/plain": [
       "' --> 00:08:08,320\\nI can hardly touch my nose.\\nYou '"
      ]
     },
     "execution_count": 23,
     "metadata": {},
     "output_type": "execute_result"
    },
    {
     "data": {
      "text/plain": [
       "'know what I mean?97\\n00:08:08,405 --> 00:08:11,94'"
      ]
     },
     "execution_count": 23,
     "metadata": {},
     "output_type": "execute_result"
    },
    {
     "data": {
      "text/plain": [
       "'9\\nI sure do. I just got over one.98\\n00:08:12,033'"
      ]
     },
     "execution_count": 23,
     "metadata": {},
     "output_type": "execute_result"
    },
    {
     "data": {
      "text/plain": [
       "\" --> 00:08:14,785\\nAw, come on. Mr.\\nForeman, let's \""
      ]
     },
     "execution_count": 23,
     "metadata": {},
     "output_type": "execute_result"
    },
    {
     "data": {
      "text/plain": [
       "'go here, huh?99\\n00:08:14,870 --> 00:08:16,495\\nWe'"
      ]
     },
     "execution_count": 23,
     "metadata": {},
     "output_type": "execute_result"
    },
    {
     "data": {
      "text/plain": [
       "\"ll, that guy's still in the bathroom.100\\n00:08:1\""
      ]
     },
     "execution_count": 23,
     "metadata": {},
     "output_type": "execute_result"
    },
    {
     "data": {
      "text/plain": [
       "\"6,580 --> 00:08:19,415\\nHey, what's new? I didn't g\""
      ]
     },
     "execution_count": 23,
     "metadata": {},
     "output_type": "execute_result"
    },
    {
     "data": {
      "text/plain": [
       "'et a chance\\nto see a paper this morning.101\\n00:0'"
      ]
     },
     "execution_count": 23,
     "metadata": {},
     "output_type": "execute_result"
    },
    {
     "data": {
      "text/plain": [
       "'8:19,499 --> 00:08:20,583\\nHmm?102\\n00:08:20,667 -'"
      ]
     },
     "execution_count": 23,
     "metadata": {},
     "output_type": "execute_result"
    },
    {
     "data": {
      "text/plain": [
       "'-> 00:08:23,085\\nI was only wondering\\nhow the marke'"
      ]
     },
     "execution_count": 23,
     "metadata": {},
     "output_type": "execute_result"
    },
    {
     "data": {
      "text/plain": [
       "'t closed.103\\n00:08:23,170 --> 00:08:25,880\\nYou g'"
      ]
     },
     "execution_count": 23,
     "metadata": {},
     "output_type": "execute_result"
    },
    {
     "data": {
      "text/plain": [
       "'ot a seat on the Exchange?104\\n00:08:25,964 --> 0'"
      ]
     },
     "execution_count": 23,
     "metadata": {},
     "output_type": "execute_result"
    },
    {
     "data": {
      "text/plain": [
       "\"0:08:27,715\\nI'm a broker.105\\n00:08:27,799 --> 00\""
      ]
     },
     "execution_count": 23,
     "metadata": {},
     "output_type": "execute_result"
    },
    {
     "data": {
      "text/plain": [
       "':08:32,178\\nI run a messenger service -\\nthe Beck an'"
      ]
     },
     "execution_count": 23,
     "metadata": {},
     "output_type": "execute_result"
    },
    {
     "data": {
      "text/plain": [
       "'d Call Company.106\\n00:08:32,262 --> 00:08:34,388'"
      ]
     },
     "execution_count": 23,
     "metadata": {},
     "output_type": "execute_result"
    },
    {
     "data": {
      "text/plain": [
       "\"\\nThe name is my wife's idea.107\\n00:08:34,472 -->\""
      ]
     },
     "execution_count": 23,
     "metadata": {},
     "output_type": "execute_result"
    },
    {
     "data": {
      "text/plain": [
       "' 00:08:38,100\\nGot 37 men working.\\nStarted with not'"
      ]
     },
     "execution_count": 23,
     "metadata": {},
     "output_type": "execute_result"
    },
    {
     "data": {
      "text/plain": [
       "'hing.108\\n00:08:38,185 --> 00:08:41,353\\nOkay, men'"
      ]
     },
     "execution_count": 23,
     "metadata": {},
     "output_type": "execute_result"
    },
    {
     "data": {
      "text/plain": [
       "\", let's take our seats, huh?109\\n00:08:44,524 -->\""
      ]
     },
     "execution_count": 23,
     "metadata": {},
     "output_type": "execute_result"
    },
    {
     "data": {
      "text/plain": [
       "' 00:08:46,358\\nYeah, we can all get outta here\\npret'"
      ]
     },
     "execution_count": 23,
     "metadata": {},
     "output_type": "execute_result"
    },
    {
     "data": {
      "text/plain": [
       "'ty quick, huh?110\\n00:08:46,443 --> 00:08:49,653\\n'"
      ]
     },
     "execution_count": 23,
     "metadata": {},
     "output_type": "execute_result"
    },
    {
     "data": {
      "text/plain": [
       "\"I don't know about the rest of you, but I happen\\nt\""
      ]
     },
     "execution_count": 23,
     "metadata": {},
     "output_type": "execute_result"
    },
    {
     "data": {
      "text/plain": [
       "'o have tickets to that ball game tonight.111\\n00:'"
      ]
     },
     "execution_count": 23,
     "metadata": {},
     "output_type": "execute_result"
    },
    {
     "data": {
      "text/plain": [
       "'08:49,738 --> 00:08:51,572\\nYanks and Cleveland.1'"
      ]
     },
     "execution_count": 23,
     "metadata": {},
     "output_type": "execute_result"
    },
    {
     "data": {
      "text/plain": [
       "'12\\n00:08:51,656 --> 00:08:53,449\\nYeah, we got this'"
      ]
     },
     "execution_count": 23,
     "metadata": {},
     "output_type": "execute_result"
    },
    {
     "data": {
      "text/plain": [
       "' kid,\\nModjelewski, in there.113\\n00:08:53,533 -->'"
      ]
     },
     "execution_count": 23,
     "metadata": {},
     "output_type": "execute_result"
    },
    {
     "data": {
      "text/plain": [
       "\" 00:08:55,201\\nOoh, he's a real bull, this kid.11\""
      ]
     },
     "execution_count": 23,
     "metadata": {},
     "output_type": "execute_result"
    },
    {
     "data": {
      "text/plain": [
       "'4\\n00:08:55,285 --> 00:08:57,411\\nYou know - Phoom!\\n'"
      ]
     },
     "execution_count": 23,
     "metadata": {},
     "output_type": "execute_result"
    },
    {
     "data": {
      "text/plain": [
       "'\\n115\\n00:08:57,495 --> 00:08:59,747\\nA real jug hand'"
      ]
     },
     "execution_count": 23,
     "metadata": {},
     "output_type": "execute_result"
    },
    {
     "data": {
      "text/plain": [
       "'le. You know?116\\n00:08:59,831 --> 00:09:02,082\\nP'"
      ]
     },
     "execution_count": 23,
     "metadata": {},
     "output_type": "execute_result"
    },
    {
     "data": {
      "text/plain": [
       "\"hoom!117\\n00:09:02,167 --> 00:09:04,501\\nYou're a \""
      ]
     },
     "execution_count": 23,
     "metadata": {},
     "output_type": "execute_result"
    },
    {
     "data": {
      "text/plain": [
       "\"real baseball fan, aren't you?\\nHuh? Yeah.118\\n00:\""
      ]
     },
     "execution_count": 23,
     "metadata": {},
     "output_type": "execute_result"
    },
    {
     "data": {
      "text/plain": [
       "'09:04,586 --> 00:09:06,045\\nWhere do we sit here?'"
      ]
     },
     "execution_count": 23,
     "metadata": {},
     "output_type": "execute_result"
    },
    {
     "data": {
      "text/plain": [
       "'119\\n00:09:06,129 --> 00:09:09,215\\nWell, I thought '"
      ]
     },
     "execution_count": 23,
     "metadata": {},
     "output_type": "execute_result"
    },
    {
     "data": {
      "text/plain": [
       "\"we'd sit in order,\\nyou know, by jury numbers.120\""
      ]
     },
     "execution_count": 23,
     "metadata": {},
     "output_type": "execute_result"
    },
    {
     "data": {
      "text/plain": [
       "'\\n00:09:09,299 --> 00:09:11,717\\nOne, two, three, fo'"
      ]
     },
     "execution_count": 23,
     "metadata": {},
     "output_type": "execute_result"
    },
    {
     "data": {
      "text/plain": [
       "'ur, five -\\nso on, around the table.121\\n00:09:11,'"
      ]
     },
     "execution_count": 23,
     "metadata": {},
     "output_type": "execute_result"
    },
    {
     "data": {
      "text/plain": [
       "\"801 --> 00:09:13,052\\nIf that's okay with you gentl\""
      ]
     },
     "execution_count": 23,
     "metadata": {},
     "output_type": "execute_result"
    },
    {
     "data": {
      "text/plain": [
       "'emen.122\\n00:09:13,136 --> 00:09:14,220\\n- Sure.\\n-'"
      ]
     },
     "execution_count": 23,
     "metadata": {},
     "output_type": "execute_result"
    },
    {
     "data": {
      "text/plain": [
       "\" What's the difference?123\\n00:09:14,304 --> 00:0\""
      ]
     },
     "execution_count": 23,
     "metadata": {},
     "output_type": "execute_result"
    },
    {
     "data": {
      "text/plain": [
       "\"9:17,348\\n- I think it's reasonable to sit in order\""
      ]
     },
     "execution_count": 23,
     "metadata": {},
     "output_type": "execute_result"
    },
    {
     "data": {
      "text/plain": [
       "'.\\n- Let it be.124\\n00:09:17,432 --> 00:09:19,683\\n'"
      ]
     },
     "execution_count": 23,
     "metadata": {},
     "output_type": "execute_result"
    },
    {
     "data": {
      "text/plain": [
       "\"- Number 12. Do I sit down here?\\n- Yeah. That's 12\""
      ]
     },
     "execution_count": 23,
     "metadata": {},
     "output_type": "execute_result"
    },
    {
     "data": {
      "text/plain": [
       "'. We go around...125\\n00:09:19,768 --> 00:09:23,0'"
      ]
     },
     "execution_count": 23,
     "metadata": {},
     "output_type": "execute_result"
    },
    {
     "data": {
      "text/plain": [
       "'20\\n- We start with you. One, right?\\n- One, yeah. T'"
      ]
     },
     "execution_count": 23,
     "metadata": {},
     "output_type": "execute_result"
    },
    {
     "data": {
      "text/plain": [
       "'wo, three, four, five, six.126\\n00:09:23,104 --> '"
      ]
     },
     "execution_count": 23,
     "metadata": {},
     "output_type": "execute_result"
    },
    {
     "data": {
      "text/plain": [
       "'00:09:25,439\\nWhat was your impression\\nof the prose'"
      ]
     },
     "execution_count": 23,
     "metadata": {},
     "output_type": "execute_result"
    },
    {
     "data": {
      "text/plain": [
       "'cuting attorney?127\\n00:09:25,523 --> 00:09:27,23'"
      ]
     },
     "execution_count": 23,
     "metadata": {},
     "output_type": "execute_result"
    },
    {
     "data": {
      "text/plain": [
       "\"3\\nOkay. Two. You're two.128\\n00:09:27,317 --> 00:\""
      ]
     },
     "execution_count": 23,
     "metadata": {},
     "output_type": "execute_result"
    },
    {
     "data": {
      "text/plain": [
       "'09:28,484\\nI beg pardon?129\\n00:09:28,568 --> 00:0'"
      ]
     },
     "execution_count": 23,
     "metadata": {},
     "output_type": "execute_result"
    },
    {
     "data": {
      "text/plain": [
       "'9:32,738\\nI thought he was really sharp, the way\\nhe'"
      ]
     },
     "execution_count": 23,
     "metadata": {},
     "output_type": "execute_result"
    },
    {
     "data": {
      "text/plain": [
       "' handled all those points one by one.130\\n00:09:3'"
      ]
     },
     "execution_count": 23,
     "metadata": {},
     "output_type": "execute_result"
    },
    {
     "data": {
      "text/plain": [
       "'2,822 --> 00:09:35,950\\nLogical sequence.\\nI was ver'"
      ]
     },
     "execution_count": 23,
     "metadata": {},
     "output_type": "execute_result"
    },
    {
     "data": {
      "text/plain": [
       "'y impressed.131\\n00:09:36,034 --> 00:09:39,036\\nI '"
      ]
     },
     "execution_count": 23,
     "metadata": {},
     "output_type": "execute_result"
    },
    {
     "data": {
      "text/plain": [
       "'think he - he did an expert job.132\\n00:09:39,120'"
      ]
     },
     "execution_count": 23,
     "metadata": {},
     "output_type": "execute_result"
    },
    {
     "data": {
      "text/plain": [
       "' --> 00:09:42,122\\nA lot of drive too, you know?\\nRe'"
      ]
     },
     "execution_count": 23,
     "metadata": {},
     "output_type": "execute_result"
    },
    {
     "data": {
      "text/plain": [
       "'al drive.133\\n00:09:42,207 --> 00:09:44,291\\n- Oka'"
      ]
     },
     "execution_count": 23,
     "metadata": {},
     "output_type": "execute_result"
    },
    {
     "data": {
      "text/plain": [
       "'y, fellas, can we hold it down a minute?\\n- Sure.'"
      ]
     },
     "execution_count": 23,
     "metadata": {},
     "output_type": "execute_result"
    },
    {
     "data": {
      "text/plain": [
       "'134\\n00:09:44,376 --> 00:09:45,960\\nUh, fellas.135'"
      ]
     },
     "execution_count": 23,
     "metadata": {},
     "output_type": "execute_result"
    },
    {
     "data": {
      "text/plain": [
       "\"\\n00:09:46,044 --> 00:09:49,505\\nSay, we'd like to g\""
      ]
     },
     "execution_count": 23,
     "metadata": {},
     "output_type": "execute_result"
    },
    {
     "data": {
      "text/plain": [
       "'et started.\\nGentleman at the window.136\\n00:09:51'"
      ]
     },
     "execution_count": 23,
     "metadata": {},
     "output_type": "execute_result"
    },
    {
     "data": {
      "text/plain": [
       "\",174 --> 00:09:53,342\\n- We'd like to get started.\\n\""
      ]
     },
     "execution_count": 23,
     "metadata": {},
     "output_type": "execute_result"
    },
    {
     "data": {
      "text/plain": [
       "\"- Oh, I'm sorry.137\\n00:09:53,426 --> 00:09:57,09\""
      ]
     },
     "execution_count": 23,
     "metadata": {},
     "output_type": "execute_result"
    },
    {
     "data": {
      "text/plain": [
       "\"6\\nPretty tough to figure, isn't it?\\nKid kills his \""
      ]
     },
     "execution_count": 23,
     "metadata": {},
     "output_type": "execute_result"
    },
    {
     "data": {
      "text/plain": [
       "'father - bing, just like that.138\\n00:09:57,180 -'"
      ]
     },
     "execution_count": 23,
     "metadata": {},
     "output_type": "execute_result"
    },
    {
     "data": {
      "text/plain": [
       "'-> 00:09:59,765\\nAw, listen, you analyze the figure'"
      ]
     },
     "execution_count": 23,
     "metadata": {},
     "output_type": "execute_result"
    },
    {
     "data": {
      "text/plain": [
       "\"s,\\nyou'll see it happens all the time.139\\n00:09:\""
      ]
     },
     "execution_count": 23,
     "metadata": {},
     "output_type": "execute_result"
    },
    {
     "data": {
      "text/plain": [
       "'59,849 --> 00:10:01,767\\nThey let those kids\\nrun wi'"
      ]
     },
     "execution_count": 23,
     "metadata": {},
     "output_type": "execute_result"
    },
    {
     "data": {
      "text/plain": [
       "'ld up there.140\\n00:10:01,851 --> 00:10:04,561\\nWe'"
      ]
     },
     "execution_count": 23,
     "metadata": {},
     "output_type": "execute_result"
    },
    {
     "data": {
      "text/plain": [
       "\"ll, maybe it serves 'em right.\\nYou know what I mea\""
      ]
     },
     "execution_count": 23,
     "metadata": {},
     "output_type": "execute_result"
    },
    {
     "data": {
      "text/plain": [
       "'n?141\\n00:10:04,646 --> 00:10:06,230\\nIs - Is ever'"
      ]
     },
     "execution_count": 23,
     "metadata": {},
     "output_type": "execute_result"
    },
    {
     "data": {
      "text/plain": [
       "'yone here?142\\n00:10:06,314 --> 00:10:08,148\\nThe '"
      ]
     },
     "execution_count": 23,
     "metadata": {},
     "output_type": "execute_result"
    },
    {
     "data": {
      "text/plain": [
       "'old man is inside.143\\n00:10:08,233 --> 00:10:10,'"
      ]
     },
     "execution_count": 23,
     "metadata": {},
     "output_type": "execute_result"
    },
    {
     "data": {
      "text/plain": [
       "'859\\nOh. Would you, uh,\\nknock on the door for him?\\n'"
      ]
     },
     "execution_count": 23,
     "metadata": {},
     "output_type": "execute_result"
    },
    {
     "data": {
      "text/plain": [
       "'\\n144\\n00:10:10,944 --> 00:10:12,903\\nYou a Yankee fa'"
      ]
     },
     "execution_count": 23,
     "metadata": {},
     "output_type": "execute_result"
    },
    {
     "data": {
      "text/plain": [
       "'n?145\\n00:10:12,988 --> 00:10:14,530\\nNo. Baltimor'"
      ]
     },
     "execution_count": 23,
     "metadata": {},
     "output_type": "execute_result"
    },
    {
     "data": {
      "text/plain": [
       "'e.146\\n00:10:15,448 --> 00:10:16,949\\n- Baltimore?'"
      ]
     },
     "execution_count": 23,
     "metadata": {},
     "output_type": "execute_result"
    },
    {
     "data": {
      "text/plain": [
       "\"\\n- Yeah.147\\n00:10:18,243 --> 00:10:20,786\\nThat's\""
      ]
     },
     "execution_count": 23,
     "metadata": {},
     "output_type": "execute_result"
    },
    {
     "data": {
      "text/plain": [
       "' like being hit in the head\\nwith a crowbar once a '"
      ]
     },
     "execution_count": 23,
     "metadata": {},
     "output_type": "execute_result"
    },
    {
     "data": {
      "text/plain": [
       "'day.148\\n00:10:22,539 --> 00:10:23,789\\nWho have t'"
      ]
     },
     "execution_count": 23,
     "metadata": {},
     "output_type": "execute_result"
    },
    {
     "data": {
      "text/plain": [
       "'hey got?149\\n00:10:23,873 --> 00:10:26,292\\nNo, I '"
      ]
     },
     "execution_count": 23,
     "metadata": {},
     "output_type": "execute_result"
    },
    {
     "data": {
      "text/plain": [
       "'mean, who have they got\\nbesides good groundskeeper'"
      ]
     },
     "execution_count": 23,
     "metadata": {},
     "output_type": "execute_result"
    },
    {
     "data": {
      "text/plain": [
       "\"s?150\\n00:10:26,376 --> 00:10:27,918\\nSay, uh, we'\""
      ]
     },
     "execution_count": 23,
     "metadata": {},
     "output_type": "execute_result"
    },
    {
     "data": {
      "text/plain": [
       "'d like to get started.151\\n00:10:28,003 --> 00:10'"
      ]
     },
     "execution_count": 23,
     "metadata": {},
     "output_type": "execute_result"
    },
    {
     "data": {
      "text/plain": [
       "\":31,046\\nOh, forgive me, gentlemen.\\nI - I didn't me\""
      ]
     },
     "execution_count": 23,
     "metadata": {},
     "output_type": "execute_result"
    },
    {
     "data": {
      "text/plain": [
       "'an to keep you waiting.152\\n00:10:31,840 --> 00:1'"
      ]
     },
     "execution_count": 23,
     "metadata": {},
     "output_type": "execute_result"
    },
    {
     "data": {
      "text/plain": [
       "'0:33,632\\nBaltimore?153\\n00:10:33,717 --> 00:10:36'"
      ]
     },
     "execution_count": 23,
     "metadata": {},
     "output_type": "execute_result"
    },
    {
     "data": {
      "text/plain": [
       "',510\\nOkay, gentlemen,\\nif I can have your attention'"
      ]
     },
     "execution_count": 23,
     "metadata": {},
     "output_type": "execute_result"
    },
    {
     "data": {
      "text/plain": [
       "'.154\\n00:10:36,594 --> 00:10:39,555\\nYou fellas ca'"
      ]
     },
     "execution_count": 23,
     "metadata": {},
     "output_type": "execute_result"
    },
    {
     "data": {
      "text/plain": [
       "'n handle this thing\\nany way that you want to.155'"
      ]
     },
     "execution_count": 23,
     "metadata": {},
     "output_type": "execute_result"
    },
    {
     "data": {
      "text/plain": [
       "\"\\n00:10:39,639 --> 00:10:42,141\\nI'm, um - You know,\""
      ]
     },
     "execution_count": 23,
     "metadata": {},
     "output_type": "execute_result"
    },
    {
     "data": {
      "text/plain": [
       "\"\\nI'm not gonna make any rules.156\\n00:10:42,225 -\""
      ]
     },
     "execution_count": 23,
     "metadata": {},
     "output_type": "execute_result"
    },
    {
     "data": {
      "text/plain": [
       "'-> 00:10:45,519\\nUh, we can, well, discuss it first'"
      ]
     },
     "execution_count": 23,
     "metadata": {},
     "output_type": "execute_result"
    },
    {
     "data": {
      "text/plain": [
       "'\\nand, uh, then vote on it.157\\n00:10:45,603 --> 0'"
      ]
     },
     "execution_count": 23,
     "metadata": {},
     "output_type": "execute_result"
    },
    {
     "data": {
      "text/plain": [
       "\"0:10:48,272\\nThat's, of course, uh -\\nThat's, uh, on\""
      ]
     },
     "execution_count": 23,
     "metadata": {},
     "output_type": "execute_result"
    },
    {
     "data": {
      "text/plain": [
       "'e way.158\\n00:10:48,356 --> 00:10:51,317\\nAnd, uh,'"
      ]
     },
     "execution_count": 23,
     "metadata": {},
     "output_type": "execute_result"
    },
    {
     "data": {
      "text/plain": [
       "' well, we can\\nvote on it right now, and...159\\n00'"
      ]
     },
     "execution_count": 23,
     "metadata": {},
     "output_type": "execute_result"
    },
    {
     "data": {
      "text/plain": [
       "\":10:51,401 --> 00:10:53,902\\nI think it's customary\""
      ]
     },
     "execution_count": 23,
     "metadata": {},
     "output_type": "execute_result"
    },
    {
     "data": {
      "text/plain": [
       "'\\nto take a preliminary vote.160\\n00:10:53,987 -->'"
      ]
     },
     "execution_count": 23,
     "metadata": {},
     "output_type": "execute_result"
    },
    {
     "data": {
      "text/plain": [
       "\" 00:10:57,573\\nYeah, let's - Let's vote. Who knows?\""
      ]
     },
     "execution_count": 23,
     "metadata": {},
     "output_type": "execute_result"
    },
    {
     "data": {
      "text/plain": [
       "'\\nMaybe we all can get outta here, huh?161\\n00:10:'"
      ]
     },
     "execution_count": 23,
     "metadata": {},
     "output_type": "execute_result"
    },
    {
     "data": {
      "text/plain": [
       "'57,657 --> 00:10:59,366\\nUh-huh.162\\n00:10:59,451 '"
      ]
     },
     "execution_count": 23,
     "metadata": {},
     "output_type": "execute_result"
    },
    {
     "data": {
      "text/plain": [
       "'--> 00:11:02,536\\nOkay, then I think that, uh...1'"
      ]
     },
     "execution_count": 23,
     "metadata": {},
     "output_type": "execute_result"
    },
    {
     "data": {
      "text/plain": [
       "'63\\n00:11:02,620 --> 00:11:05,497\\nOf course you kno'"
      ]
     },
     "execution_count": 23,
     "metadata": {},
     "output_type": "execute_result"
    },
    {
     "data": {
      "text/plain": [
       "'w that we have\\na first-degree murder charge here..'"
      ]
     },
     "execution_count": 23,
     "metadata": {},
     "output_type": "execute_result"
    },
    {
     "data": {
      "text/plain": [
       "'.164\\n00:11:05,582 --> 00:11:07,666\\nand if we vot'"
      ]
     },
     "execution_count": 23,
     "metadata": {},
     "output_type": "execute_result"
    },
    {
     "data": {
      "text/plain": [
       "'e the accused guilty...165\\n00:11:07,751 --> 00:1'"
      ]
     },
     "execution_count": 23,
     "metadata": {},
     "output_type": "execute_result"
    },
    {
     "data": {
      "text/plain": [
       "\"1:11,003\\nuh, we've got to send him\\nto the chair.\""
      ]
     },
     "execution_count": 23,
     "metadata": {},
     "output_type": "execute_result"
    },
    {
     "data": {
      "text/plain": [
       "\"166\\n00:11:11,087 --> 00:11:14,840\\n- Um, that's man\""
      ]
     },
     "execution_count": 23,
     "metadata": {},
     "output_type": "execute_result"
    },
    {
     "data": {
      "text/plain": [
       "'datory.\\n- I think we know that.167\\n00:11:14,924 '"
      ]
     },
     "execution_count": 23,
     "metadata": {},
     "output_type": "execute_result"
    },
    {
     "data": {
      "text/plain": [
       "\"--> 00:11:16,675\\n- Let's see who's where.\\n- We mig\""
      ]
     },
     "execution_count": 23,
     "metadata": {},
     "output_type": "execute_result"
    },
    {
     "data": {
      "text/plain": [
       "'ht as well.168\\n00:11:16,760 --> 00:11:20,554\\n- O'"
      ]
     },
     "execution_count": 23,
     "metadata": {},
     "output_type": "execute_result"
    },
    {
     "data": {
      "text/plain": [
       "\"kay. Uh, anyone doesn't want to vote?\\n- All right \""
      ]
     },
     "execution_count": 23,
     "metadata": {},
     "output_type": "execute_result"
    },
    {
     "data": {
      "text/plain": [
       "'with me.169\\n00:11:21,765 --> 00:11:26,352\\nOkay. '"
      ]
     },
     "execution_count": 23,
     "metadata": {},
     "output_type": "execute_result"
    },
    {
     "data": {
      "text/plain": [
       "'Then, uh, just remember that this\\nhas to be 12 to '"
      ]
     },
     "execution_count": 23,
     "metadata": {},
     "output_type": "execute_result"
    },
    {
     "data": {
      "text/plain": [
       "'nothing either way.170\\n00:11:26,436 --> 00:11:27'"
      ]
     },
     "execution_count": 23,
     "metadata": {},
     "output_type": "execute_result"
    },
    {
     "data": {
      "text/plain": [
       "\",895\\nUm, that's the law.171\\n00:11:27,979 --> 00:\""
      ]
     },
     "execution_count": 23,
     "metadata": {},
     "output_type": "execute_result"
    },
    {
     "data": {
      "text/plain": [
       "'11:30,022\\nOkay, are we ready?172\\n00:11:30,106 --'"
      ]
     },
     "execution_count": 23,
     "metadata": {},
     "output_type": "execute_result"
    },
    {
     "data": {
      "text/plain": [
       "'> 00:11:33,108\\nNow, all those voting guilty,\\npleas'"
      ]
     },
     "execution_count": 23,
     "metadata": {},
     "output_type": "execute_result"
    },
    {
     "data": {
      "text/plain": [
       "'e raise your hands.173\\n00:11:37,113 --> 00:11:40'"
      ]
     },
     "execution_count": 23,
     "metadata": {},
     "output_type": "execute_result"
    },
    {
     "data": {
      "text/plain": [
       "',616\\nOne, two, three, four,\\nfive, six, seven...1'"
      ]
     },
     "execution_count": 23,
     "metadata": {},
     "output_type": "execute_result"
    },
    {
     "data": {
      "text/plain": [
       "'74\\n00:11:41,951 --> 00:11:44,536\\neight, nine, 10, '"
      ]
     },
     "execution_count": 23,
     "metadata": {},
     "output_type": "execute_result"
    },
    {
     "data": {
      "text/plain": [
       "\"11.175\\n00:11:44,621 --> 00:11:47,539\\nOkay. That'\""
      ]
     },
     "execution_count": 23,
     "metadata": {},
     "output_type": "execute_result"
    },
    {
     "data": {
      "text/plain": [
       "'s 11 guilty.176\\n00:11:47,624 --> 00:11:49,124\\nTh'"
      ]
     },
     "execution_count": 23,
     "metadata": {},
     "output_type": "execute_result"
    },
    {
     "data": {
      "text/plain": [
       "'ose voting not guilty.177\\n00:11:50,293 --> 00:11'"
      ]
     },
     "execution_count": 23,
     "metadata": {},
     "output_type": "execute_result"
    },
    {
     "data": {
      "text/plain": [
       "':52,378\\nOne. Right.178\\n00:11:52,462 --> 00:11:54'"
      ]
     },
     "execution_count": 23,
     "metadata": {},
     "output_type": "execute_result"
    },
    {
     "data": {
      "text/plain": [
       "\",755\\nThat's 11 guilty. One not guilty.179\\n00:11:\""
      ]
     },
     "execution_count": 23,
     "metadata": {},
     "output_type": "execute_result"
    },
    {
     "data": {
      "text/plain": [
       "'55,673 --> 00:11:57,257\\nWell, now we know where we'"
      ]
     },
     "execution_count": 23,
     "metadata": {},
     "output_type": "execute_result"
    },
    {
     "data": {
      "text/plain": [
       "' are.180\\n00:11:57,342 --> 00:12:01,512\\nBoy, oh, '"
      ]
     },
     "execution_count": 23,
     "metadata": {},
     "output_type": "execute_result"
    },
    {
     "data": {
      "text/plain": [
       "\"boy. There's always one.181\\n00:12:02,055 --> 00:\""
      ]
     },
     "execution_count": 23,
     "metadata": {},
     "output_type": "execute_result"
    },
    {
     "data": {
      "text/plain": [
       "'12:04,348\\nSo, what do we do now?182\\n00:12:04,432'"
      ]
     },
     "execution_count": 23,
     "metadata": {},
     "output_type": "execute_result"
    },
    {
     "data": {
      "text/plain": [
       "' --> 00:12:06,266\\nWell, I guess we talk.183\\n00:1'"
      ]
     },
     "execution_count": 23,
     "metadata": {},
     "output_type": "execute_result"
    },
    {
     "data": {
      "text/plain": [
       "'2:06,351 --> 00:12:07,684\\nBoy, oh, boy.184\\n00:12'"
      ]
     },
     "execution_count": 23,
     "metadata": {},
     "output_type": "execute_result"
    },
    {
     "data": {
      "text/plain": [
       "\":07,769 --> 00:12:09,603\\nYou really think he's inn\""
      ]
     },
     "execution_count": 23,
     "metadata": {},
     "output_type": "execute_result"
    },
    {
     "data": {
      "text/plain": [
       "\"ocent?185\\n00:12:13,066 --> 00:12:14,608\\nI don't \""
      ]
     },
     "execution_count": 23,
     "metadata": {},
     "output_type": "execute_result"
    },
    {
     "data": {
      "text/plain": [
       "'know.186\\n00:12:14,692 --> 00:12:17,569\\nI mean, y'"
      ]
     },
     "execution_count": 23,
     "metadata": {},
     "output_type": "execute_result"
    },
    {
     "data": {
      "text/plain": [
       "'ou sat in court with the rest of us.\\nYou heard wha'"
      ]
     },
     "execution_count": 23,
     "metadata": {},
     "output_type": "execute_result"
    },
    {
     "data": {
      "text/plain": [
       "'t we did.187\\n00:12:17,654 --> 00:12:19,780\\nThe k'"
      ]
     },
     "execution_count": 23,
     "metadata": {},
     "output_type": "execute_result"
    },
    {
     "data": {
      "text/plain": [
       "\"id's a dangerous killer.\\nYou could see it.188\\n00\""
      ]
     },
     "execution_count": 23,
     "metadata": {},
     "output_type": "execute_result"
    },
    {
     "data": {
      "text/plain": [
       "\":12:19,864 --> 00:12:21,490\\nHe's 18 years old.18\""
      ]
     },
     "execution_count": 23,
     "metadata": {},
     "output_type": "execute_result"
    },
    {
     "data": {
      "text/plain": [
       "\"9\\n00:12:21,574 --> 00:12:23,659\\nWell, that's old e\""
      ]
     },
     "execution_count": 23,
     "metadata": {},
     "output_type": "execute_result"
    },
    {
     "data": {
      "text/plain": [
       "'nough. Ηe...190\\n00:12:23,743 --> 00:12:26,412\\nHe'"
      ]
     },
     "execution_count": 23,
     "metadata": {},
     "output_type": "execute_result"
    },
    {
     "data": {
      "text/plain": [
       "' stabbed his own father\\nfour inches into the chest'"
      ]
     },
     "execution_count": 23,
     "metadata": {},
     "output_type": "execute_result"
    },
    {
     "data": {
      "text/plain": [
       "'.191\\n00:12:26,496 --> 00:12:28,747\\nThey proved i'"
      ]
     },
     "execution_count": 23,
     "metadata": {},
     "output_type": "execute_result"
    },
    {
     "data": {
      "text/plain": [
       "'t\\na dozen different ways in court.192\\n00:12:28,8'"
      ]
     },
     "execution_count": 23,
     "metadata": {},
     "output_type": "execute_result"
    },
    {
     "data": {
      "text/plain": [
       "'32 --> 00:12:31,375\\nWould you like me to list them'"
      ]
     },
     "execution_count": 23,
     "metadata": {},
     "output_type": "execute_result"
    },
    {
     "data": {
      "text/plain": [
       "' for you?193\\n00:12:31,459 --> 00:12:32,751\\nNo.'"
      ]
     },
     "execution_count": 23,
     "metadata": {},
     "output_type": "execute_result"
    },
    {
     "data": {
      "text/plain": [
       "'194\\n00:12:32,836 --> 00:12:34,920\\nThen what do you'"
      ]
     },
     "execution_count": 23,
     "metadata": {},
     "output_type": "execute_result"
    },
    {
     "data": {
      "text/plain": [
       "' want?195\\n00:12:35,004 --> 00:12:37,923\\n- I just'"
      ]
     },
     "execution_count": 23,
     "metadata": {},
     "output_type": "execute_result"
    },
    {
     "data": {
      "text/plain": [
       "\" want to talk.\\n- What's there to talk about?196\\n\""
      ]
     },
     "execution_count": 23,
     "metadata": {},
     "output_type": "execute_result"
    },
    {
     "data": {
      "text/plain": [
       "'00:12:38,007 --> 00:12:39,341\\nEleven men in here t'"
      ]
     },
     "execution_count": 23,
     "metadata": {},
     "output_type": "execute_result"
    },
    {
     "data": {
      "text/plain": [
       "\"hink he's guilty.197\\n00:12:39,426 --> 00:12:41,6\""
      ]
     },
     "execution_count": 23,
     "metadata": {},
     "output_type": "execute_result"
    },
    {
     "data": {
      "text/plain": [
       "'77\\nNo one had to think about it twice\\nexcept you.\\n'"
      ]
     },
     "execution_count": 23,
     "metadata": {},
     "output_type": "execute_result"
    },
    {
     "data": {
      "text/plain": [
       "'\\n198\\n00:12:41,761 --> 00:12:44,972\\nI want to ask y'"
      ]
     },
     "execution_count": 23,
     "metadata": {},
     "output_type": "execute_result"
    },
    {
     "data": {
      "text/plain": [
       "'ou something.\\nDo you believe his story?199\\n00:12'"
      ]
     },
     "execution_count": 23,
     "metadata": {},
     "output_type": "execute_result"
    },
    {
     "data": {
      "text/plain": [
       "\":45,056 --> 00:12:47,766\\nI don't know whether I be\""
      ]
     },
     "execution_count": 23,
     "metadata": {},
     "output_type": "execute_result"
    },
    {
     "data": {
      "text/plain": [
       "\"lieve it or not.\\nMaybe I don't.200\\n00:12:47,851 \""
      ]
     },
     "execution_count": 23,
     "metadata": {},
     "output_type": "execute_result"
    },
    {
     "data": {
      "text/plain": [
       "'--> 00:12:49,435\\nSo how come you vote not guilty?\\n'"
      ]
     },
     "execution_count": 23,
     "metadata": {},
     "output_type": "execute_result"
    },
    {
     "data": {
      "text/plain": [
       "'\\n201\\n00:12:49,519 --> 00:12:51,437\\nWell, there wer'"
      ]
     },
     "execution_count": 23,
     "metadata": {},
     "output_type": "execute_result"
    },
    {
     "data": {
      "text/plain": [
       "'e 11 votes for guilty.202\\n00:12:51,521 --> 00:12'"
      ]
     },
     "execution_count": 23,
     "metadata": {},
     "output_type": "execute_result"
    },
    {
     "data": {
      "text/plain": [
       "\":54,273\\nIt's not easy to raise my hand\\nand send a \""
      ]
     },
     "execution_count": 23,
     "metadata": {},
     "output_type": "execute_result"
    },
    {
     "data": {
      "text/plain": [
       "'boy off to die...203\\n00:12:54,357 --> 00:12:56,4'"
      ]
     },
     "execution_count": 23,
     "metadata": {},
     "output_type": "execute_result"
    },
    {
     "data": {
      "text/plain": [
       "'42\\nwithout talking about it first.204\\n00:12:56,5'"
      ]
     },
     "execution_count": 23,
     "metadata": {},
     "output_type": "execute_result"
    },
    {
     "data": {
      "text/plain": [
       "\"26 --> 00:12:58,944\\n- Well, now, who says it's eas\""
      ]
     },
     "execution_count": 23,
     "metadata": {},
     "output_type": "execute_result"
    },
    {
     "data": {
      "text/plain": [
       "'y?\\n- No one.205\\n00:13:00,238 --> 00:13:02,406\\nWh'"
      ]
     },
     "execution_count": 23,
     "metadata": {},
     "output_type": "execute_result"
    },
    {
     "data": {
      "text/plain": [
       "'at, just because I voted fast?206\\n00:13:02,490 -'"
      ]
     },
     "execution_count": 23,
     "metadata": {},
     "output_type": "execute_result"
    },
    {
     "data": {
      "text/plain": [
       "\"-> 00:13:04,908\\nI honestly think the guy's guilty.\""
      ]
     },
     "execution_count": 23,
     "metadata": {},
     "output_type": "execute_result"
    },
    {
     "data": {
      "text/plain": [
       "\"207\\n00:13:04,993 --> 00:13:07,786\\nYou couldn't c\""
      ]
     },
     "execution_count": 23,
     "metadata": {},
     "output_type": "execute_result"
    },
    {
     "data": {
      "text/plain": [
       "'hange my mind\\nif you talked for a hundred years.'"
      ]
     },
     "execution_count": 23,
     "metadata": {},
     "output_type": "execute_result"
    },
    {
     "data": {
      "text/plain": [
       "\"208\\n00:13:07,871 --> 00:13:09,872\\nI'm not trying t\""
      ]
     },
     "execution_count": 23,
     "metadata": {},
     "output_type": "execute_result"
    },
    {
     "data": {
      "text/plain": [
       "\"o change your mind.\\nIt's just that...209\\n00:13:1\""
      ]
     },
     "execution_count": 23,
     "metadata": {},
     "output_type": "execute_result"
    },
    {
     "data": {
      "text/plain": [
       "\"0,457 --> 00:13:12,708\\nWe're talking about somebod\""
      ]
     },
     "execution_count": 23,
     "metadata": {},
     "output_type": "execute_result"
    },
    {
     "data": {
      "text/plain": [
       "\"y's life here.210\\n00:13:12,792 --> 00:13:14,877\\n\""
      ]
     },
     "execution_count": 23,
     "metadata": {},
     "output_type": "execute_result"
    },
    {
     "data": {
      "text/plain": [
       "\"We can't decide it in five minutes.\\nSupposing we'r\""
      ]
     },
     "execution_count": 23,
     "metadata": {},
     "output_type": "execute_result"
    },
    {
     "data": {
      "text/plain": [
       "'e wrong.211\\n00:13:14,961 --> 00:13:16,378\\n\"Suppo'"
      ]
     },
     "execution_count": 23,
     "metadata": {},
     "output_type": "execute_result"
    },
    {
     "data": {
      "text/plain": [
       "'sing we\\'re wrong.\"212\\n00:13:16,463 --> 00:13:18,'"
      ]
     },
     "execution_count": 23,
     "metadata": {},
     "output_type": "execute_result"
    },
    {
     "data": {
      "text/plain": [
       "'464\\nSupposing this whole building\\nshould fall down'"
      ]
     },
     "execution_count": 23,
     "metadata": {},
     "output_type": "execute_result"
    },
    {
     "data": {
      "text/plain": [
       "' on my head.213\\n00:13:18,548 --> 00:13:20,549\\n- '"
      ]
     },
     "execution_count": 23,
     "metadata": {},
     "output_type": "execute_result"
    },
    {
     "data": {
      "text/plain": [
       "\"You can suppose anything.\\n- That's right.214\\n00:\""
      ]
     },
     "execution_count": 23,
     "metadata": {},
     "output_type": "execute_result"
    },
    {
     "data": {
      "text/plain": [
       "\"13:21,384 --> 00:13:23,135\\nLook, what's the differ\""
      ]
     },
     "execution_count": 23,
     "metadata": {},
     "output_type": "execute_result"
    },
    {
     "data": {
      "text/plain": [
       "'ence\\nhow long it takes?215\\n00:13:23,219 --> 00:1'"
      ]
     },
     "execution_count": 23,
     "metadata": {},
     "output_type": "execute_result"
    },
    {
     "data": {
      "text/plain": [
       "'3:25,804\\nSuppose we do it in five minutes.\\nSo what'"
      ]
     },
     "execution_count": 23,
     "metadata": {},
     "output_type": "execute_result"
    },
    {
     "data": {
      "text/plain": [
       "\"?216\\n00:13:25,889 --> 00:13:28,015\\nLet's take an\""
      ]
     },
     "execution_count": 23,
     "metadata": {},
     "output_type": "execute_result"
    },
    {
     "data": {
      "text/plain": [
       "' hour.217\\n00:13:28,099 --> 00:13:30,017\\nThe ball'"
      ]
     },
     "execution_count": 23,
     "metadata": {},
     "output_type": "execute_result"
    },
    {
     "data": {
      "text/plain": [
       "\" game doesn't start till 8:00.218\\n00:13:32,729 -\""
      ]
     },
     "execution_count": 23,
     "metadata": {},
     "output_type": "execute_result"
    },
    {
     "data": {
      "text/plain": [
       "'-> 00:13:33,896\\nHmm?219\\n00:13:36,065 --> 00:13:3'"
      ]
     },
     "execution_count": 23,
     "metadata": {},
     "output_type": "execute_result"
    },
    {
     "data": {
      "text/plain": [
       "\"7,900\\nWho's got something to say?220\\n00:13:37,98\""
      ]
     },
     "execution_count": 23,
     "metadata": {},
     "output_type": "execute_result"
    },
    {
     "data": {
      "text/plain": [
       "\"4 --> 00:13:39,401\\nI'm willing to sit for an hour.\""
      ]
     },
     "execution_count": 23,
     "metadata": {},
     "output_type": "execute_result"
    },
    {
     "data": {
      "text/plain": [
       "'221\\n00:13:39,486 --> 00:13:42,196\\nGreat. I heard'"
      ]
     },
     "execution_count": 23,
     "metadata": {},
     "output_type": "execute_result"
    },
    {
     "data": {
      "text/plain": [
       "'\\na pretty good story last night.222\\n00:13:42,280'"
      ]
     },
     "execution_count": 23,
     "metadata": {},
     "output_type": "execute_result"
    },
    {
     "data": {
      "text/plain": [
       "\" --> 00:13:44,364\\nThat's not why we're sitting her\""
      ]
     },
     "execution_count": 23,
     "metadata": {},
     "output_type": "execute_result"
    },
    {
     "data": {
      "text/plain": [
       "'e.223\\n00:13:45,074 --> 00:13:48,619\\nAll right, t'"
      ]
     },
     "execution_count": 23,
     "metadata": {},
     "output_type": "execute_result"
    },
    {
     "data": {
      "text/plain": [
       "'hen you tell me.\\nWhat are we sitting here for?22'"
      ]
     },
     "execution_count": 23,
     "metadata": {},
     "output_type": "execute_result"
    },
    {
     "data": {
      "text/plain": [
       "\"4\\n00:13:49,871 --> 00:13:51,705\\nI don't know. Mayb\""
      ]
     },
     "execution_count": 23,
     "metadata": {},
     "output_type": "execute_result"
    },
    {
     "data": {
      "text/plain": [
       "'e no reason.225\\n00:13:52,707 --> 00:13:56,168\\nLo'"
      ]
     },
     "execution_count": 23,
     "metadata": {},
     "output_type": "execute_result"
    },
    {
     "data": {
      "text/plain": [
       "\"ok, this kid's been kicked around\\nall of his life.\""
      ]
     },
     "execution_count": 23,
     "metadata": {},
     "output_type": "execute_result"
    },
    {
     "data": {
      "text/plain": [
       "'..226\\n00:13:56,252 --> 00:14:00,172\\nyou know, bo'"
      ]
     },
     "execution_count": 23,
     "metadata": {},
     "output_type": "execute_result"
    },
    {
     "data": {
      "text/plain": [
       "'rn in a slum,\\nmother dead since he was nine.227\\n'"
      ]
     },
     "execution_count": 23,
     "metadata": {},
     "output_type": "execute_result"
    },
    {
     "data": {
      "text/plain": [
       "'00:14:00,256 --> 00:14:02,466\\nHe lived for a year '"
      ]
     },
     "execution_count": 23,
     "metadata": {},
     "output_type": "execute_result"
    },
    {
     "data": {
      "text/plain": [
       "'and a half\\nin an orphanage when his...228\\n00:14:'"
      ]
     },
     "execution_count": 23,
     "metadata": {},
     "output_type": "execute_result"
    },
    {
     "data": {
      "text/plain": [
       "'02,550 --> 00:14:05,469\\nhis father was serving a j'"
      ]
     },
     "execution_count": 23,
     "metadata": {},
     "output_type": "execute_result"
    },
    {
     "data": {
      "text/plain": [
       "'ail term\\nfor forgery.229\\n00:14:05,553 --> 00:14:'"
      ]
     },
     "execution_count": 23,
     "metadata": {},
     "output_type": "execute_result"
    },
    {
     "data": {
      "text/plain": [
       "\"07,888\\nIt's not a very happy beginning.230\\n00:14\""
      ]
     },
     "execution_count": 23,
     "metadata": {},
     "output_type": "execute_result"
    },
    {
     "data": {
      "text/plain": [
       "\":07,972 --> 00:14:10,098\\nHe's a - a wild, angry ki\""
      ]
     },
     "execution_count": 23,
     "metadata": {},
     "output_type": "execute_result"
    },
    {
     "data": {
      "text/plain": [
       "\"d.231\\n00:14:10,183 --> 00:14:11,892\\nThat's all h\""
      ]
     },
     "execution_count": 23,
     "metadata": {},
     "output_type": "execute_result"
    },
    {
     "data": {
      "text/plain": [
       "\"e's ever been.\\nAnd you know why?232\\n00:14:11,976\""
      ]
     },
     "execution_count": 23,
     "metadata": {},
     "output_type": "execute_result"
    },
    {
     "data": {
      "text/plain": [
       "\" --> 00:14:15,687\\n'Cause he's been hit on the head\""
      ]
     },
     "execution_count": 23,
     "metadata": {},
     "output_type": "execute_result"
    },
    {
     "data": {
      "text/plain": [
       "'\\nby somebody once a day every day.233\\n00:14:15,7'"
      ]
     },
     "execution_count": 23,
     "metadata": {},
     "output_type": "execute_result"
    },
    {
     "data": {
      "text/plain": [
       "\"72 --> 00:14:17,981\\nHe's had a -\\nHe's had a pretty\""
      ]
     },
     "execution_count": 23,
     "metadata": {},
     "output_type": "execute_result"
    },
    {
     "data": {
      "text/plain": [
       "' miserable 18 years.234\\n00:14:18,066 --> 00:14:2'"
      ]
     },
     "execution_count": 23,
     "metadata": {},
     "output_type": "execute_result"
    },
    {
     "data": {
      "text/plain": [
       "'1,026\\nI - I just think we owe him a few words.\\nTha'"
      ]
     },
     "execution_count": 23,
     "metadata": {},
     "output_type": "execute_result"
    },
    {
     "data": {
      "text/plain": [
       "\"t's all.235\\n00:14:21,110 --> 00:14:24,655\\nI don'\""
      ]
     },
     "execution_count": 23,
     "metadata": {},
     "output_type": "execute_result"
    },
    {
     "data": {
      "text/plain": [
       "\"t mind telling you this, mister.\\nWe don't owe him \""
      ]
     },
     "execution_count": 23,
     "metadata": {},
     "output_type": "execute_result"
    },
    {
     "data": {
      "text/plain": [
       "'a thing.236\\n00:14:24,739 --> 00:14:27,824\\nHe got'"
      ]
     },
     "execution_count": 23,
     "metadata": {},
     "output_type": "execute_result"
    },
    {
     "data": {
      "text/plain": [
       "\" a fair trial, didn't he?\\nWhat do you think that t\""
      ]
     },
     "execution_count": 23,
     "metadata": {},
     "output_type": "execute_result"
    },
    {
     "data": {
      "text/plain": [
       "'rial cost?237\\n00:14:27,909 --> 00:14:30,994\\n- He'"
      ]
     },
     "execution_count": 23,
     "metadata": {},
     "output_type": "execute_result"
    },
    {
     "data": {
      "text/plain": [
       "\"'s lucky he got it. You know what I mean?\\n- You kn\""
      ]
     },
     "execution_count": 23,
     "metadata": {},
     "output_type": "execute_result"
    },
    {
     "data": {
      "text/plain": [
       "'ow it.238\\n00:14:31,079 --> 00:14:33,413\\nNow, loo'"
      ]
     },
     "execution_count": 23,
     "metadata": {},
     "output_type": "execute_result"
    },
    {
     "data": {
      "text/plain": [
       "\"k, we're all grown-ups in here.239\\n00:14:33,498 \""
      ]
     },
     "execution_count": 23,
     "metadata": {},
     "output_type": "execute_result"
    },
    {
     "data": {
      "text/plain": [
       "\"--> 00:14:35,374\\nWe heard the facts, didn't we?2\""
      ]
     },
     "execution_count": 23,
     "metadata": {},
     "output_type": "execute_result"
    },
    {
     "data": {
      "text/plain": [
       "\"40\\n00:14:35,458 --> 00:14:39,253\\nYou're not gonna \""
      ]
     },
     "execution_count": 23,
     "metadata": {},
     "output_type": "execute_result"
    },
    {
     "data": {
      "text/plain": [
       "\"tell me that we're supposed\\nto believe this kid, k\""
      ]
     },
     "execution_count": 23,
     "metadata": {},
     "output_type": "execute_result"
    },
    {
     "data": {
      "text/plain": [
       "'nowing what he is.241\\n00:14:39,337 --> 00:14:41,'"
      ]
     },
     "execution_count": 23,
     "metadata": {},
     "output_type": "execute_result"
    },
    {
     "data": {
      "text/plain": [
       "\"713\\nListen, I've lived among them\\nall my life.24\""
      ]
     },
     "execution_count": 23,
     "metadata": {},
     "output_type": "execute_result"
    },
    {
     "data": {
      "text/plain": [
       "\"2\\n00:14:41,798 --> 00:14:45,133\\nYou can't believe \""
      ]
     },
     "execution_count": 23,
     "metadata": {},
     "output_type": "execute_result"
    },
    {
     "data": {
      "text/plain": [
       "'a word they say.\\nYou know that.243\\n00:14:45,218 '"
      ]
     },
     "execution_count": 23,
     "metadata": {},
     "output_type": "execute_result"
    },
    {
     "data": {
      "text/plain": [
       "\"--> 00:14:47,052\\nI mean, they're born liars.244\\n\""
      ]
     },
     "execution_count": 23,
     "metadata": {},
     "output_type": "execute_result"
    },
    {
     "data": {
      "text/plain": [
       "'00:14:47,136 --> 00:14:50,472\\n- Only an ignorant m'"
      ]
     },
     "execution_count": 23,
     "metadata": {},
     "output_type": "execute_result"
    },
    {
     "data": {
      "text/plain": [
       "'an can believe that.\\n- Now listen...245\\n00:14:50'"
      ]
     },
     "execution_count": 23,
     "metadata": {},
     "output_type": "execute_result"
    },
    {
     "data": {
      "text/plain": [
       "',557 --> 00:14:53,392\\nDo you think you were born\\nw'"
      ]
     },
     "execution_count": 23,
     "metadata": {},
     "output_type": "execute_result"
    },
    {
     "data": {
      "text/plain": [
       "'ith a monopoly on the truth?246\\n00:14:53,476 -->'"
      ]
     },
     "execution_count": 23,
     "metadata": {},
     "output_type": "execute_result"
    },
    {
     "data": {
      "text/plain": [
       "' 00:14:56,061\\nI think certain things should be\\npoi'"
      ]
     },
     "execution_count": 23,
     "metadata": {},
     "output_type": "execute_result"
    },
    {
     "data": {
      "text/plain": [
       "'nted out to this man.247\\n00:14:56,145 --> 00:14:'"
      ]
     },
     "execution_count": 23,
     "metadata": {},
     "output_type": "execute_result"
    },
    {
     "data": {
      "text/plain": [
       "\"58,230\\n- Come on. This isn't Sunday.\\n- We don't ne\""
      ]
     },
     "execution_count": 23,
     "metadata": {},
     "output_type": "execute_result"
    },
    {
     "data": {
      "text/plain": [
       "'ed a sermon.248\\n00:14:58,314 --> 00:15:00,566\\n- '"
      ]
     },
     "execution_count": 23,
     "metadata": {},
     "output_type": "execute_result"
    },
    {
     "data": {
      "text/plain": [
       "\"Come on.\\n- We have a job to do. Now let's do it.\""
      ]
     },
     "execution_count": 23,
     "metadata": {},
     "output_type": "execute_result"
    },
    {
     "data": {
      "text/plain": [
       "\"249\\n00:15:01,609 --> 00:15:04,653\\nRice Pops.\\nIt's \""
      ]
     },
     "execution_count": 23,
     "metadata": {},
     "output_type": "execute_result"
    },
    {
     "data": {
      "text/plain": [
       "'a product I work on at the agency.250\\n00:15:05,4'"
      ]
     },
     "execution_count": 23,
     "metadata": {},
     "output_type": "execute_result"
    },
    {
     "data": {
      "text/plain": [
       "'88 --> 00:15:08,115\\n\"The breakfast with the built-'"
      ]
     },
     "execution_count": 23,
     "metadata": {},
     "output_type": "execute_result"
    },
    {
     "data": {
      "text/plain": [
       "'in bounce.\"251\\n00:15:08,199 --> 00:15:09,825\\n- I'"
      ]
     },
     "execution_count": 23,
     "metadata": {},
     "output_type": "execute_result"
    },
    {
     "data": {
      "text/plain": [
       "' wrote that line.\\n- Very catchy.252\\n00:15:09,909'"
      ]
     },
     "execution_count": 23,
     "metadata": {},
     "output_type": "execute_result"
    },
    {
     "data": {
      "text/plain": [
       "' --> 00:15:12,077\\n- Yeah.\\n- Say, do you mind?253'"
      ]
     },
     "execution_count": 23,
     "metadata": {},
     "output_type": "execute_result"
    },
    {
     "data": {
      "text/plain": [
       "\"\\n00:15:12,161 --> 00:15:13,870\\nOh, I'm sorry.254\""
      ]
     },
     "execution_count": 23,
     "metadata": {},
     "output_type": "execute_result"
    },
    {
     "data": {
      "text/plain": [
       "'\\n00:15:13,955 --> 00:15:16,415\\nI have this habit o'"
      ]
     },
     "execution_count": 23,
     "metadata": {},
     "output_type": "execute_result"
    },
    {
     "data": {
      "text/plain": [
       "'f doodling.\\nKeeps me thinking clearly.255\\n00:15:'"
      ]
     },
     "execution_count": 23,
     "metadata": {},
     "output_type": "execute_result"
    },
    {
     "data": {
      "text/plain": [
       "'16,499 --> 00:15:18,208\\nYeah, we have all this wor'"
      ]
     },
     "execution_count": 23,
     "metadata": {},
     "output_type": "execute_result"
    },
    {
     "data": {
      "text/plain": [
       "'k to do.256\\n00:15:18,293 --> 00:15:20,002\\n- Ther'"
      ]
     },
     "execution_count": 23,
     "metadata": {},
     "output_type": "execute_result"
    },
    {
     "data": {
      "text/plain": [
       "\"e's no point staying here forever.\\n- Sorry.257\\n0\""
      ]
     },
     "execution_count": 23,
     "metadata": {},
     "output_type": "execute_result"
    },
    {
     "data": {
      "text/plain": [
       "'0:15:20,086 --> 00:15:22,296\\nOkay. Um...258\\n00:1'"
      ]
     },
     "execution_count": 23,
     "metadata": {},
     "output_type": "execute_result"
    },
    {
     "data": {
      "text/plain": [
       "'5:22,380 --> 00:15:26,174\\nperhaps if the gentleman'"
      ]
     },
     "execution_count": 23,
     "metadata": {},
     "output_type": "execute_result"
    },
    {
     "data": {
      "text/plain": [
       "\" down there\\nwho's disagreeing with us...259\\n00:1\""
      ]
     },
     "execution_count": 23,
     "metadata": {},
     "output_type": "execute_result"
    },
    {
     "data": {
      "text/plain": [
       "'5:26,259 --> 00:15:29,553\\nWell, perhaps you could '"
      ]
     },
     "execution_count": 23,
     "metadata": {},
     "output_type": "execute_result"
    },
    {
     "data": {
      "text/plain": [
       "\"tell us why.\\nYou know, let us know what you're thi\""
      ]
     },
     "execution_count": 23,
     "metadata": {},
     "output_type": "execute_result"
    },
    {
     "data": {
      "text/plain": [
       "'nking.260\\n00:15:29,637 --> 00:15:32,014\\nAnd we m'"
      ]
     },
     "execution_count": 23,
     "metadata": {},
     "output_type": "execute_result"
    },
    {
     "data": {
      "text/plain": [
       "\"ight be able to show you\\nwhere you're mixed up.2\""
      ]
     },
     "execution_count": 23,
     "metadata": {},
     "output_type": "execute_result"
    },
    {
     "data": {
      "text/plain": [
       "'61\\n00:15:32,098 --> 00:15:33,765\\nWell, look, maybe'"
      ]
     },
     "execution_count": 23,
     "metadata": {},
     "output_type": "execute_result"
    },
    {
     "data": {
      "text/plain": [
       "' -\\nMaybe this is an idea.262\\n00:15:33,850 --> 00'"
      ]
     },
     "execution_count": 23,
     "metadata": {},
     "output_type": "execute_result"
    },
    {
     "data": {
      "text/plain": [
       "\":15:36,268\\nNow, I haven't given it much thought,\\nb\""
      ]
     },
     "execution_count": 23,
     "metadata": {},
     "output_type": "execute_result"
    },
    {
     "data": {
      "text/plain": [
       "'ut it seems to me...263\\n00:15:36,352 --> 00:15:4'"
      ]
     },
     "execution_count": 23,
     "metadata": {},
     "output_type": "execute_result"
    },
    {
     "data": {
      "text/plain": [
       "\"0,772\\nthat it's up to the group of us to convince\\n\""
      ]
     },
     "execution_count": 23,
     "metadata": {},
     "output_type": "execute_result"
    },
    {
     "data": {
      "text/plain": [
       "\"this gentleman that he's wrong and we're right.2\""
      ]
     },
     "execution_count": 23,
     "metadata": {},
     "output_type": "execute_result"
    },
    {
     "data": {
      "text/plain": [
       "'64\\n00:15:40,857 --> 00:15:43,400\\nNow, maybe if we '"
      ]
     },
     "execution_count": 23,
     "metadata": {},
     "output_type": "execute_result"
    },
    {
     "data": {
      "text/plain": [
       "'each took\\na couple of minutes just to...265\\n00:1'"
      ]
     },
     "execution_count": 23,
     "metadata": {},
     "output_type": "execute_result"
    },
    {
     "data": {
      "text/plain": [
       "'5:44,819 --> 00:15:46,236\\nWell, it was just a quic'"
      ]
     },
     "execution_count": 23,
     "metadata": {},
     "output_type": "execute_result"
    },
    {
     "data": {
      "text/plain": [
       "'k idea.266\\n00:15:46,321 --> 00:15:47,779\\nNo, no,'"
      ]
     },
     "execution_count": 23,
     "metadata": {},
     "output_type": "execute_result"
    },
    {
     "data": {
      "text/plain": [
       "\" no. That's a good one.267\\n00:15:47,864 --> 00:1\""
      ]
     },
     "execution_count": 23,
     "metadata": {},
     "output_type": "execute_result"
    },
    {
     "data": {
      "text/plain": [
       "'5:50,949\\nUh, suppose we go\\nonce around the table.\\n'"
      ]
     },
     "execution_count": 23,
     "metadata": {},
     "output_type": "execute_result"
    },
    {
     "data": {
      "text/plain": [
       "\"\\n268\\n00:15:51,034 --> 00:15:53,910\\n- I guess you'r\""
      ]
     },
     "execution_count": 23,
     "metadata": {},
     "output_type": "execute_result"
    },
    {
     "data": {
      "text/plain": [
       "'e first.\\n- Oh.269\\n00:15:53,995 --> 00:15:55,329\\n'"
      ]
     },
     "execution_count": 23,
     "metadata": {},
     "output_type": "execute_result"
    },
    {
     "data": {
      "text/plain": [
       "'Well, uh...270\\n00:15:56,873 --> 00:15:59,291\\nWel'"
      ]
     },
     "execution_count": 23,
     "metadata": {},
     "output_type": "execute_result"
    },
    {
     "data": {
      "text/plain": [
       "\"l, it-it's hard to put into words.271\\n00:16:00,3\""
      ]
     },
     "execution_count": 23,
     "metadata": {},
     "output_type": "execute_result"
    },
    {
     "data": {
      "text/plain": [
       "\"35 --> 00:16:02,336\\nI just think he's guilty.272\""
      ]
     },
     "execution_count": 23,
     "metadata": {},
     "output_type": "execute_result"
    },
    {
     "data": {
      "text/plain": [
       "'\\n00:16:02,420 --> 00:16:04,921\\nI thought it was ob'"
      ]
     },
     "execution_count": 23,
     "metadata": {},
     "output_type": "execute_result"
    },
    {
     "data": {
      "text/plain": [
       "'vious\\nfrom the word \"go.\"273\\n00:16:05,006 --> 00'"
      ]
     },
     "execution_count": 23,
     "metadata": {},
     "output_type": "execute_result"
    },
    {
     "data": {
      "text/plain": [
       "':16:06,506\\nI mean, nobody proved otherwise.274\\n0'"
      ]
     },
     "execution_count": 23,
     "metadata": {},
     "output_type": "execute_result"
    },
    {
     "data": {
      "text/plain": [
       "'0:16:06,591 --> 00:16:08,133\\nNobody has to prove o'"
      ]
     },
     "execution_count": 23,
     "metadata": {},
     "output_type": "execute_result"
    },
    {
     "data": {
      "text/plain": [
       "'therwise.275\\n00:16:08,217 --> 00:16:10,469\\nThe b'"
      ]
     },
     "execution_count": 23,
     "metadata": {},
     "output_type": "execute_result"
    },
    {
     "data": {
      "text/plain": [
       "\"urden of proof's on the prosecution.276\\n00:16:10\""
      ]
     },
     "execution_count": 23,
     "metadata": {},
     "output_type": "execute_result"
    },
    {
     "data": {
      "text/plain": [
       "\",553 --> 00:16:13,013\\nThe defendant doesn't even\\nh\""
      ]
     },
     "execution_count": 23,
     "metadata": {},
     "output_type": "execute_result"
    },
    {
     "data": {
      "text/plain": [
       "'ave to open his mouth.277\\n00:16:13,097 --> 00:16'"
      ]
     },
     "execution_count": 23,
     "metadata": {},
     "output_type": "execute_result"
    },
    {
     "data": {
      "text/plain": [
       "\":16,224\\n- That's in the Constitution.\\n- Oh, well, \""
      ]
     },
     "execution_count": 23,
     "metadata": {},
     "output_type": "execute_result"
    },
    {
     "data": {
      "text/plain": [
       "'sure, I know that.278\\n00:16:16,309 --> 00:16:18,'"
      ]
     },
     "execution_count": 23,
     "metadata": {},
     "output_type": "execute_result"
    },
    {
     "data": {
      "text/plain": [
       "'268\\nUh, what I meant was, is...279\\n00:16:20,063 '"
      ]
     },
     "execution_count": 23,
     "metadata": {},
     "output_type": "execute_result"
    },
    {
     "data": {
      "text/plain": [
       "\"--> 00:16:22,064\\nWell, I just think he's guilty.\""
      ]
     },
     "execution_count": 23,
     "metadata": {},
     "output_type": "execute_result"
    },
    {
     "data": {
      "text/plain": [
       "'280\\n00:16:22,148 --> 00:16:23,857\\nI-I mean, somebo'"
      ]
     },
     "execution_count": 23,
     "metadata": {},
     "output_type": "execute_result"
    },
    {
     "data": {
      "text/plain": [
       "'dy saw him do it.281\\n00:16:23,941 --> 00:16:28,9'"
      ]
     },
     "execution_count": 23,
     "metadata": {},
     "output_type": "execute_result"
    },
    {
     "data": {
      "text/plain": [
       "\"87\\nOkay. Uh, here's what I think,\\nand I have no pe\""
      ]
     },
     "execution_count": 23,
     "metadata": {},
     "output_type": "execute_result"
    },
    {
     "data": {
      "text/plain": [
       "'rsonal feelings about this.282\\n00:16:29,072 --> '"
      ]
     },
     "execution_count": 23,
     "metadata": {},
     "output_type": "execute_result"
    },
    {
     "data": {
      "text/plain": [
       "'00:16:31,239\\nI just want to talk about facts.283'"
      ]
     },
     "execution_count": 23,
     "metadata": {},
     "output_type": "execute_result"
    },
    {
     "data": {
      "text/plain": [
       "'\\n00:16:32,241 --> 00:16:34,368\\nNumber one.284\\n00'"
      ]
     },
     "execution_count": 23,
     "metadata": {},
     "output_type": "execute_result"
    },
    {
     "data": {
      "text/plain": [
       "':16:34,911 --> 00:16:39,039\\nThe old man lived down'"
      ]
     },
     "execution_count": 23,
     "metadata": {},
     "output_type": "execute_result"
    },
    {
     "data": {
      "text/plain": [
       "'stairs under the room\\nwhere the killing took place'"
      ]
     },
     "execution_count": 23,
     "metadata": {},
     "output_type": "execute_result"
    },
    {
     "data": {
      "text/plain": [
       "'.285\\n00:16:39,123 --> 00:16:41,249\\nAt 10 minutes'"
      ]
     },
     "execution_count": 23,
     "metadata": {},
     "output_type": "execute_result"
    },
    {
     "data": {
      "text/plain": [
       "' after 12:00\\non the night of the killing...286\\n0'"
      ]
     },
     "execution_count": 23,
     "metadata": {},
     "output_type": "execute_result"
    },
    {
     "data": {
      "text/plain": [
       "'0:16:41,334 --> 00:16:45,003\\nhe heard loud noises,'"
      ]
     },
     "execution_count": 23,
     "metadata": {},
     "output_type": "execute_result"
    },
    {
     "data": {
      "text/plain": [
       "'\\nsaid it sounded like a fight.287\\n00:16:45,088 -'"
      ]
     },
     "execution_count": 23,
     "metadata": {},
     "output_type": "execute_result"
    },
    {
     "data": {
      "text/plain": [
       "'-> 00:16:47,964\\nAnd he heard the kid yell out,\\n\"I\\''"
      ]
     },
     "execution_count": 23,
     "metadata": {},
     "output_type": "execute_result"
    },
    {
     "data": {
      "text/plain": [
       "'m gonna kill ya.\"288\\n00:16:48,049 --> 00:16:50,3'"
      ]
     },
     "execution_count": 23,
     "metadata": {},
     "output_type": "execute_result"
    },
    {
     "data": {
      "text/plain": [
       "'42\\nA second later,\\nhe heard a body hit the floor.\\n'"
      ]
     },
     "execution_count": 23,
     "metadata": {},
     "output_type": "execute_result"
    },
    {
     "data": {
      "text/plain": [
       "'\\n289\\n00:16:50,426 --> 00:16:52,135\\nRan to the door'"
      ]
     },
     "execution_count": 23,
     "metadata": {},
     "output_type": "execute_result"
    },
    {
     "data": {
      "text/plain": [
       "', opened it up...290\\n00:16:52,220 --> 00:16:54,6'"
      ]
     },
     "execution_count": 23,
     "metadata": {},
     "output_type": "execute_result"
    },
    {
     "data": {
      "text/plain": [
       "'38\\nsaw the kid running down the stairs\\nand out of '"
      ]
     },
     "execution_count": 23,
     "metadata": {},
     "output_type": "execute_result"
    },
    {
     "data": {
      "text/plain": [
       "'the house.291\\n00:16:54,722 --> 00:16:56,014\\nCall'"
      ]
     },
     "execution_count": 23,
     "metadata": {},
     "output_type": "execute_result"
    },
    {
     "data": {
      "text/plain": [
       "'ed the police.292\\n00:16:56,099 --> 00:16:58,767\\n'"
      ]
     },
     "execution_count": 23,
     "metadata": {},
     "output_type": "execute_result"
    },
    {
     "data": {
      "text/plain": [
       "'They came in, found the old man\\nwith a knife in hi'"
      ]
     },
     "execution_count": 23,
     "metadata": {},
     "output_type": "execute_result"
    },
    {
     "data": {
      "text/plain": [
       "'s chest.293\\n00:16:58,851 --> 00:17:02,104\\nThe co'"
      ]
     },
     "execution_count": 23,
     "metadata": {},
     "output_type": "execute_result"
    },
    {
     "data": {
      "text/plain": [
       "'roner fixed the time of death\\naround midnight.29'"
      ]
     },
     "execution_count": 23,
     "metadata": {},
     "output_type": "execute_result"
    },
    {
     "data": {
      "text/plain": [
       "'4\\n00:17:02,188 --> 00:17:05,273\\nNow these are fact'"
      ]
     },
     "execution_count": 23,
     "metadata": {},
     "output_type": "execute_result"
    },
    {
     "data": {
      "text/plain": [
       "\"s.\\nYou can't refute facts.295\\n00:17:05,358 --> 0\""
      ]
     },
     "execution_count": 23,
     "metadata": {},
     "output_type": "execute_result"
    },
    {
     "data": {
      "text/plain": [
       "'0:17:07,526\\nThe kid is guilty.296\\n00:17:07,610 -'"
      ]
     },
     "execution_count": 23,
     "metadata": {},
     "output_type": "execute_result"
    },
    {
     "data": {
      "text/plain": [
       "\"-> 00:17:09,611\\nI'm just as sentimental as the nex\""
      ]
     },
     "execution_count": 23,
     "metadata": {},
     "output_type": "execute_result"
    },
    {
     "data": {
      "text/plain": [
       "'t fella.297\\n00:17:09,696 --> 00:17:13,573\\nI know'"
      ]
     },
     "execution_count": 23,
     "metadata": {},
     "output_type": "execute_result"
    },
    {
     "data": {
      "text/plain": [
       "\" he's only 18, but he's still\\ngotta pay for what h\""
      ]
     },
     "execution_count": 23,
     "metadata": {},
     "output_type": "execute_result"
    },
    {
     "data": {
      "text/plain": [
       "\"e did.298\\n00:17:13,658 --> 00:17:15,117\\nI'm with\""
      ]
     },
     "execution_count": 23,
     "metadata": {},
     "output_type": "execute_result"
    },
    {
     "data": {
      "text/plain": [
       "' you.299\\n00:17:15,201 --> 00:17:17,744\\nOkay. Are'"
      ]
     },
     "execution_count": 23,
     "metadata": {},
     "output_type": "execute_result"
    },
    {
     "data": {
      "text/plain": [
       "' you finished?300\\n00:17:17,829 --> 00:17:19,287\\n'"
      ]
     },
     "execution_count": 23,
     "metadata": {},
     "output_type": "execute_result"
    },
    {
     "data": {
      "text/plain": [
       "'- Yeah.\\n- Right. Next.301\\n00:17:19,372 --> 00:17'"
      ]
     },
     "execution_count": 23,
     "metadata": {},
     "output_type": "execute_result"
    },
    {
     "data": {
      "text/plain": [
       "\":22,582\\nIt is obvious, to me anyway,\\nthat the boy'\""
      ]
     },
     "execution_count": 23,
     "metadata": {},
     "output_type": "execute_result"
    },
    {
     "data": {
      "text/plain": [
       "'s entire story was flimsy.302\\n00:17:22,667 --> 0'"
      ]
     },
     "execution_count": 23,
     "metadata": {},
     "output_type": "execute_result"
    },
    {
     "data": {
      "text/plain": [
       "'0:17:24,876\\nHe claimed he was at the movies\\nduring'"
      ]
     },
     "execution_count": 23,
     "metadata": {},
     "output_type": "execute_result"
    },
    {
     "data": {
      "text/plain": [
       "' the time of the killing...303\\n00:17:24,961 --> '"
      ]
     },
     "execution_count": 23,
     "metadata": {},
     "output_type": "execute_result"
    },
    {
     "data": {
      "text/plain": [
       "\"00:17:27,504\\nand yet, one hour later, he couldn't\\n\""
      ]
     },
     "execution_count": 23,
     "metadata": {},
     "output_type": "execute_result"
    },
    {
     "data": {
      "text/plain": [
       "'remember the names of the films he saw...304\\n00:'"
      ]
     },
     "execution_count": 23,
     "metadata": {},
     "output_type": "execute_result"
    },
    {
     "data": {
      "text/plain": [
       "'17:27,588 --> 00:17:29,423\\n- or who played in them'"
      ]
     },
     "execution_count": 23,
     "metadata": {},
     "output_type": "execute_result"
    },
    {
     "data": {
      "text/plain": [
       "\".\\n- That's right.305\\n00:17:29,507 --> 00:17:31,8\""
      ]
     },
     "execution_count": 23,
     "metadata": {},
     "output_type": "execute_result"
    },
    {
     "data": {
      "text/plain": [
       "'00\\nAnd no one saw him going in\\nor out of the theat'"
      ]
     },
     "execution_count": 23,
     "metadata": {},
     "output_type": "execute_result"
    },
    {
     "data": {
      "text/plain": [
       "'er.306\\n00:17:31,884 --> 00:17:33,510\\nListen, wha'"
      ]
     },
     "execution_count": 23,
     "metadata": {},
     "output_type": "execute_result"
    },
    {
     "data": {
      "text/plain": [
       "'t about the woman\\nacross the street?307\\n00:17:33'"
      ]
     },
     "execution_count": 23,
     "metadata": {},
     "output_type": "execute_result"
    },
    {
     "data": {
      "text/plain": [
       "\",594 --> 00:17:35,887\\nIf her testimony don't prove\""
      ]
     },
     "execution_count": 23,
     "metadata": {},
     "output_type": "execute_result"
    },
    {
     "data": {
      "text/plain": [
       "' it,\\nnothing does.308\\n00:17:35,972 --> 00:17:38,'"
      ]
     },
     "execution_count": 23,
     "metadata": {},
     "output_type": "execute_result"
    },
    {
     "data": {
      "text/plain": [
       "\"306\\nThat's right. She was the one\\nwho actually saw\""
      ]
     },
     "execution_count": 23,
     "metadata": {},
     "output_type": "execute_result"
    },
    {
     "data": {
      "text/plain": [
       "' the killing.309\\n00:17:38,391 --> 00:17:40,809\\n-'"
      ]
     },
     "execution_count": 23,
     "metadata": {},
     "output_type": "execute_result"
    },
    {
     "data": {
      "text/plain": [
       "\" Now, fellas, please.\\n- Let's go in order here, hu\""
      ]
     },
     "execution_count": 23,
     "metadata": {},
     "output_type": "execute_result"
    },
    {
     "data": {
      "text/plain": [
       "'h?310\\n00:17:40,893 --> 00:17:44,146\\nJust a minut'"
      ]
     },
     "execution_count": 23,
     "metadata": {},
     "output_type": "execute_result"
    },
    {
     "data": {
      "text/plain": [
       "\"e. Here's a woman...311\\n00:17:44,230 --> 00:17:4\""
      ]
     },
     "execution_count": 23,
     "metadata": {},
     "output_type": "execute_result"
    },
    {
     "data": {
      "text/plain": [
       "\"6,690\\nHere's a woman who was lying in bed.\\nShe can\""
      ]
     },
     "execution_count": 23,
     "metadata": {},
     "output_type": "execute_result"
    },
    {
     "data": {
      "text/plain": [
       "\"'t sleep.312\\n00:17:46,774 --> 00:17:48,692\\nShe's\""
      ]
     },
     "execution_count": 23,
     "metadata": {},
     "output_type": "execute_result"
    },
    {
     "data": {
      "text/plain": [
       "' dying with the heat.\\nYou know what I mean?313\\n0'"
      ]
     },
     "execution_count": 23,
     "metadata": {},
     "output_type": "execute_result"
    },
    {
     "data": {
      "text/plain": [
       "'0:17:48,776 --> 00:17:50,610\\nAnyway, she looks out'"
      ]
     },
     "execution_count": 23,
     "metadata": {},
     "output_type": "execute_result"
    },
    {
     "data": {
      "text/plain": [
       "' the window...314\\n00:17:50,695 --> 00:17:54,281\\n'"
      ]
     },
     "execution_count": 23,
     "metadata": {},
     "output_type": "execute_result"
    },
    {
     "data": {
      "text/plain": [
       "'and right across the street she sees\\nthe kid stick'"
      ]
     },
     "execution_count": 23,
     "metadata": {},
     "output_type": "execute_result"
    },
    {
     "data": {
      "text/plain": [
       "' the knife into his father.315\\n00:17:54,365 --> '"
      ]
     },
     "execution_count": 23,
     "metadata": {},
     "output_type": "execute_result"
    },
    {
     "data": {
      "text/plain": [
       "'00:17:57,242\\nThe time is 12:10 on the nose.316\\n0'"
      ]
     },
     "execution_count": 23,
     "metadata": {},
     "output_type": "execute_result"
    },
    {
     "data": {
      "text/plain": [
       "'0:17:57,326 --> 00:17:59,202\\nEverything fits.317'"
      ]
     },
     "execution_count": 23,
     "metadata": {},
     "output_type": "execute_result"
    },
    {
     "data": {
      "text/plain": [
       "\"\\n00:17:59,287 --> 00:18:01,121\\nLook, she's known t\""
      ]
     },
     "execution_count": 23,
     "metadata": {},
     "output_type": "execute_result"
    },
    {
     "data": {
      "text/plain": [
       "'he kid all his life.318\\n00:18:01,205 --> 00:18:0'"
      ]
     },
     "execution_count": 23,
     "metadata": {},
     "output_type": "execute_result"
    },
    {
     "data": {
      "text/plain": [
       "'3,331\\nHis window is right opposite hers\\nacross the'"
      ]
     },
     "execution_count": 23,
     "metadata": {},
     "output_type": "execute_result"
    },
    {
     "data": {
      "text/plain": [
       "' el tracks...319\\n00:18:03,416 --> 00:18:05,083\\na'"
      ]
     },
     "execution_count": 23,
     "metadata": {},
     "output_type": "execute_result"
    },
    {
     "data": {
      "text/plain": [
       "'nd she swore she saw him do it.320\\n00:18:05,168 '"
      ]
     },
     "execution_count": 23,
     "metadata": {},
     "output_type": "execute_result"
    },
    {
     "data": {
      "text/plain": [
       "'--> 00:18:07,836\\n- Through the windows of the pass'"
      ]
     },
     "execution_count": 23,
     "metadata": {},
     "output_type": "execute_result"
    },
    {
     "data": {
      "text/plain": [
       "'ing el train.\\n- Right.321\\n00:18:07,920 --> 00:18'"
      ]
     },
     "execution_count": 23,
     "metadata": {},
     "output_type": "execute_result"
    },
    {
     "data": {
      "text/plain": [
       "':12,090\\nThis el train had no passengers on it.\\nIt '"
      ]
     },
     "execution_count": 23,
     "metadata": {},
     "output_type": "execute_result"
    },
    {
     "data": {
      "text/plain": [
       "'was just being moved downtown.322\\n00:18:12,175 -'"
      ]
     },
     "execution_count": 23,
     "metadata": {},
     "output_type": "execute_result"
    },
    {
     "data": {
      "text/plain": [
       "'-> 00:18:15,093\\nThe lights were out, remember?\\nAnd'"
      ]
     },
     "execution_count": 23,
     "metadata": {},
     "output_type": "execute_result"
    },
    {
     "data": {
      "text/plain": [
       "' they proved in court that, at night...323\\n00:18'"
      ]
     },
     "execution_count": 23,
     "metadata": {},
     "output_type": "execute_result"
    },
    {
     "data": {
      "text/plain": [
       "':15,178 --> 00:18:17,596\\nyou can look through the '"
      ]
     },
     "execution_count": 23,
     "metadata": {},
     "output_type": "execute_result"
    },
    {
     "data": {
      "text/plain": [
       "'windows\\nof an el train when the lights are out...\\n'"
      ]
     },
     "execution_count": 23,
     "metadata": {},
     "output_type": "execute_result"
    },
    {
     "data": {
      "text/plain": [
       "\"\\n324\\n00:18:17,680 --> 00:18:20,015\\nand see what's \""
      ]
     },
     "execution_count": 23,
     "metadata": {},
     "output_type": "execute_result"
    },
    {
     "data": {
      "text/plain": [
       "'happening\\non the other side.325\\n00:18:20,099 -->'"
      ]
     },
     "execution_count": 23,
     "metadata": {},
     "output_type": "execute_result"
    },
    {
     "data": {
      "text/plain": [
       "\" 00:18:22,934\\n- They proved it.\\n- I'd like to ask \""
      ]
     },
     "execution_count": 23,
     "metadata": {},
     "output_type": "execute_result"
    },
    {
     "data": {
      "text/plain": [
       "'you something.326\\n00:18:23,019 --> 00:18:25,687\\n'"
      ]
     },
     "execution_count": 23,
     "metadata": {},
     "output_type": "execute_result"
    },
    {
     "data": {
      "text/plain": [
       "\"You don't believe the boy's story.\\nHow come you be\""
      ]
     },
     "execution_count": 23,
     "metadata": {},
     "output_type": "execute_result"
    },
    {
     "data": {
      "text/plain": [
       "\"lieve the woman's?327\\n00:18:25,772 --> 00:18:27,\""
      ]
     },
     "execution_count": 23,
     "metadata": {},
     "output_type": "execute_result"
    },
    {
     "data": {
      "text/plain": [
       "\"522\\nShe's one of them too, isn't she?328\\n00:18:3\""
      ]
     },
     "execution_count": 23,
     "metadata": {},
     "output_type": "execute_result"
    },
    {
     "data": {
      "text/plain": [
       "\"0,193 --> 00:18:32,194\\nYou're a pretty smart fella\""
      ]
     },
     "execution_count": 23,
     "metadata": {},
     "output_type": "execute_result"
    },
    {
     "data": {
      "text/plain": [
       "\", aren't you?329\\n00:18:32,278 --> 00:18:33,695\\n-\""
      ]
     },
     "execution_count": 23,
     "metadata": {},
     "output_type": "execute_result"
    },
    {
     "data": {
      "text/plain": [
       "' Okay, gentlemen.\\n- Now, now.330\\n00:18:33,780 --'"
      ]
     },
     "execution_count": 23,
     "metadata": {},
     "output_type": "execute_result"
    },
    {
     "data": {
      "text/plain": [
       "'> 00:18:35,989\\n- Now, gentlemen.\\n- Come on. Sit do'"
      ]
     },
     "execution_count": 23,
     "metadata": {},
     "output_type": "execute_result"
    },
    {
     "data": {
      "text/plain": [
       "'wn. Sit down.331\\n00:18:36,073 --> 00:18:38,617\\nO'"
      ]
     },
     "execution_count": 23,
     "metadata": {},
     "output_type": "execute_result"
    },
    {
     "data": {
      "text/plain": [
       "\"h, what's he so wise about?\\nI'm telling you.332\\n\""
      ]
     },
     "execution_count": 23,
     "metadata": {},
     "output_type": "execute_result"
    },
    {
     "data": {
      "text/plain": [
       "'00:18:38,701 --> 00:18:41,953\\n- Okay, now come on.'"
      ]
     },
     "execution_count": 23,
     "metadata": {},
     "output_type": "execute_result"
    },
    {
     "data": {
      "text/plain": [
       "\"\\n- Now we're not gonna get anywhere fighting.333\""
      ]
     },
     "execution_count": 23,
     "metadata": {},
     "output_type": "execute_result"
    },
    {
     "data": {
      "text/plain": [
       "'\\n00:18:42,038 --> 00:18:43,288\\nWhose turn is it ne'"
      ]
     },
     "execution_count": 23,
     "metadata": {},
     "output_type": "execute_result"
    },
    {
     "data": {
      "text/plain": [
       "'xt?334\\n00:18:43,372 --> 00:18:46,208\\nOh, uh, his'"
      ]
     },
     "execution_count": 23,
     "metadata": {},
     "output_type": "execute_result"
    },
    {
     "data": {
      "text/plain": [
       "'. Number five.335\\n00:18:48,461 --> 00:18:51,213\\n'"
      ]
     },
     "execution_count": 23,
     "metadata": {},
     "output_type": "execute_result"
    },
    {
     "data": {
      "text/plain": [
       "'Okay, may I - Can I pass? It...336\\n00:18:52,006 '"
      ]
     },
     "execution_count": 23,
     "metadata": {},
     "output_type": "execute_result"
    },
    {
     "data": {
      "text/plain": [
       "\"--> 00:18:54,049\\nWell, uh, that's your privilege.\\n\""
      ]
     },
     "execution_count": 23,
     "metadata": {},
     "output_type": "execute_result"
    },
    {
     "data": {
      "text/plain": [
       "'\\n337\\n00:18:54,133 --> 00:18:57,260\\nUh, how about t'"
      ]
     },
     "execution_count": 23,
     "metadata": {},
     "output_type": "execute_result"
    },
    {
     "data": {
      "text/plain": [
       "'he next gentleman?338\\n00:18:57,345 --> 00:19:00,'"
      ]
     },
     "execution_count": 23,
     "metadata": {},
     "output_type": "execute_result"
    },
    {
     "data": {
      "text/plain": [
       "\"013\\nOh. Well, uh, I don't know.339\\n00:19:00,097 \""
      ]
     },
     "execution_count": 23,
     "metadata": {},
     "output_type": "execute_result"
    },
    {
     "data": {
      "text/plain": [
       "'--> 00:19:04,309\\nI started to be convinced, you kn'"
      ]
     },
     "execution_count": 23,
     "metadata": {},
     "output_type": "execute_result"
    },
    {
     "data": {
      "text/plain": [
       "'ow,\\nvery early in the case.340\\n00:19:04,894 --> '"
      ]
     },
     "execution_count": 23,
     "metadata": {},
     "output_type": "execute_result"
    },
    {
     "data": {
      "text/plain": [
       "'00:19:09,022\\nYou see, I was looking for a motive.\\n'"
      ]
     },
     "execution_count": 23,
     "metadata": {},
     "output_type": "execute_result"
    },
    {
     "data": {
      "text/plain": [
       "\"That's very important.341\\n00:19:09,106 --> 00:19\""
      ]
     },
     "execution_count": 23,
     "metadata": {},
     "output_type": "execute_result"
    },
    {
     "data": {
      "text/plain": [
       "\":13,318\\nBecause if you don't have a motive,\\nwhere'\""
      ]
     },
     "execution_count": 23,
     "metadata": {},
     "output_type": "execute_result"
    },
    {
     "data": {
      "text/plain": [
       "'s your case, right?342\\n00:19:13,402 --> 00:19:16'"
      ]
     },
     "execution_count": 23,
     "metadata": {},
     "output_type": "execute_result"
    },
    {
     "data": {
      "text/plain": [
       "',488\\nAnyway, that, uh, testimony\\nfrom those people'"
      ]
     },
     "execution_count": 23,
     "metadata": {},
     "output_type": "execute_result"
    },
    {
     "data": {
      "text/plain": [
       "'...343\\n00:19:16,572 --> 00:19:19,616\\nin the apar'"
      ]
     },
     "execution_count": 23,
     "metadata": {},
     "output_type": "execute_result"
    },
    {
     "data": {
      "text/plain": [
       "\"tment across the hall\\nfrom the kid's apartment...\\n\""
      ]
     },
     "execution_count": 23,
     "metadata": {},
     "output_type": "execute_result"
    },
    {
     "data": {
      "text/plain": [
       "'\\n344\\n00:19:19,700 --> 00:19:21,952\\nthat was very p'"
      ]
     },
     "execution_count": 23,
     "metadata": {},
     "output_type": "execute_result"
    },
    {
     "data": {
      "text/plain": [
       "\"owerful.345\\n00:19:22,036 --> 00:19:24,830\\nDidn't\""
      ]
     },
     "execution_count": 23,
     "metadata": {},
     "output_type": "execute_result"
    },
    {
     "data": {
      "text/plain": [
       "' they say something about a -\\na fight and an argum'"
      ]
     },
     "execution_count": 23,
     "metadata": {},
     "output_type": "execute_result"
    },
    {
     "data": {
      "text/plain": [
       "'ent...346\\n00:19:24,914 --> 00:19:29,334\\nbetween '"
      ]
     },
     "execution_count": 23,
     "metadata": {},
     "output_type": "execute_result"
    },
    {
     "data": {
      "text/plain": [
       "'the old man and his son\\naround about, uh, 7:00 tha'"
      ]
     },
     "execution_count": 23,
     "metadata": {},
     "output_type": "execute_result"
    },
    {
     "data": {
      "text/plain": [
       "'t night?347\\n00:19:29,418 --> 00:19:31,878\\n- I me'"
      ]
     },
     "execution_count": 23,
     "metadata": {},
     "output_type": "execute_result"
    },
    {
     "data": {
      "text/plain": [
       "'an, I could be wrong, but I -\\n- It was 8:00.348\\n'"
      ]
     },
     "execution_count": 23,
     "metadata": {},
     "output_type": "execute_result"
    },
    {
     "data": {
      "text/plain": [
       "\"00:19:31,963 --> 00:19:34,005\\nIt was 8:00. That's \""
      ]
     },
     "execution_count": 23,
     "metadata": {},
     "output_type": "execute_result"
    },
    {
     "data": {
      "text/plain": [
       "'right.\\nThey heard an argument.349\\n00:19:34,090 -'"
      ]
     },
     "execution_count": 23,
     "metadata": {},
     "output_type": "execute_result"
    },
    {
     "data": {
      "text/plain": [
       "\"-> 00:19:35,841\\nThey couldn't hear what it was abo\""
      ]
     },
     "execution_count": 23,
     "metadata": {},
     "output_type": "execute_result"
    },
    {
     "data": {
      "text/plain": [
       "'ut.350\\n00:19:35,925 --> 00:19:37,884\\nThen they h'"
      ]
     },
     "execution_count": 23,
     "metadata": {},
     "output_type": "execute_result"
    },
    {
     "data": {
      "text/plain": [
       "'eard\\nthe father hit the boy twice.351\\n00:19:37,9'"
      ]
     },
     "execution_count": 23,
     "metadata": {},
     "output_type": "execute_result"
    },
    {
     "data": {
      "text/plain": [
       "'69 --> 00:19:40,929\\nFinally they saw the boy\\nrun a'"
      ]
     },
     "execution_count": 23,
     "metadata": {},
     "output_type": "execute_result"
    },
    {
     "data": {
      "text/plain": [
       "'ngrily out of the house.352\\n00:19:41,013 --> 00:'"
      ]
     },
     "execution_count": 23,
     "metadata": {},
     "output_type": "execute_result"
    },
    {
     "data": {
      "text/plain": [
       "'19:42,597\\nWhat does that prove?353\\n00:19:42,682 '"
      ]
     },
     "execution_count": 23,
     "metadata": {},
     "output_type": "execute_result"
    },
    {
     "data": {
      "text/plain": [
       "\"--> 00:19:46,351\\nWell, it don't exactly prove anyt\""
      ]
     },
     "execution_count": 23,
     "metadata": {},
     "output_type": "execute_result"
    },
    {
     "data": {
      "text/plain": [
       "\"hing.\\nIt's just part of the picture.354\\n00:19:46\""
      ]
     },
     "execution_count": 23,
     "metadata": {},
     "output_type": "execute_result"
    },
    {
     "data": {
      "text/plain": [
       "',435 --> 00:19:49,354\\nWell, you said it provided a'"
      ]
     },
     "execution_count": 23,
     "metadata": {},
     "output_type": "execute_result"
    },
    {
     "data": {
      "text/plain": [
       "' motive.\\nThe prosecuting attorney said the same th'"
      ]
     },
     "execution_count": 23,
     "metadata": {},
     "output_type": "execute_result"
    },
    {
     "data": {
      "text/plain": [
       "\"ing.355\\n00:19:49,438 --> 00:19:51,690\\nI don't th\""
      ]
     },
     "execution_count": 23,
     "metadata": {},
     "output_type": "execute_result"
    },
    {
     "data": {
      "text/plain": [
       "'ink\\nthat was a very strong motive.356\\n00:19:51,7'"
      ]
     },
     "execution_count": 23,
     "metadata": {},
     "output_type": "execute_result"
    },
    {
     "data": {
      "text/plain": [
       "\"74 --> 00:19:55,360\\nThis boy's been hit so many ti\""
      ]
     },
     "execution_count": 23,
     "metadata": {},
     "output_type": "execute_result"
    },
    {
     "data": {
      "text/plain": [
       "'mes in his\\nlife that violence is practically a...\\n'"
      ]
     },
     "execution_count": 23,
     "metadata": {},
     "output_type": "execute_result"
    },
    {
     "data": {
      "text/plain": [
       "\"\\n357\\n00:19:55,444 --> 00:19:57,821\\nIt's a normal s\""
      ]
     },
     "execution_count": 23,
     "metadata": {},
     "output_type": "execute_result"
    },
    {
     "data": {
      "text/plain": [
       "'tate of affairs with him.358\\n00:19:57,905 --> 00'"
      ]
     },
     "execution_count": 23,
     "metadata": {},
     "output_type": "execute_result"
    },
    {
     "data": {
      "text/plain": [
       "\":20:02,117\\nI just - I can't see two slaps in the f\""
      ]
     },
     "execution_count": 23,
     "metadata": {},
     "output_type": "execute_result"
    },
    {
     "data": {
      "text/plain": [
       "'ace\\nprovoking him into committing murder.359\\n00:'"
      ]
     },
     "execution_count": 23,
     "metadata": {},
     "output_type": "execute_result"
    },
    {
     "data": {
      "text/plain": [
       "'20:02,201 --> 00:20:05,787\\nIt may have been two to'"
      ]
     },
     "execution_count": 23,
     "metadata": {},
     "output_type": "execute_result"
    },
    {
     "data": {
      "text/plain": [
       "'o many.\\nEveryone has a breaking point.360\\n00:20:'"
      ]
     },
     "execution_count": 23,
     "metadata": {},
     "output_type": "execute_result"
    },
    {
     "data": {
      "text/plain": [
       "'08,332 --> 00:20:10,417\\nAnything else?361\\n00:20:'"
      ]
     },
     "execution_count": 23,
     "metadata": {},
     "output_type": "execute_result"
    },
    {
     "data": {
      "text/plain": [
       "'10,501 --> 00:20:12,961\\n- No.\\n- Okay.362\\n00:20:1'"
      ]
     },
     "execution_count": 23,
     "metadata": {},
     "output_type": "execute_result"
    },
    {
     "data": {
      "text/plain": [
       "'3,045 --> 00:20:14,796\\nUh, how about you?363\\n00:'"
      ]
     },
     "execution_count": 23,
     "metadata": {},
     "output_type": "execute_result"
    },
    {
     "data": {
      "text/plain": [
       "\"20:16,632 --> 00:20:18,592\\nI don't know. It's all \""
      ]
     },
     "execution_count": 23,
     "metadata": {},
     "output_type": "execute_result"
    },
    {
     "data": {
      "text/plain": [
       "'been said.364\\n00:20:20,136 --> 00:20:22,762\\nYou '"
      ]
     },
     "execution_count": 23,
     "metadata": {},
     "output_type": "execute_result"
    },
    {
     "data": {
      "text/plain": [
       "\"can talk here forever.\\nIt's still the same thing.\\n\""
      ]
     },
     "execution_count": 23,
     "metadata": {},
     "output_type": "execute_result"
    },
    {
     "data": {
      "text/plain": [
       "'\\n365\\n00:20:23,973 --> 00:20:26,933\\nThis kid is fiv'"
      ]
     },
     "execution_count": 23,
     "metadata": {},
     "output_type": "execute_result"
    },
    {
     "data": {
      "text/plain": [
       "'e for 0.366\\n00:20:27,018 --> 00:20:28,894\\nWell, '"
      ]
     },
     "execution_count": 23,
     "metadata": {},
     "output_type": "execute_result"
    },
    {
     "data": {
      "text/plain": [
       "'look at his record.367\\n00:20:28,978 --> 00:20:31'"
      ]
     },
     "execution_count": 23,
     "metadata": {},
     "output_type": "execute_result"
    },
    {
     "data": {
      "text/plain": [
       "\",187\\nWhen he was 10,\\nhe was in children's court.\""
      ]
     },
     "execution_count": 23,
     "metadata": {},
     "output_type": "execute_result"
    },
    {
     "data": {
      "text/plain": [
       "'368\\n00:20:31,272 --> 00:20:33,064\\nHe threw a rock '"
      ]
     },
     "execution_count": 23,
     "metadata": {},
     "output_type": "execute_result"
    },
    {
     "data": {
      "text/plain": [
       "'at a teacher.369\\n00:20:33,149 --> 00:20:35,442\\nW'"
      ]
     },
     "execution_count": 23,
     "metadata": {},
     "output_type": "execute_result"
    },
    {
     "data": {
      "text/plain": [
       "'hen he was 15, he was in reform school.370\\n00:20'"
      ]
     },
     "execution_count": 23,
     "metadata": {},
     "output_type": "execute_result"
    },
    {
     "data": {
      "text/plain": [
       "':35,526 --> 00:20:37,360\\nHe stole a car.371\\n00:2'"
      ]
     },
     "execution_count": 23,
     "metadata": {},
     "output_type": "execute_result"
    },
    {
     "data": {
      "text/plain": [
       "\"0:37,445 --> 00:20:39,946\\nHe's been arrested for m\""
      ]
     },
     "execution_count": 23,
     "metadata": {},
     "output_type": "execute_result"
    },
    {
     "data": {
      "text/plain": [
       "'ugging.372\\n00:20:40,031 --> 00:20:42,032\\nHe was '"
      ]
     },
     "execution_count": 23,
     "metadata": {},
     "output_type": "execute_result"
    },
    {
     "data": {
      "text/plain": [
       "'picked up twice for knife fighting.373\\n00:20:42,'"
      ]
     },
     "execution_count": 23,
     "metadata": {},
     "output_type": "execute_result"
    },
    {
     "data": {
      "text/plain": [
       "\"116 --> 00:20:44,200\\nOh, yeah, they say\\nhe's real \""
      ]
     },
     "execution_count": 23,
     "metadata": {},
     "output_type": "execute_result"
    },
    {
     "data": {
      "text/plain": [
       "'handy with a knife.374\\n00:20:44,285 --> 00:20:47'"
      ]
     },
     "execution_count": 23,
     "metadata": {},
     "output_type": "execute_result"
    },
    {
     "data": {
      "text/plain": [
       "',078\\nOh, this is a very fine boy.375\\n00:20:47,16'"
      ]
     },
     "execution_count": 23,
     "metadata": {},
     "output_type": "execute_result"
    },
    {
     "data": {
      "text/plain": [
       "'3 --> 00:20:50,165\\nEver since he was five years ol'"
      ]
     },
     "execution_count": 23,
     "metadata": {},
     "output_type": "execute_result"
    },
    {
     "data": {
      "text/plain": [
       "'d,\\nhis father beat him up regularly.376\\n00:20:50'"
      ]
     },
     "execution_count": 23,
     "metadata": {},
     "output_type": "execute_result"
    },
    {
     "data": {
      "text/plain": [
       "',249 --> 00:20:52,667\\n- He used his fists.\\n- Well,'"
      ]
     },
     "execution_count": 23,
     "metadata": {},
     "output_type": "execute_result"
    },
    {
     "data": {
      "text/plain": [
       "' so would I.377\\n00:20:52,752 --> 00:20:54,252\\nA '"
      ]
     },
     "execution_count": 23,
     "metadata": {},
     "output_type": "execute_result"
    },
    {
     "data": {
      "text/plain": [
       "'kid like that?378\\n00:20:54,337 --> 00:20:57,505\\n'"
      ]
     },
     "execution_count": 23,
     "metadata": {},
     "output_type": "execute_result"
    },
    {
     "data": {
      "text/plain": [
       "\"It's these kids, the way they are nowadays.379\\n0\""
      ]
     },
     "execution_count": 23,
     "metadata": {},
     "output_type": "execute_result"
    },
    {
     "data": {
      "text/plain": [
       "'0:21:00,009 --> 00:21:03,178\\nWhen I was a kid,\\nI u'"
      ]
     },
     "execution_count": 23,
     "metadata": {},
     "output_type": "execute_result"
    },
    {
     "data": {
      "text/plain": [
       "'sed to call my father \"sir.\"380\\n00:21:03,930 -->'"
      ]
     },
     "execution_count": 23,
     "metadata": {},
     "output_type": "execute_result"
    },
    {
     "data": {
      "text/plain": [
       "' 00:21:05,221\\nThat\\'s right. \"Sir.\"381\\n00:21:05,3'"
      ]
     },
     "execution_count": 23,
     "metadata": {},
     "output_type": "execute_result"
    },
    {
     "data": {
      "text/plain": [
       "'06 --> 00:21:07,265\\nDo you ever hear a kid\\ncall hi'"
      ]
     },
     "execution_count": 23,
     "metadata": {},
     "output_type": "execute_result"
    },
    {
     "data": {
      "text/plain": [
       "'s father that any more?382\\n00:21:07,350 --> 00:2'"
      ]
     },
     "execution_count": 23,
     "metadata": {},
     "output_type": "execute_result"
    },
    {
     "data": {
      "text/plain": [
       "\"1:09,851\\nFathers don't seem to think\\nit's importan\""
      ]
     },
     "execution_count": 23,
     "metadata": {},
     "output_type": "execute_result"
    },
    {
     "data": {
      "text/plain": [
       "'t any more.383\\n00:21:10,645 --> 00:21:12,687\\n- Y'"
      ]
     },
     "execution_count": 23,
     "metadata": {},
     "output_type": "execute_result"
    },
    {
     "data": {
      "text/plain": [
       "'ou got any kids?\\n- Three.384\\n00:21:14,065 --> 00'"
      ]
     },
     "execution_count": 23,
     "metadata": {},
     "output_type": "execute_result"
    },
    {
     "data": {
      "text/plain": [
       "':21:15,398\\nI got one.385\\n00:21:16,901 --> 00:21:'"
      ]
     },
     "execution_count": 23,
     "metadata": {},
     "output_type": "execute_result"
    },
    {
     "data": {
      "text/plain": [
       "'18,652\\nTwenty-two years old.386\\n00:21:24,784 -->'"
      ]
     },
     "execution_count": 23,
     "metadata": {},
     "output_type": "execute_result"
    },
    {
     "data": {
      "text/plain": [
       "' 00:21:27,535\\nWhen he was nine years old,\\nhe ran a'"
      ]
     },
     "execution_count": 23,
     "metadata": {},
     "output_type": "execute_result"
    },
    {
     "data": {
      "text/plain": [
       "'way from a fight.387\\n00:21:29,246 --> 00:21:32,4'"
      ]
     },
     "execution_count": 23,
     "metadata": {},
     "output_type": "execute_result"
    },
    {
     "data": {
      "text/plain": [
       "'15\\nI saw it. I was so embarrassed\\nI almost threw u'"
      ]
     },
     "execution_count": 23,
     "metadata": {},
     "output_type": "execute_result"
    },
    {
     "data": {
      "text/plain": [
       "'p.388\\n00:21:34,085 --> 00:21:38,713\\nI said, \"I\\'m'"
      ]
     },
     "execution_count": 23,
     "metadata": {},
     "output_type": "execute_result"
    },
    {
     "data": {
      "text/plain": [
       "' gonna make a man out of you\\nif I have to break yo'"
      ]
     },
     "execution_count": 23,
     "metadata": {},
     "output_type": "execute_result"
    },
    {
     "data": {
      "text/plain": [
       "'u in two trying.\"389\\n00:21:41,217 --> 00:21:43,1'"
      ]
     },
     "execution_count": 23,
     "metadata": {},
     "output_type": "execute_result"
    },
    {
     "data": {
      "text/plain": [
       "'34\\nWell, I made a man out of him.390\\n00:21:44,13'"
      ]
     },
     "execution_count": 23,
     "metadata": {},
     "output_type": "execute_result"
    },
    {
     "data": {
      "text/plain": [
       "'6 --> 00:21:46,304\\nWhen he was 16, we had a fight.'"
      ]
     },
     "execution_count": 23,
     "metadata": {},
     "output_type": "execute_result"
    },
    {
     "data": {
      "text/plain": [
       "'391\\n00:21:47,890 --> 00:21:50,266\\nHit me in the '"
      ]
     },
     "execution_count": 23,
     "metadata": {},
     "output_type": "execute_result"
    },
    {
     "data": {
      "text/plain": [
       "'jaw.\\nHe was a big kid.392\\n00:21:53,688 --> 00:21'"
      ]
     },
     "execution_count": 23,
     "metadata": {},
     "output_type": "execute_result"
    },
    {
     "data": {
      "text/plain": [
       "\":55,772\\nHaven't seen him for two years.393\\n00:21\""
      ]
     },
     "execution_count": 23,
     "metadata": {},
     "output_type": "execute_result"
    },
    {
     "data": {
      "text/plain": [
       "':57,692 --> 00:21:59,985\\nKids.394\\n00:22:01,696 -'"
      ]
     },
     "execution_count": 23,
     "metadata": {},
     "output_type": "execute_result"
    },
    {
     "data": {
      "text/plain": [
       "'-> 00:22:03,655\\nWork your heart out.395\\n00:22:06'"
      ]
     },
     "execution_count": 23,
     "metadata": {},
     "output_type": "execute_result"
    },
    {
     "data": {
      "text/plain": [
       "\",242 --> 00:22:07,492\\nWell, let's get going.396\\n\""
      ]
     },
     "execution_count": 23,
     "metadata": {},
     "output_type": "execute_result"
    },
    {
     "data": {
      "text/plain": [
       "\"00:22:07,576 --> 00:22:09,911\\nI think we're missin\""
      ]
     },
     "execution_count": 23,
     "metadata": {},
     "output_type": "execute_result"
    },
    {
     "data": {
      "text/plain": [
       "'g the point here.397\\n00:22:09,996 --> 00:22:13,4'"
      ]
     },
     "execution_count": 23,
     "metadata": {},
     "output_type": "execute_result"
    },
    {
     "data": {
      "text/plain": [
       "\"15\\nThis boy, let's say he's the product\\nof a broke\""
      ]
     },
     "execution_count": 23,
     "metadata": {},
     "output_type": "execute_result"
    },
    {
     "data": {
      "text/plain": [
       "'n home and a filthy neighborhood.398\\n00:22:13,49'"
      ]
     },
     "execution_count": 23,
     "metadata": {},
     "output_type": "execute_result"
    },
    {
     "data": {
      "text/plain": [
       "\"9 --> 00:22:17,085\\nWe can't help that. We're here \""
      ]
     },
     "execution_count": 23,
     "metadata": {},
     "output_type": "execute_result"
    },
    {
     "data": {
      "text/plain": [
       "\"to decide\\nwhether he's innocent or guilty...399\\n\""
      ]
     },
     "execution_count": 23,
     "metadata": {},
     "output_type": "execute_result"
    },
    {
     "data": {
      "text/plain": [
       "'00:22:17,169 --> 00:22:20,088\\nnot to go into the r'"
      ]
     },
     "execution_count": 23,
     "metadata": {},
     "output_type": "execute_result"
    },
    {
     "data": {
      "text/plain": [
       "'easons\\nwhy he grew up the way he did.400\\n00:22:2'"
      ]
     },
     "execution_count": 23,
     "metadata": {},
     "output_type": "execute_result"
    },
    {
     "data": {
      "text/plain": [
       "'0,172 --> 00:22:22,882\\nHe was born in a slum.\\nSlum'"
      ]
     },
     "execution_count": 23,
     "metadata": {},
     "output_type": "execute_result"
    },
    {
     "data": {
      "text/plain": [
       "'s are breeding grounds for criminals.401\\n00:22:2'"
      ]
     },
     "execution_count": 23,
     "metadata": {},
     "output_type": "execute_result"
    },
    {
     "data": {
      "text/plain": [
       "'2,967 --> 00:22:24,843\\nI know it, and so do you.'"
      ]
     },
     "execution_count": 23,
     "metadata": {},
     "output_type": "execute_result"
    },
    {
     "data": {
      "text/plain": [
       "\"402\\n00:22:24,927 --> 00:22:29,639\\nIt's no secret c\""
      ]
     },
     "execution_count": 23,
     "metadata": {},
     "output_type": "execute_result"
    },
    {
     "data": {
      "text/plain": [
       "'hildren from slum backgrounds\\nare potential menace'"
      ]
     },
     "execution_count": 23,
     "metadata": {},
     "output_type": "execute_result"
    },
    {
     "data": {
      "text/plain": [
       "'s to society.403\\n00:22:29,724 --> 00:22:31,891\\n-'"
      ]
     },
     "execution_count": 23,
     "metadata": {},
     "output_type": "execute_result"
    },
    {
     "data": {
      "text/plain": [
       "' Now I think -\\n- Brother, you can say that again.\\n'"
      ]
     },
     "execution_count": 23,
     "metadata": {},
     "output_type": "execute_result"
    },
    {
     "data": {
      "text/plain": [
       "'\\n404\\n00:22:31,976 --> 00:22:34,519\\nThe kids who cr'"
      ]
     },
     "execution_count": 23,
     "metadata": {},
     "output_type": "execute_result"
    },
    {
     "data": {
      "text/plain": [
       "'awl out of these places\\nare real trash.405\\n00:22'"
      ]
     },
     "execution_count": 23,
     "metadata": {},
     "output_type": "execute_result"
    },
    {
     "data": {
      "text/plain": [
       "\":34,603 --> 00:22:36,855\\n- I don't want any part o\""
      ]
     },
     "execution_count": 23,
     "metadata": {},
     "output_type": "execute_result"
    },
    {
     "data": {
      "text/plain": [
       "\"f them. I'm telling you.\\n- Listen, mister. Listen.\""
      ]
     },
     "execution_count": 23,
     "metadata": {},
     "output_type": "execute_result"
    },
    {
     "data": {
      "text/plain": [
       "\"406\\n00:22:36,939 --> 00:22:40,650\\n- I, uh - I've\""
      ]
     },
     "execution_count": 23,
     "metadata": {},
     "output_type": "execute_result"
    },
    {
     "data": {
      "text/plain": [
       "' lived in a slum all my life.\\n- Wait a minute.40'"
      ]
     },
     "execution_count": 23,
     "metadata": {},
     "output_type": "execute_result"
    },
    {
     "data": {
      "text/plain": [
       "'7\\n00:22:40,735 --> 00:22:44,154\\nPlease, I - I play'"
      ]
     },
     "execution_count": 23,
     "metadata": {},
     "output_type": "execute_result"
    },
    {
     "data": {
      "text/plain": [
       "'ed in backyards\\nthat were filled with garbage.40'"
      ]
     },
     "execution_count": 23,
     "metadata": {},
     "output_type": "execute_result"
    },
    {
     "data": {
      "text/plain": [
       "'8\\n00:22:44,238 --> 00:22:46,281\\nI mean, maybe you '"
      ]
     },
     "execution_count": 23,
     "metadata": {},
     "output_type": "execute_result"
    },
    {
     "data": {
      "text/plain": [
       "'can still\\nsmell it on me.409\\n00:22:46,365 --> 00'"
      ]
     },
     "execution_count": 23,
     "metadata": {},
     "output_type": "execute_result"
    },
    {
     "data": {
      "text/plain": [
       "':22:47,699\\nNow, listen, sonny.410\\n00:22:47,783 -'"
      ]
     },
     "execution_count": 23,
     "metadata": {},
     "output_type": "execute_result"
    },
    {
     "data": {
      "text/plain": [
       "\"-> 00:22:49,367\\n- Come on now.\\n- There's nothing p\""
      ]
     },
     "execution_count": 23,
     "metadata": {},
     "output_type": "execute_result"
    },
    {
     "data": {
      "text/plain": [
       "'ersonal about this.411\\n00:22:49,452 --> 00:22:51'"
      ]
     },
     "execution_count": 23,
     "metadata": {},
     "output_type": "execute_result"
    },
    {
     "data": {
      "text/plain": [
       "',995\\n- No, there was something personal.\\n- Aw, com'"
      ]
     },
     "execution_count": 23,
     "metadata": {},
     "output_type": "execute_result"
    },
    {
     "data": {
      "text/plain": [
       "\"e on, fella. He didn't mean you.412\\n00:22:52,079\""
      ]
     },
     "execution_count": 23,
     "metadata": {},
     "output_type": "execute_result"
    },
    {
     "data": {
      "text/plain": [
       "\" --> 00:22:54,164\\nLet's not be so sensitive.413\\n\""
      ]
     },
     "execution_count": 23,
     "metadata": {},
     "output_type": "execute_result"
    },
    {
     "data": {
      "text/plain": [
       "'00:22:54,248 --> 00:22:56,082\\nThis sensitivity I c'"
      ]
     },
     "execution_count": 23,
     "metadata": {},
     "output_type": "execute_result"
    },
    {
     "data": {
      "text/plain": [
       "'an understand.414\\n00:22:56,167 --> 00:23:00,795\\n'"
      ]
     },
     "execution_count": 23,
     "metadata": {},
     "output_type": "execute_result"
    },
    {
     "data": {
      "text/plain": [
       "\"Okay, look, let's stop the arguing.\\nWe're only was\""
      ]
     },
     "execution_count": 23,
     "metadata": {},
     "output_type": "execute_result"
    },
    {
     "data": {
      "text/plain": [
       "'ting time, and...415\\n00:23:01,964 --> 00:23:04,0'"
      ]
     },
     "execution_count": 23,
     "metadata": {},
     "output_type": "execute_result"
    },
    {
     "data": {
      "text/plain": [
       "\"90\\nLook, your turn down there.\\nLet's go.416\\n00:2\""
      ]
     },
     "execution_count": 23,
     "metadata": {},
     "output_type": "execute_result"
    },
    {
     "data": {
      "text/plain": [
       "\"3:05,426 --> 00:23:08,261\\nOh, I didn't expect a tu\""
      ]
     },
     "execution_count": 23,
     "metadata": {},
     "output_type": "execute_result"
    },
    {
     "data": {
      "text/plain": [
       "'rn. I thought\\nyou were all gonna try to convince m'"
      ]
     },
     "execution_count": 23,
     "metadata": {},
     "output_type": "execute_result"
    },
    {
     "data": {
      "text/plain": [
       "\"e.417\\n00:23:08,345 --> 00:23:10,096\\n- Wasn't tha\""
      ]
     },
     "execution_count": 23,
     "metadata": {},
     "output_type": "execute_result"
    },
    {
     "data": {
      "text/plain": [
       "'t the idea?\\n- Check. That was the idea.418\\n00:23'"
      ]
     },
     "execution_count": 23,
     "metadata": {},
     "output_type": "execute_result"
    },
    {
     "data": {
      "text/plain": [
       "':10,181 --> 00:23:12,390\\n- Oh, I forgot about that'"
      ]
     },
     "execution_count": 23,
     "metadata": {},
     "output_type": "execute_result"
    },
    {
     "data": {
      "text/plain": [
       "\". He's right.\\n- What difference does it make?419\""
      ]
     },
     "execution_count": 23,
     "metadata": {},
     "output_type": "execute_result"
    },
    {
     "data": {
      "text/plain": [
       "\"\\n00:23:12,475 --> 00:23:14,809\\nHe's the one who's \""
      ]
     },
     "execution_count": 23,
     "metadata": {},
     "output_type": "execute_result"
    },
    {
     "data": {
      "text/plain": [
       "\"keeping us in here.\\nLet's hear what he's got to sa\""
      ]
     },
     "execution_count": 23,
     "metadata": {},
     "output_type": "execute_result"
    },
    {
     "data": {
      "text/plain": [
       "'y.420\\n00:23:14,894 --> 00:23:17,604\\nOh, now wait'"
      ]
     },
     "execution_count": 23,
     "metadata": {},
     "output_type": "execute_result"
    },
    {
     "data": {
      "text/plain": [
       "' a minute.\\nWe decided to do this a certain way.4'"
      ]
     },
     "execution_count": 23,
     "metadata": {},
     "output_type": "execute_result"
    },
    {
     "data": {
      "text/plain": [
       "'21\\n00:23:17,688 --> 00:23:19,314\\nI think we ought '"
      ]
     },
     "execution_count": 23,
     "metadata": {},
     "output_type": "execute_result"
    },
    {
     "data": {
      "text/plain": [
       "'to stick to that way.422\\n00:23:19,398 --> 00:23:'"
      ]
     },
     "execution_count": 23,
     "metadata": {},
     "output_type": "execute_result"
    },
    {
     "data": {
      "text/plain": [
       "'21,399\\nOh, stop being a kid, will you?423\\n00:23:'"
      ]
     },
     "execution_count": 23,
     "metadata": {},
     "output_type": "execute_result"
    },
    {
     "data": {
      "text/plain": [
       "'21,484 --> 00:23:23,485\\n- What do you mean \"a kid\"'"
      ]
     },
     "execution_count": 23,
     "metadata": {},
     "output_type": "execute_result"
    },
    {
     "data": {
      "text/plain": [
       "'?\\n- What do you think I mean?424\\n00:23:23,569 --'"
      ]
     },
     "execution_count": 23,
     "metadata": {},
     "output_type": "execute_result"
    },
    {
     "data": {
      "text/plain": [
       "'> 00:23:25,195\\nK-I-D. Kid.425\\n00:23:27,782 --> 0'"
      ]
     },
     "execution_count": 23,
     "metadata": {},
     "output_type": "execute_result"
    },
    {
     "data": {
      "text/plain": [
       "\"0:23:31,451\\nWhat? Listen, just because I'm trying\\n\""
      ]
     },
     "execution_count": 23,
     "metadata": {},
     "output_type": "execute_result"
    },
    {
     "data": {
      "text/plain": [
       "'to keep this thing organized?426\\n00:23:31,535 --'"
      ]
     },
     "execution_count": 23,
     "metadata": {},
     "output_type": "execute_result"
    },
    {
     "data": {
      "text/plain": [
       "'> 00:23:33,661\\nHere, you take it.\\nYou take on the '"
      ]
     },
     "execution_count": 23,
     "metadata": {},
     "output_type": "execute_result"
    },
    {
     "data": {
      "text/plain": [
       "'responsibility.427\\n00:23:33,746 --> 00:23:35,622'"
      ]
     },
     "execution_count": 23,
     "metadata": {},
     "output_type": "execute_result"
    },
    {
     "data": {
      "text/plain": [
       "\"\\nI'll just - I'll keep my mouth shut.\\nThat's all.\\n\""
      ]
     },
     "execution_count": 23,
     "metadata": {},
     "output_type": "execute_result"
    },
    {
     "data": {
      "text/plain": [
       "'\\n428\\n00:23:35,706 --> 00:23:37,707\\nWhat are you ge'"
      ]
     },
     "execution_count": 23,
     "metadata": {},
     "output_type": "execute_result"
    },
    {
     "data": {
      "text/plain": [
       "'tting so hot about?\\nCalm down, will you?429\\n00:2'"
      ]
     },
     "execution_count": 23,
     "metadata": {},
     "output_type": "execute_result"
    },
    {
     "data": {
      "text/plain": [
       "\"3:37,792 --> 00:23:39,125\\nDon't tell me to calm do\""
      ]
     },
     "execution_count": 23,
     "metadata": {},
     "output_type": "execute_result"
    },
    {
     "data": {
      "text/plain": [
       "'wn.430\\n00:23:39,210 --> 00:23:41,336\\nHere. You w'"
      ]
     },
     "execution_count": 23,
     "metadata": {},
     "output_type": "execute_result"
    },
    {
     "data": {
      "text/plain": [
       "\"anna take the chair,\\njust take the chair. That's a\""
      ]
     },
     "execution_count": 23,
     "metadata": {},
     "output_type": "execute_result"
    },
    {
     "data": {
      "text/plain": [
       "'ll.431\\n00:23:41,420 --> 00:23:43,880\\n- Did you e'"
      ]
     },
     "execution_count": 23,
     "metadata": {},
     "output_type": "execute_result"
    },
    {
     "data": {
      "text/plain": [
       "'ver see such a thing?\\n- See if you can keep it run'"
      ]
     },
     "execution_count": 23,
     "metadata": {},
     "output_type": "execute_result"
    },
    {
     "data": {
      "text/plain": [
       "'ning.432\\n00:23:43,964 --> 00:23:45,924\\n- Listen,'"
      ]
     },
     "execution_count": 23,
     "metadata": {},
     "output_type": "execute_result"
    },
    {
     "data": {
      "text/plain": [
       "\" you think it's funny or something?\\n- Hey, forget \""
      ]
     },
     "execution_count": 23,
     "metadata": {},
     "output_type": "execute_result"
    },
    {
     "data": {
      "text/plain": [
       "'it, fella.433\\n00:23:46,008 --> 00:23:47,592\\nThe '"
      ]
     },
     "execution_count": 23,
     "metadata": {},
     "output_type": "execute_result"
    },
    {
     "data": {
      "text/plain": [
       "\"whole thing's unimportant.\\nCome on.434\\n00:23:47,\""
      ]
     },
     "execution_count": 23,
     "metadata": {},
     "output_type": "execute_result"
    },
    {
     "data": {
      "text/plain": [
       "'676 --> 00:23:50,804\\n- Unimportant? Oh, here, you '"
      ]
     },
     "execution_count": 23,
     "metadata": {},
     "output_type": "execute_result"
    },
    {
     "data": {
      "text/plain": [
       "'try it.\\n- No, nobody wants to change.435\\n00:23:5'"
      ]
     },
     "execution_count": 23,
     "metadata": {},
     "output_type": "execute_result"
    },
    {
     "data": {
      "text/plain": [
       "\"0,888 --> 00:23:52,639\\nYou're doing a beautiful jo\""
      ]
     },
     "execution_count": 23,
     "metadata": {},
     "output_type": "execute_result"
    },
    {
     "data": {
      "text/plain": [
       "'b.\\nSit down.436\\n00:23:52,723 --> 00:23:55,558\\nYe'"
      ]
     },
     "execution_count": 23,
     "metadata": {},
     "output_type": "execute_result"
    },
    {
     "data": {
      "text/plain": [
       "\"ah, you're doing great.\\nJust great, fella.437\\n00\""
      ]
     },
     "execution_count": 23,
     "metadata": {},
     "output_type": "execute_result"
    },
    {
     "data": {
      "text/plain": [
       "':23:55,643 --> 00:23:57,519\\nYou stay in there and '"
      ]
     },
     "execution_count": 23,
     "metadata": {},
     "output_type": "execute_result"
    },
    {
     "data": {
      "text/plain": [
       "'pitch. You know?438\\n00:23:58,479 --> 00:24:00,68'"
      ]
     },
     "execution_count": 23,
     "metadata": {},
     "output_type": "execute_result"
    },
    {
     "data": {
      "text/plain": [
       "\"8\\nAll right. Let's hear from somebody.439\\n00:24:\""
      ]
     },
     "execution_count": 23,
     "metadata": {},
     "output_type": "execute_result"
    },
    {
     "data": {
      "text/plain": [
       "'02,191 --> 00:24:06,277\\nWell, if you want me to te'"
      ]
     },
     "execution_count": 23,
     "metadata": {},
     "output_type": "execute_result"
    },
    {
     "data": {
      "text/plain": [
       "\"ll you how I\\nfeel about it, it's all right with me\""
      ]
     },
     "execution_count": 23,
     "metadata": {},
     "output_type": "execute_result"
    },
    {
     "data": {
      "text/plain": [
       "\".440\\n00:24:06,362 --> 00:24:08,488\\nBoy, I don't \""
      ]
     },
     "execution_count": 23,
     "metadata": {},
     "output_type": "execute_result"
    },
    {
     "data": {
      "text/plain": [
       "'care what you do.441\\n00:24:08,572 --> 00:24:11,4'"
      ]
     },
     "execution_count": 23,
     "metadata": {},
     "output_type": "execute_result"
    },
    {
     "data": {
      "text/plain": [
       "\"49\\nAll right, I don't have anything brilliant.44\""
      ]
     },
     "execution_count": 23,
     "metadata": {},
     "output_type": "execute_result"
    },
    {
     "data": {
      "text/plain": [
       "'2\\n00:24:11,534 --> 00:24:13,660\\nI only know as muc'"
      ]
     },
     "execution_count": 23,
     "metadata": {},
     "output_type": "execute_result"
    },
    {
     "data": {
      "text/plain": [
       "'h as you do.443\\n00:24:13,744 --> 00:24:17,497\\nAc'"
      ]
     },
     "execution_count": 23,
     "metadata": {},
     "output_type": "execute_result"
    },
    {
     "data": {
      "text/plain": [
       "'cording to the testimony,\\nthe boy looks guilty. Ma'"
      ]
     },
     "execution_count": 23,
     "metadata": {},
     "output_type": "execute_result"
    },
    {
     "data": {
      "text/plain": [
       "'ybe he is.444\\n00:24:17,581 --> 00:24:21,751\\nI sa'"
      ]
     },
     "execution_count": 23,
     "metadata": {},
     "output_type": "execute_result"
    },
    {
     "data": {
      "text/plain": [
       "'t there in court for six days\\nlistening while the '"
      ]
     },
     "execution_count": 23,
     "metadata": {},
     "output_type": "execute_result"
    },
    {
     "data": {
      "text/plain": [
       "'evidence built up.445\\n00:24:22,378 --> 00:24:24,'"
      ]
     },
     "execution_count": 23,
     "metadata": {},
     "output_type": "execute_result"
    },
    {
     "data": {
      "text/plain": [
       "'087\\nEverybody sounded so positive, you know?446\\n'"
      ]
     },
     "execution_count": 23,
     "metadata": {},
     "output_type": "execute_result"
    },
    {
     "data": {
      "text/plain": [
       "'00:24:24,171 --> 00:24:26,631\\nI-I began to get a p'"
      ]
     },
     "execution_count": 23,
     "metadata": {},
     "output_type": "execute_result"
    },
    {
     "data": {
      "text/plain": [
       "'eculiar feeling\\nabout this trial.447\\n00:24:26,71'"
      ]
     },
     "execution_count": 23,
     "metadata": {},
     "output_type": "execute_result"
    },
    {
     "data": {
      "text/plain": [
       "'5 --> 00:24:28,800\\nI mean, nothing is that positiv'"
      ]
     },
     "execution_count": 23,
     "metadata": {},
     "output_type": "execute_result"
    },
    {
     "data": {
      "text/plain": [
       "'e.448\\n00:24:28,884 --> 00:24:31,010\\nThere are a '"
      ]
     },
     "execution_count": 23,
     "metadata": {},
     "output_type": "execute_result"
    },
    {
     "data": {
      "text/plain": [
       "\"lot of questions\\nI'd have liked to ask.449\\n00:24\""
      ]
     },
     "execution_count": 23,
     "metadata": {},
     "output_type": "execute_result"
    },
    {
     "data": {
      "text/plain": [
       "\":31,095 --> 00:24:33,805\\nI don't know. Maybe they \""
      ]
     },
     "execution_count": 23,
     "metadata": {},
     "output_type": "execute_result"
    },
    {
     "data": {
      "text/plain": [
       "\"wouldn't\\nhave meant anything, but...450\\n00:24:33\""
      ]
     },
     "execution_count": 23,
     "metadata": {},
     "output_type": "execute_result"
    },
    {
     "data": {
      "text/plain": [
       "',889 --> 00:24:35,849\\nI began to get the feeling\\nt'"
      ]
     },
     "execution_count": 23,
     "metadata": {},
     "output_type": "execute_result"
    },
    {
     "data": {
      "text/plain": [
       "'hat the defense counsel...451\\n00:24:35,933 --> 0'"
      ]
     },
     "execution_count": 23,
     "metadata": {},
     "output_type": "execute_result"
    },
    {
     "data": {
      "text/plain": [
       "\"0:24:38,434\\nwasn't conducting a thorough-enough\\ncr\""
      ]
     },
     "execution_count": 23,
     "metadata": {},
     "output_type": "execute_result"
    },
    {
     "data": {
      "text/plain": [
       "'oss-examination.452\\n00:24:38,519 --> 00:24:41,89'"
      ]
     },
     "execution_count": 23,
     "metadata": {},
     "output_type": "execute_result"
    },
    {
     "data": {
      "text/plain": [
       "'6\\nI mean, he - he let too many things go by,\\nlittl'"
      ]
     },
     "execution_count": 23,
     "metadata": {},
     "output_type": "execute_result"
    },
    {
     "data": {
      "text/plain": [
       "'e things that...453\\n00:24:41,981 --> 00:24:44,73'"
      ]
     },
     "execution_count": 23,
     "metadata": {},
     "output_type": "execute_result"
    },
    {
     "data": {
      "text/plain": [
       "'2\\nWhat little things? Listen,\\nwhen these fellas do'"
      ]
     },
     "execution_count": 23,
     "metadata": {},
     "output_type": "execute_result"
    },
    {
     "data": {
      "text/plain": [
       "\"n't ask questions...454\\n00:24:44,817 --> 00:24:4\""
      ]
     },
     "execution_count": 23,
     "metadata": {},
     "output_type": "execute_result"
    },
    {
     "data": {
      "text/plain": [
       "\"7,318\\nit's because they know the answers already\\na\""
      ]
     },
     "execution_count": 23,
     "metadata": {},
     "output_type": "execute_result"
    },
    {
     "data": {
      "text/plain": [
       "\"nd they figure they'll be hurt.455\\n00:24:47,403 \""
      ]
     },
     "execution_count": 23,
     "metadata": {},
     "output_type": "execute_result"
    },
    {
     "data": {
      "text/plain": [
       "\"--> 00:24:51,322\\nMaybe it's also possible for a la\""
      ]
     },
     "execution_count": 23,
     "metadata": {},
     "output_type": "execute_result"
    },
    {
     "data": {
      "text/plain": [
       "\"wyer\\nto be just plain stupid, isn't it?456\\n00:24\""
      ]
     },
     "execution_count": 23,
     "metadata": {},
     "output_type": "execute_result"
    },
    {
     "data": {
      "text/plain": [
       "\":51,407 --> 00:24:52,699\\nI mean it's possible.45\""
      ]
     },
     "execution_count": 23,
     "metadata": {},
     "output_type": "execute_result"
    },
    {
     "data": {
      "text/plain": [
       "'7\\n00:24:52,783 --> 00:24:54,450\\nYou sound like you'"
      ]
     },
     "execution_count": 23,
     "metadata": {},
     "output_type": "execute_result"
    },
    {
     "data": {
      "text/plain": [
       "' met\\nmy brother-in-law once.458\\n00:24:57,538 -->'"
      ]
     },
     "execution_count": 23,
     "metadata": {},
     "output_type": "execute_result"
    },
    {
     "data": {
      "text/plain": [
       "' 00:25:00,248\\nI - I kept putting myself\\nin the kid'"
      ]
     },
     "execution_count": 23,
     "metadata": {},
     "output_type": "execute_result"
    },
    {
     "data": {
      "text/plain": [
       "\"'s place.459\\n00:25:02,084 --> 00:25:04,210\\nI'd h\""
      ]
     },
     "execution_count": 23,
     "metadata": {},
     "output_type": "execute_result"
    },
    {
     "data": {
      "text/plain": [
       "'ave asked for another lawyer, I think.460\\n00:25:'"
      ]
     },
     "execution_count": 23,
     "metadata": {},
     "output_type": "execute_result"
    },
    {
     "data": {
      "text/plain": [
       "'04,295 --> 00:25:06,838\\nI mean, if I was on trial '"
      ]
     },
     "execution_count": 23,
     "metadata": {},
     "output_type": "execute_result"
    },
    {
     "data": {
      "text/plain": [
       "'for my life...461\\n00:25:06,922 --> 00:25:11,718\\n'"
      ]
     },
     "execution_count": 23,
     "metadata": {},
     "output_type": "execute_result"
    },
    {
     "data": {
      "text/plain": [
       "\"I'd want my lawyer to tear the prosecution\\nwitness\""
      ]
     },
     "execution_count": 23,
     "metadata": {},
     "output_type": "execute_result"
    },
    {
     "data": {
      "text/plain": [
       "'es to shreds, or at least try to.462\\n00:25:11,80'"
      ]
     },
     "execution_count": 23,
     "metadata": {},
     "output_type": "execute_result"
    },
    {
     "data": {
      "text/plain": [
       "'2 --> 00:25:15,763\\nLook, there was one alleged eye'"
      ]
     },
     "execution_count": 23,
     "metadata": {},
     "output_type": "execute_result"
    },
    {
     "data": {
      "text/plain": [
       "'witness\\nto this killing.463\\n00:25:16,307 --> 00:'"
      ]
     },
     "execution_count": 23,
     "metadata": {},
     "output_type": "execute_result"
    },
    {
     "data": {
      "text/plain": [
       "'25:19,684\\nSomeone else claims he heard the killing'"
      ]
     },
     "execution_count": 23,
     "metadata": {},
     "output_type": "execute_result"
    },
    {
     "data": {
      "text/plain": [
       "',\\nsaw the boy run out afterwards.464\\n00:25:19,76'"
      ]
     },
     "execution_count": 23,
     "metadata": {},
     "output_type": "execute_result"
    },
    {
     "data": {
      "text/plain": [
       "'8 --> 00:25:21,895\\nAnd there was a lot\\nof circumst'"
      ]
     },
     "execution_count": 23,
     "metadata": {},
     "output_type": "execute_result"
    },
    {
     "data": {
      "text/plain": [
       "'antial evidence.465\\n00:25:21,979 --> 00:25:25,48'"
      ]
     },
     "execution_count": 23,
     "metadata": {},
     "output_type": "execute_result"
    },
    {
     "data": {
      "text/plain": [
       "'1\\nBut actually, those two witnesses\\nwere the entir'"
      ]
     },
     "execution_count": 23,
     "metadata": {},
     "output_type": "execute_result"
    },
    {
     "data": {
      "text/plain": [
       "'e case for the prosecution.466\\n00:25:25,566 --> '"
      ]
     },
     "execution_count": 23,
     "metadata": {},
     "output_type": "execute_result"
    },
    {
     "data": {
      "text/plain": [
       "\"00:25:27,358\\nSupposing they're wrong.467\\n00:25:2\""
      ]
     },
     "execution_count": 23,
     "metadata": {},
     "output_type": "execute_result"
    },
    {
     "data": {
      "text/plain": [
       "'7,443 --> 00:25:29,235\\nWhat do you mean\\nsupposing '"
      ]
     },
     "execution_count": 23,
     "metadata": {},
     "output_type": "execute_result"
    },
    {
     "data": {
      "text/plain": [
       "\"they're wrong?468\\n00:25:29,320 --> 00:25:31,196\\n\""
      ]
     },
     "execution_count": 23,
     "metadata": {},
     "output_type": "execute_result"
    },
    {
     "data": {
      "text/plain": [
       "\"What's the point\\nof having witnesses at all?469\\n\""
      ]
     },
     "execution_count": 23,
     "metadata": {},
     "output_type": "execute_result"
    },
    {
     "data": {
      "text/plain": [
       "'00:25:31,280 --> 00:25:33,907\\n- Could they be wron'"
      ]
     },
     "execution_count": 23,
     "metadata": {},
     "output_type": "execute_result"
    },
    {
     "data": {
      "text/plain": [
       "'g?\\n- What are you trying to say?470\\n00:25:33,991'"
      ]
     },
     "execution_count": 23,
     "metadata": {},
     "output_type": "execute_result"
    },
    {
     "data": {
      "text/plain": [
       "' --> 00:25:35,533\\nThose people sat on the stand un'"
      ]
     },
     "execution_count": 23,
     "metadata": {},
     "output_type": "execute_result"
    },
    {
     "data": {
      "text/plain": [
       "\"der oath.471\\n00:25:35,618 --> 00:25:37,160\\nThey'\""
      ]
     },
     "execution_count": 23,
     "metadata": {},
     "output_type": "execute_result"
    },
    {
     "data": {
      "text/plain": [
       "'re only people.\\nPeople make mistakes.472\\n00:25:3'"
      ]
     },
     "execution_count": 23,
     "metadata": {},
     "output_type": "execute_result"
    },
    {
     "data": {
      "text/plain": [
       "'7,244 --> 00:25:38,953\\nCould they be wrong?473\\n0'"
      ]
     },
     "execution_count": 23,
     "metadata": {},
     "output_type": "execute_result"
    },
    {
     "data": {
      "text/plain": [
       "\"0:25:39,747 --> 00:25:42,665\\n- Well, no, I don't t\""
      ]
     },
     "execution_count": 23,
     "metadata": {},
     "output_type": "execute_result"
    },
    {
     "data": {
      "text/plain": [
       "'hink so.\\n- Do you know so?474\\n00:25:42,750 --> 0'"
      ]
     },
     "execution_count": 23,
     "metadata": {},
     "output_type": "execute_result"
    },
    {
     "data": {
      "text/plain": [
       "'0:25:44,584\\nOh, come on.\\nNobody can know a thing l'"
      ]
     },
     "execution_count": 23,
     "metadata": {},
     "output_type": "execute_result"
    },
    {
     "data": {
      "text/plain": [
       "'ike that.475\\n00:25:44,668 --> 00:25:46,377\\nThis '"
      ]
     },
     "execution_count": 23,
     "metadata": {},
     "output_type": "execute_result"
    },
    {
     "data": {
      "text/plain": [
       "\"isn't an exact science.476\\n00:25:46,462 --> 00:2\""
      ]
     },
     "execution_count": 23,
     "metadata": {},
     "output_type": "execute_result"
    },
    {
     "data": {
      "text/plain": [
       "\"5:47,795\\nThat's right. It isn't.477\\n00:25:52,968\""
      ]
     },
     "execution_count": 23,
     "metadata": {},
     "output_type": "execute_result"
    },
    {
     "data": {
      "text/plain": [
       "\" --> 00:25:55,720\\nOkay, let - Let's get to the poi\""
      ]
     },
     "execution_count": 23,
     "metadata": {},
     "output_type": "execute_result"
    },
    {
     "data": {
      "text/plain": [
       "'nt.478\\n00:25:55,804 --> 00:25:58,389\\nWhat about '"
      ]
     },
     "execution_count": 23,
     "metadata": {},
     "output_type": "execute_result"
    },
    {
     "data": {
      "text/plain": [
       "\"the switch knife\\nthey found in the old man's chest\""
      ]
     },
     "execution_count": 23,
     "metadata": {},
     "output_type": "execute_result"
    },
    {
     "data": {
      "text/plain": [
       "'?479\\n00:25:58,474 --> 00:26:00,892\\nUh, wait-wait'"
      ]
     },
     "execution_count": 23,
     "metadata": {},
     "output_type": "execute_result"
    },
    {
     "data": {
      "text/plain": [
       "\" a minute.\\nThere's some people who haven't talked \""
      ]
     },
     "execution_count": 23,
     "metadata": {},
     "output_type": "execute_result"
    },
    {
     "data": {
      "text/plain": [
       "\"yet.480\\n00:26:00,976 --> 00:26:02,977\\n- Shouldn'\""
      ]
     },
     "execution_count": 23,
     "metadata": {},
     "output_type": "execute_result"
    },
    {
     "data": {
      "text/plain": [
       "\"t we go in order?\\n- They'll get a chance to talk.\\n\""
      ]
     },
     "execution_count": 23,
     "metadata": {},
     "output_type": "execute_result"
    },
    {
     "data": {
      "text/plain": [
       "'\\n481\\n00:26:03,062 --> 00:26:05,396\\nBe quiet a seco'"
      ]
     },
     "execution_count": 23,
     "metadata": {},
     "output_type": "execute_result"
    },
    {
     "data": {
      "text/plain": [
       "'nd, will you?482\\n00:26:05,481 --> 00:26:06,773\\nW'"
      ]
     },
     "execution_count": 23,
     "metadata": {},
     "output_type": "execute_result"
    },
    {
     "data": {
      "text/plain": [
       "'hat about it, this...483\\n00:26:06,857 --> 00:26:'"
      ]
     },
     "execution_count": 23,
     "metadata": {},
     "output_type": "execute_result"
    },
    {
     "data": {
      "text/plain": [
       "'10,318\\nthe knife this fine upright boy\\nadmitted bu'"
      ]
     },
     "execution_count": 23,
     "metadata": {},
     "output_type": "execute_result"
    },
    {
     "data": {
      "text/plain": [
       "'ying the night of the killing?484\\n00:26:10,402 -'"
      ]
     },
     "execution_count": 23,
     "metadata": {},
     "output_type": "execute_result"
    },
    {
     "data": {
      "text/plain": [
       "\"-> 00:26:11,736\\nLet's talk about it.485\\n00:26:11\""
      ]
     },
     "execution_count": 23,
     "metadata": {},
     "output_type": "execute_result"
    },
    {
     "data": {
      "text/plain": [
       "\",820 --> 00:26:14,072\\nAll right, let's talk about \""
      ]
     },
     "execution_count": 23,
     "metadata": {},
     "output_type": "execute_result"
    },
    {
     "data": {
      "text/plain": [
       "\"it.\\nLet's get it in here and look at it.486\\n00:2\""
      ]
     },
     "execution_count": 23,
     "metadata": {},
     "output_type": "execute_result"
    },
    {
     "data": {
      "text/plain": [
       "\"6:14,156 --> 00:26:15,907\\nI'd like to see it again\""
      ]
     },
     "execution_count": 23,
     "metadata": {},
     "output_type": "execute_result"
    },
    {
     "data": {
      "text/plain": [
       "'.\\nMr. Foreman?487\\n00:26:15,991 --> 00:26:19,077\\n'"
      ]
     },
     "execution_count": 23,
     "metadata": {},
     "output_type": "execute_result"
    },
    {
     "data": {
      "text/plain": [
       "'- We all saw what it looks like.\\n- Why do we have '"
      ]
     },
     "execution_count": 23,
     "metadata": {},
     "output_type": "execute_result"
    },
    {
     "data": {
      "text/plain": [
       "'to see it again?488\\n00:26:19,161 --> 00:26:21,12'"
      ]
     },
     "execution_count": 23,
     "metadata": {},
     "output_type": "execute_result"
    },
    {
     "data": {
      "text/plain": [
       "'0\\nThe gentleman has a right\\nto see exhibits in evi'"
      ]
     },
     "execution_count": 23,
     "metadata": {},
     "output_type": "execute_result"
    },
    {
     "data": {
      "text/plain": [
       "'dence.489\\n00:26:23,332 --> 00:26:24,791\\nSay, cou'"
      ]
     },
     "execution_count": 23,
     "metadata": {},
     "output_type": "execute_result"
    },
    {
     "data": {
      "text/plain": [
       "'ld you bring us the knife?490\\n00:26:24,875 --> 0'"
      ]
     },
     "execution_count": 23,
     "metadata": {},
     "output_type": "execute_result"
    },
    {
     "data": {
      "text/plain": [
       "'0:26:26,668\\n- Knife?\\n- Yeah. Thank you.491\\n00:26'"
      ]
     },
     "execution_count": 23,
     "metadata": {},
     "output_type": "execute_result"
    },
    {
     "data": {
      "text/plain": [
       "':28,337 --> 00:26:31,589\\nThe knife and the way it '"
      ]
     },
     "execution_count": 23,
     "metadata": {},
     "output_type": "execute_result"
    },
    {
     "data": {
      "text/plain": [
       "\"was bought\\nis pretty strong evidence, don't you th\""
      ]
     },
     "execution_count": 23,
     "metadata": {},
     "output_type": "execute_result"
    },
    {
     "data": {
      "text/plain": [
       "'ink?492\\n00:26:31,674 --> 00:26:33,341\\n- I do.\\n- '"
      ]
     },
     "execution_count": 23,
     "metadata": {},
     "output_type": "execute_result"
    },
    {
     "data": {
      "text/plain": [
       "'Good.493\\n00:26:33,425 --> 00:26:35,927\\nNow, supp'"
      ]
     },
     "execution_count": 23,
     "metadata": {},
     "output_type": "execute_result"
    },
    {
     "data": {
      "text/plain": [
       "'ose we take these facts\\none at a time.494\\n00:26:'"
      ]
     },
     "execution_count": 23,
     "metadata": {},
     "output_type": "execute_result"
    },
    {
     "data": {
      "text/plain": [
       "'36,011 --> 00:26:39,264\\nOne. The boy admitted goin'"
      ]
     },
     "execution_count": 23,
     "metadata": {},
     "output_type": "execute_result"
    },
    {
     "data": {
      "text/plain": [
       "'g out of the house\\nat 8:00 on the night of the mur'"
      ]
     },
     "execution_count": 23,
     "metadata": {},
     "output_type": "execute_result"
    },
    {
     "data": {
      "text/plain": [
       "'der...495\\n00:26:39,348 --> 00:26:41,266\\nafter be'"
      ]
     },
     "execution_count": 23,
     "metadata": {},
     "output_type": "execute_result"
    },
    {
     "data": {
      "text/plain": [
       "'ing slapped several times\\nby his father.496\\n00:2'"
      ]
     },
     "execution_count": 23,
     "metadata": {},
     "output_type": "execute_result"
    },
    {
     "data": {
      "text/plain": [
       "\"6:41,350 --> 00:26:44,102\\nNo, no. No, he didn't sa\""
      ]
     },
     "execution_count": 23,
     "metadata": {},
     "output_type": "execute_result"
    },
    {
     "data": {
      "text/plain": [
       "'y \"slapped.\"\\nHe said \"punched.\"497\\n00:26:44,186 '"
      ]
     },
     "execution_count": 23,
     "metadata": {},
     "output_type": "execute_result"
    },
    {
     "data": {
      "text/plain": [
       "\"--> 00:26:46,604\\nThere's a difference\\nbetween a sl\""
      ]
     },
     "execution_count": 23,
     "metadata": {},
     "output_type": "execute_result"
    },
    {
     "data": {
      "text/plain": [
       "'ap and a punch.498\\n00:26:46,689 --> 00:26:49,274'"
      ]
     },
     "execution_count": 23,
     "metadata": {},
     "output_type": "execute_result"
    },
    {
     "data": {
      "text/plain": [
       "'\\nAfter being hit several times\\nby his father.499'"
      ]
     },
     "execution_count": 23,
     "metadata": {},
     "output_type": "execute_result"
    },
    {
     "data": {
      "text/plain": [
       "'\\n00:26:49,358 --> 00:26:51,609\\nTwo. He went direct'"
      ]
     },
     "execution_count": 23,
     "metadata": {},
     "output_type": "execute_result"
    },
    {
     "data": {
      "text/plain": [
       "'ly\\nto a neighborhood junk shop...500\\n00:26:51,69'"
      ]
     },
     "execution_count": 23,
     "metadata": {},
     "output_type": "execute_result"
    },
    {
     "data": {
      "text/plain": [
       "'4 --> 00:26:53,820\\n- where he bought one of those '"
      ]
     },
     "execution_count": 23,
     "metadata": {},
     "output_type": "execute_result"
    },
    {
     "data": {
      "text/plain": [
       "'-\\n- Switch knives.501\\n00:26:53,904 --> 00:26:55,'"
      ]
     },
     "execution_count": 23,
     "metadata": {},
     "output_type": "execute_result"
    },
    {
     "data": {
      "text/plain": [
       "'905\\nSwitchblade knives.502\\n00:26:55,990 --> 00:2'"
      ]
     },
     "execution_count": 23,
     "metadata": {},
     "output_type": "execute_result"
    },
    {
     "data": {
      "text/plain": [
       "\"6:57,782\\nThis wasn't what you'd call\\nan ordinary k\""
      ]
     },
     "execution_count": 23,
     "metadata": {},
     "output_type": "execute_result"
    },
    {
     "data": {
      "text/plain": [
       "'nife.503\\n00:26:57,866 --> 00:27:00,368\\nIt had a '"
      ]
     },
     "execution_count": 23,
     "metadata": {},
     "output_type": "execute_result"
    },
    {
     "data": {
      "text/plain": [
       "'very unusual carved handle\\nand blade.504\\n00:27:0'"
      ]
     },
     "execution_count": 23,
     "metadata": {},
     "output_type": "execute_result"
    },
    {
     "data": {
      "text/plain": [
       "'0,452 --> 00:27:01,953\\nThe storekeeper who sold it'"
      ]
     },
     "execution_count": 23,
     "metadata": {},
     "output_type": "execute_result"
    },
    {
     "data": {
      "text/plain": [
       "' to him...505\\n00:27:02,037 --> 00:27:05,164\\nsaid'"
      ]
     },
     "execution_count": 23,
     "metadata": {},
     "output_type": "execute_result"
    },
    {
     "data": {
      "text/plain": [
       "' it was the only one of its kind\\nhe had ever had i'"
      ]
     },
     "execution_count": 23,
     "metadata": {},
     "output_type": "execute_result"
    },
    {
     "data": {
      "text/plain": [
       "'n stock.506\\n00:27:05,249 --> 00:27:09,002\\nThree.'"
      ]
     },
     "execution_count": 23,
     "metadata": {},
     "output_type": "execute_result"
    },
    {
     "data": {
      "text/plain": [
       "' He met some friends of his\\nin front of a tavern a'"
      ]
     },
     "execution_count": 23,
     "metadata": {},
     "output_type": "execute_result"
    },
    {
     "data": {
      "text/plain": [
       "'bout 8:45.507\\n00:27:09,086 --> 00:27:10,586\\nAm I'"
      ]
     },
     "execution_count": 23,
     "metadata": {},
     "output_type": "execute_result"
    },
    {
     "data": {
      "text/plain": [
       "' right so far?508\\n00:27:10,671 --> 00:27:12,797\\n'"
      ]
     },
     "execution_count": 23,
     "metadata": {},
     "output_type": "execute_result"
    },
    {
     "data": {
      "text/plain": [
       "'- Yes, you are.\\n- You bet he is.509\\n00:27:12,881'"
      ]
     },
     "execution_count": 23,
     "metadata": {},
     "output_type": "execute_result"
    },
    {
     "data": {
      "text/plain": [
       "' --> 00:27:16,050\\nHe talked with his friends for a'"
      ]
     },
     "execution_count": 23,
     "metadata": {},
     "output_type": "execute_result"
    },
    {
     "data": {
      "text/plain": [
       "'bout\\nan hour, leaving them at 9:45.510\\n00:27:16,'"
      ]
     },
     "execution_count": 23,
     "metadata": {},
     "output_type": "execute_result"
    },
    {
     "data": {
      "text/plain": [
       "'135 --> 00:27:19,095\\nDuring this time,\\nthey saw th'"
      ]
     },
     "execution_count": 23,
     "metadata": {},
     "output_type": "execute_result"
    },
    {
     "data": {
      "text/plain": [
       "'e switch knife.511\\n00:27:19,179 --> 00:27:20,972'"
      ]
     },
     "execution_count": 23,
     "metadata": {},
     "output_type": "execute_result"
    },
    {
     "data": {
      "text/plain": [
       "'\\nFour.512\\n00:27:21,056 --> 00:27:23,474\\nThey ide'"
      ]
     },
     "execution_count": 23,
     "metadata": {},
     "output_type": "execute_result"
    },
    {
     "data": {
      "text/plain": [
       "'ntified the death weapon\\nin court...513\\n00:27:23'"
      ]
     },
     "execution_count": 23,
     "metadata": {},
     "output_type": "execute_result"
    },
    {
     "data": {
      "text/plain": [
       "',559 --> 00:27:26,060\\nas that very same knife.51'"
      ]
     },
     "execution_count": 23,
     "metadata": {},
     "output_type": "execute_result"
    },
    {
     "data": {
      "text/plain": [
       "'4\\n00:27:26,145 --> 00:27:28,938\\nFive. Ηe arrived h'"
      ]
     },
     "execution_count": 23,
     "metadata": {},
     "output_type": "execute_result"
    },
    {
     "data": {
      "text/plain": [
       "'ome at about 10:00.515\\n00:27:29,023 --> 00:27:31'"
      ]
     },
     "execution_count": 23,
     "metadata": {},
     "output_type": "execute_result"
    },
    {
     "data": {
      "text/plain": [
       "',357\\nNow this is where the stories\\noffered by the '"
      ]
     },
     "execution_count": 23,
     "metadata": {},
     "output_type": "execute_result"
    },
    {
     "data": {
      "text/plain": [
       "'State and the boy...516\\n00:27:31,442 --> 00:27:3'"
      ]
     },
     "execution_count": 23,
     "metadata": {},
     "output_type": "execute_result"
    },
    {
     "data": {
      "text/plain": [
       "'3,359\\nbegin to diverge slightly.517\\n00:27:33,444'"
      ]
     },
     "execution_count": 23,
     "metadata": {},
     "output_type": "execute_result"
    },
    {
     "data": {
      "text/plain": [
       "' --> 00:27:36,029\\nHe claims that he went to a movi'"
      ]
     },
     "execution_count": 23,
     "metadata": {},
     "output_type": "execute_result"
    },
    {
     "data": {
      "text/plain": [
       "'e\\nat about 11:30...518\\n00:27:36,113 --> 00:27:40'"
      ]
     },
     "execution_count": 23,
     "metadata": {},
     "output_type": "execute_result"
    },
    {
     "data": {
      "text/plain": [
       "',158\\nreturning home at 3:10 to find his\\nfather dea'"
      ]
     },
     "execution_count": 23,
     "metadata": {},
     "output_type": "execute_result"
    },
    {
     "data": {
      "text/plain": [
       "'d and himself arrested.519\\n00:27:40,242 --> 00:2'"
      ]
     },
     "execution_count": 23,
     "metadata": {},
     "output_type": "execute_result"
    },
    {
     "data": {
      "text/plain": [
       "'7:42,285\\nHe also claims that\\nthe two detectives wh'"
      ]
     },
     "execution_count": 23,
     "metadata": {},
     "output_type": "execute_result"
    },
    {
     "data": {
      "text/plain": [
       "'o arrested him...520\\n00:27:42,369 --> 00:27:44,6'"
      ]
     },
     "execution_count": 23,
     "metadata": {},
     "output_type": "execute_result"
    },
    {
     "data": {
      "text/plain": [
       "'62\\nthrew him down a half a flight of stairs.521\\n'"
      ]
     },
     "execution_count": 23,
     "metadata": {},
     "output_type": "execute_result"
    },
    {
     "data": {
      "text/plain": [
       "'00:27:44,747 --> 00:27:46,581\\nNow, what happened t'"
      ]
     },
     "execution_count": 23,
     "metadata": {},
     "output_type": "execute_result"
    },
    {
     "data": {
      "text/plain": [
       "'o the switch knife?522\\n00:27:46,665 --> 00:27:49'"
      ]
     },
     "execution_count": 23,
     "metadata": {},
     "output_type": "execute_result"
    },
    {
     "data": {
      "text/plain": [
       "',292\\nHe claims that it fell through a hole\\nin his '"
      ]
     },
     "execution_count": 23,
     "metadata": {},
     "output_type": "execute_result"
    },
    {
     "data": {
      "text/plain": [
       "'pocket on the way to the movies...523\\n00:27:49,3'"
      ]
     },
     "execution_count": 23,
     "metadata": {},
     "output_type": "execute_result"
    },
    {
     "data": {
      "text/plain": [
       "'76 --> 00:27:54,047\\nsometime between 11:30 and 3:1'"
      ]
     },
     "execution_count": 23,
     "metadata": {},
     "output_type": "execute_result"
    },
    {
     "data": {
      "text/plain": [
       "'0\\nand that he never saw it again.524\\n00:27:54,13'"
      ]
     },
     "execution_count": 23,
     "metadata": {},
     "output_type": "execute_result"
    },
    {
     "data": {
      "text/plain": [
       "\"1 --> 00:27:56,090\\nNow there's a tale, gentlemen.\\n\""
      ]
     },
     "execution_count": 23,
     "metadata": {},
     "output_type": "execute_result"
    },
    {
     "data": {
      "text/plain": [
       "\"\\n525\\n00:27:56,175 --> 00:27:59,677\\nI think it's qu\""
      ]
     },
     "execution_count": 23,
     "metadata": {},
     "output_type": "execute_result"
    },
    {
     "data": {
      "text/plain": [
       "'ite clear that the boy\\nnever went to the movies th'"
      ]
     },
     "execution_count": 23,
     "metadata": {},
     "output_type": "execute_result"
    },
    {
     "data": {
      "text/plain": [
       "'at night.526\\n00:27:59,762 --> 00:28:01,721\\nNo on'"
      ]
     },
     "execution_count": 23,
     "metadata": {},
     "output_type": "execute_result"
    },
    {
     "data": {
      "text/plain": [
       "'e in the house\\nsaw him go out at 11:30.527\\n00:28'"
      ]
     },
     "execution_count": 23,
     "metadata": {},
     "output_type": "execute_result"
    },
    {
     "data": {
      "text/plain": [
       "':01,805 --> 00:28:03,306\\nNo one at the theater ide'"
      ]
     },
     "execution_count": 23,
     "metadata": {},
     "output_type": "execute_result"
    },
    {
     "data": {
      "text/plain": [
       "'ntified him.528\\n00:28:03,390 --> 00:28:05,516\\nHe'"
      ]
     },
     "execution_count": 23,
     "metadata": {},
     "output_type": "execute_result"
    },
    {
     "data": {
      "text/plain": [
       "\" couldn't even remember\\nthe names of the pictures \""
      ]
     },
     "execution_count": 23,
     "metadata": {},
     "output_type": "execute_result"
    },
    {
     "data": {
      "text/plain": [
       "'he saw.529\\n00:28:08,562 --> 00:28:10,271\\n- What '"
      ]
     },
     "execution_count": 23,
     "metadata": {},
     "output_type": "execute_result"
    },
    {
     "data": {
      "text/plain": [
       "'actually happened is this.\\n- Thank you.530\\n00:28'"
      ]
     },
     "execution_count": 23,
     "metadata": {},
     "output_type": "execute_result"
    },
    {
     "data": {
      "text/plain": [
       "':10,356 --> 00:28:13,566\\nThe boy stayed home,\\nhad '"
      ]
     },
     "execution_count": 23,
     "metadata": {},
     "output_type": "execute_result"
    },
    {
     "data": {
      "text/plain": [
       "'another fight with his father...531\\n00:28:13,650'"
      ]
     },
     "execution_count": 23,
     "metadata": {},
     "output_type": "execute_result"
    },
    {
     "data": {
      "text/plain": [
       "' --> 00:28:17,362\\nstabbed him to death and left th'"
      ]
     },
     "execution_count": 23,
     "metadata": {},
     "output_type": "execute_result"
    },
    {
     "data": {
      "text/plain": [
       "'e\\nhouse at 10 minutes after 12:00.532\\n00:28:17,4'"
      ]
     },
     "execution_count": 23,
     "metadata": {},
     "output_type": "execute_result"
    },
    {
     "data": {
      "text/plain": [
       "'46 --> 00:28:20,198\\nHe even remembered to wipe the'"
      ]
     },
     "execution_count": 23,
     "metadata": {},
     "output_type": "execute_result"
    },
    {
     "data": {
      "text/plain": [
       "' knife\\nclean of fingerprints.533\\n00:28:20,282 --'"
      ]
     },
     "execution_count": 23,
     "metadata": {},
     "output_type": "execute_result"
    },
    {
     "data": {
      "text/plain": [
       "'> 00:28:22,909\\nNow are you trying to tell me\\nthat '"
      ]
     },
     "execution_count": 23,
     "metadata": {},
     "output_type": "execute_result"
    },
    {
     "data": {
      "text/plain": [
       "'this knife...534\\n00:28:22,993 --> 00:28:24,911\\nr'"
      ]
     },
     "execution_count": 23,
     "metadata": {},
     "output_type": "execute_result"
    },
    {
     "data": {
      "text/plain": [
       "\"eally fell through a hole\\nin the boy's pocket...\""
      ]
     },
     "execution_count": 23,
     "metadata": {},
     "output_type": "execute_result"
    },
    {
     "data": {
      "text/plain": [
       "'535\\n00:28:24,995 --> 00:28:27,372\\nsomeone picked i'"
      ]
     },
     "execution_count": 23,
     "metadata": {},
     "output_type": "execute_result"
    },
    {
     "data": {
      "text/plain": [
       "\"t up off the street,\\nwent to the boy's house...5\""
      ]
     },
     "execution_count": 23,
     "metadata": {},
     "output_type": "execute_result"
    },
    {
     "data": {
      "text/plain": [
       "'36\\n00:28:27,456 --> 00:28:30,124\\nand stabbed his f'"
      ]
     },
     "execution_count": 23,
     "metadata": {},
     "output_type": "execute_result"
    },
    {
     "data": {
      "text/plain": [
       "'ather with it\\njust to test its sharpness?537\\n00:'"
      ]
     },
     "execution_count": 23,
     "metadata": {},
     "output_type": "execute_result"
    },
    {
     "data": {
      "text/plain": [
       "\"28:30,209 --> 00:28:32,210\\nNo. I'm just saying it'\""
      ]
     },
     "execution_count": 23,
     "metadata": {},
     "output_type": "execute_result"
    },
    {
     "data": {
      "text/plain": [
       "'s possible\\nthe boy lost his knife...538\\n00:28:32'"
      ]
     },
     "execution_count": 23,
     "metadata": {},
     "output_type": "execute_result"
    },
    {
     "data": {
      "text/plain": [
       "',294 --> 00:28:34,504\\nand that somebody else stabb'"
      ]
     },
     "execution_count": 23,
     "metadata": {},
     "output_type": "execute_result"
    },
    {
     "data": {
      "text/plain": [
       "'ed his father\\nwith a similar knife.539\\n00:28:34,'"
      ]
     },
     "execution_count": 23,
     "metadata": {},
     "output_type": "execute_result"
    },
    {
     "data": {
      "text/plain": [
       "\"588 --> 00:28:35,797\\nIt's just possible.540\\n00:2\""
      ]
     },
     "execution_count": 23,
     "metadata": {},
     "output_type": "execute_result"
    },
    {
     "data": {
      "text/plain": [
       "'8:35,881 --> 00:28:37,465\\nTake a look at this knif'"
      ]
     },
     "execution_count": 23,
     "metadata": {},
     "output_type": "execute_result"
    },
    {
     "data": {
      "text/plain": [
       "\"e.541\\n00:28:39,385 --> 00:28:41,594\\nIt's a very \""
      ]
     },
     "execution_count": 23,
     "metadata": {},
     "output_type": "execute_result"
    },
    {
     "data": {
      "text/plain": [
       "'unusual knife.542\\n00:28:41,678 --> 00:28:43,221\\n'"
      ]
     },
     "execution_count": 23,
     "metadata": {},
     "output_type": "execute_result"
    },
    {
     "data": {
      "text/plain": [
       "\"I've never seen one like it.543\\n00:28:43,305 -->\""
      ]
     },
     "execution_count": 23,
     "metadata": {},
     "output_type": "execute_result"
    },
    {
     "data": {
      "text/plain": [
       "' 00:28:46,099\\nNeither had the storekeeper\\nwho sold'"
      ]
     },
     "execution_count": 23,
     "metadata": {},
     "output_type": "execute_result"
    },
    {
     "data": {
      "text/plain": [
       "' it to the boy.544\\n00:28:46,183 --> 00:28:49,143'"
      ]
     },
     "execution_count": 23,
     "metadata": {},
     "output_type": "execute_result"
    },
    {
     "data": {
      "text/plain": [
       "\"\\nAren't you asking us to accept\\na pretty incredibl\""
      ]
     },
     "execution_count": 23,
     "metadata": {},
     "output_type": "execute_result"
    },
    {
     "data": {
      "text/plain": [
       "'e coincidence?545\\n00:28:49,228 --> 00:28:51,562\\n'"
      ]
     },
     "execution_count": 23,
     "metadata": {},
     "output_type": "execute_result"
    },
    {
     "data": {
      "text/plain": [
       "\"I'm just saying a coincidence is possible.546\\n00\""
      ]
     },
     "execution_count": 23,
     "metadata": {},
     "output_type": "execute_result"
    },
    {
     "data": {
      "text/plain": [
       "\":28:51,647 --> 00:28:53,147\\nAnd I say it's not pos\""
      ]
     },
     "execution_count": 23,
     "metadata": {},
     "output_type": "execute_result"
    },
    {
     "data": {
      "text/plain": [
       "'sible.547\\n00:28:59,780 --> 00:29:01,489\\nWhere di'"
      ]
     },
     "execution_count": 23,
     "metadata": {},
     "output_type": "execute_result"
    },
    {
     "data": {
      "text/plain": [
       "'d that come from?548\\n00:29:01,573 --> 00:29:02,9'"
      ]
     },
     "execution_count": 23,
     "metadata": {},
     "output_type": "execute_result"
    },
    {
     "data": {
      "text/plain": [
       "\"49\\n- Where'd you get that?\\n- It's the same knife.\\n\""
      ]
     },
     "execution_count": 23,
     "metadata": {},
     "output_type": "execute_result"
    },
    {
     "data": {
      "text/plain": [
       "'\\n549\\n00:29:03,033 --> 00:29:04,534\\nWhat do you thi'"
      ]
     },
     "execution_count": 23,
     "metadata": {},
     "output_type": "execute_result"
    },
    {
     "data": {
      "text/plain": [
       "\"nk you're doing?550\\n00:29:04,618 --> 00:29:06,24\""
      ]
     },
     "execution_count": 23,
     "metadata": {},
     "output_type": "execute_result"
    },
    {
     "data": {
      "text/plain": [
       "'4\\nWhere did you get it?551\\n00:29:06,328 --> 00:2'"
      ]
     },
     "execution_count": 23,
     "metadata": {},
     "output_type": "execute_result"
    },
    {
     "data": {
      "text/plain": [
       "'9:08,579\\nI went out walking\\nfor a couple of hours '"
      ]
     },
     "execution_count": 23,
     "metadata": {},
     "output_type": "execute_result"
    },
    {
     "data": {
      "text/plain": [
       "'last night.552\\n00:29:08,664 --> 00:29:10,665\\nI w'"
      ]
     },
     "execution_count": 23,
     "metadata": {},
     "output_type": "execute_result"
    },
    {
     "data": {
      "text/plain": [
       "\"alked through the boy's neighborhood.553\\n00:29:1\""
      ]
     },
     "execution_count": 23,
     "metadata": {},
     "output_type": "execute_result"
    },
    {
     "data": {
      "text/plain": [
       "'0,749 --> 00:29:13,751\\nI bought that at a little p'"
      ]
     },
     "execution_count": 23,
     "metadata": {},
     "output_type": "execute_result"
    },
    {
     "data": {
      "text/plain": [
       "\"awnshop\\njust two blocks from the boy's house.554\""
      ]
     },
     "execution_count": 23,
     "metadata": {},
     "output_type": "execute_result"
    },
    {
     "data": {
      "text/plain": [
       "'\\n00:29:13,836 --> 00:29:15,294\\nIt cost six dollars'"
      ]
     },
     "execution_count": 23,
     "metadata": {},
     "output_type": "execute_result"
    },
    {
     "data": {
      "text/plain": [
       "\".555\\n00:29:15,379 --> 00:29:18,506\\nIt's against \""
      ]
     },
     "execution_count": 23,
     "metadata": {},
     "output_type": "execute_result"
    },
    {
     "data": {
      "text/plain": [
       "'the law\\nto buy or sell switchblade knives.556\\n00'"
      ]
     },
     "execution_count": 23,
     "metadata": {},
     "output_type": "execute_result"
    },
    {
     "data": {
      "text/plain": [
       "\":29:18,590 --> 00:29:20,842\\nThat's right. I broke \""
      ]
     },
     "execution_count": 23,
     "metadata": {},
     "output_type": "execute_result"
    },
    {
     "data": {
      "text/plain": [
       "'the law.557\\n00:29:20,926 --> 00:29:24,929\\nListen'"
      ]
     },
     "execution_count": 23,
     "metadata": {},
     "output_type": "execute_result"
    },
    {
     "data": {
      "text/plain": [
       "', you pulled a real bright trick.\\nNow, supposing y'"
      ]
     },
     "execution_count": 23,
     "metadata": {},
     "output_type": "execute_result"
    },
    {
     "data": {
      "text/plain": [
       "'ou tell me what it proves.558\\n00:29:25,013 --> 0'"
      ]
     },
     "execution_count": 23,
     "metadata": {},
     "output_type": "execute_result"
    },
    {
     "data": {
      "text/plain": [
       "'0:29:27,098\\nMaybe there are 10 knives like that.\\nS'"
      ]
     },
     "execution_count": 23,
     "metadata": {},
     "output_type": "execute_result"
    },
    {
     "data": {
      "text/plain": [
       "'o what?559\\n00:29:27,182 --> 00:29:29,976\\n- Maybe'"
      ]
     },
     "execution_count": 23,
     "metadata": {},
     "output_type": "execute_result"
    },
    {
     "data": {
      "text/plain": [
       "' there are.\\n- Well, what does it mean?560\\n00:29:'"
      ]
     },
     "execution_count": 23,
     "metadata": {},
     "output_type": "execute_result"
    },
    {
     "data": {
      "text/plain": [
       "'30,060 --> 00:29:33,354\\nYou found another knife li'"
      ]
     },
     "execution_count": 23,
     "metadata": {},
     "output_type": "execute_result"
    },
    {
     "data": {
      "text/plain": [
       "\"ke it.\\nWhat's that, the discovery of the age or so\""
      ]
     },
     "execution_count": 23,
     "metadata": {},
     "output_type": "execute_result"
    },
    {
     "data": {
      "text/plain": [
       "'mething?561\\n00:29:33,439 --> 00:29:35,773\\nYou me'"
      ]
     },
     "execution_count": 23,
     "metadata": {},
     "output_type": "execute_result"
    },
    {
     "data": {
      "text/plain": [
       "\"an you're asking us to believe\\nthat somebody else \""
      ]
     },
     "execution_count": 23,
     "metadata": {},
     "output_type": "execute_result"
    },
    {
     "data": {
      "text/plain": [
       "'did the stabbing...562\\n00:29:35,858 --> 00:29:37'"
      ]
     },
     "execution_count": 23,
     "metadata": {},
     "output_type": "execute_result"
    },
    {
     "data": {
      "text/plain": [
       "',650\\nwith exactly the same kind of knife?563\\n00:'"
      ]
     },
     "execution_count": 23,
     "metadata": {},
     "output_type": "execute_result"
    },
    {
     "data": {
      "text/plain": [
       "'29:37,734 --> 00:29:38,985\\nThe odds are a million-'"
      ]
     },
     "execution_count": 23,
     "metadata": {},
     "output_type": "execute_result"
    },
    {
     "data": {
      "text/plain": [
       "\"to-one.564\\n00:29:39,069 --> 00:29:41,779\\n- It's \""
      ]
     },
     "execution_count": 23,
     "metadata": {},
     "output_type": "execute_result"
    },
    {
     "data": {
      "text/plain": [
       "'possible.\\n- But not very probable.565\\n00:29:42,9'"
      ]
     },
     "execution_count": 23,
     "metadata": {},
     "output_type": "execute_result"
    },
    {
     "data": {
      "text/plain": [
       "\"90 --> 00:29:44,991\\nOkay, fellas, let's take our s\""
      ]
     },
     "execution_count": 23,
     "metadata": {},
     "output_type": "execute_result"
    },
    {
     "data": {
      "text/plain": [
       "\"eats.566\\n00:29:45,075 --> 00:29:46,701\\nThere's n\""
      ]
     },
     "execution_count": 23,
     "metadata": {},
     "output_type": "execute_result"
    },
    {
     "data": {
      "text/plain": [
       "'o point in standing around\\nall over the place.56'"
      ]
     },
     "execution_count": 23,
     "metadata": {},
     "output_type": "execute_result"
    },
    {
     "data": {
      "text/plain": [
       "\"7\\n00:29:48,745 --> 00:29:52,165\\nYou know, it's int\""
      ]
     },
     "execution_count": 23,
     "metadata": {},
     "output_type": "execute_result"
    },
    {
     "data": {
      "text/plain": [
       "\"eresting that he'd find a\\nknife exactly like the o\""
      ]
     },
     "execution_count": 23,
     "metadata": {},
     "output_type": "execute_result"
    },
    {
     "data": {
      "text/plain": [
       "'ne the boy bought.568\\n00:29:52,249 --> 00:29:55,'"
      ]
     },
     "execution_count": 23,
     "metadata": {},
     "output_type": "execute_result"
    },
    {
     "data": {
      "text/plain": [
       "'001\\nWhat\\'s interesting about it?\\n\"Interesting.\"5'"
      ]
     },
     "execution_count": 23,
     "metadata": {},
     "output_type": "execute_result"
    },
    {
     "data": {
      "text/plain": [
       "\"69\\n00:29:55,085 --> 00:29:56,961\\nWell, I don't kno\""
      ]
     },
     "execution_count": 23,
     "metadata": {},
     "output_type": "execute_result"
    },
    {
     "data": {
      "text/plain": [
       "'w.\\nI just thought it was interesting.570\\n00:29:5'"
      ]
     },
     "execution_count": 23,
     "metadata": {},
     "output_type": "execute_result"
    },
    {
     "data": {
      "text/plain": [
       "'7,045 --> 00:29:58,838\\nThere are still 11 of us he'"
      ]
     },
     "execution_count": 23,
     "metadata": {},
     "output_type": "execute_result"
    },
    {
     "data": {
      "text/plain": [
       "\"re\\nwho think he's guilty.571\\n00:29:58,922 --> 00\""
      ]
     },
     "execution_count": 23,
     "metadata": {},
     "output_type": "execute_result"
    },
    {
     "data": {
      "text/plain": [
       "\":30:01,215\\n- Right.\\n- What do you think you're gon\""
      ]
     },
     "execution_count": 23,
     "metadata": {},
     "output_type": "execute_result"
    },
    {
     "data": {
      "text/plain": [
       "'na accomplish?572\\n00:30:01,300 --> 00:30:03,134\\n'"
      ]
     },
     "execution_count": 23,
     "metadata": {},
     "output_type": "execute_result"
    },
    {
     "data": {
      "text/plain": [
       "\"You're not gonna change anybody's mind.573\\n00:30\""
      ]
     },
     "execution_count": 23,
     "metadata": {},
     "output_type": "execute_result"
    },
    {
     "data": {
      "text/plain": [
       "':03,218 --> 00:30:05,595\\nSo if you wanna be stubbo'"
      ]
     },
     "execution_count": 23,
     "metadata": {},
     "output_type": "execute_result"
    },
    {
     "data": {
      "text/plain": [
       "'rn\\nand hang this jury, go ahead.574\\n00:30:05,679'"
      ]
     },
     "execution_count": 23,
     "metadata": {},
     "output_type": "execute_result"
    },
    {
     "data": {
      "text/plain": [
       "' --> 00:30:08,723\\nThe kid will be tried again\\nand '"
      ]
     },
     "execution_count": 23,
     "metadata": {},
     "output_type": "execute_result"
    },
    {
     "data": {
      "text/plain": [
       "\"found guilty sure as he's born.575\\n00:30:10,267 \""
      ]
     },
     "execution_count": 23,
     "metadata": {},
     "output_type": "execute_result"
    },
    {
     "data": {
      "text/plain": [
       "\"--> 00:30:12,143\\nThat's probably right.576\\n00:30\""
      ]
     },
     "execution_count": 23,
     "metadata": {},
     "output_type": "execute_result"
    },
    {
     "data": {
      "text/plain": [
       "':12,227 --> 00:30:15,438\\nSo what are you gonna do?'"
      ]
     },
     "execution_count": 23,
     "metadata": {},
     "output_type": "execute_result"
    },
    {
     "data": {
      "text/plain": [
       "'\\nYou know, we could be here all night.577\\n00:30:'"
      ]
     },
     "execution_count": 23,
     "metadata": {},
     "output_type": "execute_result"
    },
    {
     "data": {
      "text/plain": [
       "\"15,522 --> 00:30:18,774\\nIt's only one night. A boy\""
      ]
     },
     "execution_count": 23,
     "metadata": {},
     "output_type": "execute_result"
    },
    {
     "data": {
      "text/plain": [
       "' may die.578\\n00:30:18,859 --> 00:30:21,402\\nWell,'"
      ]
     },
     "execution_count": 23,
     "metadata": {},
     "output_type": "execute_result"
    },
    {
     "data": {
      "text/plain": [
       "\" why don't we just\\nset up house here, huh?579\\n00\""
      ]
     },
     "execution_count": 23,
     "metadata": {},
     "output_type": "execute_result"
    },
    {
     "data": {
      "text/plain": [
       "':30:21,487 --> 00:30:23,946\\nSomeone send for Potsy'"
      ]
     },
     "execution_count": 23,
     "metadata": {},
     "output_type": "execute_result"
    },
    {
     "data": {
      "text/plain": [
       "' the policeman\\nand get a pinochle deck...580\\n00:'"
      ]
     },
     "execution_count": 23,
     "metadata": {},
     "output_type": "execute_result"
    },
    {
     "data": {
      "text/plain": [
       "\"30:24,031 --> 00:30:26,532\\nand, uh, we'll just\\nswe\""
      ]
     },
     "execution_count": 23,
     "metadata": {},
     "output_type": "execute_result"
    },
    {
     "data": {
      "text/plain": [
       "'at the whole thing out right here.581\\n00:30:28,0'"
      ]
     },
     "execution_count": 23,
     "metadata": {},
     "output_type": "execute_result"
    },
    {
     "data": {
      "text/plain": [
       "\"35 --> 00:30:31,078\\n- I don't think he ought to jo\""
      ]
     },
     "execution_count": 23,
     "metadata": {},
     "output_type": "execute_result"
    },
    {
     "data": {
      "text/plain": [
       "'ke about it.\\n- What do you want me to do about it?'"
      ]
     },
     "execution_count": 23,
     "metadata": {},
     "output_type": "execute_result"
    },
    {
     "data": {
      "text/plain": [
       "'582\\n00:30:31,163 --> 00:30:34,832\\nOh, listen! I '"
      ]
     },
     "execution_count": 23,
     "metadata": {},
     "output_type": "execute_result"
    },
    {
     "data": {
      "text/plain": [
       "\"don't see what all this stuff\\nabout the knife's go\""
      ]
     },
     "execution_count": 23,
     "metadata": {},
     "output_type": "execute_result"
    },
    {
     "data": {
      "text/plain": [
       "'t to do with anything.583\\n00:30:34,917 --> 00:30'"
      ]
     },
     "execution_count": 23,
     "metadata": {},
     "output_type": "execute_result"
    },
    {
     "data": {
      "text/plain": [
       "':37,835\\nSomebody saw the kid stab his father.\\nWhat'"
      ]
     },
     "execution_count": 23,
     "metadata": {},
     "output_type": "execute_result"
    },
    {
     "data": {
      "text/plain": [
       "' more do we need?584\\n00:30:37,920 --> 00:30:40,7'"
      ]
     },
     "execution_count": 23,
     "metadata": {},
     "output_type": "execute_result"
    },
    {
     "data": {
      "text/plain": [
       "'13\\nYou guys can talk the ears right off my head.\\nY'"
      ]
     },
     "execution_count": 23,
     "metadata": {},
     "output_type": "execute_result"
    },
    {
     "data": {
      "text/plain": [
       "'ou know what I mean?585\\n00:30:40,797 --> 00:30:4'"
      ]
     },
     "execution_count": 23,
     "metadata": {},
     "output_type": "execute_result"
    },
    {
     "data": {
      "text/plain": [
       "\"3,508\\nI got three garages of mine goin' to pot\\nwhi\""
      ]
     },
     "execution_count": 23,
     "metadata": {},
     "output_type": "execute_result"
    },
    {
     "data": {
      "text/plain": [
       "\"le you're talking.586\\n00:30:43,592 --> 00:30:45,\""
      ]
     },
     "execution_count": 23,
     "metadata": {},
     "output_type": "execute_result"
    },
    {
     "data": {
      "text/plain": [
       "\"259\\nSo let's get done and get outta here.587\\n00:\""
      ]
     },
     "execution_count": 23,
     "metadata": {},
     "output_type": "execute_result"
    },
    {
     "data": {
      "text/plain": [
       "'30:45,344 --> 00:30:48,763\\nThe knife was very impo'"
      ]
     },
     "execution_count": 23,
     "metadata": {},
     "output_type": "execute_result"
    },
    {
     "data": {
      "text/plain": [
       "'rtant to the\\ndistrict attorney. He spent a whole d'"
      ]
     },
     "execution_count": 23,
     "metadata": {},
     "output_type": "execute_result"
    },
    {
     "data": {
      "text/plain": [
       "\"ay...588\\n00:30:48,847 --> 00:30:51,307\\nHe's a 15\""
      ]
     },
     "execution_count": 23,
     "metadata": {},
     "output_type": "execute_result"
    },
    {
     "data": {
      "text/plain": [
       "'th assistant or something.\\nWhat does he know about'"
      ]
     },
     "execution_count": 23,
     "metadata": {},
     "output_type": "execute_result"
    },
    {
     "data": {
      "text/plain": [
       "\" it?589\\n00:30:51,391 --> 00:30:52,850\\nHey, let's\""
      ]
     },
     "execution_count": 23,
     "metadata": {},
     "output_type": "execute_result"
    },
    {
     "data": {
      "text/plain": [
       "' hold it down.590\\n00:30:52,935 --> 00:30:55,269\\n'"
      ]
     },
     "execution_count": 23,
     "metadata": {},
     "output_type": "execute_result"
    },
    {
     "data": {
      "text/plain": [
       "'These side arguments\\nare only slowing us up.591\\n'"
      ]
     },
     "execution_count": 23,
     "metadata": {},
     "output_type": "execute_result"
    },
    {
     "data": {
      "text/plain": [
       "'00:30:58,148 --> 00:30:59,524\\nWell, what about it?'"
      ]
     },
     "execution_count": 23,
     "metadata": {},
     "output_type": "execute_result"
    },
    {
     "data": {
      "text/plain": [
       "\"592\\n00:30:59,608 --> 00:31:01,108\\nYou're the onl\""
      ]
     },
     "execution_count": 23,
     "metadata": {},
     "output_type": "execute_result"
    },
    {
     "data": {
      "text/plain": [
       "'y one.593\\n00:31:09,034 --> 00:31:11,077\\nI have a'"
      ]
     },
     "execution_count": 23,
     "metadata": {},
     "output_type": "execute_result"
    },
    {
     "data": {
      "text/plain": [
       "' proposition\\nto make to all of you.594\\n00:31:12,'"
      ]
     },
     "execution_count": 23,
     "metadata": {},
     "output_type": "execute_result"
    },
    {
     "data": {
      "text/plain": [
       "\"162 --> 00:31:13,913\\nI'm gonna call for another vo\""
      ]
     },
     "execution_count": 23,
     "metadata": {},
     "output_type": "execute_result"
    },
    {
     "data": {
      "text/plain": [
       "'te.595\\n00:31:15,374 --> 00:31:20,586\\nI want you '"
      ]
     },
     "execution_count": 23,
     "metadata": {},
     "output_type": "execute_result"
    },
    {
     "data": {
      "text/plain": [
       "'11 men to vote\\nby secret written ballot.596\\n00:3'"
      ]
     },
     "execution_count": 23,
     "metadata": {},
     "output_type": "execute_result"
    },
    {
     "data": {
      "text/plain": [
       "\"1:20,671 --> 00:31:22,713\\nI'll abstain.597\\n00:31\""
      ]
     },
     "execution_count": 23,
     "metadata": {},
     "output_type": "execute_result"
    },
    {
     "data": {
      "text/plain": [
       "':22,798 --> 00:31:25,591\\nIf there are 11 votes for'"
      ]
     },
     "execution_count": 23,
     "metadata": {},
     "output_type": "execute_result"
    },
    {
     "data": {
      "text/plain": [
       "\" guilty,\\nI won't stand alone.598\\n00:31:25,676 --\""
      ]
     },
     "execution_count": 23,
     "metadata": {},
     "output_type": "execute_result"
    },
    {
     "data": {
      "text/plain": [
       "\"> 00:31:29,470\\nWe'll take in a guilty verdict\\nto t\""
      ]
     },
     "execution_count": 23,
     "metadata": {},
     "output_type": "execute_result"
    },
    {
     "data": {
      "text/plain": [
       "'he judge right now.599\\n00:31:30,931 --> 00:31:34'"
      ]
     },
     "execution_count": 23,
     "metadata": {},
     "output_type": "execute_result"
    },
    {
     "data": {
      "text/plain": [
       "',642\\nBut if anyone votes not guilty,\\nwe stay here '"
      ]
     },
     "execution_count": 23,
     "metadata": {},
     "output_type": "execute_result"
    },
    {
     "data": {
      "text/plain": [
       "'and talk it out.600\\n00:31:37,980 --> 00:31:40,89'"
      ]
     },
     "execution_count": 23,
     "metadata": {},
     "output_type": "execute_result"
    },
    {
     "data": {
      "text/plain": [
       "\"8\\nWell, that's it.\\nIf you want to try it, I'm read\""
      ]
     },
     "execution_count": 23,
     "metadata": {},
     "output_type": "execute_result"
    },
    {
     "data": {
      "text/plain": [
       "'y.601\\n00:31:40,983 --> 00:31:42,441\\nAll right. L'"
      ]
     },
     "execution_count": 23,
     "metadata": {},
     "output_type": "execute_result"
    },
    {
     "data": {
      "text/plain": [
       "\"et's do it the hard way.602\\n00:31:42,526 --> 00:\""
      ]
     },
     "execution_count": 23,
     "metadata": {},
     "output_type": "execute_result"
    },
    {
     "data": {
      "text/plain": [
       "'31:44,443\\nOkay, that sounds fair.\\nEveryone agreed?'"
      ]
     },
     "execution_count": 23,
     "metadata": {},
     "output_type": "execute_result"
    },
    {
     "data": {
      "text/plain": [
       "'603\\n00:31:44,528 --> 00:31:46,612\\n- Anyone doesn'"
      ]
     },
     "execution_count": 23,
     "metadata": {},
     "output_type": "execute_result"
    },
    {
     "data": {
      "text/plain": [
       "\"'t agree?\\n- Fine, fine. Let's go.604\\n00:31:46,69\""
      ]
     },
     "execution_count": 23,
     "metadata": {},
     "output_type": "execute_result"
    },
    {
     "data": {
      "text/plain": [
       "'7 --> 00:31:47,738\\nHere, pass these along.605\\n00'"
      ]
     },
     "execution_count": 23,
     "metadata": {},
     "output_type": "execute_result"
    },
    {
     "data": {
      "text/plain": [
       "':31:47,823 --> 00:31:49,574\\nIs that the right time'"
      ]
     },
     "execution_count": 23,
     "metadata": {},
     "output_type": "execute_result"
    },
    {
     "data": {
      "text/plain": [
       "'?606\\n00:32:21,648 --> 00:32:47,465\\n\"Guilty.\"60'"
      ]
     },
     "execution_count": 23,
     "metadata": {},
     "output_type": "execute_result"
    },
    {
     "data": {
      "text/plain": [
       "'7\\n00:32:51,553 --> 00:32:54,180\\n\"Not guilty.\"608'"
      ]
     },
     "execution_count": 23,
     "metadata": {},
     "output_type": "execute_result"
    },
    {
     "data": {
      "text/plain": [
       "'\\n00:32:54,264 --> 00:32:55,681\\n\"Guilty.\"609\\n00:3'"
      ]
     },
     "execution_count": 23,
     "metadata": {},
     "output_type": "execute_result"
    },
    {
     "data": {
      "text/plain": [
       "'2:55,766 --> 00:32:57,433\\nBoy, how do you like tha'"
      ]
     },
     "execution_count": 23,
     "metadata": {},
     "output_type": "execute_result"
    },
    {
     "data": {
      "text/plain": [
       "'t?610\\n00:32:57,517 --> 00:32:59,977\\nOh, and anot'"
      ]
     },
     "execution_count": 23,
     "metadata": {},
     "output_type": "execute_result"
    },
    {
     "data": {
      "text/plain": [
       "'her chap flaps his wings.611\\n00:33:00,062 --> 00'"
      ]
     },
     "execution_count": 23,
     "metadata": {},
     "output_type": "execute_result"
    },
    {
     "data": {
      "text/plain": [
       "':33:02,813\\nAll right, who was it?\\nCome on. I want '"
      ]
     },
     "execution_count": 23,
     "metadata": {},
     "output_type": "execute_result"
    },
    {
     "data": {
      "text/plain": [
       "'to know.612\\n00:33:02,898 --> 00:33:05,149\\nExcuse'"
      ]
     },
     "execution_count": 23,
     "metadata": {},
     "output_type": "execute_result"
    },
    {
     "data": {
      "text/plain": [
       "' me. This was a secret ballot.613\\n00:33:05,233 -'"
      ]
     },
     "execution_count": 23,
     "metadata": {},
     "output_type": "execute_result"
    },
    {
     "data": {
      "text/plain": [
       "'-> 00:33:06,776\\nWe all agreed on that, no?614\\n00'"
      ]
     },
     "execution_count": 23,
     "metadata": {},
     "output_type": "execute_result"
    },
    {
     "data": {
      "text/plain": [
       "':33:06,860 --> 00:33:08,986\\nIf the gentleman wante'"
      ]
     },
     "execution_count": 23,
     "metadata": {},
     "output_type": "execute_result"
    },
    {
     "data": {
      "text/plain": [
       "'d\\nto remain secret...615\\n00:33:09,071 --> 00:33:'"
      ]
     },
     "execution_count": 23,
     "metadata": {},
     "output_type": "execute_result"
    },
    {
     "data": {
      "text/plain": [
       "'10,946\\nSecret? What do you mean secret?616\\n00:33'"
      ]
     },
     "execution_count": 23,
     "metadata": {},
     "output_type": "execute_result"
    },
    {
     "data": {
      "text/plain": [
       "':11,031 --> 00:33:14,241\\nThere are no secrets in a'"
      ]
     },
     "execution_count": 23,
     "metadata": {},
     "output_type": "execute_result"
    },
    {
     "data": {
      "text/plain": [
       "' jury room.\\nI know who it was.617\\n00:33:14,993 -'"
      ]
     },
     "execution_count": 23,
     "metadata": {},
     "output_type": "execute_result"
    },
    {
     "data": {
      "text/plain": [
       "'-> 00:33:16,911\\nBrother, you really are something.'"
      ]
     },
     "execution_count": 23,
     "metadata": {},
     "output_type": "execute_result"
    },
    {
     "data": {
      "text/plain": [
       "'618\\n00:33:16,995 --> 00:33:18,996\\nYou sit here, '"
      ]
     },
     "execution_count": 23,
     "metadata": {},
     "output_type": "execute_result"
    },
    {
     "data": {
      "text/plain": [
       "'vote guilty\\nlike the rest of us...619\\n00:33:19,0'"
      ]
     },
     "execution_count": 23,
     "metadata": {},
     "output_type": "execute_result"
    },
    {
     "data": {
      "text/plain": [
       "'81 --> 00:33:22,375\\nand then some golden-voiced pr'"
      ]
     },
     "execution_count": 23,
     "metadata": {},
     "output_type": "execute_result"
    },
    {
     "data": {
      "text/plain": [
       "\"eacher\\nstarts tearin' your poor heart out...620\\n\""
      ]
     },
     "execution_count": 23,
     "metadata": {},
     "output_type": "execute_result"
    },
    {
     "data": {
      "text/plain": [
       "'00:33:22,459 --> 00:33:25,753\\nabout some underpriv'"
      ]
     },
     "execution_count": 23,
     "metadata": {},
     "output_type": "execute_result"
    },
    {
     "data": {
      "text/plain": [
       "\"ileged kid\\njust couldn't help becomin' a murderer.\""
      ]
     },
     "execution_count": 23,
     "metadata": {},
     "output_type": "execute_result"
    },
    {
     "data": {
      "text/plain": [
       "'..621\\n00:33:25,837 --> 00:33:27,338\\nand you chan'"
      ]
     },
     "execution_count": 23,
     "metadata": {},
     "output_type": "execute_result"
    },
    {
     "data": {
      "text/plain": [
       "'ge your vote.622\\n00:33:27,422 --> 00:33:29,548\\nI'"
      ]
     },
     "execution_count": 23,
     "metadata": {},
     "output_type": "execute_result"
    },
    {
     "data": {
      "text/plain": [
       "\"f that isn't the most sick...623\\n00:33:29,633 --\""
      ]
     },
     "execution_count": 23,
     "metadata": {},
     "output_type": "execute_result"
    },
    {
     "data": {
      "text/plain": [
       "\"> 00:33:33,302\\nWhy don't you drop a quarter\\nin his\""
      ]
     },
     "execution_count": 23,
     "metadata": {},
     "output_type": "execute_result"
    },
    {
     "data": {
      "text/plain": [
       "' collection box?624\\n00:33:33,387 --> 00:33:35,34'"
      ]
     },
     "execution_count": 23,
     "metadata": {},
     "output_type": "execute_result"
    },
    {
     "data": {
      "text/plain": [
       "'6\\nOh, now just wait a minute.625\\n00:33:35,430 --'"
      ]
     },
     "execution_count": 23,
     "metadata": {},
     "output_type": "execute_result"
    },
    {
     "data": {
      "text/plain": [
       "\"> 00:33:37,014\\nListen, you can't talk to me like t\""
      ]
     },
     "execution_count": 23,
     "metadata": {},
     "output_type": "execute_result"
    },
    {
     "data": {
      "text/plain": [
       "'hat.626\\n00:33:37,099 --> 00:33:38,933\\n- No. Who '"
      ]
     },
     "execution_count": 23,
     "metadata": {},
     "output_type": "execute_result"
    },
    {
     "data": {
      "text/plain": [
       "'do you think you are?\\n- Calm down. Calm down.627'"
      ]
     },
     "execution_count": 23,
     "metadata": {},
     "output_type": "execute_result"
    },
    {
     "data": {
      "text/plain": [
       "'\\n00:33:39,017 --> 00:33:41,352\\nNo. Who does he thi'"
      ]
     },
     "execution_count": 23,
     "metadata": {},
     "output_type": "execute_result"
    },
    {
     "data": {
      "text/plain": [
       "'nk he is?\\nDid you hear him?628\\n00:33:41,436 --> '"
      ]
     },
     "execution_count": 23,
     "metadata": {},
     "output_type": "execute_result"
    },
    {
     "data": {
      "text/plain": [
       "\"00:33:44,897\\n- It doesn't matter. He's very excita\""
      ]
     },
     "execution_count": 23,
     "metadata": {},
     "output_type": "execute_result"
    },
    {
     "data": {
      "text/plain": [
       "\"ble. Sit down.\\n- Excitable? You bet I'm excitable!\""
      ]
     },
     "execution_count": 23,
     "metadata": {},
     "output_type": "execute_result"
    },
    {
     "data": {
      "text/plain": [
       "\"629\\n00:33:44,981 --> 00:33:47,817\\nWe're trying t\""
      ]
     },
     "execution_count": 23,
     "metadata": {},
     "output_type": "execute_result"
    },
    {
     "data": {
      "text/plain": [
       "'o put a guilty man\\nin the chair where he belongs!\\n'"
      ]
     },
     "execution_count": 23,
     "metadata": {},
     "output_type": "execute_result"
    },
    {
     "data": {
      "text/plain": [
       "'\\n630\\n00:33:47,901 --> 00:33:50,569\\nSomeone starts '"
      ]
     },
     "execution_count": 23,
     "metadata": {},
     "output_type": "execute_result"
    },
    {
     "data": {
      "text/plain": [
       "\"telling us fairy tales,\\nand we're listenin'!631\\n\""
      ]
     },
     "execution_count": 23,
     "metadata": {},
     "output_type": "execute_result"
    },
    {
     "data": {
      "text/plain": [
       "'00:33:50,654 --> 00:33:52,405\\nHey, uh, come on, hu'"
      ]
     },
     "execution_count": 23,
     "metadata": {},
     "output_type": "execute_result"
    },
    {
     "data": {
      "text/plain": [
       "'h?632\\n00:33:52,489 --> 00:33:54,407\\nWhat made yo'"
      ]
     },
     "execution_count": 23,
     "metadata": {},
     "output_type": "execute_result"
    },
    {
     "data": {
      "text/plain": [
       "'u change your vote?633\\n00:33:54,491 --> 00:33:56'"
      ]
     },
     "execution_count": 23,
     "metadata": {},
     "output_type": "execute_result"
    },
    {
     "data": {
      "text/plain": [
       "\",117\\nHe didn't change his vote.634\\n00:33:56,201 \""
      ]
     },
     "execution_count": 23,
     "metadata": {},
     "output_type": "execute_result"
    },
    {
     "data": {
      "text/plain": [
       "'--> 00:33:57,368\\nI did.635\\n00:33:57,452 --> 00:3'"
      ]
     },
     "execution_count": 23,
     "metadata": {},
     "output_type": "execute_result"
    },
    {
     "data": {
      "text/plain": [
       "'3:59,412\\n- Oh, fine.\\n- I knew it.636\\n00:33:59,49'"
      ]
     },
     "execution_count": 23,
     "metadata": {},
     "output_type": "execute_result"
    },
    {
     "data": {
      "text/plain": [
       "'6 --> 00:34:01,455\\nWould you like me to tell you w'"
      ]
     },
     "execution_count": 23,
     "metadata": {},
     "output_type": "execute_result"
    },
    {
     "data": {
      "text/plain": [
       "'hy?637\\n00:34:01,540 --> 00:34:03,416\\nNo, I would'"
      ]
     },
     "execution_count": 23,
     "metadata": {},
     "output_type": "execute_result"
    },
    {
     "data": {
      "text/plain": [
       "\"n't like you to tell me why.638\\n00:34:03,500 -->\""
      ]
     },
     "execution_count": 23,
     "metadata": {},
     "output_type": "execute_result"
    },
    {
     "data": {
      "text/plain": [
       "\" 00:34:06,043\\nI'd like to make it clear anyway,\\nif\""
      ]
     },
     "execution_count": 23,
     "metadata": {},
     "output_type": "execute_result"
    },
    {
     "data": {
      "text/plain": [
       "\" you don't mind.639\\n00:34:06,128 --> 00:34:07,62\""
      ]
     },
     "execution_count": 23,
     "metadata": {},
     "output_type": "execute_result"
    },
    {
     "data": {
      "text/plain": [
       "'8\\nDo we have to listen to this?640\\n00:34:07,713 '"
      ]
     },
     "execution_count": 23,
     "metadata": {},
     "output_type": "execute_result"
    },
    {
     "data": {
      "text/plain": [
       "'--> 00:34:09,463\\nThe man wants to talk.641\\n00:34'"
      ]
     },
     "execution_count": 23,
     "metadata": {},
     "output_type": "execute_result"
    },
    {
     "data": {
      "text/plain": [
       "':09,548 --> 00:34:11,132\\nThank you.642\\n00:34:11,'"
      ]
     },
     "execution_count": 23,
     "metadata": {},
     "output_type": "execute_result"
    },
    {
     "data": {
      "text/plain": [
       "'216 --> 00:34:14,552\\nThis gentleman has been\\nstand'"
      ]
     },
     "execution_count": 23,
     "metadata": {},
     "output_type": "execute_result"
    },
    {
     "data": {
      "text/plain": [
       "'ing alone against us.643\\n00:34:14,636 --> 00:34:'"
      ]
     },
     "execution_count": 23,
     "metadata": {},
     "output_type": "execute_result"
    },
    {
     "data": {
      "text/plain": [
       "\"16,887\\nNow, he doesn't say\\nthe boy is not guilty.\\n\""
      ]
     },
     "execution_count": 23,
     "metadata": {},
     "output_type": "execute_result"
    },
    {
     "data": {
      "text/plain": [
       "\"\\n644\\n00:34:16,972 --> 00:34:18,931\\nHe just isn't s\""
      ]
     },
     "execution_count": 23,
     "metadata": {},
     "output_type": "execute_result"
    },
    {
     "data": {
      "text/plain": [
       "\"ure.645\\n00:34:19,015 --> 00:34:21,851\\nWell, it's\""
      ]
     },
     "execution_count": 23,
     "metadata": {},
     "output_type": "execute_result"
    },
    {
     "data": {
      "text/plain": [
       "' not easy to stand alone\\nagainst the ridicule of o'"
      ]
     },
     "execution_count": 23,
     "metadata": {},
     "output_type": "execute_result"
    },
    {
     "data": {
      "text/plain": [
       "'thers.646\\n00:34:21,935 --> 00:34:25,062\\nSo he ga'"
      ]
     },
     "execution_count": 23,
     "metadata": {},
     "output_type": "execute_result"
    },
    {
     "data": {
      "text/plain": [
       "'mbled for support,\\nand I gave it to him.647\\n00:3'"
      ]
     },
     "execution_count": 23,
     "metadata": {},
     "output_type": "execute_result"
    },
    {
     "data": {
      "text/plain": [
       "'4:25,147 --> 00:34:26,856\\nI respect his motives.'"
      ]
     },
     "execution_count": 23,
     "metadata": {},
     "output_type": "execute_result"
    },
    {
     "data": {
      "text/plain": [
       "'648\\n00:34:26,940 --> 00:34:31,485\\nThe boy on trial'"
      ]
     },
     "execution_count": 23,
     "metadata": {},
     "output_type": "execute_result"
    },
    {
     "data": {
      "text/plain": [
       "' is probably guilty,\\nbut, uh, I want to hear more.'"
      ]
     },
     "execution_count": 23,
     "metadata": {},
     "output_type": "execute_result"
    },
    {
     "data": {
      "text/plain": [
       "'649\\n00:34:31,570 --> 00:34:33,362\\nRight now, the'"
      ]
     },
     "execution_count": 23,
     "metadata": {},
     "output_type": "execute_result"
    },
    {
     "data": {
      "text/plain": [
       "' vote is 10 to two.650\\n00:34:33,447 --> 00:34:35'"
      ]
     },
     "execution_count": 23,
     "metadata": {},
     "output_type": "execute_result"
    },
    {
     "data": {
      "text/plain": [
       "\",698\\nI'm talking here!\\nYou have no right to leave \""
      ]
     },
     "execution_count": 23,
     "metadata": {},
     "output_type": "execute_result"
    },
    {
     "data": {
      "text/plain": [
       "'this room!651\\n00:34:35,782 --> 00:34:37,658\\nHe c'"
      ]
     },
     "execution_count": 23,
     "metadata": {},
     "output_type": "execute_result"
    },
    {
     "data": {
      "text/plain": [
       "\"an't hear you. He never will.652\\n00:34:37,743 --\""
      ]
     },
     "execution_count": 23,
     "metadata": {},
     "output_type": "execute_result"
    },
    {
     "data": {
      "text/plain": [
       "\"> 00:34:39,326\\nLet's sit down.653\\n00:34:43,498 -\""
      ]
     },
     "execution_count": 23,
     "metadata": {},
     "output_type": "execute_result"
    },
    {
     "data": {
      "text/plain": [
       "'-> 00:34:45,708\\nShall we continue?654\\n00:34:45,7'"
      ]
     },
     "execution_count": 23,
     "metadata": {},
     "output_type": "execute_result"
    },
    {
     "data": {
      "text/plain": [
       "'92 --> 00:34:48,002\\nWell, I - I think we ought\\nto '"
      ]
     },
     "execution_count": 23,
     "metadata": {},
     "output_type": "execute_result"
    },
    {
     "data": {
      "text/plain": [
       "'take a break.655\\n00:34:48,086 --> 00:34:52,214\\nY'"
      ]
     },
     "execution_count": 23,
     "metadata": {},
     "output_type": "execute_result"
    },
    {
     "data": {
      "text/plain": [
       "\"ou know, one man's inside,\\nand I think we ought to\""
      ]
     },
     "execution_count": 23,
     "metadata": {},
     "output_type": "execute_result"
    },
    {
     "data": {
      "text/plain": [
       "' wait for him.656\\n00:34:52,299 --> 00:34:55,259\\n'"
      ]
     },
     "execution_count": 23,
     "metadata": {},
     "output_type": "execute_result"
    },
    {
     "data": {
      "text/plain": [
       "'Okay.657\\n00:34:55,343 --> 00:34:57,094\\nLooks lik'"
      ]
     },
     "execution_count": 23,
     "metadata": {},
     "output_type": "execute_result"
    },
    {
     "data": {
      "text/plain": [
       "\"e we're really\\nhung up here, huh?658\\n00:34:58,47\""
      ]
     },
     "execution_count": 23,
     "metadata": {},
     "output_type": "execute_result"
    },
    {
     "data": {
      "text/plain": [
       "'2 --> 00:35:00,806\\nAnd that thing with the old man'"
      ]
     },
     "execution_count": 23,
     "metadata": {},
     "output_type": "execute_result"
    },
    {
     "data": {
      "text/plain": [
       "',\\nthat was pretty unexpected.659\\n00:35:02,893 --'"
      ]
     },
     "execution_count": 23,
     "metadata": {},
     "output_type": "execute_result"
    },
    {
     "data": {
      "text/plain": [
       "'> 00:35:05,352\\nI wish I could figure out some way\\n'"
      ]
     },
     "execution_count": 23,
     "metadata": {},
     "output_type": "execute_result"
    },
    {
     "data": {
      "text/plain": [
       "'we could break it up.660\\n00:35:08,482 --> 00:35:'"
      ]
     },
     "execution_count": 23,
     "metadata": {},
     "output_type": "execute_result"
    },
    {
     "data": {
      "text/plain": [
       "'11,942\\nYou know, in advertising -\\nI told you I wor'"
      ]
     },
     "execution_count": 23,
     "metadata": {},
     "output_type": "execute_result"
    },
    {
     "data": {
      "text/plain": [
       "'ked in an agency.661\\n00:35:12,027 --> 00:35:13,0'"
      ]
     },
     "execution_count": 23,
     "metadata": {},
     "output_type": "execute_result"
    },
    {
     "data": {
      "text/plain": [
       "'27\\nMm-hmm.662\\n00:35:13,111 --> 00:35:15,112\\nWell'"
      ]
     },
     "execution_count": 23,
     "metadata": {},
     "output_type": "execute_result"
    },
    {
     "data": {
      "text/plain": [
       "\", there's some pretty strange people\\nworking there\""
      ]
     },
     "execution_count": 23,
     "metadata": {},
     "output_type": "execute_result"
    },
    {
     "data": {
      "text/plain": [
       "\".663\\n00:35:15,197 --> 00:35:17,281\\nWell, they're\""
      ]
     },
     "execution_count": 23,
     "metadata": {},
     "output_type": "execute_result"
    },
    {
     "data": {
      "text/plain": [
       "' not strange really, I guess.664\\n00:35:17,365 --'"
      ]
     },
     "execution_count": 23,
     "metadata": {},
     "output_type": "execute_result"
    },
    {
     "data": {
      "text/plain": [
       "\"> 00:35:19,992\\nIt's just that they have peculiar w\""
      ]
     },
     "execution_count": 23,
     "metadata": {},
     "output_type": "execute_result"
    },
    {
     "data": {
      "text/plain": [
       "'ays\\nof expressing themselves.665\\n00:35:20,076 --'"
      ]
     },
     "execution_count": 23,
     "metadata": {},
     "output_type": "execute_result"
    },
    {
     "data": {
      "text/plain": [
       "'> 00:35:21,327\\nYou know what I mean.666\\n00:35:21'"
      ]
     },
     "execution_count": 23,
     "metadata": {},
     "output_type": "execute_result"
    },
    {
     "data": {
      "text/plain": [
       "\",411 --> 00:35:23,621\\nOf course, I suppose it's th\""
      ]
     },
     "execution_count": 23,
     "metadata": {},
     "output_type": "execute_result"
    },
    {
     "data": {
      "text/plain": [
       "'e same\\nin your business too, huh?667\\n00:35:24,37'"
      ]
     },
     "execution_count": 23,
     "metadata": {},
     "output_type": "execute_result"
    },
    {
     "data": {
      "text/plain": [
       "'2 --> 00:35:25,873\\nWhat do you do?668\\n00:35:25,9'"
      ]
     },
     "execution_count": 23,
     "metadata": {},
     "output_type": "execute_result"
    },
    {
     "data": {
      "text/plain": [
       "\"57 --> 00:35:28,125\\n- I'm a watchmaker.\\n- Oh, real\""
      ]
     },
     "execution_count": 23,
     "metadata": {},
     "output_type": "execute_result"
    },
    {
     "data": {
      "text/plain": [
       "'ly?669\\n00:35:28,210 --> 00:35:31,420\\nWell, I ima'"
      ]
     },
     "execution_count": 23,
     "metadata": {},
     "output_type": "execute_result"
    },
    {
     "data": {
      "text/plain": [
       "'gine the finest watchmakers\\nin the world come from'"
      ]
     },
     "execution_count": 23,
     "metadata": {},
     "output_type": "execute_result"
    },
    {
     "data": {
      "text/plain": [
       "' Europe, huh?670\\n00:35:31,505 --> 00:35:34,507\\nA'"
      ]
     },
     "execution_count": 23,
     "metadata": {},
     "output_type": "execute_result"
    },
    {
     "data": {
      "text/plain": [
       "'nyway, as I was telling you, in an\\nagency, when we'"
      ]
     },
     "execution_count": 23,
     "metadata": {},
     "output_type": "execute_result"
    },
    {
     "data": {
      "text/plain": [
       "' reach a point like this...671\\n00:35:34,591 --> '"
      ]
     },
     "execution_count": 23,
     "metadata": {},
     "output_type": "execute_result"
    },
    {
     "data": {
      "text/plain": [
       "\"00:35:38,093\\nI'm telling him about, in an ad agenc\""
      ]
     },
     "execution_count": 23,
     "metadata": {},
     "output_type": "execute_result"
    },
    {
     "data": {
      "text/plain": [
       "'y, when\\na point like this is reached in a meeting.'"
      ]
     },
     "execution_count": 23,
     "metadata": {},
     "output_type": "execute_result"
    },
    {
     "data": {
      "text/plain": [
       "\"..672\\n00:35:38,178 --> 00:35:40,805\\nthere's alwa\""
      ]
     },
     "execution_count": 23,
     "metadata": {},
     "output_type": "execute_result"
    },
    {
     "data": {
      "text/plain": [
       "'ys some character\\nready with an idea, see.673\\n00'"
      ]
     },
     "execution_count": 23,
     "metadata": {},
     "output_type": "execute_result"
    },
    {
     "data": {
      "text/plain": [
       "':35:40,889 --> 00:35:42,848\\nAnd it kills me.674\\n'"
      ]
     },
     "execution_count": 23,
     "metadata": {},
     "output_type": "execute_result"
    },
    {
     "data": {
      "text/plain": [
       "\"00:35:42,933 --> 00:35:44,433\\nIt's the weirdest th\""
      ]
     },
     "execution_count": 23,
     "metadata": {},
     "output_type": "execute_result"
    },
    {
     "data": {
      "text/plain": [
       "'ing in the world...675\\n00:35:44,518 --> 00:35:47'"
      ]
     },
     "execution_count": 23,
     "metadata": {},
     "output_type": "execute_result"
    },
    {
     "data": {
      "text/plain": [
       "',853\\nthe way they sometimes precede their idea\\nwit'"
      ]
     },
     "execution_count": 23,
     "metadata": {},
     "output_type": "execute_result"
    },
    {
     "data": {
      "text/plain": [
       "'h a little phrase, see, like...676\\n00:35:47,938 '"
      ]
     },
     "execution_count": 23,
     "metadata": {},
     "output_type": "execute_result"
    },
    {
     "data": {
      "text/plain": [
       "'--> 00:35:50,856\\nSome account exec will get up,\\nan'"
      ]
     },
     "execution_count": 23,
     "metadata": {},
     "output_type": "execute_result"
    },
    {
     "data": {
      "text/plain": [
       "\"d he'll say, uh...677\\n00:35:50,941 --> 00:35:52,\""
      ]
     },
     "execution_count": 23,
     "metadata": {},
     "output_type": "execute_result"
    },
    {
     "data": {
      "text/plain": [
       "'775\\n\"Okay, here\\'s an idea.678\\n00:35:52,859 --> 0'"
      ]
     },
     "execution_count": 23,
     "metadata": {},
     "output_type": "execute_result"
    },
    {
     "data": {
      "text/plain": [
       "\"0:35:56,487\\nLet's, uh, run it up the flagpole\\nand \""
      ]
     },
     "execution_count": 23,
     "metadata": {},
     "output_type": "execute_result"
    },
    {
     "data": {
      "text/plain": [
       "'see if anyone salutes it.\"679\\n00:35:56,571 --> 0'"
      ]
     },
     "execution_count": 23,
     "metadata": {},
     "output_type": "execute_result"
    },
    {
     "data": {
      "text/plain": [
       "\"0:35:59,698\\nI mean, it's idiotic, but it's funny, \""
      ]
     },
     "execution_count": 23,
     "metadata": {},
     "output_type": "execute_result"
    },
    {
     "data": {
      "text/plain": [
       "'huh?680\\n00:35:59,783 --> 00:36:04,286\\nI, uh\\n- I '"
      ]
     },
     "execution_count": 23,
     "metadata": {},
     "output_type": "execute_result"
    },
    {
     "data": {
      "text/plain": [
       "'got a little excited back there. I...681\\n00:36:0'"
      ]
     },
     "execution_count": 23,
     "metadata": {},
     "output_type": "execute_result"
    },
    {
     "data": {
      "text/plain": [
       "\"5,288 --> 00:36:07,039\\ndidn't mean to get nasty.\""
      ]
     },
     "execution_count": 23,
     "metadata": {},
     "output_type": "execute_result"
    },
    {
     "data": {
      "text/plain": [
       "\"682\\n00:36:07,916 --> 00:36:11,710\\nI'm glad you're \""
      ]
     },
     "execution_count": 23,
     "metadata": {},
     "output_type": "execute_result"
    },
    {
     "data": {
      "text/plain": [
       "'not one of those\\nlets these emotional appeals infl'"
      ]
     },
     "execution_count": 23,
     "metadata": {},
     "output_type": "execute_result"
    },
    {
     "data": {
      "text/plain": [
       "'uence him.683\\n00:36:12,879 --> 00:36:15,130\\nUh..'"
      ]
     },
     "execution_count": 23,
     "metadata": {},
     "output_type": "execute_result"
    },
    {
     "data": {
      "text/plain": [
       "\".684\\n00:36:28,395 --> 00:36:31,105\\nI don't know \""
      ]
     },
     "execution_count": 23,
     "metadata": {},
     "output_type": "execute_result"
    },
    {
     "data": {
      "text/plain": [
       "\"what's the matter with that fan.\\nCan't seem to get\""
      ]
     },
     "execution_count": 23,
     "metadata": {},
     "output_type": "execute_result"
    },
    {
     "data": {
      "text/plain": [
       "' it to start.685\\n00:36:32,482 --> 00:36:35,025\\n♪'"
      ]
     },
     "execution_count": 23,
     "metadata": {},
     "output_type": "execute_result"
    },
    {
     "data": {
      "text/plain": [
       "' Be, be, be ♪686\\n00:36:35,110 --> 00:36:37,194\\n♪'"
      ]
     },
     "execution_count": 23,
     "metadata": {},
     "output_type": "execute_result"
    },
    {
     "data": {
      "text/plain": [
       "' Ba, ba, ba, ba, bum ♪♪687\\n00:36:37,779 --> 00:3'"
      ]
     },
     "execution_count": 23,
     "metadata": {},
     "output_type": "execute_result"
    },
    {
     "data": {
      "text/plain": [
       "'6:39,697\\nEh!688\\n00:36:40,824 --> 00:36:43,033\\nHe'"
      ]
     },
     "execution_count": 23,
     "metadata": {},
     "output_type": "execute_result"
    },
    {
     "data": {
      "text/plain": [
       "'y, you a salesman?689\\n00:36:43,118 --> 00:36:44,'"
      ]
     },
     "execution_count": 23,
     "metadata": {},
     "output_type": "execute_result"
    },
    {
     "data": {
      "text/plain": [
       "\"618\\nI'm an architect.690\\n00:36:45,453 --> 00:36:\""
      ]
     },
     "execution_count": 23,
     "metadata": {},
     "output_type": "execute_result"
    },
    {
     "data": {
      "text/plain": [
       "'46,787\\nHmm.691\\n00:36:46,872 --> 00:36:49,123\\nYou'"
      ]
     },
     "execution_count": 23,
     "metadata": {},
     "output_type": "execute_result"
    },
    {
     "data": {
      "text/plain": [
       "' know what the soft sell is?692\\n00:36:52,043 -->'"
      ]
     },
     "execution_count": 23,
     "metadata": {},
     "output_type": "execute_result"
    },
    {
     "data": {
      "text/plain": [
       "' 00:36:53,961\\nBoy, you got it. Believe me.693\\n00'"
      ]
     },
     "execution_count": 23,
     "metadata": {},
     "output_type": "execute_result"
    },
    {
     "data": {
      "text/plain": [
       "':36:55,630 --> 00:36:57,339\\nI got a different tech'"
      ]
     },
     "execution_count": 23,
     "metadata": {},
     "output_type": "execute_result"
    },
    {
     "data": {
      "text/plain": [
       "'nique.694\\n00:36:58,133 --> 00:36:59,925\\nLaughs, '"
      ]
     },
     "execution_count": 23,
     "metadata": {},
     "output_type": "execute_result"
    },
    {
     "data": {
      "text/plain": [
       "'drinks, jokes.695\\n00:37:00,010 --> 00:37:02,261\\n'"
      ]
     },
     "execution_count": 23,
     "metadata": {},
     "output_type": "execute_result"
    },
    {
     "data": {
      "text/plain": [
       "'Tricks. You know?696\\n00:37:03,096 --> 00:37:04,3'"
      ]
     },
     "execution_count": 23,
     "metadata": {},
     "output_type": "execute_result"
    },
    {
     "data": {
      "text/plain": [
       "'05\\nYeah.697\\n00:37:05,765 --> 00:37:07,975\\n\"Hit \\''"
      ]
     },
     "execution_count": 23,
     "metadata": {},
     "output_type": "execute_result"
    },
    {
     "data": {
      "text/plain": [
       "'em where they live.\"\\nThat\\'s my motto.698\\n00:37:0'"
      ]
     },
     "execution_count": 23,
     "metadata": {},
     "output_type": "execute_result"
    },
    {
     "data": {
      "text/plain": [
       "'9,394 --> 00:37:12,146\\nI made 27 grand last year\\ns'"
      ]
     },
     "execution_count": 23,
     "metadata": {},
     "output_type": "execute_result"
    },
    {
     "data": {
      "text/plain": [
       "\"ellin' marmalade.699\\n00:37:12,981 --> 00:37:15,4\""
      ]
     },
     "execution_count": 23,
     "metadata": {},
     "output_type": "execute_result"
    },
    {
     "data": {
      "text/plain": [
       "\"82\\nThat's not bad. I mean,\\nyou know, considering m\""
      ]
     },
     "execution_count": 23,
     "metadata": {},
     "output_type": "execute_result"
    },
    {
     "data": {
      "text/plain": [
       "'armalade.700\\n00:37:18,695 --> 00:37:20,487\\nHey, '"
      ]
     },
     "execution_count": 23,
     "metadata": {},
     "output_type": "execute_result"
    },
    {
     "data": {
      "text/plain": [
       "\"what are you\\ngettin' outta this - kicks?701\\n00:3\""
      ]
     },
     "execution_count": 23,
     "metadata": {},
     "output_type": "execute_result"
    },
    {
     "data": {
      "text/plain": [
       "'7:22,657 --> 00:37:25,242\\nOr did somebody bump you'"
      ]
     },
     "execution_count": 23,
     "metadata": {},
     "output_type": "execute_result"
    },
    {
     "data": {
      "text/plain": [
       "\" on the head\\none time and you haven't gotten over \""
      ]
     },
     "execution_count": 23,
     "metadata": {},
     "output_type": "execute_result"
    },
    {
     "data": {
      "text/plain": [
       "'it?702\\n00:37:25,327 --> 00:37:27,036\\nMaybe.703'"
      ]
     },
     "execution_count": 23,
     "metadata": {},
     "output_type": "execute_result"
    },
    {
     "data": {
      "text/plain": [
       "'\\n00:37:28,038 --> 00:37:30,581\\nYou know, you do-go'"
      ]
     },
     "execution_count": 23,
     "metadata": {},
     "output_type": "execute_result"
    },
    {
     "data": {
      "text/plain": [
       "'oders are all alike.704\\n00:37:30,665 --> 00:37:3'"
      ]
     },
     "execution_count": 23,
     "metadata": {},
     "output_type": "execute_result"
    },
    {
     "data": {
      "text/plain": [
       "\"3,334\\nYou're always blowing your stacks\\nover some \""
      ]
     },
     "execution_count": 23,
     "metadata": {},
     "output_type": "execute_result"
    },
    {
     "data": {
      "text/plain": [
       "'guy that fanned.705\\n00:37:36,421 --> 00:37:38,25'"
      ]
     },
     "execution_count": 23,
     "metadata": {},
     "output_type": "execute_result"
    },
    {
     "data": {
      "text/plain": [
       "'5\\nBut what are you wasting our time for?706\\n00:3'"
      ]
     },
     "execution_count": 23,
     "metadata": {},
     "output_type": "execute_result"
    },
    {
     "data": {
      "text/plain": [
       "\"7:39,007 --> 00:37:43,052\\nWhy don't you donate fiv\""
      ]
     },
     "execution_count": 23,
     "metadata": {},
     "output_type": "execute_result"
    },
    {
     "data": {
      "text/plain": [
       "\"e dollars to the\\ncause, and maybe it'll make you f\""
      ]
     },
     "execution_count": 23,
     "metadata": {},
     "output_type": "execute_result"
    },
    {
     "data": {
      "text/plain": [
       "'eel better.707\\n00:37:46,348 --> 00:37:48,599\\nThi'"
      ]
     },
     "execution_count": 23,
     "metadata": {},
     "output_type": "execute_result"
    },
    {
     "data": {
      "text/plain": [
       "'s kid is guilty, pal.708\\n00:37:48,683 --> 00:37:'"
      ]
     },
     "execution_count": 23,
     "metadata": {},
     "output_type": "execute_result"
    },
    {
     "data": {
      "text/plain": [
       "\"51,101\\nIt's as plain as the nose on your face.70\""
      ]
     },
     "execution_count": 23,
     "metadata": {},
     "output_type": "execute_result"
    },
    {
     "data": {
      "text/plain": [
       "\"9\\n00:37:51,186 --> 00:37:53,437\\nSo why don't we st\""
      ]
     },
     "execution_count": 23,
     "metadata": {},
     "output_type": "execute_result"
    },
    {
     "data": {
      "text/plain": [
       "'op\\nwasting our time here?710\\n00:37:53,521 --> 00'"
      ]
     },
     "execution_count": 23,
     "metadata": {},
     "output_type": "execute_result"
    },
    {
     "data": {
      "text/plain": [
       "\":37:56,440\\nWe're gonna all get sore throats\\nif we \""
      ]
     },
     "execution_count": 23,
     "metadata": {},
     "output_type": "execute_result"
    },
    {
     "data": {
      "text/plain": [
       "'keep it up, you know?711\\n00:37:56,524 --> 00:37:'"
      ]
     },
     "execution_count": 23,
     "metadata": {},
     "output_type": "execute_result"
    },
    {
     "data": {
      "text/plain": [
       "'58,817\\nWhat difference does it make\\nif you get it '"
      ]
     },
     "execution_count": 23,
     "metadata": {},
     "output_type": "execute_result"
    },
    {
     "data": {
      "text/plain": [
       "'here or at the ball game?712\\n00:37:59,861 --> 00'"
      ]
     },
     "execution_count": 23,
     "metadata": {},
     "output_type": "execute_result"
    },
    {
     "data": {
      "text/plain": [
       "':38:02,780\\nOh, no difference, pal.713\\n00:38:02,8'"
      ]
     },
     "execution_count": 23,
     "metadata": {},
     "output_type": "execute_result"
    },
    {
     "data": {
      "text/plain": [
       "'64 --> 00:38:04,657\\nNo difference at all.714\\n00:'"
      ]
     },
     "execution_count": 23,
     "metadata": {},
     "output_type": "execute_result"
    },
    {
     "data": {
      "text/plain": [
       "'38:16,586 --> 00:38:18,462\\nNice bunch of guys, huh'"
      ]
     },
     "execution_count": 23,
     "metadata": {},
     "output_type": "execute_result"
    },
    {
     "data": {
      "text/plain": [
       "\"?715\\n00:38:18,546 --> 00:38:20,839\\nOh, they're a\""
      ]
     },
     "execution_count": 23,
     "metadata": {},
     "output_type": "execute_result"
    },
    {
     "data": {
      "text/plain": [
       "'bout the same\\nas anyone else.716\\n00:38:20,924 --'"
      ]
     },
     "execution_count": 23,
     "metadata": {},
     "output_type": "execute_result"
    },
    {
     "data": {
      "text/plain": [
       "'> 00:38:23,717\\nPhew! Boy, what a murderous day.7'"
      ]
     },
     "execution_count": 23,
     "metadata": {},
     "output_type": "execute_result"
    },
    {
     "data": {
      "text/plain": [
       "\"17\\n00:38:24,719 --> 00:38:26,762\\nYou think we'll b\""
      ]
     },
     "execution_count": 23,
     "metadata": {},
     "output_type": "execute_result"
    },
    {
     "data": {
      "text/plain": [
       "'e much longer?718\\n00:38:26,846 --> 00:38:28,472\\n'"
      ]
     },
     "execution_count": 23,
     "metadata": {},
     "output_type": "execute_result"
    },
    {
     "data": {
      "text/plain": [
       "\"I don't know.719\\n00:38:28,556 --> 00:38:30,474\\nA\""
      ]
     },
     "execution_count": 23,
     "metadata": {},
     "output_type": "execute_result"
    },
    {
     "data": {
      "text/plain": [
       "\"w, he's guilty for sure.720\\n00:38:30,558 --> 00:\""
      ]
     },
     "execution_count": 23,
     "metadata": {},
     "output_type": "execute_result"
    },
    {
     "data": {
      "text/plain": [
       "'38:32,101\\nNot a doubt in the whole world.721\\n00:'"
      ]
     },
     "execution_count": 23,
     "metadata": {},
     "output_type": "execute_result"
    },
    {
     "data": {
      "text/plain": [
       "\"38:32,185 --> 00:38:34,728\\nWe should -\\nShould've b\""
      ]
     },
     "execution_count": 23,
     "metadata": {},
     "output_type": "execute_result"
    },
    {
     "data": {
      "text/plain": [
       "'een done already.722\\n00:38:36,982 --> 00:38:38,2'"
      ]
     },
     "execution_count": 23,
     "metadata": {},
     "output_type": "execute_result"
    },
    {
     "data": {
      "text/plain": [
       "\"32\\nOh, I don't mind, you know.723\\n00:38:38,316 -\""
      ]
     },
     "execution_count": 23,
     "metadata": {},
     "output_type": "execute_result"
    },
    {
     "data": {
      "text/plain": [
       "\"-> 00:38:40,734\\nHmm. Beats workin'.724\\n00:38:44,\""
      ]
     },
     "execution_count": 23,
     "metadata": {},
     "output_type": "execute_result"
    },
    {
     "data": {
      "text/plain": [
       "'406 --> 00:38:45,572\\nUh...725\\n00:38:47,951 --> 0'"
      ]
     },
     "execution_count": 23,
     "metadata": {},
     "output_type": "execute_result"
    },
    {
     "data": {
      "text/plain": [
       "\"0:38:50,035\\nYou think he's not guilty, huh?726\\n0\""
      ]
     },
     "execution_count": 23,
     "metadata": {},
     "output_type": "execute_result"
    },
    {
     "data": {
      "text/plain": [
       "\"0:38:50,120 --> 00:38:51,954\\nI don't know. It's po\""
      ]
     },
     "execution_count": 23,
     "metadata": {},
     "output_type": "execute_result"
    },
    {
     "data": {
      "text/plain": [
       "'ssible.727\\n00:38:52,706 --> 00:38:56,500\\nWell, I'"
      ]
     },
     "execution_count": 23,
     "metadata": {},
     "output_type": "execute_result"
    },
    {
     "data": {
      "text/plain": [
       "\" don't know you, but I'm bettin'\\nyou never been wr\""
      ]
     },
     "execution_count": 23,
     "metadata": {},
     "output_type": "execute_result"
    },
    {
     "data": {
      "text/plain": [
       "'onger in your life.728\\n00:38:56,584 --> 00:38:59'"
      ]
     },
     "execution_count": 23,
     "metadata": {},
     "output_type": "execute_result"
    },
    {
     "data": {
      "text/plain": [
       "\",003\\nYou're wasting your time.\\nYou ought to wrap i\""
      ]
     },
     "execution_count": 23,
     "metadata": {},
     "output_type": "execute_result"
    },
    {
     "data": {
      "text/plain": [
       "'t up.729\\n00:38:59,087 --> 00:39:01,255\\nSupposing'"
      ]
     },
     "execution_count": 23,
     "metadata": {},
     "output_type": "execute_result"
    },
    {
     "data": {
      "text/plain": [
       "' you were the one\\nwho was on trial.730\\n00:39:02,'"
      ]
     },
     "execution_count": 23,
     "metadata": {},
     "output_type": "execute_result"
    },
    {
     "data": {
      "text/plain": [
       "\"090 --> 00:39:03,966\\nWell, I'm not used to supposi\""
      ]
     },
     "execution_count": 23,
     "metadata": {},
     "output_type": "execute_result"
    },
    {
     "data": {
      "text/plain": [
       "\"ng.731\\n00:39:04,050 --> 00:39:08,554\\nI'm just a \""
      ]
     },
     "execution_count": 23,
     "metadata": {},
     "output_type": "execute_result"
    },
    {
     "data": {
      "text/plain": [
       "'workingman.\\nMy boss does the supposing. But...73'"
      ]
     },
     "execution_count": 23,
     "metadata": {},
     "output_type": "execute_result"
    },
    {
     "data": {
      "text/plain": [
       "\"2\\n00:39:08,638 --> 00:39:10,139\\nWell, I'll try one\""
      ]
     },
     "execution_count": 23,
     "metadata": {},
     "output_type": "execute_result"
    },
    {
     "data": {
      "text/plain": [
       "'.733\\n00:39:11,349 --> 00:39:17,021\\nSupposing you'"
      ]
     },
     "execution_count": 23,
     "metadata": {},
     "output_type": "execute_result"
    },
    {
     "data": {
      "text/plain": [
       "' talk us all out of this, and,\\nuh, the kid really '"
      ]
     },
     "execution_count": 23,
     "metadata": {},
     "output_type": "execute_result"
    },
    {
     "data": {
      "text/plain": [
       "'did knife his father. Huh?734\\n00:39:25,947 --> 0'"
      ]
     },
     "execution_count": 23,
     "metadata": {},
     "output_type": "execute_result"
    },
    {
     "data": {
      "text/plain": [
       "'0:39:27,239\\nAre you ready?735\\n00:39:27,323 --> 0'"
      ]
     },
     "execution_count": 23,
     "metadata": {},
     "output_type": "execute_result"
    },
    {
     "data": {
      "text/plain": [
       "'0:39:28,532\\nHup.736\\n00:39:28,616 --> 00:39:29,53'"
      ]
     },
     "execution_count": 23,
     "metadata": {},
     "output_type": "execute_result"
    },
    {
     "data": {
      "text/plain": [
       "'3\\nThat one.737\\n00:39:29,617 --> 00:39:31,285\\nSor'"
      ]
     },
     "execution_count": 23,
     "metadata": {},
     "output_type": "execute_result"
    },
    {
     "data": {
      "text/plain": [
       "'ry, blue eyes.738\\n00:39:32,203 --> 00:39:35,622\\n'"
      ]
     },
     "execution_count": 23,
     "metadata": {},
     "output_type": "execute_result"
    },
    {
     "data": {
      "text/plain": [
       "\"- Well, where else -\\n- Okay, fellas, let's take ou\""
      ]
     },
     "execution_count": 23,
     "metadata": {},
     "output_type": "execute_result"
    },
    {
     "data": {
      "text/plain": [
       "'r seats.739\\n00:39:35,707 --> 00:39:37,624\\nLooks '"
      ]
     },
     "execution_count": 23,
     "metadata": {},
     "output_type": "execute_result"
    },
    {
     "data": {
      "text/plain": [
       "\"like we'll be here\\nfor dinner, huh?740\\n00:39:37,\""
      ]
     },
     "execution_count": 23,
     "metadata": {},
     "output_type": "execute_result"
    },
    {
     "data": {
      "text/plain": [
       "\"709 --> 00:39:40,085\\nOkay, now let's -\\nLet's get d\""
      ]
     },
     "execution_count": 23,
     "metadata": {},
     "output_type": "execute_result"
    },
    {
     "data": {
      "text/plain": [
       "'own to business.741\\n00:39:40,170 --> 00:39:41,54'"
      ]
     },
     "execution_count": 23,
     "metadata": {},
     "output_type": "execute_result"
    },
    {
     "data": {
      "text/plain": [
       "'5\\nNow, who wants to start it off?742\\n00:39:41,62'"
      ]
     },
     "execution_count": 23,
     "metadata": {},
     "output_type": "execute_result"
    },
    {
     "data": {
      "text/plain": [
       "'9 --> 00:39:43,047\\n- I would.\\n- Okay, go.743\\n00:'"
      ]
     },
     "execution_count": 23,
     "metadata": {},
     "output_type": "execute_result"
    },
    {
     "data": {
      "text/plain": [
       "'39:43,131 --> 00:39:45,215\\nYou down there.744\\n00'"
      ]
     },
     "execution_count": 23,
     "metadata": {},
     "output_type": "execute_result"
    },
    {
     "data": {
      "text/plain": [
       "':39:45,300 --> 00:39:49,178\\nThe old man who lived '"
      ]
     },
     "execution_count": 23,
     "metadata": {},
     "output_type": "execute_result"
    },
    {
     "data": {
      "text/plain": [
       "'downstairs says he\\nheard the kid yell out, \"I\\'m go'"
      ]
     },
     "execution_count": 23,
     "metadata": {},
     "output_type": "execute_result"
    },
    {
     "data": {
      "text/plain": [
       "'nna kill ya.\"745\\n00:39:49,262 --> 00:39:51,889\\nA'"
      ]
     },
     "execution_count": 23,
     "metadata": {},
     "output_type": "execute_result"
    },
    {
     "data": {
      "text/plain": [
       "' second later,\\nhe heard the body hit the floor.7'"
      ]
     },
     "execution_count": 23,
     "metadata": {},
     "output_type": "execute_result"
    },
    {
     "data": {
      "text/plain": [
       "'46\\n00:39:51,973 --> 00:39:55,851\\nNow, he ran to th'"
      ]
     },
     "execution_count": 23,
     "metadata": {},
     "output_type": "execute_result"
    },
    {
     "data": {
      "text/plain": [
       "'e door and he saw the kid\\nrunning down the stairs '"
      ]
     },
     "execution_count": 23,
     "metadata": {},
     "output_type": "execute_result"
    },
    {
     "data": {
      "text/plain": [
       "'and out of the house.747\\n00:39:55,935 --> 00:39:'"
      ]
     },
     "execution_count": 23,
     "metadata": {},
     "output_type": "execute_result"
    },
    {
     "data": {
      "text/plain": [
       "'57,311\\nWhat does that mean to you?748\\n00:39:57,3'"
      ]
     },
     "execution_count": 23,
     "metadata": {},
     "output_type": "execute_result"
    },
    {
     "data": {
      "text/plain": [
       "'95 --> 00:40:00,773\\nI was wondering how clearly th'"
      ]
     },
     "execution_count": 23,
     "metadata": {},
     "output_type": "execute_result"
    },
    {
     "data": {
      "text/plain": [
       "\"e old man could\\nhave heard the boy's voice through\""
      ]
     },
     "execution_count": 23,
     "metadata": {},
     "output_type": "execute_result"
    },
    {
     "data": {
      "text/plain": [
       "' the ceiling.749\\n00:40:00,857 --> 00:40:02,900\\nH'"
      ]
     },
     "execution_count": 23,
     "metadata": {},
     "output_type": "execute_result"
    },
    {
     "data": {
      "text/plain": [
       "\"e didn't hear it through the ceiling.\\nThe window w\""
      ]
     },
     "execution_count": 23,
     "metadata": {},
     "output_type": "execute_result"
    },
    {
     "data": {
      "text/plain": [
       "'as open.750\\n00:40:02,984 --> 00:40:04,818\\nSo was'"
      ]
     },
     "execution_count": 23,
     "metadata": {},
     "output_type": "execute_result"
    },
    {
     "data": {
      "text/plain": [
       "' the one upstairs.\\nIt was a hot night, remember?'"
      ]
     },
     "execution_count": 23,
     "metadata": {},
     "output_type": "execute_result"
    },
    {
     "data": {
      "text/plain": [
       "'751\\n00:40:04,903 --> 00:40:06,236\\nWell, it was ano'"
      ]
     },
     "execution_count": 23,
     "metadata": {},
     "output_type": "execute_result"
    },
    {
     "data": {
      "text/plain": [
       "'ther apartment.752\\n00:40:06,321 --> 00:40:08,906'"
      ]
     },
     "execution_count": 23,
     "metadata": {},
     "output_type": "execute_result"
    },
    {
     "data": {
      "text/plain": [
       "\"\\nIt's not that easy to identify a voice,\\nparticula\""
      ]
     },
     "execution_count": 23,
     "metadata": {},
     "output_type": "execute_result"
    },
    {
     "data": {
      "text/plain": [
       "'rly a shouting voice.753\\n00:40:08,990 --> 00:40:'"
      ]
     },
     "execution_count": 23,
     "metadata": {},
     "output_type": "execute_result"
    },
    {
     "data": {
      "text/plain": [
       "\"10,574\\n- He identified it in court.\\n- That's right\""
      ]
     },
     "execution_count": 23,
     "metadata": {},
     "output_type": "execute_result"
    },
    {
     "data": {
      "text/plain": [
       "\".754\\n00:40:10,658 --> 00:40:12,117\\nAnd don't for\""
      ]
     },
     "execution_count": 23,
     "metadata": {},
     "output_type": "execute_result"
    },
    {
     "data": {
      "text/plain": [
       "'get the lady\\nacross the street.755\\n00:40:12,202 '"
      ]
     },
     "execution_count": 23,
     "metadata": {},
     "output_type": "execute_result"
    },
    {
     "data": {
      "text/plain": [
       "'--> 00:40:14,995\\nShe looked right in the open wind'"
      ]
     },
     "execution_count": 23,
     "metadata": {},
     "output_type": "execute_result"
    },
    {
     "data": {
      "text/plain": [
       "'ow\\nand saw the boy stab his father.756\\n00:40:15,'"
      ]
     },
     "execution_count": 23,
     "metadata": {},
     "output_type": "execute_result"
    },
    {
     "data": {
      "text/plain": [
       "\"080 --> 00:40:17,539\\n- Now, I mean, isn't that eno\""
      ]
     },
     "execution_count": 23,
     "metadata": {},
     "output_type": "execute_result"
    },
    {
     "data": {
      "text/plain": [
       "\"ugh for you?\\n- No, it isn't.757\\n00:40:17,624 -->\""
      ]
     },
     "execution_count": 23,
     "metadata": {},
     "output_type": "execute_result"
    },
    {
     "data": {
      "text/plain": [
       "' 00:40:19,583\\nBoy, how do you like this guy, huh?\\n'"
      ]
     },
     "execution_count": 23,
     "metadata": {},
     "output_type": "execute_result"
    },
    {
     "data": {
      "text/plain": [
       "\"\\n758\\n00:40:19,667 --> 00:40:21,502\\nIt's like talki\""
      ]
     },
     "execution_count": 23,
     "metadata": {},
     "output_type": "execute_result"
    },
    {
     "data": {
      "text/plain": [
       "'ng into a dead phone.759\\n00:40:21,586 --> 00:40:'"
      ]
     },
     "execution_count": 23,
     "metadata": {},
     "output_type": "execute_result"
    },
    {
     "data": {
      "text/plain": [
       "'24,755\\nShe said she saw the killing through the\\nwi'"
      ]
     },
     "execution_count": 23,
     "metadata": {},
     "output_type": "execute_result"
    },
    {
     "data": {
      "text/plain": [
       "'ndows of a moving elevated train.760\\n00:40:24,83'"
      ]
     },
     "execution_count": 23,
     "metadata": {},
     "output_type": "execute_result"
    },
    {
     "data": {
      "text/plain": [
       "'9 --> 00:40:28,342\\nThere were six cars on the trai'"
      ]
     },
     "execution_count": 23,
     "metadata": {},
     "output_type": "execute_result"
    },
    {
     "data": {
      "text/plain": [
       "'n.\\nShe saw the killing through the last two cars.\\n'"
      ]
     },
     "execution_count": 23,
     "metadata": {},
     "output_type": "execute_result"
    },
    {
     "data": {
      "text/plain": [
       "'\\n761\\n00:40:28,426 --> 00:40:30,260\\nShe remembered\\n'"
      ]
     },
     "execution_count": 23,
     "metadata": {},
     "output_type": "execute_result"
    },
    {
     "data": {
      "text/plain": [
       "'the most insignificant details.762\\n00:40:30,345 '"
      ]
     },
     "execution_count": 23,
     "metadata": {},
     "output_type": "execute_result"
    },
    {
     "data": {
      "text/plain": [
       "\"--> 00:40:32,387\\nI don't see how you can argue wit\""
      ]
     },
     "execution_count": 23,
     "metadata": {},
     "output_type": "execute_result"
    },
    {
     "data": {
      "text/plain": [
       "'h that.763\\n00:40:32,472 --> 00:40:37,017\\nHas any'"
      ]
     },
     "execution_count": 23,
     "metadata": {},
     "output_type": "execute_result"
    },
    {
     "data": {
      "text/plain": [
       "'body here any idea\\nhow long it would take an el...'"
      ]
     },
     "execution_count": 23,
     "metadata": {},
     "output_type": "execute_result"
    },
    {
     "data": {
      "text/plain": [
       "'764\\n00:40:45,693 --> 00:40:47,277\\nHey!765\\n00:4'"
      ]
     },
     "execution_count": 23,
     "metadata": {},
     "output_type": "execute_result"
    },
    {
     "data": {
      "text/plain": [
       "\"0:47,362 --> 00:40:48,862\\nThis isn't a game.766\\n\""
      ]
     },
     "execution_count": 23,
     "metadata": {},
     "output_type": "execute_result"
    },
    {
     "data": {
      "text/plain": [
       "'00:40:53,159 --> 00:40:55,410\\n- Did you see him?\\n-'"
      ]
     },
     "execution_count": 23,
     "metadata": {},
     "output_type": "execute_result"
    },
    {
     "data": {
      "text/plain": [
       "' Hey.767\\n00:40:55,495 --> 00:40:57,246\\n- The ner'"
      ]
     },
     "execution_count": 23,
     "metadata": {},
     "output_type": "execute_result"
    },
    {
     "data": {
      "text/plain": [
       "'ve.\\n- All right, listen...768\\n00:40:57,330 --> 0'"
      ]
     },
     "execution_count": 23,
     "metadata": {},
     "output_type": "execute_result"
    },
    {
     "data": {
      "text/plain": [
       "\"0:41:00,582\\n- The absolute nerve.\\n- Forget it. It'\""
      ]
     },
     "execution_count": 23,
     "metadata": {},
     "output_type": "execute_result"
    },
    {
     "data": {
      "text/plain": [
       "'s not important.769\\n00:41:00,667 --> 00:41:02,62'"
      ]
     },
     "execution_count": 23,
     "metadata": {},
     "output_type": "execute_result"
    },
    {
     "data": {
      "text/plain": [
       "'6\\n- \"This isn\\'t a game\"?\\n- Calm down.770\\n00:41:0'"
      ]
     },
     "execution_count": 23,
     "metadata": {},
     "output_type": "execute_result"
    },
    {
     "data": {
      "text/plain": [
       "'2,710 --> 00:41:06,046\\n- Who does he think he is?\\n'"
      ]
     },
     "execution_count": 23,
     "metadata": {},
     "output_type": "execute_result"
    },
    {
     "data": {
      "text/plain": [
       "\"- I'm telling you, forget it now.771\\n00:41:06,13\""
      ]
     },
     "execution_count": 23,
     "metadata": {},
     "output_type": "execute_result"
    },
    {
     "data": {
      "text/plain": [
       "'1 --> 00:41:09,466\\nHas anybody any idea how long\\ni'"
      ]
     },
     "execution_count": 23,
     "metadata": {},
     "output_type": "execute_result"
    },
    {
     "data": {
      "text/plain": [
       "'t takes an elevated train...772\\n00:41:09,551 -->'"
      ]
     },
     "execution_count": 23,
     "metadata": {},
     "output_type": "execute_result"
    },
    {
     "data": {
      "text/plain": [
       "' 00:41:11,385\\ngoing at medium speed\\nto pass a give'"
      ]
     },
     "execution_count": 23,
     "metadata": {},
     "output_type": "execute_result"
    },
    {
     "data": {
      "text/plain": [
       "'n point?773\\n00:41:11,469 --> 00:41:13,345\\n- What'"
      ]
     },
     "execution_count": 23,
     "metadata": {},
     "output_type": "execute_result"
    },
    {
     "data": {
      "text/plain": [
       "' has that to do with anything?\\n- How long? Take a '"
      ]
     },
     "execution_count": 23,
     "metadata": {},
     "output_type": "execute_result"
    },
    {
     "data": {
      "text/plain": [
       "'guess.774\\n00:41:13,429 --> 00:41:16,098\\n- I woul'"
      ]
     },
     "execution_count": 23,
     "metadata": {},
     "output_type": "execute_result"
    },
    {
     "data": {
      "text/plain": [
       "\"dn't have the slightest idea.\\n- What do you think?\""
      ]
     },
     "execution_count": 23,
     "metadata": {},
     "output_type": "execute_result"
    },
    {
     "data": {
      "text/plain": [
       "\"775\\n00:41:16,182 --> 00:41:18,058\\nI don't know. \""
      ]
     },
     "execution_count": 23,
     "metadata": {},
     "output_type": "execute_result"
    },
    {
     "data": {
      "text/plain": [
       "'Maybe 10, 12 seconds?776\\n00:41:19,060 --> 00:41:'"
      ]
     },
     "execution_count": 23,
     "metadata": {},
     "output_type": "execute_result"
    },
    {
     "data": {
      "text/plain": [
       "\"20,727\\nI think that's a pretty good guess.\\nAnyone \""
      ]
     },
     "execution_count": 23,
     "metadata": {},
     "output_type": "execute_result"
    },
    {
     "data": {
      "text/plain": [
       "'else?777\\n00:41:20,812 --> 00:41:23,605\\n- That so'"
      ]
     },
     "execution_count": 23,
     "metadata": {},
     "output_type": "execute_result"
    },
    {
     "data": {
      "text/plain": [
       "\"unds right to me.\\n- Come on. What's the guessing g\""
      ]
     },
     "execution_count": 23,
     "metadata": {},
     "output_type": "execute_result"
    },
    {
     "data": {
      "text/plain": [
       "'ame for?778\\n00:41:23,690 --> 00:41:25,524\\n- What'"
      ]
     },
     "execution_count": 23,
     "metadata": {},
     "output_type": "execute_result"
    },
    {
     "data": {
      "text/plain": [
       "' do you say?\\n- Ten seconds is about right.779\\n00'"
      ]
     },
     "execution_count": 23,
     "metadata": {},
     "output_type": "execute_result"
    },
    {
     "data": {
      "text/plain": [
       "':41:25,608 --> 00:41:27,526\\nAll right. Say 10 seco'"
      ]
     },
     "execution_count": 23,
     "metadata": {},
     "output_type": "execute_result"
    },
    {
     "data": {
      "text/plain": [
       "'nds.\\nWhat are you getting at?780\\n00:41:27,610 --'"
      ]
     },
     "execution_count": 23,
     "metadata": {},
     "output_type": "execute_result"
    },
    {
     "data": {
      "text/plain": [
       "'> 00:41:32,656\\nThis. It takes a six-car el train\\n1'"
      ]
     },
     "execution_count": 23,
     "metadata": {},
     "output_type": "execute_result"
    },
    {
     "data": {
      "text/plain": [
       "'0 seconds to pass a given point.781\\n00:41:32,740'"
      ]
     },
     "execution_count": 23,
     "metadata": {},
     "output_type": "execute_result"
    },
    {
     "data": {
      "text/plain": [
       "\" --> 00:41:36,994\\nNow let's say the given point is\""
      ]
     },
     "execution_count": 23,
     "metadata": {},
     "output_type": "execute_result"
    },
    {
     "data": {
      "text/plain": [
       "' the open window\\nof the room where the killing too'"
      ]
     },
     "execution_count": 23,
     "metadata": {},
     "output_type": "execute_result"
    },
    {
     "data": {
      "text/plain": [
       "'k place.782\\n00:41:37,078 --> 00:41:40,372\\nYou ca'"
      ]
     },
     "execution_count": 23,
     "metadata": {},
     "output_type": "execute_result"
    },
    {
     "data": {
      "text/plain": [
       "'n reach out of that window\\nand almost touch the el'"
      ]
     },
     "execution_count": 23,
     "metadata": {},
     "output_type": "execute_result"
    },
    {
     "data": {
      "text/plain": [
       "' tracks, right?783\\n00:41:40,456 --> 00:41:41,957'"
      ]
     },
     "execution_count": 23,
     "metadata": {},
     "output_type": "execute_result"
    },
    {
     "data": {
      "text/plain": [
       "'\\nNow let me ask you this.784\\n00:41:42,041 --> 00'"
      ]
     },
     "execution_count": 23,
     "metadata": {},
     "output_type": "execute_result"
    },
    {
     "data": {
      "text/plain": [
       "':41:44,293\\nHas anyone here\\never lived near the el '"
      ]
     },
     "execution_count": 23,
     "metadata": {},
     "output_type": "execute_result"
    },
    {
     "data": {
      "text/plain": [
       "'tracks?785\\n00:41:44,377 --> 00:41:48,005\\nWell, u'"
      ]
     },
     "execution_count": 23,
     "metadata": {},
     "output_type": "execute_result"
    },
    {
     "data": {
      "text/plain": [
       "'h, I just finished painting an\\napartment that over'"
      ]
     },
     "execution_count": 23,
     "metadata": {},
     "output_type": "execute_result"
    },
    {
     "data": {
      "text/plain": [
       "'looked an el line.786\\n00:41:48,089 --> 00:41:49,'"
      ]
     },
     "execution_count": 23,
     "metadata": {},
     "output_type": "execute_result"
    },
    {
     "data": {
      "text/plain": [
       "'756\\n- I was there for three days.\\n- What was it li'"
      ]
     },
     "execution_count": 23,
     "metadata": {},
     "output_type": "execute_result"
    },
    {
     "data": {
      "text/plain": [
       "'ke?787\\n00:41:49,841 --> 00:41:51,008\\n- What do y'"
      ]
     },
     "execution_count": 23,
     "metadata": {},
     "output_type": "execute_result"
    },
    {
     "data": {
      "text/plain": [
       "'ou mean?\\n- Noisy?788\\n00:41:51,092 --> 00:41:53,6'"
      ]
     },
     "execution_count": 23,
     "metadata": {},
     "output_type": "execute_result"
    },
    {
     "data": {
      "text/plain": [
       "\"35\\nOh, brother. Don't matter though.\\nWe were all p\""
      ]
     },
     "execution_count": 23,
     "metadata": {},
     "output_type": "execute_result"
    },
    {
     "data": {
      "text/plain": [
       "'unchy.789\\n00:41:53,720 --> 00:41:56,305\\nI lived '"
      ]
     },
     "execution_count": 23,
     "metadata": {},
     "output_type": "execute_result"
    },
    {
     "data": {
      "text/plain": [
       "'in a second-floor apartment\\nnear the el line once.'"
      ]
     },
     "execution_count": 23,
     "metadata": {},
     "output_type": "execute_result"
    },
    {
     "data": {
      "text/plain": [
       "'790\\n00:41:56,389 --> 00:41:59,433\\nWhen the windo'"
      ]
     },
     "execution_count": 23,
     "metadata": {},
     "output_type": "execute_result"
    },
    {
     "data": {
      "text/plain": [
       "'w was open and the train\\ngoes by, the noise is alm'"
      ]
     },
     "execution_count": 23,
     "metadata": {},
     "output_type": "execute_result"
    },
    {
     "data": {
      "text/plain": [
       "'ost unbearable.791\\n00:41:59,559 --> 00:42:02,352'"
      ]
     },
     "execution_count": 23,
     "metadata": {},
     "output_type": "execute_result"
    },
    {
     "data": {
      "text/plain": [
       "'\\n- You can hardly hear yourself think.\\n- All right'"
      ]
     },
     "execution_count": 23,
     "metadata": {},
     "output_type": "execute_result"
    },
    {
     "data": {
      "text/plain": [
       "\", you can't hear yourself think.792\\n00:42:02,437\""
      ]
     },
     "execution_count": 23,
     "metadata": {},
     "output_type": "execute_result"
    },
    {
     "data": {
      "text/plain": [
       "' --> 00:42:04,855\\n- Will you get to the point?\\n- I'"
      ]
     },
     "execution_count": 23,
     "metadata": {},
     "output_type": "execute_result"
    },
    {
     "data": {
      "text/plain": [
       "' will. Now just a minute.793\\n00:42:04,939 --> 00'"
      ]
     },
     "execution_count": 23,
     "metadata": {},
     "output_type": "execute_result"
    },
    {
     "data": {
      "text/plain": [
       "\":42:08,567\\nLet's take two pieces of testimony\\nand \""
      ]
     },
     "execution_count": 23,
     "metadata": {},
     "output_type": "execute_result"
    },
    {
     "data": {
      "text/plain": [
       "'try to put them together.794\\n00:42:08,651 --> 00'"
      ]
     },
     "execution_count": 23,
     "metadata": {},
     "output_type": "execute_result"
    },
    {
     "data": {
      "text/plain": [
       "':42:12,738\\nFirst. The old man in the\\napartment dow'"
      ]
     },
     "execution_count": 23,
     "metadata": {},
     "output_type": "execute_result"
    },
    {
     "data": {
      "text/plain": [
       "'nstairs.795\\n00:42:12,822 --> 00:42:15,407\\nHe say'"
      ]
     },
     "execution_count": 23,
     "metadata": {},
     "output_type": "execute_result"
    },
    {
     "data": {
      "text/plain": [
       "'s he heard the boy say\\n\"I\\'m gonna kill you\"...79'"
      ]
     },
     "execution_count": 23,
     "metadata": {},
     "output_type": "execute_result"
    },
    {
     "data": {
      "text/plain": [
       "'6\\n00:42:15,491 --> 00:42:18,243\\nand a split second'"
      ]
     },
     "execution_count": 23,
     "metadata": {},
     "output_type": "execute_result"
    },
    {
     "data": {
      "text/plain": [
       "' later\\nheard a body hit the floor.797\\n00:42:18,3'"
      ]
     },
     "execution_count": 23,
     "metadata": {},
     "output_type": "execute_result"
    },
    {
     "data": {
      "text/plain": [
       "'28 --> 00:42:19,912\\n- One second later, right?\\n- T'"
      ]
     },
     "execution_count": 23,
     "metadata": {},
     "output_type": "execute_result"
    },
    {
     "data": {
      "text/plain": [
       "\"hat's right.798\\n00:42:19,996 --> 00:42:26,001\\nSe\""
      ]
     },
     "execution_count": 23,
     "metadata": {},
     "output_type": "execute_result"
    },
    {
     "data": {
      "text/plain": [
       "'cond. The woman across the street swore\\npositively'"
      ]
     },
     "execution_count": 23,
     "metadata": {},
     "output_type": "execute_result"
    },
    {
     "data": {
      "text/plain": [
       "' she looked out of the window...799\\n00:42:26,085'"
      ]
     },
     "execution_count": 23,
     "metadata": {},
     "output_type": "execute_result"
    },
    {
     "data": {
      "text/plain": [
       "' --> 00:42:29,421\\nand saw the killing through the '"
      ]
     },
     "execution_count": 23,
     "metadata": {},
     "output_type": "execute_result"
    },
    {
     "data": {
      "text/plain": [
       "'last two\\ncars of the passing elevated train, right'"
      ]
     },
     "execution_count": 23,
     "metadata": {},
     "output_type": "execute_result"
    },
    {
     "data": {
      "text/plain": [
       "'?800\\n00:42:29,505 --> 00:42:31,840\\n- The last tw'"
      ]
     },
     "execution_count": 23,
     "metadata": {},
     "output_type": "execute_result"
    },
    {
     "data": {
      "text/plain": [
       "'o cars.\\n- What are you giving us here?801\\n00:42:'"
      ]
     },
     "execution_count": 23,
     "metadata": {},
     "output_type": "execute_result"
    },
    {
     "data": {
      "text/plain": [
       "'31,925 --> 00:42:33,258\\nNow, just a minute.802\\n0'"
      ]
     },
     "execution_count": 23,
     "metadata": {},
     "output_type": "execute_result"
    },
    {
     "data": {
      "text/plain": [
       "\"0:42:33,343 --> 00:42:37,763\\nWe've agreed that it \""
      ]
     },
     "execution_count": 23,
     "metadata": {},
     "output_type": "execute_result"
    },
    {
     "data": {
      "text/plain": [
       "'takes 10 seconds\\nfor a train to pass a given point'"
      ]
     },
     "execution_count": 23,
     "metadata": {},
     "output_type": "execute_result"
    },
    {
     "data": {
      "text/plain": [
       "'.803\\n00:42:38,598 --> 00:42:41,934\\nSince the wom'"
      ]
     },
     "execution_count": 23,
     "metadata": {},
     "output_type": "execute_result"
    },
    {
     "data": {
      "text/plain": [
       "'an saw the killing\\nthrough the last two cars...8'"
      ]
     },
     "execution_count": 23,
     "metadata": {},
     "output_type": "execute_result"
    },
    {
     "data": {
      "text/plain": [
       "'04\\n00:42:42,018 --> 00:42:46,980\\nwe can assume tha'"
      ]
     },
     "execution_count": 23,
     "metadata": {},
     "output_type": "execute_result"
    },
    {
     "data": {
      "text/plain": [
       "'t the body\\nhit the floor just as the train went by'"
      ]
     },
     "execution_count": 23,
     "metadata": {},
     "output_type": "execute_result"
    },
    {
     "data": {
      "text/plain": [
       "'.805\\n00:42:47,065 --> 00:42:51,526\\nTherefore, th'"
      ]
     },
     "execution_count": 23,
     "metadata": {},
     "output_type": "execute_result"
    },
    {
     "data": {
      "text/plain": [
       "\"e train had been roaring\\nby the old man's window..\""
      ]
     },
     "execution_count": 23,
     "metadata": {},
     "output_type": "execute_result"
    },
    {
     "data": {
      "text/plain": [
       "'.806\\n00:42:51,611 --> 00:42:55,113\\na full 10 sec'"
      ]
     },
     "execution_count": 23,
     "metadata": {},
     "output_type": "execute_result"
    },
    {
     "data": {
      "text/plain": [
       "'onds\\nbefore the body hit the floor.807\\n00:42:55,'"
      ]
     },
     "execution_count": 23,
     "metadata": {},
     "output_type": "execute_result"
    },
    {
     "data": {
      "text/plain": [
       "'198 --> 00:42:57,407\\nThe old man,\\naccording to his'"
      ]
     },
     "execution_count": 23,
     "metadata": {},
     "output_type": "execute_result"
    },
    {
     "data": {
      "text/plain": [
       "' own testimony...808\\n00:42:57,492 --> 00:43:00,4'"
      ]
     },
     "execution_count": 23,
     "metadata": {},
     "output_type": "execute_result"
    },
    {
     "data": {
      "text/plain": [
       "'10\\n\"I\\'m gonna kill you,\" body hitting\\nthe floor a '"
      ]
     },
     "execution_count": 23,
     "metadata": {},
     "output_type": "execute_result"
    },
    {
     "data": {
      "text/plain": [
       "'split second later...809\\n00:43:00,495 --> 00:43:'"
      ]
     },
     "execution_count": 23,
     "metadata": {},
     "output_type": "execute_result"
    },
    {
     "data": {
      "text/plain": [
       "'02,955\\nwould have had to hear the boy\\nmake this st'"
      ]
     },
     "execution_count": 23,
     "metadata": {},
     "output_type": "execute_result"
    },
    {
     "data": {
      "text/plain": [
       "'atement...810\\n00:43:03,039 --> 00:43:04,915\\nwith'"
      ]
     },
     "execution_count": 23,
     "metadata": {},
     "output_type": "execute_result"
    },
    {
     "data": {
      "text/plain": [
       "' the el roaring past his nose.811\\n00:43:04,999 -'"
      ]
     },
     "execution_count": 23,
     "metadata": {},
     "output_type": "execute_result"
    },
    {
     "data": {
      "text/plain": [
       "\"-> 00:43:06,541\\nIt's not possible he could've hear\""
      ]
     },
     "execution_count": 23,
     "metadata": {},
     "output_type": "execute_result"
    },
    {
     "data": {
      "text/plain": [
       "\"d it.812\\n00:43:06,626 --> 00:43:08,794\\n- That's \""
      ]
     },
     "execution_count": 23,
     "metadata": {},
     "output_type": "execute_result"
    },
    {
     "data": {
      "text/plain": [
       "'idiotic. Of course he heard it.\\n- Do you think he '"
      ]
     },
     "execution_count": 23,
     "metadata": {},
     "output_type": "execute_result"
    },
    {
     "data": {
      "text/plain": [
       "\"could've heard it?813\\n00:43:08,878 --> 00:43:11,\""
      ]
     },
     "execution_count": 23,
     "metadata": {},
     "output_type": "execute_result"
    },
    {
     "data": {
      "text/plain": [
       "'255\\nHe said he yelled at the top of his voice.\\nTha'"
      ]
     },
     "execution_count": 23,
     "metadata": {},
     "output_type": "execute_result"
    },
    {
     "data": {
      "text/plain": [
       "\"t's good enough for me.814\\n00:43:11,339 --> 00:4\""
      ]
     },
     "execution_count": 23,
     "metadata": {},
     "output_type": "execute_result"
    },
    {
     "data": {
      "text/plain": [
       "'3:13,590\\nEven if he heard something, he still\\ncoul'"
      ]
     },
     "execution_count": 23,
     "metadata": {},
     "output_type": "execute_result"
    },
    {
     "data": {
      "text/plain": [
       "\"dn't have identified the voice.815\\n00:43:13,675 \""
      ]
     },
     "execution_count": 23,
     "metadata": {},
     "output_type": "execute_result"
    },
    {
     "data": {
      "text/plain": [
       "'--> 00:43:14,800\\nWith the el roaring by?816\\n00:4'"
      ]
     },
     "execution_count": 23,
     "metadata": {},
     "output_type": "execute_result"
    },
    {
     "data": {
      "text/plain": [
       "\"3:14,884 --> 00:43:17,261\\nYou're talking about a m\""
      ]
     },
     "execution_count": 23,
     "metadata": {},
     "output_type": "execute_result"
    },
    {
     "data": {
      "text/plain": [
       "'atter of seconds!\\nNobody can be that accurate.81'"
      ]
     },
     "execution_count": 23,
     "metadata": {},
     "output_type": "execute_result"
    },
    {
     "data": {
      "text/plain": [
       "'7\\n00:43:17,345 --> 00:43:21,974\\nI think testimony '"
      ]
     },
     "execution_count": 23,
     "metadata": {},
     "output_type": "execute_result"
    },
    {
     "data": {
      "text/plain": [
       "'that could put a boy into\\nthe electric chair shoul'"
      ]
     },
     "execution_count": 23,
     "metadata": {},
     "output_type": "execute_result"
    },
    {
     "data": {
      "text/plain": [
       "'d be that accurate.818\\n00:43:24,185 --> 00:43:26'"
      ]
     },
     "execution_count": 23,
     "metadata": {},
     "output_type": "execute_result"
    },
    {
     "data": {
      "text/plain": [
       "\",103\\nYou know something?\\nI don't think he could've\""
      ]
     },
     "execution_count": 23,
     "metadata": {},
     "output_type": "execute_result"
    },
    {
     "data": {
      "text/plain": [
       "' heard it.819\\n00:43:26,187 --> 00:43:28,522\\nMayb'"
      ]
     },
     "execution_count": 23,
     "metadata": {},
     "output_type": "execute_result"
    },
    {
     "data": {
      "text/plain": [
       "\"e he didn't hear it.\\nI mean, with all that el nois\""
      ]
     },
     "execution_count": 23,
     "metadata": {},
     "output_type": "execute_result"
    },
    {
     "data": {
      "text/plain": [
       "'e.820\\n00:43:28,606 --> 00:43:30,482\\nOh, what are'"
      ]
     },
     "execution_count": 23,
     "metadata": {},
     "output_type": "execute_result"
    },
    {
     "data": {
      "text/plain": [
       "' you people talking about?821\\n00:43:30,566 --> 0'"
      ]
     },
     "execution_count": 23,
     "metadata": {},
     "output_type": "execute_result"
    },
    {
     "data": {
      "text/plain": [
       "\"0:43:32,609\\nWell, it stands to reason\\nhe couldn't \""
      ]
     },
     "execution_count": 23,
     "metadata": {},
     "output_type": "execute_result"
    },
    {
     "data": {
      "text/plain": [
       "'have heard it.822\\n00:43:32,694 --> 00:43:34,611\\n'"
      ]
     },
     "execution_count": 23,
     "metadata": {},
     "output_type": "execute_result"
    },
    {
     "data": {
      "text/plain": [
       "\"Why should he lie?\\nWhat's he got to gain?823\\n00:\""
      ]
     },
     "execution_count": 23,
     "metadata": {},
     "output_type": "execute_result"
    },
    {
     "data": {
      "text/plain": [
       "'43:34,696 --> 00:43:36,905\\nAttention maybe.824\\n0'"
      ]
     },
     "execution_count": 23,
     "metadata": {},
     "output_type": "execute_result"
    },
    {
     "data": {
      "text/plain": [
       "'0:43:36,990 --> 00:43:38,907\\nYou keep coming in\\nwi'"
      ]
     },
     "execution_count": 23,
     "metadata": {},
     "output_type": "execute_result"
    },
    {
     "data": {
      "text/plain": [
       "'th these bright sayings!825\\n00:43:38,992 --> 00:'"
      ]
     },
     "execution_count": 23,
     "metadata": {},
     "output_type": "execute_result"
    },
    {
     "data": {
      "text/plain": [
       "\"43:42,035\\nWhy don't you send 'em in to a paper?\\nTh\""
      ]
     },
     "execution_count": 23,
     "metadata": {},
     "output_type": "execute_result"
    },
    {
     "data": {
      "text/plain": [
       "'ey pay three dollars apiece.826\\n00:43:42,120 -->'"
      ]
     },
     "execution_count": 23,
     "metadata": {},
     "output_type": "execute_result"
    },
    {
     "data": {
      "text/plain": [
       "' 00:43:44,329\\nWhat are you talking to him\\nlike tha'"
      ]
     },
     "execution_count": 23,
     "metadata": {},
     "output_type": "execute_result"
    },
    {
     "data": {
      "text/plain": [
       "'t for?827\\n00:43:45,290 --> 00:43:48,709\\nGuy talk'"
      ]
     },
     "execution_count": 23,
     "metadata": {},
     "output_type": "execute_result"
    },
    {
     "data": {
      "text/plain": [
       "'s like that to an old man\\nreally ought to get step'"
      ]
     },
     "execution_count": 23,
     "metadata": {},
     "output_type": "execute_result"
    },
    {
     "data": {
      "text/plain": [
       "'ped on, you know?828\\n00:43:48,793 --> 00:43:50,6'"
      ]
     },
     "execution_count": 23,
     "metadata": {},
     "output_type": "execute_result"
    },
    {
     "data": {
      "text/plain": [
       "'27\\nYou ought to have more respect, mister.829\\n00'"
      ]
     },
     "execution_count": 23,
     "metadata": {},
     "output_type": "execute_result"
    },
    {
     "data": {
      "text/plain": [
       "':43:51,838 --> 00:43:56,216\\nIf you say stuff like '"
      ]
     },
     "execution_count": 23,
     "metadata": {},
     "output_type": "execute_result"
    },
    {
     "data": {
      "text/plain": [
       "\"that to him again,\\nI'm gonna lay you out.830\\n00:\""
      ]
     },
     "execution_count": 23,
     "metadata": {},
     "output_type": "execute_result"
    },
    {
     "data": {
      "text/plain": [
       "'44:06,185 --> 00:44:09,146\\nNow you go ahead.\\nYou -'"
      ]
     },
     "execution_count": 23,
     "metadata": {},
     "output_type": "execute_result"
    },
    {
     "data": {
      "text/plain": [
       "' You say anything you like.831\\n00:44:09,230 --> '"
      ]
     },
     "execution_count": 23,
     "metadata": {},
     "output_type": "execute_result"
    },
    {
     "data": {
      "text/plain": [
       "'00:44:13,275\\nWhy do you think\\nthe old man might li'"
      ]
     },
     "execution_count": 23,
     "metadata": {},
     "output_type": "execute_result"
    },
    {
     "data": {
      "text/plain": [
       "'e?832\\n00:44:13,359 --> 00:44:16,778\\nIt was just '"
      ]
     },
     "execution_count": 23,
     "metadata": {},
     "output_type": "execute_result"
    },
    {
     "data": {
      "text/plain": [
       "'that I looked at him\\nfor a very long time.833\\n00'"
      ]
     },
     "execution_count": 23,
     "metadata": {},
     "output_type": "execute_result"
    },
    {
     "data": {
      "text/plain": [
       "':44:17,405 --> 00:44:20,657\\nThe seams of his jacke'"
      ]
     },
     "execution_count": 23,
     "metadata": {},
     "output_type": "execute_result"
    },
    {
     "data": {
      "text/plain": [
       "'t was split,\\nunder the shoulder.834\\n00:44:20,742'"
      ]
     },
     "execution_count": 23,
     "metadata": {},
     "output_type": "execute_result"
    },
    {
     "data": {
      "text/plain": [
       "' --> 00:44:22,326\\nOr did you notice that?835\\n00:'"
      ]
     },
     "execution_count": 23,
     "metadata": {},
     "output_type": "execute_result"
    },
    {
     "data": {
      "text/plain": [
       "'44:22,410 --> 00:44:24,911\\nI mean, to come to cour'"
      ]
     },
     "execution_count": 23,
     "metadata": {},
     "output_type": "execute_result"
    },
    {
     "data": {
      "text/plain": [
       "'t like that.836\\n00:44:24,996 --> 00:44:26,663\\nWh'"
      ]
     },
     "execution_count": 23,
     "metadata": {},
     "output_type": "execute_result"
    },
    {
     "data": {
      "text/plain": [
       "'y...837\\n00:44:27,790 --> 00:44:31,668\\nHe was a v'"
      ]
     },
     "execution_count": 23,
     "metadata": {},
     "output_type": "execute_result"
    },
    {
     "data": {
      "text/plain": [
       "'ery old man\\nin a torn jacket.838\\n00:44:31,753 --'"
      ]
     },
     "execution_count": 23,
     "metadata": {},
     "output_type": "execute_result"
    },
    {
     "data": {
      "text/plain": [
       "'> 00:44:34,629\\nAnd he walked very slowly\\nto the st'"
      ]
     },
     "execution_count": 23,
     "metadata": {},
     "output_type": "execute_result"
    },
    {
     "data": {
      "text/plain": [
       "'and.839\\n00:44:35,381 --> 00:44:39,426\\nHe was dra'"
      ]
     },
     "execution_count": 23,
     "metadata": {},
     "output_type": "execute_result"
    },
    {
     "data": {
      "text/plain": [
       "'gging his left leg\\nand trying to hide it...840\\n0'"
      ]
     },
     "execution_count": 23,
     "metadata": {},
     "output_type": "execute_result"
    },
    {
     "data": {
      "text/plain": [
       "'0:44:39,510 --> 00:44:41,178\\nbecause he was ashame'"
      ]
     },
     "execution_count": 23,
     "metadata": {},
     "output_type": "execute_result"
    },
    {
     "data": {
      "text/plain": [
       "'d.841\\n00:44:42,305 --> 00:44:45,724\\nI think I kn'"
      ]
     },
     "execution_count": 23,
     "metadata": {},
     "output_type": "execute_result"
    },
    {
     "data": {
      "text/plain": [
       "'ow this man\\nbetter than anyone here.842\\n00:44:46'"
      ]
     },
     "execution_count": 23,
     "metadata": {},
     "output_type": "execute_result"
    },
    {
     "data": {
      "text/plain": [
       "',601 --> 00:44:52,022\\nThis is a quiet, frightened,'"
      ]
     },
     "execution_count": 23,
     "metadata": {},
     "output_type": "execute_result"
    },
    {
     "data": {
      "text/plain": [
       "'\\ninsignificant old man who...843\\n00:44:52,106 --'"
      ]
     },
     "execution_count": 23,
     "metadata": {},
     "output_type": "execute_result"
    },
    {
     "data": {
      "text/plain": [
       "'> 00:44:54,483\\nwho has been nothing all his life..'"
      ]
     },
     "execution_count": 23,
     "metadata": {},
     "output_type": "execute_result"
    },
    {
     "data": {
      "text/plain": [
       "'.844\\n00:44:54,567 --> 00:44:56,985\\nwho has never'"
      ]
     },
     "execution_count": 23,
     "metadata": {},
     "output_type": "execute_result"
    },
    {
     "data": {
      "text/plain": [
       "' had recognition...845\\n00:44:57,070 --> 00:44:59'"
      ]
     },
     "execution_count": 23,
     "metadata": {},
     "output_type": "execute_result"
    },
    {
     "data": {
      "text/plain": [
       "',154\\nor his name in the newspapers.846\\n00:44:59,'"
      ]
     },
     "execution_count": 23,
     "metadata": {},
     "output_type": "execute_result"
    },
    {
     "data": {
      "text/plain": [
       "'822 --> 00:45:02,032\\nNobody knows him.847\\n00:45:'"
      ]
     },
     "execution_count": 23,
     "metadata": {},
     "output_type": "execute_result"
    },
    {
     "data": {
      "text/plain": [
       "'02,116 --> 00:45:04,159\\nNobody quotes him.848\\n00'"
      ]
     },
     "execution_count": 23,
     "metadata": {},
     "output_type": "execute_result"
    },
    {
     "data": {
      "text/plain": [
       "':45:04,243 --> 00:45:08,205\\nNobody seeks his advic'"
      ]
     },
     "execution_count": 23,
     "metadata": {},
     "output_type": "execute_result"
    },
    {
     "data": {
      "text/plain": [
       "'e after 75 years.849\\n00:45:09,040 --> 00:45:12,9'"
      ]
     },
     "execution_count": 23,
     "metadata": {},
     "output_type": "execute_result"
    },
    {
     "data": {
      "text/plain": [
       "\"18\\nGentlemen, that's a very sad thing -\\nto be noth\""
      ]
     },
     "execution_count": 23,
     "metadata": {},
     "output_type": "execute_result"
    },
    {
     "data": {
      "text/plain": [
       "'ing.850\\n00:45:13,628 --> 00:45:17,964\\nA man like'"
      ]
     },
     "execution_count": 23,
     "metadata": {},
     "output_type": "execute_result"
    },
    {
     "data": {
      "text/plain": [
       "' this needs to be quoted,\\nto be listened to.851\\n'"
      ]
     },
     "execution_count": 23,
     "metadata": {},
     "output_type": "execute_result"
    },
    {
     "data": {
      "text/plain": [
       "'00:45:18,591 --> 00:45:20,550\\nTo be quoted just on'"
      ]
     },
     "execution_count": 23,
     "metadata": {},
     "output_type": "execute_result"
    },
    {
     "data": {
      "text/plain": [
       "'ce.852\\n00:45:20,635 --> 00:45:22,511\\nVery import'"
      ]
     },
     "execution_count": 23,
     "metadata": {},
     "output_type": "execute_result"
    },
    {
     "data": {
      "text/plain": [
       "'ant to him.853\\n00:45:23,012 --> 00:45:25,430\\nIt '"
      ]
     },
     "execution_count": 23,
     "metadata": {},
     "output_type": "execute_result"
    },
    {
     "data": {
      "text/plain": [
       "'would be so hard for him\\nto recede into the backgr'"
      ]
     },
     "execution_count": 23,
     "metadata": {},
     "output_type": "execute_result"
    },
    {
     "data": {
      "text/plain": [
       "'ound...854\\n00:45:25,515 --> 00:45:27,224\\n- Wait '"
      ]
     },
     "execution_count": 23,
     "metadata": {},
     "output_type": "execute_result"
    },
    {
     "data": {
      "text/plain": [
       "'a minute.\\n- When there was a chance...855\\n00:45:'"
      ]
     },
     "execution_count": 23,
     "metadata": {},
     "output_type": "execute_result"
    },
    {
     "data": {
      "text/plain": [
       "'27,308 --> 00:45:30,185\\nWhat are you trying to do '"
      ]
     },
     "execution_count": 23,
     "metadata": {},
     "output_type": "execute_result"
    },
    {
     "data": {
      "text/plain": [
       "\"- tell us he'd\\nlie just so he could be important o\""
      ]
     },
     "execution_count": 23,
     "metadata": {},
     "output_type": "execute_result"
    },
    {
     "data": {
      "text/plain": [
       "'nce?856\\n00:45:30,269 --> 00:45:32,896\\nNo. He wou'"
      ]
     },
     "execution_count": 23,
     "metadata": {},
     "output_type": "execute_result"
    },
    {
     "data": {
      "text/plain": [
       "\"ldn't really lie.857\\n00:45:32,980 --> 00:45:36,4\""
      ]
     },
     "execution_count": 23,
     "metadata": {},
     "output_type": "execute_result"
    },
    {
     "data": {
      "text/plain": [
       "'41\\nBut perhaps he made himself believe\\nhe heard th'"
      ]
     },
     "execution_count": 23,
     "metadata": {},
     "output_type": "execute_result"
    },
    {
     "data": {
      "text/plain": [
       "'ose words...858\\n00:45:36,526 --> 00:45:38,735\\nan'"
      ]
     },
     "execution_count": 23,
     "metadata": {},
     "output_type": "execute_result"
    },
    {
     "data": {
      "text/plain": [
       "\"d recognized the boy's face.859\\n00:45:38,820 -->\""
      ]
     },
     "execution_count": 23,
     "metadata": {},
     "output_type": "execute_result"
    },
    {
     "data": {
      "text/plain": [
       "\" 00:45:41,113\\nThat's the most fantastic story\\nI've\""
      ]
     },
     "execution_count": 23,
     "metadata": {},
     "output_type": "execute_result"
    },
    {
     "data": {
      "text/plain": [
       "' ever heard.860\\n00:45:41,197 --> 00:45:44,241\\nHo'"
      ]
     },
     "execution_count": 23,
     "metadata": {},
     "output_type": "execute_result"
    },
    {
     "data": {
      "text/plain": [
       "'w can you make up a thing like that?\\nWhat do you k'"
      ]
     },
     "execution_count": 23,
     "metadata": {},
     "output_type": "execute_result"
    },
    {
     "data": {
      "text/plain": [
       "'now about it?861\\n00:45:53,292 --> 00:45:55,335\\nO'"
      ]
     },
     "execution_count": 23,
     "metadata": {},
     "output_type": "execute_result"
    },
    {
     "data": {
      "text/plain": [
       "'h, uh, does anybody\\nwant a cough drop?862\\n00:45:'"
      ]
     },
     "execution_count": 23,
     "metadata": {},
     "output_type": "execute_result"
    },
    {
     "data": {
      "text/plain": [
       "\"55,420 --> 00:45:57,671\\n- No, thanks.\\n- I'll take \""
      ]
     },
     "execution_count": 23,
     "metadata": {},
     "output_type": "execute_result"
    },
    {
     "data": {
      "text/plain": [
       "'one.863\\n00:45:57,755 --> 00:46:01,258\\nYou can sa'"
      ]
     },
     "execution_count": 23,
     "metadata": {},
     "output_type": "execute_result"
    },
    {
     "data": {
      "text/plain": [
       "\"y what you like. I still don't\\nsee how anybody can\""
      ]
     },
     "execution_count": 23,
     "metadata": {},
     "output_type": "execute_result"
    },
    {
     "data": {
      "text/plain": [
       "\" think he's not guilty.864\\n00:46:01,342 --> 00:4\""
      ]
     },
     "execution_count": 23,
     "metadata": {},
     "output_type": "execute_result"
    },
    {
     "data": {
      "text/plain": [
       "\"6:03,844\\nThere's something else\\nI'd like to talk a\""
      ]
     },
     "execution_count": 23,
     "metadata": {},
     "output_type": "execute_result"
    },
    {
     "data": {
      "text/plain": [
       "'bout for a minute.865\\n00:46:03,928 --> 00:46:05,'"
      ]
     },
     "execution_count": 23,
     "metadata": {},
     "output_type": "execute_result"
    },
    {
     "data": {
      "text/plain": [
       "'554\\nThanks.866\\n00:46:05,638 --> 00:46:08,932\\nI t'"
      ]
     },
     "execution_count": 23,
     "metadata": {},
     "output_type": "execute_result"
    },
    {
     "data": {
      "text/plain": [
       "\"hink we've proved that the old man couldn't\\nhave h\""
      ]
     },
     "execution_count": 23,
     "metadata": {},
     "output_type": "execute_result"
    },
    {
     "data": {
      "text/plain": [
       "'eard the boy say \"I\\'m gonna kill you.\"867\\n00:46:'"
      ]
     },
     "execution_count": 23,
     "metadata": {},
     "output_type": "execute_result"
    },
    {
     "data": {
      "text/plain": [
       "'09,016 --> 00:46:10,600\\n- But supposing -\\n- You di'"
      ]
     },
     "execution_count": 23,
     "metadata": {},
     "output_type": "execute_result"
    },
    {
     "data": {
      "text/plain": [
       "\"dn't prove it at all.868\\n00:46:10,685 --> 00:46:\""
      ]
     },
     "execution_count": 23,
     "metadata": {},
     "output_type": "execute_result"
    },
    {
     "data": {
      "text/plain": [
       "'13,478\\n- What are you talking about?\\n- Supposing h'"
      ]
     },
     "execution_count": 23,
     "metadata": {},
     "output_type": "execute_result"
    },
    {
     "data": {
      "text/plain": [
       "'e really did hear it.869\\n00:46:13,563 --> 00:46:'"
      ]
     },
     "execution_count": 23,
     "metadata": {},
     "output_type": "execute_result"
    },
    {
     "data": {
      "text/plain": [
       "'15,981\\nThis phrase, how many times\\nhave all of us '"
      ]
     },
     "execution_count": 23,
     "metadata": {},
     "output_type": "execute_result"
    },
    {
     "data": {
      "text/plain": [
       "'used it?870\\n00:46:16,065 --> 00:46:17,566\\nProbab'"
      ]
     },
     "execution_count": 23,
     "metadata": {},
     "output_type": "execute_result"
    },
    {
     "data": {
      "text/plain": [
       "'ly thousands.871\\n00:46:17,650 --> 00:46:19,276\\n\"'"
      ]
     },
     "execution_count": 23,
     "metadata": {},
     "output_type": "execute_result"
    },
    {
     "data": {
      "text/plain": [
       "'I could kill you for that, darling.\"872\\n00:46:19'"
      ]
     },
     "execution_count": 23,
     "metadata": {},
     "output_type": "execute_result"
    },
    {
     "data": {
      "text/plain": [
       "',360 --> 00:46:21,278\\n\"Junior, you do that once mo'"
      ]
     },
     "execution_count": 23,
     "metadata": {},
     "output_type": "execute_result"
    },
    {
     "data": {
      "text/plain": [
       "'re,\\nand I\\'m gonna kill you.\"873\\n00:46:21,362 -->'"
      ]
     },
     "execution_count": 23,
     "metadata": {},
     "output_type": "execute_result"
    },
    {
     "data": {
      "text/plain": [
       "' 00:46:22,654\\n\"Get in there, Rocky, and kill him.\"'"
      ]
     },
     "execution_count": 23,
     "metadata": {},
     "output_type": "execute_result"
    },
    {
     "data": {
      "text/plain": [
       "'874\\n00:46:22,738 --> 00:46:24,614\\nWe say it ever'"
      ]
     },
     "execution_count": 23,
     "metadata": {},
     "output_type": "execute_result"
    },
    {
     "data": {
      "text/plain": [
       "\"y day. That doesn't mean\\nwe're really gonna kill a\""
      ]
     },
     "execution_count": 23,
     "metadata": {},
     "output_type": "execute_result"
    },
    {
     "data": {
      "text/plain": [
       "'nybody.875\\n00:46:24,699 --> 00:46:26,491\\nWait a '"
      ]
     },
     "execution_count": 23,
     "metadata": {},
     "output_type": "execute_result"
    },
    {
     "data": {
      "text/plain": [
       "'minute.\\nWhat are you trying to give us here?876\\n'"
      ]
     },
     "execution_count": 23,
     "metadata": {},
     "output_type": "execute_result"
    },
    {
     "data": {
      "text/plain": [
       "'00:46:26,576 --> 00:46:30,287\\nThe phrase was \"I\\'m '"
      ]
     },
     "execution_count": 23,
     "metadata": {},
     "output_type": "execute_result"
    },
    {
     "data": {
      "text/plain": [
       "'gonna kill you.\"\\nThe kid yelled it at the top of h'"
      ]
     },
     "execution_count": 23,
     "metadata": {},
     "output_type": "execute_result"
    },
    {
     "data": {
      "text/plain": [
       "\"is lungs.877\\n00:46:30,371 --> 00:46:31,705\\nDon't\""
      ]
     },
     "execution_count": 23,
     "metadata": {},
     "output_type": "execute_result"
    },
    {
     "data": {
      "text/plain": [
       "\" tell me he didn't mean it.878\\n00:46:31,789 --> \""
      ]
     },
     "execution_count": 23,
     "metadata": {},
     "output_type": "execute_result"
    },
    {
     "data": {
      "text/plain": [
       "'00:46:34,082\\nAnybody says a thing like that\\nthe wa'"
      ]
     },
     "execution_count": 23,
     "metadata": {},
     "output_type": "execute_result"
    },
    {
     "data": {
      "text/plain": [
       "'y he said it, they mean it.879\\n00:46:34,167 --> '"
      ]
     },
     "execution_count": 23,
     "metadata": {},
     "output_type": "execute_result"
    },
    {
     "data": {
      "text/plain": [
       "\"00:46:35,625\\nWell, gee, now I don't know.880\\n00:\""
      ]
     },
     "execution_count": 23,
     "metadata": {},
     "output_type": "execute_result"
    },
    {
     "data": {
      "text/plain": [
       "'46:35,710 --> 00:46:40,422\\nI remember I was arguin'"
      ]
     },
     "execution_count": 23,
     "metadata": {},
     "output_type": "execute_result"
    },
    {
     "data": {
      "text/plain": [
       "'g with a guy I work\\nnext to at the bank a couple w'"
      ]
     },
     "execution_count": 23,
     "metadata": {},
     "output_type": "execute_result"
    },
    {
     "data": {
      "text/plain": [
       "'eeks ago.881\\n00:46:40,506 --> 00:46:42,257\\nHe ca'"
      ]
     },
     "execution_count": 23,
     "metadata": {},
     "output_type": "execute_result"
    },
    {
     "data": {
      "text/plain": [
       "'lled me an idiot, so I yelled at him.882\\n00:46:4'"
      ]
     },
     "execution_count": 23,
     "metadata": {},
     "output_type": "execute_result"
    },
    {
     "data": {
      "text/plain": [
       "\"2,341 --> 00:46:45,302\\nNow listen! This guy's tryi\""
      ]
     },
     "execution_count": 23,
     "metadata": {},
     "output_type": "execute_result"
    },
    {
     "data": {
      "text/plain": [
       "\"ng to make you\\nbelieve things that aren't so.883\""
      ]
     },
     "execution_count": 23,
     "metadata": {},
     "output_type": "execute_result"
    },
    {
     "data": {
      "text/plain": [
       "'\\n00:46:45,386 --> 00:46:47,471\\nThe kid said he was'"
      ]
     },
     "execution_count": 23,
     "metadata": {},
     "output_type": "execute_result"
    },
    {
     "data": {
      "text/plain": [
       "' gonna kill him,\\nand he did kill him.884\\n00:46:4'"
      ]
     },
     "execution_count": 23,
     "metadata": {},
     "output_type": "execute_result"
    },
    {
     "data": {
      "text/plain": [
       "'7,555 --> 00:46:50,515\\nLet me ask you this. Do you'"
      ]
     },
     "execution_count": 23,
     "metadata": {},
     "output_type": "execute_result"
    },
    {
     "data": {
      "text/plain": [
       "' really think the\\nboy would shout out a thing like'"
      ]
     },
     "execution_count": 23,
     "metadata": {},
     "output_type": "execute_result"
    },
    {
     "data": {
      "text/plain": [
       "' that...885\\n00:46:50,600 --> 00:46:52,392\\nso the'"
      ]
     },
     "execution_count": 23,
     "metadata": {},
     "output_type": "execute_result"
    },
    {
     "data": {
      "text/plain": [
       "' whole neighborhood could hear him?886\\n00:46:52,'"
      ]
     },
     "execution_count": 23,
     "metadata": {},
     "output_type": "execute_result"
    },
    {
     "data": {
      "text/plain": [
       "\"477 --> 00:46:54,311\\nI don't think so.\\nHe's much t\""
      ]
     },
     "execution_count": 23,
     "metadata": {},
     "output_type": "execute_result"
    },
    {
     "data": {
      "text/plain": [
       "'oo bright for that.887\\n00:46:54,395 --> 00:46:59'"
      ]
     },
     "execution_count": 23,
     "metadata": {},
     "output_type": "execute_result"
    },
    {
     "data": {
      "text/plain": [
       "\",149\\nBright? He's a common ignorant slob.\\nHe don't\""
      ]
     },
     "execution_count": 23,
     "metadata": {},
     "output_type": "execute_result"
    },
    {
     "data": {
      "text/plain": [
       "' even speak good English.888\\n00:46:59,233 --> 00'"
      ]
     },
     "execution_count": 23,
     "metadata": {},
     "output_type": "execute_result"
    },
    {
     "data": {
      "text/plain": [
       "':47:02,068\\n\"He doesn\\'t even speak good English.\"'"
      ]
     },
     "execution_count": 23,
     "metadata": {},
     "output_type": "execute_result"
    },
    {
     "data": {
      "text/plain": [
       "\"889\\n00:47:04,530 --> 00:47:08,325\\nMr. Foreman, I'd\""
      ]
     },
     "execution_count": 23,
     "metadata": {},
     "output_type": "execute_result"
    },
    {
     "data": {
      "text/plain": [
       "' like\\nto change my vote to not guilty.890\\n00:47:'"
      ]
     },
     "execution_count": 23,
     "metadata": {},
     "output_type": "execute_result"
    },
    {
     "data": {
      "text/plain": [
       "'08,409 --> 00:47:09,826\\nYou what?891\\n00:47:09,91'"
      ]
     },
     "execution_count": 23,
     "metadata": {},
     "output_type": "execute_result"
    },
    {
     "data": {
      "text/plain": [
       "'1 --> 00:47:12,329\\n- You heard me.\\n- Are you sure?'"
      ]
     },
     "execution_count": 23,
     "metadata": {},
     "output_type": "execute_result"
    },
    {
     "data": {
      "text/plain": [
       "\"892\\n00:47:13,247 --> 00:47:14,664\\nYeah, I'm sure\""
      ]
     },
     "execution_count": 23,
     "metadata": {},
     "output_type": "execute_result"
    },
    {
     "data": {
      "text/plain": [
       "'.893\\n00:47:14,749 --> 00:47:17,209\\nThe vote is n'"
      ]
     },
     "execution_count": 23,
     "metadata": {},
     "output_type": "execute_result"
    },
    {
     "data": {
      "text/plain": [
       "'ine to three,\\nfavor of guilty.894\\n00:47:17,293 -'"
      ]
     },
     "execution_count": 23,
     "metadata": {},
     "output_type": "execute_result"
    },
    {
     "data": {
      "text/plain": [
       "\"-> 00:47:20,086\\nWell, if this isn't the living end\""
      ]
     },
     "execution_count": 23,
     "metadata": {},
     "output_type": "execute_result"
    },
    {
     "data": {
      "text/plain": [
       "'. Huh?895\\n00:47:24,133 --> 00:47:26,885\\nWhat are'"
      ]
     },
     "execution_count": 23,
     "metadata": {},
     "output_type": "execute_result"
    },
    {
     "data": {
      "text/plain": [
       "' you basing it on -\\nthe stories this guy made up?\\n'"
      ]
     },
     "execution_count": 23,
     "metadata": {},
     "output_type": "execute_result"
    },
    {
     "data": {
      "text/plain": [
       "'\\n896\\n00:47:27,512 --> 00:47:29,846\\nYou ought to wr'"
      ]
     },
     "execution_count": 23,
     "metadata": {},
     "output_type": "execute_result"
    },
    {
     "data": {
      "text/plain": [
       "'ite for one of those\\nkooky detective magazines.8'"
      ]
     },
     "execution_count": 23,
     "metadata": {},
     "output_type": "execute_result"
    },
    {
     "data": {
      "text/plain": [
       "\"97\\n00:47:29,931 --> 00:47:31,765\\nYou'd make a fort\""
      ]
     },
     "execution_count": 23,
     "metadata": {},
     "output_type": "execute_result"
    },
    {
     "data": {
      "text/plain": [
       "'une.898\\n00:47:31,849 --> 00:47:35,268\\nFor crying'"
      ]
     },
     "execution_count": 23,
     "metadata": {},
     "output_type": "execute_result"
    },
    {
     "data": {
      "text/plain": [
       "\" out loud. The kid's own lawyer\\nknew he didn't sta\""
      ]
     },
     "execution_count": 23,
     "metadata": {},
     "output_type": "execute_result"
    },
    {
     "data": {
      "text/plain": [
       "'nd a chance.899\\n00:47:35,770 --> 00:47:37,354\\nRi'"
      ]
     },
     "execution_count": 23,
     "metadata": {},
     "output_type": "execute_result"
    },
    {
     "data": {
      "text/plain": [
       "'ght from the beginning,\\nhis own lawyer knew it.9'"
      ]
     },
     "execution_count": 23,
     "metadata": {},
     "output_type": "execute_result"
    },
    {
     "data": {
      "text/plain": [
       "'00\\n00:47:37,438 --> 00:47:39,231\\nYou could see it.'"
      ]
     },
     "execution_count": 23,
     "metadata": {},
     "output_type": "execute_result"
    },
    {
     "data": {
      "text/plain": [
       "'901\\n00:47:39,315 --> 00:47:42,901\\nBoy, oh, boy. '"
      ]
     },
     "execution_count": 23,
     "metadata": {},
     "output_type": "execute_result"
    },
    {
     "data": {
      "text/plain": [
       "\"I'm tellin' you,\\nthis guy here is really something\""
      ]
     },
     "execution_count": 23,
     "metadata": {},
     "output_type": "execute_result"
    },
    {
     "data": {
      "text/plain": [
       "'.902\\n00:47:43,736 --> 00:47:45,529\\nLook, the kid'"
      ]
     },
     "execution_count": 23,
     "metadata": {},
     "output_type": "execute_result"
    },
    {
     "data": {
      "text/plain": [
       "\" had a lawyer, didn't he?903\\n00:47:45,613 --> 00\""
      ]
     },
     "execution_count": 23,
     "metadata": {},
     "output_type": "execute_result"
    },
    {
     "data": {
      "text/plain": [
       "':47:48,448\\nHe presented his case, not you.\\nHow com'"
      ]
     },
     "execution_count": 23,
     "metadata": {},
     "output_type": "execute_result"
    },
    {
     "data": {
      "text/plain": [
       "'e you got so much to say?904\\n00:47:48,533 --> 00'"
      ]
     },
     "execution_count": 23,
     "metadata": {},
     "output_type": "execute_result"
    },
    {
     "data": {
      "text/plain": [
       "\":47:51,368\\n- Look, lawyers aren't infallible, you \""
      ]
     },
     "execution_count": 23,
     "metadata": {},
     "output_type": "execute_result"
    },
    {
     "data": {
      "text/plain": [
       "'know.\\n- Baltimore, please. Huh?905\\n00:47:51,452 '"
      ]
     },
     "execution_count": 23,
     "metadata": {},
     "output_type": "execute_result"
    },
    {
     "data": {
      "text/plain": [
       "'--> 00:47:53,161\\nHe was court-appointed.906\\n00:4'"
      ]
     },
     "execution_count": 23,
     "metadata": {},
     "output_type": "execute_result"
    },
    {
     "data": {
      "text/plain": [
       "\"7:53,246 --> 00:47:55,080\\n- What's that supposed t\""
      ]
     },
     "execution_count": 23,
     "metadata": {},
     "output_type": "execute_result"
    },
    {
     "data": {
      "text/plain": [
       "'o mean?\\n- It could mean a lot of things.907\\n00:4'"
      ]
     },
     "execution_count": 23,
     "metadata": {},
     "output_type": "execute_result"
    },
    {
     "data": {
      "text/plain": [
       "\"7:55,164 --> 00:47:58,416\\nIt could mean he didn't \""
      ]
     },
     "execution_count": 23,
     "metadata": {},
     "output_type": "execute_result"
    },
    {
     "data": {
      "text/plain": [
       "'want the case,\\nor he resented being appointed.90'"
      ]
     },
     "execution_count": 23,
     "metadata": {},
     "output_type": "execute_result"
    },
    {
     "data": {
      "text/plain": [
       "\"8\\n00:47:58,501 --> 00:48:00,335\\nIt's the kind of c\""
      ]
     },
     "execution_count": 23,
     "metadata": {},
     "output_type": "execute_result"
    },
    {
     "data": {
      "text/plain": [
       "'ase\\nthat brings him nothing...909\\n00:48:00,419 -'"
      ]
     },
     "execution_count": 23,
     "metadata": {},
     "output_type": "execute_result"
    },
    {
     "data": {
      "text/plain": [
       "'-> 00:48:03,380\\nno money, no glory,\\nnot even much '"
      ]
     },
     "execution_count": 23,
     "metadata": {},
     "output_type": "execute_result"
    },
    {
     "data": {
      "text/plain": [
       "'chance of winning.910\\n00:48:03,464 --> 00:48:06,'"
      ]
     },
     "execution_count": 23,
     "metadata": {},
     "output_type": "execute_result"
    },
    {
     "data": {
      "text/plain": [
       "\"383\\nThat's not a very promising situation\\nfor a yo\""
      ]
     },
     "execution_count": 23,
     "metadata": {},
     "output_type": "execute_result"
    },
    {
     "data": {
      "text/plain": [
       "\"ung lawyer.911\\n00:48:06,467 --> 00:48:09,386\\nHe'\""
      ]
     },
     "execution_count": 23,
     "metadata": {},
     "output_type": "execute_result"
    },
    {
     "data": {
      "text/plain": [
       "'d really have to believe in his client\\nto put up a'"
      ]
     },
     "execution_count": 23,
     "metadata": {},
     "output_type": "execute_result"
    },
    {
     "data": {
      "text/plain": [
       "'ny kind of a good case...912\\n00:48:09,470 --> 00'"
      ]
     },
     "execution_count": 23,
     "metadata": {},
     "output_type": "execute_result"
    },
    {
     "data": {
      "text/plain": [
       "':48:11,471\\nand, as you pointed out a minute ago,\\no'"
      ]
     },
     "execution_count": 23,
     "metadata": {},
     "output_type": "execute_result"
    },
    {
     "data": {
      "text/plain": [
       "\"bviously he didn't.913\\n00:48:11,556 --> 00:48:14\""
      ]
     },
     "execution_count": 23,
     "metadata": {},
     "output_type": "execute_result"
    },
    {
     "data": {
      "text/plain": [
       "\",391\\nOf course he didn't. Huh.914\\n00:48:14,475 -\""
      ]
     },
     "execution_count": 23,
     "metadata": {},
     "output_type": "execute_result"
    },
    {
     "data": {
      "text/plain": [
       "'-> 00:48:16,768\\nWho the heck could?915\\n00:48:16,'"
      ]
     },
     "execution_count": 23,
     "metadata": {},
     "output_type": "execute_result"
    },
    {
     "data": {
      "text/plain": [
       "\"852 --> 00:48:19,771\\nExcept maybe\\nsome guy's mothe\""
      ]
     },
     "execution_count": 23,
     "metadata": {},
     "output_type": "execute_result"
    },
    {
     "data": {
      "text/plain": [
       "'r or somebody. I...916\\n00:48:19,855 --> 00:48:22'"
      ]
     },
     "execution_count": 23,
     "metadata": {},
     "output_type": "execute_result"
    },
    {
     "data": {
      "text/plain": [
       "',107\\nAh, look.\\nWill you look at the time, huh?91'"
      ]
     },
     "execution_count": 23,
     "metadata": {},
     "output_type": "execute_result"
    },
    {
     "data": {
      "text/plain": [
       "'7\\n00:48:22,191 --> 00:48:24,734\\n- Come on. For cry'"
      ]
     },
     "execution_count": 23,
     "metadata": {},
     "output_type": "execute_result"
    },
    {
     "data": {
      "text/plain": [
       "'ing out -\\n- Pardon me.918\\n00:48:24,819 --> 00:48'"
      ]
     },
     "execution_count": 23,
     "metadata": {},
     "output_type": "execute_result"
    },
    {
     "data": {
      "text/plain": [
       "':27,153\\n- I have made some notes here -\\n- Notes.'"
      ]
     },
     "execution_count": 23,
     "metadata": {},
     "output_type": "execute_result"
    },
    {
     "data": {
      "text/plain": [
       "'919\\n00:48:27,238 --> 00:48:29,864\\nAnd I would like'"
      ]
     },
     "execution_count": 23,
     "metadata": {},
     "output_type": "execute_result"
    },
    {
     "data": {
      "text/plain": [
       "' to -\\nplease, to say something.920\\n00:48:29,949 '"
      ]
     },
     "execution_count": 23,
     "metadata": {},
     "output_type": "execute_result"
    },
    {
     "data": {
      "text/plain": [
       "'--> 00:48:32,200\\n- Yeah.\\n- I have been listening v'"
      ]
     },
     "execution_count": 23,
     "metadata": {},
     "output_type": "execute_result"
    },
    {
     "data": {
      "text/plain": [
       "'ery carefully.921\\n00:48:32,285 --> 00:48:36,705\\n'"
      ]
     },
     "execution_count": 23,
     "metadata": {},
     "output_type": "execute_result"
    },
    {
     "data": {
      "text/plain": [
       "'And, uh, it seems to me that this man\\nhas some ver'"
      ]
     },
     "execution_count": 23,
     "metadata": {},
     "output_type": "execute_result"
    },
    {
     "data": {
      "text/plain": [
       "'y good points to make.922\\n00:48:36,789 --> 00:48'"
      ]
     },
     "execution_count": 23,
     "metadata": {},
     "output_type": "execute_result"
    },
    {
     "data": {
      "text/plain": [
       "':41,418\\nFrom what was presented at the trial,\\nthe '"
      ]
     },
     "execution_count": 23,
     "metadata": {},
     "output_type": "execute_result"
    },
    {
     "data": {
      "text/plain": [
       "'boy looks guilty on the surface.923\\n00:48:41,502'"
      ]
     },
     "execution_count": 23,
     "metadata": {},
     "output_type": "execute_result"
    },
    {
     "data": {
      "text/plain": [
       "' --> 00:48:45,589\\n- But maybe if we go deeper?\\n- O'"
      ]
     },
     "execution_count": 23,
     "metadata": {},
     "output_type": "execute_result"
    },
    {
     "data": {
      "text/plain": [
       "'h, come on, will ya?924\\n00:48:45,673 --> 00:48:4'"
      ]
     },
     "execution_count": 23,
     "metadata": {},
     "output_type": "execute_result"
    },
    {
     "data": {
      "text/plain": [
       "'7,966\\nThere is a question I would like to ask.92'"
      ]
     },
     "execution_count": 23,
     "metadata": {},
     "output_type": "execute_result"
    },
    {
     "data": {
      "text/plain": [
       "'5\\n00:48:48,050 --> 00:48:51,344\\nLet us assume that'"
      ]
     },
     "execution_count": 23,
     "metadata": {},
     "output_type": "execute_result"
    },
    {
     "data": {
      "text/plain": [
       "' the boy\\nreally did commit the murder.926\\n00:48:'"
      ]
     },
     "execution_count": 23,
     "metadata": {},
     "output_type": "execute_result"
    },
    {
     "data": {
      "text/plain": [
       "'51,429 --> 00:48:54,764\\nNow, this happened\\nat 10 m'"
      ]
     },
     "execution_count": 23,
     "metadata": {},
     "output_type": "execute_result"
    },
    {
     "data": {
      "text/plain": [
       "'inutes after 12:00.927\\n00:48:54,849 --> 00:48:57'"
      ]
     },
     "execution_count": 23,
     "metadata": {},
     "output_type": "execute_result"
    },
    {
     "data": {
      "text/plain": [
       "',309\\nNow, how was he caught by the police?928\\n00'"
      ]
     },
     "execution_count": 23,
     "metadata": {},
     "output_type": "execute_result"
    },
    {
     "data": {
      "text/plain": [
       "':48:57,393 --> 00:49:01,896\\nHe came back home, uh,'"
      ]
     },
     "execution_count": 23,
     "metadata": {},
     "output_type": "execute_result"
    },
    {
     "data": {
      "text/plain": [
       "' at 3:00 or so...929\\n00:49:01,981 --> 00:49:05,7'"
      ]
     },
     "execution_count": 23,
     "metadata": {},
     "output_type": "execute_result"
    },
    {
     "data": {
      "text/plain": [
       "'34\\nand he was captured by two detectives\\nin the ha'"
      ]
     },
     "execution_count": 23,
     "metadata": {},
     "output_type": "execute_result"
    },
    {
     "data": {
      "text/plain": [
       "'llway of his house.930\\n00:49:05,818 --> 00:49:10'"
      ]
     },
     "execution_count": 23,
     "metadata": {},
     "output_type": "execute_result"
    },
    {
     "data": {
      "text/plain": [
       "',405\\nNow, my question is,\\nif he really had killed '"
      ]
     },
     "execution_count": 23,
     "metadata": {},
     "output_type": "execute_result"
    },
    {
     "data": {
      "text/plain": [
       "'his father...931\\n00:49:10,489 --> 00:49:13,700\\nw'"
      ]
     },
     "execution_count": 23,
     "metadata": {},
     "output_type": "execute_result"
    },
    {
     "data": {
      "text/plain": [
       "'hy would he come back home\\nthree hours later?932'"
      ]
     },
     "execution_count": 23,
     "metadata": {},
     "output_type": "execute_result"
    },
    {
     "data": {
      "text/plain": [
       "\"\\n00:49:13,784 --> 00:49:16,661\\nWouldn't he be afra\""
      ]
     },
     "execution_count": 23,
     "metadata": {},
     "output_type": "execute_result"
    },
    {
     "data": {
      "text/plain": [
       "'id of being caught?933\\n00:49:16,746 --> 00:49:18'"
      ]
     },
     "execution_count": 23,
     "metadata": {},
     "output_type": "execute_result"
    },
    {
     "data": {
      "text/plain": [
       "',496\\nHe came home to get his knife.934\\n00:49:18,'"
      ]
     },
     "execution_count": 23,
     "metadata": {},
     "output_type": "execute_result"
    },
    {
     "data": {
      "text/plain": [
       "\"581 --> 00:49:21,124\\nIt's not nice to go around le\""
      ]
     },
     "execution_count": 23,
     "metadata": {},
     "output_type": "execute_result"
    },
    {
     "data": {
      "text/plain": [
       "\"aving knives\\nsticking in people's chests.935\\n00:\""
      ]
     },
     "execution_count": 23,
     "metadata": {},
     "output_type": "execute_result"
    },
    {
     "data": {
      "text/plain": [
       "'49:21,208 --> 00:49:23,960\\n- Yeah, especially rela'"
      ]
     },
     "execution_count": 23,
     "metadata": {},
     "output_type": "execute_result"
    },
    {
     "data": {
      "text/plain": [
       "'tives.\\n- Yeah.936\\n00:49:24,045 --> 00:49:26,296\\n'"
      ]
     },
     "execution_count": 23,
     "metadata": {},
     "output_type": "execute_result"
    },
    {
     "data": {
      "text/plain": [
       "\"I don't see anything funny about it.937\\n00:49:26\""
      ]
     },
     "execution_count": 23,
     "metadata": {},
     "output_type": "execute_result"
    },
    {
     "data": {
      "text/plain": [
       "',380 --> 00:49:29,924\\nThe boy knew the knife could'"
      ]
     },
     "execution_count": 23,
     "metadata": {},
     "output_type": "execute_result"
    },
    {
     "data": {
      "text/plain": [
       "' be identified\\nas the one he had just bought.938'"
      ]
     },
     "execution_count": 23,
     "metadata": {},
     "output_type": "execute_result"
    },
    {
     "data": {
      "text/plain": [
       "'\\n00:49:30,009 --> 00:49:32,177\\nHe had to get it be'"
      ]
     },
     "execution_count": 23,
     "metadata": {},
     "output_type": "execute_result"
    },
    {
     "data": {
      "text/plain": [
       "'fore the police did.939\\n00:49:32,261 --> 00:49:3'"
      ]
     },
     "execution_count": 23,
     "metadata": {},
     "output_type": "execute_result"
    },
    {
     "data": {
      "text/plain": [
       "'6,723\\nBut if he knew the knife could be identified'"
      ]
     },
     "execution_count": 23,
     "metadata": {},
     "output_type": "execute_result"
    },
    {
     "data": {
      "text/plain": [
       "',\\nwhy did he leave it there in the first place?9'"
      ]
     },
     "execution_count": 23,
     "metadata": {},
     "output_type": "execute_result"
    },
    {
     "data": {
      "text/plain": [
       "'40\\n00:49:37,266 --> 00:49:40,143\\nWell, I think we '"
      ]
     },
     "execution_count": 23,
     "metadata": {},
     "output_type": "execute_result"
    },
    {
     "data": {
      "text/plain": [
       "'can assume\\nthe boy ran out in a state of panic...\\n'"
      ]
     },
     "execution_count": 23,
     "metadata": {},
     "output_type": "execute_result"
    },
    {
     "data": {
      "text/plain": [
       "'\\n941\\n00:49:40,227 --> 00:49:42,604\\nafter having ju'"
      ]
     },
     "execution_count": 23,
     "metadata": {},
     "output_type": "execute_result"
    },
    {
     "data": {
      "text/plain": [
       "'st killed his father.942\\n00:49:42,688 --> 00:49:'"
      ]
     },
     "execution_count": 23,
     "metadata": {},
     "output_type": "execute_result"
    },
    {
     "data": {
      "text/plain": [
       "'45,649\\nWhen he finally calmed down,\\nhe realized he'"
      ]
     },
     "execution_count": 23,
     "metadata": {},
     "output_type": "execute_result"
    },
    {
     "data": {
      "text/plain": [
       "' had left his knife there.943\\n00:49:45,733 --> 0'"
      ]
     },
     "execution_count": 23,
     "metadata": {},
     "output_type": "execute_result"
    },
    {
     "data": {
      "text/plain": [
       "'0:49:48,652\\nAh. This then depends\\non your definiti'"
      ]
     },
     "execution_count": 23,
     "metadata": {},
     "output_type": "execute_result"
    },
    {
     "data": {
      "text/plain": [
       "'on of panic.944\\n00:49:48,736 --> 00:49:51,112\\nHe'"
      ]
     },
     "execution_count": 23,
     "metadata": {},
     "output_type": "execute_result"
    },
    {
     "data": {
      "text/plain": [
       "' would have had to be\\ncalm enough to see to it...\\n'"
      ]
     },
     "execution_count": 23,
     "metadata": {},
     "output_type": "execute_result"
    },
    {
     "data": {
      "text/plain": [
       "'\\n945\\n00:49:51,197 --> 00:49:53,782\\nthat there were'"
      ]
     },
     "execution_count": 23,
     "metadata": {},
     "output_type": "execute_result"
    },
    {
     "data": {
      "text/plain": [
       "' no fingerprints\\nleft on the knife.946\\n00:49:53,'"
      ]
     },
     "execution_count": 23,
     "metadata": {},
     "output_type": "execute_result"
    },
    {
     "data": {
      "text/plain": [
       "'866 --> 00:49:57,911\\nNow, where did this panic sta'"
      ]
     },
     "execution_count": 23,
     "metadata": {},
     "output_type": "execute_result"
    },
    {
     "data": {
      "text/plain": [
       "'rt\\nand where did it end?947\\n00:49:57,995 --> 00:'"
      ]
     },
     "execution_count": 23,
     "metadata": {},
     "output_type": "execute_result"
    },
    {
     "data": {
      "text/plain": [
       "'50:00,372\\nLook, you voted guilty.\\nWhat side are ya'"
      ]
     },
     "execution_count": 23,
     "metadata": {},
     "output_type": "execute_result"
    },
    {
     "data": {
      "text/plain": [
       "\" on?948\\n00:50:00,456 --> 00:50:04,000\\nI don't be\""
      ]
     },
     "execution_count": 23,
     "metadata": {},
     "output_type": "execute_result"
    },
    {
     "data": {
      "text/plain": [
       "'lieve I have to be loyal\\nto one side or the other.'"
      ]
     },
     "execution_count": 23,
     "metadata": {},
     "output_type": "execute_result"
    },
    {
     "data": {
      "text/plain": [
       "\"949\\n00:50:04,085 --> 00:50:05,877\\nI'm simply ask\""
      ]
     },
     "execution_count": 23,
     "metadata": {},
     "output_type": "execute_result"
    },
    {
     "data": {
      "text/plain": [
       "'ing questions.950\\n00:50:05,961 --> 00:50:08,963\\n'"
      ]
     },
     "execution_count": 23,
     "metadata": {},
     "output_type": "execute_result"
    },
    {
     "data": {
      "text/plain": [
       "'Well, this is just off the top of my head,\\nbut, uh'"
      ]
     },
     "execution_count": 23,
     "metadata": {},
     "output_type": "execute_result"
    },
    {
     "data": {
      "text/plain": [
       "'...951\\n00:50:09,048 --> 00:50:11,549\\nwell, if I '"
      ]
     },
     "execution_count": 23,
     "metadata": {},
     "output_type": "execute_result"
    },
    {
     "data": {
      "text/plain": [
       "\"were the boy\\nand I'd done the stabbing and everyth\""
      ]
     },
     "execution_count": 23,
     "metadata": {},
     "output_type": "execute_result"
    },
    {
     "data": {
      "text/plain": [
       "\"ing...952\\n00:50:11,634 --> 00:50:13,760\\nI'd take\""
      ]
     },
     "execution_count": 23,
     "metadata": {},
     "output_type": "execute_result"
    },
    {
     "data": {
      "text/plain": [
       "' a chance\\nand go back for the knife.953\\n00:50:13'"
      ]
     },
     "execution_count": 23,
     "metadata": {},
     "output_type": "execute_result"
    },
    {
     "data": {
      "text/plain": [
       "\",844 --> 00:50:16,346\\nI'll bet he figured that nob\""
      ]
     },
     "execution_count": 23,
     "metadata": {},
     "output_type": "execute_result"
    },
    {
     "data": {
      "text/plain": [
       "'ody\\nhad seen him running out...954\\n00:50:16,430 '"
      ]
     },
     "execution_count": 23,
     "metadata": {},
     "output_type": "execute_result"
    },
    {
     "data": {
      "text/plain": [
       "\"--> 00:50:18,932\\nand that the body wouldn't be dis\""
      ]
     },
     "execution_count": 23,
     "metadata": {},
     "output_type": "execute_result"
    },
    {
     "data": {
      "text/plain": [
       "'covered\\ntill the next day.955\\n00:50:19,016 --> 0'"
      ]
     },
     "execution_count": 23,
     "metadata": {},
     "output_type": "execute_result"
    },
    {
     "data": {
      "text/plain": [
       "'0:50:21,059\\nWell, after all,\\nit was the middle of '"
      ]
     },
     "execution_count": 23,
     "metadata": {},
     "output_type": "execute_result"
    },
    {
     "data": {
      "text/plain": [
       "\"the night.956\\n00:50:21,143 --> 00:50:23,645\\nI'll\""
      ]
     },
     "execution_count": 23,
     "metadata": {},
     "output_type": "execute_result"
    },
    {
     "data": {
      "text/plain": [
       "\" bet he'd figured nobody\\nwould find the body till \""
      ]
     },
     "execution_count": 23,
     "metadata": {},
     "output_type": "execute_result"
    },
    {
     "data": {
      "text/plain": [
       "'the next day.957\\n00:50:23,729 --> 00:50:25,730\\nP'"
      ]
     },
     "execution_count": 23,
     "metadata": {},
     "output_type": "execute_result"
    },
    {
     "data": {
      "text/plain": [
       "'ardon. This is my whole point.958\\n00:50:25,815 -'"
      ]
     },
     "execution_count": 23,
     "metadata": {},
     "output_type": "execute_result"
    },
    {
     "data": {
      "text/plain": [
       "'-> 00:50:29,526\\nThe woman across the street testif'"
      ]
     },
     "execution_count": 23,
     "metadata": {},
     "output_type": "execute_result"
    },
    {
     "data": {
      "text/plain": [
       "'ied that\\nthe moment after she saw the killing...'"
      ]
     },
     "execution_count": 23,
     "metadata": {},
     "output_type": "execute_result"
    },
    {
     "data": {
      "text/plain": [
       "'959\\n00:50:29,610 --> 00:50:32,195\\nthat is, a momen'"
      ]
     },
     "execution_count": 23,
     "metadata": {},
     "output_type": "execute_result"
    },
    {
     "data": {
      "text/plain": [
       "'t\\nafter the train went by...960\\n00:50:32,279 -->'"
      ]
     },
     "execution_count": 23,
     "metadata": {},
     "output_type": "execute_result"
    },
    {
     "data": {
      "text/plain": [
       "' 00:50:35,281\\nshe screamed\\nand then went to teleph'"
      ]
     },
     "execution_count": 23,
     "metadata": {},
     "output_type": "execute_result"
    },
    {
     "data": {
      "text/plain": [
       "'one the police.961\\n00:50:35,366 --> 00:50:38,743'"
      ]
     },
     "execution_count": 23,
     "metadata": {},
     "output_type": "execute_result"
    },
    {
     "data": {
      "text/plain": [
       "'\\nNow, the boy certainly\\nmust have heard the scream'"
      ]
     },
     "execution_count": 23,
     "metadata": {},
     "output_type": "execute_result"
    },
    {
     "data": {
      "text/plain": [
       "'...962\\n00:50:38,828 --> 00:50:42,330\\nso he knew\\n'"
      ]
     },
     "execution_count": 23,
     "metadata": {},
     "output_type": "execute_result"
    },
    {
     "data": {
      "text/plain": [
       "'that somebody saw something.963\\n00:50:42,415 -->'"
      ]
     },
     "execution_count": 23,
     "metadata": {},
     "output_type": "execute_result"
    },
    {
     "data": {
      "text/plain": [
       "\" 00:50:45,208\\nI just don't think\\nthat he would hav\""
      ]
     },
     "execution_count": 23,
     "metadata": {},
     "output_type": "execute_result"
    },
    {
     "data": {
      "text/plain": [
       "'e gone back.964\\n00:50:45,292 --> 00:50:48,044\\nTw'"
      ]
     },
     "execution_count": 23,
     "metadata": {},
     "output_type": "execute_result"
    },
    {
     "data": {
      "text/plain": [
       "'o things. One, in his state of panic,\\nhe may not h'"
      ]
     },
     "execution_count": 23,
     "metadata": {},
     "output_type": "execute_result"
    },
    {
     "data": {
      "text/plain": [
       "'ave heard the scream.965\\n00:50:48,129 --> 00:50:'"
      ]
     },
     "execution_count": 23,
     "metadata": {},
     "output_type": "execute_result"
    },
    {
     "data": {
      "text/plain": [
       "\"49,796\\nPerhaps it wasn't very loud.966\\n00:50:49,\""
      ]
     },
     "execution_count": 23,
     "metadata": {},
     "output_type": "execute_result"
    },
    {
     "data": {
      "text/plain": [
       "'880 --> 00:50:53,258\\nTwo, if he did hear it, he ma'"
      ]
     },
     "execution_count": 23,
     "metadata": {},
     "output_type": "execute_result"
    },
    {
     "data": {
      "text/plain": [
       "'y not\\nhave connected it with his own act.967\\n00:'"
      ]
     },
     "execution_count": 23,
     "metadata": {},
     "output_type": "execute_result"
    },
    {
     "data": {
      "text/plain": [
       "'50:53,342 --> 00:50:56,386\\nRemember, he lived in a'"
      ]
     },
     "execution_count": 23,
     "metadata": {},
     "output_type": "execute_result"
    },
    {
     "data": {
      "text/plain": [
       "' neighborhood\\nwhere screams were fairly commonplac'"
      ]
     },
     "execution_count": 23,
     "metadata": {},
     "output_type": "execute_result"
    },
    {
     "data": {
      "text/plain": [
       "\"e.968\\n00:50:56,470 --> 00:50:58,930\\n- There's yo\""
      ]
     },
     "execution_count": 23,
     "metadata": {},
     "output_type": "execute_result"
    },
    {
     "data": {
      "text/plain": [
       "'ur answer.\\n- Maybe.969\\n00:50:59,014 --> 00:51:01'"
      ]
     },
     "execution_count": 23,
     "metadata": {},
     "output_type": "execute_result"
    },
    {
     "data": {
      "text/plain": [
       "\",891\\nMaybe the boy did kill his father,\\ndidn't hea\""
      ]
     },
     "execution_count": 23,
     "metadata": {},
     "output_type": "execute_result"
    },
    {
     "data": {
      "text/plain": [
       "'r the scream...970\\n00:51:01,976 --> 00:51:05,687'"
      ]
     },
     "execution_count": 23,
     "metadata": {},
     "output_type": "execute_result"
    },
    {
     "data": {
      "text/plain": [
       "'\\ndid run out in a panic,\\ndid calm down three hours'"
      ]
     },
     "execution_count": 23,
     "metadata": {},
     "output_type": "execute_result"
    },
    {
     "data": {
      "text/plain": [
       "' later...971\\n00:51:05,771 --> 00:51:08,398\\nand c'"
      ]
     },
     "execution_count": 23,
     "metadata": {},
     "output_type": "execute_result"
    },
    {
     "data": {
      "text/plain": [
       "'ome back to get the knife,\\nrisking being caught by'"
      ]
     },
     "execution_count": 23,
     "metadata": {},
     "output_type": "execute_result"
    },
    {
     "data": {
      "text/plain": [
       "' the police.972\\n00:51:08,482 --> 00:51:11,401\\nMa'"
      ]
     },
     "execution_count": 23,
     "metadata": {},
     "output_type": "execute_result"
    },
    {
     "data": {
      "text/plain": [
       "'ybe all of those things happened,\\nbut maybe they d'"
      ]
     },
     "execution_count": 23,
     "metadata": {},
     "output_type": "execute_result"
    },
    {
     "data": {
      "text/plain": [
       "\"idn't.973\\n00:51:11,485 --> 00:51:14,237\\nI think \""
      ]
     },
     "execution_count": 23,
     "metadata": {},
     "output_type": "execute_result"
    },
    {
     "data": {
      "text/plain": [
       "\"there's enough doubt that we can\\nwonder whether he\""
      ]
     },
     "execution_count": 23,
     "metadata": {},
     "output_type": "execute_result"
    },
    {
     "data": {
      "text/plain": [
       "' was there at all...974\\n00:51:14,321 --> 00:51:1'"
      ]
     },
     "execution_count": 23,
     "metadata": {},
     "output_type": "execute_result"
    },
    {
     "data": {
      "text/plain": [
       "'5,989\\nduring the time the killing took place.975'"
      ]
     },
     "execution_count": 23,
     "metadata": {},
     "output_type": "execute_result"
    },
    {
     "data": {
      "text/plain": [
       "'\\n00:51:16,073 --> 00:51:17,824\\nWhat do you mean do'"
      ]
     },
     "execution_count": 23,
     "metadata": {},
     "output_type": "execute_result"
    },
    {
     "data": {
      "text/plain": [
       "'ubt?\\nWhat are you talking about?976\\n00:51:17,908'"
      ]
     },
     "execution_count": 23,
     "metadata": {},
     "output_type": "execute_result"
    },
    {
     "data": {
      "text/plain": [
       "\" --> 00:51:19,617\\nDidn't the old man see him\\nrunni\""
      ]
     },
     "execution_count": 23,
     "metadata": {},
     "output_type": "execute_result"
    },
    {
     "data": {
      "text/plain": [
       "'ng out of the house?977\\n00:51:19,702 --> 00:51:2'"
      ]
     },
     "execution_count": 23,
     "metadata": {},
     "output_type": "execute_result"
    },
    {
     "data": {
      "text/plain": [
       "\"1,494\\nHe's twisting the facts, I'm telling you.9\""
      ]
     },
     "execution_count": 23,
     "metadata": {},
     "output_type": "execute_result"
    },
    {
     "data": {
      "text/plain": [
       "\"78\\n00:51:21,579 --> 00:51:24,914\\nDid or didn't the\""
      ]
     },
     "execution_count": 23,
     "metadata": {},
     "output_type": "execute_result"
    },
    {
     "data": {
      "text/plain": [
       "' old man see the kid\\nrunning out of the house at 1'"
      ]
     },
     "execution_count": 23,
     "metadata": {},
     "output_type": "execute_result"
    },
    {
     "data": {
      "text/plain": [
       "'2:10?979\\n00:51:24,999 --> 00:51:26,916\\nWell, did'"
      ]
     },
     "execution_count": 23,
     "metadata": {},
     "output_type": "execute_result"
    },
    {
     "data": {
      "text/plain": [
       "\" or didn't he?980\\n00:51:27,001 --> 00:51:30,211\\n\""
      ]
     },
     "execution_count": 23,
     "metadata": {},
     "output_type": "execute_result"
    },
    {
     "data": {
      "text/plain": [
       "'- He says he did.\\n- \"Says he did\"? Boy! How do you'"
      ]
     },
     "execution_count": 23,
     "metadata": {},
     "output_type": "execute_result"
    },
    {
     "data": {
      "text/plain": [
       "' like that?981\\n00:51:30,296 --> 00:51:33,256\\n- N'"
      ]
     },
     "execution_count": 23,
     "metadata": {},
     "output_type": "execute_result"
    },
    {
     "data": {
      "text/plain": [
       "'ow, look, witnesses can make mistakes.\\n- Sure, whe'"
      ]
     },
     "execution_count": 23,
     "metadata": {},
     "output_type": "execute_result"
    },
    {
     "data": {
      "text/plain": [
       "'n you want them to, they do.982\\n00:51:33,340 -->'"
      ]
     },
     "execution_count": 23,
     "metadata": {},
     "output_type": "execute_result"
    },
    {
     "data": {
      "text/plain": [
       "' 00:51:35,592\\nOr when he wants them to, they do.\\nY'"
      ]
     },
     "execution_count": 23,
     "metadata": {},
     "output_type": "execute_result"
    },
    {
     "data": {
      "text/plain": [
       "'ou know what I mean?983\\n00:51:35,676 --> 00:51:3'"
      ]
     },
     "execution_count": 23,
     "metadata": {},
     "output_type": "execute_result"
    },
    {
     "data": {
      "text/plain": [
       "'7,510\\n- Keep the yelling down!\\n- Oh, you keep sayi'"
      ]
     },
     "execution_count": 23,
     "metadata": {},
     "output_type": "execute_result"
    },
    {
     "data": {
      "text/plain": [
       "'ng that.984\\n00:51:37,595 --> 00:51:39,304\\nMaybe '"
      ]
     },
     "execution_count": 23,
     "metadata": {},
     "output_type": "execute_result"
    },
    {
     "data": {
      "text/plain": [
       "'what we need\\nis a little yelling in here.985\\n00:'"
      ]
     },
     "execution_count": 23,
     "metadata": {},
     "output_type": "execute_result"
    },
    {
     "data": {
      "text/plain": [
       "'51:39,388 --> 00:51:41,097\\nThese guys\\nkeep going o'"
      ]
     },
     "execution_count": 23,
     "metadata": {},
     "output_type": "execute_result"
    },
    {
     "data": {
      "text/plain": [
       "'ff every which way.986\\n00:51:41,182 --> 00:51:43'"
      ]
     },
     "execution_count": 23,
     "metadata": {},
     "output_type": "execute_result"
    },
    {
     "data": {
      "text/plain": [
       "\",099\\nDid hear the scream.\\nDidn't hear the scream.\\n\""
      ]
     },
     "execution_count": 23,
     "metadata": {},
     "output_type": "execute_result"
    },
    {
     "data": {
      "text/plain": [
       "'\\n987\\n00:51:43,184 --> 00:51:46,352\\nWhat difference'"
      ]
     },
     "execution_count": 23,
     "metadata": {},
     "output_type": "execute_result"
    },
    {
     "data": {
      "text/plain": [
       "' does it make? You people\\nare talking only about t'"
      ]
     },
     "execution_count": 23,
     "metadata": {},
     "output_type": "execute_result"
    },
    {
     "data": {
      "text/plain": [
       "'he little details.988\\n00:51:46,437 --> 00:51:48,'"
      ]
     },
     "execution_count": 23,
     "metadata": {},
     "output_type": "execute_result"
    },
    {
     "data": {
      "text/plain": [
       "\"938\\nYou're forgetting the important stuff.\\nI mean,\""
      ]
     },
     "execution_count": 23,
     "metadata": {},
     "output_type": "execute_result"
    },
    {
     "data": {
      "text/plain": [
       "' all of a sudden, everybody here...989\\n00:51:49,'"
      ]
     },
     "execution_count": 23,
     "metadata": {},
     "output_type": "execute_result"
    },
    {
     "data": {
      "text/plain": [
       "'023 --> 00:51:51,399\\n- I want to call for another '"
      ]
     },
     "execution_count": 23,
     "metadata": {},
     "output_type": "execute_result"
    },
    {
     "data": {
      "text/plain": [
       "\"vote.\\n- I'm talking here!990\\n00:51:51,484 --> 00\""
      ]
     },
     "execution_count": 23,
     "metadata": {},
     "output_type": "execute_result"
    },
    {
     "data": {
      "text/plain": [
       "\":51:55,153\\nThere's another vote called for.\\nNow le\""
      ]
     },
     "execution_count": 23,
     "metadata": {},
     "output_type": "execute_result"
    },
    {
     "data": {
      "text/plain": [
       "\"t's take our seats.991\\n00:51:59,033 --> 00:52:01\""
      ]
     },
     "execution_count": 23,
     "metadata": {},
     "output_type": "execute_result"
    },
    {
     "data": {
      "text/plain": [
       "',576\\nI never saw so much time\\nspent on nothing.9'"
      ]
     },
     "execution_count": 23,
     "metadata": {},
     "output_type": "execute_result"
    },
    {
     "data": {
      "text/plain": [
       "'92\\n00:52:01,660 --> 00:52:03,369\\nIt only takes a s'"
      ]
     },
     "execution_count": 23,
     "metadata": {},
     "output_type": "execute_result"
    },
    {
     "data": {
      "text/plain": [
       "'econd.993\\n00:52:04,455 --> 00:52:07,874\\nOkay. I '"
      ]
     },
     "execution_count": 23,
     "metadata": {},
     "output_type": "execute_result"
    },
    {
     "data": {
      "text/plain": [
       "\"guess the fastest way\\nis to find out who's voting \""
      ]
     },
     "execution_count": 23,
     "metadata": {},
     "output_type": "execute_result"
    },
    {
     "data": {
      "text/plain": [
       "'not guilty.994\\n00:52:07,958 --> 00:52:10,710\\nNow'"
      ]
     },
     "execution_count": 23,
     "metadata": {},
     "output_type": "execute_result"
    },
    {
     "data": {
      "text/plain": [
       "', all those voting not guilty,\\nplease raise your h'"
      ]
     },
     "execution_count": 23,
     "metadata": {},
     "output_type": "execute_result"
    },
    {
     "data": {
      "text/plain": [
       "'ands.995\\n00:52:11,962 --> 00:52:15,548\\nStill the'"
      ]
     },
     "execution_count": 23,
     "metadata": {},
     "output_type": "execute_result"
    },
    {
     "data": {
      "text/plain": [
       "' same.\\nOne, two, three not guilty. Nine guilty.9'"
      ]
     },
     "execution_count": 23,
     "metadata": {},
     "output_type": "execute_result"
    },
    {
     "data": {
      "text/plain": [
       "'96\\n00:52:15,633 --> 00:52:17,300\\nSo, now where are'"
      ]
     },
     "execution_count": 23,
     "metadata": {},
     "output_type": "execute_result"
    },
    {
     "data": {
      "text/plain": [
       "\" we?997\\n00:52:17,384 --> 00:52:20,804\\nI'm tellin\""
      ]
     },
     "execution_count": 23,
     "metadata": {},
     "output_type": "execute_result"
    },
    {
     "data": {
      "text/plain": [
       "'g you, we can yackety-yack until\\nnext Tuesday. Whe'"
      ]
     },
     "execution_count": 23,
     "metadata": {},
     "output_type": "execute_result"
    },
    {
     "data": {
      "text/plain": [
       "\"re's it all getting us?998\\n00:52:20,888 --> 00:5\""
      ]
     },
     "execution_count": 23,
     "metadata": {},
     "output_type": "execute_result"
    },
    {
     "data": {
      "text/plain": [
       "'2:23,640\\nPardon. I vote not guilty.999\\n00:52:23,'"
      ]
     },
     "execution_count": 23,
     "metadata": {},
     "output_type": "execute_result"
    },
    {
     "data": {
      "text/plain": [
       "'724 --> 00:52:26,726\\nOh!1000\\n00:52:26,811 --> 00'"
      ]
     },
     "execution_count": 23,
     "metadata": {},
     "output_type": "execute_result"
    },
    {
     "data": {
      "text/plain": [
       "\":52:30,104\\nWhat are ya talking about? I mean,\\nwe'r\""
      ]
     },
     "execution_count": 23,
     "metadata": {},
     "output_type": "execute_result"
    },
    {
     "data": {
      "text/plain": [
       "'e all going crazy in here or something.1001\\n00:5'"
      ]
     },
     "execution_count": 23,
     "metadata": {},
     "output_type": "execute_result"
    },
    {
     "data": {
      "text/plain": [
       "'2:30,189 --> 00:52:33,983\\nThe kid is guilty.\\nWhy d'"
      ]
     },
     "execution_count": 23,
     "metadata": {},
     "output_type": "execute_result"
    },
    {
     "data": {
      "text/plain": [
       "\"on't you listen to the facts?1002\\n00:52:34,068 -\""
      ]
     },
     "execution_count": 23,
     "metadata": {},
     "output_type": "execute_result"
    },
    {
     "data": {
      "text/plain": [
       "'-> 00:52:36,319\\nTell him, will ya?\\nNow this is get'"
      ]
     },
     "execution_count": 23,
     "metadata": {},
     "output_type": "execute_result"
    },
    {
     "data": {
      "text/plain": [
       "'ting to be a joke.1003\\n00:52:36,403 --> 00:52:39'"
      ]
     },
     "execution_count": 23,
     "metadata": {},
     "output_type": "execute_result"
    },
    {
     "data": {
      "text/plain": [
       "',614\\nThe vote is eight to four,\\nfavor of guilty.'"
      ]
     },
     "execution_count": 23,
     "metadata": {},
     "output_type": "execute_result"
    },
    {
     "data": {
      "text/plain": [
       "'1004\\n00:52:39,698 --> 00:52:43,368\\nWhat is this, l'"
      ]
     },
     "execution_count": 23,
     "metadata": {},
     "output_type": "execute_result"
    },
    {
     "data": {
      "text/plain": [
       "'ove your underprivileged\\nbrother week or something'"
      ]
     },
     "execution_count": 23,
     "metadata": {},
     "output_type": "execute_result"
    },
    {
     "data": {
      "text/plain": [
       "'?1005\\n00:52:43,452 --> 00:52:45,954\\nI want you t'"
      ]
     },
     "execution_count": 23,
     "metadata": {},
     "output_type": "execute_result"
    },
    {
     "data": {
      "text/plain": [
       "'o get up and tell me\\nwhy you changed your vote.1'"
      ]
     },
     "execution_count": 23,
     "metadata": {},
     "output_type": "execute_result"
    },
    {
     "data": {
      "text/plain": [
       "'006\\n00:52:46,038 --> 00:52:50,333\\n- Come on. Give '"
      ]
     },
     "execution_count": 23,
     "metadata": {},
     "output_type": "execute_result"
    },
    {
     "data": {
      "text/plain": [
       "\"me your reasons.\\n- I don't have to defend my decis\""
      ]
     },
     "execution_count": 23,
     "metadata": {},
     "output_type": "execute_result"
    },
    {
     "data": {
      "text/plain": [
       "'ion to you.1007\\n00:52:50,417 --> 00:52:52,168\\nTh'"
      ]
     },
     "execution_count": 23,
     "metadata": {},
     "output_type": "execute_result"
    },
    {
     "data": {
      "text/plain": [
       "'ere is a reasonable doubt in my mind.1008\\n00:52:'"
      ]
     },
     "execution_count": 23,
     "metadata": {},
     "output_type": "execute_result"
    },
    {
     "data": {
      "text/plain": [
       "'52,253 --> 00:52:55,255\\nWhat reasonable doubt? Tha'"
      ]
     },
     "execution_count": 23,
     "metadata": {},
     "output_type": "execute_result"
    },
    {
     "data": {
      "text/plain": [
       "\"t's nothing but words.\\nHere, look at this.1009\\n0\""
      ]
     },
     "execution_count": 23,
     "metadata": {},
     "output_type": "execute_result"
    },
    {
     "data": {
      "text/plain": [
       "'0:52:55,339 --> 00:53:00,260\\nThe kid you just deci'"
      ]
     },
     "execution_count": 23,
     "metadata": {},
     "output_type": "execute_result"
    },
    {
     "data": {
      "text/plain": [
       "\"ded isn't guilty\\nwas seen ramming this into his fa\""
      ]
     },
     "execution_count": 23,
     "metadata": {},
     "output_type": "execute_result"
    },
    {
     "data": {
      "text/plain": [
       "'ther.1010\\n00:53:00,344 --> 00:53:02,345\\nNow, wha'"
      ]
     },
     "execution_count": 23,
     "metadata": {},
     "output_type": "execute_result"
    },
    {
     "data": {
      "text/plain": [
       "'t about this,\\nMr. Reasonable Doubt?1011\\n00:53:02'"
      ]
     },
     "execution_count": 23,
     "metadata": {},
     "output_type": "execute_result"
    },
    {
     "data": {
      "text/plain": [
       "\",429 --> 00:53:05,098\\nThat's not the knife.\\nDon't \""
      ]
     },
     "execution_count": 23,
     "metadata": {},
     "output_type": "execute_result"
    },
    {
     "data": {
      "text/plain": [
       "'you remember?1012\\n00:53:05,182 --> 00:53:07,350\\n'"
      ]
     },
     "execution_count": 23,
     "metadata": {},
     "output_type": "execute_result"
    },
    {
     "data": {
      "text/plain": [
       "'Oh, brilliant.1013\\n00:53:07,434 --> 00:53:09,727'"
      ]
     },
     "execution_count": 23,
     "metadata": {},
     "output_type": "execute_result"
    },
    {
     "data": {
      "text/plain": [
       "\"\\nI'm telling ya, this is the craziest.1014\\n00:53\""
      ]
     },
     "execution_count": 23,
     "metadata": {},
     "output_type": "execute_result"
    },
    {
     "data": {
      "text/plain": [
       "':09,812 --> 00:53:11,980\\nI mean, what are we suppo'"
      ]
     },
     "execution_count": 23,
     "metadata": {},
     "output_type": "execute_result"
    },
    {
     "data": {
      "text/plain": [
       "'sed to believe?1015\\n00:53:12,064 --> 00:53:14,89'"
      ]
     },
     "execution_count": 23,
     "metadata": {},
     "output_type": "execute_result"
    },
    {
     "data": {
      "text/plain": [
       "\"9\\nI mean, you're sittin' here, you're pulling\\nstor\""
      ]
     },
     "execution_count": 23,
     "metadata": {},
     "output_type": "execute_result"
    },
    {
     "data": {
      "text/plain": [
       "'ies out of thin air, you know?1016\\n00:53:14,984 '"
      ]
     },
     "execution_count": 23,
     "metadata": {},
     "output_type": "execute_result"
    },
    {
     "data": {
      "text/plain": [
       "\"--> 00:53:18,695\\nA guy like this, if he's, uh, sit\""
      ]
     },
     "execution_count": 23,
     "metadata": {},
     "output_type": "execute_result"
    },
    {
     "data": {
      "text/plain": [
       "'ting\\nringside at the Dempsey-Firpo fight...1017\\n'"
      ]
     },
     "execution_count": 23,
     "metadata": {},
     "output_type": "execute_result"
    },
    {
     "data": {
      "text/plain": [
       "\"00:53:18,779 --> 00:53:21,239\\nhe'd be trying to te\""
      ]
     },
     "execution_count": 23,
     "metadata": {},
     "output_type": "execute_result"
    },
    {
     "data": {
      "text/plain": [
       "'ll you that, uh...1018\\n00:53:21,323 --> 00:53:23'"
      ]
     },
     "execution_count": 23,
     "metadata": {},
     "output_type": "execute_result"
    },
    {
     "data": {
      "text/plain": [
       "',700\\nLook. Now, what about the old man?1019\\n00:5'"
      ]
     },
     "execution_count": 23,
     "metadata": {},
     "output_type": "execute_result"
    },
    {
     "data": {
      "text/plain": [
       "'3:23,784 --> 00:53:26,369\\nAre we supposed to belie'"
      ]
     },
     "execution_count": 23,
     "metadata": {},
     "output_type": "execute_result"
    },
    {
     "data": {
      "text/plain": [
       "\"ve that he\\ndidn't get up and run to his door...1\""
      ]
     },
     "execution_count": 23,
     "metadata": {},
     "output_type": "execute_result"
    },
    {
     "data": {
      "text/plain": [
       "'020\\n00:53:26,453 --> 00:53:29,455\\nand see the kid '"
      ]
     },
     "execution_count": 23,
     "metadata": {},
     "output_type": "execute_result"
    },
    {
     "data": {
      "text/plain": [
       "'tearing down the steps\\n15 seconds after the killin'"
      ]
     },
     "execution_count": 23,
     "metadata": {},
     "output_type": "execute_result"
    },
    {
     "data": {
      "text/plain": [
       "\"g?1021\\n00:53:29,540 --> 00:53:32,000\\nHe's just s\""
      ]
     },
     "execution_count": 23,
     "metadata": {},
     "output_type": "execute_result"
    },
    {
     "data": {
      "text/plain": [
       "'aying so to be important, right?1022\\n00:53:32,08'"
      ]
     },
     "execution_count": 23,
     "metadata": {},
     "output_type": "execute_result"
    },
    {
     "data": {
      "text/plain": [
       "\"4 --> 00:53:34,878\\n- I mean, what's the point of t\""
      ]
     },
     "execution_count": 23,
     "metadata": {},
     "output_type": "execute_result"
    },
    {
     "data": {
      "text/plain": [
       "'he whole thing?\\n- Wait. Hold it a second, will you'"
      ]
     },
     "execution_count": 23,
     "metadata": {},
     "output_type": "execute_result"
    },
    {
     "data": {
      "text/plain": [
       "'?1023\\n00:53:34,962 --> 00:53:37,171\\nOh, and the '"
      ]
     },
     "execution_count": 23,
     "metadata": {},
     "output_type": "execute_result"
    },
    {
     "data": {
      "text/plain": [
       "'Baltimore rooter\\nis heard from again now...1024\\n'"
      ]
     },
     "execution_count": 23,
     "metadata": {},
     "output_type": "execute_result"
    },
    {
     "data": {
      "text/plain": [
       "'00:53:37,256 --> 00:53:39,215\\nand pop-ups are fall'"
      ]
     },
     "execution_count": 23,
     "metadata": {},
     "output_type": "execute_result"
    },
    {
     "data": {
      "text/plain": [
       "\"in' for base hits\\nwherever we look.1025\\n00:53:39\""
      ]
     },
     "execution_count": 23,
     "metadata": {},
     "output_type": "execute_result"
    },
    {
     "data": {
      "text/plain": [
       "',300 --> 00:53:42,552\\nHold it a second. Now, look '"
      ]
     },
     "execution_count": 23,
     "metadata": {},
     "output_type": "execute_result"
    },
    {
     "data": {
      "text/plain": [
       "'-\\nDid the old man say he ran to the door?1026\\n00'"
      ]
     },
     "execution_count": 23,
     "metadata": {},
     "output_type": "execute_result"
    },
    {
     "data": {
      "text/plain": [
       "\":53:42,636 --> 00:53:45,597\\nRan, walked. What's th\""
      ]
     },
     "execution_count": 23,
     "metadata": {},
     "output_type": "execute_result"
    },
    {
     "data": {
      "text/plain": [
       "\"e difference? He got on, didn't he?\\nI mean, he got\""
      ]
     },
     "execution_count": 23,
     "metadata": {},
     "output_type": "execute_result"
    },
    {
     "data": {
      "text/plain": [
       "\" there, didn't he?1027\\n00:53:45,681 --> 00:53:48\""
      ]
     },
     "execution_count": 23,
     "metadata": {},
     "output_type": "execute_result"
    },
    {
     "data": {
      "text/plain": [
       "',224\\n- No, now wait a second.\\n- He said he ran. At'"
      ]
     },
     "execution_count": 23,
     "metadata": {},
     "output_type": "execute_result"
    },
    {
     "data": {
      "text/plain": [
       "' least I think he did.1028\\n00:53:48,309 --> 00:5'"
      ]
     },
     "execution_count": 23,
     "metadata": {},
     "output_type": "execute_result"
    },
    {
     "data": {
      "text/plain": [
       "\"3:51,728\\nLook, I don't remember what he said, but \""
      ]
     },
     "execution_count": 23,
     "metadata": {},
     "output_type": "execute_result"
    },
    {
     "data": {
      "text/plain": [
       "\"I\\ndon't see how he could have run to the door.10\""
      ]
     },
     "execution_count": 23,
     "metadata": {},
     "output_type": "execute_result"
    },
    {
     "data": {
      "text/plain": [
       "'29\\n00:53:51,812 --> 00:53:54,188\\nΗe said he went\\nf'"
      ]
     },
     "execution_count": 23,
     "metadata": {},
     "output_type": "execute_result"
    },
    {
     "data": {
      "text/plain": [
       "'rom his bedroom to the front door.1030\\n00:53:54,'"
      ]
     },
     "execution_count": 23,
     "metadata": {},
     "output_type": "execute_result"
    },
    {
     "data": {
      "text/plain": [
       "\"273 --> 00:53:55,899\\n- Now, isn't that enough?\\n- W\""
      ]
     },
     "execution_count": 23,
     "metadata": {},
     "output_type": "execute_result"
    },
    {
     "data": {
      "text/plain": [
       "'here was the bedroom?1031\\n00:53:55,983 --> 00:53'"
      ]
     },
     "execution_count": 23,
     "metadata": {},
     "output_type": "execute_result"
    },
    {
     "data": {
      "text/plain": [
       "':58,234\\n- It was down the hall somewhere.\\n- I thou'"
      ]
     },
     "execution_count": 23,
     "metadata": {},
     "output_type": "execute_result"
    },
    {
     "data": {
      "text/plain": [
       "'ght you remembered everything.1032\\n00:53:58,319 '"
      ]
     },
     "execution_count": 23,
     "metadata": {},
     "output_type": "execute_result"
    },
    {
     "data": {
      "text/plain": [
       "\"--> 00:54:00,570\\n- Don't you remember that?\\n- No.\\n\""
      ]
     },
     "execution_count": 23,
     "metadata": {},
     "output_type": "execute_result"
    },
    {
     "data": {
      "text/plain": [
       "'\\n1033\\n00:54:00,654 --> 00:54:02,864\\nMr. Foreman, I'"
      ]
     },
     "execution_count": 23,
     "metadata": {},
     "output_type": "execute_result"
    },
    {
     "data": {
      "text/plain": [
       "\"'d like to see\\na diagram of the apartment.1034\\n0\""
      ]
     },
     "execution_count": 23,
     "metadata": {},
     "output_type": "execute_result"
    },
    {
     "data": {
      "text/plain": [
       "\"0:54:02,990 --> 00:54:06,200\\n- Why don't we just h\""
      ]
     },
     "execution_count": 23,
     "metadata": {},
     "output_type": "execute_result"
    },
    {
     "data": {
      "text/plain": [
       "\"ave 'em run the trial all over again\\nso you can ge\""
      ]
     },
     "execution_count": 23,
     "metadata": {},
     "output_type": "execute_result"
    },
    {
     "data": {
      "text/plain": [
       "'t everything straight? - Mr. Foreman.1035\\n00:54:'"
      ]
     },
     "execution_count": 23,
     "metadata": {},
     "output_type": "execute_result"
    },
    {
     "data": {
      "text/plain": [
       "\"06,285 --> 00:54:08,912\\nHow come you're the only o\""
      ]
     },
     "execution_count": 23,
     "metadata": {},
     "output_type": "execute_result"
    },
    {
     "data": {
      "text/plain": [
       "'ne in this room\\nwants to see exhibits all the time'"
      ]
     },
     "execution_count": 23,
     "metadata": {},
     "output_type": "execute_result"
    },
    {
     "data": {
      "text/plain": [
       "'?1036\\n00:54:08,996 --> 00:54:11,706\\n- I want to '"
      ]
     },
     "execution_count": 23,
     "metadata": {},
     "output_type": "execute_result"
    },
    {
     "data": {
      "text/plain": [
       "\"see this one too.\\n- And I'd like to stop wasting t\""
      ]
     },
     "execution_count": 23,
     "metadata": {},
     "output_type": "execute_result"
    },
    {
     "data": {
      "text/plain": [
       "\"ime.1037\\n00:54:11,790 --> 00:54:14,626\\nIf we're \""
      ]
     },
     "execution_count": 23,
     "metadata": {},
     "output_type": "execute_result"
    },
    {
     "data": {
      "text/plain": [
       "'gonna start wading through all that\\nnonsense about'"
      ]
     },
     "execution_count": 23,
     "metadata": {},
     "output_type": "execute_result"
    },
    {
     "data": {
      "text/plain": [
       "' where the body was found...1038\\n00:54:14,710 --'"
      ]
     },
     "execution_count": 23,
     "metadata": {},
     "output_type": "execute_result"
    },
    {
     "data": {
      "text/plain": [
       "\"> 00:54:16,669\\nWe're not,\\nnot unless somebody else\""
      ]
     },
     "execution_count": 23,
     "metadata": {},
     "output_type": "execute_result"
    },
    {
     "data": {
      "text/plain": [
       "' wants to.1039\\n00:54:16,754 --> 00:54:18,463\\nBut'"
      ]
     },
     "execution_count": 23,
     "metadata": {},
     "output_type": "execute_result"
    },
    {
     "data": {
      "text/plain": [
       "\" I'd like to find out if an old man...1040\\n00:54\""
      ]
     },
     "execution_count": 23,
     "metadata": {},
     "output_type": "execute_result"
    },
    {
     "data": {
      "text/plain": [
       "':18,547 --> 00:54:20,924\\nwho drags one foot when h'"
      ]
     },
     "execution_count": 23,
     "metadata": {},
     "output_type": "execute_result"
    },
    {
     "data": {
      "text/plain": [
       "\"e walks\\n'cause he had a stroke last year...1041\\n\""
      ]
     },
     "execution_count": 23,
     "metadata": {},
     "output_type": "execute_result"
    },
    {
     "data": {
      "text/plain": [
       "'00:54:21,008 --> 00:54:23,426\\ncan get from his bed'"
      ]
     },
     "execution_count": 23,
     "metadata": {},
     "output_type": "execute_result"
    },
    {
     "data": {
      "text/plain": [
       "'room\\nto his front door in 15 seconds.1042\\n00:54:'"
      ]
     },
     "execution_count": 23,
     "metadata": {},
     "output_type": "execute_result"
    },
    {
     "data": {
      "text/plain": [
       "'23,510 --> 00:54:25,178\\n- He said 20 seconds.\\n- Ηe'"
      ]
     },
     "execution_count": 23,
     "metadata": {},
     "output_type": "execute_result"
    },
    {
     "data": {
      "text/plain": [
       "' said 15.1043\\n00:54:25,262 --> 00:54:27,430\\nHe s'"
      ]
     },
     "execution_count": 23,
     "metadata": {},
     "output_type": "execute_result"
    },
    {
     "data": {
      "text/plain": [
       "'aid 20 seconds.\\nWhat are you trying to distort...\\n'"
      ]
     },
     "execution_count": 23,
     "metadata": {},
     "output_type": "execute_result"
    },
    {
     "data": {
      "text/plain": [
       "'\\n1044\\n00:54:27,514 --> 00:54:30,767\\n- He said 15.\\n'"
      ]
     },
     "execution_count": 23,
     "metadata": {},
     "output_type": "execute_result"
    },
    {
     "data": {
      "text/plain": [
       "'- How does he know how long 15 seconds is?1045\\n0'"
      ]
     },
     "execution_count": 23,
     "metadata": {},
     "output_type": "execute_result"
    },
    {
     "data": {
      "text/plain": [
       "\"0:54:30,851 --> 00:54:32,518\\nYou can't judge a thi\""
      ]
     },
     "execution_count": 23,
     "metadata": {},
     "output_type": "execute_result"
    },
    {
     "data": {
      "text/plain": [
       "'ng like that.1046\\n00:54:32,603 --> 00:54:34,979\\n'"
      ]
     },
     "execution_count": 23,
     "metadata": {},
     "output_type": "execute_result"
    },
    {
     "data": {
      "text/plain": [
       "'- He said 15 seconds.\\n- He was very positive about'"
      ]
     },
     "execution_count": 23,
     "metadata": {},
     "output_type": "execute_result"
    },
    {
     "data": {
      "text/plain": [
       "' it.1047\\n00:54:35,064 --> 00:54:37,273\\nHe was an'"
      ]
     },
     "execution_count": 23,
     "metadata": {},
     "output_type": "execute_result"
    },
    {
     "data": {
      "text/plain": [
       "' old man.\\nHalf the time he was confused.1048\\n00:'"
      ]
     },
     "execution_count": 23,
     "metadata": {},
     "output_type": "execute_result"
    },
    {
     "data": {
      "text/plain": [
       "'54:37,358 --> 00:54:39,651\\nHow could he be positiv'"
      ]
     },
     "execution_count": 23,
     "metadata": {},
     "output_type": "execute_result"
    },
    {
     "data": {
      "text/plain": [
       "'e about anything?1049\\n00:54:47,326 --> 00:54:51,'"
      ]
     },
     "execution_count": 23,
     "metadata": {},
     "output_type": "execute_result"
    },
    {
     "data": {
      "text/plain": [
       "\"454\\nI don't see what you're going to prove here.\\nT\""
      ]
     },
     "execution_count": 23,
     "metadata": {},
     "output_type": "execute_result"
    },
    {
     "data": {
      "text/plain": [
       "'he man said he saw the boy running out.1050\\n00:5'"
      ]
     },
     "execution_count": 23,
     "metadata": {},
     "output_type": "execute_result"
    },
    {
     "data": {
      "text/plain": [
       "\"4:51,538 --> 00:54:53,706\\nWell, let's see\\nif the d\""
      ]
     },
     "execution_count": 23,
     "metadata": {},
     "output_type": "execute_result"
    },
    {
     "data": {
      "text/plain": [
       "'etails bear him out.1051\\n00:54:53,791 --> 00:54:'"
      ]
     },
     "execution_count": 23,
     "metadata": {},
     "output_type": "execute_result"
    },
    {
     "data": {
      "text/plain": [
       "'56,668\\nAs soon as the body hit the floor,\\nhe said '"
      ]
     },
     "execution_count": 23,
     "metadata": {},
     "output_type": "execute_result"
    },
    {
     "data": {
      "text/plain": [
       "'he heard footsteps upstairs...1052\\n00:54:56,752 '"
      ]
     },
     "execution_count": 23,
     "metadata": {},
     "output_type": "execute_result"
    },
    {
     "data": {
      "text/plain": [
       "'--> 00:54:58,419\\nrunning toward the front door...\\n'"
      ]
     },
     "execution_count": 23,
     "metadata": {},
     "output_type": "execute_result"
    },
    {
     "data": {
      "text/plain": [
       "'\\n1053\\n00:54:58,504 --> 00:55:01,589\\nheard the upst'"
      ]
     },
     "execution_count": 23,
     "metadata": {},
     "output_type": "execute_result"
    },
    {
     "data": {
      "text/plain": [
       "'airs door open,\\nthe footsteps start down the stair'"
      ]
     },
     "execution_count": 23,
     "metadata": {},
     "output_type": "execute_result"
    },
    {
     "data": {
      "text/plain": [
       "'s.1054\\n00:55:01,674 --> 00:55:03,800\\nHe said he '"
      ]
     },
     "execution_count": 23,
     "metadata": {},
     "output_type": "execute_result"
    },
    {
     "data": {
      "text/plain": [
       "'got to his own front door\\nas fast as he could...'"
      ]
     },
     "execution_count": 23,
     "metadata": {},
     "output_type": "execute_result"
    },
    {
     "data": {
      "text/plain": [
       "'1055\\n00:55:03,884 --> 00:55:05,969\\nand he swore it'"
      ]
     },
     "execution_count": 23,
     "metadata": {},
     "output_type": "execute_result"
    },
    {
     "data": {
      "text/plain": [
       "\" couldn't have been\\nmore than 15 seconds.1056\\n00\""
      ]
     },
     "execution_count": 23,
     "metadata": {},
     "output_type": "execute_result"
    },
    {
     "data": {
      "text/plain": [
       "':55:06,053 --> 00:55:07,720\\nNow, if the killer\\nbeg'"
      ]
     },
     "execution_count": 23,
     "metadata": {},
     "output_type": "execute_result"
    },
    {
     "data": {
      "text/plain": [
       "'an running immediately...1057\\n00:55:07,805 --> 0'"
      ]
     },
     "execution_count": 23,
     "metadata": {},
     "output_type": "execute_result"
    },
    {
     "data": {
      "text/plain": [
       "\"0:55:10,014\\n- Maybe he didn't.\\n- The old man said \""
      ]
     },
     "execution_count": 23,
     "metadata": {},
     "output_type": "execute_result"
    },
    {
     "data": {
      "text/plain": [
       "'he did.1058\\n00:55:10,099 --> 00:55:12,809\\nYou ou'"
      ]
     },
     "execution_count": 23,
     "metadata": {},
     "output_type": "execute_result"
    },
    {
     "data": {
      "text/plain": [
       "'ght to be at Atlantic City\\nat that hairsplitters c'"
      ]
     },
     "execution_count": 23,
     "metadata": {},
     "output_type": "execute_result"
    },
    {
     "data": {
      "text/plain": [
       "'onvention.1059\\n00:55:14,103 --> 00:55:16,229\\nHey'"
      ]
     },
     "execution_count": 23,
     "metadata": {},
     "output_type": "execute_result"
    },
    {
     "data": {
      "text/plain": [
       "\", why don't you stop makin'\\nsmart remarks all the \""
      ]
     },
     "execution_count": 23,
     "metadata": {},
     "output_type": "execute_result"
    },
    {
     "data": {
      "text/plain": [
       "'time, huh?1060\\n00:55:16,313 --> 00:55:19,440\\nMy '"
      ]
     },
     "execution_count": 23,
     "metadata": {},
     "output_type": "execute_result"
    },
    {
     "data": {
      "text/plain": [
       "'friend, for your three dollars a day,\\nyou have to '"
      ]
     },
     "execution_count": 23,
     "metadata": {},
     "output_type": "execute_result"
    },
    {
     "data": {
      "text/plain": [
       "'listen to everything, you know?1061\\n00:55:19,525'"
      ]
     },
     "execution_count": 23,
     "metadata": {},
     "output_type": "execute_result"
    },
    {
     "data": {
      "text/plain": [
       "\" --> 00:55:21,234\\nNow that you've got that thing i\""
      ]
     },
     "execution_count": 23,
     "metadata": {},
     "output_type": "execute_result"
    },
    {
     "data": {
      "text/plain": [
       "'n here,\\nwhat about it?1062\\n00:55:21,318 --> 00:5'"
      ]
     },
     "execution_count": 23,
     "metadata": {},
     "output_type": "execute_result"
    },
    {
     "data": {
      "text/plain": [
       "\"5:23,486\\nAll right. Here's the apartment\\nwhere the\""
      ]
     },
     "execution_count": 23,
     "metadata": {},
     "output_type": "execute_result"
    },
    {
     "data": {
      "text/plain": [
       "' killing took place.1063\\n00:55:23,570 --> 00:55:'"
      ]
     },
     "execution_count": 23,
     "metadata": {},
     "output_type": "execute_result"
    },
    {
     "data": {
      "text/plain": [
       "\"26,614\\nThe old man's apartment\\nwas directly beneat\""
      ]
     },
     "execution_count": 23,
     "metadata": {},
     "output_type": "execute_result"
    },
    {
     "data": {
      "text/plain": [
       "'h and exactly the same.1064\\n00:55:26,699 --> 00:'"
      ]
     },
     "execution_count": 23,
     "metadata": {},
     "output_type": "execute_result"
    },
    {
     "data": {
      "text/plain": [
       "'55:29,909\\nHere are the el tracks, the bedroom,\\nliv'"
      ]
     },
     "execution_count": 23,
     "metadata": {},
     "output_type": "execute_result"
    },
    {
     "data": {
      "text/plain": [
       "'ing room, kitchen, bathroom.1065\\n00:55:29,994 --'"
      ]
     },
     "execution_count": 23,
     "metadata": {},
     "output_type": "execute_result"
    },
    {
     "data": {
      "text/plain": [
       "\"> 00:55:31,995\\nHere's the hall. Here are the stair\""
      ]
     },
     "execution_count": 23,
     "metadata": {},
     "output_type": "execute_result"
    },
    {
     "data": {
      "text/plain": [
       "'s.1066\\n00:55:32,079 --> 00:55:34,330\\nNow, the ol'"
      ]
     },
     "execution_count": 23,
     "metadata": {},
     "output_type": "execute_result"
    },
    {
     "data": {
      "text/plain": [
       "'d man\\nwas in this bedroom right here.1067\\n00:55:'"
      ]
     },
     "execution_count": 23,
     "metadata": {},
     "output_type": "execute_result"
    },
    {
     "data": {
      "text/plain": [
       "'34,415 --> 00:55:37,083\\nHe says he crossed to the '"
      ]
     },
     "execution_count": 23,
     "metadata": {},
     "output_type": "execute_result"
    },
    {
     "data": {
      "text/plain": [
       "'door\\nand walked down the hall...1068\\n00:55:37,16'"
      ]
     },
     "execution_count": 23,
     "metadata": {},
     "output_type": "execute_result"
    },
    {
     "data": {
      "text/plain": [
       "'7 --> 00:55:40,128\\nopened the front door just in t'"
      ]
     },
     "execution_count": 23,
     "metadata": {},
     "output_type": "execute_result"
    },
    {
     "data": {
      "text/plain": [
       "'ime\\nto see the boy running down the stairs.1069\\n'"
      ]
     },
     "execution_count": 23,
     "metadata": {},
     "output_type": "execute_result"
    },
    {
     "data": {
      "text/plain": [
       "'00:55:40,212 --> 00:55:43,548\\n- Am I right so far?'"
      ]
     },
     "execution_count": 23,
     "metadata": {},
     "output_type": "execute_result"
    },
    {
     "data": {
      "text/plain": [
       "\"\\n- That's the story, for the 19th time.1070\\n00:5\""
      ]
     },
     "execution_count": 23,
     "metadata": {},
     "output_type": "execute_result"
    },
    {
     "data": {
      "text/plain": [
       "'5:43,632 --> 00:55:47,176\\n- Fifteen seconds after '"
      ]
     },
     "execution_count": 23,
     "metadata": {},
     "output_type": "execute_result"
    },
    {
     "data": {
      "text/plain": [
       "'the body hit the floor.\\n- Correct.1071\\n00:55:47,'"
      ]
     },
     "execution_count": 23,
     "metadata": {},
     "output_type": "execute_result"
    },
    {
     "data": {
      "text/plain": [
       "\"261 --> 00:55:49,303\\nNow, let's see. It was...10\""
      ]
     },
     "execution_count": 23,
     "metadata": {},
     "output_type": "execute_result"
    },
    {
     "data": {
      "text/plain": [
       "\"72\\n00:55:49,388 --> 00:55:53,391\\nIt's 12 feet from\""
      ]
     },
     "execution_count": 23,
     "metadata": {},
     "output_type": "execute_result"
    },
    {
     "data": {
      "text/plain": [
       "' the bed to the door.\\nThe hall is 43 feet.1073\\n0'"
      ]
     },
     "execution_count": 23,
     "metadata": {},
     "output_type": "execute_result"
    },
    {
     "data": {
      "text/plain": [
       "'0:55:53,475 --> 00:55:56,686\\nHe would have had to '"
      ]
     },
     "execution_count": 23,
     "metadata": {},
     "output_type": "execute_result"
    },
    {
     "data": {
      "text/plain": [
       "'walk 12 feet,\\nopen the bedroom door...1074\\n00:55'"
      ]
     },
     "execution_count": 23,
     "metadata": {},
     "output_type": "execute_result"
    },
    {
     "data": {
      "text/plain": [
       "':56,770 --> 00:56:00,398\\nwalk 43 feet down and ope'"
      ]
     },
     "execution_count": 23,
     "metadata": {},
     "output_type": "execute_result"
    },
    {
     "data": {
      "text/plain": [
       "'n the front door\\nall in 15 seconds.1075\\n00:56:00'"
      ]
     },
     "execution_count": 23,
     "metadata": {},
     "output_type": "execute_result"
    },
    {
     "data": {
      "text/plain": [
       "',482 --> 00:56:03,192\\n- Do you think he could have'"
      ]
     },
     "execution_count": 23,
     "metadata": {},
     "output_type": "execute_result"
    },
    {
     "data": {
      "text/plain": [
       "' done it?\\n- Sure he could have done it.1076\\n00:5'"
      ]
     },
     "execution_count": 23,
     "metadata": {},
     "output_type": "execute_result"
    },
    {
     "data": {
      "text/plain": [
       "'6:03,277 --> 00:56:05,862\\nHe can walk only very sl'"
      ]
     },
     "execution_count": 23,
     "metadata": {},
     "output_type": "execute_result"
    },
    {
     "data": {
      "text/plain": [
       "'owly.\\nThey had to help him into the witness chair.'"
      ]
     },
     "execution_count": 23,
     "metadata": {},
     "output_type": "execute_result"
    },
    {
     "data": {
      "text/plain": [
       "'1077\\n00:56:05,946 --> 00:56:07,613\\nYou make it s'"
      ]
     },
     "execution_count": 23,
     "metadata": {},
     "output_type": "execute_result"
    },
    {
     "data": {
      "text/plain": [
       "'ound like a long walk.1078\\n00:56:07,698 --> 00:5'"
      ]
     },
     "execution_count": 23,
     "metadata": {},
     "output_type": "execute_result"
    },
    {
     "data": {
      "text/plain": [
       "'6:10,033\\nFor an old man who had a stroke,\\nit is a '"
      ]
     },
     "execution_count": 23,
     "metadata": {},
     "output_type": "execute_result"
    },
    {
     "data": {
      "text/plain": [
       "'long walk.1079\\n00:56:10,117 --> 00:56:13,536\\n- O'"
      ]
     },
     "execution_count": 23,
     "metadata": {},
     "output_type": "execute_result"
    },
    {
     "data": {
      "text/plain": [
       "\"h! What are you doing?\\n- I'm gonna try it, see how\""
      ]
     },
     "execution_count": 23,
     "metadata": {},
     "output_type": "execute_result"
    },
    {
     "data": {
      "text/plain": [
       "' long it took him.1080\\n00:56:13,662 --> 00:56:16'"
      ]
     },
     "execution_count": 23,
     "metadata": {},
     "output_type": "execute_result"
    },
    {
     "data": {
      "text/plain": [
       "',998\\nWhat do you mean, you want to try it?\\nWhy did'"
      ]
     },
     "execution_count": 23,
     "metadata": {},
     "output_type": "execute_result"
    },
    {
     "data": {
      "text/plain": [
       "\"n't his lawyer bring it up if it's so important?\""
      ]
     },
     "execution_count": 23,
     "metadata": {},
     "output_type": "execute_result"
    },
    {
     "data": {
      "text/plain": [
       "'1081\\n00:56:17,124 --> 00:56:20,752\\n- Maybe he just'"
      ]
     },
     "execution_count": 23,
     "metadata": {},
     "output_type": "execute_result"
    },
    {
     "data": {
      "text/plain": [
       "\" didn't think about it, huh?\\n- What do you mean, d\""
      ]
     },
     "execution_count": 23,
     "metadata": {},
     "output_type": "execute_result"
    },
    {
     "data": {
      "text/plain": [
       "\"idn't think of it? You think the man's an idiot or\""
      ]
     },
     "execution_count": 23,
     "metadata": {},
     "output_type": "execute_result"
    },
    {
     "data": {
      "text/plain": [
       "' something?1082\\n00:56:20,836 --> 00:56:22,378\\n- '"
      ]
     },
     "execution_count": 23,
     "metadata": {},
     "output_type": "execute_result"
    },
    {
     "data": {
      "text/plain": [
       "\"It's an obvious thing.\\n- Did you think of it?108\""
      ]
     },
     "execution_count": 23,
     "metadata": {},
     "output_type": "execute_result"
    },
    {
     "data": {
      "text/plain": [
       "'3\\n00:56:22,463 --> 00:56:24,130\\nListen, smart guy.'"
      ]
     },
     "execution_count": 23,
     "metadata": {},
     "output_type": "execute_result"
    },
    {
     "data": {
      "text/plain": [
       "\"\\nDon't matter whether I thought of it.1084\\n00:56\""
      ]
     },
     "execution_count": 23,
     "metadata": {},
     "output_type": "execute_result"
    },
    {
     "data": {
      "text/plain": [
       "\":24,214 --> 00:56:26,424\\nHe didn't bring it up bec\""
      ]
     },
     "execution_count": 23,
     "metadata": {},
     "output_type": "execute_result"
    },
    {
     "data": {
      "text/plain": [
       "'ause he knew it would\\nhurt his case. What do you t'"
      ]
     },
     "execution_count": 23,
     "metadata": {},
     "output_type": "execute_result"
    },
    {
     "data": {
      "text/plain": [
       "'hink of that?1085\\n00:56:26,550 --> 00:56:30,386\\n'"
      ]
     },
     "execution_count": 23,
     "metadata": {},
     "output_type": "execute_result"
    },
    {
     "data": {
      "text/plain": [
       "\"Maybe he didn't bring it up because it would have\\n\""
      ]
     },
     "execution_count": 23,
     "metadata": {},
     "output_type": "execute_result"
    },
    {
     "data": {
      "text/plain": [
       "'meant bullying and badgering a helpless old man.'"
      ]
     },
     "execution_count": 23,
     "metadata": {},
     "output_type": "execute_result"
    },
    {
     "data": {
      "text/plain": [
       "'1086\\n00:56:30,471 --> 00:56:33,806\\nYou know that d'"
      ]
     },
     "execution_count": 23,
     "metadata": {},
     "output_type": "execute_result"
    },
    {
     "data": {
      "text/plain": [
       "\"oesn't sit very well with a jury.\\nMost lawyers avo\""
      ]
     },
     "execution_count": 23,
     "metadata": {},
     "output_type": "execute_result"
    },
    {
     "data": {
      "text/plain": [
       "'id it if they can.1087\\n00:56:33,891 --> 00:56:36'"
      ]
     },
     "execution_count": 23,
     "metadata": {},
     "output_type": "execute_result"
    },
    {
     "data": {
      "text/plain": [
       "\",601\\n- So, what kind of a bum is he then?\\n- That's\""
      ]
     },
     "execution_count": 23,
     "metadata": {},
     "output_type": "execute_result"
    },
    {
     "data": {
      "text/plain": [
       "\" what I've been asking, buddy.1088\\n00:56:36,685 \""
      ]
     },
     "execution_count": 23,
     "metadata": {},
     "output_type": "execute_result"
    },
    {
     "data": {
      "text/plain": [
       "'--> 00:56:39,729\\nPass me that chair, will you?\\nTho'"
      ]
     },
     "execution_count": 23,
     "metadata": {},
     "output_type": "execute_result"
    },
    {
     "data": {
      "text/plain": [
       "\"se two chairs are the old man's bed.1089\\n00:56:3\""
      ]
     },
     "execution_count": 23,
     "metadata": {},
     "output_type": "execute_result"
    },
    {
     "data": {
      "text/plain": [
       "'9,813 --> 00:56:42,690\\nI just paced off 12 feet ac'"
      ]
     },
     "execution_count": 23,
     "metadata": {},
     "output_type": "execute_result"
    },
    {
     "data": {
      "text/plain": [
       "'ross the room.\\nThis will be the bedroom door.109'"
      ]
     },
     "execution_count": 23,
     "metadata": {},
     "output_type": "execute_result"
    },
    {
     "data": {
      "text/plain": [
       "\"0\\n00:56:42,775 --> 00:56:45,401\\nOh, that's crazy.\\n\""
      ]
     },
     "execution_count": 23,
     "metadata": {},
     "output_type": "execute_result"
    },
    {
     "data": {
      "text/plain": [
       "\"You can't recreate a thing like that.1091\\n00:56:\""
      ]
     },
     "execution_count": 23,
     "metadata": {},
     "output_type": "execute_result"
    },
    {
     "data": {
      "text/plain": [
       "\"45,486 --> 00:56:47,695\\n- I'd like to see it.\\n- Th\""
      ]
     },
     "execution_count": 23,
     "metadata": {},
     "output_type": "execute_result"
    },
    {
     "data": {
      "text/plain": [
       "'e hall was 43 feet.1092\\n00:56:47,780 --> 00:56:4'"
      ]
     },
     "execution_count": 23,
     "metadata": {},
     "output_type": "execute_result"
    },
    {
     "data": {
      "text/plain": [
       "\"9,781\\nI'll pace from that wall and back again.10\""
      ]
     },
     "execution_count": 23,
     "metadata": {},
     "output_type": "execute_result"
    },
    {
     "data": {
      "text/plain": [
       "'93\\n00:56:51,075 --> 00:56:54,911\\nLook, this is abs'"
      ]
     },
     "execution_count": 23,
     "metadata": {},
     "output_type": "execute_result"
    },
    {
     "data": {
      "text/plain": [
       "\"olutely insane.\\nWhat are you wasting everybody's t\""
      ]
     },
     "execution_count": 23,
     "metadata": {},
     "output_type": "execute_result"
    },
    {
     "data": {
      "text/plain": [
       "'ime in here for?1094\\n00:56:54,995 --> 00:56:57,8'"
      ]
     },
     "execution_count": 23,
     "metadata": {},
     "output_type": "execute_result"
    },
    {
     "data": {
      "text/plain": [
       "\"72\\nAccording to you, it'll only take 15 seconds.\\nN\""
      ]
     },
     "execution_count": 23,
     "metadata": {},
     "output_type": "execute_result"
    },
    {
     "data": {
      "text/plain": [
       "'ow, we can spare that, see.1095\\n00:57:01,835 -->'"
      ]
     },
     "execution_count": 23,
     "metadata": {},
     "output_type": "execute_result"
    },
    {
     "data": {
      "text/plain": [
       "' 00:57:03,503\\nCome on. Knock it off.1096\\n00:57:0'"
      ]
     },
     "execution_count": 23,
     "metadata": {},
     "output_type": "execute_result"
    },
    {
     "data": {
      "text/plain": [
       "'3,587 --> 00:57:05,088\\nOkay.1097\\n00:57:05,172 --'"
      ]
     },
     "execution_count": 23,
     "metadata": {},
     "output_type": "execute_result"
    },
    {
     "data": {
      "text/plain": [
       "'> 00:57:07,215\\nOkay. Okay, killer.1098\\n00:57:07,'"
      ]
     },
     "execution_count": 23,
     "metadata": {},
     "output_type": "execute_result"
    },
    {
     "data": {
      "text/plain": [
       "'299 --> 00:57:08,883\\nYeah.1099\\n00:57:11,220 --> '"
      ]
     },
     "execution_count": 23,
     "metadata": {},
     "output_type": "execute_result"
    },
    {
     "data": {
      "text/plain": [
       "'00:57:13,262\\nWill you stand right there\\nand mark t'"
      ]
     },
     "execution_count": 23,
     "metadata": {},
     "output_type": "execute_result"
    },
    {
     "data": {
      "text/plain": [
       "'he front door?1100\\n00:57:13,347 --> 00:57:15,848'"
      ]
     },
     "execution_count": 23,
     "metadata": {},
     "output_type": "execute_result"
    },
    {
     "data": {
      "text/plain": [
       "'\\nIt was chain-locked according\\nto the testimony, r'"
      ]
     },
     "execution_count": 23,
     "metadata": {},
     "output_type": "execute_result"
    },
    {
     "data": {
      "text/plain": [
       "'emember?1101\\n00:57:15,933 --> 00:57:18,101\\n- Has'"
      ]
     },
     "execution_count": 23,
     "metadata": {},
     "output_type": "execute_result"
    },
    {
     "data": {
      "text/plain": [
       "' anybody got a watch with a second hand?\\n- I have.'"
      ]
     },
     "execution_count": 23,
     "metadata": {},
     "output_type": "execute_result"
    },
    {
     "data": {
      "text/plain": [
       "'1102\\n00:57:18,185 --> 00:57:20,603\\nWhen you want'"
      ]
     },
     "execution_count": 23,
     "metadata": {},
     "output_type": "execute_result"
    },
    {
     "data": {
      "text/plain": [
       "\" me to start, stamp your foot.\\nThat'll be the body\""
      ]
     },
     "execution_count": 23,
     "metadata": {},
     "output_type": "execute_result"
    },
    {
     "data": {
      "text/plain": [
       "' falling.1103\\n00:57:20,687 --> 00:57:22,605\\nYou '"
      ]
     },
     "execution_count": 23,
     "metadata": {},
     "output_type": "execute_result"
    },
    {
     "data": {
      "text/plain": [
       "'can time me from there.1104\\n00:57:22,689 --> 00:'"
      ]
     },
     "execution_count": 23,
     "metadata": {},
     "output_type": "execute_result"
    },
    {
     "data": {
      "text/plain": [
       "'57:24,774\\nWhat are we gonna do, play charades now?'"
      ]
     },
     "execution_count": 23,
     "metadata": {},
     "output_type": "execute_result"
    },
    {
     "data": {
      "text/plain": [
       "'1105\\n00:57:24,858 --> 00:57:26,901\\n- Come on! Wh'"
      ]
     },
     "execution_count": 23,
     "metadata": {},
     "output_type": "execute_result"
    },
    {
     "data": {
      "text/plain": [
       "\"at are we waiting for?\\n- Okay, I'm ready.1106\\n00\""
      ]
     },
     "execution_count": 23,
     "metadata": {},
     "output_type": "execute_result"
    },
    {
     "data": {
      "text/plain": [
       "':57:26,985 --> 00:57:28,903\\nWell, I want to wait\\nt'"
      ]
     },
     "execution_count": 23,
     "metadata": {},
     "output_type": "execute_result"
    },
    {
     "data": {
      "text/plain": [
       "'ill the second hand reaches 60.1107\\n00:57:28,987'"
      ]
     },
     "execution_count": 23,
     "metadata": {},
     "output_type": "execute_result"
    },
    {
     "data": {
      "text/plain": [
       "' --> 00:57:30,905\\nOh, come on.1108\\n00:57:37,621 '"
      ]
     },
     "execution_count": 23,
     "metadata": {},
     "output_type": "execute_result"
    },
    {
     "data": {
      "text/plain": [
       "'--> 00:57:40,623\\nCome on. Speed it up.\\nHe could wa'"
      ]
     },
     "execution_count": 23,
     "metadata": {},
     "output_type": "execute_result"
    },
    {
     "data": {
      "text/plain": [
       "'lk twice as fast as that.1109\\n00:57:42,084 --> 0'"
      ]
     },
     "execution_count": 23,
     "metadata": {},
     "output_type": "execute_result"
    },
    {
     "data": {
      "text/plain": [
       "'0:57:44,544\\nYou want me to walk faster than that,\\n'"
      ]
     },
     "execution_count": 23,
     "metadata": {},
     "output_type": "execute_result"
    },
    {
     "data": {
      "text/plain": [
       "'I will.1110\\n00:58:01,436 --> 00:58:03,896\\nLock. '"
      ]
     },
     "execution_count": 23,
     "metadata": {},
     "output_type": "execute_result"
    },
    {
     "data": {
      "text/plain": [
       "'Door. Stop.1111\\n00:58:03,981 --> 00:58:05,982\\n- '"
      ]
     },
     "execution_count": 23,
     "metadata": {},
     "output_type": "execute_result"
    },
    {
     "data": {
      "text/plain": [
       "\"Right.\\n- What's the time?1112\\n00:58:06,066 --> 0\""
      ]
     },
     "execution_count": 23,
     "metadata": {},
     "output_type": "execute_result"
    },
    {
     "data": {
      "text/plain": [
       "'0:58:09,318\\nUh, exactly 41 seconds.1113\\n00:58:09'"
      ]
     },
     "execution_count": 23,
     "metadata": {},
     "output_type": "execute_result"
    },
    {
     "data": {
      "text/plain": [
       "',403 --> 00:58:11,654\\nThis is what I think happene'"
      ]
     },
     "execution_count": 23,
     "metadata": {},
     "output_type": "execute_result"
    },
    {
     "data": {
      "text/plain": [
       "'d.1114\\n00:58:11,738 --> 00:58:14,574\\nThe old man'"
      ]
     },
     "execution_count": 23,
     "metadata": {},
     "output_type": "execute_result"
    },
    {
     "data": {
      "text/plain": [
       "' heard the fight between the boy\\nand his father a '"
      ]
     },
     "execution_count": 23,
     "metadata": {},
     "output_type": "execute_result"
    },
    {
     "data": {
      "text/plain": [
       "'few hours earlier.1115\\n00:58:14,658 --> 00:58:17'"
      ]
     },
     "execution_count": 23,
     "metadata": {},
     "output_type": "execute_result"
    },
    {
     "data": {
      "text/plain": [
       "\",493\\nThen when he's lying in bed, he heard the\\nbod\""
      ]
     },
     "execution_count": 23,
     "metadata": {},
     "output_type": "execute_result"
    },
    {
     "data": {
      "text/plain": [
       "\"y hit the floor in the boy's apartment...1116\\n00\""
      ]
     },
     "execution_count": 23,
     "metadata": {},
     "output_type": "execute_result"
    },
    {
     "data": {
      "text/plain": [
       "':58:17,578 --> 00:58:21,080\\nheard the woman scream'"
      ]
     },
     "execution_count": 23,
     "metadata": {},
     "output_type": "execute_result"
    },
    {
     "data": {
      "text/plain": [
       "' from across the street,\\ngot to his front door as '"
      ]
     },
     "execution_count": 23,
     "metadata": {},
     "output_type": "execute_result"
    },
    {
     "data": {
      "text/plain": [
       "'fast as he could...1117\\n00:58:21,165 --> 00:58:2'"
      ]
     },
     "execution_count": 23,
     "metadata": {},
     "output_type": "execute_result"
    },
    {
     "data": {
      "text/plain": [
       "'3,749\\nheard somebody racing down the stairs\\nand as'"
      ]
     },
     "execution_count": 23,
     "metadata": {},
     "output_type": "execute_result"
    },
    {
     "data": {
      "text/plain": [
       "'sumed it was the boy.1118\\n00:58:23,834 --> 00:58'"
      ]
     },
     "execution_count": 23,
     "metadata": {},
     "output_type": "execute_result"
    },
    {
     "data": {
      "text/plain": [
       "\":25,668\\n- I think that's possible.\\n- Assumed?111\""
      ]
     },
     "execution_count": 23,
     "metadata": {},
     "output_type": "execute_result"
    },
    {
     "data": {
      "text/plain": [
       "'9\\n00:58:25,752 --> 00:58:28,254\\nOh.1120\\n00:58:28'"
      ]
     },
     "execution_count": 23,
     "metadata": {},
     "output_type": "execute_result"
    },
    {
     "data": {
      "text/plain": [
       "\",338 --> 00:58:34,302\\nBrother, I've seen all kinds\""
      ]
     },
     "execution_count": 23,
     "metadata": {},
     "output_type": "execute_result"
    },
    {
     "data": {
      "text/plain": [
       "' of dishonesty in\\nmy day, but this little display '"
      ]
     },
     "execution_count": 23,
     "metadata": {},
     "output_type": "execute_result"
    },
    {
     "data": {
      "text/plain": [
       "'takes the cake.1121\\n00:58:34,386 --> 00:58:39,09'"
      ]
     },
     "execution_count": 23,
     "metadata": {},
     "output_type": "execute_result"
    },
    {
     "data": {
      "text/plain": [
       "'8\\nYou all come in here with your hearts bleeding a'"
      ]
     },
     "execution_count": 23,
     "metadata": {},
     "output_type": "execute_result"
    },
    {
     "data": {
      "text/plain": [
       "'ll\\nover the floor about slum kids and injustice.'"
      ]
     },
     "execution_count": 23,
     "metadata": {},
     "output_type": "execute_result"
    },
    {
     "data": {
      "text/plain": [
       "'1122\\n00:58:39,183 --> 00:58:41,184\\nYou listen to s'"
      ]
     },
     "execution_count": 23,
     "metadata": {},
     "output_type": "execute_result"
    },
    {
     "data": {
      "text/plain": [
       "'ome fairy tales.1123\\n00:58:41,268 --> 00:58:43,5'"
      ]
     },
     "execution_count": 23,
     "metadata": {},
     "output_type": "execute_result"
    },
    {
     "data": {
      "text/plain": [
       "'61\\nSuddenly you start getting through\\nto some of t'"
      ]
     },
     "execution_count": 23,
     "metadata": {},
     "output_type": "execute_result"
    },
    {
     "data": {
      "text/plain": [
       "'hese old ladies.1124\\n00:58:43,645 --> 00:58:46,6'"
      ]
     },
     "execution_count": 23,
     "metadata": {},
     "output_type": "execute_result"
    },
    {
     "data": {
      "text/plain": [
       "\"06\\nWell, you're not getting through to me.\\nI've ha\""
      ]
     },
     "execution_count": 23,
     "metadata": {},
     "output_type": "execute_result"
    },
    {
     "data": {
      "text/plain": [
       "'d enough.1125\\n00:58:46,690 --> 00:58:48,733\\nWhat'"
      ]
     },
     "execution_count": 23,
     "metadata": {},
     "output_type": "execute_result"
    },
    {
     "data": {
      "text/plain": [
       "\"'s the matter with you guys?1126\\n00:58:48,817 --\""
      ]
     },
     "execution_count": 23,
     "metadata": {},
     "output_type": "execute_result"
    },
    {
     "data": {
      "text/plain": [
       "\"> 00:58:51,527\\nYou all know he's guilty!\\nHe's got \""
      ]
     },
     "execution_count": 23,
     "metadata": {},
     "output_type": "execute_result"
    },
    {
     "data": {
      "text/plain": [
       "\"to burn!1127\\n00:58:51,612 --> 00:58:53,404\\nYou'r\""
      ]
     },
     "execution_count": 23,
     "metadata": {},
     "output_type": "execute_result"
    },
    {
     "data": {
      "text/plain": [
       "'e letting him slip\\nthrough our fingers.1128\\n00:5'"
      ]
     },
     "execution_count": 23,
     "metadata": {},
     "output_type": "execute_result"
    },
    {
     "data": {
      "text/plain": [
       "'8:53,488 --> 00:58:55,698\\n\"Slip through our finger'"
      ]
     },
     "execution_count": 23,
     "metadata": {},
     "output_type": "execute_result"
    },
    {
     "data": {
      "text/plain": [
       "'s\"?\\nAre you his executioner?1129\\n00:58:55,782 --'"
      ]
     },
     "execution_count": 23,
     "metadata": {},
     "output_type": "execute_result"
    },
    {
     "data": {
      "text/plain": [
       "\"> 00:58:57,450\\nI'm one of 'em!1130\\n00:58:58,619 \""
      ]
     },
     "execution_count": 23,
     "metadata": {},
     "output_type": "execute_result"
    },
    {
     "data": {
      "text/plain": [
       "\"--> 00:59:00,453\\nPerhaps you'd like to pull the sw\""
      ]
     },
     "execution_count": 23,
     "metadata": {},
     "output_type": "execute_result"
    },
    {
     "data": {
      "text/plain": [
       "'itch.1131\\n00:59:00,537 --> 00:59:02,538\\nFor this'"
      ]
     },
     "execution_count": 23,
     "metadata": {},
     "output_type": "execute_result"
    },
    {
     "data": {
      "text/plain": [
       "' kid, you bet I would.1132\\n00:59:02,623 --> 00:5'"
      ]
     },
     "execution_count": 23,
     "metadata": {},
     "output_type": "execute_result"
    },
    {
     "data": {
      "text/plain": [
       "'9:05,875\\nI feel sorry for you. What it must\\nfeel l'"
      ]
     },
     "execution_count": 23,
     "metadata": {},
     "output_type": "execute_result"
    },
    {
     "data": {
      "text/plain": [
       "'ike to want to pull the switch.1133\\n00:59:06,752'"
      ]
     },
     "execution_count": 23,
     "metadata": {},
     "output_type": "execute_result"
    },
    {
     "data": {
      "text/plain": [
       "' --> 00:59:10,671\\nEver since you walked into this '"
      ]
     },
     "execution_count": 23,
     "metadata": {},
     "output_type": "execute_result"
    },
    {
     "data": {
      "text/plain": [
       "\"room, you've been\\nacting like a self-appointed pub\""
      ]
     },
     "execution_count": 23,
     "metadata": {},
     "output_type": "execute_result"
    },
    {
     "data": {
      "text/plain": [
       "'lic avenger.1134\\n00:59:10,756 --> 00:59:15,051\\nY'"
      ]
     },
     "execution_count": 23,
     "metadata": {},
     "output_type": "execute_result"
    },
    {
     "data": {
      "text/plain": [
       "'ou want to see this boy die because you\\npersonally'"
      ]
     },
     "execution_count": 23,
     "metadata": {},
     "output_type": "execute_result"
    },
    {
     "data": {
      "text/plain": [
       "' want it, not because of the facts.1135\\n00:59:15'"
      ]
     },
     "execution_count": 23,
     "metadata": {},
     "output_type": "execute_result"
    },
    {
     "data": {
      "text/plain": [
       "\",135 --> 00:59:17,303\\n- You're a sadist.\\n- You...\\n\""
      ]
     },
     "execution_count": 23,
     "metadata": {},
     "output_type": "execute_result"
    },
    {
     "data": {
      "text/plain": [
       "\"\\n1136\\n00:59:17,387 --> 00:59:21,224\\nLet me go!\\nI'l\""
      ]
     },
     "execution_count": 23,
     "metadata": {},
     "output_type": "execute_result"
    },
    {
     "data": {
      "text/plain": [
       "\"l kill him. I'll kill him!1137\\n00:59:21,308 --> \""
      ]
     },
     "execution_count": 23,
     "metadata": {},
     "output_type": "execute_result"
    },
    {
     "data": {
      "text/plain": [
       "\"00:59:23,726\\nYou don't really mean\\nyou'll kill me,\""
      ]
     },
     "execution_count": 23,
     "metadata": {},
     "output_type": "execute_result"
    },
    {
     "data": {
      "text/plain": [
       "' do you?1138\\n00:59:31,026 --> 00:59:33,361\\nIs th'"
      ]
     },
     "execution_count": 23,
     "metadata": {},
     "output_type": "execute_result"
    },
    {
     "data": {
      "text/plain": [
       "'ere anything wrong, gentlemen?\\nI heard some noise.'"
      ]
     },
     "execution_count": 23,
     "metadata": {},
     "output_type": "execute_result"
    },
    {
     "data": {
      "text/plain": [
       "'1139\\n00:59:33,445 --> 00:59:37,448\\nOh, no. Every'"
      ]
     },
     "execution_count": 23,
     "metadata": {},
     "output_type": "execute_result"
    },
    {
     "data": {
      "text/plain": [
       "\"thing's all right. We're just\\n- You know, friendly\""
      ]
     },
     "execution_count": 23,
     "metadata": {},
     "output_type": "execute_result"
    },
    {
     "data": {
      "text/plain": [
       "\" little argument. It's...1140\\n00:59:37,532 --> 0\""
      ]
     },
     "execution_count": 23,
     "metadata": {},
     "output_type": "execute_result"
    },
    {
     "data": {
      "text/plain": [
       "\"0:59:40,826\\nUm, listen, we're through with that di\""
      ]
     },
     "execution_count": 23,
     "metadata": {},
     "output_type": "execute_result"
    },
    {
     "data": {
      "text/plain": [
       "'agram.\\nYou can take it if you want.1141\\n00:59:42'"
      ]
     },
     "execution_count": 23,
     "metadata": {},
     "output_type": "execute_result"
    },
    {
     "data": {
      "text/plain": [
       "',204 --> 00:59:43,871\\nHere you are. Thank you.11'"
      ]
     },
     "execution_count": 23,
     "metadata": {},
     "output_type": "execute_result"
    },
    {
     "data": {
      "text/plain": [
       "'42\\n00:59:49,419 --> 00:59:51,504\\nWhat are you look'"
      ]
     },
     "execution_count": 23,
     "metadata": {},
     "output_type": "execute_result"
    },
    {
     "data": {
      "text/plain": [
       "\"in' at?1143\\n01:00:12,276 --> 01:00:14,318\\nI supp\""
      ]
     },
     "execution_count": 23,
     "metadata": {},
     "output_type": "execute_result"
    },
    {
     "data": {
      "text/plain": [
       "'ose somebody\\nhas to start it off again.1144\\n01:0'"
      ]
     },
     "execution_count": 23,
     "metadata": {},
     "output_type": "execute_result"
    },
    {
     "data": {
      "text/plain": [
       "'0:14,403 --> 01:00:18,114\\n- I beg pardon.\\n- \"I beg'"
      ]
     },
     "execution_count": 23,
     "metadata": {},
     "output_type": "execute_result"
    },
    {
     "data": {
      "text/plain": [
       "' pardon.\" What are you so polite about?1145\\n01:0'"
      ]
     },
     "execution_count": 23,
     "metadata": {},
     "output_type": "execute_result"
    },
    {
     "data": {
      "text/plain": [
       "\"0:18,198 --> 01:00:20,283\\nFor the same reason you'\""
      ]
     },
     "execution_count": 23,
     "metadata": {},
     "output_type": "execute_result"
    },
    {
     "data": {
      "text/plain": [
       "\"re not.1146\\n01:00:20,367 --> 01:00:22,368\\nIt's t\""
      ]
     },
     "execution_count": 23,
     "metadata": {},
     "output_type": "execute_result"
    },
    {
     "data": {
      "text/plain": [
       "'he way I was brought up.1147\\n01:00:24,288 --> 01'"
      ]
     },
     "execution_count": 23,
     "metadata": {},
     "output_type": "execute_result"
    },
    {
     "data": {
      "text/plain": [
       "':00:26,205\\nThis fighting...1148\\n01:00:26,290 -->'"
      ]
     },
     "execution_count": 23,
     "metadata": {},
     "output_type": "execute_result"
    },
    {
     "data": {
      "text/plain": [
       "\" 01:00:28,332\\nThat's not why we are here, to fight\""
      ]
     },
     "execution_count": 23,
     "metadata": {},
     "output_type": "execute_result"
    },
    {
     "data": {
      "text/plain": [
       "'.1149\\n01:00:28,417 --> 01:00:30,793\\nWe have a re'"
      ]
     },
     "execution_count": 23,
     "metadata": {},
     "output_type": "execute_result"
    },
    {
     "data": {
      "text/plain": [
       "'sponsibility.1150\\n01:00:31,962 --> 01:00:36,549\\n'"
      ]
     },
     "execution_count": 23,
     "metadata": {},
     "output_type": "execute_result"
    },
    {
     "data": {
      "text/plain": [
       "'This, I have always thought,\\nis a remarkable thing'"
      ]
     },
     "execution_count": 23,
     "metadata": {},
     "output_type": "execute_result"
    },
    {
     "data": {
      "text/plain": [
       "' about democracy...1151\\n01:00:36,633 --> 01:00:3'"
      ]
     },
     "execution_count": 23,
     "metadata": {},
     "output_type": "execute_result"
    },
    {
     "data": {
      "text/plain": [
       "'8,509\\nthat we are...1152\\n01:00:39,720 --> 01:00:'"
      ]
     },
     "execution_count": 23,
     "metadata": {},
     "output_type": "execute_result"
    },
    {
     "data": {
      "text/plain": [
       "'42,305\\nUh, what is the word?1153\\n01:00:42,389 --'"
      ]
     },
     "execution_count": 23,
     "metadata": {},
     "output_type": "execute_result"
    },
    {
     "data": {
      "text/plain": [
       "'> 01:00:45,474\\nNotified.\\nThat we are notified by m'"
      ]
     },
     "execution_count": 23,
     "metadata": {},
     "output_type": "execute_result"
    },
    {
     "data": {
      "text/plain": [
       "'ail...1154\\n01:00:45,559 --> 01:00:49,895\\nto come'"
      ]
     },
     "execution_count": 23,
     "metadata": {},
     "output_type": "execute_result"
    },
    {
     "data": {
      "text/plain": [
       "' down to this place\\nto decide on the guilt or inno'"
      ]
     },
     "execution_count": 23,
     "metadata": {},
     "output_type": "execute_result"
    },
    {
     "data": {
      "text/plain": [
       "'cence...1155\\n01:00:49,980 --> 01:00:54,025\\nof a '"
      ]
     },
     "execution_count": 23,
     "metadata": {},
     "output_type": "execute_result"
    },
    {
     "data": {
      "text/plain": [
       "'man we have never heard of before.1156\\n01:00:54,'"
      ]
     },
     "execution_count": 23,
     "metadata": {},
     "output_type": "execute_result"
    },
    {
     "data": {
      "text/plain": [
       "'109 --> 01:00:58,654\\nWe have nothing to gain or lo'"
      ]
     },
     "execution_count": 23,
     "metadata": {},
     "output_type": "execute_result"
    },
    {
     "data": {
      "text/plain": [
       "'se\\nby - by our verdict.1157\\n01:00:59,573 --> 01:'"
      ]
     },
     "execution_count": 23,
     "metadata": {},
     "output_type": "execute_result"
    },
    {
     "data": {
      "text/plain": [
       "'01:02,700\\nThis is one of the reasons\\nwhy we are st'"
      ]
     },
     "execution_count": 23,
     "metadata": {},
     "output_type": "execute_result"
    },
    {
     "data": {
      "text/plain": [
       "'rong.1158\\n01:01:03,994 --> 01:01:06,829\\nWe shoul'"
      ]
     },
     "execution_count": 23,
     "metadata": {},
     "output_type": "execute_result"
    },
    {
     "data": {
      "text/plain": [
       "'d not make it a personal thing.1159\\n01:01:08,165'"
      ]
     },
     "execution_count": 23,
     "metadata": {},
     "output_type": "execute_result"
    },
    {
     "data": {
      "text/plain": [
       "' --> 01:01:09,832\\nThank you.1160\\n01:01:11,043 --'"
      ]
     },
     "execution_count": 23,
     "metadata": {},
     "output_type": "execute_result"
    },
    {
     "data": {
      "text/plain": [
       "'> 01:01:13,336\\nIf nobody else has an idea,\\nI may h'"
      ]
     },
     "execution_count": 23,
     "metadata": {},
     "output_type": "execute_result"
    },
    {
     "data": {
      "text/plain": [
       "'ave a cutie here.1161\\n01:01:13,420 --> 01:01:16,'"
      ]
     },
     "execution_count": 23,
     "metadata": {},
     "output_type": "execute_result"
    },
    {
     "data": {
      "text/plain": [
       "\"172\\nI mean, I haven't given it much thought,\\nbut l\""
      ]
     },
     "execution_count": 23,
     "metadata": {},
     "output_type": "execute_result"
    },
    {
     "data": {
      "text/plain": [
       "\"et's throw it out on the stoop...1162\\n01:01:16,2\""
      ]
     },
     "execution_count": 23,
     "metadata": {},
     "output_type": "execute_result"
    },
    {
     "data": {
      "text/plain": [
       "'56 --> 01:01:17,882\\nand see if the cat licks it up'"
      ]
     },
     "execution_count": 23,
     "metadata": {},
     "output_type": "execute_result"
    },
    {
     "data": {
      "text/plain": [
       "'.1163\\n01:01:17,966 --> 01:01:20,301\\n- The cat li'"
      ]
     },
     "execution_count": 23,
     "metadata": {},
     "output_type": "execute_result"
    },
    {
     "data": {
      "text/plain": [
       "'cks it up?\\n- Yeah. If the boy...1164\\n01:01:24,80'"
      ]
     },
     "execution_count": 23,
     "metadata": {},
     "output_type": "execute_result"
    },
    {
     "data": {
      "text/plain": [
       "\"6 --> 01:01:26,932\\nLook how dark it's getting out \""
      ]
     },
     "execution_count": 23,
     "metadata": {},
     "output_type": "execute_result"
    },
    {
     "data": {
      "text/plain": [
       "\"there.1165\\n01:01:27,017 --> 01:01:29,477\\nI'll be\""
      ]
     },
     "execution_count": 23,
     "metadata": {},
     "output_type": "execute_result"
    },
    {
     "data": {
      "text/plain": [
       "\"t we're gonna have a storm now.1166\\n01:01:31,271\""
      ]
     },
     "execution_count": 23,
     "metadata": {},
     "output_type": "execute_result"
    },
    {
     "data": {
      "text/plain": [
       "\" --> 01:01:33,731\\nBoy, oh, boy. It's really hot, h\""
      ]
     },
     "execution_count": 23,
     "metadata": {},
     "output_type": "execute_result"
    },
    {
     "data": {
      "text/plain": [
       "'uh?1167\\n01:01:35,233 --> 01:01:38,027\\nPardon me,'"
      ]
     },
     "execution_count": 23,
     "metadata": {},
     "output_type": "execute_result"
    },
    {
     "data": {
      "text/plain": [
       "\" but don't you ever sweat?1168\\n01:01:39,446 --> \""
      ]
     },
     "execution_count": 23,
     "metadata": {},
     "output_type": "execute_result"
    },
    {
     "data": {
      "text/plain": [
       "\"01:01:41,614\\nNo, I don't.1169\\n01:01:41,698 --> 0\""
      ]
     },
     "execution_count": 23,
     "metadata": {},
     "output_type": "execute_result"
    },
    {
     "data": {
      "text/plain": [
       "'1:01:43,699\\nWell, listen. I, uh...1170\\n01:01:43,'"
      ]
     },
     "execution_count": 23,
     "metadata": {},
     "output_type": "execute_result"
    },
    {
     "data": {
      "text/plain": [
       "'784 --> 01:01:46,952\\nI was wondering if, uh, maybe'"
      ]
     },
     "execution_count": 23,
     "metadata": {},
     "output_type": "execute_result"
    },
    {
     "data": {
      "text/plain": [
       "'...1171\\n01:01:47,037 --> 01:01:49,330\\nmaybe we s'"
      ]
     },
     "execution_count": 23,
     "metadata": {},
     "output_type": "execute_result"
    },
    {
     "data": {
      "text/plain": [
       "'hould take another vote.1172\\n01:01:49,414 --> 01'"
      ]
     },
     "execution_count": 23,
     "metadata": {},
     "output_type": "execute_result"
    },
    {
     "data": {
      "text/plain": [
       "':01:53,709\\nOh, great. Maybe we can follow this one'"
      ]
     },
     "execution_count": 23,
     "metadata": {},
     "output_type": "execute_result"
    },
    {
     "data": {
      "text/plain": [
       "' up\\nwith a little dancing and refreshments, huh?'"
      ]
     },
     "execution_count": 23,
     "metadata": {},
     "output_type": "execute_result"
    },
    {
     "data": {
      "text/plain": [
       "'1173\\n01:01:53,794 --> 01:01:55,586\\n- Hmm.\\n- Mr. Fo'"
      ]
     },
     "execution_count": 23,
     "metadata": {},
     "output_type": "execute_result"
    },
    {
     "data": {
      "text/plain": [
       "'reman?1174\\n01:01:56,380 --> 01:01:59,924\\nWell, t'"
      ]
     },
     "execution_count": 23,
     "metadata": {},
     "output_type": "execute_result"
    },
    {
     "data": {
      "text/plain": [
       "\"hat's okay with me.\\nAnyone doesn't want to vote?\""
      ]
     },
     "execution_count": 23,
     "metadata": {},
     "output_type": "execute_result"
    },
    {
     "data": {
      "text/plain": [
       "'1175\\n01:02:00,008 --> 01:02:03,219\\n- Hey, come on.'"
      ]
     },
     "execution_count": 23,
     "metadata": {},
     "output_type": "execute_result"
    },
    {
     "data": {
      "text/plain": [
       "\" Come on.\\n- I'm sorry.1176\\n01:02:03,303 --> 01:0\""
      ]
     },
     "execution_count": 23,
     "metadata": {},
     "output_type": "execute_result"
    },
    {
     "data": {
      "text/plain": [
       "'2:06,806\\nI think we ought to have an open ballot -'"
      ]
     },
     "execution_count": 23,
     "metadata": {},
     "output_type": "execute_result"
    },
    {
     "data": {
      "text/plain": [
       "'\\ncall out our votes, you know.1177\\n01:02:06,890 '"
      ]
     },
     "execution_count": 23,
     "metadata": {},
     "output_type": "execute_result"
    },
    {
     "data": {
      "text/plain": [
       "\"--> 01:02:09,100\\nLet's see who stands where.1178\""
      ]
     },
     "execution_count": 23,
     "metadata": {},
     "output_type": "execute_result"
    },
    {
     "data": {
      "text/plain": [
       "'\\n01:02:09,184 --> 01:02:11,685\\nThat sounds fair to'"
      ]
     },
     "execution_count": 23,
     "metadata": {},
     "output_type": "execute_result"
    },
    {
     "data": {
      "text/plain": [
       "' me.\\nAnyone object?1179\\n01:02:14,439 --> 01:02:1'"
      ]
     },
     "execution_count": 23,
     "metadata": {},
     "output_type": "execute_result"
    },
    {
     "data": {
      "text/plain": [
       "\"7,149\\nOkay. I'll call off your jury numbers.\\nOne.\\n\""
      ]
     },
     "execution_count": 23,
     "metadata": {},
     "output_type": "execute_result"
    },
    {
     "data": {
      "text/plain": [
       "\"\\n1180\\n01:02:18,151 --> 01:02:20,945\\nOh, that's me.\""
      ]
     },
     "execution_count": 23,
     "metadata": {},
     "output_type": "execute_result"
    },
    {
     "data": {
      "text/plain": [
       "' I vote guilty.1181\\n01:02:21,029 --> 01:02:22,82'"
      ]
     },
     "execution_count": 23,
     "metadata": {},
     "output_type": "execute_result"
    },
    {
     "data": {
      "text/plain": [
       "'2\\nTwo?1182\\n01:02:22,906 --> 01:02:24,407\\nNot gui'"
      ]
     },
     "execution_count": 23,
     "metadata": {},
     "output_type": "execute_result"
    },
    {
     "data": {
      "text/plain": [
       "'lty.1183\\n01:02:24,950 --> 01:02:27,785\\n- Number '"
      ]
     },
     "execution_count": 23,
     "metadata": {},
     "output_type": "execute_result"
    },
    {
     "data": {
      "text/plain": [
       "'three?\\n- Guilty.1184\\n01:02:28,787 --> 01:02:30,3'"
      ]
     },
     "execution_count": 23,
     "metadata": {},
     "output_type": "execute_result"
    },
    {
     "data": {
      "text/plain": [
       "'29\\nNumber four?1185\\n01:02:31,832 --> 01:02:33,62'"
      ]
     },
     "execution_count": 23,
     "metadata": {},
     "output_type": "execute_result"
    },
    {
     "data": {
      "text/plain": [
       "'4\\nGuilty.1186\\n01:02:33,708 --> 01:02:36,460\\n- Nu'"
      ]
     },
     "execution_count": 23,
     "metadata": {},
     "output_type": "execute_result"
    },
    {
     "data": {
      "text/plain": [
       "'mber five?\\n- Not guilty.1187\\n01:02:37,546 --> 01'"
      ]
     },
     "execution_count": 23,
     "metadata": {},
     "output_type": "execute_result"
    },
    {
     "data": {
      "text/plain": [
       "':02:40,840\\n- Number six?\\n- Not guilty.1188\\n01:02'"
      ]
     },
     "execution_count": 23,
     "metadata": {},
     "output_type": "execute_result"
    },
    {
     "data": {
      "text/plain": [
       "':41,842 --> 01:02:43,509\\nNumber seven?1189\\n01:02'"
      ]
     },
     "execution_count": 23,
     "metadata": {},
     "output_type": "execute_result"
    },
    {
     "data": {
      "text/plain": [
       "':43,593 --> 01:02:45,302\\nGuilty.1190\\n01:02:45,38'"
      ]
     },
     "execution_count": 23,
     "metadata": {},
     "output_type": "execute_result"
    },
    {
     "data": {
      "text/plain": [
       "'7 --> 01:02:47,430\\nNumber eight?1191\\n01:02:47,51'"
      ]
     },
     "execution_count": 23,
     "metadata": {},
     "output_type": "execute_result"
    },
    {
     "data": {
      "text/plain": [
       "'4 --> 01:02:49,181\\nNot guilty.1192\\n01:02:50,517 '"
      ]
     },
     "execution_count": 23,
     "metadata": {},
     "output_type": "execute_result"
    },
    {
     "data": {
      "text/plain": [
       "'--> 01:02:53,436\\n- Number nine?\\n- Not guilty.119'"
      ]
     },
     "execution_count": 23,
     "metadata": {},
     "output_type": "execute_result"
    },
    {
     "data": {
      "text/plain": [
       "'3\\n01:02:53,520 --> 01:02:55,688\\n- Number 10?\\n- Gui'"
      ]
     },
     "execution_count": 23,
     "metadata": {},
     "output_type": "execute_result"
    },
    {
     "data": {
      "text/plain": [
       "'lty.1194\\n01:02:57,482 --> 01:02:59,525\\nNumber 11'"
      ]
     },
     "execution_count": 23,
     "metadata": {},
     "output_type": "execute_result"
    },
    {
     "data": {
      "text/plain": [
       "'?1195\\n01:02:59,609 --> 01:03:01,444\\nNot guilty.\\n'"
      ]
     },
     "execution_count": 23,
     "metadata": {},
     "output_type": "execute_result"
    },
    {
     "data": {
      "text/plain": [
       "'\\n1196\\n01:03:01,528 --> 01:03:03,028\\nNumber 12?11'"
      ]
     },
     "execution_count": 23,
     "metadata": {},
     "output_type": "execute_result"
    },
    {
     "data": {
      "text/plain": [
       "'97\\n01:03:03,947 --> 01:03:06,282\\nNumber 12.1198\\n'"
      ]
     },
     "execution_count": 23,
     "metadata": {},
     "output_type": "execute_result"
    },
    {
     "data": {
      "text/plain": [
       "'01:03:06,366 --> 01:03:07,867\\nGuilty.1199\\n01:03:'"
      ]
     },
     "execution_count": 23,
     "metadata": {},
     "output_type": "execute_result"
    },
    {
     "data": {
      "text/plain": [
       "'13,790 --> 01:03:15,875\\nThe vote is now six to six'"
      ]
     },
     "execution_count": 23,
     "metadata": {},
     "output_type": "execute_result"
    },
    {
     "data": {
      "text/plain": [
       "'.1200\\n01:03:15,959 --> 01:03:19,128\\nYeah, right.'"
      ]
     },
     "execution_count": 23,
     "metadata": {},
     "output_type": "execute_result"
    },
    {
     "data": {
      "text/plain": [
       "'\\nAnd we go into extra innings here, huh?1201\\n01:'"
      ]
     },
     "execution_count": 23,
     "metadata": {},
     "output_type": "execute_result"
    },
    {
     "data": {
      "text/plain": [
       "\"03:21,548 --> 01:03:26,051\\nSix to six. I'm telling\""
      ]
     },
     "execution_count": 23,
     "metadata": {},
     "output_type": "execute_result"
    },
    {
     "data": {
      "text/plain": [
       "' you, some of you\\npeople in here must be out of yo'"
      ]
     },
     "execution_count": 23,
     "metadata": {},
     "output_type": "execute_result"
    },
    {
     "data": {
      "text/plain": [
       "'ur minds.1202\\n01:03:26,136 --> 01:03:27,970\\nA ki'"
      ]
     },
     "execution_count": 23,
     "metadata": {},
     "output_type": "execute_result"
    },
    {
     "data": {
      "text/plain": [
       "'d like that.1203\\n01:03:28,054 --> 01:03:31,307\\nI'"
      ]
     },
     "execution_count": 23,
     "metadata": {},
     "output_type": "execute_result"
    },
    {
     "data": {
      "text/plain": [
       "\" don't think the kind of boy he is\\nhas anything to\""
      ]
     },
     "execution_count": 23,
     "metadata": {},
     "output_type": "execute_result"
    },
    {
     "data": {
      "text/plain": [
       "' do with it.1204\\n01:03:31,391 --> 01:03:33,476\\nT'"
      ]
     },
     "execution_count": 23,
     "metadata": {},
     "output_type": "execute_result"
    },
    {
     "data": {
      "text/plain": [
       "'he facts are supposed\\nto determine the case.1205'"
      ]
     },
     "execution_count": 23,
     "metadata": {},
     "output_type": "execute_result"
    },
    {
     "data": {
      "text/plain": [
       "\"\\n01:03:33,560 --> 01:03:35,728\\nDon't give me that!\""
      ]
     },
     "execution_count": 23,
     "metadata": {},
     "output_type": "execute_result"
    },
    {
     "data": {
      "text/plain": [
       "\"\\nI'm sick and tired of facts!1206\\n01:03:35,812 -\""
      ]
     },
     "execution_count": 23,
     "metadata": {},
     "output_type": "execute_result"
    },
    {
     "data": {
      "text/plain": [
       "'-> 01:03:37,813\\nYou can twist them any way you lik'"
      ]
     },
     "execution_count": 23,
     "metadata": {},
     "output_type": "execute_result"
    },
    {
     "data": {
      "text/plain": [
       "'e.\\nYou know what I mean?1207\\n01:03:37,898 --> 01'"
      ]
     },
     "execution_count": 23,
     "metadata": {},
     "output_type": "execute_result"
    },
    {
     "data": {
      "text/plain": [
       "\":03:40,483\\nThat's exactly the point\\nthis gentleman\""
      ]
     },
     "execution_count": 23,
     "metadata": {},
     "output_type": "execute_result"
    },
    {
     "data": {
      "text/plain": [
       "' has been making.1208\\n01:03:40,567 --> 01:03:43,'"
      ]
     },
     "execution_count": 23,
     "metadata": {},
     "output_type": "execute_result"
    },
    {
     "data": {
      "text/plain": [
       "'486\\n- Oh!\\n- I mean, you keep shouting at the top o'"
      ]
     },
     "execution_count": 23,
     "metadata": {},
     "output_type": "execute_result"
    },
    {
     "data": {
      "text/plain": [
       "'f your lungs.1209\\n01:03:45,155 --> 01:03:47,072\\n'"
      ]
     },
     "execution_count": 23,
     "metadata": {},
     "output_type": "execute_result"
    },
    {
     "data": {
      "text/plain": [
       "\"I'd like to be a few years younger.1210\\n01:03:47\""
      ]
     },
     "execution_count": 23,
     "metadata": {},
     "output_type": "execute_result"
    },
    {
     "data": {
      "text/plain": [
       "',157 --> 01:03:49,074\\nThat man gets on my...1211'"
      ]
     },
     "execution_count": 23,
     "metadata": {},
     "output_type": "execute_result"
    },
    {
     "data": {
      "text/plain": [
       "\"\\n01:03:52,454 --> 01:03:55,289\\n- My, it's hot in h\""
      ]
     },
     "execution_count": 23,
     "metadata": {},
     "output_type": "execute_result"
    },
    {
     "data": {
      "text/plain": [
       "\"ere, isn't it?\\n- Do you want a drink of water?12\""
      ]
     },
     "execution_count": 23,
     "metadata": {},
     "output_type": "execute_result"
    },
    {
     "data": {
      "text/plain": [
       "'12\\n01:03:55,373 --> 01:03:59,084\\nNo. No, thanks. T'"
      ]
     },
     "execution_count": 23,
     "metadata": {},
     "output_type": "execute_result"
    },
    {
     "data": {
      "text/plain": [
       "\"hanks.1213\\n01:04:06,927 --> 01:04:08,719\\nIt's go\""
      ]
     },
     "execution_count": 23,
     "metadata": {},
     "output_type": "execute_result"
    },
    {
     "data": {
      "text/plain": [
       "'nna rain.1214\\n01:04:08,803 --> 01:04:11,055\\nWell'"
      ]
     },
     "execution_count": 23,
     "metadata": {},
     "output_type": "execute_result"
    },
    {
     "data": {
      "text/plain": [
       "\", how'd you figure that out, killer?1215\\n01:04:1\""
      ]
     },
     "execution_count": 23,
     "metadata": {},
     "output_type": "execute_result"
    },
    {
     "data": {
      "text/plain": [
       "'2,307 --> 01:04:14,183\\nHow come you changed your v'"
      ]
     },
     "execution_count": 23,
     "metadata": {},
     "output_type": "execute_result"
    },
    {
     "data": {
      "text/plain": [
       "'ote?1216\\n01:04:14,267 --> 01:04:16,685\\nWell, it '"
      ]
     },
     "execution_count": 23,
     "metadata": {},
     "output_type": "execute_result"
    },
    {
     "data": {
      "text/plain": [
       "'just seemed to me\\nthere was room for doubt.1217\\n'"
      ]
     },
     "execution_count": 23,
     "metadata": {},
     "output_type": "execute_result"
    },
    {
     "data": {
      "text/plain": [
       "\"01:04:16,770 --> 01:04:18,979\\nYou haven't got a le\""
      ]
     },
     "execution_count": 23,
     "metadata": {},
     "output_type": "execute_result"
    },
    {
     "data": {
      "text/plain": [
       "'g to stand on.\\nYou know that, I hope.1218\\n01:04:'"
      ]
     },
     "execution_count": 23,
     "metadata": {},
     "output_type": "execute_result"
    },
    {
     "data": {
      "text/plain": [
       "\"19,064 --> 01:04:22,066\\nI don't feel that way.\\nThe\""
      ]
     },
     "execution_count": 23,
     "metadata": {},
     "output_type": "execute_result"
    },
    {
     "data": {
      "text/plain": [
       "'re were a lot of details that never came out.121'"
      ]
     },
     "execution_count": 23,
     "metadata": {},
     "output_type": "execute_result"
    },
    {
     "data": {
      "text/plain": [
       "'9\\n01:04:22,150 --> 01:04:25,694\\n- Yeah. Well, good'"
      ]
     },
     "execution_count": 23,
     "metadata": {},
     "output_type": "execute_result"
    },
    {
     "data": {
      "text/plain": [
       "\" luck.\\n- Oh, come on. You're like everybody else.\\n\""
      ]
     },
     "execution_count": 23,
     "metadata": {},
     "output_type": "execute_result"
    },
    {
     "data": {
      "text/plain": [
       "'\\n1220\\n01:04:25,779 --> 01:04:27,988\\nYou think too '"
      ]
     },
     "execution_count": 23,
     "metadata": {},
     "output_type": "execute_result"
    },
    {
     "data": {
      "text/plain": [
       "'much.\\nYou get mixed up.1221\\n01:04:29,241 --> 01:'"
      ]
     },
     "execution_count": 23,
     "metadata": {},
     "output_type": "execute_result"
    },
    {
     "data": {
      "text/plain": [
       "'04:33,202\\n- You know what I mean?\\n- Now, listen. I'"
      ]
     },
     "execution_count": 23,
     "metadata": {},
     "output_type": "execute_result"
    },
    {
     "data": {
      "text/plain": [
       "\" don't think you have any right...1222\\n01:04:33,\""
      ]
     },
     "execution_count": 23,
     "metadata": {},
     "output_type": "execute_result"
    },
    {
     "data": {
      "text/plain": [
       "'286 --> 01:04:35,871\\nLoudmouth.1223\\n01:05:28,592'"
      ]
     },
     "execution_count": 23,
     "metadata": {},
     "output_type": "execute_result"
    },
    {
     "data": {
      "text/plain": [
       "' --> 01:05:31,093\\nLook at that come down, will you'"
      ]
     },
     "execution_count": 23,
     "metadata": {},
     "output_type": "execute_result"
    },
    {
     "data": {
      "text/plain": [
       "'?1224\\n01:05:32,262 --> 01:05:34,138\\nYou know...\\n'"
      ]
     },
     "execution_count": 23,
     "metadata": {},
     "output_type": "execute_result"
    },
    {
     "data": {
      "text/plain": [
       "'\\n1225\\n01:05:34,222 --> 01:05:36,724\\nthis reminds m'"
      ]
     },
     "execution_count": 23,
     "metadata": {},
     "output_type": "execute_result"
    },
    {
     "data": {
      "text/plain": [
       "'e of a storm we had last...1226\\n01:05:36,808 -->'"
      ]
     },
     "execution_count": 23,
     "metadata": {},
     "output_type": "execute_result"
    },
    {
     "data": {
      "text/plain": [
       "' 01:05:40,269\\nOh, when was that? November...1227'"
      ]
     },
     "execution_count": 23,
     "metadata": {},
     "output_type": "execute_result"
    },
    {
     "data": {
      "text/plain": [
       "\"\\n01:05:40,353 --> 01:05:43,439\\nI don't know. Somet\""
      ]
     },
     "execution_count": 23,
     "metadata": {},
     "output_type": "execute_result"
    },
    {
     "data": {
      "text/plain": [
       "'hing.\\nIt was quite a storm we had there.1228\\n01:'"
      ]
     },
     "execution_count": 23,
     "metadata": {},
     "output_type": "execute_result"
    },
    {
     "data": {
      "text/plain": [
       "'05:43,523 --> 01:05:45,899\\nIt was right in the mid'"
      ]
     },
     "execution_count": 23,
     "metadata": {},
     "output_type": "execute_result"
    },
    {
     "data": {
      "text/plain": [
       "'dle of a game.1229\\n01:05:45,984 --> 01:05:48,611'"
      ]
     },
     "execution_count": 23,
     "metadata": {},
     "output_type": "execute_result"
    },
    {
     "data": {
      "text/plain": [
       "'\\nUh, we were behind 7-6...1230\\n01:05:48,695 --> '"
      ]
     },
     "execution_count": 23,
     "metadata": {},
     "output_type": "execute_result"
    },
    {
     "data": {
      "text/plain": [
       "'01:05:51,280\\nbut we just started to move the ball,'"
      ]
     },
     "execution_count": 23,
     "metadata": {},
     "output_type": "execute_result"
    },
    {
     "data": {
      "text/plain": [
       "'\\nright off the tackle.1231\\n01:05:51,364 --> 01:0'"
      ]
     },
     "execution_count": 23,
     "metadata": {},
     "output_type": "execute_result"
    },
    {
     "data": {
      "text/plain": [
       "'5:54,158\\nStarted cutting right -\\nslash here and sl'"
      ]
     },
     "execution_count": 23,
     "metadata": {},
     "output_type": "execute_result"
    },
    {
     "data": {
      "text/plain": [
       "'ash right in...1232\\n01:05:54,242 --> 01:05:56,03'"
      ]
     },
     "execution_count": 23,
     "metadata": {},
     "output_type": "execute_result"
    },
    {
     "data": {
      "text/plain": [
       "'5\\ncut right through.1233\\n01:05:56,119 --> 01:05:'"
      ]
     },
     "execution_count": 23,
     "metadata": {},
     "output_type": "execute_result"
    },
    {
     "data": {
      "text/plain": [
       "'58,621\\nAnd, uh...1234\\n01:05:58,705 --> 01:06:00,'"
      ]
     },
     "execution_count": 23,
     "metadata": {},
     "output_type": "execute_result"
    },
    {
     "data": {
      "text/plain": [
       "'914\\nWe had this kid Slattery, you know?1235\\n01:0'"
      ]
     },
     "execution_count": 23,
     "metadata": {},
     "output_type": "execute_result"
    },
    {
     "data": {
      "text/plain": [
       "'6:02,083 --> 01:06:05,461\\nA real - He was an ox.\\nY'"
      ]
     },
     "execution_count": 23,
     "metadata": {},
     "output_type": "execute_result"
    },
    {
     "data": {
      "text/plain": [
       "'ou know, a real ox.1236\\n01:06:05,545 --> 01:06:0'"
      ]
     },
     "execution_count": 23,
     "metadata": {},
     "output_type": "execute_result"
    },
    {
     "data": {
      "text/plain": [
       "'8,047\\nI wish I had another one just like him.123'"
      ]
     },
     "execution_count": 23,
     "metadata": {},
     "output_type": "execute_result"
    },
    {
     "data": {
      "text/plain": [
       "'7\\n01:06:08,131 --> 01:06:12,635\\nI forgot to tell y'"
      ]
     },
     "execution_count": 23,
     "metadata": {},
     "output_type": "execute_result"
    },
    {
     "data": {
      "text/plain": [
       "\"ou. I'm the assistant head\\ncoach at the Andrew J. \""
      ]
     },
     "execution_count": 23,
     "metadata": {},
     "output_type": "execute_result"
    },
    {
     "data": {
      "text/plain": [
       "'McCorkle High School.1238\\n01:06:12,719 --> 01:06'"
      ]
     },
     "execution_count": 23,
     "metadata": {},
     "output_type": "execute_result"
    },
    {
     "data": {
      "text/plain": [
       "\":14,803\\n- Oh, yeah?\\n- That's out in Queens.1239\\n\""
      ]
     },
     "execution_count": 23,
     "metadata": {},
     "output_type": "execute_result"
    },
    {
     "data": {
      "text/plain": [
       "'01:06:14,888 --> 01:06:17,640\\nAnd, uh, anyway...'"
      ]
     },
     "execution_count": 23,
     "metadata": {},
     "output_type": "execute_result"
    },
    {
     "data": {
      "text/plain": [
       "\"1240\\n01:06:17,724 --> 01:06:19,808\\nwe're starting \""
      ]
     },
     "execution_count": 23,
     "metadata": {},
     "output_type": "execute_result"
    },
    {
     "data": {
      "text/plain": [
       "'to move along real nice.1241\\n01:06:19,893 --> 01'"
      ]
     },
     "execution_count": 23,
     "metadata": {},
     "output_type": "execute_result"
    },
    {
     "data": {
      "text/plain": [
       "\":06:23,062\\nTheir whole line is just -\\nthey're just\""
      ]
     },
     "execution_count": 23,
     "metadata": {},
     "output_type": "execute_result"
    },
    {
     "data": {
      "text/plain": [
       "' coming apart.1242\\n01:06:24,356 --> 01:06:28,108'"
      ]
     },
     "execution_count": 23,
     "metadata": {},
     "output_type": "execute_result"
    },
    {
     "data": {
      "text/plain": [
       "'\\nAnd it starts to come down\\ncats and dogs, just li'"
      ]
     },
     "execution_count": 23,
     "metadata": {},
     "output_type": "execute_result"
    },
    {
     "data": {
      "text/plain": [
       "'ke this.1243\\n01:06:28,193 --> 01:06:30,819\\nJust '"
      ]
     },
     "execution_count": 23,
     "metadata": {},
     "output_type": "execute_result"
    },
    {
     "data": {
      "text/plain": [
       "'whoosh - you know, right down.1244\\n01:06:32,113 '"
      ]
     },
     "execution_count": 23,
     "metadata": {},
     "output_type": "execute_result"
    },
    {
     "data": {
      "text/plain": [
       "'--> 01:06:35,491\\nWell, that was murder, you know?\\n'"
      ]
     },
     "execution_count": 23,
     "metadata": {},
     "output_type": "execute_result"
    },
    {
     "data": {
      "text/plain": [
       "'\\n1245\\n01:06:35,575 --> 01:06:38,160\\nI swear, I - I'"
      ]
     },
     "execution_count": 23,
     "metadata": {},
     "output_type": "execute_result"
    },
    {
     "data": {
      "text/plain": [
       "' nearly bawled.1246\\n01:06:38,244 --> 01:06:40,57'"
      ]
     },
     "execution_count": 23,
     "metadata": {},
     "output_type": "execute_result"
    },
    {
     "data": {
      "text/plain": [
       "\"9\\nYou just - You couldn't go nowhere.1247\\n01:06:\""
      ]
     },
     "execution_count": 23,
     "metadata": {},
     "output_type": "execute_result"
    },
    {
     "data": {
      "text/plain": [
       "'41,831 --> 01:06:43,165\\nWell.1248\\n01:06:58,807 -'"
      ]
     },
     "execution_count": 23,
     "metadata": {},
     "output_type": "execute_result"
    },
    {
     "data": {
      "text/plain": [
       "'-> 01:07:01,308\\nHey, what is it with this fan here'"
      ]
     },
     "execution_count": 23,
     "metadata": {},
     "output_type": "execute_result"
    },
    {
     "data": {
      "text/plain": [
       "'?\\nHow come...1249\\n01:07:09,067 --> 01:07:10,818\\n'"
      ]
     },
     "execution_count": 23,
     "metadata": {},
     "output_type": "execute_result"
    },
    {
     "data": {
      "text/plain": [
       "'Hey! Ηuh?1250\\n01:07:10,902 --> 01:07:14,196\\nMust'"
      ]
     },
     "execution_count": 23,
     "metadata": {},
     "output_type": "execute_result"
    },
    {
     "data": {
      "text/plain": [
       "' have been\\non the same switch with the lights.12'"
      ]
     },
     "execution_count": 23,
     "metadata": {},
     "output_type": "execute_result"
    },
    {
     "data": {
      "text/plain": [
       "'51\\n01:07:15,198 --> 01:07:18,367\\nWell, things are '"
      ]
     },
     "execution_count": 23,
     "metadata": {},
     "output_type": "execute_result"
    },
    {
     "data": {
      "text/plain": [
       "'looking up here, huh?1252\\n01:07:19,035 --> 01:07'"
      ]
     },
     "execution_count": 23,
     "metadata": {},
     "output_type": "execute_result"
    },
    {
     "data": {
      "text/plain": [
       "':20,536\\nYeah, huh?1253\\n01:07:25,375 --> 01:07:27'"
      ]
     },
     "execution_count": 23,
     "metadata": {},
     "output_type": "execute_result"
    },
    {
     "data": {
      "text/plain": [
       "\",376\\nBoy. That's better.1254\\n01:07:34,050 --> 01\""
      ]
     },
     "execution_count": 23,
     "metadata": {},
     "output_type": "execute_result"
    },
    {
     "data": {
      "text/plain": [
       "':07:35,551\\nHey!1255\\n01:07:35,635 --> 01:07:37,30'"
      ]
     },
     "execution_count": 23,
     "metadata": {},
     "output_type": "execute_result"
    },
    {
     "data": {
      "text/plain": [
       "'2\\nTwo points.1256\\n01:07:41,307 --> 01:07:43,308\\n'"
      ]
     },
     "execution_count": 23,
     "metadata": {},
     "output_type": "execute_result"
    },
    {
     "data": {
      "text/plain": [
       "'Any of you guys ever go to the Garden?1257\\n01:07'"
      ]
     },
     "execution_count": 23,
     "metadata": {},
     "output_type": "execute_result"
    },
    {
     "data": {
      "text/plain": [
       "\":45,603 --> 01:07:48,480\\nThat's a damn stupid thin\""
      ]
     },
     "execution_count": 23,
     "metadata": {},
     "output_type": "execute_result"
    },
    {
     "data": {
      "text/plain": [
       "'g to do.1258\\n01:07:48,565 --> 01:07:50,733\\nOh, I'"
      ]
     },
     "execution_count": 23,
     "metadata": {},
     "output_type": "execute_result"
    },
    {
     "data": {
      "text/plain": [
       "\"'m sorry. I, uh...1259\\n01:07:51,776 --> 01:07:53\""
      ]
     },
     "execution_count": 23,
     "metadata": {},
     "output_type": "execute_result"
    },
    {
     "data": {
      "text/plain": [
       "',152\\nYou know?1260\\n01:07:54,863 --> 01:07:56,363'"
      ]
     },
     "execution_count": 23,
     "metadata": {},
     "output_type": "execute_result"
    },
    {
     "data": {
      "text/plain": [
       "'\\nPardon me.1261\\n01:07:57,449 --> 01:07:59,783\\nWe'"
      ]
     },
     "execution_count": 23,
     "metadata": {},
     "output_type": "execute_result"
    },
    {
     "data": {
      "text/plain": [
       "'ll, how do you like it?\\nEven Steven.1262\\n01:07:5'"
      ]
     },
     "execution_count": 23,
     "metadata": {},
     "output_type": "execute_result"
    },
    {
     "data": {
      "text/plain": [
       "\"9,868 --> 01:08:02,244\\nPretty surprising, isn't it\""
      ]
     },
     "execution_count": 23,
     "metadata": {},
     "output_type": "execute_result"
    },
    {
     "data": {
      "text/plain": [
       "'?1263\\n01:08:02,328 --> 01:08:03,829\\nYes.1264\\n0'"
      ]
     },
     "execution_count": 23,
     "metadata": {},
     "output_type": "execute_result"
    },
    {
     "data": {
      "text/plain": [
       "'1:08:05,623 --> 01:08:09,126\\nSay, that business be'"
      ]
     },
     "execution_count": 23,
     "metadata": {},
     "output_type": "execute_result"
    },
    {
     "data": {
      "text/plain": [
       "\"fore,\\nwhen that tall guy - what's-his-name...126\""
      ]
     },
     "execution_count": 23,
     "metadata": {},
     "output_type": "execute_result"
    },
    {
     "data": {
      "text/plain": [
       "'5\\n01:08:09,210 --> 01:08:11,920\\nwas trying to bait'"
      ]
     },
     "execution_count": 23,
     "metadata": {},
     "output_type": "execute_result"
    },
    {
     "data": {
      "text/plain": [
       "\" me -\\nThat doesn't prove anything.1266\\n01:08:12,\""
      ]
     },
     "execution_count": 23,
     "metadata": {},
     "output_type": "execute_result"
    },
    {
     "data": {
      "text/plain": [
       "\"005 --> 01:08:14,590\\nI'm a pretty excitable person\""
      ]
     },
     "execution_count": 23,
     "metadata": {},
     "output_type": "execute_result"
    },
    {
     "data": {
      "text/plain": [
       "'.1267\\n01:08:14,674 --> 01:08:18,510\\nI mean, wher'"
      ]
     },
     "execution_count": 23,
     "metadata": {},
     "output_type": "execute_result"
    },
    {
     "data": {
      "text/plain": [
       "'e does he come off calling me\\na public avenger, sa'"
      ]
     },
     "execution_count": 23,
     "metadata": {},
     "output_type": "execute_result"
    },
    {
     "data": {
      "text/plain": [
       "'dist and everything?1268\\n01:08:18,595 --> 01:08:'"
      ]
     },
     "execution_count": 23,
     "metadata": {},
     "output_type": "execute_result"
    },
    {
     "data": {
      "text/plain": [
       "'22,097\\nAnyone in his right mind\\nwould blow his sta'"
      ]
     },
     "execution_count": 23,
     "metadata": {},
     "output_type": "execute_result"
    },
    {
     "data": {
      "text/plain": [
       "'ck, huh?1269\\n01:08:22,182 --> 01:08:24,475\\nHe wa'"
      ]
     },
     "execution_count": 23,
     "metadata": {},
     "output_type": "execute_result"
    },
    {
     "data": {
      "text/plain": [
       "'s just trying to bait me.1270\\n01:08:24,559 --> 0'"
      ]
     },
     "execution_count": 23,
     "metadata": {},
     "output_type": "execute_result"
    },
    {
     "data": {
      "text/plain": [
       "'1:08:26,560\\nHe did an excellent job.1271\\n01:08:2'"
      ]
     },
     "execution_count": 23,
     "metadata": {},
     "output_type": "execute_result"
    },
    {
     "data": {
      "text/plain": [
       "\"9,355 --> 01:08:31,565\\nI'll tell you what I think.\""
      ]
     },
     "execution_count": 23,
     "metadata": {},
     "output_type": "execute_result"
    },
    {
     "data": {
      "text/plain": [
       "\"\\nWe're going nowhere here.1272\\n01:08:31,649 --> \""
      ]
     },
     "execution_count": 23,
     "metadata": {},
     "output_type": "execute_result"
    },
    {
     "data": {
      "text/plain": [
       "\"01:08:34,193\\nI'm ready to walk into court right no\""
      ]
     },
     "execution_count": 23,
     "metadata": {},
     "output_type": "execute_result"
    },
    {
     "data": {
      "text/plain": [
       "'w\\nand declare a hung jury.1273\\n01:08:34,277 --> '"
      ]
     },
     "execution_count": 23,
     "metadata": {},
     "output_type": "execute_result"
    },
    {
     "data": {
      "text/plain": [
       "\"01:08:36,111\\nThere's no point in this thing\\ngoing \""
      ]
     },
     "execution_count": 23,
     "metadata": {},
     "output_type": "execute_result"
    },
    {
     "data": {
      "text/plain": [
       "'on any more.1274\\n01:08:36,196 --> 01:08:37,529\\nY'"
      ]
     },
     "execution_count": 23,
     "metadata": {},
     "output_type": "execute_result"
    },
    {
     "data": {
      "text/plain": [
       "'eah. I go for that too.1275\\n01:08:37,614 --> 01:'"
      ]
     },
     "execution_count": 23,
     "metadata": {},
     "output_type": "execute_result"
    },
    {
     "data": {
      "text/plain": [
       "\"08:40,449\\nListen, let's take it in to the judge an\""
      ]
     },
     "execution_count": 23,
     "metadata": {},
     "output_type": "execute_result"
    },
    {
     "data": {
      "text/plain": [
       "'d let\\nthe kid take his chances with 12 other guys.'"
      ]
     },
     "execution_count": 23,
     "metadata": {},
     "output_type": "execute_result"
    },
    {
     "data": {
      "text/plain": [
       "\"1276\\n01:08:40,533 --> 01:08:43,368\\nI don't think\""
      ]
     },
     "execution_count": 23,
     "metadata": {},
     "output_type": "execute_result"
    },
    {
     "data": {
      "text/plain": [
       "\" the judge will accept a hung jury.\\nWe haven't bee\""
      ]
     },
     "execution_count": 23,
     "metadata": {},
     "output_type": "execute_result"
    },
    {
     "data": {
      "text/plain": [
       "'n in here very long.1277\\n01:08:43,453 --> 01:08:'"
      ]
     },
     "execution_count": 23,
     "metadata": {},
     "output_type": "execute_result"
    },
    {
     "data": {
      "text/plain": [
       "\"45,120\\nWell, let's find out.1278\\n01:08:45,205 --\""
      ]
     },
     "execution_count": 23,
     "metadata": {},
     "output_type": "execute_result"
    },
    {
     "data": {
      "text/plain": [
       "\"> 01:08:46,914\\nI'm not in favor of that.1279\\n01:\""
      ]
     },
     "execution_count": 23,
     "metadata": {},
     "output_type": "execute_result"
    },
    {
     "data": {
      "text/plain": [
       "'08:46,998 --> 01:08:50,209\\nListen. This kid wouldn'"
      ]
     },
     "execution_count": 23,
     "metadata": {},
     "output_type": "execute_result"
    },
    {
     "data": {
      "text/plain": [
       "\"'t stand a chance\\nwith another jury, and you know \""
      ]
     },
     "execution_count": 23,
     "metadata": {},
     "output_type": "execute_result"
    },
    {
     "data": {
      "text/plain": [
       "'it.1280\\n01:08:50,293 --> 01:08:53,128\\nCome on! W'"
      ]
     },
     "execution_count": 23,
     "metadata": {},
     "output_type": "execute_result"
    },
    {
     "data": {
      "text/plain": [
       "\"e're hung. Nobody's gonna\\nchange his vote. Let's t\""
      ]
     },
     "execution_count": 23,
     "metadata": {},
     "output_type": "execute_result"
    },
    {
     "data": {
      "text/plain": [
       "'ake it inside.1281\\n01:08:53,213 --> 01:08:55,422'"
      ]
     },
     "execution_count": 23,
     "metadata": {},
     "output_type": "execute_result"
    },
    {
     "data": {
      "text/plain": [
       "\"\\nYou still don't think there's room\\nfor reasonable\""
      ]
     },
     "execution_count": 23,
     "metadata": {},
     "output_type": "execute_result"
    },
    {
     "data": {
      "text/plain": [
       "' doubt?1282\\n01:08:55,507 --> 01:08:56,799\\nNo, I '"
      ]
     },
     "execution_count": 23,
     "metadata": {},
     "output_type": "execute_result"
    },
    {
     "data": {
      "text/plain": [
       "\"don't.1283\\n01:08:56,883 --> 01:08:58,175\\nPardon.\""
      ]
     },
     "execution_count": 23,
     "metadata": {},
     "output_type": "execute_result"
    },
    {
     "data": {
      "text/plain": [
       "'1284\\n01:08:58,259 --> 01:09:01,512\\nMaybe you don'"
      ]
     },
     "execution_count": 23,
     "metadata": {},
     "output_type": "execute_result"
    },
    {
     "data": {
      "text/plain": [
       "'\\'t fully understand\\nthe term \"reasonable doubt.\"'"
      ]
     },
     "execution_count": 23,
     "metadata": {},
     "output_type": "execute_result"
    },
    {
     "data": {
      "text/plain": [
       "'1285\\n01:09:01,596 --> 01:09:04,139\\nWhat do you mea'"
      ]
     },
     "execution_count": 23,
     "metadata": {},
     "output_type": "execute_result"
    },
    {
     "data": {
      "text/plain": [
       "\"n I don't understand?1286\\n01:09:05,225 --> 01:09\""
      ]
     },
     "execution_count": 23,
     "metadata": {},
     "output_type": "execute_result"
    },
    {
     "data": {
      "text/plain": [
       "':07,184\\nBoy, how do ya like this guy?1287\\n01:09:'"
      ]
     },
     "execution_count": 23,
     "metadata": {},
     "output_type": "execute_result"
    },
    {
     "data": {
      "text/plain": [
       "\"07,268 --> 01:09:08,936\\nI'm tellin' ya, they're al\""
      ]
     },
     "execution_count": 23,
     "metadata": {},
     "output_type": "execute_result"
    },
    {
     "data": {
      "text/plain": [
       "'l alike.1288\\n01:09:09,020 --> 01:09:11,855\\nThey '"
      ]
     },
     "execution_count": 23,
     "metadata": {},
     "output_type": "execute_result"
    },
    {
     "data": {
      "text/plain": [
       "'come over here, running for their life,\\nand before'"
      ]
     },
     "execution_count": 23,
     "metadata": {},
     "output_type": "execute_result"
    },
    {
     "data": {
      "text/plain": [
       "' they can take a deep breath...1289\\n01:09:11,940'"
      ]
     },
     "execution_count": 23,
     "metadata": {},
     "output_type": "execute_result"
    },
    {
     "data": {
      "text/plain": [
       "\" --> 01:09:14,316\\nthey're telling us how\\nto run th\""
      ]
     },
     "execution_count": 23,
     "metadata": {},
     "output_type": "execute_result"
    },
    {
     "data": {
      "text/plain": [
       "'e show, huh?1290\\n01:09:14,400 --> 01:09:16,193\\nB'"
      ]
     },
     "execution_count": 23,
     "metadata": {},
     "output_type": "execute_result"
    },
    {
     "data": {
      "text/plain": [
       "'oy, the arrogance of this guy.1291\\n01:09:16,277 '"
      ]
     },
     "execution_count": 23,
     "metadata": {},
     "output_type": "execute_result"
    },
    {
     "data": {
      "text/plain": [
       "\"--> 01:09:20,864\\nHey, all right. Let's stop\\nthe ar\""
      ]
     },
     "execution_count": 23,
     "metadata": {},
     "output_type": "execute_result"
    },
    {
     "data": {
      "text/plain": [
       "'guing for about two minutes in here.1292\\n01:09:2'"
      ]
     },
     "execution_count": 23,
     "metadata": {},
     "output_type": "execute_result"
    },
    {
     "data": {
      "text/plain": [
       "\"0,949 --> 01:09:23,325\\nNow, who's got something\\nco\""
      ]
     },
     "execution_count": 23,
     "metadata": {},
     "output_type": "execute_result"
    },
    {
     "data": {
      "text/plain": [
       "'nstructive to say?1293\\n01:09:23,409 --> 01:09:26'"
      ]
     },
     "execution_count": 23,
     "metadata": {},
     "output_type": "execute_result"
    },
    {
     "data": {
      "text/plain": [
       "\",954\\nI'd like to go over something,\\nif you gentlem\""
      ]
     },
     "execution_count": 23,
     "metadata": {},
     "output_type": "execute_result"
    },
    {
     "data": {
      "text/plain": [
       "\"en don't mind.1294\\n01:09:27,038 --> 01:09:29,706\""
      ]
     },
     "execution_count": 23,
     "metadata": {},
     "output_type": "execute_result"
    },
    {
     "data": {
      "text/plain": [
       "'\\nAn important point for the prosecution\\nwas the fa'"
      ]
     },
     "execution_count": 23,
     "metadata": {},
     "output_type": "execute_result"
    },
    {
     "data": {
      "text/plain": [
       "'ct...1295\\n01:09:29,791 --> 01:09:32,543\\nthat aft'"
      ]
     },
     "execution_count": 23,
     "metadata": {},
     "output_type": "execute_result"
    },
    {
     "data": {
      "text/plain": [
       "\"er the boy claimed\\nhe'd been at the movies...129\""
      ]
     },
     "execution_count": 23,
     "metadata": {},
     "output_type": "execute_result"
    },
    {
     "data": {
      "text/plain": [
       "'6\\n01:09:32,627 --> 01:09:34,628\\nduring the hours\\nt'"
      ]
     },
     "execution_count": 23,
     "metadata": {},
     "output_type": "execute_result"
    },
    {
     "data": {
      "text/plain": [
       "'hat the killing took place...1297\\n01:09:34,712 -'"
      ]
     },
     "execution_count": 23,
     "metadata": {},
     "output_type": "execute_result"
    },
    {
     "data": {
      "text/plain": [
       "\"-> 01:09:38,590\\ncouldn't remember the names of the\""
      ]
     },
     "execution_count": 23,
     "metadata": {},
     "output_type": "execute_result"
    },
    {
     "data": {
      "text/plain": [
       "' movies\\nor the stars who appeared in them.1298\\n0'"
      ]
     },
     "execution_count": 23,
     "metadata": {},
     "output_type": "execute_result"
    },
    {
     "data": {
      "text/plain": [
       "'1:09:38,675 --> 01:09:41,176\\nThis gentleman here h'"
      ]
     },
     "execution_count": 23,
     "metadata": {},
     "output_type": "execute_result"
    },
    {
     "data": {
      "text/plain": [
       "'as put up that point\\nin here several times.1299\\n'"
      ]
     },
     "execution_count": 23,
     "metadata": {},
     "output_type": "execute_result"
    },
    {
     "data": {
      "text/plain": [
       "\"01:09:41,261 --> 01:09:42,719\\nThat's correct.130\""
      ]
     },
     "execution_count": 23,
     "metadata": {},
     "output_type": "execute_result"
    },
    {
     "data": {
      "text/plain": [
       "'0\\n01:09:42,804 --> 01:09:44,680\\nIt was the only al'"
      ]
     },
     "execution_count": 23,
     "metadata": {},
     "output_type": "execute_result"
    },
    {
     "data": {
      "text/plain": [
       "'ibi the boy offered...1301\\n01:09:44,764 --> 01:0'"
      ]
     },
     "execution_count": 23,
     "metadata": {},
     "output_type": "execute_result"
    },
    {
     "data": {
      "text/plain": [
       "\"9:47,266\\nand he himself couldn't back it up\\nwith a\""
      ]
     },
     "execution_count": 23,
     "metadata": {},
     "output_type": "execute_result"
    },
    {
     "data": {
      "text/plain": [
       "'ny details at all.1302\\n01:09:47,350 --> 01:09:50'"
      ]
     },
     "execution_count": 23,
     "metadata": {},
     "output_type": "execute_result"
    },
    {
     "data": {
      "text/plain": [
       "\",602\\nPutting yourself in the boy's place,\\ndo you t\""
      ]
     },
     "execution_count": 23,
     "metadata": {},
     "output_type": "execute_result"
    },
    {
     "data": {
      "text/plain": [
       "'hink you could remember details...1303\\n01:09:50,'"
      ]
     },
     "execution_count": 23,
     "metadata": {},
     "output_type": "execute_result"
    },
    {
     "data": {
      "text/plain": [
       "'687 --> 01:09:54,147\\nafter an upsetting experience'"
      ]
     },
     "execution_count": 23,
     "metadata": {},
     "output_type": "execute_result"
    },
    {
     "data": {
      "text/plain": [
       "' such as\\nbeing slapped in the face by your father?'"
      ]
     },
     "execution_count": 23,
     "metadata": {},
     "output_type": "execute_result"
    },
    {
     "data": {
      "text/plain": [
       "'1304\\n01:09:54,232 --> 01:09:57,442\\nI think so, i'"
      ]
     },
     "execution_count": 23,
     "metadata": {},
     "output_type": "execute_result"
    },
    {
     "data": {
      "text/plain": [
       "'f there were\\nany special details to remember.130'"
      ]
     },
     "execution_count": 23,
     "metadata": {},
     "output_type": "execute_result"
    },
    {
     "data": {
      "text/plain": [
       "\"5\\n01:09:57,527 --> 01:10:00,696\\nThe boy couldn't r\""
      ]
     },
     "execution_count": 23,
     "metadata": {},
     "output_type": "execute_result"
    },
    {
     "data": {
      "text/plain": [
       "'emember the names of the movies\\nhe saw because be '"
      ]
     },
     "execution_count": 23,
     "metadata": {},
     "output_type": "execute_result"
    },
    {
     "data": {
      "text/plain": [
       "\"wasn't there that night.1306\\n01:10:00,780 --> 01\""
      ]
     },
     "execution_count": 23,
     "metadata": {},
     "output_type": "execute_result"
    },
    {
     "data": {
      "text/plain": [
       "':10:02,823\\nAccording to\\nthe police testimony in co'"
      ]
     },
     "execution_count": 23,
     "metadata": {},
     "output_type": "execute_result"
    },
    {
     "data": {
      "text/plain": [
       "'urt...1307\\n01:10:02,907 --> 01:10:06,034\\nthe boy'"
      ]
     },
     "execution_count": 23,
     "metadata": {},
     "output_type": "execute_result"
    },
    {
     "data": {
      "text/plain": [
       "' was questioned by the detectives\\nin the kitchen o'"
      ]
     },
     "execution_count": 23,
     "metadata": {},
     "output_type": "execute_result"
    },
    {
     "data": {
      "text/plain": [
       "'f his apartment...1308\\n01:10:06,119 --> 01:10:09'"
      ]
     },
     "execution_count": 23,
     "metadata": {},
     "output_type": "execute_result"
    },
    {
     "data": {
      "text/plain": [
       "',037\\nwhile the body of his father\\nwas lying on the'"
      ]
     },
     "execution_count": 23,
     "metadata": {},
     "output_type": "execute_result"
    },
    {
     "data": {
      "text/plain": [
       "' floor in the bedroom.1309\\n01:10:09,122 --> 01:1'"
      ]
     },
     "execution_count": 23,
     "metadata": {},
     "output_type": "execute_result"
    },
    {
     "data": {
      "text/plain": [
       "'0:11,707\\nDo you think you could remember details\\nu'"
      ]
     },
     "execution_count": 23,
     "metadata": {},
     "output_type": "execute_result"
    },
    {
     "data": {
      "text/plain": [
       "'nder those circumstances?1310\\n01:10:11,791 --> 0'"
      ]
     },
     "execution_count": 23,
     "metadata": {},
     "output_type": "execute_result"
    },
    {
     "data": {
      "text/plain": [
       "'1:10:13,792\\n- I do.\\n- Under great emotional stress'"
      ]
     },
     "execution_count": 23,
     "metadata": {},
     "output_type": "execute_result"
    },
    {
     "data": {
      "text/plain": [
       "'?1311\\n01:10:13,877 --> 01:10:16,378\\n- Under grea'"
      ]
     },
     "execution_count": 23,
     "metadata": {},
     "output_type": "execute_result"
    },
    {
     "data": {
      "text/plain": [
       "'t emotional stress.\\n- He remembered them correctly'"
      ]
     },
     "execution_count": 23,
     "metadata": {},
     "output_type": "execute_result"
    },
    {
     "data": {
      "text/plain": [
       "' in court.1312\\n01:10:16,462 --> 01:10:18,422\\nHe '"
      ]
     },
     "execution_count": 23,
     "metadata": {},
     "output_type": "execute_result"
    },
    {
     "data": {
      "text/plain": [
       "'named the pictures\\nand the stars who played in the'"
      ]
     },
     "execution_count": 23,
     "metadata": {},
     "output_type": "execute_result"
    },
    {
     "data": {
      "text/plain": [
       "'m.1313\\n01:10:18,506 --> 01:10:21,675\\nYes. His la'"
      ]
     },
     "execution_count": 23,
     "metadata": {},
     "output_type": "execute_result"
    },
    {
     "data": {
      "text/plain": [
       "'wyer took great pains\\nto bring that out.1314\\n01:'"
      ]
     },
     "execution_count": 23,
     "metadata": {},
     "output_type": "execute_result"
    },
    {
     "data": {
      "text/plain": [
       "'10:21,759 --> 01:10:24,303\\nHe had three months fro'"
      ]
     },
     "execution_count": 23,
     "metadata": {},
     "output_type": "execute_result"
    },
    {
     "data": {
      "text/plain": [
       "'m the night\\nof the murder to the day of the trial.'"
      ]
     },
     "execution_count": 23,
     "metadata": {},
     "output_type": "execute_result"
    },
    {
     "data": {
      "text/plain": [
       "'..1315\\n01:10:24,387 --> 01:10:26,013\\nin which to'"
      ]
     },
     "execution_count": 23,
     "metadata": {},
     "output_type": "execute_result"
    },
    {
     "data": {
      "text/plain": [
       "' memorize them.1316\\n01:10:26,097 --> 01:10:28,76'"
      ]
     },
     "execution_count": 23,
     "metadata": {},
     "output_type": "execute_result"
    },
    {
     "data": {
      "text/plain": [
       "\"5\\nIt's not difficult for a lawyer to find out\\nwhat\""
      ]
     },
     "execution_count": 23,
     "metadata": {},
     "output_type": "execute_result"
    },
    {
     "data": {
      "text/plain": [
       "' played at a particular theater...1317\\n01:10:28,'"
      ]
     },
     "execution_count": 23,
     "metadata": {},
     "output_type": "execute_result"
    },
    {
     "data": {
      "text/plain": [
       "'850 --> 01:10:30,517\\non a particular night.1318\\n'"
      ]
     },
     "execution_count": 23,
     "metadata": {},
     "output_type": "execute_result"
    },
    {
     "data": {
      "text/plain": [
       "\"01:10:30,602 --> 01:10:34,229\\nI'll take the testim\""
      ]
     },
     "execution_count": 23,
     "metadata": {},
     "output_type": "execute_result"
    },
    {
     "data": {
      "text/plain": [
       "'ony of the policemen who\\ninterrogated the boy righ'"
      ]
     },
     "execution_count": 23,
     "metadata": {},
     "output_type": "execute_result"
    },
    {
     "data": {
      "text/plain": [
       "'t after the murder...1319\\n01:10:34,314 --> 01:10'"
      ]
     },
     "execution_count": 23,
     "metadata": {},
     "output_type": "execute_result"
    },
    {
     "data": {
      "text/plain": [
       "\":36,732\\nwhen he couldn't remember\\na thing about th\""
      ]
     },
     "execution_count": 23,
     "metadata": {},
     "output_type": "execute_result"
    },
    {
     "data": {
      "text/plain": [
       "'e movies...1320\\n01:10:36,816 --> 01:10:38,734\\ngr'"
      ]
     },
     "execution_count": 23,
     "metadata": {},
     "output_type": "execute_result"
    },
    {
     "data": {
      "text/plain": [
       "'eat emotional stress or not.1321\\n01:10:38,818 --'"
      ]
     },
     "execution_count": 23,
     "metadata": {},
     "output_type": "execute_result"
    },
    {
     "data": {
      "text/plain": [
       "\"> 01:10:42,112\\n- I'd like to ask you a personal qu\""
      ]
     },
     "execution_count": 23,
     "metadata": {},
     "output_type": "execute_result"
    },
    {
     "data": {
      "text/plain": [
       "'estion.\\n- Go ahead.1322\\n01:10:42,196 --> 01:10:4'"
      ]
     },
     "execution_count": 23,
     "metadata": {},
     "output_type": "execute_result"
    },
    {
     "data": {
      "text/plain": [
       "'5,449\\n- Where were you last night?\\n- I was home.'"
      ]
     },
     "execution_count": 23,
     "metadata": {},
     "output_type": "execute_result"
    },
    {
     "data": {
      "text/plain": [
       "'1323\\n01:10:45,533 --> 01:10:48,076\\n- How about the'"
      ]
     },
     "execution_count": 23,
     "metadata": {},
     "output_type": "execute_result"
    },
    {
     "data": {
      "text/plain": [
       "' night before that?\\n- Come on! What is this?1324'"
      ]
     },
     "execution_count": 23,
     "metadata": {},
     "output_type": "execute_result"
    },
    {
     "data": {
      "text/plain": [
       "\"\\n01:10:48,161 --> 01:10:49,494\\nNo, it's all right.\""
      ]
     },
     "execution_count": 23,
     "metadata": {},
     "output_type": "execute_result"
    },
    {
     "data": {
      "text/plain": [
       "'1325\\n01:10:49,579 --> 01:10:52,122\\nI left the of'"
      ]
     },
     "execution_count": 23,
     "metadata": {},
     "output_type": "execute_result"
    },
    {
     "data": {
      "text/plain": [
       "'fice at 8:30\\nand went straight home and to bed.1'"
      ]
     },
     "execution_count": 23,
     "metadata": {},
     "output_type": "execute_result"
    },
    {
     "data": {
      "text/plain": [
       "'326\\n01:10:52,206 --> 01:10:53,874\\nAnd the night be'"
      ]
     },
     "execution_count": 23,
     "metadata": {},
     "output_type": "execute_result"
    },
    {
     "data": {
      "text/plain": [
       "'fore that?1327\\n01:10:53,958 --> 01:10:56,376\\nTha'"
      ]
     },
     "execution_count": 23,
     "metadata": {},
     "output_type": "execute_result"
    },
    {
     "data": {
      "text/plain": [
       "'t was, uh, Tuesday night?1328\\n01:10:56,461 --> 0'"
      ]
     },
     "execution_count": 23,
     "metadata": {},
     "output_type": "execute_result"
    },
    {
     "data": {
      "text/plain": [
       "'1:10:58,462\\nThe night of the bridge tournament.\\nI '"
      ]
     },
     "execution_count": 23,
     "metadata": {},
     "output_type": "execute_result"
    },
    {
     "data": {
      "text/plain": [
       "'played bridge.1329\\n01:10:58,546 --> 01:10:59,880'"
      ]
     },
     "execution_count": 23,
     "metadata": {},
     "output_type": "execute_result"
    },
    {
     "data": {
      "text/plain": [
       "'\\nMonday night?1330\\n01:10:59,964 --> 01:11:03,175'"
      ]
     },
     "execution_count": 23,
     "metadata": {},
     "output_type": "execute_result"
    },
    {
     "data": {
      "text/plain": [
       "\"\\nWhen you get down\\nto New Year's Eve, 1954, let me\""
      ]
     },
     "execution_count": 23,
     "metadata": {},
     "output_type": "execute_result"
    },
    {
     "data": {
      "text/plain": [
       "' know, huh?1331\\n01:11:05,178 --> 01:11:07,137\\nMo'"
      ]
     },
     "execution_count": 23,
     "metadata": {},
     "output_type": "execute_result"
    },
    {
     "data": {
      "text/plain": [
       "'nday night?1332\\n01:11:08,389 --> 01:11:11,391\\nMo'"
      ]
     },
     "execution_count": 23,
     "metadata": {},
     "output_type": "execute_result"
    },
    {
     "data": {
      "text/plain": [
       "'nday night, uh,\\nmy wife and I went to the movies.\\n'"
      ]
     },
     "execution_count": 23,
     "metadata": {},
     "output_type": "execute_result"
    },
    {
     "data": {
      "text/plain": [
       "'\\n1333\\n01:11:11,476 --> 01:11:13,101\\n- What did you'"
      ]
     },
     "execution_count": 23,
     "metadata": {},
     "output_type": "execute_result"
    },
    {
     "data": {
      "text/plain": [
       "' see?\\n- The Scarlet Circle.1334\\n01:11:13,186 -->'"
      ]
     },
     "execution_count": 23,
     "metadata": {},
     "output_type": "execute_result"
    },
    {
     "data": {
      "text/plain": [
       "' 01:11:16,438\\n- It was a clever whodunit.\\n- What w'"
      ]
     },
     "execution_count": 23,
     "metadata": {},
     "output_type": "execute_result"
    },
    {
     "data": {
      "text/plain": [
       "'as the second feature?1335\\n01:11:16,522 --> 01:1'"
      ]
     },
     "execution_count": 23,
     "metadata": {},
     "output_type": "execute_result"
    },
    {
     "data": {
      "text/plain": [
       "'1:19,149\\nThe, um...1336\\n01:11:19,233 --> 01:11:2'"
      ]
     },
     "execution_count": 23,
     "metadata": {},
     "output_type": "execute_result"
    },
    {
     "data": {
      "text/plain": [
       "\"1,902\\nI'll tell you in a minute. The, uh...1337\\n\""
      ]
     },
     "execution_count": 23,
     "metadata": {},
     "output_type": "execute_result"
    },
    {
     "data": {
      "text/plain": [
       "'01:11:21,986 --> 01:11:26,156\\nRemarkable Mrs., uh,'"
      ]
     },
     "execution_count": 23,
     "metadata": {},
     "output_type": "execute_result"
    },
    {
     "data": {
      "text/plain": [
       "' something...1338\\n01:11:26,240 --> 01:11:28,700\\n'"
      ]
     },
     "execution_count": 23,
     "metadata": {},
     "output_type": "execute_result"
    },
    {
     "data": {
      "text/plain": [
       "'The...1339\\n01:11:28,785 --> 01:11:31,453\\nMrs. Ba'"
      ]
     },
     "execution_count": 23,
     "metadata": {},
     "output_type": "execute_result"
    },
    {
     "data": {
      "text/plain": [
       "'inbridge.\\nThe Remarkable Mrs. Bainbridge.1340\\n01'"
      ]
     },
     "execution_count": 23,
     "metadata": {},
     "output_type": "execute_result"
    },
    {
     "data": {
      "text/plain": [
       "\":11:31,537 --> 01:11:34,289\\nI saw that.\\nIt's calle\""
      ]
     },
     "execution_count": 23,
     "metadata": {},
     "output_type": "execute_result"
    },
    {
     "data": {
      "text/plain": [
       "'d The Amazing Mrs. Bainbridge.1341\\n01:11:35,583 '"
      ]
     },
     "execution_count": 23,
     "metadata": {},
     "output_type": "execute_result"
    },
    {
     "data": {
      "text/plain": [
       "'--> 01:11:37,960\\nUh, yes. The Amazing Mrs. Bainbri'"
      ]
     },
     "execution_count": 23,
     "metadata": {},
     "output_type": "execute_result"
    },
    {
     "data": {
      "text/plain": [
       "\"dge.\\nI think that's right.1342\\n01:11:38,044 --> \""
      ]
     },
     "execution_count": 23,
     "metadata": {},
     "output_type": "execute_result"
    },
    {
     "data": {
      "text/plain": [
       "'01:11:40,545\\nWho was in The Amazing Mrs. Bainbridg'"
      ]
     },
     "execution_count": 23,
     "metadata": {},
     "output_type": "execute_result"
    },
    {
     "data": {
      "text/plain": [
       "'e?1343\\n01:11:40,630 --> 01:11:44,299\\nBarbara... '"
      ]
     },
     "execution_count": 23,
     "metadata": {},
     "output_type": "execute_result"
    },
    {
     "data": {
      "text/plain": [
       "'Long, I think it was.1344\\n01:11:44,384 --> 01:11'"
      ]
     },
     "execution_count": 23,
     "metadata": {},
     "output_type": "execute_result"
    },
    {
     "data": {
      "text/plain": [
       "':46,385\\nA dark, very pretty girl.1345\\n01:11:47,7'"
      ]
     },
     "execution_count": 23,
     "metadata": {},
     "output_type": "execute_result"
    },
    {
     "data": {
      "text/plain": [
       "'20 --> 01:11:50,222\\nLing or Long - something like '"
      ]
     },
     "execution_count": 23,
     "metadata": {},
     "output_type": "execute_result"
    },
    {
     "data": {
      "text/plain": [
       "'that.1346\\n01:11:50,306 --> 01:11:53,517\\n- Who el'"
      ]
     },
     "execution_count": 23,
     "metadata": {},
     "output_type": "execute_result"
    },
    {
     "data": {
      "text/plain": [
       "\"se?\\n- I'd never heard of them before.1347\\n01:11:\""
      ]
     },
     "execution_count": 23,
     "metadata": {},
     "output_type": "execute_result"
    },
    {
     "data": {
      "text/plain": [
       "'53,601 --> 01:11:58,021\\nIt was a very inexpensive '"
      ]
     },
     "execution_count": 23,
     "metadata": {},
     "output_type": "execute_result"
    },
    {
     "data": {
      "text/plain": [
       "'second feature\\nwith, uh, unknown...1348\\n01:11:58'"
      ]
     },
     "execution_count": 23,
     "metadata": {},
     "output_type": "execute_result"
    },
    {
     "data": {
      "text/plain": [
       "\",106 --> 01:12:01,233\\nAnd you weren't under\\nan emo\""
      ]
     },
     "execution_count": 23,
     "metadata": {},
     "output_type": "execute_result"
    },
    {
     "data": {
      "text/plain": [
       "'tional stress, were you?1349\\n01:12:04,153 --> 01'"
      ]
     },
     "execution_count": 23,
     "metadata": {},
     "output_type": "execute_result"
    },
    {
     "data": {
      "text/plain": [
       "':12:06,279\\nNo.1350\\n01:12:06,364 --> 01:12:08,031'"
      ]
     },
     "execution_count": 23,
     "metadata": {},
     "output_type": "execute_result"
    },
    {
     "data": {
      "text/plain": [
       "\"\\nI wasn't.1351\\n01:12:09,909 --> 01:12:11,660\\nI t\""
      ]
     },
     "execution_count": 23,
     "metadata": {},
     "output_type": "execute_result"
    },
    {
     "data": {
      "text/plain": [
       "'hink the point is made.1352\\n01:12:11,744 --> 01:'"
      ]
     },
     "execution_count": 23,
     "metadata": {},
     "output_type": "execute_result"
    },
    {
     "data": {
      "text/plain": [
       "'12:14,496\\nBig point!1353\\n01:12:14,580 --> 01:12:'"
      ]
     },
     "execution_count": 23,
     "metadata": {},
     "output_type": "execute_result"
    },
    {
     "data": {
      "text/plain": [
       "\"16,748\\nYou can talk till your tongue\\nis draggin' o\""
      ]
     },
     "execution_count": 23,
     "metadata": {},
     "output_type": "execute_result"
    },
    {
     "data": {
      "text/plain": [
       "'n the floor.1354\\n01:12:16,833 --> 01:12:20,919\\nT'"
      ]
     },
     "execution_count": 23,
     "metadata": {},
     "output_type": "execute_result"
    },
    {
     "data": {
      "text/plain": [
       "'he boy is guilty, period.\\nYou know what I mean, my'"
      ]
     },
     "execution_count": 23,
     "metadata": {},
     "output_type": "execute_result"
    },
    {
     "data": {
      "text/plain": [
       "' friend?1355\\n01:12:21,004 --> 01:12:24,256\\n- Who'"
      ]
     },
     "execution_count": 23,
     "metadata": {},
     "output_type": "execute_result"
    },
    {
     "data": {
      "text/plain": [
       "\"'s got those cough drops?\\n- They're all gone, my f\""
      ]
     },
     "execution_count": 23,
     "metadata": {},
     "output_type": "execute_result"
    },
    {
     "data": {
      "text/plain": [
       "'riend.1356\\n01:12:26,259 --> 01:12:28,510\\nOh, boy'"
      ]
     },
     "execution_count": 23,
     "metadata": {},
     "output_type": "execute_result"
    },
    {
     "data": {
      "text/plain": [
       "'. Look at that rain.1357\\n01:12:28,594 --> 01:12:'"
      ]
     },
     "execution_count": 23,
     "metadata": {},
     "output_type": "execute_result"
    },
    {
     "data": {
      "text/plain": [
       "'30,971\\nThere goes your ball game.1358\\n01:12:31,0'"
      ]
     },
     "execution_count": 23,
     "metadata": {},
     "output_type": "execute_result"
    },
    {
     "data": {
      "text/plain": [
       "\"55 --> 01:12:33,473\\nIt's only a shower.1359\\n01:1\""
      ]
     },
     "execution_count": 23,
     "metadata": {},
     "output_type": "execute_result"
    },
    {
     "data": {
      "text/plain": [
       "'2:33,558 --> 01:12:35,726\\nBesides, they got the in'"
      ]
     },
     "execution_count": 23,
     "metadata": {},
     "output_type": "execute_result"
    },
    {
     "data": {
      "text/plain": [
       "'field covered.1360\\n01:12:35,810 --> 01:12:38,979'"
      ]
     },
     "execution_count": 23,
     "metadata": {},
     "output_type": "execute_result"
    },
    {
     "data": {
      "text/plain": [
       "'\\nRight. Say, could I see that knife\\na second, plea'"
      ]
     },
     "execution_count": 23,
     "metadata": {},
     "output_type": "execute_result"
    },
    {
     "data": {
      "text/plain": [
       "\"se?1361\\n01:12:41,774 --> 01:12:44,109\\nWell, we'r\""
      ]
     },
     "execution_count": 23,
     "metadata": {},
     "output_type": "execute_result"
    },
    {
     "data": {
      "text/plain": [
       "'e still tied up six to six.1362\\n01:12:44,193 -->'"
      ]
     },
     "execution_count": 23,
     "metadata": {},
     "output_type": "execute_result"
    },
    {
     "data": {
      "text/plain": [
       "\" 01:12:46,194\\nWho's got a suggestion?1363\\n01:12:\""
      ]
     },
     "execution_count": 23,
     "metadata": {},
     "output_type": "execute_result"
    },
    {
     "data": {
      "text/plain": [
       "\"46,279 --> 01:12:48,280\\nIt's five after 6:00.\\nLet'\""
      ]
     },
     "execution_count": 23,
     "metadata": {},
     "output_type": "execute_result"
    },
    {
     "data": {
      "text/plain": [
       "'s get some dinner.1364\\n01:12:48,364 --> 01:12:50'"
      ]
     },
     "execution_count": 23,
     "metadata": {},
     "output_type": "execute_result"
    },
    {
     "data": {
      "text/plain": [
       "\",824\\nWhy don't we wait till 7:00,\\ngive it another \""
      ]
     },
     "execution_count": 23,
     "metadata": {},
     "output_type": "execute_result"
    },
    {
     "data": {
      "text/plain": [
       "'hour, huh?1365\\n01:12:50,908 --> 01:12:53,035\\nOka'"
      ]
     },
     "execution_count": 23,
     "metadata": {},
     "output_type": "execute_result"
    },
    {
     "data": {
      "text/plain": [
       "'y with me.1366\\n01:12:53,119 --> 01:12:55,287\\nUh,'"
      ]
     },
     "execution_count": 23,
     "metadata": {},
     "output_type": "execute_result"
    },
    {
     "data": {
      "text/plain": [
       "\" there's something I'd like to say.1367\\n01:12:55\""
      ]
     },
     "execution_count": 23,
     "metadata": {},
     "output_type": "execute_result"
    },
    {
     "data": {
      "text/plain": [
       "\",371 --> 01:12:58,915\\nI mean, it's been bothering \""
      ]
     },
     "execution_count": 23,
     "metadata": {},
     "output_type": "execute_result"
    },
    {
     "data": {
      "text/plain": [
       "\"me a little,\\nand as long as we're stuck.1368\\n01:\""
      ]
     },
     "execution_count": 23,
     "metadata": {},
     "output_type": "execute_result"
    },
    {
     "data": {
      "text/plain": [
       "'12:59,000 --> 01:13:02,878\\nWell, there was this wh'"
      ]
     },
     "execution_count": 23,
     "metadata": {},
     "output_type": "execute_result"
    },
    {
     "data": {
      "text/plain": [
       "'ole business\\nabout the stab wound and how it was m'"
      ]
     },
     "execution_count": 23,
     "metadata": {},
     "output_type": "execute_result"
    },
    {
     "data": {
      "text/plain": [
       "'ade...1369\\n01:13:02,962 --> 01:13:04,588\\nthe dow'"
      ]
     },
     "execution_count": 23,
     "metadata": {},
     "output_type": "execute_result"
    },
    {
     "data": {
      "text/plain": [
       "'nward angle of it, you know?1370\\n01:13:04,672 --'"
      ]
     },
     "execution_count": 23,
     "metadata": {},
     "output_type": "execute_result"
    },
    {
     "data": {
      "text/plain": [
       "\"> 01:13:06,673\\nDon't tell me we're gonna\\nstart wit\""
      ]
     },
     "execution_count": 23,
     "metadata": {},
     "output_type": "execute_result"
    },
    {
     "data": {
      "text/plain": [
       "'h that again.1371\\n01:13:06,758 --> 01:13:08,383\\n'"
      ]
     },
     "execution_count": 23,
     "metadata": {},
     "output_type": "execute_result"
    },
    {
     "data": {
      "text/plain": [
       "\"They've been over it and over it.1372\\n01:13:08,4\""
      ]
     },
     "execution_count": 23,
     "metadata": {},
     "output_type": "execute_result"
    },
    {
     "data": {
      "text/plain": [
       "'68 --> 01:13:10,761\\nWell, I know they did,\\nbut I d'"
      ]
     },
     "execution_count": 23,
     "metadata": {},
     "output_type": "execute_result"
    },
    {
     "data": {
      "text/plain": [
       "\"on't go along with it.1373\\n01:13:10,845 --> 01:1\""
      ]
     },
     "execution_count": 23,
     "metadata": {},
     "output_type": "execute_result"
    },
    {
     "data": {
      "text/plain": [
       "'3:14,848\\nNow, the boy was 5 feet 7 inches tall.\\nHi'"
      ]
     },
     "execution_count": 23,
     "metadata": {},
     "output_type": "execute_result"
    },
    {
     "data": {
      "text/plain": [
       "\"s father was 6'2...1374\\n01:13:14,932 --> 01:13:1\""
      ]
     },
     "execution_count": 23,
     "metadata": {},
     "output_type": "execute_result"
    },
    {
     "data": {
      "text/plain": [
       "\"7,100\\nThat's a difference of seven inches.1375\\n0\""
      ]
     },
     "execution_count": 23,
     "metadata": {},
     "output_type": "execute_result"
    },
    {
     "data": {
      "text/plain": [
       "\"1:13:17,185 --> 01:13:19,853\\nIt's a very awkward t\""
      ]
     },
     "execution_count": 23,
     "metadata": {},
     "output_type": "execute_result"
    },
    {
     "data": {
      "text/plain": [
       "'hing to stab down\\ninto the chest of someone...13'"
      ]
     },
     "execution_count": 23,
     "metadata": {},
     "output_type": "execute_result"
    },
    {
     "data": {
      "text/plain": [
       "\"76\\n01:13:19,937 --> 01:13:21,938\\nwho's more than h\""
      ]
     },
     "execution_count": 23,
     "metadata": {},
     "output_type": "execute_result"
    },
    {
     "data": {
      "text/plain": [
       "'alf a foot\\ntaller than you are.1377\\n01:13:22,023'"
      ]
     },
     "execution_count": 23,
     "metadata": {},
     "output_type": "execute_result"
    },
    {
     "data": {
      "text/plain": [
       "' --> 01:13:24,149\\nGive me that.1378\\n01:13:24,233'"
      ]
     },
     "execution_count": 23,
     "metadata": {},
     "output_type": "execute_result"
    },
    {
     "data": {
      "text/plain": [
       "\" --> 01:13:27,027\\nI'll give you a demonstration.\\nS\""
      ]
     },
     "execution_count": 23,
     "metadata": {},
     "output_type": "execute_result"
    },
    {
     "data": {
      "text/plain": [
       "'omebody get up.1379\\n01:13:28,404 --> 01:13:30,32'"
      ]
     },
     "execution_count": 23,
     "metadata": {},
     "output_type": "execute_result"
    },
    {
     "data": {
      "text/plain": [
       "'2\\nYou...1380\\n01:13:34,827 --> 01:13:37,537\\nI wan'"
      ]
     },
     "execution_count": 23,
     "metadata": {},
     "output_type": "execute_result"
    },
    {
     "data": {
      "text/plain": [
       "\"t you to watch this 'cause\\nI don't want to have to\""
      ]
     },
     "execution_count": 23,
     "metadata": {},
     "output_type": "execute_result"
    },
    {
     "data": {
      "text/plain": [
       "' do it again.1381\\n01:13:37,622 --> 01:13:40,373\\n'"
      ]
     },
     "execution_count": 23,
     "metadata": {},
     "output_type": "execute_result"
    },
    {
     "data": {
      "text/plain": [
       "\"I'll make myself about six\\nor seven inches shorter\""
      ]
     },
     "execution_count": 23,
     "metadata": {},
     "output_type": "execute_result"
    },
    {
     "data": {
      "text/plain": [
       "\", okay?1382\\n01:13:40,458 --> 01:13:43,585\\n- It's\""
      ]
     },
     "execution_count": 23,
     "metadata": {},
     "output_type": "execute_result"
    },
    {
     "data": {
      "text/plain": [
       "' about right. Maybe a little more.\\n- Okay. A littl'"
      ]
     },
     "execution_count": 23,
     "metadata": {},
     "output_type": "execute_result"
    },
    {
     "data": {
      "text/plain": [
       "\"e more.1383\\n01:13:51,385 --> 01:13:53,804\\nThat's\""
      ]
     },
     "execution_count": 23,
     "metadata": {},
     "output_type": "execute_result"
    },
    {
     "data": {
      "text/plain": [
       "' not funny.1384\\n01:13:55,890 --> 01:13:59,726\\nNo'"
      ]
     },
     "execution_count": 23,
     "metadata": {},
     "output_type": "execute_result"
    },
    {
     "data": {
      "text/plain": [
       "\"w, nobody's hurt. Right?1385\\n01:14:00,394 --> 01\""
      ]
     },
     "execution_count": 23,
     "metadata": {},
     "output_type": "execute_result"
    },
    {
     "data": {
      "text/plain": [
       "':14:02,187\\nRight. Nobody hurt.1386\\n01:14:05,650 '"
      ]
     },
     "execution_count": 23,
     "metadata": {},
     "output_type": "execute_result"
    },
    {
     "data": {
      "text/plain": [
       "\"--> 01:14:10,445\\nNow, this is the way I'd stab a m\""
      ]
     },
     "execution_count": 23,
     "metadata": {},
     "output_type": "execute_result"
    },
    {
     "data": {
      "text/plain": [
       "'an\\nwho was taller than I was.1387\\n01:14:10,530 -'"
      ]
     },
     "execution_count": 23,
     "metadata": {},
     "output_type": "execute_result"
    },
    {
     "data": {
      "text/plain": [
       "'-> 01:14:12,989\\nLook at the angle - down and in.'"
      ]
     },
     "execution_count": 23,
     "metadata": {},
     "output_type": "execute_result"
    },
    {
     "data": {
      "text/plain": [
       "'1388\\n01:14:13,074 --> 01:14:15,158\\nAnd this is the'"
      ]
     },
     "execution_count": 23,
     "metadata": {},
     "output_type": "execute_result"
    },
    {
     "data": {
      "text/plain": [
       "' way it was done.1389\\n01:14:15,243 --> 01:14:17,'"
      ]
     },
     "execution_count": 23,
     "metadata": {},
     "output_type": "execute_result"
    },
    {
     "data": {
      "text/plain": [
       "\"410\\nNow tell me I'm wrong.1390\\n01:14:19,622 --> \""
      ]
     },
     "execution_count": 23,
     "metadata": {},
     "output_type": "execute_result"
    },
    {
     "data": {
      "text/plain": [
       "\"01:14:23,041\\n- Down and in. I guess there's no arg\""
      ]
     },
     "execution_count": 23,
     "metadata": {},
     "output_type": "execute_result"
    },
    {
     "data": {
      "text/plain": [
       "'ument.\\n- Hold it a minute, will ya?1391\\n01:14:23'"
      ]
     },
     "execution_count": 23,
     "metadata": {},
     "output_type": "execute_result"
    },
    {
     "data": {
      "text/plain": [
       "',126 --> 01:14:24,960\\nCan you give me that?1392\\n'"
      ]
     },
     "execution_count": 23,
     "metadata": {},
     "output_type": "execute_result"
    },
    {
     "data": {
      "text/plain": [
       "'01:14:25,962 --> 01:14:27,879\\nBoy, I hate these th'"
      ]
     },
     "execution_count": 23,
     "metadata": {},
     "output_type": "execute_result"
    },
    {
     "data": {
      "text/plain": [
       "'ings.1393\\n01:14:27,964 --> 01:14:29,631\\n- Did yo'"
      ]
     },
     "execution_count": 23,
     "metadata": {},
     "output_type": "execute_result"
    },
    {
     "data": {
      "text/plain": [
       "'u ever see a knife fight?\\n- No.1394\\n01:14:29,715'"
      ]
     },
     "execution_count": 23,
     "metadata": {},
     "output_type": "execute_result"
    },
    {
     "data": {
      "text/plain": [
       "' --> 01:14:31,299\\n- You?\\n- No.1395\\n01:14:31,384 '"
      ]
     },
     "execution_count": 23,
     "metadata": {},
     "output_type": "execute_result"
    },
    {
     "data": {
      "text/plain": [
       "'--> 01:14:34,177\\nAnybody here ever see a knife fig'"
      ]
     },
     "execution_count": 23,
     "metadata": {},
     "output_type": "execute_result"
    },
    {
     "data": {
      "text/plain": [
       "'ht?1396\\n01:14:34,262 --> 01:14:37,055\\nWell, I ha'"
      ]
     },
     "execution_count": 23,
     "metadata": {},
     "output_type": "execute_result"
    },
    {
     "data": {
      "text/plain": [
       "'ve.\\nYou know, on my back stoop...1397\\n01:14:37,1'"
      ]
     },
     "execution_count": 23,
     "metadata": {},
     "output_type": "execute_result"
    },
    {
     "data": {
      "text/plain": [
       "'40 --> 01:14:39,474\\nthe lot across the street, bac'"
      ]
     },
     "execution_count": 23,
     "metadata": {},
     "output_type": "execute_result"
    },
    {
     "data": {
      "text/plain": [
       "'kyard.1398\\n01:14:39,559 --> 01:14:41,977\\nSwitchb'"
      ]
     },
     "execution_count": 23,
     "metadata": {},
     "output_type": "execute_result"
    },
    {
     "data": {
      "text/plain": [
       "'lades came\\nwith the neighborhood where I lived.1'"
      ]
     },
     "execution_count": 23,
     "metadata": {},
     "output_type": "execute_result"
    },
    {
     "data": {
      "text/plain": [
       "\"399\\n01:14:42,061 --> 01:14:45,313\\nIt's funny I nev\""
      ]
     },
     "execution_count": 23,
     "metadata": {},
     "output_type": "execute_result"
    },
    {
     "data": {
      "text/plain": [
       "'er thought of it before.\\nI guess you try to forget'"
      ]
     },
     "execution_count": 23,
     "metadata": {},
     "output_type": "execute_result"
    },
    {
     "data": {
      "text/plain": [
       "' those things.1400\\n01:14:45,398 --> 01:14:48,775'"
      ]
     },
     "execution_count": 23,
     "metadata": {},
     "output_type": "execute_result"
    },
    {
     "data": {
      "text/plain": [
       "\"\\n- How do you use a switchblade?\\n- Well, you'd nev\""
      ]
     },
     "execution_count": 23,
     "metadata": {},
     "output_type": "execute_result"
    },
    {
     "data": {
      "text/plain": [
       "'er use it like this.1401\\n01:14:50,528 --> 01:14:'"
      ]
     },
     "execution_count": 23,
     "metadata": {},
     "output_type": "execute_result"
    },
    {
     "data": {
      "text/plain": [
       "'52,821\\nSee, you use too much time\\nswitching hands.'"
      ]
     },
     "execution_count": 23,
     "metadata": {},
     "output_type": "execute_result"
    },
    {
     "data": {
      "text/plain": [
       "\"1402\\n01:14:54,574 --> 01:14:57,075\\nHere's how - \""
      ]
     },
     "execution_count": 23,
     "metadata": {},
     "output_type": "execute_result"
    },
    {
     "data": {
      "text/plain": [
       "'underhanded.1403\\n01:14:59,787 --> 01:15:02,831\\nA'"
      ]
     },
     "execution_count": 23,
     "metadata": {},
     "output_type": "execute_result"
    },
    {
     "data": {
      "text/plain": [
       "\"nyone who's ever used a switch knife\\nwouldn't hand\""
      ]
     },
     "execution_count": 23,
     "metadata": {},
     "output_type": "execute_result"
    },
    {
     "data": {
      "text/plain": [
       "'le it any other way.1404\\n01:15:02,915 --> 01:15:'"
      ]
     },
     "execution_count": 23,
     "metadata": {},
     "output_type": "execute_result"
    },
    {
     "data": {
      "text/plain": [
       "\"05,542\\n- Are you sure?\\n- I'm sure.1405\\n01:15:05,\""
      ]
     },
     "execution_count": 23,
     "metadata": {},
     "output_type": "execute_result"
    },
    {
     "data": {
      "text/plain": [
       "\"626 --> 01:15:07,460\\nThat's why they're made to op\""
      ]
     },
     "execution_count": 23,
     "metadata": {},
     "output_type": "execute_result"
    },
    {
     "data": {
      "text/plain": [
       "'en like that.1406\\n01:15:07,545 --> 01:15:10,172\\n'"
      ]
     },
     "execution_count": 23,
     "metadata": {},
     "output_type": "execute_result"
    },
    {
     "data": {
      "text/plain": [
       "\"- You'd say the boy was pretty handy with a knife?\""
      ]
     },
     "execution_count": 23,
     "metadata": {},
     "output_type": "execute_result"
    },
    {
     "data": {
      "text/plain": [
       "'\\n- Mm-hmm.1407\\n01:15:10,256 --> 01:15:13,425\\nYou'"
      ]
     },
     "execution_count": 23,
     "metadata": {},
     "output_type": "execute_result"
    },
    {
     "data": {
      "text/plain": [
       "' think he could have made\\nthe kind of wound that k'"
      ]
     },
     "execution_count": 23,
     "metadata": {},
     "output_type": "execute_result"
    },
    {
     "data": {
      "text/plain": [
       "'illed his father?1408\\n01:15:13,509 --> 01:15:17,'"
      ]
     },
     "execution_count": 23,
     "metadata": {},
     "output_type": "execute_result"
    },
    {
     "data": {
      "text/plain": [
       "\"429\\nNo. Not with the experience he'd had\\nall his l\""
      ]
     },
     "execution_count": 23,
     "metadata": {},
     "output_type": "execute_result"
    },
    {
     "data": {
      "text/plain": [
       "'ife handling these things.1409\\n01:15:17,513 --> '"
      ]
     },
     "execution_count": 23,
     "metadata": {},
     "output_type": "execute_result"
    },
    {
     "data": {
      "text/plain": [
       "\"01:15:19,514\\nI feel he'd have gone for him underha\""
      ]
     },
     "execution_count": 23,
     "metadata": {},
     "output_type": "execute_result"
    },
    {
     "data": {
      "text/plain": [
       "'nded.1410\\n01:15:19,599 --> 01:15:22,642\\nHow do y'"
      ]
     },
     "execution_count": 23,
     "metadata": {},
     "output_type": "execute_result"
    },
    {
     "data": {
      "text/plain": [
       "'ou know? Were you\\nin the room when the father was '"
      ]
     },
     "execution_count": 23,
     "metadata": {},
     "output_type": "execute_result"
    },
    {
     "data": {
      "text/plain": [
       "'killed?1411\\n01:15:22,727 --> 01:15:24,728\\nNo. Ne'"
      ]
     },
     "execution_count": 23,
     "metadata": {},
     "output_type": "execute_result"
    },
    {
     "data": {
      "text/plain": [
       "'ither was anybody else.1412\\n01:15:24,812 --> 01:'"
      ]
     },
     "execution_count": 23,
     "metadata": {},
     "output_type": "execute_result"
    },
    {
     "data": {
      "text/plain": [
       "'15:28,023\\nSo what are you giving us all this\\nmumbo'"
      ]
     },
     "execution_count": 23,
     "metadata": {},
     "output_type": "execute_result"
    },
    {
     "data": {
      "text/plain": [
       "\" jumbo for? I don't believe it.1413\\n01:15:28,107\""
      ]
     },
     "execution_count": 23,
     "metadata": {},
     "output_type": "execute_result"
    },
    {
     "data": {
      "text/plain": [
       "\" --> 01:15:31,359\\nI don't think you can determine \""
      ]
     },
     "execution_count": 23,
     "metadata": {},
     "output_type": "execute_result"
    },
    {
     "data": {
      "text/plain": [
       "'what type of\\nwound the boy might or might not have'"
      ]
     },
     "execution_count": 23,
     "metadata": {},
     "output_type": "execute_result"
    },
    {
     "data": {
      "text/plain": [
       "' made...1414\\n01:15:31,444 --> 01:15:34,070\\nsimpl'"
      ]
     },
     "execution_count": 23,
     "metadata": {},
     "output_type": "execute_result"
    },
    {
     "data": {
      "text/plain": [
       "'y because he knew\\nhow to handle a knife.1415\\n01:'"
      ]
     },
     "execution_count": 23,
     "metadata": {},
     "output_type": "execute_result"
    },
    {
     "data": {
      "text/plain": [
       "'15:34,155 --> 01:15:36,489\\nWhat do you think?141'"
      ]
     },
     "execution_count": 23,
     "metadata": {},
     "output_type": "execute_result"
    },
    {
     "data": {
      "text/plain": [
       "\"6\\n01:15:36,574 --> 01:15:38,658\\n- I don't know.\\n- \""
      ]
     },
     "execution_count": 23,
     "metadata": {},
     "output_type": "execute_result"
    },
    {
     "data": {
      "text/plain": [
       "\"What do you mean you don't know?1417\\n01:15:38,74\""
      ]
     },
     "execution_count": 23,
     "metadata": {},
     "output_type": "execute_result"
    },
    {
     "data": {
      "text/plain": [
       "\"3 --> 01:15:40,577\\nI don't know.1418\\n01:15:44,79\""
      ]
     },
     "execution_count": 23,
     "metadata": {},
     "output_type": "execute_result"
    },
    {
     "data": {
      "text/plain": [
       "'0 --> 01:15:46,791\\nHow about you?1419\\n01:15:46,8'"
      ]
     },
     "execution_count": 23,
     "metadata": {},
     "output_type": "execute_result"
    },
    {
     "data": {
      "text/plain": [
       "\"76 --> 01:15:50,629\\nI don't know about the rest of\""
      ]
     },
     "execution_count": 23,
     "metadata": {},
     "output_type": "execute_result"
    },
    {
     "data": {
      "text/plain": [
       "\" them, but I'm getting a\\nlittle tired of this yack\""
      ]
     },
     "execution_count": 23,
     "metadata": {},
     "output_type": "execute_result"
    },
    {
     "data": {
      "text/plain": [
       "\"ety-yackin' back and forth.1420\\n01:15:50,713 -->\""
      ]
     },
     "execution_count": 23,
     "metadata": {},
     "output_type": "execute_result"
    },
    {
     "data": {
      "text/plain": [
       "\" 01:15:54,174\\nIt's gettin' us nowhere.\\nSo I guess \""
      ]
     },
     "execution_count": 23,
     "metadata": {},
     "output_type": "execute_result"
    },
    {
     "data": {
      "text/plain": [
       "\"I'll have to break it up.1421\\n01:15:54,258 --> 0\""
      ]
     },
     "execution_count": 23,
     "metadata": {},
     "output_type": "execute_result"
    },
    {
     "data": {
      "text/plain": [
       "'1:15:56,801\\nI change my vote to not guilty.1422\\n'"
      ]
     },
     "execution_count": 23,
     "metadata": {},
     "output_type": "execute_result"
    },
    {
     "data": {
      "text/plain": [
       "'01:15:56,886 --> 01:16:00,222\\n- You what?\\n- You he'"
      ]
     },
     "execution_count": 23,
     "metadata": {},
     "output_type": "execute_result"
    },
    {
     "data": {
      "text/plain": [
       "\"ard me. I've had enough.1423\\n01:16:00,306 --> 01\""
      ]
     },
     "execution_count": 23,
     "metadata": {},
     "output_type": "execute_result"
    },
    {
     "data": {
      "text/plain": [
       "\":16:02,766\\nWhat do you mean you've had enough?\\nTha\""
      ]
     },
     "execution_count": 23,
     "metadata": {},
     "output_type": "execute_result"
    },
    {
     "data": {
      "text/plain": [
       "\"t's no answer!1424\\n01:16:02,850 --> 01:16:06,811\""
      ]
     },
     "execution_count": 23,
     "metadata": {},
     "output_type": "execute_result"
    },
    {
     "data": {
      "text/plain": [
       "'\\nHey, listen. You just take care\\nof yourself, huh?'"
      ]
     },
     "execution_count": 23,
     "metadata": {},
     "output_type": "execute_result"
    },
    {
     "data": {
      "text/plain": [
       "\" You know?1425\\n01:16:06,896 --> 01:16:10,857\\nHe'\""
      ]
     },
     "execution_count": 23,
     "metadata": {},
     "output_type": "execute_result"
    },
    {
     "data": {
      "text/plain": [
       "\"s right. That's not an answer.1426\\n01:16:10,942 \""
      ]
     },
     "execution_count": 23,
     "metadata": {},
     "output_type": "execute_result"
    },
    {
     "data": {
      "text/plain": [
       "'--> 01:16:13,902\\nWhat kind of a man are you?1427'"
      ]
     },
     "execution_count": 23,
     "metadata": {},
     "output_type": "execute_result"
    },
    {
     "data": {
      "text/plain": [
       "'\\n01:16:13,986 --> 01:16:17,113\\nYou have sat here a'"
      ]
     },
     "execution_count": 23,
     "metadata": {},
     "output_type": "execute_result"
    },
    {
     "data": {
      "text/plain": [
       "'nd voted guilty\\nwith everyone else...1428\\n01:16:'"
      ]
     },
     "execution_count": 23,
     "metadata": {},
     "output_type": "execute_result"
    },
    {
     "data": {
      "text/plain": [
       "'17,198 --> 01:16:21,451\\nbecause there are some bas'"
      ]
     },
     "execution_count": 23,
     "metadata": {},
     "output_type": "execute_result"
    },
    {
     "data": {
      "text/plain": [
       "'eball tickets\\nburning a hole in your pocket.1429'"
      ]
     },
     "execution_count": 23,
     "metadata": {},
     "output_type": "execute_result"
    },
    {
     "data": {
      "text/plain": [
       "\"\\n01:16:21,535 --> 01:16:25,789\\nAnd now you've chan\""
      ]
     },
     "execution_count": 23,
     "metadata": {},
     "output_type": "execute_result"
    },
    {
     "data": {
      "text/plain": [
       "\"ged your vote because you\\nsay you're sick of all t\""
      ]
     },
     "execution_count": 23,
     "metadata": {},
     "output_type": "execute_result"
    },
    {
     "data": {
      "text/plain": [
       "'he talking here?1430\\n01:16:26,791 --> 01:16:28,2'"
      ]
     },
     "execution_count": 23,
     "metadata": {},
     "output_type": "execute_result"
    },
    {
     "data": {
      "text/plain": [
       "'50\\nNow listen, buddy!1431\\n01:16:28,334 --> 01:16'"
      ]
     },
     "execution_count": 23,
     "metadata": {},
     "output_type": "execute_result"
    },
    {
     "data": {
      "text/plain": [
       "':33,004\\nWho tells you that you have the right\\nto p'"
      ]
     },
     "execution_count": 23,
     "metadata": {},
     "output_type": "execute_result"
    },
    {
     "data": {
      "text/plain": [
       "\"lay like this with a man's life?1432\\n01:16:33,08\""
      ]
     },
     "execution_count": 23,
     "metadata": {},
     "output_type": "execute_result"
    },
    {
     "data": {
      "text/plain": [
       "\"9 --> 01:16:35,590\\n- Don't you care -\\n- Now wait a\""
      ]
     },
     "execution_count": 23,
     "metadata": {},
     "output_type": "execute_result"
    },
    {
     "data": {
      "text/plain": [
       "' minute!1433\\n01:16:35,675 --> 01:16:39,678\\n- You'"
      ]
     },
     "execution_count": 23,
     "metadata": {},
     "output_type": "execute_result"
    },
    {
     "data": {
      "text/plain": [
       "\" can't talk like that to me!\\n- I can talk like tha\""
      ]
     },
     "execution_count": 23,
     "metadata": {},
     "output_type": "execute_result"
    },
    {
     "data": {
      "text/plain": [
       "'t to you.1434\\n01:16:39,762 --> 01:16:41,638\\nIf y'"
      ]
     },
     "execution_count": 23,
     "metadata": {},
     "output_type": "execute_result"
    },
    {
     "data": {
      "text/plain": [
       "'ou want to vote not guilty...1435\\n01:16:41,722 -'"
      ]
     },
     "execution_count": 23,
     "metadata": {},
     "output_type": "execute_result"
    },
    {
     "data": {
      "text/plain": [
       "'-> 01:16:44,099\\nthen do it because you are convinc'"
      ]
     },
     "execution_count": 23,
     "metadata": {},
     "output_type": "execute_result"
    },
    {
     "data": {
      "text/plain": [
       "'ed\\nthe man is not guilty...1436\\n01:16:44,183 -->'"
      ]
     },
     "execution_count": 23,
     "metadata": {},
     "output_type": "execute_result"
    },
    {
     "data": {
      "text/plain": [
       "\" 01:16:45,976\\nnot because you've had enough.1437\""
      ]
     },
     "execution_count": 23,
     "metadata": {},
     "output_type": "execute_result"
    },
    {
     "data": {
      "text/plain": [
       "'\\n01:16:46,060 --> 01:16:48,645\\nAnd if you think he'"
      ]
     },
     "execution_count": 23,
     "metadata": {},
     "output_type": "execute_result"
    },
    {
     "data": {
      "text/plain": [
       "' is guilty,\\nthen vote that way.1438\\n01:16:48,729'"
      ]
     },
     "execution_count": 23,
     "metadata": {},
     "output_type": "execute_result"
    },
    {
     "data": {
      "text/plain": [
       "\" --> 01:16:51,940\\nOr don't you have the guts\\nto do\""
      ]
     },
     "execution_count": 23,
     "metadata": {},
     "output_type": "execute_result"
    },
    {
     "data": {
      "text/plain": [
       "' what you think is right?1439\\n01:16:52,024 --> 0'"
      ]
     },
     "execution_count": 23,
     "metadata": {},
     "output_type": "execute_result"
    },
    {
     "data": {
      "text/plain": [
       "'1:16:54,276\\n- Now listen.\\n- Guilty or not guilty?\\n'"
      ]
     },
     "execution_count": 23,
     "metadata": {},
     "output_type": "execute_result"
    },
    {
     "data": {
      "text/plain": [
       "'\\n1440\\n01:16:55,069 --> 01:16:58,655\\n- I told you, '"
      ]
     },
     "execution_count": 23,
     "metadata": {},
     "output_type": "execute_result"
    },
    {
     "data": {
      "text/plain": [
       "'not guilty.\\n- Why?1441\\n01:17:00,324 --> 01:17:01'"
      ]
     },
     "execution_count": 23,
     "metadata": {},
     "output_type": "execute_result"
    },
    {
     "data": {
      "text/plain": [
       "\",950\\nLook, I don't have to...1442\\n01:17:02,034 -\""
      ]
     },
     "execution_count": 23,
     "metadata": {},
     "output_type": "execute_result"
    },
    {
     "data": {
      "text/plain": [
       "'-> 01:17:05,161\\nYou do have to! Say it! Why?1443'"
      ]
     },
     "execution_count": 23,
     "metadata": {},
     "output_type": "execute_result"
    },
    {
     "data": {
      "text/plain": [
       "\"\\n01:17:05,246 --> 01:17:07,706\\nAll right. I don't,\""
      ]
     },
     "execution_count": 23,
     "metadata": {},
     "output_type": "execute_result"
    },
    {
     "data": {
      "text/plain": [
       "\" uh, think he's guilty.1444\\n01:17:17,216 --> 01:\""
      ]
     },
     "execution_count": 23,
     "metadata": {},
     "output_type": "execute_result"
    },
    {
     "data": {
      "text/plain": [
       "'17:18,842\\nI want another vote.1445\\n01:17:18,926 '"
      ]
     },
     "execution_count": 23,
     "metadata": {},
     "output_type": "execute_result"
    },
    {
     "data": {
      "text/plain": [
       "\"--> 01:17:21,428\\nOkay. There's another vote called\""
      ]
     },
     "execution_count": 23,
     "metadata": {},
     "output_type": "execute_result"
    },
    {
     "data": {
      "text/plain": [
       "' for.1446\\n01:17:21,512 --> 01:17:24,389\\nI guess '"
      ]
     },
     "execution_count": 23,
     "metadata": {},
     "output_type": "execute_result"
    },
    {
     "data": {
      "text/plain": [
       "'the quickest way is a show of hands.\\nAnyone object'"
      ]
     },
     "execution_count": 23,
     "metadata": {},
     "output_type": "execute_result"
    },
    {
     "data": {
      "text/plain": [
       "'?1447\\n01:17:24,473 --> 01:17:27,392\\nOkay. All th'"
      ]
     },
     "execution_count": 23,
     "metadata": {},
     "output_type": "execute_result"
    },
    {
     "data": {
      "text/plain": [
       "'ose voting not guilty,\\nraise your hands.1448\\n01:'"
      ]
     },
     "execution_count": 23,
     "metadata": {},
     "output_type": "execute_result"
    },
    {
     "data": {
      "text/plain": [
       "'17:28,311 --> 01:17:33,481\\nOne, two, three, four,\\n'"
      ]
     },
     "execution_count": 23,
     "metadata": {},
     "output_type": "execute_result"
    },
    {
     "data": {
      "text/plain": [
       "'five, six, seven...1449\\n01:17:36,319 --> 01:17:3'"
      ]
     },
     "execution_count": 23,
     "metadata": {},
     "output_type": "execute_result"
    },
    {
     "data": {
      "text/plain": [
       "'7,986\\neight.1450\\n01:17:41,907 --> 01:17:44,034\\nU'"
      ]
     },
     "execution_count": 23,
     "metadata": {},
     "output_type": "execute_result"
    },
    {
     "data": {
      "text/plain": [
       "'m, nine.1451\\n01:17:45,036 --> 01:17:50,040\\nUm, a'"
      ]
     },
     "execution_count": 23,
     "metadata": {},
     "output_type": "execute_result"
    },
    {
     "data": {
      "text/plain": [
       "'ll those voting guilty,\\nraise your hands.1452\\n01'"
      ]
     },
     "execution_count": 23,
     "metadata": {},
     "output_type": "execute_result"
    },
    {
     "data": {
      "text/plain": [
       "':17:50,124 --> 01:17:52,500\\nOne, two, three.1453'"
      ]
     },
     "execution_count": 23,
     "metadata": {},
     "output_type": "execute_result"
    },
    {
     "data": {
      "text/plain": [
       "\"\\n01:17:52,585 --> 01:17:55,086\\nWell, the vote's ni\""
      ]
     },
     "execution_count": 23,
     "metadata": {},
     "output_type": "execute_result"
    },
    {
     "data": {
      "text/plain": [
       "'ne to three\\nin favor of acquittal.1454\\n01:17:56,'"
      ]
     },
     "execution_count": 23,
     "metadata": {},
     "output_type": "execute_result"
    },
    {
     "data": {
      "text/plain": [
       "\"088 --> 01:17:58,256\\nI don't understand you people\""
      ]
     },
     "execution_count": 23,
     "metadata": {},
     "output_type": "execute_result"
    },
    {
     "data": {
      "text/plain": [
       "'!1455\\n01:17:58,341 --> 01:18:00,508\\nI mean, all '"
      ]
     },
     "execution_count": 23,
     "metadata": {},
     "output_type": "execute_result"
    },
    {
     "data": {
      "text/plain": [
       "'these picky little points\\nyou keep bringing up.1'"
      ]
     },
     "execution_count": 23,
     "metadata": {},
     "output_type": "execute_result"
    },
    {
     "data": {
      "text/plain": [
       "\"456\\n01:18:00,593 --> 01:18:03,928\\nThey don't mean \""
      ]
     },
     "execution_count": 23,
     "metadata": {},
     "output_type": "execute_result"
    },
    {
     "data": {
      "text/plain": [
       "'nothing!\\nYou saw this kid just like I did.1457\\n0'"
      ]
     },
     "execution_count": 23,
     "metadata": {},
     "output_type": "execute_result"
    },
    {
     "data": {
      "text/plain": [
       "\"1:18:04,013 --> 01:18:07,515\\nYou're not gonna tell\""
      ]
     },
     "execution_count": 23,
     "metadata": {},
     "output_type": "execute_result"
    },
    {
     "data": {
      "text/plain": [
       "' me you believe\\nthat phony story about losing the '"
      ]
     },
     "execution_count": 23,
     "metadata": {},
     "output_type": "execute_result"
    },
    {
     "data": {
      "text/plain": [
       "'knife...1458\\n01:18:07,600 --> 01:18:09,601\\nand t'"
      ]
     },
     "execution_count": 23,
     "metadata": {},
     "output_type": "execute_result"
    },
    {
     "data": {
      "text/plain": [
       "'hat business\\nabout being at the movies.1459\\n01:1'"
      ]
     },
     "execution_count": 23,
     "metadata": {},
     "output_type": "execute_result"
    },
    {
     "data": {
      "text/plain": [
       "'8:09,685 --> 01:18:12,687\\nLook, you know how these'"
      ]
     },
     "execution_count": 23,
     "metadata": {},
     "output_type": "execute_result"
    },
    {
     "data": {
      "text/plain": [
       "\" people lie.\\nIt's born in them.1460\\n01:18:12,772\""
      ]
     },
     "execution_count": 23,
     "metadata": {},
     "output_type": "execute_result"
    },
    {
     "data": {
      "text/plain": [
       "\" --> 01:18:14,814\\nI mean, what the heck.\\nI don't h\""
      ]
     },
     "execution_count": 23,
     "metadata": {},
     "output_type": "execute_result"
    },
    {
     "data": {
      "text/plain": [
       "'ave to tell you.1461\\n01:18:14,899 --> 01:18:16,8'"
      ]
     },
     "execution_count": 23,
     "metadata": {},
     "output_type": "execute_result"
    },
    {
     "data": {
      "text/plain": [
       "\"58\\nThey don't know what the truth is.1462\\n01:18:\""
      ]
     },
     "execution_count": 23,
     "metadata": {},
     "output_type": "execute_result"
    },
    {
     "data": {
      "text/plain": [
       "'16,942 --> 01:18:20,653\\nAnd let me tell you, they '"
      ]
     },
     "execution_count": 23,
     "metadata": {},
     "output_type": "execute_result"
    },
    {
     "data": {
      "text/plain": [
       "\"don't need\\nany real big reason to kill someone eit\""
      ]
     },
     "execution_count": 23,
     "metadata": {},
     "output_type": "execute_result"
    },
    {
     "data": {
      "text/plain": [
       "'her.1463\\n01:18:20,738 --> 01:18:22,489\\nNo, sir.\\n'"
      ]
     },
     "execution_count": 23,
     "metadata": {},
     "output_type": "execute_result"
    },
    {
     "data": {
      "text/plain": [
       "'\\n1464\\n01:18:22,573 --> 01:18:25,617\\nThey get drunk'"
      ]
     },
     "execution_count": 23,
     "metadata": {},
     "output_type": "execute_result"
    },
    {
     "data": {
      "text/plain": [
       "\"!\\nOh, they're real big drinkers, all of 'em.1465\""
      ]
     },
     "execution_count": 23,
     "metadata": {},
     "output_type": "execute_result"
    },
    {
     "data": {
      "text/plain": [
       "'\\n01:18:25,701 --> 01:18:28,870\\nYou know that.\\nAnd '"
      ]
     },
     "execution_count": 23,
     "metadata": {},
     "output_type": "execute_result"
    },
    {
     "data": {
      "text/plain": [
       "\"bang - someone's lying in the gutter.1466\\n01:18:\""
      ]
     },
     "execution_count": 23,
     "metadata": {},
     "output_type": "execute_result"
    },
    {
     "data": {
      "text/plain": [
       "\"28,954 --> 01:18:31,956\\nWell, nobody's blaming the\""
      ]
     },
     "execution_count": 23,
     "metadata": {},
     "output_type": "execute_result"
    },
    {
     "data": {
      "text/plain": [
       "\"m for it.\\nThat's the way they are, by nature.146\""
      ]
     },
     "execution_count": 23,
     "metadata": {},
     "output_type": "execute_result"
    },
    {
     "data": {
      "text/plain": [
       "'7\\n01:18:32,041 --> 01:18:34,125\\nYou know what I me'"
      ]
     },
     "execution_count": 23,
     "metadata": {},
     "output_type": "execute_result"
    },
    {
     "data": {
      "text/plain": [
       "'an? Violent!1468\\n01:18:34,210 --> 01:18:35,710\\nW'"
      ]
     },
     "execution_count": 23,
     "metadata": {},
     "output_type": "execute_result"
    },
    {
     "data": {
      "text/plain": [
       "'here are you going?1469\\n01:18:35,795 --> 01:18:3'"
      ]
     },
     "execution_count": 23,
     "metadata": {},
     "output_type": "execute_result"
    },
    {
     "data": {
      "text/plain": [
       "\"8,797\\nΗuman life don't mean\\nas much to them as it \""
      ]
     },
     "execution_count": 23,
     "metadata": {},
     "output_type": "execute_result"
    },
    {
     "data": {
      "text/plain": [
       "'does to us.1470\\n01:18:39,799 --> 01:18:42,801\\nLo'"
      ]
     },
     "execution_count": 23,
     "metadata": {},
     "output_type": "execute_result"
    },
    {
     "data": {
      "text/plain": [
       "\"ok! They're lushing it up\\nand fighting all the tim\""
      ]
     },
     "execution_count": 23,
     "metadata": {},
     "output_type": "execute_result"
    },
    {
     "data": {
      "text/plain": [
       "'e...1471\\n01:18:42,885 --> 01:18:44,886\\nand if so'"
      ]
     },
     "execution_count": 23,
     "metadata": {},
     "output_type": "execute_result"
    },
    {
     "data": {
      "text/plain": [
       "'mebody gets killed,\\nso somebody gets killed!1472'"
      ]
     },
     "execution_count": 23,
     "metadata": {},
     "output_type": "execute_result"
    },
    {
     "data": {
      "text/plain": [
       "\"\\n01:18:44,970 --> 01:18:46,346\\nThey don't care!1\""
      ]
     },
     "execution_count": 23,
     "metadata": {},
     "output_type": "execute_result"
    },
    {
     "data": {
      "text/plain": [
       "\"473\\n01:18:46,430 --> 01:18:48,640\\nOh, sure, there'\""
      ]
     },
     "execution_count": 23,
     "metadata": {},
     "output_type": "execute_result"
    },
    {
     "data": {
      "text/plain": [
       "\"s some good things\\nabout 'em too.1474\\n01:18:48,7\""
      ]
     },
     "execution_count": 23,
     "metadata": {},
     "output_type": "execute_result"
    },
    {
     "data": {
      "text/plain": [
       "\"24 --> 01:18:50,683\\nLook, I'm the first one to say\""
      ]
     },
     "execution_count": 23,
     "metadata": {},
     "output_type": "execute_result"
    },
    {
     "data": {
      "text/plain": [
       "\" that.1475\\n01:18:50,768 --> 01:18:54,062\\nI've kn\""
      ]
     },
     "execution_count": 23,
     "metadata": {},
     "output_type": "execute_result"
    },
    {
     "data": {
      "text/plain": [
       "\"own a couple who were okay, but\\nthat's the excepti\""
      ]
     },
     "execution_count": 23,
     "metadata": {},
     "output_type": "execute_result"
    },
    {
     "data": {
      "text/plain": [
       "'on, you know what I mean?1476\\n01:18:54,146 --> 0'"
      ]
     },
     "execution_count": 23,
     "metadata": {},
     "output_type": "execute_result"
    },
    {
     "data": {
      "text/plain": [
       "\"1:18:57,899\\nMost of 'em, it's like they have no fe\""
      ]
     },
     "execution_count": 23,
     "metadata": {},
     "output_type": "execute_result"
    },
    {
     "data": {
      "text/plain": [
       "'elings.\\nThey can do anything.1477\\n01:18:57,983 -'"
      ]
     },
     "execution_count": 23,
     "metadata": {},
     "output_type": "execute_result"
    },
    {
     "data": {
      "text/plain": [
       "\"-> 01:19:00,568\\nWhat's going on here?1478\\n01:19:\""
      ]
     },
     "execution_count": 23,
     "metadata": {},
     "output_type": "execute_result"
    },
    {
     "data": {
      "text/plain": [
       "\"00,653 --> 01:19:02,695\\nI'm - I'm trying to tell y\""
      ]
     },
     "execution_count": 23,
     "metadata": {},
     "output_type": "execute_result"
    },
    {
     "data": {
      "text/plain": [
       "\"a...1479\\n01:19:02,780 --> 01:19:04,781\\nyou're ma\""
      ]
     },
     "execution_count": 23,
     "metadata": {},
     "output_type": "execute_result"
    },
    {
     "data": {
      "text/plain": [
       "'king a big mistake, you people.1480\\n01:19:04,865'"
      ]
     },
     "execution_count": 23,
     "metadata": {},
     "output_type": "execute_result"
    },
    {
     "data": {
      "text/plain": [
       "' --> 01:19:07,867\\nThis kid is a liar!\\nI know it. I'"
      ]
     },
     "execution_count": 23,
     "metadata": {},
     "output_type": "execute_result"
    },
    {
     "data": {
      "text/plain": [
       "' know all about them.1481\\n01:19:09,578 --> 01:19'"
      ]
     },
     "execution_count": 23,
     "metadata": {},
     "output_type": "execute_result"
    },
    {
     "data": {
      "text/plain": [
       "\":11,746\\nListen to me.\\nThey're no good.1482\\n01:19\""
      ]
     },
     "execution_count": 23,
     "metadata": {},
     "output_type": "execute_result"
    },
    {
     "data": {
      "text/plain": [
       "\":11,831 --> 01:19:14,165\\nThere's not a one of 'em \""
      ]
     },
     "execution_count": 23,
     "metadata": {},
     "output_type": "execute_result"
    },
    {
     "data": {
      "text/plain": [
       "\"who's any good.1483\\n01:19:16,210 --> 01:19:18,67\""
      ]
     },
     "execution_count": 23,
     "metadata": {},
     "output_type": "execute_result"
    },
    {
     "data": {
      "text/plain": [
       "\"0\\nI mean, what -\\nWhat's happening in here?1484\\n0\""
      ]
     },
     "execution_count": 23,
     "metadata": {},
     "output_type": "execute_result"
    },
    {
     "data": {
      "text/plain": [
       "\"1:19:18,754 --> 01:19:21,005\\nI'm speaking my piece\""
      ]
     },
     "execution_count": 23,
     "metadata": {},
     "output_type": "execute_result"
    },
    {
     "data": {
      "text/plain": [
       "', and you...1485\\n01:19:22,216 --> 01:19:23,883\\nL'"
      ]
     },
     "execution_count": 23,
     "metadata": {},
     "output_type": "execute_result"
    },
    {
     "data": {
      "text/plain": [
       "'isten to me.1486\\n01:19:24,969 --> 01:19:26,428\\nI'"
      ]
     },
     "execution_count": 23,
     "metadata": {},
     "output_type": "execute_result"
    },
    {
     "data": {
      "text/plain": [
       "\"...1487\\n01:19:26,512 --> 01:19:28,972\\nWe're - Th\""
      ]
     },
     "execution_count": 23,
     "metadata": {},
     "output_type": "execute_result"
    },
    {
     "data": {
      "text/plain": [
       "'is kid on trial here, his type...1488\\n01:19:29,0'"
      ]
     },
     "execution_count": 23,
     "metadata": {},
     "output_type": "execute_result"
    },
    {
     "data": {
      "text/plain": [
       "\"56 --> 01:19:31,057\\nWell, don't you know about the\""
      ]
     },
     "execution_count": 23,
     "metadata": {},
     "output_type": "execute_result"
    },
    {
     "data": {
      "text/plain": [
       "\"m?1489\\n01:19:33,018 --> 01:19:36,479\\nTh-There's \""
      ]
     },
     "execution_count": 23,
     "metadata": {},
     "output_type": "execute_result"
    },
    {
     "data": {
      "text/plain": [
       "\"- There's a danger here.1490\\n01:19:36,564 --> 01\""
      ]
     },
     "execution_count": 23,
     "metadata": {},
     "output_type": "execute_result"
    },
    {
     "data": {
      "text/plain": [
       "':19:38,648\\nThese people are dangerous.1491\\n01:19'"
      ]
     },
     "execution_count": 23,
     "metadata": {},
     "output_type": "execute_result"
    },
    {
     "data": {
      "text/plain": [
       "\":38,732 --> 01:19:41,776\\nThey're... wild.1492\\n01\""
      ]
     },
     "execution_count": 23,
     "metadata": {},
     "output_type": "execute_result"
    },
    {
     "data": {
      "text/plain": [
       "':19:41,861 --> 01:19:43,778\\nListen to me.1493\\n01'"
      ]
     },
     "execution_count": 23,
     "metadata": {},
     "output_type": "execute_result"
    },
    {
     "data": {
      "text/plain": [
       "':19:43,863 --> 01:19:46,197\\n- Listen.\\n- I have.1'"
      ]
     },
     "execution_count": 23,
     "metadata": {},
     "output_type": "execute_result"
    },
    {
     "data": {
      "text/plain": [
       "'494\\n01:19:46,282 --> 01:19:49,284\\nNow sit down\\nand'"
      ]
     },
     "execution_count": 23,
     "metadata": {},
     "output_type": "execute_result"
    },
    {
     "data": {
      "text/plain": [
       "\" don't open your mouth again.1495\\n01:19:53,205 -\""
      ]
     },
     "execution_count": 23,
     "metadata": {},
     "output_type": "execute_result"
    },
    {
     "data": {
      "text/plain": [
       "'-> 01:19:55,957\\nI was only trying to... tell you.\\n'"
      ]
     },
     "execution_count": 23,
     "metadata": {},
     "output_type": "execute_result"
    },
    {
     "data": {
      "text/plain": [
       "\"\\n1496\\n01:20:32,453 --> 01:20:36,748\\nIt's always di\""
      ]
     },
     "execution_count": 23,
     "metadata": {},
     "output_type": "execute_result"
    },
    {
     "data": {
      "text/plain": [
       "'fficult to keep personal\\nprejudice out of a thing '"
      ]
     },
     "execution_count": 23,
     "metadata": {},
     "output_type": "execute_result"
    },
    {
     "data": {
      "text/plain": [
       "'like this.1497\\n01:20:37,875 --> 01:20:41,878\\nWhe'"
      ]
     },
     "execution_count": 23,
     "metadata": {},
     "output_type": "execute_result"
    },
    {
     "data": {
      "text/plain": [
       "'rever you run into it,\\nprejudice always obscures t'"
      ]
     },
     "execution_count": 23,
     "metadata": {},
     "output_type": "execute_result"
    },
    {
     "data": {
      "text/plain": [
       "'he truth.1498\\n01:20:43,464 --> 01:20:45,840\\nI do'"
      ]
     },
     "execution_count": 23,
     "metadata": {},
     "output_type": "execute_result"
    },
    {
     "data": {
      "text/plain": [
       "\"n't really know what the truth is.1499\\n01:20:45,\""
      ]
     },
     "execution_count": 23,
     "metadata": {},
     "output_type": "execute_result"
    },
    {
     "data": {
      "text/plain": [
       "\"925 --> 01:20:48,843\\nI don't suppose anybody\\nwill \""
      ]
     },
     "execution_count": 23,
     "metadata": {},
     "output_type": "execute_result"
    },
    {
     "data": {
      "text/plain": [
       "'ever really know.1500\\n01:20:50,137 --> 01:20:54,'"
      ]
     },
     "execution_count": 23,
     "metadata": {},
     "output_type": "execute_result"
    },
    {
     "data": {
      "text/plain": [
       "'098\\nNine of us now seem to feel\\nthat the defendant'"
      ]
     },
     "execution_count": 23,
     "metadata": {},
     "output_type": "execute_result"
    },
    {
     "data": {
      "text/plain": [
       "' is innocent.1501\\n01:20:54,183 --> 01:20:57,185\\n'"
      ]
     },
     "execution_count": 23,
     "metadata": {},
     "output_type": "execute_result"
    },
    {
     "data": {
      "text/plain": [
       "\"But we're just gambling on probabilities.1502\\n01\""
      ]
     },
     "execution_count": 23,
     "metadata": {},
     "output_type": "execute_result"
    },
    {
     "data": {
      "text/plain": [
       "':20:57,269 --> 01:20:59,229\\nWe may be wrong.1503'"
      ]
     },
     "execution_count": 23,
     "metadata": {},
     "output_type": "execute_result"
    },
    {
     "data": {
      "text/plain": [
       "'\\n01:20:59,313 --> 01:21:01,689\\nWe may be trying to'"
      ]
     },
     "execution_count": 23,
     "metadata": {},
     "output_type": "execute_result"
    },
    {
     "data": {
      "text/plain": [
       "' let\\na guilty man go free.1504\\n01:21:01,774 --> '"
      ]
     },
     "execution_count": 23,
     "metadata": {},
     "output_type": "execute_result"
    },
    {
     "data": {
      "text/plain": [
       "\"01:21:03,233\\nI don't know.1505\\n01:21:03,317 --> \""
      ]
     },
     "execution_count": 23,
     "metadata": {},
     "output_type": "execute_result"
    },
    {
     "data": {
      "text/plain": [
       "'01:21:05,318\\nNobody really can.1506\\n01:21:05,402'"
      ]
     },
     "execution_count": 23,
     "metadata": {},
     "output_type": "execute_result"
    },
    {
     "data": {
      "text/plain": [
       "' --> 01:21:07,779\\nBut we have a reasonable doubt..'"
      ]
     },
     "execution_count": 23,
     "metadata": {},
     "output_type": "execute_result"
    },
    {
     "data": {
      "text/plain": [
       "\".1507\\n01:21:07,863 --> 01:21:11,366\\nand that's s\""
      ]
     },
     "execution_count": 23,
     "metadata": {},
     "output_type": "execute_result"
    },
    {
     "data": {
      "text/plain": [
       "\"omething\\nthat's very valuable in our system.1508\""
      ]
     },
     "execution_count": 23,
     "metadata": {},
     "output_type": "execute_result"
    },
    {
     "data": {
      "text/plain": [
       "'\\n01:21:11,450 --> 01:21:15,995\\nNo jury can declare'"
      ]
     },
     "execution_count": 23,
     "metadata": {},
     "output_type": "execute_result"
    },
    {
     "data": {
      "text/plain": [
       "\" a man guilty\\nunless it's sure.1509\\n01:21:17,456\""
      ]
     },
     "execution_count": 23,
     "metadata": {},
     "output_type": "execute_result"
    },
    {
     "data": {
      "text/plain": [
       "\" --> 01:21:19,832\\nWe nine can't understand...151\""
      ]
     },
     "execution_count": 23,
     "metadata": {},
     "output_type": "execute_result"
    },
    {
     "data": {
      "text/plain": [
       "'0\\n01:21:19,917 --> 01:21:22,627\\nhow you three are '"
      ]
     },
     "execution_count": 23,
     "metadata": {},
     "output_type": "execute_result"
    },
    {
     "data": {
      "text/plain": [
       "'still so sure.1511\\n01:21:23,462 --> 01:21:25,463'"
      ]
     },
     "execution_count": 23,
     "metadata": {},
     "output_type": "execute_result"
    },
    {
     "data": {
      "text/plain": [
       "\"\\n- Maybe you can tell us.\\n- I'll try.1512\\n01:21:\""
      ]
     },
     "execution_count": 23,
     "metadata": {},
     "output_type": "execute_result"
    },
    {
     "data": {
      "text/plain": [
       "\"26,840 --> 01:21:30,343\\nYou've made some excellent\""
      ]
     },
     "execution_count": 23,
     "metadata": {},
     "output_type": "execute_result"
    },
    {
     "data": {
      "text/plain": [
       "' points, but I\\nstill believe the boy is guilty of '"
      ]
     },
     "execution_count": 23,
     "metadata": {},
     "output_type": "execute_result"
    },
    {
     "data": {
      "text/plain": [
       "'murder...1513\\n01:21:30,427 --> 01:21:32,136\\nand '"
      ]
     },
     "execution_count": 23,
     "metadata": {},
     "output_type": "execute_result"
    },
    {
     "data": {
      "text/plain": [
       "'I have two reasons.1514\\n01:21:32,221 --> 01:21:3'"
      ]
     },
     "execution_count": 23,
     "metadata": {},
     "output_type": "execute_result"
    },
    {
     "data": {
      "text/plain": [
       "'5,348\\nOne, the evidence\\ngiven by the woman across '"
      ]
     },
     "execution_count": 23,
     "metadata": {},
     "output_type": "execute_result"
    },
    {
     "data": {
      "text/plain": [
       "'the street...1515\\n01:21:35,432 --> 01:21:38,059\\n'"
      ]
     },
     "execution_count": 23,
     "metadata": {},
     "output_type": "execute_result"
    },
    {
     "data": {
      "text/plain": [
       "'who actually saw the murder committed.1516\\n01:21'"
      ]
     },
     "execution_count": 23,
     "metadata": {},
     "output_type": "execute_result"
    },
    {
     "data": {
      "text/plain": [
       "\":38,143 --> 01:21:40,728\\nAs far as I'm concerned,\\n\""
      ]
     },
     "execution_count": 23,
     "metadata": {},
     "output_type": "execute_result"
    },
    {
     "data": {
      "text/plain": [
       "\"that's the most important testimony.1517\\n01:21:4\""
      ]
     },
     "execution_count": 23,
     "metadata": {},
     "output_type": "execute_result"
    },
    {
     "data": {
      "text/plain": [
       "'0,813 --> 01:21:44,065\\nAnd two, the fact that she\\n'"
      ]
     },
     "execution_count": 23,
     "metadata": {},
     "output_type": "execute_result"
    },
    {
     "data": {
      "text/plain": [
       "'described the stabbing by saying...1518\\n01:21:44'"
      ]
     },
     "execution_count": 23,
     "metadata": {},
     "output_type": "execute_result"
    },
    {
     "data": {
      "text/plain": [
       "',149 --> 01:21:49,779\\nshe saw the boy raise his ar'"
      ]
     },
     "execution_count": 23,
     "metadata": {},
     "output_type": "execute_result"
    },
    {
     "data": {
      "text/plain": [
       "\"m over his head\\nand stab down into the father's ch\""
      ]
     },
     "execution_count": 23,
     "metadata": {},
     "output_type": "execute_result"
    },
    {
     "data": {
      "text/plain": [
       "'est.1519\\n01:21:49,863 --> 01:21:51,906\\nShe saw h'"
      ]
     },
     "execution_count": 23,
     "metadata": {},
     "output_type": "execute_result"
    },
    {
     "data": {
      "text/plain": [
       "'im do it the wrong way.1520\\n01:21:51,991 --> 01:'"
      ]
     },
     "execution_count": 23,
     "metadata": {},
     "output_type": "execute_result"
    },
    {
     "data": {
      "text/plain": [
       "\"21:53,908\\nThat's absolutely right.1521\\n01:21:53,\""
      ]
     },
     "execution_count": 23,
     "metadata": {},
     "output_type": "execute_result"
    },
    {
     "data": {
      "text/plain": [
       "\"993 --> 01:21:56,578\\nLet's talk about this woman f\""
      ]
     },
     "execution_count": 23,
     "metadata": {},
     "output_type": "execute_result"
    },
    {
     "data": {
      "text/plain": [
       "'or a moment.1522\\n01:21:56,662 --> 01:21:59,747\\nS'"
      ]
     },
     "execution_count": 23,
     "metadata": {},
     "output_type": "execute_result"
    },
    {
     "data": {
      "text/plain": [
       "'he said she went to bed\\nabout 11:00 that night.1'"
      ]
     },
     "execution_count": 23,
     "metadata": {},
     "output_type": "execute_result"
    },
    {
     "data": {
      "text/plain": [
       "'523\\n01:21:59,832 --> 01:22:03,418\\nHer bed was next'"
      ]
     },
     "execution_count": 23,
     "metadata": {},
     "output_type": "execute_result"
    },
    {
     "data": {
      "text/plain": [
       "' to the window,\\nand she could look out while lying'"
      ]
     },
     "execution_count": 23,
     "metadata": {},
     "output_type": "execute_result"
    },
    {
     "data": {
      "text/plain": [
       "' down...1524\\n01:22:03,502 --> 01:22:07,589\\nand s'"
      ]
     },
     "execution_count": 23,
     "metadata": {},
     "output_type": "execute_result"
    },
    {
     "data": {
      "text/plain": [
       "\"ee directly into the boy's room\\nacross the street.\""
      ]
     },
     "execution_count": 23,
     "metadata": {},
     "output_type": "execute_result"
    },
    {
     "data": {
      "text/plain": [
       "'1525\\n01:22:07,673 --> 01:22:10,300\\nShe tossed an'"
      ]
     },
     "execution_count": 23,
     "metadata": {},
     "output_type": "execute_result"
    },
    {
     "data": {
      "text/plain": [
       "'d turned for over an hour,\\nunable to sleep.1526\\n'"
      ]
     },
     "execution_count": 23,
     "metadata": {},
     "output_type": "execute_result"
    },
    {
     "data": {
      "text/plain": [
       "'01:22:10,384 --> 01:22:14,554\\nFinally, she turned '"
      ]
     },
     "execution_count": 23,
     "metadata": {},
     "output_type": "execute_result"
    },
    {
     "data": {
      "text/plain": [
       "'toward the window\\nat about 10 minutes after 12:00.'"
      ]
     },
     "execution_count": 23,
     "metadata": {},
     "output_type": "execute_result"
    },
    {
     "data": {
      "text/plain": [
       "'..1527\\n01:22:14,638 --> 01:22:19,767\\nand, as she'"
      ]
     },
     "execution_count": 23,
     "metadata": {},
     "output_type": "execute_result"
    },
    {
     "data": {
      "text/plain": [
       "' looked out, she saw the killing\\nthrough the windo'"
      ]
     },
     "execution_count": 23,
     "metadata": {},
     "output_type": "execute_result"
    },
    {
     "data": {
      "text/plain": [
       "'ws of a passing el train.1528\\n01:22:19,852 --> 0'"
      ]
     },
     "execution_count": 23,
     "metadata": {},
     "output_type": "execute_result"
    },
    {
     "data": {
      "text/plain": [
       "'1:22:22,562\\nShe said the lights went out\\nimmediate'"
      ]
     },
     "execution_count": 23,
     "metadata": {},
     "output_type": "execute_result"
    },
    {
     "data": {
      "text/plain": [
       "'ly after the killing...1529\\n01:22:22,646 --> 01:'"
      ]
     },
     "execution_count": 23,
     "metadata": {},
     "output_type": "execute_result"
    },
    {
     "data": {
      "text/plain": [
       "'22:27,442\\nbut that she got a good look at the boy\\n'"
      ]
     },
     "execution_count": 23,
     "metadata": {},
     "output_type": "execute_result"
    },
    {
     "data": {
      "text/plain": [
       "'in the act of stabbing his father.1530\\n01:22:28,'"
      ]
     },
     "execution_count": 23,
     "metadata": {},
     "output_type": "execute_result"
    },
    {
     "data": {
      "text/plain": [
       "'444 --> 01:22:32,280\\nAs far as I can see it,\\nthis '"
      ]
     },
     "execution_count": 23,
     "metadata": {},
     "output_type": "execute_result"
    },
    {
     "data": {
      "text/plain": [
       "'is unshakable testimony.1531\\n01:22:33,032 --> 01'"
      ]
     },
     "execution_count": 23,
     "metadata": {},
     "output_type": "execute_result"
    },
    {
     "data": {
      "text/plain": [
       "\":22:35,700\\n- Well, that's the whole case.\\n- What d\""
      ]
     },
     "execution_count": 23,
     "metadata": {},
     "output_type": "execute_result"
    },
    {
     "data": {
      "text/plain": [
       "'o you think?1532\\n01:22:41,081 --> 01:22:42,749\\nH'"
      ]
     },
     "execution_count": 23,
     "metadata": {},
     "output_type": "execute_result"
    },
    {
     "data": {
      "text/plain": [
       "'ow about you?1533\\n01:22:44,376 --> 01:22:46,836\\n'"
      ]
     },
     "execution_count": 23,
     "metadata": {},
     "output_type": "execute_result"
    },
    {
     "data": {
      "text/plain": [
       "\"I-I don't know.1534\\n01:22:46,920 --> 01:22:48,92\""
      ]
     },
     "execution_count": 23,
     "metadata": {},
     "output_type": "execute_result"
    },
    {
     "data": {
      "text/plain": [
       "'1\\nSo much evidence to sift.1535\\n01:22:49,006 -->'"
      ]
     },
     "execution_count": 23,
     "metadata": {},
     "output_type": "execute_result"
    },
    {
     "data": {
      "text/plain": [
       "' 01:22:50,965\\nThis is a pretty complicated busines'"
      ]
     },
     "execution_count": 23,
     "metadata": {},
     "output_type": "execute_result"
    },
    {
     "data": {
      "text/plain": [
       "'s.1536\\n01:22:51,050 --> 01:22:54,844\\nFrankly, I '"
      ]
     },
     "execution_count": 23,
     "metadata": {},
     "output_type": "execute_result"
    },
    {
     "data": {
      "text/plain": [
       "\"don't see\\nhow you can vote for acquittal.1537\\n01\""
      ]
     },
     "execution_count": 23,
     "metadata": {},
     "output_type": "execute_result"
    },
    {
     "data": {
      "text/plain": [
       "\":22:54,928 --> 01:22:57,263\\nIt's not so easy to ar\""
      ]
     },
     "execution_count": 23,
     "metadata": {},
     "output_type": "execute_result"
    },
    {
     "data": {
      "text/plain": [
       "'range\\nall the evidence in order.1538\\n01:22:57,34'"
      ]
     },
     "execution_count": 23,
     "metadata": {},
     "output_type": "execute_result"
    },
    {
     "data": {
      "text/plain": [
       "'8 --> 01:22:59,390\\nYou can throw out\\nall the other'"
      ]
     },
     "execution_count": 23,
     "metadata": {},
     "output_type": "execute_result"
    },
    {
     "data": {
      "text/plain": [
       "' evidence!1539\\n01:22:59,475 --> 01:23:03,061\\nThe'"
      ]
     },
     "execution_count": 23,
     "metadata": {},
     "output_type": "execute_result"
    },
    {
     "data": {
      "text/plain": [
       "' woman saw him do it!\\nWhat else do you want?1540'"
      ]
     },
     "execution_count": 23,
     "metadata": {},
     "output_type": "execute_result"
    },
    {
     "data": {
      "text/plain": [
       "'\\n01:23:03,145 --> 01:23:05,021\\n- Yeah, well, maybe'"
      ]
     },
     "execution_count": 23,
     "metadata": {},
     "output_type": "execute_result"
    },
    {
     "data": {
      "text/plain": [
       "\" -\\n- Let's vote on it.1541\\n01:23:05,105 --> 01:2\""
      ]
     },
     "execution_count": 23,
     "metadata": {},
     "output_type": "execute_result"
    },
    {
     "data": {
      "text/plain": [
       "\"3:07,273\\nOkay. There's another vote called for.1\""
      ]
     },
     "execution_count": 23,
     "metadata": {},
     "output_type": "execute_result"
    },
    {
     "data": {
      "text/plain": [
       "'542\\n01:23:07,358 --> 01:23:09,192\\nAnybody object?\\n'"
      ]
     },
     "execution_count": 23,
     "metadata": {},
     "output_type": "execute_result"
    },
    {
     "data": {
      "text/plain": [
       "\"\\n1543\\n01:23:09,276 --> 01:23:12,320\\nAll right. I'm\""
      ]
     },
     "execution_count": 23,
     "metadata": {},
     "output_type": "execute_result"
    },
    {
     "data": {
      "text/plain": [
       "\" changing my vote.\\nHe's guilty.1544\\n01:23:12,404\""
      ]
     },
     "execution_count": 23,
     "metadata": {},
     "output_type": "execute_result"
    },
    {
     "data": {
      "text/plain": [
       "' --> 01:23:14,822\\nAnybody else?\\nThe vote is eight '"
      ]
     },
     "execution_count": 23,
     "metadata": {},
     "output_type": "execute_result"
    },
    {
     "data": {
      "text/plain": [
       "'to four.1545\\n01:23:14,907 --> 01:23:18,493\\nWhy i'"
      ]
     },
     "execution_count": 23,
     "metadata": {},
     "output_type": "execute_result"
    },
    {
     "data": {
      "text/plain": [
       "'s this such a personal triumph\\nfor you - this one '"
      ]
     },
     "execution_count": 23,
     "metadata": {},
     "output_type": "execute_result"
    },
    {
     "data": {
      "text/plain": [
       "'vote?1546\\n01:23:18,577 --> 01:23:22,038\\nOkay. I '"
      ]
     },
     "execution_count": 23,
     "metadata": {},
     "output_type": "execute_result"
    },
    {
     "data": {
      "text/plain": [
       "\"say we're a hung jury.\\nI say we take it in to the \""
      ]
     },
     "execution_count": 23,
     "metadata": {},
     "output_type": "execute_result"
    },
    {
     "data": {
      "text/plain": [
       "'judge.1547\\n01:23:22,122 --> 01:23:24,832\\nΗow abo'"
      ]
     },
     "execution_count": 23,
     "metadata": {},
     "output_type": "execute_result"
    },
    {
     "data": {
      "text/plain": [
       "'ut it?\\nI want to hear arguments.1548\\n01:23:24,91'"
      ]
     },
     "execution_count": 23,
     "metadata": {},
     "output_type": "execute_result"
    },
    {
     "data": {
      "text/plain": [
       "\"7 --> 01:23:27,418\\nYou, you're the leader of the c\""
      ]
     },
     "execution_count": 23,
     "metadata": {},
     "output_type": "execute_result"
    },
    {
     "data": {
      "text/plain": [
       "'ause.\\nWhat about it?1549\\n01:23:29,672 --> 01:23:'"
      ]
     },
     "execution_count": 23,
     "metadata": {},
     "output_type": "execute_result"
    },
    {
     "data": {
      "text/plain": [
       "\"31,506\\nLet's go over it again.1550\\n01:23:31,590 \""
      ]
     },
     "execution_count": 23,
     "metadata": {},
     "output_type": "execute_result"
    },
    {
     "data": {
      "text/plain": [
       "\"--> 01:23:33,508\\nWe've been over it again!1551\\n0\""
      ]
     },
     "execution_count": 23,
     "metadata": {},
     "output_type": "execute_result"
    },
    {
     "data": {
      "text/plain": [
       "'1:23:33,592 --> 01:23:38,388\\nThe boy in the gray f'"
      ]
     },
     "execution_count": 23,
     "metadata": {},
     "output_type": "execute_result"
    },
    {
     "data": {
      "text/plain": [
       "\"lannel suit here is bouncin'\\nbackwards and forward\""
      ]
     },
     "execution_count": 23,
     "metadata": {},
     "output_type": "execute_result"
    },
    {
     "data": {
      "text/plain": [
       "'s like a tennis ball.1552\\n01:23:38,472 --> 01:23'"
      ]
     },
     "execution_count": 23,
     "metadata": {},
     "output_type": "execute_result"
    },
    {
     "data": {
      "text/plain": [
       "':42,308\\nNo point in getting nasty\\nand trying to tu'"
      ]
     },
     "execution_count": 23,
     "metadata": {},
     "output_type": "execute_result"
    },
    {
     "data": {
      "text/plain": [
       "'rn this into a contest.1553\\n01:23:44,269 --> 01:'"
      ]
     },
     "execution_count": 23,
     "metadata": {},
     "output_type": "execute_result"
    },
    {
     "data": {
      "text/plain": [
       "'23:45,728\\nOkay.1554\\n01:23:45,813 --> 01:23:48,85'"
      ]
     },
     "execution_count": 23,
     "metadata": {},
     "output_type": "execute_result"
    },
    {
     "data": {
      "text/plain": [
       "'6\\nMaybe we can talk about\\nsetting some kind of tim'"
      ]
     },
     "execution_count": 23,
     "metadata": {},
     "output_type": "execute_result"
    },
    {
     "data": {
      "text/plain": [
       "'e limit.1555\\n01:23:48,941 --> 01:23:51,067\\nYeah,'"
      ]
     },
     "execution_count": 23,
     "metadata": {},
     "output_type": "execute_result"
    },
    {
     "data": {
      "text/plain": [
       "' once around for the deal, huh?1556\\n01:23:51,777'"
      ]
     },
     "execution_count": 23,
     "metadata": {},
     "output_type": "execute_result"
    },
    {
     "data": {
      "text/plain": [
       "\" --> 01:23:55,530\\nIt's a quarter after 6:00.1557\""
      ]
     },
     "execution_count": 23,
     "metadata": {},
     "output_type": "execute_result"
    },
    {
     "data": {
      "text/plain": [
       "'\\n01:23:55,614 --> 01:23:57,573\\nSomeone before ment'"
      ]
     },
     "execution_count": 23,
     "metadata": {},
     "output_type": "execute_result"
    },
    {
     "data": {
      "text/plain": [
       "'ioned 7:00.1558\\n01:23:57,658 --> 01:24:00,034\\nI '"
      ]
     },
     "execution_count": 23,
     "metadata": {},
     "output_type": "execute_result"
    },
    {
     "data": {
      "text/plain": [
       "\"think that's a point at which\\nwe might begin to di\""
      ]
     },
     "execution_count": 23,
     "metadata": {},
     "output_type": "execute_result"
    },
    {
     "data": {
      "text/plain": [
       "'scuss...1559\\n01:24:00,119 --> 01:24:03,371\\nthe q'"
      ]
     },
     "execution_count": 23,
     "metadata": {},
     "output_type": "execute_result"
    },
    {
     "data": {
      "text/plain": [
       "\"uestion of whether\\nwe're a hung jury or not.1560\""
      ]
     },
     "execution_count": 23,
     "metadata": {},
     "output_type": "execute_result"
    },
    {
     "data": {
      "text/plain": [
       "\"\\n01:24:03,455 --> 01:24:05,123\\nDon't you feel well\""
      ]
     },
     "execution_count": 23,
     "metadata": {},
     "output_type": "execute_result"
    },
    {
     "data": {
      "text/plain": [
       "'?1561\\n01:24:06,458 --> 01:24:08,418\\nI feel perfe'"
      ]
     },
     "execution_count": 23,
     "metadata": {},
     "output_type": "execute_result"
    },
    {
     "data": {
      "text/plain": [
       "'ctly well, thank you.1562\\n01:24:08,502 --> 01:24'"
      ]
     },
     "execution_count": 23,
     "metadata": {},
     "output_type": "execute_result"
    },
    {
     "data": {
      "text/plain": [
       "':11,212\\nI was saying that 7:00\\nwould be a reasonab'"
      ]
     },
     "execution_count": 23,
     "metadata": {},
     "output_type": "execute_result"
    },
    {
     "data": {
      "text/plain": [
       "'le time.1563\\n01:24:11,296 --> 01:24:14,215\\nUh, t'"
      ]
     },
     "execution_count": 23,
     "metadata": {},
     "output_type": "execute_result"
    },
    {
     "data": {
      "text/plain": [
       "'he reason I asked about that\\nwas because, uh...1'"
      ]
     },
     "execution_count": 23,
     "metadata": {},
     "output_type": "execute_result"
    },
    {
     "data": {
      "text/plain": [
       "'564\\n01:24:14,299 --> 01:24:15,883\\nyou were rubbing'"
      ]
     },
     "execution_count": 23,
     "metadata": {},
     "output_type": "execute_result"
    },
    {
     "data": {
      "text/plain": [
       "' your nose like...1565\\n01:24:15,968 --> 01:24:18'"
      ]
     },
     "execution_count": 23,
     "metadata": {},
     "output_type": "execute_result"
    },
    {
     "data": {
      "text/plain": [
       "\",636\\nOh, I'm sorry for interrupting...1566\\n01:24\""
      ]
     },
     "execution_count": 23,
     "metadata": {},
     "output_type": "execute_result"
    },
    {
     "data": {
      "text/plain": [
       "':18,721 --> 01:24:21,931\\nbut you made a gesture\\nth'"
      ]
     },
     "execution_count": 23,
     "metadata": {},
     "output_type": "execute_result"
    },
    {
     "data": {
      "text/plain": [
       "'at reminded me of something.1567\\n01:24:22,015 --'"
      ]
     },
     "execution_count": 23,
     "metadata": {},
     "output_type": "execute_result"
    },
    {
     "data": {
      "text/plain": [
       "\"> 01:24:24,058\\nI'm trying to settle something here\""
      ]
     },
     "execution_count": 23,
     "metadata": {},
     "output_type": "execute_result"
    },
    {
     "data": {
      "text/plain": [
       "'.\\nDo you mind?1568\\n01:24:24,143 --> 01:24:26,144'"
      ]
     },
     "execution_count": 23,
     "metadata": {},
     "output_type": "execute_result"
    },
    {
     "data": {
      "text/plain": [
       "'\\nWell, I think this is important.1569\\n01:24:27,2'"
      ]
     },
     "execution_count": 23,
     "metadata": {},
     "output_type": "execute_result"
    },
    {
     "data": {
      "text/plain": [
       "'29 --> 01:24:29,021\\nThank you.1570\\n01:24:29,106 '"
      ]
     },
     "execution_count": 23,
     "metadata": {},
     "output_type": "execute_result"
    },
    {
     "data": {
      "text/plain": [
       "\"--> 01:24:31,733\\nNow then,\\nI'm sure you'll pardon \""
      ]
     },
     "execution_count": 23,
     "metadata": {},
     "output_type": "execute_result"
    },
    {
     "data": {
      "text/plain": [
       "'me for this...1571\\n01:24:31,817 --> 01:24:34,736'"
      ]
     },
     "execution_count": 23,
     "metadata": {},
     "output_type": "execute_result"
    },
    {
     "data": {
      "text/plain": [
       "'\\nbut I was wondering why\\nyou were rubbing your nos'"
      ]
     },
     "execution_count": 23,
     "metadata": {},
     "output_type": "execute_result"
    },
    {
     "data": {
      "text/plain": [
       "'e like that.1572\\n01:24:34,820 --> 01:24:36,487\\nO'"
      ]
     },
     "execution_count": 23,
     "metadata": {},
     "output_type": "execute_result"
    },
    {
     "data": {
      "text/plain": [
       "'h, come on, will ya?1573\\n01:24:36,572 --> 01:24:'"
      ]
     },
     "execution_count": 23,
     "metadata": {},
     "output_type": "execute_result"
    },
    {
     "data": {
      "text/plain": [
       "'40,742\\nAt this point, I happen to be talking\\nto th'"
      ]
     },
     "execution_count": 23,
     "metadata": {},
     "output_type": "execute_result"
    },
    {
     "data": {
      "text/plain": [
       "'e gentleman sitting next to you!1574\\n01:24:40,82'"
      ]
     },
     "execution_count": 23,
     "metadata": {},
     "output_type": "execute_result"
    },
    {
     "data": {
      "text/plain": [
       "'6 --> 01:24:44,078\\nNow, why were you rubbing\\nyour '"
      ]
     },
     "execution_count": 23,
     "metadata": {},
     "output_type": "execute_result"
    },
    {
     "data": {
      "text/plain": [
       "'nose like that?1575\\n01:24:44,163 --> 01:24:48,24'"
      ]
     },
     "execution_count": 23,
     "metadata": {},
     "output_type": "execute_result"
    },
    {
     "data": {
      "text/plain": [
       "\"9\\nWell, if it's any of your business, I was\\nrubbin\""
      ]
     },
     "execution_count": 23,
     "metadata": {},
     "output_type": "execute_result"
    },
    {
     "data": {
      "text/plain": [
       "'g it because it bothers me a little.1576\\n01:24:4'"
      ]
     },
     "execution_count": 23,
     "metadata": {},
     "output_type": "execute_result"
    },
    {
     "data": {
      "text/plain": [
       "\"8,333 --> 01:24:49,959\\nOh. I'm sorry.1577\\n01:24:\""
      ]
     },
     "execution_count": 23,
     "metadata": {},
     "output_type": "execute_result"
    },
    {
     "data": {
      "text/plain": [
       "'50,043 --> 01:24:53,921\\n- Is it - Is it because of'"
      ]
     },
     "execution_count": 23,
     "metadata": {},
     "output_type": "execute_result"
    },
    {
     "data": {
      "text/plain": [
       "' your eyeglasses?\\n- It is.1578\\n01:24:54,006 --> '"
      ]
     },
     "execution_count": 23,
     "metadata": {},
     "output_type": "execute_result"
    },
    {
     "data": {
      "text/plain": [
       "'01:24:55,757\\nNow can we get on to something else?\\n'"
      ]
     },
     "execution_count": 23,
     "metadata": {},
     "output_type": "execute_result"
    },
    {
     "data": {
      "text/plain": [
       "'\\n1579\\n01:24:55,841 --> 01:25:00,428\\nYour eyeglasse'"
      ]
     },
     "execution_count": 23,
     "metadata": {},
     "output_type": "execute_result"
    },
    {
     "data": {
      "text/plain": [
       "'s made those two\\ndeep impressions on the sides of '"
      ]
     },
     "execution_count": 23,
     "metadata": {},
     "output_type": "execute_result"
    },
    {
     "data": {
      "text/plain": [
       "'your nose.1580\\n01:25:00,512 --> 01:25:02,680\\nI h'"
      ]
     },
     "execution_count": 23,
     "metadata": {},
     "output_type": "execute_result"
    },
    {
     "data": {
      "text/plain": [
       "\"adn't noticed that before.1581\\n01:25:02,765 --> \""
      ]
     },
     "execution_count": 23,
     "metadata": {},
     "output_type": "execute_result"
    },
    {
     "data": {
      "text/plain": [
       "'01:25:06,267\\n- That must be annoying.\\n- It is very'"
      ]
     },
     "execution_count": 23,
     "metadata": {},
     "output_type": "execute_result"
    },
    {
     "data": {
      "text/plain": [
       "' annoying.1582\\n01:25:06,351 --> 01:25:08,269\\nWel'"
      ]
     },
     "execution_count": 23,
     "metadata": {},
     "output_type": "execute_result"
    },
    {
     "data": {
      "text/plain": [
       "\"l, I wouldn't know about that.1583\\n01:25:08,353 \""
      ]
     },
     "execution_count": 23,
     "metadata": {},
     "output_type": "execute_result"
    },
    {
     "data": {
      "text/plain": [
       "\"--> 01:25:11,689\\nI've never worn eyeglasses.\\nTwent\""
      ]
     },
     "execution_count": 23,
     "metadata": {},
     "output_type": "execute_result"
    },
    {
     "data": {
      "text/plain": [
       "'y-twenty.1584\\n01:25:11,774 --> 01:25:14,317\\nList'"
      ]
     },
     "execution_count": 23,
     "metadata": {},
     "output_type": "execute_result"
    },
    {
     "data": {
      "text/plain": [
       "'en, will you come on already\\nwith the optometrist '"
      ]
     },
     "execution_count": 23,
     "metadata": {},
     "output_type": "execute_result"
    },
    {
     "data": {
      "text/plain": [
       "'bit?1585\\n01:25:16,236 --> 01:25:19,781\\nThe woman'"
      ]
     },
     "execution_count": 23,
     "metadata": {},
     "output_type": "execute_result"
    },
    {
     "data": {
      "text/plain": [
       "' who testified\\nthat she saw the killing...1586\\n0'"
      ]
     },
     "execution_count": 23,
     "metadata": {},
     "output_type": "execute_result"
    },
    {
     "data": {
      "text/plain": [
       "'1:25:19,865 --> 01:25:23,409\\nhad those same marks\\n'"
      ]
     },
     "execution_count": 23,
     "metadata": {},
     "output_type": "execute_result"
    },
    {
     "data": {
      "text/plain": [
       "'on the sides of her nose.1587\\n01:25:24,411 --> 0'"
      ]
     },
     "execution_count": 23,
     "metadata": {},
     "output_type": "execute_result"
    },
    {
     "data": {
      "text/plain": [
       "\"1:25:26,621\\nHoly smokes! You know, he's right.15\""
      ]
     },
     "execution_count": 23,
     "metadata": {},
     "output_type": "execute_result"
    },
    {
     "data": {
      "text/plain": [
       "'88\\n01:25:26,705 --> 01:25:28,372\\nPlease.1589\\n01:'"
      ]
     },
     "execution_count": 23,
     "metadata": {},
     "output_type": "execute_result"
    },
    {
     "data": {
      "text/plain": [
       "'25:28,457 --> 01:25:32,210\\nJust give me a minute,\\n'"
      ]
     },
     "execution_count": 23,
     "metadata": {},
     "output_type": "execute_result"
    },
    {
     "data": {
      "text/plain": [
       "\"and I'll be finished.1590\\n01:25:32,294 --> 01:25\""
      ]
     },
     "execution_count": 23,
     "metadata": {},
     "output_type": "execute_result"
    },
    {
     "data": {
      "text/plain": [
       "\":35,129\\nI don't know if anyone else\\nnoticed that a\""
      ]
     },
     "execution_count": 23,
     "metadata": {},
     "output_type": "execute_result"
    },
    {
     "data": {
      "text/plain": [
       "'bout her.1591\\n01:25:35,214 --> 01:25:39,091\\nI di'"
      ]
     },
     "execution_count": 23,
     "metadata": {},
     "output_type": "execute_result"
    },
    {
     "data": {
      "text/plain": [
       "\"dn't think of it then,\\nbut I've been going over he\""
      ]
     },
     "execution_count": 23,
     "metadata": {},
     "output_type": "execute_result"
    },
    {
     "data": {
      "text/plain": [
       "'r face...1592\\n01:25:40,135 --> 01:25:42,261\\nin m'"
      ]
     },
     "execution_count": 23,
     "metadata": {},
     "output_type": "execute_result"
    },
    {
     "data": {
      "text/plain": [
       "'y mind.1593\\n01:25:42,346 --> 01:25:44,347\\nShe ha'"
      ]
     },
     "execution_count": 23,
     "metadata": {},
     "output_type": "execute_result"
    },
    {
     "data": {
      "text/plain": [
       "'d those same marks.1594\\n01:25:45,349 --> 01:25:4'"
      ]
     },
     "execution_count": 23,
     "metadata": {},
     "output_type": "execute_result"
    },
    {
     "data": {
      "text/plain": [
       "\"9,519\\n- She kept rubbing them in court.\\n- He's rig\""
      ]
     },
     "execution_count": 23,
     "metadata": {},
     "output_type": "execute_result"
    },
    {
     "data": {
      "text/plain": [
       "'ht. She did do that a lot.1595\\n01:25:50,562 --> '"
      ]
     },
     "execution_count": 23,
     "metadata": {},
     "output_type": "execute_result"
    },
    {
     "data": {
      "text/plain": [
       "'01:25:55,233\\nThis woman was about, uh -\\nabout 45 y'"
      ]
     },
     "execution_count": 23,
     "metadata": {},
     "output_type": "execute_result"
    },
    {
     "data": {
      "text/plain": [
       "'ears old.1596\\n01:25:55,317 --> 01:25:59,278\\nShe '"
      ]
     },
     "execution_count": 23,
     "metadata": {},
     "output_type": "execute_result"
    },
    {
     "data": {
      "text/plain": [
       "'was making a tremendous effort\\nto look 35...1597'"
      ]
     },
     "execution_count": 23,
     "metadata": {},
     "output_type": "execute_result"
    },
    {
     "data": {
      "text/plain": [
       "'\\n01:25:59,363 --> 01:26:01,572\\nfor her first publi'"
      ]
     },
     "execution_count": 23,
     "metadata": {},
     "output_type": "execute_result"
    },
    {
     "data": {
      "text/plain": [
       "'c appearance.1598\\n01:26:01,657 --> 01:26:04,909\\n'"
      ]
     },
     "execution_count": 23,
     "metadata": {},
     "output_type": "execute_result"
    },
    {
     "data": {
      "text/plain": [
       "'Heavy makeup, dyed hair...1599\\n01:26:04,993 --> '"
      ]
     },
     "execution_count": 23,
     "metadata": {},
     "output_type": "execute_result"
    },
    {
     "data": {
      "text/plain": [
       "'01:26:08,871\\nbrand-new clothes that should have\\nbe'"
      ]
     },
     "execution_count": 23,
     "metadata": {},
     "output_type": "execute_result"
    },
    {
     "data": {
      "text/plain": [
       "'en worn by a younger woman.1600\\n01:26:08,956 -->'"
      ]
     },
     "execution_count": 23,
     "metadata": {},
     "output_type": "execute_result"
    },
    {
     "data": {
      "text/plain": [
       "' 01:26:10,623\\nNo glasses.1601\\n01:26:10,707 --> 0'"
      ]
     },
     "execution_count": 23,
     "metadata": {},
     "output_type": "execute_result"
    },
    {
     "data": {
      "text/plain": [
       "'1:26:12,375\\nNo, women do that.1602\\n01:26:12,459 '"
      ]
     },
     "execution_count": 23,
     "metadata": {},
     "output_type": "execute_result"
    },
    {
     "data": {
      "text/plain": [
       "'--> 01:26:14,877\\nSee if you can get the\\nmental pic'"
      ]
     },
     "execution_count": 23,
     "metadata": {},
     "output_type": "execute_result"
    },
    {
     "data": {
      "text/plain": [
       "'ture of it.1603\\n01:26:14,962 --> 01:26:16,796\\nWh'"
      ]
     },
     "execution_count": 23,
     "metadata": {},
     "output_type": "execute_result"
    },
    {
     "data": {
      "text/plain": [
       "'at do you mean, no glasses?1604\\n01:26:16,880 -->'"
      ]
     },
     "execution_count": 23,
     "metadata": {},
     "output_type": "execute_result"
    },
    {
     "data": {
      "text/plain": [
       "' 01:26:19,590\\nHow do you know whether she wore gla'"
      ]
     },
     "execution_count": 23,
     "metadata": {},
     "output_type": "execute_result"
    },
    {
     "data": {
      "text/plain": [
       "\"sses?\\nJust 'cause she was rubbing her nose?1605\\n\""
      ]
     },
     "execution_count": 23,
     "metadata": {},
     "output_type": "execute_result"
    },
    {
     "data": {
      "text/plain": [
       "'01:26:19,675 --> 01:26:21,884\\nNow, she had those m'"
      ]
     },
     "execution_count": 23,
     "metadata": {},
     "output_type": "execute_result"
    },
    {
     "data": {
      "text/plain": [
       "\"arks. I saw 'em.1606\\n01:26:21,969 --> 01:26:23,8\""
      ]
     },
     "execution_count": 23,
     "metadata": {},
     "output_type": "execute_result"
    },
    {
     "data": {
      "text/plain": [
       "'86\\nSo what?\\nWhat do ya think that means?1607\\n01:'"
      ]
     },
     "execution_count": 23,
     "metadata": {},
     "output_type": "execute_result"
    },
    {
     "data": {
      "text/plain": [
       "\"26:23,971 --> 01:26:27,181\\n- Listen, I'm getting s\""
      ]
     },
     "execution_count": 23,
     "metadata": {},
     "output_type": "execute_result"
    },
    {
     "data": {
      "text/plain": [
       "'o sick of your yelling in here!\\n- Come on. Forget '"
      ]
     },
     "execution_count": 23,
     "metadata": {},
     "output_type": "execute_result"
    },
    {
     "data": {
      "text/plain": [
       "'it.1608\\n01:26:27,266 --> 01:26:30,268\\nHey, liste'"
      ]
     },
     "execution_count": 23,
     "metadata": {},
     "output_type": "execute_result"
    },
    {
     "data": {
      "text/plain": [
       "\"n. Listen, he's right.\\nI saw them too.1609\\n01:26\""
      ]
     },
     "execution_count": 23,
     "metadata": {},
     "output_type": "execute_result"
    },
    {
     "data": {
      "text/plain": [
       "':30,352 --> 01:26:33,479\\nI was the closest one to '"
      ]
     },
     "execution_count": 23,
     "metadata": {},
     "output_type": "execute_result"
    },
    {
     "data": {
      "text/plain": [
       "'her. She had these,\\nuh - these things on the side '"
      ]
     },
     "execution_count": 23,
     "metadata": {},
     "output_type": "execute_result"
    },
    {
     "data": {
      "text/plain": [
       "'of her nose.1610\\n01:26:33,564 --> 01:26:36,774\\n-'"
      ]
     },
     "execution_count": 23,
     "metadata": {},
     "output_type": "execute_result"
    },
    {
     "data": {
      "text/plain": [
       "' What do you call those on the side?\\n- Well, what '"
      ]
     },
     "execution_count": 23,
     "metadata": {},
     "output_type": "execute_result"
    },
    {
     "data": {
      "text/plain": [
       "'point are you making here?1611\\n01:26:36,859 --> '"
      ]
     },
     "execution_count": 23,
     "metadata": {},
     "output_type": "execute_result"
    },
    {
     "data": {
      "text/plain": [
       "'01:26:40,736\\nShe had dyed hair, marks on her nose.'"
      ]
     },
     "execution_count": 23,
     "metadata": {},
     "output_type": "execute_result"
    },
    {
     "data": {
      "text/plain": [
       "'\\nWell, what does that mean?1612\\n01:26:40,821 -->'"
      ]
     },
     "execution_count": 23,
     "metadata": {},
     "output_type": "execute_result"
    },
    {
     "data": {
      "text/plain": [
       "' 01:26:45,116\\nCould those marks be made\\nby anythin'"
      ]
     },
     "execution_count": 23,
     "metadata": {},
     "output_type": "execute_result"
    },
    {
     "data": {
      "text/plain": [
       "'g other than eyeglasses?1613\\n01:26:48,704 --> 01'"
      ]
     },
     "execution_count": 23,
     "metadata": {},
     "output_type": "execute_result"
    },
    {
     "data": {
      "text/plain": [
       "\":26:51,038\\nNo, they couldn't.1614\\n01:26:51,123 -\""
      ]
     },
     "execution_count": 23,
     "metadata": {},
     "output_type": "execute_result"
    },
    {
     "data": {
      "text/plain": [
       "\"-> 01:26:53,124\\nI didn't see any marks!1615\\n01:2\""
      ]
     },
     "execution_count": 23,
     "metadata": {},
     "output_type": "execute_result"
    },
    {
     "data": {
      "text/plain": [
       "'6:54,751 --> 01:26:56,460\\nI did.1616\\n01:26:56,54'"
      ]
     },
     "execution_count": 23,
     "metadata": {},
     "output_type": "execute_result"
    },
    {
     "data": {
      "text/plain": [
       "\"5 --> 01:26:59,088\\nStrange, but I didn't\\nthink abo\""
      ]
     },
     "execution_count": 23,
     "metadata": {},
     "output_type": "execute_result"
    },
    {
     "data": {
      "text/plain": [
       "'ut it before.1617\\n01:26:59,172 --> 01:27:01,299\\n'"
      ]
     },
     "execution_count": 23,
     "metadata": {},
     "output_type": "execute_result"
    },
    {
     "data": {
      "text/plain": [
       "\"Well, what about the lawyer?\\nWhy didn't he say som\""
      ]
     },
     "execution_count": 23,
     "metadata": {},
     "output_type": "execute_result"
    },
    {
     "data": {
      "text/plain": [
       "'ething?1618\\n01:27:01,383 --> 01:27:04,302\\nThere '"
      ]
     },
     "execution_count": 23,
     "metadata": {},
     "output_type": "execute_result"
    },
    {
     "data": {
      "text/plain": [
       "'are 12 people in here\\nconcentrating on this case.\\n'"
      ]
     },
     "execution_count": 23,
     "metadata": {},
     "output_type": "execute_result"
    },
    {
     "data": {
      "text/plain": [
       "'\\n1619\\n01:27:04,386 --> 01:27:06,470\\nEleven of us d'"
      ]
     },
     "execution_count": 23,
     "metadata": {},
     "output_type": "execute_result"
    },
    {
     "data": {
      "text/plain": [
       "\"idn't think of it either.1620\\n01:27:06,555 --> 0\""
      ]
     },
     "execution_count": 23,
     "metadata": {},
     "output_type": "execute_result"
    },
    {
     "data": {
      "text/plain": [
       "'1:27:09,724\\nWell, what about the district attorney'"
      ]
     },
     "execution_count": 23,
     "metadata": {},
     "output_type": "execute_result"
    },
    {
     "data": {
      "text/plain": [
       "\"?\\nDo you think he'd pull a trick like that?1621\\n\""
      ]
     },
     "execution_count": 23,
     "metadata": {},
     "output_type": "execute_result"
    },
    {
     "data": {
      "text/plain": [
       "'01:27:09,808 --> 01:27:11,684\\nHave her testify wit'"
      ]
     },
     "execution_count": 23,
     "metadata": {},
     "output_type": "execute_result"
    },
    {
     "data": {
      "text/plain": [
       "'hout her glasses?1622\\n01:27:11,810 --> 01:27:15,'"
      ]
     },
     "execution_count": 23,
     "metadata": {},
     "output_type": "execute_result"
    },
    {
     "data": {
      "text/plain": [
       "'730\\nDid you ever see a woman who had to wear glass'"
      ]
     },
     "execution_count": 23,
     "metadata": {},
     "output_type": "execute_result"
    },
    {
     "data": {
      "text/plain": [
       "\"es and\\ndidn't want to because she thinks they spoi\""
      ]
     },
     "execution_count": 23,
     "metadata": {},
     "output_type": "execute_result"
    },
    {
     "data": {
      "text/plain": [
       "'l her looks?1623\\n01:27:15,814 --> 01:27:19,317\\nO'"
      ]
     },
     "execution_count": 23,
     "metadata": {},
     "output_type": "execute_result"
    },
    {
     "data": {
      "text/plain": [
       "'kay. She had marks on her nose.1624\\n01:27:19,401'"
      ]
     },
     "execution_count": 23,
     "metadata": {},
     "output_type": "execute_result"
    },
    {
     "data": {
      "text/plain": [
       "\" --> 01:27:23,070\\nI'm giving you that.\\nFrom glasse\""
      ]
     },
     "execution_count": 23,
     "metadata": {},
     "output_type": "execute_result"
    },
    {
     "data": {
      "text/plain": [
       "'s, right?1625\\n01:27:23,155 --> 01:27:27,325\\nShe '"
      ]
     },
     "execution_count": 23,
     "metadata": {},
     "output_type": "execute_result"
    },
    {
     "data": {
      "text/plain": [
       "\"didn't want to wear 'em out of the house\\nso people\""
      ]
     },
     "execution_count": 23,
     "metadata": {},
     "output_type": "execute_result"
    },
    {
     "data": {
      "text/plain": [
       "\" would think she's gorgeous.1626\\n01:27:27,409 --\""
      ]
     },
     "execution_count": 23,
     "metadata": {},
     "output_type": "execute_result"
    },
    {
     "data": {
      "text/plain": [
       "'> 01:27:31,996\\nBut when she saw this kid killing h'"
      ]
     },
     "execution_count": 23,
     "metadata": {},
     "output_type": "execute_result"
    },
    {
     "data": {
      "text/plain": [
       "'is\\nfather, she was in the house alone.1627\\n01:27'"
      ]
     },
     "execution_count": 23,
     "metadata": {},
     "output_type": "execute_result"
    },
    {
     "data": {
      "text/plain": [
       "\":32,080 --> 01:27:34,290\\nThat's all.1628\\n01:27:3\""
      ]
     },
     "execution_count": 23,
     "metadata": {},
     "output_type": "execute_result"
    },
    {
     "data": {
      "text/plain": [
       "'4,374 --> 01:27:38,377\\n- Do you wear glasses when '"
      ]
     },
     "execution_count": 23,
     "metadata": {},
     "output_type": "execute_result"
    },
    {
     "data": {
      "text/plain": [
       "\"you go to bed?\\n- No, I don't.1629\\n01:27:40,088 -\""
      ]
     },
     "execution_count": 23,
     "metadata": {},
     "output_type": "execute_result"
    },
    {
     "data": {
      "text/plain": [
       "'-> 01:27:42,006\\nNo one wears eyeglasses to bed.1'"
      ]
     },
     "execution_count": 23,
     "metadata": {},
     "output_type": "execute_result"
    },
    {
     "data": {
      "text/plain": [
       "\"630\\n01:27:42,090 --> 01:27:45,092\\nIt's logical to \""
      ]
     },
     "execution_count": 23,
     "metadata": {},
     "output_type": "execute_result"
    },
    {
     "data": {
      "text/plain": [
       "\"assume that she wasn't\\nwearing them when she was i\""
      ]
     },
     "execution_count": 23,
     "metadata": {},
     "output_type": "execute_result"
    },
    {
     "data": {
      "text/plain": [
       "'n bed...1631\\n01:27:45,177 --> 01:27:46,928\\ntossi'"
      ]
     },
     "execution_count": 23,
     "metadata": {},
     "output_type": "execute_result"
    },
    {
     "data": {
      "text/plain": [
       "'ng and turning, trying to fall asleep.1632\\n01:27'"
      ]
     },
     "execution_count": 23,
     "metadata": {},
     "output_type": "execute_result"
    },
    {
     "data": {
      "text/plain": [
       "':47,012 --> 01:27:49,347\\n- How do you know?\\n- I do'"
      ]
     },
     "execution_count": 23,
     "metadata": {},
     "output_type": "execute_result"
    },
    {
     "data": {
      "text/plain": [
       "\"n't know! I'm guessing.1633\\n01:27:49,431 --> 01:\""
      ]
     },
     "execution_count": 23,
     "metadata": {},
     "output_type": "execute_result"
    },
    {
     "data": {
      "text/plain": [
       "\"27:51,891\\nI'm also guessing that she probably\\ndidn\""
      ]
     },
     "execution_count": 23,
     "metadata": {},
     "output_type": "execute_result"
    },
    {
     "data": {
      "text/plain": [
       "\"'t put her glasses on...1634\\n01:27:51,975 --> 01\""
      ]
     },
     "execution_count": 23,
     "metadata": {},
     "output_type": "execute_result"
    },
    {
     "data": {
      "text/plain": [
       "':27:54,101\\nwhen she turned\\nto look casually out of'"
      ]
     },
     "execution_count": 23,
     "metadata": {},
     "output_type": "execute_result"
    },
    {
     "data": {
      "text/plain": [
       "' the window.1635\\n01:27:54,186 --> 01:27:56,938\\nA'"
      ]
     },
     "execution_count": 23,
     "metadata": {},
     "output_type": "execute_result"
    },
    {
     "data": {
      "text/plain": [
       "'nd she herself testified the killing\\ntook place ju'"
      ]
     },
     "execution_count": 23,
     "metadata": {},
     "output_type": "execute_result"
    },
    {
     "data": {
      "text/plain": [
       "'st as she looked out.1636\\n01:27:57,022 --> 01:28'"
      ]
     },
     "execution_count": 23,
     "metadata": {},
     "output_type": "execute_result"
    },
    {
     "data": {
      "text/plain": [
       "':00,066\\nThe lights went off a split second later.\\n'"
      ]
     },
     "execution_count": 23,
     "metadata": {},
     "output_type": "execute_result"
    },
    {
     "data": {
      "text/plain": [
       "\"She couldn't have had time to put them on then.1\""
      ]
     },
     "execution_count": 23,
     "metadata": {},
     "output_type": "execute_result"
    },
    {
     "data": {
      "text/plain": [
       "'637\\n01:28:00,150 --> 01:28:01,776\\n- Wait a second.'"
      ]
     },
     "execution_count": 23,
     "metadata": {},
     "output_type": "execute_result"
    },
    {
     "data": {
      "text/plain": [
       "\"\\n- Here's another guess.1638\\n01:28:01,860 --> 01\""
      ]
     },
     "execution_count": 23,
     "metadata": {},
     "output_type": "execute_result"
    },
    {
     "data": {
      "text/plain": [
       "':28:05,947\\nMaybe she honestly thought she saw the '"
      ]
     },
     "execution_count": 23,
     "metadata": {},
     "output_type": "execute_result"
    },
    {
     "data": {
      "text/plain": [
       "'boy\\nkill his father. I say she only saw a blur.1'"
      ]
     },
     "execution_count": 23,
     "metadata": {},
     "output_type": "execute_result"
    },
    {
     "data": {
      "text/plain": [
       "'639\\n01:28:06,031 --> 01:28:09,617\\nHow do you know '"
      ]
     },
     "execution_count": 23,
     "metadata": {},
     "output_type": "execute_result"
    },
    {
     "data": {
      "text/plain": [
       "'what she saw?\\nHow does he know all that?1640\\n01:'"
      ]
     },
     "execution_count": 23,
     "metadata": {},
     "output_type": "execute_result"
    },
    {
     "data": {
      "text/plain": [
       "'28:09,701 --> 01:28:12,453\\nHow do you know what ki'"
      ]
     },
     "execution_count": 23,
     "metadata": {},
     "output_type": "execute_result"
    },
    {
     "data": {
      "text/plain": [
       "'nd of glasses she wore?\\nMaybe they were sunglasses'"
      ]
     },
     "execution_count": 23,
     "metadata": {},
     "output_type": "execute_result"
    },
    {
     "data": {
      "text/plain": [
       "'.1641\\n01:28:12,537 --> 01:28:15,164\\nMaybe she wa'"
      ]
     },
     "execution_count": 23,
     "metadata": {},
     "output_type": "execute_result"
    },
    {
     "data": {
      "text/plain": [
       "'s farsighted.\\nWhat do you know about it?1642\\n01:'"
      ]
     },
     "execution_count": 23,
     "metadata": {},
     "output_type": "execute_result"
    },
    {
     "data": {
      "text/plain": [
       "\"28:15,248 --> 01:28:18,501\\nI only know the woman's\""
      ]
     },
     "execution_count": 23,
     "metadata": {},
     "output_type": "execute_result"
    },
    {
     "data": {
      "text/plain": [
       "' eyesight\\nis in question now.1643\\n01:28:18,585 -'"
      ]
     },
     "execution_count": 23,
     "metadata": {},
     "output_type": "execute_result"
    },
    {
     "data": {
      "text/plain": [
       "'-> 01:28:24,715\\nShe had to be able to identify a p'"
      ]
     },
     "execution_count": 23,
     "metadata": {},
     "output_type": "execute_result"
    },
    {
     "data": {
      "text/plain": [
       "'erson\\n60 feet away, at night, without glasses.16'"
      ]
     },
     "execution_count": 23,
     "metadata": {},
     "output_type": "execute_result"
    },
    {
     "data": {
      "text/plain": [
       "\"44\\n01:28:24,800 --> 01:28:27,176\\nYou can't send so\""
      ]
     },
     "execution_count": 23,
     "metadata": {},
     "output_type": "execute_result"
    },
    {
     "data": {
      "text/plain": [
       "'meone off to die\\non evidence like that.1645\\n01:2'"
      ]
     },
     "execution_count": 23,
     "metadata": {},
     "output_type": "execute_result"
    },
    {
     "data": {
      "text/plain": [
       "\"8:27,260 --> 01:28:29,261\\nOh, don't give me that.\\n\""
      ]
     },
     "execution_count": 23,
     "metadata": {},
     "output_type": "execute_result"
    },
    {
     "data": {
      "text/plain": [
       "\"\\n1646\\n01:28:29,346 --> 01:28:31,514\\nDon't you thin\""
      ]
     },
     "execution_count": 23,
     "metadata": {},
     "output_type": "execute_result"
    },
    {
     "data": {
      "text/plain": [
       "'k the woman\\nmight have made a mistake?1647\\n01:28'"
      ]
     },
     "execution_count": 23,
     "metadata": {},
     "output_type": "execute_result"
    },
    {
     "data": {
      "text/plain": [
       "\":31,598 --> 01:28:34,016\\n- No.\\n- It's not possible\""
      ]
     },
     "execution_count": 23,
     "metadata": {},
     "output_type": "execute_result"
    },
    {
     "data": {
      "text/plain": [
       "\"?1648\\n01:28:34,101 --> 01:28:35,726\\nNo, it's not\""
      ]
     },
     "execution_count": 23,
     "metadata": {},
     "output_type": "execute_result"
    },
    {
     "data": {
      "text/plain": [
       "' possible.1649\\n01:28:38,689 --> 01:28:40,606\\nIs '"
      ]
     },
     "execution_count": 23,
     "metadata": {},
     "output_type": "execute_result"
    },
    {
     "data": {
      "text/plain": [
       "'it possible?1650\\n01:28:41,733 --> 01:28:43,401\\nN'"
      ]
     },
     "execution_count": 23,
     "metadata": {},
     "output_type": "execute_result"
    },
    {
     "data": {
      "text/plain": [
       "'ot guilty.1651\\n01:28:47,572 --> 01:28:50,241\\nDo '"
      ]
     },
     "execution_count": 23,
     "metadata": {},
     "output_type": "execute_result"
    },
    {
     "data": {
      "text/plain": [
       "\"you think he's guilty?1652\\n01:28:50,325 --> 01:2\""
      ]
     },
     "execution_count": 23,
     "metadata": {},
     "output_type": "execute_result"
    },
    {
     "data": {
      "text/plain": [
       "\"8:52,326\\nI think he's guilty.1653\\n01:28:55,080 -\""
      ]
     },
     "execution_count": 23,
     "metadata": {},
     "output_type": "execute_result"
    },
    {
     "data": {
      "text/plain": [
       "'-> 01:28:56,747\\nDo you?1654\\n01:28:59,626 --> 01:'"
      ]
     },
     "execution_count": 23,
     "metadata": {},
     "output_type": "execute_result"
    },
    {
     "data": {
      "text/plain": [
       "\"29:02,670\\nNo. I'm convinced.1655\\n01:29:02,754 --\""
      ]
     },
     "execution_count": 23,
     "metadata": {},
     "output_type": "execute_result"
    },
    {
     "data": {
      "text/plain": [
       "'> 01:29:04,338\\nNot guilty.1656\\n01:29:04,423 --> '"
      ]
     },
     "execution_count": 23,
     "metadata": {},
     "output_type": "execute_result"
    },
    {
     "data": {
      "text/plain": [
       "\"01:29:06,215\\nWhat's the matter with you?1657\\n01:\""
      ]
     },
     "execution_count": 23,
     "metadata": {},
     "output_type": "execute_result"
    },
    {
     "data": {
      "text/plain": [
       "'29:06,299 --> 01:29:08,217\\nI have a reasonable dou'"
      ]
     },
     "execution_count": 23,
     "metadata": {},
     "output_type": "execute_result"
    },
    {
     "data": {
      "text/plain": [
       "'bt now.1658\\n01:29:08,301 --> 01:29:09,844\\nEleven'"
      ]
     },
     "execution_count": 23,
     "metadata": {},
     "output_type": "execute_result"
    },
    {
     "data": {
      "text/plain": [
       "' to one.1659\\n01:29:09,928 --> 01:29:12,847\\nWell,'"
      ]
     },
     "execution_count": 23,
     "metadata": {},
     "output_type": "execute_result"
    },
    {
     "data": {
      "text/plain": [
       "' what about all the other evidence?\\nWhat about all'"
      ]
     },
     "execution_count": 23,
     "metadata": {},
     "output_type": "execute_result"
    },
    {
     "data": {
      "text/plain": [
       "' that stuff?1660\\n01:29:12,931 --> 01:29:15,016\\nT'"
      ]
     },
     "execution_count": 23,
     "metadata": {},
     "output_type": "execute_result"
    },
    {
     "data": {
      "text/plain": [
       "'he knife, the whole business!1661\\n01:29:15,100 -'"
      ]
     },
     "execution_count": 23,
     "metadata": {},
     "output_type": "execute_result"
    },
    {
     "data": {
      "text/plain": [
       "'-> 01:29:18,019\\nWell, you said we could throw out\\n'"
      ]
     },
     "execution_count": 23,
     "metadata": {},
     "output_type": "execute_result"
    },
    {
     "data": {
      "text/plain": [
       "'all the other evidence.1662\\n01:29:23,775 --> 01:'"
      ]
     },
     "execution_count": 23,
     "metadata": {},
     "output_type": "execute_result"
    },
    {
     "data": {
      "text/plain": [
       "'29:25,943\\nWell, what do we do now?1663\\n01:29:28,'"
      ]
     },
     "execution_count": 23,
     "metadata": {},
     "output_type": "execute_result"
    },
    {
     "data": {
      "text/plain": [
       "\"947 --> 01:29:30,614\\nYou're alone.1664\\n01:29:30,\""
      ]
     },
     "execution_count": 23,
     "metadata": {},
     "output_type": "execute_result"
    },
    {
     "data": {
      "text/plain": [
       "\"699 --> 01:29:34,535\\nI don't care whether I'm alon\""
      ]
     },
     "execution_count": 23,
     "metadata": {},
     "output_type": "execute_result"
    },
    {
     "data": {
      "text/plain": [
       "\"e or not!\\nIt's my right.1665\\n01:29:37,706 --> 01\""
      ]
     },
     "execution_count": 23,
     "metadata": {},
     "output_type": "execute_result"
    },
    {
     "data": {
      "text/plain": [
       "\":29:39,874\\nIt's your right.1666\\n01:29:49,009 -->\""
      ]
     },
     "execution_count": 23,
     "metadata": {},
     "output_type": "execute_result"
    },
    {
     "data": {
      "text/plain": [
       "\" 01:29:51,427\\nWell, what do you want?\\nI say he's g\""
      ]
     },
     "execution_count": 23,
     "metadata": {},
     "output_type": "execute_result"
    },
    {
     "data": {
      "text/plain": [
       "'uilty.1667\\n01:29:53,055 --> 01:29:56,390\\n- We wa'"
      ]
     },
     "execution_count": 23,
     "metadata": {},
     "output_type": "execute_result"
    },
    {
     "data": {
      "text/plain": [
       "'nt to hear your arguments.\\n- I gave you my argumen'"
      ]
     },
     "execution_count": 23,
     "metadata": {},
     "output_type": "execute_result"
    },
    {
     "data": {
      "text/plain": [
       "\"ts.1668\\n01:29:57,392 --> 01:29:59,518\\nWe're not \""
      ]
     },
     "execution_count": 23,
     "metadata": {},
     "output_type": "execute_result"
    },
    {
     "data": {
      "text/plain": [
       "'convinced.1669\\n01:29:59,603 --> 01:30:02,396\\nWe '"
      ]
     },
     "execution_count": 23,
     "metadata": {},
     "output_type": "execute_result"
    },
    {
     "data": {
      "text/plain": [
       "'want to hear them again.1670\\n01:30:02,481 --> 01'"
      ]
     },
     "execution_count": 23,
     "metadata": {},
     "output_type": "execute_result"
    },
    {
     "data": {
      "text/plain": [
       "':30:04,482\\nWe have as much time as it takes.1671'"
      ]
     },
     "execution_count": 23,
     "metadata": {},
     "output_type": "execute_result"
    },
    {
     "data": {
      "text/plain": [
       "'\\n01:30:10,155 --> 01:30:14,617\\nEverything - Every '"
      ]
     },
     "execution_count": 23,
     "metadata": {},
     "output_type": "execute_result"
    },
    {
     "data": {
      "text/plain": [
       "'single thing\\nthat took place in that courtroom...\\n'"
      ]
     },
     "execution_count": 23,
     "metadata": {},
     "output_type": "execute_result"
    },
    {
     "data": {
      "text/plain": [
       "'\\n1672\\n01:30:14,701 --> 01:30:16,619\\nbut I mean eve'"
      ]
     },
     "execution_count": 23,
     "metadata": {},
     "output_type": "execute_result"
    },
    {
     "data": {
      "text/plain": [
       "\"rything -\\nsays he's guilty.1673\\n01:30:16,703 -->\""
      ]
     },
     "execution_count": 23,
     "metadata": {},
     "output_type": "execute_result"
    },
    {
     "data": {
      "text/plain": [
       "\" 01:30:19,163\\nWhat do you think,\\nI'm an idiot or s\""
      ]
     },
     "execution_count": 23,
     "metadata": {},
     "output_type": "execute_result"
    },
    {
     "data": {
      "text/plain": [
       "'omething?1674\\n01:30:20,832 --> 01:30:22,917\\nWhy '"
      ]
     },
     "execution_count": 23,
     "metadata": {},
     "output_type": "execute_result"
    },
    {
     "data": {
      "text/plain": [
       "\"don't you take that stuff\\nabout the old man?1675\""
      ]
     },
     "execution_count": 23,
     "metadata": {},
     "output_type": "execute_result"
    },
    {
     "data": {
      "text/plain": [
       "'\\n01:30:23,001 --> 01:30:26,170\\nThe old man who liv'"
      ]
     },
     "execution_count": 23,
     "metadata": {},
     "output_type": "execute_result"
    },
    {
     "data": {
      "text/plain": [
       "'ed there\\nand heard everything.1676\\n01:30:27,839 '"
      ]
     },
     "execution_count": 23,
     "metadata": {},
     "output_type": "execute_result"
    },
    {
     "data": {
      "text/plain": [
       "'--> 01:30:29,507\\nOr this business about the knife.'"
      ]
     },
     "execution_count": 23,
     "metadata": {},
     "output_type": "execute_result"
    },
    {
     "data": {
      "text/plain": [
       "\"1677\\n01:30:29,591 --> 01:30:31,592\\nWhat? 'Cause \""
      ]
     },
     "execution_count": 23,
     "metadata": {},
     "output_type": "execute_result"
    },
    {
     "data": {
      "text/plain": [
       "'he found another one\\nexactly like it?1678\\n01:30:'"
      ]
     },
     "execution_count": 23,
     "metadata": {},
     "output_type": "execute_result"
    },
    {
     "data": {
      "text/plain": [
       "'31,676 --> 01:30:35,012\\nThe old man saw him\\nright '"
      ]
     },
     "execution_count": 23,
     "metadata": {},
     "output_type": "execute_result"
    },
    {
     "data": {
      "text/plain": [
       "'there on the stairs!1679\\n01:30:35,097 --> 01:30:'"
      ]
     },
     "execution_count": 23,
     "metadata": {},
     "output_type": "execute_result"
    },
    {
     "data": {
      "text/plain": [
       "\"37,932\\nWhat's the difference\\nhow many seconds it w\""
      ]
     },
     "execution_count": 23,
     "metadata": {},
     "output_type": "execute_result"
    },
    {
     "data": {
      "text/plain": [
       "'as?1680\\n01:30:39,101 --> 01:30:41,102\\nEvery sing'"
      ]
     },
     "execution_count": 23,
     "metadata": {},
     "output_type": "execute_result"
    },
    {
     "data": {
      "text/plain": [
       "'le thing.1681\\n01:30:42,521 --> 01:30:45,689\\nThe '"
      ]
     },
     "execution_count": 23,
     "metadata": {},
     "output_type": "execute_result"
    },
    {
     "data": {
      "text/plain": [
       "'knife falling through\\na hole in his pocket.1682\\n'"
      ]
     },
     "execution_count": 23,
     "metadata": {},
     "output_type": "execute_result"
    },
    {
     "data": {
      "text/plain": [
       "\"01:30:45,774 --> 01:30:49,110\\nYou can't prove he d\""
      ]
     },
     "execution_count": 23,
     "metadata": {},
     "output_type": "execute_result"
    },
    {
     "data": {
      "text/plain": [
       "\"idn't get to the door.1683\\n01:30:49,194 --> 01:3\""
      ]
     },
     "execution_count": 23,
     "metadata": {},
     "output_type": "execute_result"
    },
    {
     "data": {
      "text/plain": [
       "'0:51,612\\nSure, you can take all the time,\\nhobble a'"
      ]
     },
     "execution_count": 23,
     "metadata": {},
     "output_type": "execute_result"
    },
    {
     "data": {
      "text/plain": [
       "'round the room.1684\\n01:30:51,696 --> 01:30:54,28'"
      ]
     },
     "execution_count": 23,
     "metadata": {},
     "output_type": "execute_result"
    },
    {
     "data": {
      "text/plain": [
       "\"1\\nBut you can't prove it!1685\\n01:30:56,201 --> 0\""
      ]
     },
     "execution_count": 23,
     "metadata": {},
     "output_type": "execute_result"
    },
    {
     "data": {
      "text/plain": [
       "'1:30:59,829\\nAnd what about this business\\nof the el'"
      ]
     },
     "execution_count": 23,
     "metadata": {},
     "output_type": "execute_result"
    },
    {
     "data": {
      "text/plain": [
       "' and the movies?1686\\n01:30:59,913 --> 01:31:02,9'"
      ]
     },
     "execution_count": 23,
     "metadata": {},
     "output_type": "execute_result"
    },
    {
     "data": {
      "text/plain": [
       "\"57\\nThere's a phony deal\\nif I ever heard one.1687\""
      ]
     },
     "execution_count": 23,
     "metadata": {},
     "output_type": "execute_result"
    },
    {
     "data": {
      "text/plain": [
       "\"\\n01:31:03,041 --> 01:31:07,253\\nI'll bet ya $5,000\\n\""
      ]
     },
     "execution_count": 23,
     "metadata": {},
     "output_type": "execute_result"
    },
    {
     "data": {
      "text/plain": [
       "\"I'd remember the movies I saw.1688\\n01:31:07,337 \""
      ]
     },
     "execution_count": 23,
     "metadata": {},
     "output_type": "execute_result"
    },
    {
     "data": {
      "text/plain": [
       "\"--> 01:31:09,588\\nI'm telling ya,\\neverything that's\""
      ]
     },
     "execution_count": 23,
     "metadata": {},
     "output_type": "execute_result"
    },
    {
     "data": {
      "text/plain": [
       "' gone on...1689\\n01:31:09,673 --> 01:31:13,509\\nha'"
      ]
     },
     "execution_count": 23,
     "metadata": {},
     "output_type": "execute_result"
    },
    {
     "data": {
      "text/plain": [
       "'s been twisted and turned!1690\\n01:31:13,593 --> '"
      ]
     },
     "execution_count": 23,
     "metadata": {},
     "output_type": "execute_result"
    },
    {
     "data": {
      "text/plain": [
       "'01:31:15,678\\nThis business with the glasses?1691'"
      ]
     },
     "execution_count": 23,
     "metadata": {},
     "output_type": "execute_result"
    },
    {
     "data": {
      "text/plain": [
       "'\\n01:31:15,762 --> 01:31:21,308\\nHow do you know she'"
      ]
     },
     "execution_count": 23,
     "metadata": {},
     "output_type": "execute_result"
    },
    {
     "data": {
      "text/plain": [
       "\" didn't have them on?\\nThis woman testified in open\""
      ]
     },
     "execution_count": 23,
     "metadata": {},
     "output_type": "execute_result"
    },
    {
     "data": {
      "text/plain": [
       "' court!1692\\n01:31:21,393 --> 01:31:25,354\\nAnd wh'"
      ]
     },
     "execution_count": 23,
     "metadata": {},
     "output_type": "execute_result"
    },
    {
     "data": {
      "text/plain": [
       "'at about hearing the kid yell, huh?1693\\n01:31:25'"
      ]
     },
     "execution_count": 23,
     "metadata": {},
     "output_type": "execute_result"
    },
    {
     "data": {
      "text/plain": [
       "\",438 --> 01:31:28,691\\nI'm telling ya, I've got\\nall\""
      ]
     },
     "execution_count": 23,
     "metadata": {},
     "output_type": "execute_result"
    },
    {
     "data": {
      "text/plain": [
       "' the facts here.1694\\n01:31:29,860 --> 01:31:31,7'"
      ]
     },
     "execution_count": 23,
     "metadata": {},
     "output_type": "execute_result"
    },
    {
     "data": {
      "text/plain": [
       "'35\\nHere. Ah...1695\\n01:31:34,114 --> 01:31:36,615'"
      ]
     },
     "execution_count": 23,
     "metadata": {},
     "output_type": "execute_result"
    },
    {
     "data": {
      "text/plain": [
       "\"\\nWell, that's it!\\nThat's the whole case.1696\\n01:\""
      ]
     },
     "execution_count": 23,
     "metadata": {},
     "output_type": "execute_result"
    },
    {
     "data": {
      "text/plain": [
       "'31:43,832 --> 01:31:45,416\\nWell?1697\\n01:31:47,71'"
      ]
     },
     "execution_count": 23,
     "metadata": {},
     "output_type": "execute_result"
    },
    {
     "data": {
      "text/plain": [
       "'1 --> 01:31:49,712\\nSay something!1698\\n01:31:54,8'"
      ]
     },
     "execution_count": 23,
     "metadata": {},
     "output_type": "execute_result"
    },
    {
     "data": {
      "text/plain": [
       "'43 --> 01:31:58,429\\nYou lousy bunch of bleeding he'"
      ]
     },
     "execution_count": 23,
     "metadata": {},
     "output_type": "execute_result"
    },
    {
     "data": {
      "text/plain": [
       "\"arts.1699\\n01:31:59,097 --> 01:32:01,015\\nYou're n\""
      ]
     },
     "execution_count": 23,
     "metadata": {},
     "output_type": "execute_result"
    },
    {
     "data": {
      "text/plain": [
       "'ot gonna intimidate me.1700\\n01:32:01,099 --> 01:'"
      ]
     },
     "execution_count": 23,
     "metadata": {},
     "output_type": "execute_result"
    },
    {
     "data": {
      "text/plain": [
       "\"32:03,601\\nI'm entitled to my opinion.1701\\n01:32:\""
      ]
     },
     "execution_count": 23,
     "metadata": {},
     "output_type": "execute_result"
    },
    {
     "data": {
      "text/plain": [
       "'06,980 --> 01:32:11,275\\nRotten kids.\\nYou work your'"
      ]
     },
     "execution_count": 23,
     "metadata": {},
     "output_type": "execute_result"
    },
    {
     "data": {
      "text/plain": [
       "' life out!1702\\n01:32:16,114 --> 01:32:18,073\\nI c'"
      ]
     },
     "execution_count": 23,
     "metadata": {},
     "output_type": "execute_result"
    },
    {
     "data": {
      "text/plain": [
       "\"an't keep...1703\\n01:32:22,746 --> 01:32:24,413\\nN\""
      ]
     },
     "execution_count": 23,
     "metadata": {},
     "output_type": "execute_result"
    },
    {
     "data": {
      "text/plain": [
       "'o.1704\\n01:32:28,293 --> 01:32:30,127\\nNot guilty.'"
      ]
     },
     "execution_count": 23,
     "metadata": {},
     "output_type": "execute_result"
    },
    {
     "data": {
      "text/plain": [
       "'1705\\n01:32:33,506 --> 01:32:35,174\\nNot guilty.'"
      ]
     },
     "execution_count": 23,
     "metadata": {},
     "output_type": "execute_result"
    },
    {
     "data": {
      "text/plain": [
       "'1706\\n01:32:38,178 --> 01:32:39,803\\nNot...1707\\n01'"
      ]
     },
     "execution_count": 23,
     "metadata": {},
     "output_type": "execute_result"
    },
    {
     "data": {
      "text/plain": [
       "\":32:50,357 --> 01:32:52,524\\nUm, we're ready now.\""
      ]
     },
     "execution_count": 23,
     "metadata": {},
     "output_type": "execute_result"
    },
    {
     "data": {
      "text/plain": [
       "'1708\\n01:34:46,181 --> 01:34:47,848\\nHey!1709\\n01:3'"
      ]
     },
     "execution_count": 23,
     "metadata": {},
     "output_type": "execute_result"
    },
    {
     "data": {
      "text/plain": [
       "\"4:52,187 --> 01:34:53,854\\nWhat's your name?1710\\n\""
      ]
     },
     "execution_count": 23,
     "metadata": {},
     "output_type": "execute_result"
    },
    {
     "data": {
      "text/plain": [
       "'01:34:53,938 --> 01:34:55,439\\nDavis.1711\\n01:34:5'"
      ]
     },
     "execution_count": 23,
     "metadata": {},
     "output_type": "execute_result"
    },
    {
     "data": {
      "text/plain": [
       "\"5,523 --> 01:34:57,441\\nMy name's McCardle.1712\\n0\""
      ]
     },
     "execution_count": 23,
     "metadata": {},
     "output_type": "execute_result"
    },
    {
     "data": {
      "text/plain": [
       "'1:34:59,778 --> 01:35:01,445\\nWell, so long.1713\\n'"
      ]
     },
     "execution_count": 23,
     "metadata": {},
     "output_type": "execute_result"
    },
    {
     "data": {
      "text/plain": [
       "'01:35:01,529 --> 01:35:03,030\\nSo long.'"
      ]
     },
     "execution_count": 23,
     "metadata": {},
     "output_type": "execute_result"
    }
   ],
   "source": [
    "with open(\"12 angry men.txt\", 'r', encoding=\"utf-8\") as f:\n",
    "    while file := f.read(50):\n",
    "        file.replace('\\n\\n', '')"
   ]
  },
  {
   "cell_type": "markdown",
   "id": "b7b89f05-6b92-488e-bc5a-a826ea06ef0d",
   "metadata": {},
   "source": [
    "*New in version 3.8:* See [**PEP 572**](https://www.python.org/dev/peps/pep-0572) for more details about assignment expressions.\n",
    "\n",
    "> *3.8版的新内容：*参见[**PEP 572**](https://www.python.org/dev/peps/pep-0572)以了解关于赋值表达式的更多细节。"
   ]
  },
  {
   "cell_type": "markdown",
   "id": "b9bb1b8f-cf40-4d58-82dc-9f75233dafac",
   "metadata": {},
   "source": [
    "## 6.13. Conditional expressions"
   ]
  },
  {
   "cell_type": "raw",
   "id": "36601d0c-018f-45d4-912d-d16a84ff9ac4",
   "metadata": {},
   "source": [
    "conditional_expression ::=  or_test [\"if\" or_test \"else\" expression]\n",
    "expression             ::=  conditional_expression | lambda_expr"
   ]
  },
  {
   "cell_type": "markdown",
   "id": "594a7fb4-1bec-4104-9b66-11292054f660",
   "metadata": {},
   "source": [
    "Conditional expressions (sometimes called a “ternary operator”) have the lowest priority of all Python operations.\n",
    "\n",
    "The expression `x if C else y` first evaluates the condition, *C* rather than *x*. If *C* is true, *x* is evaluated and its value is returned; otherwise, *y* is evaluated and its value is returned.\n",
    "\n",
    "> 条件表达式(有时称为 \"三元运算符\")在所有Python操作中具有最低的优先级。\n",
    ">\n",
    "> 表达式 `x if C else y` 首先运算求值条件，*C*而不是*x*。如果*C*为真，则运算求值*x*并返回其值；否则，运算求值*y*并返回其值。"
   ]
  },
  {
   "cell_type": "markdown",
   "id": "09a7c942-5976-4a99-bb29-6d8f76f04911",
   "metadata": {},
   "source": [
    "See PEP 308 for more details about conditional expressions."
   ]
  },
  {
   "cell_type": "markdown",
   "id": "b7b0caf8-a050-47ec-90da-d9f210c92132",
   "metadata": {},
   "source": [
    "## 6.14. Lambdas"
   ]
  },
  {
   "cell_type": "raw",
   "id": "4169913c-dff2-4b5e-a525-fbc0a036e39f",
   "metadata": {},
   "source": [
    "lambda_expr ::=  \"lambda\" [parameter_list] \":\" expression"
   ]
  },
  {
   "cell_type": "markdown",
   "id": "544f102c-bbae-460d-8ff9-73e2d1bebdf4",
   "metadata": {},
   "source": [
    "Lambda expressions (sometimes called lambda forms) are used to create anonymous functions. The expression `lambda parameters: expression` yields a function object. The unnamed object behaves like a function object defined with:\n",
    "\n",
    "> Lambda表达式（有时称为lambda形式）被用来创建匿名函数。表达式 `lambda parameters: expression`产生了一个函数对象。这个未命名的对象的行为就像用以下方式定义的函数对象："
   ]
  },
  {
   "cell_type": "raw",
   "id": "56727c73-2d69-4f44-943e-d6c73345a3ed",
   "metadata": {},
   "source": [
    "def <lambda>(parameters):\n",
    "    return expression"
   ]
  },
  {
   "cell_type": "markdown",
   "id": "67eed7fa-a8dd-4aeb-949f-1f896e1bc1d6",
   "metadata": {},
   "source": [
    "See section [Function definitions](https://docs.python.org/3/reference/compound_stmts.html#function) for the syntax of parameter lists. Note that functions created with lambda expressions cannot contain statements or annotations.\n",
    "\n",
    "> 关于参数列表的语法，见[函数定义](https://docs.python.org/3/reference/compound_stmts.html#function)一节。注意，用lambda表达式创建的函数不能包含语句或注释。"
   ]
  },
  {
   "cell_type": "markdown",
   "id": "4a0014b2-6c3d-403e-845b-54ab9906edcb",
   "metadata": {},
   "source": [
    "## 6.15. Expression lists"
   ]
  },
  {
   "cell_type": "raw",
   "id": "13b83222-744f-4f62-9be2-a19828eceb2c",
   "metadata": {},
   "source": [
    "expression_list    ::=  expression (\",\" expression)* [\",\"]\n",
    "starred_list       ::=  starred_item (\",\" starred_item)* [\",\"]\n",
    "starred_expression ::=  expression | (starred_item \",\")* [starred_item]\n",
    "starred_item       ::=  assignment_expression | \"*\" or_expr"
   ]
  },
  {
   "cell_type": "markdown",
   "id": "5f4af2af-527f-402b-bdcf-cc427ec7fa8c",
   "metadata": {},
   "source": [
    "Except when part of a list or set display, an expression list containing at least one comma yields a tuple. The length of the tuple is the number of expressions in the list. The expressions are evaluated from left to right.\n",
    "\n",
    "An asterisk `*` denotes *iterable unpacking*. Its operand must be an [iterable](https://docs.python.org/3/glossary.html#term-iterable). The iterable is expanded into a sequence of items, which are included in the new tuple, list, or set, at the site of the unpacking.\n",
    "\n",
    "*New in version 3.5:* Iterable unpacking in expression lists, originally proposed by [**PEP 448**](https://www.python.org/dev/peps/pep-0448).\n",
    "\n",
    "The trailing comma is required only to create a single tuple (a.k.a. a *singleton*); it is optional in all other cases. A single expression without a trailing comma doesn’t create a tuple, but rather yields the value of that expression. (To create an empty tuple, use an empty pair of parentheses: `()`.)\n",
    "\n",
    "> 除了作为列表或集合显示的一部分，包含至少一个逗号的表达式列表会产生一个元组。元组的长度是列表中表达式的数量。表达式从左到右被运算求值。\n",
    ">\n",
    "> 星号 `*` 表示 *iterable unpacking*。其操作数必须是一个 [iterable](https://docs.python.org/3/glossary.html#term-iterable)。迭代器被扩展成一个项目序列，这些项目被包含在新的元组、列表或集合中，位于解包的位置。\n",
    ">\n",
    "> *3.5版中的新内容：*表达式列表中的迭代器解包，最初由[**PEP 448**](https://www.python.org/dev/peps/pep-0448)提出。\n",
    ">\n",
    "> 只有在创建单个元组（又称*singleton*）时才需要尾部的逗号；在其他情况下是可选的。没有尾部逗号的单个表达式不会创建一个元组，而是产生该表达式的值。(要创建一个空元组，使用一对空的括号。`()`.)"
   ]
  },
  {
   "cell_type": "markdown",
   "id": "600fbcc1-55d3-46d1-a145-03dcac9458d7",
   "metadata": {},
   "source": [
    "## 6.16. Evaluation order"
   ]
  },
  {
   "cell_type": "markdown",
   "id": "465167dc-98d1-4ec4-a413-59afb5fd6382",
   "metadata": {},
   "source": [
    "Python evaluates expressions from left to right. Notice that while evaluating an assignment, the right-hand side is evaluated before the left-hand side.\n",
    "\n",
    "In the following lines, expressions will be evaluated in the arithmetic order of their suffixes:\n",
    "\n",
    "> Python 从左到右运算求值表达式。注意在求值一个赋值时，右边的赋值在左边的赋值之前进行。\n",
    ">\n",
    "> 在下面几行中，表达式将按照其后缀的算术顺序进行求值："
   ]
  },
  {
   "cell_type": "raw",
   "id": "e6d9f5a8-28ff-4e8d-933c-9b133ed5623a",
   "metadata": {},
   "source": [
    "expr1, expr2, expr3, expr4\n",
    "(expr1, expr2, expr3, expr4)\n",
    "{expr1: expr2, expr3: expr4}\n",
    "expr1 + expr2 * (expr3 - expr4)\n",
    "expr1(expr2, expr3, *expr4, **expr5)\n",
    "expr3, expr4 = expr1, expr2"
   ]
  },
  {
   "cell_type": "markdown",
   "id": "492037cd-7d3a-4ae2-8bb7-5d5adc8d3cdb",
   "metadata": {},
   "source": [
    "## 6.17. Operator precedence"
   ]
  },
  {
   "cell_type": "markdown",
   "id": "3f653456-02e3-44b1-b023-a421d2e9d454",
   "metadata": {},
   "source": [
    "The following table summarizes the operator precedence in Python, from highest precedence (most binding) to lowest precedence (least binding). Operators in the same box have the same precedence. Unless the syntax is explicitly given, operators are binary. Operators in the same box group left to right (except for exponentiation, which groups from right to left).\n",
    "\n",
    "Note that comparisons, membership tests, and identity tests, all have the same precedence and have a left-to-right chaining feature as described in the [Comparisons](https://docs.python.org/3/reference/expressions.html#comparisons) section.\n",
    "\n",
    "> 下表总结了Python中操作符的优先级，从最高优先级(最强绑定)到最低优先级(最小绑定)。同一框内的运算符具有相同的优先级。除非明确给出了语法，否则运算符是二进制的。同一框内的操作符从左到右分组（除了指数化，它从右到左分组）。\n",
    ">\n",
    "> 请注意，比较、成员测试和同一性测试，都有相同的优先级，并且有从左到右的连锁功能，如[比较](https://docs.python.org/3/reference/expressions.html#comparisons)一节中所述。"
   ]
  },
  {
   "cell_type": "markdown",
   "id": "b197be62-6bc8-4301-a782-809d96762cb4",
   "metadata": {},
   "source": [
    "| Operator                                                     | Description                                                  |\n",
    "| :----------------------------------------------------------- | :----------------------------------------------------------- |\n",
    "| `(expressions...)`,`[expressions...]`, `{key: value...}`, `{expressions...}` | Binding or parenthesized expression, list display, dictionary display, set display |\n",
    "| `x[index]`, `x[index:index]`, `x(arguments...)`, `x.attribute` | Subscription, slicing, call, attribute reference             |\n",
    "| [`await x`](https://docs.python.org/3/reference/expressions.html#await) | Await expression                                             |\n",
    "| `**`                                                         | Exponentiation [5](https://docs.python.org/3/reference/expressions.html#id21) |\n",
    "| `+x`, `-x`, `~x`                                             | Positive, negative, bitwise NOT                              |\n",
    "| `*`, `@`, `/`, `//`, `%`                                     | Multiplication, matrix multiplication, division, floor division, remainder [6](https://docs.python.org/3/reference/expressions.html#id22) |\n",
    "| `+`, `-`                                                     | Addition and subtraction                                     |\n",
    "| `<<`, `>>`                                                   | Shifts                                                       |\n",
    "| `&`                                                          | Bitwise AND                                                  |\n",
    "| `^`                                                          | Bitwise XOR                                                  |\n",
    "| `|`                                                          | Bitwise OR                                                   |\n",
    "| [`in`](https://docs.python.org/3/reference/expressions.html#in), [`not in`](https://docs.python.org/3/reference/expressions.html#not-in), [`is`](https://docs.python.org/3/reference/expressions.html#is), [`is not`](https://docs.python.org/3/reference/expressions.html#is-not), `<`, `<=`, `>`, `>=`, `!=`, `==` | Comparisons, including membership tests and identity tests   |\n",
    "| [`not x`](https://docs.python.org/3/reference/expressions.html#not) | Boolean NOT                                                  |\n",
    "| [`and`](https://docs.python.org/3/reference/expressions.html#and) | Boolean AND                                                  |\n",
    "| [`or`](https://docs.python.org/3/reference/expressions.html#or) | Boolean OR                                                   |\n",
    "| [`if`](https://docs.python.org/3/reference/expressions.html#if-expr) – `else` | Conditional expression                                       |\n",
    "| [`lambda`](https://docs.python.org/3/reference/expressions.html#lambda) | Lambda expression                                            |\n",
    "| `:=`                                                         | Assignment expression                                        |"
   ]
  },
  {
   "cell_type": "code",
   "execution_count": 8,
   "id": "32f52c62-2e3f-4bc6-963c-af0b3428d04c",
   "metadata": {},
   "outputs": [
    {
     "name": "stdout",
     "output_type": "stream",
     "text": [
      "1\n"
     ]
    },
    {
     "data": {
      "text/plain": [
       "(5, 1)"
      ]
     },
     "execution_count": 8,
     "metadata": {},
     "output_type": "execute_result"
    },
    {
     "data": {
      "text/plain": [
       "0.5"
      ]
     },
     "execution_count": 8,
     "metadata": {},
     "output_type": "execute_result"
    }
   ],
   "source": [
    "a = 0\n",
    "\n",
    "print(a := 1)\n",
    "\n",
    "divmod(11, 2)\n",
    "\n",
    "2**-1"
   ]
  },
  {
   "cell_type": "markdown",
   "id": "3b73f6cd-b3e1-40a5-a32a-93b66278e703",
   "metadata": {},
   "source": [
    "**Footnotes**\n",
    "\n",
    "- [1]: While `abs(x%y) < abs(y)` is true mathematically, for floats it may not be true numerically due to roundoff. For example, and assuming a platform on which a Python float is an IEEE 754 double-precision number, in order that `-1e-100 % 1e100` have the same sign as `1e100`, the computed result is `-1e-100 + 1e100`, which is numerically exactly equal to `1e100`. The function [`math.fmod()`](https://docs.python.org/3/library/math.html#math.fmod) returns a result whose sign matches the sign of the first argument instead, and so returns `-1e-100` in this case. Which approach is more appropriate depends on the application.\n",
    "- [2]: If x is very close to an exact integer multiple of y, it’s possible for `x//y` to be one larger than `(x-x%y)//y` due to rounding. In such cases, Python returns the latter result, in order to preserve that `divmod(x,y)[0] * y + x % y` be very close to `x`.\n",
    "- [3]: The Unicode standard distinguishes between *code points* (e.g. U+0041) and *abstract characters* (e.g. “LATIN CAPITAL LETTER A”). While most abstract characters in Unicode are only represented using one code point, there is a number of abstract characters that can in addition be represented using a sequence of more than one code point. For example, the abstract character “LATIN CAPITAL LETTER C WITH CEDILLA” can be represented as a single *precomposed character* at code position U+00C7, or as a sequence of a *base character* at code position U+0043 (LATIN CAPITAL LETTER C), followed by a *combining character* at code position U+0327 (COMBINING CEDILLA).The comparison operators on strings compare at the level of Unicode code points. This may be counter-intuitive to humans. For example, `\"\\u00C7\" == \"\\u0043\\u0327\"` is `False`, even though both strings represent the same abstract character “LATIN CAPITAL LETTER C WITH CEDILLA”.To compare strings at the level of abstract characters (that is, in a way intuitive to humans), use [`unicodedata.normalize()`](https://docs.python.org/3/library/unicodedata.html#unicodedata.normalize).\n",
    "- [4]: Due to automatic garbage-collection, free lists, and the dynamic nature of descriptors, you may notice seemingly unusual behaviour in certain uses of the [`is`](https://docs.python.org/3/reference/expressions.html#is) operator, like those involving comparisons between instance methods, or constants. Check their documentation for more info.\n",
    "- [5]: The power operator `**` binds less tightly than an arithmetic or bitwise unary operator on its right, that is, `2**-1` is `0.5`.\n",
    "- [6]: The `%` operator is also used for string formatting; the same precedence applies.\n",
    "\n",
    "> **脚注**\n",
    ">\n",
    "> - [1]: 虽然`abs(x%y) < abs(y)`在数学上是真的，但对于浮点数来说，由于四舍五入，在数值上可能不是真的。例如，假设Python的浮点数是IEEE 754的双精度数，为了使`-1e-100 % 1e100`与`1e100`具有相同的符号，计算的结果是`-1e100 + 1e100`，在数字上正好等于`1e100`。函数[`math.fmod()`](https://docs.python.org/3/library/math.html#math.fmod)返回的结果的符号与第一个参数的符号一致，所以在这种情况下返回`-1e-100`。哪种方法更合适取决于应用。\n",
    "> - [2]: 如果x非常接近y的精确整数倍，由于四舍五入，`x//y`有可能比`(x-x%y)//y`大一个。在这种情况下，Python返回后一种结果，以保证`divmod(x,y)[0] * y + x % y`非常接近于`x`。\n",
    "> - [3]: Unicode标准区分了*代码点*（例如U+0041）和*抽象字符*（例如 \"LATIN CAPITAL LETTER A\"）。虽然Unicode中的大多数抽象字符只用一个码位表示，但也有一些抽象字符可以用一个以上的码位序列来表示。例如，抽象字符 \"LATIN CAPITAL LETTER C WITH CEDILLA \"可以在代码位置U+00C7表示为一个*预组合字符*，或者在代码位置U+0043表示一个*基本字符*（LATIN CAPITAL LETTER C），然后在代码位置U+0327表示一个*组合字符*（COMBINING CEDILLA）。这对人类来说可能是反直觉的。例如，`\"\\u00C7\" == \"\\u0043\\u0327\"`是`False`，尽管这两个字符串代表相同的抽象字符 \"LATIN CAPITAL LETTER C WITH CEDILLA\"。要在抽象字符的层次上比较字符串（也就是以人类直观的方式），使用[`unicodedata.normalize()`](https://docs.python.org/3/library/unicodedata.html#unicodedata.normalize)\n",
    "> - [4]: 由于自动垃圾收集、自由列表和描述符的动态性质，你可能会注意到在某些使用[`is`](https://docs.python.org/3/reference/expressions.html#is)操作符的情况下出现的异常行为，比如涉及实例方法之间的比较，或者常量。请查看其文档以了解更多信息。\n",
    "> - [5]: 幂运算符`**`比其右边的算术或位数单数运算符结合得更不紧密，也就是说，`2**-1`是`0.5`。\n",
    "> - [6]: `%`运算符也用于字符串格式化；同样的优先级适用。"
   ]
  }
 ],
 "metadata": {
  "kernelspec": {
   "display_name": "Python 3 (ipykernel)",
   "language": "python",
   "name": "python3"
  },
  "language_info": {
   "codemirror_mode": {
    "name": "ipython",
    "version": 3
   },
   "file_extension": ".py",
   "mimetype": "text/x-python",
   "name": "python",
   "nbconvert_exporter": "python",
   "pygments_lexer": "ipython3",
   "version": "3.10.4"
  }
 },
 "nbformat": 4,
 "nbformat_minor": 5
}
