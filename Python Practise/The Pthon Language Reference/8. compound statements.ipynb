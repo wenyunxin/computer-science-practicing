{
 "cells": [
  {
   "cell_type": "code",
   "execution_count": 2,
   "id": "0b76142b-96e5-4c4a-ad40-ad5bc71c8ea0",
   "metadata": {},
   "outputs": [],
   "source": [
    "from IPython.core.interactiveshell import InteractiveShell\n",
    "InteractiveShell.ast_node_interactivity = \"all\""
   ]
  },
  {
   "cell_type": "markdown",
   "id": "8b0cb175-33c3-480f-9c34-fc9e912552d8",
   "metadata": {},
   "source": [
    "Compound statements contain (groups of) other statements; they affect or control the execution of those other statements in some way. In general, compound statements span multiple lines, although in simple incarnations a whole compound statement may be contained in one line.\n",
    "\n",
    "> 复合语句包含（一组）其他语句；它们以某种方式影响或控制这些其他语句的执行。一般来说，复合语句会跨越多行，尽管在简单的化身中，整个复合语句可能包含在一行中。"
   ]
  },
  {
   "cell_type": "markdown",
   "id": "87a2265e-2eef-454e-a9bb-8cb4e8a6e989",
   "metadata": {},
   "source": [
    "The [`if`](https://docs.python.org/3/reference/compound_stmts.html#if), [`while`](https://docs.python.org/3/reference/compound_stmts.html#while) and [`for`](https://docs.python.org/3/reference/compound_stmts.html#for) statements implement traditional control flow constructs. [`try`](https://docs.python.org/3/reference/compound_stmts.html#try) specifies exception handlers and/or cleanup code for a group of statements, while the [`with`](https://docs.python.org/3/reference/compound_stmts.html#with) statement allows the execution of initialization and finalization code around a block of code. Function and class definitions are also syntactically compound statements.\n",
    "\n",
    "A compound statement consists of one or more ‘clauses.’ A clause consists of a header and a ‘suite.’ The clause headers of a particular compound statement are all at the same indentation level. Each clause header begins with a uniquely identifying keyword and ends with a colon. A suite is a group of statements controlled by a clause. A suite can be one or more semicolon-separated simple statements on the same line as the header, following the header’s colon, or it can be one or more indented statements on subsequent lines. Only the latter form of a suite can contain nested compound statements; the following is illegal, mostly because it wouldn’t be clear to which [`if`](https://docs.python.org/3/reference/compound_stmts.html#if) clause a following [`else`](https://docs.python.org/3/reference/compound_stmts.html#else) clause would belong:\n",
    "\n",
    ">  [`if`](https://docs.python.org/3/reference/compound_stmts.html#if)、[`while` ](https://docs.python.org/3/reference/compound_stmts.html#while)和 [`for`](https://docs.python.org/3/reference/compound_stmts.html#for) 语句实现了传统的控制流结构。[`try`](https://docs.python.org/3/reference/compound_stmts.html#try) 为一组语句指定异常处理程序和/或清理代码，而[`with`](https://docs.python.org/3/reference/compound_stmts.html#with) 语句允许围绕一个代码块执行初始化和最终化代码。函数和类的定义在语法上也是复合语句。\n",
    ">\n",
    "> 一个复合语句由一个或多个 'clauses' 组成。一个子句由一个标题和一个'套语'组成。一个特定的复合语句的子句头都在同一缩进水平上。每个子句头以一个唯一的识别关键词开始，以冒号结束。一个套件是由一个子句控制的一组语句。一个套件可以是一个或多个分号分隔的简单语句，与标题在同一行，在标题的冒号之后，也可以是一个或多个缩进的语句，在随后的行中。只有后一种形式的套件可以包含嵌套的复合语句；下面这个是非法的，主要是因为它不清楚下面的 [`if`](https://docs.python.org/3/reference/compound_stmts.html#if) 子句属于哪个 [`else`](https://docs.python.org/3/reference/compound_stmts.html#else) 子句。"
   ]
  },
  {
   "cell_type": "raw",
   "id": "663f6813-4ace-4eca-b507-1d68f2724ba7",
   "metadata": {},
   "source": [
    "if test1: if test2: print(x)"
   ]
  },
  {
   "cell_type": "markdown",
   "id": "3bedc1c3-6505-46f2-a3ff-19a136f44499",
   "metadata": {},
   "source": [
    "Also note that the semicolon binds tighter than the colon in this context, so that in the following example, either all or none of the [`print()`](https://docs.python.org/3/library/functions.html#print) calls are executed:\n",
    "\n",
    "> 还要注意，在这种情况下，分号比冒号结合得更紧，所以在下面的例子中，要么全部执行，要么不执行[`print()`](https://docs.python.org/3/library/functions.html#print)的调用："
   ]
  },
  {
   "cell_type": "code",
   "execution_count": 3,
   "id": "441c5274-10c0-4a39-bb9d-7840a83e9ebd",
   "metadata": {},
   "outputs": [
    {
     "name": "stdout",
     "output_type": "stream",
     "text": [
      "1\n",
      "2\n",
      "3\n"
     ]
    }
   ],
   "source": [
    "x, y, z = 1, 2, 3\n",
    "\n",
    "if x < y < z: print(x); print(y); print(z)"
   ]
  },
  {
   "cell_type": "markdown",
   "id": "d9d2789f-262a-47a3-ab05-e2e283ca92dd",
   "metadata": {},
   "source": [
    "Summarizing:"
   ]
  },
  {
   "cell_type": "raw",
   "id": "cfe7d903-af87-42ed-bb2b-def7519373a7",
   "metadata": {},
   "source": [
    "compound_stmt ::=  if_stmt\n",
    "                   | while_stmt\n",
    "                   | for_stmt\n",
    "                   | try_stmt\n",
    "                   | with_stmt\n",
    "                   | match_stmt\n",
    "                   | funcdef\n",
    "                   | classdef\n",
    "                   | async_with_stmt\n",
    "                   | async_for_stmt\n",
    "                   | async_funcdef\n",
    "suite         ::=  stmt_list NEWLINE | NEWLINE INDENT statement+ DEDENT\n",
    "statement     ::=  stmt_list NEWLINE | compound_stmt\n",
    "stmt_list     ::=  simple_stmt (\";\" simple_stmt)* [\";\"]"
   ]
  },
  {
   "cell_type": "markdown",
   "id": "b267f1f7-e937-4400-9dd5-b7cb9d254934",
   "metadata": {},
   "source": [
    "Note that statements always end in a `NEWLINE` possibly followed by a `DEDENT`. Also note that optional continuation clauses always begin with a keyword that cannot start a statement, thus there are no ambiguities (the ‘dangling [`else`](https://docs.python.org/3/reference/compound_stmts.html#else)’ problem is solved in Python by requiring nested [`if`](https://docs.python.org/3/reference/compound_stmts.html#if) statements to be indented).\n",
    "\n",
    "The formatting of the grammar rules in the following sections places each clause on a separate line for clarity.\n",
    "\n",
    "> 注意，语句总是以 `NEWLINE` 结束，后面可能是 `DEDENT`。还要注意的是，可选的继续句总是以不能开始语句的关键字开始，因此不存在歧义(在Python中，\"悬空的 [`else`](https://docs.python.org/3/reference/compound_stmts.html#else) \"问题通过要求嵌套的 [`if`](https://docs.python.org/3/reference/compound_stmts.html#if) 语句缩进而得到解决)。\n",
    ">\n",
    "> 在下面的章节中，语法规则的格式是将每个子句放在单独的一行，以使其清晰明了。"
   ]
  },
  {
   "cell_type": "markdown",
   "id": "2cb9baa3-fd37-4f5b-a1ff-88139aeb8652",
   "metadata": {},
   "source": [
    "## 8.1. The `if` statement"
   ]
  },
  {
   "cell_type": "markdown",
   "id": "8c0a9ff8-30e2-45fa-9dec-14cc3bf0029c",
   "metadata": {},
   "source": [
    "The [`if`](https://docs.python.org/3/reference/compound_stmts.html#if) statement is used for conditional execution:\n",
    "\n",
    "> [`if`](https://docs.python.org/3/reference/compound_stmts.html#if) 语句用于条件执行。"
   ]
  },
  {
   "cell_type": "raw",
   "id": "89e76693-cdb1-4be9-818e-e864b8acd2db",
   "metadata": {},
   "source": [
    "if_stmt ::=  \"if\" assignment_expression \":\" suite\n",
    "             (\"elif\" assignment_expression \":\" suite)*\n",
    "             [\"else\" \":\" suite]"
   ]
  },
  {
   "cell_type": "markdown",
   "id": "c9e6676b-51c6-47b6-b98d-38bb1dbe4818",
   "metadata": {},
   "source": [
    "It selects exactly one of the suites by evaluating the expressions one by one until one is found to be true (see section [Boolean operations](https://docs.python.org/3/reference/expressions.html#booleans) for the definition of true and false); then that suite is executed (and no other part of the [`if`](https://docs.python.org/3/reference/compound_stmts.html#if) statement is executed or evaluated). If all expressions are false, the suite of the [`else`](https://docs.python.org/3/reference/compound_stmts.html#else) clause, if present, is executed.\n",
    "\n",
    "> 它通过逐一运算求值表达式，准确地选择其中一个套路，直到发现有一个表达式为真（关于真和假的定义，见[布尔运算](https://docs.python.org/3/reference/expressions.html#booleans)一节）；然后执行该套路（[`if`](https://docs.python.org/3/reference/compound_stmts.html#if) 语句的其他部分不被执行或运算求值）。如果所有的表达式都是假的，则执行 [`else`](https://docs.python.org/3/reference/compound_stmts.html#else) 子句的套件（如果存在）。"
   ]
  },
  {
   "cell_type": "markdown",
   "id": "89481a50-9368-4425-9d53-32603fb4ac6c",
   "metadata": {},
   "source": [
    "## 8.2. The `while` statement"
   ]
  },
  {
   "cell_type": "markdown",
   "id": "aaa22431-d19f-4a02-ac2d-3464c02d3fad",
   "metadata": {},
   "source": [
    "The [`while`](https://docs.python.org/3/reference/compound_stmts.html#while) statement is used for repeated execution as long as an expression is true:\n",
    "\n",
    "> [`while` ](https://docs.python.org/3/reference/compound_stmts.html#while)语句用于重复执行，只要一个表达式为真："
   ]
  },
  {
   "cell_type": "raw",
   "id": "ba3c0201-d66d-47f5-81a4-95421e6155aa",
   "metadata": {},
   "source": [
    "while_stmt ::=  \"while\" assignment_expression \":\" suite\n",
    "                [\"else\" \":\" suite]"
   ]
  },
  {
   "cell_type": "markdown",
   "id": "f92887fb-e9e7-48b1-b910-42896b620dde",
   "metadata": {},
   "source": [
    "This repeatedly tests the expression and, if it is true, executes the first suite; if the expression is false (which may be the first time it is tested) the suite of the `else` clause, if present, is executed and the loop terminates.\n",
    "\n",
    "A [`break`](https://docs.python.org/3/reference/simple_stmts.html#break) statement executed in the first suite terminates the loop without executing the `else` clause’s suite. A [`continue`](https://docs.python.org/3/reference/simple_stmts.html#continue) statement executed in the first suite skips the rest of the suite and goes back to testing the expression.\n",
    "\n",
    "> 这将重复测试表达式，如果是真的，将执行第一个套件；如果表达式是假的（这可能是第一次测试），将执行 `else` 子句的套件（如果存在），并终止循环。\n",
    ">\n",
    "> 在第一个套件中执行的 [`break`](https://docs.python.org/3/reference/simple_stmts.html#break) 语句终止循环，而不执行`else`子句的套件。在第一个套件中执行的 [`continue`](https://docs.python.org/3/reference/simple_stmts.html#continue) 语句会跳过该套件的其余部分，回到测试表达式。"
   ]
  },
  {
   "cell_type": "code",
   "execution_count": 12,
   "id": "daeca520-83b0-4336-8b77-3b91c4ec77fb",
   "metadata": {},
   "outputs": [
    {
     "name": "stdout",
     "output_type": "stream",
     "text": [
      "9\n"
     ]
    }
   ],
   "source": [
    "a = 1\n",
    "while a < 10:\n",
    "    a += 1\n",
    "    if a // 3 == 3:\n",
    "        print(a)\n",
    "        break\n",
    "    else:\n",
    "        continue"
   ]
  },
  {
   "cell_type": "markdown",
   "id": "67b928a8-73dc-4339-9864-dd41a3bce1dc",
   "metadata": {},
   "source": [
    "## 8.3. The `for` statement"
   ]
  },
  {
   "cell_type": "markdown",
   "id": "0e0c6070-b79b-4cbd-b323-a2842968419f",
   "metadata": {},
   "source": [
    "The [`for`](https://docs.python.org/3/reference/compound_stmts.html#for) statement is used to iterate over the elements of a sequence (such as a string, tuple or list) or other iterable object:\n",
    "\n",
    "> [`for`](https://docs.python.org/3/reference/compound_stmts.html#for) 语句用于迭代一个序列（如字符串、元组或列表）或其他可迭代对象的元素："
   ]
  },
  {
   "cell_type": "raw",
   "id": "5780265b-7f0c-4e28-8e59-89c85e8c7f58",
   "metadata": {},
   "source": [
    "for_stmt ::=  \"for\" target_list \"in\" expression_list \":\" suite\n",
    "              [\"else\" \":\" suite]"
   ]
  },
  {
   "cell_type": "markdown",
   "id": "090bce2f-09d3-47ad-8f26-042b3b10d37d",
   "metadata": {},
   "source": [
    "he expression list is evaluated once; it should yield an iterable object. An iterator is created for the result of the `expression_list`. The suite is then executed once for each item provided by the iterator, in the order returned by the iterator. Each item in turn is assigned to the target list using the standard rules for assignments (see [Assignment statements](https://docs.python.org/3/reference/simple_stmts.html#assignment)), and then the suite is executed. When the items are exhausted (which is immediately when the sequence is empty or an iterator raises a [`StopIteration`](https://docs.python.org/3/library/exceptions.html#StopIteration) exception), the suite in the `else` clause, if present, is executed, and the loop terminates.\n",
    "\n",
    "> 表达式列表被运算求值一次；它应该产生一个可迭代对象。为 `expression_list` 的结果创建一个迭代器。然后按照迭代器返回的顺序，对迭代器提供的每个项目执行一次套件。每个项目依次被分配到目标列表中，使用标准的分配规则（见 [Assignment statements](https://docs.python.org/3/reference/simple_stmts.html#assignment)），然后执行该套件。当项目用完时（当序列为空或迭代器引发 [`StopIteration`](https://docs.python.org/3/library/exceptions.html#StopIteration) 异常时），立即执行 `else` 子句中的套件，如果存在的话，循环结束。"
   ]
  },
  {
   "cell_type": "code",
   "execution_count": 23,
   "id": "459aba80-b14c-4f28-b606-3248dee69919",
   "metadata": {},
   "outputs": [
    {
     "name": "stdout",
     "output_type": "stream",
     "text": [
      "0\n",
      "1\n",
      "2\n",
      "3\n",
      "4\n",
      "5\n",
      "6\n",
      "7\n",
      "8\n",
      "9\n",
      "it's exhausted\n"
     ]
    }
   ],
   "source": [
    "for i in range(10):\n",
    "    print(i)\n",
    "else:\n",
    "    print(\"it's exhausted\")"
   ]
  },
  {
   "cell_type": "markdown",
   "id": "7b24de4a-66bc-4ddd-94fb-07a347da0701",
   "metadata": {},
   "source": [
    "A [`break`](https://docs.python.org/3/reference/simple_stmts.html#break) statement executed in the first suite terminates the loop without executing the `else` clause’s suite. A [`continue`](https://docs.python.org/3/reference/simple_stmts.html#continue) statement executed in the first suite skips the rest of the suite and continues with the next item, or with the `else` clause if there is no next item.\n",
    "\n",
    "> 在第一个套件中执行的 [`break`](https://docs.python.org/3/reference/simple_stmts.html#break) 语句会终止循环，而不执行 `else` 子句的套件。在第一个套件中执行的[`continue`](https://docs.python.org/3/reference/simple_stmts.html#continue) 语句跳过套件的其余部分，继续执行下一个项目，如果没有下一个项目，则执行 `else` 子句。"
   ]
  },
  {
   "cell_type": "code",
   "execution_count": 26,
   "id": "a44b0e8a-9033-4d55-a282-bfabbece3706",
   "metadata": {},
   "outputs": [
    {
     "name": "stdout",
     "output_type": "stream",
     "text": [
      "0\n",
      "2\n",
      "4\n",
      "6\n",
      "8\n",
      "10\n",
      "find all even number within 10\n"
     ]
    }
   ],
   "source": [
    "for i in range(11):\n",
    "    if i % 2 ==0:\n",
    "        print(i)\n",
    "        continue\n",
    "else:\n",
    "    print(\"find all even number within 10\")"
   ]
  },
  {
   "cell_type": "markdown",
   "id": "1caea70f-6e38-4355-a561-f9297a89a7ef",
   "metadata": {},
   "source": [
    "The for-loop makes assignments to the variables in the target list. This overwrites all previous assignments to those variables including those made in the suite of the for-loop:\n",
    "\n",
    "> for-loop 会对目标列表中的变量进行赋值。这将覆盖之前对这些变量的所有赋值，包括在for-loop套件中的赋值。"
   ]
  },
  {
   "cell_type": "code",
   "execution_count": 28,
   "id": "542f8763-c8e5-47c0-b6d0-cf4f9d151e6f",
   "metadata": {},
   "outputs": [
    {
     "name": "stdout",
     "output_type": "stream",
     "text": [
      "0\n",
      "1\n",
      "2\n",
      "3\n",
      "4\n",
      "5\n",
      "6\n",
      "7\n",
      "8\n",
      "9\n"
     ]
    }
   ],
   "source": [
    "for i in range(10):\n",
    "    print(i)\n",
    "    i = 5    # this will not affect the for-loop\n",
    "             # because i will be overwritten with the next\n",
    "             # index in the range"
   ]
  },
  {
   "cell_type": "markdown",
   "id": "7c3adbfb-f655-432f-a4ef-cf9af4205c4b",
   "metadata": {},
   "source": [
    "Names in the target list are not deleted when the loop is finished, but if the sequence is empty, they will not have been assigned to at all by the loop. Hint: the built-in function [`range()`](https://docs.python.org/3/library/stdtypes.html#range) returns an iterator of integers suitable to emulate the effect of Pascal’s `for i := a to b do`; e.g., `list(range(3))` returns the list `[0, 1, 2]`.\n",
    "\n",
    "> 循环结束后，目标列表中的名字不会被删除，但如果序列是空的，它们就根本没有被循环分配到。提示：内置函数 [`range()`](https://docs.python.org/3/library/stdtypes.html#range) 返回一个整数的迭代器，适合模仿Pascal的 `for i := a to b do` 的效果；例如，`list(range(3)) `返回列表 `[0, 1, 2]` 。"
   ]
  },
  {
   "cell_type": "code",
   "execution_count": 31,
   "id": "b3f6df96-9348-464b-b89b-f5749d77ad07",
   "metadata": {},
   "outputs": [
    {
     "name": "stdout",
     "output_type": "stream",
     "text": [
      "0\n",
      "2\n"
     ]
    }
   ],
   "source": [
    "for i in list(range(4)):\n",
    "    if i % 2 == 0:\n",
    "        print(i)\n",
    "        continue\n",
    "    if i == 3:\n",
    "        break\n",
    "else:\n",
    "    print(\"can't find an even number\")"
   ]
  },
  {
   "cell_type": "markdown",
   "id": "ad5158ba-62c7-427c-b0d0-015ae4fd91a2",
   "metadata": {},
   "source": [
    "## 8.4. The `try` statement"
   ]
  },
  {
   "cell_type": "markdown",
   "id": "5fa3a4b8-b884-4274-a77c-75a19b3294a3",
   "metadata": {},
   "source": [
    "The [`try`](https://docs.python.org/3/reference/compound_stmts.html#try) statement specifies exception handlers and/or cleanup code for a group of statements:\n",
    "\n",
    "> [`try`](https://docs.python.org/3/reference/compound_stmts.html#try) 语句为一组语句指定异常处理程序和/或清理代码："
   ]
  },
  {
   "cell_type": "raw",
   "id": "cc52daa9-2afe-4ac6-91e1-cd7594d97036",
   "metadata": {},
   "source": [
    "try_stmt  ::=  try1_stmt | try2_stmt\n",
    "try1_stmt ::=  \"try\" \":\" suite\n",
    "               (\"except\" [expression [\"as\" identifier]] \":\" suite)+\n",
    "               [\"else\" \":\" suite]\n",
    "               [\"finally\" \":\" suite]\n",
    "try2_stmt ::=  \"try\" \":\" suite\n",
    "               \"finally\" \":\" suite"
   ]
  },
  {
   "cell_type": "markdown",
   "id": "fc331edd-b53b-4ced-973f-a0ce03537f48",
   "metadata": {},
   "source": [
    "The [`except`](https://docs.python.org/3/reference/compound_stmts.html#except) clause(s) specify one or more exception handlers. When no exception occurs in the [`try`](https://docs.python.org/3/reference/compound_stmts.html#try) clause, no exception handler is executed. When an exception occurs in the `try` suite, a search for an exception handler is started. This search inspects the except clauses in turn until one is found that matches the exception. An expression-less except clause, if present, must be last; it matches any exception. For an except clause with an expression, that expression is evaluated, and the clause matches the exception if the resulting object is “compatible” with the exception. An object is compatible with an exception if the object is the class or a [non-virtual base class](https://docs.python.org/3/glossary.html#term-abstract-base-class) of the exception object, or a tuple containing an item that is the class or a non-virtual base class of the exception object.\n",
    "\n",
    "> [`except`](https://docs.python.org/3/reference/compound_stmts.html#except) 子句指定一个或多个异常处理程序。当 [`try`](https://docs.python.org/3/reference/compound_stmts.html#try) 子句中没有出现异常时，不执行异常处理程序。当  [`try`](https://docs.python.org/3/reference/compound_stmts.html#try)  子句中出现异常时，就会开始搜索异常处理程序。这个搜索依次检查except子句，直到找到一个与该异常相匹配的子句。如果存在一个**无表达式**的 except 子句，那么它必须是最后一个；它可以匹配任何异常。对于有表达式的 except 子句，这个表达式会被运算求值，如果产生的对象与异常 \"兼容\"，那么这个子句就与异常匹配。如果一个对象是异常对象的类或[non-virtual base class](https://docs.python.org/3/glossary.html#term-abstract-base-class)，或者一个包含异常对象的类或非虚拟基类(non-virtual base class)的项的元组，那么该对象就与异常兼容。"
   ]
  },
  {
   "cell_type": "markdown",
   "id": "fd22426c-d85b-43f5-8153-bae34694bf81",
   "metadata": {},
   "source": [
    "If no except clause matches the exception, the search for an exception handler continues in the surrounding code and on the invocation stack. [1]\n",
    "\n",
    "If the evaluation of an expression in the header of an except clause raises an exception, the original search for a handler is canceled and a search starts for the new exception in the surrounding code and on the call stack (it is treated as if the entire [`try`](https://docs.python.org/3/reference/compound_stmts.html#try) statement raised the exception).\n",
    "\n",
    "> 如果没有except子句与该异常相匹配，则继续在周围的代码和调用堆栈中搜索异常处理程序。[1]\n",
    ">\n",
    "> 如果对except子句头部的表达式的运算求值引发了一个异常，那么原来对处理程序的搜索将被取消，并开始在周围的代码和调用堆栈中搜索新的异常（它被视为整个 [`try`](https://docs.python.org/3/reference/compound_stmts.html#try) 语句引发的异常）。"
   ]
  },
  {
   "cell_type": "markdown",
   "id": "4c17b527-c64d-40a5-984b-ec82ceb5203a",
   "metadata": {},
   "source": [
    "When a matching except clause is found, the exception is assigned to the target specified after the `as` keyword in that except clause, if present, and the except clause’s suite is executed. All except clauses must have an executable block. When the end of this block is reached, execution continues normally after the entire try statement. (This means that if two nested handlers exist for the same exception, and the exception occurs in the try clause of the inner handler, the outer handler will not handle the exception.)\n",
    "\n",
    "When an exception has been assigned using `as target`, it is cleared at the end of the except clause. This is as if\n",
    "\n",
    "> 当找到一个匹配的 except 子句时，如果存在的话，异常会被分配到该 except 子句中的 `as` 关键字后面指定的目标，并且执行该 except 子句的套件。所有的例外子句必须有一个可执行块。当到达这个块的末端时，在整个try语句之后继续正常执行。(这意味着如果为同一个异常存在两个嵌套的处理程序，并且异常发生在内部处理程序的try子句中，外部处理程序将不会处理这个异常)。\n",
    ">\n",
    "> 当使用 `as target` 分配了一个异常时，它将在except子句的末尾被清除。这就像"
   ]
  },
  {
   "cell_type": "raw",
   "id": "f6e020ad-a030-4e4a-89b6-382a7ae0661f",
   "metadata": {},
   "source": [
    "except E as N:\n",
    "    foo"
   ]
  },
  {
   "cell_type": "markdown",
   "id": "614eee5a-ada2-4268-9479-18d95370c545",
   "metadata": {},
   "source": [
    "was translated to"
   ]
  },
  {
   "cell_type": "raw",
   "id": "2ef17b96-9ee3-4072-9fb9-ff57f23d1b89",
   "metadata": {},
   "source": [
    "except E as N:\n",
    "    try:\n",
    "        foo\n",
    "    finally:\n",
    "        del N"
   ]
  },
  {
   "cell_type": "markdown",
   "id": "a5c866d5-d8b6-4da5-90d7-47ce1000879a",
   "metadata": {},
   "source": [
    "This means the exception must be assigned to a different name to be able to refer to it after the except clause. Exceptions are cleared because with the traceback attached to them, they form a reference cycle with the stack frame, keeping all locals in that frame alive until the next garbage collection occurs.\n",
    "\n",
    "Before an except clause’s suite is executed, details about the exception are stored in the [`sys`](https://docs.python.org/3/library/sys.html#module-sys) module and can be accessed via [`sys.exc_info()`](https://docs.python.org/3/library/sys.html#sys.exc_info). [`sys.exc_info()`](https://docs.python.org/3/library/sys.html#sys.exc_info) returns a 3-tuple consisting of the exception class, the exception instance and a traceback object (see section [The standard type hierarchy](https://docs.python.org/3/reference/datamodel.html#types)) identifying the point in the program where the exception occurred. The details about the exception accessed via [`sys.exc_info()`](https://docs.python.org/3/library/sys.html#sys.exc_info) are restored to their previous values when leaving an exception handler:\n",
    "\n",
    "> 这意味着异常必须被赋予一个不同的名字，以便在 except 子句之后能够引用它。异常被清除的原因是，随着跟踪记录的附加，它们与**堆栈框架**形成了一个引用循环，使该框架中的所有定位点保持活力，直到下一次垃圾回收发生。\n",
    ">\n",
    "> 在执行except子句的套件之前，关于异常的细节被存储在 [`sys`](https://docs.python.org/3/library/sys.html#module-sys )模块中，可以通过[`sys.exc_info()`](https://docs.python.org/3/library/sys.html#sys.exc_info)访问。[`sys.exc_info()`](https://docs.python.org/3/library/sys.html#sys.exc_info)返回一个由异常类别、异常实例和回溯对象（见[标准类型层次结构](https://docs.python.org/3/reference/datamodel.html#types)一节）组成的三元组，用于识别程序中发生异常的位置。当离开异常处理程序时，通过 [`sys.exc_info()`](https://docs.python.org/3/library/sys.html#sys.exc_info) 访问的关于异常的细节会恢复到以前的值："
   ]
  },
  {
   "cell_type": "code",
   "execution_count": 6,
   "id": "4c585afb-8b45-4662-8d39-87201c1d0ef2",
   "metadata": {},
   "outputs": [
    {
     "name": "stdout",
     "output_type": "stream",
     "text": [
      "(None, None, None)\n",
      "(<class 'TypeError'>, TypeError(), <traceback object at 0x0000025310BB15C0>)\n",
      "(<class 'ValueError'>, ValueError(), <traceback object at 0x0000025310BB1140>)\n",
      "(<class 'TypeError'>, TypeError(), <traceback object at 0x0000025310BB15C0>)\n",
      "(None, None, None)\n"
     ]
    }
   ],
   "source": [
    "import sys\n",
    "\n",
    "print(sys.exc_info())\n",
    "\n",
    "try:\n",
    "    raise TypeError\n",
    "except:\n",
    "    print(sys.exc_info())\n",
    "    try:\n",
    "        raise ValueError\n",
    "    except:\n",
    "        print(sys.exc_info())\n",
    "    print(sys.exc_info())\n",
    "    \n",
    "    \n",
    "print(sys.exc_info())"
   ]
  },
  {
   "cell_type": "markdown",
   "id": "5d0ce112-0312-44d8-97c7-094b118d063f",
   "metadata": {},
   "source": [
    "The optional `else` clause is executed if the control flow leaves the [`try`](https://docs.python.org/3/reference/compound_stmts.html#try) suite, no exception was raised, and no [`return`](https://docs.python.org/3/reference/simple_stmts.html#return), [`continue`](https://docs.python.org/3/reference/simple_stmts.html#continue), or [`break`](https://docs.python.org/3/reference/simple_stmts.html#break) statement was executed. Exceptions in the `else` clause are not handled by the preceding [`except`](https://docs.python.org/3/reference/compound_stmts.html#except) clauses.\n",
    "\n",
    "If [`finally`](https://docs.python.org/3/reference/compound_stmts.html#finally) is present, it specifies a ‘cleanup’ handler. The [`try`](https://docs.python.org/3/reference/compound_stmts.html#try) clause is executed, including any [`except`](https://docs.python.org/3/reference/compound_stmts.html#except) and `else` clauses. If an exception occurs in any of the clauses and is not handled, the exception is temporarily saved. The `finally` clause is executed. If there is a saved exception it is re-raised at the end of the `finally` clause. If the `finally` clause raises another exception, the saved exception is set as the context of the new exception. If the `finally` clause executes a [`return`](https://docs.python.org/3/reference/simple_stmts.html#return), [`break`](https://docs.python.org/3/reference/simple_stmts.html#break) or [`continue`](https://docs.python.org/3/reference/simple_stmts.html#continue) statement, the saved exception is discarded:\n",
    "\n",
    "> 如果控制流离开了 [`try`](https://docs.python.org/3/reference/compound_stmts.html#try) 套件，没有产生异常，并且没有执行 [`return`](https://docs.python.org/3/reference/simple_stmts.html#return)、[`continue`](https://docs.python.org/3/reference/simple_stmts.html#continue) 或 [`break`](https://docs.python.org/3/reference/simple_stmts.html#break) 语句，则执行可选的 `else` 子句。`else` 子句中的异常不被前面的 [`except`](https://docs.python.org/3/reference/compound_stmts.html#except) 子句所处理。\n",
    ">\n",
    "> 如果出现了 [`finally`](https://docs.python.org/3/reference/compound_stmts.html#finally)，它指定了一个 'cleanup' 处理程序。[`try`](https://docs.python.org/3/reference/compound_stmts.html#try) 子句被执行，包括任何 [`except`](https://docs.python.org/3/reference/compound_stmts.html#except) 和 `else` 子句。如果在任何一个子句中出现了异常并且没有被处理，那么这个异常将被暂时保存。`finally`子句被执行。如果有一个被保存的异常，它会在 `finally` 子句的末尾被重新引发。如果 `finally` 子句引发了另一个异常，那么保存的异常会被设置为新异常的上下文。如果 `finally` 子句执行了 [`return`](https://docs.python.org/3/reference/simple_stmts.html#return), [`break`](https://docs.python.org/3/reference/simple_stmts.html#break)或者[`continue`](https://docs.python.org/3/reference/simple_stmts.html#continue)语句，保存的异常将被丢弃："
   ]
  },
  {
   "cell_type": "code",
   "execution_count": 3,
   "id": "c66de524-597a-4386-9bd2-5497b4319c15",
   "metadata": {},
   "outputs": [
    {
     "data": {
      "text/plain": [
       "42"
      ]
     },
     "execution_count": 3,
     "metadata": {},
     "output_type": "execute_result"
    }
   ],
   "source": [
    "def f():\n",
    "    try:\n",
    "        1/0\n",
    "    finally:\n",
    "        return 42\n",
    "    \n",
    "f()"
   ]
  },
  {
   "cell_type": "markdown",
   "id": "b60d6535-2055-4221-811d-7b9699abe955",
   "metadata": {},
   "source": [
    "The exception information is not available to the program during execution of the [`finally`](https://docs.python.org/3/reference/compound_stmts.html#finally) clause.\n",
    "\n",
    "When a [`return`](https://docs.python.org/3/reference/simple_stmts.html#return), [`break`](https://docs.python.org/3/reference/simple_stmts.html#break) or [`continue`](https://docs.python.org/3/reference/simple_stmts.html#continue) statement is executed in the [`try`](https://docs.python.org/3/reference/compound_stmts.html#try) suite of a `try`…`finally` statement, the [`finally`](https://docs.python.org/3/reference/compound_stmts.html#finally) clause is also executed ‘on the way out.’\n",
    "\n",
    "The return value of a function is determined by the last [`return`](https://docs.python.org/3/reference/simple_stmts.html#return) statement executed. Since the [`finally`](https://docs.python.org/3/reference/compound_stmts.html#finally) clause always executes, a `return` statement executed in the `finally` clause will always be the last one executed:\n",
    "\n",
    "> 在执行 [`finally`](https://docs.python.org/3/reference/compound_stmts.html#finally) 子句时，程序无法获得异常信息。\n",
    ">\n",
    "> 当 [`return`](https://docs.python.org/3/reference/simple_stmts.html#return)、[`break`](https://docs.python.org/3/reference/simple_stmts.html#break) 或 [`continue`](https://docs.python.org/3/reference/simple_stmts.html#continue) 语句在 `try...finally ` 语句的 [`try`](https://docs.python.org/3/reference/compound_stmts.html#try) 套件中执行时，[`finally`](https://docs.python.org/3/reference/compound_stmts.html#finally) 子句也会 \"顺路\"执行。\n",
    ">\n",
    "> 一个函数的返回值是由最后执行的 [`return`](https://docs.python.org/3/reference/simple_stmts.html#return) 语句决定的。由于 [`finally`](https://docs.python.org/3/reference/compound_stmts.html#finally) 子句总是被执行，在 `finally` 子句中执行的 `return` 语句总是最后被执行："
   ]
  },
  {
   "cell_type": "code",
   "execution_count": 4,
   "id": "fc200b57-a698-4f46-9182-5c8bfdb5687c",
   "metadata": {},
   "outputs": [
    {
     "data": {
      "text/plain": [
       "'finally'"
      ]
     },
     "execution_count": 4,
     "metadata": {},
     "output_type": "execute_result"
    }
   ],
   "source": [
    "def foo():\n",
    "    try:\n",
    "        return 'try'\n",
    "    finally:\n",
    "        return 'finally'\n",
    "    \n",
    "    \n",
    "foo()"
   ]
  },
  {
   "cell_type": "markdown",
   "id": "19533597-d30b-4fd1-b063-abc603efed80",
   "metadata": {},
   "source": [
    "Additional information on exceptions can be found in section [Exceptions](https://docs.python.org/3/reference/executionmodel.html#exceptions), and information on using the [`raise`](https://docs.python.org/3/reference/simple_stmts.html#raise) statement to generate exceptions may be found in section [The raise statement](https://docs.python.org/3/reference/simple_stmts.html#raise).\n",
    "\n",
    "*Changed in version 3.8:* Prior to Python 3.8, a [`continue`](https://docs.python.org/3/reference/simple_stmts.html#continue) statement was illegal in the [`finally`](https://docs.python.org/3/reference/compound_stmts.html#finally) clause due to a problem with the implementation.\n",
    "\n",
    "> 关于异常的其他信息可以在 [Exceptions](https://docs.python.org/3/reference/executionmodel.html#exceptions) 一节中找到，关于使用 [`raise`](https://docs.python.org/3/reference/simple_stmts.html#raise) 语句来产生异常的信息可以在 [The raise statement](https://docs.python.org/3/reference/simple_stmts.html#raise) 一节中找到。\n",
    ">\n",
    "> *在3.8版本中改变了：* 在Python 3.8之前，由于实现上的问题，[`finally`](https://docs.python.org/3/reference/compound_stmts.html#finally) 子句中的 [`continue`](https://docs.python.org/3/reference/simple_stmts.html#continue) 语句是非法的。"
   ]
  },
  {
   "cell_type": "markdown",
   "id": "d6ec4ed1-6001-4fdc-bc11-f63283eec16f",
   "metadata": {},
   "source": [
    "## 8.5. The `with` statement"
   ]
  },
  {
   "cell_type": "markdown",
   "id": "9f21e4f9-f21d-452d-bb6c-3a88eb341a89",
   "metadata": {},
   "source": [
    "The [`with`](https://docs.python.org/3/reference/compound_stmts.html#with) statement is used to wrap the execution of a block with methods defined by a context manager (see section [With Statement Context Managers](https://docs.python.org/3/reference/datamodel.html#context-managers)). This allows common [`try`](https://docs.python.org/3/reference/compound_stmts.html#try)…[`except`](https://docs.python.org/3/reference/compound_stmts.html#except)…[`finally`](https://docs.python.org/3/reference/compound_stmts.html#finally) usage patterns to be encapsulated for convenient reuse.\n",
    "\n",
    "> [`with`](https://docs.python.org/3/reference/compound_stmts.html#with) 语句用于将一个块的执行与上下文管理器定义的方法包装起来（见[与语句上下文管理器](https://docs.python.org/3/reference/datamodel.html#context-managers)一节）。这使得常见的 [`try`](https://docs.python.org/3/reference/compound_stmts.html#try)...[`except`](https://docs.python.org/3/reference/compound_stmts.html#except)...[`finally`](https://docs.python.org/3/reference/compound_stmts.html#finally) 使用模式被封装起来，方便重复使用。"
   ]
  },
  {
   "cell_type": "raw",
   "id": "bc0cf72a-14df-4fa2-b188-e138294acfdc",
   "metadata": {},
   "source": [
    "with_stmt          ::=  \"with\" ( \"(\" with_stmt_contents \",\"? \")\" | with_stmt_contents ) \":\" suite\n",
    "with_stmt_contents ::=  with_item (\",\" with_item)*\n",
    "with_item          ::=  expression [\"as\" target]"
   ]
  },
  {
   "cell_type": "markdown",
   "id": "7eae940d-7249-426a-a143-a92bba50b6c5",
   "metadata": {},
   "source": [
    "The execution of the [`with`](https://docs.python.org/3/reference/compound_stmts.html#with) statement with one “item” proceeds as follows:\n",
    "\n",
    "1. The context expression (the expression given in the [`with_item`](https://docs.python.org/3/reference/compound_stmts.html#grammar-token-python-grammar-with_item)) is evaluated to obtain a context manager.\n",
    "\n",
    "2. The context manager’s `__enter__()` is loaded for later use.\n",
    "\n",
    "3. The context manager’s `__exit__()` is loaded for later use.\n",
    "\n",
    "4. The context manager’s `__enter__()` method is invoked.\n",
    "\n",
    "5. If a target was included in the [`with`](https://docs.python.org/3/reference/compound_stmts.html#with) statement, the return value from `__enter__()` is assigned to it.\n",
    "\n",
    "   Note\n",
    "\n",
    "   The [`with`](https://docs.python.org/3/reference/compound_stmts.html#with) statement guarantees that if the `__enter__()` method returns without an error, then `__exit__()` will always be called. Thus, if an error occurs during the assignment to the target list, it will be treated the same as an error occurring within the suite would be. See step 6 below.\n",
    "\n",
    "6. The suite is executed.\n",
    "\n",
    "7. The context manager’s `__exit__()` method is invoked. If an exception caused the suite to be exited, its type, value, and traceback are passed as arguments to `__exit__()`. Otherwise, three [`None`](https://docs.python.org/3/library/constants.html#None) arguments are supplied.\n",
    "\n",
    "   If the suite was exited due to an exception, and the return value from the `__exit__()` method was false, the exception is reraised. If the return value was true, the exception is suppressed, and execution continues with the statement following the [`with`](https://docs.python.org/3/reference/compound_stmts.html#with) statement.\n",
    "\n",
    "   If the suite was exited for any reason other than an exception, the return value from `__exit__()` is ignored, and execution proceeds at the normal location for the kind of exit that was taken.\n",
    "\n",
    "> 有一个 \"item\"的 [`with`](https://docs.python.org/3/reference/compound_stmts.html#with) 语句的执行过程如下：\n",
    ">\n",
    "> 1. 上下文表达式（在 [`with_item`](https://docs.python.org/3/reference/compound_stmts.html#grammar-token-python-grammar-with_item) 中给出的表达式）被运算求值以获得一个上下文管理器。\n",
    ">\n",
    "> 2. 2. 上下文管理器的 `__enter__()` 被加载，以便以后使用。\n",
    ">\n",
    "> 3. 3. 上下文管理器的 `__exit__()` 被加载，以供以后使用。\n",
    ">\n",
    "> 4. 4. 上下文管理器的 `__enter__()` 方法被调用。\n",
    ">\n",
    "> 5. 5. 如果在 [`with`](https://docs.python.org/3/reference/compound_stmts.html#with) 语句中包含了一个目标，那么来自 `__enter__()` 的返回值被分配给它。\n",
    ">\n",
    ">    注意\n",
    ">\n",
    ">    [`with`](https://docs.python.org/3/reference/compound_stmts.html#with) 语句保证，如果 `enter__()` 方法返回时没有错误，那么 `exit__()` 将总是被调用。因此，如果在向目标列表赋值的过程中发生错误，它的处理方式将与在套件中发生的错误相同。参见下面的第 6 步。\n",
    ">\n",
    "> 6. 该套件被执行。\n",
    ">\n",
    "> 7. 上下文管理器的 `__exit__()` 方法被调用。如果一个异常导致套件被退出，它的类型、值和回溯将作为参数传递给 `__exit__()`。否则，将提供三个 [`None`](https://docs.python.org/3/library/constants.html#None) 参数。\n",
    ">\n",
    ">    如果套件由于一个异常而被退出，并且 `__exit__()` 方法的返回值是false，那么该异常将被重新引发。如果返回值为真，则异常被抑制，并继续执行 [`with`](https://docs.python.org/3/reference/compound_stmts.html#with) 语句之后的语句。\n",
    ">\n",
    ">    如果套件因异常以外的任何原因被退出，`__exit__() `的返回值将被忽略，并在所采取的退出方式的正常位置继续执行。"
   ]
  },
  {
   "cell_type": "markdown",
   "id": "bd3cf1a0-94b6-4a05-811c-892783ae492f",
   "metadata": {},
   "source": [
    "The following code:"
   ]
  },
  {
   "cell_type": "raw",
   "id": "74eeea21-a7ec-4c03-b956-491394c0f40c",
   "metadata": {},
   "source": [
    "with EXPRESSION as TARGET:\n",
    "    SUITE"
   ]
  },
  {
   "cell_type": "markdown",
   "id": "c0873fcb-b4c7-4367-ae4d-2c40630e3b71",
   "metadata": {},
   "source": [
    "is semantically equivalent to:"
   ]
  },
  {
   "cell_type": "raw",
   "id": "3463bfa3-2ab3-4ee8-9671-a1ac5284f48e",
   "metadata": {},
   "source": [
    "manager = (EXPRESSION)\n",
    "enter = type(manager).__enter__\n",
    "exit = type(manager).__exit__\n",
    "value = enter(manager)\n",
    "hit_except = False\n",
    "\n",
    "try:\n",
    "    TARGET = value\n",
    "    SUITE\n",
    "except:\n",
    "    hit_except = True\n",
    "    if not exit(manager, *sys.exc_info()):\n",
    "        raise\n",
    "finally:\n",
    "    if not hit_except:\n",
    "        exit(manager, None, None, None)"
   ]
  },
  {
   "cell_type": "markdown",
   "id": "7368ca05-958c-46f5-9034-8538aa7165cc",
   "metadata": {},
   "source": [
    "With more than one item, the context managers are processed as if multiple [`with`](https://docs.python.org/3/reference/compound_stmts.html#with) statements were nested:\n",
    "\n",
    "> 如果有一个以上的item，上下文管理器的处理就像多个 [`with`](https://docs.python.org/3/reference/compound_stmts.html#with) 语句的嵌套："
   ]
  },
  {
   "cell_type": "raw",
   "id": "084e2a54-320c-4ac5-8e7a-0b552a696f28",
   "metadata": {},
   "source": [
    "with A() as a, B() as b:\n",
    "    SUITE"
   ]
  },
  {
   "cell_type": "markdown",
   "id": "01a3d1a8-98d8-4e9b-9861-645bee4c18fe",
   "metadata": {},
   "source": [
    "is semantically equivalent to:"
   ]
  },
  {
   "cell_type": "raw",
   "id": "b2e319ec-339b-462f-b6f9-241bf75cc1c1",
   "metadata": {},
   "source": [
    "with A() as a:\n",
    "    with B() as b:\n",
    "        SUITE"
   ]
  },
  {
   "cell_type": "markdown",
   "id": "a8e05a6f-d107-4c0c-9d97-921208edd782",
   "metadata": {},
   "source": [
    "You can also write multi-item context managers in multiple lines if the items are surrounded by parentheses. For example:\n",
    "\n",
    "> 如果items被括号包围，你也可以在多行中编写多项目的上下文管理。比如说："
   ]
  },
  {
   "cell_type": "raw",
   "id": "a4027d1b-d39b-4e26-85ae-4416b028cee3",
   "metadata": {},
   "source": [
    "with (\n",
    "    A() as a,\n",
    "    B() as b,\n",
    "):\n",
    "    SUITE"
   ]
  },
  {
   "cell_type": "markdown",
   "id": "f9ced1dd-2503-47b7-9bad-8a20adb167a0",
   "metadata": {},
   "source": [
    "*Changed in version 3.1:* Support for multiple context expressions.\n",
    "\n",
    "*Changed in version 3.10:* Support for using grouping parentheses to break the statement in multiple lines.\n",
    "\n",
    "> *在3.1版中做了修改：*支持多个上下文表达。\n",
    ">\n",
    "> *在3.10版中改变了：*支持使用分组小括号将语句分成多行。"
   ]
  },
  {
   "cell_type": "markdown",
   "id": "7d892e18-f64f-44ea-90ce-48a5a1ba16a6",
   "metadata": {},
   "source": [
    "**See also:**\n",
    "\n",
    "- [**PEP 343**](https://www.python.org/dev/peps/pep-0343) - The “with” statement\n",
    "\n",
    "  The specification, background, and examples for the Python [`with`](https://docs.python.org/3/reference/compound_stmts.html#with) statement."
   ]
  },
  {
   "cell_type": "markdown",
   "id": "b6b555b8-cd7a-469d-91d5-628c9aec8c65",
   "metadata": {},
   "source": [
    "## 8.6. The `match` statement"
   ]
  },
  {
   "cell_type": "markdown",
   "id": "36c8dc0e-d562-4405-82f1-8b22a65526c4",
   "metadata": {},
   "source": [
    "*New in version 3.10.*"
   ]
  },
  {
   "cell_type": "markdown",
   "id": "561b6143-6ff8-43f6-9b01-010d215df916",
   "metadata": {},
   "source": [
    "The match statement is used for pattern matching. Syntax:\n",
    "\n",
    "> 匹配语句用于模式匹配。语法："
   ]
  },
  {
   "cell_type": "raw",
   "id": "ab7cd5af-5dac-4e85-a9aa-191914d4dac7",
   "metadata": {},
   "source": [
    "match_stmt   ::=  'match' subject_expr \":\" NEWLINE INDENT case_block+ DEDENT\n",
    "subject_expr ::=  star_named_expression \",\" star_named_expressions?\n",
    "                  | named_expression\n",
    "case_block   ::=  'case' patterns [guard] \":\" block"
   ]
  },
  {
   "cell_type": "markdown",
   "id": "64c614e6-2810-4f59-ab7f-298850d575b7",
   "metadata": {},
   "source": [
    "**Note**: This section uses single quotes to denote [soft keywords](https://docs.python.org/3/reference/lexical_analysis.html#soft-keywords).\n",
    "\n",
    "> **注意**：本节使用单引号来表示[软性关键词](https://docs.python.org/3/reference/lexical_analysis.html#soft-keywords)。"
   ]
  },
  {
   "cell_type": "markdown",
   "id": "05fcec76-ccca-491d-a6de-84e52f6ae40e",
   "metadata": {},
   "source": [
    "Pattern matching takes a pattern as input (following `case`) and a subject value (following `match`). The pattern (which may contain subpatterns) is matched against the subject value. The outcomes are:\n",
    "\n",
    "- A match success or failure (also termed a pattern success or failure).\n",
    "- Possible binding of matched values to a name. The prerequisites for this are further discussed below.\n",
    "\n",
    "The `match` and `case` keywords are [soft keywords](https://docs.python.org/3/reference/lexical_analysis.html#soft-keywords).\n",
    "\n",
    "> 模式匹配将一个模式作为输入（在 `case` 后面）和一个主题值（在 `match` 后面）。模式（可能包含子模式）与主题值进行匹配。其结果是：\n",
    ">\n",
    "> - 匹配成功或失败（也被称为模式成功或失败）。\n",
    "> - 可能将匹配的值绑定到一个名字上。这方面的先决条件将在下面进一步讨论。\n",
    ">\n",
    "> `match`和`case`关键字是[软关键字](https://docs.python.org/3/reference/lexical_analysis.html#soft-keywords)。"
   ]
  },
  {
   "cell_type": "markdown",
   "id": "667d413a-43d0-4fe8-9a60-a474ce7eeeef",
   "metadata": {},
   "source": [
    "**See also:**\n",
    "\n",
    "- [**PEP 634**](https://www.python.org/dev/peps/pep-0634) – Structural Pattern Matching: Specification\n",
    "- [**PEP 636**](https://www.python.org/dev/peps/pep-0636) – Structural Pattern Matching: Tutorial"
   ]
  },
  {
   "cell_type": "markdown",
   "id": "e972f51a-18ab-4488-90cc-dfaf80236d0e",
   "metadata": {},
   "source": [
    "### 8.6.1. Overview"
   ]
  },
  {
   "cell_type": "markdown",
   "id": "21e97425-d244-4105-84fa-231661be5bcd",
   "metadata": {},
   "source": [
    "Here’s an overview of the logical flow of a match statement:\n",
    "\n",
    "1. The subject expression `subject_expr` is evaluated and a resulting subject value obtained. If the subject expression contains a comma, a tuple is constructed using [the standard rules](https://docs.python.org/3/library/stdtypes.html#typesseq-tuple).\n",
    "\n",
    "2. Each pattern in a `case_block` is attempted to match with the subject value. The specific rules for success or failure are described below. The match attempt can also bind some or all of the standalone names within the pattern. The precise pattern binding rules vary per pattern type and are specified below. **Name bindings made during a successful pattern match outlive the executed block and can be used after the match statement**.\n",
    "\n",
    "   > **Note:** During failed pattern matches, some subpatterns may succeed. Do not rely on bindings being made for a failed match. Conversely, do not rely on variables remaining unchanged after a failed match. The exact behavior is dependent on implementation and may vary. This is an intentional decision made to allow different implementations to add optimizations.\n",
    "\n",
    "3. If the pattern succeeds, the corresponding guard (if present) is evaluated. In this case all name bindings are guaranteed to have happened.\n",
    "\n",
    "   - If the guard evaluates as true or is missing, the `block` inside `case_block` is executed.\n",
    "   - Otherwise, the next `case_block` is attempted as described above.\n",
    "   - If there are no further case blocks, the match statement is completed.\n",
    "\n",
    "> 下面是对匹配语句的逻辑流程的概述。\n",
    ">\n",
    "> 1. 主题表达式 `subject_expr` 被运算求值，并得到一个结果的主题值。如果主题表达式包含一个逗号，则使用[标准规则](https://docs.python.org/3/library/stdtypes.html#typesseq-tuple)构建一个元组。\n",
    ">\n",
    "> 2. `case_block` 中的每个模式都试图与主题值匹配。成功或失败的具体规则在下面描述。匹配尝试也可以绑定模式中的一些或所有独立的名字。准确的模式绑定规则因模式类型而异，具体规定如下。**在成功的模式匹配过程中进行的名称绑定会超过所执行的块，可以在匹配语句之后使用**。\n",
    ">\n",
    ">    > **注意：**在模式匹配失败期间，一些子模式可能会成功。不要依赖在失败的匹配中进行的绑定。反过来说，不要依赖变量在匹配失败后保持不变。确切的行为取决于实现，可能会有所不同。这是一个有意的决定，允许不同的实现增加优化。\n",
    ">\n",
    "> 3. 如果模式成功，相应的防护措施（如果存在的话）将被运算求值。在这种情况下，所有的名称绑定都被保证发生了。\n",
    ">\n",
    ">    - 如果防护措施运算求值为true或缺失，则执行 `case_block` 内的 `block`。\n",
    ">    - 否则，下一个 `case_block` 将被尝试执行，如上所述。\n",
    ">    - 如果没有进一步的case block，匹配语句就完成了。"
   ]
  },
  {
   "cell_type": "markdown",
   "id": "9889e495-71a8-4a3d-a0c5-16e533a60718",
   "metadata": {},
   "source": [
    "**Note:** Users should generally never rely on a pattern being evaluated. Depending on implementation, the interpreter may cache values or use other optimizations which skip repeated evaluations.\n",
    "\n",
    "> **注意：**用户一般不应依赖正在运算求值的模式。根据不同的实现，解释器可能会缓存数值或使用其他优化，从而跳过重复运算求值。"
   ]
  },
  {
   "cell_type": "markdown",
   "id": "94abbbfe-b2b4-41e0-8b01-dcd6730fef12",
   "metadata": {},
   "source": [
    "A sample match statement:\n",
    "\n",
    "> 一个匹配声明的样本："
   ]
  },
  {
   "cell_type": "code",
   "execution_count": 4,
   "id": "13b638c0-3b8d-4486-acdd-cf1da3ea908b",
   "metadata": {},
   "outputs": [
    {
     "name": "stdout",
     "output_type": "stream",
     "text": [
      "Case 3, y: 200\n"
     ]
    }
   ],
   "source": [
    "flag = False\n",
    "match (100, 200):\n",
    "    case (100, 300):    # Mismatch: 200 != 300\n",
    "        print('Case 1')\n",
    "    case (100, 200) if flag:    # Sucessful match, but guard fails\n",
    "        print('Case 2')\n",
    "    case (100, y):    # Matches and bind y to 200\n",
    "        print(f'Case 3, y: {y}')\n",
    "    case _:    # Pattern not attempted\n",
    "        print('Case 4, I match anything!')"
   ]
  },
  {
   "cell_type": "markdown",
   "id": "fbb6ce3b-767c-4a0e-a9e0-015011189db1",
   "metadata": {},
   "source": [
    "In this case, `if flag` is a guard. Read more about that in the next section.\n",
    "\n",
    "> 在这种情况下，`if flag` 是一个guard。请在下一节阅读更多关于这个问题的内容。"
   ]
  },
  {
   "cell_type": "markdown",
   "id": "b6f6ed72-d784-4002-9c13-1225a4a2c654",
   "metadata": {},
   "source": [
    "### 8.6.2. Guards"
   ]
  },
  {
   "cell_type": "raw",
   "id": "92f2f5be-024b-4824-bc28-224ca308ef0c",
   "metadata": {},
   "source": [
    "guard ::=  \"if\" named_expression"
   ]
  },
  {
   "cell_type": "markdown",
   "id": "9b488387-5289-4a9f-a51f-2f7e098cf0a2",
   "metadata": {},
   "source": [
    "A `guard` (which is part of the `case`) must succeed for code inside the `case` block to execute. It takes the form: [`if`](https://docs.python.org/3/reference/compound_stmts.html#if) followed by an expression.\n",
    "\n",
    "> 一个 `guard`（是 `case` 的一部分）必须成功，`case` 块内的代码才能执行。它的形式是。[`if`](https://docs.python.org/3/reference/compound_stmts.html#if) 后面是一个表达式。"
   ]
  },
  {
   "cell_type": "markdown",
   "id": "6b768f24-a8ea-467f-87c5-ab605c48af5d",
   "metadata": {},
   "source": [
    "The logical flow of a `case` block with a `guard` follows:\n",
    "\n",
    "1. Check that the pattern in the `case` block succeeded. If the pattern failed, the `guard` is not evaluated and the next `case` block is checked.\n",
    "2. If the pattern succeeded, evaluate the `guard`.\n",
    "   - If the `guard` condition evaluates as true, the case block is selected.\n",
    "   - If the `guard` condition evaluates as false, the case block is not selected.\n",
    "   - If the `guard` raises an exception during evaluation, the exception bubbles up.\n",
    "\n",
    "> 带有 `guard` 的 `case` 块的逻辑流程如下：\n",
    ">\n",
    "> 1. 检查 `case` 块中的模式是否成功。如果模式失败，则不对 `guard` 进行运算求值，并检查下一个 `case`块。\n",
    "> 2. 如果模式成功了，运算求值 `guard`。\n",
    ">    - 如果 `guard` 条件评估为true，则选择该case块。\n",
    ">    - 如果 `guard` 条件评估为 false，则不选择该case块。\n",
    ">    - 如果 `guard` 在评估过程中引发了一个异常，那么这个异常会冒出来。"
   ]
  },
  {
   "cell_type": "markdown",
   "id": "9650a259-8cc5-4087-9b2e-c5cd89097543",
   "metadata": {},
   "source": [
    "Guards are allowed to have side effects as they are expressions. Guard evaluation must proceed from the first to the last case block, one at a time, skipping case blocks whose pattern(s) don’t all succeed. (I.e., guard evaluation must happen in order.) Guard evaluation must stop once a case block is selected.\n",
    "\n",
    "> guard允许有副作用，因为它们是表达式。guard运算求值必须从第一个case块到最后一个case块，一次一个地进行，跳过那些模式不成功的case块。(也就是说，guard运算求值必须按顺序进行。)一旦选择了一个case块，guard运算求值必须停止。"
   ]
  },
  {
   "cell_type": "markdown",
   "id": "c1e1e70e-04a3-4a9d-9989-39ca0e7df94e",
   "metadata": {},
   "source": [
    "### 8.6.3. Irrefutable Case Blocks"
   ]
  },
  {
   "cell_type": "markdown",
   "id": "463f5a20-c668-4552-95e1-30595a933ddb",
   "metadata": {},
   "source": [
    "An irrefutable case block is a match-all case block. A match statement may have at most one irrefutable case block, and it must be last.\n",
    "\n",
    "A case block is considered irrefutable if it has no guard and its pattern is irrefutable. A pattern is considered irrefutable if we can prove from its syntax alone that it will always succeed. Only the following patterns are irrefutable:\n",
    "\n",
    "- [AS Patterns](https://docs.python.org/3/reference/compound_stmts.html#as-patterns) whose left-hand side is irrefutable\n",
    "- [OR Patterns](https://docs.python.org/3/reference/compound_stmts.html#or-patterns) containing at least one irrefutable pattern\n",
    "- [Capture Patterns](https://docs.python.org/3/reference/compound_stmts.html#capture-patterns)\n",
    "- [Wildcard Patterns](https://docs.python.org/3/reference/compound_stmts.html#wildcard-patterns)\n",
    "- parenthesized irrefutable patterns\n",
    "\n",
    "> 一个不可辩驳的case块是一个全部匹配的case块。一个匹配语句最多可以有一个不可反驳的case块，而且必须是最后一个。\n",
    ">\n",
    "> 如果一个case块没有guard，并且它的模式是不可辩驳的，那么它就被认为是不可辩驳的。如果我们可以仅从语法上证明一个模式总是成功的，那么这个模式就被认为是不可辩驳的。只有以下模式是不可辩驳的：\n",
    ">\n",
    "> - [AS模式](https://docs.python.org/3/reference/compound_stmts.html#as-patterns)的左手边是不可反驳的\n",
    "> - [OR模式](https://docs.python.org/3/reference/compound_stmts.html#or-patterns)至少包含一个不可辩驳的模式\n",
    "> - [捕获模式](https://docs.python.org/3/reference/compound_stmts.html#capture-patterns)\n",
    "> - [通配符模式](https://docs.python.org/3/reference/compound_stmts.html#wildcard-patterns)\n",
    "> - 括号内的不可反驳的模式"
   ]
  },
  {
   "cell_type": "markdown",
   "id": "99512131-98bf-4af9-b312-013a6be85ec9",
   "metadata": {},
   "source": [
    "### 8.6.4. Patterns"
   ]
  },
  {
   "cell_type": "markdown",
   "id": "2401d6a3-51a3-42c2-84b9-d6241765b825",
   "metadata": {},
   "source": [
    "**Note:** This section uses grammar notations beyond standard EBNF:\n",
    "\n",
    "- the notation `SEP.RULE+` is shorthand for `RULE (SEP RULE)*`\n",
    "- the notation `!RULE` is shorthand for a negative lookahead assertion"
   ]
  },
  {
   "cell_type": "markdown",
   "id": "be118bb7-bed4-4a23-8902-9ad4ed4b6725",
   "metadata": {},
   "source": [
    "The top-level syntax for `patterns` is:\n",
    "\n",
    "> 模式的顶级语法是："
   ]
  },
  {
   "cell_type": "raw",
   "id": "a9539fbd-3d91-4a5c-95cb-c4fa4fae44ba",
   "metadata": {},
   "source": [
    "patterns       ::=  open_sequence_pattern | pattern\n",
    "pattern        ::=  as_pattern | or_pattern\n",
    "closed_pattern ::=  | literal_pattern\n",
    "                    | capture_pattern\n",
    "                    | wildcard_pattern\n",
    "                    | value_pattern\n",
    "                    | group_pattern\n",
    "                    | sequence_pattern\n",
    "                    | mapping_pattern\n",
    "                    | class_pattern"
   ]
  },
  {
   "cell_type": "markdown",
   "id": "f8faefb6-0d52-4400-a87d-05c26c24e626",
   "metadata": {},
   "source": [
    "The descriptions below will include a description “in simple terms” of what a pattern does for illustration purposes (credits to Raymond Hettinger for a document that inspired most of the descriptions). Note that these descriptions are purely for illustration purposes and **may not** reflect the underlying implementation. Furthermore, they do not cover all valid forms.\n",
    "\n",
    "> 下面的描述将包括一个 \"简单的术语\" 描述模式的作用，以便于说明问题（感谢Raymond Hettinger提供的一份文件，它启发了大部分的描述）。请注意，这些描述纯粹是为了说明问题，**可能并不**反映基本的实现。此外，它们并没有涵盖所有有效的形式。"
   ]
  },
  {
   "cell_type": "markdown",
   "id": "9b230a5a-aabd-4a56-976c-b28476bcc1b8",
   "metadata": {},
   "source": [
    "#### 8.6.4.1. OR Patterns"
   ]
  },
  {
   "cell_type": "markdown",
   "id": "d032f10f-b692-44cb-aa5f-2dc4a7c6c817",
   "metadata": {},
   "source": [
    "An OR pattern is two or more patterns separated by vertical bars `|`. Syntax:\n",
    "\n",
    "> 一个OR模式是两个或多个用竖条 `|` 分隔的模式。语法："
   ]
  },
  {
   "cell_type": "raw",
   "id": "f7104a21-c74d-4e68-bcbc-f6d9deb1933f",
   "metadata": {},
   "source": [
    "or_pattern ::=  \"|\".closed_pattern+"
   ]
  },
  {
   "cell_type": "markdown",
   "id": "9a4f2d05-706d-4232-978a-db16e5b5a7ce",
   "metadata": {},
   "source": [
    "Only the final subpattern may be [irrefutable](https://docs.python.org/3/reference/compound_stmts.html#irrefutable-case), and each subpattern must bind the same set of names to avoid ambiguity.\n",
    "\n",
    "An OR pattern matches each of its subpatterns in turn to the subject value, until one succeeds. The OR pattern is then considered successful. Otherwise, if none of the subpatterns succeed, the OR pattern fails.\n",
    "\n",
    "In simple terms, `P1 | P2 | ...` will try to match `P1`, if it fails it will try to match `P2`, succeeding immediately if any succeeds, failing otherwise.\n",
    "\n",
    "> 只有最后的子模式可以是[irrefutable](https://docs.python.org/3/reference/compound_stmts.html#irrefutable-case)，而且每个子模式必须绑定同一组名称，以避免歧义。\n",
    ">\n",
    "> 一个OR模式依次匹配其每个子模式的主题值，直到有一个成功。然后，该OR模式被认为是成功的。否则，如果没有一个子模式成功，则OR模式失败。\n",
    ">\n",
    "> 简单地说，`P1 | P2 | ...` 将尝试匹配 `P1`，如果失败，它将尝试匹配 `P2`，如果有成功的，立即成功，否则失败。"
   ]
  },
  {
   "cell_type": "markdown",
   "id": "1a441460-8fb1-4904-b4d6-332d41a45da1",
   "metadata": {},
   "source": [
    "#### 8.6.4.2. AS Patterns"
   ]
  },
  {
   "cell_type": "markdown",
   "id": "1735f499-f3e8-46bd-9549-c22c3a54fa2b",
   "metadata": {},
   "source": [
    "An AS pattern matches an OR pattern on the left of the [`as`](https://docs.python.org/3/reference/compound_stmts.html#as) keyword against a subject. Syntax:\n",
    "\n",
    "> AS模式匹配 [`as`](https://docs.python.org/3/reference/compound_stmts.html#as) 关键字左边的OR模式，以对抗一个主题。语法："
   ]
  },
  {
   "cell_type": "raw",
   "id": "87c17355-4e09-400f-a168-16053aad6702",
   "metadata": {},
   "source": [
    "as_pattern ::=  or_pattern \"as\" capture_pattern"
   ]
  },
  {
   "cell_type": "markdown",
   "id": "a8f7d495-b0fe-409c-8b8f-660fa17c3879",
   "metadata": {},
   "source": [
    "If the OR pattern fails, the AS pattern fails. Otherwise, the AS pattern binds the subject to the name on the right of the as keyword and succeeds. `capture_pattern` cannot be a a `_`.\n",
    "\n",
    "In simple terms `P as NAME` will match with `P`, and on success it will set `NAME = <subject>`.\n",
    "\n",
    "> 如果OR模式失败，AS模式也失败。否则，AS模式将主体与as关键字右边的名字绑定，并成功。`capture_patern` 不能是一个 `_`。\n",
    ">\n",
    "> 简单来说，`P as NAME `将与 `P` 匹配，成功后将设置 `NAME = <subject>`。"
   ]
  },
  {
   "cell_type": "markdown",
   "id": "04909aa4-605d-44c9-9cfe-abd840686463",
   "metadata": {},
   "source": [
    "#### 8.6.4.3. Literal Patterns"
   ]
  },
  {
   "cell_type": "markdown",
   "id": "72eefe0c-414f-41d2-8715-07224f79859c",
   "metadata": {},
   "source": [
    "A literal pattern corresponds to most [literals](https://docs.python.org/3/reference/lexical_analysis.html#literals) in Python. Syntax:\n",
    "\n",
    "> 一个字面的模式对应于Python中的大多数[字面](https://docs.python.org/3/reference/lexical_analysis.html#literals)。语法："
   ]
  },
  {
   "cell_type": "raw",
   "id": "eb69f6ea-7c9f-44ae-aae4-c38c23540229",
   "metadata": {},
   "source": [
    "literal_pattern ::=  signed_number\n",
    "                     | signed_number \"+\" NUMBER\n",
    "                     | signed_number \"-\" NUMBER\n",
    "                     | strings\n",
    "                     | \"None\"\n",
    "                     | \"True\"\n",
    "                     | \"False\"\n",
    "                     | signed_number: NUMBER | \"-\" NUMBER"
   ]
  },
  {
   "cell_type": "markdown",
   "id": "92836d6a-c2da-4bce-a7c5-ea75fc7e94e8",
   "metadata": {},
   "source": [
    "The rule `strings` and the token `NUMBER` are defined in the [standard Python grammar](https://docs.python.org/3/reference/grammar.html). Triple-quoted strings are supported. Raw strings and byte strings are supported. [Formatted string literals](https://docs.python.org/3/reference/lexical_analysis.html#f-strings) are not supported.\n",
    "\n",
    "The forms `signed_number '+' NUMBER` and `signed_number '-' NUMBER` are for expressing [complex numbers](https://docs.python.org/3/reference/lexical_analysis.html#imaginary); they require a real number on the left and an imaginary number on the right. E.g. `3 + 4j`.\n",
    "\n",
    "In simple terms, `LITERAL` will succeed only if `<subject> == LITERAL`. For the singletons `None`, `True` and `False`, the [`is`](https://docs.python.org/3/reference/expressions.html#is) operator is used.\n",
    "\n",
    "> 规则 `strings` 和标记 `NUMBER` 是在[标准Python语法](https://docs.python.org/3/reference/grammar.html)中定义的。支持三引号的字符串。支持原始字符串和字节型字符串。不支持[格式化的字符串字面](https://docs.python.org/3/reference/lexical_analysis.html#f-strings)。\n",
    ">\n",
    "> 形 式`signed_number '+' NUMBER` 和 `signed_number '-' NUMBER` 是用来表达[复数](https://docs.python.org/3/reference/lexical_analysis.html#imaginary)；它们要求左边是实数，右边是虚数。例如：`3 + 4j`。\n",
    ">\n",
    "> 简单来说，`LITERAL` 只有在 `<subject> == LITERAL` 时才会成功。对于单数 `None`，`True`和`False`，使用 [`is`](https://docs.python.org/3/reference/expressions.html#is) 操作符。"
   ]
  },
  {
   "cell_type": "markdown",
   "id": "6f8f855f-ecc3-45f3-96e2-c86cba09eb19",
   "metadata": {},
   "source": [
    "#### 8.6.4.4. Capture Patterns"
   ]
  },
  {
   "cell_type": "markdown",
   "id": "0f1267dd-16ff-4eec-bc16-88f3dfc1c290",
   "metadata": {},
   "source": [
    "A capture pattern binds the subject value to a name. Syntax:\n",
    "\n",
    "> 捕获模式将主题值与一个名称绑定。语法："
   ]
  },
  {
   "cell_type": "raw",
   "id": "7e51a329-7dcc-4b34-a81b-58ab71839fc6",
   "metadata": {},
   "source": [
    "capture_pattern ::=  !'_' NAME"
   ]
  },
  {
   "cell_type": "markdown",
   "id": "7bdbc2f3-ea42-4424-9ee8-3609a4c25377",
   "metadata": {},
   "source": [
    "A single underscore `_` is not a capture pattern (this is what `!'_'` expresses). It is instead treated as a [`wildcard_pattern`](https://docs.python.org/3/reference/compound_stmts.html#grammar-token-python-grammar-wildcard_pattern).\n",
    "\n",
    "In a given pattern, a given name can only be bound once. E.g. `case x, x: ...` is invalid while `case [x] | x: ...` is allowed.\n",
    "\n",
    "Capture patterns always succeed. The binding follows scoping rules established by the assignment expression operator in [**PEP 572**](https://www.python.org/dev/peps/pep-0572); the name becomes a local variable in the closest containing function scope unless there’s an applicable [`global`](https://docs.python.org/3/reference/simple_stmts.html#global) or [`nonlocal`](https://docs.python.org/3/reference/simple_stmts.html#nonlocal) statement.\n",
    "\n",
    "In simple terms `NAME` will always succeed and it will set `NAME = <subject>`.\n",
    "\n",
    "> 单个下划线 `_` 不是一个捕获模式（这就是 `！'_'` 表达的内容）。它被视为一个[`wildcard_pattern`](https://docs.python.org/3/reference/compound_stmts.html#grammar-token-python-grammar-wildcard_pattern)。\n",
    ">\n",
    "> 在一个给定的模式中，一个给定的名字只能被绑定一次。例如：`case x, x: ... `是无效的，而`case [x] | x: ... ` 是允许的。\n",
    ">\n",
    "> 捕获模式总是成功的。绑定遵循[**PEP 572**](https://www.python.org/dev/peps/pep-0572)中赋值表达式运算符建立的作用域规则；除非有适用的 [`global`](https://docs.python.org/3/reference/simple_stmts.html#global) 或[`nonlocal`](https://docs.python.org/3/reference/simple_stmts.html#nonlocal) 语句，否则名称在最接近的包含函数作用域中成为一个局部变量。\n",
    ">\n",
    "> 简单地说，`NAME` 总是会成功的，它将设置 `NAME = <subject>`。"
   ]
  },
  {
   "cell_type": "markdown",
   "id": "d99ba63b-61d1-449a-bd49-b115fcef9314",
   "metadata": {},
   "source": [
    "#### 8.6.4.5. Wildcard Patterns"
   ]
  },
  {
   "cell_type": "markdown",
   "id": "30f337ff-6156-476e-973d-836301b7cb9f",
   "metadata": {},
   "source": [
    "A wildcard pattern always succeeds (matches anything) and binds no name. Syntax:\n",
    "\n",
    "> 通配符模式总是成功的（匹配任何东西），并且不绑定任何名字。语法："
   ]
  },
  {
   "cell_type": "raw",
   "id": "1dc76d18-5fb1-4848-888d-057e99a58628",
   "metadata": {},
   "source": [
    "wildcard_pattern ::=  '_'"
   ]
  },
  {
   "cell_type": "markdown",
   "id": "0b425dcc-c6dd-43c0-a82d-a56485a5b971",
   "metadata": {},
   "source": [
    "`_` is a [soft keyword](https://docs.python.org/3/reference/lexical_analysis.html#soft-keywords) within any pattern, but only within patterns. It is an identifier, as usual, even within `match` subject expressions, `guard`s, and `case` blocks.\n",
    "\n",
    "In simple terms, `_` will always succeed.\n",
    "\n",
    "> `_ `在任何模式中都是一个[软关键字](https://docs.python.org/3/reference/lexical_analysis.html#soft-keywords)，但只在模式中。它是一个标识符，像往常一样，甚至在 `match` 主语表达式、`guard `和 `case` 块中也是如此。\n",
    ">\n",
    "> 简单的说，`_ `总是会成功。"
   ]
  },
  {
   "cell_type": "markdown",
   "id": "f1a5795b-d784-4529-a59e-7df364e4b04f",
   "metadata": {},
   "source": [
    "#### 8.6.4.6. Value Patterns"
   ]
  },
  {
   "cell_type": "markdown",
   "id": "1d6c3c14-9342-46cc-b4b2-ab3a58b89c20",
   "metadata": {},
   "source": [
    "A value pattern represents a named value in Python. Syntax:\n",
    "\n",
    "> 一个值模式在 Python 中代表一个命名的值。语法："
   ]
  },
  {
   "cell_type": "raw",
   "id": "523722c0-659a-4141-afa4-1874d014c201",
   "metadata": {},
   "source": [
    "value_pattern ::=  attr\n",
    "attr          ::=  name_or_attr \".\" NAME\n",
    "name_or_attr  ::=  attr | NAME"
   ]
  },
  {
   "cell_type": "markdown",
   "id": "fa72c1b3-9b5b-4808-b53d-2cf6df36f67e",
   "metadata": {},
   "source": [
    "The dotted name in the pattern is looked up using standard Python [name resolution rules](https://docs.python.org/3/reference/executionmodel.html#resolve-names). The pattern succeeds if the value found compares equal to the subject value (using the `==` equality operator).\n",
    "\n",
    "In simple terms `NAME1.NAME2` will succeed only if `<subject> == NAME1.NAME2`\n",
    "\n",
    "> 模式中的带点名称使用标准的Python [名称解析规则](https://docs.python.org/3/reference/executionmodel.html#resolve-names) 进行查询。如果找到的值与主题值比较相等（使用 `==`相等运算符），则该模式成功。\n",
    ">\n",
    "> 简单的说 `NAME1.NAME2` 只有在 `<subject> == NAME1.NAME2` 时才会成功。"
   ]
  },
  {
   "cell_type": "markdown",
   "id": "eca4f7d4-7b79-436d-a04b-5f90edcf9c81",
   "metadata": {},
   "source": [
    "**Note:** If the same value occurs multiple times in the same match statement, the interpreter may cache the first value found and reuse it rather than repeat the same lookup. This cache is strictly tied to a given execution of a given match statement.\n",
    "\n",
    "> **注意：**如果相同的值在同一个匹配语句中出现多次，解释器可能会缓存找到的第一个值并重新使用它，而不是重复相同的查找。这种缓存与特定的匹配语句的执行严格挂钩。"
   ]
  },
  {
   "cell_type": "markdown",
   "id": "6870a471-e016-4a47-bb68-dd0749cc75b5",
   "metadata": {},
   "source": [
    "#### 8.6.4.7. Group Patterns"
   ]
  },
  {
   "cell_type": "markdown",
   "id": "1049e885-6748-473e-b7dc-4f7b31106232",
   "metadata": {},
   "source": [
    "A group pattern allows users to add parentheses around patterns to emphasize the intended grouping. Otherwise, it has no additional syntax. Syntax:\n",
    "\n",
    "> 组模式允许用户在模式周围添加括号，以强调预期的分组。除此之外，它没有额外的语法。语法："
   ]
  },
  {
   "cell_type": "raw",
   "id": "4f60de80-a059-4dba-8d0c-4620406cf445",
   "metadata": {},
   "source": [
    "group_pattern ::=  \"(\" pattern \")\""
   ]
  },
  {
   "cell_type": "markdown",
   "id": "03994ef4-5ad0-41cd-9371-6fbd70013b19",
   "metadata": {},
   "source": [
    "In simple terms `(P)` has the same effect as `P`.\n",
    "\n",
    "> 简单地说，`(P)` 与 `P` 具有相同的效果。"
   ]
  },
  {
   "cell_type": "markdown",
   "id": "511ca4bc-475a-4c27-b538-b1c158efaafb",
   "metadata": {},
   "source": [
    "#### 8.6.4.8. Sequence Patterns"
   ]
  },
  {
   "cell_type": "markdown",
   "id": "5c59d4a3-d540-460e-8c82-9ea377b79996",
   "metadata": {},
   "source": [
    "A sequence pattern contains several subpatterns to be matched against sequence elements. The syntax is similar to the unpacking of a list or tuple.\n",
    "\n",
    "> 一个序列模式包含几个子模式，要与序列元素匹配。其语法类似于列表或元组的解包。"
   ]
  },
  {
   "cell_type": "raw",
   "id": "b95822dd-9fc3-4cbf-88a2-e5038ce1bf8e",
   "metadata": {},
   "source": [
    "sequence_pattern       ::=  \"[\" [maybe_sequence_pattern] \"]\"\n",
    "                            | \"(\" [open_sequence_pattern] \")\"\n",
    "open_sequence_pattern  ::=  maybe_star_pattern \",\" [maybe_sequence_pattern]\n",
    "maybe_sequence_pattern ::=  \",\".maybe_star_pattern+ \",\"?\n",
    "maybe_star_pattern     ::=  star_pattern | pattern\n",
    "star_pattern           ::=  \"*\" (capture_pattern | wildcard_pattern)"
   ]
  },
  {
   "cell_type": "markdown",
   "id": "b3012dc0-e16c-44e1-827b-e9fa43784d6b",
   "metadata": {},
   "source": [
    "There is no difference if parentheses or square brackets are used for sequence patterns (i.e. `(...)` vs `[...]` ).\n",
    "\n",
    "> 如果对序列模式使用小括号或方括号，则没有区别（即`（...）`与`[...]`）。"
   ]
  },
  {
   "cell_type": "markdown",
   "id": "ae3a3c26-ba6a-49ec-a987-7a933056f35d",
   "metadata": {},
   "source": [
    "**Note:** A single pattern enclosed in parentheses without a trailing comma (e.g. `(3 | 4)`) is a [group pattern](https://docs.python.org/3/reference/compound_stmts.html#group-patterns). While a single pattern enclosed in square brackets (e.g. `[3 | 4]`) is still a sequence pattern.\n",
    "\n",
    "> **注意：**括号内的单个模式没有尾部的逗号（例如：`(3 | 4)`）是一个[组模式](https://docs.python.org/3/reference/compound_stmts.html#group-patterns)。而用方括号括起来的单个模式（例如：`[3 | 4]`）仍然是一个序列模式。"
   ]
  },
  {
   "cell_type": "markdown",
   "id": "75c89fbf-12e5-499b-80fe-e0cb70ccb060",
   "metadata": {},
   "source": [
    "At most one star subpattern may be in a sequence pattern. The star subpattern may occur in any position. If no star subpattern is present, the sequence pattern is a fixed-length sequence pattern; otherwise it is a variable-length sequence pattern.\n",
    "\n",
    "> 一个序列模式中最多可以有一个带星子模式。带星子模式可以出现在任何位置。如果没有带星子模式，该序列模式是一个固定长度的序列模式；否则，它是一个可变长度的序列模式。"
   ]
  },
  {
   "cell_type": "markdown",
   "id": "ef471222-792e-417f-91a3-12f924e5786f",
   "metadata": {},
   "source": [
    "The following is the logical flow for matching a sequence pattern against a subject value:\n",
    "\n",
    "1. If the subject value is not a sequence [2](https://docs.python.org/3/reference/compound_stmts.html#id17), the sequence pattern fails.\n",
    "\n",
    "2. If the subject value is an instance of `str`, `bytes` or `bytearray` the sequence pattern fails.\n",
    "\n",
    "3. The subsequent steps depend on whether the sequence pattern is fixed or variable-length.\n",
    "\n",
    "   If the sequence pattern is fixed-length:\n",
    "\n",
    "   1. If the length of the subject sequence is not equal to the number of subpatterns, the sequence pattern fails\n",
    "   2. Subpatterns in the sequence pattern are matched to their corresponding items in the subject sequence from left to right. Matching stops as soon as a subpattern fails. If all subpatterns succeed in matching their corresponding item, the sequence pattern succeeds.\n",
    "\n",
    "   Otherwise, if the sequence pattern is variable-length:\n",
    "\n",
    "   1. If the length of the subject sequence is less than the number of non-star subpatterns, the sequence pattern fails.\n",
    "   2. The leading non-star subpatterns are matched to their corresponding items as for fixed-length sequences.\n",
    "   3. If the previous step succeeds, the star subpattern matches a list formed of the remaining subject items, excluding the remaining items corresponding to non-star subpatterns following the star subpattern.\n",
    "   4. Remaining non-star subpatterns are matched to their corresponding subject items, as for a fixed-length sequence.\n",
    "\n",
    "   **Note:** The length of the subject sequence is obtained via [`len()`](https://docs.python.org/3/library/functions.html#len) (i.e. via the `__len__()` protocol). This length may be cached by the interpreter in a similar manner as [value patterns](https://docs.python.org/3/reference/compound_stmts.html#value-patterns).\n",
    "\n",
    "> 以下是将一个序列模式与一个主题值相匹配的逻辑流程：\n",
    ">\n",
    "> 1. 如果主题值不是一个序列[^2]，则序列模式失败。\n",
    ">\n",
    "> 2. 如果主题值是 `str`、`bytes` 或 `bytearray` 的一个实例，那么序列模式失败。\n",
    ">\n",
    "> 3. 接下来的步骤取决于序列模式是固定长度还是可变长度。\n",
    ">\n",
    ">    如果序列模式是固定长度的：\n",
    ">\n",
    ">    1. 如果主体序列的长度不等于子模式的数量，则序列模式失败。\n",
    ">    2. 序列模式中的子模式与主题序列中的相应项目从左到右进行匹配。一旦一个子模式失败，匹配就会停止。如果所有的子模式都能成功地与它们的对应项相匹配，则该序列模式就成功了。\n",
    ">\n",
    ">    否则，如果序列模式是可变长度的：\n",
    ">\n",
    ">    1. 如果主体序列的长度小于非带星子模式的数量，则序列模式失败。\n",
    ">    2. 领先的非星子模式与它们相应的项目相匹配，如同固定长度的序列。\n",
    ">    3. 如果上一步成功，带星子模式与剩余的主题项目组成的列表相匹配，不包括带星子模式后面的非星子模式对应的剩余项目。\n",
    ">    4. 剩余的非星子模式与它们相应的主题项目相匹配，如同固定长度的序列。\n",
    ">\n",
    ">    **注意：**主题序列的长度是通过 [`len()`](https://docs.python.org/3/library/functions.html#len) 获得的（即通过 `__len__()` 协议）。这个长度可以由解释器以类似于[value patterns](https://docs.python.org/3/reference/compound_stmts.html#value-patterns)的方式进行缓存。"
   ]
  },
  {
   "cell_type": "markdown",
   "id": "4d9e1605-1284-4e67-a77e-b264a3a56929",
   "metadata": {},
   "source": [
    "In simple terms `[P1, P2, P3,` … `, P<N>]` matches only if all the following happens:\n",
    "\n",
    "- check `<subject>` is a sequence\n",
    "- `len(subject) == <N>`\n",
    "- `P1` matches `<subject>[0]` (note that this match can also bind names)\n",
    "- `P2` matches `<subject>[1]` (note that this match can also bind names)\n",
    "- … and so on for the corresponding pattern/element.\n",
    "\n",
    "> 简单地说，`[P1, P2, P3,`...`, P<N>] `只有在以下所有情况下才匹配：\n",
    ">\n",
    "> - 检查 `<subject>`是一个序列\n",
    "> - `len(subject) == <N>`。\n",
    "> - `P1` 匹配 `<subject>[0]`（注意，这个匹配也可以绑定名字）。\n",
    "> - `P2` 匹配 `<subject>[1]`（注意这个匹配也可以绑定名字）\n",
    "> - ...以此类推，对应的模式/元素。"
   ]
  },
  {
   "cell_type": "markdown",
   "id": "e040f8eb-63a9-4099-97c1-491f28426cc7",
   "metadata": {},
   "source": [
    "#### 8.6.4.9. Mapping Patterns"
   ]
  },
  {
   "cell_type": "markdown",
   "id": "11c6fc51-3283-4614-aa27-d054e2161561",
   "metadata": {},
   "source": [
    "A mapping pattern contains one or more key-value patterns. The syntax is similar to the construction of a dictionary. Syntax:\n",
    "\n",
    "> 一个映射模式包含一个或多个键值模式。其语法类似于字典的构造。语法："
   ]
  },
  {
   "cell_type": "raw",
   "id": "6f8d2281-88bf-4a98-8d86-e615ed5e2d60",
   "metadata": {},
   "source": [
    "mapping_pattern     ::=  \"{\" [items_pattern] \"}\"\n",
    "items_pattern       ::=  \",\".key_value_pattern+ \",\"?\n",
    "key_value_pattern   ::=  (literal_pattern | value_pattern) \":\" pattern\n",
    "                         | double_star_pattern\n",
    "double_star_pattern ::=  \"**\" capture_pattern"
   ]
  },
  {
   "cell_type": "markdown",
   "id": "17222542-81d9-4b05-a05c-d5b30f2f0c81",
   "metadata": {},
   "source": [
    "At most one double star pattern may be in a mapping pattern. The double star pattern must be the last subpattern in the mapping pattern.\n",
    "\n",
    "Duplicate keys in mapping patterns are disallowed. Duplicate literal keys will raise a [`SyntaxError`](https://docs.python.org/3/library/exceptions.html#SyntaxError). Two keys that otherwise have the same value will raise a [`ValueError`](https://docs.python.org/3/library/exceptions.html#ValueError) at runtime.\n",
    "\n",
    "> 一个映射模式中最多可以有一个双星模式。双星模式必须是映射模式中的最后一个子图案。\n",
    ">\n",
    "> 映射模式中不允许有重复的键。重复的字面键将引发 [`SyntaxError`](https://docs.python.org/3/library/exceptions.html#SyntaxError)。两个键如果有相同的值，在运行时将引发一个 [`ValueError`](https://docs.python.org/3/library/exceptions.html#ValueError))。"
   ]
  },
  {
   "cell_type": "markdown",
   "id": "c52f8b8b-a9a8-4988-95ca-cb30f17b3961",
   "metadata": {},
   "source": [
    "The following is the logical flow for matching a mapping pattern against a subject value:\n",
    "\n",
    "1. If the subject value is not a mapping [^3],the mapping pattern fails.\n",
    "2. If every key given in the mapping pattern is present in the subject mapping, and the pattern for each key matches the corresponding item of the subject mapping, the mapping pattern succeeds.\n",
    "3. If duplicate keys are detected in the mapping pattern, the pattern is considered invalid. A [`SyntaxError`](https://docs.python.org/3/library/exceptions.html#SyntaxError) is raised for duplicate literal values; or a [`ValueError`](https://docs.python.org/3/library/exceptions.html#ValueError) for named keys of the same value.\n",
    "\n",
    "> 以下是将一个映射模式与一个主题值相匹配的逻辑流程：\n",
    ">\n",
    "> 1. 如果主题值不是一个映射[^3]，则映射模式失败。\n",
    "> 2. 如果映射模式中给出的每个键都存在于主题映射中，并且每个键的模式都与主题映射的相应项目相匹配，则映射模式成功。\n",
    "> 3. 如果在映射模式中检测到重复的键，该模式被认为是无效的。对于重复的字面值，会产生一个[`SyntaxError`](https://docs.python.org/3/library/exceptions.html#SyntaxError)；或者对于相同价值的命名键，会产生一个[`ValueError`](https://docs.python.org/3/library/exceptions.html#ValueError) 。"
   ]
  },
  {
   "cell_type": "markdown",
   "id": "a704ef0f-6b58-4f47-81a9-41721e38f45c",
   "metadata": {},
   "source": [
    "**Note:** Key-value pairs are matched using the two-argument form of the mapping subject’s `get()` method. Matched key-value pairs must already be present in the mapping, and not created on-the-fly via `__missing__()` or `__getitem__()`.\n",
    "\n",
    "> **注意：**键值对的匹配是使用映射主体的 `get()` 方法的双参数形式。匹配的键值对必须已经存在于映射中，而不是通过 `__missing__()` 或 `__getitem__()` 即时创建。"
   ]
  },
  {
   "cell_type": "markdown",
   "id": "49140dea-c6d7-4529-be05-cb887cc955e4",
   "metadata": {},
   "source": [
    "In simple terms `{KEY1: P1, KEY2: P2, ... }` matches only if all the following happens:\n",
    "\n",
    "- check `<subject>` is a mapping\n",
    "- `KEY1 in <subject>`\n",
    "- `P1` matches `<subject>[KEY1]`\n",
    "- … and so on for the corresponding KEY/pattern pair.\n",
    "\n",
    "> 简单地说，`{KEY1: P1, KEY2: P2, ... } `只有在以下所有情况下才能匹配。\n",
    ">\n",
    "> - 检查 `<subject> `是一个映射\n",
    "> - `KEY1 in <subject>`。\n",
    "> - `P1` 匹配 `<subject>[KEY1]`。\n",
    "> - ...以此类推，对应的KEY/模式对。"
   ]
  },
  {
   "cell_type": "markdown",
   "id": "6d7a0aff-b36b-4361-87e5-4578e44d3198",
   "metadata": {},
   "source": [
    "#### 8.6.4.10. Class Patterns"
   ]
  },
  {
   "cell_type": "markdown",
   "id": "f2ff554c-b2e0-4b18-9e11-900e89a5c75d",
   "metadata": {},
   "source": [
    "A class pattern represents a class and its positional and keyword arguments (if any). Syntax:\n",
    "\n",
    "> 一个类模式代表一个类和它的位置参数和关键字参数（如果有的话）。语法："
   ]
  },
  {
   "cell_type": "raw",
   "id": "ed8228c2-d3b7-4281-ab03-219be7ab70d5",
   "metadata": {},
   "source": [
    "class_pattern       ::=  name_or_attr \"(\" [pattern_arguments \",\"?] \")\"\n",
    "pattern_arguments   ::=  positional_patterns [\",\" keyword_patterns]\n",
    "                         | keyword_patterns\n",
    "positional_patterns ::=  \",\".pattern+\n",
    "keyword_patterns    ::=  \",\".keyword_pattern+\n",
    "keyword_pattern     ::=  NAME \"=\" pattern"
   ]
  },
  {
   "cell_type": "markdown",
   "id": "6e9c27b5-0bfa-4df2-83d7-006950a8fb73",
   "metadata": {},
   "source": [
    "The same keyword should not be repeated in class patterns.\n",
    "\n",
    "> 同一个关键词不应该在类模式中重复出现。"
   ]
  },
  {
   "cell_type": "markdown",
   "id": "b6981e69-3c08-47ff-a828-964e4e9b0d40",
   "metadata": {},
   "source": [
    "The following is the logical flow for matching a class pattern against a subject value:\n",
    "\n",
    "1. If `name_or_attr` is not an instance of the builtin [`type`](https://docs.python.org/3/library/functions.html#type) , raise [`TypeError`](https://docs.python.org/3/library/exceptions.html#TypeError).\n",
    "\n",
    "2. If the subject value is not an instance of `name_or_attr` (tested via [`isinstance()`](https://docs.python.org/3/library/functions.html#isinstance)), the class pattern fails.\n",
    "\n",
    "3. If no pattern arguments are present, the pattern succeeds. Otherwise, the subsequent steps depend on whether keyword or positional argument patterns are present.\n",
    "\n",
    "   For a number of built-in types (specified below), a single positional subpattern is accepted which will match the entire subject; for these types keyword patterns also work as for other types.\n",
    "\n",
    "   If only keyword patterns are present, they are processed as follows, one by one:\n",
    "\n",
    "   I. The keyword is looked up as an attribute on the subject.\n",
    "\n",
    "   > - If this raises an exception other than [`AttributeError`](https://docs.python.org/3/library/exceptions.html#AttributeError), the exception bubbles up.\n",
    "   > - If this raises [`AttributeError`](https://docs.python.org/3/library/exceptions.html#AttributeError), the class pattern has failed.\n",
    "   > - Else, the subpattern associated with the keyword pattern is matched against the subject’s attribute value. If this fails, the class pattern fails; if this succeeds, the match proceeds to the next keyword.\n",
    "\n",
    "   II. If all keyword patterns succeed, the class pattern succeeds.\n",
    "\n",
    "   If any positional patterns are present, they are converted to keyword patterns using the [`__match_args__`](https://docs.python.org/3/reference/datamodel.html#object.__match_args__) attribute on the class `name_or_attr` before matching:\n",
    "\n",
    "   I. The equivalent of `getattr(cls, \"__match_args__\", ())` is called.\n",
    "\n",
    "   > - If this raises an exception, the exception bubbles up.\n",
    "   > - If the returned value is not a tuple, the conversion fails and [`TypeError`](https://docs.python.org/3/library/exceptions.html#TypeError) is raised.\n",
    "   > - If there are more positional patterns than `len(cls.__match_args__)`, [`TypeError`](https://docs.python.org/3/library/exceptions.html#TypeError) is raised.\n",
    "   > - Otherwise, positional pattern `i` is converted to a keyword pattern using `__match_args__[i]` as the keyword. `__match_args__[i]` must be a string; if not [`TypeError`](https://docs.python.org/3/library/exceptions.html#TypeError) is raised.\n",
    "   > - If there are duplicate keywords, [`TypeError`](https://docs.python.org/3/library/exceptions.html#TypeError) is raised.\n",
    "   >\n",
    "   > **See also:** [Customizing positional arguments in class pattern matching](https://docs.python.org/3/reference/datamodel.html#class-pattern-matching)\n",
    "\n",
    "   - II. Once all positional patterns have been converted to keyword patterns,\n",
    "\n",
    "     the match proceeds as if there were only keyword patterns.\n",
    "\n",
    "   For the following built-in types the handling of positional subpatterns is different:\n",
    "\n",
    "   - [`bool`](https://docs.python.org/3/library/functions.html#bool)\n",
    "   - [`bytearray`](https://docs.python.org/3/library/stdtypes.html#bytearray)\n",
    "   - [`bytes`](https://docs.python.org/3/library/stdtypes.html#bytes)\n",
    "   - [`dict`](https://docs.python.org/3/library/stdtypes.html#dict)\n",
    "   - [`float`](https://docs.python.org/3/library/functions.html#float)\n",
    "   - [`frozenset`](https://docs.python.org/3/library/stdtypes.html#frozenset)\n",
    "   - [`int`](https://docs.python.org/3/library/functions.html#int)\n",
    "   - [`list`](https://docs.python.org/3/library/stdtypes.html#list)\n",
    "   - [`set`](https://docs.python.org/3/library/stdtypes.html#set)\n",
    "   - [`str`](https://docs.python.org/3/library/stdtypes.html#str)\n",
    "   - [`tuple`](https://docs.python.org/3/library/stdtypes.html#tuple)\n",
    "\n",
    "   These classes accept a single positional argument, and the pattern there is matched against the whole object rather than an attribute. For example `int(0|1)` matches the value `0`, but not the values `0.0` or `False`.\n",
    "\n",
    "> 下面是将一个类模式与一个主题值相匹配的逻辑流程：\n",
    ">\n",
    "> 1. 如果 `name_or_attr` 不是内置的 [`type`](https://docs.python.org/3/library/functions.html#type) 的实例，引发 [`TypeError`](https://docs.python.org/3/library/exceptions.html#TypeError)。\n",
    ">\n",
    "> 2. 如果主题值不是 `name_or_attr` 的实例（通过 [`isinstance()`](https://docs.python.org/3/library/functions.html#isinstance) 测试），类模式失败。\n",
    ">\n",
    "> 3. 如果没有模式参数出现，则模式成功。否则，后面的步骤取决于是否有关键字或位置参数模式存在。\n",
    ">\n",
    ">    对于一些内置类型（在下面指定），接受单一的位置子模式，它将匹配整个主题；对于这些类型，关键字模式也像其他类型一样工作。\n",
    ">\n",
    ">    如果只有关键字模式，它们将被逐一处理，如下：\n",
    ">\n",
    ">    I. 关键字被作为主题的一个属性来查找。\n",
    ">\n",
    ">    > - 如果这引发了 [`AttributeError`](https://docs.python.org/3/library/exceptions.html#AttributeError) 以外的异常，则该异常会冒出来。\n",
    ">    > - 如果这引发了 [`AttributeError`](https://docs.python.org/3/library/exceptions.html#AttributeError)，那么类模式就失败了。\n",
    ">    > - 否则，与关键词模式相关的子模式将与主体的属性值相匹配。如果失败了，类模式就失败了；如果成功了，匹配就会进行到下一个关键词。\n",
    ">\n",
    ">    II. 如果所有的关键词模式都成功，那么类模式就成功了。\n",
    ">\n",
    ">    如果有任何位置模式存在，在匹配之前，使用类的 `name_or_attr` 上的 [`__match_args__`](https://docs.python.org/3/reference/datamodel.html#object.__match_args__) 属性将它们转换为关键词模式。\n",
    ">\n",
    ">    I. 相当于 `getattr(cls, \"__match_args__\", ())` 被调用。\n",
    ">\n",
    ">    > - 如果这引发了一个异常，异常就会冒出来。\n",
    ">    > - 如果返回的值不是一个元组，则转换失败，[`TypeError`](https://docs.python.org/3/library/exceptions.html#TypeError) 被引发。\n",
    ">    > - 如果有比 `len(cls.__match_args__)` 更多的位置模式，[`TypeError`](https://docs.python.org/3/library/exceptions.html#TypeError) 被引发。\n",
    ">    > - 否则，位置模式 `i` 被转换为关键字模式，使用 `__match_args__[i]` 作为关键字。`__match_args__[i] `必须是一个字符串；如果不是，则引发 [`TypeError`](https://docs.python.org/3/library/exceptions.html#TypeError) 。\n",
    ">    > - 如果有重复的关键字，会产生 [`TypeError`](https://docs.python.org/3/library/exceptions.html#TypeError)。\n",
    ">    >\n",
    ">    > **参见：** [自定义类模式匹配中的位置参数](https://docs.python.org/3/reference/datamodel.html#class-pattern-matching)\n",
    ">\n",
    ">    - II. 一旦所有的位置模式都被转换为关键词模式。\n",
    ">\n",
    ">      匹配继续进行，就像只有关键字模式一样。\n",
    ">\n",
    ">    对于下面的内置类型，对位置性子模式的处理是不同的：\n",
    ">\n",
    ">    - [`bool`](https://docs.python.org/3/library/functions.html#bool)\n",
    ">    - [`bytearray`](https://docs.python.org/3/library/stdtypes.html#bytearray)\n",
    ">    - [`bytes`](https://docs.python.org/3/library/stdtypes.html#bytes)\n",
    ">    - [`dict`](https://docs.python.org/3/library/stdtypes.html#dict)\n",
    ">    - [`float`](https://docs.python.org/3/library/functions.html#float)\n",
    ">    - [`frozenset`](https://docs.python.org/3/library/stdtypes.html#frozenset)\n",
    ">    - [`int`](https://docs.python.org/3/library/functions.html#int)\n",
    ">    - [`list`](https://docs.python.org/3/library/stdtypes.html#list)\n",
    ">    - [`set`](https://docs.python.org/3/library/stdtypes.html#set)\n",
    ">    - [`str`](https://docs.python.org/3/library/stdtypes.html#str)\n",
    ">    - [`tuple`](https://docs.python.org/3/library/stdtypes.html#tuple)\n",
    ">\n",
    ">    这些类接受一个位置参数，那里的模式是针对整个对象而不是某个属性进行匹配。例如，`int(0|1)` 匹配值 `0`，但不匹配值 `0.0` 或 `False`。"
   ]
  },
  {
   "cell_type": "markdown",
   "id": "655f80c2-f585-4d2b-b2fe-77e1fc7207ce",
   "metadata": {},
   "source": [
    "In simple terms `CLS(P1, attr=P2)` matches only if the following happens:\n",
    "\n",
    "- `isinstance(<subject>, CLS)`\n",
    "- convert `P1` to a keyword pattern using `CLS.__match_args__`\n",
    "- For each keyword argument `attr=P2`:\n",
    "  - `hasattr(<subject>, \"attr\")`\n",
    "  - `P2` matches `<subject>.attr`\n",
    "- … and so on for the corresponding keyword argument/pattern pair.\n",
    "\n",
    "> 简单地说，`CLS(P1, attr=P2)`只在以下情况下匹配。\n",
    ">\n",
    "> - `isinstance(<subject>, CLS)`。\n",
    ">\n",
    "> - 使用 `CLS.__match_args__` 将 `P1` 转换为一个关键字模式\n",
    ">\n",
    "> - 对于每个关键字参数 `attr=P2`。\n",
    ">\n",
    ">   - `hasattr(<subject>, \"attr\")`\n",
    ">   - `P2`匹配 `<subject>.attr`。\n",
    ">\n",
    "> - ...以此类推，对应的关键字参数/模式对。"
   ]
  },
  {
   "cell_type": "markdown",
   "id": "15a2fcf6-7f89-4270-a2e7-075c5cc3a6f6",
   "metadata": {},
   "source": [
    "**See also:**\n",
    "\n",
    "- [**PEP 634**](https://www.python.org/dev/peps/pep-0634) – Structural Pattern Matching: Specification\n",
    "- [**PEP 636**](https://www.python.org/dev/peps/pep-0636) – Structural Pattern Matching: Tutorial"
   ]
  },
  {
   "cell_type": "markdown",
   "id": "a88b6e29-4d6c-4533-8cef-f9b6b16f9b57",
   "metadata": {},
   "source": [
    "## 8.7. Function definitions"
   ]
  },
  {
   "cell_type": "markdown",
   "id": "3faa5529-acc4-4553-a7a4-4a13bb4b36b6",
   "metadata": {},
   "source": [
    "A function definition defines a user-defined function object (see section [The standard type hierarchy](https://docs.python.org/3/reference/datamodel.html#types)):\n",
    "\n",
    "> 一个函数定义定义了一个用户定义的函数对象（见[标准类型层次结构](https://docs.python.org/3/reference/datamodel.html#types)一节）："
   ]
  },
  {
   "cell_type": "raw",
   "id": "bf33550c-cb1e-4436-b2dd-39822df251ff",
   "metadata": {},
   "source": [
    "funcdef                   ::=  [decorators] \"def\" funcname \"(\" [parameter_list] \")\"\n",
    "                               [\"->\" expression] \":\" suite\n",
    "decorators                ::=  decorator+\n",
    "decorator                 ::=  \"@\" assignment_expression NEWLINE\n",
    "parameter_list            ::=  defparameter (\",\" defparameter)* \",\" \"/\" [\",\" [parameter_list_no_posonly]]\n",
    "                                 | parameter_list_no_posonly\n",
    "parameter_list_no_posonly ::=  defparameter (\",\" defparameter)* [\",\" [parameter_list_starargs]]\n",
    "                               | parameter_list_starargs\n",
    "parameter_list_starargs   ::=  \"*\" [parameter] (\",\" defparameter)* [\",\" [\"**\" parameter [\",\"]]]\n",
    "                               | \"**\" parameter [\",\"]\n",
    "parameter                 ::=  identifier [\":\" expression]\n",
    "defparameter              ::=  parameter [\"=\" expression]\n",
    "funcname                  ::=  identifier"
   ]
  },
  {
   "cell_type": "markdown",
   "id": "15e8fed9-8279-4858-ad0d-b0b013e6b605",
   "metadata": {},
   "source": [
    "A function definition is an executable statement. Its execution binds the function name in the current local namespace to a function object (a wrapper around the executable code for the function). This function object contains a reference to the current global namespace as the global namespace to be used when the function is called.\n",
    "\n",
    "The function definition does not execute the function body; this gets executed only when the function is called. [4]\n",
    "\n",
    "A function definition may be wrapped by one or more [decorator](https://docs.python.org/3/glossary.html#term-decorator) expressions. Decorator expressions are evaluated when the function is defined, in the scope that contains the function definition. The result must be a callable, which is invoked with the function object as the only argument. The returned value is bound to the function name instead of the function object. Multiple decorators are applied in nested fashion. For example, the following code\n",
    "\n",
    "> 一个函数定义是一个可执行的语句。它的执行将当前本地名称空间中的函数名称绑定到一个函数对象（一个围绕着函数的可执行代码的包装物）。这个函数对象包含一个对当前全局名称空间的引用，作为函数被调用时使用的全局名称空间。\n",
    ">\n",
    "> 函数定义并不执行函数主体；只有当函数被调用时才会执行。[4]\n",
    ">\n",
    "> 一个函数定义可以被一个或多个[装饰器](https://docs.python.org/3/glossary.html#term-decorator)表达式包裹。当函数被定义时，装饰器表达式在包含函数定义的作用域内被运算求值。结果必须是一个可调用的，它以函数对象为唯一参数被调用。返回的值被绑定到函数名而不是函数对象上。多个装饰器以嵌套的方式被应用。例如，下面的代码"
   ]
  },
  {
   "cell_type": "raw",
   "id": "2fd181e4-89e6-4b51-b9d4-102acba37056",
   "metadata": {},
   "source": [
    "@f1(arg)\n",
    "@f2\n",
    "def func():\n",
    "    pass"
   ]
  },
  {
   "cell_type": "markdown",
   "id": "b628a9c4-0507-4d41-a590-08e477aad3e8",
   "metadata": {},
   "source": [
    "is roughly equivalent to\n",
    "\n",
    "> 大致相当于"
   ]
  },
  {
   "cell_type": "raw",
   "id": "9a6f698d-400b-4b4f-b812-1e4599f16be7",
   "metadata": {},
   "source": [
    "def func():\n",
    "    pass\n",
    "\n",
    "func = fi(arg)(f2(func))"
   ]
  },
  {
   "cell_type": "markdown",
   "id": "8d4f69ff-051c-4eb7-a193-78df1c5ed90e",
   "metadata": {},
   "source": [
    "except that the original function is not temporarily bound to the name `func`.\n",
    "\n",
    "*Changed in version 3.9:* Functions may be decorated with any valid [`assignment_expression`](https://docs.python.org/3/reference/expressions.html#grammar-token-python-grammar-assignment_expression). Previously, the grammar was much more restrictive; see [**PEP 614**](https://www.python.org/dev/peps/pep-0614) for details.\n",
    "\n",
    "When one or more [parameters](https://docs.python.org/3/glossary.html#term-parameter) have the form *parameter* `=` *expression*, the function is said to have “default parameter values.” For a parameter with a default value, the corresponding [argument](https://docs.python.org/3/glossary.html#term-argument) may be omitted from a call, in which case the parameter’s default value is substituted. If a parameter has a default value, all following parameters up until the “`*`” must also have a default value — this is a syntactic restriction that is not expressed by the grammar.\n",
    "\n",
    "**Default parameter values are evaluated from left to right when the function definition is executed.** This means that the expression is evaluated once, when the function is defined, and that the same “pre-computed” value is used for each call. This is especially important to understand when a default parameter value is a mutable object, such as a list or a dictionary: if the function modifies the object (e.g. by appending an item to a list), the default parameter value is in effect modified. This is generally not what was intended. A way around this is to use `None` as the default, and explicitly test for it in the body of the function, e.g.:\n",
    "\n",
    "> 除了原始函数没有被暂时绑定到 `func` 这个名字上。\n",
    ">\n",
    "> *在3.9版本中改变了：*函数可以用任何有效的 [`assignment_expression`](https://docs.python.org/3/reference/expressions.html#grammar-token-python-grammar-assignment_expression) 进行装饰。此前，该语法的限制性更强；详见[**PEP 614**](https://www.python.org/dev/peps/pep-0614)。\n",
    ">\n",
    "> 当一个或多个[参数](https://docs.python.org/3/glossary.html#term-parameter)具有 *parameter* `=` *expression*的形式时，该函数被称为具有 \"默认参数值\"。对于具有缺省值的参数，相应的[参数](https://docs.python.org/3/glossary.html#term-argument)可以在调用中省略，在这种情况下，参数的缺省值被替换。如果一个参数有缺省值，那么在 \"`*`\" 之前的所有后续参数也必须有缺省值--这是语法上的限制，语法上没有表达。\n",
    ">\n",
    "> **默认参数值在执行函数定义时从左到右进行运算求值。**这意味着表达式在定义函数时被运算求值一次，并且每次调用都使用相同的 \"预计算\"值。当默认参数值是一个可改变的对象，如列表或字典时，理解这一点尤其重要：如果函数修改了该对象（例如在列表中追加一个项目），默认参数值实际上就被修改。这通常不是我们的初衷。解决这个问题的方法是使用 `None` 作为默认值，并在函数的主体中明确地测试它，例如："
   ]
  },
  {
   "cell_type": "code",
   "execution_count": 12,
   "id": "42d70704-2782-492a-bdfa-5b53c80597ce",
   "metadata": {},
   "outputs": [
    {
     "name": "stdout",
     "output_type": "stream",
     "text": [
      "[1, 2, 3]\n",
      "[1, 2, 3, 4]\n"
     ]
    },
    {
     "data": {
      "text/plain": [
       "True"
      ]
     },
     "execution_count": 12,
     "metadata": {},
     "output_type": "execute_result"
    },
    {
     "name": "stdout",
     "output_type": "stream",
     "text": [
      "[1, 2, 3, 4]\n",
      "[1, 2, 3, 4, 5]\n"
     ]
    },
    {
     "data": {
      "text/plain": [
       "True"
      ]
     },
     "execution_count": 12,
     "metadata": {},
     "output_type": "execute_result"
    },
    {
     "data": {
      "text/plain": [
       "['property of the zoo']"
      ]
     },
     "execution_count": 12,
     "metadata": {},
     "output_type": "execute_result"
    }
   ],
   "source": [
    "def add_list(add=[1,2,3]):\n",
    "    print(add)\n",
    "    if len(add) > 1:\n",
    "        add.append(len(add)+1)\n",
    "        print(add)\n",
    "        return True\n",
    "    \n",
    "add_list()\n",
    "\n",
    "add_list()    # 第二次调用的时候可以发现函数的默认参数值已经被上一次调用所修改掉了\n",
    "\n",
    "\n",
    "# 使用None作为参数的默认值 \n",
    "def whats_on_the_telly(penguin=None):\n",
    "    if penguin is None:\n",
    "        penguin = []\n",
    "    penguin.append(\"property of the zoo\")\n",
    "    return penguin\n",
    "\n",
    "whats_on_the_telly()"
   ]
  },
  {
   "cell_type": "markdown",
   "id": "b895bb48-d04b-41be-a377-e578a44e8c61",
   "metadata": {},
   "source": [
    "Function call semantics are described in more detail in section [Calls](https://docs.python.org/3/reference/expressions.html#calls). A function call always assigns values to all parameters mentioned in the parameter list, either from positional arguments, from keyword arguments, or from default values. If the form “`*identifier`” is present, it is initialized to a tuple receiving any excess positional parameters, defaulting to the empty tuple. If the form “`**identifier`” is present, it is initialized to a new ordered mapping receiving any excess keyword arguments, defaulting to a new empty mapping of the same type. Parameters after “`*`” or “`*identifier`” are keyword-only parameters and may only be passed by keyword arguments. Parameters before “`/`” are positional-only parameters and may only be passed by positional arguments.\n",
    "\n",
    "*Changed in version 3.8:* The `/` function parameter syntax may be used to indicate positional-only parameters. See [**PEP 570**](https://www.python.org/dev/peps/pep-0570) for details.\n",
    "\n",
    "> 函数调用的语义在[Calls](https://docs.python.org/3/reference/expressions.html#calls)一节中有更详细的描述。一个函数调用总是给参数列表中提到的所有参数赋值，要么来自位置参数，要么来自关键字参数，要么来自默认值。如果形式 \"`*identifier`\" 存在，它被初始化为一个接收任何多余位置参数的元组，默认为空元组。如果 \"`**identifier`\" 形式出现，它被初始化为一个新的有序映射，接收任何多余的关键字参数，默认为一个新的相同类型的空映射。在 \"`*`\" 或 \"`*identifier`\" 之后的参数是仅有关键字的参数，只能通过关键字参数传递。在 \"`/`\" 之前的参数是仅有位置的参数，只能通过位置参数来传递。\n",
    ">\n",
    "> *在3.8版本中改变了：* `/ `函数参数的语法可以用来表示仅有位置的参数。详见[**PEP 570**](https://www.python.org/dev/peps/pep-0570)。"
   ]
  },
  {
   "cell_type": "markdown",
   "id": "3135cbd0-cb8d-415f-9b75-070ee20ec19b",
   "metadata": {},
   "source": [
    "Parameters may have an [annotation](https://docs.python.org/3/glossary.html#term-function-annotation) of the form “`: expression`” following the parameter name. Any parameter may have an annotation, even those of the form `*identifier` or `**identifier`. Functions may have “return” annotation of the form “`-> expression`” after the parameter list. These annotations can be any valid Python expression. The presence of annotations does not change the semantics of a function. The annotation values are available as values of a dictionary keyed by the parameters’ names in the `__annotations__` attribute of the function object. If the `annotations` import from [`__future__`](https://docs.python.org/3/library/__future__.html#module-__future__) is used, annotations are preserved as strings at runtime which enables postponed evaluation. Otherwise, they are evaluated when the function definition is executed. In this case annotations may be evaluated in a different order than they appear in the source code.\n",
    "\n",
    "It is also possible to create anonymous functions (functions not bound to a name), for immediate use in expressions. This uses lambda expressions, described in section [Lambdas](https://docs.python.org/3/reference/expressions.html#lambda). Note that the lambda expression is merely a shorthand for a simplified function definition; a function defined in a “[`def`](https://docs.python.org/3/reference/compound_stmts.html#def)” statement can be passed around or assigned to another name just like a function defined by a lambda expression. The “`def`” form is actually more powerful since it allows the execution of multiple statements and annotations.\n",
    "\n",
    "> 参数名称后面可以有一个[注释](https://docs.python.org/3/glossary.html#term-function-annotation)，其形式为 \"`: expressions`\"。任何参数都可以有一个注释，甚至是那些形式为 `*identifier` 或 `**identifier` 的参数。函数可以在参数列表后面有形式为 \"`-> expression`\" 的 \"return\"注解。这些注解可以是任何有效的 Python 表达式。注释的存在并不改变函数的语义。注释值可以作为函数对象的 `__annotations__` 属性中以参数名称为键的字典的值。如果使用了从 [`__future__`](https://docs.python.org/3/library/__future__.html#module-__future__) 导入的 `annotations`，注释在运行时被保留为字符串，这可以推迟运算求值。否则，它们将在函数定义执行时被运算求值。在这种情况下，注释的运算求值顺序可能与它们在源代码中出现的顺序不同。\n",
    ">\n",
    "> 也可以创建匿名函数（不与名称绑定的函数），以便在表达式中立即使用。这使用了λ（lambda）表达式，在[Lambdas](https://docs.python.org/3/reference/expressions.html#lambda)一节中描述。请注意，lambda表达式只是简化的函数定义的缩写；在\"[`def`](https://docs.python.org/3/reference/compound_stmts.html#def) \"语句中定义的函数可以像lambda表达式定义的函数一样被传递或分配给另一个名字。\"`def`\" 形式实际上更强大，因为它允许执行多个语句和注释。"
   ]
  },
  {
   "cell_type": "markdown",
   "id": "6a4f20f1-8b91-4d5a-a2cb-c28376b58e2a",
   "metadata": {},
   "source": [
    "**Programmer’s note:** Functions are first-class objects. A “`def`” statement executed inside a function definition defines a local function that can be returned or passed around. Free variables used in the nested function can access the local variables of the function containing the def. See section [Naming and binding](https://docs.python.org/3/reference/executionmodel.html#naming) for details.\n",
    "\n",
    "> **程序员注：**函数是第一类（第一等级）对象。在一个函数定义内执行的 \"`def`\" 语句定义了一个可以返回或传递的局部函数。嵌套函数中使用的自由变量可以访问包含def的函数的局部变量。详情请参见[命名和绑定](https://docs.python.org/3/reference/executionmodel.html#naming)一节。"
   ]
  },
  {
   "cell_type": "markdown",
   "id": "f4072556-2e00-42e2-9236-0e6cce47ec97",
   "metadata": {},
   "source": [
    "**See also:**\n",
    "\n",
    "- [**PEP 3107**](https://www.python.org/dev/peps/pep-3107) - Function Annotations\n",
    "\n",
    "  The original specification for function annotations.\n",
    "\n",
    "- [**PEP 484**](https://www.python.org/dev/peps/pep-0484) - Type Hints\n",
    "\n",
    "  Definition of a standard meaning for annotations: type hints.\n",
    "\n",
    "- [**PEP 526**](https://www.python.org/dev/peps/pep-0526) - Syntax for Variable Annotations\n",
    "\n",
    "  Ability to type hint variable declarations, including class variables and instance variables\n",
    "\n",
    "- [**PEP 563**](https://www.python.org/dev/peps/pep-0563) - Postponed Evaluation of Annotations\n",
    "\n",
    "  Support for forward references within annotations by preserving annotations in a string form at runtime instead of eager evaluation."
   ]
  },
  {
   "cell_type": "markdown",
   "id": "c5eb6c3e-9b13-44e4-882e-a239a7fa0a67",
   "metadata": {},
   "source": [
    "## 8.8. Class definitions"
   ]
  },
  {
   "cell_type": "markdown",
   "id": "bf974cd8-9ba9-4542-9115-57ecddeaedd3",
   "metadata": {},
   "source": [
    "A class definition defines a class object (see section [The standard type hierarchy](https://docs.python.org/3/reference/datamodel.html#types)):\n",
    "\n",
    "> 一个类定义定义了一个类对象（见[标准类型层次](https://docs.python.org/3/reference/datamodel.html#types)一节）："
   ]
  },
  {
   "cell_type": "raw",
   "id": "570cf8cd-92ec-4114-8627-64d6e8e93198",
   "metadata": {},
   "source": [
    "classdef    ::=  [decorators] \"class\" classname [inheritance] \":\" suite\n",
    "inheritance ::=  \"(\" [argument_list] \")\"\n",
    "classname   ::=  identifier"
   ]
  },
  {
   "cell_type": "markdown",
   "id": "5016c161-186a-45db-aabd-b9ccce258c76",
   "metadata": {},
   "source": [
    "A class definition is an executable statement. The inheritance list usually gives a list of base classes (see [Metaclasses](https://docs.python.org/3/reference/datamodel.html#metaclasses) for more advanced uses), so each item in the list should evaluate to a class object which allows subclassing. Classes without an inheritance list inherit, by default, from the base class [`object`](https://docs.python.org/3/library/functions.html#object); hence,\n",
    "\n",
    "> 一个类的定义是一个可执行的语句。继承列表通常给出一个基类的列表（更高级的用法见[Metaclasses](https://docs.python.org/3/reference/datamodel.html#metaclasses)），所以列表中的每一项都应该评估为一个允许子类的对象。没有继承列表的类，默认是继承自基类 [`object`](https://docs.python.org/3/library/functions.html#object)；因此，"
   ]
  },
  {
   "cell_type": "code",
   "execution_count": 15,
   "id": "3423cfb9-e83c-44d4-8ea9-d51fc21fb969",
   "metadata": {},
   "outputs": [],
   "source": [
    "class Foo:\n",
    "    pass"
   ]
  },
  {
   "cell_type": "markdown",
   "id": "ad4a50b5-5831-4cda-965c-3f60a26e9740",
   "metadata": {},
   "source": [
    "is equivalent to"
   ]
  },
  {
   "cell_type": "code",
   "execution_count": 16,
   "id": "efa508ee-4044-4180-85fb-52fd12de7735",
   "metadata": {},
   "outputs": [],
   "source": [
    "class Foo(object):\n",
    "    pass"
   ]
  },
  {
   "cell_type": "markdown",
   "id": "8a2afdc8-fc5e-4e3a-a41c-9ed4da1f6fb0",
   "metadata": {},
   "source": [
    "The class’s suite is then executed in a new execution frame (see [Naming and binding](https://docs.python.org/3/reference/executionmodel.html#naming)), using a newly created local namespace and the original global namespace. (Usually, the suite contains mostly function definitions.) When the class’s suite finishes execution, its execution frame is discarded but its local namespace is saved. [5] A class object is then created using the inheritance list for the base classes and the saved local namespace for the attribute dictionary. The class name is bound to this class object in the original local namespace.\n",
    "\n",
    "The order in which attributes are defined in the class body is preserved in the new class’s `__dict__`. Note that this is reliable only right after the class is created and only for classes that were defined using the definition syntax.\n",
    "\n",
    "Class creation can be customized heavily using [metaclasses](https://docs.python.org/3/reference/datamodel.html#metaclasses).\n",
    "\n",
    "Classes can also be decorated: just like when decorating functions,\n",
    "\n",
    "> 然后类的套件在一个新的执行框架中执行（见[命名和绑定](https://docs.python.org/3/reference/executionmodel.html#naming)），使用一个新创建的局部名称空间和原来的全局名称空间。(通常情况下，该套件主要包含函数定义。)当类的套件执行完毕后，它的执行框架被丢弃，但它的本地命名空间被保存。[5] 然后使用基类的继承列表和保存的属性字典的本地名称空间创建一个类对象。类名被绑定到原始本地名称空间中的这个类对象。\n",
    ">\n",
    "> 在新类的 `__dict__` 中保留了属性在类体内定义的顺序。注意，这只在类被创建后才可靠，而且只对使用定义语法定义的类。\n",
    ">\n",
    "> 类的创建可以使用 [metaclasses](https://docs.python.org/3/reference/datamodel.html#metaclasses) 进行大量的定制。\n",
    ">\n",
    "> 类也可以被装饰：就像装饰函数时一样。"
   ]
  },
  {
   "cell_type": "raw",
   "id": "b3515373-338b-45b9-b30f-24cb24c7a632",
   "metadata": {},
   "source": [
    "@f1(arg)\n",
    "@f2\n",
    "class Foo:\n",
    "    pass\n"
   ]
  },
  {
   "cell_type": "markdown",
   "id": "6f907795-cce6-4618-ae72-33fa15878c8b",
   "metadata": {},
   "source": [
    "is roughly equivalent to"
   ]
  },
  {
   "cell_type": "raw",
   "id": "4ae88efe-d49d-41b7-a94f-f15a85ba4913",
   "metadata": {},
   "source": [
    "class Foo:\n",
    "    pass\n",
    "\n",
    "Foo = f1(arg)(f2(Foo))"
   ]
  },
  {
   "cell_type": "markdown",
   "id": "149ab041-182c-44cf-9f7b-a9fd2f5f4c80",
   "metadata": {},
   "source": [
    "The evaluation rules for the decorator expressions are the same as for function decorators. The result is then bound to the class name.\n",
    "\n",
    "*Changed in version 3.9:* Classes may be decorated with any valid [`assignment_expression`](https://docs.python.org/3/reference/expressions.html#grammar-token-python-grammar-assignment_expression). Previously, the grammar was much more restrictive; see [**PEP 614**](https://www.python.org/dev/peps/pep-0614) for details.\n",
    "\n",
    "**Programmer’s note:** Variables defined in the class definition are class attributes; they are shared by instances. Instance attributes can be set in a method with `self.name = value`. Both class and instance attributes are accessible through the notation “`self.name`”, and an instance attribute hides a class attribute with the same name when accessed in this way. Class attributes can be used as defaults for instance attributes, but using mutable values there can lead to unexpected results. [Descriptors](https://docs.python.org/3/reference/datamodel.html#descriptors) can be used to create instance variables with different implementation details.\n",
    "\n",
    "> 装饰器表达式的运算求值规则与函数装饰器的运算求值规则相同。然后，结果被绑定到类的名称上。\n",
    ">\n",
    "> *在3.9版本中改变了：*类可以用任何有效的 [`assignment_expression`](https://docs.python.org/3/reference/expressions.html#grammar-token-python-grammar-assignment_expression) 来装饰。此前，该语法的限制性更强；详见[**PEP 614**](https://www.python.org/dev/peps/pep-0614)。\n",
    ">\n",
    "> **程序员注：**在类定义中定义的变量是类属性；它们被实例所共享。实例属性可以在方法中用 `self.name = value` 来设置。类和实例属性都可以通过符号 \"`self.name`\" 来访问，当以这种方式访问时，实例属性会隐藏同名的类属性。类属性可以作为实例属性的默认值，但是在这里使用可变值会导致意想不到的结果。[Descriptors](https://docs.python.org/3/reference/datamodel.html#descriptors)可以用来创建具有不同实现细节的实例变量。"
   ]
  },
  {
   "cell_type": "markdown",
   "id": "82921bbd-025c-4099-ada3-2c8496740020",
   "metadata": {},
   "source": [
    "**See also:**\n",
    "\n",
    "- [**PEP 3115**](https://www.python.org/dev/peps/pep-3115) - Metaclasses in Python 3000\n",
    "\n",
    "  The proposal that changed the declaration of metaclasses to the current syntax, and the semantics for how classes with metaclasses are constructed.\n",
    "\n",
    "- [**PEP 3129**](https://www.python.org/dev/peps/pep-3129) - Class Decorators\n",
    "\n",
    "  The proposal that added class decorators. Function and method decorators were introduced in [**PEP 318**](https://www.python.org/dev/peps/pep-0318)."
   ]
  },
  {
   "cell_type": "markdown",
   "id": "c6a5e2cc-a137-4f1b-9d4d-e9afd387d1fa",
   "metadata": {},
   "source": [
    "## 8.9. Coroutines"
   ]
  },
  {
   "cell_type": "markdown",
   "id": "05017167-3770-48f5-b35f-2cd7c9b5aa08",
   "metadata": {},
   "source": [
    "*New in version 3.5.*"
   ]
  },
  {
   "cell_type": "markdown",
   "id": "45b2c6ae-c911-4a59-914b-e99c9ea473a9",
   "metadata": {},
   "source": [
    "### 8.9.1. Coroutine function definition"
   ]
  },
  {
   "cell_type": "raw",
   "id": "b26e743b-a634-46c8-bc01-4c5ee12356ac",
   "metadata": {},
   "source": [
    "async_funcdef ::=  [decorators] \"async\" \"def\" funcname \"(\" [parameter_list] \")\"\n",
    "                   [\"->\" expression] \":\" suite"
   ]
  },
  {
   "cell_type": "markdown",
   "id": "d0715a4c-2a54-4f8d-b022-a357db165bee",
   "metadata": {},
   "source": [
    "Execution of Python coroutines can be suspended and resumed at many points (see [coroutine](https://docs.python.org/3/glossary.html#term-coroutine)). [`await`](https://docs.python.org/3/reference/expressions.html#await) expressions, [`async for`](https://docs.python.org/3/reference/compound_stmts.html#async-for) and [`async with`](https://docs.python.org/3/reference/compound_stmts.html#async-with) can only be used in the body of a coroutine function.\n",
    "\n",
    "Functions defined with `async def` syntax are always coroutine functions, even if they do not contain `await` or `async` keywords.\n",
    "\n",
    "It is a [`SyntaxError`](https://docs.python.org/3/library/exceptions.html#SyntaxError) to use a `yield from` expression inside the body of a coroutine function.\n",
    "\n",
    "An example of a coroutine function:\n",
    "\n",
    "> Python COROUTINE的执行可以在很多地方暂停和恢复 (参见 [coroutine](https://docs.python.org/3/glossary.html#term-coroutine))。[`await`](https://docs.python.org/3/reference/expressions.html#await) 表达式、[`async for`](https://docs.python.org/3/reference/compound_stmts.html#async-for) 和 [`async with`](https://docs.python.org/3/reference/compound_stmts.html#async-with) 只能在一个coroutine函数的主体中使用。\n",
    ">\n",
    "> 用 \"async def \"语法定义的函数始终是coroutine函数，即使它们不包含 `await` 或 `async` 关键字。\n",
    ">\n",
    "> 在coroutine函数的主体中使用`yield from`表达式是一个[语法错误](https://docs.python.org/3/library/exceptions.html#SyntaxError)。\n",
    ">\n",
    "> 一个循环函数的例子："
   ]
  },
  {
   "cell_type": "code",
   "execution_count": 3,
   "id": "5453c40e-e632-4ec7-a0b5-260e69fea9b1",
   "metadata": {},
   "outputs": [],
   "source": [
    "async def func(param1, param2):\n",
    "    do_stuff()\n",
    "    await some_coroutine()"
   ]
  },
  {
   "cell_type": "markdown",
   "id": "56f43c41-4701-4d89-bdf0-33c0d53bcc8a",
   "metadata": {},
   "source": [
    "*Changed in version 3.7:* `await` and `async` are now keywords; previously they were only treated as such inside the body of a coroutine function."
   ]
  },
  {
   "cell_type": "markdown",
   "id": "6fe775f4-d3e9-419c-93f1-da3ee0a7f799",
   "metadata": {},
   "source": [
    "### 8.9.2. The `async for` statement"
   ]
  },
  {
   "cell_type": "raw",
   "id": "d839db0a-22d5-4e93-b28e-3ac25e88115b",
   "metadata": {},
   "source": [
    "async_for_stmt ::=  \"async\" for_stmt"
   ]
  },
  {
   "cell_type": "markdown",
   "id": "36cbd5de-40dd-434d-b068-1d1427cbf1c6",
   "metadata": {},
   "source": [
    "An [asynchronous iterable](https://docs.python.org/3/glossary.html#term-asynchronous-iterable) provides an `__aiter__` method that directly returns an [asynchronous iterator](https://docs.python.org/3/glossary.html#term-asynchronous-iterator), which can call asynchronous code in its `__anext__` method.\n",
    "\n",
    "The `async for` statement allows convenient iteration over asynchronous iterables.\n",
    "\n",
    "The following code:\n",
    "\n",
    "> 一个[异步迭代器](https://docs.python.org/3/glossary.html#term-asynchronous-iterable)提供了一个 `__aiter__` 方法，直接返回一个[异步迭代器](https://docs.python.org/3/glossary.html#term-asynchronous-iterator)，它可以在其 `__anext__` 方法中调用异步代码。\n",
    ">\n",
    "> `async for `语句可以方便地对异步迭代器进行迭代。\n",
    ">\n",
    "> 下面的代码："
   ]
  },
  {
   "cell_type": "raw",
   "id": "b0f6ebf5-8acb-4d0e-894f-1632d43210c8",
   "metadata": {},
   "source": [
    "async for TARGET in ITER:\n",
    "    SUITE\n",
    "else:\n",
    "    SUITE2"
   ]
  },
  {
   "cell_type": "markdown",
   "id": "9af04b11-f7d7-4ab7-923e-ce5d1a2e0e22",
   "metadata": {},
   "source": [
    "Is semantically equivalent to:"
   ]
  },
  {
   "cell_type": "raw",
   "id": "56407d92-57ca-4fa6-822c-e95a40f8f71b",
   "metadata": {},
   "source": [
    "iter = (ITER)\n",
    "iter = type(iter).__aiter__(iter)\n",
    "running = True\n",
    "\n",
    "while running:\n",
    "    try:\n",
    "        TARGET = await type(iter).__anext__(iter)\n",
    "    except StopAsyncIteration:\n",
    "        running = False\n",
    "    else:\n",
    "        SUITE\n",
    "else:\n",
    "    SUITE2"
   ]
  },
  {
   "cell_type": "markdown",
   "id": "d4bc8401-c5d2-4591-8b86-52031584c229",
   "metadata": {},
   "source": [
    "It is a [`SyntaxError`](https://docs.python.org/3/library/exceptions.html#SyntaxError) to use an `async for` statement outside the body of a coroutine function.\n",
    "\n",
    "> 详情请参见 `__aiter__()` 和 `__anext__()`。\n",
    ">\n",
    "> 在coroutine函数的主体之外使用 `async for` 语句是一个 [`SyntaxError`](https://docs.python.org/3/library/exceptions.html#SyntaxError)。\n",
    "\n"
   ]
  },
  {
   "cell_type": "markdown",
   "id": "0d9c98af-e5af-48bf-bc03-70a91cb5b989",
   "metadata": {},
   "source": [
    "### 8.9.3. The `async with` statement"
   ]
  },
  {
   "cell_type": "raw",
   "id": "8dfe49f8-eb35-453e-82d4-87ada721fd08",
   "metadata": {},
   "source": [
    "async_with_stmt ::=  \"async\" with_stmt"
   ]
  },
  {
   "cell_type": "markdown",
   "id": "d0268f01-f0c3-4d8b-83f7-96b83ebb2dab",
   "metadata": {},
   "source": [
    "An [asynchronous context manager](https://docs.python.org/3/glossary.html#term-asynchronous-context-manager) is a [context manager](https://docs.python.org/3/glossary.html#term-context-manager) that is able to suspend execution in its *enter* and *exit* methods.\n",
    "\n",
    "The following code:\n",
    "\n",
    "> 一个[异步上下文管理器](https://docs.python.org/3/glossary.html#term-asynchronous-context-manager)是一个[上下文管理器](https://docs.python.org/3/glossary.html#term-context-manager)，能够在其*进入*和*退出*方法中暂停执行。\n",
    ">\n",
    "> 下面的代码："
   ]
  },
  {
   "cell_type": "raw",
   "id": "e2f54ac3-eabd-4bb0-a730-4367047e60cb",
   "metadata": {},
   "source": [
    "async with EXPRESSION as TARGET:\n",
    "    SUITE"
   ]
  },
  {
   "cell_type": "markdown",
   "id": "234a84c2-c6b3-49e2-b3a2-fe422f5be1cd",
   "metadata": {},
   "source": [
    "is semantically equivalent to:"
   ]
  },
  {
   "cell_type": "raw",
   "id": "d7a7984c-36b5-499f-be09-12565467e5b2",
   "metadata": {},
   "source": [
    "manager = (EXPRESSION)\n",
    "aenter = type(manager).__aenter__\n",
    "aexit = type(manager).__aexit__\n",
    "value = await aenter(manager)\n",
    "hit_except = False\n",
    "\n",
    "try:\n",
    "    TARGET = value\n",
    "    SUITE\n",
    "except:\n",
    "    hit_except = True\n",
    "    if not await aexit(manager, *sys.exc_info()):\n",
    "        raise\n",
    "finally:\n",
    "    if not hit_except:\n",
    "        await aexit(manager, None, None, None)"
   ]
  },
  {
   "cell_type": "markdown",
   "id": "a3d6afb2-fd1a-4f7a-a360-f48b887ca963",
   "metadata": {},
   "source": [
    "See also `__aenter__()` and `__aexit__()` for details.\n",
    "\n",
    "It is a [`SyntaxError`](https://docs.python.org/3/library/exceptions.html#SyntaxError) to use an `async with` statement outside the body of a coroutine function.\n",
    "\n",
    "> 详见 `__aenter__()` 和 `__aexit__()`。\n",
    ">\n",
    "> 在coroutine函数的主体之外使用 `async with` 语句是一个 [`SyntaxError`](https://docs.python.org/3/library/exceptions.html#SyntaxError)。"
   ]
  },
  {
   "cell_type": "markdown",
   "id": "5879eb9e-0452-461c-9c88-41a380774ea8",
   "metadata": {},
   "source": [
    "**See also:**\n",
    "\n",
    "- [**PEP 492**](https://www.python.org/dev/peps/pep-0492) - Coroutines with async and await syntax\n",
    "\n",
    "  The proposal that made coroutines a proper standalone concept in Python, and added supporting syntax."
   ]
  },
  {
   "cell_type": "markdown",
   "id": "65d5f7e7-fd4e-4223-b191-b5404ecbd316",
   "metadata": {},
   "source": [
    "**Footnotes**\n",
    "\n",
    "- [1]: The exception is propagated to the invocation stack unless there is a [`finally`](https://docs.python.org/3/reference/compound_stmts.html#finally) clause which happens to raise another exception. That new exception causes the old one to be lost.\n",
    "\n",
    "- [2]: In pattern matching, a sequence is defined as one of the following:a class that inherits from [`collections.abc.Sequence`](https://docs.python.org/3/library/collections.abc.html#collections.abc.Sequence)a Python class that has been registered as [`collections.abc.Sequence`](https://docs.python.org/3/library/collections.abc.html#collections.abc.Sequence)a builtin class that has its (CPython) [`Py_TPFLAGS_SEQUENCE`](https://docs.python.org/3/c-api/typeobj.html#Py_TPFLAGS_SEQUENCE) bit seta class that inherits from any of the aboveThe following standard library classes are sequences:[`array.array`](https://docs.python.org/3/library/array.html#array.array) [`collections.deque`](https://docs.python.org/3/library/collections.html#collections.deque) [`list`](https://docs.python.org/3/library/stdtypes.html#list) [`memoryview`](https://docs.python.org/3/library/stdtypes.html#memoryview) [`range`](https://docs.python.org/3/library/stdtypes.html#range)[`tuple`](https://docs.python.org/3/library/stdtypes.html#tuple) Note Subject values of type `str`, `bytes`, and `bytearray` do not match sequence patterns.\n",
    "\n",
    "- [3]: In pattern matching, a mapping is defined as one of the following:a class that inherits from [`collections.abc.Mapping`](https://docs.python.org/3/library/collections.abc.html#collections.abc.Mapping)a Python class that has been registered as [`collections.abc.Mapping`](https://docs.python.org/3/library/collections.abc.html#collections.abc.Mapping)a builtin class that has its (CPython) [`Py_TPFLAGS_MAPPING`](https://docs.python.org/3/c-api/typeobj.html#Py_TPFLAGS_MAPPING) bit seta class that inherits from any of the aboveThe standard library classes [`dict`](https://docs.python.org/3/library/stdtypes.html#dict) and [`types.MappingProxyType`](https://docs.python.org/3/library/types.html#types.MappingProxyType) are mappings.\n",
    "\n",
    "- [4]: A string literal appearing as the first statement in the function body is transformed into the function’s `__doc__` attribute and therefore the function’s [docstring](https://docs.python.org/3/glossary.html#term-docstring).\n",
    "\n",
    "- [5]: A string literal appearing as the first statement in the class body is transformed into the namespace’s `__doc__` item and therefore the class’s [docstring](https://docs.python.org/3/glossary.html#term-docstring)."
   ]
  }
 ],
 "metadata": {
  "kernelspec": {
   "display_name": "Python 3 (ipykernel)",
   "language": "python",
   "name": "python3"
  },
  "language_info": {
   "codemirror_mode": {
    "name": "ipython",
    "version": 3
   },
   "file_extension": ".py",
   "mimetype": "text/x-python",
   "name": "python",
   "nbconvert_exporter": "python",
   "pygments_lexer": "ipython3",
   "version": "3.10.4"
  }
 },
 "nbformat": 4,
 "nbformat_minor": 5
}
