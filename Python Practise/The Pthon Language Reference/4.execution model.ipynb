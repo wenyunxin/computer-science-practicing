{
 "cells": [
  {
   "cell_type": "code",
   "execution_count": 1,
   "id": "f8831e6d-41bf-4302-93b3-e064e96f4d15",
   "metadata": {},
   "outputs": [],
   "source": [
    "from IPython.core.interactiveshell import InteractiveShell\n",
    "InteractiveShell.ast_node_interactivity = \"all\""
   ]
  },
  {
   "cell_type": "markdown",
   "id": "8cd0bde8-5ed8-480a-9668-96864541b8dd",
   "metadata": {},
   "source": [
    "## 4.1 Structure of a program"
   ]
  },
  {
   "cell_type": "markdown",
   "id": "3da84c01-9eb0-48f2-86e9-a54192d2c464",
   "metadata": {},
   "source": [
    "A Python program is constructed from code blocks. A *block* is a piece of Python program text that is executed as a unit. The following are blocks: a module, a function body, and a class definition. Each command typed interactively is a block. A script file (a file given as standard input to the interpreter or specified as a command line argument to the interpreter) is a code block. A script command (a command specified on the interpreter command line with the [`-c`](https://docs.python.org/3/using/cmdline.html#cmdoption-c) option) is a code block. A module run as a top level script (as module `__main__`) from the command line using a [`-m`](https://docs.python.org/3/using/cmdline.html#cmdoption-m) argument is also a code block. The string argument passed to the built-in functions [`eval()`](https://docs.python.org/3/library/functions.html#eval) and [`exec()`](https://docs.python.org/3/library/functions.html#exec) is a code block.\n",
    "\n",
    "A code block is executed in an *execution frame*. A frame contains some administrative information (used for debugging) and determines where and how execution continues after the code block’s execution has completed.\n",
    "\n",
    "> 一个Python程序是由代码块构成的。一个*块*是一段Python程序文本，作为一个单元来执行。以下是代码块：一个模块，一个函数体，和一个类定义。每个交互式输入的命令都是一个块。一个脚本文件 (作为标准输入给解释器的文件或作为命令行参数指定给解释器的文件) 是一个代码块。脚本命令（在解释器的命令行中用[`-c`](https://docs.python.org/3/using/cmdline.html#cmdoption-c)选项指定的命令）是一个代码块。在命令行中使用 [`-m`](https://docs.python.org/3/using/cmdline.html#cmdoption-m) 参数作为顶级脚本运行的模块（作为模块`__main__`）也是一个代码块。传递给内置函数[`eval()`](https://docs.python.org/3/library/functions.html#eval)和[`exec()`](https://docs.python.org/3/library/functions.html#exec)的字符串参数是一个代码块。\n",
    ">\n",
    "> 一个代码块在一个*执行框架*中执行。一个框架包含一些管理信息（用于调试），并决定在代码块执行完成后在哪里以及如何继续执行。"
   ]
  },
  {
   "cell_type": "markdown",
   "id": "1d9aaf18-657d-49f0-a769-ce3e4c1731f3",
   "metadata": {},
   "source": [
    "## 4.2. Naming and binding"
   ]
  },
  {
   "cell_type": "markdown",
   "id": "e3aa332e-cf25-4c22-af54-b4f220876a27",
   "metadata": {},
   "source": [
    "### 4.2.1. Binding of names"
   ]
  },
  {
   "cell_type": "markdown",
   "id": "a246120f-66c6-43be-b1cf-9b6e901417ea",
   "metadata": {},
   "source": [
    "*Names* refer to objects. Names are introduced by name binding operations.\n",
    "\n",
    "The following constructs bind names:\n",
    "\n",
    "- formal parameters to functions,\n",
    "- class definitions,\n",
    "- function definitions,\n",
    "- assignment expressions,\n",
    "- [targets](https://docs.python.org/3/reference/simple_stmts.html#assignment) that are identifiers if occurring in an assignment:\n",
    "  - [`for`](https://docs.python.org/3/reference/compound_stmts.html#for) loop header,\n",
    "  - after `as` in a [`with`](https://docs.python.org/3/reference/compound_stmts.html#with) statement, [`except`](https://docs.python.org/3/reference/compound_stmts.html#except) clause or in the as-pattern in structural pattern matching,\n",
    "  - in a capture pattern in structural pattern matching\n",
    "- [`import`](https://docs.python.org/3/reference/simple_stmts.html#import) statements.\n",
    "\n",
    "The `import` statement of the form `from ... import *` binds all names defined in the imported module, except those beginning with an underscore. This form may only be used at the module level.\n",
    "\n",
    "A target occurring in a [`del`](https://docs.python.org/3/reference/simple_stmts.html#del) statement is also considered bound for this purpose (though the actual semantics are to unbind the name).\n",
    "\n",
    "Each assignment or import statement occurs within a block defined by a class or function definition or at the module level (the top-level code block).\n",
    "\n",
    "If a name is bound in a block, it is a local variable of that block, unless declared as [`nonlocal`](https://docs.python.org/3/reference/simple_stmts.html#nonlocal) or [`global`](https://docs.python.org/3/reference/simple_stmts.html#global). If a name is bound at the module level, it is a global variable. (The variables of the module code block are local and global.) If a variable is used in a code block but not defined there, it is a *free variable*.\n",
    "\n",
    "Each occurrence of a name in the program text refers to the *binding* of that name established by the following name resolution rules.\n",
    "\n",
    "> *名称*指的是对象。名称是由名称绑定操作引入的。\n",
    ">\n",
    "> 下面的结构可以绑定名字：\n",
    ">\n",
    "> - 函数的正式参数，\n",
    "> - 类定义，\n",
    "> - 函数定义，\n",
    "> - 赋值表达式，\n",
    "> - [target](https://docs.python.org/3/reference/simple_stmts.html#assignment)，如果出现在赋值中，就是标识符：\n",
    ">   - [`for`](https://docs.python.org/3/reference/compound_stmts.html#for)循环头，\n",
    ">   - 在[`with`](https://docs.python.org/3/reference/compound_stmts.html#with)语句中的`as`后面，[`except`](https://docs.python.org/3/reference/compound_stmts.html#except)子句或结构模式匹配中的as-pattern，\n",
    ">   - 在结构模式匹配中的捕获模式中\n",
    "> - [`import`](https://docs.python.org/3/reference/simple_stmts.html#import) 语句。\n",
    ">\n",
    "> 形式为 `from ... import *` 的 `import` 语句绑定了所有在导入模块中定义的名字，除了那些以下划线开头的名字。这种形式只能在模块层面上使用。\n",
    ">\n",
    "> 在[`del`](https://docs.python.org/3/reference/simple_stmts.html#del)语句中出现的目标也被认为是被绑定的（尽管实际语义是解除名字的绑定）。\n",
    ">\n",
    "> 每个赋值或导入语句都发生在由类或函数定义的块中，或在模块级（顶级代码块）。\n",
    ">\n",
    "> 如果一个名字被绑定在一个块中，它就是该块的局部变量，除非声明为[`nonlocal`](https://docs.python.org/3/reference/simple_stmts.html#nonlocal)或[`global`](https://docs.python.org/3/reference/simple_stmts.html#global)。如果一个名字在模块级别被绑定，它就是一个全局变量。(模块代码块的变量是局部和全局的。)如果一个变量在代码块中使用但没有定义，它就是一个*自由变量*。\n",
    ">\n",
    "> 在程序文本中出现的每一个名称都是指由以下名称解析规则建立的该名称的*绑定*"
   ]
  },
  {
   "cell_type": "markdown",
   "id": "7a5fbce2-6a58-4972-8747-5ed02b7ff819",
   "metadata": {},
   "source": [
    "### 4.2.2. Resolution of names"
   ]
  },
  {
   "cell_type": "markdown",
   "id": "02bf745f-4b1d-4a5b-92aa-0fc3e835a105",
   "metadata": {},
   "source": [
    "A *scope* defines the visibility of a name within a block. If a local variable is defined in a block, its scope includes that block. If the definition occurs in a function block, the scope extends to any blocks contained within the defining one, unless a contained block introduces a different binding for the name.\n",
    "\n",
    "When a name is used in a code block, it is resolved using the nearest enclosing scope. The set of all such scopes visible to a code block is called the block’s *environment*.\n",
    "\n",
    "When a name is not found at all, a [`NameError`](https://docs.python.org/3/library/exceptions.html#NameError) exception is raised. If the current scope is a function scope, and the name refers to a local variable that has not yet been bound to a value at the point where the name is used, an [`UnboundLocalError`](https://docs.python.org/3/library/exceptions.html#UnboundLocalError) exception is raised. [`UnboundLocalError`](https://docs.python.org/3/library/exceptions.html#UnboundLocalError) is a subclass of [`NameError`](https://docs.python.org/3/library/exceptions.html#NameError).\n",
    "\n",
    "If a name binding operation occurs anywhere within a code block, all uses of the name within the block are treated as references to the current block. This can lead to errors when a name is used within a block before it is bound. This rule is subtle. Python lacks declarations and allows name binding operations to occur anywhere within a code block. The local variables of a code block can be determined by scanning the entire text of the block for name binding operations.\n",
    "\n",
    "If the [`global`](https://docs.python.org/3/reference/simple_stmts.html#global) statement occurs within a block, all uses of the names specified in the statement refer to the bindings of those names in the top-level namespace. Names are resolved in the top-level namespace by searching the global namespace, i.e. the namespace of the module containing the code block, and the builtins namespace, the namespace of the module [`builtins`](https://docs.python.org/3/library/builtins.html#module-builtins). The global namespace is searched first. If the names are not found there, the builtins namespace is searched. The `global` statement must precede all uses of the listed names.\n",
    "\n",
    "The [`global`](https://docs.python.org/3/reference/simple_stmts.html#global) statement has the same scope as a name binding operation in the same block. If the nearest enclosing scope for a free variable contains a global statement, the free variable is treated as a global.\n",
    "\n",
    "The [`nonlocal`](https://docs.python.org/3/reference/simple_stmts.html#nonlocal) statement causes corresponding names to refer to previously bound variables in the nearest enclosing function scope. [`SyntaxError`](https://docs.python.org/3/library/exceptions.html#SyntaxError) is raised at compile time if the given name does not exist in any enclosing function scope.\n",
    "\n",
    "The namespace for a module is automatically created the first time a module is imported. The main module for a script is always called [`__main__`](https://docs.python.org/3/library/__main__.html#module-__main__).\n",
    "\n",
    "Class definition blocks and arguments to [`exec()`](https://docs.python.org/3/library/functions.html#exec) and [`eval()`](https://docs.python.org/3/library/functions.html#eval) are special in the context of name resolution. A class definition is an executable statement that may use and define names. These references follow the normal rules for name resolution with an exception that unbound local variables are looked up in the global namespace. The namespace of the class definition becomes the attribute dictionary of the class. The scope of names defined in a class block is limited to the class block; it does not extend to the code blocks of methods – this includes comprehensions and generator expressions since they are implemented using a function scope. This means that the following will fail:\n",
    "\n",
    "> 一个*作用域*定义了一个名字在一个块中的可见性。如果一个局部变量被定义在一个块中，它的作用域包括该块。如果定义发生在一个函数块中，其作用域将扩展到包含在定义块中的任何块，除非一个包含的块为该名称引入了不同的绑定。\n",
    ">\n",
    "> 当一个名字在代码块中使用时，它将使用最近的封闭作用域来解决。对一个代码块可见的所有这些作用域的集合被称为该块的*环境*。\n",
    ">\n",
    "> 当完全找不到一个名字时，会产生一个 [`NameError`](https://docs.python.org/3/library/exceptions.html#NameError) 异常。如果当前作用域是一个函数作用域，并且名字指向一个局部变量，而这个局部变量在使用名字的时候还没有被绑定到一个值，那么就会产生一个 [`UnboundLocalError`](https://docs.python.org/3/library/exceptions.html#UnboundLocalError) 异常。[`UnboundLocalError`](https://docs.python.org/3/library/exceptions.html#UnboundLocalError)是[`NameError`](https://docs.python.org/3/library/exceptions.html#NameError)的一个子类。\n",
    ">\n",
    "> 如果名字绑定操作发生在代码块的任何地方，那么代码块内所有名字的使用都被视为对当前代码块的引用。当一个名字在被绑定之前在块内使用时，这可能导致错误。这个规则很不易觉察。Python 缺乏声明，允许在代码块内的任何地方进行名字绑定操作。一个代码块的局部变量可以通过扫描该代码块的整个文本来确定名称绑定操作。\n",
    ">\n",
    "> 如果[`global`](https://docs.python.org/3/reference/simple_stmts.html#global)语句出现在一个代码块中，那么语句中指定的名字的所有使用都是指这些名字在顶级名称空间中的绑定。通过搜索全局名称空间，即包含代码块的模块的名称空间，以及内置名称空间，即模块[`builtins`](https://docs.python.org/3/library/builtins.html#module-builtins)的名称空间，来解决顶级名称空间中的名称。全局名称空间首先被搜索到。如果在那里找不到这些名字，则搜索buildins名字空间。`global` 声明必须在所有列出的名字的使用之前。\n",
    ">\n",
    "> [`global`](https://docs.python.org/3/reference/simple_stmts.html#global) 语句的作用域与同一区块中的名称绑定操作相同。如果一个自由变量最近的闭合作用域包含一个global语句，那么该自由变量将被视为一个全局。\n",
    ">\n",
    "> [`nonlocal`](https://docs.python.org/3/reference/simple_stmts.html#nonlocal)语句会使相应的名字指向最近的闭合函数作用域中先前绑定的变量。如果给定的名字不存在于任何闭合的函数作用域内，[`SyntaxError`](https://docs.python.org/3/library/exceptions.html#SyntaxError)会在编译时引发。\n",
    ">\n",
    "> 模块的名称空间在模块第一次被导入时自动创建。一个脚本的主模块总是被称为 [`__main__`](https://docs.python.org/3/library/__main__.html#module-__main__)。\n",
    ">\n",
    "> 类定义块和 [`exec()`](https://docs.python.org/3/library/functions.html#exec) 和 [`eval()`](https://docs.python.org/3/library/functions.html#eval) 的参数在名称解析中是很特别的。类定义是一个可执行的语句，可以使用和定义名字。这些引用遵循正常的名称解析规则，但有一个例外，即未绑定的局部变量会在全局名称空间中查找。类定义的名字空间成为该类的属性字典。在类块中定义的名字的作用域仅限于类块；它不扩展到方法的代码块--这包括解析式和生成器表达式，因为它们是用函数作用域实现的。这意味着以下情况会失败："
   ]
  },
  {
   "cell_type": "code",
   "execution_count": 3,
   "id": "344c0d7b-b088-43b0-af51-818f1370045e",
   "metadata": {},
   "outputs": [
    {
     "ename": "NameError",
     "evalue": "name 'a' is not defined",
     "output_type": "error",
     "traceback": [
      "\u001b[1;31m---------------------------------------------------------------------------\u001b[0m",
      "\u001b[1;31mNameError\u001b[0m                                 Traceback (most recent call last)",
      "Input \u001b[1;32mIn [3]\u001b[0m, in \u001b[0;36m<cell line: 1>\u001b[1;34m()\u001b[0m\n\u001b[1;32m----> 1\u001b[0m \u001b[38;5;28;01mclass\u001b[39;00m \u001b[38;5;21;01mA\u001b[39;00m:\n\u001b[0;32m      2\u001b[0m     a \u001b[38;5;241m=\u001b[39m \u001b[38;5;241m42\u001b[39m\n\u001b[0;32m      3\u001b[0m     b \u001b[38;5;241m=\u001b[39m \u001b[38;5;28mlist\u001b[39m(a \u001b[38;5;241m+\u001b[39m i \u001b[38;5;28;01mfor\u001b[39;00m i \u001b[38;5;129;01min\u001b[39;00m \u001b[38;5;28mrange\u001b[39m(\u001b[38;5;241m10\u001b[39m))\n",
      "Input \u001b[1;32mIn [3]\u001b[0m, in \u001b[0;36mA\u001b[1;34m()\u001b[0m\n\u001b[0;32m      1\u001b[0m \u001b[38;5;28;01mclass\u001b[39;00m \u001b[38;5;21;01mA\u001b[39;00m:\n\u001b[0;32m      2\u001b[0m     a \u001b[38;5;241m=\u001b[39m \u001b[38;5;241m42\u001b[39m\n\u001b[1;32m----> 3\u001b[0m     b \u001b[38;5;241m=\u001b[39m \u001b[38;5;28;43mlist\u001b[39;49m\u001b[43m(\u001b[49m\u001b[43ma\u001b[49m\u001b[43m \u001b[49m\u001b[38;5;241;43m+\u001b[39;49m\u001b[43m \u001b[49m\u001b[43mi\u001b[49m\u001b[43m \u001b[49m\u001b[38;5;28;43;01mfor\u001b[39;49;00m\u001b[43m \u001b[49m\u001b[43mi\u001b[49m\u001b[43m \u001b[49m\u001b[38;5;129;43;01min\u001b[39;49;00m\u001b[43m \u001b[49m\u001b[38;5;28;43mrange\u001b[39;49m\u001b[43m(\u001b[49m\u001b[38;5;241;43m10\u001b[39;49m\u001b[43m)\u001b[49m\u001b[43m)\u001b[49m\n",
      "Input \u001b[1;32mIn [3]\u001b[0m, in \u001b[0;36m<genexpr>\u001b[1;34m(.0)\u001b[0m\n\u001b[0;32m      1\u001b[0m \u001b[38;5;28;01mclass\u001b[39;00m \u001b[38;5;21;01mA\u001b[39;00m:\n\u001b[0;32m      2\u001b[0m     a \u001b[38;5;241m=\u001b[39m \u001b[38;5;241m42\u001b[39m\n\u001b[1;32m----> 3\u001b[0m     b \u001b[38;5;241m=\u001b[39m \u001b[38;5;28mlist\u001b[39m(\u001b[43ma\u001b[49m \u001b[38;5;241m+\u001b[39m i \u001b[38;5;28;01mfor\u001b[39;00m i \u001b[38;5;129;01min\u001b[39;00m \u001b[38;5;28mrange\u001b[39m(\u001b[38;5;241m10\u001b[39m))\n",
      "\u001b[1;31mNameError\u001b[0m: name 'a' is not defined"
     ]
    }
   ],
   "source": [
    "class A:\n",
    "    a = 42\n",
    "    b = list(a + i for i in range(10))    # 列表解析式有自己的函数作用域"
   ]
  },
  {
   "cell_type": "markdown",
   "id": "7a673306-3e6d-4230-aa79-d203c67b5404",
   "metadata": {},
   "source": [
    "### 4.2.3. Builtins and restricted execution"
   ]
  },
  {
   "cell_type": "markdown",
   "id": "a2161e2d-30b3-4004-aaac-4f2c873832fb",
   "metadata": {},
   "source": [
    "**CPython implementation detail:** Users should not touch `__builtins__`; it is strictly an implementation detail. Users wanting to override values in the builtins namespace should [`import`](https://docs.python.org/3/reference/simple_stmts.html#import) the [`builtins`](https://docs.python.org/3/library/builtins.html#module-builtins) module and modify its attributes appropriately.\n",
    "\n",
    "The builtins namespace associated with the execution of a code block is actually found by looking up the name `__builtins__` in its global namespace; this should be a dictionary or a module (in the latter case the module’s dictionary is used). By default, when in the [`__main__`](https://docs.python.org/3/library/__main__.html#module-__main__) module, `__builtins__` is the built-in module [`builtins`](https://docs.python.org/3/library/builtins.html#module-builtins); when in any other module, `__builtins__` is an alias for the dictionary of the [`builtins`](https://docs.python.org/3/library/builtins.html#module-builtins) module itself.\n",
    "\n",
    "> **CPython的实现细节：**用户不应触及 `__builtins__`；它是一个严格的实现细节。想要覆盖buildins名称空间的值的用户应该[`import`](https://docs.python.org/3/reference/simple_stmts.html#import)  [`builtins`](https://docs.python.org/3/library/builtins.html#module-builtins) 模块并适当地修改其属性。\n",
    ">\n",
    "> 与执行代码块相关的 builtins 名称空间实际上是通过查找其全局名称空间中的名称 `__builtins__` 来找到的；这应该是一个字典或一个模块（在后者的情况下，使用模块的字典）。默认情况下，当在 [`__main__`](https://docs.python.org/3/library/__main__.html#module-__main__) 模块中时，`__builtins__`是内置模块 [`builtins`](https://docs.python.org/3/library/builtins.html#module-builtins) ；当在任何其他模块中时，`__builtins__`是 [`builtins`](https://docs.python.org/3/library/builtins.html#module-builtins) 模块本身的字典的别名。"
   ]
  },
  {
   "cell_type": "markdown",
   "id": "23b2d47b-e943-4dd8-9e91-edfa704410a6",
   "metadata": {},
   "source": [
    "### 4.2.4. Interaction with dynamic features"
   ]
  },
  {
   "cell_type": "markdown",
   "id": "291adc81-0706-48b6-a5ca-b43253d6d645",
   "metadata": {},
   "source": [
    "Name resolution of free variables occurs at runtime, not at compile time. This means that the following code will print 42:\n",
    "\n",
    "> 自由变量的名称解析发生在运行时，而不是在编译时。这意味着下面的代码将打印42："
   ]
  },
  {
   "cell_type": "code",
   "execution_count": 2,
   "id": "44dea300-9543-4d4a-8ea6-fa5cb4b6c28a",
   "metadata": {},
   "outputs": [
    {
     "name": "stdout",
     "output_type": "stream",
     "text": [
      "42\n"
     ]
    }
   ],
   "source": [
    "i = 10\n",
    "\n",
    "def f():\n",
    "    print(i)\n",
    "\n",
    "i = 42\n",
    "f()"
   ]
  },
  {
   "cell_type": "markdown",
   "id": "ba86bf25-d670-4616-91e4-613b79a7dc15",
   "metadata": {},
   "source": [
    "The [`eval()`](https://docs.python.org/3/library/functions.html#eval) and [`exec()`](https://docs.python.org/3/library/functions.html#exec) functions do not have access to the full environment for resolving names. Names may be resolved in the local and global namespaces of the caller. Free variables are not resolved in the nearest enclosing namespace, but in the global namespace. [1](https://docs.python.org/3/reference/executionmodel.html#id3) The [`exec()`](https://docs.python.org/3/library/functions.html#exec) and [`eval()`](https://docs.python.org/3/library/functions.html#eval) functions have optional arguments to override the global and local namespace. If only one namespace is specified, it is used for both.\n",
    "\n",
    "> [`eval()`](https://docs.python.org/3/library/functions.html#eval)和[`exec()`](https://docs.python.org/3/library/functions.html#exec)函数不能访问解析名称的全部环境。名称可以在调用者的局部和全局名称空间中被解析。自由变量不在最近的闭合名称空间中解析，而是在全局名称空间中解析。[1]  [`exec()`](https://docs.python.org/3/library/functions.html#exec)和[`eval()`](https://docs.python.org/3/library/functions.html#eval)函数有可选参数来覆盖全局和局部名称空间。如果只指定了一个名称空间，它就会被用于这两个地方。"
   ]
  },
  {
   "cell_type": "markdown",
   "id": "8e29e3cb-c2cc-414e-899b-7de7395e7cf7",
   "metadata": {},
   "source": [
    "## 4.3. Exceptions"
   ]
  },
  {
   "cell_type": "markdown",
   "id": "acdba66e-97ce-4a7f-a4bf-0edf559e2c50",
   "metadata": {},
   "source": [
    "Exceptions are a means of breaking out of the normal flow of control of a code block in order to handle errors or other exceptional conditions. An exception is *raised* at the point where the error is detected; it may be *handled* by the surrounding code block or by any code block that directly or indirectly invoked the code block where the error occurred.\n",
    "\n",
    "The Python interpreter raises an exception when it detects a run-time error (such as division by zero). A Python program can also explicitly raise an exception with the [`raise`](https://docs.python.org/3/reference/simple_stmts.html#raise) statement. Exception handlers are specified with the [`try`](https://docs.python.org/3/reference/compound_stmts.html#try) … [`except`](https://docs.python.org/3/reference/compound_stmts.html#except) statement. The [`finally`](https://docs.python.org/3/reference/compound_stmts.html#finally) clause of such a statement can be used to specify cleanup code which does not handle the exception, but is executed whether an exception occurred or not in the preceding code.\n",
    "\n",
    "Python uses the “termination” model of error handling: an exception handler can find out what happened and continue execution at an outer level, but it cannot repair the cause of the error and retry the failing operation (except by re-entering the offending piece of code from the top).\n",
    "\n",
    "When an exception is not handled at all, the interpreter terminates execution of the program, or returns to its interactive main loop. In either case, it prints a stack traceback, except when the exception is [`SystemExit`](https://docs.python.org/3/library/exceptions.html#SystemExit).\n",
    "\n",
    "Exceptions are identified by class instances. The [`except`](https://docs.python.org/3/reference/compound_stmts.html#except) clause is selected depending on the class of the instance: it must reference the class of the instance or a [non-virtual base class](https://docs.python.org/3/glossary.html#term-abstract-base-class) thereof. The instance can be received by the handler and can carry additional information about the exceptional condition.\n",
    "\n",
    "> 异常是一种打破代码块正常控制流的手段，以便处理错误或其他异常情况。异常在检测到错误的地方*被引发*；它可以被周围的代码块或直接或间接调用发生错误的代码块的任何代码块所*处理*。\n",
    ">\n",
    "> 当Python解释器检测到一个运行时错误(例如除以0)时，会引发一个异常。Python 程序也可以用 [`raise`](https://docs.python.org/3/reference/simple_stmts.html#raise) 语句明确地引发一个异常。异常处理程序是用 [`try`](https://docs.python.org/3/reference/compound_stmts.html#try) ... [`except`](https://docs.python.org/3/reference/compound_stmts.html#except) 语句指定的。这种语句的 [`finally`](https://docs.python.org/3/reference/compound_stmts.html#finally) 子句可以用来指定清理代码，它不处理异常，但无论前面的代码是否发生异常，都要执行。\n",
    ">\n",
    "> Python 使用错误处理的 \"终止\"模型：一个异常处理程序可以找出发生了什么并在外层继续执行，但它不能修复错误的原因并重试失败的操作 (除非从头开始重新输入违规的代码)。\n",
    ">\n",
    "> 当一个异常完全没有被处理时，解释器会终止程序的执行，或者返回到其交互式主循环。无论哪种情况，它都会打印出一个堆栈回溯，除非异常是 [`SystemExit`](https://docs.python.org/3/library/exceptions.html#SystemExit)。\n",
    ">\n",
    "> 异常是由类实例识别的。[`except`](https://docs.python.org/3/reference/compound_stmts.html#except)子句的选择取决于实例的类：它必须引用实例的类或其[非虚拟的基类](https://docs.python.org/3/glossary.html#term-abstract-base-class)。该实例可以被处理程序接收，并且可以携带关于例外情况的额外信息。"
   ]
  },
  {
   "cell_type": "markdown",
   "id": "81a4a070-f73b-4134-87b1-a8302db2a34c",
   "metadata": {},
   "source": [
    "**Note:** Exception messages are not part of the Python API. Their contents may change from one version of Python to the next without warning and should not be relied on by code which will run under multiple versions of the interpreter.\n",
    "\n",
    "> **注意：** 异常信息不是 Python API 的一部分。它们的内容可能会在没有警告的情况下从一个Python版本变为另一个版本，因此不应该被那些将在多个版本的解释器下运行的代码所依赖。"
   ]
  },
  {
   "cell_type": "markdown",
   "id": "20ba5ffd-bb00-4459-982d-b453447e3cd6",
   "metadata": {},
   "source": [
    "See also the description of the [`try`](https://docs.python.org/3/reference/compound_stmts.html#try) statement in section [The try statement](https://docs.python.org/3/reference/compound_stmts.html#try) and [`raise`](https://docs.python.org/3/reference/simple_stmts.html#raise) statement in section [The raise statement](https://docs.python.org/3/reference/simple_stmts.html#raise).\n",
    "\n",
    "> 参见[The try statement](https://docs.python.org/3/reference/compound_stmts.html#try)章节中的[`try`](https://docs.python.org/3/reference/compound_stmts.html#try)语句和[The raise statement](https://docs.python.org/3/reference/simple_stmts.html#raise)章节中的[`raise`](https://docs.python.org/3/reference/simple_stmts.html#raise)语句的描述。"
   ]
  },
  {
   "cell_type": "markdown",
   "id": "fa7ea90d-354d-41ff-b3c1-bd700d51a997",
   "metadata": {},
   "source": [
    "**Footnotes**\n",
    "\n",
    "[1]: This limitation occurs because the code that is executed by these operations is not available at the time the module is compiled.\n",
    "\n",
    "> [1]: 出现这种限制是因为这些操作所执行的代码在编译模块的时候是不可用的。"
   ]
  }
 ],
 "metadata": {
  "kernelspec": {
   "display_name": "Python 3 (ipykernel)",
   "language": "python",
   "name": "python3"
  },
  "language_info": {
   "codemirror_mode": {
    "name": "ipython",
    "version": 3
   },
   "file_extension": ".py",
   "mimetype": "text/x-python",
   "name": "python",
   "nbconvert_exporter": "python",
   "pygments_lexer": "ipython3",
   "version": "3.10.4"
  }
 },
 "nbformat": 4,
 "nbformat_minor": 5
}
