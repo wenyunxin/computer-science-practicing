{
 "cells": [
  {
   "cell_type": "code",
   "execution_count": 1,
   "id": "2f1009e5-b0c1-428c-a154-4cb5549393ef",
   "metadata": {},
   "outputs": [],
   "source": [
    "from IPython.core.interactiveshell import InteractiveShell\n",
    "InteractiveShell.ast_node_interactivity = \"all\""
   ]
  },
  {
   "cell_type": "markdown",
   "id": "e0dff010-b948-4689-a8c7-435d1f2a8e7e",
   "metadata": {},
   "source": [
    "Classes provide a means of bundling data and functionality together. Creating a new class creates a new *type* of object, allowing new *instances* of that type to be made. Each class instance can have attributes attached to it for maintaining its state. Class instances can also have methods (defined by its class) for modifying its state.\n",
    "\n",
    "> 类提供了一种将数据和功能捆绑在一起的方法。创建一个新的类可以创建一个新的*类型*的对象，允许该类型的新*实例*被制造出来。每个类的实例都可以有附加的属性来维持其状态。类实例也可以有方法（由其类定义）来修改其状态。"
   ]
  },
  {
   "cell_type": "markdown",
   "id": "058526bf-a823-4b79-9a81-f42119ec46ea",
   "metadata": {},
   "source": [
    "Compared with other programming languages, Python’s class mechanism adds classes with a minimum of new syntax and semantics. It is a mixture of the class mechanisms found in C++ and Modula-3. Python classes provide all the standard features of Object Oriented Programming: the class inheritance mechanism allows multiple base classes, a derived class can override any methods of its base class or classes, and a method can call the method of a base class with the same name. Objects can contain arbitrary amounts and kinds of data. As is true for modules, classes partake of the dynamic nature of Python: they are created at runtime, and can be modified further after creation.\n",
    "\n",
    "> 与其它编程语言相比，Python 的类机制以最少的新语法和语义增加了类。它是 C++ 和 Modula-3 中的类机制的混合物。Python 的类提供了面向对象编程的所有标准特性：类的继承机制允许多个基类，一个派生类可以覆盖其基类或类的任何方法，一个方法可以调用同名基类的方法。对象可以包含任意数量和种类的数据。与模块一样，类也具有 Python 的动态特性：它们在运行时被创建，并可以在创建后进一步修改。"
   ]
  },
  {
   "cell_type": "markdown",
   "id": "c437543f-f743-43ac-898a-0a64241cd72e",
   "metadata": {},
   "source": [
    "In C++ terminology, normally class members (including the data members) are *public* (except see below [Private Variables](https://docs.python.org/3/tutorial/classes.html#tut-private)), and all member functions are *virtual*. As in Modula-3, there are no shorthands for referencing the object’s members from its methods: the method function is declared with an explicit first argument representing the object, which is provided implicitly by the call. As in Smalltalk, classes themselves are objects. This provides semantics for importing and renaming. Unlike C++ and Modula-3, built-in types can be used as base classes for extension by the user. Also, like in C++, most built-in operators with special syntax (arithmetic operators, subscripting etc.) can be redefined for class instances.\n",
    "\n",
    "> 在C++术语中，通常类成员（包括数据成员）是*公共的*（除了见下文[私有变量](https://docs.python.org/3/tutorial/classes.html#tut-private)），所有成员函数是*虚拟的*。和Modula-3一样，从对象的方法中引用对象的成员没有简略方法：方法函数在声明时有一个明确的代表对象的第一个参数，该参数由调用隐含地提供。就像在Smalltalk中一样，类本身就是对象。这为导入和重命名提供了语义。与C++和Modula-3不同，内置类型可以作为用户扩展的基类。另外，像C++一样，大多数具有特殊语法的内置运算符（算术运算符、下标等）可以为类实例重新定义。"
   ]
  },
  {
   "cell_type": "markdown",
   "id": "ace6416d-ebd4-4ac2-9ef3-4af368fca510",
   "metadata": {},
   "source": [
    "(Lacking universally accepted terminology to talk about classes, I will make occasional use of Smalltalk and C++ terms. I would use Modula-3 terms, since its object-oriented semantics are closer to those of Python than C++, but I expect that few readers have heard of it.)\n",
    "\n",
    "> (由于缺乏普遍接受的术语来谈论类，我将偶尔使用Smalltalk和C++术语。我会使用Modula-3术语，因为它的面向对象的语义比C++更接近Python的语义，但我估计很少有读者听说过它）。"
   ]
  },
  {
   "cell_type": "markdown",
   "id": "27877580-689b-4e8d-829a-43463e77b33a",
   "metadata": {},
   "source": [
    "## 9.1. A Word About Names and Objects"
   ]
  },
  {
   "cell_type": "markdown",
   "id": "5a18b744-ae4b-464e-b631-c1515a8568f7",
   "metadata": {},
   "source": [
    "Objects have individuality, and multiple names (in multiple scopes) can be bound to the same object. This is known as aliasing in other languages. This is usually not appreciated on a first glance at Python, and can be safely ignored when dealing with immutable basic types (numbers, strings, tuples). However, aliasing has a possibly surprising effect on the semantics of Python code involving mutable objects such as lists, dictionaries, and most other types. This is usually used to the benefit of the program, since aliases behave like pointers in some respects. For example, passing an object is cheap since only a pointer is passed by the implementation; and if a function modifies an object passed as an argument, the caller will see the change — this eliminates the need for two different argument passing mechanisms as in Pascal.\n",
    "\n",
    "> 对象具有个体性，多个名称（在多个作用域中）可以被绑定到同一个对象。这在其它语言中被称为别名。通常在第一眼看到Python的时候，并没有意识到这一点，在处理不可变的基本类型(数字、字符串、图元)时可以安全地忽略。然而，别名对涉及易变对象的 Python 代码的语义有可能产生惊人的影响，如列表、字典和大多数其它类型。这通常是为了程序的利益，因为别名在某些方面表现得像指针。例如，传递一个对象是很便宜的，因为实现中只传递了一个指针；如果一个函数修改了作为参数传递的对象，那么调用者就会看到这个变化--这就不需要像 Pascal 中那样有两种不同的参数传递机制。"
   ]
  },
  {
   "cell_type": "markdown",
   "id": "d59033f7-1d4c-46b1-9459-36686b92f85e",
   "metadata": {},
   "source": [
    "## 9.2. Python Scopes and Namespaces"
   ]
  },
  {
   "cell_type": "markdown",
   "id": "fa44f9e7-9ff1-423a-902f-e6640da8ac82",
   "metadata": {},
   "source": [
    "Before introducing classes, I first have to tell you something about Python’s scope rules. Class definitions play some neat tricks with namespaces, and you need to know how scopes and namespaces work to fully understand what’s going on. Incidentally, knowledge about this subject is useful for any advanced Python programmer.\n",
    "\n",
    "> 在介绍类之前，我首先要告诉你一些关于 Python 的作用域规则。类的定义在名称空间上玩了一些巧妙的花样，你需要知道作用域和名称空间是如何工作的，才能完全理解发生了什么。顺便说一句，关于这个主题的知识对任何高级 Python 程序员都是有用的。"
   ]
  },
  {
   "cell_type": "markdown",
   "id": "9795285d-3310-4395-826c-5964a30b6ae8",
   "metadata": {},
   "source": [
    "Let’s begin with some definitions.\n",
    "\n",
    "> 让我们从一些定义开始。"
   ]
  },
  {
   "cell_type": "markdown",
   "id": "0371ff18-f5ec-4390-81b2-9e045e81ba9d",
   "metadata": {},
   "source": [
    "A *namespace* is a mapping from names to objects. Most namespaces are currently implemented as Python dictionaries, but that’s normally not noticeable in any way (except for performance), and it may change in the future. Examples of namespaces are: the set of built-in names (containing functions such as [`abs()`](https://docs.python.org/3/library/functions.html#abs), and built-in exception names); the global names in a module; and the local names in a function invocation. In a sense the set of attributes of an object also form a namespace. The important thing to know about namespaces is that there is absolutely no relation between names in different namespaces; for instance, two different modules may both define a function `maximize` without confusion — users of the modules must prefix it with the module name.\n",
    "\n",
    "> 一个*名称空间*是一个从名称到对象的映射。大多数名称空间目前是以Python字典的形式实现的，但这通常不会引起任何注意 (除了性能问题)，而且在未来可能会发生变化。名称空间的例子有：内置名称的集合 (包含诸如 [`abs()`](https://docs.python.org/3/library/functions.html#abs) 的函数，以及内置异常名称)；模块中的全局名称；以及函数调用中的局域名称。在某种意义上，一个对象的属性集也构成了一个名称空间。关于名称空间，重要的是不同名称空间的名称之间绝对没有关系；例如，两个不同的模块可以同时定义一个函数 `maximize` 而不会混淆--模块的用户必须在它前面加上模块的名称。"
   ]
  },
  {
   "cell_type": "markdown",
   "id": "5dbbbe3d-0960-4dbd-8d3f-0b4a5e29e2e5",
   "metadata": {},
   "source": [
    "By the way, I use the word *attribute* for any name following a dot — for example, in the expression `z.real`, `real` is an attribute of the object `z`. Strictly speaking, references to names in modules are attribute references: in the expression `modname.funcname`, `modname` is a module object and `funcname` is an attribute of it. In this case there happens to be a straightforward mapping between the module’s attributes and the global names defined in the module: they share the same namespace! [1]\n",
    "\n",
    "> 顺便说一下，我用*属性*这个词来表示任何点后面的名称 - 例如，在表达式`z.real`中，`real`是对象`z`的一个属性。严格来说，对模块中名称的引用是属性引用：在表达式`modname.funcname`中，`modname`是一个模块对象，`funcname`是它的一个属性。在这种情况下，模块的属性和模块中定义的全局名称之间恰好有一个直接的映射：它们共享同一个名称空间! [1]"
   ]
  },
  {
   "cell_type": "markdown",
   "id": "09c68ad7-4107-4991-a185-88e38484b8c5",
   "metadata": {},
   "source": [
    "Attributes may be read-only or writable. In the latter case, assignment to attributes is possible. Module attributes are writable: you can write `modname.the_answer = 42`. Writable attributes may also be deleted with the [`del`](https://docs.python.org/3/reference/simple_stmts.html#del) statement. For example, `del modname.the_answer` will remove the attribute `the_answer` from the object named by `modname`.\n",
    "\n",
    "> 属性可以是只读的，也可以是可写的。在后一种情况下，对属性的赋值是可能的。模块属性是可写的：你可以写`modname.the_answer = 42`。可写属性也可以用[`del`](https://docs.python.org/3/reference/simple_stmts.html#del)语句删除。例如，`del modname.the_answer`将从`modname`命名的对象中删除`the_answer`属性。"
   ]
  },
  {
   "cell_type": "markdown",
   "id": "db7b917f-287e-444a-b934-b9774526aa20",
   "metadata": {},
   "source": [
    "Namespaces are created at different moments and have different lifetimes. The namespace containing the built-in names is created when the Python interpreter starts up, and is never deleted. The global namespace for a module is created when the module definition is read in; normally, module namespaces also last until the interpreter quits. The statements executed by the top-level invocation of the interpreter, either read from a script file or interactively, are considered part of a module called [`__main__`](https://docs.python.org/3/library/__main__.html#module-__main__), so they have their own global namespace. (The built-in names actually also live in a module; this is called [`builtins`](https://docs.python.org/3/library/builtins.html#module-builtins).)\n",
    "\n",
    "> 名称空间在不同的时刻创建，有不同的寿命。包含内置名称的名称空间在 Python 解释器启动时创建，并且永不删除。一个模块的全局名称空间在模块定义被读入时创建；通常，模块名称空间也会持续到解释器退出。解释器的顶层调用所执行的语句，无论是从脚本文件中读取的还是交互式的，都被认为是名为 [`__main__`](https://docs.python.org/3/library/__main__.html#module-__main__) 的模块的一部分，所以它们有自己的全局名称空间。(内置名称实际上也存在于一个模块中；这被称为 [`builtins`](https://docs.python.org/3/library/builtins.html#module-builtins))。"
   ]
  },
  {
   "cell_type": "markdown",
   "id": "c3f0efed-90be-4272-abeb-a1d4551d1b5c",
   "metadata": {},
   "source": [
    "The local namespace for a function is created when the function is called, and deleted when the function returns or raises an exception that is not handled within the function. (Actually, forgetting would be a better way to describe what actually happens.) Of course, recursive invocations each have their own local namespace.\n",
    "\n",
    "> 一个函数的局部名称空间在该函数被调用时被创建，当该函数返回或引发一个没有在该函数内处理的异常时被删除。(实际上，用遗忘来描述实际发生的情况会更好）。当然，递归调用也有自己的局部名称空间。"
   ]
  },
  {
   "cell_type": "markdown",
   "id": "496ef37e-8d54-470e-adaa-f94870f7a8c0",
   "metadata": {},
   "source": [
    "A *scope* is a textual region of a Python program where a namespace is directly accessible. “Directly accessible” here means that an unqualified reference to a name attempts to find the name in the namespace.\n",
    "\n",
    "> 一个*作用域*是Python程序的一个文本区域，在这个区域中，一个名称空间可以直接访问。这里的 \"直接访问 \"意味着对一个名称的无条件引用会试图在命名空间中找到这个名称。"
   ]
  },
  {
   "cell_type": "markdown",
   "id": "901cc57d-2bd4-4ffb-bca3-94486456e495",
   "metadata": {},
   "source": [
    "Although scopes are determined statically, they are used dynamically. At any time during execution, there are 3 or 4 nested scopes whose namespaces are directly accessible:\n",
    "\n",
    "- the innermost scope, which is searched first, contains the local names\n",
    "- the scopes of any enclosing functions, which are searched starting with the nearest enclosing scope, contains non-local, but also non-global names\n",
    "- the next-to-last scope contains the current module’s global names\n",
    "- the outermost scope (searched last) is the namespace containing built-in names\n",
    "\n",
    "> 尽管作用域是静态确定的，但它们是动态使用的。在执行过程中的任何时候，都有3到4个嵌套的作用域，其名称空间可以直接访问：\n",
    ">\n",
    "> - 最内层的作用域，它首先被搜索到，包含局域名称\n",
    "> - 任何闭合函数的作用域，从最近的闭合作用域开始搜索，包含非局域的，但也是非全局的名称\n",
    "> - 倒数第二的作用域包含当前模块的全局名称\n",
    "> - 最外层的作用域（最后搜索的）是包含内置名称的名称空间"
   ]
  },
  {
   "cell_type": "markdown",
   "id": "41f66824-d5e9-4858-b89d-bdaaee4ce16b",
   "metadata": {},
   "source": [
    "If a name is declared global, then all references and assignments go directly to the middle scope containing the module’s global names. To rebind variables found outside of the innermost scope, the [`nonlocal`](https://docs.python.org/3/reference/simple_stmts.html#nonlocal) statement can be used; if not declared nonlocal, those variables are read-only (an attempt to write to such a variable will simply create a *new* local variable in the innermost scope, leaving the identically named outer variable unchanged).\n",
    "\n",
    "> 如果一个名称被声明为全局的，那么所有的引用和赋值都会直接进入包含模块全局名称的中间作用域。要重新绑定在最内层作用域之外发现的变量，可以使用[`nonlocal`](https://docs.python.org/3/reference/simple_stmts.html#nonlocal)语句；如果没有声明为nonlocal，这些变量是只读的（试图写到这样的变量将只是在最内层作用域中创建一个*新的*局域变量，而使相同命名的外层变量保持不变）。"
   ]
  },
  {
   "cell_type": "markdown",
   "id": "262a1a2a-c37f-46db-8a5b-8edfa361e05f",
   "metadata": {},
   "source": [
    "Usually, the local scope references the local names of the (textually) current function. Outside functions, the local scope references the same namespace as the global scope: the module’s namespace. Class definitions place yet another namespace in the local scope.\n",
    "\n",
    "> 通常情况下，局域作用域引用的是（文本上）当前函数的局域名称。在函数之外，局域作用域引用与全局作用域相同的名称空间：模块的名称空间。类的定义在局域作用域中放置了另一个名称空间。"
   ]
  },
  {
   "cell_type": "markdown",
   "id": "c1c42bd9-3bd2-48fb-b25f-9f5b41ce1a04",
   "metadata": {},
   "source": [
    "It is important to realize that scopes are determined textually: the global scope of a function defined in a module is that module’s namespace, no matter from where or by what alias the function is called. On the other hand, the actual search for names is done dynamically, at run time — however, the language definition is evolving towards static name resolution, at “compile” time, so don’t rely on dynamic name resolution! (In fact, local variables are already determined statically.)\n",
    "\n",
    "> 重要的是要认识到作用域是由文本决定的：一个模块中定义的函数的全局作用域是该模块的名称空间，无论该函数从哪里被调用或以什么别名被调用。另一方面，名称的实际搜索是在运行时动态进行的--然而，语言的定义正朝着静态名称解析的方向发展，在 \"编译\"时进行，所以不要依赖动态名称解析！(事实上，局域变量已经被静态地确定了。）"
   ]
  },
  {
   "cell_type": "markdown",
   "id": "47b070ff-a663-4398-be8f-abc245f78420",
   "metadata": {},
   "source": [
    "A special quirk of Python is that – if no [`global`](https://docs.python.org/3/reference/simple_stmts.html#global) or [`nonlocal`](https://docs.python.org/3/reference/simple_stmts.html#nonlocal) statement is in effect – assignments to names always go into the innermost scope. Assignments do not copy data — they just bind names to objects. The same is true for deletions: the statement `del x` removes the binding of `x` from the namespace referenced by the local scope. In fact, all operations that introduce new names use the local scope: in particular, [`import`](https://docs.python.org/3/reference/simple_stmts.html#import) statements and function definitions bind the module or function name in the local scope.\n",
    "\n",
    "> Python 的一个特殊的特点是，如果没有 [`global`](https://docs.python.org/3/reference/simple_stmts.html#global) 或 [`nonlocal`](https://docs.python.org/3/reference/simple_stmts.html#nonlocal) 语句生效，对名字的赋值总是进入最内部的作用域。赋值并不复制数据--它们只是将名称绑定到对象上。删除也是如此：语句`del x`从局域作用域引用的名称空间中删除`x`的绑定。事实上，所有引入新名字的操作都使用局域作用域：特别是，[`import`](https://docs.python.org/3/reference/simple_stmts.html#import)语句和函数定义在局域作用域中绑定模块或函数名。"
   ]
  },
  {
   "cell_type": "markdown",
   "id": "e3ea63ec-e545-4fb7-9f08-5d7da3e69a88",
   "metadata": {},
   "source": [
    "The [`global`](https://docs.python.org/3/reference/simple_stmts.html#global) statement can be used to indicate that particular variables live in the global scope and should be rebound there; the [`nonlocal`](https://docs.python.org/3/reference/simple_stmts.html#nonlocal) statement indicates that particular variables live in an enclosing scope and should be rebound there.\n",
    "\n",
    "> [`global`](https://docs.python.org/3/reference/simple_stmts.html#global) 语句可以用来表示特定的变量生活在全局作用域内，应该在那里被重新绑定；[`nonlocal`](https://docs.python.org/3/reference/simple_stmts.html#nonlocal) 语句表示特定的变量生活在一个封闭的作用域内，应该在那里被重新绑定。"
   ]
  },
  {
   "cell_type": "markdown",
   "id": "6648c1c1-6407-4a40-ac74-4475549213c9",
   "metadata": {},
   "source": [
    "### 9.2.1. Scopes and Namespaces Example"
   ]
  },
  {
   "cell_type": "markdown",
   "id": "25cd1440-414b-4514-a890-07d8ac35bb71",
   "metadata": {},
   "source": [
    "This is an example demonstrating how to reference the different scopes and namespaces, and how [`global`](https://docs.python.org/3/reference/simple_stmts.html#global) and [`nonlocal`](https://docs.python.org/3/reference/simple_stmts.html#nonlocal) affect variable binding:\n",
    "\n",
    "> 这是一个例子，演示了如何引用不同的作用域和名称空间，以及[`global`](https://docs.python.org/3/reference/simple_stmts.html#global)和[`nonlocal`](https://docs.python.org/3/reference/simple_stmts.html#nonlocal)如何影响变量绑定。"
   ]
  },
  {
   "cell_type": "code",
   "execution_count": 2,
   "id": "5d9724f2-e7eb-4b82-a88e-e9fcd77f401f",
   "metadata": {},
   "outputs": [
    {
     "name": "stdout",
     "output_type": "stream",
     "text": [
      "After local assignment: test spam\n",
      "After nonlocal assignment: nonlocal spam\n",
      "After global assignment: nonlocal spam\n",
      "In global scope: global spam\n"
     ]
    }
   ],
   "source": [
    "def scope_test():\n",
    "    def do_local():\n",
    "        spam = \"local spam\"\n",
    "        \n",
    "    def do_nonlocal():\n",
    "        nonlocal spam\n",
    "        spam = \"nonlocal spam\"\n",
    "        \n",
    "    def do_global():\n",
    "        global spam\n",
    "        spam = \"global spam\"\n",
    "    \n",
    "    spam = \"test spam\"\n",
    "    do_local()\n",
    "    print(\"After local assignment:\", spam)\n",
    "    do_nonlocal()\n",
    "    print(\"After nonlocal assignment:\", spam)\n",
    "    do_global()\n",
    "    print(\"After global assignment:\", spam)\n",
    "    \n",
    "scope_test()\n",
    "print(\"In global scope:\", spam)"
   ]
  },
  {
   "cell_type": "markdown",
   "id": "4c2a1f5b-abb7-4317-b354-6eed573d4447",
   "metadata": {},
   "source": [
    "The output of the example code is:\n",
    "\n",
    "> 示例代码的输出是："
   ]
  },
  {
   "cell_type": "raw",
   "id": "42eb887e-ac71-4e5e-b221-2f31c030eb53",
   "metadata": {},
   "source": [
    "After local assignment: test spam\n",
    "After nonlocal assignment: nonlocal spam\n",
    "After global assignment: nonlocal spam\n",
    "In global scope: global spam"
   ]
  },
  {
   "cell_type": "markdown",
   "id": "55d605f9-6ff0-48cd-97f2-669b992454b7",
   "metadata": {},
   "source": [
    "Note how the *local* assignment (which is default) didn’t change *scope_test*'s binding of *spam*. The [`nonlocal`](https://docs.python.org/3/reference/simple_stmts.html#nonlocal) assignment changed *scope_test*'s binding of *spam*, and the [`global`](https://docs.python.org/3/reference/simple_stmts.html#global) assignment changed the module-level binding.\n",
    "\n",
    "> 注意*local*赋值（默认）并没有改变*scope_test*对*spam*的绑定。[`nonlocal`](https://docs.python.org/3/reference/simple_stmts.html#nonlocal) 赋值改变了*scope_test*对*spam*的绑定，而[`global`](https://docs.python.org/3/reference/simple_stmts.html#global)赋值改变了模块级的绑定。"
   ]
  },
  {
   "cell_type": "markdown",
   "id": "64ade7f7-11ae-4f5f-a644-3c6052387f58",
   "metadata": {},
   "source": [
    "You can also see that there was no previous binding for *spam* before the [`global`](https://docs.python.org/3/reference/simple_stmts.html#global) assignment.\n",
    "\n",
    "> 你还可以看到，在[`global`](https://docs.python.org/3/reference/simple_stmts.html#global)赋值之前，之前并没有对*spam*进行绑定。"
   ]
  },
  {
   "cell_type": "markdown",
   "id": "bf57540f-ea49-406a-ae05-1b72c66dde18",
   "metadata": {},
   "source": [
    "## 9.3. A First Look at Classes"
   ]
  },
  {
   "cell_type": "markdown",
   "id": "771bd87d-6224-45ec-94f8-a147f79b466a",
   "metadata": {},
   "source": [
    "Classes introduce a little bit of new syntax, three new object types, and some new semantics.\n",
    "\n",
    "> 类引入了一点新的语法，三种新的对象类型，以及一些新的语义。"
   ]
  },
  {
   "cell_type": "markdown",
   "id": "2e197ac8-e8bc-431c-86cb-52b786acf2b9",
   "metadata": {},
   "source": [
    "### 9.3.1. Class Definition Syntax"
   ]
  },
  {
   "cell_type": "markdown",
   "id": "368b1478-6ec7-4e4f-b5a9-9248f18d9039",
   "metadata": {},
   "source": [
    "The simplest form of class definition looks like this:\n",
    "\n",
    "> 最简单的类定义形式看起来像这样："
   ]
  },
  {
   "cell_type": "raw",
   "id": "64b4dd3a-8fe6-4fd1-88fc-b5e632554a84",
   "metadata": {},
   "source": [
    "class ClassName:\n",
    "    <statement-1>\n",
    "    .\n",
    "    .\n",
    "    .\n",
    "    <statement-N>"
   ]
  },
  {
   "cell_type": "markdown",
   "id": "f96bdfe6-d219-469c-9d98-d55b5467872f",
   "metadata": {},
   "source": [
    "Class definitions, like function definitions ([`def`](https://docs.python.org/3/reference/compound_stmts.html#def) statements) must be executed before they have any effect. (You could conceivably place a class definition in a branch of an [`if`](https://docs.python.org/3/reference/compound_stmts.html#if) statement, or inside a function.)\n",
    "\n",
    "> 类定义，就像函数定义（[`def`](https://docs.python.org/3/reference/compound_stmts.html#def) 语句）必须在它们产生任何效果之前被执行。(可以想象，你可以把类定义放在[`if`](https://docs.python.org/3/reference/compound_stmts.html#if)语句的一个分支中，或者放在一个函数中）。"
   ]
  },
  {
   "cell_type": "markdown",
   "id": "31b379b6-e416-414a-b2ba-ec2f3025a185",
   "metadata": {},
   "source": [
    "In practice, the statements inside a class definition will usually be function definitions, but other statements are allowed, and sometimes useful — we’ll come back to this later. The function definitions inside a class normally have a peculiar form of argument list, dictated by the calling conventions for methods — again, this is explained later.\n",
    "\n",
    "> 在实践中，类定义中的语句通常是函数定义，但其他的语句也是允许的，有时也是有用的--我们将在后面再来讨论这个问题。类中的函数定义通常有一个特殊形式的参数列表，这是由方法的调用约定决定的--这一点将在后面解释。"
   ]
  },
  {
   "cell_type": "markdown",
   "id": "7f9128e2-4305-4313-9fba-5db2cc88b335",
   "metadata": {},
   "source": [
    "When a class definition is entered, a new namespace is created, and used as the local scope — thus, all assignments to local variables go into this new namespace. In particular, function definitions bind the name of the new function here.\n",
    "\n",
    "> 当一个类定义被输入时，一个新的名称空间被创建，并被用作局部作用域--因此，所有对局部变量的赋值都进入这个新的名称空间。特别是，函数定义将新函数的名字绑定在这里。"
   ]
  },
  {
   "cell_type": "markdown",
   "id": "82082770-e0fa-4e62-8022-875b37f48426",
   "metadata": {},
   "source": [
    "When a class definition is left normally (via the end), a *class object* is created. This is basically a wrapper around the contents of the namespace created by the class definition; we’ll learn more about class objects in the next section. The original local scope (the one in effect just before the class definition was entered) is reinstated, and the class object is bound here to the class name given in the class definition header (`ClassName` in the example).\n",
    "\n",
    "> 当一个类定义被正常留下时（通过结尾），一个*类对象*被创建。这基本上是对类定义所创建的名称空间内容的一个封装；我们将在下一节中进一步了解类对象。原来的局部作用域（在进入类定义之前有效的作用域）被恢复，类对象在这里被绑定到类定义头中给出的类名上（例子中的`ClassName`）。"
   ]
  },
  {
   "cell_type": "markdown",
   "id": "9a8dcb1e-d5d7-4c2f-af34-49c01964da24",
   "metadata": {},
   "source": [
    "### 9.3.2. Class Objects"
   ]
  },
  {
   "cell_type": "markdown",
   "id": "f2282736-97e0-4313-b497-1ced883d30f8",
   "metadata": {},
   "source": [
    "Class objects support two kinds of operations: attribute references and instantiation.\n",
    "\n",
    "> 类对象支持两种操作：属性引用和实例化。"
   ]
  },
  {
   "cell_type": "markdown",
   "id": "b017a6a0-e32b-4a0b-8bc4-44e9f447f712",
   "metadata": {},
   "source": [
    "*Attribute references* use the standard syntax used for all attribute references in Python: `obj.name`. Valid attribute names are all the names that were in the class’s namespace when the class object was created. So, if the class definition looked like this:\n",
    "\n",
    "> *属性引用*使用Python中用于所有属性引用的标准语法。`obj.name`。有效的属性名称是在创建类对象时在类的名称空间中的所有名称。所以，如果类的定义看起来像这样："
   ]
  },
  {
   "cell_type": "code",
   "execution_count": 3,
   "id": "444a8f5b-a5cf-4b28-a555-b18e50925b64",
   "metadata": {},
   "outputs": [],
   "source": [
    "class MyClass:\n",
    "    \"\"\"A simple example class\"\"\"\n",
    "    i = 12345\n",
    "    \n",
    "    def f(self):\n",
    "        return 'hello world'"
   ]
  },
  {
   "cell_type": "markdown",
   "id": "6737101a-4985-4674-9b6c-f10833d13517",
   "metadata": {},
   "source": [
    "then `MyClass.i` and `MyClass.f` are valid attribute references, returning an integer and a function object, respectively. Class attributes can also be assigned to, so you can change the value of `MyClass.i` by assignment. `__doc__` is also a valid attribute, returning the docstring belonging to the class: `\"A simple example class\"`.\n",
    "\n",
    "> 那么 `MyClass.i`和`MyClass.f`是有效的属性引用，分别返回一个整数和一个函数对象。类的属性也可以被赋值，所以你可以通过赋值改变`MyClass.i`的值。`__doc__`也是一个有效的属性，返回属于该类的文档字符串。`\"A simple example class\"`。"
   ]
  },
  {
   "cell_type": "markdown",
   "id": "b3c257f5-e269-40df-ab0f-880804a95ff9",
   "metadata": {},
   "source": [
    "Class *instantiation* uses function notation. Just pretend that the class object is a parameterless function that returns a new instance of the class. For example (assuming the above class):\n",
    "\n",
    "> 类的*instantiation*使用函数符号。就假设类对象是一个无参数的函数，返回该类的一个新实例。例如（假设是上面的类）:"
   ]
  },
  {
   "cell_type": "code",
   "execution_count": 4,
   "id": "7dd44d39-7c9e-44f9-9cbd-6be593b09153",
   "metadata": {},
   "outputs": [],
   "source": [
    "x = MyClass()"
   ]
  },
  {
   "cell_type": "markdown",
   "id": "b84b06a3-0b7b-4222-969b-c0919abb8f97",
   "metadata": {},
   "source": [
    "creates a new *instance* of the class and assigns this object to the local variable `x`.\n",
    "\n",
    "> 创建这个类的一个新*instance*，并将此对象分配给本地变量`x`。"
   ]
  },
  {
   "cell_type": "markdown",
   "id": "b40af1bd-d0ce-4329-b89c-6e4ddf90133f",
   "metadata": {},
   "source": [
    "The instantiation operation (“calling” a class object) creates an empty object. Many classes like to create objects with instances customized to a specific initial state. Therefore a class may define a special method named `__init__()`, like this:\n",
    "\n",
    "> 实例化操作（\"调用 \"一个类对象）会创建一个空对象。许多类喜欢用定制的实例来创建对象，以达到一个特定的初始状态。因此，一个类可以定义一个名为`__init__()`的特殊方法，像这样："
   ]
  },
  {
   "cell_type": "code",
   "execution_count": 4,
   "id": "7533aa67-ff68-43f3-9437-7cd30157e1a2",
   "metadata": {},
   "outputs": [],
   "source": [
    "def __init__(self):\n",
    "    self.data = []"
   ]
  },
  {
   "cell_type": "markdown",
   "id": "3d12144a-8ef6-40f2-8c45-32e58995c072",
   "metadata": {},
   "source": [
    "When a class defines an `__init__()` method, class instantiation automatically invokes `__init__()` for the newly-created class instance. So in this example, a new, initialized instance can be obtained by:\n",
    "\n",
    "> 当一个类定义了一个`__init__()`方法时，类的实例化会自动调用`__init__()`来处理新创建的类实例。所以在这个例子中，一个新的、初始化的实例可以通过以下方式获得："
   ]
  },
  {
   "cell_type": "code",
   "execution_count": 5,
   "id": "057bbf29-31f8-471f-b4a4-d336dbe0fbdb",
   "metadata": {},
   "outputs": [],
   "source": [
    "x = MyClass()"
   ]
  },
  {
   "cell_type": "markdown",
   "id": "70b09460-0365-4553-86dc-04482ee3ff19",
   "metadata": {},
   "source": [
    "Of course, the `__init__()` method may have arguments for greater flexibility. In that case, arguments given to the class instantiation operator are passed on to `__init__()`. For example,\n",
    "\n",
    "> 当然，`__init__()`方法可以有参数以获得更大的灵活性。在这种情况下，给类的实例化操作符的参数会被传递给`__init__()`。比如说。"
   ]
  },
  {
   "cell_type": "code",
   "execution_count": 2,
   "id": "b63a6b7b-f688-43e4-aae1-c3099bdeaba5",
   "metadata": {},
   "outputs": [
    {
     "data": {
      "text/plain": [
       "3.9"
      ]
     },
     "execution_count": 2,
     "metadata": {},
     "output_type": "execute_result"
    },
    {
     "data": {
      "text/plain": [
       "-4.5"
      ]
     },
     "execution_count": 2,
     "metadata": {},
     "output_type": "execute_result"
    }
   ],
   "source": [
    "class Complex:\n",
    "    def __init__(self, realpart, imagpart):\n",
    "        self.r = realpart\n",
    "        self.i = imagpart\n",
    "        \n",
    "x = Complex(3.9, -4.5)\n",
    "\n",
    "x.r\n",
    "x.i"
   ]
  },
  {
   "cell_type": "markdown",
   "id": "a7ddeacd-cd12-46e2-a91e-946824958a89",
   "metadata": {},
   "source": [
    "### 9.3.3. Instance Objects"
   ]
  },
  {
   "cell_type": "markdown",
   "id": "6460f268-e63e-4eb3-9f3a-9e5ff56fd4f7",
   "metadata": {},
   "source": [
    "Now what can we do with instance objects? The only operations understood by instance objects are attribute references. There are two kinds of valid attribute names: data attributes and methods.\n",
    "\n",
    "> 现在我们能用实例对象做什么？实例对象所能理解的唯一操作是属性引用。有两种有效的属性名称：数据属性和方法。"
   ]
  },
  {
   "cell_type": "markdown",
   "id": "4bb8302e-cd9c-4375-8aa4-0970bdff0477",
   "metadata": {},
   "source": [
    "*data attributes* correspond to “instance variables” in Smalltalk, and to “data members” in C++. Data attributes need not be declared; like local variables, they spring into existence when they are first assigned to. For example, if `x` is the instance of `MyClass` created above, the following piece of code will print the value `16`, without leaving a trace:\n",
    "\n",
    "> *数据属性*对应于Smalltalk中的 \"实例变量\"，以及C++中的 \"数据成员\"。数据属性不需要被声明；就像局部变量一样，它们在第一次被赋值时就会突然出现。例如，如果`x`是上面创建的`MyClass`的实例，下面这段代码将打印出`16`的值，而不会留下任何痕迹："
   ]
  },
  {
   "cell_type": "code",
   "execution_count": 5,
   "id": "c58b6577-d05e-4f76-bc24-453e11aed3ec",
   "metadata": {},
   "outputs": [
    {
     "name": "stdout",
     "output_type": "stream",
     "text": [
      "16\n"
     ]
    }
   ],
   "source": [
    "x.counter = 1\n",
    "while x.counter < 10:\n",
    "    x.counter = x.counter * 2\n",
    "print(x.counter)\n",
    "del x.counter"
   ]
  },
  {
   "cell_type": "markdown",
   "id": "68d85bb6-d3bd-4438-867c-15cc187fbde2",
   "metadata": {},
   "source": [
    "The other kind of instance attribute reference is a *method*. A method is a function that “belongs to” an object. (In Python, the term method is not unique to class instances: other object types can have methods as well. For example, list objects have methods called append, insert, remove, sort, and so on. However, in the following discussion, we’ll use the term method exclusively to mean methods of class instance objects, unless explicitly stated otherwise.)\n",
    "\n",
    "> 另一种实例属性的引用是*方法*。一个方法是一个 \"属于 \"一个对象的函数。(在 Python 中，方法这个术语并不只针对类的实例：其他对象类型也可以有方法。例如，列表对象有叫做 append, insert, remove, sort 的方法，等等。然而，在下面的讨论中，我们将专门使用术语 method 来指类实例对象的方法，除非另有明确说明)。"
   ]
  },
  {
   "cell_type": "markdown",
   "id": "8875209f-303e-451a-a7b1-739895c22435",
   "metadata": {},
   "source": [
    "Valid method names of an instance object depend on its class. By definition, all attributes of a class that are function objects define corresponding methods of its instances. So in our example, `x.f` is a valid method reference, since `MyClass.f` is a function, but `x.i` is not, since `MyClass.i` is not. But `x.f` is not the same thing as `MyClass.f` — it is a *method object*, not a function object.\n",
    "\n",
    "> 实例对象的有效方法名称取决于其类。根据定义，一个类的所有属性如果是函数对象，就会定义其实例的相应方法。所以在我们的例子中，`x.f`是一个有效的方法引用，因为`MyClass.f`是一个函数，但`x.i`不是，因为`MyClass.i`不是。但是`x.f`和`MyClass.f`不是一回事--它是一个*方法对象*，而不是一个函数对象。"
   ]
  },
  {
   "cell_type": "markdown",
   "id": "e1b9b055-2089-4ab3-9504-43b544cfc4e1",
   "metadata": {},
   "source": [
    "### 9.3.4. Method Objects"
   ]
  },
  {
   "cell_type": "markdown",
   "id": "7cbdd8fd-b898-434b-8055-60b73cc81571",
   "metadata": {},
   "source": [
    "Usually, a method is called right after it is bound:\n",
    "\n",
    "> 通常情况下，一个方法在被绑定后就被调用："
   ]
  },
  {
   "cell_type": "code",
   "execution_count": 9,
   "id": "757edd9f-208d-4989-b9dd-ff31fb8fbacf",
   "metadata": {},
   "outputs": [
    {
     "data": {
      "text/plain": [
       "'hello world'"
      ]
     },
     "execution_count": 9,
     "metadata": {},
     "output_type": "execute_result"
    }
   ],
   "source": [
    "x.f()"
   ]
  },
  {
   "cell_type": "markdown",
   "id": "3c7107c4-d375-492a-a266-e042052c4fca",
   "metadata": {},
   "source": [
    "In the `MyClass` example, this will return the string `'hello world'`. However, it is not necessary to call a method right away: `x.f` is a method object, and can be stored away and called at a later time. For example:\n",
    "\n",
    "> 在 `MyClass` 的例子中，这将返回字符串 `'hello world'`。然而，没有必要立即调用一个方法：`x.f`是一个方法对象，可以储存起来，以后再调用。比如说："
   ]
  },
  {
   "cell_type": "code",
   "execution_count": null,
   "id": "695ef727-24a4-45e6-ba42-380149554bca",
   "metadata": {},
   "outputs": [],
   "source": [
    "xf = x.f\n",
    "xf()\n",
    "\n",
    "# will continue to print hello world until the end of time.\n",
    "# while True:\n",
    "#    print(xf())"
   ]
  },
  {
   "cell_type": "markdown",
   "id": "673856ff-7eba-4e0f-8fdc-7d6b08a4fff2",
   "metadata": {},
   "source": [
    "What exactly happens when a method is called? You may have noticed that `x.f()` was called without an argument above, even though the function definition for `f()` specified an argument. What happened to the argument? Surely Python raises an exception when a function that requires an argument is called without any — even if the argument isn’t actually used…\n",
    "\n",
    "> 当一个方法被调用时究竟会发生什么？你可能已经注意到，上面`x.f()`的调用是没有参数的，尽管`f()`的函数定义指定了一个参数。那个参数怎么了？当然，当一个需要参数的函数在没有参数的情况下被调用时，Python 会引发一个异常--即使这个参数实际上并没有被使用......"
   ]
  },
  {
   "cell_type": "markdown",
   "id": "9df2e488-0356-4016-bff6-4ad0a0275e24",
   "metadata": {},
   "source": [
    "Actually, you may have guessed the answer: the special thing about methods is that the instance object is passed as the first argument of the function. In our example, the call `x.f()` is exactly equivalent to `MyClass.f(x)`. In general, calling a method with a list of *n* arguments is equivalent to calling the corresponding function with an argument list that is created by inserting the method’s instance object before the first argument.\n",
    "\n",
    "> 实际上，你可能已经猜到了答案：方法的特殊之处在于，实例对象是作为函数的第一个参数传递的。在我们的例子中，调用`x.f()`完全等同于`MyClass.f(x)`。一般来说，用*n*个参数的列表调用一个方法，相当于用一个参数列表调用相应的函数，这个参数列表是通过在第一个参数前插入方法的实例对象来创建。"
   ]
  },
  {
   "cell_type": "markdown",
   "id": "0faf2bc4-e8da-4f3b-9e1b-75f5107d8cc7",
   "metadata": {},
   "source": [
    "If you still don’t understand how methods work, a look at the implementation can perhaps clarify matters. When a non-data attribute of an instance is referenced, the instance’s class is searched. If the name denotes a valid class attribute that is a function object, a method object is created by packing (pointers to) the instance object and the function object just found together in an abstract object: this is the method object. When the method object is called with an argument list, a new argument list is constructed from the instance object and the argument list, and the function object is called with this new argument list.\n",
    "\n",
    "> 如果你仍然不明白方法是如何工作的，看一下实现也许可以澄清问题。当一个实例的非数据属性被引用时，该实例的类会被搜索到。如果这个名字表示一个有效的类属性是一个函数对象，那么通过将实例对象和刚刚找到的函数对象打包（指针）到一个抽象对象中，就会创建一个方法对象：这就是方法对象。当方法对象被调用时有一个参数列表，一个新的参数列表从实例对象和参数列表中被构造出来，函数对象被用这个新的参数列表调用。"
   ]
  },
  {
   "cell_type": "markdown",
   "id": "dbc7d621-1af9-4053-be52-58954203fa55",
   "metadata": {},
   "source": [
    "### 9.3.5. Class and Instance Variables"
   ]
  },
  {
   "cell_type": "markdown",
   "id": "a89ecc22-93f0-42ae-a8d2-82763e9e3aae",
   "metadata": {},
   "source": [
    "Generally speaking, instance variables are for data unique to each instance and class variables are for attributes and methods shared by all instances of the class:\n",
    "\n",
    "> 一般来说，实例变量是指每个实例所特有的数据，而类变量是指类的所有实例所共享的属性和方法："
   ]
  },
  {
   "cell_type": "code",
   "execution_count": 2,
   "id": "aaf5677a-a5e8-4f39-a701-298326128f69",
   "metadata": {},
   "outputs": [
    {
     "data": {
      "text/plain": [
       "'canine'"
      ]
     },
     "execution_count": 2,
     "metadata": {},
     "output_type": "execute_result"
    },
    {
     "data": {
      "text/plain": [
       "'canine'"
      ]
     },
     "execution_count": 2,
     "metadata": {},
     "output_type": "execute_result"
    },
    {
     "data": {
      "text/plain": [
       "'Fido'"
      ]
     },
     "execution_count": 2,
     "metadata": {},
     "output_type": "execute_result"
    },
    {
     "data": {
      "text/plain": [
       "'Buddy'"
      ]
     },
     "execution_count": 2,
     "metadata": {},
     "output_type": "execute_result"
    }
   ],
   "source": [
    "class Dog:\n",
    "    \n",
    "    kind = 'canine'    # class variable shared by all instances\n",
    "    \n",
    "    def __init__(self, name):\n",
    "        self.name = name    # instance variable unique to each instance\n",
    "        \n",
    "d = Dog('Fido')\n",
    "e = Dog('Buddy')\n",
    "\n",
    "d.kind\n",
    "\n",
    "e.kind\n",
    "\n",
    "d.name\n",
    "\n",
    "e.name"
   ]
  },
  {
   "cell_type": "markdown",
   "id": "a19c52f7-393e-4f49-af2c-d12251672da7",
   "metadata": {},
   "source": [
    "As discussed in [A Word About Names and Objects](https://docs.python.org/3/tutorial/classes.html#tut-object), shared data can have possibly surprising effects with involving [mutable](https://docs.python.org/3/glossary.html#term-mutable) objects such as lists and dictionaries. For example, the *tricks* list in the following code should not be used as a class variable because just a single list would be shared by all *Dog* instances:\n",
    "\n",
    "> 正如在[A Word About Names and Objects](https://docs.python.org/3/tutorial/classes.html#tut-object)中所讨论的，共享数据在涉及到[mutable](https://docs.python.org/3/glossary.html#term-mutable)对象（如列表和字典）时可能会产生令人惊讶的效果。例如，以下代码中的*tricks*列表不应该被用作类变量，因为只是一个列表会被所有*Dog*实例共享："
   ]
  },
  {
   "cell_type": "code",
   "execution_count": 3,
   "id": "71f67a49-b2a8-425a-a7b9-5365362f6cc4",
   "metadata": {},
   "outputs": [
    {
     "data": {
      "text/plain": [
       "['roll over', 'play dead']"
      ]
     },
     "execution_count": 3,
     "metadata": {},
     "output_type": "execute_result"
    }
   ],
   "source": [
    "class Dog:\n",
    "    \n",
    "    tricks = []    # mistaken use of a class variable\n",
    "    \n",
    "    def __init__(self, name):\n",
    "        self.name = name\n",
    "        \n",
    "    def add_trick(self, trick):\n",
    "        self.tricks.append(trick)\n",
    "        \n",
    "d = Dog('Fido')\n",
    "e = Dog('Buddy')\n",
    "\n",
    "d.add_trick('roll over')\n",
    "e.add_trick('play dead')\n",
    "\n",
    "d.tricks"
   ]
  },
  {
   "cell_type": "markdown",
   "id": "5afcefd9-79bb-4e97-b904-0dd10046ad3b",
   "metadata": {},
   "source": [
    "Correct design of the class should use an instance variable instead:\n",
    "\n",
    "> 正确的类设计应该使用实例变量来代替："
   ]
  },
  {
   "cell_type": "code",
   "execution_count": 12,
   "id": "c37f1ed8-81a1-4b50-a0f8-62e92126385e",
   "metadata": {},
   "outputs": [
    {
     "data": {
      "text/plain": [
       "['roll over']"
      ]
     },
     "execution_count": 12,
     "metadata": {},
     "output_type": "execute_result"
    },
    {
     "data": {
      "text/plain": [
       "['play dead']"
      ]
     },
     "execution_count": 12,
     "metadata": {},
     "output_type": "execute_result"
    },
    {
     "data": {
      "text/plain": [
       "<__main__.Dog at 0x1e5323a9f30>"
      ]
     },
     "execution_count": 12,
     "metadata": {},
     "output_type": "execute_result"
    },
    {
     "data": {
      "text/plain": [
       "<function __main__.Dog.add_trick(self, trick)>"
      ]
     },
     "execution_count": 12,
     "metadata": {},
     "output_type": "execute_result"
    },
    {
     "data": {
      "text/plain": [
       "2083875993968"
      ]
     },
     "execution_count": 12,
     "metadata": {},
     "output_type": "execute_result"
    }
   ],
   "source": [
    "class Dog:\n",
    "    \n",
    "    def __init__(self, name):\n",
    "        self.name = name\n",
    "        self.tricks = []    # creates a new list for each dog\n",
    "        \n",
    "    def add_trick(self, trick):\n",
    "        self.tricks.append(trick)\n",
    "        \n",
    "d = Dog('Fido')\n",
    "e = Dog('Buddy')\n",
    "\n",
    "d.add_trick('roll over')\n",
    "e.add_trick('play dead')\n",
    "\n",
    "d.tricks\n",
    "\n",
    "e.tricks\n",
    "\n",
    "d.add_trick.__self__\n",
    "d.add_trick.__func__\n",
    "\n",
    "id(Dog)"
   ]
  },
  {
   "cell_type": "markdown",
   "id": "9f9efb42-e81b-498c-b043-06fe67ad0e8f",
   "metadata": {},
   "source": [
    "## 9.4. Random Remarks"
   ]
  },
  {
   "cell_type": "markdown",
   "id": "4357273e-3b01-433b-aa06-b77c2fc4c092",
   "metadata": {},
   "source": [
    "If the same attribute name occurs in both an instance and in a class, then attribute lookup prioritizes the instance:\n",
    "\n",
    "> 如果相同的属性名称同时出现在一个实例和一个类中，那么属性查询将优先考虑实例："
   ]
  },
  {
   "cell_type": "code",
   "execution_count": 2,
   "id": "b8a40515-8d73-4824-9f5d-b1acfab827ff",
   "metadata": {},
   "outputs": [
    {
     "data": {
      "text/plain": [
       "'storage'"
      ]
     },
     "execution_count": 2,
     "metadata": {},
     "output_type": "execute_result"
    },
    {
     "data": {
      "text/plain": [
       "'west'"
      ]
     },
     "execution_count": 2,
     "metadata": {},
     "output_type": "execute_result"
    },
    {
     "data": {
      "text/plain": [
       "'storage'"
      ]
     },
     "execution_count": 2,
     "metadata": {},
     "output_type": "execute_result"
    },
    {
     "data": {
      "text/plain": [
       "'eat'"
      ]
     },
     "execution_count": 2,
     "metadata": {},
     "output_type": "execute_result"
    }
   ],
   "source": [
    "class Warehouse:\n",
    "    purpose = 'storage'\n",
    "    region = 'west'\n",
    "    \n",
    "w1 = Warehouse()\n",
    "\n",
    "w1.purpose\n",
    "w1.region\n",
    "\n",
    "w2= Warehouse()\n",
    "w2.region = 'eat'\n",
    "\n",
    "w2.purpose\n",
    "w2.region"
   ]
  },
  {
   "cell_type": "markdown",
   "id": "63989677-0261-443b-ad89-3f46249fd6fc",
   "metadata": {},
   "source": [
    "Data attributes may be referenced by methods as well as by ordinary users (“clients”) of an object. In other words, classes are not usable to implement pure abstract data types. In fact, nothing in Python makes it possible to enforce data hiding — it is all based upon convention. (On the other hand, the Python implementation, written in C, can completely hide implementation details and control access to an object if necessary; this can be used by extensions to Python written in C.)\n",
    "\n",
    "> 数据属性可以被方法引用，也可以被对象的普通用户（\"客户\"）引用。换句话说，类是不能用来实现纯抽象数据类型的。事实上，Python中没有任何东西可以使数据隐藏成为可能--这一切都基于惯例。(另一方面，用 C 语言编写的 Python 实现可以完全隐藏实现细节，并在必要时控制对一个对象的访问；这可以被用 C 语言编写的 Python 扩展所使用)。\n",
    "\n",
    "Clients should use data attributes with care — clients may mess up invariants maintained by the methods by stamping on their data attributes. Note that clients may add data attributes of their own to an instance object without affecting the validity of the methods, as long as name conflicts are avoided — again, a naming convention can save a lot of headaches here.\n",
    "\n",
    "> 客户端应该谨慎地使用数据属性--客户可能会因为在其数据属性上盖章而弄乱方法所维护的不变性。请注意，只要避免名称冲突，客户可以向实例对象添加自己的数据属性，而不影响方法的有效性--同样，命名规则可以在这里省去很多麻烦。\n",
    "\n",
    "There is no shorthand for referencing data attributes (or other methods!) from within methods. I find that this actually increases the readability of methods: there is no chance of confusing local variables and instance variables when glancing through a method.\n",
    "\n",
    "> 在方法中没有引用数据属性（或其他方法！）的简略方法。我发现这实际上增加了方法的可读性：在扫视一个方法时，没有机会混淆局部变量和实例变量。\n",
    "\n",
    "Often, the first argument of a method is called `self`. This is nothing more than a convention: the name `self` has absolutely no special meaning to Python. Note, however, that by not following the convention your code may be less readable to other Python programmers, and it is also conceivable that a *class browser* program might be written that relies upon such a convention.\n",
    "\n",
    "> 通常，一个方法的第一个参数被称为 `self`。这只不过是一个惯例：`self`这个名字对Python来说完全没有特殊的意义。但是请注意，如果不遵循这个约定，你的代码对其他Python程序员来说可能不那么容易读懂，而且可以想象，一个*类浏览器*程序的编写也可能依赖于这样的约定。\n",
    "\n",
    "Any function object that is a class attribute defines a method for instances of that class. It is not necessary that the function definition is textually enclosed in the class definition: assigning a function object to a local variable in the class is also ok. For example:\n",
    "\n",
    "> 任何作为类属性的函数对象都为该类的实例定义了一个方法。不一定要把函数的定义用文本的形式包含在类的定义中：把一个函数对象分配给类中的局部变量也是可以的。比如说:"
   ]
  },
  {
   "cell_type": "code",
   "execution_count": 3,
   "id": "f12a6de3-06f2-4719-abd8-dea7819aadd5",
   "metadata": {},
   "outputs": [],
   "source": [
    "# Function defined outside the class\n",
    "def f1(self, x, y):\n",
    "    return min(x, y)\n",
    "\n",
    "class C:\n",
    "    f = f1\n",
    "    \n",
    "    def g(self):\n",
    "        return 'hello world'\n",
    "    \n",
    "    h = g"
   ]
  },
  {
   "cell_type": "markdown",
   "id": "10485f62-344d-4228-a8fe-6096b79890fd",
   "metadata": {},
   "source": [
    "Now `f`, `g` and `h` are all attributes of class `C` that refer to function objects, and consequently they are all methods of instances of `C` — `h` being exactly equivalent to `g`. Note that this practice usually only serves to confuse the reader of a program.\n",
    "\n",
    "> 现在`f`、`g`和`h`都是类`C`的属性，引用到函数对象，因此它们都是`C`实例的方法--`h`完全等同于`g`。请注意，这种做法通常只会让程序的读者感到困惑。\n",
    "\n",
    "Methods may call other methods by using method attributes of the `self` argument:\n",
    "\n",
    "> 方法可以通过使用`self`参数的方法属性来调用其他方法："
   ]
  },
  {
   "cell_type": "code",
   "execution_count": 4,
   "id": "a61738e3-cd70-4964-8656-d874a65d9c2c",
   "metadata": {},
   "outputs": [],
   "source": [
    "class Bag:\n",
    "    def __init__(self):\n",
    "        self.data = []\n",
    "        \n",
    "    def add(self, x):\n",
    "        self.data.append(x)\n",
    "        \n",
    "    def addtwice(self, x):\n",
    "        self.add(x)\n",
    "        self.add(x)"
   ]
  },
  {
   "cell_type": "markdown",
   "id": "8643e85e-801e-4ca8-b06e-40a9b493fb47",
   "metadata": {},
   "source": [
    "Methods may reference global names in the same way as ordinary functions. The global scope associated with a method is the module containing its definition. (A class is never used as a global scope.) While one rarely encounters a good reason for using global data in a method, there are many legitimate uses of the global scope: for one thing, functions and modules imported into the global scope can be used by methods, as well as functions and classes defined in it. Usually, the class containing the method is itself defined in this global scope, and in the next section we’ll find some good reasons why a method would want to reference its own class.\n",
    "\n",
    "> 方法可以以与普通函数相同的方式引用全局名称。与一个方法相关的全局作用域是包含其定义的模块。(类永远不会被用作全局作用域。)虽然我们很少遇到在方法中使用全局数据的好理由，但全局作用域有许多合法的用途：首先，导入全局作用域的函数和模块可以被方法使用，定义在其中的函数和类也是如此。通常情况下，包含方法的类本身就定义在这个全局作用域中，在下一节中，我们会发现一些很好的理由，为什么一个方法要引用它自己的类。\n",
    "\n",
    "Each value is an object, and therefore has a *class* (also called its *type*). It is stored as `object.__class__`.\n",
    "\n",
    "> 每个值都是一个对象，因此有一个*类*（也叫它的*类型*）。它被存储为`object.__class__`。"
   ]
  },
  {
   "cell_type": "markdown",
   "id": "75f52a03-2168-4603-8586-3a8bd740d993",
   "metadata": {},
   "source": [
    "## 9.5. Inheritance"
   ]
  },
  {
   "cell_type": "markdown",
   "id": "b543d308-5aa4-4d7d-8038-856e19d52576",
   "metadata": {},
   "source": [
    "Of course, a language feature would not be worthy of the name “class” without supporting inheritance. The syntax for a derived class definition looks like this:\n",
    "\n",
    "> 当然，如果不支持继承，一个语言特性就不配称为 \"类\"。派生类定义的语法看起来像这样："
   ]
  },
  {
   "cell_type": "raw",
   "id": "44a57f47-89d4-4de7-ad95-625428168206",
   "metadata": {},
   "source": [
    "class DerivedClassName(BaseClassName):\n",
    "    <statement-1>\n",
    "    .\n",
    "    .\n",
    "    .\n",
    "    <statement-N>"
   ]
  },
  {
   "cell_type": "markdown",
   "id": "3a0afaa8-f647-4b61-9b65-5e4474912a62",
   "metadata": {},
   "source": [
    "The name `BaseClassName` must be defined in a scope containing the derived class definition. In place of a base class name, other arbitrary expressions are also allowed. This can be useful, for example, when the base class is defined in another module:\n",
    "\n",
    "> `BaseClassName` 必须在包含派生类定义的作用域中定义。也允许用其他任意的表达式来代替基类名称。这可能很有用，例如，当基类被定义在另一个模块中时："
   ]
  },
  {
   "cell_type": "raw",
   "id": "ec89fed2-5da3-4f32-9872-0094bcab52cf",
   "metadata": {},
   "source": [
    "class DerivedClassName(modname.BaseClassName):"
   ]
  },
  {
   "cell_type": "markdown",
   "id": "29fab6a4-dd75-4068-a631-ced6283845b2",
   "metadata": {},
   "source": [
    "Execution of a derived class definition proceeds the same as for a base class. When the class object is constructed, the base class is remembered. This is used for resolving attribute references: if a requested attribute is not found in the class, the search proceeds to look in the base class. This rule is applied recursively if the base class itself is derived from some other class.\n",
    "\n",
    "> 派生类定义的执行过程与基类的执行过程相同。当类对象被构造时，基类会被记住。这被用于解决属性引用：如果在类中找不到所要求的属性，搜索将继续在基类中寻找。如果基类本身是从其他类派生出来的，那么这个规则将被递归应用。\n",
    "\n",
    "There’s nothing special about instantiation of derived classes: `DerivedClassName()` creates a new instance of the class. Method references are resolved as follows: the corresponding class attribute is searched, descending down the chain of base classes if necessary, and the method reference is valid if this yields a function object.\n",
    "\n",
    "> 派生类的实例化没有什么特别之处：`DerivedClassName()`创建一个新的类的实例。方法引用的解决方法如下：搜索相应的类属性，必要时沿着基类链向下搜索，如果产生了一个函数对象，则方法引用有效。\n",
    "\n",
    "Derived classes may override methods of their base classes. Because methods have no special privileges when calling other methods of the same object, a method of a base class that calls another method defined in the same base class may end up calling a method of a derived class that overrides it. (For C++ programmers: all methods in Python are effectively `virtual`.)\n",
    "\n",
    "> 派生类可以覆盖其基类的方法。因为方法在调用同一对象的其他方法时没有特殊的权限，一个基类的方法如果调用同一基类中定义的另一个方法，最终可能会调用一个派生类的方法来覆盖它。(对于C++程序员来说：Python中的所有方法实际上都是 `virtual`。)\n",
    "\n",
    "An overriding method in a derived class may in fact want to extend rather than simply replace the base class method of the same name. There is a simple way to call the base class method directly: just call `BaseClassName.methodname(self, arguments)`. This is occasionally useful to clients as well. (Note that this only works if the base class is accessible as `BaseClassName` in the global scope.)\n",
    "\n",
    "> 派生类中的覆盖方法实际上可能想要扩展而不是简单地替换基类中的同名方法。有一个简单的方法可以直接调用基类方法：只需调用`BaseClassName.methodname(self, arguments)`。这对客户来说偶尔也是有用的。(注意，这只有在基类在全局作用域内可以作为`BaseClassName`访问时才有效)。"
   ]
  },
  {
   "cell_type": "markdown",
   "id": "63700e9f-989b-46b5-8a41-184b964c0971",
   "metadata": {},
   "source": [
    "Python has two built-in functions that work with inheritance:\n",
    "\n",
    "- Use [`isinstance()`](https://docs.python.org/3/library/functions.html#isinstance) to check an instance’s type: `isinstance(obj, int)` will be `True` only if `obj.__class__` is [`int`](https://docs.python.org/3/library/functions.html#int) or some class derived from [`int`](https://docs.python.org/3/library/functions.html#int).\n",
    "- Use [`issubclass()`](https://docs.python.org/3/library/functions.html#issubclass) to check class inheritance: `issubclass(bool, int)` is `True` since [`bool`](https://docs.python.org/3/library/functions.html#bool) is a subclass of [`int`](https://docs.python.org/3/library/functions.html#int). However, `issubclass(float, int)` is `False` since [`float`](https://docs.python.org/3/library/functions.html#float) is not a subclass of [`int`](https://docs.python.org/3/library/functions.html#int).\n",
    "\n",
    "> Python 有两个内置函数与继承一起工作。\n",
    ">\n",
    "> - 使用 [`isinstance()`](https://docs.python.org/3/library/functions.html#isinstance) 来检查一个实例的类型。`isinstance(obj, int)`只有在`obj.__class__`是[`int`](https://docs.python.org/3/library/functions.html#int)或从[`int`](https://docs.python.org/3/library/functions.html#int)派生的某个类时才是`True`。\n",
    "> - 使用 [`issubclass()`](https://docs.python.org/3/library/functions.html#issubclass) 来检查类的继承性：`issubclass(bool, int)`是`True`，因为 [`bool`](https://docs.python.org/3/library/functions.html#bool) 是 [`int`](https://docs.python.org/3/library/functions.html#int) 的子类。然而，`issubclass(float, int)`是`False`，因为[`float`](https://docs.python.org/3/library/functions.html#float)不是[`int`](https://docs.python.org/3/library/functions.html#int)的子类。"
   ]
  },
  {
   "cell_type": "markdown",
   "id": "76443035-5dfb-49b2-b8dc-f2506243fafb",
   "metadata": {},
   "source": [
    "### 9.5.1. Multiple Inheritance"
   ]
  },
  {
   "cell_type": "markdown",
   "id": "1f444b17-4333-420d-9f61-7546ca2e17ff",
   "metadata": {},
   "source": [
    "Python supports a form of multiple inheritance as well. A class definition with multiple base classes looks like this:\n",
    "\n",
    "> Python 也支持一种多重继承的形式。一个有多个基类的类定义看起来像这样："
   ]
  },
  {
   "cell_type": "raw",
   "id": "d50e097e-cd64-4006-a0cf-0a7de61435d7",
   "metadata": {},
   "source": [
    "class DerivedClassName(Base1, Base2, Base3):\n",
    "    <statement-1>\n",
    "    .\n",
    "    .\n",
    "    .\n",
    "    <statement-N>"
   ]
  },
  {
   "cell_type": "markdown",
   "id": "c8d96f34-f587-479d-ba4f-82e20f41dc65",
   "metadata": {},
   "source": [
    "For most purposes, in the simplest cases, you can think of the search for attributes inherited from a parent class as depth-first, left-to-right, not searching twice in the same class where there is an overlap in the hierarchy. Thus, if an attribute is not found in `DerivedClassName`, it is searched for in `Base1`, then (recursively) in the base classes of `Base1`, and if it was not found there, it was searched for in `Base2`, and so on.\n",
    "\n",
    "> 在大多数情况下，在最简单的情况下，你可以认为从父类继承的属性的搜索是深度优先的，从左到右的，在层次结构有重叠的地方不会在同一个类中搜索两次。因此，如果在`DerivedClassName`中没有找到一个属性，就在`Base1`中搜索，然后（递归）在`Base1`的基类中搜索，如果在那里没有找到，就在`Base2`中搜索，以此类推。\n",
    "\n",
    "In fact, it is slightly more complex than that; the method resolution order changes dynamically to support cooperative calls to [`super()`](https://docs.python.org/3/library/functions.html#super). This approach is known in some other multiple-inheritance languages as call-next-method and is more powerful than the super call found in single-inheritance languages.\n",
    "\n",
    "> 事实上，它比这稍微复杂一些；方法解析顺序动态变化，以支持对[`super()`](https://docs.python.org/3/library/functions.html#super)的协作调用。这种方法在其他一些多继承语言中被称为call-next-method，比单继承语言中的super调用更加强大。\n",
    "\n",
    "Dynamic ordering is necessary because all cases of multiple inheritance exhibit one or more diamond relationships (where at least one of the parent classes can be accessed through multiple paths from the bottommost class). For example, all classes inherit from [`object`](https://docs.python.org/3/library/functions.html#object), so any case of multiple inheritance provides more than one path to reach [`object`](https://docs.python.org/3/library/functions.html#object). To keep the base classes from being accessed more than once, the dynamic algorithm linearizes the search order in a way that preserves the left-to-right ordering specified in each class, that calls each parent only once, and that is monotonic (meaning that a class can be subclassed without affecting the precedence order of its parents). Taken together, these properties make it possible to design reliable and extensible classes with multiple inheritance. For more detail, see https://www.python.org/download/releases/2.3/mro/.\n",
    "\n",
    "> 动态排序是必要的，因为所有多重继承的情况都表现出一个或多个牢固关系（其中至少有一个父类可以通过多个路径从最底层的类中访问）。例如，所有的类都继承自[`object`](https://docs.python.org/3/library/functions.html#object)，所以任何多重继承的情况都提供了一个以上的路径来到达[`object`](https://docs.python.org/3/library/functions.html#object)。为了防止基类被多次访问，动态算法将搜索顺序线性化，以保留每个类中指定的从左到右的顺序，每个父类只调用一次，并且是单调的（意味着一个类可以被子类化而不影响其父类的优先级顺序）。综合来看，这些属性使我们有可能设计出可靠的、可扩展的具有多重继承的类。更多细节，见https://www.python.org/download/releases/2.3/mro/。"
   ]
  },
  {
   "cell_type": "markdown",
   "id": "6c33721a-c43e-4824-a745-329118b57f50",
   "metadata": {},
   "source": [
    "## 9.6. Private Variables"
   ]
  },
  {
   "cell_type": "markdown",
   "id": "968c4737-552b-46b3-acc4-f98f6b6274d2",
   "metadata": {},
   "source": [
    "“Private” instance variables that cannot be accessed except from inside an object don’t exist in Python. However, there is a convention that is followed by most Python code: a name prefixed with an underscore (e.g. `_spam`) should be treated as a non-public part of the API (whether it is a function, a method or a data member). It should be considered an implementation detail and subject to change without notice.\n",
    "\n",
    "> 在Python中不存在除了从对象内部之外不能访问的 \"私有 \"实例变量。然而，有一个惯例被大多数Python代码所遵循：一个以下划线为前缀的名字(例如`_spam`)应该被视为API的非公开部分(无论是一个函数、一个方法还是一个数据成员)。它应该被认为是一个实现细节，可以在不通知的情况下进行修改。\n",
    "\n",
    "Since there is a valid use-case for class-private members (namely to avoid name clashes of names with names defined by subclasses), there is limited support for such a mechanism, called *name mangling*. Any identifier of the form `__spam` (at least two leading underscores, at most one trailing underscore) is textually replaced with `_classname__spam`, where `classname` is the current class name with leading underscore(s) stripped. This mangling is done without regard to the syntactic position of the identifier, as long as it occurs within the definition of a class.\n",
    "\n",
    "> 由于类的私有成员有一个有效的用例（即避免名字与子类定义的名字冲突），所以对这种机制的支持是有限的，称为*名称重构*。任何形式的标识符`__spam`（至少有两个前导下划线，最多一个后导下划线）都会被替换成`_classname__spam`，其中`classname`是当前的类名，前导下划线被去掉。这种处理方式不考虑标识符的语法位置，只要它出现在类的定义中即可。\n",
    "\n",
    "Name mangling is helpful for letting subclasses override methods without breaking intraclass method calls. For example:\n",
    "\n",
    "> 名称重构对于让子类覆盖方法而不破坏类内的方法调用很有帮助。比如说："
   ]
  },
  {
   "cell_type": "code",
   "execution_count": 2,
   "id": "824374f8-d294-4884-991f-6317faa0c015",
   "metadata": {},
   "outputs": [],
   "source": [
    "class Mapping:\n",
    "    def __init__(self, iterable):\n",
    "        self.items_list = []\n",
    "        self.__update(iterable)\n",
    "        \n",
    "    def update(self, iterable):\n",
    "        for item in iterable:\n",
    "            self.items_list.append(item)\n",
    "            \n",
    "    __update = update    # private copy of original update() method\n",
    "    \n",
    "\n",
    "class MappingSubclass(Mapping):\n",
    "    \n",
    "    def update(self, keys, values):\n",
    "        # provide new signature for update()\n",
    "        # but does not break __init__()\n",
    "        for item in zip(keys, values):\n",
    "            self.items_list.append(item)"
   ]
  },
  {
   "cell_type": "markdown",
   "id": "788211e7-6e7e-4e41-b1fb-744bb24609c2",
   "metadata": {},
   "source": [
    "The above example would work even if `MappingSubclass` were to introduce a `__update` identifier since it is replaced with `_Mapping__update` in the `Mapping` class and `_MappingSubclass__update` in the `MappingSubclass` class respectively.\n",
    "\n",
    "> 即使`MappingSubclass`引入了一个`__update`标识符，上面的例子也会起作用，因为它在`Mapping`类中被替换为`_Mapping__update`，而在`MappingSubclass`类中被替换为`_MappingSubclass__update`。\n",
    "\n",
    "Note that the mangling rules are designed mostly to avoid accidents; it still is possible to access or modify a variable that is considered private. This can even be useful in special circumstances, such as in the debugger.\n",
    "\n",
    "> 请注意，重构规则的设计主要是为了避免意外；仍然有可能访问或修改被认为是私有的变量。这在特殊情况下甚至可能是有用的，比如在调试器中。\n",
    "\n",
    "Notice that code passed to `exec()` or `eval()` does not consider the classname of the invoking class to be the current class; this is similar to the effect of the `global` statement, the effect of which is likewise restricted to code that is byte-compiled together. The same restriction applies to `getattr()`, `setattr()` and `delattr()`, as well as when referencing `__dict__` directly.\n",
    "\n",
    "> 请注意，传递给`exec()`或`eval()`的代码不会将调用类的类名视为当前类；这与`global`语句的效果类似，其效果同样限制在一起字节编译的代码。同样的限制也适用于`getattr()`、`setattr()`和`delattr()`，以及直接引用`__dict__`时。"
   ]
  },
  {
   "cell_type": "markdown",
   "id": "e87581e1-ba7c-4ad3-9abd-5186c2162adf",
   "metadata": {},
   "source": [
    "## 9.7. Odds and Ends"
   ]
  },
  {
   "cell_type": "markdown",
   "id": "cca829ec-8ebb-408a-9a49-70eda8398804",
   "metadata": {},
   "source": [
    "Sometimes it is useful to have a data type similar to the Pascal “record” or C “struct”, bundling together a few named data items. An empty class definition will do nicely:\n",
    "\n",
    "> 有时，拥有一个类似于Pascal \"record \"或C \"struct \"的数据类型是很有用的，它将一些命名的数据项捆绑在一起。一个空的类定义就很好："
   ]
  },
  {
   "cell_type": "code",
   "execution_count": 3,
   "id": "aee37037-a872-4ae8-aa6c-a5b7e9667c41",
   "metadata": {},
   "outputs": [
    {
     "data": {
      "text/plain": [
       "'John Doe'"
      ]
     },
     "execution_count": 3,
     "metadata": {},
     "output_type": "execute_result"
    },
    {
     "data": {
      "text/plain": [
       "'computer lab'"
      ]
     },
     "execution_count": 3,
     "metadata": {},
     "output_type": "execute_result"
    },
    {
     "data": {
      "text/plain": [
       "1000"
      ]
     },
     "execution_count": 3,
     "metadata": {},
     "output_type": "execute_result"
    }
   ],
   "source": [
    "class Employee:\n",
    "    pass\n",
    "\n",
    "john = Employee()    # Create an empty employee record\n",
    "\n",
    "# Fill the fields of the record\n",
    "john.name = 'John Doe'\n",
    "john.dept = 'computer lab'\n",
    "john.salary = 1000\n",
    "\n",
    "john.name\n",
    "john.dept\n",
    "john.salary"
   ]
  },
  {
   "cell_type": "markdown",
   "id": "0e66a4db-ef71-4f74-93f0-651430b68f61",
   "metadata": {},
   "source": [
    "Instance method objects have attributes, too: `m.__self__` is the instance object with the method `m()`, and `m.__func__` is the function object corresponding to the method.\n",
    "\n",
    "> 实例方法对象也有属性：`m.__self__`是具有`m()`方法的实例对象，`m.__func__`是与该方法对应的函数对象。"
   ]
  },
  {
   "cell_type": "markdown",
   "id": "3ebfb5cc-0ab8-4b8a-9e70-25cf78e2db61",
   "metadata": {},
   "source": [
    "## 9.8. Iterators"
   ]
  },
  {
   "cell_type": "markdown",
   "id": "aed674b3-b4b7-423c-90a5-8a42e222a982",
   "metadata": {},
   "source": [
    "By now you have probably noticed that most container objects can be looped over using a [`for`](https://docs.python.org/3/reference/compound_stmts.html#for) statement:\n",
    "\n",
    "> 现在你可能已经注意到，大多数容器对象都可以使用[`for`](https://docs.python.org/3/reference/compound_stmts.html#for)语句进行循环："
   ]
  },
  {
   "cell_type": "code",
   "execution_count": 13,
   "id": "eddaf2d4-1855-4be5-abdb-85dfe8cda6c4",
   "metadata": {},
   "outputs": [
    {
     "name": "stdout",
     "output_type": "stream",
     "text": [
      "1\n",
      "2\n",
      "3\n",
      "1\n",
      "2\n",
      "3\n",
      "one\n",
      "two\n",
      "1\n",
      "2\n",
      "3\n",
      "[1, \"simple\", \"list\"] series up to n\n",
      "     a, b = 0, 1\n",
      "     while a < n:\n",
      "         print(a, end=' ')\n",
      "         a, b = b, a+b\n",
      "     print()\n",
      " \n",
      " def fib2(n):   # return Fibonacci series up to n\n",
      "     result = []\n",
      "     a, b = 0, 1\n",
      "     while a < n:\n",
      "         result.append(a)\n",
      "         a, b = b, a+b\n",
      "     return result\n",
      " \n",
      " print(42)\n",
      " print(42)\n",
      " ('the answer', 42) "
     ]
    }
   ],
   "source": [
    "for element in [1, 2, 3]:\n",
    "    print(element)\n",
    "    \n",
    "for element in (1, 2, 3):\n",
    "    print(element)\n",
    "    \n",
    "for key in {'one':1, 'two':2}:\n",
    "    print(key)\n",
    "    \n",
    "for char in \"123\":\n",
    "    print(char)\n",
    "    \n",
    "for line in open(\"fibo.py\"):\n",
    "    print(line, end=' ')"
   ]
  },
  {
   "cell_type": "markdown",
   "id": "905cb0c5-b4c9-40f2-a129-9768337231ba",
   "metadata": {},
   "source": [
    "This style of access is clear, concise, and convenient. The use of iterators pervades and unifies Python. Behind the scenes, the [`for`](https://docs.python.org/3/reference/compound_stmts.html#for) statement calls [`iter()`](https://docs.python.org/3/library/functions.html#iter) on the container object. The function returns an iterator object that defines the method [`__next__()`](https://docs.python.org/3/library/stdtypes.html#iterator.__next__) which accesses elements in the container one at a time. When there are no more elements, [`__next__()`](https://docs.python.org/3/library/stdtypes.html#iterator.__next__) raises a [`StopIteration`](https://docs.python.org/3/library/exceptions.html#StopIteration) exception which tells the `for` loop to terminate. You can call the [`__next__()`](https://docs.python.org/3/library/stdtypes.html#iterator.__next__) method using the [`next()`](https://docs.python.org/3/library/functions.html#next) built-in function; this example shows how it all works:\n",
    "\n",
    "> 这种访问方式清晰、简明、方便。迭代器的使用贯穿并统一了 Python。在幕后，[`for`](https://docs.python.org/3/reference/compound_stmts.html#for) 语句在容器对象上调用 [`iter()`](https://docs.python.org/3/library/functions.html#iter) 。该函数返回一个迭代器对象，该迭代器定义了 [`__next__()`](https://docs.python.org/3/library/stdtypes.html#iterator.__next__) 方法，该方法每次都会访问容器中的一个元素。当没有更多的元素时，[`__next__()`](https://docs.python.org/3/library/stdtypes.html#iterator.__next__)会引发一个[`StopIteration`](https://docs.python.org/3/library/exceptions.html#StopIteration)异常，告诉`for`循环终止。你可以使用内置函数[`next()`](https://docs.python.org/3/library/functions.html#next)来调用[`__next__()`](https://docs.python.org/3/library/stdtypes.html#iterator.__next__)方法；这个例子显示了这一切是如何进行的："
   ]
  },
  {
   "cell_type": "code",
   "execution_count": 16,
   "id": "f54223d5-3598-4931-ac9e-e7aaf0db84dc",
   "metadata": {},
   "outputs": [
    {
     "data": {
      "text/plain": [
       "<str_iterator at 0x1e531e8f730>"
      ]
     },
     "execution_count": 16,
     "metadata": {},
     "output_type": "execute_result"
    },
    {
     "data": {
      "text/plain": [
       "<list_iterator at 0x1e532377550>"
      ]
     },
     "execution_count": 16,
     "metadata": {},
     "output_type": "execute_result"
    }
   ],
   "source": [
    "s = 'abc'\n",
    "it = iter(s)\n",
    "it\n",
    "\n",
    "list1 = [1, 2, 3]\n",
    "list_iter = iter(list1)\n",
    "list_iter"
   ]
  },
  {
   "cell_type": "code",
   "execution_count": 17,
   "id": "0e60951a-94e7-46fc-8f96-2d2f989a51e7",
   "metadata": {},
   "outputs": [
    {
     "data": {
      "text/plain": [
       "'a'"
      ]
     },
     "execution_count": 17,
     "metadata": {},
     "output_type": "execute_result"
    },
    {
     "data": {
      "text/plain": [
       "'b'"
      ]
     },
     "execution_count": 17,
     "metadata": {},
     "output_type": "execute_result"
    },
    {
     "data": {
      "text/plain": [
       "'c'"
      ]
     },
     "execution_count": 17,
     "metadata": {},
     "output_type": "execute_result"
    }
   ],
   "source": [
    "next(it)\n",
    "next(it)\n",
    "next(it)"
   ]
  },
  {
   "cell_type": "code",
   "execution_count": 18,
   "id": "139dbb7f-403d-4246-a255-c5182cbe1ebb",
   "metadata": {},
   "outputs": [
    {
     "ename": "StopIteration",
     "evalue": "",
     "output_type": "error",
     "traceback": [
      "\u001b[1;31m---------------------------------------------------------------------------\u001b[0m",
      "\u001b[1;31mStopIteration\u001b[0m                             Traceback (most recent call last)",
      "Input \u001b[1;32mIn [18]\u001b[0m, in \u001b[0;36m<cell line: 1>\u001b[1;34m()\u001b[0m\n\u001b[1;32m----> 1\u001b[0m \u001b[38;5;28;43mnext\u001b[39;49m\u001b[43m(\u001b[49m\u001b[43mit\u001b[49m\u001b[43m)\u001b[49m\n",
      "\u001b[1;31mStopIteration\u001b[0m: "
     ]
    }
   ],
   "source": [
    "next(it)"
   ]
  },
  {
   "cell_type": "code",
   "execution_count": 19,
   "id": "7ab3a843-8217-4b91-a351-6ad87c4955d6",
   "metadata": {},
   "outputs": [
    {
     "data": {
      "text/plain": [
       "1"
      ]
     },
     "execution_count": 19,
     "metadata": {},
     "output_type": "execute_result"
    },
    {
     "data": {
      "text/plain": [
       "2"
      ]
     },
     "execution_count": 19,
     "metadata": {},
     "output_type": "execute_result"
    },
    {
     "data": {
      "text/plain": [
       "3"
      ]
     },
     "execution_count": 19,
     "metadata": {},
     "output_type": "execute_result"
    }
   ],
   "source": [
    "next(list_iter)\n",
    "next(list_iter)\n",
    "next(list_iter)"
   ]
  },
  {
   "cell_type": "code",
   "execution_count": 20,
   "id": "c4707b87-0a67-46f6-b5af-3b8e18d81a6e",
   "metadata": {},
   "outputs": [
    {
     "ename": "StopIteration",
     "evalue": "",
     "output_type": "error",
     "traceback": [
      "\u001b[1;31m---------------------------------------------------------------------------\u001b[0m",
      "\u001b[1;31mStopIteration\u001b[0m                             Traceback (most recent call last)",
      "Input \u001b[1;32mIn [20]\u001b[0m, in \u001b[0;36m<cell line: 1>\u001b[1;34m()\u001b[0m\n\u001b[1;32m----> 1\u001b[0m \u001b[38;5;28;43mnext\u001b[39;49m\u001b[43m(\u001b[49m\u001b[43mlist_iter\u001b[49m\u001b[43m)\u001b[49m\n",
      "\u001b[1;31mStopIteration\u001b[0m: "
     ]
    }
   ],
   "source": [
    "next(list_iter)"
   ]
  },
  {
   "cell_type": "markdown",
   "id": "453f4d57-95e8-466b-a118-6bcaa0588515",
   "metadata": {},
   "source": [
    "Having seen the mechanics behind the iterator protocol, it is easy to add iterator behavior to your classes. Define an `__iter__()` method which returns an object with a [`__next__()`](https://docs.python.org/3/library/stdtypes.html#iterator.__next__) method. If the class defines `__next__()`, then `__iter__()` can just return `self`:\n",
    "\n",
    "> 在看到迭代器协议背后的机制后，很容易将迭代器行为添加到你的类中。定义一个`__iter__()`方法，它返回一个带有[`__next__()`](https://docs.python.org/3/library/stdtypes.html#iterator.__next__)方法的对象。如果这个类定义了`__next__()`，那么`__iter__()`可以直接返回`self`："
   ]
  },
  {
   "cell_type": "code",
   "execution_count": 25,
   "id": "f8ecc96d-1610-401f-89ec-0fdbd41e1e21",
   "metadata": {},
   "outputs": [],
   "source": [
    "class Reverse:\n",
    "    \"\"\"Iterator for looping over a sequence backwars.\"\"\"\n",
    "    def __init__(self, data):\n",
    "        self.data = data\n",
    "        self.index = len(data)\n",
    "        \n",
    "    def __iter__(self):\n",
    "        return self\n",
    "    \n",
    "    def __next__(self):\n",
    "        if self.index == 0:\n",
    "            raise StopIteration\n",
    "        self.index = self.index - 1\n",
    "        return self.data[self.index]"
   ]
  },
  {
   "cell_type": "code",
   "execution_count": 26,
   "id": "36c58276-94f6-446a-b14a-43d4c30c49f7",
   "metadata": {},
   "outputs": [
    {
     "data": {
      "text/plain": [
       "<__main__.Reverse at 0x1e5322a86d0>"
      ]
     },
     "execution_count": 26,
     "metadata": {},
     "output_type": "execute_result"
    }
   ],
   "source": [
    "rev = Reverse('spam')\n",
    "iter(rev)"
   ]
  },
  {
   "cell_type": "code",
   "execution_count": 27,
   "id": "e9b7cdcb-0fcb-4220-93a2-0a565baff598",
   "metadata": {},
   "outputs": [
    {
     "name": "stdout",
     "output_type": "stream",
     "text": [
      "m\n",
      "a\n",
      "p\n",
      "s\n"
     ]
    }
   ],
   "source": [
    "for char in rev:\n",
    "    print(char)"
   ]
  },
  {
   "cell_type": "markdown",
   "id": "adb46b2a-c05b-4edb-9d19-0972f6fd70f2",
   "metadata": {},
   "source": [
    "## 9.9. Generators"
   ]
  },
  {
   "cell_type": "markdown",
   "id": "ce01fe85-590a-4b0c-bec3-e3c39bb421e1",
   "metadata": {},
   "source": [
    "[Generators](https://docs.python.org/3/glossary.html#term-generator) are a simple and powerful tool for creating iterators. They are written like regular functions but use the [`yield`](https://docs.python.org/3/reference/simple_stmts.html#yield) statement whenever they want to return data. Each time [`next()`](https://docs.python.org/3/library/functions.html#next) is called on it, the generator resumes where it left off (it remembers all the data values and which statement was last executed). An example shows that generators can be trivially easy to create:\n",
    "\n",
    "> [生成器](https://docs.python.org/3/glossary.html#term-generator)是创建迭代器的一个简单而强大的工具。它们像普通函数一样编写，但每当它们要返回数据时，都会使用[`yield`](https://docs.python.org/3/reference/simple_stmts.html#yield)语句。每次对它调用[`next()`](https://docs.python.org/3/library/functions.html#next)时，生成器都会在它离开的地方继续工作（它记住所有的数据值和最后执行的语句）。一个例子表明，生成器可以很容易地创建："
   ]
  },
  {
   "cell_type": "code",
   "execution_count": 28,
   "id": "21150c86-09d4-4755-a928-9613fb87a87b",
   "metadata": {},
   "outputs": [],
   "source": [
    "def reverse(data):\n",
    "    for index in range(len(data)-1, -1, -1):\n",
    "        yield data[index]"
   ]
  },
  {
   "cell_type": "code",
   "execution_count": 29,
   "id": "4e2d8422-e030-48fe-a0cf-ef1001790fba",
   "metadata": {},
   "outputs": [
    {
     "name": "stdout",
     "output_type": "stream",
     "text": [
      "f\n",
      "l\n",
      "o\n",
      "g\n"
     ]
    }
   ],
   "source": [
    "for char in reverse('golf'):\n",
    "    print(char)"
   ]
  },
  {
   "cell_type": "code",
   "execution_count": 31,
   "id": "e94ae04a-fa08-4a7e-8ad2-0e9a47270c89",
   "metadata": {},
   "outputs": [
    {
     "name": "stdout",
     "output_type": "stream",
     "text": [
      "f\n",
      "l\n",
      "o\n",
      "g\n"
     ]
    }
   ],
   "source": [
    "for i in range(3, -1, -1):\n",
    "    print('golf'[i])"
   ]
  },
  {
   "cell_type": "markdown",
   "id": "53e30d9a-a57d-48e4-8e7a-ad957b6df57a",
   "metadata": {},
   "source": [
    "Anything that can be done with generators can also be done with class-based iterators as described in the previous section. What makes generators so compact is that the `__iter__()` and [`__next__()`](https://docs.python.org/3/reference/expressions.html#generator.__next__) methods are created automatically.\n",
    "\n",
    "> 任何可以用生成器完成的事情也可以用基于类的迭代器完成，如上一节所述。使得生成器如此紧凑的原因是，`__iter__()`和[`__next__()`](https://docs.python.org/3/reference/expressions.html#generator.__next__)方法是自动创建的。\n",
    "\n",
    "Another key feature is that the local variables and execution state are automatically saved between calls. This made the function easier to write and much more clear than an approach using instance variables like `self.index` and `self.data`.\n",
    "\n",
    "> 另一个关键特征是局部变量和执行状态在调用之间被自动保存。这使得函数更容易编写，而且比使用实例变量（如`self.index`和`self.data`）的方法更清晰。\n",
    "\n",
    "In addition to automatic method creation and saving program state, when generators terminate, they automatically raise [`StopIteration`](https://docs.python.org/3/library/exceptions.html#StopIteration). In combination, these features make it easy to create iterators with no more effort than writing a regular function.\n",
    "\n",
    "> 除了自动创建方法和保存程序状态外，当生成器终止时，它们会自动引发[`StopIteration`](https://docs.python.org/3/library/exceptions.html#StopIteration)。结合起来，这些特性使得创建迭代器很容易，不比编写普通函数更费力。"
   ]
  },
  {
   "cell_type": "markdown",
   "id": "3db98f59-0611-483e-9bfa-cc5c9e49249f",
   "metadata": {},
   "source": [
    "## 9.10. Generator Expressions"
   ]
  },
  {
   "cell_type": "markdown",
   "id": "8eb8ef1b-c459-48f6-94ed-5df53018d344",
   "metadata": {},
   "source": [
    "Some simple generators can be coded succinctly as expressions using a syntax similar to list comprehensions but with parentheses instead of square brackets. These expressions are designed for situations where the generator is used right away by an enclosing function. Generator expressions are more compact but less versatile than full generator definitions and tend to be more memory friendly than equivalent list comprehensions.\n",
    "\n",
    "Examples:\n",
    "\n",
    "> 一些简单的生成器可以被简洁地编码为表达式，使用的语法类似于列表解析式，但用小括号代替了方括号。这些表达式是为生成器被一个封闭的函数立即使用的情况而设计的。生成器表达式比完整的生成器定义更紧凑，但功能较少，而且往往比等价的列表理解对内存更友好。\n",
    ">\n",
    "> 例子："
   ]
  },
  {
   "cell_type": "code",
   "execution_count": 32,
   "id": "6d20d34e-e4a9-4bfa-9074-706a031b1fa4",
   "metadata": {},
   "outputs": [
    {
     "data": {
      "text/plain": [
       "285"
      ]
     },
     "execution_count": 32,
     "metadata": {},
     "output_type": "execute_result"
    }
   ],
   "source": [
    "sum(i*i for i in range(10))    # sum of squares"
   ]
  },
  {
   "cell_type": "code",
   "execution_count": 33,
   "id": "6bb07696-eb55-479e-91b8-0b7617b54a2e",
   "metadata": {},
   "outputs": [
    {
     "data": {
      "text/plain": [
       "260"
      ]
     },
     "execution_count": 33,
     "metadata": {},
     "output_type": "execute_result"
    }
   ],
   "source": [
    "xvec = [10, 20, 30]\n",
    "yvec = [7, 5, 3]\n",
    "\n",
    "sum(x*y for x,y in zip(xvec, yvec))"
   ]
  },
  {
   "cell_type": "code",
   "execution_count": 34,
   "id": "5fd2efd7-2559-4d59-8c8d-d885f848a081",
   "metadata": {},
   "outputs": [
    {
     "ename": "NameError",
     "evalue": "name 'page' is not defined",
     "output_type": "error",
     "traceback": [
      "\u001b[1;31m---------------------------------------------------------------------------\u001b[0m",
      "\u001b[1;31mNameError\u001b[0m                                 Traceback (most recent call last)",
      "Input \u001b[1;32mIn [34]\u001b[0m, in \u001b[0;36m<cell line: 1>\u001b[1;34m()\u001b[0m\n\u001b[1;32m----> 1\u001b[0m unique_word \u001b[38;5;241m=\u001b[39m \u001b[38;5;28mset\u001b[39m(word \u001b[38;5;28;01mfor\u001b[39;00m line \u001b[38;5;129;01min\u001b[39;00m \u001b[43mpage\u001b[49m \u001b[38;5;28;01mfor\u001b[39;00m word \u001b[38;5;129;01min\u001b[39;00m line\u001b[38;5;241m.\u001b[39msplit())\n",
      "\u001b[1;31mNameError\u001b[0m: name 'page' is not defined"
     ]
    }
   ],
   "source": [
    "unique_word = set(word for line in page for word in line.split())"
   ]
  },
  {
   "cell_type": "code",
   "execution_count": 35,
   "id": "5feef186-9509-4570-a843-9d298e155f62",
   "metadata": {},
   "outputs": [
    {
     "ename": "NameError",
     "evalue": "name 'graduates' is not defined",
     "output_type": "error",
     "traceback": [
      "\u001b[1;31m---------------------------------------------------------------------------\u001b[0m",
      "\u001b[1;31mNameError\u001b[0m                                 Traceback (most recent call last)",
      "Input \u001b[1;32mIn [35]\u001b[0m, in \u001b[0;36m<cell line: 1>\u001b[1;34m()\u001b[0m\n\u001b[1;32m----> 1\u001b[0m valedictorian \u001b[38;5;241m=\u001b[39m \u001b[38;5;28mmax\u001b[39m((student\u001b[38;5;241m.\u001b[39mgpa, student\u001b[38;5;241m.\u001b[39mname) \u001b[38;5;28;01mfor\u001b[39;00m student \u001b[38;5;129;01min\u001b[39;00m \u001b[43mgraduates\u001b[49m)\n",
      "\u001b[1;31mNameError\u001b[0m: name 'graduates' is not defined"
     ]
    }
   ],
   "source": [
    "valedictorian = max((student.gpa, student.name) for student in graduates)"
   ]
  },
  {
   "cell_type": "code",
   "execution_count": 36,
   "id": "235c6adc-b939-4ac4-9099-61939223955c",
   "metadata": {},
   "outputs": [
    {
     "data": {
      "text/plain": [
       "['f', 'l', 'o', 'g']"
      ]
     },
     "execution_count": 36,
     "metadata": {},
     "output_type": "execute_result"
    }
   ],
   "source": [
    "data = 'golf'\n",
    "\n",
    "list(data[i] for i in range(len(data)-1, -1, -1))"
   ]
  },
  {
   "cell_type": "markdown",
   "id": "7f576514-ae51-4176-a2ed-10bbb4e320e9",
   "metadata": {},
   "source": [
    "**Footnotes**"
   ]
  },
  {
   "cell_type": "markdown",
   "id": "b2ec7bd6-8c6a-46d4-aee6-bf3cc1dc1a09",
   "metadata": {},
   "source": [
    "[1]: Except for one thing. Module objects have a secret read-only attribute called [`__dict__`](https://docs.python.org/3/library/stdtypes.html#object.__dict__) which returns the dictionary used to implement the module’s namespace; the name [`__dict__`](https://docs.python.org/3/library/stdtypes.html#object.__dict__) is an attribute but not a global name. Obviously, using this violates the abstraction of namespace implementation, and should be restricted to things like post-mortem debuggers.\n",
    "\n",
    "> [1] 除了一件事。模块对象有一个秘密的只读属性，叫做 [`__dict__`](https://docs.python.org/3/library/stdtypes.html#object.__dict__)，它返回用于实现模块命名空间的字典；名称 [`__dict__`](https://docs.python.org/3/library/stdtypes.html#object.__dict__) 是一个属性，但不是一个全局名称。很明显，使用这个方法违反了命名空间实现的抽象性，应该限制在像post-mortem调试器这样的事情上。"
   ]
  },
  {
   "cell_type": "code",
   "execution_count": 3,
   "id": "c0ad4b19-c162-48f3-94c9-ad75abe3cb36",
   "metadata": {},
   "outputs": [],
   "source": [
    "import fibo"
   ]
  },
  {
   "cell_type": "code",
   "execution_count": 4,
   "id": "59ef7b4f-8564-4d91-b57e-5f37c384aa6e",
   "metadata": {
    "collapsed": true,
    "jupyter": {
     "outputs_hidden": true
    },
    "tags": []
   },
   "outputs": [
    {
     "data": {
      "text/plain": [
       "{'__name__': 'fibo',\n",
       " '__doc__': None,\n",
       " '__package__': '',\n",
       " '__loader__': <_frozen_importlib_external.SourceFileLoader at 0x24debe2aa10>,\n",
       " '__spec__': ModuleSpec(name='fibo', loader=<_frozen_importlib_external.SourceFileLoader object at 0x0000024DEBE2AA10>, origin='D:\\\\GitHub\\\\apply-Python-by-Python-tutorial\\\\The Python Tutorial\\\\fibo.py'),\n",
       " '__file__': 'D:\\\\GitHub\\\\apply-Python-by-Python-tutorial\\\\The Python Tutorial\\\\fibo.py',\n",
       " '__cached__': 'D:\\\\GitHub\\\\apply-Python-by-Python-tutorial\\\\The Python Tutorial\\\\__pycache__\\\\fibo.cpython-310.pyc',\n",
       " '__builtins__': {'__name__': 'builtins',\n",
       "  '__doc__': \"Built-in functions, exceptions, and other objects.\\n\\nNoteworthy: None is the `nil' object; Ellipsis represents `...' in slices.\",\n",
       "  '__package__': '',\n",
       "  '__loader__': _frozen_importlib.BuiltinImporter,\n",
       "  '__spec__': ModuleSpec(name='builtins', loader=<class '_frozen_importlib.BuiltinImporter'>, origin='built-in'),\n",
       "  '__build_class__': <function __build_class__>,\n",
       "  '__import__': <function __import__>,\n",
       "  'abs': <function abs(x, /)>,\n",
       "  'all': <function all(iterable, /)>,\n",
       "  'any': <function any(iterable, /)>,\n",
       "  'ascii': <function ascii(obj, /)>,\n",
       "  'bin': <function bin(number, /)>,\n",
       "  'breakpoint': <function breakpoint>,\n",
       "  'callable': <function callable(obj, /)>,\n",
       "  'chr': <function chr(i, /)>,\n",
       "  'compile': <function compile(source, filename, mode, flags=0, dont_inherit=False, optimize=-1, *, _feature_version=-1)>,\n",
       "  'delattr': <function delattr(obj, name, /)>,\n",
       "  'dir': <function dir>,\n",
       "  'divmod': <function divmod(x, y, /)>,\n",
       "  'eval': <function eval(source, globals=None, locals=None, /)>,\n",
       "  'exec': <function exec(source, globals=None, locals=None, /)>,\n",
       "  'format': <function format(value, format_spec='', /)>,\n",
       "  'getattr': <function getattr>,\n",
       "  'globals': <function globals()>,\n",
       "  'hasattr': <function hasattr(obj, name, /)>,\n",
       "  'hash': <function hash(obj, /)>,\n",
       "  'hex': <function hex(number, /)>,\n",
       "  'id': <function id(obj, /)>,\n",
       "  'input': <bound method Kernel.raw_input of <ipykernel.ipkernel.IPythonKernel object at 0x0000024DEBDDBCA0>>,\n",
       "  'isinstance': <function isinstance(obj, class_or_tuple, /)>,\n",
       "  'issubclass': <function issubclass(cls, class_or_tuple, /)>,\n",
       "  'iter': <function iter>,\n",
       "  'aiter': <function aiter(async_iterable, /)>,\n",
       "  'len': <function len(obj, /)>,\n",
       "  'locals': <function locals()>,\n",
       "  'max': <function max>,\n",
       "  'min': <function min>,\n",
       "  'next': <function next>,\n",
       "  'anext': <function anext>,\n",
       "  'oct': <function oct(number, /)>,\n",
       "  'ord': <function ord(c, /)>,\n",
       "  'pow': <function pow(base, exp, mod=None)>,\n",
       "  'print': <function print>,\n",
       "  'repr': <function repr(obj, /)>,\n",
       "  'round': <function round(number, ndigits=None)>,\n",
       "  'setattr': <function setattr(obj, name, value, /)>,\n",
       "  'sorted': <function sorted(iterable, /, *, key=None, reverse=False)>,\n",
       "  'sum': <function sum(iterable, /, start=0)>,\n",
       "  'vars': <function vars>,\n",
       "  'None': None,\n",
       "  'Ellipsis': Ellipsis,\n",
       "  'NotImplemented': NotImplemented,\n",
       "  'False': False,\n",
       "  'True': True,\n",
       "  'bool': bool,\n",
       "  'memoryview': memoryview,\n",
       "  'bytearray': bytearray,\n",
       "  'bytes': bytes,\n",
       "  'classmethod': classmethod,\n",
       "  'complex': complex,\n",
       "  'dict': dict,\n",
       "  'enumerate': enumerate,\n",
       "  'filter': filter,\n",
       "  'float': float,\n",
       "  'frozenset': frozenset,\n",
       "  'property': property,\n",
       "  'int': int,\n",
       "  'list': list,\n",
       "  'map': map,\n",
       "  'object': object,\n",
       "  'range': range,\n",
       "  'reversed': reversed,\n",
       "  'set': set,\n",
       "  'slice': slice,\n",
       "  'staticmethod': staticmethod,\n",
       "  'str': str,\n",
       "  'super': super,\n",
       "  'tuple': tuple,\n",
       "  'type': type,\n",
       "  'zip': zip,\n",
       "  '__debug__': True,\n",
       "  'BaseException': BaseException,\n",
       "  'Exception': Exception,\n",
       "  'TypeError': TypeError,\n",
       "  'StopAsyncIteration': StopAsyncIteration,\n",
       "  'StopIteration': StopIteration,\n",
       "  'GeneratorExit': GeneratorExit,\n",
       "  'SystemExit': SystemExit,\n",
       "  'KeyboardInterrupt': KeyboardInterrupt,\n",
       "  'ImportError': ImportError,\n",
       "  'ModuleNotFoundError': ModuleNotFoundError,\n",
       "  'OSError': OSError,\n",
       "  'EnvironmentError': OSError,\n",
       "  'IOError': OSError,\n",
       "  'WindowsError': OSError,\n",
       "  'EOFError': EOFError,\n",
       "  'RuntimeError': RuntimeError,\n",
       "  'RecursionError': RecursionError,\n",
       "  'NotImplementedError': NotImplementedError,\n",
       "  'NameError': NameError,\n",
       "  'UnboundLocalError': UnboundLocalError,\n",
       "  'AttributeError': AttributeError,\n",
       "  'SyntaxError': SyntaxError,\n",
       "  'IndentationError': IndentationError,\n",
       "  'TabError': TabError,\n",
       "  'LookupError': LookupError,\n",
       "  'IndexError': IndexError,\n",
       "  'KeyError': KeyError,\n",
       "  'ValueError': ValueError,\n",
       "  'UnicodeError': UnicodeError,\n",
       "  'UnicodeEncodeError': UnicodeEncodeError,\n",
       "  'UnicodeDecodeError': UnicodeDecodeError,\n",
       "  'UnicodeTranslateError': UnicodeTranslateError,\n",
       "  'AssertionError': AssertionError,\n",
       "  'ArithmeticError': ArithmeticError,\n",
       "  'FloatingPointError': FloatingPointError,\n",
       "  'OverflowError': OverflowError,\n",
       "  'ZeroDivisionError': ZeroDivisionError,\n",
       "  'SystemError': SystemError,\n",
       "  'ReferenceError': ReferenceError,\n",
       "  'MemoryError': MemoryError,\n",
       "  'BufferError': BufferError,\n",
       "  'Warning': Warning,\n",
       "  'UserWarning': UserWarning,\n",
       "  'EncodingWarning': EncodingWarning,\n",
       "  'DeprecationWarning': DeprecationWarning,\n",
       "  'PendingDeprecationWarning': PendingDeprecationWarning,\n",
       "  'SyntaxWarning': SyntaxWarning,\n",
       "  'RuntimeWarning': RuntimeWarning,\n",
       "  'FutureWarning': FutureWarning,\n",
       "  'ImportWarning': ImportWarning,\n",
       "  'UnicodeWarning': UnicodeWarning,\n",
       "  'BytesWarning': BytesWarning,\n",
       "  'ResourceWarning': ResourceWarning,\n",
       "  'ConnectionError': ConnectionError,\n",
       "  'BlockingIOError': BlockingIOError,\n",
       "  'BrokenPipeError': BrokenPipeError,\n",
       "  'ChildProcessError': ChildProcessError,\n",
       "  'ConnectionAbortedError': ConnectionAbortedError,\n",
       "  'ConnectionRefusedError': ConnectionRefusedError,\n",
       "  'ConnectionResetError': ConnectionResetError,\n",
       "  'FileExistsError': FileExistsError,\n",
       "  'FileNotFoundError': FileNotFoundError,\n",
       "  'IsADirectoryError': IsADirectoryError,\n",
       "  'NotADirectoryError': NotADirectoryError,\n",
       "  'InterruptedError': InterruptedError,\n",
       "  'PermissionError': PermissionError,\n",
       "  'ProcessLookupError': ProcessLookupError,\n",
       "  'TimeoutError': TimeoutError,\n",
       "  'open': <function io.open(file, mode='r', buffering=-1, encoding=None, errors=None, newline=None, closefd=True, opener=None)>,\n",
       "  'copyright': Copyright (c) 2001-2022 Python Software Foundation.\n",
       "  All Rights Reserved.\n",
       "  \n",
       "  Copyright (c) 2000 BeOpen.com.\n",
       "  All Rights Reserved.\n",
       "  \n",
       "  Copyright (c) 1995-2001 Corporation for National Research Initiatives.\n",
       "  All Rights Reserved.\n",
       "  \n",
       "  Copyright (c) 1991-1995 Stichting Mathematisch Centrum, Amsterdam.\n",
       "  All Rights Reserved.,\n",
       "  'credits':     Thanks to CWI, CNRI, BeOpen.com, Zope Corporation and a cast of thousands\n",
       "      for supporting Python development.  See www.python.org for more information.,\n",
       "  'license': Type license() to see the full license text,\n",
       "  'help': Type help() for interactive help, or help(object) for help about object.,\n",
       "  'execfile': <function _pydev_bundle._pydev_execfile.execfile(file, glob=None, loc=None)>,\n",
       "  'runfile': <function _pydev_bundle.pydev_umd.runfile(filename, args=None, wdir=None, namespace=None)>,\n",
       "  '__IPYTHON__': True,\n",
       "  'display': <function IPython.core.display_functions.display(*objs, include=None, exclude=None, metadata=None, transient=None, display_id=None, raw=False, clear=False, **kwargs)>,\n",
       "  'get_ipython': <bound method InteractiveShell.get_ipython of <ipykernel.zmqshell.ZMQInteractiveShell object at 0x0000024DEBE28BB0>>},\n",
       " 'fib1': <function fibo.fib1(n)>,\n",
       " 'fib2': <function fibo.fib2(n)>}"
      ]
     },
     "execution_count": 4,
     "metadata": {},
     "output_type": "execute_result"
    }
   ],
   "source": [
    "fibo.__dict__"
   ]
  }
 ],
 "metadata": {
  "kernelspec": {
   "display_name": "Python 3 (ipykernel)",
   "language": "python",
   "name": "python3"
  },
  "language_info": {
   "codemirror_mode": {
    "name": "ipython",
    "version": 3
   },
   "file_extension": ".py",
   "mimetype": "text/x-python",
   "name": "python",
   "nbconvert_exporter": "python",
   "pygments_lexer": "ipython3",
   "version": "3.10.4"
  }
 },
 "nbformat": 4,
 "nbformat_minor": 5
}
