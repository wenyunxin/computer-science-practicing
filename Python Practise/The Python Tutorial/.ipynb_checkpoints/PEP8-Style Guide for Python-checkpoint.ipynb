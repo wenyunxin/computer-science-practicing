{
 "cells": [
  {
   "cell_type": "code",
   "execution_count": 1,
   "id": "44ca83d8-e15e-482c-aefb-dc34e5a625d1",
   "metadata": {},
   "outputs": [],
   "source": [
    "from IPython.core.interactiveshell import InteractiveShell\n",
    "InteractiveShell.ast_node_interactivity = \"all\""
   ]
  },
  {
   "cell_type": "markdown",
   "id": "8f985ccb-792f-436b-a12a-afac4e510f8e",
   "metadata": {},
   "source": [
    "## Introduction"
   ]
  },
  {
   "cell_type": "markdown",
   "id": "3ce498c5-0676-4cae-8bcd-d0defc436e43",
   "metadata": {},
   "source": [
    "This document gives coding conventions for the Python code comprising the standard library in the main Python distribution. Please see the companion informational PEP describing [style guidelines for the C code in the C implementation of Python](https://peps.python.org/pep-0007).\n",
    "\n",
    "This document and [PEP 257](https://peps.python.org/pep-0257) (Docstring Conventions) were adapted from Guido’s original Python Style Guide essay, with some additions from Barry’s style guide [[2\\]](https://peps.python.org/pep-0008/#id6).\n",
    "\n",
    "This style guide evolves over time as additional conventions are identified and past conventions are rendered obsolete by changes in the language itself.\n",
    "\n",
    "Many projects have their own coding style guidelines. In the event of any conflicts, such project-specific guides take precedence for that project.\n",
    "\n",
    "> 这份文件给出了由Python主发行版中的标准库组成的Python代码的编码规范。请参阅配套的信息性PEP描述 [Python的C实现中的C代码的风格指南](https://peps.python.org/pep-0007)。\n",
    ">\n",
    "> 本文档和 [PEP 257](https://peps.python.org/pep-0257) (Docstring Conventions) 是根据Guido最初的Python风格指南文章改编的，并从Barry的风格指南[[2\\]](https://peps.python.org/pep-0008/#id6)中增加了一些内容。\n",
    ">\n",
    "> 这个风格指南随着时间的推移而演变，因为有更多的约定被确定下来，而过去的约定又因为语言本身的变化而变得过时。\n",
    ">\n",
    "> 许多项目都有自己的编码风格指南。在任何冲突的情况下，这种项目特定的指南在该项目中具有优先权。"
   ]
  },
  {
   "cell_type": "markdown",
   "id": "8da18747-4976-4550-a0de-5b20ca823e98",
   "metadata": {},
   "source": [
    "## A foolish consistency is the Hobgoblin of little minds"
   ]
  },
  {
   "cell_type": "markdown",
   "id": "469ae36b-007a-46bd-8b90-604d5d7e1e4e",
   "metadata": {},
   "source": [
    "One of Guido’s key insights is that code is read much more often than it is written. The guidelines provided here are intended to improve the readability of code and make it consistent across the wide spectrum of Python code. As [PEP 20](https://peps.python.org/pep-0020) says, “Readability counts”.\n",
    "\n",
    "A style guide is about consistency. Consistency with this style guide is important. Consistency within a project is more important. Consistency within one module or function is the most important.\n",
    "\n",
    "However, know when to be inconsistent – sometimes style guide recommendations just aren’t applicable. When in doubt, use your best judgment. Look at other examples and decide what looks best. And don’t hesitate to ask!\n",
    "\n",
    "In particular: do not break backwards compatibility just to comply with this PEP!\n",
    "\n",
    "Some other good reasons to ignore a particular guideline:\n",
    "\n",
    "1. When applying the guideline would make the code less readable, even for someone who is used to reading code that follows this PEP.\n",
    "2. To be consistent with surrounding code that also breaks it (maybe for historic reasons) – although this is also an opportunity to clean up someone else’s mess (in true XP style).\n",
    "3. Because the code in question predates the introduction of the guideline and there is no other reason to be modifying that code.\n",
    "4. When the code needs to remain compatible with older versions of Python that don’t support the feature recommended by the style guide.\n",
    "\n",
    "> Guido的一个重要见解是，代码被阅读的次数远远多于被书写的次数。这里提供的指南是为了提高代码的可读性，并使其在广泛的Python代码中保持一致。正如 [PEP 20](https://peps.python.org/pep-0020) 所说，\"可读性很重要\"。\n",
    ">\n",
    "> 风格指南是关于一致性的。与本风格指南保持一致是很重要的。在一个项目中的一致性更为重要。一个模块或功能内的一致性是最重要的。\n",
    ">\n",
    "> 然而，要知道什么时候可以不一致--有时风格指南的建议就是不适用。当有疑问时，使用你的最佳判断。看看其他的例子，决定什么看起来最好。而且不要犹豫，要问清楚\n",
    ">\n",
    "> 特别是：不要为了遵守这个PEP而破坏了向后的兼容性。\n",
    ">\n",
    "> 其他一些忽略某条准则的好理由：\n",
    ">\n",
    "> 1. 当应用该准则会使代码的可读性降低时，即使是对于那些习惯于阅读遵循该PEP的代码的人来说。\n",
    "> 2. 为了与周围的代码保持一致，这些代码也会破坏它（也许是出于历史原因）--尽管这也是一个清理别人的烂摊子的机会（以真正的XP风格）。\n",
    "> 3. 因为有问题的代码是在引入该准则之前就存在的，而且没有其他理由要修改该代码。\n",
    "> 4. 当代码需要与不支持风格指南所推荐的特性的旧版本的 Python 保持兼容时。"
   ]
  },
  {
   "cell_type": "markdown",
   "id": "ac21b508-e979-4bcc-98d3-f5df859c3b4c",
   "metadata": {},
   "source": [
    "## Code Lay-out"
   ]
  },
  {
   "cell_type": "markdown",
   "id": "6a1f4dc4-2e24-4fde-a58d-5ec2c70eb7f2",
   "metadata": {},
   "source": [
    "### Indetation"
   ]
  },
  {
   "cell_type": "markdown",
   "id": "7bd0bf92-c591-4cdc-a43e-da7ff08a3273",
   "metadata": {},
   "source": [
    "Use 4 spaces per indentation level.\n",
    "\n",
    "Continuation lines should align wrapped elements either vertically using Python’s implicit line joining inside parentheses, brackets and braces, or using a *hanging indent* [[1\\]](https://peps.python.org/pep-0008/#fn-hi). When using a hanging indent the following should be considered; there should be no arguments on the first line and further indentation should be used to clearly distinguish itself as a continuation line:\n",
    "\n",
    "> 每个缩进级别使用4个空格。\n",
    ">\n",
    "> 延续行应该使用Python的圆括号、方括号和大括号内的隐式连线，或者使用*悬挂缩进* [[1/]](https://peps.python.org/pep-0008/#fn-hi)，将包裹的元素垂直对齐。当使用悬空缩进时，应该考虑以下问题；第一行不应该有参数，应该使用进一步的缩进来明确区分自己是一个延续行。"
   ]
  },
  {
   "cell_type": "markdown",
   "id": "1df28d4c-b93a-41ec-b7fc-7f6030ddf9cf",
   "metadata": {},
   "source": [
    "```bash\n",
    "# Correct:\n",
    "\n",
    "# Aligned with opening delimiter.\n",
    "foo = long_function_name(var_one, var_two,\n",
    "                         var_three, var_four)\n",
    "\n",
    "# Add 4 spaces (an extra level of indentation) to distinguish arguments from the rest.\n",
    "def long_function_name(\n",
    "        var_one, var_two, var_three,\n",
    "        var_four):\n",
    "    print(var_one)\n",
    "    \n",
    "# Hanging indents should add a level.\n",
    "foo = long_function_name(\n",
    "    var_one, var_two,\n",
    "    var_three, var_four)\n",
    "```"
   ]
  },
  {
   "cell_type": "code",
   "execution_count": 9,
   "id": "b035865d-25f3-477b-83c3-84a540e9d450",
   "metadata": {},
   "outputs": [
    {
     "name": "stdout",
     "output_type": "stream",
     "text": [
      "10\n",
      "26\n"
     ]
    }
   ],
   "source": [
    "def add_four_numbers(\n",
    "        num_one, num_two, num_three,\n",
    "        num_four):\n",
    "    print(num_one + num_two + num_three + num_four)\n",
    "\n",
    "# I prefer this one\n",
    "foo = add_four_numbers(1, 2,\n",
    "                       3, 4)\n",
    "\n",
    "foo1 = add_four_numbers(\n",
    "    5, 6,\n",
    "    7, 8)"
   ]
  },
  {
   "cell_type": "markdown",
   "id": "2c5b4c5f-edb2-49d6-90e9-a1ced54f3a95",
   "metadata": {},
   "source": [
    "The 4-space rule is optional for continuation lines.\n",
    "\n",
    "Optional:\n",
    "\n",
    "> 4-空格规则对于续行来说是可选的。\n",
    ">\n",
    "> 可选的："
   ]
  },
  {
   "cell_type": "markdown",
   "id": "12530952-983b-4671-8650-664725bea514",
   "metadata": {},
   "source": [
    "```bash\n",
    "# Hanging indents *may* be indented to other than 4 spaces.\n",
    "foo = long_function_name(\n",
    "  var_one, var_two,\n",
    "  var_three, var_four)\n",
    "```"
   ]
  },
  {
   "cell_type": "markdown",
   "id": "90e3d787-5526-4047-b2fb-9edf865bb85a",
   "metadata": {},
   "source": [
    "When the conditional part of an `if`-statement is long enough to require that it be written across multiple lines, it’s worth noting that the combination of a two character keyword (i.e. `if`), plus a single space, plus an opening parenthesis creates a natural 4-space indent for the subsequent lines of the multiline conditional. This can produce a visual conflict with the indented suite of code nested inside the `if`-statement, which would also naturally be indented to 4 spaces. This PEP takes no explicit position on how (or whether) to further visually distinguish such conditional lines from the nested suite inside the `if`-statement. Acceptable options in this situation include, but are not limited to:\n",
    "\n",
    "> 当 `if` 语句的条件部分长到需要写多行时，值得注意的是，两个字符的关键字（即 `if`），加上一个空格，再加上一个开头的圆括号，为多行条件的后续行创造了一个自然的4空格缩进。这可能会与嵌套在 `if` 语句中的缩进代码产生视觉冲突，这些代码也会自然缩进到4个空格。本PEP对如何（或是否）进一步从视觉上区分这些条件行和嵌套在 `if` 语句中的套件没有明确的立场。这种情况下可接受的选项包括，但不限于："
   ]
  },
  {
   "cell_type": "markdown",
   "id": "540c3892-0f36-4964-a6e9-83410901e01c",
   "metadata": {},
   "source": [
    "```bash\n",
    "# No extra indentation.\n",
    "if (this_is_one thing and\n",
    "    that_is_anohter_thing):\n",
    "    do_something()\n",
    "    \n",
    "# Add a commment, which will provide some distinction in editors\n",
    "# supporting syntax highlighting.\n",
    "if (this_is_one thing and\n",
    "    that_is_anohter_thing):\n",
    "    # since both conditions are true, we can frobnicate.\n",
    "    do_something()\n",
    "    \n",
    "# Add some extra indentation on the conditional continuation line.\n",
    "if (this_is_one thing\n",
    "        and that_is_anohter_thing):\n",
    "    do_something()\n",
    "```"
   ]
  },
  {
   "cell_type": "code",
   "execution_count": 8,
   "id": "b6d3e2ad-eeb3-416a-9e7a-64096e22188d",
   "metadata": {},
   "outputs": [
    {
     "name": "stdout",
     "output_type": "stream",
     "text": [
      "small number always less than larger number\n",
      "small number always less than larger number\n"
     ]
    }
   ],
   "source": [
    "# I prefer the second.\n",
    "\n",
    "if (1 < 2 and\n",
    "    2 < 3):\n",
    "    print('small number always less than larger number')\n",
    "    \n",
    "if (1 < 2\n",
    "        and 2 < 3):\n",
    "    print('small number always less than larger number')"
   ]
  },
  {
   "cell_type": "markdown",
   "id": "13a028bb-512f-4d0e-ab0a-6098394f4518",
   "metadata": {},
   "source": [
    "(Also see the discussion of whether to break before or after binary operators below.)\n",
    "\n",
    "The closing brace/bracket/parenthesis on multiline constructs may either line up under the first non-whitespace character of the last line of list, as in:\n",
    "\n",
    "> (参见下面关于二元运算符之前或之后是否断句的讨论）。\n",
    ">\n",
    "> 多行结构上的结束大括号/方括号/圆括号可以排在列表最后一行的第一个非空格字符下，如："
   ]
  },
  {
   "cell_type": "markdown",
   "id": "5be2619c-ebc9-4cc8-949d-afe7bf5411a6",
   "metadata": {},
   "source": [
    "```bash\n",
    "my_list = [\n",
    "    1, 2, 3\n",
    "    4, 5, 6\n",
    "    ]\n",
    "\n",
    "result = some_function_that_takes_arguments(\n",
    "    'a', 'b', 'c',\n",
    "    'd', 'e', 'f',\n",
    "    )\n",
    "```"
   ]
  },
  {
   "cell_type": "markdown",
   "id": "3e62c4c1-9073-4db3-b67c-60c8ea7ce797",
   "metadata": {},
   "source": [
    "or it may be lined up under the first character of the line that starts the multiline construct, as in:\n",
    "\n",
    "> 或者它可以排在开始多行结构的一行的第一个字符下面，如："
   ]
  },
  {
   "cell_type": "markdown",
   "id": "383da950-b65f-4157-98ac-a33d72d743ab",
   "metadata": {},
   "source": [
    "I prefer this style\n",
    "\n",
    "```python\n",
    "my_list = [\n",
    "    1, 2, 3\n",
    "    4, 5, 6\n",
    "]\n",
    "\n",
    "result = some_function_that_takes_arguments(\n",
    "    'a', 'b', 'c',\n",
    "    'd', 'e', 'f',\n",
    ")\n",
    "```"
   ]
  },
  {
   "cell_type": "markdown",
   "id": "2b5954a7-fe33-4018-8f8c-b2d38630d6cf",
   "metadata": {},
   "source": [
    "### Tables or Spaces?"
   ]
  },
  {
   "cell_type": "markdown",
   "id": "16f35414-c229-425e-8d2c-478f9c8ec0dc",
   "metadata": {},
   "source": [
    "Spaces are the preferred indentation method.\n",
    "\n",
    "Tabs should be used solely to remain consistent with code that is already indented with tabs.\n",
    "\n",
    "Python disallows mixing tabs and spaces for indentation.\n",
    "\n",
    "> 白空格是首选的缩进方法。\n",
    ">\n",
    "> Tab空格应该只用于与已经用Tab空格缩进的代码保持一致。\n",
    ">\n",
    "> Python不允许将Tab空格和白空格混合在一起缩进。"
   ]
  },
  {
   "cell_type": "markdown",
   "id": "cc2af225-d196-44d8-b13a-9bde3ebbdc0c",
   "metadata": {},
   "source": [
    "conclusion: whitespace helps better consistency."
   ]
  },
  {
   "cell_type": "markdown",
   "id": "a007a8ac-8e4d-4205-9590-af269c17db92",
   "metadata": {},
   "source": [
    "### Maximum Line Length"
   ]
  },
  {
   "cell_type": "markdown",
   "id": "b565ef78-ec7a-403b-8e20-537a1c5b21be",
   "metadata": {},
   "source": [
    "Limit all lines to a maximum of 79 characters.\n",
    "\n",
    "For flowing long blocks of text with fewer structural restrictions (docstrings or comments), the line length should be limited to 72 characters.\n",
    "\n",
    "Limiting the required editor window width makes it possible to have several files open side by side, and works well when using code review tools that present the two versions in adjacent columns.\n",
    "\n",
    "The default wrapping in most tools disrupts the visual structure of the code, making it more difficult to understand. The limits are chosen to avoid wrapping in editors with the window width set to 80, even if the tool places a marker glyph in the final column when wrapping lines. Some web based tools may not offer dynamic line wrapping at all.\n",
    "\n",
    "Some teams strongly prefer a longer line length. For code maintained exclusively or primarily by a team that can reach agreement on this issue, it is okay to increase the line length limit up to 99 characters, provided that comments and docstrings are still wrapped at 72 characters.\n",
    "\n",
    "The Python standard library is conservative and requires limiting lines to 79 characters (and docstrings/comments to 72).\n",
    "\n",
    "The preferred way of wrapping long lines is by using Python’s implied line continuation inside parentheses, brackets and braces. Long lines can be broken over multiple lines by wrapping expressions in parentheses. These should be used in preference to using a backslash for line continuation.\n",
    "\n",
    "Backslashes may still be appropriate at times. For example, long, multiple `with`-statements could not use implicit continuation before Python 3.10, so backslashes were acceptable for that case:\n",
    "\n",
    "> 将所有的行限制在最多79个字符。\n",
    ">\n",
    "> 对于结构限制较少的流动的长文本块（文档字符串或注释），行长应限制为72个字符。\n",
    ">\n",
    "> 限制所需的编辑器窗口宽度使得并排打开几个文件成为可能，并且在使用将两个版本呈现在相邻列的代码审查工具时效果很好。\n",
    ">\n",
    "> 大多数工具中的默认包裹破坏了代码的视觉结构，使其更加难以理解。选择这些限制是为了避免在窗口宽度设置为80的编辑器中进行包装，即使工具在包装行时在最后一列放置一个标记字形。一些基于网络的工具可能根本就不提供动态换行。\n",
    ">\n",
    "> 有些团队强烈希望行的长度长一些。对于完全或主要由一个团队维护的代码，如果能在这个问题上达成一致，可以将行长限制增加到99个字符，但注释和文档字符串仍以72个字符包装。\n",
    ">\n",
    "> Python 标准库是保守的，它要求将行长度限制在 79 个字符 (而 docstrings/comments 限制在 72 个字符)。\n",
    ">\n",
    "> 包裹长行的首选方法是在圆括号、方括号和大括号内使用 Python 的隐含续行功能。长行可以通过将表达式包裹在圆括号中而分成多行。应该优先使用这些圆括号，而不是使用反斜杠来延续行。\n",
    ">\n",
    "> 有时反斜杠仍然是合适的。例如，在Python 3.10之前，长而多的`with`语句不能使用隐式续行，所以反斜杠在这种情况下是可以接受的："
   ]
  },
  {
   "cell_type": "markdown",
   "id": "b11455d7-62d8-426b-a9da-63d6838e9b1e",
   "metadata": {},
   "source": [
    "```python\n",
    "with open('/path/to/some/file/you/want/to/read') as file_1, \\\n",
    "     open('/path/to/some/file/being/written', 'w') as file_2:\n",
    "    file_2.write(file_1.read())\n",
    "```"
   ]
  },
  {
   "cell_type": "markdown",
   "id": "369ab602-e52b-42e7-a942-a153c159edc8",
   "metadata": {},
   "source": [
    "(See the previous discussion on [multiline if-statements](https://peps.python.org/pep-0008/#multiline-if-statements) for further thoughts on the indentation of such multiline `with`-statements.)\n",
    "\n",
    "Another such case is with `assert` statements.\n",
    "\n",
    "Make sure to indent the continued line appropriately.\n",
    "\n",
    "> (参见前面关于[多行if语句](https://peps.python.org/pep-0008/#multiline-if-statements)的讨论，以进一步了解这种多行`with`语句的缩进。)\n",
    ">\n",
    "> 另一种情况是 `assert` 语句。\n",
    ">\n",
    "> 请确保适当地缩进续行。"
   ]
  },
  {
   "cell_type": "markdown",
   "id": "1cb7783b-7902-44cd-b874-6fb686c9407e",
   "metadata": {},
   "source": [
    "### Should a line break before or after a binary operation?"
   ]
  },
  {
   "cell_type": "markdown",
   "id": "fddd0ae5-2cc6-4fa0-ae72-303fdbd0d94c",
   "metadata": {},
   "source": [
    "For decades the recommended style was to break after binary operators. But this can hurt readability in two ways: the operators tend to get scattered across different columns on the screen, and each operator is moved away from its operand and onto the previous line. Here, the eye has to do extra work to tell which items are added and which are subtracted:\n",
    "\n",
    "> 几十年来，推荐的风格是在二元运算符之后断开。但这在两个方面会损害可读性：运算符往往分散在屏幕的不同列中，而且每个运算符都被从其操作数上移到了前一行。在这里，眼睛不得不做额外的工作来分辨哪些项目是加法，哪些是减法：\n",
    "\n",
    "```Python\n",
    "# Wrong:\n",
    "# operators sit far away from their operands\n",
    "income = (gross_wages +\n",
    "          taxable_interest +\n",
    "          (dividends - qualified_dividends) -\n",
    "          ira_deduction -\n",
    "          student_loan_interest)\n",
    "```"
   ]
  },
  {
   "cell_type": "markdown",
   "id": "adb844ef-f30f-488c-bf0e-3c3bd342441b",
   "metadata": {},
   "source": [
    "To solve this readability problem, mathematicians and their publishers follow the opposite convention. Donald Knuth explains the traditional rule in his *Computers and Typesetting* series: “Although formulas within a paragraph always break after binary operations and relations, displayed formulas always break before binary operations”<a href='#fn3' name='fn3b'><sup>[3]</sup></a>.\n",
    "\n",
    "Following the tradition from mathematics usually results in more readable code:\n",
    "\n",
    "```Python\n",
    "#Correct\n",
    "# easy to match operators with operands\n",
    "incom = (gross_wage\n",
    "         + taxable_interest\n",
    "         + (dividends - qulified_dividends)\n",
    "         - ira_deduction\n",
    "         - student_loan_interest)\n",
    "```\n",
    "\n",
    "In Python code, it is permissible to break before or after a binary operator, as long as the convention is consistent locally. For new code *Knuth’s style* is suggested."
   ]
  },
  {
   "cell_type": "markdown",
   "id": "07377250-b56e-4717-8fae-9b03080173f5",
   "metadata": {},
   "source": [
    "### Blank lines"
   ]
  },
  {
   "cell_type": "markdown",
   "id": "3205b4aa-1a03-4429-8d58-f83708eff335",
   "metadata": {},
   "source": [
    "Surround top-level function and class definitions with two blank lines.\n",
    "\n",
    "Method definitions inside a class are surrounded by a single blank line.\n",
    "\n",
    "Extra blank lines may be used (sparingly) to separate groups of related functions. Blank lines may be omitted between a bunch of related one-liners (e.g. a set of dummy implementations).\n",
    "\n",
    "Use blank lines in functions, sparingly, to indicate logical sections.\n",
    "\n",
    "Python accepts the control-L (i.e. ^L) form feed character as whitespace; many tools treat these characters as page separators, so you may use them to separate pages of related sections of your file. Note, some editors and web-based code viewers may not recognize control-L as a form feed and will show another glyph in its place.\n",
    "\n",
    "> 用两行空行包围顶级函数和类的定义。\n",
    ">\n",
    "> 类中的方法定义由一个空行包围。\n",
    ">\n",
    "> 额外的空行可以被用来分隔相关的函数组（少用）。在一堆相关的单行代码之间可以省略空行（例如，一组假的实现）。\n",
    ">\n",
    "> 在函数中使用空行，少用，表示逻辑部分。\n",
    ">\n",
    "> Python 接受 control-L (即 ^L) 形式的换行字符作为空白；许多工具将这些字符视为页面分隔符，所以你可以用它们来分隔文件中相关部分的页面。注意，一些编辑器和基于网络的代码查看器可能无法识别 control-L 为换页字符，而会显示另一个字形来代替它。"
   ]
  },
  {
   "cell_type": "markdown",
   "id": "ffa5599d-9180-4a79-af8d-c55d5918665d",
   "metadata": {},
   "source": [
    "### Source file encoding"
   ]
  },
  {
   "cell_type": "markdown",
   "id": "9cb89eaf-00c6-4dff-aa89-98c4e0303d76",
   "metadata": {},
   "source": [
    "Code in the core Python distribution should always use UTF-8, and should not have an encoding declaration.\n",
    "\n",
    "In the standard library, non-UTF-8 encodings should be used only for test purposes. Use non-ASCII characters sparingly, preferably only to denote places and human names. If using non-ASCII characters as data, avoid noisy Unicode characters like z̯̯͡a̧͎̺l̡͓̫g̹̲o̡̼̘ and byte order marks.\n",
    "\n",
    "All identifiers in the Python standard library MUST use ASCII-only identifiers, and SHOULD use English words wherever feasible (in many cases, abbreviations and technical terms are used which aren’t English).\n",
    "\n",
    "Open source projects with a global audience are encouraged to adopt a similar policy.\n",
    "\n",
    "> 核心Python发行版中的代码应该始终使用UTF-8，并且不应该有编码声明。\n",
    ">\n",
    "> 在标准库中，非UTF-8编码应该只用于测试目的。少用非ASCII字符，最好只用来表示地方和人名。如果使用非ASCII字符作为数据，要避免像z̡̯̯̼̘̫͡g̹̲o̡̼̘和字节顺序标记这样的噪声Unicode字符。\n",
    ">\n",
    "> Python标准库中的所有标识符都必须使用纯ASCII的标识符，并且在可行的情况下应该使用英文单词（在很多情况下，使用的缩写和技术术语都不是英文）。\n",
    ">\n",
    "> 我们鼓励有全球受众的开源项目采用类似的政策。"
   ]
  },
  {
   "cell_type": "markdown",
   "id": "9ecfa656-e978-439a-a993-0d96e1038c22",
   "metadata": {},
   "source": [
    "### Imports"
   ]
  },
  {
   "cell_type": "markdown",
   "id": "aaa6f190-0816-4544-b23a-f66e2059f6de",
   "metadata": {},
   "source": [
    "Imports should usually be on separate lines:\n",
    "```python\n",
    "import os\n",
    "import sys\n",
    "```\n",
    "\n",
    "```Python\n",
    "# Wrong:\n",
    "import sys, os\n",
    "```\n",
    "\n",
    "It’s okay to say this though:\n",
    "```Python\n",
    "# Correct:\n",
    "from subprocess import Popen, PIPE\n",
    "```"
   ]
  },
  {
   "cell_type": "markdown",
   "id": "9f2cf5b2-af46-494d-96f1-791423478ab5",
   "metadata": {},
   "source": [
    "- Imports are always put at the top of the file, just after any module comments and docstrings, and before module globals and constants.\n",
    "\n",
    "  Imports should be grouped in the following order:\n",
    "\n",
    "  1. Standard library imports.\n",
    "  2. Related third party imports.\n",
    "  3. Local application/library specific imports.\n",
    "\n",
    "  You should put a blank line between each group of imports.\n",
    "\n",
    "- Absolute imports are recommended, as they are usually more readable and tend to be better behaved (or at least give better error messages) if the import system is incorrectly configured (such as when a directory inside a package ends up on `sys.path`):\n",
    "\n",
    "```python\n",
    "import mypkg.sibling\n",
    "from mypkg import sibling\n",
    "from mypkg.sibling import example\n",
    "```\n",
    "\n",
    "However, explicit relative imports are an acceptable alternative to absolute imports, especially when dealing with complex package layouts where using absolute imports would be unnecessarily verbose:\n",
    "\n",
    "```python\n",
    "from . import sibling\n",
    "from .sibling import example\n",
    "```\n",
    "\n",
    "Standard library code should avoid complex package layouts and always use absolute imports.\n",
    "\n",
    "- When importing a class from a class-containing module, it’s usually okay to spell this:\n",
    "\n",
    "  ```python\n",
    "  from myclass import MyClass\n",
    "  from foo.bar.yourclass import YourClass\n",
    "  ```\n",
    "\n",
    "  If this spelling causes local name clashes, then spell them explicitly:\n",
    "\n",
    "  ```python\n",
    "  import myclass\n",
    "  import foo.bar.yourclass\n",
    "  ```\n",
    "\n",
    "  and use “myclass.MyClass” and “foo.bar.yourclass.YourClass”.\n",
    "\n",
    "- Wildcard imports (`from <module> import *`) should be avoided, as they make it unclear which names are present in the namespace, confusing both readers and many automated tools. There is one defensible use case for a wildcard import, which is to republish an internal interface as part of a public API (for example, overwriting a pure Python implementation of an interface with the definitions from an optional accelerator module and exactly which definitions will be overwritten isn’t known in advance).\n",
    "\n",
    "  When republishing names this way, the guidelines below regarding public and internal interfaces still apply."
   ]
  },
  {
   "cell_type": "markdown",
   "id": "c3fe82d4-b221-498c-9071-c65dab62f270",
   "metadata": {},
   "source": [
    "### Module level Dunder names"
   ]
  },
  {
   "cell_type": "markdown",
   "id": "61a19baa-0ed9-47af-8510-3c1bd27427fe",
   "metadata": {},
   "source": [
    "Module level “dunders” (i.e. names with two leading and two trailing underscores) such as `__all__`, `__author__`, `__version__`, etc. should be placed after the module docstring but before any import statements *except* `from __future__` imports. Python mandates that future-imports must appear in the module before any other code except docstrings:\n",
    "\n",
    "> 模块级的 \"unders\"(即带有两个前导和两个尾部下划线的名字)，如 `__all__`, `__author__`, `__version__`，等等，应该放在模块文档字符串之后，但在任何导入语句之前，*除了* `from __future__`导入。Python 规定future-imports必须在模块中出现在任何其他代码之前，除了文档字符串：\n",
    "\n",
    "```python\n",
    "\"\"\"This is the example module\n",
    "\n",
    "This module does stuff.\n",
    "\"\"\"\n",
    "\n",
    "from __future__ import barry_as_FLUFL\n",
    "\n",
    "__all__ = ['a', 'b', 'c']\n",
    "__version__ = '0.1'\n",
    "__author__ = 'Cardinal Biggles'\n",
    "\n",
    "import os\n",
    "import sys\n",
    "```"
   ]
  },
  {
   "cell_type": "markdown",
   "id": "3ba963ab-d6db-40fd-9e31-ea408003bf02",
   "metadata": {},
   "source": [
    "## String quotes"
   ]
  },
  {
   "cell_type": "markdown",
   "id": "2896bbaa-d486-45a5-8ae8-980534f8c9f9",
   "metadata": {},
   "source": [
    "In Python, single-quoted strings and double-quoted strings are the same. This PEP does not make a recommendation for this. Pick a rule and stick to it. When a string contains single or double quote characters, however, use the other one to avoid backslashes in the string. It improves readability.\n",
    "\n",
    "For triple-quoted strings, always use double quote characters to be consistent with the docstring convention in [PEP 257](https://peps.python.org/pep-0257).\n",
    "\n",
    "> 在 Python 中，单引号字符串和双引号字符串是一样的。本 PEP 并没有对此提出建议。选择一个规则并坚持下去。然而，当一个字符串包含单引号或双引号字符时，使用另一个，以避免字符串中的反斜线。它可以提高可读性。\n",
    ">\n",
    "> 对于三引号的字符串，总是使用双引号字符，以便与[PEP 257](https://peps.python.org/pep-0257)中的docstring约定一致。"
   ]
  },
  {
   "cell_type": "markdown",
   "id": "10fe0c4a-bcf3-495e-b767-e3519bca4fe2",
   "metadata": {},
   "source": [
    "I prefer double-quoted string"
   ]
  },
  {
   "cell_type": "markdown",
   "id": "702e9211-1a7b-4543-bc7d-6b9cfe160d5c",
   "metadata": {},
   "source": [
    "## Whitespace in expressions and statements"
   ]
  },
  {
   "cell_type": "markdown",
   "id": "66fc2483-a23d-480f-bad8-0417d8b57abc",
   "metadata": {},
   "source": [
    "### Pet peeves"
   ]
  },
  {
   "cell_type": "markdown",
   "id": "e72b6ae9-03a4-40cc-93a2-af9e2812b594",
   "metadata": {},
   "source": [
    "Avoid extraneous whitespace in the following situations:\n",
    "\n",
    "- Immediately inside parentheses, brackets or braces:\n",
    "\n",
    "  ```python\n",
    "  # Correct:\n",
    "  spam(ham[1], {eggs: 2})\n",
    "  ```\n",
    "\n",
    "  ```python\n",
    "  # Wrong:\n",
    "  spam( ham[ 1 ], { eggs: 2 } )\n",
    "  ```\n",
    "\n",
    "- Between a trailing comma and a following close parenthesis:\n",
    "\n",
    "  ```python\n",
    "  # Correct:\n",
    "  foo = (0,)\n",
    "  ```\n",
    "\n",
    "  ```python\n",
    "  # Wrong:\n",
    "  bar = (0, )\n",
    "  ```\n",
    "\n",
    "- Immediately before a comma, semicolon, or colon:\n",
    "\n",
    "  ```python\n",
    "  # Correct:\n",
    "  if x == 4: print(x, y); x, y = y, x\n",
    "  ```\n",
    "\n",
    "  ```python\n",
    "  # Wrong:\n",
    "  if x == 4 : print(x , y) ; x , y = y , x\n",
    "  ```\n",
    "\n",
    "- However, in a slice the colon acts like a binary operator, and should have equal amounts on either side (treating it as the operator with the lowest priority). In an extended slice, both colons must have the same amount of spacing applied. Exception: when a slice parameter is omitted, the space is omitted:\n",
    "\n",
    "  ```python\n",
    "  # Correct:\n",
    "  ham[1:9], ham[1:9:3], ham[:9:3], ham[1::3], ham[1:9:]\n",
    "  ham[lower:upper], ham[lower:upper:], ham[lower::step]\n",
    "  ham[lower+offset : upper+offset]\n",
    "  ham[: upper_fn(x) : step_fn(x)], ham[:: step_fn(x)]\n",
    "  ham[lower + offset : upper + offset]\n",
    "  ```\n",
    "\n",
    "  ```python\n",
    "  # Wrong:\n",
    "  ham[lower + offset:upper + offset]\n",
    "  ham[1: 9], ham[1 :9], ham[1:9 :3]\n",
    "  ham[lower : : upper]\n",
    "  ham[ : upper]\n",
    "  ```\n",
    "\n",
    "- Immediately before the open parenthesis that starts the argument list of a function call:\n",
    "\n",
    "  ```python\n",
    "  # Correct:\n",
    "  spam(1)\n",
    "  ```\n",
    "\n",
    "  ```python\n",
    "  # Wrong:\n",
    "  spam (1)\n",
    "  ```\n",
    "\n",
    "- Immediately before the open parenthesis that starts an indexing or slicing:\n",
    "\n",
    "  ```python\n",
    "  # Correct:\n",
    "  dct['key'] = lst[index]\n",
    "  ```\n",
    "\n",
    "  ```python\n",
    "  # Wrong:\n",
    "  dct ['key'] = lst [index]\n",
    "  ```\n",
    "\n",
    "- More than one space around an assignment (or other) operator to align it with another:\n",
    "\n",
    "  ```\n",
    "  # Correct:\n",
    "  x = 1\n",
    "  y = 2\n",
    "  long_variable = 3\n",
    "  ```\n",
    "\n",
    "  ```python\n",
    "  # Wrong:\n",
    "  x             = 1\n",
    "  y             = 2\n",
    "  long_variable = 3\n",
    "  ```"
   ]
  },
  {
   "cell_type": "markdown",
   "id": "57bb2021-9bf3-495c-acbb-6e06940adce6",
   "metadata": {},
   "source": [
    "### Other recommendations"
   ]
  },
  {
   "cell_type": "markdown",
   "id": "8749cc92-9212-45ae-a2a9-621fe368f0c8",
   "metadata": {},
   "source": [
    "- Avoid trailing whitespace anywhere. Because it’s usually invisible, it can be confusing: e.g. a backslash followed by a space and a newline does not count as a line continuation marker. Some editors don’t preserve it and many projects (like CPython itself) have pre-commit hooks that reject it.\n",
    "\n",
    "- Always surround these binary operators with a single space on either side: assignment (`=`), augmented assignment (`+=`, `-=` etc.), comparisons (`==`, `<`, `>`, `!=`, `<>`, `<=`, `>=`, `in`, `not in`, `is`, `is not`), Booleans (`and`, `or`, `not`).\n",
    "\n",
    "- If operators with different priorities are used, consider adding whitespace around the operators with the lowest priority(ies). Use your own judgment; however, never use more than one space, and always have the same amount of whitespace on both sides of a binary operator:\n",
    "\n",
    "  ```python\n",
    "  # Correct:\n",
    "  i = i + 1\n",
    "  submitted += 1\n",
    "  x = x*2 - 1\n",
    "  hypot2 = x*x + y*y\n",
    "  c = (a+b) * (a-b)\n",
    "  ```\n",
    "\n",
    "  ```Python\n",
    "  # Wrong:\n",
    "  i=i+1\n",
    "  submitted +=1\n",
    "  x = x * 2 - 1\n",
    "  hypot2 = x * x + y * y\n",
    "  c = (a + b) * (a - b)\n",
    "  ```\n",
    "\n",
    "- Function annotations should use the normal rules for colons and always have spaces around the `->` arrow if present. (See [Function Annotations](https://peps.python.org/pep-0008/#function-annotations) below for more about function annotations.):\n",
    "\n",
    "  ```python\n",
    "  # Correct:\n",
    "  def munge(input: AnyStr): ...\n",
    "  def munge() -> PosInt: ...\n",
    "  ```\n",
    "\n",
    "  ```python\n",
    "  # Wrong:\n",
    "  def munge(input:AnyStr): ...\n",
    "  def munge()->PosInt: ...\n",
    "  ```\n",
    "\n",
    "- Don’t use spaces around the `=` sign when used to indicate a keyword argument, or when used to indicate a default value for an *unannotated* function parameter:\n",
    "\n",
    "  ```python\n",
    "  # Correct:\n",
    "  def complex(real, imag=0.0):\n",
    "      return magic(r=real, i=imag)\n",
    "  ```\n",
    "\n",
    "  ```python\n",
    "  # Wrong:\n",
    "  def complex(real, imag = 0.0):\n",
    "      return magic(r = real, i = imag)\n",
    "  ```\n",
    "\n",
    "  When combining an argument annotation with a default value, however, do use spaces around the `=` sign:\n",
    "\n",
    "  ```python\n",
    "  # Correct:\n",
    "  def munge(sep: AnyStr = None): ...\n",
    "  def munge(input: AnyStr, sep: AnyStr = None, limit=1000): ...\n",
    "  ```\n",
    "\n",
    "  ```python\n",
    "  # Wrong:\n",
    "  def munge(input: AnyStr=None): ...\n",
    "  def munge(input: AnyStr, limit = 1000): ...\n",
    "  ```\n",
    "\n",
    "- Compound statements (multiple statements on the same line) are generally discouraged:\n",
    "\n",
    "  ```python\n",
    "  # Correct:\n",
    "  if foo == 'blah':\n",
    "      do_blah_thing()\n",
    "  do_one()\n",
    "  do_two()\n",
    "  do_three()\n",
    "  ```\n",
    "\n",
    "  Rather not:\n",
    "\n",
    "  ```python\n",
    "  # Wrong:\n",
    "  if foo == 'blah': do_blah_thing()\n",
    "  do_one(); do_two(); do_three()\n",
    "  ```\n",
    "\n",
    "- While sometimes it’s okay to put an if/for/while with a small body on the same line, never do this for multi-clause statements. Also avoid folding such long lines!\n",
    "\n",
    "  Rather not:\n",
    "\n",
    "  ```python\n",
    "  # Wrong:\n",
    "  if foo == 'blah': do_blah_thing()\n",
    "  for x in lst: total += x\n",
    "  while t < 10: t = delay()\n",
    "  ```\n",
    "\n",
    "  Definitely not:\n",
    "\n",
    "  ```Python\n",
    "  # Wrong:\n",
    "  if foo == 'blah': do_blah_thing()\n",
    "  else: do_non_blah_thing()\n",
    "  \n",
    "  try: something()\n",
    "  finally: cleanup()\n",
    "  \n",
    "  do_one(); do_two(); do_three(long, argument,\n",
    "                               list, like, this)\n",
    "  \n",
    "  if foo == 'blah': one(); two(); three()\n",
    "  ```\n"
   ]
  },
  {
   "cell_type": "markdown",
   "id": "750477f0-3681-4795-9fdf-d3e1f8f0809e",
   "metadata": {},
   "source": [
    "## When to use trailing commas"
   ]
  },
  {
   "cell_type": "markdown",
   "id": "68e2aca5-eabe-4db3-9f27-6b9bc1959715",
   "metadata": {},
   "source": [
    "Trailing commas are usually optional, except they are mandatory when making a tuple of one element. For clarity, it is recommended to surround the latter in (technically redundant) parentheses:\n",
    "\n",
    "```python\n",
    "# Correct:\n",
    "FILES = ('setup.cfg',)\n",
    "# Wrong:\n",
    "FILES = 'setup.cfg',\n",
    "```\n",
    "\n",
    "When trailing commas are redundant, they are often helpful when a version control system is used, when a list of values, arguments or imported items is expected to be extended over time. The pattern is to put each value (etc.) on a line by itself, always adding a trailing comma, and add the close parenthesis/bracket/brace on the next line. However it does not make sense to have a trailing comma on the same line as the closing delimiter (except in the above case of singleton tuples):\n",
    "\n",
    "```python\n",
    "# Correct:\n",
    "FILES = [\n",
    "    'setup.cfg',\n",
    "    'tox.ini',\n",
    "    ]\n",
    "initialize(FILES,\n",
    "           error=True,\n",
    "           )\n",
    "# Wrong:\n",
    "FILES = ['setup.cfg', 'tox.ini',]\n",
    "initialize(FILES, error=True,)\n",
    "```\n"
   ]
  },
  {
   "cell_type": "markdown",
   "id": "a0924dbe-aca0-45b3-a30a-a5e987cecacd",
   "metadata": {},
   "source": [
    "## Comments"
   ]
  },
  {
   "cell_type": "markdown",
   "id": "cd7604cc-5223-4f4b-a4b4-c44123987b4d",
   "metadata": {},
   "source": [
    "Comments that contradict the code are worse than no comments. Always make a priority of keeping the comments up-to-date when the code changes!\n",
    "\n",
    "Comments should be complete sentences. The first word should be capitalized, unless it is an identifier that begins with a lower case letter (never alter the case of identifiers!).\n",
    "\n",
    "Block comments generally consist of one or more paragraphs built out of complete sentences, with each sentence ending in a period.\n",
    "\n",
    "You should use two spaces after a sentence-ending period in multi- sentence comments, except after the final sentence.\n",
    "\n",
    "Ensure that your comments are clear and easily understandable to other speakers of the language you are writing in.\n",
    "\n",
    "Python coders from non-English speaking countries: please write your comments in English, unless you are 120% sure that the code will never be read by people who don’t speak your language.\n",
    "\n",
    "> 与代码相抵触的注释比没有注释更糟糕。当代码发生变化时，一定要优先考虑保持注释的更新。\n",
    ">\n",
    "> 注释应该是完整的句子。第一个词应该大写，除非它是一个以小写字母开头的标识符（永远不要改变标识符的大小写！）。\n",
    ">\n",
    "> 块状注释通常由一个或多个完整的句子组成，每个句子以句号结束。\n",
    ">\n",
    "> 在多句注释中，你应该在句子结束的句号后使用两个空格，但最后一句话后除外。\n",
    ">\n",
    "> 确保你的注释是清晰的，对于其他使用你所写语言的人来说容易理解。\n",
    ">\n",
    "> 来自非英语国家的Python编码员：请用英语写注释，除非你有120%的把握，代码不会被不讲你的语言的人阅读。"
   ]
  },
  {
   "cell_type": "markdown",
   "id": "11702fa8-3c7f-41fb-ac1e-056e0b51f7bb",
   "metadata": {},
   "source": [
    "### Block comments"
   ]
  },
  {
   "cell_type": "markdown",
   "id": "c0a852e7-b4a7-4961-b4fc-abe9c02ab912",
   "metadata": {},
   "source": [
    "Block comments generally apply to some (or all) code that follows them, and are indented to the same level as that code. Each line of a block comment starts with a `#` and a single space (unless it is indented text inside the comment).\n",
    "\n",
    "Paragraphs inside a block comment are separated by a line containing a single `#`.\n",
    "\n",
    "> 块状注释通常适用于它们后面的一些（或全部）代码，并缩进到与该代码相同的水平。区块注释的每一行都以`#`和一个空格开始（除非它是注释内的缩进文本）。\n",
    ">\n",
    "> 区块注释内的段落由包含一个`#`的行来分隔。"
   ]
  },
  {
   "cell_type": "markdown",
   "id": "0d4f06d1-9844-40b3-bd89-45389203867d",
   "metadata": {},
   "source": [
    "### inline comments"
   ]
  },
  {
   "cell_type": "markdown",
   "id": "fb35b089-62e9-4f7b-9981-b9066a8fb5bc",
   "metadata": {},
   "source": [
    "Use inline comments sparingly.\n",
    "\n",
    "An inline comment is a comment on the same line as a statement. Inline comments should be separated by at least two spaces from the statement. They should start with a # and a single space.\n",
    "\n",
    "Inline comments are unnecessary and in fact distracting if they state the obvious. Don’t do this:\n",
    "\n",
    "```python\n",
    "x = x + 1                 # Increment x\n",
    "```\n",
    "\n",
    "But sometimes, this is useful:\n",
    "\n",
    "```python\n",
    "x = x + 1                 # Compensate for border\n",
    "```\n"
   ]
  },
  {
   "cell_type": "markdown",
   "id": "5460c401-f423-48ee-ab42-93c05ffd26c0",
   "metadata": {},
   "source": [
    "### Documentation strings"
   ]
  },
  {
   "cell_type": "markdown",
   "id": "75b61ece-57d8-400f-be6e-b1e1a609e406",
   "metadata": {},
   "source": [
    "Conventions for writing good documentation strings (a.k.a. “docstrings”) are immortalized in [PEP 257](https://peps.python.org/pep-0257).\n",
    "\n",
    "- Write docstrings for all public modules, functions, classes, and methods. Docstrings are not necessary for non-public methods, but you should have a comment that describes what the method does. This comment should appear after the `def` line.\n",
    "\n",
    "- PEP 257 describes good docstring conventions. Note that most importantly, the `\"\"\"` that ends a multiline docstring should be on a line by itself:\n",
    "\n",
    "  ```python\n",
    "  \"\"\"Return a foobang\n",
    "  \n",
    "  Optional plotz says to frobnicate the bizbaz first.\n",
    "  \"\"\"\n",
    "  ```\n",
    "\n",
    "- For one liner docstrings, please keep the closing `\"\"\"` on the same line:\n",
    "\n",
    "  ```python\n",
    "  \"\"\"Return an ex-parrot.\"\"\"\n",
    "  ```"
   ]
  },
  {
   "cell_type": "markdown",
   "id": "d54d6e1a-4677-440b-8c9b-7e9a70d75931",
   "metadata": {},
   "source": [
    "## Naming conventions"
   ]
  },
  {
   "cell_type": "markdown",
   "id": "16525cd6-16c2-4d3b-848f-68d2114681ed",
   "metadata": {},
   "source": [
    "The naming conventions of Python’s library are a bit of a mess, so we’ll never get this completely consistent – nevertheless, here are the currently recommended naming standards. New modules and packages (including third party frameworks) should be written to these standards, but where an existing library has a different style, internal consistency is preferred.\n",
    "\n",
    "> Python 库的命名规则有点乱，所以我们永远不会让它完全一致--尽管如此，这里是目前推荐的命名标准。新的模块和包 (包括第三方框架) 应该按照这些标准编写，但如果现有的库有不同的风格，内部的一致性是首选。"
   ]
  },
  {
   "cell_type": "markdown",
   "id": "b43289ac-0c54-44c1-8783-7fee114c2b2e",
   "metadata": {},
   "source": [
    "### Overriding principle"
   ]
  },
  {
   "cell_type": "markdown",
   "id": "44bd692b-235c-4d95-919e-4fec0a09ac86",
   "metadata": {},
   "source": [
    "Names that are visible to the user as public parts of the API should follow conventions that reflect usage rather than implementation.\n",
    "\n",
    "> 作为API的公共部分，对用户可见的名称应该遵循反映使用情况而不是实现情况的惯例。"
   ]
  },
  {
   "cell_type": "markdown",
   "id": "721b6eba-a101-4333-98c6-ce9592a03a03",
   "metadata": {},
   "source": [
    "### Descriptive: naming style"
   ]
  },
  {
   "cell_type": "markdown",
   "id": "f239eacc-acbf-477c-9247-0e47cc918797",
   "metadata": {},
   "source": [
    "There are a lot of different naming styles. It helps to be able to recognize what naming style is being used, independently from what they are used for.\n",
    "\n",
    "The following naming styles are commonly distinguished:\n",
    "\n",
    "- `b` (single lowercase letter)\n",
    "\n",
    "- `B` (single uppercase letter)\n",
    "\n",
    "- `lowercase`\n",
    "\n",
    "- `lower_case_with_underscores`\n",
    "\n",
    "- `UPPERCASE`\n",
    "\n",
    "- `UPPER_CASE_WITH_UNDERSCORES`\n",
    "\n",
    "- `CapitalizedWords` (or CapWords, or CamelCase – so named because of the bumpy look of its letters <a href='#fn4' name='fn4b'><sup>[4]</sup></a>). This is also sometimes known as StudlyCaps.\n",
    "\n",
    "  Note: When using acronyms in CapWords, capitalize all the letters of the acronym. Thus HTTPServerError is better than HttpServerError.\n",
    "\n",
    "- `mixedCase` (differs from CapitalizedWords by initial lowercase character!)\n",
    "\n",
    "- `Capitalized_Words_With_Underscores` (ugly!)\n",
    "\n",
    "There’s also the style of using a short unique prefix to group related names together. This is not used much in Python, but it is mentioned for completeness. For example, the `os.stat()` function returns a tuple whose items traditionally have names like `st_mode`, `st_size`, `st_mtime` and so on. (This is done to emphasize the correspondence with the fields of the POSIX system call struct, which helps programmers familiar with that.)\n",
    "\n",
    "The X11 library uses a leading X for all its public functions. In Python, this style is generally deemed unnecessary because attribute and method names are prefixed with an object, and function names are prefixed with a module name.\n",
    "\n",
    "In addition, the following special forms using leading or trailing underscores are recognized (these can generally be combined with any case convention):\n",
    "\n",
    "- `_single_leading_underscore`: weak “internal use” indicator. E.g. `from M import *` does not import objects whose names start with an underscore.\n",
    "\n",
    "- `single_trailing_underscore_`: used by convention to avoid conflicts with Python keyword, e.g.\n",
    "\n",
    "  ```python\n",
    "  tkinter.Toplevel(master, class_='ClassName')\n",
    "  ```\n",
    "\n",
    "- `__double_leading_underscore`: when naming a class attribute, invokes name mangling (inside class FooBar, `__boo` becomes `_FooBar__boo`; see below).\n",
    "\n",
    "- `__double_leading_and_trailing_underscore__`: “magic” objects or attributes that live in user-controlled namespaces. E.g. `__init__`, `__import__` or `__file__`. Never invent such names; only use them as documented."
   ]
  },
  {
   "cell_type": "markdown",
   "id": "482d368a-9a17-4147-ab1c-4c66bb8caca3",
   "metadata": {},
   "source": [
    "### Prescriptive: naming conventions"
   ]
  },
  {
   "cell_type": "markdown",
   "id": "e6c43a12-7306-45f8-b371-a883d62ff3bf",
   "metadata": {},
   "source": [
    "#### [Names to Avoid](https://peps.python.org/pep-0008/#names-to-avoid)"
   ]
  },
  {
   "cell_type": "markdown",
   "id": "ecfd20c7-a843-4096-b95c-1e5de0bbbd94",
   "metadata": {},
   "source": [
    "Never use the characters ‘l’ (lowercase letter el), ‘O’ (uppercase letter oh), or ‘I’ (uppercase letter eye) as single character variable names.\n",
    "\n",
    "In some fonts, these characters are indistinguishable from the numerals one and zero. When tempted to use ‘l’, use ‘L’ instead.\n",
    "\n",
    "> 不要使用字符'l'（小写字母el）、'O'（大写字母oh）或'I'（大写字母eye）作为单字符变量名。\n",
    ">\n",
    "> 在某些字体中，这些字符与数字1和0无法区分。当想使用'l'时，请使用'L'代替。"
   ]
  },
  {
   "cell_type": "markdown",
   "id": "598f656b-f2d2-416d-8d0a-0e1d190b489a",
   "metadata": {},
   "source": [
    "#### ASCII Compatibility"
   ]
  },
  {
   "cell_type": "markdown",
   "id": "42168bfc-5281-4afe-b344-1f3a4c7e71bb",
   "metadata": {},
   "source": [
    "Identifiers used in the standard library must be ASCII compatible as described in the [policy section](https://peps.python.org/pep-3131#policy-specification) of [PEP 3131](https://peps.python.org/pep-3131).\n",
    "\n",
    "> 如[PEP 3131](https://peps.python.org/pep-3131)的[政策部分](https://peps.python.org/pep-3131#policy-specification)所述，标准库中使用的标识符必须是ASCII兼容。"
   ]
  },
  {
   "cell_type": "markdown",
   "id": "2174c79f-832f-4aff-9391-a51200384c0b",
   "metadata": {},
   "source": [
    "#### [Package and Module Names](https://peps.python.org/pep-0008/#package-and-module-names)"
   ]
  },
  {
   "cell_type": "markdown",
   "id": "6ed6680f-daaf-4a6b-94e4-06b06cf3d74c",
   "metadata": {},
   "source": [
    "Modules should have short, all-lowercase names. Underscores can be used in the module name if it improves readability. Python packages should also have short, all-lowercase names, although the use of underscores is discouraged.\n",
    "\n",
    "When an extension module written in C or C++ has an accompanying Python module that provides a higher level (e.g. more object oriented) interface, the C/C++ module has a leading underscore (e.g. `_socket`).\n",
    "\n",
    "> 模块应该有简短的、全小写的名字。如果能提高可读性，可以在模块名称中使用下划线。Python 包也应该有短的、全小写的名字，尽管不鼓励使用下划线。\n",
    ">\n",
    "> 当一个用C或C++编写的扩展模块有一个附带的Python模块，它提供了一个更高级别的(例如，更多的面向对象的)接口，C/C++模块有一个前导下划线(例如，`_socket`)。"
   ]
  },
  {
   "cell_type": "markdown",
   "id": "e275e706-b8c5-4bff-bdfb-75510edf2b88",
   "metadata": {},
   "source": [
    "#### [Class Names](https://peps.python.org/pep-0008/#class-names)"
   ]
  },
  {
   "cell_type": "markdown",
   "id": "1945215d-305b-4d69-9aa5-f0690fb352c8",
   "metadata": {},
   "source": [
    "Class names should normally use the CapWords convention.\n",
    "\n",
    "The naming convention for functions may be used instead in cases where the interface is documented and used primarily as a callable.\n",
    "\n",
    "Note that there is a separate convention for builtin names: most builtin names are single words (or two words run together), with the CapWords convention used only for exception names and builtin constants.\n",
    "\n",
    "> 类的名字通常应该使用CapWords惯例。\n",
    ">\n",
    "> 在接口被记录下来并主要作为可调用的情况下，可以使用函数的命名惯例。\n",
    ">\n",
    "> 请注意，对于内建程序的名称有一个单独的约定：大多数内建程序的名称是单字（或两个字并列），CapWords约定只用于异常名称和内建程序常量。"
   ]
  },
  {
   "cell_type": "markdown",
   "id": "1dfd7f31-8999-4e7e-a661-77b36601d50f",
   "metadata": {},
   "source": [
    "example:\n",
    "\n",
    "```python\n",
    "class MyInfo():\n",
    "    pass\n",
    "```"
   ]
  },
  {
   "cell_type": "markdown",
   "id": "2e3c5169-12b5-495b-a34c-5195af675ea2",
   "metadata": {},
   "source": [
    "#### [Type Variable Names](https://peps.python.org/pep-0008/#type-variable-names)"
   ]
  },
  {
   "cell_type": "markdown",
   "id": "1860523c-3c21-48c6-973b-36e82ef0eed2",
   "metadata": {},
   "source": [
    "Names of type variables introduced in [PEP 484](https://peps.python.org/pep-0484) should normally use CapWords preferring short names: `T`, `AnyStr`, `Num`. It is recommended to add suffixes `_co` or `_contra` to the variables used to declare covariant or contravariant behavior correspondingly:\n",
    "\n",
    "```python\n",
    "from typing import TypeVar\n",
    "\n",
    "VT_co = TypeVar('VT_co', covariant=True)\n",
    "KT_contra = TypeVar('KT_contra', contravariant=True)\n",
    "```"
   ]
  },
  {
   "cell_type": "markdown",
   "id": "a6f6a03b-e574-45fc-b169-faa5ec15d242",
   "metadata": {},
   "source": [
    "#### [Exception Names](https://peps.python.org/pep-0008/#exception-names)"
   ]
  },
  {
   "cell_type": "markdown",
   "id": "0d8cab1e-55f4-4008-a7ac-2e6590363db8",
   "metadata": {},
   "source": [
    "Because exceptions should be classes, the class naming convention applies here. However, you should use the suffix “Error” on your exception names (if the exception actually is an error).\n",
    "\n",
    "> 因为异常应该是类，所以类的命名惯例在此适用。然而，你应该在你的异常名称上使用后缀 \"Error\"（如果这个异常实际上是一个错误）。"
   ]
  },
  {
   "cell_type": "markdown",
   "id": "b8eff235-2009-4dae-b4e4-0eced995ad18",
   "metadata": {},
   "source": [
    "#### [Global Variable Names](https://peps.python.org/pep-0008/#global-variable-names)"
   ]
  },
  {
   "cell_type": "markdown",
   "id": "6ea44b0c-a6d0-45b2-981e-97c9c61a1279",
   "metadata": {},
   "source": [
    "(Let’s hope that these variables are meant for use inside one module only.) The conventions are about the same as those for functions.\n",
    "\n",
    "Modules that are designed for use via `from M import *` should use the `__all__` mechanism to prevent exporting globals, or use the older convention of prefixing such globals with an underscore (which you might want to do to indicate these globals are “module non-public”).\n",
    "\n",
    "> (希望这些变量只在一个模块内使用。）这些约定与函数的约定差不多。\n",
    ">\n",
    "> 通过 `from M import *` 设计的模块应该使用 `__all__` 机制来防止导出globals，或者使用较早的惯例，在这些globals前加一个下划线（你可能想这样做来表示这些globals是 \"模块非公共的\"）。"
   ]
  },
  {
   "cell_type": "markdown",
   "id": "4659bd30-54ae-4d66-8715-997abf32ea45",
   "metadata": {},
   "source": [
    "#### [Function and Variable Names](https://peps.python.org/pep-0008/#function-and-variable-names)"
   ]
  },
  {
   "cell_type": "markdown",
   "id": "3a1ea3f5-3d93-4156-8c44-5daa421d2fbb",
   "metadata": {},
   "source": [
    "Function names should be lowercase, with words separated by underscores as necessary to improve readability.\n",
    "\n",
    "Variable names follow the same convention as function names.\n",
    "\n",
    "mixedCase is allowed only in contexts where that’s already the prevailing style (e.g. threading.py), to retain backwards compatibility.\n",
    "\n",
    "> 函数名称应该是小写的，必要时用下划线隔开，以提高可读性。\n",
    ">\n",
    "> 变量名遵循与函数名相同的约定。\n",
    ">\n",
    "> 混合大小写只允许在已经是主流风格的情况下使用（例如threading.py），以保持向后兼容。"
   ]
  },
  {
   "cell_type": "markdown",
   "id": "0f7b8a92-b7c6-4068-a45f-ebc6d2db73c1",
   "metadata": {},
   "source": [
    "example\n",
    "\n",
    "```python\n",
    "# Function naming\n",
    "def add_two_number(num_one, num_two):\n",
    "    return num_one + num_two\n",
    "\n",
    "# Variable naming\n",
    "add_number = add_two_number(1, 2)\n",
    "```"
   ]
  },
  {
   "cell_type": "markdown",
   "id": "6c7c67b3-7c0c-440c-8079-173c05df7823",
   "metadata": {},
   "source": [
    "#### [Function and Method Arguments](https://peps.python.org/pep-0008/#function-and-method-arguments)"
   ]
  },
  {
   "cell_type": "markdown",
   "id": "0e78b19c-f36c-4fa7-abf2-f9576df8de3c",
   "metadata": {},
   "source": [
    "Always use `self` for the first argument to instance methods.\n",
    "\n",
    "Always use `cls` for the first argument to class methods.\n",
    "\n",
    "If a function argument’s name clashes with a reserved keyword, it is generally better to append a single trailing underscore rather than use an abbreviation or spelling corruption. Thus `class_` is better than `clss`. (Perhaps better is to avoid such clashes by using a synonym.)\n",
    "\n",
    "> 总是使用`self`作为实例方法的第一个参数。\n",
    ">\n",
    "> 总是使用`cls`作为类方法的第一个参数。\n",
    ">\n",
    "> 如果一个函数参数的名字与一个保留关键字冲突，一般来说，最好在后面加上一个下划线，而不是使用缩写或拼写错误。因此`class_`比`clss`好。(也许更好的是通过使用同义词来避免这种冲突)。\n",
    "\n"
   ]
  },
  {
   "cell_type": "markdown",
   "id": "f4eb7346-154e-4217-834a-a6f64dc37532",
   "metadata": {},
   "source": [
    "#### [Method Names and Instance Variables](https://peps.python.org/pep-0008/#method-names-and-instance-variables)"
   ]
  },
  {
   "cell_type": "markdown",
   "id": "b2efd704-dbdc-4b80-87fd-750b4d59fdd8",
   "metadata": {},
   "source": [
    "Use the function naming rules: lowercase with words separated by underscores as necessary to improve readability.\n",
    "\n",
    "Use one leading underscore only for non-public methods and instance variables.\n",
    "\n",
    "To avoid name clashes with subclasses, use two leading underscores to invoke Python’s name mangling rules.\n",
    "\n",
    "Python mangles these names with the class name: if class Foo has an attribute named `__a`, it cannot be accessed by `Foo.__a`. (An insistent user could still gain access by calling `Foo._Foo__a`.) Generally, double leading underscores should be used only to avoid name conflicts with attributes in classes designed to be subclassed.\n",
    "\n",
    "Note: there is some controversy about the use of __names (see below).\n",
    "\n",
    "> 使用函数命名规则：小写字母，必要时用下划线分隔，以提高可读性。\n",
    ">\n",
    "> 只对非公共方法和实例变量使用一个前导下划线。\n",
    ">\n",
    "> 为了避免与子类的名称冲突，使用两个前导下划线来调用 Python 的名称混合规则。\n",
    ">\n",
    "> Python 将这些名字与类的名字混在一起：如果类 Foo 有一个名为 `__a` 的属性，它就不能被 `Foo.__a` 访问。(一个执着的用户仍然可以通过调用 `Foo._Foo__a` 获得访问权。)一般来说，双引号应该只用于避免与设计为子类的类中的属性发生名称冲突。\n",
    ">\n",
    "> 注意：关于__names的使用有一些争议（见下文）。"
   ]
  },
  {
   "cell_type": "markdown",
   "id": "a138dfeb-5b93-4851-a3b8-a60305826bdc",
   "metadata": {},
   "source": [
    "example\n",
    "\n",
    "```python\n",
    "class MyInfo():\n",
    "    \n",
    "    _name = \"xiaowen\"\n",
    "    \n",
    "    def _walk_to_work(way):\n",
    "        return \"on foot\"\n",
    "```"
   ]
  },
  {
   "cell_type": "markdown",
   "id": "144e79cb-2ca6-4e88-8e79-3e7a5c458390",
   "metadata": {},
   "source": [
    "#### [Constants](https://peps.python.org/pep-0008/#constants)"
   ]
  },
  {
   "cell_type": "markdown",
   "id": "1d0fea62-4e1d-404f-a8df-97dab75d8e02",
   "metadata": {},
   "source": [
    "Constants are usually defined on a module level and written in all capital letters with underscores separating words. Examples include `MAX_OVERFLOW` and `TOTAL`.\n",
    "\n",
    "> 常量通常定义在模块层面，用大写字母书写，用下划线隔开单词。例子包括 `MAX_OVERFLOW` 和`TOTAL`。"
   ]
  },
  {
   "cell_type": "markdown",
   "id": "064380b4-c77e-41fd-9773-0e2668692a74",
   "metadata": {},
   "source": [
    "```Python\n",
    "TOTAL_NUM = \"all\"\n",
    "```"
   ]
  },
  {
   "cell_type": "markdown",
   "id": "07b191ed-1af3-4bcd-8610-5d8aa98d003c",
   "metadata": {},
   "source": [
    "#### [Designing for Inheritance](https://peps.python.org/pep-0008/#designing-for-inheritance)"
   ]
  },
  {
   "cell_type": "markdown",
   "id": "11286e52-8fd5-419a-bee0-4ea44c6389c9",
   "metadata": {},
   "source": [
    "Always decide whether a class’s methods and instance variables (collectively: “attributes”) should be public or non-public. If in doubt, choose non-public; it’s easier to make it public later than to make a public attribute non-public.\n",
    "\n",
    "Public attributes are those that you expect unrelated clients of your class to use, with your commitment to avoid backwards incompatible changes. Non-public attributes are those that are not intended to be used by third parties; you make no guarantees that non-public attributes won’t change or even be removed.\n",
    "\n",
    "We don’t use the term “private” here, since no attribute is really private in Python (without a generally unnecessary amount of work).\n",
    "\n",
    "Another category of attributes are those that are part of the “subclass API” (often called “protected” in other languages). Some classes are designed to be inherited from, either to extend or modify aspects of the class’s behavior. When designing such a class, take care to make explicit decisions about which attributes are public, which are part of the subclass API, and which are truly only to be used by your base class.\n",
    "\n",
    "With this in mind, here are the Pythonic guidelines:\n",
    "\n",
    "- Public attributes should have no leading underscores.\n",
    "\n",
    "- If your public attribute name collides with a reserved keyword, append a single trailing underscore to your attribute name. This is preferable to an abbreviation or corrupted spelling. (However, notwithstanding this rule, ‘cls’ is the preferred spelling for any variable or argument which is known to be a class, especially the first argument to a class method.)\n",
    "\n",
    "  Note 1: See the argument name recommendation above for class methods.\n",
    "\n",
    "- For simple public data attributes, it is best to expose just the attribute name, without complicated accessor/mutator methods. Keep in mind that Python provides an easy path to future enhancement, should you find that a simple data attribute needs to grow functional behavior. In that case, use properties to hide functional implementation behind simple data attribute access syntax.\n",
    "\n",
    "  Note 1: Try to keep the functional behavior side-effect free, although side-effects such as caching are generally fine.\n",
    "\n",
    "  Note 2: Avoid using properties for computationally expensive operations; the attribute notation makes the caller believe that access is (relatively) cheap.\n",
    "\n",
    "- If your class is intended to be subclassed, and you have attributes that you do not want subclasses to use, consider naming them with double leading underscores and no trailing underscores. This invokes Python’s name mangling algorithm, where the name of the class is mangled into the attribute name. This helps avoid attribute name collisions should subclasses inadvertently contain attributes with the same name.\n",
    "\n",
    "  Note 1: Note that only the simple class name is used in the mangled name, so if a subclass chooses both the same class name and attribute name, you can still get name collisions.\n",
    "\n",
    "  Note 2: Name mangling can make certain uses, such as debugging and `__getattr__()`, less convenient. However the name mangling algorithm is well documented and easy to perform manually.\n",
    "\n",
    "  Note 3: Not everyone likes name mangling. Try to balance the need to avoid accidental name clashes with potential use by advanced callers.\n",
    "\n",
    "> 始终决定一个类的方法(methods)和实例变量(instance variables)（统称：\"属性(attributes)\"）应该是公共的(public)还是非公共的(non-public)。如果有疑问，请选择非公共的；以后把它变成公共的比把公共属性变成非公共的要容易。\n",
    ">\n",
    "> 公共属性是那些你期望你的类的无关客户使用的属性，你的承诺是避免向后不兼容的改变。非公共属性是那些不打算被第三方使用的属性；你不保证非公共属性不会改变，甚至不会被删除。\n",
    ">\n",
    "> 我们在这里不使用 \"私有\"这个术语，因为在 Python 中没有一个属性是真正私有的 (不需要做大量的工作)。\n",
    ">\n",
    "> 另一类属性是那些属于 \"子类 API \"的属性 (在其它语言中通常称为 \"保护\")。一些类被设计成可以被继承的，用来扩展或修改类的行为的各个方面。在设计这样的类时，要注意明确决定哪些属性是公共的，哪些是子类API的一部分，哪些是真正只能由你的基类使用的。\n",
    ">\n",
    "> 考虑到这一点，下面是Pythonic指南：\n",
    ">\n",
    "> - 公共属性不应该有前导下划线。\n",
    ">\n",
    "> - 如果你的公共属性名称与一个保留关键字相冲突，请在你的属性名称**后面**加上一个下划线。这比缩写或破坏性的拼写更可取。(然而，尽管有这个规则，'cls' 是任何已知为类的变量或参数的首选拼写，特别是类方法的第一个参数。)\n",
    ">\n",
    ">   注1：参见上面关于类方法的参数名称建议。\n",
    ">\n",
    "> - 对于简单的公共数据属性，最好只公开属性名称，而不公开复杂的访问器/混合器方法。请记住，如果你发现一个简单的数据属性需要增加功能行为，Python 提供了一个方便的途径来实现未来的增强。在这种情况下，使用属性将功能实现隐藏在简单的数据属性访问语法的后面。\n",
    ">\n",
    ">   注意1：尽量保持功能行为不受副作用影响，尽管像缓存这样的副作用通常是可以的。\n",
    ">\n",
    ">   注意2：避免将属性用于计算成本高的操作；属性符号使调用者相信访问是（相对）便宜的。\n",
    ">\n",
    "> - 如果你的类打算被子类化，并且你有不想让子类使用的属性，考虑用双头下划线和无尾下划线来命名它们。这将调用 Python 的名称混合算法，类的名称将被混合成属性名称。这有助于在子类无意中包含相同名称的属性时避免属性名称的冲突。\n",
    ">\n",
    ">   注意1：注意只有简单的类名被用于混杂的名称中，所以如果一个子类选择了相同的类名和属性名，你仍然可以得到名称碰撞。\n",
    ">\n",
    ">   注意 2: 名字混杂会使某些使用变得不那么方便，例如调试和 `__getattr__()`。然而，名称混杂的算法有很好的文件记录，并且很容易手动执行。\n",
    ">\n",
    ">   注意 3: 不是每个人都喜欢名字的混杂。试着在避免意外的名字冲突与高级调用者的潜在使用之间取得平衡。"
   ]
  },
  {
   "cell_type": "markdown",
   "id": "f01d0515-e8e2-4e0d-ac26-4746815a72ed",
   "metadata": {},
   "source": [
    "### [Public and Internal Interfaces](https://peps.python.org/pep-0008/#public-and-internal-interfaces)"
   ]
  },
  {
   "cell_type": "markdown",
   "id": "b7f64560-bca6-4490-af1c-c0f1fddea9bd",
   "metadata": {},
   "source": [
    "Any backwards compatibility guarantees apply only to public interfaces. Accordingly, it is important that users be able to clearly distinguish between public and internal interfaces.\n",
    "\n",
    "Documented interfaces are considered public, unless the documentation explicitly declares them to be provisional or internal interfaces exempt from the usual backwards compatibility guarantees. All undocumented interfaces should be assumed to be internal.\n",
    "\n",
    "To better support introspection, modules should explicitly declare the names in their public API using the `__all__` attribute. Setting `__all__` to an empty list indicates that the module has no public API.\n",
    "\n",
    "Even with `__all__` set appropriately, internal interfaces (packages, modules, classes, functions, attributes or other names) should still be prefixed with a single leading underscore.\n",
    "\n",
    "An interface is also considered internal if any containing namespace (package, module or class) is considered internal.\n",
    "\n",
    "Imported names should always be considered an implementation detail. Other modules must not rely on indirect access to such imported names unless they are an explicitly documented part of the containing module’s API, such as `os.path` or a package’s `__init__` module that exposes functionality from submodules.\n",
    "\n",
    "> 任何向后兼容的保证只适用于公共接口。因此，重要的是，用户必须能够明确区分公共接口和内部接口。\n",
    ">\n",
    "> 有文档记载的接口被认为是公共的，除非文档中明确声明它们是临时的或内部的接口，不受通常的向后兼容性保证的影响。所有无文档的接口应该被认为是内部的。\n",
    ">\n",
    "> 为了更好地支持自省，模块应该使用 `__all__` 属性明确地声明它们的公共 API 中的名称。将 `__all__` 设置为一个空列表，表示该模块没有公共 API。\n",
    ">\n",
    "> 即使适当地设置了 `__all__`，内部接口（包、模块、类、函数、属性或其他名称）仍应在前面加上一个下划线。\n",
    ">\n",
    "> 如果任何包含命名空间（包、模块或类）的接口也被认为是内部的。\n",
    ">\n",
    "> 导入的名字应该总是被认为是一个实现细节。其他模块不能依赖对这些导入名称的间接访问，除非它们是包含模块的API中明确记录的一部分，例如`os.path`或包的`__init__`模块，它暴露了子模块的功能。"
   ]
  },
  {
   "cell_type": "markdown",
   "id": "a02efffa-e3ef-48f6-80ab-55b914ca2c96",
   "metadata": {},
   "source": [
    "## [Programming Recommendations](https://peps.python.org/pep-0008/#programming-recommendations)\n"
   ]
  },
  {
   "cell_type": "markdown",
   "id": "f832f62b-8de5-4858-ac55-5ee3d9fe8492",
   "metadata": {},
   "source": [
    "- Code should be written in a way that does not disadvantage other implementations of Python (PyPy, Jython, IronPython, Cython, Psyco, and such).\n",
    "\n",
    "  For example, do not rely on CPython’s efficient implementation of in-place string concatenation for statements in the form `a += b` or `a = a + b`. This optimization is fragile even in CPython (it only works for some types) and isn’t present at all in implementations that don’t use refcounting. In performance sensitive parts of the library, the `''.join()` form should be used instead. This will ensure that concatenation occurs in linear time across various implementations.\n",
    "\n",
    "- Comparisons to singletons like None should always be done with `is` or `is not`, never the equality operators.\n",
    "\n",
    "  Also, beware of writing `if x` when you really mean `if x is not None` – e.g. when testing whether a variable or argument that defaults to None was set to some other value. The other value might have a type (such as a container) that could be false in a boolean context!\n",
    "\n",
    "- Use `is not` operator rather than `not ... is`. While both expressions are functionally identical, the former is more readable and preferred:\n",
    "\n",
    "  ```python\n",
    "  # Correct:\n",
    "  if foo is not None:\n",
    "  ```\n",
    "\n",
    "  ```python\n",
    "  # Wrong:\n",
    "  if not foo is None:\n",
    "  ```\n",
    "\n",
    "> - 代码的编写方式不应不利于Python的其他实现(PyPy, Jython, IronPython, Cython, Psyco, 等等)。\n",
    ">\n",
    ">   例如，不要依赖CPython对 `a += b` 或 `a = a + b` 形式的语句进行原地字符串连接的高效实现。这种优化即使在CPython中也是脆弱的（它只对某些类型有效），而且在不使用refcounting的实现中根本不存在。在库的性能敏感部分，应该使用`''.join()`形式来代替。这将确保连接在不同的实现中以线性时间发生。\n",
    ">\n",
    "> - 对None这样的单子的比较应该总是用 `is` 或 `is not` 来完成，而不是用相等运算符。\n",
    ">\n",
    ">   另外，当你真正的意思是 `if x is not None` 时，要注意写 `if x`--例如，当测试一个默认为None的变量或参数是否被设置为其他值时。其他的值可能有一个类型（如容器），在布尔语境中可能是假的。\n",
    ">\n",
    "> - 使用 `is not` 操作符，而不是 `not ... is`。虽然这两个表达式在功能上是相同的，但前者更具可读性，是首选：\n",
    ">\n",
    ">   ```python\n",
    ">   # Correct:\n",
    ">   if foo is not None:\n",
    ">       \n",
    ">   # Wrong:\n",
    ">   if not foo is None:\n",
    ">   ```\n"
   ]
  },
  {
   "cell_type": "markdown",
   "id": "49bbfcf2-5871-4609-aed1-8d9dd8055eda",
   "metadata": {},
   "source": [
    "- When implementing ordering operations with rich comparisons, it is best to implement all six operations (`__eq__`, `__ne__`, `__lt__`, `__le__`, `__gt__`, `__ge__`) rather than relying on other code to only exercise a particular comparison.\n",
    "\n",
    "  To minimize the effort involved, the `functools.total_ordering()` decorator provides a tool to generate missing comparison methods.\n",
    "\n",
    "  [PEP 207](https://peps.python.org/pep-0207) indicates that reflexivity rules *are* assumed by Python. Thus, the interpreter may swap `y > x` with `x < y`, `y >= x` with `x <= y`, and may swap the arguments of `x == y` and `x != y`. The `sort()` and `min()` operations are guaranteed to use the `<` operator and the `max()` function uses the `>` operator. However, it is best to implement all six operations so that confusion doesn’t arise in other contexts.\n",
    "\n",
    "- Always use a def statement instead of an assignment statement that binds a lambda expression directly to an identifier:\n",
    "\n",
    "  ```python\n",
    "  # Correct:\n",
    "  def f(x): return 2*x\n",
    "  ```\n",
    "\n",
    "  ```python\n",
    "  # Wrong:\n",
    "  f = lambda x: 2*x\n",
    "  ```\n",
    "\n",
    "  The first form means that the name of the resulting function object is specifically ‘f’ instead of the generic ‘<lambda>’. This is more useful for tracebacks and string representations in general. The use of the assignment statement eliminates the sole benefit a lambda expression can offer over an explicit def statement (i.e. that it can be embedded inside a larger expression)\n",
    "\n",
    "> - 当用丰富的比较实现排序操作时，最好是实现所有的六种操作（`__eq__`, `__ne__`, `__lt__`, `__le__`, `__gt__`, `__ge__`），而不是依靠其他代码只行使一个特定的比较。\n",
    ">\n",
    ">   为了最小化所涉及的工作，`functools.total_ordering()`装饰器提供了一个工具来生成缺少的比较方法。\n",
    ">\n",
    ">   [PEP 207](https://peps.python.org/pep-0207)指出反身性规则*是*被Python假定的。因此，解释器可以将`y > x`与`x < y`交换，`y >= x`与`x <= y`交换，并且可以交换`x == y`和`x != y`的参数。`sort()`和`min()`操作保证使用`<`操作符，`max()`函数使用`>`操作符。然而，最好是实现所有六种操作，这样在其他情况下就不会出现混乱。\n",
    ">\n",
    "> - 始终使用def语句而不是赋值语句，将λ表达式直接绑定到标识符上。\n",
    ">\n",
    ">   ```python\n",
    ">   # Correct:\n",
    ">   def f(x): return 2*x\n",
    ">   ```\n",
    ">\n",
    ">   ```python\n",
    ">   # Wrong:\n",
    ">   f = lambda x: 2*x\n",
    ">   ```\n",
    ">\n",
    ">   第一种形式意味着产生的函数对象的名称是具体的 \"f\"，而不是通用的\"<lambda>\"。这对回溯和一般的字符串表示法更有用。使用赋值语句消除了lambda表达式比显式def语句所能提供的唯一好处（即它可以嵌入到一个更大的表达式中）。"
   ]
  },
  {
   "cell_type": "markdown",
   "id": "a9f4650d-28bd-4a61-aad5-234de3294dd3",
   "metadata": {},
   "source": [
    "- Derive exceptions from `Exception` rather than `BaseException`. Direct inheritance from `BaseException` is reserved for exceptions where catching them is almost always the wrong thing to do.\n",
    "\n",
    "  Design exception hierarchies based on the distinctions that code *catching* the exceptions is likely to need, rather than the locations where the exceptions are raised. Aim to answer the question “What went wrong?” programmatically, rather than only stating that “A problem occurred” (see [PEP 3151](https://peps.python.org/pep-3151) for an example of this lesson being learned for the builtin exception hierarchy)\n",
    "\n",
    "  Class naming conventions apply here, although you should add the suffix “Error” to your exception classes if the exception is an error. Non-error exceptions that are used for non-local flow control or other forms of signaling need no special suffix.\n",
    "\n",
    "- Use exception chaining appropriately. `raise X from Y` should be used to indicate explicit replacement without losing the original traceback.\n",
    "\n",
    "  When deliberately replacing an inner exception (using `raise X from None`), ensure that relevant details are transferred to the new exception (such as preserving the attribute name when converting KeyError to AttributeError, or embedding the text of the original exception in the new exception message).\n",
    "\n",
    "- When catching exceptions, mention specific exceptions whenever possible instead of using a bare `except:` clause:\n",
    "\n",
    "  ```python\n",
    "  try:\n",
    "      import platform_specific_module\n",
    "  except ImportError:\n",
    "      platform_specific_module = None\n",
    "  ```\n",
    "\n",
    "  A bare `except:` clause will catch SystemExit and KeyboardInterrupt exceptions, making it harder to interrupt a program with Control-C, and can disguise other problems. If you want to catch all exceptions that signal program errors, use `except Exception:` (bare except is equivalent to `except BaseException:`).\n",
    "\n",
    "  A good rule of thumb is to limit use of bare ‘except’ clauses to two cases:\n",
    "\n",
    "  1. If the exception handler will be printing out or logging the traceback; at least the user will be aware that an error has occurred.\n",
    "  2. If the code needs to do some cleanup work, but then lets the exception propagate upwards with `raise`. `try...finally` can be a better way to handle this case.\n",
    "\n",
    "> - 从 `Exception` 而不是 `BaseException` 派生异常。从`BaseException` 直接继承是保留给那些抓取异常几乎都是错误的事情的异常。\n",
    ">\n",
    ">   在设计异常层次时，要考虑到*抓取*异常的代码可能需要的区别，而不是异常发生的位置。旨在以编程方式回答 \"什么地方出错了？\"的问题，而不是仅仅说明 \"发生了一个问题\"（参见[PEP 3151](https://peps.python.org/pep-3151)，这是一个关于内置异常层次结构的例子）\n",
    ">\n",
    ">   类的命名惯例在此适用，不过如果异常是一个错误，你应该在你的异常类中添加后缀 \"Error\"。用于非本地流控制或其他形式的信号的非错误异常不需要特殊的后缀。\n",
    ">\n",
    "> - 适当地使用异常链。`raise X from Y`应该被用来表示显式替换而不丢失原始回溯。\n",
    ">\n",
    ">   当故意替换内部异常时（使用`raise X from None`），确保相关的细节被转移到新的异常中（比如在将KeyError转换为AttributeError时保留属性名称，或者将原始异常的文本嵌入新的异常消息中）。\n",
    ">\n",
    "> - 在捕获异常时，尽可能地提到具体的异常，而不是使用赤裸裸的 `except:`子句。\n",
    ">\n",
    ">   ```python\n",
    ">   try:\n",
    ">       import platform_specific_module\n",
    ">   except ImportError:\n",
    ">       platform_specific_module = None\n",
    ">   ```\n",
    ">\n",
    ">   一个光秃秃的`except:`子句会捕捉SystemExit和KeyboardInterrupt异常，使得用Control-C中断程序更加困难，并且可以掩盖其他问题。如果你想捕捉所有提示程序错误的异常，请使用`except Exception:`（裸except等同于`except BaseException:`）。\n",
    ">\n",
    ">   一个好的经验法则是将裸 \"except \" 子句的使用限制在两种情况下：\n",
    ">\n",
    ">   1. 如果异常处理程序将打印出来或记录回溯；至少用户会意识到发生了错误。\n",
    ">   2. 如果代码需要做一些清理工作，但又让异常通过`raise`向上传播。`try...finally`可以是处理这种情况的更好方法。"
   ]
  },
  {
   "cell_type": "markdown",
   "id": "ccd3b315-5a58-4c61-ac0b-c53c0ee5b2e2",
   "metadata": {},
   "source": [
    "- When catching operating system errors, prefer the explicit exception hierarchy introduced in Python 3.3 over introspection of `errno` values.\n",
    "\n",
    "- Additionally, for all try/except clauses, limit the `try` clause to the absolute minimum amount of code necessary. Again, this avoids masking bugs:\n",
    "\n",
    "  ```python\n",
    "  # Correct:\n",
    "  try:\n",
    "      value = collection[key]\n",
    "  except KeyError:\n",
    "      return key_not_found(key)\n",
    "  else:\n",
    "      return handle_value(value)\n",
    "  ```\n",
    "\n",
    "  ```python\n",
    "  # Wrong:\n",
    "  try:\n",
    "      # Too broad!\n",
    "      return handle_value(collection[key])\n",
    "  except KeyError:\n",
    "      # Will also catch KeyError raised by handle_value()\n",
    "      return key_not_found(key)\n",
    "  ```\n",
    "\n",
    "> - 当捕捉操作系统错误时，宁愿选择Python 3.3中引入的显式异常层次结构，而不是对`errno` 值的反省。\n",
    ">\n",
    "> - 此外，对于所有的 try/except 子句，将 `try` 子句限制在绝对必要的最小代码量。同样，这也避免了掩盖错误。\n",
    ">\n",
    ">   ```python\n",
    ">   # Correct\n",
    ">   try:\n",
    ">       value = collection[key]\n",
    ">   except KeyError:\n",
    ">       return key_not_found(key)\n",
    ">   else:\n",
    ">       return handle_value(value)\n",
    ">   ```\n",
    ">\n",
    ">   \n",
    ">\n",
    ">   ```python\n",
    ">   # Wrong\n",
    ">   try:\n",
    ">       # 太宽泛了!\n",
    ">       return handle_value(collection[key])\n",
    ">   except KeyError:\n",
    ">       # 也会抓住handle_value()引发的KeyError。\n",
    ">       return key_not_found(key)\n",
    ">   ```\n"
   ]
  },
  {
   "cell_type": "markdown",
   "id": "ee6c4516-2bee-432e-8151-b0d64a79b98b",
   "metadata": {},
   "source": [
    "- When a resource is local to a particular section of code, use a `with` statement to ensure it is cleaned up promptly and reliably after use. A try/finally statement is also acceptable.\n",
    "\n",
    "- Context managers should be invoked through separate functions or methods whenever they do something other than acquire and release resources:\n",
    "\n",
    "  ```python\n",
    "  # Correct:\n",
    "  with conn.begin_transaction():\n",
    "      do_stuff_in_transaction(conn)\n",
    "  ```\n",
    "\n",
    "  ```python\n",
    "  # Wrong:\n",
    "  with conn:\n",
    "      do_stuff_in_transaction(conn)\n",
    "  ```\n",
    "\n",
    "  The latter example doesn’t provide any information to indicate that the `__enter__` and `__exit__` methods are doing something other than closing the connection after a transaction. Being explicit is important in this case.\n",
    "\n",
    "> - 当一个资源是某段代码的局部时，使用`with`语句来确保它在使用后被及时可靠地清理掉。try/finally语句也是可以接受的。\n",
    ">\n",
    "> - 除了获取和释放资源外，上下文管理程序应通过单独的函数或方法来调用。\n",
    ">\n",
    ">   ```python\n",
    ">   # Correct\n",
    ">   with conn.begin_transaction():\n",
    ">       do_stuff_in_transaction(conn)\n",
    ">   ```\n",
    ">\n",
    ">   ```python\n",
    ">   # Wrong\n",
    ">   with conn:\n",
    ">       do_stuff_in_transaction(conn)\n",
    ">   ```\n",
    ">\n",
    ">   后面的例子没有提供任何信息来说明`__enter__`和`__exit__`方法除了在事务结束后关闭连接外还做了其他事情。在这种情况下，明确说明是很重要的。\n",
    "\n"
   ]
  },
  {
   "cell_type": "markdown",
   "id": "ca834717-d4fd-4506-8737-d61079c79c4f",
   "metadata": {},
   "source": [
    "- Be consistent in return statements. Either all return statements in a function should return an expression, or none of them should. If any return statement returns an expression, any return statements where no value is returned should explicitly state this as `return None`, and an explicit return statement should be present at the end of the function (if reachable):\n",
    "\n",
    "  > 在返回语句中要保持一致。在一个函数中，要么所有的返回语句都应该返回一个表达式，要么都不应该。如果任何返回语句都返回一个表达式，任何没有返回值的返回语句都应该明确说明为 `return None`，并且在函数的末尾应该有一个明确的返回语句（如果可以到达）。\n",
    "\n",
    "  ```python\n",
    "  # Correct:\n",
    "  \n",
    "  def foo(x):\n",
    "      if x >= 0:\n",
    "          return math.sqrt(x)\n",
    "      else:\n",
    "          return None\n",
    "  \n",
    "  def bar(x):\n",
    "      if x < 0:\n",
    "          return None\n",
    "      return math.sqrt(x)\n",
    "  ```\n",
    "\n",
    "  ```python\n",
    "  # Wrong:\n",
    "  \n",
    "  def foo(x):\n",
    "      if x >= 0:\n",
    "          return math.sqrt(x)\n",
    "  \n",
    "  def bar(x):\n",
    "      if x < 0:\n",
    "          return\n",
    "      return math.sqrt(x)\n",
    "  ```"
   ]
  },
  {
   "cell_type": "markdown",
   "id": "01cfb55e-69ad-4b09-ac79-dd45537b49ed",
   "metadata": {},
   "source": [
    "- Use `''.startswith()` and `''.endswith()` instead of string slicing to check for prefixes or suffixes.\n",
    "\n",
    "  startswith() and endswith() are cleaner and less error prone:\n",
    "\n",
    "  > 使用`''.startswith()` 和 `''.endswith()`代替字符串切分来检查前缀或后缀。\n",
    "  >\n",
    "  > startswith()和endswith()更干净，更不容易出错。\n",
    "\n",
    "  ```python\n",
    "  # Correct:\n",
    "  if foo.startswith('bar'):\n",
    "  ```\n",
    "\n",
    "  ```python\n",
    "  # Wrong:\n",
    "  if foo[:3] == 'bar':\n",
    "  ```\n"
   ]
  },
  {
   "cell_type": "markdown",
   "id": "4ad0e003-2874-445b-80e3-3c37ebcb4235",
   "metadata": {},
   "source": [
    "- Object type comparisons should always use isinstance() instead of comparing types directly:\n",
    "\n",
    "  > 对象类型比较应该总是使用isinstance()，而不是直接比较类型\n",
    "\n",
    "  ```python\n",
    "  # Correct:\n",
    "  if isinstance(obj, int):\n",
    "  ```\n",
    "\n",
    "  ```python\n",
    "  # Wrong:\n",
    "  if type(obj) is type(1):\n",
    "  ```"
   ]
  },
  {
   "cell_type": "markdown",
   "id": "2388e4b7-b36e-4e22-ae89-22b5cc1b0011",
   "metadata": {},
   "source": [
    "- For sequences, (strings, lists, tuples), use the fact that empty sequences are false:\n",
    "\n",
    "  > 对于序列，（字符串、列表、元组），使用空序列是false这一事实\n",
    "\n",
    "  ```python\n",
    "  # Correct:\n",
    "  if not seq:\n",
    "  if seq:\n",
    "  ```\n",
    "\n",
    "  ```python\n",
    "  # Wrong:\n",
    "  if len(seq):\n",
    "  if not len(seq):\n",
    "  ```"
   ]
  },
  {
   "cell_type": "markdown",
   "id": "34cf9cba-5422-435a-8fbd-ff19fed8d1ee",
   "metadata": {},
   "source": [
    "- Don’t write string literals that rely on significant trailing whitespace. Such trailing whitespace is visually indistinguishable and some editors (or more recently, reindent.py) will trim them.\n",
    "\n",
    "- Don’t compare boolean values to True or False using `==` :\n",
    "\n",
    "  > - 不要写那些依赖大量尾部空白的字符串常量。这样的尾部空白在视觉上是无法区分的，一些编辑器（或最近的reindent.py）会修剪它们。\n",
    "  > - 不要用 `==` 来比较布尔值的True或False。\n",
    "\n",
    "  ```python\n",
    "  # Correct:\n",
    "  if greeting:\n",
    "  ```\n",
    "\n",
    "  ```python\n",
    "  # Wrong:\n",
    "  if greeting == True:\n",
    "  ```\n",
    "\n",
    "  Worse:\n",
    "\n",
    "  ```python\n",
    "  # Wrong:\n",
    "  if greeting is True:\n",
    "  ```"
   ]
  },
  {
   "cell_type": "markdown",
   "id": "6e3b739c-4f61-47d4-8992-c026c236459c",
   "metadata": {},
   "source": [
    "- Use of the flow control statements `return/break/continue` within the finally suite of a `try...finally`, where the flow control statement would jump outside the finally suite, is discouraged. This is because such statements will implicitly cancel any active exception that is propagating through the finally suite:\n",
    "\n",
    "  > 不鼓励在 `try...finally` 的finally套件中使用流控制语句 `return/break/continue`，因为流控制语句会跳出finally套件。这是因为这样的语句会隐含地取消任何正在通过final套件传播的活动异常。\n",
    "\n",
    "  ```python\n",
    "  # Wrong:\n",
    "  def foo():\n",
    "      try:\n",
    "          1 / 0\n",
    "      finally:\n",
    "          return 42\n",
    "  ```"
   ]
  },
  {
   "cell_type": "markdown",
   "id": "5780b7b0-227e-4826-b68f-6000dd3f6885",
   "metadata": {},
   "source": [
    "### [Function Annotations](https://peps.python.org/pep-0008/#function-annotations)"
   ]
  },
  {
   "cell_type": "markdown",
   "id": "b2224bda-453f-465a-8e4a-3915366f19a9",
   "metadata": {},
   "source": [
    "With the acceptance of [PEP 484](https://peps.python.org/pep-0484), the style rules for function annotations have changed.\n",
    "\n",
    "- Function annotations should use [PEP 484](https://peps.python.org/pep-0484) syntax (there are some formatting recommendations for annotations in the previous section).\n",
    "\n",
    "- The experimentation with annotation styles that was recommended previously in this PEP is no longer encouraged.\n",
    "\n",
    "- However, outside the stdlib, experiments within the rules of [PEP 484](https://peps.python.org/pep-0484) are now encouraged. For example, marking up a large third party library or application with [PEP 484](https://peps.python.org/pep-0484) style type annotations, reviewing how easy it was to add those annotations, and observing whether their presence increases code understandability.\n",
    "\n",
    "- The Python standard library should be conservative in adopting such annotations, but their use is allowed for new code and for big refactorings.\n",
    "\n",
    "- For code that wants to make a different use of function annotations it is recommended to put a comment of the form:\n",
    "\n",
    "  ```python\n",
    "  # type: ignore\n",
    "  ```\n",
    "\n",
    "  near the top of the file; this tells type checkers to ignore all annotations. (More fine-grained ways of disabling complaints from type checkers can be found in [PEP 484](https://peps.python.org/pep-0484).)\n",
    "\n",
    "- Like linters, type checkers are optional, separate tools. Python interpreters by default should not issue any messages due to type checking and should not alter their behavior based on annotations.\n",
    "\n",
    "- Users who don’t want to use type checkers are free to ignore them. However, it is expected that users of third party library packages may want to run type checkers over those packages. For this purpose [PEP 484](https://peps.python.org/pep-0484) recommends the use of stub files: .pyi files that are read by the type checker in preference of the corresponding .py files. Stub files can be distributed with a library, or separately (with the library author’s permission) through the typeshed repo <a href='#fn5' name='fn5b'><sup>[5]</sup></a>.\n",
    "\n",
    "> 随着[PEP 484](https://peps.python.org/pep-0484)的接受，函数注释的样式规则也发生了变化。\n",
    ">\n",
    "> - 函数注释应该使用[PEP 484](https://peps.python.org/pep-0484)的语法（在前一节中有一些注释的格式建议）。\n",
    ">\n",
    "> - 不再鼓励本PEP之前推荐的注释样式的实验。\n",
    ">\n",
    "> - 然而，在stdlib之外，现在鼓励在[PEP 484](https://peps.python.org/pep-0484)的规则内进行实验。例如，用 [PEP 484](https://peps.python.org/pep-0484) 风格的类型注解标记一个大型的第三方库或应用程序，回顾一下添加这些注解有多容易，并观察它们的存在是否增加了代码的可理解性。\n",
    ">\n",
    "> - Python标准库在采用这种注解时应该是保守的，但对于新代码和大的重构来说，允许使用它们。\n",
    ">\n",
    "> - 对于想要对函数注解进行不同的使用的代码，建议加上一个注释，其形式为：\n",
    ">\n",
    ">   ```python\n",
    ">   # type: ignore\n",
    ">   ```\n",
    ">\n",
    ">   靠近文件的顶部；这告诉类型检查器忽略所有注释。(禁用类型检查器投诉的更精细的方法可以在[PEP 484](https://peps.python.org/pep-0484)中找到。)\n",
    ">\n",
    "> - Like linters, type checkers are optional, separate tools. Python interpreters by default should not issue any messages due to type checking and should not alter their behavior based on annotations.\n",
    ">\n",
    "> - Users who don’t want to use type checkers are free to ignore them. However, it is expected that users of third party library packages may want to run type checkers over those packages. For this purpose [PEP 484](https://peps.python.org/pep-0484) recommends the use of stub files: .pyi files that are read by the type checker in preference of the corresponding .py files. Stub files can be distributed with a library, or separately (with the library author’s permission) through the typeshed repo <a href='#fn5' name='fn5b'><sup>[5]</sup></a>."
   ]
  },
  {
   "cell_type": "markdown",
   "id": "74befeba-ffd4-45ca-a83b-bba5a1d28c2f",
   "metadata": {},
   "source": [
    "### [Variable Annotations](https://peps.python.org/pep-0008/#variable-annotations)"
   ]
  },
  {
   "cell_type": "markdown",
   "id": "1f7ba28e-9ca2-42c2-bde6-2160bfcd32ed",
   "metadata": {},
   "source": [
    "[PEP 526](https://peps.python.org/pep-0526) introduced variable annotations. The style recommendations for them are similar to those on function annotations described above:\n",
    "\n",
    "- Annotations for module level variables, class and instance variables, and local variables should have a single space after the colon.\n",
    "\n",
    "- There should be no space before the colon.\n",
    "\n",
    "- If an assignment has a right hand side, then the equality sign should have exactly one space on both sides:\n",
    "\n",
    "  ```python\n",
    "  # Correct:\n",
    "  \n",
    "  code: int\n",
    "  \n",
    "  class Point:\n",
    "      coords: Tuple[int, int]\n",
    "      label: str = '<unknown>'\n",
    "  ```\n",
    "\n",
    "  ```python\n",
    "  # Wrong:\n",
    "  \n",
    "  code:int  # No space after colon\n",
    "  code : int  # Space before colon\n",
    "  \n",
    "  class Test:\n",
    "      result: int=0  # No spaces around equality sign\n",
    "  ```\n",
    "\n",
    "- Although the [PEP 526](https://peps.python.org/pep-0526) is accepted for Python 3.6, the variable annotation syntax is the preferred syntax for stub files on all versions of Python (see [PEP 484](https://peps.python.org/pep-0484) for details).\n",
    "\n",
    "> [PEP 526](https://peps.python.org/pep-0526)引入了变量注释。对它们的风格建议与上面描述的关于函数注释的建议相似。\n",
    ">\n",
    "> - 模块级变量、类和实例变量以及局部变量的注释应该在冒号后面有一个空格。\n",
    ">\n",
    "> - 冒号前不应该有空格。\n",
    ">\n",
    "> - 如果一个赋值有一个右侧，那么相等符号的两边应该正好有一个空格。\n",
    ">\n",
    ">   ```python\n",
    ">   # Correct\n",
    ">   \n",
    ">   code: int\n",
    ">   \n",
    ">   class Point:\n",
    ">       coords: Tuple[int, int]\n",
    ">       label: str = '<unknown>'\n",
    ">   ```\n",
    ">\n",
    ">   ```python\n",
    ">   # Wrong\n",
    ">   \n",
    ">   code:int # 冒号后面没有空格\n",
    ">   code : int # 冒号前有空格\n",
    ">   \n",
    ">   class Test:\n",
    ">       result: int=0 # 等号周围没有空格\n",
    ">   ```\n",
    ">\n",
    "> - 尽管[PEP 526](https://peps.python.org/pep-0526)被接受用于Python 3.6，但变量注释语法是所有Python版本上存根文件的首选语法(详情见[PEP 484](https://peps.python.org/pep-0484))。"
   ]
  },
  {
   "cell_type": "markdown",
   "id": "7b3f1ca5-7d75-442c-ae66-3513a293611e",
   "metadata": {},
   "source": [
    "**Footnotes**\n",
    "\n",
    "<a href='#fn1b' name='fn1'>[1]</a>：*Hanging indentation* is a type-setting style where all the lines in a paragraph are indented except the first line. In the context of Python, the term is used to describe a style where the opening parenthesis of a parenthesized statement is the last non-whitespace character of the line, with subsequent lines being indented until the closing parenthesis.\n",
    "\n",
    "> <a name='fn1'>[1]</a>：*悬空缩进*是一种类型设置风格，段落中的所有行都缩进，除了第一行。在Python的语境中，该术语用于描述这样一种风格：括号内语句的开头括号是该行的最后一个非空格字符，随后的行被缩进到结尾括号。\n",
    "\n",
    "\n",
    "\n",
    "## References\n",
    "\n",
    "<a name='fn2'>[2]</a>: Barry’s GNU Mailman style guide http://barry.warsaw.us/software/STYLEGUIDE.txt\n",
    "\n",
    "<a name='fn3'>[3]</a>: Donald Knuth’s *The TeXBook*, pages 195 and 196.\n",
    "\n",
    "<a name='fn4'>[4]</a>: http://www.wikipedia.com/wiki/CamelCase\n",
    "\n",
    "<a name='fn5'>[5]</a>: Typeshed repo https://github.com/python/typeshed"
   ]
  }
 ],
 "metadata": {
  "kernelspec": {
   "display_name": "Python 3 (ipykernel)",
   "language": "python",
   "name": "python3"
  },
  "language_info": {
   "codemirror_mode": {
    "name": "ipython",
    "version": 3
   },
   "file_extension": ".py",
   "mimetype": "text/x-python",
   "name": "python",
   "nbconvert_exporter": "python",
   "pygments_lexer": "ipython3",
   "version": "3.10.4"
  }
 },
 "nbformat": 4,
 "nbformat_minor": 5
}
