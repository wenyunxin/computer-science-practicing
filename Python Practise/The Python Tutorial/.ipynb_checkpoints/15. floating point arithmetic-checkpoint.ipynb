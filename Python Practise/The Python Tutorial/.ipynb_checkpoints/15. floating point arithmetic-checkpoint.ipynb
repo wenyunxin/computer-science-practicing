{
 "cells": [
  {
   "cell_type": "code",
   "execution_count": 1,
   "id": "359b076d-68ee-45e4-97b8-d0edd3c89597",
   "metadata": {},
   "outputs": [],
   "source": [
    "from IPython.core.interactiveshell import InteractiveShell\n",
    "InteractiveShell.ast_node_interactivity = \"all\""
   ]
  },
  {
   "cell_type": "markdown",
   "id": "d5f4afbf-73b2-4133-8079-780cd666f48e",
   "metadata": {},
   "source": [
    "Floating-point numbers are represented in computer hardware as base 2 (binary) fractions. For example, the decimal fraction\n",
    "\n",
    "> 浮点数在计算机硬件中被表示为基数2（二进制）的分数。例如，十进制的分数"
   ]
  },
  {
   "cell_type": "code",
   "execution_count": 1,
   "id": "5bc1d078-6d56-4ba0-b0a3-5bf3eb901fd0",
   "metadata": {},
   "outputs": [
    {
     "data": {
      "text/plain": [
       "0.125"
      ]
     },
     "execution_count": 1,
     "metadata": {},
     "output_type": "execute_result"
    }
   ],
   "source": [
    "0.125"
   ]
  },
  {
   "cell_type": "markdown",
   "id": "a466c960-ac0b-4f80-9d06-7164f36dba88",
   "metadata": {},
   "source": [
    "has value 1/10 + 2/100 + 5/1000, and in the same way the binary fraction\n",
    "\n",
    "> 值为1/10+2/100+5/1000，同样，二进制分数"
   ]
  },
  {
   "cell_type": "code",
   "execution_count": 2,
   "id": "0f036764-5823-45da-ae71-634f8f66b7eb",
   "metadata": {},
   "outputs": [
    {
     "data": {
      "text/plain": [
       "0.001"
      ]
     },
     "execution_count": 2,
     "metadata": {},
     "output_type": "execute_result"
    }
   ],
   "source": [
    "0.001"
   ]
  },
  {
   "cell_type": "markdown",
   "id": "dc045637-70dd-492e-9585-615bc24e399b",
   "metadata": {},
   "source": [
    "has value 0/2 + 0/4 + 1/8. These two fractions have identical values, the only real difference being that the first is written in base 10 fractional notation, and the second in base 2.\n",
    "\n",
    "Unfortunately, most decimal fractions cannot be represented exactly as binary fractions. A consequence is that, in general, the decimal floating-point numbers you enter are only approximated by the binary floating-point numbers actually stored in the machine.\n",
    "\n",
    "The problem is easier to understand at first in base 10. Consider the fraction 1/3. You can approximate that as a base 10 fraction:\n",
    "\n",
    "> 值为0/2+0/4+1/8。这两个分数的数值是相同的，唯一真正的区别是第一个分数是用基数10的分数符号写的，而第二个是用基数2的符号。\n",
    ">\n",
    "> 不幸的是，大多数十进制的分数都不能准确地表示为二进制的分数。其结果是，一般来说，你输入的十进制浮点数只能与机器中实际存储的二进制浮点数相近。\n",
    ">\n",
    "> 这个问题一开始在基数10中比较容易理解。考虑一下分数1/3。你可以把它近似为一个基数10的分数："
   ]
  },
  {
   "cell_type": "code",
   "execution_count": 3,
   "id": "184bdaef-10ec-4f21-ba90-8002fc29c00a",
   "metadata": {},
   "outputs": [
    {
     "data": {
      "text/plain": [
       "0.3"
      ]
     },
     "execution_count": 3,
     "metadata": {},
     "output_type": "execute_result"
    }
   ],
   "source": [
    "0.3"
   ]
  },
  {
   "cell_type": "markdown",
   "id": "c2f78468-1fbd-4b09-99b0-fe07b96c15b1",
   "metadata": {},
   "source": [
    "or, better,\n",
    "\n",
    "> 或者，更好，"
   ]
  },
  {
   "cell_type": "code",
   "execution_count": 4,
   "id": "ed0b1518-4ce5-40fa-840c-851bbe798ad0",
   "metadata": {},
   "outputs": [
    {
     "data": {
      "text/plain": [
       "0.33"
      ]
     },
     "execution_count": 4,
     "metadata": {},
     "output_type": "execute_result"
    }
   ],
   "source": [
    "0.33"
   ]
  },
  {
   "cell_type": "markdown",
   "id": "b03c0bae-d2cf-45b9-b5aa-78bccf417e82",
   "metadata": {},
   "source": [
    "or, better,\n",
    "\n",
    "> 或者，更好，"
   ]
  },
  {
   "cell_type": "code",
   "execution_count": 5,
   "id": "8914cc03-0789-4349-9608-bba2d0c06ecb",
   "metadata": {},
   "outputs": [
    {
     "data": {
      "text/plain": [
       "0.333"
      ]
     },
     "execution_count": 5,
     "metadata": {},
     "output_type": "execute_result"
    }
   ],
   "source": [
    "0.333"
   ]
  },
  {
   "cell_type": "markdown",
   "id": "25c77150-1704-4d36-8268-02be28eae5d1",
   "metadata": {},
   "source": [
    "and so on. No matter how many digits you’re willing to write down, the result will never be exactly 1/3, but will be an increasingly better approximation of 1/3.\n",
    "\n",
    "In the same way, no matter how many base 2 digits you’re willing to use, the decimal value 0.1 cannot be represented exactly as a base 2 fraction. In base 2, 1/10 is the infinitely repeating fraction\n",
    "\n",
    "> 以此类推。无论你愿意写下多少个数字，结果永远不会是精确的1/3，而是越来越好的1/3的近似值。\n",
    ">\n",
    "> 同样，无论你愿意用多少个二进制数字，小数值0.1也不能完全表示为二进制分数。在基数2中，1/10是无限重复的分数"
   ]
  },
  {
   "cell_type": "raw",
   "id": "d12be778-9b64-40e4-b7c9-cd9e6ec71f63",
   "metadata": {},
   "source": [
    "0.0001100110011001100110011001100110011001100110011..."
   ]
  },
  {
   "cell_type": "markdown",
   "id": "7236cd3c-6d29-41d4-8886-0fa30a748873",
   "metadata": {},
   "source": [
    "Stop at any finite number of bits, and you get an approximation. On most machines today, floats are approximated using a binary fraction with the numerator using the first 53 bits starting with the most significant bit and with the denominator as a power of two. In the case of 1/10, the binary fraction is `3602879701896397 / 2 ** 55` which is close to but not exactly equal to the true value of 1/10.\n",
    "\n",
    "Many users are not aware of the approximation because of the way values are displayed. Python only prints a decimal approximation to the true decimal value of the binary approximation stored by the machine. On most machines, if Python were to print the true decimal value of the binary approximation stored for 0.1, it would have to display\n",
    "\n",
    "> 停在任何有限的位数上，你就会得到一个近似值。在今天的大多数机器上，浮点数是用二进制分数来表示近似的，分子从最重要的位开始，使用前53位，分母是2的幂。在1/10的情况下，二进制分数是`3602879701896397 / 2 ** 55`，接近但不完全等于1/10的真实值。\n",
    ">\n",
    "> 由于数值的显示方式，许多用户没有意识到这个近似值。Python只打印出机器存储的二进制近似值的十进制近似值。在大多数机器上，如果 Python 要打印存储为 0.1 的二进制近似值的真实十进制值，它必须显示"
   ]
  },
  {
   "cell_type": "raw",
   "id": "504759fa-c1f2-440b-bbb3-3df4bbcda537",
   "metadata": {},
   "source": [
    ">>> 0.1\n",
    "0.1000000000000000055511151231257827021181583404541015625"
   ]
  },
  {
   "cell_type": "markdown",
   "id": "170c2ab1-75eb-46c4-95d9-f293bbe6cc70",
   "metadata": {},
   "source": [
    "That is more digits than most people find useful, so Python keeps the number of digits manageable by displaying a rounded value instead\n",
    "\n",
    "> 这比大多数人认为有用的数字要多，所以Python通过显示一个四舍五入的值来保持数字的可控性"
   ]
  },
  {
   "cell_type": "code",
   "execution_count": 11,
   "id": "8c0d44b4-2bfa-4673-b82d-d08d4f11bbe9",
   "metadata": {},
   "outputs": [
    {
     "data": {
      "text/plain": [
       "0.1"
      ]
     },
     "execution_count": 11,
     "metadata": {},
     "output_type": "execute_result"
    }
   ],
   "source": [
    "1 / 10"
   ]
  },
  {
   "cell_type": "markdown",
   "id": "45993536-23b7-45e2-9ba2-ee3708ca91d7",
   "metadata": {},
   "source": [
    "Just remember, even though the printed result looks like the exact value of 1/10, the actual stored value is the nearest representable binary fraction.\n",
    "\n",
    "Interestingly, there are many different decimal numbers that share the same nearest approximate binary fraction. For example, the numbers `0.1` and `0.10000000000000001` and `0.1000000000000000055511151231257827021181583404541015625` are all approximated by `3602879701896397 / 2 ** 55`. Since all of these decimal values share the same approximation, any one of them could be displayed while still preserving the invariant `eval(repr(x)) == x`.\n",
    "\n",
    "Historically, the Python prompt and built-in [`repr()`](https://docs.python.org/3/library/functions.html#repr) function would choose the one with 17 significant digits, `0.10000000000000001`. Starting with Python 3.1, Python (on most systems) is now able to choose the shortest of these and simply display `0.1`.\n",
    "\n",
    "Note that this is in the very nature of binary floating-point: this is not a bug in Python, and it is not a bug in your code either. You’ll see the same kind of thing in all languages that support your hardware’s floating-point arithmetic (although some languages may not *display* the difference by default, or in all output modes).\n",
    "\n",
    "For more pleasant output, you may wish to use string formatting to produce a limited number of significant digits:\n",
    "\n",
    "> 请记住，尽管打印出来的结果看起来是1/10的精确值，但实际存储的值是最接近的可表示的二进制分数。\n",
    ">\n",
    "> 有趣的是，有许多不同的十进制数字都有相同的最接近的二进制分数。例如，数字`0.1`和`0.10000000000000001`以及`0.1000000000000000055511151231257827021181583404541015625`都是由`3602879701896397/2 ** 55`近似的。因为所有这些十进制的值都有相同的近似值，所以可以显示其中的任何一个，同时仍然保留不变的`eval(repr(x)) == x`。\n",
    ">\n",
    "> 历史上，Python命令行和内置的[`repr()`](https://docs.python.org/3/library/functions.html#repr)函数会选择有17位有效数字的，`0.10000000000000001`。从Python 3.1开始，Python (在大多数系统上)现在能够选择其中最短的，并简单地显示`0.1'。\n",
    ">\n",
    "> 请注意，这是二进制浮点的本质：这不是Python的一个错误，也不是你的代码的一个错误。你会在所有支持硬件浮点运算的语言中看到同样的情况 (尽管有些语言可能在默认情况下不*显示*差异，或者在所有的输出模式下不显示)。\n",
    ">\n",
    "> 为了获得更令人愉快的输出，你可能希望使用字符串格式化来产生有限数量的有效数字。"
   ]
  },
  {
   "cell_type": "code",
   "execution_count": 13,
   "id": "4b58cf4f-0727-4aba-94ec-77858f01934a",
   "metadata": {},
   "outputs": [
    {
     "data": {
      "text/plain": [
       "'3.14159265359'"
      ]
     },
     "execution_count": 13,
     "metadata": {},
     "output_type": "execute_result"
    }
   ],
   "source": [
    "import math\n",
    "\n",
    "format(math.pi, '.12g')    # give 12 significant digits"
   ]
  },
  {
   "cell_type": "code",
   "execution_count": 14,
   "id": "d310c3a1-f17a-403e-83ef-6a155f9b181c",
   "metadata": {},
   "outputs": [
    {
     "data": {
      "text/plain": [
       "'3.14'"
      ]
     },
     "execution_count": 14,
     "metadata": {},
     "output_type": "execute_result"
    }
   ],
   "source": [
    "format(math.pi, '.2f')    # give 2 digts after the point"
   ]
  },
  {
   "cell_type": "code",
   "execution_count": 15,
   "id": "84eb590d-4b5f-40d7-afc0-c08ff47f9e0c",
   "metadata": {},
   "outputs": [
    {
     "data": {
      "text/plain": [
       "'3.141592653589793'"
      ]
     },
     "execution_count": 15,
     "metadata": {},
     "output_type": "execute_result"
    }
   ],
   "source": [
    "repr(math.pi)"
   ]
  },
  {
   "cell_type": "markdown",
   "id": "8cfeba48-e8fb-429b-af05-7a0464a7dd05",
   "metadata": {},
   "source": [
    "It’s important to realize that this is, in a real sense, an illusion: you’re simply rounding the *display* of the true machine value.\n",
    "\n",
    "One illusion may beget another. For example, since 0.1 is not exactly 1/10, summing three values of 0.1 may not yield exactly 0.3, either:\n",
    "\n",
    "> 重要的是要认识到，从真正意义上讲，这是一种幻觉：你只是在四舍五入地*显示*真实的机器值。\n",
    ">\n",
    "> 一个幻觉可能会带来另一个幻觉。例如，由于0.1并不完全是1/10，将三个0.1的值相加可能也不会完全产生0.3"
   ]
  },
  {
   "cell_type": "code",
   "execution_count": 16,
   "id": "2ff96252-6a5c-49ef-8f74-0c0aecd7970a",
   "metadata": {},
   "outputs": [
    {
     "data": {
      "text/plain": [
       "False"
      ]
     },
     "execution_count": 16,
     "metadata": {},
     "output_type": "execute_result"
    }
   ],
   "source": [
    ".1 + .1 + .1 == .3"
   ]
  },
  {
   "cell_type": "markdown",
   "id": "a2b3bee9-f23a-41c4-865b-aa55c90f9528",
   "metadata": {},
   "source": [
    "Also, since the 0.1 cannot get any closer to the exact value of 1/10 and 0.3 cannot get any closer to the exact value of 3/10, then pre-rounding with [`round()`](https://docs.python.org/3/library/functions.html#round) function cannot help:\n",
    "\n",
    "> 另外，由于0.1不能更接近1/10的精确值，0.3不能更接近3/10的精确值，那么用[`round()`](https://docs.python.org/3/library/functions.html#round)函数进行预“四舍五入”也无济于事："
   ]
  },
  {
   "cell_type": "code",
   "execution_count": 17,
   "id": "4a56927e-bb8c-49de-be3a-4433d8353390",
   "metadata": {},
   "outputs": [
    {
     "data": {
      "text/plain": [
       "False"
      ]
     },
     "execution_count": 17,
     "metadata": {},
     "output_type": "execute_result"
    }
   ],
   "source": [
    "round(.1, 1) + round(.1, 1) + round(.1, 1) == round(.3, 1)"
   ]
  },
  {
   "cell_type": "markdown",
   "id": "9d84221b-1eb1-4201-a9e3-bc84b019aa3d",
   "metadata": {},
   "source": [
    "Though the numbers cannot be made closer to their intended exact values, the [`round()`](https://docs.python.org/3/library/functions.html#round) function can be useful for post-rounding so that results with inexact values become comparable to one another:\n",
    "\n",
    "> 尽管不能使数字更接近其预期的精确值，但[`round()`](https://docs.python.org/3/library/functions.html#round)函数对后置舍入很有用，这样不精确值的结果就可以相互比较了："
   ]
  },
  {
   "cell_type": "code",
   "execution_count": 19,
   "id": "82c3ef55-edbf-46e5-8093-f47ef9f0c949",
   "metadata": {},
   "outputs": [
    {
     "data": {
      "text/plain": [
       "True"
      ]
     },
     "execution_count": 19,
     "metadata": {},
     "output_type": "execute_result"
    }
   ],
   "source": [
    "round(.1 + .1 + .1, 10) == round(.3, 10)"
   ]
  },
  {
   "cell_type": "markdown",
   "id": "eba27499-28b1-40ac-9a66-997953dbbcb9",
   "metadata": {},
   "source": [
    "Binary floating-point arithmetic holds many surprises like this. The problem with “0.1” is explained in precise detail below, in the “Representation Error” section. See [The Perils of Floating Point](https://www.lahey.com/float.htm) for a more complete account of other common surprises.\n",
    "\n",
    "As that says near the end, “there are no easy answers.” Still, don’t be unduly wary of floating-point! The errors in Python float operations are inherited from the floating-point hardware, and on most machines are on the order of no more than 1 part in 2**53 per operation. That’s more than adequate for most tasks, but you do need to keep in mind that it’s not decimal arithmetic and that every float operation can suffer a new rounding error.\n",
    "\n",
    "While pathological cases do exist, for most casual use of floating-point arithmetic you’ll see the result you expect in the end if you simply round the display of your final results to the number of decimal digits you expect. [`str()`](https://docs.python.org/3/library/stdtypes.html#str) usually suffices, and for finer control see the [`str.format()`](https://docs.python.org/3/library/stdtypes.html#str.format) method’s format specifiers in [Format String Syntax](https://docs.python.org/3/library/string.html#formatstrings).\n",
    "\n",
    "For use cases which require exact decimal representation, try using the [`decimal`](https://docs.python.org/3/library/decimal.html#module-decimal) module which implements decimal arithmetic suitable for accounting applications and high-precision applications.\n",
    "\n",
    "Another form of exact arithmetic is supported by the [`fractions`](https://docs.python.org/3/library/fractions.html#module-fractions) module which implements arithmetic based on rational numbers (so the numbers like 1/3 can be represented exactly).\n",
    "\n",
    "If you are a heavy user of floating point operations you should take a look at the NumPy package and many other packages for mathematical and statistical operations supplied by the SciPy project. See <[https://scipy.org](https://scipy.org/)>.\n",
    "\n",
    "Python provides tools that may help on those rare occasions when you really *do* want to know the exact value of a float. The [`float.as_integer_ratio()`](https://docs.python.org/3/library/stdtypes.html#float.as_integer_ratio) method expresses the value of a float as a fraction:\n",
    "\n",
    "> 二进制浮点运算有很多这样的惊喜。关于 \"0.1 \"的问题，我们会在下面的 \"Representation Error\"一节中详细说明。关于其他常见的意外情况，请参见[浮点的危险](https://www.lahey.com/float.htm)，了解更全面的说明。\n",
    ">\n",
    "> 正如接近尾声时所说，\"there are no easy answers.\"。尽管如此，还是不要对浮点有过分的戒心! Python浮点运算的误差是由浮点硬件继承的，在大多数机器上，每次运算的误差不超过2**53中的1部分。这对于大多数任务来说是绰绰有余的，但是你需要记住，这不是十进制的算术，每一次浮点运算都可能出现新的舍入误差。\n",
    ">\n",
    "> 虽然误差的情况确实存在，但对于大多数随意使用浮点运算的情况，如果你简单地将最终结果的显示四舍五入到你期望的小数位数，你最终会看到你期望的结果。[`str()`](https://docs.python.org/3/library/stdtypes.html#str)通常就足够了，如果要进行更精细的控制，请参见[格式化字符串语法](https://docs.python.org/3/library/stdtypes.html#str.format)中 `str.format()` 方法的格式指定器。\n",
    ">\n",
    "> 对于需要精确十进制表示的用例，可以尝试使用[`decimal`](https://docs.python.org/3/library/decimal.html#module-decimal)模块，它实现了适合会计应用和高精度应用的十进制算术。\n",
    ">\n",
    "> 另一种形式的精确算术由[`fractions`](https://docs.python.org/3/library/fractions.html#module-fractions)模块支持，它实现了基于有理数的算术（所以像1/3这样的数字可以被精确表示）。\n",
    ">\n",
    "> 如果你是浮点运算的忠实用户，你应该看看NumPy包和SciPy项目提供的许多其他数学和统计运算包。见、\\<[https://scipy.org](https://scipy.org/)>。\n",
    ">\n",
    "> Python 提供了一些工具，当你*真的*想知道一个浮点数的精确值时，这些工具可能会有所帮助。[`float.as_integer_ratio()`](https://docs.python.org/3/library/stdtypes.html#float.as_integer_ratio)方法将一个浮点数的值表示为一个分数："
   ]
  },
  {
   "cell_type": "code",
   "execution_count": 20,
   "id": "182b11c1-50f7-406c-9243-b8a4dbd043a6",
   "metadata": {},
   "outputs": [
    {
     "data": {
      "text/plain": [
       "(3537115888337719, 1125899906842624)"
      ]
     },
     "execution_count": 20,
     "metadata": {},
     "output_type": "execute_result"
    }
   ],
   "source": [
    "x = 3.14159\n",
    "\n",
    "x.as_integer_ratio()"
   ]
  },
  {
   "cell_type": "markdown",
   "id": "066cda71-7c5b-4125-a903-83c8857aaaa6",
   "metadata": {},
   "source": [
    "Since the ratio is exact, it can be used to losslessly recreate the original value:\n",
    "\n",
    "> 由于该比率是精确的，它可以被用来无损地重现原始值："
   ]
  },
  {
   "cell_type": "code",
   "execution_count": 22,
   "id": "06d79e9b-3841-4261-a8f6-e69f0bff5c23",
   "metadata": {},
   "outputs": [
    {
     "data": {
      "text/plain": [
       "True"
      ]
     },
     "execution_count": 22,
     "metadata": {},
     "output_type": "execute_result"
    }
   ],
   "source": [
    "x == 3537115888337719 / 1125899906842624"
   ]
  },
  {
   "cell_type": "markdown",
   "id": "0cb03ccc-82fe-4a54-a4a8-d3a77fc61a06",
   "metadata": {},
   "source": [
    "The [`float.hex()`](https://docs.python.org/3/library/stdtypes.html#float.hex) method expresses a float in hexadecimal (base 16), again giving the exact value stored by your computer:\n",
    "\n",
    "> [`float.hex()`](https://docs.python.org/3/library/stdtypes.html#float.hex)方法用十六进制(base 16)表示一个浮点数，再次给出你的计算机存储的精确值："
   ]
  },
  {
   "cell_type": "code",
   "execution_count": 23,
   "id": "fc9b69d4-c39a-4344-9c85-83409de67431",
   "metadata": {},
   "outputs": [
    {
     "data": {
      "text/plain": [
       "'0x1.921f9f01b866ep+1'"
      ]
     },
     "execution_count": 23,
     "metadata": {},
     "output_type": "execute_result"
    }
   ],
   "source": [
    "x.hex()"
   ]
  },
  {
   "cell_type": "markdown",
   "id": "658789f3-7322-43b6-a757-53ac8cc050f8",
   "metadata": {},
   "source": [
    "This precise hexadecimal representation can be used to reconstruct the float value exactly:\n",
    "\n",
    "> 这种精确的十六进制表示法可以用来准确地重建浮动值："
   ]
  },
  {
   "cell_type": "code",
   "execution_count": 24,
   "id": "7a90966e-799a-4a42-86d3-749e42d813b0",
   "metadata": {},
   "outputs": [
    {
     "data": {
      "text/plain": [
       "True"
      ]
     },
     "execution_count": 24,
     "metadata": {},
     "output_type": "execute_result"
    }
   ],
   "source": [
    "x == float.fromhex('0x1.921f9f01b866ep+1')"
   ]
  },
  {
   "cell_type": "markdown",
   "id": "ec448cd5-c02c-421a-9502-f8dc668cc2c8",
   "metadata": {},
   "source": [
    "Since the representation is exact, it is useful for reliably porting values across different versions of Python (platform independence) and exchanging data with other languages that support the same format (such as Java and C99).\n",
    "\n",
    "Another helpful tool is the [`math.fsum()`](https://docs.python.org/3/library/math.html#math.fsum) function which helps mitigate loss-of-precision during summation. It tracks “lost digits” as values are added onto a running total. That can make a difference in overall accuracy so that the errors do not accumulate to the point where they affect the final total:\n",
    "\n",
    "> 由于表示法是精确的，它对于在不同版本的Python中可靠地移植数值(平台独立性)和与其他支持相同格式的语言(如Java和C99)交换数据很有用。\n",
    ">\n",
    "> 另一个有用的工具是[`math.fsum()`](https://docs.python.org/3/library/math.html#math.fsum)函数，它有助于减轻求和过程中的精度损失。当数值被添加到一个运行的总数上时，它可以跟踪 \"丢失的数字\"。这可以使总体精度有所提高，从而使误差不会累积到影响最终总数的地步。"
   ]
  },
  {
   "cell_type": "code",
   "execution_count": 2,
   "id": "7e11e242-a372-405c-9782-8b4d977769e0",
   "metadata": {},
   "outputs": [
    {
     "data": {
      "text/plain": [
       "False"
      ]
     },
     "execution_count": 2,
     "metadata": {},
     "output_type": "execute_result"
    }
   ],
   "source": [
    "sum([0.1] * 10) == 1.0"
   ]
  },
  {
   "cell_type": "code",
   "execution_count": 3,
   "id": "058004bb-e6ab-4507-b3cd-ef057bd6ff97",
   "metadata": {},
   "outputs": [
    {
     "data": {
      "text/plain": [
       "True"
      ]
     },
     "execution_count": 3,
     "metadata": {},
     "output_type": "execute_result"
    }
   ],
   "source": [
    "import math\n",
    "\n",
    "math.fsum([0.1] * 10) == 1.0"
   ]
  },
  {
   "cell_type": "markdown",
   "id": "571ae584-cecb-4905-b5f4-33aa82795bd9",
   "metadata": {},
   "source": [
    "## 15.1. Representation Error"
   ]
  },
  {
   "cell_type": "markdown",
   "id": "43a14b20-05be-481a-a534-74ee96f07794",
   "metadata": {},
   "source": [
    "This section explains the “0.1” example in detail, and shows how you can perform an exact analysis of cases like this yourself. Basic familiarity with binary floating-point representation is assumed.\n",
    "\n",
    "*Representation error* refers to the fact that some (most, actually) decimal fractions cannot be represented exactly as binary (base 2) fractions. This is the chief reason why Python (or Perl, C, C++, Java, Fortran, and many others) often won’t display the exact decimal number you expect.\n",
    "\n",
    "Why is that? 1/10 is not exactly representable as a binary fraction. Almost all machines today (November 2000) use [IEEE-754](https://en.wikipedia.org/wiki/IEEE_754) floating point arithmetic, and almost all platforms map Python floats to IEEE-754 “double precision”. 754 doubles contain 53 bits of precision, so on input the computer strives to convert 0.1 to the closest fraction it can of the form *J*/2***N* where *J* is an integer containing exactly 53 bits. Rewriting\n",
    "\n",
    "> 本节详细解释了 \"0.1 \"的例子，并展示了你如何自己对这样的情况进行精确分析。假设你对二进制浮点表示法有基本的熟悉。\n",
    ">\n",
    "> *代表性错误*指的是一些(实际上是大多数)十进制分数不能被精确地表示为二进制(基数2)分数的事实。这是Python（或Perl、C、C++、Java、Fortran和许多其它语言）经常不能显示你所期望的精确的十进制数的主要原因。\n",
    ">\n",
    "> 为什么会这样呢？1/10不能准确地表示为二进制分数。今天（2000年11月）几乎所有的机器都使用[IEEE-754](https://en.wikipedia.org/wiki/IEEE_754)浮点运算，而且几乎所有的平台都将Python浮点映射为IEEE-754 \"双精度\"。754双精度包含53比特的精度，所以在输入时，计算机努力将0.1转换成最接近的分数，其形式为*J*/2***N*，其中*J*是一个正好包含53比特的整数。重写"
   ]
  },
  {
   "cell_type": "code",
   "execution_count": 9,
   "id": "d6471830-83e2-4c48-ab92-cb230f78aeff",
   "metadata": {},
   "outputs": [
    {
     "ename": "SyntaxError",
     "evalue": "invalid syntax (532938582.py, line 1)",
     "output_type": "error",
     "traceback": [
      "\u001b[1;36m  Input \u001b[1;32mIn [9]\u001b[1;36m\u001b[0m\n\u001b[1;33m    1 / 10 ~= J / (2**N)\u001b[0m\n\u001b[1;37m           ^\u001b[0m\n\u001b[1;31mSyntaxError\u001b[0m\u001b[1;31m:\u001b[0m invalid syntax\n"
     ]
    }
   ],
   "source": [
    "1 / 10 ~= J / (2**N)"
   ]
  },
  {
   "cell_type": "markdown",
   "id": "2b3a9012-7a24-43ca-866c-f0147b5c8acf",
   "metadata": {},
   "source": [
    "as\n",
    "\n",
    "> 就像"
   ]
  },
  {
   "cell_type": "code",
   "execution_count": 10,
   "id": "37486b20-19fd-4650-85a9-6ec1fa7b6c19",
   "metadata": {},
   "outputs": [
    {
     "ename": "SyntaxError",
     "evalue": "invalid syntax (2774423799.py, line 1)",
     "output_type": "error",
     "traceback": [
      "\u001b[1;36m  Input \u001b[1;32mIn [10]\u001b[1;36m\u001b[0m\n\u001b[1;33m    J ~= 2**N / 10\u001b[0m\n\u001b[1;37m      ^\u001b[0m\n\u001b[1;31mSyntaxError\u001b[0m\u001b[1;31m:\u001b[0m invalid syntax\n"
     ]
    }
   ],
   "source": [
    "J ~= 2**N / 10"
   ]
  },
  {
   "cell_type": "markdown",
   "id": "2328a545-5bf0-4cb2-904d-eee081c5bd24",
   "metadata": {},
   "source": [
    "and recalling that *J* has exactly 53 bits (is `>= 2**52` but `< 2**53`), the best value for *N* is 56:\n",
    "\n",
    "> 并回想一下*J*正好有53位（是`>=2**52`但`<2**53`），*N*的最佳值是56："
   ]
  },
  {
   "cell_type": "code",
   "execution_count": 11,
   "id": "a1547d8f-cde4-4415-ba07-49dccc079b74",
   "metadata": {},
   "outputs": [
    {
     "data": {
      "text/plain": [
       "True"
      ]
     },
     "execution_count": 11,
     "metadata": {},
     "output_type": "execute_result"
    }
   ],
   "source": [
    "2**52 <=  2**56 // 10  < 2**53"
   ]
  },
  {
   "cell_type": "markdown",
   "id": "12096568-2f95-4bae-a640-f2f8566b7ef2",
   "metadata": {},
   "source": [
    "That is, 56 is the only value for *N* that leaves *J* with exactly 53 bits. The best possible value for *J* is then that quotient rounded:\n",
    "\n",
    "> 也就是说，56是*N*的唯一值，它使*J*正好有53位。那么，*J*的最佳值就是四舍五入的商数："
   ]
  },
  {
   "cell_type": "code",
   "execution_count": 12,
   "id": "afb9c170-9007-4f95-936c-6eeb34ece3e3",
   "metadata": {},
   "outputs": [
    {
     "data": {
      "text/plain": [
       "6"
      ]
     },
     "execution_count": 12,
     "metadata": {},
     "output_type": "execute_result"
    }
   ],
   "source": [
    "q, r = divmod(2**56, 10)\n",
    "r"
   ]
  },
  {
   "cell_type": "markdown",
   "id": "32e40a25-a864-48fe-859f-5e2a189b9893",
   "metadata": {},
   "source": [
    "Since the remainder is more than half of 10, the best approximation is obtained by rounding up:\n",
    "\n",
    "> 由于余数超过了10的一半，所以通过四舍五入可以得到最好的近似值："
   ]
  },
  {
   "cell_type": "code",
   "execution_count": 13,
   "id": "667f3aa4-c00d-4f10-afd9-df39c58fee3d",
   "metadata": {},
   "outputs": [
    {
     "data": {
      "text/plain": [
       "7205759403792794"
      ]
     },
     "execution_count": 13,
     "metadata": {},
     "output_type": "execute_result"
    }
   ],
   "source": [
    "q + 1"
   ]
  },
  {
   "cell_type": "markdown",
   "id": "48cb5db0-2fb6-47d4-92a2-31f12932d1f9",
   "metadata": {},
   "source": [
    "Therefore the best possible approximation to 1/10 in 754 double precision is:\n",
    "\n",
    "> 因此，在754双精度中对1/10的最佳近似值是："
   ]
  },
  {
   "cell_type": "code",
   "execution_count": 14,
   "id": "0eaafb67-f694-4e73-aa5b-f05cd1169a0e",
   "metadata": {},
   "outputs": [
    {
     "data": {
      "text/plain": [
       "0.1"
      ]
     },
     "execution_count": 14,
     "metadata": {},
     "output_type": "execute_result"
    }
   ],
   "source": [
    "7205759403792794 / 2 ** 56"
   ]
  },
  {
   "cell_type": "markdown",
   "id": "b298db05-c0cc-46da-b543-9d5d25901d78",
   "metadata": {},
   "source": [
    "Dividing both the numerator and denominator by two reduces the fraction to:\n",
    "\n",
    "> 分子和分母都除以2，分数就会减少到："
   ]
  },
  {
   "cell_type": "code",
   "execution_count": 15,
   "id": "1152494a-b1e3-4c7f-8a12-60f70e37bc82",
   "metadata": {},
   "outputs": [
    {
     "data": {
      "text/plain": [
       "0.1"
      ]
     },
     "execution_count": 15,
     "metadata": {},
     "output_type": "execute_result"
    }
   ],
   "source": [
    "3602879701896397 / 2 ** 55"
   ]
  },
  {
   "cell_type": "markdown",
   "id": "9a1115ee-b5d2-459e-9482-d485026bde9a",
   "metadata": {},
   "source": [
    "Note that since we rounded up, this is actually a little bit larger than 1/10; if we had not rounded up, the quotient would have been a little bit smaller than 1/10. But in no case can it be *exactly* 1/10!\n",
    "\n",
    "So the computer never “sees” 1/10: what it sees is the exact fraction given above, the best 754 double approximation it can get:\n",
    "\n",
    "> 请注意，由于我们四舍五入，这实际上是比1/10大一点；如果我们不四舍五入，商就会比1/10小一点。但在任何情况下，它都不可能是*精确的*1/10!\n",
    ">\n",
    "> 所以计算机从来没有 \"看到 \"1/10：它看到的是上面给出的精确分数，是它能得到的最好的754双精度值："
   ]
  },
  {
   "cell_type": "code",
   "execution_count": 16,
   "id": "83548bfe-567b-48da-8616-1dd515800da2",
   "metadata": {},
   "outputs": [
    {
     "data": {
      "text/plain": [
       "7205759403792794.0"
      ]
     },
     "execution_count": 16,
     "metadata": {},
     "output_type": "execute_result"
    }
   ],
   "source": [
    "0.1 * 2 ** 56"
   ]
  },
  {
   "cell_type": "markdown",
   "id": "81000211-8fab-46c1-8fac-188b91e2fc8d",
   "metadata": {},
   "source": [
    "If we multiply that fraction by 10**55, we can see the value out to 55 decimal digits:\n",
    "\n",
    "> 如果我们用这个分数乘以10**55，我们可以看到小数点后55位的数值："
   ]
  },
  {
   "cell_type": "code",
   "execution_count": 17,
   "id": "9fcdcbf3-ba8f-4221-bbf1-efd6d5d3b194",
   "metadata": {},
   "outputs": [
    {
     "data": {
      "text/plain": [
       "1000000000000000055511151231257827021181583404541015625"
      ]
     },
     "execution_count": 17,
     "metadata": {},
     "output_type": "execute_result"
    }
   ],
   "source": [
    "3602879701896397 * 10 ** 55 // 2 ** 55"
   ]
  },
  {
   "cell_type": "markdown",
   "id": "eff89261-4312-4325-ae6a-0605e5fd9e5c",
   "metadata": {},
   "source": [
    "meaning that the exact number stored in the computer is equal to the decimal value 0.1000000000000000055511151231257827021181583404541015625. Instead of displaying the full decimal value, many languages (including older versions of Python), round the result to 17 significant digits:\n",
    "\n",
    "> 意味着存储在计算机中的准确数字等于十进制数值0.1000000000000000055511151231257827021181583404541015625。许多语言（包括Python的旧版本）不显示完整的十进制数值，而是将结果四舍五入到17位有效数字："
   ]
  },
  {
   "cell_type": "code",
   "execution_count": 18,
   "id": "65f640b6-b92d-4e18-b988-f7aef2e60e56",
   "metadata": {},
   "outputs": [
    {
     "data": {
      "text/plain": [
       "'0.10000000000000001'"
      ]
     },
     "execution_count": 18,
     "metadata": {},
     "output_type": "execute_result"
    }
   ],
   "source": [
    "format(0.1, '.17f')"
   ]
  },
  {
   "cell_type": "markdown",
   "id": "4ae0a489-49bc-4afc-8ba9-5c6fd3157133",
   "metadata": {},
   "source": [
    "The [`fractions`](https://docs.python.org/3/library/fractions.html#module-fractions) and [`decimal`](https://docs.python.org/3/library/decimal.html#module-decimal) modules make these calculations easy:\n",
    "\n",
    "> [`fractions`](https://docs.python.org/3/library/fractions.html#module-fractions)和[`decimal`](https://docs.python.org/3/library/decimal.html#module-decimal)模块使这些计算变得简单："
   ]
  },
  {
   "cell_type": "code",
   "execution_count": 19,
   "id": "fc0d1aa1-e806-4281-8d48-790b35ed0a37",
   "metadata": {},
   "outputs": [
    {
     "data": {
      "text/plain": [
       "Fraction(3602879701896397, 36028797018963968)"
      ]
     },
     "execution_count": 19,
     "metadata": {},
     "output_type": "execute_result"
    }
   ],
   "source": [
    "from decimal import Decimal\n",
    "from fractions import Fraction\n",
    "\n",
    "Fraction.from_float(0.1)"
   ]
  },
  {
   "cell_type": "code",
   "execution_count": 20,
   "id": "b716d494-e5b1-434d-a445-478212f88b3d",
   "metadata": {},
   "outputs": [
    {
     "data": {
      "text/plain": [
       "(3602879701896397, 36028797018963968)"
      ]
     },
     "execution_count": 20,
     "metadata": {},
     "output_type": "execute_result"
    }
   ],
   "source": [
    "(0.1).as_integer_ratio()"
   ]
  },
  {
   "cell_type": "code",
   "execution_count": 21,
   "id": "f08f27a6-b30a-48fc-b1ca-20d1586932a2",
   "metadata": {},
   "outputs": [
    {
     "data": {
      "text/plain": [
       "Decimal('0.1000000000000000055511151231257827021181583404541015625')"
      ]
     },
     "execution_count": 21,
     "metadata": {},
     "output_type": "execute_result"
    }
   ],
   "source": [
    "Decimal.from_float(0.1)"
   ]
  },
  {
   "cell_type": "code",
   "execution_count": 22,
   "id": "b988eeb3-04de-4d66-8d58-2607c437d6a3",
   "metadata": {},
   "outputs": [
    {
     "data": {
      "text/plain": [
       "'0.10000000000000001'"
      ]
     },
     "execution_count": 22,
     "metadata": {},
     "output_type": "execute_result"
    }
   ],
   "source": [
    "format(Decimal.from_float(0.1), '.17')"
   ]
  }
 ],
 "metadata": {
  "kernelspec": {
   "display_name": "Python 3 (ipykernel)",
   "language": "python",
   "name": "python3"
  },
  "language_info": {
   "codemirror_mode": {
    "name": "ipython",
    "version": 3
   },
   "file_extension": ".py",
   "mimetype": "text/x-python",
   "name": "python",
   "nbconvert_exporter": "python",
   "pygments_lexer": "ipython3",
   "version": "3.10.4"
  }
 },
 "nbformat": 4,
 "nbformat_minor": 5
}
