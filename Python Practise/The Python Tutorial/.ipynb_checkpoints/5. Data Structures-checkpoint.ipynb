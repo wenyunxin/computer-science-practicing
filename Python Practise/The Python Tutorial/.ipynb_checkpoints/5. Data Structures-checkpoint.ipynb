{
 "cells": [
  {
   "cell_type": "code",
   "execution_count": 1,
   "id": "7601cb04-f5de-411b-9043-c03288b6cabc",
   "metadata": {},
   "outputs": [],
   "source": [
    "from IPython.core.interactiveshell import InteractiveShell\n",
    "InteractiveShell.ast_node_interactivity = \"all\""
   ]
  },
  {
   "cell_type": "markdown",
   "id": "749f7e8b-b23f-4a2c-a1ae-4e4785d01038",
   "metadata": {},
   "source": [
    "This chapter describes some things you’ve learned about already in more detail, and adds some new things as well.\n",
    "\n",
    "> 本章更详细地描述了你已经学过的一些东西，同时也增加了一些新的东西。"
   ]
  },
  {
   "cell_type": "markdown",
   "id": "3110e5d3-ae13-4565-9956-0705b6b125d6",
   "metadata": {},
   "source": [
    "## 5.1. More on Lists"
   ]
  },
  {
   "cell_type": "markdown",
   "id": "446a45e8-19ee-4bd3-bbc6-68be6ccf9e89",
   "metadata": {},
   "source": [
    "The list data type has some more methods. Here are all of the methods of list objects:\n",
    "\n",
    "> 列表数据类型还有一些方法。下面是列表对象的所有方法："
   ]
  },
  {
   "cell_type": "markdown",
   "id": "1b09950d-5de1-42e1-83f4-03baf15d1f38",
   "metadata": {},
   "source": [
    "list.**append**(*x*)\n",
    "\n",
    "​    Add an item to the end of the list. Equivalent to `a[len(a):] = [x]`.\n",
    "\n",
    "> list.**append**(*x*)\n",
    ">\n",
    "> ​    在列表的末尾添加一个项目。相当于 `a[len(a):] = [x]`。"
   ]
  },
  {
   "cell_type": "markdown",
   "id": "f181b48a-1da0-4516-8705-a2e19f84aadd",
   "metadata": {},
   "source": [
    "list.**extend**(*iterable*)\n",
    "\n",
    "Extend the list by appending all the items from the iterable. Equivalent to `a[len(a):] = iterable`.\n",
    "\n",
    "> list.**extend**(*iterable*)\n",
    ">\n",
    "> 通过追加迭代器中的所有项目来扩展列表。相当于 `a[len(a):] = iterable`。"
   ]
  },
  {
   "cell_type": "markdown",
   "id": "9c61d724-cf54-45e8-98db-582741a5f210",
   "metadata": {},
   "source": [
    "list.**insert**(*i*, *x*)\n",
    "\n",
    "Insert an item at a given position. The first argument is the index of the element before which to insert, so `a.insert(0, x)` inserts at the front of the list, and `a.insert(len(a), x)` is equivalent to `a.append(x)`.\n",
    "\n",
    "> list.**insert**(*i*, *x*)\n",
    ">\n",
    "> 在一个给定的位置插入一个项目。第一个参数是要插入的元素的索引，所以`a.insert(0, x)`在列表的前面插入，`a.insert(len(a), x)`等同于`a.append(x)`。"
   ]
  },
  {
   "cell_type": "markdown",
   "id": "bfc8aaf4-20ae-4205-bef0-9e7c2188eafd",
   "metadata": {},
   "source": [
    "list.**remove**(*x*)\n",
    "\n",
    "Remove the first item from the list whose value is equal to *x*. It raises a [`ValueError`](https://docs.python.org/3/library/exceptions.html#ValueError) if there is no such item.\n",
    "\n",
    "> list.**remove**(*x*)\n",
    ">\n",
    "> 从列表中移除第一个值等于*x*的项目。如果没有这样的项目，它会引发一个 [`ValueError`](https://docs.python.org/3/library/exceptions.html#ValueError)。"
   ]
  },
  {
   "cell_type": "markdown",
   "id": "3d512a21-3ed5-425d-83c8-d69870830dd4",
   "metadata": {},
   "source": [
    "list.**pop**([*i*])\n",
    "\n",
    "Remove the item at the given position in the list, and return it. If no index is specified, `a.pop()` removes and returns the last item in the list. (The square brackets around the *i* in the method signature denote that the parameter is optional, not that you should type square brackets at that position. You will see this notation frequently in the Python Library Reference.)\n",
    "\n",
    "> list.**pop**([*i*])\n",
    ">\n",
    "> 删除列表中给定位置的项目，并返回该项目。如果没有指定索引，`a.pop()`将删除并返回列表中的最后一个项目。(方法署名中*i*周围的方括号表示该参数是可选的，而不是说你应该在该位置输入方括号。你会在 Python Library Reference 中经常看到这个符号）。"
   ]
  },
  {
   "cell_type": "markdown",
   "id": "e68e716f-d6a8-466a-8352-fcc6a7aa6070",
   "metadata": {},
   "source": [
    "list.**clear**()\n",
    "\n",
    "Remove all items from the list. Equivalent to `del a[:]`.\n",
    "\n",
    "> list.**clear**()\n",
    ">\n",
    "> 从列表中删除所有项目。相当于`del a[:]`。"
   ]
  },
  {
   "cell_type": "markdown",
   "id": "b40cf3e8-8f93-4f7a-bcc6-da70aca02c45",
   "metadata": {},
   "source": [
    "list.**index**(*x*[, *start*[, *end*]])\n",
    "\n",
    "Return zero-based index in the list of the first item whose value is equal to *x*. Raises a [`ValueError`](https://docs.python.org/3/library/exceptions.html#ValueError) if there is no such item.\n",
    "\n",
    "The optional arguments *start* and *end* are interpreted as in the slice notation and are used to limit the search to a particular subsequence of the list. The returned index is computed relative to the beginning of the full sequence rather than the *start* argument.\n",
    "\n",
    "> list.**index**(*x*[, *start*[, *end*]])\n",
    ">\n",
    "> 返回列表中第一个值等于*x*的项目的零基索引。如果没有这样的项目，会引发一个[`ValueError`](https://docs.python.org/3/library/exceptions.html#ValueError)。\n",
    ">\n",
    "> 可选的参数*start*和*end*被解释为切片符号，用于限制搜索到列表的特定子序列。返回的索引是相对于整个序列的开始而不是*start*参数计算的。"
   ]
  },
  {
   "cell_type": "markdown",
   "id": "e8cf022f-f0db-4613-85db-bdf21c6c4486",
   "metadata": {},
   "source": [
    "list.**count**(*x*)\n",
    "\n",
    "Return the number of times *x* appears in the list.\n",
    "\n",
    "> list.**count**(*x*)\n",
    ">\n",
    "> 返回*x*在列表中出现的次数。"
   ]
  },
  {
   "cell_type": "markdown",
   "id": "adf85138-2ccd-4abb-9780-d1a123f160fc",
   "metadata": {},
   "source": [
    "list.**sort**(*, *key=None*, *reverse=False*)\n",
    "\n",
    "Sort the items of the list in place (the arguments can be used for sort customization, see [`sorted()`](https://docs.python.org/3/library/functions.html#sorted) for their explanation).\n",
    "\n",
    "> list.**sort**(*, *key=None*, *reverse=False*)\n",
    ">\n",
    "> 对列表中的项目进行原地排序（参数可用于排序定制，其解释见 [`sorted()`](https://docs.python.org/3/library/functions.html#sorted)）。"
   ]
  },
  {
   "cell_type": "markdown",
   "id": "b889227c-3a85-48eb-9db7-932748cd0a56",
   "metadata": {},
   "source": [
    "list.**reverse**()\n",
    "\n",
    "Reverse the elements of the list in place.\n",
    "\n",
    "> list.**reverse**()\n",
    ">\n",
    "> 将列表中的元素原地反转。"
   ]
  },
  {
   "cell_type": "markdown",
   "id": "c3ccc7ce-5d34-45f4-8c97-dd684c0e30e4",
   "metadata": {},
   "source": [
    "list.**copy**()\n",
    "\n",
    "Return a shallow copy of the list. Equivalent to `a[:]`.\n",
    "\n",
    "> list.**copy**()\n",
    ">\n",
    "> 返回列表的一个浅层拷贝。等同于 `a[:]`。"
   ]
  },
  {
   "cell_type": "markdown",
   "id": "c5cd3c08-afb3-4a23-bd92-e24c9efadb3f",
   "metadata": {},
   "source": [
    "An example that uses most of the list methods:\n",
    "\n",
    "> 一个使用大部分列表方法的例子："
   ]
  },
  {
   "cell_type": "code",
   "execution_count": 3,
   "id": "4cd81cf2-fee3-4b10-a59c-574a6539d7fa",
   "metadata": {},
   "outputs": [
    {
     "data": {
      "text/plain": [
       "2"
      ]
     },
     "execution_count": 3,
     "metadata": {},
     "output_type": "execute_result"
    },
    {
     "data": {
      "text/plain": [
       "0"
      ]
     },
     "execution_count": 3,
     "metadata": {},
     "output_type": "execute_result"
    },
    {
     "data": {
      "text/plain": [
       "3"
      ]
     },
     "execution_count": 3,
     "metadata": {},
     "output_type": "execute_result"
    },
    {
     "data": {
      "text/plain": [
       "6"
      ]
     },
     "execution_count": 3,
     "metadata": {},
     "output_type": "execute_result"
    },
    {
     "data": {
      "text/plain": [
       "['banana', 'apple', 'kiwi', 'banana', 'pear', 'apple', 'orange']"
      ]
     },
     "execution_count": 3,
     "metadata": {},
     "output_type": "execute_result"
    },
    {
     "data": {
      "text/plain": [
       "['banana', 'apple', 'kiwi', 'banana', 'pear', 'apple', 'orange', 'grape']"
      ]
     },
     "execution_count": 3,
     "metadata": {},
     "output_type": "execute_result"
    },
    {
     "data": {
      "text/plain": [
       "['apple', 'apple', 'banana', 'banana', 'grape', 'kiwi', 'orange', 'pear']"
      ]
     },
     "execution_count": 3,
     "metadata": {},
     "output_type": "execute_result"
    },
    {
     "data": {
      "text/plain": [
       "'pear'"
      ]
     },
     "execution_count": 3,
     "metadata": {},
     "output_type": "execute_result"
    }
   ],
   "source": [
    "fruits = ['orange', 'apple', 'pear', 'banana', 'kiwi', 'apple', 'banana']\n",
    "fruits.count('apple')\n",
    "\n",
    "fruits.count('tangerine')\n",
    "\n",
    "fruits.index('banana')\n",
    "\n",
    "fruits.index('banana', 4)  # Find next banana starting a position 4\n",
    "\n",
    "fruits.reverse()\n",
    "fruits\n",
    "\n",
    "fruits.append('grape')\n",
    "fruits\n",
    "\n",
    "fruits.sort()\n",
    "fruits\n",
    "\n",
    "fruits.pop()"
   ]
  },
  {
   "cell_type": "markdown",
   "id": "96bde313-b7bd-4057-82d4-0f82525418ed",
   "metadata": {},
   "source": [
    "You might have noticed that methods like `insert`, `remove` or `sort` that only modify the list have no return value printed – they return the default `None`. [1](https://docs.python.org/3/tutorial/datastructures.html#id2) This is a design principle for all mutable data structures in Python.\n",
    "\n",
    "> 你可能已经注意到，像 `insert`, `remove` 或 `sort` 这样只修改列表的方法没有打印返回值 - 它们返回默认的 `None`。[1] 这是 Python 中所有可变数据结构的设计原则。"
   ]
  },
  {
   "cell_type": "markdown",
   "id": "aa1bc205-6604-4b70-9b02-6b4e578c62ab",
   "metadata": {},
   "source": [
    "Another thing you might notice is that not all data can be sorted or compared. For instance, `[None, 'hello', 10]` doesn’t sort because integers can’t be compared to strings and *None* can’t be compared to other types. Also, there are some types that don’t have a defined ordering relation. For example, `3+4j < 5+7j` isn’t a valid comparison.\n",
    "\n",
    "> 你可能注意到的另一件事是，不是所有的数据都能被排序或比较。例如，`[None, 'hello', 10]`不能排序，因为整数不能与字符串比较，*None*不能与其他类型比较。另外，有一些类型没有定义的排序关系。例如，`3+4j < 5+7j`不是一个有效的比较。"
   ]
  },
  {
   "cell_type": "markdown",
   "id": "90dcbdf8-debe-40e8-aec2-d7c65d27d8d5",
   "metadata": {},
   "source": [
    "### 5.1.1. Using Lists as Stacks"
   ]
  },
  {
   "cell_type": "markdown",
   "id": "e7118faa-9b51-4692-982b-19e82d519600",
   "metadata": {},
   "source": [
    "The list methods make it very easy to use a list as a stack, where the last element added is the first element retrieved (“last-in, first-out”). To add an item to the top of the stack, use `append()`. To retrieve an item from the top of the stack, use `pop()` without an explicit index. For example:\n",
    "\n",
    "> 列表方法使得使用列表作为一个堆栈变得非常容易，其中最后添加的元素是第一个被取回的元素（\"last-in, first-out\"）。要将一个项目添加到堆栈的顶部，使用 `append()`。要从栈顶取回一个项目，使用`pop()`，没有明确的索引。比如说："
   ]
  },
  {
   "cell_type": "code",
   "execution_count": 4,
   "id": "bc9bb0c1-233a-4024-858e-0862973de339",
   "metadata": {},
   "outputs": [
    {
     "data": {
      "text/plain": [
       "[3, 4, 5, 6, 7]"
      ]
     },
     "execution_count": 4,
     "metadata": {},
     "output_type": "execute_result"
    },
    {
     "data": {
      "text/plain": [
       "7"
      ]
     },
     "execution_count": 4,
     "metadata": {},
     "output_type": "execute_result"
    },
    {
     "data": {
      "text/plain": [
       "[3, 4, 5, 6]"
      ]
     },
     "execution_count": 4,
     "metadata": {},
     "output_type": "execute_result"
    },
    {
     "data": {
      "text/plain": [
       "6"
      ]
     },
     "execution_count": 4,
     "metadata": {},
     "output_type": "execute_result"
    },
    {
     "data": {
      "text/plain": [
       "5"
      ]
     },
     "execution_count": 4,
     "metadata": {},
     "output_type": "execute_result"
    },
    {
     "data": {
      "text/plain": [
       "[3, 4]"
      ]
     },
     "execution_count": 4,
     "metadata": {},
     "output_type": "execute_result"
    }
   ],
   "source": [
    "stack = [3, 4, 5]\n",
    "stack.append(6)\n",
    "stack.append(7)\n",
    "stack\n",
    "\n",
    "stack.pop()\n",
    "\n",
    "stack\n",
    "\n",
    "stack.pop()\n",
    "\n",
    "stack.pop()\n",
    "\n",
    "stack"
   ]
  },
  {
   "cell_type": "markdown",
   "id": "1dbfc1ec-580d-4eab-ae33-36c07d7f9b70",
   "metadata": {},
   "source": [
    "### 5.1.2. Using Lists as Queues"
   ]
  },
  {
   "cell_type": "markdown",
   "id": "c470b046-d50d-4a00-9804-73c3892ca05c",
   "metadata": {},
   "source": [
    "It is also possible to use a list as a queue, where the first element added is the first element retrieved (“first-in, first-out”); however, lists are not efficient for this purpose. While appends and pops from the end of list are fast, doing inserts or pops from the beginning of a list is slow (because all of the other elements have to be shifted by one).\n",
    "\n",
    "> 也可以把列表作为一个队列，第一个添加的元素就是第一个取回的元素（\"first-in, first-out\"）；但是，列表在这个用途上并不高效。虽然从列表的末尾追加和弹出是快速的，但从列表的开头插入或弹出是缓慢的（因为所有其他的元素都要移位一个）。"
   ]
  },
  {
   "cell_type": "markdown",
   "id": "408d12b2-7ab5-43fb-b928-5a458b173c4e",
   "metadata": {},
   "source": [
    "To implement a queue, use [`collections.deque`](https://docs.python.org/3/library/collections.html#collections.deque) which was designed to have fast appends and pops from both ends. For example:\n",
    "\n",
    "> 要实现一个队列，可以使用[`collections.deque`](https://docs.python.org/3/library/collections.html#collections.deque)，它被设计成可以从两端快速追加和弹出。比如说。"
   ]
  },
  {
   "cell_type": "code",
   "execution_count": 5,
   "id": "d41540ca-8c47-4d55-81ef-5c32214c25bd",
   "metadata": {},
   "outputs": [
    {
     "data": {
      "text/plain": [
       "'Eric'"
      ]
     },
     "execution_count": 5,
     "metadata": {},
     "output_type": "execute_result"
    },
    {
     "data": {
      "text/plain": [
       "'John'"
      ]
     },
     "execution_count": 5,
     "metadata": {},
     "output_type": "execute_result"
    },
    {
     "data": {
      "text/plain": [
       "deque(['Michael', 'Terry', 'Graham'])"
      ]
     },
     "execution_count": 5,
     "metadata": {},
     "output_type": "execute_result"
    }
   ],
   "source": [
    "from collections import deque\n",
    "queue = deque([\"Eric\", \"John\", \"Michael\"])\n",
    "queue.append(\"Terry\")           # Terry arrives\n",
    "queue.append(\"Graham\")          # Graham arrives\n",
    "queue.popleft()                 # The first to arrive now leaves\n",
    "\n",
    "queue.popleft()                 # The second to arrive now leaves\n",
    "\n",
    "queue                           # Remaining queue in order of arrival"
   ]
  },
  {
   "cell_type": "markdown",
   "id": "98b276f0-d15b-4c13-b5df-99e1fc8b6e55",
   "metadata": {},
   "source": [
    "### 5.1.3. List Comprehensions"
   ]
  },
  {
   "cell_type": "markdown",
   "id": "f17f26fc-1135-4ca2-9c1e-e1eb6d12782e",
   "metadata": {},
   "source": [
    "List comprehensions provide a concise way to create lists. Common applications are to make new lists where each element is the result of some operations applied to each member of another sequence or iterable, or to create a subsequence of those elements that satisfy a certain condition.\n",
    "\n",
    "> 列表解析提供了一种创建列表的简明方式。常见的应用是创建新的列表，其中每个元素都是应用于另一个序列或可迭代的每个成员的一些操作的结果，或者创建一个满足某个条件的元素的子序列。"
   ]
  },
  {
   "cell_type": "markdown",
   "id": "25457275-9088-4b47-a393-f3c34a08ebeb",
   "metadata": {},
   "source": [
    "For example, assume we want to create a list of squares, like:\n",
    "\n",
    "> 例如，假设我们想创建一个平方的列表，如："
   ]
  },
  {
   "cell_type": "code",
   "execution_count": 6,
   "id": "f85565fe-5d9b-42f2-81c5-cc6c3aed648c",
   "metadata": {},
   "outputs": [
    {
     "data": {
      "text/plain": [
       "[0, 1, 4, 9, 16, 25, 36, 49, 64, 81]"
      ]
     },
     "execution_count": 6,
     "metadata": {},
     "output_type": "execute_result"
    }
   ],
   "source": [
    "squares = []\n",
    "for x in range(10):\n",
    "    squares.append(x**2)\n",
    "\n",
    "squares"
   ]
  },
  {
   "cell_type": "markdown",
   "id": "3af0b187-bcad-423b-8c49-9a7ae7b9a545",
   "metadata": {},
   "source": [
    "Note that this creates (or overwrites) a variable named `x` that still exists after the loop completes. We can calculate the list of squares without any side effects using:\n",
    "\n",
    "> 注意，这将创建（或覆盖）一个名为`x`的变量，该变量在循环完成后仍然存在。我们可以在没有任何副作用的情况下，用以下方法计算出平方数列表："
   ]
  },
  {
   "cell_type": "code",
   "execution_count": 11,
   "id": "d3444ebb-b93c-4381-b670-ce2f6b66de9b",
   "metadata": {},
   "outputs": [
    {
     "data": {
      "text/plain": [
       "[0, 1, 4, 9, 16, 25, 36, 49, 64, 81]"
      ]
     },
     "execution_count": 11,
     "metadata": {},
     "output_type": "execute_result"
    }
   ],
   "source": [
    "squares = list(map(lambda x: x**2, range(10)))\n",
    "squares"
   ]
  },
  {
   "cell_type": "markdown",
   "id": "7f7a8b6c-6cbb-49b0-83a5-1ff279ce28eb",
   "metadata": {},
   "source": [
    "or, equivalently:\n",
    "\n",
    "> 或者，等同于："
   ]
  },
  {
   "cell_type": "code",
   "execution_count": 12,
   "id": "6cb39dcd-60f6-4432-b985-b68f4b274a23",
   "metadata": {},
   "outputs": [
    {
     "data": {
      "text/plain": [
       "[0, 1, 4, 9, 16, 25, 36, 49, 64, 81]"
      ]
     },
     "execution_count": 12,
     "metadata": {},
     "output_type": "execute_result"
    }
   ],
   "source": [
    "squares = [x**2 for x in range(10)]\n",
    "squares"
   ]
  },
  {
   "cell_type": "markdown",
   "id": "636e015f-1ac8-41e4-9a8b-23a739bc22fe",
   "metadata": {},
   "source": [
    "which is more concise and readable.\n",
    "\n",
    "> 这是更简洁、更易读的。"
   ]
  },
  {
   "cell_type": "markdown",
   "id": "009ecb78-21f4-42a2-8bcf-89d6ba994cec",
   "metadata": {},
   "source": [
    "A list comprehension consists of brackets containing an expression followed by a `for` clause, then zero or more `for` or `if` clauses. The result will be a new list resulting from evaluating the expression in the context of the `for` and `if` clauses which follow it. For example, this listcomp combines the elements of two lists if they are not equal:\n",
    "\n",
    "> 列表解析由包含一个表达式的括号组成，后面是一个`for`子句，然后是零个或多个`for`或`if`子句。结果是一个新的列表，它是在后面的 `for`和 `if`子句的上下文中对该表达式进行运算求值的结果。例如，如果两个列表的元素不相等，这个listcomp就会把它们组合起来："
   ]
  },
  {
   "cell_type": "code",
   "execution_count": 13,
   "id": "2eaed1d2-70f0-468f-b5e8-19816b682cf5",
   "metadata": {},
   "outputs": [
    {
     "data": {
      "text/plain": [
       "[(1, 3), (1, 4), (2, 3), (2, 1), (2, 4), (3, 1), (3, 4)]"
      ]
     },
     "execution_count": 13,
     "metadata": {},
     "output_type": "execute_result"
    }
   ],
   "source": [
    "[(x, y) for x in [1,2,3] for y in [3,1,4] if x != y]"
   ]
  },
  {
   "cell_type": "markdown",
   "id": "9d72d0c6-fd12-4a09-bcf8-fd1b84826766",
   "metadata": {},
   "source": [
    "and it’s equivalent to:\n",
    "\n",
    "> 并相当于："
   ]
  },
  {
   "cell_type": "code",
   "execution_count": 14,
   "id": "223fd902-d54c-495e-acf4-6daf3703d8b4",
   "metadata": {},
   "outputs": [
    {
     "data": {
      "text/plain": [
       "[(1, 3), (1, 4), (2, 3), (2, 1), (2, 4), (3, 1), (3, 4)]"
      ]
     },
     "execution_count": 14,
     "metadata": {},
     "output_type": "execute_result"
    }
   ],
   "source": [
    "combs = []\n",
    "for x in [1,2,3]:\n",
    "    for y in [3,1,4]:\n",
    "        if x != y:\n",
    "            combs.append((x, y))\n",
    "\n",
    "combs"
   ]
  },
  {
   "cell_type": "markdown",
   "id": "6b4da882-23b3-4f0d-8017-67ad23644f94",
   "metadata": {},
   "source": [
    "Note how the order of the [`for`](https://docs.python.org/3/reference/compound_stmts.html#for) and [`if`](https://docs.python.org/3/reference/compound_stmts.html#if) statements is the same in both these snippets.\n",
    "\n",
    "> 注意[`for`](https://docs.python.org/3/reference/compound_stmts.html#for)和[`if`](https://docs.python.org/3/reference/compound_stmts.html#if)语句的顺序在这两个代码段中是如何相同的。"
   ]
  },
  {
   "cell_type": "markdown",
   "id": "9fa3a13d-8c19-4149-93a8-3b8e978b630d",
   "metadata": {},
   "source": [
    "If the expression is a tuple (e.g. the `(x, y)` in the previous example), it must be parenthesized.\n",
    "\n",
    "> 如果表达式是一个元组（例如前面例子中的`(x, y)`），它必须用括号表示。"
   ]
  },
  {
   "cell_type": "code",
   "execution_count": 17,
   "id": "ef7b7fd9-adb5-4b8b-8b78-1a759698cc30",
   "metadata": {},
   "outputs": [
    {
     "data": {
      "text/plain": [
       "[-8, -4, 0, 4, 8]"
      ]
     },
     "execution_count": 17,
     "metadata": {},
     "output_type": "execute_result"
    },
    {
     "data": {
      "text/plain": [
       "[0, 2, 4]"
      ]
     },
     "execution_count": 17,
     "metadata": {},
     "output_type": "execute_result"
    },
    {
     "data": {
      "text/plain": [
       "[4, 2, 0, 2, 4]"
      ]
     },
     "execution_count": 17,
     "metadata": {},
     "output_type": "execute_result"
    },
    {
     "data": {
      "text/plain": [
       "['banana', 'loganberry', 'passion fruit']"
      ]
     },
     "execution_count": 17,
     "metadata": {},
     "output_type": "execute_result"
    },
    {
     "data": {
      "text/plain": [
       "[(0, 0), (1, 1), (2, 4), (3, 9), (4, 16), (5, 25)]"
      ]
     },
     "execution_count": 17,
     "metadata": {},
     "output_type": "execute_result"
    },
    {
     "data": {
      "text/plain": [
       "[(0, 0), (1, 1), (2, 4), (3, 9), (4, 16), (5, 25)]"
      ]
     },
     "execution_count": 17,
     "metadata": {},
     "output_type": "execute_result"
    },
    {
     "data": {
      "text/plain": [
       "[1, 2, 3, 4, 5, 6, 7, 8, 9]"
      ]
     },
     "execution_count": 17,
     "metadata": {},
     "output_type": "execute_result"
    }
   ],
   "source": [
    "vec = [-4, -2, 0, 2, 4]\n",
    "# create a new list with the values doubled\n",
    "[x*2 for x in vec]\n",
    "\n",
    "# filter the list to exclude negative numbers\n",
    "[x for x in vec if x >= 0]\n",
    "\n",
    "# apply a function to all the elements\n",
    "[abs(x) for x in vec]\n",
    "\n",
    "# call a method on each element\n",
    "freshfruit = ['  banana', '  loganberry ', 'passion fruit  ']\n",
    "[weapon.strip() for weapon in freshfruit]\n",
    "\n",
    "# create a list of 2-tuples like (number, square)\n",
    "[(x, x**2) for x in range(6)]\n",
    "\n",
    "# the tuple must be parenthesized, otherwise an error is raised\n",
    "[(x, x**2) for x in range(6)]\n",
    "\n",
    "\n",
    "\n",
    "\n",
    "# flatten a list using a listcomp with two 'for'\n",
    "vec = [[1,2,3], [4,5,6], [7,8,9]]\n",
    "[num for elem in vec for num in elem]"
   ]
  },
  {
   "cell_type": "code",
   "execution_count": 19,
   "id": "407a97b4-d8b9-45e2-ba49-4e88e7521902",
   "metadata": {},
   "outputs": [
    {
     "data": {
      "text/plain": [
       "[1, 2, 3, 4, 5, 6, 7, 8, 9]"
      ]
     },
     "execution_count": 19,
     "metadata": {},
     "output_type": "execute_result"
    }
   ],
   "source": [
    "# the last one of above cell is equvivalent to:\n",
    "\n",
    "list1 = []\n",
    "for elem in vec:\n",
    "    for num in elem:\n",
    "        list1.append(num)\n",
    "        \n",
    "list1"
   ]
  },
  {
   "cell_type": "markdown",
   "id": "4ab76415-f4c0-41ff-bb32-bf557368e32e",
   "metadata": {},
   "source": [
    "List comprehensions can contain complex expressions and nested functions:\n",
    "\n",
    "> 列表解析可以包含复杂的表达式和嵌套函数。"
   ]
  },
  {
   "cell_type": "code",
   "execution_count": 20,
   "id": "8779086f-2fa2-4c2d-8de8-52c9e390ca1c",
   "metadata": {},
   "outputs": [
    {
     "data": {
      "text/plain": [
       "['3.1', '3.14', '3.142', '3.1416', '3.14159']"
      ]
     },
     "execution_count": 20,
     "metadata": {},
     "output_type": "execute_result"
    }
   ],
   "source": [
    "from math import pi\n",
    "[str(round(pi, i)) for i in range(1, 6)]"
   ]
  },
  {
   "cell_type": "markdown",
   "id": "d76a4239-e515-4714-b535-f4daf3685bac",
   "metadata": {},
   "source": [
    "### 5.1.4. Nested List Comprehensions"
   ]
  },
  {
   "cell_type": "markdown",
   "id": "0b2cca88-1d8d-4b9e-a799-0a87fdffd9fc",
   "metadata": {},
   "source": [
    "The initial expression in a list comprehension can be any arbitrary expression, including another list comprehension.\n",
    "\n",
    "> 列表解析式中的初始表达式可以是任何任意的表达式，包括另一个列表解析式。"
   ]
  },
  {
   "cell_type": "markdown",
   "id": "8f992ffa-27ac-4b0e-8a13-6eb4be8e1679",
   "metadata": {},
   "source": [
    "Consider the following example of a 3x4 matrix implemented as a list of 3 lists of length 4:\n",
    "\n",
    "> 思考以下例子，一个3x4矩阵被实现为由3个长度为4的列表组成的列表："
   ]
  },
  {
   "cell_type": "code",
   "execution_count": 1,
   "id": "183cbade-7792-40f3-9fa6-4c85a143db1d",
   "metadata": {},
   "outputs": [],
   "source": [
    "matrix = [\n",
    "    [1, 2, 3, 4],\n",
    "    [5, 6, 7, 8],\n",
    "    [9, 10, 11, 12],\n",
    "]"
   ]
  },
  {
   "cell_type": "markdown",
   "id": "d924ead5-22f8-4d0a-8eee-bb961e5f3937",
   "metadata": {},
   "source": [
    "The following list comprehension will transpose rows and columns:\n",
    "\n",
    "> 下面的列表解析式将对行和列进行转置："
   ]
  },
  {
   "cell_type": "code",
   "execution_count": 10,
   "id": "ed720c7e-8092-4d22-8110-173b44fe14fd",
   "metadata": {},
   "outputs": [
    {
     "data": {
      "text/plain": [
       "[[1, 5, 9], [2, 6, 10], [3, 7, 11], [4, 8, 12]]"
      ]
     },
     "execution_count": 10,
     "metadata": {},
     "output_type": "execute_result"
    }
   ],
   "source": [
    "[[row[i] for row in matrix] for i in range(4)]\n"
   ]
  },
  {
   "cell_type": "markdown",
   "id": "69324761-4a37-4616-b12c-00c6c3981d5b",
   "metadata": {},
   "source": [
    "As we saw in the previous section, the nested listcomp is evaluated in the context of the [`for`](https://docs.python.org/3/reference/compound_stmts.html#for) that follows it, so this example is equivalent to:\n",
    "\n",
    "> 正如我们在上一节看到的，嵌套的listcomp是在它后面的[`for`](https://docs.python.org/3/reference/compound_stmts.html#for)的上下文中进行运算求值的，所以这个例子相当于："
   ]
  },
  {
   "cell_type": "code",
   "execution_count": 13,
   "id": "2e82ee03-db83-4c8b-a85f-cbcd696b5f95",
   "metadata": {},
   "outputs": [
    {
     "data": {
      "text/plain": [
       "[[1, 5, 9], [2, 6, 10], [3, 7, 11], [4, 8, 12]]"
      ]
     },
     "execution_count": 13,
     "metadata": {},
     "output_type": "execute_result"
    }
   ],
   "source": [
    "transposed = []\n",
    "for i in range(4):\n",
    "    transposed.append([row[i] for row in matrix])\n",
    "\n",
    "transposed"
   ]
  },
  {
   "cell_type": "markdown",
   "id": "2fb83a53-986f-4cff-b6bd-2ab4bf6ecc80",
   "metadata": {},
   "source": [
    "which, in turn, is the same as:\n",
    "\n",
    "> 而这一点又与下面相同："
   ]
  },
  {
   "cell_type": "code",
   "execution_count": 14,
   "id": "3dec9272-a8d3-4090-908c-779d2d1bec29",
   "metadata": {},
   "outputs": [
    {
     "data": {
      "text/plain": [
       "[[1, 5, 9], [2, 6, 10], [3, 7, 11], [4, 8, 12]]"
      ]
     },
     "execution_count": 14,
     "metadata": {},
     "output_type": "execute_result"
    }
   ],
   "source": [
    "transposed = []\n",
    "for i in range(4):\n",
    "    # the following 3 lines implement the nested listcomp\n",
    "    transposed_row = []\n",
    "    for row in matrix:\n",
    "        transposed_row.append(row[i])\n",
    "    transposed.append(transposed_row)\n",
    "\n",
    "transposed"
   ]
  },
  {
   "cell_type": "markdown",
   "id": "0fc882fe-a7bb-43e6-afb4-3ef6960abee7",
   "metadata": {},
   "source": [
    "In the real world, you should prefer built-in functions to complex flow statements. The [`zip()`](https://docs.python.org/3/library/functions.html#zip) function would do a great job for this use case:\n",
    "\n",
    "> 在现实世界中，你应该更喜欢内置函数而不是复杂的流程语句。[`zip()`](https://docs.python.org/3/library/functions.html#zip)函数将为这个用例做一个很好的工作。"
   ]
  },
  {
   "cell_type": "code",
   "execution_count": 16,
   "id": "10a2a539-b232-400c-a9a7-7fb3ec00c824",
   "metadata": {},
   "outputs": [
    {
     "data": {
      "text/plain": [
       "[(1, 5, 9), (2, 6, 10), (3, 7, 11), (4, 8, 12)]"
      ]
     },
     "execution_count": 16,
     "metadata": {},
     "output_type": "execute_result"
    }
   ],
   "source": [
    "list(zip(*matrix))"
   ]
  },
  {
   "cell_type": "markdown",
   "id": "5a237167-f384-48c0-a2a5-09d07311e1eb",
   "metadata": {},
   "source": [
    "See [Unpacking Argument Lists](https://docs.python.org/3/tutorial/controlflow.html#tut-unpacking-arguments) for details on the asterisk in this line.\n",
    "\n",
    "> 关于这一行的星号，请参见[解包参数列表](https://docs.python.org/3/tutorial/controlflow.html#tut-unpacking-arguments)。"
   ]
  },
  {
   "cell_type": "markdown",
   "id": "7af6d85b-9ccb-4cfc-b3a6-8f191f3a1efc",
   "metadata": {},
   "source": [
    "## 5.2. The del statement"
   ]
  },
  {
   "cell_type": "markdown",
   "id": "62a34886-0234-41ea-8335-7e8d22cfa3bd",
   "metadata": {},
   "source": [
    "There is a way to remove an item from a list given its index instead of its value: the [`del`](https://docs.python.org/3/reference/simple_stmts.html#del) statement. This differs from the `pop()` method which returns a value. The `del` statement can also be used to remove slices from a list or clear the entire list (which we did earlier by assignment of an empty list to the slice). For example:\n",
    "\n",
    "> 有一种方法可以从列表中删除一个项目，给定其索引而不是其值：[`del`](https://docs.python.org/3/reference/simple_stmts.html#del) 语句。这与`pop()`方法不同，后者返回一个值。`del`语句也可以用来从列表中删除片断或清除整个列表（我们在前面通过给片断赋值一个空列表来做到这一点）。比如说。"
   ]
  },
  {
   "cell_type": "code",
   "execution_count": 2,
   "id": "618c0453-ae87-4527-9a98-d95a649d34b3",
   "metadata": {},
   "outputs": [
    {
     "data": {
      "text/plain": [
       "[1, 66.25, 333, 333, 1234.5]"
      ]
     },
     "execution_count": 2,
     "metadata": {},
     "output_type": "execute_result"
    },
    {
     "data": {
      "text/plain": [
       "[1, 66.25, 1234.5]"
      ]
     },
     "execution_count": 2,
     "metadata": {},
     "output_type": "execute_result"
    },
    {
     "data": {
      "text/plain": [
       "[]"
      ]
     },
     "execution_count": 2,
     "metadata": {},
     "output_type": "execute_result"
    }
   ],
   "source": [
    "a = [-1, 1, 66.25, 333, 333, 1234.5]\n",
    "del a[0]\n",
    "a\n",
    "\n",
    "del a[2:4]\n",
    "a\n",
    "\n",
    "del a[:]\n",
    "a"
   ]
  },
  {
   "cell_type": "markdown",
   "id": "6c7f14e0-d9c3-4140-bbab-2f5ff9c84aa9",
   "metadata": {},
   "source": [
    "[`del`](https://docs.python.org/3/reference/simple_stmts.html#del) can also be used to delete entire variables:\n",
    "\n",
    "> [`del`](https://docs.python.org/3/reference/simple_stmts.html#del)也可以用来删除整个变量："
   ]
  },
  {
   "cell_type": "code",
   "execution_count": 3,
   "id": "d6b02aa9-3563-4db4-9c2d-04e79491f0a9",
   "metadata": {},
   "outputs": [],
   "source": [
    "del a"
   ]
  },
  {
   "cell_type": "markdown",
   "id": "c04c08dd-614f-4530-b6a8-b0f1a046d140",
   "metadata": {},
   "source": [
    "Referencing the name `a` hereafter is an error (at least until another value is assigned to it). We’ll find other uses for [`del`](https://docs.python.org/3/reference/simple_stmts.html#del) later.\n",
    "\n",
    "> 此后引用`a`这个名字是一个错误（至少在给它赋值另一个值之前）。我们以后会发现[`del`](https://docs.python.org/3/reference/simple_stmts.html#del)的其他用途。"
   ]
  },
  {
   "cell_type": "markdown",
   "id": "6ce1f486-b2cf-4420-9396-619df1b476b9",
   "metadata": {},
   "source": [
    "## 5.3. Tuples and Sequences"
   ]
  },
  {
   "cell_type": "markdown",
   "id": "f564b758-75eb-4f48-8bb6-e80b0b55bd40",
   "metadata": {},
   "source": [
    "We saw that lists and strings have many common properties, such as indexing and slicing operations. They are two examples of *sequence* data types (see [Sequence Types — list, tuple, range](https://docs.python.org/3/library/stdtypes.html#typesseq)). Since Python is an evolving language, other sequence data types may be added. There is also another standard sequence data type: the *tuple*.\n",
    "\n",
    "> 我们看到，列表和字符串有许多共同的属性，如索引和切片操作。它们是*序列*数据类型的两个例子 (参见 [序列类型 - 列表、元组、范围](https://docs.python.org/3/library/stdtypes.html#typesseq))。由于 Python 是一种不断发展的语言，其他的序列数据类型可能会被加入。还有另一种标准的序列数据类型：*元组*。"
   ]
  },
  {
   "cell_type": "markdown",
   "id": "15a1857e-1043-4607-af51-b1f04cb08e7c",
   "metadata": {},
   "source": [
    "A tuple consists of a number of values separated by commas, for instance:\n",
    "\n",
    "> 例如，一个元组由一些用逗号分隔的值组成，例如："
   ]
  },
  {
   "cell_type": "code",
   "execution_count": 6,
   "id": "da298805-35fc-4318-804f-4770449300c9",
   "metadata": {},
   "outputs": [
    {
     "data": {
      "text/plain": [
       "12345"
      ]
     },
     "execution_count": 6,
     "metadata": {},
     "output_type": "execute_result"
    },
    {
     "data": {
      "text/plain": [
       "(12345, 54321, 'hello!')"
      ]
     },
     "execution_count": 6,
     "metadata": {},
     "output_type": "execute_result"
    },
    {
     "data": {
      "text/plain": [
       "((12345, 54321, 'hello!'), (1, 2, 3, 4, 5))"
      ]
     },
     "execution_count": 6,
     "metadata": {},
     "output_type": "execute_result"
    },
    {
     "data": {
      "text/plain": [
       "([1, 2, 3], [3, 2, 1])"
      ]
     },
     "execution_count": 6,
     "metadata": {},
     "output_type": "execute_result"
    }
   ],
   "source": [
    "t = 12345, 54321, 'hello!'\n",
    "t[0]\n",
    "\n",
    "t\n",
    "\n",
    "# Tuples may be nested:\n",
    "u = t, (1, 2, 3, 4, 5)\n",
    "u\n",
    "\n",
    "# Tuples are immutable:\n",
    "# t[0] = 88888 This will raise TypeError: 'tuple' object does not support item assignment\n",
    "\n",
    "\n",
    "# but they can contain mutable objects:\n",
    "v = ([1, 2, 3], [3, 2, 1])\n",
    "v"
   ]
  },
  {
   "cell_type": "markdown",
   "id": "51f127e7-29d2-4a0c-a90b-3f59b4f6e348",
   "metadata": {},
   "source": [
    "As you see, on output tuples are always enclosed in parentheses, so that nested tuples are interpreted correctly; they may be input with or without surrounding parentheses, although often parentheses are necessary anyway (if the tuple is part of a larger expression). It is not possible to assign to the individual items of a tuple, however it is possible to create tuples which contain mutable objects, such as lists.\n",
    "\n",
    "> 正如你所看到的，在输出时，元组总是被括在圆括号内，这样嵌套的元组就能被正确地解释；它们可以在有或没有圆括号的情况下被输入，尽管通常圆括号是必要的（如果元组是一个更大表达式的一部分）。不可能对元组的各个项目进行赋值，但是可以创建包含可变对象的元组，如列表。"
   ]
  },
  {
   "cell_type": "markdown",
   "id": "ac8c7729-ed36-4525-a78f-67e997da8d61",
   "metadata": {},
   "source": [
    "A special problem is the construction of tuples containing 0 or 1 items: the syntax has some extra quirks to accommodate these. Empty tuples are constructed by an empty pair of parentheses; a tuple with one item is constructed by following a value with a comma (it is not sufficient to enclose a single value in parentheses). Ugly, but effective. For example:\n",
    "\n",
    "> 一个特殊的问题是包含0或1项的元组的构造：该语法有一些额外的怪癖来适应这些。空的元组由一对空的小括号构成；有一个项目的元组由一个值和其后面的逗号构成（用小括号括住一个值是不够的）。丑陋，但有效。比如说："
   ]
  },
  {
   "cell_type": "code",
   "execution_count": 8,
   "id": "75d86c89-4230-432c-acb5-cbd0b042c840",
   "metadata": {},
   "outputs": [
    {
     "data": {
      "text/plain": [
       "0"
      ]
     },
     "execution_count": 8,
     "metadata": {},
     "output_type": "execute_result"
    },
    {
     "data": {
      "text/plain": [
       "1"
      ]
     },
     "execution_count": 8,
     "metadata": {},
     "output_type": "execute_result"
    },
    {
     "data": {
      "text/plain": [
       "('hello',)"
      ]
     },
     "execution_count": 8,
     "metadata": {},
     "output_type": "execute_result"
    }
   ],
   "source": [
    "empty = ()\n",
    "singleton = 'hello',    # <-- note trailing comma\n",
    "len(empty)\n",
    "\n",
    "len(singleton)\n",
    "\n",
    "singleton"
   ]
  },
  {
   "cell_type": "markdown",
   "id": "1ea16508-777b-40d2-8ab2-0c070fda912d",
   "metadata": {},
   "source": [
    "The statement `t = 12345, 54321, 'hello!'` is an example of *tuple packing*: the values `12345`, `54321` and `'hello!'` are packed together in a tuple. The reverse operation is also possible:\n",
    "\n",
    "> 语句t = 12345, 54321, 'hello!' 是一个元组打包的例子：数值12345, 54321和'hello!' 被打包在一个元组中。相反的操作也是可能的："
   ]
  },
  {
   "cell_type": "code",
   "execution_count": 13,
   "id": "16cda80f-05bc-4d6a-ae4a-1caad137c78e",
   "metadata": {},
   "outputs": [
    {
     "data": {
      "text/plain": [
       "12345"
      ]
     },
     "execution_count": 13,
     "metadata": {},
     "output_type": "execute_result"
    },
    {
     "data": {
      "text/plain": [
       "54321"
      ]
     },
     "execution_count": 13,
     "metadata": {},
     "output_type": "execute_result"
    },
    {
     "data": {
      "text/plain": [
       "'hello!'"
      ]
     },
     "execution_count": 13,
     "metadata": {},
     "output_type": "execute_result"
    },
    {
     "data": {
      "text/plain": [
       "(12345, 54321, 'hello!')"
      ]
     },
     "execution_count": 13,
     "metadata": {},
     "output_type": "execute_result"
    }
   ],
   "source": [
    "x, y, z = t\n",
    "x\n",
    "\n",
    "y\n",
    "\n",
    "z\n",
    "\n",
    "t"
   ]
  },
  {
   "cell_type": "markdown",
   "id": "c2fab9e9-86a7-442a-9428-968ed5caeed2",
   "metadata": {},
   "source": [
    "This is called, appropriately enough, *sequence unpacking* and works for any sequence on the right-hand side. Sequence unpacking requires that there are as many variables on the left side of the equals sign as there are elements in the sequence. Note that multiple assignment is really just a combination of tuple packing and sequence unpacking.\n",
    "\n",
    "> 这被称为序列解包，很恰当，对任何序列的右侧都有效。序列解包要求等号左边的变量数量与序列中的元素数量相同。注意，多重赋值实际上只是元组打包和序列解包的组合。"
   ]
  },
  {
   "cell_type": "markdown",
   "id": "5430ea7a-8161-4710-a16a-63803d6d94a4",
   "metadata": {},
   "source": [
    "## 5.4. Sets"
   ]
  },
  {
   "cell_type": "markdown",
   "id": "2ececd0d-7b9c-4b47-9994-8d1bf4e5ad57",
   "metadata": {},
   "source": [
    "Python also includes a data type for *sets*. A set is an unordered collection with no duplicate elements. Basic uses include membership testing and eliminating duplicate entries. Set objects also support mathematical operations like union, intersection, difference, and symmetric difference.\n",
    "\n",
    "> Python 还包括一个用于 *sets* 的数据类型。一个set是一个无序的集合，没有重复的元素。基本用途包括成员测试和消除重复的条目。集合对象也支持数学运算，如并集、交集、差集和对称性差集。"
   ]
  },
  {
   "cell_type": "markdown",
   "id": "01b0ada9-d916-4a77-a9ac-9cfe79ae58d5",
   "metadata": {},
   "source": [
    "Curly braces or the [`set()`](https://docs.python.org/3/library/stdtypes.html#set) function can be used to create sets. Note: to create an empty set you have to use `set()`, not `{}`; the latter creates an empty dictionary, a data structure that we discuss in the next section.\n",
    "\n",
    "> 大括号或[`set()`](https://docs.python.org/3/library/stdtypes.html#set)函数都可以用来创建集合。注意：要创建一个空集合，你必须使用`set()`，而不是`{}`；后者会创建一个空字典，字典这个数据结构，我们将在下一节讨论。"
   ]
  },
  {
   "cell_type": "code",
   "execution_count": 3,
   "id": "ffb0c6af-7bd9-4aa8-afd4-a6796d7af766",
   "metadata": {},
   "outputs": [
    {
     "name": "stdout",
     "output_type": "stream",
     "text": [
      "{'banana', 'pear', 'orange', 'apple'}\n"
     ]
    },
    {
     "data": {
      "text/plain": [
       "True"
      ]
     },
     "execution_count": 3,
     "metadata": {},
     "output_type": "execute_result"
    },
    {
     "data": {
      "text/plain": [
       "False"
      ]
     },
     "execution_count": 3,
     "metadata": {},
     "output_type": "execute_result"
    },
    {
     "data": {
      "text/plain": [
       "{'a', 'b', 'c', 'd', 'r'}"
      ]
     },
     "execution_count": 3,
     "metadata": {},
     "output_type": "execute_result"
    },
    {
     "data": {
      "text/plain": [
       "{'b', 'd', 'r'}"
      ]
     },
     "execution_count": 3,
     "metadata": {},
     "output_type": "execute_result"
    },
    {
     "data": {
      "text/plain": [
       "{'a', 'b', 'c', 'd', 'l', 'm', 'r', 'z'}"
      ]
     },
     "execution_count": 3,
     "metadata": {},
     "output_type": "execute_result"
    },
    {
     "data": {
      "text/plain": [
       "{'a', 'c'}"
      ]
     },
     "execution_count": 3,
     "metadata": {},
     "output_type": "execute_result"
    },
    {
     "data": {
      "text/plain": [
       "{'b', 'd', 'l', 'm', 'r', 'z'}"
      ]
     },
     "execution_count": 3,
     "metadata": {},
     "output_type": "execute_result"
    }
   ],
   "source": [
    "basket = {'apple', 'orange', 'apple', 'pear', 'orange', 'banana'}\n",
    "print(basket)                      # show that duplicates have been removed\n",
    "\n",
    "'orange' in basket                 # fast membership testing\n",
    "\n",
    "'crabgrass' in basket\n",
    "\n",
    "\n",
    "# Demonstrate set operations on unique letters from two words\n",
    "\n",
    "a = set('abracadabra')\n",
    "b = set('alacazam')\n",
    "a                                  # unique letters in a\n",
    "\n",
    "a - b                              # letters in a but not in b\n",
    "\n",
    "a | b                              # letters in a or b or both\n",
    "\n",
    "a & b                              # letters in both a and b\n",
    "\n",
    "a ^ b                              # letters in a or b but not both"
   ]
  },
  {
   "cell_type": "markdown",
   "id": "574bfb02-5630-4744-b58a-6a49e243ac08",
   "metadata": {},
   "source": [
    "Similarly to [list comprehensions](https://docs.python.org/3/tutorial/datastructures.html#tut-listcomps), set comprehensions are also supported:\n",
    "\n",
    "> 与[list comprehensions](https://docs.python.org/3/tutorial/datastructures.html#tut-listcomps)类似，也支持set comprehensions："
   ]
  },
  {
   "cell_type": "code",
   "execution_count": 4,
   "id": "c2daecc0-b9d0-4c56-8d75-5133ca6babb5",
   "metadata": {},
   "outputs": [
    {
     "data": {
      "text/plain": [
       "{'d', 'r'}"
      ]
     },
     "execution_count": 4,
     "metadata": {},
     "output_type": "execute_result"
    }
   ],
   "source": [
    "a = {x for x in 'abracadabra' if x not in 'abc'}\n",
    "a"
   ]
  },
  {
   "cell_type": "markdown",
   "id": "f93765a5-8a51-41af-8ea7-a1140254157c",
   "metadata": {},
   "source": [
    "## 5.5. Dictionaries"
   ]
  },
  {
   "cell_type": "markdown",
   "id": "6b1f5f37-a687-4e32-b965-601b1f97f941",
   "metadata": {},
   "source": [
    "Another useful data type built into Python is the *dictionary* (see [Mapping Types — dict](https://docs.python.org/3/library/stdtypes.html#typesmapping)). Dictionaries are sometimes found in other languages as “associative memories” or “associative arrays”. Unlike sequences, which are indexed by a range of numbers, dictionaries are indexed by *keys*, which can be any immutable type; strings and numbers can always be keys. Tuples can be used as keys if they contain only strings, numbers, or tuples; if a tuple contains any mutable object either directly or indirectly, it cannot be used as a key. You can’t use lists as keys, since lists can be modified in place using index assignments, slice assignments, or methods like `append()` and `extend()`.\n",
    "\n",
    "> 另一个内置在Python中的有用的数据类型是*dictionary* (见 [Mapping Types - dict](https://docs.python.org/3/library/stdtypes.html#typesmapping)。字典有时在其他语言中被称为 \"关联内存 \"或 \"关联数组\"。与序列不同，序列是由数字范围来索引的，而字典是由*键*来索引的，键可以是任何不可变的类型；字符串和数字总是可以成为键。如果元组只包含字符串、数字或元组，就可以用作键；如果元组直接或间接地包含任何可变对象，就不能用作键。你不能使用列表作为键，因为列表可以使用索引赋值、片断赋值或像 `append()`和`extend()`这样的方法进行就地修改。"
   ]
  },
  {
   "cell_type": "markdown",
   "id": "936cc968-8eff-44dd-a522-ed36969779a4",
   "metadata": {},
   "source": [
    "It is best to think of a dictionary as a set of *key: value* pairs, with the requirement that the keys are unique (within one dictionary). A pair of braces creates an empty dictionary: `{}`. Placing a comma-separated list of key:value pairs within the braces adds initial key:value pairs to the dictionary; this is also the way dictionaries are written on output.\n",
    "\n",
    "> 最好把 dictionary 看作是一组 *key: value* 对，要求键是唯一的 (在一个 dictionary 内)。一对大括号创建一个空的 dictionary：`{}`。在大括号内放置一个以逗号分隔的 key:value 对的列表，将初始的 key:value 对添加到 dictionary 中；这也是 dictionary 在输出时的写法。"
   ]
  },
  {
   "cell_type": "markdown",
   "id": "47e98006-4956-41cf-b7d2-7eee74ee3e01",
   "metadata": {},
   "source": [
    "The main operations on a dictionary are storing a value with some key and extracting the value given the key. It is also possible to delete a key:value pair with `del`. If you store using a key that is already in use, the old value associated with that key is forgotten. It is an error to extract a value using a non-existent key.\n",
    "\n",
    "> 对字典的主要操作是用某个键来存储一个值，并根据键来提取这个值。也可以用 `del` 删除一个 key:value 对。如果你用一个已经在使用的键来存储，那么与该键相关的旧值就会被遗忘。使用一个不存在的键提取一个值会是一个错误。"
   ]
  },
  {
   "cell_type": "markdown",
   "id": "b92a4a6d-5ac0-4a6a-8405-ef257216d8cd",
   "metadata": {},
   "source": [
    "Performing `list(d)` on a dictionary returns a list of all the keys used in the dictionary, in insertion order (if you want it sorted, just use `sorted(d)` instead). To check whether a single key is in the dictionary, use the [`in`](https://docs.python.org/3/reference/expressions.html#in) keyword.\n",
    "\n",
    "> 对一个 dictionary 执行 `list(d)` 会返回这个 dictionary 中使用的所有键的列表，按插入顺序排列 (如果你想让它排序，只需用 `sorted(d)` 来代替)。要检查一个键是否在字典中，使用 [`in`](https://docs.python.org/3/reference/expressions.html#in) 关键词。"
   ]
  },
  {
   "cell_type": "markdown",
   "id": "c1186281-4a96-4a76-a591-d8461a8ddf51",
   "metadata": {},
   "source": [
    "Here is a small example using a dictionary:\n",
    "\n",
    "> 下面是一个使用字典的小例子："
   ]
  },
  {
   "cell_type": "code",
   "execution_count": 5,
   "id": "06db4aae-85b3-44df-8f39-18d5345561bf",
   "metadata": {},
   "outputs": [
    {
     "data": {
      "text/plain": [
       "{'jack': 4098, 'sape': 4139, 'guido': 4127}"
      ]
     },
     "execution_count": 5,
     "metadata": {},
     "output_type": "execute_result"
    },
    {
     "data": {
      "text/plain": [
       "4098"
      ]
     },
     "execution_count": 5,
     "metadata": {},
     "output_type": "execute_result"
    },
    {
     "data": {
      "text/plain": [
       "{'jack': 4098, 'guido': 4127, 'irv': 4127}"
      ]
     },
     "execution_count": 5,
     "metadata": {},
     "output_type": "execute_result"
    },
    {
     "data": {
      "text/plain": [
       "['jack', 'guido', 'irv']"
      ]
     },
     "execution_count": 5,
     "metadata": {},
     "output_type": "execute_result"
    },
    {
     "data": {
      "text/plain": [
       "['guido', 'irv', 'jack']"
      ]
     },
     "execution_count": 5,
     "metadata": {},
     "output_type": "execute_result"
    },
    {
     "data": {
      "text/plain": [
       "True"
      ]
     },
     "execution_count": 5,
     "metadata": {},
     "output_type": "execute_result"
    },
    {
     "data": {
      "text/plain": [
       "False"
      ]
     },
     "execution_count": 5,
     "metadata": {},
     "output_type": "execute_result"
    }
   ],
   "source": [
    "tel = {'jack': 4098, 'sape': 4139}\n",
    "tel['guido'] = 4127\n",
    "tel\n",
    "\n",
    "tel['jack']\n",
    "\n",
    "del tel['sape']\n",
    "tel['irv'] = 4127\n",
    "tel\n",
    "\n",
    "list(tel)\n",
    "\n",
    "sorted(tel)\n",
    "\n",
    "'guido' in tel\n",
    "\n",
    "'jack' not in tel"
   ]
  },
  {
   "cell_type": "markdown",
   "id": "a26fe39b-3610-4f97-a290-6c3ea8914763",
   "metadata": {},
   "source": [
    "The [`dict()`](https://docs.python.org/3/library/stdtypes.html#dict) constructor builds dictionaries directly from sequences of key-value pairs:\n",
    "\n",
    "> [`dict()`](https://docs.python.org/3/library/stdtypes.html#dict)构造函数直接从键值对的序列中建立字典："
   ]
  },
  {
   "cell_type": "code",
   "execution_count": 10,
   "id": "9f644b09-584f-442c-9a66-abd952b5a590",
   "metadata": {},
   "outputs": [
    {
     "data": {
      "text/plain": [
       "{'sape': 4139, 'guido': 4127, 'jack': 4098}"
      ]
     },
     "execution_count": 10,
     "metadata": {},
     "output_type": "execute_result"
    },
    {
     "data": {
      "text/plain": [
       "{'sape': 4139, 'guido': 4127, 'jack': 4098}"
      ]
     },
     "execution_count": 10,
     "metadata": {},
     "output_type": "execute_result"
    },
    {
     "data": {
      "text/plain": [
       "{'sape': 4139, 'jack': 4098, 'guido': 4127}"
      ]
     },
     "execution_count": 10,
     "metadata": {},
     "output_type": "execute_result"
    }
   ],
   "source": [
    "# result the same outcome\n",
    "l = dict([('sape', 4139), ('guido', 4127), ('jack', 4098)])\n",
    "t = dict((('sape', 4139), ('guido', 4127), ('jack', 4098)))\n",
    "s = dict({('sape', 4139), ('guido', 4127), ('jack', 4098)})\n",
    "\n",
    "l\n",
    "\n",
    "t\n",
    "\n",
    "s"
   ]
  },
  {
   "cell_type": "code",
   "execution_count": 12,
   "id": "8b499567-f077-4c73-8008-7336e66e6ddc",
   "metadata": {},
   "outputs": [
    {
     "data": {
      "text/plain": [
       "{'sape': 12, 'guido': 4127, 'jack': 4098}"
      ]
     },
     "execution_count": 12,
     "metadata": {},
     "output_type": "execute_result"
    },
    {
     "data": {
      "text/plain": [
       "{'sape': 20, 'guido': 4127, 'jack': 4098}"
      ]
     },
     "execution_count": 12,
     "metadata": {},
     "output_type": "execute_result"
    },
    {
     "data": {
      "text/plain": [
       "{'sape': 40, 'jack': 4098, 'guido': 4127}"
      ]
     },
     "execution_count": 12,
     "metadata": {},
     "output_type": "execute_result"
    }
   ],
   "source": [
    "l['sape'] = 12\n",
    "l\n",
    "\n",
    "t['sape'] = 20\n",
    "t\n",
    "\n",
    "s['sape'] = 40\n",
    "s"
   ]
  },
  {
   "cell_type": "markdown",
   "id": "52d25ca9-71e5-499b-84ae-532328485a1c",
   "metadata": {},
   "source": [
    "In addition, dict comprehensions can be used to create dictionaries from arbitrary key and value expressions:\n",
    "\n",
    "> 此外，dict解析式可以用来从任意的键和值表达式中创建字典。"
   ]
  },
  {
   "cell_type": "code",
   "execution_count": 13,
   "id": "d7633aa7-c08c-4fa7-81df-60ba503c6454",
   "metadata": {},
   "outputs": [
    {
     "data": {
      "text/plain": [
       "{2: 4, 4: 16, 6: 36}"
      ]
     },
     "execution_count": 13,
     "metadata": {},
     "output_type": "execute_result"
    }
   ],
   "source": [
    "{x: x**2 for x in (2, 4, 6)}"
   ]
  },
  {
   "cell_type": "markdown",
   "id": "c8be2cf5-f69d-4945-9096-4264118ff5df",
   "metadata": {},
   "source": [
    "When the keys are simple strings, it is sometimes easier to specify pairs using keyword arguments:\n",
    "\n",
    "> 当键是简单的字符串时，有时使用关键字参数来指定配对更容易："
   ]
  },
  {
   "cell_type": "code",
   "execution_count": 14,
   "id": "7d1d1096-0d28-44f1-b9c5-87165cf0f178",
   "metadata": {},
   "outputs": [
    {
     "data": {
      "text/plain": [
       "{'sape': 4139, 'guido': 4127, 'jack': 4098}"
      ]
     },
     "execution_count": 14,
     "metadata": {},
     "output_type": "execute_result"
    }
   ],
   "source": [
    "dict(sape=4139, guido=4127, jack=4098)"
   ]
  },
  {
   "cell_type": "markdown",
   "id": "ff52bc0d-08a6-479d-bccd-26208aa9c593",
   "metadata": {},
   "source": [
    "## 5.6. Looping Techniques"
   ]
  },
  {
   "cell_type": "markdown",
   "id": "1dce2cbb-e33b-4ad8-be64-e0a00daa2a93",
   "metadata": {},
   "source": [
    "When looping through dictionaries, the key and corresponding value can be retrieved at the same time using the `items()` method.\n",
    "\n",
    "> 在循环浏览字典时，可以使用`items()`方法同时检索键和相应的值。"
   ]
  },
  {
   "cell_type": "code",
   "execution_count": 1,
   "id": "9c5acea6-edfe-4f8c-926f-8d36cada0017",
   "metadata": {},
   "outputs": [
    {
     "name": "stdout",
     "output_type": "stream",
     "text": [
      "gallahad the pure\n",
      "robin the brave\n"
     ]
    }
   ],
   "source": [
    "knights = {'gallahad': 'the pure', 'robin': 'the brave'}\n",
    "for k, v in knights.items():\n",
    "    print(k, v)"
   ]
  },
  {
   "cell_type": "markdown",
   "id": "0f1ee980-5517-43cd-beb2-f1296326e566",
   "metadata": {},
   "source": [
    "When looping through a sequence, the position index and corresponding value can be retrieved at the same time using the [`enumerate()`](https://docs.python.org/3/library/functions.html#enumerate) function.\n",
    "\n",
    "> 当循环浏览一个序列时，可以使用[`enumerate()`](https://docs.python.org/3/library/functions.html#enumerate)函数同时检索位置索引和相应的值。"
   ]
  },
  {
   "cell_type": "code",
   "execution_count": 2,
   "id": "744fddf9-4fa8-4af5-a77d-e9dc5a0a757a",
   "metadata": {},
   "outputs": [
    {
     "name": "stdout",
     "output_type": "stream",
     "text": [
      "0 tic\n",
      "1 tac\n",
      "2 toe\n"
     ]
    }
   ],
   "source": [
    "for i, v in enumerate(['tic', 'tac', 'toe']):\n",
    "    print(i, v)"
   ]
  },
  {
   "cell_type": "markdown",
   "id": "77653cd9-ecaa-4744-8322-780cc20e5c61",
   "metadata": {},
   "source": [
    "To loop over two or more sequences at the same time, the entries can be paired with the [`zip()`](https://docs.python.org/3/library/functions.html#zip) function.\n",
    "\n",
    "> 为了同时循环两个或更多的序列，可以用[`zip()`](https://docs.python.org/3/library/functions.html#zip)函数来配对这些条目。"
   ]
  },
  {
   "cell_type": "code",
   "execution_count": 3,
   "id": "d278b970-7e15-443e-8dbc-83ae6a7e2669",
   "metadata": {},
   "outputs": [
    {
     "name": "stdout",
     "output_type": "stream",
     "text": [
      "What is your name?  It is lancelot.\n",
      "What is your quest?  It is the holy grail.\n",
      "What is your favorite color?  It is blue.\n"
     ]
    }
   ],
   "source": [
    "questions = ['name', 'quest', 'favorite color']\n",
    "answers = ['lancelot', 'the holy grail', 'blue']\n",
    "for q, a in zip(questions, answers):\n",
    "    print('What is your {0}?  It is {1}.'.format(q, a))"
   ]
  },
  {
   "cell_type": "markdown",
   "id": "22165bc6-089d-4ec5-8318-73bb82e4feca",
   "metadata": {},
   "source": [
    "To loop over a sequence in reverse, first specify the sequence in a forward direction and then call the [`reversed()`](https://docs.python.org/3/library/functions.html#reversed) function.\n",
    "\n",
    "> 要在一个序列上进行反向循环，首先要指定正向的序列，然后调用[`reversed()`](https://docs.python.org/3/library/functions.html#reversed)函数。"
   ]
  },
  {
   "cell_type": "code",
   "execution_count": 4,
   "id": "d5e26d48-cdc0-4e02-a9c5-d994eb46e9b1",
   "metadata": {},
   "outputs": [
    {
     "name": "stdout",
     "output_type": "stream",
     "text": [
      "9\n",
      "7\n",
      "5\n",
      "3\n",
      "1\n"
     ]
    }
   ],
   "source": [
    "for i in reversed(range(1, 10, 2)):\n",
    "    print(i)"
   ]
  },
  {
   "cell_type": "markdown",
   "id": "bc099211-cfb3-4917-a684-ee47cb53ce39",
   "metadata": {},
   "source": [
    "To loop over a sequence in sorted order, use the [`sorted()`](https://docs.python.org/3/library/functions.html#sorted) function which returns a new sorted list while leaving the source unaltered.\n",
    "\n",
    "> 要在一个排序后的序列上进行循环，可以使用 [`sorted()`](https://docs.python.org/3/library/functions.html#sorted)函数，它返回一个新的排序后的列表，同时不改变源文件。"
   ]
  },
  {
   "cell_type": "code",
   "execution_count": 5,
   "id": "df6dd809-ec28-4fcf-9847-a2e8ad28eb7d",
   "metadata": {},
   "outputs": [
    {
     "name": "stdout",
     "output_type": "stream",
     "text": [
      "apple\n",
      "apple\n",
      "banana\n",
      "orange\n",
      "orange\n",
      "pear\n"
     ]
    }
   ],
   "source": [
    "basket = ['apple', 'orange', 'apple', 'pear', 'orange', 'banana']\n",
    "for i in sorted(basket):\n",
    "    print(i)"
   ]
  },
  {
   "cell_type": "markdown",
   "id": "bda197e4-c55f-4322-b2e5-c623f959ad5b",
   "metadata": {},
   "source": [
    "Using [`set()`](https://docs.python.org/3/library/stdtypes.html#set) on a sequence eliminates duplicate elements. The use of [`sorted()`](https://docs.python.org/3/library/functions.html#sorted) in combination with [`set()`](https://docs.python.org/3/library/stdtypes.html#set) over a sequence is an idiomatic way to loop over unique elements of the sequence in sorted order.\n",
    "\n",
    "> 在一个序列上使用[`set()`](https://docs.python.org/3/library/stdtypes.html#set)可以消除重复的元素。在一个序列上使用[`sorted()`](https://docs.python.org/3/library/functions.html#sorted)与[`set()`](https://docs.python.org/3/library/stdtypes.html#set)相结合，是一种习惯性的方法，以排序的顺序循环处理序列中的唯一元素。"
   ]
  },
  {
   "cell_type": "code",
   "execution_count": 6,
   "id": "3b740f99-975c-4043-8894-9ec690625607",
   "metadata": {},
   "outputs": [
    {
     "name": "stdout",
     "output_type": "stream",
     "text": [
      "apple\n",
      "banana\n",
      "orange\n",
      "pear\n"
     ]
    }
   ],
   "source": [
    "basket = ['apple', 'orange', 'apple', 'pear', 'orange', 'banana']\n",
    "for f in sorted(set(basket)):\n",
    "    print(f)"
   ]
  },
  {
   "cell_type": "markdown",
   "id": "c1918c0a-e371-4c70-8ad5-517ecac55a91",
   "metadata": {},
   "source": [
    "It is sometimes tempting to change a list while you are looping over it; however, it is often simpler and safer to create a new list instead.\n",
    "\n",
    "> 有时，当你在一个列表上循环时，你很想改变它；然而，创建一个新的列表往往更简单、更安全。"
   ]
  },
  {
   "cell_type": "code",
   "execution_count": 7,
   "id": "06bda48c-86b5-4624-b545-cddf083f947b",
   "metadata": {},
   "outputs": [
    {
     "data": {
      "text/plain": [
       "[56.2, 51.7, 55.3, 52.5, 47.8]"
      ]
     },
     "execution_count": 7,
     "metadata": {},
     "output_type": "execute_result"
    }
   ],
   "source": [
    "import math\n",
    "raw_data = [56.2, float('NaN'), 51.7, 55.3, 52.5, float('NaN'), 47.8]\n",
    "filtered_data = []\n",
    "for value in raw_data:\n",
    "    if not math.isnan(value):\n",
    "        filtered_data.append(value)\n",
    "\n",
    "filtered_data"
   ]
  },
  {
   "cell_type": "markdown",
   "id": "b26c43b2-02b7-4e63-a0e5-fc3ccc381807",
   "metadata": {},
   "source": [
    "## 5.7. More on Conditions"
   ]
  },
  {
   "cell_type": "markdown",
   "id": "86d352a3-6374-4759-b38d-45f5e62b47e6",
   "metadata": {},
   "source": [
    "The conditions used in `while` and `if` statements can contain any operators, not just comparisons.\n",
    "\n",
    "> 在`while`和`if`语句中使用的条件可以包含任何运算符，而不仅仅是比较。"
   ]
  },
  {
   "cell_type": "markdown",
   "id": "95dd14f8-434c-48ac-a786-a3e30e592c2a",
   "metadata": {},
   "source": [
    "The comparison operators `in` and `not in` are membership tests that determine whether a value is in (or not in) a container. The operators `is` and `is not` compare whether two objects are really the same object. All comparison operators have the same priority, which is lower than that of all numerical operators.\n",
    "\n",
    "> 比较运算符`in`和`not in`是成员测试，确定一个值是否在一个容器中（或不在）。操作符`is`和`is not`比较两个对象是否真的是同一个对象。所有比较运算符都有相同的优先级，低于所有数字运算符的优先级。"
   ]
  },
  {
   "cell_type": "markdown",
   "id": "db015006-1d0b-4c99-888d-4fe9dff6f7fb",
   "metadata": {},
   "source": [
    "Comparisons can be chained. For example, `a < b == c` tests whether `a` is less than `b` and moreover `b` equals `c`.\n",
    "\n",
    "> 比较可以是连锁的。例如，`a < b == c`测试`a`是否小于`b`，而且`b`等于`c`。"
   ]
  },
  {
   "cell_type": "markdown",
   "id": "3609c0b3-0c5b-497f-ab1e-7df0d39cea70",
   "metadata": {},
   "source": [
    "Comparisons may be combined using the Boolean operators `and` and `or`, and the outcome of a comparison (or of any other Boolean expression) may be negated with `not`. These have lower priorities than comparison operators; between them, `not` has the highest priority and `or` the lowest, so that `A and not B or C` is equivalent to `(A and (not B)) or C`. As always, parentheses can be used to express the desired composition.\n",
    "\n",
    "> 比较可以用布尔运算符`and`和`or`进行合并，比较的结果（或任何其他布尔表达式）可以用`not`进行否定。这些运算符的优先级低于比较运算符；在它们之间，`not`的优先级最高，`or`的优先级最低，所以`A and not B or C`等同于 `(A and (not B)) or C`。像往常一样，可以用括号来表达所需的组合。"
   ]
  },
  {
   "cell_type": "markdown",
   "id": "c4cf69b1-41ea-473a-a7f3-0dbc8327d3db",
   "metadata": {},
   "source": [
    "The Boolean operators `and` and `or` are so-called *short-circuit* operators: their arguments are evaluated from left to right, and evaluation stops as soon as the outcome is determined. For example, if `A` and `C` are true but `B` is false, `A and B and C` does not evaluate the expression `C`. When used as a general value and not as a Boolean, the return value of a short-circuit operator is the last evaluated argument.\n",
    "\n",
    "> 布尔运算符`and`和`or`是所谓的*短路*运算符：它们的参数从左到右被运算求值，一旦结果确定，运算就会停止。例如，如果`A and C`是true，但`B`是false，`A and B and C`不会运算表达式`C`。当作为一般值而不是作为布尔值使用时，短路运算符的返回值是最后运算求值的参数。"
   ]
  },
  {
   "cell_type": "markdown",
   "id": "24c72490-f624-485f-9594-b7b95b8ad9aa",
   "metadata": {},
   "source": [
    "It is possible to assign the result of a comparison or other Boolean expression to a variable. For example,\n",
    "\n",
    "> 可以将比较或其他布尔表达式的结果赋值给一个变量。比如说"
   ]
  },
  {
   "cell_type": "code",
   "execution_count": 3,
   "id": "5541a509-4d9d-48a2-b34d-61d636be7f5b",
   "metadata": {},
   "outputs": [
    {
     "data": {
      "text/plain": [
       "'Trondheim'"
      ]
     },
     "execution_count": 3,
     "metadata": {},
     "output_type": "execute_result"
    }
   ],
   "source": [
    "string1, string2, string3 = '', 'Trondheim', 'Hammer Dance'\n",
    "non_null = string1 or string2 or string3\n",
    "non_null"
   ]
  },
  {
   "cell_type": "markdown",
   "id": "8ec500a3-1f31-43d8-bc37-1d8e03135259",
   "metadata": {},
   "source": [
    "Note that in Python, unlike C, assignment inside expressions must be done explicitly with the [walrus operator](https://docs.python.org/3/faq/design.html#why-can-t-i-use-an-assignment-in-an-expression) `:=`. This avoids a common class of problems encountered in C programs: typing `=` in an expression when `==` was intended.\n",
    "\n",
    "> 注意在Python中，与C不同，表达式内部的赋值必须用[walrus operator](https://docs.python.org/3/faq/design.html#why-can-t-i-use-an-assignment-in-an-expression) `:=`来明确完成。这就避免了在C语言程序中遇到的一类常见的问题：在表达式中输入`=`，而本意是`==`。"
   ]
  },
  {
   "cell_type": "markdown",
   "id": "b27470a0-81eb-4f40-b50d-ae24c0e1b3ff",
   "metadata": {},
   "source": [
    "## 5.8. Comparing Sequences and Other Types"
   ]
  },
  {
   "cell_type": "markdown",
   "id": "fdad536e-4bb7-46f5-9b3e-8325c3245c4b",
   "metadata": {},
   "source": [
    "Sequence objects typically may be compared to other objects with the same sequence type. The comparison uses *lexicographical* ordering: first the first two items are compared, and if they differ this determines the outcome of the comparison; if they are equal, the next two items are compared, and so on, until either sequence is exhausted. If two items to be compared are themselves sequences of the same type, the lexicographical comparison is carried out recursively. If all items of two sequences compare equal, the sequences are considered equal. If one sequence is an initial sub-sequence of the other, the shorter sequence is the smaller (lesser) one. Lexicographical ordering for strings uses the Unicode code point number to order individual characters. Some examples of comparisons between sequences of the same type:\n",
    "\n",
    "> 序列对象通常可以与具有相同序列类型的其他对象进行比较。比较使用*lexicographical*排序：首先比较前两个项目，如果它们不同，这就决定了比较的结果；如果它们相等，就比较下两个项目，以此类推，直到任何一个序列被用完。如果要比较的两个项目本身是同一类型的序列，则递归地进行lexicographical比较。如果两个序列的所有项目都比较相等，则认为这两个序列是相等的。如果一个序列是另一个序列的初始子序列，那么较短的序列是较小的（少的）序列。字符串的词法排序使用Unicode码位号来排序单个字符。在同一类型的序列之间进行比较的一些例子："
   ]
  },
  {
   "cell_type": "code",
   "execution_count": 2,
   "id": "19544bbd-bac2-412a-aed9-24efbe776105",
   "metadata": {},
   "outputs": [
    {
     "data": {
      "text/plain": [
       "True"
      ]
     },
     "execution_count": 2,
     "metadata": {},
     "output_type": "execute_result"
    },
    {
     "data": {
      "text/plain": [
       "True"
      ]
     },
     "execution_count": 2,
     "metadata": {},
     "output_type": "execute_result"
    },
    {
     "data": {
      "text/plain": [
       "True"
      ]
     },
     "execution_count": 2,
     "metadata": {},
     "output_type": "execute_result"
    },
    {
     "data": {
      "text/plain": [
       "True"
      ]
     },
     "execution_count": 2,
     "metadata": {},
     "output_type": "execute_result"
    },
    {
     "data": {
      "text/plain": [
       "True"
      ]
     },
     "execution_count": 2,
     "metadata": {},
     "output_type": "execute_result"
    },
    {
     "data": {
      "text/plain": [
       "True"
      ]
     },
     "execution_count": 2,
     "metadata": {},
     "output_type": "execute_result"
    },
    {
     "data": {
      "text/plain": [
       "True"
      ]
     },
     "execution_count": 2,
     "metadata": {},
     "output_type": "execute_result"
    }
   ],
   "source": [
    "(1, 2, 3)              < (1, 2, 4)\n",
    "[1, 2, 3]              < [1, 2, 4]\n",
    "'ABC' < 'C' < 'Pascal' < 'Python'\n",
    "(1, 2, 3, 4)           < (1, 2, 4)\n",
    "(1, 2)                 < (1, 2, -1)\n",
    "(1, 2, 3)             == (1.0, 2.0, 3.0)\n",
    "(1, 2, ('aa', 'ab'))   < (1, 2, ('abc', 'a'), 4)"
   ]
  },
  {
   "cell_type": "markdown",
   "id": "18af7280-0f51-4418-857d-5dec81bfa01f",
   "metadata": {},
   "source": [
    "Note that comparing objects of different types with `<` or `>` is legal provided that the objects have appropriate comparison methods. For example, mixed numeric types are compared according to their numeric value, so 0 equals 0.0, etc. Otherwise, rather than providing an arbitrary ordering, the interpreter will raise a [`TypeError`](https://docs.python.org/3/library/exceptions.html#TypeError) exception.\n",
    "\n",
    "> 注意，用`<`或`>`比较不同类型的对象是合法的，只要这些对象有适当的比较方法。例如，混合数字类型根据其数值进行比较，所以0等于0.0，等等。否则，解释器不会提供一个任意的排序，而是会引发一个[`TypeError`](https://docs.python.org/3/library/exceptions.html#TypeError)异常。"
   ]
  },
  {
   "cell_type": "markdown",
   "id": "5cc651ce-d3ba-4a48-8545-c51abeea8b82",
   "metadata": {},
   "source": [
    "**Footnotes**"
   ]
  },
  {
   "cell_type": "markdown",
   "id": "06a98cd7-eed5-4d4b-94d4-bd7b42ad3cdc",
   "metadata": {},
   "source": [
    "[1]: Other languages may return the mutated object, which allows method chaining, such as `d->insert(\"a\")->remove(\"b\")->sort();`.\n",
    "\n",
    "> [1]:  其他语言可能会返回变异的对象，这允许方法链，如`d->insert(\"a\")->remove(\"b\")->sort();`。"
   ]
  }
 ],
 "metadata": {
  "kernelspec": {
   "display_name": "Python 3 (ipykernel)",
   "language": "python",
   "name": "python3"
  },
  "language_info": {
   "codemirror_mode": {
    "name": "ipython",
    "version": 3
   },
   "file_extension": ".py",
   "mimetype": "text/x-python",
   "name": "python",
   "nbconvert_exporter": "python",
   "pygments_lexer": "ipython3",
   "version": "3.10.4"
  }
 },
 "nbformat": 4,
 "nbformat_minor": 5
}
