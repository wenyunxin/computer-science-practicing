{
 "cells": [
  {
   "cell_type": "markdown",
   "id": "825a2cb8",
   "metadata": {},
   "source": [
    "# Using the Python Interpreter\n",
    "\n",
    "## Invoking the Interpreter\n",
    "\n",
    "The Python interpreter is usually installed as\n",
    "`/usr/local/bin/python3.12`{.interpreted-text role=\"file\"} on those\n",
    "machines where it is available; putting\n",
    "`/usr/local/bin`{.interpreted-text role=\"file\"} in your Unix shell\\'s\n",
    "search path makes it possible to start it by typing the command:"
   ]
  },
  {
   "cell_type": "code",
   "execution_count": null,
   "id": "1b2d861a",
   "metadata": {
    "attributes": {
     "classes": [
      "text"
     ],
     "id": ""
    }
   },
   "outputs": [],
   "source": [
    "python3.12"
   ]
  },
  {
   "cell_type": "markdown",
   "id": "8c8fd09b",
   "metadata": {},
   "source": [
    "to the shell.[^1] Since the choice of the directory where the\n",
    "interpreter lives is an installation option, other places are possible;\n",
    "check with your local Python guru or system administrator. (E.g.,\n",
    "`/usr/local/python`{.interpreted-text role=\"file\"} is a popular\n",
    "alternative location.)\n",
    "\n",
    "On Windows machines where you have installed Python from the\n",
    "`Microsoft Store\n",
    "<windows-store>`{.interpreted-text role=\"ref\"}, the\n",
    "`python3.12`{.interpreted-text role=\"file\"} command will be available.\n",
    "If you have the `py.exe launcher <launcher>`{.interpreted-text\n",
    "role=\"ref\"} installed, you can use the `py`{.interpreted-text\n",
    "role=\"file\"} command. See `setting-envvars`{.interpreted-text\n",
    "role=\"ref\"} for other ways to launch Python.\n",
    "\n",
    "Typing an end-of-file character (`Control-D`{.interpreted-text\n",
    "role=\"kbd\"} on Unix, `Control-Z`{.interpreted-text role=\"kbd\"} on\n",
    "Windows) at the primary prompt causes the interpreter to exit with a\n",
    "zero exit status. If that doesn\\'t work, you can exit the interpreter by\n",
    "typing the following command: `quit()`.\n",
    "\n",
    "The interpreter\\'s line-editing features include interactive editing,\n",
    "history substitution and code completion on systems that support the\n",
    "[GNU Readline](https://tiswww.case.edu/php/chet/readline/rltop.html)\n",
    "library. Perhaps the quickest check to see whether command line editing\n",
    "is supported is typing `Control-P`{.interpreted-text role=\"kbd\"} to the\n",
    "first Python prompt you get. If it beeps, you have command line editing;\n",
    "see Appendix `tut-interacting`{.interpreted-text role=\"ref\"} for an\n",
    "introduction to the keys. If nothing appears to happen, or if `^P` is\n",
    "echoed, command line editing isn\\'t available; you\\'ll only be able to\n",
    "use backspace to remove characters from the current line.\n",
    "\n",
    "The interpreter operates somewhat like the Unix shell: when called with\n",
    "standard input connected to a tty device, it reads and executes commands\n",
    "interactively; when called with a file name argument or with a file as\n",
    "standard input, it reads and executes a *script* from that file.\n",
    "\n",
    "A second way of starting the interpreter is\n",
    "`python -c command [arg] ...`, which executes the statement(s) in\n",
    "*command*, analogous to the shell\\'s `-c`{.interpreted-text\n",
    "role=\"option\"} option. Since Python statements often contain spaces or\n",
    "other characters that are special to the shell, it is usually advised to\n",
    "quote *command* in its entirety with single quotes.\n",
    "\n",
    "Some Python modules are also useful as scripts. These can be invoked\n",
    "using `python -m module [arg] ...`, which executes the source file for\n",
    "*module* as if you had spelled out its full name on the command line.\n",
    "\n",
    "When a script file is used, it is sometimes useful to be able to run the\n",
    "script and enter interactive mode afterwards. This can be done by\n",
    "passing `-i`{.interpreted-text role=\"option\"} before the script.\n",
    "\n",
    "All command line options are described in\n",
    "`using-on-general`{.interpreted-text role=\"ref\"}.\n",
    "\n",
    "### Argument Passing {#tut-argpassing}\n",
    "\n",
    "When known to the interpreter, the script name and additional arguments\n",
    "thereafter are turned into a list of strings and assigned to the `argv`\n",
    "variable in the `sys` module. You can access this list by executing\n",
    "`import sys`. The length of the list is at least one; when no script and\n",
    "no arguments are given, `sys.argv[0]` is an empty string. When the\n",
    "script name is given as `'-'` (meaning standard input), `sys.argv[0]` is\n",
    "set to `'-'`. When `-c`{.interpreted-text role=\"option\"} *command* is\n",
    "used, `sys.argv[0]` is set to `'-c'`. When `-m`{.interpreted-text\n",
    "role=\"option\"} *module* is used, `sys.argv[0]` is set to the full name\n",
    "of the located module. Options found after `-c`{.interpreted-text\n",
    "role=\"option\"} *command* or `-m`{.interpreted-text role=\"option\"}\n",
    "*module* are not consumed by the Python interpreter\\'s option processing\n",
    "but left in `sys.argv` for the command or module to handle.\n",
    "\n",
    "### Interactive Mode {#tut-interactive}\n",
    "\n",
    "When commands are read from a tty, the interpreter is said to be in\n",
    "*interactive mode*. In this mode it prompts for the next command with\n",
    "the *primary prompt*, usually three greater-than signs (`>>>`); for\n",
    "continuation lines it prompts with the *secondary prompt*, by default\n",
    "three dots (`...`). The interpreter prints a welcome message stating its\n",
    "version number and a copyright notice before printing the first prompt:"
   ]
  },
  {
   "cell_type": "code",
   "execution_count": null,
   "id": "dbc39a69",
   "metadata": {
    "attributes": {
     "classes": [
      "shell-session"
     ],
     "id": ""
    }
   },
   "outputs": [],
   "source": [
    "$ python3.12\n",
    "Python 3.12 (default, April 4 2022, 09:25:04)\n",
    "[GCC 10.2.0] on linux\n",
    "Type \"help\", \"copyright\", \"credits\" or \"license\" for more information.\n",
    ">>>"
   ]
  },
  {
   "cell_type": "markdown",
   "id": "8a67eacb",
   "metadata": {},
   "source": [
    "Continuation lines are needed when entering a multi-line construct. As\n",
    "an example, take a look at this `if`{.interpreted-text role=\"keyword\"}\n",
    "statement:"
   ]
  },
  {
   "cell_type": "code",
   "execution_count": null,
   "id": "6e5d53d1",
   "metadata": {},
   "outputs": [],
   "source": [
    ">>> the_world_is_flat = True\n",
    ">>> if the_world_is_flat:\n",
    "...     print(\"Be careful not to fall off!\")\n",
    "...\n",
    "Be careful not to fall off!"
   ]
  },
  {
   "cell_type": "markdown",
   "id": "2a452a24",
   "metadata": {},
   "source": [
    "For more on interactive mode, see `tut-interac`{.interpreted-text\n",
    "role=\"ref\"}.\n",
    "\n",
    "## The Interpreter and Its Environment {#tut-interp}\n",
    "\n",
    "### Source Code Encoding {#tut-source-encoding}\n",
    "\n",
    "By default, Python source files are treated as encoded in UTF-8. In that\n",
    "encoding, characters of most languages in the world can be used\n",
    "simultaneously in string literals, identifiers and comments \\-\\--\n",
    "although the standard library only uses ASCII characters for\n",
    "identifiers, a convention that any portable code should follow. To\n",
    "display all these characters properly, your editor must recognize that\n",
    "the file is UTF-8, and it must use a font that supports all the\n",
    "characters in the file.\n",
    "\n",
    "To declare an encoding other than the default one, a special comment\n",
    "line should be added as the *first* line of the file. The syntax is as\n",
    "follows:"
   ]
  },
  {
   "cell_type": "code",
   "execution_count": null,
   "id": "c2c6765e",
   "metadata": {},
   "outputs": [],
   "source": [
    "# -*- coding: encoding -*-"
   ]
  },
  {
   "cell_type": "markdown",
   "id": "192960ff",
   "metadata": {},
   "source": [
    "where *encoding* is one of the valid `codecs`{.interpreted-text\n",
    "role=\"mod\"} supported by Python.\n",
    "\n",
    "For example, to declare that Windows-1252 encoding is to be used, the\n",
    "first line of your source code file should be:"
   ]
  },
  {
   "cell_type": "code",
   "execution_count": null,
   "id": "7320db0a",
   "metadata": {},
   "outputs": [],
   "source": [
    "# -*- coding: cp1252 -*-"
   ]
  },
  {
   "cell_type": "markdown",
   "id": "74e261c7",
   "metadata": {},
   "source": [
    "One exception to the *first line* rule is when the source code starts\n",
    "with a `UNIX \"shebang\" line <tut-scripts>`{.interpreted-text\n",
    "role=\"ref\"}. In this case, the encoding declaration should be added as\n",
    "the second line of the file. For example:"
   ]
  },
  {
   "cell_type": "code",
   "execution_count": null,
   "id": "275ddd94",
   "metadata": {},
   "outputs": [],
   "source": [
    "#!/usr/bin/env python3\n",
    "# -*- coding: cp1252 -*-"
   ]
  },
  {
   "cell_type": "markdown",
   "id": "f0a8809d",
   "metadata": {},
   "source": [
    "**Footnotes**\n",
    "\n",
    "[^1]: On Unix, the Python 3.x interpreter is by default not installed\n",
    "    with the executable named `python`, so that it does not conflict\n",
    "    with a simultaneously installed Python 2.x executable."
   ]
  }
 ],
 "metadata": {
  "kernelspec": {
   "display_name": "Python 3 (ipykernel)",
   "language": "python",
   "name": "python3"
  },
  "language_info": {
   "codemirror_mode": {
    "name": "ipython",
    "version": 3
   },
   "file_extension": ".py",
   "mimetype": "text/x-python",
   "name": "python",
   "nbconvert_exporter": "python",
   "pygments_lexer": "ipython3",
   "version": "3.10.4"
  }
 },
 "nbformat": 4,
 "nbformat_minor": 5
}
