{
 "cells": [
  {
   "cell_type": "code",
   "execution_count": 4,
   "id": "847bd3ef-638b-450e-be5b-3691e96bbb14",
   "metadata": {},
   "outputs": [],
   "source": [
    "from IPython.core.interactiveshell import InteractiveShell\n",
    "InteractiveShell.ast_node_interactivity = \"all\""
   ]
  },
  {
   "cell_type": "markdown",
   "id": "e60c8282-4829-4f08-8770-98422d5a9db0",
   "metadata": {},
   "source": [
    "Besides the [`while`](https://docs.python.org/3/reference/compound_stmts.html#while) statement just introduced, Python uses the usual flow control statements known from other languages, with some twists.\n",
    "\n",
    "> 除了刚刚介绍的 [`while`](https://docs.python.org/3/reference/compound_stmts.html#while) 语句外，Python 还使用了其他语言中已知的常规流程控制语句，并有一些变化。"
   ]
  },
  {
   "cell_type": "markdown",
   "id": "62a1b5b4-e214-4f69-9f35-2c328acaea8d",
   "metadata": {},
   "source": [
    "## 4.1. if Statements"
   ]
  },
  {
   "cell_type": "markdown",
   "id": "72cb2d4c-e2cd-483d-bed2-9633d783ce48",
   "metadata": {},
   "source": [
    "Perhaps the most well-known statement type is the [`if`](https://docs.python.org/3/reference/compound_stmts.html#if) statement. For example:\n",
    "\n",
    "> 也许最著名的语句类型是[`if`](https://docs.python.org/3/reference/compound_stmts.html#if)语句。比如说："
   ]
  },
  {
   "cell_type": "code",
   "execution_count": 2,
   "id": "f62e3f15-bd98-4410-83aa-52c1a259bc8e",
   "metadata": {},
   "outputs": [
    {
     "name": "stdin",
     "output_type": "stream",
     "text": [
      "Please enter an integer:  3\n"
     ]
    },
    {
     "name": "stdout",
     "output_type": "stream",
     "text": [
      "More\n"
     ]
    }
   ],
   "source": [
    "x = int(input(\"Please enter an integer: \"))\n",
    "\n",
    "if x < 0:\n",
    "    x = 0\n",
    "    print('Negative changed to zero')\n",
    "elif x == 0:\n",
    "    print('Zero')\n",
    "elif x == 1:\n",
    "    print('Single')\n",
    "else:\n",
    "    print('More')"
   ]
  },
  {
   "cell_type": "markdown",
   "id": "ecdbf5fb-6641-48ae-bb1e-b43204522861",
   "metadata": {},
   "source": [
    "There can be zero or more [`elif`](https://docs.python.org/3/reference/compound_stmts.html#elif) parts, and the [`else`](https://docs.python.org/3/reference/compound_stmts.html#else) part is optional. The keyword ‘`elif`’ is short for ‘else if’, and is useful to avoid excessive indentation. An `if` … `elif` … `elif` … sequence is a substitute for the `switch` or `case` statements found in other languages.\n",
    "\n",
    "> 可以有零个或多个[`elif`](https://docs.python.org/3/reference/compound_stmts.html#elif)部分，而[`else`](https://docs.python.org/3/reference/compound_stmts.html#else)部分是可选的。关键词 \"elif \"是 \"else if \"的简称，对于避免过度缩进很有用。`if`...`elif`...`elif`...序列可以替代其他语言中的`switch`或`case`语句。"
   ]
  },
  {
   "cell_type": "markdown",
   "id": "49660263-45f3-49b4-9f52-96f090921fcd",
   "metadata": {},
   "source": [
    "If you’re comparing the same value to several constants, or checking for specific types or attributes, you may also find the `match` statement useful. For more details see [match Statements](https://docs.python.org/3/tutorial/controlflow.html#tut-match).\n",
    "\n",
    "> 如果你要将同一个值与几个常量进行比较，或者检查特定的类型或属性，你可能也会发现`match`语句很有用。更多细节见[匹配语句](https://docs.python.org/3/tutorial/controlflow.html#tut-match)。"
   ]
  },
  {
   "cell_type": "markdown",
   "id": "d8374ba4-8c3e-4534-9925-192b49dc3dc9",
   "metadata": {},
   "source": [
    "## 4.2. for Statements"
   ]
  },
  {
   "cell_type": "markdown",
   "id": "e2020b34-a8f6-436e-aec7-b2a45dfa0443",
   "metadata": {},
   "source": [
    "The [`for`](https://docs.python.org/3/reference/compound_stmts.html#for) statement in Python differs a bit from what you may be used to in C or Pascal. Rather than always iterating over an arithmetic progression of numbers (like in Pascal), or giving the user the ability to define both the iteration step and halting condition (as C), Python’s `for` statement iterates over the items of any sequence (a list or a string), in the order that they appear in the sequence. For example (no pun intended):\n",
    "\n",
    "> Python 中的 [`for`](https://docs.python.org/3/reference/compound_stmts.html#for) 语句与你在 C 或 Pascal 中可能习惯的语句有一些不同。Python 的 `for` 语句不是总是迭代数字的算术级数 (像 Pascal 那样)，也不是让用户定义迭代步骤和停止条件 (像 C 那样)，而是按照它们在序列中出现的顺序迭代任何序列 (一个列表或一个字符串) 的项目。例如（没有双关的意思）："
   ]
  },
  {
   "cell_type": "code",
   "execution_count": 3,
   "id": "e75566f2-9931-46f9-9a6b-a8b26b7f5f19",
   "metadata": {},
   "outputs": [
    {
     "name": "stdout",
     "output_type": "stream",
     "text": [
      "cat 3\n",
      "window 6\n",
      "defenestrate 12\n"
     ]
    }
   ],
   "source": [
    "# Measure some strings:\n",
    "words = ['cat', 'window', 'defenestrate']\n",
    "for w in words:\n",
    "    print(w, len(w))"
   ]
  },
  {
   "cell_type": "markdown",
   "id": "c83f405e-0ee2-4faf-9cbd-8bfa0fe5975c",
   "metadata": {},
   "source": [
    "Code that modifies a collection while iterating over that same collection can be tricky to get right. Instead, it is usually more straight-forward to loop over a copy of the collection or to create a new collection:\n",
    "\n",
    "> 修改一个集合，同时在同一个集合上进行迭代的代码可能很难搞清楚。相反，通常更直接的做法是在一个集合的副本上循环，或者创建一个新的集合。"
   ]
  },
  {
   "cell_type": "code",
   "execution_count": 4,
   "id": "eb708670-dafb-40f3-b04d-5be7de252232",
   "metadata": {},
   "outputs": [
    {
     "name": "stdout",
     "output_type": "stream",
     "text": [
      "{'Hans': 'active', '景太郎': 'active'} 1802856725376 {'Hans': 'active', '景太郎': 'active'} 1802856713728\n",
      "{'Hans': 'active', 'Éléonore': 'inactive', '景太郎': 'active'} {'Hans': 'active', '景太郎': 'active'}\n"
     ]
    }
   ],
   "source": [
    "# Create a sample collection\n",
    "users = {'Hans': 'active', 'Éléonore': 'inactive', '景太郎': 'active'}\n",
    "\n",
    "# Strategy:  Iterate over a copy\n",
    "for user, status in users.copy().items():\n",
    "    if status == 'inactive':\n",
    "        del users[user]\n",
    "\n",
    "print(users, id(users), users.copy(), id(users.copy()))        \n",
    "\n",
    "# Strategy:  Create a new collection\n",
    "users = {'Hans': 'active', 'Éléonore': 'inactive', '景太郎': 'active'}\n",
    "active_users = {}\n",
    "for user, status in users.items():\n",
    "    if status == 'active':\n",
    "        active_users[user] = status\n",
    "        \n",
    "print(users, active_users)"
   ]
  },
  {
   "cell_type": "markdown",
   "id": "dd7892af-6876-468b-a358-d296744de78a",
   "metadata": {},
   "source": [
    "## 4.3. The range() Function"
   ]
  },
  {
   "cell_type": "markdown",
   "id": "a260bcda-10f0-4089-8f7d-6dbe6738556d",
   "metadata": {},
   "source": [
    "If you do need to iterate over a sequence of numbers, the built-in function [`range()`](https://docs.python.org/3/library/stdtypes.html#range) comes in handy. It generates arithmetic progressions:\n",
    "\n",
    "> 如果你确实需要对一个数字序列进行迭代，内置函数[`range()`](https://docs.python.org/3/library/stdtypes.html#range)就很方便了。它可以生成算术连续数。"
   ]
  },
  {
   "cell_type": "code",
   "execution_count": 5,
   "id": "679e930e-7e0f-4aef-bf1d-2ac87b2190a9",
   "metadata": {},
   "outputs": [
    {
     "name": "stdout",
     "output_type": "stream",
     "text": [
      "0\n",
      "1\n",
      "2\n",
      "3\n",
      "4\n"
     ]
    }
   ],
   "source": [
    "for i in range(5):\n",
    "    print(i)"
   ]
  },
  {
   "cell_type": "markdown",
   "id": "07003d92-3541-4ee7-ae63-21a3bf276591",
   "metadata": {},
   "source": [
    "The given end point is never part of the generated sequence; `range(10)` generates 10 values, the legal indices for items of a sequence of length 10. It is possible to let the range start at another number, or to specify a different increment (even negative; sometimes this is called the ‘step’):\n",
    "\n",
    "> 给出的端点从来不是生成的序列的一部分；`range(10)`生成10个值，是长度为10的序列中的项目的合法索引。可以让范围从另一个数字开始，或者指定一个不同的增量（甚至是负数；有时这被称为 \"步长\"）。"
   ]
  },
  {
   "cell_type": "code",
   "execution_count": 6,
   "id": "2980d001-0fbe-4b5d-bf2c-8ae22445a91e",
   "metadata": {},
   "outputs": [
    {
     "data": {
      "text/plain": [
       "[5, 6, 7, 8, 9]"
      ]
     },
     "execution_count": 6,
     "metadata": {},
     "output_type": "execute_result"
    },
    {
     "data": {
      "text/plain": [
       "[0, 3, 6, 9]"
      ]
     },
     "execution_count": 6,
     "metadata": {},
     "output_type": "execute_result"
    },
    {
     "data": {
      "text/plain": [
       "[-10, -40, -70]"
      ]
     },
     "execution_count": 6,
     "metadata": {},
     "output_type": "execute_result"
    }
   ],
   "source": [
    "list(range(5, 10))\n",
    "\n",
    "\n",
    "list(range(0, 10, 3))\n",
    "\n",
    "\n",
    "list(range(-10, -100, -30))"
   ]
  },
  {
   "cell_type": "markdown",
   "id": "45abc7ff-c2db-498d-a302-1e771df1ffa7",
   "metadata": {},
   "source": [
    "To iterate over the indices of a sequence, you can combine [`range()`](https://docs.python.org/3/library/stdtypes.html#range) and [`len()`](https://docs.python.org/3/library/functions.html#len) as follows:\n",
    "\n",
    "> 为了迭代一个序列的索引，你可以把[`range()`](https://docs.python.org/3/library/stdtypes.html#range)和[`len()`](https://docs.python.org/3/library/functions.html#len)结合起来，如下所示："
   ]
  },
  {
   "cell_type": "code",
   "execution_count": 7,
   "id": "604525cd-d22e-4316-8ea3-e99e304dbf96",
   "metadata": {},
   "outputs": [
    {
     "name": "stdout",
     "output_type": "stream",
     "text": [
      "0 Mary\n",
      "1 had\n",
      "2 a\n",
      "3 little\n",
      "4 lamb\n"
     ]
    }
   ],
   "source": [
    "a = ['Mary', 'had', 'a', 'little', 'lamb']\n",
    "for i in range(len(a)):\n",
    "    print(i, a[i])"
   ]
  },
  {
   "cell_type": "markdown",
   "id": "d8b5fe9c-5302-4b95-998b-2fa047edb4b0",
   "metadata": {},
   "source": [
    "In most such cases, however, it is convenient to use the [`enumerate()`](https://docs.python.org/3/library/functions.html#enumerate) function, see [Looping Techniques](https://docs.python.org/3/tutorial/datastructures.html#tut-loopidioms).\n",
    "\n",
    "> 然而，在大多数这种情况下，使用[`enumerate()`](https://docs.python.org/3/library/functions.html#enumerate)函数很方便，见[循环技术](https://docs.python.org/3/tutorial/datastructures.html#tut-loopidioms)。"
   ]
  },
  {
   "cell_type": "markdown",
   "id": "d56986d9-12fe-4a7d-8a55-4368c47995b3",
   "metadata": {},
   "source": [
    "A strange thing happens if you just print a range:\n",
    "\n",
    "> 如果你只是打印一个`range`，会发生一件奇怪的事情。"
   ]
  },
  {
   "cell_type": "code",
   "execution_count": 8,
   "id": "80bb8e9f-254e-4677-8262-996180c94857",
   "metadata": {},
   "outputs": [
    {
     "data": {
      "text/plain": [
       "range(0, 10)"
      ]
     },
     "execution_count": 8,
     "metadata": {},
     "output_type": "execute_result"
    }
   ],
   "source": [
    "range(10)"
   ]
  },
  {
   "cell_type": "markdown",
   "id": "d8695cdb-ba02-4f4c-b797-31f8798c2a3f",
   "metadata": {},
   "source": [
    "In many ways the object returned by [`range()`](https://docs.python.org/3/library/stdtypes.html#range) behaves as if it is a list, but in fact it isn’t. It is an object which returns the successive items of the desired sequence when you iterate over it, but it doesn’t really make the list, thus saving space.\n",
    "\n",
    "> 在许多方面，由 [`range()`](https://docs.python.org/3/library/stdtypes.html#range) 返回的对象表现得好像它是一个列表，但事实上它不是。它是一个对象，当你对它进行迭代时，它返回所需序列的连续项目，但它并没有真正形成列表，从而节省了空间。"
   ]
  },
  {
   "cell_type": "markdown",
   "id": "3c16a407-2fa9-4125-9d27-13119b675d6f",
   "metadata": {},
   "source": [
    "We say such an object is [iterable](https://docs.python.org/3/glossary.html#term-iterable), that is, suitable as a target for functions and constructs that expect something from which they can obtain successive items until the supply is exhausted. We have seen that the [`for`](https://docs.python.org/3/reference/compound_stmts.html#for) statement is such a construct, while an example of a function that takes an iterable is [`sum()`](https://docs.python.org/3/library/functions.html#sum):\n",
    "\n",
    "> 我们说这样的对象是[iterable](https://docs.python.org/3/glossary.html#term-iterable)，也就是说，适合作为函数和结构体的目标，这些函数和结构体期望从中获得连续的项目，直到供应用尽。我们已经看到，[`for`](https://docs.python.org/3/reference/compound_stmts.html#for)语句就是这样一个结构，而获取可迭代对象的函数的一个例子是[`sum()`](https://docs.python.org/3/library/functions.html#sum)。"
   ]
  },
  {
   "cell_type": "code",
   "execution_count": 9,
   "id": "425dd1cc-cd26-4dfd-891d-b6f903aab95d",
   "metadata": {},
   "outputs": [
    {
     "data": {
      "text/plain": [
       "6"
      ]
     },
     "execution_count": 9,
     "metadata": {},
     "output_type": "execute_result"
    }
   ],
   "source": [
    "sum(range(4))  # 0 + 1 + 2 + 3"
   ]
  },
  {
   "cell_type": "markdown",
   "id": "8c15a003-1a67-4942-83d0-0d22d556bb58",
   "metadata": {},
   "source": [
    "Later we will see more functions that return iterables and take iterables as arguments. In chapter [Data Structures](https://docs.python.org/3/tutorial/datastructures.html#tut-structures), we will discuss in more detail about [`list()`](https://docs.python.org/3/library/stdtypes.html#list).\n",
    "\n",
    "> 稍后我们将看到更多的返回迭代变量和以迭代变量为参数的函数。在[数据结构](https://docs.python.org/3/tutorial/datastructures.html#tut-structures)一章中，我们将更详细地讨论[`list()`](https://docs.python.org/3/library/stdtypes.html#list)。"
   ]
  },
  {
   "cell_type": "markdown",
   "id": "5200507d-1f88-4eec-bd0d-7627c804f550",
   "metadata": {},
   "source": [
    "## 4.4. break and continue Statements, and else Clauses on Loops"
   ]
  },
  {
   "cell_type": "markdown",
   "id": "a69f79af-a054-4221-8387-1f767f92f3be",
   "metadata": {},
   "source": [
    "The [`break`](https://docs.python.org/3/reference/simple_stmts.html#break) statement, like in C, breaks out of the innermost enclosing [`for`](https://docs.python.org/3/reference/compound_stmts.html#for) or [`while`](https://docs.python.org/3/reference/compound_stmts.html#while) loop.\n",
    "\n",
    "> 像C语言一样，[`break`](https://docs.python.org/3/reference/simple_stmts.html#break)语句脱离了最内部的[`for`](https://docs.python.org/3/reference/compound_stmts.html#for)或[`while`](https://docs.python.org/3/reference/compound_stmts.html#while)循环。"
   ]
  },
  {
   "cell_type": "markdown",
   "id": "9d64f3a7-ff35-4f52-9193-b6d173ee6e09",
   "metadata": {},
   "source": [
    "Loop statements may have an `else` clause; it is executed when the loop terminates through exhaustion of the iterable (with [`for`](https://docs.python.org/3/reference/compound_stmts.html#for)) or when the condition becomes false (with [`while`](https://docs.python.org/3/reference/compound_stmts.html#while)), but not when the loop is terminated by a [`break`](https://docs.python.org/3/reference/simple_stmts.html#break) statement. This is exemplified by the following loop, which searches for prime numbers:\n",
    "\n",
    "> 循环语句可以有一个 \"else \"子句；当循环因迭代器耗尽而终止时（使用[`for`](https://docs.python.org/3/reference/compound_stmts.html#for)），或当条件变为假时（使用[`while`](https://docs.python.org/3/reference/compound_stmts.html#while)），它将被执行，但当循环被[`break`](https://docs.python.org/3/reference/simple_stmts.html#break)语句终止时则不被执行。下面这个搜索素数的循环就是一个例子。"
   ]
  },
  {
   "cell_type": "code",
   "execution_count": 10,
   "id": "f3173ab9-bdb4-4478-b705-5bc0d8cd5101",
   "metadata": {},
   "outputs": [
    {
     "name": "stdout",
     "output_type": "stream",
     "text": [
      "2 is a prime number\n",
      "3 is a prime number\n",
      "4 equals 2 * 2\n",
      "5 is a prime number\n",
      "6 equals 2 * 3\n",
      "7 is a prime number\n",
      "8 equals 2 * 4\n",
      "9 equals 3 * 3\n"
     ]
    }
   ],
   "source": [
    "for n in range(2, 10):\n",
    "    for x in range(2, n):\n",
    "        if n % x == 0:\n",
    "            print(n, 'equals', x, '*', n//x)\n",
    "            break\n",
    "    else:\n",
    "        # loop fell through without finding a factor\n",
    "        print(n, 'is a prime number')"
   ]
  },
  {
   "cell_type": "markdown",
   "id": "13025dd2-0491-4b9f-aab9-68a1f4280179",
   "metadata": {},
   "source": [
    "(Yes, this is the correct code. Look closely: the `else` clause belongs to the [`for`](https://docs.python.org/3/reference/compound_stmts.html#for) loop, **not** the [`if`](https://docs.python.org/3/reference/compound_stmts.html#if) statement.)\n",
    "\n",
    "> (是的，这是正确的代码。仔细看：`else`子句属于[`for`](https://docs.python.org/3/reference/compound_stmts.html#for)循环，**不是**[`if`](https://docs.python.org/3/reference/compound_stmts.html#if)语句。)"
   ]
  },
  {
   "cell_type": "markdown",
   "id": "fb869165-ed02-45a0-8705-a39b2c257ac9",
   "metadata": {},
   "source": [
    "When used with a loop, the `else` clause has more in common with the `else` clause of a [`try`](mk:@MSITStore:C:\\Users\\Administrator\\AppData\\Local\\Programs\\Python\\Python310\\Doc\\python3104.chm::/reference/compound_stmts.html#try) statement than it does with that of [`if`](mk:@MSITStore:C:\\Users\\Administrator\\AppData\\Local\\Programs\\Python\\Python310\\Doc\\python3104.chm::/reference/compound_stmts.html#if) statements: a [`try`](mk:@MSITStore:C:\\Users\\Administrator\\AppData\\Local\\Programs\\Python\\Python310\\Doc\\python3104.chm::/reference/compound_stmts.html#try) statement’s `else` clause runs when no exception occurs, and a loop’s `else` clause runs when no `break` occurs. For more on the `try` statement and exceptions, see [Handling Exceptions](mk:@MSITStore:C:\\Users\\Administrator\\AppData\\Local\\Programs\\Python\\Python310\\Doc\\python3104.chm::/tutorial/errors.html#tut-handling).\n",
    "\n",
    "> 当与循环一起使用时，`else`子句与[`try`](mk:@MSITStore:C:\\Users\\Administrator\\AppData\\Local\\Programs\\Python\\Python310\\Doc\\python3104.chm::/reference/compound_stmts.html#try)语句的`else`子句比与[`if`](mk:@MSITStore:C:\\Users\\Administrator\\AppData\\Local\\Programs\\Python\\Python310\\Docpython3104.chm::/reference/compound_stmts.html#if)语句的`else`子句的共同点更多：一个[`try`](mk:@MSITStore:C:\\Users\\Administrator\\AppData\\Local\\Programs\\Python\\Python310\\Doc\\python3104.chm::/reference/compound_stmts.html#try) 语句的`else`子句在没有异常发生时运行，而循环的`else`子句在没有`break`发生时运行。关于`try`语句和异常的更多信息，请参见[处理异常](mk:@MSITStore:C:\\Users\\Administrator\\AppData\\Local\\Programs\\Python\\Python310\\Doc\\python3104.chm:：/tutorial/errors.html#tut-handling)。"
   ]
  },
  {
   "cell_type": "markdown",
   "id": "5cf5db97-21a1-4f07-80df-d35b1dcc5fbc",
   "metadata": {},
   "source": [
    "The [`continue`](https://docs.python.org/3/reference/simple_stmts.html#continue) statement, also borrowed from C, continues with the next iteration of the loop:\n",
    "\n",
    "> [`continue`](https://docs.python.org/3/reference/simple_stmts.html#continue)语句也是从C语言借来的，继续进行循环的下一次迭代。"
   ]
  },
  {
   "cell_type": "code",
   "execution_count": 11,
   "id": "b967218e-2cd5-4931-9d46-a44d3187a5fd",
   "metadata": {},
   "outputs": [
    {
     "name": "stdout",
     "output_type": "stream",
     "text": [
      "Found an even number 2\n",
      "Found an odd number 3\n",
      "Found an even number 4\n",
      "Found an odd number 5\n",
      "Found an even number 6\n",
      "Found an odd number 7\n",
      "Found an even number 8\n",
      "Found an odd number 9\n"
     ]
    }
   ],
   "source": [
    "for num in range(2, 10):\n",
    "    if num % 2 == 0:\n",
    "        print(\"Found an even number\", num)\n",
    "        continue\n",
    "    print(\"Found an odd number\", num)"
   ]
  },
  {
   "cell_type": "markdown",
   "id": "7b506212-caea-4d87-b8ae-86d1d8022390",
   "metadata": {},
   "source": [
    "## 4.5. pass Statements"
   ]
  },
  {
   "cell_type": "markdown",
   "id": "f1eed444-15cd-4b1e-abf5-d337b1ccb9ba",
   "metadata": {},
   "source": [
    "The [`pass`](https://docs.python.org/3/reference/simple_stmts.html#pass) statement does nothing. It can be used when a statement is required syntactically but the program requires no action. For example:\n",
    "\n",
    "> [`pass`](https://docs.python.org/3/reference/simple_stmts.html#pass) 语句不做任何事情。当语法上需要一个语句，但程序不需要任何操作时，可以使用它。比如说。"
   ]
  },
  {
   "cell_type": "code",
   "execution_count": 12,
   "id": "e156082c-b5f3-4744-81be-30712943b956",
   "metadata": {},
   "outputs": [],
   "source": [
    "# while True:\n",
    "#     pass  # Busy-wait for keyboard interrupt (Ctrl+C)"
   ]
  },
  {
   "cell_type": "markdown",
   "id": "0039a64a-e3b0-475f-914e-55db3c99955f",
   "metadata": {},
   "source": [
    "This is commonly used for creating minimal classes:\n",
    "\n",
    "> 这通常用于创建最小化的类。"
   ]
  },
  {
   "cell_type": "code",
   "execution_count": 13,
   "id": "a4f5f15c-6151-41e9-b58b-29c74562f353",
   "metadata": {},
   "outputs": [],
   "source": [
    "class MyEmptyClass:\n",
    "    pass"
   ]
  },
  {
   "cell_type": "markdown",
   "id": "00884c7c-12ab-4805-8bd7-f9ac3614ac94",
   "metadata": {},
   "source": [
    "Another place [`pass`](https://docs.python.org/3/reference/simple_stmts.html#pass) can be used is as a place-holder for a function or conditional body when you are working on new code, allowing you to keep thinking at a more abstract level. The `pass` is silently ignored:\n",
    "\n",
    "> 另一个可以使用[`pass`](https://docs.python.org/3/reference/simple_stmts.html#pass)的地方是，当你在编写新的代码时，作为函数或条件体的占位符，让你在更抽象的层次上继续思考。`pass`会被默默地忽略。"
   ]
  },
  {
   "cell_type": "code",
   "execution_count": 14,
   "id": "debace1a-6f41-44f2-a40c-e83c8a6fbeb8",
   "metadata": {},
   "outputs": [],
   "source": [
    "def initlog(*args):\n",
    "    pass   # Remember to implement this!"
   ]
  },
  {
   "cell_type": "markdown",
   "id": "6c74f4c0-7558-499e-b668-004eab4192d9",
   "metadata": {},
   "source": [
    "## 4.6. match Statements"
   ]
  },
  {
   "cell_type": "markdown",
   "id": "ba94edc2-6e94-4280-9524-cf2cd2564ea0",
   "metadata": {},
   "source": [
    "A [`match`](https://docs.python.org/3/reference/compound_stmts.html#match) statement takes an expression and compares its value to successive patterns given as one or more case blocks. This is superficially similar to a switch statement in C, Java or JavaScript (and many other languages), but it can also extract components (sequence elements or object attributes) from the value into variables.\n",
    "\n",
    "> [`match`](https://docs.python.org/3/reference/compound_stmts.html#match)语句接收一个表达式，并将其值与作为一个或多个案例块的连续模式进行比较。这在表面上类似于C、Java或JavaScript（以及许多其他语言）中的switch语句，但它也可以从值中提取成分（序列元素或对象属性）进入变量。"
   ]
  },
  {
   "cell_type": "markdown",
   "id": "4bb5fdb7-8402-4ff3-8212-2205a36a3a27",
   "metadata": {},
   "source": [
    "The simplest form compares a subject value against one or more literals:\n",
    "\n",
    "> 最简单的形式是将一个主题值与一个或多个字词进行比较。"
   ]
  },
  {
   "cell_type": "code",
   "execution_count": 15,
   "id": "36ccd874-19f1-488f-8ef8-968f35b97cbb",
   "metadata": {},
   "outputs": [],
   "source": [
    "def http_error(status):\n",
    "    match status:\n",
    "        case 400:\n",
    "            return \"Bad request\"\n",
    "        case 404:\n",
    "            return \"Not found\"\n",
    "        case 418:\n",
    "            return \"I'm a teapot\"\n",
    "        case _:\n",
    "            return \"Something's wrong with the internet\""
   ]
  },
  {
   "cell_type": "markdown",
   "id": "87512472-9713-4d64-b19c-d081b8f10415",
   "metadata": {},
   "source": [
    "Note the last block: the “variable name” `_` acts as a *wildcard* and never fails to match. If no case matches, none of the branches is executed.\n",
    "\n",
    "> 注意最后一个区块：\"变量名\"`_`作为一个*通配符*，永远不会不匹配。如果没有匹配的情况，则不执行任何分支。"
   ]
  },
  {
   "cell_type": "markdown",
   "id": "9d94a87a-6211-4e27-bd8a-5990f674e98b",
   "metadata": {},
   "source": [
    "You can combine several literals in a single pattern using `|` (“or”):\n",
    "\n",
    "> 你可以使用`|`（\"或\"）在一个模式中结合几个字词。"
   ]
  },
  {
   "cell_type": "raw",
   "id": "540b70e9-95af-47d6-b22f-d0453336a20c",
   "metadata": {},
   "source": [
    "case 401 | 403 | 404:\n",
    "    return \"Not allowed\""
   ]
  },
  {
   "cell_type": "markdown",
   "id": "d1ee4aa7-9f2b-44fa-ac81-044bbb132b6f",
   "metadata": {},
   "source": [
    "Patterns can look like unpacking assignments, and can be used to bind variables:\n",
    "\n",
    "> 模式可以看起来像解包赋值，并可以用来绑定变量。"
   ]
  },
  {
   "cell_type": "raw",
   "id": "11eec7e7-a506-4878-b4e8-852a45fe45b5",
   "metadata": {},
   "source": [
    "# point is an (x, y) tuple\n",
    "match point:\n",
    "    case (0, 0):\n",
    "        print(\"Origin\")\n",
    "    case (0, y):\n",
    "        print(f\"Y={y}\")\n",
    "    case (x, 0):\n",
    "        print(f\"X={x}\")\n",
    "    case (x, y):\n",
    "        print(f\"X={x}, Y={y}\")\n",
    "    case _:\n",
    "        raise ValueError(\"Not a point\")"
   ]
  },
  {
   "cell_type": "markdown",
   "id": "038e86a6-2884-422e-b94c-3609bf9e7c4b",
   "metadata": {},
   "source": [
    "Study that one carefully! The first pattern has two literals, and can be thought of as an extension of the literal pattern shown above. But the next two patterns combine a literal and a variable, and the variable *binds* a value from the subject (`point`). The fourth pattern captures two values, which makes it conceptually similar to the unpacking assignment `(x, y) = point`.\n",
    "\n",
    "> 仔细研究一下这个! 第一个模式有两个字词，可以认为是上面所示的字词模式的扩展。但是接下来的两个模式结合了一个字词意义和一个变量，而这个变量*绑定*了一个来自主体（`point`）的值。第四种模式捕获了两个值，这使得它在概念上类似于解包赋值`(x, y) = point`。"
   ]
  },
  {
   "cell_type": "markdown",
   "id": "a8f77ee4-eae9-4c69-a40f-5301e778975c",
   "metadata": {},
   "source": [
    "If you are using classes to structure your data you can use the class name followed by an argument list resembling a constructor, but with the ability to capture attributes into variables:\n",
    "\n",
    "> 如果你使用类来组织你的数据，你可以使用类的名称，后面跟一个类似于构造器的参数列表，但有能力将属性捕捉到变量中。"
   ]
  },
  {
   "cell_type": "code",
   "execution_count": 16,
   "id": "0d25f74e-448a-4704-9a48-c60d874be28b",
   "metadata": {},
   "outputs": [],
   "source": [
    "class Point:\n",
    "    x: int\n",
    "    y: int\n",
    "\n",
    "def where_is(point):\n",
    "    match point:\n",
    "        case Point(x=0, y=0):\n",
    "            print(\"Origin\")\n",
    "        case Point(x=0, y=y):\n",
    "            print(f\"Y={y}\")\n",
    "        case Point(x=x, y=0):\n",
    "            print(f\"X={x}\")\n",
    "        case Point():\n",
    "            print(\"Somewhere else\")\n",
    "        case _:\n",
    "            print(\"Not a point\")"
   ]
  },
  {
   "cell_type": "markdown",
   "id": "6e9b2d8e-af35-42c3-bee6-0ecd0d282134",
   "metadata": {},
   "source": [
    "You can use positional parameters with some builtin classes that provide an ordering for their attributes (e.g. dataclasses). You can also define a specific position for attributes in patterns by setting the `__match_args__` special attribute in your classes. If it’s set to (“x”, “y”), the following patterns are all equivalent (and all bind the `y` attribute to the `var` variable):\n",
    "\n",
    "> 你可以在一些为其属性提供排序的内置类中使用位置参数（例如，数据类）。你也可以通过在你的类中设置`__match_args__`特殊属性来为模式中的属性定义一个特定位置。如果它被设置为（\"x\", \"y\"），下面的模式都是等价的（并且都将`y`属性绑定到`var`变量上）。"
   ]
  },
  {
   "cell_type": "raw",
   "id": "ce76b225-0822-4c0a-aa3a-88d1285be26a",
   "metadata": {},
   "source": [
    "Point(1, var)\n",
    "Point(1, y=var)\n",
    "Point(x=1, y=var)\n",
    "Point(y=var, x=1)"
   ]
  },
  {
   "cell_type": "markdown",
   "id": "e00e057a-71fe-4132-bf60-1d69acde425c",
   "metadata": {},
   "source": [
    "A recommended way to read patterns is to look at them as an extended form of what you would put on the left of an assignment, to understand which variables would be set to what. Only the standalone names (like `var` above) are assigned to by a match statement. Dotted names (like `foo.bar`), attribute names (the `x=` and `y=` above) or class names (recognized by the “(…)” next to them like `Point` above) are never assigned to.\n",
    "\n",
    "> 推荐的阅读模式的方法是把它们看成是你放在赋值左边的扩展形式，以了解哪些变量会被设置成什么。只有独立的名字（如上面的`var`）才会被匹配语句所赋值。带点的名字（如`foo.bar`）、属性名（上面的`x=`和`y=`）或类名（由旁边的\"（...）\"识别，如上面的`Point`）永远不会被赋值。"
   ]
  },
  {
   "cell_type": "markdown",
   "id": "76a798db-260a-4e40-85ec-18b011fd6b44",
   "metadata": {},
   "source": [
    "Patterns can be arbitrarily nested. For example, if we have a short list of points, we could match it like this:\n",
    "\n",
    "> 模式可以任意嵌套。例如，如果我们有一个简短的点的列表，我们可以这样匹配它。"
   ]
  },
  {
   "cell_type": "raw",
   "id": "1eb62183-b4ac-4df1-997d-93351aa9b5c1",
   "metadata": {},
   "source": [
    "match points:\n",
    "    case []:\n",
    "        print(\"No points\")\n",
    "    case [Point(0, 0)]:\n",
    "        print(\"The origin\")\n",
    "    case [Point(x, y)]:\n",
    "        print(f\"Single point {x}, {y}\")\n",
    "    case [Point(0, y1), Point(0, y2)]:\n",
    "        print(f\"Two on the Y axis at {y1}, {y2}\")\n",
    "    case _:\n",
    "        print(\"Something else\")"
   ]
  },
  {
   "cell_type": "markdown",
   "id": "412545fc-00ce-434a-8527-632fd0cd2387",
   "metadata": {},
   "source": [
    "We can add an `if` clause to a pattern, known as a “guard”. If the guard is false, `match` goes on to try the next case block. Note that value capture happens before the guard is evaluated:\n",
    "\n",
    "> 我们可以在模式中添加一个 \"if \"子句，称为 \"guard\"。如果 \"guard\"句是假的，`match'将继续尝试下一个案例块。请注意，值捕获发生在 \"guard\"句被运算之前。"
   ]
  },
  {
   "cell_type": "raw",
   "id": "93a4fd33-2664-4ed2-b187-6b9d554d7fe1",
   "metadata": {},
   "source": [
    "match point:\n",
    "    case Point(x, y) if x == y:\n",
    "        print(f\"Y=X at {x}\")\n",
    "    case Point(x, y):\n",
    "        print(f\"Not on the diagonal\")"
   ]
  },
  {
   "cell_type": "markdown",
   "id": "b16d1933-5e1a-4f1a-9fd8-20828360a0bd",
   "metadata": {},
   "source": [
    "Several other key features of this statement:\n",
    "\n",
    "- Like unpacking assignments, tuple and list patterns have exactly the same meaning and actually match arbitrary sequences. An important exception is that they don’t match iterators or strings.\n",
    "\n",
    "- Sequence patterns support extended unpacking: `[x, y, *rest]` and `(x, y, *rest)` work similar to unpacking assignments. The name after `*` may also be `_`, so `(x, y, *_)` matches a sequence of at least two items without binding the remaining items.\n",
    "\n",
    "- Mapping patterns: `{\"bandwidth\": b, \"latency\": l}` captures the `\"bandwidth\"` and `\"latency\"` values from a dictionary. Unlike sequence patterns, extra keys are ignored. An unpacking like `**rest` is also supported. (But `**_` would be redundant, so it is not allowed.)\n",
    "\n",
    "- Subpatterns may be captured using the `as` keyword:\n",
    "\n",
    "  ```python\n",
    "  case (Point(x1, y1), Point(x2, y2) as p2): ...\n",
    "  ```\n",
    "\n",
    "  will capture the second element of the input as `p2` (as long as the input is a sequence of two points)\n",
    "\n",
    "- Most literals are compared by equality, however the singletons `True`, `False` and `None` are compared by identity.\n",
    "\n",
    "- Patterns may use named constants. These must be dotted names to prevent them from being interpreted as capture variable:\n",
    "from enum import Enum\n",
    "class Color(Enum):\n",
    "    RED = 'red'\n",
    "    GREEN = 'green'\n",
    "    BLUE = 'blue'\n",
    "\n",
    "color = Color(input(\"Enter your choice of 'red', 'blue' or 'green': \"))\n",
    "\n",
    "match color:\n",
    "    case Color.RED:\n",
    "        print(\"I see red!\")\n",
    "    case Color.GREEN:\n",
    "        print(\"Grass is green\")\n",
    "    case Color.BLUE:\n",
    "        print(\"I'm feeling the blues :(\")\n",
    "        \n",
    "> 这个语句的其他几个关键特征：\n",
    ">\n",
    "> - 像解包赋值一样，元组和列表模式具有完全相同的含义，实际上可以匹配任意的序列。一个重要的例外是，它们不匹配迭代器或字符串。\n",
    ">\n",
    "> - 序列模式支持扩展的解包：`[x, y, *rest]`和`(x, y, *rest)`的工作类似于解包赋值。`*`后面的名字也可以是`_`，所以`(x, y, *_)`匹配至少两个项目的序列而不绑定其余项目。\n",
    ">\n",
    "> - 映射模式。`{\"bandwidth\": b, \"latency\": l}`从字典中捕获`\"bandwidth\"`和`\"latency\"`的值。与序列模式不同，额外的键会被忽略。也支持像 `***rest`这样的解包方式。(但是`**_`是多余的，所以不允许)。\n",
    ">\n",
    "> - 子模式可以使用`as`关键字来捕获：\n",
    ">\n",
    ">   `case (Point(x1, y1), Point(x2, y2) as p2): ...`\n",
    ">\n",
    ">   将捕获输入的第二个元素作为`p2`（只要输入是两个点的序列）。\n",
    ">\n",
    "> - 大多数字词是通过等价比较的，但是单数`True`，`False`和`None`是通过特性比较的。\n",
    ">\n",
    "> - 模式可以使用命名的常数。这些名称必须是带点的，以防止它们被解释为捕获变量。\n",
    ">\n",
    "> ```\n",
    "> from enum import Enum\n",
    "> class Color(Enum):\n",
    ">     RED = 'red'\n",
    ">     GREEN = 'green'\n",
    ">     BLUE = 'blue'\n",
    "> \n",
    "> color = Color(input(\"Enter your choice of 'red', 'blue' or 'green': \"))\n",
    "> \n",
    "> match color:\n",
    ">     case Color.RED:\n",
    ">         print(\"I see red!\")\n",
    ">     case Color.GREEN:\n",
    ">         print(\"Grass is green\")\n",
    ">     case Color.BLUE:\n",
    ">         print(\"I'm feeling the blues :(\")\n",
    "> ```"
   ]
  },
  {
   "cell_type": "markdown",
   "id": "4da53320-c099-49fe-9d0a-07c31d918eb0",
   "metadata": {},
   "source": [
    "For a more detailed explanation and additional examples, you can look into [**PEP 636**](https://www.python.org/dev/peps/pep-0636) which is written in a tutorial format.\n",
    "\n",
    "> 对于更详细的解释和更多的例子，你可以看看[**PEP 636**](https://www.python.org/dev/peps/pep-0636)，它是以教程的形式写的。"
   ]
  },
  {
   "cell_type": "markdown",
   "id": "01126bd0-0dc8-47ac-ac06-4b20c651db4d",
   "metadata": {},
   "source": [
    "## 4.7. Defining Functions"
   ]
  },
  {
   "cell_type": "markdown",
   "id": "97069803-e5ac-48c4-b513-7baea2239e7c",
   "metadata": {},
   "source": [
    "We can create a function that writes the Fibonacci series to an arbitrary boundary:\n",
    "\n",
    "> 我们可以创建一个函数，将斐波那契数列写到一个任意的边界。"
   ]
  },
  {
   "cell_type": "code",
   "execution_count": 17,
   "id": "90d7e41b-ad51-4a3f-8196-ad4e60aba579",
   "metadata": {},
   "outputs": [
    {
     "name": "stdout",
     "output_type": "stream",
     "text": [
      "0 1 1 2 3 5 8 13 21 34 55 89 144 233 377 610 987 1597 \n"
     ]
    }
   ],
   "source": [
    "def fib(n):    # write Fibonacci series up to n\n",
    "    \"\"\"Print a Fibonacci series up to n.\"\"\"\n",
    "    a, b = 0, 1\n",
    "    while a < n:\n",
    "        print(a, end=' ')\n",
    "        a, b = b, a+b\n",
    "    print()\n",
    "\n",
    "# Now call the function we just defined:\n",
    "fib(2000)"
   ]
  },
  {
   "cell_type": "markdown",
   "id": "d4fec5b8-f9e7-43a7-8861-df7bd7880f7b",
   "metadata": {},
   "source": [
    "The keyword [`def`](https://docs.python.org/3.10/reference/compound_stmts.html#def) introduces a function *definition*. It must be followed by the function name and the parenthesized list of formal parameters. The statements that form the body of the function start at the next line, and must be indented.\n",
    "\n",
    "> 关键字[`def`](https://docs.python.org/3.10/reference/compound_stmts.html#def)引入了一个函数*定义*。它后面必须有函数名和括号内的形式参数列表。构成函数主体的语句从下一行开始，并且必须缩进。"
   ]
  },
  {
   "cell_type": "markdown",
   "id": "3dc0f177-be25-4597-9c40-db766d79adf6",
   "metadata": {},
   "source": [
    "The first statement of the function body can optionally be a string literal; this string literal is the function’s documentation string, or *docstring*. (More about docstrings can be found in the section [Documentation Strings](https://docs.python.org/3.10/tutorial/controlflow.html#tut-docstrings).) There are tools which use docstrings to automatically produce online or printed documentation, or to let the user interactively browse through code; it’s good practice to include docstrings in code that you write, so make a habit of it.\n",
    "\n",
    "> 函数主体的第一条语句可以选择是一个字符串字头；这个字符串字头是函数的文档字符串，或者叫*docstring*。(关于文档字符串的更多信息可以在[文档字符串](https://docs.python.org/3.10/tutorial/controlflow.html#tut-docstrings)一节中找到）。有一些工具使用文档字符串来自动生成在线或打印的文档，或者让用户交互式地浏览代码；在你编写的代码中包含文档字符串是一种很好的做法，所以要养成这种习惯。"
   ]
  },
  {
   "cell_type": "markdown",
   "id": "4cc2bced-f7b1-4346-a4ef-254c7f480dee",
   "metadata": {},
   "source": [
    "The *execution* of a function introduces a new symbol table used for the local variables of the function. More precisely, all variable assignments in a function store the value in the local symbol table; whereas variable references first look in the local symbol table, then in the local symbol tables of enclosing functions, then in the global symbol table, and finally in the table of built-in names. Thus, global variables and variables of enclosing functions cannot be directly assigned a value within a function (unless, for global variables, named in a [`global`](https://docs.python.org/3.10/reference/simple_stmts.html#global) statement, or, for variables of enclosing functions, named in a [`nonlocal`](https://docs.python.org/3.10/reference/simple_stmts.html#nonlocal) statement), although they may be referenced.\n",
    "\n",
    "> 一个函数的*执行*引入了一个新的符号表，用于该函数的local变量。更确切地说，函数中的所有变量赋值都在local符号表中存储；而变量引用首先在local符号表中寻找，然后在闭合函数的local符号表中寻找，然后在global符号表中寻找，最后在built-in名称表中寻找。因此，global变量和闭合函数的变量不能在函数中直接赋值（除非对于global变量，在[`global`](https://docs.python.org/3.10/reference/simple_stmts.html#global)语句中命名，或者对于闭合函数的变量，在[`nonlocal`](https://docs.python.org/3.10/reference/simple_stmts.html#nonlocal)语句中命名），尽管它们可以被引用。"
   ]
  },
  {
   "cell_type": "markdown",
   "id": "76478003-5d9f-4451-9caf-b668b0d3bec6",
   "metadata": {},
   "source": [
    "The actual parameters (arguments) to a function call are introduced in the local symbol table of the called function when it is called; thus, arguments are passed using *call by value* (where the *value* is always an object *reference*, not the value of the object). [^1] When a function calls another function, or calls itself recursively, a new local symbol table is created for that call.\n",
    "\n",
    "> 当函数被调用时，函数调用的实际参数（参数）被引入到被调用函数的local符号表中；因此，参数的传递是使用*call by value*（其中*value*总是一个对象的*reference*，而不是对象的值）。[^1]当一个函数调用另一个函数，或递归地调用自己时，将为该调用创建一个新的local符号表。"
   ]
  },
  {
   "cell_type": "markdown",
   "id": "33ef1126-0f24-4c45-912e-11fd268cba81",
   "metadata": {},
   "source": [
    "A function definition associates the function name with the function object in the current symbol table. The interpreter recognizes the object pointed to by that name as a user-defined function. Other names can also point to that same function object and can also be used to access the function:\n",
    "\n",
    "> 一个函数定义将函数名称与当前符号表中的函数对象联系起来。解释器将该名称所指向的对象识别为一个用户定义的函数。其他名称也可以指向同一个函数对象，也可以用来访问该函数。"
   ]
  },
  {
   "cell_type": "code",
   "execution_count": 18,
   "id": "50e25434-6f28-44e7-88a7-775a0a08ed06",
   "metadata": {},
   "outputs": [
    {
     "data": {
      "text/plain": [
       "<function __main__.fib(n)>"
      ]
     },
     "execution_count": 18,
     "metadata": {},
     "output_type": "execute_result"
    },
    {
     "name": "stdout",
     "output_type": "stream",
     "text": [
      "0 1 1 2 3 5 8 13 21 34 55 89 \n"
     ]
    }
   ],
   "source": [
    "fib\n",
    "\n",
    "f = fib\n",
    "f(100)"
   ]
  },
  {
   "cell_type": "markdown",
   "id": "566015d1-f253-4a6b-8e96-d746e712188b",
   "metadata": {},
   "source": [
    "Coming from other languages, you might object that `fib` is not a function but a procedure since it doesn’t return a value. In fact, even functions without a [`return`](https://docs.python.org/3.10/reference/simple_stmts.html#return) statement do return a value, albeit a rather boring one. This value is called `None` (it’s a built-in name). Writing the value `None` is normally suppressed by the interpreter if it would be the only value written. You can see it if you really want to using [`print()`](https://docs.python.org/3.10/library/functions.html#print):\n",
    "\n",
    "> 从其他语言来，你可能会反对说`fib`不是一个函数，而是一个过程，因为它不返回一个值。事实上，即使没有[`return`](https://docs.python.org/3.10/reference/simple_stmts.html#return)语句的函数也会返回一个值，尽管是一个相当无聊的值。这个值被称为`None`（这是一个built-in名字）。写入`None`这个值通常会被解释器抑制，如果它是唯一被写入的值。如果你真的想看，你可以使用[`print()`](https://docs.python.org/3.10/library/functions.html#print)。"
   ]
  },
  {
   "cell_type": "code",
   "execution_count": 19,
   "id": "26e0ed0d-70c5-4946-bc70-c79df595bedd",
   "metadata": {},
   "outputs": [
    {
     "name": "stdout",
     "output_type": "stream",
     "text": [
      "\n",
      "\n",
      "None\n"
     ]
    }
   ],
   "source": [
    "fib(0)\n",
    "print(fib(0))"
   ]
  },
  {
   "cell_type": "markdown",
   "id": "e4ad2b07-fd26-4fb9-ba68-7b042eeab204",
   "metadata": {},
   "source": [
    "It is simple to write a function that returns a list of the numbers of the Fibonacci series, instead of printing it:\n",
    "\n",
    "> 写一个函数来返回斐波那契数列的数字列表，而不是打印出来，这很简单。"
   ]
  },
  {
   "cell_type": "code",
   "execution_count": 20,
   "id": "53f91c8c-e3f7-4ccd-aa78-b256bfe6a6b4",
   "metadata": {},
   "outputs": [
    {
     "data": {
      "text/plain": [
       "[0, 1, 1, 2, 3, 5, 8, 13, 21, 34, 55, 89]"
      ]
     },
     "execution_count": 20,
     "metadata": {},
     "output_type": "execute_result"
    }
   ],
   "source": [
    "def fib2(n):  # return Fibonacci series up to n\n",
    "    \"\"\"Return a list containing the Fibonacci series up to n.\"\"\"\n",
    "    result = []\n",
    "    a, b = 0, 1\n",
    "    while a < n:\n",
    "        result.append(a)    # see below\n",
    "        a, b = b, a+b\n",
    "    return result\n",
    "\n",
    "f100 = fib2(100)    # call it\n",
    "f100                # write the result"
   ]
  },
  {
   "cell_type": "markdown",
   "id": "4aa6cf8e-bf14-400e-815f-5b289ca4b7ab",
   "metadata": {},
   "source": [
    "This example, as usual, demonstrates some new Python features:\n",
    "\n",
    "- The [`return`](https://docs.python.org/3/reference/simple_stmts.html#return) statement returns with a value from a function. `return` without an expression argument returns `None`. Falling off the end of a function also returns `None`.\n",
    "- The statement `result.append(a)` calls a *method* of the list object `result`. A method is a function that ‘belongs’ to an object and is named `obj.methodname`, where `obj` is some object (this may be an expression), and `methodname` is the name of a method that is defined by the object’s type. Different types define different methods. Methods of different types may have the same name without causing ambiguity. (It is possible to define your own object types and methods, using *classes*, see [Classes](https://docs.python.org/3/tutorial/classes.html#tut-classes)) The method `append()` shown in the example is defined for list objects; it adds a new element at the end of the list. In this example it is equivalent to `result = result + [a]`, but more efficient.\n",
    "\n",
    "> 这个例子，像往常一样，演示了一些Python的新特性：\n",
    ">\n",
    "> - [`return`](https://docs.python.org/3/reference/simple_stmts.html#return) 语句从一个函数中返回一个值。没有表达式参数的 `return` 会返回`None`。从一个函数的末端掉下来也会返回`None`。\n",
    "> - 语句`result.append(a)`调用列表对象`result`的一个*方法*。方法是一个 \"属于 \"对象的函数，被命名为`obj.methodname`，其中`obj`是某个对象（这可能是一个表达式），`methodname`是由对象的类型定义的方法名称。不同的类型定义了不同的方法。不同类型的方法可以有相同的名称而不会引起歧义。(可以使用*classes*来定义你自己的对象类型和方法，见[Classes](https://docs.python.org/3/tutorial/classes.html#tut-classes)) 例子中显示的方法`append()`是为列表对象定义的；它在列表的最后添加一个新元素。在这个例子中，它等同于`result = result + [a]`，但更有效率。"
   ]
  },
  {
   "cell_type": "markdown",
   "id": "0efd5ce0-21b8-43c6-ba0a-577821d07145",
   "metadata": {},
   "source": [
    "## 4.8. More on Defining Functions"
   ]
  },
  {
   "cell_type": "markdown",
   "id": "87ec6aae-a318-415b-b723-0366a1186e9f",
   "metadata": {},
   "source": [
    "It is also possible to define functions with a variable number of arguments. There are three forms, which can be combined.\n",
    "\n",
    "> 也可以定义具有可变参数数的函数。有三种形式，可以结合使用。"
   ]
  },
  {
   "cell_type": "markdown",
   "id": "341c49e0-849b-41ef-abc9-2827580bb259",
   "metadata": {},
   "source": [
    "### 4.8.1. Default Argument Values"
   ]
  },
  {
   "cell_type": "markdown",
   "id": "f947d27d-577f-4987-a1f3-c025758c1a83",
   "metadata": {},
   "source": [
    "The most useful form is to specify a default value for one or more arguments. This creates a function that can be called with fewer arguments than it is defined to allow. For example:\n",
    "\n",
    "> 最有用的形式是为一个或多个参数指定一个默认值。这就创造了一个可以用比它定义的参数少的参数来调用的函数。比如说。"
   ]
  },
  {
   "cell_type": "code",
   "execution_count": 21,
   "id": "90c00f7e-b8b0-44b0-8834-fb30291fad06",
   "metadata": {},
   "outputs": [],
   "source": [
    "def ask_ok(prompt, retries=4, reminder='Please try again!'):\n",
    "    while True:\n",
    "        ok = input(prompt)\n",
    "        if ok in ('y', 'ye', 'yes'):\n",
    "            return True\n",
    "        if ok in ('n', 'no', 'nop', 'nope'):\n",
    "            return False\n",
    "        retries = retries - 1\n",
    "        if retries < 0:\n",
    "            raise ValueError('invalid user response')\n",
    "        print(reminder)"
   ]
  },
  {
   "cell_type": "markdown",
   "id": "7d5faddd-f46a-49e5-a9dd-c8e9d696d6b8",
   "metadata": {},
   "source": [
    "This function can be called in several ways:\n",
    "\n",
    "- giving only the mandatory argument: `ask_ok('Do you really want to quit?')`\n",
    "- giving one of the optional arguments: `ask_ok('OK to overwrite the file?', 2)`\n",
    "- or even giving all arguments: `ask_ok('OK to overwrite the file?', 2, 'Come on, only yes or no!')`\n",
    "\n",
    "> 这个函数可以用几种方式调用。\n",
    ">\n",
    "> - 只给出强制性参数：`ask_ok('Do you really want to quit?')`。\n",
    "> - 给出强制性参数和给出其中一个可选参数。`ask_ok('OK to overwrite the file?', 2)`\n",
    "> - 或者甚至给出所有参数。`ask_ok('OK to overwrite the file?', 2, 'Come on, only yes or no!')`"
   ]
  },
  {
   "cell_type": "markdown",
   "id": "8ab3a401-248e-4bd5-987f-1bc0eb09104f",
   "metadata": {},
   "source": [
    "This example also introduces the [`in`](https://docs.python.org/3/reference/expressions.html#in) keyword. This tests whether or not a sequence contains a certain value.\n",
    "\n",
    "> 这个例子还引入了[`in`](https://docs.python.org/3/reference/expressions.html#in)关键字。这可以测试一个序列是否包含某个值。"
   ]
  },
  {
   "cell_type": "markdown",
   "id": "59a4466b-3e00-4881-a0df-5060ad20579f",
   "metadata": {},
   "source": [
    "The default values are evaluated at the point of function definition in the *defining* scope, so that\n",
    "\n",
    "> 缺省值是在*定义*范围内的函数定义点进行运算求值的，所以"
   ]
  },
  {
   "cell_type": "code",
   "execution_count": 22,
   "id": "9b62106b-35ad-48cb-b9e3-2c2c54b9f142",
   "metadata": {},
   "outputs": [
    {
     "name": "stdout",
     "output_type": "stream",
     "text": [
      "5\n"
     ]
    }
   ],
   "source": [
    "i = 5    # before the function definition\n",
    "\n",
    "def f(arg=i):\n",
    "    print(arg)\n",
    "\n",
    "i = 6    # after the function definition\n",
    "f()"
   ]
  },
  {
   "cell_type": "markdown",
   "id": "f302f709-ff51-4459-9912-9f5e7c20cd5f",
   "metadata": {},
   "source": [
    "will print `5`.\n",
    "\n",
    "> 将打印`5`。"
   ]
  },
  {
   "cell_type": "markdown",
   "id": "baa0c887-fb1e-4c04-99de-347737ad89af",
   "metadata": {},
   "source": [
    "**Important warning:** The default value is evaluated only once. This makes a difference when the default is a mutable object such as a list, dictionary, or instances of most classes. For example, the following function accumulates the arguments passed to it on subsequent calls:\n",
    "\n",
    "> **重要的警告：**缺省值只被运算求值一次。当缺省值是一个可变的对象时，这就有区别了，比如列表、字典或大多数类的实例。例如，下面的函数会在随后的调用中累积传递给它的参数。"
   ]
  },
  {
   "cell_type": "code",
   "execution_count": 23,
   "id": "2139fb1f-8a02-4f88-a899-a304057a414f",
   "metadata": {},
   "outputs": [
    {
     "name": "stdout",
     "output_type": "stream",
     "text": [
      "[1]\n",
      "[1, 2]\n",
      "[1, 2, 3]\n"
     ]
    }
   ],
   "source": [
    "def f(a, L=[]):\n",
    "    L.append(a)\n",
    "    return L\n",
    "\n",
    "print(f(1))\n",
    "print(f(2))\n",
    "print(f(3))"
   ]
  },
  {
   "cell_type": "markdown",
   "id": "70a7e6fd-e3e7-41bf-924e-e94a6adaa4e7",
   "metadata": {},
   "source": [
    "This will print\n",
    "> 这将打印"
   ]
  },
  {
   "cell_type": "raw",
   "id": "3ad8d345-1d24-420a-97e3-7a52c4c8af6b",
   "metadata": {},
   "source": [
    "[1]\n",
    "[1, 2]\n",
    "[1, 2, 3]"
   ]
  },
  {
   "cell_type": "markdown",
   "id": "fa77672d-182f-4fbf-b1d7-84080340f75b",
   "metadata": {},
   "source": [
    "If you don’t want the default to be shared between subsequent calls, you can write the function like this instead:\n",
    "\n",
    "> 如果你不希望缺省值在后续调用之间共享，你可以这样写函数。"
   ]
  },
  {
   "cell_type": "code",
   "execution_count": 26,
   "id": "ba4a6359-f728-44c8-a16b-dd783e2f1093",
   "metadata": {},
   "outputs": [],
   "source": [
    "def f(a, L=None):\n",
    "    if L is None:\n",
    "        L = []\n",
    "    L.append(a)\n",
    "    return L"
   ]
  },
  {
   "cell_type": "markdown",
   "id": "2297af18-10a3-4859-8888-bf3e8452f26b",
   "metadata": {},
   "source": [
    "### 4.8.2. Keyword Arguments"
   ]
  },
  {
   "cell_type": "markdown",
   "id": "091d2898-d81b-425e-8c8e-90dc74398ad6",
   "metadata": {},
   "source": [
    "Functions can also be called using [keyword arguments](https://docs.python.org/3/glossary.html#term-keyword-argument) of the form `kwarg=value`. For instance, the following function:\n",
    "\n",
    "> 函数也可以使用`kwarg=value`形式的[关键字参数](https://docs.python.org/3/glossary.html#term-keyword-argument)来调用。例如，下面这个函数。"
   ]
  },
  {
   "cell_type": "code",
   "execution_count": 27,
   "id": "5519a6bd-885b-44e6-b94d-163178aba6c9",
   "metadata": {},
   "outputs": [],
   "source": [
    "def parrot(voltage, state='a stiff', action='voom', type='Norwegian Blue'):\n",
    "    print(\"-- This parrot wouldn't\", action, end=' ')\n",
    "    print(\"if you put\", voltage, \"volts through it.\")\n",
    "    print(\"-- Lovely plumage, the\", type)\n",
    "    print(\"-- It's\", state, \"!\")"
   ]
  },
  {
   "cell_type": "markdown",
   "id": "11fef85f-c1c3-4572-8fed-facab3a8ec34",
   "metadata": {},
   "source": [
    "accepts one required argument (`voltage`) and three optional arguments (`state`, `action`, and `type`). This function can be called in any of the following ways:\n",
    "\n",
    "> 接受一个必要参数（`voltage`）和三个可选参数（`state`、`action`和`type`）。这个函数可以用以下任何一种方式调用。"
   ]
  },
  {
   "cell_type": "code",
   "execution_count": 28,
   "id": "dd234f13-0357-449d-80b0-5c96ad636f1f",
   "metadata": {},
   "outputs": [
    {
     "name": "stdout",
     "output_type": "stream",
     "text": [
      "-- This parrot wouldn't voom if you put 1000 volts through it.\n",
      "-- Lovely plumage, the Norwegian Blue\n",
      "-- It's a stiff !\n",
      "-- This parrot wouldn't voom if you put 1000 volts through it.\n",
      "-- Lovely plumage, the Norwegian Blue\n",
      "-- It's a stiff !\n",
      "-- This parrot wouldn't VOOOOOM if you put 1000000 volts through it.\n",
      "-- Lovely plumage, the Norwegian Blue\n",
      "-- It's a stiff !\n",
      "-- This parrot wouldn't VOOOOOM if you put 1000000 volts through it.\n",
      "-- Lovely plumage, the Norwegian Blue\n",
      "-- It's a stiff !\n",
      "-- This parrot wouldn't jump if you put a million volts through it.\n",
      "-- Lovely plumage, the Norwegian Blue\n",
      "-- It's bereft of life !\n",
      "-- This parrot wouldn't voom if you put a thousand volts through it.\n",
      "-- Lovely plumage, the Norwegian Blue\n",
      "-- It's pushing up the daisies !\n"
     ]
    }
   ],
   "source": [
    "parrot(1000)                                          # 1 positional argument\n",
    "parrot(voltage=1000)                                  # 1 keyword argument\n",
    "parrot(voltage=1000000, action='VOOOOOM')             # 2 keyword arguments\n",
    "parrot(action='VOOOOOM', voltage=1000000)             # 2 keyword arguments\n",
    "parrot('a million', 'bereft of life', 'jump')         # 3 positional arguments\n",
    "parrot('a thousand', state='pushing up the daisies')  # 1 positional, 1 keyword"
   ]
  },
  {
   "cell_type": "markdown",
   "id": "7d5615c0-29b5-4b77-bef7-a873244937f6",
   "metadata": {},
   "source": [
    "but all the following calls would be invalid:\n",
    "\n",
    "> 但下面的所有调用将是无效的。"
   ]
  },
  {
   "cell_type": "raw",
   "id": "05253860-a2ce-4c6f-a4ac-4663257d8c72",
   "metadata": {},
   "source": [
    "parrot()                     # required argument missing\n",
    "parrot(voltage=5.0, 'dead')  # non-keyword argument after a keyword argument\n",
    "parrot(110, voltage=220)     # duplicate value for the same argument\n",
    "parrot(actor='John Cleese')  # unknown keyword argument"
   ]
  },
  {
   "cell_type": "markdown",
   "id": "08bb5841-2e7d-455d-a8d9-56b17d05499d",
   "metadata": {},
   "source": [
    "In a function call, keyword arguments must follow positional arguments. All the keyword arguments passed must match one of the arguments accepted by the function (e.g. `actor` is not a valid argument for the `parrot` function), and their order is not important. This also includes non-optional arguments (e.g. `parrot(voltage=1000)` is valid too). No argument may receive a value more than once. Here’s an example that fails due to this restriction:\n",
    "\n",
    "> 在一个函数调用中，关键字参数必须紧随位置参数。所有传递的关键字参数必须与函数接受的参数之一相匹配（例如，`actor`不是`parrot`函数的有效参数），而且它们的顺序并不重要。这也包括非选择参数（例如，`parrot(voltage=1000)`也是有效的）。任何参数都不能接受超过一次的值。下面是一个由于这个限制而失败的例子。"
   ]
  },
  {
   "cell_type": "raw",
   "id": "f5eefa70-df1a-4031-bfef-9a34bb038d92",
   "metadata": {},
   "source": [
    "def function(a):\n",
    "    pass\n",
    "\n",
    "function(0, a=0)"
   ]
  },
  {
   "cell_type": "markdown",
   "id": "817f19d5-680c-4123-b674-d6dfc11e6886",
   "metadata": {},
   "source": [
    "When a final formal parameter of the form `**name` is present, it receives a dictionary (see [Mapping Types — dict](https://docs.python.org/3/library/stdtypes.html#typesmapping)) containing all keyword arguments except for those corresponding to a formal parameter. This may be combined with a formal parameter of the form `*name` (described in the next subsection) which receives a [tuple](https://docs.python.org/3/tutorial/datastructures.html#tut-tuples) containing the positional arguments beyond the formal parameter list. (`*name` must occur before `**name`.) For example, if we define a function like this:\n",
    "\n",
    "> 当一个形式为`**name`的最终形式参数出现时，它接收一个字典（见[映射类型-dict](https://docs.python.org/3/library/stdtypes.html#typesmapping)），包含所有的关键字参数，除了与形式参数对应的参数。这可以和形式为`*name`的形式参数结合起来（在下一小节中描述），它接收一个[tuple](https://docs.python.org/3/tutorial/datastructures.html#tut-tuples)，包含形式参数列表之外的位置参数。(`*name`必须出现在`**name`之前。) 例如，如果我们这样定义一个函数。"
   ]
  },
  {
   "cell_type": "code",
   "execution_count": 30,
   "id": "61c17ff6-6b80-43f9-a1b7-50a0b89fc0fe",
   "metadata": {},
   "outputs": [],
   "source": [
    "def cheeseshop(kind, *arguments, **keywords):\n",
    "    print(\"-- Do you have any\", kind, \"?\")\n",
    "    print(\"-- I'm sorry, we're all out of\", kind)\n",
    "    for arg in arguments:\n",
    "        print(arg)\n",
    "    print(\"-\" * 40)\n",
    "    for kw in keywords:\n",
    "        print(kw, \":\", keywords[kw])"
   ]
  },
  {
   "cell_type": "markdown",
   "id": "17e06f54-9ada-45ab-8095-d052164cb190",
   "metadata": {},
   "source": [
    "It could be called like this:\n",
    "\n",
    "> 它可以这样被调用："
   ]
  },
  {
   "cell_type": "code",
   "execution_count": 32,
   "id": "1c3c5329-8821-4fab-ac25-450120f16684",
   "metadata": {},
   "outputs": [
    {
     "name": "stdout",
     "output_type": "stream",
     "text": [
      "-- Do you have any Limburger ?\n",
      "-- I'm sorry, we're all out of Limburger\n",
      "It's very runny, sir.\n",
      "It's really very, VERY runny, sir.\n",
      "----------------------------------------\n",
      "shopkeeper : Michael Palin\n",
      "client : John Cleese\n",
      "sketch : Cheese Shop Sketch\n"
     ]
    }
   ],
   "source": [
    "cheeseshop(\"Limburger\", \"It's very runny, sir.\",\n",
    "           \"It's really very, VERY runny, sir.\",\n",
    "           shopkeeper=\"Michael Palin\",\n",
    "           client=\"John Cleese\",\n",
    "           sketch=\"Cheese Shop Sketch\")"
   ]
  },
  {
   "cell_type": "markdown",
   "id": "398516da-ec8f-43ce-918a-464fee79edb4",
   "metadata": {},
   "source": [
    "and of course it would print:\n",
    "\n",
    "> 当然，它也会打印出来："
   ]
  },
  {
   "cell_type": "raw",
   "id": "8e220f5b-1a8a-4585-8321-c49bf60783c2",
   "metadata": {},
   "source": [
    "-- Do you have any Limburger ?\n",
    "-- I'm sorry, we're all out of Limburger\n",
    "It's very runny, sir.\n",
    "It's really very, VERY runny, sir.\n",
    "----------------------------------------\n",
    "shopkeeper : Michael Palin\n",
    "client : John Cleese\n",
    "sketch : Cheese Shop Sketch\n",
    "and of course it would print:"
   ]
  },
  {
   "cell_type": "markdown",
   "id": "7929e796-e4a3-4d81-9215-b2fc0e16ae8a",
   "metadata": {},
   "source": [
    "Note that the order in which the keyword arguments are printed is guaranteed to match the order in which they were provided in the function call.\n",
    "\n",
    "> 注意，关键字参数的打印顺序保证与它们在函数调用中提供的顺序一致。"
   ]
  },
  {
   "cell_type": "markdown",
   "id": "2130300e-5c82-4a75-bf64-7881ef293b18",
   "metadata": {},
   "source": [
    "### 4.8.3. Special parameters"
   ]
  },
  {
   "cell_type": "markdown",
   "id": "e43dac3b-5e15-4e68-abff-f57bfebdbc77",
   "metadata": {},
   "source": [
    "By default, arguments may be passed to a Python function either by position or explicitly by keyword. For readability and performance, it makes sense to restrict the way arguments can be passed so that a developer need only look at the function definition to determine if items are passed by position, by position or keyword, or by keyword.\n",
    "\n",
    "> 默认情况下，参数可以通过位置或明确地通过关键字传递给 Python 函数。为了提高可读性和性能，限制参数的传递方式是有意义的，这样开发者只需要看一下函数的定义，就可以确定项目是通过位置传递，通过位置或关键字传递，还是通过关键字传递。"
   ]
  },
  {
   "cell_type": "markdown",
   "id": "a066b2dc-d504-4d0f-84c5-883fe6f554e6",
   "metadata": {},
   "source": [
    "A function definition may look like:\n",
    "\n",
    "> 一个函数定义可能看起来像这样："
   ]
  },
  {
   "cell_type": "raw",
   "id": "d56ad8ba-d43c-4d0a-a839-f216cccd2e86",
   "metadata": {},
   "source": [
    "def f(pos1, pos2, /, pos_or_kwd, *, kwd1, kwd2):\n",
    "      -----------    ----------     ----------\n",
    "        |             |                  |\n",
    "        |        Positional or keyword   |\n",
    "        |                                - Keyword only\n",
    "         -- Positional only"
   ]
  },
  {
   "cell_type": "markdown",
   "id": "71f05dcd-2d43-424c-ad56-f70a20f3cde9",
   "metadata": {},
   "source": [
    "where `/` and `*` are optional. If used, these symbols indicate the kind of parameter by how the arguments may be passed to the function: positional-only, positional-or-keyword, and keyword-only. Keyword parameters are also referred to as named parameters.\n",
    "\n",
    "> 其中`/`和`*`是可选的。如果使用的话，这些符号通过参数如何传递给函数来表示参数的种类：仅有位置的（*positional-only*），有位置的或有关键字的（*positional-or-keyword*），以及仅有关键字的（*keyword-only*）。关键字参数也被称为命名参数（*named parameters*）。"
   ]
  },
  {
   "cell_type": "markdown",
   "id": "24642f38-91de-474a-b710-577edfe0d24b",
   "metadata": {},
   "source": [
    "#### 4.8.3.1. Positional-or-Keyword Arguments"
   ]
  },
  {
   "cell_type": "markdown",
   "id": "c61ed548-a4ac-40eb-86e7-263b1a69bd23",
   "metadata": {},
   "source": [
    "If `/` and `*` are not present in the function definition, arguments may be passed to a function by position or by keyword.\n",
    "\n",
    "> 如果`/`和`*`在函数定义中不存在，参数可以通过位置或关键字传递给函数。"
   ]
  },
  {
   "cell_type": "markdown",
   "id": "2fa835ed-1dd5-45ea-8d45-dc92623b9074",
   "metadata": {},
   "source": [
    "#### 4.8.3.2. Positional-Only Parameters"
   ]
  },
  {
   "cell_type": "markdown",
   "id": "ba53d487-41ef-4878-895c-143403fa429f",
   "metadata": {},
   "source": [
    "Looking at this in a bit more detail, it is possible to mark certain parameters as *positional-only*. If *positional-only*, the parameters’ order matters, and the parameters cannot be passed by keyword. Positional-only parameters are placed before a `/` (forward-slash). The `/` is used to logically separate the positional-only parameters from the rest of the parameters. If there is no `/` in the function definition, there are no positional-only parameters.\n",
    "\n",
    "> 更详细地看一下这个问题，可以把某些参数标记为*positional-only*。如果是*positional-only*，参数的顺序很重要，而且参数不能通过关键字传递。positional-only参数被放在一个`/`（正斜杠）前面。`/`用来在逻辑上将positional-only参数与其他参数分开。如果在函数定义中没有`/`，就没有positional-only的参数。"
   ]
  },
  {
   "cell_type": "markdown",
   "id": "1b9e3fac-b409-41e5-89a9-f8d902053389",
   "metadata": {},
   "source": [
    "Parameters following the `/` may be *positional-or-keyword* or *keyword-only*.\n",
    "\n",
    "> `/`后面的参数可以是*positional-or-keyword*或*keyword-only*。"
   ]
  },
  {
   "cell_type": "markdown",
   "id": "26db0295-20e3-4022-b3b7-e6f97e23d49b",
   "metadata": {},
   "source": [
    "#### 4.8.3.3. Keyword-Only Arguments"
   ]
  },
  {
   "cell_type": "markdown",
   "id": "c3246923-7fe8-4f59-88fc-6013d476e3c9",
   "metadata": {},
   "source": [
    "To mark parameters as *keyword-only*, indicating the parameters must be passed by keyword argument, place an `*` in the arguments list just before the first *keyword-only* parameter.\n",
    "\n",
    "> 要将参数标记为*keyword-only*，表示参数必须通过keyword参数来传递，在参数列表中的第一个*keyword-only*参数之前放置一个`*`。"
   ]
  },
  {
   "cell_type": "markdown",
   "id": "07a04487-9109-442b-91d2-e5b0418a200a",
   "metadata": {},
   "source": [
    "#### 4.8.3.4. Function Examples"
   ]
  },
  {
   "cell_type": "markdown",
   "id": "d01c2a36-a364-484c-af26-5b3b93a34b04",
   "metadata": {},
   "source": [
    "Consider the following example function definitions paying close attention to the markers `/` and `*`:\n",
    "\n",
    "> 请斟酌以下函数定义的例子，密切注意标记符`/`和`*`。"
   ]
  },
  {
   "cell_type": "code",
   "execution_count": 1,
   "id": "5c924c28-0422-4bee-ad4a-6fd6a3325224",
   "metadata": {},
   "outputs": [],
   "source": [
    "def standard_arg(arg):\n",
    "    print(arg)\n",
    "\n",
    "def pos_only_arg(arg, /):\n",
    "    print(arg)\n",
    "\n",
    "def kwd_only_arg(*, arg):\n",
    "    print(arg)\n",
    "\n",
    "def combined_example(pos_only, /, standard, *, kwd_only):\n",
    "    print(pos_only, standard, kwd_only)"
   ]
  },
  {
   "cell_type": "markdown",
   "id": "5ad65402-c6cd-4b8b-8872-79df875594c6",
   "metadata": {},
   "source": [
    "The first function definition, `standard_arg`, the most familiar form, places no restrictions on the calling convention and arguments may be passed by position or keyword:\n",
    "\n",
    "> 第一个函数定义，`standard_arg`，最熟悉的形式，对调用惯例没有限制，参数可以通过位置或关键字传递。"
   ]
  },
  {
   "cell_type": "code",
   "execution_count": 2,
   "id": "8bbc4faf-dbea-4487-8ad1-884ee9952513",
   "metadata": {},
   "outputs": [
    {
     "name": "stdout",
     "output_type": "stream",
     "text": [
      "2\n",
      "2\n"
     ]
    }
   ],
   "source": [
    "standard_arg(2)\n",
    "\n",
    "\n",
    "standard_arg(arg=2)"
   ]
  },
  {
   "cell_type": "markdown",
   "id": "ec6f5988-c9a9-4cca-8426-c6e79678aae6",
   "metadata": {},
   "source": [
    "The second function `pos_only_arg` is restricted to only use positional parameters as there is a `/` in the function definition:\n",
    "\n",
    "> 第二个函数`pos_only_arg`被限制为只能使用位置参数，因为在函数定义中有一个`/`。"
   ]
  },
  {
   "cell_type": "raw",
   "id": "d8ea8a4e-ca04-4957-b7c0-f589d50f7e3b",
   "metadata": {},
   "source": [
    "pos_only_arg(1)\n",
    "\n",
    "\n",
    "pos_only_arg(arg=1)    # raise a 'TypeError':pos_only_arg() got some positional-only arguments passed as keyword arguments: 'arg'"
   ]
  },
  {
   "cell_type": "markdown",
   "id": "a7cfb6dd-bfc9-4a74-b303-881659fdbe0f",
   "metadata": {},
   "source": [
    "The third function `kwd_only_args` only allows keyword arguments as indicated by a `*` in the function definition:\n",
    "\n",
    "> 第三个函数`kwd_only_args`只允许在函数定义中用`*`表示的关键字参数。"
   ]
  },
  {
   "cell_type": "raw",
   "id": "7d178148-1f21-4cd4-a2bd-c79579aa205f",
   "metadata": {},
   "source": [
    "kwd_only_arg(3)    # # raise a 'TypeError':kwd_only_arg() takes 0 positional arguments but 1 was given\n",
    "\n",
    "\n",
    "\n",
    "kwd_only_arg(arg=3)"
   ]
  },
  {
   "cell_type": "markdown",
   "id": "6d191498-0da1-40da-a993-de4b5f06531d",
   "metadata": {},
   "source": [
    "And the last uses all three calling conventions in the same function definition:\n",
    "\n",
    "> 而最后一个则是在同一个函数定义中使用了所有三种调用约定。"
   ]
  },
  {
   "cell_type": "raw",
   "id": "c09bf766-a6a9-466b-916d-f65e8b4fc822",
   "metadata": {},
   "source": [
    "combined_example(1, 2, 3)    # raise TypeError: combined_example() takes 2 positional arguments but 3 were given\n",
    "\n",
    "\n",
    "\n",
    "combined_example(1, 2, kwd_only=3)\n",
    "\n",
    "\n",
    "combined_example(1, standard=2, kwd_only=3)\n",
    "\n",
    "\n",
    "combined_example(pos_only=1, standard=2, kwd_only=3)    # TypeError: combined_example() got some positional-only arguments passed as keyword arguments: 'pos_only'"
   ]
  },
  {
   "cell_type": "markdown",
   "id": "343d4c4f-64cb-4ffb-a372-127d63821302",
   "metadata": {},
   "source": [
    "Finally, consider this function definition which has a potential collision between the positional argument `name` and `**kwds` which has `name` as a key:\n",
    "\n",
    "> 最后，斟酌这个函数定义，它的位置参数`name`和`**kwds`之间有潜在的冲突，而`**kwds`是以`name`为键。"
   ]
  },
  {
   "cell_type": "code",
   "execution_count": 6,
   "id": "acf2fe59-28ec-4b3e-8427-4f1b5789b08b",
   "metadata": {},
   "outputs": [],
   "source": [
    "def foo(name, **kwds):\n",
    "    return 'name' in kwds"
   ]
  },
  {
   "cell_type": "markdown",
   "id": "75b10544-13b9-4722-8f45-2cb587f18421",
   "metadata": {},
   "source": [
    "There is no possible call that will make it return `True` as the keyword `'name'` will always bind to the first parameter. For example:\n",
    "\n",
    "> 没有任何可能的调用会使它返回 `True`，因为关键字`'name'`总是绑定在第一个参数上。比如说。"
   ]
  },
  {
   "cell_type": "raw",
   "id": "7f3927f4-be63-488e-af14-adc9b5d864e2",
   "metadata": {},
   "source": [
    "foo(1, **{'name': 2})    # raise TypeError: foo() got multiple values for argument 'name'"
   ]
  },
  {
   "cell_type": "markdown",
   "id": "b83df88f-a31a-4f4b-9461-adb4894ac0b3",
   "metadata": {},
   "source": [
    "But using `/` (positional only arguments), it is possible since it allows `name` as a positional argument and `'name'` as a key in the keyword arguments:\n",
    "\n",
    "> 但是使用`/`（positional-only 参数），是可能的，因为它允许`name`作为位置参数，`'name'`作为关键字参数中的一个键。"
   ]
  },
  {
   "cell_type": "code",
   "execution_count": 9,
   "id": "da24e062-5610-4c7c-b6a1-05eb0cb306b2",
   "metadata": {},
   "outputs": [
    {
     "data": {
      "text/plain": [
       "True"
      ]
     },
     "execution_count": 9,
     "metadata": {},
     "output_type": "execute_result"
    }
   ],
   "source": [
    "def foo(name, /, **kwds):\n",
    "    return 'name' in kwds\n",
    "\n",
    "foo(1, **{'name': 2})"
   ]
  },
  {
   "cell_type": "markdown",
   "id": "367b3734-396a-4fcd-b941-315e6e393b77",
   "metadata": {},
   "source": [
    "In other words, the names of positional-only parameters can be used in `**kwds` without ambiguity.\n",
    "\n",
    "> 换句话说，positional-only参数名称可以在`***kwds`中使用，不会产生歧义。"
   ]
  },
  {
   "cell_type": "markdown",
   "id": "9b62a287-0552-48ef-abd2-24b7de6c86dd",
   "metadata": {},
   "source": [
    "#### 4.8.3.5. Recap"
   ]
  },
  {
   "cell_type": "markdown",
   "id": "13b0c768-6776-4ebd-9bbd-5deb265315c6",
   "metadata": {},
   "source": [
    "The use case will determine which parameters to use in the function definition:\n",
    "\n",
    "> 用例将决定在函数定义中使用哪些参数。"
   ]
  },
  {
   "cell_type": "raw",
   "id": "7ded53e2-1809-4f15-9110-b6dde8a6fac3",
   "metadata": {},
   "source": [
    "def f(pos1, pos2, /, pos_or_kwd, *, kwd1, kwd2):"
   ]
  },
  {
   "cell_type": "markdown",
   "id": "11cea8c9-b415-43dc-a7c6-807d5ef8c315",
   "metadata": {},
   "source": [
    "As guidance:\n",
    "\n",
    "- Use positional-only if you want the name of the parameters to not be available to the user. This is useful when parameter names have no real meaning, if you want to enforce the order of the arguments when the function is called or if you need to take some positional parameters and arbitrary keywords.\n",
    "- Use keyword-only when names have meaning and the function definition is more understandable by being explicit with names or you want to prevent users relying on the position of the argument being passed.\n",
    "- For an API, use positional-only to prevent breaking API changes if the parameter’s name is modified in the future.\n",
    "\n",
    "> 作为指导：\n",
    ">\n",
    "> - 如果你想让参数的名字不被用户知道，就使用positional-only。当参数名没有实际意义时，如果你想在函数被调用时强制执行参数的顺序，或者你需要接受一些位置参数和任意的关键词时，这很有用。\n",
    "> - 当名字有意义，而且函数定义通过明确的名字更容易理解，或者你想防止用户依赖被传递的参数的位置时，使用keyword-only。\n",
    "> - 对于一个API来说，使用positional-only参数是为了防止在将来参数的名字被修改时破坏API的变化。"
   ]
  },
  {
   "cell_type": "markdown",
   "id": "b4ed5611-38ca-4f80-9dbd-76c2329eab08",
   "metadata": {},
   "source": [
    "### 4.8.4. Arbitrary Argument Lists"
   ]
  },
  {
   "cell_type": "markdown",
   "id": "730d176f-fbbe-45c8-8ff5-31f89281200b",
   "metadata": {},
   "source": [
    "Finally, the least frequently used option is to specify that a function can be called with an arbitrary number of arguments. These arguments will be wrapped up in a tuple (see [Tuples and Sequences](https://docs.python.org/3/tutorial/datastructures.html#tut-tuples)). Before the variable number of arguments, zero or more normal arguments may occur.\n",
    "\n",
    "> 最后，最不常用的选项是指定一个函数可以用任意数量的参数被调用。这些参数将被包装成一个元组（见[元组和序列](https://docs.python.org/3/tutorial/datastructures.html#tut-tuples)）。在参数的可变数量之前，可能出现零个或更多的正常参数。"
   ]
  },
  {
   "cell_type": "code",
   "execution_count": 2,
   "id": "6924285b-9387-47f0-bba8-b3693962fc91",
   "metadata": {},
   "outputs": [],
   "source": [
    "def write_multiple_items(file, separator, *args):\n",
    "    file.write(separator.join(args))"
   ]
  },
  {
   "cell_type": "markdown",
   "id": "93ccae1c-9b35-4608-8d84-ae1da0bbf27f",
   "metadata": {},
   "source": [
    "Normally, these *variadic* arguments will be last in the list of formal parameters, because they scoop up all remaining input arguments that are passed to the function. Any formal parameters which occur after the `*args` parameter are ‘keyword-only’ arguments, meaning that they can only be used as keywords rather than positional arguments.\n",
    "\n",
    "> 通常情况下，这些*变量*参数会在形式参数列表中排在最后，因为它们占据了所有传递给函数的剩余输入参数。任何出现在 `*args`参数之后的形式参数都是‘keyword-only’ 参数，意味着它们只能作为关键字而不是位置参数使用。"
   ]
  },
  {
   "cell_type": "code",
   "execution_count": 5,
   "id": "825ab82b-5fde-46d3-bd20-9f545e6930c8",
   "metadata": {},
   "outputs": [
    {
     "data": {
      "text/plain": [
       "'earth/mars/venus'"
      ]
     },
     "execution_count": 5,
     "metadata": {},
     "output_type": "execute_result"
    },
    {
     "data": {
      "text/plain": [
       "'earth.mars.venus'"
      ]
     },
     "execution_count": 5,
     "metadata": {},
     "output_type": "execute_result"
    }
   ],
   "source": [
    "def concat(*args, sep=\"/\"):\n",
    "    return sep.join(args)\n",
    "\n",
    "concat(\"earth\", \"mars\", \"venus\")\n",
    "\n",
    "concat(\"earth\", \"mars\", \"venus\", sep=\".\")"
   ]
  },
  {
   "cell_type": "markdown",
   "id": "bddc71ab-0ebe-4c94-b151-7ca9ed690f2e",
   "metadata": {},
   "source": [
    "### 4.8.5. Unpacking Argument Lists"
   ]
  },
  {
   "cell_type": "markdown",
   "id": "84489112-993b-46f7-9242-09eac3847813",
   "metadata": {},
   "source": [
    "The reverse situation occurs when the arguments are already in a list or tuple but need to be unpacked for a function call requiring separate positional arguments. For instance, the built-in [`range()`](https://docs.python.org/3/library/stdtypes.html#range) function expects separate *start* and *stop* arguments. If they are not available separately, write the function call with the `*`-operator to unpack the arguments out of a list or tuple:\n",
    "\n",
    "> 相反的情况发生在参数已经在一个列表或元组中，但需要为一个需要单独位置参数的函数调用解包。例如，内置的[`range()`](https://docs.python.org/3/library/stdtypes.html#range)函数希望有单独的*start*和*stop*参数。如果它们不是单独可用的，可以用 `*`操作符编写函数调用，将参数从列表或元组中解包出来。"
   ]
  },
  {
   "cell_type": "code",
   "execution_count": 8,
   "id": "5ca392d3-2c3f-4c49-af2b-3599888ba756",
   "metadata": {},
   "outputs": [
    {
     "data": {
      "text/plain": [
       "[3, 4, 5]"
      ]
     },
     "execution_count": 8,
     "metadata": {},
     "output_type": "execute_result"
    },
    {
     "data": {
      "text/plain": [
       "[3, 4, 5]"
      ]
     },
     "execution_count": 8,
     "metadata": {},
     "output_type": "execute_result"
    },
    {
     "data": {
      "text/plain": [
       "[3, 5]"
      ]
     },
     "execution_count": 8,
     "metadata": {},
     "output_type": "execute_result"
    },
    {
     "data": {
      "text/plain": [
       "[0, 2, 4, 6, 8]"
      ]
     },
     "execution_count": 8,
     "metadata": {},
     "output_type": "execute_result"
    }
   ],
   "source": [
    "list(range(3, 6))            # normal call with separate arguments\n",
    "\n",
    "args = [3, 6]\n",
    "list(range(*args))            # call with arguments unpacked from a list\n",
    "\n",
    "args_step = [3, 6, 2]\n",
    "list(range(*args_step))        # call with argumensts unpacked from a list that considers the last element of the list as the step of the range\n",
    "list(range(*[0, 9, 2]))"
   ]
  },
  {
   "cell_type": "markdown",
   "id": "ed86fb90-ffe4-491a-bdcc-01bf8e00e1c2",
   "metadata": {},
   "source": [
    "In the same fashion, dictionaries can deliver keyword arguments with the `**`-operator:\n",
    "\n",
    "> 以同样的方式，字典可以用 `**`操作符传递关键字参数。"
   ]
  },
  {
   "cell_type": "code",
   "execution_count": 9,
   "id": "c1529540-c59b-49cf-b79e-975a3ee68946",
   "metadata": {},
   "outputs": [
    {
     "name": "stdout",
     "output_type": "stream",
     "text": [
      "-- This parrot wouldn't VOOM if you put four million volts through it. E's bleedin' demised !\n"
     ]
    }
   ],
   "source": [
    "def parrot(voltage, state='a stiff', action='voom'):\n",
    "    print(\"-- This parrot wouldn't\", action, end=' ')\n",
    "    print(\"if you put\", voltage, \"volts through it.\", end=' ')\n",
    "    print(\"E's\", state, \"!\")\n",
    "\n",
    "d = {\"voltage\": \"four million\", \"state\": \"bleedin' demised\", \"action\": \"VOOM\"}\n",
    "parrot(**d)"
   ]
  },
  {
   "cell_type": "markdown",
   "id": "ed7b7a19-8386-4e2e-9e40-27c41fc18015",
   "metadata": {},
   "source": [
    "### 4.8.6. Lambda Expressions"
   ]
  },
  {
   "cell_type": "markdown",
   "id": "263f4678-2d79-4688-8293-ba528e0d72c9",
   "metadata": {},
   "source": [
    "Small anonymous functions can be created with the [`lambda`](https://docs.python.org/3/reference/expressions.html#lambda) keyword. This function returns the sum of its two arguments: `lambda a, b: a+b`. Lambda functions can be used wherever function objects are required. They are syntactically restricted to a single expression. Semantically, they are just syntactic sugar for a normal function definition. Like nested function definitions, lambda functions can reference variables from the containing scope:\n",
    "\n",
    "> 可以用[`lambda`](https://docs.python.org/3/reference/expressions.html#lambda)关键字创建小型匿名函数。这个函数返回其两个参数的总和。`lambda a, b: a+b`。Lambda函数可以在需要函数对象的地方使用。它们在语法上被限制在一个单一的表达式上。从语义上讲，它们只是普通函数定义的语法糖。像嵌套函数定义一样，Lambda函数可以引用包含范围内的变量。"
   ]
  },
  {
   "cell_type": "code",
   "execution_count": 10,
   "id": "98d41805-e561-45ad-bf54-be3e846e1e8b",
   "metadata": {},
   "outputs": [
    {
     "data": {
      "text/plain": [
       "42"
      ]
     },
     "execution_count": 10,
     "metadata": {},
     "output_type": "execute_result"
    },
    {
     "data": {
      "text/plain": [
       "43"
      ]
     },
     "execution_count": 10,
     "metadata": {},
     "output_type": "execute_result"
    }
   ],
   "source": [
    "def make_incrementor(n):\n",
    "    return lambda x: x + n\n",
    "\n",
    "f = make_incrementor(42)\n",
    "f(0)\n",
    "\n",
    "f(1)"
   ]
  },
  {
   "cell_type": "markdown",
   "id": "2df545c6-cdee-44d4-869f-eea692ef2674",
   "metadata": {},
   "source": [
    "The above example uses a lambda expression to return a function. Another use is to pass a small function as an argument:\n",
    "\n",
    "> 上面的例子使用lambda表达式来返回一个函数。另一种用法是将一个小函数作为参数传递。"
   ]
  },
  {
   "cell_type": "code",
   "execution_count": 12,
   "id": "6b61f1c3-aa3f-4d60-887b-75a65c00c018",
   "metadata": {},
   "outputs": [
    {
     "data": {
      "text/plain": [
       "[(4, 'four'), (1, 'one'), (3, 'three'), (2, 'two')]"
      ]
     },
     "execution_count": 12,
     "metadata": {},
     "output_type": "execute_result"
    }
   ],
   "source": [
    "pairs = [(1, 'one'), (2, 'two'), (3, 'three'), (4, 'four')]\n",
    "pairs.sort(key=lambda pair: pair[1])\n",
    "pairs"
   ]
  },
  {
   "cell_type": "markdown",
   "id": "7651ff62-5435-43b4-9bc8-d13249662af8",
   "metadata": {},
   "source": [
    "### 4.8.7. Documentation Strings"
   ]
  },
  {
   "cell_type": "markdown",
   "id": "a3f8029f-a174-4d58-b549-272ff8ade5b3",
   "metadata": {},
   "source": [
    "Here are some conventions about the content and formatting of documentation strings.\n",
    "\n",
    "> 这里有一些关于文档字符串的内容和格式的约定。"
   ]
  },
  {
   "cell_type": "markdown",
   "id": "6f20afa4-2b4b-40f7-9374-df136bb362b3",
   "metadata": {},
   "source": [
    "The first line should always be a short, concise summary of the object’s purpose. For brevity, it should not explicitly state the object’s name or type, since these are available by other means (except if the name happens to be a verb describing a function’s operation). This line should begin with a capital letter and end with a period.\n",
    "\n",
    "> 第一行应该始终是对该对象的目的进行简短的、扼要的总结。为了简洁起见，它不应该明确说明对象的名称或类型，因为这些都可以通过其他方式获得（除非名称刚好是描述函数操作的动词）。这一行应该以大写字母开始，以句号结束。"
   ]
  },
  {
   "cell_type": "markdown",
   "id": "c7fa23ad-ffff-4200-b730-766aaad9e153",
   "metadata": {},
   "source": [
    "If there are more lines in the documentation string, the second line should be blank, visually separating the summary from the rest of the description. The following lines should be one or more paragraphs describing the object’s calling conventions, its side effects, etc.\n",
    "\n",
    "> 如果文档字符串中有更多的行，第二行应该是空白的，从视觉上将摘要与其他描述分开。接下来的几行应该是一个或多个段落，描述对象的调用惯例，它的副作用等。"
   ]
  },
  {
   "cell_type": "markdown",
   "id": "bbf34ac9-66f2-472a-8734-282e7fe2ca3f",
   "metadata": {},
   "source": [
    "The Python parser does not strip indentation from multi-line string literals in Python, so tools that process documentation have to strip indentation if desired. This is done using the following convention. The first non-blank line *after* the first line of the string determines the amount of indentation for the entire documentation string. (We can’t use the first line since it is generally adjacent to the string’s opening quotes so its indentation is not apparent in the string literal.) Whitespace “equivalent” to this indentation is then stripped from the start of all lines of the string. Lines that are indented less should not occur, but if they occur all their leading whitespace should be stripped. Equivalence of whitespace should be tested after expansion of tabs (to 8 spaces, normally).\n",
    "\n",
    "> 在Python中，Python分析器不会从多行字符串文字中剥离缩进，所以处理文档的工具必须在需要时剥离缩进。这是用下面的约定完成的。字符串的第一行*之后*的第一个非空行决定了整个文档字符串的缩进量。(我们不能使用第一行，因为它通常与字符串的开头引号相邻，所以它的缩进在字符串字面中不明显。) 与此缩进 \"相当 \"的空格符将从字符串的所有行的开始处剥离。缩进较少的行不应该出现，但如果出现的话，其前面的所有空格符应该被剥离。在扩展制表符（通常为8个空格）之后，应测试空格符的等效性。"
   ]
  },
  {
   "cell_type": "markdown",
   "id": "884030f2-3031-493b-8da4-1c6d1d41c35e",
   "metadata": {},
   "source": [
    "Here is an example of a multi-line docstring:\n",
    "\n",
    "> 下面是一个多行文档串的例子："
   ]
  },
  {
   "cell_type": "code",
   "execution_count": 13,
   "id": "bbc61ee6-c350-47f3-a556-e8a2326f1dd2",
   "metadata": {},
   "outputs": [
    {
     "name": "stdout",
     "output_type": "stream",
     "text": [
      "Do nothing, but document it.\n",
      "\n",
      "    No, really, it doesn't do anything.\n",
      "    \n"
     ]
    }
   ],
   "source": [
    "def my_function():\n",
    "    \"\"\"Do nothing, but document it.\n",
    "\n",
    "    No, really, it doesn't do anything.\n",
    "    \"\"\"\n",
    "    pass\n",
    "\n",
    "print(my_function.__doc__)"
   ]
  },
  {
   "cell_type": "markdown",
   "id": "f15f3982-74bf-4871-90e7-2e067345b9e6",
   "metadata": {},
   "source": [
    "### 4.8.8. Function Annotations"
   ]
  },
  {
   "cell_type": "markdown",
   "id": "a9cdebd4-563b-454b-81ae-abf185009460",
   "metadata": {},
   "source": [
    "[Function annotations](https://docs.python.org/3/reference/compound_stmts.html#function) are completely optional metadata information about the types used by user-defined functions (see [**PEP 3107**](https://www.python.org/dev/peps/pep-3107) and [**PEP 484**](https://www.python.org/dev/peps/pep-0484) for more information).\n",
    "\n",
    "> [函数注释](https://docs.python.org/3/reference/compound_stmts.html#function)是关于用户定义的函数所使用的类型的完全可选的元数据信息（更多信息见[**PEP 3107**](https://www.python.org/dev/peps/pep-3107)和[**PEP 484**](https://www.python.org/dev/peps/pep-0484)）。"
   ]
  },
  {
   "cell_type": "markdown",
   "id": "122edf41-c8df-4af1-acac-c65636189044",
   "metadata": {},
   "source": [
    "[Annotations](https://docs.python.org/3/glossary.html#term-function-annotation) are stored in the `__annotations__` attribute of the function as a dictionary and have no effect on any other part of the function. Parameter annotations are defined by a colon after the parameter name, followed by an expression evaluating to the value of the annotation. Return annotations are defined by a literal `->`, followed by an expression, between the parameter list and the colon denoting the end of the [`def`](https://docs.python.org/3/reference/compound_stmts.html#def) statement. The following example has a required argument, an optional argument, and the return value annotated:\n",
    "\n",
    "> [注释](https://docs.python.org/3/glossary.html#term-function-annotation)作为一个字典存储在函数的`__annotations__`属性中，对函数的任何其他部分没有影响。参数注解是由参数名后面的冒号定义的，后面是对注解的值进行运算求值的表达式。返回注释的定义是在参数列表和表示[`def`](https://docs.python.org/3/reference/compound_stmts.html#def)语句结束的冒号之间，用一个字面的`->`，后面是一个表达式。下面的例子有一个必需的参数、一个可选参数和返回值的注释。"
   ]
  },
  {
   "cell_type": "code",
   "execution_count": 2,
   "id": "f0c9261c-d07d-48f4-a4a6-6b029465ab44",
   "metadata": {},
   "outputs": [
    {
     "name": "stdout",
     "output_type": "stream",
     "text": [
      "Annotations: {'ham': <class 'str'>, 'eggs': <class 'str'>, 'return': <class 'str'>}\n",
      "Arguments: spam eggs\n"
     ]
    },
    {
     "data": {
      "text/plain": [
       "'spam and eggs'"
      ]
     },
     "execution_count": 2,
     "metadata": {},
     "output_type": "execute_result"
    }
   ],
   "source": [
    "def f(ham: str, eggs: str = 'eggs') -> str:\n",
    "    print(\"Annotations:\", f.__annotations__)\n",
    "    print(\"Arguments:\", ham, eggs)\n",
    "    return ham + ' and ' + eggs\n",
    "\n",
    "f('spam')"
   ]
  },
  {
   "cell_type": "markdown",
   "id": "984c9741-a915-4bd0-950a-6f38b2de2e03",
   "metadata": {},
   "source": [
    "## 4.9. Intermezzo: Coding Style"
   ]
  },
  {
   "cell_type": "markdown",
   "id": "2315663a-2702-4de6-8be0-1a4fed22a6ab",
   "metadata": {},
   "source": [
    "Now that you are about to write longer, more complex pieces of Python, it is a good time to talk about *coding style*. Most languages can be written (or more concise, *formatted*) in different styles; some are more readable than others. Making it easy for others to read your code is always a good idea, and adopting a nice coding style helps tremendously for that.\n",
    "\n",
    "> 现在你要写更长、更复杂的Python作品了，现在是谈论*编码风格*的好时机。大多数语言可以用不同的风格来写（或者更简洁，*格式化*）；有些比其他语言更易读。让别人容易阅读你的代码总是一个好主意，采用漂亮的编码风格对这一点有很大帮助。"
   ]
  },
  {
   "cell_type": "markdown",
   "id": "82038881-40fb-4b6a-b427-3f5149dcef2d",
   "metadata": {},
   "source": [
    "## **Footnotes**"
   ]
  },
  {
   "cell_type": "markdown",
   "id": "e5455b3c-5cfd-43f8-a3b1-35b66cca8e6e",
   "metadata": {},
   "source": [
    "[^1]: Actually, *call by object reference* would be a better description, since if a mutable object is passed, the caller will see any changes the callee makes to it (items inserted into a list).\n",
    "\n",
    "> [^1]: 实际上，*通过对象引用来调用*会是一个更好的描述，因为如果传递了一个可变的对象，调用者会看到被调用者对它的任何改变（插入到列表中的项目）。"
   ]
  }
 ],
 "metadata": {
  "kernelspec": {
   "display_name": "Python 3 (ipykernel)",
   "language": "python",
   "name": "python3"
  },
  "language_info": {
   "codemirror_mode": {
    "name": "ipython",
    "version": 3
   },
   "file_extension": ".py",
   "mimetype": "text/x-python",
   "name": "python",
   "nbconvert_exporter": "python",
   "pygments_lexer": "ipython3",
   "version": "3.10.4"
  }
 },
 "nbformat": 4,
 "nbformat_minor": 5
}
