{
 "cells": [
  {
   "cell_type": "code",
   "execution_count": 1,
   "id": "e6e18212-242e-4139-8e8d-ef37ee8c207c",
   "metadata": {},
   "outputs": [],
   "source": [
    "from IPython.core.interactiveshell import InteractiveShell\n",
    "InteractiveShell.ast_node_interactivity = \"all\""
   ]
  },
  {
   "cell_type": "markdown",
   "id": "f8d05c79-c670-4b86-8ce8-938339e05cd2",
   "metadata": {},
   "source": [
    "Some versions of the Python interpreter support editing of the current input line and history substitution, similar to facilities found in the Korn shell and the GNU Bash shell. This is implemented using the [GNU Readline](https://tiswww.case.edu/php/chet/readline/rltop.html) library, which supports various styles of editing. This library has its own documentation which we won’t duplicate here.\n",
    "\n",
    "> 某些版本的Python解释器支持对当前输入行的编辑和历史替换，类似于Korn shell和GNU Bash shell中的设施。这是用 [GNU Readline](https://tiswww.case.edu/php/chet/readline/rltop.html) 库实现的，它支持各种风格的编辑。这个库有自己的文档，我们不在此重复。"
   ]
  },
  {
   "cell_type": "markdown",
   "id": "c4b5ef91-38bc-4da2-a0ad-af096b58a888",
   "metadata": {},
   "source": [
    "## 14.1. Tab Completion and History Editing"
   ]
  },
  {
   "cell_type": "markdown",
   "id": "e19ad075-b2d3-4bc0-8137-14ca47050c52",
   "metadata": {},
   "source": [
    "Completion of variable and module names is [automatically enabled](https://docs.python.org/3/library/site.html#rlcompleter-config) at interpreter startup so that the Tab key invokes the completion function; it looks at Python statement names, the current local variables, and the available module names. For dotted expressions such as `string.a`, it will evaluate the expression up to the final `'.'` and then suggest completions from the attributes of the resulting object. Note that this may execute application-defined code if an object with a `__getattr__()` method is part of the expression. The default configuration also saves your history into a file named `.python_history` in your user directory. The history will be available again during the next interactive interpreter session.\n",
    "\n",
    "> 变量和模块名称的补全在解释器启动时[自动启用](https://docs.python.org/3/library/site.html#rlcompleter-config)，这样Tab键就会调用补全功能；它查看Python语句名称、当前局部变量和可用的模块名称。对于带点的表达式，如 `string.a`，它将对表达式进行运算，直到最后的 `'.'`，然后从结果对象的属性中建议补全。注意，如果表达式中包含有`__getattr__()`方法的对象，这可能会执行应用程序定义的代码。默认配置也会将你的历史记录保存在用户目录下一个名为 `.python_history` 的文件中。在下一次交互式解释器会话中，该历史记录将再次可用。"
   ]
  },
  {
   "cell_type": "markdown",
   "id": "c8094681-9495-4751-8e4c-fb1104cc663b",
   "metadata": {},
   "source": [
    "## 14.2. Alternatives to the Interactive Interpreter"
   ]
  },
  {
   "cell_type": "markdown",
   "id": "9c745b3c-8c98-4606-b3f9-c265773d33b2",
   "metadata": {},
   "source": [
    "This facility is an enormous step forward compared to earlier versions of the interpreter; however, some wishes are left: It would be nice if the proper indentation were suggested on continuation lines (the parser knows if an indent token is required next). The completion mechanism might use the interpreter’s symbol table. A command to check (or even suggest) matching parentheses, quotes, etc., would also be useful.\n",
    "\n",
    "One alternative enhanced interactive interpreter that has been around for quite some time is [IPython](https://ipython.org/), which features tab completion, object exploration and advanced history management. It can also be thoroughly customized and embedded into other applications. Another similar enhanced interactive environment is [bpython](https://www.bpython-interpreter.org/).\n",
    "\n",
    "> 与早期版本的解释器相比，这一功能是一个巨大的进步；然而，还存在一些愿望。如果能在延续行上建议适当的缩进，那就更好了（解析器知道接下来是否需要缩进标记）。补全机制可以使用解释器的符号表。一个检查（甚至建议）匹配的括号、引号等的命令也会很有用。\n",
    ">\n",
    "> 一个已经存在了相当长一段时间的增强型交互式解释器是[IPython](https://ipython.org/)，它的特点是tab键补全、对象探索和高级历史管理。它也可以被彻底定制并嵌入到其他的应用程序中。另一个类似的增强型交互环境是[bpython](https://www.bpython-interpreter.org/)。"
   ]
  }
 ],
 "metadata": {
  "kernelspec": {
   "display_name": "Python 3 (ipykernel)",
   "language": "python",
   "name": "python3"
  },
  "language_info": {
   "codemirror_mode": {
    "name": "ipython",
    "version": 3
   },
   "file_extension": ".py",
   "mimetype": "text/x-python",
   "name": "python",
   "nbconvert_exporter": "python",
   "pygments_lexer": "ipython3",
   "version": "3.10.4"
  }
 },
 "nbformat": 4,
 "nbformat_minor": 5
}
