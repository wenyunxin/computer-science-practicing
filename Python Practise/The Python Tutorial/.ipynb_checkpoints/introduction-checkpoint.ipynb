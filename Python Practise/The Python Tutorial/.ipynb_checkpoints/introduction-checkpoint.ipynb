{
 "cells": [
  {
   "cell_type": "markdown",
   "id": "626f6716",
   "metadata": {},
   "source": [
    "# An Informal Introduction to Python {#tut-informal}\n",
    "\n",
    "In the following examples, input and output are distinguished by the\n",
    "presence or absence of prompts (`>>>`{.interpreted-text role=\"term\"} and\n",
    "`...`{.interpreted-text role=\"term\"}): to repeat the example, you must\n",
    "type everything after the prompt, when the prompt appears; lines that do\n",
    "not begin with a prompt are output from the interpreter. Note that a\n",
    "secondary prompt on a line by itself in an example means you must type a\n",
    "blank line; this is used to end a multi-line command.\n",
    "\n",
    "::: only\n",
    "html\n",
    "\n",
    "You can toggle the display of prompts and output by clicking on `>>>` in\n",
    "the upper-right corner of an example box. If you hide the prompts and\n",
    "output for an example, then you can easily copy and paste the input\n",
    "lines into your interpreter.\n",
    ":::\n",
    "\n",
    "::: index\n",
    "single: \\# (hash); comment\n",
    ":::\n",
    "\n",
    "Many of the examples in this manual, even those entered at the\n",
    "interactive prompt, include comments. Comments in Python start with the\n",
    "hash character, `#`, and extend to the end of the physical line. A\n",
    "comment may appear at the start of a line or following whitespace or\n",
    "code, but not within a string literal. A hash character within a string\n",
    "literal is just a hash character. Since comments are to clarify code and\n",
    "are not interpreted by Python, they may be omitted when typing in\n",
    "examples.\n",
    "\n",
    "Some examples:"
   ]
  },
  {
   "cell_type": "code",
   "execution_count": null,
   "id": "d2d3ca1d",
   "metadata": {},
   "outputs": [],
   "source": [
    "# this is the first comment\n",
    "spam = 1  # and this is the second comment\n",
    "          # ... and now a third!\n",
    "text = \"# This is not a comment because it's inside quotes.\""
   ]
  },
  {
   "cell_type": "markdown",
   "id": "c803f7d5",
   "metadata": {},
   "source": [
    "## Using Python as a Calculator {#tut-calculator}\n",
    "\n",
    "Let\\'s try some simple Python commands. Start the interpreter and wait\n",
    "for the primary prompt, `>>>`. (It shouldn\\'t take long.)\n",
    "\n",
    "### Numbers {#tut-numbers}\n",
    "\n",
    "The interpreter acts as a simple calculator: you can type an expression\n",
    "at it and it will write the value. Expression syntax is straightforward:\n",
    "the operators `+`, `-`, `*` and `/` work just like in most other\n",
    "languages (for example, Pascal or C); parentheses (`()`) can be used for\n",
    "grouping. For example:"
   ]
  },
  {
   "cell_type": "code",
   "execution_count": null,
   "id": "18621b09",
   "metadata": {},
   "outputs": [],
   "source": [
    ">>> 2 + 2\n",
    "4\n",
    ">>> 50 - 5*6\n",
    "20\n",
    ">>> (50 - 5*6) / 4\n",
    "5.0\n",
    ">>> 8 / 5  # division always returns a floating point number\n",
    "1.6"
   ]
  },
  {
   "cell_type": "markdown",
   "id": "0c826450",
   "metadata": {},
   "source": [
    "The integer numbers (e.g. `2`, `4`, `20`) have type\n",
    "`int`{.interpreted-text role=\"class\"}, the ones with a fractional part\n",
    "(e.g. `5.0`, `1.6`) have type `float`{.interpreted-text role=\"class\"}.\n",
    "We will see more about numeric types later in the tutorial.\n",
    "\n",
    "Division (`/`) always returns a float. To do\n",
    "`floor division`{.interpreted-text role=\"term\"} and get an integer\n",
    "result (discarding any fractional result) you can use the `//` operator;\n",
    "to calculate the remainder you can use `%`:"
   ]
  },
  {
   "cell_type": "code",
   "execution_count": null,
   "id": "eac2e590",
   "metadata": {},
   "outputs": [],
   "source": [
    ">>> 17 / 3  # classic division returns a float\n",
    "5.666666666666667\n",
    ">>>\n",
    ">>> 17 // 3  # floor division discards the fractional part\n",
    "5\n",
    ">>> 17 % 3  # the % operator returns the remainder of the division\n",
    "2\n",
    ">>> 5 * 3 + 2  # floored quotient * divisor + remainder\n",
    "17"
   ]
  },
  {
   "cell_type": "markdown",
   "id": "974b1a73",
   "metadata": {},
   "source": [
    "With Python, it is possible to use the `**` operator to calculate\n",
    "powers[^1]:"
   ]
  },
  {
   "cell_type": "code",
   "execution_count": null,
   "id": "19948559",
   "metadata": {},
   "outputs": [],
   "source": [
    ">>> 5 ** 2  # 5 squared\n",
    "25\n",
    ">>> 2 ** 7  # 2 to the power of 7\n",
    "128"
   ]
  },
  {
   "cell_type": "markdown",
   "id": "b16d33b1",
   "metadata": {},
   "source": [
    "The equal sign (`=`) is used to assign a value to a variable.\n",
    "Afterwards, no result is displayed before the next interactive prompt:"
   ]
  },
  {
   "cell_type": "code",
   "execution_count": null,
   "id": "062f5952",
   "metadata": {},
   "outputs": [],
   "source": [
    ">>> width = 20\n",
    ">>> height = 5 * 9\n",
    ">>> width * height\n",
    "900"
   ]
  },
  {
   "cell_type": "markdown",
   "id": "209e97a1",
   "metadata": {},
   "source": [
    "If a variable is not \\\"defined\\\" (assigned a value), trying to use it\n",
    "will give you an error:"
   ]
  },
  {
   "cell_type": "code",
   "execution_count": null,
   "id": "2e131a78",
   "metadata": {},
   "outputs": [],
   "source": [
    ">>> n  # try to access an undefined variable\n",
    "Traceback (most recent call last):\n",
    "  File \"<stdin>\", line 1, in <module>\n",
    "NameError: name 'n' is not defined"
   ]
  },
  {
   "cell_type": "markdown",
   "id": "48a1a622",
   "metadata": {},
   "source": [
    "There is full support for floating point; operators with mixed type\n",
    "operands convert the integer operand to floating point:"
   ]
  },
  {
   "cell_type": "code",
   "execution_count": null,
   "id": "dbb51d26",
   "metadata": {},
   "outputs": [],
   "source": [
    ">>> 4 * 3.75 - 1\n",
    "14.0"
   ]
  },
  {
   "cell_type": "markdown",
   "id": "189edf8e",
   "metadata": {},
   "source": [
    "In interactive mode, the last printed expression is assigned to the\n",
    "variable `_`. This means that when you are using Python as a desk\n",
    "calculator, it is somewhat easier to continue calculations, for example:"
   ]
  },
  {
   "cell_type": "code",
   "execution_count": null,
   "id": "8e60072f",
   "metadata": {},
   "outputs": [],
   "source": [
    ">>> tax = 12.5 / 100\n",
    ">>> price = 100.50\n",
    ">>> price * tax\n",
    "12.5625\n",
    ">>> price + _\n",
    "113.0625\n",
    ">>> round(_, 2)\n",
    "113.06"
   ]
  },
  {
   "cell_type": "markdown",
   "id": "0cc5dfcc",
   "metadata": {},
   "source": [
    "This variable should be treated as read-only by the user. Don\\'t\n",
    "explicitly assign a value to it \\-\\-- you would create an independent\n",
    "local variable with the same name masking the built-in variable with its\n",
    "magic behavior.\n",
    "\n",
    "In addition to `int`{.interpreted-text role=\"class\"} and\n",
    "`float`{.interpreted-text role=\"class\"}, Python supports other types of\n",
    "numbers, such as `~decimal.Decimal`{.interpreted-text role=\"class\"} and\n",
    "`~fractions.Fraction`{.interpreted-text role=\"class\"}. Python also has\n",
    "built-in support for `complex numbers <typesnumeric>`{.interpreted-text\n",
    "role=\"ref\"}, and uses the `j` or `J` suffix to indicate the imaginary\n",
    "part (e.g. `3+5j`).\n",
    "\n",
    "### Strings {#tut-strings}\n",
    "\n",
    "Besides numbers, Python can also manipulate strings, which can be\n",
    "expressed in several ways. They can be enclosed in single quotes\n",
    "(`'...'`) or double quotes (`\"...\"`) with the same result[^2]. `\\` can\n",
    "be used to escape quotes:"
   ]
  },
  {
   "cell_type": "code",
   "execution_count": null,
   "id": "8baa1918",
   "metadata": {},
   "outputs": [],
   "source": [
    ">>> 'spam eggs'  # single quotes\n",
    "'spam eggs'\n",
    ">>> 'doesn\\'t'  # use \\' to escape the single quote...\n",
    "\"doesn't\"\n",
    ">>> \"doesn't\"  # ...or use double quotes instead\n",
    "\"doesn't\"\n",
    ">>> '\"Yes,\" they said.'\n",
    "'\"Yes,\" they said.'\n",
    ">>> \"\\\"Yes,\\\" they said.\"\n",
    "'\"Yes,\" they said.'\n",
    ">>> '\"Isn\\'t,\" they said.'\n",
    "'\"Isn\\'t,\" they said.'"
   ]
  },
  {
   "cell_type": "markdown",
   "id": "b9684c37",
   "metadata": {},
   "source": [
    "In the interactive interpreter, the output string is enclosed in quotes\n",
    "and special characters are escaped with backslashes. While this might\n",
    "sometimes look different from the input (the enclosing quotes could\n",
    "change), the two strings are equivalent. The string is enclosed in\n",
    "double quotes if the string contains a single quote and no double\n",
    "quotes, otherwise it is enclosed in single quotes. The\n",
    "`print`{.interpreted-text role=\"func\"} function produces a more readable\n",
    "output, by omitting the enclosing quotes and by printing escaped and\n",
    "special characters:"
   ]
  },
  {
   "cell_type": "code",
   "execution_count": null,
   "id": "aeffd4d5",
   "metadata": {},
   "outputs": [],
   "source": [
    ">>> '\"Isn\\'t,\" they said.'\n",
    "'\"Isn\\'t,\" they said.'\n",
    ">>> print('\"Isn\\'t,\" they said.')\n",
    "\"Isn't,\" they said.\n",
    ">>> s = 'First line.\\nSecond line.'  # \\n means newline\n",
    ">>> s  # without print(), \\n is included in the output\n",
    "'First line.\\nSecond line.'\n",
    ">>> print(s)  # with print(), \\n produces a new line\n",
    "First line.\n",
    "Second line."
   ]
  },
  {
   "cell_type": "markdown",
   "id": "1696d64d",
   "metadata": {},
   "source": [
    "If you don\\'t want characters prefaced by `\\` to be interpreted as\n",
    "special characters, you can use *raw strings* by adding an `r` before\n",
    "the first quote:"
   ]
  },
  {
   "cell_type": "code",
   "execution_count": null,
   "id": "c50911fd",
   "metadata": {},
   "outputs": [],
   "source": [
    ">>> print('C:\\some\\name')  # here \\n means newline!\n",
    "C:\\some\n",
    "ame\n",
    ">>> print(r'C:\\some\\name')  # note the r before the quote\n",
    "C:\\some\\name"
   ]
  },
  {
   "cell_type": "markdown",
   "id": "dd518477",
   "metadata": {},
   "source": [
    "String literals can span multiple lines. One way is using triple-quotes:\n",
    "`\"\"\"...\"\"\"` or `'''...'''`. End of lines are automatically included in\n",
    "the string, but it\\'s possible to prevent this by adding a `\\` at the\n",
    "end of the line. The following example:"
   ]
  },
  {
   "cell_type": "code",
   "execution_count": null,
   "id": "45f2ea21",
   "metadata": {},
   "outputs": [],
   "source": [
    "print(\"\"\"\\\n",
    "Usage: thingy [OPTIONS]\n",
    "     -h                        Display this usage message\n",
    "     -H hostname               Hostname to connect to\n",
    "\"\"\")"
   ]
  },
  {
   "cell_type": "markdown",
   "id": "418db3bd",
   "metadata": {},
   "source": [
    "produces the following output (note that the initial newline is not\n",
    "included):"
   ]
  },
  {
   "cell_type": "code",
   "execution_count": null,
   "id": "9f44e57e",
   "metadata": {
    "attributes": {
     "classes": [
      "text"
     ],
     "id": ""
    }
   },
   "outputs": [],
   "source": [
    "Usage: thingy [OPTIONS]\n",
    "     -h                        Display this usage message\n",
    "     -H hostname               Hostname to connect to"
   ]
  },
  {
   "cell_type": "markdown",
   "id": "e19a855e",
   "metadata": {},
   "source": [
    "Strings can be concatenated (glued together) with the `+` operator, and\n",
    "repeated with `*`:"
   ]
  },
  {
   "cell_type": "code",
   "execution_count": null,
   "id": "140ffcba",
   "metadata": {},
   "outputs": [],
   "source": [
    ">>> # 3 times 'un', followed by 'ium'\n",
    ">>> 3 * 'un' + 'ium'\n",
    "'unununium'"
   ]
  },
  {
   "cell_type": "markdown",
   "id": "3b34886a",
   "metadata": {},
   "source": [
    "Two or more *string literals* (i.e. the ones enclosed between quotes)\n",
    "next to each other are automatically concatenated. :"
   ]
  },
  {
   "cell_type": "code",
   "execution_count": null,
   "id": "753a59fd",
   "metadata": {},
   "outputs": [],
   "source": [
    ">>> 'Py' 'thon'\n",
    "'Python'"
   ]
  },
  {
   "cell_type": "markdown",
   "id": "b8859980",
   "metadata": {},
   "source": [
    "This feature is particularly useful when you want to break long strings:"
   ]
  },
  {
   "cell_type": "code",
   "execution_count": null,
   "id": "471a32e0",
   "metadata": {},
   "outputs": [],
   "source": [
    ">>> text = ('Put several strings within parentheses '\n",
    "...         'to have them joined together.')\n",
    ">>> text\n",
    "'Put several strings within parentheses to have them joined together.'"
   ]
  },
  {
   "cell_type": "markdown",
   "id": "c591e7ae",
   "metadata": {},
   "source": [
    "This only works with two literals though, not with variables or\n",
    "expressions:"
   ]
  },
  {
   "cell_type": "code",
   "execution_count": null,
   "id": "08738c77",
   "metadata": {},
   "outputs": [],
   "source": [
    ">>> prefix = 'Py'\n",
    ">>> prefix 'thon'  # can't concatenate a variable and a string literal\n",
    "  File \"<stdin>\", line 1\n",
    "    prefix 'thon'\n",
    "                ^\n",
    "SyntaxError: invalid syntax\n",
    ">>> ('un' * 3) 'ium'\n",
    "  File \"<stdin>\", line 1\n",
    "    ('un' * 3) 'ium'\n",
    "                   ^\n",
    "SyntaxError: invalid syntax"
   ]
  },
  {
   "cell_type": "markdown",
   "id": "4ce19957",
   "metadata": {},
   "source": [
    "If you want to concatenate variables or a variable and a literal, use\n",
    "`+`:"
   ]
  },
  {
   "cell_type": "code",
   "execution_count": null,
   "id": "c15b96c7",
   "metadata": {},
   "outputs": [],
   "source": [
    ">>> prefix + 'thon'\n",
    "'Python'"
   ]
  },
  {
   "cell_type": "markdown",
   "id": "ab615ffa",
   "metadata": {},
   "source": [
    "Strings can be *indexed* (subscripted), with the first character having\n",
    "index 0. There is no separate character type; a character is simply a\n",
    "string of size one:"
   ]
  },
  {
   "cell_type": "code",
   "execution_count": null,
   "id": "4befecfd",
   "metadata": {},
   "outputs": [],
   "source": [
    ">>> word = 'Python'\n",
    ">>> word[0]  # character in position 0\n",
    "'P'\n",
    ">>> word[5]  # character in position 5\n",
    "'n'"
   ]
  },
  {
   "cell_type": "markdown",
   "id": "112cc4ee",
   "metadata": {},
   "source": [
    "Indices may also be negative numbers, to start counting from the right:"
   ]
  },
  {
   "cell_type": "code",
   "execution_count": null,
   "id": "a001a54b",
   "metadata": {},
   "outputs": [],
   "source": [
    ">>> word[-1]  # last character\n",
    "'n'\n",
    ">>> word[-2]  # second-last character\n",
    "'o'\n",
    ">>> word[-6]\n",
    "'P'"
   ]
  },
  {
   "cell_type": "markdown",
   "id": "ff48c634",
   "metadata": {},
   "source": [
    "Note that since -0 is the same as 0, negative indices start from -1.\n",
    "\n",
    "In addition to indexing, *slicing* is also supported. While indexing is\n",
    "used to obtain individual characters, *slicing* allows you to obtain\n",
    "substring:"
   ]
  },
  {
   "cell_type": "code",
   "execution_count": null,
   "id": "18fca28a",
   "metadata": {},
   "outputs": [],
   "source": [
    ">>> word[0:2]  # characters from position 0 (included) to 2 (excluded)\n",
    "'Py'\n",
    ">>> word[2:5]  # characters from position 2 (included) to 5 (excluded)\n",
    "'tho'"
   ]
  },
  {
   "cell_type": "markdown",
   "id": "8e420f9a",
   "metadata": {},
   "source": [
    "Slice indices have useful defaults; an omitted first index defaults to\n",
    "zero, an omitted second index defaults to the size of the string being\n",
    "sliced. :"
   ]
  },
  {
   "cell_type": "code",
   "execution_count": null,
   "id": "7d1c5ff5",
   "metadata": {},
   "outputs": [],
   "source": [
    ">>> word[:2]   # character from the beginning to position 2 (excluded)\n",
    "'Py'\n",
    ">>> word[4:]   # characters from position 4 (included) to the end\n",
    "'on'\n",
    ">>> word[-2:]  # characters from the second-last (included) to the end\n",
    "'on'"
   ]
  },
  {
   "cell_type": "markdown",
   "id": "9cb5bcc8",
   "metadata": {},
   "source": [
    "Note how the start is always included, and the end always excluded. This\n",
    "makes sure that `s[:i] + s[i:]` is always equal to `s`:"
   ]
  },
  {
   "cell_type": "code",
   "execution_count": null,
   "id": "a8921e6e",
   "metadata": {},
   "outputs": [],
   "source": [
    ">>> word[:2] + word[2:]\n",
    "'Python'\n",
    ">>> word[:4] + word[4:]\n",
    "'Python'"
   ]
  },
  {
   "cell_type": "markdown",
   "id": "8fd21aee",
   "metadata": {},
   "source": [
    "One way to remember how slices work is to think of the indices as\n",
    "pointing *between* characters, with the left edge of the first character\n",
    "numbered 0. Then the right edge of the last character of a string of *n*\n",
    "characters has index *n*, for example:"
   ]
  },
  {
   "cell_type": "code",
   "execution_count": null,
   "id": "ee0fdc9f",
   "metadata": {},
   "outputs": [],
   "source": [
    "+---+---+---+---+---+---+\n",
    "| P | y | t | h | o | n |\n",
    "+---+---+---+---+---+---+\n",
    "0   1   2   3   4   5   6\n",
    "-6  -5  -4  -3  -2  -1"
   ]
  },
  {
   "cell_type": "markdown",
   "id": "d59b3a12",
   "metadata": {},
   "source": [
    "The first row of numbers gives the position of the indices 0\\...6 in the\n",
    "string; the second row gives the corresponding negative indices. The\n",
    "slice from *i* to *j* consists of all characters between the edges\n",
    "labeled *i* and *j*, respectively.\n",
    "\n",
    "For non-negative indices, the length of a slice is the difference of the\n",
    "indices, if both are within bounds. For example, the length of\n",
    "`word[1:3]` is 2.\n",
    "\n",
    "Attempting to use an index that is too large will result in an error:"
   ]
  },
  {
   "cell_type": "code",
   "execution_count": null,
   "id": "eba99520",
   "metadata": {},
   "outputs": [],
   "source": [
    ">>> word[42]  # the word only has 6 characters\n",
    "Traceback (most recent call last):\n",
    "  File \"<stdin>\", line 1, in <module>\n",
    "IndexError: string index out of range"
   ]
  },
  {
   "cell_type": "markdown",
   "id": "55d57242",
   "metadata": {},
   "source": [
    "However, out of range slice indexes are handled gracefully when used for\n",
    "slicing:"
   ]
  },
  {
   "cell_type": "code",
   "execution_count": null,
   "id": "edd89822",
   "metadata": {},
   "outputs": [],
   "source": [
    ">>> word[4:42]\n",
    "'on'\n",
    ">>> word[42:]\n",
    "''"
   ]
  },
  {
   "cell_type": "markdown",
   "id": "e84c2a81",
   "metadata": {},
   "source": [
    "Python strings cannot be changed \\-\\-- they are\n",
    "`immutable`{.interpreted-text role=\"term\"}. Therefore, assigning to an\n",
    "indexed position in the string results in an error:"
   ]
  },
  {
   "cell_type": "code",
   "execution_count": null,
   "id": "d66491a3",
   "metadata": {},
   "outputs": [],
   "source": [
    ">>> word[0] = 'J'\n",
    "Traceback (most recent call last):\n",
    "  File \"<stdin>\", line 1, in <module>\n",
    "TypeError: 'str' object does not support item assignment\n",
    ">>> word[2:] = 'py'\n",
    "Traceback (most recent call last):\n",
    "  File \"<stdin>\", line 1, in <module>\n",
    "TypeError: 'str' object does not support item assignment"
   ]
  },
  {
   "cell_type": "markdown",
   "id": "4885aca3",
   "metadata": {},
   "source": [
    "If you need a different string, you should create a new one:"
   ]
  },
  {
   "cell_type": "code",
   "execution_count": null,
   "id": "defe5ec0",
   "metadata": {},
   "outputs": [],
   "source": [
    ">>> 'J' + word[1:]\n",
    "'Jython'\n",
    ">>> word[:2] + 'py'\n",
    "'Pypy'"
   ]
  },
  {
   "cell_type": "markdown",
   "id": "d26b6b1c",
   "metadata": {},
   "source": [
    "The built-in function `len`{.interpreted-text role=\"func\"} returns the\n",
    "length of a string:"
   ]
  },
  {
   "cell_type": "code",
   "execution_count": null,
   "id": "f3c6c0c6",
   "metadata": {},
   "outputs": [],
   "source": [
    ">>> s = 'supercalifragilisticexpialidocious'\n",
    ">>> len(s)\n",
    "34"
   ]
  },
  {
   "cell_type": "markdown",
   "id": "20328e69",
   "metadata": {},
   "source": [
    "::: seealso\n",
    "\n",
    "`textseq`{.interpreted-text role=\"ref\"}\n",
    "\n",
    ":   Strings are examples of *sequence types*, and support the common\n",
    "    operations supported by such types.\n",
    "\n",
    "`string-methods`{.interpreted-text role=\"ref\"}\n",
    "\n",
    ":   Strings support a large number of methods for basic transformations\n",
    "    and searching.\n",
    "\n",
    "`f-strings`{.interpreted-text role=\"ref\"}\n",
    "\n",
    ":   String literals that have embedded expressions.\n",
    "\n",
    "`formatstrings`{.interpreted-text role=\"ref\"}\n",
    "\n",
    ":   Information about string formatting with\n",
    "    `str.format`{.interpreted-text role=\"meth\"}.\n",
    "\n",
    "`old-string-formatting`{.interpreted-text role=\"ref\"}\n",
    "\n",
    ":   The old formatting operations invoked when strings are the left\n",
    "    operand of the `%` operator are described in more detail here.\n",
    ":::\n",
    "\n",
    "### Lists {#tut-lists}\n",
    "\n",
    "Python knows a number of *compound* data types, used to group together\n",
    "other values. The most versatile is the *list*, which can be written as\n",
    "a list of comma-separated values (items) between square brackets. Lists\n",
    "might contain items of different types, but usually the items all have\n",
    "the same type. :"
   ]
  },
  {
   "cell_type": "code",
   "execution_count": null,
   "id": "6f6fb1d5",
   "metadata": {},
   "outputs": [],
   "source": [
    ">>> squares = [1, 4, 9, 16, 25]\n",
    ">>> squares\n",
    "[1, 4, 9, 16, 25]"
   ]
  },
  {
   "cell_type": "markdown",
   "id": "e0373224",
   "metadata": {},
   "source": [
    "Like strings (and all other built-in `sequence`{.interpreted-text\n",
    "role=\"term\"} types), lists can be indexed and sliced:"
   ]
  },
  {
   "cell_type": "code",
   "execution_count": null,
   "id": "edcfa487",
   "metadata": {},
   "outputs": [],
   "source": [
    ">>> squares[0]  # indexing returns the item\n",
    "1\n",
    ">>> squares[-1]\n",
    "25\n",
    ">>> squares[-3:]  # slicing returns a new list\n",
    "[9, 16, 25]"
   ]
  },
  {
   "cell_type": "markdown",
   "id": "eaa908b9",
   "metadata": {},
   "source": [
    "All slice operations return a new list containing the requested\n",
    "elements. This means that the following slice returns a\n",
    "`shallow copy <shallow_vs_deep_copy>`{.interpreted-text role=\"ref\"} of\n",
    "the list:"
   ]
  },
  {
   "cell_type": "code",
   "execution_count": null,
   "id": "bf295d38",
   "metadata": {},
   "outputs": [],
   "source": [
    ">>> squares[:]\n",
    "[1, 4, 9, 16, 25]"
   ]
  },
  {
   "cell_type": "markdown",
   "id": "3e839cbf",
   "metadata": {},
   "source": [
    "Lists also support operations like concatenation:"
   ]
  },
  {
   "cell_type": "code",
   "execution_count": null,
   "id": "7a1f9d32",
   "metadata": {},
   "outputs": [],
   "source": [
    ">>> squares + [36, 49, 64, 81, 100]\n",
    "[1, 4, 9, 16, 25, 36, 49, 64, 81, 100]"
   ]
  },
  {
   "cell_type": "markdown",
   "id": "774b893e",
   "metadata": {},
   "source": [
    "Unlike strings, which are `immutable`{.interpreted-text role=\"term\"},\n",
    "lists are a `mutable`{.interpreted-text role=\"term\"} type, i.e. it is\n",
    "possible to change their content:"
   ]
  },
  {
   "cell_type": "code",
   "execution_count": null,
   "id": "529a3d3c",
   "metadata": {},
   "outputs": [],
   "source": [
    ">>> cubes = [1, 8, 27, 65, 125]  # something's wrong here\n",
    ">>> 4 ** 3  # the cube of 4 is 64, not 65!\n",
    "64\n",
    ">>> cubes[3] = 64  # replace the wrong value\n",
    ">>> cubes\n",
    "[1, 8, 27, 64, 125]"
   ]
  },
  {
   "cell_type": "markdown",
   "id": "f33264f5",
   "metadata": {},
   "source": [
    "You can also add new items at the end of the list, by using the\n",
    "`~list.append`{.interpreted-text role=\"meth\"} *method* (we will see more\n",
    "about methods later):"
   ]
  },
  {
   "cell_type": "code",
   "execution_count": null,
   "id": "83618e77",
   "metadata": {},
   "outputs": [],
   "source": [
    ">>> cubes.append(216)  # add the cube of 6\n",
    ">>> cubes.append(7 ** 3)  # and the cube of 7\n",
    ">>> cubes\n",
    "[1, 8, 27, 64, 125, 216, 343]"
   ]
  },
  {
   "cell_type": "markdown",
   "id": "e015b5d2",
   "metadata": {},
   "source": [
    "Assignment to slices is also possible, and this can even change the size\n",
    "of the list or clear it entirely:"
   ]
  },
  {
   "cell_type": "code",
   "execution_count": null,
   "id": "7765ad3e",
   "metadata": {},
   "outputs": [],
   "source": [
    ">>> letters = ['a', 'b', 'c', 'd', 'e', 'f', 'g']\n",
    ">>> letters\n",
    "['a', 'b', 'c', 'd', 'e', 'f', 'g']\n",
    ">>> # replace some values\n",
    ">>> letters[2:5] = ['C', 'D', 'E']\n",
    ">>> letters\n",
    "['a', 'b', 'C', 'D', 'E', 'f', 'g']\n",
    ">>> # now remove them\n",
    ">>> letters[2:5] = []\n",
    ">>> letters\n",
    "['a', 'b', 'f', 'g']\n",
    ">>> # clear the list by replacing all the elements with an empty list\n",
    ">>> letters[:] = []\n",
    ">>> letters\n",
    "[]"
   ]
  },
  {
   "cell_type": "markdown",
   "id": "7ca9c9d4",
   "metadata": {},
   "source": [
    "The built-in function `len`{.interpreted-text role=\"func\"} also applies\n",
    "to lists:"
   ]
  },
  {
   "cell_type": "code",
   "execution_count": null,
   "id": "39dac058",
   "metadata": {},
   "outputs": [],
   "source": [
    ">>> letters = ['a', 'b', 'c', 'd']\n",
    ">>> len(letters)\n",
    "4"
   ]
  },
  {
   "cell_type": "markdown",
   "id": "962bc77b",
   "metadata": {},
   "source": [
    "It is possible to nest lists (create lists containing other lists), for\n",
    "example:"
   ]
  },
  {
   "cell_type": "code",
   "execution_count": null,
   "id": "8890970b",
   "metadata": {},
   "outputs": [],
   "source": [
    ">>> a = ['a', 'b', 'c']\n",
    ">>> n = [1, 2, 3]\n",
    ">>> x = [a, n]\n",
    ">>> x\n",
    "[['a', 'b', 'c'], [1, 2, 3]]\n",
    ">>> x[0]\n",
    "['a', 'b', 'c']\n",
    ">>> x[0][1]\n",
    "'b'"
   ]
  },
  {
   "cell_type": "markdown",
   "id": "5a6bf96a",
   "metadata": {},
   "source": [
    "## First Steps Towards Programming {#tut-firststeps}\n",
    "\n",
    "Of course, we can use Python for more complicated tasks than adding two\n",
    "and two together. For instance, we can write an initial sub-sequence of\n",
    "the [Fibonacci series](https://en.wikipedia.org/wiki/Fibonacci_number)\n",
    "as follows:"
   ]
  },
  {
   "cell_type": "code",
   "execution_count": null,
   "id": "95b17d82",
   "metadata": {},
   "outputs": [],
   "source": [
    ">>> # Fibonacci series:\n",
    "... # the sum of two elements defines the next\n",
    "... a, b = 0, 1\n",
    ">>> while a < 10:\n",
    "...     print(a)\n",
    "...     a, b = b, a+b\n",
    "...\n",
    "0\n",
    "1\n",
    "1\n",
    "2\n",
    "3\n",
    "5\n",
    "8"
   ]
  },
  {
   "cell_type": "markdown",
   "id": "fecf279b",
   "metadata": {},
   "source": [
    "This example introduces several new features.\n",
    "\n",
    "-   The first line contains a *multiple assignment*: the variables `a`\n",
    "    and `b` simultaneously get the new values 0 and 1. On the last line\n",
    "    this is used again, demonstrating that the expressions on the\n",
    "    right-hand side are all evaluated first before any of the\n",
    "    assignments take place. The right-hand side expressions are\n",
    "    evaluated from the left to the right.\n",
    "\n",
    "-   The `while`{.interpreted-text role=\"keyword\"} loop executes as long\n",
    "    as the condition (here: `a < 10`) remains true. In Python, like in\n",
    "    C, any non-zero integer value is true; zero is false. The condition\n",
    "    may also be a string or list value, in fact any sequence; anything\n",
    "    with a non-zero length is true, empty sequences are false. The test\n",
    "    used in the example is a simple comparison. The standard comparison\n",
    "    operators are written the same as in C: `<` (less than), `>`\n",
    "    (greater than), `==` (equal to), `<=` (less than or equal to), `>=`\n",
    "    (greater than or equal to) and `!=` (not equal to).\n",
    "\n",
    "-   The *body* of the loop is *indented*: indentation is Python\\'s way\n",
    "    of grouping statements. At the interactive prompt, you have to type\n",
    "    a tab or space(s) for each indented line. In practice you will\n",
    "    prepare more complicated input for Python with a text editor; all\n",
    "    decent text editors have an auto-indent facility. When a compound\n",
    "    statement is entered interactively, it must be followed by a blank\n",
    "    line to indicate completion (since the parser cannot guess when you\n",
    "    have typed the last line). Note that each line within a basic block\n",
    "    must be indented by the same amount.\n",
    "\n",
    "-   The `print`{.interpreted-text role=\"func\"} function writes the value\n",
    "    of the argument(s) it is given. It differs from just writing the\n",
    "    expression you want to write (as we did earlier in the calculator\n",
    "    examples) in the way it handles multiple arguments, floating point\n",
    "    quantities, and strings. Strings are printed without quotes, and a\n",
    "    space is inserted between items, so you can format things nicely,\n",
    "    like this:"
   ]
  },
  {
   "cell_type": "code",
   "execution_count": null,
   "id": "6aa6177a",
   "metadata": {},
   "outputs": [],
   "source": [
    ">>> i = 256*256\n",
    ">>> print('The value of i is', i)\n",
    "The value of i is 65536"
   ]
  },
  {
   "cell_type": "markdown",
   "id": "769683e0",
   "metadata": {},
   "source": [
    "The keyword argument *end* can be used to avoid the newline after\n",
    "    the output, or end the output with a different string:"
   ]
  },
  {
   "cell_type": "code",
   "execution_count": null,
   "id": "ab3e986b",
   "metadata": {},
   "outputs": [],
   "source": [
    ">>> a, b = 0, 1\n",
    ">>> while a < 1000:\n",
    "...     print(a, end=',')\n",
    "...     a, b = b, a+b\n",
    "...\n",
    "0,1,1,2,3,5,8,13,21,34,55,89,144,233,377,610,987,"
   ]
  },
  {
   "cell_type": "markdown",
   "id": "74760566",
   "metadata": {},
   "source": [
    "**Footnotes**\n",
    "\n",
    "[^1]: Since `**` has higher precedence than `-`, `-3**2` will be\n",
    "    interpreted as `-(3**2)` and thus result in `-9`. To avoid this and\n",
    "    get `9`, you can use `(-3)**2`.\n",
    "\n",
    "[^2]: Unlike other languages, special characters such as `\\n` have the\n",
    "    same meaning with both single (`'...'`) and double (`\"...\"`) quotes.\n",
    "    The only difference between the two is that within single quotes you\n",
    "    don\\'t need to escape `\"` (but you have to escape `\\'`) and vice\n",
    "    versa."
   ]
  }
 ],
 "metadata": {
  "kernelspec": {
   "display_name": "Python 3 (ipykernel)",
   "language": "python",
   "name": "python3"
  },
  "language_info": {
   "codemirror_mode": {
    "name": "ipython",
    "version": 3
   },
   "file_extension": ".py",
   "mimetype": "text/x-python",
   "name": "python",
   "nbconvert_exporter": "python",
   "pygments_lexer": "ipython3",
   "version": "3.10.4"
  }
 },
 "nbformat": 4,
 "nbformat_minor": 5
}
