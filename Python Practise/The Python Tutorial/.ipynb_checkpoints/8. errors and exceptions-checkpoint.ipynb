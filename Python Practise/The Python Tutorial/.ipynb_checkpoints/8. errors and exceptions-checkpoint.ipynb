{
 "cells": [
  {
   "cell_type": "code",
   "execution_count": 1,
   "id": "4ee55ea6-477c-4645-87c5-a5aca1d57e40",
   "metadata": {},
   "outputs": [],
   "source": [
    "from IPython.core.interactiveshell import InteractiveShell\n",
    "InteractiveShell.ast_node_interactivity = \"all\""
   ]
  },
  {
   "cell_type": "markdown",
   "id": "86814cd7-61d6-4c28-849d-28b1300fb68c",
   "metadata": {},
   "source": [
    "Until now error messages haven’t been more than mentioned, but if you have tried out the examples you have probably seen some. There are (at least) two distinguishable kinds of errors: *syntax errors* and *exceptions*.\n",
    "\n",
    "> 到目前为止，错误信息还没有被提及，但如果你已经尝试过这些例子，你可能已经看到了一些。有（至少）两种可区分的错误：*syntax errors* and *exceptions*。"
   ]
  },
  {
   "cell_type": "markdown",
   "id": "9365689f-d4ab-4358-ad4a-7d1d4643cbb7",
   "metadata": {},
   "source": [
    "## 8.1. Syntax Errors"
   ]
  },
  {
   "cell_type": "markdown",
   "id": "d4a48210-e25e-41cf-b8ee-bbc39b779a92",
   "metadata": {},
   "source": [
    "Syntax errors, also known as parsing errors, are perhaps the most common kind of complaint you get while you are still learning Python:\n",
    "\n",
    "> Syntax errors（语法错误），也被称为parsing errors（解析错误），可能是你在学习Python时最常见的一种报错："
   ]
  },
  {
   "cell_type": "code",
   "execution_count": 3,
   "id": "1251bd4f-31b9-475c-9e80-99f25ee6cfaa",
   "metadata": {},
   "outputs": [
    {
     "ename": "SyntaxError",
     "evalue": "invalid syntax (3784422945.py, line 1)",
     "output_type": "error",
     "traceback": [
      "\u001b[1;36m  Input \u001b[1;32mIn [3]\u001b[1;36m\u001b[0m\n\u001b[1;33m    While True print('Hello world')\u001b[0m\n\u001b[1;37m          ^\u001b[0m\n\u001b[1;31mSyntaxError\u001b[0m\u001b[1;31m:\u001b[0m invalid syntax\n"
     ]
    }
   ],
   "source": [
    "While True print('Hello world')"
   ]
  },
  {
   "cell_type": "markdown",
   "id": "101444b7-cf9a-4f31-b625-5d02dc7c12df",
   "metadata": {},
   "source": [
    "The parser repeats the offending line and displays a little ‘arrow’ pointing at the earliest point in the line where the error was detected. The error is caused by (or at least detected at) the token *preceding* the arrow: in the example, the error is detected at the function [`print()`](https://docs.python.org/3/library/functions.html#print), since a colon (`':'`) is missing before it. File name and line number are printed so you know where to look in case the input came from a script.\n",
    "\n",
    "> 解析器会重复该行，并显示一个小 \"箭头\"，指向该行中最早被检测到的错误点。错误是由箭头之前的标记引起的（或者至少是在箭头之前检测到的）：在这个例子中，错误是在函数[`print()`](https://docs.python.org/3/library/functions.html#print)中检测到的，因为在它之前缺少一个冒号（`':'`）。文件名和行号被打印出来，这样你就知道在输入来自脚本的情况下该去哪里找。"
   ]
  },
  {
   "cell_type": "markdown",
   "id": "2553e0f6-6d65-4209-8bfe-068b69476e8b",
   "metadata": {},
   "source": [
    "## 8.2. Exceptions"
   ]
  },
  {
   "cell_type": "markdown",
   "id": "81b500a8-fb04-4063-ae9f-7efa3b5e34e1",
   "metadata": {},
   "source": [
    "Even if a statement or expression is syntactically correct, it may cause an error when an attempt is made to execute it. Errors detected during execution are called *exceptions* and are not unconditionally fatal: you will soon learn how to handle them in Python programs. Most exceptions are not handled by programs, however, and result in error messages as shown here:\n",
    "\n",
    "> 即使一个语句或表达式在语法上是正确的，当试图执行它时也可能导致错误。在执行过程中检测到的错误被称为*exceptions（异常）*，并且不是无条件致命的：你将很快学会如何在Python程序中处理它们。然而，大多数异常是不被程序处理的，它们会导致错误信息，如这里所示："
   ]
  },
  {
   "cell_type": "code",
   "execution_count": 4,
   "id": "1d115907-913b-42b5-a710-8e39d4fd52ee",
   "metadata": {},
   "outputs": [
    {
     "ename": "ZeroDivisionError",
     "evalue": "division by zero",
     "output_type": "error",
     "traceback": [
      "\u001b[1;31m---------------------------------------------------------------------------\u001b[0m",
      "\u001b[1;31mZeroDivisionError\u001b[0m                         Traceback (most recent call last)",
      "Input \u001b[1;32mIn [4]\u001b[0m, in \u001b[0;36m<cell line: 1>\u001b[1;34m()\u001b[0m\n\u001b[1;32m----> 1\u001b[0m \u001b[38;5;241m10\u001b[39m \u001b[38;5;241m*\u001b[39m (\u001b[38;5;241;43m1\u001b[39;49m\u001b[38;5;241;43m/\u001b[39;49m\u001b[38;5;241;43m0\u001b[39;49m)\n",
      "\u001b[1;31mZeroDivisionError\u001b[0m: division by zero"
     ]
    }
   ],
   "source": [
    "10 * (1/0)"
   ]
  },
  {
   "cell_type": "code",
   "execution_count": 5,
   "id": "3f321b0a-5166-4646-905d-778416962c4a",
   "metadata": {},
   "outputs": [
    {
     "ename": "NameError",
     "evalue": "name 'spam' is not defined",
     "output_type": "error",
     "traceback": [
      "\u001b[1;31m---------------------------------------------------------------------------\u001b[0m",
      "\u001b[1;31mNameError\u001b[0m                                 Traceback (most recent call last)",
      "Input \u001b[1;32mIn [5]\u001b[0m, in \u001b[0;36m<cell line: 1>\u001b[1;34m()\u001b[0m\n\u001b[1;32m----> 1\u001b[0m \u001b[38;5;241m4\u001b[39m \u001b[38;5;241m+\u001b[39m \u001b[43mspam\u001b[49m\u001b[38;5;241m*\u001b[39m\u001b[38;5;241m3\u001b[39m\n",
      "\u001b[1;31mNameError\u001b[0m: name 'spam' is not defined"
     ]
    }
   ],
   "source": [
    "4 + spam*3"
   ]
  },
  {
   "cell_type": "code",
   "execution_count": 6,
   "id": "8267e6de-494c-4a78-9619-153590d4fee2",
   "metadata": {},
   "outputs": [
    {
     "ename": "TypeError",
     "evalue": "can only concatenate str (not \"int\") to str",
     "output_type": "error",
     "traceback": [
      "\u001b[1;31m---------------------------------------------------------------------------\u001b[0m",
      "\u001b[1;31mTypeError\u001b[0m                                 Traceback (most recent call last)",
      "Input \u001b[1;32mIn [6]\u001b[0m, in \u001b[0;36m<cell line: 1>\u001b[1;34m()\u001b[0m\n\u001b[1;32m----> 1\u001b[0m \u001b[38;5;124;43m'\u001b[39;49m\u001b[38;5;124;43m2\u001b[39;49m\u001b[38;5;124;43m'\u001b[39;49m\u001b[43m \u001b[49m\u001b[38;5;241;43m+\u001b[39;49m\u001b[43m \u001b[49m\u001b[38;5;241;43m2\u001b[39;49m\n",
      "\u001b[1;31mTypeError\u001b[0m: can only concatenate str (not \"int\") to str"
     ]
    }
   ],
   "source": [
    "'2' + 2"
   ]
  },
  {
   "cell_type": "markdown",
   "id": "1cfe3a13-feaf-4125-93f6-4d28334791fe",
   "metadata": {},
   "source": [
    "The last line of the error message indicates what happened. Exceptions come in different types, and the type is printed as part of the message: the types in the example are [`ZeroDivisionError`](https://docs.python.org/3/library/exceptions.html#ZeroDivisionError), [`NameError`](https://docs.python.org/3/library/exceptions.html#NameError) and [`TypeError`](https://docs.python.org/3/library/exceptions.html#TypeError). The string printed as the exception type is the name of the built-in exception that occurred. This is true for all built-in exceptions, but need not be true for user-defined exceptions (although it is a useful convention). Standard exception names are built-in identifiers (not reserved keywords).\n",
    "\n",
    "> 错误信息的最后一行表明发生了什么。异常有不同的类型，类型被打印为消息的一部分：例子中的类型是[`ZeroDivisionError`](https://docs.python.org/3/library/exceptions.html#ZeroDivisionError), [`NameError`](https://docs.python.org/3/library/exceptions.html#NameError) 和 [`TypeError`](https://docs.python.org/3/library/exceptions.html#TypeError)。作为异常类型打印的字符串是发生的内置异常的名称。这对所有的内置异常都是如此，但对用户定义的异常不一定是如此（尽管这是一个有用的约定）。标准的异常名称是内置的标识符（不是保留关键字）。"
   ]
  },
  {
   "cell_type": "markdown",
   "id": "48d60d1b-f34f-4673-8f1d-3a2eb3a6979e",
   "metadata": {},
   "source": [
    "The rest of the line provides detail based on the type of exception and what caused it.\n",
    "\n",
    "> 这行的剩余部分根据异常的类型和引起异常的原因提供细节。"
   ]
  },
  {
   "cell_type": "markdown",
   "id": "9f2ac47b-39d0-4312-9965-dbffcc482f58",
   "metadata": {},
   "source": [
    "The preceding part of the error message shows the context where the exception occurred, in the form of a stack traceback. In general it contains a stack traceback listing source lines; however, it will not display lines read from standard input.\n",
    "\n",
    "> 错误信息的前面部分以堆栈回溯的形式显示了异常发生的背景。一般来说，它包含一个堆栈回溯，列出了源行；但是，它不会显示从标准输入中读取的行。"
   ]
  },
  {
   "cell_type": "markdown",
   "id": "aa9c658b-35a4-4770-905f-a475a09c174f",
   "metadata": {},
   "source": [
    "[Built-in Exceptions](https://docs.python.org/3/library/exceptions.html#bltin-exceptions) lists the built-in exceptions and their meanings.\n",
    "\n",
    "> [内置异常](https://docs.python.org/3/library/exceptions.html#bltin-exceptions)列出了内置异常和它们的含义。"
   ]
  },
  {
   "cell_type": "markdown",
   "id": "cef59691-17f1-4e7d-ade7-2fcec52ec740",
   "metadata": {},
   "source": [
    "## 8.3. Handling Exceptions"
   ]
  },
  {
   "cell_type": "markdown",
   "id": "a42fa233-60ba-44eb-8a5e-be7c8d7f1cbf",
   "metadata": {},
   "source": [
    "It is possible to write programs that handle selected exceptions. Look at the following example, which asks the user for input until a valid integer has been entered, but allows the user to interrupt the program (using Control-C or whatever the operating system supports); note that a user-generated interruption is signalled by raising the [`KeyboardInterrupt`](https://docs.python.org/3/library/exceptions.html#KeyboardInterrupt) exception.\n",
    "\n",
    "> 编写处理选定异常的程序是可能的。看看下面的例子，它要求用户输入，直到一个有效的整数被输入，但允许用户中断程序（使用Control-C或操作系统支持的任何东西）；注意，用户产生的中断是通过引发 [`KeyboardInterrupt（键盘中断）`](https://docs.python.org/3/library/exceptions.html#KeyboardInterrupt) 异常来表示的。"
   ]
  },
  {
   "cell_type": "code",
   "execution_count": 7,
   "id": "b7b18e09-e832-4785-a519-e3a2e1a1b78d",
   "metadata": {},
   "outputs": [
    {
     "name": "stdin",
     "output_type": "stream",
     "text": [
      "Please enter a number:  '1'\n"
     ]
    },
    {
     "name": "stdout",
     "output_type": "stream",
     "text": [
      "Oops! That was no valid number. Try again...\n"
     ]
    },
    {
     "name": "stdin",
     "output_type": "stream",
     "text": [
      "Please enter a number:  1\n"
     ]
    }
   ],
   "source": [
    "while True:\n",
    "    try:\n",
    "        x = int(input(\"Please enter a number: \"))\n",
    "        break\n",
    "    except ValueError:\n",
    "        print(\"Oops! That was no valid number. Try again...\")"
   ]
  },
  {
   "cell_type": "markdown",
   "id": "868116b7-b4fc-4b5a-a1f5-f4b6044bd193",
   "metadata": {},
   "source": [
    "The [`try`](https://docs.python.org/3/reference/compound_stmts.html#try) statement works as follows.\n",
    "\n",
    "> [`try`](https://docs.python.org/3/reference/compound_stmts.html#try) 语句的工作原理如下。"
   ]
  },
  {
   "cell_type": "markdown",
   "id": "8f2c93d0-e386-4da7-853b-d1307b6671d7",
   "metadata": {},
   "source": [
    "- First, the *try clause* (the statement(s) between the [`try`](https://docs.python.org/3/reference/compound_stmts.html#try) and [`except`](https://docs.python.org/3/reference/compound_stmts.html#except) keywords) is executed.\n",
    "- If no exception occurs, the *except clause* is skipped and execution of the [`try`](https://docs.python.org/3/reference/compound_stmts.html#try) statement is finished.\n",
    "- If an exception occurs during execution of the [`try`](https://docs.python.org/3/reference/compound_stmts.html#try) clause, the rest of the clause is skipped. Then, if its type matches the exception named after the [`except`](https://docs.python.org/3/reference/compound_stmts.html#except) keyword, the *except clause* is executed, and then execution continues after the try/except block.\n",
    "- If an exception occurs which does not match the exception named in the *except clause*, it is passed on to outer [`try`](https://docs.python.org/3/reference/compound_stmts.html#try) statements; if no handler is found, it is an *unhandled exception* and execution stops with a message as shown above.\n",
    "\n",
    "> - 首先，执行*try子句*（在[`try`](https://docs.python.org/3/reference/compound_stmts.html#try)和[`except`](https://docs.python.org/3/reference/compound_stmts.html#except)这两个关键字之间的语句）。\n",
    "> - 如果没有异常发生，则跳过*except子句*，完成[`try`](https://docs.python.org/3/reference/compound_stmts.html#try)语句的执行。\n",
    "> - 如果在执行[`try`](https://docs.python.org/3/reference/compound_stmts.html#try)子句的过程中发生了异常，子句的其余部分将被跳过。然后，如果它的类型与[`except`](https://docs.python.org/3/reference/compound_stmts.html#except)关键字后面命名的异常相匹配，就会执行*except子句*，然后在try/except块之后继续执行。\n",
    "> - 如果发生的异常与*except子句*命名的异常不匹配，它将被传递到外层的[`try`](https://docs.python.org/3/reference/compound_stmts.html#try)语句；如果没有找到处理程序，它就是一个*未处理的异常*，执行将以如上面展示的信息停止。"
   ]
  },
  {
   "cell_type": "markdown",
   "id": "dc09fc74-4def-468b-ac54-8ad35373acfb",
   "metadata": {},
   "source": [
    "A [`try`](https://docs.python.org/3/reference/compound_stmts.html#try) statement may have more than one *except clause*, to specify handlers for different exceptions. At most one handler will be executed. Handlers only handle exceptions that occur in the corresponding *try clause*, not in other handlers of the same `try` statement. An *except clause* may name multiple exceptions as a parenthesized tuple, for example:\n",
    "\n",
    "> 一个 [`try`](https://docs.python.org/3/reference/compound_stmts.html#try) 语句可以有一个以上的*except子句*，以指定不同异常的处理程序。最多只有一个处理程序会被执行。处理程序只处理相应的*try子句*中出现的异常，而不是同一 `try` 语句的其他处理程序。例如，一个*except子句*可以将多个异常命名为一个括号内的元组："
   ]
  },
  {
   "cell_type": "raw",
   "id": "85965f6c-fc1c-4203-a04c-53613d9a2ffb",
   "metadata": {},
   "source": [
    "...except (RuntimeError, TypeError, NameError):\n",
    "    pass"
   ]
  },
  {
   "cell_type": "markdown",
   "id": "0b7395dd-2ffd-4049-8587-f509357fd748",
   "metadata": {},
   "source": [
    "A class in an [`except`](https://docs.python.org/3/reference/compound_stmts.html#except) clause is compatible with an exception if it is the same class or a base class thereof (but not the other way around — an *except clause* listing a derived class is not compatible with a base class). For example, the following code will print B, C, D in that order:\n",
    "\n",
    "> 如果一个 [`except` ](https://docs.python.org/3/reference/compound_stmts.html#except)子句中的类是同一个类或其基类，那么它与一个异常是兼容的（但不是反过来--列出派生类的*except子句*与基类不兼容）。例如，下面的代码将依次打印B、C、D："
   ]
  },
  {
   "cell_type": "code",
   "execution_count": 9,
   "id": "c805fcbe-71a7-4f2f-836b-92324654606d",
   "metadata": {},
   "outputs": [
    {
     "name": "stdout",
     "output_type": "stream",
     "text": [
      "B\n",
      "C\n",
      "D\n"
     ]
    }
   ],
   "source": [
    "class B(Exception):\n",
    "    pass\n",
    "\n",
    "class C(B):\n",
    "    pass\n",
    "\n",
    "class D(C):\n",
    "    pass\n",
    "\n",
    "for cls in [B, C, D]:\n",
    "    try:\n",
    "        raise cls()\n",
    "    except D:\n",
    "        print(\"D\")\n",
    "    except C:\n",
    "        print(\"C\")\n",
    "    except B:\n",
    "        print(\"B\")"
   ]
  },
  {
   "cell_type": "markdown",
   "id": "6eeadb3d-f581-4d99-93c8-68a685a9705e",
   "metadata": {},
   "source": [
    "Note that if the *except clauses* were reversed (with `except B` first), it would have printed B, B, B — the first matching *except clause* is triggered.\n",
    "\n",
    "> 请注意，如果*except子句*被颠倒过来（`except B`在前），就会打印出B、B、B--第一个匹配的*except子句*被触发了。"
   ]
  },
  {
   "cell_type": "markdown",
   "id": "b2a034e5-9ac4-43e4-ad4d-55b66d91a8f0",
   "metadata": {},
   "source": [
    "All exceptions inherit from [`BaseException`](https://docs.python.org/3/library/exceptions.html#BaseException), and so it can be used to serve as a wildcard. Use this with extreme caution, since it is easy to mask a real programming error in this way! It can also be used to print an error message and then re-raise the exception (allowing a caller to handle the exception as well):\n",
    "\n",
    "> 所有的异常都继承自[`BaseException`](https://docs.python.org/3/library/exceptions.html#BaseException)，因此它可以被用来作为通配符。使用时要格外小心，因为这样很容易掩盖真正的编程错误! 它也可以用来打印一个错误信息，然后重新提出异常（允许调用者也处理这个异常）。"
   ]
  },
  {
   "cell_type": "code",
   "execution_count": 10,
   "id": "c8e2a533-2891-4835-8e78-aba7d371cdc3",
   "metadata": {},
   "outputs": [
    {
     "name": "stdout",
     "output_type": "stream",
     "text": [
      "OS error: [Errno 2] No such file or directory: 'myfile.txt'\n"
     ]
    }
   ],
   "source": [
    "import os\n",
    "\n",
    "try:\n",
    "    f = open('myfile.txt')\n",
    "    s = f.readline()\n",
    "    i = int(s.strip())\n",
    "except OSError as err:\n",
    "    print(\"OS error: {0}\".format(err))\n",
    "except ValueError:\n",
    "    print(\"Could not convert data to an integer.\")\n",
    "except BaseException as err:\n",
    "    print(f\"Unexpected {err=}, {type(err)=}\")\n",
    "    raise"
   ]
  },
  {
   "cell_type": "markdown",
   "id": "c932655c-68c6-498e-8942-4288dd781599",
   "metadata": {},
   "source": [
    "Alternatively the last except clause may omit the exception name(s), however the exception value must then be retrieved from `sys.exc_info()[1]`.\n",
    "\n",
    "> 另外，最后一个except子句可以省略异常名称，但是异常值必须从 `sys.exc_info()[1]` 中获取。"
   ]
  },
  {
   "cell_type": "markdown",
   "id": "089a8287-1bd2-492c-afa4-3ce5d091a287",
   "metadata": {},
   "source": [
    "The [`try`](https://docs.python.org/3/reference/compound_stmts.html#try) … [`except`](https://docs.python.org/3/reference/compound_stmts.html#except) statement has an optional *else clause*, which, when present, must follow all *except clauses*. It is useful for code that must be executed if the *try clause* does not raise an exception. For example:\n",
    "\n",
    "> [`try`](https://docs.python.org/3/reference/compound_stmts.html#try) ... [`except`](https://docs.python.org/3/reference/compound_stmts.html#except) 语句有一个可选的*else子句*，当它出现时，必须跟在所有的*except子句*后面。它对那些在*try子句*没有引发异常的情况下必须执行的代码很有用。比如说："
   ]
  },
  {
   "cell_type": "code",
   "execution_count": 14,
   "id": "a9c15e93-d599-47a3-9fb3-6baf5377b531",
   "metadata": {},
   "outputs": [
    {
     "name": "stdout",
     "output_type": "stream",
     "text": [
      "['C:\\\\Users\\\\Administrator\\\\AppData\\\\Local\\\\Programs\\\\Python\\\\Python310\\\\lib\\\\site-packages\\\\ipykernel_launcher.py', '-f', 'C:\\\\Users\\\\Administrator\\\\AppData\\\\Roaming\\\\jupyter\\\\runtime\\\\kernel-93d5bb4d-316d-4218-b856-b530958a4f4c.json']\n",
      "['-f', 'C:\\\\Users\\\\Administrator\\\\AppData\\\\Roaming\\\\jupyter\\\\runtime\\\\kernel-93d5bb4d-316d-4218-b856-b530958a4f4c.json']\n",
      "cannot open -f\n",
      "C:\\Users\\Administrator\\AppData\\Roaming\\jupyter\\runtime\\kernel-93d5bb4d-316d-4218-b856-b530958a4f4c.json has 2 lines\n"
     ]
    }
   ],
   "source": [
    "import sys\n",
    "\n",
    "print(sys.argv)\n",
    "print(sys.argv[1:])\n",
    "\n",
    "for arg in sys.argv[1:]:\n",
    "    try:\n",
    "        f = open(arg, 'r')\n",
    "    except OSError:\n",
    "        print('cannot open', arg)\n",
    "    else:\n",
    "        print(arg, 'has', len(f.readline()), 'lines')\n",
    "        f.close()"
   ]
  },
  {
   "cell_type": "markdown",
   "id": "4ef7e28c-68b3-4874-91b1-07876398be31",
   "metadata": {},
   "source": [
    "The use of the `else` clause is better than adding additional code to the [`try`](https://docs.python.org/3/reference/compound_stmts.html#try) clause because it avoids accidentally catching an exception that wasn’t raised by the code being protected by the `try` … `except` statement.\n",
    "\n",
    "> 使用 `else` 子句比在[`try`](https://docs.python.org/3/reference/compound_stmts.html#try)子句中添加额外的代码要好，因为它可以避免意外地捕捉到一个不是由`try`...`except`语句所保护的代码引起的异常。"
   ]
  },
  {
   "cell_type": "markdown",
   "id": "ed286349-7284-4220-9914-83b47a05e89f",
   "metadata": {},
   "source": [
    "When an exception occurs, it may have an associated value, also known as the exception’s *argument*. The presence and type of the argument depend on the exception type.\n",
    "\n",
    "> 当一个异常发生时，它可能有一个相关的值，也被称为异常的*参数*。参数的存在和类型取决于异常的类型。"
   ]
  },
  {
   "cell_type": "markdown",
   "id": "f93f615a-d73e-4519-b507-03ff8a099f06",
   "metadata": {},
   "source": [
    "The *except clause* may specify a variable after the exception name. The variable is bound to an exception instance with the arguments stored in `instance.args`. For convenience, the exception instance defines `__str__()` so the arguments can be printed directly without having to reference `.args`. One may also instantiate an exception first before raising it and add any attributes to it as desired.\n",
    "\n",
    "> 在*except子句*中，可以在异常名称后面指定一个变量。这个变量被绑定到一个异常实例上，其参数存储在 `instance.args` 中。为了方便起见，异常实例定义了`__str__()`，所以参数可以直接打印出来，而不需要引用`.args`。我们也可以在引发异常之前先将其实例化，并根据需要向其添加任何属性。"
   ]
  },
  {
   "cell_type": "code",
   "execution_count": 15,
   "id": "51a4fe20-d20d-4202-a73d-0fa3923f2254",
   "metadata": {},
   "outputs": [
    {
     "name": "stdout",
     "output_type": "stream",
     "text": [
      "<class 'Exception'>\n",
      "('spam', 'eggs')\n",
      "('spam', 'eggs')\n",
      "x = spam\n",
      "y = eggs\n"
     ]
    }
   ],
   "source": [
    "try:\n",
    "    raise Exception('spam', 'eggs')\n",
    "except Exception as inst:\n",
    "    print(type(inst))    # the exception instance\n",
    "    print(inst.args)    # arguments stored in .args\n",
    "    print(inst)    # __str__ allows args to be printed directly,\n",
    "                   # but may be overridden in exception subclasses\n",
    "    x, y = inst.args\n",
    "    print('x =', x)\n",
    "    print('y =', y)"
   ]
  },
  {
   "cell_type": "markdown",
   "id": "3d7f9c6d-07f4-4b4c-9081-bbebc924183e",
   "metadata": {},
   "source": [
    "If an exception has arguments, they are printed as the last part (‘detail’) of the message for unhandled exceptions.\n",
    "\n",
    "> 如果一个异常有参数，对于未处理的异常，它们会被打印在消息的最后部分（'细节'）。"
   ]
  },
  {
   "cell_type": "markdown",
   "id": "1781f9de-1fb8-4c47-984f-4794c4669d94",
   "metadata": {},
   "source": [
    "Exception handlers don’t just handle exceptions if they occur immediately in the *try clause*, but also if they occur inside functions that are called (even indirectly) in the *try clause*. For example:\n",
    "\n",
    "> 异常处理程序不只是处理在*try子句*中立即发生的异常，而且还处理在*try子句*中被调用（甚至是间接调用）的函数中发生的异常。比如说："
   ]
  },
  {
   "cell_type": "code",
   "execution_count": 16,
   "id": "962135bf-a7dc-4c5d-959c-cde737825c3c",
   "metadata": {},
   "outputs": [
    {
     "name": "stdout",
     "output_type": "stream",
     "text": [
      "Handling run-time error: division by zero\n"
     ]
    }
   ],
   "source": [
    "def this_fails():\n",
    "    x = 1/0\n",
    "    \n",
    "try:\n",
    "    this_fails()\n",
    "except ZeroDivisionError as err:\n",
    "    print('Handling run-time error:', err)"
   ]
  },
  {
   "cell_type": "markdown",
   "id": "2f499a1b-2fc6-4bd0-aa6a-793763aa9b42",
   "metadata": {},
   "source": [
    "## 8.4. Raising Exceptions"
   ]
  },
  {
   "cell_type": "markdown",
   "id": "309f602e-8a87-4627-af26-9854d2af9a3d",
   "metadata": {},
   "source": [
    "The [`raise`](https://docs.python.org/3/reference/simple_stmts.html#raise) statement allows the programmer to force a specified exception to occur. For example:\n",
    "\n",
    "> [`raise`](https://docs.python.org/3/reference/simple_stmts.html#raise) 语句允许程序员强制发生一个指定的异常。比如说："
   ]
  },
  {
   "cell_type": "code",
   "execution_count": 2,
   "id": "294e5d6c-7575-4a0b-94ee-af2d35a9da15",
   "metadata": {},
   "outputs": [
    {
     "ename": "NameError",
     "evalue": "HiThere",
     "output_type": "error",
     "traceback": [
      "\u001b[1;31m---------------------------------------------------------------------------\u001b[0m",
      "\u001b[1;31mNameError\u001b[0m                                 Traceback (most recent call last)",
      "Input \u001b[1;32mIn [2]\u001b[0m, in \u001b[0;36m<cell line: 1>\u001b[1;34m()\u001b[0m\n\u001b[1;32m----> 1\u001b[0m \u001b[38;5;28;01mraise\u001b[39;00m \u001b[38;5;167;01mNameError\u001b[39;00m(\u001b[38;5;124m'\u001b[39m\u001b[38;5;124mHiThere\u001b[39m\u001b[38;5;124m'\u001b[39m)\n",
      "\u001b[1;31mNameError\u001b[0m: HiThere"
     ]
    }
   ],
   "source": [
    "raise NameError('HiThere')"
   ]
  },
  {
   "cell_type": "markdown",
   "id": "824b80da-d8b3-4c57-b53d-58e0415f7f7e",
   "metadata": {},
   "source": [
    "The sole argument to [`raise`](https://docs.python.org/3/reference/simple_stmts.html#raise) indicates the exception to be raised. This must be either an exception instance or an exception class (a class that derives from [`Exception`](https://docs.python.org/3/library/exceptions.html#Exception)). If an exception class is passed, it will be implicitly instantiated by calling its constructor with no arguments:\n",
    "\n",
    "> [`raise`](https://docs.python.org/3/reference/simple_stmts.html#raise) 的唯一参数表示要引发的异常。这必须是一个异常实例或一个异常类（一个派生自 [`Exception`](https://docs.python.org/3/library/exceptions.html#Exception) 的类）。如果传递了一个异常类，它将通过调用没有参数的构造函数被隐式地实例化。"
   ]
  },
  {
   "cell_type": "code",
   "execution_count": 3,
   "id": "fda8ecc5-2607-4c20-b060-9279733c601b",
   "metadata": {},
   "outputs": [
    {
     "ename": "ValueError",
     "evalue": "",
     "output_type": "error",
     "traceback": [
      "\u001b[1;31m---------------------------------------------------------------------------\u001b[0m",
      "\u001b[1;31mValueError\u001b[0m                                Traceback (most recent call last)",
      "Input \u001b[1;32mIn [3]\u001b[0m, in \u001b[0;36m<cell line: 1>\u001b[1;34m()\u001b[0m\n\u001b[1;32m----> 1\u001b[0m \u001b[38;5;28;01mraise\u001b[39;00m \u001b[38;5;167;01mValueError\u001b[39;00m\n",
      "\u001b[1;31mValueError\u001b[0m: "
     ]
    }
   ],
   "source": [
    "raise ValueError # shorthand for 'raise ValueError()'"
   ]
  },
  {
   "cell_type": "markdown",
   "id": "c9017c5d-be4c-4d40-9633-3acba6ebdc40",
   "metadata": {},
   "source": [
    "If you need to determine whether an exception was raised but don’t intend to handle it, a simpler form of the [`raise`](https://docs.python.org/3/reference/simple_stmts.html#raise) statement allows you to re-raise the exception:\n",
    "\n",
    "> 如果你需要确定一个异常是否被引发，但不打算处理它，[`raise`](https://docs.python.org/3/reference/simple_stmts.html#raise)语句的一个更简单的形式允许你重新引发该异常。"
   ]
  },
  {
   "cell_type": "code",
   "execution_count": 4,
   "id": "ae288726-bcd2-4741-b70d-86216df80830",
   "metadata": {},
   "outputs": [
    {
     "name": "stdout",
     "output_type": "stream",
     "text": [
      "An exception flew by!\n"
     ]
    },
    {
     "ename": "NameError",
     "evalue": "HiThere",
     "output_type": "error",
     "traceback": [
      "\u001b[1;31m---------------------------------------------------------------------------\u001b[0m",
      "\u001b[1;31mNameError\u001b[0m                                 Traceback (most recent call last)",
      "Input \u001b[1;32mIn [4]\u001b[0m, in \u001b[0;36m<cell line: 1>\u001b[1;34m()\u001b[0m\n\u001b[0;32m      1\u001b[0m \u001b[38;5;28;01mtry\u001b[39;00m:\n\u001b[1;32m----> 2\u001b[0m     \u001b[38;5;28;01mraise\u001b[39;00m \u001b[38;5;167;01mNameError\u001b[39;00m(\u001b[38;5;124m'\u001b[39m\u001b[38;5;124mHiThere\u001b[39m\u001b[38;5;124m'\u001b[39m)\n\u001b[0;32m      3\u001b[0m \u001b[38;5;28;01mexcept\u001b[39;00m \u001b[38;5;167;01mNameError\u001b[39;00m:\n\u001b[0;32m      4\u001b[0m     \u001b[38;5;28mprint\u001b[39m(\u001b[38;5;124m'\u001b[39m\u001b[38;5;124mAn exception flew by!\u001b[39m\u001b[38;5;124m'\u001b[39m)\n",
      "\u001b[1;31mNameError\u001b[0m: HiThere"
     ]
    }
   ],
   "source": [
    "try:\n",
    "    raise NameError('HiThere')\n",
    "except NameError:\n",
    "    print('An exception flew by!')\n",
    "    raise"
   ]
  },
  {
   "cell_type": "markdown",
   "id": "320396e5-4bd4-4352-932a-9251bf16ab73",
   "metadata": {},
   "source": [
    "## 8.5. Exception Chaining"
   ]
  },
  {
   "cell_type": "markdown",
   "id": "adb5648e-32db-4e06-859a-ca2e341ae182",
   "metadata": {},
   "source": [
    "The [`raise`](https://docs.python.org/3/reference/simple_stmts.html#raise) statement allows an optional [`from`](https://docs.python.org/3/reference/simple_stmts.html#raise) which enables chaining exceptions. For example:\n",
    "\n",
    "> [`raise`](https://docs.python.org/3/reference/simple_stmts.html#raise)语句允许一个可选的[`from`](https://docs.python.org/3/reference/simple_stmts.html#raise)，它可以实现异常的连锁反应。比如说。"
   ]
  },
  {
   "cell_type": "code",
   "execution_count": 5,
   "id": "6dc28025-1607-4944-b045-06adc2a33c10",
   "metadata": {},
   "outputs": [
    {
     "ename": "NameError",
     "evalue": "name 'exc' is not defined",
     "output_type": "error",
     "traceback": [
      "\u001b[1;31m---------------------------------------------------------------------------\u001b[0m",
      "\u001b[1;31mNameError\u001b[0m                                 Traceback (most recent call last)",
      "Input \u001b[1;32mIn [5]\u001b[0m, in \u001b[0;36m<cell line: 2>\u001b[1;34m()\u001b[0m\n\u001b[0;32m      1\u001b[0m \u001b[38;5;66;03m# exc must be exception instance or None.\u001b[39;00m\n\u001b[1;32m----> 2\u001b[0m \u001b[38;5;28;01mraise\u001b[39;00m \u001b[38;5;167;01mRuntimeError\u001b[39;00m \u001b[38;5;28;01mfrom\u001b[39;00m \u001b[38;5;21;43;01mexc\u001b[39;49;00m\n",
      "\u001b[1;31mNameError\u001b[0m: name 'exc' is not defined"
     ]
    }
   ],
   "source": [
    "# exc must be exception instance or None.\n",
    "raise RuntimeError from exc"
   ]
  },
  {
   "cell_type": "markdown",
   "id": "00922531-89bb-4093-b24e-248fd9a07f34",
   "metadata": {},
   "source": [
    "This can be useful when you are transforming exceptions. For example:\n",
    "\n",
    "> 这在你转换异常情况时可能很有用。比如说："
   ]
  },
  {
   "cell_type": "code",
   "execution_count": 6,
   "id": "596acea5-65f9-4900-8330-7a38c9937c98",
   "metadata": {},
   "outputs": [
    {
     "ename": "RuntimeError",
     "evalue": "Failed to open database",
     "output_type": "error",
     "traceback": [
      "\u001b[1;31m---------------------------------------------------------------------------\u001b[0m",
      "\u001b[1;31mConnectionError\u001b[0m                           Traceback (most recent call last)",
      "Input \u001b[1;32mIn [6]\u001b[0m, in \u001b[0;36m<cell line: 4>\u001b[1;34m()\u001b[0m\n\u001b[0;32m      4\u001b[0m \u001b[38;5;28;01mtry\u001b[39;00m:\n\u001b[1;32m----> 5\u001b[0m     \u001b[43mfunc\u001b[49m\u001b[43m(\u001b[49m\u001b[43m)\u001b[49m\n\u001b[0;32m      6\u001b[0m \u001b[38;5;28;01mexcept\u001b[39;00m \u001b[38;5;167;01mConnectionError\u001b[39;00m \u001b[38;5;28;01mas\u001b[39;00m exc:\n",
      "Input \u001b[1;32mIn [6]\u001b[0m, in \u001b[0;36mfunc\u001b[1;34m()\u001b[0m\n\u001b[0;32m      1\u001b[0m \u001b[38;5;28;01mdef\u001b[39;00m \u001b[38;5;21mfunc\u001b[39m():\n\u001b[1;32m----> 2\u001b[0m     \u001b[38;5;28;01mraise\u001b[39;00m \u001b[38;5;167;01mConnectionError\u001b[39;00m\n",
      "\u001b[1;31mConnectionError\u001b[0m: ",
      "\nThe above exception was the direct cause of the following exception:\n",
      "\u001b[1;31mRuntimeError\u001b[0m                              Traceback (most recent call last)",
      "Input \u001b[1;32mIn [6]\u001b[0m, in \u001b[0;36m<cell line: 4>\u001b[1;34m()\u001b[0m\n\u001b[0;32m      5\u001b[0m     func()\n\u001b[0;32m      6\u001b[0m \u001b[38;5;28;01mexcept\u001b[39;00m \u001b[38;5;167;01mConnectionError\u001b[39;00m \u001b[38;5;28;01mas\u001b[39;00m exc:\n\u001b[1;32m----> 7\u001b[0m     \u001b[38;5;28;01mraise\u001b[39;00m \u001b[38;5;167;01mRuntimeError\u001b[39;00m(\u001b[38;5;124m'\u001b[39m\u001b[38;5;124mFailed to open database\u001b[39m\u001b[38;5;124m'\u001b[39m) \u001b[38;5;28;01mfrom\u001b[39;00m \u001b[38;5;21;01mexc\u001b[39;00m\n",
      "\u001b[1;31mRuntimeError\u001b[0m: Failed to open database"
     ]
    }
   ],
   "source": [
    "def func():\n",
    "    raise ConnectionError\n",
    "    \n",
    "try:\n",
    "    func()\n",
    "except ConnectionError as exc:\n",
    "    raise RuntimeError('Failed to open database') from exc"
   ]
  },
  {
   "cell_type": "markdown",
   "id": "36895087-1025-4deb-a085-e1474c535c88",
   "metadata": {},
   "source": [
    "Exception chaining happens automatically when an exception is raised inside an [`except`](https://docs.python.org/3/reference/compound_stmts.html#except) or [`finally`](https://docs.python.org/3/reference/compound_stmts.html#finally) section. This can be disabled by using `from None` idiom:\n",
    "\n",
    "> 当异常在 [`except`](https://docs.python.org/3/reference/compound_stmts.html#except) 或 [`finally`](https://docs.python.org/3/reference/compound_stmts.html#finally) 部分被引发时，异常链会自动发生。这可以通过使用 `from None` 习语来禁用："
   ]
  },
  {
   "cell_type": "code",
   "execution_count": 7,
   "id": "5a962415-0902-4ef8-86b6-8bea56cfc0e5",
   "metadata": {},
   "outputs": [
    {
     "ename": "RuntimeError",
     "evalue": "",
     "output_type": "error",
     "traceback": [
      "\u001b[1;31m---------------------------------------------------------------------------\u001b[0m",
      "\u001b[1;31mRuntimeError\u001b[0m                              Traceback (most recent call last)",
      "Input \u001b[1;32mIn [7]\u001b[0m, in \u001b[0;36m<cell line: 1>\u001b[1;34m()\u001b[0m\n\u001b[0;32m      2\u001b[0m     \u001b[38;5;28mopen\u001b[39m(\u001b[38;5;124m'\u001b[39m\u001b[38;5;124mdatabase.sqlite\u001b[39m\u001b[38;5;124m'\u001b[39m)\n\u001b[0;32m      3\u001b[0m \u001b[38;5;28;01mexcept\u001b[39;00m \u001b[38;5;167;01mOSError\u001b[39;00m:\n\u001b[1;32m----> 4\u001b[0m     \u001b[38;5;28;01mraise\u001b[39;00m \u001b[38;5;167;01mRuntimeError\u001b[39;00m \u001b[38;5;28;01mfrom\u001b[39;00m \u001b[38;5;28mNone\u001b[39m\n",
      "\u001b[1;31mRuntimeError\u001b[0m: "
     ]
    }
   ],
   "source": [
    "try:\n",
    "    open('database.sqlite')\n",
    "except OSError:\n",
    "    raise RuntimeError from None"
   ]
  },
  {
   "cell_type": "markdown",
   "id": "42fee6cc-30a0-47d1-864c-a36a517f41d1",
   "metadata": {},
   "source": [
    "For more information about chaining mechanics, see [Built-in Exceptions](https://docs.python.org/3/library/exceptions.html#bltin-exceptions).\n",
    "\n",
    "> 关于连锁机制的更多信息，请参见[内置异常](https://docs.python.org/3/library/exceptions.html#bltin-exceptions)。"
   ]
  },
  {
   "cell_type": "markdown",
   "id": "36becceb-dea4-46c5-96b2-e71df55fe846",
   "metadata": {},
   "source": [
    "## 8.6. User-defined Exceptions"
   ]
  },
  {
   "cell_type": "markdown",
   "id": "ee27d9de-5e3f-43a8-b841-dccd72ed2d6e",
   "metadata": {},
   "source": [
    "Programs may name their own exceptions by creating a new exception class (see [Classes](https://docs.python.org/3/tutorial/classes.html#tut-classes) for more about Python classes). Exceptions should typically be derived from the [`Exception`](https://docs.python.org/3/library/exceptions.html#Exception) class, either directly or indirectly.\n",
    "\n",
    "> 程序可以通过创建一个新的异常类来命名自己的异常 (关于Python类的更多信息，请参见 [Classes](https://docs.python.org/3/tutorial/classes.html#tut-classes))。异常通常应该直接或间接地派生自 [`Exception`](https://docs.python.org/3/library/exceptions.html#Exception) 类。"
   ]
  },
  {
   "cell_type": "markdown",
   "id": "64fe0f64-344f-482d-a3ed-aa01b2a7cc0f",
   "metadata": {},
   "source": [
    "Exception classes can be defined which do anything any other class can do, but are usually kept simple, often only offering a number of attributes that allow information about the error to be extracted by handlers for the exception.\n",
    "\n",
    "> 异常类可以被定义，它可以做任何其他类可以做的事情，但通常保持简单，通常只提供一些属性，允许异常处理程序提取有关错误的信息。"
   ]
  },
  {
   "cell_type": "markdown",
   "id": "57c8b87b-13d0-4b28-971b-e46c7329bac1",
   "metadata": {},
   "source": [
    "Most exceptions are defined with names that end in “Error”, similar to the naming of the standard exceptions.\n",
    "\n",
    "> 大多数异常的名称都是以 \"Error \"结尾，类似于标准异常的命名。"
   ]
  },
  {
   "cell_type": "markdown",
   "id": "d5c103e7-9d57-441d-bdec-a4baaf1fec96",
   "metadata": {},
   "source": [
    "Many standard modules define their own exceptions to report errors that may occur in functions they define. More information on classes is presented in chapter [Classes](https://docs.python.org/3/tutorial/classes.html#tut-classes).\n",
    "\n",
    "> 许多标准模块定义了它们自己的异常，以报告它们定义的函数中可能出现的错误。关于类的更多信息在[类](https://docs.python.org/3/tutorial/classes.html#tut-classes)一章中介绍。"
   ]
  },
  {
   "cell_type": "markdown",
   "id": "54fecc2a-2552-4ce8-af18-3474cd6da4f5",
   "metadata": {},
   "source": [
    "## 8.7. Defining Clean-up Actions"
   ]
  },
  {
   "cell_type": "markdown",
   "id": "85dca66b-1112-4135-8422-4a7e123db1d3",
   "metadata": {},
   "source": [
    "The [`try`](https://docs.python.org/3/reference/compound_stmts.html#try) statement has another optional clause which is intended to define clean-up actions that must be executed under all circumstances. For example:\n",
    "\n",
    "> [`try`](https://docs.python.org/3/reference/compound_stmts.html#try)语句还有一个可选的子句，目的是定义在任何情况下都必须执行的清理行动。比如说："
   ]
  },
  {
   "cell_type": "code",
   "execution_count": 8,
   "id": "d724e3f4-a8f3-411e-88aa-ad7e8e970c6e",
   "metadata": {},
   "outputs": [
    {
     "name": "stdout",
     "output_type": "stream",
     "text": [
      "Goodbye, world!\n"
     ]
    },
    {
     "ename": "KeyboardInterrupt",
     "evalue": "",
     "output_type": "error",
     "traceback": [
      "\u001b[1;31m---------------------------------------------------------------------------\u001b[0m",
      "\u001b[1;31mKeyboardInterrupt\u001b[0m                         Traceback (most recent call last)",
      "Input \u001b[1;32mIn [8]\u001b[0m, in \u001b[0;36m<cell line: 1>\u001b[1;34m()\u001b[0m\n\u001b[0;32m      1\u001b[0m \u001b[38;5;28;01mtry\u001b[39;00m:\n\u001b[1;32m----> 2\u001b[0m     \u001b[38;5;28;01mraise\u001b[39;00m \u001b[38;5;167;01mKeyboardInterrupt\u001b[39;00m\n\u001b[0;32m      3\u001b[0m \u001b[38;5;28;01mfinally\u001b[39;00m:\n\u001b[0;32m      4\u001b[0m     \u001b[38;5;28mprint\u001b[39m(\u001b[38;5;124m'\u001b[39m\u001b[38;5;124mGoodbye, world!\u001b[39m\u001b[38;5;124m'\u001b[39m)\n",
      "\u001b[1;31mKeyboardInterrupt\u001b[0m: "
     ]
    }
   ],
   "source": [
    "try:\n",
    "    raise KeyboardInterrupt\n",
    "finally:\n",
    "    print('Goodbye, world!')"
   ]
  },
  {
   "cell_type": "markdown",
   "id": "28e2e29c-25d2-4205-9c10-2d81b0239b98",
   "metadata": {},
   "source": [
    "If a [`finally`](https://docs.python.org/3/reference/compound_stmts.html#finally) clause is present, the `finally` clause will execute as the last task before the [`try`](https://docs.python.org/3/reference/compound_stmts.html#try) statement completes. The `finally` clause runs whether or not the `try` statement produces an exception. The following points discuss more complex cases when an exception occurs:\n",
    "\n",
    "> 如果存在 [`finally`](https://docs.python.org/3/reference/compound_stmts.html#finally)子句，`finally`子句将作为[`try`](https://docs.python.org/3/reference/compound_stmts.html#try)语句完成前的最后一个任务执行。无论 `try` 语句是否产生异常，`finally` 子句都会运行。以下几点讨论的是发生异常时更复杂的情况："
   ]
  },
  {
   "cell_type": "markdown",
   "id": "cf88b793-c055-4838-a853-b0f000c677cd",
   "metadata": {},
   "source": [
    "- If an exception occurs during execution of the `try` clause, the exception may be handled by an [`except`](https://docs.python.org/3/reference/compound_stmts.html#except) clause. If the exception is not handled by an `except` clause, the exception is re-raised after the `finally` clause has been executed.\n",
    "- An exception could occur during execution of an `except` or `else` clause. Again, the exception is re-raised after the `finally` clause has been executed.\n",
    "- If the `finally` clause executes a [`break`](https://docs.python.org/3/reference/simple_stmts.html#break), [`continue`](https://docs.python.org/3/reference/simple_stmts.html#continue) or [`return`](https://docs.python.org/3/reference/simple_stmts.html#return) statement, exceptions are not re-raised.\n",
    "- If the `try` statement reaches a [`break`](https://docs.python.org/3/reference/simple_stmts.html#break), [`continue`](https://docs.python.org/3/reference/simple_stmts.html#continue) or [`return`](https://docs.python.org/3/reference/simple_stmts.html#return) statement, the `finally` clause will execute just prior to the `break`, `continue` or `return` statement’s execution.\n",
    "- If a `finally` clause includes a `return` statement, the returned value will be the one from the `finally` clause’s `return` statement, not the value from the `try` clause’s `return` statement.\n",
    "\n",
    "> - 如果在执行 `try` 子句的过程中发生了异常，可以通过 [`except`](https://docs.python.org/3/reference/compound_stmts.html#except) 子句来处理这个异常。如果异常没有被 `except` 子句处理，那么在执行完 `finally` 子句后，异常会被重新提出来。\n",
    "> - 在执行 `except` 或 `else` 子句时可能会发生异常。同样，在执行完 `finally` 子句后，异常会被重新引发。\n",
    "> - 如果 `finally` 子句执行的是[`break`](https://docs.python.org/3/reference/simple_stmts.html#break), [`continue`](https://docs.python.org/3/reference/simple_stmts.html#continue)或[`return`](https://docs.python.org/3/reference/simple_stmts.html#return)语句，异常不会被重新引发。\n",
    "> - 如果 `try` 语句到达[`break`](https://docs.python.org/3/reference/simple_stmts.html#break), [`continue`](https://docs.python.org/3/reference/simple_stmts.html#continue)或[`return`](https://docs.python.org/3/reference/simple_stmts.html#return)语句，`finally` 子句将在 `break`, `continue`或`return`语句执行之前执行。\n",
    "> - 如果`finally`子句包括`return`语句，返回的值将是`finally`子句的`return`语句的值，而不是`try`子句的`return`语句的值。"
   ]
  },
  {
   "cell_type": "markdown",
   "id": "bb0cf25c-4ad9-4cab-8cc8-da311516e5d0",
   "metadata": {},
   "source": [
    "For example:\n",
    "\n",
    "> 例如："
   ]
  },
  {
   "cell_type": "code",
   "execution_count": 2,
   "id": "55f0730d-3da2-44c1-8dcf-f3be7c5dcec6",
   "metadata": {},
   "outputs": [
    {
     "data": {
      "text/plain": [
       "False"
      ]
     },
     "execution_count": 2,
     "metadata": {},
     "output_type": "execute_result"
    }
   ],
   "source": [
    "def boo_return():\n",
    "    try:\n",
    "        return True\n",
    "    finally:\n",
    "        return False\n",
    "    \n",
    "boo_return()"
   ]
  },
  {
   "cell_type": "markdown",
   "id": "8918c995-fb19-414a-bf9f-57fde4c88dcf",
   "metadata": {},
   "source": [
    "A more complicated example:\n",
    "\n",
    "> 一个更复杂的例子："
   ]
  },
  {
   "cell_type": "code",
   "execution_count": 3,
   "id": "e4cef4b4-b482-4298-a6fa-07ff16af74bb",
   "metadata": {},
   "outputs": [
    {
     "name": "stdout",
     "output_type": "stream",
     "text": [
      "result is 2.0\n",
      "executing finally clause\n",
      "division by zero!\n",
      "executing finally clause\n",
      "executing finally clause\n"
     ]
    },
    {
     "ename": "TypeError",
     "evalue": "unsupported operand type(s) for /: 'str' and 'str'",
     "output_type": "error",
     "traceback": [
      "\u001b[1;31m---------------------------------------------------------------------------\u001b[0m",
      "\u001b[1;31mTypeError\u001b[0m                                 Traceback (most recent call last)",
      "Input \u001b[1;32mIn [3]\u001b[0m, in \u001b[0;36m<cell line: 15>\u001b[1;34m()\u001b[0m\n\u001b[0;32m     11\u001b[0m divide(\u001b[38;5;241m2\u001b[39m, \u001b[38;5;241m1\u001b[39m)\n\u001b[0;32m     13\u001b[0m divide(\u001b[38;5;241m2\u001b[39m, \u001b[38;5;241m0\u001b[39m)\n\u001b[1;32m---> 15\u001b[0m \u001b[43mdivide\u001b[49m\u001b[43m(\u001b[49m\u001b[38;5;124;43m\"\u001b[39;49m\u001b[38;5;124;43m2\u001b[39;49m\u001b[38;5;124;43m\"\u001b[39;49m\u001b[43m,\u001b[49m\u001b[43m \u001b[49m\u001b[38;5;124;43m\"\u001b[39;49m\u001b[38;5;124;43m1\u001b[39;49m\u001b[38;5;124;43m\"\u001b[39;49m\u001b[43m)\u001b[49m\n",
      "Input \u001b[1;32mIn [3]\u001b[0m, in \u001b[0;36mdivide\u001b[1;34m(x, y)\u001b[0m\n\u001b[0;32m      1\u001b[0m \u001b[38;5;28;01mdef\u001b[39;00m \u001b[38;5;21mdivide\u001b[39m(x, y):\n\u001b[0;32m      2\u001b[0m     \u001b[38;5;28;01mtry\u001b[39;00m:\n\u001b[1;32m----> 3\u001b[0m         result \u001b[38;5;241m=\u001b[39m \u001b[43mx\u001b[49m\u001b[43m \u001b[49m\u001b[38;5;241;43m/\u001b[39;49m\u001b[43m \u001b[49m\u001b[43my\u001b[49m\n\u001b[0;32m      4\u001b[0m     \u001b[38;5;28;01mexcept\u001b[39;00m \u001b[38;5;167;01mZeroDivisionError\u001b[39;00m:\n\u001b[0;32m      5\u001b[0m         \u001b[38;5;28mprint\u001b[39m(\u001b[38;5;124m\"\u001b[39m\u001b[38;5;124mdivision by zero!\u001b[39m\u001b[38;5;124m\"\u001b[39m)\n",
      "\u001b[1;31mTypeError\u001b[0m: unsupported operand type(s) for /: 'str' and 'str'"
     ]
    }
   ],
   "source": [
    "def divide(x, y):\n",
    "    try:\n",
    "        result = x / y\n",
    "    except ZeroDivisionError:\n",
    "        print(\"division by zero!\")\n",
    "    else:\n",
    "        print(\"result is\", result)\n",
    "    finally:\n",
    "        print(\"executing finally clause\")\n",
    "        \n",
    "divide(2, 1)\n",
    "\n",
    "divide(2, 0)\n",
    "\n",
    "divide(\"2\", \"1\")"
   ]
  },
  {
   "cell_type": "markdown",
   "id": "f4c79223-1ce6-4bfb-881b-5db78b10a9fc",
   "metadata": {},
   "source": [
    "As you can see, the [`finally`](https://docs.python.org/3/reference/compound_stmts.html#finally) clause is executed in any event. The [`TypeError`](https://docs.python.org/3/library/exceptions.html#TypeError) raised by dividing two strings is not handled by the [`except`](https://docs.python.org/3/reference/compound_stmts.html#except) clause and therefore re-raised after the `finally` clause has been executed.\n",
    "\n",
    "> 正如你所看到的，[`finally`](https://docs.python.org/3/reference/compound_stmts.html#finally)子句在任何情况下都被执行。把两个字符串相除引发的[`TypeError`](https://docs.python.org/3/library/exceptions.html#TypeError)没有被[`except`](https://docs.python.org/3/reference/compound_stmts.html#except)子句处理，因此在执行了`finally`子句后再次引发。"
   ]
  },
  {
   "cell_type": "markdown",
   "id": "05620759-b819-4559-873a-3f768666dbdb",
   "metadata": {},
   "source": [
    "In real world applications, the [`finally`](https://docs.python.org/3/reference/compound_stmts.html#finally) clause is useful for releasing external resources (such as files or network connections), regardless of whether the use of the resource was successful.\n",
    "\n",
    "> 在现实应用中，[`finally`](https://docs.python.org/3/reference/compound_stmts.html#finally)子句对于释放外部资源（如文件或网络连接）是很有用的，不管资源的使用是否成功。"
   ]
  },
  {
   "cell_type": "markdown",
   "id": "2fb50188-a757-4055-9514-83dceb45c048",
   "metadata": {},
   "source": [
    "## 8.8. Predefined Clean-up Actions"
   ]
  },
  {
   "cell_type": "markdown",
   "id": "41276853-b08a-4238-bcb2-47105f7241fe",
   "metadata": {},
   "source": [
    "Some objects define standard clean-up actions to be undertaken when the object is no longer needed, regardless of whether or not the operation using the object succeeded or failed. Look at the following example, which tries to open a file and print its contents to the screen.\n",
    "\n",
    "> 一些对象定义了标准的清理动作，当不再需要该对象时，无论使用该对象的操作是成功还是失败，都要进行清理。请看下面的例子，它试图打开一个文件并将其内容打印到屏幕上。"
   ]
  },
  {
   "cell_type": "code",
   "execution_count": 2,
   "id": "8b604a5d-713e-4ed0-a305-3a3d25f65251",
   "metadata": {},
   "outputs": [
    {
     "name": "stdout",
     "output_type": "stream",
     "text": [
      "[1, \"simple\", \"list\"] series up to n\n",
      "     a, b = 0, 1\n",
      "     while a < n:\n",
      "         print(a, end=' ')\n",
      "         a, b = b, a+b\n",
      "     print()\n",
      " \n",
      " def fib2(n):   # return Fibonacci series up to n\n",
      "     result = []\n",
      "     a, b = 0, 1\n",
      "     while a < n:\n",
      "         result.append(a)\n",
      "         a, b = b, a+b\n",
      "     return result\n",
      " \n",
      " print(42)\n",
      " print(42)\n",
      " ('the answer', 42) "
     ]
    }
   ],
   "source": [
    "for line in open(\"fibo.py\"):\n",
    "    print(line, end = \" \")"
   ]
  },
  {
   "cell_type": "markdown",
   "id": "69a2cad7-e925-46f4-9672-628f9477001b",
   "metadata": {},
   "source": [
    "The problem with this code is that it leaves the file open for an indeterminate amount of time after this part of the code has finished executing. This is not an issue in simple scripts, but can be a problem for larger applications. The [`with`](https://docs.python.org/3/reference/compound_stmts.html#with) statement allows objects like files to be used in a way that ensures they are always cleaned up promptly and correctly.\n",
    "\n",
    "> 这段代码的问题是，在这部分代码执行完毕后，它会使文件开放不确定的时间。这在简单的脚本中不是一个问题，但对于较大的应用程序来说可能是一个问题。[`with`](https://docs.python.org/3/reference/compound_stmts.html#with)语句允许使用像文件这样的对象，以确保它们总是被及时和正确地清理掉。"
   ]
  },
  {
   "cell_type": "code",
   "execution_count": 3,
   "id": "5e12c18d-76e7-4526-a8a3-a96f87b63236",
   "metadata": {},
   "outputs": [
    {
     "name": "stdout",
     "output_type": "stream",
     "text": [
      "[1, \"simple\", \"list\"] series up to n\n",
      "     a, b = 0, 1\n",
      "     while a < n:\n",
      "         print(a, end=' ')\n",
      "         a, b = b, a+b\n",
      "     print()\n",
      " \n",
      " def fib2(n):   # return Fibonacci series up to n\n",
      "     result = []\n",
      "     a, b = 0, 1\n",
      "     while a < n:\n",
      "         result.append(a)\n",
      "         a, b = b, a+b\n",
      "     return result\n",
      " \n",
      " print(42)\n",
      " print(42)\n",
      " ('the answer', 42) "
     ]
    }
   ],
   "source": [
    "with open(\"fibo.py\") as f:\n",
    "    for line in f:\n",
    "        print(line, end=\" \")"
   ]
  },
  {
   "cell_type": "markdown",
   "id": "04d0a5fe-2e71-4732-a9ab-01f14da46c0a",
   "metadata": {},
   "source": [
    "After the statement is executed, the file *f* is always closed, even if a problem was encountered while processing the lines. Objects which, like files, provide predefined clean-up actions will indicate this in their documentation.\n",
    "\n",
    "> 语句执行后，文件*f*总是被关闭，即使在处理这些行时遇到了问题。像文件一样，提供预定义清理动作的对象会在其文档中说明这一点。"
   ]
  }
 ],
 "metadata": {
  "kernelspec": {
   "display_name": "Python 3 (ipykernel)",
   "language": "python",
   "name": "python3"
  },
  "language_info": {
   "codemirror_mode": {
    "name": "ipython",
    "version": 3
   },
   "file_extension": ".py",
   "mimetype": "text/x-python",
   "name": "python",
   "nbconvert_exporter": "python",
   "pygments_lexer": "ipython3",
   "version": "3.10.4"
  }
 },
 "nbformat": 4,
 "nbformat_minor": 5
}
