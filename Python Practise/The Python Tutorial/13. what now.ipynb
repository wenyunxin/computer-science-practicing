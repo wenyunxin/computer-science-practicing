{
 "cells": [
  {
   "cell_type": "code",
   "execution_count": 1,
   "id": "7e4de794-94ca-4241-b9ec-73c685645df6",
   "metadata": {},
   "outputs": [],
   "source": [
    "from IPython.core.interactiveshell import InteractiveShell\n",
    "InteractiveShell.ast_node_interactivity = \"all\""
   ]
  },
  {
   "cell_type": "markdown",
   "id": "f35831fd-f810-4dfa-ab3c-591663c40adb",
   "metadata": {},
   "source": [
    "Reading this tutorial has probably reinforced your interest in using Python — you should be eager to apply Python to solving your real-world problems. Where should you go to learn more?\n",
    "\n",
    "This tutorial is part of Python’s documentation set. Some other documents in the set are:\n",
    "\n",
    "- [The Python Standard Library](https://docs.python.org/3/library/index.html#library-index):\n",
    "\n",
    "  You should browse through this manual, which gives complete (though terse) reference material about types, functions, and the modules in the standard library. The standard Python distribution includes a *lot* of additional code. There are modules to read Unix mailboxes, retrieve documents via HTTP, generate random numbers, parse command-line options, write CGI programs, compress data, and many other tasks. Skimming through the Library Reference will give you an idea of what’s available.\n",
    "\n",
    "- [Installing Python Modules](https://docs.python.org/3/installing/index.html#installing-index) explains how to install additional modules written by other Python users.\n",
    "\n",
    "- [The Python Language Reference](https://docs.python.org/3/reference/index.html#reference-index): A detailed explanation of Python’s syntax and semantics. It’s heavy reading, but is useful as a complete guide to the language itself.\n",
    "\n",
    "> 阅读本教程可能已经加强了你对使用 Python 的兴趣 - 你应该渴望应用 Python 来解决你的实际问题。你应该去哪里学习更多的东西呢？\n",
    ">\n",
    "> 本教程是 Python 文档集的一部分。这套文档中的其他一些文档有：\n",
    ">\n",
    "> - [The Python Standard Library](https://docs.python.org/3/library/index.html#library-index)。\n",
    ">\n",
    ">   你应该浏览一下这本手册，它提供了关于类型、函数和标准库中的模块的完整 (虽然很简略) 的参考材料。标准的 Python 发行版包括了*许多*的附加代码。有一些模块可以读取 Unix 邮箱，通过 HTTP 检索文件，生成随机数，解析命令行选项，编写 CGI 程序，压缩数据，以及其他许多任务。略微浏览一下库参考将使你对可用的东西有一个概念。\n",
    ">\n",
    "> - [Installing Python Modules](https://docs.python.org/3/installing/index.html#installing-index) 解释了如何安装由其他Python用户编写的附加模块。\n",
    ">\n",
    "> - [The Python Language Reference](https://docs.python.org/3/reference/index.html#reference-index)。对Python的语法和语义的详细解释。它的阅读量很大，但作为语言本身的完整指南是很有用的。"
   ]
  },
  {
   "cell_type": "markdown",
   "id": "6d881c53-d4dd-40ba-ad0d-52ec7988fab3",
   "metadata": {},
   "source": [
    "More Python resources:\n",
    "\n",
    "- [https://www.python.org](https://www.python.org/): The major Python web site. It contains code, documentation, and pointers to Python-related pages around the web. This web site is mirrored in various places around the world, such as Europe, Japan, and Australia; a mirror may be faster than the main site, depending on your geographical location.\n",
    "- [https://docs.python.org](https://docs.python.org/): Fast access to Python’s documentation.\n",
    "- [https://pypi.org](https://pypi.org/): The Python Package Index, previously also nicknamed the Cheese Shop [1](https://docs.python.org/3/tutorial/whatnow.html#id2), is an index of user-created Python modules that are available for download. Once you begin releasing code, you can register it here so that others can find it.\n",
    "- https://code.activestate.com/recipes/langs/python/: The Python Cookbook is a sizable collection of code examples, larger modules, and useful scripts. Particularly notable contributions are collected in a book also titled Python Cookbook (O’Reilly & Associates, ISBN 0-596-00797-3.)\n",
    "- [http://www.pyvideo.org](http://www.pyvideo.org/) collects links to Python-related videos from conferences and user-group meetings.\n",
    "- [https://scipy.org](https://scipy.org/): The Scientific Python project includes modules for fast array computations and manipulations plus a host of packages for such things as linear algebra, Fourier transforms, non-linear solvers, random number distributions, statistical analysis and the like.\n",
    "\n",
    "> 更多的Python资源。\n",
    ">\n",
    "> - [https://www.python.org](https://www.python.org/)。主要的 Python 网站。它包含代码、文档和指向网络上与Python有关的网页的链接。这个网站在世界各地都有镜像，如欧洲、日本和澳大利亚；镜像可能比主网站更快，这取决于你的地理位置。\n",
    "> - [https://docs.python.org](https://docs.python.org/)。快速访问 Python 的文档。\n",
    "> - [https://pypi.org](https://pypi.org/)。Python Package Index，以前也被昵称为 Cheese Shop [1]，是一个用户创建的 Python 模块的索引，可供下载。一旦你开始发布代码，你可以在这里注册，以便其他人可以找到它。\n",
    "> - https://code.activestate.com/recipes/langs/python/  Python Cookbook 是一个相当大的代码实例、较大模块和有用脚本的集合。特别值得注意的贡献被收集在一本同样名为Python Cookbook的书中（O'Reilly & Associates，ISBN 0-596-00797-3。）\n",
    "> - [http://www.pyvideo.org](http://www.pyvideo.org/)收集了会议和用户组会议中与Python有关的视频链接。\n",
    "> - [https://scipy.org](https://scipy.org/)。Scientific Python项目包括用于快速阵列计算和操作的模块，以及用于线性代数、傅里叶变换、非线性求解器、随机数分布、统计分析等的大量软件包。"
   ]
  },
  {
   "cell_type": "markdown",
   "id": "5aa2cc8f-8f74-473f-98ba-3770568c5482",
   "metadata": {},
   "source": [
    "For Python-related questions and problem reports, you can post to the newsgroup *comp.lang.python*, or send them to the mailing list at [python-list@python.org](mailto:python-list@python.org). The newsgroup and mailing list are gatewayed, so messages posted to one will automatically be forwarded to the other. There are hundreds of postings a day, asking (and answering) questions, suggesting new features, and announcing new modules. Mailing list archives are available at https://mail.python.org/pipermail/.\n",
    "\n",
    "Before posting, be sure to check the list of [Frequently Asked Questions](https://docs.python.org/3/faq/index.html#faq-index) (also called the FAQ). The FAQ answers many of the questions that come up again and again, and may already contain the solution for your problem.\n",
    "\n",
    "> 对于Python相关的问题和问题报告，你可以发布到新闻组*comp.lang.python*，或者将它们发送到邮件列表[python-list@python.org](mailto:python-list@python.org)。新闻组和邮件列表是网关式的，所以发布到其中一个的信息会自动转发到另一个。每天有数以百计的帖子，询问（和回答）问题，建议新的功能，并宣布新的模块。邮件列表的档案可在https://mail.python.org/pipermail/。\n",
    ">\n",
    "> 在发帖之前，一定要检查[常见问题](https://docs.python.org/3/faq/index.html#faq-index)列表（也称为FAQ）。FAQ回答了许多反复出现的问题，并且可能已经包含了你问题的解决方案。"
   ]
  },
  {
   "cell_type": "markdown",
   "id": "074599af-f36b-4a1e-b168-80712df1ca42",
   "metadata": {},
   "source": [
    "**Footnotes**\n",
    "\n",
    "[1]: “Cheese Shop” is a Monty Python’s sketch: a customer enters a cheese shop, but whatever cheese he asks for, the clerk says it’s missing.\n",
    "\n",
    "> [1]: \"奶酪店 \"是Monty Python的一个小品：一个顾客进入一家奶酪店，但不管他要什么奶酪，店员都说没有了。"
   ]
  }
 ],
 "metadata": {
  "kernelspec": {
   "display_name": "Python 3 (ipykernel)",
   "language": "python",
   "name": "python3"
  },
  "language_info": {
   "codemirror_mode": {
    "name": "ipython",
    "version": 3
   },
   "file_extension": ".py",
   "mimetype": "text/x-python",
   "name": "python",
   "nbconvert_exporter": "python",
   "pygments_lexer": "ipython3",
   "version": "3.10.4"
  }
 },
 "nbformat": 4,
 "nbformat_minor": 5
}
