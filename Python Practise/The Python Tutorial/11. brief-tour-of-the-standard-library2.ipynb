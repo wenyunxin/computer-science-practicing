{
 "cells": [
  {
   "cell_type": "code",
   "execution_count": 1,
   "id": "87ed308d-2027-44fa-b9e9-f515863ca70a",
   "metadata": {},
   "outputs": [],
   "source": [
    "from IPython.core.interactiveshell import InteractiveShell\n",
    "InteractiveShell.ast_node_interactivity = \"all\""
   ]
  },
  {
   "cell_type": "markdown",
   "id": "c996dd24-dd4c-450a-a04a-8294e99dfc66",
   "metadata": {},
   "source": [
    "This second tour covers more advanced modules that support professional programming needs. These modules rarely occur in small scripts.\n",
    "\n",
    "> 第二次参观涵盖了支持专业编程需求的更多高级模块。这些模块很少出现在小脚本中。"
   ]
  },
  {
   "cell_type": "markdown",
   "id": "a711213c-55ac-4756-9bd5-9de8e8f5fb75",
   "metadata": {},
   "source": [
    "## 11.1. Output Formatting"
   ]
  },
  {
   "cell_type": "markdown",
   "id": "7e0d6d7e-2404-448a-8203-db5791adea0a",
   "metadata": {},
   "source": [
    "The [`reprlib`](https://docs.python.org/3/library/reprlib.html#module-reprlib) module provides a version of [`repr()`](https://docs.python.org/3/library/functions.html#repr) customized for abbreviated displays of large or deeply nested containers:\n",
    "\n",
    "> [`reprlib`](https://docs.python.org/3/library/reprlib.html#module-reprlib)模块提供了[`repr()`](https://docs.python.org/3/library/functions.html#repr)的一个版本，为大型或深度嵌套容器的简略显示而定制："
   ]
  },
  {
   "cell_type": "code",
   "execution_count": 1,
   "id": "42201a7d-7941-41cb-b364-77bc37bebdd4",
   "metadata": {},
   "outputs": [
    {
     "data": {
      "text/plain": [
       "\"{'a', 'c', 'd', 'e', 'f', 'g', ...}\""
      ]
     },
     "execution_count": 1,
     "metadata": {},
     "output_type": "execute_result"
    }
   ],
   "source": [
    "import reprlib\n",
    "\n",
    "reprlib.repr(set('supercalifragilisticexpialidocious'))"
   ]
  },
  {
   "cell_type": "markdown",
   "id": "3836f0ea-9322-49a3-82fd-92c4f623096e",
   "metadata": {},
   "source": [
    "The [`pprint`](https://docs.python.org/3/library/pprint.html#module-pprint) module offers more sophisticated control over printing both built-in and user defined objects in a way that is readable by the interpreter. When the result is longer than one line, the “pretty printer” adds line breaks and indentation to more clearly reveal data structure:\n",
    "\n",
    "> [`pprint`](https://docs.python.org/3/library/pprint.html#module-pprint)模块提供了更复杂的控制，以解释器可读的方式打印内置和用户定义的对象。当结果超过一行时，\"漂亮打印机 \"会增加换行和缩进，以更清楚地显示数据结构："
   ]
  },
  {
   "cell_type": "code",
   "execution_count": 2,
   "id": "ec1f62b7-ba4a-46c8-b287-48f6b242e456",
   "metadata": {},
   "outputs": [
    {
     "name": "stdout",
     "output_type": "stream",
     "text": [
      "[[[['black', 'cyan'],\n",
      "   'white',\n",
      "   ['green', 'red']],\n",
      "  [['magenta', 'yellow'],\n",
      "   'blue']]]\n"
     ]
    }
   ],
   "source": [
    "import pprint\n",
    "t = [[[['black', 'cyan'], 'white', ['green', 'red']], [['magenta', \n",
    "                                                        'yellow'], 'blue']]]\n",
    "\n",
    "pprint.pprint(t, width=30)"
   ]
  },
  {
   "cell_type": "markdown",
   "id": "ca93ddd2-dc20-4f67-8eb6-aca3dc33c82f",
   "metadata": {},
   "source": [
    "The [`textwrap`](https://docs.python.org/3/library/textwrap.html#module-textwrap) module formats paragraphs of text to fit a given screen width:\n",
    "\n",
    "> [`textwrap`](https://docs.python.org/3/library/textwrap.html#module-textwrap)模块对文本段落进行格式化，以适应特定的屏幕宽度："
   ]
  },
  {
   "cell_type": "code",
   "execution_count": 3,
   "id": "bc3fc5e6-a842-4430-a116-03a2d74252e6",
   "metadata": {},
   "outputs": [
    {
     "name": "stdout",
     "output_type": "stream",
     "text": [
      "The wrap() method is just like fill()\n",
      "except that it returns  a list of\n",
      "strings instead of one big string with\n",
      "newlines to separate  the wrapped lines.\n"
     ]
    }
   ],
   "source": [
    "import textwrap\n",
    "\n",
    "doc = \"\"\"The wrap() method is just like fill() except that it returns \n",
    "a list of strings instead of one big string with newlines to separate \n",
    "the wrapped lines.\"\"\"\n",
    "\n",
    "print(textwrap.fill(doc, width=40))"
   ]
  },
  {
   "cell_type": "markdown",
   "id": "38b6b82c-c819-4239-8cfc-93d73350505b",
   "metadata": {},
   "source": [
    "The [`locale`](https://docs.python.org/3/library/locale.html#module-locale) module accesses a database of culture specific data formats. The grouping attribute of locale’s format function provides a direct way of formatting numbers with group separators:\n",
    "\n",
    "> [`locale`](https://docs.python.org/3/library/locale.html#module-locale)模块可以访问一个特定文化数据格式的数据库。locale's format函数的分组属性提供了一种用分组分隔符格式化数字的直接方法："
   ]
  },
  {
   "cell_type": "code",
   "execution_count": 4,
   "id": "853ea8c8-2d52-4286-9018-813b1ac734c3",
   "metadata": {},
   "outputs": [
    {
     "data": {
      "text/plain": [
       "'English_United States.1252'"
      ]
     },
     "execution_count": 4,
     "metadata": {},
     "output_type": "execute_result"
    }
   ],
   "source": [
    "import locale\n",
    "\n",
    "locale.setlocale(locale.LC_ALL, 'English_United States.1252')"
   ]
  },
  {
   "cell_type": "code",
   "execution_count": 5,
   "id": "98c05012-87a7-4aa0-bd7b-c04ee848d562",
   "metadata": {},
   "outputs": [
    {
     "name": "stderr",
     "output_type": "stream",
     "text": [
      "C:\\Users\\Administrator\\AppData\\Local\\Temp\\ipykernel_1976\\1843871177.py:3: DeprecationWarning: This method will be removed in a future version of Python. Use 'locale.format_string()' instead.\n",
      "  locale.format(\"%d\", x, grouping=True)\n"
     ]
    },
    {
     "data": {
      "text/plain": [
       "'1,234,567'"
      ]
     },
     "execution_count": 5,
     "metadata": {},
     "output_type": "execute_result"
    }
   ],
   "source": [
    "conv = locale.localeconv()    # get a mapping of conventions\n",
    "x = 1234567.8\n",
    "locale.format(\"%d\", x, grouping=True)"
   ]
  },
  {
   "cell_type": "code",
   "execution_count": 6,
   "id": "6523282c-70ed-4596-8f28-c4708a6f9a94",
   "metadata": {},
   "outputs": [
    {
     "data": {
      "text/plain": [
       "'$1,234,567.80'"
      ]
     },
     "execution_count": 6,
     "metadata": {},
     "output_type": "execute_result"
    }
   ],
   "source": [
    "locale.format_string(\"%s%.*f\", (conv['currency_symbol'],\n",
    "                               conv['frac_digits'], x), grouping=True)"
   ]
  },
  {
   "cell_type": "markdown",
   "id": "bd8f3fae-c05b-4ef0-8948-804bc2557507",
   "metadata": {},
   "source": [
    "## 11.2. Templating"
   ]
  },
  {
   "cell_type": "markdown",
   "id": "9e6c3c98-e34c-409c-9635-35459b5dbdef",
   "metadata": {},
   "source": [
    "The [`string`](https://docs.python.org/3/library/string.html#module-string) module includes a versatile [`Template`](https://docs.python.org/3/library/string.html#string.Template) class with a simplified syntax suitable for editing by end-users. This allows users to customize their applications without having to alter the application.\n",
    "\n",
    "The format uses placeholder names formed by `$` with valid Python identifiers (alphanumeric characters and underscores). Surrounding the placeholder with braces allows it to be followed by more alphanumeric letters with no intervening spaces. Writing `$$` creates a single escaped `$`:\n",
    "\n",
    "> [`string`](https://docs.python.org/3/library/string.html#module-string)模块包括一个多功能的[`Template`](https://docs.python.org/3/library/string.html#string.Template)类，具有适合终端用户编辑的简化语法。这使得用户可以定制他们的应用程序，而不必改变应用程序。\n",
    ">\n",
    "> 该格式使用由`$`组成的占位符名称，并带有有效的Python标识符（字母数字字符和下划线）。用大括号包围占位符，允许它后面有更多的字母和数字，没有中间的空格。写入`$$`会产生一个转义的`$`："
   ]
  },
  {
   "cell_type": "code",
   "execution_count": 2,
   "id": "06a62a96-2997-4ce8-a96c-f0050be6a83d",
   "metadata": {},
   "outputs": [
    {
     "data": {
      "text/plain": [
       "'Nottinghamfolk send $10 to the ditch fund.'"
      ]
     },
     "execution_count": 2,
     "metadata": {},
     "output_type": "execute_result"
    }
   ],
   "source": [
    "from string import Template\n",
    "\n",
    "t = Template('${village}folk send $$10 to $cause.')\n",
    "t.substitute(village='Nottingham', cause='the ditch fund')"
   ]
  },
  {
   "cell_type": "markdown",
   "id": "17f862dc-6540-4caf-a4a6-5f5583835f53",
   "metadata": {},
   "source": [
    "The [`substitute()`](https://docs.python.org/3/library/string.html#string.Template.substitute) method raises a [`KeyError`](https://docs.python.org/3/library/exceptions.html#KeyError) when a placeholder is not supplied in a dictionary or a keyword argument. For mail-merge style applications, user supplied data may be incomplete and the [`safe_substitute()`](https://docs.python.org/3/library/string.html#string.Template.safe_substitute) method may be more appropriate — it will leave placeholders unchanged if data is missing:\n",
    "\n",
    "> 当占位符没有在字典或关键字参数中提供时，[`substitute()`](https://docs.python.org/3/library/string.html#string.Template.substitute)方法会引发一个[`KeyError`](https://docs.python.org/3/library/exceptions.html#KeyError)。对于邮件合并风格的应用，用户提供的数据可能是不完整的，[`safe_substitute()`](https://docs.python.org/3/library/string.html#string.Template.safe_substitute)方法可能更合适--如果数据丢失，它将不改变占位符。"
   ]
  },
  {
   "cell_type": "code",
   "execution_count": 3,
   "id": "c61ca987-5885-4f26-9bfb-0085f856216f",
   "metadata": {},
   "outputs": [
    {
     "ename": "KeyError",
     "evalue": "'owner'",
     "output_type": "error",
     "traceback": [
      "\u001b[1;31m---------------------------------------------------------------------------\u001b[0m",
      "\u001b[1;31mKeyError\u001b[0m                                  Traceback (most recent call last)",
      "Input \u001b[1;32mIn [3]\u001b[0m, in \u001b[0;36m<cell line: 3>\u001b[1;34m()\u001b[0m\n\u001b[0;32m      1\u001b[0m t \u001b[38;5;241m=\u001b[39m Template(\u001b[38;5;124m'\u001b[39m\u001b[38;5;124mReturn the $item to $owner.\u001b[39m\u001b[38;5;124m'\u001b[39m)\n\u001b[0;32m      2\u001b[0m d \u001b[38;5;241m=\u001b[39m \u001b[38;5;28mdict\u001b[39m(item\u001b[38;5;241m=\u001b[39m\u001b[38;5;124m'\u001b[39m\u001b[38;5;124munladen swallow\u001b[39m\u001b[38;5;124m'\u001b[39m)\n\u001b[1;32m----> 3\u001b[0m \u001b[43mt\u001b[49m\u001b[38;5;241;43m.\u001b[39;49m\u001b[43msubstitute\u001b[49m\u001b[43m(\u001b[49m\u001b[43md\u001b[49m\u001b[43m)\u001b[49m\n",
      "File \u001b[1;32m~\\AppData\\Local\\Programs\\Python\\Python310\\lib\\string.py:121\u001b[0m, in \u001b[0;36mTemplate.substitute\u001b[1;34m(self, mapping, **kws)\u001b[0m\n\u001b[0;32m    118\u001b[0m         \u001b[38;5;28mself\u001b[39m\u001b[38;5;241m.\u001b[39m_invalid(mo)\n\u001b[0;32m    119\u001b[0m     \u001b[38;5;28;01mraise\u001b[39;00m \u001b[38;5;167;01mValueError\u001b[39;00m(\u001b[38;5;124m'\u001b[39m\u001b[38;5;124mUnrecognized named group in pattern\u001b[39m\u001b[38;5;124m'\u001b[39m,\n\u001b[0;32m    120\u001b[0m                      \u001b[38;5;28mself\u001b[39m\u001b[38;5;241m.\u001b[39mpattern)\n\u001b[1;32m--> 121\u001b[0m \u001b[38;5;28;01mreturn\u001b[39;00m \u001b[38;5;28;43mself\u001b[39;49m\u001b[38;5;241;43m.\u001b[39;49m\u001b[43mpattern\u001b[49m\u001b[38;5;241;43m.\u001b[39;49m\u001b[43msub\u001b[49m\u001b[43m(\u001b[49m\u001b[43mconvert\u001b[49m\u001b[43m,\u001b[49m\u001b[43m \u001b[49m\u001b[38;5;28;43mself\u001b[39;49m\u001b[38;5;241;43m.\u001b[39;49m\u001b[43mtemplate\u001b[49m\u001b[43m)\u001b[49m\n",
      "File \u001b[1;32m~\\AppData\\Local\\Programs\\Python\\Python310\\lib\\string.py:114\u001b[0m, in \u001b[0;36mTemplate.substitute.<locals>.convert\u001b[1;34m(mo)\u001b[0m\n\u001b[0;32m    112\u001b[0m named \u001b[38;5;241m=\u001b[39m mo\u001b[38;5;241m.\u001b[39mgroup(\u001b[38;5;124m'\u001b[39m\u001b[38;5;124mnamed\u001b[39m\u001b[38;5;124m'\u001b[39m) \u001b[38;5;129;01mor\u001b[39;00m mo\u001b[38;5;241m.\u001b[39mgroup(\u001b[38;5;124m'\u001b[39m\u001b[38;5;124mbraced\u001b[39m\u001b[38;5;124m'\u001b[39m)\n\u001b[0;32m    113\u001b[0m \u001b[38;5;28;01mif\u001b[39;00m named \u001b[38;5;129;01mis\u001b[39;00m \u001b[38;5;129;01mnot\u001b[39;00m \u001b[38;5;28;01mNone\u001b[39;00m:\n\u001b[1;32m--> 114\u001b[0m     \u001b[38;5;28;01mreturn\u001b[39;00m \u001b[38;5;28mstr\u001b[39m(\u001b[43mmapping\u001b[49m\u001b[43m[\u001b[49m\u001b[43mnamed\u001b[49m\u001b[43m]\u001b[49m)\n\u001b[0;32m    115\u001b[0m \u001b[38;5;28;01mif\u001b[39;00m mo\u001b[38;5;241m.\u001b[39mgroup(\u001b[38;5;124m'\u001b[39m\u001b[38;5;124mescaped\u001b[39m\u001b[38;5;124m'\u001b[39m) \u001b[38;5;129;01mis\u001b[39;00m \u001b[38;5;129;01mnot\u001b[39;00m \u001b[38;5;28;01mNone\u001b[39;00m:\n\u001b[0;32m    116\u001b[0m     \u001b[38;5;28;01mreturn\u001b[39;00m \u001b[38;5;28mself\u001b[39m\u001b[38;5;241m.\u001b[39mdelimiter\n",
      "\u001b[1;31mKeyError\u001b[0m: 'owner'"
     ]
    }
   ],
   "source": [
    "t = Template('Return the $item to $owner.')\n",
    "d = dict(item='unladen swallow')\n",
    "t.substitute(d)"
   ]
  },
  {
   "cell_type": "markdown",
   "id": "e5c674b7-e976-4c8e-89be-93cfb729b716",
   "metadata": {},
   "source": [
    "Template subclasses can specify a custom delimiter. For example, a batch renaming utility for a photo browser may elect to use percent signs for placeholders such as the current date, image sequence number, or file format:\n",
    "\n",
    "> 模板子类可以指定一个自定义分隔符。例如，一个照片浏览器的批量重命名工具可以选择使用百分号来表示占位符，如当前日期、图像序列号或文件格式："
   ]
  },
  {
   "cell_type": "code",
   "execution_count": 6,
   "id": "7c9b4513-1efb-4b2a-825e-585c815380ef",
   "metadata": {},
   "outputs": [
    {
     "name": "stdin",
     "output_type": "stream",
     "text": [
      "Enter rename style (%d-date %n-seqnum %f-format):  Ashley_%n%f\n"
     ]
    }
   ],
   "source": [
    "import time, os.path\n",
    "\n",
    "photofiles = ['bad.png', 'brain.png', 'events.png']\n",
    "\n",
    "class BatchRename(Template):\n",
    "    delimiter = '%'\n",
    "    \n",
    "fmt = input('Enter rename style (%d-date %n-seqnum %f-format): ')"
   ]
  },
  {
   "cell_type": "code",
   "execution_count": 7,
   "id": "86f9b449-3d30-4be1-893d-d6d657c9aa83",
   "metadata": {},
   "outputs": [
    {
     "name": "stdout",
     "output_type": "stream",
     "text": [
      "bad.png --> Ashley_0.png\n",
      "brain.png --> Ashley_1.png\n",
      "events.png --> Ashley_2.png\n"
     ]
    }
   ],
   "source": [
    "t = BatchRename(fmt)\n",
    "date = time.strftime('%d%b%y')\n",
    "\n",
    "for i, filename in enumerate(photofiles):\n",
    "    base, ext = os.path.splitext(filename)\n",
    "    newname = t.substitute(d=date, n=i, f=ext)\n",
    "    print('{0} --> {1}'.format(filename, newname))"
   ]
  },
  {
   "cell_type": "markdown",
   "id": "7ebaf101-6d82-47ea-a860-e2752f4d2c90",
   "metadata": {},
   "source": [
    "Another application for templating is separating program logic from the details of multiple output formats. This makes it possible to substitute custom templates for XML files, plain text reports, and HTML web reports.\n",
    "\n",
    "> 模板的另一个应用是将程序逻辑与多种输出格式的细节分开。这使得替代XML文件、纯文本报告和HTML网络报告的自定义模板成为可能。"
   ]
  },
  {
   "cell_type": "markdown",
   "id": "6eaf0681-24f5-4a78-8c60-a84c18f440af",
   "metadata": {},
   "source": [
    "## 11.3. Working with Binary Data Record Layouts"
   ]
  },
  {
   "cell_type": "markdown",
   "id": "74ee9022-53e6-46d4-9873-058660adcf71",
   "metadata": {},
   "source": [
    "The [`struct`](https://docs.python.org/3/library/struct.html#module-struct) module provides [`pack()`](https://docs.python.org/3/library/struct.html#struct.pack) and [`unpack()`](https://docs.python.org/3/library/struct.html#struct.unpack) functions for working with variable length binary record formats. The following example shows how to loop through header information in a ZIP file without using the [`zipfile`](https://docs.python.org/3/library/zipfile.html#module-zipfile) module. Pack codes `\"H\"` and `\"I\"` represent two and four byte unsigned numbers respectively. The `\"<\"` indicates that they are standard size and in little-endian byte order:\n",
    "\n",
    "> [`struct`](https://docs.python.org/3/library/struct.html#module-struct)模块提供了[`pack()`](https://docs.python.org/3/library/struct.html#struct.pack)和[`unpack()`](https://docs.python.org/3/library/struct.html#struct.unpack)函数用于处理可变长度的二进制记录格式。下面的例子显示了如何在不使用[`zipfile`](https://docs.python.org/3/library/zipfile.html#module-zipfile)模块的情况下循环浏览ZIP文件的头信息。包装代码`\"H \"` 和 `\"I \"` 分别代表两个和四个字节的无符号数字。`\"<\"`表示它们是标准大小的，并且是小-endian的字节顺序："
   ]
  },
  {
   "cell_type": "code",
   "execution_count": 9,
   "id": "a9c31823-7718-4a1b-b67d-8df19f14562b",
   "metadata": {},
   "outputs": [
    {
     "name": "stdout",
     "output_type": "stream",
     "text": [
      "b'events.png' 0x6cb94026 194555 195581\n",
      "b'bad.png' 0xcf31b271 289354 306871\n",
      "b'brain.png' 0xf76b90c6 570896 578483\n"
     ]
    }
   ],
   "source": [
    "import struct\n",
    "\n",
    "with open('imgs.zip', 'rb') as f:\n",
    "    data = f.read()\n",
    "    \n",
    "start = 0\n",
    "for i in range(3):    # show the first 3 file headers\n",
    "    start += 14\n",
    "    fields = struct.unpack('<IIIHH', data[start:start+16])\n",
    "    crc32, com_size, uncomp_size, filenamesize, extra_size = fields\n",
    "    \n",
    "    start += 16\n",
    "    filename = data[start:start+filenamesize]\n",
    "    start += filenamesize\n",
    "    extra = data[start:start+extra_size]\n",
    "    print(filename, hex(crc32), com_size, uncomp_size)\n",
    "    \n",
    "    start += extra_size + com_size    # skip to the next header"
   ]
  },
  {
   "cell_type": "markdown",
   "id": "932769a4-e933-4397-9373-e26d25c5af1a",
   "metadata": {},
   "source": [
    "## 11.4. Multi-threading"
   ]
  },
  {
   "cell_type": "markdown",
   "id": "f4fdf942-70d5-4acd-bbf3-7e2f9e7cc3c4",
   "metadata": {},
   "source": [
    "Threading is a technique for decoupling tasks which are not sequentially dependent. Threads can be used to improve the responsiveness of applications that accept user input while other tasks run in the background. A related use case is running I/O in parallel with computations in another thread.\n",
    "\n",
    "The following code shows how the high level [`threading`](https://docs.python.org/3/library/threading.html#module-threading) module can run tasks in background while the main program continues to run:\n",
    "\n",
    "> 线程是一种解耦任务的技术，这些任务在顺序上并不依赖。线程可以用来提高接受用户输入的应用程序的响应速度，而其他任务在后台运行。一个相关的用例是在另一个线程中并行运行I/O和计算。\n",
    ">\n",
    "> 下面的代码显示了高层次 [`threading`](https://docs.python.org/3/library/threading.html#module-threading) 模块如何在主程序继续运行时在后台运行任务："
   ]
  },
  {
   "cell_type": "code",
   "execution_count": 10,
   "id": "489e4d56-8d5d-4a8b-af50-1fd30d9cdef4",
   "metadata": {},
   "outputs": [
    {
     "name": "stdout",
     "output_type": "stream",
     "text": [
      "The main program continues to run in foreground.\n",
      "Finished background zip of: what makes a good life.txt\n",
      "Main program waited until background was done.\n"
     ]
    }
   ],
   "source": [
    "import threading, zipfile\n",
    "\n",
    "class AsyncZip(threading.Thread):\n",
    "    def __init__(self, infile, outfile):\n",
    "        threading.Thread.__init__(self)\n",
    "        self.infile = infile\n",
    "        self.outfile = outfile\n",
    "        \n",
    "    def run(self):\n",
    "        f = zipfile.ZipFile(self.outfile, 'w', zipfile.ZIP_DEFLATED)\n",
    "        f.write(self.infile)\n",
    "        f.close()\n",
    "        print('Finished background zip of:', self.infile)\n",
    "        \n",
    "background = AsyncZip('what makes a good life.txt', 'imgs.zip')\n",
    "background.start()\n",
    "print('The main program continues to run in foreground.')\n",
    "\n",
    "background.join()    # Wait for the background task to finish\n",
    "print('Main program waited until background was done.')"
   ]
  },
  {
   "cell_type": "markdown",
   "id": "f6efcdbf-e4b2-4369-866c-0c419ba6ac8d",
   "metadata": {},
   "source": [
    "The principal challenge of multi-threaded applications is coordinating threads that share data or other resources. To that end, the threading module provides a number of synchronization primitives including locks, events, condition variables, and semaphores.\n",
    "\n",
    "While those tools are powerful, minor design errors can result in problems that are difficult to reproduce. So, the preferred approach to task coordination is to concentrate all access to a resource in a single thread and then use the [`queue`](https://docs.python.org/3/library/queue.html#module-queue) module to feed that thread with requests from other threads. Applications using [`Queue`](https://docs.python.org/3/library/queue.html#queue.Queue) objects for inter-thread communication and coordination are easier to design, more readable, and more reliable.\n",
    "\n",
    "> 多线程应用程序的主要挑战是协调共享数据或其他资源的线程。为此，线程模块提供了许多同步原语，包括锁、事件、条件变量和信号灯。\n",
    ">\n",
    "> 虽然这些工具很强大，但微小的设计错误也会导致难以重现的问题。因此，任务协调的首选方法是将对资源的所有访问集中在一个线程中，然后使用 [`queue`](https://docs.python.org/3/library/queue.html#module-queue) 模块将其他线程的请求反馈给该线程。使用[`Queue`](https://docs.python.org/3/library/queue.html#queue.Queue) 对象进行线程间通信和协调的应用程序更容易设计，更可读，也更可靠。"
   ]
  },
  {
   "cell_type": "markdown",
   "id": "465fea95-04d4-4de2-a41b-fd32796c3be6",
   "metadata": {},
   "source": [
    "## 11.5. Logging"
   ]
  },
  {
   "cell_type": "markdown",
   "id": "9bb82249-1bee-48a0-bc6a-2bb90bc4ba15",
   "metadata": {},
   "source": [
    "The [`logging`](https://docs.python.org/3/library/logging.html#module-logging) module offers a full featured and flexible logging system. At its simplest, log messages are sent to a file or to `sys.stderr`:\n",
    "\n",
    "> [`logging`](https://docs.python.org/3/library/logging.html#module-logging) 模块提供了一个功能齐全且灵活的日志系统。最简单的是，日志信息被发送到一个文件或`sys.stderr`："
   ]
  },
  {
   "cell_type": "code",
   "execution_count": 12,
   "id": "bdde2725-29d2-42c5-bfac-f4d4f139e3bc",
   "metadata": {},
   "outputs": [
    {
     "name": "stderr",
     "output_type": "stream",
     "text": [
      "WARNING:root:Warning:config file server.conf not found\n",
      "ERROR:root:Error occurred\n",
      "CRITICAL:root:Critical error -- shutting down\n"
     ]
    }
   ],
   "source": [
    "import logging\n",
    "logging.debug('Debugging information')\n",
    "logging.info('Informational message')\n",
    "logging.warning('Warning:config file %s not found', 'server.conf')\n",
    "logging.error('Error occurred')\n",
    "logging.critical('Critical error -- shutting down')"
   ]
  },
  {
   "cell_type": "markdown",
   "id": "71e57919-0755-4b21-a012-4f48cfef4e3e",
   "metadata": {},
   "source": [
    "By default, informational and debugging messages are suppressed and the output is sent to standard error. Other output options include routing messages through email, datagrams, sockets, or to an HTTP Server. New filters can select different routing based on message priority: `DEBUG`, `INFO`, `WARNING`, `ERROR`, and `CRITICAL`.\n",
    "\n",
    "The logging system can be configured directly from Python or can be loaded from a user editable configuration file for customized logging without altering the application.\n",
    "\n",
    "> 默认情况下，信息和调试信息被压制，输出被发送到标准错误。其他输出选项包括通过电子邮件、数据报、套接字或HTTP服务器来路由消息。新的过滤器可以根据消息的优先级选择不同的路由：`DEBUG`、`INFO`、`WARNING`、`ERROR`和`CRITICAL`。\n",
    ">\n",
    "> 日志系统可以直接从Python中配置，也可以从用户可编辑的配置文件中加载，以便在不改变应用程序的情况下定制日志。"
   ]
  },
  {
   "cell_type": "markdown",
   "id": "e84d73ec-0ad1-4fcf-9b31-5914bb666ed2",
   "metadata": {},
   "source": [
    "## 11.6. Weak References"
   ]
  },
  {
   "cell_type": "markdown",
   "id": "aa6ab9f9-d9e5-4db0-8b51-1c7d06b51deb",
   "metadata": {},
   "source": [
    "Python does automatic memory management (reference counting for most objects and [garbage collection](https://docs.python.org/3/glossary.html#term-garbage-collection) to eliminate cycles). The memory is freed shortly after the last reference to it has been eliminated.\n",
    "\n",
    "This approach works fine for most applications but occasionally there is a need to track objects only as long as they are being used by something else. Unfortunately, just tracking them creates a reference that makes them permanent. The [`weakref`](https://docs.python.org/3/library/weakref.html#module-weakref) module provides tools for tracking objects without creating a reference. When the object is no longer needed, it is automatically removed from a weakref table and a callback is triggered for weakref objects. Typical applications include caching objects that are expensive to create:\n",
    "\n",
    "> Python 做了自动的内存管理 (对于大多数对象的引用计数和 [垃圾收集](https://docs.python.org/3/glossary.html#term-garbage-collection) 来消除循环)。在对它的最后一个引用被消除后不久，内存就被释放。\n",
    ">\n",
    "> 这种方法对大多数应用来说都很有效，但偶尔也需要跟踪对象，只要它们被其他东西使用。不幸的是，仅仅跟踪它们就会产生一个引用，使它们成为永久性的。[`weakref`](https://docs.python.org/3/library/weakref.html#module-weakref)模块提供了追踪对象的工具，而不创建一个引用。当不再需要该对象时，它将自动从弱ref表中删除，并触发弱ref对象的回调。典型的应用包括缓存那些创建成本很高的对象："
   ]
  },
  {
   "cell_type": "code",
   "execution_count": 20,
   "id": "10d4e168-9fae-48b4-b4cb-d3b4d2de0a6b",
   "metadata": {},
   "outputs": [
    {
     "data": {
      "text/plain": [
       "10"
      ]
     },
     "execution_count": 20,
     "metadata": {},
     "output_type": "execute_result"
    }
   ],
   "source": [
    "import weakref, gc\n",
    "\n",
    "class A:\n",
    "    def __init__(self, value):\n",
    "        self.value = value\n",
    "    def __repr__(self):\n",
    "        return str(self.value)\n",
    "    \n",
    "a = A(10)    # create a reference\n",
    "d = weakref.WeakValueDictionary()\n",
    "d['primary'] = a    # does not create a reference\n",
    "d['primary']     # fetch the object if it is still alive"
   ]
  },
  {
   "cell_type": "code",
   "execution_count": 21,
   "id": "f1f7e386-d5fa-40f1-abe8-b9debc4e853e",
   "metadata": {},
   "outputs": [
    {
     "data": {
      "text/plain": [
       "3761"
      ]
     },
     "execution_count": 21,
     "metadata": {},
     "output_type": "execute_result"
    }
   ],
   "source": [
    "del a    # remove the one reference\n",
    "gc.collect()    # run garbage collection right away"
   ]
  },
  {
   "cell_type": "code",
   "execution_count": 22,
   "id": "32f31bcc-5b51-4994-b5be-95e8855ef916",
   "metadata": {},
   "outputs": [
    {
     "data": {
      "text/plain": [
       "10"
      ]
     },
     "execution_count": 22,
     "metadata": {},
     "output_type": "execute_result"
    }
   ],
   "source": [
    "d['primary']    # entry was automatically removed?"
   ]
  },
  {
   "cell_type": "markdown",
   "id": "a569785b-9978-444d-bbc9-5aa932a7908e",
   "metadata": {},
   "source": [
    "## 11.7. Tools for Working with Lists"
   ]
  },
  {
   "cell_type": "markdown",
   "id": "167860b6-1b02-48df-9fa5-90536727ce34",
   "metadata": {},
   "source": [
    "Many data structure needs can be met with the built-in list type. However, sometimes there is a need for alternative implementations with different performance trade-offs.\n",
    "\n",
    "The [`array`](https://docs.python.org/3/library/array.html#module-array) module provides an [`array()`](https://docs.python.org/3/library/array.html#array.array) object that is like a list that stores only homogeneous data and stores it more compactly. The following example shows an array of numbers stored as two byte unsigned binary numbers (typecode `\"H\"`) rather than the usual 16 bytes per entry for regular lists of Python int objects:\n",
    "\n",
    "> 许多数据结构需求可以通过内置的列表类型来满足。然而，有时需要采用不同性能权衡的替代实现。\n",
    ">\n",
    "> [`array`](https://docs.python.org/3/library/array.html#module-array)模块提供了一个[`array()`](https://docs.python.org/3/library/array.html#array.array)对象，它就像一个只存储同质数据的列表，并且存储得更紧凑。下面的例子显示了一个存储为两个字节的无符号二进制数的数组 (类型码`\"H\"`)，而不是通常Python int 对象的常规列表的每条16字节："
   ]
  },
  {
   "cell_type": "code",
   "execution_count": 2,
   "id": "3ef31459-502c-4216-b7d0-91b73090a93d",
   "metadata": {},
   "outputs": [
    {
     "data": {
      "text/plain": [
       "26932"
      ]
     },
     "execution_count": 2,
     "metadata": {},
     "output_type": "execute_result"
    }
   ],
   "source": [
    "from array import array\n",
    "\n",
    "a = array('H', [4000, 10, 700, 22222])\n",
    "sum(a)"
   ]
  },
  {
   "cell_type": "code",
   "execution_count": 3,
   "id": "636774da-853f-461e-b7a9-fcb395f9ca2f",
   "metadata": {},
   "outputs": [
    {
     "data": {
      "text/plain": [
       "array('H', [10, 700])"
      ]
     },
     "execution_count": 3,
     "metadata": {},
     "output_type": "execute_result"
    }
   ],
   "source": [
    "a[1:3]"
   ]
  },
  {
   "cell_type": "markdown",
   "id": "832f86e6-3ba5-47c4-a330-297ff8677f86",
   "metadata": {},
   "source": [
    "The [`collections`](https://docs.python.org/3/library/collections.html#module-collections) module provides a [`deque()`](https://docs.python.org/3/library/collections.html#collections.deque) object that is like a list with faster appends and pops from the left side but slower lookups in the middle. These objects are well suited for implementing queues and breadth first tree searches:\n",
    "\n",
    "> [`collections`](https://docs.python.org/3/library/collections.html#module-collections)模块提供了一个[`deque()`](https://docs.python.org/3/library/collections.html#collections.deque)对象，它就像一个列表，左边的追加和弹出速度较快，但中间的查找速度较慢。这些对象非常适用于实现队列和广度优先的树形搜索："
   ]
  },
  {
   "cell_type": "code",
   "execution_count": 4,
   "id": "06c210ae-378d-4ffb-8447-7103938f18e9",
   "metadata": {},
   "outputs": [
    {
     "name": "stdout",
     "output_type": "stream",
     "text": [
      "Handling task1\n"
     ]
    }
   ],
   "source": [
    "from collections import deque\n",
    "\n",
    "d = deque([\"task1\", \"task2\", \"task3\"])\n",
    "d.append(\"task4\")\n",
    "print(\"Handling\", d.popleft())"
   ]
  },
  {
   "cell_type": "code",
   "execution_count": 6,
   "id": "f62c80b8-afa5-4767-8c58-a37e5b2f1814",
   "metadata": {},
   "outputs": [],
   "source": [
    "unsearched = deque(d)    # d: starting_node ; a list?\n",
    "def breath_first_search(unsearched):\n",
    "    node = unsearched.popleft()\n",
    "    for m in gen_moves(node):\n",
    "        if is_goal(m):\n",
    "            return m\n",
    "        unsearched.append(m)"
   ]
  },
  {
   "cell_type": "markdown",
   "id": "32c45264-80c3-48f2-8a29-19de675febd2",
   "metadata": {},
   "source": [
    "In addition to alternative list implementations, the library also offers other tools such as the [`bisect`](https://docs.python.org/3/library/bisect.html#module-bisect) module with functions for manipulating sorted lists:\n",
    "\n",
    "> 除了替代的列表实现外，库还提供其他工具，如[`bisect`](https://docs.python.org/3/library/bisect.html#module-bisect)模块，该模块具有操作排序列表的功能："
   ]
  },
  {
   "cell_type": "code",
   "execution_count": 7,
   "id": "68d1b5a7-582d-4f53-b54b-681460f137cc",
   "metadata": {},
   "outputs": [
    {
     "data": {
      "text/plain": [
       "[(100, 'perl'), (200, 'tcl'), (300, 'ruby'), (400, 'lua'), (500, 'python')]"
      ]
     },
     "execution_count": 7,
     "metadata": {},
     "output_type": "execute_result"
    }
   ],
   "source": [
    "import bisect\n",
    "\n",
    "scores = [(100, 'perl'), (200, 'tcl'), (400, 'lua'), (500, 'python')]\n",
    "bisect.insort(scores, (300, 'ruby'))\n",
    "scores"
   ]
  },
  {
   "cell_type": "markdown",
   "id": "c161ddda-b7a3-42fa-8134-befda64b2c0a",
   "metadata": {},
   "source": [
    "The [`heapq`](https://docs.python.org/3/library/heapq.html#module-heapq) module provides functions for implementing heaps based on regular lists. The lowest valued entry is always kept at position zero. This is useful for applications which repeatedly access the smallest element but do not want to run a full list sort:\n",
    "\n",
    "> [`heapq`](https://docs.python.org/3/library/heapq.html#module-heapq) 模块提供了实现基于正则列表的堆的函数。最低值的条目总是被保留在零的位置。这对于反复访问最小元素但又不想运行完整的列表排序的应用是非常有用的："
   ]
  },
  {
   "cell_type": "code",
   "execution_count": 10,
   "id": "31db3d6d-a279-47e1-8848-491f3385bd52",
   "metadata": {},
   "outputs": [
    {
     "data": {
      "text/plain": [
       "[-5, 0, 1]"
      ]
     },
     "execution_count": 10,
     "metadata": {},
     "output_type": "execute_result"
    }
   ],
   "source": [
    "from heapq import heapify, heappop, heappush\n",
    "\n",
    "data = [1, 3, 5, 7, 9, 2, 4, 6, 8, 0]\n",
    "\n",
    "heapify(data)    # rearrange the list into heap order\n",
    "heappush(data, -5)    # add a new entry\n",
    "[heappop(data) for i in range(3)]    # fetch the three smallest entries"
   ]
  },
  {
   "cell_type": "markdown",
   "id": "81cae1f8-f960-4a55-a0c3-3babc304614a",
   "metadata": {},
   "source": [
    "## 11.8. Decimal Floating Point Arithmetic"
   ]
  },
  {
   "cell_type": "markdown",
   "id": "ecce5489-1e4b-4b60-86cf-bcca84c5003e",
   "metadata": {},
   "source": [
    "十进制浮点算术"
   ]
  },
  {
   "cell_type": "markdown",
   "id": "338def53-7f2f-43b3-b2de-12d874afdd09",
   "metadata": {},
   "source": [
    "The [`decimal`](https://docs.python.org/3/library/decimal.html#module-decimal) module offers a [`Decimal`](https://docs.python.org/3/library/decimal.html#decimal.Decimal) datatype for decimal floating point arithmetic. Compared to the built-in [`float`](https://docs.python.org/3/library/functions.html#float) implementation of binary floating point, the class is especially helpful for\n",
    "\n",
    "- financial applications and other uses which require exact decimal representation,\n",
    "- control over precision,\n",
    "- control over rounding to meet legal or regulatory requirements,\n",
    "- tracking of significant decimal places, or\n",
    "- applications where the user expects the results to match calculations done by hand.\n",
    "\n",
    "For example, calculating a 5% tax on a 70 cent phone charge gives different results in decimal floating point and binary floating point. The difference becomes significant if the results are rounded to the nearest cent:\n",
    "\n",
    "> [`decimal`](https://docs.python.org/3/library/decimal.html#module-decimal)模块提供了一个用于十进制浮点运算的[`Decimal`](https://docs.python.org/3/library/decimal.html#decimal.Decimal)数据类型。与内置的[`float`](https://docs.python.org/3/library/functions.html#float)二进制浮点的实现相比，该类特别有助于\n",
    ">\n",
    "> - 金融应用和其他需要精确十进制表示的用途。\n",
    "> - 对精度的控制。\n",
    "> - 控制四舍五入以满足法律或监管要求。\n",
    "> - 追踪重要的小数位，或\n",
    "> - 用户希望计算结果与手工计算相匹配的应用。\n",
    ">\n",
    "> 例如，计算70美分的电话费的5%的税，在十进制浮点和二进制浮点中得到不同的结果。如果将结果四舍五入到最接近的分值，那么这个差异就变得很明显："
   ]
  },
  {
   "cell_type": "code",
   "execution_count": 2,
   "id": "7d8fbed2-7898-44c8-9943-3731573c62c4",
   "metadata": {},
   "outputs": [
    {
     "data": {
      "text/plain": [
       "Decimal('0.74')"
      ]
     },
     "execution_count": 2,
     "metadata": {},
     "output_type": "execute_result"
    }
   ],
   "source": [
    "from decimal import *\n",
    "\n",
    "round(Decimal('0.70') * Decimal('1.05'), 2)"
   ]
  },
  {
   "cell_type": "code",
   "execution_count": 3,
   "id": "07a2a084-3226-4044-8d90-98843410cffe",
   "metadata": {},
   "outputs": [
    {
     "data": {
      "text/plain": [
       "0.73"
      ]
     },
     "execution_count": 3,
     "metadata": {},
     "output_type": "execute_result"
    }
   ],
   "source": [
    "round(.70 * 1.05, 2)"
   ]
  },
  {
   "cell_type": "markdown",
   "id": "0639fb4b-fd2c-4ee4-bc70-3eb9ce612f60",
   "metadata": {},
   "source": [
    "The [`Decimal`](https://docs.python.org/3/library/decimal.html#decimal.Decimal) result keeps a trailing zero, automatically inferring four place significance from multiplicands with two place significance. Decimal reproduces mathematics as done by hand and avoids issues that can arise when binary floating point cannot exactly represent decimal quantities.\n",
    "\n",
    "Exact representation enables the [`Decimal`](https://docs.python.org/3/library/decimal.html#decimal.Decimal) class to perform modulo calculations and equality tests that are unsuitable for binary floating point:\n",
    "\n",
    "> [`Decimal`](https://docs.python.org/3/library/decimal.html#decimal.Decimal)的结果保留一个尾部的零，自动推断出四位数的重要性，而乘数的重要性为两位数。十进制再现了手工操作的数学，避免了二进制浮点不能精确表示十进制数量时可能出现的问题。\n",
    ">\n",
    "> 准确表示使[`Decimal`](https://docs.python.org/3/library/decimal.html#decimal.Decimal)类能够进行二进制浮点不适合的模数计算和均等测试："
   ]
  },
  {
   "cell_type": "code",
   "execution_count": 4,
   "id": "057a688c-1831-4584-a7ea-d8af2908ca25",
   "metadata": {},
   "outputs": [
    {
     "data": {
      "text/plain": [
       "Decimal('0.00')"
      ]
     },
     "execution_count": 4,
     "metadata": {},
     "output_type": "execute_result"
    }
   ],
   "source": [
    "Decimal('1.00') % Decimal('.10')"
   ]
  },
  {
   "cell_type": "code",
   "execution_count": 5,
   "id": "f650d386-fb0d-4518-b99f-f101445c5e3d",
   "metadata": {},
   "outputs": [
    {
     "data": {
      "text/plain": [
       "0.09999999999999995"
      ]
     },
     "execution_count": 5,
     "metadata": {},
     "output_type": "execute_result"
    }
   ],
   "source": [
    "1.00 % 0.10"
   ]
  },
  {
   "cell_type": "code",
   "execution_count": 7,
   "id": "c8150251-a3cb-415d-b32c-368bc057010f",
   "metadata": {},
   "outputs": [
    {
     "data": {
      "text/plain": [
       "True"
      ]
     },
     "execution_count": 7,
     "metadata": {},
     "output_type": "execute_result"
    }
   ],
   "source": [
    "sum([Decimal('0.1')] * 10) == Decimal('1.0')"
   ]
  },
  {
   "cell_type": "code",
   "execution_count": 8,
   "id": "b72ec8b7-53f5-442c-9e8d-6b8595f463db",
   "metadata": {},
   "outputs": [
    {
     "data": {
      "text/plain": [
       "False"
      ]
     },
     "execution_count": 8,
     "metadata": {},
     "output_type": "execute_result"
    }
   ],
   "source": [
    "sum([0.1]*10) == 1.0"
   ]
  },
  {
   "cell_type": "markdown",
   "id": "1ffc8cfb-067f-4a87-919c-01b08de38d4a",
   "metadata": {},
   "source": [
    "The [`decimal`](https://docs.python.org/3/library/decimal.html#module-decimal) module provides arithmetic with as much precision as needed:\n",
    "\n",
    "> [`decimal`](https://docs.python.org/3/library/decimal.html#module-decimal)模块提供所需精度的算术："
   ]
  },
  {
   "cell_type": "code",
   "execution_count": 9,
   "id": "8392b13c-de8c-4068-a9d9-2b7a3130f626",
   "metadata": {},
   "outputs": [
    {
     "data": {
      "text/plain": [
       "Decimal('0.142857142857142857142857142857142857')"
      ]
     },
     "execution_count": 9,
     "metadata": {},
     "output_type": "execute_result"
    }
   ],
   "source": [
    "getcontext().prec = 36\n",
    "Decimal(1) / Decimal(7)"
   ]
  }
 ],
 "metadata": {
  "kernelspec": {
   "display_name": "Python 3 (ipykernel)",
   "language": "python",
   "name": "python3"
  },
  "language_info": {
   "codemirror_mode": {
    "name": "ipython",
    "version": 3
   },
   "file_extension": ".py",
   "mimetype": "text/x-python",
   "name": "python",
   "nbconvert_exporter": "python",
   "pygments_lexer": "ipython3",
   "version": "3.10.4"
  }
 },
 "nbformat": 4,
 "nbformat_minor": 5
}
