{
 "cells": [
  {
   "cell_type": "code",
   "execution_count": 1,
   "id": "ee8c5197-090b-4080-b940-09cda20a950d",
   "metadata": {},
   "outputs": [],
   "source": [
    "from IPython.core.interactiveshell import InteractiveShell\n",
    "InteractiveShell.ast_node_interactivity = \"all\""
   ]
  },
  {
   "cell_type": "markdown",
   "id": "56447671-9949-429c-bf5a-677739335f8c",
   "metadata": {},
   "source": [
    "If you quit from the Python interpreter and enter it again, the definitions you have made (functions and variables) are lost. Therefore, if you want to write a somewhat longer program, you are better off using a text editor to prepare the input for the interpreter and running it with that file as input instead. This is known as creating a *script*. As your program gets longer, you may want to split it into several files for easier maintenance. You may also want to use a handy function that you’ve written in several programs without copying its definition into each program.\n",
    "\n",
    "> 如果你从 Python 解释器中退出并再次进入，你所做的定义 (函数和变量) 就会丢失。因此，如果你想写一个稍长的程序，你最好用一个文本编辑器为解释器准备输入，然后用该文件作为输入运行它。这就是所谓的创建一个*脚本*。随着你的程序越来越长，你可能想把它分成几个文件，以方便维护。你也可能想在几个程序中使用你写的一个方便的函数，而不用把它的定义复制到每个程序中。"
   ]
  },
  {
   "cell_type": "markdown",
   "id": "5a654904-a92c-478a-88b9-cfdbe78aa8a0",
   "metadata": {},
   "source": [
    "To support this, Python has a way to put definitions in a file and use them in a script or in an interactive instance of the interpreter. Such a file is called a *module*; definitions from a module can be *imported* into other modules or into the *main* module (the collection of variables that you have access to in a script executed at the top level and in calculator mode).\n",
    "\n",
    "> 为了支持这一点，Python 有一种方法可以把定义放在一个文件中，并在脚本或解释器的交互实例中使用它们。这样的文件被称为*模块*；模块中的定义可以被*导入*其他模块或*主*模块 (在顶层和计算器模式下执行的脚本中，你可以访问的变量集合) 。"
   ]
  },
  {
   "cell_type": "markdown",
   "id": "6c401b3a-9a15-4538-8e53-06d437d3919b",
   "metadata": {},
   "source": [
    "A module is a file containing Python definitions and statements. The file name is the module name with the suffix `.py` appended. Within a module, the module’s name (as a string) is available as the value of the global variable `__name__`. For instance, use your favorite text editor to create a file called `fibo.py` in the current directory with the following contents:\n",
    "\n",
    "> 一个模块是一个包含 Python 定义和语句的文件。文件名是带有后缀 `.py`的模块名。在一个模块中，模块的名称 (作为一个字符串) 可以作为全局变量 `__name__` 的值。例如，使用你喜欢的文本编辑器在当前目录下创建一个名为`fibo.py`的文件，内容如下："
   ]
  },
  {
   "cell_type": "raw",
   "id": "b27e4ebf-6173-452f-85fb-bcdb037efdbd",
   "metadata": {},
   "source": [
    "# Fibonacci numbers module\n",
    "\n",
    "def fib(n):    # write Fibonacci series up to n\n",
    "    a, b = 0, 1\n",
    "    while a < n:\n",
    "        print(a, end=' ')\n",
    "        a, b = b, a+b\n",
    "    print()\n",
    "\n",
    "def fib2(n):   # return Fibonacci series up to n\n",
    "    result = []\n",
    "    a, b = 0, 1\n",
    "    while a < n:\n",
    "        result.append(a)\n",
    "        a, b = b, a+b\n",
    "    return result"
   ]
  },
  {
   "cell_type": "code",
   "execution_count": 2,
   "id": "82acd225-a98d-4a78-ae3a-9add10490760",
   "metadata": {},
   "outputs": [],
   "source": [
    "import fibo"
   ]
  },
  {
   "cell_type": "markdown",
   "id": "369184ca-e455-442e-853c-2317a1345866",
   "metadata": {},
   "source": [
    "This does not enter the names of the functions defined in `fibo` directly in the current symbol table; it only enters the module name `fibo` there. Using the module name you can access the functions:\n",
    "\n",
    "> 这不会在当前符号表中直接输入`fibo`中定义的函数名称；它只输入模块名称`fibo`。使用模块名称，你可以访问这些函数："
   ]
  },
  {
   "cell_type": "code",
   "execution_count": 3,
   "id": "795fcc38-ceab-47f9-9ac0-6ee1edc9c83d",
   "metadata": {},
   "outputs": [
    {
     "name": "stdout",
     "output_type": "stream",
     "text": [
      "0 1 1 2 3 5 8 13 21 34 55 89 144 233 377 610 987 \n"
     ]
    },
    {
     "data": {
      "text/plain": [
       "[0, 1, 1, 2, 3, 5, 8, 13, 21, 34, 55, 89]"
      ]
     },
     "execution_count": 3,
     "metadata": {},
     "output_type": "execute_result"
    },
    {
     "data": {
      "text/plain": [
       "'fibo'"
      ]
     },
     "execution_count": 3,
     "metadata": {},
     "output_type": "execute_result"
    }
   ],
   "source": [
    "fibo.fib(1000)\n",
    "\n",
    "fibo.fib2(100)\n",
    "\n",
    "fibo.__name__"
   ]
  },
  {
   "cell_type": "markdown",
   "id": "9b881b7d-3cd6-418a-9e40-a033609674e2",
   "metadata": {},
   "source": [
    "If you intend to use a function often you can assign it to a local name:\n",
    "\n",
    "> 如果你打算经常使用一个函数，你可以把它指定为一个本地名称："
   ]
  },
  {
   "cell_type": "code",
   "execution_count": 4,
   "id": "d23d5012-d33a-44f0-bb1d-02646b9bd7d2",
   "metadata": {},
   "outputs": [
    {
     "name": "stdout",
     "output_type": "stream",
     "text": [
      "0 1 1 2 3 5 8 13 21 34 55 89 144 233 377 \n"
     ]
    }
   ],
   "source": [
    "fib = fibo.fib\n",
    "fib(500)"
   ]
  },
  {
   "cell_type": "markdown",
   "id": "55210ea4-30d1-460b-9997-fc09147a3af7",
   "metadata": {},
   "source": [
    "## 6.1. More on Modules"
   ]
  },
  {
   "cell_type": "markdown",
   "id": "78f034fd-71c9-454e-84d3-d0359eb51c91",
   "metadata": {},
   "source": [
    "A module can contain executable statements as well as function definitions. These statements are intended to initialize the module. They are executed only the *first* time the module name is encountered in an import statement. [1] (They are also run if the file is executed as a script.)\n",
    "\n",
    "> 一个模块可以包含可执行语句以及函数定义。这些语句是用来初始化模块的。它们只在导入语句中第一次遇到模块名称时被执行。[1] (如果文件被作为脚本执行，它们也会被运行。)"
   ]
  },
  {
   "cell_type": "markdown",
   "id": "c0b66854-b0fb-4aa0-bc70-fae5e73f1f2f",
   "metadata": {},
   "source": [
    "Each module has its own private symbol table, which is used as the global symbol table by all functions defined in the module. Thus, the author of a module can use global variables in the module without worrying about accidental clashes with a user’s global variables. On the other hand, if you know what you are doing you can touch a module’s global variables with the same notation used to refer to its functions, `modname.itemname`.\n",
    "\n",
    "> 每个模块都有自己的私有符号表，它被模块中定义的所有函数作为全局符号表使用。因此，模块的作者可以在模块中使用全局变量，而不必担心与用户的全局变量发生意外冲突。另一方面，如果你知道你在做什么，你可以用指代模块函数的相同符号，`modname.itemname`，来触达模块的全局变量。"
   ]
  },
  {
   "cell_type": "markdown",
   "id": "d7d0a2ae-7344-4f3c-9a80-2585ed68e4e1",
   "metadata": {},
   "source": [
    "Modules can import other modules. It is customary but not required to place all [`import`](https://docs.python.org/3/reference/simple_stmts.html#import) statements at the beginning of a module (or script, for that matter). The imported module names are placed in the importing module’s global symbol table.\n",
    "\n",
    "> 模块可以导入其他模块。习惯上，但不是必须把所有[`import`](https://docs.python.org/3/reference/simple_stmts.html#import)语句放在模块（或脚本）的开头。被导入的模块名称被放在导入模块的全局符号表中。"
   ]
  },
  {
   "cell_type": "markdown",
   "id": "b7984584-106c-4390-aacd-f5c2f841b9e1",
   "metadata": {},
   "source": [
    "There is a variant of the [`import`](https://docs.python.org/3/reference/simple_stmts.html#import) statement that imports names from a module directly into the importing module’s symbol table. For example:\n",
    "\n",
    "> 有一个 import 语句的变体，它从一个模块中直接导入名称到导入模块的符号表中。比如说："
   ]
  },
  {
   "cell_type": "code",
   "execution_count": 5,
   "id": "a36aac25-b44d-471a-8a89-2c8f2c62617b",
   "metadata": {},
   "outputs": [
    {
     "name": "stdout",
     "output_type": "stream",
     "text": [
      "0 1 1 2 3 5 8 13 21 34 55 89 144 233 377 \n"
     ]
    }
   ],
   "source": [
    "from fibo import fib, fib2\n",
    "fib(500)"
   ]
  },
  {
   "cell_type": "markdown",
   "id": "6b1a4485-12d2-48bc-a2b5-763acca7feb0",
   "metadata": {},
   "source": [
    "This does not introduce the module name from which the imports are taken in the local symbol table (so in the example, `fibo` is not defined).\n",
    "\n",
    "> 这并没有在本地符号表中引入导入的模块名称（所以在这个例子中，`fibo`没有被定义）。"
   ]
  },
  {
   "cell_type": "markdown",
   "id": "fb91dd39-9af4-4991-9572-a9e9eb580b76",
   "metadata": {},
   "source": [
    "There is even a variant to import all names that a module defines:\n",
    "\n",
    "> 甚至还有一种变体，可以导入一个模块定义的所有名称："
   ]
  },
  {
   "cell_type": "code",
   "execution_count": 6,
   "id": "9dd13f84-ba4e-4052-bbd0-ede6f726dac3",
   "metadata": {},
   "outputs": [
    {
     "name": "stdout",
     "output_type": "stream",
     "text": [
      "0 1 1 2 3 5 8 13 21 34 55 89 144 233 377 \n"
     ]
    }
   ],
   "source": [
    "from fibo import *\n",
    "fib(500)"
   ]
  },
  {
   "cell_type": "markdown",
   "id": "d5079d69-8034-4175-aa7a-63492e4d2c6b",
   "metadata": {},
   "source": [
    "This imports all names except those beginning with an underscore (`_`). In most cases Python programmers do not use this facility since it introduces an unknown set of names into the interpreter, possibly hiding some things you have already defined.\n",
    "\n",
    "> 这将导入所有的名字，除了那些以下划线(_)开头的名字。在大多数情况下，Python 程序员不会使用这个工具，因为它在解释器中引入了一组未知的名字，可能会隐藏一些你已经定义好的东西。"
   ]
  },
  {
   "cell_type": "markdown",
   "id": "19f8afcf-044e-4dd8-93c3-6ac54e01031d",
   "metadata": {},
   "source": [
    "Note that in general the practice of importing `*` from a module or package is frowned upon, since it often causes poorly readable code. However, it is okay to use it to save typing in interactive sessions.\n",
    "\n",
    "> 请注意，一般来说，从模块或包中导入 `*`的做法是不受欢迎的，因为它经常导致代码的可读性差。然而，在交互式会话中使用它来节省打字是可以的。"
   ]
  },
  {
   "cell_type": "markdown",
   "id": "8134f62a-e657-4988-8088-3f089941008f",
   "metadata": {},
   "source": [
    "If the module name is followed by `as`, then the name following `as` is bound directly to the imported module.\n",
    "\n",
    "> 如果模块名称后面是`as`，那么`as`后面的名称将直接与被导入的模块绑定。"
   ]
  },
  {
   "cell_type": "code",
   "execution_count": 7,
   "id": "771f64de-001d-4b06-a38b-06ac4ab98d8c",
   "metadata": {},
   "outputs": [
    {
     "name": "stdout",
     "output_type": "stream",
     "text": [
      "0 1 1 2 3 5 8 13 21 34 55 89 144 233 377 \n"
     ]
    }
   ],
   "source": [
    "import fibo as fib\n",
    "fib.fib(500)"
   ]
  },
  {
   "cell_type": "markdown",
   "id": "18fa6c6d-c2ce-491c-83d4-af3788d661ef",
   "metadata": {},
   "source": [
    "This is effectively importing the module in the same way that `import fibo` will do, with the only difference of it being available as `fib`.\n",
    "\n",
    "> 这实际上是与以`import fibo`的方式导入该模块是同样的方法，唯一的区别是它可以作为 fib 使用。"
   ]
  },
  {
   "cell_type": "markdown",
   "id": "8c4d2dc8-d535-4f43-a18e-89c63b53a7e9",
   "metadata": {},
   "source": [
    "It can also be used when utilising [`from`](https://docs.python.org/3/reference/simple_stmts.html#from) with similar effects:\n",
    "\n",
    "> 它也可以在利用[`from`](https://docs.python.org/3/reference/simple_stmts.html#from)时使用，效果类似："
   ]
  },
  {
   "cell_type": "code",
   "execution_count": 8,
   "id": "57691f39-7d91-4bf3-8698-814a9a7a2488",
   "metadata": {},
   "outputs": [
    {
     "name": "stdout",
     "output_type": "stream",
     "text": [
      "0 1 1 2 3 5 8 13 21 34 55 89 144 233 377 \n"
     ]
    }
   ],
   "source": [
    "from fibo import fib as fibonacci\n",
    "fibonacci(500)"
   ]
  },
  {
   "cell_type": "markdown",
   "id": "5992b01c-5643-4b19-8a3a-1237dc365578",
   "metadata": {},
   "source": [
    "**Note**: For efficiency reasons, each module is only imported once per interpreter session. Therefore, if you change your modules, you must restart the interpreter – or, if it’s just one module you want to test interactively, use [`importlib.reload()`](https://docs.python.org/3/library/importlib.html#importlib.reload), e.g. `import importlib; importlib.reload(modulename)`.\n",
    "\n",
    "> **注意**： 由于效率原因，每个模块在每个解释器会话中只被导入一次。因此，如果你改变了你的模块，你必须重新启动解释器--或者，如果只是一个你想交互测试的模块，使用 [`importlib.reload()`](https://docs.python.org/3/library/importlib.html#importlib.reload)，例如，`importlib`; `importlib.reload(modulename)`。"
   ]
  },
  {
   "cell_type": "markdown",
   "id": "26079a07-ac91-4bb5-a196-241e2b340676",
   "metadata": {},
   "source": [
    "### 6.1.1. Executing modules as scripts"
   ]
  },
  {
   "cell_type": "markdown",
   "id": "42fc6e91-60a8-44bb-b638-35ba903134a9",
   "metadata": {},
   "source": [
    "When you run a Python module with\n",
    "\n",
    "> 当你运行一个Python模块，用"
   ]
  },
  {
   "cell_type": "raw",
   "id": "bc73ba6a-acda-4727-adb9-231d3ba52c09",
   "metadata": {},
   "source": [
    "python fibo.py <arguments>"
   ]
  },
  {
   "cell_type": "markdown",
   "id": "5e5f75f4-a994-4c37-889b-2ca1e12c6fa4",
   "metadata": {},
   "source": [
    "the code in the module will be executed, just as if you imported it, but with the `__name__` set to `\"__main__\"`. That means that by adding this code at the end of your module:\n",
    "\n",
    "> 模块中的代码将被执行，就像你导入它一样，但`__name__`被设置为`\"__main__\"`。这意味着，通过在你的模块末尾添加这段代码："
   ]
  },
  {
   "cell_type": "raw",
   "id": "01a29ca4-ccec-45da-9a5a-e9734f0fe250",
   "metadata": {},
   "source": [
    "if __name__ == \"__main__\":\n",
    "    import sys\n",
    "    fib(int(sys.argv[1]))"
   ]
  },
  {
   "cell_type": "markdown",
   "id": "096b1eb1-e91f-488e-84cc-fd8cce4fff3c",
   "metadata": {},
   "source": [
    "you can make the file usable as a script as well as an importable module, because the code that parses the command line only runs if the module is executed as the “main” file:\n",
    "\n",
    "> 你可以使该文件既可作为脚本使用，也可作为可导入的模块使用，因为只有当模块作为 \"main\"文件执行时，解析命令行的代码才会运行："
   ]
  },
  {
   "cell_type": "raw",
   "id": "5191bae2-62db-4f4a-9378-19c7fb158b22",
   "metadata": {},
   "source": [
    "python fibo.py 50"
   ]
  },
  {
   "cell_type": "markdown",
   "id": "eb5b86fe-1dbe-4550-892a-b1ffdb4ad049",
   "metadata": {},
   "source": [
    "If the module is imported, the code is not run:\n",
    "\n",
    "> 如果该模块被导入，代码就不会被运行："
   ]
  },
  {
   "cell_type": "code",
   "execution_count": 9,
   "id": "b923c589-716a-40ae-a868-d192be9d8900",
   "metadata": {},
   "outputs": [],
   "source": [
    "import fibo"
   ]
  },
  {
   "cell_type": "markdown",
   "id": "013e936d-8c12-4774-9148-20c8c7110779",
   "metadata": {},
   "source": [
    "This is often used either to provide a convenient user interface to a module, or for testing purposes (running the module as a script executes a test suite).\n",
    "\n",
    "> 这通常用于为模块提供一个方便的用户界面，或用于测试目的（将模块作为脚本运行，执行一个测试套件）。"
   ]
  },
  {
   "cell_type": "markdown",
   "id": "e23f47aa-b0a9-4cf3-8498-6c5a9c5afe9c",
   "metadata": {},
   "source": [
    "### 6.1.2. The Module Search Path"
   ]
  },
  {
   "cell_type": "markdown",
   "id": "d3e2cb33-5960-4c01-bfe2-d5d122e4456c",
   "metadata": {},
   "source": [
    "When a module named `spam` is imported, the interpreter first searches for a built-in module with that name. If not found, it then searches for a file named `spam.py` in a list of directories given by the variable [`sys.path`](https://docs.python.org/3/library/sys.html#sys.path). [`sys.path`](https://docs.python.org/3/library/sys.html#sys.path) is initialized from these locations:\n",
    "\n",
    "> 当一个名为`spam`的模块被导入时，解释器首先搜索具有该名称的内置模块。如果没有找到，它就在变量 [`sys.path`](https://docs.python.org/3/library/sys.html#sys.path)给出的目录列表中搜索名为`spam.py`的文件， [`sys.path`](https://docs.python.org/3/library/sys.html#sys.path)从这些位置初始化："
   ]
  },
  {
   "cell_type": "markdown",
   "id": "b352d95e-eb99-4875-802a-5ee9faa08fa4",
   "metadata": {},
   "source": [
    "- The directory containing the input script (or the current directory when no file is specified).\n",
    "- [`PYTHONPATH`](https://docs.python.org/3/using/cmdline.html#envvar-PYTHONPATH) (a list of directory names, with the same syntax as the shell variable `PATH`).\n",
    "- The installation-dependent default (by convention including a `site-packages` directory, handled by the [`site`](https://docs.python.org/3/library/site.html#module-site) module).\n",
    "\n",
    "> - 包含输入脚本的目录（或者在没有指定文件的情况下为当前目录）。\n",
    "> - [`PYTHONPATH`](https://docs.python.org/3/using/cmdline.html#envvar-PYTHONPATH)（一个目录名称的列表，与shell变量`PATH`的语法相同）。\n",
    "> - 依赖于安装的默认值（按照惯例包括一个`site-packages`目录，由[`site`](https://docs.python.org/3/library/site.html#module-site)模块处理）。"
   ]
  },
  {
   "cell_type": "markdown",
   "id": "9fad3c07-d1b8-406a-9155-7109b979559b",
   "metadata": {},
   "source": [
    "**Note**: On file systems which support symlinks, the directory containing the input script is calculated after the symlink is followed. In other words the directory containing the symlink is **not** added to the module search path.\n",
    "\n",
    "> **注意**：在支持符号链接的文件系统上，包含输入脚本的目录是在符号链接之后计算的。换句话说，包含符号链接的目录不会被添加到模块搜索路径中。"
   ]
  },
  {
   "cell_type": "markdown",
   "id": "55f7bf66-ee43-46f2-9c1a-0b1554c536cf",
   "metadata": {},
   "source": [
    "After initialization, Python programs can modify [`sys.path`](https://docs.python.org/3/library/sys.html#sys.path). The directory containing the script being run is placed at the beginning of the search path, ahead of the standard library path. This means that scripts in that directory will be loaded instead of modules of the same name in the library directory. This is an error unless the replacement is intended. See section [Standard Modules](https://docs.python.org/3/tutorial/modules.html#tut-standardmodules) for more information.\n",
    "\n",
    "> 初始化后，Python程序可以修改[`sys.path`](https://docs.python.org/3/library/sys.html#sys.path)。包含正在运行的脚本的目录被放置在搜索路径的开头，在标准库路径之前。这意味着该目录下的脚本将被加载，而不是库目录下的同名模块。这是一个错误，除非是有意进行替换。更多信息请参见[标准模块](https://docs.python.org/3/tutorial/modules.html#tut-standardmodules)一节。"
   ]
  },
  {
   "cell_type": "markdown",
   "id": "0e857556-e6a6-4f97-be9b-d2b38529bd2b",
   "metadata": {},
   "source": [
    "### 6.1.3. “Compiled” Python files"
   ]
  },
  {
   "cell_type": "markdown",
   "id": "329922c0-5d3d-421c-9b6a-dd6bb9ae7a61",
   "metadata": {},
   "source": [
    "To speed up loading modules, Python caches the compiled version of each module in the `__pycache__` directory under the name `module.version.pyc`, where the version encodes the format of the compiled file; it generally contains the Python version number. For example, in CPython release 3.3 the compiled version of spam.py would be cached as `__pycache__/spam.cpython-33.pyc`. This naming convention allows compiled modules from different releases and different versions of Python to coexist.\n",
    "\n",
    "> 为了加快模块的加载速度，Python 将每个模块的编译版本缓存在 `__pycache__` 目录下，名称为 `module.version.pyc`，其中版本编码了编译文件的格式；它通常包含 Python 版本号。例如，在CPython 3.3版本中，spam.py的编译版本将被缓存为`__pycache__/spam.cpython-33.pyc`。这种命名方式允许不同发行本和不同版本的 Python 的编译模块共存。"
   ]
  },
  {
   "cell_type": "markdown",
   "id": "b021b996-43db-45ac-90a2-c5b5db73aff5",
   "metadata": {},
   "source": [
    "Python checks the modification date of the source against the compiled version to see if it’s out of date and needs to be recompiled. This is a completely automatic process. Also, the compiled modules are platform-independent, so the same library can be shared among systems with different architectures.\n",
    "\n",
    "> Python 将源码的修改日期与编译后的版本进行对照，看它是否已经过期，需要重新编译。这是一个完全自动的过程。另外，编译后的模块是独立于平台的，所以同一个库可以在不同架构的系统中共享。"
   ]
  },
  {
   "cell_type": "markdown",
   "id": "9849a3e4-758c-4119-93ec-7e8adeabe696",
   "metadata": {},
   "source": [
    "Python does not check the cache in two circumstances. First, it always recompiles and does not store the result for the module that’s loaded directly from the command line. Second, it does not check the cache if there is no source module. To support a non-source (compiled only) distribution, the compiled module must be in the source directory, and there must not be a source module.\n",
    "\n",
    "> Python 在两种情况下不检查缓存。首先，对于直接从命令行加载的模块，它总是重新编译，不存储结果。第二，如果没有源模块，它也不检查缓存。为了支持非源码（只编译）发行，编译的模块必须在源码目录下，而且不能有源码模块。"
   ]
  },
  {
   "cell_type": "markdown",
   "id": "b54fabc5-b354-4959-aff4-5805bc25c284",
   "metadata": {},
   "source": [
    "Some tips for experts:\n",
    "\n",
    "> 给专家的一些提示："
   ]
  },
  {
   "cell_type": "markdown",
   "id": "c9f0bbca-0d3b-45bc-92b3-b707529167fe",
   "metadata": {},
   "source": [
    "- You can use the [`-O`](https://docs.python.org/3/using/cmdline.html#cmdoption-O) or [`-OO`](https://docs.python.org/3/using/cmdline.html#cmdoption-OO) switches on the Python command to reduce the size of a compiled module. The `-O` switch removes assert statements, the `-OO` switch removes both assert statements and __doc__ strings. Since some programs may rely on having these available, you should only use this option if you know what you’re doing. “Optimized” modules have an `opt-` tag and are usually smaller. Future releases may change the effects of optimization.\n",
    "- A program doesn’t run any faster when it is read from a `.pyc` file than when it is read from a `.py` file; the only thing that’s faster about `.pyc` files is the speed with which they are loaded.\n",
    "- The module [`compileall`](https://docs.python.org/3/library/compileall.html#module-compileall) can create .pyc files for all modules in a directory.\n",
    "- There is more detail on this process, including a flow chart of the decisions, in [**PEP 3147**](https://www.python.org/dev/peps/pep-3147).\n",
    "\n",
    "> - 你可以在 Python 命令中使用 [`-O`](https://docs.python.org/3/using/cmdline.html#cmdoption-O) 或 [`-OO`](https://docs.python.org/3/using/cmdline.html#cmdoption-OO) 开关来减少编译后模块的大小。`-O`开关可以删除断言语句，`-OO`开关可以同时删除断言语句和 __doc__ 字符串。由于一些程序可能依赖于有这些东西，你应该只在你知道你在做什么的情况下使用这个选项。\"Optimized\"模块有一个`opt-`标签，通常比较小。未来的版本可能会改变优化的效果。\n",
    "> - 一个程序从`.pyc`文件读取时不会比从`.py`文件读取时运行得更快；`.pyc`文件唯一快的地方是它的加载速度。\n",
    "> - 模块 [`compileall`](https://docs.python.org/3/library/compileall.html#module-compileall) 可以为一个目录中的所有模块创建.pyc文件。\n",
    "> - 在 [**PEP 3147**](https://www.python.org/dev/peps/pep-3147) 中有更多关于这个过程的细节，包括决策的流程图。"
   ]
  },
  {
   "cell_type": "markdown",
   "id": "5e58a349-5f50-4596-86ae-fa7451a7181c",
   "metadata": {},
   "source": [
    "## 6.2. Standard Modules"
   ]
  },
  {
   "cell_type": "markdown",
   "id": "7f43d4b3-3a8e-4a84-b281-45a889df033d",
   "metadata": {},
   "source": [
    "Python comes with a library of standard modules, described in a separate document, the Python Library Reference (“Library Reference” hereafter). Some modules are built into the interpreter; these provide access to operations that are not part of the core of the language but are nevertheless built in, either for efficiency or to provide access to operating system primitives such as system calls. The set of such modules is a configuration option which also depends on the underlying platform. For example, the [`winreg`](https://docs.python.org/3/library/winreg.html#module-winreg) module is only provided on Windows systems. One particular module deserves some attention: [`sys`](https://docs.python.org/3/library/sys.html#module-sys), which is built into every Python interpreter. The variables `sys.ps1` and `sys.ps2` define the strings used as primary and secondary prompts:\n",
    "\n",
    "> Python 有一个标准模块库，在另外一个文件中描述，即 Python Library Reference (以下简称 \"Library Reference\")。有些模块是内置于解释器中的；这些模块提供了对不属于语言核心部分的操作的访问，但还是内置于其中，或者是为了提高效率，或者是为了提供对操作系统基元的访问，如系统调用。这类模块的集合是一个配置选项，也取决于底层平台。例如，[`winreg`](https://docs.python.org/3/library/winreg.html#module-winreg)模块只在Windows系统上提供。有一个特别的模块值得注意。[`sys`](https://docs.python.org/3/library/sys.html#module-sys)，它被内置于每个Python解释器中。变量`sys.ps1`和`sys.ps2`定义了作为主提示和次提示的字符串："
   ]
  },
  {
   "cell_type": "code",
   "execution_count": 10,
   "id": "1fde24b0-cc7c-48d1-8219-290696cb363b",
   "metadata": {},
   "outputs": [
    {
     "data": {
      "text/plain": [
       "'In : '"
      ]
     },
     "execution_count": 10,
     "metadata": {},
     "output_type": "execute_result"
    },
    {
     "data": {
      "text/plain": [
       "'...: '"
      ]
     },
     "execution_count": 10,
     "metadata": {},
     "output_type": "execute_result"
    }
   ],
   "source": [
    "import sys\n",
    "sys.ps1\n",
    "\n",
    "sys.ps2\n"
   ]
  },
  {
   "cell_type": "code",
   "execution_count": 12,
   "id": "3b3ed71e-9626-4ac1-84fb-9c74b0530cbe",
   "metadata": {},
   "outputs": [
    {
     "data": {
      "text/plain": [
       "'C>'"
      ]
     },
     "execution_count": 12,
     "metadata": {},
     "output_type": "execute_result"
    }
   ],
   "source": [
    "sys.ps1 = 'C>'\n",
    "sys.ps1"
   ]
  },
  {
   "cell_type": "code",
   "execution_count": 13,
   "id": "c81d39f4-bd4b-4243-8409-a0b5d7a79794",
   "metadata": {},
   "outputs": [
    {
     "name": "stdout",
     "output_type": "stream",
     "text": [
      "Yuck!\n"
     ]
    }
   ],
   "source": [
    "print('Yuck!')"
   ]
  },
  {
   "cell_type": "markdown",
   "id": "0f0fb0e4-0391-49fb-bf3e-8002d0fe05e5",
   "metadata": {},
   "source": [
    "These two variables are only defined if the interpreter is in interactive mode.\n",
    "\n",
    "> 这两个变量只有在解释器处于交互式模式下才会被定义。"
   ]
  },
  {
   "cell_type": "markdown",
   "id": "73d2dcc7-bedd-46e8-b9cc-f9b4cf432b3a",
   "metadata": {},
   "source": [
    "The variable `sys.path` is a list of strings that determines the interpreter’s search path for modules. It is initialized to a default path taken from the environment variable [`PYTHONPATH`](https://docs.python.org/3/using/cmdline.html#envvar-PYTHONPATH), or from a built-in default if [`PYTHONPATH`](https://docs.python.org/3/using/cmdline.html#envvar-PYTHONPATH) is not set. You can modify it using standard list operations:\n",
    "\n",
    "> 变量`sys.path`是一个字符串列表，决定了解释器搜索模块的路径。它被初始化为环境变量[`PYTHONPATH`](https://docs.python.org/3/using/cmdline.html#envvar-PYTHONPATH)中的默认路径，如果没有设置[`PYTHONPATH`](https://docs.python.org/3/using/cmdline.html#envvar-PYTHONPATH)，则为内置默认路径。你可以使用标准的列表操作来修改它："
   ]
  },
  {
   "cell_type": "code",
   "execution_count": 14,
   "id": "9bae8f63-3a53-4113-a002-5e6a479a0cfe",
   "metadata": {},
   "outputs": [
    {
     "data": {
      "text/plain": [
       "['D:\\\\GitHub\\\\apply-Python-by-Python-tutorial\\\\The Python Tutorial',\n",
       " 'C:\\\\Users\\\\Administrator\\\\AppData\\\\Local\\\\Programs\\\\Python\\\\Python310\\\\python310.zip',\n",
       " 'C:\\\\Users\\\\Administrator\\\\AppData\\\\Local\\\\Programs\\\\Python\\\\Python310\\\\DLLs',\n",
       " 'C:\\\\Users\\\\Administrator\\\\AppData\\\\Local\\\\Programs\\\\Python\\\\Python310\\\\lib',\n",
       " 'C:\\\\Users\\\\Administrator\\\\AppData\\\\Local\\\\Programs\\\\Python\\\\Python310',\n",
       " '',\n",
       " 'C:\\\\Users\\\\Administrator\\\\AppData\\\\Local\\\\Programs\\\\Python\\\\Python310\\\\lib\\\\site-packages',\n",
       " 'C:\\\\Users\\\\Administrator\\\\AppData\\\\Local\\\\Programs\\\\Python\\\\Python310\\\\lib\\\\site-packages\\\\win32',\n",
       " 'C:\\\\Users\\\\Administrator\\\\AppData\\\\Local\\\\Programs\\\\Python\\\\Python310\\\\lib\\\\site-packages\\\\win32\\\\lib',\n",
       " 'C:\\\\Users\\\\Administrator\\\\AppData\\\\Local\\\\Programs\\\\Python\\\\Python310\\\\lib\\\\site-packages\\\\Pythonwin']"
      ]
     },
     "execution_count": 14,
     "metadata": {},
     "output_type": "execute_result"
    }
   ],
   "source": [
    "sys.path"
   ]
  },
  {
   "cell_type": "code",
   "execution_count": 17,
   "id": "0035ded7-57ae-4075-b048-88d908823852",
   "metadata": {},
   "outputs": [],
   "source": [
    "sys.path.append('D:\\\\programming')"
   ]
  },
  {
   "cell_type": "markdown",
   "id": "361a875b-f1c4-4105-981e-81d36352d52a",
   "metadata": {},
   "source": [
    "## 6.3. The dir() Function"
   ]
  },
  {
   "cell_type": "markdown",
   "id": "f9d116ef-0db0-4abf-b7f7-54c6e0b8d76b",
   "metadata": {},
   "source": [
    "The built-in function [`dir()`](https://docs.python.org/3/library/functions.html#dir) is used to find out which names a module defines. It returns a sorted list of strings:\n",
    "\n",
    "> 内置函数 [`dir()`](https://docs.python.org/3/library/functions.html#dir) 用来找出一个模块定义了哪些名字。它返回一个排序的字符串列表："
   ]
  },
  {
   "cell_type": "code",
   "execution_count": 18,
   "id": "92bb3507-c2b2-48c7-84f7-55e3c140e3db",
   "metadata": {},
   "outputs": [
    {
     "data": {
      "text/plain": [
       "['__builtins__',\n",
       " '__cached__',\n",
       " '__doc__',\n",
       " '__file__',\n",
       " '__loader__',\n",
       " '__name__',\n",
       " '__package__',\n",
       " '__spec__',\n",
       " 'fib',\n",
       " 'fib2']"
      ]
     },
     "execution_count": 18,
     "metadata": {},
     "output_type": "execute_result"
    }
   ],
   "source": [
    "import fibo, sys\n",
    "dir(fibo)"
   ]
  },
  {
   "cell_type": "code",
   "execution_count": 21,
   "id": "47670f3b-d9a1-4a2e-891c-dbf5194b5c8b",
   "metadata": {},
   "outputs": [
    {
     "data": {
      "text/plain": [
       "['__breakpointhook__',\n",
       " '__displayhook__',\n",
       " '__doc__',\n",
       " '__excepthook__',\n",
       " '__interactivehook__',\n",
       " '__loader__',\n",
       " '__name__',\n",
       " '__package__',\n",
       " '__spec__',\n",
       " '__stderr__',\n",
       " '__stdin__',\n",
       " '__stdout__',\n",
       " '__unraisablehook__',\n",
       " '_base_executable',\n",
       " '_clear_type_cache',\n",
       " '_current_exceptions',\n",
       " '_current_frames',\n",
       " '_deactivate_opcache',\n",
       " '_debugmallocstats',\n",
       " '_enablelegacywindowsfsencoding',\n",
       " '_framework',\n",
       " '_getframe',\n",
       " '_git',\n",
       " '_home',\n",
       " '_xoptions',\n",
       " 'addaudithook',\n",
       " 'api_version',\n",
       " 'argv',\n",
       " 'audit',\n",
       " 'base_exec_prefix',\n",
       " 'base_prefix',\n",
       " 'breakpointhook',\n",
       " 'builtin_module_names',\n",
       " 'byteorder',\n",
       " 'call_tracing',\n",
       " 'copyright',\n",
       " 'displayhook',\n",
       " 'dllhandle',\n",
       " 'dont_write_bytecode',\n",
       " 'exc_info',\n",
       " 'excepthook',\n",
       " 'exec_prefix',\n",
       " 'executable',\n",
       " 'exit',\n",
       " 'flags',\n",
       " 'float_info',\n",
       " 'float_repr_style',\n",
       " 'get_asyncgen_hooks',\n",
       " 'get_coroutine_origin_tracking_depth',\n",
       " 'getallocatedblocks',\n",
       " 'getdefaultencoding',\n",
       " 'getfilesystemencodeerrors',\n",
       " 'getfilesystemencoding',\n",
       " 'getprofile',\n",
       " 'getrecursionlimit',\n",
       " 'getrefcount',\n",
       " 'getsizeof',\n",
       " 'getswitchinterval',\n",
       " 'gettrace',\n",
       " 'getwindowsversion',\n",
       " 'hash_info',\n",
       " 'hexversion',\n",
       " 'implementation',\n",
       " 'int_info',\n",
       " 'intern',\n",
       " 'is_finalizing',\n",
       " 'last_traceback',\n",
       " 'last_type',\n",
       " 'last_value',\n",
       " 'maxsize',\n",
       " 'maxunicode',\n",
       " 'meta_path',\n",
       " 'modules',\n",
       " 'orig_argv',\n",
       " 'path',\n",
       " 'path_hooks',\n",
       " 'path_importer_cache',\n",
       " 'platform',\n",
       " 'platlibdir',\n",
       " 'prefix',\n",
       " 'ps1',\n",
       " 'ps2',\n",
       " 'ps3',\n",
       " 'pycache_prefix',\n",
       " 'set_asyncgen_hooks',\n",
       " 'set_coroutine_origin_tracking_depth',\n",
       " 'setprofile',\n",
       " 'setrecursionlimit',\n",
       " 'setswitchinterval',\n",
       " 'settrace',\n",
       " 'stderr',\n",
       " 'stdin',\n",
       " 'stdlib_module_names',\n",
       " 'stdout',\n",
       " 'thread_info',\n",
       " 'unraisablehook',\n",
       " 'version',\n",
       " 'version_info',\n",
       " 'warnoptions',\n",
       " 'winver']"
      ]
     },
     "execution_count": 21,
     "metadata": {},
     "output_type": "execute_result"
    }
   ],
   "source": [
    "dir(sys)"
   ]
  },
  {
   "cell_type": "markdown",
   "id": "7065ce83-95a4-4a08-96d3-faa3bf43ab60",
   "metadata": {},
   "source": [
    "Without arguments, [`dir()`](https://docs.python.org/3/library/functions.html#dir) lists the names you have defined currently:\n",
    "\n",
    "> 如果没有参数，[`dir()`](https://docs.python.org/3/library/functions.html#dir)会列出你当前定义的名字："
   ]
  },
  {
   "cell_type": "code",
   "execution_count": 22,
   "id": "6b791f06-0342-4baf-9cfc-d9de96f7c4be",
   "metadata": {},
   "outputs": [
    {
     "data": {
      "text/plain": [
       "['In',\n",
       " 'InteractiveShell',\n",
       " 'Out',\n",
       " '_',\n",
       " '_10',\n",
       " '_12',\n",
       " '_14',\n",
       " '_18',\n",
       " '_19',\n",
       " '_21',\n",
       " '_3',\n",
       " '__',\n",
       " '___',\n",
       " '__builtin__',\n",
       " '__builtins__',\n",
       " '__doc__',\n",
       " '__loader__',\n",
       " '__name__',\n",
       " '__package__',\n",
       " '__spec__',\n",
       " '_dh',\n",
       " '_i',\n",
       " '_i1',\n",
       " '_i10',\n",
       " '_i11',\n",
       " '_i12',\n",
       " '_i13',\n",
       " '_i14',\n",
       " '_i15',\n",
       " '_i16',\n",
       " '_i17',\n",
       " '_i18',\n",
       " '_i19',\n",
       " '_i2',\n",
       " '_i20',\n",
       " '_i21',\n",
       " '_i22',\n",
       " '_i3',\n",
       " '_i4',\n",
       " '_i5',\n",
       " '_i6',\n",
       " '_i7',\n",
       " '_i8',\n",
       " '_i9',\n",
       " '_ih',\n",
       " '_ii',\n",
       " '_iii',\n",
       " '_oh',\n",
       " 'a',\n",
       " 'exit',\n",
       " 'fib',\n",
       " 'fib2',\n",
       " 'fibo',\n",
       " 'fibonacci',\n",
       " 'get_ipython',\n",
       " 'quit',\n",
       " 'sys']"
      ]
     },
     "execution_count": 22,
     "metadata": {},
     "output_type": "execute_result"
    }
   ],
   "source": [
    "a = [1, 2, 3, 4, 5]\n",
    "import fibo\n",
    "fib = fibo.fib\n",
    "dir()"
   ]
  },
  {
   "cell_type": "markdown",
   "id": "805c0785-4f99-4127-84e0-336c51cc33b6",
   "metadata": {},
   "source": [
    "Note that it lists all types of names: variables, modules, functions, etc.\n",
    "\n",
    "> 注意，它列出了所有类型的名称：变量、模块、函数，等等。"
   ]
  },
  {
   "cell_type": "markdown",
   "id": "a20295aa-5c6d-43f2-a748-6030c1893541",
   "metadata": {},
   "source": [
    "[`dir()`](https://docs.python.org/3/library/functions.html#dir) does not list the names of built-in functions and variables. If you want a list of those, they are defined in the standard module [`builtins`](https://docs.python.org/3/library/builtins.html#module-builtins):\n",
    "\n",
    "> [`dir()`](https://docs.python.org/3/library/functions.html#dir)并没有列出内置函数和变量的名称。如果你想要这些列表，它们被定义在[`builtins`](https://docs.python.org/3/library/builtins.html#module-builtins)标准模块。"
   ]
  },
  {
   "cell_type": "code",
   "execution_count": 23,
   "id": "5508ae4f-e60a-437b-bc21-909362be1128",
   "metadata": {},
   "outputs": [
    {
     "data": {
      "text/plain": [
       "['ArithmeticError',\n",
       " 'AssertionError',\n",
       " 'AttributeError',\n",
       " 'BaseException',\n",
       " 'BlockingIOError',\n",
       " 'BrokenPipeError',\n",
       " 'BufferError',\n",
       " 'BytesWarning',\n",
       " 'ChildProcessError',\n",
       " 'ConnectionAbortedError',\n",
       " 'ConnectionError',\n",
       " 'ConnectionRefusedError',\n",
       " 'ConnectionResetError',\n",
       " 'DeprecationWarning',\n",
       " 'EOFError',\n",
       " 'Ellipsis',\n",
       " 'EncodingWarning',\n",
       " 'EnvironmentError',\n",
       " 'Exception',\n",
       " 'False',\n",
       " 'FileExistsError',\n",
       " 'FileNotFoundError',\n",
       " 'FloatingPointError',\n",
       " 'FutureWarning',\n",
       " 'GeneratorExit',\n",
       " 'IOError',\n",
       " 'ImportError',\n",
       " 'ImportWarning',\n",
       " 'IndentationError',\n",
       " 'IndexError',\n",
       " 'InterruptedError',\n",
       " 'IsADirectoryError',\n",
       " 'KeyError',\n",
       " 'KeyboardInterrupt',\n",
       " 'LookupError',\n",
       " 'MemoryError',\n",
       " 'ModuleNotFoundError',\n",
       " 'NameError',\n",
       " 'None',\n",
       " 'NotADirectoryError',\n",
       " 'NotImplemented',\n",
       " 'NotImplementedError',\n",
       " 'OSError',\n",
       " 'OverflowError',\n",
       " 'PendingDeprecationWarning',\n",
       " 'PermissionError',\n",
       " 'ProcessLookupError',\n",
       " 'RecursionError',\n",
       " 'ReferenceError',\n",
       " 'ResourceWarning',\n",
       " 'RuntimeError',\n",
       " 'RuntimeWarning',\n",
       " 'StopAsyncIteration',\n",
       " 'StopIteration',\n",
       " 'SyntaxError',\n",
       " 'SyntaxWarning',\n",
       " 'SystemError',\n",
       " 'SystemExit',\n",
       " 'TabError',\n",
       " 'TimeoutError',\n",
       " 'True',\n",
       " 'TypeError',\n",
       " 'UnboundLocalError',\n",
       " 'UnicodeDecodeError',\n",
       " 'UnicodeEncodeError',\n",
       " 'UnicodeError',\n",
       " 'UnicodeTranslateError',\n",
       " 'UnicodeWarning',\n",
       " 'UserWarning',\n",
       " 'ValueError',\n",
       " 'Warning',\n",
       " 'WindowsError',\n",
       " 'ZeroDivisionError',\n",
       " '__IPYTHON__',\n",
       " '__build_class__',\n",
       " '__debug__',\n",
       " '__doc__',\n",
       " '__import__',\n",
       " '__loader__',\n",
       " '__name__',\n",
       " '__package__',\n",
       " '__spec__',\n",
       " 'abs',\n",
       " 'aiter',\n",
       " 'all',\n",
       " 'anext',\n",
       " 'any',\n",
       " 'ascii',\n",
       " 'bin',\n",
       " 'bool',\n",
       " 'breakpoint',\n",
       " 'bytearray',\n",
       " 'bytes',\n",
       " 'callable',\n",
       " 'chr',\n",
       " 'classmethod',\n",
       " 'compile',\n",
       " 'complex',\n",
       " 'copyright',\n",
       " 'credits',\n",
       " 'delattr',\n",
       " 'dict',\n",
       " 'dir',\n",
       " 'display',\n",
       " 'divmod',\n",
       " 'enumerate',\n",
       " 'eval',\n",
       " 'exec',\n",
       " 'execfile',\n",
       " 'filter',\n",
       " 'float',\n",
       " 'format',\n",
       " 'frozenset',\n",
       " 'get_ipython',\n",
       " 'getattr',\n",
       " 'globals',\n",
       " 'hasattr',\n",
       " 'hash',\n",
       " 'help',\n",
       " 'hex',\n",
       " 'id',\n",
       " 'input',\n",
       " 'int',\n",
       " 'isinstance',\n",
       " 'issubclass',\n",
       " 'iter',\n",
       " 'len',\n",
       " 'license',\n",
       " 'list',\n",
       " 'locals',\n",
       " 'map',\n",
       " 'max',\n",
       " 'memoryview',\n",
       " 'min',\n",
       " 'next',\n",
       " 'object',\n",
       " 'oct',\n",
       " 'open',\n",
       " 'ord',\n",
       " 'pow',\n",
       " 'print',\n",
       " 'property',\n",
       " 'range',\n",
       " 'repr',\n",
       " 'reversed',\n",
       " 'round',\n",
       " 'runfile',\n",
       " 'set',\n",
       " 'setattr',\n",
       " 'slice',\n",
       " 'sorted',\n",
       " 'staticmethod',\n",
       " 'str',\n",
       " 'sum',\n",
       " 'super',\n",
       " 'tuple',\n",
       " 'type',\n",
       " 'vars',\n",
       " 'zip']"
      ]
     },
     "execution_count": 23,
     "metadata": {},
     "output_type": "execute_result"
    }
   ],
   "source": [
    "import builtins\n",
    "dir(builtins)"
   ]
  },
  {
   "cell_type": "markdown",
   "id": "c26fcd04-1fa7-4e8f-b009-2437fa76b74d",
   "metadata": {},
   "source": [
    "## 6.4. Packages"
   ]
  },
  {
   "cell_type": "markdown",
   "id": "2c575275-027c-462f-bfbb-1946c262b762",
   "metadata": {},
   "source": [
    "Packages are a way of structuring Python’s module namespace by using “dotted module names”. For example, the module name `A.B` designates a submodule named `B` in a package named `A`. Just like the use of modules saves the authors of different modules from having to worry about each other’s global variable names, the use of dotted module names saves the authors of multi-module packages like NumPy or Pillow from having to worry about each other’s module names.\n",
    "\n",
    "> 包是通过使用 \"点状模块名 \"来构造 Python 模块名称空间的一种方式。例如，模块名 `A.B` 在一个命名为`A`的包中指定了一个命名为 `B` 的子模块。就像使用模块使不同模块的作者不必担心彼此的全局变量名一样，使用带点的模块名使多模块包如 NumPy 或 Pillow 的作者不必担心彼此的模块名。"
   ]
  },
  {
   "cell_type": "markdown",
   "id": "6dec1706-136e-4682-93c9-b5c50f03420d",
   "metadata": {},
   "source": [
    "Suppose you want to design a collection of modules (a “package”) for the uniform handling of sound files and sound data. There are many different sound file formats (usually recognized by their extension, for example: `.wav`, `.aiff`, `.au`), so you may need to create and maintain a growing collection of modules for the conversion between the various file formats. There are also many different operations you might want to perform on sound data (such as mixing, adding echo, applying an equalizer function, creating an artificial stereo effect), so in addition you will be writing a never-ending stream of modules to perform these operations. Here’s a possible structure for your package (expressed in terms of a hierarchical filesystem):\n",
    "\n",
    "> 假设你想设计一个模块的集合（一个 \"包\"），用于统一处理声音文件和声音数据。有许多不同的声音文件格式（通常由它们的扩展名来识别，例如：`.wav`，`.aiff`，`.au`），所以你可能需要创建和维护一个不断增长的模块集合，用于各种文件格式之间的转换。还有许多不同的操作，你可能想在声音数据上执行（如混合、添加回声、应用均衡器功能、创建人工立体声效果），因此，此外，你将编写一个永无止境的模块流来执行这些操作。下面是你的软件包的可能结构（用分层文件系统表示）："
   ]
  },
  {
   "cell_type": "raw",
   "id": "3a750446-9b10-421b-9063-9696dfcf64c9",
   "metadata": {},
   "source": [
    "sound/                          Top-level package\n",
    "      __init__.py               Initialize the sound package\n",
    "      formats/                  Subpackage for file format conversions\n",
    "              __init__.py\n",
    "              wavread.py\n",
    "              wavwrite.py\n",
    "              aiffread.py\n",
    "              aiffwrite.py\n",
    "              auread.py\n",
    "              auwrite.py\n",
    "              ...\n",
    "      effects/                  Subpackage for sound effects\n",
    "              __init__.py\n",
    "              echo.py\n",
    "              surround.py\n",
    "              reverse.py\n",
    "              ...\n",
    "      filters/                  Subpackage for filters\n",
    "              __init__.py\n",
    "              equalizer.py\n",
    "              vocoder.py\n",
    "              karaoke.py\n",
    "              ..."
   ]
  },
  {
   "cell_type": "markdown",
   "id": "5acb436b-ff4c-4147-8452-5ff1a812ac1e",
   "metadata": {},
   "source": [
    "When importing the package, Python searches through the directories on `sys.path` looking for the package subdirectory.\n",
    "\n",
    "> 当导入包时，Python 在 `sys.path` 上搜索目录，寻找包的子目录。"
   ]
  },
  {
   "cell_type": "markdown",
   "id": "b234eb02-c6eb-4641-bd1b-35bf33c7c3f1",
   "metadata": {},
   "source": [
    "The `__init__.py` files are required to make Python treat directories containing the file as packages. This prevents directories with a common name, such as `string`, unintentionally hiding valid modules that occur later on the module search path. In the simplest case, `__init__.py` can just be an empty file, but it can also execute initialization code for the package or set the `__all__` variable, described later.\n",
    "\n",
    "> 需要 `__init__.py` 文件来使 Python 将包含该文件的目录视为包。这可以防止具有共同名字的目录，如 `string`，无意中隐藏了在模块搜索路径中后来出现的有效模块。在最简单的情况下，`__init__.py` 可以只是一个空文件，但它也可以为包执行初始化代码，或者设置 `__all__` 变量，在这点后面描述。"
   ]
  },
  {
   "cell_type": "markdown",
   "id": "0adb7678-f566-4eec-bd28-301995afa412",
   "metadata": {},
   "source": [
    "Users of the package can import individual modules from the package, for example:\n",
    "\n",
    "> 包的用户可以从包中导入单个模块，例如："
   ]
  },
  {
   "cell_type": "raw",
   "id": "78b0cf7d-95ce-45ea-8067-477cbbc750d3",
   "metadata": {},
   "source": [
    "import sound.effects.echo"
   ]
  },
  {
   "cell_type": "markdown",
   "id": "a33f83de-6a12-4e52-9e68-3bf5adf5b470",
   "metadata": {},
   "source": [
    "This loads the submodule `sound.effects.echo`. It must be referenced with its full name.\n",
    "\n",
    "> 这将加载子模块`sound.effects.echo`。必须用它的全名来引用它。"
   ]
  },
  {
   "cell_type": "raw",
   "id": "5ff2214d-7780-4a48-b2f2-2b2b5041b78c",
   "metadata": {},
   "source": [
    "sound.effects.echo.echofilter(input, output, delay=0.7, atten=4)"
   ]
  },
  {
   "cell_type": "markdown",
   "id": "32621fbd-de23-4026-a183-8b0520561b4f",
   "metadata": {},
   "source": [
    "An alternative way of importing the submodule is:\n",
    "\n",
    "> 另一种导入子模块的方法是："
   ]
  },
  {
   "cell_type": "raw",
   "id": "a976b688-9d42-44c6-9eca-02b7a0a89457",
   "metadata": {},
   "source": [
    "from sound.effects import echo"
   ]
  },
  {
   "cell_type": "markdown",
   "id": "2ea20f9f-bf43-4ad0-8d98-a9b9849a396e",
   "metadata": {},
   "source": [
    "This also loads the submodule `echo`, and makes it available without its package prefix, so it can be used as follows:\n",
    "\n",
    "> 这也加载了子模块 `echo`，并使其在没有包前缀的情况下可用，因此可以如下使用："
   ]
  },
  {
   "cell_type": "raw",
   "id": "572941ee-4dd6-4ef2-8494-0c16bf5b5381",
   "metadata": {},
   "source": [
    "echo.echofilter(input, output, delay=0.7, atten=4)"
   ]
  },
  {
   "cell_type": "markdown",
   "id": "cf06b398-9729-42fc-bcc8-12a55247a63e",
   "metadata": {},
   "source": [
    "Yet another variation is to import the desired function or variable directly:\n",
    "\n",
    "> 然而，另一种变化是直接导入所需的函数或变量："
   ]
  },
  {
   "cell_type": "raw",
   "id": "dfaf7e95-5b53-4273-8823-e2970454a17f",
   "metadata": {},
   "source": [
    "from sound.effects.echo import echofilter"
   ]
  },
  {
   "cell_type": "markdown",
   "id": "91792b99-8229-4d49-adff-05c31b03039f",
   "metadata": {},
   "source": [
    "Again, this loads the submodule `echo`, but this makes its function `echofilter()` directly available:\n",
    "\n",
    "> 同样，这将加载子模块 `echo`，但这使得其函数 `echofilter()` 直接可用："
   ]
  },
  {
   "cell_type": "raw",
   "id": "3fbd0375-221e-460a-bef1-cb4c3a30c3f7",
   "metadata": {},
   "source": [
    "echofilter(input, output, delay=0.7, atten=4)"
   ]
  },
  {
   "cell_type": "markdown",
   "id": "2da6a25f-7f78-4f65-a0f1-a9a8d9d54f4c",
   "metadata": {},
   "source": [
    "Note that when using `from package import item`, the item can be either a submodule (or subpackage) of the package, or some other name defined in the package, like a function, class or variable. The `import` statement first tests whether the item is defined in the package; if not, it assumes it is a module and attempts to load it. If it fails to find it, an [`ImportError`](https://docs.python.org/3/library/exceptions.html#ImportError) exception is raised.\n",
    "\n",
    "> 注意，当使用`from package import item`时，该项目可以是包的一个子模块（或子包），或包中定义的其他名称，如函数、类或变量。import 语句首先测试该项目是否在包中定义；如果没有，它假定它是一个模块并试图加载它。如果找不到它，就会产生一个[`ImportError`](https://docs.python.org/3/library/exceptions.html#ImportError)异常。"
   ]
  },
  {
   "cell_type": "markdown",
   "id": "f7edf6d3-709e-49ad-9f64-b0671aad30bc",
   "metadata": {},
   "source": [
    "Contrarily, when using syntax like `import item.subitem.subsubitem`, each item except for the last must be a package; the last item can be a module or a package but can’t be a class or function or variable defined in the previous item.\n",
    "\n",
    "> 相反，当使用像`import item.subitem.subsubitem`这样的语法时，除了最后一项外，每一项都必须是一个包；最后一项可以是一个模块或一个包，但不能是前一项中定义的类或函数或变量。"
   ]
  },
  {
   "cell_type": "markdown",
   "id": "02796dbe-3eaa-44d6-a395-d0a00fe236e5",
   "metadata": {},
   "source": [
    "### 6.4.1. Importing * From a Package"
   ]
  },
  {
   "cell_type": "markdown",
   "id": "99688888-76c5-4f03-8228-740e6d170c26",
   "metadata": {},
   "source": [
    "Now what happens when the user writes `from sound.effects import *`? Ideally, one would hope that this somehow goes out to the filesystem, finds which submodules are present in the package, and imports them all. This could take a long time and importing sub-modules might have unwanted side-effects that should only happen when the sub-module is explicitly imported.\n",
    "\n",
    "> 现在，当用户写 `from sound.effects import *` 时会发生什么？理想情况下，我们希望通过某种方式进入文件系统，找到软件包中存在的子模块，并将它们全部导入。这可能需要很长的时间，而且导入子模块可能会产生不必要的副作用，而这些副作用只应该在明确导入子模块时发生。"
   ]
  },
  {
   "cell_type": "markdown",
   "id": "964d6c81-782e-41ad-8567-9748fa048680",
   "metadata": {},
   "source": [
    "The only solution is for the package author to provide an explicit index of the package. The [`import`](https://docs.python.org/3/reference/simple_stmts.html#import) statement uses the following convention: if a package’s `__init__.py` code defines a list named `__all__`, it is taken to be the list of module names that should be imported when `from package import *` is encountered. It is up to the package author to keep this list up-to-date when a new version of the package is released. Package authors may also decide not to support it, if they don’t see a use for importing * from their package. For example, the file `sound/effects/__init__.py` could contain the following code:\n",
    "\n",
    "> 唯一的解决办法是由包的作者提供一个明确的包的索引。[`import`](https://docs.python.org/3/reference/simple_stmts.html#import) 语句使用以下约定：如果一个包的`__init__.py`代码定义了一个名为`__all__`的列表，它被认为是在遇到`from package import *`时应该被导入的模块名称的列表。当包的新版本发布时，由包的作者来决定这个列表是最新的。包作者也可以决定不支持它，如果他们认为从他们的包中导入*没有用。例如，文件`sound/effects/__init__.py`可能包含以下代码："
   ]
  },
  {
   "cell_type": "raw",
   "id": "342e909a-eee5-4ba9-a381-70afa10cba60",
   "metadata": {},
   "source": [
    "__all__ = [\"echo\", \"surround\", \"reverse\"]"
   ]
  },
  {
   "cell_type": "markdown",
   "id": "71173198-ef40-487a-96a2-56a8ef1fa86a",
   "metadata": {},
   "source": [
    "This would mean that `from sound.effects import *` would import the three named submodules of the `sound.effects` package.\n",
    "\n",
    "> 这意味着`from sound.effects import *`将导入`sound.effects`包的三个命名子模块。"
   ]
  },
  {
   "cell_type": "markdown",
   "id": "1993227f-72c4-4276-b3f9-bdb06eeb2639",
   "metadata": {},
   "source": [
    "If `__all__` is not defined, the statement `from sound.effects import *` does *not* import all submodules from the package `sound.effects` into the current namespace; it only ensures that the package `sound.effects` has been imported (possibly running any initialization code in `__init__.py`) and then imports whatever names are defined in the package. This includes any names defined (and submodules explicitly loaded) by `__init__.py`. It also includes any submodules of the package that were explicitly loaded by previous [`import`](https://docs.python.org/3/reference/simple_stmts.html#import) statements. Consider this code:\n",
    "\n",
    "> 如果没有定义 `__all__`，语句 `from sound.effect import *` 并*不*导入软件包 `sound.effect` 中的所有子模块到当前命名空间；它只是确保软件包 `sound.effect` 已经被导入（可能运行任何在 `init__.py` 中的初始化代码），然后导入软件包中定义的任何名字。这包括任何由 `__init__.py` 定义的名字（和明确加载的子模块）。它还包括任何由之前的 [`import`](https://docs.python.org/3/reference/simple_stmts.html#import) 语句明确加载的包的子模块。思考一下这段代码："
   ]
  },
  {
   "cell_type": "raw",
   "id": "2472aa5d-257d-4709-83d2-d1b5aaef56f8",
   "metadata": {},
   "source": [
    "import sound.effects.echo\n",
    "import sound.effects.surround\n",
    "from sound.effects import *"
   ]
  },
  {
   "cell_type": "markdown",
   "id": "e7211c7b-7ccf-4ff8-bfb7-adf258f8cfdd",
   "metadata": {},
   "source": [
    "In this example, the `echo` and `surround` modules are imported in the current namespace because they are defined in the `sound.effects` package when the `from...import` statement is executed. (This also works when `__all__` is defined.)\n",
    "\n",
    "> 在这个例子中，`echo` 和 `surround` 模块被导入到当前的命名空间，因为当执行`from...import`语句时，它们被定义在 `sound.effect` 包中。(这在定义了 `__all__` 时也是有效的）。"
   ]
  },
  {
   "cell_type": "markdown",
   "id": "52bfacf1-4c79-4cda-970e-60c0d1bf45a2",
   "metadata": {},
   "source": [
    "Although certain modules are designed to export only names that follow certain patterns when you use `import *`, it is still considered bad practice in production code.\n",
    "\n",
    "> 尽管某些模块被设计成在你使用 `import *` 时只导出遵循某些模式的名称，但在生产代码中，这仍然被认为是不好的做法。"
   ]
  },
  {
   "cell_type": "markdown",
   "id": "05123d00-0d7d-4349-9b9a-9360e7ec52ba",
   "metadata": {},
   "source": [
    "Remember, there is nothing wrong with using `from package import specific_submodule`! In fact, this is the recommended notation unless the importing module needs to use submodules with the same name from different packages.\n",
    "\n",
    "> 记住，使用 `from package import specific_submodule` 并没有错！事实上，这是推荐的写法，除非导入模块需要使用来自不同包的同名子模块。"
   ]
  },
  {
   "cell_type": "markdown",
   "id": "52be43f4-9d97-4ef1-ab78-f57beedcf4e1",
   "metadata": {},
   "source": [
    "### 6.4.2. Intra-package References"
   ]
  },
  {
   "cell_type": "markdown",
   "id": "b3baea64-b384-48e3-9767-6a9d119aefdf",
   "metadata": {},
   "source": [
    "When packages are structured into subpackages (as with the `sound` package in the example), you can use absolute imports to refer to submodules of siblings packages. For example, if the module `sound.filters.vocoder` needs to use the `echo` module in the `sound.effects` package, it can use `from sound.effects import echo`.\n",
    "\n",
    "> 当包被结构化为子包时（如例子中的`sound`包），你可以使用绝对导入来引用同级包的子模块。例如，如果模块`sound.filters.vocoder`需要使用`sound.effects`包中的`echo`模块，它可以使用`from sound.effects import echo`。"
   ]
  },
  {
   "cell_type": "markdown",
   "id": "2ed61f23-df7d-4dbf-b996-b7046ebac2cd",
   "metadata": {},
   "source": [
    "You can also write relative imports, with the `from module import name` form of import statement. These imports use leading dots to indicate the current and parent packages involved in the relative import. From the `surround` module for example, you might use:\n",
    "\n",
    "> 你也可以使用 import 语句的 `from module import name` 形式来写相对导入。这些导入使用前导点来表示相对导入中涉及的当前包和父包。例如，从 `surround` 模块中，你可以使用："
   ]
  },
  {
   "cell_type": "raw",
   "id": "75f9987d-f4a2-4033-95f4-7b2bf21b1641",
   "metadata": {},
   "source": [
    "from . import echo\n",
    "from .. import formats\n",
    "from ..filters import equalizer"
   ]
  },
  {
   "cell_type": "markdown",
   "id": "4298a282-08ef-42d0-8a65-4d28c4371ab5",
   "metadata": {},
   "source": [
    "Note that relative imports are based on the name of the current module. Since the name of the main module is always `\"__main__\"`, modules intended for use as the main module of a Python application must always use absolute imports.\n",
    "\n",
    "> 注意，相对导入是基于当前模块的名称。因为主模块的名字总是 `\"__main__\"`，所以打算作为 Python 应用程序的主模块的模块必须总是使用绝对导入。"
   ]
  },
  {
   "cell_type": "markdown",
   "id": "107e5e0b-6dd7-43cd-a234-bd6767c5a468",
   "metadata": {},
   "source": [
    "### 6.4.3. Packages in Multiple Directories"
   ]
  },
  {
   "cell_type": "markdown",
   "id": "aa053690-abd8-45ea-901d-e73f0e76914f",
   "metadata": {},
   "source": [
    "Packages support one more special attribute, [`__path__`](https://docs.python.org/3/reference/import.html#path__). This is initialized to be a list containing the name of the directory holding the package’s `__init__.py` before the code in that file is executed. This variable can be modified; doing so affects future searches for modules and subpackages contained in the package.\n",
    "\n",
    "> 包还支持一个特殊的属性，[`__path__`](https://docs.python.org/3/reference/import.html#path__)。这个属性被初始化为一个列表，在执行包的`__init__.py`文件中的代码之前，它包含了存放该包的目录名称。这个变量可以被修改；这样做会影响到将来对软件包中的模块和子包的搜索。"
   ]
  },
  {
   "cell_type": "markdown",
   "id": "8b2217f3-95a3-4ee4-ad40-361f7ed0c430",
   "metadata": {},
   "source": [
    "While this feature is not often needed, it can be used to extend the set of modules found in a package.\n",
    "\n",
    "> 虽然这个功能并不经常需要，但它可以用来扩展在一个包中创建的模块集。"
   ]
  },
  {
   "cell_type": "markdown",
   "id": "2bd9acc0-cf9a-47a1-8262-45aded599e2d",
   "metadata": {},
   "source": [
    "**Footnotes**\n",
    "\n",
    "[1]: In fact function definitions are also ‘statements’ that are ‘executed’; the execution of a module-level function definition enters the function name in the module’s global symbol table.\n",
    "\n",
    "> [1]: 事实上，函数定义也是被 \"执行 \"的 \"语句\"；执行一个模块级的函数定义会在模块的全局符号表中输入函数名称。"
   ]
  }
 ],
 "metadata": {
  "kernelspec": {
   "display_name": "Python 3 (ipykernel)",
   "language": "python",
   "name": "python3"
  },
  "language_info": {
   "codemirror_mode": {
    "name": "ipython",
    "version": 3
   },
   "file_extension": ".py",
   "mimetype": "text/x-python",
   "name": "python",
   "nbconvert_exporter": "python",
   "pygments_lexer": "ipython3",
   "version": "3.10.4"
  }
 },
 "nbformat": 4,
 "nbformat_minor": 5
}
