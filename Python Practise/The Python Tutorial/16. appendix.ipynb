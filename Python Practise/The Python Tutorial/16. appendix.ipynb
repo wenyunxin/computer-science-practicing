{
 "cells": [
  {
   "cell_type": "code",
   "execution_count": 1,
   "id": "41855805-49a4-4e55-b864-f95e1e8c9d5d",
   "metadata": {},
   "outputs": [],
   "source": [
    "from IPython.core.interactiveshell import InteractiveShell\n",
    "InteractiveShell.ast_node_interactivity = \"all\""
   ]
  },
  {
   "cell_type": "markdown",
   "id": "a07349f6-b499-4a37-b7ad-0bd3929059b3",
   "metadata": {},
   "source": [
    "## 16.1. Interactive Mode"
   ]
  },
  {
   "cell_type": "markdown",
   "id": "167b8c84-8617-4a1e-9d26-ea89a0aeba0d",
   "metadata": {},
   "source": [
    "### 16.1.1. Error Handling"
   ]
  },
  {
   "cell_type": "markdown",
   "id": "1844cc03-3896-44cb-b86d-54d92fcd2010",
   "metadata": {},
   "source": [
    "When an error occurs, the interpreter prints an error message and a stack trace. In interactive mode, it then returns to the primary prompt; when input came from a file, it exits with a nonzero exit status after printing the stack trace. (Exceptions handled by an [`except`](https://docs.python.org/3/reference/compound_stmts.html#except) clause in a [`try`](https://docs.python.org/3/reference/compound_stmts.html#try) statement are not errors in this context.) Some errors are unconditionally fatal and cause an exit with a nonzero exit; this applies to internal inconsistencies and some cases of running out of memory. All error messages are written to the standard error stream; normal output from executed commands is written to standard output.\n",
    "\n",
    "Typing the interrupt character (usually Control-C or Delete) to the primary or secondary prompt cancels the input and returns to the primary prompt. [1](https://docs.python.org/3/tutorial/appendix.html#id2) Typing an interrupt while a command is executing raises the [`KeyboardInterrupt`](https://docs.python.org/3/library/exceptions.html#KeyboardInterrupt) exception, which may be handled by a [`try`](https://docs.python.org/3/reference/compound_stmts.html#try) statement.\n",
    "\n",
    "> 当一个错误发生时，解释器会打印一个错误信息和堆栈跟踪。在交互式模式下，它将返回主提示符；当输入来自文件时，它在打印堆栈跟踪后以非零的退出状态退出。(由[`except`](https://docs.python.org/3/reference/compound_stmts.html#except)语句中的[`try`](https://docs.python.org/3/reference/compound_stmts.html#try)子句处理的异常在这种情况下不是错误。) 有些错误是无条件致命的，会导致非零退出；这适用于内部不一致和一些内存耗尽的情况。所有的错误信息都被写入标准错误流；被执行命令的正常输出被写入标准输出。\n",
    ">\n",
    "> 向主提示符或次提示符输入中断字符（通常是Control-C或Delete）会取消输入并返回到主提示符。[^1] 在命令执行过程中输入中断字符会引发[`KeyboardInterrupt`](https://docs.python.org/3/library/exceptions.html#KeyboardInterrupt)异常，可以通过[`try`](https://docs.python.org/3/reference/compound_stmts.html#try)语句处理。"
   ]
  },
  {
   "cell_type": "markdown",
   "id": "d8f0f26a-8b90-476b-af72-a524158e9918",
   "metadata": {},
   "source": [
    "### 16.1.2. Executable Python Scripts"
   ]
  },
  {
   "cell_type": "markdown",
   "id": "fa1e5c6f-a567-4f2f-a62c-5e2550fcabdd",
   "metadata": {},
   "source": [
    "On BSD’ish Unix systems, Python scripts can be made directly executable, like shell scripts, by putting the line\n",
    "\n",
    "> 在BSD'ish Unix系统上，Python脚本可以像shell脚本一样直接执行，方法是放置一行"
   ]
  },
  {
   "cell_type": "code",
   "execution_count": 2,
   "id": "705d6275-fb6e-4c27-82ab-3142ba12b86a",
   "metadata": {},
   "outputs": [],
   "source": [
    "#!/usr/bin/env python3.10"
   ]
  },
  {
   "cell_type": "markdown",
   "id": "67bfe2a2-1134-4a79-8372-a9ec8c72e5ff",
   "metadata": {},
   "source": [
    "(assuming that the interpreter is on the user’s `PATH`) at the beginning of the script and giving the file an executable mode. The `#!` must be the first two characters of the file. On some platforms, this first line must end with a Unix-style line ending (`'\\n'`), not a Windows (`'\\r\\n'`) line ending. Note that the hash, or pound, character, `'#'`, is used to start a comment in Python.\n",
    "\n",
    "The script can be given an executable mode, or permission, using the **chmod** command.\n",
    "\n",
    "> (假设解释器在用户的`PATH`上）在脚本的开头，并给文件一个可执行的模式。`#！`必须是文件的前两个字符。在某些平台上，这第一行必须以Unix风格的行结尾（`'\\'n'`）结束，而不是Windows（`'\\r\\n'`）的行结尾。注意，在Python中，哈希，或者说pound，字符，`'#'`，是用来开始一个注释的。\n",
    ">\n",
    "> 可以使用**chmod**命令给脚本一个可执行的模式，或者说权限。"
   ]
  },
  {
   "cell_type": "code",
   "execution_count": 4,
   "id": "1ff32d05-9331-4bdb-b9d2-014644ec9417",
   "metadata": {},
   "outputs": [
    {
     "ename": "SyntaxError",
     "evalue": "invalid syntax (3428565138.py, line 1)",
     "output_type": "error",
     "traceback": [
      "\u001b[1;36m  Input \u001b[1;32mIn [4]\u001b[1;36m\u001b[0m\n\u001b[1;33m    $ chmod +x myscript.py\u001b[0m\n\u001b[1;37m    ^\u001b[0m\n\u001b[1;31mSyntaxError\u001b[0m\u001b[1;31m:\u001b[0m invalid syntax\n"
     ]
    }
   ],
   "source": [
    "$ chmod +x myscript.py"
   ]
  },
  {
   "cell_type": "markdown",
   "id": "f579df05-cf68-468c-856a-a3cc9f46d172",
   "metadata": {},
   "source": [
    "On Windows systems, there is no notion of an “executable mode”. The Python installer automatically associates `.py` files with `python.exe` so that a double-click on a Python file will run it as a script. The extension can also be `.pyw`, in that case, the console window that normally appears is suppressed.\n",
    "\n",
    "> 在 Windows 系统上，没有 \"executable mode\"的概念。Python安装程序会自动将`.py`文件与`python.exe`联系起来，这样双击一个Python文件就会作为一个脚本运行。扩展名也可以是`.pyw`，在这种情况下，通常出现的控制台窗口会被抑制住。"
   ]
  },
  {
   "cell_type": "markdown",
   "id": "d1d51baa-d8df-4a62-8d20-d0be2ad599b1",
   "metadata": {},
   "source": [
    "### 16.1.3. The Interactive Startup File"
   ]
  },
  {
   "cell_type": "markdown",
   "id": "2df66782-3fdc-440e-bd58-501c1784c404",
   "metadata": {},
   "source": [
    "When you use Python interactively, it is frequently handy to have some standard commands executed every time the interpreter is started. You can do this by setting an environment variable named [`PYTHONSTARTUP`](https://docs.python.org/3/using/cmdline.html#envvar-PYTHONSTARTUP) to the name of a file containing your start-up commands. This is similar to the `.profile` feature of the Unix shells.\n",
    "\n",
    "This file is only read in interactive sessions, not when Python reads commands from a script, and not when `/dev/tty` is given as the explicit source of commands (which otherwise behaves like an interactive session). It is executed in the same namespace where interactive commands are executed, so that objects that it defines or imports can be used without qualification in the interactive session. You can also change the prompts `sys.ps1` and `sys.ps2` in this file.\n",
    "\n",
    "If you want to read an additional start-up file from the current directory, you can program this in the global start-up file using code like `if os.path.isfile('.pythonrc.py'): exec(open('.pythonrc.py').read())`. If you want to use the startup file in a script, you must do this explicitly in the script:\n",
    "\n",
    "> 当你交互式地使用 Python 时，每次启动解释器时执行一些标准命令是非常方便的。你可以通过设置一个名为 [`PYTHONSTARTUP`](https://docs.python.org/3/using/cmdline.html#envvar-PYTHONSTARTUP) 的环境变量来实现，该变量是一个包含启动命令的文件名。这类似于Unix shells的 `.profile` 功能。\n",
    ">\n",
    "> 这个文件只在交互式会话中被读取，而不是当 Python 从脚本中读取命令时，也不是当 `/dev/tty` 被指定为命令的明确来源时 (否则表现得像一个交互式会话)。它在执行交互式命令的同一命名空间中执行，因此它定义或导入的对象可以在交互式会话中不加限定地使用。你也可以在这个文件中改变提示符`sys.ps1`和`sys.ps2`。\n",
    ">\n",
    "> 如果你想从当前目录中读取一个额外的启动文件，你可以在全局启动文件中使用`if os.path.isfile('.pythonrc.py'): exec(open('.pythonrc.py').read()`这样的代码编程。如果你想在一个脚本中使用启动文件，你必须在脚本中明确地这样做："
   ]
  },
  {
   "cell_type": "code",
   "execution_count": 8,
   "id": "13f7c49b-143e-42c8-ab4d-da2bad0d8483",
   "metadata": {},
   "outputs": [],
   "source": [
    "import os\n",
    "\n",
    "filename = os.environ.get('PYTHONSTARTUP')\n",
    "\n",
    "if filename and os.path.isfile(filename):\n",
    "    with open(filename) as fobj:\n",
    "        startup_file = fobj.read()\n",
    "    exec(startup_file)"
   ]
  },
  {
   "cell_type": "markdown",
   "id": "da9a92f6-a370-4148-bb36-79fe4c065646",
   "metadata": {},
   "source": [
    "### 16.1.4. The Customization Modules"
   ]
  },
  {
   "cell_type": "markdown",
   "id": "05c0e9ed-636b-458e-aa04-c0368796e404",
   "metadata": {},
   "source": [
    "Python provides two hooks to let you customize it: `sitecustomize` and `usercustomize`. To see how it works, you need first to find the location of your user site-packages directory. Start Python and run this code:\n",
    "\n",
    "> Python提供了两个钩子让你定制它：`sitecustomize`和`usercustomize`。要看它是如何工作的，你首先需要找到你的用户包目录的位置。启动Python并运行这段代码："
   ]
  },
  {
   "cell_type": "code",
   "execution_count": 9,
   "id": "ecc307d4-263c-40a6-9726-ff246e9a2a48",
   "metadata": {},
   "outputs": [
    {
     "data": {
      "text/plain": [
       "'C:\\\\Users\\\\Administrator\\\\AppData\\\\Roaming\\\\Python\\\\Python310\\\\site-packages'"
      ]
     },
     "execution_count": 9,
     "metadata": {},
     "output_type": "execute_result"
    }
   ],
   "source": [
    "import site\n",
    "\n",
    "site.getusersitepackages()"
   ]
  },
  {
   "cell_type": "markdown",
   "id": "db1b628d-a089-49c1-8c04-44b4f8357891",
   "metadata": {},
   "source": [
    "Now you can create a file named `usercustomize.py` in that directory and put anything you want in it. It will affect every invocation of Python, unless it is started with the [`-s`](https://docs.python.org/3/using/cmdline.html#cmdoption-s) option to disable the automatic import.\n",
    "\n",
    "`sitecustomize` works in the same way, but is typically created by an administrator of the computer in the global site-packages directory, and is imported before `usercustomize`. See the documentation of the [`site`](https://docs.python.org/3/library/site.html#module-site) module for more details.\n",
    "\n",
    "> 现在你可以在该目录下创建一个名为 `usercustomize.py` 的文件，并在其中放入任何你想要的东西。它将影响Python的每次调用，除非用[`-s`](https://docs.python.org/3/using/cmdline.html#cmdoption-s)选项启动，以禁止自动导入。\n",
    ">\n",
    "> `sitecustomize`的工作方式相同，但通常是由计算机的管理员在全局包目录下创建，并在`usercustomize`之前导入。更多细节见 [`site`](https://docs.python.org/3/library/site.html#module-site) 模块的文档。"
   ]
  },
  {
   "cell_type": "markdown",
   "id": "19ababe5-3f41-4c1f-b713-7b17282b9486",
   "metadata": {},
   "source": [
    "**Footnotes**\n",
    "\n",
    "[1]: A problem with the GNU Readline package may prevent this.\n",
    "\n",
    "> [1]: GNU Readline软件包的一个问题可能会阻止这一点。"
   ]
  }
 ],
 "metadata": {
  "kernelspec": {
   "display_name": "Python 3 (ipykernel)",
   "language": "python",
   "name": "python3"
  },
  "language_info": {
   "codemirror_mode": {
    "name": "ipython",
    "version": 3
   },
   "file_extension": ".py",
   "mimetype": "text/x-python",
   "name": "python",
   "nbconvert_exporter": "python",
   "pygments_lexer": "ipython3",
   "version": "3.10.4"
  }
 },
 "nbformat": 4,
 "nbformat_minor": 5
}
