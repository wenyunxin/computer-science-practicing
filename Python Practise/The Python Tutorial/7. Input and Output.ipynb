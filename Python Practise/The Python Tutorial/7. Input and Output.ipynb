{
 "cells": [
  {
   "cell_type": "code",
   "execution_count": 1,
   "id": "85c67d82-c0aa-4663-9a62-1d84aaaf7f52",
   "metadata": {},
   "outputs": [],
   "source": [
    "from IPython.core.interactiveshell import InteractiveShell\n",
    "InteractiveShell.ast_node_interactivity = \"all\""
   ]
  },
  {
   "cell_type": "markdown",
   "id": "29697b54-83a6-41c6-b772-31b09ba38e9a",
   "metadata": {},
   "source": [
    "There are several ways to present the output of a program; data can be printed in a human-readable form, or written to a file for future use. This chapter will discuss some of the possibilities.\n",
    "\n",
    "> 有几种方法来展示一个程序的输出；数据可以以人类可读的形式打印出来，或者写入文件供将来使用。本章将讨论其中的一些可能性。"
   ]
  },
  {
   "cell_type": "markdown",
   "id": "df9f0219-04d7-4f81-8f9a-a0651f5d8b6f",
   "metadata": {},
   "source": [
    "## 7.1. Fancier Output Formatting"
   ]
  },
  {
   "cell_type": "markdown",
   "id": "a01ba345-0a9a-4b3d-8f73-058e1f63b190",
   "metadata": {},
   "source": [
    "So far we’ve encountered two ways of writing values: *expression statements* and the [`print()`](https://docs.python.org/3/library/functions.html#print) function. (A third way is using the `write()` method of file objects; the standard output file can be referenced as `sys.stdout`. See the Library Reference for more information on this.)\n",
    "\n",
    "> 到目前为止，我们已经遇到了两种写值的方式。*表达式语句*和[`print()`](https://docs.python.org/3/library/functions.html#print)函数。(第三种方式是使用文件对象的`write()`方法；标准输出文件可以被引用为`sys.stdout`。关于这方面的更多信息，请参见Library Reference）。"
   ]
  },
  {
   "cell_type": "markdown",
   "id": "c2b34d24-9af1-40ac-865b-72706df797d5",
   "metadata": {},
   "source": [
    "Often you’ll want more control over the formatting of your output than simply printing space-separated values. There are several ways to format output.\n",
    "\n",
    "> 通常你希望对输出的格式有更多的控制，而不是简单地打印空格分隔的数值。有几种方法来格式化输出。"
   ]
  },
  {
   "cell_type": "markdown",
   "id": "88dea613-1a9e-4ecc-bd9a-3d697515f180",
   "metadata": {},
   "source": [
    "- To use [formatted string literals](https://docs.python.org/3/tutorial/inputoutput.html#tut-f-strings), begin a string with `f` or `F` before the opening quotation mark or triple quotation mark. Inside this string, you can write a Python expression between `{` and `}` characters that can refer to variables or literal values.\n",
    "\n",
    "> 要使用[格式化的字符串字面值](https://docs.python.org/3/tutorial/inputoutput.html#tut-f-strings)，在一个字符串的开头引号或三引号前用`f`或`F`开始。在这个字符串中，你可以在`{`和`}`字符之间写一个Python表达式，字符可以指代变量或字面值。"
   ]
  },
  {
   "cell_type": "code",
   "execution_count": 2,
   "id": "05b0476d-cb4a-447e-a750-d25a3a4208ee",
   "metadata": {},
   "outputs": [
    {
     "data": {
      "text/plain": [
       "'Results of the 2016 Referendum'"
      ]
     },
     "execution_count": 2,
     "metadata": {},
     "output_type": "execute_result"
    }
   ],
   "source": [
    "year = 2016\n",
    "event = 'Referendum'\n",
    "f'Results of the {year} {event}'"
   ]
  },
  {
   "cell_type": "markdown",
   "id": "6673ef74-e2c1-4c06-8778-7f51e492c0ae",
   "metadata": {},
   "source": [
    "- The [`str.format()`](https://docs.python.org/3/library/stdtypes.html#str.format) method of strings requires more manual effort. You’ll still use `{` and `}` to mark where a variable will be substituted and can provide detailed formatting directives, but you’ll also need to provide the information to be formatted.\n",
    "\n",
    "> 字符串的 [`str.format()`](https://docs.python.org/3/library/stdtypes.html#str.format)方法需要更多的手工操作。你仍然会使用 `{` 和 `}` 来标记变量将被替换的位置，并可以提供详细的格式化指令，但你也需要提供要格式化的信息。"
   ]
  },
  {
   "cell_type": "code",
   "execution_count": 10,
   "id": "343ec3f1-30d0-4aa3-b582-ab6bf2781c45",
   "metadata": {},
   "outputs": [
    {
     "data": {
      "text/plain": [
       "'  42572654 YES votes  49.67%'"
      ]
     },
     "execution_count": 10,
     "metadata": {},
     "output_type": "execute_result"
    },
    {
     "data": {
      "text/plain": [
       "' 42572654 YES votes  49.7%'"
      ]
     },
     "execution_count": 10,
     "metadata": {},
     "output_type": "execute_result"
    },
    {
     "data": {
      "text/plain": [
       "' 42572654 YES votes  49.67%'"
      ]
     },
     "execution_count": 10,
     "metadata": {},
     "output_type": "execute_result"
    }
   ],
   "source": [
    "yes_votes = 42_572_654\n",
    "no_votes = 43_132_495\n",
    "percentage = yes_votes / (yes_votes + no_votes)\n",
    "' {:-9} YES votes  {:2.2%}'.format(yes_votes, percentage)   # what does \":-9\" and \":2.2%\" mean?\n",
    "' {:-8} YES votes  {:1.1%}'.format(yes_votes, percentage)  \n",
    "' {:-1} YES votes  {:0.2%}'.format(yes_votes, percentage)"
   ]
  },
  {
   "cell_type": "markdown",
   "id": "277ab36a-8fcd-4410-bf94-29ce5c4694a1",
   "metadata": {},
   "source": [
    "- Finally, you can do all the string handling yourself by using string slicing and concatenation operations to create any layout you can imagine. The string type has some methods that perform useful operations for padding strings to a given column width.\n",
    "\n",
    "> 最后，你可以通过使用字符串切分和连接操作来创建任何你能想象到的布局，从而自己完成所有的字符串处理。字符串类型有一些方法可以执行有用的操作，将字符串填充到给定的列宽。"
   ]
  },
  {
   "cell_type": "markdown",
   "id": "8e9de49f-7227-4545-8321-0d46fae5664b",
   "metadata": {},
   "source": [
    "When you don’t need fancy output but just want a quick display of some variables for debugging purposes, you can convert any value to a string with the [`repr()`](https://docs.python.org/3/library/functions.html#repr) or [`str()`](https://docs.python.org/3/library/stdtypes.html#str) functions.\n",
    "\n",
    "> 当你不需要花哨的输出，而只是想快速显示一些变量用于调试时，你可以用[`repr()`](https://docs.python.org/3/library/functions.html#repr)或[`str()`](https://docs.python.org/3/library/stdtypes.html#str)函数将任何值转换成字符串。"
   ]
  },
  {
   "cell_type": "markdown",
   "id": "6c1a8802-bc6f-4f6d-b29c-b987535be8fb",
   "metadata": {},
   "source": [
    "The [`str()`](https://docs.python.org/3/library/stdtypes.html#str) function is meant to return representations of values which are fairly human-readable, while [`repr()`](https://docs.python.org/3/library/functions.html#repr) is meant to generate representations which can be read by the interpreter (or will force a [`SyntaxError`](https://docs.python.org/3/library/exceptions.html#SyntaxError) if there is no equivalent syntax). For objects which don’t have a particular representation for human consumption, [`str()`](https://docs.python.org/3/library/stdtypes.html#str) will return the same value as [`repr()`](https://docs.python.org/3/library/functions.html#repr). Many values, such as numbers or structures like lists and dictionaries, have the same representation using either function. Strings, in particular, have two distinct representations.\n",
    "\n",
    "> [`str()`](https://docs.python.org/3/library/stdtypes.html#str)函数是为了返回人类可读的值表示，而[`repr()`](https://docs.python.org/3/library/functions.html#repr)是为了生成解释器可读的表示（如果没有相等的语法，则会强制产生[`SyntaxError`](https://docs.python.org/3/library/exceptions.html#SyntaxError)）。对于那些没有特定表示法供人们使用的对象，[`str()`](https://docs.python.org/3/library/stdtypes.html#str)将返回与[`repr()`](https://docs.python.org/3/library/functions.html#repr)相同的值。许多值，如数字或结构，如列表和字典，使用任何一个函数都有相同的表示。特别是字符串，有两种不同的表示方法。"
   ]
  },
  {
   "cell_type": "markdown",
   "id": "2f25c8e6-1f8f-451e-8f79-d97976443e6d",
   "metadata": {},
   "source": [
    "Some examples:"
   ]
  },
  {
   "cell_type": "code",
   "execution_count": 3,
   "id": "5d5de50b-e14a-4933-8592-60a673ce6ac5",
   "metadata": {},
   "outputs": [
    {
     "data": {
      "text/plain": [
       "'Hello world.'"
      ]
     },
     "execution_count": 3,
     "metadata": {},
     "output_type": "execute_result"
    },
    {
     "data": {
      "text/plain": [
       "\"'Hello world.'\""
      ]
     },
     "execution_count": 3,
     "metadata": {},
     "output_type": "execute_result"
    },
    {
     "data": {
      "text/plain": [
       "'0.14285714285714285'"
      ]
     },
     "execution_count": 3,
     "metadata": {},
     "output_type": "execute_result"
    },
    {
     "name": "stdout",
     "output_type": "stream",
     "text": [
      "The value of x is 32.5, and y is 40000...\n",
      "'hello, world\\n'\n"
     ]
    },
    {
     "data": {
      "text/plain": [
       "\"(32.5, 40000, ('spam', 'eggs'))\""
      ]
     },
     "execution_count": 3,
     "metadata": {},
     "output_type": "execute_result"
    }
   ],
   "source": [
    "s = 'Hello world.'\n",
    "\n",
    "str(s)\n",
    "repr(s)\n",
    "\n",
    "str(1/7)\n",
    "\n",
    "x = 10 * 3.25\n",
    "y = 200 * 200\n",
    "s = 'The value of x is ' + repr(x) + ', and y is ' + repr(y) + '...'\n",
    "\n",
    "print(s)\n",
    "\n",
    "# The repr() of a string adds string quotes and backslashes:\n",
    "hello = 'hello, world\\n'\n",
    "hellos = repr(hello)\n",
    "\n",
    "print(hellos)\n",
    "\n",
    "# The argument to repr() may be any Python object:\n",
    "repr((x, y, ('spam', 'eggs')))\n"
   ]
  },
  {
   "cell_type": "markdown",
   "id": "7798aa10-730c-45f1-a584-1f7a72a9b9bb",
   "metadata": {},
   "source": [
    "The [`string`](https://docs.python.org/3/library/string.html#module-string) module contains a [`Template`](https://docs.python.org/3/library/string.html#string.Template) class that offers yet another way to substitute values into strings, using placeholders like `$x` and replacing them with values from a dictionary, but offers much less control of the formatting.\n",
    "\n",
    "> [`string`](https://docs.python.org/3/library/string.html#module-string) 模块包含一个  [`Template`](https://docs.python.org/3/library/string.html#string.Template) 类，它提供了另一种将数值替换成字符串的方法，使用$x这样的占位符，用字典中的数值替换，但对格式化的控制要少得多。"
   ]
  },
  {
   "cell_type": "markdown",
   "id": "0df34912-77f1-4850-a48c-b3fc73470442",
   "metadata": {},
   "source": [
    "### 7.1.1. Formatted String Literals"
   ]
  },
  {
   "cell_type": "markdown",
   "id": "75d40776-7cfc-45a1-bbf2-739f26874fae",
   "metadata": {},
   "source": [
    "[Formatted string literals](https://docs.python.org/3/reference/lexical_analysis.html#f-strings) (also called f-strings for short) let you include the value of Python expressions inside a string by prefixing the string with `f` or `F` and writing expressions as `{expression}`.\n",
    "\n",
    "> [Formatted string literals](https://docs.python.org/3/reference/lexical_analysis.html#f-strings)(也被称为 f-strings) 让你在一个字符串中包含 Python 表达式的值，方法是在字符串前加上 f 或 F，并将表达式写成 `{expression}`。"
   ]
  },
  {
   "cell_type": "markdown",
   "id": "39028b1f-229b-447e-bdf6-acbf8d8f038b",
   "metadata": {},
   "source": [
    "An optional format specifier can follow the expression. This allows greater control over how the value is formatted. The following example rounds pi to three places after the decimal:\n",
    "\n",
    "> 表达式后面可以有一个可选的格式指定器。这允许对值的格式化进行更多的控制。下面的例子是将π四舍五入到小数点后的三个位置："
   ]
  },
  {
   "cell_type": "code",
   "execution_count": 5,
   "id": "4e94b94a-8540-4677-84a0-0f5645d09e2c",
   "metadata": {},
   "outputs": [
    {
     "name": "stdout",
     "output_type": "stream",
     "text": [
      "The value of pi is approximately 3.142.\n",
      "The value of pi is approximately 3.142.\n"
     ]
    }
   ],
   "source": [
    "import math\n",
    "print(f'The value of pi is approximately {math.pi:.3f}.')\n",
    "print(f'The value of pi is approximately {3.14234:.3f}.')"
   ]
  },
  {
   "cell_type": "markdown",
   "id": "3fc8e0bb-737d-43cf-8482-99089985b1d8",
   "metadata": {},
   "source": [
    "Passing an integer after the `':'` will cause that field to be a minimum number of characters wide. This is useful for making columns line up.\n",
    "\n",
    "> 在 `':'` 后面传递一个整数将使该字段的宽度达到最小的字符数。这对于使各列排成一行很有用。"
   ]
  },
  {
   "cell_type": "code",
   "execution_count": 6,
   "id": "7f8134e6-a436-4f21-8412-0449e5cef044",
   "metadata": {},
   "outputs": [
    {
     "name": "stdout",
     "output_type": "stream",
     "text": [
      " Sjoerd     ==>       4127\n",
      " Jack       ==>       4098\n",
      " Dcab       ==>       7678\n"
     ]
    }
   ],
   "source": [
    "table = {'Sjoerd': 4127, 'Jack': 4098, 'Dcab': 7678}\n",
    "\n",
    "for name, phone in table.items():\n",
    "    print(f' {name:10} ==> {phone:10d}')"
   ]
  },
  {
   "cell_type": "markdown",
   "id": "bfc09eae-480b-460f-8b33-e7c588b6ea86",
   "metadata": {},
   "source": [
    "Other modifiers can be used to convert the value before it is formatted. `'!a'` applies [`ascii()`](https://docs.python.org/3/library/functions.html#ascii), `'!s'` applies [`str()`](https://docs.python.org/3/library/stdtypes.html#str), and `'!r'` applies [`repr()`](https://docs.python.org/3/library/functions.html#repr):\n",
    "\n",
    "> 其他修饰符可以用来在格式化前转换数值。`'!a'` 应用[`ascii()`](https://docs.python.org/3/library/functions.html#ascii)，`'!s'` 应用 [`str()`](https://docs.python.org/3/library/stdtypes.html#str)，`'!r'`应用[`repr()`](https://docs.python.org/3/library/functions.html#repr)："
   ]
  },
  {
   "cell_type": "code",
   "execution_count": 2,
   "id": "b4cd7230-33a2-41d5-a843-501f782a5421",
   "metadata": {},
   "outputs": [
    {
     "name": "stdout",
     "output_type": "stream",
     "text": [
      "My hovercraft is full of eels.\n",
      "My hovercraft is full of 'eels'.\n"
     ]
    }
   ],
   "source": [
    "animals = 'eels'\n",
    "\n",
    "print(f'My hovercraft is full of {animals}.')\n",
    "print(f'My hovercraft is full of {animals!r}.')"
   ]
  },
  {
   "cell_type": "markdown",
   "id": "21e8a67c-20a4-4771-8992-40ae01dc688d",
   "metadata": {},
   "source": [
    "For a reference on these format specifications, see the reference guide for the [Format Specification Mini-Language](https://docs.python.org/3/library/string.html#formatspec).\n",
    "\n",
    "> 关于这些格式规范的参考，请参见[格式规范迷你语言](https://docs.python.org/3/library/string.html#formatspec)的参考指南。"
   ]
  },
  {
   "cell_type": "markdown",
   "id": "20c3f219-5735-4b5a-9a5f-ecc9029fb881",
   "metadata": {},
   "source": [
    "Basic usage of the [`str.format()`](https://docs.python.org/3/library/stdtypes.html#str.format) method looks like this:\n",
    "\n",
    "> [`str.format()`](https://docs.python.org/3/library/stdtypes.html#str.format)方法的基本用法是这样的："
   ]
  },
  {
   "cell_type": "code",
   "execution_count": 4,
   "id": "a20f55fb-33dc-41a5-aef3-e76044efd050",
   "metadata": {},
   "outputs": [
    {
     "name": "stdout",
     "output_type": "stream",
     "text": [
      "We are the knights who say \"Ni!\"\n"
     ]
    }
   ],
   "source": [
    "print('We are the {} who say \"{}!\"'.format('knights', 'Ni'))"
   ]
  },
  {
   "cell_type": "markdown",
   "id": "c7bf7f5f-d056-4f37-9890-6395c18faf19",
   "metadata": {},
   "source": [
    "The brackets and characters within them (called format fields) are replaced with the objects passed into the [`str.format()`](https://docs.python.org/3/library/stdtypes.html#str.format) method. A number in the brackets can be used to refer to the position of the object passed into the [`str.format()`](https://docs.python.org/3/library/stdtypes.html#str.format) method.\n",
    "\n",
    "> 大括号和其中的字符（称为格式字段）被替换成传入[`str.format()`](https://docs.python.org/3/library/stdtypes.html#str.format)方法的对象。括号中的数字可以用来指代传入[`str.format()`](https://docs.python.org/3/library/stdtypes.html#str.format)方法的对象的位置。"
   ]
  },
  {
   "cell_type": "code",
   "execution_count": 5,
   "id": "bcedeced-8dce-4728-96b9-ed56b276ce90",
   "metadata": {},
   "outputs": [
    {
     "name": "stdout",
     "output_type": "stream",
     "text": [
      "spam and eggs\n",
      "eggs and spam\n"
     ]
    }
   ],
   "source": [
    "print('{0} and {1}'.format('spam', 'eggs'))\n",
    "\n",
    "print('{1} and {0}'.format('spam', 'eggs'))"
   ]
  },
  {
   "cell_type": "markdown",
   "id": "cf6c5a6a-6975-41bf-809b-2b131e947498",
   "metadata": {},
   "source": [
    "If keyword arguments are used in the [`str.format()`](https://docs.python.org/3/library/stdtypes.html#str.format) method, their values are referred to by using the name of the argument.\n",
    "\n",
    "> 如果在[`str.format()`](https://docs.python.org/3/library/stdtypes.html#str.format)方法中使用了关键字参数，它们的值将通过使用参数的名称来引用。"
   ]
  },
  {
   "cell_type": "code",
   "execution_count": 7,
   "id": "c180d0bd-e6c2-424e-bfb3-913e47664fae",
   "metadata": {},
   "outputs": [
    {
     "name": "stdout",
     "output_type": "stream",
     "text": [
      "This spam is absolutely horrible.\n"
     ]
    }
   ],
   "source": [
    "print('This {food} is {adjective}.'.format(\n",
    "    food = 'spam', adjective = 'absolutely horrible'))"
   ]
  },
  {
   "cell_type": "markdown",
   "id": "87b0f152-5001-409d-a56f-4591a7c3fc37",
   "metadata": {},
   "source": [
    "Positional and keyword arguments can be arbitrarily combined:\n",
    "\n",
    "> 位置参数和关键字参数可以任意组合："
   ]
  },
  {
   "cell_type": "code",
   "execution_count": 8,
   "id": "50f2e6c6-30d4-473c-a514-b4d8e5468461",
   "metadata": {},
   "outputs": [
    {
     "name": "stdout",
     "output_type": "stream",
     "text": [
      "The story of Bill, Manfred, and Georg.\n"
     ]
    }
   ],
   "source": [
    "print('The story of {0}, {1}, and {other}.'.format('Bill', 'Manfred',\n",
    "                                                   other='Georg'))"
   ]
  },
  {
   "cell_type": "markdown",
   "id": "874f2141-d6e3-43f3-86eb-5a61fae9f787",
   "metadata": {},
   "source": [
    "If you have a really long format string that you don’t want to split up, it would be nice if you could reference the variables to be formatted by name instead of by position. This can be done by simply passing the dict and using square brackets `'[]'` to access the keys.\n",
    "\n",
    "> 如果你有一个非常长的格式化字符串，你不想把它拆开，如果你能通过名字而不是位置来引用要格式化的变量，那就更好了。这可以通过简单地传递dict和使用方括号`'[]'`来访问键来实现。"
   ]
  },
  {
   "cell_type": "code",
   "execution_count": 9,
   "id": "6ccddf2f-2b17-43c8-ae85-a0e894fe00b3",
   "metadata": {},
   "outputs": [
    {
     "name": "stdout",
     "output_type": "stream",
     "text": [
      "Jack: 4098; Sjoerd: 4127; Dcab: 8637678\n"
     ]
    }
   ],
   "source": [
    "table = {'Sjoerd': 4127, 'Jack': 4098, 'Dcab': 8637678}\n",
    "print('Jack: {0[Jack]:d}; Sjoerd: {0[Sjoerd]:d}; '\n",
    "      'Dcab: {0[Dcab]:d}'.format(table))"
   ]
  },
  {
   "cell_type": "markdown",
   "id": "e2998b7f-3bd0-41d3-8b56-18388006b184",
   "metadata": {},
   "source": [
    "This is particularly useful in combination with the built-in function [`vars()`](https://docs.python.org/3/library/functions.html#vars), which returns a dictionary containing all local variables.\n",
    "\n",
    "As an example, the following lines produce a tidily-aligned set of columns giving integers and their squares and cubes:\n",
    "\n",
    "> 这与内置函数[`vars()`](https://docs.python.org/3/library/functions.html#vars)结合起来特别有用，它返回一个包含所有局部变量的字典。\n",
    ">\n",
    "> 作为一个例子，下面几行产生了一个整齐排列的列，给出了整数和它们的平方和立方："
   ]
  },
  {
   "cell_type": "code",
   "execution_count": 12,
   "id": "82c5bfd4-5beb-43d6-9a53-e022d083c666",
   "metadata": {},
   "outputs": [
    {
     "name": "stdout",
     "output_type": "stream",
     "text": [
      " 1   1    1\n",
      " 2   4    8\n",
      " 3   9   27\n",
      " 4  16   64\n",
      " 5  25  125\n",
      " 6  36  216\n",
      " 7  49  343\n",
      " 8  64  512\n",
      " 9  81  729\n",
      "10 100 1000\n"
     ]
    }
   ],
   "source": [
    "for x in range(1, 11):\n",
    "    print('{0:2d} {1:3d} {2:4d}'.format(x, x*x, x*x*x))"
   ]
  },
  {
   "cell_type": "markdown",
   "id": "b4646468-8cfe-47b2-b5d7-10236686f7e6",
   "metadata": {},
   "source": [
    "For a complete overview of string formatting with [`str.format()`](https://docs.python.org/3/library/stdtypes.html#str.format), see [Format String Syntax](https://docs.python.org/3/library/string.html#formatstrings).\n",
    "\n",
    "> 关于用[`str.format()`](https://docs.python.org/3/library/stdtypes.html#str.format)进行字符串格式化的完整概述，见[格式化字符串语法](https://docs.python.org/3/library/string.html#formatstrings)。"
   ]
  },
  {
   "cell_type": "markdown",
   "id": "02a8d8e8-0260-4d07-aa88-4bd9186d804c",
   "metadata": {},
   "source": [
    "### 7.1.3. Manual String Formatting"
   ]
  },
  {
   "cell_type": "markdown",
   "id": "f3d3563d-cacd-42ba-884a-a8e942e135f5",
   "metadata": {},
   "source": [
    "Here’s the same table of squares and cubes, formatted manually:\n",
    "\n",
    "> 下面是同样的正方形和长方体表格，手动格式化："
   ]
  },
  {
   "cell_type": "code",
   "execution_count": 3,
   "id": "372b8809-b115-4b9b-993d-ca4fc4c2c0be",
   "metadata": {},
   "outputs": [
    {
     "name": "stdout",
     "output_type": "stream",
     "text": [
      " 1   1    1\n",
      " 2   4    8\n",
      " 3   9   27\n",
      " 4  16   64\n",
      " 5  25  125\n",
      " 6  36  216\n",
      " 7  49  343\n",
      " 8  64  512\n",
      " 9  81  729\n",
      "10 100 1000\n"
     ]
    }
   ],
   "source": [
    "for x in range(1, 11):\n",
    "    print(repr(x).rjust(2), repr(x*x).rjust(3), end=' ')\n",
    "    # Note use of 'end' on previous line\n",
    "    print(repr(x*x*x).rjust(4))"
   ]
  },
  {
   "cell_type": "markdown",
   "id": "1f390a72-e3a2-4faa-bd27-411ba46f8a2f",
   "metadata": {},
   "source": [
    "The [`str.rjust()`](https://docs.python.org/3/library/stdtypes.html#str.rjust) method of string objects right-justifies a string in a field of a given width by padding it with spaces on the left. There are similar methods [`str.ljust()`](https://docs.python.org/3/library/stdtypes.html#str.ljust) and [`str.center()`](https://docs.python.org/3/library/stdtypes.html#str.center). These methods do not write anything, they just return a new string. If the input string is too long, they don’t truncate it, but return it unchanged; this will mess up your column lay-out but that’s usually better than the alternative, which would be lying about a value. (If you really want truncation you can always add a slice operation, as in `x.ljust(n)[:n]`.)\n",
    "\n",
    "> 字符串对象的[`str.rjust()`](https://docs.python.org/3/library/stdtypes.html#str.rjust)方法通过在左边填充空格，在指定宽度的区域内对字符串进行右调整。还有类似的方法[`str.ljust()`](https://docs.python.org/3/library/stdtypes.html#str.ljust)和[`str.center()`](https://docs.python.org/3/library/stdtypes.html#str.center) 。这些方法不写任何东西，它们只是返回一个新的字符串。如果输入的字符串太长，它们不会截断它，而是原封不动地返回；这将弄乱你的列的布局，但这通常比另一种选择要好，因为后者会骗取一个值。(如果你真的想截断，你总是可以添加一个切片操作，如`x.ljust(n)[:n]`。)"
   ]
  },
  {
   "cell_type": "markdown",
   "id": "c6530b90-bf04-4c10-afd2-4fc1203dc963",
   "metadata": {},
   "source": [
    "There is another method, [`str.zfill()`](https://docs.python.org/3/library/stdtypes.html#str.zfill), which pads a numeric string on the left with zeros. It understands about plus and minus signs:\n",
    "\n",
    "> 还有一个方法，[`str.zfill()`](https://docs.python.org/3/library/stdtypes.html#str.zfill)，它在数字字符串的左边用零填充。它了解加号和减号的情况。"
   ]
  },
  {
   "cell_type": "code",
   "execution_count": 4,
   "id": "4b85a961-8c9e-49be-aa8b-92da2c740ea2",
   "metadata": {},
   "outputs": [
    {
     "data": {
      "text/plain": [
       "'00012'"
      ]
     },
     "execution_count": 4,
     "metadata": {},
     "output_type": "execute_result"
    },
    {
     "data": {
      "text/plain": [
       "'-003.14'"
      ]
     },
     "execution_count": 4,
     "metadata": {},
     "output_type": "execute_result"
    },
    {
     "data": {
      "text/plain": [
       "'3.14159265359'"
      ]
     },
     "execution_count": 4,
     "metadata": {},
     "output_type": "execute_result"
    }
   ],
   "source": [
    "'12'.zfill(5)\n",
    "\n",
    "'-3.14'.zfill(7)\n",
    "\n",
    "'3.14159265359'.zfill(5)"
   ]
  },
  {
   "cell_type": "markdown",
   "id": "76b7284a-2d0b-459c-ba9b-b8e940ea55c6",
   "metadata": {},
   "source": [
    "### 7.1.4. Old string formatting"
   ]
  },
  {
   "cell_type": "markdown",
   "id": "ef18a03e-3751-4a01-8136-baad30b3734a",
   "metadata": {},
   "source": [
    "The % operator (modulo) can also be used for string formatting. Given `'string' % values`, instances of `%` in `string` are replaced with zero or more elements of `values`. This operation is commonly known as string interpolation. For example:\n",
    "\n",
    "> ％运算符（modulo）也可用于字符串格式化。给定 `'string' % values` ，`string` 中 `%` 的实例被替换为0个或更多元素的 `values`。这种操作通常被称为字符串插值。例如："
   ]
  },
  {
   "cell_type": "code",
   "execution_count": 5,
   "id": "7956a2b7-86c0-4581-871c-09f5aacbc33c",
   "metadata": {},
   "outputs": [
    {
     "name": "stdout",
     "output_type": "stream",
     "text": [
      "The value of pi is approximately 3.142.\n"
     ]
    }
   ],
   "source": [
    "import math\n",
    "print('The value of pi is approximately %5.3f.' % math.pi)"
   ]
  },
  {
   "cell_type": "markdown",
   "id": "9a965806-9fb3-49eb-b138-0cddcfbc9730",
   "metadata": {},
   "source": [
    "More information can be found in the [printf-style String Formatting](https://docs.python.org/3/library/stdtypes.html#old-string-formatting) section.\n",
    "\n",
    "> 更多信息可以在[printf-style字符串格式化](https://docs.python.org/3/library/stdtypes.html#old-string-formatting)部分找到。"
   ]
  },
  {
   "cell_type": "markdown",
   "id": "7feb9f5b-328d-46b1-b7bc-c451ce3a8192",
   "metadata": {},
   "source": [
    "## 7.2. Reading and Writing Files"
   ]
  },
  {
   "cell_type": "markdown",
   "id": "7aaf5f46-956f-404c-94ae-622d2c41897b",
   "metadata": {},
   "source": [
    "[`open()`](https://docs.python.org/3/library/functions.html#open) returns a [file object](https://docs.python.org/3/glossary.html#term-file-object), and is most commonly used with two positional arguments and one keyword argument: `open(filename, mode, encoding=None)`\n",
    "\n",
    "> [`open()`](https://docs.python.org/3/library/functions.html#open)返回一个[文件对象](https://docs.python.org/3/glossary.html#term-file-object)，最常用的是两个位置参数和一个关键字参数： `open(filename, mode, encoding=None)`。"
   ]
  },
  {
   "cell_type": "code",
   "execution_count": 8,
   "id": "6e883dc8-a743-41a0-992d-ea416097f0fe",
   "metadata": {},
   "outputs": [
    {
     "data": {
      "text/plain": [
       "<_io.TextIOWrapper name='fibo.py' mode='w' encoding='utf-8'>"
      ]
     },
     "execution_count": 8,
     "metadata": {},
     "output_type": "execute_result"
    }
   ],
   "source": [
    "f = open('fibo.py', 'w', encoding=\"utf-8\")\n",
    "f"
   ]
  },
  {
   "cell_type": "code",
   "execution_count": 10,
   "id": "7b55b04f-dc95-47a3-a7fb-e1c0080deffa",
   "metadata": {},
   "outputs": [
    {
     "data": {
      "text/plain": [
       "True"
      ]
     },
     "execution_count": 10,
     "metadata": {},
     "output_type": "execute_result"
    },
    {
     "data": {
      "text/plain": [
       "<_io.TextIOWrapper name='fibo.py' mode='w' encoding='utf-8'>"
      ]
     },
     "execution_count": 10,
     "metadata": {},
     "output_type": "execute_result"
    }
   ],
   "source": [
    "f.closed\n",
    "f"
   ]
  },
  {
   "cell_type": "markdown",
   "id": "465040a0-1d79-44d8-aa14-33c5a6bcd53e",
   "metadata": {},
   "source": [
    "The first argument is a string containing the filename. The second argument is another string containing a few characters describing the way in which the file will be used. *mode* can be `'r'` when the file will only be read, `'w'` for only writing (an existing file with the same name will be erased), and `'a'` opens the file for appending; any data written to the file is automatically added to the end. `'r+'` opens the file for both reading and writing. The *mode* argument is optional; `'r'` will be assumed if it’s omitted.\n",
    "\n",
    "> 第一个参数是一个包含文件名的字符串。第二个参数是另一个字符串，包含一些描述文件使用方式的字符。*mode*可以是`'r'`当文件只被读取时，`'w'`只被写入（现有的同名文件将被删除），`'a'`打开文件进行追加；任何写入文件的数据将自动添加到结尾。`'r+'` 打开的文件既可以读也可以写。参数*mode*是可选的；如果省略的话，将被假定为 `'r'` 。"
   ]
  },
  {
   "cell_type": "markdown",
   "id": "66ec3ad4-d79f-4373-a684-a68c573ef530",
   "metadata": {},
   "source": [
    "Normally, files are opened in *text mode*, that means, you read and write strings from and to the file, which are encoded in a specific *encoding*. If *encoding* is not specified, the default is platform dependent (see [`open()`](https://docs.python.org/3/library/functions.html#open)). Because UTF-8 is the modern de-facto standard, `encoding=\"utf-8\"` is recommended unless you know that you need to use a different encoding. Appending a `'b'` to the mode opens the file in *binary mode*. Binary mode data is read and written as [`bytes`](https://docs.python.org/3/library/stdtypes.html#bytes) objects. You can not specify *encoding* when opening file in binary mode.\n",
    "\n",
    "> 通常情况下，文件是以*文本模式*打开的，也就是说，你从文件中读写字符串，这些字符串是以特定的*encoding*编码的。如果没有指定*encoding*，默认值取决于平台（见[`open()`](https://docs.python.org/3/library/functions.html#open)）。因为UTF-8是现代事实上的标准，`encoding=\"utf-8\"`被推荐使用，除非你知道你需要使用不同的编码。在模式上附加一个`'b'`，可以在*二进制模式*下打开文件。二进制模式的数据是作为[`bytes`](https://docs.python.org/3/library/stdtypes.html#bytes)对象来读写的。在二进制模式下打开文件时，你不能指定*编码*。"
   ]
  },
  {
   "cell_type": "markdown",
   "id": "81d04963-7c4c-4a8f-8384-987cd3ae9418",
   "metadata": {},
   "source": [
    "In text mode, the default when reading is to convert platform-specific line endings (`\\n` on Unix, `\\r\\n` on Windows) to just `\\n`. When writing in text mode, the default is to convert occurrences of `\\n` back to platform-specific line endings. This behind-the-scenes modification to file data is fine for text files, but will corrupt binary data like that in `JPEG` or `EXE` files. Be very careful to use binary mode when reading and writing such files.\n",
    "\n",
    "> 在文本模式下，阅读时默认是将特定平台的行尾（Unix上的`\\n`，Windows上的`\\r\\n`）转换为仅仅`\\n`。在文本模式下写入时，默认情况是将出现的 `\\n` 转换为平台特定的行结束语。这种对文件数据的幕后修改对文本文件来说是好的，但会破坏二进制数据，如 `JPEG` 或 `EXE` 文件中的数据。在读和写这类文件时，要非常小心地使用二进制模式。"
   ]
  },
  {
   "cell_type": "markdown",
   "id": "7ae51d8e-4146-4438-b08e-24336c7d2b0b",
   "metadata": {},
   "source": [
    "It is good practice to use the [`with`](https://docs.python.org/3/reference/compound_stmts.html#with) keyword when dealing with file objects. The advantage is that the file is properly closed after its suite finishes, even if an exception is raised at some point. Using `with` is also much shorter than writing equivalent [`try`](https://docs.python.org/3/reference/compound_stmts.html#try)-[`finally`](https://docs.python.org/3/reference/compound_stmts.html#finally) blocks:\n",
    "\n",
    "> 在处理文件对象时，使用[`with`](https://docs.python.org/3/reference/compound_stmts.html#with)关键字是一个好的做法。这样做的好处是，文件在其套件完成后会被正确地关闭，即使在某个时候出现了异常。使用`with`也比写同等的[`try`](https://docs.python.org/3/reference/compound_stmts.html#try)-[`finally`](https://docs.python.org/3/reference/compound_stmts.html#finally)块要短很多。"
   ]
  },
  {
   "cell_type": "code",
   "execution_count": 14,
   "id": "0b6bf341-6c87-45e8-9475-ecf07e062fb9",
   "metadata": {},
   "outputs": [
    {
     "data": {
      "text/plain": [
       "''"
      ]
     },
     "execution_count": 14,
     "metadata": {},
     "output_type": "execute_result"
    },
    {
     "data": {
      "text/plain": [
       "True"
      ]
     },
     "execution_count": 14,
     "metadata": {},
     "output_type": "execute_result"
    }
   ],
   "source": [
    "with open('fibo.py', encoding=\"utf-8\") as f:\n",
    "    read_data = f.read()\n",
    "    \n",
    "read_data\n",
    "\n",
    "\n",
    "# we can check that the file has been automatically closed.\n",
    "f.closed"
   ]
  },
  {
   "cell_type": "markdown",
   "id": "2e1ab619-a9a8-4484-96d6-722878271c1e",
   "metadata": {},
   "source": [
    "If you’re not using the [`with`](https://docs.python.org/3/reference/compound_stmts.html#with) keyword, then you should call `f.close()` to close the file and immediately free up any system resources used by it.\n",
    "\n",
    "> 如果你没有使用[`with`](https://docs.python.org/3/reference/compound_stmts.html#with)关键字，那么你应该调用`f.close()`来关闭文件并立即释放它所使用的任何系统资源。"
   ]
  },
  {
   "cell_type": "markdown",
   "id": "f1aa9979-b4e8-4c5b-b92f-10606e7adcf0",
   "metadata": {},
   "source": [
    "**Warning:** Calling `f.write()` without using the `with` keyword or calling `f.close()` **might** result in the arguments of `f.write()` not being completely written to the disk, even if the program exits successfully.\n",
    "\n",
    "> **警告：**调用`f.write()`而不使用`with`关键字或调用`f.close()`**可能**会导致`f.write()`的参数没有被完全写入磁盘，即使程序成功退出。"
   ]
  },
  {
   "cell_type": "markdown",
   "id": "d533fdb3-acba-4927-ab3d-8a03e78f6e03",
   "metadata": {},
   "source": [
    "After a file object is closed, either by a [`with`](https://docs.python.org/3/reference/compound_stmts.html#with) statement or by calling `f.close()`, attempts to use the file object will automatically fail.\n",
    "\n",
    "> 当一个文件对象被关闭后，无论是通过[`with`](https://docs.python.org/3/reference/compound_stmts.html#with)语句还是通过调用`f.close()`，试图使用文件对象将自动失败。"
   ]
  },
  {
   "cell_type": "code",
   "execution_count": 17,
   "id": "df62d933-c9cd-4005-b152-12d54d45dcac",
   "metadata": {},
   "outputs": [
    {
     "data": {
      "text/plain": [
       "<_io.TextIOWrapper name='fibo.py' mode='r' encoding='utf-8'>"
      ]
     },
     "execution_count": 17,
     "metadata": {},
     "output_type": "execute_result"
    }
   ],
   "source": [
    "f.close()\n",
    "f\n",
    "\n",
    "# f.read() this will raise \"ValueError: I/O operation on closed file.\""
   ]
  },
  {
   "cell_type": "markdown",
   "id": "4b33fa91-c9ed-45da-a71e-d42c27073675",
   "metadata": {},
   "source": [
    "### 7.2.1. Methods of File Objects"
   ]
  },
  {
   "cell_type": "markdown",
   "id": "79ce8078-912b-4c56-a0ab-91e68b0a79fd",
   "metadata": {},
   "source": [
    "The rest of the examples in this section will assume that a file object called `f` has already been created.\n",
    "\n",
    "> 本节其余的例子将假设已经创建了一个名为`f`的文件对象。"
   ]
  },
  {
   "cell_type": "markdown",
   "id": "08b2bed5-4732-4a60-b551-7558ae2497eb",
   "metadata": {},
   "source": [
    "To read a file’s contents, call `f.read(size)`, which reads some quantity of data and returns it as a string (in text mode) or bytes object (in binary mode). *size* is an optional numeric argument. When *size* is omitted or negative, the entire contents of the file will be read and returned; it’s your problem if the file is twice as large as your machine’s memory. Otherwise, at most *size* characters (in text mode) or *size* bytes (in binary mode) are read and returned. If the end of the file has been reached, `f.read()` will return an empty string (`''`).\n",
    "\n",
    "> 要读取一个文件的内容，可以调用`f.read(size)`，它读取一些数据量并以字符串（文本模式）或字节对象（二进制模式）的形式返回。*size*是一个可选的数字参数。当*size*被省略或为负数时，文件的全部内容将被读取并返回；如果文件的大小是你的机器内存的两倍，那就是你的问题。否则，最多读取并返回*size*字符（文本模式）或*size*字节（二进制模式）。如果文件已经到了尽头，`f.read()`将返回一个空字符串（`''`）。"
   ]
  },
  {
   "cell_type": "code",
   "execution_count": 11,
   "id": "a3a84a77-dd67-49a9-9aca-68f53dd18bd0",
   "metadata": {},
   "outputs": [
    {
     "data": {
      "text/plain": [
       "\"def fib(n):    # write Fibonacci series up to n\\n    a, b = 0, 1\\n    while a < n:\\n        print(a, end=' ')\\n        a, b = b, a+b\\n    print()\\n\\ndef fib2(n):   # return Fibonacci series up to n\\n    result = []\\n    a, b = 0, 1\\n    while a < n:\\n        result.append(a)\\n        a, b = b, a+b\\n    return result\""
      ]
     },
     "execution_count": 11,
     "metadata": {},
     "output_type": "execute_result"
    },
    {
     "data": {
      "text/plain": [
       "''"
      ]
     },
     "execution_count": 11,
     "metadata": {},
     "output_type": "execute_result"
    }
   ],
   "source": [
    "with open('fibo.py', 'r+',  encoding=\"utf-8\") as f:\n",
    "    f.read()\n",
    "    f.read()    # reach the end\n"
   ]
  },
  {
   "cell_type": "markdown",
   "id": "e2114404-c380-4eb2-a059-8d6cbb7c0e6e",
   "metadata": {},
   "source": [
    "`f.readline()` reads a single line from the file; a newline character (`\\n`) is left at the end of the string, and is only omitted on the last line of the file if the file doesn’t end in a newline. This makes the return value unambiguous; if `f.readline()` returns an empty string, the end of the file has been reached, while a blank line is represented by `'\\n'`, a string containing only a single newline.\n",
    "\n",
    "> `f.readline()`从文件中读出一行；一个换行符（`\\n`）被留在字符串的末尾，如果文件没有在换行符结束，则只在文件的最后一行省略。这使得返回值毫不含糊；如果`f.readline()`返回一个空字符串，说明已经到达了文件的末尾，而空行则由 `'\\n'` 表示，一个只包含一个换行符的字符串。"
   ]
  },
  {
   "cell_type": "code",
   "execution_count": 16,
   "id": "0c8530b8-0e5b-4afb-8fc8-a967cf7f49ad",
   "metadata": {},
   "outputs": [
    {
     "data": {
      "text/plain": [
       "'What keeps us healthy and happy as we go through life?\\n'"
      ]
     },
     "execution_count": 16,
     "metadata": {},
     "output_type": "execute_result"
    },
    {
     "data": {
      "text/plain": [
       "'\\n'"
      ]
     },
     "execution_count": 16,
     "metadata": {},
     "output_type": "execute_result"
    },
    {
     "data": {
      "text/plain": [
       "'If you were going to invest now\\n'"
      ]
     },
     "execution_count": 16,
     "metadata": {},
     "output_type": "execute_result"
    },
    {
     "data": {
      "text/plain": [
       "'\\n'"
      ]
     },
     "execution_count": 16,
     "metadata": {},
     "output_type": "execute_result"
    }
   ],
   "source": [
    "with open('what makes a good life.txt', 'r', encoding=\"utf-8\") as f:\n",
    "    f.readline()\n",
    "    f.readline()\n",
    "    f.readline()\n",
    "    f.readline()"
   ]
  },
  {
   "cell_type": "markdown",
   "id": "e759b280-cecd-408c-950b-6bb06cb1eef8",
   "metadata": {},
   "source": [
    "For reading lines from a file, you can loop over the file object. This is memory efficient, fast, and leads to simple code:\n",
    "\n",
    "> 对于从文件中读行，你可以在文件对象上循环。这对内存是有效的，快速的，并导向了简单的代码："
   ]
  },
  {
   "cell_type": "code",
   "execution_count": 22,
   "id": "00ea8074-979e-4d16-a36d-456fa42eb4bd",
   "metadata": {
    "collapsed": true,
    "jupyter": {
     "outputs_hidden": true
    },
    "tags": []
   },
   "outputs": [
    {
     "name": "stdout",
     "output_type": "stream",
     "text": [
      "What keeps us healthy and happy as we go through life?\n",
      " \n",
      " If you were going to invest now\n",
      " \n",
      " in your future best self,\n",
      " \n",
      " where would you put your time\n",
      " and your energy?\n",
      " \n",
      " There was a recent survey of millennials\n",
      " \n",
      " asking them what their\n",
      " most important life goals were,\n",
      " \n",
      " and over 80 percent said\n",
      " \n",
      " that a major life goal for them\n",
      " was to get rich.\n",
      " \n",
      " And another 50 percent\n",
      " of those same young adults\n",
      " \n",
      " said that another major life goal\n",
      " \n",
      " was to become famous.\n",
      " \n",
      " (Laughter)\n",
      " \n",
      " And we're constantly told\n",
      " to lean in to work, to push harder\n",
      " \n",
      " and achieve more.\n",
      " \n",
      " We're given the impression that these\n",
      " are the things that we need to go after\n",
      " \n",
      " in order to have a good life.\n",
      " \n",
      " Pictures of entire lives,\n",
      " \n",
      " of the choices that people make\n",
      " and how those choices work out for them,\n",
      " \n",
      " those pictures\n",
      " are almost impossible to get.\n",
      " \n",
      " Most of what we know about human life\n",
      " \n",
      " we know from asking people\n",
      " to remember the past,\n",
      " \n",
      " and as we know, hindsight\n",
      " is anything but 20/20.\n",
      " \n",
      " We forget vast amounts\n",
      " of what happens to us in life,\n",
      " \n",
      " and sometimes memory\n",
      " is downright creative.\n",
      " \n",
      " But what if we could watch entire lives\n",
      " \n",
      " as they unfold through time?\n",
      " \n",
      " What if we could study people\n",
      " from the time that they were teenagers\n",
      " \n",
      " all the way into old age\n",
      " \n",
      " to see what really keeps people\n",
      " happy and healthy?\n",
      " \n",
      " We did that.\n",
      " \n",
      " The Harvard Study of Adult Development\n",
      " \n",
      " may be the longest study\n",
      " of adult life that's ever been done.\n",
      " \n",
      " For 75 years, we've tracked\n",
      " the lives of 724 men,\n",
      " \n",
      " year after year, asking about their work,\n",
      " their home lives, their health,\n",
      " \n",
      " and of course asking all along the way\n",
      " without knowing how their life stories\n",
      " \n",
      " were going to turn out.\n",
      " \n",
      " Studies like this are exceedingly rare.\n",
      " \n",
      " Almost all projects of this kind\n",
      " fall apart within a decade\n",
      " \n",
      " because too many people\n",
      " drop out of the study,\n",
      " \n",
      " or funding for the research dries up,\n",
      " \n",
      " or the researchers get distracted,\n",
      " \n",
      " or they die, and nobody moves the ball\n",
      " further down the field.\n",
      " \n",
      " But through a combination of luck\n",
      " \n",
      " and the persistence\n",
      " of several generations of researchers,\n",
      " \n",
      " this study has survived.\n",
      " \n",
      " About 60 of our original 724 men\n",
      " \n",
      " are still alive,\n",
      " \n",
      " still participating in the study,\n",
      " \n",
      " most of them in their 90s.\n",
      " \n",
      " And we are now beginning to study\n",
      " \n",
      " the more than 2,000 children of these men.\n",
      " \n",
      " And I'm the fourth director of the study.\n",
      " \n",
      " Since 1938, we've tracked the lives\n",
      " of two groups of men.\n",
      " \n",
      " The first group started in the study\n",
      " \n",
      " when they were sophomores\n",
      " at Harvard College.\n",
      " \n",
      " They all finished college\n",
      " during World War II,\n",
      " \n",
      " and then most went off\n",
      " to serve in the war.\n",
      " \n",
      " And the second group that we've followed\n",
      " \n",
      " was a group of boys\n",
      " from Boston's poorest neighborhoods,\n",
      " \n",
      " boys who were chosen for the study\n",
      " \n",
      " specifically because they were\n",
      " from some of the most troubled\n",
      " \n",
      " and disadvantaged families\n",
      " \n",
      " in the Boston of the 1930s.\n",
      " \n",
      " Most lived in tenements,\n",
      " many without hot and cold running water.\n",
      " \n",
      " When they entered the study,\n",
      " \n",
      " all of these teenagers were interviewed.\n",
      " \n",
      " They were given medical exams.\n",
      " \n",
      " We went to their homes\n",
      " and we interviewed their parents.\n",
      " \n",
      " And then these teenagers\n",
      " grew up into adults\n",
      " \n",
      " who entered all walks of life.\n",
      " \n",
      " They became factory workers and lawyers\n",
      " and bricklayers and doctors,\n",
      " \n",
      " one President of the United States.\n",
      " \n",
      " Some developed alcoholism.\n",
      " A few developed schizophrenia.\n",
      " \n",
      " Some climbed the social ladder\n",
      " \n",
      " from the bottom\n",
      " all the way to the very top,\n",
      " \n",
      " and some made that journey\n",
      " in the opposite direction.\n",
      " \n",
      " The founders of this study\n",
      " \n",
      " would never in their wildest dreams\n",
      " \n",
      " have imagined that I would be\n",
      " standing here today, 75 years later,\n",
      " \n",
      " telling you that\n",
      " the study still continues.\n",
      " \n",
      " Every two years, our patient\n",
      " and dedicated research staff\n",
      " \n",
      " calls up our men\n",
      " and asks them if we can send them\n",
      " \n",
      " yet one more set of questions\n",
      " about their lives.\n",
      " \n",
      " Many of the inner city Boston men ask us,\n",
      " \n",
      " \"Why do you keep wanting to study me?\n",
      " My life just isn't that interesting.\"\n",
      " \n",
      " The Harvard men never ask that question.\n",
      " \n",
      " (Laughter)\n",
      " \n",
      " To get the clearest picture\n",
      " of these lives,\n",
      " \n",
      " we don't just send them questionnaires.\n",
      " \n",
      " We interview them in their living rooms.\n",
      " \n",
      " We get their medical records\n",
      " from their doctors.\n",
      " \n",
      " We draw their blood, we scan their brains,\n",
      " \n",
      " we talk to their children.\n",
      " \n",
      " We videotape them talking with their wives\n",
      " about their deepest concerns.\n",
      " \n",
      " And when, about a decade ago,\n",
      " we finally asked the wives\n",
      " \n",
      " if they would join us\n",
      " as members of the study,\n",
      " \n",
      " many of the women said,\n",
      " \"You know, it's about time.\"\n",
      " \n",
      " (Laughter)\n",
      " \n",
      " So what have we learned?\n",
      " \n",
      " What are the lessons that come\n",
      " from the tens of thousands of pages\n",
      " \n",
      " of information that we've generated\n",
      " \n",
      " on these lives?\n",
      " \n",
      " Well, the lessons aren't about wealth\n",
      " or fame or working harder and harder.\n",
      " \n",
      " The clearest message that we get\n",
      " from this 75-year study is this:\n",
      " \n",
      " Good relationships keep us\n",
      " happier and healthier. Period.\n",
      " \n",
      " We've learned three big lessons\n",
      " about relationships.\n",
      " \n",
      " The first is that social connections\n",
      " are really good for us,\n",
      " \n",
      " and that loneliness kills.\n",
      " \n",
      " It turns out that people\n",
      " who are more socially connected\n",
      " \n",
      " to family, to friends, to community,\n",
      " \n",
      " are happier, they're physically healthier,\n",
      " and they live longer\n",
      " \n",
      " than people who are less well connected.\n",
      " \n",
      " And the experience of loneliness\n",
      " turns out to be toxic.\n",
      " \n",
      " People who are more isolated\n",
      " than they want to be from others\n",
      " \n",
      " find that they are less happy,\n",
      " \n",
      " their health declines earlier in midlife,\n",
      " \n",
      " their brain functioning declines sooner\n",
      " \n",
      " and they live shorter lives\n",
      " than people who are not lonely.\n",
      " \n",
      " And the sad fact\n",
      " is that at any given time,\n",
      " \n",
      " more than one in five Americans\n",
      " will report that they're lonely.\n",
      " \n",
      " And we know that you\n",
      " can be lonely in a crowd\n",
      " \n",
      " and you can be lonely in a marriage,\n",
      " \n",
      " so the second big lesson that we learned\n",
      " \n",
      " is that it's not just\n",
      " the number of friends you have,\n",
      " \n",
      " and it's not whether or not\n",
      " you're in a committed relationship,\n",
      " \n",
      " but it's the quality\n",
      " of your close relationships that matters.\n",
      " \n",
      " It turns out that living in the midst\n",
      " of conflict is really bad for our health.\n",
      " \n",
      " High-conflict marriages, for example,\n",
      " without much affection,\n",
      " \n",
      " turn out to be very bad for our health,\n",
      " perhaps worse than getting divorced.\n",
      " \n",
      " And living in the midst of good,\n",
      " warm relationships is protective.\n",
      " \n",
      " Once we had followed our men\n",
      " all the way into their 80s,\n",
      " \n",
      " we wanted to look back at them at midlife\n",
      " \n",
      " and to see if we could predict\n",
      " \n",
      " who was going to grow\n",
      " into a happy, healthy octogenarian\n",
      " \n",
      " and who wasn't.\n",
      " \n",
      " And when we gathered together\n",
      " everything we knew about them\n",
      " \n",
      " at age 50,\n",
      " \n",
      " it wasn't their middle age\n",
      " cholesterol levels\n",
      " \n",
      " that predicted how they\n",
      " were going to grow old.\n",
      " \n",
      " It was how satisfied they were\n",
      " in their relationships.\n",
      " \n",
      " The people who were the most satisfied\n",
      " in their relationships at age 50\n",
      " \n",
      " were the healthiest at age 80.\n",
      " \n",
      " And good, close relationships\n",
      " seem to buffer us\n",
      " \n",
      " from some of the slings and arrows\n",
      " of getting old.\n",
      " \n",
      " Our most happily partnered men and women\n",
      " \n",
      " reported, in their 80s,\n",
      " \n",
      " that on the days\n",
      " when they had more physical pain,\n",
      " \n",
      " their mood stayed just as happy.\n",
      " \n",
      " But the people who were\n",
      " in unhappy relationships,\n",
      " \n",
      " on the days when they\n",
      " reported more physical pain,\n",
      " \n",
      " it was magnified by more emotional pain.\n",
      " \n",
      " And the third big lesson that we learned\n",
      " about relationships and our health\n",
      " \n",
      " is that good relationships\n",
      " don't just protect our bodies,\n",
      " \n",
      " they protect our brains.\n",
      " \n",
      " It turns out that being\n",
      " in a securely attached relationship\n",
      " \n",
      " to another person in your 80s\n",
      " is protective,\n",
      " \n",
      " that the people who are in relationships\n",
      " \n",
      " where they really feel they can count\n",
      " on the other person in times of need,\n",
      " \n",
      " those people's memories\n",
      " stay sharper longer.\n",
      " \n",
      " And the people in relationships\n",
      " \n",
      " where they feel they really\n",
      " can't count on the other one,\n",
      " \n",
      " those are the people who experience\n",
      " earlier memory decline.\n",
      " \n",
      " And those good relationships,\n",
      " they don't have to be smooth all the time.\n",
      " \n",
      " Some of our octogenarian couples\n",
      " could bicker with each other\n",
      " \n",
      " day in and day out,\n",
      " \n",
      " but as long as they felt that they\n",
      " could really count on the other\n",
      " \n",
      " when the going got tough,\n",
      " \n",
      " those arguments didn't take a toll\n",
      " on their memories.\n",
      " \n",
      " So this message,\n",
      " \n",
      " that good, close relationships\n",
      " are good for our health and well-being,\n",
      " \n",
      " this is wisdom that's as old as the hills.\n",
      " \n",
      " Why is this so hard to get\n",
      " and so easy to ignore?\n",
      " \n",
      " Well, we're human.\n",
      " \n",
      " What we'd really like is a quick fix,\n",
      " \n",
      " something we can get\n",
      " \n",
      " that'll make our lives good\n",
      " and keep them that way.\n",
      " \n",
      " Relationships are messy\n",
      " and they're complicated\n",
      " \n",
      " and the hard work of tending\n",
      " to family and friends,\n",
      " \n",
      " it's not sexy or glamorous.\n",
      " \n",
      " It's also lifelong. It never ends.\n",
      " \n",
      " The people in our 75-year study\n",
      " who were the happiest in retirement\n",
      " \n",
      " were the people who had actively worked\n",
      " to replace workmates with new playmates.\n",
      " \n",
      " Just like the millennials\n",
      " in that recent survey,\n",
      " \n",
      " many of our men when they\n",
      " were starting out as young adults\n",
      " \n",
      " really believed that fame and wealth\n",
      " and high achievement\n",
      " \n",
      " were what they needed to go after\n",
      " to have a good life.\n",
      " \n",
      " But over and over, over these 75 years,\n",
      " our study has shown\n",
      " \n",
      " that the people who fared the best were\n",
      " the people who leaned in to relationships,\n",
      " \n",
      " with family, with friends, with community.\n",
      " \n",
      " So what about you?\n",
      " \n",
      " Let's say you're 25,\n",
      " or you're 40, or you're 60.\n",
      " \n",
      " What might leaning in\n",
      " to relationships even look like?\n",
      " \n",
      " Well, the possibilities\n",
      " are practically endless.\n",
      " \n",
      " It might be something as simple\n",
      " as replacing screen time with people time\n",
      " \n",
      " or livening up a stale relationship\n",
      " by doing something new together,\n",
      " \n",
      " long walks or date nights,\n",
      " \n",
      " or reaching out to that family member\n",
      " who you haven't spoken to in years,\n",
      " \n",
      " because those all-too-common family feuds\n",
      " \n",
      " take a terrible toll\n",
      " \n",
      " on the people who hold the grudges.\n",
      " \n",
      " I'd like to close with a quote\n",
      " from Mark Twain.\n",
      " \n",
      " More than a century ago,\n",
      " \n",
      " he was looking back on his life,\n",
      " \n",
      " and he wrote this:\n",
      " \n",
      " \"There isn't time, so brief is life,\n",
      " \n",
      " for bickerings, apologies,\n",
      " heartburnings, callings to account.\n",
      " \n",
      " There is only time for loving,\n",
      " \n",
      " and but an instant,\n",
      " so to speak, for that.\"\n",
      " \n",
      " The good life is built\n",
      " with good relationships.\n",
      " \n",
      " Thank you.\n",
      " \n",
      " (Applause) "
     ]
    }
   ],
   "source": [
    "with open('what makes a good life.txt', 'r', encoding=\"utf-8\") as f:\n",
    "    for line in f:\n",
    "        print(line, end=\" \")"
   ]
  },
  {
   "cell_type": "code",
   "execution_count": 2,
   "id": "9ffd4b1e-af8d-4072-b5fe-aeade1963339",
   "metadata": {},
   "outputs": [
    {
     "ename": "ImportError",
     "evalue": "cannot import name 'plot' from 'plot' (C:\\Users\\Administrator\\AppData\\Local\\Programs\\Python\\Python310\\lib\\site-packages\\plot\\__init__.py)",
     "output_type": "error",
     "traceback": [
      "\u001b[1;31m---------------------------------------------------------------------------\u001b[0m",
      "\u001b[1;31mImportError\u001b[0m                               Traceback (most recent call last)",
      "Input \u001b[1;32mIn [2]\u001b[0m, in \u001b[0;36m<cell line: 1>\u001b[1;34m()\u001b[0m\n\u001b[1;32m----> 1\u001b[0m \u001b[38;5;28;01mimport\u001b[39;00m \u001b[38;5;21;01mcharts\u001b[39;00m\n",
      "File \u001b[1;32m~\\AppData\\Local\\Programs\\Python\\Python310\\lib\\site-packages\\charts\\__init__.py:5\u001b[0m, in \u001b[0;36m<module>\u001b[1;34m\u001b[0m\n\u001b[0;32m      1\u001b[0m __author__ \u001b[38;5;241m=\u001b[39m \u001b[38;5;124m'\u001b[39m\u001b[38;5;124marnout\u001b[39m\u001b[38;5;124m'\u001b[39m\n\u001b[0;32m      3\u001b[0m __version__ \u001b[38;5;241m=\u001b[39m \u001b[38;5;124m'\u001b[39m\u001b[38;5;124m0.4.6\u001b[39m\u001b[38;5;124m'\u001b[39m\n\u001b[1;32m----> 5\u001b[0m \u001b[38;5;28;01mfrom\u001b[39;00m \u001b[38;5;21;01mplot\u001b[39;00m \u001b[38;5;28;01mimport\u001b[39;00m plot, plotasync, line, area, spline, pie\n\u001b[0;32m      6\u001b[0m \u001b[38;5;28;01mfrom\u001b[39;00m \u001b[38;5;21;01mserver\u001b[39;00m \u001b[38;5;28;01mimport\u001b[39;00m run_server\n\u001b[0;32m      8\u001b[0m \u001b[38;5;28;01mfrom\u001b[39;00m \u001b[38;5;21;01mIPython\u001b[39;00m\u001b[38;5;21;01m.\u001b[39;00m\u001b[38;5;21;01mcore\u001b[39;00m \u001b[38;5;28;01mimport\u001b[39;00m getipython\n",
      "\u001b[1;31mImportError\u001b[0m: cannot import name 'plot' from 'plot' (C:\\Users\\Administrator\\AppData\\Local\\Programs\\Python\\Python310\\lib\\site-packages\\plot\\__init__.py)"
     ]
    }
   ],
   "source": [
    "import charts"
   ]
  },
  {
   "cell_type": "markdown",
   "id": "84dee694-1b1c-420e-9f30-950d8a3b9c73",
   "metadata": {},
   "source": [
    "If you want to read all the lines of a file in a list you can also use `list(f)` or `f.readlines()`.\n",
    "\n",
    "> 如果你想在一个列表中读取一个文件的所有行，你也可以使用`list(f)`或`f.readlines()`。"
   ]
  },
  {
   "cell_type": "markdown",
   "id": "06878f83-566b-453d-a302-fab2b69dd3a9",
   "metadata": {},
   "source": [
    "`f.write(string)` writes the contents of *string* to the file, returning the number of characters written.\n",
    "\n",
    "> `f.write(string)`将*string*的内容写入文件，返回写入的字符数。"
   ]
  },
  {
   "cell_type": "code",
   "execution_count": 9,
   "id": "10053901-6235-4bb0-b5c4-92c8021c548a",
   "metadata": {},
   "outputs": [
    {
     "data": {
      "text/plain": [
       "\"    # write Fibonacci series up to n\\n    a, b = 0, 1\\n    while a < n:\\n        print(a, end=' ')\\n        a, b = b, a+b\\n    print()\\n\\ndef fib2(n):   # return Fibonacci series up to n\\n    result = []\\n    a, b = 0, 1\\n    while a < n:\\n        result.append(a)\\n        a, b = b, a+b\\n    return result\\n\\nprint(42)\""
      ]
     },
     "execution_count": 9,
     "metadata": {},
     "output_type": "execute_result"
    },
    {
     "data": {
      "text/plain": [
       "9"
      ]
     },
     "execution_count": 9,
     "metadata": {},
     "output_type": "execute_result"
    }
   ],
   "source": [
    "with open('fibo.py', 'r+', encoding = \"utf-8\") as f:\n",
    "    f.read()\n",
    "    f.write('print(42)')\n",
    "    \n",
    "# use 'w' mode, will replaced the ole text with appends\n",
    "# use 'r+' mode, just write method, will insert appends at the beginning\n",
    "# use 'r+' mode, fisrt read, then write, will insert appends at the end"
   ]
  },
  {
   "cell_type": "markdown",
   "id": "76e682aa-0343-42a4-b651-b2978cc92c3c",
   "metadata": {},
   "source": [
    "Other types of objects need to be converted – either to a string (in text mode) or a bytes object (in binary mode) – before writing them:\n",
    "\n",
    "> 其他类型的对象在写入前需要进行转换--要么转换为字符串（在文本模式下），要么转换为字节对象（在二进制模式下）："
   ]
  },
  {
   "cell_type": "code",
   "execution_count": 11,
   "id": "72e55877-ee8f-4c1a-9a5a-e270654aabe8",
   "metadata": {},
   "outputs": [
    {
     "data": {
      "text/plain": [
       "\"('the answer', 42)\""
      ]
     },
     "execution_count": 11,
     "metadata": {},
     "output_type": "execute_result"
    },
    {
     "data": {
      "text/plain": [
       "\"    # write Fibonacci series up to n\\n    a, b = 0, 1\\n    while a < n:\\n        print(a, end=' ')\\n        a, b = b, a+b\\n    print()\\n\\ndef fib2(n):   # return Fibonacci series up to n\\n    result = []\\n    a, b = 0, 1\\n    while a < n:\\n        result.append(a)\\n        a, b = b, a+b\\n    return result\\n\\nprint(42)\\nprint(42)\""
      ]
     },
     "execution_count": 11,
     "metadata": {},
     "output_type": "execute_result"
    },
    {
     "data": {
      "text/plain": [
       "18"
      ]
     },
     "execution_count": 11,
     "metadata": {},
     "output_type": "execute_result"
    }
   ],
   "source": [
    "value = ('the answer', 42)\n",
    "s = str(value)\n",
    "\n",
    "s\n",
    "\n",
    "with open('fibo.py', 'r+', encoding = \"utf-8\") as f:\n",
    "    f.read()\n",
    "    f.write(s)"
   ]
  },
  {
   "cell_type": "markdown",
   "id": "4407804a-f0a4-49dd-a19a-834788ac0c14",
   "metadata": {},
   "source": [
    "`f.tell()` returns an integer giving the file object’s current position in the file represented as number of bytes from the beginning of the file when in binary mode and an opaque number when in text mode.\n",
    "\n",
    "> `f.tell()`返回一个整数，表示文件对象在文件中的当前位置，在二进制模式下，表示从文件开始的字节数，在文本模式下，表示一个不透明的数字。"
   ]
  },
  {
   "cell_type": "markdown",
   "id": "fac319bc-5f18-400c-b367-b47791851fa7",
   "metadata": {},
   "source": [
    "To change the file object’s position, use `f.seek(offset, whence)`. The position is computed from adding *offset* to a reference point; the reference point is selected by the *whence* argument. A *whence* value of 0 measures from the beginning of the file, 1 uses the current file position, and 2 uses the end of the file as the reference point. *whence* can be omitted and defaults to 0, using the beginning of the file as the reference point.\n",
    "\n",
    "> 要改变文件对象的位置，使用`f.seek(offset, whence)`。位置是通过将*offset*加到一个参考点来计算的；参考点是由*whence*参数选择的。一个*whence*值为0的参数从文件的开头开始测量，1使用当前文件的位置，2使用文件的末端作为参考点。*whence*可以省略，默认为0，使用文件的开头作为参考点。"
   ]
  },
  {
   "cell_type": "code",
   "execution_count": 12,
   "id": "2d9945e9-5ad5-4d4c-8ac8-4f108af5e90b",
   "metadata": {},
   "outputs": [
    {
     "data": {
      "text/plain": [
       "16"
      ]
     },
     "execution_count": 12,
     "metadata": {},
     "output_type": "execute_result"
    }
   ],
   "source": [
    "f = open('fibo.py', 'rb+')\n",
    "f.write(b'0123456789abcdef')"
   ]
  },
  {
   "cell_type": "code",
   "execution_count": 15,
   "id": "b07689fd-95a2-46e9-93a7-bb685171c82b",
   "metadata": {},
   "outputs": [
    {
     "data": {
      "text/plain": [
       "5"
      ]
     },
     "execution_count": 15,
     "metadata": {},
     "output_type": "execute_result"
    }
   ],
   "source": [
    "f.seek(5)    # Go to the 6th byte in the file"
   ]
  },
  {
   "cell_type": "code",
   "execution_count": 14,
   "id": "1f797718-0b0b-45c4-8b99-8288ab13937b",
   "metadata": {},
   "outputs": [
    {
     "data": {
      "text/plain": [
       "b'5'"
      ]
     },
     "execution_count": 14,
     "metadata": {},
     "output_type": "execute_result"
    }
   ],
   "source": [
    "f.read(1)"
   ]
  },
  {
   "cell_type": "code",
   "execution_count": 16,
   "id": "3909cf06-5f61-4276-8fb1-198d1ce9ef21",
   "metadata": {},
   "outputs": [
    {
     "data": {
      "text/plain": [
       "330"
      ]
     },
     "execution_count": 16,
     "metadata": {},
     "output_type": "execute_result"
    }
   ],
   "source": [
    "f.seek(-3, 2)    # Go to the 3rd byte before the end"
   ]
  },
  {
   "cell_type": "code",
   "execution_count": 17,
   "id": "24795a9f-8f44-4c27-b956-f2a8a43afe7b",
   "metadata": {},
   "outputs": [
    {
     "data": {
      "text/plain": [
       "b'4'"
      ]
     },
     "execution_count": 17,
     "metadata": {},
     "output_type": "execute_result"
    }
   ],
   "source": [
    "f.read(1)"
   ]
  },
  {
   "cell_type": "code",
   "execution_count": 20,
   "id": "80e2d3ed-d734-4e68-9c09-eb33f9377d44",
   "metadata": {},
   "outputs": [
    {
     "data": {
      "text/plain": [
       "True"
      ]
     },
     "execution_count": 20,
     "metadata": {},
     "output_type": "execute_result"
    },
    {
     "data": {
      "text/plain": [
       "True"
      ]
     },
     "execution_count": 20,
     "metadata": {},
     "output_type": "execute_result"
    }
   ],
   "source": [
    "f.closed\n",
    "\n",
    "f.close()\n",
    "\n",
    "f.closed"
   ]
  },
  {
   "cell_type": "markdown",
   "id": "20ce8c81-6f5c-4297-8afc-aa2eb9b9fade",
   "metadata": {},
   "source": [
    "In text files (those opened without a `b` in the mode string), only seeks relative to the beginning of the file are allowed (the exception being seeking to the very file end with `seek(0, 2)`) and the only valid *offset* values are those returned from the `f.tell()`, or zero. Any other *offset* value produces undefined behaviour.\n",
    "\n",
    "> 在文本文件中（那些在模式字符串中没有 `b` 的文件），只允许相对于文件的开头寻找（例外是用 `seek(0, 2)` 寻找文件的结尾），唯一有效的*offset*值是那些从 `f.tell()` 返回的值，或者0。任何其他*offset*值都会产生未定义的行为。"
   ]
  },
  {
   "cell_type": "markdown",
   "id": "4e18f0de-1913-4ba0-9d39-4efd217fc08e",
   "metadata": {},
   "source": [
    "File objects have some additional methods, such as `isatty()` and `truncate()` which are less frequently used; consult the Library Reference for a complete guide to file objects.\n",
    "\n",
    "> 文件对象有一些额外的方法，如`isatty()`和`truncate()`，这些方法不常使用；请查阅库参考，了解文件对象的完整指南。"
   ]
  },
  {
   "cell_type": "markdown",
   "id": "1e86ffdb-1cd3-4e1f-85e2-221417ddf340",
   "metadata": {},
   "source": [
    "### 7.2.2. Saving structured data with json"
   ]
  },
  {
   "cell_type": "markdown",
   "id": "217ad9dc-f1ec-4606-98bf-0987ba971ca8",
   "metadata": {},
   "source": [
    "Strings can easily be written to and read from a file. Numbers take a bit more effort, since the `read()` method only returns strings, which will have to be passed to a function like [`int()`](https://docs.python.org/3/library/functions.html#int), which takes a string like `'123'` and returns its numeric value 123. When you want to save more complex data types like nested lists and dictionaries, parsing and serializing by hand becomes complicated.\n",
    "\n",
    "> 字符串可以很容易地被写入文件和从文件中读出。数字则需要更多的努力，因为`read()`方法只返回字符串，它将不得不被传递给像[`int()`](https://docs.python.org/3/library/functions.html#int)这样的函数，它接收像 `'123'` 这样的字符串并返回其数字值123。当你想保存更复杂的数据类型，如嵌套列表和字典时，手工解析和序列化就变得很复杂。"
   ]
  },
  {
   "cell_type": "markdown",
   "id": "59a74ad7-9bfa-43f5-a38c-3c7de4391ba7",
   "metadata": {},
   "source": [
    "Rather than having users constantly writing and debugging code to save complicated data types to files, Python allows you to use the popular data interchange format called [JSON (JavaScript Object Notation)](http://json.org/). The standard module called [`json`](https://docs.python.org/3/library/json.html#module-json) can take Python data hierarchies, and convert them to string representations; this process is called *serializing*. Reconstructing the data from the string representation is called *deserializing*. Between serializing and deserializing, the string representing the object may have been stored in a file or data, or sent over a network connection to some distant machine.\n",
    "\n",
    "> 与其让用户不断地编写和调试代码来保存复杂的数据类型到文件中，Python允许你使用流行的数据交换格式，称为[JSON (JavaScript Object Notation)](http://json.org/)。被称为[`json`](https://docs.python.org/3/library/json.html#module-json)的标准模块可以获取Python数据层次，并将其转换为字符串表示；这个过程被称为*序列化*。从字符串表示中重构数据被称为*反序列化*。在序列化和反序列化之间，代表对象的字符串可能已经存储在一个文件或数据中，或者通过网络连接发送到某个遥远的机器上。"
   ]
  },
  {
   "cell_type": "markdown",
   "id": "14e3cf4c-1bdb-4702-95e7-ebf743266908",
   "metadata": {},
   "source": [
    "**Note:** The JSON format is commonly used by modern applications to allow for data exchange. Many programmers are already familiar with it, which makes it a good choice for interoperability.\n",
    "\n",
    "> **注意：** JSON格式通常被现代应用程序使用，以实现数据交换。许多程序员已经熟悉它，这使得它成为互操作性的良好选择。"
   ]
  },
  {
   "cell_type": "markdown",
   "id": "eacfea09-a7a3-44a5-aa5d-53ced6ee8353",
   "metadata": {},
   "source": [
    "If you have an object `x`, you can view its JSON string representation with a simple line of code:\n",
    "\n",
    "> 如果你有一个对象 `x`，你可以用一行简单的代码查看它的JSON字符串表示："
   ]
  },
  {
   "cell_type": "code",
   "execution_count": 2,
   "id": "11ced283-3530-4975-a03d-57eab2986939",
   "metadata": {},
   "outputs": [
    {
     "data": {
      "text/plain": [
       "'[1, \"simple\", \"list\"]'"
      ]
     },
     "execution_count": 2,
     "metadata": {},
     "output_type": "execute_result"
    }
   ],
   "source": [
    "import json\n",
    "x = [1, 'simple', 'list']\n",
    "json.dumps(x)"
   ]
  },
  {
   "cell_type": "markdown",
   "id": "5700ddd7-5660-4b09-a905-be9b408382a3",
   "metadata": {},
   "source": [
    "Another variant of the [`dumps()`](https://docs.python.org/3/library/json.html#json.dumps) function, called [`dump()`](https://docs.python.org/3/library/json.html#json.dump), simply serializes the object to a [text file](https://docs.python.org/3/glossary.html#term-text-file). So if `f` is a [text file](https://docs.python.org/3/glossary.html#term-text-file) object opened for writing, we can do this:\n",
    "\n",
    "> [`dumps()`](https://docs.python.org/3/library/json.html#json.dumps)函数的另一个变体，叫做[`dump()`](https://docs.python.org/3/library/json.html#json.dump)，简单地将对象序列化到一个[文本文件](https://docs.python.org/3/glossary.html#term-text-file)。因此，如果 `f` 是一个为写作而打开的[文本文件](https://docs.python.org/3/glossary.html#term-text-file)对象，我们可以这样做："
   ]
  },
  {
   "cell_type": "code",
   "execution_count": 12,
   "id": "227565fe-7610-4c39-9393-3b02bca08961",
   "metadata": {},
   "outputs": [
    {
     "data": {
      "text/plain": [
       "False"
      ]
     },
     "execution_count": 12,
     "metadata": {},
     "output_type": "execute_result"
    }
   ],
   "source": [
    "f = open('fibo.py', 'r+',  encoding=\"utf-8\")\n",
    "json.dump(x, f)\n",
    "\n",
    "f.closed"
   ]
  },
  {
   "cell_type": "code",
   "execution_count": 15,
   "id": "13a5a5fb-47ed-4a04-ad4c-c5d31a956a47",
   "metadata": {},
   "outputs": [],
   "source": [
    "f.close()"
   ]
  },
  {
   "cell_type": "markdown",
   "id": "3e267bf8-e408-4c61-a672-d2cacf77fde9",
   "metadata": {},
   "source": [
    "To decode the object again, if `f` is a [binary file](https://docs.python.org/3/glossary.html#term-binary-file) or [text file](https://docs.python.org/3/glossary.html#term-text-file) object which has been opened for reading:\n",
    "\n",
    "> 再次解码对象，如果 `f` 是一个[二进制文件](https://docs.python.org/3/glossary.html#term-binary-file)或[文本文件](https://docs.python.org/3/glossary.html#term-text-file)对象，该对象已被打开供阅读："
   ]
  },
  {
   "cell_type": "code",
   "execution_count": 13,
   "id": "7a901d11-6a9b-499d-ae06-d0c5eacb2abf",
   "metadata": {},
   "outputs": [
    {
     "ename": "JSONDecodeError",
     "evalue": "Expecting value: line 1 column 2 (char 1)",
     "output_type": "error",
     "traceback": [
      "\u001b[1;31m---------------------------------------------------------------------------\u001b[0m",
      "\u001b[1;31mJSONDecodeError\u001b[0m                           Traceback (most recent call last)",
      "Input \u001b[1;32mIn [13]\u001b[0m, in \u001b[0;36m<cell line: 1>\u001b[1;34m()\u001b[0m\n\u001b[1;32m----> 1\u001b[0m x \u001b[38;5;241m=\u001b[39m \u001b[43mjson\u001b[49m\u001b[38;5;241;43m.\u001b[39;49m\u001b[43mload\u001b[49m\u001b[43m(\u001b[49m\u001b[43mf\u001b[49m\u001b[43m)\u001b[49m\n",
      "File \u001b[1;32m~\\AppData\\Local\\Programs\\Python\\Python310\\lib\\json\\__init__.py:293\u001b[0m, in \u001b[0;36mload\u001b[1;34m(fp, cls, object_hook, parse_float, parse_int, parse_constant, object_pairs_hook, **kw)\u001b[0m\n\u001b[0;32m    274\u001b[0m \u001b[38;5;28;01mdef\u001b[39;00m \u001b[38;5;21mload\u001b[39m(fp, \u001b[38;5;241m*\u001b[39m, \u001b[38;5;28mcls\u001b[39m\u001b[38;5;241m=\u001b[39m\u001b[38;5;28;01mNone\u001b[39;00m, object_hook\u001b[38;5;241m=\u001b[39m\u001b[38;5;28;01mNone\u001b[39;00m, parse_float\u001b[38;5;241m=\u001b[39m\u001b[38;5;28;01mNone\u001b[39;00m,\n\u001b[0;32m    275\u001b[0m         parse_int\u001b[38;5;241m=\u001b[39m\u001b[38;5;28;01mNone\u001b[39;00m, parse_constant\u001b[38;5;241m=\u001b[39m\u001b[38;5;28;01mNone\u001b[39;00m, object_pairs_hook\u001b[38;5;241m=\u001b[39m\u001b[38;5;28;01mNone\u001b[39;00m, \u001b[38;5;241m*\u001b[39m\u001b[38;5;241m*\u001b[39mkw):\n\u001b[0;32m    276\u001b[0m     \u001b[38;5;124;03m\"\"\"Deserialize ``fp`` (a ``.read()``-supporting file-like object containing\u001b[39;00m\n\u001b[0;32m    277\u001b[0m \u001b[38;5;124;03m    a JSON document) to a Python object.\u001b[39;00m\n\u001b[0;32m    278\u001b[0m \n\u001b[1;32m   (...)\u001b[0m\n\u001b[0;32m    291\u001b[0m \u001b[38;5;124;03m    kwarg; otherwise ``JSONDecoder`` is used.\u001b[39;00m\n\u001b[0;32m    292\u001b[0m \u001b[38;5;124;03m    \"\"\"\u001b[39;00m\n\u001b[1;32m--> 293\u001b[0m     \u001b[38;5;28;01mreturn\u001b[39;00m loads(fp\u001b[38;5;241m.\u001b[39mread(),\n\u001b[0;32m    294\u001b[0m         \u001b[38;5;28mcls\u001b[39m\u001b[38;5;241m=\u001b[39m\u001b[38;5;28mcls\u001b[39m, object_hook\u001b[38;5;241m=\u001b[39mobject_hook,\n\u001b[0;32m    295\u001b[0m         parse_float\u001b[38;5;241m=\u001b[39mparse_float, parse_int\u001b[38;5;241m=\u001b[39mparse_int,\n\u001b[0;32m    296\u001b[0m         parse_constant\u001b[38;5;241m=\u001b[39mparse_constant, object_pairs_hook\u001b[38;5;241m=\u001b[39mobject_pairs_hook, \u001b[38;5;241m*\u001b[39m\u001b[38;5;241m*\u001b[39mkw)\n",
      "File \u001b[1;32m~\\AppData\\Local\\Programs\\Python\\Python310\\lib\\json\\__init__.py:346\u001b[0m, in \u001b[0;36mloads\u001b[1;34m(s, cls, object_hook, parse_float, parse_int, parse_constant, object_pairs_hook, **kw)\u001b[0m\n\u001b[0;32m    341\u001b[0m     s \u001b[38;5;241m=\u001b[39m s\u001b[38;5;241m.\u001b[39mdecode(detect_encoding(s), \u001b[38;5;124m'\u001b[39m\u001b[38;5;124msurrogatepass\u001b[39m\u001b[38;5;124m'\u001b[39m)\n\u001b[0;32m    343\u001b[0m \u001b[38;5;28;01mif\u001b[39;00m (\u001b[38;5;28mcls\u001b[39m \u001b[38;5;129;01mis\u001b[39;00m \u001b[38;5;28;01mNone\u001b[39;00m \u001b[38;5;129;01mand\u001b[39;00m object_hook \u001b[38;5;129;01mis\u001b[39;00m \u001b[38;5;28;01mNone\u001b[39;00m \u001b[38;5;129;01mand\u001b[39;00m\n\u001b[0;32m    344\u001b[0m         parse_int \u001b[38;5;129;01mis\u001b[39;00m \u001b[38;5;28;01mNone\u001b[39;00m \u001b[38;5;129;01mand\u001b[39;00m parse_float \u001b[38;5;129;01mis\u001b[39;00m \u001b[38;5;28;01mNone\u001b[39;00m \u001b[38;5;129;01mand\u001b[39;00m\n\u001b[0;32m    345\u001b[0m         parse_constant \u001b[38;5;129;01mis\u001b[39;00m \u001b[38;5;28;01mNone\u001b[39;00m \u001b[38;5;129;01mand\u001b[39;00m object_pairs_hook \u001b[38;5;129;01mis\u001b[39;00m \u001b[38;5;28;01mNone\u001b[39;00m \u001b[38;5;129;01mand\u001b[39;00m \u001b[38;5;129;01mnot\u001b[39;00m kw):\n\u001b[1;32m--> 346\u001b[0m     \u001b[38;5;28;01mreturn\u001b[39;00m \u001b[43m_default_decoder\u001b[49m\u001b[38;5;241;43m.\u001b[39;49m\u001b[43mdecode\u001b[49m\u001b[43m(\u001b[49m\u001b[43ms\u001b[49m\u001b[43m)\u001b[49m\n\u001b[0;32m    347\u001b[0m \u001b[38;5;28;01mif\u001b[39;00m \u001b[38;5;28mcls\u001b[39m \u001b[38;5;129;01mis\u001b[39;00m \u001b[38;5;28;01mNone\u001b[39;00m:\n\u001b[0;32m    348\u001b[0m     \u001b[38;5;28mcls\u001b[39m \u001b[38;5;241m=\u001b[39m JSONDecoder\n",
      "File \u001b[1;32m~\\AppData\\Local\\Programs\\Python\\Python310\\lib\\json\\decoder.py:337\u001b[0m, in \u001b[0;36mJSONDecoder.decode\u001b[1;34m(self, s, _w)\u001b[0m\n\u001b[0;32m    332\u001b[0m \u001b[38;5;28;01mdef\u001b[39;00m \u001b[38;5;21mdecode\u001b[39m(\u001b[38;5;28mself\u001b[39m, s, _w\u001b[38;5;241m=\u001b[39mWHITESPACE\u001b[38;5;241m.\u001b[39mmatch):\n\u001b[0;32m    333\u001b[0m     \u001b[38;5;124;03m\"\"\"Return the Python representation of ``s`` (a ``str`` instance\u001b[39;00m\n\u001b[0;32m    334\u001b[0m \u001b[38;5;124;03m    containing a JSON document).\u001b[39;00m\n\u001b[0;32m    335\u001b[0m \n\u001b[0;32m    336\u001b[0m \u001b[38;5;124;03m    \"\"\"\u001b[39;00m\n\u001b[1;32m--> 337\u001b[0m     obj, end \u001b[38;5;241m=\u001b[39m \u001b[38;5;28;43mself\u001b[39;49m\u001b[38;5;241;43m.\u001b[39;49m\u001b[43mraw_decode\u001b[49m\u001b[43m(\u001b[49m\u001b[43ms\u001b[49m\u001b[43m,\u001b[49m\u001b[43m \u001b[49m\u001b[43midx\u001b[49m\u001b[38;5;241;43m=\u001b[39;49m\u001b[43m_w\u001b[49m\u001b[43m(\u001b[49m\u001b[43ms\u001b[49m\u001b[43m,\u001b[49m\u001b[43m \u001b[49m\u001b[38;5;241;43m0\u001b[39;49m\u001b[43m)\u001b[49m\u001b[38;5;241;43m.\u001b[39;49m\u001b[43mend\u001b[49m\u001b[43m(\u001b[49m\u001b[43m)\u001b[49m\u001b[43m)\u001b[49m\n\u001b[0;32m    338\u001b[0m     end \u001b[38;5;241m=\u001b[39m _w(s, end)\u001b[38;5;241m.\u001b[39mend()\n\u001b[0;32m    339\u001b[0m     \u001b[38;5;28;01mif\u001b[39;00m end \u001b[38;5;241m!=\u001b[39m \u001b[38;5;28mlen\u001b[39m(s):\n",
      "File \u001b[1;32m~\\AppData\\Local\\Programs\\Python\\Python310\\lib\\json\\decoder.py:355\u001b[0m, in \u001b[0;36mJSONDecoder.raw_decode\u001b[1;34m(self, s, idx)\u001b[0m\n\u001b[0;32m    353\u001b[0m     obj, end \u001b[38;5;241m=\u001b[39m \u001b[38;5;28mself\u001b[39m\u001b[38;5;241m.\u001b[39mscan_once(s, idx)\n\u001b[0;32m    354\u001b[0m \u001b[38;5;28;01mexcept\u001b[39;00m \u001b[38;5;167;01mStopIteration\u001b[39;00m \u001b[38;5;28;01mas\u001b[39;00m err:\n\u001b[1;32m--> 355\u001b[0m     \u001b[38;5;28;01mraise\u001b[39;00m JSONDecodeError(\u001b[38;5;124m\"\u001b[39m\u001b[38;5;124mExpecting value\u001b[39m\u001b[38;5;124m\"\u001b[39m, s, err\u001b[38;5;241m.\u001b[39mvalue) \u001b[38;5;28;01mfrom\u001b[39;00m \u001b[38;5;28mNone\u001b[39m\n\u001b[0;32m    356\u001b[0m \u001b[38;5;28;01mreturn\u001b[39;00m obj, end\n",
      "\u001b[1;31mJSONDecodeError\u001b[0m: Expecting value: line 1 column 2 (char 1)"
     ]
    }
   ],
   "source": [
    "x = json.load(f)"
   ]
  },
  {
   "cell_type": "markdown",
   "id": "ce8733de-f224-4022-a05d-12a452931947",
   "metadata": {},
   "source": [
    "Note:** JSON files must be encoded in UTF-8. Use `encoding=\"utf-8\"` when opening JSON file as a [text file](https://docs.python.org/3/glossary.html#term-text-file) for both of reading and writing.\n",
    "\n",
    "> **注意：** JSON文件必须以UTF-8编码。当以[文本文件](https://docs.python.org/3/glossary.html#term-text-file)形式打开JSON文件时，请使用`encoding=\"utf-8\"`进行读写。"
   ]
  },
  {
   "cell_type": "markdown",
   "id": "1aee9f99-a137-4220-8fdb-146acdc789cd",
   "metadata": {},
   "source": [
    "This simple serialization technique can handle lists and dictionaries, but serializing arbitrary class instances in JSON requires a bit of extra effort. The reference for the [`json`](https://docs.python.org/3/library/json.html#module-json) module contains an explanation of this.\n",
    "\n",
    "> 这种简单的序列化技术可以处理列表和字典，但在JSON中序列化任意的类实例需要一点额外的努力。[`json`](https://docs.python.org/3/library/json.html#module-json) 模块的参考资料包含了这方面的解释。"
   ]
  },
  {
   "cell_type": "markdown",
   "id": "812d6d5c-4f3c-4d61-bca2-ce5d092a44b3",
   "metadata": {},
   "source": [
    "See also:** [`pickle`](https://docs.python.org/3/library/pickle.html#module-pickle) - the pickle module\n",
    "\n",
    "Contrary to [JSON](https://docs.python.org/3/tutorial/inputoutput.html#tut-json), *pickle* is a protocol which allows the serialization of arbitrarily complex Python objects. As such, it is specific to Python and cannot be used to communicate with applications written in other languages. It is also insecure by default: deserializing pickle data coming from an untrusted source can execute arbitrary code, if the data was crafted by a skilled attacker.\n",
    "\n",
    "> **参见：** [`pickle`](https://docs.python.org/3/library/pickle.html#module-pickle) - pickle模块\n",
    ">\n",
    "> 与[JSON](https://docs.python.org/3/tutorial/inputoutput.html#tut-json)相反，*pickle*是一个协议，允许任意复杂的Python对象的序列化。因此，它是Python特有的，不能用来与用其他语言编写的应用程序通信。它在默认情况下也是不安全的：如果数据是由熟练的攻击者制作的，对来自不受信任的源的pickle数据进行反序列化可以执行任意代码。"
   ]
  }
 ],
 "metadata": {
  "kernelspec": {
   "display_name": "Python 3 (ipykernel)",
   "language": "python",
   "name": "python3"
  },
  "language_info": {
   "codemirror_mode": {
    "name": "ipython",
    "version": 3
   },
   "file_extension": ".py",
   "mimetype": "text/x-python",
   "name": "python",
   "nbconvert_exporter": "python",
   "pygments_lexer": "ipython3",
   "version": "3.10.4"
  }
 },
 "nbformat": 4,
 "nbformat_minor": 5
}
