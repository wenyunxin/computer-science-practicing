{
 "cells": [
  {
   "cell_type": "code",
   "execution_count": 1,
   "id": "5c5210c2-9b9b-4e2e-9428-4a76bddfe494",
   "metadata": {},
   "outputs": [],
   "source": [
    "from IPython.core.interactiveshell import InteractiveShell\n",
    "InteractiveShell.ast_node_interactivity = \"all\""
   ]
  },
  {
   "cell_type": "markdown",
   "id": "4495e90d-7dab-48de-83c7-fbd22e81f6f8",
   "metadata": {},
   "source": [
    "## 12.1. Introduction"
   ]
  },
  {
   "cell_type": "markdown",
   "id": "b015e2c5-0d5f-4221-9eb3-099cd45bd9d6",
   "metadata": {},
   "source": [
    "Python applications will often use packages and modules that don’t come as part of the standard library. Applications will sometimes need a specific version of a library, because the application may require that a particular bug has been fixed or the application may be written using an obsolete version of the library’s interface.\n",
    "\n",
    "This means it may not be possible for one Python installation to meet the requirements of every application. If application A needs version 1.0 of a particular module but application B needs version 2.0, then the requirements are in conflict and installing either version 1.0 or 2.0 will leave one application unable to run.\n",
    "\n",
    "The solution for this problem is to create a [virtual environment](https://docs.python.org/3/glossary.html#term-virtual-environment), a self-contained directory tree that contains a Python installation for a particular version of Python, plus a number of additional packages.\n",
    "\n",
    "Different applications can then use different virtual environments. To resolve the earlier example of conflicting requirements, application A can have its own virtual environment with version 1.0 installed while application B has another virtual environment with version 2.0. If application B requires a library be upgraded to version 3.0, this will not affect application A’s environment.\n",
    "\n",
    "> Python 应用程序经常会使用不属于标准库的包和模块。应用程序有时会需要一个特定版本的库，因为应用程序可能需要一个特定的错误已经被修复，或者应用程序可能是用一个过时的库的接口版本编写的。\n",
    ">\n",
    "> 这意味着一个 Python 安装可能无法满足每个应用程序的要求。如果应用程序 A 需要某个模块的 1.0 版本，但应用程序 B 需要 2.0 版本，那么这些要求就会发生冲突，安装 1.0 或 2.0 版本都会使一个应用程序无法运行。\n",
    ">\n",
    "> 解决这个问题的方法是创建一个 [虚拟环境](https://docs.python.org/3/glossary.html#term-virtual-environment)，一个独立的目录树，它包含一个特定版本的 Python 安装，外加一些额外的包。\n",
    ">\n",
    "> 然后不同的应用程序可以使用不同的虚拟环境。为了解决前面的需求冲突的例子，应用程序 A 可以有自己的安装了 1.0 版本的虚拟环境，而应用程序 B 有另一个安装了 2.0 版本的虚拟环境。如果应用程序B要求一个库升级到3.0版本，这将不会影响应用程序A的环境。"
   ]
  },
  {
   "cell_type": "markdown",
   "id": "4e314ced-5d71-4e4c-b364-5fd74360362a",
   "metadata": {},
   "source": [
    "## 12.2. Creating Virtual Environments"
   ]
  },
  {
   "cell_type": "markdown",
   "id": "238b6361-6f63-4ad5-9aed-a4f9e60fad86",
   "metadata": {},
   "source": [
    "The module used to create and manage virtual environments is called [`venv`](https://docs.python.org/3/library/venv.html#module-venv). [`venv`](https://docs.python.org/3/library/venv.html#module-venv) will usually install the most recent version of Python that you have available. If you have multiple versions of Python on your system, you can select a specific Python version by running `python3` or whichever version you want.\n",
    "\n",
    "To create a virtual environment, decide upon a directory where you want to place it, and run the [`venv`](https://docs.python.org/3/library/venv.html#module-venv) module as a script with the directory path:\n",
    "\n",
    "> 用于创建和管理虚拟环境的模块被称为 [`venv`](https://docs.python.org/3/library/venv.html#module-venv)。[`venv`](https://docs.python.org/3/library/venv.html#module-venv)通常会安装你现有的最新版本的Python。如果你的系统上有多个Python版本，你可以通过运行`python3`或任何你想要的版本来选择一个特定的Python版本。\n",
    ">\n",
    "> 要创建一个虚拟环境，决定一个你想放置它的目录，并以脚本的形式运行 [`venv`](https://docs.python.org/3/library/venv.html#module-venv) 模块和目录路径："
   ]
  },
  {
   "cell_type": "raw",
   "id": "158cac51-1565-4265-8c14-f7f7e097fbae",
   "metadata": {},
   "source": [
    "python -m venv tutorial-env"
   ]
  },
  {
   "cell_type": "markdown",
   "id": "7ae8628b-c623-4528-9c90-380b0fc029eb",
   "metadata": {},
   "source": [
    "This will create the `tutorial-env` directory if it doesn’t exist, and also create directories inside it containing a copy of the Python interpreter and various supporting files.\n",
    "\n",
    "A common directory location for a virtual environment is `.venv`. This name keeps the directory typically hidden in your shell and thus out of the way while giving it a name that explains why the directory exists. It also prevents clashing with `.env` environment variable definition files that some tooling supports.\n",
    "\n",
    "Once you’ve created a virtual environment, you may activate it.\n",
    "\n",
    "On Windows, run:\n",
    "\n",
    "> 如果`tutorial-env`目录不存在，这将创建它，并在其中创建包含Python解释器副本和各种支持文件的目录。\n",
    ">\n",
    "> 虚拟环境的一个常见目录位置是`.venv`。这个名字使目录通常隐藏在你的shell中，因此不碍事，同时给它一个名字来解释为什么这个目录会存在。它还可以防止与一些工具支持的\".env \"环境变量定义文件发生冲突。\n",
    ">\n",
    "> 一旦你创建了一个虚拟环境，你可以激活它。\n",
    ">\n",
    "> 在Windows上，运行："
   ]
  },
  {
   "cell_type": "raw",
   "id": "772246ab-5546-4cb7-907a-91c444008787",
   "metadata": {},
   "source": [
    "tutorial-env\\Scripts\\activate.bat"
   ]
  },
  {
   "cell_type": "markdown",
   "id": "fe98c6fb-5bbb-4212-9080-456bbe2edb15",
   "metadata": {},
   "source": [
    "On Unix or MacOS, run:\n",
    "\n",
    "> 在Unix或MacOS上，运行："
   ]
  },
  {
   "cell_type": "raw",
   "id": "00aea6ef-3248-4764-bac7-acb83672eee8",
   "metadata": {},
   "source": [
    "source tutorial-env/bin/activate"
   ]
  },
  {
   "cell_type": "markdown",
   "id": "55b5cf8c-4751-4201-8108-e79323011418",
   "metadata": {},
   "source": [
    "(This script is written for the bash shell. If you use the **csh** or **fish** shells, there are alternate `activate.csh` and `activate.fish` scripts you should use instead.)\n",
    "\n",
    "Activating the virtual environment will change your shell’s prompt to show what virtual environment you’re using, and modify the environment so that running `python` will get you that particular version and installation of Python. For example:\n",
    "\n",
    "> (这个脚本是为bash shell编写的。如果你使用**csh**或**fish** shells，你应该使用`activate.csh`和`activate.fish`脚本来代替。）\n",
    ">\n",
    "> 激活虚拟环境将改变 shell 的提示，以显示你正在使用的虚拟环境，并修改环境，使运行 `python` 会得到那个特定版本和安装的 Python。比如说："
   ]
  },
  {
   "cell_type": "raw",
   "id": "6a5da294-e242-4ccf-8481-9c9b6c9dd6ff",
   "metadata": {},
   "source": [
    "$ source ~/envs/tutorial-env/bin/activate\n",
    "(tutorial-env) $ python\n",
    "Python 3.5.1 (default, May  6 2016, 10:59:36)\n",
    "  ...\n",
    ">>> import sys\n",
    ">>> sys.path\n",
    "['', '/usr/local/lib/python35.zip', ...,\n",
    "'~/envs/tutorial-env/lib/python3.5/site-packages']\n",
    ">>>"
   ]
  },
  {
   "cell_type": "markdown",
   "id": "caec5321-0380-45b7-a528-90ad0be23b43",
   "metadata": {},
   "source": [
    "## 12.3. Managing Packages with pip"
   ]
  },
  {
   "cell_type": "markdown",
   "id": "923f10b9-232f-476f-b189-aab064f82107",
   "metadata": {},
   "source": [
    "You can install, upgrade, and remove packages using a program called **pip**. By default `pip` will install packages from the Python Package Index, <[https://pypi.org](https://pypi.org/)>. You can browse the Python Package Index by going to it in your web browser.\n",
    "\n",
    "`pip` has a number of subcommands: “install”, “uninstall”, “freeze”, etc. (Consult the [Installing Python Modules](https://docs.python.org/3/installing/index.html#installing-index) guide for complete documentation for `pip`.)\n",
    "\n",
    "You can install the latest version of a package by specifying a package’s name:\n",
    "\n",
    "> 你可以使用一个叫做**pip**的程序来安装、升级和删除软件包。默认情况下，`pip`会安装Python Package Index中的软件包，\\<[https://pypi.org](https://pypi.org/)>。你可以在你的网页浏览器中浏览Python包索引。\n",
    ">\n",
    "> `pip`有许多子命令。“install”, “uninstall”, “freeze”, 等等 (查阅 [Installing Python Modules](https://docs.python.org/3/installing/index.html#installing-index) 指南以获得关于`pip`的完整文档。)\n",
    ">\n",
    "> 你可以通过指定软件包的名称来安装软件包的最新版本："
   ]
  },
  {
   "cell_type": "raw",
   "id": "fc1ecf8e-8971-4c57-831d-8055df17908a",
   "metadata": {},
   "source": [
    "tutorial-env) $ python -m pip install novas\n",
    "Collecting novas\n",
    "  Downloading novas-3.1.1.3.tar.gz (136kB)\n",
    "Installing collected packages: novas\n",
    "  Running setup.py install for novas\n",
    "Successfully installed novas-3.1.1.3"
   ]
  },
  {
   "cell_type": "markdown",
   "id": "01d5ecec-f831-4654-918c-3341a81a3ca8",
   "metadata": {},
   "source": [
    "You can also install a specific version of a package by giving the package name followed by `==` and the version number:\n",
    "\n",
    "> 你也可以安装一个特定版本的软件包，方法是在软件包名称后面加上`==`和版本号："
   ]
  },
  {
   "cell_type": "raw",
   "id": "37e3c2eb-8808-4d9d-aa75-c97eaa6cf358",
   "metadata": {},
   "source": [
    "(tutorial-env) $ python -m pip install requests==2.6.0\n",
    "Collecting requests==2.6.0\n",
    "  Using cached requests-2.6.0-py2.py3-none-any.whl\n",
    "Installing collected packages: requests\n",
    "Successfully installed requests-2.6.0"
   ]
  },
  {
   "cell_type": "markdown",
   "id": "41555b1f-d235-4097-9a07-92ff729ec887",
   "metadata": {},
   "source": [
    "If you re-run this command, `pip` will notice that the requested version is already installed and do nothing. You can supply a different version number to get that version, or you can run `pip install --upgrade` to upgrade the package to the latest version:\n",
    "\n",
    "> 如果你重新运行这个命令，`pip`会注意到所要求的版本已经安装，而不做任何事情。你可以提供一个不同的版本号来获得该版本，或者你可以运行`pip install --upgrade`来将软件包升级到最新版本："
   ]
  },
  {
   "cell_type": "raw",
   "id": "b3224f1f-f5bb-489b-96ca-641fc2bf5528",
   "metadata": {},
   "source": [
    "(tutorial-env) $ python -m pip install --upgrade requests\n",
    "Collecting requests\n",
    "Installing collected packages: requests\n",
    "  Found existing installation: requests 2.6.0\n",
    "    Uninstalling requests-2.6.0:\n",
    "      Successfully uninstalled requests-2.6.0\n",
    "Successfully installed requests-2.7.0"
   ]
  },
  {
   "cell_type": "markdown",
   "id": "ec62e7c5-c9fd-4fdd-bc1d-5ad436a1c51a",
   "metadata": {},
   "source": [
    "`pip uninstall` followed by one or more package names will remove the packages from the virtual environment.\n",
    "\n",
    "`pip show` will display information about a particular package:\n",
    "\n",
    "> `pip uninstall`后面跟着一个或多个软件包名称，将从虚拟环境中删除这些软件包。\n",
    ">\n",
    "> `pip show`将显示一个特定软件包的信息："
   ]
  },
  {
   "cell_type": "raw",
   "id": "10ade5fa-8948-4a9d-a1da-659e2a917887",
   "metadata": {},
   "source": [
    "(tutorial-env) $ pip show requests\n",
    "---\n",
    "Metadata-Version: 2.0\n",
    "Name: requests\n",
    "Version: 2.7.0\n",
    "Summary: Python HTTP for Humans.\n",
    "Home-page: http://python-requests.org\n",
    "Author: Kenneth Reitz\n",
    "Author-email: me@kennethreitz.com\n",
    "License: Apache 2.0\n",
    "Location: /Users/akuchling/envs/tutorial-env/lib/python3.4/site-packages\n",
    "Requires:"
   ]
  },
  {
   "cell_type": "markdown",
   "id": "d39b4297-aa57-4bf7-b846-816aa552776d",
   "metadata": {},
   "source": [
    "`pip list` will display all of the packages installed in the virtual environment:\n",
    "\n",
    "> `pip list`将显示所有安装在虚拟环境中的软件包："
   ]
  },
  {
   "cell_type": "raw",
   "id": "954b00a2-de58-4307-bf85-ae1458993b2d",
   "metadata": {},
   "source": [
    "(tutorial-env) $ pip list\n",
    "novas (3.1.1.3)\n",
    "numpy (1.9.2)\n",
    "pip (7.0.3)\n",
    "requests (2.7.0)\n",
    "setuptools (16.0)"
   ]
  },
  {
   "cell_type": "markdown",
   "id": "6fbfc018-82e5-48c3-8e56-ac3119c33620",
   "metadata": {},
   "source": [
    "`pip freeze` will produce a similar list of the installed packages, but the output uses the format that `pip install` expects. A common convention is to put this list in a `requirements.txt` file:\n",
    "\n",
    "> `pip freeze`将产生一个类似的已安装软件包的列表，但输出使用`pip install`所期望的格式。一个常见的惯例是把这个列表放在`requirements.txt`文件中："
   ]
  },
  {
   "cell_type": "raw",
   "id": "a2e2d796-b2bd-41dc-b59a-f8b0ff0e011a",
   "metadata": {},
   "source": [
    "(tutorial-env) $ pip freeze > requirements.txt\n",
    "(tutorial-env) $ cat requirements.txt\n",
    "novas==3.1.1.3\n",
    "numpy==1.9.2\n",
    "requests==2.7.0"
   ]
  },
  {
   "cell_type": "markdown",
   "id": "2d3b73dc-f14a-4b24-9f0f-96a7a21535a7",
   "metadata": {},
   "source": [
    "The `requirements.txt` can then be committed to version control and shipped as part of an application. Users can then install all the necessary packages with `install -r`:\n",
    "\n",
    "> 然后，`requirements.txt` 可以提交到版本控制中，并作为应用程序的一部分进行运输。然后用户可以用`install -r`安装所有必要的软件包："
   ]
  },
  {
   "cell_type": "raw",
   "id": "4d143d77-2135-4a39-9616-77023041e2f2",
   "metadata": {},
   "source": [
    "(tutorial-env) $ python -m pip install -r requirements.txt\n",
    "Collecting novas==3.1.1.3 (from -r requirements.txt (line 1))\n",
    "  ...\n",
    "Collecting numpy==1.9.2 (from -r requirements.txt (line 2))\n",
    "  ...\n",
    "Collecting requests==2.7.0 (from -r requirements.txt (line 3))\n",
    "  ...\n",
    "Installing collected packages: novas, numpy, requests\n",
    "  Running setup.py install for novas\n",
    "Successfully installed novas-3.1.1.3 numpy-1.9.2 requests-2.7.0"
   ]
  },
  {
   "cell_type": "markdown",
   "id": "837953b6-eeb3-41a1-9b9d-522237928c55",
   "metadata": {},
   "source": [
    "`pip` has many more options. Consult the [Installing Python Modules](https://docs.python.org/3/installing/index.html#installing-index) guide for complete documentation for `pip`. When you’ve written a package and want to make it available on the Python Package Index, consult the [Distributing Python Modules](https://docs.python.org/3/distributing/index.html#distributing-index) guide.\n",
    "\n",
    "> `pip`还有很多选项。请查阅 [Installing Python Modules](https://docs.python.org/3/installing/index.html#installing-index) 指南，以获得`pip`的完整文档。当你写了一个包并想让它在Python包索引上可用时，请参考 [Distributing Python Modules](https://docs.python.org/3/distributing/index.html#distributing-index) 指南。"
   ]
  }
 ],
 "metadata": {
  "kernelspec": {
   "display_name": "Python 3 (ipykernel)",
   "language": "python",
   "name": "python3"
  },
  "language_info": {
   "codemirror_mode": {
    "name": "ipython",
    "version": 3
   },
   "file_extension": ".py",
   "mimetype": "text/x-python",
   "name": "python",
   "nbconvert_exporter": "python",
   "pygments_lexer": "ipython3",
   "version": "3.10.4"
  }
 },
 "nbformat": 4,
 "nbformat_minor": 5
}
