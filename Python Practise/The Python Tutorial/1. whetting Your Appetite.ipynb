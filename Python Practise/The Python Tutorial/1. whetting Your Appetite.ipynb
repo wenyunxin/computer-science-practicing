{
 "cells": [
  {
   "cell_type": "markdown",
   "id": "2062ea90-0cdc-49a7-825d-88c20166863f",
   "metadata": {},
   "source": [
    "Python is an easy to learn, powerful programming language. It has efficient high-level data structures and a simple but effective approach to object-oriented programming. Python’s elegant syntax and dynamic typing, together with its interpreted nature, make it an ideal language for scripting and rapid application development in many areas on most platforms.\n",
    "> Python是一种易于学习、功能强大的编程语言。它具有高效的高层数据结构和简单而有效的面向对象的编程方法。Python优雅的语法和动态类型，加上它的解释性质，使它成为大多数平台上许多领域的脚本和快速应用开发的理想语言。"
   ]
  },
  {
   "cell_type": "markdown",
   "id": "25bf397c-ead7-4290-96b1-6a8831a05678",
   "metadata": {},
   "source": [
    "The Python interpreter and the extensive standard library are freely available in source or binary form for all major platforms from the Python web site, https://www.python.org/, and may be freely distributed. The same site also contains distributions of and pointers to many free third party Python modules, programs and tools, and additional documentation.\n",
    "> Python 解释器和广泛的标准库以源代码或二进制形式从 Python 网站 https://www.python.org/ 免费提供给所有主要平台，并可以免费分发。该网站还包含许多免费的第三方Python模块、程序和工具的发布和指向，以及额外的文档。"
   ]
  },
  {
   "cell_type": "markdown",
   "id": "f3d1c6da-569d-4cef-a227-f77441e3e614",
   "metadata": {},
   "source": [
    "The Python interpreter is easily extended with new functions and data types implemented in C or C++ (or other languages callable from C). Python is also suitable as an extension language for customizable applications.\n",
    "> Python 解释器很容易用 C 或 C++ (或其他可从 C 调用的语言) 实现的新函数和数据类型进行扩展。Python也适合作为可定制应用程序的扩展语言。"
   ]
  },
  {
   "cell_type": "markdown",
   "id": "8352dab5-283d-45c7-bf3a-658c1171495a",
   "metadata": {},
   "source": [
    "This tutorial introduces the reader informally to the basic concepts and features of the Python language and system. It helps to have a Python interpreter handy for hands-on experience, but all examples are self-contained, so the tutorial can be read off-line as well.\n",
    "> 本教程向读者非正式地介绍了Python语言和系统的基本概念和特性。有一个Python解释器有助于亲身体验，但所有的例子都是独立的，所以本教程也可以离线阅读。"
   ]
  },
  {
   "cell_type": "markdown",
   "id": "10e3834f-e4ee-4969-a97e-76d5373a9cbc",
   "metadata": {},
   "source": [
    "For a description of standard objects and modules, see [The Python Standard Library](https://docs.python.org/3/library/index.html#library-index). [The Python Language Reference](https://docs.python.org/3/reference/index.html#reference-index) gives a more formal definition of the language. To write extensions in C or C++, read [Extending and Embedding the Python Interpreter](https://docs.python.org/3/extending/index.html#extending-index) and [Python/C API Reference Manual](https://docs.python.org/3/c-api/index.html#c-api-index). There are also several books covering Python in depth.\n",
    "> 关于标准对象和模块的描述，见 [Python标准库](https://docs.python.org/3/library/index.html#library-index)。[The Python Language Reference](https://docs.python.org/3/reference/index.html#reference-index) 给出了该语言的更正式的定义。要用 C 或 C++ 编写扩展，请阅读 [Extending and Embedding the Python Interpreter](https://docs.python.org/3/extending/index.html#extending-index) 和 [Python/C API Reference Manual](https://docs.python.org/3/c-api/index.html#c-api-index) 。还有几本深入介绍 Python 的书。"
   ]
  },
  {
   "cell_type": "markdown",
   "id": "174d50d5-4dcd-41d5-ac6d-3a6d15729a39",
   "metadata": {},
   "source": [
    "This tutorial does not attempt to be comprehensive and cover every single feature, or even every commonly used feature. Instead, it introduces many of Python’s most noteworthy features, and will give you a good idea of the language’s flavor and style. After reading it, you will be able to read and write Python modules and programs, and you will be ready to learn more about the various Python library modules described in [The Python Standard Library](https://docs.python.org/3/library/index.html#library-index).\n",
    "> 本教程并不试图全面涵盖每一个特性，甚至每一个常用的特性。相反，它介绍了许多 Python 最值得注意的特性，并将使你对这种语言的风味和风格有一个很好的了解。读完后，你将能够阅读和编写 Python 模块和程序，并准备好进一步了解 [The Python Standard Library](https://docs.python.org/3/library/index.html#library-index)中描述的各种 Python 库模块。"
   ]
  },
  {
   "cell_type": "markdown",
   "id": "694f06d0-3ee5-4daf-9af0-46c2ab5e7bea",
   "metadata": {},
   "source": [
    "The [Glossary](https://docs.python.org/3/glossary.html#glossary) is also worth going through.\n",
    "> 词汇表](https://docs.python.org/3/glossary.html#glossary)也值得翻阅。"
   ]
  },
  {
   "cell_type": "markdown",
   "id": "a8201e75-7e4e-44a8-a6d6-d180c8249ceb",
   "metadata": {},
   "source": [
    "### Whetting Your Appetite\n",
    "激发你的食欲"
   ]
  },
  {
   "cell_type": "markdown",
   "id": "912bcf36-274d-42b0-a27d-9269bdde9337",
   "metadata": {},
   "source": [
    "If you do much work on computers, eventually you find that there’s some task you’d like to automate. For example, you may wish to perform a search-and-replace over a large number of text files, or rename and rearrange a bunch of photo files in a complicated way. Perhaps you’d like to write a small custom database, or a specialized GUI application, or a simple game.\n",
    "> 如果你在电脑上做了很多工作，最终你会发现有一些你想自动化的任务。例如，你可能希望对大量的文本文件进行搜索和替换，或者以复杂的方式重命名和重新排列一堆照片文件。也许你想编写一个小型的自定义数据库，或一个专门的GUI应用程序，或一个简单的游戏。"
   ]
  },
  {
   "cell_type": "markdown",
   "id": "bf20e3f2-c879-4d07-876b-45c3b5c5b4a8",
   "metadata": {},
   "source": [
    "If you’re a professional software developer, you may have to work with several C/C++/Java libraries but find the usual write/compile/test/re-compile cycle is too slow. Perhaps you’re writing a test suite for such a library and find writing the testing code a tedious task. Or maybe you’ve written a program that could use an extension language, and you don’t want to design and implement a whole new language for your application.\n",
    "> 如果你是一个专业的软件开发者，你可能需要和几个C/C++/Java库一起工作，但发现通常的写/编译/测试/再编译的周期太慢。也许你正在为这样的库编写测试套件，并发现编写测试代码是一项乏味的工作。或者你已经写了一个可以使用扩展语言的程序，但你不想为你的应用程序设计和实现一种全新的语言。"
   ]
  },
  {
   "cell_type": "markdown",
   "id": "6d3584ca-ccc0-41f5-a0c1-95e62810955d",
   "metadata": {},
   "source": [
    "Python is just the language for you.\n",
    "> Python正是适合你的语言。"
   ]
  },
  {
   "cell_type": "markdown",
   "id": "57ee4e1f-cc5d-4555-9117-e37aefdf63ff",
   "metadata": {},
   "source": [
    "You could write a Unix shell script or Windows batch files for some of these tasks, but shell scripts are best at moving around files and changing text data, not well-suited for GUI applications or games. You could write a C/C++/Java program, but it can take a lot of development time to get even a first-draft program. Python is simpler to use, available on Windows, macOS, and Unix operating systems, and will help you get the job done more quickly.\n",
    "> 你可以为其中一些任务编写Unix shell脚本或Windows批处理文件，但shell脚本最擅长的是移动文件和改变文本数据，不太适合GUI应用或游戏。你可以写一个C/C++/Java程序，但它可能需要大量的开发时间来获得甚至是一个初稿程序。Python使用起来更简单，可以在Windows、macOS和Unix操作系统上使用，并能帮助你更快地完成工作。"
   ]
  },
  {
   "cell_type": "markdown",
   "id": "f353f862-5eb1-4014-bc4b-127b176c14a4",
   "metadata": {},
   "source": [
    "Python is simple to use, but it is a real programming language, offering much more structure and support for large programs than shell scripts or batch files can offer. On the other hand, Python also offers much more error checking than C, and, being a very-high-level language, it has high-level data types built in, such as flexible arrays and dictionaries. Because of its more general data types Python is applicable to a much larger problem domain than Awk or even Perl, yet many things are at least as easy in Python as in those languages.\n",
    "> Python使用起来很简单，但它是一种真正的编程语言，为大型程序提供了比shell脚本或批处理文件所能提供的更多的结构和支持。另一方面，Python也比C语言提供了更多的错误检查，而且作为一种非常高级的语言，它有内置的高级数据类型，如灵活的数组和字典。由于其更通用的数据类型，Python 适用于比 Awk 或甚至 Perl 更大的问题领域，然而许多事情在 Python 中至少和这些语言一样简单。"
   ]
  },
  {
   "cell_type": "markdown",
   "id": "32384ff5-e0b7-4464-8400-1f76df1de54e",
   "metadata": {},
   "source": [
    "Python allows you to split your program into modules that can be reused in other Python programs. It comes with a large collection of standard modules that you can use as the basis of your programs — or as examples to start learning to program in Python. Some of these modules provide things like file I/O, system calls, sockets, and even interfaces to graphical user interface toolkits like Tk.\n",
    "> Python 允许你将你的程序分割成可以在其他 Python 程序中重复使用的模块。它带有大量的标准模块，你可以把它们作为程序的基础--或者作为开始学习 Python 编程的例子。其中一些模块提供了诸如文件输入/输出、系统调用、套接字，甚至是与图形用户界面工具包如Tk的接口。"
   ]
  },
  {
   "cell_type": "markdown",
   "id": "d007b471-25bd-47da-8636-8c701695345b",
   "metadata": {},
   "source": [
    "Python is an interpreted language, which can save you considerable time during program development because no compilation and linking is necessary. The interpreter can be used interactively, which makes it easy to experiment with features of the language, to write throw-away programs, or to test functions during bottom-up program development. It is also a handy desk calculator.\n",
    "> Python是一种解释型语言，在程序开发过程中可以节省大量时间，因为不需要编译和链接。解释器可以交互使用，这使你可以很容易地试验语言的特性，编写丢弃的程序，或者在自下而上的程序开发过程中测试功能。它也是一个方便的桌面计算器。"
   ]
  },
  {
   "cell_type": "markdown",
   "id": "5dd0bce6-aa24-477f-81af-311ae7a13d02",
   "metadata": {},
   "source": [
    "Python enables programs to be written compactly and readably. Programs written in Python are typically much shorter than equivalent C, C++, or Java programs, for several reasons:\n",
    "\n",
    "- the high-level data types allow you to express complex operations in a single statement;\n",
    "- statement grouping is done by indentation instead of beginning and ending brackets;\n",
    "- no variable or argument declarations are necessary.\n",
    "\n",
    "Python 使得程序可以写得紧凑和可读。用Python编写的程序通常比同等的C、C++或Java程序要短得多，这有几个原因。\n",
    "\n",
    "- 高级别的数据类型允许你在一条语句中表达复杂的操作。\n",
    "- 语句分组是通过缩进来完成的，而不是通过开头和结尾的括号。\n",
    "- 没有必要进行变量或参数的声明。"
   ]
  },
  {
   "cell_type": "markdown",
   "id": "63f4fa53-87f9-45f9-a7f1-42efb8911df8",
   "metadata": {},
   "source": [
    "Python is *extensible*: if you know how to program in C it is easy to add a new built-in function or module to the interpreter, either to perform critical operations at maximum speed, or to link Python programs to libraries that may only be available in binary form (such as a vendor-specific graphics library). Once you are really hooked, you can link the Python interpreter into an application written in C and use it as an extension or command language for that application.\n",
    "> Python是*可扩展的*：如果你知道如何用C语言编程，就很容易给解释器添加一个新的内置函数或模块，或者以最大的速度执行关键的操作，或者将Python程序与可能只有二进制形式的库相连接（比如一个供应商特定的图形库）。一旦你真的迷上了，你可以把 Python 解释器链接到用 C 写的应用程序中，并把它作为该应用程序的扩展或命令语言。"
   ]
  },
  {
   "cell_type": "markdown",
   "id": "cd4ac133-8d68-4ec9-9bfc-88b26f6f929f",
   "metadata": {},
   "source": [
    "By the way, the language is named after the BBC show “Monty Python’s Flying Circus” and has nothing to do with reptiles. Making references to Monty Python skits in documentation is not only allowed, it is encouraged!\n",
    "> 顺便说一下，这种语言是以BBC的节目 \"Monty Python's Flying Circus \"命名的，与爬行动物毫无关系。在文档中引用Monty Python的短剧不仅是允许的，而且是被鼓励的。"
   ]
  },
  {
   "cell_type": "markdown",
   "id": "ca97ea7a-0f10-4efd-83fc-bc776a6c77eb",
   "metadata": {},
   "source": [
    "Now that you are all excited about Python, you’ll want to examine it in some more detail. Since the best way to learn a language is to use it, the tutorial invites you to play with the Python interpreter as you read.\n",
    "> 现在你对 Python 感到兴奋了，你会想更详细地研究它。由于学习一种语言的最好方法是使用它，本教程邀请你在阅读时玩玩 Python 解释器。"
   ]
  },
  {
   "cell_type": "markdown",
   "id": "3f073a85-9d43-4f29-91c8-47b0156eaff0",
   "metadata": {},
   "source": [
    "In the next chapter, the mechanics of using the interpreter are explained. This is rather mundane information, but essential for trying out the examples shown later.\n",
    "> 在下一章中，将解释使用解释器的机制。这是很寻常的信息，但对于尝试后面的例子来说是必不可少的。"
   ]
  },
  {
   "cell_type": "markdown",
   "id": "0b4c6df0-9948-4bf5-acb5-fa3d5d64514a",
   "metadata": {},
   "source": [
    "The rest of the tutorial introduces various features of the Python language and system through examples, beginning with simple expressions, statements and data types, through functions and modules, and finally touching upon advanced concepts like exceptions and user-defined classes.\n",
    "> 教程的其余部分通过实例介绍了Python语言和系统的各种特性，从简单的表达式、语句和数据类型开始，到函数和模块，最后触及到高级概念，如异常和用户定义的类。"
   ]
  }
 ],
 "metadata": {
  "kernelspec": {
   "display_name": "Python 3 (ipykernel)",
   "language": "python",
   "name": "python3"
  },
  "language_info": {
   "codemirror_mode": {
    "name": "ipython",
    "version": 3
   },
   "file_extension": ".py",
   "mimetype": "text/x-python",
   "name": "python",
   "nbconvert_exporter": "python",
   "pygments_lexer": "ipython3",
   "version": "3.10.4"
  }
 },
 "nbformat": 4,
 "nbformat_minor": 5
}
