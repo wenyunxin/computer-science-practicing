{
 "cells": [
  {
   "cell_type": "markdown",
   "id": "70cf211e-bbd8-40cc-9762-4871305722b2",
   "metadata": {},
   "source": [
    "## Invoking the Interpreter"
   ]
  },
  {
   "cell_type": "markdown",
   "id": "f1aeca00-dc20-4d64-9549-7db1feb45dd2",
   "metadata": {},
   "source": [
    "The Python interpreter is usually installed as /usr/local/bin/python3.10 on those machines where it is available; putting /usr/local/bin in your Unix shell’s search path makes it possible to start it by typing the command:\n",
    "> 在有Python解释器的机器上，Python解释器通常安装为/usr/local/bin/python3.10；把/usr/local/bin放在Unix shell的搜索路径中，可以通过输入命令来启动它。"
   ]
  },
  {
   "cell_type": "markdown",
   "id": "6c9bf633-b942-4cb9-99f6-d14ca29647ec",
   "metadata": {},
   "source": [
    "to the shell. [^1] Since the choice of the directory where the interpreter lives is an installation option, other places are possible; check with your local Python guru or system administrator. (E.g., `/usr/local/python` is a popular alternative location.)\n",
    ">到 shell。[^1] 由于解释器所在的目录的选择是一个安装选项，其他地方也是可能的；请向您当地的 Python 大师或系统管理员查询。(例如，`/usr/local/python`是一个流行的替代位置。)"
   ]
  },
  {
   "cell_type": "markdown",
   "id": "e0787ea7-0bce-4a81-9300-2fb94e0e3faa",
   "metadata": {},
   "source": [
    "On Windows machines where you have installed Python from the [Microsoft Store](https://docs.python.org/3/using/windows.html#windows-store), the `python3.10` command will be available. If you have the [py.exe launcher](https://docs.python.org/3/using/windows.html#launcher) installed, you can use the `py` command. See [Excursus: Setting environment variables](https://docs.python.org/3/using/windows.html#setting-envvars) for other ways to launch Python.\n",
    "\n",
    "> 在从[Microsoft Store](https://docs.python.org/3/using/windows.html#windows-store)安装了Python的Windows机器上，`python3.10`命令将是可用的。如果你安装了 [py.exe 启动器](https://docs.python.org/3/using/windows.html#launcher) ，你可以使用 `py` 命令。参见 [Excursus: Setting environment variables](https://docs.python.org/3/using/windows.html#setting-envvars) 了解启动 Python 的其他方法。"
   ]
  },
  {
   "cell_type": "markdown",
   "id": "6fa803f9-063c-4723-b50a-6438d7634ef5",
   "metadata": {},
   "source": [
    "Typing an end-of-file character (Control-D on Unix, Control-Z on Windows) at the primary prompt causes the interpreter to exit with a zero exit status. If that doesn’t work, you can exit the interpreter by typing the following command: `quit()`.\n",
    "\n",
    "> 在主提示符下键入文件结束字符（Unix的Control-D，Windows的Control-Z）会导致解释器以零退出状态退出。如果这不起作用，你可以通过输入以下命令退出解释器。`quit()`。"
   ]
  },
  {
   "cell_type": "markdown",
   "id": "2bf30e04-1331-405b-bf44-c4444229427d",
   "metadata": {},
   "source": [
    "The interpreter’s line-editing features include interactive editing, history substitution and code completion on systems that support the [GNU Readline](https://tiswww.case.edu/php/chet/readline/rltop.html) library. Perhaps the quickest check to see whether command line editing is supported is typing Control-P to the first Python prompt you get. If it beeps, you have command line editing; see Appendix [Interactive Input Editing and History Substitution](https://docs.python.org/3/tutorial/interactive.html#tut-interacting) for an introduction to the keys. If nothing appears to happen, or if `^P` is echoed, command line editing isn’t available; you’ll only be able to use backspace to remove characters from the current line.\n",
    "\n",
    "> 解释器的行编辑功能包括交互式编辑、历史替换和支持 [GNU Readline](https://tiswww.case.edu/php/chet/readline/rltop.html) 库的系统上的代码补全。也许检查是否支持命令行编辑的最快方法是在你得到的第一个 Python 提示符上输入 Control-P。如果它发出哔哔声，你就有了命令行编辑；参见附录 [交互式输入编辑和历史替换](https://docs.python.org/3/tutorial/interactive.html#tut-interacting) 对按键的介绍。如果什么都没有发生，或者`^P`被回音，那么命令行编辑是不可用的；你只能用退格键从当前行中删除字符。"
   ]
  },
  {
   "cell_type": "markdown",
   "id": "09c4ccd2-ecfa-4c74-86e8-50ea0fe9c12b",
   "metadata": {},
   "source": [
    "The interpreter operates somewhat like the Unix shell: when called with standard input connected to a tty device, it reads and executes commands interactively; when called with a file name argument or with a file as standard input, it reads and executes a *script* from that file.\n",
    "\n",
    "> 解释器的操作有点像Unix的shell：当用连接到tty设备的标准输入调用时，它以交互方式读取和执行命令；当用文件名参数或用一个文件作为标准输入调用时，它从该文件中读取和执行*脚本*。"
   ]
  },
  {
   "cell_type": "markdown",
   "id": "bc65e48b-e2a7-49e7-b916-c80b94f18100",
   "metadata": {},
   "source": [
    "A second way of starting the interpreter is `python -c command [arg] ...`, which executes the statement(s) in *command*, analogous to the shell’s [`-c`](https://docs.python.org/3/using/cmdline.html#cmdoption-c) option. Since Python statements often contain spaces or other characters that are special to the shell, it is usually advised to quote *command* in its entirety with single quotes.\n",
    "\n",
    "> 启动解释器的第二种方法是`python -c command [arg] ...`，它执行*command*中的语句，类似于shell的 [`-c`](https://docs.python.org/3/using/cmdline.html#cmdoption-c) 选项。由于Python语句经常包含空格或其他对shell来说是特殊的字符，所以通常建议用单引号完整地引用*command*的内容。"
   ]
  },
  {
   "cell_type": "markdown",
   "id": "cb667bad-71ba-451c-8761-606cd6a99369",
   "metadata": {},
   "source": [
    "Some Python modules are also useful as scripts. These can be invoked using `python -m module [arg] ...`, which executes the source file for *module* as if you had spelled out its full name on the command line.\n",
    "\n",
    "> 一些 Python 模块作为脚本也很有用。这些模块可以用`python -m module [arg] ...`来调用，它执行*module*的源文件，就像你在命令行上拼出它的全名一样。"
   ]
  },
  {
   "cell_type": "markdown",
   "id": "90852597-b3e6-41ec-83fc-8260c7b8c0ec",
   "metadata": {},
   "source": [
    "When a script file is used, it is sometimes useful to be able to run the script and enter interactive mode afterwards. This can be done by passing [`-i`](https://docs.python.org/3/using/cmdline.html#cmdoption-i) before the script.\n",
    "\n",
    "> 当使用一个脚本文件时，有时能够运行脚本并在之后进入交互式模式是很有用的。这可以通过在脚本前传递[`-i`](https://docs.python.org/3/using/cmdline.html#cmdoption-i)来实现。"
   ]
  },
  {
   "cell_type": "markdown",
   "id": "84eb4acd-9668-41d7-8a52-140ac8b45e4f",
   "metadata": {},
   "source": [
    "All command line options are described in [Command line and environment](https://docs.python.org/3/using/cmdline.html#using-on-general).\n",
    "\n",
    "> 所有的命令行选项都在[命令行和环境](https://docs.python.org/3/using/cmdline.html#using-on-general)中描述。"
   ]
  },
  {
   "cell_type": "markdown",
   "id": "9a7d493e-11f4-425d-af7b-bdb8ad431c9d",
   "metadata": {},
   "source": [
    "### 2.1.1. Argument Passing"
   ]
  },
  {
   "cell_type": "markdown",
   "id": "750daf1b-25e4-48d6-9a3f-17d73e95d391",
   "metadata": {},
   "source": [
    "When known to the interpreter, the script name and additional arguments thereafter are turned into a list of strings and assigned to the `argv` variable in the `sys` module. You can access this list by executing `import sys`. The length of the list is at least one; when no script and no arguments are given, `sys.argv[0]` is an empty string. When the script name is given as `'-'` (meaning standard input), `sys.argv[0]` is set to `'-'`. When [`-c`](https://docs.python.org/3/using/cmdline.html#cmdoption-c) *command* is used, `sys.argv[0]` is set to `'-c'`. When [`-m`](https://docs.python.org/3/using/cmdline.html#cmdoption-m) *module* is used, `sys.argv[0]` is set to the full name of the located module. Options found after [`-c`](https://docs.python.org/3/using/cmdline.html#cmdoption-c) *command* or [`-m`](https://docs.python.org/3/using/cmdline.html#cmdoption-m) *module* are not consumed by the Python interpreter’s option processing but left in `sys.argv` for the command or module to handle.\n",
    "\n",
    "> 当被解释器知道时，脚本名称和其后的附加参数会变成一个字符串列表，并分配给`sys`模块中的`argv`变量。你可以通过执行`import sys`来访问这个列表。该列表的长度至少为1；当没有给出脚本和参数时，`sys.argv[0]`是一个空字符串。当脚本名称是以\"'-'\"（指标准输入）给出时，`sys.argv[0]`被设置为\"'-'\"。当使用 [`-c`](https://docs.python.org/3/using/cmdline.html#cmdoption-c) *command*时，`sys.argv[0]`被设置为`'-c'。当使用[-m](https://docs.python.org/3/using/cmdline.html#cmdoption-m) *module*时，`sys.argv[0]`被设置为所在模块的完整名称。在 [-c](https://docs.python.org/3/using/cmdline.html#cmdoption-c) *command* 或 [-m](https://docs.python.org/3/using/cmdline.html#cmdoption-m) *module* 后发现的选项不会被 Python 解释器的选项处理所消耗，而是留在 `sys.argv` 中供命令或模块处理。"
   ]
  },
  {
   "cell_type": "markdown",
   "id": "e4e3ebe4-d4da-4393-b062-12d9db785ec6",
   "metadata": {},
   "source": [
    "### 2.1.2. Interactive Mode"
   ]
  },
  {
   "cell_type": "markdown",
   "id": "32cf9cf8-ed57-44eb-84f3-66a67d45f063",
   "metadata": {},
   "source": [
    "When commands are read from a tty, the interpreter is said to be in *interactive mode*. In this mode it prompts for the next command with the *primary prompt*, usually three greater-than signs (`>>>`); for continuation lines it prompts with the *secondary prompt*, by default three dots (`...`). The interpreter prints a welcome message stating its version number and a copyright notice before printing the first prompt:\n",
    "\n",
    "> 当命令从tty读取时，解释器被称为处于*交互式模式*。在这种模式下，它用*主要提示符*提示下一条命令，通常是三个大于号（`>>`）；对于续行，它用*次要提示符*提示，默认是三个点（`...`）。解释器在打印第一个提示符之前会打印一个欢迎信息，说明其版本号和版权声明。"
   ]
  },
  {
   "cell_type": "raw",
   "id": "d9d611ba-fd8e-4091-8ac9-97d333ee1455",
   "metadata": {},
   "source": [
    "$ python3.10\n",
    "Python 3.10 (default, June 4 2019, 09:25:04)\n",
    "[GCC 4.8.2] on linux\n",
    "Type \"help\", \"copyright\", \"credits\" or \"license\" for more information.\n",
    ">>>"
   ]
  },
  {
   "cell_type": "markdown",
   "id": "ad0bb7e7-303f-4b6f-9a7f-552be2157e9c",
   "metadata": {},
   "source": [
    "Continuation lines are needed when entering a multi-line construct. As an example, take a look at this [`if`](https://docs.python.org/3/reference/compound_stmts.html#if) statement:\n",
    "\n",
    "> 当输入多行结构时，需要续行。作为一个例子，看一下这个[`if`](https://docs.python.org/3/reference/compound_stmts.html#if)语句。"
   ]
  },
  {
   "cell_type": "raw",
   "id": "dca12e03-f200-4d77-9a3f-247c7eee2b7f",
   "metadata": {},
   "source": [
    ">>> the_world_is_flat = True\n",
    ">>> if the_world_is_flat:\n",
    "...     print(\"Be careful not to fall off!\")\n",
    "...\n",
    "Be careful not to fall off!"
   ]
  },
  {
   "cell_type": "markdown",
   "id": "77492725-1066-43c7-af36-88cb88bb9b9a",
   "metadata": {},
   "source": [
    "For more on interactive mode, see [Interactive Mode](https://docs.python.org/3/tutorial/appendix.html#tut-interac).\n",
    "\n",
    "> 关于互动模式的更多信息，请参见[互动模式](https://docs.python.org/3/tutorial/appendix.html#tut-interac)。"
   ]
  },
  {
   "cell_type": "markdown",
   "id": "f31bcea8-2e7d-4386-936d-57b87b9b4da3",
   "metadata": {},
   "source": [
    "## 2.2. The Interpreter and Its Environment"
   ]
  },
  {
   "cell_type": "markdown",
   "id": "bb386d31-09de-4a5c-87c2-190eb2cc9e0f",
   "metadata": {},
   "source": [
    "### 2.2.1. Source Code Encoding"
   ]
  },
  {
   "cell_type": "markdown",
   "id": "98244fae-0640-4d84-8901-82daec3ec6b6",
   "metadata": {},
   "source": [
    "By default, Python source files are treated as encoded in UTF-8. In that encoding, characters of most languages in the world can be used simultaneously in string literals, identifiers and comments — although the standard library only uses ASCII characters for identifiers, a convention that any portable code should follow. To display all these characters properly, your editor must recognize that the file is UTF-8, and it must use a font that supports all the characters in the file.\n",
    "\n",
    "> 默认情况下，Python 源文件被视为以 UTF-8 编码。在这种编码中，世界上大多数语言的字符都可以在字符串字面、标识符和注释中同时使用--尽管标准库只对标识符使用ASCII字符，这是任何可移植代码都应该遵循的惯例。为了正确显示所有这些字符，你的编辑器必须认识到文件是UTF-8编码，而且必须使用支持文件中所有字符的字体。"
   ]
  },
  {
   "cell_type": "markdown",
   "id": "b4dd4c5c-d320-4e55-b051-b393ad80a485",
   "metadata": {},
   "source": [
    "To declare an encoding other than the default one, a special comment line should be added as the *first* line of the file. The syntax is as follows:\n",
    "\n",
    "> 要声明一个非默认的编码，应该在文件的*第一*行添加一个特殊的注释行。语法如下。"
   ]
  },
  {
   "cell_type": "raw",
   "id": "f6607b14-7ad6-4441-98d8-2bf38a53cc70",
   "metadata": {},
   "source": [
    "# -*- coding: encoding -*-"
   ]
  },
  {
   "cell_type": "markdown",
   "id": "54540e1f-ca45-40cd-8794-6ff4694695a0",
   "metadata": {},
   "source": [
    "One exception to the *first line* rule is when the source code starts with a [UNIX “shebang” line](https://docs.python.org/3/tutorial/appendix.html#tut-scripts). In this case, the encoding declaration should be added as the second line of the file. For example:\n",
    "\n",
    "> *第一行*规则的一个例外是当源代码以[UNIX \"shebang \"行](https://docs.python.org/3/tutorial/appendix.html#tut-scripts)开始。在这种情况下，编码声明应该作为文件的第二行加入。比如说。"
   ]
  },
  {
   "cell_type": "raw",
   "id": "e3c4fcbf-686d-4c5f-8f5c-23cc94b74a1e",
   "metadata": {},
   "source": [
    "#!/usr/bin/env python3\n",
    "# -*- coding: cp1252 -*-"
   ]
  },
  {
   "cell_type": "markdown",
   "id": "31504309-6672-4ee4-a688-9feb0cab0293",
   "metadata": {},
   "source": [
    "### Footnotes"
   ]
  },
  {
   "cell_type": "markdown",
   "id": "e8a87c1b-e97a-41d6-9b80-4c66f4f406ea",
   "metadata": {},
   "source": [
    "[^1]: On Unix, the Python 3.x interpreter is by default not installed with the executable named `python`, so that it does not conflict with a simultaneously installed Python 2.x executable.\n",
    "\n",
    "> [^1]: 在 Unix 上，Python 3.x 解释器默认不与名为 `python` 的可执行文件一起安装，这样它就不会与同时安装的 Python 2.x 可执行文件冲突。"
   ]
  }
 ],
 "metadata": {
  "kernelspec": {
   "display_name": "Python 3 (ipykernel)",
   "language": "python",
   "name": "python3"
  },
  "language_info": {
   "codemirror_mode": {
    "name": "ipython",
    "version": 3
   },
   "file_extension": ".py",
   "mimetype": "text/x-python",
   "name": "python",
   "nbconvert_exporter": "python",
   "pygments_lexer": "ipython3",
   "version": "3.10.4"
  }
 },
 "nbformat": 4,
 "nbformat_minor": 5
}
