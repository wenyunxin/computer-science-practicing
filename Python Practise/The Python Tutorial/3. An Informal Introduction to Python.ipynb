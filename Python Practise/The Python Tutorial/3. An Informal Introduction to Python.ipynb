{
 "cells": [
  {
   "cell_type": "code",
   "execution_count": 37,
   "id": "5f37490f-8487-42b5-bd55-dbd2f5176fb6",
   "metadata": {},
   "outputs": [],
   "source": [
    "from IPython.core.interactiveshell import InteractiveShell\n",
    "InteractiveShell.ast_node_interactivity = \"all\"\n",
    "import copy"
   ]
  },
  {
   "cell_type": "markdown",
   "id": "0be9abba-df4e-47ad-b22a-8cd9d8ed58f1",
   "metadata": {},
   "source": [
    "In the following examples, input and output are distinguished by the presence or absence of prompts ([>>>](https://docs.python.org/3/glossary.html#term-0) and […](https://docs.python.org/3/glossary.html#term-...)): to repeat the example, you must type everything after the prompt, when the prompt appears; lines that do not begin with a prompt are output from the interpreter. Note that a secondary prompt on a line by itself in an example means you must type a blank line; this is used to end a multi-line command.\n",
    "\n",
    "> 在下面的例子中，输入和输出是由提示符（[>>](https://docs.python.org/3/glossary.html#term-0)和[...](https://docs.python.org/3/glossary.html#term-...)）的存在与否来区分的：要重复这个例子，当提示符出现时，你必须输入提示符之后的所有内容；不以提示符开头的行是由解释器输出的。请注意，在一个例子中，次要的提示符本身在一行，意味着你必须键入一个空行；这用于结束一个多行命令。"
   ]
  },
  {
   "cell_type": "markdown",
   "id": "1f424f32-c3ce-422c-8f85-69b4937a5e4b",
   "metadata": {},
   "source": [
    "You can toggle the display of prompts and output by clicking on `>>>` in the upper-right corner of an example box. If you hide the prompts and output for an example, then you can easily copy and paste the input lines into your interpreter.\n",
    "\n",
    "> 你可以通过点击实例框右上角的\">>\"来切换提示和输出的显示。如果你隐藏了一个例子的提示和输出，那么你可以很容易地复制和粘贴输入行到你的解释器。"
   ]
  },
  {
   "cell_type": "markdown",
   "id": "ef3f4f80-1f1d-400b-807a-c6836928721f",
   "metadata": {},
   "source": [
    "Many of the examples in this manual, even those entered at the interactive prompt, include comments. Comments in Python start with the hash character, `#`, and extend to the end of the physical line. A comment may appear at the start of a line or following whitespace or code, but not within a string literal. A hash character within a string literal is just a hash character. Since comments are to clarify code and are not interpreted by Python, they may be omitted when typing in examples.\n",
    "\n",
    "> 本手册中的许多例子，甚至那些在交互式提示符下输入的例子，都包括注释。Python 中的注释以哈希字符，`#`开始，并延伸到物理行的末端。注释可以出现在一行的开始，或在空白处或代码之后，但不能出现在一个字符串字面中。字符串字头内的哈希字符只是一个哈希字符。由于注释是为了阐释代码，不被 Python 解释，所以在输入例子时可以省略。"
   ]
  },
  {
   "cell_type": "markdown",
   "id": "b8f41bce-578f-4625-88d7-0700d6a3675f",
   "metadata": {},
   "source": [
    "Some examples:"
   ]
  },
  {
   "cell_type": "code",
   "execution_count": 4,
   "id": "0a0103fb-1adb-44f8-923e-11aa9953fae1",
   "metadata": {},
   "outputs": [],
   "source": [
    "# this is the first comment\n",
    "spam = 1  # and this is the second comment\n",
    "          # ... and now a third!\n",
    "text = \"# This is not a comment because it's inside quotes.\""
   ]
  },
  {
   "cell_type": "markdown",
   "id": "c989cd20-2104-41cd-ae5d-48bd5b322828",
   "metadata": {},
   "source": [
    "## 3.1. Using Python as a Calculator"
   ]
  },
  {
   "cell_type": "markdown",
   "id": "d826d192-fa62-439a-a6c3-b9bcfd2be4aa",
   "metadata": {},
   "source": [
    "Let’s try some simple Python commands. Start the interpreter and wait for the primary prompt, `>>>`. (It shouldn’t take long.)\n",
    "\n",
    "> 让我们试试一些简单的Python命令。启动解释器，等待主提示，`>>>`。(应该不会花很长时间)。"
   ]
  },
  {
   "cell_type": "markdown",
   "id": "e215eec3-5077-4cad-85e2-5e8e57cf17f5",
   "metadata": {},
   "source": [
    "### 3.1.1. Numbers"
   ]
  },
  {
   "cell_type": "markdown",
   "id": "4a63469b-7516-4113-973a-8a54db16b9bd",
   "metadata": {},
   "source": [
    "The interpreter acts as a simple calculator: you can type an expression at it and it will write the value. Expression syntax is straightforward: the operators `+`, `-`, `*` and `/` work just like in most other languages (for example, Pascal or C); parentheses (`()`) can be used for grouping. For example:\n",
    "\n",
    "> 解释器就像一个简单的计算器：你可以向它输入一个表达式，它就会写出这个值。表达式的语法很简单：运算符`+`、`-`、`*`和`/`的作用与大多数其他语言（例如Pascal或C）一样；括号（`()`）可以用来分组。比如说"
   ]
  },
  {
   "cell_type": "code",
   "execution_count": 5,
   "id": "50f53be8-f24c-49fb-874d-bb6a43d65b2b",
   "metadata": {},
   "outputs": [
    {
     "data": {
      "text/plain": [
       "4"
      ]
     },
     "execution_count": 5,
     "metadata": {},
     "output_type": "execute_result"
    },
    {
     "data": {
      "text/plain": [
       "20"
      ]
     },
     "execution_count": 5,
     "metadata": {},
     "output_type": "execute_result"
    },
    {
     "data": {
      "text/plain": [
       "5.0"
      ]
     },
     "execution_count": 5,
     "metadata": {},
     "output_type": "execute_result"
    },
    {
     "data": {
      "text/plain": [
       "1.6"
      ]
     },
     "execution_count": 5,
     "metadata": {},
     "output_type": "execute_result"
    }
   ],
   "source": [
    "2 + 2\n",
    "\n",
    "50 - 5*6\n",
    "\n",
    "(50 - 5*6) / 4\n",
    "\n",
    "8 / 5  # division always returns a floating point number"
   ]
  },
  {
   "cell_type": "markdown",
   "id": "240c7ac2-42c1-4bdb-bee3-121d6aabbae6",
   "metadata": {},
   "source": [
    "The integer numbers (e.g. `2`, `4`, `20`) have type [`int`](https://docs.python.org/3/library/functions.html#int), the ones with a fractional part (e.g. `5.0`, `1.6`) have type [`float`](https://docs.python.org/3/library/functions.html#float). We will see more about numeric types later in the tutorial.\n",
    "\n",
    "> 整数（如`2`，`4`，`20`）的类型为[`int`](https://docs.python.org/3/library/functions.html#int)，带有小数部分的（如`5.0`，`1.6`）的类型为[`float`](https://docs.python.org/3/library/functions.html#float)。我们将在本教程的后面看到更多关于数字类型的内容。"
   ]
  },
  {
   "cell_type": "markdown",
   "id": "fa33f15c-5123-4ab3-acb5-c3577a5d51c2",
   "metadata": {},
   "source": [
    "Division (`/`) always returns a float. To do [floor division](https://docs.python.org/3/glossary.html#term-floor-division) and get an integer result (discarding any fractional result) you can use the `//` operator; to calculate the remainder you can use `%`:\n",
    "\n",
    "> 除法(`/`)总是返回一个浮点数。要做[取商除法](https://docs.python.org/3/glossary.html#term-floor-division)并得到一个整数结果（放弃任何小数结果），你可以使用`//`运算符；要计算余数，你可以使用`%`。"
   ]
  },
  {
   "cell_type": "code",
   "execution_count": 6,
   "id": "2e96e3c5-2bb1-49f8-a03e-8a9f38a88aa0",
   "metadata": {},
   "outputs": [
    {
     "data": {
      "text/plain": [
       "5.666666666666667"
      ]
     },
     "execution_count": 6,
     "metadata": {},
     "output_type": "execute_result"
    },
    {
     "data": {
      "text/plain": [
       "5"
      ]
     },
     "execution_count": 6,
     "metadata": {},
     "output_type": "execute_result"
    },
    {
     "data": {
      "text/plain": [
       "2"
      ]
     },
     "execution_count": 6,
     "metadata": {},
     "output_type": "execute_result"
    },
    {
     "data": {
      "text/plain": [
       "17"
      ]
     },
     "execution_count": 6,
     "metadata": {},
     "output_type": "execute_result"
    }
   ],
   "source": [
    "17 / 3  # classic division returns a float\n",
    "\n",
    "\n",
    "17 // 3  # floor division discards the fractional part\n",
    "\n",
    "17 % 3  # the % operator returns the remainder of the division\n",
    "\n",
    "5 * 3 + 2  # floored quotient * divisor + remainder"
   ]
  },
  {
   "cell_type": "markdown",
   "id": "8a8c132a-ffcb-4136-99c8-a375c53e5596",
   "metadata": {},
   "source": [
    "With Python, it is possible to use the `**` operator to calculate powers [^1]:\n",
    "\n",
    "> 在Python中，可以使用`**`运算符来计算幂[^1]。"
   ]
  },
  {
   "cell_type": "code",
   "execution_count": 7,
   "id": "5acd26a5-7ccc-456e-992e-861ad106dbf5",
   "metadata": {},
   "outputs": [
    {
     "data": {
      "text/plain": [
       "25"
      ]
     },
     "execution_count": 7,
     "metadata": {},
     "output_type": "execute_result"
    },
    {
     "data": {
      "text/plain": [
       "128"
      ]
     },
     "execution_count": 7,
     "metadata": {},
     "output_type": "execute_result"
    }
   ],
   "source": [
    "5 ** 2  # 5 squared\n",
    "\n",
    "2 ** 7  # 2 to the power of 7"
   ]
  },
  {
   "cell_type": "markdown",
   "id": "45be8c34-cd8e-4857-afe3-bc3d02d0e4e3",
   "metadata": {},
   "source": [
    "The equal sign (`=`) is used to assign a value to a variable. Afterwards, no result is displayed before the next interactive prompt:\n",
    "\n",
    "> 等号（`=`）用于给变量赋值。之后，在下一个交互式提示前不会显示任何结果。"
   ]
  },
  {
   "cell_type": "code",
   "execution_count": 8,
   "id": "9a042140-c952-4d47-9da4-31d49e2283ae",
   "metadata": {},
   "outputs": [
    {
     "data": {
      "text/plain": [
       "900"
      ]
     },
     "execution_count": 8,
     "metadata": {},
     "output_type": "execute_result"
    }
   ],
   "source": [
    "width = 20\n",
    "height = 5 * 9\n",
    "width * height"
   ]
  },
  {
   "cell_type": "markdown",
   "id": "097ae6ca-e283-4e8c-bcd4-de1b9f46ce38",
   "metadata": {},
   "source": [
    "If a variable is not “defined” (assigned a value), trying to use it will give you an error:\n",
    "\n",
    "> 如果一个变量没有被 \"定义\"（赋予一个值），试图使用这个变量将会出现错误。"
   ]
  },
  {
   "cell_type": "code",
   "execution_count": 9,
   "id": "84588e36-00cb-46c1-9b29-0cca14093f36",
   "metadata": {},
   "outputs": [
    {
     "ename": "NameError",
     "evalue": "name 'n' is not defined",
     "output_type": "error",
     "traceback": [
      "\u001b[1;31m---------------------------------------------------------------------------\u001b[0m",
      "\u001b[1;31mNameError\u001b[0m                                 Traceback (most recent call last)",
      "Input \u001b[1;32mIn [9]\u001b[0m, in \u001b[0;36m<cell line: 1>\u001b[1;34m()\u001b[0m\n\u001b[1;32m----> 1\u001b[0m \u001b[43mn\u001b[49m\n",
      "\u001b[1;31mNameError\u001b[0m: name 'n' is not defined"
     ]
    }
   ],
   "source": [
    "n  # try to access an undefined variable"
   ]
  },
  {
   "cell_type": "markdown",
   "id": "dcf8e718-c797-4648-b9c4-5d41a0b67510",
   "metadata": {},
   "source": [
    "There is full support for floating point; operators with mixed type operands convert the integer operand to floating point:\n",
    "\n",
    "> 完全支持浮点；具有混合类型操作数的运算符将整数操作数转换成浮点。4 * 3.75 - 1"
   ]
  },
  {
   "cell_type": "code",
   "execution_count": 10,
   "id": "8beee7ac-9c63-4703-acf6-a407d540eaed",
   "metadata": {},
   "outputs": [
    {
     "data": {
      "text/plain": [
       "14.0"
      ]
     },
     "execution_count": 10,
     "metadata": {},
     "output_type": "execute_result"
    }
   ],
   "source": [
    "4 * 3.75 - 1"
   ]
  },
  {
   "cell_type": "markdown",
   "id": "e4758718-3407-4ccf-8ce1-5a102212ad56",
   "metadata": {},
   "source": [
    "In interactive mode, the last printed expression is assigned to the variable `_`. This means that when you are using Python as a desk calculator, it is somewhat easier to continue calculations, for example:\n",
    "\n",
    "> 在交互式模式下，最后打印的表达式被分配给变量`_`。这意味着，当你把Python作为桌面计算器使用时，继续计算就有些容易了，例如："
   ]
  },
  {
   "cell_type": "code",
   "execution_count": 11,
   "id": "0729167a-2319-4f4a-91eb-37daa3e12be5",
   "metadata": {},
   "outputs": [
    {
     "data": {
      "text/plain": [
       "12.5625"
      ]
     },
     "execution_count": 11,
     "metadata": {},
     "output_type": "execute_result"
    },
    {
     "data": {
      "text/plain": [
       "113.0625"
      ]
     },
     "execution_count": 11,
     "metadata": {},
     "output_type": "execute_result"
    },
    {
     "data": {
      "text/plain": [
       "113.06"
      ]
     },
     "execution_count": 11,
     "metadata": {},
     "output_type": "execute_result"
    }
   ],
   "source": [
    "tax = 12.5 / 100\n",
    "price = 100.50\n",
    "price * tax\n",
    "\n",
    "price + _\n",
    "\n",
    "round(_, 2)"
   ]
  },
  {
   "cell_type": "markdown",
   "id": "33c71fdc-19fc-4771-83b8-a862a65af064",
   "metadata": {},
   "source": [
    "This variable should be treated as read-only by the user. Don’t explicitly assign a value to it — you would create an independent local variable with the same name masking the built-in variable with its magic behavior.\n",
    "\n",
    "> 这个变量(`_`)应该被用户视为只读。不要明确地给它赋值--你将创建一个独立的、具有相同名称的局部变量，用其神奇的行为掩盖内置变量。"
   ]
  },
  {
   "cell_type": "markdown",
   "id": "ca5e78e1-b783-4297-90f7-c12b4cd5d37a",
   "metadata": {},
   "source": [
    "In addition to [`int`](https://docs.python.org/3/library/functions.html#int) and [`float`](https://docs.python.org/3/library/functions.html#float), Python supports other types of numbers, such as [`Decimal`](https://docs.python.org/3/library/decimal.html#decimal.Decimal) and [`Fraction`](https://docs.python.org/3/library/fractions.html#fractions.Fraction). Python also has built-in support for [complex numbers](https://docs.python.org/3/library/stdtypes.html#typesnumeric), and uses the `j` or `J` suffix to indicate the imaginary part (e.g. `3+5j`).\n",
    "\n",
    "> 除了 [`int`](https://docs.python.org/3/library/functions.html#int) 和 [`float`](https://docs.python.org/3/library/functions.html#float) 之外，Python 还支持其他类型的数，如 [`Decimal`](https://docs.python.org/3/library/decimal.html#decimal.Decimal) 和 [`Fraction`](https://docs.python.org/3/library/fractions.html#fractions.Fraction)。Python还内置了对[复数](https://docs.python.org/3/library/stdtypes.html#typesnumeric)的支持，并使用`j`或`J`后缀来表示虚部(例如，`3+5j`)。"
   ]
  },
  {
   "cell_type": "markdown",
   "id": "8fa981fc-183a-431d-a8c9-686eb9390c35",
   "metadata": {},
   "source": [
    "### 3.1.2. Strings"
   ]
  },
  {
   "cell_type": "markdown",
   "id": "673fd318-629c-4812-b584-e7e37758d2c6",
   "metadata": {},
   "source": [
    "Besides numbers, Python can also manipulate strings, which can be expressed in several ways. They can be enclosed in single quotes (`'...'`) or double quotes (`\"...\"`) with the same result[^2]. `\\` can be used to escape quotes:\n",
    "\n",
    "> 除了数字，Python 还可以操作字符串，它可以用几种方式表示。它们可以用单引号(`'...')或双引号(`\"...\")括起来，结果相同[^2]。`\\`可以用来转义引号。"
   ]
  },
  {
   "cell_type": "code",
   "execution_count": 12,
   "id": "c7e4a236-77c0-4c19-83fc-e16659636ba2",
   "metadata": {},
   "outputs": [
    {
     "data": {
      "text/plain": [
       "'spam eggs'"
      ]
     },
     "execution_count": 12,
     "metadata": {},
     "output_type": "execute_result"
    },
    {
     "data": {
      "text/plain": [
       "\"doesn't\""
      ]
     },
     "execution_count": 12,
     "metadata": {},
     "output_type": "execute_result"
    },
    {
     "data": {
      "text/plain": [
       "\"doesn't\""
      ]
     },
     "execution_count": 12,
     "metadata": {},
     "output_type": "execute_result"
    },
    {
     "data": {
      "text/plain": [
       "'\"Yes,\" they said.'"
      ]
     },
     "execution_count": 12,
     "metadata": {},
     "output_type": "execute_result"
    },
    {
     "data": {
      "text/plain": [
       "'\"Yes,\" they said.'"
      ]
     },
     "execution_count": 12,
     "metadata": {},
     "output_type": "execute_result"
    },
    {
     "data": {
      "text/plain": [
       "'\"Isn\\'t,\" they said.'"
      ]
     },
     "execution_count": 12,
     "metadata": {},
     "output_type": "execute_result"
    }
   ],
   "source": [
    "'spam eggs'  # single quotes\n",
    "\n",
    "'doesn\\'t'  # use \\' to escape the single quote...\n",
    "\n",
    "\"doesn't\"  # ...or use double quotes instead\n",
    "\n",
    "'\"Yes,\" they said.'\n",
    "\n",
    "\"\\\"Yes,\\\" they said.\"\n",
    "\n",
    "'\"Isn\\'t,\" they said.'"
   ]
  },
  {
   "cell_type": "markdown",
   "id": "af3c7314-5049-46e3-ac6e-1fe4d8ffaa1c",
   "metadata": {},
   "source": [
    "In the interactive interpreter, the output string is enclosed in quotes and special characters are escaped with backslashes. While this might sometimes look different from the input (the enclosing quotes could change), the two strings are equivalent. The string is enclosed in double quotes if the string contains a single quote and no double quotes, otherwise it is enclosed in single quotes. The [`print()`](https://docs.python.org/3/library/functions.html#print) function produces a more readable output, by omitting the enclosing quotes and by printing escaped and special characters:\n",
    "\n",
    "> 在交互式解释器中，输出字符串被括在引号中，特殊字符用反斜线转义。虽然这有时可能看起来与输入不同（附带的引号可能改变），但这两个字符串是等价的。如果字符串包含一个单引号，没有双引号，则用双引号括起来，否则就用单引号括起来。[`print()`](https://docs.python.org/3/library/functions.html#print)函数通过省略附带引号和打印转义字符和特殊字符，产生一个更可读的输出。"
   ]
  },
  {
   "cell_type": "code",
   "execution_count": 13,
   "id": "b2067494-7756-4301-95b8-18e6f0e19a3e",
   "metadata": {},
   "outputs": [
    {
     "data": {
      "text/plain": [
       "'\"Isn\\'t,\" they said.'"
      ]
     },
     "execution_count": 13,
     "metadata": {},
     "output_type": "execute_result"
    },
    {
     "name": "stdout",
     "output_type": "stream",
     "text": [
      "\"Isn't,\" they said.\n"
     ]
    },
    {
     "data": {
      "text/plain": [
       "'First line.\\nSecond line.'"
      ]
     },
     "execution_count": 13,
     "metadata": {},
     "output_type": "execute_result"
    },
    {
     "name": "stdout",
     "output_type": "stream",
     "text": [
      "First line.\n",
      "Second line.\n"
     ]
    }
   ],
   "source": [
    "'\"Isn\\'t,\" they said.'\n",
    "\n",
    "print('\"Isn\\'t,\" they said.')\n",
    "\n",
    "s = 'First line.\\nSecond line.'  # \\n means newline\n",
    "s  # without print(), \\n is included in the output\n",
    "\n",
    "print(s)  # with print(), \\n produces a new line"
   ]
  },
  {
   "cell_type": "markdown",
   "id": "ffffeb0d-9615-4963-a32e-12b88203bddf",
   "metadata": {},
   "source": [
    "If you don’t want characters prefaced by `\\` to be interpreted as special characters, you can use *raw strings* by adding an `r` before the first quote:\n",
    "\n",
    "> 如果你不想让以`\\`为首的字符被解释为特殊字符，你可以使用*raw strings*，在第一个引号前加一个`r`。"
   ]
  },
  {
   "cell_type": "code",
   "execution_count": 14,
   "id": "7d84dc2e-4ef2-48e9-a744-6baca7481c34",
   "metadata": {},
   "outputs": [
    {
     "name": "stdout",
     "output_type": "stream",
     "text": [
      "C:\\some\n",
      "ame\n",
      "C:\\some\\name\n"
     ]
    }
   ],
   "source": [
    "print('C:\\some\\name')  # here \\n means newline!\n",
    "\n",
    "\n",
    "print(r'C:\\some\\name')  # note the r before the quote"
   ]
  },
  {
   "cell_type": "markdown",
   "id": "70b96193-f345-4a5c-bb4e-d4893a3dcab0",
   "metadata": {},
   "source": [
    "String literals can span multiple lines. One way is using triple-quotes: `\"\"\"...\"\"\"` or `'''...'''`. End of lines are automatically included in the string, but it’s possible to prevent this by adding a `\\` at the end of the line. The following example:\n",
    "\n",
    "> 字符串可以横跨多行。一种方法是使用三引号：`\"\"...\"\"`或`'''...''`\"。行末会自动包含在字符串中，但可以通过在行末添加一个`\\`来防止这一点。下面的例子："
   ]
  },
  {
   "cell_type": "code",
   "execution_count": 15,
   "id": "f71d71a9-ad2b-4d1e-b3ea-18d8637f185c",
   "metadata": {},
   "outputs": [
    {
     "name": "stdout",
     "output_type": "stream",
     "text": [
      "Usage: thingy [OPTIONS]\n",
      "     -h                        Display this usage message\n",
      "     -H hostname               Hostname to connect to\n",
      "\n"
     ]
    }
   ],
   "source": [
    "print(\"\"\"\\\n",
    "Usage: thingy [OPTIONS]\n",
    "     -h                        Display this usage message\n",
    "     -H hostname               Hostname to connect to\n",
    "\"\"\")"
   ]
  },
  {
   "cell_type": "markdown",
   "id": "97454aaa-7b14-47e3-91a7-aebb5138838b",
   "metadata": {},
   "source": [
    "produces the following output (note that the initial newline is not included):\n",
    "\n",
    "> 产生以下输出（注意不包括初始换行）："
   ]
  },
  {
   "cell_type": "raw",
   "id": "30fd41d4-94b6-4b85-a5bf-7e074d8afe02",
   "metadata": {},
   "source": [
    "Usage: thingy [OPTIONS]\n",
    "     -h                        Display this usage message\n",
    "     -H hostname               Hostname to connect to"
   ]
  },
  {
   "cell_type": "markdown",
   "id": "9289eb50-3858-45e0-82a1-109ed0da7ceb",
   "metadata": {},
   "source": [
    "Strings can be concatenated (glued together) with the `+` operator, and repeated with `*`:\n",
    "\n",
    "> 字符串可以用`+`运算符连接（粘在一起），也可以用`*`重复。"
   ]
  },
  {
   "cell_type": "code",
   "execution_count": null,
   "id": "d7061ea1-c237-445c-bc18-083975d3ee4d",
   "metadata": {},
   "outputs": [],
   "source": [
    "# 3 times 'un', followed by 'ium'\n",
    "3 * 'un' + 'ium'"
   ]
  },
  {
   "cell_type": "markdown",
   "id": "f8cb7e7d-f923-460b-8fc3-27bb3a6b1df6",
   "metadata": {},
   "source": [
    "Two or more *string literals* (i.e. the ones enclosed between quotes) next to each other are automatically concatenated.\n",
    "\n",
    "> 两个或更多的*字符串字面值*（即用引号括起来的字面值）彼此相邻，会自动连接起来。"
   ]
  },
  {
   "cell_type": "code",
   "execution_count": null,
   "id": "0d26c022-82e9-43e1-b1e7-da58ce966493",
   "metadata": {},
   "outputs": [],
   "source": [
    "'Py' 'thon'"
   ]
  },
  {
   "cell_type": "markdown",
   "id": "0e872e7e-1ed4-4461-b23c-da924be8459e",
   "metadata": {},
   "source": [
    "This feature is particularly useful when you want to break long strings:\n",
    "\n",
    "> 当你想打断长字符串时，这个功能特别有用。"
   ]
  },
  {
   "cell_type": "code",
   "execution_count": null,
   "id": "5d5e0620-a421-427f-84c7-ffac34ad3e01",
   "metadata": {},
   "outputs": [],
   "source": [
    "text = ('Put several strings within parentheses '\n",
    "        'to have them joined together.')\n",
    "text"
   ]
  },
  {
   "cell_type": "markdown",
   "id": "6c104d9c-6fa8-4047-b605-7438dd1fda70",
   "metadata": {},
   "source": [
    "This only works with two literals though, not with variables or expressions:\n",
    "\n",
    "> 不过这只对两个字面值有效，对变量或表达式无效。"
   ]
  },
  {
   "cell_type": "code",
   "execution_count": null,
   "id": "9c60768b-ed4a-493a-b08a-dbf2c561a6cf",
   "metadata": {},
   "outputs": [],
   "source": [
    "prefix = 'Py'\n",
    "prefix 'thon'  # can't concatenate a variable and a string literal"
   ]
  },
  {
   "cell_type": "code",
   "execution_count": null,
   "id": "dd716d21-9e6e-4cdf-bdd0-a39f50ee8754",
   "metadata": {},
   "outputs": [],
   "source": [
    "('un' * 3) 'ium'"
   ]
  },
  {
   "cell_type": "markdown",
   "id": "687d6815-7e45-4e63-b05d-69b76225432c",
   "metadata": {},
   "source": [
    "If you want to concatenate variables or a variable and a literal, use `+`:\n",
    "\n",
    "> 如果你想串联变量或一个变量和一个字面值，请使用`+`。"
   ]
  },
  {
   "cell_type": "code",
   "execution_count": null,
   "id": "792b3262-af95-4ef5-b1c6-50b83f22cdc3",
   "metadata": {},
   "outputs": [],
   "source": [
    "prefix = 'py'\n",
    "prefix + 'thon'"
   ]
  },
  {
   "cell_type": "markdown",
   "id": "9ae707b0-2ea1-4542-a231-55acf060abac",
   "metadata": {},
   "source": [
    "Strings can be *indexed* (subscripted), with the first character having index 0. There is no separate character type; a character is simply a string of size one:\n",
    "\n",
    "> 字符串可以被*索引*（下标），第一个字符的索引为0。没有单独的字符类型；一个字符只是一个大小为1的字符串。"
   ]
  },
  {
   "cell_type": "code",
   "execution_count": 16,
   "id": "5b77e686-deab-488a-b053-703d877619bb",
   "metadata": {},
   "outputs": [
    {
     "data": {
      "text/plain": [
       "'P'"
      ]
     },
     "execution_count": 16,
     "metadata": {},
     "output_type": "execute_result"
    },
    {
     "data": {
      "text/plain": [
       "'n'"
      ]
     },
     "execution_count": 16,
     "metadata": {},
     "output_type": "execute_result"
    }
   ],
   "source": [
    "word = 'Python'\n",
    "word[0]  # character in position 0\n",
    "\n",
    "word[5]  # character in position 5"
   ]
  },
  {
   "cell_type": "markdown",
   "id": "6dd80d1f-3330-4618-b52f-f07cd1c3d8ba",
   "metadata": {},
   "source": [
    "Indices may also be negative numbers, to start counting from the right:\n",
    "\n",
    "> 索引数也可以是负数，从右边开始计算。"
   ]
  },
  {
   "cell_type": "code",
   "execution_count": null,
   "id": "d616ea7c-a84d-47d1-9d7d-b5714f949cdb",
   "metadata": {},
   "outputs": [],
   "source": [
    "word[-1]  # last character\n",
    "\n",
    "word[-2]  # second-last character\n",
    "\n",
    "word[-6]"
   ]
  },
  {
   "cell_type": "markdown",
   "id": "8e7a7896-3543-49bf-a73a-792cdac9084b",
   "metadata": {},
   "source": [
    "Note that since -0 is the same as 0, negative indices start from -1.\n",
    "\n",
    "In addition to indexing, *slicing* is also supported. While indexing is used to obtain individual characters, *slicing* allows you to obtain substring:\n",
    "\n",
    "> 请注意，由于-0与0相同，所以负索引数从-1开始。\n",
    ">\n",
    "> 除了索引之外，还支持*切分*。索引是用来获取单个字符的，而*切分*允许你获取子字符串。"
   ]
  },
  {
   "cell_type": "code",
   "execution_count": null,
   "id": "7764699c-3cbd-4a78-9baf-21712d0b28ee",
   "metadata": {},
   "outputs": [],
   "source": [
    "word[0:2]  # characters from position 0 (included) to 2 (excluded)\n",
    "\n",
    "word[2:5]  # characters from position 2 (included) to 5 (excluded)"
   ]
  },
  {
   "cell_type": "markdown",
   "id": "6b88d2eb-5cbc-4563-8bb9-884ea98cd2a1",
   "metadata": {},
   "source": [
    "Slice indices have useful defaults; an omitted first index defaults to zero, an omitted second index defaults to the size of the string being sliced.\n",
    "\n",
    "> 分片索引有有用的默认值；省略的第一个索引默认为零，省略的第二个索引默认为被切片的字符串的大小。"
   ]
  },
  {
   "cell_type": "code",
   "execution_count": null,
   "id": "6880c3f0-6f3e-4376-8fcc-1f677354f043",
   "metadata": {},
   "outputs": [],
   "source": [
    "word[:2]   # character from the beginning to position 2 (excluded)\n",
    "\n",
    "word[4:]   # characters from position 4 (included) to the end (included)\n",
    "\n",
    "word[-2:]  # characters from the second-last (included) to the end (included)"
   ]
  },
  {
   "cell_type": "markdown",
   "id": "8eab2e5b-9ec4-4af0-a1ad-cd4a4fe78ad1",
   "metadata": {},
   "source": [
    "Note how the start is always included, and the end always excluded. This makes sure that `s[:i] + s[i:]` is always equal to `s`:\n",
    "\n",
    "> 请注意，开始部分总是被包括在内，而结束部分总是被排除在外。这确保了`s[:i] + s[i:]`总是等于`s`。"
   ]
  },
  {
   "cell_type": "code",
   "execution_count": null,
   "id": "118c54e1-668f-4b5f-843b-b3717a8ab673",
   "metadata": {},
   "outputs": [],
   "source": [
    "word[:2] + word[2:]\n",
    "\n",
    "word[:4] + word[4:]"
   ]
  },
  {
   "cell_type": "markdown",
   "id": "7ee84ac9-969f-4099-9479-dc0561114fe0",
   "metadata": {},
   "source": [
    "One way to remember how slices work is to think of the indices as pointing *between* characters, with the left edge of the first character numbered 0. Then the right edge of the last character of a string of *n* characters has index *n*, for example:\n",
    "\n",
    "> 记住切片工作原理的一个方法是，把索引看作是*字符之间*的指向，第一个字符的左边缘编号为0，那么一串*n*字符的最后一个字符的右边缘的指数为*n*，例如："
   ]
  },
  {
   "cell_type": "raw",
   "id": "c7708a52-b46a-4243-910c-8519ab692175",
   "metadata": {},
   "source": [
    "+---+---+---+---+---+---+\n",
    " | P | y | t | h | o | n |\n",
    " +---+---+---+---+---+---+\n",
    " 0   1   2   3   4   5   6\n",
    "-6  -5  -4  -3  -2  -1"
   ]
  },
  {
   "cell_type": "markdown",
   "id": "71b24bc8-21e5-4ebe-9479-c5b050af228e",
   "metadata": {},
   "source": [
    "The first row of numbers gives the position of the indices 0…6 in the string; the second row gives the corresponding negative indices. The slice from *i* to *j* consists of all characters between the edges labeled *i* and *j*, respectively.\n",
    "\n",
    "> 第一行数字给出了索引0...6在字符串中的位置；第二行给出了相应的负数索引。从*i*到*j*的切片由分别标有*i*和*j*的边之间的所有字符组成。"
   ]
  },
  {
   "cell_type": "markdown",
   "id": "13235c9c-6047-4429-8dc4-95ac322d46a1",
   "metadata": {},
   "source": [
    "For non-negative indices, the length of a slice is the difference of the indices, if both are within bounds. For example, the length of `word[1:3]` is 2.\n",
    "\n",
    "> 对于非负索引数，如果两个索引数都在范围内，切片的长度就是索引数的差值。例如，`word[1:3]`的长度是2。"
   ]
  },
  {
   "cell_type": "markdown",
   "id": "cf9523fb-849c-4544-bae4-1d84e2872372",
   "metadata": {},
   "source": [
    "Attempting to use an index that is too large will result in an error:\n",
    "\n",
    "> 试图使用一个过大的索引将导致一个错误："
   ]
  },
  {
   "cell_type": "code",
   "execution_count": null,
   "id": "c0f789e2-c04a-45d2-82c0-b78919d3d21b",
   "metadata": {},
   "outputs": [],
   "source": [
    "word[42]  # the word only has 6 characters"
   ]
  },
  {
   "cell_type": "markdown",
   "id": "3417057c-2e82-4672-8000-92ed7f892608",
   "metadata": {},
   "source": [
    "However, out of range slice indexes are handled gracefully when used for slicing:\n",
    "\n",
    "> 然而，当用于切分时，超出范围的切片索引会被优雅地处理:"
   ]
  },
  {
   "cell_type": "code",
   "execution_count": null,
   "id": "82274259-683b-420c-8b45-e548fa994f43",
   "metadata": {},
   "outputs": [],
   "source": [
    "word[4:42]\n",
    "\n",
    "word[42:]"
   ]
  },
  {
   "cell_type": "markdown",
   "id": "74367d4c-ddf7-4076-9b97-3184778ed188",
   "metadata": {},
   "source": [
    "Python strings cannot be changed — they are [immutable](https://docs.python.org/3/glossary.html#term-immutable). Therefore, assigning to an indexed position in the string results in an error:\n",
    "\n",
    "> Python字符串不能被更改--它们是[不可改变的](https://docs.python.org/3/glossary.html#term-immutable)。因此，向字符串中的索引位置赋值会导致一个错误。"
   ]
  },
  {
   "cell_type": "code",
   "execution_count": null,
   "id": "2f0e7083-106a-4926-b1de-f986b0e66abd",
   "metadata": {},
   "outputs": [],
   "source": [
    "word[0] = 'J'\n",
    "\n",
    "\n",
    "word[2:] = 'py'"
   ]
  },
  {
   "cell_type": "markdown",
   "id": "9477841a-8080-4c0f-b8ff-b514597a7a32",
   "metadata": {},
   "source": [
    "If you need a different string, you should create a new one:\n",
    "\n",
    "> 如果你需要一个不同的字符串，你应该创建一个新的字符串："
   ]
  },
  {
   "cell_type": "code",
   "execution_count": 18,
   "id": "634fbb69-845f-418d-adba-9830a8d3b02a",
   "metadata": {},
   "outputs": [
    {
     "data": {
      "text/plain": [
       "'Jython'"
      ]
     },
     "execution_count": 18,
     "metadata": {},
     "output_type": "execute_result"
    },
    {
     "data": {
      "text/plain": [
       "'Pypy'"
      ]
     },
     "execution_count": 18,
     "metadata": {},
     "output_type": "execute_result"
    }
   ],
   "source": [
    "'J' + word[1:]\n",
    "\n",
    "word[:2] + 'py'"
   ]
  },
  {
   "cell_type": "markdown",
   "id": "139bc2ca-5cf7-4c71-8188-dd17b53cf655",
   "metadata": {},
   "source": [
    "The built-in function [`len()`](https://docs.python.org/3/library/functions.html#len) returns the length of a string:\n",
    "\n",
    "> 内置函数[`len()`](https://docs.python.org/3/library/functions.html#len)返回一个字符串的长度。"
   ]
  },
  {
   "cell_type": "code",
   "execution_count": 20,
   "id": "22dc805b-863a-4ea0-8e2f-47f28682ff01",
   "metadata": {},
   "outputs": [
    {
     "data": {
      "text/plain": [
       "34"
      ]
     },
     "execution_count": 20,
     "metadata": {},
     "output_type": "execute_result"
    }
   ],
   "source": [
    "s = 'supercalifragilisticexpialidocious'\n",
    "len(s)"
   ]
  },
  {
   "cell_type": "markdown",
   "id": "6abe17eb-2ca0-4ba7-8484-b6963f3bdbf1",
   "metadata": {},
   "source": [
    "See also:\n",
    "- [Text Sequence Type — str](https://docs.python.org/3/library/stdtypes.html#textseq)\n",
    "\n",
    "  Strings are examples of *sequence types*, and support the common operations supported by such types.\n",
    "\n",
    "- [String Methods](https://docs.python.org/3/library/stdtypes.html#string-methods)\n",
    "\n",
    "  Strings support a large number of methods for basic transformations and searching.\n",
    "\n",
    "- [Formatted string literals](https://docs.python.org/3/reference/lexical_analysis.html#f-strings)\n",
    "\n",
    "  String literals that have embedded expressions.\n",
    "\n",
    "- [Format String Syntax](https://docs.python.org/3/library/string.html#formatstrings)\n",
    "\n",
    "  Information about string formatting with [`str.format()`](https://docs.python.org/3/library/stdtypes.html#str.format).\n",
    "\n",
    "- [printf-style String Formatting](https://docs.python.org/3/library/stdtypes.html#old-string-formatting)\n",
    "\n",
    "  The old formatting operations invoked when strings are the left operand of the `%` operator are described in more detail here.\n",
    "\n",
    "> 另见：\n",
    "> - [文本序列类型 - str](https://docs.python.org/3/library/stdtypes.html#textseq)\n",
    ">\n",
    ">   字符串是*序列类型*的例子，并支持此类类型所支持的常见操作。\n",
    ">\n",
    "> - [字符串方法](https://docs.python.org/3/library/stdtypes.html#string-methods)\n",
    ">\n",
    ">   字符串支持大量用于基本转换和搜索的方法。\n",
    ">\n",
    "> - [Formatted string literals](https://docs.python.org/3/reference/lexical_analysis.html#f-strings)\n",
    ">\n",
    ">   具有嵌入式表达式的字符串字面。\n",
    ">\n",
    "> - [格式化字符串语法](https://docs.python.org/3/library/string.html#formatstrings)\n",
    ">\n",
    ">   关于用[`str.format()`](https://docs.python.org/3/library/stdtypes.html#str.format)进行字符串格式化的信息。\n",
    ">\n",
    "> - [printf-style String Formatting](https://docs.python.org/3/library/stdtypes.html#old-string-formatting)\n",
    ">\n",
    ">   当字符串是`%`运算符的左边操作数时，调用的旧格式化操作在这里有更详细的描述。"
   ]
  },
  {
   "cell_type": "markdown",
   "id": "7d549f95-3ee5-4493-bb34-389da95f0d16",
   "metadata": {},
   "source": [
    "### 3.1.3. Lists"
   ]
  },
  {
   "cell_type": "markdown",
   "id": "078d1f31-acf8-43c6-ae70-a6a0b4c14294",
   "metadata": {},
   "source": [
    "Python knows a number of *compound* data types, used to group together other values. The most versatile is the *list*, which can be written as a list of comma-separated values (items) between square brackets. Lists might contain items of different types, but usually the items all have the same type.\n",
    "\n",
    "> Python 知道一些 *compound* 数据类型，用于将其他值组合在一起。最通用的是*list*，它可以写成方括号之间的逗号分隔的值（项）的列表。列表可能包含不同类型的项目，但通常这些项目都有相同的类型。"
   ]
  },
  {
   "cell_type": "code",
   "execution_count": 22,
   "id": "1cd823a8-ba25-474c-90c5-5711b19d566a",
   "metadata": {},
   "outputs": [
    {
     "data": {
      "text/plain": [
       "[1, 4, 9, 16, 25]"
      ]
     },
     "execution_count": 22,
     "metadata": {},
     "output_type": "execute_result"
    }
   ],
   "source": [
    "squares = [1, 4, 9, 16, 25]\n",
    "squares"
   ]
  },
  {
   "cell_type": "markdown",
   "id": "b4b5aba0-e7a2-419c-9fec-b5991d1d2efd",
   "metadata": {},
   "source": [
    "Like strings (and all other built-in [sequence](https://docs.python.org/3/glossary.html#term-sequence) types), lists can be indexed and sliced:\n",
    "\n",
    "> 像字符串（以及所有其他内置的 [sequence](https://docs.python.org/3/glossary.html#term-sequence) 类型），列表可以被索引和切分。"
   ]
  },
  {
   "cell_type": "code",
   "execution_count": 23,
   "id": "e015aca5-9e07-491f-a3ce-cb3e1bc6339d",
   "metadata": {},
   "outputs": [
    {
     "data": {
      "text/plain": [
       "1"
      ]
     },
     "execution_count": 23,
     "metadata": {},
     "output_type": "execute_result"
    },
    {
     "data": {
      "text/plain": [
       "25"
      ]
     },
     "execution_count": 23,
     "metadata": {},
     "output_type": "execute_result"
    },
    {
     "data": {
      "text/plain": [
       "[9, 16, 25]"
      ]
     },
     "execution_count": 23,
     "metadata": {},
     "output_type": "execute_result"
    }
   ],
   "source": [
    "squares[0]  # indexing returns the item\n",
    "\n",
    "squares[-1]\n",
    "\n",
    "squares[-3:]  # slicing returns a new list"
   ]
  },
  {
   "cell_type": "markdown",
   "id": "21fa1c7e-927b-4cef-a795-132962b322bd",
   "metadata": {},
   "source": [
    "All slice operations return a new list containing the requested elements. This means that the following slice returns a [shallow copy](https://docs.python.org/3/library/copy.html#shallow-vs-deep-copy) of the list:\n",
    "\n",
    "> 所有的切分操作都会返回一个包含请求元素的新列表。这意味着下面的slice返回列表的一个[浅层拷贝](https://docs.python.org/3/library/copy.html#shallow-vs-deep-copy)。"
   ]
  },
  {
   "cell_type": "code",
   "execution_count": 40,
   "id": "05d68b07-cf4b-455a-8165-91906d7da60d",
   "metadata": {},
   "outputs": [
    {
     "data": {
      "text/plain": [
       "[1, 4, 9, 16, 25]"
      ]
     },
     "execution_count": 40,
     "metadata": {},
     "output_type": "execute_result"
    },
    {
     "data": {
      "text/plain": [
       "1879873608320"
      ]
     },
     "execution_count": 40,
     "metadata": {},
     "output_type": "execute_result"
    },
    {
     "data": {
      "text/plain": [
       "1879872383616"
      ]
     },
     "execution_count": 40,
     "metadata": {},
     "output_type": "execute_result"
    },
    {
     "data": {
      "text/plain": [
       "[0, 4, 9, 16, 25]"
      ]
     },
     "execution_count": 40,
     "metadata": {},
     "output_type": "execute_result"
    },
    {
     "data": {
      "text/plain": [
       "[1, 4, 9, 16, 25]"
      ]
     },
     "execution_count": 40,
     "metadata": {},
     "output_type": "execute_result"
    },
    {
     "data": {
      "text/plain": [
       "1879873608320"
      ]
     },
     "execution_count": 40,
     "metadata": {},
     "output_type": "execute_result"
    },
    {
     "data": {
      "text/plain": [
       "1879872383616"
      ]
     },
     "execution_count": 40,
     "metadata": {},
     "output_type": "execute_result"
    },
    {
     "data": {
      "text/plain": [
       "[1, 4, 9, 16, 25]"
      ]
     },
     "execution_count": 40,
     "metadata": {},
     "output_type": "execute_result"
    },
    {
     "data": {
      "text/plain": [
       "1879873608320"
      ]
     },
     "execution_count": 40,
     "metadata": {},
     "output_type": "execute_result"
    },
    {
     "data": {
      "text/plain": [
       "1879865533632"
      ]
     },
     "execution_count": 40,
     "metadata": {},
     "output_type": "execute_result"
    },
    {
     "data": {
      "text/plain": [
       "[1, 4, 9, 16, 0]"
      ]
     },
     "execution_count": 40,
     "metadata": {},
     "output_type": "execute_result"
    },
    {
     "data": {
      "text/plain": [
       "[1, 4, 9, 16, 25]"
      ]
     },
     "execution_count": 40,
     "metadata": {},
     "output_type": "execute_result"
    },
    {
     "data": {
      "text/plain": [
       "1879873608320"
      ]
     },
     "execution_count": 40,
     "metadata": {},
     "output_type": "execute_result"
    },
    {
     "data": {
      "text/plain": [
       "1879865533632"
      ]
     },
     "execution_count": 40,
     "metadata": {},
     "output_type": "execute_result"
    }
   ],
   "source": [
    "## shadow copy\n",
    "shadow = copy.copy(squares)\n",
    "shadow\n",
    "id(squares)\n",
    "id(shadow)\n",
    "\n",
    "## chage the shadow\n",
    "shadow[0] = 0\n",
    "shadow\n",
    "squares\n",
    "id(squares)\n",
    "id(shadow)\n",
    "\n",
    "## deep copy\n",
    "deep = copy.deepcopy(squares)\n",
    "deep\n",
    "id(squares)\n",
    "id(deep)\n",
    "\n",
    "## change the deep\n",
    "deep[-1] = 0\n",
    "deep\n",
    "squares\n",
    "id(squares)\n",
    "id(deep)"
   ]
  },
  {
   "cell_type": "code",
   "execution_count": 26,
   "id": "61bfb472-bcd8-4b02-933e-9bbd2a797231",
   "metadata": {},
   "outputs": [
    {
     "data": {
      "text/plain": [
       "[1, 4, 9, 16, 25]"
      ]
     },
     "execution_count": 26,
     "metadata": {},
     "output_type": "execute_result"
    }
   ],
   "source": [
    "squares[:]"
   ]
  },
  {
   "cell_type": "markdown",
   "id": "6b9d645f-0ff9-4d5a-96b1-fce9942f6326",
   "metadata": {},
   "source": [
    "Lists also support operations like concatenation:\n",
    "> 列表也支持连接等操作。"
   ]
  },
  {
   "cell_type": "code",
   "execution_count": 28,
   "id": "719057e1-8f19-4012-aae4-9f3ec359f537",
   "metadata": {},
   "outputs": [
    {
     "data": {
      "text/plain": [
       "[1, 4, 9, 16, 25, 36, 49, 64, 81, 100]"
      ]
     },
     "execution_count": 28,
     "metadata": {},
     "output_type": "execute_result"
    }
   ],
   "source": [
    "squares + [36, 49, 64, 81, 100]"
   ]
  },
  {
   "cell_type": "markdown",
   "id": "50f5ff6e-7c98-41fe-9760-db9f757a7e9e",
   "metadata": {},
   "source": [
    "Unlike strings, which are [immutable](https://docs.python.org/3/glossary.html#term-immutable), lists are a [mutable](https://docs.python.org/3/glossary.html#term-mutable) type, i.e. it is possible to change their content:\n",
    "\n",
    "> 与字符串不同，字符串是[immutable](https://docs.python.org/3/glossary.html#term-immutable)，列表是一个[mutable](https://docs.python.org/3/glossary.html#term-mutable)类型，即有可能改变其内容。"
   ]
  },
  {
   "cell_type": "code",
   "execution_count": 29,
   "id": "507b1d65-6495-4c21-92e2-4788720037a5",
   "metadata": {},
   "outputs": [
    {
     "data": {
      "text/plain": [
       "64"
      ]
     },
     "execution_count": 29,
     "metadata": {},
     "output_type": "execute_result"
    },
    {
     "data": {
      "text/plain": [
       "[1, 8, 27, 64, 125]"
      ]
     },
     "execution_count": 29,
     "metadata": {},
     "output_type": "execute_result"
    }
   ],
   "source": [
    "cubes = [1, 8, 27, 65, 125]  # something's wrong here\n",
    "4 ** 3  # the cube of 4 is 64, not 65!\n",
    "\n",
    "cubes[3] = 64  # replace the wrong value\n",
    "cubes"
   ]
  },
  {
   "cell_type": "markdown",
   "id": "27d792c5-4e3a-408d-8806-02d9cebc1538",
   "metadata": {},
   "source": [
    "You can also add new items at the end of the list, by using the `append()` *method* (we will see more about methods later):\n",
    "\n",
    "> 你也可以通过使用`append()`*方法*，在列表的最后添加新的项目（我们将在后面看到更多关于方法的内容）。"
   ]
  },
  {
   "cell_type": "code",
   "execution_count": 30,
   "id": "0a3ea7e2-156e-4c9d-b49d-e6a06f62d7c9",
   "metadata": {},
   "outputs": [
    {
     "data": {
      "text/plain": [
       "[1, 8, 27, 64, 125, 216, 343]"
      ]
     },
     "execution_count": 30,
     "metadata": {},
     "output_type": "execute_result"
    }
   ],
   "source": [
    "cubes.append(216)  # add the cube of 6\n",
    "cubes.append(7 ** 3)  # and the cube of 7\n",
    "cubes"
   ]
  },
  {
   "cell_type": "markdown",
   "id": "d3214da8-6f22-4153-8652-482f124d626e",
   "metadata": {},
   "source": [
    "Assignment to slices is also possible, and this can even change the size of the list or clear it entirely:\n",
    "\n",
    "> 对切片的赋值也是可能的，这甚至可以改变列表的大小或完全清空它。"
   ]
  },
  {
   "cell_type": "code",
   "execution_count": 32,
   "id": "703d5f3c-5d77-4a04-8343-9845c106491b",
   "metadata": {},
   "outputs": [
    {
     "data": {
      "text/plain": [
       "['a', 'b', 'c', 'd', 'e', 'f', 'g']"
      ]
     },
     "execution_count": 32,
     "metadata": {},
     "output_type": "execute_result"
    },
    {
     "data": {
      "text/plain": [
       "['a', 'b', 'C', 'D', 'E', 'f', 'g']"
      ]
     },
     "execution_count": 32,
     "metadata": {},
     "output_type": "execute_result"
    },
    {
     "data": {
      "text/plain": [
       "['a', 'b', 'f', 'g']"
      ]
     },
     "execution_count": 32,
     "metadata": {},
     "output_type": "execute_result"
    },
    {
     "data": {
      "text/plain": [
       "[]"
      ]
     },
     "execution_count": 32,
     "metadata": {},
     "output_type": "execute_result"
    }
   ],
   "source": [
    "letters = ['a', 'b', 'c', 'd', 'e', 'f', 'g']\n",
    "letters\n",
    "\n",
    "# replace some values\n",
    "letters[2:5] = ['C', 'D', 'E']\n",
    "letters\n",
    "\n",
    "# now remove them\n",
    "letters[2:5] = []\n",
    "letters\n",
    "\n",
    "# clear the list by replacing all the elements with an empty list\n",
    "letters[:] = []\n",
    "letters"
   ]
  },
  {
   "cell_type": "markdown",
   "id": "7a7f0173-504a-4703-a577-326836515989",
   "metadata": {},
   "source": [
    "The built-in function [`len()`](https://docs.python.org/3/library/functions.html#len) also applies to lists:\n",
    "\n",
    "> 内置函数 [`len()`](https://docs.python.org/3/library/functions.html#len) 也适用于列表。"
   ]
  },
  {
   "cell_type": "markdown",
   "id": "839c9dbc-92b0-46e7-9ca5-587be05cd27f",
   "metadata": {},
   "source": [
    "It is possible to nest lists (create lists containing other lists), for example:\n",
    "\n",
    "> 例如，可以对列表进行嵌套（创建包含其他列表的列表）。"
   ]
  },
  {
   "cell_type": "code",
   "execution_count": 34,
   "id": "3b939942-3310-4d69-8115-f72763b33c74",
   "metadata": {},
   "outputs": [
    {
     "data": {
      "text/plain": [
       "[['a', 'b', 'c'], [1, 2, 3]]"
      ]
     },
     "execution_count": 34,
     "metadata": {},
     "output_type": "execute_result"
    },
    {
     "data": {
      "text/plain": [
       "['a', 'b', 'c']"
      ]
     },
     "execution_count": 34,
     "metadata": {},
     "output_type": "execute_result"
    },
    {
     "data": {
      "text/plain": [
       "'b'"
      ]
     },
     "execution_count": 34,
     "metadata": {},
     "output_type": "execute_result"
    }
   ],
   "source": [
    "a = ['a', 'b', 'c']\n",
    "n = [1, 2, 3]\n",
    "x = [a, n]\n",
    "x\n",
    "\n",
    "x[0]\n",
    "\n",
    "x[0][1]"
   ]
  },
  {
   "cell_type": "markdown",
   "id": "270e95ab-b4e4-484c-a51d-e4c38785accb",
   "metadata": {},
   "source": [
    "## 3.2. First Steps Towards Programming"
   ]
  },
  {
   "cell_type": "markdown",
   "id": "d4ffcbe1-424c-4d98-ae32-f67c48b58e54",
   "metadata": {},
   "source": [
    "Of course, we can use Python for more complicated tasks than adding two and two together. For instance, we can write an initial sub-sequence of the [Fibonacci series](https://en.wikipedia.org/wiki/Fibonacci_number) as follows:\n",
    "\n",
    "> 当然，我们可以用Python完成比二加二更复杂的任务。例如，我们可以把[斐波那契数列](https://en.wikipedia.org/wiki/Fibonacci_number)的一个初始子序列写成如下。"
   ]
  },
  {
   "cell_type": "code",
   "execution_count": 1,
   "id": "dc654042-9bdc-4343-960d-440d77541591",
   "metadata": {},
   "outputs": [
    {
     "name": "stdout",
     "output_type": "stream",
     "text": [
      "0\n",
      "1\n",
      "1\n",
      "2\n",
      "3\n",
      "5\n",
      "8\n"
     ]
    }
   ],
   "source": [
    "# Fibonacci series:\n",
    "# the sum of two elements defines the next\n",
    "a, b = 0, 1\n",
    "while a < 10:\n",
    "    print(a)\n",
    "    a, b = b, a+b"
   ]
  },
  {
   "cell_type": "markdown",
   "id": "2396429d-0b0c-4e7c-8db0-6a1893f67f35",
   "metadata": {},
   "source": [
    "This example introduces several new features.\n",
    "> 这个例子引入了几个新的特征。"
   ]
  },
  {
   "cell_type": "markdown",
   "id": "90cfa3a9-7d99-428e-924c-60c4e9c0f4b0",
   "metadata": {},
   "source": [
    "- The first line contains a *multiple assignment*: the variables `a` and `b` simultaneously get the new values 0 and 1. On the last line this is used again, demonstrating that the expressions on the right-hand side are all evaluated first before any of the assignments take place. The right-hand side expressions are evaluated from the left to the right.\n",
    "- The [`while`](https://docs.python.org/3/reference/compound_stmts.html#while) loop executes as long as the condition (here: `a < 10`) remains true. In Python, like in C, any non-zero integer value is true; zero is false. The condition may also be a string or list value, in fact any sequence; anything with a non-zero length is true, empty sequences are false. The test used in the example is a simple comparison. The standard comparison operators are written the same as in C: `<` (less than), `>` (greater than), `==` (equal to), `<=` (less than or equal to), `>=` (greater than or equal to) and `!=` (not equal to).\n",
    "- The *body* of the loop is *indented*: indentation is Python’s way of grouping statements. At the interactive prompt, you have to type a tab or space(s) for each indented line. In practice you will prepare more complicated input for Python with a text editor; all decent text editors have an auto-indent facility. When a compound statement is entered interactively, it must be followed by a blank line to indicate completion (since the parser cannot guess when you have typed the last line). Note that each line within a basic block must be indented by the same amount.\n",
    "- The [`print()`](https://docs.python.org/3/library/functions.html#print) function writes the value of the argument(s) it is given. It differs from just writing the expression you want to write (as we did earlier in the calculator examples) in the way it handles multiple arguments, floating point quantities, and strings. Strings are printed without quotes, and a space is inserted between items, so you can format things nicely, like this:\n",
    "\n",
    "> - 第一行包含一个*多重赋值*：变量`a`和`b`同时得到新的值0和1。在最后一行再次使用这个方法，表明在任何赋值发生之前，右侧的表达式都要先被运算求值。右手边的表达式从左到右被运算求值。\n",
    "> - [`while`](https://docs.python.org/3/reference/compound_stmts.html#while)循环执行，只要条件(这里是：`a < 10`)保持为真。在Python中，像C语言一样，任何非零的整数值都是true，零是false。条件也可以是一个字符串或列表值，事实上是任何序列；任何非零长度的东西都是true，空序列是false。本例中使用的测试是一个简单的比较。标准比较运算符的写法与C语言相同：`<`（小于），`>`（大于），`==`（等于），`<=`（小于或等于），`>=`（大于或等于）和`！=`（不等于）。\n",
    "> - 循环的*主体*是*缩进的*：缩进是Python对语句的分组方式。在交互式提示符下，你必须为每一个缩进的行输入一个制表符或空格（s）。在实践中，你会用文本编辑器为 Python 准备更复杂的输入；所有适当的文本编辑器都有自动缩进功能。当一个复合语句以交互方式输入时，它后面必须有一个空行来表示完成 (因为分析器不能猜测你何时输入了最后一行)。请注意，基本块中的每一行必须缩进相同的量。\n",
    "> - [`print()`](https://docs.python.org/3/library/functions.html#print)函数写出它所得到的参数值。它与写你想写的表达式不同（就像我们在前面的计算器例子中做的那样），它处理多个参数、浮点数和字符串的方式不同。字符串打印时不加引号，项目之间插入一个空格，所以你可以很好地格式化事物，像这样："
   ]
  },
  {
   "cell_type": "code",
   "execution_count": 3,
   "id": "7d5887ba-c494-4a45-b313-26a573c7928d",
   "metadata": {},
   "outputs": [
    {
     "name": "stdout",
     "output_type": "stream",
     "text": [
      "The value of i is 65536\n"
     ]
    }
   ],
   "source": [
    "i = 256*256\n",
    "print('The value of i is', i)"
   ]
  },
  {
   "cell_type": "markdown",
   "id": "dc45c13c-30fa-4dab-b87c-021f9530d56b",
   "metadata": {},
   "source": [
    "The keyword argument *end* can be used to avoid the newline after the output, or end the output with a different string:\n",
    "\n",
    "> 关键字参数*end*可以用来避免输出后的换行，或者用一个不同的字符串来结束输出。"
   ]
  },
  {
   "cell_type": "code",
   "execution_count": 5,
   "id": "a34f9a0b-46e3-49e5-ace7-9c29ee156ad2",
   "metadata": {},
   "outputs": [
    {
     "name": "stdout",
     "output_type": "stream",
     "text": [
      "0,1,1,2,3,5,8,13,21,34,55,89,144,233,377,610,987,"
     ]
    }
   ],
   "source": [
    "a, b = 0, 1\n",
    "while a < 1000:\n",
    "    print(a, end=',')\n",
    "    a, b = b, a+b"
   ]
  },
  {
   "cell_type": "markdown",
   "id": "fc395728-5278-44ea-85c4-167f7f461894",
   "metadata": {},
   "source": [
    "**Footnotes**"
   ]
  },
  {
   "cell_type": "markdown",
   "id": "a3b0309d-f551-4347-8513-1d6017b46ef1",
   "metadata": {},
   "source": [
    "[^1] Since `**` has higher precedence than `-`, `-3**2` will be interpreted as `-(3**2)` and thus result in `-9`. To avoid this and get `9`, you can use `(-3)**2`.\n",
    "[^2] Unlike other languages, special characters such as `\\n` have the same meaning with both single (`'...'`) and double (`\"...\"`) quotes. The only difference between the two is that within single quotes you don’t need to escape `\"` (but you have to escape `\\'`) and vice versa.\n",
    "\n",
    "> [^1] 由于`**`的优先级高于`-`，`-3**2`将被解释为`-(3**2)`，从而导致`-9`。为了避免这种情况并得到`9`，你可以使用`(-3)**2`。\n",
    "> [^2] 与其他语言不同，特殊字符如`\\n`与单引号（`'...'`）和双引号（`\"...\"`）的意义相同。两者之间唯一的区别是，在单引号内你不需要转义`\"`（但你必须转义`'`），反之亦然。"
   ]
  }
 ],
 "metadata": {
  "kernelspec": {
   "display_name": "Python 3 (ipykernel)",
   "language": "python",
   "name": "python3"
  },
  "language_info": {
   "codemirror_mode": {
    "name": "ipython",
    "version": 3
   },
   "file_extension": ".py",
   "mimetype": "text/x-python",
   "name": "python",
   "nbconvert_exporter": "python",
   "pygments_lexer": "ipython3",
   "version": "3.10.4"
  }
 },
 "nbformat": 4,
 "nbformat_minor": 5
}
