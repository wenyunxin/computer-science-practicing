{
 "cells": [
  {
   "cell_type": "code",
   "execution_count": 1,
   "id": "d53a60bc-41ac-4a35-a57d-c60ea5459557",
   "metadata": {},
   "outputs": [],
   "source": [
    "from IPython.core.interactiveshell import InteractiveShell\n",
    "InteractiveShell.ast_node_interactivity = \"all\""
   ]
  },
  {
   "cell_type": "markdown",
   "id": "174230ea-2964-4d44-a0ee-c5264d5bd9cf",
   "metadata": {},
   "source": [
    "> One has no future if one couldn't teach themself"
   ]
  },
  {
   "cell_type": "markdown",
   "id": "bf789bee-e144-4358-9efd-0bdd3a081938",
   "metadata": {},
   "source": [
    "## Prefeac\n",
    "[what is `#!`?](https://en.wikipedia.org/wiki/Shebang_(Unix)):\n",
    "script with `#!` indicates that it's a excutable script, while using specify interpreter\n",
    "这种方法仅限于linux系统\n",
    "\n",
    "\"python ./hello.md\" using this in shell, can excute the 'hello.md' ignoring the extend name.\n",
    "\n",
    "chmod +x on a file (your script) only means, that you'll make it executable. Right click on your script and chose Properties -> Permissions -> Allow executing file as program, leaves you with the exact same result as the command in terminal.\n",
    "\n",
    "## proof of work\n",
    "[Tsundoku (Japanese: 積ん読)](https://en.wikipedia.org/wiki/Tsundoku): \n",
    "> 指那些买回来堆在那里还没读过的（甚至后来干脆不看了的）书……\n",
    "\n",
    "### jupyter lab setting\n",
    "configure jupyter lab\n",
    "> jupyter lab --generate-config 生成配置文件\n",
    "\n",
    "在此配置文件添加：\n",
    "```bash\n",
    "#c.NotebookApp.token = '' 每次打开生成token\n",
    "#c.NotebookApp.open_browser = False 设置是否使用默认浏览器打开\n",
    "#c.NotebookApp.notebook_dir = '~/' 设置打开的根目录\n",
    "#c.NotebookApp.default_url = '/tree' 用jupyter notebook打开\n",
    "```\n",
    "\n",
    "将 Jupyter lab 配置成系统服务（macOS适用）\n",
    "\n",
    "关于 Jupyter lab themes：使用Stylus浏览器插件，定制jupyterlab的themes\n",
    "\n",
    "全部显示单元格执行结果\n",
    "> from IPython.core.interactiveshell import InteractiveShell\n",
    "InteractiveShell.ast_node_interactivity = \"all\"\n",
    "\n",
    "省事就把这个写入配置文件：\n",
    "> c.InteractiveShell.ast_node_interactivity = \"all\"\n",
    "\n",
    "### Git\n",
    "[Git官方文档](https://git-scm.com/book/en/v2)，反复阅读若干遍"
   ]
  },
  {
   "cell_type": "markdown",
   "id": "d3ba61a6-b7a6-437e-98f1-c961d7e0a4ee",
   "metadata": {},
   "source": [
    "## Part1 准备\n",
    "自学能力是唯一值得被不断磨炼的长技术\n",
    "\n",
    "\n",
    "为什么从编程开始学会自学\n",
    "```bash\n",
    "编程的知识点结构不是线性的。\n",
    "```\n",
    "\n",
    "[Forward declaration](https://en.wikipedia.org/wiki/Forward_declaration): 提前引用。\n",
    "\n",
    "Python文档生成工具：[sphinx](https://www.sphinx-doc.org/en/master/)\n",
    "\n",
    "只靠阅读习得新技能\n",
    "这是自学能力的终极目标\n",
    "> 自己生活工作学习上遇到的所有疑问，书本里应该都有答案 —— 起码有所参考。\n",
    "\n",
    "这让我想起了作家杨绛的话：大部人人面对的问题都是想的太多，而读书太少。\n",
    "\n",
    "注意这个图片引用的例子，这是引用自其他网站的图片(图片下载到本地，但给出图片原文链接)：\n",
    "![Joseph M. Williams’ research visualized (top 10,000 words).](images/Joseph-M-Williams-research-visualized.png)<a href='https://medium.com/@andreas_simons/the-english-language-is-a-lot-more-french-than-we-thought-heres-why-4db2db3542b3'></a>\n",
    "\n",
    "> 阅读“有繁殖能力”的书籍\n",
    "\n",
    "read books that can propagate itself.\n",
    "\n",
    "“讲真，你没有选择，只靠阅读习得新技能，这是你唯一的出路。”\n",
    "\n",
    "阅读基础文档\n",
    "\n",
    "- 基础文档的阅读是为了脱盲\n",
    "- 对基本概念有了一定的了解\n",
    "- 开始有能力相对轻松地阅读部分官方文档\n",
    "- 读懂一些简单的代码\n",
    "\n",
    "**心理建设**\n",
    "> 别怕，啥也别怕，没什么可怕的！\n",
    "> 编程是一门手工课，手艺活，习得工具的使用，创造出想象力中的东西\n"
   ]
  },
  {
   "cell_type": "markdown",
   "id": "24de0016-acc8-4aa8-879c-e1258dda9dde",
   "metadata": {},
   "source": [
    "## 入口\n",
    "\n",
    "### 布尔运算\n",
    "[乔治·布尔](https://en.wikipedia.org/wiki/George_Boole)和他创建的[逻辑运算](https://en.wikipedia.org/wiki/Boolean_algebra)是现代计算机的基石，习得编程技能把布尔运算作为入口；\n",
    "那么习得编程技能之后，学习机器学习的时候，把[贝叶斯定理定理](https://en.wikipedia.org/wiki/Bayes'_theorem)作为入口\n",
    "\n",
    "Boolean Operations, [Boolean expression](https://en.wikipedia.org/wiki/Boolean_expression)\n",
    "\n",
    "[evluate in mathematics](https://www.dictionary.com/browse/evaluate): to determine or calculate the numerical value of (a formula, function, relation, etc.). evaluate在数学中的定义：确定或计算（一个公式、函数、关系等）的数值。\n",
    "\n",
    "**布尔值（Boolean Value）**：`True` `False`\n",
    "\n",
    "**逻辑操作符（Logic Operator）**: \n",
    "| 比较操作符 | 意义     | 示例             | 布尔值  |\n",
    "| ---------- | -------- | ---------------- | ------- |\n",
    "| `==`       | 等于     | `1 == 2`         | `False` |\n",
    "| `!=`       | 不等于   | `1 != 2`         | `True`  |\n",
    "| `>`        | 大于     | `1 > 2`          | `False` |\n",
    "| `>=`       | 大于等于 | `1 >= 1`         | `True`  |\n",
    "| `<`        | 小于     | `1 < 2`          | `True`  |\n",
    "| `<=`       | 小于等于 | `1 <= 2`         | `True`  |\n",
    "| `in`       | 属于     | `'a' in 'basic'` | `True`  |\n",
    "\n",
    "**逻辑操作符的运算对象**（操作数，operand）是数字值和字符串值\n",
    "\n",
    "**布尔运算操作符**（Boolean Operator）：`and`、`or`、`not`\n",
    "| **and** | True     | Flase            | \n",
    "| ---------- | -------- | ---------------- | \n",
    "| True      | True    |     Flase  |\n",
    "| Flase      | Flase     |     Flase    |\n",
    "\n",
    "| **or** | True     | Flase            | \n",
    "| ---------- | -------- | ---------------- | \n",
    "| True      | True    |    True  |\n",
    "| Flase      | True     |     Flase    |\n",
    "\n",
    "| **not** | True     | Flase            | \n",
    "| ---------- | -------- | ---------------- | \n",
    "|          | False   |     True  |\n",
    "\n",
    "### 流程控制\n",
    "\n",
    "control flow\n",
    "\n",
    "`if...else statement`\n",
    "\n",
    "```bash\n",
    "...\n",
    "    if r % 2 == 0:    # 'r % 2 == 0' 叫做表达式，确切的叫布尔表达式, 2 是数字常量（numeric literal）\n",
    "        ...\n",
    "    else:\n",
    "        ...\n",
    "```\n",
    "\n",
    "[literal in Python](https://www.scaler.com/topics/python/literals-in-python/): Python literals are quantities/ notations whose value does not change during the execution of a program.\n",
    "There are five types of literal in Python, which are as follows-\n",
    "\n",
    "- String Literals\n",
    "- Numeric Literals\n",
    "- Boolean Literals\n",
    "- Literal Collections\n",
    "- Special Literals\n",
    "\n",
    "#### 循环（loop）\n",
    "\n",
    "`编程语言（Program Languages）`和`自然语言（Natural Languages）`，编程语言是计算机程序在运行时，计算机所能识别的语言，如Python语言，Java语言等；自然语言就是人们平常交流所能识别的语言。一般在程序注释中，用自然语言来描述\n",
    "\n",
    "一个简单循环案例：\n",
    "```bash\n",
    "for i in range(10):\n",
    "    if i % 2 != 0:\n",
    "        print(i)\n",
    "```\n",
    "这个案例打印出10以内的奇数"
   ]
  },
  {
   "cell_type": "code",
   "execution_count": 1,
   "id": "3c9fe71c-6afd-4a3c-bb42-275dd6c79b7a",
   "metadata": {},
   "outputs": [
    {
     "name": "stdout",
     "output_type": "stream",
     "text": [
      "2\n",
      "3\n",
      "5\n",
      "7\n",
      "11\n",
      "13\n",
      "17\n",
      "19\n",
      "23\n",
      "29\n",
      "31\n",
      "37\n",
      "41\n",
      "43\n",
      "47\n",
      "53\n",
      "59\n",
      "61\n",
      "67\n",
      "71\n",
      "73\n",
      "79\n",
      "83\n",
      "89\n",
      "97\n"
     ]
    }
   ],
   "source": [
    "# 这是个嵌套循环，找出100以内的质数\n",
    "# 算法：质数是2以上数，且除以其自身和1以外的书其商都不等于0\n",
    "for n in range(2, 100):    # 限制查找范围\n",
    "    if n == 2:\n",
    "        print(n)\n",
    "        continue    # 打印质数2之后，回到查找for循环\n",
    "    if n > 2:\n",
    "        for i in range(2, n):\n",
    "            if n % i == 0:    # n除以其自身和1以外的数有存在商为0的情况，说明该数不是质数，break掉\n",
    "                break\n",
    "        else:    # 执行到这里说明n除以其自身和1以外的数不存在商为0的情况\n",
    "            print(n)"
   ]
  },
  {
   "cell_type": "markdown",
   "id": "abf26c32-fa9e-4e55-8232-d5826a593831",
   "metadata": {},
   "source": [
    "#### [算法](https://en.wikipedia.org/wiki/Algorithm)\n",
    "程序的算法在写完之后，可以进行改进，或者说*优化*\n",
    "比如以上的算法可进行优化"
   ]
  },
  {
   "cell_type": "code",
   "execution_count": 2,
   "id": "5d11ad23-c658-4501-bdb7-b3652cc7885e",
   "metadata": {
    "collapsed": true,
    "jupyter": {
     "outputs_hidden": true
    },
    "tags": []
   },
   "outputs": [
    {
     "name": "stdout",
     "output_type": "stream",
     "text": [
      "2\n",
      "3\n",
      "5\n",
      "7\n",
      "11\n",
      "13\n",
      "17\n",
      "19\n",
      "23\n",
      "29\n",
      "31\n",
      "37\n",
      "41\n",
      "43\n",
      "47\n",
      "53\n",
      "59\n",
      "61\n",
      "67\n",
      "71\n",
      "73\n",
      "79\n",
      "83\n",
      "89\n",
      "97\n"
     ]
    }
   ],
   "source": [
    "# 从 2 作为除数开始试，试到  𝑛⎯⎯√  之后的一个整数就可以了……\n",
    "for n in range(2, 100):\n",
    "    if n == 2:\n",
    "        print(n)\n",
    "        continue\n",
    "    for i in range(2, int(n ** 0.5)+1): #为什么要 +1 以后再说…… n 的 1/2 次方，相当于根号 n。\n",
    "        if (n % i) == 0:\n",
    "            break\n",
    "    else:\n",
    "        print(n)   "
   ]
  },
  {
   "cell_type": "markdown",
   "id": "4c3a462f-4fa1-4a0d-a1e3-6036bd628df4",
   "metadata": {},
   "source": [
    "关于质数的最优算法有时间可以看看[StackOverflow](https://stackoverflow.com/questions/1801391/how-to-create-the-most-compact-mapping-n-%e2%86%92-isprimen-up-to-a-limit-n)上的讨论，或者[Wikipedia](https://en.wikipedia.org/wiki/Generation_of_primes)上的说明\n",
    "\n",
    "> 写代码是基础工具，重要的是思考能力，即算法的效能"
   ]
  },
  {
   "cell_type": "markdown",
   "id": "f2e5e219-5a9b-412d-9829-c58d83d23611",
   "metadata": {},
   "source": [
    "#### 所谓函数\n",
    "\n",
    "Fuction Name, Parameters, Return Value, Call\n",
    "\n",
    "\n",
    "#### 细节补充\n",
    "**statements**\n",
    "\n",
    "**statements block**\n",
    "Python用冒号“：”作为一个语句块开始的标志\n",
    "\n",
    "> 注意：在同一个文件里，不建议混合使用 Tab 和 Space；要么全用空格，要么全用制表符。\n",
    "\n",
    "**注释**-anotation\n",
    "在 Python 程序中可以用 # 符号标示注释语句\n",
    "> 人写的 Python 语言代码，要被 Python 解释器翻译成机器语言，而后才能让计算机 “读懂”，随后计算机才可以按照指令执行。解释器在编译程序的过程中，遇到 # 符号，就会忽略其后的部分（包括这个注释符号）。\n",
    "\n",
    "**操作符**\n",
    "在本节，我们见到的比较操作符可以比较它左右的值，而后返回一个布尔值。\n",
    "> 对于数字，我们可用的操作符有 `+`、`-`、`*`、`/`、`//`、`%`、`**` —— 它们分别代表加、减、乘、除、商、余、幂。\n",
    "\n",
    "**总结**\n",
    "- data: `Int`、`Boolen Value`、`Operator`；`Variable`、`Assignment`、`Expression`\n",
    "- `Function`、`Sub program`、`Return value`、`Call`\n",
    "- `Control Flow`、`Branch`、`Loop`\n",
    "- `Algorithm`、`Optimize`\n",
    "- procedure: `Statement`、`Anotation`、`Statement BLock`\n",
    "- `Input`、`Process`、`Output`\n",
    "- Interpreter\n",
    "\n",
    "顺手学习其他语言，比如数据视觉化用R"
   ]
  },
  {
   "cell_type": "markdown",
   "id": "1690f562-094e-43c1-bd3e-27d2199a3f31",
   "metadata": {},
   "source": [
    "## Part1 Value & Value Operator\n",
    "\n",
    "计算程序主要由两个最基本的成分构成：\n",
    "> **运算**（Evaluation）\n",
    "> **流程控制**（Control Flow）\n",
    "\n",
    "函数的调用，也是控制流程，可以**把函数看作是 “子程序”**；\n",
    "\n",
    "### Value\n",
    "\n",
    "在程序中，被运算（**Evaluate**）的可分为**常量**（Literals）和**变量**（Variables）\n",
    "```bash\n",
    "a = 1 + 2 * 3\n",
    "a += 1\n",
    "print(a)\n",
    "```\n",
    "\n",
    "上面代码中，`1`、`2`、`3`，都是**常量**。*Literal*的意思是“字面的”，顾名思义，常量的值就是它字面上的值。`1` 的值，就是 1\n",
    "\n",
    "第 1 句中的 `+`、`*`，是**操作符**（Operators），它用来对其左右的值进行相应的*运算*而后得到一个值。\n",
    "\n",
    "*值*是程序的基础成分（Building blocks），就像盖房子的砖块\n",
    "\n",
    "*常量*，当然有个*值*——就是它们字面所表达的值\n",
    "\n",
    "在 Python 中每个函数都有*返回值*，即便你在定义一个函数的时候没有设定返回值，它也会加上默认的返回值 `None`\n",
    "\n",
    "### Types of Values\n",
    "\n",
    "在编程语言中，总是包含最基本的三种数据类型：\n",
    "\n",
    "> - 布尔值（Boolean Value)\n",
    "> - 数字（Numbers）：整数（Int）、浮点数（Float）、复数（Complex Numbers）\n",
    "> - 字符串（Strings）\n",
    "\n",
    "既然有不同类型的数据，它们就分别对应着不同类型的值。\n",
    "\n",
    "**Type Casting**（类型转换）：\n",
    "\n",
    "> - 将字符串转换为数字用 `int()`、`float()`；\n",
    "> - 将数字转换成字符串用 `str()`；\n",
    "\n",
    "### Operator\n",
    "\n",
    "针对不同的数据类型，有各自专用的**操作符**，Python官方文档的完整操作符优先级列表：\n",
    "\n",
    "> https://docs.python.org/3/reference/expressions.html#operator-precedence\n",
    "\n",
    "大体上是数值操作符的优先级大于逻辑操作符，大于布尔运算操作符的优先级\n",
    "\n",
    "\n",
    "\n",
    "### Container\n",
    "\n",
    "String, List, Array, Set, Dictionary\n",
    "\n",
    "\n",
    "\n",
    "### 更复杂的运算\n",
    "\n",
    "Python中更复杂的运算由内置函数（[Built-in Functions](https://docs.python.org/3/library/functions.html)）完成：\n",
    "\n",
    "| (                                                            | Python                                                       | Built-in                                                     | Functions                                                    | )                                                            |\n",
    "| ------------------------------------------------------------ | ------------------------------------------------------------ | ------------------------------------------------------------ | ------------------------------------------------------------ | ------------------------------------------------------------ |\n",
    "| [abs()](https://docs.python.org/3/library/functions.html#abs) | [delattr()](https://docs.python.org/3/library/functions.html#delattr) | [hash()](https://docs.python.org/3/library/functions.html#hash) | [memoryview()](https://docs.python.org/3/library/functions.html#func-memoryview) | [set()](https://docs.python.org/3/library/functions.html#func-set) |\n",
    "| [all()](https://docs.python.org/3/library/functions.html#all) | [dict()](https://docs.python.org/3/library/functions.html#func-dict) | [help()](https://docs.python.org/3/library/functions.html#help) | [min()](https://docs.python.org/3/library/functions.html#min) | [setattr()](https://docs.python.org/3/library/functions.html#setattr) |\n",
    "| [any()](https://docs.python.org/3/library/functions.html#any) | [dir()](https://docs.python.org/3/library/functions.html#dir) | [hex()](https://docs.python.org/3/library/functions.html#hex) | [next()](https://docs.python.org/3/library/functions.html#next) | [slice()](https://docs.python.org/3/library/functions.html#slice) |\n",
    "| [ascii()](https://docs.python.org/3/library/functions.html#ascii) | [divmod()](https://docs.python.org/3/library/functions.html#divmod) | [id()](https://docs.python.org/3/library/functions.html#id)  | [object()](https://docs.python.org/3/library/functions.html#object) | [sorted()](https://docs.python.org/3/library/functions.html#sorted) |\n",
    "| [bin()](https://docs.python.org/3/library/functions.html#bin) | [enumerate()](https://docs.python.org/3/library/functions.html#enumerate) | [input()](https://docs.python.org/3/library/functions.html#input) | [oct()](https://docs.python.org/3/library/functions.html#oct) | [staticmethod()](https://docs.python.org/3/library/functions.html#staticmethod) |\n",
    "| [bool()](https://docs.python.org/3/library/functions.html#bool) | [eval()](https://docs.python.org/3/library/functions.html#eval) | [int()](https://docs.python.org/3/library/functions.html#int) | [open()](https://docs.python.org/3/library/functions.html#open) | [str()](https://docs.python.org/3/library/functions.html#func-str) |\n",
    "| [breakpoint()](https://docs.python.org/3/library/functions.html#breakpoint) | [exec()](https://docs.python.org/3/library/functions.html#exec) | [isinstance()](https://docs.python.org/3/library/functions.html#isinstance) | [ord()](https://docs.python.org/3/library/functions.html#ord) | [sum()](https://docs.python.org/3/library/functions.html#sum) |\n",
    "| [bytearray()](https://docs.python.org/3/library/functions.html#func-bytearray) | [filter()](https://docs.python.org/3/library/functions.html#filter) | [issubclass()](https://docs.python.org/3/library/functions.html#issubclass) | [pow()](https://docs.python.org/3/library/functions.html#pow) | [super()](https://docs.python.org/3/library/functions.html#super) |\n",
    "| [bytes()](https://docs.python.org/3/library/functions.html#func-bytes) | [float()](https://docs.python.org/3/library/functions.html#float) | [iter()](https://docs.python.org/3/library/functions.html#iter) | [print()](https://docs.python.org/3/library/functions.html#print) | [tuple()](https://docs.python.org/3/library/functions.html#func-tuple) |\n",
    "| [callable()](https://docs.python.org/3/library/functions.html#callable) | [format()](https://docs.python.org/3/library/functions.html#format) | [len()](https://docs.python.org/3/library/functions.html#len) | [property()](https://docs.python.org/3/library/functions.html#property) | [type()](https://docs.python.org/3/library/functions.html#type) |\n",
    "| [chr()](https://docs.python.org/3/library/functions.html#chr) | [frozenset()](https://docs.python.org/3/library/functions.html#func-frozenset) | [list()](https://docs.python.org/3/library/functions.html#func-list) | [range()](https://docs.python.org/3/library/functions.html#func-range) | [vars()](https://docs.python.org/3/library/functions.html#vars) |\n",
    "| [classmethod()](https://docs.python.org/3/library/functions.html#classmethod) | [getattr()](https://docs.python.org/3/library/functions.html#getattr) | [locals()](https://docs.python.org/3/library/functions.html#locals) | [repr()](https://docs.python.org/3/library/functions.html#repr) | [zip()](https://docs.python.org/3/library/functions.html#zip) |\n",
    "| [compile()](https://docs.python.org/3/library/functions.html#compile) | [globals()](https://docs.python.org/3/library/functions.html#globals) | [map()](https://docs.python.org/3/library/functions.html#map) | [reversed()](https://docs.python.org/3/library/functions.html#reversed) | [**import**()](https://docs.python.org/3/library/functions.html#__import__) |\n",
    "| [complex()](https://docs.python.org/3/library/functions.html#complex) | [hasattr()](https://docs.python.org/3/library/functions.html#hasattr) | [max()](https://docs.python.org/3/library/functions.html#max) | [round()](https://docs.python.org/3/library/functions.html#round) |                                                              |\n",
    "\n",
    "但有些更高级的运算，需要借助标准库（[Standard Library](https://docs.python.org/3/library/index.html)）来完成，如调用标准库（Standard Library）中的 math 模块（Module）来完成三角函数的计算\n",
    "\n",
    "```bash\n",
    "import math\n",
    "math.sin(5)\n",
    "```\n",
    "\n",
    "代码 `math.sin(5)` 这里的 `.`，也可以被理解为 “操作符”，它的作用是：\n",
    "\n",
    "> 从其它模块中调用函数。\n",
    "\n",
    "其实就是属性引用（attribute reference），可以理解为`sin`函数是`math`这个标准库的一个属性。属性（`attribute`）有特征（`property`？）属性（名词性属性）和方法（`method`）属性（动词性属性）\n",
    "\n",
    "`attribute`这个概念原本在类`Class`的定义中表达的。\n",
    "\n",
    "\n",
    "\n",
    "### 关于布尔值的补充\n",
    "\n",
    "这是因为 Python 将 `True` 定义为：\n",
    "\n",
    "> By default, an object is considered true unless its class defines either a __bool__() method that returns `False` or a __len__() method that returns zero, when called with the object.\n",
    ">\n",
    "> https://docs.python.org/3/library/stdtypes.html#truth-value-testing\n",
    "\n",
    "这一段文字，初学者是看不懂的。但下一段就好理解了：\n",
    "\n",
    "> Here are most of the built-in objects considered `False`:\n",
    ">\n",
    "> > - constants defined to be false: `None` and `False`.\n",
    "> > - zero of any numeric type: `0`, `0.0`, `0j`, `Decimal(0)`, `Fraction(0, 1)`\n",
    "> > - empty sequences and collections: `''`, `()`, `[]`, `{}`, `set()`, `range(0)`\n",
    "\n",
    "所以，`'Python'` 是个非空的字符串，即，不属于是 `empty sequences`，所以它不被认为是 `False`，即，它的布尔值是 `True`\n",
    "\n",
    "于是，这么理解就轻松了：\n",
    "\n",
    "> 每个变量或者常量，除了它们的值之外，同时还相当于有一个对应的布尔值。\n",
    "\n",
    "### 关于值的类型的补充\n",
    "\n",
    "除了数字、布尔值、字符串，以及上一小节介绍的列表之外，还有若干数据类型，比如 `range()`（等差数列）、`tuple`（元组）、`set`（集合）、`dictionary`（字典），再比如 `Date Type`（日期）等等。\n",
    "\n",
    "他们之间有时候也需要进行相应的Type Casting\n"
   ]
  },
  {
   "cell_type": "markdown",
   "id": "d2e0e0d6-ade4-4e2e-80c5-14d10ab075f3",
   "metadata": {},
   "source": [
    "## Python tutorial"
   ]
  },
  {
   "cell_type": "markdown",
   "id": "03481bc5-ae41-43ab-9d7a-b8095673df53",
   "metadata": {},
   "source": [
    "the learing order: Python tutorial(informal to basic concepts and features of the Python language and system) -> Thy Python Language Reference & The Python Standard Library(formal definition of syntax and lexical, a description of standard objects and modules) -> High-level application, such as write API and third-part library "
   ]
  },
  {
   "cell_type": "markdown",
   "id": "464af9f2-da95-4ffe-b6aa-a85dd133e514",
   "metadata": {},
   "source": [
    "Python可是用来编写自动化脚本工具，如对文本批量的查找替换，整理和重命名。写一个小型的自定义数据库；或GUI应用，或一个小游戏。\n",
    "用Python给C/C++编写测试套件。\n",
    "Python有有内置的高级数据类型，如灵活的数组和字典，提供更多的错误检查等。\n",
    "\n",
    "可以把 Python 解释器链接到用 C 写的应用程序中，并把它作为该应用程序的扩展或命令语言。"
   ]
  },
  {
   "cell_type": "markdown",
   "id": "73b15874-d174-41d3-9cdc-1d7521bdcdef",
   "metadata": {},
   "source": [
    "### Using the Python interpreter"
   ]
  },
  {
   "cell_type": "markdown",
   "id": "9e1dfe1c-ee1a-4cb1-b077-edb7cf66b4b3",
   "metadata": {},
   "source": [
    "`/usr/local/bin` is for Unix-like system. This is referred to [FileSystem Hierarchy Standard](https://www.pathname.com/fhs/). This is an appendix article for file system: https://www.aplawrence.com/Opinion/religion.html\n",
    "\n",
    "`/usr/local`: The /usr/local hierarchy is for use by the system administrator when installing software locally. It needs to\n",
    "be safe from being overwritten when the system software is updated. It may be used for programs and data that\n",
    "are shareable amongst a group of hosts, but not found in /usr.\n",
    "Locally installed software must be placed within /usr/local rather than /usr unless it is being installed to\n",
    "replace or upgrade software in /usr.\n",
    "> `/usr/local` 层次结构是供系统管理员在本地安装软件时使用的。当系统软件被更新时，它需要被安全地覆盖掉。它可以用于在一组主机中可以共享的程序和数据，但在/usr中找不到。本地安装的软件必须放在/usr/local而不是/usr中，除非它被安装来替换或升级/usr中的软件。\n",
    "\n",
    "`/bin` : Essential user command binaries (for use by all users)\n",
    "\n",
    "`/usr/local/bin` is Local binaries diretory where command binaries located for system administrator installed software.\n",
    "\n",
    "[shell](https://en.wikipedia.org/wiki/Shell_(computing)): In [computing](https://en.wikipedia.org/wiki/Computing), a **shell** is a computer program that exposes an [operating system](https://en.wikipedia.org/wiki/Operating_system)'s services to a human user or other programs. In general, operating system shells use either a [command-line interface](https://en.wikipedia.org/wiki/Command-line_interface) (CLI) or [graphical user interface](https://en.wikipedia.org/wiki/Graphical_user_interface) (GUI), depending on a computer's role and particular operation. It is named a shell because it is the outermost layer around the operating system.[[1\\]](https://en.wikipedia.org/wiki/Shell_(computing)#cite_note-Economist-1)[[2\\]](https://en.wikipedia.org/wiki/Shell_(computing)#cite_note-JargonFile-2)\n",
    "\n",
    "> 在[计算机](https://en.wikipedia.org/wiki/Computing)中，**shell**是一个计算机程序，它将[操作系统](https://en.wikipedia.org/wiki/Operating_system)的服务暴露给人类用户或其他程序。一般来说，操作系统的shell使用[命令行界面](https://en.wikipedia.org/wiki/Command-line_interface) (CLI)或[图形用户界面](https://en.wikipedia.org/wiki/Graphical_user_interface) (GUI)，这取决于计算机的角色和特定操作。它被命名为shell，因为它是围绕操作系统的最外层。[[1]](https://en.wikipedia.org/wiki/Shell_(computing)#cite_note-Economist-1)[[2]](https://en.wikipedia.org/wiki/Shell_(computing)#cite_note-JargonFile-2)\n",
    "\n",
    "[Command Prompt](https://en.wikipedia.org/wiki/Windows_Command_Prompt), a CLI shell in Windows; [Bash](https://en.wikipedia.org/wiki/Bash_(Unix_shell)), a widely adopted [Unix shell](https://en.wikipedia.org/wiki/Unix_shell)"
   ]
  },
  {
   "cell_type": "markdown",
   "id": "cda50825-c6ee-4e03-aa06-37ee2a12e1db",
   "metadata": {},
   "source": [
    "[IDLE](https://en.wikipedia.org/wiki/IDLE) Python is an [integrated development environment](https://en.wikipedia.org/wiki/Integrated_development_environment) for [Python](https://en.wikipedia.org/wiki/Python_(programming_language)), which has been bundled with the default implementation of the language since 1.5.2b1.[[4\\]](https://en.wikipedia.org/wiki/IDLE#cite_note-4)[[5\\]](https://en.wikipedia.org/wiki/IDLE#cite_note-5) It is packaged as an optional part of the Python packaging with many [Linux distributions](https://en.wikipedia.org/wiki/Linux_distributions). It is completely written in Python and the [Tkinter](https://en.wikipedia.org/wiki/Tkinter) GUI toolkit ([wrapper](https://en.wikipedia.org/wiki/Wrapper_function) functions for [Tcl](https://en.wikipedia.org/wiki/Tcl)/[Tk](https://en.wikipedia.org/wiki/Tk_(framework)))."
   ]
  },
  {
   "cell_type": "markdown",
   "id": "bfbfb838-722c-4a05-b63f-55d2ec23b8fc",
   "metadata": {},
   "source": [
    "[the top 3 easter eggs in Python](https://www.alanzucconi.com/2015/10/29/the-top-5-easter-eggs-in-python/)\n",
    "\n",
    "`python -c command [arg]...` is a way to starting interpreter in shell, but it doesn't print anything in windows's shell prompt.\n",
    "\n",
    "`python -m module [arg]...` works in windows's shell prompt.\n",
    "\n",
    "more on [Command line and environment](https://docs.python.org/3/using/cmdline.html)"
   ]
  },
  {
   "cell_type": "markdown",
   "id": "4c2b701e-f121-4a6d-9fe0-74144882d745",
   "metadata": {},
   "source": [
    "For example, to declare that Windows-1252 encoding is to be used, the first line of your source code file should be:\n",
    "```Python\n",
    "# -*- coding: cp1252 -*-\n",
    "```\n",
    "\n",
    "One exception to the first line rule is when the source code starts with a UNIX “shebang” line. In this case, the encoding declaration should be added as the second line of the file. For example:\n",
    "```Python\n",
    "#!/usr/bin/env python3\n",
    "# -*- coding: cp1252 -*-\n",
    "```"
   ]
  },
  {
   "cell_type": "markdown",
   "id": "c6bcd3be-1c2b-4c0d-bd88-e83185c659b7",
   "metadata": {},
   "source": [
    "### An Informal Introduction to Python"
   ]
  },
  {
   "cell_type": "markdown",
   "id": "62d1323b-e9b9-4b73-86fd-2eaa9a5f56b3",
   "metadata": {},
   "source": [
    "Using Python as a calculator:\n",
    "the operator  `+`, `-`, `*` and `/` work just like in most other languages\n",
    "\n",
    "note: division `/` alwasy returens a floating point, `10 / 5` will return `2.0`. \n",
    "foor division `//` makes the floored quotient, operator `%` makes the remainder.\n",
    "\n",
    "`**` operator to calculate power\n",
    "\n",
    "`=` is an assignment operator"
   ]
  },
  {
   "cell_type": "code",
   "execution_count": 5,
   "id": "ffe22ee1-2831-4d2e-8edb-58e7b3315807",
   "metadata": {},
   "outputs": [
    {
     "data": {
      "text/plain": [
       "'spam eggs'"
      ]
     },
     "execution_count": 5,
     "metadata": {},
     "output_type": "execute_result"
    },
    {
     "data": {
      "text/plain": [
       "\"doesn't\""
      ]
     },
     "execution_count": 5,
     "metadata": {},
     "output_type": "execute_result"
    },
    {
     "data": {
      "text/plain": [
       "\"doesn't\""
      ]
     },
     "execution_count": 5,
     "metadata": {},
     "output_type": "execute_result"
    },
    {
     "data": {
      "text/plain": [
       "'\"Yes,\" they said.'"
      ]
     },
     "execution_count": 5,
     "metadata": {},
     "output_type": "execute_result"
    },
    {
     "data": {
      "text/plain": [
       "'\"Yes,\" they said.'"
      ]
     },
     "execution_count": 5,
     "metadata": {},
     "output_type": "execute_result"
    },
    {
     "data": {
      "text/plain": [
       "'\"Isn\\'t,\" they said.'"
      ]
     },
     "execution_count": 5,
     "metadata": {},
     "output_type": "execute_result"
    },
    {
     "name": "stdout",
     "output_type": "stream",
     "text": [
      "doesn't\n"
     ]
    }
   ],
   "source": [
    "# single quotes & double quotes for strings\n",
    "\n",
    "'spam eggs'  # single quotes, in interactive mode, this will be single quote\n",
    "\n",
    "'doesn\\'t'  # use \\' to escape the single quote..., output is double quote\n",
    "\n",
    "\"doesn't\"  # ...or use double quotes instead\n",
    "\n",
    "'\"Yes,\" they said.'\n",
    "\n",
    "\"\\\"Yes,\\\" they said.\"  # the output quotes change\n",
    "\n",
    "'\"Isn\\'t,\" they said.'\n",
    "\n",
    "print(\"doesn't\")"
   ]
  },
  {
   "cell_type": "markdown",
   "id": "a1376813-38f3-4618-9c61-b8bf343df7db",
   "metadata": {},
   "source": [
    "interactive interpreter  交互式解释器；就像jupyter notebook 使用的解释器就是交互式解释器"
   ]
  },
  {
   "cell_type": "code",
   "execution_count": 13,
   "id": "d043ab7c-6b6d-4866-b505-2e92a2f34b95",
   "metadata": {},
   "outputs": [
    {
     "data": {
      "text/plain": [
       "'\"It\\'t,\" they said'"
      ]
     },
     "execution_count": 13,
     "metadata": {},
     "output_type": "execute_result"
    },
    {
     "name": "stdout",
     "output_type": "stream",
     "text": [
      "\"It't,\" they said\n",
      "First line. \n",
      "Second line.\n"
     ]
    }
   ],
   "source": [
    "# The print() function produces a more readable output, \n",
    "# by omitting the enclosing quotes and by printing escaped and special characters:\n",
    "\n",
    "'\"It\\'t,\" they said'\n",
    "print('\"It\\'t,\" they said')\n",
    "\n",
    "s = 'First line. \\nSecond line.'\n",
    "print('First line. \\nSecond line.')"
   ]
  },
  {
   "cell_type": "code",
   "execution_count": 15,
   "id": "b39e8c26-5a7d-46d7-9307-b0a2b44c74cb",
   "metadata": {},
   "outputs": [
    {
     "name": "stdout",
     "output_type": "stream",
     "text": [
      "C:\\some\n",
      "ame\n",
      "C:\\some\\name\n"
     ]
    }
   ],
   "source": [
    "#  use raw strings by adding an r before the first quote:\n",
    "print('C:\\some\\name')  # here \\n means newline!\n",
    "\n",
    "print(r'C:\\some\\name')  # note the r before the quote"
   ]
  },
  {
   "cell_type": "markdown",
   "id": "c9deec49-bb88-4558-9b5c-085ff4de5538",
   "metadata": {},
   "source": [
    "using triple-quotes: `\"\"\"...\"\"\"` or `'''...'''` to indicate String literals can span multiple lines\n"
   ]
  },
  {
   "cell_type": "code",
   "execution_count": 18,
   "id": "46624d3e-9287-4d87-a207-c4a950229806",
   "metadata": {},
   "outputs": [
    {
     "name": "stdout",
     "output_type": "stream",
     "text": [
      "Usage: thingy [OPTIONS]\n",
      "     -h                        Display this usage message\n",
      "     -H hostname               Hostname to connect to\n",
      "\n"
     ]
    }
   ],
   "source": [
    "# note that the initial newline is not included\n",
    "\n",
    "print(\"\"\"\\\n",
    "Usage: thingy [OPTIONS]\n",
    "     -h                        Display this usage message\n",
    "     -H hostname               Hostname to connect to\n",
    "\"\"\")"
   ]
  },
  {
   "cell_type": "code",
   "execution_count": 23,
   "id": "bf0e713e-343c-4d8f-b909-dbf46782120c",
   "metadata": {},
   "outputs": [
    {
     "data": {
      "text/plain": [
       "'unununium'"
      ]
     },
     "execution_count": 23,
     "metadata": {},
     "output_type": "execute_result"
    },
    {
     "data": {
      "text/plain": [
       "'Python'"
      ]
     },
     "execution_count": 23,
     "metadata": {},
     "output_type": "execute_result"
    },
    {
     "data": {
      "text/plain": [
       "'Put several strings within parentheses to have them joined together.'"
      ]
     },
     "execution_count": 23,
     "metadata": {},
     "output_type": "execute_result"
    }
   ],
   "source": [
    "# String can be concatenated (glued together) with the + operator, \n",
    "# and repeated with *:\n",
    "3 * 'un' + 'ium'\n",
    "\n",
    "# Two or more string literals (i.e. the ones enclosed between quotes) next to each other are \n",
    "# automatically concatenated.\n",
    "'Py' 'thon'\n",
    "\n",
    "text = ('Put several strings within parentheses '\n",
    "        'to have them joined together.')\n",
    "text"
   ]
  },
  {
   "cell_type": "code",
   "execution_count": 24,
   "id": "32698779-3735-4d31-abfa-55363f39f200",
   "metadata": {},
   "outputs": [
    {
     "data": {
      "text/plain": [
       "'P'"
      ]
     },
     "execution_count": 24,
     "metadata": {},
     "output_type": "execute_result"
    },
    {
     "data": {
      "text/plain": [
       "'n'"
      ]
     },
     "execution_count": 24,
     "metadata": {},
     "output_type": "execute_result"
    }
   ],
   "source": [
    "# String can be indexed, a character of a string is a string of size one:\n",
    "word = 'Python'\n",
    "word[0]\n",
    "word[5]"
   ]
  },
  {
   "cell_type": "markdown",
   "id": "55117b5c-7c3e-4af3-ad6d-7b78bd518ad4",
   "metadata": {},
   "source": []
  }
 ],
 "metadata": {
  "kernelspec": {
   "display_name": "Python 3 (ipykernel)",
   "language": "python",
   "name": "python3"
  },
  "language_info": {
   "codemirror_mode": {
    "name": "ipython",
    "version": 3
   },
   "file_extension": ".py",
   "mimetype": "text/x-python",
   "name": "python",
   "nbconvert_exporter": "python",
   "pygments_lexer": "ipython3",
   "version": "3.10.6"
  }
 },
 "nbformat": 4,
 "nbformat_minor": 5
}
