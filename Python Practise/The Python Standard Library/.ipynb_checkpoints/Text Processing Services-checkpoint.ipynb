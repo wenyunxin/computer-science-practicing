{
 "cells": [
  {
   "cell_type": "code",
   "execution_count": 1,
   "id": "8124fc68-e6ed-4774-a891-4c42c5069753",
   "metadata": {},
   "outputs": [],
   "source": [
    "from IPython.core.interactiveshell import InteractiveShell\n",
    "InteractiveShell.ast_node_interactivity = \"all\""
   ]
  },
  {
   "cell_type": "markdown",
   "id": "9ec441ab-6787-49a1-b121-ce6a073a1c33",
   "metadata": {},
   "source": [
    "The modules described in this chapter provide a wide range of string manipulation operations and other text processing services.\n",
    "\n",
    "The [`codecs`](https://docs.python.org/3/library/codecs.html#module-codecs) module described under [Binary Data Services](https://docs.python.org/3/library/binary.html#binaryservices) is also highly relevant to text processing. In addition, see the documentation for Python’s built-in string type in [Text Sequence Type — str](https://docs.python.org/3/library/stdtypes.html#textseq).\n",
    "\n",
    "> 本章描述的模块提供了广泛的字符串操作和其他文本处理服务。\n",
    ">\n",
    "> 在 [二进制数据服务](https://docs.python.org/3/library/binary.html#binaryservices)中描述的 [`codecs`](https://docs.python.org/3/library/codecs.html#module-codecs)模块也与文本处理高度相关。此外，请参阅 [文本序列类型 - str](https://docs.python.org/3/library/stdtypes.html#textseq) 中关于 Python 内置字符串类型的文档。"
   ]
  },
  {
   "cell_type": "markdown",
   "id": "0a365fd0-46dd-4478-990c-4d0cc32bddda",
   "metadata": {},
   "source": [
    "##  [`string`](https://docs.python.org/3/library/string.html#module-string) — Common string operations"
   ]
  },
  {
   "cell_type": "markdown",
   "id": "b0b68e4c-78d5-4c3a-a0e3-bb690482384f",
   "metadata": {},
   "source": [
    "**Source code:** [Lib/string.py](https://github.com/python/cpython/tree/3.10/Lib/string.py)\n",
    "\n",
    "------\n",
    "\n",
    "See also\n",
    "\n",
    "[Text Sequence Type — str](https://docs.python.org/3/library/stdtypes.html#textseq)\n",
    "\n",
    "[String Methods]("
   ]
  },
  {
   "cell_type": "markdown",
   "id": "2594b1aa-dc08-47ae-ac27-d15d7cd5da86",
   "metadata": {},
   "source": [
    "### String constants"
   ]
  },
  {
   "cell_type": "markdown",
   "id": "cfd9fcf8-5171-437d-9805-019a9c5f46fc",
   "metadata": {},
   "source": [
    "The constants defined in this module are:\n",
    "\n",
    "> 本模块中定义的常数是："
   ]
  },
  {
   "cell_type": "markdown",
   "id": "8e347cf7-1fe2-47ea-9498-f1dee8c2e10f",
   "metadata": {},
   "source": [
    "- `string.ascii_letters`\n",
    "\n",
    "  The concatenation of the [`ascii_lowercase`](https://docs.python.org/3/library/string.html#string.ascii_lowercase) and [`ascii_uppercase`](https://docs.python.org/3/library/string.html#string.ascii_uppercase) constants described below. This value is not locale-dependent.\n",
    "\n",
    "- `string.ascii_lowercase`\n",
    "\n",
    "  The lowercase letters `'abcdefghijklmnopqrstuvwxyz'`. This value is not locale-dependent and will not change.\n",
    "\n",
    "- `string.ascii_uppercase`\n",
    "\n",
    "  The uppercase letters `'ABCDEFGHIJKLMNOPQRSTUVWXYZ'`. This value is not locale-dependent and will not change.\n",
    "\n",
    "- `string.digits`\n",
    "\n",
    "  The string `'0123456789'`.\n",
    "\n",
    "- `string.hexdigits`\n",
    "\n",
    "  The string `'0123456789abcdefABCDEF'`.\n",
    "\n",
    "- `string.octdigits`\n",
    "\n",
    "  The string `'01234567'`.\n",
    "\n",
    "- `string.punctuation`\n",
    "\n",
    "  String of ASCII characters which are considered punctuation characters in the `C` locale: `!\"#$%&'()*+,-./:;<=>?@[\\]^_`{|}~`.\n",
    "\n",
    "- `string.printable`\n",
    "\n",
    "  String of ASCII characters which are considered printable. This is a combination of [`digits`](https://docs.python.org/3/library/string.html#string.digits), [`ascii_letters`](https://docs.python.org/3/library/string.html#string.ascii_letters), [`punctuation`](https://docs.python.org/3/library/string.html#string.punctuation), and [`whitespace`](https://docs.python.org/3/library/string.html#string.whitespace).\n",
    "\n",
    "- `string.whitespace`\n",
    "\n",
    "  A string containing all ASCII characters that are considered whitespace. This includes the characters space, tab, linefeed, return, formfeed, and vertical tab.\n",
    "\n",
    "> - `string.ascii_letters`\n",
    ">\n",
    ">   下面描述的[`ascii_lowercase`](https://docs.python.org/3/library/string.html#string.ascii_lowercase)和[`ascii_uppercase`](https://docs.python.org/3/library/string.html#string.ascii_uppercase)常数的连接。这个值不依赖于本地。\n",
    ">\n",
    "> - `string.ascii_lowercase`\n",
    ">\n",
    ">   小写字母`'abcdefghijklmnopqrstuvwxyz'`。这个值不依赖于本地，不会改变。\n",
    ">\n",
    "> - `string.ascii_uppercase`.\n",
    ">\n",
    ">   大写字母`'ABCDEFGHIJKLMNOPQRSTUVWXYZ'`。这个值不依赖于本地，不会改变。\n",
    ">\n",
    "> - `string.digits`\n",
    ">\n",
    ">   字符串`'0123456789'`。\n",
    ">\n",
    "> - `string.hexdigits`\n",
    ">\n",
    ">   字符串`'0123456789abcdefABCDEF'`。\n",
    ">\n",
    "> - `string.octdigits`.\n",
    ">\n",
    ">   字符串`'01234567'`。\n",
    ">\n",
    "> - `string.punctuation`\n",
    ">\n",
    ">   一串ASCII字符，在`C`场所被认为是标点符号：`!\"#$%&'()*+,-./:;<=>?@[\\]^_`{|}~`.\n",
    ">\n",
    "> - `string.printable`\n",
    ">\n",
    ">   被认为是可打印的ASCII字符的字符串。这是由[`digits`](https://docs.python.org/3/library/string.html#string.digits)、[`ascii_letters`](https://docs.python.org/3/library/string.html#string.ascii_letters)、[`punctuation`](https://docs.python.org/3/library/string.html#string.punctuation)和[`whitespace`](https://docs.python.org/3/library/string.html#string.whitespace)组合而成。\n",
    ">\n",
    "> - `string.whitespace`\n",
    ">\n",
    ">   一个包含所有被认为是空白的ASCII字符的字符串。这包括空格、制表符、换行符、回车符、换页符和垂直制表符等字符。"
   ]
  },
  {
   "cell_type": "code",
   "execution_count": 7,
   "id": "800f182e-90e9-437a-8446-37af46c228bd",
   "metadata": {},
   "outputs": [
    {
     "data": {
      "text/plain": [
       "'abcdefghijklmnopqrstuvwxyzABCDEFGHIJKLMNOPQRSTUVWXYZ'"
      ]
     },
     "execution_count": 7,
     "metadata": {},
     "output_type": "execute_result"
    },
    {
     "data": {
      "text/plain": [
       "'abcdefghijklmnopqrstuvwxyz'"
      ]
     },
     "execution_count": 7,
     "metadata": {},
     "output_type": "execute_result"
    },
    {
     "data": {
      "text/plain": [
       "'ABCDEFGHIJKLMNOPQRSTUVWXYZ'"
      ]
     },
     "execution_count": 7,
     "metadata": {},
     "output_type": "execute_result"
    },
    {
     "data": {
      "text/plain": [
       "'0123456789'"
      ]
     },
     "execution_count": 7,
     "metadata": {},
     "output_type": "execute_result"
    },
    {
     "data": {
      "text/plain": [
       "'0123456789abcdefABCDEF'"
      ]
     },
     "execution_count": 7,
     "metadata": {},
     "output_type": "execute_result"
    },
    {
     "data": {
      "text/plain": [
       "'01234567'"
      ]
     },
     "execution_count": 7,
     "metadata": {},
     "output_type": "execute_result"
    },
    {
     "data": {
      "text/plain": [
       "'!\"#$%&\\'()*+,-./:;<=>?@[\\\\]^_`{|}~'"
      ]
     },
     "execution_count": 7,
     "metadata": {},
     "output_type": "execute_result"
    },
    {
     "data": {
      "text/plain": [
       "'0123456789abcdefghijklmnopqrstuvwxyzABCDEFGHIJKLMNOPQRSTUVWXYZ!\"#$%&\\'()*+,-./:;<=>?@[\\\\]^_`{|}~ \\t\\n\\r\\x0b\\x0c'"
      ]
     },
     "execution_count": 7,
     "metadata": {},
     "output_type": "execute_result"
    },
    {
     "data": {
      "text/plain": [
       "' \\t\\n\\r\\x0b\\x0c'"
      ]
     },
     "execution_count": 7,
     "metadata": {},
     "output_type": "execute_result"
    }
   ],
   "source": [
    "import string\n",
    "string.ascii_letters\n",
    "string.ascii_lowercase\n",
    "string.ascii_uppercase\n",
    "string.digits\n",
    "string.hexdigits\n",
    "string.octdigits\n",
    "string.punctuation\n",
    "string.printable\n",
    "string.whitespace"
   ]
  },
  {
   "cell_type": "markdown",
   "id": "d83ac0c0-a6cb-40c0-8b5c-9e172dadd642",
   "metadata": {},
   "source": [
    "## Custom String Formatting"
   ]
  },
  {
   "cell_type": "markdown",
   "id": "2abfed60-f902-4efd-a7fc-0b0a579f94c7",
   "metadata": {},
   "source": [
    "The built-in string class provides the ability to do complex variable substitutions and value formatting via the [`format()`](https://docs.python.org/3/library/stdtypes.html#str.format) method described in [**PEP 3101**](https://www.python.org/dev/peps/pep-3101). The [`Formatter`](https://docs.python.org/3/library/string.html#string.Formatter) class in the [`string`](https://docs.python.org/3/library/string.html#module-string) module allows you to create and customize your own string formatting behaviors using the same implementation as the built-in [`format()`](https://docs.python.org/3/library/stdtypes.html#str.format) method.\n",
    "\n",
    "> 内置的字符串类提供了通过[**PEP 3101**](https://www.python.org/dev/peps/pep-3101)中描述的[`format()`](https://docs.python.org/3/library/stdtypes.html#str.format)方法进行复杂变量替换和值格式化的能力。[`string`](https://docs.python.org/3/library/string.html#module-string)模块中的[`Formatter`](https://docs.python.org/3/library/string.html#string.Formatter)类允许你使用与内置[`format()`](https://docs.python.org/3/library/stdtypes.html#str.format)方法相同的实现来创建和定制你自己的字符串格式化行为。"
   ]
  },
  {
   "cell_type": "markdown",
   "id": "cef16534-e385-4e1f-b208-58478385ca5b",
   "metadata": {},
   "source": [
    "*class* `string.Formatter`\n",
    "\n",
    "The [`Formatter`](https://docs.python.org/3/library/string.html#string.Formatter) class has the following public methods:\n",
    "\n",
    "- `format`(*format_string*, */*, _*args_, ***kwargs*)\n",
    "\n",
    "  The primary API method. It takes a format string and an arbitrary set of positional and keyword arguments. It is just a wrapper that calls [`vformat()`](https://docs.python.org/3/library/string.html#string.Formatter.vformat).*Changed in version 3.7:* A format string argument is now [positional-only](https://docs.python.org/3/glossary.html#positional-only-parameter).\n",
    "\n",
    "- `vformat`(*format_string*, *args*, *kwargs*)\n",
    "\n",
    "  This function does the actual work of formatting. It is exposed as a separate function for cases where you want to pass in a predefined dictionary of arguments, rather than unpacking and repacking the dictionary as individual arguments using the `*args` and `**kwargs` syntax. [`vformat()`](https://docs.python.org/3/library/string.html#string.Formatter.vformat) does the work of breaking up the format string into character data and replacement fields. It calls the various methods described below.\n",
    "\n",
    "In addition, the [`Formatter`](https://docs.python.org/3/library/string.html#string.Formatter) defines a number of methods that are intended to be replaced by subclasses:\n",
    "\n",
    "- `parse`(*format_string*)\n",
    "\n",
    "  Loop over the format_string and return an iterable of tuples (*literal_text*, *field_name*, *format_spec*, *conversion*). This is used by [`vformat()`](https://docs.python.org/3/library/string.html#string.Formatter.vformat) to break the string into either literal text, or replacement fields.The values in the tuple conceptually represent a span of literal text followed by a single replacement field. If there is no literal text (which can happen if two replacement fields occur consecutively), then *literal_text* will be a zero-length string. If there is no replacement field, then the values of *field_name*, *format_spec* and *conversion* will be `None`.\n",
    "\n",
    "- `get_field`(*field_name*, *args*, *kwargs*)\n",
    "\n",
    "  Given *field_name* as returned by [`parse()`](https://docs.python.org/3/library/string.html#string.Formatter.parse) (see above), convert it to an object to be formatted. Returns a tuple (obj, used_key). The default version takes strings of the form defined in [**PEP 3101**](https://www.python.org/dev/peps/pep-3101), such as “0[name]” or “label.title”. *args* and *kwargs* are as passed in to [`vformat()`](https://docs.python.org/3/library/string.html#string.Formatter.vformat). The return value *used_key* has the same meaning as the *key* parameter to [`get_value()`](https://docs.python.org/3/library/string.html#string.Formatter.get_value).\n",
    "\n",
    "- `get_value`(*key*, *args*, *kwargs*)\n",
    "\n",
    "  Retrieve a given field value. The *key* argument will be either an integer or a string. If it is an integer, it represents the index of the positional argument in *args*; if it is a string, then it represents a named argument in *kwargs*.The *args* parameter is set to the list of positional arguments to [`vformat()`](https://docs.python.org/3/library/string.html#string.Formatter.vformat), and the *kwargs* parameter is set to the dictionary of keyword arguments.For compound field names, these functions are only called for the first component of the field name; subsequent components are handled through normal attribute and indexing operations.So for example, the field expression ‘0.name’ would cause [`get_value()`](https://docs.python.org/3/library/string.html#string.Formatter.get_value) to be called with a *key* argument of 0. The `name` attribute will be looked up after [`get_value()`](https://docs.python.org/3/library/string.html#string.Formatter.get_value) returns by calling the built-in [`getattr()`](https://docs.python.org/3/library/functions.html#getattr) function.If the index or keyword refers to an item that does not exist, then an [`IndexError`](https://docs.python.org/3/library/exceptions.html#IndexError) or [`KeyError`](https://docs.python.org/3/library/exceptions.html#KeyError) should be raised.\n",
    "\n",
    "- `check_unused_args`(*used_args*, *args*, *kwargs*)\n",
    "\n",
    "  Implement checking for unused arguments if desired. The arguments to this function is the set of all argument keys that were actually referred to in the format string (integers for positional arguments, and strings for named arguments), and a reference to the *args* and *kwargs* that was passed to vformat. The set of unused args can be calculated from these parameters. [`check_unused_args()`](https://docs.python.org/3/library/string.html#string.Formatter.check_unused_args) is assumed to raise an exception if the check fails.\n",
    "\n",
    "- `format_field`(*value*, *format_spec*)\n",
    "\n",
    "  [`format_field()`](https://docs.python.org/3/library/string.html#string.Formatter.format_field) simply calls the global [`format()`](https://docs.python.org/3/library/functions.html#format) built-in. The method is provided so that subclasses can override it.\n",
    "\n",
    "- `convert_field`(*value*, *conversion*)\n",
    "\n",
    "  Converts the value (returned by [`get_field()`](https://docs.python.org/3/library/string.html#string.Formatter.get_field)) given a conversion type (as in the tuple returned by the [`parse()`](https://docs.python.org/3/library/string.html#string.Formatter.parse) method). The default version understands ‘s’ (str), ‘r’ (repr) and ‘a’ (ascii) conversion types.\n",
    "\n",
    "> *class* `string.Formatter`类\n",
    ">\n",
    "> [`Formatter`](https://docs.python.org/3/library/string.html#string.Formatter) 类有以下公共方法。\n",
    ">\n",
    "> - `format`(*format_string*, */*, _*args_, ***kwargs*)\n",
    ">\n",
    ">   主要的API方法。它接受一个格式字符串和一组任意的位置参数和关键字参数。它只是一个调用[`vformat()`](https://docs.python.org/3/library/string.html#string.Formatter.vformat)的封装器。*在3.7版本中改变了：* 格式字符串参数现在是[仅有位置](https://docs.python.org/3/glossary.html#positional-only-parameter)。\n",
    ">\n",
    "> - `vformat`(*format_string*, *args*, *kwargs*)\n",
    ">\n",
    ">   这个函数完成格式化的实际工作。它作为一个单独的函数，用于传递预定义的参数字典，而不是使用`*args`和`**kwargs`语法将字典作为单独的参数进行解包和重新打包。[`vformat()`](https://docs.python.org/3/library/string.html#string.Formatter.vformat)做的工作是将格式字符串分解成字符数据和替换域。它调用下面描述的各种方法。\n",
    ">\n",
    "> 此外，[`Formatter`](https://docs.python.org/3/library/string.html#string.Formatter)定义了一些方法，打算由子类代替。\n",
    ">\n",
    "> - `parse`(*format_string*)\n",
    ">\n",
    ">   循环处理format_string，并返回一个可迭代的图元（*literal_text*, *field_name*, *format_spec*, *conversion*）。这被[`vformat()`](https://docs.python.org/3/library/string.html#string.Formatter.vformat)用来将字符串分解成字面文本或替换字段。元组中的值在概念上代表一跨字面文本和一个替换字段。如果没有字面文本（如果连续出现两个替换字段就会出现这种情况），那么*literal_text*将是一个零长度的字符串。如果没有替换字段，那么*field_name*、*format_spec*和*conversion*的值将是`None`。\n",
    ">\n",
    "> - `get_field`(*field_name*, *args*, *kwargs*)\n",
    ">\n",
    ">   给出由[`parse()`](https://docs.python.org/3/library/string.html#string.Formatter.parse)返回的*field_name*（见上文），将其转换为要格式化的对象。返回一个元组（obj, used_key）。默认版本接受[**PEP 3101**](https://www.python.org/dev/peps/pep-3101)中定义的形式的字符串，例如 \"0[name]\"或 \"label.title\"。*args*和*kwargs*与传递给[`vformat()`](https://docs.python.org/3/library/string.html#string.Formatter.vformat)的一样。返回值*used_key*与[`get_value()`](https://docs.python.org/3/library/string.html#string.Formatter.get_value)的*key*参数含义相同。\n",
    ">\n",
    "> - `get_value`(*key*, *args*, *kwargs*)\n",
    ">\n",
    ">   检索一个给定的字段值。*key*参数将是一个整数或一个字符串。如果是一个整数，它代表*args*中位置参数的索引；如果是一个字符串，那么它代表*kwargs*中的命名参数。*args*参数被设置为[`vformat()`](https://docs.python.org/3/library/string.html#string.Formatter.vformat)的位置参数列表，*kwargs*参数被设置为关键字参数的字典。对于复合字段名，这些函数只针对字段名的第一个组成部分被调用；后续组成部分通过正常属性和索引操作处理。因此，例如字段表达'0. name'将导致[`get_value()`](https://docs.python.org/3/library/string.html#string.Formatter.get_value)被调用，其*key*参数为0。`name`属性将在[`get_value()`](https://docs.python.org/3/library/string.html#string.Formatter.get_value)返回后通过调用内置的[`getattr()`](https://docs.python.org/3/library/functions.html#getattr)函数进行查找。如果索引或关键字指向一个不存在的项目，那么将产生[`IndexError`](https://docs.python.org/3/library/exceptions.html#IndexError)或[`KeyError`](https://docs.python.org/3/library/exceptions.html#KeyError)。\n",
    ">\n",
    "> - `check_unused_args`(*used_args*, *args*, *kwargs*)\n",
    ">\n",
    ">   如果需要，实现对未使用参数的检查。这个函数的参数是在格式字符串中实际提到的所有参数键的集合（位置参数为整数，命名参数为字符串），以及对传递给vformat的*args*和*kwargs*的引用。未使用的args集可以从这些参数中计算出来。[`check_unused_args()`](https://docs.python.org/3/library/string.html#string.Formatter.check_unused_args)假定在检查失败时引发一个异常。\n",
    ">\n",
    "> - `format_field`(*value*, *format_spec*)\n",
    ">\n",
    ">   [`format_field()`](https://docs.python.org/3/library/string.html#string.Formatter.format_field)简单地调用全局的[`format()`](https://docs.python.org/3/library/functions.html#format)内置。提供这个方法是为了让子类可以覆盖它。\n",
    ">\n",
    "> - `convert_field`(*value*, *conversion*)\n",
    ">\n",
    ">   转换值（由get_field()返回），给定一个转换类型（如parse()方法返回的元组）。默认版本理解's'（str）、'r'（repr）和'a'（ascii）转换类型。"
   ]
  },
  {
   "cell_type": "markdown",
   "id": "e193f92f-f5aa-4db9-af81-153e097827ce",
   "metadata": {},
   "source": [
    "## Format String Syntax"
   ]
  },
  {
   "cell_type": "markdown",
   "id": "1ef08cbb-c9ec-49d8-b0c6-a29c0ae8d388",
   "metadata": {},
   "source": []
  }
 ],
 "metadata": {
  "kernelspec": {
   "display_name": "Python 3 (ipykernel)",
   "language": "python",
   "name": "python3"
  },
  "language_info": {
   "codemirror_mode": {
    "name": "ipython",
    "version": 3
   },
   "file_extension": ".py",
   "mimetype": "text/x-python",
   "name": "python",
   "nbconvert_exporter": "python",
   "pygments_lexer": "ipython3",
   "version": "3.10.4"
  }
 },
 "nbformat": 4,
 "nbformat_minor": 5
}
