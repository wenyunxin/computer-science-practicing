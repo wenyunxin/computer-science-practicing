{
 "cells": [
  {
   "cell_type": "code",
   "execution_count": 12,
   "id": "b16640a8-b70c-4316-b73e-501164059c2a",
   "metadata": {},
   "outputs": [],
   "source": [
    "from IPython.core.interactiveshell import InteractiveShell\n",
    "InteractiveShell.ast_node_interactivity = \"all\""
   ]
  },
  {
   "cell_type": "markdown",
   "id": "445c8ab5-c5ca-40a0-a564-c2b5ecf799bd",
   "metadata": {},
   "source": [
    "A small number of constants live in the built-in namespace. They are:\n",
    "\n",
    "> 有少量的常量存在于内置名称空间中。它们是"
   ]
  },
  {
   "cell_type": "markdown",
   "id": "3e87820a-e2e2-4f98-873b-f6c59872271d",
   "metadata": {},
   "source": [
    "**False**\n",
    "\n",
    "The false value of the [`bool`](https://docs.python.org/3/library/functions.html#bool) type. Assignments to `False` are illegal and raise a [`SyntaxError`](https://docs.python.org/3/library/exceptions.html#SyntaxError).\n",
    "\n",
    "> **False**\n",
    ">\n",
    "> [`bool`](https://docs.python.org/3/library/functions.html#bool) 类型的false值。对 `False`  的赋值是非法的，会引发[`SyntaxError`](https://docs.python.org/3/library/exceptions.html#SyntaxError)。"
   ]
  },
  {
   "cell_type": "markdown",
   "id": "87b49dd9-fcb7-4a97-b1f5-336f1563d68e",
   "metadata": {},
   "source": [
    "**True**\n",
    "\n",
    "The true value of the [`bool`](https://docs.python.org/3/library/functions.html#bool) type. Assignments to `True` are illegal and raise a [`SyntaxError`](https://docs.python.org/3/library/exceptions.html#SyntaxError).\n",
    "\n",
    "> **True**\n",
    ">\n",
    "> 是 [`bool`](https://docs.python.org/3/library/functions.html#bool) 类型的true值。对 `True` 的赋值是非法的，会引发[`SyntaxError`](https://docs.python.org/3/library/exceptions.html#SyntaxError)。"
   ]
  },
  {
   "cell_type": "markdown",
   "id": "e93ef4af-f12c-48cc-9132-5156dda700c1",
   "metadata": {},
   "source": [
    "**None**\n",
    "\n",
    "An object frequently used to represent the absence of a value, as when default arguments are not passed to a function. Assignments to `None` are illegal and raise a [`SyntaxError`](https://docs.python.org/3/library/exceptions.html#SyntaxError). `None` is the sole instance of the `NoneType` type.\n",
    "\n",
    "> **None**\n",
    ">\n",
    "> 一个经常被用来表示没有值的对象，比如说当默认参数没有被传递给一个函数时。对 `None` 的赋值是非法的，会引发 [`SyntaxError`](https://docs.python.org/3/library/exceptions.html#SyntaxError)。`None` 是 `NoneType` 类型的唯一实例。"
   ]
  },
  {
   "cell_type": "code",
   "execution_count": 4,
   "id": "3e5ba6ec-9750-46ee-aecc-a6d57badf855",
   "metadata": {},
   "outputs": [
    {
     "data": {
      "text/plain": [
       "True"
      ]
     },
     "execution_count": 4,
     "metadata": {},
     "output_type": "execute_result"
    }
   ],
   "source": [
    "isinstance(None, object)"
   ]
  },
  {
   "cell_type": "markdown",
   "id": "ae83e03e-3afb-4ea4-a32e-327d86b668b1",
   "metadata": {},
   "source": [
    "**NotImplemented**\n",
    "\n",
    "A special value which should be returned by the binary special methods (e.g. `__eq__()`, `__lt__()`, `__add__()`, `__rsub__()`, etc.) to indicate that the operation is not implemented with respect to the other type; may be returned by the in-place binary special methods (e.g. `__imul__()`, `__iand__()`, etc.) for the same purpose. It should not be evaluated in a boolean context. `NotImplemented` is the sole instance of the [`types.NotImplementedType`](https://docs.python.org/3/library/types.html#types.NotImplementedType) type.\n",
    "\n",
    "> **NotImplemented**\n",
    ">\n",
    "> 一个特殊的值，应该由二进制的特殊方法（例如：`__eq__()`, `__lt__()`, `__add__()`, `__rsub__()`, etc.）返回，表示该操作相对于其他类型没有实现；可以由就地的二进制特殊方法（例如：`__imul__()`, `__iand__()`, etc.）返回，以达到同样目的。它不应该在布尔环境中被运算求值。`NotImplemented` 是[`types.NotImplementedType`](https://docs.python.org/3/library/types.html#types.NotImplementedType) 类型的唯一实例。"
   ]
  },
  {
   "cell_type": "code",
   "execution_count": 7,
   "id": "566797e2-9d80-4f6e-a019-8b0ed245ea36",
   "metadata": {},
   "outputs": [
    {
     "data": {
      "text/plain": [
       "True"
      ]
     },
     "execution_count": 7,
     "metadata": {},
     "output_type": "execute_result"
    }
   ],
   "source": [
    "isinstance(NotImplemented, object)"
   ]
  },
  {
   "cell_type": "markdown",
   "id": "547ca536-be4e-4e60-987f-73a87061db8d",
   "metadata": {},
   "source": [
    "**Note:** When a binary (or in-place) method returns `NotImplemented` the interpreter will try the reflected operation on the other type (or some other fallback, depending on the operator). If all attempts return `NotImplemented`, the interpreter will raise an appropriate exception. Incorrectly returning `NotImplemented` will result in a misleading error message or the `NotImplemented` value being returned to Python code.\n",
    "\n",
    "See [Implementing the arithmetic operations](https://docs.python.org/3/library/numbers.html#implementing-the-arithmetic-operations) for examples.\n",
    "\n",
    "> **注意：**当一个二进制（或就地）方法返回 `NotImplemented` 时，解释器将尝试在其他类型上进行反射操作（或一些其他回退，取决于操作者）。如果所有的尝试都返回 `NotImplemented`，解释器将引发一个适当的异常。不正确地返回 `NotImplemented` 将导致一个误导性的错误信息，或将 `NotImplemented` 值返回给Python代码。\n",
    ">\n",
    "> 参见 [实现算术运算](https://docs.python.org/3/library/numbers.html#implementing-the-arithmetic-operations) 中的例子。"
   ]
  },
  {
   "cell_type": "markdown",
   "id": "d13aa961-2226-4fc8-b57b-ba1a32eb9352",
   "metadata": {},
   "source": [
    "**Note:** `NotImplementedError` and `NotImplemented` are not interchangeable, even though they have similar names and purposes. See [`NotImplementedError`](https://docs.python.org/3/library/exceptions.html#NotImplementedError) for details on when to use it.\n",
    "\n",
    "> **注意：** `NotImplementedError` 和 `NotImplemented` 不能互换，尽管它们的名字和用途相似。关于何时使用它的细节，请参见[`NotImplementedError`](https://docs.python.org/3/library/exceptions.html#NotImplementedError)。"
   ]
  },
  {
   "cell_type": "markdown",
   "id": "c5223639-3de3-46b8-90b7-bc06467f5125",
   "metadata": {},
   "source": [
    "*Changed in version 3.9:* Evaluating `NotImplemented` in a boolean context is deprecated. While it currently evaluates as true, it will emit a [`DeprecationWarning`](https://docs.python.org/3/library/exceptions.html#DeprecationWarning). It will raise a [`TypeError`](https://docs.python.org/3/library/exceptions.html#TypeError) in a future version of Python.\n",
    "\n",
    "> *在3.9版本中改变了：*在布尔上下文中运算求值 `NotImplemented` 已被废弃。虽然它目前评估为真，但它将发出一个 [`DeprecationWarning`](https://docs.python.org/3/library/exceptions.html#DeprecationWarning)。在未来的 Python 版本中，它将引发 [`TypeError`](https://docs.python.org/3/library/exceptions.html#TypeError)。"
   ]
  },
  {
   "cell_type": "markdown",
   "id": "a7294532-32b3-4644-bc66-b8820afc898c",
   "metadata": {},
   "source": [
    "**Ellipsis**\n",
    "\n",
    "The same as the ellipsis literal “`...`”. Special value used mostly in conjunction with extended slicing syntax for user-defined container data types. `Ellipsis` is the sole instance of the [`types.EllipsisType`](https://docs.python.org/3/library/types.html#types.EllipsisType) type.\n",
    "\n",
    "> **Ellipsis**\n",
    ">\n",
    "> 与省略号字面\"`...`\"相同。特殊值主要与用户定义的容器数据类型的扩展分片语法一起使用。`Ellipsis` 是[`types.EllipsisType`](https://docs.python.org/3/library/types.html#types.EllipsisType) 类型的唯一实例。"
   ]
  },
  {
   "cell_type": "code",
   "execution_count": 10,
   "id": "5e203f93-0178-444c-a9f0-4e3dabb93f91",
   "metadata": {},
   "outputs": [
    {
     "data": {
      "text/plain": [
       "True"
      ]
     },
     "execution_count": 10,
     "metadata": {},
     "output_type": "execute_result"
    }
   ],
   "source": [
    "isinstance(Ellipsis, object)"
   ]
  },
  {
   "cell_type": "markdown",
   "id": "b0ee7021-f44b-4a83-ac89-704a26719ed2",
   "metadata": {},
   "source": [
    "**\\_\\_debug__**\n",
    "\n",
    "This constant is true if Python was not started with an [`-O`](https://docs.python.org/3/using/cmdline.html#cmdoption-O) option. See also the [`assert`](https://docs.python.org/3/reference/simple_stmts.html#assert) statement.\n",
    "\n",
    "> **\\_\\_debug__**\n",
    "> 如果Python没有用 [`-O`](https://docs.python.org/3/using/cmdline.html#cmdoption-O) 选项启动，这个常数为真。也请参见 [`assert`](https://docs.python.org/3/reference/simple_stmts.html#assert) 语句。"
   ]
  },
  {
   "cell_type": "markdown",
   "id": "f9fd9f63-459a-4bce-8996-df768d6ec8b6",
   "metadata": {},
   "source": [
    "**Note:** The names [`None`](https://docs.python.org/3/library/constants.html#None), [`False`](https://docs.python.org/3/library/constants.html#False), [`True`](https://docs.python.org/3/library/constants.html#True) and [`__debug__`](https://docs.python.org/3/library/constants.html#debug__) cannot be reassigned (assignments to them, even as an attribute name, raise [`SyntaxError`](https://docs.python.org/3/library/exceptions.html#SyntaxError)), so they can be considered “true” constants.\n",
    "\n",
    "> **注意：**名称 [`None`](https://docs.python.org/3/library/constants.html#None), [`False`](https://docs.python.org/3/library/constants.html#False), [`True`](https://docs.python.org/3/library/constants.html#True)和[`__debug__` ](https://docs.python.org/3/library/constants.html#debug__)不能被重新赋值（对它们的赋值，即使作为属性名称，也会引发 [`SyntaxError`](https://docs.python.org/3/library/exceptions.html#SyntaxError)），所以它们可以被视为 \"true\" 常数。"
   ]
  },
  {
   "cell_type": "markdown",
   "id": "bf128338-6b86-4976-8018-a015060314e0",
   "metadata": {},
   "source": [
    "## Constants added by the [`site`](https://docs.python.org/3/library/site.html#module-site) module"
   ]
  },
  {
   "cell_type": "markdown",
   "id": "c72e6efa-e512-4d37-99dd-6cc7ed4ce224",
   "metadata": {},
   "source": [
    "The [`site`](https://docs.python.org/3/library/site.html#module-site) module (which is imported automatically during startup, except if the [`-S`](https://docs.python.org/3/using/cmdline.html#cmdoption-S) command-line option is given) adds several constants to the built-in namespace. They are useful for the interactive interpreter shell and should not be used in programs.\n",
    "\n",
    "> [`site`](https://docs.python.org/3/library/site.html#module-site) 模块（在启动时自动导入，除非给出 [`-S`](https://docs.python.org/3/using/cmdline.html#cmdoption-S) 命令行选项）为内置名称空间增加了几个常量。它们对交互式解释器shell很有用，不应该在程序中使用。"
   ]
  },
  {
   "cell_type": "markdown",
   "id": "d02e2e3e-9eb8-4f88-9c9b-134e8dd75096",
   "metadata": {},
   "source": [
    "`quit`(*code=None*)\n",
    "\n",
    "`exit`(*code=None*)\n",
    "\n",
    "Objects that when printed, print a message like “Use quit() or Ctrl-D (i.e. EOF) to exit”, and when called, raise [`SystemExit`](https://docs.python.org/3/library/exceptions.html#SystemExit) with the specified exit code.\n",
    "\n",
    "> `quit`(*code=None*)\n",
    ">\n",
    "> `exit`(*code=None*)\n",
    ">\n",
    "> 对象，当打印时，打印一个类似 \"使用quit()或Ctrl-D(即EOF)退出“ 的信息，当调用时，引发 [`SystemExit`](https://docs.python.org/3/library/exceptions.html#SystemExit)，并指定退出代码。"
   ]
  },
  {
   "cell_type": "markdown",
   "id": "349fe944-b044-4407-89d5-257aed2c5941",
   "metadata": {},
   "source": [
    "`copyright`\n",
    "`credits`\n",
    "\n",
    "Objects that when printed or called, print the text of copyright or credits, respectively.\n",
    "\n",
    "> `copyright`\n",
    "> `credits`\n",
    ">\n",
    "> 对象，当打印或调用时，分别打印版权或信用的文本。"
   ]
  },
  {
   "cell_type": "markdown",
   "id": "67aa9844-54b0-40ae-bd3e-70b99b2fb638",
   "metadata": {},
   "source": [
    "`license`\n",
    "\n",
    "Object that when printed, prints the message “Type license() to see the full license text”, and when called, displays the full license text in a pager-like fashion (one screen at a time).\n",
    "\n",
    "> `license`\n",
    ">\n",
    "> 对象，当打印时，打印出 \"键入license()以查看完整的许可证文本\" 的信息，当调用时，以类似寻呼机的方式显示完整的许可证文本（一次一屏）。"
   ]
  }
 ],
 "metadata": {
  "kernelspec": {
   "display_name": "Python 3 (ipykernel)",
   "language": "python",
   "name": "python3"
  },
  "language_info": {
   "codemirror_mode": {
    "name": "ipython",
    "version": 3
   },
   "file_extension": ".py",
   "mimetype": "text/x-python",
   "name": "python",
   "nbconvert_exporter": "python",
   "pygments_lexer": "ipython3",
   "version": "3.10.4"
  }
 },
 "nbformat": 4,
 "nbformat_minor": 5
}
