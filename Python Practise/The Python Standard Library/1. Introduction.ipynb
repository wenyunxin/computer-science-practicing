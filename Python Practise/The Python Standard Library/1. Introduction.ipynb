{
 "cells": [
  {
   "cell_type": "code",
   "execution_count": 1,
   "id": "0ac98780-3708-47a6-aafd-93821fd82e34",
   "metadata": {},
   "outputs": [],
   "source": [
    "from IPython.core.interactiveshell import InteractiveShell\n",
    "InteractiveShell.ast_node_interactivity = \"all\""
   ]
  },
  {
   "cell_type": "markdown",
   "id": "e56840fb-e530-4776-9fe4-3f23cf2228ec",
   "metadata": {},
   "source": [
    "While [The Python Language Reference](https://docs.python.org/3/reference/index.html#reference-index) describes the exact syntax and semantics of the Python language, this library reference manual describes the standard library that is distributed with Python. It also describes some of the optional components that are commonly included in Python distributions.\n",
    "\n",
    "Python’s standard library is very extensive, offering a wide range of facilities as indicated by the long table of contents listed below. The library contains built-in modules (written in C) that provide access to system functionality such as file I/O that would otherwise be inaccessible to Python programmers, as well as modules written in Python that provide standardized solutions for many problems that occur in everyday programming. Some of these modules are explicitly designed to encourage and enhance the portability of Python programs by abstracting away platform-specifics into platform-neutral APIs.\n",
    "\n",
    "The Python installers for the Windows platform usually include the entire standard library and often also include many additional components. For Unix-like operating systems Python is normally provided as a collection of packages, so it may be necessary to use the packaging tools provided with the operating system to obtain some or all of the optional components.\n",
    "\n",
    "In addition to the standard library, there is a growing collection of several thousand components (from individual programs and modules to packages and entire application development frameworks), available from the [Python Package Index](https://pypi.org/).\n",
    "\n",
    "> 虽然 [The Python Language Reference](https://docs.python.org/3/reference/index.html#reference-index) 描述了 Python 语言的确切语法和语义，但这个库参考手册描述了与 Python 一起发布的标准库。它还描述了一些通常包含在 Python 发行版中的可选组件。\n",
    ">\n",
    "> Python 的标准库非常广泛，提供了广泛的设施，正如下面列出的长长的目录所示。该库包含内置模块 (用 C 语言编写)，提供对系统功能的访问，如文件 I/O，否则 Python 程序员将无法访问这些功能，还有用 Python 编写的模块，为日常编程中出现的许多问题提供标准化的解决方案。其中一些模块被明确地设计为鼓励和提高 Python 程序的可移植性，将平台特定的东西抽象为平台中立的 API。\n",
    ">\n",
    "> Windows平台的Python安装程序通常包括整个标准库，并且通常还包括许多额外的组件。对于类似 Unix 的操作系统，Python 通常是作为一个包的集合提供的，所以可能需要使用操作系统提供的打包工具来获得一些或所有的可选组件。\n",
    ">\n",
    "> 除了标准库之外，还有一个不断增加的几千个组件的集合 (从单个程序和模块到包和整个应用开发框架)，可以从 [Python Package Index](https://pypi.org/) 中获得。"
   ]
  },
  {
   "cell_type": "markdown",
   "id": "16c3928a-d658-4628-bad9-62ba342afc98",
   "metadata": {},
   "source": [
    "The “Python library” contains several different kinds of components.\n",
    "\n",
    "It contains data types that would normally be considered part of the “core” of a language, such as numbers and lists. For these types, the Python language core defines the form of literals and places some constraints on their semantics, but does not fully define the semantics. (On the other hand, the language core does define syntactic properties like the spelling and priorities of operators.)\n",
    "\n",
    "The library also contains built-in functions and exceptions — objects that can be used by all Python code without the need of an [`import`](https://docs.python.org/3/reference/simple_stmts.html#import) statement. Some of these are defined by the core language, but many are not essential for the core semantics and are only described here.\n",
    "\n",
    "The bulk of the library, however, consists of a collection of modules. There are many ways to dissect this collection. Some modules are written in C and built in to the Python interpreter; others are written in Python and imported in source form. Some modules provide interfaces that are highly specific to Python, like printing a stack trace; some provide interfaces that are specific to particular operating systems, such as access to specific hardware; others provide interfaces that are specific to a particular application domain, like the World Wide Web. Some modules are available in all versions and ports of Python; others are only available when the underlying system supports or requires them; yet others are available only when a particular configuration option was chosen at the time when Python was compiled and installed.\n",
    "\n",
    "This manual is organized “from the inside out:” it first describes the built-in functions, data types and exceptions, and finally the modules, grouped in chapters of related modules.\n",
    "\n",
    "This means that if you start reading this manual from the start, and skip to the next chapter when you get bored, you will get a reasonable overview of the available modules and application areas that are supported by the Python library. Of course, you don’t *have* to read it like a novel — you can also browse the table of contents (in front of the manual), or look for a specific function, module or term in the index (in the back). And finally, if you enjoy learning about random subjects, you choose a random page number (see module [`random`](https://docs.python.org/3/library/random.html#module-random)) and read a section or two. Regardless of the order in which you read the sections of this manual, it helps to start with chapter [Built-in Functions](https://docs.python.org/3/library/functions.html#built-in-funcs), as the remainder of the manual assumes familiarity with this material.\n",
    "\n",
    "Let the show begin!\n",
    "\n",
    "> \"Python 库 \"包含几种不同的组件：\n",
    ">\n",
    "> 它包含了通常被认为是一种语言 \"核心\" 的一部分的数据**类型**，如数字和列表。对于这些类型，Python 语言核心定义了字词的形式，并对其语义进行了一些约束，但并没有完全定义语义。(另一方面，语言核心确实定义了句法属性，如运算符的拼写和优先级。)\n",
    ">\n",
    "> 该库还包含内置函数（built-in functions）和异常（exceptions）--所有 Python 代码都可以使用的对象，而不需要 [`import`](https://docs.python.org/3/reference/simple_stmts.html#import) 语句。其中一些是由核心语言定义的，但许多对核心语义来说并不重要，所以只在这里描述。\n",
    ">\n",
    "> 然而，库的**大部分**是由模块的集合组成的。有很多方法可以**剖析**这个集合。有些模块是用C语言编写的，并内置于Python解释器中；有些是用Python编写的，并以**源代码**形式导入。有些模块提供了高度特定于 Python 的**接口**，如打印堆栈**跟踪**；有些模块提供了特定于特定操作系统的接口，如访问特定**硬件**；有些模块提供了特定于特定应用**领域**的接口，如万维网（World Wide Web）。有些模块在 Python 的所有版本和端口中都可用；有些模块只有在底层系统支持或需要它们时才可用；还有些模块只有在编译和安装 Python 时选择了特定的配置选项时才可用。\n",
    ">\n",
    "> 本手册是 \"从里到外（from the inside out）\"组织的：它首先描述了内置函数、数据类型和异常，最后是模块，按相关模块的章节分组。\n",
    ">\n",
    "> 这意味着，如果你从一开始就阅读本手册，当你感到无聊时就跳到下一章，你就会对 Python 库所支持的可用模块和应用领域有一个合理的概述。当然，你不*必须*像读小说一样读它--你也可以浏览目录（在手册的前面），或者在索引（在后面）中寻找一个特定的函数、模块或术语。最后，如果你喜欢学习随机的主题（random subjects），你可以选择一个随机的页码（见模块 [`random`](https://docs.python.org/3/library/random.html#module-random)）并阅读一两节。无论你阅读本手册各章节的顺序如何，从[内置函数](https://docs.python.org/3/library/functions.html#built-in-funcs)一章开始阅读是有帮助的，因为本手册的其余部分都**假定**你对这些材料很**熟悉**。\n",
    ">\n",
    "> 让表演开始吧!"
   ]
  },
  {
   "cell_type": "markdown",
   "id": "72b98eb6-7901-42b1-b5a9-8b5dbee8364c",
   "metadata": {},
   "source": [
    "## Notes on availability"
   ]
  },
  {
   "cell_type": "markdown",
   "id": "7d52d7a1-8611-4cd4-909d-347b7cef5c89",
   "metadata": {},
   "source": [
    "- An “Availability: Unix” note means that this function is commonly found on Unix systems. It does not make any claims about its existence on a specific operating system.\n",
    "- If not separately noted, all functions that claim “Availability: Unix” are supported on macOS, which builds on a Unix core.\n",
    "\n",
    "> - 一个 \"Availability: Unix\"的注释意味着这个功能通常是基于Unix系统。它并没有对它在某个特定操作系统上的存在做出任何声明。\n",
    "> - 如果没有单独说明，所有声称 \"\"Availability: Unix \"的功能都在macOS上支持，因为macOS是建立在Unix核心之上的。"
   ]
  }
 ],
 "metadata": {
  "kernelspec": {
   "display_name": "Python 3 (ipykernel)",
   "language": "python",
   "name": "python3"
  },
  "language_info": {
   "codemirror_mode": {
    "name": "ipython",
    "version": 3
   },
   "file_extension": ".py",
   "mimetype": "text/x-python",
   "name": "python",
   "nbconvert_exporter": "python",
   "pygments_lexer": "ipython3",
   "version": "3.10.4"
  }
 },
 "nbformat": 4,
 "nbformat_minor": 5
}
