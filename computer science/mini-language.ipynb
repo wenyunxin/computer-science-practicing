{
 "cells": [
  {
   "cell_type": "code",
   "execution_count": 1,
   "id": "2e826be9-9aac-489b-a119-d6741c866394",
   "metadata": {},
   "outputs": [],
   "source": [
    "from IPython.core.interactiveshell import InteractiveShell\n",
    "InteractiveShell.ast_node_interactivity = \"all\""
   ]
  },
  {
   "cell_type": "markdown",
   "id": "d947208a-0a0d-4bf2-b88c-79af12962128",
   "metadata": {},
   "source": [
    "## Regular expressions"
   ]
  },
  {
   "cell_type": "markdown",
   "id": "55543704-d610-4091-8de2-5c5241fdd26c",
   "metadata": {},
   "source": [
    "**概念（what）**\n",
    "\n",
    "李笑来对regex的总结：\n",
    "\n",
    "规则表达式（Regular Expressions）是最强大且不可或缺的*文本处理工具*，它的用处就是在文本中*扫描/搜索*（Scan/Search）与某一规则（Pattern）匹配（Match）的所有实例，并且还可以按照规则*捕获*（Capture）其中的部分或者全部，对它们进行*替换*（Replace）。\n",
    "\n",
    "在自学的过程中，想尽一切办法把一切术语用简单直白的“人话”*重新表述*，是特别有效的促进进步的行为模式。"
   ]
  },
  {
   "cell_type": "markdown",
   "id": "473829a9-0f75-4864-b252-6fe5e5ae8ee6",
   "metadata": {},
   "source": [
    "数量操作符：`?`, `*`, `+`, `{n,m}`\n",
    "\n",
    "数量操作符是对它之前的原子进行操作的，换言之，数量操作符的操作元是操作符之前的原子。\n",
    "\n",
    "或操作符：`|`\n",
    "\n",
    "或操作符是所有操作符中优先级最低的\n",
    "\n",
    "难点：边界原子（boundary atom）\n",
    "\n",
    "重点：分组（groups）、捕获（capture）"
   ]
  },
  {
   "cell_type": "markdown",
   "id": "7c3130c6-87b4-4763-a3fa-7e9052b7b95d",
   "metadata": {},
   "source": [
    "**原理（why）**"
   ]
  },
  {
   "cell_type": "markdown",
   "id": "953882ad-505d-4bfb-bc4a-5d3b21f89a76",
   "metadata": {},
   "source": [
    "**应用（how）**\n",
    "\n",
    "应用过程中所犯的错误"
   ]
  },
  {
   "cell_type": "markdown",
   "id": "d17179f6-8e2a-42c9-9532-7132e88f4623",
   "metadata": {},
   "source": [
    "## Backus-Naur form"
   ]
  },
  {
   "attachments": {},
   "cell_type": "markdown",
   "id": "55657e57-2a5a-46a0-b835-818c59c76df1",
   "metadata": {},
   "source": [
    "from [Wikipedia](https://en.wikipedia.org/wiki/Backus%E2%80%93Naur_form): in computer science, Backus-Naur form or Backus normal form (BNF) is a *metasyntax* notation for *context-free* grammars, often used to describe the *syntax* of language used in computing, such as computer programming language, document formats, instruction sets and communication protocols. It is applied wherever exact descriptions of languages are needed: for instance, in official language specifications, in manuals, and in textbooks on programming language theory."
   ]
  },
  {
   "attachments": {},
   "cell_type": "markdown",
   "id": "f070e946-eac8-4ed8-a294-fef2eae9646c",
   "metadata": {},
   "source": [
    "Metesyntax concepts:\n",
    "\n",
    "*Element* of metasyntax\n",
    "\n",
    "- *Terminals*: a stand-alone syntactic structure. Terminals could be denoted by double quoting the name of the terminals. e.g. `\"else\"`, `\"if\"`, `\"then\"`, `\"while\"`\n",
    "- *Nonterminals*: a symbolic representation defining a set of allowable syntactic structures that is composed of a subset of elements. Nonterminals could be denoted by angle bracketing the name of the nonterminals. e.g. `<int>`, `<char>`, `<boolean>`\n",
    "- *Metasymbol*: a symbolic representation denoting syntactic information. e.g. `:=`, `|`, `{}`, `()`, `[]`, `*`\n",
    "\n",
    "*Methods* of phrase termination\n",
    "\n",
    "- Juxtaposition: e.g. `A B`\n",
    "- Alternation: e.g. `A|B`\n",
    "- Repetition: e.g. `{A B}`\n",
    "- Optional phrase: e.g. `[A B]`\n",
    "- Grouping: e.g. `(A|B)`"
   ]
  },
  {
   "attachments": {},
   "cell_type": "markdown",
   "id": "466e27fe-942f-48ec-a6bb-1cf4ccb65476",
   "metadata": {},
   "source": [
    "Backus-Naur form example:\n",
    "\n",
    " ```code\n",
    " <postal-address>::=<name-part><street-address><zip-part>\n",
    "\n",
    "​      <name-part>::=<personal-part><last-name><opt-suffix-part><EOL>| <personal-part><name-part>\n",
    "\n",
    "  <personal-part>::=<initial>\".\" | <first-name>\n",
    "\n",
    " <street-address>::=<house-num><street-name><opt-apt-num><EOL>\n",
    "\n",
    "​       <zip-part>::=<town-name>\",\" <state-code><ZIP-code><EOL>\n",
    "\n",
    "<opt-suffix-part>::=\"Sr.\" | \"Jr.\" | <roman-numeral>| \"\"\n",
    "    <opt-apt-num>::=<apt-num>| \"\"\n",
    "```"
   ]
  },
  {
   "cell_type": "markdown",
   "id": "d9b7fa99-4489-49f8-9753-d10356337121",
   "metadata": {},
   "source": [
    "## Big O notation"
   ]
  },
  {
   "cell_type": "markdown",
   "id": "036824b5-31f4-4503-a5d9-30a43687c4ca",
   "metadata": {},
   "source": [
    "- *O(1) - Constant Time*: Algorithms that always take the same amount of time, regardless of the input size. An example is accessing an element in an array by index.\n",
    "- *O(log n) - Logarithmic Time*: Algorithms that have a runtime proportional to the logarithm of the input size. Binary search is a classic example.\n",
    "- *O(n) - Linear Time*: Algorithms whose runtime grows linearly with input size. Linear search is a common example.\n",
    "- *O(n log n) - Linearithmic Time*: Often seen in efficient sorting algorithms like merge sort and quicksort.\n",
    "- *O(n^2) - Quadratic Time*: Algorithms with nested loops. Bubble sort is an example.\n",
    "- *O(2^n) - Exponential Time*: Algorithms where the runtime doubbles with each additional input. Certain recursive algorithms exhibit this behavior.\n",
    "\n",
    "Why it matters? Understanding Big O notation is *crucial* for:\n",
    "\n",
    "- Comparing the efficiency of algorithms.\n",
    "- Making informed decisions when choosing algorithms.\n",
    "- Estimating an algorithm's behavior as data scales.\n",
    "- Optimizing code for better performance.\n",
    "- Identifying bottlenecks and areas for improvement."
   ]
  },
  {
   "cell_type": "markdown",
   "id": "83fbaa1f-7105-4266-8ac3-f5db3ca63ca8",
   "metadata": {},
   "source": [
    "## Vim"
   ]
  },
  {
   "cell_type": "markdown",
   "id": "0c5e032f-8542-492d-ac28-1be2e13f763a",
   "metadata": {},
   "source": [
    "Haol写的《[简明Vim练级攻略](https://coolshell.cn/articles/5426.html)》"
   ]
  },
  {
   "cell_type": "markdown",
   "id": "0c896d45-2ea9-4fc3-a6d7-39ac80bdc954",
   "metadata": {},
   "source": [
    "## SQL"
   ]
  },
  {
   "cell_type": "markdown",
   "id": "c7a7dfac-7b35-42de-ab0f-78a7c22a3d93",
   "metadata": {},
   "source": [
    "## Git"
   ]
  },
  {
   "cell_type": "markdown",
   "id": "ff5a0c74-1dd7-4ed5-a209-d6f437da7a47",
   "metadata": {},
   "source": [
    "## Character set"
   ]
  },
  {
   "cell_type": "markdown",
   "id": "4e9656a7-a18f-4b73-b6bd-05b4fbda8c6d",
   "metadata": {},
   "source": [
    "## File systems of Unix-like"
   ]
  }
 ],
 "metadata": {
  "kernelspec": {
   "display_name": "Python 3 (ipykernel)",
   "language": "python",
   "name": "python3"
  },
  "language_info": {
   "codemirror_mode": {
    "name": "ipython",
    "version": 3
   },
   "file_extension": ".py",
   "mimetype": "text/x-python",
   "name": "python",
   "nbconvert_exporter": "python",
   "pygments_lexer": "ipython3",
   "version": "3.11.3"
  }
 },
 "nbformat": 4,
 "nbformat_minor": 5
}
