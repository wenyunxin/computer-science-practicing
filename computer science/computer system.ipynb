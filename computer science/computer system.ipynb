{
 "cells": [
  {
   "cell_type": "code",
   "execution_count": 1,
   "id": "2ad9e540-503e-4411-8da5-f776073d5f5f",
   "metadata": {},
   "outputs": [],
   "source": [
    "from IPython.core.interactiveshell import InteractiveShell\n",
    "InteractiveShell.ast_node_interactivity = \"all\" "
   ]
  },
  {
   "cell_type": "markdown",
   "id": "849958f3-fd66-4e55-8489-f3b5ec51b4b4",
   "metadata": {},
   "source": [
    "## Chapter 1 A tour of computer systems"
   ]
  },
  {
   "cell_type": "markdown",
   "id": "03674de4-4b99-4636-b9b7-6ee0065e8c6c",
   "metadata": {},
   "source": [
    "## Information is bits + context"
   ]
  },
  {
   "cell_type": "markdown",
   "id": "654f2bac-06a3-46a3-b8a3-59c922cdf07e",
   "metadata": {},
   "source": []
  }
 ],
 "metadata": {
  "kernelspec": {
   "display_name": "Python 3 (ipykernel)",
   "language": "python",
   "name": "python3"
  },
  "language_info": {
   "codemirror_mode": {
    "name": "ipython",
    "version": 3
   },
   "file_extension": ".py",
   "mimetype": "text/x-python",
   "name": "python",
   "nbconvert_exporter": "python",
   "pygments_lexer": "ipython3",
   "version": "3.11.3"
  }
 },
 "nbformat": 4,
 "nbformat_minor": 5
}
