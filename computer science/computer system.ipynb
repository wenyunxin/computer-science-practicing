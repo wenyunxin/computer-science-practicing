{
 "cells": [
  {
   "cell_type": "code",
   "execution_count": 3,
   "id": "2ad9e540-503e-4411-8da5-f776073d5f5f",
   "metadata": {},
   "outputs": [],
   "source": [
    "from IPython.core.interactiveshell import InteractiveShell\n",
    "InteractiveShell.ast_node_interactivity = \"all\""
   ]
  },
  {
   "cell_type": "markdown",
   "id": "849958f3-fd66-4e55-8489-f3b5ec51b4b4",
   "metadata": {},
   "source": [
    "## Chapter 1 A tour of computer systems"
   ]
  },
  {
   "cell_type": "markdown",
   "id": "654f2bac-06a3-46a3-b8a3-59c922cdf07e",
   "metadata": {},
   "source": [
    "byte--integer value--character. Files that consist exclusively of ASCII characters are known as *text files*. All other files are known as *binary files*.\n",
    "\n",
    "In different contexts, the same sequence of bytes might represent an integer, floating-point number, character string, or machine instruction."
   ]
  },
  {
   "cell_type": "markdown",
   "id": "6ded5a13-8630-48eb-aa46-f5b76e7f98ae",
   "metadata": {},
   "source": [
    "High-level C program can be read and understood by human beings in that form. in order to run C files on the system, the individual C statements must be translated by other programs into a sequence of low-level *machine-language* instructions. These instructions are then packaged in a form called an *executable object program* and stored as a binary disk file. Object programs are also referred to as *executable object files*. "
   ]
  },
  {
   "cell_type": "markdown",
   "id": "d42c9b18-f110-41df-b256-acf7e79a7473",
   "metadata": {},
   "source": [
    "On a Unix system, the translation from source file to object file is performed by a *compiler driver*.\n",
    "\n",
    "For example, the GCC compiler driver reads the source file `hello.c` and translates into an executable object file `hello`. The programs that perform the four phases:\n",
    "- *preprocessor*\n",
    "- *compiler*\n",
    "- *assembler*\n",
    "- *linker*\n",
    "\n",
    "these are known collectively as the *compilation system*."
   ]
  },
  {
   "cell_type": "markdown",
   "id": "b7d65887-3562-4eec-87cd-d31a76dbec26",
   "metadata": {},
   "source": [
    "It pays to understand how compilation systems work\n",
    "- **Optimizing program performance**. We do need a basic understanding of machine-level code and how the compiler translates different C statements into machine code.\n",
    "- **Understand link-time errors**. Why do some linker-ralated errors not appear until run time?\n",
    "- **Avoiding security holes**. For many years, *buffer overflow vulnerabilities* have accounted for many of the security holes in network and Internet servers."
   ]
  },
  {
   "cell_type": "markdown",
   "id": "fe28eb00-da84-420d-850d-963d25b53d46",
   "metadata": {},
   "source": [
    "Processors read and interpret instructions stored in memory"
   ]
  },
  {
   "cell_type": "markdown",
   "id": "eaa2af54-0da8-4c0e-aa93-ecde2460266c",
   "metadata": {},
   "source": [
    "The operating system manages the hardware\n",
    "\n",
    "All attempts by an application program to manipulate the hardware must go through the operating system. The operating system has two primary purpose:\n",
    "- to protect the hardware from misuse by runaway applications\n",
    "- to provide applications with simple and uniform mechanisms for manipulating complicated and often wildly different low-level hardware devices.\n",
    "\n",
    "Abstraction provided by an operating system\n",
    "- **files** are abstractions for I/O devices\n",
    "- **virtual memory** is an abstraction for both the main memory and disk I/O devices\n",
    "- **processes** are abstractions for the processor, main memory and I/O devices"
   ]
  },
  {
   "cell_type": "markdown",
   "id": "f315b08a-687c-4d82-8e8f-c36119ca8a57",
   "metadata": {},
   "source": [
    "A *process* is the operating system's abstraction for a running program. Multiple processes can run concurrently on the same system.\n",
    "\n",
    "The transition from one process to another is managed by the operating system *kernel*. The kernel is the portion of the operating system code that is always resident in memory. When an application program requires some action by the operating system, such as to read or write a file, it executes a special *system call* instruction, transferring control to the kernel. The kernel then performs the requested operation and returns back to the application program. Note that the kernel is not a separate process. Instead, it is a collection of code and data structures that the system uses to manage all the processes."
   ]
  },
  {
   "cell_type": "markdown",
   "id": "643d8258-44c7-44a2-b669-d30776fbd91b",
   "metadata": {},
   "source": [
    "In modern systems a process can actually consist of multiple execution units, called *threads*, each running in the context of the process and sharing the same code and global data."
   ]
  },
  {
   "cell_type": "markdown",
   "id": "ce7d96d0-96a5-41d0-93ba-7576833ecf26",
   "metadata": {},
   "source": [
    "*Virtual memory* is an abstraction that provides each process with the illusion that it has exclusive use of the main memory. Each process has the same uniform view of memory, which is known as its *virtual address space*.\n",
    "\n",
    "The virtual address space seen by each process consists of a number of well-defined areas, each with a specific purpose.\n",
    "- **Program code and data**.\n",
    "- **heap**.\n",
    "- **Shared libraries**.\n",
    "- **Stack**.\n",
    "- **Kernel virtual memory**."
   ]
  },
  {
   "cell_type": "markdown",
   "id": "c2c0324c-9bcd-4b15-bb58-c38564875580",
   "metadata": {},
   "source": [
    "A *file* is a sequence of bytes. Every I/O device, including disks, keyboards, displays, and even networks, is modeled as a file. All input and output in the system is performed by reading and writing files, using a small set of system calls known as *Unix I/O*."
   ]
  },
  {
   "cell_type": "markdown",
   "id": "f8cca9b5-fe5b-4a84-b9f9-1e01f14b9a6c",
   "metadata": {},
   "source": [
    "Important Themes: A system is more than just hardware, it is a collection of intertwined hardware and systems software that must cooperate in order to achieve the ultimate goal of running application programs.\n",
    "\n",
    "*Amdahl's Law*: When we speed up one part of a system, the effect on the overall system performance depends on both how significant this part was and how much it speed up."
   ]
  },
  {
   "cell_type": "markdown",
   "id": "e38c9312-c9c7-48b5-855a-7ce298973e32",
   "metadata": {},
   "source": [
    "## Part 1  program structure and execution"
   ]
  },
  {
   "cell_type": "markdown",
   "id": "971d5a46-d0cc-4762-9b2d-fef780b9c9cc",
   "metadata": {},
   "source": [
    "### Chapter 2 Representing and manipulating information"
   ]
  },
  {
   "cell_type": "markdown",
   "id": "904aa095-cd34-48cb-a5ef-b28ca95fd74b",
   "metadata": {},
   "source": [
    "Modern computers store and process information represented as *two-valued signals*. When we group bits together and apply some *interpretation* that gives meaning to the different possible bit patterns, however, we can represent the *elements of any finite set*."
   ]
  },
  {
   "cell_type": "markdown",
   "id": "e7141b12-f223-4dbb-9c1b-0dd40f14d4d5",
   "metadata": {},
   "source": [
    "#### Information storage"
   ]
  },
  {
   "cell_type": "markdown",
   "id": "b6de6485-44ee-4bed-959b-0aa69440db3d",
   "metadata": {},
   "source": [
    "Most computers use blocks of bits, or *bytes*, as the smallest addressable unit of memory. A single byte consists of *8 bits*. We write bit patterns as base-16, or *hexadecimal* numbers.\n",
    "In *binary notation*, the *value of a single byte* ranges from `00000000` to `11111111`; as in *decimal notation*, ranges from `0` to `255`; as in *hexadecimal notation*, ranges from `00` to `FF`. "
   ]
  },
  {
   "cell_type": "code",
   "execution_count": 4,
   "id": "9ae08d2f-67f0-4e2d-b1a8-fff70e146bd3",
   "metadata": {},
   "outputs": [
    {
     "data": {
      "text/plain": [
       "'0b11100110100111111110001011'"
      ]
     },
     "execution_count": 4,
     "metadata": {},
     "output_type": "execute_result"
    },
    {
     "data": {
      "text/plain": [
       "'0xc97b'"
      ]
     },
     "execution_count": 4,
     "metadata": {},
     "output_type": "execute_result"
    },
    {
     "data": {
      "text/plain": [
       "'0b11010101111001001100'"
      ]
     },
     "execution_count": 4,
     "metadata": {},
     "output_type": "execute_result"
    },
    {
     "data": {
      "text/plain": [
       "'0x26e7b5'"
      ]
     },
     "execution_count": 4,
     "metadata": {},
     "output_type": "execute_result"
    }
   ],
   "source": [
    "# number conversions\n",
    "a = 0x39A7F8b\n",
    "bin(a)\n",
    "\n",
    "b = 0b1100100101111011\n",
    "hex(b)\n",
    "\n",
    "c = 0xD5E4C\n",
    "bin(c)\n",
    "\n",
    "d = 0b1001101110011110110101\n",
    "hex(d)"
   ]
  },
  {
   "cell_type": "markdown",
   "id": "6e8e2fa6-4209-494b-8c15-5f8935152094",
   "metadata": {},
   "source": [
    "Every computer has a *word size*, indicating the nominal size of pointer data."
   ]
  },
  {
   "cell_type": "markdown",
   "id": "3f563ab2-f701-4e61-94ca-2401d7e2fd5f",
   "metadata": {},
   "source": [
    "*two's complement*: "
   ]
  }
 ],
 "metadata": {
  "kernelspec": {
   "display_name": "Python 3 (ipykernel)",
   "language": "python",
   "name": "python3"
  },
  "language_info": {
   "codemirror_mode": {
    "name": "ipython",
    "version": 3
   },
   "file_extension": ".py",
   "mimetype": "text/x-python",
   "name": "python",
   "nbconvert_exporter": "python",
   "pygments_lexer": "ipython3",
   "version": "3.11.3"
  }
 },
 "nbformat": 4,
 "nbformat_minor": 5
}
