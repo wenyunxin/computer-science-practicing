{
 "cells": [
  {
   "cell_type": "code",
   "execution_count": 1,
   "id": "2ad9e540-503e-4411-8da5-f776073d5f5f",
   "metadata": {},
   "outputs": [],
   "source": [
    "from IPython.core.interactiveshell import InteractiveShell\n",
    "InteractiveShell.ast_node_interactivity = \"all\""
   ]
  },
  {
   "cell_type": "markdown",
   "id": "849958f3-fd66-4e55-8489-f3b5ec51b4b4",
   "metadata": {},
   "source": [
    "## Chapter 1 A tour of computer systems"
   ]
  },
  {
   "cell_type": "markdown",
   "id": "654f2bac-06a3-46a3-b8a3-59c922cdf07e",
   "metadata": {},
   "source": [
    "byte--integer value--character. Files that consist exclusively of ASCII characters are known as *text files*. All other files are known as *binary files*.\n",
    "\n",
    "In different contexts, the same sequence of bytes might represent an integer, floating-point number, character string, or machine instruction."
   ]
  },
  {
   "cell_type": "markdown",
   "id": "6ded5a13-8630-48eb-aa46-f5b76e7f98ae",
   "metadata": {},
   "source": [
    "High-level C program can be read and understood by human beings in that form. in order to run C files on the system, the individual C statements must be translated by other programs into a sequence of low-level *machine-language* instructions. These instructions are then packaged in a form called an *executable object program* and stored as a binary disk file. Object programs are also referred to as *executable object files*. "
   ]
  },
  {
   "cell_type": "markdown",
   "id": "d42c9b18-f110-41df-b256-acf7e79a7473",
   "metadata": {},
   "source": [
    "On a Unix system, the translation from source file to object file is performed by a *compiler driver*.\n",
    "\n",
    "For example, the GCC compiler driver reads the source file `hello.c` and translates into an executable object file `hello`. The programs that perform the four phases:\n",
    "- *preprocessor*\n",
    "- *compiler*\n",
    "- *assembler*\n",
    "- *linker*\n",
    "\n",
    "these are known collectively as the *compilation system*."
   ]
  },
  {
   "cell_type": "markdown",
   "id": "b7d65887-3562-4eec-87cd-d31a76dbec26",
   "metadata": {},
   "source": [
    "It pays to understand how compilation systems work\n",
    "- **Optimizing program performance**. We do need a basic understanding of machine-level code and how the compiler translates different C statements into machine code.\n",
    "- **Understand link-time errors**. Why do some linker-ralated errors not appear until run time?\n",
    "- **Avoiding security holes**. For many years, *buffer overflow vulnerabilities* have accounted for many of the security holes in network and Internet servers."
   ]
  },
  {
   "cell_type": "markdown",
   "id": "fe28eb00-da84-420d-850d-963d25b53d46",
   "metadata": {},
   "source": [
    "Processors read and interpret instructions stored in memory"
   ]
  },
  {
   "cell_type": "markdown",
   "id": "eaa2af54-0da8-4c0e-aa93-ecde2460266c",
   "metadata": {},
   "source": []
  }
 ],
 "metadata": {
  "kernelspec": {
   "display_name": "Python 3 (ipykernel)",
   "language": "python",
   "name": "python3"
  },
  "language_info": {
   "codemirror_mode": {
    "name": "ipython",
    "version": 3
   },
   "file_extension": ".py",
   "mimetype": "text/x-python",
   "name": "python",
   "nbconvert_exporter": "python",
   "pygments_lexer": "ipython3",
   "version": "3.11.3"
  }
 },
 "nbformat": 4,
 "nbformat_minor": 5
}
