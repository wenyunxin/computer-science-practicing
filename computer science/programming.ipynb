{
 "cells": [
  {
   "cell_type": "code",
   "execution_count": 17,
   "id": "66eb7681-ae39-4a9f-a03e-1190376c11c0",
   "metadata": {},
   "outputs": [],
   "source": [
    "from IPython.core.interactiveshell import InteractiveShell\n",
    "InteractiveShell.ast_node_interactivity = \"all\""
   ]
  },
  {
   "cell_type": "markdown",
   "id": "1723caef-9911-483f-a294-1bc8c2d0f5e8",
   "metadata": {},
   "source": [
    "Studing the book *Structure and Interpretation of Computer Programs*. This studing belonging to the subject *[teach yourself computer science](https://teachyourselfcs.com/)*.\n",
    "\n",
    "This studing is the first topic of *[teach yourself computer science](https://teachyourselfcs.com/)*. The topic is **Programming**: Don’t be the person who “never quite understood” something like recursion."
   ]
  },
  {
   "attachments": {},
   "cell_type": "markdown",
   "id": "81c5217c-0839-4fc0-bf21-5036b8ec5ec3",
   "metadata": {},
   "source": [
    "Three attributes of programs: adequacy, consistency, correctness.\n",
    "\n",
    "idioms: We develop an arsenal of standard program structures of whose correctness we have become sure."
   ]
  },
  {
   "cell_type": "markdown",
   "id": "d27df5cd-6b82-4e80-9984-49dca647ffda",
   "metadata": {},
   "source": [
    "## Chapter 1 Building abstractions with procedures"
   ]
  },
  {
   "cell_type": "markdown",
   "id": "2a780643-89ab-405d-adc9-d437ef0d03d2",
   "metadata": {},
   "source": [
    "### The elements of programming"
   ]
  },
  {
   "cell_type": "markdown",
   "id": "2abe9d1d-2052-444c-876c-459aab87f11f",
   "metadata": {},
   "source": [
    "Study the idea of a computational process.\n",
    "\n",
    "Every powerful language has three *mechanisms* for accomplish combining simple ideas to form more complex ideas.\n",
    "\t- **primitive expressions**, which represent the simplest entities the language is concerned with,\n",
    "\t- **means of combination**, by which compound elements are built from simpler ones, and\n",
    "\t- **means of abstraction**, by which compound elements can be named and manipulated as units.\n",
    "\n",
    "In programming, we deal with two kinds of elements:\n",
    "\t- **procedures**\n",
    "\t- **data**\n",
    "\n",
    "expressions:\n",
    "\n",
    "One kind of primitive expression is a number:"
   ]
  },
  {
   "cell_type": "code",
   "execution_count": 18,
   "id": "f3357da7-3dd4-41e0-91c6-b8e123bc32c4",
   "metadata": {},
   "outputs": [
    {
     "data": {
      "text/plain": [
       "486"
      ]
     },
     "execution_count": 18,
     "metadata": {},
     "output_type": "execute_result"
    }
   ],
   "source": [
    "486"
   ]
  },
  {
   "cell_type": "code",
   "execution_count": 19,
   "id": "f549aaca-3e7b-4358-b16e-74831299ddaa",
   "metadata": {},
   "outputs": [
    {
     "data": {
      "text/plain": [
       "486"
      ]
     },
     "execution_count": 19,
     "metadata": {},
     "output_type": "execute_result"
    },
    {
     "data": {
      "text/plain": [
       "666"
      ]
     },
     "execution_count": 19,
     "metadata": {},
     "output_type": "execute_result"
    },
    {
     "data": {
      "text/plain": [
       "495"
      ]
     },
     "execution_count": 19,
     "metadata": {},
     "output_type": "execute_result"
    },
    {
     "data": {
      "text/plain": [
       "5.0"
      ]
     },
     "execution_count": 19,
     "metadata": {},
     "output_type": "execute_result"
    },
    {
     "data": {
      "text/plain": [
       "12.7"
      ]
     },
     "execution_count": 19,
     "metadata": {},
     "output_type": "execute_result"
    }
   ],
   "source": [
    "# form a compound expression that represents the application of the procedure to those numbers\n",
    "137 + 349\n",
    "1000 - 334\n",
    "\n",
    "5 * 99\n",
    "10 / 2\n",
    "\n",
    "(2.7 + 10)"
   ]
  },
  {
   "cell_type": "markdown",
   "id": "c69966a1-0daf-474d-8a85-956bc0baa9c9",
   "metadata": {},
   "source": [
    "Naming and the Environment"
   ]
  },
  {
   "cell_type": "code",
   "execution_count": 20,
   "id": "c5f843a9-5d58-4c6e-8639-9029bb468871",
   "metadata": {},
   "outputs": [
    {
     "data": {
      "text/plain": [
       "2"
      ]
     },
     "execution_count": 20,
     "metadata": {},
     "output_type": "execute_result"
    },
    {
     "data": {
      "text/plain": [
       "10"
      ]
     },
     "execution_count": 20,
     "metadata": {},
     "output_type": "execute_result"
    },
    {
     "data": {
      "text/plain": [
       "62.800000000000004"
      ]
     },
     "execution_count": 20,
     "metadata": {},
     "output_type": "execute_result"
    }
   ],
   "source": [
    "# define is the simplest means of abstraction\n",
    "a = 2\n",
    "a\n",
    "\n",
    "5 * a\n",
    "\n",
    "pi = 3.14\n",
    "radius = 10\n",
    "\n",
    "circum = (pi * 2 * radius)\n",
    "circum"
   ]
  },
  {
   "cell_type": "code",
   "execution_count": 21,
   "id": "b72a81c6-85ae-414e-bcad-c5ef53a73686",
   "metadata": {},
   "outputs": [
    {
     "data": {
      "text/plain": [
       "390"
      ]
     },
     "execution_count": 21,
     "metadata": {},
     "output_type": "execute_result"
    }
   ],
   "source": [
    "# recursion in nested combination\n",
    "(2 + (4 * 6)) * (3 + 5 + 7)"
   ]
  },
  {
   "cell_type": "markdown",
   "id": "a9335741-b10d-4b83-8ec9-d5e6b588cdd2",
   "metadata": {},
   "source": [
    "The purpose of the *define* is precisely to associate variable with a value. For example `a = 3`.\n",
    "\n",
    "THe various kinds of *expressions* (each with its associated evaluation rule) constitute the *syntax* of the programming language.\n",
    "\n",
    "Some of the elements that must appear in any powerful programming language:\n",
    "- Numbers and arithmetic operations are primitive data and procedures.\n",
    "- Nesting of combinations provides a means of combining operations.\n",
    "- Definitions that associate names with values provide a limited meands of abstraction."
   ]
  },
  {
   "cell_type": "markdown",
   "id": "1753630e-703f-47d9-89a6-28672d3bc262",
   "metadata": {},
   "source": [
    "*Procedure define* is a much more powerful absraction technique by which compound operation can be given a name and then referred to as a unit."
   ]
  },
  {
   "cell_type": "code",
   "execution_count": 22,
   "id": "e1f36d93-df7e-488c-95c5-bbf1ad224f1f",
   "metadata": {},
   "outputs": [
    {
     "name": "stdout",
     "output_type": "stream",
     "text": [
      "4\n",
      "49\n",
      "81\n"
     ]
    }
   ],
   "source": [
    "# procedure definitions\n",
    "def square(x):\n",
    "    return x * x\n",
    "\n",
    "print(square(2))\n",
    "print(square(2 + 5))\n",
    "print(square(square(3)))"
   ]
  },
  {
   "cell_type": "code",
   "execution_count": 23,
   "id": "7c8e9c3e-5b9c-43a6-a9a7-f34e9240686f",
   "metadata": {},
   "outputs": [
    {
     "data": {
      "text/plain": [
       "25"
      ]
     },
     "execution_count": 23,
     "metadata": {},
     "output_type": "execute_result"
    }
   ],
   "source": [
    "# use the define square as a building block in defining other procedures\n",
    "def sum_of_squares(x, y):\n",
    "    return square(x) + square(y)\n",
    "\n",
    "sum_of_squares(3, 4)"
   ]
  },
  {
   "cell_type": "code",
   "execution_count": 24,
   "id": "31bddba5-e39a-44dd-8c05-cd6513fb89dd",
   "metadata": {},
   "outputs": [
    {
     "data": {
      "text/plain": [
       "136"
      ]
     },
     "execution_count": 24,
     "metadata": {},
     "output_type": "execute_result"
    }
   ],
   "source": [
    "# use the sum_of_squares as a building block in constructing further procedures\n",
    "def f(a):\n",
    "    return sum_of_squares((a + 1), (a * 2))\n",
    "\n",
    "f(5)"
   ]
  },
  {
   "cell_type": "markdown",
   "id": "0b1ca886-a5c8-4a55-8ad3-69570b7e6181",
   "metadata": {},
   "source": [
    "*substitution model* for procedure application:\n",
    "- the purpose of the substition is to help us think about procedure application; in practice, the \"substitute\" is accomplished by using a local environment for the formal parameters\n",
    "- the substition model is only the first of implementation of an interpreter and compiler models"
   ]
  },
  {
   "cell_type": "code",
   "execution_count": 25,
   "id": "04c7aa52-3776-4962-a424-f33d523b8b56",
   "metadata": {},
   "outputs": [
    {
     "data": {
      "text/plain": [
       "3"
      ]
     },
     "execution_count": 25,
     "metadata": {},
     "output_type": "execute_result"
    }
   ],
   "source": [
    "# condition expression\n",
    "def absolute(x):\n",
    "    if x > 0:    # this is a predicate which an expression whose value is interpreted as either true or false?\n",
    "        return x\n",
    "    elif x == 0:\n",
    "        return 0\n",
    "    else:\n",
    "        return -x\n",
    "\n",
    "absolute(-3)"
   ]
  },
  {
   "cell_type": "code",
   "execution_count": 26,
   "id": "0002744d-02ad-40a0-ab2e-f9dc6e405cfb",
   "metadata": {},
   "outputs": [
    {
     "data": {
      "text/plain": [
       "10"
      ]
     },
     "execution_count": 26,
     "metadata": {},
     "output_type": "execute_result"
    },
    {
     "data": {
      "text/plain": [
       "12"
      ]
     },
     "execution_count": 26,
     "metadata": {},
     "output_type": "execute_result"
    },
    {
     "data": {
      "text/plain": [
       "8"
      ]
     },
     "execution_count": 26,
     "metadata": {},
     "output_type": "execute_result"
    },
    {
     "data": {
      "text/plain": [
       "3.0"
      ]
     },
     "execution_count": 26,
     "metadata": {},
     "output_type": "execute_result"
    },
    {
     "data": {
      "text/plain": [
       "6"
      ]
     },
     "execution_count": 26,
     "metadata": {},
     "output_type": "execute_result"
    },
    {
     "data": {
      "text/plain": [
       "19"
      ]
     },
     "execution_count": 26,
     "metadata": {},
     "output_type": "execute_result"
    },
    {
     "data": {
      "text/plain": [
       "False"
      ]
     },
     "execution_count": 26,
     "metadata": {},
     "output_type": "execute_result"
    },
    {
     "name": "stdout",
     "output_type": "stream",
     "text": [
      "4\n",
      "16\n",
      "6\n",
      "16\n"
     ]
    }
   ],
   "source": [
    "# exercise\n",
    "10\n",
    "5 + 3 + 4\n",
    "9 - 1\n",
    "6 / 2\n",
    "2 * 4 + (4 - 6)\n",
    "\n",
    "def a():\n",
    "    return 3\n",
    "\n",
    "def b():\n",
    "    return a() + 1\n",
    "\n",
    "a() + b() + a() * b()\n",
    "a() == b()\n",
    "\n",
    "if b() > a() and b() < (a() * b()):\n",
    "    print(b())\n",
    "else:\n",
    "    print(a())\n",
    "\n",
    "if a() == 4:\n",
    "    print(6)\n",
    "elif b() == 4:\n",
    "    print(6 + 7 + a())\n",
    "else:\n",
    "    print(25)\n",
    "\n",
    "if b() > a():\n",
    "    print(2 + b())\n",
    "else:\n",
    "    print(2 + a())\n",
    "\n",
    "if a() > b():\n",
    "    print(a() * (a() + 1))\n",
    "elif a() < b():\n",
    "    print(b() * (a() + 1))\n",
    "else:\n",
    "    print(-1 * (a() + 1))"
   ]
  },
  {
   "cell_type": "raw",
   "id": "7c8081b0-fc38-41fe-be22-acdafcd17392",
   "metadata": {},
   "source": [
    "# prefix form\n",
    "(/ (+ 5 4 (- 2 (- 3 (+ 6 / 4/5)))) (* 3 (- 6 2) (- 2 7)))"
   ]
  },
  {
   "cell_type": "code",
   "execution_count": 27,
   "id": "e9e213db-028f-4172-ba7c-74793bf5fdea",
   "metadata": {},
   "outputs": [
    {
     "name": "stdout",
     "output_type": "stream",
     "text": [
      "41\n"
     ]
    }
   ],
   "source": [
    "# a procedure\n",
    "def sum_large_square(num, num1, num2):\n",
    "    # find the two large numbers\n",
    "    largest = max(num, num1, num2)\n",
    "    if num == largest:\n",
    "        second_largest = max(num1, num2)\n",
    "    elif num1 == largest:\n",
    "        second_largest = max(num, num2)\n",
    "    else:\n",
    "        second_largest = max(num, num1)\n",
    "\n",
    "    # caculate the sum of their squares\n",
    "    return largest**2 + second_largest**2\n",
    "\n",
    "print(sum_large_square(3, 4, 5))"
   ]
  },
  {
   "cell_type": "code",
   "execution_count": 28,
   "id": "b9ba73ec-db68-4b4b-80ff-281ce4323eb0",
   "metadata": {},
   "outputs": [
    {
     "data": {
      "text/plain": [
       "7"
      ]
     },
     "execution_count": 28,
     "metadata": {},
     "output_type": "execute_result"
    },
    {
     "data": {
      "text/plain": [
       "7"
      ]
     },
     "execution_count": 28,
     "metadata": {},
     "output_type": "execute_result"
    }
   ],
   "source": [
    "def a_plus_abs_b(a, b):\n",
    "    if b > 0:\n",
    "        return a + b\n",
    "    else:\n",
    "        return a - b\n",
    "\n",
    "a_plus_abs_b(3, 4)\n",
    "a_plus_abs_b(3, -4)"
   ]
  },
  {
   "cell_type": "code",
   "execution_count": 29,
   "id": "e15132b3-87fb-43cc-a978-cee89f5cb45c",
   "metadata": {},
   "outputs": [
    {
     "data": {
      "text/plain": [
       "3"
      ]
     },
     "execution_count": 29,
     "metadata": {},
     "output_type": "execute_result"
    }
   ],
   "source": [
    "def test(x, y):\n",
    "    if x == 0:\n",
    "        return 0\n",
    "    else:\n",
    "        return y\n",
    "\n",
    "test(1, 3)"
   ]
  },
  {
   "cell_type": "code",
   "execution_count": 30,
   "id": "4e33e6fc-929d-4d5f-93b0-a711c9b24b9e",
   "metadata": {},
   "outputs": [
    {
     "name": "stdout",
     "output_type": "stream",
     "text": [
      "Help on built-in function sqrt in module math:\n",
      "\n",
      "sqrt(x, /)\n",
      "    Return the square root of x.\n",
      "\n"
     ]
    },
    {
     "data": {
      "text/plain": [
       "1.4142135623730951"
      ]
     },
     "execution_count": 30,
     "metadata": {},
     "output_type": "execute_result"
    }
   ],
   "source": [
    "import math\n",
    "\n",
    "help(math.sqrt)\n",
    "\n",
    "math.sqrt(2)"
   ]
  },
  {
   "cell_type": "code",
   "execution_count": 31,
   "id": "38dcb7f3-9ffb-4c57-b379-438f1b30ba2f",
   "metadata": {},
   "outputs": [
    {
     "data": {
      "text/plain": [
       "4"
      ]
     },
     "execution_count": 31,
     "metadata": {},
     "output_type": "execute_result"
    }
   ],
   "source": [
    "# square function\n",
    "def square(num):\n",
    "    return num * num\n",
    "\n",
    "square(2)"
   ]
  },
  {
   "cell_type": "markdown",
   "id": "016411fd-4c9b-4717-a2c5-3c27ec5010b9",
   "metadata": {},
   "source": [
    "In a procedure definition, the bound variables declared as the formal parameters of the procedure have the *body of the procedure* as their *scope*."
   ]
  },
  {
   "cell_type": "markdown",
   "id": "70d54438-f0b8-4342-b41a-c43c16d1424e",
   "metadata": {},
   "source": [
    "### Procedures and the processes they generate"
   ]
  }
 ],
 "metadata": {
  "kernelspec": {
   "display_name": "Python 3 (ipykernel)",
   "language": "python",
   "name": "python3"
  },
  "language_info": {
   "codemirror_mode": {
    "name": "ipython",
    "version": 3
   },
   "file_extension": ".py",
   "mimetype": "text/x-python",
   "name": "python",
   "nbconvert_exporter": "python",
   "pygments_lexer": "ipython3",
   "version": "3.11.3"
  }
 },
 "nbformat": 4,
 "nbformat_minor": 5
}
