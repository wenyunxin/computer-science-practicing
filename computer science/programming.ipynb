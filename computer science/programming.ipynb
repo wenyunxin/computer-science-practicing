{
 "cells": [
  {
   "cell_type": "code",
   "execution_count": 51,
   "id": "66eb7681-ae39-4a9f-a03e-1190376c11c0",
   "metadata": {},
   "outputs": [
    {
     "ename": "SyntaxError",
     "evalue": "invalid non-printable character U+00A0 (3147035372.py, line 1)",
     "output_type": "error",
     "traceback": [
      "\u001b[0;36m  Cell \u001b[0;32mIn[51], line 1\u001b[0;36m\u001b[0m\n\u001b[0;31m    from IPython.core.interactiveshell import InteractiveShell\u001b[0m\n\u001b[0m                                                              ^\u001b[0m\n\u001b[0;31mSyntaxError\u001b[0m\u001b[0;31m:\u001b[0m invalid non-printable character U+00A0\n"
     ]
    }
   ],
   "source": [
    "from IPython.core.interactiveshell import InteractiveShell \n",
    "InteractiveShell.ast_node_interactivity = \"all\""
   ]
  },
  {
   "cell_type": "markdown",
   "id": "1723caef-9911-483f-a294-1bc8c2d0f5e8",
   "metadata": {},
   "source": [
    "Studing the book *Structure and Interpretation of Computer Programs*. This studing belonging to the subject *[teach yourself computer science](https://teachyourselfcs.com/)*.\n",
    "\n",
    "This studing is the first topic of *[teach yourself computer science](https://teachyourselfcs.com/)*. The topic is **Programming**: Don’t be the person who “never quite understood” something like recursion."
   ]
  },
  {
   "attachments": {},
   "cell_type": "markdown",
   "id": "81c5217c-0839-4fc0-bf21-5036b8ec5ec3",
   "metadata": {},
   "source": [
    "Three attributes of programs: adequacy, consistency, correctness.\n",
    "\n",
    "idioms: We develop an arsenal of standard program structures of whose correctness we have become sure."
   ]
  },
  {
   "cell_type": "markdown",
   "id": "d27df5cd-6b82-4e80-9984-49dca647ffda",
   "metadata": {},
   "source": [
    "## Chapter 1 Building abstractions with procedures"
   ]
  },
  {
   "cell_type": "markdown",
   "id": "2a780643-89ab-405d-adc9-d437ef0d03d2",
   "metadata": {},
   "source": [
    "### The elements of programming"
   ]
  },
  {
   "cell_type": "markdown",
   "id": "2abe9d1d-2052-444c-876c-459aab87f11f",
   "metadata": {},
   "source": [
    "Study the idea of a computational process.\n",
    "\n",
    "Every powerful language has three *mechanisms* for accomplish combining simple ideas to form more complex ideas.\n",
    "\t- **primitive expressions**, which represent the simplest entities the language is concerned with,\n",
    "\t- **means of combination**, by which compound elements are built from simpler ones, and\n",
    "\t- **means of abstraction**, by which compound elements can be named and manipulated as units.\n",
    "\n",
    "In programming, we deal with two kinds of elements:\n",
    "\t- **procedures**\n",
    "\t- **data**\n",
    "\n",
    "expressions:\n",
    "\n",
    "One kind of primitive expression is a number:"
   ]
  },
  {
   "cell_type": "code",
   "execution_count": 26,
   "id": "f3357da7-3dd4-41e0-91c6-b8e123bc32c4",
   "metadata": {},
   "outputs": [
    {
     "data": {
      "text/plain": [
       "486"
      ]
     },
     "execution_count": 26,
     "metadata": {},
     "output_type": "execute_result"
    }
   ],
   "source": [
    "486"
   ]
  },
  {
   "cell_type": "code",
   "execution_count": 27,
   "id": "f549aaca-3e7b-4358-b16e-74831299ddaa",
   "metadata": {},
   "outputs": [
    {
     "data": {
      "text/plain": [
       "486"
      ]
     },
     "execution_count": 27,
     "metadata": {},
     "output_type": "execute_result"
    },
    {
     "data": {
      "text/plain": [
       "666"
      ]
     },
     "execution_count": 27,
     "metadata": {},
     "output_type": "execute_result"
    },
    {
     "data": {
      "text/plain": [
       "495"
      ]
     },
     "execution_count": 27,
     "metadata": {},
     "output_type": "execute_result"
    },
    {
     "data": {
      "text/plain": [
       "5.0"
      ]
     },
     "execution_count": 27,
     "metadata": {},
     "output_type": "execute_result"
    },
    {
     "data": {
      "text/plain": [
       "12.7"
      ]
     },
     "execution_count": 27,
     "metadata": {},
     "output_type": "execute_result"
    }
   ],
   "source": [
    "# form a compound expression that represents the application of the procedure to those numbers\n",
    "137 + 349\n",
    "1000 - 334\n",
    "\n",
    "5 * 99\n",
    "10 / 2\n",
    "\n",
    "(2.7 + 10)"
   ]
  },
  {
   "cell_type": "markdown",
   "id": "c69966a1-0daf-474d-8a85-956bc0baa9c9",
   "metadata": {},
   "source": [
    "Naming and the Environment"
   ]
  },
  {
   "cell_type": "code",
   "execution_count": 28,
   "id": "c5f843a9-5d58-4c6e-8639-9029bb468871",
   "metadata": {},
   "outputs": [
    {
     "data": {
      "text/plain": [
       "2"
      ]
     },
     "execution_count": 28,
     "metadata": {},
     "output_type": "execute_result"
    },
    {
     "data": {
      "text/plain": [
       "10"
      ]
     },
     "execution_count": 28,
     "metadata": {},
     "output_type": "execute_result"
    },
    {
     "data": {
      "text/plain": [
       "62.800000000000004"
      ]
     },
     "execution_count": 28,
     "metadata": {},
     "output_type": "execute_result"
    }
   ],
   "source": [
    "# define is the simplest means of abstraction\n",
    "a = 2\n",
    "a\n",
    "\n",
    "5 * a\n",
    "\n",
    "pi = 3.14\n",
    "radius = 10\n",
    "\n",
    "circum = (pi * 2 * radius)\n",
    "circum"
   ]
  },
  {
   "cell_type": "code",
   "execution_count": 29,
   "id": "b72a81c6-85ae-414e-bcad-c5ef53a73686",
   "metadata": {},
   "outputs": [
    {
     "data": {
      "text/plain": [
       "390"
      ]
     },
     "execution_count": 29,
     "metadata": {},
     "output_type": "execute_result"
    }
   ],
   "source": [
    "# recursion in nested combination\n",
    "(2 + (4 * 6)) * (3 + 5 + 7)"
   ]
  },
  {
   "cell_type": "markdown",
   "id": "a9335741-b10d-4b83-8ec9-d5e6b588cdd2",
   "metadata": {},
   "source": [
    "The purpose of the *define* is precisely to associate variable with a value. For example `a = 3`.\n",
    "\n",
    "THe various kinds of *expressions* (each with its associated evaluation rule) constitute the *syntax* of the programming language.\n",
    "\n",
    "Some of the elements that must appear in any powerful programming language:\n",
    "- Numbers and arithmetic operations are primitive data and procedures.\n",
    "- Nesting of combinations provides a means of combining operations.\n",
    "- Definitions that associate names with values provide a limited meands of abstraction."
   ]
  },
  {
   "cell_type": "markdown",
   "id": "1753630e-703f-47d9-89a6-28672d3bc262",
   "metadata": {},
   "source": [
    "*Procedure define* is a much more powerful absraction technique by which compound operation can be given a name and then referred to as a unit."
   ]
  },
  {
   "cell_type": "code",
   "execution_count": 30,
   "id": "e1f36d93-df7e-488c-95c5-bbf1ad224f1f",
   "metadata": {},
   "outputs": [
    {
     "name": "stdout",
     "output_type": "stream",
     "text": [
      "4\n",
      "49\n",
      "81\n"
     ]
    }
   ],
   "source": [
    "# procedure definitions\n",
    "def square(x):\n",
    "    return x * x\n",
    "\n",
    "print(square(2))\n",
    "print(square(2 + 5))\n",
    "print(square(square(3)))"
   ]
  },
  {
   "cell_type": "code",
   "execution_count": 31,
   "id": "7c8e9c3e-5b9c-43a6-a9a7-f34e9240686f",
   "metadata": {},
   "outputs": [
    {
     "data": {
      "text/plain": [
       "25"
      ]
     },
     "execution_count": 31,
     "metadata": {},
     "output_type": "execute_result"
    }
   ],
   "source": [
    "# use the define square as a building block in defining other procedures\n",
    "def sum_of_squares(x, y):\n",
    "    return square(x) + square(y)\n",
    "\n",
    "sum_of_squares(3, 4)"
   ]
  },
  {
   "cell_type": "code",
   "execution_count": 32,
   "id": "31bddba5-e39a-44dd-8c05-cd6513fb89dd",
   "metadata": {},
   "outputs": [
    {
     "data": {
      "text/plain": [
       "136"
      ]
     },
     "execution_count": 32,
     "metadata": {},
     "output_type": "execute_result"
    }
   ],
   "source": [
    "# use the sum_of_squares as a building block in constructing further procedures\n",
    "def f(a):\n",
    "    return sum_of_squares((a + 1), (a * 2))\n",
    "\n",
    "f(5)"
   ]
  },
  {
   "cell_type": "markdown",
   "id": "0b1ca886-a5c8-4a55-8ad3-69570b7e6181",
   "metadata": {},
   "source": [
    "*substitution model* for procedure application:\n",
    "- the purpose of the substition is to help us think about procedure application; in practice, the \"substitute\" is accomplished by using a local environment for the formal parameters\n",
    "- the substition model is only the first of implementation of an interpreter and compiler models"
   ]
  },
  {
   "cell_type": "code",
   "execution_count": 33,
   "id": "04c7aa52-3776-4962-a424-f33d523b8b56",
   "metadata": {},
   "outputs": [
    {
     "data": {
      "text/plain": [
       "3"
      ]
     },
     "execution_count": 33,
     "metadata": {},
     "output_type": "execute_result"
    }
   ],
   "source": [
    "# condition expression\n",
    "def absolute(x):\n",
    "    if x > 0:    # this is a predicate which an expression whose value is interpreted as either true or false?\n",
    "        return x\n",
    "    elif x == 0:\n",
    "        return 0\n",
    "    else:\n",
    "        return -x\n",
    "\n",
    "absolute(-3)"
   ]
  },
  {
   "cell_type": "code",
   "execution_count": 34,
   "id": "0002744d-02ad-40a0-ab2e-f9dc6e405cfb",
   "metadata": {},
   "outputs": [
    {
     "data": {
      "text/plain": [
       "10"
      ]
     },
     "execution_count": 34,
     "metadata": {},
     "output_type": "execute_result"
    },
    {
     "data": {
      "text/plain": [
       "12"
      ]
     },
     "execution_count": 34,
     "metadata": {},
     "output_type": "execute_result"
    },
    {
     "data": {
      "text/plain": [
       "8"
      ]
     },
     "execution_count": 34,
     "metadata": {},
     "output_type": "execute_result"
    },
    {
     "data": {
      "text/plain": [
       "3.0"
      ]
     },
     "execution_count": 34,
     "metadata": {},
     "output_type": "execute_result"
    },
    {
     "data": {
      "text/plain": [
       "6"
      ]
     },
     "execution_count": 34,
     "metadata": {},
     "output_type": "execute_result"
    },
    {
     "data": {
      "text/plain": [
       "19"
      ]
     },
     "execution_count": 34,
     "metadata": {},
     "output_type": "execute_result"
    },
    {
     "data": {
      "text/plain": [
       "False"
      ]
     },
     "execution_count": 34,
     "metadata": {},
     "output_type": "execute_result"
    },
    {
     "name": "stdout",
     "output_type": "stream",
     "text": [
      "4\n",
      "16\n",
      "6\n",
      "16\n"
     ]
    }
   ],
   "source": [
    "# exercise\n",
    "10\n",
    "5 + 3 + 4\n",
    "9 - 1\n",
    "6 / 2\n",
    "2 * 4 + (4 - 6)\n",
    "\n",
    "def a():\n",
    "    return 3\n",
    "\n",
    "def b():\n",
    "    return a() + 1\n",
    "\n",
    "a() + b() + a() * b()\n",
    "a() == b()\n",
    "\n",
    "if b() > a() and b() < (a() * b()):\n",
    "    print(b())\n",
    "else:\n",
    "    print(a())\n",
    "\n",
    "if a() == 4:\n",
    "    print(6)\n",
    "elif b() == 4:\n",
    "    print(6 + 7 + a())\n",
    "else:\n",
    "    print(25)\n",
    "\n",
    "if b() > a():\n",
    "    print(2 + b())\n",
    "else:\n",
    "    print(2 + a())\n",
    "\n",
    "if a() > b():\n",
    "    print(a() * (a() + 1))\n",
    "elif a() < b():\n",
    "    print(b() * (a() + 1))\n",
    "else:\n",
    "    print(-1 * (a() + 1))"
   ]
  },
  {
   "cell_type": "raw",
   "id": "7c8081b0-fc38-41fe-be22-acdafcd17392",
   "metadata": {},
   "source": [
    "# prefix form\n",
    "(/ (+ 5 4 (- 2 (- 3 (+ 6 / 4/5)))) (* 3 (- 6 2) (- 2 7)))"
   ]
  },
  {
   "cell_type": "code",
   "execution_count": 35,
   "id": "e9e213db-028f-4172-ba7c-74793bf5fdea",
   "metadata": {},
   "outputs": [
    {
     "name": "stdout",
     "output_type": "stream",
     "text": [
      "41\n"
     ]
    }
   ],
   "source": [
    "# a procedure\n",
    "def sum_large_square(num, num1, num2):\n",
    "    # find the two large numbers\n",
    "    largest = max(num, num1, num2)\n",
    "    if num == largest:\n",
    "        second_largest = max(num1, num2)\n",
    "    elif num1 == largest:\n",
    "        second_largest = max(num, num2)\n",
    "    else:\n",
    "        second_largest = max(num, num1)\n",
    "\n",
    "    # caculate the sum of their squares\n",
    "    return largest**2 + second_largest**2\n",
    "\n",
    "print(sum_large_square(3, 4, 5))"
   ]
  },
  {
   "cell_type": "code",
   "execution_count": 36,
   "id": "b9ba73ec-db68-4b4b-80ff-281ce4323eb0",
   "metadata": {},
   "outputs": [
    {
     "data": {
      "text/plain": [
       "7"
      ]
     },
     "execution_count": 36,
     "metadata": {},
     "output_type": "execute_result"
    },
    {
     "data": {
      "text/plain": [
       "7"
      ]
     },
     "execution_count": 36,
     "metadata": {},
     "output_type": "execute_result"
    }
   ],
   "source": [
    "def a_plus_abs_b(a, b):\n",
    "    if b > 0:\n",
    "        return a + b\n",
    "    else:\n",
    "        return a - b\n",
    "\n",
    "a_plus_abs_b(3, 4)\n",
    "a_plus_abs_b(3, -4)"
   ]
  },
  {
   "cell_type": "code",
   "execution_count": 37,
   "id": "e15132b3-87fb-43cc-a978-cee89f5cb45c",
   "metadata": {},
   "outputs": [
    {
     "data": {
      "text/plain": [
       "3"
      ]
     },
     "execution_count": 37,
     "metadata": {},
     "output_type": "execute_result"
    }
   ],
   "source": [
    "def test(x, y):\n",
    "    if x == 0:\n",
    "        return 0\n",
    "    else:\n",
    "        return y\n",
    "\n",
    "test(1, 3)"
   ]
  },
  {
   "cell_type": "code",
   "execution_count": 38,
   "id": "4e33e6fc-929d-4d5f-93b0-a711c9b24b9e",
   "metadata": {},
   "outputs": [
    {
     "name": "stdout",
     "output_type": "stream",
     "text": [
      "Help on built-in function sqrt in module math:\n",
      "\n",
      "sqrt(x, /)\n",
      "    Return the square root of x.\n",
      "\n"
     ]
    },
    {
     "data": {
      "text/plain": [
       "1.4142135623730951"
      ]
     },
     "execution_count": 38,
     "metadata": {},
     "output_type": "execute_result"
    }
   ],
   "source": [
    "import math\n",
    "\n",
    "help(math.sqrt)\n",
    "\n",
    "math.sqrt(2)"
   ]
  },
  {
   "cell_type": "code",
   "execution_count": 39,
   "id": "38dcb7f3-9ffb-4c57-b379-438f1b30ba2f",
   "metadata": {},
   "outputs": [
    {
     "data": {
      "text/plain": [
       "4"
      ]
     },
     "execution_count": 39,
     "metadata": {},
     "output_type": "execute_result"
    }
   ],
   "source": [
    "# square function\n",
    "def square(num):\n",
    "    return num * num\n",
    "\n",
    "square(2)"
   ]
  },
  {
   "cell_type": "markdown",
   "id": "016411fd-4c9b-4717-a2c5-3c27ec5010b9",
   "metadata": {},
   "source": [
    "In a procedure definition, the bound variables declared as the formal parameters of the procedure have the *body of the procedure* as their *scope*."
   ]
  },
  {
   "cell_type": "markdown",
   "id": "70d54438-f0b8-4342-b41a-c43c16d1424e",
   "metadata": {},
   "source": [
    "### Procedures and the processes they generate"
   ]
  },
  {
   "cell_type": "markdown",
   "id": "d46cae60-619f-4653-b701-e3d1190e70ac",
   "metadata": {},
   "source": [
    "The ability to *visualize the consequences of the actions* under consideration is crucial to becoming an *expert programmer*, just as it is in any synthetic, creative activity.\n",
    "\n",
    "To become experts, we must learn to *visualize the processes* generated by various types of procedures. Only after we have developed such a skill can we learn to reliably construct programs that exhibit the *desired behavior*."
   ]
  },
  {
   "cell_type": "markdown",
   "id": "29063b6a-076e-473f-b047-30311769f8c9",
   "metadata": {},
   "source": [
    "A procedure is a pattern for the *local evolution* of a computational process. It specifies how each stage of the process is built upon the previous stage."
   ]
  },
  {
   "cell_type": "markdown",
   "id": "a1c94afe-3c8b-464c-bf9d-d09ea0f0b768",
   "metadata": {},
   "source": [
    "#### Linear Recursion and Iteration"
   ]
  },
  {
   "cell_type": "markdown",
   "id": "ec1d215f-cabc-4ff9-a7f1-487ea3e6e3d0",
   "metadata": {},
   "source": [
    "consider the *factorial function*, defined by\n",
    "```code\n",
    "n! = n(n-1)(n-2)...3*2*1\n",
    "```\n",
    "One way to compute this is to decompose `n!` into `n(n-1)`, then to decompose `n(n-1)` into `n(n-1)(n-2)!`...so on and so an...\n",
    "\n",
    "like this:\n",
    "```Python\n",
    "def factorial(n):\n",
    "    if n == 1:\n",
    "        return 1\n",
    "    if n > 1:\n",
    "        return n * factorial(n - 1)\n",
    "```"
   ]
  },
  {
   "cell_type": "code",
   "execution_count": 40,
   "id": "6f17963e-a411-4972-b25e-7b6eb797d0ab",
   "metadata": {},
   "outputs": [
    {
     "data": {
      "text/plain": [
       "720"
      ]
     },
     "execution_count": 40,
     "metadata": {},
     "output_type": "execute_result"
    }
   ],
   "source": [
    "def factorial(n):\n",
    "    if n == 1:\n",
    "        return 1\n",
    "    if n > 1:\n",
    "        return n * factorial(n - 1)\n",
    "\n",
    "factorial(6)"
   ]
  },
  {
   "cell_type": "markdown",
   "id": "a1f1edb2-dc41-4a79-8d41-00c4ec7bb661",
   "metadata": {},
   "source": [
    "The function *factorial(6)* procedure actually implements like this:\n",
    "```code\n",
    "(factorial 6)\n",
    "(* 6 (factorial 5))\n",
    "(* 6 (* 5 (factorial 4)))\n",
    "(* 6 (* 5 (* 4 (factorial 3))))\n",
    "(* 6 (* 5 (* 4 (* 3 (factorial 2)))))\n",
    "(* 6 (* 5 (* 4 (* 3 (* 2 (factorial 1))))))\n",
    "(* 6 (* 5 (* 4 (* 3 (* 2 1)))))\n",
    "(* 6 (* 5 (* 4 (* 3 2))))\n",
    "(* 6 (* 5 (* 4 6)))\n",
    "(* 6 (* 5 24))\n",
    "(* 6 120)\n",
    "720 \n",
    "```\n",
    "This is a *linear recursive process* for computing 6!."
   ]
  },
  {
   "cell_type": "code",
   "execution_count": 41,
   "id": "9cf068ab-064d-4c00-ad0e-1406114bb486",
   "metadata": {},
   "outputs": [
    {
     "data": {
      "text/plain": [
       "720"
      ]
     },
     "execution_count": 41,
     "metadata": {},
     "output_type": "execute_result"
    }
   ],
   "source": [
    "# A different perspective on computing factorial\n",
    "def factorial_n(n):\n",
    "    product = 1\n",
    "    counter = 1\n",
    "    if n == 1:\n",
    "        return 1\n",
    "    while counter < n:    # supplies the interpreter with the values of the three program variables\n",
    "        counter += 1\n",
    "        product *= counter\n",
    "    return product\n",
    "\n",
    "\n",
    "factorial_n(6)"
   ]
  },
  {
   "cell_type": "markdown",
   "id": "1af40ced-3291-4b75-a913-010c86c4e60d",
   "metadata": {},
   "source": [
    "This is much more like:\n",
    "```code\n",
    "factorial_n(6)\n",
    "counter = 2\n",
    "product = 1 * 2\n",
    "product = 2 * 3\n",
    "product = 6 * 4\n",
    "product = 24 * 5\n",
    "product = 120 * 6\n",
    "720\n",
    "```\n",
    "\n",
    "This is an *iterative process* for computing 6!. The number of steps required grows linearly with an variable, such a process called a *linear iterative process*."
   ]
  },
  {
   "cell_type": "code",
   "execution_count": 42,
   "id": "48255294-ade6-4145-96e9-f135e9c3bc29",
   "metadata": {},
   "outputs": [
    {
     "data": {
      "text/plain": [
       "0"
      ]
     },
     "execution_count": 42,
     "metadata": {},
     "output_type": "execute_result"
    },
    {
     "data": {
      "text/plain": [
       "1"
      ]
     },
     "execution_count": 42,
     "metadata": {},
     "output_type": "execute_result"
    },
    {
     "data": {
      "text/plain": [
       "1"
      ]
     },
     "execution_count": 42,
     "metadata": {},
     "output_type": "execute_result"
    },
    {
     "data": {
      "text/plain": [
       "2"
      ]
     },
     "execution_count": 42,
     "metadata": {},
     "output_type": "execute_result"
    },
    {
     "data": {
      "text/plain": [
       "3"
      ]
     },
     "execution_count": 42,
     "metadata": {},
     "output_type": "execute_result"
    },
    {
     "data": {
      "text/plain": [
       "5"
      ]
     },
     "execution_count": 42,
     "metadata": {},
     "output_type": "execute_result"
    }
   ],
   "source": [
    "# Tree recursion, does too much redundant computation\n",
    "def fib(n):\n",
    "    if n == 0:\n",
    "        return 0\n",
    "    if n == 1:\n",
    "        return 1\n",
    "    return fib(n - 1) + fib(n -2)\n",
    "\n",
    "fib(0)\n",
    "fib(1)\n",
    "fib(2)\n",
    "fib(3)\n",
    "fib(4)\n",
    "fib(5)"
   ]
  },
  {
   "cell_type": "code",
   "execution_count": 43,
   "id": "bd3eace4-a7a0-4947-8ba9-3c35291eb26a",
   "metadata": {},
   "outputs": [
    {
     "data": {
      "text/plain": [
       "1"
      ]
     },
     "execution_count": 43,
     "metadata": {},
     "output_type": "execute_result"
    },
    {
     "data": {
      "text/plain": [
       "4"
      ]
     },
     "execution_count": 43,
     "metadata": {},
     "output_type": "execute_result"
    },
    {
     "data": {
      "text/plain": [
       "16"
      ]
     },
     "execution_count": 43,
     "metadata": {},
     "output_type": "execute_result"
    }
   ],
   "source": [
    "# Exponentiation, translates into the procedure\n",
    "# This version requires O(n) steps and O(n) space\n",
    "def expt(base, num):\n",
    "    if num == 0:\n",
    "        return 1\n",
    "    return base * expt(base, num - 1)\n",
    "\n",
    "expt(4, 0)\n",
    "expt(4, 1)\n",
    "expt(4, 2)"
   ]
  },
  {
   "cell_type": "code",
   "execution_count": 44,
   "id": "f3e1e313-35b2-4e37-9a87-42030793998d",
   "metadata": {},
   "outputs": [
    {
     "data": {
      "text/plain": [
       "1"
      ]
     },
     "execution_count": 44,
     "metadata": {},
     "output_type": "execute_result"
    },
    {
     "data": {
      "text/plain": [
       "4"
      ]
     },
     "execution_count": 44,
     "metadata": {},
     "output_type": "execute_result"
    },
    {
     "data": {
      "text/plain": [
       "16"
      ]
     },
     "execution_count": 44,
     "metadata": {},
     "output_type": "execute_result"
    }
   ],
   "source": [
    "# Readily formulate an equivalent linear iteration with factorial\n",
    "# This version requires O(n) steps and O(1) space\n",
    "def expt_iter(base, counter, product):\n",
    "    if counter == 0:\n",
    "        return product\n",
    "    return expt_iter(base, counter - 1, base * product)\n",
    "\n",
    "def expt(base, num):\n",
    "    return expt_iter(base, num, 1)\n",
    "\n",
    "expt(4, 0)\n",
    "expt(4, 1)\n",
    "expt(4, 2)"
   ]
  },
  {
   "cell_type": "code",
   "execution_count": 45,
   "id": "04de5815-e08f-44f1-8263-0c47a18d8e1d",
   "metadata": {},
   "outputs": [
    {
     "data": {
      "text/plain": [
       "16"
      ]
     },
     "execution_count": 45,
     "metadata": {},
     "output_type": "execute_result"
    },
    {
     "data": {
      "text/plain": [
       "64"
      ]
     },
     "execution_count": 45,
     "metadata": {},
     "output_type": "execute_result"
    }
   ],
   "source": [
    "# Exponents that are powers of 2\n",
    "# This grows logarithmically with n in both space and number of steps\n",
    "# The process has O(log n) growth\n",
    "def fast_expt(base, num):\n",
    "    if num == 0:\n",
    "        return 1\n",
    "    if num % 2 == 0:    # test if num is an even number \n",
    "        return fast_expt(base, num / 2) * fast_expt(base, num / 2)\n",
    "    else:\n",
    "        return base * fast_expt(base, (num - 1))\n",
    "\n",
    "fast_expt(4, 2)\n",
    "fast_expt(4, 3)"
   ]
  },
  {
   "cell_type": "code",
   "execution_count": 46,
   "id": "4e9e0eb1-e4e3-49d8-a07c-7b0fdfdb2312",
   "metadata": {},
   "outputs": [
    {
     "data": {
      "application/json": {
       "cell": {
        "!": "OSMagics",
        "HTML": "Other",
        "SVG": "Other",
        "bash": "Other",
        "capture": "ExecutionMagics",
        "debug": "ExecutionMagics",
        "file": "Other",
        "html": "DisplayMagics",
        "javascript": "DisplayMagics",
        "js": "DisplayMagics",
        "latex": "DisplayMagics",
        "markdown": "DisplayMagics",
        "perl": "Other",
        "prun": "ExecutionMagics",
        "pypy": "Other",
        "python": "Other",
        "python2": "Other",
        "python3": "Other",
        "ruby": "Other",
        "script": "ScriptMagics",
        "sh": "Other",
        "svg": "DisplayMagics",
        "sx": "OSMagics",
        "system": "OSMagics",
        "time": "ExecutionMagics",
        "timeit": "ExecutionMagics",
        "writefile": "OSMagics"
       },
       "line": {
        "alias": "OSMagics",
        "alias_magic": "BasicMagics",
        "autoawait": "AsyncMagics",
        "autocall": "AutoMagics",
        "automagic": "AutoMagics",
        "autosave": "KernelMagics",
        "bookmark": "OSMagics",
        "cat": "Other",
        "cd": "OSMagics",
        "clear": "KernelMagics",
        "colors": "BasicMagics",
        "conda": "PackagingMagics",
        "config": "ConfigMagics",
        "connect_info": "KernelMagics",
        "cp": "Other",
        "debug": "ExecutionMagics",
        "dhist": "OSMagics",
        "dirs": "OSMagics",
        "doctest_mode": "BasicMagics",
        "ed": "Other",
        "edit": "KernelMagics",
        "env": "OSMagics",
        "gui": "BasicMagics",
        "hist": "Other",
        "history": "HistoryMagics",
        "killbgscripts": "ScriptMagics",
        "ldir": "Other",
        "less": "KernelMagics",
        "lf": "Other",
        "lk": "Other",
        "ll": "Other",
        "load": "CodeMagics",
        "load_ext": "ExtensionMagics",
        "loadpy": "CodeMagics",
        "logoff": "LoggingMagics",
        "logon": "LoggingMagics",
        "logstart": "LoggingMagics",
        "logstate": "LoggingMagics",
        "logstop": "LoggingMagics",
        "ls": "Other",
        "lsmagic": "BasicMagics",
        "lx": "Other",
        "macro": "ExecutionMagics",
        "magic": "BasicMagics",
        "man": "KernelMagics",
        "matplotlib": "PylabMagics",
        "mkdir": "Other",
        "more": "KernelMagics",
        "mv": "Other",
        "notebook": "BasicMagics",
        "page": "BasicMagics",
        "pastebin": "CodeMagics",
        "pdb": "ExecutionMagics",
        "pdef": "NamespaceMagics",
        "pdoc": "NamespaceMagics",
        "pfile": "NamespaceMagics",
        "pinfo": "NamespaceMagics",
        "pinfo2": "NamespaceMagics",
        "pip": "PackagingMagics",
        "popd": "OSMagics",
        "pprint": "BasicMagics",
        "precision": "BasicMagics",
        "prun": "ExecutionMagics",
        "psearch": "NamespaceMagics",
        "psource": "NamespaceMagics",
        "pushd": "OSMagics",
        "pwd": "OSMagics",
        "pycat": "OSMagics",
        "pylab": "PylabMagics",
        "qtconsole": "KernelMagics",
        "quickref": "BasicMagics",
        "recall": "HistoryMagics",
        "rehashx": "OSMagics",
        "reload_ext": "ExtensionMagics",
        "rep": "Other",
        "rerun": "HistoryMagics",
        "reset": "NamespaceMagics",
        "reset_selective": "NamespaceMagics",
        "rm": "Other",
        "rmdir": "Other",
        "run": "ExecutionMagics",
        "save": "CodeMagics",
        "sc": "OSMagics",
        "set_env": "OSMagics",
        "store": "StoreMagics",
        "sx": "OSMagics",
        "system": "OSMagics",
        "tb": "ExecutionMagics",
        "time": "ExecutionMagics",
        "timeit": "ExecutionMagics",
        "unalias": "OSMagics",
        "unload_ext": "ExtensionMagics",
        "who": "NamespaceMagics",
        "who_ls": "NamespaceMagics",
        "whos": "NamespaceMagics",
        "xdel": "NamespaceMagics",
        "xmode": "BasicMagics"
       }
      },
      "text/plain": [
       "Available line magics:\n",
       "%alias  %alias_magic  %autoawait  %autocall  %automagic  %autosave  %bookmark  %cat  %cd  %clear  %colors  %conda  %config  %connect_info  %cp  %debug  %dhist  %dirs  %doctest_mode  %ed  %edit  %env  %gui  %hist  %history  %killbgscripts  %ldir  %less  %lf  %lk  %ll  %load  %load_ext  %loadpy  %logoff  %logon  %logstart  %logstate  %logstop  %ls  %lsmagic  %lx  %macro  %magic  %man  %matplotlib  %mkdir  %more  %mv  %notebook  %page  %pastebin  %pdb  %pdef  %pdoc  %pfile  %pinfo  %pinfo2  %pip  %popd  %pprint  %precision  %prun  %psearch  %psource  %pushd  %pwd  %pycat  %pylab  %qtconsole  %quickref  %recall  %rehashx  %reload_ext  %rep  %rerun  %reset  %reset_selective  %rm  %rmdir  %run  %save  %sc  %set_env  %store  %sx  %system  %tb  %time  %timeit  %unalias  %unload_ext  %who  %who_ls  %whos  %xdel  %xmode\n",
       "\n",
       "Available cell magics:\n",
       "%%!  %%HTML  %%SVG  %%bash  %%capture  %%debug  %%file  %%html  %%javascript  %%js  %%latex  %%markdown  %%perl  %%prun  %%pypy  %%python  %%python2  %%python3  %%ruby  %%script  %%sh  %%svg  %%sx  %%system  %%time  %%timeit  %%writefile\n",
       "\n",
       "Automagic is ON, % prefix IS NOT needed for line magics."
      ]
     },
     "execution_count": 46,
     "metadata": {},
     "output_type": "execute_result"
    }
   ],
   "source": [
    "%lsmagic"
   ]
  },
  {
   "cell_type": "code",
   "execution_count": 47,
   "id": "ff03beb9-b747-44e6-9cba-5324c5b2e9d7",
   "metadata": {},
   "outputs": [
    {
     "data": {
      "text/plain": [
       "20"
      ]
     },
     "execution_count": 47,
     "metadata": {},
     "output_type": "execute_result"
    },
    {
     "data": {
      "text/plain": [
       "3"
      ]
     },
     "execution_count": 47,
     "metadata": {},
     "output_type": "execute_result"
    }
   ],
   "source": [
    "# Integer multiplication by means of repeated addition\n",
    "def multiply(a, b):\n",
    "    if b == 0:\n",
    "        return 0\n",
    "    return a + multiply(a, (b - 1))\n",
    "\n",
    "multiply(2, 10)\n",
    "\n",
    "# Integer division by means of repeated subtraction\n",
    "def division(a, b):\n",
    "    if b == 0:\n",
    "        return None\n",
    "    count = 0\n",
    "    while a >= b:\n",
    "        a -= b\n",
    "        count += 1\n",
    "    return count\n",
    "\n",
    "division(9, 3)"
   ]
  },
  {
   "cell_type": "markdown",
   "id": "b1ad73ff-c867-45c4-a7ea-b89adf70fd35",
   "metadata": {},
   "source": [
    "The greatest common divisor (GCD)：最大公约数\n",
    "rational-number：有理数\n",
    "dividend：被除数\n",
    "divisor：除数\n",
    "quotient：相除商\n",
    "remainder：余数\n",
    "numerator：分子\n",
    "denominator：分母\n",
    "\n",
    "If *r* is the remainder when *a* is divided by *b*, then the common divisors of *a* and *b* are precisely the same as the common divisors of *b* and *r*. Thus, we can use the equation\n",
    "```bash\n",
    "GCD(a, b) = GCD(b, r)\n",
    "```\n",
    "to successively reduce the problem of computing a GCD to the problem of computing the GCD of smaller and smaller pairs of integers. For example,\n",
    "```bash\n",
    "GCD(206, 40) = GCD(40, 6)\n",
    "             = GCD(6, 4)\n",
    "             = GCD(4, 2)\n",
    "             = GCD(2, 0) = 2\n",
    "```\n",
    "reduces GCD(206, 40) to GCD(2, 0), which is 2.\n",
    "\n",
    "It is possible to show that starting with any two positive integers and performing repeated reductions will always eventually produce a pair where the second number is *0*. Then the GCD is *the other number* in the pair. This method for computing the GCD is known as *Euclid's Algorithm*."
   ]
  },
  {
   "cell_type": "code",
   "execution_count": 48,
   "id": "1ed4196e-c505-44cc-b355-338e1fb99976",
   "metadata": {},
   "outputs": [
    {
     "data": {
      "text/plain": [
       "1"
      ]
     },
     "execution_count": 48,
     "metadata": {},
     "output_type": "execute_result"
    }
   ],
   "source": [
    "# Express Euclid's Algorithm as a procedure\n",
    "def gcd(a, b):\n",
    "    if b == 0:\n",
    "        return a\n",
    "    return gcd(b, a % b)\n",
    "\n",
    "gcd(12, 5)"
   ]
  }
 ],
 "metadata": {
  "kernelspec": {
   "display_name": "Python 3 (ipykernel)",
   "language": "python",
   "name": "python3"
  },
  "language_info": {
   "codemirror_mode": {
    "name": "ipython",
    "version": 3
   },
   "file_extension": ".py",
   "mimetype": "text/x-python",
   "name": "python",
   "nbconvert_exporter": "python",
   "pygments_lexer": "ipython3",
   "version": "3.11.3"
  }
 },
 "nbformat": 4,
 "nbformat_minor": 5
}
